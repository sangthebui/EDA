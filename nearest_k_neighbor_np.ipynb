{
 "cells": [
  {
   "cell_type": "markdown",
   "id": "8fd458fd",
   "metadata": {},
   "source": [
    "# K-Nearest Neighbors in a dataset\n",
    "- The goal is to find the K closest data points to a new point without the overhead of sorting the entire dataset. argpartition is perfect for this because it's much faster than a full sort.\n",
    "- Imagine you have the coordinates of hundreds of cafes, and you want to find the 3 closest cafes to your current location. You don't care which of the three is the absolute closest, you just need to identify the top three."
   ]
  },
  {
   "cell_type": "code",
   "execution_count": 1,
   "id": "4b44d654",
   "metadata": {},
   "outputs": [],
   "source": [
    "import numpy as np"
   ]
  },
  {
   "cell_type": "code",
   "execution_count": 2,
   "id": "2fc34e11",
   "metadata": {},
   "outputs": [
    {
     "name": "stdout",
     "output_type": "stream",
     "text": [
      "[[51 92]\n",
      " [14 71]\n",
      " [60 20]\n",
      " [82 86]\n",
      " [74 74]\n",
      " [87 99]\n",
      " [23  2]\n",
      " [21 52]\n",
      " [ 1 87]\n",
      " [29 37]\n",
      " [ 1 63]\n",
      " [59 20]\n",
      " [32 75]\n",
      " [57 21]\n",
      " [88 48]\n",
      " [90 58]\n",
      " [41 91]\n",
      " [59 79]\n",
      " [14 61]\n",
      " [61 46]]\n"
     ]
    }
   ],
   "source": [
    "# create random coordinates\n",
    "np.random.seed(42)\n",
    "cafes = np.random.randint(0, 100, size=(20, 2))\n",
    "print(cafes)"
   ]
  },
  {
   "cell_type": "code",
   "execution_count": 3,
   "id": "32449af4",
   "metadata": {},
   "outputs": [],
   "source": [
    "# current location\n",
    "my_location = np.array([50, 50])"
   ]
  },
  {
   "cell_type": "code",
   "execution_count": 4,
   "id": "c1c2326d",
   "metadata": {},
   "outputs": [
    {
     "name": "stdout",
     "output_type": "stream",
     "text": [
      "[1765 1737 1000 2320 1152 3770 3033  845 3770  610 2570  981  949  890\n",
      " 1448 1664 1762  922 1417  137]\n"
     ]
    }
   ],
   "source": [
    "# Step 1: calculate the distance to all cafes\n",
    "# Euclidean distance\n",
    "distances_sq = np.sum((cafes - my_location)**2, axis=1)\n",
    "print(distances_sq)"
   ]
  },
  {
   "cell_type": "code",
   "execution_count": 5,
   "id": "ad9a19cb",
   "metadata": {},
   "outputs": [
    {
     "name": "stdout",
     "output_type": "stream",
     "text": [
      "[19  9  7 13 17 12 11  2  4 18 14 15  1 16  0  3 10  6  8  5]\n"
     ]
    }
   ],
   "source": [
    "# Find the top 3 \n",
    "k = 3\n",
    "closest_indices = np.argpartition(distances_sq, k)\n",
    "print(closest_indices)"
   ]
  },
  {
   "cell_type": "code",
   "execution_count": 7,
   "id": "7f783319",
   "metadata": {},
   "outputs": [
    {
     "name": "stdout",
     "output_type": "stream",
     "text": [
      "[19  9  7]\n"
     ]
    }
   ],
   "source": [
    "top_K_indices = closest_indices[:k]\n",
    "print(top_K_indices)"
   ]
  },
  {
   "cell_type": "code",
   "execution_count": 8,
   "id": "ead4f9b2",
   "metadata": {},
   "outputs": [
    {
     "data": {
      "text/plain": [
       "array([[61, 46],\n",
       "       [29, 37],\n",
       "       [21, 52]], dtype=int32)"
      ]
     },
     "execution_count": 8,
     "metadata": {},
     "output_type": "execute_result"
    }
   ],
   "source": [
    "cafes[top_K_indices]"
   ]
  },
  {
   "cell_type": "code",
   "execution_count": null,
   "id": "3550f868",
   "metadata": {},
   "outputs": [],
   "source": []
  }
 ],
 "metadata": {
  "kernelspec": {
   "display_name": "Python 3",
   "language": "python",
   "name": "python3"
  },
  "language_info": {
   "codemirror_mode": {
    "name": "ipython",
    "version": 3
   },
   "file_extension": ".py",
   "mimetype": "text/x-python",
   "name": "python",
   "nbconvert_exporter": "python",
   "pygments_lexer": "ipython3",
   "version": "3.13.5"
  }
 },
 "nbformat": 4,
 "nbformat_minor": 5
}
