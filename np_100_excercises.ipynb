{
 "cells": [
  {
   "cell_type": "markdown",
   "id": "c17e0a0b",
   "metadata": {},
   "source": [
    "# 100 excercises in Numpy\n",
    "- got the idea from this github: https://github.com/rougier/numpy-100"
   ]
  },
  {
   "cell_type": "code",
   "execution_count": 2,
   "id": "27f20278",
   "metadata": {},
   "outputs": [],
   "source": [
    "import numpy as np"
   ]
  },
  {
   "cell_type": "markdown",
   "id": "2f4e210b",
   "metadata": {},
   "source": [
    "#### 1. Create a numpy array"
   ]
  },
  {
   "cell_type": "code",
   "execution_count": 5,
   "id": "431bd63a",
   "metadata": {},
   "outputs": [],
   "source": [
    "a = np.arange(15).reshape(3, 5)"
   ]
  },
  {
   "cell_type": "code",
   "execution_count": 6,
   "id": "594d6bbe",
   "metadata": {},
   "outputs": [
    {
     "name": "stdout",
     "output_type": "stream",
     "text": [
      "[[ 0  1  2  3  4]\n",
      " [ 5  6  7  8  9]\n",
      " [10 11 12 13 14]]\n"
     ]
    }
   ],
   "source": [
    "print(a)"
   ]
  },
  {
   "cell_type": "markdown",
   "id": "24db603d",
   "metadata": {},
   "source": [
    "#### 2. Find the shape of an numpy array"
   ]
  },
  {
   "cell_type": "code",
   "execution_count": 7,
   "id": "76643e72",
   "metadata": {},
   "outputs": [
    {
     "data": {
      "text/plain": [
       "(3, 5)"
      ]
     },
     "execution_count": 7,
     "metadata": {},
     "output_type": "execute_result"
    }
   ],
   "source": [
    "a.shape"
   ]
  },
  {
   "cell_type": "markdown",
   "id": "19d38079",
   "metadata": {},
   "source": [
    "#### 3. Find the dimension and data type of a numpy array"
   ]
  },
  {
   "cell_type": "code",
   "execution_count": 8,
   "id": "4316c8f5",
   "metadata": {},
   "outputs": [
    {
     "data": {
      "text/plain": [
       "2"
      ]
     },
     "execution_count": 8,
     "metadata": {},
     "output_type": "execute_result"
    }
   ],
   "source": [
    "a.ndim"
   ]
  },
  {
   "cell_type": "code",
   "execution_count": 9,
   "id": "e6bff1aa",
   "metadata": {},
   "outputs": [
    {
     "data": {
      "text/plain": [
       "'int64'"
      ]
     },
     "execution_count": 9,
     "metadata": {},
     "output_type": "execute_result"
    }
   ],
   "source": [
    "a.dtype.name"
   ]
  },
  {
   "cell_type": "markdown",
   "id": "41afe081",
   "metadata": {},
   "source": [
    "#### 4. How to find the memory size of any array"
   ]
  },
  {
   "cell_type": "code",
   "execution_count": 10,
   "id": "7364c4be",
   "metadata": {},
   "outputs": [
    {
     "data": {
      "text/plain": [
       "15"
      ]
     },
     "execution_count": 10,
     "metadata": {},
     "output_type": "execute_result"
    }
   ],
   "source": [
    "a.size"
   ]
  },
  {
   "cell_type": "markdown",
   "id": "d152508b",
   "metadata": {},
   "source": [
    "# Printing arrays\n",
    "#### When you print an array, NumPy displays it in a similar way to nested lists, but with the following layout:\n",
    "\n",
    "- the last axis is printed from left to right,\n",
    "\n",
    "- the second-to-last is printed from top to bottom,\n",
    "\n",
    "- the rest are also printed from top to bottom, with each slice separated from the next by an empty line.\n",
    "- If an array is too large to be printed, NumPy automatically skips the central part of the array and only prints the corners:\n",
    "\n",
    "#### One-dimensional arrays are then printed as rows, bidimensionals as matrices and tridimensionals as lists of matrices."
   ]
  },
  {
   "cell_type": "code",
   "execution_count": 11,
   "id": "943c88a5",
   "metadata": {},
   "outputs": [
    {
     "name": "stdout",
     "output_type": "stream",
     "text": [
      "[0 1 2 3 4]\n"
     ]
    }
   ],
   "source": [
    "print(np.arange(5)) # 1d array"
   ]
  },
  {
   "cell_type": "code",
   "execution_count": 12,
   "id": "4251fcad",
   "metadata": {},
   "outputs": [
    {
     "name": "stdout",
     "output_type": "stream",
     "text": [
      "[[0 1 2]\n",
      " [3 4 5]]\n"
     ]
    }
   ],
   "source": [
    "print(np.arange(6).reshape(2, 3)) # 2d array"
   ]
  },
  {
   "cell_type": "code",
   "execution_count": 13,
   "id": "94e0bee9",
   "metadata": {},
   "outputs": [
    {
     "name": "stdout",
     "output_type": "stream",
     "text": [
      "[[[ 0  1  2  3]\n",
      "  [ 4  5  6  7]]\n",
      "\n",
      " [[ 8  9 10 11]\n",
      "  [12 13 14 15]]\n",
      "\n",
      " [[16 17 18 19]\n",
      "  [20 21 22 23]]]\n"
     ]
    }
   ],
   "source": [
    "print(np.arange(24).reshape(3, 2, 4)) # 3d array"
   ]
  },
  {
   "cell_type": "code",
   "execution_count": 14,
   "id": "e7f062f0",
   "metadata": {},
   "outputs": [
    {
     "data": {
      "text/plain": [
       "(1, 3)"
      ]
     },
     "execution_count": 14,
     "metadata": {},
     "output_type": "execute_result"
    }
   ],
   "source": [
    "np.atleast_2d([2, 3, 4]).shape"
   ]
  },
  {
   "cell_type": "code",
   "execution_count": 15,
   "id": "6e48db08",
   "metadata": {},
   "outputs": [
    {
     "data": {
      "text/plain": [
       "<module 'numpy.core' from 'c:\\\\Users\\\\thotc\\\\AppData\\\\Local\\\\Programs\\\\Python\\\\Python313\\\\Lib\\\\site-packages\\\\numpy\\\\core\\\\__init__.py'>"
      ]
     },
     "execution_count": 15,
     "metadata": {},
     "output_type": "execute_result"
    }
   ],
   "source": [
    "np.core # where np is located"
   ]
  },
  {
   "cell_type": "markdown",
   "id": "53b362b2",
   "metadata": {},
   "source": [
    "#### 5. Get documentation on a function"
   ]
  },
  {
   "cell_type": "code",
   "execution_count": 16,
   "id": "1e21db44",
   "metadata": {},
   "outputs": [
    {
     "name": "stdout",
     "output_type": "stream",
     "text": [
      "add(x1, x2, /, out=None, *, where=True, casting='same_kind', order='K', dtype=None, subok=True[, signature])\n",
      "\n",
      "Add arguments element-wise.\n",
      "\n",
      "Parameters\n",
      "----------\n",
      "x1, x2 : array_like\n",
      "    The arrays to be added.\n",
      "    If ``x1.shape != x2.shape``, they must be broadcastable to a common\n",
      "    shape (which becomes the shape of the output).\n",
      "out : ndarray, None, or tuple of ndarray and None, optional\n",
      "    A location into which the result is stored. If provided, it must have\n",
      "    a shape that the inputs broadcast to. If not provided or None,\n",
      "    a freshly-allocated array is returned. A tuple (possible only as a\n",
      "    keyword argument) must have length equal to the number of outputs.\n",
      "where : array_like, optional\n",
      "    This condition is broadcast over the input. At locations where the\n",
      "    condition is True, the `out` array will be set to the ufunc result.\n",
      "    Elsewhere, the `out` array will retain its original value.\n",
      "    Note that if an uninitialized `out` array is created via the default\n",
      "    ``out=None``, locations within it where the condition is False will\n",
      "    remain uninitialized.\n",
      "**kwargs\n",
      "    For other keyword-only arguments, see the\n",
      "    :ref:`ufunc docs <ufuncs.kwargs>`.\n",
      "\n",
      "Returns\n",
      "-------\n",
      "add : ndarray or scalar\n",
      "    The sum of `x1` and `x2`, element-wise.\n",
      "    This is a scalar if both `x1` and `x2` are scalars.\n",
      "\n",
      "Notes\n",
      "-----\n",
      "Equivalent to `x1` + `x2` in terms of array broadcasting.\n",
      "\n",
      "Examples\n",
      "--------\n",
      ">>> import numpy as np\n",
      ">>> np.add(1.0, 4.0)\n",
      "5.0\n",
      ">>> x1 = np.arange(9.0).reshape((3, 3))\n",
      ">>> x2 = np.arange(3.0)\n",
      ">>> np.add(x1, x2)\n",
      "array([[  0.,   2.,   4.],\n",
      "       [  3.,   5.,   7.],\n",
      "       [  6.,   8.,  10.]])\n",
      "\n",
      "The ``+`` operator can be used as a shorthand for ``np.add`` on ndarrays.\n",
      "\n",
      ">>> x1 = np.arange(9.0).reshape((3, 3))\n",
      ">>> x2 = np.arange(3.0)\n",
      ">>> x1 + x2\n",
      "array([[ 0.,  2.,  4.],\n",
      "       [ 3.,  5.,  7.],\n",
      "       [ 6.,  8., 10.]])\n"
     ]
    }
   ],
   "source": [
    "np.info(np.add)"
   ]
  },
  {
   "cell_type": "markdown",
   "id": "a085a618",
   "metadata": {},
   "source": [
    "#### 6. Create a null vector of size 10 but the fifth value which is 1"
   ]
  },
  {
   "cell_type": "code",
   "execution_count": 17,
   "id": "02c96f22",
   "metadata": {},
   "outputs": [
    {
     "data": {
      "text/plain": [
       "array([0., 0., 0., 0., 1., 0., 0., 0., 0., 0.])"
      ]
     },
     "execution_count": 17,
     "metadata": {},
     "output_type": "execute_result"
    }
   ],
   "source": [
    "a = np.zeros(10)\n",
    "a[4] = 1\n",
    "a"
   ]
  },
  {
   "cell_type": "markdown",
   "id": "8f42d600",
   "metadata": {},
   "source": [
    "#### 7. Create a vector with values ranging from 10 to 49"
   ]
  },
  {
   "cell_type": "code",
   "execution_count": 18,
   "id": "6b7a19ac",
   "metadata": {},
   "outputs": [
    {
     "data": {
      "text/plain": [
       "array([10, 11, 12, 13, 14, 15, 16, 17, 18, 19, 20, 21, 22, 23, 24, 25, 26,\n",
       "       27, 28, 29, 30, 31, 32, 33, 34, 35, 36, 37, 38, 39, 40, 41, 42, 43,\n",
       "       44, 45, 46, 47, 48, 49])"
      ]
     },
     "execution_count": 18,
     "metadata": {},
     "output_type": "execute_result"
    }
   ],
   "source": [
    "a = np.arange(10, 50)\n",
    "a"
   ]
  },
  {
   "cell_type": "markdown",
   "id": "8ba16954",
   "metadata": {},
   "source": [
    "#### 8. Reverse a vector (first element becomes last)"
   ]
  },
  {
   "cell_type": "code",
   "execution_count": 19,
   "id": "776d7de0",
   "metadata": {},
   "outputs": [
    {
     "name": "stdout",
     "output_type": "stream",
     "text": [
      "[0 1 2 3 4 5 6 7 8 9]\n",
      "[9 8 7 6 5 4 3 2 1 0]\n"
     ]
    }
   ],
   "source": [
    "a = np.arange(10)\n",
    "print(a)\n",
    "print(a[::-1])"
   ]
  },
  {
   "cell_type": "code",
   "execution_count": 21,
   "id": "0333e6c4",
   "metadata": {},
   "outputs": [
    {
     "data": {
      "text/plain": [
       "array([9, 8, 7, 6, 5, 4, 3, 2, 1, 0])"
      ]
     },
     "execution_count": 21,
     "metadata": {},
     "output_type": "execute_result"
    }
   ],
   "source": [
    "np.flip(a)"
   ]
  },
  {
   "cell_type": "markdown",
   "id": "4b8ccc9b",
   "metadata": {},
   "source": [
    "#### 9. Create a 3x3 matrix with values ranging from 0 to 8"
   ]
  },
  {
   "cell_type": "code",
   "execution_count": 22,
   "id": "5e84878f",
   "metadata": {},
   "outputs": [
    {
     "name": "stdout",
     "output_type": "stream",
     "text": [
      "[[0 1 2]\n",
      " [3 4 5]\n",
      " [6 7 8]]\n"
     ]
    }
   ],
   "source": [
    "print(np.arange(9).reshape((3, 3)))"
   ]
  },
  {
   "cell_type": "markdown",
   "id": "a8410652",
   "metadata": {},
   "source": [
    "#### 10. Find indices of non-zero elements from [1,2,0,0,4,0]"
   ]
  },
  {
   "cell_type": "code",
   "execution_count": 23,
   "id": "1180eeb6",
   "metadata": {},
   "outputs": [
    {
     "data": {
      "text/plain": [
       "(array([0, 1, 4]),)"
      ]
     },
     "execution_count": 23,
     "metadata": {},
     "output_type": "execute_result"
    }
   ],
   "source": [
    "np.nonzero(np.array([1, 2, 0, 0, 4, 0]))\n",
    "# np.where(np.array([1, 2, 0, 0, 4, 0] != 0))"
   ]
  },
  {
   "cell_type": "markdown",
   "id": "1f0e43ff",
   "metadata": {},
   "source": [
    "#### 11. Create a 3x3 identity matrix"
   ]
  },
  {
   "cell_type": "code",
   "execution_count": 24,
   "id": "6d0c4e67",
   "metadata": {},
   "outputs": [
    {
     "data": {
      "text/plain": [
       "array([[1., 0., 0.],\n",
       "       [0., 1., 0.],\n",
       "       [0., 0., 1.]])"
      ]
     },
     "execution_count": 24,
     "metadata": {},
     "output_type": "execute_result"
    }
   ],
   "source": [
    "A = np.diag(np.ones(3))\n",
    "A"
   ]
  },
  {
   "cell_type": "code",
   "execution_count": 25,
   "id": "3c8e64e4",
   "metadata": {},
   "outputs": [
    {
     "data": {
      "text/plain": [
       "array([[1., 0., 0.],\n",
       "       [0., 1., 0.],\n",
       "       [0., 0., 1.]])"
      ]
     },
     "execution_count": 25,
     "metadata": {},
     "output_type": "execute_result"
    }
   ],
   "source": [
    "np.eye(3)"
   ]
  },
  {
   "cell_type": "code",
   "execution_count": 26,
   "id": "1e46cdb8",
   "metadata": {},
   "outputs": [
    {
     "data": {
      "text/plain": [
       "array([[1., 0., 0.],\n",
       "       [0., 1., 0.],\n",
       "       [0., 0., 1.]])"
      ]
     },
     "execution_count": 26,
     "metadata": {},
     "output_type": "execute_result"
    }
   ],
   "source": [
    "np.identity(3)"
   ]
  },
  {
   "cell_type": "markdown",
   "id": "9fb4a9de",
   "metadata": {},
   "source": [
    "#### 12. Create a 3x3x3 array with random values"
   ]
  },
  {
   "cell_type": "code",
   "execution_count": 27,
   "id": "00bf2839",
   "metadata": {},
   "outputs": [
    {
     "data": {
      "text/plain": [
       "array([[[0.81280139, 0.12906478, 0.5371271 ],\n",
       "        [0.83667749, 0.21322253, 0.77317452],\n",
       "        [0.83028679, 0.57490789, 0.97617038]],\n",
       "\n",
       "       [[0.35326133, 0.21101476, 0.12910688],\n",
       "        [0.68108943, 0.11224819, 0.9412858 ],\n",
       "        [0.41700881, 0.45871955, 0.6669299 ]],\n",
       "\n",
       "       [[0.16653648, 0.08004754, 0.16723162],\n",
       "        [0.16073305, 0.74156104, 0.81523465],\n",
       "        [0.20828814, 0.96079549, 0.04142047]]])"
      ]
     },
     "execution_count": 27,
     "metadata": {},
     "output_type": "execute_result"
    }
   ],
   "source": [
    "np.random.random(27).reshape((3, 3, 3))"
   ]
  },
  {
   "cell_type": "markdown",
   "id": "8ade1591",
   "metadata": {},
   "source": [
    "#### 13. Create a 10x10 array with random values and find the minimum and maximum values"
   ]
  },
  {
   "cell_type": "code",
   "execution_count": 28,
   "id": "4aeada9b",
   "metadata": {},
   "outputs": [
    {
     "name": "stdout",
     "output_type": "stream",
     "text": [
      "0.012820753753498226\n",
      "0.9989102850331151\n"
     ]
    }
   ],
   "source": [
    "a = np.random.random(100).reshape((10, 10))\n",
    "print(a.min())\n",
    "print(a.max())"
   ]
  },
  {
   "cell_type": "markdown",
   "id": "ee8ccfa9",
   "metadata": {},
   "source": [
    "#### 14. Create a random vector of size 30 and find the mean value"
   ]
  },
  {
   "cell_type": "code",
   "execution_count": 29,
   "id": "97f0c76b",
   "metadata": {},
   "outputs": [
    {
     "data": {
      "text/plain": [
       "np.float64(0.4493625534793261)"
      ]
     },
     "execution_count": 29,
     "metadata": {},
     "output_type": "execute_result"
    }
   ],
   "source": [
    "a = np.random.random(30)\n",
    "a.mean()"
   ]
  },
  {
   "cell_type": "markdown",
   "id": "f35b6291",
   "metadata": {},
   "source": [
    "#### 15. Create a 2d array with 1 on the border and 0 inside"
   ]
  },
  {
   "cell_type": "code",
   "execution_count": 30,
   "id": "e5efb053",
   "metadata": {},
   "outputs": [
    {
     "data": {
      "text/plain": [
       "array([[1., 0., 0., 0., 0., 0., 0., 0., 0.],\n",
       "       [0., 1., 0., 0., 0., 0., 0., 0., 0.],\n",
       "       [0., 0., 1., 0., 0., 0., 0., 0., 0.],\n",
       "       [0., 0., 0., 1., 0., 0., 0., 0., 0.],\n",
       "       [0., 0., 0., 0., 1., 0., 0., 0., 0.],\n",
       "       [0., 0., 0., 0., 0., 1., 0., 0., 0.],\n",
       "       [0., 0., 0., 0., 0., 0., 1., 0., 0.],\n",
       "       [0., 0., 0., 0., 0., 0., 0., 1., 0.],\n",
       "       [0., 0., 0., 0., 0., 0., 0., 0., 1.]])"
      ]
     },
     "execution_count": 30,
     "metadata": {},
     "output_type": "execute_result"
    }
   ],
   "source": [
    "np.eye(9)"
   ]
  },
  {
   "cell_type": "markdown",
   "id": "ac642f30",
   "metadata": {},
   "source": [
    "#### 16. How to add a border (filled with 0's) around an existing array?"
   ]
  },
  {
   "cell_type": "code",
   "execution_count": 31,
   "id": "c698e5e3",
   "metadata": {},
   "outputs": [
    {
     "name": "stdout",
     "output_type": "stream",
     "text": [
      "[[1. 1. 1. 1. 1.]\n",
      " [1. 0. 0. 0. 1.]\n",
      " [1. 0. 0. 0. 1.]\n",
      " [1. 0. 0. 0. 1.]\n",
      " [1. 1. 1. 1. 1.]]\n"
     ]
    }
   ],
   "source": [
    "# make the array with ones first\n",
    "ones = np.ones((5, 5))\n",
    "# set the zeros 1 size smaller than the arrays\n",
    "ones[1:-1, 1:-1] = 0\n",
    "print(ones)\n"
   ]
  },
  {
   "cell_type": "markdown",
   "id": "f2ae4576",
   "metadata": {},
   "source": [
    "#### 17. What is the result of the following expression?\n",
    "```python\n",
    "0 * np.nan\n",
    "np.nan == np.nan\n",
    "np.inf > np.nan\n",
    "np.nan - np.nan\n",
    "np.nan in set([np.nan])\n",
    "0.3 == 3 * 0.1\n",
    "```"
   ]
  },
  {
   "cell_type": "code",
   "execution_count": 32,
   "id": "3bc3805d",
   "metadata": {},
   "outputs": [
    {
     "name": "stdout",
     "output_type": "stream",
     "text": [
      "nan\n",
      "False\n",
      "False\n",
      "nan\n",
      "True\n",
      "False\n"
     ]
    }
   ],
   "source": [
    "print(0 * np.nan)\n",
    "print(np.nan == np.nan)\n",
    "print(np.inf > np.nan)\n",
    "print(np.nan - np.nan)\n",
    "print(np.nan in set([np.nan]))\n",
    "print(0.3 == 3 * 0.1)"
   ]
  },
  {
   "cell_type": "markdown",
   "id": "675e259a",
   "metadata": {},
   "source": [
    "#### 18. Create a 5x5 matrix with values 1,2,3,4 just below the diagonal"
   ]
  },
  {
   "cell_type": "code",
   "execution_count": 33,
   "id": "b2ab0492",
   "metadata": {},
   "outputs": [
    {
     "data": {
      "text/plain": [
       "array([[0., 0., 0., 0., 0.],\n",
       "       [1., 0., 0., 0., 0.],\n",
       "       [0., 2., 0., 0., 0.],\n",
       "       [0., 0., 3., 0., 0.],\n",
       "       [0., 0., 0., 4., 0.]])"
      ]
     },
     "execution_count": 33,
     "metadata": {},
     "output_type": "execute_result"
    }
   ],
   "source": [
    "M = np.zeros((5, 5))\n",
    "a = np.arange(1, 5)\n",
    "M[a, a- 1] = a\n",
    "M"
   ]
  },
  {
   "cell_type": "code",
   "execution_count": 34,
   "id": "d5c0ffea",
   "metadata": {},
   "outputs": [
    {
     "data": {
      "text/plain": [
       "array([[0., 1., 0., 0., 0.],\n",
       "       [1., 0., 2., 0., 0.],\n",
       "       [0., 2., 0., 3., 0.],\n",
       "       [0., 0., 3., 0., 4.],\n",
       "       [0., 0., 0., 4., 0.]])"
      ]
     },
     "execution_count": 34,
     "metadata": {},
     "output_type": "execute_result"
    }
   ],
   "source": [
    "M[a -1, a] = a\n",
    "M"
   ]
  },
  {
   "cell_type": "markdown",
   "id": "f4e423c1",
   "metadata": {},
   "source": [
    "#### 19. Create a 8x8 matrix and fill it with a checkerboard pattern"
   ]
  },
  {
   "cell_type": "code",
   "execution_count": 35,
   "id": "a1764790",
   "metadata": {},
   "outputs": [
    {
     "data": {
      "text/plain": [
       "array([[0., 1., 0., 1., 0., 1., 0., 1.],\n",
       "       [1., 0., 1., 0., 1., 0., 1., 0.],\n",
       "       [0., 1., 0., 1., 0., 1., 0., 1.],\n",
       "       [1., 0., 1., 0., 1., 0., 1., 0.],\n",
       "       [0., 1., 0., 1., 0., 1., 0., 1.],\n",
       "       [1., 0., 1., 0., 1., 0., 1., 0.],\n",
       "       [0., 1., 0., 1., 0., 1., 0., 1.],\n",
       "       [1., 0., 1., 0., 1., 0., 1., 0.]])"
      ]
     },
     "execution_count": 35,
     "metadata": {},
     "output_type": "execute_result"
    }
   ],
   "source": [
    "matrix = np.zeros((8, 8))\n",
    "matrix[1::2, ::2] = 1\n",
    "matrix[::2, 1::2] = 1\n",
    "matrix\n"
   ]
  },
  {
   "cell_type": "markdown",
   "id": "71e2bbdf",
   "metadata": {},
   "source": [
    "#### 20. Consider a (6,7,8) shape array, what is the index (x,y,z) of the 100th element?"
   ]
  },
  {
   "cell_type": "code",
   "execution_count": 36,
   "id": "8c9268be",
   "metadata": {},
   "outputs": [
    {
     "data": {
      "text/plain": [
       "np.int64(99)"
      ]
     },
     "execution_count": 36,
     "metadata": {},
     "output_type": "execute_result"
    }
   ],
   "source": [
    "a = np.arange(0, 6*7*8).reshape((6, 7, 8))\n",
    "a[np.unravel_index(99, (6, 7, 8))]"
   ]
  },
  {
   "cell_type": "markdown",
   "id": "b263ad0b",
   "metadata": {},
   "source": [
    "#### 21. Create a checkerboard 8x8 matrix using the tile function"
   ]
  },
  {
   "cell_type": "code",
   "execution_count": 37,
   "id": "3556af0c",
   "metadata": {},
   "outputs": [
    {
     "data": {
      "text/plain": [
       "array([[0, 1, 0, 1, 0, 1, 0, 1],\n",
       "       [1, 0, 1, 0, 1, 0, 1, 0],\n",
       "       [0, 1, 0, 1, 0, 1, 0, 1],\n",
       "       [1, 0, 1, 0, 1, 0, 1, 0],\n",
       "       [0, 1, 0, 1, 0, 1, 0, 1],\n",
       "       [1, 0, 1, 0, 1, 0, 1, 0],\n",
       "       [0, 1, 0, 1, 0, 1, 0, 1],\n",
       "       [1, 0, 1, 0, 1, 0, 1, 0]])"
      ]
     },
     "execution_count": 37,
     "metadata": {},
     "output_type": "execute_result"
    }
   ],
   "source": [
    "a = np.array([[0, 1], [1, 0]])\n",
    "np.tile(a, (4, 4))"
   ]
  },
  {
   "cell_type": "markdown",
   "id": "4cb37a13",
   "metadata": {},
   "source": [
    "#### 22. Normalize a 5x5 random matrix"
   ]
  },
  {
   "cell_type": "code",
   "execution_count": 38,
   "id": "64e6d0ea",
   "metadata": {},
   "outputs": [
    {
     "data": {
      "text/plain": [
       "array([[-1.63735503, -0.48398803,  0.79841703, -0.97726202, -0.02518043],\n",
       "       [ 1.36542233,  0.09104465, -0.9971983 , -0.39321355,  1.10422969],\n",
       "       [-0.53346183,  1.57913182, -0.38398128,  1.4920345 ,  1.14595883],\n",
       "       [ 1.7413996 ,  0.24790421, -1.49986693, -0.1905428 , -0.41306488],\n",
       "       [-0.07404881, -1.21559287,  0.71270959, -1.49736781,  0.04387233]])"
      ]
     },
     "execution_count": 38,
     "metadata": {},
     "output_type": "execute_result"
    }
   ],
   "source": [
    "M = np.random.random((5, 5))\n",
    "(M - M.mean()) / M.std() # Z-score normalization, There are other methods beside this"
   ]
  },
  {
   "cell_type": "markdown",
   "id": "81f3c205",
   "metadata": {},
   "source": [
    "#### 23. Create a custom dtype that describes a color as four unsigned bytes (RGBA)"
   ]
  },
  {
   "cell_type": "code",
   "execution_count": 39,
   "id": "581fd1fa",
   "metadata": {},
   "outputs": [
    {
     "name": "stdout",
     "output_type": "stream",
     "text": [
      "[('r', 'u1'), ('g', 'u1'), ('b', 'u1'), ('a', 'u1')]\n"
     ]
    }
   ],
   "source": [
    "RGBA = np.dtype([\n",
    "    ('r', np.uint8),\n",
    "    ('g', np.uint8),\n",
    "    ('b', np.uint8),\n",
    "    ('a', np.uint8)\n",
    "])\n",
    "\n",
    "print(RGBA)"
   ]
  },
  {
   "cell_type": "markdown",
   "id": "16fb91b8",
   "metadata": {},
   "source": [
    "#### 24. Multiply a 5x3 matrix by a 3x2 matrix (real matrix product)"
   ]
  },
  {
   "cell_type": "code",
   "execution_count": 40,
   "id": "d5674b74",
   "metadata": {},
   "outputs": [
    {
     "name": "stdout",
     "output_type": "stream",
     "text": [
      "[[6 3 7]\n",
      " [4 6 9]\n",
      " [2 6 7]\n",
      " [4 3 7]\n",
      " [7 2 5]]\n",
      "[[4 1]\n",
      " [7 5]\n",
      " [1 4]]\n",
      "[[52 49]\n",
      " [67 70]\n",
      " [57 60]\n",
      " [44 47]\n",
      " [47 37]]\n"
     ]
    }
   ],
   "source": [
    "np.random.seed(42)\n",
    "A = np.random.randint(0, 10, size=(5, 3)) \n",
    "B = np.random.randint(0, 10, size=(3,2))\n",
    "print(A)\n",
    "print(B)\n",
    "print(A @ B) "
   ]
  },
  {
   "cell_type": "markdown",
   "id": "46697853",
   "metadata": {},
   "source": [
    "#### 25. Given a 1D array, negate all elements which are between 3 and 8, in place."
   ]
  },
  {
   "cell_type": "code",
   "execution_count": 41,
   "id": "19f748c5",
   "metadata": {},
   "outputs": [
    {
     "data": {
      "text/plain": [
       "array([ 0,  1,  2,  3, -4, -5, -6, -7,  8,  9])"
      ]
     },
     "execution_count": 41,
     "metadata": {},
     "output_type": "execute_result"
    }
   ],
   "source": [
    "a = np.arange(10)\n",
    "\n",
    "a[ (a > 3) & (a < 8)] *= -1\n",
    "a"
   ]
  },
  {
   "cell_type": "markdown",
   "id": "da5e2a1e",
   "metadata": {},
   "source": [
    "#### 26. What is the output of the following script?\n",
    "```python\n",
    "# Author: Jake VanderPlas\n",
    "\n",
    "print(sum(range(5),-1))\n",
    "from numpy import *\n",
    "print(sum(range(5),-1))\n",
    "```"
   ]
  },
  {
   "cell_type": "code",
   "execution_count": 42,
   "id": "fecd0026",
   "metadata": {},
   "outputs": [],
   "source": [
    "# trick question, first one is the regular sum, add from 0-5, then add -1\n",
    "# 2nd question, add from 0-5, with axis -1, which means the only axis or the last axis\n",
    "# print(sum(range(5),-1)) # \n",
    "# from numpy import *\n",
    "# print(sum(range(5),-1))\n",
    "# should be 9 and 10"
   ]
  },
  {
   "cell_type": "markdown",
   "id": "bfb5cab5",
   "metadata": {},
   "source": [
    "#### 27. Consider an integer vector Z, which of these expressions are legal?\n",
    "```python\n",
    "Z**Z\n",
    "2 << Z >> 2\n",
    "Z <- Z\n",
    "1j*Z\n",
    "Z/1/1\n",
    "Z<Z>Z\n",
    "```"
   ]
  },
  {
   "cell_type": "code",
   "execution_count": 43,
   "id": "e2a232d5",
   "metadata": {},
   "outputs": [
    {
     "data": {
      "text/plain": [
       "array([1., 2., 3.])"
      ]
     },
     "execution_count": 43,
     "metadata": {},
     "output_type": "execute_result"
    }
   ],
   "source": [
    "Z = np.array([1, 2,3])\n",
    "Z**Z,\n",
    "2 << Z >> 2\n",
    "1j*Z\n",
    "Z/1/1\n",
    "# Z<Z>Z # not legal, can't do bitwise left and right shift with vector"
   ]
  },
  {
   "cell_type": "markdown",
   "id": "2c49b821",
   "metadata": {},
   "source": [
    "#### 28. What are the result of the following expressions?\n",
    "```python\n",
    "np.array(0) / np.array(0)\n",
    "np.array(0) // np.array(0)\n",
    "np.array([np.nan]).astype(int).astype(float)\n",
    "```"
   ]
  },
  {
   "cell_type": "code",
   "execution_count": 44,
   "id": "7ed8f286",
   "metadata": {},
   "outputs": [],
   "source": [
    "# error np.array(0) / np.array(0)\n",
    "# error np.array(0) // np.array(0)\n",
    "# error np.array([np.nan]).astype(int).astype(float)\n"
   ]
  },
  {
   "cell_type": "markdown",
   "id": "315b4e81",
   "metadata": {},
   "source": [
    "#### 29. How to round away from zero a float array ?"
   ]
  },
  {
   "cell_type": "code",
   "execution_count": 45,
   "id": "95ba70b2",
   "metadata": {},
   "outputs": [
    {
     "data": {
      "text/plain": [
       "array([-3., 10.,  5.,  2., -7., -7., -9.,  8.,  3.,  5.])"
      ]
     },
     "execution_count": 45,
     "metadata": {},
     "output_type": "execute_result"
    }
   ],
   "source": [
    "np.random.seed(42)\n",
    "Z = np.random.uniform(-10, 10, 10)\n",
    "np.copysign(np.ceil(np.abs(Z)), Z)"
   ]
  },
  {
   "cell_type": "markdown",
   "id": "cc5d67e3",
   "metadata": {},
   "source": [
    "#### 30. How to find common values between two arrays?"
   ]
  },
  {
   "cell_type": "code",
   "execution_count": 46,
   "id": "89661c0b",
   "metadata": {},
   "outputs": [
    {
     "data": {
      "text/plain": [
       "array([3])"
      ]
     },
     "execution_count": 46,
     "metadata": {},
     "output_type": "execute_result"
    }
   ],
   "source": [
    "np.intersect1d(np.array([1, 2, 3]), np.array([10, 3, 4]))"
   ]
  },
  {
   "cell_type": "markdown",
   "id": "a58ae506",
   "metadata": {},
   "source": [
    "#### 31. How to ignore all numpy warnings (not recommended)?"
   ]
  },
  {
   "cell_type": "code",
   "execution_count": 47,
   "id": "ae535a03",
   "metadata": {},
   "outputs": [],
   "source": [
    "# np.seterr(all='ignore')"
   ]
  },
  {
   "cell_type": "markdown",
   "id": "e1952a3b",
   "metadata": {},
   "source": [
    "#### 32. Is the following expressions true?\n",
    "```python\n",
    "np.sqrt(-1) == np.emath.sqrt(-1)\n",
    "```"
   ]
  },
  {
   "cell_type": "code",
   "execution_count": 48,
   "id": "47779340",
   "metadata": {},
   "outputs": [],
   "source": [
    "# np.sqrt(-1) == np.emath.sqrt(-1), No"
   ]
  },
  {
   "cell_type": "markdown",
   "id": "9ae1d301",
   "metadata": {},
   "source": [
    "#### 33. How to get the dates of yesterday, today and tomorrow?"
   ]
  },
  {
   "cell_type": "code",
   "execution_count": 49,
   "id": "12a2be96",
   "metadata": {},
   "outputs": [
    {
     "name": "stdout",
     "output_type": "stream",
     "text": [
      "today: 2025-10-14\n",
      "yesterday: 2025-10-13\n",
      "tommorrow: 2025-10-15\n"
     ]
    }
   ],
   "source": [
    "today = np.datetime64('today', 'D')\n",
    "yesterday = today - np.timedelta64(1, 'D')\n",
    "tommorrow = today + np.timedelta64(1, 'D')\n",
    "print(f\"today: {today}\")\n",
    "print(f\"yesterday: {yesterday}\")\n",
    "print(f\"tommorrow: {tommorrow}\")"
   ]
  },
  {
   "cell_type": "markdown",
   "id": "55585197",
   "metadata": {},
   "source": [
    "#### 34. How to get all the dates corresponding to the month of July 2016?"
   ]
  },
  {
   "cell_type": "code",
   "execution_count": 50,
   "id": "211f1a19",
   "metadata": {},
   "outputs": [
    {
     "data": {
      "text/plain": [
       "array(['2016-07-01', '2016-07-02', '2016-07-03', '2016-07-04',\n",
       "       '2016-07-05', '2016-07-06', '2016-07-07', '2016-07-08',\n",
       "       '2016-07-09', '2016-07-10', '2016-07-11', '2016-07-12',\n",
       "       '2016-07-13', '2016-07-14', '2016-07-15', '2016-07-16',\n",
       "       '2016-07-17', '2016-07-18', '2016-07-19', '2016-07-20',\n",
       "       '2016-07-21', '2016-07-22', '2016-07-23', '2016-07-24',\n",
       "       '2016-07-25', '2016-07-26', '2016-07-27', '2016-07-28',\n",
       "       '2016-07-29', '2016-07-30', '2016-07-31'], dtype='datetime64[D]')"
      ]
     },
     "execution_count": 50,
     "metadata": {},
     "output_type": "execute_result"
    }
   ],
   "source": [
    "np.arange(np.datetime64(\"2016-07-01\"), np.datetime64(\"2016-08-01\"), dtype=\"datetime64[D]\")"
   ]
  },
  {
   "cell_type": "markdown",
   "id": "00d8f5dc",
   "metadata": {},
   "source": [
    "#### 35. How to compute ((A+B)*(-A/2)) in place (without copy)? "
   ]
  },
  {
   "cell_type": "code",
   "execution_count": 51,
   "id": "55b95d31",
   "metadata": {},
   "outputs": [
    {
     "data": {
      "text/plain": [
       "array([ -0.,  -1.,  -4.,  -9., -16.])"
      ]
     },
     "execution_count": 51,
     "metadata": {},
     "output_type": "execute_result"
    }
   ],
   "source": [
    "A = np.arange(5, dtype='float64')\n",
    "B = np.arange(5, dtype='float64')\n",
    "np.multiply(np.add(A, B, out=B), np.negative(np.divide(A, 2, out=A)), out=A)"
   ]
  },
  {
   "cell_type": "markdown",
   "id": "05763056",
   "metadata": {},
   "source": [
    "#### 36. Extract the integer part of a random array of positive numbers using 4 different methods"
   ]
  },
  {
   "cell_type": "code",
   "execution_count": 52,
   "id": "26e8acea",
   "metadata": {},
   "outputs": [
    {
     "name": "stdout",
     "output_type": "stream",
     "text": [
      "[1. 4. 3. 2. 0.]\n",
      "[1. 4. 3. 2. 0.]\n",
      "[1 4 3 2 0]\n",
      "[1. 4. 3. 2. 0.]\n"
     ]
    }
   ],
   "source": [
    "np.random.seed(42)\n",
    "a = np.random.random(5) * 5\n",
    "print(np.floor_divide(a,  1)) # floor divide\n",
    "print(np.floor(a)) # rounding, floor and celing\n",
    "print(np.astype(a, np.int64)) # convert from float to int\n",
    "print(np.trunc(a)) # actually truncate the values\n"
   ]
  },
  {
   "cell_type": "markdown",
   "id": "8d7370b9",
   "metadata": {},
   "source": [
    "#### 37. Create a 5x5 matrix with row values ranging from 0 to 4"
   ]
  },
  {
   "cell_type": "code",
   "execution_count": 53,
   "id": "dca567d3",
   "metadata": {},
   "outputs": [
    {
     "data": {
      "text/plain": [
       "array([[0, 1, 2, 3, 4],\n",
       "       [0, 1, 2, 3, 4],\n",
       "       [0, 1, 2, 3, 4],\n",
       "       [0, 1, 2, 3, 4],\n",
       "       [0, 1, 2, 3, 4]])"
      ]
     },
     "execution_count": 53,
     "metadata": {},
     "output_type": "execute_result"
    }
   ],
   "source": [
    "np.tile(np.arange(5), 5).reshape((5, 5)) # my way"
   ]
  },
  {
   "cell_type": "code",
   "execution_count": 54,
   "id": "207ed283",
   "metadata": {},
   "outputs": [
    {
     "data": {
      "text/plain": [
       "array([[0, 1, 2, 3, 4],\n",
       "       [0, 1, 2, 3, 4],\n",
       "       [0, 1, 2, 3, 4],\n",
       "       [0, 1, 2, 3, 4],\n",
       "       [0, 1, 2, 3, 4]])"
      ]
     },
     "execution_count": 54,
     "metadata": {},
     "output_type": "execute_result"
    }
   ],
   "source": [
    "np.tile(np.arange(5), (5, 1))"
   ]
  },
  {
   "cell_type": "code",
   "execution_count": 55,
   "id": "04a1e1b4",
   "metadata": {},
   "outputs": [
    {
     "data": {
      "text/plain": [
       "array([[0, 1, 2, 3, 4],\n",
       "       [0, 1, 2, 3, 4],\n",
       "       [0, 1, 2, 3, 4],\n",
       "       [0, 1, 2, 3, 4],\n",
       "       [0, 1, 2, 3, 4]])"
      ]
     },
     "execution_count": 55,
     "metadata": {},
     "output_type": "execute_result"
    }
   ],
   "source": [
    "# create all zeros matrix, then all each row from 0-4\n",
    "Z = np.zeros((5,5), dtype='int64') # include the dtype, otherwise np will give float\n",
    "Z += np.arange(5)\n",
    "Z"
   ]
  },
  {
   "cell_type": "markdown",
   "id": "fbeaebd3",
   "metadata": {},
   "source": [
    "#### 38. Consider a generator function that generates 10 integers and use it to build an array"
   ]
  },
  {
   "cell_type": "code",
   "execution_count": 56,
   "id": "1ba60e9c",
   "metadata": {},
   "outputs": [
    {
     "data": {
      "text/plain": [
       "array([0, 1, 2, 3, 4, 5, 6, 7, 8, 9])"
      ]
     },
     "execution_count": 56,
     "metadata": {},
     "output_type": "execute_result"
    }
   ],
   "source": [
    "np.fromiter((x for x in range(10)), dtype=np.int64)"
   ]
  },
  {
   "cell_type": "markdown",
   "id": "d34f3d2e",
   "metadata": {},
   "source": [
    "#### 39. Create a vector of size 10 with values ranging from 0 to 1, both excluded"
   ]
  },
  {
   "cell_type": "code",
   "execution_count": 57,
   "id": "2244df8a",
   "metadata": {},
   "outputs": [
    {
     "data": {
      "text/plain": [
       "array([0.09090909, 0.18181818, 0.27272727, 0.36363636, 0.45454545,\n",
       "       0.54545455, 0.63636364, 0.72727273, 0.81818182, 0.90909091])"
      ]
     },
     "execution_count": 57,
     "metadata": {},
     "output_type": "execute_result"
    }
   ],
   "source": [
    "np.linspace(0, 1, 11,endpoint=False)[1:] # need to use endpoint as false, then take out the initial value.\n",
    "# there are so many ways to achieve this without this weird answer"
   ]
  },
  {
   "cell_type": "markdown",
   "id": "2b3961ba",
   "metadata": {},
   "source": [
    "#### 40. Create a random vector of size 10 and sort it"
   ]
  },
  {
   "cell_type": "code",
   "execution_count": 58,
   "id": "6b818f97",
   "metadata": {},
   "outputs": [
    {
     "data": {
      "text/plain": [
       "array([0.02058449, 0.05808361, 0.15599452, 0.18182497, 0.21233911,\n",
       "       0.60111501, 0.70807258, 0.83244264, 0.86617615, 0.96990985])"
      ]
     },
     "execution_count": 58,
     "metadata": {},
     "output_type": "execute_result"
    }
   ],
   "source": [
    "np.sort(np.random.random(10))"
   ]
  },
  {
   "cell_type": "markdown",
   "id": "82aae060",
   "metadata": {},
   "source": [
    "#### 41. How to sum a small array faster than np.sum?"
   ]
  },
  {
   "cell_type": "code",
   "execution_count": 59,
   "id": "d2d61550",
   "metadata": {},
   "outputs": [
    {
     "data": {
      "text/plain": [
       "np.int64(45)"
      ]
     },
     "execution_count": 59,
     "metadata": {},
     "output_type": "execute_result"
    }
   ],
   "source": [
    "# instead of using np.sum, use np.add.reduce\n",
    "a = np.arange(1, 10)\n",
    "np.add.reduce(a)"
   ]
  },
  {
   "cell_type": "markdown",
   "id": "66699507",
   "metadata": {},
   "source": [
    "#### 42. Consider two random arrays A and B, check if they are equal"
   ]
  },
  {
   "cell_type": "code",
   "execution_count": 60,
   "id": "831daa79",
   "metadata": {},
   "outputs": [
    {
     "data": {
      "text/plain": [
       "True"
      ]
     },
     "execution_count": 60,
     "metadata": {},
     "output_type": "execute_result"
    }
   ],
   "source": [
    "np.array_equal([1, 2], [1, 2]) #\n",
    "# use np.allclose if they are floats"
   ]
  },
  {
   "cell_type": "markdown",
   "id": "1bb7e640",
   "metadata": {},
   "source": [
    "#### 43. Make an array immutable (read-only)"
   ]
  },
  {
   "cell_type": "code",
   "execution_count": 61,
   "id": "c1fe0de0",
   "metadata": {},
   "outputs": [
    {
     "ename": "ValueError",
     "evalue": "assignment destination is read-only",
     "output_type": "error",
     "traceback": [
      "\u001b[31m---------------------------------------------------------------------------\u001b[39m",
      "\u001b[31mValueError\u001b[39m                                Traceback (most recent call last)",
      "\u001b[36mCell\u001b[39m\u001b[36m \u001b[39m\u001b[32mIn[61]\u001b[39m\u001b[32m, line 3\u001b[39m\n\u001b[32m      1\u001b[39m a = np.arange(\u001b[32m1\u001b[39m, \u001b[32m6\u001b[39m)\n\u001b[32m      2\u001b[39m a.flags.writeable = \u001b[38;5;28;01mFalse\u001b[39;00m \u001b[38;5;66;03m# need to set this flag to false\u001b[39;00m\n\u001b[32m----> \u001b[39m\u001b[32m3\u001b[39m \u001b[43ma\u001b[49m\u001b[43m[\u001b[49m\u001b[32;43m3\u001b[39;49m\u001b[43m]\u001b[49m = \u001b[32m10\u001b[39m \u001b[38;5;66;03m# \u001b[39;00m\n",
      "\u001b[31mValueError\u001b[39m: assignment destination is read-only"
     ]
    }
   ],
   "source": [
    "a = np.arange(1, 6)\n",
    "a.flags.writeable = False # need to set this flag to false\n",
    "a[3] = 10 # "
   ]
  },
  {
   "cell_type": "markdown",
   "id": "7f2ececd",
   "metadata": {},
   "source": [
    "#### 44. Consider a random 10x2 matrix representing cartesian coordinates, convert them to polar coordinates"
   ]
  },
  {
   "cell_type": "code",
   "execution_count": 62,
   "id": "420722be",
   "metadata": {},
   "outputs": [
    {
     "name": "stdout",
     "output_type": "stream",
     "text": [
      "[[0.18340451 0.30424224]\n",
      " [0.52475643 0.43194502]\n",
      " [0.29122914 0.61185289]\n",
      " [0.13949386 0.29214465]\n",
      " [0.36636184 0.45606998]\n",
      " [0.78517596 0.19967378]\n",
      " [0.51423444 0.59241457]\n",
      " [0.04645041 0.60754485]\n",
      " [0.17052412 0.06505159]\n",
      " [0.94888554 0.96563203]]\n",
      "[[0.35524718 1.02830298]\n",
      " [0.67966596 0.68868891]\n",
      " [0.67762702 1.1265495 ]\n",
      " [0.32373914 1.12532471]\n",
      " [0.58499644 0.89404533]\n",
      " [0.81016721 0.24902584]\n",
      " [0.7844693  0.85592681]\n",
      " [0.60931797 1.49448884]\n",
      " [0.18251078 0.36443989]\n",
      " [1.35382015 0.79414505]]\n"
     ]
    }
   ],
   "source": [
    "a = np.random.random(20).reshape((10, 2))\n",
    "# need to use the r = sqrt(x^2 + y^2), theta = arctan(y/x)\n",
    "def cart2pol(coord):\n",
    "    x, y = coord\n",
    "    rho = np.hypot(x, y)\n",
    "    phi = np.arctan2(y, x)\n",
    "    return rho, phi\n",
    "print(a)\n",
    "\n",
    "b = np.apply_along_axis(cart2pol, 1, a)\n",
    "print(b)"
   ]
  },
  {
   "cell_type": "markdown",
   "id": "953e89ac",
   "metadata": {},
   "source": [
    "#### 45. Create random vector of size 10 and replace the maximum value by 0"
   ]
  },
  {
   "cell_type": "code",
   "execution_count": 63,
   "id": "cf32e9b4",
   "metadata": {},
   "outputs": [
    {
     "data": {
      "text/plain": [
       "np.float64(1.0)"
      ]
     },
     "execution_count": 63,
     "metadata": {},
     "output_type": "execute_result"
    }
   ],
   "source": [
    "a = np.ones(10)\n",
    "a[7] = 10\n",
    "a[a.argmax()] = 0 # argmax returns the index\n",
    "a.max() # max returns the value\n"
   ]
  },
  {
   "cell_type": "markdown",
   "id": "a8188dc4",
   "metadata": {},
   "source": [
    "#### 46. Create a structured array with `x` and `y` coordinates covering the [0,1]x[0,1] area"
   ]
  },
  {
   "cell_type": "code",
   "execution_count": 64,
   "id": "9657f544",
   "metadata": {},
   "outputs": [
    {
     "name": "stdout",
     "output_type": "stream",
     "text": [
      "[[(0., 0.) (0., 0.) (0., 0.) (0., 0.) (0., 0.) (0., 0.) (0., 0.) (0., 0.)\n",
      "  (0., 0.) (0., 0.)]\n",
      " [(0., 0.) (0., 0.) (0., 0.) (0., 0.) (0., 0.) (0., 0.) (0., 0.) (0., 0.)\n",
      "  (0., 0.) (0., 0.)]\n",
      " [(0., 0.) (0., 0.) (0., 0.) (0., 0.) (0., 0.) (0., 0.) (0., 0.) (0., 0.)\n",
      "  (0., 0.) (0., 0.)]\n",
      " [(0., 0.) (0., 0.) (0., 0.) (0., 0.) (0., 0.) (0., 0.) (0., 0.) (0., 0.)\n",
      "  (0., 0.) (0., 0.)]\n",
      " [(0., 0.) (0., 0.) (0., 0.) (0., 0.) (0., 0.) (0., 0.) (0., 0.) (0., 0.)\n",
      "  (0., 0.) (0., 0.)]\n",
      " [(0., 0.) (0., 0.) (0., 0.) (0., 0.) (0., 0.) (0., 0.) (0., 0.) (0., 0.)\n",
      "  (0., 0.) (0., 0.)]\n",
      " [(0., 0.) (0., 0.) (0., 0.) (0., 0.) (0., 0.) (0., 0.) (0., 0.) (0., 0.)\n",
      "  (0., 0.) (0., 0.)]\n",
      " [(0., 0.) (0., 0.) (0., 0.) (0., 0.) (0., 0.) (0., 0.) (0., 0.) (0., 0.)\n",
      "  (0., 0.) (0., 0.)]\n",
      " [(0., 0.) (0., 0.) (0., 0.) (0., 0.) (0., 0.) (0., 0.) (0., 0.) (0., 0.)\n",
      "  (0., 0.) (0., 0.)]\n",
      " [(0., 0.) (0., 0.) (0., 0.) (0., 0.) (0., 0.) (0., 0.) (0., 0.) (0., 0.)\n",
      "  (0., 0.) (0., 0.)]]\n",
      "[[(0.        , 0.        ) (0.11111111, 0.        )\n",
      "  (0.22222222, 0.        ) (0.33333333, 0.        )\n",
      "  (0.44444444, 0.        ) (0.55555556, 0.        )\n",
      "  (0.66666667, 0.        ) (0.77777778, 0.        )\n",
      "  (0.88888889, 0.        ) (1.        , 0.        )]\n",
      " [(0.        , 0.11111111) (0.11111111, 0.11111111)\n",
      "  (0.22222222, 0.11111111) (0.33333333, 0.11111111)\n",
      "  (0.44444444, 0.11111111) (0.55555556, 0.11111111)\n",
      "  (0.66666667, 0.11111111) (0.77777778, 0.11111111)\n",
      "  (0.88888889, 0.11111111) (1.        , 0.11111111)]\n",
      " [(0.        , 0.22222222) (0.11111111, 0.22222222)\n",
      "  (0.22222222, 0.22222222) (0.33333333, 0.22222222)\n",
      "  (0.44444444, 0.22222222) (0.55555556, 0.22222222)\n",
      "  (0.66666667, 0.22222222) (0.77777778, 0.22222222)\n",
      "  (0.88888889, 0.22222222) (1.        , 0.22222222)]\n",
      " [(0.        , 0.33333333) (0.11111111, 0.33333333)\n",
      "  (0.22222222, 0.33333333) (0.33333333, 0.33333333)\n",
      "  (0.44444444, 0.33333333) (0.55555556, 0.33333333)\n",
      "  (0.66666667, 0.33333333) (0.77777778, 0.33333333)\n",
      "  (0.88888889, 0.33333333) (1.        , 0.33333333)]\n",
      " [(0.        , 0.44444444) (0.11111111, 0.44444444)\n",
      "  (0.22222222, 0.44444444) (0.33333333, 0.44444444)\n",
      "  (0.44444444, 0.44444444) (0.55555556, 0.44444444)\n",
      "  (0.66666667, 0.44444444) (0.77777778, 0.44444444)\n",
      "  (0.88888889, 0.44444444) (1.        , 0.44444444)]\n",
      " [(0.        , 0.55555556) (0.11111111, 0.55555556)\n",
      "  (0.22222222, 0.55555556) (0.33333333, 0.55555556)\n",
      "  (0.44444444, 0.55555556) (0.55555556, 0.55555556)\n",
      "  (0.66666667, 0.55555556) (0.77777778, 0.55555556)\n",
      "  (0.88888889, 0.55555556) (1.        , 0.55555556)]\n",
      " [(0.        , 0.66666667) (0.11111111, 0.66666667)\n",
      "  (0.22222222, 0.66666667) (0.33333333, 0.66666667)\n",
      "  (0.44444444, 0.66666667) (0.55555556, 0.66666667)\n",
      "  (0.66666667, 0.66666667) (0.77777778, 0.66666667)\n",
      "  (0.88888889, 0.66666667) (1.        , 0.66666667)]\n",
      " [(0.        , 0.77777778) (0.11111111, 0.77777778)\n",
      "  (0.22222222, 0.77777778) (0.33333333, 0.77777778)\n",
      "  (0.44444444, 0.77777778) (0.55555556, 0.77777778)\n",
      "  (0.66666667, 0.77777778) (0.77777778, 0.77777778)\n",
      "  (0.88888889, 0.77777778) (1.        , 0.77777778)]\n",
      " [(0.        , 0.88888889) (0.11111111, 0.88888889)\n",
      "  (0.22222222, 0.88888889) (0.33333333, 0.88888889)\n",
      "  (0.44444444, 0.88888889) (0.55555556, 0.88888889)\n",
      "  (0.66666667, 0.88888889) (0.77777778, 0.88888889)\n",
      "  (0.88888889, 0.88888889) (1.        , 0.88888889)]\n",
      " [(0.        , 1.        ) (0.11111111, 1.        )\n",
      "  (0.22222222, 1.        ) (0.33333333, 1.        )\n",
      "  (0.44444444, 1.        ) (0.55555556, 1.        )\n",
      "  (0.66666667, 1.        ) (0.77777778, 1.        )\n",
      "  (0.88888889, 1.        ) (1.        , 1.        )]]\n"
     ]
    }
   ],
   "source": [
    "A = np.zeros((10, 10), [('x', float), ('y', float)])\n",
    "print(A)\n",
    "x = np.linspace(0, 1, 10)\n",
    "y = np.linspace(0, 1, 10)\n",
    "A['x'], A['y'] = np.meshgrid(x, y)\n",
    "print(A)"
   ]
  },
  {
   "cell_type": "markdown",
   "id": "884ab856",
   "metadata": {},
   "source": [
    "#### 47. Given two arrays, X and Y, construct the Cauchy matrix C (Cij =1/(xi - yj))"
   ]
  },
  {
   "cell_type": "code",
   "execution_count": 65,
   "id": "98d3f96d",
   "metadata": {},
   "outputs": [
    {
     "name": "stdout",
     "output_type": "stream",
     "text": [
      "[0.37454012 1.90142861 2.19598183 2.39463394 0.7800932 ]\n",
      "[0.15599452 0.11616722 2.59852844 2.40446005 3.54036289]\n",
      "[[   4.57570414    3.87037503   -0.44964265   -0.49263027   -0.31587365]\n",
      " [   0.57292338    0.56014206   -1.43451478   -1.98794734   -0.61015259]\n",
      " [   0.49019913    0.48081209   -2.48418437   -4.7966641    -0.74383672]\n",
      " [   0.4466999     0.43889164   -4.90449717 -101.76967093   -0.87280678]\n",
      " [   1.60231071    1.50619201   -0.54992335   -0.61562448   -0.36228344]]\n"
     ]
    }
   ],
   "source": [
    "np.random.seed(42)\n",
    "x = np.random.random(5) * np.arange(1, 6)\n",
    "y = np.random.random(5) * np.arange(1, 6)\n",
    "print(x)\n",
    "print(y)\n",
    "cauchy = 1.0 / (x.reshape((-1, 1)) - y) # the reshape (-1, 1) turns it into a column\n",
    "print(cauchy)"
   ]
  },
  {
   "cell_type": "code",
   "execution_count": 66,
   "id": "cf1ba088",
   "metadata": {},
   "outputs": [
    {
     "data": {
      "text/plain": [
       "(5,)"
      ]
     },
     "execution_count": 66,
     "metadata": {},
     "output_type": "execute_result"
    }
   ],
   "source": [
    "x_reshape = x.reshape((-1, 1))\n",
    "x.shape"
   ]
  },
  {
   "cell_type": "markdown",
   "id": "0ad587a3",
   "metadata": {},
   "source": [
    "#### 48. Print the minimum and maximum representable values for each numpy scalar type"
   ]
  },
  {
   "cell_type": "code",
   "execution_count": 67,
   "id": "19e11ca9",
   "metadata": {},
   "outputs": [
    {
     "data": {
      "text/plain": [
       "iinfo(min=-9223372036854775808, max=9223372036854775807, dtype=int64)"
      ]
     },
     "execution_count": 67,
     "metadata": {},
     "output_type": "execute_result"
    }
   ],
   "source": [
    "np.iinfo(np.int64) # use the iinfo function"
   ]
  },
  {
   "cell_type": "markdown",
   "id": "78645a85",
   "metadata": {},
   "source": [
    "#### 49. How to print all the values of an array?"
   ]
  },
  {
   "cell_type": "code",
   "execution_count": 68,
   "id": "3dc40cad",
   "metadata": {},
   "outputs": [
    {
     "name": "stdout",
     "output_type": "stream",
     "text": [
      "[   0    1    2    3    4    5    6    7    8    9   10   11   12   13\n",
      "   14   15   16   17   18   19   20   21   22   23   24   25   26   27\n",
      "   28   29   30   31   32   33   34   35   36   37   38   39   40   41\n",
      "   42   43   44   45   46   47   48   49   50   51   52   53   54   55\n",
      "   56   57   58   59   60   61   62   63   64   65   66   67   68   69\n",
      "   70   71   72   73   74   75   76   77   78   79   80   81   82   83\n",
      "   84   85   86   87   88   89   90   91   92   93   94   95   96   97\n",
      "   98   99  100  101  102  103  104  105  106  107  108  109  110  111\n",
      "  112  113  114  115  116  117  118  119  120  121  122  123  124  125\n",
      "  126  127  128  129  130  131  132  133  134  135  136  137  138  139\n",
      "  140  141  142  143  144  145  146  147  148  149  150  151  152  153\n",
      "  154  155  156  157  158  159  160  161  162  163  164  165  166  167\n",
      "  168  169  170  171  172  173  174  175  176  177  178  179  180  181\n",
      "  182  183  184  185  186  187  188  189  190  191  192  193  194  195\n",
      "  196  197  198  199  200  201  202  203  204  205  206  207  208  209\n",
      "  210  211  212  213  214  215  216  217  218  219  220  221  222  223\n",
      "  224  225  226  227  228  229  230  231  232  233  234  235  236  237\n",
      "  238  239  240  241  242  243  244  245  246  247  248  249  250  251\n",
      "  252  253  254  255  256  257  258  259  260  261  262  263  264  265\n",
      "  266  267  268  269  270  271  272  273  274  275  276  277  278  279\n",
      "  280  281  282  283  284  285  286  287  288  289  290  291  292  293\n",
      "  294  295  296  297  298  299  300  301  302  303  304  305  306  307\n",
      "  308  309  310  311  312  313  314  315  316  317  318  319  320  321\n",
      "  322  323  324  325  326  327  328  329  330  331  332  333  334  335\n",
      "  336  337  338  339  340  341  342  343  344  345  346  347  348  349\n",
      "  350  351  352  353  354  355  356  357  358  359  360  361  362  363\n",
      "  364  365  366  367  368  369  370  371  372  373  374  375  376  377\n",
      "  378  379  380  381  382  383  384  385  386  387  388  389  390  391\n",
      "  392  393  394  395  396  397  398  399  400  401  402  403  404  405\n",
      "  406  407  408  409  410  411  412  413  414  415  416  417  418  419\n",
      "  420  421  422  423  424  425  426  427  428  429  430  431  432  433\n",
      "  434  435  436  437  438  439  440  441  442  443  444  445  446  447\n",
      "  448  449  450  451  452  453  454  455  456  457  458  459  460  461\n",
      "  462  463  464  465  466  467  468  469  470  471  472  473  474  475\n",
      "  476  477  478  479  480  481  482  483  484  485  486  487  488  489\n",
      "  490  491  492  493  494  495  496  497  498  499  500  501  502  503\n",
      "  504  505  506  507  508  509  510  511  512  513  514  515  516  517\n",
      "  518  519  520  521  522  523  524  525  526  527  528  529  530  531\n",
      "  532  533  534  535  536  537  538  539  540  541  542  543  544  545\n",
      "  546  547  548  549  550  551  552  553  554  555  556  557  558  559\n",
      "  560  561  562  563  564  565  566  567  568  569  570  571  572  573\n",
      "  574  575  576  577  578  579  580  581  582  583  584  585  586  587\n",
      "  588  589  590  591  592  593  594  595  596  597  598  599  600  601\n",
      "  602  603  604  605  606  607  608  609  610  611  612  613  614  615\n",
      "  616  617  618  619  620  621  622  623  624  625  626  627  628  629\n",
      "  630  631  632  633  634  635  636  637  638  639  640  641  642  643\n",
      "  644  645  646  647  648  649  650  651  652  653  654  655  656  657\n",
      "  658  659  660  661  662  663  664  665  666  667  668  669  670  671\n",
      "  672  673  674  675  676  677  678  679  680  681  682  683  684  685\n",
      "  686  687  688  689  690  691  692  693  694  695  696  697  698  699\n",
      "  700  701  702  703  704  705  706  707  708  709  710  711  712  713\n",
      "  714  715  716  717  718  719  720  721  722  723  724  725  726  727\n",
      "  728  729  730  731  732  733  734  735  736  737  738  739  740  741\n",
      "  742  743  744  745  746  747  748  749  750  751  752  753  754  755\n",
      "  756  757  758  759  760  761  762  763  764  765  766  767  768  769\n",
      "  770  771  772  773  774  775  776  777  778  779  780  781  782  783\n",
      "  784  785  786  787  788  789  790  791  792  793  794  795  796  797\n",
      "  798  799  800  801  802  803  804  805  806  807  808  809  810  811\n",
      "  812  813  814  815  816  817  818  819  820  821  822  823  824  825\n",
      "  826  827  828  829  830  831  832  833  834  835  836  837  838  839\n",
      "  840  841  842  843  844  845  846  847  848  849  850  851  852  853\n",
      "  854  855  856  857  858  859  860  861  862  863  864  865  866  867\n",
      "  868  869  870  871  872  873  874  875  876  877  878  879  880  881\n",
      "  882  883  884  885  886  887  888  889  890  891  892  893  894  895\n",
      "  896  897  898  899  900  901  902  903  904  905  906  907  908  909\n",
      "  910  911  912  913  914  915  916  917  918  919  920  921  922  923\n",
      "  924  925  926  927  928  929  930  931  932  933  934  935  936  937\n",
      "  938  939  940  941  942  943  944  945  946  947  948  949  950  951\n",
      "  952  953  954  955  956  957  958  959  960  961  962  963  964  965\n",
      "  966  967  968  969  970  971  972  973  974  975  976  977  978  979\n",
      "  980  981  982  983  984  985  986  987  988  989  990  991  992  993\n",
      "  994  995  996  997  998  999 1000 1001 1002 1003 1004 1005 1006 1007\n",
      " 1008 1009 1010 1011 1012 1013 1014 1015 1016 1017 1018 1019 1020 1021\n",
      " 1022 1023 1024 1025 1026 1027 1028 1029 1030 1031 1032 1033 1034 1035\n",
      " 1036 1037 1038 1039 1040 1041 1042 1043 1044 1045 1046 1047 1048 1049\n",
      " 1050 1051 1052 1053 1054 1055 1056 1057 1058 1059 1060 1061 1062 1063\n",
      " 1064 1065 1066 1067 1068 1069 1070 1071 1072 1073 1074 1075 1076 1077\n",
      " 1078 1079 1080 1081 1082 1083 1084 1085 1086 1087 1088 1089 1090 1091\n",
      " 1092 1093 1094 1095 1096 1097 1098 1099 1100 1101 1102 1103 1104 1105\n",
      " 1106 1107 1108 1109 1110 1111 1112 1113 1114 1115 1116 1117 1118 1119\n",
      " 1120 1121 1122 1123 1124 1125 1126 1127 1128 1129 1130 1131 1132 1133\n",
      " 1134 1135 1136 1137 1138 1139 1140 1141 1142 1143 1144 1145 1146 1147\n",
      " 1148 1149 1150 1151 1152 1153 1154 1155 1156 1157 1158 1159 1160 1161\n",
      " 1162 1163 1164 1165 1166 1167 1168 1169 1170 1171 1172 1173 1174 1175\n",
      " 1176 1177 1178 1179 1180 1181 1182 1183 1184 1185 1186 1187 1188 1189\n",
      " 1190 1191 1192 1193 1194 1195 1196 1197 1198 1199 1200 1201 1202 1203\n",
      " 1204 1205 1206 1207 1208 1209 1210 1211 1212 1213 1214 1215 1216 1217\n",
      " 1218 1219 1220 1221 1222 1223 1224 1225 1226 1227 1228 1229 1230 1231\n",
      " 1232 1233 1234 1235 1236 1237 1238 1239 1240 1241 1242 1243 1244 1245\n",
      " 1246 1247 1248 1249 1250 1251 1252 1253 1254 1255 1256 1257 1258 1259\n",
      " 1260 1261 1262 1263 1264 1265 1266 1267 1268 1269 1270 1271 1272 1273\n",
      " 1274 1275 1276 1277 1278 1279 1280 1281 1282 1283 1284 1285 1286 1287\n",
      " 1288 1289 1290 1291 1292 1293 1294 1295 1296 1297 1298 1299 1300 1301\n",
      " 1302 1303 1304 1305 1306 1307 1308 1309 1310 1311 1312 1313 1314 1315\n",
      " 1316 1317 1318 1319 1320 1321 1322 1323 1324 1325 1326 1327 1328 1329\n",
      " 1330 1331 1332 1333 1334 1335 1336 1337 1338 1339 1340 1341 1342 1343\n",
      " 1344 1345 1346 1347 1348 1349 1350 1351 1352 1353 1354 1355 1356 1357\n",
      " 1358 1359 1360 1361 1362 1363 1364 1365 1366 1367 1368 1369 1370 1371\n",
      " 1372 1373 1374 1375 1376 1377 1378 1379 1380 1381 1382 1383 1384 1385\n",
      " 1386 1387 1388 1389 1390 1391 1392 1393 1394 1395 1396 1397 1398 1399\n",
      " 1400 1401 1402 1403 1404 1405 1406 1407 1408 1409 1410 1411 1412 1413\n",
      " 1414 1415 1416 1417 1418 1419 1420 1421 1422 1423 1424 1425 1426 1427\n",
      " 1428 1429 1430 1431 1432 1433 1434 1435 1436 1437 1438 1439 1440 1441\n",
      " 1442 1443 1444 1445 1446 1447 1448 1449 1450 1451 1452 1453 1454 1455\n",
      " 1456 1457 1458 1459 1460 1461 1462 1463 1464 1465 1466 1467 1468 1469\n",
      " 1470 1471 1472 1473 1474 1475 1476 1477 1478 1479 1480 1481 1482 1483\n",
      " 1484 1485 1486 1487 1488 1489 1490 1491 1492 1493 1494 1495 1496 1497\n",
      " 1498 1499 1500 1501 1502 1503 1504 1505 1506 1507 1508 1509 1510 1511\n",
      " 1512 1513 1514 1515 1516 1517 1518 1519 1520 1521 1522 1523 1524 1525\n",
      " 1526 1527 1528 1529 1530 1531 1532 1533 1534 1535 1536 1537 1538 1539\n",
      " 1540 1541 1542 1543 1544 1545 1546 1547 1548 1549 1550 1551 1552 1553\n",
      " 1554 1555 1556 1557 1558 1559 1560 1561 1562 1563 1564 1565 1566 1567\n",
      " 1568 1569 1570 1571 1572 1573 1574 1575 1576 1577 1578 1579 1580 1581\n",
      " 1582 1583 1584 1585 1586 1587 1588 1589 1590 1591 1592 1593 1594 1595\n",
      " 1596 1597 1598 1599 1600 1601 1602 1603 1604 1605 1606 1607 1608 1609\n",
      " 1610 1611 1612 1613 1614 1615 1616 1617 1618 1619 1620 1621 1622 1623\n",
      " 1624 1625 1626 1627 1628 1629 1630 1631 1632 1633 1634 1635 1636 1637\n",
      " 1638 1639 1640 1641 1642 1643 1644 1645 1646 1647 1648 1649 1650 1651\n",
      " 1652 1653 1654 1655 1656 1657 1658 1659 1660 1661 1662 1663 1664 1665\n",
      " 1666 1667 1668 1669 1670 1671 1672 1673 1674 1675 1676 1677 1678 1679\n",
      " 1680 1681 1682 1683 1684 1685 1686 1687 1688 1689 1690 1691 1692 1693\n",
      " 1694 1695 1696 1697 1698 1699 1700 1701 1702 1703 1704 1705 1706 1707\n",
      " 1708 1709 1710 1711 1712 1713 1714 1715 1716 1717 1718 1719 1720 1721\n",
      " 1722 1723 1724 1725 1726 1727 1728 1729 1730 1731 1732 1733 1734 1735\n",
      " 1736 1737 1738 1739 1740 1741 1742 1743 1744 1745 1746 1747 1748 1749\n",
      " 1750 1751 1752 1753 1754 1755 1756 1757 1758 1759 1760 1761 1762 1763\n",
      " 1764 1765 1766 1767 1768 1769 1770 1771 1772 1773 1774 1775 1776 1777\n",
      " 1778 1779 1780 1781 1782 1783 1784 1785 1786 1787 1788 1789 1790 1791\n",
      " 1792 1793 1794 1795 1796 1797 1798 1799 1800 1801 1802 1803 1804 1805\n",
      " 1806 1807 1808 1809 1810 1811 1812 1813 1814 1815 1816 1817 1818 1819\n",
      " 1820 1821 1822 1823 1824 1825 1826 1827 1828 1829 1830 1831 1832 1833\n",
      " 1834 1835 1836 1837 1838 1839 1840 1841 1842 1843 1844 1845 1846 1847\n",
      " 1848 1849 1850 1851 1852 1853 1854 1855 1856 1857 1858 1859 1860 1861\n",
      " 1862 1863 1864 1865 1866 1867 1868 1869 1870 1871 1872 1873 1874 1875\n",
      " 1876 1877 1878 1879 1880 1881 1882 1883 1884 1885 1886 1887 1888 1889\n",
      " 1890 1891 1892 1893 1894 1895 1896 1897 1898 1899 1900 1901 1902 1903\n",
      " 1904 1905 1906 1907 1908 1909 1910 1911 1912 1913 1914 1915 1916 1917\n",
      " 1918 1919 1920 1921 1922 1923 1924 1925 1926 1927 1928 1929 1930 1931\n",
      " 1932 1933 1934 1935 1936 1937 1938 1939 1940 1941 1942 1943 1944 1945\n",
      " 1946 1947 1948 1949 1950 1951 1952 1953 1954 1955 1956 1957 1958 1959\n",
      " 1960 1961 1962 1963 1964 1965 1966 1967 1968 1969 1970 1971 1972 1973\n",
      " 1974 1975 1976 1977 1978 1979 1980 1981 1982 1983 1984 1985 1986 1987\n",
      " 1988 1989 1990 1991 1992 1993 1994 1995 1996 1997 1998 1999 2000 2001\n",
      " 2002 2003 2004 2005 2006 2007 2008 2009 2010 2011 2012 2013 2014 2015\n",
      " 2016 2017 2018 2019 2020 2021 2022 2023 2024 2025 2026 2027 2028 2029\n",
      " 2030 2031 2032 2033 2034 2035 2036 2037 2038 2039 2040 2041 2042 2043\n",
      " 2044 2045 2046 2047 2048 2049 2050 2051 2052 2053 2054 2055 2056 2057\n",
      " 2058 2059 2060 2061 2062 2063 2064 2065 2066 2067 2068 2069 2070 2071\n",
      " 2072 2073 2074 2075 2076 2077 2078 2079 2080 2081 2082 2083 2084 2085\n",
      " 2086 2087 2088 2089 2090 2091 2092 2093 2094 2095 2096 2097 2098 2099\n",
      " 2100 2101 2102 2103 2104 2105 2106 2107 2108 2109 2110 2111 2112 2113\n",
      " 2114 2115 2116 2117 2118 2119 2120 2121 2122 2123 2124 2125 2126 2127\n",
      " 2128 2129 2130 2131 2132 2133 2134 2135 2136 2137 2138 2139 2140 2141\n",
      " 2142 2143 2144 2145 2146 2147 2148 2149 2150 2151 2152 2153 2154 2155\n",
      " 2156 2157 2158 2159 2160 2161 2162 2163 2164 2165 2166 2167 2168 2169\n",
      " 2170 2171 2172 2173 2174 2175 2176 2177 2178 2179 2180 2181 2182 2183\n",
      " 2184 2185 2186 2187 2188 2189 2190 2191 2192 2193 2194 2195 2196 2197\n",
      " 2198 2199 2200 2201 2202 2203 2204 2205 2206 2207 2208 2209 2210 2211\n",
      " 2212 2213 2214 2215 2216 2217 2218 2219 2220 2221 2222 2223 2224 2225\n",
      " 2226 2227 2228 2229 2230 2231 2232 2233 2234 2235 2236 2237 2238 2239\n",
      " 2240 2241 2242 2243 2244 2245 2246 2247 2248 2249 2250 2251 2252 2253\n",
      " 2254 2255 2256 2257 2258 2259 2260 2261 2262 2263 2264 2265 2266 2267\n",
      " 2268 2269 2270 2271 2272 2273 2274 2275 2276 2277 2278 2279 2280 2281\n",
      " 2282 2283 2284 2285 2286 2287 2288 2289 2290 2291 2292 2293 2294 2295\n",
      " 2296 2297 2298 2299 2300 2301 2302 2303 2304 2305 2306 2307 2308 2309\n",
      " 2310 2311 2312 2313 2314 2315 2316 2317 2318 2319 2320 2321 2322 2323\n",
      " 2324 2325 2326 2327 2328 2329 2330 2331 2332 2333 2334 2335 2336 2337\n",
      " 2338 2339 2340 2341 2342 2343 2344 2345 2346 2347 2348 2349 2350 2351\n",
      " 2352 2353 2354 2355 2356 2357 2358 2359 2360 2361 2362 2363 2364 2365\n",
      " 2366 2367 2368 2369 2370 2371 2372 2373 2374 2375 2376 2377 2378 2379\n",
      " 2380 2381 2382 2383 2384 2385 2386 2387 2388 2389 2390 2391 2392 2393\n",
      " 2394 2395 2396 2397 2398 2399 2400 2401 2402 2403 2404 2405 2406 2407\n",
      " 2408 2409 2410 2411 2412 2413 2414 2415 2416 2417 2418 2419 2420 2421\n",
      " 2422 2423 2424 2425 2426 2427 2428 2429 2430 2431 2432 2433 2434 2435\n",
      " 2436 2437 2438 2439 2440 2441 2442 2443 2444 2445 2446 2447 2448 2449\n",
      " 2450 2451 2452 2453 2454 2455 2456 2457 2458 2459 2460 2461 2462 2463\n",
      " 2464 2465 2466 2467 2468 2469 2470 2471 2472 2473 2474 2475 2476 2477\n",
      " 2478 2479 2480 2481 2482 2483 2484 2485 2486 2487 2488 2489 2490 2491\n",
      " 2492 2493 2494 2495 2496 2497 2498 2499 2500 2501 2502 2503 2504 2505\n",
      " 2506 2507 2508 2509 2510 2511 2512 2513 2514 2515 2516 2517 2518 2519\n",
      " 2520 2521 2522 2523 2524 2525 2526 2527 2528 2529 2530 2531 2532 2533\n",
      " 2534 2535 2536 2537 2538 2539 2540 2541 2542 2543 2544 2545 2546 2547\n",
      " 2548 2549 2550 2551 2552 2553 2554 2555 2556 2557 2558 2559 2560 2561\n",
      " 2562 2563 2564 2565 2566 2567 2568 2569 2570 2571 2572 2573 2574 2575\n",
      " 2576 2577 2578 2579 2580 2581 2582 2583 2584 2585 2586 2587 2588 2589\n",
      " 2590 2591 2592 2593 2594 2595 2596 2597 2598 2599 2600 2601 2602 2603\n",
      " 2604 2605 2606 2607 2608 2609 2610 2611 2612 2613 2614 2615 2616 2617\n",
      " 2618 2619 2620 2621 2622 2623 2624 2625 2626 2627 2628 2629 2630 2631\n",
      " 2632 2633 2634 2635 2636 2637 2638 2639 2640 2641 2642 2643 2644 2645\n",
      " 2646 2647 2648 2649 2650 2651 2652 2653 2654 2655 2656 2657 2658 2659\n",
      " 2660 2661 2662 2663 2664 2665 2666 2667 2668 2669 2670 2671 2672 2673\n",
      " 2674 2675 2676 2677 2678 2679 2680 2681 2682 2683 2684 2685 2686 2687\n",
      " 2688 2689 2690 2691 2692 2693 2694 2695 2696 2697 2698 2699 2700 2701\n",
      " 2702 2703 2704 2705 2706 2707 2708 2709 2710 2711 2712 2713 2714 2715\n",
      " 2716 2717 2718 2719 2720 2721 2722 2723 2724 2725 2726 2727 2728 2729\n",
      " 2730 2731 2732 2733 2734 2735 2736 2737 2738 2739 2740 2741 2742 2743\n",
      " 2744 2745 2746 2747 2748 2749 2750 2751 2752 2753 2754 2755 2756 2757\n",
      " 2758 2759 2760 2761 2762 2763 2764 2765 2766 2767 2768 2769 2770 2771\n",
      " 2772 2773 2774 2775 2776 2777 2778 2779 2780 2781 2782 2783 2784 2785\n",
      " 2786 2787 2788 2789 2790 2791 2792 2793 2794 2795 2796 2797 2798 2799\n",
      " 2800 2801 2802 2803 2804 2805 2806 2807 2808 2809 2810 2811 2812 2813\n",
      " 2814 2815 2816 2817 2818 2819 2820 2821 2822 2823 2824 2825 2826 2827\n",
      " 2828 2829 2830 2831 2832 2833 2834 2835 2836 2837 2838 2839 2840 2841\n",
      " 2842 2843 2844 2845 2846 2847 2848 2849 2850 2851 2852 2853 2854 2855\n",
      " 2856 2857 2858 2859 2860 2861 2862 2863 2864 2865 2866 2867 2868 2869\n",
      " 2870 2871 2872 2873 2874 2875 2876 2877 2878 2879 2880 2881 2882 2883\n",
      " 2884 2885 2886 2887 2888 2889 2890 2891 2892 2893 2894 2895 2896 2897\n",
      " 2898 2899 2900 2901 2902 2903 2904 2905 2906 2907 2908 2909 2910 2911\n",
      " 2912 2913 2914 2915 2916 2917 2918 2919 2920 2921 2922 2923 2924 2925\n",
      " 2926 2927 2928 2929 2930 2931 2932 2933 2934 2935 2936 2937 2938 2939\n",
      " 2940 2941 2942 2943 2944 2945 2946 2947 2948 2949 2950 2951 2952 2953\n",
      " 2954 2955 2956 2957 2958 2959 2960 2961 2962 2963 2964 2965 2966 2967\n",
      " 2968 2969 2970 2971 2972 2973 2974 2975 2976 2977 2978 2979 2980 2981\n",
      " 2982 2983 2984 2985 2986 2987 2988 2989 2990 2991 2992 2993 2994 2995\n",
      " 2996 2997 2998 2999 3000 3001 3002 3003 3004 3005 3006 3007 3008 3009\n",
      " 3010 3011 3012 3013 3014 3015 3016 3017 3018 3019 3020 3021 3022 3023\n",
      " 3024 3025 3026 3027 3028 3029 3030 3031 3032 3033 3034 3035 3036 3037\n",
      " 3038 3039 3040 3041 3042 3043 3044 3045 3046 3047 3048 3049 3050 3051\n",
      " 3052 3053 3054 3055 3056 3057 3058 3059 3060 3061 3062 3063 3064 3065\n",
      " 3066 3067 3068 3069 3070 3071 3072 3073 3074 3075 3076 3077 3078 3079\n",
      " 3080 3081 3082 3083 3084 3085 3086 3087 3088 3089 3090 3091 3092 3093\n",
      " 3094 3095 3096 3097 3098 3099 3100 3101 3102 3103 3104 3105 3106 3107\n",
      " 3108 3109 3110 3111 3112 3113 3114 3115 3116 3117 3118 3119 3120 3121\n",
      " 3122 3123 3124 3125 3126 3127 3128 3129 3130 3131 3132 3133 3134 3135\n",
      " 3136 3137 3138 3139 3140 3141 3142 3143 3144 3145 3146 3147 3148 3149\n",
      " 3150 3151 3152 3153 3154 3155 3156 3157 3158 3159 3160 3161 3162 3163\n",
      " 3164 3165 3166 3167 3168 3169 3170 3171 3172 3173 3174 3175 3176 3177\n",
      " 3178 3179 3180 3181 3182 3183 3184 3185 3186 3187 3188 3189 3190 3191\n",
      " 3192 3193 3194 3195 3196 3197 3198 3199 3200 3201 3202 3203 3204 3205\n",
      " 3206 3207 3208 3209 3210 3211 3212 3213 3214 3215 3216 3217 3218 3219\n",
      " 3220 3221 3222 3223 3224 3225 3226 3227 3228 3229 3230 3231 3232 3233\n",
      " 3234 3235 3236 3237 3238 3239 3240 3241 3242 3243 3244 3245 3246 3247\n",
      " 3248 3249 3250 3251 3252 3253 3254 3255 3256 3257 3258 3259 3260 3261\n",
      " 3262 3263 3264 3265 3266 3267 3268 3269 3270 3271 3272 3273 3274 3275\n",
      " 3276 3277 3278 3279 3280 3281 3282 3283 3284 3285 3286 3287 3288 3289\n",
      " 3290 3291 3292 3293 3294 3295 3296 3297 3298 3299 3300 3301 3302 3303\n",
      " 3304 3305 3306 3307 3308 3309 3310 3311 3312 3313 3314 3315 3316 3317\n",
      " 3318 3319 3320 3321 3322 3323 3324 3325 3326 3327 3328 3329 3330 3331\n",
      " 3332 3333 3334 3335 3336 3337 3338 3339 3340 3341 3342 3343 3344 3345\n",
      " 3346 3347 3348 3349 3350 3351 3352 3353 3354 3355 3356 3357 3358 3359\n",
      " 3360 3361 3362 3363 3364 3365 3366 3367 3368 3369 3370 3371 3372 3373\n",
      " 3374 3375 3376 3377 3378 3379 3380 3381 3382 3383 3384 3385 3386 3387\n",
      " 3388 3389 3390 3391 3392 3393 3394 3395 3396 3397 3398 3399 3400 3401\n",
      " 3402 3403 3404 3405 3406 3407 3408 3409 3410 3411 3412 3413 3414 3415\n",
      " 3416 3417 3418 3419 3420 3421 3422 3423 3424 3425 3426 3427 3428 3429\n",
      " 3430 3431 3432 3433 3434 3435 3436 3437 3438 3439 3440 3441 3442 3443\n",
      " 3444 3445 3446 3447 3448 3449 3450 3451 3452 3453 3454 3455 3456 3457\n",
      " 3458 3459 3460 3461 3462 3463 3464 3465 3466 3467 3468 3469 3470 3471\n",
      " 3472 3473 3474 3475 3476 3477 3478 3479 3480 3481 3482 3483 3484 3485\n",
      " 3486 3487 3488 3489 3490 3491 3492 3493 3494 3495 3496 3497 3498 3499\n",
      " 3500 3501 3502 3503 3504 3505 3506 3507 3508 3509 3510 3511 3512 3513\n",
      " 3514 3515 3516 3517 3518 3519 3520 3521 3522 3523 3524 3525 3526 3527\n",
      " 3528 3529 3530 3531 3532 3533 3534 3535 3536 3537 3538 3539 3540 3541\n",
      " 3542 3543 3544 3545 3546 3547 3548 3549 3550 3551 3552 3553 3554 3555\n",
      " 3556 3557 3558 3559 3560 3561 3562 3563 3564 3565 3566 3567 3568 3569\n",
      " 3570 3571 3572 3573 3574 3575 3576 3577 3578 3579 3580 3581 3582 3583\n",
      " 3584 3585 3586 3587 3588 3589 3590 3591 3592 3593 3594 3595 3596 3597\n",
      " 3598 3599 3600 3601 3602 3603 3604 3605 3606 3607 3608 3609 3610 3611\n",
      " 3612 3613 3614 3615 3616 3617 3618 3619 3620 3621 3622 3623 3624 3625\n",
      " 3626 3627 3628 3629 3630 3631 3632 3633 3634 3635 3636 3637 3638 3639\n",
      " 3640 3641 3642 3643 3644 3645 3646 3647 3648 3649 3650 3651 3652 3653\n",
      " 3654 3655 3656 3657 3658 3659 3660 3661 3662 3663 3664 3665 3666 3667\n",
      " 3668 3669 3670 3671 3672 3673 3674 3675 3676 3677 3678 3679 3680 3681\n",
      " 3682 3683 3684 3685 3686 3687 3688 3689 3690 3691 3692 3693 3694 3695\n",
      " 3696 3697 3698 3699 3700 3701 3702 3703 3704 3705 3706 3707 3708 3709\n",
      " 3710 3711 3712 3713 3714 3715 3716 3717 3718 3719 3720 3721 3722 3723\n",
      " 3724 3725 3726 3727 3728 3729 3730 3731 3732 3733 3734 3735 3736 3737\n",
      " 3738 3739 3740 3741 3742 3743 3744 3745 3746 3747 3748 3749 3750 3751\n",
      " 3752 3753 3754 3755 3756 3757 3758 3759 3760 3761 3762 3763 3764 3765\n",
      " 3766 3767 3768 3769 3770 3771 3772 3773 3774 3775 3776 3777 3778 3779\n",
      " 3780 3781 3782 3783 3784 3785 3786 3787 3788 3789 3790 3791 3792 3793\n",
      " 3794 3795 3796 3797 3798 3799 3800 3801 3802 3803 3804 3805 3806 3807\n",
      " 3808 3809 3810 3811 3812 3813 3814 3815 3816 3817 3818 3819 3820 3821\n",
      " 3822 3823 3824 3825 3826 3827 3828 3829 3830 3831 3832 3833 3834 3835\n",
      " 3836 3837 3838 3839 3840 3841 3842 3843 3844 3845 3846 3847 3848 3849\n",
      " 3850 3851 3852 3853 3854 3855 3856 3857 3858 3859 3860 3861 3862 3863\n",
      " 3864 3865 3866 3867 3868 3869 3870 3871 3872 3873 3874 3875 3876 3877\n",
      " 3878 3879 3880 3881 3882 3883 3884 3885 3886 3887 3888 3889 3890 3891\n",
      " 3892 3893 3894 3895 3896 3897 3898 3899 3900 3901 3902 3903 3904 3905\n",
      " 3906 3907 3908 3909 3910 3911 3912 3913 3914 3915 3916 3917 3918 3919\n",
      " 3920 3921 3922 3923 3924 3925 3926 3927 3928 3929 3930 3931 3932 3933\n",
      " 3934 3935 3936 3937 3938 3939 3940 3941 3942 3943 3944 3945 3946 3947\n",
      " 3948 3949 3950 3951 3952 3953 3954 3955 3956 3957 3958 3959 3960 3961\n",
      " 3962 3963 3964 3965 3966 3967 3968 3969 3970 3971 3972 3973 3974 3975\n",
      " 3976 3977 3978 3979 3980 3981 3982 3983 3984 3985 3986 3987 3988 3989\n",
      " 3990 3991 3992 3993 3994 3995 3996 3997 3998 3999 4000 4001 4002 4003\n",
      " 4004 4005 4006 4007 4008 4009 4010 4011 4012 4013 4014 4015 4016 4017\n",
      " 4018 4019 4020 4021 4022 4023 4024 4025 4026 4027 4028 4029 4030 4031\n",
      " 4032 4033 4034 4035 4036 4037 4038 4039 4040 4041 4042 4043 4044 4045\n",
      " 4046 4047 4048 4049 4050 4051 4052 4053 4054 4055 4056 4057 4058 4059\n",
      " 4060 4061 4062 4063 4064 4065 4066 4067 4068 4069 4070 4071 4072 4073\n",
      " 4074 4075 4076 4077 4078 4079 4080 4081 4082 4083 4084 4085 4086 4087\n",
      " 4088 4089 4090 4091 4092 4093 4094 4095 4096 4097 4098 4099 4100 4101\n",
      " 4102 4103 4104 4105 4106 4107 4108 4109 4110 4111 4112 4113 4114 4115\n",
      " 4116 4117 4118 4119 4120 4121 4122 4123 4124 4125 4126 4127 4128 4129\n",
      " 4130 4131 4132 4133 4134 4135 4136 4137 4138 4139 4140 4141 4142 4143\n",
      " 4144 4145 4146 4147 4148 4149 4150 4151 4152 4153 4154 4155 4156 4157\n",
      " 4158 4159 4160 4161 4162 4163 4164 4165 4166 4167 4168 4169 4170 4171\n",
      " 4172 4173 4174 4175 4176 4177 4178 4179 4180 4181 4182 4183 4184 4185\n",
      " 4186 4187 4188 4189 4190 4191 4192 4193 4194 4195 4196 4197 4198 4199\n",
      " 4200 4201 4202 4203 4204 4205 4206 4207 4208 4209 4210 4211 4212 4213\n",
      " 4214 4215 4216 4217 4218 4219 4220 4221 4222 4223 4224 4225 4226 4227\n",
      " 4228 4229 4230 4231 4232 4233 4234 4235 4236 4237 4238 4239 4240 4241\n",
      " 4242 4243 4244 4245 4246 4247 4248 4249 4250 4251 4252 4253 4254 4255\n",
      " 4256 4257 4258 4259 4260 4261 4262 4263 4264 4265 4266 4267 4268 4269\n",
      " 4270 4271 4272 4273 4274 4275 4276 4277 4278 4279 4280 4281 4282 4283\n",
      " 4284 4285 4286 4287 4288 4289 4290 4291 4292 4293 4294 4295 4296 4297\n",
      " 4298 4299 4300 4301 4302 4303 4304 4305 4306 4307 4308 4309 4310 4311\n",
      " 4312 4313 4314 4315 4316 4317 4318 4319 4320 4321 4322 4323 4324 4325\n",
      " 4326 4327 4328 4329 4330 4331 4332 4333 4334 4335 4336 4337 4338 4339\n",
      " 4340 4341 4342 4343 4344 4345 4346 4347 4348 4349 4350 4351 4352 4353\n",
      " 4354 4355 4356 4357 4358 4359 4360 4361 4362 4363 4364 4365 4366 4367\n",
      " 4368 4369 4370 4371 4372 4373 4374 4375 4376 4377 4378 4379 4380 4381\n",
      " 4382 4383 4384 4385 4386 4387 4388 4389 4390 4391 4392 4393 4394 4395\n",
      " 4396 4397 4398 4399 4400 4401 4402 4403 4404 4405 4406 4407 4408 4409\n",
      " 4410 4411 4412 4413 4414 4415 4416 4417 4418 4419 4420 4421 4422 4423\n",
      " 4424 4425 4426 4427 4428 4429 4430 4431 4432 4433 4434 4435 4436 4437\n",
      " 4438 4439 4440 4441 4442 4443 4444 4445 4446 4447 4448 4449 4450 4451\n",
      " 4452 4453 4454 4455 4456 4457 4458 4459 4460 4461 4462 4463 4464 4465\n",
      " 4466 4467 4468 4469 4470 4471 4472 4473 4474 4475 4476 4477 4478 4479\n",
      " 4480 4481 4482 4483 4484 4485 4486 4487 4488 4489 4490 4491 4492 4493\n",
      " 4494 4495 4496 4497 4498 4499 4500 4501 4502 4503 4504 4505 4506 4507\n",
      " 4508 4509 4510 4511 4512 4513 4514 4515 4516 4517 4518 4519 4520 4521\n",
      " 4522 4523 4524 4525 4526 4527 4528 4529 4530 4531 4532 4533 4534 4535\n",
      " 4536 4537 4538 4539 4540 4541 4542 4543 4544 4545 4546 4547 4548 4549\n",
      " 4550 4551 4552 4553 4554 4555 4556 4557 4558 4559 4560 4561 4562 4563\n",
      " 4564 4565 4566 4567 4568 4569 4570 4571 4572 4573 4574 4575 4576 4577\n",
      " 4578 4579 4580 4581 4582 4583 4584 4585 4586 4587 4588 4589 4590 4591\n",
      " 4592 4593 4594 4595 4596 4597 4598 4599 4600 4601 4602 4603 4604 4605\n",
      " 4606 4607 4608 4609 4610 4611 4612 4613 4614 4615 4616 4617 4618 4619\n",
      " 4620 4621 4622 4623 4624 4625 4626 4627 4628 4629 4630 4631 4632 4633\n",
      " 4634 4635 4636 4637 4638 4639 4640 4641 4642 4643 4644 4645 4646 4647\n",
      " 4648 4649 4650 4651 4652 4653 4654 4655 4656 4657 4658 4659 4660 4661\n",
      " 4662 4663 4664 4665 4666 4667 4668 4669 4670 4671 4672 4673 4674 4675\n",
      " 4676 4677 4678 4679 4680 4681 4682 4683 4684 4685 4686 4687 4688 4689\n",
      " 4690 4691 4692 4693 4694 4695 4696 4697 4698 4699 4700 4701 4702 4703\n",
      " 4704 4705 4706 4707 4708 4709 4710 4711 4712 4713 4714 4715 4716 4717\n",
      " 4718 4719 4720 4721 4722 4723 4724 4725 4726 4727 4728 4729 4730 4731\n",
      " 4732 4733 4734 4735 4736 4737 4738 4739 4740 4741 4742 4743 4744 4745\n",
      " 4746 4747 4748 4749 4750 4751 4752 4753 4754 4755 4756 4757 4758 4759\n",
      " 4760 4761 4762 4763 4764 4765 4766 4767 4768 4769 4770 4771 4772 4773\n",
      " 4774 4775 4776 4777 4778 4779 4780 4781 4782 4783 4784 4785 4786 4787\n",
      " 4788 4789 4790 4791 4792 4793 4794 4795 4796 4797 4798 4799 4800 4801\n",
      " 4802 4803 4804 4805 4806 4807 4808 4809 4810 4811 4812 4813 4814 4815\n",
      " 4816 4817 4818 4819 4820 4821 4822 4823 4824 4825 4826 4827 4828 4829\n",
      " 4830 4831 4832 4833 4834 4835 4836 4837 4838 4839 4840 4841 4842 4843\n",
      " 4844 4845 4846 4847 4848 4849 4850 4851 4852 4853 4854 4855 4856 4857\n",
      " 4858 4859 4860 4861 4862 4863 4864 4865 4866 4867 4868 4869 4870 4871\n",
      " 4872 4873 4874 4875 4876 4877 4878 4879 4880 4881 4882 4883 4884 4885\n",
      " 4886 4887 4888 4889 4890 4891 4892 4893 4894 4895 4896 4897 4898 4899\n",
      " 4900 4901 4902 4903 4904 4905 4906 4907 4908 4909 4910 4911 4912 4913\n",
      " 4914 4915 4916 4917 4918 4919 4920 4921 4922 4923 4924 4925 4926 4927\n",
      " 4928 4929 4930 4931 4932 4933 4934 4935 4936 4937 4938 4939 4940 4941\n",
      " 4942 4943 4944 4945 4946 4947 4948 4949 4950 4951 4952 4953 4954 4955\n",
      " 4956 4957 4958 4959 4960 4961 4962 4963 4964 4965 4966 4967 4968 4969\n",
      " 4970 4971 4972 4973 4974 4975 4976 4977 4978 4979 4980 4981 4982 4983\n",
      " 4984 4985 4986 4987 4988 4989 4990 4991 4992 4993 4994 4995 4996 4997\n",
      " 4998 4999 5000 5001 5002 5003 5004 5005 5006 5007 5008 5009 5010 5011\n",
      " 5012 5013 5014 5015 5016 5017 5018 5019 5020 5021 5022 5023 5024 5025\n",
      " 5026 5027 5028 5029 5030 5031 5032 5033 5034 5035 5036 5037 5038 5039\n",
      " 5040 5041 5042 5043 5044 5045 5046 5047 5048 5049 5050 5051 5052 5053\n",
      " 5054 5055 5056 5057 5058 5059 5060 5061 5062 5063 5064 5065 5066 5067\n",
      " 5068 5069 5070 5071 5072 5073 5074 5075 5076 5077 5078 5079 5080 5081\n",
      " 5082 5083 5084 5085 5086 5087 5088 5089 5090 5091 5092 5093 5094 5095\n",
      " 5096 5097 5098 5099 5100 5101 5102 5103 5104 5105 5106 5107 5108 5109\n",
      " 5110 5111 5112 5113 5114 5115 5116 5117 5118 5119 5120 5121 5122 5123\n",
      " 5124 5125 5126 5127 5128 5129 5130 5131 5132 5133 5134 5135 5136 5137\n",
      " 5138 5139 5140 5141 5142 5143 5144 5145 5146 5147 5148 5149 5150 5151\n",
      " 5152 5153 5154 5155 5156 5157 5158 5159 5160 5161 5162 5163 5164 5165\n",
      " 5166 5167 5168 5169 5170 5171 5172 5173 5174 5175 5176 5177 5178 5179\n",
      " 5180 5181 5182 5183 5184 5185 5186 5187 5188 5189 5190 5191 5192 5193\n",
      " 5194 5195 5196 5197 5198 5199 5200 5201 5202 5203 5204 5205 5206 5207\n",
      " 5208 5209 5210 5211 5212 5213 5214 5215 5216 5217 5218 5219 5220 5221\n",
      " 5222 5223 5224 5225 5226 5227 5228 5229 5230 5231 5232 5233 5234 5235\n",
      " 5236 5237 5238 5239 5240 5241 5242 5243 5244 5245 5246 5247 5248 5249\n",
      " 5250 5251 5252 5253 5254 5255 5256 5257 5258 5259 5260 5261 5262 5263\n",
      " 5264 5265 5266 5267 5268 5269 5270 5271 5272 5273 5274 5275 5276 5277\n",
      " 5278 5279 5280 5281 5282 5283 5284 5285 5286 5287 5288 5289 5290 5291\n",
      " 5292 5293 5294 5295 5296 5297 5298 5299 5300 5301 5302 5303 5304 5305\n",
      " 5306 5307 5308 5309 5310 5311 5312 5313 5314 5315 5316 5317 5318 5319\n",
      " 5320 5321 5322 5323 5324 5325 5326 5327 5328 5329 5330 5331 5332 5333\n",
      " 5334 5335 5336 5337 5338 5339 5340 5341 5342 5343 5344 5345 5346 5347\n",
      " 5348 5349 5350 5351 5352 5353 5354 5355 5356 5357 5358 5359 5360 5361\n",
      " 5362 5363 5364 5365 5366 5367 5368 5369 5370 5371 5372 5373 5374 5375\n",
      " 5376 5377 5378 5379 5380 5381 5382 5383 5384 5385 5386 5387 5388 5389\n",
      " 5390 5391 5392 5393 5394 5395 5396 5397 5398 5399 5400 5401 5402 5403\n",
      " 5404 5405 5406 5407 5408 5409 5410 5411 5412 5413 5414 5415 5416 5417\n",
      " 5418 5419 5420 5421 5422 5423 5424 5425 5426 5427 5428 5429 5430 5431\n",
      " 5432 5433 5434 5435 5436 5437 5438 5439 5440 5441 5442 5443 5444 5445\n",
      " 5446 5447 5448 5449 5450 5451 5452 5453 5454 5455 5456 5457 5458 5459\n",
      " 5460 5461 5462 5463 5464 5465 5466 5467 5468 5469 5470 5471 5472 5473\n",
      " 5474 5475 5476 5477 5478 5479 5480 5481 5482 5483 5484 5485 5486 5487\n",
      " 5488 5489 5490 5491 5492 5493 5494 5495 5496 5497 5498 5499 5500 5501\n",
      " 5502 5503 5504 5505 5506 5507 5508 5509 5510 5511 5512 5513 5514 5515\n",
      " 5516 5517 5518 5519 5520 5521 5522 5523 5524 5525 5526 5527 5528 5529\n",
      " 5530 5531 5532 5533 5534 5535 5536 5537 5538 5539 5540 5541 5542 5543\n",
      " 5544 5545 5546 5547 5548 5549 5550 5551 5552 5553 5554 5555 5556 5557\n",
      " 5558 5559 5560 5561 5562 5563 5564 5565 5566 5567 5568 5569 5570 5571\n",
      " 5572 5573 5574 5575 5576 5577 5578 5579 5580 5581 5582 5583 5584 5585\n",
      " 5586 5587 5588 5589 5590 5591 5592 5593 5594 5595 5596 5597 5598 5599\n",
      " 5600 5601 5602 5603 5604 5605 5606 5607 5608 5609 5610 5611 5612 5613\n",
      " 5614 5615 5616 5617 5618 5619 5620 5621 5622 5623 5624 5625 5626 5627\n",
      " 5628 5629 5630 5631 5632 5633 5634 5635 5636 5637 5638 5639 5640 5641\n",
      " 5642 5643 5644 5645 5646 5647 5648 5649 5650 5651 5652 5653 5654 5655\n",
      " 5656 5657 5658 5659 5660 5661 5662 5663 5664 5665 5666 5667 5668 5669\n",
      " 5670 5671 5672 5673 5674 5675 5676 5677 5678 5679 5680 5681 5682 5683\n",
      " 5684 5685 5686 5687 5688 5689 5690 5691 5692 5693 5694 5695 5696 5697\n",
      " 5698 5699 5700 5701 5702 5703 5704 5705 5706 5707 5708 5709 5710 5711\n",
      " 5712 5713 5714 5715 5716 5717 5718 5719 5720 5721 5722 5723 5724 5725\n",
      " 5726 5727 5728 5729 5730 5731 5732 5733 5734 5735 5736 5737 5738 5739\n",
      " 5740 5741 5742 5743 5744 5745 5746 5747 5748 5749 5750 5751 5752 5753\n",
      " 5754 5755 5756 5757 5758 5759 5760 5761 5762 5763 5764 5765 5766 5767\n",
      " 5768 5769 5770 5771 5772 5773 5774 5775 5776 5777 5778 5779 5780 5781\n",
      " 5782 5783 5784 5785 5786 5787 5788 5789 5790 5791 5792 5793 5794 5795\n",
      " 5796 5797 5798 5799 5800 5801 5802 5803 5804 5805 5806 5807 5808 5809\n",
      " 5810 5811 5812 5813 5814 5815 5816 5817 5818 5819 5820 5821 5822 5823\n",
      " 5824 5825 5826 5827 5828 5829 5830 5831 5832 5833 5834 5835 5836 5837\n",
      " 5838 5839 5840 5841 5842 5843 5844 5845 5846 5847 5848 5849 5850 5851\n",
      " 5852 5853 5854 5855 5856 5857 5858 5859 5860 5861 5862 5863 5864 5865\n",
      " 5866 5867 5868 5869 5870 5871 5872 5873 5874 5875 5876 5877 5878 5879\n",
      " 5880 5881 5882 5883 5884 5885 5886 5887 5888 5889 5890 5891 5892 5893\n",
      " 5894 5895 5896 5897 5898 5899 5900 5901 5902 5903 5904 5905 5906 5907\n",
      " 5908 5909 5910 5911 5912 5913 5914 5915 5916 5917 5918 5919 5920 5921\n",
      " 5922 5923 5924 5925 5926 5927 5928 5929 5930 5931 5932 5933 5934 5935\n",
      " 5936 5937 5938 5939 5940 5941 5942 5943 5944 5945 5946 5947 5948 5949\n",
      " 5950 5951 5952 5953 5954 5955 5956 5957 5958 5959 5960 5961 5962 5963\n",
      " 5964 5965 5966 5967 5968 5969 5970 5971 5972 5973 5974 5975 5976 5977\n",
      " 5978 5979 5980 5981 5982 5983 5984 5985 5986 5987 5988 5989 5990 5991\n",
      " 5992 5993 5994 5995 5996 5997 5998 5999 6000 6001 6002 6003 6004 6005\n",
      " 6006 6007 6008 6009 6010 6011 6012 6013 6014 6015 6016 6017 6018 6019\n",
      " 6020 6021 6022 6023 6024 6025 6026 6027 6028 6029 6030 6031 6032 6033\n",
      " 6034 6035 6036 6037 6038 6039 6040 6041 6042 6043 6044 6045 6046 6047\n",
      " 6048 6049 6050 6051 6052 6053 6054 6055 6056 6057 6058 6059 6060 6061\n",
      " 6062 6063 6064 6065 6066 6067 6068 6069 6070 6071 6072 6073 6074 6075\n",
      " 6076 6077 6078 6079 6080 6081 6082 6083 6084 6085 6086 6087 6088 6089\n",
      " 6090 6091 6092 6093 6094 6095 6096 6097 6098 6099 6100 6101 6102 6103\n",
      " 6104 6105 6106 6107 6108 6109 6110 6111 6112 6113 6114 6115 6116 6117\n",
      " 6118 6119 6120 6121 6122 6123 6124 6125 6126 6127 6128 6129 6130 6131\n",
      " 6132 6133 6134 6135 6136 6137 6138 6139 6140 6141 6142 6143 6144 6145\n",
      " 6146 6147 6148 6149 6150 6151 6152 6153 6154 6155 6156 6157 6158 6159\n",
      " 6160 6161 6162 6163 6164 6165 6166 6167 6168 6169 6170 6171 6172 6173\n",
      " 6174 6175 6176 6177 6178 6179 6180 6181 6182 6183 6184 6185 6186 6187\n",
      " 6188 6189 6190 6191 6192 6193 6194 6195 6196 6197 6198 6199 6200 6201\n",
      " 6202 6203 6204 6205 6206 6207 6208 6209 6210 6211 6212 6213 6214 6215\n",
      " 6216 6217 6218 6219 6220 6221 6222 6223 6224 6225 6226 6227 6228 6229\n",
      " 6230 6231 6232 6233 6234 6235 6236 6237 6238 6239 6240 6241 6242 6243\n",
      " 6244 6245 6246 6247 6248 6249 6250 6251 6252 6253 6254 6255 6256 6257\n",
      " 6258 6259 6260 6261 6262 6263 6264 6265 6266 6267 6268 6269 6270 6271\n",
      " 6272 6273 6274 6275 6276 6277 6278 6279 6280 6281 6282 6283 6284 6285\n",
      " 6286 6287 6288 6289 6290 6291 6292 6293 6294 6295 6296 6297 6298 6299\n",
      " 6300 6301 6302 6303 6304 6305 6306 6307 6308 6309 6310 6311 6312 6313\n",
      " 6314 6315 6316 6317 6318 6319 6320 6321 6322 6323 6324 6325 6326 6327\n",
      " 6328 6329 6330 6331 6332 6333 6334 6335 6336 6337 6338 6339 6340 6341\n",
      " 6342 6343 6344 6345 6346 6347 6348 6349 6350 6351 6352 6353 6354 6355\n",
      " 6356 6357 6358 6359 6360 6361 6362 6363 6364 6365 6366 6367 6368 6369\n",
      " 6370 6371 6372 6373 6374 6375 6376 6377 6378 6379 6380 6381 6382 6383\n",
      " 6384 6385 6386 6387 6388 6389 6390 6391 6392 6393 6394 6395 6396 6397\n",
      " 6398 6399 6400 6401 6402 6403 6404 6405 6406 6407 6408 6409 6410 6411\n",
      " 6412 6413 6414 6415 6416 6417 6418 6419 6420 6421 6422 6423 6424 6425\n",
      " 6426 6427 6428 6429 6430 6431 6432 6433 6434 6435 6436 6437 6438 6439\n",
      " 6440 6441 6442 6443 6444 6445 6446 6447 6448 6449 6450 6451 6452 6453\n",
      " 6454 6455 6456 6457 6458 6459 6460 6461 6462 6463 6464 6465 6466 6467\n",
      " 6468 6469 6470 6471 6472 6473 6474 6475 6476 6477 6478 6479 6480 6481\n",
      " 6482 6483 6484 6485 6486 6487 6488 6489 6490 6491 6492 6493 6494 6495\n",
      " 6496 6497 6498 6499 6500 6501 6502 6503 6504 6505 6506 6507 6508 6509\n",
      " 6510 6511 6512 6513 6514 6515 6516 6517 6518 6519 6520 6521 6522 6523\n",
      " 6524 6525 6526 6527 6528 6529 6530 6531 6532 6533 6534 6535 6536 6537\n",
      " 6538 6539 6540 6541 6542 6543 6544 6545 6546 6547 6548 6549 6550 6551\n",
      " 6552 6553 6554 6555 6556 6557 6558 6559 6560 6561 6562 6563 6564 6565\n",
      " 6566 6567 6568 6569 6570 6571 6572 6573 6574 6575 6576 6577 6578 6579\n",
      " 6580 6581 6582 6583 6584 6585 6586 6587 6588 6589 6590 6591 6592 6593\n",
      " 6594 6595 6596 6597 6598 6599 6600 6601 6602 6603 6604 6605 6606 6607\n",
      " 6608 6609 6610 6611 6612 6613 6614 6615 6616 6617 6618 6619 6620 6621\n",
      " 6622 6623 6624 6625 6626 6627 6628 6629 6630 6631 6632 6633 6634 6635\n",
      " 6636 6637 6638 6639 6640 6641 6642 6643 6644 6645 6646 6647 6648 6649\n",
      " 6650 6651 6652 6653 6654 6655 6656 6657 6658 6659 6660 6661 6662 6663\n",
      " 6664 6665 6666 6667 6668 6669 6670 6671 6672 6673 6674 6675 6676 6677\n",
      " 6678 6679 6680 6681 6682 6683 6684 6685 6686 6687 6688 6689 6690 6691\n",
      " 6692 6693 6694 6695 6696 6697 6698 6699 6700 6701 6702 6703 6704 6705\n",
      " 6706 6707 6708 6709 6710 6711 6712 6713 6714 6715 6716 6717 6718 6719\n",
      " 6720 6721 6722 6723 6724 6725 6726 6727 6728 6729 6730 6731 6732 6733\n",
      " 6734 6735 6736 6737 6738 6739 6740 6741 6742 6743 6744 6745 6746 6747\n",
      " 6748 6749 6750 6751 6752 6753 6754 6755 6756 6757 6758 6759 6760 6761\n",
      " 6762 6763 6764 6765 6766 6767 6768 6769 6770 6771 6772 6773 6774 6775\n",
      " 6776 6777 6778 6779 6780 6781 6782 6783 6784 6785 6786 6787 6788 6789\n",
      " 6790 6791 6792 6793 6794 6795 6796 6797 6798 6799 6800 6801 6802 6803\n",
      " 6804 6805 6806 6807 6808 6809 6810 6811 6812 6813 6814 6815 6816 6817\n",
      " 6818 6819 6820 6821 6822 6823 6824 6825 6826 6827 6828 6829 6830 6831\n",
      " 6832 6833 6834 6835 6836 6837 6838 6839 6840 6841 6842 6843 6844 6845\n",
      " 6846 6847 6848 6849 6850 6851 6852 6853 6854 6855 6856 6857 6858 6859\n",
      " 6860 6861 6862 6863 6864 6865 6866 6867 6868 6869 6870 6871 6872 6873\n",
      " 6874 6875 6876 6877 6878 6879 6880 6881 6882 6883 6884 6885 6886 6887\n",
      " 6888 6889 6890 6891 6892 6893 6894 6895 6896 6897 6898 6899 6900 6901\n",
      " 6902 6903 6904 6905 6906 6907 6908 6909 6910 6911 6912 6913 6914 6915\n",
      " 6916 6917 6918 6919 6920 6921 6922 6923 6924 6925 6926 6927 6928 6929\n",
      " 6930 6931 6932 6933 6934 6935 6936 6937 6938 6939 6940 6941 6942 6943\n",
      " 6944 6945 6946 6947 6948 6949 6950 6951 6952 6953 6954 6955 6956 6957\n",
      " 6958 6959 6960 6961 6962 6963 6964 6965 6966 6967 6968 6969 6970 6971\n",
      " 6972 6973 6974 6975 6976 6977 6978 6979 6980 6981 6982 6983 6984 6985\n",
      " 6986 6987 6988 6989 6990 6991 6992 6993 6994 6995 6996 6997 6998 6999\n",
      " 7000 7001 7002 7003 7004 7005 7006 7007 7008 7009 7010 7011 7012 7013\n",
      " 7014 7015 7016 7017 7018 7019 7020 7021 7022 7023 7024 7025 7026 7027\n",
      " 7028 7029 7030 7031 7032 7033 7034 7035 7036 7037 7038 7039 7040 7041\n",
      " 7042 7043 7044 7045 7046 7047 7048 7049 7050 7051 7052 7053 7054 7055\n",
      " 7056 7057 7058 7059 7060 7061 7062 7063 7064 7065 7066 7067 7068 7069\n",
      " 7070 7071 7072 7073 7074 7075 7076 7077 7078 7079 7080 7081 7082 7083\n",
      " 7084 7085 7086 7087 7088 7089 7090 7091 7092 7093 7094 7095 7096 7097\n",
      " 7098 7099 7100 7101 7102 7103 7104 7105 7106 7107 7108 7109 7110 7111\n",
      " 7112 7113 7114 7115 7116 7117 7118 7119 7120 7121 7122 7123 7124 7125\n",
      " 7126 7127 7128 7129 7130 7131 7132 7133 7134 7135 7136 7137 7138 7139\n",
      " 7140 7141 7142 7143 7144 7145 7146 7147 7148 7149 7150 7151 7152 7153\n",
      " 7154 7155 7156 7157 7158 7159 7160 7161 7162 7163 7164 7165 7166 7167\n",
      " 7168 7169 7170 7171 7172 7173 7174 7175 7176 7177 7178 7179 7180 7181\n",
      " 7182 7183 7184 7185 7186 7187 7188 7189 7190 7191 7192 7193 7194 7195\n",
      " 7196 7197 7198 7199 7200 7201 7202 7203 7204 7205 7206 7207 7208 7209\n",
      " 7210 7211 7212 7213 7214 7215 7216 7217 7218 7219 7220 7221 7222 7223\n",
      " 7224 7225 7226 7227 7228 7229 7230 7231 7232 7233 7234 7235 7236 7237\n",
      " 7238 7239 7240 7241 7242 7243 7244 7245 7246 7247 7248 7249 7250 7251\n",
      " 7252 7253 7254 7255 7256 7257 7258 7259 7260 7261 7262 7263 7264 7265\n",
      " 7266 7267 7268 7269 7270 7271 7272 7273 7274 7275 7276 7277 7278 7279\n",
      " 7280 7281 7282 7283 7284 7285 7286 7287 7288 7289 7290 7291 7292 7293\n",
      " 7294 7295 7296 7297 7298 7299 7300 7301 7302 7303 7304 7305 7306 7307\n",
      " 7308 7309 7310 7311 7312 7313 7314 7315 7316 7317 7318 7319 7320 7321\n",
      " 7322 7323 7324 7325 7326 7327 7328 7329 7330 7331 7332 7333 7334 7335\n",
      " 7336 7337 7338 7339 7340 7341 7342 7343 7344 7345 7346 7347 7348 7349\n",
      " 7350 7351 7352 7353 7354 7355 7356 7357 7358 7359 7360 7361 7362 7363\n",
      " 7364 7365 7366 7367 7368 7369 7370 7371 7372 7373 7374 7375 7376 7377\n",
      " 7378 7379 7380 7381 7382 7383 7384 7385 7386 7387 7388 7389 7390 7391\n",
      " 7392 7393 7394 7395 7396 7397 7398 7399 7400 7401 7402 7403 7404 7405\n",
      " 7406 7407 7408 7409 7410 7411 7412 7413 7414 7415 7416 7417 7418 7419\n",
      " 7420 7421 7422 7423 7424 7425 7426 7427 7428 7429 7430 7431 7432 7433\n",
      " 7434 7435 7436 7437 7438 7439 7440 7441 7442 7443 7444 7445 7446 7447\n",
      " 7448 7449 7450 7451 7452 7453 7454 7455 7456 7457 7458 7459 7460 7461\n",
      " 7462 7463 7464 7465 7466 7467 7468 7469 7470 7471 7472 7473 7474 7475\n",
      " 7476 7477 7478 7479 7480 7481 7482 7483 7484 7485 7486 7487 7488 7489\n",
      " 7490 7491 7492 7493 7494 7495 7496 7497 7498 7499 7500 7501 7502 7503\n",
      " 7504 7505 7506 7507 7508 7509 7510 7511 7512 7513 7514 7515 7516 7517\n",
      " 7518 7519 7520 7521 7522 7523 7524 7525 7526 7527 7528 7529 7530 7531\n",
      " 7532 7533 7534 7535 7536 7537 7538 7539 7540 7541 7542 7543 7544 7545\n",
      " 7546 7547 7548 7549 7550 7551 7552 7553 7554 7555 7556 7557 7558 7559\n",
      " 7560 7561 7562 7563 7564 7565 7566 7567 7568 7569 7570 7571 7572 7573\n",
      " 7574 7575 7576 7577 7578 7579 7580 7581 7582 7583 7584 7585 7586 7587\n",
      " 7588 7589 7590 7591 7592 7593 7594 7595 7596 7597 7598 7599 7600 7601\n",
      " 7602 7603 7604 7605 7606 7607 7608 7609 7610 7611 7612 7613 7614 7615\n",
      " 7616 7617 7618 7619 7620 7621 7622 7623 7624 7625 7626 7627 7628 7629\n",
      " 7630 7631 7632 7633 7634 7635 7636 7637 7638 7639 7640 7641 7642 7643\n",
      " 7644 7645 7646 7647 7648 7649 7650 7651 7652 7653 7654 7655 7656 7657\n",
      " 7658 7659 7660 7661 7662 7663 7664 7665 7666 7667 7668 7669 7670 7671\n",
      " 7672 7673 7674 7675 7676 7677 7678 7679 7680 7681 7682 7683 7684 7685\n",
      " 7686 7687 7688 7689 7690 7691 7692 7693 7694 7695 7696 7697 7698 7699\n",
      " 7700 7701 7702 7703 7704 7705 7706 7707 7708 7709 7710 7711 7712 7713\n",
      " 7714 7715 7716 7717 7718 7719 7720 7721 7722 7723 7724 7725 7726 7727\n",
      " 7728 7729 7730 7731 7732 7733 7734 7735 7736 7737 7738 7739 7740 7741\n",
      " 7742 7743 7744 7745 7746 7747 7748 7749 7750 7751 7752 7753 7754 7755\n",
      " 7756 7757 7758 7759 7760 7761 7762 7763 7764 7765 7766 7767 7768 7769\n",
      " 7770 7771 7772 7773 7774 7775 7776 7777 7778 7779 7780 7781 7782 7783\n",
      " 7784 7785 7786 7787 7788 7789 7790 7791 7792 7793 7794 7795 7796 7797\n",
      " 7798 7799 7800 7801 7802 7803 7804 7805 7806 7807 7808 7809 7810 7811\n",
      " 7812 7813 7814 7815 7816 7817 7818 7819 7820 7821 7822 7823 7824 7825\n",
      " 7826 7827 7828 7829 7830 7831 7832 7833 7834 7835 7836 7837 7838 7839\n",
      " 7840 7841 7842 7843 7844 7845 7846 7847 7848 7849 7850 7851 7852 7853\n",
      " 7854 7855 7856 7857 7858 7859 7860 7861 7862 7863 7864 7865 7866 7867\n",
      " 7868 7869 7870 7871 7872 7873 7874 7875 7876 7877 7878 7879 7880 7881\n",
      " 7882 7883 7884 7885 7886 7887 7888 7889 7890 7891 7892 7893 7894 7895\n",
      " 7896 7897 7898 7899 7900 7901 7902 7903 7904 7905 7906 7907 7908 7909\n",
      " 7910 7911 7912 7913 7914 7915 7916 7917 7918 7919 7920 7921 7922 7923\n",
      " 7924 7925 7926 7927 7928 7929 7930 7931 7932 7933 7934 7935 7936 7937\n",
      " 7938 7939 7940 7941 7942 7943 7944 7945 7946 7947 7948 7949 7950 7951\n",
      " 7952 7953 7954 7955 7956 7957 7958 7959 7960 7961 7962 7963 7964 7965\n",
      " 7966 7967 7968 7969 7970 7971 7972 7973 7974 7975 7976 7977 7978 7979\n",
      " 7980 7981 7982 7983 7984 7985 7986 7987 7988 7989 7990 7991 7992 7993\n",
      " 7994 7995 7996 7997 7998 7999 8000 8001 8002 8003 8004 8005 8006 8007\n",
      " 8008 8009 8010 8011 8012 8013 8014 8015 8016 8017 8018 8019 8020 8021\n",
      " 8022 8023 8024 8025 8026 8027 8028 8029 8030 8031 8032 8033 8034 8035\n",
      " 8036 8037 8038 8039 8040 8041 8042 8043 8044 8045 8046 8047 8048 8049\n",
      " 8050 8051 8052 8053 8054 8055 8056 8057 8058 8059 8060 8061 8062 8063\n",
      " 8064 8065 8066 8067 8068 8069 8070 8071 8072 8073 8074 8075 8076 8077\n",
      " 8078 8079 8080 8081 8082 8083 8084 8085 8086 8087 8088 8089 8090 8091\n",
      " 8092 8093 8094 8095 8096 8097 8098 8099 8100 8101 8102 8103 8104 8105\n",
      " 8106 8107 8108 8109 8110 8111 8112 8113 8114 8115 8116 8117 8118 8119\n",
      " 8120 8121 8122 8123 8124 8125 8126 8127 8128 8129 8130 8131 8132 8133\n",
      " 8134 8135 8136 8137 8138 8139 8140 8141 8142 8143 8144 8145 8146 8147\n",
      " 8148 8149 8150 8151 8152 8153 8154 8155 8156 8157 8158 8159 8160 8161\n",
      " 8162 8163 8164 8165 8166 8167 8168 8169 8170 8171 8172 8173 8174 8175\n",
      " 8176 8177 8178 8179 8180 8181 8182 8183 8184 8185 8186 8187 8188 8189\n",
      " 8190 8191 8192 8193 8194 8195 8196 8197 8198 8199 8200 8201 8202 8203\n",
      " 8204 8205 8206 8207 8208 8209 8210 8211 8212 8213 8214 8215 8216 8217\n",
      " 8218 8219 8220 8221 8222 8223 8224 8225 8226 8227 8228 8229 8230 8231\n",
      " 8232 8233 8234 8235 8236 8237 8238 8239 8240 8241 8242 8243 8244 8245\n",
      " 8246 8247 8248 8249 8250 8251 8252 8253 8254 8255 8256 8257 8258 8259\n",
      " 8260 8261 8262 8263 8264 8265 8266 8267 8268 8269 8270 8271 8272 8273\n",
      " 8274 8275 8276 8277 8278 8279 8280 8281 8282 8283 8284 8285 8286 8287\n",
      " 8288 8289 8290 8291 8292 8293 8294 8295 8296 8297 8298 8299 8300 8301\n",
      " 8302 8303 8304 8305 8306 8307 8308 8309 8310 8311 8312 8313 8314 8315\n",
      " 8316 8317 8318 8319 8320 8321 8322 8323 8324 8325 8326 8327 8328 8329\n",
      " 8330 8331 8332 8333 8334 8335 8336 8337 8338 8339 8340 8341 8342 8343\n",
      " 8344 8345 8346 8347 8348 8349 8350 8351 8352 8353 8354 8355 8356 8357\n",
      " 8358 8359 8360 8361 8362 8363 8364 8365 8366 8367 8368 8369 8370 8371\n",
      " 8372 8373 8374 8375 8376 8377 8378 8379 8380 8381 8382 8383 8384 8385\n",
      " 8386 8387 8388 8389 8390 8391 8392 8393 8394 8395 8396 8397 8398 8399\n",
      " 8400 8401 8402 8403 8404 8405 8406 8407 8408 8409 8410 8411 8412 8413\n",
      " 8414 8415 8416 8417 8418 8419 8420 8421 8422 8423 8424 8425 8426 8427\n",
      " 8428 8429 8430 8431 8432 8433 8434 8435 8436 8437 8438 8439 8440 8441\n",
      " 8442 8443 8444 8445 8446 8447 8448 8449 8450 8451 8452 8453 8454 8455\n",
      " 8456 8457 8458 8459 8460 8461 8462 8463 8464 8465 8466 8467 8468 8469\n",
      " 8470 8471 8472 8473 8474 8475 8476 8477 8478 8479 8480 8481 8482 8483\n",
      " 8484 8485 8486 8487 8488 8489 8490 8491 8492 8493 8494 8495 8496 8497\n",
      " 8498 8499 8500 8501 8502 8503 8504 8505 8506 8507 8508 8509 8510 8511\n",
      " 8512 8513 8514 8515 8516 8517 8518 8519 8520 8521 8522 8523 8524 8525\n",
      " 8526 8527 8528 8529 8530 8531 8532 8533 8534 8535 8536 8537 8538 8539\n",
      " 8540 8541 8542 8543 8544 8545 8546 8547 8548 8549 8550 8551 8552 8553\n",
      " 8554 8555 8556 8557 8558 8559 8560 8561 8562 8563 8564 8565 8566 8567\n",
      " 8568 8569 8570 8571 8572 8573 8574 8575 8576 8577 8578 8579 8580 8581\n",
      " 8582 8583 8584 8585 8586 8587 8588 8589 8590 8591 8592 8593 8594 8595\n",
      " 8596 8597 8598 8599 8600 8601 8602 8603 8604 8605 8606 8607 8608 8609\n",
      " 8610 8611 8612 8613 8614 8615 8616 8617 8618 8619 8620 8621 8622 8623\n",
      " 8624 8625 8626 8627 8628 8629 8630 8631 8632 8633 8634 8635 8636 8637\n",
      " 8638 8639 8640 8641 8642 8643 8644 8645 8646 8647 8648 8649 8650 8651\n",
      " 8652 8653 8654 8655 8656 8657 8658 8659 8660 8661 8662 8663 8664 8665\n",
      " 8666 8667 8668 8669 8670 8671 8672 8673 8674 8675 8676 8677 8678 8679\n",
      " 8680 8681 8682 8683 8684 8685 8686 8687 8688 8689 8690 8691 8692 8693\n",
      " 8694 8695 8696 8697 8698 8699 8700 8701 8702 8703 8704 8705 8706 8707\n",
      " 8708 8709 8710 8711 8712 8713 8714 8715 8716 8717 8718 8719 8720 8721\n",
      " 8722 8723 8724 8725 8726 8727 8728 8729 8730 8731 8732 8733 8734 8735\n",
      " 8736 8737 8738 8739 8740 8741 8742 8743 8744 8745 8746 8747 8748 8749\n",
      " 8750 8751 8752 8753 8754 8755 8756 8757 8758 8759 8760 8761 8762 8763\n",
      " 8764 8765 8766 8767 8768 8769 8770 8771 8772 8773 8774 8775 8776 8777\n",
      " 8778 8779 8780 8781 8782 8783 8784 8785 8786 8787 8788 8789 8790 8791\n",
      " 8792 8793 8794 8795 8796 8797 8798 8799 8800 8801 8802 8803 8804 8805\n",
      " 8806 8807 8808 8809 8810 8811 8812 8813 8814 8815 8816 8817 8818 8819\n",
      " 8820 8821 8822 8823 8824 8825 8826 8827 8828 8829 8830 8831 8832 8833\n",
      " 8834 8835 8836 8837 8838 8839 8840 8841 8842 8843 8844 8845 8846 8847\n",
      " 8848 8849 8850 8851 8852 8853 8854 8855 8856 8857 8858 8859 8860 8861\n",
      " 8862 8863 8864 8865 8866 8867 8868 8869 8870 8871 8872 8873 8874 8875\n",
      " 8876 8877 8878 8879 8880 8881 8882 8883 8884 8885 8886 8887 8888 8889\n",
      " 8890 8891 8892 8893 8894 8895 8896 8897 8898 8899 8900 8901 8902 8903\n",
      " 8904 8905 8906 8907 8908 8909 8910 8911 8912 8913 8914 8915 8916 8917\n",
      " 8918 8919 8920 8921 8922 8923 8924 8925 8926 8927 8928 8929 8930 8931\n",
      " 8932 8933 8934 8935 8936 8937 8938 8939 8940 8941 8942 8943 8944 8945\n",
      " 8946 8947 8948 8949 8950 8951 8952 8953 8954 8955 8956 8957 8958 8959\n",
      " 8960 8961 8962 8963 8964 8965 8966 8967 8968 8969 8970 8971 8972 8973\n",
      " 8974 8975 8976 8977 8978 8979 8980 8981 8982 8983 8984 8985 8986 8987\n",
      " 8988 8989 8990 8991 8992 8993 8994 8995 8996 8997 8998 8999 9000 9001\n",
      " 9002 9003 9004 9005 9006 9007 9008 9009 9010 9011 9012 9013 9014 9015\n",
      " 9016 9017 9018 9019 9020 9021 9022 9023 9024 9025 9026 9027 9028 9029\n",
      " 9030 9031 9032 9033 9034 9035 9036 9037 9038 9039 9040 9041 9042 9043\n",
      " 9044 9045 9046 9047 9048 9049 9050 9051 9052 9053 9054 9055 9056 9057\n",
      " 9058 9059 9060 9061 9062 9063 9064 9065 9066 9067 9068 9069 9070 9071\n",
      " 9072 9073 9074 9075 9076 9077 9078 9079 9080 9081 9082 9083 9084 9085\n",
      " 9086 9087 9088 9089 9090 9091 9092 9093 9094 9095 9096 9097 9098 9099\n",
      " 9100 9101 9102 9103 9104 9105 9106 9107 9108 9109 9110 9111 9112 9113\n",
      " 9114 9115 9116 9117 9118 9119 9120 9121 9122 9123 9124 9125 9126 9127\n",
      " 9128 9129 9130 9131 9132 9133 9134 9135 9136 9137 9138 9139 9140 9141\n",
      " 9142 9143 9144 9145 9146 9147 9148 9149 9150 9151 9152 9153 9154 9155\n",
      " 9156 9157 9158 9159 9160 9161 9162 9163 9164 9165 9166 9167 9168 9169\n",
      " 9170 9171 9172 9173 9174 9175 9176 9177 9178 9179 9180 9181 9182 9183\n",
      " 9184 9185 9186 9187 9188 9189 9190 9191 9192 9193 9194 9195 9196 9197\n",
      " 9198 9199 9200 9201 9202 9203 9204 9205 9206 9207 9208 9209 9210 9211\n",
      " 9212 9213 9214 9215 9216 9217 9218 9219 9220 9221 9222 9223 9224 9225\n",
      " 9226 9227 9228 9229 9230 9231 9232 9233 9234 9235 9236 9237 9238 9239\n",
      " 9240 9241 9242 9243 9244 9245 9246 9247 9248 9249 9250 9251 9252 9253\n",
      " 9254 9255 9256 9257 9258 9259 9260 9261 9262 9263 9264 9265 9266 9267\n",
      " 9268 9269 9270 9271 9272 9273 9274 9275 9276 9277 9278 9279 9280 9281\n",
      " 9282 9283 9284 9285 9286 9287 9288 9289 9290 9291 9292 9293 9294 9295\n",
      " 9296 9297 9298 9299 9300 9301 9302 9303 9304 9305 9306 9307 9308 9309\n",
      " 9310 9311 9312 9313 9314 9315 9316 9317 9318 9319 9320 9321 9322 9323\n",
      " 9324 9325 9326 9327 9328 9329 9330 9331 9332 9333 9334 9335 9336 9337\n",
      " 9338 9339 9340 9341 9342 9343 9344 9345 9346 9347 9348 9349 9350 9351\n",
      " 9352 9353 9354 9355 9356 9357 9358 9359 9360 9361 9362 9363 9364 9365\n",
      " 9366 9367 9368 9369 9370 9371 9372 9373 9374 9375 9376 9377 9378 9379\n",
      " 9380 9381 9382 9383 9384 9385 9386 9387 9388 9389 9390 9391 9392 9393\n",
      " 9394 9395 9396 9397 9398 9399 9400 9401 9402 9403 9404 9405 9406 9407\n",
      " 9408 9409 9410 9411 9412 9413 9414 9415 9416 9417 9418 9419 9420 9421\n",
      " 9422 9423 9424 9425 9426 9427 9428 9429 9430 9431 9432 9433 9434 9435\n",
      " 9436 9437 9438 9439 9440 9441 9442 9443 9444 9445 9446 9447 9448 9449\n",
      " 9450 9451 9452 9453 9454 9455 9456 9457 9458 9459 9460 9461 9462 9463\n",
      " 9464 9465 9466 9467 9468 9469 9470 9471 9472 9473 9474 9475 9476 9477\n",
      " 9478 9479 9480 9481 9482 9483 9484 9485 9486 9487 9488 9489 9490 9491\n",
      " 9492 9493 9494 9495 9496 9497 9498 9499 9500 9501 9502 9503 9504 9505\n",
      " 9506 9507 9508 9509 9510 9511 9512 9513 9514 9515 9516 9517 9518 9519\n",
      " 9520 9521 9522 9523 9524 9525 9526 9527 9528 9529 9530 9531 9532 9533\n",
      " 9534 9535 9536 9537 9538 9539 9540 9541 9542 9543 9544 9545 9546 9547\n",
      " 9548 9549 9550 9551 9552 9553 9554 9555 9556 9557 9558 9559 9560 9561\n",
      " 9562 9563 9564 9565 9566 9567 9568 9569 9570 9571 9572 9573 9574 9575\n",
      " 9576 9577 9578 9579 9580 9581 9582 9583 9584 9585 9586 9587 9588 9589\n",
      " 9590 9591 9592 9593 9594 9595 9596 9597 9598 9599 9600 9601 9602 9603\n",
      " 9604 9605 9606 9607 9608 9609 9610 9611 9612 9613 9614 9615 9616 9617\n",
      " 9618 9619 9620 9621 9622 9623 9624 9625 9626 9627 9628 9629 9630 9631\n",
      " 9632 9633 9634 9635 9636 9637 9638 9639 9640 9641 9642 9643 9644 9645\n",
      " 9646 9647 9648 9649 9650 9651 9652 9653 9654 9655 9656 9657 9658 9659\n",
      " 9660 9661 9662 9663 9664 9665 9666 9667 9668 9669 9670 9671 9672 9673\n",
      " 9674 9675 9676 9677 9678 9679 9680 9681 9682 9683 9684 9685 9686 9687\n",
      " 9688 9689 9690 9691 9692 9693 9694 9695 9696 9697 9698 9699 9700 9701\n",
      " 9702 9703 9704 9705 9706 9707 9708 9709 9710 9711 9712 9713 9714 9715\n",
      " 9716 9717 9718 9719 9720 9721 9722 9723 9724 9725 9726 9727 9728 9729\n",
      " 9730 9731 9732 9733 9734 9735 9736 9737 9738 9739 9740 9741 9742 9743\n",
      " 9744 9745 9746 9747 9748 9749 9750 9751 9752 9753 9754 9755 9756 9757\n",
      " 9758 9759 9760 9761 9762 9763 9764 9765 9766 9767 9768 9769 9770 9771\n",
      " 9772 9773 9774 9775 9776 9777 9778 9779 9780 9781 9782 9783 9784 9785\n",
      " 9786 9787 9788 9789 9790 9791 9792 9793 9794 9795 9796 9797 9798 9799\n",
      " 9800 9801 9802 9803 9804 9805 9806 9807 9808 9809 9810 9811 9812 9813\n",
      " 9814 9815 9816 9817 9818 9819 9820 9821 9822 9823 9824 9825 9826 9827\n",
      " 9828 9829 9830 9831 9832 9833 9834 9835 9836 9837 9838 9839 9840 9841\n",
      " 9842 9843 9844 9845 9846 9847 9848 9849 9850 9851 9852 9853 9854 9855\n",
      " 9856 9857 9858 9859 9860 9861 9862 9863 9864 9865 9866 9867 9868 9869\n",
      " 9870 9871 9872 9873 9874 9875 9876 9877 9878 9879 9880 9881 9882 9883\n",
      " 9884 9885 9886 9887 9888 9889 9890 9891 9892 9893 9894 9895 9896 9897\n",
      " 9898 9899 9900 9901 9902 9903 9904 9905 9906 9907 9908 9909 9910 9911\n",
      " 9912 9913 9914 9915 9916 9917 9918 9919 9920 9921 9922 9923 9924 9925\n",
      " 9926 9927 9928 9929 9930 9931 9932 9933 9934 9935 9936 9937 9938 9939\n",
      " 9940 9941 9942 9943 9944 9945 9946 9947 9948 9949 9950 9951 9952 9953\n",
      " 9954 9955 9956 9957 9958 9959 9960 9961 9962 9963 9964 9965 9966 9967\n",
      " 9968 9969 9970 9971 9972 9973 9974 9975 9976 9977 9978 9979 9980 9981\n",
      " 9982 9983 9984 9985 9986 9987 9988 9989 9990 9991 9992 9993 9994 9995\n",
      " 9996 9997 9998 9999]\n"
     ]
    }
   ],
   "source": [
    "# question is meant to ask, how to display all the values of an array if the array is very large.\n",
    "# need to use set_printoptions\n",
    "# https://numpy.org/doc/stable/user/quickstart.html#tricks-and-tips\n",
    "import sys\n",
    "np.set_printoptions(threshold=sys.maxsize)\n",
    "print(np.arange(10000)) # not really sure what the questions here is"
   ]
  },
  {
   "cell_type": "markdown",
   "id": "4c28dea1",
   "metadata": {},
   "source": [
    "#### 50. How to find the closest value (to a given scalar) in a vector?"
   ]
  },
  {
   "cell_type": "code",
   "execution_count": null,
   "id": "7004ed40",
   "metadata": {},
   "outputs": [
    {
     "data": {
      "text/plain": [
       "np.int64(7)"
      ]
     },
     "execution_count": 132,
     "metadata": {},
     "output_type": "execute_result"
    }
   ],
   "source": [
    "arr = np.arange(0, 20)\n",
    "scalar = 7\n",
    "# find the differences between scalar and vector\n",
    "# get the absolute value\n",
    "# get the index with argmin, then use it to get the value from the array\n",
    "arr[np.argmin(np.abs(arr - scalar))]"
   ]
  },
  {
   "cell_type": "markdown",
   "id": "25d40547",
   "metadata": {},
   "source": [
    "#### 51. Create a structured array representing a position (x,y) and a color (r,g,b)"
   ]
  },
  {
   "cell_type": "code",
   "execution_count": 73,
   "id": "cd0f4834",
   "metadata": {},
   "outputs": [
    {
     "data": {
      "text/plain": [
       "array([((0., 0.), (0., 0., 0.)), ((0., 0.), (0., 0., 0.)),\n",
       "       ((0., 0.), (0., 0., 0.)), ((0., 0.), (0., 0., 0.)),\n",
       "       ((0., 0.), (0., 0., 0.)), ((0., 0.), (0., 0., 0.)),\n",
       "       ((0., 0.), (0., 0., 0.)), ((0., 0.), (0., 0., 0.)),\n",
       "       ((0., 0.), (0., 0., 0.)), ((0., 0.), (0., 0., 0.)),\n",
       "       ((0., 0.), (0., 0., 0.)), ((0., 0.), (0., 0., 0.)),\n",
       "       ((0., 0.), (0., 0., 0.)), ((0., 0.), (0., 0., 0.)),\n",
       "       ((0., 0.), (0., 0., 0.)), ((0., 0.), (0., 0., 0.)),\n",
       "       ((0., 0.), (0., 0., 0.)), ((0., 0.), (0., 0., 0.)),\n",
       "       ((0., 0.), (0., 0., 0.)), ((0., 0.), (0., 0., 0.)),\n",
       "       ((0., 0.), (0., 0., 0.)), ((0., 0.), (0., 0., 0.)),\n",
       "       ((0., 0.), (0., 0., 0.)), ((0., 0.), (0., 0., 0.)),\n",
       "       ((0., 0.), (0., 0., 0.)), ((0., 0.), (0., 0., 0.)),\n",
       "       ((0., 0.), (0., 0., 0.)), ((0., 0.), (0., 0., 0.)),\n",
       "       ((0., 0.), (0., 0., 0.)), ((0., 0.), (0., 0., 0.)),\n",
       "       ((0., 0.), (0., 0., 0.)), ((0., 0.), (0., 0., 0.)),\n",
       "       ((0., 0.), (0., 0., 0.))],\n",
       "      dtype=[('position', [('x', '<f8'), ('y', '<f8')]), ('color', [('r', '<f8'), ('g', '<f8'), ('b', '<f8')])])"
      ]
     },
     "execution_count": 73,
     "metadata": {},
     "output_type": "execute_result"
    }
   ],
   "source": [
    "# Use tuples\n",
    "position = np.dtype([(\"x\", float), (\"y\", float)])\n",
    "color = np.dtype([(\"r\", float), (\"g\", float), (\"b\", float)])\n",
    "a = np.zeros(33, [(\"position\",  position), (\"color\",  color)])\n",
    "a\n"
   ]
  },
  {
   "cell_type": "markdown",
   "id": "c313fa55",
   "metadata": {},
   "source": [
    "#### 52. Consider a random vector with shape (100,2) representing coordinates, find point by point distances "
   ]
  },
  {
   "cell_type": "code",
   "execution_count": null,
   "id": "11cb8066",
   "metadata": {},
   "outputs": [
    {
     "data": {
      "text/plain": [
       "array([[0.        , 0.478884  , 0.483133  , 0.22991055, 0.18690318,\n",
       "        0.16470673, 0.55872264, 0.53010325, 0.51893227, 0.34864741,\n",
       "        0.31043964, 0.20135775, 0.35480906, 0.71935065, 0.52379523,\n",
       "        0.47128527, 0.48740742, 0.58333571, 0.30004177, 0.44507118,\n",
       "        0.39847898, 0.48171817, 0.40258433, 0.38744305, 0.59510099,\n",
       "        0.30543535, 0.44398157, 0.3322535 , 0.14865955, 0.4409743 ,\n",
       "        0.28618554, 0.38772824, 0.19401609, 0.25305952, 0.18513526,\n",
       "        0.49164165, 0.6224801 , 0.65661802, 0.17084287, 0.28099545,\n",
       "        0.83486393, 0.43015221, 0.45452187, 0.52497857, 0.61106413,\n",
       "        0.52233517, 0.05506412, 0.33479428, 0.37036159, 0.48788605,\n",
       "        0.62318132, 0.58926829, 0.28727529, 0.53710851, 0.59072285,\n",
       "        0.02270608, 0.42677423, 0.40872845, 0.0803712 , 0.46255525,\n",
       "        0.20373112, 0.78555151, 0.82265198, 0.30695225, 0.59872172,\n",
       "        0.22576813, 0.45564317, 0.16837941, 0.65233288, 0.18622256,\n",
       "        0.17079383, 0.54026907, 0.48071787, 0.53289557, 0.40844011,\n",
       "        0.16775993, 0.17200048, 0.49774164, 0.46441772, 0.71562348,\n",
       "        0.80901187, 0.45437777, 0.60590293, 0.73127072, 0.48861854,\n",
       "        0.43059619, 0.20216886, 0.21719334, 0.57947657, 0.23230803,\n",
       "        0.52264506, 0.19588694, 0.31668613, 0.40622418, 0.2116228 ,\n",
       "        0.49289438, 0.141413  , 0.30620391, 0.69949258, 0.69851881],\n",
       "       [0.478884  , 0.        , 0.06160095, 0.61592075, 0.62495844,\n",
       "        0.34408571, 0.5764206 , 0.38726132, 0.36273363, 0.4724231 ,\n",
       "        0.31288138, 0.27855126, 0.6758533 , 0.42161895, 0.04760297,\n",
       "        0.78462306, 0.30066887, 0.94911723, 0.7753789 , 0.70174449,\n",
       "        0.39202152, 0.21967104, 0.58596362, 0.5507485 , 0.15119593,\n",
       "        0.76667566, 0.59033025, 0.56354416, 0.48033246, 0.30057342,\n",
       "        0.60662016, 0.72177153, 0.31086903, 0.4501439 , 0.57370682,\n",
       "        0.26381538, 0.30554831, 0.20222754, 0.36890935, 0.51759145,\n",
       "        0.64896324, 0.21815678, 0.60358038, 0.11833425, 0.14193093,\n",
       "        0.67426769, 0.42789623, 0.75522972, 0.16775887, 0.15060375,\n",
       "        0.25812028, 0.96842369, 0.5063284 , 0.24829718, 0.49620447,\n",
       "        0.50097364, 0.0562706 , 0.59629201, 0.39955698, 0.23354266,\n",
       "        0.61017493, 0.64668322, 0.63314529, 0.52079301, 0.21816099,\n",
       "        0.29633176, 0.52262349, 0.46645013, 0.17975843, 0.48805459,\n",
       "        0.6495011 , 0.06170326, 0.71614709, 0.72240876, 0.45436094,\n",
       "        0.49513909, 0.37521612, 0.33166599, 0.74799368, 0.48175479,\n",
       "        0.58843738, 0.72198803, 0.58844381, 0.27859608, 0.17240848,\n",
       "        0.71285658, 0.65360815, 0.58514386, 0.37287904, 0.59085954,\n",
       "        0.38741072, 0.61905637, 0.77197438, 0.29074805, 0.53941932,\n",
       "        0.87251998, 0.61980164, 0.74883054, 0.33851982, 0.28619301],\n",
       "       [0.483133  , 0.06160095, 0.        , 0.63947333, 0.61516227,\n",
       "        0.33552628, 0.63211496, 0.44702768, 0.303845  , 0.43301412,\n",
       "        0.27795477, 0.288897  , 0.70897465, 0.48109499, 0.08981337,\n",
       "        0.75215754, 0.24237624, 0.98132533, 0.78274256, 0.665119  ,\n",
       "        0.44312284, 0.16017786, 0.62977949, 0.51053383, 0.19954416,\n",
       "        0.75905033, 0.63741604, 0.5299254 , 0.46548204, 0.35716016,\n",
       "        0.58104892, 0.69351015, 0.33192256, 0.42160349, 0.55863693,\n",
       "        0.20438175, 0.36581761, 0.24177137, 0.3925159 , 0.55334388,\n",
       "        0.71038482, 0.1652498 , 0.65083453, 0.06165759, 0.17620041,\n",
       "        0.72301799, 0.43539874, 0.738734  , 0.213809  , 0.08954321,\n",
       "        0.31600257, 0.99896824, 0.47513724, 0.30989738, 0.55589406,\n",
       "        0.50439423, 0.06726147, 0.55636748, 0.40637151, 0.29276686,\n",
       "        0.63079661, 0.70822924, 0.69455846, 0.48792078, 0.27583163,\n",
       "        0.32318624, 0.57371522, 0.49166087, 0.20684559, 0.51475197,\n",
       "        0.65357331, 0.09156078, 0.75883258, 0.76916266, 0.40792583,\n",
       "        0.51947069, 0.39946116, 0.27336653, 0.71299813, 0.54299444,\n",
       "        0.6494493 , 0.76177293, 0.64617965, 0.25178259, 0.11159194,\n",
       "        0.75098761, 0.6456111 , 0.56669439, 0.43428286, 0.57088099,\n",
       "        0.32896726, 0.63750081, 0.78668518, 0.24114387, 0.51873878,\n",
       "        0.90198536, 0.62448798, 0.7662183 , 0.39443204, 0.24214114],\n",
       "       [0.22991055, 0.61592075, 0.63947333, 0.        , 0.34011915,\n",
       "        0.37698106, 0.44403536, 0.5060946 , 0.73775803, 0.5782689 ,\n",
       "        0.52897276, 0.35743111, 0.13235806, 0.72355301, 0.65317752,\n",
       "        0.64909754, 0.69935322, 0.35934083, 0.24297443, 0.64704808,\n",
       "        0.36271661, 0.67891769, 0.24553885, 0.61283614, 0.69387974,\n",
       "        0.3784114 , 0.29393824, 0.55200304, 0.37421268, 0.45418084,\n",
       "        0.48812544, 0.56675789, 0.3075508 , 0.48264655, 0.3797808 ,\n",
       "        0.69688501, 0.65443637, 0.75420726, 0.24740468, 0.16043515,\n",
       "        0.76801679, 0.62963241, 0.29937546, 0.69229672, 0.72499108,\n",
       "        0.3481456 , 0.24128966, 0.46169265, 0.46456958, 0.66854393,\n",
       "        0.67762034, 0.36980161, 0.51307344, 0.57925473, 0.52422415,\n",
       "        0.22608811, 0.57425203, 0.62952425, 0.26567504, 0.50757823,\n",
       "        0.03261344, 0.70295994, 0.75905439, 0.53178873, 0.66549978,\n",
       "        0.31963657, 0.34771798, 0.1497047 , 0.76653383, 0.1302838 ,\n",
       "        0.20902139, 0.67202946, 0.27526319, 0.33935799, 0.63817199,\n",
       "        0.12079321, 0.2408331 , 0.71373404, 0.65533677, 0.68942263,\n",
       "        0.76212301, 0.23952309, 0.49738616, 0.89045006, 0.67459282,\n",
       "        0.21312385, 0.33059698, 0.41361627, 0.57070181, 0.42947545,\n",
       "        0.7442022 , 0.05539471, 0.18490865, 0.62040914, 0.42554754,\n",
       "        0.27159112, 0.19682875, 0.14912782, 0.73841529, 0.87502724],\n",
       "       [0.18690318, 0.62495844, 0.61516227, 0.34011915, 0.        ,\n",
       "        0.28102813, 0.73548557, 0.71700401, 0.55912767, 0.32607569,\n",
       "        0.37576435, 0.36404461, 0.47174268, 0.90362071, 0.67212561,\n",
       "        0.3090999 , 0.54758629, 0.63908967, 0.2506585 , 0.3140099 ,\n",
       "        0.58443847, 0.56916479, 0.56217904, 0.32490471, 0.75624482,\n",
       "        0.14502465, 0.60756131, 0.25224597, 0.15419975, 0.62682427,\n",
       "        0.16444668, 0.22666737, 0.37419848, 0.24860574, 0.07479097,\n",
       "        0.56491879, 0.80342582, 0.81640518, 0.3575743 , 0.44564674,\n",
       "        1.02101254, 0.51872041, 0.61643971, 0.64473659, 0.76434391,\n",
       "        0.67718991, 0.23819531, 0.1479213 , 0.54289452, 0.59642443,\n",
       "        0.79903697, 0.63450251, 0.24126874, 0.71750051, 0.77589935,\n",
       "        0.16794634, 0.56938753, 0.32490059, 0.25590149, 0.64397845,\n",
       "        0.30754859, 0.97007173, 1.00897622, 0.25209991, 0.77160332,\n",
       "        0.40762565, 0.63207612, 0.34282424, 0.80405086, 0.35429847,\n",
       "        0.14667674, 0.68634879, 0.61488474, 0.67652441, 0.39923108,\n",
       "        0.33282456, 0.35889175, 0.54739996, 0.31657297, 0.90230663,\n",
       "        0.99589424, 0.57953761, 0.78470406, 0.84871399, 0.59082818,\n",
       "        0.55291081, 0.03501517, 0.09691259, 0.76578201, 0.10951773,\n",
       "        0.55391195, 0.28700409, 0.31941095, 0.46923529, 0.13861303,\n",
       "        0.54910487, 0.14616438, 0.33281951, 0.87790381, 0.7999223 ],\n",
       "       [0.16470673, 0.34408571, 0.33552628, 0.37698106, 0.28102813,\n",
       "        0.        , 0.59855132, 0.50908625, 0.36079709, 0.24270714,\n",
       "        0.15210572, 0.11071678, 0.48738706, 0.66176792, 0.39138627,\n",
       "        0.47823054, 0.3247179 , 0.73618738, 0.45969257, 0.4179652 ,\n",
       "        0.40676076, 0.3172486 , 0.48825577, 0.30642827, 0.47919805,\n",
       "        0.42389184, 0.51993657, 0.27935102, 0.1398415 , 0.40539594,\n",
       "        0.28547696, 0.40354839, 0.16079885, 0.16266253, 0.23176772,\n",
       "        0.32718578, 0.55183935, 0.53824492, 0.19372236, 0.37175465,\n",
       "        0.82169899, 0.26558241, 0.53254844, 0.36996879, 0.48420771,\n",
       "        0.60705698, 0.1358733 , 0.41325656, 0.2831376 , 0.32774776,\n",
       "        0.536432  , 0.74515724, 0.21934761, 0.46676338, 0.59358489,\n",
       "        0.1820647 , 0.28838629, 0.34222679, 0.1120134 , 0.39927448,\n",
       "        0.3562461 , 0.78628784, 0.80771749, 0.23971469, 0.50497138,\n",
       "        0.19117802, 0.50272528, 0.26343354, 0.52348918, 0.28879285,\n",
       "        0.32697317, 0.40537562, 0.59170366, 0.63134325, 0.28270817,\n",
       "        0.27968099, 0.20064727, 0.33729946, 0.45360416, 0.67987333,\n",
       "        0.78272636, 0.57473128, 0.63722863, 0.5763091 , 0.32658762,\n",
       "        0.55452512, 0.31048991, 0.24760006, 0.54206798, 0.25601575,\n",
       "        0.3675009 , 0.35337207, 0.48139094, 0.24439545, 0.20827936,\n",
       "        0.64743906, 0.29975751, 0.47012593, 0.61872324, 0.53753087],\n",
       "       [0.55872264, 0.5764206 , 0.63211496, 0.44403536, 0.73548557,\n",
       "        0.59855132, 0.        , 0.2114944 , 0.87970203, 0.8407075 ,\n",
       "        0.71400014, 0.49908505, 0.36899045, 0.39106132, 0.58379005,\n",
       "        1.0298972 , 0.82119326, 0.56603316, 0.68602075, 0.99614989,\n",
       "        0.20152514, 0.75916306, 0.2037196 , 0.90419171, 0.54784626,\n",
       "        0.81184492, 0.15760187, 0.8679582 , 0.68999285, 0.27595781,\n",
       "        0.84138138, 0.94643596, 0.4385759 , 0.75904804, 0.74382061,\n",
       "        0.796885  , 0.39294077, 0.58729553, 0.4110073 , 0.29492182,\n",
       "        0.33635365, 0.72896464, 0.15809283, 0.69316601, 0.59983426,\n",
       "        0.16894106, 0.52203377, 0.87737133, 0.42498915, 0.70816997,\n",
       "        0.4504451 , 0.59884304, 0.81164698, 0.37040524, 0.13318779,\n",
       "        0.5725848 , 0.57328311, 0.93738101, 0.52130971, 0.34730916,\n",
       "        0.47010834, 0.2638367 , 0.33044384, 0.83257114, 0.46649291,\n",
       "        0.41175411, 0.1034336 , 0.39305462, 0.63014583, 0.3815291 ,\n",
       "        0.63761961, 0.60098397, 0.27567352, 0.22816879, 0.87167638,\n",
       "        0.40332066, 0.40566731, 0.8479894 , 1.02060515, 0.3153461 ,\n",
       "        0.34956615, 0.31529191, 0.05367709, 0.82640416, 0.72588959,\n",
       "        0.32993154, 0.73916393, 0.77542274, 0.26773956, 0.79018706,\n",
       "        0.89795373, 0.49447788, 0.61488892, 0.76718916, 0.76258912,\n",
       "        0.53492057, 0.61631164, 0.57430501, 0.46335534, 0.85748566],\n",
       "       [0.53010325, 0.38726132, 0.44702768, 0.5060946 , 0.71700401,\n",
       "        0.50908625, 0.2114944 , 0.        , 0.72334338, 0.73676181,\n",
       "        0.58939302, 0.39865277, 0.48355005, 0.22022477, 0.38610622,\n",
       "        0.97978786, 0.6618001 , 0.72847719, 0.74081578, 0.92665651,\n",
       "        0.14410708, 0.59045587, 0.32712603, 0.80902252, 0.33836813,\n",
       "        0.82399954, 0.30152453, 0.78837955, 0.62982533, 0.10653991,\n",
       "        0.78524193, 0.90008012, 0.35623713, 0.67007691, 0.70373988,\n",
       "        0.63183526, 0.18624227, 0.37590078, 0.35965709, 0.34749941,\n",
       "        0.31270717, 0.56938161, 0.31065777, 0.50557651, 0.39129033,\n",
       "        0.35800796, 0.48026913, 0.86489379, 0.26322226, 0.53066315,\n",
       "        0.23999363, 0.75762737, 0.72806407, 0.16019381, 0.10894494,\n",
       "        0.54967269, 0.39662709, 0.84828022, 0.46779788, 0.15444302,\n",
       "        0.52181196, 0.28154547, 0.29893727, 0.74813076, 0.25501078,\n",
       "        0.3223742 , 0.2109779 , 0.39503129, 0.41987563, 0.39723483,\n",
       "        0.65709134, 0.40175281, 0.44342803, 0.41688254, 0.75202701,\n",
       "        0.41780423, 0.35811652, 0.69103328, 0.96010309, 0.18791747,\n",
       "        0.2792964 , 0.47105713, 0.20800053, 0.62027174, 0.55056974,\n",
       "        0.47602558, 0.73048412, 0.73062102, 0.06864575, 0.74324948,\n",
       "        0.74464725, 0.5430324 , 0.69091634, 0.62138972, 0.70465501,\n",
       "        0.67821458, 0.62999426, 0.65383808, 0.26407514, 0.6581399 ],\n",
       "       [0.51893227, 0.36273363, 0.303845  , 0.73775803, 0.55912767,\n",
       "        0.36079709, 0.87970203, 0.72334338, 0.        , 0.25143317,\n",
       "        0.2091742 , 0.40839298, 0.84462814, 0.78434285, 0.39234132,\n",
       "        0.56177476, 0.0625074 , 1.09698263, 0.79107746, 0.46000759,\n",
       "        0.67860882, 0.1437219 , 0.82002422, 0.30516584, 0.49993758,\n",
       "        0.69607686, 0.84228834, 0.36058505, 0.41459988, 0.62153639,\n",
       "        0.44797678, 0.53082151, 0.47422787, 0.31065368, 0.48541518,\n",
       "        0.09963011, 0.66812423, 0.53232708, 0.52899127, 0.71438046,\n",
       "        1.00741422, 0.15396767, 0.85575116, 0.26952352, 0.46614836,\n",
       "        0.93164467, 0.49663541, 0.63290737, 0.46206494, 0.21580164,\n",
       "        0.61983625, 1.1056433 , 0.3324327 , 0.60537139, 0.82897515,\n",
       "        0.53193409, 0.33265318, 0.34527632, 0.47230212, 0.57218411,\n",
       "        0.71678248, 0.99784246, 0.99171948, 0.33206263, 0.57967116,\n",
       "        0.48805822, 0.80084631, 0.61617819, 0.48492092, 0.64207346,\n",
       "        0.65993493, 0.38957704, 0.93624914, 0.96591178, 0.185299  ,\n",
       "        0.63610836, 0.53687756, 0.032312  , 0.51238927, 0.84194733,\n",
       "        0.94937957, 0.92516392, 0.90486288, 0.39139463, 0.19367649,\n",
       "        0.9071704 , 0.59413891, 0.47437283, 0.72384823, 0.46972142,\n",
       "        0.02621238, 0.71282713, 0.8299178 , 0.1200883 , 0.42425057,\n",
       "        1.00809098, 0.63765067, 0.82388676, 0.69782202, 0.30929522],\n",
       "       [0.34864741, 0.4724231 , 0.43301412, 0.5782689 , 0.32607569,\n",
       "        0.24270714, 0.8407075 , 0.73676181, 0.25143317, 0.        ,\n",
       "        0.16114384, 0.34428283, 0.70276124, 0.8613303 , 0.5166626 ,\n",
       "        0.32640018, 0.26197552, 0.92559485, 0.57248533, 0.23312962,\n",
       "        0.6462655 , 0.31686859, 0.72636771, 0.07846272, 0.62353039,\n",
       "        0.4533993 , 0.76037723, 0.11060762, 0.20767088, 0.63051811,\n",
       "        0.19715183, 0.28320524, 0.40216614, 0.09562276, 0.25147811,\n",
       "        0.29315058, 0.74516573, 0.67283583, 0.43553363, 0.60684528,\n",
       "        1.04635038, 0.2797062 , 0.77269777, 0.43288063, 0.6085499 ,\n",
       "        0.84626822, 0.35146775, 0.38258136, 0.48596445, 0.37309866,\n",
       "        0.71465708, 0.92793339, 0.08571521, 0.66558309, 0.82837365,\n",
       "        0.35283225, 0.42083109, 0.12386898, 0.33825032, 0.60844647,\n",
       "        0.55084479, 1.01762855, 1.03168506, 0.08122544, 0.67751846,\n",
       "        0.43035284, 0.74542594, 0.49377856, 0.63970852, 0.51746087,\n",
       "        0.44948236, 0.5231336 , 0.82155526, 0.86672318, 0.073622  ,\n",
       "        0.50402308, 0.44214356, 0.2499696 , 0.2827952 , 0.89463142,\n",
       "        1.00088607, 0.79928831, 0.87821036, 0.60969422, 0.35779542,\n",
       "        0.776657  , 0.36042156, 0.23311624, 0.76023515, 0.2255484 ,\n",
       "        0.23967791, 0.53993911, 0.62740754, 0.20492357, 0.18750767,\n",
       "        0.83430493, 0.43331188, 0.63014263, 0.79851504, 0.54001663],\n",
       "       [0.31043964, 0.31288138, 0.27795477, 0.52897276, 0.37576435,\n",
       "        0.15210572, 0.71400014, 0.58939302, 0.2091742 , 0.16114384,\n",
       "        0.        , 0.21814226, 0.63859284, 0.70215891, 0.35814744,\n",
       "        0.47421212, 0.17878274, 0.88803065, 0.59137798, 0.38891794,\n",
       "        0.51398253, 0.19406865, 0.62765998, 0.23953854, 0.46358486,\n",
       "        0.51952344, 0.65491532, 0.25203783, 0.22249223, 0.48291154,\n",
       "        0.30782036, 0.41691349, 0.28347112, 0.14736802, 0.30750655,\n",
       "        0.19018116, 0.58544978, 0.51448012, 0.33163533, 0.5158653 ,\n",
       "        0.89479894, 0.14513178, 0.66803856, 0.28788778, 0.45131741,\n",
       "        0.74368426, 0.28770581, 0.47817869, 0.33144151, 0.23180514,\n",
       "        0.55367075, 0.896482  , 0.19767172, 0.50730004, 0.68645796,\n",
       "        0.32440462, 0.2602261 , 0.28454255, 0.26404343, 0.45360842,\n",
       "        0.50765242, 0.87090989, 0.87981457, 0.20997067, 0.51640469,\n",
       "        0.30459495, 0.62540365, 0.41216026, 0.48442056, 0.4378936 ,\n",
       "        0.45856962, 0.36595891, 0.73760853, 0.77278515, 0.16264043,\n",
       "        0.43027892, 0.33929164, 0.18731666, 0.43572957, 0.73929228,\n",
       "        0.84636894, 0.72322129, 0.74656633, 0.48197236, 0.22165567,\n",
       "        0.70393557, 0.40989457, 0.30671797, 0.6072013 , 0.30739151,\n",
       "        0.2154056 , 0.50369369, 0.62402723, 0.09730594, 0.25570934,\n",
       "        0.79897695, 0.43440075, 0.61624523, 0.63748401, 0.42595192],\n",
       "       [0.20135775, 0.27855126, 0.288897  , 0.35743111, 0.36404461,\n",
       "        0.11071678, 0.49908505, 0.39865277, 0.40839298, 0.34428283,\n",
       "        0.21814226, 0.        , 0.44557253, 0.55399164, 0.32277424,\n",
       "        0.58742831, 0.35942875, 0.71073584, 0.49691405, 0.52868104,\n",
       "        0.30219178, 0.32563395, 0.41245147, 0.41289027, 0.39540041,\n",
       "        0.49899308, 0.43758183, 0.38975666, 0.24189407, 0.29468592,\n",
       "        0.39357771, 0.51108262, 0.06617615, 0.27166785, 0.32804948,\n",
       "        0.34915575, 0.44649845, 0.45657749, 0.12207254, 0.30655572,\n",
       "        0.71115133, 0.27906506, 0.45082443, 0.33740875, 0.40975891,\n",
       "        0.52665608, 0.14938196, 0.50583498, 0.18006609, 0.31111349,\n",
       "        0.43643113, 0.72473013, 0.32941622, 0.36070914, 0.48527254,\n",
       "        0.22379627, 0.22831924, 0.45062821, 0.1213172 , 0.29097255,\n",
       "        0.34526767, 0.67685214, 0.69711501, 0.34953398, 0.40783398,\n",
       "        0.08738874, 0.40794242, 0.21688047, 0.45098351, 0.24228476,\n",
       "        0.3713723 , 0.33958017, 0.52805848, 0.55823742, 0.37267656,\n",
       "        0.24156212, 0.12999066, 0.37977471, 0.56401001, 0.56948069,\n",
       "        0.67205091, 0.51870476, 0.53466321, 0.54037049, 0.31751504,\n",
       "        0.50214252, 0.38845577, 0.34887675, 0.43153465, 0.35912487,\n",
       "        0.42124816, 0.35010672, 0.49779247, 0.28858707, 0.31451832,\n",
       "        0.62657512, 0.3415402 , 0.47789914, 0.51696014, 0.51854044],\n",
       "       [0.35480906, 0.6758533 , 0.70897465, 0.13235806, 0.47174268,\n",
       "        0.48738706, 0.36899045, 0.48355005, 0.84462814, 0.70276124,\n",
       "        0.63859284, 0.44557253, 0.        , 0.70335578, 0.70718011,\n",
       "        0.78033816, 0.80122757, 0.27332057, 0.33748562, 0.77938977,\n",
       "        0.35163873, 0.7711363 , 0.16764033, 0.74138277, 0.72901185,\n",
       "        0.4978079 , 0.21144383, 0.68237596, 0.50216991, 0.45923697,\n",
       "        0.62034315, 0.6983945 , 0.3856572 , 0.60739319, 0.51200384,\n",
       "        0.79404149, 0.65383275, 0.78613817, 0.32468842, 0.16018394,\n",
       "        0.70463293, 0.72443833, 0.21150044, 0.76616791, 0.76732308,\n",
       "        0.23901482, 0.35570283, 0.58822743, 0.5125179 , 0.75092766,\n",
       "        0.68857393, 0.29420679, 0.64128399, 0.58927602, 0.47380106,\n",
       "        0.35407084, 0.64187612, 0.75977929, 0.37579541, 0.52506785,\n",
       "        0.16458058, 0.63277374, 0.69786772, 0.66048505, 0.68406871,\n",
       "        0.38707635, 0.28944091, 0.22951978, 0.80746403, 0.20372412,\n",
       "        0.33580408, 0.72653048, 0.14815168, 0.21714247, 0.75934743,\n",
       "        0.20853711, 0.3169305 , 0.81852182, 0.78748178, 0.65309104,\n",
       "        0.71053778, 0.10824315, 0.42211699, 0.95439776, 0.75997778,\n",
       "        0.08125455, 0.46057218, 0.54587544, 0.55187995, 0.56174569,\n",
       "        0.85348654, 0.18482751, 0.25412386, 0.72519776, 0.55655402,\n",
       "        0.20229243, 0.32699072, 0.2133783 , 0.73757381, 0.95008799],\n",
       "       [0.71935065, 0.42161895, 0.48109499, 0.72355301, 0.90362071,\n",
       "        0.66176792, 0.39106132, 0.22022477, 0.78434285, 0.8613303 ,\n",
       "        0.70215891, 0.55399164, 0.70335578, 0.        , 0.39541404,\n",
       "        1.13989715, 0.72227411, 0.94213223, 0.95379911, 1.07378478,\n",
       "        0.36104089, 0.64104114, 0.54398873, 0.93846981, 0.2983231 ,\n",
       "        1.02194061, 0.51365624, 0.9323287 , 0.79572014, 0.28054616,\n",
       "        0.94703944, 1.06486363, 0.52998367, 0.8119515 , 0.87896594,\n",
       "        0.68524409, 0.11765371, 0.29773486, 0.55029549, 0.56654667,\n",
       "        0.25061119, 0.63748694, 0.52111316, 0.52536803, 0.34751928,\n",
       "        0.55639081, 0.66591092, 1.05058553, 0.3803414 , 0.5704313 ,\n",
       "        0.16720684, 0.97247519, 0.87142438, 0.19653196, 0.2578803 ,\n",
       "        0.7406444 , 0.4574974 , 0.9816308 , 0.64799021, 0.26303498,\n",
       "        0.73737478, 0.28173923, 0.23534273, 0.88981569, 0.20690349,\n",
       "        0.49618134, 0.42342755, 0.60313642, 0.35494235, 0.60881944,\n",
       "        0.86137045, 0.40254138, 0.65286849, 0.61634859, 0.85945335,\n",
       "        0.62822041, 0.55068492, 0.75326231, 1.11318957, 0.09618155,\n",
       "        0.1800975 , 0.68453796, 0.36159321, 0.56410391, 0.59258568,\n",
       "        0.69180306, 0.9214651 , 0.90193422, 0.15312878, 0.91273627,\n",
       "        0.80901102, 0.75761182, 0.90842704, 0.70528913, 0.86846078,\n",
       "        0.89602406, 0.83295994, 0.87209219, 0.10926382, 0.62818966],\n",
       "       [0.52379523, 0.04760297, 0.08981337, 0.65317752, 0.67212561,\n",
       "        0.39138627, 0.58379005, 0.38610622, 0.39234132, 0.5166626 ,\n",
       "        0.35814744, 0.32277424, 0.70718011, 0.39541404, 0.        ,\n",
       "        0.83094101, 0.33142064, 0.98042493, 0.81889809, 0.7470322 ,\n",
       "        0.40801476, 0.24868663, 0.60886901, 0.59478849, 0.10989227,\n",
       "        0.81351381, 0.60979316, 0.60949835, 0.52789577, 0.30879294,\n",
       "        0.6538746 , 0.76876119, 0.35104107, 0.49693564, 0.62125602,\n",
       "        0.29271185, 0.28240157, 0.15634355, 0.40739395, 0.54772061,\n",
       "        0.63065376, 0.25474045, 0.62278991, 0.13039952, 0.09450093,\n",
       "        0.69143042, 0.47210658, 0.80279963, 0.19482399, 0.17662951,\n",
       "        0.22885647, 1.00080981, 0.55273193, 0.23655014, 0.49447326,\n",
       "        0.54603444, 0.10387224, 0.64047266, 0.44405906, 0.2366548 ,\n",
       "        0.64889419, 0.63402374, 0.61478767, 0.56687478, 0.18875363,\n",
       "        0.33391869, 0.53754561, 0.50347319, 0.13221465, 0.52415727,\n",
       "        0.69412938, 0.01938478, 0.73961218, 0.74170055, 0.49555597,\n",
       "        0.5324716 , 0.41333746, 0.36233852, 0.79373262, 0.46241007,\n",
       "        0.5673954 , 0.74804023, 0.59154659, 0.25184901, 0.19882413,\n",
       "        0.74031402, 0.70055637, 0.6327461 , 0.36343787, 0.63844133,\n",
       "        0.41774539, 0.65874155, 0.81289994, 0.32983156, 0.58697261,\n",
       "        0.9057639 , 0.66431384, 0.78868024, 0.30548543, 0.27371299],\n",
       "       [0.47128527, 0.78462306, 0.75215754, 0.64909754, 0.3090999 ,\n",
       "        0.47823054, 1.0298972 , 0.97978786, 0.56177476, 0.32640018,\n",
       "        0.47421212, 0.58742831, 0.78033816, 1.13989715, 0.83094101,\n",
       "        0.        , 0.58433067, 0.92535643, 0.51243249, 0.10354284,\n",
       "        0.86075377, 0.64323851, 0.86723608, 0.25793469, 0.9333908 ,\n",
       "        0.32745018, 0.91123316, 0.22229924, 0.34998393, 0.87952701,\n",
       "        0.19460047, 0.08391102, 0.62355238, 0.3355666 , 0.28615601,\n",
       "        0.61799637, 1.02887934, 0.98684957, 0.62820939, 0.74796129,\n",
       "        1.2915664 , 0.60532243, 0.92085212, 0.75753619, 0.92481493,\n",
       "        0.98412045, 0.50993158, 0.2154854 , 0.76028679, 0.69837286,\n",
       "        1.00893059, 0.91514938, 0.27830955, 0.94439827, 1.0535005 ,\n",
       "        0.45863115, 0.7299419 , 0.2165115 , 0.51592917, 0.87750136,\n",
       "        0.61649988, 1.24883911, 1.27827433, 0.2643106 , 0.97484313,\n",
       "        0.65749412, 0.92691039, 0.63875741, 0.95856473, 0.6540724 ,\n",
       "        0.44804589, 0.83968044, 0.92398397, 0.98531023, 0.37845447,\n",
       "        0.63365621, 0.63185508, 0.56782683, 0.05281696, 1.15628235,\n",
       "        1.25722337, 0.88833612, 1.07647363, 0.93555221, 0.68378118,\n",
       "        0.86157672, 0.32076107, 0.25459485, 1.01806552, 0.24016094,\n",
       "        0.54361949, 0.59551356, 0.60010256, 0.53130763, 0.27513285,\n",
       "        0.83890934, 0.45349017, 0.62315206, 1.09238485, 0.86335475],\n",
       "       [0.48740742, 0.30066887, 0.24237624, 0.69935322, 0.54758629,\n",
       "        0.3247179 , 0.82119326, 0.6618001 , 0.0625074 , 0.26197552,\n",
       "        0.17878274, 0.35942875, 0.80122757, 0.72227411, 0.33142064,\n",
       "        0.58433067, 0.        , 1.05852576, 0.76984757, 0.48530605,\n",
       "        0.62059533, 0.08303835, 0.76838424, 0.32656585, 0.43978238,\n",
       "        0.68861042, 0.78882144, 0.37250142, 0.39736406, 0.56062636,\n",
       "        0.45242797, 0.54518069, 0.42436401, 0.30311606, 0.47590926,\n",
       "        0.04065053, 0.60588619, 0.47433066, 0.48123972, 0.66594837,\n",
       "        0.94491416, 0.09280074, 0.80234946, 0.21167824, 0.40788014,\n",
       "        0.87810503, 0.45987111, 0.63442867, 0.40134941, 0.15552689,\n",
       "        0.55817951, 1.06877434, 0.33522898, 0.5428646 , 0.76784884,\n",
       "        0.50232255, 0.27017735, 0.36990738, 0.43395844, 0.51017183,\n",
       "        0.68019223, 0.93563218, 0.9292173 , 0.33874843, 0.51804327,\n",
       "        0.43567522, 0.74439243, 0.57183176, 0.42872163, 0.5977082 ,\n",
       "        0.63721114, 0.32949257, 0.8871082 , 0.91414541, 0.20687646,\n",
       "        0.5933016 , 0.48916214, 0.03101276, 0.5371932 , 0.779452  ,\n",
       "        0.88690259, 0.87804626, 0.84522687, 0.35387695, 0.13370461,\n",
       "        0.8610364 , 0.58233833, 0.46914156, 0.66152419, 0.46654465,\n",
       "        0.08674265, 0.67802997, 0.80238188, 0.08153762, 0.4179055 ,\n",
       "        0.97075551, 0.6131807 , 0.79360728, 0.63673613, 0.27903319],\n",
       "       [0.58333571, 0.94911723, 0.98132533, 0.35934083, 0.63908967,\n",
       "        0.73618738, 0.56603316, 0.72847719, 1.09698263, 0.92559485,\n",
       "        0.88803065, 0.71073584, 0.27332057, 0.94213223, 0.98042493,\n",
       "        0.92535643, 1.05852576, 0.        , 0.41450414, 0.95114942,\n",
       "        0.61067632, 1.03545493, 0.40218433, 0.94954893, 0.99919135,\n",
       "        0.60272065, 0.42851242, 0.88208557, 0.71800004, 0.72196798,\n",
       "        0.80265614, 0.85174917, 0.65426515, 0.83085349, 0.69918485,\n",
       "        1.05513847, 0.9087401 , 1.05503827, 0.59276611, 0.43287782,\n",
       "        0.89109737, 0.98704138, 0.4211325 , 1.03777586, 1.03902655,\n",
       "        0.39861337, 0.60035712, 0.71222267, 0.78568932, 1.01993454,\n",
       "        0.94954227, 0.0357272 , 0.85278527, 0.85141116, 0.69257641,\n",
       "        0.57496768, 0.91438139, 0.95851398, 0.6250157 , 0.79153735,\n",
       "        0.38080447, 0.81224662, 0.88811522, 0.86952809, 0.94874961,\n",
       "        0.65849316, 0.51901936, 0.49433026, 1.07873294, 0.46954687,\n",
       "        0.49294097, 0.99978334, 0.29116275, 0.34272132, 0.9898007 ,\n",
       "        0.46920945, 0.58525993, 1.07307469, 0.9460128 , 0.87768338,\n",
       "        0.91408742, 0.25771441, 0.61188632, 1.22761752, 1.02778178,\n",
       "        0.25333559, 0.61558974, 0.73036248, 0.79679552, 0.74512804,\n",
       "        1.10302631, 0.38757115, 0.32535606, 0.97974488, 0.75566686,\n",
       "        0.09137514, 0.50027549, 0.30635342, 0.99068491, 1.22171581],\n",
       "       [0.30004177, 0.7753789 , 0.78274256, 0.24297443, 0.2506585 ,\n",
       "        0.45969257, 0.68602075, 0.74081578, 0.79107746, 0.57248533,\n",
       "        0.59137798, 0.49691405, 0.33748562, 0.95379911, 0.81889809,\n",
       "        0.51243249, 0.76984757, 0.41450414, 0.        , 0.54736349,\n",
       "        0.59673593, 0.77526871, 0.48466605, 0.57556239, 0.88097767,\n",
       "        0.18828271, 0.53291382, 0.50278749, 0.37690397, 0.67655931,\n",
       "        0.41206932, 0.44212658, 0.47251364, 0.48710912, 0.32272412,\n",
       "        0.78005883, 0.87425674, 0.94273785, 0.42565765, 0.40162738,\n",
       "        1.01082308, 0.72343839, 0.53682127, 0.82497579, 0.90255925,\n",
       "        0.57553482, 0.3478998 , 0.29804912, 0.64970149, 0.78667627,\n",
       "        0.88826394, 0.40285333, 0.48945434, 0.79359355, 0.76621964,\n",
       "        0.27961577, 0.72485568, 0.57421528, 0.37669224, 0.71897508,\n",
       "        0.22094247, 0.94589257, 1.0016994 , 0.50172956, 0.870037  ,\n",
       "        0.49724552, 0.5906735 , 0.35205798, 0.94429808, 0.34497982,\n",
       "        0.13324467, 0.83612265, 0.48271882, 0.55354319, 0.64437062,\n",
       "        0.32583293, 0.42211035, 0.77491798, 0.53652031, 0.92689922,\n",
       "        1.00335434, 0.43799474, 0.73954994, 1.0313112 , 0.78623577,\n",
       "        0.41105659, 0.21967619, 0.34757055, 0.80263345, 0.35986658,\n",
       "        0.78940614, 0.19835975, 0.09446693, 0.68860422, 0.38615842,\n",
       "        0.33132045, 0.15998378, 0.12943254, 0.95661178, 0.99698904],\n",
       "       [0.44507118, 0.70174449, 0.665119  , 0.64704808, 0.3140099 ,\n",
       "        0.4179652 , 0.99614989, 0.92665651, 0.46000759, 0.23312962,\n",
       "        0.38891794, 0.52868104, 0.77938977, 1.07378478, 0.7470322 ,\n",
       "        0.10354284, 0.48530605, 0.95114942, 0.54736349, 0.        ,\n",
       "        0.81653618, 0.54776112, 0.84757144, 0.15936421, 0.85215726,\n",
       "        0.37458246, 0.88894435, 0.14155047, 0.30616288, 0.82335879,\n",
       "        0.16011201, 0.11379471, 0.57280228, 0.26183921, 0.26783597,\n",
       "        0.52024883, 0.96016161, 0.90337455, 0.5868153 , 0.72606608,\n",
       "        1.23936102, 0.51259815, 0.89957657, 0.66595817, 0.83988185,\n",
       "        0.96700218, 0.47475334, 0.26741385, 0.69357841, 0.606053  ,\n",
       "        0.93551514, 0.9446533 , 0.20236601, 0.87730735, 1.00740846,\n",
       "        0.4368983 , 0.64844496, 0.11544497, 0.47509877, 0.81383026,\n",
       "        0.6150539 , 1.20170995, 1.22548824, 0.18440269, 0.89991514,\n",
       "        0.60567048, 0.89468098, 0.61286197, 0.87196195, 0.63128962,\n",
       "        0.46049687, 0.75444259, 0.91754494, 0.97446734, 0.27851914,\n",
       "        0.61247511, 0.59151174, 0.46743216, 0.05239754, 1.09711693,\n",
       "        1.20056931, 0.88564643, 1.04001241, 0.8381913 , 0.59030826,\n",
       "        0.85977639, 0.33556996, 0.23385399, 0.95966315, 0.21795259,\n",
       "        0.44121166, 0.59653987, 0.62765042, 0.43687257, 0.23443073,\n",
       "        0.86192117, 0.459136  , 0.64497306, 1.01941637, 0.76394585],\n",
       "       [0.39847898, 0.39202152, 0.44312284, 0.36271661, 0.58443847,\n",
       "        0.40676076, 0.20152514, 0.14410708, 0.67860882, 0.6462655 ,\n",
       "        0.51398253, 0.30219178, 0.35163873, 0.36104089, 0.40801476,\n",
       "        0.86075377, 0.62059533, 0.61067632, 0.59673593, 0.81653618,\n",
       "        0.        , 0.56084687, 0.21235852, 0.71306745, 0.39857341,\n",
       "        0.68463827, 0.20390993, 0.68286337, 0.51263453, 0.11226675,\n",
       "        0.66766231, 0.7789945 , 0.2461627 , 0.56922332, 0.57856827,\n",
       "        0.59741622, 0.30221042, 0.44996634, 0.23262212, 0.20588744,\n",
       "        0.43657603, 0.52873864, 0.21639724, 0.50477453, 0.44466178,\n",
       "        0.28342015, 0.35253253, 0.73164602, 0.23039011, 0.51360923,\n",
       "        0.33899215, 0.63716451, 0.62441994, 0.24077347, 0.19295879,\n",
       "        0.41651023, 0.38056719, 0.74874366, 0.34483139, 0.18582905,\n",
       "        0.37779165, 0.38833687, 0.42463572, 0.64514702, 0.33885308,\n",
       "        0.21606663, 0.130682  , 0.25312897, 0.48114304, 0.25375708,\n",
       "        0.51552007, 0.42665063, 0.34108166, 0.33475685, 0.6732583 ,\n",
       "        0.27467428, 0.2293428 , 0.6470167 , 0.84569944, 0.33079124,\n",
       "        0.41485701, 0.35882053, 0.23284602, 0.65870111, 0.5301693 ,\n",
       "        0.35804359, 0.59524671, 0.60761203, 0.20802893, 0.62124826,\n",
       "        0.69660007, 0.39892931, 0.54762501, 0.56566962, 0.58720603,\n",
       "        0.55169296, 0.48911811, 0.51106711, 0.38606825, 0.67791162],\n",
       "       [0.48171817, 0.21967104, 0.16017786, 0.67891769, 0.56916479,\n",
       "        0.3172486 , 0.75916306, 0.59045587, 0.1437219 , 0.31686859,\n",
       "        0.19406865, 0.32563395, 0.7711363 , 0.64104114, 0.24868663,\n",
       "        0.64323851, 0.08303835, 1.03545493, 0.77526871, 0.54776112,\n",
       "        0.56084687, 0.        , 0.72262058, 0.38852387, 0.35677938,\n",
       "        0.71334676, 0.73902701, 0.42465786, 0.41522449, 0.49219875,\n",
       "        0.49495751, 0.59653144, 0.38669781, 0.33720787, 0.50156629,\n",
       "        0.0442137 , 0.52521768, 0.3916635 , 0.44675582, 0.62753117,\n",
       "        0.86695193, 0.05183131, 0.75262414, 0.12963647, 0.32515088,\n",
       "        0.82771346, 0.44624716, 0.67069008, 0.3348907 , 0.07248946,\n",
       "        0.47617859, 1.04827716, 0.3793551 , 0.46492511, 0.69789231,\n",
       "        0.4992937 , 0.19448891, 0.43356603, 0.41831354, 0.43704833,\n",
       "        0.66302447, 0.86051126, 0.85118946, 0.38676003, 0.43600512,\n",
       "        0.3921263 , 0.68794486, 0.54243311, 0.3470604 , 0.56790651,\n",
       "        0.64205743, 0.24646805, 0.84571553, 0.86734609, 0.27347192,\n",
       "        0.56643898, 0.45459759, 0.11377668, 0.59863187, 0.70054556,\n",
       "        0.80762611, 0.84059707, 0.77995073, 0.29371682, 0.05073723,\n",
       "        0.82553454, 0.60298127, 0.50021077, 0.58594586, 0.50011913,\n",
       "        0.16905985, 0.66384227, 0.79826919, 0.11230797, 0.44896015,\n",
       "        0.949993  , 0.61584278, 0.78538707, 0.55414039, 0.23206433],\n",
       "       [0.40258433, 0.58596362, 0.62977949, 0.24553885, 0.56217904,\n",
       "        0.48825577, 0.2037196 , 0.32712603, 0.82002422, 0.72636771,\n",
       "        0.62765998, 0.41245147, 0.16764033, 0.54398873, 0.60886901,\n",
       "        0.86723608, 0.76838424, 0.40218433, 0.48466605, 0.84757144,\n",
       "        0.21235852, 0.72262058, 0.        , 0.77920167, 0.60968024,\n",
       "        0.62144264, 0.04842456, 0.73139493, 0.54726958, 0.32462069,\n",
       "        0.68818502, 0.78336851, 0.34629122, 0.63566641, 0.58364852,\n",
       "        0.75300366, 0.50663093, 0.66211874, 0.29644349, 0.12189557,\n",
       "        0.53772708, 0.68205979, 0.05472431, 0.69055683, 0.65409341,\n",
       "        0.12052788, 0.37979947, 0.69671054, 0.41828088, 0.68794663,\n",
       "        0.54902876, 0.43068414, 0.68086308, 0.45212693, 0.30683625,\n",
       "        0.41121406, 0.56342397, 0.80598117, 0.38876005, 0.39759037,\n",
       "        0.27421487, 0.46722318, 0.53064168, 0.70151175, 0.55089143,\n",
       "        0.33272679, 0.12300555, 0.23650213, 0.69167452, 0.21643303,\n",
       "        0.44847657, 0.62805142, 0.13082967, 0.14588764, 0.77096366,\n",
       "        0.23515889, 0.28897667, 0.7906193 , 0.86502723, 0.48814887,\n",
       "        0.54294523, 0.14683426, 0.25734165, 0.86069457, 0.70113427,\n",
       "        0.14905238, 0.56028932, 0.61703296, 0.39570314, 0.63262906,\n",
       "        0.83357679, 0.29874037, 0.41132776, 0.70067501, 0.61408672,\n",
       "        0.35206395, 0.43063789, 0.37067497, 0.58851362, 0.87076793],\n",
       "       [0.38744305, 0.5507485 , 0.51053383, 0.61283614, 0.32490471,\n",
       "        0.30642827, 0.90419171, 0.80902252, 0.30516584, 0.07846272,\n",
       "        0.23953854, 0.41289027, 0.74138277, 0.93846981, 0.59478849,\n",
       "        0.25793469, 0.32656585, 0.94954893, 0.57556239, 0.15936421,\n",
       "        0.71306745, 0.38852387, 0.77920167, 0.        , 0.70189017,\n",
       "        0.43541462, 0.81566292, 0.0738705 , 0.23922612, 0.70320498,\n",
       "        0.17056286, 0.22793178, 0.46722699, 0.14535244, 0.25455177,\n",
       "        0.36099664, 0.82261922, 0.75085937, 0.49492491, 0.65807601,\n",
       "        1.11985337, 0.35451727, 0.82754775, 0.50814369, 0.68634352,\n",
       "        0.89967244, 0.39983715, 0.34989593, 0.56165954, 0.44795657,\n",
       "        0.79283555, 0.94902554, 0.10017467, 0.74242451, 0.89815683,\n",
       "        0.38737329, 0.49928778, 0.04585781, 0.39099847, 0.68395949,\n",
       "        0.58346595, 1.08903359, 1.1053462 , 0.08105393, 0.75582036,\n",
       "        0.49713872, 0.80674315, 0.54359576, 0.71699501, 0.56590936,\n",
       "        0.46179266, 0.60097867, 0.86724464, 0.91630084, 0.12062449,\n",
       "        0.55051709, 0.50101326, 0.30997264, 0.21081273, 0.96997511,\n",
       "        1.07576856, 0.84181255, 0.9435763 , 0.678922  , 0.43168102,\n",
       "        0.81799025, 0.35679188, 0.22799213, 0.83475091, 0.21610839,\n",
       "        0.28857649, 0.56983476, 0.6399532 , 0.27812214, 0.19430345,\n",
       "        0.85824955, 0.45020913, 0.64759803, 0.87672457, 0.60552556],\n",
       "       [0.59510099, 0.15119593, 0.19954416, 0.69387974, 0.75624482,\n",
       "        0.47919805, 0.54784626, 0.33836813, 0.49993758, 0.62353039,\n",
       "        0.46358486, 0.39540041, 0.72901185, 0.2983231 , 0.10989227,\n",
       "        0.9333908 , 0.43978238, 0.99919135, 0.88097767, 0.85215726,\n",
       "        0.39857341, 0.35677938, 0.60968024, 0.70189017, 0.        ,\n",
       "        0.8940079 , 0.60187236, 0.71319803, 0.61847776, 0.28795611,\n",
       "        0.75202627, 0.86843317, 0.40858117, 0.59805076, 0.71095969,\n",
       "        0.40044713, 0.19450445, 0.06178334, 0.45755264, 0.56928073,\n",
       "        0.54286777, 0.36462664, 0.61394734, 0.23248545, 0.05413743,\n",
       "        0.6761863 , 0.54105419, 0.89242154, 0.23209228, 0.28431954,\n",
       "        0.13241965, 1.02261972, 0.65518821, 0.17818469, 0.44103769,\n",
       "        0.61777085, 0.20377636, 0.74739338, 0.51478394, 0.21285018,\n",
       "        0.69449134, 0.55598888, 0.52708982, 0.67027791, 0.0958896 ,\n",
       "        0.38438496, 0.52043008, 0.54630936, 0.08318641, 0.56365441,\n",
       "        0.76225698, 0.11036222, 0.73944734, 0.73087312, 0.60480891,\n",
       "        0.57560615, 0.46216857, 0.47055178, 0.89784612, 0.3753022 ,\n",
       "        0.47587869, 0.75459247, 0.54595664, 0.2845781 , 0.30633479,\n",
       "        0.75078845, 0.78251399, 0.72532352, 0.2990008 , 0.73226663,\n",
       "        0.52561989, 0.70751907, 0.86453228, 0.43960154, 0.68177913,\n",
       "        0.93094662, 0.73215498, 0.83657832, 0.20041096, 0.33537253],\n",
       "       [0.30543535, 0.76667566, 0.75905033, 0.3784114 , 0.14502465,\n",
       "        0.42389184, 0.81184492, 0.82399954, 0.69607686, 0.4533993 ,\n",
       "        0.51952344, 0.49899308, 0.4978079 , 1.02194061, 0.81351381,\n",
       "        0.32745018, 0.68861042, 0.60272065, 0.18828271, 0.37458246,\n",
       "        0.68463827, 0.71334676, 0.62144264, 0.43541462, 0.8940079 ,\n",
       "        0.        , 0.66938462, 0.36191016, 0.29903473, 0.74185429,\n",
       "        0.26486226, 0.26350919, 0.499415  , 0.38633616, 0.21283653,\n",
       "        0.70767542, 0.92750679, 0.95481819, 0.47169706, 0.5169787 ,\n",
       "        1.11771932, 0.66319126, 0.67597244, 0.78959308, 0.90474073,\n",
       "        0.72645757, 0.36038155, 0.11198825, 0.67436041, 0.74144735,\n",
       "        0.92843877, 0.590293  , 0.3678476 , 0.84235058, 0.87040615,\n",
       "        0.28320338, 0.71155639, 0.42318627, 0.38316412, 0.76761135,\n",
       "        0.34787833, 1.06046217, 1.10679007, 0.37395251, 0.90326631,\n",
       "        0.53111437, 0.71031884, 0.43232138, 0.94496335, 0.43637918,\n",
       "        0.17422531, 0.82827232, 0.64595902, 0.71398065, 0.52692154,\n",
       "        0.41436887, 0.47127086, 0.68653596, 0.3563952 , 1.0116407 ,\n",
       "        1.09949497, 0.60437163, 0.8637619 , 0.99373367, 0.73575181,\n",
       "        0.57696364, 0.11344105, 0.22186657, 0.87818722, 0.22794439,\n",
       "        0.68878968, 0.32355239, 0.28054187, 0.6115835 , 0.27189042,\n",
       "        0.51930818, 0.1970023 , 0.30973543, 1.00491418, 0.94451042],\n",
       "       [0.44398157, 0.59033025, 0.63741604, 0.29393824, 0.60756131,\n",
       "        0.51993657, 0.15760187, 0.30152453, 0.84228834, 0.76037723,\n",
       "        0.65491532, 0.43758183, 0.21144383, 0.51365624, 0.60979316,\n",
       "        0.91123316, 0.78882144, 0.42851242, 0.53291382, 0.88894435,\n",
       "        0.20390993, 0.73902701, 0.04842456, 0.81566292, 0.60187236,\n",
       "        0.66938462, 0.        , 0.77011314, 0.58658827, 0.31408052,\n",
       "        0.73011618, 0.82732497, 0.37163891, 0.67124475, 0.62665627,\n",
       "        0.77129925, 0.48531508, 0.65170041, 0.32642087, 0.16342122,\n",
       "        0.49330697, 0.70059745, 0.01359882, 0.69878287, 0.64851804,\n",
       "        0.08935668, 0.41788283, 0.74345904, 0.42392147, 0.70029553,\n",
       "        0.53181028, 0.45889311, 0.71821235, 0.43742414, 0.26858505,\n",
       "        0.45378206, 0.57214548, 0.84384732, 0.42466641, 0.38904095,\n",
       "        0.32245317, 0.42143661, 0.48677908, 0.73899268, 0.53705909,\n",
       "        0.35438239, 0.09073767, 0.27620917, 0.6846808 , 0.25800469,\n",
       "        0.49614438, 0.62869842, 0.14223434, 0.13208979, 0.80218419,\n",
       "        0.27777916, 0.31933685, 0.8122162 , 0.90774512, 0.45241117,\n",
       "        0.50165008, 0.17088493, 0.2109232 , 0.86128562, 0.71464311,\n",
       "        0.17974897, 0.60660217, 0.65978846, 0.36926417, 0.67526511,\n",
       "        0.85696623, 0.34698762, 0.45867735, 0.72386258, 0.65487213,\n",
       "        0.38599684, 0.47779774, 0.41792656, 0.56533861, 0.87638272],\n",
       "       [0.3322535 , 0.56354416, 0.5299254 , 0.55200304, 0.25224597,\n",
       "        0.27935102, 0.8679582 , 0.78837955, 0.36058505, 0.11060762,\n",
       "        0.25203783, 0.38975666, 0.68237596, 0.9323287 , 0.60949835,\n",
       "        0.22229924, 0.37250142, 0.88208557, 0.50278749, 0.14155047,\n",
       "        0.68286337, 0.42465786, 0.73139493, 0.0738705 , 0.71319803,\n",
       "        0.36191016, 0.77011314, 0.        , 0.1843759 , 0.68422858,\n",
       "        0.09713042, 0.17277926, 0.43728724, 0.12041098, 0.18383411,\n",
       "        0.40297151, 0.81861244, 0.76566099, 0.45695931, 0.60955955,\n",
       "        1.10090593, 0.38449919, 0.78148722, 0.53581744, 0.70309194,\n",
       "        0.85183357, 0.35223762, 0.27955393, 0.55221418, 0.47706904,\n",
       "        0.79426287, 0.88043892, 0.06099111, 0.73582912, 0.87198867,\n",
       "        0.32918851, 0.50944472, 0.0775454 , 0.34784284, 0.67278691,\n",
       "        0.52167999, 1.06535385, 1.08684522, 0.04309716, 0.75890338,\n",
       "        0.46931463, 0.76815045, 0.49489344, 0.73645797, 0.51572482,\n",
       "        0.39172005, 0.6178293 , 0.81277661, 0.86486333, 0.17684252,\n",
       "        0.49882076, 0.46232668, 0.36041047, 0.18469601, 0.95673493,\n",
       "        1.06074208, 0.78505795, 0.90985859, 0.71823227, 0.46320503,\n",
       "        0.76048401, 0.28355845, 0.15550788, 0.81961428, 0.14294196,\n",
       "        0.34710503, 0.50661048, 0.56921224, 0.31235059, 0.1272497 ,\n",
       "        0.79097154, 0.38185913, 0.57841027, 0.87812899, 0.6500856 ],\n",
       "       [0.14865955, 0.48033246, 0.46548204, 0.37421268, 0.15419975,\n",
       "        0.1398415 , 0.68999285, 0.62982533, 0.41459988, 0.20767088,\n",
       "        0.22249223, 0.24189407, 0.50216991, 0.79572014, 0.52789577,\n",
       "        0.34998393, 0.39736406, 0.71800004, 0.37690397, 0.30616288,\n",
       "        0.51263453, 0.41522449, 0.54726958, 0.23922612, 0.61847776,\n",
       "        0.29903473, 0.58658827, 0.1843759 , 0.        , 0.53020346,\n",
       "        0.15558136, 0.27080903, 0.27361038, 0.11408721, 0.09343985,\n",
       "        0.41242837, 0.68818159, 0.67703481, 0.28125222, 0.42538831,\n",
       "        0.94162023, 0.36460437, 0.59777564, 0.49210435, 0.62157233,\n",
       "        0.66763859, 0.16937221, 0.2749099 , 0.42035611, 0.44267453,\n",
       "        0.67527583, 0.72029115, 0.13911678, 0.60251305, 0.70480311,\n",
       "        0.14828455, 0.42415121, 0.26026996, 0.16908678, 0.53269113,\n",
       "        0.34550734, 0.89991751, 0.9282985 , 0.15844919, 0.64440674,\n",
       "        0.30762923, 0.58868018, 0.31082836, 0.6600909 , 0.33138352,\n",
       "        0.24760256, 0.54090888, 0.62931996, 0.68058583, 0.27438077,\n",
       "        0.31446763, 0.28568347, 0.39981567, 0.33308134, 0.80750886,\n",
       "        0.90758706, 0.60288749, 0.73398793, 0.69511984, 0.43671978,\n",
       "        0.57887944, 0.18776233, 0.10792854, 0.66923922, 0.11731118,\n",
       "        0.4125028 , 0.3333001 , 0.42307896, 0.31756229, 0.07490336,\n",
       "        0.6266858 , 0.22834752, 0.4235181 , 0.75704972, 0.64573892],\n",
       "       [0.4409743 , 0.30057342, 0.35716016, 0.45418084, 0.62682427,\n",
       "        0.40539594, 0.27595781, 0.10653991, 0.62153639, 0.63051811,\n",
       "        0.48291154, 0.29468592, 0.45923697, 0.28054616, 0.30879294,\n",
       "        0.87952701, 0.56062636, 0.72196798, 0.67655931, 0.82335879,\n",
       "        0.11226675, 0.49219875, 0.32462069, 0.70320498, 0.28795611,\n",
       "        0.74185429, 0.31408052, 0.68422858, 0.53020346, 0.        ,\n",
       "        0.68496535, 0.80100135, 0.25747112, 0.56528757, 0.60786124,\n",
       "        0.5323692 , 0.20025748, 0.33801172, 0.2707138 , 0.30606233,\n",
       "        0.41700818, 0.46787362, 0.3260452 , 0.41780441, 0.33577511,\n",
       "        0.38894445, 0.38863575, 0.7745158 , 0.15953497, 0.43628909,\n",
       "        0.22934773, 0.7478546 , 0.62366121, 0.13006907, 0.20762972,\n",
       "        0.4617835 , 0.30101623, 0.74288448, 0.37306507, 0.07560621,\n",
       "        0.4642676 , 0.3880792 , 0.40275894, 0.64353696, 0.22687703,\n",
       "        0.2231899 , 0.23318771, 0.32461122, 0.37094957, 0.33261198,\n",
       "        0.58093724, 0.32648658, 0.45294231, 0.44299764, 0.64553508,\n",
       "        0.35087038, 0.27068516, 0.58928057, 0.85807401, 0.27762751,\n",
       "        0.37783745, 0.47105682, 0.28941781, 0.55558135, 0.4551287 ,\n",
       "        0.46985588, 0.64305542, 0.63328282, 0.13960974, 0.64528749,\n",
       "        0.64214158, 0.4829836 , 0.63743947, 0.51696858, 0.60469339,\n",
       "        0.66072518, 0.55244195, 0.6032222 , 0.28431083, 0.58217195],\n",
       "       [0.28618554, 0.60662016, 0.58104892, 0.48812544, 0.16444668,\n",
       "        0.28547696, 0.84138138, 0.78524193, 0.44797678, 0.19715183,\n",
       "        0.30782036, 0.39357771, 0.62034315, 0.94703944, 0.6538746 ,\n",
       "        0.19460047, 0.45242797, 0.80265614, 0.41206932, 0.16011201,\n",
       "        0.66766231, 0.49495751, 0.68818502, 0.17056286, 0.75202627,\n",
       "        0.26486226, 0.73011618, 0.09713042, 0.15558136, 0.68496535,\n",
       "        0.        , 0.11817694, 0.4290074 , 0.16053133, 0.10834489,\n",
       "        0.47895628, 0.83726208, 0.80792287, 0.43556014, 0.56694306,\n",
       "        1.09717381, 0.4501175 , 0.74054263, 0.59559485, 0.74836954,\n",
       "        0.80733176, 0.31942647, 0.18548093, 0.56851254, 0.53946741,\n",
       "        0.8200674 , 0.798711  , 0.11720206, 0.75224017, 0.86009585,\n",
       "        0.27711648, 0.55076323, 0.16243974, 0.32309173, 0.68424241,\n",
       "        0.45639126, 1.05530382, 1.08382142, 0.11600835, 0.78720534,\n",
       "        0.4629143 , 0.73910185, 0.45446807, 0.78441224, 0.47218179,\n",
       "        0.30971675, 0.66448576, 0.75758533, 0.81435946, 0.2686676 ,\n",
       "        0.45302615, 0.43958556, 0.44411316, 0.17922696, 0.96186373,\n",
       "        1.06262992, 0.72612955, 0.88663124, 0.78764252, 0.52828331,\n",
       "        0.7004331 , 0.19258232, 0.07458559, 0.82361977, 0.05883782,\n",
       "        0.4368249 , 0.43863958, 0.48384005, 0.38426297, 0.08067945,\n",
       "        0.71226131, 0.30454767, 0.49670981, 0.90298156, 0.72521159],\n",
       "       [0.38772824, 0.72177153, 0.69351015, 0.56675789, 0.22666737,\n",
       "        0.40354839, 0.94643596, 0.90008012, 0.53082151, 0.28320524,\n",
       "        0.41691349, 0.51108262, 0.6983945 , 1.06486363, 0.76876119,\n",
       "        0.08391102, 0.54518069, 0.85174917, 0.44212658, 0.11379471,\n",
       "        0.7789945 , 0.59653144, 0.78336851, 0.22793178, 0.86843317,\n",
       "        0.26350919, 0.82732497, 0.17277926, 0.27080903, 0.80100135,\n",
       "        0.11817694, 0.        , 0.54411455, 0.27211188, 0.2026174 ,\n",
       "        0.57570234, 0.95537766, 0.92360879, 0.54637254, 0.66405029,\n",
       "        1.21121437, 0.55483506, 0.8369566 , 0.70414365, 0.86315221,\n",
       "        0.90038807, 0.42735554, 0.15425901, 0.6866413 , 0.64641785,\n",
       "        0.9381551 , 0.84317041, 0.21947982, 0.87028374, 0.97188908,\n",
       "        0.37481402, 0.66623912, 0.19609435, 0.43440408, 0.80195661,\n",
       "        0.53420059, 1.16727797, 1.19809522, 0.20990412, 0.90512806,\n",
       "        0.57824227, 0.8433682 , 0.55497447, 0.898403  , 0.57017909,\n",
       "        0.36833422, 0.77870467, 0.84128598, 0.9020954 , 0.34559833,\n",
       "        0.549747  , 0.54980047, 0.53236137, 0.09444837, 1.07830915,\n",
       "        1.17824679, 0.80620327, 0.99326815, 0.89024539, 0.63357333,\n",
       "        0.77957434, 0.24080082, 0.17167269, 0.94003845, 0.15774841,\n",
       "        0.51561509, 0.51361511, 0.52656022, 0.48432395, 0.19669185,\n",
       "        0.76402321, 0.37208195, 0.54730956, 1.02112259, 0.82284616],\n",
       "       [0.19401609, 0.31086903, 0.33192256, 0.3075508 , 0.37419848,\n",
       "        0.16079885, 0.4385759 , 0.35623713, 0.47422787, 0.40216614,\n",
       "        0.28347112, 0.06617615, 0.3856572 , 0.52998367, 0.35104107,\n",
       "        0.62355238, 0.42436401, 0.65426515, 0.47251364, 0.57280228,\n",
       "        0.2461627 , 0.38669781, 0.34629122, 0.46722699, 0.40858117,\n",
       "        0.499415  , 0.37163891, 0.43728724, 0.27361038, 0.25747112,\n",
       "        0.4290074 , 0.54411455, 0.        , 0.32307677, 0.3506227 ,\n",
       "        0.41246186, 0.42955195, 0.47036138, 0.06151495, 0.24189476,\n",
       "        0.66832717, 0.34184   , 0.38484045, 0.38538579, 0.43085899,\n",
       "        0.46062812, 0.13903443, 0.52068373, 0.17862864, 0.3657628 ,\n",
       "        0.42920537, 0.6699483 , 0.37842242, 0.34382156, 0.43485185,\n",
       "        0.21642122, 0.26693925, 0.50258168, 0.11830056, 0.26985855,\n",
       "        0.2997411 , 0.62890781, 0.65487877, 0.39909715, 0.40538965,\n",
       "        0.03428748, 0.3448442 , 0.16063797, 0.47269866, 0.18481442,\n",
       "        0.35506839, 0.3692561 , 0.4627473 , 0.49209838, 0.43521782,\n",
       "        0.18780505, 0.06901702, 0.44533762, 0.60452093, 0.53509863,\n",
       "        0.63414247, 0.45469103, 0.47650437, 0.58306249, 0.37434824,\n",
       "        0.43897584, 0.39391949, 0.37581531, 0.39699851, 0.38790542,\n",
       "        0.48733961, 0.30818735, 0.46187808, 0.35456637, 0.34841991,\n",
       "        0.57225233, 0.32499824, 0.43798904, 0.50565194, 0.56881942],\n",
       "       [0.25305952, 0.4501439 , 0.42160349, 0.48264655, 0.24860574,\n",
       "        0.16266253, 0.75904804, 0.67007691, 0.31065368, 0.09562276,\n",
       "        0.14736802, 0.27166785, 0.60739319, 0.8119515 , 0.49693564,\n",
       "        0.3355666 , 0.30311606, 0.83085349, 0.48710912, 0.26183921,\n",
       "        0.56922332, 0.33720787, 0.63566641, 0.14535244, 0.59805076,\n",
       "        0.38633616, 0.67124475, 0.12041098, 0.11408721, 0.56528757,\n",
       "        0.16053133, 0.27211188, 0.32307677, 0.        , 0.17477174,\n",
       "        0.3251696 , 0.69842795, 0.65224935, 0.34957808, 0.51515873,\n",
       "        0.98224595, 0.29079084, 0.6832778 , 0.43506441, 0.59123478,\n",
       "        0.75597607, 0.25796474, 0.33379107, 0.43180431, 0.37914443,\n",
       "        0.67508106, 0.83379535, 0.05947353, 0.61546835, 0.75614732,\n",
       "        0.25731774, 0.39495978, 0.17957285, 0.24692066, 0.5524503 ,\n",
       "        0.45528865, 0.94844176, 0.9680452 , 0.07842781, 0.64023584,\n",
       "        0.35383849, 0.66139713, 0.40124326, 0.62629734, 0.42436767,\n",
       "        0.36023845, 0.50664221, 0.72776554, 0.7744485 , 0.16029437,\n",
       "        0.41017958, 0.3556924 , 0.30020047, 0.30291464, 0.83672608,\n",
       "        0.94107826, 0.7046274 , 0.79889747, 0.62842069, 0.36846428,\n",
       "        0.68173677, 0.28361971, 0.16602638, 0.69986021, 0.16395693,\n",
       "        0.30541433, 0.44463639, 0.53679002, 0.22900179, 0.11482945,\n",
       "        0.73963798, 0.34208779, 0.53760413, 0.75884115, 0.56884783],\n",
       "       [0.18513526, 0.57370682, 0.55863693, 0.3797808 , 0.07479097,\n",
       "        0.23176772, 0.74382061, 0.70373988, 0.48541518, 0.25147811,\n",
       "        0.30750655, 0.32804948, 0.51200384, 0.87896594, 0.62125602,\n",
       "        0.28615601, 0.47590926, 0.69918485, 0.32272412, 0.26783597,\n",
       "        0.57856827, 0.50156629, 0.58364852, 0.25455177, 0.71095969,\n",
       "        0.21283653, 0.62665627, 0.18383411, 0.09343985, 0.60786124,\n",
       "        0.10834489, 0.2026174 , 0.3506227 , 0.17477174, 0.        ,\n",
       "        0.49491113, 0.77399274, 0.76985131, 0.346344  , 0.46323516,\n",
       "        1.01296864, 0.45199736, 0.63666837, 0.58394754, 0.71483247,\n",
       "        0.70199591, 0.22606791, 0.18166833, 0.50798241, 0.53317284,\n",
       "        0.76402746, 0.6968861 , 0.16710259, 0.68801262, 0.77150979,\n",
       "        0.17298117, 0.51754706, 0.25944078, 0.23594919, 0.61652463,\n",
       "        0.34806885, 0.9668384 , 1.00020524, 0.17902274, 0.73419054,\n",
       "        0.38488739, 0.64077589, 0.35280108, 0.75346218, 0.36883323,\n",
       "        0.20788882, 0.63433597, 0.64975918, 0.70735239, 0.32451451,\n",
       "        0.34889273, 0.34926276, 0.47455788, 0.28142471, 0.88539054,\n",
       "        0.98287562, 0.6179045 , 0.79071845, 0.78562784, 0.52610719,\n",
       "        0.59214595, 0.10956288, 0.03398522, 0.74746487, 0.0498853 ,\n",
       "        0.47966385, 0.33051744, 0.38555728, 0.3987688 , 0.06397785,\n",
       "        0.60828505, 0.19909025, 0.39472394, 0.84497127, 0.73328466],\n",
       "       [0.49164165, 0.26381538, 0.20438175, 0.69688501, 0.56491879,\n",
       "        0.32718578, 0.796885  , 0.63183526, 0.09963011, 0.29315058,\n",
       "        0.19018116, 0.34915575, 0.79404149, 0.68524409, 0.29271185,\n",
       "        0.61799637, 0.04065053, 1.05513847, 0.78005883, 0.52024883,\n",
       "        0.59741622, 0.0442137 , 0.75300366, 0.36099664, 0.40044713,\n",
       "        0.70767542, 0.77129925, 0.40297151, 0.41242837, 0.5323692 ,\n",
       "        0.47895628, 0.57570234, 0.41246186, 0.3251696 , 0.49491113,\n",
       "        0.        , 0.56936179, 0.43406053, 0.47117193, 0.65429047,\n",
       "        0.91056993, 0.07096509, 0.78487717, 0.17125813, 0.36766997,\n",
       "        0.86033388, 0.4601312 , 0.65858124, 0.37400747, 0.11619607,\n",
       "        0.52037676, 1.06668611, 0.36203277, 0.5084661 , 0.73879829,\n",
       "        0.5078959 , 0.23702913, 0.40512742, 0.43311371, 0.47898721,\n",
       "        0.67931267, 0.90329714, 0.8948228 , 0.36729083, 0.48020116,\n",
       "        0.42079458, 0.72318441, 0.56460271, 0.3881341 , 0.59033531,\n",
       "        0.64691918, 0.29008855, 0.87415695, 0.89834129, 0.242732  ,\n",
       "        0.5874033 , 0.47907924, 0.07044435, 0.5718038 , 0.74437727,\n",
       "        0.85154846, 0.86715196, 0.81903756, 0.31794249, 0.09411461,\n",
       "        0.85113666, 0.59932371, 0.49059315, 0.62881361, 0.48912196,\n",
       "        0.1251748 , 0.67861695, 0.80807772, 0.09632698, 0.43917007,\n",
       "        0.96845646, 0.62179601, 0.79729988, 0.59819423, 0.24718721],\n",
       "       [0.6224801 , 0.30554831, 0.36581761, 0.65443637, 0.80342582,\n",
       "        0.55183935, 0.39294077, 0.18624227, 0.66812423, 0.74516573,\n",
       "        0.58544978, 0.44649845, 0.65383275, 0.11765371, 0.28240157,\n",
       "        1.02887934, 0.60588619, 0.9087401 , 0.87425674, 0.96016161,\n",
       "        0.30221042, 0.52521768, 0.50663093, 0.82261922, 0.19450445,\n",
       "        0.92750679, 0.48531508, 0.81861244, 0.68818159, 0.20025748,\n",
       "        0.83726208, 0.95537766, 0.42955195, 0.69842795, 0.77399274,\n",
       "        0.56936179, 0.        , 0.21084296, 0.45760346, 0.50476694,\n",
       "        0.34969909, 0.52028052, 0.49514762, 0.41280078, 0.24745821,\n",
       "        0.54424891, 0.56795942, 0.94897369, 0.26875774, 0.45534922,\n",
       "        0.06526209, 0.93661307, 0.75786558, 0.08604656, 0.26915129,\n",
       "        0.64444849, 0.33997574, 0.8661377 , 0.54773404, 0.15992585,\n",
       "        0.66415375, 0.36186438, 0.33385488, 0.77587838, 0.09866611,\n",
       "        0.39683267, 0.39556229, 0.52237131, 0.26403663, 0.53187886,\n",
       "        0.77310293, 0.29138652, 0.62754855, 0.6030854 , 0.74206559,\n",
       "        0.54945047, 0.45913871, 0.6368334 , 1.00062753, 0.18146976,\n",
       "        0.28505676, 0.65267906, 0.37852088, 0.47458953, 0.47740623,\n",
       "        0.65542197, 0.82343666, 0.79537444, 0.12536535, 0.80548617,\n",
       "        0.69257348, 0.68244033, 0.83749785, 0.58767143, 0.7597249 ,\n",
       "        0.85324144, 0.74386461, 0.80346275, 0.08425225, 0.52980588],\n",
       "       [0.65661802, 0.20222754, 0.24177137, 0.75420726, 0.81640518,\n",
       "        0.53824492, 0.58729553, 0.37590078, 0.53232708, 0.67283583,\n",
       "        0.51448012, 0.45657749, 0.78613817, 0.29773486, 0.15634355,\n",
       "        0.98684957, 0.47433066, 1.05503827, 0.94273785, 0.90337455,\n",
       "        0.44996634, 0.3916635 , 0.66211874, 0.75085937, 0.06178334,\n",
       "        0.95481819, 0.65170041, 0.76566099, 0.67703481, 0.33801172,\n",
       "        0.80792287, 0.92360879, 0.47036138, 0.65224935, 0.76985131,\n",
       "        0.43406053, 0.21084296, 0.        , 0.51908048, 0.62690955,\n",
       "        0.5477817 , 0.40599196, 0.66339114, 0.26288857, 0.06656542,\n",
       "        0.72300712, 0.60266451, 0.95146129, 0.29363012, 0.31972103,\n",
       "        0.14565153, 1.07912705, 0.70855588, 0.21803047, 0.47315574,\n",
       "        0.67927526, 0.25737588, 0.79659067, 0.57627537, 0.26463905,\n",
       "        0.75535803, 0.56955161, 0.53229902, 0.72296134, 0.12111453,\n",
       "        0.44602999, 0.56782064, 0.60713448, 0.05757966, 0.62408596,\n",
       "        0.82398114, 0.1503108 , 0.79093945, 0.77895154, 0.6496942 ,\n",
       "        0.63640474, 0.52361689, 0.50449518, 0.94999542, 0.38394618,\n",
       "        0.47783084, 0.80795475, 0.58073201, 0.26689609, 0.34096611,\n",
       "        0.80520556, 0.84305339, 0.78338942, 0.32830308, 0.78992051,\n",
       "        0.55840291, 0.76866174, 0.92579107, 0.4826634 , 0.73903616,\n",
       "        0.98832559, 0.79388118, 0.8975313 , 0.1907378 , 0.33175083],\n",
       "       [0.17084287, 0.36890935, 0.3925159 , 0.24740468, 0.3575743 ,\n",
       "        0.19372236, 0.4110073 , 0.35965709, 0.52899127, 0.43553363,\n",
       "        0.33163533, 0.12207254, 0.32468842, 0.55029549, 0.40739395,\n",
       "        0.62820939, 0.48123972, 0.59276611, 0.42565765, 0.5868153 ,\n",
       "        0.23262212, 0.44675582, 0.29644349, 0.49492491, 0.45755264,\n",
       "        0.47169706, 0.32642087, 0.45695931, 0.28125222, 0.2707138 ,\n",
       "        0.43556014, 0.54637254, 0.06151495, 0.34957808, 0.346344  ,\n",
       "        0.47117193, 0.45760346, 0.51908048, 0.        , 0.1854278 ,\n",
       "        0.66680924, 0.40092428, 0.33915168, 0.44662099, 0.48359241,\n",
       "        0.41407024, 0.12089174, 0.50549526, 0.22546311, 0.42721229,\n",
       "        0.4649513 , 0.60845775, 0.40086514, 0.37366873, 0.42553412,\n",
       "        0.1912093 , 0.326934  , 0.5267883 , 0.11246841, 0.29847926,\n",
       "        0.24151478, 0.62092608, 0.65420164, 0.42180337, 0.44489314,\n",
       "        0.07390409, 0.31197984, 0.09930029, 0.52542979, 0.12330096,\n",
       "        0.31608216, 0.42598798, 0.40743479, 0.44119997, 0.47576625,\n",
       "        0.12698126, 0.00792367, 0.50095369, 0.61413974, 0.54478699,\n",
       "        0.63883717, 0.39680928, 0.45341656, 0.64311684, 0.43557083,\n",
       "        0.38007148, 0.37254652, 0.37503504, 0.40874234, 0.38862701,\n",
       "        0.54077213, 0.25180317, 0.40768262, 0.40892527, 0.35536119,\n",
       "        0.51080473, 0.2865697 , 0.38171671, 0.53726629, 0.63018564],\n",
       "       [0.28099545, 0.51759145, 0.55334388, 0.16043515, 0.44564674,\n",
       "        0.37175465, 0.29492182, 0.34749941, 0.71438046, 0.60684528,\n",
       "        0.5158653 , 0.30655572, 0.16018394, 0.56654667, 0.54772061,\n",
       "        0.74796129, 0.66594837, 0.43287782, 0.40162738, 0.72606608,\n",
       "        0.20588744, 0.62753117, 0.12189557, 0.65807601, 0.56928073,\n",
       "        0.5169787 , 0.16342122, 0.60955955, 0.42538831, 0.30606233,\n",
       "        0.56694306, 0.66405029, 0.24189476, 0.51515873, 0.46323516,\n",
       "        0.65429047, 0.50476694, 0.62690955, 0.1854278 , 0.        ,\n",
       "        0.60983827, 0.58357142, 0.173605  , 0.6118499 , 0.60716282,\n",
       "        0.24227403, 0.25833107, 0.5843319 , 0.35291248, 0.60093288,\n",
       "        0.53456994, 0.45438639, 0.55940834, 0.43511308, 0.36459416,\n",
       "        0.29038048, 0.48608365, 0.68431332, 0.2686261 , 0.36799975,\n",
       "        0.18087016, 0.54723126, 0.60039465, 0.57999879, 0.52749796,\n",
       "        0.23628229, 0.19362087, 0.11472429, 0.64737233, 0.09478097,\n",
       "        0.3427635 , 0.5670933 , 0.22204783, 0.26007912, 0.6538694 ,\n",
       "        0.11436743, 0.17756524, 0.68617745, 0.74436072, 0.52930954,\n",
       "        0.6019899 , 0.21306738, 0.34681885, 0.796155  , 0.61169835,\n",
       "        0.19891269, 0.44654297, 0.49638494, 0.41341828, 0.51187972,\n",
       "        0.72617212, 0.20431866, 0.34422778, 0.59433067, 0.49234441,\n",
       "        0.36167814, 0.32148611, 0.30652697, 0.58901109, 0.79530537],\n",
       "       [0.83486393, 0.64896324, 0.71038482, 0.76801679, 1.02101254,\n",
       "        0.82169899, 0.33635365, 0.31270717, 1.00741422, 1.04635038,\n",
       "        0.89479894, 0.71115133, 0.70463293, 0.25061119, 0.63065376,\n",
       "        1.2915664 , 0.94491416, 0.89109737, 1.01082308, 1.23936102,\n",
       "        0.43657603, 0.86695193, 0.53772708, 1.11985337, 0.54286777,\n",
       "        1.11771932, 0.49330697, 1.10090593, 0.94162023, 0.41700818,\n",
       "        1.09717381, 1.21121437, 0.66832717, 0.98224595, 1.01296864,\n",
       "        0.91056993, 0.34969909, 0.5477817 , 0.66680924, 0.60983827,\n",
       "        0.        , 0.85536551, 0.49441593, 0.76072525, 0.59433165,\n",
       "        0.49446033, 0.7876139 , 1.16817657, 0.56353689, 0.79953699,\n",
       "        0.41053451, 0.92531455, 1.04047396, 0.40212907, 0.24735447,\n",
       "        0.85307771, 0.67480834, 1.15983586, 0.77738449, 0.44233425,\n",
       "        0.79060076, 0.08035526, 0.01586672, 1.06043771, 0.44777762,\n",
       "        0.63469   , 0.42140093, 0.68563238, 0.60464574, 0.68173263,\n",
       "        0.94571552, 0.64062378, 0.60639633, 0.5484419 , 1.05697126,\n",
       "        0.70362697, 0.66431114, 0.97544149, 1.27264006, 0.16836245,\n",
       "        0.07283392, 0.64881714, 0.28455151, 0.8144967 , 0.82121231,\n",
       "        0.66519088, 1.03147544, 1.04085512, 0.2879151 , 1.05388541,\n",
       "        1.03074564, 0.81415672, 0.94576319, 0.91587421, 1.0165148 ,\n",
       "        0.86824731, 0.92091424, 0.90570593, 0.35967975, 0.87654287],\n",
       "       [0.43015221, 0.21815678, 0.1652498 , 0.62963241, 0.51872041,\n",
       "        0.26558241, 0.72896464, 0.56938161, 0.15396767, 0.2797062 ,\n",
       "        0.14513178, 0.27906506, 0.72443833, 0.63748694, 0.25474045,\n",
       "        0.60532243, 0.09280074, 0.98704138, 0.72343839, 0.51259815,\n",
       "        0.52873864, 0.05183131, 0.68205979, 0.35451727, 0.36462664,\n",
       "        0.66319126, 0.70059745, 0.38449919, 0.36460437, 0.46787362,\n",
       "        0.4501175 , 0.55483506, 0.34184   , 0.29079084, 0.45199736,\n",
       "        0.07096509, 0.52028052, 0.40599196, 0.40092428, 0.58357142,\n",
       "        0.85536551, 0.        , 0.71416875, 0.15365573, 0.33973944,\n",
       "        0.78969169, 0.39543156, 0.62317978, 0.30855502, 0.09346908,\n",
       "        0.47596797, 0.99928106, 0.33605002, 0.45391033, 0.67517578,\n",
       "        0.44758953, 0.1811517 , 0.40019494, 0.36772759, 0.41839763,\n",
       "        0.61308356, 0.84427026, 0.83973817, 0.34503552, 0.43615606,\n",
       "        0.3498335 , 0.65356301, 0.49519595, 0.36648661, 0.5208391 ,\n",
       "        0.59022905, 0.25646734, 0.80324645, 0.82743378, 0.24532375,\n",
       "        0.51853082, 0.40881791, 0.12165583, 0.56250032, 0.69099332,\n",
       "        0.79873054, 0.79650722, 0.75254139, 0.33765423, 0.07875683,\n",
       "        0.7807005 , 0.55234349, 0.4518492 , 0.57062207, 0.4524079 ,\n",
       "        0.17589924, 0.61340491, 0.74677621, 0.07756558, 0.40082266,\n",
       "        0.90100141, 0.56401651, 0.73426048, 0.55667055, 0.28135761],\n",
       "       [0.45452187, 0.60358038, 0.65083453, 0.29937546, 0.61643971,\n",
       "        0.53254844, 0.15809283, 0.31065777, 0.85575116, 0.77269777,\n",
       "        0.66803856, 0.45082443, 0.21150044, 0.52111316, 0.62278991,\n",
       "        0.92085212, 0.80234946, 0.4211325 , 0.53682127, 0.89957657,\n",
       "        0.21639724, 0.75262414, 0.05472431, 0.82754775, 0.61394734,\n",
       "        0.67597244, 0.01359882, 0.78148722, 0.59777564, 0.3260452 ,\n",
       "        0.74054263, 0.8369566 , 0.38484045, 0.6832778 , 0.63666837,\n",
       "        0.78487717, 0.49514762, 0.66339114, 0.33915168, 0.173605  ,\n",
       "        0.49441593, 0.71416875, 0.        , 0.71222011, 0.66085194,\n",
       "        0.07592746, 0.42931564, 0.75139795, 0.43729038, 0.71386233,\n",
       "        0.54243452, 0.45199732, 0.72989688, 0.44858523, 0.27358212,\n",
       "        0.4639222 , 0.58561826, 0.85543394, 0.43656155, 0.40116876,\n",
       "        0.32849579, 0.42150733, 0.48828941, 0.75065166, 0.5482798 ,\n",
       "        0.3678033 , 0.09971009, 0.28713099, 0.69682761, 0.26836254,\n",
       "        0.50314386, 0.64166706, 0.13279155, 0.11893905, 0.81491014,\n",
       "        0.28780203, 0.33201613, 0.82570493, 0.91790207, 0.45806764,\n",
       "        0.50470623, 0.16403906, 0.21080653, 0.87420276, 0.72822822,\n",
       "        0.17472051, 0.61487669, 0.66990405, 0.37802984, 0.68542848,\n",
       "        0.87037601, 0.35299639, 0.46105295, 0.73727303, 0.66565961,\n",
       "        0.38106219, 0.48536107, 0.42021747, 0.57467703, 0.88966728],\n",
       "       [0.52497857, 0.11833425, 0.06165759, 0.69229672, 0.64473659,\n",
       "        0.36996879, 0.69316601, 0.50557651, 0.26952352, 0.43288063,\n",
       "        0.28788778, 0.33740875, 0.76616791, 0.52536803, 0.13039952,\n",
       "        0.75753619, 0.21167824, 1.03777586, 0.82497579, 0.66595817,\n",
       "        0.50477453, 0.12963647, 0.69055683, 0.50814369, 0.23248545,\n",
       "        0.78959308, 0.69878287, 0.53581744, 0.49210435, 0.41780441,\n",
       "        0.59559485, 0.70414365, 0.38538579, 0.43506441, 0.58394754,\n",
       "        0.17125813, 0.41280078, 0.26288857, 0.44662099, 0.6118499 ,\n",
       "        0.76072525, 0.15365573, 0.71222011, 0.        , 0.19662824,\n",
       "        0.78455933, 0.47995764, 0.76129797, 0.27538745, 0.0605054 ,\n",
       "        0.35839182, 1.05462982, 0.48466618, 0.36353658, 0.61452132,\n",
       "        0.54544882, 0.12714425, 0.55384185, 0.45081812, 0.35184349,\n",
       "        0.682059  , 0.76215563, 0.74486249, 0.49526699, 0.3184811 ,\n",
       "        0.37931258, 0.63537207, 0.54591867, 0.21742593, 0.56961213,\n",
       "        0.69402402, 0.12322607, 0.81925645, 0.83044098, 0.39790818,\n",
       "        0.57316445, 0.45381437, 0.24165723, 0.71554691, 0.59258659,\n",
       "        0.69777855, 0.82135931, 0.7063775 , 0.20659727, 0.07961454,\n",
       "        0.81003767, 0.67651854, 0.58869665, 0.48946614, 0.59133133,\n",
       "        0.29555758, 0.68749385, 0.83386928, 0.23078276, 0.53906113,\n",
       "        0.95724388, 0.66555597, 0.81513474, 0.43245883, 0.18395334],\n",
       "       [0.61106413, 0.14193093, 0.17620041, 0.72499108, 0.76434391,\n",
       "        0.48420771, 0.59983426, 0.39129033, 0.46614836, 0.6085499 ,\n",
       "        0.45131741, 0.40975891, 0.76732308, 0.34751928, 0.09450093,\n",
       "        0.92481493, 0.40788014, 1.03902655, 0.90255925, 0.83988185,\n",
       "        0.44466178, 0.32515088, 0.65409341, 0.68634352, 0.05413743,\n",
       "        0.90474073, 0.64851804, 0.70309194, 0.62157233, 0.33577511,\n",
       "        0.74836954, 0.86315221, 0.43085899, 0.59123478, 0.71483247,\n",
       "        0.36766997, 0.24745821, 0.06656542, 0.48359241, 0.60716282,\n",
       "        0.59433165, 0.33973944, 0.66085194, 0.19662824, 0.        ,\n",
       "        0.7247081 , 0.55817646, 0.89646466, 0.26042177, 0.25316086,\n",
       "        0.18404811, 1.06146629, 0.64673968, 0.23130914, 0.49474166,\n",
       "        0.63354556, 0.19813047, 0.73213937, 0.53081642, 0.2601834 ,\n",
       "        0.72353268, 0.60927221, 0.57861075, 0.66060321, 0.14923994,\n",
       "        0.40972368, 0.56892443, 0.57600521, 0.04186163, 0.5948072 ,\n",
       "        0.78038557, 0.08544942, 0.78446689, 0.77852194, 0.58389102,\n",
       "        0.60530292, 0.48882858, 0.43811332, 0.88704688, 0.42739841,\n",
       "        0.52640981, 0.79778031, 0.59913022, 0.23050084, 0.27443989,\n",
       "        0.79280852, 0.79214767, 0.72684259, 0.35307747, 0.73270552,\n",
       "        0.49218526, 0.73519282, 0.89122998, 0.41660977, 0.68132336,\n",
       "        0.96849474, 0.7503884 , 0.86492622, 0.24527977, 0.28255393],\n",
       "       [0.52233517, 0.67426769, 0.72301799, 0.3481456 , 0.67718991,\n",
       "        0.60705698, 0.16894106, 0.35800796, 0.93164467, 0.84626822,\n",
       "        0.74368426, 0.52665608, 0.23901482, 0.55639081, 0.69143042,\n",
       "        0.98412045, 0.87810503, 0.39861337, 0.57553482, 0.96700218,\n",
       "        0.28342015, 0.82771346, 0.12052788, 0.89967244, 0.6761863 ,\n",
       "        0.72645757, 0.08935668, 0.85183357, 0.66763859, 0.38894445,\n",
       "        0.80733176, 0.90038807, 0.46062812, 0.75597607, 0.70199591,\n",
       "        0.86033388, 0.54424891, 0.72300712, 0.41407024, 0.24227403,\n",
       "        0.49446033, 0.78969169, 0.07592746, 0.78455933, 0.7247081 ,\n",
       "        0.        , 0.50032728, 0.80771672, 0.50921534, 0.78782664,\n",
       "        0.59591118, 0.4320968 , 0.80138853, 0.50581609, 0.29999581,\n",
       "        0.53021537, 0.65840997, 0.92649892, 0.50905617, 0.46454954,\n",
       "        0.37933017, 0.41695269, 0.4906587 , 0.82203945, 0.60534253,\n",
       "        0.44372569, 0.15580109, 0.35696735, 0.75935149, 0.33647527,\n",
       "        0.5563489 , 0.71006824, 0.11265911, 0.0599599 , 0.88964319,\n",
       "        0.35461731, 0.40682124, 0.90156092, 0.98340193, 0.48394768,\n",
       "        0.51547621, 0.15756553, 0.21327297, 0.9419682 , 0.80255456,\n",
       "        0.1782453 , 0.67307329, 0.73557711, 0.42227755, 0.75126338,\n",
       "        0.94630221, 0.40332242, 0.49306586, 0.81319902, 0.73394736,\n",
       "        0.37474585, 0.54112108, 0.45237162, 0.62036896, 0.96044986],\n",
       "       [0.05506412, 0.42789623, 0.43539874, 0.24128966, 0.23819531,\n",
       "        0.1358733 , 0.52203377, 0.48026913, 0.49663541, 0.35146775,\n",
       "        0.28770581, 0.14938196, 0.35570283, 0.66591092, 0.47210658,\n",
       "        0.50993158, 0.45987111, 0.60035712, 0.3478998 , 0.47475334,\n",
       "        0.35253253, 0.44624716, 0.37979947, 0.39983715, 0.54105419,\n",
       "        0.36038155, 0.41788283, 0.35223762, 0.16937221, 0.38863575,\n",
       "        0.31942647, 0.42735554, 0.13903443, 0.25796474, 0.22606791,\n",
       "        0.4601312 , 0.56795942, 0.60266451, 0.12089174, 0.25833107,\n",
       "        0.7876139 , 0.39543156, 0.42931564, 0.47995764, 0.55817646,\n",
       "        0.50032728, 0.        , 0.38590618, 0.31541357, 0.44630717,\n",
       "        0.56814338, 0.60933166, 0.30109152, 0.48245418, 0.54545572,\n",
       "        0.07764283, 0.37695958, 0.42623966, 0.02914052, 0.40806216,\n",
       "        0.22045471, 0.74077233, 0.77505709, 0.32171605, 0.54367331,\n",
       "        0.17112906, 0.42006107, 0.14375929, 0.59961278, 0.16642517,\n",
       "        0.22224631, 0.48896193, 0.47009285, 0.51671217, 0.4043696 ,\n",
       "        0.1525777 , 0.1233551 , 0.47310658, 0.49864657, 0.66454444,\n",
       "        0.75953468, 0.44851387, 0.56726811, 0.68538464, 0.44879659,\n",
       "        0.42661282, 0.25577035, 0.25569175, 0.52769818, 0.26979519,\n",
       "        0.50291507, 0.21851315, 0.35492765, 0.38003702, 0.24065453,\n",
       "        0.51157238, 0.19231058, 0.33951456, 0.64463163, 0.65674401],\n",
       "       [0.33479428, 0.75522972, 0.738734  , 0.46169265, 0.1479213 ,\n",
       "        0.41325656, 0.87737133, 0.86489379, 0.63290737, 0.38258136,\n",
       "        0.47817869, 0.50583498, 0.58822743, 1.05058553, 0.80279963,\n",
       "        0.2154854 , 0.63442867, 0.71222267, 0.29804912, 0.26741385,\n",
       "        0.73164602, 0.67069008, 0.69671054, 0.34989593, 0.89242154,\n",
       "        0.11198825, 0.74345904, 0.27955393, 0.2749099 , 0.7745158 ,\n",
       "        0.18548093, 0.15425901, 0.52068373, 0.33379107, 0.18166833,\n",
       "        0.65858124, 0.94897369, 0.95146129, 0.50549526, 0.5843319 ,\n",
       "        1.16817657, 0.62317978, 0.75139795, 0.76129797, 0.89646466,\n",
       "        0.80771672, 0.38590618, 0.        , 0.68577324, 0.70839753,\n",
       "        0.94220851, 0.70086497, 0.30067785, 0.86294595, 0.92250458,\n",
       "        0.31549309, 0.69903085, 0.33009117, 0.40259821, 0.78999824,\n",
       "        0.42955142, 1.11612477, 1.15627686, 0.30137368, 0.91344288,\n",
       "        0.55440483, 0.77424236, 0.48673854, 0.93498679, 0.49601593,\n",
       "        0.25289585, 0.81570679, 0.7354504 , 0.80098182, 0.45404618,\n",
       "        0.47411982, 0.50679368, 0.62784563, 0.24544266, 1.05021133,\n",
       "        1.14370996, 0.69623131, 0.92756897, 0.95995758, 0.69960187,\n",
       "        0.66893929, 0.13826231, 0.17260489, 0.91359126, 0.17078718,\n",
       "        0.6222119 , 0.40637892, 0.3879178 , 0.56263904, 0.22269216,\n",
       "        0.62726488, 0.26662445, 0.41391136, 1.0221289 , 0.90255254],\n",
       "       [0.37036159, 0.16775887, 0.213809  , 0.46456958, 0.54289452,\n",
       "        0.2831376 , 0.42498915, 0.26322226, 0.46206494, 0.48596445,\n",
       "        0.33144151, 0.18006609, 0.5125179 , 0.3803414 , 0.19482399,\n",
       "        0.76028679, 0.40134941, 0.78568932, 0.64970149, 0.69357841,\n",
       "        0.23039011, 0.3348907 , 0.41828088, 0.56165954, 0.23209228,\n",
       "        0.67436041, 0.42392147, 0.55221418, 0.42035611, 0.15953497,\n",
       "        0.56851254, 0.6866413 , 0.17862864, 0.43180431, 0.50798241,\n",
       "        0.37400747, 0.26875774, 0.29363012, 0.22546311, 0.35291248,\n",
       "        0.56353689, 0.30855502, 0.43729038, 0.27538745, 0.26042177,\n",
       "        0.50921534, 0.31541357, 0.68577324, 0.        , 0.28371509,\n",
       "        0.25643724, 0.80637293, 0.49126102, 0.18417987, 0.36713603,\n",
       "        0.39302112, 0.15019087, 0.60375059, 0.29126086, 0.12251457,\n",
       "        0.46350184, 0.5428733 , 0.5484819 , 0.50986588, 0.22902991,\n",
       "        0.15252599, 0.36057497, 0.31569365, 0.30199791, 0.33440381,\n",
       "        0.53369575, 0.21420295, 0.54839141, 0.55584817, 0.49343869,\n",
       "        0.345007  , 0.23010242, 0.42982817, 0.73287807, 0.4087012 ,\n",
       "        0.51528829, 0.55461687, 0.4451295 , 0.44471601, 0.30098768,\n",
       "        0.5460988 , 0.56584081, 0.52798141, 0.27578185, 0.53762572,\n",
       "        0.48260679, 0.47585729, 0.63263023, 0.35816876, 0.49121303,\n",
       "        0.71179128, 0.50362219, 0.60526609, 0.33700479, 0.45283044],\n",
       "       [0.48788605, 0.15060375, 0.08954321, 0.66854393, 0.59642443,\n",
       "        0.32774776, 0.70816997, 0.53066315, 0.21580164, 0.37309866,\n",
       "        0.23180514, 0.31111349, 0.75092766, 0.5704313 , 0.17662951,\n",
       "        0.69837286, 0.15552689, 1.01993454, 0.78667627, 0.606053  ,\n",
       "        0.51360923, 0.07248946, 0.68794663, 0.44795657, 0.28431954,\n",
       "        0.74144735, 0.70029553, 0.47706904, 0.44267453, 0.43628909,\n",
       "        0.53946741, 0.64641785, 0.3657628 , 0.37914443, 0.53317284,\n",
       "        0.11619607, 0.45534922, 0.31972103, 0.42721229, 0.60093288,\n",
       "        0.79953699, 0.09346908, 0.71386233, 0.0605054 , 0.25316086,\n",
       "        0.78782664, 0.44630717, 0.70839753, 0.28371509, 0.        ,\n",
       "        0.40484249, 1.03501508, 0.42709463, 0.39835885, 0.6390809 ,\n",
       "        0.507368  , 0.13529531, 0.49360593, 0.41737883, 0.37629591,\n",
       "        0.65581324, 0.79598228, 0.78372418, 0.4370023 , 0.3646605 ,\n",
       "        0.36499002, 0.64299287, 0.52573139, 0.27657297, 0.55038784,\n",
       "        0.65443715, 0.17398897, 0.81433861, 0.83069271, 0.33740847,\n",
       "        0.5517116 , 0.43477649, 0.18623827, 0.65587426, 0.63234878,\n",
       "        0.73892812, 0.81297535, 0.72559647, 0.25249776, 0.02221042,\n",
       "        0.79984556, 0.62900608, 0.53603027, 0.52158104, 0.53785247,\n",
       "        0.24135575, 0.65930501, 0.801227  , 0.17033128, 0.48573635,\n",
       "        0.93702788, 0.62672243, 0.7848526 , 0.48210022, 0.21066496],\n",
       "       [0.62318132, 0.25812028, 0.31600257, 0.67762034, 0.79903697,\n",
       "        0.536432  , 0.4504451 , 0.23999363, 0.61983625, 0.71465708,\n",
       "        0.55367075, 0.43643113, 0.68857393, 0.16720684, 0.22885647,\n",
       "        1.00893059, 0.55817951, 0.94954227, 0.88826394, 0.93551514,\n",
       "        0.33899215, 0.47617859, 0.54902876, 0.79283555, 0.13241965,\n",
       "        0.92843877, 0.53181028, 0.79426287, 0.67527583, 0.22934773,\n",
       "        0.8200674 , 0.9381551 , 0.42920537, 0.67508106, 0.76402746,\n",
       "        0.52037676, 0.06526209, 0.14565153, 0.4649513 , 0.53456994,\n",
       "        0.41053451, 0.47596797, 0.54243452, 0.35839182, 0.18404811,\n",
       "        0.59591118, 0.56814338, 0.94220851, 0.25643724, 0.40484249,\n",
       "        0.        , 0.9761545 , 0.73412817, 0.09947534, 0.33066037,\n",
       "        0.64562352, 0.29922251, 0.83726238, 0.54560428, 0.17037941,\n",
       "        0.68444079, 0.42624102, 0.39477567, 0.75122574, 0.04018343,\n",
       "        0.39850796, 0.44377838, 0.53891517, 0.19890452, 0.55117392,\n",
       "        0.78067483, 0.23540261, 0.673628  , 0.65383187, 0.70589454,\n",
       "        0.5671118 , 0.46755815, 0.58919082, 0.97799128, 0.24335031,\n",
       "        0.34351563, 0.69583118, 0.43944701, 0.409638  , 0.42704678,\n",
       "        0.69655438, 0.8212887 , 0.78315744, 0.18554471, 0.79224781,\n",
       "        0.64486682, 0.70116056, 0.8579358 , 0.54663303, 0.74456318,\n",
       "        0.88990374, 0.75093195, 0.82567586, 0.08396023, 0.46658699],\n",
       "       [0.58926829, 0.96842369, 0.99896824, 0.36980161, 0.63450251,\n",
       "        0.74515724, 0.59884304, 0.75762737, 1.1056433 , 0.92793339,\n",
       "        0.896482  , 0.72473013, 0.29420679, 0.97247519, 1.00080981,\n",
       "        0.91514938, 1.06877434, 0.0357272 , 0.40285333, 0.9446533 ,\n",
       "        0.63716451, 1.04827716, 0.43068414, 0.94902554, 1.02261972,\n",
       "        0.590293  , 0.45889311, 0.88043892, 0.72029115, 0.7478546 ,\n",
       "        0.798711  , 0.84317041, 0.6699483 , 0.83379535, 0.6968861 ,\n",
       "        1.06668611, 0.93661307, 1.07912705, 0.60845775, 0.45438639,\n",
       "        0.92531455, 0.99928106, 0.45199732, 1.05462982, 1.06146629,\n",
       "        0.4320968 , 0.60933166, 0.70086497, 0.80637293, 1.03501508,\n",
       "        0.9761545 , 0.        , 0.85336693, 0.87762779, 0.7243654 ,\n",
       "        0.57963438, 0.93227108, 0.95630043, 0.63481866, 0.81641867,\n",
       "        0.38891496, 0.84664668, 0.92215089, 0.86957372, 0.97434381,\n",
       "        0.67579358, 0.54907739, 0.50942416, 1.10150223, 0.48519104,\n",
       "        0.48943707, 1.02013023, 0.32340589, 0.37687462, 0.99343263,\n",
       "        0.48335152, 0.6010987 , 1.08243707, 0.93759224, 0.90940189,\n",
       "        0.94743383, 0.28805066, 0.64530285, 1.24661489, 1.04220285,\n",
       "        0.28164383, 0.60957235, 0.72734943, 0.826099  , 0.7418125 ,\n",
       "        1.1108811 , 0.39352496, 0.31706073, 0.98933276, 0.75477656,\n",
       "        0.09828596, 0.49885223, 0.30224693, 1.01898539, 1.23843702],\n",
       "       [0.28727529, 0.5063284 , 0.47513724, 0.51307344, 0.24126874,\n",
       "        0.21934761, 0.81164698, 0.72806407, 0.3324327 , 0.08571521,\n",
       "        0.19767172, 0.32941622, 0.64128399, 0.87142438, 0.55273193,\n",
       "        0.27830955, 0.33522898, 0.85278527, 0.48945434, 0.20236601,\n",
       "        0.62441994, 0.3793551 , 0.68086308, 0.10017467, 0.65518821,\n",
       "        0.3678476 , 0.71821235, 0.06099111, 0.13911678, 0.62366121,\n",
       "        0.11720206, 0.21947982, 0.37842242, 0.05947353, 0.16710259,\n",
       "        0.36203277, 0.75786558, 0.70855588, 0.40086514, 0.55940834,\n",
       "        1.04047396, 0.33605002, 0.72989688, 0.48466618, 0.64673968,\n",
       "        0.80138853, 0.30109152, 0.30067785, 0.49126102, 0.42709463,\n",
       "        0.73412817, 0.85336693, 0.        , 0.67494183, 0.81268394,\n",
       "        0.28735747, 0.45165154, 0.12606028, 0.29395899, 0.61179599,\n",
       "        0.48397859, 1.00562936, 1.0263581 , 0.02094104, 0.69905315,\n",
       "        0.40999276, 0.71272943, 0.44475228, 0.68097509, 0.46666475,\n",
       "        0.36952714, 0.56174897, 0.76728267, 0.81693543, 0.1593372 ,\n",
       "        0.45089886, 0.40655284, 0.32733379, 0.24395931, 0.89581565,\n",
       "        0.99993522, 0.74165053, 0.85266284, 0.67276108, 0.41467777,\n",
       "        0.7178157 , 0.27532869, 0.14744605, 0.75877129, 0.13991892,\n",
       "        0.32275208, 0.47088339, 0.5480173 , 0.26792096, 0.10331428,\n",
       "        0.76141516, 0.35553723, 0.55317639, 0.81793831, 0.60865723],\n",
       "       [0.53710851, 0.24829718, 0.30989738, 0.57925473, 0.71750051,\n",
       "        0.46676338, 0.37040524, 0.16019381, 0.60537139, 0.66558309,\n",
       "        0.50730004, 0.36070914, 0.58927602, 0.19653196, 0.23655014,\n",
       "        0.94439827, 0.5428646 , 0.85141116, 0.79359355, 0.87730735,\n",
       "        0.24077347, 0.46492511, 0.45212693, 0.74242451, 0.17818469,\n",
       "        0.84235058, 0.43742414, 0.73582912, 0.60251305, 0.13006907,\n",
       "        0.75224017, 0.87028374, 0.34382156, 0.61546835, 0.68801262,\n",
       "        0.5084661 , 0.08604656, 0.21803047, 0.37366873, 0.43511308,\n",
       "        0.40212907, 0.45391033, 0.44858523, 0.36353658, 0.23130914,\n",
       "        0.50581609, 0.48245418, 0.86294595, 0.18417987, 0.39835885,\n",
       "        0.09947534, 0.87762779, 0.67494183, 0.        , 0.26397986,\n",
       "        0.55918167, 0.27293912, 0.78536385, 0.46190823, 0.07519427,\n",
       "        0.58694779, 0.3986872 , 0.38640204, 0.69329255, 0.09973966,\n",
       "        0.31135135, 0.35138112, 0.4426791 , 0.2598483 , 0.45386658,\n",
       "        0.68965688, 0.24995547, 0.57843071, 0.56249657, 0.6663364 ,\n",
       "        0.47045318, 0.37557224, 0.57345991, 0.91699119, 0.2371498 ,\n",
       "        0.3449917 , 0.59893515, 0.36784204, 0.46101521, 0.41979545,\n",
       "        0.59879057, 0.737741  , 0.70956901, 0.12698605, 0.71979598,\n",
       "        0.62887091, 0.60424852, 0.76052255, 0.51710391, 0.67435739,\n",
       "        0.79079043, 0.66022396, 0.72768015, 0.16365293, 0.50315707],\n",
       "       [0.59072285, 0.49620447, 0.55589406, 0.52422415, 0.77589935,\n",
       "        0.59358489, 0.13318779, 0.10894494, 0.82897515, 0.82837365,\n",
       "        0.68645796, 0.48527254, 0.47380106, 0.2578803 , 0.49447326,\n",
       "        1.0535005 , 0.76784884, 0.69257641, 0.76621964, 1.00740846,\n",
       "        0.19295879, 0.69789231, 0.30683625, 0.89815683, 0.44103769,\n",
       "        0.87040615, 0.26858505, 0.87198867, 0.70480311, 0.20762972,\n",
       "        0.86009585, 0.97188908, 0.43485185, 0.75614732, 0.77150979,\n",
       "        0.73879829, 0.26915129, 0.47315574, 0.42553412, 0.36459416,\n",
       "        0.24735447, 0.67517578, 0.27358212, 0.61452132, 0.49474166,\n",
       "        0.29999581, 0.54545572, 0.92250458, 0.36713603, 0.6390809 ,\n",
       "        0.33066037, 0.7243654 , 0.81268394, 0.26397986, 0.        ,\n",
       "        0.60820015, 0.50463455, 0.93557153, 0.53759109, 0.26317501,\n",
       "        0.54541314, 0.19539199, 0.23683731, 0.83319808, 0.35239905,\n",
       "        0.40271079, 0.18437254, 0.43848078, 0.52068426, 0.43438315,\n",
       "        0.69838077, 0.50978863, 0.40146691, 0.3598095 , 0.84859128,\n",
       "        0.45627267, 0.42230148, 0.79669722, 1.03768704, 0.1851132 ,\n",
       "        0.23860366, 0.4371817 , 0.1095056 , 0.72488831, 0.65879032,\n",
       "        0.44813156, 0.78528854, 0.80055582, 0.14517255, 0.81415086,\n",
       "        0.84972652, 0.56862125, 0.70504673, 0.72437688, 0.77953209,\n",
       "        0.65448502, 0.67356912, 0.66569946, 0.33390754, 0.76562758],\n",
       "       [0.02270608, 0.50097364, 0.50439423, 0.22608811, 0.16794634,\n",
       "        0.1820647 , 0.5725848 , 0.54967269, 0.53193409, 0.35283225,\n",
       "        0.32440462, 0.22379627, 0.35407084, 0.7406444 , 0.54603444,\n",
       "        0.45863115, 0.50232255, 0.57496768, 0.27961577, 0.4368983 ,\n",
       "        0.41651023, 0.4992937 , 0.41121406, 0.38737329, 0.61777085,\n",
       "        0.28320338, 0.45378206, 0.32918851, 0.14828455, 0.4617835 ,\n",
       "        0.27711648, 0.37481402, 0.21642122, 0.25731774, 0.17298117,\n",
       "        0.5078959 , 0.64444849, 0.67927526, 0.1912093 , 0.29038048,\n",
       "        0.85307771, 0.44758953, 0.4639222 , 0.54544882, 0.63354556,\n",
       "        0.53021537, 0.07764283, 0.31549309, 0.39302112, 0.507368  ,\n",
       "        0.64562352, 0.57963438, 0.28735747, 0.55918167, 0.60820015,\n",
       "        0.        , 0.44860403, 0.4063073 , 0.10300287, 0.48452649,\n",
       "        0.19803455, 0.80266845, 0.84102991, 0.3064292 , 0.62131152,\n",
       "        0.24791099, 0.46926751, 0.18018834, 0.6747776 , 0.19586767,\n",
       "        0.14919186, 0.56241748, 0.48406908, 0.53835492, 0.41501645,\n",
       "        0.17613649, 0.19191189, 0.51162349, 0.45398416, 0.73569314,\n",
       "        0.82827718, 0.45587947, 0.6205125 , 0.75188894, 0.50756096,\n",
       "        0.43143162, 0.1813375 , 0.2060065 , 0.59994049, 0.22150657,\n",
       "        0.53471259, 0.18768118, 0.30027646, 0.42090911, 0.20556319,\n",
       "        0.48408215, 0.12019461, 0.2919877 , 0.72172273, 0.7178865 ],\n",
       "       [0.42677423, 0.0562706 , 0.06726147, 0.57425203, 0.56938753,\n",
       "        0.28838629, 0.57328311, 0.39662709, 0.33265318, 0.42083109,\n",
       "        0.2602261 , 0.22831924, 0.64187612, 0.4574974 , 0.10387224,\n",
       "        0.7299419 , 0.27017735, 0.91438139, 0.72485568, 0.64844496,\n",
       "        0.38056719, 0.19448891, 0.56342397, 0.49928778, 0.20377636,\n",
       "        0.71155639, 0.57214548, 0.50944472, 0.42415121, 0.30101623,\n",
       "        0.55076323, 0.66623912, 0.26693925, 0.39495978, 0.51754706,\n",
       "        0.23702913, 0.33997574, 0.25737588, 0.326934  , 0.48608365,\n",
       "        0.67480834, 0.1811517 , 0.58561826, 0.12714425, 0.19813047,\n",
       "        0.65840997, 0.37695958, 0.69903085, 0.15019087, 0.13529531,\n",
       "        0.29922251, 0.93227108, 0.45165154, 0.27293912, 0.50463455,\n",
       "        0.44860403, 0.        , 0.54457259, 0.34826042, 0.24274286,\n",
       "        0.56652692, 0.66626809, 0.65913144, 0.46655087, 0.26031726,\n",
       "        0.25666443, 0.51073995, 0.42582007, 0.23596903, 0.44857939,\n",
       "        0.59756586, 0.11700913, 0.69213985, 0.70363141, 0.40713937,\n",
       "        0.4539001 , 0.3337199 , 0.30063794, 0.69407709, 0.50991566,\n",
       "        0.61761092, 0.69465517, 0.59030123, 0.3161982 , 0.15428306,\n",
       "        0.68375745, 0.59835495, 0.52887386, 0.39180633, 0.53460247,\n",
       "        0.35596096, 0.57405467, 0.72497142, 0.24800858, 0.48319292,\n",
       "        0.83545516, 0.56806335, 0.70331411, 0.38190504, 0.30935944],\n",
       "       [0.40872845, 0.59629201, 0.55636748, 0.62952425, 0.32490059,\n",
       "        0.34222679, 0.93738101, 0.84828022, 0.34527632, 0.12386898,\n",
       "        0.28454255, 0.45062821, 0.75977929, 0.9816308 , 0.64047266,\n",
       "        0.2165115 , 0.36990738, 0.95851398, 0.57421528, 0.11544497,\n",
       "        0.74874366, 0.43356603, 0.80598117, 0.04585781, 0.74739338,\n",
       "        0.42318627, 0.84384732, 0.0775454 , 0.26026996, 0.74288448,\n",
       "        0.16243974, 0.19609435, 0.50258168, 0.17957285, 0.25944078,\n",
       "        0.40512742, 0.8661377 , 0.79659067, 0.5267883 , 0.68431332,\n",
       "        1.15983586, 0.40019494, 0.85543394, 0.55384185, 0.73213937,\n",
       "        0.92649892, 0.42623966, 0.33009117, 0.60375059, 0.49360593,\n",
       "        0.83726238, 0.95630043, 0.12606028, 0.78536385, 0.93557153,\n",
       "        0.4063073 , 0.54457259, 0.        , 0.41991627, 0.72579025,\n",
       "        0.59922477, 1.12745404, 1.14545828, 0.10513613, 0.80046524,\n",
       "        0.53340479, 0.83871402, 0.56958975, 0.76284915, 0.59096992,\n",
       "        0.46703682, 0.64676078, 0.88943597, 0.94073482, 0.16308075,\n",
       "        0.57453845, 0.53253687, 0.35204941, 0.16757315, 1.01150058,\n",
       "        1.11686943, 0.86217138, 0.97794654, 0.72303987, 0.47716422,\n",
       "        0.83771223, 0.35455132, 0.22937038, 0.87567895, 0.21557064,\n",
       "        0.32722589, 0.58411843, 0.64363573, 0.32361101, 0.20467224,\n",
       "        0.86751082, 0.45825183, 0.6540925 , 0.92118971, 0.64850089],\n",
       "       [0.0803712 , 0.39955698, 0.40637151, 0.26567504, 0.25590149,\n",
       "        0.1120134 , 0.52130971, 0.46779788, 0.47230212, 0.33825032,\n",
       "        0.26404343, 0.1213172 , 0.37579541, 0.64799021, 0.44405906,\n",
       "        0.51592917, 0.43395844, 0.6250157 , 0.37669224, 0.47509877,\n",
       "        0.34483139, 0.41831354, 0.38876005, 0.39099847, 0.51478394,\n",
       "        0.38316412, 0.42466641, 0.34784284, 0.16908678, 0.37306507,\n",
       "        0.32309173, 0.43440408, 0.11830056, 0.24692066, 0.23594919,\n",
       "        0.43311371, 0.54773404, 0.57627537, 0.11246841, 0.2686261 ,\n",
       "        0.77738449, 0.36772759, 0.43656155, 0.45081812, 0.53081642,\n",
       "        0.50905617, 0.02914052, 0.40259821, 0.29126086, 0.41737883,\n",
       "        0.54560428, 0.63481866, 0.29395899, 0.46190823, 0.53759109,\n",
       "        0.10300287, 0.34826042, 0.41991627, 0.        , 0.38813294,\n",
       "        0.24638951, 0.73295597, 0.76449523, 0.31482944, 0.52010412,\n",
       "        0.1518185 , 0.42061194, 0.15590401, 0.57214229, 0.1802967 ,\n",
       "        0.25007033, 0.4607558 , 0.48475831, 0.52848   , 0.38757483,\n",
       "        0.16915575, 0.11664119, 0.44806056, 0.50173146, 0.65017008,\n",
       "        0.74697537, 0.46540295, 0.56493231, 0.65625803, 0.42008461,\n",
       "        0.44439716, 0.27602033, 0.26349687, 0.51259932, 0.27674489,\n",
       "        0.4794474 , 0.24570293, 0.38391166, 0.35474039, 0.24293435,\n",
       "        0.53683519, 0.22027899, 0.36802503, 0.62316595, 0.62775172],\n",
       "       [0.46255525, 0.23354266, 0.29276686, 0.50757823, 0.64397845,\n",
       "        0.39927448, 0.34730916, 0.15444302, 0.57218411, 0.60844647,\n",
       "        0.45360842, 0.29097255, 0.52506785, 0.26303498, 0.2366548 ,\n",
       "        0.87750136, 0.51017183, 0.79153735, 0.71897508, 0.81383026,\n",
       "        0.18582905, 0.43704833, 0.39759037, 0.68395949, 0.21285018,\n",
       "        0.76761135, 0.38904095, 0.67278691, 0.53269113, 0.07560621,\n",
       "        0.68424241, 0.80195661, 0.26985855, 0.5524503 , 0.61652463,\n",
       "        0.47898721, 0.15992585, 0.26463905, 0.29847926, 0.36799975,\n",
       "        0.44233425, 0.41839763, 0.40116876, 0.35184349, 0.2601834 ,\n",
       "        0.46454954, 0.40806216, 0.78999824, 0.12251457, 0.37629591,\n",
       "        0.17037941, 0.81641867, 0.61179599, 0.07519427, 0.26317501,\n",
       "        0.48452649, 0.24274286, 0.72579025, 0.38813294, 0.        ,\n",
       "        0.51406797, 0.42605902, 0.42711232, 0.63074853, 0.15952227,\n",
       "        0.23694974, 0.30879276, 0.36872305, 0.29565887, 0.38079569,\n",
       "        0.6144637 , 0.25368522, 0.52687921, 0.51845242, 0.61520028,\n",
       "        0.39680395, 0.30038307, 0.5398977 , 0.8519295 , 0.28619256,\n",
       "        0.39283834, 0.54331588, 0.35562102, 0.48087514, 0.39634013,\n",
       "        0.54080472, 0.66362501, 0.63904611, 0.1544835 , 0.64974436,\n",
       "        0.5942392 , 0.53081887, 0.68755645, 0.47477665, 0.605474  ,\n",
       "        0.72728875, 0.58503047, 0.65539689, 0.23883575, 0.51035173],\n",
       "       [0.20373112, 0.61017493, 0.63079661, 0.03261344, 0.30754859,\n",
       "        0.3562461 , 0.47010834, 0.52181196, 0.71678248, 0.55084479,\n",
       "        0.50765242, 0.34526767, 0.16458058, 0.73737478, 0.64889419,\n",
       "        0.61649988, 0.68019223, 0.38080447, 0.22094247, 0.6150539 ,\n",
       "        0.37779165, 0.66302447, 0.27421487, 0.58346595, 0.69449134,\n",
       "        0.34787833, 0.32245317, 0.52167999, 0.34550734, 0.4642676 ,\n",
       "        0.45639126, 0.53420059, 0.2997411 , 0.45528865, 0.34806885,\n",
       "        0.67931267, 0.66415375, 0.75535803, 0.24151478, 0.18087016,\n",
       "        0.79060076, 0.61308356, 0.32849579, 0.682059  , 0.72353268,\n",
       "        0.37933017, 0.22045471, 0.42955142, 0.46350184, 0.65581324,\n",
       "        0.68444079, 0.38891496, 0.48397859, 0.58694779, 0.54541314,\n",
       "        0.19803455, 0.56652692, 0.59922477, 0.24638951, 0.51406797,\n",
       "        0.        , 0.72701412, 0.78124174, 0.50241868, 0.6705127 ,\n",
       "        0.315068  , 0.37199137, 0.14822902, 0.76526124, 0.13329592,\n",
       "        0.17716576, 0.66750272, 0.30786159, 0.37168947, 0.61205916,\n",
       "        0.11899653, 0.23558974, 0.69353749, 0.6229336 , 0.70687302,\n",
       "        0.78241192, 0.27202706, 0.52317229, 0.8823973 , 0.66089799,\n",
       "        0.24553386, 0.29803199, 0.38183518, 0.58509711, 0.39767103,\n",
       "        0.72236702, 0.02453942, 0.17357532, 0.60049123, 0.3949122 ,\n",
       "        0.29132898, 0.16429226, 0.14228653, 0.74774715, 0.86380093],\n",
       "       [0.78555151, 0.64668322, 0.70822924, 0.70295994, 0.97007173,\n",
       "        0.78628784, 0.2638367 , 0.28154547, 0.99784246, 1.01762855,\n",
       "        0.87090989, 0.67685214, 0.63277374, 0.28173923, 0.63402374,\n",
       "        1.24883911, 0.93563218, 0.81224662, 0.94589257, 1.20170995,\n",
       "        0.38833687, 0.86051126, 0.46722318, 1.08903359, 0.55598888,\n",
       "        1.06046217, 0.42143661, 1.06535385, 0.89991751, 0.3880792 ,\n",
       "        1.05530382, 1.16727797, 0.62890781, 0.94844176, 0.9668384 ,\n",
       "        0.90329714, 0.36186438, 0.56955161, 0.62092608, 0.54723126,\n",
       "        0.08035526, 0.84427026, 0.42150733, 0.76215563, 0.60927221,\n",
       "        0.41695269, 0.74077233, 1.11612477, 0.5428733 , 0.79598228,\n",
       "        0.42624102, 0.84664668, 1.00562936, 0.3986872 , 0.19539199,\n",
       "        0.80266845, 0.66626809, 1.12745404, 0.73295597, 0.42605902,\n",
       "        0.72701412, 0.        , 0.08170577, 1.02598745, 0.46014194,\n",
       "        0.59621753, 0.35525146, 0.63033242, 0.62472145, 0.62421221,\n",
       "        0.88717931, 0.64600209, 0.52933585, 0.46985923, 1.03354897,\n",
       "        0.64627014, 0.61767252, 0.96559693, 1.23263314, 0.18731539,\n",
       "        0.13052611, 0.57255762, 0.21070195, 0.83565066, 0.8170702 ,\n",
       "        0.58986421, 0.97846815, 0.99594493, 0.27458632, 1.00954149,\n",
       "        1.02016318, 0.75096251, 0.87764153, 0.90016016, 0.97470173,\n",
       "        0.7914697 , 0.86347498, 0.83723884, 0.3893014 , 0.89133318],\n",
       "       [0.82265198, 0.63314529, 0.69455846, 0.75905439, 1.00897622,\n",
       "        0.80771749, 0.33044384, 0.29893727, 0.99171948, 1.03168506,\n",
       "        0.87981457, 0.69711501, 0.69786772, 0.23534273, 0.61478767,\n",
       "        1.27827433, 0.9292173 , 0.88811522, 1.0016994 , 1.22548824,\n",
       "        0.42463572, 0.85118946, 0.53064168, 1.1053462 , 0.52708982,\n",
       "        1.10679007, 0.48677908, 1.08684522, 0.9282985 , 0.40275894,\n",
       "        1.08382142, 1.19809522, 0.65487877, 0.9680452 , 1.00020524,\n",
       "        0.8948228 , 0.33385488, 0.53229902, 0.65420164, 0.60039465,\n",
       "        0.01586672, 0.83973817, 0.48828941, 0.74486249, 0.57861075,\n",
       "        0.4906587 , 0.77505709, 1.15627686, 0.5484819 , 0.78372418,\n",
       "        0.39477567, 0.92215089, 1.0263581 , 0.38640204, 0.23683731,\n",
       "        0.84102991, 0.65913144, 1.14545828, 0.76449523, 0.42711232,\n",
       "        0.78124174, 0.08170577, 0.        , 1.04627773, 0.43196248,\n",
       "        0.6211583 , 0.41318908, 0.67455336, 0.58910878, 0.67109085,\n",
       "        0.93511348, 0.62475952, 0.60219177, 0.54539518, 1.0419192 ,\n",
       "        0.69293311, 0.6518145 , 0.95975808, 1.25902337, 0.15250053,\n",
       "        0.05921912, 0.64410205, 0.27938438, 0.79906338, 0.80540765,\n",
       "        0.65996542, 1.01978355, 1.02791346, 0.27276528, 1.04086336,\n",
       "        1.01507946, 0.80468457, 0.93758111, 0.90042216, 1.00317996,\n",
       "        0.86371501, 0.91009881, 0.89764985, 0.34449827, 0.86086523],\n",
       "       [0.30695225, 0.52079301, 0.48792078, 0.53178873, 0.25209991,\n",
       "        0.23971469, 0.83257114, 0.74813076, 0.33206263, 0.08122544,\n",
       "        0.20997067, 0.34953398, 0.66048505, 0.88981569, 0.56687478,\n",
       "        0.2643106 , 0.33874843, 0.86952809, 0.50172956, 0.18440269,\n",
       "        0.64514702, 0.38676003, 0.70151175, 0.08105393, 0.67027791,\n",
       "        0.37395251, 0.73899268, 0.04309716, 0.15844919, 0.64353696,\n",
       "        0.11600835, 0.20990412, 0.39909715, 0.07842781, 0.17902274,\n",
       "        0.36729083, 0.77587838, 0.72296134, 0.42180337, 0.57999879,\n",
       "        1.06043771, 0.34503552, 0.75065166, 0.49526699, 0.66060321,\n",
       "        0.82203945, 0.32171605, 0.30137368, 0.50986588, 0.4370023 ,\n",
       "        0.75122574, 0.86957372, 0.02094104, 0.69329255, 0.83319808,\n",
       "        0.3064292 , 0.46655087, 0.10513613, 0.31482944, 0.63074853,\n",
       "        0.50241868, 1.02598745, 1.04627773, 0.        , 0.71582256,\n",
       "        0.43054455, 0.73367046, 0.46531586, 0.69425599, 0.4871009 ,\n",
       "        0.38404433, 0.57541208, 0.78727718, 0.83728916, 0.15367808,\n",
       "        0.47117412, 0.42749378, 0.32899551, 0.22772529, 0.91514802,\n",
       "        1.01949417, 0.76129777, 0.87353471, 0.68046826, 0.42379027,\n",
       "        0.73732824, 0.28551996, 0.15639145, 0.77828215, 0.147099  ,\n",
       "        0.32084485, 0.48888644, 0.56253537, 0.2746797 , 0.11631101,\n",
       "        0.77818364, 0.37111391, 0.5687506 , 0.83510311, 0.61440265],\n",
       "       [0.59872172, 0.21816099, 0.27583163, 0.66549978, 0.77160332,\n",
       "        0.50497138, 0.46649291, 0.25501078, 0.57967116, 0.67751846,\n",
       "        0.51640469, 0.40783398, 0.68406871, 0.20690349, 0.18875363,\n",
       "        0.97484313, 0.51804327, 0.94874961, 0.870037  , 0.89991514,\n",
       "        0.33885308, 0.43600512, 0.55089143, 0.75582036, 0.0958896 ,\n",
       "        0.90326631, 0.53705909, 0.75890338, 0.64440674, 0.22687703,\n",
       "        0.78720534, 0.90512806, 0.40538965, 0.64023584, 0.73419054,\n",
       "        0.48020116, 0.09866611, 0.12111453, 0.44489314, 0.52749796,\n",
       "        0.44777762, 0.43615606, 0.5482798 , 0.3184811 , 0.14923994,\n",
       "        0.60534253, 0.54367331, 0.91344288, 0.22902991, 0.3646605 ,\n",
       "        0.04018343, 0.97434381, 0.69905315, 0.09973966, 0.35239905,\n",
       "        0.62131152, 0.26031726, 0.80046524, 0.52010412, 0.15952227,\n",
       "        0.6705127 , 0.46014194, 0.43196248, 0.71582256, 0.        ,\n",
       "        0.37604234, 0.45110073, 0.52351344, 0.16927671, 0.5373301 ,\n",
       "        0.75920831, 0.19566707, 0.67784217, 0.66218469, 0.66734441,\n",
       "        0.55219272, 0.44806557, 0.54905334, 0.94301016, 0.279835  ,\n",
       "        0.38178864, 0.69758334, 0.45967446, 0.37812579, 0.38686437,\n",
       "        0.69672607, 0.79485133, 0.75233285, 0.20797719, 0.76098712,\n",
       "        0.60472034, 0.68622517, 0.84353342, 0.50725379, 0.7126203 ,\n",
       "        0.88614352, 0.72928581, 0.81244208, 0.12160863, 0.43125785],\n",
       "       [0.22576813, 0.29633176, 0.32318624, 0.31963657, 0.40762565,\n",
       "        0.19117802, 0.41175411, 0.3223742 , 0.48805822, 0.43035284,\n",
       "        0.30459495, 0.08738874, 0.38707635, 0.49618134, 0.33391869,\n",
       "        0.65749412, 0.43567522, 0.65849316, 0.49724552, 0.60567048,\n",
       "        0.21606663, 0.3921263 , 0.33272679, 0.49713872, 0.38438496,\n",
       "        0.53111437, 0.35438239, 0.46931463, 0.30762923, 0.2231899 ,\n",
       "        0.4629143 , 0.57824227, 0.03428748, 0.35383849, 0.38488739,\n",
       "        0.42079458, 0.39683267, 0.44602999, 0.07390409, 0.23628229,\n",
       "        0.63469   , 0.3498335 , 0.3678033 , 0.37931258, 0.40972368,\n",
       "        0.44372569, 0.17112906, 0.55440483, 0.15252599, 0.36499002,\n",
       "        0.39850796, 0.67579358, 0.40999276, 0.31135135, 0.40271079,\n",
       "        0.24791099, 0.25666443, 0.53340479, 0.1518185 , 0.23694974,\n",
       "        0.315068  , 0.59621753, 0.6211583 , 0.43054455, 0.37604234,\n",
       "        0.        , 0.32086949, 0.17012135, 0.45156783, 0.19212472,\n",
       "        0.38319129, 0.35263071, 0.45367824, 0.4784709 , 0.4600645 ,\n",
       "        0.19884338, 0.0794858 , 0.45825476, 0.63798099, 0.50081688,\n",
       "        0.60000563, 0.44905594, 0.44791529, 0.5722518 , 0.37543425,\n",
       "        0.43510128, 0.42670235, 0.41009324, 0.36271118, 0.42215079,\n",
       "        0.50258703, 0.32569464, 0.48151266, 0.36948372, 0.38237968,\n",
       "        0.57882351, 0.353249  , 0.45559019, 0.47383435, 0.56326533],\n",
       "       [0.45564317, 0.52262349, 0.57371522, 0.34771798, 0.63207612,\n",
       "        0.50272528, 0.1034336 , 0.2109779 , 0.80084631, 0.74542594,\n",
       "        0.62540365, 0.40794242, 0.28944091, 0.42342755, 0.53754561,\n",
       "        0.92691039, 0.74439243, 0.51901936, 0.5906735 , 0.89468098,\n",
       "        0.130682  , 0.68794486, 0.12300555, 0.80674315, 0.52043008,\n",
       "        0.71031884, 0.09073767, 0.76815045, 0.58868018, 0.23318771,\n",
       "        0.73910185, 0.8433682 , 0.3448442 , 0.66139713, 0.64077589,\n",
       "        0.72318441, 0.39556229, 0.56782064, 0.31197984, 0.19362087,\n",
       "        0.42140093, 0.65356301, 0.09971009, 0.63537207, 0.56892443,\n",
       "        0.15580109, 0.42006107, 0.77424236, 0.36057497, 0.64299287,\n",
       "        0.44377838, 0.54907739, 0.71272943, 0.35138112, 0.18437254,\n",
       "        0.46926751, 0.51073995, 0.83871402, 0.42061194, 0.30879276,\n",
       "        0.37199137, 0.35525146, 0.41318908, 0.73367046, 0.45110073,\n",
       "        0.32086949, 0.        , 0.28962876, 0.6035837 , 0.27826869,\n",
       "        0.53617137, 0.55596618, 0.23245218, 0.21118476, 0.77999325,\n",
       "        0.30012488, 0.30617892, 0.76974535, 0.91827963, 0.36518966,\n",
       "        0.4218926 , 0.2613068 , 0.15363332, 0.78722355, 0.65903408,\n",
       "        0.26858494, 0.63600225, 0.67254946, 0.27855291, 0.68740237,\n",
       "        0.81757906, 0.39607593, 0.52440974, 0.6852281 , 0.66071519,\n",
       "        0.47391117, 0.51419536, 0.48446352, 0.47497027, 0.80835541],\n",
       "       [0.16837941, 0.46645013, 0.49166087, 0.1497047 , 0.34282424,\n",
       "        0.26343354, 0.39305462, 0.39503129, 0.61617819, 0.49377856,\n",
       "        0.41216026, 0.21688047, 0.22951978, 0.60313642, 0.50347319,\n",
       "        0.63875741, 0.57183176, 0.49433026, 0.35205798, 0.61286197,\n",
       "        0.25312897, 0.54243311, 0.23650213, 0.54359576, 0.54630936,\n",
       "        0.43232138, 0.27620917, 0.49489344, 0.31082836, 0.32461122,\n",
       "        0.45446807, 0.55497447, 0.16063797, 0.40124326, 0.35280108,\n",
       "        0.56460271, 0.52237131, 0.60713448, 0.09930029, 0.11472429,\n",
       "        0.68563238, 0.49519595, 0.28713099, 0.54591867, 0.57600521,\n",
       "        0.35696735, 0.14375929, 0.48673854, 0.31569365, 0.52573139,\n",
       "        0.53891517, 0.50942416, 0.44475228, 0.4426791 , 0.43848078,\n",
       "        0.18018834, 0.42582007, 0.56958975, 0.15590401, 0.36872305,\n",
       "        0.14822902, 0.63033242, 0.67455336, 0.46531586, 0.52351344,\n",
       "        0.17012135, 0.28962876, 0.        , 0.61765456, 0.02590424,\n",
       "        0.26240282, 0.52233214, 0.32901054, 0.37320716, 0.54322807,\n",
       "        0.02931994, 0.09220933, 0.58956725, 0.63279215, 0.58287461,\n",
       "        0.66768313, 0.31138976, 0.44189396, 0.74188649, 0.5334592 ,\n",
       "        0.29177591, 0.34863699, 0.38533389, 0.4536178 , 0.40057034,\n",
       "        0.62591365, 0.16273283, 0.32014995, 0.49641774, 0.37867891,\n",
       "        0.41164105, 0.23611548, 0.29046905, 0.60508397, 0.7294459 ],\n",
       "       [0.65233288, 0.17975843, 0.20684559, 0.76653383, 0.80405086,\n",
       "        0.52348918, 0.63014583, 0.41987563, 0.48492092, 0.63970852,\n",
       "        0.48442056, 0.45098351, 0.80746403, 0.35494235, 0.13221465,\n",
       "        0.95856473, 0.42872163, 1.07873294, 0.94429808, 0.87196195,\n",
       "        0.48114304, 0.3470604 , 0.69167452, 0.71699501, 0.08318641,\n",
       "        0.94496335, 0.6846808 , 0.73645797, 0.6600909 , 0.37094957,\n",
       "        0.78441224, 0.898403  , 0.47269866, 0.62629734, 0.75346218,\n",
       "        0.3881341 , 0.26403663, 0.05757966, 0.52542979, 0.64737233,\n",
       "        0.60464574, 0.36648661, 0.69682761, 0.21742593, 0.04186163,\n",
       "        0.75935149, 0.59961278, 0.93498679, 0.30199791, 0.27657297,\n",
       "        0.19890452, 1.10150223, 0.68097509, 0.2598483 , 0.52068426,\n",
       "        0.6747776 , 0.23596903, 0.76284915, 0.57214229, 0.29565887,\n",
       "        0.76526124, 0.62472145, 0.58910878, 0.69425599, 0.16927671,\n",
       "        0.45156783, 0.6035837 , 0.61765456, 0.        , 0.63631402,\n",
       "        0.82184865, 0.11997447, 0.82172685, 0.81392996, 0.61170969,\n",
       "        0.64695938, 0.53064633, 0.4582652 , 0.91979313, 0.43996074,\n",
       "        0.53500155, 0.83604305, 0.6268054 , 0.21093543, 0.29686966,\n",
       "        0.83161323, 0.83219073, 0.7647403 , 0.37697548, 0.77024293,\n",
       "        0.51111316, 0.77700003, 0.93307783, 0.44394758, 0.71862659,\n",
       "        1.00889421, 0.79187087, 0.90671135, 0.24829577, 0.27417182],\n",
       "       [0.18622256, 0.48805459, 0.51475197, 0.1302838 , 0.35429847,\n",
       "        0.28879285, 0.3815291 , 0.39723483, 0.64207346, 0.51746087,\n",
       "        0.4378936 , 0.24228476, 0.20372412, 0.60881944, 0.52415727,\n",
       "        0.6540724 , 0.5977082 , 0.46954687, 0.34497982, 0.63128962,\n",
       "        0.25375708, 0.56790651, 0.21643303, 0.56590936, 0.56365441,\n",
       "        0.43637918, 0.25800469, 0.51572482, 0.33138352, 0.33261198,\n",
       "        0.47218179, 0.57017909, 0.18481442, 0.42436767, 0.36883323,\n",
       "        0.59033531, 0.53187886, 0.62408596, 0.12330096, 0.09478097,\n",
       "        0.68173263, 0.5208391 , 0.26836254, 0.56961213, 0.5948072 ,\n",
       "        0.33647527, 0.16642517, 0.49601593, 0.33440381, 0.55038784,\n",
       "        0.55117392, 0.48519104, 0.46666475, 0.45386658, 0.43438315,\n",
       "        0.19586767, 0.44857939, 0.59096992, 0.1802967 , 0.38079569,\n",
       "        0.13329592, 0.62421221, 0.67109085, 0.4871009 , 0.5373301 ,\n",
       "        0.19212472, 0.27826869, 0.02590424, 0.63631402, 0.        ,\n",
       "        0.26402365, 0.5431409 , 0.30449448, 0.35040159, 0.5678574 ,\n",
       "        0.02208045, 0.11590796, 0.61547133, 0.64976054, 0.58452359,\n",
       "        0.66649039, 0.28593845, 0.43156004, 0.76436855, 0.55840194,\n",
       "        0.26606212, 0.35776042, 0.40184512, 0.45787719, 0.41728826,\n",
       "        0.65176365, 0.1505754 , 0.30676617, 0.52232054, 0.39765529,\n",
       "        0.38764049, 0.23938697, 0.27512802, 0.61519527, 0.75331578],\n",
       "       [0.17079383, 0.6495011 , 0.65357331, 0.20902139, 0.14667674,\n",
       "        0.32697317, 0.63761961, 0.65709134, 0.65993493, 0.44948236,\n",
       "        0.45856962, 0.3713723 , 0.33580408, 0.86137045, 0.69412938,\n",
       "        0.44804589, 0.63721114, 0.49294097, 0.13324467, 0.46049687,\n",
       "        0.51552007, 0.64205743, 0.44847657, 0.46179266, 0.76225698,\n",
       "        0.17422531, 0.49614438, 0.39172005, 0.24760256, 0.58093724,\n",
       "        0.30971675, 0.36833422, 0.35506839, 0.36023845, 0.20788882,\n",
       "        0.64691918, 0.77310293, 0.82398114, 0.31608216, 0.3427635 ,\n",
       "        0.94571552, 0.59022905, 0.50314386, 0.69402402, 0.78038557,\n",
       "        0.5563489 , 0.22224631, 0.25289585, 0.53369575, 0.65443715,\n",
       "        0.78067483, 0.48943707, 0.36952714, 0.68965688, 0.69838077,\n",
       "        0.14919186, 0.59756586, 0.46703682, 0.25007033, 0.6144637 ,\n",
       "        0.17716576, 0.88717931, 0.93511348, 0.38404433, 0.75920831,\n",
       "        0.38319129, 0.53617137, 0.26240282, 0.82184865, 0.26402365,\n",
       "        0.        , 0.71078633, 0.48263947, 0.54814008, 0.5196354 ,\n",
       "        0.24222343, 0.31409644, 0.64295882, 0.46065293, 0.84500436,\n",
       "        0.92983086, 0.4439894 , 0.68956527, 0.90057629, 0.65355429,\n",
       "        0.41680202, 0.1275443 , 0.2379153 , 0.71413953, 0.25241084,\n",
       "        0.65920477, 0.15363685, 0.1785149 , 0.55585435, 0.26789125,\n",
       "        0.40265583, 0.03010683, 0.18720131, 0.85329287, 0.86448684],\n",
       "       [0.54026907, 0.06170326, 0.09156078, 0.67202946, 0.68634879,\n",
       "        0.40537562, 0.60098397, 0.40175281, 0.38957704, 0.5231336 ,\n",
       "        0.36595891, 0.33958017, 0.72653048, 0.40254138, 0.01938478,\n",
       "        0.83968044, 0.32949257, 0.99978334, 0.83612265, 0.75444259,\n",
       "        0.42665063, 0.24646805, 0.62805142, 0.60097867, 0.11036222,\n",
       "        0.82827232, 0.62869842, 0.6178293 , 0.54090888, 0.32648658,\n",
       "        0.66448576, 0.77870467, 0.3692561 , 0.50664221, 0.63433597,\n",
       "        0.29008855, 0.29138652, 0.1503108 , 0.42598798, 0.5670933 ,\n",
       "        0.64062378, 0.25646734, 0.64166706, 0.12322607, 0.08544942,\n",
       "        0.71006824, 0.48896193, 0.81570679, 0.21420295, 0.17398897,\n",
       "        0.23540261, 1.02013023, 0.56174897, 0.24995547, 0.50978863,\n",
       "        0.56241748, 0.11700913, 0.64676078, 0.4607558 , 0.25368522,\n",
       "        0.66750272, 0.64600209, 0.62475952, 0.57541208, 0.19566707,\n",
       "        0.35263071, 0.55596618, 0.52233214, 0.11997447, 0.5431409 ,\n",
       "        0.71078633, 0.        , 0.75881263, 0.76055843, 0.49945161,\n",
       "        0.55129197, 0.43199801, 0.36022714, 0.80167714, 0.47226545,\n",
       "        0.57637799, 0.76736827, 0.60787413, 0.23274284, 0.19597922,\n",
       "        0.75968201, 0.71515668, 0.64508397, 0.37693825, 0.6504284 ,\n",
       "        0.41525968, 0.67715492, 0.83102714, 0.33267918, 0.59874639,\n",
       "        0.92503689, 0.6810338 , 0.80707257, 0.30945006, 0.25688235],\n",
       "       [0.48071787, 0.71614709, 0.75883258, 0.27526319, 0.61488474,\n",
       "        0.59170366, 0.27567352, 0.44342803, 0.93624914, 0.82155526,\n",
       "        0.73760853, 0.52805848, 0.14815168, 0.65286849, 0.73961218,\n",
       "        0.92398397, 0.8871082 , 0.29116275, 0.48271882, 0.91754494,\n",
       "        0.34108166, 0.84571553, 0.13082967, 0.86724464, 0.73944734,\n",
       "        0.64595902, 0.14223434, 0.81277661, 0.62931996, 0.45294231,\n",
       "        0.75758533, 0.84128598, 0.4627473 , 0.72776554, 0.64975918,\n",
       "        0.87415695, 0.62754855, 0.79093945, 0.40743479, 0.22204783,\n",
       "        0.60639633, 0.80324645, 0.13279155, 0.81925645, 0.78446689,\n",
       "        0.11265911, 0.47009285, 0.7354504 , 0.54839141, 0.81433861,\n",
       "        0.673628  , 0.32340589, 0.76728267, 0.57843071, 0.40146691,\n",
       "        0.48406908, 0.69213985, 0.88943597, 0.48475831, 0.52687921,\n",
       "        0.30786159, 0.52933585, 0.60219177, 0.78727718, 0.67784217,\n",
       "        0.45367824, 0.23245218, 0.32901054, 0.82172685, 0.30449448,\n",
       "        0.48263947, 0.75881263, 0.        , 0.07176048, 0.87223435,\n",
       "        0.31760237, 0.39958693, 0.90783158, 0.9286227 , 0.58658   ,\n",
       "        0.62492804, 0.04708846, 0.32344424, 0.99141015, 0.82667622,\n",
       "        0.07222063, 0.60583118, 0.68374276, 0.51080715, 0.6996392 ,\n",
       "        0.94820449, 0.32988788, 0.39517803, 0.81624048, 0.6894802 ,\n",
       "        0.26216281, 0.47203804, 0.35539036, 0.70740533, 1.00033008],\n",
       "       [0.53289557, 0.72240876, 0.76916266, 0.33935799, 0.67652441,\n",
       "        0.63134325, 0.22816879, 0.41688254, 0.96591178, 0.86672318,\n",
       "        0.77278515, 0.55823742, 0.21714247, 0.61634859, 0.74170055,\n",
       "        0.98531023, 0.91414541, 0.34272132, 0.55354319, 0.97446734,\n",
       "        0.33475685, 0.86734609, 0.14588764, 0.91630084, 0.73087312,\n",
       "        0.71398065, 0.13208979, 0.86486333, 0.68058583, 0.44299764,\n",
       "        0.81435946, 0.9020954 , 0.49209838, 0.7744485 , 0.70735239,\n",
       "        0.89834129, 0.6030854 , 0.77895154, 0.44119997, 0.26007912,\n",
       "        0.5484419 , 0.82743378, 0.11893905, 0.83044098, 0.77852194,\n",
       "        0.0599599 , 0.51671217, 0.80098182, 0.55584817, 0.83069271,\n",
       "        0.65383187, 0.37687462, 0.81693543, 0.56249657, 0.3598095 ,\n",
       "        0.53835492, 0.70363141, 0.94073482, 0.52848   , 0.51845242,\n",
       "        0.37168947, 0.46985923, 0.54539518, 0.83728916, 0.66218469,\n",
       "        0.4784709 , 0.21118476, 0.37320716, 0.81392996, 0.35040159,\n",
       "        0.54814008, 0.76055843, 0.07176048, 0.        , 0.913777  ,\n",
       "        0.36620303, 0.43360526, 0.93648769, 0.98780237, 0.54345135,\n",
       "        0.57239218, 0.11861119, 0.27051484, 0.99304078, 0.84453796,\n",
       "        0.14391956, 0.66933591, 0.74125064, 0.4816954 , 0.75709507,\n",
       "        0.97942216, 0.39461062, 0.46668191, 0.8465462 , 0.74376035,\n",
       "        0.32591005, 0.53583652, 0.42674153, 0.67977785, 1.00843092],\n",
       "       [0.40844011, 0.45436094, 0.40792583, 0.63817199, 0.39923108,\n",
       "        0.28270817, 0.87167638, 0.75202701, 0.185299  , 0.073622  ,\n",
       "        0.16264043, 0.37267656, 0.75934743, 0.85945335, 0.49555597,\n",
       "        0.37845447, 0.20687646, 0.9898007 , 0.64437062, 0.27851914,\n",
       "        0.6732583 , 0.27347192, 0.77096366, 0.12062449, 0.60480891,\n",
       "        0.52692154, 0.80218419, 0.17684252, 0.27438077, 0.64553508,\n",
       "        0.2686676 , 0.34559833, 0.43521782, 0.16029437, 0.32451451,\n",
       "        0.242732  , 0.74206559, 0.6496942 , 0.47576625, 0.6538694 ,\n",
       "        1.05697126, 0.24532375, 0.81491014, 0.39790818, 0.58389102,\n",
       "        0.88964319, 0.4043696 , 0.45404618, 0.49343869, 0.33740847,\n",
       "        0.70589454, 0.99343263, 0.1593372 , 0.6663364 , 0.84859128,\n",
       "        0.41501645, 0.40713937, 0.16308075, 0.38757483, 0.61520028,\n",
       "        0.61205916, 1.03354897, 1.0419192 , 0.15367808, 0.66734441,\n",
       "        0.4600645 , 0.77999325, 0.54322807, 0.61170969, 0.5678574 ,\n",
       "        0.5196354 , 0.49945161, 0.87223435, 0.913777  , 0.        ,\n",
       "        0.55620979, 0.48290126, 0.18937556, 0.3305417 , 0.90018877,\n",
       "        1.00757642, 0.85259567, 0.90610419, 0.56037477, 0.31941881,\n",
       "        0.83096104, 0.43370789, 0.30672035, 0.7691899 , 0.29913499,\n",
       "        0.17044004, 0.60269515, 0.69680592, 0.16778121, 0.26061944,\n",
       "        0.89873665, 0.50219355, 0.69789356, 0.78895303, 0.48543994],\n",
       "       [0.16775993, 0.49513909, 0.51947069, 0.12079321, 0.33282456,\n",
       "        0.27968099, 0.40332066, 0.41780423, 0.63610836, 0.50402308,\n",
       "        0.43027892, 0.24156212, 0.20853711, 0.62822041, 0.5324716 ,\n",
       "        0.63365621, 0.5933016 , 0.46920945, 0.32583293, 0.61247511,\n",
       "        0.27467428, 0.56643898, 0.23515889, 0.55051709, 0.57560615,\n",
       "        0.41436887, 0.27777916, 0.49882076, 0.31446763, 0.35087038,\n",
       "        0.45302615, 0.549747  , 0.18780505, 0.41017958, 0.34889273,\n",
       "        0.5874033 , 0.54945047, 0.63640474, 0.12698126, 0.11436743,\n",
       "        0.70362697, 0.51853082, 0.28780203, 0.57316445, 0.60530292,\n",
       "        0.35461731, 0.1525777 , 0.47411982, 0.345007  , 0.5517116 ,\n",
       "        0.5671118 , 0.48335152, 0.45089886, 0.47045318, 0.45627267,\n",
       "        0.17613649, 0.4539001 , 0.57453845, 0.16915575, 0.39680395,\n",
       "        0.11899653, 0.64627014, 0.69293311, 0.47117412, 0.55219272,\n",
       "        0.19884338, 0.30012488, 0.02931994, 0.64695938, 0.02208045,\n",
       "        0.24222343, 0.55129197, 0.31760237, 0.36620303, 0.55620979,\n",
       "        0.        , 0.12021368, 0.61014724, 0.63010266, 0.60531125,\n",
       "        0.68796956, 0.29640023, 0.45349287, 0.77006493, 0.55889587,\n",
       "        0.27524452, 0.33587743, 0.3821022 , 0.47778625, 0.39763515,\n",
       "        0.6449935 , 0.134101  , 0.29134526, 0.51676911, 0.3793807 ,\n",
       "        0.38531732, 0.21739198, 0.26127166, 0.63245141, 0.75644828],\n",
       "       [0.17200048, 0.37521612, 0.39946116, 0.2408331 , 0.35889175,\n",
       "        0.20064727, 0.40566731, 0.35811652, 0.53687756, 0.44214356,\n",
       "        0.33929164, 0.12999066, 0.3169305 , 0.55068492, 0.41333746,\n",
       "        0.63185508, 0.48916214, 0.58525993, 0.42211035, 0.59151174,\n",
       "        0.2293428 , 0.45459759, 0.28897667, 0.50101326, 0.46216857,\n",
       "        0.47127086, 0.31933685, 0.46232668, 0.28568347, 0.27068516,\n",
       "        0.43958556, 0.54980047, 0.06901702, 0.3556924 , 0.34926276,\n",
       "        0.47907924, 0.45913871, 0.52361689, 0.00792367, 0.17756524,\n",
       "        0.66431114, 0.40881791, 0.33201613, 0.45381437, 0.48882858,\n",
       "        0.40682124, 0.1233551 , 0.50679368, 0.23010242, 0.43477649,\n",
       "        0.46755815, 0.6010987 , 0.40655284, 0.37557224, 0.42230148,\n",
       "        0.19191189, 0.3337199 , 0.53253687, 0.11664119, 0.30038307,\n",
       "        0.23558974, 0.61767252, 0.6518145 , 0.42749378, 0.44806557,\n",
       "        0.0794858 , 0.30617892, 0.09220933, 0.53064633, 0.11590796,\n",
       "        0.31409644, 0.43199801, 0.39958693, 0.43360526, 0.48290126,\n",
       "        0.12021368, 0.        , 0.50886002, 0.6183484 , 0.54378807,\n",
       "        0.6371293 , 0.38888774, 0.44853644, 0.64986233, 0.44323803,\n",
       "        0.3721522 , 0.37317952, 0.37831496, 0.40817567, 0.39205902,\n",
       "        0.54861756, 0.24638043, 0.4026507 , 0.41680785, 0.35954903,\n",
       "        0.50350771, 0.28474627, 0.37621093, 0.53921869, 0.63744825],\n",
       "       [0.49774164, 0.33166599, 0.27336653, 0.71373404, 0.54739996,\n",
       "        0.33729946, 0.8479894 , 0.69103328, 0.032312  , 0.2499696 ,\n",
       "        0.18731666, 0.37977471, 0.81852182, 0.75326231, 0.36233852,\n",
       "        0.56782683, 0.03101276, 1.07307469, 0.77491798, 0.46743216,\n",
       "        0.6470167 , 0.11377668, 0.7906193 , 0.30997264, 0.47055178,\n",
       "        0.68653596, 0.8122162 , 0.36041047, 0.39981567, 0.58928057,\n",
       "        0.44411316, 0.53236137, 0.44533762, 0.30020047, 0.47455788,\n",
       "        0.07044435, 0.6368334 , 0.50449518, 0.50095369, 0.68617745,\n",
       "        0.97544149, 0.12165583, 0.82570493, 0.24165723, 0.43811332,\n",
       "        0.90156092, 0.47310658, 0.62784563, 0.42982817, 0.18623827,\n",
       "        0.58919082, 1.08243707, 0.32733379, 0.57345991, 0.79669722,\n",
       "        0.51162349, 0.30063794, 0.35204941, 0.44806056, 0.5398977 ,\n",
       "        0.69353749, 0.96559693, 0.95975808, 0.32899551, 0.54905334,\n",
       "        0.45825476, 0.76974535, 0.58956725, 0.4582652 , 0.61547133,\n",
       "        0.64295882, 0.36022714, 0.90783158, 0.93648769, 0.18937556,\n",
       "        0.61014724, 0.50886002, 0.        , 0.51962255, 0.81015696,\n",
       "        0.91765495, 0.89755116, 0.87286117, 0.37546724, 0.16430363,\n",
       "        0.87995265, 0.58233482, 0.46562112, 0.69165636, 0.46199485,\n",
       "        0.05574945, 0.69037071, 0.8108284 , 0.09347361, 0.41481825,\n",
       "        0.9846504 , 0.61983358, 0.80353357, 0.66769632, 0.29701586],\n",
       "       [0.46441772, 0.74799368, 0.71299813, 0.65533677, 0.31657297,\n",
       "        0.45360416, 1.02060515, 0.96010309, 0.51238927, 0.2827952 ,\n",
       "        0.43572957, 0.56401001, 0.78748178, 1.11318957, 0.79373262,\n",
       "        0.05281696, 0.5371932 , 0.9460128 , 0.53652031, 0.05239754,\n",
       "        0.84569944, 0.59863187, 0.86502723, 0.21081273, 0.89784612,\n",
       "        0.3563952 , 0.90774512, 0.18469601, 0.33308134, 0.85807401,\n",
       "        0.17922696, 0.09444837, 0.60452093, 0.30291464, 0.28142471,\n",
       "        0.5718038 , 1.00062753, 0.94999542, 0.61413974, 0.74436072,\n",
       "        1.27264006, 0.56250032, 0.91790207, 0.71554691, 0.88704688,\n",
       "        0.98340193, 0.49864657, 0.24544266, 0.73287807, 0.65587426,\n",
       "        0.97799128, 0.93759224, 0.24395931, 0.91699119, 1.03768704,\n",
       "        0.45398416, 0.69407709, 0.16757315, 0.50173146, 0.8519295 ,\n",
       "        0.6229336 , 1.23263314, 1.25902337, 0.22772529, 0.94301016,\n",
       "        0.63798099, 0.91827963, 0.63279215, 0.91979313, 0.64976054,\n",
       "        0.46065293, 0.80167714, 0.9286227 , 0.98780237, 0.3305417 ,\n",
       "        0.63010266, 0.6183484 , 0.51962255, 0.        , 1.13345245,\n",
       "        1.23584275, 0.89481183, 1.06580442, 0.88971461, 0.64052671,\n",
       "        0.86845378, 0.3334153 , 0.24800701, 0.99554378, 0.2324813 ,\n",
       "        0.49360421, 0.60311619, 0.62090705, 0.48731807, 0.25879968,\n",
       "        0.85807126, 0.46271348, 0.64121628, 1.06175552, 0.81597472],\n",
       "       [0.71562348, 0.48175479, 0.54299444, 0.68942263, 0.90230663,\n",
       "        0.67987333, 0.3153461 , 0.18791747, 0.84194733, 0.89463142,\n",
       "        0.73929228, 0.56948069, 0.65309104, 0.09618155, 0.46241007,\n",
       "        1.15628235, 0.779452  , 0.87768338, 0.92689922, 1.09711693,\n",
       "        0.33079124, 0.70054556, 0.48814887, 0.96997511, 0.3753022 ,\n",
       "        1.0116407 , 0.45241117, 0.95673493, 0.80750886, 0.27762751,\n",
       "        0.96186373, 1.07830915, 0.53509863, 0.83672608, 0.88539054,\n",
       "        0.74437727, 0.18146976, 0.38394618, 0.54478699, 0.52930954,\n",
       "        0.16836245, 0.69099332, 0.45806764, 0.59258659, 0.42739841,\n",
       "        0.48394768, 0.66454444, 1.05021133, 0.4087012 , 0.63234878,\n",
       "        0.24335031, 0.90940189, 0.89581565, 0.2371498 , 0.1851132 ,\n",
       "        0.73569314, 0.50991566, 1.01150058, 0.65017008, 0.28619256,\n",
       "        0.70687302, 0.18731539, 0.15250053, 0.91514802, 0.279835  ,\n",
       "        0.50081688, 0.36518966, 0.58287461, 0.43996074, 0.58452359,\n",
       "        0.84500436, 0.47226545, 0.58658   , 0.54345135, 0.90018877,\n",
       "        0.60531125, 0.54378807, 0.81015696, 1.13345245, 0.        ,\n",
       "        0.10790154, 0.62195837, 0.27898583, 0.65071845, 0.65415223,\n",
       "        0.63216004, 0.91687694, 0.91090859, 0.13827088, 0.92287394,\n",
       "        0.86567621, 0.72868236, 0.87351686, 0.75392513, 0.88180923,\n",
       "        0.83832898, 0.81790028, 0.83545419, 0.20207092, 0.70992949],\n",
       "       [0.80901187, 0.58843738, 0.6494493 , 0.76212301, 0.99589424,\n",
       "        0.78272636, 0.34956615, 0.2792964 , 0.94937957, 1.00088607,\n",
       "        0.84636894, 0.67205091, 0.71053778, 0.1800975 , 0.5673954 ,\n",
       "        1.25722337, 0.88690259, 0.91408742, 1.00335434, 1.20056931,\n",
       "        0.41485701, 0.80762611, 0.54294523, 1.07576856, 0.47587869,\n",
       "        1.09949497, 0.50165008, 1.06074208, 0.90758706, 0.37783745,\n",
       "        1.06262992, 1.17824679, 0.63414247, 0.94107826, 0.98287562,\n",
       "        0.85154846, 0.28505676, 0.47783084, 0.63883717, 0.6019899 ,\n",
       "        0.07283392, 0.79873054, 0.50470623, 0.69777855, 0.52640981,\n",
       "        0.51547621, 0.75953468, 1.14370996, 0.51528829, 0.73892812,\n",
       "        0.34351563, 0.94743383, 0.99993522, 0.3449917 , 0.23860366,\n",
       "        0.82827718, 0.61761092, 1.11686943, 0.74697537, 0.39283834,\n",
       "        0.78241192, 0.13052611, 0.05921912, 1.01949417, 0.38178864,\n",
       "        0.60000563, 0.4218926 , 0.66768313, 0.53500155, 0.66649039,\n",
       "        0.92983086, 0.57637799, 0.62492804, 0.57239218, 1.00757642,\n",
       "        0.68796956, 0.6371293 , 0.91765495, 1.23584275, 0.10790154,\n",
       "        0.        , 0.66481513, 0.30220586, 0.74411445, 0.76082615,\n",
       "        0.67873807, 1.00859754, 1.00943525, 0.24125552, 1.02186013,\n",
       "        0.97322272, 0.8052484 , 0.94357474, 0.86182609, 0.98223708,\n",
       "        0.88433419, 0.90379443, 0.90428855, 0.28851819, 0.80791462],\n",
       "       [0.45437777, 0.72198803, 0.76177293, 0.23952309, 0.57953761,\n",
       "        0.57473128, 0.31529191, 0.47105713, 0.92516392, 0.79928831,\n",
       "        0.72322129, 0.51870476, 0.10824315, 0.68453796, 0.74804023,\n",
       "        0.88833612, 0.87804626, 0.25771441, 0.43799474, 0.88564643,\n",
       "        0.35882053, 0.84059707, 0.14683426, 0.84181255, 0.75459247,\n",
       "        0.60437163, 0.17088493, 0.78505795, 0.60288749, 0.47105682,\n",
       "        0.72612955, 0.80620327, 0.45469103, 0.7046274 , 0.6179045 ,\n",
       "        0.86715196, 0.65267906, 0.80795475, 0.39680928, 0.21306738,\n",
       "        0.64881714, 0.79650722, 0.16403906, 0.82135931, 0.79778031,\n",
       "        0.15756553, 0.44851387, 0.69623131, 0.55461687, 0.81297535,\n",
       "        0.69583118, 0.28805066, 0.74165053, 0.59893515, 0.4371817 ,\n",
       "        0.45587947, 0.69465517, 0.86217138, 0.46540295, 0.54331588,\n",
       "        0.27202706, 0.57255762, 0.64410205, 0.76129777, 0.69758334,\n",
       "        0.44905594, 0.2613068 , 0.31138976, 0.83604305, 0.28593845,\n",
       "        0.4439894 , 0.76736827, 0.04708846, 0.11861119, 0.85259567,\n",
       "        0.29640023, 0.38888774, 0.89755116, 0.89481183, 0.62195837,\n",
       "        0.66481513, 0.        , 0.36477313, 0.99919906, 0.82423278,\n",
       "        0.02740895, 0.56877663, 0.65185763, 0.5392484 , 0.66775354,\n",
       "        0.93596885, 0.29286971, 0.34939071, 0.8050915 , 0.66031453,\n",
       "        0.21971769, 0.43513501, 0.30993806, 0.73395779, 1.00386989],\n",
       "       [0.60590293, 0.58844381, 0.64617965, 0.49738616, 0.78470406,\n",
       "        0.63722863, 0.05367709, 0.20800053, 0.90486288, 0.87821036,\n",
       "        0.74656633, 0.53466321, 0.42211699, 0.36159321, 0.59154659,\n",
       "        1.07647363, 0.84522687, 0.61188632, 0.73954994, 1.04001241,\n",
       "        0.23284602, 0.77995073, 0.25734165, 0.9435763 , 0.54595664,\n",
       "        0.8637619 , 0.2109232 , 0.90985859, 0.73398793, 0.28941781,\n",
       "        0.88663124, 0.99326815, 0.47650437, 0.79889747, 0.79071845,\n",
       "        0.81903756, 0.37852088, 0.58073201, 0.45341656, 0.34681885,\n",
       "        0.28455151, 0.75254139, 0.21080653, 0.7063775 , 0.59913022,\n",
       "        0.21327297, 0.56726811, 0.92756897, 0.4451295 , 0.72559647,\n",
       "        0.43944701, 0.64530285, 0.85266284, 0.36784204, 0.1095056 ,\n",
       "        0.6205125 , 0.59030123, 0.97794654, 0.56493231, 0.35562102,\n",
       "        0.52317229, 0.21070195, 0.27938438, 0.87353471, 0.45967446,\n",
       "        0.44791529, 0.15363332, 0.44189396, 0.6268054 , 0.43156004,\n",
       "        0.68956527, 0.60787413, 0.32344424, 0.27051484, 0.90610419,\n",
       "        0.45349287, 0.44853644, 0.87286117, 1.06580442, 0.27898583,\n",
       "        0.30220586, 0.36477313, 0.        , 0.82827032, 0.7442062 ,\n",
       "        0.38067117, 0.78930853, 0.82187908, 0.2539458 , 0.83643669,\n",
       "        0.9240734 , 0.54749179, 0.66855743, 0.79487473, 0.80727134,\n",
       "        0.58445042, 0.66779423, 0.6279641 , 0.44281068, 0.86470849],\n",
       "       [0.73127072, 0.27859608, 0.25178259, 0.89045006, 0.84871399,\n",
       "        0.5763091 , 0.82640416, 0.62027174, 0.39139463, 0.60969422,\n",
       "        0.48197236, 0.54037049, 0.95439776, 0.56410391, 0.25184901,\n",
       "        0.93555221, 0.35387695, 1.22761752, 1.0313112 , 0.8381913 ,\n",
       "        0.65870111, 0.29371682, 0.86069457, 0.678922  , 0.2845781 ,\n",
       "        0.99373367, 0.86128562, 0.71823227, 0.69511984, 0.55558135,\n",
       "        0.78764252, 0.89024539, 0.58306249, 0.62842069, 0.78562784,\n",
       "        0.31794249, 0.47458953, 0.26689609, 0.64311684, 0.796155  ,\n",
       "        0.8144967 , 0.33765423, 0.87420276, 0.20659727, 0.23050084,\n",
       "        0.9419682 , 0.68538464, 0.95995758, 0.44471601, 0.25249776,\n",
       "        0.409638  , 1.24661489, 0.67276108, 0.46101521, 0.72488831,\n",
       "        0.75188894, 0.3161982 , 0.72303987, 0.65625803, 0.48087514,\n",
       "        0.8823973 , 0.83565066, 0.79906338, 0.68046826, 0.37812579,\n",
       "        0.5722518 , 0.78722355, 0.74188649, 0.21093543, 0.76436855,\n",
       "        0.90057629, 0.23274284, 0.99141015, 0.99304078, 0.56037477,\n",
       "        0.77006493, 0.64986233, 0.37546724, 0.88971461, 0.65071845,\n",
       "        0.74411445, 0.99919906, 0.82827032, 0.        , 0.26036448,\n",
       "        0.99078935, 0.88107015, 0.78789787, 0.58357292, 0.78921209,\n",
       "        0.41568997, 0.889278  , 1.03808385, 0.40594788, 0.73728826,\n",
       "        1.15036091, 0.87203827, 1.0179707 , 0.45584325, 0.0910333 ],\n",
       "       [0.48861854, 0.17240848, 0.11159194, 0.67459282, 0.59082818,\n",
       "        0.32658762, 0.72588959, 0.55056974, 0.19367649, 0.35779542,\n",
       "        0.22165567, 0.31751504, 0.75997778, 0.59258568, 0.19882413,\n",
       "        0.68378118, 0.13370461, 1.02778178, 0.78623577, 0.59030826,\n",
       "        0.5301693 , 0.05073723, 0.70113427, 0.43168102, 0.30633479,\n",
       "        0.73575181, 0.71464311, 0.46320503, 0.43671978, 0.4551287 ,\n",
       "        0.52828331, 0.63357333, 0.37434824, 0.36846428, 0.52610719,\n",
       "        0.09411461, 0.47740623, 0.34096611, 0.43557083, 0.61169835,\n",
       "        0.82121231, 0.07875683, 0.72822822, 0.07961454, 0.27443989,\n",
       "        0.80255456, 0.44879659, 0.69960187, 0.30098768, 0.02221042,\n",
       "        0.42704678, 1.04220285, 0.41467777, 0.41979545, 0.65879032,\n",
       "        0.50756096, 0.15428306, 0.47716422, 0.42008461, 0.39634013,\n",
       "        0.66089799, 0.8170702 , 0.80540765, 0.42379027, 0.38686437,\n",
       "        0.37543425, 0.65903408, 0.5334592 , 0.29686966, 0.55840194,\n",
       "        0.65355429, 0.19597922, 0.82667622, 0.84453796, 0.31941881,\n",
       "        0.55889587, 0.44323803, 0.16430363, 0.64052671, 0.65415223,\n",
       "        0.76082615, 0.82423278, 0.7442062 , 0.26036448, 0.        ,\n",
       "        0.8105345 , 0.62384265, 0.52763415, 0.54257572, 0.528849  ,\n",
       "        0.2192894 , 0.66358884, 0.80338845, 0.15356125, 0.47694724,\n",
       "        0.94407485, 0.62626408, 0.78806028, 0.50428378, 0.21114323],\n",
       "       [0.43059619, 0.71285658, 0.75098761, 0.21312385, 0.55291081,\n",
       "        0.55452512, 0.32993154, 0.47602558, 0.9071704 , 0.776657  ,\n",
       "        0.70393557, 0.50214252, 0.08125455, 0.69180306, 0.74031402,\n",
       "        0.86157672, 0.8610364 , 0.25333559, 0.41105659, 0.85977639,\n",
       "        0.35804359, 0.82553454, 0.14905238, 0.81799025, 0.75078845,\n",
       "        0.57696364, 0.17974897, 0.76048401, 0.57887944, 0.46985588,\n",
       "        0.7004331 , 0.77957434, 0.43897584, 0.68173677, 0.59214595,\n",
       "        0.85113666, 0.65542197, 0.80520556, 0.38007148, 0.19891269,\n",
       "        0.66519088, 0.7807005 , 0.17472051, 0.81003767, 0.79280852,\n",
       "        0.1782453 , 0.42661282, 0.66893929, 0.5460988 , 0.79984556,\n",
       "        0.69655438, 0.28164383, 0.7178157 , 0.59879057, 0.44813156,\n",
       "        0.43143162, 0.68375745, 0.83771223, 0.44439716, 0.54080472,\n",
       "        0.24553386, 0.58986421, 0.65996542, 0.73732824, 0.69672607,\n",
       "        0.43510128, 0.26858494, 0.29177591, 0.83161323, 0.26606212,\n",
       "        0.41680202, 0.75968201, 0.07222063, 0.14391956, 0.83096104,\n",
       "        0.27524452, 0.3721522 , 0.87995265, 0.86845378, 0.63216004,\n",
       "        0.67873807, 0.02740895, 0.38067117, 0.99078935, 0.8105345 ,\n",
       "        0.        , 0.5418111 , 0.62607309, 0.54453954, 0.64196136,\n",
       "        0.91744292, 0.26606336, 0.32300686, 0.78718065, 0.63534139,\n",
       "        0.2063646 , 0.40824518, 0.28332554, 0.73750872, 0.99311688],\n",
       "       [0.20216886, 0.65360815, 0.6456111 , 0.33059698, 0.03501517,\n",
       "        0.31048991, 0.73916393, 0.73048412, 0.59413891, 0.36042156,\n",
       "        0.40989457, 0.38845577, 0.46057218, 0.9214651 , 0.70055637,\n",
       "        0.32076107, 0.58233833, 0.61558974, 0.21967619, 0.33556996,\n",
       "        0.59524671, 0.60298127, 0.56028932, 0.35679188, 0.78251399,\n",
       "        0.11344105, 0.60660217, 0.28355845, 0.18776233, 0.64305542,\n",
       "        0.19258232, 0.24080082, 0.39391949, 0.28361971, 0.10956288,\n",
       "        0.59932371, 0.82343666, 0.84305339, 0.37254652, 0.44654297,\n",
       "        1.03147544, 0.55234349, 0.61487669, 0.67651854, 0.79214767,\n",
       "        0.67307329, 0.25577035, 0.13826231, 0.56584081, 0.62900608,\n",
       "        0.8212887 , 0.60957235, 0.27532869, 0.737741  , 0.78528854,\n",
       "        0.1813375 , 0.59835495, 0.35455132, 0.27602033, 0.66362501,\n",
       "        0.29803199, 0.97846815, 1.01978355, 0.28551996, 0.79485133,\n",
       "        0.42670235, 0.63600225, 0.34863699, 0.83219073, 0.35776042,\n",
       "        0.1275443 , 0.71515668, 0.60583118, 0.66933591, 0.43370789,\n",
       "        0.33587743, 0.37317952, 0.58233482, 0.3334153 , 0.91687694,\n",
       "        1.00859754, 0.56877663, 0.78930853, 0.88107015, 0.62384265,\n",
       "        0.5418111 , 0.        , 0.12937494, 0.78127512, 0.14069   ,\n",
       "        0.58891158, 0.27608561, 0.29302489, 0.50377469, 0.17314175,\n",
       "        0.5264168 , 0.13379767, 0.30942024, 0.89918349, 0.83337025],\n",
       "       [0.21719334, 0.58514386, 0.56669439, 0.41361627, 0.09691259,\n",
       "        0.24760006, 0.77542274, 0.73062102, 0.47437283, 0.23311624,\n",
       "        0.30671797, 0.34887675, 0.54587544, 0.90193422, 0.6327461 ,\n",
       "        0.25459485, 0.46914156, 0.73036248, 0.34757055, 0.23385399,\n",
       "        0.60761203, 0.50021077, 0.61703296, 0.22799213, 0.72532352,\n",
       "        0.22186657, 0.65978846, 0.15550788, 0.10792854, 0.63328282,\n",
       "        0.07458559, 0.17167269, 0.37581531, 0.16602638, 0.03398522,\n",
       "        0.49059315, 0.79537444, 0.78338942, 0.37503504, 0.49638494,\n",
       "        1.04085512, 0.4518492 , 0.66990405, 0.58869665, 0.72684259,\n",
       "        0.73557711, 0.25569175, 0.17260489, 0.52798141, 0.53603027,\n",
       "        0.78315744, 0.72734943, 0.14744605, 0.70956901, 0.80055582,\n",
       "        0.2060065 , 0.52887386, 0.22937038, 0.26349687, 0.63904611,\n",
       "        0.38183518, 0.99594493, 1.02791346, 0.15639145, 0.75233285,\n",
       "        0.41009324, 0.67254946, 0.38533389, 0.7647403 , 0.40184512,\n",
       "        0.2379153 , 0.64508397, 0.68374276, 0.74125064, 0.30672035,\n",
       "        0.3821022 , 0.37831496, 0.46562112, 0.24800701, 0.91090859,\n",
       "        1.00943525, 0.65185763, 0.82187908, 0.78789787, 0.52763415,\n",
       "        0.62607309, 0.12937494, 0.        , 0.77276766, 0.01590141,\n",
       "        0.46692683, 0.36406061, 0.414302  , 0.39427607, 0.05142542,\n",
       "        0.63966592, 0.23096438, 0.42510538, 0.86481731, 0.73227486],\n",
       "       [0.57947657, 0.37287904, 0.43428286, 0.57070181, 0.76578201,\n",
       "        0.54206798, 0.26773956, 0.06864575, 0.72384823, 0.76023515,\n",
       "        0.6072013 , 0.43153465, 0.55187995, 0.15312878, 0.36343787,\n",
       "        1.01806552, 0.66152419, 0.79679552, 0.80263345, 0.95966315,\n",
       "        0.20802893, 0.58594586, 0.39570314, 0.83475091, 0.2990008 ,\n",
       "        0.87818722, 0.36926417, 0.81961428, 0.66923922, 0.13960974,\n",
       "        0.82361977, 0.94003845, 0.39699851, 0.69986021, 0.74746487,\n",
       "        0.62881361, 0.12536535, 0.32830308, 0.40874234, 0.41341828,\n",
       "        0.2879151 , 0.57062207, 0.37802984, 0.48946614, 0.35307747,\n",
       "        0.42227755, 0.52769818, 0.91359126, 0.27578185, 0.52158104,\n",
       "        0.18554471, 0.826099  , 0.75877129, 0.12698605, 0.14517255,\n",
       "        0.59994049, 0.39180633, 0.87567895, 0.51259932, 0.1544835 ,\n",
       "        0.58509711, 0.27458632, 0.27276528, 0.77828215, 0.20797719,\n",
       "        0.36271118, 0.27855291, 0.4536178 , 0.37697548, 0.45787719,\n",
       "        0.71413953, 0.37693825, 0.51080715, 0.4816954 , 0.7691899 ,\n",
       "        0.47778625, 0.40817567, 0.69165636, 0.99554378, 0.13827088,\n",
       "        0.24125552, 0.5392484 , 0.2539458 , 0.58357292, 0.54257572,\n",
       "        0.54453954, 0.78127512, 0.77276766, 0.        , 0.78466916,\n",
       "        0.74648463, 0.6056948 , 0.75560669, 0.62888112, 0.74354281,\n",
       "        0.74685904, 0.68633115, 0.71908923, 0.19809336, 0.62927284],\n",
       "       [0.23230803, 0.59085954, 0.57088099, 0.42947545, 0.10951773,\n",
       "        0.25601575, 0.79018706, 0.74324948, 0.46972142, 0.2255484 ,\n",
       "        0.30739151, 0.35912487, 0.56174569, 0.91273627, 0.63844133,\n",
       "        0.24016094, 0.46654465, 0.74512804, 0.35986658, 0.21795259,\n",
       "        0.62124826, 0.50011913, 0.63262906, 0.21610839, 0.73226663,\n",
       "        0.22794439, 0.67526511, 0.14294196, 0.11731118, 0.64528749,\n",
       "        0.05883782, 0.15774841, 0.38790542, 0.16395693, 0.0498853 ,\n",
       "        0.48912196, 0.80548617, 0.78992051, 0.38862701, 0.51187972,\n",
       "        1.05388541, 0.4524079 , 0.68542848, 0.59133133, 0.73270552,\n",
       "        0.75126338, 0.26979519, 0.17078718, 0.53762572, 0.53785247,\n",
       "        0.79224781, 0.7418125 , 0.13991892, 0.71979598, 0.81415086,\n",
       "        0.22150657, 0.53460247, 0.21557064, 0.27674489, 0.64974436,\n",
       "        0.39767103, 1.00954149, 1.04086336, 0.147099  , 0.76098712,\n",
       "        0.42215079, 0.68740237, 0.40057034, 0.77024293, 0.41728826,\n",
       "        0.25241084, 0.6504284 , 0.6996392 , 0.75709507, 0.29913499,\n",
       "        0.39763515, 0.39205902, 0.46199485, 0.2324813 , 0.92287394,\n",
       "        1.02186013, 0.66775354, 0.83643669, 0.78921209, 0.528849  ,\n",
       "        0.64196136, 0.14069   , 0.01590141, 0.78466916, 0.        ,\n",
       "        0.46146992, 0.37981696, 0.42813787, 0.39291731, 0.05229249,\n",
       "        0.65452762, 0.24614579, 0.43960436, 0.87420294, 0.7320942 ],\n",
       "       [0.52264506, 0.38741072, 0.32896726, 0.7442022 , 0.55391195,\n",
       "        0.3675009 , 0.89795373, 0.74464725, 0.02621238, 0.23967791,\n",
       "        0.2154056 , 0.42124816, 0.85348654, 0.80901102, 0.41774539,\n",
       "        0.54361949, 0.08674265, 1.10302631, 0.78940614, 0.44121166,\n",
       "        0.69660007, 0.16905985, 0.83357679, 0.28857649, 0.52561989,\n",
       "        0.68878968, 0.85696623, 0.34710503, 0.4125028 , 0.64214158,\n",
       "        0.4368249 , 0.51561509, 0.48733961, 0.30541433, 0.47966385,\n",
       "        0.1251748 , 0.69257348, 0.55840291, 0.54077213, 0.72617212,\n",
       "        1.03074564, 0.17589924, 0.87037601, 0.29555758, 0.49218526,\n",
       "        0.94630221, 0.50291507, 0.6222119 , 0.48260679, 0.24135575,\n",
       "        0.64486682, 1.1108811 , 0.32275208, 0.62887091, 0.84972652,\n",
       "        0.53471259, 0.35596096, 0.32722589, 0.4794474 , 0.5942392 ,\n",
       "        0.72236702, 1.02016318, 1.01507946, 0.32084485, 0.60472034,\n",
       "        0.50258703, 0.81757906, 0.62591365, 0.51111316, 0.65176365,\n",
       "        0.65920477, 0.41525968, 0.94820449, 0.97942216, 0.17044004,\n",
       "        0.6449935 , 0.54861756, 0.05574945, 0.49360421, 0.86567621,\n",
       "        0.97322272, 0.93596885, 0.9240734 , 0.41568997, 0.2192894 ,\n",
       "        0.91744292, 0.58891158, 0.46692683, 0.74648463, 0.46146992,\n",
       "        0.        , 0.71754669, 0.83101195, 0.13310366, 0.41753722,\n",
       "        1.01364789, 0.63775671, 0.8262617 , 0.72318258, 0.33241475],\n",
       "       [0.19588694, 0.61905637, 0.63750081, 0.05539471, 0.28700409,\n",
       "        0.35337207, 0.49447788, 0.5430324 , 0.71282713, 0.53993911,\n",
       "        0.50369369, 0.35010672, 0.18482751, 0.75761182, 0.65874155,\n",
       "        0.59551356, 0.67802997, 0.38757115, 0.19835975, 0.59653987,\n",
       "        0.39892931, 0.66384227, 0.29874037, 0.56983476, 0.70751907,\n",
       "        0.32355239, 0.34698762, 0.50661048, 0.3333001 , 0.4829836 ,\n",
       "        0.43863958, 0.51361511, 0.30818735, 0.44463639, 0.33051744,\n",
       "        0.67861695, 0.68244033, 0.76866174, 0.25180317, 0.20431866,\n",
       "        0.81415672, 0.61340491, 0.35299639, 0.68749385, 0.73519282,\n",
       "        0.40332242, 0.21851315, 0.40637892, 0.47585729, 0.65930501,\n",
       "        0.70116056, 0.39352496, 0.47088339, 0.60424852, 0.56862125,\n",
       "        0.18768118, 0.57405467, 0.58411843, 0.24570293, 0.53081887,\n",
       "        0.02453942, 0.75096251, 0.80468457, 0.48888644, 0.68622517,\n",
       "        0.32569464, 0.39607593, 0.16273283, 0.77700003, 0.1505754 ,\n",
       "        0.15363685, 0.67715492, 0.32988788, 0.39461062, 0.60269515,\n",
       "        0.134101  , 0.24638043, 0.69037071, 0.60311619, 0.72868236,\n",
       "        0.8052484 , 0.29286971, 0.54749179, 0.889278  , 0.66358884,\n",
       "        0.26606336, 0.27608561, 0.36406061, 0.6056948 , 0.37981696,\n",
       "        0.71754669, 0.        , 0.15746914, 0.59772877, 0.37948371,\n",
       "        0.29701075, 0.14232297, 0.12995376, 0.76576813, 0.86825979],\n",
       "       [0.31668613, 0.77197438, 0.78668518, 0.18490865, 0.31941095,\n",
       "        0.48139094, 0.61488892, 0.69091634, 0.8299178 , 0.62740754,\n",
       "        0.62402723, 0.49779247, 0.25412386, 0.90842704, 0.81289994,\n",
       "        0.60010256, 0.80238188, 0.32535606, 0.09446693, 0.62765042,\n",
       "        0.54762501, 0.79826919, 0.41132776, 0.6399532 , 0.86453228,\n",
       "        0.28054187, 0.45867735, 0.56921224, 0.42307896, 0.63743947,\n",
       "        0.48384005, 0.52656022, 0.46187808, 0.53679002, 0.38555728,\n",
       "        0.80807772, 0.83749785, 0.92579107, 0.40768262, 0.34422778,\n",
       "        0.94576319, 0.74677621, 0.46105295, 0.83386928, 0.89122998,\n",
       "        0.49306586, 0.35492765, 0.3879178 , 0.63263023, 0.801227  ,\n",
       "        0.8579358 , 0.31706073, 0.5480173 , 0.76052255, 0.70504673,\n",
       "        0.30027646, 0.72497142, 0.64363573, 0.38391166, 0.68755645,\n",
       "        0.17357532, 0.87764153, 0.93758111, 0.56253537, 0.84353342,\n",
       "        0.48151266, 0.52440974, 0.32014995, 0.93307783, 0.30676617,\n",
       "        0.1785149 , 0.83102714, 0.39517803, 0.46668191, 0.69680592,\n",
       "        0.29134526, 0.4026507 , 0.8108284 , 0.62090705, 0.87351686,\n",
       "        0.94357474, 0.34939071, 0.66855743, 1.03808385, 0.80338845,\n",
       "        0.32300686, 0.29302489, 0.414302  , 0.75560669, 0.42813787,\n",
       "        0.83101195, 0.15746914, 0.        , 0.7208923 , 0.44632601,\n",
       "        0.23934727, 0.19473541, 0.04089215, 0.92119194, 1.01166189],\n",
       "       [0.40622418, 0.29074805, 0.24114387, 0.62040914, 0.46923529,\n",
       "        0.24439545, 0.76718916, 0.62138972, 0.1200883 , 0.20492357,\n",
       "        0.09730594, 0.28858707, 0.72519776, 0.70528913, 0.32983156,\n",
       "        0.53130763, 0.08153762, 0.97974488, 0.68860422, 0.43687257,\n",
       "        0.56566962, 0.11230797, 0.70067501, 0.27812214, 0.43960154,\n",
       "        0.6115835 , 0.72386258, 0.31235059, 0.31756229, 0.51696858,\n",
       "        0.38426297, 0.48432395, 0.35456637, 0.22900179, 0.3987688 ,\n",
       "        0.09632698, 0.58767143, 0.4826634 , 0.40892527, 0.59433067,\n",
       "        0.91587421, 0.07756558, 0.73727303, 0.23078276, 0.41660977,\n",
       "        0.81319902, 0.38003702, 0.56263904, 0.35816876, 0.17033128,\n",
       "        0.54663303, 0.98933276, 0.26792096, 0.51710391, 0.72437688,\n",
       "        0.42090911, 0.24800858, 0.32361101, 0.35474039, 0.47477665,\n",
       "        0.60049123, 0.90016016, 0.90042216, 0.2746797 , 0.50725379,\n",
       "        0.36948372, 0.6852281 , 0.49641774, 0.44394758, 0.52232054,\n",
       "        0.55585435, 0.33267918, 0.81624048, 0.8465462 , 0.16778121,\n",
       "        0.51676911, 0.41680785, 0.09347361, 0.48731807, 0.75392513,\n",
       "        0.86182609, 0.8050915 , 0.79487473, 0.40594788, 0.15356125,\n",
       "        0.78718065, 0.50377469, 0.39427607, 0.62888112, 0.39291731,\n",
       "        0.13310366, 0.59772877, 0.7208923 , 0.        , 0.34285167,\n",
       "        0.89147031, 0.53169487, 0.71237938, 0.62850122, 0.34095801],\n",
       "       [0.2116228 , 0.53941932, 0.51873878, 0.42554754, 0.13861303,\n",
       "        0.20827936, 0.76258912, 0.70465501, 0.42425057, 0.18750767,\n",
       "        0.25570934, 0.31451832, 0.55655402, 0.86846078, 0.58697261,\n",
       "        0.27513285, 0.4179055 , 0.75566686, 0.38615842, 0.23443073,\n",
       "        0.58720603, 0.44896015, 0.61408672, 0.19430345, 0.68177913,\n",
       "        0.27189042, 0.65487213, 0.1272497 , 0.07490336, 0.60469339,\n",
       "        0.08067945, 0.19669185, 0.34841991, 0.11482945, 0.06397785,\n",
       "        0.43917007, 0.7597249 , 0.73903616, 0.35536119, 0.49234441,\n",
       "        1.0165148 , 0.40082266, 0.66565961, 0.53906113, 0.68132336,\n",
       "        0.73394736, 0.24065453, 0.22269216, 0.49121303, 0.48573635,\n",
       "        0.74456318, 0.75477656, 0.10331428, 0.67435739, 0.77953209,\n",
       "        0.20556319, 0.48319292, 0.20467224, 0.24293435, 0.605474  ,\n",
       "        0.3949122 , 0.97470173, 1.00317996, 0.11631101, 0.7126203 ,\n",
       "        0.38237968, 0.66071519, 0.37867891, 0.71862659, 0.39765529,\n",
       "        0.26789125, 0.59874639, 0.6894802 , 0.74376035, 0.26061944,\n",
       "        0.3793807 , 0.35954903, 0.41481825, 0.25879968, 0.88180923,\n",
       "        0.98223708, 0.66031453, 0.80727134, 0.73728826, 0.47694724,\n",
       "        0.63534139, 0.17314175, 0.05142542, 0.74354281, 0.05229249,\n",
       "        0.41753722, 0.37948371, 0.44632601, 0.34285167, 0.        ,\n",
       "        0.66444217, 0.25593017, 0.45330188, 0.8269838 , 0.68101572],\n",
       "       [0.49289438, 0.87251998, 0.90198536, 0.27159112, 0.54910487,\n",
       "        0.64743906, 0.53492057, 0.67821458, 1.00809098, 0.83430493,\n",
       "        0.79897695, 0.62657512, 0.20229243, 0.89602406, 0.9057639 ,\n",
       "        0.83890934, 0.97075551, 0.09137514, 0.33132045, 0.86192117,\n",
       "        0.55169296, 0.949993  , 0.35206395, 0.85824955, 0.93094662,\n",
       "        0.51930818, 0.38599684, 0.79097154, 0.6266858 , 0.66072518,\n",
       "        0.71226131, 0.76402321, 0.57225233, 0.73963798, 0.60828505,\n",
       "        0.96845646, 0.85324144, 0.98832559, 0.51080473, 0.36167814,\n",
       "        0.86824731, 0.90100141, 0.38106219, 0.95724388, 0.96849474,\n",
       "        0.37474585, 0.51157238, 0.62726488, 0.71179128, 0.93702788,\n",
       "        0.88990374, 0.09828596, 0.76141516, 0.79079043, 0.65448502,\n",
       "        0.48408215, 0.83545516, 0.86751082, 0.53683519, 0.72728875,\n",
       "        0.29132898, 0.7914697 , 0.86371501, 0.77818364, 0.88614352,\n",
       "        0.57882351, 0.47391117, 0.41164105, 1.00889421, 0.38764049,\n",
       "        0.40265583, 0.92503689, 0.26216281, 0.32591005, 0.89873665,\n",
       "        0.38531732, 0.50350771, 0.9846504 , 0.85807126, 0.83832898,\n",
       "        0.88433419, 0.21971769, 0.58445042, 1.15036091, 0.94407485,\n",
       "        0.2063646 , 0.5264168 , 0.63966592, 0.74685904, 0.65452762,\n",
       "        1.01364789, 0.29701075, 0.23934727, 0.89147031, 0.66444217,\n",
       "        0.        , 0.40926501, 0.2170396 , 0.93648097, 1.14095178],\n",
       "       [0.141413  , 0.61980164, 0.62448798, 0.19682875, 0.14616438,\n",
       "        0.29975751, 0.61631164, 0.62999426, 0.63765067, 0.43331188,\n",
       "        0.43440075, 0.3415402 , 0.32699072, 0.83295994, 0.66431384,\n",
       "        0.45349017, 0.6131807 , 0.50027549, 0.15998378, 0.459136  ,\n",
       "        0.48911811, 0.61584278, 0.43063789, 0.45020913, 0.73215498,\n",
       "        0.1970023 , 0.47779774, 0.38185913, 0.22834752, 0.55244195,\n",
       "        0.30454767, 0.37208195, 0.32499824, 0.34208779, 0.19909025,\n",
       "        0.62179601, 0.74386461, 0.79388118, 0.2865697 , 0.32148611,\n",
       "        0.92091424, 0.56401651, 0.48536107, 0.66555597, 0.7503884 ,\n",
       "        0.54112108, 0.19231058, 0.26662445, 0.50362219, 0.62672243,\n",
       "        0.75093195, 0.49885223, 0.35553723, 0.66022396, 0.67356912,\n",
       "        0.12019461, 0.56806335, 0.45825183, 0.22027899, 0.58503047,\n",
       "        0.16429226, 0.86347498, 0.91009881, 0.37111391, 0.72928581,\n",
       "        0.353249  , 0.51419536, 0.23611548, 0.79187087, 0.23938697,\n",
       "        0.03010683, 0.6810338 , 0.47203804, 0.53583652, 0.50219355,\n",
       "        0.21739198, 0.28474627, 0.61983358, 0.46271348, 0.81790028,\n",
       "        0.90379443, 0.43513501, 0.66779423, 0.87203827, 0.62626408,\n",
       "        0.40824518, 0.13379767, 0.23096438, 0.68633115, 0.24614579,\n",
       "        0.63775671, 0.14232297, 0.19473541, 0.53169487, 0.25593017,\n",
       "        0.40926501, 0.        , 0.1976617 , 0.8238346 , 0.83700645],\n",
       "       [0.30620391, 0.74883054, 0.7662183 , 0.14912782, 0.33281951,\n",
       "        0.47012593, 0.57430501, 0.65383808, 0.82388676, 0.63014263,\n",
       "        0.61624523, 0.47789914, 0.2133783 , 0.87209219, 0.78868024,\n",
       "        0.62315206, 0.79360728, 0.30635342, 0.12943254, 0.64497306,\n",
       "        0.51106711, 0.78538707, 0.37067497, 0.64759803, 0.83657832,\n",
       "        0.30973543, 0.41792656, 0.57841027, 0.4235181 , 0.6032222 ,\n",
       "        0.49670981, 0.54730956, 0.43798904, 0.53760413, 0.39472394,\n",
       "        0.79729988, 0.80346275, 0.8975313 , 0.38171671, 0.30652697,\n",
       "        0.90570593, 0.73426048, 0.42021747, 0.81513474, 0.86492622,\n",
       "        0.45237162, 0.33951456, 0.41391136, 0.60526609, 0.7848526 ,\n",
       "        0.82567586, 0.30224693, 0.55317639, 0.72768015, 0.66569946,\n",
       "        0.2919877 , 0.70331411, 0.6540925 , 0.36802503, 0.65539689,\n",
       "        0.14228653, 0.83723884, 0.89764985, 0.5687506 , 0.81244208,\n",
       "        0.45559019, 0.48446352, 0.29046905, 0.90671135, 0.27512802,\n",
       "        0.18720131, 0.80707257, 0.35539036, 0.42674153, 0.69789356,\n",
       "        0.26127166, 0.37621093, 0.80353357, 0.64121628, 0.83545419,\n",
       "        0.90428855, 0.30993806, 0.6279641 , 1.0179707 , 0.78806028,\n",
       "        0.28332554, 0.30942024, 0.42510538, 0.71908923, 0.43960436,\n",
       "        0.8262617 , 0.12995376, 0.04089215, 0.71237938, 0.45330188,\n",
       "        0.2170396 , 0.1976617 , 0.        , 0.88738412, 0.99469112],\n",
       "       [0.69949258, 0.33851982, 0.39443204, 0.73841529, 0.87790381,\n",
       "        0.61872324, 0.46335534, 0.26407514, 0.69782202, 0.79851504,\n",
       "        0.63748401, 0.51696014, 0.73757381, 0.10926382, 0.30548543,\n",
       "        1.09238485, 0.63673613, 0.99068491, 0.95661178, 1.01941637,\n",
       "        0.38606825, 0.55414039, 0.58851362, 0.87672457, 0.20041096,\n",
       "        1.00491418, 0.56533861, 0.87812899, 0.75704972, 0.28431083,\n",
       "        0.90298156, 1.02112259, 0.50565194, 0.75884115, 0.84497127,\n",
       "        0.59819423, 0.08425225, 0.1907378 , 0.53726629, 0.58901109,\n",
       "        0.35967975, 0.55667055, 0.57467703, 0.43245883, 0.24527977,\n",
       "        0.62036896, 0.64463163, 1.0221289 , 0.33700479, 0.48210022,\n",
       "        0.08396023, 1.01898539, 0.81793831, 0.16365293, 0.33390754,\n",
       "        0.72172273, 0.38190504, 0.92118971, 0.62316595, 0.23883575,\n",
       "        0.74774715, 0.3893014 , 0.34449827, 0.83510311, 0.12160863,\n",
       "        0.47383435, 0.47497027, 0.60508397, 0.24829577, 0.61519527,\n",
       "        0.85329287, 0.30945006, 0.70740533, 0.67977785, 0.78895303,\n",
       "        0.63245141, 0.53921869, 0.66769632, 1.06175552, 0.20207092,\n",
       "        0.28851819, 0.73395779, 0.44281068, 0.45584325, 0.50428378,\n",
       "        0.73750872, 0.89918349, 0.86481731, 0.19809336, 0.87420294,\n",
       "        0.72318258, 0.76576813, 0.92119194, 0.62850122, 0.8269838 ,\n",
       "        0.93648097, 0.8238346 , 0.88738412, 0.        , 0.52241185],\n",
       "       [0.69851881, 0.28619301, 0.24214114, 0.87502724, 0.7999223 ,\n",
       "        0.53753087, 0.85748566, 0.6581399 , 0.30929522, 0.54001663,\n",
       "        0.42595192, 0.51854044, 0.95008799, 0.62818966, 0.27371299,\n",
       "        0.86335475, 0.27903319, 1.22171581, 0.99698904, 0.76394585,\n",
       "        0.67791162, 0.23206433, 0.87076793, 0.60552556, 0.33537253,\n",
       "        0.94451042, 0.87638272, 0.6500856 , 0.64573892, 0.58217195,\n",
       "        0.72521159, 0.82284616, 0.56881942, 0.56884783, 0.73328466,\n",
       "        0.24718721, 0.52980588, 0.33175083, 0.63018564, 0.79530537,\n",
       "        0.87654287, 0.28135761, 0.88966728, 0.18395334, 0.28255393,\n",
       "        0.96044986, 0.65674401, 0.90255254, 0.45283044, 0.21066496,\n",
       "        0.46658699, 1.23843702, 0.60865723, 0.50315707, 0.76562758,\n",
       "        0.7178865 , 0.30935944, 0.64850089, 0.62775172, 0.51035173,\n",
       "        0.86380093, 0.89133318, 0.86086523, 0.61440265, 0.43125785,\n",
       "        0.56326533, 0.80835541, 0.7294459 , 0.27417182, 0.75331578,\n",
       "        0.86448684, 0.25688235, 1.00033008, 1.00843092, 0.48543994,\n",
       "        0.75644828, 0.63744825, 0.29701586, 0.81597472, 0.70992949,\n",
       "        0.80791462, 1.00386989, 0.86470849, 0.0910333 , 0.21114323,\n",
       "        0.99311688, 0.83337025, 0.73227486, 0.62927284, 0.7320942 ,\n",
       "        0.33241475, 0.86825979, 1.01166189, 0.34095801, 0.68101572,\n",
       "        1.14095178, 0.83700645, 0.99469112, 0.52241185, 0.        ]])"
      ]
     },
     "execution_count": 75,
     "metadata": {},
     "output_type": "execute_result"
    }
   ],
   "source": [
    "points = np.random.random((100,2))\n",
    "\n",
    "diff = points[:, None, :] - points[None, :, :]\n",
    "\n",
    "np.linalg.norm(diff, axis=-1) # another option is to use scipy.spatial.distance.cdist"
   ]
  },
  {
   "cell_type": "markdown",
   "id": "8af67087",
   "metadata": {},
   "source": [
    "#### 53. How to convert a float (32 bits) array into an integer (32 bits) array in place?"
   ]
  },
  {
   "cell_type": "code",
   "execution_count": 76,
   "id": "793a36f3",
   "metadata": {},
   "outputs": [
    {
     "data": {
      "text/plain": [
       "array([3, 9, 9, 6, 6, 5, 3, 3, 7, 7, 8, 8, 1, 5, 1, 5, 4, 8, 4, 2],\n",
       "      dtype=int32)"
      ]
     },
     "execution_count": 76,
     "metadata": {},
     "output_type": "execute_result"
    }
   ],
   "source": [
    "a = np.random.uniform(low=1, high=10, size=20).astype(np.int32)\n",
    "a"
   ]
  },
  {
   "cell_type": "markdown",
   "id": "555fc48f",
   "metadata": {},
   "source": [
    "#### 54. How to read the following file?\n",
    "```\n",
    "1, 2, 3, 4, 5\n",
    "6,  ,  , 7, 8\n",
    " ,  , 9,10,11\n",
    "```"
   ]
  },
  {
   "cell_type": "code",
   "execution_count": 78,
   "id": "935ab547",
   "metadata": {},
   "outputs": [
    {
     "data": {
      "text/plain": [
       "array([[ 1.,  2.,  3.,  4.,  5.],\n",
       "       [ 6., nan, nan,  7.,  8.],\n",
       "       [nan, nan,  9., 10., 11.]])"
      ]
     },
     "execution_count": 78,
     "metadata": {},
     "output_type": "execute_result"
    }
   ],
   "source": [
    "from io import StringIO\n",
    "text = StringIO('''1, 2, 3, 4, 5\n",
    "                6,  ,  , 7, 8\n",
    "                ,  , 9,10,11\n",
    "                ''')\n",
    "np.genfromtxt(text, delimiter=\",\")"
   ]
  },
  {
   "cell_type": "markdown",
   "id": "42e08d89",
   "metadata": {},
   "source": [
    "#### 55. What is the equivalent of enumerate for numpy arrays?"
   ]
  },
  {
   "cell_type": "code",
   "execution_count": 82,
   "id": "ae0d0705",
   "metadata": {},
   "outputs": [
    {
     "name": "stdout",
     "output_type": "stream",
     "text": [
      "(0,) 20\n",
      "(1,) 19\n",
      "(2,) 18\n",
      "(3,) 17\n",
      "(4,) 16\n",
      "(5,) 15\n",
      "(6,) 14\n",
      "(7,) 13\n",
      "(8,) 12\n",
      "(9,) 11\n"
     ]
    }
   ],
   "source": [
    "for idx, value in np.ndenumerate(np.arange(20, 10, -1)):\n",
    "    print(idx, value)"
   ]
  },
  {
   "cell_type": "markdown",
   "id": "499eed89",
   "metadata": {},
   "source": [
    "#### 56. Generate a generic 2D Gaussian-like array \n"
   ]
  },
  {
   "cell_type": "code",
   "execution_count": 83,
   "id": "b4d40859",
   "metadata": {},
   "outputs": [
    {
     "data": {
      "text/plain": [
       "array([[0.00296902, 0.01330621, 0.02193823, 0.01330621, 0.00296902],\n",
       "       [0.01330621, 0.0596343 , 0.09832033, 0.0596343 , 0.01330621],\n",
       "       [0.02193823, 0.09832033, 0.16210282, 0.09832033, 0.02193823],\n",
       "       [0.01330621, 0.0596343 , 0.09832033, 0.0596343 , 0.01330621],\n",
       "       [0.00296902, 0.01330621, 0.02193823, 0.01330621, 0.00296902]])"
      ]
     },
     "execution_count": 83,
     "metadata": {},
     "output_type": "execute_result"
    }
   ],
   "source": [
    "def generate_2d_gaussian(kernel_size, sigma=1, mu=0):\n",
    "    \"\"\"\n",
    "    Generates a 2D Gaussian array.\n",
    "\n",
    "    Args:\n",
    "        kernel_size (int): The size of the square Gaussian array (e.g., 5 for a 5x5 array).\n",
    "        sigma (float): The standard deviation of the Gaussian distribution.\n",
    "        mu (float): The mean of the Gaussian distribution (typically 0 for centering).\n",
    "\n",
    "    Returns:\n",
    "        numpy.ndarray: A 2D NumPy array representing the Gaussian.\n",
    "    \"\"\"\n",
    "    # Create 1D arrays for x and y coordinates, centered around 0\n",
    "    x = np.linspace(-(kernel_size // 2), kernel_size // 2, kernel_size)\n",
    "    y = np.linspace(-(kernel_size // 2), kernel_size // 2, kernel_size)\n",
    "\n",
    "    # Create 2D coordinate grids\n",
    "    x_grid, y_grid = np.meshgrid(x, y)\n",
    "\n",
    "    # Calculate the distance from the center\n",
    "    distance_squared = x_grid**2 + y_grid**2\n",
    "\n",
    "    # Apply the Gaussian function\n",
    "    gaussian_array = np.exp(-(distance_squared / (2.0 * sigma**2)))\n",
    "\n",
    "    # Normalize the array so its sum is 1 (optional, for kernels)\n",
    "    gaussian_array /= np.sum(gaussian_array)\n",
    "\n",
    "    return gaussian_array\n",
    "kernel_size = 5\n",
    "sigma_value = 1.0\n",
    "generate_2d_gaussian(kernel_size, sigma=sigma_value)"
   ]
  },
  {
   "cell_type": "markdown",
   "id": "00fb63a5",
   "metadata": {},
   "source": [
    "#### 57. How to randomly place p elements in a 2D array?"
   ]
  },
  {
   "cell_type": "code",
   "execution_count": null,
   "id": "b4963bca",
   "metadata": {},
   "outputs": [
    {
     "data": {
      "text/plain": [
       "array([[   0,    1],\n",
       "       [   2,    3],\n",
       "       [   4,    5],\n",
       "       [1000,    7],\n",
       "       [   8,    9],\n",
       "       [  10,   11],\n",
       "       [  12,   13],\n",
       "       [  14,   15],\n",
       "       [  16,   17],\n",
       "       [  18,   19]])"
      ]
     },
     "execution_count": 89,
     "metadata": {},
     "output_type": "execute_result"
    }
   ],
   "source": [
    "a = np.arange(20).reshape(-1, 2)\n",
    "idx = np.random.randint(0, len(a))\n",
    "# a[idx] = 1000 # will not work because, not sure if use for row or column\n",
    "# alternate solution would be flatten it, then put the index,\n",
    "#  then shape it back, but that is not as elegant at np.put\n",
    "np.put(a, idx, 1000)\n",
    "a"
   ]
  },
  {
   "cell_type": "markdown",
   "id": "d6d0b16e",
   "metadata": {},
   "source": [
    "#### 58. Subtract the mean of each row of a matrix"
   ]
  },
  {
   "cell_type": "code",
   "execution_count": null,
   "id": "3d4ecf68",
   "metadata": {},
   "outputs": [],
   "source": [
    "a = np.arange(20).reshape(-1, 2)\n",
    "a - a.mean(axis=1, keepdims=True)\n",
    "# other way is longer and use np.expand_dims\n",
    "# a - np.expand_dims(a.mean(axis=1), axis=1)"
   ]
  },
  {
   "cell_type": "markdown",
   "id": "8c6a27d0",
   "metadata": {},
   "source": [
    "#### 59. How to sort an array by the nth column?"
   ]
  },
  {
   "cell_type": "code",
   "execution_count": null,
   "id": "c63ccf9b",
   "metadata": {},
   "outputs": [
    {
     "data": {
      "text/plain": [
       "array([[3.7798759 , 7.05084364, 2.48724154, 3.30252529],\n",
       "       [5.91888739, 3.50218247, 7.08181196, 4.81666988],\n",
       "       [1.46604822, 5.13326169, 2.33228072, 5.81305417],\n",
       "       [4.26091475, 2.22576418, 3.96651602, 8.91896909],\n",
       "       [8.63138522, 8.80359969, 2.36685194, 9.07693706]])"
      ]
     },
     "execution_count": 90,
     "metadata": {},
     "output_type": "execute_result"
    }
   ],
   "source": [
    "# create a random matrix\n",
    "a = np.random.uniform(0, 10, size=20).reshape((-1, 4))\n",
    "# use np.argsort to sort the index for any column, then use that as the indices for the main matrix\n",
    "column = 3 # get the fourth column, only that column should be sorted\n",
    "a[np.argsort(a[:, column], axis=0)]"
   ]
  },
  {
   "cell_type": "markdown",
   "id": "f801fe8d",
   "metadata": {},
   "source": [
    "#### 60. How to tell if a given 2D array has null columns?"
   ]
  },
  {
   "cell_type": "code",
   "execution_count": null,
   "id": "bfb12145",
   "metadata": {},
   "outputs": [],
   "source": []
  },
  {
   "cell_type": "markdown",
   "id": "faf954a2",
   "metadata": {},
   "source": [
    "#### 61. Find the nearest value from a given value in an array"
   ]
  },
  {
   "cell_type": "code",
   "execution_count": null,
   "id": "aff339dd",
   "metadata": {},
   "outputs": [],
   "source": []
  },
  {
   "cell_type": "markdown",
   "id": "816e7bb2",
   "metadata": {},
   "source": [
    "#### 62. Considering two arrays with shape (1,3) and (3,1), how to compute their sum using an iterator?"
   ]
  },
  {
   "cell_type": "code",
   "execution_count": null,
   "id": "fe70ca42",
   "metadata": {},
   "outputs": [],
   "source": []
  },
  {
   "cell_type": "markdown",
   "id": "d877b5da",
   "metadata": {},
   "source": [
    "#### 63. Create an array class that has a name attribute"
   ]
  },
  {
   "cell_type": "code",
   "execution_count": null,
   "id": "2940e6e1",
   "metadata": {},
   "outputs": [],
   "source": []
  },
  {
   "cell_type": "markdown",
   "id": "b0d9ca7e",
   "metadata": {},
   "source": [
    "#### 64. Consider a given vector, how to add 1 to each element indexed by a second vector (be careful with repeated indices)?"
   ]
  },
  {
   "cell_type": "code",
   "execution_count": null,
   "id": "ef36f367",
   "metadata": {},
   "outputs": [],
   "source": []
  },
  {
   "cell_type": "markdown",
   "id": "3bfc1734",
   "metadata": {},
   "source": [
    "#### 65. How to accumulate elements of a vector (X) to an array (F) based on an index list (I)?"
   ]
  },
  {
   "cell_type": "code",
   "execution_count": null,
   "id": "83ea1300",
   "metadata": {},
   "outputs": [],
   "source": []
  },
  {
   "cell_type": "markdown",
   "id": "91ecd911",
   "metadata": {},
   "source": [
    "#### 66. Considering a (w,h,3) image of (dtype=ubyte), compute the number of unique colors"
   ]
  },
  {
   "cell_type": "code",
   "execution_count": null,
   "id": "3cc0a69e",
   "metadata": {},
   "outputs": [],
   "source": []
  },
  {
   "cell_type": "markdown",
   "id": "d4affecb",
   "metadata": {},
   "source": [
    "#### 67. Considering a four dimensions array, how to get sum over the last two axis at once?"
   ]
  },
  {
   "cell_type": "code",
   "execution_count": null,
   "id": "af6f3c2a",
   "metadata": {},
   "outputs": [],
   "source": []
  },
  {
   "cell_type": "markdown",
   "id": "2dc40646",
   "metadata": {},
   "source": [
    "#### 68. Considering a one-dimensional vector D, how to compute means of subsets of D using a vector S of same size describing subset  indices?"
   ]
  },
  {
   "cell_type": "code",
   "execution_count": null,
   "id": "de7fa16c",
   "metadata": {},
   "outputs": [],
   "source": []
  },
  {
   "cell_type": "markdown",
   "id": "d175ddae",
   "metadata": {},
   "source": [
    "#### 69. How to get the diagonal of a dot product?"
   ]
  },
  {
   "cell_type": "code",
   "execution_count": null,
   "id": "af483df9",
   "metadata": {},
   "outputs": [],
   "source": []
  },
  {
   "cell_type": "markdown",
   "id": "24fab3a8",
   "metadata": {},
   "source": [
    "#### 70. Consider the vector [1, 2, 3, 4, 5], how to build a new vector with 3 consecutive zeros interleaved between each value?"
   ]
  },
  {
   "cell_type": "code",
   "execution_count": null,
   "id": "03d8313c",
   "metadata": {},
   "outputs": [],
   "source": []
  },
  {
   "cell_type": "markdown",
   "id": "97ca8beb",
   "metadata": {},
   "source": [
    "#### 71. Consider an array of dimension (5,5,3), how to multiply it by an array with dimensions (5,5)?"
   ]
  },
  {
   "cell_type": "code",
   "execution_count": null,
   "id": "a6e12198",
   "metadata": {},
   "outputs": [],
   "source": []
  },
  {
   "cell_type": "markdown",
   "id": "7a4cca99",
   "metadata": {},
   "source": [
    "#### 72. How to swap two rows of an array?"
   ]
  },
  {
   "cell_type": "code",
   "execution_count": null,
   "id": "d9e810e0",
   "metadata": {},
   "outputs": [],
   "source": []
  },
  {
   "cell_type": "markdown",
   "id": "be5b46c6",
   "metadata": {},
   "source": [
    "#### 73. Consider a set of 10 triplets describing 10 triangles (with shared vertices), find the set of unique line segments composing all the  triangles "
   ]
  },
  {
   "cell_type": "code",
   "execution_count": null,
   "id": "ab9a5d06",
   "metadata": {},
   "outputs": [],
   "source": []
  },
  {
   "cell_type": "markdown",
   "id": "553e3110",
   "metadata": {},
   "source": [
    "#### 74. Given a sorted array C that corresponds to a bincount, how to produce an array A such that np.bincount(A) == C?"
   ]
  },
  {
   "cell_type": "code",
   "execution_count": null,
   "id": "9e3e0876",
   "metadata": {},
   "outputs": [],
   "source": []
  },
  {
   "cell_type": "markdown",
   "id": "118ff4c2",
   "metadata": {},
   "source": [
    "#### 75. How to compute averages using a sliding window over an array?"
   ]
  },
  {
   "cell_type": "code",
   "execution_count": null,
   "id": "d8bfbafe",
   "metadata": {},
   "outputs": [],
   "source": []
  },
  {
   "cell_type": "markdown",
   "id": "2d93a3b8",
   "metadata": {},
   "source": [
    "#### 76. Consider a one-dimensional array Z, build a two-dimensional array whose first row is (Z[0],Z[1],Z[2]) and each subsequent row is  shifted by 1 (last row should be (Z[-3],Z[-2],Z[-1])\n"
   ]
  },
  {
   "cell_type": "code",
   "execution_count": null,
   "id": "7cf76f1b",
   "metadata": {},
   "outputs": [],
   "source": []
  },
  {
   "cell_type": "markdown",
   "id": "dcbe125f",
   "metadata": {},
   "source": [
    "#### 77. How to negate a boolean, or to change the sign of a float inplace?"
   ]
  },
  {
   "cell_type": "code",
   "execution_count": null,
   "id": "f4221c43",
   "metadata": {},
   "outputs": [],
   "source": []
  },
  {
   "cell_type": "markdown",
   "id": "e6efb822",
   "metadata": {},
   "source": [
    "#### 78. Consider 2 sets of points P0,P1 describing lines (2d) and a point p, how to compute distance from p to each line i (P0[i],P1[i])?"
   ]
  },
  {
   "cell_type": "code",
   "execution_count": null,
   "id": "c8adc3ac",
   "metadata": {},
   "outputs": [],
   "source": []
  },
  {
   "cell_type": "markdown",
   "id": "994014b8",
   "metadata": {},
   "source": [
    "#### 79. Consider 2 sets of points P0,P1 describing lines (2d) and a set of points P, how to compute distance from each point j (P[j]) to each line i (P0[i],P1[i])?\n"
   ]
  },
  {
   "cell_type": "code",
   "execution_count": null,
   "id": "ac92fdd6",
   "metadata": {},
   "outputs": [],
   "source": []
  },
  {
   "cell_type": "markdown",
   "id": "d0bee460",
   "metadata": {},
   "source": [
    "#### 80. Consider an arbitrary array, write a function that extracts a subpart with a fixed shape and centered on a given element (pad with a `fill` value when necessary)\n"
   ]
  },
  {
   "cell_type": "code",
   "execution_count": null,
   "id": "ff302f15",
   "metadata": {},
   "outputs": [],
   "source": []
  },
  {
   "cell_type": "markdown",
   "id": "7adc6baf",
   "metadata": {},
   "source": [
    "#### 81. Consider an array Z = [1,2,3,4,5,6,7,8,9,10,11,12,13,14], how to generate an array R = [[1,2,3,4], [2,3,4,5], [3,4,5,6], ..., [11,12,13,14]]?\n"
   ]
  },
  {
   "cell_type": "code",
   "execution_count": null,
   "id": "a96e9325",
   "metadata": {},
   "outputs": [],
   "source": []
  },
  {
   "cell_type": "markdown",
   "id": "cf002ef7",
   "metadata": {},
   "source": [
    "#### 82. Compute a matrix rank"
   ]
  },
  {
   "cell_type": "code",
   "execution_count": null,
   "id": "ced70771",
   "metadata": {},
   "outputs": [],
   "source": []
  },
  {
   "cell_type": "markdown",
   "id": "c2e48aff",
   "metadata": {},
   "source": [
    "#### 83. How to find the most frequent value in an array?"
   ]
  },
  {
   "cell_type": "code",
   "execution_count": null,
   "id": "b86c276b",
   "metadata": {},
   "outputs": [],
   "source": []
  },
  {
   "cell_type": "markdown",
   "id": "6ad59269",
   "metadata": {},
   "source": [
    "#### 84. Extract all the contiguous 3x3 blocks from a random 10x10 matrix"
   ]
  },
  {
   "cell_type": "code",
   "execution_count": null,
   "id": "4c434c70",
   "metadata": {},
   "outputs": [],
   "source": []
  },
  {
   "cell_type": "markdown",
   "id": "e32f4b71",
   "metadata": {},
   "source": [
    "#### 85. Create a 2D array subclass such that Z[i,j] == Z[j,i]"
   ]
  },
  {
   "cell_type": "code",
   "execution_count": null,
   "id": "36028d0e",
   "metadata": {},
   "outputs": [],
   "source": []
  },
  {
   "cell_type": "markdown",
   "id": "1aa1d08d",
   "metadata": {},
   "source": [
    "#### 86. Consider a set of p matrices with shape (n,n) and a set of p vectors with shape (n,1). How to compute the sum of of the p matrix products at once? (result has shape (n,1))"
   ]
  },
  {
   "cell_type": "code",
   "execution_count": null,
   "id": "06f1b273",
   "metadata": {},
   "outputs": [],
   "source": []
  },
  {
   "cell_type": "markdown",
   "id": "b9416f71",
   "metadata": {},
   "source": [
    "#### 87. Consider a 16x16 array, how to get the block-sum (block size is 4x4)?"
   ]
  },
  {
   "cell_type": "code",
   "execution_count": null,
   "id": "c986af71",
   "metadata": {},
   "outputs": [],
   "source": []
  },
  {
   "cell_type": "markdown",
   "id": "7a122afd",
   "metadata": {},
   "source": [
    "#### 88. How to implement the Game of Life using numpy arrays?"
   ]
  },
  {
   "cell_type": "code",
   "execution_count": null,
   "id": "f5d83ded",
   "metadata": {},
   "outputs": [],
   "source": []
  },
  {
   "cell_type": "markdown",
   "id": "4dd343a6",
   "metadata": {},
   "source": [
    "#### 89. How to get the n largest values of an array"
   ]
  },
  {
   "cell_type": "code",
   "execution_count": null,
   "id": "b438af60",
   "metadata": {},
   "outputs": [],
   "source": []
  },
  {
   "cell_type": "markdown",
   "id": "ff6d858c",
   "metadata": {},
   "source": [
    "#### 90. Given an arbitrary number of vectors, build the cartesian product (every combination of every item)"
   ]
  },
  {
   "cell_type": "code",
   "execution_count": null,
   "id": "680ade2f",
   "metadata": {},
   "outputs": [],
   "source": []
  },
  {
   "cell_type": "markdown",
   "id": "30deaaae",
   "metadata": {},
   "source": [
    "#### 91. How to create a record array from a regular array?"
   ]
  },
  {
   "cell_type": "code",
   "execution_count": null,
   "id": "e893ff93",
   "metadata": {},
   "outputs": [],
   "source": []
  },
  {
   "cell_type": "markdown",
   "id": "5129f4ba",
   "metadata": {},
   "source": [
    "#### 92. Consider a large vector Z, compute Z to the power of 3 using 3 different methods"
   ]
  },
  {
   "cell_type": "code",
   "execution_count": null,
   "id": "110a30be",
   "metadata": {},
   "outputs": [],
   "source": []
  },
  {
   "cell_type": "markdown",
   "id": "a8571c4c",
   "metadata": {},
   "source": [
    "#### 93. Consider two arrays A and B of shape (8,3) and (2,2). How to find rows of A that contain elements of each row of B regardless of the order of the elements in B?"
   ]
  },
  {
   "cell_type": "code",
   "execution_count": null,
   "id": "d69675d2",
   "metadata": {},
   "outputs": [],
   "source": []
  },
  {
   "cell_type": "markdown",
   "id": "ce3004a7",
   "metadata": {},
   "source": [
    "#### 94. Considering a 10x3 matrix, extract rows with unequal values (e.g. [2,2,3])"
   ]
  },
  {
   "cell_type": "code",
   "execution_count": null,
   "id": "1c46a1a3",
   "metadata": {},
   "outputs": [],
   "source": []
  },
  {
   "cell_type": "markdown",
   "id": "32691720",
   "metadata": {},
   "source": [
    "#### 95. Convert a vector of ints into a matrix binary representation "
   ]
  },
  {
   "cell_type": "code",
   "execution_count": null,
   "id": "34735c62",
   "metadata": {},
   "outputs": [],
   "source": []
  },
  {
   "cell_type": "markdown",
   "id": "4799aa36",
   "metadata": {},
   "source": [
    "#### 96. Given a two dimensional array, how to extract unique rows?"
   ]
  },
  {
   "cell_type": "code",
   "execution_count": null,
   "id": "fb41996a",
   "metadata": {},
   "outputs": [],
   "source": []
  },
  {
   "cell_type": "markdown",
   "id": "5d0d149d",
   "metadata": {},
   "source": [
    "#### 97. Considering 2 vectors A & B, write the einsum equivalent of inner, outer, sum, and mul function"
   ]
  },
  {
   "cell_type": "code",
   "execution_count": null,
   "id": "3e1be627",
   "metadata": {},
   "outputs": [],
   "source": []
  },
  {
   "cell_type": "markdown",
   "id": "f660659a",
   "metadata": {},
   "source": [
    "#### 98. Considering a path described by two vectors (X,Y), how to sample it using equidistant samples"
   ]
  },
  {
   "cell_type": "code",
   "execution_count": null,
   "id": "f0a58dde",
   "metadata": {},
   "outputs": [],
   "source": []
  },
  {
   "cell_type": "markdown",
   "id": "2173f797",
   "metadata": {},
   "source": [
    "#### 99. Given an integer n and a 2D array X, select from X the rows which can be interpreted as draws from a multinomial distribution with n degrees, i.e., the rows which only contain integers and which sum to n. \n"
   ]
  },
  {
   "cell_type": "code",
   "execution_count": null,
   "id": "0335486e",
   "metadata": {},
   "outputs": [],
   "source": []
  },
  {
   "cell_type": "markdown",
   "id": "35dc31a1",
   "metadata": {},
   "source": [
    "#### 100. Compute bootstrapped 95% confidence intervals for the mean of a 1D array X (i.e., resample the elements of an array with replacement N times, compute the mean of each sample, and then compute percentiles over the means).\n",
    "\n",
    "\n"
   ]
  },
  {
   "cell_type": "code",
   "execution_count": null,
   "id": "4b991bf8",
   "metadata": {},
   "outputs": [],
   "source": []
  }
 ],
 "metadata": {
  "kernelspec": {
   "display_name": "Python 3",
   "language": "python",
   "name": "python3"
  },
  "language_info": {
   "codemirror_mode": {
    "name": "ipython",
    "version": 3
   },
   "file_extension": ".py",
   "mimetype": "text/x-python",
   "name": "python",
   "nbconvert_exporter": "python",
   "pygments_lexer": "ipython3",
   "version": "3.13.5"
  }
 },
 "nbformat": 4,
 "nbformat_minor": 5
}
