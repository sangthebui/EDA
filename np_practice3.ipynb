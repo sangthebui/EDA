{
 "cells": [
  {
   "cell_type": "markdown",
   "id": "15291624",
   "metadata": {},
   "source": [
    "## Numpy Practice 3"
   ]
  },
  {
   "cell_type": "markdown",
   "id": "1287425a",
   "metadata": {},
   "source": [
    "### Array creation\n",
    "#### Introduction\n",
    "- There are 6 general mechanisms for creating arrays:\n",
    "\n",
    "    1. Conversion from other Python structures (i.e. lists and tuples)\n",
    "\n",
    "    2. Intrinsic NumPy array creation functions (e.g. arange, ones, zeros, etc.)\n",
    "\n",
    "    3. Replicating, joining, or mutating existing arrays\n",
    "\n",
    "    4. Reading arrays from disk, either from standard or custom formats\n",
    "\n",
    "    5. Creating arrays from raw bytes through the use of strings or buffers\n",
    "\n",
    "    6. Use of special library functions (e.g., random)\n",
    "\n",
    "- You can use these methods to create ndarrays or Structured arrays. This document will cover general methods for ndarray creation."
   ]
  },
  {
   "cell_type": "markdown",
   "id": "b205c51e",
   "metadata": {},
   "source": [
    "### 1) Converting Python sequences to NumPy arrays\n",
    "- NumPy arrays can be defined using Python sequences such as lists and tuples. Lists and tuples are defined using [...] and (...), respectively. Lists and tuples can define ndarray creation:\n",
    "\n",
    "    - a list of numbers will create a 1D array,\n",
    "\n",
    "    - a list of lists will create a 2D array,\n",
    "\n",
    "    - further nested lists will create higher-dimensional arrays. In general, any array object is called an ndarray in NumPy."
   ]
  },
  {
   "cell_type": "code",
   "execution_count": 1,
   "id": "5d69a8e5",
   "metadata": {},
   "outputs": [],
   "source": [
    "import numpy as np"
   ]
  },
  {
   "cell_type": "code",
   "execution_count": 2,
   "id": "f57d1d2c",
   "metadata": {},
   "outputs": [],
   "source": [
    "a1D = np.array([1, 2, 3, 4])\n",
    "a2D = np.array([[1, 2], [3, 4]])\n",
    "a3D = np.array([[[1, 2], [3, 4]], [[5, 6], [7, 8]]])"
   ]
  },
  {
   "cell_type": "markdown",
   "id": "b8c1d0e4",
   "metadata": {},
   "source": [
    "- When you use **numpy.array()** to define a new array, you should consider the dtype of the elements in the array, which can be specified explicitly. This feature gives you more control over the underlying data structures and how the elements are handled in C/C++ functions. When values do not fit and you are using a dtype, NumPy may raise an error:"
   ]
  },
  {
   "cell_type": "code",
   "execution_count": 3,
   "id": "636fe226",
   "metadata": {},
   "outputs": [],
   "source": [
    "# np.array([127, 128, 129], dtype=np.int8) will cause over flow error"
   ]
  },
  {
   "cell_type": "markdown",
   "id": "731cac6d",
   "metadata": {},
   "source": [
    "- An 8-bit signed integer represents integers from -128 to 127. Assigning the int8 array to integers outside of this range results in overflow. This feature can often be misunderstood. If you perform calculations with mismatching dtypes, you can get unwanted results, for example:"
   ]
  },
  {
   "cell_type": "code",
   "execution_count": null,
   "id": "09d98329",
   "metadata": {},
   "outputs": [
    {
     "name": "stdout",
     "output_type": "stream",
     "text": [
      "unsigned c: [4294967293 4294967293 4294967293] uint32\n"
     ]
    }
   ],
   "source": [
    "a = np.array([2, 3, 4], dtype=np.uint32)\n",
    "b = np.array([5, 6, 7], dtype=np.uint32)\n",
    "c_unsigned32 = a - b\n",
    "print('unsigned c:', c_unsigned32, c_unsigned32.dtype) # cause overflow"
   ]
  },
  {
   "cell_type": "code",
   "execution_count": 5,
   "id": "7f6f3e01",
   "metadata": {},
   "outputs": [
    {
     "name": "stdout",
     "output_type": "stream",
     "text": [
      "signed c: [-3 -3 -3] int64\n"
     ]
    }
   ],
   "source": [
    "c_signed32 = a - b.astype(np.int32)\n",
    "print('signed c:', c_signed32, c_signed32.dtype)"
   ]
  },
  {
   "cell_type": "markdown",
   "id": "5306a716",
   "metadata": {},
   "source": [
    "- Notice when you perform operations with two arrays of the same dtype: uint32, the resulting array is the same type. When you perform operations with different dtype, NumPy will assign a new type that satisfies all of the array elements involved in the computation, here uint32 and int32 can both be represented in as int64.\n",
    "\n",
    "- The default NumPy behavior is to create arrays in either 32 or 64-bit signed integers (platform dependent and matches C long size) or double precision floating point numbers. If you expect your integer arrays to be a specific type, then you need to specify the dtype while you create the array."
   ]
  },
  {
   "cell_type": "markdown",
   "id": "18abbc86",
   "metadata": {},
   "source": [
    "#### 2) Intrinsic NumPy array creation functions\n",
    "- NumPy has over 40 built-in functions for creating arrays as laid out in the Array creation routines. These functions can be split into roughly three categories, based on the dimension of the array they create:\n",
    "    - 1D arrays\n",
    "    - 2D arrays\n",
    "    - ndarrays\n",
    "\n",
    "- 1 - 1D array creation functions\n",
    "The 1D array creation functions e.g. numpy.linspace and numpy.arange generally need at least two inputs, start and stop.\n",
    "\n",
    "- numpy.arange creates arrays with regularly incrementing values. Check the documentation for complete information and examples. A few examples are shown:"
   ]
  },
  {
   "cell_type": "code",
   "execution_count": 7,
   "id": "e302c164",
   "metadata": {},
   "outputs": [
    {
     "data": {
      "text/plain": [
       "array([0, 1, 2, 3, 4, 5, 6, 7, 8, 9])"
      ]
     },
     "execution_count": 7,
     "metadata": {},
     "output_type": "execute_result"
    }
   ],
   "source": [
    "np.arange(10)"
   ]
  },
  {
   "cell_type": "code",
   "execution_count": 9,
   "id": "7a67b252",
   "metadata": {},
   "outputs": [
    {
     "data": {
      "text/plain": [
       "array([2., 3., 4., 5., 6., 7., 8., 9.])"
      ]
     },
     "execution_count": 9,
     "metadata": {},
     "output_type": "execute_result"
    }
   ],
   "source": [
    "np.arange(2, 10, dtype=float)"
   ]
  },
  {
   "cell_type": "code",
   "execution_count": 10,
   "id": "3db221c1",
   "metadata": {},
   "outputs": [
    {
     "data": {
      "text/plain": [
       "array([2. , 2.1, 2.2, 2.3, 2.4, 2.5, 2.6, 2.7, 2.8, 2.9])"
      ]
     },
     "execution_count": 10,
     "metadata": {},
     "output_type": "execute_result"
    }
   ],
   "source": [
    "np.arange(2, 3, 0.1)"
   ]
  },
  {
   "cell_type": "markdown",
   "id": "b61e806f",
   "metadata": {},
   "source": [
    "- Note: best practice for **numpy.arange** is to use integer start, end, and step values. There are some subtleties regarding dtype. In the second example, the dtype is defined. In the third example, the array is dtype=float to accommodate the step size of 0.1. Due to roundoff error, the stop value is sometimes included.\n",
    "\n",
    "- **numpy.linspace** will create arrays with a specified number of elements, and spaced equally between the specified beginning and end values. For example:"
   ]
  },
  {
   "cell_type": "code",
   "execution_count": 11,
   "id": "bc9089ed",
   "metadata": {},
   "outputs": [
    {
     "data": {
      "text/plain": [
       "array([1. , 1.6, 2.2, 2.8, 3.4, 4. ])"
      ]
     },
     "execution_count": 11,
     "metadata": {},
     "output_type": "execute_result"
    }
   ],
   "source": [
    "np.linspace(1., 4., 6)"
   ]
  },
  {
   "cell_type": "markdown",
   "id": "3fb0388b",
   "metadata": {},
   "source": [
    "- The advantage of this creation function is that you guarantee the number of elements and the starting and end point. The previous **arange(start, stop, step)** will not include the value stop."
   ]
  },
  {
   "cell_type": "markdown",
   "id": "7560a479",
   "metadata": {},
   "source": [
    "### 2 - 2D array creation functions\n",
    "- The 2D array creation functions e.g. **numpy.eye**, **numpy.diag**, and **numpy.vander** define properties of special matrices represented as 2D arrays.\n",
    "\n",
    "- **np.eye(n, m)** defines a 2D identity matrix. The elements where i=j (row index and column index are equal) are 1 and the rest are 0, as such:"
   ]
  },
  {
   "cell_type": "code",
   "execution_count": 12,
   "id": "7f44f415",
   "metadata": {},
   "outputs": [
    {
     "data": {
      "text/plain": [
       "array([[1., 0., 0.],\n",
       "       [0., 1., 0.],\n",
       "       [0., 0., 1.]])"
      ]
     },
     "execution_count": 12,
     "metadata": {},
     "output_type": "execute_result"
    }
   ],
   "source": [
    "np.eye(3)"
   ]
  },
  {
   "cell_type": "code",
   "execution_count": 13,
   "id": "41b18759",
   "metadata": {},
   "outputs": [
    {
     "data": {
      "text/plain": [
       "array([[1., 0., 0., 0., 0.],\n",
       "       [0., 1., 0., 0., 0.],\n",
       "       [0., 0., 1., 0., 0.]])"
      ]
     },
     "execution_count": 13,
     "metadata": {},
     "output_type": "execute_result"
    }
   ],
   "source": [
    "np.eye(3, 5)"
   ]
  },
  {
   "cell_type": "markdown",
   "id": "03f55c6d",
   "metadata": {},
   "source": [
    "- **numpy.diag** can define either a square 2D array with given values along the diagonal or if given a 2D array returns a 1D array that is only the diagonal elements. The two array creation functions can be helpful while doing linear algebra, as such:"
   ]
  },
  {
   "cell_type": "code",
   "execution_count": 14,
   "id": "1b981bb3",
   "metadata": {},
   "outputs": [
    {
     "data": {
      "text/plain": [
       "array([[1, 0, 0],\n",
       "       [0, 2, 0],\n",
       "       [0, 0, 3]])"
      ]
     },
     "execution_count": 14,
     "metadata": {},
     "output_type": "execute_result"
    }
   ],
   "source": [
    "np.diag([1, 2, 3])"
   ]
  },
  {
   "cell_type": "code",
   "execution_count": 15,
   "id": "63ffea04",
   "metadata": {},
   "outputs": [
    {
     "data": {
      "text/plain": [
       "array([[0, 1, 0, 0],\n",
       "       [0, 0, 2, 0],\n",
       "       [0, 0, 0, 3],\n",
       "       [0, 0, 0, 0]])"
      ]
     },
     "execution_count": 15,
     "metadata": {},
     "output_type": "execute_result"
    }
   ],
   "source": [
    "np.diag([1, 2, 3], 1)"
   ]
  },
  {
   "cell_type": "code",
   "execution_count": 16,
   "id": "c1c43dc8",
   "metadata": {},
   "outputs": [
    {
     "data": {
      "text/plain": [
       "array([1, 4])"
      ]
     },
     "execution_count": 16,
     "metadata": {},
     "output_type": "execute_result"
    }
   ],
   "source": [
    "a = np.array([[1, 2], [3, 4]])\n",
    "np.diag(a)"
   ]
  },
  {
   "cell_type": "markdown",
   "id": "c1e2d07c",
   "metadata": {},
   "source": [
    "- **vander(x, n)** defines a Vandermonde matrix as a 2D NumPy array. Each column of the Vandermonde matrix is a decreasing power of the input 1D array or list or tuple, x where the highest polynomial order is **n-1**. This array creation routine is helpful in generating linear least squares models, as such:"
   ]
  },
  {
   "cell_type": "code",
   "execution_count": 17,
   "id": "2f8168a3",
   "metadata": {},
   "outputs": [
    {
     "data": {
      "text/plain": [
       "array([[0. , 1. ],\n",
       "       [0.5, 1. ],\n",
       "       [1. , 1. ],\n",
       "       [1.5, 1. ],\n",
       "       [2. , 1. ]])"
      ]
     },
     "execution_count": 17,
     "metadata": {},
     "output_type": "execute_result"
    }
   ],
   "source": [
    "np.vander(np.linspace(0, 2, 5), 2)"
   ]
  },
  {
   "cell_type": "code",
   "execution_count": 18,
   "id": "b0166e5f",
   "metadata": {},
   "outputs": [
    {
     "data": {
      "text/plain": [
       "array([[1, 1],\n",
       "       [2, 1],\n",
       "       [3, 1],\n",
       "       [4, 1]])"
      ]
     },
     "execution_count": 18,
     "metadata": {},
     "output_type": "execute_result"
    }
   ],
   "source": [
    "np.vander([1, 2, 3, 4], 2)"
   ]
  },
  {
   "cell_type": "code",
   "execution_count": 19,
   "id": "aedff8a2",
   "metadata": {},
   "outputs": [
    {
     "data": {
      "text/plain": [
       "array([[ 1,  1,  1,  1],\n",
       "       [ 8,  4,  2,  1],\n",
       "       [27,  9,  3,  1],\n",
       "       [64, 16,  4,  1]])"
      ]
     },
     "execution_count": 19,
     "metadata": {},
     "output_type": "execute_result"
    }
   ],
   "source": [
    "np.vander((1, 2, 3, 4), 4)"
   ]
  },
  {
   "cell_type": "markdown",
   "id": "b30642b4",
   "metadata": {},
   "source": [
    "#### 3 - general ndarray creation functions\n",
    "- The ndarray creation functions e.g. **numpy.ones**, **numpy.zeros**, and **random** define arrays based upon the desired shape. The ndarray creation functions can create arrays with any dimension by specifying how many dimensions and length along that dimension in a tuple or list.\n",
    "\n",
    "- **numpy.zeros** will create an array filled with 0 values with the specified shape. The default dtype is float64:"
   ]
  },
  {
   "cell_type": "code",
   "execution_count": 20,
   "id": "08691ce0",
   "metadata": {},
   "outputs": [
    {
     "data": {
      "text/plain": [
       "array([[0., 0., 0.],\n",
       "       [0., 0., 0.]])"
      ]
     },
     "execution_count": 20,
     "metadata": {},
     "output_type": "execute_result"
    }
   ],
   "source": [
    "np.zeros((2, 3))"
   ]
  },
  {
   "cell_type": "code",
   "execution_count": 21,
   "id": "fdc5928f",
   "metadata": {},
   "outputs": [
    {
     "data": {
      "text/plain": [
       "array([[[0., 0.],\n",
       "        [0., 0.],\n",
       "        [0., 0.]],\n",
       "\n",
       "       [[0., 0.],\n",
       "        [0., 0.],\n",
       "        [0., 0.]]])"
      ]
     },
     "execution_count": 21,
     "metadata": {},
     "output_type": "execute_result"
    }
   ],
   "source": [
    "np.zeros((2, 3, 2))"
   ]
  },
  {
   "cell_type": "markdown",
   "id": "ca06c638",
   "metadata": {},
   "source": [
    "- **numpy.ones** will create an array filled with 1 values. It is identical to zeros in all other respects as such:"
   ]
  },
  {
   "cell_type": "code",
   "execution_count": 22,
   "id": "97a69886",
   "metadata": {},
   "outputs": [
    {
     "data": {
      "text/plain": [
       "array([[1., 1., 1.],\n",
       "       [1., 1., 1.]])"
      ]
     },
     "execution_count": 22,
     "metadata": {},
     "output_type": "execute_result"
    }
   ],
   "source": [
    "np.ones((2, 3))"
   ]
  },
  {
   "cell_type": "code",
   "execution_count": 23,
   "id": "9aa9d3fd",
   "metadata": {},
   "outputs": [
    {
     "data": {
      "text/plain": [
       "array([[[1., 1.],\n",
       "        [1., 1.],\n",
       "        [1., 1.]],\n",
       "\n",
       "       [[1., 1.],\n",
       "        [1., 1.],\n",
       "        [1., 1.]]])"
      ]
     },
     "execution_count": 23,
     "metadata": {},
     "output_type": "execute_result"
    }
   ],
   "source": [
    "np.ones((2, 3, 2))"
   ]
  },
  {
   "cell_type": "markdown",
   "id": "1579f689",
   "metadata": {},
   "source": [
    "- The **random** method of the result of default_rng will create an array filled with random values between 0 and 1. It is included with the **numpy.random** library. Below, two arrays are created with shapes (2,3) and (2,3,2), respectively. The seed is set to 42 so you can reproduce these pseudorandom numbers:"
   ]
  },
  {
   "cell_type": "code",
   "execution_count": 24,
   "id": "620fbaae",
   "metadata": {},
   "outputs": [
    {
     "data": {
      "text/plain": [
       "array([[0.77395605, 0.43887844, 0.85859792],\n",
       "       [0.69736803, 0.09417735, 0.97562235]])"
      ]
     },
     "execution_count": 24,
     "metadata": {},
     "output_type": "execute_result"
    }
   ],
   "source": [
    "from numpy.random import default_rng\n",
    "default_rng(42).random((2,3))"
   ]
  },
  {
   "cell_type": "code",
   "execution_count": 25,
   "id": "7dac24bc",
   "metadata": {},
   "outputs": [
    {
     "data": {
      "text/plain": [
       "array([[[0.77395605, 0.43887844],\n",
       "        [0.85859792, 0.69736803],\n",
       "        [0.09417735, 0.97562235]],\n",
       "\n",
       "       [[0.7611397 , 0.78606431],\n",
       "        [0.12811363, 0.45038594],\n",
       "        [0.37079802, 0.92676499]]])"
      ]
     },
     "execution_count": 25,
     "metadata": {},
     "output_type": "execute_result"
    }
   ],
   "source": [
    "default_rng(42).random((2, 3, 2))"
   ]
  },
  {
   "cell_type": "markdown",
   "id": "a33ccad5",
   "metadata": {},
   "source": [
    "- **numpy.indices** will create a set of arrays (stacked as a one-higher dimensioned array), one per dimension with each representing variation in that dimension:"
   ]
  },
  {
   "cell_type": "code",
   "execution_count": 26,
   "id": "9d13cee1",
   "metadata": {},
   "outputs": [
    {
     "data": {
      "text/plain": [
       "array([[[0, 0, 0],\n",
       "        [1, 1, 1],\n",
       "        [2, 2, 2]],\n",
       "\n",
       "       [[0, 1, 2],\n",
       "        [0, 1, 2],\n",
       "        [0, 1, 2]]])"
      ]
     },
     "execution_count": 26,
     "metadata": {},
     "output_type": "execute_result"
    }
   ],
   "source": [
    "np.indices((3, 3))"
   ]
  },
  {
   "cell_type": "markdown",
   "id": "ccd94708",
   "metadata": {},
   "source": [
    "- This is particularly useful for evaluating functions of multiple dimensions on a regular grid."
   ]
  },
  {
   "cell_type": "markdown",
   "id": "9db2806b",
   "metadata": {},
   "source": [
    "#### 3) Replicating, joining, or mutating existing arrays\n",
    "- Once you have created arrays, you can replicate, join, or mutate those existing arrays to create new arrays. When you assign an array or its elements to a new variable, you have to explicitly **numpy.copy** the array, otherwise the variable is a view into the original array. Consider the following example:"
   ]
  },
  {
   "cell_type": "code",
   "execution_count": 28,
   "id": "7506c32a",
   "metadata": {},
   "outputs": [
    {
     "name": "stdout",
     "output_type": "stream",
     "text": [
      "a =  [2 3 3 4 5 6] ; b =  [2 3]\n"
     ]
    }
   ],
   "source": [
    "a = np.array([1, 2, 3, 4, 5, 6])\n",
    "b = a[:2]\n",
    "b += 1\n",
    "print(\"a = \", a, \"; b = \", b)"
   ]
  },
  {
   "cell_type": "markdown",
   "id": "7b9f0623",
   "metadata": {},
   "source": [
    "- In this example, you did not create a new array. You created a variable, b that viewed the first 2 elements of a. When you added 1 to b you would get the same result by adding 1 to a[:2]. If you want to create a new array, use the **numpy.copy** array creation routine as such:"
   ]
  },
  {
   "cell_type": "code",
   "execution_count": 29,
   "id": "2a5e3343",
   "metadata": {},
   "outputs": [
    {
     "name": "stdout",
     "output_type": "stream",
     "text": [
      "a =  [1 2 3 4] ; b =  [2 3]\n"
     ]
    }
   ],
   "source": [
    "a = np.array([1, 2, 3, 4])\n",
    "b = a[:2].copy()\n",
    "b += 1\n",
    "print(\"a = \", a, \"; b = \", b)"
   ]
  },
  {
   "cell_type": "markdown",
   "id": "095edbf8",
   "metadata": {},
   "source": [
    "- There are a number of routines to join existing arrays e.g. **numpy.vstack**, **numpy.hstack**, and **numpy.block**. Here is an example of joining four 2-by-2 arrays into a 4-by-4 array using block:"
   ]
  },
  {
   "cell_type": "code",
   "execution_count": null,
   "id": "16e078ad",
   "metadata": {},
   "outputs": [
    {
     "data": {
      "text/plain": [
       "array([[ 1.,  1.,  1.,  0.],\n",
       "       [ 1.,  1.,  0.,  1.],\n",
       "       [ 0.,  0., -3.,  0.],\n",
       "       [ 0.,  0.,  0., -4.]])"
      ]
     },
     "execution_count": 31,
     "metadata": {},
     "output_type": "execute_result"
    }
   ],
   "source": [
    "A = np.ones((2, 2))\n",
    "B = np.eye(2, 2) # eye accepts comma separated values instead of a tuple of shape, Weird\n",
    "C = np.zeros((2, 2))\n",
    "D = np.diag((-3, -4))\n",
    "np.block([[A, B], [C, D]])"
   ]
  },
  {
   "cell_type": "markdown",
   "id": "5de04bce",
   "metadata": {},
   "source": [
    "- Other routines use similar syntax to join ndarrays. Check the routine’s documentation for further examples and syntax."
   ]
  },
  {
   "cell_type": "markdown",
   "id": "dc4b9711",
   "metadata": {},
   "source": [
    "#### 4) Reading arrays from disk, either from standard or custom formats\n",
    "- This is the most common case of large array creation. The details depend greatly on the format of data on disk. This section gives general pointers on how to handle various formats. For more detailed examples of IO look at How to Read and Write files.\n",
    "\n",
    "#### Standard binary formats\n",
    "- Various fields have standard formats for array data. The following lists the ones with known Python libraries to read them and return NumPy arrays (there may be others for which it is possible to read and convert to NumPy arrays so check the last section as well)\n",
    "- Examples of formats that cannot be read directly but for which it is not hard to convert are those formats supported by libraries like PIL (able to read and write many image formats such as jpg, png, etc).\n",
    "\n",
    "#### Common ASCII formats\n",
    "- Delimited files such as comma separated value (csv) and tab separated value (tsv) files are used for programs like Excel and LabView. Python functions can read and parse these files line-by-line. NumPy has two standard routines for importing a file with delimited data **numpy.loadtxt** and **numpy.genfromtxt**. These functions have more involved use cases in Reading and writing files. A simple example given a simple.csv:"
   ]
  },
  {
   "cell_type": "code",
   "execution_count": 33,
   "id": "9df305d8",
   "metadata": {},
   "outputs": [
    {
     "name": "stderr",
     "output_type": "stream",
     "text": [
      "C:\\Users\\thotc\\AppData\\Local\\Temp\\ipykernel_76000\\4239721289.py:1: UserWarning: loadtxt: input contained no data: \"data/simple.csv\"\n",
      "  np.loadtxt(\"data/simple.csv\", delimiter=\",\", skiprows = 1)\n"
     ]
    },
    {
     "data": {
      "text/plain": [
       "array([], dtype=float64)"
      ]
     },
     "execution_count": 33,
     "metadata": {},
     "output_type": "execute_result"
    }
   ],
   "source": [
    "np.loadtxt(\"data/simple.csv\", delimiter=\",\", skiprows = 1)"
   ]
  },
  {
   "cell_type": "markdown",
   "id": "c9e42b4f",
   "metadata": {},
   "source": [
    "#### 5) Creating arrays from raw bytes through the use of strings or buffers\n",
    "- There are a variety of approaches one can use. If the file has a relatively simple format then one can write a simple I/O library and use the NumPy fromfile() function and .tofile() method to read and write NumPy arrays directly (mind your byteorder though!) If a good C or C++ library exists that read the data, one can wrap that library with a variety of techniques though that certainly is much more work and requires significantly more advanced knowledge to interface with C or C++."
   ]
  },
  {
   "cell_type": "markdown",
   "id": "109b9fcf",
   "metadata": {},
   "source": [
    "#### 6) Use of special library functions (e.g., SciPy, pandas, and OpenCV)\n",
    "- NumPy is the fundamental library for array containers in the Python Scientific Computing stack. Many Python libraries, including SciPy, Pandas, and OpenCV, use NumPy ndarrays as the common format for data exchange, These libraries can create, operate on, and work with NumPy arrays."
   ]
  },
  {
   "cell_type": "markdown",
   "id": "522fa832",
   "metadata": {},
   "source": [
    "### Indexing on ndarrays\n",
    "- ndarrays can be indexed using the standard Python x[obj] syntax, where x is the array and obj the selection. There are different kinds of indixing available depending on obj: basic indexing, advanced indexing and field access.\n",
    "- Most of the following examples show the use of indexing when referencing data in an array. The examples work just as well when assigning to an array. \n",
    "- Note that in Python, x[(exp1, exp2, ..., expN)] is equivalent to x[exp1, exp2, ..., expN]; the latter is just syntatic sugar for the former.\n",
    "\n",
    "#### Basic indexing\n",
    "#### Single element indexing\n",
    "- Single element indexing works exactly like that for other standard Python sequences. It is 0-based, and accepts negative indices for indexing from the end of the array."
   ]
  },
  {
   "cell_type": "code",
   "execution_count": 34,
   "id": "78852a9b",
   "metadata": {},
   "outputs": [
    {
     "data": {
      "text/plain": [
       "np.int64(2)"
      ]
     },
     "execution_count": 34,
     "metadata": {},
     "output_type": "execute_result"
    }
   ],
   "source": [
    "x = np.arange(10)\n",
    "x[2]"
   ]
  },
  {
   "cell_type": "code",
   "execution_count": 35,
   "id": "5ec9f68b",
   "metadata": {},
   "outputs": [
    {
     "data": {
      "text/plain": [
       "np.int64(8)"
      ]
     },
     "execution_count": 35,
     "metadata": {},
     "output_type": "execute_result"
    }
   ],
   "source": [
    "x[-2]"
   ]
  },
  {
   "cell_type": "markdown",
   "id": "1e500de8",
   "metadata": {},
   "source": [
    "- It is not necessary to separate each dimension's index into its own set of square brackets."
   ]
  },
  {
   "cell_type": "code",
   "execution_count": 36,
   "id": "5078bbfc",
   "metadata": {},
   "outputs": [
    {
     "data": {
      "text/plain": [
       "np.int64(8)"
      ]
     },
     "execution_count": 36,
     "metadata": {},
     "output_type": "execute_result"
    }
   ],
   "source": [
    "x.shape = (2, 5) # now is a 2-dimensional\n",
    "x[1, 3]"
   ]
  },
  {
   "cell_type": "code",
   "execution_count": 37,
   "id": "8452129a",
   "metadata": {},
   "outputs": [
    {
     "data": {
      "text/plain": [
       "np.int64(9)"
      ]
     },
     "execution_count": 37,
     "metadata": {},
     "output_type": "execute_result"
    }
   ],
   "source": [
    "x[1, -1]"
   ]
  },
  {
   "cell_type": "markdown",
   "id": "4d356f2d",
   "metadata": {},
   "source": [
    "- Note that if one indexes a multidimensional array with fewer indices than dimensions, one gets a subdimensional array. For example:"
   ]
  },
  {
   "cell_type": "code",
   "execution_count": 38,
   "id": "afdcb548",
   "metadata": {},
   "outputs": [
    {
     "data": {
      "text/plain": [
       "array([0, 1, 2, 3, 4])"
      ]
     },
     "execution_count": 38,
     "metadata": {},
     "output_type": "execute_result"
    }
   ],
   "source": [
    "x[0]"
   ]
  },
  {
   "cell_type": "markdown",
   "id": "35500f0e",
   "metadata": {},
   "source": [
    "- That is, each index specified selects the array corresponding to the rest of the dimensions selected. In the above example, choosing 0 means that the remaining dimension of length 5 is being left unspecified, and that what is returned is an array of that dimensionality and size. It must be noted that the returned array is a view, i.e., it is not a copy of the original, but points to the same values in memory as does the original array. In this case, the 1-D array at the first position (0) is returned. So using a single index on the returned array, results in a single element being returned. That is:"
   ]
  },
  {
   "cell_type": "code",
   "execution_count": 39,
   "id": "1afa9ec7",
   "metadata": {},
   "outputs": [
    {
     "data": {
      "text/plain": [
       "np.int64(2)"
      ]
     },
     "execution_count": 39,
     "metadata": {},
     "output_type": "execute_result"
    }
   ],
   "source": [
    "x[0][2]"
   ]
  },
  {
   "cell_type": "markdown",
   "id": "755fca0d",
   "metadata": {},
   "source": [
    "- So note that x[0, 2] == x[0][2] though the second case is more inefficient as a new temporary array is created after the first index that is subsequently indexed by 2.\n",
    "- **Note**: NumPy uses C-order indexing. That means that the last index usually represents the most rapidly changing memory location, unlike Fortran or IDL, where the first index represents the most rapidly changing location in memory. This difference represents a great potential for confusion."
   ]
  },
  {
   "cell_type": "markdown",
   "id": "b899a49f",
   "metadata": {},
   "source": [
    "#### Slicing and striding\n",
    "- Basic slicing extends Python’s basic concept of slicing to N dimensions. Basic slicing occurs when obj is a **slice** object (constructed by **start:stop:step** notation inside of brackets), an integer, or a tuple of slice objects and integers. **Ellipsis** and **newaxis** objects can be interspersed with these as well.\n",
    "\n",
    "- The simplest case of indexing with N integers returns an array scalar representing the corresponding item. As in Python, all indices are zero-based: for the i-th index \n",
    ", the valid range is \n",
    " where \n",
    " is the i-th element of the shape of the array. Negative indices are interpreted as counting from the end of the array (i.e., if \n",
    ", it means \n",
    ").\n",
    "\n",
    "- All arrays generated by basic slicing are always views of the original array.\n",
    "- **Note**: NumPy slicing creates a view instead of a copy as in the case of built-in Python sequences such as string, tuple and list. Care must be taken when extracting a small portion from a large array which becomes useless after the extraction, because the small portion extracted contains a reference to the large original array whose memory will not be released until all arrays derived from it are garbage-collected. In such cases an explicit **copy()** is recommended.\n",
    "- The standard rules of sequence slicing apply to basic slicing on a per-dimension basis (including using a step index). Some useful concepts to remember include:\n",
    "\n",
    "- The basic slice syntax is i:j:k where i is the starting index, j is the stopping index, and k is the step **(k !=0)**\n",
    "). This selects the m elements (in the corresponding dimension) with index values i, i + k, …, i + (m - 1) k where **m = q + (r != 0)**\n",
    " and q and r are the quotient and remainder obtained by dividing j - i by k: j - i = q k + r, so that i + (m - 1) k < j. For example:"
   ]
  },
  {
   "cell_type": "code",
   "execution_count": null,
   "id": "1d5faa8c",
   "metadata": {},
   "outputs": [
    {
     "data": {
      "text/plain": [
       "array([1, 3, 5])"
      ]
     },
     "execution_count": 40,
     "metadata": {},
     "output_type": "execute_result"
    }
   ],
   "source": [
    "x = np.array([0, 1, 2, 3, 4, 5, 6, 7, 8, 9])\n",
    "x[1:7:2] # start at 2, ends at 7, select every 2."
   ]
  },
  {
   "cell_type": "markdown",
   "id": "988ccc7d",
   "metadata": {},
   "source": [
    "- Negative i and j are interpreted as n + i and n + j where n is the number of elements in the corresponding dimension. Negative k makes stepping go towards smaller indices. From the above example:"
   ]
  },
  {
   "cell_type": "code",
   "execution_count": null,
   "id": "23163982",
   "metadata": {},
   "outputs": [
    {
     "data": {
      "text/plain": [
       "array([8, 9])"
      ]
     },
     "execution_count": 43,
     "metadata": {},
     "output_type": "execute_result"
    }
   ],
   "source": [
    "x[-2:10] # starts at -2 (or len - 2), ends at 10"
   ]
  },
  {
   "cell_type": "code",
   "execution_count": null,
   "id": "9834832e",
   "metadata": {},
   "outputs": [
    {
     "data": {
      "text/plain": [
       "array([7, 6, 5, 4])"
      ]
     },
     "execution_count": 44,
     "metadata": {},
     "output_type": "execute_result"
    }
   ],
   "source": [
    "x[-3:3:-1] # starts at -3, ends at 3, go backwards"
   ]
  },
  {
   "cell_type": "markdown",
   "id": "f8bb83e1",
   "metadata": {},
   "source": [
    "- Assume n is the number of elements in the dimension being sliced. Then, if i is not given it defaults to 0 for k > 0 and n - 1 for k < 0 . If j is not given it defaults to n for k > 0 and -n-1 for k < 0 . If k is not given it defaults to 1. Note that :: is the same as : and means select all indices along this axis. From the above example:"
   ]
  },
  {
   "cell_type": "code",
   "execution_count": 45,
   "id": "6bbbba51",
   "metadata": {},
   "outputs": [
    {
     "data": {
      "text/plain": [
       "array([5, 6, 7, 8, 9])"
      ]
     },
     "execution_count": 45,
     "metadata": {},
     "output_type": "execute_result"
    }
   ],
   "source": [
    "x[5:]"
   ]
  },
  {
   "cell_type": "markdown",
   "id": "9e447886",
   "metadata": {},
   "source": [
    "- If the number of objects in the selection tuple is less than N, then : is assumed for any subsequent dimensions. For example:"
   ]
  },
  {
   "cell_type": "code",
   "execution_count": 46,
   "id": "03dd8c4d",
   "metadata": {},
   "outputs": [
    {
     "data": {
      "text/plain": [
       "(2, 3, 1)"
      ]
     },
     "execution_count": 46,
     "metadata": {},
     "output_type": "execute_result"
    }
   ],
   "source": [
    "x = np.array([[[1], [2], [3]], [[4], [5], [6]]])\n",
    "x.shape"
   ]
  },
  {
   "cell_type": "code",
   "execution_count": 47,
   "id": "21b224e6",
   "metadata": {},
   "outputs": [
    {
     "data": {
      "text/plain": [
       "array([[[4],\n",
       "        [5],\n",
       "        [6]]])"
      ]
     },
     "execution_count": 47,
     "metadata": {},
     "output_type": "execute_result"
    }
   ],
   "source": [
    "x[1:2]"
   ]
  },
  {
   "cell_type": "markdown",
   "id": "c2ec63b2",
   "metadata": {},
   "source": [
    "- An integer, i, returns the same values as i:i+1 except the dimensionality of the returned object is reduced by 1. In particular, a selection tuple with the p-th element an integer (and all other entries :) returns the corresponding sub-array with dimension N - 1. If N = 1 then the returned object is an array scalar. These objects are explained in Scalars.\n",
    "\n",
    "- If the selection tuple has all entries : except the p-th entry which is a slice object i:j:k, then the returned array has dimension N formed by stacking, along the p-th axis, the sub-arrays returned by integer indexing of elements i, i+k, …, i + (m - 1) k < j.\n",
    "\n",
    "- Basic slicing with more than one non-: entry in the slicing tuple, acts like repeated application of slicing using a single non-: entry, where the non-: entries are successively taken (with all other non-: entries replaced by :). Thus, x[ind1, ..., ind2,:] acts like x[ind1][..., ind2, :] under basic slicing.\n",
    "\n",
    "- **Warning**: The above is not true for advanced indexing.\n",
    "\n",
    "- You may use slicing to set values in the array, but (unlike lists) you can never grow the array. The size of the value to be set in x[obj] = value must be (broadcastable to) the same shape as x[obj].\n",
    "\n",
    "- A slicing tuple can always be constructed as obj and used in the x[obj] notation. Slice objects can be used in the construction in place of the [start:stop:step] notation. For example, x[1:10:5, ::-1] can also be implemented as obj = (slice(1, 10, 5), slice(None, None, -1)); x[obj] . This can be useful for constructing generic code that works on arrays of arbitrary dimensions. See Dealing with variable numbers of indices within programs for more information."
   ]
  },
  {
   "cell_type": "markdown",
   "id": "8e899c89",
   "metadata": {},
   "source": [
    "#### Dimensional indexing tools\n",
    "- There are some tools to facilitate the easy matching of array shapes with expressions and in assignments.\n",
    "\n",
    "- Ellipsis expands to the number of : objects needed for the selection tuple to index all dimensions. In most cases, this means that the length of the expanded selection tuple is x.ndim. There may only be a single ellipsis present. From the above example:"
   ]
  },
  {
   "cell_type": "code",
   "execution_count": null,
   "id": "810d63ed",
   "metadata": {},
   "outputs": [
    {
     "data": {
      "text/plain": [
       "array([[1, 2, 3],\n",
       "       [4, 5, 6]])"
      ]
     },
     "execution_count": 48,
     "metadata": {},
     "output_type": "execute_result"
    }
   ],
   "source": [
    "x[..., 0] "
   ]
  },
  {
   "cell_type": "markdown",
   "id": "645fd23c",
   "metadata": {},
   "source": [
    "- This is equivalent to:"
   ]
  },
  {
   "cell_type": "code",
   "execution_count": 49,
   "id": "319a5d6e",
   "metadata": {},
   "outputs": [
    {
     "data": {
      "text/plain": [
       "array([[1, 2, 3],\n",
       "       [4, 5, 6]])"
      ]
     },
     "execution_count": 49,
     "metadata": {},
     "output_type": "execute_result"
    }
   ],
   "source": [
    "x[:, :, 0]"
   ]
  },
  {
   "cell_type": "markdown",
   "id": "b97f8a74",
   "metadata": {},
   "source": [
    "- Each **newaxis** object in the selection tuple serves to expand the dimensions of the resulting selection by one unit-length dimension. The added dimension is the position of the **newaxis** object in the selection tuple. **newaxis** is an alias for None, and None can be used in place of this with the same result. From the above example:"
   ]
  },
  {
   "cell_type": "code",
   "execution_count": null,
   "id": "32a52657",
   "metadata": {},
   "outputs": [
    {
     "data": {
      "text/plain": [
       "(2, 1, 3, 1)"
      ]
     },
     "execution_count": 50,
     "metadata": {},
     "output_type": "execute_result"
    }
   ],
   "source": [
    "x[:, np.newaxis, :, :].shape # Use the newaxis to create a new column (aka a new dimension)"
   ]
  },
  {
   "cell_type": "code",
   "execution_count": 51,
   "id": "6e08a5e2",
   "metadata": {},
   "outputs": [
    {
     "data": {
      "text/plain": [
       "(2, 1, 3, 1)"
      ]
     },
     "execution_count": 51,
     "metadata": {},
     "output_type": "execute_result"
    }
   ],
   "source": [
    "x[:, None, :, :].shape"
   ]
  },
  {
   "cell_type": "markdown",
   "id": "62164058",
   "metadata": {},
   "source": [
    "- This can be handy to combine two arrays in a way that otherwise would require explicit reshaping operations. For example:"
   ]
  },
  {
   "cell_type": "code",
   "execution_count": 52,
   "id": "863a7561",
   "metadata": {},
   "outputs": [],
   "source": [
    "x = np.arange(5)"
   ]
  },
  {
   "cell_type": "code",
   "execution_count": 53,
   "id": "dbc1abd3",
   "metadata": {},
   "outputs": [
    {
     "data": {
      "text/plain": [
       "array([[0, 1, 2, 3, 4],\n",
       "       [1, 2, 3, 4, 5],\n",
       "       [2, 3, 4, 5, 6],\n",
       "       [3, 4, 5, 6, 7],\n",
       "       [4, 5, 6, 7, 8]])"
      ]
     },
     "execution_count": 53,
     "metadata": {},
     "output_type": "execute_result"
    }
   ],
   "source": [
    "x[:, np.newaxis] + x[np.newaxis, :]"
   ]
  },
  {
   "cell_type": "markdown",
   "id": "d6f9cccc",
   "metadata": {},
   "source": [
    "#### Advanced indexing\n",
    "- Advanced indexing is triggered when the selection object, obj, is a non-tuple sequence object, an **ndarray** (of data type integer or bool), or a tuple with at least one sequence object or ndarray (of data type integer or bool). There are two types of advanced indexing: integer and Boolean.\n",
    "- Advanced indexing always returns a copy of the data (contrast with basic slicing that returns a view).\n",
    "- **Warning**: The definition of advanced indexing means that x[(1, 2, 3),] is fundamentally different than x[(1, 2, 3)]. The latter is equivalent to x[1, 2, 3] which will trigger basic selection while the former will trigger advanced indexing. Be sure to understand why this occurs.\n",
    "\n",
    "#### Integer array indexing\n",
    "- Integer array indexing allows selection of arbitrary items in the array based on their N-dimensional index. Each integer array represents a number of indices into that dimension.\n",
    "- Negative values are permitted in the index arrays and work as they do with single indices or slices:"
   ]
  },
  {
   "cell_type": "code",
   "execution_count": 55,
   "id": "a493aa05",
   "metadata": {},
   "outputs": [
    {
     "data": {
      "text/plain": [
       "array([10,  9,  8,  7,  6,  5,  4,  3,  2])"
      ]
     },
     "execution_count": 55,
     "metadata": {},
     "output_type": "execute_result"
    }
   ],
   "source": [
    "x = np.arange(10, 1, -1)\n",
    "x"
   ]
  },
  {
   "cell_type": "code",
   "execution_count": 56,
   "id": "4d1cf41c",
   "metadata": {},
   "outputs": [
    {
     "data": {
      "text/plain": [
       "array([7, 7, 9, 2])"
      ]
     },
     "execution_count": 56,
     "metadata": {},
     "output_type": "execute_result"
    }
   ],
   "source": [
    "x[np.array([3, 3, 1, 8])]"
   ]
  },
  {
   "cell_type": "code",
   "execution_count": 57,
   "id": "7f3ee5cb",
   "metadata": {},
   "outputs": [
    {
     "data": {
      "text/plain": [
       "array([7, 7, 4, 2])"
      ]
     },
     "execution_count": 57,
     "metadata": {},
     "output_type": "execute_result"
    }
   ],
   "source": [
    "x[np.array([3, 3, -3, 8])]"
   ]
  },
  {
   "cell_type": "markdown",
   "id": "23b4250c",
   "metadata": {},
   "source": [
    "- If the index values are out of bounds then an IndexError is thrown:"
   ]
  },
  {
   "cell_type": "code",
   "execution_count": 58,
   "id": "bd68ea63",
   "metadata": {},
   "outputs": [
    {
     "data": {
      "text/plain": [
       "array([[3, 4],\n",
       "       [5, 6]])"
      ]
     },
     "execution_count": 58,
     "metadata": {},
     "output_type": "execute_result"
    }
   ],
   "source": [
    "x = np.array([[1, 2], [3, 4], [5, 6]])\n",
    "x[np.array([1, -1])]\n",
    "# x[np.array([3, 4])] # will throw an IndexError"
   ]
  },
  {
   "cell_type": "markdown",
   "id": "5c6ea0e2",
   "metadata": {},
   "source": [
    "- When the index consists of as many integer arrays as dimensions of the array being indexed, the indexing is straightforward, but different from slicing.\n",
    "\n",
    "- Advanced indices always are **broadcast** and iterated as one:\n",
    "- Note that the resulting shape is identical to the (broadcast) indexing array shapes ind_1, ..., ind_N. If the indices cannot be broadcast to the same shape, an exception IndexError: shape mismatch: indexing arrays could not be broadcast together with shapes... is raised.\n",
    "\n",
    "- Indexing with multidimensional index arrays tend to be more unusual uses, but they are permitted, and they are useful for some problems. We’ll start with the simplest multidimensional case:"
   ]
  },
  {
   "cell_type": "code",
   "execution_count": 59,
   "id": "19e737f6",
   "metadata": {},
   "outputs": [
    {
     "data": {
      "text/plain": [
       "array([[ 0,  1,  2,  3,  4,  5,  6],\n",
       "       [ 7,  8,  9, 10, 11, 12, 13],\n",
       "       [14, 15, 16, 17, 18, 19, 20],\n",
       "       [21, 22, 23, 24, 25, 26, 27],\n",
       "       [28, 29, 30, 31, 32, 33, 34]])"
      ]
     },
     "execution_count": 59,
     "metadata": {},
     "output_type": "execute_result"
    }
   ],
   "source": [
    "y = np.arange(35).reshape(5, 7)\n",
    "y"
   ]
  },
  {
   "cell_type": "code",
   "execution_count": 60,
   "id": "5c271679",
   "metadata": {},
   "outputs": [
    {
     "data": {
      "text/plain": [
       "array([ 0, 15, 30])"
      ]
     },
     "execution_count": 60,
     "metadata": {},
     "output_type": "execute_result"
    }
   ],
   "source": [
    "y[np.array([0, 2, 4]), np.array([0, 1, 2])]"
   ]
  },
  {
   "cell_type": "markdown",
   "id": "09abd71c",
   "metadata": {},
   "source": [
    "- In this case, if the index arrays have a matching shape, and there is an index array for each dimension of the array being indexed, the resultant array has the same shape as the index arrays, and the values correspond to the index set for each position in the index arrays. In this example, the first index value is 0 for both index arrays, and thus the first value of the resultant array is y[0, 0]. The next value is y[2, 1], and the last is y[4, 2].\n",
    "\n",
    "If the index arrays do not have the same shape, there is an attempt to broadcast them to the same shape. If they cannot be broadcast to the same shape, an exception is raised:"
   ]
  },
  {
   "cell_type": "code",
   "execution_count": 61,
   "id": "2b3db930",
   "metadata": {},
   "outputs": [],
   "source": [
    "# y[np.array([0, 2, 4]), np.array([0, 1])] # will produce an IndexError: shape mismatch"
   ]
  },
  {
   "cell_type": "markdown",
   "id": "6da81e39",
   "metadata": {},
   "source": [
    "- The broadcasting mechanism permits index arrays to be combined with scalars for other indices. The effect is that the scalar value is used for all the corresponding values of the index arrays:"
   ]
  },
  {
   "cell_type": "code",
   "execution_count": 62,
   "id": "7af7838f",
   "metadata": {},
   "outputs": [
    {
     "data": {
      "text/plain": [
       "array([ 1, 15, 29])"
      ]
     },
     "execution_count": 62,
     "metadata": {},
     "output_type": "execute_result"
    }
   ],
   "source": [
    "y[np.array([0, 2, 4]), 1]"
   ]
  },
  {
   "cell_type": "markdown",
   "id": "6b4c5966",
   "metadata": {},
   "source": [
    "- Jumping to the next level of complexity, it is possible to only partially index an array with index arrays. It takes a bit of thought to understand what happens in such cases. For example if we just use one index array with y:"
   ]
  },
  {
   "cell_type": "code",
   "execution_count": 63,
   "id": "d88b981c",
   "metadata": {},
   "outputs": [
    {
     "data": {
      "text/plain": [
       "array([[ 0,  1,  2,  3,  4,  5,  6],\n",
       "       [14, 15, 16, 17, 18, 19, 20],\n",
       "       [28, 29, 30, 31, 32, 33, 34]])"
      ]
     },
     "execution_count": 63,
     "metadata": {},
     "output_type": "execute_result"
    }
   ],
   "source": [
    "y[np.array([0, 2, 4])]"
   ]
  },
  {
   "cell_type": "markdown",
   "id": "848b15ce",
   "metadata": {},
   "source": [
    "- It results in the construction of a new array where each value of the index array selects one row from the array being indexed and the resultant array has the resulting shape (number of index elements, size of row).\n",
    "\n",
    "- In general, the shape of the resultant array will be the concatenation of the shape of the index array (or the shape that all the index arrays were broadcast to) with the shape of any unused dimensions (those not indexed) in the array being indexed.\n",
    "\n",
    "#### Example\n",
    "- From each row, a specific element should be selected. The row index is just [0, 1, 2] and the column index specifies the element to choose for the corresponding row, here [0, 1, 0]. Using both together the task can be solved using advanced indexing:"
   ]
  },
  {
   "cell_type": "code",
   "execution_count": 64,
   "id": "48e5076e",
   "metadata": {},
   "outputs": [
    {
     "data": {
      "text/plain": [
       "array([1, 4, 5])"
      ]
     },
     "execution_count": 64,
     "metadata": {},
     "output_type": "execute_result"
    }
   ],
   "source": [
    "x = np.array([[1, 2], [3, 4], [5, 6]])\n",
    "x[[0, 1, 2], [0, 1, 0]]"
   ]
  },
  {
   "cell_type": "markdown",
   "id": "b834bee4",
   "metadata": {},
   "source": [
    "- To achieve a behaviour similar to the basic slicing above, broadcasting can be used. The function ix_ can help with this broadcasting. This is best understood with an example.\n",
    "\n",
    "#### Example\n",
    "- From a 4x3 array the corner elements should be selected using advanced indexing. Thus all elements for which the column is one of [0, 2] and the row is one of [0, 3] need to be selected. To use advanced indexing one needs to select all elements explicitly. Using the method explained previously one could write:"
   ]
  },
  {
   "cell_type": "code",
   "execution_count": 66,
   "id": "e2a34890",
   "metadata": {},
   "outputs": [
    {
     "data": {
      "text/plain": [
       "array([[ 0,  2],\n",
       "       [ 9, 11]])"
      ]
     },
     "execution_count": 66,
     "metadata": {},
     "output_type": "execute_result"
    }
   ],
   "source": [
    "x = np.array([[ 0,  1,  2],\n",
    "              [ 3,  4,  5],\n",
    "              [ 6,  7,  8],\n",
    "              [ 9, 10, 11]])\n",
    "\n",
    "rows = np.array([[0, 0],\n",
    "                 [3, 3]], dtype=np.intp) \n",
    "columns = np.array([[0, 2],\n",
    "                    [0, 2]], dtype=np.intp)\n",
    "x[rows, columns]"
   ]
  },
  {
   "cell_type": "markdown",
   "id": "d30e45d2",
   "metadata": {},
   "source": [
    "- However, since the indexing arrays above just repeat themselves, broadcasting can be used (compare operations such as rows[:, np.newaxis] + columns) to simplify this:"
   ]
  },
  {
   "cell_type": "code",
   "execution_count": 67,
   "id": "d9974b52",
   "metadata": {},
   "outputs": [
    {
     "data": {
      "text/plain": [
       "array([[0],\n",
       "       [3]])"
      ]
     },
     "execution_count": 67,
     "metadata": {},
     "output_type": "execute_result"
    }
   ],
   "source": [
    "rows = np.array([0, 3], dtype=np.intp)\n",
    "columns = np.array([0, 2], dtype=np.intp)\n",
    "rows[:, np.newaxis]"
   ]
  },
  {
   "cell_type": "code",
   "execution_count": 68,
   "id": "6da216f3",
   "metadata": {},
   "outputs": [
    {
     "data": {
      "text/plain": [
       "array([[ 0,  2],\n",
       "       [ 9, 11]])"
      ]
     },
     "execution_count": 68,
     "metadata": {},
     "output_type": "execute_result"
    }
   ],
   "source": [
    "x[rows[:, np.newaxis], columns]"
   ]
  },
  {
   "cell_type": "markdown",
   "id": "0963bd8b",
   "metadata": {},
   "source": [
    "- This broadcasting can also be achieved using the function ix_:"
   ]
  },
  {
   "cell_type": "code",
   "execution_count": 69,
   "id": "60c45fbe",
   "metadata": {},
   "outputs": [
    {
     "data": {
      "text/plain": [
       "array([[ 0,  2],\n",
       "       [ 9, 11]])"
      ]
     },
     "execution_count": 69,
     "metadata": {},
     "output_type": "execute_result"
    }
   ],
   "source": [
    "x[np.ix_(rows, columns)]"
   ]
  },
  {
   "cell_type": "markdown",
   "id": "b1a102c8",
   "metadata": {},
   "source": [
    "- Note that without the np.ix_ call, only the diagonal elements would be selected:"
   ]
  },
  {
   "cell_type": "code",
   "execution_count": 70,
   "id": "cf740efd",
   "metadata": {},
   "outputs": [
    {
     "data": {
      "text/plain": [
       "array([ 0, 11])"
      ]
     },
     "execution_count": 70,
     "metadata": {},
     "output_type": "execute_result"
    }
   ],
   "source": [
    "x[rows, columns]"
   ]
  },
  {
   "cell_type": "markdown",
   "id": "81bb8b8e",
   "metadata": {},
   "source": [
    "- This difference is the most important thing to remember about indexing with multiple advanced indices.\n",
    "\n",
    "#### Example\n",
    "- A real-life example of where advanced indexing may be useful is for a color lookup table where we want to map the values of an image into RGB triples for display. The lookup table could have a shape (nlookup, 3). Indexing such an array with an image with shape (ny, nx) with dtype=np.uint8 (or any integer type so long as values are with the bounds of the lookup table) will result in an array of shape (ny, nx, 3) where a triple of RGB values is associated with each pixel location."
   ]
  },
  {
   "cell_type": "markdown",
   "id": "66b4570c",
   "metadata": {},
   "source": [
    "#### Boolean array indexing\n",
    "- This advanced indexing occurs when obj is an array object of Boolean type, such as may be returned from comparison operators. A single boolean index array is practically identical to **x[obj.nonzero()]** where, as described above, **obj.nonzero()** returns a tuple (of length **obj.ndim**) of integer index arrays showing the True elements of obj. However, it is faster when **obj.shape == x.shape**.\n",
    "\n",
    "- If **obj.ndim == x.ndim**, **x[obj]** returns a 1-dimensional array filled with the elements of x corresponding to the True values of obj. The search order will be row-major, C-style. An index error will be raised if the shape of obj does not match the corresponding dimensions of x, regardless of whether those values are True or False.\n",
    "\n",
    "- A common use case for this is filtering for desired element values. For example, one may wish to select all entries from an array which are not numpy.nan:"
   ]
  },
  {
   "cell_type": "code",
   "execution_count": 71,
   "id": "71ec9653",
   "metadata": {},
   "outputs": [
    {
     "data": {
      "text/plain": [
       "array([1., 2., 3.])"
      ]
     },
     "execution_count": 71,
     "metadata": {},
     "output_type": "execute_result"
    }
   ],
   "source": [
    "x = np.array([[1., 2.], [np.nan, 3.], [np.nan, np.nan]])\n",
    "x[~np.isnan(x)]"
   ]
  },
  {
   "cell_type": "markdown",
   "id": "28c3d5e4",
   "metadata": {},
   "source": [
    "- Or wish to add a constant to all negative elements:"
   ]
  },
  {
   "cell_type": "code",
   "execution_count": null,
   "id": "4b8b8689",
   "metadata": {},
   "outputs": [
    {
     "data": {
      "text/plain": [
       "array([ 1., 19., 18.,  3.])"
      ]
     },
     "execution_count": 72,
     "metadata": {},
     "output_type": "execute_result"
    }
   ],
   "source": [
    "x = np.array([1., -1., -2., 3])\n",
    "x[x < 0] += 20 # any indices less than 0, add 20 to it\n",
    "x"
   ]
  },
  {
   "cell_type": "markdown",
   "id": "43edf574",
   "metadata": {},
   "source": [
    "- In general if an index includes a Boolean array, the result will be identical to inserting obj.nonzero() into the same position and using the integer array indexing mechanism described above. x[ind_1, boolean_array, ind_2] is equivalent to x[(ind_1,) + boolean_array.nonzero() + (ind_2,)].\n",
    "\n",
    "- If there is only one Boolean array and no integer indexing array present, this is straightforward. Care must only be taken to make sure that the boolean index has exactly as many dimensions as it is supposed to work with.\n",
    "\n",
    "- In general, when the boolean array has fewer dimensions than the array being indexed, this is equivalent to x[b, ...], which means x is indexed by b followed by as many : as are needed to fill out the rank of x. Thus the shape of the result is one dimension containing the number of True elements of the boolean array, followed by the remaining dimensions of the array being indexed:"
   ]
  },
  {
   "cell_type": "code",
   "execution_count": null,
   "id": "28cd01d2",
   "metadata": {},
   "outputs": [
    {
     "data": {
      "text/plain": [
       "array([False, False, False,  True,  True])"
      ]
     },
     "execution_count": 73,
     "metadata": {},
     "output_type": "execute_result"
    }
   ],
   "source": [
    "x = np.arange(35).reshape(5, 7)\n",
    "b = x > 20\n",
    "b[:, 5] # create a boolean indices take all the column, and the column index 5"
   ]
  },
  {
   "cell_type": "code",
   "execution_count": 74,
   "id": "a47a31dc",
   "metadata": {},
   "outputs": [
    {
     "data": {
      "text/plain": [
       "array([[21, 22, 23, 24, 25, 26, 27],\n",
       "       [28, 29, 30, 31, 32, 33, 34]])"
      ]
     },
     "execution_count": 74,
     "metadata": {},
     "output_type": "execute_result"
    }
   ],
   "source": [
    "x[b[:, 5]]"
   ]
  },
  {
   "cell_type": "markdown",
   "id": "19b739a4",
   "metadata": {},
   "source": [
    "- Here the 4th and 5th rows are selected from the indexed array and combined to make a 2-D array.\n",
    "\n",
    "#### Example\n",
    "- From an array, select all rows which sum up to less or equal two:"
   ]
  },
  {
   "cell_type": "code",
   "execution_count": 75,
   "id": "f3a7f36c",
   "metadata": {},
   "outputs": [
    {
     "data": {
      "text/plain": [
       "array([[0, 1],\n",
       "       [1, 1]])"
      ]
     },
     "execution_count": 75,
     "metadata": {},
     "output_type": "execute_result"
    }
   ],
   "source": [
    "x = np.array([[0, 1], [1, 1], [2, 2]])\n",
    "rowsum = x.sum(-1)\n",
    "x[rowsum <= 2, :]"
   ]
  },
  {
   "cell_type": "markdown",
   "id": "2741a09a",
   "metadata": {},
   "source": [
    "- Combining multiple Boolean indexing arrays or a Boolean with an integer indexing array can best be understood with the **obj.nonzero()** analogy. The function **ix_** also supports boolean arrays and will work without any surprises.\n",
    "#### Example\n",
    "- Use boolean indexing to select all rows adding up to an even number. At the same time columns 0 and 2 should be selected with an advanced integer index. Using the **ix_** function this can be done with:"
   ]
  },
  {
   "cell_type": "code",
   "execution_count": null,
   "id": "1040fb16",
   "metadata": {},
   "outputs": [
    {
     "data": {
      "text/plain": [
       "array([False,  True, False,  True])"
      ]
     },
     "execution_count": 76,
     "metadata": {},
     "output_type": "execute_result"
    }
   ],
   "source": [
    "x = np.array([[ 0,  1,  2],\n",
    "              [ 3,  4,  5],\n",
    "              [ 6,  7,  8],\n",
    "              [ 9, 10, 11]])\n",
    "rows = (x.sum(-1) % 2) == 0 # create an array of the sums of  each row, then get the even of those sums\n",
    "rows\n"
   ]
  },
  {
   "cell_type": "code",
   "execution_count": 77,
   "id": "b93015f7",
   "metadata": {},
   "outputs": [
    {
     "data": {
      "text/plain": [
       "array([[ 3,  5],\n",
       "       [ 9, 11]])"
      ]
     },
     "execution_count": 77,
     "metadata": {},
     "output_type": "execute_result"
    }
   ],
   "source": [
    "columns = [0, 2]\n",
    "x[np.ix_(rows, columns)]"
   ]
  },
  {
   "cell_type": "markdown",
   "id": "c154a1a3",
   "metadata": {},
   "source": [
    "- Without the **np.ix_** call, only the diagonal elements would be selected.\n",
    "\n",
    "- Or without **np.ix_** (compare the integer array examples):"
   ]
  },
  {
   "cell_type": "code",
   "execution_count": 82,
   "id": "a6968a25",
   "metadata": {},
   "outputs": [
    {
     "data": {
      "text/plain": [
       "array([[ 3,  5],\n",
       "       [ 9, 11]])"
      ]
     },
     "execution_count": 82,
     "metadata": {},
     "output_type": "execute_result"
    }
   ],
   "source": [
    "rows = rows.nonzero()[0]\n",
    "x[rows[:, np.newaxis], columns]"
   ]
  },
  {
   "cell_type": "markdown",
   "id": "935e44ab",
   "metadata": {},
   "source": [
    "#### Example\n",
    "- Use a 2-D boolean array of shape (2, 3) with four True elements to select rows from a 3-D array of shape (2, 3, 5) results in a 2-D result of shape (4, 5):"
   ]
  },
  {
   "cell_type": "code",
   "execution_count": 83,
   "id": "b5fe8b79",
   "metadata": {},
   "outputs": [
    {
     "data": {
      "text/plain": [
       "array([[[ 0,  1,  2,  3,  4],\n",
       "        [ 5,  6,  7,  8,  9],\n",
       "        [10, 11, 12, 13, 14]],\n",
       "\n",
       "       [[15, 16, 17, 18, 19],\n",
       "        [20, 21, 22, 23, 24],\n",
       "        [25, 26, 27, 28, 29]]])"
      ]
     },
     "execution_count": 83,
     "metadata": {},
     "output_type": "execute_result"
    }
   ],
   "source": [
    "x = np.arange(30).reshape(2, 3, 5)\n",
    "x"
   ]
  },
  {
   "cell_type": "code",
   "execution_count": 84,
   "id": "03c6770d",
   "metadata": {},
   "outputs": [
    {
     "data": {
      "text/plain": [
       "array([[ 0,  1,  2,  3,  4],\n",
       "       [ 5,  6,  7,  8,  9],\n",
       "       [20, 21, 22, 23, 24],\n",
       "       [25, 26, 27, 28, 29]])"
      ]
     },
     "execution_count": 84,
     "metadata": {},
     "output_type": "execute_result"
    }
   ],
   "source": [
    "b = np.array([[True, True, False], [False, True, True]])\n",
    "x[b]"
   ]
  },
  {
   "cell_type": "markdown",
   "id": "c0bfcc5d",
   "metadata": {},
   "source": [
    "#### Combining advanced and basic indexing\n",
    "- When there is at least one slice (:), ellipsis (...) or newaxis in the index (or the array has more dimensions than there are advanced indices), then the behaviour can be more complicated. It is like concatenating the indexing result for each advanced index element.\n",
    "\n",
    "- In the simplest case, there is only a single advanced index combined with a slice. For example:"
   ]
  },
  {
   "cell_type": "code",
   "execution_count": null,
   "id": "c8580b97",
   "metadata": {},
   "outputs": [
    {
     "data": {
      "text/plain": [
       "array([[ 1,  2],\n",
       "       [15, 16],\n",
       "       [29, 30]])"
      ]
     },
     "execution_count": 85,
     "metadata": {},
     "output_type": "execute_result"
    }
   ],
   "source": [
    "y = np.arange(35).reshape(5,7)\n",
    "y[np.array([0, 2, 4]), 1:3] # take the 0, 2, 4 row, and the 1, 2 column"
   ]
  },
  {
   "cell_type": "markdown",
   "id": "1c751237",
   "metadata": {},
   "source": [
    "- In effect, the slice and index array operation are independent. The slice operation extracts columns with index 1 and 2, (i.e. the 2nd and 3rd columns), followed by the index array operation which extracts rows with index 0, 2 and 4 (i.e the first, third and fifth rows). This is equivalent to:"
   ]
  },
  {
   "cell_type": "code",
   "execution_count": null,
   "id": "0341027f",
   "metadata": {},
   "outputs": [
    {
     "data": {
      "text/plain": [
       "array([[ 1,  2],\n",
       "       [15, 16],\n",
       "       [29, 30]])"
      ]
     },
     "execution_count": 86,
     "metadata": {},
     "output_type": "execute_result"
    }
   ],
   "source": [
    "y[:, 1:3][np.array([0, 2, 4]), :] # could also break it up into 2 look up via bracket []"
   ]
  },
  {
   "cell_type": "markdown",
   "id": "838be609",
   "metadata": {},
   "source": [
    "- A single advanced index can, for example, replace a slice and the result array will be the same. However, it is a copy and may have a different memory layout. A slice is preferable when it is possible. For example:"
   ]
  },
  {
   "cell_type": "code",
   "execution_count": 87,
   "id": "1c923354",
   "metadata": {},
   "outputs": [
    {
     "data": {
      "text/plain": [
       "array([[4, 5]])"
      ]
     },
     "execution_count": 87,
     "metadata": {},
     "output_type": "execute_result"
    }
   ],
   "source": [
    "x = np.array([[ 0,  1,  2],\n",
    "              [ 3,  4,  5],\n",
    "              [ 6,  7,  8],\n",
    "              [ 9, 10, 11]])\n",
    "x[1:2, 1:3]\n"
   ]
  },
  {
   "cell_type": "code",
   "execution_count": 88,
   "id": "9eaf1a3b",
   "metadata": {},
   "outputs": [
    {
     "data": {
      "text/plain": [
       "array([[4, 5]])"
      ]
     },
     "execution_count": 88,
     "metadata": {},
     "output_type": "execute_result"
    }
   ],
   "source": [
    "x[1:2, [1, 2]]"
   ]
  },
  {
   "cell_type": "markdown",
   "id": "d18f676d",
   "metadata": {},
   "source": [
    "- The easiest way to understand a combination of multiple advanced indices may be to think in terms of the resulting shape. There are two parts to the indexing operation, the subspace defined by the basic indexing (excluding integers) and the subspace from the advanced indexing part. Two cases of index combination need to be distinguished:\n",
    "    - The advanced indices are separated by a slice, Ellipsis or newaxis. For example x[arr1, :, arr2].\n",
    "    - The advanced indices are all next to each other. For example x[..., arr1, arr2, :] but not x[arr1, :, 1] since 1 is an advanced index in this regard.\n",
    "\n",
    "- In the first case, the dimensions resulting from the advanced indexing operation come first in the result array, and the subspace dimensions after that. In the second case, the dimensions from the advanced indexing operations are inserted into the result array at the same spot as they were in the initial array (the latter logic is what makes simple advanced indexing behave just like slicing).\n",
    "#### Example\n",
    "- Suppose x.shape is (10, 20, 30) and ind is a (2, 5, 2)-shaped indexing intp array, then result = x[..., ind, :] has shape (10, 2, 5, 2, 30) because the (20,)-shaped subspace has been replaced with a (2, 5, 2)-shaped broadcasted indexing subspace. If we let i, j, k loop over the (2, 5, 2)-shaped subspace then result[..., i, j, k, :] = x[..., ind[i, j, k], :]. This example produces the same result as x.take(ind, axis=-2).\n",
    "\n",
    "#### Example\n",
    "- Let x.shape be (10, 20, 30, 40, 50) and suppose ind_1 and ind_2 can be broadcast to the shape (2, 3, 4). Then x[:, ind_1, ind_2] has shape (10, 2, 3, 4, 40, 50) because the (20, 30)-shaped subspace from X has been replaced with the (2, 3, 4) subspace from the indices. However, x[:, ind_1, :, ind_2] has shape (2, 3, 4, 10, 30, 50) because there is no unambiguous place to drop in the indexing subspace, thus it is tacked-on to the beginning. It is always possible to use .transpose() to move the subspace anywhere desired. Note that this example cannot be replicated using take.\n",
    "#### Example\n",
    "- Slicing can be combined with broadcasted boolean indices:"
   ]
  },
  {
   "cell_type": "code",
   "execution_count": 89,
   "id": "2622b8eb",
   "metadata": {},
   "outputs": [
    {
     "data": {
      "text/plain": [
       "array([[False, False, False, False, False, False, False],\n",
       "       [False, False, False, False, False, False, False],\n",
       "       [False, False, False, False, False, False, False],\n",
       "       [ True,  True,  True,  True,  True,  True,  True],\n",
       "       [ True,  True,  True,  True,  True,  True,  True]])"
      ]
     },
     "execution_count": 89,
     "metadata": {},
     "output_type": "execute_result"
    }
   ],
   "source": [
    "x = np.arange(35).reshape(5, 7)\n",
    "b = x > 20\n",
    "b"
   ]
  },
  {
   "cell_type": "code",
   "execution_count": 90,
   "id": "386d2322",
   "metadata": {},
   "outputs": [
    {
     "data": {
      "text/plain": [
       "array([[22, 23],\n",
       "       [29, 30]])"
      ]
     },
     "execution_count": 90,
     "metadata": {},
     "output_type": "execute_result"
    }
   ],
   "source": [
    "x[b[:, 5], 1:3]"
   ]
  },
  {
   "cell_type": "markdown",
   "id": "47a0bd53",
   "metadata": {},
   "source": [
    "#### Field access\n",
    "- If the ndarray object is a structured array the fields of the array can be accessed by indexing the array with strings, dictionary-like.\n",
    "- Indexing x['field-name'] returns a new view to the array, which is of the same shape as x (except when the field is a sub-array) but of data type x.dtype['field-name'] and contains only the part of the data in the specified field. Also, record array scalars can be “indexed” this way.\n",
    "- Indexing into a structured array can also be done with a list of field names, e.g. x[['field-name1', 'field-name2']]. As of NumPy 1.16, this returns a view containing only those fields. In older versions of NumPy, it returned a copy. See the user guide section on Structured arrays for more information on multifield indexing.\n",
    "- If the accessed field is a sub-array, the dimensions of the sub-array are appended to the shape of the result. For example:"
   ]
  },
  {
   "cell_type": "code",
   "execution_count": 91,
   "id": "06a05f44",
   "metadata": {},
   "outputs": [
    {
     "data": {
      "text/plain": [
       "(2, 2)"
      ]
     },
     "execution_count": 91,
     "metadata": {},
     "output_type": "execute_result"
    }
   ],
   "source": [
    "x = np.zeros((2, 2), dtype=[('a', np.int32), ('b', np.float64, (3, 3))])\n",
    "x['a'].shape"
   ]
  },
  {
   "cell_type": "code",
   "execution_count": 92,
   "id": "eb1b3608",
   "metadata": {},
   "outputs": [
    {
     "data": {
      "text/plain": [
       "dtype('int32')"
      ]
     },
     "execution_count": 92,
     "metadata": {},
     "output_type": "execute_result"
    }
   ],
   "source": [
    "x['a'].dtype"
   ]
  },
  {
   "cell_type": "code",
   "execution_count": 93,
   "id": "bb183c25",
   "metadata": {},
   "outputs": [
    {
     "data": {
      "text/plain": [
       "(2, 2, 3, 3)"
      ]
     },
     "execution_count": 93,
     "metadata": {},
     "output_type": "execute_result"
    }
   ],
   "source": [
    "x['b'].shape"
   ]
  },
  {
   "cell_type": "code",
   "execution_count": 94,
   "id": "00847536",
   "metadata": {},
   "outputs": [
    {
     "data": {
      "text/plain": [
       "dtype('float64')"
      ]
     },
     "execution_count": 94,
     "metadata": {},
     "output_type": "execute_result"
    }
   ],
   "source": [
    "x['b'].dtype"
   ]
  },
  {
   "cell_type": "markdown",
   "id": "742f3a3d",
   "metadata": {},
   "source": [
    "#### Flat iterator indexing\n",
    "- x.flat returns an iterator that will iterate over the entire array (in C-contiguous style with the last index varying the fastest). This iterator object can also be indexed using basic slicing or advanced indexing as long as the selection object is not a tuple. This should be clear from the fact that x.flat is a 1-dimensional view. It can be used for integer indexing with 1-dimensional C-style-flat indices. The shape of any returned array is therefore the shape of the integer indexing object.\n",
    "\n",
    "#### Assigning values to indexed arrays\n",
    "- As mentioned, one can select a subset of an array to assign to using a single index, slices, and index and mask arrays. The value being assigned to the indexed array must be shape consistent (the same shape or broadcastable to the shape the index produces). For example, it is permitted to assign a constant to a slice:"
   ]
  },
  {
   "cell_type": "code",
   "execution_count": 95,
   "id": "b4a68910",
   "metadata": {},
   "outputs": [
    {
     "data": {
      "text/plain": [
       "array([0, 1, 1, 1, 1, 1, 1, 7, 8, 9])"
      ]
     },
     "execution_count": 95,
     "metadata": {},
     "output_type": "execute_result"
    }
   ],
   "source": [
    "x = np.arange(10)\n",
    "x[2:7] = 1\n",
    "x"
   ]
  },
  {
   "cell_type": "markdown",
   "id": "d39293a9",
   "metadata": {},
   "source": [
    "- or an array of the right size:"
   ]
  },
  {
   "cell_type": "code",
   "execution_count": 96,
   "id": "518f3e38",
   "metadata": {},
   "outputs": [
    {
     "data": {
      "text/plain": [
       "array([0, 1, 0, 1, 2, 3, 4, 7, 8, 9])"
      ]
     },
     "execution_count": 96,
     "metadata": {},
     "output_type": "execute_result"
    }
   ],
   "source": [
    "x[2:7] = np.arange(5)\n",
    "x"
   ]
  },
  {
   "cell_type": "markdown",
   "id": "902a07d5",
   "metadata": {},
   "source": [
    "- Note that assignments may result in changes if assigning higher types to lower types (like floats to ints) or even exceptions (assigning complex to floats or ints):"
   ]
  },
  {
   "cell_type": "code",
   "execution_count": 98,
   "id": "1266cbff",
   "metadata": {},
   "outputs": [
    {
     "data": {
      "text/plain": [
       "np.int64(1)"
      ]
     },
     "execution_count": 98,
     "metadata": {},
     "output_type": "execute_result"
    }
   ],
   "source": [
    "x[1] = 1.2\n",
    "x[1]\n",
    "# x[1] = 1.2j  will cause a TypeError"
   ]
  },
  {
   "cell_type": "markdown",
   "id": "9ff7a3be",
   "metadata": {},
   "source": [
    "- Unlike some of the references (such as array and mask indices) assignments are always made to the original data in the array (indeed, nothing else would make sense!). Note though, that some actions may not work as one may naively expect. This particular example is often surprising to people:"
   ]
  },
  {
   "cell_type": "code",
   "execution_count": 99,
   "id": "b2cafc81",
   "metadata": {},
   "outputs": [
    {
     "data": {
      "text/plain": [
       "array([ 0, 10, 20, 30, 40])"
      ]
     },
     "execution_count": 99,
     "metadata": {},
     "output_type": "execute_result"
    }
   ],
   "source": [
    "x = np.arange(0, 50, 10)\n",
    "x"
   ]
  },
  {
   "cell_type": "code",
   "execution_count": null,
   "id": "f060ec14",
   "metadata": {},
   "outputs": [
    {
     "data": {
      "text/plain": [
       "array([ 0, 11, 20, 31, 40])"
      ]
     },
     "execution_count": 100,
     "metadata": {},
     "output_type": "execute_result"
    }
   ],
   "source": [
    "x[np.array([1, 1, 3, 1])] += 1 # select the indices to increment by 1\n",
    "x"
   ]
  },
  {
   "cell_type": "markdown",
   "id": "7a7dcd80",
   "metadata": {},
   "source": [
    "- Where people expect that the 1st location will be incremented by 3. In fact, it will only be incremented by 1. The reason is that a new array is extracted from the original (as a temporary) containing the values at 1, 1, 3, 1, then the value 1 is added to the temporary, and then the temporary is assigned back to the original array. Thus the value of the array at x[1] + 1 is assigned to x[1] three times, rather than being incremented 3 times."
   ]
  },
  {
   "cell_type": "markdown",
   "id": "b57696ae",
   "metadata": {},
   "source": [
    "#### Dealing with variable numbers of indices within programs\n",
    "- The indexing syntax is very powerful but limiting when dealing with a variable number of indices. For example, if you want to write a function that can handle arguments with various numbers of dimensions without having to write special case code for each number of possible dimensions, how can that be done? If one supplies to the index a tuple, the tuple will be interpreted as a list of indices. For example:"
   ]
  },
  {
   "cell_type": "code",
   "execution_count": 103,
   "id": "78782158",
   "metadata": {},
   "outputs": [
    {
     "data": {
      "text/plain": [
       "np.int64(40)"
      ]
     },
     "execution_count": 103,
     "metadata": {},
     "output_type": "execute_result"
    }
   ],
   "source": [
    "z = np.arange(81).reshape(3, 3, 3, 3)\n",
    "indices = (1, 1, 1, 1)\n",
    "z[indices]"
   ]
  },
  {
   "cell_type": "markdown",
   "id": "626e1e2c",
   "metadata": {},
   "source": [
    "- So one can use code to construct tuples of any number of indices and then use these within an index.\n",
    "- Slices can be specified within programs by using the slice() function in Python. For example:"
   ]
  },
  {
   "cell_type": "code",
   "execution_count": 104,
   "id": "a4c38351",
   "metadata": {},
   "outputs": [
    {
     "data": {
      "text/plain": [
       "array([39, 40])"
      ]
     },
     "execution_count": 104,
     "metadata": {},
     "output_type": "execute_result"
    }
   ],
   "source": [
    "indices = (1, 1, 1, slice(0, 2))  # same as [1, 1, 1, 0:2]\n",
    "z[indices]"
   ]
  },
  {
   "cell_type": "markdown",
   "id": "8b42b31b",
   "metadata": {},
   "source": [
    "- Likewise, ellipsis can be specified by code by using the Ellipsis object:"
   ]
  },
  {
   "cell_type": "code",
   "execution_count": 105,
   "id": "2ede03a9",
   "metadata": {},
   "outputs": [
    {
     "data": {
      "text/plain": [
       "array([[28, 31, 34],\n",
       "       [37, 40, 43],\n",
       "       [46, 49, 52]])"
      ]
     },
     "execution_count": 105,
     "metadata": {},
     "output_type": "execute_result"
    }
   ],
   "source": [
    "indices = (1, Ellipsis, 1)  # same as [1, ..., 1]\n",
    "z[indices]"
   ]
  },
  {
   "cell_type": "markdown",
   "id": "3e2c7b8d",
   "metadata": {},
   "source": [
    "- For this reason, it is possible to use the output from the np.nonzero() function directly as an index since it always returns a tuple of index arrays.\n",
    "- Because of the special treatment of tuples, they are not automatically converted to an array as a list would be. As an example:"
   ]
  },
  {
   "cell_type": "code",
   "execution_count": 106,
   "id": "a84172b7",
   "metadata": {},
   "outputs": [
    {
     "data": {
      "text/plain": [
       "array([[[[27, 28, 29],\n",
       "         [30, 31, 32],\n",
       "         [33, 34, 35]],\n",
       "\n",
       "        [[36, 37, 38],\n",
       "         [39, 40, 41],\n",
       "         [42, 43, 44]],\n",
       "\n",
       "        [[45, 46, 47],\n",
       "         [48, 49, 50],\n",
       "         [51, 52, 53]]],\n",
       "\n",
       "\n",
       "       [[[27, 28, 29],\n",
       "         [30, 31, 32],\n",
       "         [33, 34, 35]],\n",
       "\n",
       "        [[36, 37, 38],\n",
       "         [39, 40, 41],\n",
       "         [42, 43, 44]],\n",
       "\n",
       "        [[45, 46, 47],\n",
       "         [48, 49, 50],\n",
       "         [51, 52, 53]]],\n",
       "\n",
       "\n",
       "       [[[27, 28, 29],\n",
       "         [30, 31, 32],\n",
       "         [33, 34, 35]],\n",
       "\n",
       "        [[36, 37, 38],\n",
       "         [39, 40, 41],\n",
       "         [42, 43, 44]],\n",
       "\n",
       "        [[45, 46, 47],\n",
       "         [48, 49, 50],\n",
       "         [51, 52, 53]]],\n",
       "\n",
       "\n",
       "       [[[27, 28, 29],\n",
       "         [30, 31, 32],\n",
       "         [33, 34, 35]],\n",
       "\n",
       "        [[36, 37, 38],\n",
       "         [39, 40, 41],\n",
       "         [42, 43, 44]],\n",
       "\n",
       "        [[45, 46, 47],\n",
       "         [48, 49, 50],\n",
       "         [51, 52, 53]]]])"
      ]
     },
     "execution_count": 106,
     "metadata": {},
     "output_type": "execute_result"
    }
   ],
   "source": [
    "z[[1, 1, 1, 1]]  # produces a large array"
   ]
  },
  {
   "cell_type": "code",
   "execution_count": 107,
   "id": "d2d2d706",
   "metadata": {},
   "outputs": [
    {
     "data": {
      "text/plain": [
       "np.int64(40)"
      ]
     },
     "execution_count": 107,
     "metadata": {},
     "output_type": "execute_result"
    }
   ],
   "source": [
    "z[(1, 1, 1, 1)]  # returns a single value"
   ]
  },
  {
   "cell_type": "markdown",
   "id": "7386273d",
   "metadata": {},
   "source": [
    "#### Detailed notes\n",
    "- These are some detailed notes, which are not of importance for day to day indexing (in no particular order):\n",
    "\n",
    "- The native NumPy indexing type is intp and may differ from the default integer array type. intp is the smallest data type sufficient to safely index any array; for advanced indexing it may be faster than other types.\n",
    "\n",
    "- For advanced assignments, there is in general no guarantee for the iteration order. This means that if an element is set more than once, it is not possible to predict the final result.\n",
    "\n",
    "- An empty (tuple) index is a full scalar index into a zero-dimensional array. x[()] returns a scalar if x is zero-dimensional and a view otherwise. On the other hand, x[...] always returns a view.\n",
    "\n",
    "- If a zero-dimensional array is present in the index and it is a full integer index the result will be a scalar and not a zero-dimensional array. (Advanced indexing is not triggered.)\n",
    "\n",
    "- When an ellipsis (...) is present but has no size (i.e. replaces zero :) the result will still always be an array. A view if no advanced index is present, otherwise a copy.\n",
    "\n",
    "- The nonzero equivalence for Boolean arrays does not hold for zero dimensional boolean arrays.\n",
    "\n",
    "- When the result of an advanced indexing operation has no elements but an individual index is out of bounds, whether or not an IndexError is raised is undefined (e.g. x[[], [123]] with 123 being out of bounds).\n",
    "\n",
    "- When a casting error occurs during assignment (for example updating a numerical array using a sequence of strings), the array being assigned to may end up in an unpredictable partially updated state. However, if any other error (such as an out of bounds index) occurs, the array will remain unchanged.\n",
    "\n",
    "- The memory layout of an advanced indexing result is optimized for each indexing operation and no particular memory order can be assumed.\n",
    "\n",
    "- When using a subclass (especially one which manipulates its shape), the default ndarray.__setitem__ behaviour will call __getitem__ for basic indexing but not for advanced indexing. For such a subclass it may be preferable to call ndarray.__setitem__ with a base class ndarray view on the data. This must be done if the subclasses __getitem__ does not return views."
   ]
  },
  {
   "cell_type": "markdown",
   "id": "00dc26a9",
   "metadata": {},
   "source": [
    "## I/O with Numpy\n",
    "#### Importing data with genfromtxt\n",
    "- NumPy provides several functions to create arrays from tabular data. We focus here on the genfromtxt function.\n",
    "\n",
    "- In a nutshell, genfromtxt runs two main loops. The first loop converts each line of the file in a sequence of strings. The second loop converts each string to the appropriate data type. This mechanism is slower than a single loop, but gives more flexibility. In particular, genfromtxt is able to take missing data into account, when other faster and simpler functions like loadtxt cannot.\n",
    "\n"
   ]
  },
  {
   "cell_type": "code",
   "execution_count": 108,
   "id": "3e6a1b21",
   "metadata": {},
   "outputs": [],
   "source": [
    "from io import StringIO"
   ]
  },
  {
   "cell_type": "markdown",
   "id": "2c94474e",
   "metadata": {},
   "source": [
    "#### Defining the input\n",
    "- The only mandatory argument of genfromtxt is the source of the data. It can be a string, a list of strings, a generator or an open file-like object with a read method, for example, a file or io.StringIO object. If a single string is provided, it is assumed to be the name of a local or remote file. If a list of strings or a generator returning strings is provided, each string is treated as one line in a file. When the URL of a remote file is passed, the file is automatically downloaded to the current directory and opened.\n",
    "\n",
    "- Recognized file types are text files and archives. Currently, the function recognizes gzip and bz2 (bzip2) archives. The type of the archive is determined from the extension of the file: if the filename ends with '.gz', a gzip archive is expected; if it ends with 'bz2', a bzip2 archive is assumed."
   ]
  },
  {
   "cell_type": "markdown",
   "id": "9a9bea4a",
   "metadata": {},
   "source": [
    "#### Splitting the lines into columns\n",
    "#### The delimiter argument\n",
    "- Once the file is defined and open for reading, genfromtxt splits each non-empty line into a sequence of strings. Empty or commented lines are just skipped. The delimiter keyword is used to define how the splitting should take place.\n",
    "\n",
    "- Quite often, a single character marks the separation between columns. For example, comma-separated files (CSV) use a comma (,) or a semicolon (;) as delimiter:"
   ]
  },
  {
   "cell_type": "code",
   "execution_count": 109,
   "id": "fb1f4ea8",
   "metadata": {},
   "outputs": [
    {
     "data": {
      "text/plain": [
       "array([[1., 2., 3.],\n",
       "       [4., 5., 6.]])"
      ]
     },
     "execution_count": 109,
     "metadata": {},
     "output_type": "execute_result"
    }
   ],
   "source": [
    "data = \"1, 2, 3\\n4, 5, 6\"\n",
    "np.genfromtxt(StringIO(data), delimiter=\",\")"
   ]
  },
  {
   "cell_type": "markdown",
   "id": "70d7be27",
   "metadata": {},
   "source": [
    "- Another common separator is \"\\t\", the tabulation character. However, we are not limited to a single character, any string will do. By default, genfromtxt assumes delimiter=None, meaning that the line is split along white spaces (including tabs) and that consecutive white spaces are considered as a single white space.\n",
    "\n",
    "- Alternatively, we may be dealing with a fixed-width file, where columns are defined as a given number of characters. In that case, we need to set delimiter to a single integer (if all the columns have the same size) or to a sequence of integers (if columns can have different sizes):"
   ]
  },
  {
   "cell_type": "code",
   "execution_count": 111,
   "id": "672de9a8",
   "metadata": {},
   "outputs": [
    {
     "data": {
      "text/plain": [
       "array([[  1.,   2.,   3.],\n",
       "       [  4.,   5.,  67.],\n",
       "       [890., 123.,   4.]])"
      ]
     },
     "execution_count": 111,
     "metadata": {},
     "output_type": "execute_result"
    }
   ],
   "source": [
    "data = \"  1  2  3\\n 4  5 67\\n890123 4\"\n",
    "np.genfromtxt(StringIO(data), delimiter=3)"
   ]
  },
  {
   "cell_type": "code",
   "execution_count": 112,
   "id": "413a2618",
   "metadata": {},
   "outputs": [
    {
     "data": {
      "text/plain": [
       "array([[1234.,  567.,   89.],\n",
       "       [  nan,    4.,    7.],\n",
       "       [  nan,  456.,    7.]])"
      ]
     },
     "execution_count": 112,
     "metadata": {},
     "output_type": "execute_result"
    }
   ],
   "source": [
    "data = \"123456789\\n    4   7 9\\n    4567 9\"\n",
    "np.genfromtxt(StringIO(data), delimiter=(4, 3, 2))"
   ]
  },
  {
   "cell_type": "markdown",
   "id": "e4892edb",
   "metadata": {},
   "source": [
    "#### The autostrip argument\n",
    "- By default, when a line is decomposed into a series of strings, the individual entries are not stripped of leading nor trailing white spaces. This behavior can be overwritten by setting the optional argument autostrip to a value of True:"
   ]
  },
  {
   "cell_type": "code",
   "execution_count": 118,
   "id": "52bc0838",
   "metadata": {},
   "outputs": [
    {
     "data": {
      "text/plain": [
       "array([['1', ' abc ', ' 2'],\n",
       "       ['3', ' xxx', ' 4']], dtype='<U5')"
      ]
     },
     "execution_count": 118,
     "metadata": {},
     "output_type": "execute_result"
    }
   ],
   "source": [
    "data = \"1, abc  , 2\\n 3, xxx, 4\"\n",
    "# Without autostrip\n",
    "np.genfromtxt(StringIO(data), delimiter=\",\", dtype=\"|U5\")"
   ]
  },
  {
   "cell_type": "code",
   "execution_count": 120,
   "id": "2a8ddddc",
   "metadata": {},
   "outputs": [
    {
     "data": {
      "text/plain": [
       "array([['1', 'abc', '2'],\n",
       "       ['3', 'xxx', '4']], dtype='<U5')"
      ]
     },
     "execution_count": 120,
     "metadata": {},
     "output_type": "execute_result"
    }
   ],
   "source": [
    "# With autostrip\n",
    "np.genfromtxt(StringIO(data), delimiter=\",\", dtype=\"|U5\", autostrip=True)"
   ]
  },
  {
   "cell_type": "markdown",
   "id": "1753ec41",
   "metadata": {},
   "source": [
    "#### The comments argument\n",
    "- The optional argument comments is used to define a character string that marks the beginning of a comment. By default, genfromtxt assumes comments='#'. The comment marker may occur anywhere on the line. Any character present after the comment marker(s) is simply ignored:\n"
   ]
  },
  {
   "cell_type": "code",
   "execution_count": 121,
   "id": "e1e324f7",
   "metadata": {},
   "outputs": [
    {
     "data": {
      "text/plain": [
       "array([[1., 2.],\n",
       "       [3., 4.],\n",
       "       [5., 6.],\n",
       "       [7., 8.],\n",
       "       [9., 0.]])"
      ]
     },
     "execution_count": 121,
     "metadata": {},
     "output_type": "execute_result"
    }
   ],
   "source": [
    "data = \"\"\"#\n",
    "# Skip me !\n",
    "# Skip me too !\n",
    "1, 2\n",
    "3, 4\n",
    "5, 6 #This is the third line of the data\n",
    "7, 8\n",
    "# And here comes the last line\n",
    "9, 0\n",
    "\"\"\"\n",
    "np.genfromtxt(StringIO(data), comments=\"#\", delimiter=\",\")"
   ]
  },
  {
   "cell_type": "markdown",
   "id": "7bd04c3f",
   "metadata": {},
   "source": [
    "#### Note: There is one notable exception to this behavior: if the optional argument names=True, the first commented line will be examined for names."
   ]
  },
  {
   "cell_type": "markdown",
   "id": "78e9c80c",
   "metadata": {},
   "source": [
    "#### Skipping lines and choosing columns\n",
    "#### The skip_header and skip_footer arguments\n",
    "- The presence of a header in the file can hinder data processing. In that case, we need to use the skip_header optional argument. The values of this argument must be an integer which corresponds to the number of lines to skip at the beginning of the file, before any other action is performed. Similarly, we can skip the last n lines of the file by using the skip_footer attribute and giving it a value of n:"
   ]
  },
  {
   "cell_type": "code",
   "execution_count": 123,
   "id": "a709b584",
   "metadata": {},
   "outputs": [
    {
     "data": {
      "text/plain": [
       "array([0., 1., 2., 3., 4., 5., 6., 7., 8., 9.])"
      ]
     },
     "execution_count": 123,
     "metadata": {},
     "output_type": "execute_result"
    }
   ],
   "source": [
    "data = \"\\n\".join(str(i) for i in range(10))\n",
    "np.genfromtxt(StringIO(data),)"
   ]
  },
  {
   "cell_type": "code",
   "execution_count": 124,
   "id": "c1220ed0",
   "metadata": {},
   "outputs": [
    {
     "data": {
      "text/plain": [
       "array([3., 4.])"
      ]
     },
     "execution_count": 124,
     "metadata": {},
     "output_type": "execute_result"
    }
   ],
   "source": [
    "np.genfromtxt(StringIO(data), skip_header=3, skip_footer=5)"
   ]
  },
  {
   "cell_type": "markdown",
   "id": "f615ce16",
   "metadata": {},
   "source": [
    "- By default, skip_header=0 and skip_footer=0, meaning that no lines are skipped."
   ]
  },
  {
   "cell_type": "markdown",
   "id": "112569aa",
   "metadata": {},
   "source": [
    "#### The usecols argument\n",
    "- In some cases, we are not interested in all the columns of the data but only a few of them. We can select which columns to import with the usecols argument. This argument accepts a single integer or a sequence of integers corresponding to the indices of the columns to import. Remember that by convention, the first column has an index of 0. Negative integers behave the same as regular Python negative indexes.\n",
    "\n",
    "- For example, if we want to import only the first and the last columns, we can use usecols=(0, -1):"
   ]
  },
  {
   "cell_type": "code",
   "execution_count": 125,
   "id": "2abdb6bb",
   "metadata": {},
   "outputs": [
    {
     "data": {
      "text/plain": [
       "array([[1., 3.],\n",
       "       [4., 6.]])"
      ]
     },
     "execution_count": 125,
     "metadata": {},
     "output_type": "execute_result"
    }
   ],
   "source": [
    "data = \"1 2 3\\n4 5 6\"\n",
    "np.genfromtxt(StringIO(data), usecols=(0, -1))"
   ]
  },
  {
   "cell_type": "markdown",
   "id": "a6bc2a88",
   "metadata": {},
   "source": [
    "- If the columns have names, we can also select which columns to import by giving their name to the usecols argument, either as a sequence of strings or a comma-separated string:"
   ]
  },
  {
   "cell_type": "code",
   "execution_count": 128,
   "id": "a5264bb5",
   "metadata": {},
   "outputs": [
    {
     "data": {
      "text/plain": [
       "array([(1., 3.), (4., 6.)], dtype=[('a', '<f8'), ('c', '<f8')])"
      ]
     },
     "execution_count": 128,
     "metadata": {},
     "output_type": "execute_result"
    }
   ],
   "source": [
    "data = \"1 2 3 \\n4 5 6\"\n",
    "np.genfromtxt(StringIO(data), names=\"a, b, c\", usecols=(\"a\", \"c\"))"
   ]
  },
  {
   "cell_type": "code",
   "execution_count": 129,
   "id": "c1285a67",
   "metadata": {},
   "outputs": [
    {
     "data": {
      "text/plain": [
       "array([(1., 3.), (4., 6.)], dtype=[('a', '<f8'), ('c', '<f8')])"
      ]
     },
     "execution_count": 129,
     "metadata": {},
     "output_type": "execute_result"
    }
   ],
   "source": [
    "np.genfromtxt(StringIO(data), names=\"a, b, c\", usecols=(\"a, c\"))"
   ]
  },
  {
   "cell_type": "markdown",
   "id": "5d0fccab",
   "metadata": {},
   "source": [
    "#### Choosing the data type\n",
    "- The main way to control how the sequences of strings we have read from the file are converted to other types is to set the dtype argument. Acceptable values for this argument are:\n",
    "\n",
    "    - a single type, such as dtype=float. The output will be 2D with the given dtype, unless a name has been associated with each column with the use of the names argument (see below). Note that dtype=float is the default for genfromtxt.\n",
    "    - a sequence of types, such as dtype=(int, float, float).\n",
    "    - a comma-separated string, such as dtype=\"i4,f8,|U3\".\n",
    "    - a dictionary with two keys 'names' and 'formats'.\n",
    "    - a sequence of tuples (name, type), such as dtype=[('A', int), ('B', float)].\n",
    "    - an existing numpy.dtype object.\n",
    "    - the special value None. In that case, the type of the columns will be determined from the data itself (see below).\n",
    "\n",
    "- In all the cases but the first one, the output will be a 1D array with a structured dtype. This dtype has as many fields as items in the sequence. The field names are defined with the names keyword.\n",
    "\n",
    "- When dtype=None, the type of each column is determined iteratively from its data. We start by checking whether a string can be converted to a boolean (that is, if the string matches true or false in lower cases); then whether it can be converted to an integer, then to a float, then to a complex and eventually to a string.\n",
    "\n",
    "- The option dtype=None is provided for convenience. However, it is significantly slower than setting the dtype explicitly.\n",
    "\n",
    "#### Setting the names\n",
    "#### The names argument\n",
    "- A natural approach when dealing with tabular data is to allocate a name to each column. A first possibility is to use an explicit structured dtype, as mentioned previously:"
   ]
  },
  {
   "cell_type": "code",
   "execution_count": 130,
   "id": "acae287d",
   "metadata": {},
   "outputs": [
    {
     "data": {
      "text/plain": [
       "array([(-1, -1, 3), ( 4,  5, 6)],\n",
       "      dtype=[('a', '<i8'), ('b', '<i8'), ('c', '<i8')])"
      ]
     },
     "execution_count": 130,
     "metadata": {},
     "output_type": "execute_result"
    }
   ],
   "source": [
    "data = StringIO(\"1, 2, 3\\n 4 5 6\")\n",
    "np.genfromtxt(data, dtype=[(_, int) for _ in \"abc\"])"
   ]
  },
  {
   "cell_type": "markdown",
   "id": "72fa44a4",
   "metadata": {},
   "source": [
    "- Another simpler possibility is to use the names keyword with a sequence of strings or a comma-separted string:"
   ]
  },
  {
   "cell_type": "code",
   "execution_count": 132,
   "id": "b3334cc9",
   "metadata": {},
   "outputs": [
    {
     "data": {
      "text/plain": [
       "array([(1., 2., 3.), (4., 5., 6.)],\n",
       "      dtype=[('A', '<f8'), ('B', '<f8'), ('C', '<f8')])"
      ]
     },
     "execution_count": 132,
     "metadata": {},
     "output_type": "execute_result"
    }
   ],
   "source": [
    "data = StringIO(\"1 2 3\\n 4 5 6\")\n",
    "np.genfromtxt(data, names=\"A, B, C\")"
   ]
  },
  {
   "cell_type": "markdown",
   "id": "9a5648e3",
   "metadata": {},
   "source": [
    "- In the example above, we used the fact that by default, dtype=float. By giving a sequence of names, we are forcing the output to a structured dtype.\n",
    "\n",
    "- We may sometimes need to define the column names from the data itself. In that case, we must use the names keyword with a value of True. The names will then be read from the first line (after the skip_header ones), even if the line is commented out:"
   ]
  },
  {
   "cell_type": "code",
   "execution_count": 133,
   "id": "06192c75",
   "metadata": {},
   "outputs": [
    {
     "data": {
      "text/plain": [
       "array([(1., 2., 3.), (4., 5., 6.)],\n",
       "      dtype=[('a', '<f8'), ('b', '<f8'), ('c', '<f8')])"
      ]
     },
     "execution_count": 133,
     "metadata": {},
     "output_type": "execute_result"
    }
   ],
   "source": [
    "data = StringIO(\"So it goes\\n#a b c\\n1 2 3\\n 4 5 6\")\n",
    "np.genfromtxt(data, skip_header=1, names=True)"
   ]
  },
  {
   "cell_type": "markdown",
   "id": "72978377",
   "metadata": {},
   "source": [
    "- The default value of names is None. If we give any other value to the keyword, the new names will overwrite the field names we may have defined with the dtype:"
   ]
  },
  {
   "cell_type": "code",
   "execution_count": 134,
   "id": "f33bfa82",
   "metadata": {},
   "outputs": [
    {
     "data": {
      "text/plain": [
       "array([(1, 2., 3), (4, 5., 6)],\n",
       "      dtype=[('A', '<i8'), ('B', '<f8'), ('C', '<i8')])"
      ]
     },
     "execution_count": 134,
     "metadata": {},
     "output_type": "execute_result"
    }
   ],
   "source": [
    "data = StringIO(\"1 2 3\\n 4 5 6\")\n",
    "ndtype=[('a',int), ('b', float), ('c', int)]\n",
    "names = [\"A\", \"B\", \"C\"]\n",
    "np.genfromtxt(data, names=names, dtype=ndtype)"
   ]
  },
  {
   "cell_type": "markdown",
   "id": "f70414dc",
   "metadata": {},
   "source": [
    "#### The defaultfmt argument\n",
    "- If names=None but a structured dtype is expected, names are defined with the standard NumPy default of \"f%i\", yielding names like f0, f1 and so forth:"
   ]
  },
  {
   "cell_type": "code",
   "execution_count": 135,
   "id": "22e6db8c",
   "metadata": {},
   "outputs": [
    {
     "data": {
      "text/plain": [
       "array([(1, 2., 3), (4, 5., 6)],\n",
       "      dtype=[('f0', '<i8'), ('f1', '<f8'), ('f2', '<i8')])"
      ]
     },
     "execution_count": 135,
     "metadata": {},
     "output_type": "execute_result"
    }
   ],
   "source": [
    "data = StringIO(\"1 2 3\\n 4 5 6\")\n",
    "np.genfromtxt(data, dtype=(int, float, int))"
   ]
  },
  {
   "cell_type": "markdown",
   "id": "c5c9fe4a",
   "metadata": {},
   "source": [
    "- In the same way, if we don’t give enough names to match the length of the dtype, the missing names will be defined with this default template:"
   ]
  },
  {
   "cell_type": "code",
   "execution_count": 136,
   "id": "66fa053a",
   "metadata": {},
   "outputs": [
    {
     "data": {
      "text/plain": [
       "array([(1, 2., 3), (4, 5., 6)],\n",
       "      dtype=[('a', '<i8'), ('f0', '<f8'), ('f1', '<i8')])"
      ]
     },
     "execution_count": 136,
     "metadata": {},
     "output_type": "execute_result"
    }
   ],
   "source": [
    "data = StringIO(\"1 2 3\\n 4 5 6\")\n",
    "np.genfromtxt(data, dtype=(int, float, int), names=\"a\")"
   ]
  },
  {
   "cell_type": "markdown",
   "id": "288fcb4e",
   "metadata": {},
   "source": [
    "- We can overwrite this default with the defaultfmt argument, that takes any format string:"
   ]
  },
  {
   "cell_type": "code",
   "execution_count": 138,
   "id": "dbc6e251",
   "metadata": {},
   "outputs": [
    {
     "data": {
      "text/plain": [
       "array([(1, 2., 3), (4, 5., 6)],\n",
       "      dtype=[('var_00', '<i8'), ('var_01', '<f8'), ('var_02', '<i8')])"
      ]
     },
     "execution_count": 138,
     "metadata": {},
     "output_type": "execute_result"
    }
   ],
   "source": [
    "data = StringIO(\"1 2 3\\n 4 5 6\")\n",
    "np.genfromtxt(data, dtype=(int, float, int), defaultfmt=\"var_%02i\")"
   ]
  },
  {
   "cell_type": "markdown",
   "id": "6171313d",
   "metadata": {},
   "source": [
    "#### Note: We need to keep in mind that defaultfmt is used only if some names are expected but not defined.\n",
    "\n",
    "#### Validating names\n",
    "- NumPy arrays with a structured dtype can also be viewed as recarray, where a field can be accessed as if it were an attribute. For that reason, we may need to make sure that the field name doesn’t contain any space or invalid character, or that it does not correspond to the name of a standard attribute (like size or shape), which would confuse the interpreter. genfromtxt accepts three optional arguments that provide a finer control on the names:\n",
    "\n",
    "    - deletechars\n",
    "        - Gives a string combining all the characters that must be deleted from the name. By default, invalid characters are ~!@#$%^&*()-=+~\\|]}[{';: /?.>,<.\n",
    "    - excludelist\n",
    "        - Gives a list of the names to exclude, such as return, file, print… If one of the input name is part of this list, an underscore character ('_') will be appended to it.\n",
    "    - case_sensitive\n",
    "        - Whether the names should be case-sensitive (case_sensitive=True), converted to upper case (case_sensitive=False or case_sensitive='upper') or to lower case (case_sensitive='lower').\n",
    "#### Tweaking the conversion\n",
    "#### The converters argument\n",
    "- Usually, defining a dtype is sufficient to define how the sequence of strings must be converted. However, some additional control may sometimes be required. For example, we may want to make sure that a date in a format YYYY/MM/DD is converted to a datetime object, or that a string like xx% is properly converted to a float between 0 and 1. In such cases, we should define conversion functions with the converters arguments.\n",
    "\n",
    "- The value of this argument is typically a dictionary with column indices or column names as keys and a conversion functions as values. These conversion functions can either be actual functions or lambda functions. In any case, they should accept only a string as input and output only a single element of the wanted type.\n",
    "\n",
    "- In the following example, the second column is converted from as string representing a percentage to a float between 0 and 1:"
   ]
  },
  {
   "cell_type": "code",
   "execution_count": 139,
   "id": "d1b072d7",
   "metadata": {},
   "outputs": [
    {
     "data": {
      "text/plain": [
       "array([(1., nan, 45.), (6., nan,  0.)],\n",
       "      dtype=[('i', '<f8'), ('p', '<f8'), ('n', '<f8')])"
      ]
     },
     "execution_count": 139,
     "metadata": {},
     "output_type": "execute_result"
    }
   ],
   "source": [
    "convertfunc = lambda x: float(x.strip(\"%\"))/100.\n",
    "data = \"1, 2.3%, 45.\\n6, 78.9%, 0\"\n",
    "names = (\"i\", \"p\", \"n\")\n",
    "# General case .....\n",
    "np.genfromtxt(StringIO(data), delimiter=\",\", names=names)"
   ]
  },
  {
   "cell_type": "markdown",
   "id": "5ee2bf49",
   "metadata": {},
   "source": [
    "- We need to keep in mind that by default, dtype=float. A float is therefore expected for the second column. However, the strings ' 2.3%' and ' 78.9%' cannot be converted to float and we end up having np.nan instead. Let’s now use a converter:"
   ]
  },
  {
   "cell_type": "code",
   "execution_count": 140,
   "id": "d159be8e",
   "metadata": {},
   "outputs": [
    {
     "data": {
      "text/plain": [
       "array([(1., 0.023, 45.), (6., 0.789,  0.)],\n",
       "      dtype=[('i', '<f8'), ('p', '<f8'), ('n', '<f8')])"
      ]
     },
     "execution_count": 140,
     "metadata": {},
     "output_type": "execute_result"
    }
   ],
   "source": [
    "# Converted case ...\n",
    "np.genfromtxt(StringIO(data), delimiter=\",\", names=names,\n",
    "              converters={1: convertfunc})"
   ]
  },
  {
   "cell_type": "markdown",
   "id": "2b616f24",
   "metadata": {},
   "source": [
    "- The same results can be obtained by using the name of the second column (\"p\") as key instead of its index (1):"
   ]
  },
  {
   "cell_type": "code",
   "execution_count": 141,
   "id": "b979a21f",
   "metadata": {},
   "outputs": [
    {
     "data": {
      "text/plain": [
       "array([(1., 0.023, 45.), (6., 0.789,  0.)],\n",
       "      dtype=[('i', '<f8'), ('p', '<f8'), ('n', '<f8')])"
      ]
     },
     "execution_count": 141,
     "metadata": {},
     "output_type": "execute_result"
    }
   ],
   "source": [
    "# Using a name for the converter ...\n",
    "np.genfromtxt(StringIO(data), delimiter=\",\", names=names,\n",
    "              converters={\"p\": convertfunc})"
   ]
  },
  {
   "cell_type": "markdown",
   "id": "49602c54",
   "metadata": {},
   "source": [
    "- Converters can also be used to provide a default for missing entries. In the following example, the converter convert transforms a stripped string into the corresponding float or into -999 if the string is empty. We need to explicitly strip the string from white spaces as it is not done by default:"
   ]
  },
  {
   "cell_type": "code",
   "execution_count": 142,
   "id": "04e02d20",
   "metadata": {},
   "outputs": [
    {
     "data": {
      "text/plain": [
       "array([[   1., -999.,    3.],\n",
       "       [   4.,    5.,    6.]])"
      ]
     },
     "execution_count": 142,
     "metadata": {},
     "output_type": "execute_result"
    }
   ],
   "source": [
    "data = \"1, , 3\\n 4, 5, 6\"\n",
    "convert = lambda x: float(x.strip() or -999)\n",
    "np.genfromtxt(StringIO(data), delimiter=\",\",\n",
    "              converters={1: convert})"
   ]
  },
  {
   "cell_type": "markdown",
   "id": "bd8fc801",
   "metadata": {},
   "source": [
    "#### Using missing and filling values\n",
    "- Some entries may be missing in the dataset we are trying to import. In a previous example, we used a converter to transform an empty string into a float. However, user-defined converters may rapidly become cumbersome to manage.\n",
    "\n",
    "- The genfromtxt function provides two other complementary mechanisms: the missing_values argument is used to recognize missing data and a second argument, filling_values, is used to process these missing data.\n",
    "\n",
    "#### missing_values\n",
    "- By default, any empty string is marked as missing. We can also consider more complex strings, such as \"N/A\" or \"???\" to represent missing or invalid data. The missing_values argument accepts three kinds of values:\n",
    "\n",
    "- a string or a comma-separated string\n",
    "    - This string will be used as the marker for missing data for all the columns\n",
    "\n",
    "- a sequence of strings\n",
    "    - In that case, each item is associated to a column, in order.\n",
    "\n",
    "- a dictionary\n",
    "    - Values of the dictionary are strings or sequence of strings. The corresponding keys can be column indices (integers) or column names (strings). In addition, the special key None can be used to define a default applicable to all columns.\n",
    "\n"
   ]
  },
  {
   "cell_type": "markdown",
   "id": "cb59221b",
   "metadata": {},
   "source": [
    "#### filling_values\n",
    "- We know how to recognize missing data, but we still need to provide a value for these missing entries. By default, this value is determined from the expected dtype according to this table:\n",
    "\n",
    "| Expected type | Default |\n",
    "| ---- | ---- |\n",
    "| bool | False |\n",
    "| int | -1 |\n",
    "| float | np.nan |\n",
    "| complex | np.nan+0j |\n",
    "| string | '???' |\n",
    "\n",
    "- We can get a finer control on the conversion of missing values with the filling_values optional argument. Like missing_values, this argument accepts different kind of values:\n",
    "\n",
    "- a single value\n",
    "    - This will be the default for all columns\n",
    "\n",
    "- a sequence of values\n",
    "    - Each entry will be the default for the corresponding column\n",
    "\n",
    "- a dictionary\n",
    "    - Each key can be a column index or a column name, and the corresponding value should be a single object. We can use the special key None to define a default for all columns.\n",
    "\n",
    "- In the following example, we suppose that the missing values are flagged with \"N/A\" in the first column and by \"???\" in the third column. We wish to transform these missing values to 0 if they occur in the first and second column, and to -999 if they occur in the last column:"
   ]
  },
  {
   "cell_type": "code",
   "execution_count": 143,
   "id": "fe371809",
   "metadata": {},
   "outputs": [
    {
     "data": {
      "text/plain": [
       "array([(0, 2,    3), (4, 0, -999)],\n",
       "      dtype=[('a', '<i8'), ('b', '<i8'), ('c', '<i8')])"
      ]
     },
     "execution_count": 143,
     "metadata": {},
     "output_type": "execute_result"
    }
   ],
   "source": [
    "data = \"N/A, 2, 3\\n4, ,???\"\n",
    "kwargs = dict(delimiter=\",\",\n",
    "              dtype=int,\n",
    "              names=\"a,b,c\",\n",
    "              missing_values={0:\"N/A\", 'b':\" \", 2:\"???\"},\n",
    "              filling_values={0:0, 'b':0, 2:-999})\n",
    "np.genfromtxt(StringIO(data), **kwargs)"
   ]
  },
  {
   "cell_type": "markdown",
   "id": "12ad38da",
   "metadata": {},
   "source": [
    "#### usemask\n",
    "- We may also want to keep track of the occurrence of missing data by constructing a boolean mask, with True entries where data was missing and False otherwise. To do that, we just have to set the optional argument usemask to True (the default is False). The output array will then be a MaskedArray."
   ]
  },
  {
   "cell_type": "markdown",
   "id": "be0fdd51",
   "metadata": {},
   "source": [
    "## Data Types"
   ]
  },
  {
   "cell_type": "markdown",
   "id": "0276ac31",
   "metadata": {},
   "source": [
    "#### Array types and conversions between types\n",
    "- NumPy supports a much greater variety of numerical types than Python does. This section shows which are available, and how to modify an array’s data-type.\n",
    "- NumPy numerical types are instances of numpy.dtype (data-type) objects, each having unique characteristics. Once you have imported NumPy using import numpy as np you can create arrays with a specified dtype using the scalar types in the numpy top-level API, e.g. numpy.bool, numpy.float32, etc.\n",
    "- These scalar types as arguments to the dtype keyword that many numpy functions or methods accept. For example:"
   ]
  },
  {
   "cell_type": "code",
   "execution_count": 144,
   "id": "54e20a80",
   "metadata": {},
   "outputs": [
    {
     "data": {
      "text/plain": [
       "array([0, 1, 2], dtype=uint8)"
      ]
     },
     "execution_count": 144,
     "metadata": {},
     "output_type": "execute_result"
    }
   ],
   "source": [
    "z = np.arange(3, dtype=np.uint8)\n",
    "z"
   ]
  },
  {
   "cell_type": "markdown",
   "id": "2e3ca8fd",
   "metadata": {},
   "source": [
    "- Array types can also be referred to by character codes, for example:"
   ]
  },
  {
   "cell_type": "code",
   "execution_count": 145,
   "id": "f0563db3",
   "metadata": {},
   "outputs": [
    {
     "data": {
      "text/plain": [
       "array([1., 2., 3.], dtype=float32)"
      ]
     },
     "execution_count": 145,
     "metadata": {},
     "output_type": "execute_result"
    }
   ],
   "source": [
    "np.array([1, 2, 3], dtype=\"f\")"
   ]
  },
  {
   "cell_type": "code",
   "execution_count": 148,
   "id": "387a7e69",
   "metadata": {},
   "outputs": [
    {
     "data": {
      "text/plain": [
       "dtype('float64')"
      ]
     },
     "execution_count": 148,
     "metadata": {},
     "output_type": "execute_result"
    }
   ],
   "source": [
    "np.array([1, 2, 3], dtype=\"d\").dtype"
   ]
  },
  {
   "cell_type": "markdown",
   "id": "0ba13057",
   "metadata": {},
   "source": [
    "- See Specifying and constructing data types for more information about specifying and constructing data type objects, including how to specify parameters like the byte order.\n",
    "\n",
    "- To convert the type of an array, use the .astype() method. For example:"
   ]
  },
  {
   "cell_type": "code",
   "execution_count": 149,
   "id": "d3b94ece",
   "metadata": {},
   "outputs": [
    {
     "data": {
      "text/plain": [
       "array([0., 1., 2.])"
      ]
     },
     "execution_count": 149,
     "metadata": {},
     "output_type": "execute_result"
    }
   ],
   "source": [
    "z.astype(np.float64)"
   ]
  },
  {
   "cell_type": "markdown",
   "id": "5a3f7958",
   "metadata": {},
   "source": [
    "- Note that, above, we could have used the Python float object as a dtype instead of **numpy.float64**. NumPy knows that **int** refers to **numpy.int_**, **bool** means **numpy.bool**, that **float** is **numpy.float64** and **complex** is **numpy.complex128**. The other data-types do not have Python equivalents.\n",
    "\n",
    "- To determine the type of an array, look at the dtype attribute:"
   ]
  },
  {
   "cell_type": "code",
   "execution_count": 150,
   "id": "7abe289c",
   "metadata": {},
   "outputs": [
    {
     "data": {
      "text/plain": [
       "dtype('uint8')"
      ]
     },
     "execution_count": 150,
     "metadata": {},
     "output_type": "execute_result"
    }
   ],
   "source": [
    "z.dtype"
   ]
  },
  {
   "cell_type": "markdown",
   "id": "5d494d8f",
   "metadata": {},
   "source": [
    "- dtype objects also contain information about the type, such as its bit-width and its byte-order. The data type can also be used indirectly to query properties of the type, such as whether it is an integer:"
   ]
  },
  {
   "cell_type": "code",
   "execution_count": 151,
   "id": "36929b21",
   "metadata": {},
   "outputs": [
    {
     "data": {
      "text/plain": [
       "dtype('int64')"
      ]
     },
     "execution_count": 151,
     "metadata": {},
     "output_type": "execute_result"
    }
   ],
   "source": [
    "d = np.dtype(np.int64)\n",
    "d"
   ]
  },
  {
   "cell_type": "code",
   "execution_count": 153,
   "id": "f326780a",
   "metadata": {},
   "outputs": [
    {
     "data": {
      "text/plain": [
       "True"
      ]
     },
     "execution_count": 153,
     "metadata": {},
     "output_type": "execute_result"
    }
   ],
   "source": [
    "np.issubdtype(d, np.integer)"
   ]
  },
  {
   "cell_type": "code",
   "execution_count": 154,
   "id": "b9bdef62",
   "metadata": {},
   "outputs": [
    {
     "data": {
      "text/plain": [
       "False"
      ]
     },
     "execution_count": 154,
     "metadata": {},
     "output_type": "execute_result"
    }
   ],
   "source": [
    "np.issubdtype(d, np.floating)"
   ]
  },
  {
   "cell_type": "markdown",
   "id": "05eacff3",
   "metadata": {},
   "source": [
    "#### Numerical Data Types\n",
    "- There are 5 basic numerical types representing booleans (bool), integers (int), unsigned integers (uint) floating point (float) and complex. A basic numerical type name combined with a numeric bitsize defines a concrete type. The bitsize is the number of bits that are needed to represent a single value in memory. For example, numpy.float64 is a 64 bit floating point data type. Some types, such as numpy.int_ and numpy.intp, have differing bitsizes, dependent on the platforms (e.g. 32-bit vs. 64-bit CPU architectures). This should be taken into account when interfacing with low-level code (such as C or Fortran) where the raw memory is addressed.\n",
    "\n",
    "### Data Types for Strings and Bytes\n",
    "- In addition to numerical types, NumPy also supports storing unicode strings, via the numpy.str_ dtype (U character code), null-terminated byte sequences via numpy.bytes_ (S character code), and arbitrary byte sequences, via numpy.void (V character code).\n",
    "\n",
    "- All of the above are fixed-width data types. They are parameterized by a width, in either bytes or unicode points, that a single data element in the array must fit inside. This means that storing an array of byte sequences or strings using this dtype requires knowing or calculating the sizes of the longest text or byte sequence in advance.\n",
    "\n",
    "- As an example, we can create an array storing the words \"hello\" and \"world!\":"
   ]
  },
  {
   "cell_type": "code",
   "execution_count": 155,
   "id": "5aca1c93",
   "metadata": {},
   "outputs": [
    {
     "data": {
      "text/plain": [
       "array(['hello', 'world!'], dtype='<U6')"
      ]
     },
     "execution_count": 155,
     "metadata": {},
     "output_type": "execute_result"
    }
   ],
   "source": [
    "np.array([\"hello\", \"world!\"])"
   ]
  },
  {
   "cell_type": "markdown",
   "id": "cfffa963",
   "metadata": {},
   "source": [
    "- Here the data type is detected as a unicode string that is a maximum of 6 code points long, enough to store both entries without truncation. If we specify a shorter or longer data type, the string is either truncated or zero-padded to fit in the specified width:"
   ]
  },
  {
   "cell_type": "code",
   "execution_count": 156,
   "id": "f3dc2dad",
   "metadata": {},
   "outputs": [
    {
     "data": {
      "text/plain": [
       "array(['hello', 'world'], dtype='<U5')"
      ]
     },
     "execution_count": 156,
     "metadata": {},
     "output_type": "execute_result"
    }
   ],
   "source": [
    "np.array([\"hello\", \"world!\"], dtype=\"U5\")\n"
   ]
  },
  {
   "cell_type": "code",
   "execution_count": 157,
   "id": "81233ef6",
   "metadata": {},
   "outputs": [
    {
     "data": {
      "text/plain": [
       "array(['hello', 'world!'], dtype='<U7')"
      ]
     },
     "execution_count": 157,
     "metadata": {},
     "output_type": "execute_result"
    }
   ],
   "source": [
    "np.array([\"hello\", \"world!\"], dtype=\"U7\")"
   ]
  },
  {
   "cell_type": "markdown",
   "id": "a90d722a",
   "metadata": {},
   "source": [
    "- We can see the zero-padding a little more clearly if we use the bytes data type and ask NumPy to print out the bytes in the array buffer:"
   ]
  },
  {
   "cell_type": "code",
   "execution_count": 158,
   "id": "961da9a7",
   "metadata": {},
   "outputs": [
    {
     "data": {
      "text/plain": [
       "b'hello\\x00\\x00world\\x00\\x00'"
      ]
     },
     "execution_count": 158,
     "metadata": {},
     "output_type": "execute_result"
    }
   ],
   "source": [
    "np.array([\"hello\", \"world\"], dtype=\"S7\").tobytes()"
   ]
  },
  {
   "cell_type": "markdown",
   "id": "22aa792c",
   "metadata": {},
   "source": [
    "- Each entry is padded with two extra null bytes. Note however that NumPy cannot tell the difference between intentionally stored trailing nulls and padding nulls:"
   ]
  },
  {
   "cell_type": "code",
   "execution_count": 159,
   "id": "b7ea2571",
   "metadata": {},
   "outputs": [
    {
     "name": "stdout",
     "output_type": "stream",
     "text": [
      "b'hello'\n"
     ]
    },
    {
     "data": {
      "text/plain": [
       "False"
      ]
     },
     "execution_count": 159,
     "metadata": {},
     "output_type": "execute_result"
    }
   ],
   "source": [
    "x = [b\"hello\\0\\0\", b\"world\"]\n",
    "a = np.array(x, dtype=\"S7\")\n",
    "print(a[0])\n",
    "a[0] == x[0]"
   ]
  },
  {
   "cell_type": "markdown",
   "id": "b13082c0",
   "metadata": {},
   "source": [
    "#### Relationship Between NumPy Data Types and C Data Types\n",
    "- NumPy provides both bit sized type names and names based on the names of C types. Since the definition of C types are platform dependent, this means the explicitly bit sized should be preferred to avoid platform-dependent behavior in programs using NumPy.\n",
    "\n",
    "- To ease integration with C code, where it is more natural to refer to platform-dependent C types, NumPy also provides type aliases that correspond to the C types for the platform. Some dtypes have trailing underscore to avoid confusion with builtin python type names, such as numpy.bool_.\n",
    "\n",
    "| Canonical Python API name | Python API “C-like” name | Actual C type |Description |\n",
    "| -------------------------- | ---------------------| -------------- | ------------ |\n",
    "| numpy.bool or numpy.bool_ | N/A | bool (defined in stdbool.h) |Boolean (True or False) stored as a byte. |\n",
    "| numpy.int8 |  numpy.byte | signed char | Platform-defined integer type with 8 bits. |\n",
    "| numpy.uint8 | numpy.ubyte | unsigned char | Platform-defined integer type with 8 bits without sign. |\n",
    "| numpy.int16 | numpy.short | short | Platform-defined integer type with 16 bits. |\n",
    "| numpy.uint16 | numpy.ushort | unsigned short | Platform-defined integer type with 16 bits without sign. |\n",
    "| numpy.int32 | numpy.intc | int | Platform-defined integer type with 32 bits. |\n",
    "| numpy.uint32 | numpy.uintc | unsigned int | Platform-defined integer type with 32 bits without sign. |\n",
    "| numpy.intp | N/A | ssize_t/Py_ssize_t | Platform-defined integer of size size_t; used e.g. for sizes. |\n",
    "| numpy.uintp | N/A | size_t | Platform-defined integer type capable of storing the maximum allocation size. |\n",
    "| N/A | 'p' | intptr_t | Guaranteed to hold pointers. Character code only (Python and C). |\n",
    "| N/A | 'P' | uintptr_t | Guaranteed to hold pointers. Character code only (Python and C). |\n",
    "| numpy.int32 or numpy.int64 | numpy.long | long |Platform-defined integer type with at least 32 bits. |\n",
    "| numpy.uint32 or numpy.uint64 | numpy.ulong | unsigned long | Platform-defined integer type with at least 32 bits without sign. |\n",
    "| N/A | numpy.longlong | long long | Platform-defined integer type with at least 64 bits. |\n",
    "| N/A | numpy.ulonglong | unsigned long long | Platform-defined integer type with at least 64 bits without sign. |\n",
    "| numpy.float16 | numpy.half | N/A | Half precision float: sign bit, 5 bits exponent, 10 bits mantissa. |\n",
    "| numpy.float32 | numpy.single | float | Platform-defined single precision float: typically sign bit, 8 bits exponent, 23 bits mantissa. |\n",
    "| numpy.float64 | numpy.double | double | Platform-defined double precision float: typically sign bit, 11 bits exponent, 52 bits mantissa.| \n",
    "| numpy.float96 or numpy.float128 | numpy.longdouble | long double | Platform-defined extended-precision float. |\n",
    "| numpy.complex64 | numpy.csingle | float complex |  Complex number, represented by two single-precision floats (real and imaginary components). | \n",
    "| numpy.complex128 | numpy.cdouble | double complex | Complex number, represented by two double-precision floats (real and imaginary components). |\n",
    "| numpy.complex192 or numpy.complex256 | numpy.clongdouble | long double complex | Complex number, represented by two extended-precision floats (real and imaginary components). |\n",
    "\n",
    "- Since many of these have platform-dependent definitions, a set of fixed-size aliases are provided\n",
    "\n",
    "#### Array scalars\n",
    "- NumPy generally returns elements of arrays as array scalars (a scalar with an associated dtype). Array scalars differ from Python scalars, but for the most part they can be used interchangeably (the primary exception is for versions of Python older than v2.x, where integer array scalars cannot act as indices for lists and tuples). There are some exceptions, such as when code requires very specific attributes of a scalar or when it checks specifically whether a value is a Python scalar. Generally, problems are easily fixed by explicitly converting array scalars to Python scalars, using the corresponding Python type function (e.g., int, float, complex, str).\n",
    "\n",
    "- The primary advantage of using array scalars is that they preserve the array type (Python may not have a matching scalar type available, e.g. int16). Therefore, the use of array scalars ensures identical behaviour between arrays and scalars, irrespective of whether the value is inside an array or not. NumPy scalars also have many of the same methods arrays do.\n",
    "\n",
    "#### Overflow errors\n",
    "- The fixed size of NumPy numeric types may cause overflow errors when a value requires more memory than available in the data type. For example, numpy.power evaluates 100 ** 9 correctly for 64-bit integers, but gives -1486618624 (incorrect) for a 32-bit integer."
   ]
  },
  {
   "cell_type": "code",
   "execution_count": 160,
   "id": "18e1ec0a",
   "metadata": {},
   "outputs": [
    {
     "data": {
      "text/plain": [
       "np.int64(1000000000000000000)"
      ]
     },
     "execution_count": 160,
     "metadata": {},
     "output_type": "execute_result"
    }
   ],
   "source": [
    "np.power(100, 9, dtype=np.int64)"
   ]
  },
  {
   "cell_type": "code",
   "execution_count": 161,
   "id": "cfc4cbf0",
   "metadata": {},
   "outputs": [
    {
     "data": {
      "text/plain": [
       "np.int32(-1486618624)"
      ]
     },
     "execution_count": 161,
     "metadata": {},
     "output_type": "execute_result"
    }
   ],
   "source": [
    "np.power(100, 9, dtype=np.int32)"
   ]
  },
  {
   "cell_type": "markdown",
   "id": "5ae3bf27",
   "metadata": {},
   "source": [
    "- The behaviour of NumPy and Python integer types differs significantly for integer overflows and may confuse users expecting NumPy integers to behave similar to Python’s int. Unlike NumPy, the size of Python’s int is flexible. This means Python integers may expand to accommodate any integer and will not overflow.\n",
    "\n",
    "- NumPy provides numpy.iinfo and numpy.finfo to verify the minimum or maximum values of NumPy integer and floating point values respectively"
   ]
  },
  {
   "cell_type": "code",
   "execution_count": 162,
   "id": "c217972c",
   "metadata": {},
   "outputs": [
    {
     "name": "stdout",
     "output_type": "stream",
     "text": [
      "Machine parameters for int64\n",
      "---------------------------------------------------------------\n",
      "min = -9223372036854775808\n",
      "max = 9223372036854775807\n",
      "---------------------------------------------------------------\n",
      "\n",
      "Machine parameters for int32\n",
      "---------------------------------------------------------------\n",
      "min = -2147483648\n",
      "max = 2147483647\n",
      "---------------------------------------------------------------\n",
      "\n",
      "Machine parameters for int64\n",
      "---------------------------------------------------------------\n",
      "min = -9223372036854775808\n",
      "max = 9223372036854775807\n",
      "---------------------------------------------------------------\n",
      "\n"
     ]
    }
   ],
   "source": [
    "print(np.iinfo(int)) # Bounds of the default integer on this system.\n",
    "print(np.iinfo(np.int32)) # Bounds of a 32-bit integer\n",
    "print(np.iinfo(np.int64)) # Bounds of a 64-bit integer"
   ]
  },
  {
   "cell_type": "markdown",
   "id": "aa444062",
   "metadata": {},
   "source": [
    "- If 64-bit integers are still too small the result may be cast to a floating point number. Floating point numbers offer a larger, but inexact, range of possible values."
   ]
  },
  {
   "cell_type": "code",
   "execution_count": 166,
   "id": "f6f5c581",
   "metadata": {},
   "outputs": [
    {
     "name": "stdout",
     "output_type": "stream",
     "text": [
      "0\n",
      "1e+200\n",
      "Machine parameters for float64\n",
      "---------------------------------------------------------------\n",
      "precision =  15   resolution = 1.0000000000000001e-15\n",
      "machep =    -52   eps =        2.2204460492503131e-16\n",
      "negep =     -53   epsneg =     1.1102230246251565e-16\n",
      "minexp =  -1022   tiny =       2.2250738585072014e-308\n",
      "maxexp =   1024   max =        1.7976931348623157e+308\n",
      "nexp =       11   min =        -max\n",
      "smallest_normal = 2.2250738585072014e-308   smallest_subnormal = 4.9406564584124654e-324\n",
      "---------------------------------------------------------------\n",
      "\n"
     ]
    }
   ],
   "source": [
    "print(np.power(100, 100, dtype=np.int64)) # Incorrect even with 64-bit int\n",
    "print(np.power(100, 100, dtype=np.float64)) # Floating point is bigger than int64\n",
    "print(np.finfo(np.float64))"
   ]
  },
  {
   "cell_type": "markdown",
   "id": "bef8a15e",
   "metadata": {},
   "source": [
    "#### Floating point precision\n",
    "- Many functions in NumPy, especially those in numpy.linalg, involve floating-point arithmetic, which can introduce small inaccuracies due to the way computers represent decimal numbers. For instance, when performing basic arithmetic operations involving floating-point numbers:"
   ]
  },
  {
   "cell_type": "code",
   "execution_count": null,
   "id": "33f7c6b8",
   "metadata": {},
   "outputs": [
    {
     "data": {
      "text/plain": [
       "-2.7755575615628914e-17"
      ]
     },
     "execution_count": 167,
     "metadata": {},
     "output_type": "execute_result"
    }
   ],
   "source": [
    "0.3 - .2 - .1 # This does not equal 0 due to floating-point precision"
   ]
  },
  {
   "cell_type": "markdown",
   "id": "94105242",
   "metadata": {},
   "source": [
    "- To handle such cases, it’s advisable to use functions like np.isclose to compare values, rather than checking for exact equality:"
   ]
  },
  {
   "cell_type": "code",
   "execution_count": 168,
   "id": "3d28d269",
   "metadata": {},
   "outputs": [
    {
     "data": {
      "text/plain": [
       "np.True_"
      ]
     },
     "execution_count": 168,
     "metadata": {},
     "output_type": "execute_result"
    }
   ],
   "source": [
    "np.isclose(0.3 - 0.2 - 0.1, 0, rtol=1e-05)  # Check for closeness to 0"
   ]
  },
  {
   "cell_type": "markdown",
   "id": "92ae82d2",
   "metadata": {},
   "source": [
    "- In this example, np.isclose accounts for the minor inaccuracies that occur in floating-point calculations by applying a relative tolerance, ensuring that results within a small threshold are considered close.\n",
    "\n",
    "#### Extended precision\n",
    "- Python’s floating-point numbers are usually 64-bit floating-point numbers, nearly equivalent to numpy.float64. In some unusual situations it may be useful to use floating-point numbers with more precision. Whether this is possible in numpy depends on the hardware and on the development environment: specifically, x86 machines provide hardware floating-point with 80-bit precision, and while most C compilers provide this as their long double type, MSVC (standard for Windows builds) makes long double identical to double (64 bits). NumPy makes the compiler’s long double available as numpy.longdouble (and np.clongdouble for the complex numbers). You can find out what your numpy provides with np.finfo(np.longdouble).\n",
    "\n",
    "- NumPy does not provide a dtype with more precision than C’s long double; in particular, the 128-bit IEEE quad precision data type (FORTRAN’s REAL*16) is not available.\n",
    "\n",
    "- For efficient memory alignment, numpy.longdouble is usually stored padded with zero bits, either to 96 or 128 bits. Which is more efficient depends on hardware and development environment; typically on 32-bit systems they are padded to 96 bits, while on 64-bit systems they are typically padded to 128 bits. np.longdouble is padded to the system default; np.float96 and np.float128 are provided for users who want specific padding. In spite of the names, np.float96 and np.float128 provide only as much precision as np.longdouble, that is, 80 bits on most x86 machines and 64 bits in standard Windows builds.\n",
    "\n",
    "- Be warned that even if numpy.longdouble offers more precision than python float, it is easy to lose that extra precision, since python often forces values to pass through float. For example, the % formatting operator requires its arguments to be converted to standard python types, and it is therefore impossible to preserve extended precision even if many decimal places are requested. It can be useful to test your code with the value 1 + np.finfo(np.longdouble).eps."
   ]
  },
  {
   "cell_type": "markdown",
   "id": "0ec45858",
   "metadata": {},
   "source": []
  },
  {
   "cell_type": "code",
   "execution_count": null,
   "id": "03a7d0c6",
   "metadata": {},
   "outputs": [],
   "source": []
  }
 ],
 "metadata": {
  "kernelspec": {
   "display_name": "Python 3",
   "language": "python",
   "name": "python3"
  },
  "language_info": {
   "codemirror_mode": {
    "name": "ipython",
    "version": 3
   },
   "file_extension": ".py",
   "mimetype": "text/x-python",
   "name": "python",
   "nbconvert_exporter": "python",
   "pygments_lexer": "ipython3",
   "version": "3.13.5"
  }
 },
 "nbformat": 4,
 "nbformat_minor": 5
}
