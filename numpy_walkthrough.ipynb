{
 "cells": [
  {
   "cell_type": "markdown",
   "id": "38a49848",
   "metadata": {},
   "source": [
    "# Numpy Walkthrough"
   ]
  },
  {
   "cell_type": "code",
   "execution_count": 1,
   "id": "5bcd8b2b",
   "metadata": {},
   "outputs": [],
   "source": [
    "import numpy as np"
   ]
  },
  {
   "cell_type": "code",
   "execution_count": 363,
   "id": "4c89790c",
   "metadata": {},
   "outputs": [
    {
     "data": {
      "text/plain": [
       "'2.1.2'"
      ]
     },
     "execution_count": 363,
     "metadata": {},
     "output_type": "execute_result"
    }
   ],
   "source": [
    "np.__version__"
   ]
  },
  {
   "cell_type": "markdown",
   "id": "56b3cd24",
   "metadata": {},
   "source": [
    "# abs\n",
    "- Calculate the absolute value element-wise."
   ]
  },
  {
   "cell_type": "code",
   "execution_count": 14,
   "id": "35c8dfc8",
   "metadata": {},
   "outputs": [
    {
     "data": {
      "text/plain": [
       "array([1.2, 1.2])"
      ]
     },
     "execution_count": 14,
     "metadata": {},
     "output_type": "execute_result"
    }
   ],
   "source": [
    "x = np.array([-1.2, 1.2]) \n",
    "np.abs(x)"
   ]
  },
  {
   "cell_type": "markdown",
   "id": "9834868e",
   "metadata": {},
   "source": [
    "# absolute\n",
    "-  calculates the absolute value of each element in an array-like input. The absolute value of a number is its non-negative magnitude, or its distance from zero."
   ]
  },
  {
   "cell_type": "code",
   "execution_count": 15,
   "id": "689afe0a",
   "metadata": {},
   "outputs": [
    {
     "data": {
      "text/plain": [
       "array([1.2, 1.2])"
      ]
     },
     "execution_count": 15,
     "metadata": {},
     "output_type": "execute_result"
    }
   ],
   "source": [
    "x = np.array([-1.2, 1.2]) \n",
    "np.absolute(x)"
   ]
  },
  {
   "cell_type": "markdown",
   "id": "a1316ecd",
   "metadata": {},
   "source": [
    "# acos\n",
    "- Trigonometric inverse cosine, element-wise."
   ]
  },
  {
   "cell_type": "code",
   "execution_count": 16,
   "id": "eaf0e577",
   "metadata": {},
   "outputs": [
    {
     "data": {
      "text/plain": [
       "array([0.        , 3.14159265])"
      ]
     },
     "execution_count": 16,
     "metadata": {},
     "output_type": "execute_result"
    }
   ],
   "source": [
    "np.arccos([1, -1])"
   ]
  },
  {
   "cell_type": "markdown",
   "id": "053ffd94",
   "metadata": {},
   "source": [
    "# add\n",
    "- Add arguments element-wise."
   ]
  },
  {
   "cell_type": "code",
   "execution_count": 26,
   "id": "3b19fe48",
   "metadata": {},
   "outputs": [
    {
     "name": "stdout",
     "output_type": "stream",
     "text": [
      "scalar add: 5.0\n",
      "(3, 3) + (1, 3)\n",
      ": [[ 0  2  4]\n",
      " [ 3  5  7]\n",
      " [ 6  8 10]]\n",
      "(3, 3) + (1, 3)\n",
      ": [[ 0  1  2]\n",
      " [ 4  5  6]\n",
      " [ 8  9 10]]\n"
     ]
    }
   ],
   "source": [
    "# add scalar\n",
    "print(f\"scalar add: {np.add(1.0, 4.0)}\")\n",
    "# doesn't have to match shape, just at least 1 dim\n",
    "x1 = np.arange(9).reshape((3, 3))\n",
    "x2 = np.arange(3).reshape((1, 3))\n",
    "print(f\"(3, 3) + (1, 3)\\n: {np.add(x1, x2)}\")\n",
    "\n",
    "x3 = np.arange(3).reshape((3, 1))\n",
    "print(f\"(3, 3) + (1, 3)\\n: {np.add(x1, x3)}\")\n"
   ]
  },
  {
   "cell_type": "markdown",
   "id": "8495fbc7",
   "metadata": {},
   "source": [
    "# all\n",
    "- Test whether all array elements along a given axis evaluate to True."
   ]
  },
  {
   "cell_type": "code",
   "execution_count": 27,
   "id": "19954a25",
   "metadata": {},
   "outputs": [
    {
     "data": {
      "text/plain": [
       "np.False_"
      ]
     },
     "execution_count": 27,
     "metadata": {},
     "output_type": "execute_result"
    }
   ],
   "source": [
    "np.all([[True,False],[True,True]])"
   ]
  },
  {
   "cell_type": "markdown",
   "id": "980a6669",
   "metadata": {},
   "source": [
    "# allclose\n",
    "- determine if two arrays are element-wise equal within a specified tolerance => The default is 1e-5."
   ]
  },
  {
   "cell_type": "code",
   "execution_count": 28,
   "id": "900fba2b",
   "metadata": {},
   "outputs": [
    {
     "data": {
      "text/plain": [
       "True"
      ]
     },
     "execution_count": 28,
     "metadata": {},
     "output_type": "execute_result"
    }
   ],
   "source": [
    "a = np.array([1.0, 2.00000001, 3.0])\n",
    "b = np.array([1.0, 2.0, 3.0])\n",
    "np.allclose(a, b)"
   ]
  },
  {
   "cell_type": "markdown",
   "id": "64162c8e",
   "metadata": {},
   "source": [
    "# amax\n",
    "- Return the maximum of an array or maximum along an axis."
   ]
  },
  {
   "cell_type": "code",
   "execution_count": 29,
   "id": "24b318c2",
   "metadata": {},
   "outputs": [
    {
     "data": {
      "text/plain": [
       "np.int64(6)"
      ]
     },
     "execution_count": 29,
     "metadata": {},
     "output_type": "execute_result"
    }
   ],
   "source": [
    "np.amax(np.array([[1, 2, 3],\n",
    "                [4, 5, 6]]))"
   ]
  },
  {
   "cell_type": "markdown",
   "id": "505cb062",
   "metadata": {},
   "source": [
    "# amin\n",
    "- Return the maximum of an array or maximum along an axis."
   ]
  },
  {
   "cell_type": "code",
   "execution_count": 30,
   "id": "b3b760ee",
   "metadata": {},
   "outputs": [
    {
     "data": {
      "text/plain": [
       "np.int64(1)"
      ]
     },
     "execution_count": 30,
     "metadata": {},
     "output_type": "execute_result"
    }
   ],
   "source": [
    "np.min(np.array([[1, 2, 3],\n",
    "                [4, 5, 6]]))"
   ]
  },
  {
   "cell_type": "markdown",
   "id": "27a5333b",
   "metadata": {},
   "source": [
    "# angle\n",
    "- Return the angle of the complex argument.\n",
    "- complex numbers are a more natural and mathematically elegant way to represent 2D vectors and rotations.\n"
   ]
  },
  {
   "cell_type": "code",
   "execution_count": 9,
   "id": "bc57b4c1",
   "metadata": {},
   "outputs": [
    {
     "name": "stdout",
     "output_type": "stream",
     "text": [
      "45.0\n",
      "0.6435011087932844\n"
     ]
    }
   ],
   "source": [
    "print(np.angle(1+1j, deg=True))   # 45 deg\n",
    "print(np.angle( 4 + 3j)) # radians\n"
   ]
  },
  {
   "cell_type": "markdown",
   "id": "4d60c22f",
   "metadata": {},
   "source": [
    "# any\n",
    "- test whether any elements is true"
   ]
  },
  {
   "cell_type": "code",
   "execution_count": 10,
   "id": "fbb6eb7a",
   "metadata": {},
   "outputs": [
    {
     "data": {
      "text/plain": [
       "np.True_"
      ]
     },
     "execution_count": 10,
     "metadata": {},
     "output_type": "execute_result"
    }
   ],
   "source": [
    "np.any([[True, False], [True, True]])"
   ]
  },
  {
   "cell_type": "markdown",
   "id": "3f441a4d",
   "metadata": {},
   "source": [
    "# append\n",
    "- add a value at the end of an array"
   ]
  },
  {
   "cell_type": "code",
   "execution_count": 11,
   "id": "be6ac66f",
   "metadata": {},
   "outputs": [
    {
     "data": {
      "text/plain": [
       "array([1, 2, 3, 4, 5, 6, 7, 8, 9])"
      ]
     },
     "execution_count": 11,
     "metadata": {},
     "output_type": "execute_result"
    }
   ],
   "source": [
    "np.append([1, 2, 3], [[4, 5, 6], [7, 8, 9]])"
   ]
  },
  {
   "cell_type": "markdown",
   "id": "afcab00a",
   "metadata": {},
   "source": [
    "# apply_along_axis\n",
    "- Apply a function to 1-D slices along the given axis."
   ]
  },
  {
   "cell_type": "code",
   "execution_count": 12,
   "id": "d2f0fb8b",
   "metadata": {},
   "outputs": [
    {
     "name": "stdout",
     "output_type": "stream",
     "text": [
      "[ 8 10 12]\n",
      "[ 4 10 16]\n"
     ]
    }
   ],
   "source": [
    "def my_func(a):\n",
    "    \"\"\"add first and last element of a 1-D array\"\"\"\n",
    "    return (a[0] + a[-1])\n",
    "b = np.array([[1,2,3], [4,5,6], [7,8,9]])\n",
    "print(np.apply_along_axis(my_func, 0, b))\n",
    "print(np.apply_along_axis(my_func, 1, b))"
   ]
  },
  {
   "cell_type": "markdown",
   "id": "44db3876",
   "metadata": {},
   "source": [
    "# apply_over_axes\n",
    "- Apply a function repeatedly over multiple axes.(axes - multiple of axis)"
   ]
  },
  {
   "cell_type": "code",
   "execution_count": 24,
   "id": "ce7000be",
   "metadata": {},
   "outputs": [
    {
     "name": "stdout",
     "output_type": "stream",
     "text": [
      "[[[ 0  1]\n",
      "  [ 2  3]\n",
      "  [ 4  5]]\n",
      "\n",
      " [[ 6  7]\n",
      "  [ 8  9]\n",
      "  [10 11]]]\n",
      "[[[30 36]]]\n"
     ]
    }
   ],
   "source": [
    "a = np.arange(12).reshape(2, 3, 2)\n",
    "print(a)\n",
    "print(np.apply_over_axes(np.sum, a, [0, 1]))\n"
   ]
  },
  {
   "cell_type": "markdown",
   "id": "59da77ac",
   "metadata": {},
   "source": [
    "# arange\n",
    "- Return evenly spaced values within a given interval."
   ]
  },
  {
   "cell_type": "code",
   "execution_count": 27,
   "id": "0bf46a44",
   "metadata": {},
   "outputs": [
    {
     "data": {
      "text/plain": [
       "array([  10,  110,  210,  310,  410,  510,  610,  710,  810,  910, 1010,\n",
       "       1110, 1210, 1310, 1410, 1510, 1610, 1710, 1810, 1910, 2010, 2110,\n",
       "       2210, 2310, 2410, 2510, 2610, 2710, 2810, 2910, 3010, 3110, 3210,\n",
       "       3310, 3410, 3510, 3610, 3710, 3810, 3910, 4010, 4110, 4210, 4310,\n",
       "       4410, 4510, 4610, 4710, 4810, 4910, 5010, 5110, 5210, 5310, 5410,\n",
       "       5510, 5610, 5710, 5810, 5910, 6010, 6110, 6210, 6310, 6410, 6510,\n",
       "       6610, 6710, 6810, 6910, 7010, 7110, 7210, 7310, 7410, 7510, 7610,\n",
       "       7710, 7810, 7910, 8010, 8110, 8210, 8310, 8410, 8510, 8610, 8710,\n",
       "       8810, 8910, 9010, 9110, 9210, 9310, 9410, 9510, 9610, 9710, 9810,\n",
       "       9910])"
      ]
     },
     "execution_count": 27,
     "metadata": {},
     "output_type": "execute_result"
    }
   ],
   "source": [
    "np.arange(10, 10000, 100)"
   ]
  },
  {
   "cell_type": "markdown",
   "id": "e18dd7e1",
   "metadata": {},
   "source": [
    "# arccos\n",
    "- Trigonometric inverse cosine, element-wise."
   ]
  },
  {
   "cell_type": "code",
   "execution_count": 28,
   "id": "e3492a9a",
   "metadata": {},
   "outputs": [
    {
     "data": {
      "text/plain": [
       "array([0.        , 3.14159265])"
      ]
     },
     "execution_count": 28,
     "metadata": {},
     "output_type": "execute_result"
    }
   ],
   "source": [
    "np.arccos([1, -1])"
   ]
  },
  {
   "cell_type": "markdown",
   "id": "1e68f379",
   "metadata": {},
   "source": [
    "# arccosh\n",
    "- Inverse hyperbolic cosine, element-wise."
   ]
  },
  {
   "cell_type": "code",
   "execution_count": 29,
   "id": "d329f862",
   "metadata": {},
   "outputs": [
    {
     "data": {
      "text/plain": [
       "array([1.65745445, 2.99322285])"
      ]
     },
     "execution_count": 29,
     "metadata": {},
     "output_type": "execute_result"
    }
   ],
   "source": [
    "np.arccosh([np.e, 10.0])"
   ]
  },
  {
   "cell_type": "markdown",
   "id": "139cfa97",
   "metadata": {},
   "source": [
    "# arcsin\n",
    "- inverse sine function"
   ]
  },
  {
   "cell_type": "code",
   "execution_count": 30,
   "id": "5c7ae86b",
   "metadata": {},
   "outputs": [
    {
     "data": {
      "text/plain": [
       "np.float64(-1.5707963267948966)"
      ]
     },
     "execution_count": 30,
     "metadata": {},
     "output_type": "execute_result"
    }
   ],
   "source": [
    "np.arcsin(-1)    # -pi/2"
   ]
  },
  {
   "cell_type": "markdown",
   "id": "f8dc5b04",
   "metadata": {},
   "source": [
    "# arcsinh\n",
    "- inverse hyperpolic sine function\n",
    "- The convention is to return the z whose imaginary part lies in [-pi/2, pi/2]."
   ]
  },
  {
   "cell_type": "code",
   "execution_count": 32,
   "id": "6a2e22b3",
   "metadata": {},
   "outputs": [
    {
     "data": {
      "text/plain": [
       "array([1.72538256, 2.99822295])"
      ]
     },
     "execution_count": 32,
     "metadata": {},
     "output_type": "execute_result"
    }
   ],
   "source": [
    "np.arcsinh(np.array([np.e, 10.0]))"
   ]
  },
  {
   "cell_type": "markdown",
   "id": "7787fa93",
   "metadata": {},
   "source": [
    "# arctan\n",
    "- inverse tangent function"
   ]
  },
  {
   "cell_type": "code",
   "execution_count": 33,
   "id": "206daa3d",
   "metadata": {},
   "outputs": [
    {
     "data": {
      "text/plain": [
       "array([0.        , 0.78539816])"
      ]
     },
     "execution_count": 33,
     "metadata": {},
     "output_type": "execute_result"
    }
   ],
   "source": [
    "np.arctan([0, 1])"
   ]
  },
  {
   "cell_type": "markdown",
   "id": "fc5bc4c1",
   "metadata": {},
   "source": [
    "# arctan2\n",
    "- Takes two arguments, y and x, representing the y-coordinate and x-coordinate of a point in the Cartesian plane.\n",
    "- Returns the angle between the positive x-axis and the line connecting the origin to the point \\((x,y)\\), in radians. "
   ]
  },
  {
   "cell_type": "code",
   "execution_count": 35,
   "id": "28627d0c",
   "metadata": {},
   "outputs": [
    {
     "data": {
      "text/plain": [
       "array([ 0.        , -0.78539816,  3.14159265,  1.57079633])"
      ]
     },
     "execution_count": 35,
     "metadata": {},
     "output_type": "execute_result"
    }
   ],
   "source": [
    "np.arctan2([0, -1, 0, 1], [1, 1, -1, 0] )"
   ]
  },
  {
   "cell_type": "markdown",
   "id": "0628bdb4",
   "metadata": {},
   "source": [
    "# arctanh\n",
    "- inverse hyperpolic tangent function"
   ]
  },
  {
   "cell_type": "code",
   "execution_count": 37,
   "id": "5b5367e1",
   "metadata": {},
   "outputs": [
    {
     "data": {
      "text/plain": [
       "array([ 0.        , -0.97295507])"
      ]
     },
     "execution_count": 37,
     "metadata": {},
     "output_type": "execute_result"
    }
   ],
   "source": [
    "np.arctanh([0, -.75])"
   ]
  },
  {
   "cell_type": "markdown",
   "id": "4e7cb145",
   "metadata": {},
   "source": [
    "# argmax\n",
    "- Returns the first **index** of the maximum values along an axis."
   ]
  },
  {
   "cell_type": "code",
   "execution_count": 41,
   "id": "d4985e57",
   "metadata": {},
   "outputs": [
    {
     "data": {
      "text/plain": [
       "np.int64(4)"
      ]
     },
     "execution_count": 41,
     "metadata": {},
     "output_type": "execute_result"
    }
   ],
   "source": [
    "np.argmax(np.array([1, 5, 2, 0, 8, 3, 8]))"
   ]
  },
  {
   "cell_type": "markdown",
   "id": "b3dc8ab4",
   "metadata": {},
   "source": [
    "# argmin\n",
    "- Returns the first **index** of the minimum values along an axis."
   ]
  },
  {
   "cell_type": "code",
   "execution_count": 40,
   "id": "6b30342f",
   "metadata": {},
   "outputs": [
    {
     "data": {
      "text/plain": [
       "np.int64(3)"
      ]
     },
     "execution_count": 40,
     "metadata": {},
     "output_type": "execute_result"
    }
   ],
   "source": [
    "np.argmin(np.array([1, 5, 2, 0, 8, 3, 0]))"
   ]
  },
  {
   "cell_type": "markdown",
   "id": "5fc528a9",
   "metadata": {},
   "source": [
    "# argpartition\n",
    "- Perform an indirect partition along the given axis using the algorithm specified by the kind keyword. It returns an array of indices of the same shape as a that index data along the given axis in partitioned order."
   ]
  },
  {
   "cell_type": "code",
   "execution_count": 47,
   "id": "20c301d9",
   "metadata": {},
   "outputs": [
    {
     "data": {
      "text/plain": [
       "array([3, 6, 0, 2, 5, 1, 4])"
      ]
     },
     "execution_count": 47,
     "metadata": {},
     "output_type": "execute_result"
    }
   ],
   "source": [
    "np.argpartition(np.array([1, 5, 2, 0, 8, 3, 0]), 3) # sorted all elements before 3th position"
   ]
  },
  {
   "cell_type": "markdown",
   "id": "00c80d9c",
   "metadata": {},
   "source": [
    "# argsort\n",
    "- This function returns a new array of indices that would sort the original array. Applying these indices to the original array in order will produce the sorted version. The original array remains unchanged.\n",
    "- vs sort: which returns a new array containing the sorted elements of the original array. The original array remains unchanged."
   ]
  },
  {
   "cell_type": "code",
   "execution_count": 49,
   "id": "93e97745",
   "metadata": {},
   "outputs": [
    {
     "data": {
      "text/plain": [
       "array([  10,  222,  333, 4444, 5555, 7777])"
      ]
     },
     "execution_count": 49,
     "metadata": {},
     "output_type": "execute_result"
    }
   ],
   "source": [
    "a = np.array([333, 222, 10, 5555, 7777, 4444])\n",
    "sorted = np.argsort(a)\n",
    "a[sorted]"
   ]
  },
  {
   "cell_type": "markdown",
   "id": "2de7dd37",
   "metadata": {},
   "source": [
    "# argwhere\n",
    "- Find the indices of array elements that are non-zero, grouped by element.\n",
    "\n"
   ]
  },
  {
   "cell_type": "code",
   "execution_count": 50,
   "id": "2a13a229",
   "metadata": {},
   "outputs": [
    {
     "data": {
      "text/plain": [
       "array([[1],\n",
       "       [4]])"
      ]
     },
     "execution_count": 50,
     "metadata": {},
     "output_type": "execute_result"
    }
   ],
   "source": [
    "np.argwhere(np.array([1, 5, 2, 0, 8, 3, 0]) > 3) # indices where elements are larger than 3"
   ]
  },
  {
   "cell_type": "markdown",
   "id": "13bdcd0b",
   "metadata": {},
   "source": [
    "# around\n",
    "- Round an array to the given number of decimals."
   ]
  },
  {
   "cell_type": "code",
   "execution_count": 51,
   "id": "3fdead4c",
   "metadata": {},
   "outputs": [
    {
     "data": {
      "text/plain": [
       "array([1.23, 5.68, 9.12, 4.5 ])"
      ]
     },
     "execution_count": 51,
     "metadata": {},
     "output_type": "execute_result"
    }
   ],
   "source": [
    "np.around(np.array([1.234, 5.678, 9.125, 4.5]), decimals=2)"
   ]
  },
  {
   "cell_type": "markdown",
   "id": "ffb09d84",
   "metadata": {},
   "source": [
    "# array\n",
    "- create a numpy array"
   ]
  },
  {
   "cell_type": "code",
   "execution_count": 52,
   "id": "e38db591",
   "metadata": {},
   "outputs": [
    {
     "name": "stdout",
     "output_type": "stream",
     "text": [
      "int64\n"
     ]
    }
   ],
   "source": [
    "a = np.array([20, 30, 10, 50, 40])\n",
    "print(a.dtype)"
   ]
  },
  {
   "cell_type": "markdown",
   "id": "47f43dc8",
   "metadata": {},
   "source": [
    "# array2string\n",
    "- Return a string representation of an array."
   ]
  },
  {
   "cell_type": "code",
   "execution_count": 59,
   "id": "c1946c40",
   "metadata": {},
   "outputs": [
    {
     "data": {
      "text/plain": [
       "'[20 30 10 50 40]'"
      ]
     },
     "execution_count": 59,
     "metadata": {},
     "output_type": "execute_result"
    }
   ],
   "source": [
    "np.array2string(np.array([20, 30, 10, 50, 40]))"
   ]
  },
  {
   "cell_type": "markdown",
   "id": "1ad1ff3e",
   "metadata": {},
   "source": [
    "# array_equal\n",
    "- True if two arrays have the same shape and elements, False otherwise.\n"
   ]
  },
  {
   "cell_type": "code",
   "execution_count": 64,
   "id": "60b8f94a",
   "metadata": {},
   "outputs": [
    {
     "name": "stdout",
     "output_type": "stream",
     "text": [
      "True\n",
      "False\n"
     ]
    }
   ],
   "source": [
    "print(np.array_equal([1, 2], [1, 2]))\n",
    "print(np.array_equal([1, 2], [[1, 2], [1, 2]]))"
   ]
  },
  {
   "cell_type": "markdown",
   "id": "36ef20e1",
   "metadata": {},
   "source": [
    "# array_equiv\n",
    "- Returns True if input arrays are shape consistent and all elements equal. (broadcast equal)\n",
    "- array_equal vs array_equiv: Shape Requirement: array_equal requires identical shapes, while array_equiv allows for broadcastable shapes. Strictness: array_equal is stricter regarding array dimensions and shape, whereas array_equiv is more flexible due to broadcasting."
   ]
  },
  {
   "cell_type": "code",
   "execution_count": 65,
   "id": "82c3a5c4",
   "metadata": {},
   "outputs": [
    {
     "name": "stdout",
     "output_type": "stream",
     "text": [
      "True\n",
      "True\n"
     ]
    }
   ],
   "source": [
    "print(np.array_equiv([1, 2], [1, 2]))\n",
    "print(np.array_equiv([1, 2], [[1, 2], [1, 2]]))"
   ]
  },
  {
   "cell_type": "markdown",
   "id": "fdd9393a",
   "metadata": {},
   "source": [
    "# array_repr\n",
    "- Return the string representation of an array.\n",
    "- provides a formal, reconstructible string representation that includes array metadata."
   ]
  },
  {
   "cell_type": "code",
   "execution_count": 67,
   "id": "9f4954c3",
   "metadata": {},
   "outputs": [
    {
     "data": {
      "text/plain": [
       "'array([50, 30, 40, 20, 10])'"
      ]
     },
     "execution_count": 67,
     "metadata": {},
     "output_type": "execute_result"
    }
   ],
   "source": [
    "np.array_repr(np.array([50, 30, 40, 20, 10]))"
   ]
  },
  {
   "cell_type": "markdown",
   "id": "67c66eb9",
   "metadata": {},
   "source": [
    "# array_split\n",
    "- Split an array into multiple sub-arrays."
   ]
  },
  {
   "cell_type": "code",
   "execution_count": 69,
   "id": "17704cb8",
   "metadata": {},
   "outputs": [
    {
     "data": {
      "text/plain": [
       "[array([0, 1, 2, 3]), array([4, 5, 6, 7])]"
      ]
     },
     "execution_count": 69,
     "metadata": {},
     "output_type": "execute_result"
    }
   ],
   "source": [
    "np.array_split(np.arange(8),2)"
   ]
  },
  {
   "cell_type": "markdown",
   "id": "3f20e790",
   "metadata": {},
   "source": [
    "# array_str\n",
    "- Return a string representation of the data in an array.\n",
    "- provides a clean, data-focused string representation suitable for display."
   ]
  },
  {
   "cell_type": "code",
   "execution_count": 70,
   "id": "4a243ff2",
   "metadata": {},
   "outputs": [
    {
     "data": {
      "text/plain": [
       "'[0 1 2]'"
      ]
     },
     "execution_count": 70,
     "metadata": {},
     "output_type": "execute_result"
    }
   ],
   "source": [
    "np.array_str(np.arange(3))"
   ]
  },
  {
   "cell_type": "markdown",
   "id": "5b766bcc",
   "metadata": {},
   "source": [
    "# asanyarray\n",
    "- Convert the input to an ndarray, but pass ndarray subclasses through.\n",
    "- Input data, in any form that can be converted to an array. This includes scalars, lists, lists of tuples, tuples, tuples of tuples, tuples of lists, and ndarrays\n",
    "## Notes:\n",
    "- Use numpy.asarray when you need to ensure the output is a base ndarray, even if the input is a subclass.\n",
    "- Use numpy.asanyarray when you want to convert the input to an array but also want to preserve the subclass type if the input is already an ndarray subclass. This can be more efficient if you're working with specialized array types and don't need to force them into a base ndarray."
   ]
  },
  {
   "cell_type": "code",
   "execution_count": 75,
   "id": "b2eaf4b5",
   "metadata": {},
   "outputs": [
    {
     "name": "stdout",
     "output_type": "stream",
     "text": [
      "4\n",
      "[3 4 4]\n",
      "[3 4 4]\n",
      "[3 4 4]\n"
     ]
    }
   ],
   "source": [
    "print(np.asanyarray(4))\n",
    "print(np.asanyarray((3, 4, 4)))\n",
    "print(np.asanyarray([3, 4, 4]))\n",
    "print(np.asanyarray(np.array([3, 4, 4])))"
   ]
  },
  {
   "cell_type": "markdown",
   "id": "e9e210cc",
   "metadata": {},
   "source": [
    "# asarray\n",
    "- Convert the input to an array.\n",
    "- Input data, in any form that can be converted to an array. This includes lists, lists of tuples, tuples, tuples of tuples, tuples of lists and ndarrays.\n",
    "## Notes:\n",
    "- Use numpy.asarray when you need to ensure the output is a base ndarray, even if the input is a subclass.\n",
    "- Use numpy.asanyarray when you want to convert the input to an array but also want to preserve the subclass type if the input is already an ndarray subclass. This can be more efficient if you're working with specialized array types and don't need to force them into a base ndarray."
   ]
  },
  {
   "cell_type": "code",
   "execution_count": 76,
   "id": "01b163ee",
   "metadata": {},
   "outputs": [
    {
     "name": "stdout",
     "output_type": "stream",
     "text": [
      "4\n",
      "[3 4 4]\n",
      "[3 4 4]\n",
      "[3 4 4]\n"
     ]
    }
   ],
   "source": [
    "print(np.asarray(4))\n",
    "print(np.asarray((3, 4, 4)))\n",
    "print(np.asarray([3, 4, 4]))\n",
    "print(np.asarray(np.array([3, 4, 4])))"
   ]
  },
  {
   "cell_type": "markdown",
   "id": "467e1fe5",
   "metadata": {},
   "source": [
    "# asarray_chkfinite\n",
    "- Convert the input to an array, checking for NaNs or Infs.\n",
    "- Input data, in any form that can be converted to an array. This includes lists, lists of tuples, tuples, tuples of tuples, tuples of lists and ndarrays. Success requires no NaNs or Infs."
   ]
  },
  {
   "cell_type": "code",
   "execution_count": 78,
   "id": "da0365dc",
   "metadata": {},
   "outputs": [
    {
     "name": "stdout",
     "output_type": "stream",
     "text": [
      "ValueError\n"
     ]
    }
   ],
   "source": [
    "try:\n",
    "    np.asarray_chkfinite([1, 2, np.inf])\n",
    "except ValueError:\n",
    "    print('ValueError')"
   ]
  },
  {
   "cell_type": "markdown",
   "id": "0604319d",
   "metadata": {},
   "source": [
    "# ascontiguousarray\n",
    "- Return a contiguous array (ndim >= 1) in memory (C order).\n",
    "- The primary purpose of ascontiguousarray() is to optimize performance and ensure compatibility when interfacing NumPy arrays with external libraries, especially those written in C, C++, or Fortran, which often expect data in a specific memory layout."
   ]
  },
  {
   "cell_type": "code",
   "execution_count": 83,
   "id": "a6f4aee1",
   "metadata": {},
   "outputs": [
    {
     "name": "stdout",
     "output_type": "stream",
     "text": [
      "False\n",
      "True\n"
     ]
    }
   ],
   "source": [
    "x = np.ones((2, 3), order='F')\n",
    "print(x.flags['C_CONTIGUOUS'])\n",
    "y = np.ascontiguousarray(x)\n",
    "print(y.flags['C_CONTIGUOUS'])"
   ]
  },
  {
   "cell_type": "markdown",
   "id": "046566aa",
   "metadata": {},
   "source": [
    "# asin\n",
    "- inverse sin, element-wise"
   ]
  },
  {
   "cell_type": "code",
   "execution_count": 84,
   "id": "1fd9002a",
   "metadata": {},
   "outputs": [
    {
     "data": {
      "text/plain": [
       "np.float64(1.5707963267948966)"
      ]
     },
     "execution_count": 84,
     "metadata": {},
     "output_type": "execute_result"
    }
   ],
   "source": [
    "np.asin(1)"
   ]
  },
  {
   "cell_type": "markdown",
   "id": "0c66a3a6",
   "metadata": {},
   "source": [
    "# asinh\n",
    "- Inverse hyperbolic sine element-wise."
   ]
  },
  {
   "cell_type": "code",
   "execution_count": 85,
   "id": "3628f007",
   "metadata": {},
   "outputs": [
    {
     "data": {
      "text/plain": [
       "array([1.72538256, 2.99822295])"
      ]
     },
     "execution_count": 85,
     "metadata": {},
     "output_type": "execute_result"
    }
   ],
   "source": [
    "np.arcsinh(np.array([np.e, 10.0]))"
   ]
  },
  {
   "cell_type": "markdown",
   "id": "201e40cd",
   "metadata": {},
   "source": [
    "# asmatrix\n",
    "- Interpret the input as a matrix.\n",
    "- return type is matrix instead of ndarray"
   ]
  },
  {
   "cell_type": "code",
   "execution_count": 87,
   "id": "651f5052",
   "metadata": {},
   "outputs": [
    {
     "data": {
      "text/plain": [
       "numpy.matrix"
      ]
     },
     "execution_count": 87,
     "metadata": {},
     "output_type": "execute_result"
    }
   ],
   "source": [
    "type(np.asmatrix(np.array([2, 3, 4])))"
   ]
  },
  {
   "cell_type": "markdown",
   "id": "75cf051a",
   "metadata": {},
   "source": [
    "# astype\n",
    "- Copies an array to a specified data type."
   ]
  },
  {
   "cell_type": "code",
   "execution_count": 91,
   "id": "4198cce7",
   "metadata": {},
   "outputs": [
    {
     "name": "stdout",
     "output_type": "stream",
     "text": [
      "int64\n",
      "float32\n"
     ]
    }
   ],
   "source": [
    "a = arr = np.array([1, 2, 3])\n",
    "print(a.dtype)\n",
    "print(np.astype(a, np.float32).dtype)"
   ]
  },
  {
   "cell_type": "markdown",
   "id": "533e05c4",
   "metadata": {},
   "source": [
    "# atan\n",
    "- inverse tangent"
   ]
  },
  {
   "cell_type": "code",
   "execution_count": 92,
   "id": "20cafc18",
   "metadata": {},
   "outputs": [
    {
     "data": {
      "text/plain": [
       "array([0.        , 0.78539816])"
      ]
     },
     "execution_count": 92,
     "metadata": {},
     "output_type": "execute_result"
    }
   ],
   "source": [
    "np.atan([0, 1])"
   ]
  },
  {
   "cell_type": "markdown",
   "id": "daedaf6c",
   "metadata": {},
   "source": [
    "# atan2\n",
    "- Element-wise arc tangent of x1/x2 choosing the quadrant correctly.\n",
    "- Returns the angle between the positive x-axis and the line connecting the origin to the point \\((x,y)\\), in radians. "
   ]
  },
  {
   "cell_type": "code",
   "execution_count": 94,
   "id": "6e0616b5",
   "metadata": {},
   "outputs": [
    {
     "data": {
      "text/plain": [
       "array([  0.,  90., -90., 180.])"
      ]
     },
     "execution_count": 94,
     "metadata": {},
     "output_type": "execute_result"
    }
   ],
   "source": [
    "np.atan2([0, 1, -1, 0], [1, 0, 0, -1]) * 180 / np.pi"
   ]
  },
  {
   "cell_type": "markdown",
   "id": "2aa941fa",
   "metadata": {},
   "source": [
    "# atanh\n",
    "- inverse hyperpolic tangent function"
   ]
  },
  {
   "cell_type": "code",
   "execution_count": 95,
   "id": "78967cfa",
   "metadata": {},
   "outputs": [
    {
     "data": {
      "text/plain": [
       "array([ 0.        , -0.54930614])"
      ]
     },
     "execution_count": 95,
     "metadata": {},
     "output_type": "execute_result"
    }
   ],
   "source": [
    "np.arctanh([0, -0.5])"
   ]
  },
  {
   "cell_type": "markdown",
   "id": "b19ef47c",
   "metadata": {},
   "source": [
    "# atleast_1d\n",
    "- Convert inputs to arrays with at least one dimension.\n",
    "- Scalar inputs are converted to 1-dimensional arrays, whilst higher-dimensional inputs are preserved."
   ]
  },
  {
   "cell_type": "code",
   "execution_count": 97,
   "id": "35dacc3f",
   "metadata": {},
   "outputs": [
    {
     "name": "stdout",
     "output_type": "stream",
     "text": [
      "[10]\n",
      "[[2 3]\n",
      " [3 4]]\n"
     ]
    }
   ],
   "source": [
    "print(np.atleast_1d(10))\n",
    "print(np.atleast_1d([[2, 3], [3, 4]]))"
   ]
  },
  {
   "cell_type": "markdown",
   "id": "66461e0b",
   "metadata": {},
   "source": [
    "# atleast_2d\n",
    "- View inputs as arrays with at least two dimensions."
   ]
  },
  {
   "cell_type": "code",
   "execution_count": 98,
   "id": "46dba98a",
   "metadata": {},
   "outputs": [
    {
     "name": "stdout",
     "output_type": "stream",
     "text": [
      "[[10]]\n",
      "[[[2]\n",
      "  [3]\n",
      "  [3]]]\n"
     ]
    }
   ],
   "source": [
    "print(np.atleast_2d(10))\n",
    "print(np.atleast_3d([2, 3, 3]))"
   ]
  },
  {
   "cell_type": "markdown",
   "id": "e002ac17",
   "metadata": {},
   "source": [
    "# atleast_3d\n",
    "- View inputs as arrays with at least three dimensions.\n",
    "- will returns at least (x, 1, 1)"
   ]
  },
  {
   "cell_type": "code",
   "execution_count": 106,
   "id": "d31f2a22",
   "metadata": {},
   "outputs": [
    {
     "name": "stdout",
     "output_type": "stream",
     "text": [
      "(1, 1, 1)\n",
      "(2, 3, 1)\n"
     ]
    }
   ],
   "source": [
    "print(np.atleast_3d(3).shape)\n",
    "print(np.atleast_3d(np.arange(6).reshape(2, 3)).shape)"
   ]
  },
  {
   "cell_type": "markdown",
   "id": "f570a965",
   "metadata": {},
   "source": [
    "# average\n",
    "- Compute the weighted average along the specified axis.\n",
    "- avg = sum(a * weights) / sum(weights)"
   ]
  },
  {
   "cell_type": "code",
   "execution_count": 107,
   "id": "2ee51961",
   "metadata": {},
   "outputs": [
    {
     "data": {
      "text/plain": [
       "np.float64(2.5)"
      ]
     },
     "execution_count": 107,
     "metadata": {},
     "output_type": "execute_result"
    }
   ],
   "source": [
    "np.average(np.arange(1, 5))"
   ]
  },
  {
   "cell_type": "markdown",
   "id": "81d6d6a8",
   "metadata": {},
   "source": [
    "# bartlett\n",
    "- Return the Bartlett window."
   ]
  },
  {
   "cell_type": "code",
   "execution_count": 110,
   "id": "404e4711",
   "metadata": {},
   "outputs": [
    {
     "data": {
      "text/plain": [
       "array([0.        , 0.18181818, 0.36363636, 0.54545455, 0.72727273,\n",
       "       0.90909091, 0.90909091, 0.72727273, 0.54545455, 0.36363636,\n",
       "       0.18181818, 0.        ])"
      ]
     },
     "execution_count": 110,
     "metadata": {},
     "output_type": "execute_result"
    }
   ],
   "source": [
    "np.bartlett(12)"
   ]
  },
  {
   "cell_type": "markdown",
   "id": "bf6da97e",
   "metadata": {},
   "source": [
    "# base_repr\n",
    "- Return a string representation of a number in the given base system."
   ]
  },
  {
   "cell_type": "code",
   "execution_count": 111,
   "id": "43799ac2",
   "metadata": {},
   "outputs": [
    {
     "data": {
      "text/plain": [
       "'101'"
      ]
     },
     "execution_count": 111,
     "metadata": {},
     "output_type": "execute_result"
    }
   ],
   "source": [
    "np.base_repr(5)"
   ]
  },
  {
   "cell_type": "markdown",
   "id": "393e0550",
   "metadata": {},
   "source": [
    "# binary_repr\n",
    "- Return the binary representation of the input number as a string."
   ]
  },
  {
   "cell_type": "code",
   "execution_count": 114,
   "id": "c56e37e8",
   "metadata": {},
   "outputs": [
    {
     "data": {
      "text/plain": [
       "'1000000'"
      ]
     },
     "execution_count": 114,
     "metadata": {},
     "output_type": "execute_result"
    }
   ],
   "source": [
    "np.binary_repr(64)"
   ]
  },
  {
   "cell_type": "markdown",
   "id": "967f428a",
   "metadata": {},
   "source": [
    "# bincount\n",
    "- Count number of occurrences of each value in array of non-negative ints."
   ]
  },
  {
   "cell_type": "code",
   "execution_count": 115,
   "id": "77f5942d",
   "metadata": {},
   "outputs": [
    {
     "data": {
      "text/plain": [
       "array([1, 3, 1, 1, 0, 0, 0, 1])"
      ]
     },
     "execution_count": 115,
     "metadata": {},
     "output_type": "execute_result"
    }
   ],
   "source": [
    "np.bincount(np.array([0, 1, 1, 3, 2, 1, 7]))"
   ]
  },
  {
   "cell_type": "markdown",
   "id": "9614d22f",
   "metadata": {},
   "source": [
    "# bitwise_and\n",
    "- Compute the bit-wise AND of two arrays element-wise."
   ]
  },
  {
   "cell_type": "code",
   "execution_count": 118,
   "id": "baa933d3",
   "metadata": {},
   "outputs": [
    {
     "name": "stdout",
     "output_type": "stream",
     "text": [
      "101\n",
      "10001\n"
     ]
    },
    {
     "data": {
      "text/plain": [
       "np.int64(1)"
      ]
     },
     "execution_count": 118,
     "metadata": {},
     "output_type": "execute_result"
    }
   ],
   "source": [
    "print(np.binary_repr(5))\n",
    "print(np.binary_repr(17))\n",
    "np.bitwise_and(5, 17)"
   ]
  },
  {
   "cell_type": "markdown",
   "id": "cf71783b",
   "metadata": {},
   "source": [
    "# bitwise_count\n",
    "- Computes the number of 1-bits in the absolute value of x. Analogous to the builtin int.bit_count or popcount in C++."
   ]
  },
  {
   "cell_type": "code",
   "execution_count": 120,
   "id": "4bc84167",
   "metadata": {},
   "outputs": [
    {
     "data": {
      "text/plain": [
       "np.uint8(6)"
      ]
     },
     "execution_count": 120,
     "metadata": {},
     "output_type": "execute_result"
    }
   ],
   "source": [
    "np.bitwise_count(63)"
   ]
  },
  {
   "cell_type": "markdown",
   "id": "8eed0918",
   "metadata": {},
   "source": [
    "# bitwise_invert\n",
    "- Compute bit-wise inversion, or bit-wise NOT, element-wise.\n",
    "- Computes the bit-wise NOT of the underlying binary representation of the integers in the input arrays. This ufunc implements the C/Python operator ~.\n",
    "- alias to bitwise_not"
   ]
  },
  {
   "cell_type": "code",
   "execution_count": 121,
   "id": "38d8366c",
   "metadata": {},
   "outputs": [
    {
     "data": {
      "text/plain": [
       "True"
      ]
     },
     "execution_count": 121,
     "metadata": {},
     "output_type": "execute_result"
    }
   ],
   "source": [
    "np.bitwise_invert is np.bitwise_not"
   ]
  },
  {
   "cell_type": "markdown",
   "id": "1c914b00",
   "metadata": {},
   "source": [
    "# bitwise_left_shift\n",
    "- Shift the bits of an integer to the left. aka * 2\n",
    "- takes at least 2 mandatory inputs: x1: input, x2: number of zeros to append to x1"
   ]
  },
  {
   "cell_type": "code",
   "execution_count": 124,
   "id": "fe10703e",
   "metadata": {},
   "outputs": [
    {
     "data": {
      "text/plain": [
       "np.int64(10)"
      ]
     },
     "execution_count": 124,
     "metadata": {},
     "output_type": "execute_result"
    }
   ],
   "source": [
    "np.bitwise_left_shift(5, 1)"
   ]
  },
  {
   "cell_type": "markdown",
   "id": "c6e68f0f",
   "metadata": {},
   "source": [
    "# bitwise_not\n",
    "- compute the bitwise not: flipping the bit"
   ]
  },
  {
   "cell_type": "code",
   "execution_count": 130,
   "id": "a3403bae",
   "metadata": {},
   "outputs": [
    {
     "name": "stdout",
     "output_type": "stream",
     "text": [
      "110\n",
      "1111111111111001\n"
     ]
    }
   ],
   "source": [
    "print(np.binary_repr(6))\n",
    "print(np.binary_repr(np.bitwise_not(np.array(6, dtype=np.uint16))))"
   ]
  },
  {
   "cell_type": "markdown",
   "id": "a945d04e",
   "metadata": {},
   "source": [
    "# bitwise_or\n",
    "- compute the bitwise of **OR**"
   ]
  },
  {
   "cell_type": "code",
   "execution_count": 132,
   "id": "44fa88d0",
   "metadata": {},
   "outputs": [
    {
     "data": {
      "text/plain": [
       "np.int64(30)"
      ]
     },
     "execution_count": 132,
     "metadata": {},
     "output_type": "execute_result"
    }
   ],
   "source": [
    "np.bitwise_or(14, 16)"
   ]
  },
  {
   "cell_type": "markdown",
   "id": "4be39226",
   "metadata": {},
   "source": [
    "# bitwise_right_shift\n",
    "- compute the bitwise  **left shift**: equivalent to divide by 2\n",
    "- takes at least 2 args: x1: number or arrays, and number or arrays that is the divisor"
   ]
  },
  {
   "cell_type": "code",
   "execution_count": 134,
   "id": "e8997f75",
   "metadata": {},
   "outputs": [
    {
     "data": {
      "text/plain": [
       "np.int64(15)"
      ]
     },
     "execution_count": 134,
     "metadata": {},
     "output_type": "execute_result"
    }
   ],
   "source": [
    "np.bitwise_right_shift(30, 1)"
   ]
  },
  {
   "cell_type": "markdown",
   "id": "44e6c096",
   "metadata": {},
   "source": [
    "# bitwise_xor\n",
    "- compute the bitwise **XOR** of two arrays element-wise. If 2 bits are different, then it is a **1**, if 2 bits are the same, then they are **0**"
   ]
  },
  {
   "cell_type": "code",
   "execution_count": 138,
   "id": "7a903ec0",
   "metadata": {},
   "outputs": [
    {
     "name": "stdout",
     "output_type": "stream",
     "text": [
      "1101\n",
      "1111\n",
      "10\n"
     ]
    }
   ],
   "source": [
    "print(np.binary_repr(13))\n",
    "print(np.binary_repr(15))\n",
    "print(np.binary_repr(np.bitwise_xor(13, 15)))"
   ]
  },
  {
   "cell_type": "markdown",
   "id": "9c4b25e8",
   "metadata": {},
   "source": [
    "# blackman\n",
    "- Return the Blackman window.\n",
    "- The Blackman window is a taper formed by using the first three terms of a summation of cosines. It was designed to have close to the minimal leakage possible. It is close to optimal, only slightly worse than a Kaiser window."
   ]
  },
  {
   "cell_type": "code",
   "execution_count": 141,
   "id": "8cca50d1",
   "metadata": {},
   "outputs": [
    {
     "data": {
      "text/plain": [
       "array([-1.38777878e-17,  5.08696327e-02,  2.58000502e-01,  6.30000000e-01,\n",
       "        9.51129866e-01,  9.51129866e-01,  6.30000000e-01,  2.58000502e-01,\n",
       "        5.08696327e-02, -1.38777878e-17])"
      ]
     },
     "execution_count": 141,
     "metadata": {},
     "output_type": "execute_result"
    }
   ],
   "source": [
    "np.blackman(10)"
   ]
  },
  {
   "cell_type": "markdown",
   "id": "63640306",
   "metadata": {},
   "source": [
    "# block\n",
    "- Blocks in the innermost lists are concatenated along the last dimension (-1), then these are concatenated along the second-last dimension (-2), and so on until the outermost list is reached."
   ]
  },
  {
   "cell_type": "code",
   "execution_count": 146,
   "id": "43d121b2",
   "metadata": {},
   "outputs": [
    {
     "name": "stdout",
     "output_type": "stream",
     "text": [
      "[1 2 3]\n",
      "[ 1  2  3  4  5  6 10]\n",
      "[[1 1 2 2]\n",
      " [1 1 2 2]]\n",
      "[[1 1]\n",
      " [1 1]\n",
      " [2 2]\n",
      " [2 2]]\n",
      "[0]\n",
      "[1]\n",
      "[[0]]\n",
      "[[1]]\n"
     ]
    }
   ],
   "source": [
    "print(np.block([1, 2, 3]))              # hstack([1, 2, 3])\n",
    "a = np.array([1, 2, 3])\n",
    "b = np.array([4, 5, 6])\n",
    "print(np.block([a, b, 10]))             # hstack([a, b, 10]))\n",
    "A = np.ones((2, 2), int)\n",
    "B = 2 * A\n",
    "print(np.block([A, B]))                 # hstack([A, B])\n",
    "A = np.ones((2, 2), int)\n",
    "B = 2 * A\n",
    "print(np.block([[A], [B]]))             # vstack([A, B])\n",
    "\n",
    "a = np.array(0)\n",
    "b = np.array([1])\n",
    "print(np.block([a]))                    # atleast_1d(a)\n",
    "print(np.block([b]))                    # atleast_1d(b)\n",
    "\n",
    "print(np.block([[a]]))                  # atleast_2d(a)\n",
    "print(np.block([[b]]))                  # atleast_2d(b)"
   ]
  },
  {
   "cell_type": "markdown",
   "id": "a32bcfc8",
   "metadata": {},
   "source": [
    "# bmat\n",
    "- Build a matrix object from a string, nested sequence, or array."
   ]
  },
  {
   "cell_type": "code",
   "execution_count": 150,
   "id": "2e17aa01",
   "metadata": {},
   "outputs": [
    {
     "name": "stdout",
     "output_type": "stream",
     "text": [
      "A:  [[1 1]\n",
      " [1 1]]\n",
      "B:  [[2 2]\n",
      " [2 2]]\n",
      "C:  [[3 4]\n",
      " [5 6]]\n",
      "D:  [[7 8]\n",
      " [9 0]]\n",
      "[[1 1 2 2]\n",
      " [1 1 2 2]\n",
      " [3 4 7 8]\n",
      " [5 6 9 0]]\n",
      "[[1 1 2 2]\n",
      " [1 1 2 2]\n",
      " [3 4 7 8]\n",
      " [5 6 9 0]]\n",
      "[[1 1 2 2]\n",
      " [1 1 2 2]\n",
      " [3 4 7 8]\n",
      " [5 6 9 0]]\n"
     ]
    }
   ],
   "source": [
    "A = np.asmatrix('1 1; 1 1')\n",
    "print(\"A: \", A)\n",
    "B = np.asmatrix('2 2; 2 2')\n",
    "print(\"B: \", B)\n",
    "C = np.asmatrix('3 4; 5 6')\n",
    "print(\"C: \", C)\n",
    "D = np.asmatrix('7 8; 9 0')\n",
    "print(\"D: \", D)\n",
    "print(np.bmat([[A, B], [C, D]]))\n",
    "print(np.bmat(np.r_[np.c_[A, B], np.c_[C, D]]))\n",
    "print(np.bmat('A,B; C,D'))"
   ]
  },
  {
   "cell_type": "markdown",
   "id": "ac3cb9c5",
   "metadata": {},
   "source": [
    "# broadcast\n",
    "- Produce an object that mimics broadcasting."
   ]
  },
  {
   "cell_type": "code",
   "execution_count": 152,
   "id": "97d1de4a",
   "metadata": {},
   "outputs": [
    {
     "name": "stdout",
     "output_type": "stream",
     "text": [
      "[[5. 6. 7.]\n",
      " [6. 7. 8.]\n",
      " [7. 8. 9.]]\n"
     ]
    }
   ],
   "source": [
    "x = np.array([[1], [2], [3]])\n",
    "y = np.array([4, 5, 6])\n",
    "b = np.broadcast(x, y)\n",
    "out = np.empty(b.shape)\n",
    "out.flat = [u+v for (u,v) in b]\n",
    "print(out)"
   ]
  },
  {
   "cell_type": "markdown",
   "id": "b616c85b",
   "metadata": {},
   "source": [
    "# broadcast_arrays\n",
    "- Broadcast any number of arrays against each other."
   ]
  },
  {
   "cell_type": "code",
   "execution_count": 160,
   "id": "2566bb1c",
   "metadata": {},
   "outputs": [
    {
     "name": "stdout",
     "output_type": "stream",
     "text": [
      "(1, 3)\n",
      "(2, 1)\n"
     ]
    },
    {
     "data": {
      "text/plain": [
       "(array([[1, 2, 3],\n",
       "        [1, 2, 3]]),\n",
       " array([[4, 4, 4],\n",
       "        [5, 5, 5]]))"
      ]
     },
     "execution_count": 160,
     "metadata": {},
     "output_type": "execute_result"
    }
   ],
   "source": [
    "x = np.array([[1,2,3]])\n",
    "print(x.shape)\n",
    "y = np.array([[4],[5]])\n",
    "print(y.shape)\n",
    "np.broadcast_arrays(x, y)"
   ]
  },
  {
   "cell_type": "markdown",
   "id": "5c904422",
   "metadata": {},
   "source": [
    "# broadcast_shapes\n",
    "- Broadcast the input shapes into a single shape. returns a shape"
   ]
  },
  {
   "cell_type": "code",
   "execution_count": 161,
   "id": "47415bde",
   "metadata": {},
   "outputs": [
    {
     "data": {
      "text/plain": [
       "(3, 2)"
      ]
     },
     "execution_count": 161,
     "metadata": {},
     "output_type": "execute_result"
    }
   ],
   "source": [
    "np.broadcast_shapes((1, 2), (3, 1), (3, 2))"
   ]
  },
  {
   "cell_type": "markdown",
   "id": "8beb5bae",
   "metadata": {},
   "source": [
    "# broadcast_to\n",
    "- Broadcast an array to a new shape."
   ]
  },
  {
   "cell_type": "code",
   "execution_count": 164,
   "id": "934ec22d",
   "metadata": {},
   "outputs": [
    {
     "name": "stdout",
     "output_type": "stream",
     "text": [
      "[[4 5 6]\n",
      " [4 5 6]]\n",
      "[[4 5 6]\n",
      " [4 5 6]\n",
      " [4 5 6]]\n"
     ]
    }
   ],
   "source": [
    "print(np.broadcast_to(np.array([4, 5, 6]), (2, 3)))\n",
    "print(np.broadcast_to(np.array([4, 5, 6]), (3, 3)))\n"
   ]
  },
  {
   "cell_type": "markdown",
   "id": "dfa88561",
   "metadata": {},
   "source": [
    "# busday_count\n",
    "- Counts the number of valid (business) days between begindates and enddates, not including the day of enddates. Doesn't not count weekends"
   ]
  },
  {
   "cell_type": "code",
   "execution_count": 166,
   "id": "443e0ffc",
   "metadata": {},
   "outputs": [
    {
     "data": {
      "text/plain": [
       "np.int64(108)"
      ]
     },
     "execution_count": 166,
     "metadata": {},
     "output_type": "execute_result"
    }
   ],
   "source": [
    "np.busday_count('2025-01', '2025-06')"
   ]
  },
  {
   "cell_type": "markdown",
   "id": "40d7fc4a",
   "metadata": {},
   "source": [
    "# busday_offset\n",
    "- First adjusts the date to fall on a valid day according to the roll rule, then applies offsets to the given dates counted in valid days."
   ]
  },
  {
   "cell_type": "code",
   "execution_count": 169,
   "id": "a4fa950a",
   "metadata": {},
   "outputs": [
    {
     "data": {
      "text/plain": [
       "np.datetime64('2025-10-01')"
      ]
     },
     "execution_count": 169,
     "metadata": {},
     "output_type": "execute_result"
    }
   ],
   "source": [
    "np.busday_offset('2025-10', 0, roll='forward')"
   ]
  },
  {
   "cell_type": "markdown",
   "id": "1921c4de",
   "metadata": {},
   "source": [
    "# busdaycalendar\n",
    "- A business day calendar object that efficiently stores information defining valid days for the busday family of functions.\n",
    "- The default valid days are Monday through Friday (“business days”). A busdaycalendar object can be specified with any set of weekly valid days, plus an optional “holiday” dates that always will be invalid."
   ]
  },
  {
   "cell_type": "code",
   "execution_count": 175,
   "id": "6458d695",
   "metadata": {},
   "outputs": [
    {
     "data": {
      "text/plain": [
       "numpy.busdaycalendar"
      ]
     },
     "execution_count": 175,
     "metadata": {},
     "output_type": "execute_result"
    }
   ],
   "source": [
    "bus_calendar = np.busdaycalendar()\n",
    "type(bus_calendar)"
   ]
  },
  {
   "cell_type": "markdown",
   "id": "5612eb94",
   "metadata": {},
   "source": [
    "# can_cast\n",
    "- Returns True if cast between data types can occur according to the casting rule."
   ]
  },
  {
   "cell_type": "code",
   "execution_count": 177,
   "id": "c03507dd",
   "metadata": {},
   "outputs": [
    {
     "name": "stdout",
     "output_type": "stream",
     "text": [
      "True\n",
      "False\n"
     ]
    }
   ],
   "source": [
    "print(np.can_cast(np.int32, np.int64))\n",
    "print(np.can_cast(complex, float))"
   ]
  },
  {
   "cell_type": "markdown",
   "id": "52319b7a",
   "metadata": {},
   "source": [
    "# cbrt\n",
    "- Return the cube-root of an array, element-wise."
   ]
  },
  {
   "cell_type": "code",
   "execution_count": 178,
   "id": "5e5b547e",
   "metadata": {},
   "outputs": [
    {
     "data": {
      "text/plain": [
       "array([1., 2., 3.])"
      ]
     },
     "execution_count": 178,
     "metadata": {},
     "output_type": "execute_result"
    }
   ],
   "source": [
    "np.cbrt([1,8,27])"
   ]
  },
  {
   "cell_type": "markdown",
   "id": "1347cf63",
   "metadata": {},
   "source": [
    "# ceil\n",
    "- Return the ceiling of the input, element-wise."
   ]
  },
  {
   "cell_type": "code",
   "execution_count": 179,
   "id": "df026477",
   "metadata": {},
   "outputs": [
    {
     "data": {
      "text/plain": [
       "array([-1., -1., -0.,  1.,  2.,  2.,  2.])"
      ]
     },
     "execution_count": 179,
     "metadata": {},
     "output_type": "execute_result"
    }
   ],
   "source": [
    "np.ceil(np.array([-1.7, -1.5, -0.2, 0.2, 1.5, 1.7, 2.0]))"
   ]
  },
  {
   "cell_type": "markdown",
   "id": "9e27e6a7",
   "metadata": {},
   "source": [
    "# choose\n",
    "- Construct an array from an index array and a list of arrays to choose from.\n"
   ]
  },
  {
   "cell_type": "code",
   "execution_count": 180,
   "id": "7598029e",
   "metadata": {},
   "outputs": [
    {
     "data": {
      "text/plain": [
       "array([20, 31, 12,  3])"
      ]
     },
     "execution_count": 180,
     "metadata": {},
     "output_type": "execute_result"
    }
   ],
   "source": [
    "choices = [[0, 1, 2, 3], [10, 11, 12, 13],\n",
    "  [20, 21, 22, 23], [30, 31, 32, 33]]\n",
    "np.choose([2, 3, 1, 0], choices\n",
    "# the first element of the result will be the first element of the\n",
    "# third (2+1) \"array\" in choices, namely, 20; the second element\n",
    "# will be the second element of the fourth (3+1) choice array, i.e.,\n",
    "# 31, etc.\n",
    ")"
   ]
  },
  {
   "cell_type": "markdown",
   "id": "a6810c0b",
   "metadata": {},
   "source": [
    "# clip\n",
    "- Clip (limit) the values in an array. \n",
    "- returns the array clip within a range"
   ]
  },
  {
   "cell_type": "code",
   "execution_count": 181,
   "id": "a1f190b0",
   "metadata": {},
   "outputs": [
    {
     "data": {
      "text/plain": [
       "array([10,  2, 12,  4, 20, 20, 17, 20])"
      ]
     },
     "execution_count": 181,
     "metadata": {},
     "output_type": "execute_result"
    }
   ],
   "source": [
    "np.clip(np.array([10, 2, 12, 4, 22, 33, 17, 50]), 0, 20)"
   ]
  },
  {
   "cell_type": "markdown",
   "id": "18689202",
   "metadata": {},
   "source": [
    "# column_stack\n",
    "- Stack 1-D arrays as columns into a 2-D array."
   ]
  },
  {
   "cell_type": "code",
   "execution_count": 183,
   "id": "9fcaba02",
   "metadata": {},
   "outputs": [
    {
     "data": {
      "text/plain": [
       "array([[1, 4],\n",
       "       [2, 5],\n",
       "       [3, 6]])"
      ]
     },
     "execution_count": 183,
     "metadata": {},
     "output_type": "execute_result"
    }
   ],
   "source": [
    "np.column_stack(\n",
    "    (np.array([1, 2, 3]),\n",
    "    np.array([4, 5, 6]))\n",
    ")"
   ]
  },
  {
   "cell_type": "markdown",
   "id": "408671a0",
   "metadata": {},
   "source": [
    "# compress\n",
    "- Return selected slices of an array along given axis."
   ]
  },
  {
   "cell_type": "code",
   "execution_count": 184,
   "id": "3c7fc3c4",
   "metadata": {},
   "outputs": [
    {
     "data": {
      "text/plain": [
       "array([[3, 4]])"
      ]
     },
     "execution_count": 184,
     "metadata": {},
     "output_type": "execute_result"
    }
   ],
   "source": [
    "np.compress(\n",
    "    [0, 1], \n",
    "    np.array([[1, 2], [3, 4], [5, 6]]), \n",
    "    axis=0)"
   ]
  },
  {
   "cell_type": "markdown",
   "id": "b1ddef02",
   "metadata": {},
   "source": [
    "# concat\n",
    "- Join a sequence of arrays along an existing axis."
   ]
  },
  {
   "cell_type": "code",
   "execution_count": 189,
   "id": "47f5990e",
   "metadata": {},
   "outputs": [
    {
     "data": {
      "text/plain": [
       "array([[1, 2, 3, 4],\n",
       "       [5, 6, 7, 8]])"
      ]
     },
     "execution_count": 189,
     "metadata": {},
     "output_type": "execute_result"
    }
   ],
   "source": [
    "np.concat(\n",
    "    (np.array([[1, 2], [5, 6]]),\n",
    "    np.array([[3,4], [7, 8]])\n",
    "    ), axis=1\n",
    ")"
   ]
  },
  {
   "cell_type": "markdown",
   "id": "aabf864e",
   "metadata": {},
   "source": [
    "# concatenate\n",
    "- same a concat. they are essentially the same function"
   ]
  },
  {
   "cell_type": "code",
   "execution_count": 190,
   "id": "b9c9beff",
   "metadata": {},
   "outputs": [
    {
     "data": {
      "text/plain": [
       "array([[1, 2],\n",
       "       [5, 6],\n",
       "       [3, 4],\n",
       "       [7, 8]])"
      ]
     },
     "execution_count": 190,
     "metadata": {},
     "output_type": "execute_result"
    }
   ],
   "source": [
    "np.concat(\n",
    "    (np.array([[1, 2], [5, 6]]),\n",
    "    np.array([[3,4], [7, 8]])\n",
    "    ), axis=0\n",
    ")"
   ]
  },
  {
   "cell_type": "markdown",
   "id": "aeeb3caa",
   "metadata": {},
   "source": [
    "# conj\n",
    "- Return the complex conjugate, element-wise."
   ]
  },
  {
   "cell_type": "code",
   "execution_count": 191,
   "id": "d612099a",
   "metadata": {},
   "outputs": [
    {
     "data": {
      "text/plain": [
       "np.complex128(1-2j)"
      ]
     },
     "execution_count": 191,
     "metadata": {},
     "output_type": "execute_result"
    }
   ],
   "source": [
    "np.conj(1+2j)"
   ]
  },
  {
   "cell_type": "markdown",
   "id": "56a66fc7",
   "metadata": {},
   "source": [
    "# conjugate\n",
    "- Same as conj. They are essentially the same function"
   ]
  },
  {
   "cell_type": "code",
   "execution_count": 192,
   "id": "1f8c43b9",
   "metadata": {},
   "outputs": [
    {
     "data": {
      "text/plain": [
       "np.complex128(1-4j)"
      ]
     },
     "execution_count": 192,
     "metadata": {},
     "output_type": "execute_result"
    }
   ],
   "source": [
    "np.conjugate(1+4j)"
   ]
  },
  {
   "cell_type": "markdown",
   "id": "972ac338",
   "metadata": {},
   "source": [
    "# convolve\n",
    "- Returns the discrete, linear convolution of two one-dimensional sequences.\n",
    "- The convolution operator is often seen in signal processing, where it models the effect of a linear time-invariant system on a signal [1]. In probability theory, the sum of two independent random variables is distributed according to the convolution of their individual distributions.\n",
    "- Notes: works for 1d array **ONLY**"
   ]
  },
  {
   "cell_type": "code",
   "execution_count": 198,
   "id": "f544dc10",
   "metadata": {},
   "outputs": [
    {
     "name": "stdout",
     "output_type": "stream",
     "text": [
      "[ 4 13 28 27 18]\n",
      "[0.01 0.03 0.07 0.09 0.19 0.37 0.73 0.91 1.   0.91 0.73 0.36 0.16 0.03\n",
      " 0.01]\n"
     ]
    }
   ],
   "source": [
    "print(np.convolve(\n",
    "    np.array([1, 2, 3]),\n",
    "    np.array([4, 5, 6])\n",
    "))\n",
    "print(np.convolve(\n",
    "    np.array([.1, .1, .1, .1, 1, 1, 1, 1, 1, .1, .1]),\n",
    "    np.array([.1, .2, .4, .2, .1])\n",
    "))"
   ]
  },
  {
   "cell_type": "markdown",
   "id": "7030296e",
   "metadata": {},
   "source": [
    "# copy\n",
    "- Return an array copy of the given object."
   ]
  },
  {
   "cell_type": "code",
   "execution_count": 199,
   "id": "1f1b2986",
   "metadata": {},
   "outputs": [
    {
     "name": "stdout",
     "output_type": "stream",
     "text": [
      "[1 2 3]\n"
     ]
    }
   ],
   "source": [
    "x = np.array([1, 2, 3])\n",
    "y = x\n",
    "z = np.copy(x)\n",
    "print(z)"
   ]
  },
  {
   "cell_type": "markdown",
   "id": "58fb24cc",
   "metadata": {},
   "source": [
    "# copysign\n",
    "- Change the sign of x1 to that of x2, element-wise."
   ]
  },
  {
   "cell_type": "code",
   "execution_count": 200,
   "id": "5ca1d290",
   "metadata": {},
   "outputs": [
    {
     "name": "stdout",
     "output_type": "stream",
     "text": [
      "-1.3\n"
     ]
    }
   ],
   "source": [
    "print(np.copysign(1.3, -1))"
   ]
  },
  {
   "cell_type": "markdown",
   "id": "d6515d72",
   "metadata": {},
   "source": [
    "# copyto\n",
    "- Copies values from one array to another, broadcasting as necessary."
   ]
  },
  {
   "cell_type": "code",
   "execution_count": 207,
   "id": "039b0cdb",
   "metadata": {},
   "outputs": [
    {
     "name": "stdout",
     "output_type": "stream",
     "text": [
      "[1 2 3]\n"
     ]
    }
   ],
   "source": [
    "a = np.array([1, 2, 3])\n",
    "b = np.array([0, 0,0])\n",
    "np.copyto(\n",
    "    b, a\n",
    "    \n",
    ")\n",
    "print(b)"
   ]
  },
  {
   "cell_type": "markdown",
   "id": "8b063c9d",
   "metadata": {},
   "source": [
    "# corrcoef\n",
    "- Return Pearson product-moment correlation coefficients."
   ]
  },
  {
   "cell_type": "code",
   "execution_count": 208,
   "id": "c679a449",
   "metadata": {},
   "outputs": [
    {
     "data": {
      "text/plain": [
       "array([[1., 1., 1.],\n",
       "       [1., 1., 1.],\n",
       "       [1., 1., 1.]])"
      ]
     },
     "execution_count": 208,
     "metadata": {},
     "output_type": "execute_result"
    }
   ],
   "source": [
    "np.corrcoef(\n",
    "    np.arange(9).reshape((3, 3))\n",
    ")"
   ]
  },
  {
   "cell_type": "markdown",
   "id": "646de87f",
   "metadata": {},
   "source": [
    "# correlate\n",
    "- Cross-correlation of two 1-dimensional sequences."
   ]
  },
  {
   "cell_type": "code",
   "execution_count": 209,
   "id": "1e77d3fa",
   "metadata": {},
   "outputs": [
    {
     "data": {
      "text/plain": [
       "array([3, 5, 3])"
      ]
     },
     "execution_count": 209,
     "metadata": {},
     "output_type": "execute_result"
    }
   ],
   "source": [
    "np.correlate(\n",
    "    np.array([1, 2, 3]),\n",
    "    np.array([0, 1, 1]),\n",
    "    'same'\n",
    ")"
   ]
  },
  {
   "cell_type": "markdown",
   "id": "ad348fb8",
   "metadata": {},
   "source": [
    "# cos\n",
    "- Cosine element-wise."
   ]
  },
  {
   "cell_type": "code",
   "execution_count": 210,
   "id": "553bdc28",
   "metadata": {},
   "outputs": [
    {
     "data": {
      "text/plain": [
       "array([1.        , 0.54030231])"
      ]
     },
     "execution_count": 210,
     "metadata": {},
     "output_type": "execute_result"
    }
   ],
   "source": [
    "np.cos(np.array([0, 1]))"
   ]
  },
  {
   "cell_type": "markdown",
   "id": "5ea46e93",
   "metadata": {},
   "source": [
    "# cosh\n",
    "- Hyperbolic cosine, element-wise.\n",
    "- Equivalent to 1/2 * (np.exp(x) + np.exp(-x)) and np.cos(1j*x)."
   ]
  },
  {
   "cell_type": "code",
   "execution_count": 211,
   "id": "c7b385b2",
   "metadata": {},
   "outputs": [
    {
     "data": {
      "text/plain": [
       "array([1.54308063, 1.12762597])"
      ]
     },
     "execution_count": 211,
     "metadata": {},
     "output_type": "execute_result"
    }
   ],
   "source": [
    "np.cosh(np.array([1, 0.5]))"
   ]
  },
  {
   "cell_type": "markdown",
   "id": "e3eecfc2",
   "metadata": {},
   "source": [
    "# count_nonzero\n",
    "- Counts the number of non-zero values in the array a."
   ]
  },
  {
   "cell_type": "code",
   "execution_count": 212,
   "id": "04c508be",
   "metadata": {},
   "outputs": [
    {
     "data": {
      "text/plain": [
       "4"
      ]
     },
     "execution_count": 212,
     "metadata": {},
     "output_type": "execute_result"
    }
   ],
   "source": [
    "np.count_nonzero(np.eye(4))"
   ]
  },
  {
   "cell_type": "markdown",
   "id": "873a0e95",
   "metadata": {},
   "source": [
    "# cov\n",
    "- Estimate a covariance matrix, given data and weights."
   ]
  },
  {
   "cell_type": "code",
   "execution_count": 215,
   "id": "47d60f88",
   "metadata": {},
   "outputs": [
    {
     "data": {
      "text/plain": [
       "array([[ 2.,  0., -2.],\n",
       "       [ 0.,  0.,  0.],\n",
       "       [-2.,  0.,  2.]])"
      ]
     },
     "execution_count": 215,
     "metadata": {},
     "output_type": "execute_result"
    }
   ],
   "source": [
    "np.cov(\n",
    "    np.array([\n",
    "        [0, 2],\n",
    "        [1, 1],\n",
    "        [2, 0]]\n",
    "    )\n",
    ")"
   ]
  },
  {
   "cell_type": "markdown",
   "id": "51fb0409",
   "metadata": {},
   "source": [
    "# cross\n",
    "- Return the cross product of two (arrays of) vectors."
   ]
  },
  {
   "cell_type": "code",
   "execution_count": 216,
   "id": "8a036ae6",
   "metadata": {},
   "outputs": [
    {
     "data": {
      "text/plain": [
       "array([-3,  6, -3])"
      ]
     },
     "execution_count": 216,
     "metadata": {},
     "output_type": "execute_result"
    }
   ],
   "source": [
    "np.cross(\n",
    "    np.array([1, 2, 3]),\n",
    "    np.array([4, 5, 6])\n",
    ")"
   ]
  },
  {
   "cell_type": "markdown",
   "id": "b5710d98",
   "metadata": {},
   "source": [
    "# cumprod\n",
    "- Return the cumulative product of elements along a given axis."
   ]
  },
  {
   "cell_type": "code",
   "execution_count": 217,
   "id": "fd3d8844",
   "metadata": {},
   "outputs": [
    {
     "data": {
      "text/plain": [
       "array([1, 2, 6])"
      ]
     },
     "execution_count": 217,
     "metadata": {},
     "output_type": "execute_result"
    }
   ],
   "source": [
    "np.cumprod(\n",
    "    np.array([1, 2, 3])\n",
    ")"
   ]
  },
  {
   "cell_type": "markdown",
   "id": "43fc427b",
   "metadata": {},
   "source": [
    "# cumsum\n",
    "- Return the cumulative sum of the elements along a given axis."
   ]
  },
  {
   "cell_type": "code",
   "execution_count": 218,
   "id": "055cff02",
   "metadata": {},
   "outputs": [
    {
     "data": {
      "text/plain": [
       "array([ 1,  3,  6, 10, 15, 21])"
      ]
     },
     "execution_count": 218,
     "metadata": {},
     "output_type": "execute_result"
    }
   ],
   "source": [
    "np.cumsum(\n",
    "    np.array([\n",
    "        [1, 2, 3],\n",
    "        [4, 5, 6]\n",
    "    ])\n",
    ")"
   ]
  },
  {
   "cell_type": "markdown",
   "id": "034f2c81",
   "metadata": {},
   "source": [
    "# cumulative_prod\n",
    "- Return the cumulative product of elements along a given axis.\n",
    "- essentially the same as cumprod"
   ]
  },
  {
   "cell_type": "code",
   "execution_count": 220,
   "id": "f916630c",
   "metadata": {},
   "outputs": [
    {
     "data": {
      "text/plain": [
       "array([1, 2, 6])"
      ]
     },
     "execution_count": 220,
     "metadata": {},
     "output_type": "execute_result"
    }
   ],
   "source": [
    "np.cumulative_prod(\n",
    "    np.array([1, 2, 3])\n",
    ")"
   ]
  },
  {
   "cell_type": "markdown",
   "id": "a0969ca4",
   "metadata": {},
   "source": [
    "# cumulative_sum\n",
    "- Return the cumulative sum of the elements along a given axis.\n",
    "- for 2d arrays and above, axis is required\n"
   ]
  },
  {
   "cell_type": "code",
   "execution_count": 222,
   "id": "07673feb",
   "metadata": {},
   "outputs": [
    {
     "data": {
      "text/plain": [
       "array([[ 1,  2,  3],\n",
       "       [11, 22, 33]])"
      ]
     },
     "execution_count": 222,
     "metadata": {},
     "output_type": "execute_result"
    }
   ],
   "source": [
    "np.cumulative_sum(\n",
    "    np.array([\n",
    "        [1, 2, 3],\n",
    "        [10, 20, 30]\n",
    "    ]),\n",
    "    axis=0\n",
    ")"
   ]
  },
  {
   "cell_type": "markdown",
   "id": "18ab0a12",
   "metadata": {},
   "source": [
    "# datetime64\n",
    "- If created from a 64-bit integer, it represents an offset from 1970-01-01T00:00:00. If created from string, the string can be in ISO 8601 date or datetime format."
   ]
  },
  {
   "cell_type": "code",
   "execution_count": 223,
   "id": "5241bf51",
   "metadata": {},
   "outputs": [
    {
     "data": {
      "text/plain": [
       "np.datetime64('2020')"
      ]
     },
     "execution_count": 223,
     "metadata": {},
     "output_type": "execute_result"
    }
   ],
   "source": [
    "np.datetime64(50, 'Y')"
   ]
  },
  {
   "cell_type": "markdown",
   "id": "6081f01b",
   "metadata": {},
   "source": [
    "# datetime_as_string\n",
    "- Convert an array of datetimes into an array of strings."
   ]
  },
  {
   "cell_type": "code",
   "execution_count": 224,
   "id": "e619f889",
   "metadata": {},
   "outputs": [
    {
     "data": {
      "text/plain": [
       "array(['2002-10-27T04:30Z', '2002-10-27T05:30Z', '2002-10-27T06:30Z',\n",
       "       '2002-10-27T07:30Z'], dtype='<U35')"
      ]
     },
     "execution_count": 224,
     "metadata": {},
     "output_type": "execute_result"
    }
   ],
   "source": [
    "np.datetime_as_string(\n",
    "    np.arange('2002-10-27T04:30', 4*60, 60, dtype='M8[m]'), timezone='UTC'\n",
    ")"
   ]
  },
  {
   "cell_type": "markdown",
   "id": "d6ca9dcf",
   "metadata": {},
   "source": [
    "# datetime_data\n",
    "- Get information about the step size of a date or time type."
   ]
  },
  {
   "cell_type": "code",
   "execution_count": 229,
   "id": "721171ec",
   "metadata": {},
   "outputs": [
    {
     "data": {
      "text/plain": [
       "('generic', 1)"
      ]
     },
     "execution_count": 229,
     "metadata": {},
     "output_type": "execute_result"
    }
   ],
   "source": [
    "np.datetime_data(\n",
    "    np.dtype('M')\n",
    ")"
   ]
  },
  {
   "cell_type": "markdown",
   "id": "bad3748d",
   "metadata": {},
   "source": [
    "# deg2rad\n",
    "- converts angles from degreee to radians"
   ]
  },
  {
   "cell_type": "code",
   "execution_count": 231,
   "id": "bb6e8ce6",
   "metadata": {},
   "outputs": [
    {
     "data": {
      "text/plain": [
       "np.float64(0.7853981633974483)"
      ]
     },
     "execution_count": 231,
     "metadata": {},
     "output_type": "execute_result"
    }
   ],
   "source": [
    "np.deg2rad(45)"
   ]
  },
  {
   "cell_type": "markdown",
   "id": "5ad0dba2",
   "metadata": {},
   "source": [
    "# degrees\n",
    "- Convert angles from radians to degrees."
   ]
  },
  {
   "cell_type": "code",
   "execution_count": 232,
   "id": "d5319f0f",
   "metadata": {},
   "outputs": [
    {
     "data": {
      "text/plain": [
       "array([  0.,  30.,  60.,  90., 120., 150., 180., 210., 240., 270., 300.,\n",
       "       330.])"
      ]
     },
     "execution_count": 232,
     "metadata": {},
     "output_type": "execute_result"
    }
   ],
   "source": [
    "np.degrees(\n",
    "    np.arange(12.) * np.pi/6\n",
    ")"
   ]
  },
  {
   "cell_type": "markdown",
   "id": "72d67fcc",
   "metadata": {},
   "source": [
    "# diag\n",
    "- Extract a diagonal or construct a diagonal array."
   ]
  },
  {
   "cell_type": "code",
   "execution_count": 233,
   "id": "602c2d57",
   "metadata": {},
   "outputs": [
    {
     "data": {
      "text/plain": [
       "array([[0, 0, 0],\n",
       "       [0, 1, 0],\n",
       "       [0, 0, 2]])"
      ]
     },
     "execution_count": 233,
     "metadata": {},
     "output_type": "execute_result"
    }
   ],
   "source": [
    "np.diag(\n",
    "    np.arange(3)\n",
    ")"
   ]
  },
  {
   "cell_type": "markdown",
   "id": "35ca2a68",
   "metadata": {},
   "source": [
    "# diag_indices\n",
    "- Return the indices to access the main diagonal of an array."
   ]
  },
  {
   "cell_type": "code",
   "execution_count": 236,
   "id": "af8c0d2e",
   "metadata": {},
   "outputs": [
    {
     "data": {
      "text/plain": [
       "(array([0, 1, 2, 3]), array([0, 1, 2, 3]))"
      ]
     },
     "execution_count": 236,
     "metadata": {},
     "output_type": "execute_result"
    }
   ],
   "source": [
    "np.diag_indices(4)"
   ]
  },
  {
   "cell_type": "markdown",
   "id": "95c84902",
   "metadata": {},
   "source": [
    "# diag_indices_from\n",
    "- Return the indices to access the main diagonal of an n-dimensional array."
   ]
  },
  {
   "cell_type": "code",
   "execution_count": 237,
   "id": "16b1727d",
   "metadata": {},
   "outputs": [
    {
     "data": {
      "text/plain": [
       "(array([0, 1, 2]), array([0, 1, 2]))"
      ]
     },
     "execution_count": 237,
     "metadata": {},
     "output_type": "execute_result"
    }
   ],
   "source": [
    "np.diag_indices_from(\n",
    "    np.arange(9).reshape(3, 3)\n",
    ")"
   ]
  },
  {
   "cell_type": "markdown",
   "id": "2b7f61da",
   "metadata": {},
   "source": [
    "# diagflat\n",
    "- Create a two-dimensional array with the flattened input as a diagonal."
   ]
  },
  {
   "cell_type": "code",
   "execution_count": 238,
   "id": "d033e4fd",
   "metadata": {},
   "outputs": [
    {
     "data": {
      "text/plain": [
       "array([[1, 0, 0, 0],\n",
       "       [0, 2, 0, 0],\n",
       "       [0, 0, 3, 0],\n",
       "       [0, 0, 0, 4]])"
      ]
     },
     "execution_count": 238,
     "metadata": {},
     "output_type": "execute_result"
    }
   ],
   "source": [
    "np.diagflat(\n",
    "    np.array([[1, 2], [3, 4]])\n",
    ")"
   ]
  },
  {
   "cell_type": "markdown",
   "id": "16105e48",
   "metadata": {},
   "source": [
    "# diagonal\n",
    "- Return specified diagonals.\n",
    "\n",
    "If a is 2-D, returns the diagonal of a with the given offset, i.e., the collection of elements of the form a[i, i+offset]. If a has more than two dimensions, then the axes specified by axis1 and axis2 are used to determine the 2-D sub-array whose diagonal is returned. The shape of the resulting array can be determined by removing axis1 and axis2 and appending an index to the right equal to the size of the resulting diagonals."
   ]
  },
  {
   "cell_type": "code",
   "execution_count": 241,
   "id": "1c3b1214",
   "metadata": {},
   "outputs": [
    {
     "data": {
      "text/plain": [
       "array([0, 4, 8])"
      ]
     },
     "execution_count": 241,
     "metadata": {},
     "output_type": "execute_result"
    }
   ],
   "source": [
    "np.arange(9).reshape(3, 3).diagonal()"
   ]
  },
  {
   "cell_type": "markdown",
   "id": "73e49b96",
   "metadata": {},
   "source": [
    "# diff\n",
    "- Calculate the n-th discrete difference along the given axis.\n",
    "- The first difference is given by out[i] = a[i+1] - a[i] along the given axis, higher differences are calculated by using diff recursively."
   ]
  },
  {
   "cell_type": "code",
   "execution_count": 242,
   "id": "21c29aed",
   "metadata": {},
   "outputs": [
    {
     "data": {
      "text/plain": [
       "array([2, 1, 1, 4, 1])"
      ]
     },
     "execution_count": 242,
     "metadata": {},
     "output_type": "execute_result"
    }
   ],
   "source": [
    "np.diff(\n",
    "    np.array([1, 3, 4, 5, 9, 10])\n",
    ")"
   ]
  },
  {
   "cell_type": "markdown",
   "id": "2b2da8e6",
   "metadata": {},
   "source": [
    "# digitize\n",
    "- Return the indices of the bins to which each value in input array belongs."
   ]
  },
  {
   "cell_type": "code",
   "execution_count": 244,
   "id": "53814d93",
   "metadata": {},
   "outputs": [
    {
     "name": "stdout",
     "output_type": "stream",
     "text": [
      "[1 2 3 4 4 5]\n",
      "[1 3 3 4 5 5]\n"
     ]
    }
   ],
   "source": [
    "x = np.array([1.2, 10.0, 12.4, 15.5, 20., 25])\n",
    "bins = np.array([0, 5, 10, 15, 20])\n",
    "print(np.digitize(x,bins,right=True))\n",
    "print(np.digitize(x,bins,right=False))"
   ]
  },
  {
   "cell_type": "markdown",
   "id": "4d50825f",
   "metadata": {},
   "source": [
    "# divide\n",
    "- Divide arguments element-wise."
   ]
  },
  {
   "cell_type": "code",
   "execution_count": 246,
   "id": "3702ecb5",
   "metadata": {},
   "outputs": [
    {
     "data": {
      "text/plain": [
       "array([[0.        , 0.5       , 0.66666667],\n",
       "       [3.        , 2.        , 1.66666667],\n",
       "       [6.        , 3.5       , 2.66666667]])"
      ]
     },
     "execution_count": 246,
     "metadata": {},
     "output_type": "execute_result"
    }
   ],
   "source": [
    "np.divide(\n",
    "    np.arange(9.0).reshape(3, 3),\n",
    "    np.array([1, 2, 3])\n",
    ")"
   ]
  },
  {
   "cell_type": "markdown",
   "id": "d542fcdc",
   "metadata": {},
   "source": [
    "# divmod\n",
    "- Return element-wise quotient and remainder simultaneously."
   ]
  },
  {
   "cell_type": "code",
   "execution_count": 247,
   "id": "60e80857",
   "metadata": {},
   "outputs": [
    {
     "data": {
      "text/plain": [
       "(array([[0., 0., 0.],\n",
       "        [3., 2., 1.],\n",
       "        [6., 3., 2.]]),\n",
       " array([[0., 1., 2.],\n",
       "        [0., 0., 2.],\n",
       "        [0., 1., 2.]]))"
      ]
     },
     "execution_count": 247,
     "metadata": {},
     "output_type": "execute_result"
    }
   ],
   "source": [
    "np.divmod(\n",
    "    np.arange(9.0).reshape(3, 3),\n",
    "    np.array([1, 2, 3])\n",
    ")"
   ]
  },
  {
   "cell_type": "markdown",
   "id": "f024c7e6",
   "metadata": {},
   "source": [
    "# dot\n",
    "- Dot product of two arrays."
   ]
  },
  {
   "cell_type": "code",
   "execution_count": 248,
   "id": "7d7750e5",
   "metadata": {},
   "outputs": [
    {
     "data": {
      "text/plain": [
       "array([[ 5,  5,  5],\n",
       "       [11, 11, 11]])"
      ]
     },
     "execution_count": 248,
     "metadata": {},
     "output_type": "execute_result"
    }
   ],
   "source": [
    "np.dot(\n",
    "    np.array([[1, 2], [3, 4]]),\n",
    "    np.array([[1, 1, 1], [2, 2, 2]])\n",
    ")"
   ]
  },
  {
   "cell_type": "markdown",
   "id": "37d059b7",
   "metadata": {},
   "source": [
    "# dsplit\n",
    "- Split array into multiple sub-arrays along the 3rd axis (depth).\n",
    "- dsplit is equivalent to split with axis=2"
   ]
  },
  {
   "cell_type": "code",
   "execution_count": 251,
   "id": "373857a8",
   "metadata": {},
   "outputs": [
    {
     "data": {
      "text/plain": [
       "[array([[[ 0,  1],\n",
       "         [ 4,  5]],\n",
       " \n",
       "        [[ 8,  9],\n",
       "         [12, 13]]]),\n",
       " array([[[ 2,  3],\n",
       "         [ 6,  7]],\n",
       " \n",
       "        [[10, 11],\n",
       "         [14, 15]]])]"
      ]
     },
     "execution_count": 251,
     "metadata": {},
     "output_type": "execute_result"
    }
   ],
   "source": [
    "np.dsplit(\n",
    "    np.arange(16).reshape(2, 2, 4), 2\n",
    ")"
   ]
  },
  {
   "cell_type": "markdown",
   "id": "15969ed2",
   "metadata": {},
   "source": [
    "# dstack\n",
    "- Stack arrays in sequence depth wise (along third axis).\n",
    "- This is equivalent to concatenation along the third axis after 2-D arrays of shape (M,N) have been reshaped to (M,N,1) and 1-D arrays of shape (N,) have been reshaped to (1,N,1). Rebuilds arrays divided by dsplit.\n",
    "- This function makes most sense for arrays with up to 3 dimensions. For instance, for pixel-data with a height (first axis), width (second axis), and r/g/b channels (third axis). The functions concatenate, stack and block provide more general stacking and concatenation operations."
   ]
  },
  {
   "cell_type": "code",
   "execution_count": 254,
   "id": "1a61ac5b",
   "metadata": {},
   "outputs": [
    {
     "data": {
      "text/plain": [
       "array([[[1, 2],\n",
       "        [2, 3],\n",
       "        [3, 4]]])"
      ]
     },
     "execution_count": 254,
     "metadata": {},
     "output_type": "execute_result"
    }
   ],
   "source": [
    "np.dstack(\n",
    "    (np.array([1, 2, 3]),\n",
    "    np.array([2, 3, 4]))\n",
    ")"
   ]
  },
  {
   "cell_type": "markdown",
   "id": "8e42f7f4",
   "metadata": {},
   "source": [
    "# dtype\n",
    "- A data type object (an instance of numpy.dtype class) describes how the bytes in the fixed-size block of memory corresponding to an array item should be interpreted. It describes the following aspects of the data:\n",
    "- '?': boolean\n",
    "- 'b': (signed) byte\n",
    "- 'B': unsigned byte\n",
    "- 'i': (signed) integer\n",
    "- 'u': unsigned integer\n",
    "- 'f': floating-point\n",
    "- 'c': complex-floating point\n",
    "- 'm': timedelta\n",
    "- 'M': datetime\n",
    "- 'O': (Python) objects\n",
    "- 'S', 'a': zero-terminated bytes (not recommended)\n",
    "- 'U': Unicode string\n",
    "- 'V': raw data (void)\n"
   ]
  },
  {
   "cell_type": "code",
   "execution_count": 230,
   "id": "2ae348db",
   "metadata": {},
   "outputs": [
    {
     "name": "stdout",
     "output_type": "stream",
     "text": [
      "int32\n",
      "float64\n",
      "complex128\n",
      "|S25\n",
      "<U25\n"
     ]
    }
   ],
   "source": [
    "print( np.dtype('i4'))   # 32-bit signed integer\n",
    "print(np.dtype('f8'))  # 64-bit floating-point number\n",
    "print(np.dtype('c16'))  # 128-bit complex floating-point number\n",
    "print(np.dtype('S25'))  # 25-length zero-terminated bytes\n",
    "print(np.dtype('U25'))  # 25-character string"
   ]
  },
  {
   "cell_type": "markdown",
   "id": "9886d6f3",
   "metadata": {},
   "source": [
    "# ediff1d\n",
    "- The differences between consecutive elements of an array."
   ]
  },
  {
   "cell_type": "code",
   "execution_count": 255,
   "id": "367e26a3",
   "metadata": {},
   "outputs": [
    {
     "data": {
      "text/plain": [
       "array([1, 1, 1, 6])"
      ]
     },
     "execution_count": 255,
     "metadata": {},
     "output_type": "execute_result"
    }
   ],
   "source": [
    "np.ediff1d(\n",
    "    np.array([1, 2, 3, 4, 10])\n",
    ")"
   ]
  },
  {
   "cell_type": "markdown",
   "id": "f80f5065",
   "metadata": {},
   "source": [
    "# einsum\n",
    "- Evaluates the Einstein summation convention on the operands.\n",
    "- Using the Einstein summation convention, many common multi-dimensional, linear algebraic array operations can be represented in a simple fashion. In implicit mode einsum computes these values.\n",
    "- In explicit mode, einsum provides further flexibility to compute other array operations that might not be considered classical Einstein summation operations, by disabling, or forcing summation over specified subscript labels."
   ]
  },
  {
   "cell_type": "code",
   "execution_count": 258,
   "id": "9605e883",
   "metadata": {},
   "outputs": [
    {
     "data": {
      "text/plain": [
       "array([0, 3])"
      ]
     },
     "execution_count": 258,
     "metadata": {},
     "output_type": "execute_result"
    }
   ],
   "source": [
    "np.einsum(\n",
    "    'ii->i',\n",
    "    np.arange(4).reshape(2, 2)\n",
    ")"
   ]
  },
  {
   "cell_type": "markdown",
   "id": "5ece721f",
   "metadata": {},
   "source": [
    "# einsum_path\n",
    "- Evaluates the lowest cost contraction order for an einsum expression by considering the creation of intermediate arrays."
   ]
  },
  {
   "cell_type": "code",
   "execution_count": 259,
   "id": "03fabebb",
   "metadata": {},
   "outputs": [
    {
     "name": "stdout",
     "output_type": "stream",
     "text": [
      "['einsum_path', (1, 2), (0, 1)]\n",
      "  Complete contraction:  ij,jk,kl->il\n",
      "         Naive scaling:  4\n",
      "     Optimized scaling:  3\n",
      "      Naive FLOP count:  1.200e+02\n",
      "  Optimized FLOP count:  5.700e+01\n",
      "   Theoretical speedup:  2.105\n",
      "  Largest intermediate:  4.000e+00 elements\n",
      "--------------------------------------------------------------------------\n",
      "scaling                  current                                remaining\n",
      "--------------------------------------------------------------------------\n",
      "   3                   kl,jk->jl                                ij,jl->il\n",
      "   3                   jl,ij->il                                   il->il\n"
     ]
    }
   ],
   "source": [
    "np.random.seed(123)\n",
    "a = np.random.rand(2, 2)\n",
    "b = np.random.rand(2, 5)\n",
    "c = np.random.rand(5, 2)\n",
    "path_info = np.einsum_path('ij,jk,kl->il', a, b, c, optimize='greedy')\n",
    "print(path_info[0])\n",
    "print(path_info[1])"
   ]
  },
  {
   "cell_type": "markdown",
   "id": "c4413f3c",
   "metadata": {},
   "source": [
    "# empty\n",
    "- Return a new array of given shape and type, without initializing entries."
   ]
  },
  {
   "cell_type": "code",
   "execution_count": 260,
   "id": "8029b91a",
   "metadata": {},
   "outputs": [
    {
     "data": {
      "text/plain": [
       "array([[1. , 1. , 4. ],\n",
       "       [2.5, 7. , 4. ]])"
      ]
     },
     "execution_count": 260,
     "metadata": {},
     "output_type": "execute_result"
    }
   ],
   "source": [
    "np.empty([2, 3])"
   ]
  },
  {
   "cell_type": "markdown",
   "id": "d756072e",
   "metadata": {},
   "source": [
    "# empty_like\n",
    "- Return a new array with the same shape and type as a given array.\n",
    "- Notes: empty just need shape, while empty requires a **given array**."
   ]
  },
  {
   "cell_type": "code",
   "execution_count": 262,
   "id": "6b0ec4e5",
   "metadata": {},
   "outputs": [
    {
     "data": {
      "text/plain": [
       "array([[0, 1],\n",
       "       [2, 3]])"
      ]
     },
     "execution_count": 262,
     "metadata": {},
     "output_type": "execute_result"
    }
   ],
   "source": [
    "np.empty_like(\n",
    "    np.arange(4).reshape(2, 2)\n",
    ")"
   ]
  },
  {
   "cell_type": "markdown",
   "id": "c0dfab9d",
   "metadata": {},
   "source": [
    "# equal\n",
    "- Return (x1 == x2) element-wise."
   ]
  },
  {
   "cell_type": "code",
   "execution_count": 263,
   "id": "fad5b98c",
   "metadata": {},
   "outputs": [
    {
     "data": {
      "text/plain": [
       "array([ True,  True, False])"
      ]
     },
     "execution_count": 263,
     "metadata": {},
     "output_type": "execute_result"
    }
   ],
   "source": [
    "np.equal([0, 1, 3], np.arange(3))\n"
   ]
  },
  {
   "cell_type": "markdown",
   "id": "b82851a6",
   "metadata": {},
   "source": [
    "# errstate\n",
    "- Context manager for floating-point error handling.\n",
    "- Using an instance of errstate as a context manager allows statements in that context to execute with a known error handling behavior. Upon entering the context the error handling is set with seterr and seterrcall, and upon exiting it is reset to what it was before."
   ]
  },
  {
   "cell_type": "code",
   "execution_count": 265,
   "id": "ab1dc638",
   "metadata": {},
   "outputs": [],
   "source": [
    "with np.errstate(all='ignore'):\n",
    "    np.arange(3) / 0"
   ]
  },
  {
   "cell_type": "markdown",
   "id": "9aa79320",
   "metadata": {},
   "source": [
    "# exp\n",
    "- Calculate the exponential of all elements in the input array.\n",
    "- The irrational number e is also known as Euler’s number. It is approximately 2.718281, and is the base of the natural logarithm\n",
    "- e^x"
   ]
  },
  {
   "cell_type": "code",
   "execution_count": 267,
   "id": "e69ba186",
   "metadata": {},
   "outputs": [
    {
     "data": {
      "text/plain": [
       "array([  2.71828183,   7.3890561 ,  20.08553692,  54.59815003,\n",
       "       148.4131591 ])"
      ]
     },
     "execution_count": 267,
     "metadata": {},
     "output_type": "execute_result"
    }
   ],
   "source": [
    "np.exp(\n",
    "    np.array([1, 2, 3, 4, 5])\n",
    ")"
   ]
  },
  {
   "cell_type": "markdown",
   "id": "afc755bc",
   "metadata": {},
   "source": [
    "# exp2\n",
    "- Calculate 2**p for all p in the input array."
   ]
  },
  {
   "cell_type": "code",
   "execution_count": 268,
   "id": "88987644",
   "metadata": {},
   "outputs": [
    {
     "data": {
      "text/plain": [
       "array([ 4.,  8., 16., 32., 64.])"
      ]
     },
     "execution_count": 268,
     "metadata": {},
     "output_type": "execute_result"
    }
   ],
   "source": [
    "np.exp2(\n",
    "    np.array([2, 3, 4, 5, 6])\n",
    ")"
   ]
  },
  {
   "cell_type": "markdown",
   "id": "dfe97654",
   "metadata": {},
   "source": [
    "# expand_dims\n",
    "- Expand the shape of an array.\n",
    "- Insert a new axis that will appear at the axis position in the expanded array shape."
   ]
  },
  {
   "cell_type": "code",
   "execution_count": 270,
   "id": "159f56a4",
   "metadata": {},
   "outputs": [
    {
     "data": {
      "text/plain": [
       "array([[1, 2]])"
      ]
     },
     "execution_count": 270,
     "metadata": {},
     "output_type": "execute_result"
    }
   ],
   "source": [
    "np.expand_dims(\n",
    "    np.array([1, 2]), axis=0\n",
    ")"
   ]
  },
  {
   "cell_type": "markdown",
   "id": "2bd997c1",
   "metadata": {},
   "source": [
    "# expm1\n",
    "- Calculate exp(x) - 1 for all elements in the array.\n",
    "- Use np.expm1(x) when you need to calculate \\(e^{x}-1\\) and \\(x\\) might be a small number (close to zero). In such cases, np.exp(x) - 1 can suffer from catastrophic cancellation due to the subtraction of two nearly equal numbers, leading to a loss of precision. np.expm1() is designed to mitigate this issue and provide a more accurate result for small \\(x\\)."
   ]
  },
  {
   "cell_type": "code",
   "execution_count": 271,
   "id": "b06d4911",
   "metadata": {},
   "outputs": [
    {
     "data": {
      "text/plain": [
       "np.float64(1.000000005e-08)"
      ]
     },
     "execution_count": 271,
     "metadata": {},
     "output_type": "execute_result"
    }
   ],
   "source": [
    "np.expm1(\n",
    "    1e-8\n",
    ")"
   ]
  },
  {
   "cell_type": "code",
   "execution_count": 272,
   "id": "04d0f26e",
   "metadata": {},
   "outputs": [
    {
     "data": {
      "text/plain": [
       "np.float64(9.99999993922529e-09)"
      ]
     },
     "execution_count": 272,
     "metadata": {},
     "output_type": "execute_result"
    }
   ],
   "source": [
    "np.exp(1e-8) - 1"
   ]
  },
  {
   "cell_type": "markdown",
   "id": "13c7b5fd",
   "metadata": {},
   "source": [
    "# extract\n",
    "- Return the elements of an array that satisfy some condition.\n",
    "- This is equivalent to np.compress(ravel(condition), ravel(arr)). If condition is boolean np.extract is equivalent to arr[condition]."
   ]
  },
  {
   "cell_type": "code",
   "execution_count": 274,
   "id": "391fcefd",
   "metadata": {},
   "outputs": [
    {
     "name": "stdout",
     "output_type": "stream",
     "text": [
      "[[ 0  1  2  3]\n",
      " [ 4  5  6  7]\n",
      " [ 8  9 10 11]]\n",
      "[[ True False False  True]\n",
      " [False False  True False]\n",
      " [False  True False False]]\n"
     ]
    },
    {
     "data": {
      "text/plain": [
       "array([0, 3, 6, 9])"
      ]
     },
     "execution_count": 274,
     "metadata": {},
     "output_type": "execute_result"
    }
   ],
   "source": [
    "arr = np.arange(12).reshape((3, 4))\n",
    "print(arr)\n",
    "condition = np.mod(arr, 3)==0\n",
    "print(condition)\n",
    "np.extract(condition, arr)"
   ]
  },
  {
   "cell_type": "markdown",
   "id": "3b2f3296",
   "metadata": {},
   "source": [
    "# eye\n",
    "- Return a 2-D array with ones on the diagonal and zeros elsewhere."
   ]
  },
  {
   "cell_type": "code",
   "execution_count": 354,
   "id": "ff6e764d",
   "metadata": {},
   "outputs": [
    {
     "name": "stdout",
     "output_type": "stream",
     "text": [
      "[[1. 0.]\n",
      " [0. 1.]]\n",
      "[[1. 0. 0.]\n",
      " [0. 1. 0.]\n",
      " [0. 0. 1.]]\n",
      "[[1. 0. 0. 0.]\n",
      " [0. 1. 0. 0.]\n",
      " [0. 0. 1. 0.]\n",
      " [0. 0. 0. 1.]]\n"
     ]
    }
   ],
   "source": [
    "print(np.eye(\n",
    "    2\n",
    "))\n",
    "print(np.eye(3))\n",
    "print(np.eye(4))"
   ]
  },
  {
   "cell_type": "markdown",
   "id": "ee803434",
   "metadata": {},
   "source": [
    "# fabs\n",
    "- Compute the absolute values element-wise.\n",
    "- This function returns the absolute values (positive magnitude) of the data in x. Complex values are not handled, use absolute to find the absolute values of complex data."
   ]
  },
  {
   "cell_type": "code",
   "execution_count": 276,
   "id": "b3f57f35",
   "metadata": {},
   "outputs": [
    {
     "data": {
      "text/plain": [
       "array([1.2, 1.2])"
      ]
     },
     "execution_count": 276,
     "metadata": {},
     "output_type": "execute_result"
    }
   ],
   "source": [
    "np.fabs([-1.2, 1.2])"
   ]
  },
  {
   "cell_type": "markdown",
   "id": "a20ee05d",
   "metadata": {},
   "source": [
    "# fft\n",
    "- Compute the one-dimensional discrete Fourier Transform.\n",
    "- This function computes the one-dimensional n-point discrete Fourier Transform (DFT) with the efficient Fast Fourier Transform (FFT) algorithm [CT]."
   ]
  },
  {
   "cell_type": "code",
   "execution_count": 277,
   "id": "3aef3c49",
   "metadata": {},
   "outputs": [
    {
     "data": {
      "text/plain": [
       "array([-3.44509285e-16+1.22464680e-16j,  8.00000000e+00-9.95431023e-16j,\n",
       "        3.44509285e-16+1.22464680e-16j,  0.00000000e+00+1.22464680e-16j,\n",
       "        9.95799250e-17+1.22464680e-16j, -8.88178420e-16+2.60642944e-16j,\n",
       "       -9.95799250e-17+1.22464680e-16j,  0.00000000e+00+1.22464680e-16j])"
      ]
     },
     "execution_count": 277,
     "metadata": {},
     "output_type": "execute_result"
    }
   ],
   "source": [
    "np.fft.fft(np.exp(2j * np.pi * np.arange(8) / 8))"
   ]
  },
  {
   "cell_type": "markdown",
   "id": "2aeea86b",
   "metadata": {},
   "source": [
    "# fill_diagonal\n",
    "- Fill the main diagonal of the given array of any dimensionality."
   ]
  },
  {
   "cell_type": "code",
   "execution_count": 279,
   "id": "082c23d0",
   "metadata": {},
   "outputs": [
    {
     "data": {
      "text/plain": [
       "array([[ 1, 10],\n",
       "       [11,  1]])"
      ]
     },
     "execution_count": 279,
     "metadata": {},
     "output_type": "execute_result"
    }
   ],
   "source": [
    "a = np.array([[10, 10], [11, 11]])\n",
    "np.fill_diagonal(\n",
    "   a , 1\n",
    ")\n",
    "a"
   ]
  },
  {
   "cell_type": "markdown",
   "id": "27ffab81",
   "metadata": {},
   "source": [
    "# finfo\n",
    "- Machine limits for floating point types."
   ]
  },
  {
   "cell_type": "code",
   "execution_count": 280,
   "id": "3191cdea",
   "metadata": {},
   "outputs": [
    {
     "data": {
      "text/plain": [
       "finfo(resolution=1e-15, min=-1.7976931348623157e+308, max=1.7976931348623157e+308, dtype=float64)"
      ]
     },
     "execution_count": 280,
     "metadata": {},
     "output_type": "execute_result"
    }
   ],
   "source": [
    "np.finfo(np.float64)"
   ]
  },
  {
   "cell_type": "markdown",
   "id": "25e5b000",
   "metadata": {},
   "source": [
    "# fix\n",
    "- Round to nearest integer towards zero.\n",
    "- Round an array of floats element-wise to nearest integer towards zero. The rounded values have the same data-type as the input."
   ]
  },
  {
   "cell_type": "code",
   "execution_count": 281,
   "id": "cd05e7aa",
   "metadata": {},
   "outputs": [
    {
     "data": {
      "text/plain": [
       "np.float64(2.0)"
      ]
     },
     "execution_count": 281,
     "metadata": {},
     "output_type": "execute_result"
    }
   ],
   "source": [
    "np.fix(2.9)"
   ]
  },
  {
   "cell_type": "markdown",
   "id": "3692dc43",
   "metadata": {},
   "source": [
    "# flatiter\n",
    "- Flat iterator object to iterate over arrays.\n",
    "- Purpose: flatiter (returned by array.flat) is designed for iterating over the elements of an array as if it were a 1-D array, regardless of its original dimensions. It focuses solely on the values."
   ]
  },
  {
   "cell_type": "code",
   "execution_count": 283,
   "id": "d95f3e3c",
   "metadata": {},
   "outputs": [
    {
     "name": "stdout",
     "output_type": "stream",
     "text": [
      "type of fl: $<class 'numpy.flatiter'>\n",
      "0\n",
      "1\n",
      "2\n",
      "3\n",
      "4\n",
      "5\n"
     ]
    }
   ],
   "source": [
    "import numpy as np\n",
    "x = np.arange(6).reshape(2, 3)\n",
    "fl = x.flat\n",
    "print(f\"type of fl: ${type(fl)}\")\n",
    "for item in fl:\n",
    "    print(item)"
   ]
  },
  {
   "cell_type": "markdown",
   "id": "348ce744",
   "metadata": {},
   "source": [
    "# flatnonzero\n",
    "- Return indices that are non-zero in the flattened version of a.\n",
    "- Basically flatiter but returns only non-zero values - also returns negative number"
   ]
  },
  {
   "cell_type": "code",
   "execution_count": 284,
   "id": "520faa54",
   "metadata": {},
   "outputs": [
    {
     "name": "stdout",
     "output_type": "stream",
     "text": [
      "x: $[-2 -1  0  1  2]\n"
     ]
    },
    {
     "data": {
      "text/plain": [
       "array([0, 1, 3, 4])"
      ]
     },
     "execution_count": 284,
     "metadata": {},
     "output_type": "execute_result"
    }
   ],
   "source": [
    "import numpy as np\n",
    "x = np.arange(-2, 3)\n",
    "print(f\"x: ${x}\")\n",
    "np.flatnonzero(x)"
   ]
  },
  {
   "cell_type": "markdown",
   "id": "cdb3f087",
   "metadata": {},
   "source": [
    "# flip\n",
    "- Reverse the order of elements in an array along the given axis.\n",
    "- The shape of the array is preserved, but the elements are reordered."
   ]
  },
  {
   "cell_type": "code",
   "execution_count": 287,
   "id": "4d0d0fb0",
   "metadata": {},
   "outputs": [
    {
     "name": "stdout",
     "output_type": "stream",
     "text": [
      "[2 1 0]\n",
      "[[4 3]\n",
      " [2 1]]\n"
     ]
    }
   ],
   "source": [
    "print(np.flip(np.arange(3)))\n",
    "print(np.flip(\n",
    "    np.array([[1, 2], [3, 4]])\n",
    "))"
   ]
  },
  {
   "cell_type": "markdown",
   "id": "dc5a503d",
   "metadata": {},
   "source": [
    "# fliplr\n",
    "- Reverse the order of elements along axis 1 (left/right)."
   ]
  },
  {
   "cell_type": "code",
   "execution_count": 289,
   "id": "af1a478d",
   "metadata": {},
   "outputs": [
    {
     "name": "stdout",
     "output_type": "stream",
     "text": [
      "[[1 0 0]\n",
      " [0 2 0]\n",
      " [0 0 3]]\n"
     ]
    },
    {
     "data": {
      "text/plain": [
       "array([[0, 0, 1],\n",
       "       [0, 2, 0],\n",
       "       [3, 0, 0]])"
      ]
     },
     "execution_count": 289,
     "metadata": {},
     "output_type": "execute_result"
    }
   ],
   "source": [
    "a = np.diag([1, 2, 3])\n",
    "print(a)\n",
    "np.fliplr(a)"
   ]
  },
  {
   "cell_type": "markdown",
   "id": "4d74a4d2",
   "metadata": {},
   "source": [
    "# flipud\n",
    "- Reverse the order of elements along axis 0 (up/down)."
   ]
  },
  {
   "cell_type": "code",
   "execution_count": 290,
   "id": "37122cd3",
   "metadata": {},
   "outputs": [
    {
     "name": "stdout",
     "output_type": "stream",
     "text": [
      "[[1 0 0]\n",
      " [0 2 0]\n",
      " [0 0 3]]\n"
     ]
    },
    {
     "data": {
      "text/plain": [
       "array([[0, 0, 3],\n",
       "       [0, 2, 0],\n",
       "       [1, 0, 0]])"
      ]
     },
     "execution_count": 290,
     "metadata": {},
     "output_type": "execute_result"
    }
   ],
   "source": [
    "a = np.diag([1, 2, 3])\n",
    "print(a)\n",
    "np.flipud(a)"
   ]
  },
  {
   "cell_type": "markdown",
   "id": "b7268e3d",
   "metadata": {},
   "source": [
    "# float_power\n",
    "- First array elements raised to powers from second array, element-wise.\n",
    "- Raise each base in x1 to the positionally-corresponding power in x2. x1 and x2 must be broadcastable to the same shape. This differs from the power function in that integers, float16, and float32 are promoted to floats with a minimum precision of float64 so that the result is always inexact. The intent is that the function will return a usable result for negative powers and seldom overflow for positive powers.\n",
    "- Negative values raised to a non-integral value will return nan. To get complex results, cast the input to complex, or specify the dtype to be complex (see the example below)."
   ]
  },
  {
   "cell_type": "code",
   "execution_count": 291,
   "id": "cf2f4e18",
   "metadata": {},
   "outputs": [
    {
     "data": {
      "text/plain": [
       "array([ 0.,  1.,  8., 27., 64.])"
      ]
     },
     "execution_count": 291,
     "metadata": {},
     "output_type": "execute_result"
    }
   ],
   "source": [
    "np.float_power(\n",
    "    [0, 1, 2,3 , 4], 3\n",
    ")"
   ]
  },
  {
   "cell_type": "markdown",
   "id": "e80f9816",
   "metadata": {},
   "source": [
    "# floor\n",
    "- Return the floor of the input, element-wise."
   ]
  },
  {
   "cell_type": "code",
   "execution_count": 293,
   "id": "1eee20a7",
   "metadata": {},
   "outputs": [
    {
     "data": {
      "text/plain": [
       "array([2., 3., 4.])"
      ]
     },
     "execution_count": 293,
     "metadata": {},
     "output_type": "execute_result"
    }
   ],
   "source": [
    "np.floor(\n",
    "    [2.3, 3.4, 4.5]\n",
    ")"
   ]
  },
  {
   "cell_type": "markdown",
   "id": "f6d1c16f",
   "metadata": {},
   "source": [
    "# floor_divide\n",
    "- Return the largest integer smaller or equal to the division of the inputs. It is equivalent to the Python // operator and pairs with the Python % (remainder), function so that a = a % b + b * (a // b) up to roundoff."
   ]
  },
  {
   "cell_type": "code",
   "execution_count": 294,
   "id": "b4fd9b19",
   "metadata": {},
   "outputs": [
    {
     "data": {
      "text/plain": [
       "np.int64(2)"
      ]
     },
     "execution_count": 294,
     "metadata": {},
     "output_type": "execute_result"
    }
   ],
   "source": [
    "np.floor_divide(7, 3)"
   ]
  },
  {
   "cell_type": "markdown",
   "id": "9f4ad71d",
   "metadata": {},
   "source": [
    "# fmax\n",
    "- Element-wise maximum of array elements.\n",
    "- Compare two arrays and return a new array containing the element-wise maxima. If one of the elements being compared is a NaN, then the non-nan element is returned. If both elements are NaNs then the first is returned. The latter distinction is important for complex NaNs, which are defined as at least one of the real or imaginary parts being a NaN. The net effect is that NaNs are ignored when possible.\n",
    "#### Notes: The fmax is equivalent to np.where(x1 >= x2, x1, x2) when neither x1 nor x2 are NaNs, but it is faster and does proper broadcasting."
   ]
  },
  {
   "cell_type": "code",
   "execution_count": 295,
   "id": "8b8336c1",
   "metadata": {},
   "outputs": [
    {
     "data": {
      "text/plain": [
       "array([ 2,  4, 10])"
      ]
     },
     "execution_count": 295,
     "metadata": {},
     "output_type": "execute_result"
    }
   ],
   "source": [
    "np.fmax(\n",
    "    [2, 3, 4], [1, 4, 10]\n",
    ")"
   ]
  },
  {
   "cell_type": "markdown",
   "id": "4c0e9955",
   "metadata": {},
   "source": [
    "# fmin\n",
    "- Element-wise minimum of array elements.\n",
    "\n",
    "- Compare two arrays and return a new array containing the element-wise minima. If one of the elements being compared is a NaN, then the non-nan element is returned. If both elements are NaNs then the first is returned. The latter distinction is important for complex NaNs, which are defined as at least one of the real or imaginary parts being a NaN. The net effect is that NaNs are ignored when possible.\n",
    "#### Notes: The fmin is equivalent to np.where(x1 <= x2, x1, x2) when neither x1 nor x2 are NaNs, but it is faster and does proper broadcasting."
   ]
  },
  {
   "cell_type": "code",
   "execution_count": 297,
   "id": "2f86e614",
   "metadata": {},
   "outputs": [
    {
     "data": {
      "text/plain": [
       "array([1, 3, 4])"
      ]
     },
     "execution_count": 297,
     "metadata": {},
     "output_type": "execute_result"
    }
   ],
   "source": [
    "np.fmin(\n",
    "    [2, 3, 4], [1, 4, 10]\n",
    ")"
   ]
  },
  {
   "cell_type": "markdown",
   "id": "18789d50",
   "metadata": {},
   "source": [
    "# fmod\n",
    "- Returns the element-wise remainder of division.\n",
    "- This is the NumPy implementation of the C library function fmod, the remainder has the same sign as the dividend x1. It is equivalent to the Matlab(TM) rem function and should not be confused with the Python modulus operator x1 % x2."
   ]
  },
  {
   "cell_type": "code",
   "execution_count": 298,
   "id": "e5f0f1f0",
   "metadata": {},
   "outputs": [
    {
     "data": {
      "text/plain": [
       "array([0, 1, 0, 1, 0])"
      ]
     },
     "execution_count": 298,
     "metadata": {},
     "output_type": "execute_result"
    }
   ],
   "source": [
    "np.fmod(\n",
    "    [2, 3, 4, 5, 6], 2\n",
    ")"
   ]
  },
  {
   "cell_type": "markdown",
   "id": "96cddf21",
   "metadata": {},
   "source": [
    "# format_float_positional\n",
    "- Format a floating-point scalar as a decimal string in positional notation."
   ]
  },
  {
   "cell_type": "code",
   "execution_count": 299,
   "id": "80608ef2",
   "metadata": {},
   "outputs": [
    {
     "name": "stdout",
     "output_type": "stream",
     "text": [
      "3.1415927\n",
      "3.14\n",
      "0.3\n",
      "0.3000488281\n"
     ]
    }
   ],
   "source": [
    "print(np.format_float_positional(np.float32(np.pi)))\n",
    "print(np.format_float_positional(np.float16(np.pi)))\n",
    "print(np.format_float_positional(np.float16(0.3)))\n",
    "print(np.format_float_positional(np.float16(0.3), unique=False, precision=10))"
   ]
  },
  {
   "cell_type": "markdown",
   "id": "0c2c1b91",
   "metadata": {},
   "source": [
    "# format_float_scientific\n",
    "- Format a floating-point scalar as a decimal string in scientific notation.\n",
    "\n",
    "- Provides control over rounding, trimming and padding. Uses and assumes IEEE unbiased rounding. Uses the “Dragon4” algorithm.\n",
    "- The Dragon4 algorithm, developed by Guy L. Steele Jr. and Jon L. White in 1990, is a classic and robust algorithm for accurately converting binary floating-point numbers into their shortest, unique decimal string representation."
   ]
  },
  {
   "cell_type": "code",
   "execution_count": 301,
   "id": "6115ea23",
   "metadata": {},
   "outputs": [
    {
     "name": "stdout",
     "output_type": "stream",
     "text": [
      "3.1415927e+00\n",
      "1.230000071797338e+24\n",
      "1.23e+0024\n"
     ]
    }
   ],
   "source": [
    "print(np.format_float_scientific(np.float32(np.pi)))\n",
    "s = np.float32(1.23e24)\n",
    "print(np.format_float_scientific(s, unique=False, precision=15))\n",
    "print(np.format_float_scientific(s, exp_digits=4))"
   ]
  },
  {
   "cell_type": "markdown",
   "id": "1a20bfee",
   "metadata": {},
   "source": [
    "# frexp\n",
    "- Decompose the elements of x into mantissa and twos exponent.\n",
    "- Returns (mantissa, exponent), where x = mantissa * 2**exponent. The mantissa lies in the open interval(-1, 1), while the twos exponent is a signed integer."
   ]
  },
  {
   "cell_type": "code",
   "execution_count": 302,
   "id": "2ab4b54c",
   "metadata": {},
   "outputs": [
    {
     "name": "stdout",
     "output_type": "stream",
     "text": [
      "[ 0.5   -0.75   0.625]\n",
      "[0 2 4]\n"
     ]
    }
   ],
   "source": [
    "mantissa, exponent = np.frexp(np.array([0.5, -3.0, 10.0]))\n",
    "print(mantissa)\n",
    "print(exponent)"
   ]
  },
  {
   "cell_type": "markdown",
   "id": "7eab2743",
   "metadata": {},
   "source": [
    "# from_dlpack\n",
    "- Create a NumPy array from an object implementing the __dlpack__ protocol. Generally, the returned NumPy array is a view of the input object. See [1] and [2] for more details.\n",
    "- Usage with torch"
   ]
  },
  {
   "cell_type": "code",
   "execution_count": 303,
   "id": "c1a60195",
   "metadata": {},
   "outputs": [
    {
     "data": {
      "text/plain": [
       "array([0, 1, 2, 3, 4, 5, 6, 7, 8, 9])"
      ]
     },
     "execution_count": 303,
     "metadata": {},
     "output_type": "execute_result"
    }
   ],
   "source": [
    "import torch  \n",
    "x = torch.arange(10)  \n",
    "# create a view of the torch tensor \"x\" in NumPy\n",
    "np.from_dlpack(x)  "
   ]
  },
  {
   "cell_type": "markdown",
   "id": "3b2e9484",
   "metadata": {},
   "source": [
    "# frombuffer\n",
    "- Interpret a buffer as a 1-dimensional array. Buffer is usually from binary memory."
   ]
  },
  {
   "cell_type": "code",
   "execution_count": 304,
   "id": "c5cb3a7d",
   "metadata": {},
   "outputs": [
    {
     "data": {
      "text/plain": [
       "array([b'w', b'o', b'r', b'l', b'd'], dtype='|S1')"
      ]
     },
     "execution_count": 304,
     "metadata": {},
     "output_type": "execute_result"
    }
   ],
   "source": [
    "s = b'hello world'\n",
    "np.frombuffer(s, dtype='S1', count=5, offset=6)"
   ]
  },
  {
   "cell_type": "markdown",
   "id": "0ba02b67",
   "metadata": {},
   "source": [
    "# fromfile\n",
    "- Construct an array from data in a text or binary file.\n",
    "- A highly efficient way of reading binary data with a known data-type, as well as parsing simply formatted text files. Data written using the tofile method can be read using this function."
   ]
  },
  {
   "cell_type": "code",
   "execution_count": 305,
   "id": "b33f2c93",
   "metadata": {},
   "outputs": [
    {
     "name": "stdout",
     "output_type": "stream",
     "text": [
      "[10 20 30 40]\n",
      "[1 2 3 4 5 6]\n"
     ]
    }
   ],
   "source": [
    "\n",
    "# Create a sample binary file\n",
    "data_to_write = np.array([10, 20, 30, 40], dtype=np.int32)\n",
    "data_to_write.tofile(\"my_binary_data.bin\")\n",
    "\n",
    "# Read data from the binary file\n",
    "read_data = np.fromfile(\"my_binary_data.bin\", dtype=np.int32)\n",
    "print(read_data)\n",
    "\n",
    "# Create a sample text file\n",
    "with open(\"my_text_data.txt\", \"w\") as f:\n",
    "    f.write(\"1 2 3\\n4 5 6\")\n",
    "\n",
    "# Read data from the text file\n",
    "text_data = np.fromfile(\"my_text_data.txt\", dtype=np.int32, sep=\" \")\n",
    "print(text_data)"
   ]
  },
  {
   "cell_type": "markdown",
   "id": "1087ae39",
   "metadata": {},
   "source": [
    "# fromfunction\n",
    "- Construct an array by executing a function over each coordinate.\n",
    "- The resulting array therefore has a value fn(x, y, z) at coordinate (x, y, z)."
   ]
  },
  {
   "cell_type": "code",
   "execution_count": 306,
   "id": "c5983613",
   "metadata": {},
   "outputs": [
    {
     "data": {
      "text/plain": [
       "array([[0., 0.],\n",
       "       [1., 1.]])"
      ]
     },
     "execution_count": 306,
     "metadata": {},
     "output_type": "execute_result"
    }
   ],
   "source": [
    "np.fromfunction(lambda i, j: i, (2, 2), dtype=float)"
   ]
  },
  {
   "cell_type": "markdown",
   "id": "9e7ff403",
   "metadata": {},
   "source": [
    "# fromiter\n",
    "- Create a new 1-dimensional array from an iterable object."
   ]
  },
  {
   "cell_type": "code",
   "execution_count": 308,
   "id": "48297341",
   "metadata": {},
   "outputs": [
    {
     "data": {
      "text/plain": [
       "array([ 0.,  1.,  4.,  9., 16.])"
      ]
     },
     "execution_count": 308,
     "metadata": {},
     "output_type": "execute_result"
    }
   ],
   "source": [
    "np.fromiter((x*x for x in range(5)), float)"
   ]
  },
  {
   "cell_type": "markdown",
   "id": "5a12c164",
   "metadata": {},
   "source": [
    "# frompyfunc\n",
    "- Takes an arbitrary Python function and returns a NumPy ufunc.\n",
    "- Can be used, for example, to add broadcasting to a built-in Python function (see Examples section)."
   ]
  },
  {
   "cell_type": "code",
   "execution_count": 311,
   "id": "e1ef817c",
   "metadata": {},
   "outputs": [
    {
     "data": {
      "text/plain": [
       "array(['0b1010', '0b11110', '0b1100100'], dtype=object)"
      ]
     },
     "execution_count": 311,
     "metadata": {},
     "output_type": "execute_result"
    }
   ],
   "source": [
    "np.frompyfunc(bin, 1, 1)(np.array((10, 30, 100)))"
   ]
  },
  {
   "cell_type": "markdown",
   "id": "715d3ba6",
   "metadata": {},
   "source": [
    "# fromregex\n",
    "- Construct an array from a text file, using regular expression parsing.\n",
    "- The returned array is always a structured array, and is constructed from all matches of the regular expression in the file. Groups in the regular expression are converted to fields of the structured array."
   ]
  },
  {
   "cell_type": "code",
   "execution_count": 314,
   "id": "77df4077",
   "metadata": {},
   "outputs": [
    {
     "name": "stdout",
     "output_type": "stream",
     "text": [
      "[(1312, b'foo') (1534, b'bar') ( 444, b'qux')]\n"
     ]
    },
    {
     "data": {
      "text/plain": [
       "array([1312, 1534,  444])"
      ]
     },
     "execution_count": 314,
     "metadata": {},
     "output_type": "execute_result"
    }
   ],
   "source": [
    "from io import StringIO\n",
    "text = StringIO(\"1312 foo\\n1534  bar\\n444   qux\")\n",
    "regexp = r\"(\\d+)\\s+(...)\"  # match [digits, whitespace, anything]\n",
    "output = np.fromregex(text, regexp,\n",
    "                      [('num', np.int64), ('key', 'S3')])\n",
    "print(output)\n",
    "output['num']"
   ]
  },
  {
   "cell_type": "markdown",
   "id": "75ca7be6",
   "metadata": {},
   "source": [
    "# full\n",
    "- Return a new array of given shape and type, filled with fill_value."
   ]
  },
  {
   "cell_type": "code",
   "execution_count": 315,
   "id": "7c969628",
   "metadata": {},
   "outputs": [
    {
     "data": {
      "text/plain": [
       "array([[55, 55],\n",
       "       [55, 55]])"
      ]
     },
     "execution_count": 315,
     "metadata": {},
     "output_type": "execute_result"
    }
   ],
   "source": [
    "np.full((2, 2), 55)"
   ]
  },
  {
   "cell_type": "markdown",
   "id": "5b4473ed",
   "metadata": {},
   "source": [
    "# full_like\n",
    "- Return a full array with the same shape and type as a given array."
   ]
  },
  {
   "cell_type": "code",
   "execution_count": 316,
   "id": "d8191feb",
   "metadata": {},
   "outputs": [
    {
     "data": {
      "text/plain": [
       "array([44, 44])"
      ]
     },
     "execution_count": 316,
     "metadata": {},
     "output_type": "execute_result"
    }
   ],
   "source": [
    "np.full_like(\n",
    "    np.array([2, 2]), 44\n",
    ")"
   ]
  },
  {
   "cell_type": "markdown",
   "id": "6ad3b1a6",
   "metadata": {},
   "source": [
    "# gcd\n",
    "- Returns the greatest common divisor of |x1| and |x2|"
   ]
  },
  {
   "cell_type": "code",
   "execution_count": 317,
   "id": "6ea21591",
   "metadata": {},
   "outputs": [
    {
     "name": "stdout",
     "output_type": "stream",
     "text": [
      "4\n",
      "[20  1  2  1  4  5]\n"
     ]
    }
   ],
   "source": [
    "print(np.gcd(12, 20))\n",
    "print(np.gcd(np.arange(6), 20))"
   ]
  },
  {
   "cell_type": "markdown",
   "id": "5d7aceec",
   "metadata": {},
   "source": [
    "# genfromtxt\n",
    "- Load data from a text file, with missing values handled as specified.\n",
    "\n",
    "- Each line past the first skip_header lines is split at the delimiter character, and characters following the comments character are discarded."
   ]
  },
  {
   "cell_type": "code",
   "execution_count": 318,
   "id": "f5c178d3",
   "metadata": {},
   "outputs": [
    {
     "data": {
      "text/plain": [
       "array((1, 1.3, b'abcde'),\n",
       "      dtype=[('myint', '<i8'), ('myfloat', '<f8'), ('mystring', 'S5')])"
      ]
     },
     "execution_count": 318,
     "metadata": {},
     "output_type": "execute_result"
    }
   ],
   "source": [
    "from io import StringIO\n",
    "s = StringIO(\"1,1.3,abcde\")\n",
    "data = np.genfromtxt(s, dtype=[('myint','i8'),('myfloat','f8'),\n",
    "('mystring','S5')], delimiter=\",\")\n",
    "data"
   ]
  },
  {
   "cell_type": "markdown",
   "id": "3f311ab1",
   "metadata": {},
   "source": [
    "# geomspace\n",
    "- Return numbers spaced evenly on a log scale (a geometric progression)."
   ]
  },
  {
   "cell_type": "code",
   "execution_count": 321,
   "id": "13afb012",
   "metadata": {},
   "outputs": [
    {
     "data": {
      "text/plain": [
       "array([[[  1.        ,   1.27427499,   1.62377674,   2.06913808,\n",
       "           2.6366509 ],\n",
       "        [  3.35981829,   4.2813324 ,   5.45559478,   6.95192796,\n",
       "           8.8586679 ]],\n",
       "\n",
       "       [[ 11.28837892,  14.38449888,  18.32980711,  23.35721469,\n",
       "          29.76351442],\n",
       "        [ 37.92690191,  48.32930239,  61.58482111,  78.47599704,\n",
       "         100.        ]]])"
      ]
     },
     "execution_count": 321,
     "metadata": {},
     "output_type": "execute_result"
    }
   ],
   "source": [
    "np.geomspace(1, 100, num=20).reshape(2, 2, 5)"
   ]
  },
  {
   "cell_type": "markdown",
   "id": "9109de58",
   "metadata": {},
   "source": [
    "# get_include\n",
    "- Return the directory that contains the NumPy *.h header files."
   ]
  },
  {
   "cell_type": "code",
   "execution_count": 322,
   "id": "a3f07e4c",
   "metadata": {},
   "outputs": [
    {
     "data": {
      "text/plain": [
       "'c:\\\\Users\\\\thotc\\\\AppData\\\\Local\\\\Programs\\\\Python\\\\Python313\\\\Lib\\\\site-packages\\\\numpy\\\\_core\\\\include'"
      ]
     },
     "execution_count": 322,
     "metadata": {},
     "output_type": "execute_result"
    }
   ],
   "source": [
    "np.get_include()"
   ]
  },
  {
   "cell_type": "markdown",
   "id": "25ebd588",
   "metadata": {},
   "source": [
    "# get_printoptions\n",
    "- Return the current print options."
   ]
  },
  {
   "cell_type": "code",
   "execution_count": 323,
   "id": "e190de1e",
   "metadata": {},
   "outputs": [
    {
     "data": {
      "text/plain": [
       "{'edgeitems': 3,\n",
       " 'threshold': 1000,\n",
       " 'floatmode': 'maxprec',\n",
       " 'precision': 8,\n",
       " 'suppress': False,\n",
       " 'linewidth': 75,\n",
       " 'nanstr': 'nan',\n",
       " 'infstr': 'inf',\n",
       " 'sign': '-',\n",
       " 'formatter': None,\n",
       " 'legacy': False,\n",
       " 'override_repr': None}"
      ]
     },
     "execution_count": 323,
     "metadata": {},
     "output_type": "execute_result"
    }
   ],
   "source": [
    "np.get_printoptions()"
   ]
  },
  {
   "cell_type": "markdown",
   "id": "7b529d38",
   "metadata": {},
   "source": [
    "# getbufsize\n",
    "- Return the size of the buffer used in ufuncs."
   ]
  },
  {
   "cell_type": "code",
   "execution_count": 324,
   "id": "5a3b5512",
   "metadata": {},
   "outputs": [
    {
     "data": {
      "text/plain": [
       "8192"
      ]
     },
     "execution_count": 324,
     "metadata": {},
     "output_type": "execute_result"
    }
   ],
   "source": [
    "np.getbufsize()"
   ]
  },
  {
   "cell_type": "markdown",
   "id": "c44a0145",
   "metadata": {},
   "source": [
    "# geterr\n",
    "- Get the current way of handling floating-point errors."
   ]
  },
  {
   "cell_type": "code",
   "execution_count": 325,
   "id": "3eb75474",
   "metadata": {},
   "outputs": [
    {
     "data": {
      "text/plain": [
       "{'divide': 'warn', 'over': 'warn', 'under': 'ignore', 'invalid': 'warn'}"
      ]
     },
     "execution_count": 325,
     "metadata": {},
     "output_type": "execute_result"
    }
   ],
   "source": [
    "np.geterr()"
   ]
  },
  {
   "cell_type": "markdown",
   "id": "df90cbfa",
   "metadata": {},
   "source": [
    "# geterrcall\n",
    "- Return the current callback function used on floating-point errors.\n",
    "- When the error handling for a floating-point error (one of “divide”, “over”, “under”, or “invalid”) is set to ‘call’ or ‘log’, the function that is called or the log instance that is written to is returned by geterrcall. This function or log instance has been set with seterrcall."
   ]
  },
  {
   "cell_type": "code",
   "execution_count": 328,
   "id": "999b1a3a",
   "metadata": {},
   "outputs": [
    {
     "name": "stdout",
     "output_type": "stream",
     "text": [
      "<function err_handler at 0x000002573983ECA0>\n",
      "Floating point error (divide by zero), with flag 1\n"
     ]
    },
    {
     "data": {
      "text/plain": [
       "True"
      ]
     },
     "execution_count": 328,
     "metadata": {},
     "output_type": "execute_result"
    }
   ],
   "source": [
    "print(np.geterrcall())\n",
    "\n",
    "orig_settings = np.seterr(all='call')\n",
    "def err_handler(type, flag):\n",
    "    print(\"Floating point error (%s), with flag %s\" % (type, flag))\n",
    "old_handler = np.seterrcall(err_handler)\n",
    "np.array([1, 2, 3]) / 0.0\n",
    "\n",
    "np.geterrcall() is err_handler"
   ]
  },
  {
   "cell_type": "markdown",
   "id": "e7d29f41",
   "metadata": {},
   "source": [
    "# gradient\n",
    "- Return the gradient of an N-dimensional array.\n",
    "\n",
    "- The gradient is computed using second order accurate central differences in the interior points and either first or second order accurate one-sides (forward or backwards) differences at the boundaries. The returned gradient hence has the same shape as the input array."
   ]
  },
  {
   "cell_type": "code",
   "execution_count": 329,
   "id": "ab465796",
   "metadata": {},
   "outputs": [
    {
     "name": "stdout",
     "output_type": "stream",
     "text": [
      "[1.  1.5 2.5 3.5 4.5 5. ]\n",
      "[0.5  0.75 1.25 1.75 2.25 2.5 ]\n"
     ]
    }
   ],
   "source": [
    "f = np.array([1, 2, 4, 7, 11, 16])\n",
    "print(np.gradient(f))\n",
    "print(np.gradient(f, 2))"
   ]
  },
  {
   "cell_type": "code",
   "execution_count": 333,
   "id": "66e77200",
   "metadata": {},
   "outputs": [
    {
     "data": {
      "text/plain": [
       "(array([[  8.,  17.,  90., 400.],\n",
       "        [  8.,  17.,  90., 400.]]),\n",
       " array([[  1. ,   4. ,  48.5,  90. ],\n",
       "        [ 10. ,  45. , 240. , 400. ]]))"
      ]
     },
     "execution_count": 333,
     "metadata": {},
     "output_type": "execute_result"
    }
   ],
   "source": [
    "np.gradient(\n",
    "    np.array([[\n",
    "        2, 3, 10, 100\n",
    "    ], [10, 20, 100, 500]])\n",
    ")"
   ]
  },
  {
   "cell_type": "markdown",
   "id": "c3fcb8f2",
   "metadata": {},
   "source": [
    "# greater\n",
    "- Return the truth value of (x1 > x2) element-wise."
   ]
  },
  {
   "cell_type": "code",
   "execution_count": 334,
   "id": "7792ec8b",
   "metadata": {},
   "outputs": [
    {
     "data": {
      "text/plain": [
       "array([False,  True, False,  True, False,  True])"
      ]
     },
     "execution_count": 334,
     "metadata": {},
     "output_type": "execute_result"
    }
   ],
   "source": [
    "np.greater(\n",
    "    np.array([10, 11, 5, 4, 20, 99]),\n",
    "    np.array([22, 1, 10, 2, 33, 55])\n",
    ")"
   ]
  },
  {
   "cell_type": "markdown",
   "id": "5fd47320",
   "metadata": {},
   "source": [
    "# greater_equal\n",
    "- Return the truth value of (x1 >= x2) element-wise."
   ]
  },
  {
   "cell_type": "code",
   "execution_count": 335,
   "id": "9ab2e6a1",
   "metadata": {},
   "outputs": [
    {
     "data": {
      "text/plain": [
       "array([ True,  True, False])"
      ]
     },
     "execution_count": 335,
     "metadata": {},
     "output_type": "execute_result"
    }
   ],
   "source": [
    "np.greater_equal([4, 2, 1], [2, 2, 2])"
   ]
  },
  {
   "cell_type": "markdown",
   "id": "61f99ef4",
   "metadata": {},
   "source": [
    "# hamming\n",
    "- Return the Hamming window.\n",
    "\n",
    "- The Hamming window is a taper formed by using a weighted cosine."
   ]
  },
  {
   "cell_type": "code",
   "execution_count": 336,
   "id": "d8f8d400",
   "metadata": {},
   "outputs": [
    {
     "data": {
      "text/plain": [
       "array([0.08      , 0.15302337, 0.34890909, 0.60546483, 0.84123594,\n",
       "       0.98136677, 0.98136677, 0.84123594, 0.60546483, 0.34890909,\n",
       "       0.15302337, 0.08      ])"
      ]
     },
     "execution_count": 336,
     "metadata": {},
     "output_type": "execute_result"
    }
   ],
   "source": [
    "np.hamming(12)"
   ]
  },
  {
   "cell_type": "markdown",
   "id": "27e31ad2",
   "metadata": {},
   "source": [
    "# hanning\n",
    "- Return the Hanning window.\n",
    "\n",
    "- The Hanning window is a taper formed by using a weighted cosine."
   ]
  },
  {
   "cell_type": "code",
   "execution_count": 337,
   "id": "077a4105",
   "metadata": {},
   "outputs": [
    {
     "data": {
      "text/plain": [
       "array([0.        , 0.07937323, 0.29229249, 0.57115742, 0.82743037,\n",
       "       0.97974649, 0.97974649, 0.82743037, 0.57115742, 0.29229249,\n",
       "       0.07937323, 0.        ])"
      ]
     },
     "execution_count": 337,
     "metadata": {},
     "output_type": "execute_result"
    }
   ],
   "source": [
    "np.hanning(12)"
   ]
  },
  {
   "cell_type": "markdown",
   "id": "0764d6c4",
   "metadata": {},
   "source": [
    "# heaviside\n",
    "- Compute the Heaviside step function."
   ]
  },
  {
   "cell_type": "code",
   "execution_count": 338,
   "id": "0929152f",
   "metadata": {},
   "outputs": [
    {
     "data": {
      "text/plain": [
       "array([0. , 0.5, 1. ])"
      ]
     },
     "execution_count": 338,
     "metadata": {},
     "output_type": "execute_result"
    }
   ],
   "source": [
    "np.heaviside([-1.5, 0.0, 2.0], 0.5)"
   ]
  },
  {
   "cell_type": "markdown",
   "id": "dde026b1",
   "metadata": {},
   "source": [
    "# histogram\n",
    "- Compute the histogram of a dataset."
   ]
  },
  {
   "cell_type": "code",
   "execution_count": 341,
   "id": "03db3cb1",
   "metadata": {},
   "outputs": [
    {
     "name": "stdout",
     "output_type": "stream",
     "text": [
      "(array([2, 3, 2]), array([0, 1, 2, 3]))\n",
      "(array([0.25, 0.25, 0.25, 0.25]), array([0, 1, 2, 3, 4]))\n"
     ]
    }
   ],
   "source": [
    "print(np.histogram([1, 2, 1, 1, 3, 4, 0, 0], bins=[0, 1, 2, 3]))\n",
    "print(np.histogram(np.arange(4), bins=np.arange(5), density=True))"
   ]
  },
  {
   "cell_type": "markdown",
   "id": "5c2b7fda",
   "metadata": {},
   "source": [
    "# histogram2d\n",
    "- Compute the bi-dimensional histogram of two data samples."
   ]
  },
  {
   "cell_type": "code",
   "execution_count": 342,
   "id": "25f07870",
   "metadata": {},
   "outputs": [
    {
     "name": "stdout",
     "output_type": "stream",
     "text": [
      "[[17. 43. 16.]\n",
      " [ 1.  7.  3.]\n",
      " [ 0.  1.  0.]\n",
      " [ 0.  0.  0.]]\n",
      "[0 1 3 5]\n",
      "[0 2 3 4 6]\n"
     ]
    }
   ],
   "source": [
    "xedges = [0, 1, 3, 5]\n",
    "yedges = [0, 2, 3, 4, 6]\n",
    "x = np.random.normal(2, 1, 100)\n",
    "y = np.random.normal(1, 1, 100)\n",
    "H, xedges, yedges = np.histogram2d(x, y, bins=(xedges, yedges))\n",
    "# Histogram does not follow Cartesian convention (see Notes),\n",
    "# therefore transpose H for visualization purposes.\n",
    "H = H.T\n",
    "print(H)\n",
    "print(xedges)\n",
    "print(yedges)"
   ]
  },
  {
   "cell_type": "markdown",
   "id": "96aa7299",
   "metadata": {},
   "source": [
    "# histogram_bin_edges\n",
    "- Function to calculate only the edges of the bins used by the histogram function."
   ]
  },
  {
   "cell_type": "code",
   "execution_count": 343,
   "id": "bc7c8ada",
   "metadata": {},
   "outputs": [
    {
     "name": "stdout",
     "output_type": "stream",
     "text": [
      "[0. 1.]\n",
      "[0.  2.5 5. ]\n"
     ]
    }
   ],
   "source": [
    "arr = np.array([0, 0, 0, 1, 2, 3, 3, 4, 5])\n",
    "print(np.histogram_bin_edges(arr, bins='auto', range=(0, 1)))\n",
    "print(np.histogram_bin_edges(arr, bins=2))"
   ]
  },
  {
   "cell_type": "markdown",
   "id": "3cd75cd7",
   "metadata": {},
   "source": [
    "# histogramdd\n",
    "- Compute the multidimensional histogram of some data."
   ]
  },
  {
   "cell_type": "code",
   "execution_count": 344,
   "id": "784f229a",
   "metadata": {},
   "outputs": [
    {
     "data": {
      "text/plain": [
       "((5, 8, 4), 6, 9, 5)"
      ]
     },
     "execution_count": 344,
     "metadata": {},
     "output_type": "execute_result"
    }
   ],
   "source": [
    "rng = np.random.default_rng()\n",
    "r = rng.normal(size=(100,3))\n",
    "H, edges = np.histogramdd(r, bins = (5, 8, 4))\n",
    "H.shape, edges[0].size, edges[1].size, edges[2].size"
   ]
  },
  {
   "cell_type": "markdown",
   "id": "856f427e",
   "metadata": {},
   "source": [
    "# hsplit\n",
    "- Split an array into multiple sub-arrays horizontally (column-wise)."
   ]
  },
  {
   "cell_type": "code",
   "execution_count": 347,
   "id": "9fca4cdc",
   "metadata": {},
   "outputs": [
    {
     "name": "stdout",
     "output_type": "stream",
     "text": [
      "[array([[0],\n",
      "       [2]]), array([[1],\n",
      "       [3]])]\n",
      "[array([1, 2, 3]), array([4, 5, 6])]\n"
     ]
    }
   ],
   "source": [
    "print(np.hsplit(\n",
    "    np.arange(4).reshape(2, 2), 2\n",
    "))\n",
    "print(\n",
    "    np.hsplit(\n",
    "        np.array([1, 2, 3, 4, 5, 6]), 2\n",
    "    )\n",
    ")"
   ]
  },
  {
   "cell_type": "markdown",
   "id": "1d57ca0f",
   "metadata": {},
   "source": [
    "# hstack\n",
    "- Stack arrays in sequence horizontally (column wise).\n",
    "- This is equivalent to concatenation along the second axis, except for 1-D arrays where it concatenates along the first axis. Rebuilds arrays divided by hsplit.\n",
    "- This function makes most sense for arrays with up to 3 dimensions. For instance, for pixel-data with a height (first axis), width (second axis), and r/g/b channels (third axis). The functions concatenate, stack and block provide more general stacking and concatenation operations."
   ]
  },
  {
   "cell_type": "code",
   "execution_count": 348,
   "id": "37e98f08",
   "metadata": {},
   "outputs": [
    {
     "data": {
      "text/plain": [
       "array([1, 2, 3, 4, 5, 6])"
      ]
     },
     "execution_count": 348,
     "metadata": {},
     "output_type": "execute_result"
    }
   ],
   "source": [
    "a = np.array((1,2,3))\n",
    "b = np.array((4,5,6))\n",
    "np.hstack((a,b))"
   ]
  },
  {
   "cell_type": "markdown",
   "id": "c6c316db",
   "metadata": {},
   "source": [
    "# hypot\n",
    "- Given the “legs” of a right triangle, return its hypotenuse."
   ]
  },
  {
   "cell_type": "code",
   "execution_count": 349,
   "id": "4a6a7176",
   "metadata": {},
   "outputs": [
    {
     "data": {
      "text/plain": [
       "np.float64(5.0)"
      ]
     },
     "execution_count": 349,
     "metadata": {},
     "output_type": "execute_result"
    }
   ],
   "source": [
    "np.hypot(3, 4)"
   ]
  },
  {
   "cell_type": "markdown",
   "id": "f9abb376",
   "metadata": {},
   "source": [
    "# i0\n",
    "- Modified Bessel function of the first kind, order 0."
   ]
  },
  {
   "cell_type": "code",
   "execution_count": 350,
   "id": "6a47f268",
   "metadata": {},
   "outputs": [
    {
     "data": {
      "text/plain": [
       "array([1.        , 1.26606588, 2.2795853 , 4.88079259])"
      ]
     },
     "execution_count": 350,
     "metadata": {},
     "output_type": "execute_result"
    }
   ],
   "source": [
    "np.i0([0, 1, 2, 3])"
   ]
  },
  {
   "cell_type": "markdown",
   "id": "47f96a09",
   "metadata": {},
   "source": [
    "# identity\n",
    "- Return the identity array.\n",
    "- The identity array is a square array with ones on the main diagonal."
   ]
  },
  {
   "cell_type": "code",
   "execution_count": 352,
   "id": "a024f828",
   "metadata": {},
   "outputs": [
    {
     "data": {
      "text/plain": [
       "array([[1., 0., 0., 0.],\n",
       "       [0., 1., 0., 0.],\n",
       "       [0., 0., 1., 0.],\n",
       "       [0., 0., 0., 1.]])"
      ]
     },
     "execution_count": 352,
     "metadata": {},
     "output_type": "execute_result"
    }
   ],
   "source": [
    "np.identity(4)"
   ]
  },
  {
   "cell_type": "markdown",
   "id": "448a95d8",
   "metadata": {},
   "source": [
    "# iinfo\n",
    "- Machine limits for integer types."
   ]
  },
  {
   "cell_type": "code",
   "execution_count": 356,
   "id": "6c2162f3",
   "metadata": {},
   "outputs": [
    {
     "data": {
      "text/plain": [
       "iinfo(min=-32768, max=32767, dtype=int16)"
      ]
     },
     "execution_count": 356,
     "metadata": {},
     "output_type": "execute_result"
    }
   ],
   "source": [
    "np.iinfo(np.int16)"
   ]
  },
  {
   "cell_type": "markdown",
   "id": "86d99777",
   "metadata": {},
   "source": [
    "# imag\n",
    "- Return the imaginary part of the complex argument."
   ]
  },
  {
   "cell_type": "code",
   "execution_count": 361,
   "id": "1477ee37",
   "metadata": {},
   "outputs": [
    {
     "name": "stdout",
     "output_type": "stream",
     "text": [
      "[2. 4. 6.]\n",
      "4.0\n",
      "10.0\n"
     ]
    }
   ],
   "source": [
    "a = np.array([1+2j, 3+4j, 5+6j])\n",
    "print(a.imag)\n",
    "print(np.imag(1 + 4j))\n",
    "print(np.real(10 + 9j))"
   ]
  },
  {
   "cell_type": "markdown",
   "id": "d33bc2e2",
   "metadata": {},
   "source": [
    "# index_exp\n",
    "- A nicer way to build up index tuples for arrays.\n",
    "- For any index combination, including slicing and axis insertion, a[indices] is the same as a[np.index_exp[indices]] for any array a. However, np.index_exp[indices] can be used anywhere in Python code and returns a tuple of slice objects that can be used in the construction of complex index expressions."
   ]
  },
  {
   "cell_type": "code",
   "execution_count": 364,
   "id": "02b65f21",
   "metadata": {},
   "outputs": [
    {
     "data": {
      "text/plain": [
       "(slice(2, None, 2),)"
      ]
     },
     "execution_count": 364,
     "metadata": {},
     "output_type": "execute_result"
    }
   ],
   "source": [
    "np.index_exp[2:2]"
   ]
  },
  {
   "cell_type": "markdown",
   "id": "b9c486c7",
   "metadata": {},
   "source": [
    "# indices\n",
    "- Return an array representing the indices of a grid.\n",
    "- Compute an array where the subarrays contain index values 0, 1, … varying only along the corresponding axis."
   ]
  },
  {
   "cell_type": "code",
   "execution_count": 365,
   "id": "2127927b",
   "metadata": {},
   "outputs": [
    {
     "data": {
      "text/plain": [
       "array([[[0, 0],\n",
       "        [1, 1]],\n",
       "\n",
       "       [[0, 1],\n",
       "        [0, 1]]])"
      ]
     },
     "execution_count": 365,
     "metadata": {},
     "output_type": "execute_result"
    }
   ],
   "source": [
    "np.indices((2, 2))"
   ]
  },
  {
   "cell_type": "markdown",
   "id": "5e4bab21",
   "metadata": {},
   "source": [
    "# info\n",
    "- Get help information for an array, function, class, or module."
   ]
  },
  {
   "cell_type": "code",
   "execution_count": 366,
   "id": "7f664f36",
   "metadata": {},
   "outputs": [
    {
     "name": "stdout",
     "output_type": "stream",
     "text": [
      " identity(n, dtype=None, *, like=None)\n",
      "\n",
      "Return the identity array.\n",
      "\n",
      "The identity array is a square array with ones on\n",
      "the main diagonal.\n",
      "\n",
      "Parameters\n",
      "----------\n",
      "n : int\n",
      "    Number of rows (and columns) in `n` x `n` output.\n",
      "dtype : data-type, optional\n",
      "    Data-type of the output.  Defaults to ``float``.\n",
      "like : array_like, optional\n",
      "        Reference object to allow the creation of arrays which are not\n",
      "        NumPy arrays. If an array-like passed in as ``like`` supports\n",
      "        the ``__array_function__`` protocol, the result will be defined\n",
      "        by it. In this case, it ensures the creation of an array object\n",
      "        compatible with that passed in via this argument.\n",
      "\n",
      "    .. versionadded:: 1.20.0\n",
      "\n",
      "Returns\n",
      "-------\n",
      "out : ndarray\n",
      "    `n` x `n` array with its main diagonal set to one,\n",
      "    and all other elements 0.\n",
      "\n",
      "Examples\n",
      "--------\n",
      ">>> import numpy as np\n",
      ">>> np.identity(3)\n",
      "array([[1.,  0.,  0.],\n",
      "       [0.,  1.,  0.],\n",
      "       [0.,  0.,  1.]])\n"
     ]
    }
   ],
   "source": [
    "np.info(np.identity)"
   ]
  },
  {
   "cell_type": "markdown",
   "id": "f143bf62",
   "metadata": {},
   "source": [
    "# inner\n",
    "- Inner product of two arrays.\n",
    "- Ordinary inner product of vectors for 1-D arrays (without complex conjugation), in higher dimensions a sum product over the last axes."
   ]
  },
  {
   "cell_type": "code",
   "execution_count": 369,
   "id": "fd4c7aa3",
   "metadata": {},
   "outputs": [
    {
     "data": {
      "text/plain": [
       "array([[8, 7],\n",
       "       [7, 8]])"
      ]
     },
     "execution_count": 369,
     "metadata": {},
     "output_type": "execute_result"
    }
   ],
   "source": [
    "np.inner(\n",
    "    np.array([[1, 2], [2, 1]]),\n",
    "    np.array([[2, 3], [3, 2]])\n",
    ")"
   ]
  },
  {
   "cell_type": "markdown",
   "id": "69eb0a6c",
   "metadata": {},
   "source": [
    "# insert\n",
    "- Insert values along the given axis before the given indices."
   ]
  },
  {
   "cell_type": "code",
   "execution_count": 372,
   "id": "aeefb622",
   "metadata": {},
   "outputs": [
    {
     "data": {
      "text/plain": [
       "array([[0, 6, 1],\n",
       "       [2, 6, 3],\n",
       "       [4, 6, 5]])"
      ]
     },
     "execution_count": 372,
     "metadata": {},
     "output_type": "execute_result"
    }
   ],
   "source": [
    "a = np.arange(6).reshape(3, 2)\n",
    "np.insert(a, 1, 6, axis=1)"
   ]
  },
  {
   "cell_type": "markdown",
   "id": "ab02fc5b",
   "metadata": {},
   "source": [
    "# interp\n",
    "- One-dimensional linear interpolation for monotonically increasing sample points.\n",
    "- Returns the one-dimensional piecewise linear interpolant to a function with given discrete data points (xp, fp), evaluated at x."
   ]
  },
  {
   "cell_type": "code",
   "execution_count": 373,
   "id": "95dbea2e",
   "metadata": {},
   "outputs": [
    {
     "data": {
      "text/plain": [
       "np.float64(1.0)"
      ]
     },
     "execution_count": 373,
     "metadata": {},
     "output_type": "execute_result"
    }
   ],
   "source": [
    "np.interp(2.5,\n",
    "    np.array([1, 2, 3]),\n",
    "    np.array([3, 2, 0])\n",
    ")"
   ]
  },
  {
   "cell_type": "markdown",
   "id": "67ca233a",
   "metadata": {},
   "source": [
    "# intersect1d\n",
    "- Find the intersection of two arrays.\n",
    "- Return the sorted, unique values that are in both of the input arrays."
   ]
  },
  {
   "cell_type": "code",
   "execution_count": 374,
   "id": "a7df6b31",
   "metadata": {},
   "outputs": [
    {
     "data": {
      "text/plain": [
       "array([1, 3])"
      ]
     },
     "execution_count": 374,
     "metadata": {},
     "output_type": "execute_result"
    }
   ],
   "source": [
    "np.intersect1d([1, 3, 4, 3], [3, 1, 2, 1])"
   ]
  },
  {
   "cell_type": "markdown",
   "id": "12b5f947",
   "metadata": {},
   "source": [
    "# invert\n",
    "- Compute bit-wise inversion, or bit-wise NOT, element-wise.\n",
    "- Computes the bit-wise NOT of the underlying binary representation of the integers in the input arrays. This ufunc implements the C/Python operator ~."
   ]
  },
  {
   "cell_type": "code",
   "execution_count": 375,
   "id": "09e1cacf",
   "metadata": {},
   "outputs": [
    {
     "data": {
      "text/plain": [
       "True"
      ]
     },
     "execution_count": 375,
     "metadata": {},
     "output_type": "execute_result"
    }
   ],
   "source": [
    "np.bitwise_not is np.invert"
   ]
  },
  {
   "cell_type": "markdown",
   "id": "8ca82717",
   "metadata": {},
   "source": [
    "# is_busday\n",
    "- Calculates which of the given dates are valid days, and which are not."
   ]
  },
  {
   "cell_type": "code",
   "execution_count": 378,
   "id": "d5dad736",
   "metadata": {},
   "outputs": [
    {
     "name": "stdout",
     "output_type": "stream",
     "text": [
      "True\n",
      "[ True  True False False  True]\n"
     ]
    }
   ],
   "source": [
    "print(np.is_busday(\"2025-10-09\"))\n",
    "print(np.is_busday([\"2025-10-09\", \"2025-10-10\", \"2025-10-11\", \"2025-10-12\", \"2025-10-13\"]))"
   ]
  },
  {
   "cell_type": "markdown",
   "id": "75da291c",
   "metadata": {},
   "source": [
    "# isclose\n",
    "- Returns a boolean array where two arrays are element-wise equal within a tolerance.\n",
    "\n",
    "- The tolerance values are positive, typically very small numbers. The relative difference (rtol * abs(b)) and the absolute difference atol are added together to compare against the absolute difference between a and b."
   ]
  },
  {
   "cell_type": "code",
   "execution_count": 379,
   "id": "84da5aa8",
   "metadata": {},
   "outputs": [
    {
     "name": "stdout",
     "output_type": "stream",
     "text": [
      "[ True False]\n",
      "[ True  True]\n",
      "[False  True]\n",
      "[ True False]\n",
      "[ True  True]\n",
      "[ True False]\n",
      "[False False]\n",
      "[ True  True]\n",
      "[False  True]\n"
     ]
    }
   ],
   "source": [
    "print(np.isclose([1e10,1e-7], [1.00001e10,1e-8]))\n",
    "print(np.isclose([1e10,1e-8], [1.00001e10,1e-9]))\n",
    "print(np.isclose([1e10,1e-8], [1.0001e10,1e-9]))\n",
    "print(np.isclose([1.0, np.nan], [1.0, np.nan]))\n",
    "print(np.isclose([1.0, np.nan], [1.0, np.nan], equal_nan=True))\n",
    "print(np.isclose([1e-8, 1e-7], [0.0, 0.0]))\n",
    "print(np.isclose([1e-100, 1e-7], [0.0, 0.0], atol=0.0))\n",
    "print(np.isclose([1e-10, 1e-10], [1e-20, 0.0]))\n",
    "print(np.isclose([1e-10, 1e-10], [1e-20, 0.999999e-10], atol=0.0))"
   ]
  },
  {
   "cell_type": "markdown",
   "id": "8eb18a13",
   "metadata": {},
   "source": [
    "# iscomplex\n",
    "- Returns a bool array, where True if input element is complex.\n",
    "- What is tested is whether the input has a non-zero imaginary part, not if the input type is complex."
   ]
  },
  {
   "cell_type": "code",
   "execution_count": 380,
   "id": "aa568a28",
   "metadata": {},
   "outputs": [
    {
     "data": {
      "text/plain": [
       "array([ True, False, False, False, False,  True])"
      ]
     },
     "execution_count": 380,
     "metadata": {},
     "output_type": "execute_result"
    }
   ],
   "source": [
    "np.iscomplex([1+1j, 1+0j, 4.5, 3, 2, 2j])"
   ]
  },
  {
   "cell_type": "markdown",
   "id": "ef02b0ae",
   "metadata": {},
   "source": [
    "# iscomplexobj\n",
    "- Check for a complex type or an array of complex numbers.\n",
    "- The type of the input is checked, not the value. Even if the input has an imaginary part equal to zero, iscomplexobj evaluates to True."
   ]
  },
  {
   "cell_type": "code",
   "execution_count": 381,
   "id": "ec5e88ab",
   "metadata": {},
   "outputs": [
    {
     "name": "stdout",
     "output_type": "stream",
     "text": [
      "False\n",
      "True\n",
      "True\n"
     ]
    }
   ],
   "source": [
    "print(np.iscomplexobj(1))\n",
    "print(np.iscomplexobj(1+0j))\n",
    "print(np.iscomplexobj([3, 1+0j, True]))"
   ]
  },
  {
   "cell_type": "markdown",
   "id": "f0063040",
   "metadata": {},
   "source": [
    "# isdtype\n",
    "- Determine if a provided dtype is of a specified data type kind.\n",
    "- This function only supports built-in NumPy’s data types. Third-party dtypes are not yet supported."
   ]
  },
  {
   "cell_type": "code",
   "execution_count": 382,
   "id": "cfe33194",
   "metadata": {},
   "outputs": [
    {
     "name": "stdout",
     "output_type": "stream",
     "text": [
      "False\n",
      "True\n",
      "True\n"
     ]
    }
   ],
   "source": [
    "print(np.isdtype(np.float32, np.float64))\n",
    "print(np.isdtype(np.float32, \"real floating\"))\n",
    "print(np.isdtype(np.complex128, (\"real floating\", \"complex floating\")))"
   ]
  },
  {
   "cell_type": "markdown",
   "id": "d6abed63",
   "metadata": {},
   "source": [
    "# isfinite\n",
    "- Test element-wise for finiteness (not infinity and not Not a Number).\n",
    "- The result is returned as a boolean array"
   ]
  },
  {
   "cell_type": "code",
   "execution_count": 384,
   "id": "e2c4b621",
   "metadata": {},
   "outputs": [
    {
     "name": "stdout",
     "output_type": "stream",
     "text": [
      "True\n",
      "True\n",
      "False\n",
      "False\n",
      "False\n",
      "Floating point error (invalid value), with flag 8\n",
      "Floating point error (divide by zero), with flag 1\n",
      "[False  True False]\n",
      "[0 1 0]\n"
     ]
    }
   ],
   "source": [
    "print(np.isfinite(1))\n",
    "print(np.isfinite(0))\n",
    "print(np.isfinite(np.nan))\n",
    "print(np.isfinite(np.inf))\n",
    "print(np.isfinite(-np.inf))\n",
    "print(np.isfinite([np.log(-1.),1.,np.log(0)]))\n",
    "x = np.array([-np.inf, 0., np.inf])\n",
    "y = np.array([2, 2, 2])\n",
    "print(np.isfinite(x, y))\n"
   ]
  },
  {
   "cell_type": "markdown",
   "id": "0082a92e",
   "metadata": {},
   "source": [
    "# isfortran\n",
    "- Check if the array is Fortran contiguous but not C contiguous.\n",
    "- "
   ]
  },
  {
   "cell_type": "code",
   "execution_count": 385,
   "id": "fbf9c4ab",
   "metadata": {},
   "outputs": [
    {
     "data": {
      "text/plain": [
       "False"
      ]
     },
     "execution_count": 385,
     "metadata": {},
     "output_type": "execute_result"
    }
   ],
   "source": [
    "np.isfortran(\n",
    "    np.array([1, 2])\n",
    ")"
   ]
  },
  {
   "cell_type": "markdown",
   "id": "be362bc8",
   "metadata": {},
   "source": [
    "# isin\n",
    "- Calculates element in test_elements, broadcasting over element only. Returns a boolean array of the same shape as element that is True where an element of element is in test_elements and False otherwise."
   ]
  },
  {
   "cell_type": "code",
   "execution_count": 386,
   "id": "a530bd88",
   "metadata": {},
   "outputs": [
    {
     "data": {
      "text/plain": [
       "array([[False,  True],\n",
       "       [ True, False]])"
      ]
     },
     "execution_count": 386,
     "metadata": {},
     "output_type": "execute_result"
    }
   ],
   "source": [
    "np.isin(\n",
    "    2*np.arange(4).reshape((2, 2)),\n",
    "    [1, 2, 4, 8]\n",
    ")"
   ]
  },
  {
   "cell_type": "markdown",
   "id": "2604e7f8",
   "metadata": {},
   "source": [
    "# isinf\n",
    "- Test element-wise for positive or negative infinity.\n",
    "- Returns a boolean array of the same shape as x, True where x == +/-inf, otherwise False."
   ]
  },
  {
   "cell_type": "code",
   "execution_count": 387,
   "id": "92c16a51",
   "metadata": {},
   "outputs": [
    {
     "name": "stdout",
     "output_type": "stream",
     "text": [
      "True\n",
      "False\n",
      "True\n",
      "[ True  True False False]\n",
      "[1 0 1]\n"
     ]
    }
   ],
   "source": [
    "print(np.isinf(np.inf))\n",
    "print(np.isinf(np.nan))\n",
    "print(np.isinf(-np.inf))\n",
    "print(np.isinf([np.inf, -np.inf, 1.0, np.nan]))\n",
    "x = np.array([-np.inf, 0., np.inf])\n",
    "y = np.array([2, 2, 2])\n",
    "print(np.isinf(x, y))\n"
   ]
  },
  {
   "cell_type": "markdown",
   "id": "dd78e2d4",
   "metadata": {},
   "source": [
    "# isnan\n",
    "- Test element-wise for NaN and return result as a boolean array."
   ]
  },
  {
   "cell_type": "code",
   "execution_count": 388,
   "id": "280da6ca",
   "metadata": {},
   "outputs": [
    {
     "name": "stdout",
     "output_type": "stream",
     "text": [
      "True\n",
      "False\n",
      "Floating point error (invalid value), with flag 8\n",
      "Floating point error (divide by zero), with flag 1\n",
      "[ True False False]\n"
     ]
    }
   ],
   "source": [
    "print(np.isnan(np.nan))\n",
    "print(np.isnan(np.inf))\n",
    "print(np.isnan([np.log(-1.),1.,np.log(0)]))"
   ]
  },
  {
   "cell_type": "markdown",
   "id": "407fb836",
   "metadata": {},
   "source": [
    "# isnat\n",
    "- Test element-wise for NaT (not a time) and return result as a boolean array."
   ]
  },
  {
   "cell_type": "code",
   "execution_count": 389,
   "id": "51deb0ab",
   "metadata": {},
   "outputs": [
    {
     "name": "stdout",
     "output_type": "stream",
     "text": [
      "True\n",
      "False\n",
      "[ True False]\n"
     ]
    }
   ],
   "source": [
    "print(np.isnat(np.datetime64(\"NaT\")))\n",
    "print(np.isnat(np.datetime64(\"2016-01-01\")))\n",
    "print(np.isnat(np.array([\"NaT\", \"2016-01-01\"], dtype=\"datetime64[ns]\")))"
   ]
  },
  {
   "cell_type": "markdown",
   "id": "14ce68a7",
   "metadata": {},
   "source": [
    "# isneginf\n",
    "- Test element-wise for negative infinity, return result as bool array."
   ]
  },
  {
   "cell_type": "code",
   "execution_count": 390,
   "id": "6ad0c846",
   "metadata": {},
   "outputs": [
    {
     "name": "stdout",
     "output_type": "stream",
     "text": [
      "True\n",
      "False\n",
      "[ True False False]\n",
      "[1 0 0]\n"
     ]
    }
   ],
   "source": [
    "print(np.isneginf(-np.inf))\n",
    "print(np.isneginf(np.inf))\n",
    "print(np.isneginf([-np.inf, 0., np.inf]))\n",
    "x = np.array([-np.inf, 0., np.inf])\n",
    "y = np.array([2, 2, 2])\n",
    "print(np.isneginf(x, y))"
   ]
  },
  {
   "cell_type": "markdown",
   "id": "caa8e4b3",
   "metadata": {},
   "source": [
    "# isposinf\n",
    "- Test element-wise for positive infinity, return result as bool array."
   ]
  },
  {
   "cell_type": "code",
   "execution_count": 391,
   "id": "4ef2a06e",
   "metadata": {},
   "outputs": [
    {
     "name": "stdout",
     "output_type": "stream",
     "text": [
      "False\n",
      "True\n",
      "[False False  True]\n",
      "[0 0 1]\n"
     ]
    }
   ],
   "source": [
    "print(np.isposinf(-np.inf))\n",
    "print(np.isposinf(np.inf))\n",
    "print(np.isposinf([-np.inf, 0., np.inf]))\n",
    "x = np.array([-np.inf, 0., np.inf])\n",
    "y = np.array([2, 2, 2])\n",
    "print(np.isposinf(x, y))"
   ]
  },
  {
   "cell_type": "markdown",
   "id": "bf0087af",
   "metadata": {},
   "source": [
    "# isreal\n",
    "- Returns a bool array, where True if input element is real.\n",
    "- If element has complex type with zero imaginary part, the return value for that element is True."
   ]
  },
  {
   "cell_type": "code",
   "execution_count": 393,
   "id": "1ad82142",
   "metadata": {},
   "outputs": [
    {
     "name": "stdout",
     "output_type": "stream",
     "text": [
      "True\n",
      "True\n",
      "[ True  True  True]\n",
      "[ True  True  True]\n"
     ]
    }
   ],
   "source": [
    "print(np.isreal(-np.inf))\n",
    "print(np.isreal(np.inf))\n",
    "print(np.isreal([-np.inf, 0., np.inf]))\n",
    "x = np.array([-np.inf, 0., np.inf])\n",
    "y = np.array([2, 2, 2])\n",
    "print(np.isreal(x))"
   ]
  },
  {
   "cell_type": "markdown",
   "id": "080e2131",
   "metadata": {},
   "source": [
    "# isrealobj\n",
    "- Return True if x is a not complex type or an array of complex numbers.\n",
    "- The type of the input is checked, not the value. So even if the input has an imaginary part equal to zero, isrealobj evaluates to False if the data type is complex."
   ]
  },
  {
   "cell_type": "code",
   "execution_count": 394,
   "id": "621a6826",
   "metadata": {},
   "outputs": [
    {
     "name": "stdout",
     "output_type": "stream",
     "text": [
      "True\n",
      "True\n",
      "True\n",
      "True\n"
     ]
    }
   ],
   "source": [
    "print(np.isrealobj(-np.inf))\n",
    "print(np.isrealobj(np.inf))\n",
    "print(np.isrealobj([-np.inf, 0., np.inf]))\n",
    "x = np.array([-np.inf, 0., np.inf])\n",
    "y = np.array([2, 2, 2])\n",
    "print(np.isrealobj(x))"
   ]
  },
  {
   "cell_type": "markdown",
   "id": "b8cd4f4f",
   "metadata": {},
   "source": [
    "# isscalar\n",
    "- Returns True if the type of element is a scalar type."
   ]
  },
  {
   "cell_type": "code",
   "execution_count": 395,
   "id": "6f1d30a0",
   "metadata": {},
   "outputs": [
    {
     "name": "stdout",
     "output_type": "stream",
     "text": [
      "True\n",
      "False\n",
      "False\n",
      "True\n",
      "True\n"
     ]
    }
   ],
   "source": [
    "print(np.isscalar(3.1))\n",
    "print(np.isscalar(np.array(3.1)))\n",
    "print(np.isscalar([3.1]))\n",
    "print(np.isscalar(False))\n",
    "print(np.isscalar('numpy'))"
   ]
  },
  {
   "cell_type": "markdown",
   "id": "3856d39c",
   "metadata": {},
   "source": [
    "# issubdtype\n",
    "- Returns True if first argument is a typecode lower/equal in type hierarchy."
   ]
  },
  {
   "cell_type": "code",
   "execution_count": 397,
   "id": "ac2830a7",
   "metadata": {},
   "outputs": [
    {
     "name": "stdout",
     "output_type": "stream",
     "text": [
      "True\n",
      "False\n",
      "False\n",
      "True\n",
      "False\n",
      "False\n",
      "True\n",
      "True\n",
      "True\n",
      "True\n"
     ]
    }
   ],
   "source": [
    "ints = np.array([1, 2, 3], dtype=np.int32)\n",
    "print(np.issubdtype(ints.dtype, np.integer))\n",
    "print(np.issubdtype(ints.dtype, np.floating))\n",
    "floats = np.array([1, 2, 3], dtype=np.float32)\n",
    "print(np.issubdtype(floats.dtype, np.integer))\n",
    "print(np.issubdtype(floats.dtype, np.floating))\n",
    "print(np.issubdtype(np.float64, np.float32))\n",
    "print(np.issubdtype(np.float32, np.float64))\n",
    "print(np.issubdtype(np.float64, np.floating))\n",
    "print(np.issubdtype(np.float32, np.floating))\n",
    "print(np.issubdtype('S1', np.bytes_))\n",
    "print(np.issubdtype('i4', np.signedinteger))"
   ]
  },
  {
   "cell_type": "markdown",
   "id": "844a0bbf",
   "metadata": {},
   "source": [
    "# iterable\n",
    "- Check whether or not an object can be iterated over."
   ]
  },
  {
   "cell_type": "code",
   "execution_count": 398,
   "id": "4664f2e1",
   "metadata": {},
   "outputs": [
    {
     "name": "stdout",
     "output_type": "stream",
     "text": [
      "True\n",
      "False\n",
      "True\n",
      "False\n"
     ]
    }
   ],
   "source": [
    "from collections.abc import Iterable\n",
    "a = np.array(1.0)  # 0-dimensional numpy array\n",
    "print(isinstance(a, Iterable))\n",
    "print(np.iterable(a))\n",
    "print(np.iterable([1, 2, 3]))\n",
    "print(np.iterable(2))"
   ]
  },
  {
   "cell_type": "markdown",
   "id": "f455ab74",
   "metadata": {},
   "source": [
    "# ix_\n",
    "- Construct an open mesh from multiple sequences.\n",
    "- This function takes N 1-D sequences and returns N outputs with N dimensions each, such that the shape is 1 in all but one dimension and the dimension with the non-unit shape value cycles through all N dimensions.\n",
    "- Using ix_ one can quickly construct index arrays that will index the cross product. a[np.ix_([1,3],[2,5])] returns the array [[a[1,2] a[1,5]], [a[3,2] a[3,5]]]."
   ]
  },
  {
   "cell_type": "code",
   "execution_count": 399,
   "id": "31b0ed19",
   "metadata": {},
   "outputs": [
    {
     "name": "stdout",
     "output_type": "stream",
     "text": [
      "[[0 1 2 3 4]\n",
      " [5 6 7 8 9]]\n",
      "(array([[0],\n",
      "       [1]]), array([[2, 4]]))\n",
      "[[2 4]\n",
      " [7 9]]\n"
     ]
    }
   ],
   "source": [
    "a = np.arange(10).reshape(2, 5)\n",
    "print(a)\n",
    "ixgrid = np.ix_([0, 1], [2, 4])\n",
    "print(ixgrid)\n",
    "ixgrid[0].shape, ixgrid[1].shape\n",
    "print(a[ixgrid])"
   ]
  },
  {
   "cell_type": "markdown",
   "id": "922efc8d",
   "metadata": {},
   "source": [
    "# kaiser\n",
    "- Return the Kaiser window.\n",
    "- The Kaiser window is a taper formed by using a Bessel function."
   ]
  },
  {
   "cell_type": "code",
   "execution_count": 400,
   "id": "f4579635",
   "metadata": {},
   "outputs": [
    {
     "data": {
      "text/plain": [
       "array([7.72686684e-06, 3.46009194e-03, 4.65200189e-02, 2.29737120e-01,\n",
       "       5.99885316e-01, 9.45674898e-01, 9.45674898e-01, 5.99885316e-01,\n",
       "       2.29737120e-01, 4.65200189e-02, 3.46009194e-03, 7.72686684e-06])"
      ]
     },
     "execution_count": 400,
     "metadata": {},
     "output_type": "execute_result"
    }
   ],
   "source": [
    "np.kaiser(12, 14)"
   ]
  },
  {
   "cell_type": "markdown",
   "id": "fb2c60ba",
   "metadata": {},
   "source": [
    "# kron\n",
    "- Kronecker product of two arrays.\n",
    "- Computes the Kronecker product, a composite array made of blocks of the second array scaled by the first."
   ]
  },
  {
   "cell_type": "code",
   "execution_count": 401,
   "id": "500a8741",
   "metadata": {},
   "outputs": [
    {
     "name": "stdout",
     "output_type": "stream",
     "text": [
      "[  5   6   7  50  60  70 500 600 700]\n",
      "[  5  50 500   6  60 600   7  70 700]\n"
     ]
    }
   ],
   "source": [
    "print(np.kron([1,10,100], [5,6,7]))\n",
    "print(np.kron([5,6,7], [1,10,100]))"
   ]
  },
  {
   "cell_type": "markdown",
   "id": "71dcd5ba",
   "metadata": {},
   "source": [
    "# lcm\n",
    "- Returns the lowest common multiple of |x1| and |x2|"
   ]
  },
  {
   "cell_type": "code",
   "execution_count": 402,
   "id": "404c63ab",
   "metadata": {},
   "outputs": [
    {
     "name": "stdout",
     "output_type": "stream",
     "text": [
      "60\n",
      "60\n",
      "120\n",
      "[ 0 20 20 60 20 20]\n"
     ]
    }
   ],
   "source": [
    "print(np.lcm(12, 20))\n",
    "print(np.lcm.reduce([3, 12, 20]))\n",
    "print(np.lcm.reduce([40, 12, 20]))\n",
    "print(np.lcm(np.arange(6), 20))"
   ]
  },
  {
   "cell_type": "markdown",
   "id": "75ee92c0",
   "metadata": {},
   "source": [
    "# ldexp\n",
    "- Returns x1 * 2**x2, element-wise.\n",
    "- The mantissas x1 and twos exponents x2 are used to construct floating point numbers x1 * 2**x2."
   ]
  },
  {
   "cell_type": "code",
   "execution_count": 403,
   "id": "c70d3198",
   "metadata": {},
   "outputs": [
    {
     "name": "stdout",
     "output_type": "stream",
     "text": [
      "[ 5. 10. 20. 40.]\n",
      "[0. 1. 2. 3. 4. 5.]\n"
     ]
    }
   ],
   "source": [
    "print(np.ldexp(5, np.arange(4)))\n",
    "x = np.arange(6)\n",
    "print(np.ldexp(*np.frexp(x)))"
   ]
  },
  {
   "cell_type": "markdown",
   "id": "5339ee94",
   "metadata": {},
   "source": [
    "# left_shift\n",
    "- Shift the bits of an integer to the left.\n",
    "- same as bitwise_left_shift"
   ]
  },
  {
   "cell_type": "code",
   "execution_count": 405,
   "id": "4c5e13a8",
   "metadata": {},
   "outputs": [
    {
     "data": {
      "text/plain": [
       "True"
      ]
     },
     "execution_count": 405,
     "metadata": {},
     "output_type": "execute_result"
    }
   ],
   "source": [
    "np.left_shift is np.bitwise_left_shift"
   ]
  },
  {
   "cell_type": "markdown",
   "id": "0aeb891f",
   "metadata": {},
   "source": [
    "# less\n",
    "- Return the truth value of (x1 < x2) element-wise."
   ]
  },
  {
   "cell_type": "code",
   "execution_count": 407,
   "id": "5378acc2",
   "metadata": {},
   "outputs": [
    {
     "name": "stdout",
     "output_type": "stream",
     "text": [
      "[ True False]\n",
      "[[False  True]\n",
      " [False  True]]\n"
     ]
    }
   ],
   "source": [
    "print(np.less([1, 2], [2, 2]))\n",
    "print(\n",
    "    np.less(\n",
    "        np.array([[20, 30], [40, 50]]),\n",
    "        np.array([[10, 40], [30, 60]])\n",
    "    )\n",
    ")"
   ]
  },
  {
   "cell_type": "markdown",
   "id": "4c422679",
   "metadata": {},
   "source": [
    "# less_equal\n",
    "- Return the truth value of (x1 <= x2) element-wise."
   ]
  },
  {
   "cell_type": "code",
   "execution_count": 408,
   "id": "c5653fd9",
   "metadata": {},
   "outputs": [
    {
     "name": "stdout",
     "output_type": "stream",
     "text": [
      "[ True  True]\n",
      "[[False  True]\n",
      " [False  True]]\n"
     ]
    }
   ],
   "source": [
    "print(np.less_equal([1, 2], [2, 2]))\n",
    "print(\n",
    "    np.less_equal(\n",
    "        np.array([[20, 30], [40, 50]]),\n",
    "        np.array([[10, 40], [30, 60]])\n",
    "    )\n",
    ")"
   ]
  },
  {
   "cell_type": "markdown",
   "id": "26478f12",
   "metadata": {},
   "source": [
    "# lexsort\n",
    "- Perform an indirect stable sort using a sequence of keys.\n",
    "- Given multiple sorting keys, lexsort returns an array of integer indices that describes the sort order by multiple keys. The last key in the sequence is used for the primary sort order, ties are broken by the second-to-last key, and so on."
   ]
  },
  {
   "cell_type": "code",
   "execution_count": 409,
   "id": "018d0b95",
   "metadata": {},
   "outputs": [
    {
     "name": "stdout",
     "output_type": "stream",
     "text": [
      "[1 2 0]\n"
     ]
    }
   ],
   "source": [
    "surnames =    ('Hertz',    'Galilei', 'Hertz')\n",
    "first_names = ('Heinrich', 'Galileo', 'Gustav')\n",
    "ind = np.lexsort((first_names, surnames))\n",
    "print(ind)"
   ]
  },
  {
   "cell_type": "markdown",
   "id": "40bf1a22",
   "metadata": {},
   "source": [
    "# load\n",
    "- Load arrays or pickled objects from .npy, .npz or pickled files."
   ]
  },
  {
   "cell_type": "code",
   "execution_count": 413,
   "id": "80d7410e",
   "metadata": {},
   "outputs": [
    {
     "name": "stdout",
     "output_type": "stream",
     "text": [
      "[[1 2 3]\n",
      " [4 5 6]]\n"
     ]
    }
   ],
   "source": [
    "np.save('tmp123', np.array([[1, 2, 3], [4, 5, 6]]))\n",
    "a = np.load('tmp123.npy')\n",
    "print(a)"
   ]
  },
  {
   "cell_type": "markdown",
   "id": "cdc8d555",
   "metadata": {},
   "source": [
    "# loadtxt\n",
    "- Load data from a text file."
   ]
  },
  {
   "cell_type": "code",
   "execution_count": 414,
   "id": "fe28206d",
   "metadata": {},
   "outputs": [
    {
     "name": "stdout",
     "output_type": "stream",
     "text": [
      "[[0. 1.]\n",
      " [2. 3.]]\n"
     ]
    }
   ],
   "source": [
    "from io import StringIO   # StringIO behaves like a file object\n",
    "c = StringIO(\"0 1\\n2 3\")\n",
    "a = np.loadtxt(c)\n",
    "print(a)"
   ]
  },
  {
   "cell_type": "markdown",
   "id": "e9109710",
   "metadata": {},
   "source": [
    "# log\n",
    "- Natural logarithm, element-wise.\n",
    "- The natural logarithm log is the inverse of the exponential function, so that log(exp(x)) = x. The natural logarithm is logarithm in base e."
   ]
  },
  {
   "cell_type": "code",
   "execution_count": 415,
   "id": "8e8a0819",
   "metadata": {},
   "outputs": [
    {
     "name": "stdout",
     "output_type": "stream",
     "text": [
      "Floating point error (divide by zero), with flag 1\n"
     ]
    },
    {
     "data": {
      "text/plain": [
       "array([  0.,   1.,   2., -inf])"
      ]
     },
     "execution_count": 415,
     "metadata": {},
     "output_type": "execute_result"
    }
   ],
   "source": [
    "np.log([1, np.e, np.e**2, 0])"
   ]
  },
  {
   "cell_type": "markdown",
   "id": "92798cf3",
   "metadata": {},
   "source": [
    "# log10\n",
    "- Return the base 10 logarithm of the input array, element-wise."
   ]
  },
  {
   "cell_type": "code",
   "execution_count": 416,
   "id": "1212f9ec",
   "metadata": {},
   "outputs": [
    {
     "name": "stdout",
     "output_type": "stream",
     "text": [
      "Floating point error (invalid value), with flag 8\n"
     ]
    },
    {
     "data": {
      "text/plain": [
       "array([-15.,  nan])"
      ]
     },
     "execution_count": 416,
     "metadata": {},
     "output_type": "execute_result"
    }
   ],
   "source": [
    "np.log10([1e-15, -3.])"
   ]
  },
  {
   "cell_type": "markdown",
   "id": "5db19230",
   "metadata": {},
   "source": [
    "# log1p\n",
    "- Return the natural logarithm of one plus the input array, element-wise.\n",
    "- Calculates log(1 + x)."
   ]
  },
  {
   "cell_type": "code",
   "execution_count": 417,
   "id": "53820712",
   "metadata": {},
   "outputs": [
    {
     "name": "stdout",
     "output_type": "stream",
     "text": [
      "1e-99\n",
      "0.0\n"
     ]
    }
   ],
   "source": [
    "print(np.log1p(1e-99))\n",
    "print(np.log(1 + 1e-99))"
   ]
  },
  {
   "cell_type": "markdown",
   "id": "078cb0ae",
   "metadata": {},
   "source": [
    "# log2\n",
    "- Base-2 logarithm of x."
   ]
  },
  {
   "cell_type": "code",
   "execution_count": 419,
   "id": "9b42b6bf",
   "metadata": {},
   "outputs": [
    {
     "data": {
      "text/plain": [
       "array([0., 1., 4.])"
      ]
     },
     "execution_count": 419,
     "metadata": {},
     "output_type": "execute_result"
    }
   ],
   "source": [
    "x = np.array([1, 2, 2**4])\n",
    "np.log2(x)"
   ]
  },
  {
   "cell_type": "markdown",
   "id": "ca1125f0",
   "metadata": {},
   "source": [
    "# logaddexp\n",
    "- Logarithm of the sum of exponentiations of the inputs.\n",
    "- Calculates log(exp(x1) + exp(x2)). This function is useful in statistics where the calculated probabilities of events may be so small as to exceed the range of normal floating point numbers. In such cases the logarithm of the calculated probability is stored. This function allows adding probabilities stored in such a fashion."
   ]
  },
  {
   "cell_type": "code",
   "execution_count": 420,
   "id": "d2c9089c",
   "metadata": {},
   "outputs": [
    {
     "data": {
      "text/plain": [
       "np.float64(3.5000000000000057e-50)"
      ]
     },
     "execution_count": 420,
     "metadata": {},
     "output_type": "execute_result"
    }
   ],
   "source": [
    "prob1 = np.log(1e-50)\n",
    "prob2 = np.log(2.5e-50)\n",
    "prob12 = np.logaddexp(prob1, prob2)\n",
    "np.exp(prob12)"
   ]
  },
  {
   "cell_type": "markdown",
   "id": "e6743f40",
   "metadata": {},
   "source": [
    "# logaddexp2\n",
    "- Logarithm of the sum of exponentiations of the inputs in base-2.\n",
    "- Calculates log2(2**x1 + 2**x2). This function is useful in machine learning when the calculated probabilities of events may be so small as to exceed the range of normal floating point numbers. In such cases the base-2 logarithm of the calculated probability can be used instead. This function allows adding probabilities stored in such a fashion."
   ]
  },
  {
   "cell_type": "code",
   "execution_count": 421,
   "id": "b5ee6e19",
   "metadata": {},
   "outputs": [
    {
     "name": "stdout",
     "output_type": "stream",
     "text": [
      "-166.09640474436813 -164.77447664948076 -164.28904982231052\n",
      "3.4999999999999914e-50\n"
     ]
    }
   ],
   "source": [
    "prob1 = np.log2(1e-50)\n",
    "prob2 = np.log2(2.5e-50)\n",
    "prob12 = np.logaddexp2(prob1, prob2)\n",
    "print(prob1, prob2, prob12)\n",
    "print(2**prob12)"
   ]
  },
  {
   "cell_type": "markdown",
   "id": "128f2344",
   "metadata": {},
   "source": [
    "# logical_and\n",
    "- Compute the truth value of x1 AND x2 element-wise."
   ]
  },
  {
   "cell_type": "code",
   "execution_count": 422,
   "id": "d5930ba8",
   "metadata": {},
   "outputs": [
    {
     "name": "stdout",
     "output_type": "stream",
     "text": [
      "False\n",
      "[False False]\n"
     ]
    }
   ],
   "source": [
    "print(np.logical_and(True, False))\n",
    "print(np.logical_and([True, False], [False, False]))"
   ]
  },
  {
   "cell_type": "markdown",
   "id": "f1a491b7",
   "metadata": {},
   "source": [
    "# logical_not\n",
    "- Compute the truth value of NOT x element-wise."
   ]
  },
  {
   "cell_type": "code",
   "execution_count": 423,
   "id": "29ea2da1",
   "metadata": {},
   "outputs": [
    {
     "name": "stdout",
     "output_type": "stream",
     "text": [
      "False\n",
      "[False  True  True False]\n"
     ]
    }
   ],
   "source": [
    "print(np.logical_not(3))\n",
    "print(np.logical_not([True, False, 0, 1]))"
   ]
  },
  {
   "cell_type": "markdown",
   "id": "d1777d6f",
   "metadata": {},
   "source": [
    "# logical_or\n",
    "- Compute the truth value of x1 OR x2 element-wise."
   ]
  },
  {
   "cell_type": "code",
   "execution_count": 424,
   "id": "572490c8",
   "metadata": {},
   "outputs": [
    {
     "name": "stdout",
     "output_type": "stream",
     "text": [
      "True\n",
      "[ True False]\n"
     ]
    }
   ],
   "source": [
    "print(np.logical_or(True, False))\n",
    "print(np.logical_or([True, False], [False, False]))"
   ]
  },
  {
   "cell_type": "markdown",
   "id": "3bdc9056",
   "metadata": {},
   "source": [
    "# logical_xor\n",
    "- Compute the truth value of x1 XOR x2, element-wise."
   ]
  },
  {
   "cell_type": "code",
   "execution_count": 425,
   "id": "ac6744f5",
   "metadata": {},
   "outputs": [
    {
     "name": "stdout",
     "output_type": "stream",
     "text": [
      "True\n",
      "[False  True  True False]\n"
     ]
    }
   ],
   "source": [
    "print(np.logical_xor(True, False))\n",
    "print(np.logical_xor([True, True, False, False], [True, False, True, False]))"
   ]
  },
  {
   "cell_type": "markdown",
   "id": "aa49d4df",
   "metadata": {},
   "source": [
    "# logspace\n",
    "- Return numbers spaced evenly on a log scale.\n",
    "- In linear space, the sequence starts at base ** start (base to the power of start) and ends with base ** stop."
   ]
  },
  {
   "cell_type": "code",
   "execution_count": 426,
   "id": "3e45325b",
   "metadata": {},
   "outputs": [
    {
     "name": "stdout",
     "output_type": "stream",
     "text": [
      "[ 100.          215.443469    464.15888336 1000.        ]\n",
      "[100.         177.827941   316.22776602 562.34132519]\n",
      "[4.         5.0396842  6.34960421 8.        ]\n",
      "[[ 4.          5.0396842   6.34960421  8.        ]\n",
      " [ 9.         12.98024613 18.72075441 27.        ]]\n"
     ]
    }
   ],
   "source": [
    "print(np.logspace(2.0, 3.0, num=4))\n",
    "print(np.logspace(2.0, 3.0, num=4, endpoint=False))\n",
    "print(np.logspace(2.0, 3.0, num=4, base=2.0))\n",
    "print(np.logspace(2.0, 3.0, num=4, base=[2.0, 3.0], axis=-1))"
   ]
  },
  {
   "cell_type": "markdown",
   "id": "5c1c9fd0",
   "metadata": {},
   "source": [
    "# mask_indices\n",
    "- Return the indices to access (n, n) arrays, given a masking function.\n",
    "- Assume mask_func is a function that, for a square array a of size (n, n) with a possible offset argument k, when called as mask_func(a, k) returns a new array with zeros in certain locations (functions like triu or tril do precisely this). Then this function returns the indices where the non-zero values would be located."
   ]
  },
  {
   "cell_type": "code",
   "execution_count": 427,
   "id": "21f2c1d3",
   "metadata": {},
   "outputs": [
    {
     "data": {
      "text/plain": [
       "(array([0, 0, 0, 1, 1, 2]), array([0, 1, 2, 1, 2, 2]))"
      ]
     },
     "execution_count": 427,
     "metadata": {},
     "output_type": "execute_result"
    }
   ],
   "source": [
    "np.mask_indices(3, np.triu)"
   ]
  },
  {
   "cell_type": "markdown",
   "id": "a3393e8a",
   "metadata": {},
   "source": [
    "# matmul\n",
    "- Matrix product of two arrays.\n",
    "- The @ operator can be used as a shorthand for np.matmul on ndarrays."
   ]
  },
  {
   "cell_type": "code",
   "execution_count": 428,
   "id": "34febd84",
   "metadata": {},
   "outputs": [
    {
     "data": {
      "text/plain": [
       "array([[4, 1],\n",
       "       [2, 2]])"
      ]
     },
     "execution_count": 428,
     "metadata": {},
     "output_type": "execute_result"
    }
   ],
   "source": [
    "a = np.array([[1, 0],\n",
    "              [0, 1]])\n",
    "b = np.array([[4, 1],\n",
    "              [2, 2]])\n",
    "np.matmul(a, b)"
   ]
  },
  {
   "cell_type": "markdown",
   "id": "a1158f86",
   "metadata": {},
   "source": [
    "# matrix\n",
    "- Returns a matrix from an array-like object, or from a string of data.\n",
    "- A matrix is a specialized 2-D array that retains its 2-D nature through operations. It has certain special operators, such as * (matrix multiplication) and ** (matrix power)."
   ]
  },
  {
   "cell_type": "code",
   "execution_count": 429,
   "id": "22b5b4de",
   "metadata": {},
   "outputs": [
    {
     "name": "stdout",
     "output_type": "stream",
     "text": [
      "[[1 2]\n",
      " [3 4]]\n"
     ]
    }
   ],
   "source": [
    "print(np.matrix('1 2; 3 4'))"
   ]
  },
  {
   "cell_type": "markdown",
   "id": "55365475",
   "metadata": {},
   "source": [
    "# matrix_tranpose\n",
    "- Transposes a matrix (or a stack of matrices) x."
   ]
  },
  {
   "cell_type": "code",
   "execution_count": 430,
   "id": "6c608961",
   "metadata": {},
   "outputs": [
    {
     "data": {
      "text/plain": [
       "array([[1, 3],\n",
       "       [2, 4]])"
      ]
     },
     "execution_count": 430,
     "metadata": {},
     "output_type": "execute_result"
    }
   ],
   "source": [
    "np.matrix_transpose([[1, 2], [3, 4]])"
   ]
  },
  {
   "cell_type": "markdown",
   "id": "5791417b",
   "metadata": {},
   "source": [
    "# max\n",
    "- Return the maximum of an array or maximum along an axis."
   ]
  },
  {
   "cell_type": "code",
   "execution_count": 433,
   "id": "25a35314",
   "metadata": {},
   "outputs": [
    {
     "name": "stdout",
     "output_type": "stream",
     "text": [
      "False\n",
      "10\n",
      "3\n",
      "[2 3]\n",
      "[1 3]\n",
      "[-1  3]\n",
      "nan\n",
      "4.0\n",
      "4.0\n"
     ]
    }
   ],
   "source": [
    "print(np.max is np.argmax)\n",
    "print(np.max(np.array([2, 3, 4, 10])))\n",
    "a = np.arange(4).reshape((2,2))\n",
    "print(np.max(a))           # Maximum of the flattened array\n",
    "print(np.max(a, axis=0))   # Maxima along the first axis\n",
    "print(np.max(a, axis=1))   # Maxima along the second axis\n",
    "print(np.max(a, where=[False, True], initial=-1, axis=0))\n",
    "b = np.arange(5, dtype=float)\n",
    "b[2] = np.nan\n",
    "print(np.max(b))\n",
    "print(np.max(b, where=~np.isnan(b), initial=-1))\n",
    "print(np.nanmax(b))"
   ]
  },
  {
   "cell_type": "markdown",
   "id": "ecc4e0a4",
   "metadata": {},
   "source": [
    "# maximum\n",
    "- Element-wise maximum of array elements.\n",
    "- Compare two arrays and return a new array containing the element-wise maxima. If one of the elements being compared is a NaN, then that element is returned. If both elements are NaNs then the first is returned. The latter distinction is important for complex NaNs, which are defined as at least one of the real or imaginary parts being a NaN. The net effect is that NaNs are propagated."
   ]
  },
  {
   "cell_type": "code",
   "execution_count": 436,
   "id": "2ec32f79",
   "metadata": {},
   "outputs": [
    {
     "name": "stdout",
     "output_type": "stream",
     "text": [
      "False\n",
      "[2 5 4]\n"
     ]
    }
   ],
   "source": [
    "print(np.max is np.maximum)\n",
    "print(np.maximum([2, 3, 4], [1, 5, 2]))"
   ]
  },
  {
   "cell_type": "markdown",
   "id": "a1d164c6",
   "metadata": {},
   "source": [
    "# may_share_memory\n",
    "- Determine if two arrays might share memory\n",
    "- A return of True does not necessarily mean that the two arrays share any element. It just means that they might.\n",
    "- Only the memory bounds of a and b are checked by default."
   ]
  },
  {
   "cell_type": "code",
   "execution_count": 438,
   "id": "7d511ba8",
   "metadata": {},
   "outputs": [
    {
     "name": "stdout",
     "output_type": "stream",
     "text": [
      "False\n",
      "True\n"
     ]
    }
   ],
   "source": [
    "print(np.may_share_memory(np.array([1,2]), np.array([5,8,9])))\n",
    "x = np.zeros([3, 4])\n",
    "print(np.may_share_memory(x[:,0], x[:,1]))"
   ]
  },
  {
   "cell_type": "markdown",
   "id": "76e61ae6",
   "metadata": {},
   "source": [
    "# mean\n",
    "- Compute the arithmetic mean along the specified axis.\n",
    "- Returns the average of the array elements. The average is taken over the flattened array by default, otherwise over the specified axis. float64 intermediate and return values are used for integer inputs."
   ]
  },
  {
   "cell_type": "code",
   "execution_count": 439,
   "id": "0431cdea",
   "metadata": {},
   "outputs": [
    {
     "name": "stdout",
     "output_type": "stream",
     "text": [
      "2.5\n",
      "[2. 3.]\n",
      "[1.5 3.5]\n"
     ]
    }
   ],
   "source": [
    "a = np.array([[1, 2], [3, 4]])\n",
    "print(np.mean(a))\n",
    "print(np.mean(a, axis=0))\n",
    "print(np.mean(a, axis=1))"
   ]
  },
  {
   "cell_type": "markdown",
   "id": "98a12e66",
   "metadata": {},
   "source": [
    "# media\n",
    "- Compute the median along the specified axis.\n",
    "- Returns the median of the array elements."
   ]
  },
  {
   "cell_type": "code",
   "execution_count": 441,
   "id": "78f3fd06",
   "metadata": {},
   "outputs": [
    {
     "name": "stdout",
     "output_type": "stream",
     "text": [
      "[[10  7  4]\n",
      " [ 3  2  1]]\n",
      "3.5\n",
      "[6.5 4.5 2.5]\n",
      "[7. 2.]\n",
      "3.5\n",
      "[6.5 4.5 2.5]\n",
      "[6.5 4.5 2.5]\n",
      "[7. 2.]\n",
      "3.5\n"
     ]
    }
   ],
   "source": [
    "a = np.array([[10, 7, 4], [3, 2, 1]])\n",
    "print(a)\n",
    "print(np.median(a))\n",
    "print(np.median(a, axis=0))\n",
    "print(np.median(a, axis=1))\n",
    "print(np.median(a, axis=(0, 1)))\n",
    "m = np.median(a, axis=0)\n",
    "out = np.zeros_like(m)\n",
    "print(np.median(a, axis=0, out=m))\n",
    "print(m)\n",
    "b = a.copy()\n",
    "print(np.median(b, axis=1, overwrite_input=True))\n",
    "assert not np.all(a==b)\n",
    "b = a.copy()\n",
    "print(np.median(b, axis=None, overwrite_input=True))\n",
    "assert not np.all(a==b)"
   ]
  },
  {
   "cell_type": "markdown",
   "id": "a6393c7a",
   "metadata": {},
   "source": [
    "# memmap\n",
    "- Create a memory-map to an array stored in a binary file on disk.\n",
    "- Memory-mapped files are used for accessing small segments of large files on disk, without reading the entire file into memory. NumPy’s memmap’s are array-like objects. This differs from Python’s mmap module, which uses file-like objects.\n",
    "- This subclass of ndarray has some unpleasant interactions with some operations, because it doesn’t quite fit properly as a subclass. An alternative to using this subclass is to create the mmap object yourself, then create an ndarray with ndarray.__new__ directly, passing the object created in its ‘buffer=’ parameter.\n",
    "- This class may at some point be turned into a factory function which returns a view into an mmap buffer.\n",
    "- Flush the memmap instance to write the changes to the file. Currently there is no API to close the underlying mmap. It is tricky to ensure the resource is actually closed, since it may be shared between different memmap instances."
   ]
  },
  {
   "cell_type": "code",
   "execution_count": 11,
   "id": "56f33251",
   "metadata": {},
   "outputs": [],
   "source": [
    "# no examples for this one"
   ]
  },
  {
   "cell_type": "markdown",
   "id": "949aa87d",
   "metadata": {},
   "source": [
    "# meshgrid\n",
    "- Return a tuple of coordinate matrices from coordinate vectors.\n",
    "- Make N-D coordinate arrays for vectorized evaluations of N-D scalar/vector fields over N-D grids, given one-dimensional coordinate arrays x1, x2,…, xn."
   ]
  },
  {
   "cell_type": "code",
   "execution_count": 10,
   "id": "486ea6f3",
   "metadata": {},
   "outputs": [
    {
     "name": "stdout",
     "output_type": "stream",
     "text": [
      "[0.   1.25 2.5  3.75 5.  ]\n",
      "[0.   1.25 2.5  3.75 5.  ]\n",
      "[[0.   1.25 2.5  3.75 5.  ]\n",
      " [0.   1.25 2.5  3.75 5.  ]\n",
      " [0.   1.25 2.5  3.75 5.  ]\n",
      " [0.   1.25 2.5  3.75 5.  ]\n",
      " [0.   1.25 2.5  3.75 5.  ]]\n",
      "[[0.   0.   0.   0.   0.  ]\n",
      " [1.25 1.25 1.25 1.25 1.25]\n",
      " [2.5  2.5  2.5  2.5  2.5 ]\n",
      " [3.75 3.75 3.75 3.75 3.75]\n",
      " [5.   5.   5.   5.   5.  ]]\n"
     ]
    }
   ],
   "source": [
    "nx, ny = (3, 2)\n",
    "x = np.linspace(0, 5, 5)\n",
    "print(x)\n",
    "y = np.linspace(0, 5, 5)\n",
    "print(y)\n",
    "xv, yv = np.meshgrid(x, y)\n",
    "print(xv)\n",
    "print(yv)"
   ]
  },
  {
   "cell_type": "markdown",
   "id": "3f333f5f",
   "metadata": {},
   "source": [
    "# mgrid\n",
    "- An instance which returns a dense multi-dimensional “meshgrid”.\n",
    "- An instance which returns a dense (or fleshed out) mesh-grid when indexed, so that each returned argument has the same shape. The dimensions and number of the output arrays are equal to the number of indexing dimensions. If the step length is not a complex number, then the stop is not inclusive.\n",
    "- However, if the step length is a complex number (e.g. 5j), then the integer part of its magnitude is interpreted as specifying the number of points to create between the start and stop values, where the stop value is inclusive."
   ]
  },
  {
   "cell_type": "code",
   "execution_count": 442,
   "id": "a655437d",
   "metadata": {},
   "outputs": [
    {
     "name": "stdout",
     "output_type": "stream",
     "text": [
      "[[[0 0 0 0 0]\n",
      "  [1 1 1 1 1]\n",
      "  [2 2 2 2 2]\n",
      "  [3 3 3 3 3]\n",
      "  [4 4 4 4 4]]\n",
      "\n",
      " [[0 1 2 3 4]\n",
      "  [0 1 2 3 4]\n",
      "  [0 1 2 3 4]\n",
      "  [0 1 2 3 4]\n",
      "  [0 1 2 3 4]]]\n",
      "[-1.  -0.5  0.   0.5  1. ]\n"
     ]
    }
   ],
   "source": [
    "print(np.mgrid[0:5, 0:5])\n",
    "print(np.mgrid[-1:1:5j])"
   ]
  },
  {
   "cell_type": "markdown",
   "id": "76edfc6e",
   "metadata": {},
   "source": [
    "# min\n",
    "- Return the minimum of an array or minimum along an axis."
   ]
  },
  {
   "cell_type": "code",
   "execution_count": 443,
   "id": "336de1f3",
   "metadata": {},
   "outputs": [
    {
     "name": "stdout",
     "output_type": "stream",
     "text": [
      "[[0 1]\n",
      " [2 3]]\n",
      "0\n",
      "[0 1]\n",
      "[0 2]\n",
      "[10  1]\n"
     ]
    }
   ],
   "source": [
    "a = np.arange(4).reshape((2,2))\n",
    "print(a)\n",
    "print(np.min(a))           # Minimum of the flattened array\n",
    "print(np.min(a, axis=0))   # Minima along the first axis\n",
    "print(np.min(a, axis=1))   # Minima along the second axis\n",
    "print(np.min(a, where=[False, True], initial=10, axis=0))"
   ]
  },
  {
   "cell_type": "markdown",
   "id": "8c27fb1a",
   "metadata": {},
   "source": [
    "# min_scalar_type\n",
    "- For scalar a, returns the data type with the smallest size and smallest scalar kind which can hold its value. For non-scalar array a, returns the vector’s dtype unmodified.\n",
    "- Floating point values are not demoted to integers, and complex values are not demoted to floats."
   ]
  },
  {
   "cell_type": "code",
   "execution_count": 444,
   "id": "eaa62630",
   "metadata": {},
   "outputs": [
    {
     "name": "stdout",
     "output_type": "stream",
     "text": [
      "uint8\n",
      "int16\n",
      "float64\n",
      "float64\n"
     ]
    }
   ],
   "source": [
    "print(np.min_scalar_type(10))\n",
    "print(np.min_scalar_type(-260))\n",
    "print(np.min_scalar_type(1e50))\n",
    "print(np.min_scalar_type(np.arange(4,dtype='f8')))"
   ]
  },
  {
   "cell_type": "markdown",
   "id": "57f2bbbe",
   "metadata": {},
   "source": [
    "# minimum\n",
    "- Element-wise minimum of array elements.\n",
    "- Compare two arrays and return a new array containing the element-wise minima. If one of the elements being compared is a NaN, then that element is returned. If both elements are NaNs then the first is returned. The latter distinction is important for complex NaNs, which are defined as at least one of the real or imaginary parts being a NaN. The net effect is that NaNs are propagated."
   ]
  },
  {
   "cell_type": "code",
   "execution_count": 445,
   "id": "abbbaf04",
   "metadata": {},
   "outputs": [
    {
     "name": "stdout",
     "output_type": "stream",
     "text": [
      "[1 3 2]\n",
      "[[0.5 0. ]\n",
      " [0.  1. ]]\n",
      "[nan nan nan]\n",
      "-inf\n"
     ]
    }
   ],
   "source": [
    "print(np.minimum([2, 3, 4], [1, 5, 2]))\n",
    "print(np.minimum(np.eye(2), [0.5, 2])) # broadcasting\n",
    "print(np.minimum([np.nan, 0, np.nan],[0, np.nan, np.nan]))\n",
    "print(np.minimum(-np.inf, 1))"
   ]
  },
  {
   "cell_type": "markdown",
   "id": "4660f99e",
   "metadata": {},
   "source": [
    "# mintypecode\n",
    "- Return the character for the minimum-size type to which given types can be safely cast.\n",
    "- The returned type character must represent the smallest size dtype such that an array of the returned type can handle the data from an array of all types in typechars (or if typechars is an array, then its dtype.char)."
   ]
  },
  {
   "cell_type": "code",
   "execution_count": 446,
   "id": "752fb9ce",
   "metadata": {},
   "outputs": [
    {
     "name": "stdout",
     "output_type": "stream",
     "text": [
      "d\n",
      "D\n"
     ]
    }
   ],
   "source": [
    "print(np.mintypecode(['d', 'f', 'S']))\n",
    "x = np.array([1.1, 2-3.j])\n",
    "print(np.mintypecode(x))"
   ]
  },
  {
   "cell_type": "markdown",
   "id": "bcc80d52",
   "metadata": {},
   "source": [
    "# mod\n",
    "- Returns the element-wise remainder of division.\n",
    "- Computes the remainder complementary to the floor_divide function. It is equivalent to the Python modulus operator x1 % x2 and has the same sign as the divisor x2. The MATLAB function equivalent to np.remainder is mod.\n",
    "- The % operator can be used as a shorthand for np.remainder on ndarrays."
   ]
  },
  {
   "cell_type": "code",
   "execution_count": 447,
   "id": "e47b553e",
   "metadata": {},
   "outputs": [
    {
     "name": "stdout",
     "output_type": "stream",
     "text": [
      "[0 1]\n",
      "[0 1 2 3 4 0 1]\n",
      "[0 1 2 3 4 0 1]\n"
     ]
    }
   ],
   "source": [
    "print(np.remainder([4, 7], [2, 3]))\n",
    "print(np.remainder(np.arange(7), 5))\n",
    "x1 = np.arange(7)\n",
    "print(x1 % 5)"
   ]
  },
  {
   "cell_type": "markdown",
   "id": "cea32055",
   "metadata": {},
   "source": [
    "# modf\n",
    "- Return the fractional and integral parts of an array, element-wise.\n",
    "- The fractional and integral parts are negative if the given number is negative."
   ]
  },
  {
   "cell_type": "code",
   "execution_count": 448,
   "id": "72a625a1",
   "metadata": {},
   "outputs": [
    {
     "name": "stdout",
     "output_type": "stream",
     "text": [
      "(array([0. , 0.5]), array([0., 3.]))\n",
      "(np.float64(-0.5), np.float64(-0.0))\n"
     ]
    }
   ],
   "source": [
    "print(np.modf([0, 3.5]))\n",
    "print(np.modf(-0.5))"
   ]
  },
  {
   "cell_type": "markdown",
   "id": "5c6d5612",
   "metadata": {},
   "source": [
    "# moveaxis\n",
    "- Move axes of an array to new positions.\n",
    "- Other axes remain in their original order."
   ]
  },
  {
   "cell_type": "code",
   "execution_count": 449,
   "id": "0e553d9e",
   "metadata": {},
   "outputs": [
    {
     "name": "stdout",
     "output_type": "stream",
     "text": [
      "(4, 5, 3)\n",
      "(5, 3, 4)\n"
     ]
    }
   ],
   "source": [
    "x = np.zeros((3, 4, 5))\n",
    "print(np.moveaxis(x, 0, -1).shape)\n",
    "print(np.moveaxis(x, -1, 0).shape)"
   ]
  },
  {
   "cell_type": "markdown",
   "id": "49903331",
   "metadata": {},
   "source": [
    "# multiply\n",
    "- Multiply arguments element-wise."
   ]
  },
  {
   "cell_type": "code",
   "execution_count": 450,
   "id": "d27ef809",
   "metadata": {},
   "outputs": [
    {
     "name": "stdout",
     "output_type": "stream",
     "text": [
      "8.0\n",
      "[[ 0.  1.  4.]\n",
      " [ 0.  4. 10.]\n",
      " [ 0.  7. 16.]]\n"
     ]
    }
   ],
   "source": [
    "print(np.multiply(2.0, 4.0))\n",
    "x1 = np.arange(9.0).reshape((3, 3))\n",
    "x2 = np.arange(3.0)\n",
    "print(np.multiply(x1, x2))"
   ]
  },
  {
   "cell_type": "markdown",
   "id": "e4f4108b",
   "metadata": {},
   "source": [
    "# nan_to_num\n",
    "- Replace NaN with zero and infinity with large finite numbers (default behaviour) or with the numbers defined by the user using the nan, posinf and/or neginf keywords.\n",
    "- If x is inexact, NaN is replaced by zero or by the user defined value in nan keyword, infinity is replaced by the largest finite floating point values representable by x.dtype or by the user defined value in posinf keyword and -infinity is replaced by the most negative finite floating point values representable by x.dtype or by the user defined value in neginf keyword.\n",
    "- For complex dtypes, the above is applied to each of the real and imaginary components of x separately.\n",
    "- If x is not inexact, then no replacements are made."
   ]
  },
  {
   "cell_type": "code",
   "execution_count": 451,
   "id": "05ef3abf",
   "metadata": {},
   "outputs": [
    {
     "name": "stdout",
     "output_type": "stream",
     "text": [
      "1.7976931348623157e+308\n",
      "-1.7976931348623157e+308\n",
      "0.0\n",
      "[ 1.79769313e+308 -1.79769313e+308  0.00000000e+000 -1.28000000e+002\n",
      "  1.28000000e+002]\n",
      "[ 3.3333333e+07  3.3333333e+07 -9.9990000e+03 -1.2800000e+02\n",
      "  1.2800000e+02]\n",
      "[1.79769313e+308+0.00000000e+000j 0.00000000e+000+0.00000000e+000j\n",
      " 0.00000000e+000+1.79769313e+308j]\n",
      "[222222.+111111.j 111111.     +0.j 111111.+222222.j]\n"
     ]
    }
   ],
   "source": [
    "print(np.nan_to_num(np.inf))\n",
    "print(np.nan_to_num(-np.inf))\n",
    "print(np.nan_to_num(np.nan))\n",
    "x = np.array([np.inf, -np.inf, np.nan, -128, 128])\n",
    "print(np.nan_to_num(x))\n",
    "print(np.nan_to_num(x, nan=-9999, posinf=33333333, neginf=33333333))\n",
    "y = np.array([complex(np.inf, np.nan), np.nan, complex(np.nan, np.inf)])\n",
    "print(np.nan_to_num(y))\n",
    "print(np.nan_to_num(y, nan=111111, posinf=222222))"
   ]
  },
  {
   "cell_type": "markdown",
   "id": "0cbe10ae",
   "metadata": {},
   "source": [
    "# nanargmax\n",
    "- Return the indices of the maximum values in the specified axis ignoring NaNs. For all-NaN slices ValueError is raised. Warning: the results cannot be trusted if a slice contains only NaNs and -Infs."
   ]
  },
  {
   "cell_type": "code",
   "execution_count": 452,
   "id": "69d75952",
   "metadata": {},
   "outputs": [
    {
     "name": "stdout",
     "output_type": "stream",
     "text": [
      "0\n",
      "1\n",
      "[1 0]\n",
      "[1 1]\n"
     ]
    }
   ],
   "source": [
    "a = np.array([[np.nan, 4], [2, 3]])\n",
    "print(np.argmax(a))\n",
    "print(np.nanargmax(a))\n",
    "print(np.nanargmax(a, axis=0))\n",
    "print(np.nanargmax(a, axis=1))"
   ]
  },
  {
   "cell_type": "markdown",
   "id": "169da7e8",
   "metadata": {},
   "source": [
    "# nanargmin\n",
    "- Return the indices of the minimum values in the specified axis ignoring NaNs. For all-NaN slices ValueError is raised. Warning: the results cannot be trusted if a slice contains only NaNs and Infs."
   ]
  },
  {
   "cell_type": "code",
   "execution_count": 453,
   "id": "370ee600",
   "metadata": {},
   "outputs": [
    {
     "name": "stdout",
     "output_type": "stream",
     "text": [
      "0\n",
      "2\n",
      "[1 1]\n",
      "[1 0]\n"
     ]
    }
   ],
   "source": [
    "a = np.array([[np.nan, 4], [2, 3]])\n",
    "print(np.argmin(a))\n",
    "print(np.nanargmin(a))\n",
    "print(np.nanargmin(a, axis=0))\n",
    "print(np.nanargmin(a, axis=1))"
   ]
  },
  {
   "cell_type": "markdown",
   "id": "695a9ca6",
   "metadata": {},
   "source": [
    "# nancumprod\n",
    "- Return the cumulative product of array elements over a given axis treating Not a Numbers (NaNs) as one. The cumulative product does not change when NaNs are encountered and leading NaNs are replaced by ones.\n",
    "- Ones are returned for slices that are all-NaN or empty."
   ]
  },
  {
   "cell_type": "code",
   "execution_count": 454,
   "id": "16caa91f",
   "metadata": {},
   "outputs": [
    {
     "name": "stdout",
     "output_type": "stream",
     "text": [
      "[1]\n",
      "[1]\n",
      "[1. 1.]\n",
      "[1. 2. 6. 6.]\n",
      "[[1. 2.]\n",
      " [3. 2.]]\n",
      "[[1. 2.]\n",
      " [3. 3.]]\n"
     ]
    }
   ],
   "source": [
    "print(np.nancumprod(1))\n",
    "print(np.nancumprod([1]))\n",
    "print(np.nancumprod([1, np.nan]))\n",
    "a = np.array([[1, 2], [3, np.nan]])\n",
    "print(np.nancumprod(a))\n",
    "print(np.nancumprod(a, axis=0))\n",
    "print(np.nancumprod(a, axis=1))"
   ]
  },
  {
   "cell_type": "markdown",
   "id": "3138a8e2",
   "metadata": {},
   "source": [
    "# nancumsum\n",
    "- Return the cumulative sum of array elements over a given axis treating Not a Numbers (NaNs) as zero. The cumulative sum does not change when NaNs are encountered and leading NaNs are replaced by zeros.\n",
    "- Zeros are returned for slices that are all-NaN or empty."
   ]
  },
  {
   "cell_type": "code",
   "execution_count": 455,
   "id": "a5603f05",
   "metadata": {},
   "outputs": [
    {
     "name": "stdout",
     "output_type": "stream",
     "text": [
      "[1]\n",
      "[1]\n",
      "[1. 1.]\n",
      "[1. 3. 6. 6.]\n",
      "[[1. 2.]\n",
      " [4. 2.]]\n",
      "[[1. 3.]\n",
      " [3. 3.]]\n"
     ]
    }
   ],
   "source": [
    "print(np.nancumsum(1))\n",
    "print(np.nancumsum([1]))\n",
    "print(np.nancumsum([1, np.nan]))\n",
    "a = np.array([[1, 2], [3, np.nan]])\n",
    "print(np.nancumsum(a))\n",
    "print(np.nancumsum(a, axis=0))\n",
    "print(np.nancumsum(a, axis=1))"
   ]
  },
  {
   "cell_type": "markdown",
   "id": "6fc384a9",
   "metadata": {},
   "source": [
    "# nanmax\n",
    "- Return the maximum of an array or maximum along an axis, ignoring any NaNs. When all-NaN slices are encountered a RuntimeWarning is raised and NaN is returned for that slice."
   ]
  },
  {
   "cell_type": "code",
   "execution_count": 456,
   "id": "566a724a",
   "metadata": {},
   "outputs": [
    {
     "name": "stdout",
     "output_type": "stream",
     "text": [
      "3.0\n",
      "[3. 2.]\n",
      "[2. 3.]\n",
      "2.0\n",
      "inf\n"
     ]
    }
   ],
   "source": [
    "a = np.array([[1, 2], [3, np.nan]])\n",
    "print(np.nanmax(a))\n",
    "print(np.nanmax(a, axis=0))\n",
    "print(np.nanmax(a, axis=1))\n",
    "print(np.nanmax([1, 2, np.nan, -np.inf]))\n",
    "print(np.nanmax([1, 2, np.nan, np.inf]))"
   ]
  },
  {
   "cell_type": "markdown",
   "id": "41a9ee73",
   "metadata": {},
   "source": [
    "# nanmean\n",
    "- Compute the arithmetic mean along the specified axis, ignoring NaNs.\n",
    "- Returns the average of the array elements. The average is taken over the flattened array by default, otherwise over the specified axis. float64 intermediate and return values are used for integer inputs.\n",
    "- For all-NaN slices, NaN is returned and a RuntimeWarning is raised."
   ]
  },
  {
   "cell_type": "code",
   "execution_count": 457,
   "id": "01aa2844",
   "metadata": {},
   "outputs": [
    {
     "name": "stdout",
     "output_type": "stream",
     "text": [
      "2.6666666666666665\n",
      "[2. 4.]\n",
      "[1.  3.5]\n"
     ]
    }
   ],
   "source": [
    "a = np.array([[1, np.nan], [3, 4]])\n",
    "print(np.nanmean(a))\n",
    "print(np.nanmean(a, axis=0))\n",
    "print(np.nanmean(a, axis=1))"
   ]
  },
  {
   "cell_type": "markdown",
   "id": "86d76596",
   "metadata": {},
   "source": [
    "# nanmedian\n",
    "- Compute the median along the specified axis, while ignoring NaNs.\n",
    "- Returns the median of the array elements."
   ]
  },
  {
   "cell_type": "code",
   "execution_count": 459,
   "id": "1bace292",
   "metadata": {},
   "outputs": [
    {
     "name": "stdout",
     "output_type": "stream",
     "text": [
      "[[10. nan  4.]\n",
      " [ 3.  2.  1.]]\n",
      "nan\n",
      "3.0\n",
      "[6.5 2.  2.5]\n",
      "[nan  2.]\n",
      "[7. 2.]\n",
      "3.0\n"
     ]
    }
   ],
   "source": [
    "a = np.array([[10.0, 7, 4], [3, 2, 1]])\n",
    "a[0, 1] = np.nan\n",
    "print(a)\n",
    "print(np.median(a))\n",
    "print(np.nanmedian(a))\n",
    "print(np.nanmedian(a, axis=0))\n",
    "print(np.median(a, axis=1))\n",
    "b = a.copy()\n",
    "print(np.nanmedian(b, axis=1, overwrite_input=True))\n",
    "assert not np.all(a==b)\n",
    "b = a.copy()\n",
    "print(np.nanmedian(b, axis=None, overwrite_input=True))\n",
    "assert not np.all(a==b)"
   ]
  },
  {
   "cell_type": "markdown",
   "id": "c69f9604",
   "metadata": {},
   "source": [
    "# nanmin\n",
    "- Return minimum of an array or minimum along an axis, ignoring any NaNs. When all-NaN slices are encountered a RuntimeWarning is raised and Nan is returned for that slice."
   ]
  },
  {
   "cell_type": "code",
   "execution_count": 460,
   "id": "4b4f12f1",
   "metadata": {},
   "outputs": [
    {
     "name": "stdout",
     "output_type": "stream",
     "text": [
      "1.0\n",
      "[1. 2.]\n",
      "[1. 3.]\n",
      "1.0\n",
      "-inf\n"
     ]
    }
   ],
   "source": [
    "a = np.array([[1, 2], [3, np.nan]])\n",
    "print(np.nanmin(a))\n",
    "print(np.nanmin(a, axis=0))\n",
    "print(np.nanmin(a, axis=1))\n",
    "print(np.nanmin([1, 2, np.nan, np.inf]))\n",
    "print(np.nanmin([1, 2, np.nan, -np.inf]))"
   ]
  },
  {
   "cell_type": "markdown",
   "id": "c401ccba",
   "metadata": {},
   "source": [
    "# nanpercentile\n",
    "- Compute the qth percentile of the data along the specified axis, while ignoring nan values.\n",
    "- Returns the qth percentile(s) of the array elements."
   ]
  },
  {
   "cell_type": "code",
   "execution_count": 461,
   "id": "738c4548",
   "metadata": {},
   "outputs": [
    {
     "name": "stdout",
     "output_type": "stream",
     "text": [
      "[[10. nan  4.]\n",
      " [ 3.  2.  1.]]\n",
      "nan\n",
      "3.0\n",
      "[6.5 2.  2.5]\n",
      "[[7.]\n",
      " [2.]]\n",
      "[6.5 2.  2.5]\n",
      "[6.5 2.  2.5]\n",
      "[7. 2.]\n"
     ]
    }
   ],
   "source": [
    "a = np.array([[10., 7., 4.], [3., 2., 1.]])\n",
    "a[0][1] = np.nan\n",
    "print(a)\n",
    "print(np.percentile(a, 50))\n",
    "print(np.nanpercentile(a, 50))\n",
    "print(np.nanpercentile(a, 50, axis=0))\n",
    "print(np.nanpercentile(a, 50, axis=1, keepdims=True))\n",
    "m = np.nanpercentile(a, 50, axis=0)\n",
    "out = np.zeros_like(m)\n",
    "print(np.nanpercentile(a, 50, axis=0, out=out))\n",
    "print(m)\n",
    "b = a.copy()\n",
    "print(np.nanpercentile(b, 50, axis=1, overwrite_input=True))\n",
    "assert not np.all(a==b)"
   ]
  },
  {
   "cell_type": "markdown",
   "id": "7cc75852",
   "metadata": {},
   "source": [
    "# nanprod\n",
    "- Return the product of array elements over a given axis treating Not a Numbers (NaNs) as ones.\n",
    "- One is returned for slices that are all-NaN or empty."
   ]
  },
  {
   "cell_type": "code",
   "execution_count": 462,
   "id": "31826656",
   "metadata": {},
   "outputs": [
    {
     "name": "stdout",
     "output_type": "stream",
     "text": [
      "1\n",
      "1\n",
      "1.0\n",
      "6.0\n",
      "[3. 2.]\n"
     ]
    }
   ],
   "source": [
    "print(np.nanprod(1))\n",
    "print(np.nanprod([1]))\n",
    "print(np.nanprod([1, np.nan]))\n",
    "a = np.array([[1, 2], [3, np.nan]])\n",
    "print(np.nanprod(a))\n",
    "print(np.nanprod(a, axis=0))"
   ]
  },
  {
   "cell_type": "markdown",
   "id": "61df3282",
   "metadata": {},
   "source": [
    "# nanquantile\n",
    "- Compute the qth quantile of the data along the specified axis, while ignoring nan values. Returns the qth quantile(s) of the array elements."
   ]
  },
  {
   "cell_type": "code",
   "execution_count": 463,
   "id": "79a947b9",
   "metadata": {},
   "outputs": [
    {
     "name": "stdout",
     "output_type": "stream",
     "text": [
      "[[10. nan  4.]\n",
      " [ 3.  2.  1.]]\n",
      "nan\n",
      "3.0\n",
      "[6.5 2.  2.5]\n",
      "[[7.]\n",
      " [2.]]\n",
      "[6.5 2.  2.5]\n",
      "[6.5 2.  2.5]\n",
      "[7. 2.]\n"
     ]
    }
   ],
   "source": [
    "a = np.array([[10., 7., 4.], [3., 2., 1.]])\n",
    "a[0][1] = np.nan\n",
    "print(a)\n",
    "print(np.quantile(a, 0.5))\n",
    "print(np.nanquantile(a, 0.5))\n",
    "print(np.nanquantile(a, 0.5, axis=0))\n",
    "print(np.nanquantile(a, 0.5, axis=1, keepdims=True))\n",
    "m = np.nanquantile(a, 0.5, axis=0)\n",
    "out = np.zeros_like(m)\n",
    "print(np.nanquantile(a, 0.5, axis=0, out=out))\n",
    "print(m)\n",
    "b = a.copy()\n",
    "print(np.nanquantile(b, 0.5, axis=1, overwrite_input=True))\n",
    "assert not np.all(a==b)"
   ]
  },
  {
   "cell_type": "markdown",
   "id": "d6ad9994",
   "metadata": {},
   "source": [
    "# nanstd\n",
    "- Compute the standard deviation along the specified axis, while ignoring NaNs.\n",
    "- Returns the standard deviation, a measure of the spread of a distribution, of the non-NaN array elements. The standard deviation is computed for the flattened array by default, otherwise over the specified axis.\n",
    "- For all-NaN slices or slices with zero degrees of freedom, NaN is returned and a RuntimeWarning is raised."
   ]
  },
  {
   "cell_type": "code",
   "execution_count": 464,
   "id": "e815b62c",
   "metadata": {},
   "outputs": [
    {
     "name": "stdout",
     "output_type": "stream",
     "text": [
      "1.247219128924647\n",
      "[1. 0.]\n",
      "[0.  0.5]\n"
     ]
    }
   ],
   "source": [
    "a = np.array([[1, np.nan], [3, 4]])\n",
    "print(np.nanstd(a))\n",
    "print(np.nanstd(a, axis=0))\n",
    "print(np.nanstd(a, axis=1))"
   ]
  },
  {
   "cell_type": "markdown",
   "id": "92a0ca1b",
   "metadata": {},
   "source": [
    "# nansum\n",
    "- Return the sum of array elements over a given axis treating Not a Numbers (NaNs) as zero."
   ]
  },
  {
   "cell_type": "code",
   "execution_count": 465,
   "id": "7e07c9d1",
   "metadata": {},
   "outputs": [
    {
     "name": "stdout",
     "output_type": "stream",
     "text": [
      "1\n",
      "1\n",
      "1.0\n",
      "3.0\n",
      "[2. 1.]\n",
      "inf\n",
      "-inf\n",
      "nan\n"
     ]
    }
   ],
   "source": [
    "print(np.nansum(1))\n",
    "print(np.nansum([1]))\n",
    "print(np.nansum([1, np.nan]))\n",
    "a = np.array([[1, 1], [1, np.nan]])\n",
    "print(np.nansum(a))\n",
    "print(np.nansum(a, axis=0))\n",
    "print(np.nansum([1, np.nan, np.inf]))\n",
    "print(np.nansum([1, np.nan, -np.inf]))\n",
    "from numpy.testing import suppress_warnings\n",
    "with np.errstate(invalid=\"ignore\"):\n",
    "    print(np.nansum([1, np.nan, np.inf, -np.inf])) # both +/- infinity present"
   ]
  },
  {
   "cell_type": "markdown",
   "id": "c1314660",
   "metadata": {},
   "source": [
    "# nanvar\n",
    "- Compute the variance along the specified axis, while ignoring NaNs.\n",
    "- Returns the variance of the array elements, a measure of the spread of a distribution. The variance is computed for the flattened array by default, otherwise over the specified axis.\n",
    "- For all-NaN slices or slices with zero degrees of freedom, NaN is returned and a RuntimeWarning is raised."
   ]
  },
  {
   "cell_type": "code",
   "execution_count": 466,
   "id": "9e76c643",
   "metadata": {},
   "outputs": [
    {
     "name": "stdout",
     "output_type": "stream",
     "text": [
      "1.5555555555555554\n",
      "[1. 0.]\n",
      "[0.   0.25]\n"
     ]
    }
   ],
   "source": [
    "a = np.array([[1, np.nan], [3, 4]])\n",
    "print(np.nanvar(a))\n",
    "print(np.nanvar(a, axis=0))\n",
    "print(np.nanvar(a, axis=1))"
   ]
  },
  {
   "cell_type": "markdown",
   "id": "cefca412",
   "metadata": {},
   "source": [
    "# ndarray\n",
    "- An array object represents a multidimensional, homogeneous array of fixed-size items. An associated data-type object describes the format of each element in the array (its byte-order, how many bytes it occupies in memory, whether it is an integer, a floating point number, or something else, etc.)\n",
    "- Arrays should be constructed using array, zeros or empty (refer to the See Also section below). The parameters given here refer to a low-level method (ndarray(…)) for instantiating an array.\n",
    "- For more information, refer to the numpy module and examine the methods and attributes of an array.\n",
    "# Notes: use array instead"
   ]
  },
  {
   "cell_type": "code",
   "execution_count": 468,
   "id": "bff183d1",
   "metadata": {},
   "outputs": [
    {
     "name": "stdout",
     "output_type": "stream",
     "text": [
      "[[0.   0.25]\n",
      " [0.   0.25]]\n",
      "[2 3]\n"
     ]
    }
   ],
   "source": [
    "print(np.ndarray(shape=(2,2), dtype=float, order='F'))\n",
    "print(np.ndarray((2,), buffer=np.array([1,2,3]),\n",
    "           offset=np.int_().itemsize,\n",
    "           dtype=int)) # offset = 1*itemsize, i.e. skip first element)"
   ]
  },
  {
   "cell_type": "markdown",
   "id": "df7f4818",
   "metadata": {},
   "source": [
    "# ndenumerate\n",
    "- Multidimensional index iterator.\n",
    "- Return an iterator yielding pairs of array coordinates and values.\n",
    "- Purpose: ndenumerate is designed for iterating over multi-dimensional arrays when you need both the coordinates (index tuple) and the value of each element."
   ]
  },
  {
   "cell_type": "code",
   "execution_count": 469,
   "id": "f72d6a64",
   "metadata": {},
   "outputs": [
    {
     "name": "stdout",
     "output_type": "stream",
     "text": [
      "(0, 0) 1\n",
      "(0, 1) 2\n",
      "(1, 0) 3\n",
      "(1, 1) 4\n"
     ]
    }
   ],
   "source": [
    "a = np.array([[1, 2], [3, 4]])\n",
    "for index, x in np.ndenumerate(a):\n",
    "    print(index, x)"
   ]
  },
  {
   "cell_type": "markdown",
   "id": "3203b52e",
   "metadata": {},
   "source": [
    "# ndim\n",
    "- Return the number of dimensions of an array."
   ]
  },
  {
   "cell_type": "code",
   "execution_count": 470,
   "id": "aaaef66a",
   "metadata": {},
   "outputs": [
    {
     "name": "stdout",
     "output_type": "stream",
     "text": [
      "2\n",
      "2\n",
      "0\n"
     ]
    }
   ],
   "source": [
    "print(np.ndim([[1,2,3],[4,5,6]]))\n",
    "print(np.ndim(np.array([[1,2,3],[4,5,6]])))\n",
    "print(np.ndim(1))"
   ]
  },
  {
   "cell_type": "markdown",
   "id": "8bb0c55e",
   "metadata": {},
   "source": [
    "# ndindex\n",
    "- An N-dimensional iterator object to index arrays.\n",
    "- Given the shape of an array, an ndindex instance iterates over the N-dimensional index of the array. At each iteration a tuple of indices is returned, the last dimension is iterated over first."
   ]
  },
  {
   "cell_type": "code",
   "execution_count": 471,
   "id": "16559ce5",
   "metadata": {},
   "outputs": [
    {
     "name": "stdout",
     "output_type": "stream",
     "text": [
      "(0, 0, 0)\n",
      "(0, 1, 0)\n",
      "(1, 0, 0)\n",
      "(1, 1, 0)\n",
      "(2, 0, 0)\n",
      "(2, 1, 0)\n",
      "(0, 0, 0)\n",
      "(0, 1, 0)\n",
      "(1, 0, 0)\n",
      "(1, 1, 0)\n",
      "(2, 0, 0)\n",
      "(2, 1, 0)\n"
     ]
    }
   ],
   "source": [
    "for index in np.ndindex(3, 2, 1):\n",
    "    print(index)\n",
    "for index in np.ndindex((3, 2, 1)):\n",
    "    print(index)"
   ]
  },
  {
   "cell_type": "markdown",
   "id": "7bf4c874",
   "metadata": {},
   "source": [
    "# nditer\n",
    "- Efficient multi-dimensional iterator object to iterate over arrays."
   ]
  },
  {
   "cell_type": "code",
   "execution_count": 472,
   "id": "e4c6485e",
   "metadata": {},
   "outputs": [
    {
     "name": "stdout",
     "output_type": "stream",
     "text": [
      "1 2 3 4 5 6 "
     ]
    }
   ],
   "source": [
    "arr = np.array([[1, 2, 3], [4, 5, 6]])\n",
    "\n",
    "# Basic iteration over all elements\n",
    "for x in np.nditer(arr):\n",
    "    print(x, end=' ')"
   ]
  },
  {
   "cell_type": "markdown",
   "id": "3b87454a",
   "metadata": {},
   "source": [
    "# negative\n",
    "- Numerical negative, element-wise."
   ]
  },
  {
   "cell_type": "code",
   "execution_count": 473,
   "id": "780eab39",
   "metadata": {},
   "outputs": [
    {
     "data": {
      "text/plain": [
       "array([-1.,  1.])"
      ]
     },
     "execution_count": 473,
     "metadata": {},
     "output_type": "execute_result"
    }
   ],
   "source": [
    "np.negative([1.,-1.])"
   ]
  },
  {
   "cell_type": "markdown",
   "id": "d8e24bff",
   "metadata": {},
   "source": [
    "# nested_iters\n",
    "- Create nditers for use in nested loops\n",
    "- Create a tuple of nditer objects which iterate in nested loops over different axes of the op argument. The first iterator is used in the outermost loop, the last in the innermost loop. Advancing one will change the subsequent iterators to point at its new element."
   ]
  },
  {
   "cell_type": "code",
   "execution_count": 474,
   "id": "ac4ecf6e",
   "metadata": {},
   "outputs": [
    {
     "name": "stdout",
     "output_type": "stream",
     "text": [
      "(0,)\n",
      " (0, 0) 0\n",
      " (0, 1) 1\n",
      " (1, 0) 6\n",
      " (1, 1) 7\n",
      "(1,)\n",
      " (0, 0) 2\n",
      " (0, 1) 3\n",
      " (1, 0) 8\n",
      " (1, 1) 9\n",
      "(2,)\n",
      " (0, 0) 4\n",
      " (0, 1) 5\n",
      " (1, 0) 10\n",
      " (1, 1) 11\n"
     ]
    }
   ],
   "source": [
    "a = np.arange(12).reshape(2, 3, 2)\n",
    "i, j = np.nested_iters(a, [[1], [0, 2]], flags=[\"multi_index\"])\n",
    "for x in i:\n",
    "     print(i.multi_index)\n",
    "     for y in j:\n",
    "         print('', j.multi_index, y)"
   ]
  },
  {
   "cell_type": "markdown",
   "id": "1822914e",
   "metadata": {},
   "source": [
    "# newaxis\n",
    "- A convenient alias for None, useful for indexing arrays."
   ]
  },
  {
   "cell_type": "code",
   "execution_count": 475,
   "id": "ab167be9",
   "metadata": {},
   "outputs": [
    {
     "name": "stdout",
     "output_type": "stream",
     "text": [
      "True\n",
      "[[0]\n",
      " [1]\n",
      " [2]]\n"
     ]
    }
   ],
   "source": [
    "print(np.newaxis is None)\n",
    "x = np.arange(3)\n",
    "print(x[:, np.newaxis])"
   ]
  },
  {
   "cell_type": "markdown",
   "id": "30af6c93",
   "metadata": {},
   "source": [
    "# nextafter\n",
    "- Return the next floating-point value after x1 towards x2, element-wise."
   ]
  },
  {
   "cell_type": "code",
   "execution_count": 477,
   "id": "cd2967d4",
   "metadata": {},
   "outputs": [
    {
     "name": "stdout",
     "output_type": "stream",
     "text": [
      "True\n",
      "[ True  True]\n",
      "10.000000000000002\n"
     ]
    }
   ],
   "source": [
    "eps = np.finfo(np.float64).eps\n",
    "print(np.nextafter(1, 2) == eps + 1)\n",
    "print(np.nextafter([1, 2], [2, 1]) == [eps + 1, 2 - eps])\n",
    "print(np.nextafter(10, 20))"
   ]
  },
  {
   "cell_type": "markdown",
   "id": "56c66a9d",
   "metadata": {},
   "source": [
    "# nonzero\n",
    "- Return the indices of the elements that are non-zero.\n",
    "- Returns a tuple of arrays, one for each dimension of a, containing the indices of the non-zero elements in that dimension. The values in a are always tested and returned in row-major, C-style order.\n",
    "- To group the indices by element, rather than dimension, use argwhere, which returns a row for each non-zero element."
   ]
  },
  {
   "cell_type": "code",
   "execution_count": 478,
   "id": "a40ad239",
   "metadata": {},
   "outputs": [
    {
     "name": "stdout",
     "output_type": "stream",
     "text": [
      "(array([0, 1, 2, 2]), array([0, 1, 0, 1]))\n"
     ]
    }
   ],
   "source": [
    "x = np.array([[3, 0, 0], [0, 4, 0], [5, 6, 0]])\n",
    "print(np.nonzero(x))"
   ]
  },
  {
   "cell_type": "markdown",
   "id": "182f5018",
   "metadata": {},
   "source": [
    "# not_equal\n",
    "- Return (x1 != x2) element-wise."
   ]
  },
  {
   "cell_type": "code",
   "execution_count": 479,
   "id": "035bf97e",
   "metadata": {},
   "outputs": [
    {
     "name": "stdout",
     "output_type": "stream",
     "text": [
      "[False  True]\n",
      "[[False  True]\n",
      " [False  True]]\n"
     ]
    }
   ],
   "source": [
    "print(np.not_equal([1.,2.], [1., 3.]))\n",
    "print(np.not_equal([1, 2], [[1, 3],[1, 4]]))"
   ]
  },
  {
   "cell_type": "markdown",
   "id": "27ea49b3",
   "metadata": {},
   "source": [
    "# ogrid\n",
    "- An instance which returns an open multi-dimensional “meshgrid”.\n",
    "- An instance which returns an open (i.e. not fleshed out) mesh-grid when indexed, so that only one dimension of each returned array is greater than 1. The dimension and number of the output arrays are equal to the number of indexing dimensions. If the step length is not a complex number, then the stop is not inclusive.\n",
    "- However, if the step length is a complex number (e.g. 5j), then the integer part of its magnitude is interpreted as specifying the number of points to create between the start and stop values, where the stop value is inclusive."
   ]
  },
  {
   "cell_type": "code",
   "execution_count": 481,
   "id": "e51982e3",
   "metadata": {},
   "outputs": [
    {
     "name": "stdout",
     "output_type": "stream",
     "text": [
      "[-1.  -0.5  0.   0.5  1. ]\n",
      "(array([[0],\n",
      "       [1],\n",
      "       [2],\n",
      "       [3],\n",
      "       [4]]), array([[0, 1, 2, 3, 4]]))\n"
     ]
    }
   ],
   "source": [
    "print(np.ogrid[-1:1:5j])\n",
    "print(np.ogrid[0:5, 0:5])"
   ]
  },
  {
   "cell_type": "markdown",
   "id": "38835a62",
   "metadata": {},
   "source": [
    "# ones\n",
    "- Return a new array of given shape and type, filled with ones."
   ]
  },
  {
   "cell_type": "code",
   "execution_count": 482,
   "id": "419d9faf",
   "metadata": {},
   "outputs": [
    {
     "name": "stdout",
     "output_type": "stream",
     "text": [
      "[1. 1. 1. 1. 1.]\n",
      "[1 1 1 1 1]\n",
      "[[1. 1.]\n",
      " [1. 1.]]\n"
     ]
    }
   ],
   "source": [
    "print(np.ones(5))\n",
    "print(np.ones((5,), dtype=int))\n",
    "s = (2,2)\n",
    "print(np.ones(s))"
   ]
  },
  {
   "cell_type": "markdown",
   "id": "b85a1d49",
   "metadata": {},
   "source": [
    "# ones_like\n",
    "- Return an array of ones with the same shape and type as a given array."
   ]
  },
  {
   "cell_type": "code",
   "execution_count": 483,
   "id": "7d86ca0f",
   "metadata": {},
   "outputs": [
    {
     "name": "stdout",
     "output_type": "stream",
     "text": [
      "[[1 1 1]\n",
      " [1 1 1]]\n",
      "[1. 1. 1.]\n"
     ]
    }
   ],
   "source": [
    "x = np.arange(6)\n",
    "x = x.reshape((2, 3))\n",
    "print(np.ones_like(x))\n",
    "y = np.arange(3, dtype=float)\n",
    "print(np.ones_like(y))"
   ]
  },
  {
   "cell_type": "markdown",
   "id": "5d30390a",
   "metadata": {},
   "source": [
    "# outer\n",
    "- Compute the outer product of two vectors.\n",
    "- Given two vectors a and b of length M and N, respectively, the outer product [1] is:"
   ]
  },
  {
   "cell_type": "code",
   "execution_count": 484,
   "id": "bb20c619",
   "metadata": {},
   "outputs": [
    {
     "name": "stdout",
     "output_type": "stream",
     "text": [
      "[[-2. -1.  0.  1.  2.]\n",
      " [-2. -1.  0.  1.  2.]\n",
      " [-2. -1.  0.  1.  2.]\n",
      " [-2. -1.  0.  1.  2.]\n",
      " [-2. -1.  0.  1.  2.]]\n",
      "[[0.+2.j 0.+2.j 0.+2.j 0.+2.j 0.+2.j]\n",
      " [0.+1.j 0.+1.j 0.+1.j 0.+1.j 0.+1.j]\n",
      " [0.+0.j 0.+0.j 0.+0.j 0.+0.j 0.+0.j]\n",
      " [0.-1.j 0.-1.j 0.-1.j 0.-1.j 0.-1.j]\n",
      " [0.-2.j 0.-2.j 0.-2.j 0.-2.j 0.-2.j]]\n",
      "[[-2.+2.j -1.+2.j  0.+2.j  1.+2.j  2.+2.j]\n",
      " [-2.+1.j -1.+1.j  0.+1.j  1.+1.j  2.+1.j]\n",
      " [-2.+0.j -1.+0.j  0.+0.j  1.+0.j  2.+0.j]\n",
      " [-2.-1.j -1.-1.j  0.-1.j  1.-1.j  2.-1.j]\n",
      " [-2.-2.j -1.-2.j  0.-2.j  1.-2.j  2.-2.j]]\n"
     ]
    }
   ],
   "source": [
    "rl = np.outer(np.ones((5,)), np.linspace(-2, 2, 5))\n",
    "print(rl)\n",
    "im = np.outer(1j*np.linspace(2, -2, 5), np.ones((5,)))\n",
    "print(im)\n",
    "grid = rl + im\n",
    "print(grid)"
   ]
  },
  {
   "cell_type": "markdown",
   "id": "4496d391",
   "metadata": {},
   "source": [
    "# packbits\n",
    "- Packs the elements of a binary-valued array into bits in a uint8 array.\n",
    "- The result is padded to full bytes by inserting zero bits at the end."
   ]
  },
  {
   "cell_type": "code",
   "execution_count": 485,
   "id": "672c0da4",
   "metadata": {},
   "outputs": [
    {
     "name": "stdout",
     "output_type": "stream",
     "text": [
      "[[[160]\n",
      "  [ 64]]\n",
      "\n",
      " [[192]\n",
      "  [ 32]]]\n"
     ]
    }
   ],
   "source": [
    "a = np.array([[[1,0,1],\n",
    "               [0,1,0]],\n",
    "              [[1,1,0],\n",
    "               [0,0,1]]])\n",
    "b = np.packbits(a, axis=-1)\n",
    "print(b)"
   ]
  },
  {
   "cell_type": "markdown",
   "id": "b08ba2a1",
   "metadata": {},
   "source": [
    "# pad\n",
    "- Pad an array."
   ]
  },
  {
   "cell_type": "code",
   "execution_count": 486,
   "id": "8723299a",
   "metadata": {},
   "outputs": [
    {
     "name": "stdout",
     "output_type": "stream",
     "text": [
      "[4 4 1 2 3 4 5 6 6 6]\n",
      "[1 1 1 2 3 4 5 5 5 5]\n",
      "[ 5  3  1  2  3  4  5  2 -1 -4]\n",
      "[5 5 1 2 3 4 5 5 5]\n",
      "[3 3 1 2 3 4 5 3 3]\n",
      "[3 3 1 2 3 4 5 3 3]\n",
      "[[1 1 1 2 1 1 1]\n",
      " [1 1 1 2 1 1 1]\n",
      " [1 1 1 2 1 1 1]\n",
      " [1 1 1 2 1 1 1]\n",
      " [3 3 3 4 3 3 3]\n",
      " [1 1 1 2 1 1 1]\n",
      " [1 1 1 2 1 1 1]]\n",
      "[3 2 1 2 3 4 5 4 3 2]\n",
      "[-1  0  1  2  3  4  5  6  7  8]\n",
      "[2 1 1 2 3 4 5 5 4 3]\n",
      "[0 1 1 2 3 4 5 5 6 7]\n",
      "[4 5 1 2 3 4 5 1 2 3]\n",
      "[[10 10 10 10 10 10 10]\n",
      " [10 10 10 10 10 10 10]\n",
      " [10 10  0  1  2 10 10]\n",
      " [10 10  3  4  5 10 10]\n",
      " [10 10 10 10 10 10 10]\n",
      " [10 10 10 10 10 10 10]]\n",
      "[[100 100 100 100 100 100 100]\n",
      " [100 100 100 100 100 100 100]\n",
      " [100 100   0   1   2 100 100]\n",
      " [100 100   3   4   5 100 100]\n",
      " [100 100 100 100 100 100 100]\n",
      " [100 100 100 100 100 100 100]]\n"
     ]
    }
   ],
   "source": [
    "a = [1, 2, 3, 4, 5]\n",
    "print(np.pad(a, (2, 3), 'constant', constant_values=(4, 6)))\n",
    "print(np.pad(a, (2, 3), 'edge'))\n",
    "print(np.pad(a, (2, 3), 'linear_ramp', end_values=(5, -4)))\n",
    "print(np.pad(a, (2,), 'maximum'))\n",
    "print(np.pad(a, (2,), 'mean'))\n",
    "print(np.pad(a, (2,), 'median'))\n",
    "a = [[1, 2], [3, 4]]\n",
    "print(np.pad(a, ((3, 2), (2, 3)), 'minimum'))\n",
    "a = [1, 2, 3, 4, 5]\n",
    "print(np.pad(a, (2, 3), 'reflect'))\n",
    "print(np.pad(a, (2, 3), 'reflect', reflect_type='odd'))\n",
    "print(np.pad(a, (2, 3), 'symmetric'))\n",
    "print(np.pad(a, (2, 3), 'symmetric', reflect_type='odd'))\n",
    "print(np.pad(a, (2, 3), 'wrap'))\n",
    "def pad_with(vector, pad_width, iaxis, kwargs):\n",
    "    pad_value = kwargs.get('padder', 10)\n",
    "    vector[:pad_width[0]] = pad_value\n",
    "    vector[-pad_width[1]:] = pad_value\n",
    "a = np.arange(6)\n",
    "a = a.reshape((2, 3))\n",
    "print(np.pad(a, 2, pad_with))\n",
    "print(np.pad(a, 2, pad_with, padder=100))"
   ]
  },
  {
   "cell_type": "markdown",
   "id": "3fe9f61d",
   "metadata": {},
   "source": [
    "# partition\n",
    "- Return a partitioned copy of an array.\n",
    "- Creates a copy of the array and partially sorts it in such a way that the value of the element in k-th position is in the position it would be in a sorted array. In the output array, all elements smaller than the k-th element are located to the left of this element and all equal or greater are located to its right. The ordering of the elements in the two partitions on the either side of the k-th element in the output array is undefined."
   ]
  },
  {
   "cell_type": "code",
   "execution_count": 487,
   "id": "2102a202",
   "metadata": {},
   "outputs": [
    {
     "name": "stdout",
     "output_type": "stream",
     "text": [
      "[0 1 1 2 2 2 3 3 5 6 7 7 7 7]\n",
      "[0 1 2 1 2 3 3 2 5 6 7 7 7 7]\n"
     ]
    }
   ],
   "source": [
    "a = np.array([7, 1, 7, 7, 1, 5, 7, 2, 3, 2, 6, 2, 3, 0])\n",
    "p = np.partition(a, 4)\n",
    "print(p)\n",
    "p2 = np.partition(a, (4, 8))\n",
    "print(p2)"
   ]
  },
  {
   "cell_type": "markdown",
   "id": "527b97b1",
   "metadata": {},
   "source": [
    "# percentile\n",
    "- Compute the q-th percentile of the data along the specified axis.\n",
    "- Returns the q-th percentile(s) of the array elements."
   ]
  },
  {
   "cell_type": "code",
   "execution_count": 490,
   "id": "f30494d3",
   "metadata": {},
   "outputs": [
    {
     "name": "stdout",
     "output_type": "stream",
     "text": [
      "2.25\n",
      "[6.5 4.5 2.5]\n",
      "[8.5 2.5]\n",
      "[[7.]\n",
      " [2.]]\n"
     ]
    }
   ],
   "source": [
    "a = np.array([[10, 7, 4], [3, 2, 1]])\n",
    "print(np.percentile(a, 25))\n",
    "print(np.percentile(a, 50, axis=0))\n",
    "print(np.percentile(a, 75, axis=1))\n",
    "print(np.percentile(a, 50, axis=1, keepdims=True))"
   ]
  },
  {
   "cell_type": "markdown",
   "id": "29a6c6d6",
   "metadata": {},
   "source": [
    "# permute_dims\n",
    "- Returns an array with axes transposed.\n",
    "- For a 1-D array, this returns an unchanged view of the original array, as a transposed vector is simply the same vector. To convert a 1-D array into a 2-D column vector, an additional dimension must be added, e.g., np.atleast_2d(a).T achieves this, as does a[:, np.newaxis]. For a 2-D array, this is the standard matrix transpose. For an n-D array, if axes are given, their order indicates how the axes are permuted (see Examples). If axes are not provided, then transpose(a).shape == a.shape[::-1]."
   ]
  },
  {
   "cell_type": "code",
   "execution_count": 491,
   "id": "9b10f0bf",
   "metadata": {},
   "outputs": [
    {
     "data": {
      "text/plain": [
       "array([[1, 3],\n",
       "       [2, 4]])"
      ]
     },
     "execution_count": 491,
     "metadata": {},
     "output_type": "execute_result"
    }
   ],
   "source": [
    "import numpy as np\n",
    "a = np.array([[1, 2], [3, 4]])\n",
    "np.permute_dims(a)"
   ]
  },
  {
   "cell_type": "markdown",
   "id": "735410ee",
   "metadata": {},
   "source": [
    "# piecewise\n",
    "- Evaluate a piecewise-defined function.\n",
    "- Given a set of conditions and corresponding functions, evaluate each function on the input data wherever its condition is true."
   ]
  },
  {
   "cell_type": "code",
   "execution_count": 492,
   "id": "9ee4f7e8",
   "metadata": {},
   "outputs": [
    {
     "name": "stdout",
     "output_type": "stream",
     "text": [
      "[-1. -1. -1.  1.  1.  1.]\n",
      "[2.5 1.5 0.5 0.5 1.5 2.5]\n"
     ]
    }
   ],
   "source": [
    "x = np.linspace(-2.5, 2.5, 6)\n",
    "print(np.piecewise(x, [x < 0, x >= 0], [-1, 1]))\n",
    "print(np.piecewise(x, [x < 0, x >= 0], [lambda x: -x, lambda x: x]))"
   ]
  },
  {
   "cell_type": "markdown",
   "id": "68bc4f4c",
   "metadata": {},
   "source": [
    "# place\n",
    "- Change elements of an array based on conditional and input values.\n",
    "- Similar to np.copyto(arr, vals, where=mask), the difference is that place uses the first N elements of vals, where N is the number of True values in mask, while copyto uses the elements where mask is True.\n",
    "# Note that extract does the exact opposite of place."
   ]
  },
  {
   "cell_type": "code",
   "execution_count": 493,
   "id": "21e8fb16",
   "metadata": {},
   "outputs": [
    {
     "name": "stdout",
     "output_type": "stream",
     "text": [
      "[[ 0  1  2]\n",
      " [44 55 44]]\n"
     ]
    }
   ],
   "source": [
    "arr = np.arange(6).reshape(2, 3)\n",
    "np.place(arr, arr>2, [44, 55])\n",
    "print(arr)"
   ]
  },
  {
   "cell_type": "markdown",
   "id": "26c36bae",
   "metadata": {},
   "source": [
    "# poly\n",
    "- Find the coefficients of a polynomial with the given sequence of roots."
   ]
  },
  {
   "cell_type": "code",
   "execution_count": 494,
   "id": "152642bd",
   "metadata": {},
   "outputs": [
    {
     "name": "stdout",
     "output_type": "stream",
     "text": [
      "[1. 0. 0. 0.]\n",
      "[ 1.    0.   -0.25  0.  ]\n",
      "[ 1.    0.   -0.25  0.  ]\n",
      "[1.         0.         0.16666667]\n"
     ]
    }
   ],
   "source": [
    "print(np.poly((0, 0, 0))) # Multiple root example The line represents z**3 + 0*z**2 + 0*z + 0.\n",
    "print(np.poly((-1./2, 0, 1./2))) # The line represents z**3 - z/4\n",
    "print(np.poly((-1./2, 0, 1./2)))\n",
    "# Given a square array object:\n",
    "P = np.array([[0, 1./3], [-1./2, 0]])\n",
    "print(np.poly(P))"
   ]
  },
  {
   "cell_type": "markdown",
   "id": "b82eb21f",
   "metadata": {},
   "source": [
    "# poly1d\n",
    "- A one-dimensional polynomial class."
   ]
  },
  {
   "cell_type": "code",
   "execution_count": 495,
   "id": "4e4adddb",
   "metadata": {},
   "outputs": [
    {
     "name": "stdout",
     "output_type": "stream",
     "text": [
      "   2\n",
      "1 x + 2 x + 3\n",
      "4.25\n",
      "[-1.+1.41421356j -1.-1.41421356j]\n",
      "[4.4408921e-16+0.j 4.4408921e-16+0.j]\n",
      "[1 2 3]\n"
     ]
    }
   ],
   "source": [
    "p = np.poly1d([1, 2, 3])\n",
    "print(np.poly1d(p))\n",
    "print(p(0.5))\n",
    "print(p.r)\n",
    "print(p(p.r))\n",
    "print(p.c)"
   ]
  },
  {
   "cell_type": "markdown",
   "id": "ae8f558d",
   "metadata": {},
   "source": [
    "# polyadd\n",
    "- Find the sum of two polynomials."
   ]
  },
  {
   "cell_type": "code",
   "execution_count": 496,
   "id": "1318cee0",
   "metadata": {},
   "outputs": [
    {
     "name": "stdout",
     "output_type": "stream",
     "text": [
      "[9 6 6]\n"
     ]
    }
   ],
   "source": [
    "print(np.polyadd([1, 2], [9, 5, 4]))"
   ]
  },
  {
   "cell_type": "markdown",
   "id": "98fc0f45",
   "metadata": {},
   "source": [
    "# polyder"
   ]
  },
  {
   "cell_type": "code",
   "execution_count": 497,
   "id": "dfd84e17",
   "metadata": {},
   "outputs": [
    {
     "name": "stdout",
     "output_type": "stream",
     "text": [
      " \n",
      "1 x + 2\n",
      "   2\n",
      "9 x + 5 x + 4\n",
      "   2\n",
      "9 x + 6 x + 6\n"
     ]
    }
   ],
   "source": [
    "p1 = np.poly1d([1, 2])\n",
    "p2 = np.poly1d([9, 5, 4])\n",
    "print(p1)\n",
    "print(p2)\n",
    "print(np.polyadd(p1, p2))"
   ]
  },
  {
   "cell_type": "markdown",
   "id": "26cc5044",
   "metadata": {},
   "source": [
    "# polydiv\n",
    "- Returns the quotient and remainder of polynomial division."
   ]
  },
  {
   "cell_type": "code",
   "execution_count": 498,
   "id": "de0af243",
   "metadata": {},
   "outputs": [
    {
     "data": {
      "text/plain": [
       "(array([1.5 , 1.75]), array([0.25]))"
      ]
     },
     "execution_count": 498,
     "metadata": {},
     "output_type": "execute_result"
    }
   ],
   "source": [
    "x = np.array([3.0, 5.0, 2.0])\n",
    "y = np.array([2.0, 1.0])\n",
    "np.polydiv(x, y)"
   ]
  },
  {
   "cell_type": "markdown",
   "id": "ffe358f3",
   "metadata": {},
   "source": [
    "# polyfit\n",
    "- Least squares polynomial fit."
   ]
  },
  {
   "cell_type": "code",
   "execution_count": 500,
   "id": "04b49ada",
   "metadata": {},
   "outputs": [
    {
     "name": "stdout",
     "output_type": "stream",
     "text": [
      "[ 0.08703704 -0.81349206  1.69312169 -0.03968254]\n",
      "0.614384920634922\n",
      "-0.3473214285714268\n",
      "22.579365079364877\n"
     ]
    }
   ],
   "source": [
    "x = np.array([0.0, 1.0, 2.0, 3.0,  4.0,  5.0])\n",
    "y = np.array([0.0, 0.8, 0.9, 0.1, -0.8, -1.0])\n",
    "z = np.polyfit(x, y, 3)\n",
    "print(z)\n",
    "p = np.poly1d(z)\n",
    "print(p(0.5))\n",
    "print(p(3.5))\n",
    "print(p(10))"
   ]
  },
  {
   "cell_type": "markdown",
   "id": "b9ef441e",
   "metadata": {},
   "source": [
    "# polyint\n",
    "- Return an antiderivative (indefinite integral) of a polynomial."
   ]
  },
  {
   "cell_type": "code",
   "execution_count": 502,
   "id": "fdf71165",
   "metadata": {},
   "outputs": [
    {
     "name": "stdout",
     "output_type": "stream",
     "text": [
      "        3       2\n",
      "0.3333 x + 0.5 x + 1 x\n",
      "True\n",
      "0.0\n",
      "0.0\n",
      "0.0\n",
      "         5           4          3     2\n",
      "0.01667 x + 0.04167 x + 0.1667 x + 3 x + 5 x + 3\n"
     ]
    }
   ],
   "source": [
    "p = np.poly1d([1,1,1])\n",
    "P = np.polyint(p)\n",
    "print(P)\n",
    "print(np.polyder(P) == p)\n",
    "P = np.polyint(p, 3)\n",
    "print(P(0))\n",
    "print(np.polyder(P)(0))\n",
    "print(np.polyder(P, 2)(0))\n",
    "P = np.polyint(p, 3, k=[6,5,3])\n",
    "print(P)"
   ]
  },
  {
   "cell_type": "markdown",
   "id": "48a39d62",
   "metadata": {},
   "source": [
    "# polymul\n",
    "- Find the product of two polynomials."
   ]
  },
  {
   "cell_type": "code",
   "execution_count": 504,
   "id": "9622a7f3",
   "metadata": {},
   "outputs": [
    {
     "name": "stdout",
     "output_type": "stream",
     "text": [
      "[ 9 23 38 17  3]\n",
      "   2\n",
      "1 x + 2 x + 3\n",
      "   2\n",
      "9 x + 5 x + 1\n",
      "   4      3      2\n",
      "9 x + 23 x + 38 x + 17 x + 3\n"
     ]
    }
   ],
   "source": [
    "print(np.polymul([1, 2, 3], [9, 5, 1]))\n",
    "p1 = np.poly1d([1, 2, 3])\n",
    "p2 = np.poly1d([9, 5, 1])\n",
    "print(p1)\n",
    "print(p2)\n",
    "print(np.polymul(p1, p2))"
   ]
  },
  {
   "cell_type": "markdown",
   "id": "5d86e888",
   "metadata": {},
   "source": [
    "# polysub\n",
    "- Difference (subtraction) of two polynomials."
   ]
  },
  {
   "cell_type": "code",
   "execution_count": 505,
   "id": "cc610a61",
   "metadata": {},
   "outputs": [
    {
     "data": {
      "text/plain": [
       "array([-1,  0,  2])"
      ]
     },
     "execution_count": 505,
     "metadata": {},
     "output_type": "execute_result"
    }
   ],
   "source": [
    "np.polysub([2, 10, -2], [3, 10, -4])"
   ]
  },
  {
   "cell_type": "markdown",
   "id": "203a18c0",
   "metadata": {},
   "source": [
    "# polyval\n",
    "- Evaluate a polynomial at specific values."
   ]
  },
  {
   "cell_type": "code",
   "execution_count": 506,
   "id": "a078acb1",
   "metadata": {},
   "outputs": [
    {
     "name": "stdout",
     "output_type": "stream",
     "text": [
      "76\n",
      " \n",
      "76\n",
      "76\n",
      " \n",
      "76\n"
     ]
    }
   ],
   "source": [
    "print(np.polyval([3,0,1], 5))  # 3 * 5**2 + 0 * 5**1 + 1\n",
    "print(np.polyval([3,0,1], np.poly1d(5)))\n",
    "print(np.polyval(np.poly1d([3,0,1]), 5))\n",
    "print(np.polyval(np.poly1d([3,0,1]), np.poly1d(5)))"
   ]
  },
  {
   "cell_type": "markdown",
   "id": "463682d5",
   "metadata": {},
   "source": [
    "# positive\n",
    "- Numerical positive, element-wise."
   ]
  },
  {
   "cell_type": "code",
   "execution_count": 507,
   "id": "9d36e729",
   "metadata": {},
   "outputs": [
    {
     "data": {
      "text/plain": [
       "array([ -1,   3,  -4, -10])"
      ]
     },
     "execution_count": 507,
     "metadata": {},
     "output_type": "execute_result"
    }
   ],
   "source": [
    "np.positive(\n",
    "    [-1, 3, -4, -10]\n",
    ")"
   ]
  },
  {
   "cell_type": "markdown",
   "id": "5546436e",
   "metadata": {},
   "source": [
    "# pow\n",
    "- First array elements raised to powers from second array, element-wise.\n",
    "- Raise each base in x1 to the positionally-corresponding power in x2. x1 and x2 must be broadcastable to the same shape.\n",
    "- An integer type raised to a negative integer power will raise a ValueError.\n",
    "- Negative values raised to a non-integral value will return nan. To get complex results, cast the input to complex, or specify the dtype to be complex (see the example below)."
   ]
  },
  {
   "cell_type": "code",
   "execution_count": 509,
   "id": "48914e8e",
   "metadata": {},
   "outputs": [
    {
     "data": {
      "text/plain": [
       "array([  0,   1,   8,  27,  64, 125])"
      ]
     },
     "execution_count": 509,
     "metadata": {},
     "output_type": "execute_result"
    }
   ],
   "source": [
    "x1 = np.arange(6)\n",
    "np.pow(x1, 3)"
   ]
  },
  {
   "cell_type": "markdown",
   "id": "0d571836",
   "metadata": {},
   "source": [
    "# power\n",
    "- First array elements raised to powers from second array, element-wise.\n",
    "- Raise each base in x1 to the positionally-corresponding power in x2. x1 and x2 must be broadcastable to the same shape.\n",
    "- An integer type raised to a negative integer power will raise a ValueError.\n",
    "- Negative values raised to a non-integral value will return nan. To get complex results, cast the input to complex, or specify the dtype to be complex (see the example below)."
   ]
  },
  {
   "cell_type": "code",
   "execution_count": 510,
   "id": "89b954fe",
   "metadata": {},
   "outputs": [
    {
     "name": "stdout",
     "output_type": "stream",
     "text": [
      "True\n"
     ]
    },
    {
     "data": {
      "text/plain": [
       "array([  0,   1,   8,  27,  64, 125])"
      ]
     },
     "execution_count": 510,
     "metadata": {},
     "output_type": "execute_result"
    }
   ],
   "source": [
    "print(np.power is np.pow)\n",
    "x1 = np.arange(6)\n",
    "np.pow(x1, 3)"
   ]
  },
  {
   "cell_type": "markdown",
   "id": "23fcf2b4",
   "metadata": {},
   "source": [
    "# printoptions\n",
    "- Context manager for setting print options."
   ]
  },
  {
   "cell_type": "code",
   "execution_count": 513,
   "id": "dfcdbbc3",
   "metadata": {},
   "outputs": [
    {
     "name": "stdout",
     "output_type": "stream",
     "text": [
      "[0.67]\n"
     ]
    }
   ],
   "source": [
    "with np.printoptions(precision=2):\n",
    "    print(np.array([2.0]) / 3)"
   ]
  },
  {
   "cell_type": "markdown",
   "id": "7b29f63e",
   "metadata": {},
   "source": [
    "# prod\n",
    "- Return the product of array elements over a given axis."
   ]
  },
  {
   "cell_type": "code",
   "execution_count": 514,
   "id": "2707bd9b",
   "metadata": {},
   "outputs": [
    {
     "data": {
      "text/plain": [
       "np.float64(24.0)"
      ]
     },
     "execution_count": 514,
     "metadata": {},
     "output_type": "execute_result"
    }
   ],
   "source": [
    "a = np.array([[1., 2.], [3., 4.]])\n",
    "np.prod(a)"
   ]
  },
  {
   "cell_type": "markdown",
   "id": "8cae6d9b",
   "metadata": {},
   "source": [
    "# promote_types\n",
    "- Returns the data type with the smallest size and smallest scalar kind to which both type1 and type2 may be safely cast. The returned data type is always considered “canonical”, this mainly means that the promoted dtype will always be in native byte order.\n",
    "- This function is symmetric, but rarely associative."
   ]
  },
  {
   "cell_type": "code",
   "execution_count": 515,
   "id": "df534d27",
   "metadata": {},
   "outputs": [
    {
     "name": "stdout",
     "output_type": "stream",
     "text": [
      "float64\n",
      "float64\n",
      "complex128\n",
      "|S11\n"
     ]
    }
   ],
   "source": [
    "print(np.promote_types('f4', 'f8'))\n",
    "print(np.promote_types('i8', 'f4'))\n",
    "print(np.promote_types('>i8', '<c8'))\n",
    "print(np.promote_types('i4', 'S8'))"
   ]
  },
  {
   "cell_type": "markdown",
   "id": "d1fbae2d",
   "metadata": {},
   "source": [
    "# ptp\n",
    "- Range of values (maximum - minimum) along an axis.\n",
    "- The name of the function comes from the acronym for ‘peak to peak’."
   ]
  },
  {
   "cell_type": "code",
   "execution_count": 517,
   "id": "92b02ddb",
   "metadata": {},
   "outputs": [
    {
     "name": "stdout",
     "output_type": "stream",
     "text": [
      "[8 6]\n",
      "100\n"
     ]
    }
   ],
   "source": [
    "x = np.array([[4, 9, 2, 10],\n",
    "              [6, 9, 7, 12]])\n",
    "print(np.ptp(x, axis=1))\n",
    "print(np.ptp(\n",
    "    np.array([0, 1, 2, 3, 4, 100])\n",
    "))"
   ]
  },
  {
   "cell_type": "markdown",
   "id": "995c9792",
   "metadata": {},
   "source": [
    "# put\n",
    "- Replaces specified elements of an array with given values.\n",
    "- The indexing works on the flattened target array. put is roughly equivalent to:\n",
    "- a.flat[ind] = v"
   ]
  },
  {
   "cell_type": "code",
   "execution_count": 520,
   "id": "b024590f",
   "metadata": {},
   "outputs": [
    {
     "name": "stdout",
     "output_type": "stream",
     "text": [
      "[-44 -55 100   3   4]\n"
     ]
    }
   ],
   "source": [
    "a = np.arange(5)\n",
    "np.put(a, [0,1,2], [-44, -55, 100])\n",
    "print(a)"
   ]
  },
  {
   "cell_type": "markdown",
   "id": "813975ce",
   "metadata": {},
   "source": [
    "# put_along_axis\n",
    "- Put values into the destination array by matching 1d index and data slices.\n",
    "- This iterates over matching 1d slices oriented along the specified axis in the index and data arrays, and uses the former to place values into the latter. These slices can be different lengths.\n",
    "- Functions returning an index along an axis, like argsort and argpartition, produce suitable indices for this function."
   ]
  },
  {
   "cell_type": "code",
   "execution_count": 522,
   "id": "5276bcba",
   "metadata": {},
   "outputs": [
    {
     "name": "stdout",
     "output_type": "stream",
     "text": [
      "[[1]\n",
      " [0]]\n",
      "[[10 99 20]\n",
      " [99 40 50]]\n"
     ]
    }
   ],
   "source": [
    "a = np.array([[10, 30, 20], [60, 40, 50]])\n",
    "ai = np.argmax(a, axis=1, keepdims=True)\n",
    "print(ai)\n",
    "np.put_along_axis(a, ai, 99, axis=1)\n",
    "print(a)"
   ]
  },
  {
   "cell_type": "markdown",
   "id": "1a28cc6a",
   "metadata": {},
   "source": [
    "# putmask\n",
    "- Changes elements of an array based on conditional and input values.\n",
    "- Sets a.flat[n] = values[n] for each n where mask.flat[n]==True.\n",
    "- If values is not the same size as a and mask then it will repeat. This gives behavior different from a[mask] = values."
   ]
  },
  {
   "cell_type": "code",
   "execution_count": 523,
   "id": "7f5b261b",
   "metadata": {},
   "outputs": [
    {
     "name": "stdout",
     "output_type": "stream",
     "text": [
      "[[ 0  1  2]\n",
      " [ 9 16 25]]\n"
     ]
    }
   ],
   "source": [
    "x = np.arange(6).reshape(2, 3)\n",
    "np.putmask(x, x>2, x**2)\n",
    "print(x)"
   ]
  },
  {
   "cell_type": "markdown",
   "id": "114325fd",
   "metadata": {},
   "source": [
    "# quantile\n",
    "- Compute the q-th quantile of the data along the specified axis.\n",
    "# Note: nanquantile might be better if nan are allowed"
   ]
  },
  {
   "cell_type": "code",
   "execution_count": 524,
   "id": "f611d9e0",
   "metadata": {},
   "outputs": [
    {
     "name": "stdout",
     "output_type": "stream",
     "text": [
      "3.5\n",
      "[6.5 4.5 2.5]\n",
      "[7. 2.]\n",
      "[[7.]\n",
      " [2.]]\n",
      "[6.5 4.5 2.5]\n",
      "[7. 2.]\n"
     ]
    }
   ],
   "source": [
    "a = np.array([[10, 7, 4], [3, 2, 1]])\n",
    "print(np.quantile(a, 0.5))\n",
    "print(np.quantile(a, 0.5, axis=0))\n",
    "print(np.quantile(a, 0.5, axis=1))\n",
    "print(np.quantile(a, 0.5, axis=1, keepdims=True))\n",
    "m = np.quantile(a, 0.5, axis=0)\n",
    "out = np.zeros_like(m)\n",
    "print(np.quantile(a, 0.5, axis=0, out=out))\n",
    "b = a.copy()\n",
    "print(np.quantile(b, 0.5, axis=1, overwrite_input=True))\n",
    "assert not np.all(a == b)"
   ]
  },
  {
   "cell_type": "markdown",
   "id": "24476700",
   "metadata": {},
   "source": [
    "# r_\n",
    "- Translates slice objects to concatenation along the first axis.\n",
    "- This is a simple way to build up arrays quickly. There are two use cases.\n",
    "- If the index expression contains comma separated arrays, then stack them along their first axis.\n",
    "- If the index expression contains slice notation or scalars then create a 1-D array with a range indicated by the slice notation.\n",
    "- If slice notation is used, the syntax start:stop:step is equivalent to np.arange(start, stop, step) inside of the brackets. However, if step is an imaginary number (i.e. 100j) then its integer portion is interpreted as a number-of-points desired and the start and stop are inclusive. In other words start:stop:stepj is interpreted as np.linspace(start, stop, step, endpoint=1) inside of the brackets. After expansion of slice notation, all comma separated sequences are concatenated together.\n",
    "- Optional character strings placed as the first element of the index expression can be used to change the output. The strings ‘r’ or ‘c’ result in matrix output. If the result is 1-D and ‘r’ is specified a 1 x N (row) matrix is produced. If the result is 1-D and ‘c’ is specified, then a N x 1 (column) matrix is produced. If the result is 2-D then both provide the same matrix result.\n",
    "- A string integer specifies which axis to stack multiple comma separated arrays along. A string of two comma-separated integers allows indication of the minimum number of dimensions to force each entry into as the second integer (the axis to concatenate along is still the first integer).\n",
    "- A string with three comma-separated integers allows specification of the axis to concatenate along, the minimum number of dimensions to force the entries to, and which axis should contain the start of the arrays which are less than the specified number of dimensions. In other words the third integer allows you to specify where the 1’s should be placed in the shape of the arrays that have their shapes upgraded. By default, they are placed in the front of the shape tuple. The third argument allows you to specify where the start of the array should be instead. Thus, a third argument of ‘0’ would place the 1’s at the end of the array shape. Negative integers specify where in the new shape tuple the last dimension of upgraded arrays should be placed, so the default is ‘-1’."
   ]
  },
  {
   "cell_type": "code",
   "execution_count": 525,
   "id": "a098e26c",
   "metadata": {},
   "outputs": [
    {
     "name": "stdout",
     "output_type": "stream",
     "text": [
      "[1 2 3 0 0 4 5 6]\n",
      "[-1.  -0.6 -0.2  0.2  0.6  1.   0.   0.   0.   5.   6. ]\n",
      "[[0 1 2 0 1 2]\n",
      " [3 4 5 3 4 5]]\n",
      "[[1 2 3]\n",
      " [4 5 6]]\n",
      "[[1 2 3 4 5 6]]\n"
     ]
    }
   ],
   "source": [
    "print(np.r_[np.array([1,2,3]), 0, 0, np.array([4,5,6])])\n",
    "print(np.r_[-1:1:6j, [0]*3, 5, 6])\n",
    "a = np.array([[0, 1, 2], [3, 4, 5]])\n",
    "print(np.r_['-1', a, a]) # concatenate along last axis\n",
    "print(np.r_['0,2', [1,2,3], [4,5,6]]) # concatenate along first axis, dim>=2\n",
    "print(np.r_['r',[1,2,3], [4,5,6]])"
   ]
  },
  {
   "cell_type": "markdown",
   "id": "ddf0f3c1",
   "metadata": {},
   "source": [
    "# rad2deg\n",
    "- Convert angles from radians to degrees."
   ]
  },
  {
   "cell_type": "code",
   "execution_count": 526,
   "id": "da8537a1",
   "metadata": {},
   "outputs": [
    {
     "data": {
      "text/plain": [
       "np.float64(90.0)"
      ]
     },
     "execution_count": 526,
     "metadata": {},
     "output_type": "execute_result"
    }
   ],
   "source": [
    "np.rad2deg(np.pi/2)"
   ]
  },
  {
   "cell_type": "markdown",
   "id": "c900f4f5",
   "metadata": {},
   "source": [
    "# radians\n",
    "- Convert angles from degrees to radians.\n",
    "- Similar to deg2rad"
   ]
  },
  {
   "cell_type": "code",
   "execution_count": 528,
   "id": "bf80434f",
   "metadata": {},
   "outputs": [
    {
     "data": {
      "text/plain": [
       "False"
      ]
     },
     "execution_count": 528,
     "metadata": {},
     "output_type": "execute_result"
    }
   ],
   "source": [
    "np.radians is np.deg2rad"
   ]
  },
  {
   "cell_type": "code",
   "execution_count": 527,
   "id": "337f9ee0",
   "metadata": {},
   "outputs": [
    {
     "data": {
      "text/plain": [
       "array([0.        , 0.52359878, 1.04719755, 1.57079633, 2.0943951 ,\n",
       "       2.61799388, 3.14159265, 3.66519143, 4.1887902 , 4.71238898,\n",
       "       5.23598776, 5.75958653])"
      ]
     },
     "execution_count": 527,
     "metadata": {},
     "output_type": "execute_result"
    }
   ],
   "source": [
    "deg = np.arange(12.) * 30.\n",
    "np.radians(deg)"
   ]
  },
  {
   "cell_type": "markdown",
   "id": "c4cdf1ba",
   "metadata": {},
   "source": [
    "# ravel\n",
    "- Return a contiguous flattened array.\n",
    "- A 1-D array, containing the elements of the input, is returned. A copy is made only if needed.\n",
    "- As of NumPy 1.10, the returned array will have the same type as the input array. (for example, a masked array will be returned for a masked array input)"
   ]
  },
  {
   "cell_type": "code",
   "execution_count": 529,
   "id": "34844d4c",
   "metadata": {},
   "outputs": [
    {
     "name": "stdout",
     "output_type": "stream",
     "text": [
      "[1 2 3 4 5 6]\n",
      "[1 4 2 5 3 6]\n"
     ]
    }
   ],
   "source": [
    "x = np.array([[1, 2, 3], [4, 5, 6]])\n",
    "print(np.ravel(x))\n",
    "x.reshape(-1)\n",
    "print(np.ravel(x, order='F'))"
   ]
  },
  {
   "cell_type": "code",
   "execution_count": 530,
   "id": "c232ab88",
   "metadata": {},
   "outputs": [
    {
     "data": {
      "text/plain": [
       "array([1, 2, 3, 4])"
      ]
     },
     "execution_count": 530,
     "metadata": {},
     "output_type": "execute_result"
    }
   ],
   "source": [
    "np.array([[1, 2], [3, 4]]).reshape(-1)"
   ]
  },
  {
   "cell_type": "markdown",
   "id": "c27a44cf",
   "metadata": {},
   "source": [
    "# ravel_multi_index\n",
    "- Converts a tuple of index arrays into an array of flat indices, applying boundary modes to the multi-index."
   ]
  },
  {
   "cell_type": "code",
   "execution_count": 531,
   "id": "aa874b58",
   "metadata": {},
   "outputs": [
    {
     "name": "stdout",
     "output_type": "stream",
     "text": [
      "[22 41 37]\n",
      "[31 41 13]\n",
      "[22 23 19]\n",
      "[12 13 13]\n"
     ]
    }
   ],
   "source": [
    "arr = np.array([[3,6,6],[4,5,1]])\n",
    "print(np.ravel_multi_index(arr, (7,6)))\n",
    "print(np.ravel_multi_index(arr, (7,6), order='F'))\n",
    "print(np.ravel_multi_index(arr, (4,6), mode='clip'))\n",
    "print(np.ravel_multi_index(arr, (4,4), mode=('clip','wrap')))"
   ]
  },
  {
   "cell_type": "markdown",
   "id": "04989c05",
   "metadata": {},
   "source": [
    "# real\n",
    "- Return the real part of the complex argument."
   ]
  },
  {
   "cell_type": "code",
   "execution_count": 532,
   "id": "78dddab4",
   "metadata": {},
   "outputs": [
    {
     "data": {
      "text/plain": [
       "223.0"
      ]
     },
     "execution_count": 532,
     "metadata": {},
     "output_type": "execute_result"
    }
   ],
   "source": [
    "np.real(223 + 24j)"
   ]
  },
  {
   "cell_type": "markdown",
   "id": "0285ce13",
   "metadata": {},
   "source": [
    "# real_if_close\n",
    "- If input is complex with all imaginary parts close to zero, return real parts.\n",
    "- “Close to zero” is defined as tol * (machine epsilon of the type for a)."
   ]
  },
  {
   "cell_type": "code",
   "execution_count": 533,
   "id": "b9af03d7",
   "metadata": {},
   "outputs": [
    {
     "name": "stdout",
     "output_type": "stream",
     "text": [
      "[2.1 5.2]\n",
      "[2.1+4.e-13j 5.2+3.e-15j]\n"
     ]
    }
   ],
   "source": [
    "print(np.real_if_close([2.1 + 4e-14j, 5.2 + 3e-15j], tol=1000))\n",
    "print(np.real_if_close([2.1 + 4e-13j, 5.2 + 3e-15j], tol=1000))"
   ]
  },
  {
   "cell_type": "markdown",
   "id": "0ac5bb7c",
   "metadata": {},
   "source": [
    "# recarray\n",
    "- Construct an ndarray that allows field access using attributes.\n",
    "- Arrays may have a data-types containing fields, analogous to columns in a spread sheet. An example is [(x, int), (y, float)], where each entry in the array is a pair of (int, float). Normally, these attributes are accessed using dictionary lookups such as arr['x'] and arr['y']. Record arrays allow the fields to be accessed as members of the array, using arr.x and arr.y."
   ]
  },
  {
   "cell_type": "code",
   "execution_count": 535,
   "id": "85ad49cd",
   "metadata": {},
   "outputs": [
    {
     "name": "stdout",
     "output_type": "stream",
     "text": [
      "[(1, 9.9e-324, 3) (4, 2.5e-323, 6)]\n",
      "['Alice' 'Bob']\n",
      "[30 24]\n",
      "[50000. 45000.]\n",
      "Alice\n"
     ]
    }
   ],
   "source": [
    "print(np.recarray((2,),dtype=[('x', int), ('y', float), ('z', int)]))  # new empty recarray\n",
    "# Create a structured array\n",
    "data = np.array([('Alice', 30, 50000.0), ('Bob', 24, 45000.0)],\n",
    "                dtype=[('name', 'U10'), ('age', 'i4'), ('salary', 'f8')])\n",
    "\n",
    "# Convert to a recarray\n",
    "rec_array = data.view(np.recarray)\n",
    "\n",
    "# Access fields using attribute notation\n",
    "print(rec_array.name)\n",
    "print(rec_array.age)\n",
    "print(rec_array.salary)\n",
    "\n",
    "# Access a specific record and its fields\n",
    "print(rec_array[0].name)"
   ]
  },
  {
   "cell_type": "markdown",
   "id": "d37f8e20",
   "metadata": {},
   "source": [
    "# reciprocal\n",
    "- Return the reciprocal of the argument, element-wise.\n",
    "# This function is not designed to work with integers."
   ]
  },
  {
   "cell_type": "code",
   "execution_count": 536,
   "id": "4116c672",
   "metadata": {},
   "outputs": [
    {
     "name": "stdout",
     "output_type": "stream",
     "text": [
      "0.5\n",
      "[1.        0.5       0.3003003]\n"
     ]
    }
   ],
   "source": [
    "print(np.reciprocal(2.))\n",
    "print(np.reciprocal([1, 2., 3.33]))"
   ]
  },
  {
   "cell_type": "markdown",
   "id": "2a647e9c",
   "metadata": {},
   "source": [
    "# remainder\n",
    "- Returns the element-wise remainder of division.\n",
    "- Computes the remainder complementary to the floor_divide function. It is equivalent to the Python modulus operator x1 % x2 and has the same sign as the divisor x2. The MATLAB function equivalent to np.remainder is mod.\n",
    "- The % operator can be used as a shorthand for np.remainder on ndarrays."
   ]
  },
  {
   "cell_type": "code",
   "execution_count": 537,
   "id": "c74b0352",
   "metadata": {},
   "outputs": [
    {
     "name": "stdout",
     "output_type": "stream",
     "text": [
      "[0 1]\n",
      "[0 1 2 3 4 0 1]\n"
     ]
    }
   ],
   "source": [
    "print(np.remainder([4, 7], [2, 3]))\n",
    "print(np.remainder(np.arange(7), 5))"
   ]
  },
  {
   "cell_type": "markdown",
   "id": "feeccfd1",
   "metadata": {},
   "source": [
    "# repeat\n",
    "- Repeat each element of an array after themselves"
   ]
  },
  {
   "cell_type": "code",
   "execution_count": 538,
   "id": "fbe44297",
   "metadata": {},
   "outputs": [
    {
     "name": "stdout",
     "output_type": "stream",
     "text": [
      "[3 3 3 3]\n",
      "[1 1 2 2 3 3 4 4]\n",
      "[[1 1 1 2 2 2]\n",
      " [3 3 3 4 4 4]]\n",
      "[[1 2]\n",
      " [3 4]\n",
      " [3 4]]\n"
     ]
    }
   ],
   "source": [
    "print(np.repeat(3, 4))\n",
    "x = np.array([[1,2],[3,4]])\n",
    "print(np.repeat(x, 2))\n",
    "print(np.repeat(x, 3, axis=1))\n",
    "print(np.repeat(x, [1, 2], axis=0))"
   ]
  },
  {
   "cell_type": "markdown",
   "id": "c8d6e2c4",
   "metadata": {},
   "source": [
    "# reshape\n",
    "- Gives a new shape to an array without changing its data."
   ]
  },
  {
   "cell_type": "code",
   "execution_count": 540,
   "id": "578a0fe4",
   "metadata": {},
   "outputs": [
    {
     "name": "stdout",
     "output_type": "stream",
     "text": [
      "[[0 1 2]\n",
      " [3 4 5]]\n",
      "[[0 1 2]\n",
      " [3 4 5]]\n",
      "[[0 4 3]\n",
      " [2 1 5]]\n",
      "[[0 4 3]\n",
      " [2 1 5]]\n"
     ]
    }
   ],
   "source": [
    "a = np.arange(6).reshape(3,2)\n",
    "print(np.reshape(a, (2, 3))) # C-like index ordering\n",
    "print(np.reshape(np.ravel(a), (2, 3))) # equivalent to C ravel then C reshape\n",
    "print(np.reshape(a, (2, 3), order='F')) # Fortran-like index ordering\n",
    "print(np.reshape(np.ravel(a, order='F'), (2, 3), order='F'))"
   ]
  },
  {
   "cell_type": "markdown",
   "id": "d1033b20",
   "metadata": {},
   "source": [
    "# result_type\n",
    "- Returns the type that results from applying the NumPy type promotion rules to the arguments.\n",
    "- Type promotion in NumPy works similarly to the rules in languages like C++, with some slight differences. When both scalars and arrays are used, the array’s type takes precedence and the actual value of the scalar is taken into account.\n",
    "- For example, calculating 3*a, where a is an array of 32-bit floats, intuitively should result in a 32-bit float output. If the 3 is a 32-bit integer, the NumPy rules indicate it can’t convert losslessly into a 32-bit float, so a 64-bit float should be the result type. By examining the value of the constant, ‘3’, we see that it fits in an 8-bit integer, which can be cast losslessly into the 32-bit float."
   ]
  },
  {
   "cell_type": "code",
   "execution_count": 541,
   "id": "6f02c198",
   "metadata": {},
   "outputs": [
    {
     "name": "stdout",
     "output_type": "stream",
     "text": [
      "int8\n",
      "complex128\n",
      "float64\n"
     ]
    }
   ],
   "source": [
    "print(np.result_type(3, np.arange(7, dtype='i1')))\n",
    "print(np.result_type('i4', 'c8'))\n",
    "print(np.result_type(3.0, -2))"
   ]
  },
  {
   "cell_type": "markdown",
   "id": "4a4e6c7d",
   "metadata": {},
   "source": [
    "# right_shift\n",
    "- Shift the bits of an integer to the right.\n",
    "- Bits are shifted to the right x2. Because the internal representation of numbers is in binary format, this operation is equivalent to dividing x1 by 2**x2.\n",
    "# Note: eqivalent to bitwise_right_shift"
   ]
  },
  {
   "cell_type": "code",
   "execution_count": 542,
   "id": "30b8b3aa",
   "metadata": {},
   "outputs": [
    {
     "name": "stdout",
     "output_type": "stream",
     "text": [
      "True\n"
     ]
    }
   ],
   "source": [
    "print(np.right_shift is np.bitwise_right_shift)"
   ]
  },
  {
   "cell_type": "markdown",
   "id": "5ca2538d",
   "metadata": {},
   "source": [
    "# rint\n",
    "- Round elements of the array to the nearest integer.\n",
    "# short hand for round integer => rint"
   ]
  },
  {
   "cell_type": "code",
   "execution_count": 543,
   "id": "6937eca0",
   "metadata": {},
   "outputs": [
    {
     "data": {
      "text/plain": [
       "array([-2., -2., -0.,  0.,  2.,  2.,  2.])"
      ]
     },
     "execution_count": 543,
     "metadata": {},
     "output_type": "execute_result"
    }
   ],
   "source": [
    "a = np.array([-1.7, -1.5, -0.2, 0.2, 1.5, 1.7, 2.0])\n",
    "np.rint(a)"
   ]
  },
  {
   "cell_type": "markdown",
   "id": "e5684568",
   "metadata": {},
   "source": [
    "# roll\n",
    "- Roll array elements along a given axis.\n",
    "- Elements that roll beyond the last position are re-introduced at the first."
   ]
  },
  {
   "cell_type": "code",
   "execution_count": 545,
   "id": "09020b77",
   "metadata": {},
   "outputs": [
    {
     "name": "stdout",
     "output_type": "stream",
     "text": [
      "[8 9 0 1 2 3 4 5 6 7]\n",
      "[2 3 4 5 6 7 8 9 0 1]\n",
      "[[0 1 2 3 4]\n",
      " [5 6 7 8 9]]\n",
      "[[9 0 1 2 3]\n",
      " [4 5 6 7 8]]\n",
      "[[1 2 3 4 5]\n",
      " [6 7 8 9 0]]\n",
      "[[5 6 7 8 9]\n",
      " [0 1 2 3 4]]\n",
      "[[5 6 7 8 9]\n",
      " [0 1 2 3 4]]\n",
      "[[4 0 1 2 3]\n",
      " [9 5 6 7 8]]\n",
      "[[1 2 3 4 0]\n",
      " [6 7 8 9 5]]\n",
      "[[9 5 6 7 8]\n",
      " [4 0 1 2 3]]\n",
      "[[8 9 5 6 7]\n",
      " [3 4 0 1 2]]\n"
     ]
    }
   ],
   "source": [
    "x = np.arange(10)\n",
    "print(np.roll(x, 2))\n",
    "print(np.roll(x, -2))\n",
    "x2 = np.reshape(x, (2, 5))\n",
    "print(x2)\n",
    "print(np.roll(x2, 1))\n",
    "print(np.roll(x2, -1))\n",
    "print(np.roll(x2, 1, axis=0))\n",
    "print(np.roll(x2, -1, axis=0))\n",
    "print(np.roll(x2, 1, axis=1))\n",
    "print(np.roll(x2, -1, axis=1))\n",
    "print(np.roll(x2, (1, 1), axis=(1, 0)))\n",
    "print(np.roll(x2, (2, 1), axis=(1, 0)))"
   ]
  },
  {
   "cell_type": "markdown",
   "id": "7d91d1fe",
   "metadata": {},
   "source": [
    "# rollaxis\n",
    "- Roll the specified axis backwards, until it lies in a given position.\n",
    "- Roll the shape around"
   ]
  },
  {
   "cell_type": "code",
   "execution_count": 547,
   "id": "4885ae72",
   "metadata": {},
   "outputs": [
    {
     "name": "stdout",
     "output_type": "stream",
     "text": [
      "(3, 4, 5, 6)\n",
      "(3, 6, 4, 5)\n",
      "(5, 3, 4, 6)\n",
      "(3, 5, 6, 4)\n"
     ]
    }
   ],
   "source": [
    "a = np.ones((3,4,5,6))\n",
    "print(a.shape)\n",
    "print(np.rollaxis(a, 3, 1).shape)\n",
    "print(np.rollaxis(a, 2).shape)\n",
    "print(np.rollaxis(a, 1, 4).shape)"
   ]
  },
  {
   "cell_type": "markdown",
   "id": "9af94366",
   "metadata": {},
   "source": [
    "# roots\n",
    "- Return the roots of a polynomial with coefficients given in p."
   ]
  },
  {
   "cell_type": "code",
   "execution_count": 548,
   "id": "964cb35f",
   "metadata": {},
   "outputs": [
    {
     "data": {
      "text/plain": [
       "array([-0.3125+0.46351241j, -0.3125-0.46351241j])"
      ]
     },
     "execution_count": 548,
     "metadata": {},
     "output_type": "execute_result"
    }
   ],
   "source": [
    "coeff = [3.2, 2, 1]\n",
    "np.roots(coeff)"
   ]
  },
  {
   "cell_type": "markdown",
   "id": "391fb293",
   "metadata": {},
   "source": [
    "# rot90\n",
    "- Rotate an array by 90 degrees in the plane specified by axes.\n",
    "- Rotation direction is from the first towards the second axis. This means for a 2D array with the default k and axes, the rotation will be counterclockwise.\n",
    "# Arrays must be at least 2d or more"
   ]
  },
  {
   "cell_type": "code",
   "execution_count": 553,
   "id": "ef1e2f44",
   "metadata": {},
   "outputs": [
    {
     "name": "stdout",
     "output_type": "stream",
     "text": [
      "[[2 4]\n",
      " [1 3]]\n",
      "[[4 3]\n",
      " [2 1]]\n",
      "[[[1 3]\n",
      "  [0 2]]\n",
      "\n",
      " [[5 7]\n",
      "  [4 6]]]\n"
     ]
    }
   ],
   "source": [
    "m = np.array([[1,2],[3,4]], int)\n",
    "print(np.rot90(m))\n",
    "print(np.rot90(m, 2))\n",
    "m = np.arange(8).reshape((2,2,2))\n",
    "print(np.rot90(m, 1, (1,2)))"
   ]
  },
  {
   "cell_type": "markdown",
   "id": "6faaa8ef",
   "metadata": {},
   "source": [
    "# round\n",
    "- Evenly round to the given number of decimals."
   ]
  },
  {
   "cell_type": "code",
   "execution_count": 554,
   "id": "a0f975ba",
   "metadata": {},
   "outputs": [
    {
     "name": "stdout",
     "output_type": "stream",
     "text": [
      "[0. 2.]\n",
      "[0.4 1.6]\n",
      "[0. 2. 2. 4. 4.]\n",
      "[ 1  2  3 11]\n",
      "[ 0  0  0 10]\n"
     ]
    }
   ],
   "source": [
    "print(np.round([0.37, 1.64]))\n",
    "print(np.round([0.37, 1.64], decimals=1))\n",
    "print(np.round([.5, 1.5, 2.5, 3.5, 4.5])) # rounds to nearest even value\n",
    "print(np.round([1,2,3,11], decimals=1)) # ndarray of ints is returned\n",
    "print(np.round([1,2,3,11], decimals=-1))"
   ]
  },
  {
   "cell_type": "markdown",
   "id": "acc6985a",
   "metadata": {},
   "source": [
    "# s_\n",
    "- A nicer way to build up index tuples for arrays.\n",
    "- For any index combination, including slicing and axis insertion, a[indices] is the same as a[np.index_exp[indices]] for any array a. However, np.index_exp[indices] can be used anywhere in Python code and returns a tuple of slice objects that can be used in the construction of complex index expressions."
   ]
  },
  {
   "cell_type": "code",
   "execution_count": 556,
   "id": "4d3c9170",
   "metadata": {},
   "outputs": [
    {
     "name": "stdout",
     "output_type": "stream",
     "text": [
      "np.s_ result: (slice(None, None, None), slice(1, 5, 2))\n",
      "Original array:\n",
      " [[ 0  1  2  3]\n",
      " [ 4  5  6  7]\n",
      " [ 8  9 10 11]]\n",
      "Indexed array using np.s_ result:\n",
      " [[ 1  3]\n",
      " [ 5  7]\n",
      " [ 9 11]]\n"
     ]
    }
   ],
   "source": [
    "\n",
    "# Using np.s_\n",
    "idx_s = np.s_[:, 1:5:2]\n",
    "print(\"np.s_ result:\", idx_s)\n",
    "\n",
    "arr = np.arange(12).reshape(3, 4)\n",
    "print(\"Original array:\\n\", arr)\n",
    "print(\"Indexed array using np.s_ result:\\n\", arr[idx_s])"
   ]
  },
  {
   "cell_type": "markdown",
   "id": "5add5c6d",
   "metadata": {},
   "source": [
    "# save\n",
    "- Save an array to a binary file in NumPy .npy format."
   ]
  },
  {
   "cell_type": "code",
   "execution_count": 557,
   "id": "44ef2ae7",
   "metadata": {},
   "outputs": [],
   "source": [
    "x = np.arange(10)\n",
    "np.save(\"temp.npy\", x)"
   ]
  },
  {
   "cell_type": "markdown",
   "id": "bf8871a9",
   "metadata": {},
   "source": [
    "# savetxt\n",
    "- Save an array to a text file."
   ]
  },
  {
   "cell_type": "code",
   "execution_count": 559,
   "id": "eab4cef3",
   "metadata": {},
   "outputs": [],
   "source": [
    "x = y = z = np.arange(0.0,5.0,1.0)\n",
    "np.savetxt('test.out', x, delimiter=',')   # X is an array\n",
    "np.savetxt('test.out', (x,y,z))   # x,y,z equal sized 1D arrays\n",
    "np.savetxt('test.out', x, fmt='%1.4e')   # use exponential notation"
   ]
  },
  {
   "cell_type": "markdown",
   "id": "5f6e058e",
   "metadata": {},
   "source": [
    "# savez\n",
    "- Save several arrays into a single file in uncompressed .npz format.\n",
    "- Provide arrays as keyword arguments to store them under the corresponding name in the output file: savez(fn, x=x, y=y).\n",
    "- If arrays are specified as positional arguments, i.e., savez(fn, x, y), their names will be arr_0, arr_1, etc."
   ]
  },
  {
   "cell_type": "code",
   "execution_count": null,
   "id": "dd44a7f4",
   "metadata": {},
   "outputs": [],
   "source": [
    "x = np.arange(10)\n",
    "y = np.sin(x)\n",
    "np.savez(\"savez\", x, y) # save as savez.npz"
   ]
  },
  {
   "cell_type": "markdown",
   "id": "c23afc70",
   "metadata": {},
   "source": [
    "# savez_compressed\n",
    "- Save several arrays into a single file in compressed .npz format.\n",
    "- Provide arrays as keyword arguments to store them under the corresponding name in the output file: savez_compressed(fn, x=x, y=y).\n",
    "- If arrays are specified as positional arguments, i.e., savez_compressed(fn, x, y), their names will be arr_0, arr_1, etc."
   ]
  },
  {
   "cell_type": "code",
   "execution_count": 563,
   "id": "2e11d3c3",
   "metadata": {},
   "outputs": [],
   "source": [
    "test_array = np.random.rand(3, 2)\n",
    "test_vector = np.random.rand(4)\n",
    "np.savez_compressed('savez_compressed', a=test_array, b=test_vector)"
   ]
  },
  {
   "cell_type": "markdown",
   "id": "f918e165",
   "metadata": {},
   "source": [
    "# searchsorted\n",
    "- Find indices where elements should be inserted to maintain order.\n",
    "- Find the indices into a sorted array a such that, if the corresponding elements in v were inserted before the indices, the order of a would be preserved.\n",
    "# Note: Binary search is used to find the required insertion points.\n"
   ]
  },
  {
   "cell_type": "code",
   "execution_count": 564,
   "id": "6db18589",
   "metadata": {},
   "outputs": [
    {
     "name": "stdout",
     "output_type": "stream",
     "text": [
      "2\n",
      "3\n",
      "[0 5 1 2]\n"
     ]
    }
   ],
   "source": [
    "print(np.searchsorted([11,12,13,14,15], 13))\n",
    "print(np.searchsorted([11,12,13,14,15], 13, side='right'))\n",
    "print(np.searchsorted([11,12,13,14,15], [-10, 20, 12, 13]))"
   ]
  },
  {
   "cell_type": "markdown",
   "id": "8da09c99",
   "metadata": {},
   "source": [
    "# select\n",
    "- Return an array drawn from elements in choicelist, depending on conditions."
   ]
  },
  {
   "cell_type": "code",
   "execution_count": 565,
   "id": "69cf2f7a",
   "metadata": {},
   "outputs": [
    {
     "data": {
      "text/plain": [
       "array([ 0,  1,  2, 42, 16, 25])"
      ]
     },
     "execution_count": 565,
     "metadata": {},
     "output_type": "execute_result"
    }
   ],
   "source": [
    "x = np.arange(6)\n",
    "condlist = [x<3, x>3]\n",
    "choicelist = [x, x**2]\n",
    "np.select(condlist, choicelist, 42)"
   ]
  },
  {
   "cell_type": "markdown",
   "id": "a7fc9952",
   "metadata": {},
   "source": [
    "# set_printoptions\n",
    "- Set printing options.\n",
    "- These options determine the way floating point numbers, arrays and other NumPy objects are displayed."
   ]
  },
  {
   "cell_type": "code",
   "execution_count": 566,
   "id": "4d3ab28a",
   "metadata": {},
   "outputs": [
    {
     "data": {
      "text/plain": [
       "array([1.1235])"
      ]
     },
     "execution_count": 566,
     "metadata": {},
     "output_type": "execute_result"
    }
   ],
   "source": [
    "np.set_printoptions(precision=4)\n",
    "np.array([1.123456789])"
   ]
  },
  {
   "cell_type": "markdown",
   "id": "87f7bfc6",
   "metadata": {},
   "source": [
    "# setbufsize\n",
    "- Set the size of the buffer used in ufuncs."
   ]
  },
  {
   "cell_type": "code",
   "execution_count": 567,
   "id": "83f8dacf",
   "metadata": {},
   "outputs": [
    {
     "name": "stdout",
     "output_type": "stream",
     "text": [
      "4096\n"
     ]
    },
    {
     "data": {
      "text/plain": [
       "8192"
      ]
     },
     "execution_count": 567,
     "metadata": {},
     "output_type": "execute_result"
    }
   ],
   "source": [
    "with np.errstate():\n",
    "    np.setbufsize(4096)\n",
    "    print(np.getbufsize())\n",
    "np.getbufsize()"
   ]
  },
  {
   "cell_type": "markdown",
   "id": "eda4bbc5",
   "metadata": {},
   "source": [
    "# setdiff1d\n",
    "- Find the set difference of two arrays.\n",
    "- Return the unique values in ar1 that are not in ar2."
   ]
  },
  {
   "cell_type": "code",
   "execution_count": 568,
   "id": "12e7bad9",
   "metadata": {},
   "outputs": [
    {
     "data": {
      "text/plain": [
       "array([1, 2])"
      ]
     },
     "execution_count": 568,
     "metadata": {},
     "output_type": "execute_result"
    }
   ],
   "source": [
    "a = np.array([1, 2, 3, 2, 4, 1])\n",
    "b = np.array([3, 4, 5, 6])\n",
    "np.setdiff1d(a, b)"
   ]
  },
  {
   "cell_type": "markdown",
   "id": "f02214ad",
   "metadata": {},
   "source": [
    "# seterr\n",
    "- Set how floating-point errors are handled."
   ]
  },
  {
   "cell_type": "code",
   "execution_count": 571,
   "id": "0277d31b",
   "metadata": {},
   "outputs": [
    {
     "name": "stdout",
     "output_type": "stream",
     "text": [
      "30464\n",
      "{'divide': 'ignore', 'over': 'ignore', 'under': 'ignore', 'invalid': 'ignore'}\n"
     ]
    }
   ],
   "source": [
    "orig_settings = np.seterr(all='ignore')  # seterr to known value\n",
    "print(np.int16(32000) * np.int16(3))\n",
    "print(np.seterr(over='raise'))\n",
    "old_settings = np.seterr(all='warn', over='raise')\n"
   ]
  },
  {
   "cell_type": "markdown",
   "id": "4f04d366",
   "metadata": {},
   "source": [
    "# seterrcall\n",
    "- Set the floating-point error callback function or log object.\n",
    "- There are two ways to capture floating-point error messages. The first is to set the error-handler to ‘call’, using seterr. Then, set the function to call using this function.\n",
    "- The second is to set the error-handler to ‘log’, using seterr. Floating-point errors then trigger a call to the ‘write’ method of the provided object."
   ]
  },
  {
   "cell_type": "code",
   "execution_count": 572,
   "id": "5e8d8816",
   "metadata": {},
   "outputs": [
    {
     "data": {
      "text/plain": [
       "{'divide': 'call', 'over': 'call', 'under': 'call', 'invalid': 'call'}"
      ]
     },
     "execution_count": 572,
     "metadata": {},
     "output_type": "execute_result"
    }
   ],
   "source": [
    "np.seterr(**np.seterr(all='call'))"
   ]
  },
  {
   "cell_type": "markdown",
   "id": "1c1c8197",
   "metadata": {},
   "source": [
    "# setxor1d\n",
    "- Find the set exclusive-or of two arrays.\n",
    "- Return the sorted, unique values that are in only one (not both) of the input arrays."
   ]
  },
  {
   "cell_type": "code",
   "execution_count": 573,
   "id": "32198ba5",
   "metadata": {},
   "outputs": [
    {
     "data": {
      "text/plain": [
       "array([1, 4, 5, 7])"
      ]
     },
     "execution_count": 573,
     "metadata": {},
     "output_type": "execute_result"
    }
   ],
   "source": [
    "a = np.array([1, 2, 3, 2, 4])\n",
    "b = np.array([2, 3, 5, 7, 5])\n",
    "np.setxor1d(a,b)"
   ]
  },
  {
   "cell_type": "markdown",
   "id": "55b821eb",
   "metadata": {},
   "source": [
    "# shape\n",
    "- Return the shape of an array."
   ]
  },
  {
   "cell_type": "code",
   "execution_count": 574,
   "id": "a3d3b06c",
   "metadata": {},
   "outputs": [
    {
     "name": "stdout",
     "output_type": "stream",
     "text": [
      "(3, 3)\n",
      "(1, 2)\n",
      "(1,)\n",
      "()\n"
     ]
    }
   ],
   "source": [
    "print(np.shape(np.eye(3)))\n",
    "print(np.shape([[1, 3]]))\n",
    "print(np.shape([0]))\n",
    "print(np.shape(0))"
   ]
  },
  {
   "cell_type": "markdown",
   "id": "d726df77",
   "metadata": {},
   "source": [
    "# shares_memory\n",
    "- Determine if two arrays share memory."
   ]
  },
  {
   "cell_type": "code",
   "execution_count": 575,
   "id": "d4a59d8a",
   "metadata": {},
   "outputs": [
    {
     "name": "stdout",
     "output_type": "stream",
     "text": [
      "False\n",
      "True\n",
      "False\n"
     ]
    }
   ],
   "source": [
    "x = np.array([1, 2, 3, 4])\n",
    "print(np.shares_memory(x, np.array([5, 6, 7])))\n",
    "print(np.shares_memory(x[::2], x))\n",
    "print(np.shares_memory(x[::2], x[1::2]))"
   ]
  },
  {
   "cell_type": "markdown",
   "id": "8747bb63",
   "metadata": {},
   "source": [
    "# show_config\n",
    "- Show libraries and system information on which NumPy was built and is being used"
   ]
  },
  {
   "cell_type": "code",
   "execution_count": 576,
   "id": "97793224",
   "metadata": {},
   "outputs": [
    {
     "name": "stdout",
     "output_type": "stream",
     "text": [
      "Build Dependencies:\n",
      "  blas:\n",
      "    detection method: pkgconfig\n",
      "    found: true\n",
      "    include directory: C:/Users/runneradmin/AppData/Local/Temp/cibw-run-f_29nkhr/cp313-win_amd64/build/venv/Lib/site-packages/scipy_openblas64/include\n",
      "    lib directory: C:/Users/runneradmin/AppData/Local/Temp/cibw-run-f_29nkhr/cp313-win_amd64/build/venv/Lib/site-packages/scipy_openblas64/lib\n",
      "    name: scipy-openblas\n",
      "    openblas configuration: OpenBLAS 0.3.27  USE64BITINT DYNAMIC_ARCH NO_AFFINITY\n",
      "      Haswell MAX_THREADS=24\n",
      "    pc file directory: D:/a/numpy/numpy/.openblas\n",
      "    version: 0.3.27\n",
      "  lapack:\n",
      "    detection method: pkgconfig\n",
      "    found: true\n",
      "    include directory: C:/Users/runneradmin/AppData/Local/Temp/cibw-run-f_29nkhr/cp313-win_amd64/build/venv/Lib/site-packages/scipy_openblas64/include\n",
      "    lib directory: C:/Users/runneradmin/AppData/Local/Temp/cibw-run-f_29nkhr/cp313-win_amd64/build/venv/Lib/site-packages/scipy_openblas64/lib\n",
      "    name: scipy-openblas\n",
      "    openblas configuration: OpenBLAS 0.3.27  USE64BITINT DYNAMIC_ARCH NO_AFFINITY\n",
      "      Haswell MAX_THREADS=24\n",
      "    pc file directory: D:/a/numpy/numpy/.openblas\n",
      "    version: 0.3.27\n",
      "Compilers:\n",
      "  c:\n",
      "    commands: cl\n",
      "    linker: link\n",
      "    name: msvc\n",
      "    version: 19.29.30154\n",
      "  c++:\n",
      "    commands: cl\n",
      "    linker: link\n",
      "    name: msvc\n",
      "    version: 19.29.30154\n",
      "  cython:\n",
      "    commands: cython\n",
      "    linker: cython\n",
      "    name: cython\n",
      "    version: 3.0.11\n",
      "Machine Information:\n",
      "  build:\n",
      "    cpu: x86_64\n",
      "    endian: little\n",
      "    family: x86_64\n",
      "    system: windows\n",
      "  host:\n",
      "    cpu: x86_64\n",
      "    endian: little\n",
      "    family: x86_64\n",
      "    system: windows\n",
      "Python Information:\n",
      "  path: C:\\Users\\runneradmin\\AppData\\Local\\Temp\\build-env-lqjfbj5h\\Scripts\\python.exe\n",
      "  version: '3.13'\n",
      "SIMD Extensions:\n",
      "  baseline:\n",
      "  - SSE\n",
      "  - SSE2\n",
      "  - SSE3\n",
      "  found:\n",
      "  - SSSE3\n",
      "  - SSE41\n",
      "  - POPCNT\n",
      "  - SSE42\n",
      "  - AVX\n",
      "  - F16C\n",
      "  - FMA3\n",
      "  - AVX2\n",
      "  not found:\n",
      "  - AVX512F\n",
      "  - AVX512CD\n",
      "  - AVX512_SKX\n",
      "  - AVX512_CLX\n",
      "  - AVX512_CNL\n",
      "  - AVX512_ICL\n",
      "\n"
     ]
    }
   ],
   "source": [
    "np.show_config()"
   ]
  },
  {
   "cell_type": "markdown",
   "id": "b0ca4722",
   "metadata": {},
   "source": [
    "# show_runtime\n",
    "- Print information about various resources in the system including available intrinsic support and BLAS/LAPACK library in use"
   ]
  },
  {
   "cell_type": "code",
   "execution_count": 577,
   "id": "42c9e8e5",
   "metadata": {},
   "outputs": [
    {
     "name": "stdout",
     "output_type": "stream",
     "text": [
      "[{'numpy_version': '2.1.2',\n",
      "  'python': '3.13.5 (tags/v3.13.5:6cb20a2, Jun 11 2025, 16:15:46) [MSC v.1943 '\n",
      "            '64 bit (AMD64)]',\n",
      "  'uname': uname_result(system='Windows', node='sang-mini', release='11', version='10.0.26100', machine='AMD64')},\n",
      " {'simd_extensions': {'baseline': ['SSE', 'SSE2', 'SSE3'],\n",
      "                      'found': ['SSSE3',\n",
      "                                'SSE41',\n",
      "                                'POPCNT',\n",
      "                                'SSE42',\n",
      "                                'AVX',\n",
      "                                'F16C',\n",
      "                                'FMA3',\n",
      "                                'AVX2'],\n",
      "                      'not_found': ['AVX512F',\n",
      "                                    'AVX512CD',\n",
      "                                    'AVX512_SKX',\n",
      "                                    'AVX512_CLX',\n",
      "                                    'AVX512_CNL',\n",
      "                                    'AVX512_ICL']}},\n",
      " {'architecture': 'Haswell',\n",
      "  'filepath': 'C:\\\\Users\\\\thotc\\\\AppData\\\\Local\\\\Programs\\\\Python\\\\Python313\\\\Lib\\\\site-packages\\\\numpy.libs\\\\libscipy_openblas64_-c16e4918366c6bc1f1cd71e28ca36fc0.dll',\n",
      "  'internal_api': 'openblas',\n",
      "  'num_threads': 20,\n",
      "  'prefix': 'libscipy_openblas',\n",
      "  'threading_layer': 'pthreads',\n",
      "  'user_api': 'blas',\n",
      "  'version': '0.3.27'},\n",
      " {'filepath': 'C:\\\\Users\\\\thotc\\\\AppData\\\\Local\\\\Programs\\\\Python\\\\Python313\\\\Lib\\\\site-packages\\\\torch\\\\lib\\\\libiomp5md.dll',\n",
      "  'internal_api': 'openmp',\n",
      "  'num_threads': 14,\n",
      "  'prefix': 'libiomp',\n",
      "  'user_api': 'openmp',\n",
      "  'version': None},\n",
      " {'filepath': 'C:\\\\Users\\\\thotc\\\\AppData\\\\Local\\\\Programs\\\\Python\\\\Python313\\\\Lib\\\\site-packages\\\\torch\\\\lib\\\\libiompstubs5md.dll',\n",
      "  'internal_api': 'openmp',\n",
      "  'num_threads': 1,\n",
      "  'prefix': 'libiomp',\n",
      "  'user_api': 'openmp',\n",
      "  'version': None}]\n"
     ]
    }
   ],
   "source": [
    "np.show_runtime()"
   ]
  },
  {
   "cell_type": "markdown",
   "id": "69fe676b",
   "metadata": {},
   "source": [
    "# sign\n",
    "- Returns an element-wise indication of the sign of a number."
   ]
  },
  {
   "cell_type": "code",
   "execution_count": 579,
   "id": "46cc53ca",
   "metadata": {},
   "outputs": [
    {
     "name": "stdout",
     "output_type": "stream",
     "text": [
      "[-1.  1.]\n",
      "0\n",
      "[0.6-0.8j 0. +1.j ]\n"
     ]
    }
   ],
   "source": [
    "print(np.sign([-5., 4.5]))\n",
    "print(np.sign(0))\n",
    "print(np.sign([3-4j, 8j]))"
   ]
  },
  {
   "cell_type": "markdown",
   "id": "7440fb73",
   "metadata": {},
   "source": [
    "# signbit\n",
    "- Returns element-wise True where signbit is set (less than zero)."
   ]
  },
  {
   "cell_type": "code",
   "execution_count": 580,
   "id": "36a15aae",
   "metadata": {},
   "outputs": [
    {
     "name": "stdout",
     "output_type": "stream",
     "text": [
      "True\n",
      "[False  True False]\n"
     ]
    }
   ],
   "source": [
    "print(np.signbit(-1.2))\n",
    "print(np.signbit(np.array([1, -2.3, 2.1])))"
   ]
  },
  {
   "cell_type": "markdown",
   "id": "f87be674",
   "metadata": {},
   "source": [
    "# sin\n",
    "- Trigonometric sine, element-wise."
   ]
  },
  {
   "cell_type": "code",
   "execution_count": 581,
   "id": "b4051480",
   "metadata": {},
   "outputs": [
    {
     "data": {
      "text/plain": [
       "np.float64(1.0)"
      ]
     },
     "execution_count": 581,
     "metadata": {},
     "output_type": "execute_result"
    }
   ],
   "source": [
    "np.sin(np.pi/2.)"
   ]
  },
  {
   "cell_type": "markdown",
   "id": "c3880f14",
   "metadata": {},
   "source": [
    "# sinc\n",
    "- Return the normalized sinc function."
   ]
  },
  {
   "cell_type": "code",
   "execution_count": 584,
   "id": "d89a7491",
   "metadata": {},
   "outputs": [
    {
     "data": {
      "text/plain": [
       "array([-3.8982e-17, -3.8982e-17,  1.0000e+00, -3.8982e-17, -3.8982e-17])"
      ]
     },
     "execution_count": 584,
     "metadata": {},
     "output_type": "execute_result"
    }
   ],
   "source": [
    "x = np.linspace(-4, 4, 5)\n",
    "np.sinc(x)"
   ]
  },
  {
   "cell_type": "markdown",
   "id": "15facb84",
   "metadata": {},
   "source": [
    "# sinh\n",
    "- Hyperbolic sine, element-wise.\n",
    "- Equivalent to 1/2 * (np.exp(x) - np.exp(-x)) or -1j * np.sin(1j*x)."
   ]
  },
  {
   "cell_type": "code",
   "execution_count": 585,
   "id": "38d50aca",
   "metadata": {},
   "outputs": [
    {
     "name": "stdout",
     "output_type": "stream",
     "text": [
      "0.0\n",
      "1j\n",
      "(-0+1.2246467991473532e-16j)\n"
     ]
    }
   ],
   "source": [
    "print(np.sinh(0))\n",
    "print(np.sinh(np.pi*1j/2))\n",
    "print(np.sinh(np.pi*1j)) # (exact value is 0)\n",
    "# Discrepancy due to vagaries of floating point arithmetic."
   ]
  },
  {
   "cell_type": "markdown",
   "id": "7cb689ec",
   "metadata": {},
   "source": [
    "# size\n",
    "- Return the number of elements along a given axis."
   ]
  },
  {
   "cell_type": "code",
   "execution_count": 587,
   "id": "78759962",
   "metadata": {},
   "outputs": [
    {
     "name": "stdout",
     "output_type": "stream",
     "text": [
      "6\n",
      "3\n",
      "2\n"
     ]
    }
   ],
   "source": [
    "a = np.array([[1,2,3],[4,5,6]])\n",
    "print(np.size(a))\n",
    "print(np.size(a,axis=1))\n",
    "print(np.size(a,axis=0))"
   ]
  },
  {
   "cell_type": "markdown",
   "id": "d5be86f5",
   "metadata": {},
   "source": [
    "# sort\n",
    "- Return a sorted copy of an array."
   ]
  },
  {
   "cell_type": "code",
   "execution_count": 588,
   "id": "24f06304",
   "metadata": {},
   "outputs": [
    {
     "data": {
      "text/plain": [
       "array([ 1,  3,  5, 10, 33, 44])"
      ]
     },
     "execution_count": 588,
     "metadata": {},
     "output_type": "execute_result"
    }
   ],
   "source": [
    "np.sort([33, 44, 1, 3, 10, 5])"
   ]
  },
  {
   "cell_type": "markdown",
   "id": "323b5ce9",
   "metadata": {},
   "source": [
    "# sort_complex\n",
    "- Sort a complex array using the real part first, then the imaginary part."
   ]
  },
  {
   "cell_type": "code",
   "execution_count": 589,
   "id": "1e22a808",
   "metadata": {},
   "outputs": [
    {
     "data": {
      "text/plain": [
       "array([1.+0.j, 2.+0.j, 3.+0.j, 5.+0.j, 6.+0.j])"
      ]
     },
     "execution_count": 589,
     "metadata": {},
     "output_type": "execute_result"
    }
   ],
   "source": [
    "np.sort_complex([5, 3, 6, 2, 1])"
   ]
  },
  {
   "cell_type": "markdown",
   "id": "9765ccdf",
   "metadata": {},
   "source": [
    "# spacing\n",
    "- Return the distance between x and the nearest adjacent number."
   ]
  },
  {
   "cell_type": "code",
   "execution_count": 590,
   "id": "a41c839d",
   "metadata": {},
   "outputs": [
    {
     "name": "stdout",
     "output_type": "stream",
     "text": [
      "Spacing of 1.0: 2.220446049250313e-16\n",
      "Spacing of [0.   0.25 0.5  0.75 1.  ]: [1.4013e-45 2.9802e-08 5.9605e-08 5.9605e-08 1.1921e-07]\n"
     ]
    },
    {
     "name": "stderr",
     "output_type": "stream",
     "text": [
      "C:\\Users\\thotc\\AppData\\Local\\Temp\\ipykernel_36788\\3776167279.py:8: RuntimeWarning: underflow encountered in spacing\n",
      "  spacing_array = np.spacing(x_array)\n"
     ]
    }
   ],
   "source": [
    "# Spacing for a scalar\n",
    "x_scalar = np.float64(1.0)\n",
    "spacing_scalar = np.spacing(x_scalar)\n",
    "print(f\"Spacing of {x_scalar}: {spacing_scalar}\")\n",
    "\n",
    "# Spacing for an array\n",
    "x_array = np.array([0.0, 0.25, 0.5, 0.75, 1.0], dtype=np.float32)\n",
    "spacing_array = np.spacing(x_array)\n",
    "print(f\"Spacing of {x_array}: {spacing_array}\")"
   ]
  },
  {
   "cell_type": "code",
   "execution_count": 591,
   "id": "c2f59800",
   "metadata": {},
   "outputs": [
    {
     "data": {
      "text/plain": [
       "np.float64(2.220446049250313e-16)"
      ]
     },
     "execution_count": 591,
     "metadata": {},
     "output_type": "execute_result"
    }
   ],
   "source": [
    "np.finfo(np.float64).eps"
   ]
  },
  {
   "cell_type": "markdown",
   "id": "fd358f04",
   "metadata": {},
   "source": [
    "# split\n",
    "- Split an array into multiple sub-arrays as views into ary."
   ]
  },
  {
   "cell_type": "code",
   "execution_count": 592,
   "id": "57be5e83",
   "metadata": {},
   "outputs": [
    {
     "data": {
      "text/plain": [
       "[array([0., 1., 2.]), array([3., 4., 5.]), array([6., 7., 8.])]"
      ]
     },
     "execution_count": 592,
     "metadata": {},
     "output_type": "execute_result"
    }
   ],
   "source": [
    "x = np.arange(9.0)\n",
    "np.split(x, 3)"
   ]
  },
  {
   "cell_type": "markdown",
   "id": "8215dd38",
   "metadata": {},
   "source": [
    "# sqrt\n",
    "- Return the non-negative square-root of an array, element-wise."
   ]
  },
  {
   "cell_type": "code",
   "execution_count": 593,
   "id": "60a003c8",
   "metadata": {},
   "outputs": [
    {
     "data": {
      "text/plain": [
       "array([1., 2., 3.])"
      ]
     },
     "execution_count": 593,
     "metadata": {},
     "output_type": "execute_result"
    }
   ],
   "source": [
    "np.sqrt([1,4,9])"
   ]
  },
  {
   "cell_type": "markdown",
   "id": "d2e35ac0",
   "metadata": {},
   "source": [
    "# square\n",
    "- Return the element-wise square of the input."
   ]
  },
  {
   "cell_type": "code",
   "execution_count": 596,
   "id": "960ebb5b",
   "metadata": {},
   "outputs": [
    {
     "data": {
      "text/plain": [
       "array([ 1,  4,  9, 16])"
      ]
     },
     "execution_count": 596,
     "metadata": {},
     "output_type": "execute_result"
    }
   ],
   "source": [
    "np.square([-1, 2, 3, 4])"
   ]
  },
  {
   "cell_type": "markdown",
   "id": "956c478b",
   "metadata": {},
   "source": [
    "# squeeze\n",
    "- Remove axes of length one from a."
   ]
  },
  {
   "cell_type": "code",
   "execution_count": 599,
   "id": "b817063d",
   "metadata": {},
   "outputs": [
    {
     "name": "stdout",
     "output_type": "stream",
     "text": [
      "(1, 3, 1)\n",
      "(3,)\n",
      "(3, 1)\n",
      "(1, 3)\n",
      "(1, 1)\n",
      "1234\n",
      "()\n",
      "1234\n"
     ]
    }
   ],
   "source": [
    "x = np.array([[[0], [1], [2]]])\n",
    "print(x.shape)\n",
    "print(np.squeeze(x).shape)\n",
    "print(np.squeeze(x, axis=0).shape)\n",
    "print(np.squeeze(x, axis=2).shape)\n",
    "x = np.array([[1234]])\n",
    "print(x.shape)\n",
    "print(np.squeeze(x))\n",
    "print(np.squeeze(x).shape)\n",
    "print(np.squeeze(x)[()])"
   ]
  },
  {
   "cell_type": "markdown",
   "id": "9a921919",
   "metadata": {},
   "source": [
    "# stack\n",
    "- Join a sequence of arrays along a new axis.\n",
    "- The axis parameter specifies the index of the new axis in the dimensions of the result. For example, if axis=0 it will be the first dimension and if axis=-1 it will be the last dimension."
   ]
  },
  {
   "cell_type": "code",
   "execution_count": 606,
   "id": "9dbab3e1",
   "metadata": {},
   "outputs": [
    {
     "name": "stdout",
     "output_type": "stream",
     "text": [
      "(10, 3, 4)\n",
      "[[1 2 3]\n",
      " [2 3 4]]\n"
     ]
    }
   ],
   "source": [
    "rng = np.random.default_rng()\n",
    "arrays = [rng.normal(size=(3,4)) for _ in range(10)]\n",
    "print(np.stack(arrays, axis=0).shape)\n",
    "print(np.stack([np.array([1, 2, 3]), np.array([2, 3, 4])]))"
   ]
  },
  {
   "cell_type": "markdown",
   "id": "e43da268",
   "metadata": {},
   "source": [
    "# std\n",
    "- Compute the standard deviation along the specified axis.\n",
    "- Returns the standard deviation, a measure of the spread of a distribution, of the array elements. The standard deviation is computed for the flattened array by default, otherwise over the specified axis."
   ]
  },
  {
   "cell_type": "code",
   "execution_count": 607,
   "id": "cef1d78f",
   "metadata": {},
   "outputs": [
    {
     "name": "stdout",
     "output_type": "stream",
     "text": [
      "1.118033988749895\n",
      "[1. 1.]\n",
      "[0.5 0.5]\n"
     ]
    }
   ],
   "source": [
    "a = np.array([[1, 2], [3, 4]])\n",
    "print(np.std(a))\n",
    "print(np.std(a, axis=0))\n",
    "print(np.std(a, axis=1))"
   ]
  },
  {
   "cell_type": "markdown",
   "id": "5d18eac1",
   "metadata": {},
   "source": [
    "# subtract / sub\n",
    "- Subtract arguments, element-wise."
   ]
  },
  {
   "cell_type": "code",
   "execution_count": 609,
   "id": "be0843e8",
   "metadata": {},
   "outputs": [
    {
     "name": "stdout",
     "output_type": "stream",
     "text": [
      "-3.0\n",
      "[-5  6 -7  1]\n"
     ]
    }
   ],
   "source": [
    "print(np.subtract(1.0, 4.0))\n",
    "print(np.subtract(np.array([5, 10, 4, 6]), np.array([10, 4, 11, 5])))"
   ]
  },
  {
   "cell_type": "markdown",
   "id": "5ab4eb54",
   "metadata": {},
   "source": [
    "# sum\n",
    "- Sum of array elements over a given axis."
   ]
  },
  {
   "cell_type": "code",
   "execution_count": 610,
   "id": "79499437",
   "metadata": {},
   "outputs": [
    {
     "name": "stdout",
     "output_type": "stream",
     "text": [
      "2.0\n",
      "1\n",
      "6\n",
      "[0 6]\n",
      "[1 5]\n",
      "[1. 5.]\n"
     ]
    }
   ],
   "source": [
    "print(np.sum([0.5, 1.5]))\n",
    "print(np.sum([0.5, 0.7, 0.2, 1.5], dtype=np.int32))\n",
    "print(np.sum([[0, 1], [0, 5]]))\n",
    "print(np.sum([[0, 1], [0, 5]], axis=0))\n",
    "print(np.sum([[0, 1], [0, 5]], axis=1))\n",
    "print(np.sum([[0, 1], [np.nan, 5]], where=[False, True], axis=1))"
   ]
  },
  {
   "cell_type": "markdown",
   "id": "630044ae",
   "metadata": {},
   "source": [
    "# swapaxes\n",
    "- Interchange two axes of an array."
   ]
  },
  {
   "cell_type": "code",
   "execution_count": 612,
   "id": "b3be6e84",
   "metadata": {},
   "outputs": [
    {
     "name": "stdout",
     "output_type": "stream",
     "text": [
      "[[1]\n",
      " [2]\n",
      " [3]]\n",
      "[[2 4]\n",
      " [3 5]]\n"
     ]
    }
   ],
   "source": [
    "x = np.array([[1,2,3]])\n",
    "print(np.swapaxes(x,0,1))\n",
    "print(np.swapaxes(\n",
    "    np.array([[2, 3], [4, 5]]), 0, 1\n",
    "))"
   ]
  },
  {
   "cell_type": "markdown",
   "id": "0b1ac4ad",
   "metadata": {},
   "source": [
    "# take\n",
    "- Take elements from an array along an axis.\n",
    "- When axis is not None, this function does the same thing as “fancy” indexing (indexing arrays using arrays); however, it can be easier to use if you need elements along a given axis. A call such as np.take(arr, indices, axis=3) is equivalent to arr[:,:,:,indices,...].\n",
    "- Explained without fancy indexing, this is equivalent to the following use of ndindex, which sets each of ii, jj, and kk to a tuple of indices:"
   ]
  },
  {
   "cell_type": "code",
   "execution_count": 613,
   "id": "fb540d0d",
   "metadata": {},
   "outputs": [
    {
     "name": "stdout",
     "output_type": "stream",
     "text": [
      "[4 3 6]\n"
     ]
    }
   ],
   "source": [
    "a = [4, 3, 5, 7, 6, 8]\n",
    "indices = [0, 1, 4]\n",
    "print(np.take(a, indices))\n"
   ]
  },
  {
   "cell_type": "markdown",
   "id": "a3eff238",
   "metadata": {},
   "source": [
    "# take_along_axis\n",
    "- Take values from the input array by matching 1d index and data slices.\n",
    "- This iterates over matching 1d slices oriented along the specified axis in the index and data arrays, and uses the former to look up values in the latter. These slices can be different lengths.\n",
    "- Functions returning an index along an axis, like argsort and argpartition, produce suitable indices for this function."
   ]
  },
  {
   "cell_type": "code",
   "execution_count": 614,
   "id": "8d0554cb",
   "metadata": {},
   "outputs": [
    {
     "name": "stdout",
     "output_type": "stream",
     "text": [
      "[[0 2 1]\n",
      " [1 2 0]]\n",
      "[[10 20 30]\n",
      " [40 50 60]]\n"
     ]
    }
   ],
   "source": [
    "a = np.array([[10, 30, 20], [60, 40, 50]])\n",
    "np.sort(a, axis=1)\n",
    "ai = np.argsort(a, axis=1)\n",
    "print(ai)\n",
    "print(np.take_along_axis(a, ai, axis=1))"
   ]
  },
  {
   "cell_type": "markdown",
   "id": "930a987f",
   "metadata": {},
   "source": [
    "# tan\n",
    "- Compute tangent element-wise.\n",
    "- Equivalent to np.sin(x)/np.cos(x) element-wise."
   ]
  },
  {
   "cell_type": "code",
   "execution_count": 616,
   "id": "d27d8078",
   "metadata": {},
   "outputs": [
    {
     "name": "stdout",
     "output_type": "stream",
     "text": [
      "[ 1.2246e-16  1.6331e+16 -1.2246e-16]\n",
      "True\n"
     ]
    }
   ],
   "source": [
    "from math import pi\n",
    "print(np.tan(np.array([-pi,pi/2,pi])))\n",
    "# Example of providing the optional output parameter illustrating\n",
    "# that what is returned is a reference to said parameter\n",
    "out1 = np.array([0], dtype='d')\n",
    "out2 = np.cos([0.1], out1)\n",
    "print(out2 is out1)\n",
    "# Example of ValueError due to provision of shape mis-matched `out`"
   ]
  },
  {
   "cell_type": "markdown",
   "id": "db6ee125",
   "metadata": {},
   "source": [
    "# tanh\n",
    "- Compute hyperbolic tangent element-wise.\n",
    "- Equivalent to np.sinh(x)/np.cosh(x) or -1j * np.tan(1j*x)."
   ]
  },
  {
   "cell_type": "code",
   "execution_count": 617,
   "id": "6b3d02a3",
   "metadata": {},
   "outputs": [
    {
     "data": {
      "text/plain": [
       "array([0.+0.0000e+00j, 0.-1.2246e-16j, 0.+1.6331e+16j])"
      ]
     },
     "execution_count": 617,
     "metadata": {},
     "output_type": "execute_result"
    }
   ],
   "source": [
    "np.tanh((0, np.pi*1j, np.pi*1j/2))"
   ]
  },
  {
   "cell_type": "markdown",
   "id": "39c4a85c",
   "metadata": {},
   "source": [
    "# tensordot\n",
    "- Compute tensor dot product along specified axes.\n",
    "- Given two tensors, a and b, and an array_like object containing two array_like objects, (a_axes, b_axes), sum the products of a’s and b’s elements (components) over the axes specified by a_axes and b_axes. The third argument can be a single non-negative integer_like scalar, N; if it is such, then the last N dimensions of a and the first N dimensions of b are summed over."
   ]
  },
  {
   "cell_type": "code",
   "execution_count": 618,
   "id": "a5cef07f",
   "metadata": {},
   "outputs": [
    {
     "name": "stdout",
     "output_type": "stream",
     "text": [
      "(2, 2, 2, 2)\n",
      "[[[[ 5  6]\n",
      "   [ 7  8]]\n",
      "\n",
      "  [[10 12]\n",
      "   [14 16]]]\n",
      "\n",
      "\n",
      " [[[15 18]\n",
      "   [21 24]]\n",
      "\n",
      "  [[20 24]\n",
      "   [28 32]]]]\n"
     ]
    }
   ],
   "source": [
    "a_0 = np.array([[1, 2], [3, 4]])\n",
    "b_0 = np.array([[5, 6], [7, 8]])\n",
    "c_0 = np.tensordot(a_0, b_0, axes=0)\n",
    "print(c_0.shape)\n",
    "print(c_0)"
   ]
  },
  {
   "cell_type": "markdown",
   "id": "a0a5edb7",
   "metadata": {},
   "source": [
    "# tile\n",
    "- Construct an array by repeating A the number of times given by reps.\n",
    "- If reps has length d, the result will have dimension of max(d, A.ndim).\n",
    "- If A.ndim < d, A is promoted to be d-dimensional by prepending new axes. So a shape (3,) array is promoted to (1, 3) for 2-D replication, or shape (1, 1, 3) for 3-D replication. If this is not the desired behavior, promote A to d-dimensions manually before calling this function.\n",
    "- If A.ndim > d, reps is promoted to A.ndim by prepending 1’s to it. Thus for an A of shape (2, 3, 4, 5), a reps of (2, 2) is treated as (1, 1, 2, 2).\n",
    "- Note : Although tile may be used for broadcasting, it is strongly recommended to use numpy’s broadcasting operations and functions."
   ]
  },
  {
   "cell_type": "code",
   "execution_count": 619,
   "id": "cf21675f",
   "metadata": {},
   "outputs": [
    {
     "name": "stdout",
     "output_type": "stream",
     "text": [
      "[0 1 2 0 1 2]\n",
      "[[0 1 2 0 1 2]\n",
      " [0 1 2 0 1 2]]\n",
      "[[[0 1 2 0 1 2]]\n",
      "\n",
      " [[0 1 2 0 1 2]]]\n"
     ]
    }
   ],
   "source": [
    "a = np.array([0, 1, 2])\n",
    "print(np.tile(a, 2))\n",
    "print(np.tile(a, (2, 2)))\n",
    "print(np.tile(a, (2, 1, 2)))"
   ]
  },
  {
   "cell_type": "markdown",
   "id": "6aa20aeb",
   "metadata": {},
   "source": [
    "# trace\n",
    "- Return the sum along diagonals of the array.\n",
    "- If a is 2-D, the sum along its diagonal with the given offset is returned, i.e., the sum of elements a[i,i+offset] for all i.\n",
    "- If a has more than two dimensions, then the axes specified by axis1 and axis2 are used to determine the 2-D sub-arrays whose traces are returned. The shape of the resulting array is the same as that of a with axis1 and axis2 removed."
   ]
  },
  {
   "cell_type": "code",
   "execution_count": 621,
   "id": "d6502d86",
   "metadata": {},
   "outputs": [
    {
     "name": "stdout",
     "output_type": "stream",
     "text": [
      "6.0\n",
      "[6 8]\n"
     ]
    }
   ],
   "source": [
    "print(np.trace(np.eye(6)))\n",
    "a = np.arange(8).reshape((2,2,2))\n",
    "print(np.trace(a))"
   ]
  },
  {
   "cell_type": "markdown",
   "id": "2bae26af",
   "metadata": {},
   "source": [
    "# transpose\n",
    "- Returns an array with axes transposed.\n",
    "- For a 1-D array, this returns an unchanged view of the original array, as a transposed vector is simply the same vector. To convert a 1-D array into a 2-D column vector, an additional dimension must be added, e.g., np.atleast_2d(a).T achieves this, as does a[:, np.newaxis]. For a 2-D array, this is the standard matrix transpose. For an n-D array, if axes are given, their order indicates how the axes are permuted (see Examples). If axes are not provided, then transpose(a).shape == a.shape[::-1]."
   ]
  },
  {
   "cell_type": "code",
   "execution_count": 623,
   "id": "32acde6e",
   "metadata": {},
   "outputs": [
    {
     "data": {
      "text/plain": [
       "array([[2, 4],\n",
       "       [3, 5]])"
      ]
     },
     "execution_count": 623,
     "metadata": {},
     "output_type": "execute_result"
    }
   ],
   "source": [
    "np.transpose(\n",
    "    np.array([[2, 3], [4, 5]])\n",
    ")"
   ]
  },
  {
   "cell_type": "markdown",
   "id": "71a91f63",
   "metadata": {},
   "source": [
    "# trapezoid\n",
    "- Integrate along the given axis using the composite trapezoidal rule.\n",
    "- If x is provided, the integration happens in sequence along its elements - they are not sorted."
   ]
  },
  {
   "cell_type": "code",
   "execution_count": null,
   "id": "d6d22110",
   "metadata": {},
   "outputs": [],
   "source": [
    "np.trapezoid([1, 2, 3])"
   ]
  },
  {
   "cell_type": "markdown",
   "id": "47b4e53c",
   "metadata": {},
   "source": [
    "# tri\n",
    "- An array with ones at and below the given diagonal and zeros elsewhere.\n",
    "- The sub-diagonal at and below which the array is filled. k = 0 is the main diagonal, while k < 0 is below it, and k > 0 is above. The default is 0."
   ]
  },
  {
   "cell_type": "code",
   "execution_count": 627,
   "id": "7107b70c",
   "metadata": {},
   "outputs": [
    {
     "name": "stdout",
     "output_type": "stream",
     "text": [
      "[[1. 0. 0.]\n",
      " [1. 1. 0.]\n",
      " [1. 1. 1.]]\n"
     ]
    }
   ],
   "source": [
    "print(np.tri(3))\n"
   ]
  },
  {
   "cell_type": "markdown",
   "id": "132eba62",
   "metadata": {},
   "source": [
    "# tril\n",
    "- Lower triangle of an array.\n",
    "- Return a copy of an array with elements above the k-th diagonal zeroed. For arrays with ndim exceeding 2, tril will apply to the final two axes."
   ]
  },
  {
   "cell_type": "code",
   "execution_count": 645,
   "id": "44fdd495",
   "metadata": {},
   "outputs": [
    {
     "name": "stdout",
     "output_type": "stream",
     "text": [
      "[[1 0]\n",
      " [2 2]]\n",
      "[[1. 0. 0. 0.]\n",
      " [1. 1. 0. 0.]\n",
      " [1. 1. 1. 0.]\n",
      " [1. 1. 1. 1.]]\n"
     ]
    }
   ],
   "source": [
    "print(np.tril(\n",
    "    np.array([[1, 1], [2, 2]])\n",
    "))\n",
    "print(np.tril(np.ones(4)))\n"
   ]
  },
  {
   "cell_type": "markdown",
   "id": "192cbdb4",
   "metadata": {},
   "source": [
    "# tril_indices\n",
    "- Return the indices for the lower-triangle of an (n, m) array."
   ]
  },
  {
   "cell_type": "code",
   "execution_count": 646,
   "id": "df0f3ccb",
   "metadata": {},
   "outputs": [
    {
     "data": {
      "text/plain": [
       "(array([0, 1, 1, 2, 2, 2, 3, 3, 3, 3]), array([0, 0, 1, 0, 1, 2, 0, 1, 2, 3]))"
      ]
     },
     "execution_count": 646,
     "metadata": {},
     "output_type": "execute_result"
    }
   ],
   "source": [
    "np.tril_indices(4)"
   ]
  },
  {
   "cell_type": "markdown",
   "id": "c13e00d9",
   "metadata": {},
   "source": [
    "# tril_indices_from\n",
    "- Return the indices for the lower-triangle of arr."
   ]
  },
  {
   "cell_type": "code",
   "execution_count": 647,
   "id": "950cfd3f",
   "metadata": {},
   "outputs": [
    {
     "data": {
      "text/plain": [
       "(array([0, 1, 1, 2, 2, 2, 3, 3, 3, 3]), array([0, 0, 1, 0, 1, 2, 0, 1, 2, 3]))"
      ]
     },
     "execution_count": 647,
     "metadata": {},
     "output_type": "execute_result"
    }
   ],
   "source": [
    "a = np.arange(16).reshape(4, 4)\n",
    "np.tril_indices_from(a)"
   ]
  },
  {
   "cell_type": "markdown",
   "id": "0f999de5",
   "metadata": {},
   "source": [
    "# trim_zeros\n",
    "- Remove values along a dimension which are zero along all other."
   ]
  },
  {
   "cell_type": "code",
   "execution_count": 648,
   "id": "287c0d54",
   "metadata": {},
   "outputs": [
    {
     "data": {
      "text/plain": [
       "array([1, 2, 3, 0, 2, 1])"
      ]
     },
     "execution_count": 648,
     "metadata": {},
     "output_type": "execute_result"
    }
   ],
   "source": [
    "a = np.array((0, 0, 0, 1, 2, 3, 0, 2, 1, 0)) \n",
    "np.trim_zeros(a) # only remove the outer zeros"
   ]
  },
  {
   "cell_type": "markdown",
   "id": "70c1e137",
   "metadata": {},
   "source": [
    "# triu\n",
    "- Upper triangle of an array.\n",
    "- Return a copy of an array with the elements below the k-th diagonal zeroed. For arrays with ndim exceeding 2, triu will apply to the final two axes.\n"
   ]
  },
  {
   "cell_type": "code",
   "execution_count": 632,
   "id": "30dcd06c",
   "metadata": {},
   "outputs": [
    {
     "data": {
      "text/plain": [
       "array([[1, 1],\n",
       "       [0, 1]])"
      ]
     },
     "execution_count": 632,
     "metadata": {},
     "output_type": "execute_result"
    }
   ],
   "source": [
    "np.triu((1, 1))"
   ]
  },
  {
   "cell_type": "markdown",
   "id": "1cede6c9",
   "metadata": {},
   "source": [
    "# triu_indices\n",
    "- Return the indices for the upper-triangle of an (n, m) array."
   ]
  },
  {
   "cell_type": "code",
   "execution_count": 649,
   "id": "65bedda3",
   "metadata": {},
   "outputs": [
    {
     "data": {
      "text/plain": [
       "(array([0, 0, 0, 0, 1, 1, 1, 2, 2, 3]), array([0, 1, 2, 3, 1, 2, 3, 2, 3, 3]))"
      ]
     },
     "execution_count": 649,
     "metadata": {},
     "output_type": "execute_result"
    }
   ],
   "source": [
    "np.triu_indices(4)"
   ]
  },
  {
   "cell_type": "markdown",
   "id": "19be6444",
   "metadata": {},
   "source": [
    "# triu_indices_from\n",
    "- Return the indices for the upper-triangle of arr."
   ]
  },
  {
   "cell_type": "code",
   "execution_count": 650,
   "id": "b61d5051",
   "metadata": {},
   "outputs": [
    {
     "data": {
      "text/plain": [
       "(array([0, 0, 0, 0, 1, 1, 1, 2, 2, 3]), array([0, 1, 2, 3, 1, 2, 3, 2, 3, 3]))"
      ]
     },
     "execution_count": 650,
     "metadata": {},
     "output_type": "execute_result"
    }
   ],
   "source": [
    "np.triu_indices_from(np.arange(16).reshape(4, 4))"
   ]
  },
  {
   "cell_type": "markdown",
   "id": "2322805a",
   "metadata": {},
   "source": [
    "# true_divide\n",
    "- Divide arguments element-wise."
   ]
  },
  {
   "cell_type": "code",
   "execution_count": 653,
   "id": "d7c8ead1",
   "metadata": {},
   "outputs": [
    {
     "name": "stdout",
     "output_type": "stream",
     "text": [
      "0.5\n",
      "[[1.  1.  1. ]\n",
      " [4.  2.5 2. ]\n",
      " [7.  4.  3. ]]\n"
     ]
    }
   ],
   "source": [
    "print(np.divide(2.0, 4.0))\n",
    "x1 = np.arange(1.0, 10.0).reshape((3, 3))\n",
    "x2 = np.arange(1.0, 4.0)\n",
    "print(np.divide(x1, x2))"
   ]
  },
  {
   "cell_type": "markdown",
   "id": "622c2821",
   "metadata": {},
   "source": [
    "# trunc\n",
    "- Return the truncated value of the input, element-wise.\n",
    "- The truncated value of the scalar x is the nearest integer i which is closer to zero than x is. In short, the fractional part of the signed number x is discarded.\n",
    "- numpy.trunc aligns with the C99 standard's trunc function, while numpy.fix is named similarly to a function found in MATLAB."
   ]
  },
  {
   "cell_type": "code",
   "execution_count": 654,
   "id": "3406355e",
   "metadata": {},
   "outputs": [
    {
     "data": {
      "text/plain": [
       "array([-1., -1., -0.,  0.,  1.,  1.,  2.])"
      ]
     },
     "execution_count": 654,
     "metadata": {},
     "output_type": "execute_result"
    }
   ],
   "source": [
    "a = np.array([-1.7, -1.5, -0.2, 0.2, 1.5, 1.7, 2.0])\n",
    "np.trunc(a)"
   ]
  },
  {
   "cell_type": "code",
   "execution_count": 655,
   "id": "7b6cd558",
   "metadata": {},
   "outputs": [
    {
     "data": {
      "text/plain": [
       "False"
      ]
     },
     "execution_count": 655,
     "metadata": {},
     "output_type": "execute_result"
    }
   ],
   "source": [
    "np.trunc is np.fix"
   ]
  },
  {
   "cell_type": "markdown",
   "id": "e3877fd9",
   "metadata": {},
   "source": [
    "# typename\n",
    "- Return a description for the given data type code."
   ]
  },
  {
   "cell_type": "code",
   "execution_count": 656,
   "id": "fe391108",
   "metadata": {},
   "outputs": [
    {
     "name": "stdout",
     "output_type": "stream",
     "text": [
      "S1  :  character\n",
      "?  :  bool\n",
      "B  :  unsigned char\n",
      "D  :  complex double precision\n",
      "G  :  complex long double precision\n",
      "F  :  complex single precision\n",
      "I  :  unsigned integer\n",
      "H  :  unsigned short\n",
      "L  :  unsigned long integer\n",
      "O  :  object\n",
      "Q  :  unsigned long long integer\n",
      "S  :  string\n",
      "U  :  unicode\n",
      "V  :  void\n",
      "b  :  signed char\n",
      "d  :  double precision\n",
      "g  :  long precision\n",
      "f  :  single precision\n",
      "i  :  integer\n",
      "h  :  short\n",
      "l  :  long integer\n",
      "q  :  long long integer\n"
     ]
    }
   ],
   "source": [
    "typechars = ['S1', '?', 'B', 'D', 'G', 'F', 'I', 'H', 'L', 'O', 'Q',\n",
    "             'S', 'U', 'V', 'b', 'd', 'g', 'f', 'i', 'h', 'l', 'q']\n",
    "for typechar in typechars:\n",
    "    print(typechar, ' : ', np.typename(typechar))"
   ]
  },
  {
   "cell_type": "markdown",
   "id": "2101d232",
   "metadata": {},
   "source": [
    "# union1d\n",
    "- Find the union of two arrays.\n",
    "- Return the unique, sorted array of values that are in either of the two input arrays."
   ]
  },
  {
   "cell_type": "code",
   "execution_count": 657,
   "id": "0721eeec",
   "metadata": {},
   "outputs": [
    {
     "data": {
      "text/plain": [
       "array([-2, -1,  0,  1,  2])"
      ]
     },
     "execution_count": 657,
     "metadata": {},
     "output_type": "execute_result"
    }
   ],
   "source": [
    "np.union1d([-1, 0, 1], [-2, 0, 2])"
   ]
  },
  {
   "cell_type": "markdown",
   "id": "442f12fe",
   "metadata": {},
   "source": [
    "# unique\n",
    "- Find the unique elements of an array.\n",
    "- Returns the sorted unique elements of an array. There are three optional outputs in addition to the unique elements:\n",
    "    - the indices of the input array that give the unique values\n",
    "    - the indices of the unique array that reconstruct the input array\n",
    "    - the number of times each unique value comes up in the input array"
   ]
  },
  {
   "cell_type": "code",
   "execution_count": 658,
   "id": "8ad4c0a0",
   "metadata": {},
   "outputs": [
    {
     "name": "stdout",
     "output_type": "stream",
     "text": [
      "[1 2 3]\n",
      "[1 2 3]\n"
     ]
    }
   ],
   "source": [
    "print(np.unique([1, 1, 2, 2, 3, 3]))\n",
    "a = np.array([[1, 1], [2, 3]])\n",
    "print(np.unique(a))"
   ]
  },
  {
   "cell_type": "markdown",
   "id": "c4e7f3df",
   "metadata": {},
   "source": [
    "# unique_all\n",
    "- Find the unique elements of an array, and counts, inverse, and indices.\n",
    "- This function is an Array API compatible alternative to:\n",
    "    - np.unique(x, return_index=True, return_inverse=True,\n",
    "          return_counts=True, equal_nan=False, sorted=False)"
   ]
  },
  {
   "cell_type": "code",
   "execution_count": 660,
   "id": "918951d8",
   "metadata": {},
   "outputs": [
    {
     "name": "stdout",
     "output_type": "stream",
     "text": [
      "[1 2]\n",
      "[0 2]\n",
      "[0 0 1]\n",
      "[2 1]\n"
     ]
    }
   ],
   "source": [
    "x = [1, 1, 2]\n",
    "uniq = np.unique_all(x)\n",
    "print(uniq.values)\n",
    "print(uniq.indices)\n",
    "print(uniq.inverse_indices)\n",
    "print(uniq.counts)"
   ]
  },
  {
   "cell_type": "markdown",
   "id": "cd2b9355",
   "metadata": {},
   "source": [
    "# unique_counts\n",
    "- Find the unique elements and counts of an input array x.\n",
    "- This function is an Array API compatible alternative to:\n",
    "    - np.unique(x, return_counts=True, equal_nan=False, sorted=False)\n",
    "- but returns a namedtuple for easier access to each output."
   ]
  },
  {
   "cell_type": "code",
   "execution_count": 662,
   "id": "9185aec2",
   "metadata": {},
   "outputs": [
    {
     "name": "stdout",
     "output_type": "stream",
     "text": [
      "[1 2]\n",
      "[2 1]\n"
     ]
    }
   ],
   "source": [
    "x = [1, 1, 2]\n",
    "uniq = np.unique_counts(x)\n",
    "print(uniq.values)\n",
    "print(uniq.counts)"
   ]
  },
  {
   "cell_type": "markdown",
   "id": "634387cd",
   "metadata": {},
   "source": [
    "# unique_inverse\n",
    "- Find the unique elements of x and indices to reconstruct x.\n",
    "- This function is an Array API compatible alternative to:\n",
    "    - np.unique(x, return_inverse=True, equal_nan=False, sorted=False)\n",
    "- but returns a namedtuple for easier access to each output."
   ]
  },
  {
   "cell_type": "code",
   "execution_count": 664,
   "id": "04d92d04",
   "metadata": {},
   "outputs": [
    {
     "name": "stdout",
     "output_type": "stream",
     "text": [
      "[1 2]\n",
      "[0 0 1]\n"
     ]
    }
   ],
   "source": [
    "x = [1, 1, 2]\n",
    "uniq = np.unique_inverse(x)\n",
    "print(uniq.values)\n",
    "print(uniq.inverse_indices)"
   ]
  },
  {
   "cell_type": "markdown",
   "id": "b7982dc2",
   "metadata": {},
   "source": [
    "# unique_values\n",
    "- Returns the unique elements of an input array x.\n",
    "- This function is an Array API compatible alternative to:\n",
    "    - np.unique(x, equal_nan=False, sorted=False)"
   ]
  },
  {
   "cell_type": "code",
   "execution_count": 666,
   "id": "388a2182",
   "metadata": {},
   "outputs": [
    {
     "data": {
      "text/plain": [
       "array([ 1,  2, 10, 20, 30, 40])"
      ]
     },
     "execution_count": 666,
     "metadata": {},
     "output_type": "execute_result"
    }
   ],
   "source": [
    "np.unique_values([1, 1, 2, 10, 30, 40, 30, 20, 10])"
   ]
  },
  {
   "cell_type": "markdown",
   "id": "6eee5599",
   "metadata": {},
   "source": [
    "# unpackbits\n",
    "- Unpacks elements of a uint8 array into a binary-valued output array.\n",
    "- Each element of a represents a bit-field that should be unpacked into a binary-valued output array. The shape of the output array is either 1-D (if axis is None) or the same shape as the input array with unpacking done along the axis specified."
   ]
  },
  {
   "cell_type": "code",
   "execution_count": 667,
   "id": "b22e1f1e",
   "metadata": {},
   "outputs": [
    {
     "name": "stdout",
     "output_type": "stream",
     "text": [
      "[[ 2]\n",
      " [ 7]\n",
      " [23]]\n",
      "[[0 0 0 0 0 0 1 0]\n",
      " [0 0 0 0 0 1 1 1]\n",
      " [0 0 0 1 0 1 1 1]]\n",
      "[[0 0 0 0 0]\n",
      " [0 0 0 0 0]\n",
      " [0 0 0 1 0]]\n"
     ]
    }
   ],
   "source": [
    "a = np.array([[2], [7], [23]], dtype=np.uint8)\n",
    "print(a)\n",
    "b = np.unpackbits(a, axis=1)\n",
    "print(b)\n",
    "c = np.unpackbits(a, axis=1, count=-3)\n",
    "print(c)"
   ]
  },
  {
   "cell_type": "markdown",
   "id": "38ea9915",
   "metadata": {},
   "source": [
    "# unravel_index\n",
    "- Converts a flat index or array of flat indices into a tuple of coordinate arrays."
   ]
  },
  {
   "cell_type": "code",
   "execution_count": 668,
   "id": "dd80b5eb",
   "metadata": {},
   "outputs": [
    {
     "name": "stdout",
     "output_type": "stream",
     "text": [
      "(array([3, 6, 6]), array([4, 5, 1]))\n",
      "(array([3, 6, 6]), array([4, 5, 1]))\n"
     ]
    }
   ],
   "source": [
    "print(np.unravel_index([22, 41, 37], (7,6)))\n",
    "print(np.unravel_index([31, 41, 13], (7,6), order='F'))"
   ]
  },
  {
   "cell_type": "markdown",
   "id": "854c8272",
   "metadata": {},
   "source": [
    "# unstack\n",
    "- Split an array into a sequence of arrays along the given axis.\n",
    "- The axis parameter specifies the dimension along which the array will be split. For example, if axis=0 (the default) it will be the first dimension and if axis=-1 it will be the last dimension.\n",
    "- The result is a tuple of arrays split along axis."
   ]
  },
  {
   "cell_type": "code",
   "execution_count": 669,
   "id": "006db571",
   "metadata": {},
   "outputs": [
    {
     "name": "stdout",
     "output_type": "stream",
     "text": [
      "(array([[ 0,  1,  2,  3],\n",
      "       [ 4,  5,  6,  7],\n",
      "       [ 8,  9, 10, 11]]), array([[12, 13, 14, 15],\n",
      "       [16, 17, 18, 19],\n",
      "       [20, 21, 22, 23]]))\n",
      "(array([[ 0,  1,  2,  3],\n",
      "       [12, 13, 14, 15]]), array([[ 4,  5,  6,  7],\n",
      "       [16, 17, 18, 19]]), array([[ 8,  9, 10, 11],\n",
      "       [20, 21, 22, 23]]))\n",
      "(2, 3, 4)\n",
      "True\n"
     ]
    }
   ],
   "source": [
    "arr = np.arange(24).reshape((2, 3, 4))\n",
    "print(np.unstack(arr))\n",
    "print(np.unstack(arr, axis=1))\n",
    "arr2 = np.stack(np.unstack(arr, axis=1), axis=1)\n",
    "print(arr2.shape)\n",
    "print(np.all(arr == arr2))"
   ]
  },
  {
   "cell_type": "markdown",
   "id": "2a306382",
   "metadata": {},
   "source": [
    "# unwrap\n",
    "- Unwrap by taking the complement of large deltas with respect to the period.\n",
    "- This unwraps a signal p by changing elements which have an absolute difference from their predecessor of more than max(discont, period/2) to their period-complementary values."
   ]
  },
  {
   "cell_type": "code",
   "execution_count": 670,
   "id": "eac95cd8",
   "metadata": {},
   "outputs": [
    {
     "name": "stdout",
     "output_type": "stream",
     "text": [
      "[0.     0.7854 1.5708 5.4978 6.2832]\n",
      "[ 0.      0.7854  1.5708 -0.7854  0.    ]\n",
      "[0 1 2 3 4]\n",
      "[1 2 3 4 5 6 7 8 9]\n",
      "[2 3 4 5 6 7 8 9]\n",
      "[-180. -140. -100.  -60.  -20.   20.   60.  100.  140.  180.  220.  260.\n",
      "  300.  340.  380.  420.  460.  500.  540.]\n"
     ]
    }
   ],
   "source": [
    "phase = np.linspace(0, np.pi, num=5)\n",
    "phase[3:] += np.pi\n",
    "print(phase)\n",
    "print(np.unwrap(phase))\n",
    "print(np.unwrap([0, 1, 2, -1, 0], period=4))\n",
    "print(np.unwrap([ 1, 2, 3, 4, 5, 6, 1, 2, 3], period=6))\n",
    "print(np.unwrap([2, 3, 4, 5, 2, 3, 4, 5], period=4))\n",
    "phase_deg = np.mod(np.linspace(0 ,720, 19), 360) - 180\n",
    "print(np.unwrap(phase_deg, period=360))"
   ]
  },
  {
   "cell_type": "markdown",
   "id": "3f75a12f",
   "metadata": {},
   "source": [
    "# vander\n",
    "- Generate a Vandermonde matrix.\n",
    "- The columns of the output matrix are powers of the input vector. The order of the powers is determined by the increasing boolean argument. Specifically, when increasing is False, the i-th output column is the input vector raised element-wise to the power of N - i - 1. Such a matrix with a geometric progression in each row is named for Alexandre- Theophile Vandermonde."
   ]
  },
  {
   "cell_type": "code",
   "execution_count": 671,
   "id": "9bbad9e3",
   "metadata": {},
   "outputs": [
    {
     "data": {
      "text/plain": [
       "array([[ 1,  1,  1],\n",
       "       [ 4,  2,  1],\n",
       "       [ 9,  3,  1],\n",
       "       [25,  5,  1]])"
      ]
     },
     "execution_count": 671,
     "metadata": {},
     "output_type": "execute_result"
    }
   ],
   "source": [
    "x = np.array([1, 2, 3, 5])\n",
    "N = 3\n",
    "np.vander(x, N)"
   ]
  },
  {
   "cell_type": "markdown",
   "id": "0a9b2c9f",
   "metadata": {},
   "source": [
    "# var\n",
    "- Compute the variance along the specified axis.\n",
    "- Returns the variance of the array elements, a measure of the spread of a distribution. The variance is computed for the flattened array by default, otherwise over the specified axis."
   ]
  },
  {
   "cell_type": "code",
   "execution_count": 672,
   "id": "2bc3cada",
   "metadata": {},
   "outputs": [
    {
     "name": "stdout",
     "output_type": "stream",
     "text": [
      "1.25\n",
      "[1. 1.]\n",
      "[0.25 0.25]\n"
     ]
    }
   ],
   "source": [
    "a = np.array([[1, 2], [3, 4]])\n",
    "print(np.var(a))\n",
    "print(np.var(a, axis=0))\n",
    "print(np.var(a, axis=1))"
   ]
  },
  {
   "cell_type": "markdown",
   "id": "65b9991d",
   "metadata": {},
   "source": [
    "# vdot\n",
    "- Return the dot product of two vectors.\n",
    "- The vdot function handles complex numbers differently than dot: if the first argument is complex, it is replaced by its complex conjugate in the dot product calculation. vdot also handles multidimensional arrays differently than dot: it does not perform a matrix product, but flattens the arguments to 1-D arrays before taking a vector dot product.\n",
    "- Consequently, when the arguments are 2-D arrays of the same shape, this function effectively returns their Frobenius inner product (also known as the trace inner product or the standard inner product on a vector space of matrices)."
   ]
  },
  {
   "cell_type": "code",
   "execution_count": 673,
   "id": "ad9c2858",
   "metadata": {},
   "outputs": [
    {
     "name": "stdout",
     "output_type": "stream",
     "text": [
      "(70-8j)\n",
      "(70+8j)\n"
     ]
    }
   ],
   "source": [
    "a = np.array([1+2j,3+4j])\n",
    "b = np.array([5+6j,7+8j])\n",
    "print(np.vdot(a, b))\n",
    "print(np.vdot(b, a))"
   ]
  },
  {
   "cell_type": "markdown",
   "id": "5a82a924",
   "metadata": {},
   "source": [
    "# vecdot\n",
    "- Vector dot product of two arrays."
   ]
  },
  {
   "cell_type": "code",
   "execution_count": 674,
   "id": "81895c32",
   "metadata": {},
   "outputs": [
    {
     "data": {
      "text/plain": [
       "array([ 3.,  8., 10.])"
      ]
     },
     "execution_count": 674,
     "metadata": {},
     "output_type": "execute_result"
    }
   ],
   "source": [
    "v = np.array([[0., 5., 0.], [0., 0., 10.], [0., 6., 8.]])\n",
    "n = np.array([0., 0.6, 0.8])\n",
    "np.vecdot(v, n)"
   ]
  },
  {
   "cell_type": "markdown",
   "id": "8d93092a",
   "metadata": {},
   "source": [
    "# vectorize\n",
    "- Returns an object that acts like pyfunc, but takes arrays as input.\n",
    "- Define a vectorized function which takes a nested sequence of objects or numpy arrays as inputs and returns a single numpy array or a tuple of numpy arrays. The vectorized function evaluates pyfunc over successive tuples of the input arrays like the python map function, except it uses the broadcasting rules of numpy.\n",
    "- The data type of the output of vectorized is determined by calling the function with the first element of the input. This can be avoided by specifying the otypes argument."
   ]
  },
  {
   "cell_type": "code",
   "execution_count": 675,
   "id": "70db40bd",
   "metadata": {},
   "outputs": [
    {
     "data": {
      "text/plain": [
       "array([3, 4, 1, 2])"
      ]
     },
     "execution_count": 675,
     "metadata": {},
     "output_type": "execute_result"
    }
   ],
   "source": [
    "def myfunc(a, b):\n",
    "    \"Return a-b if a>b, otherwise return a+b\"\n",
    "    if a > b:\n",
    "        return a - b\n",
    "    else:\n",
    "        return a + b\n",
    "vfunc = np.vectorize(myfunc)\n",
    "vfunc([1, 2, 3, 4], 2)"
   ]
  },
  {
   "cell_type": "markdown",
   "id": "e08a56ec",
   "metadata": {},
   "source": [
    "# vsplit\n",
    "- Split an array into multiple sub-arrays vertically (row-wise).\n",
    "- Please refer to the split documentation. vsplit is equivalent to split with axis=0 (default), the array is always split along the first axis regardless of the array dimension."
   ]
  },
  {
   "cell_type": "code",
   "execution_count": 676,
   "id": "92424078",
   "metadata": {},
   "outputs": [
    {
     "name": "stdout",
     "output_type": "stream",
     "text": [
      "[[ 0.  1.  2.  3.]\n",
      " [ 4.  5.  6.  7.]\n",
      " [ 8.  9. 10. 11.]\n",
      " [12. 13. 14. 15.]]\n",
      "[array([[0., 1., 2., 3.],\n",
      "       [4., 5., 6., 7.]]), array([[ 8.,  9., 10., 11.],\n",
      "       [12., 13., 14., 15.]])]\n",
      "[array([[ 0.,  1.,  2.,  3.],\n",
      "       [ 4.,  5.,  6.,  7.],\n",
      "       [ 8.,  9., 10., 11.]]), array([[12., 13., 14., 15.]]), array([], shape=(0, 4), dtype=float64)]\n"
     ]
    }
   ],
   "source": [
    "import numpy as np\n",
    "x = np.arange(16.0).reshape(4, 4)\n",
    "print(x)\n",
    "print(np.vsplit(x, 2))\n",
    "print(np.vsplit(x, np.array([3, 6])))"
   ]
  },
  {
   "cell_type": "markdown",
   "id": "aca0234f",
   "metadata": {},
   "source": [
    "# vstack\n",
    "- Stack arrays in sequence vertically (row wise)."
   ]
  },
  {
   "cell_type": "code",
   "execution_count": 59,
   "id": "c04e3895",
   "metadata": {},
   "outputs": [
    {
     "data": {
      "text/plain": [
       "array([[1, 2, 3],\n",
       "       [4, 5, 6]])"
      ]
     },
     "execution_count": 59,
     "metadata": {},
     "output_type": "execute_result"
    }
   ],
   "source": [
    "a = np.array([1, 2, 3])\n",
    "b = np.array([4, 5, 6])\n",
    "np.vstack((a,b))"
   ]
  },
  {
   "cell_type": "markdown",
   "id": "274e53a7",
   "metadata": {},
   "source": [
    "# where\n",
    "- Return elements chosen from x or y depending on condition.\n",
    "- Without x and y: If only the condition is provided, numpy.where() returns a tuple of arrays, one for each dimension of the input array, containing the indices where the condition is True. This is equivalent to numpy.nonzero().\n",
    "- provide all three parameters to return the same ndarray or if only condition, then the return indices as a tuple\n",
    "- Finding Indices: When used with only a condition, it returns the indices where the condition is True."
   ]
  },
  {
   "cell_type": "code",
   "execution_count": 58,
   "id": "c90a4fb5",
   "metadata": {},
   "outputs": [
    {
     "data": {
      "text/plain": [
       "(array([0, 1, 2, 3, 4]),)"
      ]
     },
     "execution_count": 58,
     "metadata": {},
     "output_type": "execute_result"
    }
   ],
   "source": [
    "x = np.arange(10)\n",
    "y = 10 # otherwise\n",
    "np.where(x < 5)"
   ]
  },
  {
   "cell_type": "code",
   "execution_count": 57,
   "id": "9a7469ad",
   "metadata": {},
   "outputs": [
    {
     "data": {
      "text/plain": [
       "(array([2, 2, 2]), array([0, 1, 2]))"
      ]
     },
     "execution_count": 57,
     "metadata": {},
     "output_type": "execute_result"
    }
   ],
   "source": [
    "x = np.array([[1,2,3], [4, 5, 6], [7, 8, 9]])\n",
    "np.where(x > 6)"
   ]
  },
  {
   "cell_type": "markdown",
   "id": "ffde4ae1",
   "metadata": {},
   "source": [
    "# zeros\n",
    "- Return a new array of given shape and type, filled with zeros."
   ]
  },
  {
   "cell_type": "code",
   "execution_count": null,
   "id": "4bd5c65a",
   "metadata": {},
   "outputs": [
    {
     "data": {
      "text/plain": [
       "array([[0., 0., 0.],\n",
       "       [0., 0., 0.]])"
      ]
     },
     "execution_count": 33,
     "metadata": {},
     "output_type": "execute_result"
    }
   ],
   "source": [
    "np.zeros(6).reshape((2,3))"
   ]
  },
  {
   "cell_type": "markdown",
   "id": "6d7b794c",
   "metadata": {},
   "source": [
    "# zeros_like\n",
    "- Return an array of zeros with the same shape and type as a given array."
   ]
  },
  {
   "cell_type": "code",
   "execution_count": 677,
   "id": "7e358216",
   "metadata": {},
   "outputs": [
    {
     "data": {
      "text/plain": [
       "array([[0, 0, 0],\n",
       "       [0, 0, 0]])"
      ]
     },
     "execution_count": 677,
     "metadata": {},
     "output_type": "execute_result"
    }
   ],
   "source": [
    "np.zeros_like(np.arange(6).reshape((2, 3)))"
   ]
  },
  {
   "cell_type": "markdown",
   "id": "e990e22e",
   "metadata": {},
   "source": [
    "# => linalg (lib)"
   ]
  },
  {
   "cell_type": "code",
   "execution_count": 680,
   "id": "9442cdf1",
   "metadata": {},
   "outputs": [],
   "source": [
    "from numpy import linalg as LA"
   ]
  },
  {
   "cell_type": "markdown",
   "id": "bd03c2f6",
   "metadata": {},
   "source": [
    "# cholesky\n",
    "- Cholesky decomposition.\n",
    "- Return the lower or upper Cholesky decomposition, L * L.H or U.H * U, of the square matrix a, where L is lower-triangular, U is upper-triangular, and .H is the conjugate transpose operator (which is the ordinary transpose if a is real-valued). a must be Hermitian (symmetric if real-valued) and positive-definite. No checking is performed to verify whether a is Hermitian or not. In addition, only the lower or upper-triangular and diagonal elements of a are used. Only L or U is actually returned."
   ]
  },
  {
   "cell_type": "code",
   "execution_count": 681,
   "id": "730d2703",
   "metadata": {},
   "outputs": [
    {
     "data": {
      "text/plain": [
       "array([[1.+0.j, 0.+0.j],\n",
       "       [0.+2.j, 1.+0.j]])"
      ]
     },
     "execution_count": 681,
     "metadata": {},
     "output_type": "execute_result"
    }
   ],
   "source": [
    "A = np.array([[1,-2j],[2j,5]])\n",
    "LA.cholesky(A)"
   ]
  },
  {
   "cell_type": "markdown",
   "id": "39a0e44e",
   "metadata": {},
   "source": [
    "# cond\n",
    "- Compute the condition number of a matrix.\n",
    "- This function is capable of returning the condition number using one of seven different norms, depending on the value of p (see Parameters below)."
   ]
  },
  {
   "cell_type": "code",
   "execution_count": 682,
   "id": "d578a6d5",
   "metadata": {},
   "outputs": [
    {
     "data": {
      "text/plain": [
       "np.float64(1.4142135623730951)"
      ]
     },
     "execution_count": 682,
     "metadata": {},
     "output_type": "execute_result"
    }
   ],
   "source": [
    "a = np.array([[1, 0, -1], [0, 1, 0], [1, 0, 1]])\n",
    "LA.cond(a)"
   ]
  },
  {
   "cell_type": "markdown",
   "id": "6dd2e5b5",
   "metadata": {},
   "source": [
    "# cross\n",
    "- Return the cross product of two (arrays of) vectors.\n",
    "- The cross product of a and b in \n",
    " is a vector perpendicular to both a and b. If a and b are arrays of vectors, the vectors are defined by the last axis of a and b by default, and these axes can have dimensions 2 or 3. Where the dimension of either a or b is 2, the third component of the input vector is assumed to be zero and the cross product calculated accordingly. In cases where both input vectors have dimension 2, the z-component of the cross product is returned."
   ]
  },
  {
   "cell_type": "code",
   "execution_count": 683,
   "id": "d2bbbd87",
   "metadata": {},
   "outputs": [
    {
     "data": {
      "text/plain": [
       "array([-3,  6, -3])"
      ]
     },
     "execution_count": 683,
     "metadata": {},
     "output_type": "execute_result"
    }
   ],
   "source": [
    "x = [1, 2, 3]\n",
    "y = [4, 5, 6]\n",
    "LA.cross(x, y)"
   ]
  },
  {
   "cell_type": "markdown",
   "id": "f55c0221",
   "metadata": {},
   "source": [
    "# det\n",
    "- Compute the determinant of an array."
   ]
  },
  {
   "cell_type": "code",
   "execution_count": 684,
   "id": "d39fe332",
   "metadata": {},
   "outputs": [
    {
     "data": {
      "text/plain": [
       "np.float64(-2.0000000000000004)"
      ]
     },
     "execution_count": 684,
     "metadata": {},
     "output_type": "execute_result"
    }
   ],
   "source": [
    "a = np.array([[1, 2], [3, 4]])\n",
    "LA.det(a)"
   ]
  },
  {
   "cell_type": "markdown",
   "id": "bb80dfbc",
   "metadata": {},
   "source": [
    "# diagonal\n",
    "- Returns specified diagonals of a matrix (or a stack of matrices) x.\n",
    "- This function is Array API compatible, contrary to numpy.diagonal, the matrix is assumed to be defined by the last two dimensions."
   ]
  },
  {
   "cell_type": "code",
   "execution_count": 685,
   "id": "5272b634",
   "metadata": {},
   "outputs": [
    {
     "data": {
      "text/plain": [
       "array([0, 3])"
      ]
     },
     "execution_count": 685,
     "metadata": {},
     "output_type": "execute_result"
    }
   ],
   "source": [
    "a = np.arange(4).reshape(2, 2); a\n",
    "LA.diagonal(a)"
   ]
  },
  {
   "cell_type": "markdown",
   "id": "a6a8b0ee",
   "metadata": {},
   "source": [
    "# eig\n",
    "- Compute the eigenvalues and right eigenvectors of a square array."
   ]
  },
  {
   "cell_type": "code",
   "execution_count": 686,
   "id": "b5926ca5",
   "metadata": {},
   "outputs": [
    {
     "name": "stdout",
     "output_type": "stream",
     "text": [
      "[1. 2. 3.]\n",
      "[[1. 0. 0.]\n",
      " [0. 1. 0.]\n",
      " [0. 0. 1.]]\n"
     ]
    }
   ],
   "source": [
    "eigenvalues, eigenvectors = LA.eig(np.diag((1, 2, 3)))\n",
    "print(eigenvalues)\n",
    "print(eigenvectors)"
   ]
  },
  {
   "cell_type": "markdown",
   "id": "c31a7fcc",
   "metadata": {},
   "source": [
    "# eigh\n",
    "- Return the eigenvalues and eigenvectors of a complex Hermitian (conjugate symmetric) or a real symmetric matrix.\n",
    "- Returns two objects, a 1-D array containing the eigenvalues of a, and a 2-D square array or matrix (depending on the input type) of the corresponding eigenvectors (in columns)."
   ]
  },
  {
   "cell_type": "code",
   "execution_count": 689,
   "id": "ecbbf786",
   "metadata": {},
   "outputs": [
    {
     "name": "stdout",
     "output_type": "stream",
     "text": [
      "[0.1716 5.8284]\n",
      "[[-0.9239+0.j     -0.3827+0.j    ]\n",
      " [ 0.    +0.3827j  0.    -0.9239j]]\n"
     ]
    }
   ],
   "source": [
    "a = np.array([[1, -2j], [2j, 5]])\n",
    "eigenvalues, eigenvectors = LA.eigh(a)\n",
    "print(eigenvalues)\n",
    "print(eigenvectors)"
   ]
  },
  {
   "cell_type": "markdown",
   "id": "8a0302d6",
   "metadata": {},
   "source": [
    "# eigvals\n",
    "- Compute the eigenvalues of a general matrix.\n",
    "- Main difference between eigvals and eig: the eigenvectors aren’t returned."
   ]
  },
  {
   "cell_type": "code",
   "execution_count": 690,
   "id": "99892c71",
   "metadata": {},
   "outputs": [
    {
     "data": {
      "text/plain": [
       "array([-1.,  1.])"
      ]
     },
     "execution_count": 690,
     "metadata": {},
     "output_type": "execute_result"
    }
   ],
   "source": [
    "D = np.diag((-1,1))\n",
    "LA.eigvals(D)\n"
   ]
  },
  {
   "cell_type": "markdown",
   "id": "39081519",
   "metadata": {},
   "source": [
    "# inv\n",
    "- Compute the inverse of a matrix.\n",
    "- Given a square matrix a, return the matrix ainv satisfying a @ ainv = ainv @ a = eye(a.shape[0])."
   ]
  },
  {
   "cell_type": "code",
   "execution_count": 694,
   "id": "5f74d5d5",
   "metadata": {},
   "outputs": [
    {
     "name": "stdout",
     "output_type": "stream",
     "text": [
      "True\n"
     ]
    }
   ],
   "source": [
    "a = np.array([[1., 2.], [3., 4.]])\n",
    "ainv = LA.inv(a)\n",
    "print(np.allclose(a @ ainv, np.eye(2)))"
   ]
  },
  {
   "cell_type": "markdown",
   "id": "1bd5a016",
   "metadata": {},
   "source": [
    "# lstsq\n",
    "- Return the least-squares solution to a linear matrix equation.\n",
    "- Computes the vector x that approximately solves the equation a @ x = b. The equation may be under-, well-, or over-determined (i.e., the number of linearly independent rows of a can be less than, equal to, or greater than its number of linearly independent columns). If a is square and of full rank, then x (but for round-off error) is the “exact” solution of the equation. "
   ]
  },
  {
   "cell_type": "code",
   "execution_count": 695,
   "id": "180cfe7d",
   "metadata": {},
   "outputs": [
    {
     "name": "stdout",
     "output_type": "stream",
     "text": [
      "[[0. 1.]\n",
      " [1. 1.]\n",
      " [2. 1.]\n",
      " [3. 1.]]\n",
      "0.9999999999999999 -0.9499999999999997\n"
     ]
    }
   ],
   "source": [
    "x = np.array([0, 1, 2, 3])\n",
    "y = np.array([-1, 0.2, 0.9, 2.1])\n",
    "A = np.vstack([x, np.ones(len(x))]).T\n",
    "print(A)\n",
    "m, c = LA.lstsq(A, y)[0]\n",
    "print(m, c)"
   ]
  },
  {
   "cell_type": "markdown",
   "id": "cb8ebde8",
   "metadata": {},
   "source": [
    "# matmul\n",
    "- Computes the matrix product.\n",
    "- This function is Array API compatible, contrary to numpy.matmul."
   ]
  },
  {
   "cell_type": "code",
   "execution_count": 696,
   "id": "929f3a84",
   "metadata": {},
   "outputs": [
    {
     "data": {
      "text/plain": [
       "array([[4, 1],\n",
       "       [2, 2]])"
      ]
     },
     "execution_count": 696,
     "metadata": {},
     "output_type": "execute_result"
    }
   ],
   "source": [
    "a = np.array([[1, 0],\n",
    "              [0, 1]])\n",
    "b = np.array([[4, 1],\n",
    "              [2, 2]])\n",
    "np.linalg.matmul(a, b)"
   ]
  },
  {
   "cell_type": "markdown",
   "id": "a7b33760",
   "metadata": {},
   "source": [
    "# matrix_norm\n",
    "- Computes the matrix norm of a matrix (or a stack of matrices) x.\n",
    "- This function is Array API compatible."
   ]
  },
  {
   "cell_type": "code",
   "execution_count": 697,
   "id": "6daa44f5",
   "metadata": {},
   "outputs": [
    {
     "name": "stdout",
     "output_type": "stream",
     "text": [
      "[-4 -3 -2 -1  0  1  2  3  4]\n",
      "[[-4 -3 -2]\n",
      " [-1  0  1]\n",
      " [ 2  3  4]]\n",
      "7.745966692414834\n",
      "7.745966692414834\n"
     ]
    }
   ],
   "source": [
    "a = np.arange(9) - 4\n",
    "print(a)\n",
    "b = a.reshape((3, 3))\n",
    "print(b)\n",
    "print(LA.matrix_norm(b))\n",
    "print(LA.matrix_norm(b, ord='fro'))"
   ]
  },
  {
   "cell_type": "markdown",
   "id": "86edbeef",
   "metadata": {},
   "source": [
    "# matrix_power\n",
    "- Raise a square matrix to the (integer) power n.\n",
    "- For positive integers n, the power is computed by repeated matrix squarings and matrix multiplications. If n == 0, the identity matrix of the same shape as M is returned. If n < 0, the inverse is computed and then raised to the abs(n)."
   ]
  },
  {
   "cell_type": "code",
   "execution_count": 698,
   "id": "2f59b432",
   "metadata": {},
   "outputs": [
    {
     "name": "stdout",
     "output_type": "stream",
     "text": [
      "[[ 0 -1]\n",
      " [ 1  0]]\n",
      "[[1 0]\n",
      " [0 1]]\n"
     ]
    }
   ],
   "source": [
    "i = np.array([[0, 1], [-1, 0]]) # matrix equiv. of the imaginary unit\n",
    "print(LA.matrix_power(i, 3)) # should = -i\n",
    "print(LA.matrix_power(i, 0))"
   ]
  },
  {
   "cell_type": "markdown",
   "id": "9ab71fa7",
   "metadata": {},
   "source": [
    "# matrix_rank\n",
    "- Return matrix rank of array using SVD method\n",
    "- Rank of the array is the number of singular values of the array that are greater than tol."
   ]
  },
  {
   "cell_type": "code",
   "execution_count": 700,
   "id": "1ae0e277",
   "metadata": {},
   "outputs": [
    {
     "name": "stdout",
     "output_type": "stream",
     "text": [
      "4\n",
      "[[1. 0. 0. 0.]\n",
      " [0. 1. 0. 0.]\n",
      " [0. 0. 1. 0.]\n",
      " [0. 0. 0. 0.]]\n",
      "3\n"
     ]
    }
   ],
   "source": [
    "print(LA.matrix_rank(np.eye(4)))\n",
    "I=np.eye(4); I[-1,-1] = 0.\n",
    "print(I)\n",
    "print(LA.matrix_rank(I))"
   ]
  },
  {
   "cell_type": "markdown",
   "id": "51ca040d",
   "metadata": {},
   "source": [
    "# matrix_transpose\n",
    "- Transposes a matrix (or a stack of matrices) x.\n",
    "- This function is Array API compatible.\n",
    "## Same as np.matrix_tranpose"
   ]
  },
  {
   "cell_type": "code",
   "execution_count": 702,
   "id": "2c97661f",
   "metadata": {},
   "outputs": [
    {
     "name": "stdout",
     "output_type": "stream",
     "text": [
      "[[1 3]\n",
      " [2 4]]\n",
      "[[[1 3]\n",
      "  [2 4]]\n",
      "\n",
      " [[5 7]\n",
      "  [6 8]]]\n"
     ]
    }
   ],
   "source": [
    "print(np.matrix_transpose([[1, 2], [3, 4]]))\n",
    "print(LA.matrix_transpose([[[1, 2], [3, 4]], [[5, 6], [7, 8]]]))"
   ]
  },
  {
   "cell_type": "markdown",
   "id": "8bde22f7",
   "metadata": {},
   "source": [
    "# multi_dot\n",
    "- Compute the dot product of two or more arrays in a single function call, while automatically selecting the fastest evaluation order.\n",
    "- multi_dot chains numpy.dot and uses optimal parenthesization of the matrices [1] [2]. Depending on the shapes of the matrices, this can speed up the multiplication a lot.\n",
    "- If the first argument is 1-D it is treated as a row vector. If the last argument is 1-D it is treated as a column vector. The other arguments must be 2-D.\n",
    "- Think of multi_dot as: def multi_dot(arrays): return functools.reduce(np.dot, arrays)"
   ]
  },
  {
   "cell_type": "code",
   "execution_count": 704,
   "id": "cf486dc4",
   "metadata": {},
   "outputs": [
    {
     "name": "stdout",
     "output_type": "stream",
     "text": [
      "[[11033.1264 27713.1979 41282.5611 ... 49013.7913 35149.6882 44018.2194]\n",
      " [10339.1873 25979.0477 38685.6329 ... 45937.5708 32946.1755 41259.6721]\n",
      " [ 9649.7134 24253.4476 36096.6468 ... 42870.7651 30744.6001 38512.1837]\n",
      " ...\n",
      " [10699.3884 26886.0899 40021.2649 ... 47525.1361 34086.2412 42685.8591]\n",
      " [10387.6292 26103.6859 38851.7332 ... 46139.7076 33089.8224 41442.8083]\n",
      " [ 9959.3694 25025.1554 37245.1435 ... 44231.7533 31719.0431 39728.1218]]\n"
     ]
    }
   ],
   "source": [
    "A = np.random.random((10000, 100))\n",
    "B = np.random.random((100, 1000))\n",
    "C = np.random.random((1000, 5))\n",
    "D = np.random.random((5, 333))\n",
    "# the actual dot multiplication\n",
    "print(LA.multi_dot([A, B, C, D]))"
   ]
  },
  {
   "cell_type": "markdown",
   "id": "7aa58b58",
   "metadata": {},
   "source": [
    "# norm\n",
    "- Matrix or vector norm.\n",
    "- This function is able to return one of eight different matrix norms, or one of an infinite number of vector norms (described below), depending on the value of the ord parameter."
   ]
  },
  {
   "cell_type": "code",
   "execution_count": 706,
   "id": "918fdd9e",
   "metadata": {},
   "outputs": [
    {
     "name": "stdout",
     "output_type": "stream",
     "text": [
      "7.745966692414834\n",
      "7.745966692414834\n"
     ]
    }
   ],
   "source": [
    "a = np.arange(9) - 4\n",
    "b = a.reshape((3, 3))\n",
    "print(LA.norm(a))\n",
    "print(LA.norm(b))"
   ]
  },
  {
   "cell_type": "markdown",
   "id": "1a6b819c",
   "metadata": {},
   "source": [
    "# outer\n",
    "- Compute the outer product of two vectors.\n",
    "- This function is Array API compatible. Compared to np.outer it accepts 1-dimensional inputs only."
   ]
  },
  {
   "cell_type": "code",
   "execution_count": 707,
   "id": "2e7520ba",
   "metadata": {},
   "outputs": [
    {
     "name": "stdout",
     "output_type": "stream",
     "text": [
      "[1. 1. 1. 1. 1.]\n",
      "[-2. -1.  0.  1.  2.]\n",
      "[[-2. -1.  0.  1.  2.]\n",
      " [-2. -1.  0.  1.  2.]\n",
      " [-2. -1.  0.  1.  2.]\n",
      " [-2. -1.  0.  1.  2.]\n",
      " [-2. -1.  0.  1.  2.]]\n"
     ]
    }
   ],
   "source": [
    "a = np.ones((5,))\n",
    "b = np.linspace(-2, 2, 5)\n",
    "print(a)\n",
    "print(b)\n",
    "print(LA.outer(a, b))"
   ]
  },
  {
   "cell_type": "markdown",
   "id": "3166b37a",
   "metadata": {},
   "source": [
    "# pinv\n",
    "- Compute the (Moore-Penrose) pseudo-inverse of a matrix.\n",
    "- Calculate the generalized inverse of a matrix using its singular-value decomposition (SVD) and including all large singular values."
   ]
  },
  {
   "cell_type": "code",
   "execution_count": 708,
   "id": "8b916eeb",
   "metadata": {},
   "outputs": [
    {
     "name": "stdout",
     "output_type": "stream",
     "text": [
      "Generator(PCG64)\n",
      "[[-0.2419  0.1648  1.0686  0.0157 -0.0545 -0.8362]\n",
      " [ 1.2786  0.5088  1.1168  1.0909  0.6917 -0.186 ]\n",
      " [-1.8491  0.2573 -1.4846 -1.0532 -1.0249 -0.673 ]\n",
      " [ 0.3719 -2.6276  1.1895 -1.5838  2.1662  0.097 ]\n",
      " [-1.3365  0.2762 -0.4868  0.4195 -0.9024  0.9144]\n",
      " [-0.2937 -0.705   1.3267 -1.226   1.9749  0.804 ]\n",
      " [-0.1667  0.3225 -0.574   2.0782 -0.9144 -0.5242]\n",
      " [-0.6626 -1.0104 -0.1718 -0.0644  0.3499  1.6455]\n",
      " [ 0.128  -0.2285  1.5763  1.1902  0.191   0.4585]]\n",
      "[[-0.136  -0.0375 -0.3371  0.0118 -0.1602 -0.3883 -0.312  -0.0197 -0.0461]\n",
      " [-0.041   0.2167  0.0548 -0.3847  0.0091  0.3754 -0.0825 -0.1268 -0.1409]\n",
      " [ 0.3723 -0.0947 -0.0976 -0.0049  0.1123 -0.1212 -0.3171 -0.0697  0.3745]\n",
      " [-0.0877  0.1802  0.0399  0.0295  0.0131  0.151   0.5089  0.0668  0.0167]\n",
      " [-0.2598  0.3901  0.21   -0.0249 -0.1252  0.7244  0.5317 -0.0206 -0.3406]\n",
      " [-0.17   -0.0623 -0.2222 -0.1546  0.1624 -0.0375 -0.2848  0.2498  0.0719]]\n"
     ]
    }
   ],
   "source": [
    "rng = np.random.default_rng()\n",
    "a = rng.normal(size=(9, 6))\n",
    "B = LA.pinv(a)\n",
    "print(rng)\n",
    "print(a)\n",
    "print(B)"
   ]
  },
  {
   "cell_type": "markdown",
   "id": "0f52abaf",
   "metadata": {},
   "source": [
    "# qr\n",
    "- Compute the qr factorization of a matrix.\n",
    "- Factor the matrix a as qr, where q is orthonormal and r is upper-triangular."
   ]
  },
  {
   "cell_type": "code",
   "execution_count": 709,
   "id": "2f377ccb",
   "metadata": {},
   "outputs": [
    {
     "name": "stdout",
     "output_type": "stream",
     "text": [
      "[[-0.2227 -0.7244 -0.3192 -0.2078 -0.456   0.2092]\n",
      " [ 1.1776  0.2037 -0.9796  0.586  -1.5733 -0.6091]\n",
      " [ 1.1506 -0.2084 -1.5069  0.3348  0.7199  0.896 ]\n",
      " [-0.1142  0.7043 -0.298  -0.5966  1.4624  0.2687]\n",
      " [ 0.3684 -0.1096  0.737   1.5473 -0.0581  0.003 ]\n",
      " [ 0.5493  0.2391 -0.0501 -0.3845 -0.2437  1.5335]\n",
      " [-0.5574 -1.6669 -1.3102  0.0383 -0.6955  0.6342]\n",
      " [-1.3697  1.2728  1.9655 -0.4083 -0.6455  0.9651]\n",
      " [ 0.1002 -0.9745  0.5966  0.8757 -0.0552 -0.0724]]\n",
      "[[-0.0958  0.2979 -0.0415  0.2167 -0.1671 -0.0464]\n",
      " [ 0.5064 -0.144  -0.103  -0.2864 -0.6655  0.159 ]\n",
      " [ 0.4948  0.0201 -0.2574 -0.1621  0.2773 -0.4794]\n",
      " [-0.0491 -0.2718 -0.3718 -0.0868  0.498  -0.0671]\n",
      " [ 0.1584  0.0233  0.5167 -0.6098  0.1601 -0.234 ]\n",
      " [ 0.2362 -0.124   0.1097  0.5666 -0.1864 -0.6234]\n",
      " [-0.2397  0.6879 -0.389  -0.2747 -0.1828 -0.3196]\n",
      " [-0.589  -0.4283  0.1169 -0.2256 -0.3005 -0.438 ]\n",
      " [ 0.0431  0.3792  0.5824  0.1338  0.1422 -0.0303]]\n",
      "[[ 2.3254 -0.3182 -1.9095  0.9351  0.0091 -0.2592]\n",
      " [ 0.     -2.5341 -1.3968  0.6397 -0.4863 -0.0997]\n",
      " [ 0.      0.      2.0749  1.2886 -0.4419 -0.2827]\n",
      " [ 0.      0.      0.     -1.1781  0.3347  0.5166]\n",
      " [ 0.      0.      0.      0.      2.4005  0.0512]\n",
      " [ 0.      0.      0.      0.      0.     -2.134 ]]\n"
     ]
    }
   ],
   "source": [
    "rng = np.random.default_rng()\n",
    "a = rng.normal(size=(9, 6))\n",
    "Q, R = np.linalg.qr(a)\n",
    "print(a)\n",
    "print(Q)\n",
    "print(R)"
   ]
  },
  {
   "cell_type": "markdown",
   "id": "80a39e8f",
   "metadata": {},
   "source": [
    "# slogdet\n",
    "- Compute the sign and (natural) logarithm of the determinant of an array.\n",
    "- If an array has a very small or very large determinant, then a call to det may overflow or underflow. This routine is more robust against such issues, because it computes the logarithm of the determinant rather than the determinant itself."
   ]
  },
  {
   "cell_type": "code",
   "execution_count": 710,
   "id": "3b83a315",
   "metadata": {},
   "outputs": [
    {
     "name": "stdout",
     "output_type": "stream",
     "text": [
      "-1.0\n",
      "0.6931471805599455\n"
     ]
    }
   ],
   "source": [
    "a = np.array([[1, 2], [3, 4]])\n",
    "(sign, logabsdet) = LA.slogdet(a)\n",
    "print(sign)\n",
    "print(logabsdet)"
   ]
  },
  {
   "cell_type": "markdown",
   "id": "b3e7bc98",
   "metadata": {},
   "source": [
    "# solve\n",
    "- Solve a linear matrix equation, or system of linear scalar equations.\n",
    "- Computes the “exact” solution, x, of the well-determined, i.e., full rank, linear matrix equation ax = b."
   ]
  },
  {
   "cell_type": "code",
   "execution_count": 711,
   "id": "e2f5c7fa",
   "metadata": {},
   "outputs": [
    {
     "name": "stdout",
     "output_type": "stream",
     "text": [
      "[-1.  1.]\n"
     ]
    }
   ],
   "source": [
    "a = np.array([[1, 2], [3, 5]])\n",
    "b = np.array([1, 2])\n",
    "x = LA.solve(a, b)\n",
    "print(x)"
   ]
  },
  {
   "cell_type": "markdown",
   "id": "d85fc4af",
   "metadata": {},
   "source": [
    "# svd\n",
    "- Singular Value Decomposition.\n",
    "- When a is a 2D array, and full_matrices=False, then it is factorized as u @ np.diag(s) @ vh = (u * s) @ vh, where u and the Hermitian transpose of vh are 2D arrays with orthonormal columns and s is a 1D array of a’s singular values. When a is higher-dimensional, SVD is applied in stacked mode as explained below."
   ]
  },
  {
   "cell_type": "code",
   "execution_count": 713,
   "id": "7f1ca70d",
   "metadata": {},
   "outputs": [
    {
     "name": "stdout",
     "output_type": "stream",
     "text": [
      "U shape: (9, 9), S shape: (6,), Vh shape: (6, 6)\n",
      "U: [[ 0.0444+0.1502j  0.3004-0.2938j  0.4935+0.1709j  0.0598+0.0054j\n",
      "  -0.0094-0.3715j -0.4137+0.0607j -0.2298+0.0951j  0.2414+0.2137j\n",
      "  -0.1841-0.0994j]\n",
      " [-0.0634-0.069j   0.1113+0.1182j  0.227 +0.406j   0.2516-0.1687j\n",
      "  -0.1432-0.2533j  0.5866+0.0216j  0.2305-0.0753j  0.2394-0.2988j\n",
      "  -0.1343-0.064j ]\n",
      " [ 0.1785-0.0276j  0.0714+0.1832j  0.1932+0.3197j -0.0588-0.2012j\n",
      "  -0.1729+0.0991j -0.1748+0.4198j  0.2829-0.0682j -0.498 +0.1811j\n",
      "  -0.052 +0.3612j]\n",
      " [ 0.3355+0.0341j  0.1   -0.4798j -0.2834+0.0022j  0.3524-0.3581j\n",
      "   0.0887+0.1024j  0.2827-0.1224j -0.0861+0.1259j -0.1815+0.3181j\n",
      "  -0.2061+0.0132j]\n",
      " [ 0.3176-0.1082j  0.1091+0.5654j  0.0342-0.3099j  0.0018-0.4466j\n",
      "   0.2223-0.2368j  0.0112+0.0682j -0.3633+0.0975j  0.0438-0.0679j\n",
      "  -0.0131+0.027j ]\n",
      " [ 0.2652-0.0888j  0.2507-0.2422j -0.2554+0.0497j -0.0285-0.1967j\n",
      "   0.0644+0.0676j -0.2731+0.1537j  0.0763-0.6005j  0.2508-0.3559j\n",
      "   0.1733-0.0086j]\n",
      " [ 0.2898-0.2433j -0.1958-0.0617j  0.0442-0.206j   0.1061+0.2093j\n",
      "  -0.0388-0.5987j -0.012 -0.138j   0.2931-0.2134j -0.3213+0.1116j\n",
      "   0.173 -0.2429j]\n",
      " [ 0.6102+0.2842j -0.0528+0.1281j -0.0994+0.2221j -0.2853+0.3325j\n",
      "  -0.3773+0.0181j  0.1669-0.1449j -0.2379-0.0384j  0.1397+0.0478j\n",
      "  -0.0171+0.07j  ]\n",
      " [-0.0731+0.1672j -0.0474-0.0377j -0.0242+0.1483j  0.2491-0.2455j\n",
      "  -0.3147-0.0578j -0.0789-0.0394j -0.143 +0.2313j -0.0212-0.0226j\n",
      "   0.7956-0.0121j]], S: [6.5279 5.2416 4.3014 3.3283 1.9421 1.5518], Vh: [[ 0.7152+0.j     -0.1757-0.156j   0.207 -0.0168j  0.2425+0.071j\n",
      "   0.1522-0.3777j -0.2673+0.2984j]\n",
      " [-0.3316+0.j     -0.2298-0.1869j  0.5087-0.1327j  0.5365-0.1854j\n",
      "   0.3613+0.2031j  0.1745+0.0386j]\n",
      " [-0.3603+0.j      0.1677+0.3817j  0.043 +0.027j  -0.0491-0.0812j\n",
      "   0.1556-0.0179j -0.5323+0.6139j]\n",
      " [ 0.3468+0.j      0.2112+0.4375j  0.4227+0.4135j -0.1619-0.4125j\n",
      "   0.065 +0.2335j  0.165 -0.1081j]\n",
      " [ 0.2363+0.j      0.1698-0.4154j -0.2625-0.2176j  0.007 -0.4637j\n",
      "  -0.0933+0.5731j -0.2013+0.1836j]\n",
      " [ 0.2695+0.j     -0.013 +0.4956j -0.1798-0.4238j  0.1531+0.4124j\n",
      "   0.247 +0.4253j  0.1767+0.0545j]]\n"
     ]
    }
   ],
   "source": [
    "rng = np.random.default_rng()\n",
    "a = rng.normal(size=(9, 6)) + 1j*rng.normal(size=(9, 6))\n",
    "b = rng.normal(size=(2, 7, 8, 3)) + 1j*rng.normal(size=(2, 7, 8, 3))\n",
    "U, S, Vh = np.linalg.svd(a, full_matrices=True)\n",
    "print(f\"U shape: {U.shape}, S shape: {S.shape}, Vh shape: {Vh.shape}\")\n",
    "print(f\"U: {U}, S: {S}, Vh: {Vh}\")"
   ]
  },
  {
   "cell_type": "markdown",
   "id": "b58dbe54",
   "metadata": {},
   "source": [
    "# svdvals\n",
    "- Returns the singular values of a matrix (or a stack of matrices) x. When x is a stack of matrices, the function will compute the singular values for each matrix in the stack.\n",
    "- This function is Array API compatible.\n",
    "- Calling np.svdvals(x) to get singular values is the same as np.svd(x, compute_uv=False, hermitian=False)."
   ]
  },
  {
   "cell_type": "code",
   "execution_count": 714,
   "id": "420723b1",
   "metadata": {},
   "outputs": [
    {
     "data": {
      "text/plain": [
       "array([146.6886,   5.5751,   0.6039])"
      ]
     },
     "execution_count": 714,
     "metadata": {},
     "output_type": "execute_result"
    }
   ],
   "source": [
    "LA.svdvals([[1, 2, 3, 4, 5],\n",
    "                   [1, 4, 9, 16, 25],\n",
    "                   [1, 8, 27, 64, 125]])"
   ]
  },
  {
   "cell_type": "markdown",
   "id": "471eb853",
   "metadata": {},
   "source": [
    "# tensordot\n",
    "- Compute tensor dot product along specified axes.\n",
    "- Given two tensors, a and b, and an array_like object containing two array_like objects, (a_axes, b_axes), sum the products of a’s and b’s elements (components) over the axes specified by a_axes and b_axes. The third argument can be a single non-negative integer_like scalar, N; if it is such, then the last N dimensions of a and the first N dimensions of b are summed over."
   ]
  },
  {
   "cell_type": "code",
   "execution_count": 715,
   "id": "42d4b3fc",
   "metadata": {},
   "outputs": [
    {
     "name": "stdout",
     "output_type": "stream",
     "text": [
      "[[[[ 5  6]\n",
      "   [ 7  8]]\n",
      "\n",
      "  [[10 12]\n",
      "   [14 16]]]\n",
      "\n",
      "\n",
      " [[[15 18]\n",
      "   [21 24]]\n",
      "\n",
      "  [[20 24]\n",
      "   [28 32]]]]\n"
     ]
    }
   ],
   "source": [
    "a_0 = np.array([[1, 2], [3, 4]])\n",
    "b_0 = np.array([[5, 6], [7, 8]])\n",
    "print(np.tensordot(a_0, b_0, axes=0))"
   ]
  },
  {
   "cell_type": "markdown",
   "id": "b5db162c",
   "metadata": {},
   "source": [
    "# tensorinv\n",
    "- Compute the ‘inverse’ of an N-dimensional array.\n",
    "- The result is an inverse for a relative to the tensordot operation tensordot(a, b, ind), i. e., up to floating-point accuracy, tensordot(tensorinv(a), a, ind) is the “identity” tensor for the tensordot operation."
   ]
  },
  {
   "cell_type": "code",
   "execution_count": 716,
   "id": "b6be9e8c",
   "metadata": {},
   "outputs": [
    {
     "name": "stdout",
     "output_type": "stream",
     "text": [
      "(8, 3, 4, 6)\n",
      "[[[[1. 0. 0. 0. 0. 0.]\n",
      "   [0. 0. 0. 0. 0. 0.]\n",
      "   [0. 0. 0. 0. 0. 0.]\n",
      "   [0. 0. 0. 0. 0. 0.]]\n",
      "\n",
      "  [[0. 1. 0. 0. 0. 0.]\n",
      "   [0. 0. 0. 0. 0. 0.]\n",
      "   [0. 0. 0. 0. 0. 0.]\n",
      "   [0. 0. 0. 0. 0. 0.]]\n",
      "\n",
      "  [[0. 0. 1. 0. 0. 0.]\n",
      "   [0. 0. 0. 0. 0. 0.]\n",
      "   [0. 0. 0. 0. 0. 0.]\n",
      "   [0. 0. 0. 0. 0. 0.]]]\n",
      "\n",
      "\n",
      " [[[0. 0. 0. 1. 0. 0.]\n",
      "   [0. 0. 0. 0. 0. 0.]\n",
      "   [0. 0. 0. 0. 0. 0.]\n",
      "   [0. 0. 0. 0. 0. 0.]]\n",
      "\n",
      "  [[0. 0. 0. 0. 1. 0.]\n",
      "   [0. 0. 0. 0. 0. 0.]\n",
      "   [0. 0. 0. 0. 0. 0.]\n",
      "   [0. 0. 0. 0. 0. 0.]]\n",
      "\n",
      "  [[0. 0. 0. 0. 0. 1.]\n",
      "   [0. 0. 0. 0. 0. 0.]\n",
      "   [0. 0. 0. 0. 0. 0.]\n",
      "   [0. 0. 0. 0. 0. 0.]]]\n",
      "\n",
      "\n",
      " [[[0. 0. 0. 0. 0. 0.]\n",
      "   [1. 0. 0. 0. 0. 0.]\n",
      "   [0. 0. 0. 0. 0. 0.]\n",
      "   [0. 0. 0. 0. 0. 0.]]\n",
      "\n",
      "  [[0. 0. 0. 0. 0. 0.]\n",
      "   [0. 1. 0. 0. 0. 0.]\n",
      "   [0. 0. 0. 0. 0. 0.]\n",
      "   [0. 0. 0. 0. 0. 0.]]\n",
      "\n",
      "  [[0. 0. 0. 0. 0. 0.]\n",
      "   [0. 0. 1. 0. 0. 0.]\n",
      "   [0. 0. 0. 0. 0. 0.]\n",
      "   [0. 0. 0. 0. 0. 0.]]]\n",
      "\n",
      "\n",
      " [[[0. 0. 0. 0. 0. 0.]\n",
      "   [0. 0. 0. 1. 0. 0.]\n",
      "   [0. 0. 0. 0. 0. 0.]\n",
      "   [0. 0. 0. 0. 0. 0.]]\n",
      "\n",
      "  [[0. 0. 0. 0. 0. 0.]\n",
      "   [0. 0. 0. 0. 1. 0.]\n",
      "   [0. 0. 0. 0. 0. 0.]\n",
      "   [0. 0. 0. 0. 0. 0.]]\n",
      "\n",
      "  [[0. 0. 0. 0. 0. 0.]\n",
      "   [0. 0. 0. 0. 0. 1.]\n",
      "   [0. 0. 0. 0. 0. 0.]\n",
      "   [0. 0. 0. 0. 0. 0.]]]\n",
      "\n",
      "\n",
      " [[[0. 0. 0. 0. 0. 0.]\n",
      "   [0. 0. 0. 0. 0. 0.]\n",
      "   [1. 0. 0. 0. 0. 0.]\n",
      "   [0. 0. 0. 0. 0. 0.]]\n",
      "\n",
      "  [[0. 0. 0. 0. 0. 0.]\n",
      "   [0. 0. 0. 0. 0. 0.]\n",
      "   [0. 1. 0. 0. 0. 0.]\n",
      "   [0. 0. 0. 0. 0. 0.]]\n",
      "\n",
      "  [[0. 0. 0. 0. 0. 0.]\n",
      "   [0. 0. 0. 0. 0. 0.]\n",
      "   [0. 0. 1. 0. 0. 0.]\n",
      "   [0. 0. 0. 0. 0. 0.]]]\n",
      "\n",
      "\n",
      " [[[0. 0. 0. 0. 0. 0.]\n",
      "   [0. 0. 0. 0. 0. 0.]\n",
      "   [0. 0. 0. 1. 0. 0.]\n",
      "   [0. 0. 0. 0. 0. 0.]]\n",
      "\n",
      "  [[0. 0. 0. 0. 0. 0.]\n",
      "   [0. 0. 0. 0. 0. 0.]\n",
      "   [0. 0. 0. 0. 1. 0.]\n",
      "   [0. 0. 0. 0. 0. 0.]]\n",
      "\n",
      "  [[0. 0. 0. 0. 0. 0.]\n",
      "   [0. 0. 0. 0. 0. 0.]\n",
      "   [0. 0. 0. 0. 0. 1.]\n",
      "   [0. 0. 0. 0. 0. 0.]]]\n",
      "\n",
      "\n",
      " [[[0. 0. 0. 0. 0. 0.]\n",
      "   [0. 0. 0. 0. 0. 0.]\n",
      "   [0. 0. 0. 0. 0. 0.]\n",
      "   [1. 0. 0. 0. 0. 0.]]\n",
      "\n",
      "  [[0. 0. 0. 0. 0. 0.]\n",
      "   [0. 0. 0. 0. 0. 0.]\n",
      "   [0. 0. 0. 0. 0. 0.]\n",
      "   [0. 1. 0. 0. 0. 0.]]\n",
      "\n",
      "  [[0. 0. 0. 0. 0. 0.]\n",
      "   [0. 0. 0. 0. 0. 0.]\n",
      "   [0. 0. 0. 0. 0. 0.]\n",
      "   [0. 0. 1. 0. 0. 0.]]]\n",
      "\n",
      "\n",
      " [[[0. 0. 0. 0. 0. 0.]\n",
      "   [0. 0. 0. 0. 0. 0.]\n",
      "   [0. 0. 0. 0. 0. 0.]\n",
      "   [0. 0. 0. 1. 0. 0.]]\n",
      "\n",
      "  [[0. 0. 0. 0. 0. 0.]\n",
      "   [0. 0. 0. 0. 0. 0.]\n",
      "   [0. 0. 0. 0. 0. 0.]\n",
      "   [0. 0. 0. 0. 1. 0.]]\n",
      "\n",
      "  [[0. 0. 0. 0. 0. 0.]\n",
      "   [0. 0. 0. 0. 0. 0.]\n",
      "   [0. 0. 0. 0. 0. 0.]\n",
      "   [0. 0. 0. 0. 0. 1.]]]]\n"
     ]
    }
   ],
   "source": [
    "a = np.eye(4*6)\n",
    "a.shape = (4, 6, 8, 3)\n",
    "ainv = np.linalg.tensorinv(a, ind=2)\n",
    "print(ainv.shape)\n",
    "print(ainv)"
   ]
  },
  {
   "cell_type": "markdown",
   "id": "89fade13",
   "metadata": {},
   "source": [
    "# tensorsolve\n",
    "- Solve the tensor equation a x = b for x.\n",
    "- It is assumed that all indices of x are summed over in the product, together with the rightmost indices of a, as is done in, for example, tensordot(a, x, axes=x.ndim)."
   ]
  },
  {
   "cell_type": "code",
   "execution_count": 717,
   "id": "eed1c492",
   "metadata": {},
   "outputs": [
    {
     "name": "stdout",
     "output_type": "stream",
     "text": [
      "(2, 3, 4)\n",
      "True\n"
     ]
    }
   ],
   "source": [
    "a = np.eye(2*3*4)\n",
    "a.shape = (2*3, 4, 2, 3, 4)\n",
    "rng = np.random.default_rng()\n",
    "b = rng.normal(size=(2*3, 4))\n",
    "x = LA.tensorsolve(a, b)\n",
    "print(x.shape)\n",
    "print(np.allclose(np.tensordot(a, x, axes=3), b))"
   ]
  },
  {
   "cell_type": "markdown",
   "id": "3fe7b9b3",
   "metadata": {},
   "source": [
    "# trace\n",
    "- Returns the sum along the specified diagonals of a matrix (or a stack of matrices) x.\n",
    "- This function is Array API compatible, contrary to numpy.trace."
   ]
  },
  {
   "cell_type": "code",
   "execution_count": 718,
   "id": "b81181d7",
   "metadata": {},
   "outputs": [
    {
     "data": {
      "text/plain": [
       "np.float64(3.0)"
      ]
     },
     "execution_count": 718,
     "metadata": {},
     "output_type": "execute_result"
    }
   ],
   "source": [
    "LA.trace(np.eye(3))"
   ]
  },
  {
   "cell_type": "markdown",
   "id": "535df042",
   "metadata": {},
   "source": [
    "# vecdot\n",
    "- Vector dot product of two arrays."
   ]
  },
  {
   "cell_type": "code",
   "execution_count": 719,
   "id": "a6819255",
   "metadata": {},
   "outputs": [
    {
     "name": "stdout",
     "output_type": "stream",
     "text": [
      "[ 3.  8. 10.]\n"
     ]
    }
   ],
   "source": [
    "v = np.array([[0., 5., 0.], [0., 0., 10.], [0., 6., 8.]])\n",
    "n = np.array([0., 0.6, 0.8])\n",
    "print(np.vecdot(v, n))"
   ]
  },
  {
   "cell_type": "markdown",
   "id": "37f3bfbf",
   "metadata": {},
   "source": [
    "# vector_norm\n",
    "- Computes the vector norm of a vector (or batch of vectors) x.\n",
    "- This function is Array API compatible."
   ]
  },
  {
   "cell_type": "code",
   "execution_count": 720,
   "id": "c605606f",
   "metadata": {},
   "outputs": [
    {
     "name": "stdout",
     "output_type": "stream",
     "text": [
      "16.881943016134134\n"
     ]
    }
   ],
   "source": [
    "a = np.arange(9) + 1\n",
    "b = a.reshape((3, 3))\n",
    "print(LA.vector_norm(b))"
   ]
  },
  {
   "cell_type": "markdown",
   "id": "040acc0c",
   "metadata": {},
   "source": [
    "# => fft (lib)"
   ]
  },
  {
   "cell_type": "code",
   "execution_count": 723,
   "id": "cc2944d9",
   "metadata": {},
   "outputs": [],
   "source": [
    "from numpy import fft"
   ]
  },
  {
   "cell_type": "markdown",
   "id": "15d42a0b",
   "metadata": {},
   "source": [
    "# fft\n",
    "- Compute the one-dimensional discrete Fourier Transform.\n",
    "- This function computes the one-dimensional n-point discrete Fourier Transform (DFT) with the efficient Fast Fourier Transform (FFT) algorithm [CT]."
   ]
  },
  {
   "cell_type": "code",
   "execution_count": 724,
   "id": "7c345c50",
   "metadata": {},
   "outputs": [
    {
     "name": "stdout",
     "output_type": "stream",
     "text": [
      "[-3.4451e-16+1.2246e-16j  8.0000e+00-9.9543e-16j  3.4451e-16+1.2246e-16j\n",
      "  0.0000e+00+1.2246e-16j  9.9580e-17+1.2246e-16j -8.8818e-16+2.6064e-16j\n",
      " -9.9580e-17+1.2246e-16j  0.0000e+00+1.2246e-16j]\n"
     ]
    }
   ],
   "source": [
    "print(fft.fft(np.exp(2j * np.pi * np.arange(8) / 8)))"
   ]
  },
  {
   "cell_type": "markdown",
   "id": "94d5965d",
   "metadata": {},
   "source": [
    "# fft2\n",
    "- Compute the 2-dimensional discrete Fourier Transform.\n",
    "- This function computes the n-dimensional discrete Fourier Transform over any axes in an M-dimensional array by means of the Fast Fourier Transform (FFT). By default, the transform is computed over the last two axes of the input array, i.e., a 2-dimensional FFT."
   ]
  },
  {
   "cell_type": "code",
   "execution_count": 725,
   "id": "b05b45b0",
   "metadata": {},
   "outputs": [
    {
     "name": "stdout",
     "output_type": "stream",
     "text": [
      "[[ 50.  +0.j       0.  +0.j       0.  +0.j       0.  +0.j\n",
      "    0.  +0.j    ]\n",
      " [-12.5+17.2048j   0.  +0.j       0.  +0.j       0.  +0.j\n",
      "    0.  +0.j    ]\n",
      " [-12.5 +4.0615j   0.  +0.j       0.  +0.j       0.  +0.j\n",
      "    0.  +0.j    ]\n",
      " [-12.5 -4.0615j   0.  +0.j       0.  +0.j       0.  +0.j\n",
      "    0.  +0.j    ]\n",
      " [-12.5-17.2048j   0.  +0.j       0.  +0.j       0.  +0.j\n",
      "    0.  +0.j    ]]\n"
     ]
    }
   ],
   "source": [
    "a = np.mgrid[:5, :5][0]\n",
    "print(fft.fft2(a))"
   ]
  },
  {
   "cell_type": "markdown",
   "id": "d80a72bb",
   "metadata": {},
   "source": [
    "# fftfreq\n",
    "- Return the Discrete Fourier Transform sample frequencies.\n",
    "- The returned float array f contains the frequency bin centers in cycles per unit of the sample spacing (with zero at the start). For instance, if the sample spacing is in seconds, then the frequency unit is cycles/second.\n",
    "- Given a window length n and a sample spacing d:"
   ]
  },
  {
   "cell_type": "code",
   "execution_count": 726,
   "id": "777265d2",
   "metadata": {},
   "outputs": [
    {
     "name": "stdout",
     "output_type": "stream",
     "text": [
      "[ 0.    1.25  2.5   3.75 -5.   -3.75 -2.5  -1.25]\n"
     ]
    }
   ],
   "source": [
    "signal = np.array([-2, 8, 6, 4, 1, 0, 3, 5], dtype=float)\n",
    "fourier = fft.fft(signal)\n",
    "n = signal.size\n",
    "timestep = 0.1\n",
    "freq = fft.fftfreq(n, d=timestep)\n",
    "print(freq)"
   ]
  },
  {
   "cell_type": "markdown",
   "id": "69876cf5",
   "metadata": {},
   "source": [
    "# fftn\n",
    "- Compute the N-dimensional discrete Fourier Transform.\n",
    "- This function computes the N-dimensional discrete Fourier Transform over any number of axes in an M-dimensional array by means of the Fast Fourier Transform (FFT)."
   ]
  },
  {
   "cell_type": "code",
   "execution_count": 727,
   "id": "86463db3",
   "metadata": {},
   "outputs": [
    {
     "name": "stdout",
     "output_type": "stream",
     "text": [
      "[[[ 0.+0.j  0.+0.j  0.+0.j]\n",
      "  [ 0.+0.j  0.+0.j  0.+0.j]\n",
      "  [ 0.+0.j  0.+0.j  0.+0.j]]\n",
      "\n",
      " [[ 9.+0.j  0.+0.j  0.+0.j]\n",
      "  [ 0.+0.j  0.+0.j  0.+0.j]\n",
      "  [ 0.+0.j  0.+0.j  0.+0.j]]\n",
      "\n",
      " [[18.+0.j  0.+0.j  0.+0.j]\n",
      "  [ 0.+0.j  0.+0.j  0.+0.j]\n",
      "  [ 0.+0.j  0.+0.j  0.+0.j]]]\n"
     ]
    }
   ],
   "source": [
    "a = np.mgrid[:3, :3, :3][0]\n",
    "print(fft.fftn(a, axes=(1, 2)))"
   ]
  },
  {
   "cell_type": "markdown",
   "id": "447b98bc",
   "metadata": {},
   "source": [
    "# fftshift\n",
    "- Shift the zero-frequency component to the center of the spectrum.\n",
    "- This function swaps half-spaces for all axes listed (defaults to all). Note that y[0] is the Nyquist component only if len(x) is even."
   ]
  },
  {
   "cell_type": "code",
   "execution_count": null,
   "id": "b71a7467",
   "metadata": {},
   "outputs": [
    {
     "name": "stdout",
     "output_type": "stream",
     "text": [
      "[ 0.  1.  2.  3.  4. -5. -4. -3. -2. -1.]\n"
     ]
    },
    {
     "data": {
      "text/plain": [
       "array([-5., -4., -3., -2., -1.,  0.,  1.,  2.,  3.,  4.])"
      ]
     },
     "execution_count": 728,
     "metadata": {},
     "output_type": "execute_result"
    }
   ],
   "source": [
    "freqs = fft.fftfreq(10, 0.1)\n",
    "print(freqs)\n",
    "print(fft.fftshift(freqs))"
   ]
  },
  {
   "cell_type": "markdown",
   "id": "3a8a5760",
   "metadata": {},
   "source": [
    "# hfft\n",
    "- Compute the FFT of a signal that has Hermitian symmetry, i.e., a real spectrum."
   ]
  },
  {
   "cell_type": "code",
   "execution_count": 729,
   "id": "12298c30",
   "metadata": {},
   "outputs": [
    {
     "name": "stdout",
     "output_type": "stream",
     "text": [
      "[15.+0.j -4.+0.j  0.+0.j -1.+0.j  0.+0.j -4.+0.j]\n"
     ]
    },
    {
     "data": {
      "text/plain": [
       "array([15., -4.,  0., -1.,  0., -4.])"
      ]
     },
     "execution_count": 729,
     "metadata": {},
     "output_type": "execute_result"
    }
   ],
   "source": [
    "signal = np.array([1, 2, 3, 4, 3, 2])\n",
    "print(fft.fft(signal))\n",
    "fft.hfft(signal[:4]) # Input first half of signal"
   ]
  },
  {
   "cell_type": "markdown",
   "id": "f5e71227",
   "metadata": {},
   "source": [
    "# ifft- Compute the one-dimensional inverse discrete Fourier Transform.\n",
    "- This function computes the inverse of the one-dimensional n-point discrete Fourier transform computed by fft. In other words, ifft(fft(a)) == a to within numerical accuracy. For a general description of the algorithm and definitions, see numpy.fft.\n",
    "- The input should be ordered in the same way as is returned by fft, i.e.,\n",
    "- a[0] should contain the zero frequency term,\n",
    "- a[1:n//2] should contain the positive-frequency terms,\n",
    "- a[n//2 + 1:] should contain the negative-frequency terms, in increasing order starting from the most negative frequency.\n",
    "- For an even number of input points, A[n//2] represents the sum of the values at the positive and negative Nyquist frequencies, as the two are aliased together. See numpy.fft for details."
   ]
  },
  {
   "cell_type": "code",
   "execution_count": 730,
   "id": "4bb25eed",
   "metadata": {},
   "outputs": [
    {
     "name": "stdout",
     "output_type": "stream",
     "text": [
      "[ 1.+0.j  0.+1.j -1.+0.j  0.-1.j]\n"
     ]
    }
   ],
   "source": [
    "print(fft.ifft([0, 4, 0, 0]))"
   ]
  },
  {
   "cell_type": "markdown",
   "id": "3076aafb",
   "metadata": {},
   "source": [
    "# ifft2\n",
    "- Compute the 2-dimensional inverse discrete Fourier Transform.\n",
    "- This function computes the inverse of the 2-dimensional discrete Fourier Transform over any number of axes in an M-dimensional array by means of the Fast Fourier Transform (FFT). In other words, ifft2(fft2(a)) == a to within numerical accuracy. By default, the inverse transform is computed over the last two axes of the input array.\n",
    "- The input, analogously to ifft, should be ordered in the same way as is returned by fft2, i.e. it should have the term for zero frequency in the low-order corner of the two axes, the positive frequency terms in the first half of these axes, the term for the Nyquist frequency in the middle of the axes and the negative frequency terms in the second half of both axes, in order of decreasingly negative frequency."
   ]
  },
  {
   "cell_type": "code",
   "execution_count": 731,
   "id": "0ff798fe",
   "metadata": {},
   "outputs": [
    {
     "name": "stdout",
     "output_type": "stream",
     "text": [
      "[[1.+0.j 0.+0.j 0.+0.j 0.+0.j]\n",
      " [0.+0.j 0.+0.j 0.+0.j 1.+0.j]\n",
      " [0.+0.j 0.+0.j 1.+0.j 0.+0.j]\n",
      " [0.+0.j 1.+0.j 0.+0.j 0.+0.j]]\n"
     ]
    }
   ],
   "source": [
    "a = 4 * np.eye(4)\n",
    "print(fft.ifft2(a))"
   ]
  },
  {
   "cell_type": "markdown",
   "id": "0eeab93d",
   "metadata": {},
   "source": [
    "# ifftn\n",
    "- Compute the N-dimensional inverse discrete Fourier Transform.\n",
    "- This function computes the inverse of the N-dimensional discrete Fourier Transform over any number of axes in an M-dimensional array by means of the Fast Fourier Transform (FFT). In other words, ifftn(fftn(a)) == a to within numerical accuracy. For a description of the definitions and conventions used, see numpy.fft.\n",
    "- The input, analogously to ifft, should be ordered in the same way as is returned by fftn, i.e. it should have the term for zero frequency in all axes in the low-order corner, the positive frequency terms in the first half of all axes, the term for the Nyquist frequency in the middle of all axes and the negative frequency terms in the second half of all axes, in order of decreasingly negative frequency."
   ]
  },
  {
   "cell_type": "code",
   "execution_count": 732,
   "id": "fb3e42e5",
   "metadata": {},
   "outputs": [
    {
     "name": "stdout",
     "output_type": "stream",
     "text": [
      "[[1.+0.j 0.+0.j 0.+0.j 0.+0.j]\n",
      " [0.+0.j 1.+0.j 0.+0.j 0.+0.j]\n",
      " [0.+0.j 0.+0.j 1.+0.j 0.+0.j]\n",
      " [0.+0.j 0.+0.j 0.+0.j 1.+0.j]]\n"
     ]
    }
   ],
   "source": [
    "a = np.eye(4)\n",
    "print(fft.ifftn(np.fft.fftn(a, axes=(0,)), axes=(1,)))"
   ]
  },
  {
   "cell_type": "markdown",
   "id": "eadcef71",
   "metadata": {},
   "source": [
    "# ifftshift\n",
    "- The inverse of fftshift. Although identical for even-length x, the functions differ by one sample for odd-length x."
   ]
  },
  {
   "cell_type": "code",
   "execution_count": 733,
   "id": "3bfdf449",
   "metadata": {},
   "outputs": [
    {
     "name": "stdout",
     "output_type": "stream",
     "text": [
      "[[ 0.  1.  2.]\n",
      " [ 3.  4. -4.]\n",
      " [-3. -2. -1.]]\n"
     ]
    }
   ],
   "source": [
    "freqs = fft.fftfreq(9, d=1./9).reshape(3, 3)\n",
    "print(freqs)"
   ]
  },
  {
   "cell_type": "markdown",
   "id": "208d7612",
   "metadata": {},
   "source": [
    "# ihfft\n",
    "- Compute the inverse FFT of a signal that has Hermitian symmetry."
   ]
  },
  {
   "cell_type": "code",
   "execution_count": 734,
   "id": "8fd1a6ba",
   "metadata": {},
   "outputs": [
    {
     "name": "stdout",
     "output_type": "stream",
     "text": [
      "[1.+0.j 2.+0.j 3.+0.j 4.+0.j 3.+0.j 2.+0.j]\n"
     ]
    }
   ],
   "source": [
    "spectrum = np.array([ 15, -4, 0, -1, 0, -4])\n",
    "print(fft.ifft(spectrum))"
   ]
  },
  {
   "cell_type": "markdown",
   "id": "678e6f17",
   "metadata": {},
   "source": [
    "# irfft\n",
    "- Computes the inverse of rfft.\n",
    "- This function computes the inverse of the one-dimensional n-point discrete Fourier Transform of real input computed by rfft. In other words, irfft(rfft(a), len(a)) == a to within numerical accuracy. (See Notes below for why len(a) is necessary here.)\n",
    "- The input is expected to be in the form returned by rfft, i.e. the real zero-frequency term followed by the complex positive frequency terms in order of increasing frequency. Since the discrete Fourier Transform of real input is Hermitian-symmetric, the negative frequency terms are taken to be the complex conjugates of the corresponding positive frequency terms."
   ]
  },
  {
   "cell_type": "code",
   "execution_count": 735,
   "id": "b631e241",
   "metadata": {},
   "outputs": [
    {
     "name": "stdout",
     "output_type": "stream",
     "text": [
      "[0.+0.j 1.+0.j 0.+0.j 0.+0.j]\n"
     ]
    }
   ],
   "source": [
    "print(fft.ifft([1, -1j, -1, 1j]))"
   ]
  },
  {
   "cell_type": "markdown",
   "id": "f7bbffad",
   "metadata": {},
   "source": [
    "# irfft2\n",
    "- Computes the inverse of rfft2."
   ]
  },
  {
   "cell_type": "code",
   "execution_count": 736,
   "id": "7c3503cf",
   "metadata": {},
   "outputs": [
    {
     "name": "stdout",
     "output_type": "stream",
     "text": [
      "[[0 0 0 0 0]\n",
      " [1 1 1 1 1]\n",
      " [2 2 2 2 2]\n",
      " [3 3 3 3 3]\n",
      " [4 4 4 4 4]]\n",
      "[[ 50.  +0.j       0.  +0.j       0.  +0.j    ]\n",
      " [-12.5+17.2048j   0.  +0.j       0.  +0.j    ]\n",
      " [-12.5 +4.0615j   0.  +0.j       0.  +0.j    ]\n",
      " [-12.5 -4.0615j   0.  +0.j       0.  +0.j    ]\n",
      " [-12.5-17.2048j   0.  +0.j       0.  +0.j    ]]\n"
     ]
    }
   ],
   "source": [
    "a = np.mgrid[:5, :5][0]\n",
    "print(a)\n",
    "A = np.fft.rfft2(a)\n",
    "print(A)"
   ]
  },
  {
   "cell_type": "markdown",
   "id": "9bf281ac",
   "metadata": {},
   "source": [
    "# irfftn\n",
    "- Computes the inverse of rfftn.\n",
    "- This function computes the inverse of the N-dimensional discrete Fourier Transform for real input over any number of axes in an M-dimensional array by means of the Fast Fourier Transform (FFT). In other words, irfftn(rfftn(a), a.shape) == a to within numerical accuracy. (The a.shape is necessary like len(a) is for irfft, and for the same reason.)\n",
    "- The input should be ordered in the same way as is returned by rfftn, i.e. as for irfft for the final transformation axis, and as for ifftn along all the other axes."
   ]
  },
  {
   "cell_type": "code",
   "execution_count": 738,
   "id": "937708b8",
   "metadata": {},
   "outputs": [
    {
     "name": "stdout",
     "output_type": "stream",
     "text": [
      "[[[1. 1.]\n",
      "  [1. 1.]]\n",
      "\n",
      " [[1. 1.]\n",
      "  [1. 1.]]\n",
      "\n",
      " [[1. 1.]\n",
      "  [1. 1.]]]\n"
     ]
    }
   ],
   "source": [
    "a = np.zeros((3, 2, 2))\n",
    "a[0, 0, 0] = 3 * 2 * 2\n",
    "print(np.fft.irfftn(a))"
   ]
  },
  {
   "cell_type": "markdown",
   "id": "4f923b4e",
   "metadata": {},
   "source": [
    "# rffft\n",
    "- Compute the one-dimensional discrete Fourier Transform for real input.\n",
    "- This function computes the one-dimensional n-point discrete Fourier Transform (DFT) of a real-valued array by means of an efficient algorithm called the Fast Fourier Transform (FFT)."
   ]
  },
  {
   "cell_type": "code",
   "execution_count": 739,
   "id": "c8e25e36",
   "metadata": {},
   "outputs": [
    {
     "name": "stdout",
     "output_type": "stream",
     "text": [
      "[ 1.+0.j  0.-1.j -1.+0.j  0.+1.j]\n",
      "[ 1.+0.j  0.-1.j -1.+0.j]\n"
     ]
    }
   ],
   "source": [
    "print(fft.fft([0, 1, 0, 0]))\n",
    "print(fft.rfft([0, 1, 0, 0]))"
   ]
  },
  {
   "cell_type": "markdown",
   "id": "c9a937f4",
   "metadata": {},
   "source": [
    "# rfft2\n",
    "- Compute the 2-dimensional FFT of a real array."
   ]
  },
  {
   "cell_type": "code",
   "execution_count": 740,
   "id": "94270f32",
   "metadata": {},
   "outputs": [
    {
     "name": "stdout",
     "output_type": "stream",
     "text": [
      "[[ 50.  +0.j       0.  +0.j       0.  +0.j    ]\n",
      " [-12.5+17.2048j   0.  +0.j       0.  +0.j    ]\n",
      " [-12.5 +4.0615j   0.  +0.j       0.  +0.j    ]\n",
      " [-12.5 -4.0615j   0.  +0.j       0.  +0.j    ]\n",
      " [-12.5-17.2048j   0.  +0.j       0.  +0.j    ]]\n"
     ]
    }
   ],
   "source": [
    "a = np.mgrid[:5, :5][0]\n",
    "print(np.fft.rfft2(a))"
   ]
  },
  {
   "cell_type": "markdown",
   "id": "4f6ec7a1",
   "metadata": {},
   "source": [
    "# rfftfreq\n",
    "- Return the Discrete Fourier Transform sample frequencies (for usage with rfft, irfft).\n",
    "- The returned float array f contains the frequency bin centers in cycles per unit of the sample spacing (with zero at the start). For instance, if the sample spacing is in seconds, then the frequency unit is cycles/second."
   ]
  },
  {
   "cell_type": "code",
   "execution_count": 741,
   "id": "f4df5c19",
   "metadata": {},
   "outputs": [
    {
     "name": "stdout",
     "output_type": "stream",
     "text": [
      "[  0.  10.  20.  30.  40. -50. -40. -30. -20. -10.]\n"
     ]
    }
   ],
   "source": [
    "signal = np.array([-2, 8, 6, 4, 1, 0, 3, 5, -3, 4], dtype=float)\n",
    "fourier = np.fft.rfft(signal)\n",
    "n = signal.size\n",
    "sample_rate = 100\n",
    "freq = np.fft.fftfreq(n, d=1./sample_rate)\n",
    "print(freq)"
   ]
  },
  {
   "cell_type": "markdown",
   "id": "aa719068",
   "metadata": {},
   "source": [
    "# rfftn\n",
    "- Compute the N-dimensional discrete Fourier Transform for real input.\n",
    "- This function computes the N-dimensional discrete Fourier Transform over any number of axes in an M-dimensional real array by means of the Fast Fourier Transform (FFT). By default, all axes are transformed, with the real transform performed over the last axis, while the remaining transforms are complex."
   ]
  },
  {
   "cell_type": "code",
   "execution_count": 737,
   "id": "b2bd42dc",
   "metadata": {},
   "outputs": [
    {
     "name": "stdout",
     "output_type": "stream",
     "text": [
      "[[[8.+0.j 0.+0.j]\n",
      "  [0.+0.j 0.+0.j]]\n",
      "\n",
      " [[0.+0.j 0.+0.j]\n",
      "  [0.+0.j 0.+0.j]]]\n"
     ]
    }
   ],
   "source": [
    "a = np.ones((2, 2, 2))\n",
    "print(np.fft.rfftn(a))"
   ]
  },
  {
   "cell_type": "markdown",
   "id": "71345dad",
   "metadata": {},
   "source": [
    "# => random (lib)"
   ]
  },
  {
   "cell_type": "markdown",
   "id": "14ea4ec8",
   "metadata": {},
   "source": [
    "# beta\n",
    "- Draw samples from a Beta distribution.\n",
    "- The Beta distribution is a special case of the Dirichlet distribution, and is related to the Gamma distribution. It has the probability distribution function"
   ]
  },
  {
   "cell_type": "code",
   "execution_count": 743,
   "id": "88711488",
   "metadata": {},
   "outputs": [
    {
     "name": "stdout",
     "output_type": "stream",
     "text": [
      "0.2547068612448533\n"
     ]
    }
   ],
   "source": [
    "print(np.random.beta(14., 35.))"
   ]
  },
  {
   "cell_type": "markdown",
   "id": "02e9897d",
   "metadata": {},
   "source": [
    "# binomial\n",
    "- Draw samples from a binomial distribution.\n",
    "- Samples are drawn from a binomial distribution with specified parameters, n trials and p probability of success where n an integer >= 0 and p is in the interval [0,1]. (n may be input as a float, but it is truncated to an integer in use)"
   ]
  },
  {
   "cell_type": "code",
   "execution_count": 746,
   "id": "53e5f5e0",
   "metadata": {},
   "outputs": [
    {
     "name": "stdout",
     "output_type": "stream",
     "text": [
      "[2 3 5 5 4 5 6 5 5 7 6 3 6 2 4 8 7 4 6 7 6 7 7 7 2 6 6 4 4 6]\n"
     ]
    }
   ],
   "source": [
    "n, p = 10, .5  # number of trials, probability of each trial\n",
    "s = np.random.binomial(n, p, 30)\n",
    "print(s)"
   ]
  },
  {
   "cell_type": "markdown",
   "id": "2481373f",
   "metadata": {},
   "source": [
    "# chisquare\n",
    "- Draw samples from a chi-square distribution.\n",
    "- When df independent random variables, each with standard normal distributions (mean 0, variance 1), are squared and summed, the resulting distribution is chi-square (see Notes). This distribution is often used in hypothesis testing."
   ]
  },
  {
   "cell_type": "code",
   "execution_count": 747,
   "id": "2b2b2b51",
   "metadata": {},
   "outputs": [
    {
     "data": {
      "text/plain": [
       "array([4.5092, 1.3742, 0.2825, 2.1589])"
      ]
     },
     "execution_count": 747,
     "metadata": {},
     "output_type": "execute_result"
    }
   ],
   "source": [
    "np.random.chisquare(2,4)"
   ]
  },
  {
   "cell_type": "markdown",
   "id": "bd7e3a23",
   "metadata": {},
   "source": [
    "# choice\n",
    "- Generates a random sample from a given 1-D array"
   ]
  },
  {
   "cell_type": "code",
   "execution_count": 748,
   "id": "8b1875c3",
   "metadata": {},
   "outputs": [
    {
     "name": "stdout",
     "output_type": "stream",
     "text": [
      "[1 3 4]\n"
     ]
    }
   ],
   "source": [
    "print(np.random.choice(5, 3))"
   ]
  },
  {
   "cell_type": "markdown",
   "id": "a5287478",
   "metadata": {},
   "source": [
    "# default_rng\n",
    "- Construct a new Generator with the default BitGenerator (PCG64)."
   ]
  },
  {
   "cell_type": "code",
   "execution_count": 749,
   "id": "60d7538f",
   "metadata": {},
   "outputs": [
    {
     "name": "stdout",
     "output_type": "stream",
     "text": [
      "Generator(PCG64)\n",
      "0.22733602246716966\n"
     ]
    }
   ],
   "source": [
    "rng = np.random.default_rng(12345)\n",
    "print(rng)\n",
    "print(rng.random())"
   ]
  },
  {
   "cell_type": "markdown",
   "id": "3a1f9fa1",
   "metadata": {},
   "source": [
    "# dirichlet\n",
    "- Draw samples from the Dirichlet distribution.\n",
    "- Draw size samples of dimension k from a Dirichlet distribution. A Dirichlet-distributed random variable can be seen as a multivariate generalization of a Beta distribution. The Dirichlet distribution is a conjugate prior of a multinomial distribution in Bayesian inference."
   ]
  },
  {
   "cell_type": "code",
   "execution_count": 750,
   "id": "d02a97d3",
   "metadata": {},
   "outputs": [
    {
     "name": "stdout",
     "output_type": "stream",
     "text": [
      "[[0.6424 0.1778 0.1799]\n",
      " [0.4085 0.4034 0.1881]\n",
      " [0.6857 0.2184 0.0959]\n",
      " [0.7101 0.1387 0.1512]\n",
      " [0.586  0.3617 0.0524]\n",
      " [0.4579 0.2405 0.3016]\n",
      " [0.4724 0.2154 0.3122]\n",
      " [0.6274 0.309  0.0636]\n",
      " [0.5025 0.4118 0.0857]\n",
      " [0.6275 0.1478 0.2247]\n",
      " [0.435  0.3302 0.2348]\n",
      " [0.391  0.3392 0.2698]\n",
      " [0.5861 0.139  0.2749]\n",
      " [0.5719 0.2288 0.1993]\n",
      " [0.4439 0.2204 0.3357]\n",
      " [0.4037 0.406  0.1903]\n",
      " [0.6642 0.2968 0.0391]\n",
      " [0.6628 0.2302 0.107 ]\n",
      " [0.4148 0.3666 0.2185]\n",
      " [0.497  0.3567 0.1464]]\n"
     ]
    }
   ],
   "source": [
    "print(np.random.dirichlet((10, 5, 3), 20))"
   ]
  },
  {
   "cell_type": "markdown",
   "id": "f6dee74e",
   "metadata": {},
   "source": [
    "# exponential\n",
    "- Draw samples from an exponential distribution."
   ]
  },
  {
   "cell_type": "code",
   "execution_count": 751,
   "id": "c1644788",
   "metadata": {},
   "outputs": [
    {
     "name": "stdout",
     "output_type": "stream",
     "text": [
      "[8.0229 0.7169 0.1517 4.8931 3.8521 1.1858 0.4517 2.4087 3.6557 6.2518]\n"
     ]
    }
   ],
   "source": [
    "print(np.random.exponential(scale=4, size=n))"
   ]
  },
  {
   "cell_type": "markdown",
   "id": "a0751900",
   "metadata": {},
   "source": [
    "# f\n",
    "- Draw samples from an F distribution.\n",
    "- Samples are drawn from an F distribution with specified parameters, dfnum (degrees of freedom in numerator) and dfden (degrees of freedom in denominator), where both parameters must be greater than zero.\n",
    "- The random variate of the F distribution (also known as the Fisher distribution) is a continuous probability distribution that arises in ANOVA tests, and is the ratio of two chi-square variates."
   ]
  },
  {
   "cell_type": "code",
   "execution_count": 754,
   "id": "92002720",
   "metadata": {},
   "outputs": [
    {
     "name": "stdout",
     "output_type": "stream",
     "text": [
      "[2.8077e+00 1.0813e+00 6.6195e-01 1.1513e-01 4.8671e-02 2.6233e-01\n",
      " 9.0349e-01 3.0224e-04 5.8348e-01 6.5582e-01 1.6187e+00 1.4582e-02\n",
      " 8.8558e-02 1.2760e+00 3.7422e+00 2.8207e+00 2.2437e+00 2.7067e+00\n",
      " 3.4855e-01 1.7187e-01 3.2770e-01 2.1896e+00 2.1288e-01 8.8637e-01\n",
      " 1.9329e-01 2.4565e-01 1.1241e+00 1.4487e-01 5.0660e-01 1.1965e-02]\n"
     ]
    }
   ],
   "source": [
    "dfnum = 1. # between group degrees of freedom\n",
    "dfden = 48. # within groups degrees of freedom\n",
    "s = np.random.f(dfnum, dfden, 30)\n",
    "print(s)"
   ]
  },
  {
   "cell_type": "markdown",
   "id": "995bc773",
   "metadata": {},
   "source": [
    "# gamma\n",
    "- Draw samples from a Gamma distribution.\n",
    "- Samples are drawn from a Gamma distribution with specified parameters, shape (sometimes designated “k”) and scale (sometimes designated “theta”), where both parameters are > 0."
   ]
  },
  {
   "cell_type": "code",
   "execution_count": 755,
   "id": "7d8d3d28",
   "metadata": {},
   "outputs": [
    {
     "name": "stdout",
     "output_type": "stream",
     "text": [
      "[10.1454  3.9481  0.8814  0.9371  7.1738  3.8939  1.495   4.9647  5.2794\n",
      "  2.2233  8.4872  4.9182  2.4561  6.3991 11.0248  1.0102  2.4345 10.0987\n",
      "  2.5501  2.1738  1.5588  4.4878  4.2571  1.9768  0.6367  3.3484  7.4964\n",
      "  2.8754  1.0614  7.9462  8.3144  2.3729  4.611   9.8066  7.1424  2.8955\n",
      "  8.0823  3.0431  0.2829  1.8034]\n"
     ]
    }
   ],
   "source": [
    "shape, scale = 2., 2.  # mean=4, std=2*sqrt(2)\n",
    "s = np.random.gamma(shape, scale, 40)\n",
    "print(s)\n"
   ]
  },
  {
   "cell_type": "markdown",
   "id": "87e1217a",
   "metadata": {},
   "source": [
    "# geometric\n",
    "- Draw samples from the geometric distribution."
   ]
  },
  {
   "cell_type": "code",
   "execution_count": 759,
   "id": "a92a2085",
   "metadata": {},
   "outputs": [
    {
     "name": "stdout",
     "output_type": "stream",
     "text": [
      "0.3536\n"
     ]
    }
   ],
   "source": [
    "z = np.random.geometric(p=0.35, size=10000)\n",
    "print (( z == 1).sum() / 10000)"
   ]
  },
  {
   "cell_type": "markdown",
   "id": "549beb7c",
   "metadata": {},
   "source": [
    "# get_state\n",
    "- Return a tuple representing the internal state of the generator."
   ]
  },
  {
   "cell_type": "code",
   "execution_count": 761,
   "id": "bd3a1c2d",
   "metadata": {},
   "outputs": [
    {
     "name": "stdout",
     "output_type": "stream",
     "text": [
      "('MT19937', array([2603784165,  542244340, 1282789513, 1795154253, 3643616295,\n",
      "       2133262695,  121662858, 2391949808,  177546849, 1157076309,\n",
      "       1048689186,  108181144, 3691704252, 4111757217, 1724087012,\n",
      "        972121185, 2450901046,   85532710, 2424031457, 3157169091,\n",
      "       2488954618,  205322405, 1991535999, 3805356168, 1459260077,\n",
      "       4102078615, 2922313509, 1033930188, 3553906546, 3860429346,\n",
      "       2522681333, 1515972006,  318866680, 2889441973, 2679111762,\n",
      "       2781021432, 1502878921, 2931272261, 3280665712,  370388386,\n",
      "       3567955927, 1271068845, 1720475462,  782345379,  103780625,\n",
      "       1062969425, 2518344932, 3000358378, 2089829074, 4041094250,\n",
      "        179815309, 3745857344, 1813715646, 3536538177, 1218665639,\n",
      "       2063019896,  121016252, 2471792608, 2034693774, 2644888606,\n",
      "       2730842810, 3343044261, 2357925336, 3911173452,  582805324,\n",
      "       1565831173, 4142142582,  919607501, 1876020705,  647970798,\n",
      "       2550080050, 2281339110, 3684770691,  588445865, 1341372950,\n",
      "       3788984716,  339104920, 2486948258,  994939190,  415768871,\n",
      "       3535286454, 1529576554, 1491927773,  963472647, 2200475759,\n",
      "       2761334201, 3106459542, 2756034392,  845101381,   49961219,\n",
      "       4068027854, 3292313227,  315629311,  585384291, 1354209077,\n",
      "       3235303081,  735003503, 1101070751,  240141072, 2099896601,\n",
      "       1605442450, 3906377150,     625926, 4203042448,  843854332,\n",
      "       1860512004, 2292075841, 2559413207, 3056169850, 2450548200,\n",
      "       1015878556, 4170028805, 3048499560,  420574145, 3520275121,\n",
      "       3971602729, 3797922629, 4226826161, 4086724119, 2353821314,\n",
      "       2470989255, 2678500023, 1970040477, 1296913934, 2576668673,\n",
      "       3807228150, 1283392269, 3775226168, 2907852793,  934891946,\n",
      "       4284712987, 2115094156, 3204756202,  388415325,  881633831,\n",
      "       2715061775,  705593520,  111500148, 3523226598, 2411287809,\n",
      "       4291913529,  493929058, 3709320549, 3908954528, 1335455988,\n",
      "       2521555538, 3785264717, 1053094659, 2221899950, 1460670494,\n",
      "       1047176709, 3796953277, 1783384475, 2666690051, 3315612534,\n",
      "       1854663923, 3211016178, 4012852240, 1542603949, 3695097917,\n",
      "       1794673324, 3812860062,  617635139, 2982941309, 2779001800,\n",
      "       1493656308, 3152258617, 1971362673, 3456735309, 3448778835,\n",
      "       3091687319, 2772343524,   40602589, 1615632836, 3520453714,\n",
      "        468641252, 2000350626, 1828749668, 3970031166, 3481404025,\n",
      "        951099370, 2353117578, 3382802512, 2406218777,  184381803,\n",
      "       2538218276, 3941043959, 1280772082, 3784834688,  676455713,\n",
      "       3152133584, 1496170624,  622589905, 1643348309, 2731467980,\n",
      "       3729527940, 1600464233, 2947747516, 3347412201, 2838357110,\n",
      "       1410825970, 1515753708, 2827375079, 3006724283, 3733764901,\n",
      "       1167677598, 3308176662, 3071157352, 4029843555,  944690333,\n",
      "       2441048075, 4275751067, 3834726929, 3899601532,  704224837,\n",
      "       3752916086, 1046957640, 2573374832,  643802968, 1537883729,\n",
      "       2337859147, 3317206470, 2472299056, 1490447493, 4224396697,\n",
      "       1826492430, 1547765445, 3934389442,  322725040, 1996949204,\n",
      "       4018498937, 3550828195, 1398551436, 2445486890, 1335165174,\n",
      "       2148386908, 2024724607, 4155360003, 2265938964, 2323289501,\n",
      "       4282944059,  605935193, 1593848128, 2651026814, 2555223167,\n",
      "       3806044985,  884662965, 1076290990, 2916522070, 2377479299,\n",
      "       3540488788, 2704127991, 2588578640, 3960872698, 3715600419,\n",
      "       2351413477,  957491811, 1762343313, 2655113161, 1542796961,\n",
      "       1716818151, 3044108705,  771877335, 3849150757,  635195012,\n",
      "       3177939923, 2207570759, 1000371448, 3484270588, 1972081834,\n",
      "        561225287, 3781324721, 1094818875, 2247799961, 3713792472,\n",
      "       1271564916, 2236733493, 3990835534,    7459394,  111078495,\n",
      "        570440246, 4108478049,  376108895,  644489888, 3784728269,\n",
      "       2492962931,  432539136, 3057027122, 1959242824, 2152719891,\n",
      "       1201286056, 4225088322, 3157463950, 2407886652,  772889774,\n",
      "       4005715195, 4147202686,  296895865, 1322855566, 2372244884,\n",
      "       4159669768, 3775407869, 3663432250, 3835458328, 3486564261,\n",
      "       3597762836,  907539116,  570855970, 1889380184,  933814573,\n",
      "       1160970519, 3447773990, 2261388725, 2214446610, 1011222140,\n",
      "        833772383, 1974833375, 1128633799,  517707267, 2345910928,\n",
      "       3369509003, 2847635643, 1933936233, 2688387246, 3733245917,\n",
      "       1235485641, 2786117576, 4053855566,  114665216, 3294238148,\n",
      "       4246924357, 1319045785, 4219006892,  953570686, 1613614380,\n",
      "       1361350521, 2865145551, 4013452687,   70804332, 3130646066,\n",
      "       3022185921,  233757218,  276797842, 1497066485, 2779105218,\n",
      "       4018096807, 1618850393, 2406110790, 1472443658, 1678804181,\n",
      "       2288878713, 1250578338,  466101073, 2878806548,  139755873,\n",
      "       1652013072, 3131277912, 2598092457, 1717105504, 3047409947,\n",
      "       1014740765, 1901700024, 3687638367, 1001757795,  383359364,\n",
      "       1161779284, 1052580549,  214485846, 1092229624, 2423581954,\n",
      "       2866987721, 2917170327, 2320676648,  476693073, 4272167498,\n",
      "        261178183, 1128989566,   47629763, 1169687576, 1985719527,\n",
      "       2227327058, 2325655549, 3413499513,  713025490,  585381594,\n",
      "       3950457720, 1457287732, 1960790055, 1643749886,  544018031,\n",
      "         88404530, 3472850324, 4061847322, 1436815889, 1642339036,\n",
      "       2271915724, 2832319906,  118114398, 3744165421, 3123800193,\n",
      "       2416026375, 2335367566, 2277662219, 2243615673, 1982789447,\n",
      "       2199972563, 2222520062, 3284255784, 3301644099, 1703354065,\n",
      "       2292061530, 3480930684, 4069645252,  447822795, 1637643009,\n",
      "       2001969743, 3766842475, 2318354323,  994604863, 2601675289,\n",
      "       2990518939,  289236541,  297139297, 1760512503,  469482964,\n",
      "       2461504351,   57795768, 1599203734, 1761535556, 1862173156,\n",
      "       1512268556,  633721272, 3922401206, 2344020282,   76280063,\n",
      "        300323071, 4174528959, 4130262677, 1295915222, 2682758751,\n",
      "       3211141168,  224175676, 3560763410, 2813796496, 2791433946,\n",
      "       4022639472,  948284204, 3189940832, 1018358101, 2761908845,\n",
      "       3444636882, 4106444233, 3052422996,  512080127, 1428767335,\n",
      "         49506877, 1325049669,  842222152, 1429904469,  996950609,\n",
      "       3288416825, 3010614845,  193795794, 1184151701, 2007284778,\n",
      "       4190074643, 3261697912,  871079127, 3946846618, 2810353301,\n",
      "        412484928, 2053901773, 2984881587, 3885013547, 4059127413,\n",
      "       2322672459, 1482858058, 1884187153, 1166693731, 2208471504,\n",
      "       3751656271, 3038210924,   35073973,  280239606,  839827808,\n",
      "       2490032147, 2157036058, 2368543142,  679764790, 2946811486,\n",
      "       1976805528, 2599978337,  248768904, 2819886879, 3567538553,\n",
      "       3089472490,  531674560, 2322711530, 2961624452, 3549259430,\n",
      "       2176618539, 1552559057, 1578856761, 3270606301, 3563971059,\n",
      "       2950048282,   28695917, 2793952249, 3222599585, 1844551866,\n",
      "       4082527077, 2095040573, 3188243261,  126610449, 3524236714,\n",
      "       3670153626, 3392639634, 3340674394, 1103373747,  325439663,\n",
      "       3572024632,  482708055, 1348003804, 3210256316,  149322711,\n",
      "       2873772179, 4066773895, 1858412412, 2760193521,  595115550,\n",
      "       2485880151,   30769881, 1981441072, 3224485377, 1946336805,\n",
      "       1605847851,  476157206, 2471210536,  595231835, 1844758445,\n",
      "       1610371650, 3893168921, 3412010342, 3661181114, 2704999803,\n",
      "       1029999355, 1047183843, 2123401352, 2605947710, 2739611298,\n",
      "        604386972, 2242526291,  788474154,  711262524, 1674243909,\n",
      "        941821186, 1090890591, 1110677333, 4102782438, 3553397604,\n",
      "        360620562,  110111323, 2569129551, 1004491447, 2900747380,\n",
      "       1681037880,  757181649, 1110788021, 2613900121,  630978561,\n",
      "       3365241299, 2077635042, 3302765324, 3416542367, 2870110686,\n",
      "       4127126087, 2304905463, 2620453818, 1824726352, 2444084752,\n",
      "         36443292, 3971600122, 2401639605, 3161776699, 2291510159,\n",
      "        189481707, 3477536298, 3737962805, 2955695103, 3495761940,\n",
      "       2053324133, 1326105634, 3656125400, 3756347663,  825178742,\n",
      "       3336268714, 1006272606,  251820126, 3918870765, 3591622806,\n",
      "       2413600444, 1496971860, 2562275383, 4216211677, 4291863910,\n",
      "       1279031620, 1925711706,  250339728, 1044246599,  139785180,\n",
      "       1269940094, 2480228583, 1289928494, 3732576272, 1686851899,\n",
      "       3208376256, 3948284122, 2600458242,  733224315, 3066241749,\n",
      "       3973031249, 3762873580, 2046722005, 2084585103], dtype=uint32), 93, 1, -0.9807183106165164)\n"
     ]
    }
   ],
   "source": [
    "print(np.random.get_state())"
   ]
  },
  {
   "cell_type": "markdown",
   "id": "8259d56f",
   "metadata": {},
   "source": [
    "# gumbel\n",
    "- Draw samples from a Gumbel distribution."
   ]
  },
  {
   "cell_type": "code",
   "execution_count": 762,
   "id": "4c1149a7",
   "metadata": {},
   "outputs": [
    {
     "name": "stdout",
     "output_type": "stream",
     "text": [
      "[ 0.239  -0.0065  0.0503 -0.041   0.1971 -0.1653  0.1394 -0.0535 -0.0257\n",
      "  0.0066  0.015  -0.0667 -0.0845  0.059   0.0013  0.0237  0.2143 -0.0955\n",
      "  0.1075  0.086   0.0269  0.1099 -0.1071  0.0968  0.1764  0.0184  0.2465\n",
      "  0.0091 -0.0153  0.0201  0.1081  0.1205  0.212   0.0627  0.0017  0.2599\n",
      " -0.1596 -0.1495  0.0258  0.1401]\n"
     ]
    }
   ],
   "source": [
    "mu, beta = 0, 0.1 # location and scale\n",
    "s = np.random.gumbel(mu, beta, 40)\n",
    "print(s)"
   ]
  },
  {
   "cell_type": "markdown",
   "id": "b35c9bce",
   "metadata": {},
   "source": [
    "# hypergeometric\n",
    "- Draw samples from a Hypergeometric distribution."
   ]
  },
  {
   "cell_type": "code",
   "execution_count": 763,
   "id": "dbaf69f7",
   "metadata": {},
   "outputs": [
    {
     "name": "stdout",
     "output_type": "stream",
     "text": [
      "[10 10  9 10 10 10 10 10  9 10  9 10 10  9 10 10  9 10  9 10 10 10 10 10\n",
      " 10 10 10 10 10 10 10 10 10 10 10 10 10 10  9 10 10 10 10 10 10  9 10 10\n",
      " 10 10 10 10 10 10 10 10 10  9 10 10 10 10 10 10 10 10 10 10 10 10 10 10\n",
      " 10 10  9 10 10 10 10 10 10  8 10 10 10 10  9  9  9 10  9 10  9 10 10  9\n",
      " 10 10 10 10 10 10 10 10  9 10 10 10 10 10 10 10 10 10 10 10  9  9 10 10\n",
      " 10 10  9 10 10 10 10 10 10 10 10  9 10 10 10 10 10 10 10 10  9 10  9 10\n",
      " 10 10 10 10  9 10 10 10 10 10  9  9 10 10  9 10 10 10 10 10  9 10 10 10\n",
      "  9 10 10 10 10 10 10 10 10 10  9  9 10 10 10 10 10 10 10 10 10 10 10 10\n",
      " 10 10  9 10 10 10 10 10]\n"
     ]
    }
   ],
   "source": [
    "ngood, nbad, nsamp = 100, 2, 10\n",
    "# number of good, number of bad, and number of samples\n",
    "s = np.random.hypergeometric(ngood, nbad, nsamp, 200)\n",
    "print(s)"
   ]
  },
  {
   "cell_type": "markdown",
   "id": "9e3d5ebb",
   "metadata": {},
   "source": [
    "# laplace\n",
    "- Draw samples from the Laplace or double exponential distribution with specified location (or mean) and scale (decay).\n",
    "- The Laplace distribution is similar to the Gaussian/normal distribution, but is sharper at the peak and has fatter tails. It represents the difference between two independent, identically distributed exponential random variables."
   ]
  },
  {
   "cell_type": "code",
   "execution_count": 765,
   "id": "65068bdc",
   "metadata": {},
   "outputs": [
    {
     "name": "stdout",
     "output_type": "stream",
     "text": [
      "[-0.2527 -2.15   -0.2477 -0.3912 -1.546  -0.7565 -3.1154  0.3384 -5.3161\n",
      " -1.6713  0.7421 -0.7701 -0.2782  0.6699 -0.3503 -0.0067 -0.7112  0.1992\n",
      "  2.2299  0.727   0.1376 -0.038   0.443  -0.6119 -0.113   0.1157  0.7204\n",
      " -1.9661  1.3368  1.8739  0.7882 -0.2921  0.1657 -0.3789  2.4689  0.8534\n",
      "  0.7889 -0.4347 -0.0461  0.8032]\n"
     ]
    }
   ],
   "source": [
    "loc, scale = 0., 1.\n",
    "s = np.random.laplace(loc, scale, 40)\n",
    "print(s)"
   ]
  },
  {
   "cell_type": "markdown",
   "id": "b87fd27a",
   "metadata": {},
   "source": [
    "# logistic\n",
    "- Draw samples from a logistic distribution."
   ]
  },
  {
   "cell_type": "code",
   "execution_count": 767,
   "id": "19e0ffa1",
   "metadata": {},
   "outputs": [
    {
     "name": "stdout",
     "output_type": "stream",
     "text": [
      "[ 9.2645 11.5258 11.9352 12.1357  9.4945 11.8238  8.3785 13.7902  6.7233\n",
      " 10.2228  9.939   7.9129 10.2716  9.9852  7.0864  9.0739  8.9559 10.3832\n",
      "  9.2595 10.9277 10.5877  9.5199 10.6888  9.7307 10.5153  9.565  10.8101\n",
      " 10.4891  8.8312  8.8741  8.7926  7.0956 12.217   7.4709  3.9827  8.2009\n",
      " 11.452   8.6146 10.7788 10.7955]\n"
     ]
    }
   ],
   "source": [
    "loc, scale = 10, 1\n",
    "s = np.random.logistic(loc, scale,40)\n",
    "print(s)"
   ]
  },
  {
   "cell_type": "markdown",
   "id": "9f0e1733",
   "metadata": {},
   "source": [
    "# lognormal\n",
    "- Draw samples from a log-normal distribution."
   ]
  },
  {
   "cell_type": "code",
   "execution_count": 768,
   "id": "c0fcd19d",
   "metadata": {},
   "outputs": [
    {
     "name": "stdout",
     "output_type": "stream",
     "text": [
      "[  7.5329   4.2445  25.9093 144.2944  25.3628   1.0901  41.3048  46.2565\n",
      "   9.2193   5.8443  10.6959   8.347  119.858   11.6532   6.8152  88.5259\n",
      "  18.934   42.6286   5.9982   8.0397  30.7195  23.2233  23.736   65.9171\n",
      "  12.2771  21.5239  29.6176  43.7202  10.8874   3.9806  62.1858  46.0724\n",
      "  17.3255  88.5323  67.3392  29.4745  17.2383  37.1321   3.4191  19.5815\n",
      "  82.247   40.1818  36.0921   7.2816  18.7347  16.5832  21.8062 685.4743\n",
      "  26.5801  35.3043  16.2346  32.1274  24.3667  41.9785  11.1198   3.6317\n",
      " 157.9608  24.7855   9.1088  34.416   19.2645  30.5095  10.159    1.4314\n",
      "  15.1407   1.2121  15.0714  13.3518  21.3084  39.4759 111.8324  16.4305\n",
      "  33.7201  17.9135   4.4957  26.8861  29.4598  78.6285  33.2536   9.1099\n",
      "  14.6816   7.4143  12.2274   8.1068   7.6667   5.5827   5.4996  35.7317\n",
      "  85.8485   4.177   15.1367  23.9231   5.3277   8.9583   4.633   41.1145\n",
      "  67.4121  14.6121  22.2045  13.8515]\n"
     ]
    }
   ],
   "source": [
    "mu, sigma = 3., 1. # mean and standard deviation\n",
    "s = np.random.lognormal(mu, sigma, 100)\n",
    "print(s)"
   ]
  },
  {
   "cell_type": "markdown",
   "id": "1decc12b",
   "metadata": {},
   "source": [
    "# logseries\n",
    "- Draw samples from a logarithmic series distribution."
   ]
  },
  {
   "cell_type": "code",
   "execution_count": 769,
   "id": "54d111c8",
   "metadata": {},
   "outputs": [
    {
     "name": "stdout",
     "output_type": "stream",
     "text": [
      "[1 1 1 1 1 1 1 1 2 2 1 1 1 1 1 1 1 2 1 2 2 3 3 1 1 1 2 1 1 1 1 4 2 1 1 1 5\n",
      " 1 2 4 2 1 2 3 1 2 1 1 2 1 1 1 1 1 2 2 1 1 2 1 1 1 2 2 1 2 1 1 1 2 1 1 1 1\n",
      " 1 2 1 1 2 1 2 1 3 2 1 1 4 1 3 1 1 1 1 2 1 1 2 1 1 3]\n"
     ]
    }
   ],
   "source": [
    "a = .6\n",
    "s = np.random.logseries(a, 100)\n",
    "print(s)"
   ]
  },
  {
   "cell_type": "markdown",
   "id": "73ca9974",
   "metadata": {},
   "source": [
    "# multinomial\n",
    "- Draw samples from a multinomial distribution.\n",
    "- The multinomial distribution is a multivariate generalization of the binomial distribution. Take an experiment with one of p possible outcomes. An example of such an experiment is throwing a dice, where the outcome can be 1 through 6. Each sample drawn from the distribution represents n such experiments. Its values, X_i = [X_0, X_1, ..., X_p], represent the number of times the outcome was i."
   ]
  },
  {
   "cell_type": "code",
   "execution_count": 770,
   "id": "c25aa55c",
   "metadata": {},
   "outputs": [
    {
     "name": "stdout",
     "output_type": "stream",
     "text": [
      "[[3 2 4 4 1 6]]\n"
     ]
    }
   ],
   "source": [
    "print(np.random.multinomial(20, [1/6.]*6, size=1))"
   ]
  },
  {
   "cell_type": "markdown",
   "id": "108e5250",
   "metadata": {},
   "source": [
    "# multivariate_normal\n",
    "- Draw random samples from a multivariate normal distribution.\n",
    "- The multivariate normal, multinormal or Gaussian distribution is a generalization of the one-dimensional normal distribution to higher dimensions. Such a distribution is specified by its mean and covariance matrix. These parameters are analogous to the mean (average or “center”) and variance (standard deviation, or “width,” squared) of the one-dimensional normal distribution."
   ]
  },
  {
   "cell_type": "code",
   "execution_count": 772,
   "id": "07bfd286",
   "metadata": {},
   "outputs": [
    {
     "name": "stdout",
     "output_type": "stream",
     "text": [
      "[-0.026   0.0698  0.2936 -0.2416 -1.3076 -0.2359 -0.1236 -3.3872  0.144\n",
      "  0.6383 -1.022   0.1754 -0.592  -0.9396 -0.2927  0.52    0.3529  0.781\n",
      "  0.4074 -0.5566 -1.1384  1.0219  0.6319  1.2778  1.0798 -1.2556  0.4582\n",
      "  0.5736  0.5399 -0.819   0.8492  1.8541 -0.3173  0.1462 -1.053  -1.161\n",
      "  0.1524  1.232  -0.2537 -0.326  -0.5595 -0.2128 -0.011   1.8147 -0.5551\n",
      " -0.3578  0.1359 -1.2892  0.3766  0.2619  1.2219 -0.5425  0.4954  1.2126\n",
      "  0.4905  0.6232  2.1177 -0.8071  0.0717  1.8638  0.4474  2.1795  0.861\n",
      " -1.3315  0.0147  1.1253 -1.079   0.2862  1.0036  1.4706  0.3088 -0.0687\n",
      " -0.0321  0.1013  0.8027 -0.7836  0.889  -0.4841 -0.4545  0.4799  0.4673\n",
      "  0.3431 -0.8105  0.3476 -0.5383  1.8493  1.6292 -1.3579  1.6315  1.12\n",
      "  0.1392 -0.7812  0.0967  0.4437  0.6904  1.1533 -0.9821  0.6145 -0.817\n",
      "  0.4221]\n",
      "[-8.2130e+00 -9.2267e+00 -1.2060e+00 -2.9343e+00 -6.9327e+00  8.6301e+00\n",
      "  1.1591e-02  8.4470e-01 -1.0515e+01  7.1265e+00  4.2690e+00 -1.0401e+00\n",
      "  6.1334e+00  4.0591e+00  5.8933e+00  1.1729e+01 -6.3324e+00  9.6316e+00\n",
      " -1.1370e+01  2.2662e+00 -3.7852e+00 -1.5120e+00  2.3576e+01 -1.2495e+01\n",
      " -4.3949e+00 -5.4379e+00 -1.0468e+01  4.1712e+00  1.5829e+01 -8.3841e+00\n",
      " -3.7622e+00  2.8145e+00  4.9999e+00  1.6774e+01  3.2852e-01  3.4704e+00\n",
      " -7.7401e-01  1.0030e+01  4.7768e+00 -9.5817e+00  9.1020e+00  9.9997e+00\n",
      "  5.9024e+00 -7.8410e+00  2.7703e+00  1.0376e+01  5.2035e+00 -9.1845e+00\n",
      " -9.1539e+00 -1.0613e+01 -4.0826e+00  2.2243e+01 -5.6313e+00 -1.4097e+01\n",
      "  9.2782e+00  8.5190e+00 -6.6910e+00 -1.6926e+01 -1.3238e+01  1.9417e+01\n",
      "  1.5508e+01 -1.0561e+01  1.9397e+01  6.3252e+00 -1.1866e+01  1.0251e+00\n",
      " -2.4127e+01 -3.6114e+00  4.0526e+00  8.9092e-02  3.8593e+00  3.7613e+00\n",
      " -5.6838e+00  3.0359e-01 -3.5170e-01 -1.1382e+01 -1.0072e+01 -1.2769e+01\n",
      "  1.2581e+01  5.0334e+00 -1.2294e+01 -9.0673e+00 -4.0887e+00  7.0851e+00\n",
      " -2.5386e+00 -3.4163e+00 -3.1668e+00  1.8894e+00 -7.4195e+00 -4.2202e+00\n",
      " -5.1730e+00 -2.5281e+01  6.3501e+00 -2.2700e+00 -3.4130e+00 -3.3700e+00\n",
      "  1.8890e+01  9.0663e+00  6.8350e+00  4.1728e+00]\n"
     ]
    }
   ],
   "source": [
    "mean = [0, 0]\n",
    "cov = [[1, 0], [0, 100]]  # diagonal covariance\n",
    "x, y = np.random.multivariate_normal(mean, cov, 100).T\n",
    "print(x)\n",
    "print(y)"
   ]
  },
  {
   "cell_type": "markdown",
   "id": "517fee7a",
   "metadata": {},
   "source": [
    "# negative_binomial\n",
    "- Draw samples from a negative binomial distribution.\n",
    "- Samples are drawn from a negative binomial distribution with specified parameters, n successes and p probability of success where n is > 0 and p is in the interval [0, 1]."
   ]
  },
  {
   "cell_type": "code",
   "execution_count": 779,
   "id": "df0177ee",
   "metadata": {},
   "outputs": [
    {
     "name": "stdout",
     "output_type": "stream",
     "text": [
      "[ 1  8  2 29 11 21  0 14 40 12  1 17  4  0  3 13  3  4  0  4  4  2  6 24\n",
      " 63  4  6 19  2  7  9  0 22  3 10  1 22  8 31  1  4 12  2 22  0  0  6 26\n",
      "  2  2 37 14 14  3  1  5 10  3 13 22  9 16  3  5  3  5  4 13  6 15  4 23\n",
      "  5 23 33  0  8 21  2 12  7  4 22  2  8  3 23 21 16  2  2 16  5 11  8  0\n",
      "  9 12 21 11]\n"
     ]
    }
   ],
   "source": [
    "s = np.random.negative_binomial(1, 0.1, 100)\n",
    "print(s)"
   ]
  },
  {
   "cell_type": "markdown",
   "id": "4136e9b4",
   "metadata": {},
   "source": [
    "# noncentral_chisquare\n",
    "- Draw samples from a noncentral chi-square distribution."
   ]
  },
  {
   "cell_type": "code",
   "execution_count": 780,
   "id": "0af4a113",
   "metadata": {},
   "outputs": [
    {
     "name": "stdout",
     "output_type": "stream",
     "text": [
      "[19.7364 26.4675 13.1687 15.2392 25.4252 38.5729 33.5225 23.1223 11.7297\n",
      " 25.4438 11.3812 22.5681 16.2112 38.4231 35.3944 32.4764 25.0181 35.8799\n",
      " 17.2995 26.984  32.9277 29.1294 19.1177 10.2832 17.9712 25.0978 29.3906\n",
      " 31.4999 27.8536 25.2819 17.074  27.6813 25.3097 23.2978 29.2081 14.7158\n",
      " 12.2322 15.3354 26.1701 28.7098 37.1202 41.1918 35.6704 15.5484 26.4027\n",
      " 19.9477 18.2407 17.2201 16.0552 19.0966 38.1598 11.5873 27.4056 28.8141\n",
      " 19.3594 20.3469 21.4852 22.9689 11.4852 24.4858 31.0418 15.6068 26.2507\n",
      " 16.3604 21.7959 19.3495 32.9241 16.7259 23.2629  7.0152 35.1257 19.1841\n",
      " 14.8568 32.9608 36.356  24.4734 17.4063 28.6533  9.2886 31.87    6.3965\n",
      " 10.8083 21.8269 16.9574 46.1882 26.2625 26.6121 10.5926 32.0274 19.6256\n",
      " 25.9134 26.3458 30.636  29.4867 19.2855 18.267  32.4336 27.0161 25.7197\n",
      " 30.7611]\n"
     ]
    }
   ],
   "source": [
    "print(np.random.noncentral_chisquare(3, 20, 100))"
   ]
  },
  {
   "cell_type": "markdown",
   "id": "d98c683a",
   "metadata": {},
   "source": [
    "# noncentral_f\n",
    "- Draw samples from the noncentral F distribution.\n",
    "- Samples are drawn from an F distribution with specified parameters, dfnum (degrees of freedom in numerator) and dfden (degrees of freedom in denominator), where both parameters > 1. nonc is the non-centrality parameter."
   ]
  },
  {
   "cell_type": "code",
   "execution_count": 781,
   "id": "28ee768a",
   "metadata": {},
   "outputs": [
    {
     "name": "stdout",
     "output_type": "stream",
     "text": [
      "[2.3981e+00 2.1966e-01 1.0017e+00 2.7611e+00 8.3642e-01 4.0538e+00\n",
      " 2.5451e+00 8.5904e-01 4.7816e+00 9.8408e-01 1.8892e+00 3.1717e+00\n",
      " 5.2012e+00 1.2319e+00 1.9751e+00 1.7578e+00 3.6340e+00 5.9349e+00\n",
      " 6.9222e-01 2.4035e+00 2.3768e+00 1.5417e+00 1.3794e+00 2.1370e+00\n",
      " 9.3739e+00 1.1282e+00 1.9562e+00 3.5364e+00 8.0252e+00 2.0092e+00\n",
      " 7.3698e+00 1.0780e+00 1.5259e+00 4.2936e+00 1.4172e+00 1.4543e-01\n",
      " 3.6656e+00 4.0805e+00 1.1072e+00 7.7219e-01 1.3443e+00 1.4508e+00\n",
      " 4.9222e-01 8.5455e+00 1.3241e+00 1.2993e+00 2.0560e+00 2.7037e+00\n",
      " 1.1459e+00 3.0924e+00 1.8660e+00 2.1495e+00 2.0168e+00 2.2959e+00\n",
      " 1.5147e+00 2.0006e+00 2.6367e+00 2.5370e-03 2.8369e+00 6.3796e-01\n",
      " 6.4931e+00 8.6109e+00 7.7635e-01 1.8100e+00 1.0923e+00 9.5049e-01\n",
      " 3.0283e+00 8.7384e+00 4.2296e+00 5.2759e-01 2.7820e+00 6.0192e-01\n",
      " 1.0776e+00 6.0043e+00 2.8030e+00 2.7403e+00 1.3069e+00 8.2007e-01\n",
      " 9.2003e-01 1.1311e+00 1.3827e+00 6.3592e+00 5.5468e-01 3.4952e+00\n",
      " 1.0933e+00 5.3097e+00 1.0746e+00 1.5092e+00 1.8537e+00 2.3413e+00\n",
      " 1.8924e+00 2.5892e+00 9.5064e-01 1.7861e+00 3.3520e+00 3.9661e-01\n",
      " 1.5964e+00 1.7094e+00 2.3172e-01 2.8466e+00]\n"
     ]
    }
   ],
   "source": [
    "dfnum = 3 # between group deg of freedom\n",
    "dfden = 20 # within groups degrees of freedom\n",
    "nonc = 3.0\n",
    "nc_vals = np.random.noncentral_f(dfnum, dfden, nonc, 100)\n",
    "print(nc_vals)"
   ]
  },
  {
   "cell_type": "markdown",
   "id": "636151f7",
   "metadata": {},
   "source": [
    "# normal\n",
    "- Draw random samples from a normal (Gaussian) distribution.\n",
    "- The probability density function of the normal distribution, first derived by De Moivre and 200 years later by both Gauss and Laplace independently [2], is often called the bell curve because of its characteristic shape (see the example below).\n",
    "- The normal distributions occurs often in nature. For example, it describes the commonly occurring distribution of samples influenced by a large number of tiny, random disturbances, each with its own unique distribution [2]."
   ]
  },
  {
   "cell_type": "code",
   "execution_count": 782,
   "id": "0afbb491",
   "metadata": {},
   "outputs": [
    {
     "name": "stdout",
     "output_type": "stream",
     "text": [
      "[ 0.0612 -0.2833  0.1221 -0.0783  0.0171 -0.0499  0.0141  0.146   0.1592\n",
      " -0.1702  0.239  -0.0252 -0.0121  0.0319 -0.0355 -0.0048  0.033  -0.0256\n",
      "  0.0622  0.1175 -0.1851 -0.1041  0.1377 -0.0327 -0.1605  0.0259  0.0741\n",
      "  0.1185  0.0567  0.0648 -0.109   0.1792 -0.0904  0.0637 -0.1098 -0.0899\n",
      " -0.1105 -0.1617  0.0084  0.0033 -0.1277 -0.0632  0.1    -0.0099 -0.0255\n",
      " -0.0962 -0.0661  0.0164  0.0046 -0.0127  0.0393 -0.0186 -0.0089 -0.1078\n",
      "  0.0996 -0.0482  0.1005  0.0382  0.1643  0.0397  0.0389  0.0698  0.204\n",
      " -0.0309  0.018   0.0848 -0.1255 -0.0303  0.0146  0.0775 -0.0388  0.1167\n",
      "  0.1848 -0.2393  0.025  -0.0624 -0.0554  0.0466  0.0116 -0.1792 -0.0827\n",
      " -0.0594  0.034  -0.1362  0.0296  0.0444 -0.0734 -0.0134 -0.065   0.0216\n",
      "  0.0335  0.1973 -0.0732 -0.0228  0.032  -0.2904 -0.0456 -0.0503 -0.0254\n",
      "  0.0712]\n"
     ]
    }
   ],
   "source": [
    "mu, sigma = 0, 0.1 # mean and standard deviation\n",
    "s = np.random.normal(mu, sigma, 100)\n",
    "print(s)"
   ]
  },
  {
   "cell_type": "markdown",
   "id": "57deb627",
   "metadata": {},
   "source": [
    "# pareto\n",
    "- Draw samples from a Pareto II or Lomax distribution with specified shape.\n",
    "- The Lomax or Pareto II distribution is a shifted Pareto distribution. The classical Pareto distribution can be obtained from the Lomax distribution by adding 1 and multiplying by the scale parameter m (see Notes). The smallest value of the Lomax distribution is zero while for the classical Pareto distribution it is mu, where the standard Pareto distribution has location mu = 1. Lomax can also be considered as a simplified version of the Generalized Pareto distribution (available in SciPy), with the scale set to one and the location set to zero.\n",
    "- The Pareto distribution must be greater than zero, and is unbounded above. It is also known as the “80-20 rule”. In this distribution, 80 percent of the weights are in the lowest 20 percent of the range, while the other 20 percent fill the remaining 80 percent of the range."
   ]
  },
  {
   "cell_type": "code",
   "execution_count": 784,
   "id": "967d6637",
   "metadata": {},
   "outputs": [
    {
     "name": "stdout",
     "output_type": "stream",
     "text": [
      "[2.3406 2.0981 2.1212 2.0169 2.3203 6.2522 2.341  4.2793 2.4327 2.484\n",
      " 2.6811 3.2652 2.2945 2.232  2.0079 2.269  2.2163 2.5316 3.2607 2.6999\n",
      " 3.6339 2.6151 4.2309 3.1646 2.7365 2.68   2.1692 2.2591 2.1623 2.2201\n",
      " 2.7896 3.856  4.7466 2.73   3.2483 2.4632 3.4674 2.0052 2.4934 4.7008\n",
      " 2.406  2.1534 2.5376 2.7155 3.6683 3.6076 2.0067 2.4665 2.4273 2.364\n",
      " 2.0817 2.0039 4.8605 3.5922 2.5728 2.4115 9.2351 3.2446 2.0901 2.2175\n",
      " 2.142  2.062  3.1982 3.0485 2.4842 2.5113 5.8537 2.3025 2.4928 3.0779\n",
      " 3.7189 2.0972 2.5887 2.3045 2.0258 2.4595 2.0029 2.5073 2.2482 2.1099\n",
      " 2.1081 3.2002 2.0212 2.4568 2.6627 2.1136 5.7855 2.1654 3.3521 2.1387\n",
      " 2.4453 2.077  2.0593 4.6294 2.3962 2.0532 5.7684 2.7381 2.1177 2.0419]\n"
     ]
    }
   ],
   "source": [
    "a, m = 3., 2.  # shape and mode\n",
    "s = (np.random.pareto(a, 100) + 1) * m\n",
    "print(s)"
   ]
  },
  {
   "cell_type": "markdown",
   "id": "cc7b5e41",
   "metadata": {},
   "source": [
    "# permutation\n",
    "- Randomly permute a sequence, or return a permuted range.\n",
    "- If x is a multi-dimensional array, it is only shuffled along its first index."
   ]
  },
  {
   "cell_type": "code",
   "execution_count": 785,
   "id": "77fc7f60",
   "metadata": {},
   "outputs": [
    {
     "name": "stdout",
     "output_type": "stream",
     "text": [
      "[4 0 9 5 2 1 8 6 3 7]\n"
     ]
    }
   ],
   "source": [
    "print(np.random.permutation(10))"
   ]
  },
  {
   "cell_type": "markdown",
   "id": "35c5b604",
   "metadata": {},
   "source": [
    "# poisson\n",
    "- Draw samples from a Poisson distribution.\n",
    "- The Poisson distribution is the limit of the binomial distribution for large N."
   ]
  },
  {
   "cell_type": "code",
   "execution_count": 787,
   "id": "312da946",
   "metadata": {},
   "outputs": [
    {
     "name": "stdout",
     "output_type": "stream",
     "text": [
      "[ 5  0  5  5  4  3  4  6  6  4  5  5  3  4 11  5  6  4  3  4  3  5  6  6\n",
      "  5  9  7  8  6  7  9  4  7  3  7  6  7  5  7  6  6  4  5  4  6  3  4  9\n",
      "  8  0  5  6  8  4  4  3  4  6  6  5  4  6  7  1  4  3  3  5  7  5  7  7\n",
      "  3  7  2  6  4  5  8  4 10  7  6  6  7  2  6  3  0  3  4  4  6  2  5  4\n",
      "  5  6  0  3]\n"
     ]
    }
   ],
   "source": [
    "print(np.random.poisson(5, 100))"
   ]
  },
  {
   "cell_type": "markdown",
   "id": "d95f3136",
   "metadata": {},
   "source": [
    "# power\n",
    "- Draws samples in [0, 1] from a power distribution with positive exponent a - 1.\n",
    "- Also known as the power function distribution."
   ]
  },
  {
   "cell_type": "code",
   "execution_count": 788,
   "id": "8e98ba22",
   "metadata": {},
   "outputs": [
    {
     "name": "stdout",
     "output_type": "stream",
     "text": [
      "[0.8224 0.6805 0.9967 0.8995 0.906  0.7217 0.6567 0.8503 0.9924 0.941\n",
      " 0.8585 0.7563 0.8194 0.7142 0.8467 0.7563 0.7748 0.8203 0.8908 0.9928\n",
      " 0.9185 0.7951 0.7245 0.8912 0.9915 0.8821 0.936  0.9598 0.9635 0.9862\n",
      " 0.8914 0.7086 0.8363 0.7798 0.5638 0.9273 0.7868 0.9393 0.7305 0.8533\n",
      " 0.8285 0.8628 0.8114 0.9758 0.847  0.9752 0.9609 0.9048 0.9438 0.6232\n",
      " 0.9641 0.7265 0.8412 0.5505 0.9606 0.9615 0.8237 0.8896 0.9773 0.8756\n",
      " 0.9605 0.8684 0.6175 0.7796 0.9666 0.793  0.8816 0.8263 0.8833 0.9857\n",
      " 0.7569 0.7391 0.9499 0.8693 0.7245 0.9957 0.764  0.9697 0.9591 0.9506\n",
      " 0.8887 0.9886 0.8282 0.9504 0.8643 0.9988 0.9194 0.9387 0.8991 0.7073\n",
      " 0.9854 0.9713 0.7183 0.9677 0.9539 0.4745 0.9521 0.9908 0.8826 0.8863]\n"
     ]
    }
   ],
   "source": [
    "a = 5. # shape\n",
    "samples = 100\n",
    "s = np.random.power(a, samples)\n",
    "print(s)"
   ]
  },
  {
   "cell_type": "markdown",
   "id": "4fbae7b2",
   "metadata": {},
   "source": [
    "# rand\n",
    "- Random values in a given shape."
   ]
  },
  {
   "cell_type": "code",
   "execution_count": 789,
   "id": "0d0073f2",
   "metadata": {},
   "outputs": [
    {
     "name": "stdout",
     "output_type": "stream",
     "text": [
      "[[0.5993 0.1255]\n",
      " [0.2233 0.6948]\n",
      " [0.3969 0.2468]]\n"
     ]
    }
   ],
   "source": [
    "print(np.random.rand(3,2))"
   ]
  },
  {
   "cell_type": "markdown",
   "id": "c6ccddf6",
   "metadata": {},
   "source": [
    "# randint\n",
    "- Return random integers from low (inclusive) to high (exclusive).\n",
    "- Return random integers from the “discrete uniform” distribution of the specified dtype in the “half-open” interval [low, high). If high is None (the default), then results are from [0, low)."
   ]
  },
  {
   "cell_type": "code",
   "execution_count": 790,
   "id": "f98e10d0",
   "metadata": {},
   "outputs": [
    {
     "name": "stdout",
     "output_type": "stream",
     "text": [
      "[0 0 1 0 0 0 1 1 1 0]\n",
      "[0 0 0 0 0 0 0 0 0 0]\n",
      "[[0 4 4 1]\n",
      " [4 1 2 1]]\n"
     ]
    }
   ],
   "source": [
    "print(np.random.randint(2, size=10))\n",
    "print(np.random.randint(1, size=10))\n",
    "print(np.random.randint(5, size=(2, 4)))"
   ]
  },
  {
   "cell_type": "markdown",
   "id": "28fe3e6a",
   "metadata": {},
   "source": [
    "# randn\n",
    "- Return a sample (or samples) from the “standard normal” distribution."
   ]
  },
  {
   "cell_type": "code",
   "execution_count": 791,
   "id": "eb4c0ece",
   "metadata": {},
   "outputs": [
    {
     "name": "stdout",
     "output_type": "stream",
     "text": [
      "-1.1725316000317278\n",
      "[[-0.1963  0.0847 -0.0885  1.467 ]\n",
      " [-0.9286  0.0466 -1.4864  0.2992]]\n"
     ]
    }
   ],
   "source": [
    "print(np.random.randn())\n",
    "print(np.random.randn(2, 4))"
   ]
  },
  {
   "cell_type": "markdown",
   "id": "439dc312",
   "metadata": {},
   "source": [
    "# random\n",
    "- Return random floats in the half-open interval [0.0, 1.0). Alias for random_sample to ease forward-porting to the new random API."
   ]
  },
  {
   "cell_type": "code",
   "execution_count": 793,
   "id": "d4d43675",
   "metadata": {},
   "outputs": [
    {
     "name": "stdout",
     "output_type": "stream",
     "text": [
      "0.816283605249129\n"
     ]
    }
   ],
   "source": [
    "print(np.random.random()) # returns between 0.0 and 1.0"
   ]
  },
  {
   "cell_type": "markdown",
   "id": "d39ad163",
   "metadata": {},
   "source": [
    "# randoms_samples\n",
    "- Return random floats in the half-open interval [0.0, 1.0)."
   ]
  },
  {
   "cell_type": "code",
   "execution_count": 795,
   "id": "ab612691",
   "metadata": {},
   "outputs": [
    {
     "name": "stdout",
     "output_type": "stream",
     "text": [
      "0.516021512881807\n",
      "[0.4797 0.3744 0.613  0.8384 0.817 ]\n"
     ]
    }
   ],
   "source": [
    "print(np.random.random_sample())\n",
    "print(np.random.random_sample((5,)))"
   ]
  },
  {
   "cell_type": "markdown",
   "id": "6bc74f5d",
   "metadata": {},
   "source": [
    "# rayleigh\n",
    "- Draw samples from a Rayleigh distribution."
   ]
  },
  {
   "cell_type": "code",
   "execution_count": 796,
   "id": "02673d00",
   "metadata": {},
   "outputs": [
    {
     "name": "stdout",
     "output_type": "stream",
     "text": [
      "[6.6795 1.4856 0.622  3.1198 4.6594 3.3038 4.9451 5.7612 5.626  2.5495\n",
      " 2.5782 3.416  2.7844 3.6114 5.6073 4.7947 4.4492 2.8459 5.6093 4.2592\n",
      " 1.4442 1.9208 1.6657 0.6957 3.061  5.9508 3.9173 0.7715 2.7119 5.7272\n",
      " 4.4803 7.2768 3.9221 1.2182 2.4044 2.1493 3.6694 2.3116 6.4681 6.161\n",
      " 6.9865 5.1923 1.2808 4.7337 2.2116 4.047  3.8397 2.4958 1.6621 1.9899\n",
      " 4.9153 1.3625 0.4581 4.7617 5.2511 3.5001 4.1896 4.4746 3.457  9.8971\n",
      " 7.7328 1.8358 1.0103 1.0627 0.6337 4.3344 3.5214 4.5092 3.5129 2.6698\n",
      " 2.3802 2.029  4.7328 2.4502 1.1007 8.6126 1.845  2.2627 3.9764 4.4743\n",
      " 7.017  1.9902 2.9377 7.3155 1.2061 2.2138 4.0087 3.4548 4.5654 6.3102\n",
      " 1.4482 1.315  3.2567 1.7311 3.312  2.0965 2.4245 5.806  4.5162 1.5754]\n"
     ]
    }
   ],
   "source": [
    "print(np.random.rayleigh(3, 100))"
   ]
  },
  {
   "cell_type": "markdown",
   "id": "be3c04c9",
   "metadata": {},
   "source": [
    "# seed\n",
    "- Reseed the singleton RandomState instance."
   ]
  },
  {
   "cell_type": "code",
   "execution_count": 797,
   "id": "4b78715c",
   "metadata": {},
   "outputs": [
    {
     "name": "stdout",
     "output_type": "stream",
     "text": [
      "None\n"
     ]
    }
   ],
   "source": [
    "print(np.random.seed())"
   ]
  },
  {
   "cell_type": "markdown",
   "id": "e23d4fa6",
   "metadata": {},
   "source": [
    "# set_state\n",
    "- Set the internal state of the generator from a tuple.\n",
    "- For use if one has reason to manually (re-)set the internal state of the bit generator used by the RandomState instance. By default, RandomState uses the “Mersenne Twister”[1] pseudo-random number generating algorithm."
   ]
  },
  {
   "cell_type": "code",
   "execution_count": 799,
   "id": "367c8960",
   "metadata": {},
   "outputs": [
    {
     "name": "stdout",
     "output_type": "stream",
     "text": [
      "First sequence of random numbers:\n",
      "[0.6065 0.785  0.8767 0.2548 0.5114]\n",
      "[0.6065 0.785  0.8767 0.2548 0.5114]\n",
      "[0.3745 0.9507 0.732  0.5987 0.156 ]\n"
     ]
    }
   ],
   "source": [
    "initial_state = np.random.get_state()\n",
    "# 2. Generate some random numbers\n",
    "print(\"First sequence of random numbers:\")\n",
    "print(np.random.rand(5))\n",
    "# 3. Set the state back to the initial state\n",
    "np.random.set_state(initial_state)\n",
    "print(np.random.rand(5))\n",
    "\n",
    "rs = np.random.RandomState(42) # Initialize with a seed\n",
    "state_rs = rs.get_state()\n",
    "print(rs.rand(5))"
   ]
  },
  {
   "cell_type": "markdown",
   "id": "16f5aef5",
   "metadata": {},
   "source": [
    "# shuffle\n",
    "- Modify a sequence in-place by shuffling its contents.\n",
    "- This function only shuffles the array along the first axis of a multi-dimensional array. The order of sub-arrays is changed but their contents remains the same."
   ]
  },
  {
   "cell_type": "code",
   "execution_count": 800,
   "id": "8a590343",
   "metadata": {},
   "outputs": [
    {
     "name": "stdout",
     "output_type": "stream",
     "text": [
      "[2 5 0 4 3 9 1 6 7 8]\n"
     ]
    }
   ],
   "source": [
    "arr = np.arange(10)\n",
    "np.random.shuffle(arr)\n",
    "print(arr)"
   ]
  },
  {
   "cell_type": "markdown",
   "id": "06932c81",
   "metadata": {},
   "source": [
    "# standard_cauchy\n",
    "- Draw samples from a standard Cauchy distribution with mode = 0.\n",
    "- Also known as the Lorentz distribution."
   ]
  },
  {
   "cell_type": "code",
   "execution_count": 801,
   "id": "f03fbc24",
   "metadata": {},
   "outputs": [
    {
     "name": "stdout",
     "output_type": "stream",
     "text": [
      "[-1.1431e+00  9.8202e-01  5.8050e+00 -3.4855e-02  7.0711e-01 -1.1959e+00\n",
      " -2.4097e-01 -1.0881e+00  3.9205e+00 -8.5780e-01 -3.6956e-01 -3.3506e+01\n",
      "  6.2085e-01 -6.0397e+00  5.2204e+00 -5.3868e-01  7.1203e-01  8.0151e-01\n",
      "  2.9418e+00 -1.2166e+00 -4.1138e-01  3.2518e+00  1.9468e+00  1.2721e+00\n",
      "  1.3482e+01  3.7573e+00  1.7528e-01  5.6395e-01 -3.2507e+00 -2.4515e+00\n",
      "  3.3688e+00  3.6896e-01  3.2820e-01  9.1750e-01 -1.8181e+00 -3.3663e+00\n",
      "  8.6590e-02 -1.3338e+00 -1.8112e+00  1.1720e+00 -9.1160e-01  3.9267e+00\n",
      " -3.4655e-01  1.8608e+00  8.7491e-01 -1.8519e-01  5.9530e-01 -1.2609e+01\n",
      "  5.0254e-01  1.5937e+00  1.5144e+00 -2.4604e-01  2.2529e-02  9.2154e-02\n",
      " -2.2926e-03  2.0883e+00  1.6160e-01 -4.6781e-02  3.5729e-02  1.2629e+00\n",
      " -1.2997e+00  1.5404e+00 -4.1489e-03  3.4075e+00 -1.7563e-01 -9.7440e+00\n",
      " -3.4845e+00 -2.1673e+00  1.3080e+00  1.3725e+00 -8.1063e-01  2.5391e-01\n",
      " -3.0235e+00 -2.4396e+00 -2.3031e+00  4.3645e+00 -1.2725e+00  1.6247e-01\n",
      "  1.6163e+00  1.0122e+00 -6.6835e-01  1.9849e+00  1.6222e+01  5.0327e+00\n",
      " -6.4561e-01 -3.4880e+00 -1.3340e+01  6.9075e-01 -1.2287e+00  5.2768e+00\n",
      "  9.3524e-01 -1.0947e+00 -1.4035e+00  5.6930e-01  7.9434e-01 -1.2316e+00\n",
      "  1.3234e+00  1.7792e+00 -3.5232e+00 -8.0672e+00]\n"
     ]
    }
   ],
   "source": [
    "s = np.random.standard_cauchy(100)\n",
    "print(s)"
   ]
  },
  {
   "cell_type": "markdown",
   "id": "dc31d647",
   "metadata": {},
   "source": [
    "# standard_exponential\n",
    "- Draw samples from the standard exponential distribution."
   ]
  },
  {
   "cell_type": "code",
   "execution_count": 802,
   "id": "c7eb538c",
   "metadata": {},
   "outputs": [
    {
     "name": "stdout",
     "output_type": "stream",
     "text": [
      "[-1.1431e+00  9.8202e-01  5.8050e+00 -3.4855e-02  7.0711e-01 -1.1959e+00\n",
      " -2.4097e-01 -1.0881e+00  3.9205e+00 -8.5780e-01 -3.6956e-01 -3.3506e+01\n",
      "  6.2085e-01 -6.0397e+00  5.2204e+00 -5.3868e-01  7.1203e-01  8.0151e-01\n",
      "  2.9418e+00 -1.2166e+00 -4.1138e-01  3.2518e+00  1.9468e+00  1.2721e+00\n",
      "  1.3482e+01  3.7573e+00  1.7528e-01  5.6395e-01 -3.2507e+00 -2.4515e+00\n",
      "  3.3688e+00  3.6896e-01  3.2820e-01  9.1750e-01 -1.8181e+00 -3.3663e+00\n",
      "  8.6590e-02 -1.3338e+00 -1.8112e+00  1.1720e+00 -9.1160e-01  3.9267e+00\n",
      " -3.4655e-01  1.8608e+00  8.7491e-01 -1.8519e-01  5.9530e-01 -1.2609e+01\n",
      "  5.0254e-01  1.5937e+00  1.5144e+00 -2.4604e-01  2.2529e-02  9.2154e-02\n",
      " -2.2926e-03  2.0883e+00  1.6160e-01 -4.6781e-02  3.5729e-02  1.2629e+00\n",
      " -1.2997e+00  1.5404e+00 -4.1489e-03  3.4075e+00 -1.7563e-01 -9.7440e+00\n",
      " -3.4845e+00 -2.1673e+00  1.3080e+00  1.3725e+00 -8.1063e-01  2.5391e-01\n",
      " -3.0235e+00 -2.4396e+00 -2.3031e+00  4.3645e+00 -1.2725e+00  1.6247e-01\n",
      "  1.6163e+00  1.0122e+00 -6.6835e-01  1.9849e+00  1.6222e+01  5.0327e+00\n",
      " -6.4561e-01 -3.4880e+00 -1.3340e+01  6.9075e-01 -1.2287e+00  5.2768e+00\n",
      "  9.3524e-01 -1.0947e+00 -1.4035e+00  5.6930e-01  7.9434e-01 -1.2316e+00\n",
      "  1.3234e+00  1.7792e+00 -3.5232e+00 -8.0672e+00]\n"
     ]
    }
   ],
   "source": [
    "n = np.random.standard_exponential((3, 80))\n",
    "print(s)"
   ]
  },
  {
   "cell_type": "markdown",
   "id": "a339798a",
   "metadata": {},
   "source": [
    "# standard_gamma\n",
    "- Draw samples from a standard Gamma distribution.\n",
    "- Samples are drawn from a Gamma distribution with specified parameters, shape (sometimes designated “k”) and scale=1."
   ]
  },
  {
   "cell_type": "code",
   "execution_count": 803,
   "id": "92718c55",
   "metadata": {},
   "outputs": [
    {
     "name": "stdout",
     "output_type": "stream",
     "text": [
      "[1.1281 2.0922 0.9614 1.2187 1.0143 0.7569 2.6347 2.0007 0.7073 3.6663\n",
      " 1.5496 7.1229 0.7832 0.522  1.7971 3.954  2.1493 1.2779 1.1576 0.4897\n",
      " 0.849  2.5004 0.4615 0.6349 3.1394 0.9632 4.7776 1.2261 1.6087 5.6885\n",
      " 7.3921 1.9879 2.1995 0.7449 0.2458 5.5042 3.1071 1.7281 4.4832 1.1033\n",
      " 2.3381 0.2382 0.3705 0.7077 3.085  2.3076 4.2462 1.3081 1.5528 1.4549\n",
      " 0.1538 0.4119 4.1946 1.0289 0.5534 0.9041 1.1842 0.9941 1.5266 3.3954\n",
      " 3.7164 1.488  0.6573 1.4026 1.0017 1.2905 4.4875 2.516  0.86   1.2528\n",
      " 3.7438 1.6954 1.0107 0.7435 2.1176 2.882  2.7326 2.1828 5.4652 2.6293\n",
      " 1.932  1.8439 1.6231 0.1624 1.6881 0.6962 1.9174 0.6808 6.1317 2.5514\n",
      " 1.8274 1.1904 0.1594 0.1223 7.8376 1.4029 2.583  3.3856 0.9291 1.3174]\n"
     ]
    }
   ],
   "source": [
    "shape, scale = 2., 1. # mean and width\n",
    "s = np.random.standard_gamma(shape, 100)\n",
    "print(s)"
   ]
  },
  {
   "cell_type": "markdown",
   "id": "e62a2a49",
   "metadata": {},
   "source": [
    "# standard_normal\n",
    "- Draw samples from a standard Normal distribution (mean=0, stdev=1)."
   ]
  },
  {
   "cell_type": "code",
   "execution_count": 804,
   "id": "9d8ffff2",
   "metadata": {},
   "outputs": [
    {
     "name": "stdout",
     "output_type": "stream",
     "text": [
      "2.039799081139912\n"
     ]
    }
   ],
   "source": [
    "print(np.random.standard_normal())"
   ]
  },
  {
   "cell_type": "markdown",
   "id": "f645eca0",
   "metadata": {},
   "source": [
    "# standard_t\n",
    "- Draw samples from a standard Student’s t distribution with df degrees of freedom.\n",
    "- A special case of the hyperbolic distribution. As df gets large, the result resembles that of the standard normal distribution (standard_normal)."
   ]
  },
  {
   "cell_type": "code",
   "execution_count": 806,
   "id": "d20e1437",
   "metadata": {},
   "outputs": [
    {
     "name": "stdout",
     "output_type": "stream",
     "text": [
      "[-3.1156e+00  3.8569e-01 -1.6030e+00 -6.0869e-01  5.3160e-01 -7.9838e-01\n",
      "  1.7126e+00  5.2524e-01  6.1595e-01 -4.7540e-01 -1.8828e+00 -7.3203e-01\n",
      "  1.3148e+00 -1.1713e+00 -6.6369e-01 -7.6251e-02  1.4794e+00  1.3161e+00\n",
      "  1.3708e-01  1.2180e-01 -2.5899e-01  5.0480e-01  1.8805e+00  1.1038e-01\n",
      "  2.3669e+00 -3.5513e-01 -7.2242e-01  7.9950e-01  2.8556e-01  5.0894e-01\n",
      " -7.0015e-02  4.2343e-01 -1.1681e+00  2.5320e-01  1.2800e-01  5.2665e-01\n",
      "  3.6573e-01 -2.5144e-01 -1.9282e-04  9.0574e-01 -5.0077e-01 -3.9731e-01\n",
      " -1.5702e+00 -5.0412e-01  1.4069e+00 -1.7821e-01  1.2837e+00 -5.0249e-01\n",
      " -1.2300e+00  1.9718e-01 -1.2905e+00  1.3933e-01 -1.1941e+00  2.3581e+00\n",
      "  1.2436e+00  1.6010e+00  2.5664e-01 -6.8784e-01 -1.3441e-01 -7.7152e-01\n",
      " -1.1009e-01 -3.6489e-01 -6.0337e-01  9.9809e-01 -2.7861e+00 -4.3400e-01\n",
      "  1.2638e+00 -6.3720e-01 -9.0379e-01 -1.1999e+00 -7.2759e-01 -5.3177e-01\n",
      " -1.2160e+00 -1.7149e+00 -1.7079e+00 -5.8963e-01 -9.1026e-01  9.9301e-01\n",
      "  2.7242e-01 -1.6249e+00 -2.6486e-02  1.0323e+00 -1.5920e-01 -1.3672e+00\n",
      " -1.1681e+00 -2.7693e-02  4.6694e-01  1.9474e+00  8.8977e-01  9.6735e-02\n",
      "  4.7722e+00 -9.2938e-01 -5.2746e-01  1.6371e+00 -4.1041e-02 -1.2559e-01\n",
      " -6.4381e-01 -5.2887e-01 -5.3673e-01 -6.7262e-01]\n"
     ]
    }
   ],
   "source": [
    "s = np.random.standard_t(10, size=100)\n",
    "print(s)"
   ]
  },
  {
   "cell_type": "markdown",
   "id": "d8dc0a0b",
   "metadata": {},
   "source": [
    "# triangular\n",
    "- Draw samples from the triangular distribution over the interval [left, right].\n",
    "- The triangular distribution is a continuous probability distribution with lower limit left, peak at mode, and upper limit right. Unlike the other distributions, these parameters directly define the shape of the pdf."
   ]
  },
  {
   "cell_type": "code",
   "execution_count": 808,
   "id": "c917a030",
   "metadata": {},
   "outputs": [
    {
     "name": "stdout",
     "output_type": "stream",
     "text": [
      "[ 0.8     0.4396  1.5251  3.6828  2.225  -1.6109  4.1946  3.2143  1.0788\n",
      "  2.0049  1.3333  0.5437 -0.5634  0.1011 -1.6832  0.5811  4.152  -0.3003\n",
      "  6.3611  2.8284  4.4162 -0.4637  2.9894 -0.7259  3.4988 -0.5763  0.6325\n",
      "  1.5305 -1.4264  2.9935  6.5838  4.127   3.3917  0.1816  2.6537  3.3859\n",
      " -1.56    0.6068  3.699   0.4194  1.6527 -0.0988  3.9335  6.279  -1.4165\n",
      "  4.3323  2.4597 -0.6143 -1.9253 -1.5012  5.6835  1.8634  1.5796  3.0306\n",
      " -0.7734 -0.3089  3.7937  0.4772  3.0014  2.2298 -2.3863  2.9223 -1.671\n",
      "  2.6509  5.4097 -1.4455  0.0633  2.7653  1.6987  0.1455 -1.2439 -0.9796\n",
      "  2.8838  2.1398  1.7042  6.9823  6.8162 -1.0356 -0.2444  2.6577  0.9932\n",
      "  2.3793 -0.6609 -1.9767  2.0444  1.5263 -0.4849  0.1737  1.6752  1.7083\n",
      "  3.7186  7.5117  0.0854  1.2341  1.4136  0.0967  5.0115  4.0966  2.7051\n",
      "  2.7924]\n"
     ]
    }
   ],
   "source": [
    "h = np.random.triangular(-3, 0, 8, 100)\n",
    "print(h)\n"
   ]
  },
  {
   "cell_type": "markdown",
   "id": "e0001aab",
   "metadata": {},
   "source": [
    "# uniform\n",
    "- Draw samples from a uniform distribution.\n",
    "- Samples are uniformly distributed over the half-open interval [low, high) (includes low, but excludes high). In other words, any value within the given interval is equally likely to be drawn by uniform."
   ]
  },
  {
   "cell_type": "code",
   "execution_count": 809,
   "id": "a73d8f44",
   "metadata": {},
   "outputs": [
    {
     "name": "stdout",
     "output_type": "stream",
     "text": [
      "[-0.1223 -0.5294 -0.3283 -0.9401 -0.8055 -0.2323 -0.4624 -0.5845 -0.8547\n",
      " -0.683  -0.7813 -0.6296 -0.6019 -0.8555 -0.6201 -0.6731 -0.1685 -0.5508\n",
      " -0.0174 -0.498  -0.1141 -0.9548 -0.1629 -0.2896 -0.3928 -0.0238 -0.1813\n",
      " -0.8241 -0.25   -0.3373 -0.4687 -0.5038 -0.3543 -0.0268 -0.5061 -0.1784\n",
      " -0.221  -0.8102 -0.3707 -0.6158 -0.8788 -0.6926 -0.046  -0.5093 -0.8771\n",
      " -0.1326 -0.8282 -0.066  -0.1039 -0.3644 -0.146  -0.6776 -0.6704 -0.0316\n",
      " -0.9716 -0.9438 -0.9374 -0.5673 -0.1081 -0.6673 -0.3767 -0.2294 -0.7527\n",
      " -0.6239 -0.4281 -0.677  -0.1917 -0.722  -0.1359 -0.9574 -0.6203 -0.913\n",
      " -0.3529 -0.4876 -0.0178 -0.1948 -0.5586 -0.6101 -0.0464 -0.1992 -0.6542\n",
      " -0.4807 -0.1999 -0.7538 -0.7004 -0.3777 -0.8829 -0.2593 -0.4207 -0.2419\n",
      " -0.1294 -0.8893 -0.094  -0.4822 -0.4508 -0.2849 -0.5305 -0.3118 -0.5435\n",
      " -0.7859]\n"
     ]
    }
   ],
   "source": [
    "s = np.random.uniform(-1,0,100)\n",
    "print(s)"
   ]
  },
  {
   "cell_type": "markdown",
   "id": "d2bd4c53",
   "metadata": {},
   "source": [
    "# vonmises\n",
    "- Draw samples from a von Mises distribution.\n",
    "- Samples are drawn from a von Mises distribution with specified mode (mu) and concentration (kappa), on the interval [-pi, pi].\n",
    "- The von Mises distribution (also known as the circular normal distribution) is a continuous probability distribution on the unit circle. It may be thought of as the circular analogue of the normal distribution."
   ]
  },
  {
   "cell_type": "code",
   "execution_count": 777,
   "id": "219138b5",
   "metadata": {},
   "outputs": [
    {
     "name": "stdout",
     "output_type": "stream",
     "text": [
      "[ 0.5611 -0.4692  0.5418  0.7491  1.3987  1.0424 -0.3443 -0.2226  0.1345\n",
      "  0.6646 -0.1716 -0.2441 -0.2771  0.4555 -0.1796  0.3499 -0.231   0.1267\n",
      "  0.2859 -0.0279 -0.3027  0.7188 -0.0491  0.6203  0.6926 -0.1819  0.2195\n",
      "  0.4921 -0.6818  0.1045 -0.6131  0.0634  0.32    0.1072  0.5754 -0.1891\n",
      "  0.288  -0.7263 -0.5541  0.0121  0.2484 -0.7563  0.6945 -0.9564 -0.3315\n",
      "  0.1714 -0.5393 -0.6728 -0.0832 -0.1814 -0.5988  0.0675  0.9286  0.2003\n",
      " -0.4921 -0.668   0.8324 -1.5877  0.4739 -0.2577  0.1068 -0.9059  0.3425\n",
      "  0.3339  0.6298  0.1228  0.1143  0.4393  0.6018 -0.8702  0.5677 -0.0957\n",
      " -1.1046 -0.0834 -0.7229 -0.6125 -0.1545 -0.2728 -0.5025 -0.2862 -0.0301\n",
      " -0.3071 -0.3451 -0.8327  0.283  -1.2828  0.3878  0.2922 -0.0788 -0.436\n",
      " -0.4593 -0.5664 -0.151  -0.5631  0.724   0.228  -0.8749  0.5344  0.1924\n",
      "  0.7866]\n"
     ]
    }
   ],
   "source": [
    "mu, kappa = 0.0, 4.0 # mean and concentration\n",
    "s = np.random.vonmises(mu, kappa, 100)\n",
    "print(s)"
   ]
  },
  {
   "cell_type": "markdown",
   "id": "1a5ac4a6",
   "metadata": {},
   "source": [
    "# wald\n",
    "- Draw samples from a Wald, or inverse Gaussian, distribution.\n",
    "- As the scale approaches infinity, the distribution becomes more like a Gaussian. Some references claim that the Wald is an inverse Gaussian with mean equal to 1, but this is by no means universal.\n",
    "- The inverse Gaussian distribution was first studied in relationship to Brownian motion. In 1956 M.C.K. Tweedie used the name inverse Gaussian because there is an inverse relationship between the time to cover a unit distance and distance covered in unit time."
   ]
  },
  {
   "cell_type": "code",
   "execution_count": 776,
   "id": "7565d737",
   "metadata": {},
   "outputs": [
    {
     "name": "stdout",
     "output_type": "stream",
     "text": [
      "[ 0.4333  0.6167  4.4119  3.1656  0.8494  5.2219  0.3124  1.1453  2.8477\n",
      " 13.7385  0.4646  1.8997  2.3909  6.853   0.5265  1.5274  4.4502  1.9504\n",
      "  0.6557  1.6831  2.2951  1.1656  1.2595  1.0924  2.1593  1.7422  1.7217\n",
      "  3.0055  0.7256  8.5619  2.8384  5.3532  2.5895  6.0885  0.5355  0.8225\n",
      "  0.5132  2.6152  1.2057  0.8563  3.4805  1.4686  3.7232  0.731   0.6141\n",
      "  4.0203  3.3863  1.0167  1.86    2.9337  1.269   0.4255  0.7685 23.6094\n",
      "  0.7649 13.3765  0.2412  0.6708  2.4416  1.0371  7.1536  0.2713  1.1172\n",
      "  0.3715  1.8672  3.1025  1.6757  0.8208  2.6099  1.7847  2.0626  0.9678\n",
      "  1.2784 16.9579  4.449   2.6613  1.5007  2.0532  0.4162  0.6934  1.1189\n",
      "  1.8034  0.6138  5.0312  0.9188  1.034   2.5827  3.802   0.4881  0.6401\n",
      "  3.1695  1.1811  1.3045 22.4396  1.3526  0.9733  1.0997  1.0685  1.0196\n",
      "  0.3582]\n"
     ]
    }
   ],
   "source": [
    "print(np.random.wald(3, 2, 100))"
   ]
  },
  {
   "cell_type": "markdown",
   "id": "59775a4f",
   "metadata": {},
   "source": [
    "# weibull\n",
    "- Draw samples from a Weibull distribution."
   ]
  },
  {
   "cell_type": "code",
   "execution_count": 775,
   "id": "e4a0cff8",
   "metadata": {},
   "outputs": [
    {
     "name": "stdout",
     "output_type": "stream",
     "text": [
      "[0.7431 0.863  0.7956 0.9346 0.7809 0.8479 0.4839 1.3119 1.0809 1.1736\n",
      " 1.0808 1.0062 1.2675 1.1342 0.9301 1.0666 1.1911 0.7796 0.5491 0.6555\n",
      " 0.7394 0.9908 1.0366 0.468  1.2614 1.0739 1.0615 1.0626 0.9208 1.3575\n",
      " 0.5666 1.1247 0.661  1.0073 1.1557 1.0148 0.6428 0.9841 1.0269 0.7547\n",
      " 1.0302 1.0203 0.695  0.7636 1.1049 1.1789 1.0064 0.5431 1.0795 0.7088\n",
      " 1.2223 0.7984 0.4705 0.5166 0.436  0.8476 1.0741 1.2008 0.6831 0.9261\n",
      " 1.0311 1.2116 0.9701 0.8907 0.6098 0.755  0.8114 1.3936 0.599  0.8779\n",
      " 0.3    0.9725 1.2128 0.9422 0.8248 0.9765 0.8635 0.6781 1.0192 0.4232\n",
      " 0.9781 0.8874 0.6886 1.1396 1.0221 1.1537 1.1067 1.0226 0.6552 0.7201\n",
      " 1.0193 1.3786 1.2584 0.7868 1.1416 1.1474 1.1706 0.5036 0.9042 0.9119]\n"
     ]
    }
   ],
   "source": [
    "a = 5. # shape\n",
    "s = np.random.weibull(a, 100)\n",
    "print(s)"
   ]
  },
  {
   "cell_type": "markdown",
   "id": "511777af",
   "metadata": {},
   "source": [
    "# zipf\n",
    "- Draw samples from a Zipf distribution.\n",
    "- Samples are drawn from a Zipf distribution with specified parameter a > 1.\n",
    "- The Zipf distribution (also known as the zeta distribution) is a discrete probability distribution that satisfies Zipf’s law: the frequency of an item is inversely proportional to its rank in a frequency table."
   ]
  },
  {
   "cell_type": "code",
   "execution_count": 773,
   "id": "974d3087",
   "metadata": {},
   "outputs": [
    {
     "name": "stdout",
     "output_type": "stream",
     "text": [
      "[1 1 3 ... 1 1 1]\n"
     ]
    }
   ],
   "source": [
    "a = 4.0\n",
    "n = 20000\n",
    "s = np.random.zipf(a, n)\n",
    "print(s)"
   ]
  }
 ],
 "metadata": {
  "kernelspec": {
   "display_name": "Python 3",
   "language": "python",
   "name": "python3"
  },
  "language_info": {
   "codemirror_mode": {
    "name": "ipython",
    "version": 3
   },
   "file_extension": ".py",
   "mimetype": "text/x-python",
   "name": "python",
   "nbconvert_exporter": "python",
   "pygments_lexer": "ipython3",
   "version": "3.13.5"
  }
 },
 "nbformat": 4,
 "nbformat_minor": 5
}
