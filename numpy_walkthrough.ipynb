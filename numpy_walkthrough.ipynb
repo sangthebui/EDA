{
 "cells": [
  {
   "cell_type": "markdown",
   "id": "38a49848",
   "metadata": {},
   "source": [
    "# Numpy Walkthrough"
   ]
  },
  {
   "cell_type": "code",
   "execution_count": 1,
   "id": "5bcd8b2b",
   "metadata": {},
   "outputs": [],
   "source": [
    "import numpy as np"
   ]
  },
  {
   "cell_type": "code",
   "execution_count": 363,
   "id": "4c89790c",
   "metadata": {},
   "outputs": [
    {
     "data": {
      "text/plain": [
       "'2.1.2'"
      ]
     },
     "execution_count": 363,
     "metadata": {},
     "output_type": "execute_result"
    }
   ],
   "source": [
    "np.__version__"
   ]
  },
  {
   "cell_type": "markdown",
   "id": "56b3cd24",
   "metadata": {},
   "source": [
    "# abs\n",
    "- Calculate the absolute value element-wise."
   ]
  },
  {
   "cell_type": "code",
   "execution_count": 14,
   "id": "35c8dfc8",
   "metadata": {},
   "outputs": [
    {
     "data": {
      "text/plain": [
       "array([1.2, 1.2])"
      ]
     },
     "execution_count": 14,
     "metadata": {},
     "output_type": "execute_result"
    }
   ],
   "source": [
    "x = np.array([-1.2, 1.2]) \n",
    "np.abs(x)"
   ]
  },
  {
   "cell_type": "markdown",
   "id": "9834868e",
   "metadata": {},
   "source": [
    "# absolute\n",
    "-  calculates the absolute value of each element in an array-like input. The absolute value of a number is its non-negative magnitude, or its distance from zero."
   ]
  },
  {
   "cell_type": "code",
   "execution_count": 15,
   "id": "689afe0a",
   "metadata": {},
   "outputs": [
    {
     "data": {
      "text/plain": [
       "array([1.2, 1.2])"
      ]
     },
     "execution_count": 15,
     "metadata": {},
     "output_type": "execute_result"
    }
   ],
   "source": [
    "x = np.array([-1.2, 1.2]) \n",
    "np.absolute(x)"
   ]
  },
  {
   "cell_type": "markdown",
   "id": "a1316ecd",
   "metadata": {},
   "source": [
    "# acos\n",
    "- Trigonometric inverse cosine, element-wise."
   ]
  },
  {
   "cell_type": "code",
   "execution_count": 16,
   "id": "eaf0e577",
   "metadata": {},
   "outputs": [
    {
     "data": {
      "text/plain": [
       "array([0.        , 3.14159265])"
      ]
     },
     "execution_count": 16,
     "metadata": {},
     "output_type": "execute_result"
    }
   ],
   "source": [
    "np.arccos([1, -1])"
   ]
  },
  {
   "cell_type": "markdown",
   "id": "053ffd94",
   "metadata": {},
   "source": [
    "# add\n",
    "- Add arguments element-wise."
   ]
  },
  {
   "cell_type": "code",
   "execution_count": 26,
   "id": "3b19fe48",
   "metadata": {},
   "outputs": [
    {
     "name": "stdout",
     "output_type": "stream",
     "text": [
      "scalar add: 5.0\n",
      "(3, 3) + (1, 3)\n",
      ": [[ 0  2  4]\n",
      " [ 3  5  7]\n",
      " [ 6  8 10]]\n",
      "(3, 3) + (1, 3)\n",
      ": [[ 0  1  2]\n",
      " [ 4  5  6]\n",
      " [ 8  9 10]]\n"
     ]
    }
   ],
   "source": [
    "# add scalar\n",
    "print(f\"scalar add: {np.add(1.0, 4.0)}\")\n",
    "# doesn't have to match shape, just at least 1 dim\n",
    "x1 = np.arange(9).reshape((3, 3))\n",
    "x2 = np.arange(3).reshape((1, 3))\n",
    "print(f\"(3, 3) + (1, 3)\\n: {np.add(x1, x2)}\")\n",
    "\n",
    "x3 = np.arange(3).reshape((3, 1))\n",
    "print(f\"(3, 3) + (1, 3)\\n: {np.add(x1, x3)}\")\n"
   ]
  },
  {
   "cell_type": "markdown",
   "id": "8495fbc7",
   "metadata": {},
   "source": [
    "# all\n",
    "- Test whether all array elements along a given axis evaluate to True."
   ]
  },
  {
   "cell_type": "code",
   "execution_count": 27,
   "id": "19954a25",
   "metadata": {},
   "outputs": [
    {
     "data": {
      "text/plain": [
       "np.False_"
      ]
     },
     "execution_count": 27,
     "metadata": {},
     "output_type": "execute_result"
    }
   ],
   "source": [
    "np.all([[True,False],[True,True]])"
   ]
  },
  {
   "cell_type": "markdown",
   "id": "980a6669",
   "metadata": {},
   "source": [
    "# allclose\n",
    "- determine if two arrays are element-wise equal within a specified tolerance => The default is 1e-5."
   ]
  },
  {
   "cell_type": "code",
   "execution_count": 28,
   "id": "900fba2b",
   "metadata": {},
   "outputs": [
    {
     "data": {
      "text/plain": [
       "True"
      ]
     },
     "execution_count": 28,
     "metadata": {},
     "output_type": "execute_result"
    }
   ],
   "source": [
    "a = np.array([1.0, 2.00000001, 3.0])\n",
    "b = np.array([1.0, 2.0, 3.0])\n",
    "np.allclose(a, b)"
   ]
  },
  {
   "cell_type": "markdown",
   "id": "64162c8e",
   "metadata": {},
   "source": [
    "# amax\n",
    "- Return the maximum of an array or maximum along an axis."
   ]
  },
  {
   "cell_type": "code",
   "execution_count": 29,
   "id": "24b318c2",
   "metadata": {},
   "outputs": [
    {
     "data": {
      "text/plain": [
       "np.int64(6)"
      ]
     },
     "execution_count": 29,
     "metadata": {},
     "output_type": "execute_result"
    }
   ],
   "source": [
    "np.amax(np.array([[1, 2, 3],\n",
    "                [4, 5, 6]]))"
   ]
  },
  {
   "cell_type": "markdown",
   "id": "505cb062",
   "metadata": {},
   "source": [
    "# amin\n",
    "- Return the maximum of an array or maximum along an axis."
   ]
  },
  {
   "cell_type": "code",
   "execution_count": 30,
   "id": "b3b760ee",
   "metadata": {},
   "outputs": [
    {
     "data": {
      "text/plain": [
       "np.int64(1)"
      ]
     },
     "execution_count": 30,
     "metadata": {},
     "output_type": "execute_result"
    }
   ],
   "source": [
    "np.min(np.array([[1, 2, 3],\n",
    "                [4, 5, 6]]))"
   ]
  },
  {
   "cell_type": "markdown",
   "id": "27a5333b",
   "metadata": {},
   "source": [
    "# angle\n",
    "- Return the angle of the complex argument.\n",
    "- complex numbers are a more natural and mathematically elegant way to represent 2D vectors and rotations.\n"
   ]
  },
  {
   "cell_type": "code",
   "execution_count": 9,
   "id": "bc57b4c1",
   "metadata": {},
   "outputs": [
    {
     "name": "stdout",
     "output_type": "stream",
     "text": [
      "45.0\n",
      "0.6435011087932844\n"
     ]
    }
   ],
   "source": [
    "print(np.angle(1+1j, deg=True))   # 45 deg\n",
    "print(np.angle( 4 + 3j)) # radians\n"
   ]
  },
  {
   "cell_type": "markdown",
   "id": "4d60c22f",
   "metadata": {},
   "source": [
    "# any\n",
    "- test whether any elements is true"
   ]
  },
  {
   "cell_type": "code",
   "execution_count": 10,
   "id": "fbb6eb7a",
   "metadata": {},
   "outputs": [
    {
     "data": {
      "text/plain": [
       "np.True_"
      ]
     },
     "execution_count": 10,
     "metadata": {},
     "output_type": "execute_result"
    }
   ],
   "source": [
    "np.any([[True, False], [True, True]])"
   ]
  },
  {
   "cell_type": "markdown",
   "id": "3f441a4d",
   "metadata": {},
   "source": [
    "# append\n",
    "- add a value at the end of an array"
   ]
  },
  {
   "cell_type": "code",
   "execution_count": 11,
   "id": "be6ac66f",
   "metadata": {},
   "outputs": [
    {
     "data": {
      "text/plain": [
       "array([1, 2, 3, 4, 5, 6, 7, 8, 9])"
      ]
     },
     "execution_count": 11,
     "metadata": {},
     "output_type": "execute_result"
    }
   ],
   "source": [
    "np.append([1, 2, 3], [[4, 5, 6], [7, 8, 9]])"
   ]
  },
  {
   "cell_type": "markdown",
   "id": "afcab00a",
   "metadata": {},
   "source": [
    "# apply_along_axis\n",
    "- Apply a function to 1-D slices along the given axis."
   ]
  },
  {
   "cell_type": "code",
   "execution_count": 12,
   "id": "d2f0fb8b",
   "metadata": {},
   "outputs": [
    {
     "name": "stdout",
     "output_type": "stream",
     "text": [
      "[ 8 10 12]\n",
      "[ 4 10 16]\n"
     ]
    }
   ],
   "source": [
    "def my_func(a):\n",
    "    \"\"\"add first and last element of a 1-D array\"\"\"\n",
    "    return (a[0] + a[-1])\n",
    "b = np.array([[1,2,3], [4,5,6], [7,8,9]])\n",
    "print(np.apply_along_axis(my_func, 0, b))\n",
    "print(np.apply_along_axis(my_func, 1, b))"
   ]
  },
  {
   "cell_type": "markdown",
   "id": "44db3876",
   "metadata": {},
   "source": [
    "# apply_over_axes\n",
    "- Apply a function repeatedly over multiple axes.(axes - multiple of axis)"
   ]
  },
  {
   "cell_type": "code",
   "execution_count": 24,
   "id": "ce7000be",
   "metadata": {},
   "outputs": [
    {
     "name": "stdout",
     "output_type": "stream",
     "text": [
      "[[[ 0  1]\n",
      "  [ 2  3]\n",
      "  [ 4  5]]\n",
      "\n",
      " [[ 6  7]\n",
      "  [ 8  9]\n",
      "  [10 11]]]\n",
      "[[[30 36]]]\n"
     ]
    }
   ],
   "source": [
    "a = np.arange(12).reshape(2, 3, 2)\n",
    "print(a)\n",
    "print(np.apply_over_axes(np.sum, a, [0, 1]))\n"
   ]
  },
  {
   "cell_type": "markdown",
   "id": "59da77ac",
   "metadata": {},
   "source": [
    "# arange\n",
    "- Return evenly spaced values within a given interval."
   ]
  },
  {
   "cell_type": "code",
   "execution_count": 27,
   "id": "0bf46a44",
   "metadata": {},
   "outputs": [
    {
     "data": {
      "text/plain": [
       "array([  10,  110,  210,  310,  410,  510,  610,  710,  810,  910, 1010,\n",
       "       1110, 1210, 1310, 1410, 1510, 1610, 1710, 1810, 1910, 2010, 2110,\n",
       "       2210, 2310, 2410, 2510, 2610, 2710, 2810, 2910, 3010, 3110, 3210,\n",
       "       3310, 3410, 3510, 3610, 3710, 3810, 3910, 4010, 4110, 4210, 4310,\n",
       "       4410, 4510, 4610, 4710, 4810, 4910, 5010, 5110, 5210, 5310, 5410,\n",
       "       5510, 5610, 5710, 5810, 5910, 6010, 6110, 6210, 6310, 6410, 6510,\n",
       "       6610, 6710, 6810, 6910, 7010, 7110, 7210, 7310, 7410, 7510, 7610,\n",
       "       7710, 7810, 7910, 8010, 8110, 8210, 8310, 8410, 8510, 8610, 8710,\n",
       "       8810, 8910, 9010, 9110, 9210, 9310, 9410, 9510, 9610, 9710, 9810,\n",
       "       9910])"
      ]
     },
     "execution_count": 27,
     "metadata": {},
     "output_type": "execute_result"
    }
   ],
   "source": [
    "np.arange(10, 10000, 100)"
   ]
  },
  {
   "cell_type": "markdown",
   "id": "e18dd7e1",
   "metadata": {},
   "source": [
    "# arccos\n",
    "- Trigonometric inverse cosine, element-wise."
   ]
  },
  {
   "cell_type": "code",
   "execution_count": 28,
   "id": "e3492a9a",
   "metadata": {},
   "outputs": [
    {
     "data": {
      "text/plain": [
       "array([0.        , 3.14159265])"
      ]
     },
     "execution_count": 28,
     "metadata": {},
     "output_type": "execute_result"
    }
   ],
   "source": [
    "np.arccos([1, -1])"
   ]
  },
  {
   "cell_type": "markdown",
   "id": "1e68f379",
   "metadata": {},
   "source": [
    "# arccosh\n",
    "- Inverse hyperbolic cosine, element-wise."
   ]
  },
  {
   "cell_type": "code",
   "execution_count": 29,
   "id": "d329f862",
   "metadata": {},
   "outputs": [
    {
     "data": {
      "text/plain": [
       "array([1.65745445, 2.99322285])"
      ]
     },
     "execution_count": 29,
     "metadata": {},
     "output_type": "execute_result"
    }
   ],
   "source": [
    "np.arccosh([np.e, 10.0])"
   ]
  },
  {
   "cell_type": "markdown",
   "id": "139cfa97",
   "metadata": {},
   "source": [
    "# arcsin\n",
    "- inverse sine function"
   ]
  },
  {
   "cell_type": "code",
   "execution_count": 30,
   "id": "5c7ae86b",
   "metadata": {},
   "outputs": [
    {
     "data": {
      "text/plain": [
       "np.float64(-1.5707963267948966)"
      ]
     },
     "execution_count": 30,
     "metadata": {},
     "output_type": "execute_result"
    }
   ],
   "source": [
    "np.arcsin(-1)    # -pi/2"
   ]
  },
  {
   "cell_type": "markdown",
   "id": "f8dc5b04",
   "metadata": {},
   "source": [
    "# arcsinh\n",
    "- inverse hyperpolic sine function\n",
    "- The convention is to return the z whose imaginary part lies in [-pi/2, pi/2]."
   ]
  },
  {
   "cell_type": "code",
   "execution_count": 32,
   "id": "6a2e22b3",
   "metadata": {},
   "outputs": [
    {
     "data": {
      "text/plain": [
       "array([1.72538256, 2.99822295])"
      ]
     },
     "execution_count": 32,
     "metadata": {},
     "output_type": "execute_result"
    }
   ],
   "source": [
    "np.arcsinh(np.array([np.e, 10.0]))"
   ]
  },
  {
   "cell_type": "markdown",
   "id": "7787fa93",
   "metadata": {},
   "source": [
    "# arctan\n",
    "- inverse tangent function"
   ]
  },
  {
   "cell_type": "code",
   "execution_count": 33,
   "id": "206daa3d",
   "metadata": {},
   "outputs": [
    {
     "data": {
      "text/plain": [
       "array([0.        , 0.78539816])"
      ]
     },
     "execution_count": 33,
     "metadata": {},
     "output_type": "execute_result"
    }
   ],
   "source": [
    "np.arctan([0, 1])"
   ]
  },
  {
   "cell_type": "markdown",
   "id": "fc5bc4c1",
   "metadata": {},
   "source": [
    "# arctan2\n",
    "- Takes two arguments, y and x, representing the y-coordinate and x-coordinate of a point in the Cartesian plane.\n",
    "- Returns the angle between the positive x-axis and the line connecting the origin to the point \\((x,y)\\), in radians. "
   ]
  },
  {
   "cell_type": "code",
   "execution_count": 35,
   "id": "28627d0c",
   "metadata": {},
   "outputs": [
    {
     "data": {
      "text/plain": [
       "array([ 0.        , -0.78539816,  3.14159265,  1.57079633])"
      ]
     },
     "execution_count": 35,
     "metadata": {},
     "output_type": "execute_result"
    }
   ],
   "source": [
    "np.arctan2([0, -1, 0, 1], [1, 1, -1, 0] )"
   ]
  },
  {
   "cell_type": "markdown",
   "id": "0628bdb4",
   "metadata": {},
   "source": [
    "# arctanh\n",
    "- inverse hyperpolic tangent function"
   ]
  },
  {
   "cell_type": "code",
   "execution_count": 37,
   "id": "5b5367e1",
   "metadata": {},
   "outputs": [
    {
     "data": {
      "text/plain": [
       "array([ 0.        , -0.97295507])"
      ]
     },
     "execution_count": 37,
     "metadata": {},
     "output_type": "execute_result"
    }
   ],
   "source": [
    "np.arctanh([0, -.75])"
   ]
  },
  {
   "cell_type": "markdown",
   "id": "4e7cb145",
   "metadata": {},
   "source": [
    "# argmax\n",
    "- Returns the first **index** of the maximum values along an axis."
   ]
  },
  {
   "cell_type": "code",
   "execution_count": 41,
   "id": "d4985e57",
   "metadata": {},
   "outputs": [
    {
     "data": {
      "text/plain": [
       "np.int64(4)"
      ]
     },
     "execution_count": 41,
     "metadata": {},
     "output_type": "execute_result"
    }
   ],
   "source": [
    "np.argmax(np.array([1, 5, 2, 0, 8, 3, 8]))"
   ]
  },
  {
   "cell_type": "markdown",
   "id": "b3dc8ab4",
   "metadata": {},
   "source": [
    "# argmin\n",
    "- Returns the first **index** of the minimum values along an axis."
   ]
  },
  {
   "cell_type": "code",
   "execution_count": 40,
   "id": "6b30342f",
   "metadata": {},
   "outputs": [
    {
     "data": {
      "text/plain": [
       "np.int64(3)"
      ]
     },
     "execution_count": 40,
     "metadata": {},
     "output_type": "execute_result"
    }
   ],
   "source": [
    "np.argmin(np.array([1, 5, 2, 0, 8, 3, 0]))"
   ]
  },
  {
   "cell_type": "markdown",
   "id": "5fc528a9",
   "metadata": {},
   "source": [
    "# argpartition\n",
    "- Perform an indirect partition along the given axis using the algorithm specified by the kind keyword. It returns an array of indices of the same shape as a that index data along the given axis in partitioned order."
   ]
  },
  {
   "cell_type": "code",
   "execution_count": 47,
   "id": "20c301d9",
   "metadata": {},
   "outputs": [
    {
     "data": {
      "text/plain": [
       "array([3, 6, 0, 2, 5, 1, 4])"
      ]
     },
     "execution_count": 47,
     "metadata": {},
     "output_type": "execute_result"
    }
   ],
   "source": [
    "np.argpartition(np.array([1, 5, 2, 0, 8, 3, 0]), 3) # sorted all elements before 3th position"
   ]
  },
  {
   "cell_type": "markdown",
   "id": "00c80d9c",
   "metadata": {},
   "source": [
    "# argsort\n",
    "- This function returns a new array of indices that would sort the original array. Applying these indices to the original array in order will produce the sorted version. The original array remains unchanged.\n",
    "- vs sort: which returns a new array containing the sorted elements of the original array. The original array remains unchanged."
   ]
  },
  {
   "cell_type": "code",
   "execution_count": 49,
   "id": "93e97745",
   "metadata": {},
   "outputs": [
    {
     "data": {
      "text/plain": [
       "array([  10,  222,  333, 4444, 5555, 7777])"
      ]
     },
     "execution_count": 49,
     "metadata": {},
     "output_type": "execute_result"
    }
   ],
   "source": [
    "a = np.array([333, 222, 10, 5555, 7777, 4444])\n",
    "sorted = np.argsort(a)\n",
    "a[sorted]"
   ]
  },
  {
   "cell_type": "markdown",
   "id": "2de7dd37",
   "metadata": {},
   "source": [
    "# argwhere\n",
    "- Find the indices of array elements that are non-zero, grouped by element.\n",
    "\n"
   ]
  },
  {
   "cell_type": "code",
   "execution_count": 50,
   "id": "2a13a229",
   "metadata": {},
   "outputs": [
    {
     "data": {
      "text/plain": [
       "array([[1],\n",
       "       [4]])"
      ]
     },
     "execution_count": 50,
     "metadata": {},
     "output_type": "execute_result"
    }
   ],
   "source": [
    "np.argwhere(np.array([1, 5, 2, 0, 8, 3, 0]) > 3) # indices where elements are larger than 3"
   ]
  },
  {
   "cell_type": "markdown",
   "id": "13bdcd0b",
   "metadata": {},
   "source": [
    "# around\n",
    "- Round an array to the given number of decimals."
   ]
  },
  {
   "cell_type": "code",
   "execution_count": 51,
   "id": "3fdead4c",
   "metadata": {},
   "outputs": [
    {
     "data": {
      "text/plain": [
       "array([1.23, 5.68, 9.12, 4.5 ])"
      ]
     },
     "execution_count": 51,
     "metadata": {},
     "output_type": "execute_result"
    }
   ],
   "source": [
    "np.around(np.array([1.234, 5.678, 9.125, 4.5]), decimals=2)"
   ]
  },
  {
   "cell_type": "markdown",
   "id": "ffb09d84",
   "metadata": {},
   "source": [
    "# array\n",
    "- create a numpy array"
   ]
  },
  {
   "cell_type": "code",
   "execution_count": 52,
   "id": "e38db591",
   "metadata": {},
   "outputs": [
    {
     "name": "stdout",
     "output_type": "stream",
     "text": [
      "int64\n"
     ]
    }
   ],
   "source": [
    "a = np.array([20, 30, 10, 50, 40])\n",
    "print(a.dtype)"
   ]
  },
  {
   "cell_type": "markdown",
   "id": "47f43dc8",
   "metadata": {},
   "source": [
    "# array2string\n",
    "- Return a string representation of an array."
   ]
  },
  {
   "cell_type": "code",
   "execution_count": 59,
   "id": "c1946c40",
   "metadata": {},
   "outputs": [
    {
     "data": {
      "text/plain": [
       "'[20 30 10 50 40]'"
      ]
     },
     "execution_count": 59,
     "metadata": {},
     "output_type": "execute_result"
    }
   ],
   "source": [
    "np.array2string(np.array([20, 30, 10, 50, 40]))"
   ]
  },
  {
   "cell_type": "markdown",
   "id": "1ad1ff3e",
   "metadata": {},
   "source": [
    "# array_equal\n",
    "- True if two arrays have the same shape and elements, False otherwise.\n"
   ]
  },
  {
   "cell_type": "code",
   "execution_count": 64,
   "id": "60b8f94a",
   "metadata": {},
   "outputs": [
    {
     "name": "stdout",
     "output_type": "stream",
     "text": [
      "True\n",
      "False\n"
     ]
    }
   ],
   "source": [
    "print(np.array_equal([1, 2], [1, 2]))\n",
    "print(np.array_equal([1, 2], [[1, 2], [1, 2]]))"
   ]
  },
  {
   "cell_type": "markdown",
   "id": "36ef20e1",
   "metadata": {},
   "source": [
    "# array_equiv\n",
    "- Returns True if input arrays are shape consistent and all elements equal. (broadcast equal)\n",
    "- array_equal vs array_equiv: Shape Requirement: array_equal requires identical shapes, while array_equiv allows for broadcastable shapes. Strictness: array_equal is stricter regarding array dimensions and shape, whereas array_equiv is more flexible due to broadcasting."
   ]
  },
  {
   "cell_type": "code",
   "execution_count": 65,
   "id": "82c3a5c4",
   "metadata": {},
   "outputs": [
    {
     "name": "stdout",
     "output_type": "stream",
     "text": [
      "True\n",
      "True\n"
     ]
    }
   ],
   "source": [
    "print(np.array_equiv([1, 2], [1, 2]))\n",
    "print(np.array_equiv([1, 2], [[1, 2], [1, 2]]))"
   ]
  },
  {
   "cell_type": "markdown",
   "id": "fdd9393a",
   "metadata": {},
   "source": [
    "# array_repr\n",
    "- Return the string representation of an array.\n",
    "- provides a formal, reconstructible string representation that includes array metadata."
   ]
  },
  {
   "cell_type": "code",
   "execution_count": 67,
   "id": "9f4954c3",
   "metadata": {},
   "outputs": [
    {
     "data": {
      "text/plain": [
       "'array([50, 30, 40, 20, 10])'"
      ]
     },
     "execution_count": 67,
     "metadata": {},
     "output_type": "execute_result"
    }
   ],
   "source": [
    "np.array_repr(np.array([50, 30, 40, 20, 10]))"
   ]
  },
  {
   "cell_type": "markdown",
   "id": "67c66eb9",
   "metadata": {},
   "source": [
    "# array_split\n",
    "- Split an array into multiple sub-arrays."
   ]
  },
  {
   "cell_type": "code",
   "execution_count": 69,
   "id": "17704cb8",
   "metadata": {},
   "outputs": [
    {
     "data": {
      "text/plain": [
       "[array([0, 1, 2, 3]), array([4, 5, 6, 7])]"
      ]
     },
     "execution_count": 69,
     "metadata": {},
     "output_type": "execute_result"
    }
   ],
   "source": [
    "np.array_split(np.arange(8),2)"
   ]
  },
  {
   "cell_type": "markdown",
   "id": "3f20e790",
   "metadata": {},
   "source": [
    "# array_str\n",
    "- Return a string representation of the data in an array.\n",
    "- provides a clean, data-focused string representation suitable for display."
   ]
  },
  {
   "cell_type": "code",
   "execution_count": 70,
   "id": "4a243ff2",
   "metadata": {},
   "outputs": [
    {
     "data": {
      "text/plain": [
       "'[0 1 2]'"
      ]
     },
     "execution_count": 70,
     "metadata": {},
     "output_type": "execute_result"
    }
   ],
   "source": [
    "np.array_str(np.arange(3))"
   ]
  },
  {
   "cell_type": "markdown",
   "id": "5b766bcc",
   "metadata": {},
   "source": [
    "# asanyarray\n",
    "- Convert the input to an ndarray, but pass ndarray subclasses through.\n",
    "- Input data, in any form that can be converted to an array. This includes scalars, lists, lists of tuples, tuples, tuples of tuples, tuples of lists, and ndarrays\n",
    "## Notes:\n",
    "- Use numpy.asarray when you need to ensure the output is a base ndarray, even if the input is a subclass.\n",
    "- Use numpy.asanyarray when you want to convert the input to an array but also want to preserve the subclass type if the input is already an ndarray subclass. This can be more efficient if you're working with specialized array types and don't need to force them into a base ndarray."
   ]
  },
  {
   "cell_type": "code",
   "execution_count": 75,
   "id": "b2eaf4b5",
   "metadata": {},
   "outputs": [
    {
     "name": "stdout",
     "output_type": "stream",
     "text": [
      "4\n",
      "[3 4 4]\n",
      "[3 4 4]\n",
      "[3 4 4]\n"
     ]
    }
   ],
   "source": [
    "print(np.asanyarray(4))\n",
    "print(np.asanyarray((3, 4, 4)))\n",
    "print(np.asanyarray([3, 4, 4]))\n",
    "print(np.asanyarray(np.array([3, 4, 4])))"
   ]
  },
  {
   "cell_type": "markdown",
   "id": "e9e210cc",
   "metadata": {},
   "source": [
    "# asarray\n",
    "- Convert the input to an array.\n",
    "- Input data, in any form that can be converted to an array. This includes lists, lists of tuples, tuples, tuples of tuples, tuples of lists and ndarrays.\n",
    "## Notes:\n",
    "- Use numpy.asarray when you need to ensure the output is a base ndarray, even if the input is a subclass.\n",
    "- Use numpy.asanyarray when you want to convert the input to an array but also want to preserve the subclass type if the input is already an ndarray subclass. This can be more efficient if you're working with specialized array types and don't need to force them into a base ndarray."
   ]
  },
  {
   "cell_type": "code",
   "execution_count": 76,
   "id": "01b163ee",
   "metadata": {},
   "outputs": [
    {
     "name": "stdout",
     "output_type": "stream",
     "text": [
      "4\n",
      "[3 4 4]\n",
      "[3 4 4]\n",
      "[3 4 4]\n"
     ]
    }
   ],
   "source": [
    "print(np.asarray(4))\n",
    "print(np.asarray((3, 4, 4)))\n",
    "print(np.asarray([3, 4, 4]))\n",
    "print(np.asarray(np.array([3, 4, 4])))"
   ]
  },
  {
   "cell_type": "markdown",
   "id": "467e1fe5",
   "metadata": {},
   "source": [
    "# asarray_chkfinite\n",
    "- Convert the input to an array, checking for NaNs or Infs.\n",
    "- Input data, in any form that can be converted to an array. This includes lists, lists of tuples, tuples, tuples of tuples, tuples of lists and ndarrays. Success requires no NaNs or Infs."
   ]
  },
  {
   "cell_type": "code",
   "execution_count": 78,
   "id": "da0365dc",
   "metadata": {},
   "outputs": [
    {
     "name": "stdout",
     "output_type": "stream",
     "text": [
      "ValueError\n"
     ]
    }
   ],
   "source": [
    "try:\n",
    "    np.asarray_chkfinite([1, 2, np.inf])\n",
    "except ValueError:\n",
    "    print('ValueError')"
   ]
  },
  {
   "cell_type": "markdown",
   "id": "0604319d",
   "metadata": {},
   "source": [
    "# ascontiguousarray\n",
    "- Return a contiguous array (ndim >= 1) in memory (C order).\n",
    "- The primary purpose of ascontiguousarray() is to optimize performance and ensure compatibility when interfacing NumPy arrays with external libraries, especially those written in C, C++, or Fortran, which often expect data in a specific memory layout."
   ]
  },
  {
   "cell_type": "code",
   "execution_count": 83,
   "id": "a6f4aee1",
   "metadata": {},
   "outputs": [
    {
     "name": "stdout",
     "output_type": "stream",
     "text": [
      "False\n",
      "True\n"
     ]
    }
   ],
   "source": [
    "x = np.ones((2, 3), order='F')\n",
    "print(x.flags['C_CONTIGUOUS'])\n",
    "y = np.ascontiguousarray(x)\n",
    "print(y.flags['C_CONTIGUOUS'])"
   ]
  },
  {
   "cell_type": "markdown",
   "id": "046566aa",
   "metadata": {},
   "source": [
    "# asin\n",
    "- inverse sin, element-wise"
   ]
  },
  {
   "cell_type": "code",
   "execution_count": 84,
   "id": "1fd9002a",
   "metadata": {},
   "outputs": [
    {
     "data": {
      "text/plain": [
       "np.float64(1.5707963267948966)"
      ]
     },
     "execution_count": 84,
     "metadata": {},
     "output_type": "execute_result"
    }
   ],
   "source": [
    "np.asin(1)"
   ]
  },
  {
   "cell_type": "markdown",
   "id": "0c66a3a6",
   "metadata": {},
   "source": [
    "# asinh\n",
    "- Inverse hyperbolic sine element-wise."
   ]
  },
  {
   "cell_type": "code",
   "execution_count": 85,
   "id": "3628f007",
   "metadata": {},
   "outputs": [
    {
     "data": {
      "text/plain": [
       "array([1.72538256, 2.99822295])"
      ]
     },
     "execution_count": 85,
     "metadata": {},
     "output_type": "execute_result"
    }
   ],
   "source": [
    "np.arcsinh(np.array([np.e, 10.0]))"
   ]
  },
  {
   "cell_type": "markdown",
   "id": "201e40cd",
   "metadata": {},
   "source": [
    "# asmatrix\n",
    "- Interpret the input as a matrix.\n",
    "- return type is matrix instead of ndarray"
   ]
  },
  {
   "cell_type": "code",
   "execution_count": 87,
   "id": "651f5052",
   "metadata": {},
   "outputs": [
    {
     "data": {
      "text/plain": [
       "numpy.matrix"
      ]
     },
     "execution_count": 87,
     "metadata": {},
     "output_type": "execute_result"
    }
   ],
   "source": [
    "type(np.asmatrix(np.array([2, 3, 4])))"
   ]
  },
  {
   "cell_type": "markdown",
   "id": "75cf051a",
   "metadata": {},
   "source": [
    "# astype\n",
    "- Copies an array to a specified data type."
   ]
  },
  {
   "cell_type": "code",
   "execution_count": 91,
   "id": "4198cce7",
   "metadata": {},
   "outputs": [
    {
     "name": "stdout",
     "output_type": "stream",
     "text": [
      "int64\n",
      "float32\n"
     ]
    }
   ],
   "source": [
    "a = arr = np.array([1, 2, 3])\n",
    "print(a.dtype)\n",
    "print(np.astype(a, np.float32).dtype)"
   ]
  },
  {
   "cell_type": "markdown",
   "id": "533e05c4",
   "metadata": {},
   "source": [
    "# atan\n",
    "- inverse tangent"
   ]
  },
  {
   "cell_type": "code",
   "execution_count": 92,
   "id": "20cafc18",
   "metadata": {},
   "outputs": [
    {
     "data": {
      "text/plain": [
       "array([0.        , 0.78539816])"
      ]
     },
     "execution_count": 92,
     "metadata": {},
     "output_type": "execute_result"
    }
   ],
   "source": [
    "np.atan([0, 1])"
   ]
  },
  {
   "cell_type": "markdown",
   "id": "daedaf6c",
   "metadata": {},
   "source": [
    "# atan2\n",
    "- Element-wise arc tangent of x1/x2 choosing the quadrant correctly.\n",
    "- Returns the angle between the positive x-axis and the line connecting the origin to the point \\((x,y)\\), in radians. "
   ]
  },
  {
   "cell_type": "code",
   "execution_count": 94,
   "id": "6e0616b5",
   "metadata": {},
   "outputs": [
    {
     "data": {
      "text/plain": [
       "array([  0.,  90., -90., 180.])"
      ]
     },
     "execution_count": 94,
     "metadata": {},
     "output_type": "execute_result"
    }
   ],
   "source": [
    "np.atan2([0, 1, -1, 0], [1, 0, 0, -1]) * 180 / np.pi"
   ]
  },
  {
   "cell_type": "markdown",
   "id": "2aa941fa",
   "metadata": {},
   "source": [
    "# atanh\n",
    "- inverse hyperpolic tangent function"
   ]
  },
  {
   "cell_type": "code",
   "execution_count": 95,
   "id": "78967cfa",
   "metadata": {},
   "outputs": [
    {
     "data": {
      "text/plain": [
       "array([ 0.        , -0.54930614])"
      ]
     },
     "execution_count": 95,
     "metadata": {},
     "output_type": "execute_result"
    }
   ],
   "source": [
    "np.arctanh([0, -0.5])"
   ]
  },
  {
   "cell_type": "markdown",
   "id": "b19ef47c",
   "metadata": {},
   "source": [
    "# atleast_1d\n",
    "- Convert inputs to arrays with at least one dimension.\n",
    "- Scalar inputs are converted to 1-dimensional arrays, whilst higher-dimensional inputs are preserved."
   ]
  },
  {
   "cell_type": "code",
   "execution_count": 97,
   "id": "35dacc3f",
   "metadata": {},
   "outputs": [
    {
     "name": "stdout",
     "output_type": "stream",
     "text": [
      "[10]\n",
      "[[2 3]\n",
      " [3 4]]\n"
     ]
    }
   ],
   "source": [
    "print(np.atleast_1d(10))\n",
    "print(np.atleast_1d([[2, 3], [3, 4]]))"
   ]
  },
  {
   "cell_type": "markdown",
   "id": "66461e0b",
   "metadata": {},
   "source": [
    "# atleast_2d\n",
    "- View inputs as arrays with at least two dimensions."
   ]
  },
  {
   "cell_type": "code",
   "execution_count": 98,
   "id": "46dba98a",
   "metadata": {},
   "outputs": [
    {
     "name": "stdout",
     "output_type": "stream",
     "text": [
      "[[10]]\n",
      "[[[2]\n",
      "  [3]\n",
      "  [3]]]\n"
     ]
    }
   ],
   "source": [
    "print(np.atleast_2d(10))\n",
    "print(np.atleast_3d([2, 3, 3]))"
   ]
  },
  {
   "cell_type": "markdown",
   "id": "e002ac17",
   "metadata": {},
   "source": [
    "# atleast_3d\n",
    "- View inputs as arrays with at least three dimensions.\n",
    "- will returns at least (x, 1, 1)"
   ]
  },
  {
   "cell_type": "code",
   "execution_count": 106,
   "id": "d31f2a22",
   "metadata": {},
   "outputs": [
    {
     "name": "stdout",
     "output_type": "stream",
     "text": [
      "(1, 1, 1)\n",
      "(2, 3, 1)\n"
     ]
    }
   ],
   "source": [
    "print(np.atleast_3d(3).shape)\n",
    "print(np.atleast_3d(np.arange(6).reshape(2, 3)).shape)"
   ]
  },
  {
   "cell_type": "markdown",
   "id": "f570a965",
   "metadata": {},
   "source": [
    "# average\n",
    "- Compute the weighted average along the specified axis.\n",
    "- avg = sum(a * weights) / sum(weights)"
   ]
  },
  {
   "cell_type": "code",
   "execution_count": 107,
   "id": "2ee51961",
   "metadata": {},
   "outputs": [
    {
     "data": {
      "text/plain": [
       "np.float64(2.5)"
      ]
     },
     "execution_count": 107,
     "metadata": {},
     "output_type": "execute_result"
    }
   ],
   "source": [
    "np.average(np.arange(1, 5))"
   ]
  },
  {
   "cell_type": "markdown",
   "id": "81d6d6a8",
   "metadata": {},
   "source": [
    "# bartlett\n",
    "- Return the Bartlett window."
   ]
  },
  {
   "cell_type": "code",
   "execution_count": 110,
   "id": "404e4711",
   "metadata": {},
   "outputs": [
    {
     "data": {
      "text/plain": [
       "array([0.        , 0.18181818, 0.36363636, 0.54545455, 0.72727273,\n",
       "       0.90909091, 0.90909091, 0.72727273, 0.54545455, 0.36363636,\n",
       "       0.18181818, 0.        ])"
      ]
     },
     "execution_count": 110,
     "metadata": {},
     "output_type": "execute_result"
    }
   ],
   "source": [
    "np.bartlett(12)"
   ]
  },
  {
   "cell_type": "markdown",
   "id": "bf6da97e",
   "metadata": {},
   "source": [
    "# base_repr\n",
    "- Return a string representation of a number in the given base system."
   ]
  },
  {
   "cell_type": "code",
   "execution_count": 111,
   "id": "43799ac2",
   "metadata": {},
   "outputs": [
    {
     "data": {
      "text/plain": [
       "'101'"
      ]
     },
     "execution_count": 111,
     "metadata": {},
     "output_type": "execute_result"
    }
   ],
   "source": [
    "np.base_repr(5)"
   ]
  },
  {
   "cell_type": "markdown",
   "id": "393e0550",
   "metadata": {},
   "source": [
    "# binary_repr\n",
    "- Return the binary representation of the input number as a string."
   ]
  },
  {
   "cell_type": "code",
   "execution_count": 114,
   "id": "c56e37e8",
   "metadata": {},
   "outputs": [
    {
     "data": {
      "text/plain": [
       "'1000000'"
      ]
     },
     "execution_count": 114,
     "metadata": {},
     "output_type": "execute_result"
    }
   ],
   "source": [
    "np.binary_repr(64)"
   ]
  },
  {
   "cell_type": "markdown",
   "id": "967f428a",
   "metadata": {},
   "source": [
    "# bincount\n",
    "- Count number of occurrences of each value in array of non-negative ints."
   ]
  },
  {
   "cell_type": "code",
   "execution_count": 115,
   "id": "77f5942d",
   "metadata": {},
   "outputs": [
    {
     "data": {
      "text/plain": [
       "array([1, 3, 1, 1, 0, 0, 0, 1])"
      ]
     },
     "execution_count": 115,
     "metadata": {},
     "output_type": "execute_result"
    }
   ],
   "source": [
    "np.bincount(np.array([0, 1, 1, 3, 2, 1, 7]))"
   ]
  },
  {
   "cell_type": "markdown",
   "id": "9614d22f",
   "metadata": {},
   "source": [
    "# bitwise_and\n",
    "- Compute the bit-wise AND of two arrays element-wise."
   ]
  },
  {
   "cell_type": "code",
   "execution_count": 118,
   "id": "baa933d3",
   "metadata": {},
   "outputs": [
    {
     "name": "stdout",
     "output_type": "stream",
     "text": [
      "101\n",
      "10001\n"
     ]
    },
    {
     "data": {
      "text/plain": [
       "np.int64(1)"
      ]
     },
     "execution_count": 118,
     "metadata": {},
     "output_type": "execute_result"
    }
   ],
   "source": [
    "print(np.binary_repr(5))\n",
    "print(np.binary_repr(17))\n",
    "np.bitwise_and(5, 17)"
   ]
  },
  {
   "cell_type": "markdown",
   "id": "cf71783b",
   "metadata": {},
   "source": [
    "# bitwise_count\n",
    "- Computes the number of 1-bits in the absolute value of x. Analogous to the builtin int.bit_count or popcount in C++."
   ]
  },
  {
   "cell_type": "code",
   "execution_count": 120,
   "id": "4bc84167",
   "metadata": {},
   "outputs": [
    {
     "data": {
      "text/plain": [
       "np.uint8(6)"
      ]
     },
     "execution_count": 120,
     "metadata": {},
     "output_type": "execute_result"
    }
   ],
   "source": [
    "np.bitwise_count(63)"
   ]
  },
  {
   "cell_type": "markdown",
   "id": "8eed0918",
   "metadata": {},
   "source": [
    "# bitwise_invert\n",
    "- Compute bit-wise inversion, or bit-wise NOT, element-wise.\n",
    "- Computes the bit-wise NOT of the underlying binary representation of the integers in the input arrays. This ufunc implements the C/Python operator ~.\n",
    "- alias to bitwise_not"
   ]
  },
  {
   "cell_type": "code",
   "execution_count": 121,
   "id": "38d8366c",
   "metadata": {},
   "outputs": [
    {
     "data": {
      "text/plain": [
       "True"
      ]
     },
     "execution_count": 121,
     "metadata": {},
     "output_type": "execute_result"
    }
   ],
   "source": [
    "np.bitwise_invert is np.bitwise_not"
   ]
  },
  {
   "cell_type": "markdown",
   "id": "1c914b00",
   "metadata": {},
   "source": [
    "# bitwise_left_shift\n",
    "- Shift the bits of an integer to the left. aka * 2\n",
    "- takes at least 2 mandatory inputs: x1: input, x2: number of zeros to append to x1"
   ]
  },
  {
   "cell_type": "code",
   "execution_count": 124,
   "id": "fe10703e",
   "metadata": {},
   "outputs": [
    {
     "data": {
      "text/plain": [
       "np.int64(10)"
      ]
     },
     "execution_count": 124,
     "metadata": {},
     "output_type": "execute_result"
    }
   ],
   "source": [
    "np.bitwise_left_shift(5, 1)"
   ]
  },
  {
   "cell_type": "markdown",
   "id": "c6e68f0f",
   "metadata": {},
   "source": [
    "# bitwise_not\n",
    "- compute the bitwise not: flipping the bit"
   ]
  },
  {
   "cell_type": "code",
   "execution_count": 130,
   "id": "a3403bae",
   "metadata": {},
   "outputs": [
    {
     "name": "stdout",
     "output_type": "stream",
     "text": [
      "110\n",
      "1111111111111001\n"
     ]
    }
   ],
   "source": [
    "print(np.binary_repr(6))\n",
    "print(np.binary_repr(np.bitwise_not(np.array(6, dtype=np.uint16))))"
   ]
  },
  {
   "cell_type": "markdown",
   "id": "a945d04e",
   "metadata": {},
   "source": [
    "# bitwise_or\n",
    "- compute the bitwise of **OR**"
   ]
  },
  {
   "cell_type": "code",
   "execution_count": 132,
   "id": "44fa88d0",
   "metadata": {},
   "outputs": [
    {
     "data": {
      "text/plain": [
       "np.int64(30)"
      ]
     },
     "execution_count": 132,
     "metadata": {},
     "output_type": "execute_result"
    }
   ],
   "source": [
    "np.bitwise_or(14, 16)"
   ]
  },
  {
   "cell_type": "markdown",
   "id": "4be39226",
   "metadata": {},
   "source": [
    "# bitwise_right_shift\n",
    "- compute the bitwise  **left shift**: equivalent to divide by 2\n",
    "- takes at least 2 args: x1: number or arrays, and number or arrays that is the divisor"
   ]
  },
  {
   "cell_type": "code",
   "execution_count": 134,
   "id": "e8997f75",
   "metadata": {},
   "outputs": [
    {
     "data": {
      "text/plain": [
       "np.int64(15)"
      ]
     },
     "execution_count": 134,
     "metadata": {},
     "output_type": "execute_result"
    }
   ],
   "source": [
    "np.bitwise_right_shift(30, 1)"
   ]
  },
  {
   "cell_type": "markdown",
   "id": "44e6c096",
   "metadata": {},
   "source": [
    "# bitwise_xor\n",
    "- compute the bitwise **XOR** of two arrays element-wise. If 2 bits are different, then it is a **1**, if 2 bits are the same, then they are **0**"
   ]
  },
  {
   "cell_type": "code",
   "execution_count": 138,
   "id": "7a903ec0",
   "metadata": {},
   "outputs": [
    {
     "name": "stdout",
     "output_type": "stream",
     "text": [
      "1101\n",
      "1111\n",
      "10\n"
     ]
    }
   ],
   "source": [
    "print(np.binary_repr(13))\n",
    "print(np.binary_repr(15))\n",
    "print(np.binary_repr(np.bitwise_xor(13, 15)))"
   ]
  },
  {
   "cell_type": "markdown",
   "id": "9c4b25e8",
   "metadata": {},
   "source": [
    "# blackman\n",
    "- Return the Blackman window.\n",
    "- The Blackman window is a taper formed by using the first three terms of a summation of cosines. It was designed to have close to the minimal leakage possible. It is close to optimal, only slightly worse than a Kaiser window."
   ]
  },
  {
   "cell_type": "code",
   "execution_count": 141,
   "id": "8cca50d1",
   "metadata": {},
   "outputs": [
    {
     "data": {
      "text/plain": [
       "array([-1.38777878e-17,  5.08696327e-02,  2.58000502e-01,  6.30000000e-01,\n",
       "        9.51129866e-01,  9.51129866e-01,  6.30000000e-01,  2.58000502e-01,\n",
       "        5.08696327e-02, -1.38777878e-17])"
      ]
     },
     "execution_count": 141,
     "metadata": {},
     "output_type": "execute_result"
    }
   ],
   "source": [
    "np.blackman(10)"
   ]
  },
  {
   "cell_type": "markdown",
   "id": "63640306",
   "metadata": {},
   "source": [
    "# block\n",
    "- Blocks in the innermost lists are concatenated along the last dimension (-1), then these are concatenated along the second-last dimension (-2), and so on until the outermost list is reached."
   ]
  },
  {
   "cell_type": "code",
   "execution_count": 146,
   "id": "43d121b2",
   "metadata": {},
   "outputs": [
    {
     "name": "stdout",
     "output_type": "stream",
     "text": [
      "[1 2 3]\n",
      "[ 1  2  3  4  5  6 10]\n",
      "[[1 1 2 2]\n",
      " [1 1 2 2]]\n",
      "[[1 1]\n",
      " [1 1]\n",
      " [2 2]\n",
      " [2 2]]\n",
      "[0]\n",
      "[1]\n",
      "[[0]]\n",
      "[[1]]\n"
     ]
    }
   ],
   "source": [
    "print(np.block([1, 2, 3]))              # hstack([1, 2, 3])\n",
    "a = np.array([1, 2, 3])\n",
    "b = np.array([4, 5, 6])\n",
    "print(np.block([a, b, 10]))             # hstack([a, b, 10]))\n",
    "A = np.ones((2, 2), int)\n",
    "B = 2 * A\n",
    "print(np.block([A, B]))                 # hstack([A, B])\n",
    "A = np.ones((2, 2), int)\n",
    "B = 2 * A\n",
    "print(np.block([[A], [B]]))             # vstack([A, B])\n",
    "\n",
    "a = np.array(0)\n",
    "b = np.array([1])\n",
    "print(np.block([a]))                    # atleast_1d(a)\n",
    "print(np.block([b]))                    # atleast_1d(b)\n",
    "\n",
    "print(np.block([[a]]))                  # atleast_2d(a)\n",
    "print(np.block([[b]]))                  # atleast_2d(b)"
   ]
  },
  {
   "cell_type": "markdown",
   "id": "a32bcfc8",
   "metadata": {},
   "source": [
    "# bmat\n",
    "- Build a matrix object from a string, nested sequence, or array."
   ]
  },
  {
   "cell_type": "code",
   "execution_count": 150,
   "id": "2e17aa01",
   "metadata": {},
   "outputs": [
    {
     "name": "stdout",
     "output_type": "stream",
     "text": [
      "A:  [[1 1]\n",
      " [1 1]]\n",
      "B:  [[2 2]\n",
      " [2 2]]\n",
      "C:  [[3 4]\n",
      " [5 6]]\n",
      "D:  [[7 8]\n",
      " [9 0]]\n",
      "[[1 1 2 2]\n",
      " [1 1 2 2]\n",
      " [3 4 7 8]\n",
      " [5 6 9 0]]\n",
      "[[1 1 2 2]\n",
      " [1 1 2 2]\n",
      " [3 4 7 8]\n",
      " [5 6 9 0]]\n",
      "[[1 1 2 2]\n",
      " [1 1 2 2]\n",
      " [3 4 7 8]\n",
      " [5 6 9 0]]\n"
     ]
    }
   ],
   "source": [
    "A = np.asmatrix('1 1; 1 1')\n",
    "print(\"A: \", A)\n",
    "B = np.asmatrix('2 2; 2 2')\n",
    "print(\"B: \", B)\n",
    "C = np.asmatrix('3 4; 5 6')\n",
    "print(\"C: \", C)\n",
    "D = np.asmatrix('7 8; 9 0')\n",
    "print(\"D: \", D)\n",
    "print(np.bmat([[A, B], [C, D]]))\n",
    "print(np.bmat(np.r_[np.c_[A, B], np.c_[C, D]]))\n",
    "print(np.bmat('A,B; C,D'))"
   ]
  },
  {
   "cell_type": "markdown",
   "id": "ac3cb9c5",
   "metadata": {},
   "source": [
    "# broadcast\n",
    "- Produce an object that mimics broadcasting."
   ]
  },
  {
   "cell_type": "code",
   "execution_count": 152,
   "id": "97d1de4a",
   "metadata": {},
   "outputs": [
    {
     "name": "stdout",
     "output_type": "stream",
     "text": [
      "[[5. 6. 7.]\n",
      " [6. 7. 8.]\n",
      " [7. 8. 9.]]\n"
     ]
    }
   ],
   "source": [
    "x = np.array([[1], [2], [3]])\n",
    "y = np.array([4, 5, 6])\n",
    "b = np.broadcast(x, y)\n",
    "out = np.empty(b.shape)\n",
    "out.flat = [u+v for (u,v) in b]\n",
    "print(out)"
   ]
  },
  {
   "cell_type": "markdown",
   "id": "b616c85b",
   "metadata": {},
   "source": [
    "# broadcast_arrays\n",
    "- Broadcast any number of arrays against each other."
   ]
  },
  {
   "cell_type": "code",
   "execution_count": 160,
   "id": "2566bb1c",
   "metadata": {},
   "outputs": [
    {
     "name": "stdout",
     "output_type": "stream",
     "text": [
      "(1, 3)\n",
      "(2, 1)\n"
     ]
    },
    {
     "data": {
      "text/plain": [
       "(array([[1, 2, 3],\n",
       "        [1, 2, 3]]),\n",
       " array([[4, 4, 4],\n",
       "        [5, 5, 5]]))"
      ]
     },
     "execution_count": 160,
     "metadata": {},
     "output_type": "execute_result"
    }
   ],
   "source": [
    "x = np.array([[1,2,3]])\n",
    "print(x.shape)\n",
    "y = np.array([[4],[5]])\n",
    "print(y.shape)\n",
    "np.broadcast_arrays(x, y)"
   ]
  },
  {
   "cell_type": "markdown",
   "id": "5c904422",
   "metadata": {},
   "source": [
    "# broadcast_shapes\n",
    "- Broadcast the input shapes into a single shape. returns a shape"
   ]
  },
  {
   "cell_type": "code",
   "execution_count": 161,
   "id": "47415bde",
   "metadata": {},
   "outputs": [
    {
     "data": {
      "text/plain": [
       "(3, 2)"
      ]
     },
     "execution_count": 161,
     "metadata": {},
     "output_type": "execute_result"
    }
   ],
   "source": [
    "np.broadcast_shapes((1, 2), (3, 1), (3, 2))"
   ]
  },
  {
   "cell_type": "markdown",
   "id": "8beb5bae",
   "metadata": {},
   "source": [
    "# broadcast_to\n",
    "- Broadcast an array to a new shape."
   ]
  },
  {
   "cell_type": "code",
   "execution_count": 164,
   "id": "934ec22d",
   "metadata": {},
   "outputs": [
    {
     "name": "stdout",
     "output_type": "stream",
     "text": [
      "[[4 5 6]\n",
      " [4 5 6]]\n",
      "[[4 5 6]\n",
      " [4 5 6]\n",
      " [4 5 6]]\n"
     ]
    }
   ],
   "source": [
    "print(np.broadcast_to(np.array([4, 5, 6]), (2, 3)))\n",
    "print(np.broadcast_to(np.array([4, 5, 6]), (3, 3)))\n"
   ]
  },
  {
   "cell_type": "markdown",
   "id": "dfa88561",
   "metadata": {},
   "source": [
    "# busday_count\n",
    "- Counts the number of valid (business) days between begindates and enddates, not including the day of enddates. Doesn't not count weekends"
   ]
  },
  {
   "cell_type": "code",
   "execution_count": 166,
   "id": "443e0ffc",
   "metadata": {},
   "outputs": [
    {
     "data": {
      "text/plain": [
       "np.int64(108)"
      ]
     },
     "execution_count": 166,
     "metadata": {},
     "output_type": "execute_result"
    }
   ],
   "source": [
    "np.busday_count('2025-01', '2025-06')"
   ]
  },
  {
   "cell_type": "markdown",
   "id": "40d7fc4a",
   "metadata": {},
   "source": [
    "# busday_offset\n",
    "- First adjusts the date to fall on a valid day according to the roll rule, then applies offsets to the given dates counted in valid days."
   ]
  },
  {
   "cell_type": "code",
   "execution_count": 169,
   "id": "a4fa950a",
   "metadata": {},
   "outputs": [
    {
     "data": {
      "text/plain": [
       "np.datetime64('2025-10-01')"
      ]
     },
     "execution_count": 169,
     "metadata": {},
     "output_type": "execute_result"
    }
   ],
   "source": [
    "np.busday_offset('2025-10', 0, roll='forward')"
   ]
  },
  {
   "cell_type": "markdown",
   "id": "1921c4de",
   "metadata": {},
   "source": [
    "# busdaycalendar\n",
    "- A business day calendar object that efficiently stores information defining valid days for the busday family of functions.\n",
    "- The default valid days are Monday through Friday (“business days”). A busdaycalendar object can be specified with any set of weekly valid days, plus an optional “holiday” dates that always will be invalid."
   ]
  },
  {
   "cell_type": "code",
   "execution_count": 175,
   "id": "6458d695",
   "metadata": {},
   "outputs": [
    {
     "data": {
      "text/plain": [
       "numpy.busdaycalendar"
      ]
     },
     "execution_count": 175,
     "metadata": {},
     "output_type": "execute_result"
    }
   ],
   "source": [
    "bus_calendar = np.busdaycalendar()\n",
    "type(bus_calendar)"
   ]
  },
  {
   "cell_type": "markdown",
   "id": "5612eb94",
   "metadata": {},
   "source": [
    "# can_cast\n",
    "- Returns True if cast between data types can occur according to the casting rule."
   ]
  },
  {
   "cell_type": "code",
   "execution_count": 177,
   "id": "c03507dd",
   "metadata": {},
   "outputs": [
    {
     "name": "stdout",
     "output_type": "stream",
     "text": [
      "True\n",
      "False\n"
     ]
    }
   ],
   "source": [
    "print(np.can_cast(np.int32, np.int64))\n",
    "print(np.can_cast(complex, float))"
   ]
  },
  {
   "cell_type": "markdown",
   "id": "52319b7a",
   "metadata": {},
   "source": [
    "# cbrt\n",
    "- Return the cube-root of an array, element-wise."
   ]
  },
  {
   "cell_type": "code",
   "execution_count": 178,
   "id": "5e5b547e",
   "metadata": {},
   "outputs": [
    {
     "data": {
      "text/plain": [
       "array([1., 2., 3.])"
      ]
     },
     "execution_count": 178,
     "metadata": {},
     "output_type": "execute_result"
    }
   ],
   "source": [
    "np.cbrt([1,8,27])"
   ]
  },
  {
   "cell_type": "markdown",
   "id": "1347cf63",
   "metadata": {},
   "source": [
    "# ceil\n",
    "- Return the ceiling of the input, element-wise."
   ]
  },
  {
   "cell_type": "code",
   "execution_count": 179,
   "id": "df026477",
   "metadata": {},
   "outputs": [
    {
     "data": {
      "text/plain": [
       "array([-1., -1., -0.,  1.,  2.,  2.,  2.])"
      ]
     },
     "execution_count": 179,
     "metadata": {},
     "output_type": "execute_result"
    }
   ],
   "source": [
    "np.ceil(np.array([-1.7, -1.5, -0.2, 0.2, 1.5, 1.7, 2.0]))"
   ]
  },
  {
   "cell_type": "markdown",
   "id": "9e27e6a7",
   "metadata": {},
   "source": [
    "# choose\n",
    "- Construct an array from an index array and a list of arrays to choose from.\n"
   ]
  },
  {
   "cell_type": "code",
   "execution_count": 180,
   "id": "7598029e",
   "metadata": {},
   "outputs": [
    {
     "data": {
      "text/plain": [
       "array([20, 31, 12,  3])"
      ]
     },
     "execution_count": 180,
     "metadata": {},
     "output_type": "execute_result"
    }
   ],
   "source": [
    "choices = [[0, 1, 2, 3], [10, 11, 12, 13],\n",
    "  [20, 21, 22, 23], [30, 31, 32, 33]]\n",
    "np.choose([2, 3, 1, 0], choices\n",
    "# the first element of the result will be the first element of the\n",
    "# third (2+1) \"array\" in choices, namely, 20; the second element\n",
    "# will be the second element of the fourth (3+1) choice array, i.e.,\n",
    "# 31, etc.\n",
    ")"
   ]
  },
  {
   "cell_type": "markdown",
   "id": "a6810c0b",
   "metadata": {},
   "source": [
    "# clip\n",
    "- Clip (limit) the values in an array. \n",
    "- returns the array clip within a range"
   ]
  },
  {
   "cell_type": "code",
   "execution_count": 181,
   "id": "a1f190b0",
   "metadata": {},
   "outputs": [
    {
     "data": {
      "text/plain": [
       "array([10,  2, 12,  4, 20, 20, 17, 20])"
      ]
     },
     "execution_count": 181,
     "metadata": {},
     "output_type": "execute_result"
    }
   ],
   "source": [
    "np.clip(np.array([10, 2, 12, 4, 22, 33, 17, 50]), 0, 20)"
   ]
  },
  {
   "cell_type": "markdown",
   "id": "18689202",
   "metadata": {},
   "source": [
    "# column_stack\n",
    "- Stack 1-D arrays as columns into a 2-D array."
   ]
  },
  {
   "cell_type": "code",
   "execution_count": 183,
   "id": "9fcaba02",
   "metadata": {},
   "outputs": [
    {
     "data": {
      "text/plain": [
       "array([[1, 4],\n",
       "       [2, 5],\n",
       "       [3, 6]])"
      ]
     },
     "execution_count": 183,
     "metadata": {},
     "output_type": "execute_result"
    }
   ],
   "source": [
    "np.column_stack(\n",
    "    (np.array([1, 2, 3]),\n",
    "    np.array([4, 5, 6]))\n",
    ")"
   ]
  },
  {
   "cell_type": "markdown",
   "id": "408671a0",
   "metadata": {},
   "source": [
    "# compress\n",
    "- Return selected slices of an array along given axis."
   ]
  },
  {
   "cell_type": "code",
   "execution_count": 184,
   "id": "3c7fc3c4",
   "metadata": {},
   "outputs": [
    {
     "data": {
      "text/plain": [
       "array([[3, 4]])"
      ]
     },
     "execution_count": 184,
     "metadata": {},
     "output_type": "execute_result"
    }
   ],
   "source": [
    "np.compress(\n",
    "    [0, 1], \n",
    "    np.array([[1, 2], [3, 4], [5, 6]]), \n",
    "    axis=0)"
   ]
  },
  {
   "cell_type": "markdown",
   "id": "b1ddef02",
   "metadata": {},
   "source": [
    "# concat\n",
    "- Join a sequence of arrays along an existing axis."
   ]
  },
  {
   "cell_type": "code",
   "execution_count": 189,
   "id": "47f5990e",
   "metadata": {},
   "outputs": [
    {
     "data": {
      "text/plain": [
       "array([[1, 2, 3, 4],\n",
       "       [5, 6, 7, 8]])"
      ]
     },
     "execution_count": 189,
     "metadata": {},
     "output_type": "execute_result"
    }
   ],
   "source": [
    "np.concat(\n",
    "    (np.array([[1, 2], [5, 6]]),\n",
    "    np.array([[3,4], [7, 8]])\n",
    "    ), axis=1\n",
    ")"
   ]
  },
  {
   "cell_type": "markdown",
   "id": "aabf864e",
   "metadata": {},
   "source": [
    "# concatenate\n",
    "- same a concat. they are essentially the same function"
   ]
  },
  {
   "cell_type": "code",
   "execution_count": 190,
   "id": "b9c9beff",
   "metadata": {},
   "outputs": [
    {
     "data": {
      "text/plain": [
       "array([[1, 2],\n",
       "       [5, 6],\n",
       "       [3, 4],\n",
       "       [7, 8]])"
      ]
     },
     "execution_count": 190,
     "metadata": {},
     "output_type": "execute_result"
    }
   ],
   "source": [
    "np.concat(\n",
    "    (np.array([[1, 2], [5, 6]]),\n",
    "    np.array([[3,4], [7, 8]])\n",
    "    ), axis=0\n",
    ")"
   ]
  },
  {
   "cell_type": "markdown",
   "id": "aeeb3caa",
   "metadata": {},
   "source": [
    "# conj\n",
    "- Return the complex conjugate, element-wise."
   ]
  },
  {
   "cell_type": "code",
   "execution_count": 191,
   "id": "d612099a",
   "metadata": {},
   "outputs": [
    {
     "data": {
      "text/plain": [
       "np.complex128(1-2j)"
      ]
     },
     "execution_count": 191,
     "metadata": {},
     "output_type": "execute_result"
    }
   ],
   "source": [
    "np.conj(1+2j)"
   ]
  },
  {
   "cell_type": "markdown",
   "id": "56a66fc7",
   "metadata": {},
   "source": [
    "# conjugate\n",
    "- Same as conj. They are essentially the same function"
   ]
  },
  {
   "cell_type": "code",
   "execution_count": 192,
   "id": "1f8c43b9",
   "metadata": {},
   "outputs": [
    {
     "data": {
      "text/plain": [
       "np.complex128(1-4j)"
      ]
     },
     "execution_count": 192,
     "metadata": {},
     "output_type": "execute_result"
    }
   ],
   "source": [
    "np.conjugate(1+4j)"
   ]
  },
  {
   "cell_type": "markdown",
   "id": "972ac338",
   "metadata": {},
   "source": [
    "# convolve\n",
    "- Returns the discrete, linear convolution of two one-dimensional sequences.\n",
    "- The convolution operator is often seen in signal processing, where it models the effect of a linear time-invariant system on a signal [1]. In probability theory, the sum of two independent random variables is distributed according to the convolution of their individual distributions.\n",
    "- Notes: works for 1d array **ONLY**"
   ]
  },
  {
   "cell_type": "code",
   "execution_count": 198,
   "id": "f544dc10",
   "metadata": {},
   "outputs": [
    {
     "name": "stdout",
     "output_type": "stream",
     "text": [
      "[ 4 13 28 27 18]\n",
      "[0.01 0.03 0.07 0.09 0.19 0.37 0.73 0.91 1.   0.91 0.73 0.36 0.16 0.03\n",
      " 0.01]\n"
     ]
    }
   ],
   "source": [
    "print(np.convolve(\n",
    "    np.array([1, 2, 3]),\n",
    "    np.array([4, 5, 6])\n",
    "))\n",
    "print(np.convolve(\n",
    "    np.array([.1, .1, .1, .1, 1, 1, 1, 1, 1, .1, .1]),\n",
    "    np.array([.1, .2, .4, .2, .1])\n",
    "))"
   ]
  },
  {
   "cell_type": "markdown",
   "id": "7030296e",
   "metadata": {},
   "source": [
    "# copy\n",
    "- Return an array copy of the given object."
   ]
  },
  {
   "cell_type": "code",
   "execution_count": 199,
   "id": "1f1b2986",
   "metadata": {},
   "outputs": [
    {
     "name": "stdout",
     "output_type": "stream",
     "text": [
      "[1 2 3]\n"
     ]
    }
   ],
   "source": [
    "x = np.array([1, 2, 3])\n",
    "y = x\n",
    "z = np.copy(x)\n",
    "print(z)"
   ]
  },
  {
   "cell_type": "markdown",
   "id": "58fb24cc",
   "metadata": {},
   "source": [
    "# copysign\n",
    "- Change the sign of x1 to that of x2, element-wise."
   ]
  },
  {
   "cell_type": "code",
   "execution_count": 200,
   "id": "5ca1d290",
   "metadata": {},
   "outputs": [
    {
     "name": "stdout",
     "output_type": "stream",
     "text": [
      "-1.3\n"
     ]
    }
   ],
   "source": [
    "print(np.copysign(1.3, -1))"
   ]
  },
  {
   "cell_type": "markdown",
   "id": "d6515d72",
   "metadata": {},
   "source": [
    "# copyto\n",
    "- Copies values from one array to another, broadcasting as necessary."
   ]
  },
  {
   "cell_type": "code",
   "execution_count": 207,
   "id": "039b0cdb",
   "metadata": {},
   "outputs": [
    {
     "name": "stdout",
     "output_type": "stream",
     "text": [
      "[1 2 3]\n"
     ]
    }
   ],
   "source": [
    "a = np.array([1, 2, 3])\n",
    "b = np.array([0, 0,0])\n",
    "np.copyto(\n",
    "    b, a\n",
    "    \n",
    ")\n",
    "print(b)"
   ]
  },
  {
   "cell_type": "markdown",
   "id": "8b063c9d",
   "metadata": {},
   "source": [
    "# corrcoef\n",
    "- Return Pearson product-moment correlation coefficients."
   ]
  },
  {
   "cell_type": "code",
   "execution_count": 208,
   "id": "c679a449",
   "metadata": {},
   "outputs": [
    {
     "data": {
      "text/plain": [
       "array([[1., 1., 1.],\n",
       "       [1., 1., 1.],\n",
       "       [1., 1., 1.]])"
      ]
     },
     "execution_count": 208,
     "metadata": {},
     "output_type": "execute_result"
    }
   ],
   "source": [
    "np.corrcoef(\n",
    "    np.arange(9).reshape((3, 3))\n",
    ")"
   ]
  },
  {
   "cell_type": "markdown",
   "id": "646de87f",
   "metadata": {},
   "source": [
    "# correlate\n",
    "- Cross-correlation of two 1-dimensional sequences."
   ]
  },
  {
   "cell_type": "code",
   "execution_count": 209,
   "id": "1e77d3fa",
   "metadata": {},
   "outputs": [
    {
     "data": {
      "text/plain": [
       "array([3, 5, 3])"
      ]
     },
     "execution_count": 209,
     "metadata": {},
     "output_type": "execute_result"
    }
   ],
   "source": [
    "np.correlate(\n",
    "    np.array([1, 2, 3]),\n",
    "    np.array([0, 1, 1]),\n",
    "    'same'\n",
    ")"
   ]
  },
  {
   "cell_type": "markdown",
   "id": "ad348fb8",
   "metadata": {},
   "source": [
    "# cos\n",
    "- Cosine element-wise."
   ]
  },
  {
   "cell_type": "code",
   "execution_count": 210,
   "id": "553bdc28",
   "metadata": {},
   "outputs": [
    {
     "data": {
      "text/plain": [
       "array([1.        , 0.54030231])"
      ]
     },
     "execution_count": 210,
     "metadata": {},
     "output_type": "execute_result"
    }
   ],
   "source": [
    "np.cos(np.array([0, 1]))"
   ]
  },
  {
   "cell_type": "markdown",
   "id": "5ea46e93",
   "metadata": {},
   "source": [
    "# cosh\n",
    "- Hyperbolic cosine, element-wise.\n",
    "- Equivalent to 1/2 * (np.exp(x) + np.exp(-x)) and np.cos(1j*x)."
   ]
  },
  {
   "cell_type": "code",
   "execution_count": 211,
   "id": "c7b385b2",
   "metadata": {},
   "outputs": [
    {
     "data": {
      "text/plain": [
       "array([1.54308063, 1.12762597])"
      ]
     },
     "execution_count": 211,
     "metadata": {},
     "output_type": "execute_result"
    }
   ],
   "source": [
    "np.cosh(np.array([1, 0.5]))"
   ]
  },
  {
   "cell_type": "markdown",
   "id": "e3eecfc2",
   "metadata": {},
   "source": [
    "# count_nonzero\n",
    "- Counts the number of non-zero values in the array a."
   ]
  },
  {
   "cell_type": "code",
   "execution_count": 212,
   "id": "04c508be",
   "metadata": {},
   "outputs": [
    {
     "data": {
      "text/plain": [
       "4"
      ]
     },
     "execution_count": 212,
     "metadata": {},
     "output_type": "execute_result"
    }
   ],
   "source": [
    "np.count_nonzero(np.eye(4))"
   ]
  },
  {
   "cell_type": "markdown",
   "id": "873a0e95",
   "metadata": {},
   "source": [
    "# cov\n",
    "- Estimate a covariance matrix, given data and weights."
   ]
  },
  {
   "cell_type": "code",
   "execution_count": 215,
   "id": "47d60f88",
   "metadata": {},
   "outputs": [
    {
     "data": {
      "text/plain": [
       "array([[ 2.,  0., -2.],\n",
       "       [ 0.,  0.,  0.],\n",
       "       [-2.,  0.,  2.]])"
      ]
     },
     "execution_count": 215,
     "metadata": {},
     "output_type": "execute_result"
    }
   ],
   "source": [
    "np.cov(\n",
    "    np.array([\n",
    "        [0, 2],\n",
    "        [1, 1],\n",
    "        [2, 0]]\n",
    "    )\n",
    ")"
   ]
  },
  {
   "cell_type": "markdown",
   "id": "51fb0409",
   "metadata": {},
   "source": [
    "# cross\n",
    "- Return the cross product of two (arrays of) vectors."
   ]
  },
  {
   "cell_type": "code",
   "execution_count": 216,
   "id": "8a036ae6",
   "metadata": {},
   "outputs": [
    {
     "data": {
      "text/plain": [
       "array([-3,  6, -3])"
      ]
     },
     "execution_count": 216,
     "metadata": {},
     "output_type": "execute_result"
    }
   ],
   "source": [
    "np.cross(\n",
    "    np.array([1, 2, 3]),\n",
    "    np.array([4, 5, 6])\n",
    ")"
   ]
  },
  {
   "cell_type": "markdown",
   "id": "b5710d98",
   "metadata": {},
   "source": [
    "# cumprod\n",
    "- Return the cumulative product of elements along a given axis."
   ]
  },
  {
   "cell_type": "code",
   "execution_count": 217,
   "id": "fd3d8844",
   "metadata": {},
   "outputs": [
    {
     "data": {
      "text/plain": [
       "array([1, 2, 6])"
      ]
     },
     "execution_count": 217,
     "metadata": {},
     "output_type": "execute_result"
    }
   ],
   "source": [
    "np.cumprod(\n",
    "    np.array([1, 2, 3])\n",
    ")"
   ]
  },
  {
   "cell_type": "markdown",
   "id": "43fc427b",
   "metadata": {},
   "source": [
    "# cumsum\n",
    "- Return the cumulative sum of the elements along a given axis."
   ]
  },
  {
   "cell_type": "code",
   "execution_count": 218,
   "id": "055cff02",
   "metadata": {},
   "outputs": [
    {
     "data": {
      "text/plain": [
       "array([ 1,  3,  6, 10, 15, 21])"
      ]
     },
     "execution_count": 218,
     "metadata": {},
     "output_type": "execute_result"
    }
   ],
   "source": [
    "np.cumsum(\n",
    "    np.array([\n",
    "        [1, 2, 3],\n",
    "        [4, 5, 6]\n",
    "    ])\n",
    ")"
   ]
  },
  {
   "cell_type": "markdown",
   "id": "034f2c81",
   "metadata": {},
   "source": [
    "# cumulative_prod\n",
    "- Return the cumulative product of elements along a given axis.\n",
    "- essentially the same as cumprod"
   ]
  },
  {
   "cell_type": "code",
   "execution_count": 220,
   "id": "f916630c",
   "metadata": {},
   "outputs": [
    {
     "data": {
      "text/plain": [
       "array([1, 2, 6])"
      ]
     },
     "execution_count": 220,
     "metadata": {},
     "output_type": "execute_result"
    }
   ],
   "source": [
    "np.cumulative_prod(\n",
    "    np.array([1, 2, 3])\n",
    ")"
   ]
  },
  {
   "cell_type": "markdown",
   "id": "a0969ca4",
   "metadata": {},
   "source": [
    "# cumulative_sum\n",
    "- Return the cumulative sum of the elements along a given axis.\n",
    "- for 2d arrays and above, axis is required\n"
   ]
  },
  {
   "cell_type": "code",
   "execution_count": 222,
   "id": "07673feb",
   "metadata": {},
   "outputs": [
    {
     "data": {
      "text/plain": [
       "array([[ 1,  2,  3],\n",
       "       [11, 22, 33]])"
      ]
     },
     "execution_count": 222,
     "metadata": {},
     "output_type": "execute_result"
    }
   ],
   "source": [
    "np.cumulative_sum(\n",
    "    np.array([\n",
    "        [1, 2, 3],\n",
    "        [10, 20, 30]\n",
    "    ]),\n",
    "    axis=0\n",
    ")"
   ]
  },
  {
   "cell_type": "markdown",
   "id": "18ab0a12",
   "metadata": {},
   "source": [
    "# datetime64\n",
    "- If created from a 64-bit integer, it represents an offset from 1970-01-01T00:00:00. If created from string, the string can be in ISO 8601 date or datetime format."
   ]
  },
  {
   "cell_type": "code",
   "execution_count": 223,
   "id": "5241bf51",
   "metadata": {},
   "outputs": [
    {
     "data": {
      "text/plain": [
       "np.datetime64('2020')"
      ]
     },
     "execution_count": 223,
     "metadata": {},
     "output_type": "execute_result"
    }
   ],
   "source": [
    "np.datetime64(50, 'Y')"
   ]
  },
  {
   "cell_type": "markdown",
   "id": "6081f01b",
   "metadata": {},
   "source": [
    "# datetime_as_string\n",
    "- Convert an array of datetimes into an array of strings."
   ]
  },
  {
   "cell_type": "code",
   "execution_count": 224,
   "id": "e619f889",
   "metadata": {},
   "outputs": [
    {
     "data": {
      "text/plain": [
       "array(['2002-10-27T04:30Z', '2002-10-27T05:30Z', '2002-10-27T06:30Z',\n",
       "       '2002-10-27T07:30Z'], dtype='<U35')"
      ]
     },
     "execution_count": 224,
     "metadata": {},
     "output_type": "execute_result"
    }
   ],
   "source": [
    "np.datetime_as_string(\n",
    "    np.arange('2002-10-27T04:30', 4*60, 60, dtype='M8[m]'), timezone='UTC'\n",
    ")"
   ]
  },
  {
   "cell_type": "markdown",
   "id": "d6ca9dcf",
   "metadata": {},
   "source": [
    "# datetime_data\n",
    "- Get information about the step size of a date or time type."
   ]
  },
  {
   "cell_type": "code",
   "execution_count": 229,
   "id": "721171ec",
   "metadata": {},
   "outputs": [
    {
     "data": {
      "text/plain": [
       "('generic', 1)"
      ]
     },
     "execution_count": 229,
     "metadata": {},
     "output_type": "execute_result"
    }
   ],
   "source": [
    "np.datetime_data(\n",
    "    np.dtype('M')\n",
    ")"
   ]
  },
  {
   "cell_type": "markdown",
   "id": "bad3748d",
   "metadata": {},
   "source": [
    "# deg2rad\n",
    "- converts angles from degreee to radians"
   ]
  },
  {
   "cell_type": "code",
   "execution_count": 231,
   "id": "bb6e8ce6",
   "metadata": {},
   "outputs": [
    {
     "data": {
      "text/plain": [
       "np.float64(0.7853981633974483)"
      ]
     },
     "execution_count": 231,
     "metadata": {},
     "output_type": "execute_result"
    }
   ],
   "source": [
    "np.deg2rad(45)"
   ]
  },
  {
   "cell_type": "markdown",
   "id": "5ad0dba2",
   "metadata": {},
   "source": [
    "# degrees\n",
    "- Convert angles from radians to degrees."
   ]
  },
  {
   "cell_type": "code",
   "execution_count": 232,
   "id": "d5319f0f",
   "metadata": {},
   "outputs": [
    {
     "data": {
      "text/plain": [
       "array([  0.,  30.,  60.,  90., 120., 150., 180., 210., 240., 270., 300.,\n",
       "       330.])"
      ]
     },
     "execution_count": 232,
     "metadata": {},
     "output_type": "execute_result"
    }
   ],
   "source": [
    "np.degrees(\n",
    "    np.arange(12.) * np.pi/6\n",
    ")"
   ]
  },
  {
   "cell_type": "markdown",
   "id": "72d67fcc",
   "metadata": {},
   "source": [
    "# diag\n",
    "- Extract a diagonal or construct a diagonal array."
   ]
  },
  {
   "cell_type": "code",
   "execution_count": 233,
   "id": "602c2d57",
   "metadata": {},
   "outputs": [
    {
     "data": {
      "text/plain": [
       "array([[0, 0, 0],\n",
       "       [0, 1, 0],\n",
       "       [0, 0, 2]])"
      ]
     },
     "execution_count": 233,
     "metadata": {},
     "output_type": "execute_result"
    }
   ],
   "source": [
    "np.diag(\n",
    "    np.arange(3)\n",
    ")"
   ]
  },
  {
   "cell_type": "markdown",
   "id": "35ca2a68",
   "metadata": {},
   "source": [
    "# diag_indices\n",
    "- Return the indices to access the main diagonal of an array."
   ]
  },
  {
   "cell_type": "code",
   "execution_count": 236,
   "id": "af8c0d2e",
   "metadata": {},
   "outputs": [
    {
     "data": {
      "text/plain": [
       "(array([0, 1, 2, 3]), array([0, 1, 2, 3]))"
      ]
     },
     "execution_count": 236,
     "metadata": {},
     "output_type": "execute_result"
    }
   ],
   "source": [
    "np.diag_indices(4)"
   ]
  },
  {
   "cell_type": "markdown",
   "id": "95c84902",
   "metadata": {},
   "source": [
    "# diag_indices_from\n",
    "- Return the indices to access the main diagonal of an n-dimensional array."
   ]
  },
  {
   "cell_type": "code",
   "execution_count": 237,
   "id": "16b1727d",
   "metadata": {},
   "outputs": [
    {
     "data": {
      "text/plain": [
       "(array([0, 1, 2]), array([0, 1, 2]))"
      ]
     },
     "execution_count": 237,
     "metadata": {},
     "output_type": "execute_result"
    }
   ],
   "source": [
    "np.diag_indices_from(\n",
    "    np.arange(9).reshape(3, 3)\n",
    ")"
   ]
  },
  {
   "cell_type": "markdown",
   "id": "2b7f61da",
   "metadata": {},
   "source": [
    "# diagflat\n",
    "- Create a two-dimensional array with the flattened input as a diagonal."
   ]
  },
  {
   "cell_type": "code",
   "execution_count": 238,
   "id": "d033e4fd",
   "metadata": {},
   "outputs": [
    {
     "data": {
      "text/plain": [
       "array([[1, 0, 0, 0],\n",
       "       [0, 2, 0, 0],\n",
       "       [0, 0, 3, 0],\n",
       "       [0, 0, 0, 4]])"
      ]
     },
     "execution_count": 238,
     "metadata": {},
     "output_type": "execute_result"
    }
   ],
   "source": [
    "np.diagflat(\n",
    "    np.array([[1, 2], [3, 4]])\n",
    ")"
   ]
  },
  {
   "cell_type": "markdown",
   "id": "16105e48",
   "metadata": {},
   "source": [
    "# diagonal\n",
    "- Return specified diagonals.\n",
    "\n",
    "If a is 2-D, returns the diagonal of a with the given offset, i.e., the collection of elements of the form a[i, i+offset]. If a has more than two dimensions, then the axes specified by axis1 and axis2 are used to determine the 2-D sub-array whose diagonal is returned. The shape of the resulting array can be determined by removing axis1 and axis2 and appending an index to the right equal to the size of the resulting diagonals."
   ]
  },
  {
   "cell_type": "code",
   "execution_count": 241,
   "id": "1c3b1214",
   "metadata": {},
   "outputs": [
    {
     "data": {
      "text/plain": [
       "array([0, 4, 8])"
      ]
     },
     "execution_count": 241,
     "metadata": {},
     "output_type": "execute_result"
    }
   ],
   "source": [
    "np.arange(9).reshape(3, 3).diagonal()"
   ]
  },
  {
   "cell_type": "markdown",
   "id": "73e49b96",
   "metadata": {},
   "source": [
    "# diff\n",
    "- Calculate the n-th discrete difference along the given axis.\n",
    "- The first difference is given by out[i] = a[i+1] - a[i] along the given axis, higher differences are calculated by using diff recursively."
   ]
  },
  {
   "cell_type": "code",
   "execution_count": 242,
   "id": "21c29aed",
   "metadata": {},
   "outputs": [
    {
     "data": {
      "text/plain": [
       "array([2, 1, 1, 4, 1])"
      ]
     },
     "execution_count": 242,
     "metadata": {},
     "output_type": "execute_result"
    }
   ],
   "source": [
    "np.diff(\n",
    "    np.array([1, 3, 4, 5, 9, 10])\n",
    ")"
   ]
  },
  {
   "cell_type": "markdown",
   "id": "2b2da8e6",
   "metadata": {},
   "source": [
    "# digitize\n",
    "- Return the indices of the bins to which each value in input array belongs."
   ]
  },
  {
   "cell_type": "code",
   "execution_count": 244,
   "id": "53814d93",
   "metadata": {},
   "outputs": [
    {
     "name": "stdout",
     "output_type": "stream",
     "text": [
      "[1 2 3 4 4 5]\n",
      "[1 3 3 4 5 5]\n"
     ]
    }
   ],
   "source": [
    "x = np.array([1.2, 10.0, 12.4, 15.5, 20., 25])\n",
    "bins = np.array([0, 5, 10, 15, 20])\n",
    "print(np.digitize(x,bins,right=True))\n",
    "print(np.digitize(x,bins,right=False))"
   ]
  },
  {
   "cell_type": "markdown",
   "id": "4d50825f",
   "metadata": {},
   "source": [
    "# divide\n",
    "- Divide arguments element-wise."
   ]
  },
  {
   "cell_type": "code",
   "execution_count": 246,
   "id": "3702ecb5",
   "metadata": {},
   "outputs": [
    {
     "data": {
      "text/plain": [
       "array([[0.        , 0.5       , 0.66666667],\n",
       "       [3.        , 2.        , 1.66666667],\n",
       "       [6.        , 3.5       , 2.66666667]])"
      ]
     },
     "execution_count": 246,
     "metadata": {},
     "output_type": "execute_result"
    }
   ],
   "source": [
    "np.divide(\n",
    "    np.arange(9.0).reshape(3, 3),\n",
    "    np.array([1, 2, 3])\n",
    ")"
   ]
  },
  {
   "cell_type": "markdown",
   "id": "d542fcdc",
   "metadata": {},
   "source": [
    "# divmod\n",
    "- Return element-wise quotient and remainder simultaneously."
   ]
  },
  {
   "cell_type": "code",
   "execution_count": 247,
   "id": "60e80857",
   "metadata": {},
   "outputs": [
    {
     "data": {
      "text/plain": [
       "(array([[0., 0., 0.],\n",
       "        [3., 2., 1.],\n",
       "        [6., 3., 2.]]),\n",
       " array([[0., 1., 2.],\n",
       "        [0., 0., 2.],\n",
       "        [0., 1., 2.]]))"
      ]
     },
     "execution_count": 247,
     "metadata": {},
     "output_type": "execute_result"
    }
   ],
   "source": [
    "np.divmod(\n",
    "    np.arange(9.0).reshape(3, 3),\n",
    "    np.array([1, 2, 3])\n",
    ")"
   ]
  },
  {
   "cell_type": "markdown",
   "id": "f024c7e6",
   "metadata": {},
   "source": [
    "# dot\n",
    "- Dot product of two arrays."
   ]
  },
  {
   "cell_type": "code",
   "execution_count": 248,
   "id": "7d7750e5",
   "metadata": {},
   "outputs": [
    {
     "data": {
      "text/plain": [
       "array([[ 5,  5,  5],\n",
       "       [11, 11, 11]])"
      ]
     },
     "execution_count": 248,
     "metadata": {},
     "output_type": "execute_result"
    }
   ],
   "source": [
    "np.dot(\n",
    "    np.array([[1, 2], [3, 4]]),\n",
    "    np.array([[1, 1, 1], [2, 2, 2]])\n",
    ")"
   ]
  },
  {
   "cell_type": "markdown",
   "id": "37d059b7",
   "metadata": {},
   "source": [
    "# dsplit\n",
    "- Split array into multiple sub-arrays along the 3rd axis (depth).\n",
    "- dsplit is equivalent to split with axis=2"
   ]
  },
  {
   "cell_type": "code",
   "execution_count": 251,
   "id": "373857a8",
   "metadata": {},
   "outputs": [
    {
     "data": {
      "text/plain": [
       "[array([[[ 0,  1],\n",
       "         [ 4,  5]],\n",
       " \n",
       "        [[ 8,  9],\n",
       "         [12, 13]]]),\n",
       " array([[[ 2,  3],\n",
       "         [ 6,  7]],\n",
       " \n",
       "        [[10, 11],\n",
       "         [14, 15]]])]"
      ]
     },
     "execution_count": 251,
     "metadata": {},
     "output_type": "execute_result"
    }
   ],
   "source": [
    "np.dsplit(\n",
    "    np.arange(16).reshape(2, 2, 4), 2\n",
    ")"
   ]
  },
  {
   "cell_type": "markdown",
   "id": "15969ed2",
   "metadata": {},
   "source": [
    "# dstack\n",
    "- Stack arrays in sequence depth wise (along third axis).\n",
    "- This is equivalent to concatenation along the third axis after 2-D arrays of shape (M,N) have been reshaped to (M,N,1) and 1-D arrays of shape (N,) have been reshaped to (1,N,1). Rebuilds arrays divided by dsplit.\n",
    "- This function makes most sense for arrays with up to 3 dimensions. For instance, for pixel-data with a height (first axis), width (second axis), and r/g/b channels (third axis). The functions concatenate, stack and block provide more general stacking and concatenation operations."
   ]
  },
  {
   "cell_type": "code",
   "execution_count": 254,
   "id": "1a61ac5b",
   "metadata": {},
   "outputs": [
    {
     "data": {
      "text/plain": [
       "array([[[1, 2],\n",
       "        [2, 3],\n",
       "        [3, 4]]])"
      ]
     },
     "execution_count": 254,
     "metadata": {},
     "output_type": "execute_result"
    }
   ],
   "source": [
    "np.dstack(\n",
    "    (np.array([1, 2, 3]),\n",
    "    np.array([2, 3, 4]))\n",
    ")"
   ]
  },
  {
   "cell_type": "markdown",
   "id": "8e42f7f4",
   "metadata": {},
   "source": [
    "# dtype\n",
    "- A data type object (an instance of numpy.dtype class) describes how the bytes in the fixed-size block of memory corresponding to an array item should be interpreted. It describes the following aspects of the data:\n",
    "- '?': boolean\n",
    "- 'b': (signed) byte\n",
    "- 'B': unsigned byte\n",
    "- 'i': (signed) integer\n",
    "- 'u': unsigned integer\n",
    "- 'f': floating-point\n",
    "- 'c': complex-floating point\n",
    "- 'm': timedelta\n",
    "- 'M': datetime\n",
    "- 'O': (Python) objects\n",
    "- 'S', 'a': zero-terminated bytes (not recommended)\n",
    "- 'U': Unicode string\n",
    "- 'V': raw data (void)\n"
   ]
  },
  {
   "cell_type": "code",
   "execution_count": 230,
   "id": "2ae348db",
   "metadata": {},
   "outputs": [
    {
     "name": "stdout",
     "output_type": "stream",
     "text": [
      "int32\n",
      "float64\n",
      "complex128\n",
      "|S25\n",
      "<U25\n"
     ]
    }
   ],
   "source": [
    "print( np.dtype('i4'))   # 32-bit signed integer\n",
    "print(np.dtype('f8'))  # 64-bit floating-point number\n",
    "print(np.dtype('c16'))  # 128-bit complex floating-point number\n",
    "print(np.dtype('S25'))  # 25-length zero-terminated bytes\n",
    "print(np.dtype('U25'))  # 25-character string"
   ]
  },
  {
   "cell_type": "markdown",
   "id": "9886d6f3",
   "metadata": {},
   "source": [
    "# ediff1d\n",
    "- The differences between consecutive elements of an array."
   ]
  },
  {
   "cell_type": "code",
   "execution_count": 255,
   "id": "367e26a3",
   "metadata": {},
   "outputs": [
    {
     "data": {
      "text/plain": [
       "array([1, 1, 1, 6])"
      ]
     },
     "execution_count": 255,
     "metadata": {},
     "output_type": "execute_result"
    }
   ],
   "source": [
    "np.ediff1d(\n",
    "    np.array([1, 2, 3, 4, 10])\n",
    ")"
   ]
  },
  {
   "cell_type": "markdown",
   "id": "f80f5065",
   "metadata": {},
   "source": [
    "# einsum\n",
    "- Evaluates the Einstein summation convention on the operands.\n",
    "- Using the Einstein summation convention, many common multi-dimensional, linear algebraic array operations can be represented in a simple fashion. In implicit mode einsum computes these values.\n",
    "- In explicit mode, einsum provides further flexibility to compute other array operations that might not be considered classical Einstein summation operations, by disabling, or forcing summation over specified subscript labels."
   ]
  },
  {
   "cell_type": "code",
   "execution_count": 258,
   "id": "9605e883",
   "metadata": {},
   "outputs": [
    {
     "data": {
      "text/plain": [
       "array([0, 3])"
      ]
     },
     "execution_count": 258,
     "metadata": {},
     "output_type": "execute_result"
    }
   ],
   "source": [
    "np.einsum(\n",
    "    'ii->i',\n",
    "    np.arange(4).reshape(2, 2)\n",
    ")"
   ]
  },
  {
   "cell_type": "markdown",
   "id": "5ece721f",
   "metadata": {},
   "source": [
    "# einsum_path\n",
    "- Evaluates the lowest cost contraction order for an einsum expression by considering the creation of intermediate arrays."
   ]
  },
  {
   "cell_type": "code",
   "execution_count": 259,
   "id": "03fabebb",
   "metadata": {},
   "outputs": [
    {
     "name": "stdout",
     "output_type": "stream",
     "text": [
      "['einsum_path', (1, 2), (0, 1)]\n",
      "  Complete contraction:  ij,jk,kl->il\n",
      "         Naive scaling:  4\n",
      "     Optimized scaling:  3\n",
      "      Naive FLOP count:  1.200e+02\n",
      "  Optimized FLOP count:  5.700e+01\n",
      "   Theoretical speedup:  2.105\n",
      "  Largest intermediate:  4.000e+00 elements\n",
      "--------------------------------------------------------------------------\n",
      "scaling                  current                                remaining\n",
      "--------------------------------------------------------------------------\n",
      "   3                   kl,jk->jl                                ij,jl->il\n",
      "   3                   jl,ij->il                                   il->il\n"
     ]
    }
   ],
   "source": [
    "np.random.seed(123)\n",
    "a = np.random.rand(2, 2)\n",
    "b = np.random.rand(2, 5)\n",
    "c = np.random.rand(5, 2)\n",
    "path_info = np.einsum_path('ij,jk,kl->il', a, b, c, optimize='greedy')\n",
    "print(path_info[0])\n",
    "print(path_info[1])"
   ]
  },
  {
   "cell_type": "markdown",
   "id": "c4413f3c",
   "metadata": {},
   "source": [
    "# empty\n",
    "- Return a new array of given shape and type, without initializing entries."
   ]
  },
  {
   "cell_type": "code",
   "execution_count": 260,
   "id": "8029b91a",
   "metadata": {},
   "outputs": [
    {
     "data": {
      "text/plain": [
       "array([[1. , 1. , 4. ],\n",
       "       [2.5, 7. , 4. ]])"
      ]
     },
     "execution_count": 260,
     "metadata": {},
     "output_type": "execute_result"
    }
   ],
   "source": [
    "np.empty([2, 3])"
   ]
  },
  {
   "cell_type": "markdown",
   "id": "d756072e",
   "metadata": {},
   "source": [
    "# empty_like\n",
    "- Return a new array with the same shape and type as a given array.\n",
    "- Notes: empty just need shape, while empty requires a **given array**."
   ]
  },
  {
   "cell_type": "code",
   "execution_count": 262,
   "id": "6b0ec4e5",
   "metadata": {},
   "outputs": [
    {
     "data": {
      "text/plain": [
       "array([[0, 1],\n",
       "       [2, 3]])"
      ]
     },
     "execution_count": 262,
     "metadata": {},
     "output_type": "execute_result"
    }
   ],
   "source": [
    "np.empty_like(\n",
    "    np.arange(4).reshape(2, 2)\n",
    ")"
   ]
  },
  {
   "cell_type": "markdown",
   "id": "c0dfab9d",
   "metadata": {},
   "source": [
    "# equal\n",
    "- Return (x1 == x2) element-wise."
   ]
  },
  {
   "cell_type": "code",
   "execution_count": 263,
   "id": "fad5b98c",
   "metadata": {},
   "outputs": [
    {
     "data": {
      "text/plain": [
       "array([ True,  True, False])"
      ]
     },
     "execution_count": 263,
     "metadata": {},
     "output_type": "execute_result"
    }
   ],
   "source": [
    "np.equal([0, 1, 3], np.arange(3))\n"
   ]
  },
  {
   "cell_type": "markdown",
   "id": "b82851a6",
   "metadata": {},
   "source": [
    "# errstate\n",
    "- Context manager for floating-point error handling.\n",
    "- Using an instance of errstate as a context manager allows statements in that context to execute with a known error handling behavior. Upon entering the context the error handling is set with seterr and seterrcall, and upon exiting it is reset to what it was before."
   ]
  },
  {
   "cell_type": "code",
   "execution_count": 265,
   "id": "ab1dc638",
   "metadata": {},
   "outputs": [],
   "source": [
    "with np.errstate(all='ignore'):\n",
    "    np.arange(3) / 0"
   ]
  },
  {
   "cell_type": "markdown",
   "id": "9aa79320",
   "metadata": {},
   "source": [
    "# exp\n",
    "- Calculate the exponential of all elements in the input array.\n",
    "- The irrational number e is also known as Euler’s number. It is approximately 2.718281, and is the base of the natural logarithm\n",
    "- e^x"
   ]
  },
  {
   "cell_type": "code",
   "execution_count": 267,
   "id": "e69ba186",
   "metadata": {},
   "outputs": [
    {
     "data": {
      "text/plain": [
       "array([  2.71828183,   7.3890561 ,  20.08553692,  54.59815003,\n",
       "       148.4131591 ])"
      ]
     },
     "execution_count": 267,
     "metadata": {},
     "output_type": "execute_result"
    }
   ],
   "source": [
    "np.exp(\n",
    "    np.array([1, 2, 3, 4, 5])\n",
    ")"
   ]
  },
  {
   "cell_type": "markdown",
   "id": "afc755bc",
   "metadata": {},
   "source": [
    "# exp2\n",
    "- Calculate 2**p for all p in the input array."
   ]
  },
  {
   "cell_type": "code",
   "execution_count": 268,
   "id": "88987644",
   "metadata": {},
   "outputs": [
    {
     "data": {
      "text/plain": [
       "array([ 4.,  8., 16., 32., 64.])"
      ]
     },
     "execution_count": 268,
     "metadata": {},
     "output_type": "execute_result"
    }
   ],
   "source": [
    "np.exp2(\n",
    "    np.array([2, 3, 4, 5, 6])\n",
    ")"
   ]
  },
  {
   "cell_type": "markdown",
   "id": "dfe97654",
   "metadata": {},
   "source": [
    "# expand_dims\n",
    "- Expand the shape of an array.\n",
    "- Insert a new axis that will appear at the axis position in the expanded array shape."
   ]
  },
  {
   "cell_type": "code",
   "execution_count": 270,
   "id": "159f56a4",
   "metadata": {},
   "outputs": [
    {
     "data": {
      "text/plain": [
       "array([[1, 2]])"
      ]
     },
     "execution_count": 270,
     "metadata": {},
     "output_type": "execute_result"
    }
   ],
   "source": [
    "np.expand_dims(\n",
    "    np.array([1, 2]), axis=0\n",
    ")"
   ]
  },
  {
   "cell_type": "markdown",
   "id": "2bd997c1",
   "metadata": {},
   "source": [
    "# expm1\n",
    "- Calculate exp(x) - 1 for all elements in the array.\n",
    "- Use np.expm1(x) when you need to calculate \\(e^{x}-1\\) and \\(x\\) might be a small number (close to zero). In such cases, np.exp(x) - 1 can suffer from catastrophic cancellation due to the subtraction of two nearly equal numbers, leading to a loss of precision. np.expm1() is designed to mitigate this issue and provide a more accurate result for small \\(x\\)."
   ]
  },
  {
   "cell_type": "code",
   "execution_count": 271,
   "id": "b06d4911",
   "metadata": {},
   "outputs": [
    {
     "data": {
      "text/plain": [
       "np.float64(1.000000005e-08)"
      ]
     },
     "execution_count": 271,
     "metadata": {},
     "output_type": "execute_result"
    }
   ],
   "source": [
    "np.expm1(\n",
    "    1e-8\n",
    ")"
   ]
  },
  {
   "cell_type": "code",
   "execution_count": 272,
   "id": "04d0f26e",
   "metadata": {},
   "outputs": [
    {
     "data": {
      "text/plain": [
       "np.float64(9.99999993922529e-09)"
      ]
     },
     "execution_count": 272,
     "metadata": {},
     "output_type": "execute_result"
    }
   ],
   "source": [
    "np.exp(1e-8) - 1"
   ]
  },
  {
   "cell_type": "markdown",
   "id": "13c7b5fd",
   "metadata": {},
   "source": [
    "# extract\n",
    "- Return the elements of an array that satisfy some condition.\n",
    "- This is equivalent to np.compress(ravel(condition), ravel(arr)). If condition is boolean np.extract is equivalent to arr[condition]."
   ]
  },
  {
   "cell_type": "code",
   "execution_count": 274,
   "id": "391fcefd",
   "metadata": {},
   "outputs": [
    {
     "name": "stdout",
     "output_type": "stream",
     "text": [
      "[[ 0  1  2  3]\n",
      " [ 4  5  6  7]\n",
      " [ 8  9 10 11]]\n",
      "[[ True False False  True]\n",
      " [False False  True False]\n",
      " [False  True False False]]\n"
     ]
    },
    {
     "data": {
      "text/plain": [
       "array([0, 3, 6, 9])"
      ]
     },
     "execution_count": 274,
     "metadata": {},
     "output_type": "execute_result"
    }
   ],
   "source": [
    "arr = np.arange(12).reshape((3, 4))\n",
    "print(arr)\n",
    "condition = np.mod(arr, 3)==0\n",
    "print(condition)\n",
    "np.extract(condition, arr)"
   ]
  },
  {
   "cell_type": "markdown",
   "id": "3b2f3296",
   "metadata": {},
   "source": [
    "# eye\n",
    "- Return a 2-D array with ones on the diagonal and zeros elsewhere."
   ]
  },
  {
   "cell_type": "code",
   "execution_count": 354,
   "id": "ff6e764d",
   "metadata": {},
   "outputs": [
    {
     "name": "stdout",
     "output_type": "stream",
     "text": [
      "[[1. 0.]\n",
      " [0. 1.]]\n",
      "[[1. 0. 0.]\n",
      " [0. 1. 0.]\n",
      " [0. 0. 1.]]\n",
      "[[1. 0. 0. 0.]\n",
      " [0. 1. 0. 0.]\n",
      " [0. 0. 1. 0.]\n",
      " [0. 0. 0. 1.]]\n"
     ]
    }
   ],
   "source": [
    "print(np.eye(\n",
    "    2\n",
    "))\n",
    "print(np.eye(3))\n",
    "print(np.eye(4))"
   ]
  },
  {
   "cell_type": "markdown",
   "id": "ee803434",
   "metadata": {},
   "source": [
    "# fabs\n",
    "- Compute the absolute values element-wise.\n",
    "- This function returns the absolute values (positive magnitude) of the data in x. Complex values are not handled, use absolute to find the absolute values of complex data."
   ]
  },
  {
   "cell_type": "code",
   "execution_count": 276,
   "id": "b3f57f35",
   "metadata": {},
   "outputs": [
    {
     "data": {
      "text/plain": [
       "array([1.2, 1.2])"
      ]
     },
     "execution_count": 276,
     "metadata": {},
     "output_type": "execute_result"
    }
   ],
   "source": [
    "np.fabs([-1.2, 1.2])"
   ]
  },
  {
   "cell_type": "markdown",
   "id": "a20ee05d",
   "metadata": {},
   "source": [
    "# fft\n",
    "- Compute the one-dimensional discrete Fourier Transform.\n",
    "- This function computes the one-dimensional n-point discrete Fourier Transform (DFT) with the efficient Fast Fourier Transform (FFT) algorithm [CT]."
   ]
  },
  {
   "cell_type": "code",
   "execution_count": 277,
   "id": "3aef3c49",
   "metadata": {},
   "outputs": [
    {
     "data": {
      "text/plain": [
       "array([-3.44509285e-16+1.22464680e-16j,  8.00000000e+00-9.95431023e-16j,\n",
       "        3.44509285e-16+1.22464680e-16j,  0.00000000e+00+1.22464680e-16j,\n",
       "        9.95799250e-17+1.22464680e-16j, -8.88178420e-16+2.60642944e-16j,\n",
       "       -9.95799250e-17+1.22464680e-16j,  0.00000000e+00+1.22464680e-16j])"
      ]
     },
     "execution_count": 277,
     "metadata": {},
     "output_type": "execute_result"
    }
   ],
   "source": [
    "np.fft.fft(np.exp(2j * np.pi * np.arange(8) / 8))"
   ]
  },
  {
   "cell_type": "markdown",
   "id": "2aeea86b",
   "metadata": {},
   "source": [
    "# fill_diagonal\n",
    "- Fill the main diagonal of the given array of any dimensionality."
   ]
  },
  {
   "cell_type": "code",
   "execution_count": 279,
   "id": "082c23d0",
   "metadata": {},
   "outputs": [
    {
     "data": {
      "text/plain": [
       "array([[ 1, 10],\n",
       "       [11,  1]])"
      ]
     },
     "execution_count": 279,
     "metadata": {},
     "output_type": "execute_result"
    }
   ],
   "source": [
    "a = np.array([[10, 10], [11, 11]])\n",
    "np.fill_diagonal(\n",
    "   a , 1\n",
    ")\n",
    "a"
   ]
  },
  {
   "cell_type": "markdown",
   "id": "27ffab81",
   "metadata": {},
   "source": [
    "# finfo\n",
    "- Machine limits for floating point types."
   ]
  },
  {
   "cell_type": "code",
   "execution_count": 280,
   "id": "3191cdea",
   "metadata": {},
   "outputs": [
    {
     "data": {
      "text/plain": [
       "finfo(resolution=1e-15, min=-1.7976931348623157e+308, max=1.7976931348623157e+308, dtype=float64)"
      ]
     },
     "execution_count": 280,
     "metadata": {},
     "output_type": "execute_result"
    }
   ],
   "source": [
    "np.finfo(np.float64)"
   ]
  },
  {
   "cell_type": "markdown",
   "id": "25e5b000",
   "metadata": {},
   "source": [
    "# fix\n",
    "- Round to nearest integer towards zero.\n",
    "- Round an array of floats element-wise to nearest integer towards zero. The rounded values have the same data-type as the input."
   ]
  },
  {
   "cell_type": "code",
   "execution_count": 281,
   "id": "cd05e7aa",
   "metadata": {},
   "outputs": [
    {
     "data": {
      "text/plain": [
       "np.float64(2.0)"
      ]
     },
     "execution_count": 281,
     "metadata": {},
     "output_type": "execute_result"
    }
   ],
   "source": [
    "np.fix(2.9)"
   ]
  },
  {
   "cell_type": "markdown",
   "id": "3692dc43",
   "metadata": {},
   "source": [
    "# flatiter\n",
    "- Flat iterator object to iterate over arrays.\n",
    "- Purpose: flatiter (returned by array.flat) is designed for iterating over the elements of an array as if it were a 1-D array, regardless of its original dimensions. It focuses solely on the values."
   ]
  },
  {
   "cell_type": "code",
   "execution_count": 283,
   "id": "d95f3e3c",
   "metadata": {},
   "outputs": [
    {
     "name": "stdout",
     "output_type": "stream",
     "text": [
      "type of fl: $<class 'numpy.flatiter'>\n",
      "0\n",
      "1\n",
      "2\n",
      "3\n",
      "4\n",
      "5\n"
     ]
    }
   ],
   "source": [
    "import numpy as np\n",
    "x = np.arange(6).reshape(2, 3)\n",
    "fl = x.flat\n",
    "print(f\"type of fl: ${type(fl)}\")\n",
    "for item in fl:\n",
    "    print(item)"
   ]
  },
  {
   "cell_type": "markdown",
   "id": "348ce744",
   "metadata": {},
   "source": [
    "# flatnonzero\n",
    "- Return indices that are non-zero in the flattened version of a.\n",
    "- Basically flatiter but returns only non-zero values - also returns negative number"
   ]
  },
  {
   "cell_type": "code",
   "execution_count": 284,
   "id": "520faa54",
   "metadata": {},
   "outputs": [
    {
     "name": "stdout",
     "output_type": "stream",
     "text": [
      "x: $[-2 -1  0  1  2]\n"
     ]
    },
    {
     "data": {
      "text/plain": [
       "array([0, 1, 3, 4])"
      ]
     },
     "execution_count": 284,
     "metadata": {},
     "output_type": "execute_result"
    }
   ],
   "source": [
    "import numpy as np\n",
    "x = np.arange(-2, 3)\n",
    "print(f\"x: ${x}\")\n",
    "np.flatnonzero(x)"
   ]
  },
  {
   "cell_type": "markdown",
   "id": "cdb3f087",
   "metadata": {},
   "source": [
    "# flip\n",
    "- Reverse the order of elements in an array along the given axis.\n",
    "- The shape of the array is preserved, but the elements are reordered."
   ]
  },
  {
   "cell_type": "code",
   "execution_count": 287,
   "id": "4d0d0fb0",
   "metadata": {},
   "outputs": [
    {
     "name": "stdout",
     "output_type": "stream",
     "text": [
      "[2 1 0]\n",
      "[[4 3]\n",
      " [2 1]]\n"
     ]
    }
   ],
   "source": [
    "print(np.flip(np.arange(3)))\n",
    "print(np.flip(\n",
    "    np.array([[1, 2], [3, 4]])\n",
    "))"
   ]
  },
  {
   "cell_type": "markdown",
   "id": "dc5a503d",
   "metadata": {},
   "source": [
    "# fliplr\n",
    "- Reverse the order of elements along axis 1 (left/right)."
   ]
  },
  {
   "cell_type": "code",
   "execution_count": 289,
   "id": "af1a478d",
   "metadata": {},
   "outputs": [
    {
     "name": "stdout",
     "output_type": "stream",
     "text": [
      "[[1 0 0]\n",
      " [0 2 0]\n",
      " [0 0 3]]\n"
     ]
    },
    {
     "data": {
      "text/plain": [
       "array([[0, 0, 1],\n",
       "       [0, 2, 0],\n",
       "       [3, 0, 0]])"
      ]
     },
     "execution_count": 289,
     "metadata": {},
     "output_type": "execute_result"
    }
   ],
   "source": [
    "a = np.diag([1, 2, 3])\n",
    "print(a)\n",
    "np.fliplr(a)"
   ]
  },
  {
   "cell_type": "markdown",
   "id": "4d74a4d2",
   "metadata": {},
   "source": [
    "# flipud\n",
    "- Reverse the order of elements along axis 0 (up/down)."
   ]
  },
  {
   "cell_type": "code",
   "execution_count": 290,
   "id": "37122cd3",
   "metadata": {},
   "outputs": [
    {
     "name": "stdout",
     "output_type": "stream",
     "text": [
      "[[1 0 0]\n",
      " [0 2 0]\n",
      " [0 0 3]]\n"
     ]
    },
    {
     "data": {
      "text/plain": [
       "array([[0, 0, 3],\n",
       "       [0, 2, 0],\n",
       "       [1, 0, 0]])"
      ]
     },
     "execution_count": 290,
     "metadata": {},
     "output_type": "execute_result"
    }
   ],
   "source": [
    "a = np.diag([1, 2, 3])\n",
    "print(a)\n",
    "np.flipud(a)"
   ]
  },
  {
   "cell_type": "markdown",
   "id": "b7268e3d",
   "metadata": {},
   "source": [
    "# float_power\n",
    "- First array elements raised to powers from second array, element-wise.\n",
    "- Raise each base in x1 to the positionally-corresponding power in x2. x1 and x2 must be broadcastable to the same shape. This differs from the power function in that integers, float16, and float32 are promoted to floats with a minimum precision of float64 so that the result is always inexact. The intent is that the function will return a usable result for negative powers and seldom overflow for positive powers.\n",
    "- Negative values raised to a non-integral value will return nan. To get complex results, cast the input to complex, or specify the dtype to be complex (see the example below)."
   ]
  },
  {
   "cell_type": "code",
   "execution_count": 291,
   "id": "cf2f4e18",
   "metadata": {},
   "outputs": [
    {
     "data": {
      "text/plain": [
       "array([ 0.,  1.,  8., 27., 64.])"
      ]
     },
     "execution_count": 291,
     "metadata": {},
     "output_type": "execute_result"
    }
   ],
   "source": [
    "np.float_power(\n",
    "    [0, 1, 2,3 , 4], 3\n",
    ")"
   ]
  },
  {
   "cell_type": "markdown",
   "id": "e80f9816",
   "metadata": {},
   "source": [
    "# floor\n",
    "- Return the floor of the input, element-wise."
   ]
  },
  {
   "cell_type": "code",
   "execution_count": 293,
   "id": "1eee20a7",
   "metadata": {},
   "outputs": [
    {
     "data": {
      "text/plain": [
       "array([2., 3., 4.])"
      ]
     },
     "execution_count": 293,
     "metadata": {},
     "output_type": "execute_result"
    }
   ],
   "source": [
    "np.floor(\n",
    "    [2.3, 3.4, 4.5]\n",
    ")"
   ]
  },
  {
   "cell_type": "markdown",
   "id": "f6d1c16f",
   "metadata": {},
   "source": [
    "# floor_divide\n",
    "- Return the largest integer smaller or equal to the division of the inputs. It is equivalent to the Python // operator and pairs with the Python % (remainder), function so that a = a % b + b * (a // b) up to roundoff."
   ]
  },
  {
   "cell_type": "code",
   "execution_count": 294,
   "id": "b4fd9b19",
   "metadata": {},
   "outputs": [
    {
     "data": {
      "text/plain": [
       "np.int64(2)"
      ]
     },
     "execution_count": 294,
     "metadata": {},
     "output_type": "execute_result"
    }
   ],
   "source": [
    "np.floor_divide(7, 3)"
   ]
  },
  {
   "cell_type": "markdown",
   "id": "9f4ad71d",
   "metadata": {},
   "source": [
    "# fmax\n",
    "- Element-wise maximum of array elements.\n",
    "- Compare two arrays and return a new array containing the element-wise maxima. If one of the elements being compared is a NaN, then the non-nan element is returned. If both elements are NaNs then the first is returned. The latter distinction is important for complex NaNs, which are defined as at least one of the real or imaginary parts being a NaN. The net effect is that NaNs are ignored when possible.\n",
    "#### Notes: The fmax is equivalent to np.where(x1 >= x2, x1, x2) when neither x1 nor x2 are NaNs, but it is faster and does proper broadcasting."
   ]
  },
  {
   "cell_type": "code",
   "execution_count": 295,
   "id": "8b8336c1",
   "metadata": {},
   "outputs": [
    {
     "data": {
      "text/plain": [
       "array([ 2,  4, 10])"
      ]
     },
     "execution_count": 295,
     "metadata": {},
     "output_type": "execute_result"
    }
   ],
   "source": [
    "np.fmax(\n",
    "    [2, 3, 4], [1, 4, 10]\n",
    ")"
   ]
  },
  {
   "cell_type": "markdown",
   "id": "4c0e9955",
   "metadata": {},
   "source": [
    "# fmin\n",
    "- Element-wise minimum of array elements.\n",
    "\n",
    "- Compare two arrays and return a new array containing the element-wise minima. If one of the elements being compared is a NaN, then the non-nan element is returned. If both elements are NaNs then the first is returned. The latter distinction is important for complex NaNs, which are defined as at least one of the real or imaginary parts being a NaN. The net effect is that NaNs are ignored when possible.\n",
    "#### Notes: The fmin is equivalent to np.where(x1 <= x2, x1, x2) when neither x1 nor x2 are NaNs, but it is faster and does proper broadcasting."
   ]
  },
  {
   "cell_type": "code",
   "execution_count": 297,
   "id": "2f86e614",
   "metadata": {},
   "outputs": [
    {
     "data": {
      "text/plain": [
       "array([1, 3, 4])"
      ]
     },
     "execution_count": 297,
     "metadata": {},
     "output_type": "execute_result"
    }
   ],
   "source": [
    "np.fmin(\n",
    "    [2, 3, 4], [1, 4, 10]\n",
    ")"
   ]
  },
  {
   "cell_type": "markdown",
   "id": "18789d50",
   "metadata": {},
   "source": [
    "# fmod\n",
    "- Returns the element-wise remainder of division.\n",
    "- This is the NumPy implementation of the C library function fmod, the remainder has the same sign as the dividend x1. It is equivalent to the Matlab(TM) rem function and should not be confused with the Python modulus operator x1 % x2."
   ]
  },
  {
   "cell_type": "code",
   "execution_count": 298,
   "id": "e5f0f1f0",
   "metadata": {},
   "outputs": [
    {
     "data": {
      "text/plain": [
       "array([0, 1, 0, 1, 0])"
      ]
     },
     "execution_count": 298,
     "metadata": {},
     "output_type": "execute_result"
    }
   ],
   "source": [
    "np.fmod(\n",
    "    [2, 3, 4, 5, 6], 2\n",
    ")"
   ]
  },
  {
   "cell_type": "markdown",
   "id": "96cddf21",
   "metadata": {},
   "source": [
    "# format_float_positional\n",
    "- Format a floating-point scalar as a decimal string in positional notation."
   ]
  },
  {
   "cell_type": "code",
   "execution_count": 299,
   "id": "80608ef2",
   "metadata": {},
   "outputs": [
    {
     "name": "stdout",
     "output_type": "stream",
     "text": [
      "3.1415927\n",
      "3.14\n",
      "0.3\n",
      "0.3000488281\n"
     ]
    }
   ],
   "source": [
    "print(np.format_float_positional(np.float32(np.pi)))\n",
    "print(np.format_float_positional(np.float16(np.pi)))\n",
    "print(np.format_float_positional(np.float16(0.3)))\n",
    "print(np.format_float_positional(np.float16(0.3), unique=False, precision=10))"
   ]
  },
  {
   "cell_type": "markdown",
   "id": "0c2c1b91",
   "metadata": {},
   "source": [
    "# format_float_scientific\n",
    "- Format a floating-point scalar as a decimal string in scientific notation.\n",
    "\n",
    "- Provides control over rounding, trimming and padding. Uses and assumes IEEE unbiased rounding. Uses the “Dragon4” algorithm.\n",
    "- The Dragon4 algorithm, developed by Guy L. Steele Jr. and Jon L. White in 1990, is a classic and robust algorithm for accurately converting binary floating-point numbers into their shortest, unique decimal string representation."
   ]
  },
  {
   "cell_type": "code",
   "execution_count": 301,
   "id": "6115ea23",
   "metadata": {},
   "outputs": [
    {
     "name": "stdout",
     "output_type": "stream",
     "text": [
      "3.1415927e+00\n",
      "1.230000071797338e+24\n",
      "1.23e+0024\n"
     ]
    }
   ],
   "source": [
    "print(np.format_float_scientific(np.float32(np.pi)))\n",
    "s = np.float32(1.23e24)\n",
    "print(np.format_float_scientific(s, unique=False, precision=15))\n",
    "print(np.format_float_scientific(s, exp_digits=4))"
   ]
  },
  {
   "cell_type": "markdown",
   "id": "1a20bfee",
   "metadata": {},
   "source": [
    "# frexp\n",
    "- Decompose the elements of x into mantissa and twos exponent.\n",
    "- Returns (mantissa, exponent), where x = mantissa * 2**exponent. The mantissa lies in the open interval(-1, 1), while the twos exponent is a signed integer."
   ]
  },
  {
   "cell_type": "code",
   "execution_count": 302,
   "id": "2ab4b54c",
   "metadata": {},
   "outputs": [
    {
     "name": "stdout",
     "output_type": "stream",
     "text": [
      "[ 0.5   -0.75   0.625]\n",
      "[0 2 4]\n"
     ]
    }
   ],
   "source": [
    "mantissa, exponent = np.frexp(np.array([0.5, -3.0, 10.0]))\n",
    "print(mantissa)\n",
    "print(exponent)"
   ]
  },
  {
   "cell_type": "markdown",
   "id": "7eab2743",
   "metadata": {},
   "source": [
    "# from_dlpack\n",
    "- Create a NumPy array from an object implementing the __dlpack__ protocol. Generally, the returned NumPy array is a view of the input object. See [1] and [2] for more details.\n",
    "- Usage with torch"
   ]
  },
  {
   "cell_type": "code",
   "execution_count": 303,
   "id": "c1a60195",
   "metadata": {},
   "outputs": [
    {
     "data": {
      "text/plain": [
       "array([0, 1, 2, 3, 4, 5, 6, 7, 8, 9])"
      ]
     },
     "execution_count": 303,
     "metadata": {},
     "output_type": "execute_result"
    }
   ],
   "source": [
    "import torch  \n",
    "x = torch.arange(10)  \n",
    "# create a view of the torch tensor \"x\" in NumPy\n",
    "np.from_dlpack(x)  "
   ]
  },
  {
   "cell_type": "markdown",
   "id": "3b2e9484",
   "metadata": {},
   "source": [
    "# frombuffer\n",
    "- Interpret a buffer as a 1-dimensional array. Buffer is usually from binary memory."
   ]
  },
  {
   "cell_type": "code",
   "execution_count": 304,
   "id": "c5cb3a7d",
   "metadata": {},
   "outputs": [
    {
     "data": {
      "text/plain": [
       "array([b'w', b'o', b'r', b'l', b'd'], dtype='|S1')"
      ]
     },
     "execution_count": 304,
     "metadata": {},
     "output_type": "execute_result"
    }
   ],
   "source": [
    "s = b'hello world'\n",
    "np.frombuffer(s, dtype='S1', count=5, offset=6)"
   ]
  },
  {
   "cell_type": "markdown",
   "id": "0ba02b67",
   "metadata": {},
   "source": [
    "# fromfile\n",
    "- Construct an array from data in a text or binary file.\n",
    "- A highly efficient way of reading binary data with a known data-type, as well as parsing simply formatted text files. Data written using the tofile method can be read using this function."
   ]
  },
  {
   "cell_type": "code",
   "execution_count": 305,
   "id": "b33f2c93",
   "metadata": {},
   "outputs": [
    {
     "name": "stdout",
     "output_type": "stream",
     "text": [
      "[10 20 30 40]\n",
      "[1 2 3 4 5 6]\n"
     ]
    }
   ],
   "source": [
    "\n",
    "# Create a sample binary file\n",
    "data_to_write = np.array([10, 20, 30, 40], dtype=np.int32)\n",
    "data_to_write.tofile(\"my_binary_data.bin\")\n",
    "\n",
    "# Read data from the binary file\n",
    "read_data = np.fromfile(\"my_binary_data.bin\", dtype=np.int32)\n",
    "print(read_data)\n",
    "\n",
    "# Create a sample text file\n",
    "with open(\"my_text_data.txt\", \"w\") as f:\n",
    "    f.write(\"1 2 3\\n4 5 6\")\n",
    "\n",
    "# Read data from the text file\n",
    "text_data = np.fromfile(\"my_text_data.txt\", dtype=np.int32, sep=\" \")\n",
    "print(text_data)"
   ]
  },
  {
   "cell_type": "markdown",
   "id": "1087ae39",
   "metadata": {},
   "source": [
    "# fromfunction\n",
    "- Construct an array by executing a function over each coordinate.\n",
    "- The resulting array therefore has a value fn(x, y, z) at coordinate (x, y, z)."
   ]
  },
  {
   "cell_type": "code",
   "execution_count": 306,
   "id": "c5983613",
   "metadata": {},
   "outputs": [
    {
     "data": {
      "text/plain": [
       "array([[0., 0.],\n",
       "       [1., 1.]])"
      ]
     },
     "execution_count": 306,
     "metadata": {},
     "output_type": "execute_result"
    }
   ],
   "source": [
    "np.fromfunction(lambda i, j: i, (2, 2), dtype=float)"
   ]
  },
  {
   "cell_type": "markdown",
   "id": "9e7ff403",
   "metadata": {},
   "source": [
    "# fromiter\n",
    "- Create a new 1-dimensional array from an iterable object."
   ]
  },
  {
   "cell_type": "code",
   "execution_count": 308,
   "id": "48297341",
   "metadata": {},
   "outputs": [
    {
     "data": {
      "text/plain": [
       "array([ 0.,  1.,  4.,  9., 16.])"
      ]
     },
     "execution_count": 308,
     "metadata": {},
     "output_type": "execute_result"
    }
   ],
   "source": [
    "np.fromiter((x*x for x in range(5)), float)"
   ]
  },
  {
   "cell_type": "markdown",
   "id": "5a12c164",
   "metadata": {},
   "source": [
    "# frompyfunc\n",
    "- Takes an arbitrary Python function and returns a NumPy ufunc.\n",
    "- Can be used, for example, to add broadcasting to a built-in Python function (see Examples section)."
   ]
  },
  {
   "cell_type": "code",
   "execution_count": 311,
   "id": "e1ef817c",
   "metadata": {},
   "outputs": [
    {
     "data": {
      "text/plain": [
       "array(['0b1010', '0b11110', '0b1100100'], dtype=object)"
      ]
     },
     "execution_count": 311,
     "metadata": {},
     "output_type": "execute_result"
    }
   ],
   "source": [
    "np.frompyfunc(bin, 1, 1)(np.array((10, 30, 100)))"
   ]
  },
  {
   "cell_type": "markdown",
   "id": "715d3ba6",
   "metadata": {},
   "source": [
    "# fromregex\n",
    "- Construct an array from a text file, using regular expression parsing.\n",
    "- The returned array is always a structured array, and is constructed from all matches of the regular expression in the file. Groups in the regular expression are converted to fields of the structured array."
   ]
  },
  {
   "cell_type": "code",
   "execution_count": 314,
   "id": "77df4077",
   "metadata": {},
   "outputs": [
    {
     "name": "stdout",
     "output_type": "stream",
     "text": [
      "[(1312, b'foo') (1534, b'bar') ( 444, b'qux')]\n"
     ]
    },
    {
     "data": {
      "text/plain": [
       "array([1312, 1534,  444])"
      ]
     },
     "execution_count": 314,
     "metadata": {},
     "output_type": "execute_result"
    }
   ],
   "source": [
    "from io import StringIO\n",
    "text = StringIO(\"1312 foo\\n1534  bar\\n444   qux\")\n",
    "regexp = r\"(\\d+)\\s+(...)\"  # match [digits, whitespace, anything]\n",
    "output = np.fromregex(text, regexp,\n",
    "                      [('num', np.int64), ('key', 'S3')])\n",
    "print(output)\n",
    "output['num']"
   ]
  },
  {
   "cell_type": "markdown",
   "id": "75ca7be6",
   "metadata": {},
   "source": [
    "# full\n",
    "- Return a new array of given shape and type, filled with fill_value."
   ]
  },
  {
   "cell_type": "code",
   "execution_count": 315,
   "id": "7c969628",
   "metadata": {},
   "outputs": [
    {
     "data": {
      "text/plain": [
       "array([[55, 55],\n",
       "       [55, 55]])"
      ]
     },
     "execution_count": 315,
     "metadata": {},
     "output_type": "execute_result"
    }
   ],
   "source": [
    "np.full((2, 2), 55)"
   ]
  },
  {
   "cell_type": "markdown",
   "id": "5b4473ed",
   "metadata": {},
   "source": [
    "# full_like\n",
    "- Return a full array with the same shape and type as a given array."
   ]
  },
  {
   "cell_type": "code",
   "execution_count": 316,
   "id": "d8191feb",
   "metadata": {},
   "outputs": [
    {
     "data": {
      "text/plain": [
       "array([44, 44])"
      ]
     },
     "execution_count": 316,
     "metadata": {},
     "output_type": "execute_result"
    }
   ],
   "source": [
    "np.full_like(\n",
    "    np.array([2, 2]), 44\n",
    ")"
   ]
  },
  {
   "cell_type": "markdown",
   "id": "6ad3b1a6",
   "metadata": {},
   "source": [
    "# gcd\n",
    "- Returns the greatest common divisor of |x1| and |x2|"
   ]
  },
  {
   "cell_type": "code",
   "execution_count": 317,
   "id": "6ea21591",
   "metadata": {},
   "outputs": [
    {
     "name": "stdout",
     "output_type": "stream",
     "text": [
      "4\n",
      "[20  1  2  1  4  5]\n"
     ]
    }
   ],
   "source": [
    "print(np.gcd(12, 20))\n",
    "print(np.gcd(np.arange(6), 20))"
   ]
  },
  {
   "cell_type": "markdown",
   "id": "5d7aceec",
   "metadata": {},
   "source": [
    "# genfromtxt\n",
    "- Load data from a text file, with missing values handled as specified.\n",
    "\n",
    "- Each line past the first skip_header lines is split at the delimiter character, and characters following the comments character are discarded."
   ]
  },
  {
   "cell_type": "code",
   "execution_count": 318,
   "id": "f5c178d3",
   "metadata": {},
   "outputs": [
    {
     "data": {
      "text/plain": [
       "array((1, 1.3, b'abcde'),\n",
       "      dtype=[('myint', '<i8'), ('myfloat', '<f8'), ('mystring', 'S5')])"
      ]
     },
     "execution_count": 318,
     "metadata": {},
     "output_type": "execute_result"
    }
   ],
   "source": [
    "from io import StringIO\n",
    "s = StringIO(\"1,1.3,abcde\")\n",
    "data = np.genfromtxt(s, dtype=[('myint','i8'),('myfloat','f8'),\n",
    "('mystring','S5')], delimiter=\",\")\n",
    "data"
   ]
  },
  {
   "cell_type": "markdown",
   "id": "3f311ab1",
   "metadata": {},
   "source": [
    "# geomspace\n",
    "- Return numbers spaced evenly on a log scale (a geometric progression)."
   ]
  },
  {
   "cell_type": "code",
   "execution_count": 321,
   "id": "13afb012",
   "metadata": {},
   "outputs": [
    {
     "data": {
      "text/plain": [
       "array([[[  1.        ,   1.27427499,   1.62377674,   2.06913808,\n",
       "           2.6366509 ],\n",
       "        [  3.35981829,   4.2813324 ,   5.45559478,   6.95192796,\n",
       "           8.8586679 ]],\n",
       "\n",
       "       [[ 11.28837892,  14.38449888,  18.32980711,  23.35721469,\n",
       "          29.76351442],\n",
       "        [ 37.92690191,  48.32930239,  61.58482111,  78.47599704,\n",
       "         100.        ]]])"
      ]
     },
     "execution_count": 321,
     "metadata": {},
     "output_type": "execute_result"
    }
   ],
   "source": [
    "np.geomspace(1, 100, num=20).reshape(2, 2, 5)"
   ]
  },
  {
   "cell_type": "markdown",
   "id": "9109de58",
   "metadata": {},
   "source": [
    "# get_include\n",
    "- Return the directory that contains the NumPy *.h header files."
   ]
  },
  {
   "cell_type": "code",
   "execution_count": 322,
   "id": "a3f07e4c",
   "metadata": {},
   "outputs": [
    {
     "data": {
      "text/plain": [
       "'c:\\\\Users\\\\thotc\\\\AppData\\\\Local\\\\Programs\\\\Python\\\\Python313\\\\Lib\\\\site-packages\\\\numpy\\\\_core\\\\include'"
      ]
     },
     "execution_count": 322,
     "metadata": {},
     "output_type": "execute_result"
    }
   ],
   "source": [
    "np.get_include()"
   ]
  },
  {
   "cell_type": "markdown",
   "id": "25ebd588",
   "metadata": {},
   "source": [
    "# get_printoptions\n",
    "- Return the current print options."
   ]
  },
  {
   "cell_type": "code",
   "execution_count": 323,
   "id": "e190de1e",
   "metadata": {},
   "outputs": [
    {
     "data": {
      "text/plain": [
       "{'edgeitems': 3,\n",
       " 'threshold': 1000,\n",
       " 'floatmode': 'maxprec',\n",
       " 'precision': 8,\n",
       " 'suppress': False,\n",
       " 'linewidth': 75,\n",
       " 'nanstr': 'nan',\n",
       " 'infstr': 'inf',\n",
       " 'sign': '-',\n",
       " 'formatter': None,\n",
       " 'legacy': False,\n",
       " 'override_repr': None}"
      ]
     },
     "execution_count": 323,
     "metadata": {},
     "output_type": "execute_result"
    }
   ],
   "source": [
    "np.get_printoptions()"
   ]
  },
  {
   "cell_type": "markdown",
   "id": "7b529d38",
   "metadata": {},
   "source": [
    "# getbufsize\n",
    "- Return the size of the buffer used in ufuncs."
   ]
  },
  {
   "cell_type": "code",
   "execution_count": 324,
   "id": "5a3b5512",
   "metadata": {},
   "outputs": [
    {
     "data": {
      "text/plain": [
       "8192"
      ]
     },
     "execution_count": 324,
     "metadata": {},
     "output_type": "execute_result"
    }
   ],
   "source": [
    "np.getbufsize()"
   ]
  },
  {
   "cell_type": "markdown",
   "id": "c44a0145",
   "metadata": {},
   "source": [
    "# geterr\n",
    "- Get the current way of handling floating-point errors."
   ]
  },
  {
   "cell_type": "code",
   "execution_count": 325,
   "id": "3eb75474",
   "metadata": {},
   "outputs": [
    {
     "data": {
      "text/plain": [
       "{'divide': 'warn', 'over': 'warn', 'under': 'ignore', 'invalid': 'warn'}"
      ]
     },
     "execution_count": 325,
     "metadata": {},
     "output_type": "execute_result"
    }
   ],
   "source": [
    "np.geterr()"
   ]
  },
  {
   "cell_type": "markdown",
   "id": "df90cbfa",
   "metadata": {},
   "source": [
    "# geterrcall\n",
    "- Return the current callback function used on floating-point errors.\n",
    "- When the error handling for a floating-point error (one of “divide”, “over”, “under”, or “invalid”) is set to ‘call’ or ‘log’, the function that is called or the log instance that is written to is returned by geterrcall. This function or log instance has been set with seterrcall."
   ]
  },
  {
   "cell_type": "code",
   "execution_count": 328,
   "id": "999b1a3a",
   "metadata": {},
   "outputs": [
    {
     "name": "stdout",
     "output_type": "stream",
     "text": [
      "<function err_handler at 0x000002573983ECA0>\n",
      "Floating point error (divide by zero), with flag 1\n"
     ]
    },
    {
     "data": {
      "text/plain": [
       "True"
      ]
     },
     "execution_count": 328,
     "metadata": {},
     "output_type": "execute_result"
    }
   ],
   "source": [
    "print(np.geterrcall())\n",
    "\n",
    "orig_settings = np.seterr(all='call')\n",
    "def err_handler(type, flag):\n",
    "    print(\"Floating point error (%s), with flag %s\" % (type, flag))\n",
    "old_handler = np.seterrcall(err_handler)\n",
    "np.array([1, 2, 3]) / 0.0\n",
    "\n",
    "np.geterrcall() is err_handler"
   ]
  },
  {
   "cell_type": "markdown",
   "id": "e7d29f41",
   "metadata": {},
   "source": [
    "# gradient\n",
    "- Return the gradient of an N-dimensional array.\n",
    "\n",
    "- The gradient is computed using second order accurate central differences in the interior points and either first or second order accurate one-sides (forward or backwards) differences at the boundaries. The returned gradient hence has the same shape as the input array."
   ]
  },
  {
   "cell_type": "code",
   "execution_count": 329,
   "id": "ab465796",
   "metadata": {},
   "outputs": [
    {
     "name": "stdout",
     "output_type": "stream",
     "text": [
      "[1.  1.5 2.5 3.5 4.5 5. ]\n",
      "[0.5  0.75 1.25 1.75 2.25 2.5 ]\n"
     ]
    }
   ],
   "source": [
    "f = np.array([1, 2, 4, 7, 11, 16])\n",
    "print(np.gradient(f))\n",
    "print(np.gradient(f, 2))"
   ]
  },
  {
   "cell_type": "code",
   "execution_count": 333,
   "id": "66e77200",
   "metadata": {},
   "outputs": [
    {
     "data": {
      "text/plain": [
       "(array([[  8.,  17.,  90., 400.],\n",
       "        [  8.,  17.,  90., 400.]]),\n",
       " array([[  1. ,   4. ,  48.5,  90. ],\n",
       "        [ 10. ,  45. , 240. , 400. ]]))"
      ]
     },
     "execution_count": 333,
     "metadata": {},
     "output_type": "execute_result"
    }
   ],
   "source": [
    "np.gradient(\n",
    "    np.array([[\n",
    "        2, 3, 10, 100\n",
    "    ], [10, 20, 100, 500]])\n",
    ")"
   ]
  },
  {
   "cell_type": "markdown",
   "id": "c3fcb8f2",
   "metadata": {},
   "source": [
    "# greater\n",
    "- Return the truth value of (x1 > x2) element-wise."
   ]
  },
  {
   "cell_type": "code",
   "execution_count": 334,
   "id": "7792ec8b",
   "metadata": {},
   "outputs": [
    {
     "data": {
      "text/plain": [
       "array([False,  True, False,  True, False,  True])"
      ]
     },
     "execution_count": 334,
     "metadata": {},
     "output_type": "execute_result"
    }
   ],
   "source": [
    "np.greater(\n",
    "    np.array([10, 11, 5, 4, 20, 99]),\n",
    "    np.array([22, 1, 10, 2, 33, 55])\n",
    ")"
   ]
  },
  {
   "cell_type": "markdown",
   "id": "5fd47320",
   "metadata": {},
   "source": [
    "# greater_equal\n",
    "- Return the truth value of (x1 >= x2) element-wise."
   ]
  },
  {
   "cell_type": "code",
   "execution_count": 335,
   "id": "9ab2e6a1",
   "metadata": {},
   "outputs": [
    {
     "data": {
      "text/plain": [
       "array([ True,  True, False])"
      ]
     },
     "execution_count": 335,
     "metadata": {},
     "output_type": "execute_result"
    }
   ],
   "source": [
    "np.greater_equal([4, 2, 1], [2, 2, 2])"
   ]
  },
  {
   "cell_type": "markdown",
   "id": "61f99ef4",
   "metadata": {},
   "source": [
    "# hamming\n",
    "- Return the Hamming window.\n",
    "\n",
    "- The Hamming window is a taper formed by using a weighted cosine."
   ]
  },
  {
   "cell_type": "code",
   "execution_count": 336,
   "id": "d8f8d400",
   "metadata": {},
   "outputs": [
    {
     "data": {
      "text/plain": [
       "array([0.08      , 0.15302337, 0.34890909, 0.60546483, 0.84123594,\n",
       "       0.98136677, 0.98136677, 0.84123594, 0.60546483, 0.34890909,\n",
       "       0.15302337, 0.08      ])"
      ]
     },
     "execution_count": 336,
     "metadata": {},
     "output_type": "execute_result"
    }
   ],
   "source": [
    "np.hamming(12)"
   ]
  },
  {
   "cell_type": "markdown",
   "id": "27e31ad2",
   "metadata": {},
   "source": [
    "# hanning\n",
    "- Return the Hanning window.\n",
    "\n",
    "- The Hanning window is a taper formed by using a weighted cosine."
   ]
  },
  {
   "cell_type": "code",
   "execution_count": 337,
   "id": "077a4105",
   "metadata": {},
   "outputs": [
    {
     "data": {
      "text/plain": [
       "array([0.        , 0.07937323, 0.29229249, 0.57115742, 0.82743037,\n",
       "       0.97974649, 0.97974649, 0.82743037, 0.57115742, 0.29229249,\n",
       "       0.07937323, 0.        ])"
      ]
     },
     "execution_count": 337,
     "metadata": {},
     "output_type": "execute_result"
    }
   ],
   "source": [
    "np.hanning(12)"
   ]
  },
  {
   "cell_type": "markdown",
   "id": "0764d6c4",
   "metadata": {},
   "source": [
    "# heaviside\n",
    "- Compute the Heaviside step function."
   ]
  },
  {
   "cell_type": "code",
   "execution_count": 338,
   "id": "0929152f",
   "metadata": {},
   "outputs": [
    {
     "data": {
      "text/plain": [
       "array([0. , 0.5, 1. ])"
      ]
     },
     "execution_count": 338,
     "metadata": {},
     "output_type": "execute_result"
    }
   ],
   "source": [
    "np.heaviside([-1.5, 0.0, 2.0], 0.5)"
   ]
  },
  {
   "cell_type": "markdown",
   "id": "dde026b1",
   "metadata": {},
   "source": [
    "# histogram\n",
    "- Compute the histogram of a dataset."
   ]
  },
  {
   "cell_type": "code",
   "execution_count": 341,
   "id": "03db3cb1",
   "metadata": {},
   "outputs": [
    {
     "name": "stdout",
     "output_type": "stream",
     "text": [
      "(array([2, 3, 2]), array([0, 1, 2, 3]))\n",
      "(array([0.25, 0.25, 0.25, 0.25]), array([0, 1, 2, 3, 4]))\n"
     ]
    }
   ],
   "source": [
    "print(np.histogram([1, 2, 1, 1, 3, 4, 0, 0], bins=[0, 1, 2, 3]))\n",
    "print(np.histogram(np.arange(4), bins=np.arange(5), density=True))"
   ]
  },
  {
   "cell_type": "markdown",
   "id": "5c2b7fda",
   "metadata": {},
   "source": [
    "# histogram2d\n",
    "- Compute the bi-dimensional histogram of two data samples."
   ]
  },
  {
   "cell_type": "code",
   "execution_count": 342,
   "id": "25f07870",
   "metadata": {},
   "outputs": [
    {
     "name": "stdout",
     "output_type": "stream",
     "text": [
      "[[17. 43. 16.]\n",
      " [ 1.  7.  3.]\n",
      " [ 0.  1.  0.]\n",
      " [ 0.  0.  0.]]\n",
      "[0 1 3 5]\n",
      "[0 2 3 4 6]\n"
     ]
    }
   ],
   "source": [
    "xedges = [0, 1, 3, 5]\n",
    "yedges = [0, 2, 3, 4, 6]\n",
    "x = np.random.normal(2, 1, 100)\n",
    "y = np.random.normal(1, 1, 100)\n",
    "H, xedges, yedges = np.histogram2d(x, y, bins=(xedges, yedges))\n",
    "# Histogram does not follow Cartesian convention (see Notes),\n",
    "# therefore transpose H for visualization purposes.\n",
    "H = H.T\n",
    "print(H)\n",
    "print(xedges)\n",
    "print(yedges)"
   ]
  },
  {
   "cell_type": "markdown",
   "id": "96aa7299",
   "metadata": {},
   "source": [
    "# histogram_bin_edges\n",
    "- Function to calculate only the edges of the bins used by the histogram function."
   ]
  },
  {
   "cell_type": "code",
   "execution_count": 343,
   "id": "bc7c8ada",
   "metadata": {},
   "outputs": [
    {
     "name": "stdout",
     "output_type": "stream",
     "text": [
      "[0. 1.]\n",
      "[0.  2.5 5. ]\n"
     ]
    }
   ],
   "source": [
    "arr = np.array([0, 0, 0, 1, 2, 3, 3, 4, 5])\n",
    "print(np.histogram_bin_edges(arr, bins='auto', range=(0, 1)))\n",
    "print(np.histogram_bin_edges(arr, bins=2))"
   ]
  },
  {
   "cell_type": "markdown",
   "id": "3cd75cd7",
   "metadata": {},
   "source": [
    "# histogramdd\n",
    "- Compute the multidimensional histogram of some data."
   ]
  },
  {
   "cell_type": "code",
   "execution_count": 344,
   "id": "784f229a",
   "metadata": {},
   "outputs": [
    {
     "data": {
      "text/plain": [
       "((5, 8, 4), 6, 9, 5)"
      ]
     },
     "execution_count": 344,
     "metadata": {},
     "output_type": "execute_result"
    }
   ],
   "source": [
    "rng = np.random.default_rng()\n",
    "r = rng.normal(size=(100,3))\n",
    "H, edges = np.histogramdd(r, bins = (5, 8, 4))\n",
    "H.shape, edges[0].size, edges[1].size, edges[2].size"
   ]
  },
  {
   "cell_type": "markdown",
   "id": "856f427e",
   "metadata": {},
   "source": [
    "# hsplit\n",
    "- Split an array into multiple sub-arrays horizontally (column-wise)."
   ]
  },
  {
   "cell_type": "code",
   "execution_count": 347,
   "id": "9fca4cdc",
   "metadata": {},
   "outputs": [
    {
     "name": "stdout",
     "output_type": "stream",
     "text": [
      "[array([[0],\n",
      "       [2]]), array([[1],\n",
      "       [3]])]\n",
      "[array([1, 2, 3]), array([4, 5, 6])]\n"
     ]
    }
   ],
   "source": [
    "print(np.hsplit(\n",
    "    np.arange(4).reshape(2, 2), 2\n",
    "))\n",
    "print(\n",
    "    np.hsplit(\n",
    "        np.array([1, 2, 3, 4, 5, 6]), 2\n",
    "    )\n",
    ")"
   ]
  },
  {
   "cell_type": "markdown",
   "id": "1d57ca0f",
   "metadata": {},
   "source": [
    "# hstack\n",
    "- Stack arrays in sequence horizontally (column wise).\n",
    "- This is equivalent to concatenation along the second axis, except for 1-D arrays where it concatenates along the first axis. Rebuilds arrays divided by hsplit.\n",
    "- This function makes most sense for arrays with up to 3 dimensions. For instance, for pixel-data with a height (first axis), width (second axis), and r/g/b channels (third axis). The functions concatenate, stack and block provide more general stacking and concatenation operations."
   ]
  },
  {
   "cell_type": "code",
   "execution_count": 348,
   "id": "37e98f08",
   "metadata": {},
   "outputs": [
    {
     "data": {
      "text/plain": [
       "array([1, 2, 3, 4, 5, 6])"
      ]
     },
     "execution_count": 348,
     "metadata": {},
     "output_type": "execute_result"
    }
   ],
   "source": [
    "a = np.array((1,2,3))\n",
    "b = np.array((4,5,6))\n",
    "np.hstack((a,b))"
   ]
  },
  {
   "cell_type": "markdown",
   "id": "c6c316db",
   "metadata": {},
   "source": [
    "# hypot\n",
    "- Given the “legs” of a right triangle, return its hypotenuse."
   ]
  },
  {
   "cell_type": "code",
   "execution_count": 349,
   "id": "4a6a7176",
   "metadata": {},
   "outputs": [
    {
     "data": {
      "text/plain": [
       "np.float64(5.0)"
      ]
     },
     "execution_count": 349,
     "metadata": {},
     "output_type": "execute_result"
    }
   ],
   "source": [
    "np.hypot(3, 4)"
   ]
  },
  {
   "cell_type": "markdown",
   "id": "f9abb376",
   "metadata": {},
   "source": [
    "# i0\n",
    "- Modified Bessel function of the first kind, order 0."
   ]
  },
  {
   "cell_type": "code",
   "execution_count": 350,
   "id": "6a47f268",
   "metadata": {},
   "outputs": [
    {
     "data": {
      "text/plain": [
       "array([1.        , 1.26606588, 2.2795853 , 4.88079259])"
      ]
     },
     "execution_count": 350,
     "metadata": {},
     "output_type": "execute_result"
    }
   ],
   "source": [
    "np.i0([0, 1, 2, 3])"
   ]
  },
  {
   "cell_type": "markdown",
   "id": "47f96a09",
   "metadata": {},
   "source": [
    "# identity\n",
    "- Return the identity array.\n",
    "- The identity array is a square array with ones on the main diagonal."
   ]
  },
  {
   "cell_type": "code",
   "execution_count": 352,
   "id": "a024f828",
   "metadata": {},
   "outputs": [
    {
     "data": {
      "text/plain": [
       "array([[1., 0., 0., 0.],\n",
       "       [0., 1., 0., 0.],\n",
       "       [0., 0., 1., 0.],\n",
       "       [0., 0., 0., 1.]])"
      ]
     },
     "execution_count": 352,
     "metadata": {},
     "output_type": "execute_result"
    }
   ],
   "source": [
    "np.identity(4)"
   ]
  },
  {
   "cell_type": "markdown",
   "id": "448a95d8",
   "metadata": {},
   "source": [
    "# iinfo\n",
    "- Machine limits for integer types."
   ]
  },
  {
   "cell_type": "code",
   "execution_count": 356,
   "id": "6c2162f3",
   "metadata": {},
   "outputs": [
    {
     "data": {
      "text/plain": [
       "iinfo(min=-32768, max=32767, dtype=int16)"
      ]
     },
     "execution_count": 356,
     "metadata": {},
     "output_type": "execute_result"
    }
   ],
   "source": [
    "np.iinfo(np.int16)"
   ]
  },
  {
   "cell_type": "markdown",
   "id": "86d99777",
   "metadata": {},
   "source": [
    "# imag\n",
    "- Return the imaginary part of the complex argument."
   ]
  },
  {
   "cell_type": "code",
   "execution_count": 361,
   "id": "1477ee37",
   "metadata": {},
   "outputs": [
    {
     "name": "stdout",
     "output_type": "stream",
     "text": [
      "[2. 4. 6.]\n",
      "4.0\n",
      "10.0\n"
     ]
    }
   ],
   "source": [
    "a = np.array([1+2j, 3+4j, 5+6j])\n",
    "print(a.imag)\n",
    "print(np.imag(1 + 4j))\n",
    "print(np.real(10 + 9j))"
   ]
  },
  {
   "cell_type": "markdown",
   "id": "d33bc2e2",
   "metadata": {},
   "source": [
    "# index_exp\n",
    "- A nicer way to build up index tuples for arrays.\n",
    "- For any index combination, including slicing and axis insertion, a[indices] is the same as a[np.index_exp[indices]] for any array a. However, np.index_exp[indices] can be used anywhere in Python code and returns a tuple of slice objects that can be used in the construction of complex index expressions."
   ]
  },
  {
   "cell_type": "code",
   "execution_count": null,
   "id": "02b65f21",
   "metadata": {},
   "outputs": [
    {
     "data": {
      "text/plain": [
       "(slice(2, None, 2),)"
      ]
     },
     "execution_count": 364,
     "metadata": {},
     "output_type": "execute_result"
    }
   ],
   "source": [
    "np.index_exp[2:2]"
   ]
  },
  {
   "cell_type": "markdown",
   "id": "b9c486c7",
   "metadata": {},
   "source": [
    "# indices\n",
    "- Return an array representing the indices of a grid.\n",
    "- Compute an array where the subarrays contain index values 0, 1, … varying only along the corresponding axis."
   ]
  },
  {
   "cell_type": "code",
   "execution_count": 365,
   "id": "2127927b",
   "metadata": {},
   "outputs": [
    {
     "data": {
      "text/plain": [
       "array([[[0, 0],\n",
       "        [1, 1]],\n",
       "\n",
       "       [[0, 1],\n",
       "        [0, 1]]])"
      ]
     },
     "execution_count": 365,
     "metadata": {},
     "output_type": "execute_result"
    }
   ],
   "source": [
    "np.indices((2, 2))"
   ]
  },
  {
   "cell_type": "markdown",
   "id": "5e4bab21",
   "metadata": {},
   "source": [
    "# info\n",
    "- Get help information for an array, function, class, or module."
   ]
  },
  {
   "cell_type": "code",
   "execution_count": 366,
   "id": "7f664f36",
   "metadata": {},
   "outputs": [
    {
     "name": "stdout",
     "output_type": "stream",
     "text": [
      " identity(n, dtype=None, *, like=None)\n",
      "\n",
      "Return the identity array.\n",
      "\n",
      "The identity array is a square array with ones on\n",
      "the main diagonal.\n",
      "\n",
      "Parameters\n",
      "----------\n",
      "n : int\n",
      "    Number of rows (and columns) in `n` x `n` output.\n",
      "dtype : data-type, optional\n",
      "    Data-type of the output.  Defaults to ``float``.\n",
      "like : array_like, optional\n",
      "        Reference object to allow the creation of arrays which are not\n",
      "        NumPy arrays. If an array-like passed in as ``like`` supports\n",
      "        the ``__array_function__`` protocol, the result will be defined\n",
      "        by it. In this case, it ensures the creation of an array object\n",
      "        compatible with that passed in via this argument.\n",
      "\n",
      "    .. versionadded:: 1.20.0\n",
      "\n",
      "Returns\n",
      "-------\n",
      "out : ndarray\n",
      "    `n` x `n` array with its main diagonal set to one,\n",
      "    and all other elements 0.\n",
      "\n",
      "Examples\n",
      "--------\n",
      ">>> import numpy as np\n",
      ">>> np.identity(3)\n",
      "array([[1.,  0.,  0.],\n",
      "       [0.,  1.,  0.],\n",
      "       [0.,  0.,  1.]])\n"
     ]
    }
   ],
   "source": [
    "np.info(np.identity)"
   ]
  },
  {
   "cell_type": "markdown",
   "id": "f143bf62",
   "metadata": {},
   "source": [
    "# inner\n",
    "- Inner product of two arrays.\n",
    "- Ordinary inner product of vectors for 1-D arrays (without complex conjugation), in higher dimensions a sum product over the last axes."
   ]
  },
  {
   "cell_type": "code",
   "execution_count": 369,
   "id": "fd4c7aa3",
   "metadata": {},
   "outputs": [
    {
     "data": {
      "text/plain": [
       "array([[8, 7],\n",
       "       [7, 8]])"
      ]
     },
     "execution_count": 369,
     "metadata": {},
     "output_type": "execute_result"
    }
   ],
   "source": [
    "np.inner(\n",
    "    np.array([[1, 2], [2, 1]]),\n",
    "    np.array([[2, 3], [3, 2]])\n",
    ")"
   ]
  },
  {
   "cell_type": "markdown",
   "id": "69eb0a6c",
   "metadata": {},
   "source": [
    "# insert\n",
    "- Insert values along the given axis before the given indices."
   ]
  },
  {
   "cell_type": "code",
   "execution_count": 372,
   "id": "aeefb622",
   "metadata": {},
   "outputs": [
    {
     "data": {
      "text/plain": [
       "array([[0, 6, 1],\n",
       "       [2, 6, 3],\n",
       "       [4, 6, 5]])"
      ]
     },
     "execution_count": 372,
     "metadata": {},
     "output_type": "execute_result"
    }
   ],
   "source": [
    "a = np.arange(6).reshape(3, 2)\n",
    "np.insert(a, 1, 6, axis=1)"
   ]
  },
  {
   "cell_type": "markdown",
   "id": "ab02fc5b",
   "metadata": {},
   "source": [
    "# interp\n",
    "- One-dimensional linear interpolation for monotonically increasing sample points.\n",
    "- Returns the one-dimensional piecewise linear interpolant to a function with given discrete data points (xp, fp), evaluated at x."
   ]
  },
  {
   "cell_type": "code",
   "execution_count": 373,
   "id": "95dbea2e",
   "metadata": {},
   "outputs": [
    {
     "data": {
      "text/plain": [
       "np.float64(1.0)"
      ]
     },
     "execution_count": 373,
     "metadata": {},
     "output_type": "execute_result"
    }
   ],
   "source": [
    "np.interp(2.5,\n",
    "    np.array([1, 2, 3]),\n",
    "    np.array([3, 2, 0])\n",
    ")"
   ]
  },
  {
   "cell_type": "markdown",
   "id": "67ca233a",
   "metadata": {},
   "source": [
    "# intersect1d\n",
    "- Find the intersection of two arrays.\n",
    "- Return the sorted, unique values that are in both of the input arrays."
   ]
  },
  {
   "cell_type": "code",
   "execution_count": 374,
   "id": "a7df6b31",
   "metadata": {},
   "outputs": [
    {
     "data": {
      "text/plain": [
       "array([1, 3])"
      ]
     },
     "execution_count": 374,
     "metadata": {},
     "output_type": "execute_result"
    }
   ],
   "source": [
    "np.intersect1d([1, 3, 4, 3], [3, 1, 2, 1])"
   ]
  },
  {
   "cell_type": "markdown",
   "id": "12b5f947",
   "metadata": {},
   "source": [
    "# invert\n",
    "- Compute bit-wise inversion, or bit-wise NOT, element-wise.\n",
    "- Computes the bit-wise NOT of the underlying binary representation of the integers in the input arrays. This ufunc implements the C/Python operator ~."
   ]
  },
  {
   "cell_type": "code",
   "execution_count": 375,
   "id": "09e1cacf",
   "metadata": {},
   "outputs": [
    {
     "data": {
      "text/plain": [
       "True"
      ]
     },
     "execution_count": 375,
     "metadata": {},
     "output_type": "execute_result"
    }
   ],
   "source": [
    "np.bitwise_not is np.invert"
   ]
  },
  {
   "cell_type": "markdown",
   "id": "8ca82717",
   "metadata": {},
   "source": [
    "# is_busday\n",
    "- Calculates which of the given dates are valid days, and which are not."
   ]
  },
  {
   "cell_type": "code",
   "execution_count": 378,
   "id": "d5dad736",
   "metadata": {},
   "outputs": [
    {
     "name": "stdout",
     "output_type": "stream",
     "text": [
      "True\n",
      "[ True  True False False  True]\n"
     ]
    }
   ],
   "source": [
    "print(np.is_busday(\"2025-10-09\"))\n",
    "print(np.is_busday([\"2025-10-09\", \"2025-10-10\", \"2025-10-11\", \"2025-10-12\", \"2025-10-13\"]))"
   ]
  },
  {
   "cell_type": "markdown",
   "id": "75da291c",
   "metadata": {},
   "source": [
    "# isclose\n",
    "- Returns a boolean array where two arrays are element-wise equal within a tolerance.\n",
    "\n",
    "- The tolerance values are positive, typically very small numbers. The relative difference (rtol * abs(b)) and the absolute difference atol are added together to compare against the absolute difference between a and b."
   ]
  },
  {
   "cell_type": "code",
   "execution_count": 379,
   "id": "84da5aa8",
   "metadata": {},
   "outputs": [
    {
     "name": "stdout",
     "output_type": "stream",
     "text": [
      "[ True False]\n",
      "[ True  True]\n",
      "[False  True]\n",
      "[ True False]\n",
      "[ True  True]\n",
      "[ True False]\n",
      "[False False]\n",
      "[ True  True]\n",
      "[False  True]\n"
     ]
    }
   ],
   "source": [
    "print(np.isclose([1e10,1e-7], [1.00001e10,1e-8]))\n",
    "print(np.isclose([1e10,1e-8], [1.00001e10,1e-9]))\n",
    "print(np.isclose([1e10,1e-8], [1.0001e10,1e-9]))\n",
    "print(np.isclose([1.0, np.nan], [1.0, np.nan]))\n",
    "print(np.isclose([1.0, np.nan], [1.0, np.nan], equal_nan=True))\n",
    "print(np.isclose([1e-8, 1e-7], [0.0, 0.0]))\n",
    "print(np.isclose([1e-100, 1e-7], [0.0, 0.0], atol=0.0))\n",
    "print(np.isclose([1e-10, 1e-10], [1e-20, 0.0]))\n",
    "print(np.isclose([1e-10, 1e-10], [1e-20, 0.999999e-10], atol=0.0))"
   ]
  },
  {
   "cell_type": "markdown",
   "id": "8eb18a13",
   "metadata": {},
   "source": [
    "# iscomplex\n",
    "- Returns a bool array, where True if input element is complex.\n",
    "- What is tested is whether the input has a non-zero imaginary part, not if the input type is complex."
   ]
  },
  {
   "cell_type": "code",
   "execution_count": 380,
   "id": "aa568a28",
   "metadata": {},
   "outputs": [
    {
     "data": {
      "text/plain": [
       "array([ True, False, False, False, False,  True])"
      ]
     },
     "execution_count": 380,
     "metadata": {},
     "output_type": "execute_result"
    }
   ],
   "source": [
    "np.iscomplex([1+1j, 1+0j, 4.5, 3, 2, 2j])"
   ]
  },
  {
   "cell_type": "markdown",
   "id": "ef02b0ae",
   "metadata": {},
   "source": [
    "# iscomplexobj\n",
    "- Check for a complex type or an array of complex numbers.\n",
    "- The type of the input is checked, not the value. Even if the input has an imaginary part equal to zero, iscomplexobj evaluates to True."
   ]
  },
  {
   "cell_type": "code",
   "execution_count": 381,
   "id": "ec5e88ab",
   "metadata": {},
   "outputs": [
    {
     "name": "stdout",
     "output_type": "stream",
     "text": [
      "False\n",
      "True\n",
      "True\n"
     ]
    }
   ],
   "source": [
    "print(np.iscomplexobj(1))\n",
    "print(np.iscomplexobj(1+0j))\n",
    "print(np.iscomplexobj([3, 1+0j, True]))"
   ]
  },
  {
   "cell_type": "markdown",
   "id": "f0063040",
   "metadata": {},
   "source": [
    "# isdtype\n",
    "- Determine if a provided dtype is of a specified data type kind.\n",
    "- This function only supports built-in NumPy’s data types. Third-party dtypes are not yet supported."
   ]
  },
  {
   "cell_type": "code",
   "execution_count": 382,
   "id": "cfe33194",
   "metadata": {},
   "outputs": [
    {
     "name": "stdout",
     "output_type": "stream",
     "text": [
      "False\n",
      "True\n",
      "True\n"
     ]
    }
   ],
   "source": [
    "print(np.isdtype(np.float32, np.float64))\n",
    "print(np.isdtype(np.float32, \"real floating\"))\n",
    "print(np.isdtype(np.complex128, (\"real floating\", \"complex floating\")))"
   ]
  },
  {
   "cell_type": "markdown",
   "id": "d6abed63",
   "metadata": {},
   "source": [
    "# isfinite\n",
    "- Test element-wise for finiteness (not infinity and not Not a Number).\n",
    "- The result is returned as a boolean array"
   ]
  },
  {
   "cell_type": "code",
   "execution_count": 384,
   "id": "e2c4b621",
   "metadata": {},
   "outputs": [
    {
     "name": "stdout",
     "output_type": "stream",
     "text": [
      "True\n",
      "True\n",
      "False\n",
      "False\n",
      "False\n",
      "Floating point error (invalid value), with flag 8\n",
      "Floating point error (divide by zero), with flag 1\n",
      "[False  True False]\n",
      "[0 1 0]\n"
     ]
    }
   ],
   "source": [
    "print(np.isfinite(1))\n",
    "print(np.isfinite(0))\n",
    "print(np.isfinite(np.nan))\n",
    "print(np.isfinite(np.inf))\n",
    "print(np.isfinite(-np.inf))\n",
    "print(np.isfinite([np.log(-1.),1.,np.log(0)]))\n",
    "x = np.array([-np.inf, 0., np.inf])\n",
    "y = np.array([2, 2, 2])\n",
    "print(np.isfinite(x, y))\n"
   ]
  },
  {
   "cell_type": "markdown",
   "id": "0082a92e",
   "metadata": {},
   "source": [
    "# isfortran\n",
    "- Check if the array is Fortran contiguous but not C contiguous.\n",
    "- "
   ]
  },
  {
   "cell_type": "code",
   "execution_count": 385,
   "id": "fbf9c4ab",
   "metadata": {},
   "outputs": [
    {
     "data": {
      "text/plain": [
       "False"
      ]
     },
     "execution_count": 385,
     "metadata": {},
     "output_type": "execute_result"
    }
   ],
   "source": [
    "np.isfortran(\n",
    "    np.array([1, 2])\n",
    ")"
   ]
  },
  {
   "cell_type": "markdown",
   "id": "be362bc8",
   "metadata": {},
   "source": [
    "# isin\n",
    "- Calculates element in test_elements, broadcasting over element only. Returns a boolean array of the same shape as element that is True where an element of element is in test_elements and False otherwise."
   ]
  },
  {
   "cell_type": "code",
   "execution_count": 386,
   "id": "a530bd88",
   "metadata": {},
   "outputs": [
    {
     "data": {
      "text/plain": [
       "array([[False,  True],\n",
       "       [ True, False]])"
      ]
     },
     "execution_count": 386,
     "metadata": {},
     "output_type": "execute_result"
    }
   ],
   "source": [
    "np.isin(\n",
    "    2*np.arange(4).reshape((2, 2)),\n",
    "    [1, 2, 4, 8]\n",
    ")"
   ]
  },
  {
   "cell_type": "markdown",
   "id": "2604e7f8",
   "metadata": {},
   "source": [
    "# isinf\n",
    "- Test element-wise for positive or negative infinity.\n",
    "- Returns a boolean array of the same shape as x, True where x == +/-inf, otherwise False."
   ]
  },
  {
   "cell_type": "code",
   "execution_count": 387,
   "id": "92c16a51",
   "metadata": {},
   "outputs": [
    {
     "name": "stdout",
     "output_type": "stream",
     "text": [
      "True\n",
      "False\n",
      "True\n",
      "[ True  True False False]\n",
      "[1 0 1]\n"
     ]
    }
   ],
   "source": [
    "print(np.isinf(np.inf))\n",
    "print(np.isinf(np.nan))\n",
    "print(np.isinf(-np.inf))\n",
    "print(np.isinf([np.inf, -np.inf, 1.0, np.nan]))\n",
    "x = np.array([-np.inf, 0., np.inf])\n",
    "y = np.array([2, 2, 2])\n",
    "print(np.isinf(x, y))\n"
   ]
  },
  {
   "cell_type": "markdown",
   "id": "dd78e2d4",
   "metadata": {},
   "source": [
    "# isnan\n",
    "- Test element-wise for NaN and return result as a boolean array."
   ]
  },
  {
   "cell_type": "code",
   "execution_count": 388,
   "id": "280da6ca",
   "metadata": {},
   "outputs": [
    {
     "name": "stdout",
     "output_type": "stream",
     "text": [
      "True\n",
      "False\n",
      "Floating point error (invalid value), with flag 8\n",
      "Floating point error (divide by zero), with flag 1\n",
      "[ True False False]\n"
     ]
    }
   ],
   "source": [
    "print(np.isnan(np.nan))\n",
    "print(np.isnan(np.inf))\n",
    "print(np.isnan([np.log(-1.),1.,np.log(0)]))"
   ]
  },
  {
   "cell_type": "markdown",
   "id": "407fb836",
   "metadata": {},
   "source": [
    "# isnat\n",
    "- Test element-wise for NaT (not a time) and return result as a boolean array."
   ]
  },
  {
   "cell_type": "code",
   "execution_count": 389,
   "id": "51deb0ab",
   "metadata": {},
   "outputs": [
    {
     "name": "stdout",
     "output_type": "stream",
     "text": [
      "True\n",
      "False\n",
      "[ True False]\n"
     ]
    }
   ],
   "source": [
    "print(np.isnat(np.datetime64(\"NaT\")))\n",
    "print(np.isnat(np.datetime64(\"2016-01-01\")))\n",
    "print(np.isnat(np.array([\"NaT\", \"2016-01-01\"], dtype=\"datetime64[ns]\")))"
   ]
  },
  {
   "cell_type": "markdown",
   "id": "14ce68a7",
   "metadata": {},
   "source": [
    "# isneginf\n",
    "- Test element-wise for negative infinity, return result as bool array."
   ]
  },
  {
   "cell_type": "code",
   "execution_count": 390,
   "id": "6ad0c846",
   "metadata": {},
   "outputs": [
    {
     "name": "stdout",
     "output_type": "stream",
     "text": [
      "True\n",
      "False\n",
      "[ True False False]\n",
      "[1 0 0]\n"
     ]
    }
   ],
   "source": [
    "print(np.isneginf(-np.inf))\n",
    "print(np.isneginf(np.inf))\n",
    "print(np.isneginf([-np.inf, 0., np.inf]))\n",
    "x = np.array([-np.inf, 0., np.inf])\n",
    "y = np.array([2, 2, 2])\n",
    "print(np.isneginf(x, y))"
   ]
  },
  {
   "cell_type": "markdown",
   "id": "caa8e4b3",
   "metadata": {},
   "source": [
    "# isposinf\n",
    "- Test element-wise for positive infinity, return result as bool array."
   ]
  },
  {
   "cell_type": "code",
   "execution_count": 391,
   "id": "4ef2a06e",
   "metadata": {},
   "outputs": [
    {
     "name": "stdout",
     "output_type": "stream",
     "text": [
      "False\n",
      "True\n",
      "[False False  True]\n",
      "[0 0 1]\n"
     ]
    }
   ],
   "source": [
    "print(np.isposinf(-np.inf))\n",
    "print(np.isposinf(np.inf))\n",
    "print(np.isposinf([-np.inf, 0., np.inf]))\n",
    "x = np.array([-np.inf, 0., np.inf])\n",
    "y = np.array([2, 2, 2])\n",
    "print(np.isposinf(x, y))"
   ]
  },
  {
   "cell_type": "markdown",
   "id": "bf0087af",
   "metadata": {},
   "source": [
    "# isreal\n",
    "- Returns a bool array, where True if input element is real.\n",
    "- If element has complex type with zero imaginary part, the return value for that element is True."
   ]
  },
  {
   "cell_type": "code",
   "execution_count": 393,
   "id": "1ad82142",
   "metadata": {},
   "outputs": [
    {
     "name": "stdout",
     "output_type": "stream",
     "text": [
      "True\n",
      "True\n",
      "[ True  True  True]\n",
      "[ True  True  True]\n"
     ]
    }
   ],
   "source": [
    "print(np.isreal(-np.inf))\n",
    "print(np.isreal(np.inf))\n",
    "print(np.isreal([-np.inf, 0., np.inf]))\n",
    "x = np.array([-np.inf, 0., np.inf])\n",
    "y = np.array([2, 2, 2])\n",
    "print(np.isreal(x))"
   ]
  },
  {
   "cell_type": "markdown",
   "id": "080e2131",
   "metadata": {},
   "source": [
    "# isrealobj\n",
    "- Return True if x is a not complex type or an array of complex numbers.\n",
    "- The type of the input is checked, not the value. So even if the input has an imaginary part equal to zero, isrealobj evaluates to False if the data type is complex."
   ]
  },
  {
   "cell_type": "code",
   "execution_count": 394,
   "id": "621a6826",
   "metadata": {},
   "outputs": [
    {
     "name": "stdout",
     "output_type": "stream",
     "text": [
      "True\n",
      "True\n",
      "True\n",
      "True\n"
     ]
    }
   ],
   "source": [
    "print(np.isrealobj(-np.inf))\n",
    "print(np.isrealobj(np.inf))\n",
    "print(np.isrealobj([-np.inf, 0., np.inf]))\n",
    "x = np.array([-np.inf, 0., np.inf])\n",
    "y = np.array([2, 2, 2])\n",
    "print(np.isrealobj(x))"
   ]
  },
  {
   "cell_type": "markdown",
   "id": "b8cd4f4f",
   "metadata": {},
   "source": [
    "# isscalar\n",
    "- Returns True if the type of element is a scalar type."
   ]
  },
  {
   "cell_type": "code",
   "execution_count": 395,
   "id": "6f1d30a0",
   "metadata": {},
   "outputs": [
    {
     "name": "stdout",
     "output_type": "stream",
     "text": [
      "True\n",
      "False\n",
      "False\n",
      "True\n",
      "True\n"
     ]
    }
   ],
   "source": [
    "print(np.isscalar(3.1))\n",
    "print(np.isscalar(np.array(3.1)))\n",
    "print(np.isscalar([3.1]))\n",
    "print(np.isscalar(False))\n",
    "print(np.isscalar('numpy'))"
   ]
  },
  {
   "cell_type": "markdown",
   "id": "3856d39c",
   "metadata": {},
   "source": [
    "# issubdtype\n",
    "- Returns True if first argument is a typecode lower/equal in type hierarchy."
   ]
  },
  {
   "cell_type": "code",
   "execution_count": 397,
   "id": "ac2830a7",
   "metadata": {},
   "outputs": [
    {
     "name": "stdout",
     "output_type": "stream",
     "text": [
      "True\n",
      "False\n",
      "False\n",
      "True\n",
      "False\n",
      "False\n",
      "True\n",
      "True\n",
      "True\n",
      "True\n"
     ]
    }
   ],
   "source": [
    "ints = np.array([1, 2, 3], dtype=np.int32)\n",
    "print(np.issubdtype(ints.dtype, np.integer))\n",
    "print(np.issubdtype(ints.dtype, np.floating))\n",
    "floats = np.array([1, 2, 3], dtype=np.float32)\n",
    "print(np.issubdtype(floats.dtype, np.integer))\n",
    "print(np.issubdtype(floats.dtype, np.floating))\n",
    "print(np.issubdtype(np.float64, np.float32))\n",
    "print(np.issubdtype(np.float32, np.float64))\n",
    "print(np.issubdtype(np.float64, np.floating))\n",
    "print(np.issubdtype(np.float32, np.floating))\n",
    "print(np.issubdtype('S1', np.bytes_))\n",
    "print(np.issubdtype('i4', np.signedinteger))"
   ]
  },
  {
   "cell_type": "markdown",
   "id": "844a0bbf",
   "metadata": {},
   "source": [
    "# iterable\n",
    "- Check whether or not an object can be iterated over."
   ]
  },
  {
   "cell_type": "code",
   "execution_count": 398,
   "id": "4664f2e1",
   "metadata": {},
   "outputs": [
    {
     "name": "stdout",
     "output_type": "stream",
     "text": [
      "True\n",
      "False\n",
      "True\n",
      "False\n"
     ]
    }
   ],
   "source": [
    "from collections.abc import Iterable\n",
    "a = np.array(1.0)  # 0-dimensional numpy array\n",
    "print(isinstance(a, Iterable))\n",
    "print(np.iterable(a))\n",
    "print(np.iterable([1, 2, 3]))\n",
    "print(np.iterable(2))"
   ]
  },
  {
   "cell_type": "markdown",
   "id": "f455ab74",
   "metadata": {},
   "source": [
    "# ix_\n",
    "- Construct an open mesh from multiple sequences.\n",
    "- This function takes N 1-D sequences and returns N outputs with N dimensions each, such that the shape is 1 in all but one dimension and the dimension with the non-unit shape value cycles through all N dimensions.\n",
    "- Using ix_ one can quickly construct index arrays that will index the cross product. a[np.ix_([1,3],[2,5])] returns the array [[a[1,2] a[1,5]], [a[3,2] a[3,5]]]."
   ]
  },
  {
   "cell_type": "code",
   "execution_count": 399,
   "id": "31b0ed19",
   "metadata": {},
   "outputs": [
    {
     "name": "stdout",
     "output_type": "stream",
     "text": [
      "[[0 1 2 3 4]\n",
      " [5 6 7 8 9]]\n",
      "(array([[0],\n",
      "       [1]]), array([[2, 4]]))\n",
      "[[2 4]\n",
      " [7 9]]\n"
     ]
    }
   ],
   "source": [
    "a = np.arange(10).reshape(2, 5)\n",
    "print(a)\n",
    "ixgrid = np.ix_([0, 1], [2, 4])\n",
    "print(ixgrid)\n",
    "ixgrid[0].shape, ixgrid[1].shape\n",
    "print(a[ixgrid])"
   ]
  },
  {
   "cell_type": "markdown",
   "id": "922efc8d",
   "metadata": {},
   "source": [
    "# kaiser\n",
    "- Return the Kaiser window.\n",
    "- The Kaiser window is a taper formed by using a Bessel function."
   ]
  },
  {
   "cell_type": "code",
   "execution_count": 400,
   "id": "f4579635",
   "metadata": {},
   "outputs": [
    {
     "data": {
      "text/plain": [
       "array([7.72686684e-06, 3.46009194e-03, 4.65200189e-02, 2.29737120e-01,\n",
       "       5.99885316e-01, 9.45674898e-01, 9.45674898e-01, 5.99885316e-01,\n",
       "       2.29737120e-01, 4.65200189e-02, 3.46009194e-03, 7.72686684e-06])"
      ]
     },
     "execution_count": 400,
     "metadata": {},
     "output_type": "execute_result"
    }
   ],
   "source": [
    "np.kaiser(12, 14)"
   ]
  },
  {
   "cell_type": "markdown",
   "id": "fb2c60ba",
   "metadata": {},
   "source": [
    "# kron\n",
    "- Kronecker product of two arrays.\n",
    "- Computes the Kronecker product, a composite array made of blocks of the second array scaled by the first."
   ]
  },
  {
   "cell_type": "code",
   "execution_count": 401,
   "id": "500a8741",
   "metadata": {},
   "outputs": [
    {
     "name": "stdout",
     "output_type": "stream",
     "text": [
      "[  5   6   7  50  60  70 500 600 700]\n",
      "[  5  50 500   6  60 600   7  70 700]\n"
     ]
    }
   ],
   "source": [
    "print(np.kron([1,10,100], [5,6,7]))\n",
    "print(np.kron([5,6,7], [1,10,100]))"
   ]
  },
  {
   "cell_type": "markdown",
   "id": "71dcd5ba",
   "metadata": {},
   "source": [
    "# lcm\n",
    "- Returns the lowest common multiple of |x1| and |x2|"
   ]
  },
  {
   "cell_type": "code",
   "execution_count": 402,
   "id": "404c63ab",
   "metadata": {},
   "outputs": [
    {
     "name": "stdout",
     "output_type": "stream",
     "text": [
      "60\n",
      "60\n",
      "120\n",
      "[ 0 20 20 60 20 20]\n"
     ]
    }
   ],
   "source": [
    "print(np.lcm(12, 20))\n",
    "print(np.lcm.reduce([3, 12, 20]))\n",
    "print(np.lcm.reduce([40, 12, 20]))\n",
    "print(np.lcm(np.arange(6), 20))"
   ]
  },
  {
   "cell_type": "markdown",
   "id": "75ee92c0",
   "metadata": {},
   "source": [
    "# ldexp\n",
    "- Returns x1 * 2**x2, element-wise.\n",
    "- The mantissas x1 and twos exponents x2 are used to construct floating point numbers x1 * 2**x2."
   ]
  },
  {
   "cell_type": "code",
   "execution_count": 403,
   "id": "c70d3198",
   "metadata": {},
   "outputs": [
    {
     "name": "stdout",
     "output_type": "stream",
     "text": [
      "[ 5. 10. 20. 40.]\n",
      "[0. 1. 2. 3. 4. 5.]\n"
     ]
    }
   ],
   "source": [
    "print(np.ldexp(5, np.arange(4)))\n",
    "x = np.arange(6)\n",
    "print(np.ldexp(*np.frexp(x)))"
   ]
  },
  {
   "cell_type": "markdown",
   "id": "5339ee94",
   "metadata": {},
   "source": [
    "# left_shift\n",
    "- Shift the bits of an integer to the left.\n",
    "- same as bitwise_left_shift"
   ]
  },
  {
   "cell_type": "code",
   "execution_count": 405,
   "id": "4c5e13a8",
   "metadata": {},
   "outputs": [
    {
     "data": {
      "text/plain": [
       "True"
      ]
     },
     "execution_count": 405,
     "metadata": {},
     "output_type": "execute_result"
    }
   ],
   "source": [
    "np.left_shift is np.bitwise_left_shift"
   ]
  },
  {
   "cell_type": "markdown",
   "id": "0aeb891f",
   "metadata": {},
   "source": [
    "# less\n",
    "- Return the truth value of (x1 < x2) element-wise."
   ]
  },
  {
   "cell_type": "code",
   "execution_count": 407,
   "id": "5378acc2",
   "metadata": {},
   "outputs": [
    {
     "name": "stdout",
     "output_type": "stream",
     "text": [
      "[ True False]\n",
      "[[False  True]\n",
      " [False  True]]\n"
     ]
    }
   ],
   "source": [
    "print(np.less([1, 2], [2, 2]))\n",
    "print(\n",
    "    np.less(\n",
    "        np.array([[20, 30], [40, 50]]),\n",
    "        np.array([[10, 40], [30, 60]])\n",
    "    )\n",
    ")"
   ]
  },
  {
   "cell_type": "markdown",
   "id": "4c422679",
   "metadata": {},
   "source": [
    "# less_equal\n",
    "- Return the truth value of (x1 <= x2) element-wise."
   ]
  },
  {
   "cell_type": "code",
   "execution_count": 408,
   "id": "c5653fd9",
   "metadata": {},
   "outputs": [
    {
     "name": "stdout",
     "output_type": "stream",
     "text": [
      "[ True  True]\n",
      "[[False  True]\n",
      " [False  True]]\n"
     ]
    }
   ],
   "source": [
    "print(np.less_equal([1, 2], [2, 2]))\n",
    "print(\n",
    "    np.less_equal(\n",
    "        np.array([[20, 30], [40, 50]]),\n",
    "        np.array([[10, 40], [30, 60]])\n",
    "    )\n",
    ")"
   ]
  },
  {
   "cell_type": "markdown",
   "id": "26478f12",
   "metadata": {},
   "source": [
    "# lexsort\n",
    "- Perform an indirect stable sort using a sequence of keys.\n",
    "- Given multiple sorting keys, lexsort returns an array of integer indices that describes the sort order by multiple keys. The last key in the sequence is used for the primary sort order, ties are broken by the second-to-last key, and so on."
   ]
  },
  {
   "cell_type": "code",
   "execution_count": 409,
   "id": "018d0b95",
   "metadata": {},
   "outputs": [
    {
     "name": "stdout",
     "output_type": "stream",
     "text": [
      "[1 2 0]\n"
     ]
    }
   ],
   "source": [
    "surnames =    ('Hertz',    'Galilei', 'Hertz')\n",
    "first_names = ('Heinrich', 'Galileo', 'Gustav')\n",
    "ind = np.lexsort((first_names, surnames))\n",
    "print(ind)"
   ]
  },
  {
   "cell_type": "markdown",
   "id": "40bf1a22",
   "metadata": {},
   "source": [
    "# load\n",
    "- Load arrays or pickled objects from .npy, .npz or pickled files."
   ]
  },
  {
   "cell_type": "code",
   "execution_count": 413,
   "id": "80d7410e",
   "metadata": {},
   "outputs": [
    {
     "name": "stdout",
     "output_type": "stream",
     "text": [
      "[[1 2 3]\n",
      " [4 5 6]]\n"
     ]
    }
   ],
   "source": [
    "np.save('tmp123', np.array([[1, 2, 3], [4, 5, 6]]))\n",
    "a = np.load('tmp123.npy')\n",
    "print(a)"
   ]
  },
  {
   "cell_type": "markdown",
   "id": "cdc8d555",
   "metadata": {},
   "source": [
    "# loadtxt\n",
    "- Load data from a text file."
   ]
  },
  {
   "cell_type": "code",
   "execution_count": 414,
   "id": "fe28206d",
   "metadata": {},
   "outputs": [
    {
     "name": "stdout",
     "output_type": "stream",
     "text": [
      "[[0. 1.]\n",
      " [2. 3.]]\n"
     ]
    }
   ],
   "source": [
    "from io import StringIO   # StringIO behaves like a file object\n",
    "c = StringIO(\"0 1\\n2 3\")\n",
    "a = np.loadtxt(c)\n",
    "print(a)"
   ]
  },
  {
   "cell_type": "markdown",
   "id": "e9109710",
   "metadata": {},
   "source": [
    "# log\n",
    "- Natural logarithm, element-wise.\n",
    "- The natural logarithm log is the inverse of the exponential function, so that log(exp(x)) = x. The natural logarithm is logarithm in base e."
   ]
  },
  {
   "cell_type": "code",
   "execution_count": 415,
   "id": "8e8a0819",
   "metadata": {},
   "outputs": [
    {
     "name": "stdout",
     "output_type": "stream",
     "text": [
      "Floating point error (divide by zero), with flag 1\n"
     ]
    },
    {
     "data": {
      "text/plain": [
       "array([  0.,   1.,   2., -inf])"
      ]
     },
     "execution_count": 415,
     "metadata": {},
     "output_type": "execute_result"
    }
   ],
   "source": [
    "np.log([1, np.e, np.e**2, 0])"
   ]
  },
  {
   "cell_type": "markdown",
   "id": "92798cf3",
   "metadata": {},
   "source": [
    "# log10\n",
    "- Return the base 10 logarithm of the input array, element-wise."
   ]
  },
  {
   "cell_type": "code",
   "execution_count": 416,
   "id": "1212f9ec",
   "metadata": {},
   "outputs": [
    {
     "name": "stdout",
     "output_type": "stream",
     "text": [
      "Floating point error (invalid value), with flag 8\n"
     ]
    },
    {
     "data": {
      "text/plain": [
       "array([-15.,  nan])"
      ]
     },
     "execution_count": 416,
     "metadata": {},
     "output_type": "execute_result"
    }
   ],
   "source": [
    "np.log10([1e-15, -3.])"
   ]
  },
  {
   "cell_type": "markdown",
   "id": "5db19230",
   "metadata": {},
   "source": [
    "# log1p\n",
    "- Return the natural logarithm of one plus the input array, element-wise.\n",
    "- Calculates log(1 + x)."
   ]
  },
  {
   "cell_type": "code",
   "execution_count": 417,
   "id": "53820712",
   "metadata": {},
   "outputs": [
    {
     "name": "stdout",
     "output_type": "stream",
     "text": [
      "1e-99\n",
      "0.0\n"
     ]
    }
   ],
   "source": [
    "print(np.log1p(1e-99))\n",
    "print(np.log(1 + 1e-99))"
   ]
  },
  {
   "cell_type": "markdown",
   "id": "078cb0ae",
   "metadata": {},
   "source": [
    "# log2\n",
    "- Base-2 logarithm of x."
   ]
  },
  {
   "cell_type": "code",
   "execution_count": 419,
   "id": "9b42b6bf",
   "metadata": {},
   "outputs": [
    {
     "data": {
      "text/plain": [
       "array([0., 1., 4.])"
      ]
     },
     "execution_count": 419,
     "metadata": {},
     "output_type": "execute_result"
    }
   ],
   "source": [
    "x = np.array([1, 2, 2**4])\n",
    "np.log2(x)"
   ]
  },
  {
   "cell_type": "markdown",
   "id": "ca1125f0",
   "metadata": {},
   "source": [
    "# logaddexp\n",
    "- Logarithm of the sum of exponentiations of the inputs.\n",
    "- Calculates log(exp(x1) + exp(x2)). This function is useful in statistics where the calculated probabilities of events may be so small as to exceed the range of normal floating point numbers. In such cases the logarithm of the calculated probability is stored. This function allows adding probabilities stored in such a fashion."
   ]
  },
  {
   "cell_type": "code",
   "execution_count": 420,
   "id": "d2c9089c",
   "metadata": {},
   "outputs": [
    {
     "data": {
      "text/plain": [
       "np.float64(3.5000000000000057e-50)"
      ]
     },
     "execution_count": 420,
     "metadata": {},
     "output_type": "execute_result"
    }
   ],
   "source": [
    "prob1 = np.log(1e-50)\n",
    "prob2 = np.log(2.5e-50)\n",
    "prob12 = np.logaddexp(prob1, prob2)\n",
    "np.exp(prob12)"
   ]
  },
  {
   "cell_type": "markdown",
   "id": "e6743f40",
   "metadata": {},
   "source": [
    "# logaddexp2\n",
    "- Logarithm of the sum of exponentiations of the inputs in base-2.\n",
    "- Calculates log2(2**x1 + 2**x2). This function is useful in machine learning when the calculated probabilities of events may be so small as to exceed the range of normal floating point numbers. In such cases the base-2 logarithm of the calculated probability can be used instead. This function allows adding probabilities stored in such a fashion."
   ]
  },
  {
   "cell_type": "code",
   "execution_count": 421,
   "id": "b5ee6e19",
   "metadata": {},
   "outputs": [
    {
     "name": "stdout",
     "output_type": "stream",
     "text": [
      "-166.09640474436813 -164.77447664948076 -164.28904982231052\n",
      "3.4999999999999914e-50\n"
     ]
    }
   ],
   "source": [
    "prob1 = np.log2(1e-50)\n",
    "prob2 = np.log2(2.5e-50)\n",
    "prob12 = np.logaddexp2(prob1, prob2)\n",
    "print(prob1, prob2, prob12)\n",
    "print(2**prob12)"
   ]
  },
  {
   "cell_type": "markdown",
   "id": "128f2344",
   "metadata": {},
   "source": [
    "# logical_and\n",
    "- Compute the truth value of x1 AND x2 element-wise."
   ]
  },
  {
   "cell_type": "code",
   "execution_count": 422,
   "id": "d5930ba8",
   "metadata": {},
   "outputs": [
    {
     "name": "stdout",
     "output_type": "stream",
     "text": [
      "False\n",
      "[False False]\n"
     ]
    }
   ],
   "source": [
    "print(np.logical_and(True, False))\n",
    "print(np.logical_and([True, False], [False, False]))"
   ]
  },
  {
   "cell_type": "markdown",
   "id": "f1a491b7",
   "metadata": {},
   "source": [
    "# logical_not\n",
    "- Compute the truth value of NOT x element-wise."
   ]
  },
  {
   "cell_type": "code",
   "execution_count": 423,
   "id": "29ea2da1",
   "metadata": {},
   "outputs": [
    {
     "name": "stdout",
     "output_type": "stream",
     "text": [
      "False\n",
      "[False  True  True False]\n"
     ]
    }
   ],
   "source": [
    "print(np.logical_not(3))\n",
    "print(np.logical_not([True, False, 0, 1]))"
   ]
  },
  {
   "cell_type": "markdown",
   "id": "d1777d6f",
   "metadata": {},
   "source": [
    "# logical_or\n",
    "- Compute the truth value of x1 OR x2 element-wise."
   ]
  },
  {
   "cell_type": "code",
   "execution_count": 424,
   "id": "572490c8",
   "metadata": {},
   "outputs": [
    {
     "name": "stdout",
     "output_type": "stream",
     "text": [
      "True\n",
      "[ True False]\n"
     ]
    }
   ],
   "source": [
    "print(np.logical_or(True, False))\n",
    "print(np.logical_or([True, False], [False, False]))"
   ]
  },
  {
   "cell_type": "markdown",
   "id": "3bdc9056",
   "metadata": {},
   "source": [
    "# logical_xor\n",
    "- Compute the truth value of x1 XOR x2, element-wise."
   ]
  },
  {
   "cell_type": "code",
   "execution_count": 425,
   "id": "ac6744f5",
   "metadata": {},
   "outputs": [
    {
     "name": "stdout",
     "output_type": "stream",
     "text": [
      "True\n",
      "[False  True  True False]\n"
     ]
    }
   ],
   "source": [
    "print(np.logical_xor(True, False))\n",
    "print(np.logical_xor([True, True, False, False], [True, False, True, False]))"
   ]
  },
  {
   "cell_type": "markdown",
   "id": "aa49d4df",
   "metadata": {},
   "source": [
    "# logspace\n",
    "- Return numbers spaced evenly on a log scale.\n",
    "- In linear space, the sequence starts at base ** start (base to the power of start) and ends with base ** stop."
   ]
  },
  {
   "cell_type": "code",
   "execution_count": 426,
   "id": "3e45325b",
   "metadata": {},
   "outputs": [
    {
     "name": "stdout",
     "output_type": "stream",
     "text": [
      "[ 100.          215.443469    464.15888336 1000.        ]\n",
      "[100.         177.827941   316.22776602 562.34132519]\n",
      "[4.         5.0396842  6.34960421 8.        ]\n",
      "[[ 4.          5.0396842   6.34960421  8.        ]\n",
      " [ 9.         12.98024613 18.72075441 27.        ]]\n"
     ]
    }
   ],
   "source": [
    "print(np.logspace(2.0, 3.0, num=4))\n",
    "print(np.logspace(2.0, 3.0, num=4, endpoint=False))\n",
    "print(np.logspace(2.0, 3.0, num=4, base=2.0))\n",
    "print(np.logspace(2.0, 3.0, num=4, base=[2.0, 3.0], axis=-1))"
   ]
  },
  {
   "cell_type": "markdown",
   "id": "5c1c9fd0",
   "metadata": {},
   "source": [
    "# mask_indices\n",
    "- Return the indices to access (n, n) arrays, given a masking function.\n",
    "- Assume mask_func is a function that, for a square array a of size (n, n) with a possible offset argument k, when called as mask_func(a, k) returns a new array with zeros in certain locations (functions like triu or tril do precisely this). Then this function returns the indices where the non-zero values would be located."
   ]
  },
  {
   "cell_type": "code",
   "execution_count": 427,
   "id": "21f2c1d3",
   "metadata": {},
   "outputs": [
    {
     "data": {
      "text/plain": [
       "(array([0, 0, 0, 1, 1, 2]), array([0, 1, 2, 1, 2, 2]))"
      ]
     },
     "execution_count": 427,
     "metadata": {},
     "output_type": "execute_result"
    }
   ],
   "source": [
    "np.mask_indices(3, np.triu)"
   ]
  },
  {
   "cell_type": "markdown",
   "id": "a3393e8a",
   "metadata": {},
   "source": [
    "# matmul\n",
    "- Matrix product of two arrays.\n",
    "- The @ operator can be used as a shorthand for np.matmul on ndarrays."
   ]
  },
  {
   "cell_type": "code",
   "execution_count": null,
   "id": "34febd84",
   "metadata": {},
   "outputs": [
    {
     "data": {
      "text/plain": [
       "array([[4, 1],\n",
       "       [2, 2]])"
      ]
     },
     "execution_count": 428,
     "metadata": {},
     "output_type": "execute_result"
    }
   ],
   "source": [
    "a = np.array([[1, 0],\n",
    "              [0, 1]])\n",
    "b = np.array([[4, 1],\n",
    "              [2, 2]])\n",
    "np.matmul(a, b)"
   ]
  },
  {
   "cell_type": "markdown",
   "id": "a1158f86",
   "metadata": {},
   "source": [
    "# matrix\n",
    "- Returns a matrix from an array-like object, or from a string of data.\n",
    "- A matrix is a specialized 2-D array that retains its 2-D nature through operations. It has certain special operators, such as * (matrix multiplication) and ** (matrix power)."
   ]
  },
  {
   "cell_type": "code",
   "execution_count": 429,
   "id": "22b5b4de",
   "metadata": {},
   "outputs": [
    {
     "name": "stdout",
     "output_type": "stream",
     "text": [
      "[[1 2]\n",
      " [3 4]]\n"
     ]
    }
   ],
   "source": [
    "print(np.matrix('1 2; 3 4'))"
   ]
  },
  {
   "cell_type": "markdown",
   "id": "55365475",
   "metadata": {},
   "source": [
    "# matrix_tranpose\n",
    "- Transposes a matrix (or a stack of matrices) x."
   ]
  },
  {
   "cell_type": "code",
   "execution_count": 430,
   "id": "6c608961",
   "metadata": {},
   "outputs": [
    {
     "data": {
      "text/plain": [
       "array([[1, 3],\n",
       "       [2, 4]])"
      ]
     },
     "execution_count": 430,
     "metadata": {},
     "output_type": "execute_result"
    }
   ],
   "source": [
    "np.matrix_transpose([[1, 2], [3, 4]])"
   ]
  },
  {
   "cell_type": "markdown",
   "id": "5791417b",
   "metadata": {},
   "source": [
    "# max\n",
    "- Return the maximum of an array or maximum along an axis."
   ]
  },
  {
   "cell_type": "code",
   "execution_count": 433,
   "id": "25a35314",
   "metadata": {},
   "outputs": [
    {
     "name": "stdout",
     "output_type": "stream",
     "text": [
      "False\n",
      "10\n",
      "3\n",
      "[2 3]\n",
      "[1 3]\n",
      "[-1  3]\n",
      "nan\n",
      "4.0\n",
      "4.0\n"
     ]
    }
   ],
   "source": [
    "print(np.max is np.argmax)\n",
    "print(np.max(np.array([2, 3, 4, 10])))\n",
    "a = np.arange(4).reshape((2,2))\n",
    "print(np.max(a))           # Maximum of the flattened array\n",
    "print(np.max(a, axis=0))   # Maxima along the first axis\n",
    "print(np.max(a, axis=1))   # Maxima along the second axis\n",
    "print(np.max(a, where=[False, True], initial=-1, axis=0))\n",
    "b = np.arange(5, dtype=float)\n",
    "b[2] = np.nan\n",
    "print(np.max(b))\n",
    "print(np.max(b, where=~np.isnan(b), initial=-1))\n",
    "print(np.nanmax(b))"
   ]
  },
  {
   "cell_type": "markdown",
   "id": "ecc4e0a4",
   "metadata": {},
   "source": [
    "# maximum\n",
    "- Element-wise maximum of array elements.\n",
    "- Compare two arrays and return a new array containing the element-wise maxima. If one of the elements being compared is a NaN, then that element is returned. If both elements are NaNs then the first is returned. The latter distinction is important for complex NaNs, which are defined as at least one of the real or imaginary parts being a NaN. The net effect is that NaNs are propagated."
   ]
  },
  {
   "cell_type": "code",
   "execution_count": 436,
   "id": "2ec32f79",
   "metadata": {},
   "outputs": [
    {
     "name": "stdout",
     "output_type": "stream",
     "text": [
      "False\n",
      "[2 5 4]\n"
     ]
    }
   ],
   "source": [
    "print(np.max is np.maximum)\n",
    "print(np.maximum([2, 3, 4], [1, 5, 2]))"
   ]
  },
  {
   "cell_type": "markdown",
   "id": "a1d164c6",
   "metadata": {},
   "source": [
    "# may_share_memory\n",
    "- Determine if two arrays might share memory\n",
    "- A return of True does not necessarily mean that the two arrays share any element. It just means that they might.\n",
    "- Only the memory bounds of a and b are checked by default."
   ]
  },
  {
   "cell_type": "code",
   "execution_count": 438,
   "id": "7d511ba8",
   "metadata": {},
   "outputs": [
    {
     "name": "stdout",
     "output_type": "stream",
     "text": [
      "False\n",
      "True\n"
     ]
    }
   ],
   "source": [
    "print(np.may_share_memory(np.array([1,2]), np.array([5,8,9])))\n",
    "x = np.zeros([3, 4])\n",
    "print(np.may_share_memory(x[:,0], x[:,1]))"
   ]
  },
  {
   "cell_type": "markdown",
   "id": "76e61ae6",
   "metadata": {},
   "source": [
    "# mean\n",
    "- Compute the arithmetic mean along the specified axis.\n",
    "- Returns the average of the array elements. The average is taken over the flattened array by default, otherwise over the specified axis. float64 intermediate and return values are used for integer inputs."
   ]
  },
  {
   "cell_type": "code",
   "execution_count": 439,
   "id": "0431cdea",
   "metadata": {},
   "outputs": [
    {
     "name": "stdout",
     "output_type": "stream",
     "text": [
      "2.5\n",
      "[2. 3.]\n",
      "[1.5 3.5]\n"
     ]
    }
   ],
   "source": [
    "a = np.array([[1, 2], [3, 4]])\n",
    "print(np.mean(a))\n",
    "print(np.mean(a, axis=0))\n",
    "print(np.mean(a, axis=1))"
   ]
  },
  {
   "cell_type": "markdown",
   "id": "98a12e66",
   "metadata": {},
   "source": [
    "# media\n",
    "- Compute the median along the specified axis.\n",
    "- Returns the median of the array elements."
   ]
  },
  {
   "cell_type": "code",
   "execution_count": 441,
   "id": "78f3fd06",
   "metadata": {},
   "outputs": [
    {
     "name": "stdout",
     "output_type": "stream",
     "text": [
      "[[10  7  4]\n",
      " [ 3  2  1]]\n",
      "3.5\n",
      "[6.5 4.5 2.5]\n",
      "[7. 2.]\n",
      "3.5\n",
      "[6.5 4.5 2.5]\n",
      "[6.5 4.5 2.5]\n",
      "[7. 2.]\n",
      "3.5\n"
     ]
    }
   ],
   "source": [
    "a = np.array([[10, 7, 4], [3, 2, 1]])\n",
    "print(a)\n",
    "print(np.median(a))\n",
    "print(np.median(a, axis=0))\n",
    "print(np.median(a, axis=1))\n",
    "print(np.median(a, axis=(0, 1)))\n",
    "m = np.median(a, axis=0)\n",
    "out = np.zeros_like(m)\n",
    "print(np.median(a, axis=0, out=m))\n",
    "print(m)\n",
    "b = a.copy()\n",
    "print(np.median(b, axis=1, overwrite_input=True))\n",
    "assert not np.all(a==b)\n",
    "b = a.copy()\n",
    "print(np.median(b, axis=None, overwrite_input=True))\n",
    "assert not np.all(a==b)"
   ]
  },
  {
   "cell_type": "markdown",
   "id": "a6393c7a",
   "metadata": {},
   "source": [
    "# memmap\n",
    "- Create a memory-map to an array stored in a binary file on disk.\n",
    "- Memory-mapped files are used for accessing small segments of large files on disk, without reading the entire file into memory. NumPy’s memmap’s are array-like objects. This differs from Python’s mmap module, which uses file-like objects.\n",
    "- This subclass of ndarray has some unpleasant interactions with some operations, because it doesn’t quite fit properly as a subclass. An alternative to using this subclass is to create the mmap object yourself, then create an ndarray with ndarray.__new__ directly, passing the object created in its ‘buffer=’ parameter.\n",
    "- This class may at some point be turned into a factory function which returns a view into an mmap buffer.\n",
    "- Flush the memmap instance to write the changes to the file. Currently there is no API to close the underlying mmap. It is tricky to ensure the resource is actually closed, since it may be shared between different memmap instances."
   ]
  },
  {
   "cell_type": "code",
   "execution_count": null,
   "id": "56f33251",
   "metadata": {},
   "outputs": [],
   "source": []
  },
  {
   "cell_type": "markdown",
   "id": "3f333f5f",
   "metadata": {},
   "source": [
    "# mgrid\n",
    "- An instance which returns a dense multi-dimensional “meshgrid”.\n",
    "- An instance which returns a dense (or fleshed out) mesh-grid when indexed, so that each returned argument has the same shape. The dimensions and number of the output arrays are equal to the number of indexing dimensions. If the step length is not a complex number, then the stop is not inclusive.\n",
    "- However, if the step length is a complex number (e.g. 5j), then the integer part of its magnitude is interpreted as specifying the number of points to create between the start and stop values, where the stop value is inclusive."
   ]
  },
  {
   "cell_type": "code",
   "execution_count": 442,
   "id": "a655437d",
   "metadata": {},
   "outputs": [
    {
     "name": "stdout",
     "output_type": "stream",
     "text": [
      "[[[0 0 0 0 0]\n",
      "  [1 1 1 1 1]\n",
      "  [2 2 2 2 2]\n",
      "  [3 3 3 3 3]\n",
      "  [4 4 4 4 4]]\n",
      "\n",
      " [[0 1 2 3 4]\n",
      "  [0 1 2 3 4]\n",
      "  [0 1 2 3 4]\n",
      "  [0 1 2 3 4]\n",
      "  [0 1 2 3 4]]]\n",
      "[-1.  -0.5  0.   0.5  1. ]\n"
     ]
    }
   ],
   "source": [
    "print(np.mgrid[0:5, 0:5])\n",
    "print(np.mgrid[-1:1:5j])"
   ]
  },
  {
   "cell_type": "markdown",
   "id": "76edfc6e",
   "metadata": {},
   "source": [
    "# min\n",
    "- Return the minimum of an array or minimum along an axis."
   ]
  },
  {
   "cell_type": "code",
   "execution_count": 443,
   "id": "336de1f3",
   "metadata": {},
   "outputs": [
    {
     "name": "stdout",
     "output_type": "stream",
     "text": [
      "[[0 1]\n",
      " [2 3]]\n",
      "0\n",
      "[0 1]\n",
      "[0 2]\n",
      "[10  1]\n"
     ]
    }
   ],
   "source": [
    "a = np.arange(4).reshape((2,2))\n",
    "print(a)\n",
    "print(np.min(a))           # Minimum of the flattened array\n",
    "print(np.min(a, axis=0))   # Minima along the first axis\n",
    "print(np.min(a, axis=1))   # Minima along the second axis\n",
    "print(np.min(a, where=[False, True], initial=10, axis=0))"
   ]
  },
  {
   "cell_type": "markdown",
   "id": "8c27fb1a",
   "metadata": {},
   "source": [
    "# min_scalar_type\n",
    "- For scalar a, returns the data type with the smallest size and smallest scalar kind which can hold its value. For non-scalar array a, returns the vector’s dtype unmodified.\n",
    "- Floating point values are not demoted to integers, and complex values are not demoted to floats."
   ]
  },
  {
   "cell_type": "code",
   "execution_count": 444,
   "id": "eaa62630",
   "metadata": {},
   "outputs": [
    {
     "name": "stdout",
     "output_type": "stream",
     "text": [
      "uint8\n",
      "int16\n",
      "float64\n",
      "float64\n"
     ]
    }
   ],
   "source": [
    "print(np.min_scalar_type(10))\n",
    "print(np.min_scalar_type(-260))\n",
    "print(np.min_scalar_type(1e50))\n",
    "print(np.min_scalar_type(np.arange(4,dtype='f8')))"
   ]
  },
  {
   "cell_type": "markdown",
   "id": "57f2bbbe",
   "metadata": {},
   "source": [
    "# minimum\n",
    "- Element-wise minimum of array elements.\n",
    "- Compare two arrays and return a new array containing the element-wise minima. If one of the elements being compared is a NaN, then that element is returned. If both elements are NaNs then the first is returned. The latter distinction is important for complex NaNs, which are defined as at least one of the real or imaginary parts being a NaN. The net effect is that NaNs are propagated."
   ]
  },
  {
   "cell_type": "code",
   "execution_count": 445,
   "id": "abbbaf04",
   "metadata": {},
   "outputs": [
    {
     "name": "stdout",
     "output_type": "stream",
     "text": [
      "[1 3 2]\n",
      "[[0.5 0. ]\n",
      " [0.  1. ]]\n",
      "[nan nan nan]\n",
      "-inf\n"
     ]
    }
   ],
   "source": [
    "print(np.minimum([2, 3, 4], [1, 5, 2]))\n",
    "print(np.minimum(np.eye(2), [0.5, 2])) # broadcasting\n",
    "print(np.minimum([np.nan, 0, np.nan],[0, np.nan, np.nan]))\n",
    "print(np.minimum(-np.inf, 1))"
   ]
  },
  {
   "cell_type": "markdown",
   "id": "4660f99e",
   "metadata": {},
   "source": [
    "# mintypecode\n",
    "- Return the character for the minimum-size type to which given types can be safely cast.\n",
    "- The returned type character must represent the smallest size dtype such that an array of the returned type can handle the data from an array of all types in typechars (or if typechars is an array, then its dtype.char)."
   ]
  },
  {
   "cell_type": "code",
   "execution_count": 446,
   "id": "752fb9ce",
   "metadata": {},
   "outputs": [
    {
     "name": "stdout",
     "output_type": "stream",
     "text": [
      "d\n",
      "D\n"
     ]
    }
   ],
   "source": [
    "print(np.mintypecode(['d', 'f', 'S']))\n",
    "x = np.array([1.1, 2-3.j])\n",
    "print(np.mintypecode(x))"
   ]
  },
  {
   "cell_type": "markdown",
   "id": "bcc80d52",
   "metadata": {},
   "source": [
    "# mod\n",
    "- Returns the element-wise remainder of division.\n",
    "- Computes the remainder complementary to the floor_divide function. It is equivalent to the Python modulus operator x1 % x2 and has the same sign as the divisor x2. The MATLAB function equivalent to np.remainder is mod.\n",
    "- The % operator can be used as a shorthand for np.remainder on ndarrays."
   ]
  },
  {
   "cell_type": "code",
   "execution_count": 447,
   "id": "e47b553e",
   "metadata": {},
   "outputs": [
    {
     "name": "stdout",
     "output_type": "stream",
     "text": [
      "[0 1]\n",
      "[0 1 2 3 4 0 1]\n",
      "[0 1 2 3 4 0 1]\n"
     ]
    }
   ],
   "source": [
    "print(np.remainder([4, 7], [2, 3]))\n",
    "print(np.remainder(np.arange(7), 5))\n",
    "x1 = np.arange(7)\n",
    "print(x1 % 5)"
   ]
  },
  {
   "cell_type": "markdown",
   "id": "cea32055",
   "metadata": {},
   "source": [
    "# modf\n",
    "- Return the fractional and integral parts of an array, element-wise.\n",
    "- The fractional and integral parts are negative if the given number is negative."
   ]
  },
  {
   "cell_type": "code",
   "execution_count": 448,
   "id": "72a625a1",
   "metadata": {},
   "outputs": [
    {
     "name": "stdout",
     "output_type": "stream",
     "text": [
      "(array([0. , 0.5]), array([0., 3.]))\n",
      "(np.float64(-0.5), np.float64(-0.0))\n"
     ]
    }
   ],
   "source": [
    "print(np.modf([0, 3.5]))\n",
    "print(np.modf(-0.5))"
   ]
  },
  {
   "cell_type": "markdown",
   "id": "5c6d5612",
   "metadata": {},
   "source": [
    "# moveaxis\n",
    "- Move axes of an array to new positions.\n",
    "- Other axes remain in their original order."
   ]
  },
  {
   "cell_type": "code",
   "execution_count": 449,
   "id": "0e553d9e",
   "metadata": {},
   "outputs": [
    {
     "name": "stdout",
     "output_type": "stream",
     "text": [
      "(4, 5, 3)\n",
      "(5, 3, 4)\n"
     ]
    }
   ],
   "source": [
    "x = np.zeros((3, 4, 5))\n",
    "print(np.moveaxis(x, 0, -1).shape)\n",
    "print(np.moveaxis(x, -1, 0).shape)"
   ]
  },
  {
   "cell_type": "markdown",
   "id": "49903331",
   "metadata": {},
   "source": [
    "# multiply\n",
    "- Multiply arguments element-wise."
   ]
  },
  {
   "cell_type": "code",
   "execution_count": 450,
   "id": "d27ef809",
   "metadata": {},
   "outputs": [
    {
     "name": "stdout",
     "output_type": "stream",
     "text": [
      "8.0\n",
      "[[ 0.  1.  4.]\n",
      " [ 0.  4. 10.]\n",
      " [ 0.  7. 16.]]\n"
     ]
    }
   ],
   "source": [
    "print(np.multiply(2.0, 4.0))\n",
    "x1 = np.arange(9.0).reshape((3, 3))\n",
    "x2 = np.arange(3.0)\n",
    "print(np.multiply(x1, x2))"
   ]
  },
  {
   "cell_type": "markdown",
   "id": "e4f4108b",
   "metadata": {},
   "source": [
    "# nan_to_num\n",
    "- Replace NaN with zero and infinity with large finite numbers (default behaviour) or with the numbers defined by the user using the nan, posinf and/or neginf keywords.\n",
    "- If x is inexact, NaN is replaced by zero or by the user defined value in nan keyword, infinity is replaced by the largest finite floating point values representable by x.dtype or by the user defined value in posinf keyword and -infinity is replaced by the most negative finite floating point values representable by x.dtype or by the user defined value in neginf keyword.\n",
    "- For complex dtypes, the above is applied to each of the real and imaginary components of x separately.\n",
    "- If x is not inexact, then no replacements are made."
   ]
  },
  {
   "cell_type": "code",
   "execution_count": 451,
   "id": "05ef3abf",
   "metadata": {},
   "outputs": [
    {
     "name": "stdout",
     "output_type": "stream",
     "text": [
      "1.7976931348623157e+308\n",
      "-1.7976931348623157e+308\n",
      "0.0\n",
      "[ 1.79769313e+308 -1.79769313e+308  0.00000000e+000 -1.28000000e+002\n",
      "  1.28000000e+002]\n",
      "[ 3.3333333e+07  3.3333333e+07 -9.9990000e+03 -1.2800000e+02\n",
      "  1.2800000e+02]\n",
      "[1.79769313e+308+0.00000000e+000j 0.00000000e+000+0.00000000e+000j\n",
      " 0.00000000e+000+1.79769313e+308j]\n",
      "[222222.+111111.j 111111.     +0.j 111111.+222222.j]\n"
     ]
    }
   ],
   "source": [
    "print(np.nan_to_num(np.inf))\n",
    "print(np.nan_to_num(-np.inf))\n",
    "print(np.nan_to_num(np.nan))\n",
    "x = np.array([np.inf, -np.inf, np.nan, -128, 128])\n",
    "print(np.nan_to_num(x))\n",
    "print(np.nan_to_num(x, nan=-9999, posinf=33333333, neginf=33333333))\n",
    "y = np.array([complex(np.inf, np.nan), np.nan, complex(np.nan, np.inf)])\n",
    "print(np.nan_to_num(y))\n",
    "print(np.nan_to_num(y, nan=111111, posinf=222222))"
   ]
  },
  {
   "cell_type": "markdown",
   "id": "0cbe10ae",
   "metadata": {},
   "source": [
    "# nanargmax\n",
    "- Return the indices of the maximum values in the specified axis ignoring NaNs. For all-NaN slices ValueError is raised. Warning: the results cannot be trusted if a slice contains only NaNs and -Infs."
   ]
  },
  {
   "cell_type": "code",
   "execution_count": 452,
   "id": "69d75952",
   "metadata": {},
   "outputs": [
    {
     "name": "stdout",
     "output_type": "stream",
     "text": [
      "0\n",
      "1\n",
      "[1 0]\n",
      "[1 1]\n"
     ]
    }
   ],
   "source": [
    "a = np.array([[np.nan, 4], [2, 3]])\n",
    "print(np.argmax(a))\n",
    "print(np.nanargmax(a))\n",
    "print(np.nanargmax(a, axis=0))\n",
    "print(np.nanargmax(a, axis=1))"
   ]
  },
  {
   "cell_type": "markdown",
   "id": "169da7e8",
   "metadata": {},
   "source": [
    "# nanargmin\n",
    "- Return the indices of the minimum values in the specified axis ignoring NaNs. For all-NaN slices ValueError is raised. Warning: the results cannot be trusted if a slice contains only NaNs and Infs."
   ]
  },
  {
   "cell_type": "code",
   "execution_count": 453,
   "id": "370ee600",
   "metadata": {},
   "outputs": [
    {
     "name": "stdout",
     "output_type": "stream",
     "text": [
      "0\n",
      "2\n",
      "[1 1]\n",
      "[1 0]\n"
     ]
    }
   ],
   "source": [
    "a = np.array([[np.nan, 4], [2, 3]])\n",
    "print(np.argmin(a))\n",
    "print(np.nanargmin(a))\n",
    "print(np.nanargmin(a, axis=0))\n",
    "print(np.nanargmin(a, axis=1))"
   ]
  },
  {
   "cell_type": "markdown",
   "id": "695a9ca6",
   "metadata": {},
   "source": [
    "# nancumprod\n",
    "- Return the cumulative product of array elements over a given axis treating Not a Numbers (NaNs) as one. The cumulative product does not change when NaNs are encountered and leading NaNs are replaced by ones.\n",
    "- Ones are returned for slices that are all-NaN or empty."
   ]
  },
  {
   "cell_type": "code",
   "execution_count": 454,
   "id": "16caa91f",
   "metadata": {},
   "outputs": [
    {
     "name": "stdout",
     "output_type": "stream",
     "text": [
      "[1]\n",
      "[1]\n",
      "[1. 1.]\n",
      "[1. 2. 6. 6.]\n",
      "[[1. 2.]\n",
      " [3. 2.]]\n",
      "[[1. 2.]\n",
      " [3. 3.]]\n"
     ]
    }
   ],
   "source": [
    "print(np.nancumprod(1))\n",
    "print(np.nancumprod([1]))\n",
    "print(np.nancumprod([1, np.nan]))\n",
    "a = np.array([[1, 2], [3, np.nan]])\n",
    "print(np.nancumprod(a))\n",
    "print(np.nancumprod(a, axis=0))\n",
    "print(np.nancumprod(a, axis=1))"
   ]
  },
  {
   "cell_type": "markdown",
   "id": "3138a8e2",
   "metadata": {},
   "source": [
    "# nancumsum\n",
    "- Return the cumulative sum of array elements over a given axis treating Not a Numbers (NaNs) as zero. The cumulative sum does not change when NaNs are encountered and leading NaNs are replaced by zeros.\n",
    "- Zeros are returned for slices that are all-NaN or empty."
   ]
  },
  {
   "cell_type": "code",
   "execution_count": 455,
   "id": "a5603f05",
   "metadata": {},
   "outputs": [
    {
     "name": "stdout",
     "output_type": "stream",
     "text": [
      "[1]\n",
      "[1]\n",
      "[1. 1.]\n",
      "[1. 3. 6. 6.]\n",
      "[[1. 2.]\n",
      " [4. 2.]]\n",
      "[[1. 3.]\n",
      " [3. 3.]]\n"
     ]
    }
   ],
   "source": [
    "print(np.nancumsum(1))\n",
    "print(np.nancumsum([1]))\n",
    "print(np.nancumsum([1, np.nan]))\n",
    "a = np.array([[1, 2], [3, np.nan]])\n",
    "print(np.nancumsum(a))\n",
    "print(np.nancumsum(a, axis=0))\n",
    "print(np.nancumsum(a, axis=1))"
   ]
  },
  {
   "cell_type": "markdown",
   "id": "6fc384a9",
   "metadata": {},
   "source": [
    "# nanmax\n",
    "- Return the maximum of an array or maximum along an axis, ignoring any NaNs. When all-NaN slices are encountered a RuntimeWarning is raised and NaN is returned for that slice."
   ]
  },
  {
   "cell_type": "code",
   "execution_count": 456,
   "id": "566a724a",
   "metadata": {},
   "outputs": [
    {
     "name": "stdout",
     "output_type": "stream",
     "text": [
      "3.0\n",
      "[3. 2.]\n",
      "[2. 3.]\n",
      "2.0\n",
      "inf\n"
     ]
    }
   ],
   "source": [
    "a = np.array([[1, 2], [3, np.nan]])\n",
    "print(np.nanmax(a))\n",
    "print(np.nanmax(a, axis=0))\n",
    "print(np.nanmax(a, axis=1))\n",
    "print(np.nanmax([1, 2, np.nan, -np.inf]))\n",
    "print(np.nanmax([1, 2, np.nan, np.inf]))"
   ]
  },
  {
   "cell_type": "markdown",
   "id": "41a9ee73",
   "metadata": {},
   "source": [
    "# nanmean\n",
    "- Compute the arithmetic mean along the specified axis, ignoring NaNs.\n",
    "- Returns the average of the array elements. The average is taken over the flattened array by default, otherwise over the specified axis. float64 intermediate and return values are used for integer inputs.\n",
    "- For all-NaN slices, NaN is returned and a RuntimeWarning is raised."
   ]
  },
  {
   "cell_type": "code",
   "execution_count": 457,
   "id": "01aa2844",
   "metadata": {},
   "outputs": [
    {
     "name": "stdout",
     "output_type": "stream",
     "text": [
      "2.6666666666666665\n",
      "[2. 4.]\n",
      "[1.  3.5]\n"
     ]
    }
   ],
   "source": [
    "a = np.array([[1, np.nan], [3, 4]])\n",
    "print(np.nanmean(a))\n",
    "print(np.nanmean(a, axis=0))\n",
    "print(np.nanmean(a, axis=1))"
   ]
  },
  {
   "cell_type": "markdown",
   "id": "86d76596",
   "metadata": {},
   "source": [
    "# nanmedian\n",
    "- Compute the median along the specified axis, while ignoring NaNs.\n",
    "- Returns the median of the array elements."
   ]
  },
  {
   "cell_type": "code",
   "execution_count": 459,
   "id": "1bace292",
   "metadata": {},
   "outputs": [
    {
     "name": "stdout",
     "output_type": "stream",
     "text": [
      "[[10. nan  4.]\n",
      " [ 3.  2.  1.]]\n",
      "nan\n",
      "3.0\n",
      "[6.5 2.  2.5]\n",
      "[nan  2.]\n",
      "[7. 2.]\n",
      "3.0\n"
     ]
    }
   ],
   "source": [
    "a = np.array([[10.0, 7, 4], [3, 2, 1]])\n",
    "a[0, 1] = np.nan\n",
    "print(a)\n",
    "print(np.median(a))\n",
    "print(np.nanmedian(a))\n",
    "print(np.nanmedian(a, axis=0))\n",
    "print(np.median(a, axis=1))\n",
    "b = a.copy()\n",
    "print(np.nanmedian(b, axis=1, overwrite_input=True))\n",
    "assert not np.all(a==b)\n",
    "b = a.copy()\n",
    "print(np.nanmedian(b, axis=None, overwrite_input=True))\n",
    "assert not np.all(a==b)"
   ]
  },
  {
   "cell_type": "markdown",
   "id": "c69f9604",
   "metadata": {},
   "source": [
    "# nanmin\n",
    "- Return minimum of an array or minimum along an axis, ignoring any NaNs. When all-NaN slices are encountered a RuntimeWarning is raised and Nan is returned for that slice."
   ]
  },
  {
   "cell_type": "code",
   "execution_count": 460,
   "id": "4b4f12f1",
   "metadata": {},
   "outputs": [
    {
     "name": "stdout",
     "output_type": "stream",
     "text": [
      "1.0\n",
      "[1. 2.]\n",
      "[1. 3.]\n",
      "1.0\n",
      "-inf\n"
     ]
    }
   ],
   "source": [
    "a = np.array([[1, 2], [3, np.nan]])\n",
    "print(np.nanmin(a))\n",
    "print(np.nanmin(a, axis=0))\n",
    "print(np.nanmin(a, axis=1))\n",
    "print(np.nanmin([1, 2, np.nan, np.inf]))\n",
    "print(np.nanmin([1, 2, np.nan, -np.inf]))"
   ]
  },
  {
   "cell_type": "markdown",
   "id": "c401ccba",
   "metadata": {},
   "source": [
    "# nanpercentile\n",
    "- Compute the qth percentile of the data along the specified axis, while ignoring nan values.\n",
    "- Returns the qth percentile(s) of the array elements."
   ]
  },
  {
   "cell_type": "code",
   "execution_count": 461,
   "id": "738c4548",
   "metadata": {},
   "outputs": [
    {
     "name": "stdout",
     "output_type": "stream",
     "text": [
      "[[10. nan  4.]\n",
      " [ 3.  2.  1.]]\n",
      "nan\n",
      "3.0\n",
      "[6.5 2.  2.5]\n",
      "[[7.]\n",
      " [2.]]\n",
      "[6.5 2.  2.5]\n",
      "[6.5 2.  2.5]\n",
      "[7. 2.]\n"
     ]
    }
   ],
   "source": [
    "a = np.array([[10., 7., 4.], [3., 2., 1.]])\n",
    "a[0][1] = np.nan\n",
    "print(a)\n",
    "print(np.percentile(a, 50))\n",
    "print(np.nanpercentile(a, 50))\n",
    "print(np.nanpercentile(a, 50, axis=0))\n",
    "print(np.nanpercentile(a, 50, axis=1, keepdims=True))\n",
    "m = np.nanpercentile(a, 50, axis=0)\n",
    "out = np.zeros_like(m)\n",
    "print(np.nanpercentile(a, 50, axis=0, out=out))\n",
    "print(m)\n",
    "b = a.copy()\n",
    "print(np.nanpercentile(b, 50, axis=1, overwrite_input=True))\n",
    "assert not np.all(a==b)"
   ]
  },
  {
   "cell_type": "markdown",
   "id": "7cc75852",
   "metadata": {},
   "source": [
    "# nanprod\n",
    "- Return the product of array elements over a given axis treating Not a Numbers (NaNs) as ones.\n",
    "- One is returned for slices that are all-NaN or empty."
   ]
  },
  {
   "cell_type": "code",
   "execution_count": 462,
   "id": "31826656",
   "metadata": {},
   "outputs": [
    {
     "name": "stdout",
     "output_type": "stream",
     "text": [
      "1\n",
      "1\n",
      "1.0\n",
      "6.0\n",
      "[3. 2.]\n"
     ]
    }
   ],
   "source": [
    "print(np.nanprod(1))\n",
    "print(np.nanprod([1]))\n",
    "print(np.nanprod([1, np.nan]))\n",
    "a = np.array([[1, 2], [3, np.nan]])\n",
    "print(np.nanprod(a))\n",
    "print(np.nanprod(a, axis=0))"
   ]
  },
  {
   "cell_type": "markdown",
   "id": "61df3282",
   "metadata": {},
   "source": [
    "# nanquantile\n",
    "- Compute the qth quantile of the data along the specified axis, while ignoring nan values. Returns the qth quantile(s) of the array elements."
   ]
  },
  {
   "cell_type": "code",
   "execution_count": 463,
   "id": "79a947b9",
   "metadata": {},
   "outputs": [
    {
     "name": "stdout",
     "output_type": "stream",
     "text": [
      "[[10. nan  4.]\n",
      " [ 3.  2.  1.]]\n",
      "nan\n",
      "3.0\n",
      "[6.5 2.  2.5]\n",
      "[[7.]\n",
      " [2.]]\n",
      "[6.5 2.  2.5]\n",
      "[6.5 2.  2.5]\n",
      "[7. 2.]\n"
     ]
    }
   ],
   "source": [
    "a = np.array([[10., 7., 4.], [3., 2., 1.]])\n",
    "a[0][1] = np.nan\n",
    "print(a)\n",
    "print(np.quantile(a, 0.5))\n",
    "print(np.nanquantile(a, 0.5))\n",
    "print(np.nanquantile(a, 0.5, axis=0))\n",
    "print(np.nanquantile(a, 0.5, axis=1, keepdims=True))\n",
    "m = np.nanquantile(a, 0.5, axis=0)\n",
    "out = np.zeros_like(m)\n",
    "print(np.nanquantile(a, 0.5, axis=0, out=out))\n",
    "print(m)\n",
    "b = a.copy()\n",
    "print(np.nanquantile(b, 0.5, axis=1, overwrite_input=True))\n",
    "assert not np.all(a==b)"
   ]
  },
  {
   "cell_type": "markdown",
   "id": "d6ad9994",
   "metadata": {},
   "source": [
    "# nanstd\n",
    "- Compute the standard deviation along the specified axis, while ignoring NaNs.\n",
    "- Returns the standard deviation, a measure of the spread of a distribution, of the non-NaN array elements. The standard deviation is computed for the flattened array by default, otherwise over the specified axis.\n",
    "- For all-NaN slices or slices with zero degrees of freedom, NaN is returned and a RuntimeWarning is raised."
   ]
  },
  {
   "cell_type": "code",
   "execution_count": 464,
   "id": "e815b62c",
   "metadata": {},
   "outputs": [
    {
     "name": "stdout",
     "output_type": "stream",
     "text": [
      "1.247219128924647\n",
      "[1. 0.]\n",
      "[0.  0.5]\n"
     ]
    }
   ],
   "source": [
    "a = np.array([[1, np.nan], [3, 4]])\n",
    "print(np.nanstd(a))\n",
    "print(np.nanstd(a, axis=0))\n",
    "print(np.nanstd(a, axis=1))"
   ]
  },
  {
   "cell_type": "markdown",
   "id": "92a0ca1b",
   "metadata": {},
   "source": [
    "# nansum\n",
    "- Return the sum of array elements over a given axis treating Not a Numbers (NaNs) as zero."
   ]
  },
  {
   "cell_type": "code",
   "execution_count": 465,
   "id": "7e07c9d1",
   "metadata": {},
   "outputs": [
    {
     "name": "stdout",
     "output_type": "stream",
     "text": [
      "1\n",
      "1\n",
      "1.0\n",
      "3.0\n",
      "[2. 1.]\n",
      "inf\n",
      "-inf\n",
      "nan\n"
     ]
    }
   ],
   "source": [
    "print(np.nansum(1))\n",
    "print(np.nansum([1]))\n",
    "print(np.nansum([1, np.nan]))\n",
    "a = np.array([[1, 1], [1, np.nan]])\n",
    "print(np.nansum(a))\n",
    "print(np.nansum(a, axis=0))\n",
    "print(np.nansum([1, np.nan, np.inf]))\n",
    "print(np.nansum([1, np.nan, -np.inf]))\n",
    "from numpy.testing import suppress_warnings\n",
    "with np.errstate(invalid=\"ignore\"):\n",
    "    print(np.nansum([1, np.nan, np.inf, -np.inf])) # both +/- infinity present"
   ]
  },
  {
   "cell_type": "markdown",
   "id": "c1314660",
   "metadata": {},
   "source": [
    "# nanvar\n",
    "- Compute the variance along the specified axis, while ignoring NaNs.\n",
    "- Returns the variance of the array elements, a measure of the spread of a distribution. The variance is computed for the flattened array by default, otherwise over the specified axis.\n",
    "- For all-NaN slices or slices with zero degrees of freedom, NaN is returned and a RuntimeWarning is raised."
   ]
  },
  {
   "cell_type": "code",
   "execution_count": 466,
   "id": "9e76c643",
   "metadata": {},
   "outputs": [
    {
     "name": "stdout",
     "output_type": "stream",
     "text": [
      "1.5555555555555554\n",
      "[1. 0.]\n",
      "[0.   0.25]\n"
     ]
    }
   ],
   "source": [
    "a = np.array([[1, np.nan], [3, 4]])\n",
    "print(np.nanvar(a))\n",
    "print(np.nanvar(a, axis=0))\n",
    "print(np.nanvar(a, axis=1))"
   ]
  },
  {
   "cell_type": "markdown",
   "id": "cefca412",
   "metadata": {},
   "source": [
    "# ndarray\n",
    "- An array object represents a multidimensional, homogeneous array of fixed-size items. An associated data-type object describes the format of each element in the array (its byte-order, how many bytes it occupies in memory, whether it is an integer, a floating point number, or something else, etc.)\n",
    "- Arrays should be constructed using array, zeros or empty (refer to the See Also section below). The parameters given here refer to a low-level method (ndarray(…)) for instantiating an array.\n",
    "- For more information, refer to the numpy module and examine the methods and attributes of an array.\n",
    "# Notes: use array instead"
   ]
  },
  {
   "cell_type": "code",
   "execution_count": 468,
   "id": "bff183d1",
   "metadata": {},
   "outputs": [
    {
     "name": "stdout",
     "output_type": "stream",
     "text": [
      "[[0.   0.25]\n",
      " [0.   0.25]]\n",
      "[2 3]\n"
     ]
    }
   ],
   "source": [
    "print(np.ndarray(shape=(2,2), dtype=float, order='F'))\n",
    "print(np.ndarray((2,), buffer=np.array([1,2,3]),\n",
    "           offset=np.int_().itemsize,\n",
    "           dtype=int)) # offset = 1*itemsize, i.e. skip first element)"
   ]
  },
  {
   "cell_type": "markdown",
   "id": "df7f4818",
   "metadata": {},
   "source": [
    "# ndenumerate\n",
    "- Multidimensional index iterator.\n",
    "- Return an iterator yielding pairs of array coordinates and values.\n",
    "- Purpose: ndenumerate is designed for iterating over multi-dimensional arrays when you need both the coordinates (index tuple) and the value of each element."
   ]
  },
  {
   "cell_type": "code",
   "execution_count": 469,
   "id": "f72d6a64",
   "metadata": {},
   "outputs": [
    {
     "name": "stdout",
     "output_type": "stream",
     "text": [
      "(0, 0) 1\n",
      "(0, 1) 2\n",
      "(1, 0) 3\n",
      "(1, 1) 4\n"
     ]
    }
   ],
   "source": [
    "a = np.array([[1, 2], [3, 4]])\n",
    "for index, x in np.ndenumerate(a):\n",
    "    print(index, x)"
   ]
  },
  {
   "cell_type": "markdown",
   "id": "3203b52e",
   "metadata": {},
   "source": [
    "# ndim\n",
    "- Return the number of dimensions of an array."
   ]
  },
  {
   "cell_type": "code",
   "execution_count": 470,
   "id": "aaaef66a",
   "metadata": {},
   "outputs": [
    {
     "name": "stdout",
     "output_type": "stream",
     "text": [
      "2\n",
      "2\n",
      "0\n"
     ]
    }
   ],
   "source": [
    "print(np.ndim([[1,2,3],[4,5,6]]))\n",
    "print(np.ndim(np.array([[1,2,3],[4,5,6]])))\n",
    "print(np.ndim(1))"
   ]
  },
  {
   "cell_type": "markdown",
   "id": "8bb0c55e",
   "metadata": {},
   "source": [
    "# ndindex\n",
    "- An N-dimensional iterator object to index arrays.\n",
    "- Given the shape of an array, an ndindex instance iterates over the N-dimensional index of the array. At each iteration a tuple of indices is returned, the last dimension is iterated over first."
   ]
  },
  {
   "cell_type": "code",
   "execution_count": 471,
   "id": "16559ce5",
   "metadata": {},
   "outputs": [
    {
     "name": "stdout",
     "output_type": "stream",
     "text": [
      "(0, 0, 0)\n",
      "(0, 1, 0)\n",
      "(1, 0, 0)\n",
      "(1, 1, 0)\n",
      "(2, 0, 0)\n",
      "(2, 1, 0)\n",
      "(0, 0, 0)\n",
      "(0, 1, 0)\n",
      "(1, 0, 0)\n",
      "(1, 1, 0)\n",
      "(2, 0, 0)\n",
      "(2, 1, 0)\n"
     ]
    }
   ],
   "source": [
    "for index in np.ndindex(3, 2, 1):\n",
    "    print(index)\n",
    "for index in np.ndindex((3, 2, 1)):\n",
    "    print(index)"
   ]
  },
  {
   "cell_type": "markdown",
   "id": "7bf4c874",
   "metadata": {},
   "source": [
    "# nditer\n",
    "- Efficient multi-dimensional iterator object to iterate over arrays."
   ]
  },
  {
   "cell_type": "code",
   "execution_count": 472,
   "id": "e4c6485e",
   "metadata": {},
   "outputs": [
    {
     "name": "stdout",
     "output_type": "stream",
     "text": [
      "1 2 3 4 5 6 "
     ]
    }
   ],
   "source": [
    "arr = np.array([[1, 2, 3], [4, 5, 6]])\n",
    "\n",
    "# Basic iteration over all elements\n",
    "for x in np.nditer(arr):\n",
    "    print(x, end=' ')"
   ]
  },
  {
   "cell_type": "markdown",
   "id": "3b87454a",
   "metadata": {},
   "source": [
    "# negative\n",
    "- Numerical negative, element-wise."
   ]
  },
  {
   "cell_type": "code",
   "execution_count": 473,
   "id": "780eab39",
   "metadata": {},
   "outputs": [
    {
     "data": {
      "text/plain": [
       "array([-1.,  1.])"
      ]
     },
     "execution_count": 473,
     "metadata": {},
     "output_type": "execute_result"
    }
   ],
   "source": [
    "np.negative([1.,-1.])"
   ]
  },
  {
   "cell_type": "markdown",
   "id": "d8e24bff",
   "metadata": {},
   "source": [
    "# nested_iters\n",
    "- Create nditers for use in nested loops\n",
    "- Create a tuple of nditer objects which iterate in nested loops over different axes of the op argument. The first iterator is used in the outermost loop, the last in the innermost loop. Advancing one will change the subsequent iterators to point at its new element."
   ]
  },
  {
   "cell_type": "code",
   "execution_count": 474,
   "id": "ac4ecf6e",
   "metadata": {},
   "outputs": [
    {
     "name": "stdout",
     "output_type": "stream",
     "text": [
      "(0,)\n",
      " (0, 0) 0\n",
      " (0, 1) 1\n",
      " (1, 0) 6\n",
      " (1, 1) 7\n",
      "(1,)\n",
      " (0, 0) 2\n",
      " (0, 1) 3\n",
      " (1, 0) 8\n",
      " (1, 1) 9\n",
      "(2,)\n",
      " (0, 0) 4\n",
      " (0, 1) 5\n",
      " (1, 0) 10\n",
      " (1, 1) 11\n"
     ]
    }
   ],
   "source": [
    "a = np.arange(12).reshape(2, 3, 2)\n",
    "i, j = np.nested_iters(a, [[1], [0, 2]], flags=[\"multi_index\"])\n",
    "for x in i:\n",
    "     print(i.multi_index)\n",
    "     for y in j:\n",
    "         print('', j.multi_index, y)"
   ]
  },
  {
   "cell_type": "markdown",
   "id": "1822914e",
   "metadata": {},
   "source": [
    "# newaxis\n",
    "- A convenient alias for None, useful for indexing arrays."
   ]
  },
  {
   "cell_type": "code",
   "execution_count": 475,
   "id": "ab167be9",
   "metadata": {},
   "outputs": [
    {
     "name": "stdout",
     "output_type": "stream",
     "text": [
      "True\n",
      "[[0]\n",
      " [1]\n",
      " [2]]\n"
     ]
    }
   ],
   "source": [
    "print(np.newaxis is None)\n",
    "x = np.arange(3)\n",
    "print(x[:, np.newaxis])"
   ]
  },
  {
   "cell_type": "markdown",
   "id": "30af6c93",
   "metadata": {},
   "source": [
    "# nextafter\n",
    "- Return the next floating-point value after x1 towards x2, element-wise."
   ]
  },
  {
   "cell_type": "code",
   "execution_count": 477,
   "id": "cd2967d4",
   "metadata": {},
   "outputs": [
    {
     "name": "stdout",
     "output_type": "stream",
     "text": [
      "True\n",
      "[ True  True]\n",
      "10.000000000000002\n"
     ]
    }
   ],
   "source": [
    "eps = np.finfo(np.float64).eps\n",
    "print(np.nextafter(1, 2) == eps + 1)\n",
    "print(np.nextafter([1, 2], [2, 1]) == [eps + 1, 2 - eps])\n",
    "print(np.nextafter(10, 20))"
   ]
  },
  {
   "cell_type": "markdown",
   "id": "56c66a9d",
   "metadata": {},
   "source": [
    "# nonzero\n",
    "- Return the indices of the elements that are non-zero.\n",
    "- Returns a tuple of arrays, one for each dimension of a, containing the indices of the non-zero elements in that dimension. The values in a are always tested and returned in row-major, C-style order.\n",
    "- To group the indices by element, rather than dimension, use argwhere, which returns a row for each non-zero element."
   ]
  },
  {
   "cell_type": "code",
   "execution_count": 478,
   "id": "a40ad239",
   "metadata": {},
   "outputs": [
    {
     "name": "stdout",
     "output_type": "stream",
     "text": [
      "(array([0, 1, 2, 2]), array([0, 1, 0, 1]))\n"
     ]
    }
   ],
   "source": [
    "x = np.array([[3, 0, 0], [0, 4, 0], [5, 6, 0]])\n",
    "print(np.nonzero(x))"
   ]
  },
  {
   "cell_type": "markdown",
   "id": "182f5018",
   "metadata": {},
   "source": [
    "# not_equal\n",
    "- Return (x1 != x2) element-wise."
   ]
  },
  {
   "cell_type": "code",
   "execution_count": 479,
   "id": "035bf97e",
   "metadata": {},
   "outputs": [
    {
     "name": "stdout",
     "output_type": "stream",
     "text": [
      "[False  True]\n",
      "[[False  True]\n",
      " [False  True]]\n"
     ]
    }
   ],
   "source": [
    "print(np.not_equal([1.,2.], [1., 3.]))\n",
    "print(np.not_equal([1, 2], [[1, 3],[1, 4]]))"
   ]
  },
  {
   "cell_type": "markdown",
   "id": "27ea49b3",
   "metadata": {},
   "source": [
    "# ogrid\n",
    "- An instance which returns an open multi-dimensional “meshgrid”.\n",
    "- An instance which returns an open (i.e. not fleshed out) mesh-grid when indexed, so that only one dimension of each returned array is greater than 1. The dimension and number of the output arrays are equal to the number of indexing dimensions. If the step length is not a complex number, then the stop is not inclusive.\n",
    "- However, if the step length is a complex number (e.g. 5j), then the integer part of its magnitude is interpreted as specifying the number of points to create between the start and stop values, where the stop value is inclusive."
   ]
  },
  {
   "cell_type": "code",
   "execution_count": 481,
   "id": "e51982e3",
   "metadata": {},
   "outputs": [
    {
     "name": "stdout",
     "output_type": "stream",
     "text": [
      "[-1.  -0.5  0.   0.5  1. ]\n",
      "(array([[0],\n",
      "       [1],\n",
      "       [2],\n",
      "       [3],\n",
      "       [4]]), array([[0, 1, 2, 3, 4]]))\n"
     ]
    }
   ],
   "source": [
    "print(np.ogrid[-1:1:5j])\n",
    "print(np.ogrid[0:5, 0:5])"
   ]
  },
  {
   "cell_type": "markdown",
   "id": "38835a62",
   "metadata": {},
   "source": [
    "# ones\n",
    "- Return a new array of given shape and type, filled with ones."
   ]
  },
  {
   "cell_type": "code",
   "execution_count": 482,
   "id": "419d9faf",
   "metadata": {},
   "outputs": [
    {
     "name": "stdout",
     "output_type": "stream",
     "text": [
      "[1. 1. 1. 1. 1.]\n",
      "[1 1 1 1 1]\n",
      "[[1. 1.]\n",
      " [1. 1.]]\n"
     ]
    }
   ],
   "source": [
    "print(np.ones(5))\n",
    "print(np.ones((5,), dtype=int))\n",
    "s = (2,2)\n",
    "print(np.ones(s))"
   ]
  },
  {
   "cell_type": "markdown",
   "id": "b85a1d49",
   "metadata": {},
   "source": [
    "# ones_like\n",
    "- Return an array of ones with the same shape and type as a given array."
   ]
  },
  {
   "cell_type": "code",
   "execution_count": 483,
   "id": "7d86ca0f",
   "metadata": {},
   "outputs": [
    {
     "name": "stdout",
     "output_type": "stream",
     "text": [
      "[[1 1 1]\n",
      " [1 1 1]]\n",
      "[1. 1. 1.]\n"
     ]
    }
   ],
   "source": [
    "x = np.arange(6)\n",
    "x = x.reshape((2, 3))\n",
    "print(np.ones_like(x))\n",
    "y = np.arange(3, dtype=float)\n",
    "print(np.ones_like(y))"
   ]
  },
  {
   "cell_type": "markdown",
   "id": "5d30390a",
   "metadata": {},
   "source": [
    "# outer\n",
    "- Compute the outer product of two vectors.\n",
    "- Given two vectors a and b of length M and N, respectively, the outer product [1] is:"
   ]
  },
  {
   "cell_type": "code",
   "execution_count": 484,
   "id": "bb20c619",
   "metadata": {},
   "outputs": [
    {
     "name": "stdout",
     "output_type": "stream",
     "text": [
      "[[-2. -1.  0.  1.  2.]\n",
      " [-2. -1.  0.  1.  2.]\n",
      " [-2. -1.  0.  1.  2.]\n",
      " [-2. -1.  0.  1.  2.]\n",
      " [-2. -1.  0.  1.  2.]]\n",
      "[[0.+2.j 0.+2.j 0.+2.j 0.+2.j 0.+2.j]\n",
      " [0.+1.j 0.+1.j 0.+1.j 0.+1.j 0.+1.j]\n",
      " [0.+0.j 0.+0.j 0.+0.j 0.+0.j 0.+0.j]\n",
      " [0.-1.j 0.-1.j 0.-1.j 0.-1.j 0.-1.j]\n",
      " [0.-2.j 0.-2.j 0.-2.j 0.-2.j 0.-2.j]]\n",
      "[[-2.+2.j -1.+2.j  0.+2.j  1.+2.j  2.+2.j]\n",
      " [-2.+1.j -1.+1.j  0.+1.j  1.+1.j  2.+1.j]\n",
      " [-2.+0.j -1.+0.j  0.+0.j  1.+0.j  2.+0.j]\n",
      " [-2.-1.j -1.-1.j  0.-1.j  1.-1.j  2.-1.j]\n",
      " [-2.-2.j -1.-2.j  0.-2.j  1.-2.j  2.-2.j]]\n"
     ]
    }
   ],
   "source": [
    "rl = np.outer(np.ones((5,)), np.linspace(-2, 2, 5))\n",
    "print(rl)\n",
    "im = np.outer(1j*np.linspace(2, -2, 5), np.ones((5,)))\n",
    "print(im)\n",
    "grid = rl + im\n",
    "print(grid)"
   ]
  },
  {
   "cell_type": "markdown",
   "id": "4496d391",
   "metadata": {},
   "source": [
    "# packbits\n",
    "- Packs the elements of a binary-valued array into bits in a uint8 array.\n",
    "- The result is padded to full bytes by inserting zero bits at the end."
   ]
  },
  {
   "cell_type": "code",
   "execution_count": 485,
   "id": "672c0da4",
   "metadata": {},
   "outputs": [
    {
     "name": "stdout",
     "output_type": "stream",
     "text": [
      "[[[160]\n",
      "  [ 64]]\n",
      "\n",
      " [[192]\n",
      "  [ 32]]]\n"
     ]
    }
   ],
   "source": [
    "a = np.array([[[1,0,1],\n",
    "               [0,1,0]],\n",
    "              [[1,1,0],\n",
    "               [0,0,1]]])\n",
    "b = np.packbits(a, axis=-1)\n",
    "print(b)"
   ]
  },
  {
   "cell_type": "markdown",
   "id": "b08ba2a1",
   "metadata": {},
   "source": [
    "# pad\n",
    "- Pad an array."
   ]
  },
  {
   "cell_type": "code",
   "execution_count": 486,
   "id": "8723299a",
   "metadata": {},
   "outputs": [
    {
     "name": "stdout",
     "output_type": "stream",
     "text": [
      "[4 4 1 2 3 4 5 6 6 6]\n",
      "[1 1 1 2 3 4 5 5 5 5]\n",
      "[ 5  3  1  2  3  4  5  2 -1 -4]\n",
      "[5 5 1 2 3 4 5 5 5]\n",
      "[3 3 1 2 3 4 5 3 3]\n",
      "[3 3 1 2 3 4 5 3 3]\n",
      "[[1 1 1 2 1 1 1]\n",
      " [1 1 1 2 1 1 1]\n",
      " [1 1 1 2 1 1 1]\n",
      " [1 1 1 2 1 1 1]\n",
      " [3 3 3 4 3 3 3]\n",
      " [1 1 1 2 1 1 1]\n",
      " [1 1 1 2 1 1 1]]\n",
      "[3 2 1 2 3 4 5 4 3 2]\n",
      "[-1  0  1  2  3  4  5  6  7  8]\n",
      "[2 1 1 2 3 4 5 5 4 3]\n",
      "[0 1 1 2 3 4 5 5 6 7]\n",
      "[4 5 1 2 3 4 5 1 2 3]\n",
      "[[10 10 10 10 10 10 10]\n",
      " [10 10 10 10 10 10 10]\n",
      " [10 10  0  1  2 10 10]\n",
      " [10 10  3  4  5 10 10]\n",
      " [10 10 10 10 10 10 10]\n",
      " [10 10 10 10 10 10 10]]\n",
      "[[100 100 100 100 100 100 100]\n",
      " [100 100 100 100 100 100 100]\n",
      " [100 100   0   1   2 100 100]\n",
      " [100 100   3   4   5 100 100]\n",
      " [100 100 100 100 100 100 100]\n",
      " [100 100 100 100 100 100 100]]\n"
     ]
    }
   ],
   "source": [
    "a = [1, 2, 3, 4, 5]\n",
    "print(np.pad(a, (2, 3), 'constant', constant_values=(4, 6)))\n",
    "print(np.pad(a, (2, 3), 'edge'))\n",
    "print(np.pad(a, (2, 3), 'linear_ramp', end_values=(5, -4)))\n",
    "print(np.pad(a, (2,), 'maximum'))\n",
    "print(np.pad(a, (2,), 'mean'))\n",
    "print(np.pad(a, (2,), 'median'))\n",
    "a = [[1, 2], [3, 4]]\n",
    "print(np.pad(a, ((3, 2), (2, 3)), 'minimum'))\n",
    "a = [1, 2, 3, 4, 5]\n",
    "print(np.pad(a, (2, 3), 'reflect'))\n",
    "print(np.pad(a, (2, 3), 'reflect', reflect_type='odd'))\n",
    "print(np.pad(a, (2, 3), 'symmetric'))\n",
    "print(np.pad(a, (2, 3), 'symmetric', reflect_type='odd'))\n",
    "print(np.pad(a, (2, 3), 'wrap'))\n",
    "def pad_with(vector, pad_width, iaxis, kwargs):\n",
    "    pad_value = kwargs.get('padder', 10)\n",
    "    vector[:pad_width[0]] = pad_value\n",
    "    vector[-pad_width[1]:] = pad_value\n",
    "a = np.arange(6)\n",
    "a = a.reshape((2, 3))\n",
    "print(np.pad(a, 2, pad_with))\n",
    "print(np.pad(a, 2, pad_with, padder=100))"
   ]
  },
  {
   "cell_type": "markdown",
   "id": "3fe9f61d",
   "metadata": {},
   "source": [
    "# partition\n",
    "- Return a partitioned copy of an array.\n",
    "- Creates a copy of the array and partially sorts it in such a way that the value of the element in k-th position is in the position it would be in a sorted array. In the output array, all elements smaller than the k-th element are located to the left of this element and all equal or greater are located to its right. The ordering of the elements in the two partitions on the either side of the k-th element in the output array is undefined."
   ]
  },
  {
   "cell_type": "code",
   "execution_count": 487,
   "id": "2102a202",
   "metadata": {},
   "outputs": [
    {
     "name": "stdout",
     "output_type": "stream",
     "text": [
      "[0 1 1 2 2 2 3 3 5 6 7 7 7 7]\n",
      "[0 1 2 1 2 3 3 2 5 6 7 7 7 7]\n"
     ]
    }
   ],
   "source": [
    "a = np.array([7, 1, 7, 7, 1, 5, 7, 2, 3, 2, 6, 2, 3, 0])\n",
    "p = np.partition(a, 4)\n",
    "print(p)\n",
    "p2 = np.partition(a, (4, 8))\n",
    "print(p2)"
   ]
  },
  {
   "cell_type": "markdown",
   "id": "527b97b1",
   "metadata": {},
   "source": [
    "# percentile\n",
    "- Compute the q-th percentile of the data along the specified axis.\n",
    "- Returns the q-th percentile(s) of the array elements."
   ]
  },
  {
   "cell_type": "code",
   "execution_count": 490,
   "id": "f30494d3",
   "metadata": {},
   "outputs": [
    {
     "name": "stdout",
     "output_type": "stream",
     "text": [
      "2.25\n",
      "[6.5 4.5 2.5]\n",
      "[8.5 2.5]\n",
      "[[7.]\n",
      " [2.]]\n"
     ]
    }
   ],
   "source": [
    "a = np.array([[10, 7, 4], [3, 2, 1]])\n",
    "print(np.percentile(a, 25))\n",
    "print(np.percentile(a, 50, axis=0))\n",
    "print(np.percentile(a, 75, axis=1))\n",
    "print(np.percentile(a, 50, axis=1, keepdims=True))"
   ]
  },
  {
   "cell_type": "markdown",
   "id": "29a6c6d6",
   "metadata": {},
   "source": [
    "# permute_dims\n",
    "- Returns an array with axes transposed.\n",
    "- For a 1-D array, this returns an unchanged view of the original array, as a transposed vector is simply the same vector. To convert a 1-D array into a 2-D column vector, an additional dimension must be added, e.g., np.atleast_2d(a).T achieves this, as does a[:, np.newaxis]. For a 2-D array, this is the standard matrix transpose. For an n-D array, if axes are given, their order indicates how the axes are permuted (see Examples). If axes are not provided, then transpose(a).shape == a.shape[::-1]."
   ]
  },
  {
   "cell_type": "code",
   "execution_count": null,
   "id": "9b10f0bf",
   "metadata": {},
   "outputs": [
    {
     "data": {
      "text/plain": [
       "array([[1, 3],\n",
       "       [2, 4]])"
      ]
     },
     "execution_count": 491,
     "metadata": {},
     "output_type": "execute_result"
    }
   ],
   "source": [
    "import numpy as np\n",
    "a = np.array([[1, 2], [3, 4]])\n",
    "np.permute_dims(a)"
   ]
  },
  {
   "cell_type": "markdown",
   "id": "735410ee",
   "metadata": {},
   "source": [
    "# piecewise\n",
    "- Evaluate a piecewise-defined function.\n",
    "- Given a set of conditions and corresponding functions, evaluate each function on the input data wherever its condition is true."
   ]
  },
  {
   "cell_type": "code",
   "execution_count": 492,
   "id": "9ee4f7e8",
   "metadata": {},
   "outputs": [
    {
     "name": "stdout",
     "output_type": "stream",
     "text": [
      "[-1. -1. -1.  1.  1.  1.]\n",
      "[2.5 1.5 0.5 0.5 1.5 2.5]\n"
     ]
    }
   ],
   "source": [
    "x = np.linspace(-2.5, 2.5, 6)\n",
    "print(np.piecewise(x, [x < 0, x >= 0], [-1, 1]))\n",
    "print(np.piecewise(x, [x < 0, x >= 0], [lambda x: -x, lambda x: x]))"
   ]
  },
  {
   "cell_type": "markdown",
   "id": "68bc4f4c",
   "metadata": {},
   "source": [
    "# place\n",
    "- Change elements of an array based on conditional and input values.\n",
    "- Similar to np.copyto(arr, vals, where=mask), the difference is that place uses the first N elements of vals, where N is the number of True values in mask, while copyto uses the elements where mask is True.\n",
    "# Note that extract does the exact opposite of place."
   ]
  },
  {
   "cell_type": "code",
   "execution_count": 493,
   "id": "21e8fb16",
   "metadata": {},
   "outputs": [
    {
     "name": "stdout",
     "output_type": "stream",
     "text": [
      "[[ 0  1  2]\n",
      " [44 55 44]]\n"
     ]
    }
   ],
   "source": [
    "arr = np.arange(6).reshape(2, 3)\n",
    "np.place(arr, arr>2, [44, 55])\n",
    "print(arr)"
   ]
  },
  {
   "cell_type": "markdown",
   "id": "26c36bae",
   "metadata": {},
   "source": [
    "# poly\n",
    "- Find the coefficients of a polynomial with the given sequence of roots."
   ]
  },
  {
   "cell_type": "code",
   "execution_count": 494,
   "id": "152642bd",
   "metadata": {},
   "outputs": [
    {
     "name": "stdout",
     "output_type": "stream",
     "text": [
      "[1. 0. 0. 0.]\n",
      "[ 1.    0.   -0.25  0.  ]\n",
      "[ 1.    0.   -0.25  0.  ]\n",
      "[1.         0.         0.16666667]\n"
     ]
    }
   ],
   "source": [
    "print(np.poly((0, 0, 0))) # Multiple root example The line represents z**3 + 0*z**2 + 0*z + 0.\n",
    "print(np.poly((-1./2, 0, 1./2))) # The line represents z**3 - z/4\n",
    "print(np.poly((-1./2, 0, 1./2)))\n",
    "# Given a square array object:\n",
    "P = np.array([[0, 1./3], [-1./2, 0]])\n",
    "print(np.poly(P))"
   ]
  },
  {
   "cell_type": "markdown",
   "id": "b82eb21f",
   "metadata": {},
   "source": [
    "# poly1d\n",
    "- A one-dimensional polynomial class."
   ]
  },
  {
   "cell_type": "code",
   "execution_count": 495,
   "id": "4e4adddb",
   "metadata": {},
   "outputs": [
    {
     "name": "stdout",
     "output_type": "stream",
     "text": [
      "   2\n",
      "1 x + 2 x + 3\n",
      "4.25\n",
      "[-1.+1.41421356j -1.-1.41421356j]\n",
      "[4.4408921e-16+0.j 4.4408921e-16+0.j]\n",
      "[1 2 3]\n"
     ]
    }
   ],
   "source": [
    "p = np.poly1d([1, 2, 3])\n",
    "print(np.poly1d(p))\n",
    "print(p(0.5))\n",
    "print(p.r)\n",
    "print(p(p.r))\n",
    "print(p.c)"
   ]
  },
  {
   "cell_type": "markdown",
   "id": "ae8f558d",
   "metadata": {},
   "source": [
    "# polyadd\n",
    "- Find the sum of two polynomials."
   ]
  },
  {
   "cell_type": "code",
   "execution_count": 496,
   "id": "1318cee0",
   "metadata": {},
   "outputs": [
    {
     "name": "stdout",
     "output_type": "stream",
     "text": [
      "[9 6 6]\n"
     ]
    }
   ],
   "source": [
    "print(np.polyadd([1, 2], [9, 5, 4]))"
   ]
  },
  {
   "cell_type": "markdown",
   "id": "98fc0f45",
   "metadata": {},
   "source": [
    "# polyder"
   ]
  },
  {
   "cell_type": "code",
   "execution_count": 497,
   "id": "dfd84e17",
   "metadata": {},
   "outputs": [
    {
     "name": "stdout",
     "output_type": "stream",
     "text": [
      " \n",
      "1 x + 2\n",
      "   2\n",
      "9 x + 5 x + 4\n",
      "   2\n",
      "9 x + 6 x + 6\n"
     ]
    }
   ],
   "source": [
    "p1 = np.poly1d([1, 2])\n",
    "p2 = np.poly1d([9, 5, 4])\n",
    "print(p1)\n",
    "print(p2)\n",
    "print(np.polyadd(p1, p2))"
   ]
  },
  {
   "cell_type": "markdown",
   "id": "26cc5044",
   "metadata": {},
   "source": [
    "# polydiv\n",
    "- Returns the quotient and remainder of polynomial division."
   ]
  },
  {
   "cell_type": "code",
   "execution_count": 498,
   "id": "de0af243",
   "metadata": {},
   "outputs": [
    {
     "data": {
      "text/plain": [
       "(array([1.5 , 1.75]), array([0.25]))"
      ]
     },
     "execution_count": 498,
     "metadata": {},
     "output_type": "execute_result"
    }
   ],
   "source": [
    "x = np.array([3.0, 5.0, 2.0])\n",
    "y = np.array([2.0, 1.0])\n",
    "np.polydiv(x, y)"
   ]
  },
  {
   "cell_type": "markdown",
   "id": "ffe358f3",
   "metadata": {},
   "source": [
    "# polyfit\n",
    "- Least squares polynomial fit."
   ]
  },
  {
   "cell_type": "code",
   "execution_count": 500,
   "id": "04b49ada",
   "metadata": {},
   "outputs": [
    {
     "name": "stdout",
     "output_type": "stream",
     "text": [
      "[ 0.08703704 -0.81349206  1.69312169 -0.03968254]\n",
      "0.614384920634922\n",
      "-0.3473214285714268\n",
      "22.579365079364877\n"
     ]
    }
   ],
   "source": [
    "x = np.array([0.0, 1.0, 2.0, 3.0,  4.0,  5.0])\n",
    "y = np.array([0.0, 0.8, 0.9, 0.1, -0.8, -1.0])\n",
    "z = np.polyfit(x, y, 3)\n",
    "print(z)\n",
    "p = np.poly1d(z)\n",
    "print(p(0.5))\n",
    "print(p(3.5))\n",
    "print(p(10))"
   ]
  },
  {
   "cell_type": "markdown",
   "id": "b9ef441e",
   "metadata": {},
   "source": [
    "# polyint\n",
    "- Return an antiderivative (indefinite integral) of a polynomial."
   ]
  },
  {
   "cell_type": "code",
   "execution_count": 502,
   "id": "fdf71165",
   "metadata": {},
   "outputs": [
    {
     "name": "stdout",
     "output_type": "stream",
     "text": [
      "        3       2\n",
      "0.3333 x + 0.5 x + 1 x\n",
      "True\n",
      "0.0\n",
      "0.0\n",
      "0.0\n",
      "         5           4          3     2\n",
      "0.01667 x + 0.04167 x + 0.1667 x + 3 x + 5 x + 3\n"
     ]
    }
   ],
   "source": [
    "p = np.poly1d([1,1,1])\n",
    "P = np.polyint(p)\n",
    "print(P)\n",
    "print(np.polyder(P) == p)\n",
    "P = np.polyint(p, 3)\n",
    "print(P(0))\n",
    "print(np.polyder(P)(0))\n",
    "print(np.polyder(P, 2)(0))\n",
    "P = np.polyint(p, 3, k=[6,5,3])\n",
    "print(P)"
   ]
  },
  {
   "cell_type": "markdown",
   "id": "48a39d62",
   "metadata": {},
   "source": [
    "# polymul\n",
    "- Find the product of two polynomials."
   ]
  },
  {
   "cell_type": "code",
   "execution_count": 504,
   "id": "9622a7f3",
   "metadata": {},
   "outputs": [
    {
     "name": "stdout",
     "output_type": "stream",
     "text": [
      "[ 9 23 38 17  3]\n",
      "   2\n",
      "1 x + 2 x + 3\n",
      "   2\n",
      "9 x + 5 x + 1\n",
      "   4      3      2\n",
      "9 x + 23 x + 38 x + 17 x + 3\n"
     ]
    }
   ],
   "source": [
    "print(np.polymul([1, 2, 3], [9, 5, 1]))\n",
    "p1 = np.poly1d([1, 2, 3])\n",
    "p2 = np.poly1d([9, 5, 1])\n",
    "print(p1)\n",
    "print(p2)\n",
    "print(np.polymul(p1, p2))"
   ]
  },
  {
   "cell_type": "markdown",
   "id": "5d86e888",
   "metadata": {},
   "source": [
    "# polysub\n",
    "- Difference (subtraction) of two polynomials."
   ]
  },
  {
   "cell_type": "code",
   "execution_count": 505,
   "id": "cc610a61",
   "metadata": {},
   "outputs": [
    {
     "data": {
      "text/plain": [
       "array([-1,  0,  2])"
      ]
     },
     "execution_count": 505,
     "metadata": {},
     "output_type": "execute_result"
    }
   ],
   "source": [
    "np.polysub([2, 10, -2], [3, 10, -4])"
   ]
  },
  {
   "cell_type": "markdown",
   "id": "203a18c0",
   "metadata": {},
   "source": [
    "# polyval\n",
    "- Evaluate a polynomial at specific values."
   ]
  },
  {
   "cell_type": "code",
   "execution_count": 506,
   "id": "a078acb1",
   "metadata": {},
   "outputs": [
    {
     "name": "stdout",
     "output_type": "stream",
     "text": [
      "76\n",
      " \n",
      "76\n",
      "76\n",
      " \n",
      "76\n"
     ]
    }
   ],
   "source": [
    "print(np.polyval([3,0,1], 5))  # 3 * 5**2 + 0 * 5**1 + 1\n",
    "print(np.polyval([3,0,1], np.poly1d(5)))\n",
    "print(np.polyval(np.poly1d([3,0,1]), 5))\n",
    "print(np.polyval(np.poly1d([3,0,1]), np.poly1d(5)))"
   ]
  },
  {
   "cell_type": "markdown",
   "id": "463682d5",
   "metadata": {},
   "source": [
    "# positive\n",
    "- Numerical positive, element-wise."
   ]
  },
  {
   "cell_type": "code",
   "execution_count": 507,
   "id": "9d36e729",
   "metadata": {},
   "outputs": [
    {
     "data": {
      "text/plain": [
       "array([ -1,   3,  -4, -10])"
      ]
     },
     "execution_count": 507,
     "metadata": {},
     "output_type": "execute_result"
    }
   ],
   "source": [
    "np.positive(\n",
    "    [-1, 3, -4, -10]\n",
    ")"
   ]
  },
  {
   "cell_type": "markdown",
   "id": "5546436e",
   "metadata": {},
   "source": [
    "# pow\n",
    "- First array elements raised to powers from second array, element-wise.\n",
    "- Raise each base in x1 to the positionally-corresponding power in x2. x1 and x2 must be broadcastable to the same shape.\n",
    "- An integer type raised to a negative integer power will raise a ValueError.\n",
    "- Negative values raised to a non-integral value will return nan. To get complex results, cast the input to complex, or specify the dtype to be complex (see the example below)."
   ]
  },
  {
   "cell_type": "code",
   "execution_count": 509,
   "id": "48914e8e",
   "metadata": {},
   "outputs": [
    {
     "data": {
      "text/plain": [
       "array([  0,   1,   8,  27,  64, 125])"
      ]
     },
     "execution_count": 509,
     "metadata": {},
     "output_type": "execute_result"
    }
   ],
   "source": [
    "x1 = np.arange(6)\n",
    "np.pow(x1, 3)"
   ]
  },
  {
   "cell_type": "markdown",
   "id": "0d571836",
   "metadata": {},
   "source": [
    "# power\n",
    "- First array elements raised to powers from second array, element-wise.\n",
    "- Raise each base in x1 to the positionally-corresponding power in x2. x1 and x2 must be broadcastable to the same shape.\n",
    "- An integer type raised to a negative integer power will raise a ValueError.\n",
    "- Negative values raised to a non-integral value will return nan. To get complex results, cast the input to complex, or specify the dtype to be complex (see the example below)."
   ]
  },
  {
   "cell_type": "code",
   "execution_count": 510,
   "id": "89b954fe",
   "metadata": {},
   "outputs": [
    {
     "name": "stdout",
     "output_type": "stream",
     "text": [
      "True\n"
     ]
    },
    {
     "data": {
      "text/plain": [
       "array([  0,   1,   8,  27,  64, 125])"
      ]
     },
     "execution_count": 510,
     "metadata": {},
     "output_type": "execute_result"
    }
   ],
   "source": [
    "print(np.power is np.pow)\n",
    "x1 = np.arange(6)\n",
    "np.pow(x1, 3)"
   ]
  },
  {
   "cell_type": "markdown",
   "id": "23fcf2b4",
   "metadata": {},
   "source": [
    "# printoptions\n",
    "- Context manager for setting print options."
   ]
  },
  {
   "cell_type": "code",
   "execution_count": 513,
   "id": "dfcdbbc3",
   "metadata": {},
   "outputs": [
    {
     "name": "stdout",
     "output_type": "stream",
     "text": [
      "[0.67]\n"
     ]
    }
   ],
   "source": [
    "with np.printoptions(precision=2):\n",
    "    print(np.array([2.0]) / 3)"
   ]
  },
  {
   "cell_type": "markdown",
   "id": "7b29f63e",
   "metadata": {},
   "source": [
    "# prod\n",
    "- Return the product of array elements over a given axis."
   ]
  },
  {
   "cell_type": "code",
   "execution_count": 514,
   "id": "2707bd9b",
   "metadata": {},
   "outputs": [
    {
     "data": {
      "text/plain": [
       "np.float64(24.0)"
      ]
     },
     "execution_count": 514,
     "metadata": {},
     "output_type": "execute_result"
    }
   ],
   "source": [
    "a = np.array([[1., 2.], [3., 4.]])\n",
    "np.prod(a)"
   ]
  },
  {
   "cell_type": "markdown",
   "id": "8cae6d9b",
   "metadata": {},
   "source": [
    "# promote_types\n",
    "- Returns the data type with the smallest size and smallest scalar kind to which both type1 and type2 may be safely cast. The returned data type is always considered “canonical”, this mainly means that the promoted dtype will always be in native byte order.\n",
    "- This function is symmetric, but rarely associative."
   ]
  },
  {
   "cell_type": "code",
   "execution_count": 515,
   "id": "df534d27",
   "metadata": {},
   "outputs": [
    {
     "name": "stdout",
     "output_type": "stream",
     "text": [
      "float64\n",
      "float64\n",
      "complex128\n",
      "|S11\n"
     ]
    }
   ],
   "source": [
    "print(np.promote_types('f4', 'f8'))\n",
    "print(np.promote_types('i8', 'f4'))\n",
    "print(np.promote_types('>i8', '<c8'))\n",
    "print(np.promote_types('i4', 'S8'))"
   ]
  },
  {
   "cell_type": "markdown",
   "id": "d1fbae2d",
   "metadata": {},
   "source": [
    "# ptp\n",
    "- Range of values (maximum - minimum) along an axis.\n",
    "- The name of the function comes from the acronym for ‘peak to peak’."
   ]
  },
  {
   "cell_type": "code",
   "execution_count": 517,
   "id": "92b02ddb",
   "metadata": {},
   "outputs": [
    {
     "name": "stdout",
     "output_type": "stream",
     "text": [
      "[8 6]\n",
      "100\n"
     ]
    }
   ],
   "source": [
    "x = np.array([[4, 9, 2, 10],\n",
    "              [6, 9, 7, 12]])\n",
    "print(np.ptp(x, axis=1))\n",
    "print(np.ptp(\n",
    "    np.array([0, 1, 2, 3, 4, 100])\n",
    "))"
   ]
  },
  {
   "cell_type": "markdown",
   "id": "995c9792",
   "metadata": {},
   "source": [
    "# put\n",
    "- Replaces specified elements of an array with given values.\n",
    "- The indexing works on the flattened target array. put is roughly equivalent to:\n",
    "- a.flat[ind] = v"
   ]
  },
  {
   "cell_type": "code",
   "execution_count": 520,
   "id": "b024590f",
   "metadata": {},
   "outputs": [
    {
     "name": "stdout",
     "output_type": "stream",
     "text": [
      "[-44 -55 100   3   4]\n"
     ]
    }
   ],
   "source": [
    "a = np.arange(5)\n",
    "np.put(a, [0,1,2], [-44, -55, 100])\n",
    "print(a)"
   ]
  },
  {
   "cell_type": "markdown",
   "id": "813975ce",
   "metadata": {},
   "source": [
    "# put_along_axis\n",
    "- Put values into the destination array by matching 1d index and data slices.\n",
    "- This iterates over matching 1d slices oriented along the specified axis in the index and data arrays, and uses the former to place values into the latter. These slices can be different lengths.\n",
    "- Functions returning an index along an axis, like argsort and argpartition, produce suitable indices for this function."
   ]
  },
  {
   "cell_type": "code",
   "execution_count": null,
   "id": "5276bcba",
   "metadata": {},
   "outputs": [
    {
     "name": "stdout",
     "output_type": "stream",
     "text": [
      "[[1]\n",
      " [0]]\n",
      "[[10 99 20]\n",
      " [99 40 50]]\n"
     ]
    }
   ],
   "source": [
    "a = np.array([[10, 30, 20], [60, 40, 50]])\n",
    "ai = np.argmax(a, axis=1, keepdims=True)\n",
    "print(ai)\n",
    "np.put_along_axis(a, ai, 99, axis=1)\n",
    "print(a)"
   ]
  },
  {
   "cell_type": "markdown",
   "id": "1a28cc6a",
   "metadata": {},
   "source": [
    "# putmask\n",
    "- Changes elements of an array based on conditional and input values.\n",
    "- Sets a.flat[n] = values[n] for each n where mask.flat[n]==True.\n",
    "- If values is not the same size as a and mask then it will repeat. This gives behavior different from a[mask] = values."
   ]
  },
  {
   "cell_type": "code",
   "execution_count": 523,
   "id": "7f5b261b",
   "metadata": {},
   "outputs": [
    {
     "name": "stdout",
     "output_type": "stream",
     "text": [
      "[[ 0  1  2]\n",
      " [ 9 16 25]]\n"
     ]
    }
   ],
   "source": [
    "x = np.arange(6).reshape(2, 3)\n",
    "np.putmask(x, x>2, x**2)\n",
    "print(x)"
   ]
  },
  {
   "cell_type": "markdown",
   "id": "114325fd",
   "metadata": {},
   "source": [
    "# quantile\n",
    "- Compute the q-th quantile of the data along the specified axis.\n",
    "# Note: nanquantile might be better if nan are allowed"
   ]
  },
  {
   "cell_type": "code",
   "execution_count": 524,
   "id": "f611d9e0",
   "metadata": {},
   "outputs": [
    {
     "name": "stdout",
     "output_type": "stream",
     "text": [
      "3.5\n",
      "[6.5 4.5 2.5]\n",
      "[7. 2.]\n",
      "[[7.]\n",
      " [2.]]\n",
      "[6.5 4.5 2.5]\n",
      "[7. 2.]\n"
     ]
    }
   ],
   "source": [
    "a = np.array([[10, 7, 4], [3, 2, 1]])\n",
    "print(np.quantile(a, 0.5))\n",
    "print(np.quantile(a, 0.5, axis=0))\n",
    "print(np.quantile(a, 0.5, axis=1))\n",
    "print(np.quantile(a, 0.5, axis=1, keepdims=True))\n",
    "m = np.quantile(a, 0.5, axis=0)\n",
    "out = np.zeros_like(m)\n",
    "print(np.quantile(a, 0.5, axis=0, out=out))\n",
    "b = a.copy()\n",
    "print(np.quantile(b, 0.5, axis=1, overwrite_input=True))\n",
    "assert not np.all(a == b)"
   ]
  },
  {
   "cell_type": "markdown",
   "id": "24476700",
   "metadata": {},
   "source": [
    "# r_\n",
    "- Translates slice objects to concatenation along the first axis.\n",
    "- This is a simple way to build up arrays quickly. There are two use cases.\n",
    "- If the index expression contains comma separated arrays, then stack them along their first axis.\n",
    "- If the index expression contains slice notation or scalars then create a 1-D array with a range indicated by the slice notation.\n",
    "- If slice notation is used, the syntax start:stop:step is equivalent to np.arange(start, stop, step) inside of the brackets. However, if step is an imaginary number (i.e. 100j) then its integer portion is interpreted as a number-of-points desired and the start and stop are inclusive. In other words start:stop:stepj is interpreted as np.linspace(start, stop, step, endpoint=1) inside of the brackets. After expansion of slice notation, all comma separated sequences are concatenated together.\n",
    "- Optional character strings placed as the first element of the index expression can be used to change the output. The strings ‘r’ or ‘c’ result in matrix output. If the result is 1-D and ‘r’ is specified a 1 x N (row) matrix is produced. If the result is 1-D and ‘c’ is specified, then a N x 1 (column) matrix is produced. If the result is 2-D then both provide the same matrix result.\n",
    "- A string integer specifies which axis to stack multiple comma separated arrays along. A string of two comma-separated integers allows indication of the minimum number of dimensions to force each entry into as the second integer (the axis to concatenate along is still the first integer).\n",
    "- A string with three comma-separated integers allows specification of the axis to concatenate along, the minimum number of dimensions to force the entries to, and which axis should contain the start of the arrays which are less than the specified number of dimensions. In other words the third integer allows you to specify where the 1’s should be placed in the shape of the arrays that have their shapes upgraded. By default, they are placed in the front of the shape tuple. The third argument allows you to specify where the start of the array should be instead. Thus, a third argument of ‘0’ would place the 1’s at the end of the array shape. Negative integers specify where in the new shape tuple the last dimension of upgraded arrays should be placed, so the default is ‘-1’."
   ]
  },
  {
   "cell_type": "code",
   "execution_count": 525,
   "id": "a098e26c",
   "metadata": {},
   "outputs": [
    {
     "name": "stdout",
     "output_type": "stream",
     "text": [
      "[1 2 3 0 0 4 5 6]\n",
      "[-1.  -0.6 -0.2  0.2  0.6  1.   0.   0.   0.   5.   6. ]\n",
      "[[0 1 2 0 1 2]\n",
      " [3 4 5 3 4 5]]\n",
      "[[1 2 3]\n",
      " [4 5 6]]\n",
      "[[1 2 3 4 5 6]]\n"
     ]
    }
   ],
   "source": [
    "print(np.r_[np.array([1,2,3]), 0, 0, np.array([4,5,6])])\n",
    "print(np.r_[-1:1:6j, [0]*3, 5, 6])\n",
    "a = np.array([[0, 1, 2], [3, 4, 5]])\n",
    "print(np.r_['-1', a, a]) # concatenate along last axis\n",
    "print(np.r_['0,2', [1,2,3], [4,5,6]]) # concatenate along first axis, dim>=2\n",
    "print(np.r_['r',[1,2,3], [4,5,6]])"
   ]
  },
  {
   "cell_type": "markdown",
   "id": "ddf0f3c1",
   "metadata": {},
   "source": [
    "# rad2deg\n",
    "- Convert angles from radians to degrees."
   ]
  },
  {
   "cell_type": "code",
   "execution_count": 526,
   "id": "da8537a1",
   "metadata": {},
   "outputs": [
    {
     "data": {
      "text/plain": [
       "np.float64(90.0)"
      ]
     },
     "execution_count": 526,
     "metadata": {},
     "output_type": "execute_result"
    }
   ],
   "source": [
    "np.rad2deg(np.pi/2)"
   ]
  },
  {
   "cell_type": "markdown",
   "id": "c900f4f5",
   "metadata": {},
   "source": [
    "# radians\n",
    "- Convert angles from degrees to radians.\n",
    "- Similar to deg2rad"
   ]
  },
  {
   "cell_type": "code",
   "execution_count": 528,
   "id": "bf80434f",
   "metadata": {},
   "outputs": [
    {
     "data": {
      "text/plain": [
       "False"
      ]
     },
     "execution_count": 528,
     "metadata": {},
     "output_type": "execute_result"
    }
   ],
   "source": [
    "np.radians is np.deg2rad"
   ]
  },
  {
   "cell_type": "code",
   "execution_count": 527,
   "id": "337f9ee0",
   "metadata": {},
   "outputs": [
    {
     "data": {
      "text/plain": [
       "array([0.        , 0.52359878, 1.04719755, 1.57079633, 2.0943951 ,\n",
       "       2.61799388, 3.14159265, 3.66519143, 4.1887902 , 4.71238898,\n",
       "       5.23598776, 5.75958653])"
      ]
     },
     "execution_count": 527,
     "metadata": {},
     "output_type": "execute_result"
    }
   ],
   "source": [
    "deg = np.arange(12.) * 30.\n",
    "np.radians(deg)"
   ]
  },
  {
   "cell_type": "markdown",
   "id": "c4cdf1ba",
   "metadata": {},
   "source": [
    "# ravel\n",
    "- Return a contiguous flattened array.\n",
    "- A 1-D array, containing the elements of the input, is returned. A copy is made only if needed.\n",
    "- As of NumPy 1.10, the returned array will have the same type as the input array. (for example, a masked array will be returned for a masked array input)"
   ]
  },
  {
   "cell_type": "code",
   "execution_count": 529,
   "id": "34844d4c",
   "metadata": {},
   "outputs": [
    {
     "name": "stdout",
     "output_type": "stream",
     "text": [
      "[1 2 3 4 5 6]\n",
      "[1 4 2 5 3 6]\n"
     ]
    }
   ],
   "source": [
    "x = np.array([[1, 2, 3], [4, 5, 6]])\n",
    "print(np.ravel(x))\n",
    "x.reshape(-1)\n",
    "print(np.ravel(x, order='F'))"
   ]
  },
  {
   "cell_type": "code",
   "execution_count": 530,
   "id": "c232ab88",
   "metadata": {},
   "outputs": [
    {
     "data": {
      "text/plain": [
       "array([1, 2, 3, 4])"
      ]
     },
     "execution_count": 530,
     "metadata": {},
     "output_type": "execute_result"
    }
   ],
   "source": [
    "np.array([[1, 2], [3, 4]]).reshape(-1)"
   ]
  },
  {
   "cell_type": "markdown",
   "id": "c27a44cf",
   "metadata": {},
   "source": [
    "# ravel_multi_index\n",
    "- Converts a tuple of index arrays into an array of flat indices, applying boundary modes to the multi-index."
   ]
  },
  {
   "cell_type": "code",
   "execution_count": 531,
   "id": "aa874b58",
   "metadata": {},
   "outputs": [
    {
     "name": "stdout",
     "output_type": "stream",
     "text": [
      "[22 41 37]\n",
      "[31 41 13]\n",
      "[22 23 19]\n",
      "[12 13 13]\n"
     ]
    }
   ],
   "source": [
    "arr = np.array([[3,6,6],[4,5,1]])\n",
    "print(np.ravel_multi_index(arr, (7,6)))\n",
    "print(np.ravel_multi_index(arr, (7,6), order='F'))\n",
    "print(np.ravel_multi_index(arr, (4,6), mode='clip'))\n",
    "print(np.ravel_multi_index(arr, (4,4), mode=('clip','wrap')))"
   ]
  },
  {
   "cell_type": "markdown",
   "id": "04989c05",
   "metadata": {},
   "source": [
    "# real\n",
    "- Return the real part of the complex argument."
   ]
  },
  {
   "cell_type": "code",
   "execution_count": 532,
   "id": "78dddab4",
   "metadata": {},
   "outputs": [
    {
     "data": {
      "text/plain": [
       "223.0"
      ]
     },
     "execution_count": 532,
     "metadata": {},
     "output_type": "execute_result"
    }
   ],
   "source": [
    "np.real(223 + 24j)"
   ]
  },
  {
   "cell_type": "markdown",
   "id": "0285ce13",
   "metadata": {},
   "source": [
    "# real_if_close\n",
    "- If input is complex with all imaginary parts close to zero, return real parts.\n",
    "- “Close to zero” is defined as tol * (machine epsilon of the type for a)."
   ]
  },
  {
   "cell_type": "code",
   "execution_count": 533,
   "id": "b9af03d7",
   "metadata": {},
   "outputs": [
    {
     "name": "stdout",
     "output_type": "stream",
     "text": [
      "[2.1 5.2]\n",
      "[2.1+4.e-13j 5.2+3.e-15j]\n"
     ]
    }
   ],
   "source": [
    "print(np.real_if_close([2.1 + 4e-14j, 5.2 + 3e-15j], tol=1000))\n",
    "print(np.real_if_close([2.1 + 4e-13j, 5.2 + 3e-15j], tol=1000))"
   ]
  },
  {
   "cell_type": "markdown",
   "id": "0ac5bb7c",
   "metadata": {},
   "source": [
    "# recarray\n",
    "- Construct an ndarray that allows field access using attributes.\n",
    "- Arrays may have a data-types containing fields, analogous to columns in a spread sheet. An example is [(x, int), (y, float)], where each entry in the array is a pair of (int, float). Normally, these attributes are accessed using dictionary lookups such as arr['x'] and arr['y']. Record arrays allow the fields to be accessed as members of the array, using arr.x and arr.y."
   ]
  },
  {
   "cell_type": "code",
   "execution_count": 535,
   "id": "85ad49cd",
   "metadata": {},
   "outputs": [
    {
     "name": "stdout",
     "output_type": "stream",
     "text": [
      "[(1, 9.9e-324, 3) (4, 2.5e-323, 6)]\n",
      "['Alice' 'Bob']\n",
      "[30 24]\n",
      "[50000. 45000.]\n",
      "Alice\n"
     ]
    }
   ],
   "source": [
    "print(np.recarray((2,),dtype=[('x', int), ('y', float), ('z', int)]))  # new empty recarray\n",
    "# Create a structured array\n",
    "data = np.array([('Alice', 30, 50000.0), ('Bob', 24, 45000.0)],\n",
    "                dtype=[('name', 'U10'), ('age', 'i4'), ('salary', 'f8')])\n",
    "\n",
    "# Convert to a recarray\n",
    "rec_array = data.view(np.recarray)\n",
    "\n",
    "# Access fields using attribute notation\n",
    "print(rec_array.name)\n",
    "print(rec_array.age)\n",
    "print(rec_array.salary)\n",
    "\n",
    "# Access a specific record and its fields\n",
    "print(rec_array[0].name)"
   ]
  },
  {
   "cell_type": "markdown",
   "id": "d37f8e20",
   "metadata": {},
   "source": [
    "# reciprocal\n",
    "- Return the reciprocal of the argument, element-wise.\n",
    "# This function is not designed to work with integers."
   ]
  },
  {
   "cell_type": "code",
   "execution_count": 536,
   "id": "4116c672",
   "metadata": {},
   "outputs": [
    {
     "name": "stdout",
     "output_type": "stream",
     "text": [
      "0.5\n",
      "[1.        0.5       0.3003003]\n"
     ]
    }
   ],
   "source": [
    "print(np.reciprocal(2.))\n",
    "print(np.reciprocal([1, 2., 3.33]))"
   ]
  },
  {
   "cell_type": "markdown",
   "id": "2a647e9c",
   "metadata": {},
   "source": [
    "# remainder\n",
    "- Returns the element-wise remainder of division.\n",
    "- Computes the remainder complementary to the floor_divide function. It is equivalent to the Python modulus operator x1 % x2 and has the same sign as the divisor x2. The MATLAB function equivalent to np.remainder is mod.\n",
    "- The % operator can be used as a shorthand for np.remainder on ndarrays."
   ]
  },
  {
   "cell_type": "code",
   "execution_count": 537,
   "id": "c74b0352",
   "metadata": {},
   "outputs": [
    {
     "name": "stdout",
     "output_type": "stream",
     "text": [
      "[0 1]\n",
      "[0 1 2 3 4 0 1]\n"
     ]
    }
   ],
   "source": [
    "print(np.remainder([4, 7], [2, 3]))\n",
    "print(np.remainder(np.arange(7), 5))"
   ]
  },
  {
   "cell_type": "markdown",
   "id": "feeccfd1",
   "metadata": {},
   "source": [
    "# repeat\n",
    "- Repeat each element of an array after themselves"
   ]
  },
  {
   "cell_type": "code",
   "execution_count": 538,
   "id": "fbe44297",
   "metadata": {},
   "outputs": [
    {
     "name": "stdout",
     "output_type": "stream",
     "text": [
      "[3 3 3 3]\n",
      "[1 1 2 2 3 3 4 4]\n",
      "[[1 1 1 2 2 2]\n",
      " [3 3 3 4 4 4]]\n",
      "[[1 2]\n",
      " [3 4]\n",
      " [3 4]]\n"
     ]
    }
   ],
   "source": [
    "print(np.repeat(3, 4))\n",
    "x = np.array([[1,2],[3,4]])\n",
    "print(np.repeat(x, 2))\n",
    "print(np.repeat(x, 3, axis=1))\n",
    "print(np.repeat(x, [1, 2], axis=0))"
   ]
  },
  {
   "cell_type": "markdown",
   "id": "c8d6e2c4",
   "metadata": {},
   "source": [
    "# reshape\n",
    "- Gives a new shape to an array without changing its data."
   ]
  },
  {
   "cell_type": "code",
   "execution_count": 540,
   "id": "578a0fe4",
   "metadata": {},
   "outputs": [
    {
     "name": "stdout",
     "output_type": "stream",
     "text": [
      "[[0 1 2]\n",
      " [3 4 5]]\n",
      "[[0 1 2]\n",
      " [3 4 5]]\n",
      "[[0 4 3]\n",
      " [2 1 5]]\n",
      "[[0 4 3]\n",
      " [2 1 5]]\n"
     ]
    }
   ],
   "source": [
    "a = np.arange(6).reshape(3,2)\n",
    "print(np.reshape(a, (2, 3))) # C-like index ordering\n",
    "print(np.reshape(np.ravel(a), (2, 3))) # equivalent to C ravel then C reshape\n",
    "print(np.reshape(a, (2, 3), order='F')) # Fortran-like index ordering\n",
    "print(np.reshape(np.ravel(a, order='F'), (2, 3), order='F'))"
   ]
  },
  {
   "cell_type": "markdown",
   "id": "d1033b20",
   "metadata": {},
   "source": [
    "# result_type\n",
    "- Returns the type that results from applying the NumPy type promotion rules to the arguments.\n",
    "- Type promotion in NumPy works similarly to the rules in languages like C++, with some slight differences. When both scalars and arrays are used, the array’s type takes precedence and the actual value of the scalar is taken into account.\n",
    "- For example, calculating 3*a, where a is an array of 32-bit floats, intuitively should result in a 32-bit float output. If the 3 is a 32-bit integer, the NumPy rules indicate it can’t convert losslessly into a 32-bit float, so a 64-bit float should be the result type. By examining the value of the constant, ‘3’, we see that it fits in an 8-bit integer, which can be cast losslessly into the 32-bit float."
   ]
  },
  {
   "cell_type": "code",
   "execution_count": 541,
   "id": "6f02c198",
   "metadata": {},
   "outputs": [
    {
     "name": "stdout",
     "output_type": "stream",
     "text": [
      "int8\n",
      "complex128\n",
      "float64\n"
     ]
    }
   ],
   "source": [
    "print(np.result_type(3, np.arange(7, dtype='i1')))\n",
    "print(np.result_type('i4', 'c8'))\n",
    "print(np.result_type(3.0, -2))"
   ]
  },
  {
   "cell_type": "markdown",
   "id": "4a4e6c7d",
   "metadata": {},
   "source": [
    "# right_shift\n",
    "- Shift the bits of an integer to the right.\n",
    "- Bits are shifted to the right x2. Because the internal representation of numbers is in binary format, this operation is equivalent to dividing x1 by 2**x2.\n",
    "# Note: eqivalent to bitwise_right_shift"
   ]
  },
  {
   "cell_type": "code",
   "execution_count": 542,
   "id": "30b8b3aa",
   "metadata": {},
   "outputs": [
    {
     "name": "stdout",
     "output_type": "stream",
     "text": [
      "True\n"
     ]
    }
   ],
   "source": [
    "print(np.right_shift is np.bitwise_right_shift)"
   ]
  },
  {
   "cell_type": "markdown",
   "id": "5ca2538d",
   "metadata": {},
   "source": [
    "# rint\n",
    "- Round elements of the array to the nearest integer.\n",
    "# short hand for round integer => rint"
   ]
  },
  {
   "cell_type": "code",
   "execution_count": 543,
   "id": "6937eca0",
   "metadata": {},
   "outputs": [
    {
     "data": {
      "text/plain": [
       "array([-2., -2., -0.,  0.,  2.,  2.,  2.])"
      ]
     },
     "execution_count": 543,
     "metadata": {},
     "output_type": "execute_result"
    }
   ],
   "source": [
    "a = np.array([-1.7, -1.5, -0.2, 0.2, 1.5, 1.7, 2.0])\n",
    "np.rint(a)"
   ]
  },
  {
   "cell_type": "markdown",
   "id": "e5684568",
   "metadata": {},
   "source": [
    "# roll\n",
    "- Roll array elements along a given axis.\n",
    "- Elements that roll beyond the last position are re-introduced at the first."
   ]
  },
  {
   "cell_type": "code",
   "execution_count": 545,
   "id": "09020b77",
   "metadata": {},
   "outputs": [
    {
     "name": "stdout",
     "output_type": "stream",
     "text": [
      "[8 9 0 1 2 3 4 5 6 7]\n",
      "[2 3 4 5 6 7 8 9 0 1]\n",
      "[[0 1 2 3 4]\n",
      " [5 6 7 8 9]]\n",
      "[[9 0 1 2 3]\n",
      " [4 5 6 7 8]]\n",
      "[[1 2 3 4 5]\n",
      " [6 7 8 9 0]]\n",
      "[[5 6 7 8 9]\n",
      " [0 1 2 3 4]]\n",
      "[[5 6 7 8 9]\n",
      " [0 1 2 3 4]]\n",
      "[[4 0 1 2 3]\n",
      " [9 5 6 7 8]]\n",
      "[[1 2 3 4 0]\n",
      " [6 7 8 9 5]]\n",
      "[[9 5 6 7 8]\n",
      " [4 0 1 2 3]]\n",
      "[[8 9 5 6 7]\n",
      " [3 4 0 1 2]]\n"
     ]
    }
   ],
   "source": [
    "x = np.arange(10)\n",
    "print(np.roll(x, 2))\n",
    "print(np.roll(x, -2))\n",
    "x2 = np.reshape(x, (2, 5))\n",
    "print(x2)\n",
    "print(np.roll(x2, 1))\n",
    "print(np.roll(x2, -1))\n",
    "print(np.roll(x2, 1, axis=0))\n",
    "print(np.roll(x2, -1, axis=0))\n",
    "print(np.roll(x2, 1, axis=1))\n",
    "print(np.roll(x2, -1, axis=1))\n",
    "print(np.roll(x2, (1, 1), axis=(1, 0)))\n",
    "print(np.roll(x2, (2, 1), axis=(1, 0)))"
   ]
  },
  {
   "cell_type": "markdown",
   "id": "7d91d1fe",
   "metadata": {},
   "source": [
    "# rollaxis\n",
    "- Roll the specified axis backwards, until it lies in a given position.\n",
    "- Roll the shape around"
   ]
  },
  {
   "cell_type": "code",
   "execution_count": 547,
   "id": "4885ae72",
   "metadata": {},
   "outputs": [
    {
     "name": "stdout",
     "output_type": "stream",
     "text": [
      "(3, 4, 5, 6)\n",
      "(3, 6, 4, 5)\n",
      "(5, 3, 4, 6)\n",
      "(3, 5, 6, 4)\n"
     ]
    }
   ],
   "source": [
    "a = np.ones((3,4,5,6))\n",
    "print(a.shape)\n",
    "print(np.rollaxis(a, 3, 1).shape)\n",
    "print(np.rollaxis(a, 2).shape)\n",
    "print(np.rollaxis(a, 1, 4).shape)"
   ]
  },
  {
   "cell_type": "markdown",
   "id": "9af94366",
   "metadata": {},
   "source": [
    "# roots\n",
    "- Return the roots of a polynomial with coefficients given in p."
   ]
  },
  {
   "cell_type": "code",
   "execution_count": 548,
   "id": "964cb35f",
   "metadata": {},
   "outputs": [
    {
     "data": {
      "text/plain": [
       "array([-0.3125+0.46351241j, -0.3125-0.46351241j])"
      ]
     },
     "execution_count": 548,
     "metadata": {},
     "output_type": "execute_result"
    }
   ],
   "source": [
    "coeff = [3.2, 2, 1]\n",
    "np.roots(coeff)"
   ]
  },
  {
   "cell_type": "markdown",
   "id": "391fb293",
   "metadata": {},
   "source": [
    "# rot90\n",
    "- Rotate an array by 90 degrees in the plane specified by axes.\n",
    "- Rotation direction is from the first towards the second axis. This means for a 2D array with the default k and axes, the rotation will be counterclockwise.\n",
    "# Arrays must be at least 2d or more"
   ]
  },
  {
   "cell_type": "code",
   "execution_count": 553,
   "id": "ef1e2f44",
   "metadata": {},
   "outputs": [
    {
     "name": "stdout",
     "output_type": "stream",
     "text": [
      "[[2 4]\n",
      " [1 3]]\n",
      "[[4 3]\n",
      " [2 1]]\n",
      "[[[1 3]\n",
      "  [0 2]]\n",
      "\n",
      " [[5 7]\n",
      "  [4 6]]]\n"
     ]
    }
   ],
   "source": [
    "m = np.array([[1,2],[3,4]], int)\n",
    "print(np.rot90(m))\n",
    "print(np.rot90(m, 2))\n",
    "m = np.arange(8).reshape((2,2,2))\n",
    "print(np.rot90(m, 1, (1,2)))"
   ]
  },
  {
   "cell_type": "markdown",
   "id": "6faaa8ef",
   "metadata": {},
   "source": [
    "# round\n",
    "- Evenly round to the given number of decimals."
   ]
  },
  {
   "cell_type": "code",
   "execution_count": 554,
   "id": "a0f975ba",
   "metadata": {},
   "outputs": [
    {
     "name": "stdout",
     "output_type": "stream",
     "text": [
      "[0. 2.]\n",
      "[0.4 1.6]\n",
      "[0. 2. 2. 4. 4.]\n",
      "[ 1  2  3 11]\n",
      "[ 0  0  0 10]\n"
     ]
    }
   ],
   "source": [
    "print(np.round([0.37, 1.64]))\n",
    "print(np.round([0.37, 1.64], decimals=1))\n",
    "print(np.round([.5, 1.5, 2.5, 3.5, 4.5])) # rounds to nearest even value\n",
    "print(np.round([1,2,3,11], decimals=1)) # ndarray of ints is returned\n",
    "print(np.round([1,2,3,11], decimals=-1))"
   ]
  },
  {
   "cell_type": "markdown",
   "id": "acc6985a",
   "metadata": {},
   "source": [
    "# s_\n",
    "- A nicer way to build up index tuples for arrays.\n",
    "- For any index combination, including slicing and axis insertion, a[indices] is the same as a[np.index_exp[indices]] for any array a. However, np.index_exp[indices] can be used anywhere in Python code and returns a tuple of slice objects that can be used in the construction of complex index expressions."
   ]
  },
  {
   "cell_type": "code",
   "execution_count": 556,
   "id": "4d3c9170",
   "metadata": {},
   "outputs": [
    {
     "name": "stdout",
     "output_type": "stream",
     "text": [
      "np.s_ result: (slice(None, None, None), slice(1, 5, 2))\n",
      "Original array:\n",
      " [[ 0  1  2  3]\n",
      " [ 4  5  6  7]\n",
      " [ 8  9 10 11]]\n",
      "Indexed array using np.s_ result:\n",
      " [[ 1  3]\n",
      " [ 5  7]\n",
      " [ 9 11]]\n"
     ]
    }
   ],
   "source": [
    "\n",
    "# Using np.s_\n",
    "idx_s = np.s_[:, 1:5:2]\n",
    "print(\"np.s_ result:\", idx_s)\n",
    "\n",
    "arr = np.arange(12).reshape(3, 4)\n",
    "print(\"Original array:\\n\", arr)\n",
    "print(\"Indexed array using np.s_ result:\\n\", arr[idx_s])"
   ]
  },
  {
   "cell_type": "markdown",
   "id": "5add5c6d",
   "metadata": {},
   "source": [
    "# save\n",
    "- Save an array to a binary file in NumPy .npy format."
   ]
  },
  {
   "cell_type": "code",
   "execution_count": 557,
   "id": "44ef2ae7",
   "metadata": {},
   "outputs": [],
   "source": [
    "x = np.arange(10)\n",
    "np.save(\"temp.npy\", x)"
   ]
  },
  {
   "cell_type": "markdown",
   "id": "bf8871a9",
   "metadata": {},
   "source": [
    "# savetxt\n",
    "- Save an array to a text file."
   ]
  },
  {
   "cell_type": "code",
   "execution_count": 559,
   "id": "eab4cef3",
   "metadata": {},
   "outputs": [],
   "source": [
    "x = y = z = np.arange(0.0,5.0,1.0)\n",
    "np.savetxt('test.out', x, delimiter=',')   # X is an array\n",
    "np.savetxt('test.out', (x,y,z))   # x,y,z equal sized 1D arrays\n",
    "np.savetxt('test.out', x, fmt='%1.4e')   # use exponential notation"
   ]
  },
  {
   "cell_type": "markdown",
   "id": "5f6e058e",
   "metadata": {},
   "source": [
    "# savez\n",
    "- Save several arrays into a single file in uncompressed .npz format.\n",
    "- Provide arrays as keyword arguments to store them under the corresponding name in the output file: savez(fn, x=x, y=y).\n",
    "- If arrays are specified as positional arguments, i.e., savez(fn, x, y), their names will be arr_0, arr_1, etc."
   ]
  },
  {
   "cell_type": "code",
   "execution_count": null,
   "id": "dd44a7f4",
   "metadata": {},
   "outputs": [],
   "source": [
    "x = np.arange(10)\n",
    "y = np.sin(x)\n",
    "np.savez(\"savez\", x, y) # save as savez.npz"
   ]
  },
  {
   "cell_type": "markdown",
   "id": "c23afc70",
   "metadata": {},
   "source": [
    "# savez_compressed\n",
    "- Save several arrays into a single file in compressed .npz format.\n",
    "- Provide arrays as keyword arguments to store them under the corresponding name in the output file: savez_compressed(fn, x=x, y=y).\n",
    "- If arrays are specified as positional arguments, i.e., savez_compressed(fn, x, y), their names will be arr_0, arr_1, etc."
   ]
  },
  {
   "cell_type": "code",
   "execution_count": 563,
   "id": "2e11d3c3",
   "metadata": {},
   "outputs": [],
   "source": [
    "test_array = np.random.rand(3, 2)\n",
    "test_vector = np.random.rand(4)\n",
    "np.savez_compressed('savez_compressed', a=test_array, b=test_vector)"
   ]
  },
  {
   "cell_type": "markdown",
   "id": "f918e165",
   "metadata": {},
   "source": [
    "# searchsorted\n",
    "- Find indices where elements should be inserted to maintain order.\n",
    "- Find the indices into a sorted array a such that, if the corresponding elements in v were inserted before the indices, the order of a would be preserved.\n",
    "# Note: Binary search is used to find the required insertion points.\n"
   ]
  },
  {
   "cell_type": "code",
   "execution_count": 564,
   "id": "6db18589",
   "metadata": {},
   "outputs": [
    {
     "name": "stdout",
     "output_type": "stream",
     "text": [
      "2\n",
      "3\n",
      "[0 5 1 2]\n"
     ]
    }
   ],
   "source": [
    "print(np.searchsorted([11,12,13,14,15], 13))\n",
    "print(np.searchsorted([11,12,13,14,15], 13, side='right'))\n",
    "print(np.searchsorted([11,12,13,14,15], [-10, 20, 12, 13]))"
   ]
  },
  {
   "cell_type": "markdown",
   "id": "8da09c99",
   "metadata": {},
   "source": [
    "# select\n",
    "- Return an array drawn from elements in choicelist, depending on conditions."
   ]
  },
  {
   "cell_type": "code",
   "execution_count": 565,
   "id": "69cf2f7a",
   "metadata": {},
   "outputs": [
    {
     "data": {
      "text/plain": [
       "array([ 0,  1,  2, 42, 16, 25])"
      ]
     },
     "execution_count": 565,
     "metadata": {},
     "output_type": "execute_result"
    }
   ],
   "source": [
    "x = np.arange(6)\n",
    "condlist = [x<3, x>3]\n",
    "choicelist = [x, x**2]\n",
    "np.select(condlist, choicelist, 42)"
   ]
  },
  {
   "cell_type": "markdown",
   "id": "a7fc9952",
   "metadata": {},
   "source": [
    "# set_printoptions\n",
    "- Set printing options.\n",
    "- These options determine the way floating point numbers, arrays and other NumPy objects are displayed."
   ]
  },
  {
   "cell_type": "code",
   "execution_count": 566,
   "id": "4d3ab28a",
   "metadata": {},
   "outputs": [
    {
     "data": {
      "text/plain": [
       "array([1.1235])"
      ]
     },
     "execution_count": 566,
     "metadata": {},
     "output_type": "execute_result"
    }
   ],
   "source": [
    "np.set_printoptions(precision=4)\n",
    "np.array([1.123456789])"
   ]
  },
  {
   "cell_type": "markdown",
   "id": "87f7bfc6",
   "metadata": {},
   "source": [
    "# setbufsize\n",
    "- Set the size of the buffer used in ufuncs."
   ]
  },
  {
   "cell_type": "code",
   "execution_count": 567,
   "id": "83f8dacf",
   "metadata": {},
   "outputs": [
    {
     "name": "stdout",
     "output_type": "stream",
     "text": [
      "4096\n"
     ]
    },
    {
     "data": {
      "text/plain": [
       "8192"
      ]
     },
     "execution_count": 567,
     "metadata": {},
     "output_type": "execute_result"
    }
   ],
   "source": [
    "with np.errstate():\n",
    "    np.setbufsize(4096)\n",
    "    print(np.getbufsize())\n",
    "np.getbufsize()"
   ]
  },
  {
   "cell_type": "markdown",
   "id": "eda4bbc5",
   "metadata": {},
   "source": [
    "# setdiff1d\n",
    "- Find the set difference of two arrays.\n",
    "- Return the unique values in ar1 that are not in ar2."
   ]
  },
  {
   "cell_type": "code",
   "execution_count": 568,
   "id": "12e7bad9",
   "metadata": {},
   "outputs": [
    {
     "data": {
      "text/plain": [
       "array([1, 2])"
      ]
     },
     "execution_count": 568,
     "metadata": {},
     "output_type": "execute_result"
    }
   ],
   "source": [
    "a = np.array([1, 2, 3, 2, 4, 1])\n",
    "b = np.array([3, 4, 5, 6])\n",
    "np.setdiff1d(a, b)"
   ]
  },
  {
   "cell_type": "markdown",
   "id": "f02214ad",
   "metadata": {},
   "source": [
    "# seterr\n",
    "- Set how floating-point errors are handled."
   ]
  },
  {
   "cell_type": "code",
   "execution_count": 571,
   "id": "0277d31b",
   "metadata": {},
   "outputs": [
    {
     "name": "stdout",
     "output_type": "stream",
     "text": [
      "30464\n",
      "{'divide': 'ignore', 'over': 'ignore', 'under': 'ignore', 'invalid': 'ignore'}\n"
     ]
    }
   ],
   "source": [
    "orig_settings = np.seterr(all='ignore')  # seterr to known value\n",
    "print(np.int16(32000) * np.int16(3))\n",
    "print(np.seterr(over='raise'))\n",
    "old_settings = np.seterr(all='warn', over='raise')\n"
   ]
  },
  {
   "cell_type": "markdown",
   "id": "4f04d366",
   "metadata": {},
   "source": [
    "# seterrcall\n",
    "- Set the floating-point error callback function or log object.\n",
    "- There are two ways to capture floating-point error messages. The first is to set the error-handler to ‘call’, using seterr. Then, set the function to call using this function.\n",
    "- The second is to set the error-handler to ‘log’, using seterr. Floating-point errors then trigger a call to the ‘write’ method of the provided object."
   ]
  },
  {
   "cell_type": "code",
   "execution_count": 572,
   "id": "5e8d8816",
   "metadata": {},
   "outputs": [
    {
     "data": {
      "text/plain": [
       "{'divide': 'call', 'over': 'call', 'under': 'call', 'invalid': 'call'}"
      ]
     },
     "execution_count": 572,
     "metadata": {},
     "output_type": "execute_result"
    }
   ],
   "source": [
    "np.seterr(**np.seterr(all='call'))"
   ]
  },
  {
   "cell_type": "markdown",
   "id": "1c1c8197",
   "metadata": {},
   "source": [
    "# setxor1d\n",
    "- Find the set exclusive-or of two arrays.\n",
    "- Return the sorted, unique values that are in only one (not both) of the input arrays."
   ]
  },
  {
   "cell_type": "code",
   "execution_count": 573,
   "id": "32198ba5",
   "metadata": {},
   "outputs": [
    {
     "data": {
      "text/plain": [
       "array([1, 4, 5, 7])"
      ]
     },
     "execution_count": 573,
     "metadata": {},
     "output_type": "execute_result"
    }
   ],
   "source": [
    "a = np.array([1, 2, 3, 2, 4])\n",
    "b = np.array([2, 3, 5, 7, 5])\n",
    "np.setxor1d(a,b)"
   ]
  },
  {
   "cell_type": "markdown",
   "id": "55b821eb",
   "metadata": {},
   "source": [
    "# shape\n",
    "- Return the shape of an array."
   ]
  },
  {
   "cell_type": "code",
   "execution_count": 574,
   "id": "a3d3b06c",
   "metadata": {},
   "outputs": [
    {
     "name": "stdout",
     "output_type": "stream",
     "text": [
      "(3, 3)\n",
      "(1, 2)\n",
      "(1,)\n",
      "()\n"
     ]
    }
   ],
   "source": [
    "print(np.shape(np.eye(3)))\n",
    "print(np.shape([[1, 3]]))\n",
    "print(np.shape([0]))\n",
    "print(np.shape(0))"
   ]
  },
  {
   "cell_type": "markdown",
   "id": "d726df77",
   "metadata": {},
   "source": [
    "# shares_memory\n",
    "- Determine if two arrays share memory."
   ]
  },
  {
   "cell_type": "code",
   "execution_count": 575,
   "id": "d4a59d8a",
   "metadata": {},
   "outputs": [
    {
     "name": "stdout",
     "output_type": "stream",
     "text": [
      "False\n",
      "True\n",
      "False\n"
     ]
    }
   ],
   "source": [
    "x = np.array([1, 2, 3, 4])\n",
    "print(np.shares_memory(x, np.array([5, 6, 7])))\n",
    "print(np.shares_memory(x[::2], x))\n",
    "print(np.shares_memory(x[::2], x[1::2]))"
   ]
  },
  {
   "cell_type": "markdown",
   "id": "8747bb63",
   "metadata": {},
   "source": [
    "# show_config\n",
    "- Show libraries and system information on which NumPy was built and is being used"
   ]
  },
  {
   "cell_type": "code",
   "execution_count": 576,
   "id": "97793224",
   "metadata": {},
   "outputs": [
    {
     "name": "stdout",
     "output_type": "stream",
     "text": [
      "Build Dependencies:\n",
      "  blas:\n",
      "    detection method: pkgconfig\n",
      "    found: true\n",
      "    include directory: C:/Users/runneradmin/AppData/Local/Temp/cibw-run-f_29nkhr/cp313-win_amd64/build/venv/Lib/site-packages/scipy_openblas64/include\n",
      "    lib directory: C:/Users/runneradmin/AppData/Local/Temp/cibw-run-f_29nkhr/cp313-win_amd64/build/venv/Lib/site-packages/scipy_openblas64/lib\n",
      "    name: scipy-openblas\n",
      "    openblas configuration: OpenBLAS 0.3.27  USE64BITINT DYNAMIC_ARCH NO_AFFINITY\n",
      "      Haswell MAX_THREADS=24\n",
      "    pc file directory: D:/a/numpy/numpy/.openblas\n",
      "    version: 0.3.27\n",
      "  lapack:\n",
      "    detection method: pkgconfig\n",
      "    found: true\n",
      "    include directory: C:/Users/runneradmin/AppData/Local/Temp/cibw-run-f_29nkhr/cp313-win_amd64/build/venv/Lib/site-packages/scipy_openblas64/include\n",
      "    lib directory: C:/Users/runneradmin/AppData/Local/Temp/cibw-run-f_29nkhr/cp313-win_amd64/build/venv/Lib/site-packages/scipy_openblas64/lib\n",
      "    name: scipy-openblas\n",
      "    openblas configuration: OpenBLAS 0.3.27  USE64BITINT DYNAMIC_ARCH NO_AFFINITY\n",
      "      Haswell MAX_THREADS=24\n",
      "    pc file directory: D:/a/numpy/numpy/.openblas\n",
      "    version: 0.3.27\n",
      "Compilers:\n",
      "  c:\n",
      "    commands: cl\n",
      "    linker: link\n",
      "    name: msvc\n",
      "    version: 19.29.30154\n",
      "  c++:\n",
      "    commands: cl\n",
      "    linker: link\n",
      "    name: msvc\n",
      "    version: 19.29.30154\n",
      "  cython:\n",
      "    commands: cython\n",
      "    linker: cython\n",
      "    name: cython\n",
      "    version: 3.0.11\n",
      "Machine Information:\n",
      "  build:\n",
      "    cpu: x86_64\n",
      "    endian: little\n",
      "    family: x86_64\n",
      "    system: windows\n",
      "  host:\n",
      "    cpu: x86_64\n",
      "    endian: little\n",
      "    family: x86_64\n",
      "    system: windows\n",
      "Python Information:\n",
      "  path: C:\\Users\\runneradmin\\AppData\\Local\\Temp\\build-env-lqjfbj5h\\Scripts\\python.exe\n",
      "  version: '3.13'\n",
      "SIMD Extensions:\n",
      "  baseline:\n",
      "  - SSE\n",
      "  - SSE2\n",
      "  - SSE3\n",
      "  found:\n",
      "  - SSSE3\n",
      "  - SSE41\n",
      "  - POPCNT\n",
      "  - SSE42\n",
      "  - AVX\n",
      "  - F16C\n",
      "  - FMA3\n",
      "  - AVX2\n",
      "  not found:\n",
      "  - AVX512F\n",
      "  - AVX512CD\n",
      "  - AVX512_SKX\n",
      "  - AVX512_CLX\n",
      "  - AVX512_CNL\n",
      "  - AVX512_ICL\n",
      "\n"
     ]
    }
   ],
   "source": [
    "np.show_config()"
   ]
  },
  {
   "cell_type": "markdown",
   "id": "b0ca4722",
   "metadata": {},
   "source": [
    "# show_runtime\n",
    "- Print information about various resources in the system including available intrinsic support and BLAS/LAPACK library in use"
   ]
  },
  {
   "cell_type": "code",
   "execution_count": 577,
   "id": "42c9e8e5",
   "metadata": {},
   "outputs": [
    {
     "name": "stdout",
     "output_type": "stream",
     "text": [
      "[{'numpy_version': '2.1.2',\n",
      "  'python': '3.13.5 (tags/v3.13.5:6cb20a2, Jun 11 2025, 16:15:46) [MSC v.1943 '\n",
      "            '64 bit (AMD64)]',\n",
      "  'uname': uname_result(system='Windows', node='sang-mini', release='11', version='10.0.26100', machine='AMD64')},\n",
      " {'simd_extensions': {'baseline': ['SSE', 'SSE2', 'SSE3'],\n",
      "                      'found': ['SSSE3',\n",
      "                                'SSE41',\n",
      "                                'POPCNT',\n",
      "                                'SSE42',\n",
      "                                'AVX',\n",
      "                                'F16C',\n",
      "                                'FMA3',\n",
      "                                'AVX2'],\n",
      "                      'not_found': ['AVX512F',\n",
      "                                    'AVX512CD',\n",
      "                                    'AVX512_SKX',\n",
      "                                    'AVX512_CLX',\n",
      "                                    'AVX512_CNL',\n",
      "                                    'AVX512_ICL']}},\n",
      " {'architecture': 'Haswell',\n",
      "  'filepath': 'C:\\\\Users\\\\thotc\\\\AppData\\\\Local\\\\Programs\\\\Python\\\\Python313\\\\Lib\\\\site-packages\\\\numpy.libs\\\\libscipy_openblas64_-c16e4918366c6bc1f1cd71e28ca36fc0.dll',\n",
      "  'internal_api': 'openblas',\n",
      "  'num_threads': 20,\n",
      "  'prefix': 'libscipy_openblas',\n",
      "  'threading_layer': 'pthreads',\n",
      "  'user_api': 'blas',\n",
      "  'version': '0.3.27'},\n",
      " {'filepath': 'C:\\\\Users\\\\thotc\\\\AppData\\\\Local\\\\Programs\\\\Python\\\\Python313\\\\Lib\\\\site-packages\\\\torch\\\\lib\\\\libiomp5md.dll',\n",
      "  'internal_api': 'openmp',\n",
      "  'num_threads': 14,\n",
      "  'prefix': 'libiomp',\n",
      "  'user_api': 'openmp',\n",
      "  'version': None},\n",
      " {'filepath': 'C:\\\\Users\\\\thotc\\\\AppData\\\\Local\\\\Programs\\\\Python\\\\Python313\\\\Lib\\\\site-packages\\\\torch\\\\lib\\\\libiompstubs5md.dll',\n",
      "  'internal_api': 'openmp',\n",
      "  'num_threads': 1,\n",
      "  'prefix': 'libiomp',\n",
      "  'user_api': 'openmp',\n",
      "  'version': None}]\n"
     ]
    }
   ],
   "source": [
    "np.show_runtime()"
   ]
  },
  {
   "cell_type": "markdown",
   "id": "69fe676b",
   "metadata": {},
   "source": [
    "# sign\n",
    "- Returns an element-wise indication of the sign of a number."
   ]
  },
  {
   "cell_type": "code",
   "execution_count": 579,
   "id": "46cc53ca",
   "metadata": {},
   "outputs": [
    {
     "name": "stdout",
     "output_type": "stream",
     "text": [
      "[-1.  1.]\n",
      "0\n",
      "[0.6-0.8j 0. +1.j ]\n"
     ]
    }
   ],
   "source": [
    "print(np.sign([-5., 4.5]))\n",
    "print(np.sign(0))\n",
    "print(np.sign([3-4j, 8j]))"
   ]
  },
  {
   "cell_type": "markdown",
   "id": "7440fb73",
   "metadata": {},
   "source": [
    "# signbit\n",
    "- Returns element-wise True where signbit is set (less than zero)."
   ]
  },
  {
   "cell_type": "code",
   "execution_count": 580,
   "id": "36a15aae",
   "metadata": {},
   "outputs": [
    {
     "name": "stdout",
     "output_type": "stream",
     "text": [
      "True\n",
      "[False  True False]\n"
     ]
    }
   ],
   "source": [
    "print(np.signbit(-1.2))\n",
    "print(np.signbit(np.array([1, -2.3, 2.1])))"
   ]
  },
  {
   "cell_type": "markdown",
   "id": "f87be674",
   "metadata": {},
   "source": [
    "# sin\n",
    "- Trigonometric sine, element-wise."
   ]
  },
  {
   "cell_type": "code",
   "execution_count": 581,
   "id": "b4051480",
   "metadata": {},
   "outputs": [
    {
     "data": {
      "text/plain": [
       "np.float64(1.0)"
      ]
     },
     "execution_count": 581,
     "metadata": {},
     "output_type": "execute_result"
    }
   ],
   "source": [
    "np.sin(np.pi/2.)"
   ]
  },
  {
   "cell_type": "markdown",
   "id": "c3880f14",
   "metadata": {},
   "source": [
    "# sinc\n",
    "- Return the normalized sinc function."
   ]
  },
  {
   "cell_type": "code",
   "execution_count": 584,
   "id": "d89a7491",
   "metadata": {},
   "outputs": [
    {
     "data": {
      "text/plain": [
       "array([-3.8982e-17, -3.8982e-17,  1.0000e+00, -3.8982e-17, -3.8982e-17])"
      ]
     },
     "execution_count": 584,
     "metadata": {},
     "output_type": "execute_result"
    }
   ],
   "source": [
    "x = np.linspace(-4, 4, 5)\n",
    "np.sinc(x)"
   ]
  },
  {
   "cell_type": "markdown",
   "id": "15facb84",
   "metadata": {},
   "source": [
    "# sinh\n",
    "- Hyperbolic sine, element-wise.\n",
    "- Equivalent to 1/2 * (np.exp(x) - np.exp(-x)) or -1j * np.sin(1j*x)."
   ]
  },
  {
   "cell_type": "code",
   "execution_count": 585,
   "id": "38d50aca",
   "metadata": {},
   "outputs": [
    {
     "name": "stdout",
     "output_type": "stream",
     "text": [
      "0.0\n",
      "1j\n",
      "(-0+1.2246467991473532e-16j)\n"
     ]
    }
   ],
   "source": [
    "print(np.sinh(0))\n",
    "print(np.sinh(np.pi*1j/2))\n",
    "print(np.sinh(np.pi*1j)) # (exact value is 0)\n",
    "# Discrepancy due to vagaries of floating point arithmetic."
   ]
  },
  {
   "cell_type": "markdown",
   "id": "7cb689ec",
   "metadata": {},
   "source": [
    "# size\n",
    "- Return the number of elements along a given axis."
   ]
  },
  {
   "cell_type": "code",
   "execution_count": 587,
   "id": "78759962",
   "metadata": {},
   "outputs": [
    {
     "name": "stdout",
     "output_type": "stream",
     "text": [
      "6\n",
      "3\n",
      "2\n"
     ]
    }
   ],
   "source": [
    "a = np.array([[1,2,3],[4,5,6]])\n",
    "print(np.size(a))\n",
    "print(np.size(a,axis=1))\n",
    "print(np.size(a,axis=0))"
   ]
  },
  {
   "cell_type": "markdown",
   "id": "d5be86f5",
   "metadata": {},
   "source": [
    "# sort\n",
    "- Return a sorted copy of an array."
   ]
  },
  {
   "cell_type": "code",
   "execution_count": 588,
   "id": "24f06304",
   "metadata": {},
   "outputs": [
    {
     "data": {
      "text/plain": [
       "array([ 1,  3,  5, 10, 33, 44])"
      ]
     },
     "execution_count": 588,
     "metadata": {},
     "output_type": "execute_result"
    }
   ],
   "source": [
    "np.sort([33, 44, 1, 3, 10, 5])"
   ]
  },
  {
   "cell_type": "markdown",
   "id": "323b5ce9",
   "metadata": {},
   "source": [
    "# sort_complex\n",
    "- Sort a complex array using the real part first, then the imaginary part."
   ]
  },
  {
   "cell_type": "code",
   "execution_count": 589,
   "id": "1e22a808",
   "metadata": {},
   "outputs": [
    {
     "data": {
      "text/plain": [
       "array([1.+0.j, 2.+0.j, 3.+0.j, 5.+0.j, 6.+0.j])"
      ]
     },
     "execution_count": 589,
     "metadata": {},
     "output_type": "execute_result"
    }
   ],
   "source": [
    "np.sort_complex([5, 3, 6, 2, 1])"
   ]
  },
  {
   "cell_type": "markdown",
   "id": "9765ccdf",
   "metadata": {},
   "source": [
    "# spacing\n",
    "- Return the distance between x and the nearest adjacent number."
   ]
  },
  {
   "cell_type": "code",
   "execution_count": 590,
   "id": "a41c839d",
   "metadata": {},
   "outputs": [
    {
     "name": "stdout",
     "output_type": "stream",
     "text": [
      "Spacing of 1.0: 2.220446049250313e-16\n",
      "Spacing of [0.   0.25 0.5  0.75 1.  ]: [1.4013e-45 2.9802e-08 5.9605e-08 5.9605e-08 1.1921e-07]\n"
     ]
    },
    {
     "name": "stderr",
     "output_type": "stream",
     "text": [
      "C:\\Users\\thotc\\AppData\\Local\\Temp\\ipykernel_36788\\3776167279.py:8: RuntimeWarning: underflow encountered in spacing\n",
      "  spacing_array = np.spacing(x_array)\n"
     ]
    }
   ],
   "source": [
    "# Spacing for a scalar\n",
    "x_scalar = np.float64(1.0)\n",
    "spacing_scalar = np.spacing(x_scalar)\n",
    "print(f\"Spacing of {x_scalar}: {spacing_scalar}\")\n",
    "\n",
    "# Spacing for an array\n",
    "x_array = np.array([0.0, 0.25, 0.5, 0.75, 1.0], dtype=np.float32)\n",
    "spacing_array = np.spacing(x_array)\n",
    "print(f\"Spacing of {x_array}: {spacing_array}\")"
   ]
  },
  {
   "cell_type": "code",
   "execution_count": 591,
   "id": "c2f59800",
   "metadata": {},
   "outputs": [
    {
     "data": {
      "text/plain": [
       "np.float64(2.220446049250313e-16)"
      ]
     },
     "execution_count": 591,
     "metadata": {},
     "output_type": "execute_result"
    }
   ],
   "source": [
    "np.finfo(np.float64).eps"
   ]
  },
  {
   "cell_type": "markdown",
   "id": "fd358f04",
   "metadata": {},
   "source": [
    "# split\n",
    "- Split an array into multiple sub-arrays as views into ary."
   ]
  },
  {
   "cell_type": "code",
   "execution_count": 592,
   "id": "57be5e83",
   "metadata": {},
   "outputs": [
    {
     "data": {
      "text/plain": [
       "[array([0., 1., 2.]), array([3., 4., 5.]), array([6., 7., 8.])]"
      ]
     },
     "execution_count": 592,
     "metadata": {},
     "output_type": "execute_result"
    }
   ],
   "source": [
    "x = np.arange(9.0)\n",
    "np.split(x, 3)"
   ]
  },
  {
   "cell_type": "markdown",
   "id": "8215dd38",
   "metadata": {},
   "source": [
    "# sqrt\n",
    "- Return the non-negative square-root of an array, element-wise."
   ]
  },
  {
   "cell_type": "code",
   "execution_count": 593,
   "id": "60a003c8",
   "metadata": {},
   "outputs": [
    {
     "data": {
      "text/plain": [
       "array([1., 2., 3.])"
      ]
     },
     "execution_count": 593,
     "metadata": {},
     "output_type": "execute_result"
    }
   ],
   "source": [
    "np.sqrt([1,4,9])"
   ]
  },
  {
   "cell_type": "markdown",
   "id": "d2e35ac0",
   "metadata": {},
   "source": [
    "# square\n",
    "- Return the element-wise square of the input."
   ]
  },
  {
   "cell_type": "code",
   "execution_count": 596,
   "id": "960ebb5b",
   "metadata": {},
   "outputs": [
    {
     "data": {
      "text/plain": [
       "array([ 1,  4,  9, 16])"
      ]
     },
     "execution_count": 596,
     "metadata": {},
     "output_type": "execute_result"
    }
   ],
   "source": [
    "np.square([-1, 2, 3, 4])"
   ]
  },
  {
   "cell_type": "markdown",
   "id": "956c478b",
   "metadata": {},
   "source": [
    "# squeeze\n",
    "- Remove axes of length one from a."
   ]
  },
  {
   "cell_type": "code",
   "execution_count": 599,
   "id": "b817063d",
   "metadata": {},
   "outputs": [
    {
     "name": "stdout",
     "output_type": "stream",
     "text": [
      "(1, 3, 1)\n",
      "(3,)\n",
      "(3, 1)\n",
      "(1, 3)\n",
      "(1, 1)\n",
      "1234\n",
      "()\n",
      "1234\n"
     ]
    }
   ],
   "source": [
    "x = np.array([[[0], [1], [2]]])\n",
    "print(x.shape)\n",
    "print(np.squeeze(x).shape)\n",
    "print(np.squeeze(x, axis=0).shape)\n",
    "print(np.squeeze(x, axis=2).shape)\n",
    "x = np.array([[1234]])\n",
    "print(x.shape)\n",
    "print(np.squeeze(x))\n",
    "print(np.squeeze(x).shape)\n",
    "print(np.squeeze(x)[()])"
   ]
  },
  {
   "cell_type": "markdown",
   "id": "9a921919",
   "metadata": {},
   "source": [
    "# stack\n",
    "- Join a sequence of arrays along a new axis.\n",
    "- The axis parameter specifies the index of the new axis in the dimensions of the result. For example, if axis=0 it will be the first dimension and if axis=-1 it will be the last dimension."
   ]
  },
  {
   "cell_type": "code",
   "execution_count": 606,
   "id": "9dbab3e1",
   "metadata": {},
   "outputs": [
    {
     "name": "stdout",
     "output_type": "stream",
     "text": [
      "(10, 3, 4)\n",
      "[[1 2 3]\n",
      " [2 3 4]]\n"
     ]
    }
   ],
   "source": [
    "rng = np.random.default_rng()\n",
    "arrays = [rng.normal(size=(3,4)) for _ in range(10)]\n",
    "print(np.stack(arrays, axis=0).shape)\n",
    "print(np.stack([np.array([1, 2, 3]), np.array([2, 3, 4])]))"
   ]
  },
  {
   "cell_type": "markdown",
   "id": "e43da268",
   "metadata": {},
   "source": [
    "# std\n",
    "- Compute the standard deviation along the specified axis.\n",
    "- Returns the standard deviation, a measure of the spread of a distribution, of the array elements. The standard deviation is computed for the flattened array by default, otherwise over the specified axis."
   ]
  },
  {
   "cell_type": "code",
   "execution_count": 607,
   "id": "cef1d78f",
   "metadata": {},
   "outputs": [
    {
     "name": "stdout",
     "output_type": "stream",
     "text": [
      "1.118033988749895\n",
      "[1. 1.]\n",
      "[0.5 0.5]\n"
     ]
    }
   ],
   "source": [
    "a = np.array([[1, 2], [3, 4]])\n",
    "print(np.std(a))\n",
    "print(np.std(a, axis=0))\n",
    "print(np.std(a, axis=1))"
   ]
  },
  {
   "cell_type": "markdown",
   "id": "5d18eac1",
   "metadata": {},
   "source": [
    "# subtract\n",
    "- Subtract arguments, element-wise."
   ]
  },
  {
   "cell_type": "code",
   "execution_count": 609,
   "id": "be0843e8",
   "metadata": {},
   "outputs": [
    {
     "name": "stdout",
     "output_type": "stream",
     "text": [
      "-3.0\n",
      "[-5  6 -7  1]\n"
     ]
    }
   ],
   "source": [
    "print(np.subtract(1.0, 4.0))\n",
    "print(np.subtract(np.array([5, 10, 4, 6]), np.array([10, 4, 11, 5])))"
   ]
  },
  {
   "cell_type": "markdown",
   "id": "5ab4eb54",
   "metadata": {},
   "source": [
    "# sum\n",
    "- Sum of array elements over a given axis."
   ]
  },
  {
   "cell_type": "code",
   "execution_count": 610,
   "id": "79499437",
   "metadata": {},
   "outputs": [
    {
     "name": "stdout",
     "output_type": "stream",
     "text": [
      "2.0\n",
      "1\n",
      "6\n",
      "[0 6]\n",
      "[1 5]\n",
      "[1. 5.]\n"
     ]
    }
   ],
   "source": [
    "print(np.sum([0.5, 1.5]))\n",
    "print(np.sum([0.5, 0.7, 0.2, 1.5], dtype=np.int32))\n",
    "print(np.sum([[0, 1], [0, 5]]))\n",
    "print(np.sum([[0, 1], [0, 5]], axis=0))\n",
    "print(np.sum([[0, 1], [0, 5]], axis=1))\n",
    "print(np.sum([[0, 1], [np.nan, 5]], where=[False, True], axis=1))"
   ]
  },
  {
   "cell_type": "markdown",
   "id": "630044ae",
   "metadata": {},
   "source": [
    "# swapaxes\n",
    "- Interchange two axes of an array."
   ]
  },
  {
   "cell_type": "code",
   "execution_count": 612,
   "id": "b3be6e84",
   "metadata": {},
   "outputs": [
    {
     "name": "stdout",
     "output_type": "stream",
     "text": [
      "[[1]\n",
      " [2]\n",
      " [3]]\n",
      "[[2 4]\n",
      " [3 5]]\n"
     ]
    }
   ],
   "source": [
    "x = np.array([[1,2,3]])\n",
    "print(np.swapaxes(x,0,1))\n",
    "print(np.swapaxes(\n",
    "    np.array([[2, 3], [4, 5]]), 0, 1\n",
    "))"
   ]
  },
  {
   "cell_type": "markdown",
   "id": "0b1ac4ad",
   "metadata": {},
   "source": [
    "# take\n",
    "- Take elements from an array along an axis.\n",
    "- When axis is not None, this function does the same thing as “fancy” indexing (indexing arrays using arrays); however, it can be easier to use if you need elements along a given axis. A call such as np.take(arr, indices, axis=3) is equivalent to arr[:,:,:,indices,...].\n",
    "- Explained without fancy indexing, this is equivalent to the following use of ndindex, which sets each of ii, jj, and kk to a tuple of indices:"
   ]
  },
  {
   "cell_type": "code",
   "execution_count": 613,
   "id": "fb540d0d",
   "metadata": {},
   "outputs": [
    {
     "name": "stdout",
     "output_type": "stream",
     "text": [
      "[4 3 6]\n"
     ]
    }
   ],
   "source": [
    "a = [4, 3, 5, 7, 6, 8]\n",
    "indices = [0, 1, 4]\n",
    "print(np.take(a, indices))\n"
   ]
  },
  {
   "cell_type": "markdown",
   "id": "a3eff238",
   "metadata": {},
   "source": [
    "# take_along_axis\n",
    "- Take values from the input array by matching 1d index and data slices.\n",
    "- This iterates over matching 1d slices oriented along the specified axis in the index and data arrays, and uses the former to look up values in the latter. These slices can be different lengths.\n",
    "- Functions returning an index along an axis, like argsort and argpartition, produce suitable indices for this function."
   ]
  },
  {
   "cell_type": "code",
   "execution_count": 614,
   "id": "8d0554cb",
   "metadata": {},
   "outputs": [
    {
     "name": "stdout",
     "output_type": "stream",
     "text": [
      "[[0 2 1]\n",
      " [1 2 0]]\n",
      "[[10 20 30]\n",
      " [40 50 60]]\n"
     ]
    }
   ],
   "source": [
    "a = np.array([[10, 30, 20], [60, 40, 50]])\n",
    "np.sort(a, axis=1)\n",
    "ai = np.argsort(a, axis=1)\n",
    "print(ai)\n",
    "print(np.take_along_axis(a, ai, axis=1))"
   ]
  },
  {
   "cell_type": "markdown",
   "id": "930a987f",
   "metadata": {},
   "source": [
    "# tan\n",
    "- Compute tangent element-wise.\n",
    "- Equivalent to np.sin(x)/np.cos(x) element-wise."
   ]
  },
  {
   "cell_type": "code",
   "execution_count": 616,
   "id": "d27d8078",
   "metadata": {},
   "outputs": [
    {
     "name": "stdout",
     "output_type": "stream",
     "text": [
      "[ 1.2246e-16  1.6331e+16 -1.2246e-16]\n",
      "True\n"
     ]
    }
   ],
   "source": [
    "from math import pi\n",
    "print(np.tan(np.array([-pi,pi/2,pi])))\n",
    "# Example of providing the optional output parameter illustrating\n",
    "# that what is returned is a reference to said parameter\n",
    "out1 = np.array([0], dtype='d')\n",
    "out2 = np.cos([0.1], out1)\n",
    "print(out2 is out1)\n",
    "# Example of ValueError due to provision of shape mis-matched `out`"
   ]
  },
  {
   "cell_type": "markdown",
   "id": "db6ee125",
   "metadata": {},
   "source": [
    "# tanh\n",
    "- Compute hyperbolic tangent element-wise.\n",
    "- Equivalent to np.sinh(x)/np.cosh(x) or -1j * np.tan(1j*x)."
   ]
  },
  {
   "cell_type": "code",
   "execution_count": 617,
   "id": "6b3d02a3",
   "metadata": {},
   "outputs": [
    {
     "data": {
      "text/plain": [
       "array([0.+0.0000e+00j, 0.-1.2246e-16j, 0.+1.6331e+16j])"
      ]
     },
     "execution_count": 617,
     "metadata": {},
     "output_type": "execute_result"
    }
   ],
   "source": [
    "np.tanh((0, np.pi*1j, np.pi*1j/2))"
   ]
  },
  {
   "cell_type": "markdown",
   "id": "39c4a85c",
   "metadata": {},
   "source": [
    "# tensordot\n",
    "- Compute tensor dot product along specified axes.\n",
    "- Given two tensors, a and b, and an array_like object containing two array_like objects, (a_axes, b_axes), sum the products of a’s and b’s elements (components) over the axes specified by a_axes and b_axes. The third argument can be a single non-negative integer_like scalar, N; if it is such, then the last N dimensions of a and the first N dimensions of b are summed over."
   ]
  },
  {
   "cell_type": "code",
   "execution_count": 618,
   "id": "a5cef07f",
   "metadata": {},
   "outputs": [
    {
     "name": "stdout",
     "output_type": "stream",
     "text": [
      "(2, 2, 2, 2)\n",
      "[[[[ 5  6]\n",
      "   [ 7  8]]\n",
      "\n",
      "  [[10 12]\n",
      "   [14 16]]]\n",
      "\n",
      "\n",
      " [[[15 18]\n",
      "   [21 24]]\n",
      "\n",
      "  [[20 24]\n",
      "   [28 32]]]]\n"
     ]
    }
   ],
   "source": [
    "a_0 = np.array([[1, 2], [3, 4]])\n",
    "b_0 = np.array([[5, 6], [7, 8]])\n",
    "c_0 = np.tensordot(a_0, b_0, axes=0)\n",
    "print(c_0.shape)\n",
    "print(c_0)"
   ]
  },
  {
   "cell_type": "markdown",
   "id": "a0a5edb7",
   "metadata": {},
   "source": [
    "# tile\n",
    "- Construct an array by repeating A the number of times given by reps.\n",
    "- If reps has length d, the result will have dimension of max(d, A.ndim).\n",
    "- If A.ndim < d, A is promoted to be d-dimensional by prepending new axes. So a shape (3,) array is promoted to (1, 3) for 2-D replication, or shape (1, 1, 3) for 3-D replication. If this is not the desired behavior, promote A to d-dimensions manually before calling this function.\n",
    "- If A.ndim > d, reps is promoted to A.ndim by prepending 1’s to it. Thus for an A of shape (2, 3, 4, 5), a reps of (2, 2) is treated as (1, 1, 2, 2).\n",
    "- Note : Although tile may be used for broadcasting, it is strongly recommended to use numpy’s broadcasting operations and functions."
   ]
  },
  {
   "cell_type": "code",
   "execution_count": 619,
   "id": "cf21675f",
   "metadata": {},
   "outputs": [
    {
     "name": "stdout",
     "output_type": "stream",
     "text": [
      "[0 1 2 0 1 2]\n",
      "[[0 1 2 0 1 2]\n",
      " [0 1 2 0 1 2]]\n",
      "[[[0 1 2 0 1 2]]\n",
      "\n",
      " [[0 1 2 0 1 2]]]\n"
     ]
    }
   ],
   "source": [
    "a = np.array([0, 1, 2])\n",
    "print(np.tile(a, 2))\n",
    "print(np.tile(a, (2, 2)))\n",
    "print(np.tile(a, (2, 1, 2)))"
   ]
  },
  {
   "cell_type": "markdown",
   "id": "6aa20aeb",
   "metadata": {},
   "source": [
    "# trace\n",
    "- Return the sum along diagonals of the array.\n",
    "- If a is 2-D, the sum along its diagonal with the given offset is returned, i.e., the sum of elements a[i,i+offset] for all i.\n",
    "- If a has more than two dimensions, then the axes specified by axis1 and axis2 are used to determine the 2-D sub-arrays whose traces are returned. The shape of the resulting array is the same as that of a with axis1 and axis2 removed."
   ]
  },
  {
   "cell_type": "code",
   "execution_count": 621,
   "id": "d6502d86",
   "metadata": {},
   "outputs": [
    {
     "name": "stdout",
     "output_type": "stream",
     "text": [
      "6.0\n",
      "[6 8]\n"
     ]
    }
   ],
   "source": [
    "print(np.trace(np.eye(6)))\n",
    "a = np.arange(8).reshape((2,2,2))\n",
    "print(np.trace(a))"
   ]
  },
  {
   "cell_type": "markdown",
   "id": "2bae26af",
   "metadata": {},
   "source": [
    "# transpose\n",
    "- Returns an array with axes transposed.\n",
    "- For a 1-D array, this returns an unchanged view of the original array, as a transposed vector is simply the same vector. To convert a 1-D array into a 2-D column vector, an additional dimension must be added, e.g., np.atleast_2d(a).T achieves this, as does a[:, np.newaxis]. For a 2-D array, this is the standard matrix transpose. For an n-D array, if axes are given, their order indicates how the axes are permuted (see Examples). If axes are not provided, then transpose(a).shape == a.shape[::-1]."
   ]
  },
  {
   "cell_type": "code",
   "execution_count": 623,
   "id": "32acde6e",
   "metadata": {},
   "outputs": [
    {
     "data": {
      "text/plain": [
       "array([[2, 4],\n",
       "       [3, 5]])"
      ]
     },
     "execution_count": 623,
     "metadata": {},
     "output_type": "execute_result"
    }
   ],
   "source": [
    "np.transpose(\n",
    "    np.array([[2, 3], [4, 5]])\n",
    ")"
   ]
  },
  {
   "cell_type": "markdown",
   "id": "71a91f63",
   "metadata": {},
   "source": [
    "# trapezoid\n",
    "- Integrate along the given axis using the composite trapezoidal rule.\n",
    "- If x is provided, the integration happens in sequence along its elements - they are not sorted."
   ]
  },
  {
   "cell_type": "code",
   "execution_count": null,
   "id": "d6d22110",
   "metadata": {},
   "outputs": [],
   "source": [
    "np.trapezoid([1, 2, 3])"
   ]
  },
  {
   "cell_type": "markdown",
   "id": "47b4e53c",
   "metadata": {},
   "source": [
    "# tri\n",
    "- An array with ones at and below the given diagonal and zeros elsewhere.\n",
    "- The sub-diagonal at and below which the array is filled. k = 0 is the main diagonal, while k < 0 is below it, and k > 0 is above. The default is 0."
   ]
  },
  {
   "cell_type": "code",
   "execution_count": 627,
   "id": "7107b70c",
   "metadata": {},
   "outputs": [
    {
     "name": "stdout",
     "output_type": "stream",
     "text": [
      "[[1. 0. 0.]\n",
      " [1. 1. 0.]\n",
      " [1. 1. 1.]]\n"
     ]
    }
   ],
   "source": [
    "print(np.tri(3))\n"
   ]
  },
  {
   "cell_type": "markdown",
   "id": "132eba62",
   "metadata": {},
   "source": [
    "# tril\n",
    "- Lower triangle of an array.\n",
    "- Return a copy of an array with elements above the k-th diagonal zeroed. For arrays with ndim exceeding 2, tril will apply to the final two axes."
   ]
  },
  {
   "cell_type": "code",
   "execution_count": null,
   "id": "44fdd495",
   "metadata": {},
   "outputs": [
    {
     "name": "stdout",
     "output_type": "stream",
     "text": [
      "[[1 0]\n",
      " [2 2]]\n",
      "[[1. 0. 0. 0.]\n",
      " [1. 1. 0. 0.]\n",
      " [1. 1. 1. 0.]\n",
      " [1. 1. 1. 1.]]\n"
     ]
    }
   ],
   "source": [
    "print(np.tril(\n",
    "    np.array([[1, 1], [2, 2]])\n",
    "))\n",
    "print(np.tril(np.ones(4)))\n"
   ]
  },
  {
   "cell_type": "markdown",
   "id": "192cbdb4",
   "metadata": {},
   "source": [
    "# tril_indices\n",
    "- Return the indices for the lower-triangle of an (n, m) array."
   ]
  },
  {
   "cell_type": "code",
   "execution_count": 646,
   "id": "df0f3ccb",
   "metadata": {},
   "outputs": [
    {
     "data": {
      "text/plain": [
       "(array([0, 1, 1, 2, 2, 2, 3, 3, 3, 3]), array([0, 0, 1, 0, 1, 2, 0, 1, 2, 3]))"
      ]
     },
     "execution_count": 646,
     "metadata": {},
     "output_type": "execute_result"
    }
   ],
   "source": [
    "np.tril_indices(4)"
   ]
  },
  {
   "cell_type": "markdown",
   "id": "c13e00d9",
   "metadata": {},
   "source": [
    "# tril_indices_from\n",
    "- Return the indices for the lower-triangle of arr."
   ]
  },
  {
   "cell_type": "code",
   "execution_count": 647,
   "id": "950cfd3f",
   "metadata": {},
   "outputs": [
    {
     "data": {
      "text/plain": [
       "(array([0, 1, 1, 2, 2, 2, 3, 3, 3, 3]), array([0, 0, 1, 0, 1, 2, 0, 1, 2, 3]))"
      ]
     },
     "execution_count": 647,
     "metadata": {},
     "output_type": "execute_result"
    }
   ],
   "source": [
    "a = np.arange(16).reshape(4, 4)\n",
    "np.tril_indices_from(a)"
   ]
  },
  {
   "cell_type": "markdown",
   "id": "0f999de5",
   "metadata": {},
   "source": [
    "# trim_zeros\n",
    "- Remove values along a dimension which are zero along all other."
   ]
  },
  {
   "cell_type": "code",
   "execution_count": null,
   "id": "287c0d54",
   "metadata": {},
   "outputs": [
    {
     "data": {
      "text/plain": [
       "array([1, 2, 3, 0, 2, 1])"
      ]
     },
     "execution_count": 648,
     "metadata": {},
     "output_type": "execute_result"
    }
   ],
   "source": [
    "a = np.array((0, 0, 0, 1, 2, 3, 0, 2, 1, 0)) \n",
    "np.trim_zeros(a) # only remove the outer zeros"
   ]
  },
  {
   "cell_type": "markdown",
   "id": "70c1e137",
   "metadata": {},
   "source": [
    "# triu\n",
    "- Upper triangle of an array.\n",
    "- Return a copy of an array with the elements below the k-th diagonal zeroed. For arrays with ndim exceeding 2, triu will apply to the final two axes.\n"
   ]
  },
  {
   "cell_type": "code",
   "execution_count": 632,
   "id": "30dcd06c",
   "metadata": {},
   "outputs": [
    {
     "data": {
      "text/plain": [
       "array([[1, 1],\n",
       "       [0, 1]])"
      ]
     },
     "execution_count": 632,
     "metadata": {},
     "output_type": "execute_result"
    }
   ],
   "source": [
    "np.triu((1, 1))"
   ]
  },
  {
   "cell_type": "markdown",
   "id": "1cede6c9",
   "metadata": {},
   "source": [
    "# triu_indices\n",
    "- Return the indices for the upper-triangle of an (n, m) array."
   ]
  },
  {
   "cell_type": "code",
   "execution_count": 649,
   "id": "65bedda3",
   "metadata": {},
   "outputs": [
    {
     "data": {
      "text/plain": [
       "(array([0, 0, 0, 0, 1, 1, 1, 2, 2, 3]), array([0, 1, 2, 3, 1, 2, 3, 2, 3, 3]))"
      ]
     },
     "execution_count": 649,
     "metadata": {},
     "output_type": "execute_result"
    }
   ],
   "source": [
    "np.triu_indices(4)"
   ]
  },
  {
   "cell_type": "markdown",
   "id": "19be6444",
   "metadata": {},
   "source": [
    "# triu_indices_from\n",
    "- Return the indices for the upper-triangle of arr."
   ]
  },
  {
   "cell_type": "code",
   "execution_count": 650,
   "id": "b61d5051",
   "metadata": {},
   "outputs": [
    {
     "data": {
      "text/plain": [
       "(array([0, 0, 0, 0, 1, 1, 1, 2, 2, 3]), array([0, 1, 2, 3, 1, 2, 3, 2, 3, 3]))"
      ]
     },
     "execution_count": 650,
     "metadata": {},
     "output_type": "execute_result"
    }
   ],
   "source": [
    "np.triu_indices_from(np.arange(16).reshape(4, 4))"
   ]
  },
  {
   "cell_type": "markdown",
   "id": "2322805a",
   "metadata": {},
   "source": [
    "# true_divide\n",
    "- Divide arguments element-wise."
   ]
  },
  {
   "cell_type": "code",
   "execution_count": 653,
   "id": "d7c8ead1",
   "metadata": {},
   "outputs": [
    {
     "name": "stdout",
     "output_type": "stream",
     "text": [
      "0.5\n",
      "[[1.  1.  1. ]\n",
      " [4.  2.5 2. ]\n",
      " [7.  4.  3. ]]\n"
     ]
    }
   ],
   "source": [
    "print(np.divide(2.0, 4.0))\n",
    "x1 = np.arange(1.0, 10.0).reshape((3, 3))\n",
    "x2 = np.arange(1.0, 4.0)\n",
    "print(np.divide(x1, x2))"
   ]
  },
  {
   "cell_type": "markdown",
   "id": "622c2821",
   "metadata": {},
   "source": [
    "# trunc\n",
    "- Return the truncated value of the input, element-wise.\n",
    "- The truncated value of the scalar x is the nearest integer i which is closer to zero than x is. In short, the fractional part of the signed number x is discarded.\n",
    "- numpy.trunc aligns with the C99 standard's trunc function, while numpy.fix is named similarly to a function found in MATLAB."
   ]
  },
  {
   "cell_type": "code",
   "execution_count": 654,
   "id": "3406355e",
   "metadata": {},
   "outputs": [
    {
     "data": {
      "text/plain": [
       "array([-1., -1., -0.,  0.,  1.,  1.,  2.])"
      ]
     },
     "execution_count": 654,
     "metadata": {},
     "output_type": "execute_result"
    }
   ],
   "source": [
    "a = np.array([-1.7, -1.5, -0.2, 0.2, 1.5, 1.7, 2.0])\n",
    "np.trunc(a)"
   ]
  },
  {
   "cell_type": "code",
   "execution_count": 655,
   "id": "7b6cd558",
   "metadata": {},
   "outputs": [
    {
     "data": {
      "text/plain": [
       "False"
      ]
     },
     "execution_count": 655,
     "metadata": {},
     "output_type": "execute_result"
    }
   ],
   "source": [
    "np.trunc is np.fix"
   ]
  },
  {
   "cell_type": "markdown",
   "id": "e3877fd9",
   "metadata": {},
   "source": [
    "# typename\n",
    "- Return a description for the given data type code."
   ]
  },
  {
   "cell_type": "code",
   "execution_count": 656,
   "id": "fe391108",
   "metadata": {},
   "outputs": [
    {
     "name": "stdout",
     "output_type": "stream",
     "text": [
      "S1  :  character\n",
      "?  :  bool\n",
      "B  :  unsigned char\n",
      "D  :  complex double precision\n",
      "G  :  complex long double precision\n",
      "F  :  complex single precision\n",
      "I  :  unsigned integer\n",
      "H  :  unsigned short\n",
      "L  :  unsigned long integer\n",
      "O  :  object\n",
      "Q  :  unsigned long long integer\n",
      "S  :  string\n",
      "U  :  unicode\n",
      "V  :  void\n",
      "b  :  signed char\n",
      "d  :  double precision\n",
      "g  :  long precision\n",
      "f  :  single precision\n",
      "i  :  integer\n",
      "h  :  short\n",
      "l  :  long integer\n",
      "q  :  long long integer\n"
     ]
    }
   ],
   "source": [
    "typechars = ['S1', '?', 'B', 'D', 'G', 'F', 'I', 'H', 'L', 'O', 'Q',\n",
    "             'S', 'U', 'V', 'b', 'd', 'g', 'f', 'i', 'h', 'l', 'q']\n",
    "for typechar in typechars:\n",
    "    print(typechar, ' : ', np.typename(typechar))"
   ]
  },
  {
   "cell_type": "markdown",
   "id": "2101d232",
   "metadata": {},
   "source": [
    "# union1d\n",
    "- Find the union of two arrays.\n",
    "- Return the unique, sorted array of values that are in either of the two input arrays."
   ]
  },
  {
   "cell_type": "code",
   "execution_count": 657,
   "id": "0721eeec",
   "metadata": {},
   "outputs": [
    {
     "data": {
      "text/plain": [
       "array([-2, -1,  0,  1,  2])"
      ]
     },
     "execution_count": 657,
     "metadata": {},
     "output_type": "execute_result"
    }
   ],
   "source": [
    "np.union1d([-1, 0, 1], [-2, 0, 2])"
   ]
  },
  {
   "cell_type": "markdown",
   "id": "442f12fe",
   "metadata": {},
   "source": [
    "# unique\n",
    "- Find the unique elements of an array.\n",
    "- Returns the sorted unique elements of an array. There are three optional outputs in addition to the unique elements:\n",
    "    - the indices of the input array that give the unique values\n",
    "    - the indices of the unique array that reconstruct the input array\n",
    "    - the number of times each unique value comes up in the input array"
   ]
  },
  {
   "cell_type": "code",
   "execution_count": 658,
   "id": "8ad4c0a0",
   "metadata": {},
   "outputs": [
    {
     "name": "stdout",
     "output_type": "stream",
     "text": [
      "[1 2 3]\n",
      "[1 2 3]\n"
     ]
    }
   ],
   "source": [
    "print(np.unique([1, 1, 2, 2, 3, 3]))\n",
    "a = np.array([[1, 1], [2, 3]])\n",
    "print(np.unique(a))"
   ]
  },
  {
   "cell_type": "markdown",
   "id": "c4e7f3df",
   "metadata": {},
   "source": [
    "# unique_all\n",
    "- Find the unique elements of an array, and counts, inverse, and indices.\n",
    "- This function is an Array API compatible alternative to:\n",
    "    - np.unique(x, return_index=True, return_inverse=True,\n",
    "          return_counts=True, equal_nan=False, sorted=False)"
   ]
  },
  {
   "cell_type": "code",
   "execution_count": null,
   "id": "918951d8",
   "metadata": {},
   "outputs": [
    {
     "name": "stdout",
     "output_type": "stream",
     "text": [
      "[1 2]\n",
      "[0 2]\n",
      "[0 0 1]\n",
      "[2 1]\n"
     ]
    }
   ],
   "source": [
    "x = [1, 1, 2]\n",
    "uniq = np.unique_all(x)\n",
    "print(uniq.values)\n",
    "print(uniq.indices)\n",
    "print(uniq.inverse_indices)\n",
    "print(uniq.counts)"
   ]
  },
  {
   "cell_type": "markdown",
   "id": "cd2b9355",
   "metadata": {},
   "source": [
    "# unique_counts\n",
    "- Find the unique elements and counts of an input array x.\n",
    "- This function is an Array API compatible alternative to:\n",
    "    - np.unique(x, return_counts=True, equal_nan=False, sorted=False)\n",
    "- but returns a namedtuple for easier access to each output."
   ]
  },
  {
   "cell_type": "code",
   "execution_count": 662,
   "id": "9185aec2",
   "metadata": {},
   "outputs": [
    {
     "name": "stdout",
     "output_type": "stream",
     "text": [
      "[1 2]\n",
      "[2 1]\n"
     ]
    }
   ],
   "source": [
    "x = [1, 1, 2]\n",
    "uniq = np.unique_counts(x)\n",
    "print(uniq.values)\n",
    "print(uniq.counts)"
   ]
  },
  {
   "cell_type": "markdown",
   "id": "634387cd",
   "metadata": {},
   "source": [
    "# unique_inverse\n",
    "- Find the unique elements of x and indices to reconstruct x.\n",
    "- This function is an Array API compatible alternative to:\n",
    "    - np.unique(x, return_inverse=True, equal_nan=False, sorted=False)\n",
    "- but returns a namedtuple for easier access to each output."
   ]
  },
  {
   "cell_type": "code",
   "execution_count": 664,
   "id": "04d92d04",
   "metadata": {},
   "outputs": [
    {
     "name": "stdout",
     "output_type": "stream",
     "text": [
      "[1 2]\n",
      "[0 0 1]\n"
     ]
    }
   ],
   "source": [
    "x = [1, 1, 2]\n",
    "uniq = np.unique_inverse(x)\n",
    "print(uniq.values)\n",
    "print(uniq.inverse_indices)"
   ]
  },
  {
   "cell_type": "markdown",
   "id": "b7982dc2",
   "metadata": {},
   "source": [
    "# unique_values\n",
    "- Returns the unique elements of an input array x.\n",
    "- This function is an Array API compatible alternative to:\n",
    "    - np.unique(x, equal_nan=False, sorted=False)"
   ]
  },
  {
   "cell_type": "code",
   "execution_count": 666,
   "id": "388a2182",
   "metadata": {},
   "outputs": [
    {
     "data": {
      "text/plain": [
       "array([ 1,  2, 10, 20, 30, 40])"
      ]
     },
     "execution_count": 666,
     "metadata": {},
     "output_type": "execute_result"
    }
   ],
   "source": [
    "np.unique_values([1, 1, 2, 10, 30, 40, 30, 20, 10])"
   ]
  },
  {
   "cell_type": "markdown",
   "id": "6eee5599",
   "metadata": {},
   "source": [
    "# unpackbits\n",
    "- Unpacks elements of a uint8 array into a binary-valued output array.\n",
    "- Each element of a represents a bit-field that should be unpacked into a binary-valued output array. The shape of the output array is either 1-D (if axis is None) or the same shape as the input array with unpacking done along the axis specified."
   ]
  },
  {
   "cell_type": "code",
   "execution_count": 667,
   "id": "b22e1f1e",
   "metadata": {},
   "outputs": [
    {
     "name": "stdout",
     "output_type": "stream",
     "text": [
      "[[ 2]\n",
      " [ 7]\n",
      " [23]]\n",
      "[[0 0 0 0 0 0 1 0]\n",
      " [0 0 0 0 0 1 1 1]\n",
      " [0 0 0 1 0 1 1 1]]\n",
      "[[0 0 0 0 0]\n",
      " [0 0 0 0 0]\n",
      " [0 0 0 1 0]]\n"
     ]
    }
   ],
   "source": [
    "a = np.array([[2], [7], [23]], dtype=np.uint8)\n",
    "print(a)\n",
    "b = np.unpackbits(a, axis=1)\n",
    "print(b)\n",
    "c = np.unpackbits(a, axis=1, count=-3)\n",
    "print(c)"
   ]
  },
  {
   "cell_type": "markdown",
   "id": "38ea9915",
   "metadata": {},
   "source": [
    "# unravel_index\n",
    "- Converts a flat index or array of flat indices into a tuple of coordinate arrays."
   ]
  },
  {
   "cell_type": "code",
   "execution_count": 668,
   "id": "dd80b5eb",
   "metadata": {},
   "outputs": [
    {
     "name": "stdout",
     "output_type": "stream",
     "text": [
      "(array([3, 6, 6]), array([4, 5, 1]))\n",
      "(array([3, 6, 6]), array([4, 5, 1]))\n"
     ]
    }
   ],
   "source": [
    "print(np.unravel_index([22, 41, 37], (7,6)))\n",
    "print(np.unravel_index([31, 41, 13], (7,6), order='F'))"
   ]
  },
  {
   "cell_type": "markdown",
   "id": "854c8272",
   "metadata": {},
   "source": [
    "# unstack\n",
    "- Split an array into a sequence of arrays along the given axis.\n",
    "- The axis parameter specifies the dimension along which the array will be split. For example, if axis=0 (the default) it will be the first dimension and if axis=-1 it will be the last dimension.\n",
    "- The result is a tuple of arrays split along axis."
   ]
  },
  {
   "cell_type": "code",
   "execution_count": 669,
   "id": "006db571",
   "metadata": {},
   "outputs": [
    {
     "name": "stdout",
     "output_type": "stream",
     "text": [
      "(array([[ 0,  1,  2,  3],\n",
      "       [ 4,  5,  6,  7],\n",
      "       [ 8,  9, 10, 11]]), array([[12, 13, 14, 15],\n",
      "       [16, 17, 18, 19],\n",
      "       [20, 21, 22, 23]]))\n",
      "(array([[ 0,  1,  2,  3],\n",
      "       [12, 13, 14, 15]]), array([[ 4,  5,  6,  7],\n",
      "       [16, 17, 18, 19]]), array([[ 8,  9, 10, 11],\n",
      "       [20, 21, 22, 23]]))\n",
      "(2, 3, 4)\n",
      "True\n"
     ]
    }
   ],
   "source": [
    "arr = np.arange(24).reshape((2, 3, 4))\n",
    "print(np.unstack(arr))\n",
    "print(np.unstack(arr, axis=1))\n",
    "arr2 = np.stack(np.unstack(arr, axis=1), axis=1)\n",
    "print(arr2.shape)\n",
    "print(np.all(arr == arr2))"
   ]
  },
  {
   "cell_type": "markdown",
   "id": "2a306382",
   "metadata": {},
   "source": [
    "# unwrap\n",
    "- Unwrap by taking the complement of large deltas with respect to the period.\n",
    "- This unwraps a signal p by changing elements which have an absolute difference from their predecessor of more than max(discont, period/2) to their period-complementary values."
   ]
  },
  {
   "cell_type": "code",
   "execution_count": 670,
   "id": "eac95cd8",
   "metadata": {},
   "outputs": [
    {
     "name": "stdout",
     "output_type": "stream",
     "text": [
      "[0.     0.7854 1.5708 5.4978 6.2832]\n",
      "[ 0.      0.7854  1.5708 -0.7854  0.    ]\n",
      "[0 1 2 3 4]\n",
      "[1 2 3 4 5 6 7 8 9]\n",
      "[2 3 4 5 6 7 8 9]\n",
      "[-180. -140. -100.  -60.  -20.   20.   60.  100.  140.  180.  220.  260.\n",
      "  300.  340.  380.  420.  460.  500.  540.]\n"
     ]
    }
   ],
   "source": [
    "phase = np.linspace(0, np.pi, num=5)\n",
    "phase[3:] += np.pi\n",
    "print(phase)\n",
    "print(np.unwrap(phase))\n",
    "print(np.unwrap([0, 1, 2, -1, 0], period=4))\n",
    "print(np.unwrap([ 1, 2, 3, 4, 5, 6, 1, 2, 3], period=6))\n",
    "print(np.unwrap([2, 3, 4, 5, 2, 3, 4, 5], period=4))\n",
    "phase_deg = np.mod(np.linspace(0 ,720, 19), 360) - 180\n",
    "print(np.unwrap(phase_deg, period=360))"
   ]
  },
  {
   "cell_type": "markdown",
   "id": "3f75a12f",
   "metadata": {},
   "source": [
    "# vander\n",
    "- Generate a Vandermonde matrix.\n",
    "- The columns of the output matrix are powers of the input vector. The order of the powers is determined by the increasing boolean argument. Specifically, when increasing is False, the i-th output column is the input vector raised element-wise to the power of N - i - 1. Such a matrix with a geometric progression in each row is named for Alexandre- Theophile Vandermonde."
   ]
  },
  {
   "cell_type": "code",
   "execution_count": 671,
   "id": "9bbad9e3",
   "metadata": {},
   "outputs": [
    {
     "data": {
      "text/plain": [
       "array([[ 1,  1,  1],\n",
       "       [ 4,  2,  1],\n",
       "       [ 9,  3,  1],\n",
       "       [25,  5,  1]])"
      ]
     },
     "execution_count": 671,
     "metadata": {},
     "output_type": "execute_result"
    }
   ],
   "source": [
    "x = np.array([1, 2, 3, 5])\n",
    "N = 3\n",
    "np.vander(x, N)"
   ]
  },
  {
   "cell_type": "markdown",
   "id": "0a9b2c9f",
   "metadata": {},
   "source": [
    "# var\n",
    "- Compute the variance along the specified axis.\n",
    "- Returns the variance of the array elements, a measure of the spread of a distribution. The variance is computed for the flattened array by default, otherwise over the specified axis."
   ]
  },
  {
   "cell_type": "code",
   "execution_count": 672,
   "id": "2bc3cada",
   "metadata": {},
   "outputs": [
    {
     "name": "stdout",
     "output_type": "stream",
     "text": [
      "1.25\n",
      "[1. 1.]\n",
      "[0.25 0.25]\n"
     ]
    }
   ],
   "source": [
    "a = np.array([[1, 2], [3, 4]])\n",
    "print(np.var(a))\n",
    "print(np.var(a, axis=0))\n",
    "print(np.var(a, axis=1))"
   ]
  },
  {
   "cell_type": "markdown",
   "id": "65b9991d",
   "metadata": {},
   "source": [
    "# vdot\n",
    "- Return the dot product of two vectors.\n",
    "- The vdot function handles complex numbers differently than dot: if the first argument is complex, it is replaced by its complex conjugate in the dot product calculation. vdot also handles multidimensional arrays differently than dot: it does not perform a matrix product, but flattens the arguments to 1-D arrays before taking a vector dot product.\n",
    "- Consequently, when the arguments are 2-D arrays of the same shape, this function effectively returns their Frobenius inner product (also known as the trace inner product or the standard inner product on a vector space of matrices)."
   ]
  },
  {
   "cell_type": "code",
   "execution_count": 673,
   "id": "ad9c2858",
   "metadata": {},
   "outputs": [
    {
     "name": "stdout",
     "output_type": "stream",
     "text": [
      "(70-8j)\n",
      "(70+8j)\n"
     ]
    }
   ],
   "source": [
    "a = np.array([1+2j,3+4j])\n",
    "b = np.array([5+6j,7+8j])\n",
    "print(np.vdot(a, b))\n",
    "print(np.vdot(b, a))"
   ]
  },
  {
   "cell_type": "markdown",
   "id": "5a82a924",
   "metadata": {},
   "source": [
    "# vecdot\n",
    "- Vector dot product of two arrays."
   ]
  },
  {
   "cell_type": "code",
   "execution_count": 674,
   "id": "81895c32",
   "metadata": {},
   "outputs": [
    {
     "data": {
      "text/plain": [
       "array([ 3.,  8., 10.])"
      ]
     },
     "execution_count": 674,
     "metadata": {},
     "output_type": "execute_result"
    }
   ],
   "source": [
    "v = np.array([[0., 5., 0.], [0., 0., 10.], [0., 6., 8.]])\n",
    "n = np.array([0., 0.6, 0.8])\n",
    "np.vecdot(v, n)"
   ]
  },
  {
   "cell_type": "markdown",
   "id": "8d93092a",
   "metadata": {},
   "source": [
    "# vectorize\n",
    "- Returns an object that acts like pyfunc, but takes arrays as input.\n",
    "- Define a vectorized function which takes a nested sequence of objects or numpy arrays as inputs and returns a single numpy array or a tuple of numpy arrays. The vectorized function evaluates pyfunc over successive tuples of the input arrays like the python map function, except it uses the broadcasting rules of numpy.\n",
    "- The data type of the output of vectorized is determined by calling the function with the first element of the input. This can be avoided by specifying the otypes argument."
   ]
  },
  {
   "cell_type": "code",
   "execution_count": 675,
   "id": "70db40bd",
   "metadata": {},
   "outputs": [
    {
     "data": {
      "text/plain": [
       "array([3, 4, 1, 2])"
      ]
     },
     "execution_count": 675,
     "metadata": {},
     "output_type": "execute_result"
    }
   ],
   "source": [
    "def myfunc(a, b):\n",
    "    \"Return a-b if a>b, otherwise return a+b\"\n",
    "    if a > b:\n",
    "        return a - b\n",
    "    else:\n",
    "        return a + b\n",
    "vfunc = np.vectorize(myfunc)\n",
    "vfunc([1, 2, 3, 4], 2)"
   ]
  },
  {
   "cell_type": "markdown",
   "id": "e08a56ec",
   "metadata": {},
   "source": [
    "# vsplit\n",
    "- Split an array into multiple sub-arrays vertically (row-wise).\n",
    "- Please refer to the split documentation. vsplit is equivalent to split with axis=0 (default), the array is always split along the first axis regardless of the array dimension."
   ]
  },
  {
   "cell_type": "code",
   "execution_count": 676,
   "id": "92424078",
   "metadata": {},
   "outputs": [
    {
     "name": "stdout",
     "output_type": "stream",
     "text": [
      "[[ 0.  1.  2.  3.]\n",
      " [ 4.  5.  6.  7.]\n",
      " [ 8.  9. 10. 11.]\n",
      " [12. 13. 14. 15.]]\n",
      "[array([[0., 1., 2., 3.],\n",
      "       [4., 5., 6., 7.]]), array([[ 8.,  9., 10., 11.],\n",
      "       [12., 13., 14., 15.]])]\n",
      "[array([[ 0.,  1.,  2.,  3.],\n",
      "       [ 4.,  5.,  6.,  7.],\n",
      "       [ 8.,  9., 10., 11.]]), array([[12., 13., 14., 15.]]), array([], shape=(0, 4), dtype=float64)]\n"
     ]
    }
   ],
   "source": [
    "import numpy as np\n",
    "x = np.arange(16.0).reshape(4, 4)\n",
    "print(x)\n",
    "print(np.vsplit(x, 2))\n",
    "print(np.vsplit(x, np.array([3, 6])))"
   ]
  },
  {
   "cell_type": "markdown",
   "id": "aca0234f",
   "metadata": {},
   "source": [
    "# vstack\n",
    "- Stack arrays in sequence vertically (row wise)."
   ]
  },
  {
   "cell_type": "code",
   "execution_count": 59,
   "id": "c04e3895",
   "metadata": {},
   "outputs": [
    {
     "data": {
      "text/plain": [
       "array([[1, 2, 3],\n",
       "       [4, 5, 6]])"
      ]
     },
     "execution_count": 59,
     "metadata": {},
     "output_type": "execute_result"
    }
   ],
   "source": [
    "a = np.array([1, 2, 3])\n",
    "b = np.array([4, 5, 6])\n",
    "np.vstack((a,b))"
   ]
  },
  {
   "cell_type": "markdown",
   "id": "274e53a7",
   "metadata": {},
   "source": [
    "# where\n",
    "- Return elements chosen from x or y depending on condition.\n",
    "- Without x and y: If only the condition is provided, numpy.where() returns a tuple of arrays, one for each dimension of the input array, containing the indices where the condition is True. This is equivalent to numpy.nonzero().\n",
    "- provide all three parameters to return the same ndarray or if only condition, then the return indices as a tuple\n",
    "- Finding Indices: When used with only a condition, it returns the indices where the condition is True."
   ]
  },
  {
   "cell_type": "code",
   "execution_count": 58,
   "id": "c90a4fb5",
   "metadata": {},
   "outputs": [
    {
     "data": {
      "text/plain": [
       "(array([0, 1, 2, 3, 4]),)"
      ]
     },
     "execution_count": 58,
     "metadata": {},
     "output_type": "execute_result"
    }
   ],
   "source": [
    "x = np.arange(10)\n",
    "y = 10 # otherwise\n",
    "np.where(x < 5)"
   ]
  },
  {
   "cell_type": "code",
   "execution_count": 57,
   "id": "9a7469ad",
   "metadata": {},
   "outputs": [
    {
     "data": {
      "text/plain": [
       "(array([2, 2, 2]), array([0, 1, 2]))"
      ]
     },
     "execution_count": 57,
     "metadata": {},
     "output_type": "execute_result"
    }
   ],
   "source": [
    "x = np.array([[1,2,3], [4, 5, 6], [7, 8, 9]])\n",
    "np.where(x > 6)"
   ]
  },
  {
   "cell_type": "markdown",
   "id": "ffde4ae1",
   "metadata": {},
   "source": [
    "# zeros\n",
    "- Return a new array of given shape and type, filled with zeros."
   ]
  },
  {
   "cell_type": "code",
   "execution_count": null,
   "id": "4bd5c65a",
   "metadata": {},
   "outputs": [
    {
     "data": {
      "text/plain": [
       "array([[0., 0., 0.],\n",
       "       [0., 0., 0.]])"
      ]
     },
     "execution_count": 33,
     "metadata": {},
     "output_type": "execute_result"
    }
   ],
   "source": [
    "np.zeros(6).reshape((2,3))"
   ]
  },
  {
   "cell_type": "markdown",
   "id": "6d7b794c",
   "metadata": {},
   "source": [
    "# zeros_like\n",
    "- Return an array of zeros with the same shape and type as a given array."
   ]
  },
  {
   "cell_type": "code",
   "execution_count": 31,
   "id": "7e358216",
   "metadata": {},
   "outputs": [
    {
     "data": {
      "text/plain": [
       "array([[0, 0, 0],\n",
       "       [0, 0, 0]])"
      ]
     },
     "execution_count": 31,
     "metadata": {},
     "output_type": "execute_result"
    }
   ],
   "source": [
    "np.zeros_like(np.arange(6).reshape((2, 3)))"
   ]
  },
  {
   "cell_type": "markdown",
   "id": "e990e22e",
   "metadata": {},
   "source": [
    "# => linalg (lib)"
   ]
  },
  {
   "cell_type": "markdown",
   "id": "bd03c2f6",
   "metadata": {},
   "source": [
    "# cholesky"
   ]
  },
  {
   "cell_type": "code",
   "execution_count": null,
   "id": "730d2703",
   "metadata": {},
   "outputs": [],
   "source": []
  },
  {
   "cell_type": "markdown",
   "id": "39a0e44e",
   "metadata": {},
   "source": [
    "# cond"
   ]
  },
  {
   "cell_type": "code",
   "execution_count": null,
   "id": "d578a6d5",
   "metadata": {},
   "outputs": [],
   "source": []
  },
  {
   "cell_type": "markdown",
   "id": "6dd2e5b5",
   "metadata": {},
   "source": [
    "# cross"
   ]
  },
  {
   "cell_type": "code",
   "execution_count": null,
   "id": "d2bbbd87",
   "metadata": {},
   "outputs": [],
   "source": []
  },
  {
   "cell_type": "markdown",
   "id": "f55c0221",
   "metadata": {},
   "source": [
    "# det"
   ]
  },
  {
   "cell_type": "code",
   "execution_count": null,
   "id": "d39fe332",
   "metadata": {},
   "outputs": [],
   "source": []
  },
  {
   "cell_type": "markdown",
   "id": "bb80dfbc",
   "metadata": {},
   "source": [
    "# diagonal"
   ]
  },
  {
   "cell_type": "code",
   "execution_count": null,
   "id": "5272b634",
   "metadata": {},
   "outputs": [],
   "source": []
  },
  {
   "cell_type": "markdown",
   "id": "a6a8b0ee",
   "metadata": {},
   "source": [
    "# eig"
   ]
  },
  {
   "cell_type": "code",
   "execution_count": null,
   "id": "b5926ca5",
   "metadata": {},
   "outputs": [],
   "source": []
  },
  {
   "cell_type": "markdown",
   "id": "c31a7fcc",
   "metadata": {},
   "source": [
    "# eigh"
   ]
  },
  {
   "cell_type": "code",
   "execution_count": null,
   "id": "ecbbf786",
   "metadata": {},
   "outputs": [],
   "source": []
  },
  {
   "cell_type": "markdown",
   "id": "8a0302d6",
   "metadata": {},
   "source": [
    "# eigvals"
   ]
  },
  {
   "cell_type": "code",
   "execution_count": null,
   "id": "99892c71",
   "metadata": {},
   "outputs": [],
   "source": []
  },
  {
   "cell_type": "markdown",
   "id": "39081519",
   "metadata": {},
   "source": [
    "# inv"
   ]
  },
  {
   "cell_type": "code",
   "execution_count": null,
   "id": "5f74d5d5",
   "metadata": {},
   "outputs": [],
   "source": []
  },
  {
   "cell_type": "markdown",
   "id": "ece6c8a9",
   "metadata": {},
   "source": [
    "# linalg"
   ]
  },
  {
   "cell_type": "code",
   "execution_count": null,
   "id": "dd276d9a",
   "metadata": {},
   "outputs": [],
   "source": []
  },
  {
   "cell_type": "markdown",
   "id": "1bd5a016",
   "metadata": {},
   "source": [
    "# lstsq"
   ]
  },
  {
   "cell_type": "code",
   "execution_count": null,
   "id": "180cfe7d",
   "metadata": {},
   "outputs": [],
   "source": []
  },
  {
   "cell_type": "markdown",
   "id": "cb8ebde8",
   "metadata": {},
   "source": [
    "# matmul"
   ]
  },
  {
   "cell_type": "code",
   "execution_count": null,
   "id": "929f3a84",
   "metadata": {},
   "outputs": [],
   "source": []
  },
  {
   "cell_type": "markdown",
   "id": "a7b33760",
   "metadata": {},
   "source": [
    "# matrix_norm"
   ]
  },
  {
   "cell_type": "code",
   "execution_count": null,
   "id": "6daa44f5",
   "metadata": {},
   "outputs": [],
   "source": []
  },
  {
   "cell_type": "markdown",
   "id": "86edbeef",
   "metadata": {},
   "source": [
    "# matrix_power"
   ]
  },
  {
   "cell_type": "code",
   "execution_count": null,
   "id": "2f59b432",
   "metadata": {},
   "outputs": [],
   "source": []
  },
  {
   "cell_type": "markdown",
   "id": "9ab71fa7",
   "metadata": {},
   "source": [
    "# matrix_rank"
   ]
  },
  {
   "cell_type": "code",
   "execution_count": null,
   "id": "1ae0e277",
   "metadata": {},
   "outputs": [],
   "source": []
  },
  {
   "cell_type": "markdown",
   "id": "51ca040d",
   "metadata": {},
   "source": [
    "# matrix_transpose"
   ]
  },
  {
   "cell_type": "code",
   "execution_count": null,
   "id": "2c97661f",
   "metadata": {},
   "outputs": [],
   "source": []
  },
  {
   "cell_type": "markdown",
   "id": "8bde22f7",
   "metadata": {},
   "source": [
    "# multi_dot"
   ]
  },
  {
   "cell_type": "code",
   "execution_count": null,
   "id": "cf486dc4",
   "metadata": {},
   "outputs": [],
   "source": []
  },
  {
   "cell_type": "markdown",
   "id": "7aa58b58",
   "metadata": {},
   "source": [
    "# norm"
   ]
  },
  {
   "cell_type": "code",
   "execution_count": null,
   "id": "918fdd9e",
   "metadata": {},
   "outputs": [],
   "source": []
  },
  {
   "cell_type": "markdown",
   "id": "1a6b819c",
   "metadata": {},
   "source": [
    "# outer"
   ]
  },
  {
   "cell_type": "code",
   "execution_count": null,
   "id": "2e7520ba",
   "metadata": {},
   "outputs": [],
   "source": []
  },
  {
   "cell_type": "markdown",
   "id": "3166b37a",
   "metadata": {},
   "source": [
    "# pinv"
   ]
  },
  {
   "cell_type": "code",
   "execution_count": null,
   "id": "8b916eeb",
   "metadata": {},
   "outputs": [],
   "source": []
  },
  {
   "cell_type": "markdown",
   "id": "0f52abaf",
   "metadata": {},
   "source": [
    "# qr"
   ]
  },
  {
   "cell_type": "code",
   "execution_count": null,
   "id": "2f377ccb",
   "metadata": {},
   "outputs": [],
   "source": []
  },
  {
   "cell_type": "markdown",
   "id": "80a39e8f",
   "metadata": {},
   "source": [
    "# slogdet"
   ]
  },
  {
   "cell_type": "code",
   "execution_count": null,
   "id": "3b83a315",
   "metadata": {},
   "outputs": [],
   "source": []
  },
  {
   "cell_type": "markdown",
   "id": "b3e7bc98",
   "metadata": {},
   "source": [
    "# solve"
   ]
  },
  {
   "cell_type": "code",
   "execution_count": null,
   "id": "e2f5c7fa",
   "metadata": {},
   "outputs": [],
   "source": []
  },
  {
   "cell_type": "markdown",
   "id": "d85fc4af",
   "metadata": {},
   "source": [
    "# svd"
   ]
  },
  {
   "cell_type": "code",
   "execution_count": null,
   "id": "7f1ca70d",
   "metadata": {},
   "outputs": [],
   "source": []
  },
  {
   "cell_type": "markdown",
   "id": "b58dbe54",
   "metadata": {},
   "source": [
    "# svdvals"
   ]
  },
  {
   "cell_type": "code",
   "execution_count": null,
   "id": "420723b1",
   "metadata": {},
   "outputs": [],
   "source": []
  },
  {
   "cell_type": "markdown",
   "id": "471eb853",
   "metadata": {},
   "source": [
    "# tensordot"
   ]
  },
  {
   "cell_type": "code",
   "execution_count": null,
   "id": "42d4b3fc",
   "metadata": {},
   "outputs": [],
   "source": []
  },
  {
   "cell_type": "markdown",
   "id": "b5db162c",
   "metadata": {},
   "source": [
    "# tensorinv"
   ]
  },
  {
   "cell_type": "code",
   "execution_count": null,
   "id": "b6be9e8c",
   "metadata": {},
   "outputs": [],
   "source": []
  },
  {
   "cell_type": "markdown",
   "id": "89fade13",
   "metadata": {},
   "source": [
    "# tensorsolve"
   ]
  },
  {
   "cell_type": "code",
   "execution_count": null,
   "id": "eed1c492",
   "metadata": {},
   "outputs": [],
   "source": []
  },
  {
   "cell_type": "markdown",
   "id": "3fe7b9b3",
   "metadata": {},
   "source": [
    "# trace"
   ]
  },
  {
   "cell_type": "code",
   "execution_count": null,
   "id": "b81181d7",
   "metadata": {},
   "outputs": [],
   "source": []
  },
  {
   "cell_type": "markdown",
   "id": "535df042",
   "metadata": {},
   "source": [
    "# vecdot"
   ]
  },
  {
   "cell_type": "code",
   "execution_count": null,
   "id": "a6819255",
   "metadata": {},
   "outputs": [],
   "source": []
  },
  {
   "cell_type": "markdown",
   "id": "37f3bfbf",
   "metadata": {},
   "source": [
    "# vector_norm"
   ]
  },
  {
   "cell_type": "code",
   "execution_count": null,
   "id": "c605606f",
   "metadata": {},
   "outputs": [],
   "source": []
  },
  {
   "cell_type": "markdown",
   "id": "040acc0c",
   "metadata": {},
   "source": [
    "# => fft (lib)"
   ]
  },
  {
   "cell_type": "markdown",
   "id": "15d42a0b",
   "metadata": {},
   "source": [
    "# fft"
   ]
  },
  {
   "cell_type": "code",
   "execution_count": null,
   "id": "7c345c50",
   "metadata": {},
   "outputs": [],
   "source": []
  },
  {
   "cell_type": "markdown",
   "id": "94d5965d",
   "metadata": {},
   "source": [
    "# fft2"
   ]
  },
  {
   "cell_type": "code",
   "execution_count": null,
   "id": "b05b45b0",
   "metadata": {},
   "outputs": [],
   "source": []
  },
  {
   "cell_type": "markdown",
   "id": "d80a72bb",
   "metadata": {},
   "source": [
    "# fftfreq"
   ]
  },
  {
   "cell_type": "code",
   "execution_count": null,
   "id": "777265d2",
   "metadata": {},
   "outputs": [],
   "source": []
  },
  {
   "cell_type": "markdown",
   "id": "69876cf5",
   "metadata": {},
   "source": [
    "# fftn"
   ]
  },
  {
   "cell_type": "code",
   "execution_count": null,
   "id": "86463db3",
   "metadata": {},
   "outputs": [],
   "source": []
  },
  {
   "cell_type": "markdown",
   "id": "447b98bc",
   "metadata": {},
   "source": [
    "# fftshift"
   ]
  },
  {
   "cell_type": "code",
   "execution_count": null,
   "id": "b71a7467",
   "metadata": {},
   "outputs": [],
   "source": []
  },
  {
   "cell_type": "markdown",
   "id": "a166acd2",
   "metadata": {},
   "source": [
    "# helper"
   ]
  },
  {
   "cell_type": "code",
   "execution_count": null,
   "id": "5e4c586f",
   "metadata": {},
   "outputs": [],
   "source": []
  },
  {
   "cell_type": "markdown",
   "id": "3a8a5760",
   "metadata": {},
   "source": [
    "# hfft"
   ]
  },
  {
   "cell_type": "code",
   "execution_count": null,
   "id": "12298c30",
   "metadata": {},
   "outputs": [],
   "source": []
  },
  {
   "cell_type": "markdown",
   "id": "f5e71227",
   "metadata": {},
   "source": [
    "# ifft"
   ]
  },
  {
   "cell_type": "code",
   "execution_count": null,
   "id": "4bb25eed",
   "metadata": {},
   "outputs": [],
   "source": []
  },
  {
   "cell_type": "markdown",
   "id": "3076aafb",
   "metadata": {},
   "source": [
    "# ifft2"
   ]
  },
  {
   "cell_type": "code",
   "execution_count": null,
   "id": "0ff798fe",
   "metadata": {},
   "outputs": [],
   "source": []
  },
  {
   "cell_type": "markdown",
   "id": "0eeab93d",
   "metadata": {},
   "source": [
    "# ifftn"
   ]
  },
  {
   "cell_type": "code",
   "execution_count": null,
   "id": "fb3e42e5",
   "metadata": {},
   "outputs": [],
   "source": []
  },
  {
   "cell_type": "markdown",
   "id": "eadcef71",
   "metadata": {},
   "source": [
    "# ifftshift"
   ]
  },
  {
   "cell_type": "code",
   "execution_count": null,
   "id": "3bfdf449",
   "metadata": {},
   "outputs": [],
   "source": []
  },
  {
   "cell_type": "markdown",
   "id": "208d7612",
   "metadata": {},
   "source": [
    "# ihfft"
   ]
  },
  {
   "cell_type": "code",
   "execution_count": null,
   "id": "8fd1a6ba",
   "metadata": {},
   "outputs": [],
   "source": []
  },
  {
   "cell_type": "markdown",
   "id": "678e6f17",
   "metadata": {},
   "source": [
    "# irfft"
   ]
  },
  {
   "cell_type": "code",
   "execution_count": null,
   "id": "b631e241",
   "metadata": {},
   "outputs": [],
   "source": []
  },
  {
   "cell_type": "markdown",
   "id": "f7bbffad",
   "metadata": {},
   "source": [
    "# irfft2"
   ]
  },
  {
   "cell_type": "code",
   "execution_count": null,
   "id": "7c3503cf",
   "metadata": {},
   "outputs": [],
   "source": []
  },
  {
   "cell_type": "markdown",
   "id": "9bf281ac",
   "metadata": {},
   "source": [
    "# rfftn"
   ]
  },
  {
   "cell_type": "code",
   "execution_count": null,
   "id": "937708b8",
   "metadata": {},
   "outputs": [],
   "source": []
  },
  {
   "cell_type": "markdown",
   "id": "4f923b4e",
   "metadata": {},
   "source": [
    "# rffft"
   ]
  },
  {
   "cell_type": "code",
   "execution_count": null,
   "id": "c8e25e36",
   "metadata": {},
   "outputs": [],
   "source": []
  },
  {
   "cell_type": "markdown",
   "id": "c9a937f4",
   "metadata": {},
   "source": [
    "# rfft2"
   ]
  },
  {
   "cell_type": "code",
   "execution_count": null,
   "id": "94270f32",
   "metadata": {},
   "outputs": [],
   "source": []
  },
  {
   "cell_type": "markdown",
   "id": "4f6ec7a1",
   "metadata": {},
   "source": [
    "# rfftfreq"
   ]
  },
  {
   "cell_type": "code",
   "execution_count": null,
   "id": "f4df5c19",
   "metadata": {},
   "outputs": [],
   "source": []
  },
  {
   "cell_type": "markdown",
   "id": "aa719068",
   "metadata": {},
   "source": [
    "# rfftn"
   ]
  },
  {
   "cell_type": "code",
   "execution_count": null,
   "id": "b2bd42dc",
   "metadata": {},
   "outputs": [],
   "source": []
  },
  {
   "cell_type": "markdown",
   "id": "71345dad",
   "metadata": {},
   "source": [
    "# => random (lib)"
   ]
  },
  {
   "cell_type": "markdown",
   "id": "14ea4ec8",
   "metadata": {},
   "source": [
    "# beta"
   ]
  },
  {
   "cell_type": "code",
   "execution_count": null,
   "id": "88711488",
   "metadata": {},
   "outputs": [],
   "source": []
  },
  {
   "cell_type": "markdown",
   "id": "02e9897d",
   "metadata": {},
   "source": [
    "# binomial"
   ]
  },
  {
   "cell_type": "code",
   "execution_count": null,
   "id": "53e5f5e0",
   "metadata": {},
   "outputs": [],
   "source": []
  },
  {
   "cell_type": "markdown",
   "id": "668979a6",
   "metadata": {},
   "source": [
    "# bit_generator"
   ]
  },
  {
   "cell_type": "code",
   "execution_count": null,
   "id": "ac0dfc63",
   "metadata": {},
   "outputs": [],
   "source": []
  },
  {
   "cell_type": "markdown",
   "id": "8e431d36",
   "metadata": {},
   "source": [
    "# bytes"
   ]
  },
  {
   "cell_type": "code",
   "execution_count": null,
   "id": "88fa727c",
   "metadata": {},
   "outputs": [],
   "source": []
  },
  {
   "cell_type": "markdown",
   "id": "2481373f",
   "metadata": {},
   "source": [
    "# chisquare"
   ]
  },
  {
   "cell_type": "code",
   "execution_count": null,
   "id": "2b2b2b51",
   "metadata": {},
   "outputs": [],
   "source": []
  },
  {
   "cell_type": "markdown",
   "id": "bd7e3a23",
   "metadata": {},
   "source": [
    "# choice"
   ]
  },
  {
   "cell_type": "code",
   "execution_count": null,
   "id": "8b1875c3",
   "metadata": {},
   "outputs": [],
   "source": []
  },
  {
   "cell_type": "markdown",
   "id": "a5287478",
   "metadata": {},
   "source": [
    "# default_rng"
   ]
  },
  {
   "cell_type": "code",
   "execution_count": null,
   "id": "60d7538f",
   "metadata": {},
   "outputs": [],
   "source": []
  },
  {
   "cell_type": "markdown",
   "id": "3a1f9fa1",
   "metadata": {},
   "source": [
    "# dirichlet"
   ]
  },
  {
   "cell_type": "code",
   "execution_count": null,
   "id": "d02a97d3",
   "metadata": {},
   "outputs": [],
   "source": []
  },
  {
   "cell_type": "markdown",
   "id": "f6dee74e",
   "metadata": {},
   "source": [
    "# exponential"
   ]
  },
  {
   "cell_type": "code",
   "execution_count": null,
   "id": "c1644788",
   "metadata": {},
   "outputs": [],
   "source": []
  },
  {
   "cell_type": "markdown",
   "id": "a0751900",
   "metadata": {},
   "source": [
    "# f"
   ]
  },
  {
   "cell_type": "code",
   "execution_count": null,
   "id": "92002720",
   "metadata": {},
   "outputs": [],
   "source": []
  },
  {
   "cell_type": "markdown",
   "id": "995bc773",
   "metadata": {},
   "source": [
    "# gamma"
   ]
  },
  {
   "cell_type": "code",
   "execution_count": null,
   "id": "7d8d3d28",
   "metadata": {},
   "outputs": [],
   "source": []
  },
  {
   "cell_type": "markdown",
   "id": "87e1217a",
   "metadata": {},
   "source": [
    "# geometric"
   ]
  },
  {
   "cell_type": "code",
   "execution_count": null,
   "id": "a92a2085",
   "metadata": {},
   "outputs": [],
   "source": []
  },
  {
   "cell_type": "markdown",
   "id": "08e04b71",
   "metadata": {},
   "source": [
    "# get_bit_generator"
   ]
  },
  {
   "cell_type": "code",
   "execution_count": null,
   "id": "4368b9af",
   "metadata": {},
   "outputs": [],
   "source": []
  },
  {
   "cell_type": "markdown",
   "id": "549beb7c",
   "metadata": {},
   "source": [
    "# get_state"
   ]
  },
  {
   "cell_type": "code",
   "execution_count": null,
   "id": "bd3a1c2d",
   "metadata": {},
   "outputs": [],
   "source": []
  },
  {
   "cell_type": "markdown",
   "id": "8259d56f",
   "metadata": {},
   "source": [
    "# gumbel"
   ]
  },
  {
   "cell_type": "code",
   "execution_count": null,
   "id": "4c1149a7",
   "metadata": {},
   "outputs": [],
   "source": []
  },
  {
   "cell_type": "markdown",
   "id": "b35c9bce",
   "metadata": {},
   "source": [
    "# hypergeometric"
   ]
  },
  {
   "cell_type": "code",
   "execution_count": null,
   "id": "dbaf69f7",
   "metadata": {},
   "outputs": [],
   "source": []
  },
  {
   "cell_type": "markdown",
   "id": "9e3d5ebb",
   "metadata": {},
   "source": [
    "# laplace"
   ]
  },
  {
   "cell_type": "code",
   "execution_count": null,
   "id": "65068bdc",
   "metadata": {},
   "outputs": [],
   "source": []
  },
  {
   "cell_type": "markdown",
   "id": "b87fd27a",
   "metadata": {},
   "source": [
    "# logistic"
   ]
  },
  {
   "cell_type": "code",
   "execution_count": null,
   "id": "19e0ffa1",
   "metadata": {},
   "outputs": [],
   "source": []
  },
  {
   "cell_type": "markdown",
   "id": "9f0e1733",
   "metadata": {},
   "source": [
    "# lognormal"
   ]
  },
  {
   "cell_type": "code",
   "execution_count": null,
   "id": "c0fcd19d",
   "metadata": {},
   "outputs": [],
   "source": []
  },
  {
   "cell_type": "markdown",
   "id": "1decc12b",
   "metadata": {},
   "source": [
    "# logseries"
   ]
  },
  {
   "cell_type": "code",
   "execution_count": null,
   "id": "54d111c8",
   "metadata": {},
   "outputs": [],
   "source": []
  },
  {
   "cell_type": "markdown",
   "id": "bb60234b",
   "metadata": {},
   "source": [
    "# mtrand"
   ]
  },
  {
   "cell_type": "code",
   "execution_count": null,
   "id": "4897c561",
   "metadata": {},
   "outputs": [],
   "source": []
  },
  {
   "cell_type": "markdown",
   "id": "73ca9974",
   "metadata": {},
   "source": [
    "# multinomial"
   ]
  },
  {
   "cell_type": "code",
   "execution_count": null,
   "id": "c25aa55c",
   "metadata": {},
   "outputs": [],
   "source": []
  },
  {
   "cell_type": "markdown",
   "id": "108e5250",
   "metadata": {},
   "source": [
    "# multivariate_normal"
   ]
  },
  {
   "cell_type": "code",
   "execution_count": null,
   "id": "07bfd286",
   "metadata": {},
   "outputs": [],
   "source": []
  },
  {
   "cell_type": "markdown",
   "id": "517fee7a",
   "metadata": {},
   "source": [
    "# negative_binomial"
   ]
  },
  {
   "cell_type": "code",
   "execution_count": null,
   "id": "df0177ee",
   "metadata": {},
   "outputs": [],
   "source": []
  },
  {
   "cell_type": "markdown",
   "id": "4136e9b4",
   "metadata": {},
   "source": [
    "# noncentral_chisquare"
   ]
  },
  {
   "cell_type": "code",
   "execution_count": null,
   "id": "0af4a113",
   "metadata": {},
   "outputs": [],
   "source": []
  },
  {
   "cell_type": "markdown",
   "id": "d98c683a",
   "metadata": {},
   "source": [
    "# noncentral_f"
   ]
  },
  {
   "cell_type": "code",
   "execution_count": null,
   "id": "28ee768a",
   "metadata": {},
   "outputs": [],
   "source": []
  },
  {
   "cell_type": "markdown",
   "id": "636151f7",
   "metadata": {},
   "source": [
    "# normal"
   ]
  },
  {
   "cell_type": "code",
   "execution_count": null,
   "id": "0afbb491",
   "metadata": {},
   "outputs": [],
   "source": []
  },
  {
   "cell_type": "markdown",
   "id": "57deb627",
   "metadata": {},
   "source": [
    "# pareto"
   ]
  },
  {
   "cell_type": "code",
   "execution_count": null,
   "id": "967d6637",
   "metadata": {},
   "outputs": [],
   "source": []
  },
  {
   "cell_type": "markdown",
   "id": "cc7b5e41",
   "metadata": {},
   "source": [
    "# permutation"
   ]
  },
  {
   "cell_type": "code",
   "execution_count": null,
   "id": "77fc7f60",
   "metadata": {},
   "outputs": [],
   "source": []
  },
  {
   "cell_type": "markdown",
   "id": "35c5b604",
   "metadata": {},
   "source": [
    "# poisson"
   ]
  },
  {
   "cell_type": "code",
   "execution_count": null,
   "id": "312da946",
   "metadata": {},
   "outputs": [],
   "source": []
  },
  {
   "cell_type": "markdown",
   "id": "d95f3136",
   "metadata": {},
   "source": [
    "# power"
   ]
  },
  {
   "cell_type": "code",
   "execution_count": null,
   "id": "8e98ba22",
   "metadata": {},
   "outputs": [],
   "source": []
  },
  {
   "cell_type": "markdown",
   "id": "4fbae7b2",
   "metadata": {},
   "source": [
    "# rand"
   ]
  },
  {
   "cell_type": "code",
   "execution_count": null,
   "id": "0d0073f2",
   "metadata": {},
   "outputs": [],
   "source": []
  },
  {
   "cell_type": "markdown",
   "id": "c6ccddf6",
   "metadata": {},
   "source": [
    "# randint"
   ]
  },
  {
   "cell_type": "code",
   "execution_count": null,
   "id": "f98e10d0",
   "metadata": {},
   "outputs": [],
   "source": []
  },
  {
   "cell_type": "markdown",
   "id": "28fe3e6a",
   "metadata": {},
   "source": [
    "# randn"
   ]
  },
  {
   "cell_type": "code",
   "execution_count": null,
   "id": "eb4c0ece",
   "metadata": {},
   "outputs": [],
   "source": []
  },
  {
   "cell_type": "markdown",
   "id": "439dc312",
   "metadata": {},
   "source": [
    "# random"
   ]
  },
  {
   "cell_type": "code",
   "execution_count": null,
   "id": "d4d43675",
   "metadata": {},
   "outputs": [],
   "source": []
  },
  {
   "cell_type": "markdown",
   "id": "039091f6",
   "metadata": {},
   "source": [
    "# random_inters"
   ]
  },
  {
   "cell_type": "code",
   "execution_count": null,
   "id": "daacb83e",
   "metadata": {},
   "outputs": [],
   "source": []
  },
  {
   "cell_type": "markdown",
   "id": "d39ad163",
   "metadata": {},
   "source": [
    "# randoms_samples"
   ]
  },
  {
   "cell_type": "code",
   "execution_count": null,
   "id": "ab612691",
   "metadata": {},
   "outputs": [],
   "source": []
  },
  {
   "cell_type": "markdown",
   "id": "9bda3bf1",
   "metadata": {},
   "source": [
    "# ranf"
   ]
  },
  {
   "cell_type": "code",
   "execution_count": null,
   "id": "2fc5e437",
   "metadata": {},
   "outputs": [],
   "source": []
  },
  {
   "cell_type": "markdown",
   "id": "6bc74f5d",
   "metadata": {},
   "source": [
    "# rayleigh"
   ]
  },
  {
   "cell_type": "code",
   "execution_count": null,
   "id": "02673d00",
   "metadata": {},
   "outputs": [],
   "source": []
  },
  {
   "cell_type": "markdown",
   "id": "6519c39c",
   "metadata": {},
   "source": [
    "# sample"
   ]
  },
  {
   "cell_type": "code",
   "execution_count": null,
   "id": "8002641e",
   "metadata": {},
   "outputs": [],
   "source": []
  },
  {
   "cell_type": "markdown",
   "id": "be3c04c9",
   "metadata": {},
   "source": [
    "# seed"
   ]
  },
  {
   "cell_type": "code",
   "execution_count": null,
   "id": "4b78715c",
   "metadata": {},
   "outputs": [],
   "source": []
  },
  {
   "cell_type": "markdown",
   "id": "cd960668",
   "metadata": {},
   "source": [
    "# set_bit_generator"
   ]
  },
  {
   "cell_type": "code",
   "execution_count": null,
   "id": "f7f226b7",
   "metadata": {},
   "outputs": [],
   "source": []
  },
  {
   "cell_type": "markdown",
   "id": "e23d4fa6",
   "metadata": {},
   "source": [
    "# set_state"
   ]
  },
  {
   "cell_type": "code",
   "execution_count": null,
   "id": "367c8960",
   "metadata": {},
   "outputs": [],
   "source": []
  },
  {
   "cell_type": "markdown",
   "id": "16f5aef5",
   "metadata": {},
   "source": [
    "# shuffle"
   ]
  },
  {
   "cell_type": "code",
   "execution_count": null,
   "id": "8a590343",
   "metadata": {},
   "outputs": [],
   "source": []
  },
  {
   "cell_type": "markdown",
   "id": "06932c81",
   "metadata": {},
   "source": [
    "# standard_cauchy"
   ]
  },
  {
   "cell_type": "code",
   "execution_count": null,
   "id": "f03fbc24",
   "metadata": {},
   "outputs": [],
   "source": []
  },
  {
   "cell_type": "markdown",
   "id": "dc31d647",
   "metadata": {},
   "source": [
    "# standard_exponential"
   ]
  },
  {
   "cell_type": "code",
   "execution_count": null,
   "id": "c7eb538c",
   "metadata": {},
   "outputs": [],
   "source": []
  },
  {
   "cell_type": "markdown",
   "id": "a339798a",
   "metadata": {},
   "source": [
    "# standard_gamma"
   ]
  },
  {
   "cell_type": "code",
   "execution_count": null,
   "id": "92718c55",
   "metadata": {},
   "outputs": [],
   "source": []
  },
  {
   "cell_type": "markdown",
   "id": "e62a2a49",
   "metadata": {},
   "source": [
    "# standard_normal"
   ]
  },
  {
   "cell_type": "code",
   "execution_count": null,
   "id": "9d8ffff2",
   "metadata": {},
   "outputs": [],
   "source": []
  },
  {
   "cell_type": "markdown",
   "id": "f645eca0",
   "metadata": {},
   "source": [
    "# standard_t"
   ]
  },
  {
   "cell_type": "code",
   "execution_count": null,
   "id": "d20e1437",
   "metadata": {},
   "outputs": [],
   "source": []
  },
  {
   "cell_type": "markdown",
   "id": "d8dc0a0b",
   "metadata": {},
   "source": [
    "# triangular"
   ]
  },
  {
   "cell_type": "code",
   "execution_count": null,
   "id": "c917a030",
   "metadata": {},
   "outputs": [],
   "source": []
  },
  {
   "cell_type": "markdown",
   "id": "e0001aab",
   "metadata": {},
   "source": [
    "# uniform"
   ]
  },
  {
   "cell_type": "code",
   "execution_count": null,
   "id": "a73d8f44",
   "metadata": {},
   "outputs": [],
   "source": []
  },
  {
   "cell_type": "markdown",
   "id": "d2bd4c53",
   "metadata": {},
   "source": [
    "# vonmises"
   ]
  },
  {
   "cell_type": "code",
   "execution_count": null,
   "id": "219138b5",
   "metadata": {},
   "outputs": [],
   "source": []
  },
  {
   "cell_type": "markdown",
   "id": "1a5ac4a6",
   "metadata": {},
   "source": [
    "# wald"
   ]
  },
  {
   "cell_type": "code",
   "execution_count": null,
   "id": "7565d737",
   "metadata": {},
   "outputs": [],
   "source": []
  },
  {
   "cell_type": "markdown",
   "id": "59775a4f",
   "metadata": {},
   "source": [
    "# weibull"
   ]
  },
  {
   "cell_type": "code",
   "execution_count": null,
   "id": "e4a0cff8",
   "metadata": {},
   "outputs": [],
   "source": []
  },
  {
   "cell_type": "markdown",
   "id": "511777af",
   "metadata": {},
   "source": [
    "# zipf"
   ]
  },
  {
   "cell_type": "code",
   "execution_count": null,
   "id": "974d3087",
   "metadata": {},
   "outputs": [],
   "source": []
  }
 ],
 "metadata": {
  "kernelspec": {
   "display_name": "Python 3",
   "language": "python",
   "name": "python3"
  },
  "language_info": {
   "codemirror_mode": {
    "name": "ipython",
    "version": 3
   },
   "file_extension": ".py",
   "mimetype": "text/x-python",
   "name": "python",
   "nbconvert_exporter": "python",
   "pygments_lexer": "ipython3",
   "version": "3.13.5"
  }
 },
 "nbformat": 4,
 "nbformat_minor": 5
}
