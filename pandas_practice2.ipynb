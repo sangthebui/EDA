{
 "cells": [
  {
   "cell_type": "code",
   "execution_count": 1,
   "id": "40bb576c",
   "metadata": {},
   "outputs": [],
   "source": [
    "import pandas as pd\n",
    "import numpy as np"
   ]
  },
  {
   "cell_type": "markdown",
   "id": "c45c6c7d",
   "metadata": {},
   "source": [
    "# Creation"
   ]
  },
  {
   "cell_type": "code",
   "execution_count": 3,
   "id": "858325eb",
   "metadata": {},
   "outputs": [
    {
     "data": {
      "application/vnd.microsoft.datawrangler.viewer.v0+json": {
       "columns": [
        {
         "name": "index",
         "rawType": "int64",
         "type": "integer"
        },
        {
         "name": "A",
         "rawType": "float64",
         "type": "float"
        },
        {
         "name": "B",
         "rawType": "datetime64[s]",
         "type": "unknown"
        },
        {
         "name": "C",
         "rawType": "float32",
         "type": "float"
        },
        {
         "name": "D",
         "rawType": "int32",
         "type": "integer"
        },
        {
         "name": "E",
         "rawType": "category",
         "type": "unknown"
        },
        {
         "name": "F",
         "rawType": "object",
         "type": "string"
        }
       ],
       "ref": "ff340bc3-bf0e-4f8b-a84b-53088f90050a",
       "rows": [
        [
         "0",
         "1.0",
         "2025-01-01 00:00:00",
         "1.0",
         "3",
         "test",
         "foo"
        ],
        [
         "1",
         "1.0",
         "2025-01-01 00:00:00",
         "1.0",
         "3",
         "train",
         "foo"
        ],
        [
         "2",
         "1.0",
         "2025-01-01 00:00:00",
         "1.0",
         "3",
         "test",
         "foo"
        ],
        [
         "3",
         "1.0",
         "2025-01-01 00:00:00",
         "1.0",
         "3",
         "train",
         "foo"
        ]
       ],
       "shape": {
        "columns": 6,
        "rows": 4
       }
      },
      "text/html": [
       "<div>\n",
       "<style scoped>\n",
       "    .dataframe tbody tr th:only-of-type {\n",
       "        vertical-align: middle;\n",
       "    }\n",
       "\n",
       "    .dataframe tbody tr th {\n",
       "        vertical-align: top;\n",
       "    }\n",
       "\n",
       "    .dataframe thead th {\n",
       "        text-align: right;\n",
       "    }\n",
       "</style>\n",
       "<table border=\"1\" class=\"dataframe\">\n",
       "  <thead>\n",
       "    <tr style=\"text-align: right;\">\n",
       "      <th></th>\n",
       "      <th>A</th>\n",
       "      <th>B</th>\n",
       "      <th>C</th>\n",
       "      <th>D</th>\n",
       "      <th>E</th>\n",
       "      <th>F</th>\n",
       "    </tr>\n",
       "  </thead>\n",
       "  <tbody>\n",
       "    <tr>\n",
       "      <th>0</th>\n",
       "      <td>1.0</td>\n",
       "      <td>2025-01-01</td>\n",
       "      <td>1.0</td>\n",
       "      <td>3</td>\n",
       "      <td>test</td>\n",
       "      <td>foo</td>\n",
       "    </tr>\n",
       "    <tr>\n",
       "      <th>1</th>\n",
       "      <td>1.0</td>\n",
       "      <td>2025-01-01</td>\n",
       "      <td>1.0</td>\n",
       "      <td>3</td>\n",
       "      <td>train</td>\n",
       "      <td>foo</td>\n",
       "    </tr>\n",
       "    <tr>\n",
       "      <th>2</th>\n",
       "      <td>1.0</td>\n",
       "      <td>2025-01-01</td>\n",
       "      <td>1.0</td>\n",
       "      <td>3</td>\n",
       "      <td>test</td>\n",
       "      <td>foo</td>\n",
       "    </tr>\n",
       "    <tr>\n",
       "      <th>3</th>\n",
       "      <td>1.0</td>\n",
       "      <td>2025-01-01</td>\n",
       "      <td>1.0</td>\n",
       "      <td>3</td>\n",
       "      <td>train</td>\n",
       "      <td>foo</td>\n",
       "    </tr>\n",
       "  </tbody>\n",
       "</table>\n",
       "</div>"
      ],
      "text/plain": [
       "     A          B    C  D      E    F\n",
       "0  1.0 2025-01-01  1.0  3   test  foo\n",
       "1  1.0 2025-01-01  1.0  3  train  foo\n",
       "2  1.0 2025-01-01  1.0  3   test  foo\n",
       "3  1.0 2025-01-01  1.0  3  train  foo"
      ]
     },
     "execution_count": 3,
     "metadata": {},
     "output_type": "execute_result"
    }
   ],
   "source": [
    "df = pd.DataFrame({\n",
    "    \"A\": 1.0,\n",
    "    \"B\": pd.Timestamp(\"20250101\"),\n",
    "    \"C\": pd.Series(1, index=list(range(4)), dtype=\"float32\"),\n",
    "    \"D\": np.array([3] * 4, dtype=\"int32\"),\n",
    "    \"E\": pd.Categorical([\"test\", \"train\", \"test\", \"train\"]),\n",
    "    \"F\": \"foo\"\n",
    "})\n",
    "df"
   ]
  },
  {
   "cell_type": "code",
   "execution_count": 7,
   "id": "b03459f1",
   "metadata": {},
   "outputs": [
    {
     "data": {
      "application/vnd.microsoft.datawrangler.viewer.v0+json": {
       "columns": [
        {
         "name": "index",
         "rawType": "datetime64[ns]",
         "type": "datetime"
        },
        {
         "name": "A",
         "rawType": "float64",
         "type": "float"
        },
        {
         "name": "B",
         "rawType": "float64",
         "type": "float"
        },
        {
         "name": "C",
         "rawType": "float64",
         "type": "float"
        },
        {
         "name": "D",
         "rawType": "float64",
         "type": "float"
        }
       ],
       "ref": "7fb24d18-ea19-4c30-aca8-9dc6f58433bb",
       "rows": [
        [
         "2025-01-01 00:00:00",
         "0.3367441356601166",
         "0.8701428557089823",
         "-0.10069347047410071",
         "0.27771249006781557"
        ],
        [
         "2025-01-02 00:00:00",
         "1.4225982851989984",
         "-0.1197455642160526",
         "-1.7395880178018048",
         "0.9422206691067219"
        ],
        [
         "2025-01-03 00:00:00",
         "0.49605384905311173",
         "2.239272128630202",
         "0.0067987073428655955",
         "-0.26664748439583075"
        ],
        [
         "2025-01-04 00:00:00",
         "-0.5234344763106245",
         "0.5994371043864426",
         "0.5236855068592682",
         "-0.09516407854136148"
        ],
        [
         "2025-01-05 00:00:00",
         "1.0660061184006415",
         "0.4939340694943893",
         "2.2057770522161344",
         "0.5081075250221119"
        ],
        [
         "2025-01-06 00:00:00",
         "-0.09578554237783489",
         "-1.411187849894565",
         "0.5535464655901476",
         "-1.2132551532458276"
        ]
       ],
       "shape": {
        "columns": 4,
        "rows": 6
       }
      },
      "text/html": [
       "<div>\n",
       "<style scoped>\n",
       "    .dataframe tbody tr th:only-of-type {\n",
       "        vertical-align: middle;\n",
       "    }\n",
       "\n",
       "    .dataframe tbody tr th {\n",
       "        vertical-align: top;\n",
       "    }\n",
       "\n",
       "    .dataframe thead th {\n",
       "        text-align: right;\n",
       "    }\n",
       "</style>\n",
       "<table border=\"1\" class=\"dataframe\">\n",
       "  <thead>\n",
       "    <tr style=\"text-align: right;\">\n",
       "      <th></th>\n",
       "      <th>A</th>\n",
       "      <th>B</th>\n",
       "      <th>C</th>\n",
       "      <th>D</th>\n",
       "    </tr>\n",
       "  </thead>\n",
       "  <tbody>\n",
       "    <tr>\n",
       "      <th>2025-01-01</th>\n",
       "      <td>0.336744</td>\n",
       "      <td>0.870143</td>\n",
       "      <td>-0.100693</td>\n",
       "      <td>0.277712</td>\n",
       "    </tr>\n",
       "    <tr>\n",
       "      <th>2025-01-02</th>\n",
       "      <td>1.422598</td>\n",
       "      <td>-0.119746</td>\n",
       "      <td>-1.739588</td>\n",
       "      <td>0.942221</td>\n",
       "    </tr>\n",
       "    <tr>\n",
       "      <th>2025-01-03</th>\n",
       "      <td>0.496054</td>\n",
       "      <td>2.239272</td>\n",
       "      <td>0.006799</td>\n",
       "      <td>-0.266647</td>\n",
       "    </tr>\n",
       "    <tr>\n",
       "      <th>2025-01-04</th>\n",
       "      <td>-0.523434</td>\n",
       "      <td>0.599437</td>\n",
       "      <td>0.523686</td>\n",
       "      <td>-0.095164</td>\n",
       "    </tr>\n",
       "    <tr>\n",
       "      <th>2025-01-05</th>\n",
       "      <td>1.066006</td>\n",
       "      <td>0.493934</td>\n",
       "      <td>2.205777</td>\n",
       "      <td>0.508108</td>\n",
       "    </tr>\n",
       "    <tr>\n",
       "      <th>2025-01-06</th>\n",
       "      <td>-0.095786</td>\n",
       "      <td>-1.411188</td>\n",
       "      <td>0.553546</td>\n",
       "      <td>-1.213255</td>\n",
       "    </tr>\n",
       "  </tbody>\n",
       "</table>\n",
       "</div>"
      ],
      "text/plain": [
       "                   A         B         C         D\n",
       "2025-01-01  0.336744  0.870143 -0.100693  0.277712\n",
       "2025-01-02  1.422598 -0.119746 -1.739588  0.942221\n",
       "2025-01-03  0.496054  2.239272  0.006799 -0.266647\n",
       "2025-01-04 -0.523434  0.599437  0.523686 -0.095164\n",
       "2025-01-05  1.066006  0.493934  2.205777  0.508108\n",
       "2025-01-06 -0.095786 -1.411188  0.553546 -1.213255"
      ]
     },
     "execution_count": 7,
     "metadata": {},
     "output_type": "execute_result"
    }
   ],
   "source": [
    "dates = pd.date_range(\"20250101\", periods=6)\n",
    "df = pd.DataFrame(np.random.randn(6, 4), index=dates, columns=list(\"ABCD\"))\n",
    "df"
   ]
  },
  {
   "cell_type": "code",
   "execution_count": null,
   "id": "18a8f19f",
   "metadata": {},
   "outputs": [
    {
     "data": {
      "application/vnd.microsoft.datawrangler.viewer.v0+json": {
       "columns": [
        {
         "name": "index",
         "rawType": "datetime64[ns]",
         "type": "datetime"
        },
        {
         "name": "A",
         "rawType": "float64",
         "type": "float"
        },
        {
         "name": "B",
         "rawType": "float64",
         "type": "float"
        },
        {
         "name": "C",
         "rawType": "float64",
         "type": "float"
        },
        {
         "name": "D",
         "rawType": "float64",
         "type": "float"
        }
       ],
       "ref": "e96027d3-fc21-4c6a-b812-080d710e4a0c",
       "rows": [
        [
         "2025-01-06 00:00:00",
         "-0.09578554237783489",
         "-1.411187849894565",
         "0.5535464655901476",
         "-1.2132551532458276"
        ],
        [
         "2025-01-02 00:00:00",
         "1.4225982851989984",
         "-0.1197455642160526",
         "-1.7395880178018048",
         "0.9422206691067219"
        ],
        [
         "2025-01-05 00:00:00",
         "1.0660061184006415",
         "0.4939340694943893",
         "2.2057770522161344",
         "0.5081075250221119"
        ],
        [
         "2025-01-04 00:00:00",
         "-0.5234344763106245",
         "0.5994371043864426",
         "0.5236855068592682",
         "-0.09516407854136148"
        ],
        [
         "2025-01-01 00:00:00",
         "0.3367441356601166",
         "0.8701428557089823",
         "-0.10069347047410071",
         "0.27771249006781557"
        ],
        [
         "2025-01-03 00:00:00",
         "0.49605384905311173",
         "2.239272128630202",
         "0.0067987073428655955",
         "-0.26664748439583075"
        ]
       ],
       "shape": {
        "columns": 4,
        "rows": 6
       }
      },
      "text/html": [
       "<div>\n",
       "<style scoped>\n",
       "    .dataframe tbody tr th:only-of-type {\n",
       "        vertical-align: middle;\n",
       "    }\n",
       "\n",
       "    .dataframe tbody tr th {\n",
       "        vertical-align: top;\n",
       "    }\n",
       "\n",
       "    .dataframe thead th {\n",
       "        text-align: right;\n",
       "    }\n",
       "</style>\n",
       "<table border=\"1\" class=\"dataframe\">\n",
       "  <thead>\n",
       "    <tr style=\"text-align: right;\">\n",
       "      <th></th>\n",
       "      <th>A</th>\n",
       "      <th>B</th>\n",
       "      <th>C</th>\n",
       "      <th>D</th>\n",
       "    </tr>\n",
       "  </thead>\n",
       "  <tbody>\n",
       "    <tr>\n",
       "      <th>2025-01-06</th>\n",
       "      <td>-0.095786</td>\n",
       "      <td>-1.411188</td>\n",
       "      <td>0.553546</td>\n",
       "      <td>-1.213255</td>\n",
       "    </tr>\n",
       "    <tr>\n",
       "      <th>2025-01-02</th>\n",
       "      <td>1.422598</td>\n",
       "      <td>-0.119746</td>\n",
       "      <td>-1.739588</td>\n",
       "      <td>0.942221</td>\n",
       "    </tr>\n",
       "    <tr>\n",
       "      <th>2025-01-05</th>\n",
       "      <td>1.066006</td>\n",
       "      <td>0.493934</td>\n",
       "      <td>2.205777</td>\n",
       "      <td>0.508108</td>\n",
       "    </tr>\n",
       "    <tr>\n",
       "      <th>2025-01-04</th>\n",
       "      <td>-0.523434</td>\n",
       "      <td>0.599437</td>\n",
       "      <td>0.523686</td>\n",
       "      <td>-0.095164</td>\n",
       "    </tr>\n",
       "    <tr>\n",
       "      <th>2025-01-01</th>\n",
       "      <td>0.336744</td>\n",
       "      <td>0.870143</td>\n",
       "      <td>-0.100693</td>\n",
       "      <td>0.277712</td>\n",
       "    </tr>\n",
       "    <tr>\n",
       "      <th>2025-01-03</th>\n",
       "      <td>0.496054</td>\n",
       "      <td>2.239272</td>\n",
       "      <td>0.006799</td>\n",
       "      <td>-0.266647</td>\n",
       "    </tr>\n",
       "  </tbody>\n",
       "</table>\n",
       "</div>"
      ],
      "text/plain": [
       "                   A         B         C         D\n",
       "2025-01-06 -0.095786 -1.411188  0.553546 -1.213255\n",
       "2025-01-02  1.422598 -0.119746 -1.739588  0.942221\n",
       "2025-01-05  1.066006  0.493934  2.205777  0.508108\n",
       "2025-01-04 -0.523434  0.599437  0.523686 -0.095164\n",
       "2025-01-01  0.336744  0.870143 -0.100693  0.277712\n",
       "2025-01-03  0.496054  2.239272  0.006799 -0.266647"
      ]
     },
     "execution_count": 8,
     "metadata": {},
     "output_type": "execute_result"
    }
   ],
   "source": [
    "df.sort_values(by=\"B\") # all rows are sorted by B"
   ]
  },
  {
   "cell_type": "code",
   "execution_count": 9,
   "id": "8c734373",
   "metadata": {},
   "outputs": [
    {
     "data": {
      "application/vnd.microsoft.datawrangler.viewer.v0+json": {
       "columns": [
        {
         "name": "index",
         "rawType": "datetime64[ns]",
         "type": "datetime"
        },
        {
         "name": "A",
         "rawType": "float64",
         "type": "float"
        }
       ],
       "ref": "ac25d1d0-bc35-4cb9-8f93-05e5f86ddf9b",
       "rows": [
        [
         "2025-01-01 00:00:00",
         "0.3367441356601166"
        ],
        [
         "2025-01-02 00:00:00",
         "1.4225982851989984"
        ],
        [
         "2025-01-03 00:00:00",
         "0.49605384905311173"
        ],
        [
         "2025-01-04 00:00:00",
         "-0.5234344763106245"
        ],
        [
         "2025-01-05 00:00:00",
         "1.0660061184006415"
        ],
        [
         "2025-01-06 00:00:00",
         "-0.09578554237783489"
        ]
       ],
       "shape": {
        "columns": 1,
        "rows": 6
       }
      },
      "text/plain": [
       "2025-01-01    0.336744\n",
       "2025-01-02    1.422598\n",
       "2025-01-03    0.496054\n",
       "2025-01-04   -0.523434\n",
       "2025-01-05    1.066006\n",
       "2025-01-06   -0.095786\n",
       "Freq: D, Name: A, dtype: float64"
      ]
     },
     "execution_count": 9,
     "metadata": {},
     "output_type": "execute_result"
    }
   ],
   "source": [
    "df[\"A\"]"
   ]
  },
  {
   "cell_type": "code",
   "execution_count": 10,
   "id": "cc9c0921",
   "metadata": {},
   "outputs": [
    {
     "data": {
      "application/vnd.microsoft.datawrangler.viewer.v0+json": {
       "columns": [
        {
         "name": "index",
         "rawType": "datetime64[ns]",
         "type": "datetime"
        },
        {
         "name": "A",
         "rawType": "float64",
         "type": "float"
        },
        {
         "name": "B",
         "rawType": "float64",
         "type": "float"
        },
        {
         "name": "C",
         "rawType": "float64",
         "type": "float"
        },
        {
         "name": "D",
         "rawType": "float64",
         "type": "float"
        }
       ],
       "ref": "6757c00d-ed01-407a-a71d-fc00ad73bfde",
       "rows": [
        [
         "2025-01-01 00:00:00",
         "0.3367441356601166",
         "0.8701428557089823",
         "-0.10069347047410071",
         "0.27771249006781557"
        ],
        [
         "2025-01-02 00:00:00",
         "1.4225982851989984",
         "-0.1197455642160526",
         "-1.7395880178018048",
         "0.9422206691067219"
        ],
        [
         "2025-01-03 00:00:00",
         "0.49605384905311173",
         "2.239272128630202",
         "0.0067987073428655955",
         "-0.26664748439583075"
        ]
       ],
       "shape": {
        "columns": 4,
        "rows": 3
       }
      },
      "text/html": [
       "<div>\n",
       "<style scoped>\n",
       "    .dataframe tbody tr th:only-of-type {\n",
       "        vertical-align: middle;\n",
       "    }\n",
       "\n",
       "    .dataframe tbody tr th {\n",
       "        vertical-align: top;\n",
       "    }\n",
       "\n",
       "    .dataframe thead th {\n",
       "        text-align: right;\n",
       "    }\n",
       "</style>\n",
       "<table border=\"1\" class=\"dataframe\">\n",
       "  <thead>\n",
       "    <tr style=\"text-align: right;\">\n",
       "      <th></th>\n",
       "      <th>A</th>\n",
       "      <th>B</th>\n",
       "      <th>C</th>\n",
       "      <th>D</th>\n",
       "    </tr>\n",
       "  </thead>\n",
       "  <tbody>\n",
       "    <tr>\n",
       "      <th>2025-01-01</th>\n",
       "      <td>0.336744</td>\n",
       "      <td>0.870143</td>\n",
       "      <td>-0.100693</td>\n",
       "      <td>0.277712</td>\n",
       "    </tr>\n",
       "    <tr>\n",
       "      <th>2025-01-02</th>\n",
       "      <td>1.422598</td>\n",
       "      <td>-0.119746</td>\n",
       "      <td>-1.739588</td>\n",
       "      <td>0.942221</td>\n",
       "    </tr>\n",
       "    <tr>\n",
       "      <th>2025-01-03</th>\n",
       "      <td>0.496054</td>\n",
       "      <td>2.239272</td>\n",
       "      <td>0.006799</td>\n",
       "      <td>-0.266647</td>\n",
       "    </tr>\n",
       "  </tbody>\n",
       "</table>\n",
       "</div>"
      ],
      "text/plain": [
       "                   A         B         C         D\n",
       "2025-01-01  0.336744  0.870143 -0.100693  0.277712\n",
       "2025-01-02  1.422598 -0.119746 -1.739588  0.942221\n",
       "2025-01-03  0.496054  2.239272  0.006799 -0.266647"
      ]
     },
     "execution_count": 10,
     "metadata": {},
     "output_type": "execute_result"
    }
   ],
   "source": [
    "df[0:3]"
   ]
  },
  {
   "cell_type": "code",
   "execution_count": 11,
   "id": "6b38276b",
   "metadata": {},
   "outputs": [
    {
     "data": {
      "application/vnd.microsoft.datawrangler.viewer.v0+json": {
       "columns": [
        {
         "name": "index",
         "rawType": "datetime64[ns]",
         "type": "datetime"
        },
        {
         "name": "A",
         "rawType": "float64",
         "type": "float"
        },
        {
         "name": "B",
         "rawType": "float64",
         "type": "float"
        },
        {
         "name": "C",
         "rawType": "float64",
         "type": "float"
        },
        {
         "name": "D",
         "rawType": "float64",
         "type": "float"
        }
       ],
       "ref": "59cf3a85-488f-441c-8db3-172313503ad6",
       "rows": [
        [
         "2025-01-01 00:00:00",
         "0.3367441356601166",
         "0.8701428557089823",
         "-0.10069347047410071",
         "0.27771249006781557"
        ],
        [
         "2025-01-02 00:00:00",
         "1.4225982851989984",
         "-0.1197455642160526",
         "-1.7395880178018048",
         "0.9422206691067219"
        ],
        [
         "2025-01-03 00:00:00",
         "0.49605384905311173",
         "2.239272128630202",
         "0.0067987073428655955",
         "-0.26664748439583075"
        ],
        [
         "2025-01-04 00:00:00",
         "-0.5234344763106245",
         "0.5994371043864426",
         "0.5236855068592682",
         "-0.09516407854136148"
        ]
       ],
       "shape": {
        "columns": 4,
        "rows": 4
       }
      },
      "text/html": [
       "<div>\n",
       "<style scoped>\n",
       "    .dataframe tbody tr th:only-of-type {\n",
       "        vertical-align: middle;\n",
       "    }\n",
       "\n",
       "    .dataframe tbody tr th {\n",
       "        vertical-align: top;\n",
       "    }\n",
       "\n",
       "    .dataframe thead th {\n",
       "        text-align: right;\n",
       "    }\n",
       "</style>\n",
       "<table border=\"1\" class=\"dataframe\">\n",
       "  <thead>\n",
       "    <tr style=\"text-align: right;\">\n",
       "      <th></th>\n",
       "      <th>A</th>\n",
       "      <th>B</th>\n",
       "      <th>C</th>\n",
       "      <th>D</th>\n",
       "    </tr>\n",
       "  </thead>\n",
       "  <tbody>\n",
       "    <tr>\n",
       "      <th>2025-01-01</th>\n",
       "      <td>0.336744</td>\n",
       "      <td>0.870143</td>\n",
       "      <td>-0.100693</td>\n",
       "      <td>0.277712</td>\n",
       "    </tr>\n",
       "    <tr>\n",
       "      <th>2025-01-02</th>\n",
       "      <td>1.422598</td>\n",
       "      <td>-0.119746</td>\n",
       "      <td>-1.739588</td>\n",
       "      <td>0.942221</td>\n",
       "    </tr>\n",
       "    <tr>\n",
       "      <th>2025-01-03</th>\n",
       "      <td>0.496054</td>\n",
       "      <td>2.239272</td>\n",
       "      <td>0.006799</td>\n",
       "      <td>-0.266647</td>\n",
       "    </tr>\n",
       "    <tr>\n",
       "      <th>2025-01-04</th>\n",
       "      <td>-0.523434</td>\n",
       "      <td>0.599437</td>\n",
       "      <td>0.523686</td>\n",
       "      <td>-0.095164</td>\n",
       "    </tr>\n",
       "  </tbody>\n",
       "</table>\n",
       "</div>"
      ],
      "text/plain": [
       "                   A         B         C         D\n",
       "2025-01-01  0.336744  0.870143 -0.100693  0.277712\n",
       "2025-01-02  1.422598 -0.119746 -1.739588  0.942221\n",
       "2025-01-03  0.496054  2.239272  0.006799 -0.266647\n",
       "2025-01-04 -0.523434  0.599437  0.523686 -0.095164"
      ]
     },
     "execution_count": 11,
     "metadata": {},
     "output_type": "execute_result"
    }
   ],
   "source": [
    "df[\"20250101\":\"20250104\"]"
   ]
  },
  {
   "cell_type": "code",
   "execution_count": 12,
   "id": "e86a3c66",
   "metadata": {},
   "outputs": [
    {
     "data": {
      "application/vnd.microsoft.datawrangler.viewer.v0+json": {
       "columns": [
        {
         "name": "index",
         "rawType": "object",
         "type": "string"
        },
        {
         "name": "2025-01-01 00:00:00",
         "rawType": "float64",
         "type": "float"
        }
       ],
       "ref": "e0fbe1ad-21dd-4539-94a7-aeb594a3fd7f",
       "rows": [
        [
         "A",
         "0.3367441356601166"
        ],
        [
         "B",
         "0.8701428557089823"
        ],
        [
         "C",
         "-0.10069347047410071"
        ],
        [
         "D",
         "0.27771249006781557"
        ]
       ],
       "shape": {
        "columns": 1,
        "rows": 4
       }
      },
      "text/plain": [
       "A    0.336744\n",
       "B    0.870143\n",
       "C   -0.100693\n",
       "D    0.277712\n",
       "Name: 2025-01-01 00:00:00, dtype: float64"
      ]
     },
     "execution_count": 12,
     "metadata": {},
     "output_type": "execute_result"
    }
   ],
   "source": [
    "df.loc[dates[0]]"
   ]
  },
  {
   "cell_type": "code",
   "execution_count": 13,
   "id": "b91990f0",
   "metadata": {},
   "outputs": [
    {
     "data": {
      "application/vnd.microsoft.datawrangler.viewer.v0+json": {
       "columns": [
        {
         "name": "index",
         "rawType": "datetime64[ns]",
         "type": "datetime"
        },
        {
         "name": "A",
         "rawType": "float64",
         "type": "float"
        },
        {
         "name": "B",
         "rawType": "float64",
         "type": "float"
        }
       ],
       "ref": "b9406d4e-9eac-4113-a4f1-4a9d318e8862",
       "rows": [
        [
         "2025-01-01 00:00:00",
         "0.3367441356601166",
         "0.8701428557089823"
        ],
        [
         "2025-01-02 00:00:00",
         "1.4225982851989984",
         "-0.1197455642160526"
        ],
        [
         "2025-01-03 00:00:00",
         "0.49605384905311173",
         "2.239272128630202"
        ],
        [
         "2025-01-04 00:00:00",
         "-0.5234344763106245",
         "0.5994371043864426"
        ],
        [
         "2025-01-05 00:00:00",
         "1.0660061184006415",
         "0.4939340694943893"
        ],
        [
         "2025-01-06 00:00:00",
         "-0.09578554237783489",
         "-1.411187849894565"
        ]
       ],
       "shape": {
        "columns": 2,
        "rows": 6
       }
      },
      "text/html": [
       "<div>\n",
       "<style scoped>\n",
       "    .dataframe tbody tr th:only-of-type {\n",
       "        vertical-align: middle;\n",
       "    }\n",
       "\n",
       "    .dataframe tbody tr th {\n",
       "        vertical-align: top;\n",
       "    }\n",
       "\n",
       "    .dataframe thead th {\n",
       "        text-align: right;\n",
       "    }\n",
       "</style>\n",
       "<table border=\"1\" class=\"dataframe\">\n",
       "  <thead>\n",
       "    <tr style=\"text-align: right;\">\n",
       "      <th></th>\n",
       "      <th>A</th>\n",
       "      <th>B</th>\n",
       "    </tr>\n",
       "  </thead>\n",
       "  <tbody>\n",
       "    <tr>\n",
       "      <th>2025-01-01</th>\n",
       "      <td>0.336744</td>\n",
       "      <td>0.870143</td>\n",
       "    </tr>\n",
       "    <tr>\n",
       "      <th>2025-01-02</th>\n",
       "      <td>1.422598</td>\n",
       "      <td>-0.119746</td>\n",
       "    </tr>\n",
       "    <tr>\n",
       "      <th>2025-01-03</th>\n",
       "      <td>0.496054</td>\n",
       "      <td>2.239272</td>\n",
       "    </tr>\n",
       "    <tr>\n",
       "      <th>2025-01-04</th>\n",
       "      <td>-0.523434</td>\n",
       "      <td>0.599437</td>\n",
       "    </tr>\n",
       "    <tr>\n",
       "      <th>2025-01-05</th>\n",
       "      <td>1.066006</td>\n",
       "      <td>0.493934</td>\n",
       "    </tr>\n",
       "    <tr>\n",
       "      <th>2025-01-06</th>\n",
       "      <td>-0.095786</td>\n",
       "      <td>-1.411188</td>\n",
       "    </tr>\n",
       "  </tbody>\n",
       "</table>\n",
       "</div>"
      ],
      "text/plain": [
       "                   A         B\n",
       "2025-01-01  0.336744  0.870143\n",
       "2025-01-02  1.422598 -0.119746\n",
       "2025-01-03  0.496054  2.239272\n",
       "2025-01-04 -0.523434  0.599437\n",
       "2025-01-05  1.066006  0.493934\n",
       "2025-01-06 -0.095786 -1.411188"
      ]
     },
     "execution_count": 13,
     "metadata": {},
     "output_type": "execute_result"
    }
   ],
   "source": [
    "df.loc[:, [\"A\", \"B\"]]"
   ]
  },
  {
   "cell_type": "code",
   "execution_count": 14,
   "id": "d262ad0b",
   "metadata": {},
   "outputs": [
    {
     "data": {
      "application/vnd.microsoft.datawrangler.viewer.v0+json": {
       "columns": [
        {
         "name": "index",
         "rawType": "datetime64[ns]",
         "type": "datetime"
        },
        {
         "name": "A",
         "rawType": "float64",
         "type": "float"
        },
        {
         "name": "B",
         "rawType": "float64",
         "type": "float"
        }
       ],
       "ref": "ecad153d-f1a8-4fca-8b03-0eab9e7eb78c",
       "rows": [
        [
         "2025-01-02 00:00:00",
         "1.4225982851989984",
         "-0.1197455642160526"
        ],
        [
         "2025-01-03 00:00:00",
         "0.49605384905311173",
         "2.239272128630202"
        ],
        [
         "2025-01-04 00:00:00",
         "-0.5234344763106245",
         "0.5994371043864426"
        ]
       ],
       "shape": {
        "columns": 2,
        "rows": 3
       }
      },
      "text/html": [
       "<div>\n",
       "<style scoped>\n",
       "    .dataframe tbody tr th:only-of-type {\n",
       "        vertical-align: middle;\n",
       "    }\n",
       "\n",
       "    .dataframe tbody tr th {\n",
       "        vertical-align: top;\n",
       "    }\n",
       "\n",
       "    .dataframe thead th {\n",
       "        text-align: right;\n",
       "    }\n",
       "</style>\n",
       "<table border=\"1\" class=\"dataframe\">\n",
       "  <thead>\n",
       "    <tr style=\"text-align: right;\">\n",
       "      <th></th>\n",
       "      <th>A</th>\n",
       "      <th>B</th>\n",
       "    </tr>\n",
       "  </thead>\n",
       "  <tbody>\n",
       "    <tr>\n",
       "      <th>2025-01-02</th>\n",
       "      <td>1.422598</td>\n",
       "      <td>-0.119746</td>\n",
       "    </tr>\n",
       "    <tr>\n",
       "      <th>2025-01-03</th>\n",
       "      <td>0.496054</td>\n",
       "      <td>2.239272</td>\n",
       "    </tr>\n",
       "    <tr>\n",
       "      <th>2025-01-04</th>\n",
       "      <td>-0.523434</td>\n",
       "      <td>0.599437</td>\n",
       "    </tr>\n",
       "  </tbody>\n",
       "</table>\n",
       "</div>"
      ],
      "text/plain": [
       "                   A         B\n",
       "2025-01-02  1.422598 -0.119746\n",
       "2025-01-03  0.496054  2.239272\n",
       "2025-01-04 -0.523434  0.599437"
      ]
     },
     "execution_count": 14,
     "metadata": {},
     "output_type": "execute_result"
    }
   ],
   "source": [
    "df.loc[\"20250102\":\"20250104\", [\"A\", \"B\"]]"
   ]
  },
  {
   "cell_type": "code",
   "execution_count": 15,
   "id": "fe8b8e02",
   "metadata": {},
   "outputs": [
    {
     "data": {
      "text/plain": [
       "np.float64(0.3367441356601166)"
      ]
     },
     "execution_count": 15,
     "metadata": {},
     "output_type": "execute_result"
    }
   ],
   "source": [
    "df.loc[dates[0], \"A\"]"
   ]
  },
  {
   "cell_type": "code",
   "execution_count": 16,
   "id": "aacb1e34",
   "metadata": {},
   "outputs": [
    {
     "data": {
      "text/plain": [
       "np.float64(0.3367441356601166)"
      ]
     },
     "execution_count": 16,
     "metadata": {},
     "output_type": "execute_result"
    }
   ],
   "source": [
    "# if scaler, should use at\n",
    "df.at[dates[0], \"A\"]"
   ]
  },
  {
   "cell_type": "markdown",
   "id": "e24b9db8",
   "metadata": {},
   "source": [
    "# use iloc to select by position"
   ]
  },
  {
   "cell_type": "code",
   "execution_count": 17,
   "id": "0bf3c371",
   "metadata": {},
   "outputs": [
    {
     "data": {
      "application/vnd.microsoft.datawrangler.viewer.v0+json": {
       "columns": [
        {
         "name": "index",
         "rawType": "object",
         "type": "string"
        },
        {
         "name": "2025-01-04 00:00:00",
         "rawType": "float64",
         "type": "float"
        }
       ],
       "ref": "bddebc0b-030b-4409-bd32-3a8323e5c135",
       "rows": [
        [
         "A",
         "-0.5234344763106245"
        ],
        [
         "B",
         "0.5994371043864426"
        ],
        [
         "C",
         "0.5236855068592682"
        ],
        [
         "D",
         "-0.09516407854136148"
        ]
       ],
       "shape": {
        "columns": 1,
        "rows": 4
       }
      },
      "text/plain": [
       "A   -0.523434\n",
       "B    0.599437\n",
       "C    0.523686\n",
       "D   -0.095164\n",
       "Name: 2025-01-04 00:00:00, dtype: float64"
      ]
     },
     "execution_count": 17,
     "metadata": {},
     "output_type": "execute_result"
    }
   ],
   "source": [
    "df.iloc[3]"
   ]
  },
  {
   "cell_type": "code",
   "execution_count": 18,
   "id": "132127d3",
   "metadata": {},
   "outputs": [
    {
     "data": {
      "application/vnd.microsoft.datawrangler.viewer.v0+json": {
       "columns": [
        {
         "name": "index",
         "rawType": "datetime64[ns]",
         "type": "datetime"
        },
        {
         "name": "A",
         "rawType": "float64",
         "type": "float"
        },
        {
         "name": "B",
         "rawType": "float64",
         "type": "float"
        }
       ],
       "ref": "a5542de7-7772-454f-a3f5-4196bf8bd24d",
       "rows": [
        [
         "2025-01-04 00:00:00",
         "-0.5234344763106245",
         "0.5994371043864426"
        ],
        [
         "2025-01-05 00:00:00",
         "1.0660061184006415",
         "0.4939340694943893"
        ]
       ],
       "shape": {
        "columns": 2,
        "rows": 2
       }
      },
      "text/html": [
       "<div>\n",
       "<style scoped>\n",
       "    .dataframe tbody tr th:only-of-type {\n",
       "        vertical-align: middle;\n",
       "    }\n",
       "\n",
       "    .dataframe tbody tr th {\n",
       "        vertical-align: top;\n",
       "    }\n",
       "\n",
       "    .dataframe thead th {\n",
       "        text-align: right;\n",
       "    }\n",
       "</style>\n",
       "<table border=\"1\" class=\"dataframe\">\n",
       "  <thead>\n",
       "    <tr style=\"text-align: right;\">\n",
       "      <th></th>\n",
       "      <th>A</th>\n",
       "      <th>B</th>\n",
       "    </tr>\n",
       "  </thead>\n",
       "  <tbody>\n",
       "    <tr>\n",
       "      <th>2025-01-04</th>\n",
       "      <td>-0.523434</td>\n",
       "      <td>0.599437</td>\n",
       "    </tr>\n",
       "    <tr>\n",
       "      <th>2025-01-05</th>\n",
       "      <td>1.066006</td>\n",
       "      <td>0.493934</td>\n",
       "    </tr>\n",
       "  </tbody>\n",
       "</table>\n",
       "</div>"
      ],
      "text/plain": [
       "                   A         B\n",
       "2025-01-04 -0.523434  0.599437\n",
       "2025-01-05  1.066006  0.493934"
      ]
     },
     "execution_count": 18,
     "metadata": {},
     "output_type": "execute_result"
    }
   ],
   "source": [
    "df.iloc[3:5, 0:2]"
   ]
  },
  {
   "cell_type": "code",
   "execution_count": 19,
   "id": "2ef1ec0a",
   "metadata": {},
   "outputs": [
    {
     "data": {
      "application/vnd.microsoft.datawrangler.viewer.v0+json": {
       "columns": [
        {
         "name": "index",
         "rawType": "datetime64[ns]",
         "type": "datetime"
        },
        {
         "name": "A",
         "rawType": "float64",
         "type": "float"
        },
        {
         "name": "C",
         "rawType": "float64",
         "type": "float"
        }
       ],
       "ref": "1c34a7e2-8057-43a1-a062-6e2bc602a80b",
       "rows": [
        [
         "2025-01-02 00:00:00",
         "1.4225982851989984",
         "-1.7395880178018048"
        ],
        [
         "2025-01-03 00:00:00",
         "0.49605384905311173",
         "0.0067987073428655955"
        ],
        [
         "2025-01-05 00:00:00",
         "1.0660061184006415",
         "2.2057770522161344"
        ]
       ],
       "shape": {
        "columns": 2,
        "rows": 3
       }
      },
      "text/html": [
       "<div>\n",
       "<style scoped>\n",
       "    .dataframe tbody tr th:only-of-type {\n",
       "        vertical-align: middle;\n",
       "    }\n",
       "\n",
       "    .dataframe tbody tr th {\n",
       "        vertical-align: top;\n",
       "    }\n",
       "\n",
       "    .dataframe thead th {\n",
       "        text-align: right;\n",
       "    }\n",
       "</style>\n",
       "<table border=\"1\" class=\"dataframe\">\n",
       "  <thead>\n",
       "    <tr style=\"text-align: right;\">\n",
       "      <th></th>\n",
       "      <th>A</th>\n",
       "      <th>C</th>\n",
       "    </tr>\n",
       "  </thead>\n",
       "  <tbody>\n",
       "    <tr>\n",
       "      <th>2025-01-02</th>\n",
       "      <td>1.422598</td>\n",
       "      <td>-1.739588</td>\n",
       "    </tr>\n",
       "    <tr>\n",
       "      <th>2025-01-03</th>\n",
       "      <td>0.496054</td>\n",
       "      <td>0.006799</td>\n",
       "    </tr>\n",
       "    <tr>\n",
       "      <th>2025-01-05</th>\n",
       "      <td>1.066006</td>\n",
       "      <td>2.205777</td>\n",
       "    </tr>\n",
       "  </tbody>\n",
       "</table>\n",
       "</div>"
      ],
      "text/plain": [
       "                   A         C\n",
       "2025-01-02  1.422598 -1.739588\n",
       "2025-01-03  0.496054  0.006799\n",
       "2025-01-05  1.066006  2.205777"
      ]
     },
     "execution_count": 19,
     "metadata": {},
     "output_type": "execute_result"
    }
   ],
   "source": [
    "df.iloc[[1, 2, 4], [0, 2]]"
   ]
  },
  {
   "cell_type": "code",
   "execution_count": 20,
   "id": "5907fd7c",
   "metadata": {},
   "outputs": [
    {
     "data": {
      "application/vnd.microsoft.datawrangler.viewer.v0+json": {
       "columns": [
        {
         "name": "index",
         "rawType": "datetime64[ns]",
         "type": "datetime"
        },
        {
         "name": "A",
         "rawType": "float64",
         "type": "float"
        },
        {
         "name": "B",
         "rawType": "float64",
         "type": "float"
        },
        {
         "name": "C",
         "rawType": "float64",
         "type": "float"
        },
        {
         "name": "D",
         "rawType": "float64",
         "type": "float"
        }
       ],
       "ref": "0027f958-2c11-4781-bc61-3d443b294fb2",
       "rows": [
        [
         "2025-01-02 00:00:00",
         "1.4225982851989984",
         "-0.1197455642160526",
         "-1.7395880178018048",
         "0.9422206691067219"
        ],
        [
         "2025-01-03 00:00:00",
         "0.49605384905311173",
         "2.239272128630202",
         "0.0067987073428655955",
         "-0.26664748439583075"
        ]
       ],
       "shape": {
        "columns": 4,
        "rows": 2
       }
      },
      "text/html": [
       "<div>\n",
       "<style scoped>\n",
       "    .dataframe tbody tr th:only-of-type {\n",
       "        vertical-align: middle;\n",
       "    }\n",
       "\n",
       "    .dataframe tbody tr th {\n",
       "        vertical-align: top;\n",
       "    }\n",
       "\n",
       "    .dataframe thead th {\n",
       "        text-align: right;\n",
       "    }\n",
       "</style>\n",
       "<table border=\"1\" class=\"dataframe\">\n",
       "  <thead>\n",
       "    <tr style=\"text-align: right;\">\n",
       "      <th></th>\n",
       "      <th>A</th>\n",
       "      <th>B</th>\n",
       "      <th>C</th>\n",
       "      <th>D</th>\n",
       "    </tr>\n",
       "  </thead>\n",
       "  <tbody>\n",
       "    <tr>\n",
       "      <th>2025-01-02</th>\n",
       "      <td>1.422598</td>\n",
       "      <td>-0.119746</td>\n",
       "      <td>-1.739588</td>\n",
       "      <td>0.942221</td>\n",
       "    </tr>\n",
       "    <tr>\n",
       "      <th>2025-01-03</th>\n",
       "      <td>0.496054</td>\n",
       "      <td>2.239272</td>\n",
       "      <td>0.006799</td>\n",
       "      <td>-0.266647</td>\n",
       "    </tr>\n",
       "  </tbody>\n",
       "</table>\n",
       "</div>"
      ],
      "text/plain": [
       "                   A         B         C         D\n",
       "2025-01-02  1.422598 -0.119746 -1.739588  0.942221\n",
       "2025-01-03  0.496054  2.239272  0.006799 -0.266647"
      ]
     },
     "execution_count": 20,
     "metadata": {},
     "output_type": "execute_result"
    }
   ],
   "source": [
    "df.iloc[1:3]"
   ]
  },
  {
   "cell_type": "code",
   "execution_count": 21,
   "id": "61eac2fb",
   "metadata": {},
   "outputs": [
    {
     "data": {
      "application/vnd.microsoft.datawrangler.viewer.v0+json": {
       "columns": [
        {
         "name": "index",
         "rawType": "datetime64[ns]",
         "type": "datetime"
        },
        {
         "name": "B",
         "rawType": "float64",
         "type": "float"
        },
        {
         "name": "C",
         "rawType": "float64",
         "type": "float"
        }
       ],
       "ref": "ee69de66-e9a9-4221-a352-72d4ac137e92",
       "rows": [
        [
         "2025-01-01 00:00:00",
         "0.8701428557089823",
         "-0.10069347047410071"
        ],
        [
         "2025-01-02 00:00:00",
         "-0.1197455642160526",
         "-1.7395880178018048"
        ],
        [
         "2025-01-03 00:00:00",
         "2.239272128630202",
         "0.0067987073428655955"
        ],
        [
         "2025-01-04 00:00:00",
         "0.5994371043864426",
         "0.5236855068592682"
        ],
        [
         "2025-01-05 00:00:00",
         "0.4939340694943893",
         "2.2057770522161344"
        ],
        [
         "2025-01-06 00:00:00",
         "-1.411187849894565",
         "0.5535464655901476"
        ]
       ],
       "shape": {
        "columns": 2,
        "rows": 6
       }
      },
      "text/html": [
       "<div>\n",
       "<style scoped>\n",
       "    .dataframe tbody tr th:only-of-type {\n",
       "        vertical-align: middle;\n",
       "    }\n",
       "\n",
       "    .dataframe tbody tr th {\n",
       "        vertical-align: top;\n",
       "    }\n",
       "\n",
       "    .dataframe thead th {\n",
       "        text-align: right;\n",
       "    }\n",
       "</style>\n",
       "<table border=\"1\" class=\"dataframe\">\n",
       "  <thead>\n",
       "    <tr style=\"text-align: right;\">\n",
       "      <th></th>\n",
       "      <th>B</th>\n",
       "      <th>C</th>\n",
       "    </tr>\n",
       "  </thead>\n",
       "  <tbody>\n",
       "    <tr>\n",
       "      <th>2025-01-01</th>\n",
       "      <td>0.870143</td>\n",
       "      <td>-0.100693</td>\n",
       "    </tr>\n",
       "    <tr>\n",
       "      <th>2025-01-02</th>\n",
       "      <td>-0.119746</td>\n",
       "      <td>-1.739588</td>\n",
       "    </tr>\n",
       "    <tr>\n",
       "      <th>2025-01-03</th>\n",
       "      <td>2.239272</td>\n",
       "      <td>0.006799</td>\n",
       "    </tr>\n",
       "    <tr>\n",
       "      <th>2025-01-04</th>\n",
       "      <td>0.599437</td>\n",
       "      <td>0.523686</td>\n",
       "    </tr>\n",
       "    <tr>\n",
       "      <th>2025-01-05</th>\n",
       "      <td>0.493934</td>\n",
       "      <td>2.205777</td>\n",
       "    </tr>\n",
       "    <tr>\n",
       "      <th>2025-01-06</th>\n",
       "      <td>-1.411188</td>\n",
       "      <td>0.553546</td>\n",
       "    </tr>\n",
       "  </tbody>\n",
       "</table>\n",
       "</div>"
      ],
      "text/plain": [
       "                   B         C\n",
       "2025-01-01  0.870143 -0.100693\n",
       "2025-01-02 -0.119746 -1.739588\n",
       "2025-01-03  2.239272  0.006799\n",
       "2025-01-04  0.599437  0.523686\n",
       "2025-01-05  0.493934  2.205777\n",
       "2025-01-06 -1.411188  0.553546"
      ]
     },
     "execution_count": 21,
     "metadata": {},
     "output_type": "execute_result"
    }
   ],
   "source": [
    "df.iloc[:, 1:3]"
   ]
  },
  {
   "cell_type": "code",
   "execution_count": 22,
   "id": "ea2e16f8",
   "metadata": {},
   "outputs": [
    {
     "data": {
      "text/plain": [
       "np.float64(-0.1197455642160526)"
      ]
     },
     "execution_count": 22,
     "metadata": {},
     "output_type": "execute_result"
    }
   ],
   "source": [
    "df.iloc[1, 1]"
   ]
  },
  {
   "cell_type": "markdown",
   "id": "f9dfbd0c",
   "metadata": {},
   "source": [
    "# Use iat for fater scalar"
   ]
  },
  {
   "cell_type": "code",
   "execution_count": 23,
   "id": "f17202a2",
   "metadata": {},
   "outputs": [
    {
     "data": {
      "text/plain": [
       "np.float64(-0.1197455642160526)"
      ]
     },
     "execution_count": 23,
     "metadata": {},
     "output_type": "execute_result"
    }
   ],
   "source": [
    "df.iat[1, 1]"
   ]
  },
  {
   "cell_type": "markdown",
   "id": "497cbea5",
   "metadata": {},
   "source": [
    "# Boolean indexing"
   ]
  },
  {
   "cell_type": "code",
   "execution_count": 25,
   "id": "17019208",
   "metadata": {},
   "outputs": [
    {
     "data": {
      "application/vnd.microsoft.datawrangler.viewer.v0+json": {
       "columns": [
        {
         "name": "index",
         "rawType": "datetime64[ns]",
         "type": "datetime"
        },
        {
         "name": "A",
         "rawType": "float64",
         "type": "float"
        },
        {
         "name": "B",
         "rawType": "float64",
         "type": "float"
        },
        {
         "name": "C",
         "rawType": "float64",
         "type": "float"
        },
        {
         "name": "D",
         "rawType": "float64",
         "type": "float"
        }
       ],
       "ref": "9bf1a825-6476-4a74-997a-1d749cec6324",
       "rows": [
        [
         "2025-01-01 00:00:00",
         "0.3367441356601166",
         "0.8701428557089823",
         "-0.10069347047410071",
         "0.27771249006781557"
        ],
        [
         "2025-01-02 00:00:00",
         "1.4225982851989984",
         "-0.1197455642160526",
         "-1.7395880178018048",
         "0.9422206691067219"
        ],
        [
         "2025-01-03 00:00:00",
         "0.49605384905311173",
         "2.239272128630202",
         "0.0067987073428655955",
         "-0.26664748439583075"
        ],
        [
         "2025-01-05 00:00:00",
         "1.0660061184006415",
         "0.4939340694943893",
         "2.2057770522161344",
         "0.5081075250221119"
        ]
       ],
       "shape": {
        "columns": 4,
        "rows": 4
       }
      },
      "text/html": [
       "<div>\n",
       "<style scoped>\n",
       "    .dataframe tbody tr th:only-of-type {\n",
       "        vertical-align: middle;\n",
       "    }\n",
       "\n",
       "    .dataframe tbody tr th {\n",
       "        vertical-align: top;\n",
       "    }\n",
       "\n",
       "    .dataframe thead th {\n",
       "        text-align: right;\n",
       "    }\n",
       "</style>\n",
       "<table border=\"1\" class=\"dataframe\">\n",
       "  <thead>\n",
       "    <tr style=\"text-align: right;\">\n",
       "      <th></th>\n",
       "      <th>A</th>\n",
       "      <th>B</th>\n",
       "      <th>C</th>\n",
       "      <th>D</th>\n",
       "    </tr>\n",
       "  </thead>\n",
       "  <tbody>\n",
       "    <tr>\n",
       "      <th>2025-01-01</th>\n",
       "      <td>0.336744</td>\n",
       "      <td>0.870143</td>\n",
       "      <td>-0.100693</td>\n",
       "      <td>0.277712</td>\n",
       "    </tr>\n",
       "    <tr>\n",
       "      <th>2025-01-02</th>\n",
       "      <td>1.422598</td>\n",
       "      <td>-0.119746</td>\n",
       "      <td>-1.739588</td>\n",
       "      <td>0.942221</td>\n",
       "    </tr>\n",
       "    <tr>\n",
       "      <th>2025-01-03</th>\n",
       "      <td>0.496054</td>\n",
       "      <td>2.239272</td>\n",
       "      <td>0.006799</td>\n",
       "      <td>-0.266647</td>\n",
       "    </tr>\n",
       "    <tr>\n",
       "      <th>2025-01-05</th>\n",
       "      <td>1.066006</td>\n",
       "      <td>0.493934</td>\n",
       "      <td>2.205777</td>\n",
       "      <td>0.508108</td>\n",
       "    </tr>\n",
       "  </tbody>\n",
       "</table>\n",
       "</div>"
      ],
      "text/plain": [
       "                   A         B         C         D\n",
       "2025-01-01  0.336744  0.870143 -0.100693  0.277712\n",
       "2025-01-02  1.422598 -0.119746 -1.739588  0.942221\n",
       "2025-01-03  0.496054  2.239272  0.006799 -0.266647\n",
       "2025-01-05  1.066006  0.493934  2.205777  0.508108"
      ]
     },
     "execution_count": 25,
     "metadata": {},
     "output_type": "execute_result"
    }
   ],
   "source": [
    "df[df[\"A\"] > 0] # Select all row where df.A is greater than 0"
   ]
  },
  {
   "cell_type": "code",
   "execution_count": 26,
   "id": "b34a9117",
   "metadata": {},
   "outputs": [
    {
     "data": {
      "application/vnd.microsoft.datawrangler.viewer.v0+json": {
       "columns": [
        {
         "name": "index",
         "rawType": "datetime64[ns]",
         "type": "datetime"
        },
        {
         "name": "A",
         "rawType": "float64",
         "type": "float"
        },
        {
         "name": "B",
         "rawType": "float64",
         "type": "float"
        },
        {
         "name": "C",
         "rawType": "float64",
         "type": "float"
        },
        {
         "name": "D",
         "rawType": "float64",
         "type": "float"
        }
       ],
       "ref": "bf798429-2b7c-4b1e-9b3a-172137154f58",
       "rows": [
        [
         "2025-01-01 00:00:00",
         "0.3367441356601166",
         "0.8701428557089823",
         null,
         "0.27771249006781557"
        ],
        [
         "2025-01-02 00:00:00",
         "1.4225982851989984",
         null,
         null,
         "0.9422206691067219"
        ],
        [
         "2025-01-03 00:00:00",
         "0.49605384905311173",
         "2.239272128630202",
         "0.0067987073428655955",
         null
        ],
        [
         "2025-01-04 00:00:00",
         null,
         "0.5994371043864426",
         "0.5236855068592682",
         null
        ],
        [
         "2025-01-05 00:00:00",
         "1.0660061184006415",
         "0.4939340694943893",
         "2.2057770522161344",
         "0.5081075250221119"
        ],
        [
         "2025-01-06 00:00:00",
         null,
         null,
         "0.5535464655901476",
         null
        ]
       ],
       "shape": {
        "columns": 4,
        "rows": 6
       }
      },
      "text/html": [
       "<div>\n",
       "<style scoped>\n",
       "    .dataframe tbody tr th:only-of-type {\n",
       "        vertical-align: middle;\n",
       "    }\n",
       "\n",
       "    .dataframe tbody tr th {\n",
       "        vertical-align: top;\n",
       "    }\n",
       "\n",
       "    .dataframe thead th {\n",
       "        text-align: right;\n",
       "    }\n",
       "</style>\n",
       "<table border=\"1\" class=\"dataframe\">\n",
       "  <thead>\n",
       "    <tr style=\"text-align: right;\">\n",
       "      <th></th>\n",
       "      <th>A</th>\n",
       "      <th>B</th>\n",
       "      <th>C</th>\n",
       "      <th>D</th>\n",
       "    </tr>\n",
       "  </thead>\n",
       "  <tbody>\n",
       "    <tr>\n",
       "      <th>2025-01-01</th>\n",
       "      <td>0.336744</td>\n",
       "      <td>0.870143</td>\n",
       "      <td>NaN</td>\n",
       "      <td>0.277712</td>\n",
       "    </tr>\n",
       "    <tr>\n",
       "      <th>2025-01-02</th>\n",
       "      <td>1.422598</td>\n",
       "      <td>NaN</td>\n",
       "      <td>NaN</td>\n",
       "      <td>0.942221</td>\n",
       "    </tr>\n",
       "    <tr>\n",
       "      <th>2025-01-03</th>\n",
       "      <td>0.496054</td>\n",
       "      <td>2.239272</td>\n",
       "      <td>0.006799</td>\n",
       "      <td>NaN</td>\n",
       "    </tr>\n",
       "    <tr>\n",
       "      <th>2025-01-04</th>\n",
       "      <td>NaN</td>\n",
       "      <td>0.599437</td>\n",
       "      <td>0.523686</td>\n",
       "      <td>NaN</td>\n",
       "    </tr>\n",
       "    <tr>\n",
       "      <th>2025-01-05</th>\n",
       "      <td>1.066006</td>\n",
       "      <td>0.493934</td>\n",
       "      <td>2.205777</td>\n",
       "      <td>0.508108</td>\n",
       "    </tr>\n",
       "    <tr>\n",
       "      <th>2025-01-06</th>\n",
       "      <td>NaN</td>\n",
       "      <td>NaN</td>\n",
       "      <td>0.553546</td>\n",
       "      <td>NaN</td>\n",
       "    </tr>\n",
       "  </tbody>\n",
       "</table>\n",
       "</div>"
      ],
      "text/plain": [
       "                   A         B         C         D\n",
       "2025-01-01  0.336744  0.870143       NaN  0.277712\n",
       "2025-01-02  1.422598       NaN       NaN  0.942221\n",
       "2025-01-03  0.496054  2.239272  0.006799       NaN\n",
       "2025-01-04       NaN  0.599437  0.523686       NaN\n",
       "2025-01-05  1.066006  0.493934  2.205777  0.508108\n",
       "2025-01-06       NaN       NaN  0.553546       NaN"
      ]
     },
     "execution_count": 26,
     "metadata": {},
     "output_type": "execute_result"
    }
   ],
   "source": [
    "df[ df > 0]"
   ]
  },
  {
   "cell_type": "code",
   "execution_count": 27,
   "id": "f9389dcd",
   "metadata": {},
   "outputs": [
    {
     "data": {
      "application/vnd.microsoft.datawrangler.viewer.v0+json": {
       "columns": [
        {
         "name": "index",
         "rawType": "datetime64[ns]",
         "type": "datetime"
        },
        {
         "name": "A",
         "rawType": "float64",
         "type": "float"
        },
        {
         "name": "B",
         "rawType": "float64",
         "type": "float"
        },
        {
         "name": "C",
         "rawType": "float64",
         "type": "float"
        },
        {
         "name": "D",
         "rawType": "float64",
         "type": "float"
        },
        {
         "name": "E",
         "rawType": "object",
         "type": "string"
        }
       ],
       "ref": "de84c018-fe12-4152-8096-b1cefaf25b31",
       "rows": [
        [
         "2025-01-01 00:00:00",
         "0.3367441356601166",
         "0.8701428557089823",
         "-0.10069347047410071",
         "0.27771249006781557",
         "one"
        ],
        [
         "2025-01-02 00:00:00",
         "1.4225982851989984",
         "-0.1197455642160526",
         "-1.7395880178018048",
         "0.9422206691067219",
         "one"
        ],
        [
         "2025-01-03 00:00:00",
         "0.49605384905311173",
         "2.239272128630202",
         "0.0067987073428655955",
         "-0.26664748439583075",
         "two"
        ],
        [
         "2025-01-04 00:00:00",
         "-0.5234344763106245",
         "0.5994371043864426",
         "0.5236855068592682",
         "-0.09516407854136148",
         "three"
        ],
        [
         "2025-01-05 00:00:00",
         "1.0660061184006415",
         "0.4939340694943893",
         "2.2057770522161344",
         "0.5081075250221119",
         "four"
        ],
        [
         "2025-01-06 00:00:00",
         "-0.09578554237783489",
         "-1.411187849894565",
         "0.5535464655901476",
         "-1.2132551532458276",
         "three"
        ]
       ],
       "shape": {
        "columns": 5,
        "rows": 6
       }
      },
      "text/html": [
       "<div>\n",
       "<style scoped>\n",
       "    .dataframe tbody tr th:only-of-type {\n",
       "        vertical-align: middle;\n",
       "    }\n",
       "\n",
       "    .dataframe tbody tr th {\n",
       "        vertical-align: top;\n",
       "    }\n",
       "\n",
       "    .dataframe thead th {\n",
       "        text-align: right;\n",
       "    }\n",
       "</style>\n",
       "<table border=\"1\" class=\"dataframe\">\n",
       "  <thead>\n",
       "    <tr style=\"text-align: right;\">\n",
       "      <th></th>\n",
       "      <th>A</th>\n",
       "      <th>B</th>\n",
       "      <th>C</th>\n",
       "      <th>D</th>\n",
       "      <th>E</th>\n",
       "    </tr>\n",
       "  </thead>\n",
       "  <tbody>\n",
       "    <tr>\n",
       "      <th>2025-01-01</th>\n",
       "      <td>0.336744</td>\n",
       "      <td>0.870143</td>\n",
       "      <td>-0.100693</td>\n",
       "      <td>0.277712</td>\n",
       "      <td>one</td>\n",
       "    </tr>\n",
       "    <tr>\n",
       "      <th>2025-01-02</th>\n",
       "      <td>1.422598</td>\n",
       "      <td>-0.119746</td>\n",
       "      <td>-1.739588</td>\n",
       "      <td>0.942221</td>\n",
       "      <td>one</td>\n",
       "    </tr>\n",
       "    <tr>\n",
       "      <th>2025-01-03</th>\n",
       "      <td>0.496054</td>\n",
       "      <td>2.239272</td>\n",
       "      <td>0.006799</td>\n",
       "      <td>-0.266647</td>\n",
       "      <td>two</td>\n",
       "    </tr>\n",
       "    <tr>\n",
       "      <th>2025-01-04</th>\n",
       "      <td>-0.523434</td>\n",
       "      <td>0.599437</td>\n",
       "      <td>0.523686</td>\n",
       "      <td>-0.095164</td>\n",
       "      <td>three</td>\n",
       "    </tr>\n",
       "    <tr>\n",
       "      <th>2025-01-05</th>\n",
       "      <td>1.066006</td>\n",
       "      <td>0.493934</td>\n",
       "      <td>2.205777</td>\n",
       "      <td>0.508108</td>\n",
       "      <td>four</td>\n",
       "    </tr>\n",
       "    <tr>\n",
       "      <th>2025-01-06</th>\n",
       "      <td>-0.095786</td>\n",
       "      <td>-1.411188</td>\n",
       "      <td>0.553546</td>\n",
       "      <td>-1.213255</td>\n",
       "      <td>three</td>\n",
       "    </tr>\n",
       "  </tbody>\n",
       "</table>\n",
       "</div>"
      ],
      "text/plain": [
       "                   A         B         C         D      E\n",
       "2025-01-01  0.336744  0.870143 -0.100693  0.277712    one\n",
       "2025-01-02  1.422598 -0.119746 -1.739588  0.942221    one\n",
       "2025-01-03  0.496054  2.239272  0.006799 -0.266647    two\n",
       "2025-01-04 -0.523434  0.599437  0.523686 -0.095164  three\n",
       "2025-01-05  1.066006  0.493934  2.205777  0.508108   four\n",
       "2025-01-06 -0.095786 -1.411188  0.553546 -1.213255  three"
      ]
     },
     "execution_count": 27,
     "metadata": {},
     "output_type": "execute_result"
    }
   ],
   "source": [
    "df2 = df.copy()\n",
    "\n",
    "df2[\"E\"] = [\"one\", \"one\", \"two\", \"three\", \"four\", \"three\"]\n",
    "df2"
   ]
  },
  {
   "cell_type": "code",
   "execution_count": null,
   "id": "0d11b2ed",
   "metadata": {},
   "outputs": [
    {
     "data": {
      "application/vnd.microsoft.datawrangler.viewer.v0+json": {
       "columns": [
        {
         "name": "index",
         "rawType": "datetime64[ns]",
         "type": "datetime"
        },
        {
         "name": "A",
         "rawType": "float64",
         "type": "float"
        },
        {
         "name": "B",
         "rawType": "float64",
         "type": "float"
        },
        {
         "name": "C",
         "rawType": "float64",
         "type": "float"
        },
        {
         "name": "D",
         "rawType": "float64",
         "type": "float"
        },
        {
         "name": "E",
         "rawType": "object",
         "type": "string"
        }
       ],
       "ref": "c0cfc559-3ffd-474c-9bae-cb95761bee78",
       "rows": [
        [
         "2025-01-03 00:00:00",
         "0.49605384905311173",
         "2.239272128630202",
         "0.0067987073428655955",
         "-0.26664748439583075",
         "two"
        ],
        [
         "2025-01-05 00:00:00",
         "1.0660061184006415",
         "0.4939340694943893",
         "2.2057770522161344",
         "0.5081075250221119",
         "four"
        ]
       ],
       "shape": {
        "columns": 5,
        "rows": 2
       }
      },
      "text/html": [
       "<div>\n",
       "<style scoped>\n",
       "    .dataframe tbody tr th:only-of-type {\n",
       "        vertical-align: middle;\n",
       "    }\n",
       "\n",
       "    .dataframe tbody tr th {\n",
       "        vertical-align: top;\n",
       "    }\n",
       "\n",
       "    .dataframe thead th {\n",
       "        text-align: right;\n",
       "    }\n",
       "</style>\n",
       "<table border=\"1\" class=\"dataframe\">\n",
       "  <thead>\n",
       "    <tr style=\"text-align: right;\">\n",
       "      <th></th>\n",
       "      <th>A</th>\n",
       "      <th>B</th>\n",
       "      <th>C</th>\n",
       "      <th>D</th>\n",
       "      <th>E</th>\n",
       "    </tr>\n",
       "  </thead>\n",
       "  <tbody>\n",
       "    <tr>\n",
       "      <th>2025-01-03</th>\n",
       "      <td>0.496054</td>\n",
       "      <td>2.239272</td>\n",
       "      <td>0.006799</td>\n",
       "      <td>-0.266647</td>\n",
       "      <td>two</td>\n",
       "    </tr>\n",
       "    <tr>\n",
       "      <th>2025-01-05</th>\n",
       "      <td>1.066006</td>\n",
       "      <td>0.493934</td>\n",
       "      <td>2.205777</td>\n",
       "      <td>0.508108</td>\n",
       "      <td>four</td>\n",
       "    </tr>\n",
       "  </tbody>\n",
       "</table>\n",
       "</div>"
      ],
      "text/plain": [
       "                   A         B         C         D     E\n",
       "2025-01-03  0.496054  2.239272  0.006799 -0.266647   two\n",
       "2025-01-05  1.066006  0.493934  2.205777  0.508108  four"
      ]
     },
     "execution_count": 28,
     "metadata": {},
     "output_type": "execute_result"
    }
   ],
   "source": [
    "df2[df2[\"E\"].isin([\"two\", \"four\"])] # Select column E where rows have \"two\" and \"four\""
   ]
  },
  {
   "cell_type": "markdown",
   "id": "9b1ac6fc",
   "metadata": {},
   "source": [
    "# Setting"
   ]
  },
  {
   "cell_type": "code",
   "execution_count": 29,
   "id": "63337655",
   "metadata": {},
   "outputs": [
    {
     "data": {
      "application/vnd.microsoft.datawrangler.viewer.v0+json": {
       "columns": [
        {
         "name": "index",
         "rawType": "datetime64[ns]",
         "type": "datetime"
        },
        {
         "name": "0",
         "rawType": "int64",
         "type": "integer"
        }
       ],
       "ref": "caf2c4be-1a53-4453-9fa6-70cbf3c81d02",
       "rows": [
        [
         "2025-01-02 00:00:00",
         "1"
        ],
        [
         "2025-01-03 00:00:00",
         "2"
        ],
        [
         "2025-01-04 00:00:00",
         "3"
        ],
        [
         "2025-01-05 00:00:00",
         "4"
        ],
        [
         "2025-01-06 00:00:00",
         "5"
        ],
        [
         "2025-01-07 00:00:00",
         "6"
        ]
       ],
       "shape": {
        "columns": 1,
        "rows": 6
       }
      },
      "text/plain": [
       "2025-01-02    1\n",
       "2025-01-03    2\n",
       "2025-01-04    3\n",
       "2025-01-05    4\n",
       "2025-01-06    5\n",
       "2025-01-07    6\n",
       "Freq: D, dtype: int64"
      ]
     },
     "execution_count": 29,
     "metadata": {},
     "output_type": "execute_result"
    }
   ],
   "source": [
    "s1 = pd.Series([1, 2, 3, 4, 5, 6], index=pd.date_range(\"20250102\", periods=6))\n",
    "s1"
   ]
  },
  {
   "cell_type": "code",
   "execution_count": 30,
   "id": "bf68be4f",
   "metadata": {},
   "outputs": [],
   "source": [
    "df.at[dates[0], \"A\"] = 0"
   ]
  },
  {
   "cell_type": "code",
   "execution_count": 31,
   "id": "7ae00637",
   "metadata": {},
   "outputs": [],
   "source": [
    "df.iat[0, 1] = 0"
   ]
  },
  {
   "cell_type": "code",
   "execution_count": 32,
   "id": "8bd1c3e9",
   "metadata": {},
   "outputs": [],
   "source": [
    "df.loc[:, \"D\"] = np.array([5] * len(df))"
   ]
  },
  {
   "cell_type": "code",
   "execution_count": 33,
   "id": "cd6e895a",
   "metadata": {},
   "outputs": [
    {
     "data": {
      "application/vnd.microsoft.datawrangler.viewer.v0+json": {
       "columns": [
        {
         "name": "index",
         "rawType": "datetime64[ns]",
         "type": "datetime"
        },
        {
         "name": "A",
         "rawType": "float64",
         "type": "float"
        },
        {
         "name": "B",
         "rawType": "float64",
         "type": "float"
        },
        {
         "name": "C",
         "rawType": "float64",
         "type": "float"
        },
        {
         "name": "D",
         "rawType": "float64",
         "type": "float"
        }
       ],
       "ref": "b919f20c-f7ab-4d66-9fdf-3bfa09c32b73",
       "rows": [
        [
         "2025-01-01 00:00:00",
         "0.0",
         "0.0",
         "-0.10069347047410071",
         "5.0"
        ],
        [
         "2025-01-02 00:00:00",
         "1.4225982851989984",
         "-0.1197455642160526",
         "-1.7395880178018048",
         "5.0"
        ],
        [
         "2025-01-03 00:00:00",
         "0.49605384905311173",
         "2.239272128630202",
         "0.0067987073428655955",
         "5.0"
        ],
        [
         "2025-01-04 00:00:00",
         "-0.5234344763106245",
         "0.5994371043864426",
         "0.5236855068592682",
         "5.0"
        ],
        [
         "2025-01-05 00:00:00",
         "1.0660061184006415",
         "0.4939340694943893",
         "2.2057770522161344",
         "5.0"
        ],
        [
         "2025-01-06 00:00:00",
         "-0.09578554237783489",
         "-1.411187849894565",
         "0.5535464655901476",
         "5.0"
        ]
       ],
       "shape": {
        "columns": 4,
        "rows": 6
       }
      },
      "text/html": [
       "<div>\n",
       "<style scoped>\n",
       "    .dataframe tbody tr th:only-of-type {\n",
       "        vertical-align: middle;\n",
       "    }\n",
       "\n",
       "    .dataframe tbody tr th {\n",
       "        vertical-align: top;\n",
       "    }\n",
       "\n",
       "    .dataframe thead th {\n",
       "        text-align: right;\n",
       "    }\n",
       "</style>\n",
       "<table border=\"1\" class=\"dataframe\">\n",
       "  <thead>\n",
       "    <tr style=\"text-align: right;\">\n",
       "      <th></th>\n",
       "      <th>A</th>\n",
       "      <th>B</th>\n",
       "      <th>C</th>\n",
       "      <th>D</th>\n",
       "    </tr>\n",
       "  </thead>\n",
       "  <tbody>\n",
       "    <tr>\n",
       "      <th>2025-01-01</th>\n",
       "      <td>0.000000</td>\n",
       "      <td>0.000000</td>\n",
       "      <td>-0.100693</td>\n",
       "      <td>5.0</td>\n",
       "    </tr>\n",
       "    <tr>\n",
       "      <th>2025-01-02</th>\n",
       "      <td>1.422598</td>\n",
       "      <td>-0.119746</td>\n",
       "      <td>-1.739588</td>\n",
       "      <td>5.0</td>\n",
       "    </tr>\n",
       "    <tr>\n",
       "      <th>2025-01-03</th>\n",
       "      <td>0.496054</td>\n",
       "      <td>2.239272</td>\n",
       "      <td>0.006799</td>\n",
       "      <td>5.0</td>\n",
       "    </tr>\n",
       "    <tr>\n",
       "      <th>2025-01-04</th>\n",
       "      <td>-0.523434</td>\n",
       "      <td>0.599437</td>\n",
       "      <td>0.523686</td>\n",
       "      <td>5.0</td>\n",
       "    </tr>\n",
       "    <tr>\n",
       "      <th>2025-01-05</th>\n",
       "      <td>1.066006</td>\n",
       "      <td>0.493934</td>\n",
       "      <td>2.205777</td>\n",
       "      <td>5.0</td>\n",
       "    </tr>\n",
       "    <tr>\n",
       "      <th>2025-01-06</th>\n",
       "      <td>-0.095786</td>\n",
       "      <td>-1.411188</td>\n",
       "      <td>0.553546</td>\n",
       "      <td>5.0</td>\n",
       "    </tr>\n",
       "  </tbody>\n",
       "</table>\n",
       "</div>"
      ],
      "text/plain": [
       "                   A         B         C    D\n",
       "2025-01-01  0.000000  0.000000 -0.100693  5.0\n",
       "2025-01-02  1.422598 -0.119746 -1.739588  5.0\n",
       "2025-01-03  0.496054  2.239272  0.006799  5.0\n",
       "2025-01-04 -0.523434  0.599437  0.523686  5.0\n",
       "2025-01-05  1.066006  0.493934  2.205777  5.0\n",
       "2025-01-06 -0.095786 -1.411188  0.553546  5.0"
      ]
     },
     "execution_count": 33,
     "metadata": {},
     "output_type": "execute_result"
    }
   ],
   "source": [
    "df"
   ]
  },
  {
   "cell_type": "code",
   "execution_count": null,
   "id": "da0948e5",
   "metadata": {},
   "outputs": [
    {
     "data": {
      "application/vnd.microsoft.datawrangler.viewer.v0+json": {
       "columns": [
        {
         "name": "index",
         "rawType": "datetime64[ns]",
         "type": "datetime"
        },
        {
         "name": "A",
         "rawType": "float64",
         "type": "float"
        },
        {
         "name": "B",
         "rawType": "float64",
         "type": "float"
        },
        {
         "name": "C",
         "rawType": "float64",
         "type": "float"
        },
        {
         "name": "D",
         "rawType": "float64",
         "type": "float"
        }
       ],
       "ref": "8a516dfe-92a8-4cb8-bdcc-cec5f6319a0d",
       "rows": [
        [
         "2025-01-01 00:00:00",
         "0.0",
         "0.0",
         "-0.10069347047410071",
         "-5.0"
        ],
        [
         "2025-01-02 00:00:00",
         "-1.4225982851989984",
         "-0.1197455642160526",
         "-1.7395880178018048",
         "-5.0"
        ],
        [
         "2025-01-03 00:00:00",
         "-0.49605384905311173",
         "-2.239272128630202",
         "-0.0067987073428655955",
         "-5.0"
        ],
        [
         "2025-01-04 00:00:00",
         "-0.5234344763106245",
         "-0.5994371043864426",
         "-0.5236855068592682",
         "-5.0"
        ],
        [
         "2025-01-05 00:00:00",
         "-1.0660061184006415",
         "-0.4939340694943893",
         "-2.2057770522161344",
         "-5.0"
        ],
        [
         "2025-01-06 00:00:00",
         "-0.09578554237783489",
         "-1.411187849894565",
         "-0.5535464655901476",
         "-5.0"
        ]
       ],
       "shape": {
        "columns": 4,
        "rows": 6
       }
      },
      "text/html": [
       "<div>\n",
       "<style scoped>\n",
       "    .dataframe tbody tr th:only-of-type {\n",
       "        vertical-align: middle;\n",
       "    }\n",
       "\n",
       "    .dataframe tbody tr th {\n",
       "        vertical-align: top;\n",
       "    }\n",
       "\n",
       "    .dataframe thead th {\n",
       "        text-align: right;\n",
       "    }\n",
       "</style>\n",
       "<table border=\"1\" class=\"dataframe\">\n",
       "  <thead>\n",
       "    <tr style=\"text-align: right;\">\n",
       "      <th></th>\n",
       "      <th>A</th>\n",
       "      <th>B</th>\n",
       "      <th>C</th>\n",
       "      <th>D</th>\n",
       "    </tr>\n",
       "  </thead>\n",
       "  <tbody>\n",
       "    <tr>\n",
       "      <th>2025-01-01</th>\n",
       "      <td>0.000000</td>\n",
       "      <td>0.000000</td>\n",
       "      <td>-0.100693</td>\n",
       "      <td>-5.0</td>\n",
       "    </tr>\n",
       "    <tr>\n",
       "      <th>2025-01-02</th>\n",
       "      <td>-1.422598</td>\n",
       "      <td>-0.119746</td>\n",
       "      <td>-1.739588</td>\n",
       "      <td>-5.0</td>\n",
       "    </tr>\n",
       "    <tr>\n",
       "      <th>2025-01-03</th>\n",
       "      <td>-0.496054</td>\n",
       "      <td>-2.239272</td>\n",
       "      <td>-0.006799</td>\n",
       "      <td>-5.0</td>\n",
       "    </tr>\n",
       "    <tr>\n",
       "      <th>2025-01-04</th>\n",
       "      <td>-0.523434</td>\n",
       "      <td>-0.599437</td>\n",
       "      <td>-0.523686</td>\n",
       "      <td>-5.0</td>\n",
       "    </tr>\n",
       "    <tr>\n",
       "      <th>2025-01-05</th>\n",
       "      <td>-1.066006</td>\n",
       "      <td>-0.493934</td>\n",
       "      <td>-2.205777</td>\n",
       "      <td>-5.0</td>\n",
       "    </tr>\n",
       "    <tr>\n",
       "      <th>2025-01-06</th>\n",
       "      <td>-0.095786</td>\n",
       "      <td>-1.411188</td>\n",
       "      <td>-0.553546</td>\n",
       "      <td>-5.0</td>\n",
       "    </tr>\n",
       "  </tbody>\n",
       "</table>\n",
       "</div>"
      ],
      "text/plain": [
       "                   A         B         C    D\n",
       "2025-01-01  0.000000  0.000000 -0.100693 -5.0\n",
       "2025-01-02 -1.422598 -0.119746 -1.739588 -5.0\n",
       "2025-01-03 -0.496054 -2.239272 -0.006799 -5.0\n",
       "2025-01-04 -0.523434 -0.599437 -0.523686 -5.0\n",
       "2025-01-05 -1.066006 -0.493934 -2.205777 -5.0\n",
       "2025-01-06 -0.095786 -1.411188 -0.553546 -5.0"
      ]
     },
     "execution_count": 34,
     "metadata": {},
     "output_type": "execute_result"
    }
   ],
   "source": [
    "df2 = df.copy()\n",
    "df2[df2 > 0] = -df2 # turn all values negative\n",
    "df2"
   ]
  },
  {
   "cell_type": "code",
   "execution_count": null,
   "id": "0accab36",
   "metadata": {},
   "outputs": [
    {
     "data": {
      "application/vnd.microsoft.datawrangler.viewer.v0+json": {
       "columns": [
        {
         "name": "index",
         "rawType": "datetime64[ns]",
         "type": "datetime"
        },
        {
         "name": "A",
         "rawType": "float64",
         "type": "float"
        },
        {
         "name": "B",
         "rawType": "float64",
         "type": "float"
        },
        {
         "name": "C",
         "rawType": "float64",
         "type": "float"
        },
        {
         "name": "D",
         "rawType": "float64",
         "type": "float"
        },
        {
         "name": "E",
         "rawType": "float64",
         "type": "float"
        }
       ],
       "ref": "69babf63-0dc7-462f-8ed0-e345b0c53a3d",
       "rows": [
        [
         "2025-01-01 00:00:00",
         "0.0",
         "0.0",
         "-0.10069347047410071",
         "5.0",
         "1.0"
        ],
        [
         "2025-01-02 00:00:00",
         "1.4225982851989984",
         "-0.1197455642160526",
         "-1.7395880178018048",
         "5.0",
         "1.0"
        ],
        [
         "2025-01-03 00:00:00",
         "0.49605384905311173",
         "2.239272128630202",
         "0.0067987073428655955",
         "5.0",
         null
        ],
        [
         "2025-01-04 00:00:00",
         "-0.5234344763106245",
         "0.5994371043864426",
         "0.5236855068592682",
         "5.0",
         null
        ]
       ],
       "shape": {
        "columns": 5,
        "rows": 4
       }
      },
      "text/html": [
       "<div>\n",
       "<style scoped>\n",
       "    .dataframe tbody tr th:only-of-type {\n",
       "        vertical-align: middle;\n",
       "    }\n",
       "\n",
       "    .dataframe tbody tr th {\n",
       "        vertical-align: top;\n",
       "    }\n",
       "\n",
       "    .dataframe thead th {\n",
       "        text-align: right;\n",
       "    }\n",
       "</style>\n",
       "<table border=\"1\" class=\"dataframe\">\n",
       "  <thead>\n",
       "    <tr style=\"text-align: right;\">\n",
       "      <th></th>\n",
       "      <th>A</th>\n",
       "      <th>B</th>\n",
       "      <th>C</th>\n",
       "      <th>D</th>\n",
       "      <th>E</th>\n",
       "    </tr>\n",
       "  </thead>\n",
       "  <tbody>\n",
       "    <tr>\n",
       "      <th>2025-01-01</th>\n",
       "      <td>0.000000</td>\n",
       "      <td>0.000000</td>\n",
       "      <td>-0.100693</td>\n",
       "      <td>5.0</td>\n",
       "      <td>1.0</td>\n",
       "    </tr>\n",
       "    <tr>\n",
       "      <th>2025-01-02</th>\n",
       "      <td>1.422598</td>\n",
       "      <td>-0.119746</td>\n",
       "      <td>-1.739588</td>\n",
       "      <td>5.0</td>\n",
       "      <td>1.0</td>\n",
       "    </tr>\n",
       "    <tr>\n",
       "      <th>2025-01-03</th>\n",
       "      <td>0.496054</td>\n",
       "      <td>2.239272</td>\n",
       "      <td>0.006799</td>\n",
       "      <td>5.0</td>\n",
       "      <td>NaN</td>\n",
       "    </tr>\n",
       "    <tr>\n",
       "      <th>2025-01-04</th>\n",
       "      <td>-0.523434</td>\n",
       "      <td>0.599437</td>\n",
       "      <td>0.523686</td>\n",
       "      <td>5.0</td>\n",
       "      <td>NaN</td>\n",
       "    </tr>\n",
       "  </tbody>\n",
       "</table>\n",
       "</div>"
      ],
      "text/plain": [
       "                   A         B         C    D    E\n",
       "2025-01-01  0.000000  0.000000 -0.100693  5.0  1.0\n",
       "2025-01-02  1.422598 -0.119746 -1.739588  5.0  1.0\n",
       "2025-01-03  0.496054  2.239272  0.006799  5.0  NaN\n",
       "2025-01-04 -0.523434  0.599437  0.523686  5.0  NaN"
      ]
     },
     "execution_count": 35,
     "metadata": {},
     "output_type": "execute_result"
    }
   ],
   "source": [
    "df1 = df.reindex(index=dates[0:4], columns=list(df.columns) + [\"E\"])\n",
    "df1.loc[dates[0] : dates[1], \"E\"] = 1 # select the first 2 rows on column \"E\"\n",
    "df1"
   ]
  },
  {
   "cell_type": "code",
   "execution_count": null,
   "id": "d77103e5",
   "metadata": {},
   "outputs": [
    {
     "data": {
      "application/vnd.microsoft.datawrangler.viewer.v0+json": {
       "columns": [
        {
         "name": "index",
         "rawType": "datetime64[ns]",
         "type": "datetime"
        },
        {
         "name": "A",
         "rawType": "float64",
         "type": "float"
        },
        {
         "name": "B",
         "rawType": "float64",
         "type": "float"
        },
        {
         "name": "C",
         "rawType": "float64",
         "type": "float"
        },
        {
         "name": "D",
         "rawType": "float64",
         "type": "float"
        },
        {
         "name": "E",
         "rawType": "float64",
         "type": "float"
        }
       ],
       "ref": "b85d5d34-f26e-4ccf-a369-59d84724a553",
       "rows": [
        [
         "2025-01-01 00:00:00",
         "0.0",
         "0.0",
         "-0.10069347047410071",
         "5.0",
         "1.0"
        ],
        [
         "2025-01-02 00:00:00",
         "1.4225982851989984",
         "-0.1197455642160526",
         "-1.7395880178018048",
         "5.0",
         "1.0"
        ]
       ],
       "shape": {
        "columns": 5,
        "rows": 2
       }
      },
      "text/html": [
       "<div>\n",
       "<style scoped>\n",
       "    .dataframe tbody tr th:only-of-type {\n",
       "        vertical-align: middle;\n",
       "    }\n",
       "\n",
       "    .dataframe tbody tr th {\n",
       "        vertical-align: top;\n",
       "    }\n",
       "\n",
       "    .dataframe thead th {\n",
       "        text-align: right;\n",
       "    }\n",
       "</style>\n",
       "<table border=\"1\" class=\"dataframe\">\n",
       "  <thead>\n",
       "    <tr style=\"text-align: right;\">\n",
       "      <th></th>\n",
       "      <th>A</th>\n",
       "      <th>B</th>\n",
       "      <th>C</th>\n",
       "      <th>D</th>\n",
       "      <th>E</th>\n",
       "    </tr>\n",
       "  </thead>\n",
       "  <tbody>\n",
       "    <tr>\n",
       "      <th>2025-01-01</th>\n",
       "      <td>0.000000</td>\n",
       "      <td>0.000000</td>\n",
       "      <td>-0.100693</td>\n",
       "      <td>5.0</td>\n",
       "      <td>1.0</td>\n",
       "    </tr>\n",
       "    <tr>\n",
       "      <th>2025-01-02</th>\n",
       "      <td>1.422598</td>\n",
       "      <td>-0.119746</td>\n",
       "      <td>-1.739588</td>\n",
       "      <td>5.0</td>\n",
       "      <td>1.0</td>\n",
       "    </tr>\n",
       "  </tbody>\n",
       "</table>\n",
       "</div>"
      ],
      "text/plain": [
       "                   A         B         C    D    E\n",
       "2025-01-01  0.000000  0.000000 -0.100693  5.0  1.0\n",
       "2025-01-02  1.422598 -0.119746 -1.739588  5.0  1.0"
      ]
     },
     "execution_count": 36,
     "metadata": {},
     "output_type": "execute_result"
    }
   ],
   "source": [
    "df1.dropna(how=\"any\") # not inplace"
   ]
  },
  {
   "cell_type": "code",
   "execution_count": 38,
   "id": "32b39d66",
   "metadata": {},
   "outputs": [
    {
     "data": {
      "application/vnd.microsoft.datawrangler.viewer.v0+json": {
       "columns": [
        {
         "name": "index",
         "rawType": "datetime64[ns]",
         "type": "datetime"
        },
        {
         "name": "A",
         "rawType": "float64",
         "type": "float"
        },
        {
         "name": "B",
         "rawType": "float64",
         "type": "float"
        },
        {
         "name": "C",
         "rawType": "float64",
         "type": "float"
        },
        {
         "name": "D",
         "rawType": "float64",
         "type": "float"
        },
        {
         "name": "E",
         "rawType": "float64",
         "type": "float"
        }
       ],
       "ref": "67306f39-3bd6-47dc-be6b-0b665832429e",
       "rows": [
        [
         "2025-01-01 00:00:00",
         "0.0",
         "0.0",
         "-0.10069347047410071",
         "5.0",
         "1.0"
        ],
        [
         "2025-01-02 00:00:00",
         "1.4225982851989984",
         "-0.1197455642160526",
         "-1.7395880178018048",
         "5.0",
         "1.0"
        ],
        [
         "2025-01-03 00:00:00",
         "0.49605384905311173",
         "2.239272128630202",
         "0.0067987073428655955",
         "5.0",
         "5.0"
        ],
        [
         "2025-01-04 00:00:00",
         "-0.5234344763106245",
         "0.5994371043864426",
         "0.5236855068592682",
         "5.0",
         "5.0"
        ]
       ],
       "shape": {
        "columns": 5,
        "rows": 4
       }
      },
      "text/html": [
       "<div>\n",
       "<style scoped>\n",
       "    .dataframe tbody tr th:only-of-type {\n",
       "        vertical-align: middle;\n",
       "    }\n",
       "\n",
       "    .dataframe tbody tr th {\n",
       "        vertical-align: top;\n",
       "    }\n",
       "\n",
       "    .dataframe thead th {\n",
       "        text-align: right;\n",
       "    }\n",
       "</style>\n",
       "<table border=\"1\" class=\"dataframe\">\n",
       "  <thead>\n",
       "    <tr style=\"text-align: right;\">\n",
       "      <th></th>\n",
       "      <th>A</th>\n",
       "      <th>B</th>\n",
       "      <th>C</th>\n",
       "      <th>D</th>\n",
       "      <th>E</th>\n",
       "    </tr>\n",
       "  </thead>\n",
       "  <tbody>\n",
       "    <tr>\n",
       "      <th>2025-01-01</th>\n",
       "      <td>0.000000</td>\n",
       "      <td>0.000000</td>\n",
       "      <td>-0.100693</td>\n",
       "      <td>5.0</td>\n",
       "      <td>1.0</td>\n",
       "    </tr>\n",
       "    <tr>\n",
       "      <th>2025-01-02</th>\n",
       "      <td>1.422598</td>\n",
       "      <td>-0.119746</td>\n",
       "      <td>-1.739588</td>\n",
       "      <td>5.0</td>\n",
       "      <td>1.0</td>\n",
       "    </tr>\n",
       "    <tr>\n",
       "      <th>2025-01-03</th>\n",
       "      <td>0.496054</td>\n",
       "      <td>2.239272</td>\n",
       "      <td>0.006799</td>\n",
       "      <td>5.0</td>\n",
       "      <td>5.0</td>\n",
       "    </tr>\n",
       "    <tr>\n",
       "      <th>2025-01-04</th>\n",
       "      <td>-0.523434</td>\n",
       "      <td>0.599437</td>\n",
       "      <td>0.523686</td>\n",
       "      <td>5.0</td>\n",
       "      <td>5.0</td>\n",
       "    </tr>\n",
       "  </tbody>\n",
       "</table>\n",
       "</div>"
      ],
      "text/plain": [
       "                   A         B         C    D    E\n",
       "2025-01-01  0.000000  0.000000 -0.100693  5.0  1.0\n",
       "2025-01-02  1.422598 -0.119746 -1.739588  5.0  1.0\n",
       "2025-01-03  0.496054  2.239272  0.006799  5.0  5.0\n",
       "2025-01-04 -0.523434  0.599437  0.523686  5.0  5.0"
      ]
     },
     "execution_count": 38,
     "metadata": {},
     "output_type": "execute_result"
    }
   ],
   "source": [
    "df1.fillna(value=5)"
   ]
  },
  {
   "cell_type": "code",
   "execution_count": 39,
   "id": "c8240646",
   "metadata": {},
   "outputs": [
    {
     "data": {
      "application/vnd.microsoft.datawrangler.viewer.v0+json": {
       "columns": [
        {
         "name": "index",
         "rawType": "datetime64[ns]",
         "type": "datetime"
        },
        {
         "name": "A",
         "rawType": "bool",
         "type": "boolean"
        },
        {
         "name": "B",
         "rawType": "bool",
         "type": "boolean"
        },
        {
         "name": "C",
         "rawType": "bool",
         "type": "boolean"
        },
        {
         "name": "D",
         "rawType": "bool",
         "type": "boolean"
        },
        {
         "name": "E",
         "rawType": "bool",
         "type": "boolean"
        }
       ],
       "ref": "a123a68d-e9d5-40e4-ad8d-730cbe8d6abf",
       "rows": [
        [
         "2025-01-01 00:00:00",
         "False",
         "False",
         "False",
         "False",
         "False"
        ],
        [
         "2025-01-02 00:00:00",
         "False",
         "False",
         "False",
         "False",
         "False"
        ],
        [
         "2025-01-03 00:00:00",
         "False",
         "False",
         "False",
         "False",
         "True"
        ],
        [
         "2025-01-04 00:00:00",
         "False",
         "False",
         "False",
         "False",
         "True"
        ]
       ],
       "shape": {
        "columns": 5,
        "rows": 4
       }
      },
      "text/html": [
       "<div>\n",
       "<style scoped>\n",
       "    .dataframe tbody tr th:only-of-type {\n",
       "        vertical-align: middle;\n",
       "    }\n",
       "\n",
       "    .dataframe tbody tr th {\n",
       "        vertical-align: top;\n",
       "    }\n",
       "\n",
       "    .dataframe thead th {\n",
       "        text-align: right;\n",
       "    }\n",
       "</style>\n",
       "<table border=\"1\" class=\"dataframe\">\n",
       "  <thead>\n",
       "    <tr style=\"text-align: right;\">\n",
       "      <th></th>\n",
       "      <th>A</th>\n",
       "      <th>B</th>\n",
       "      <th>C</th>\n",
       "      <th>D</th>\n",
       "      <th>E</th>\n",
       "    </tr>\n",
       "  </thead>\n",
       "  <tbody>\n",
       "    <tr>\n",
       "      <th>2025-01-01</th>\n",
       "      <td>False</td>\n",
       "      <td>False</td>\n",
       "      <td>False</td>\n",
       "      <td>False</td>\n",
       "      <td>False</td>\n",
       "    </tr>\n",
       "    <tr>\n",
       "      <th>2025-01-02</th>\n",
       "      <td>False</td>\n",
       "      <td>False</td>\n",
       "      <td>False</td>\n",
       "      <td>False</td>\n",
       "      <td>False</td>\n",
       "    </tr>\n",
       "    <tr>\n",
       "      <th>2025-01-03</th>\n",
       "      <td>False</td>\n",
       "      <td>False</td>\n",
       "      <td>False</td>\n",
       "      <td>False</td>\n",
       "      <td>True</td>\n",
       "    </tr>\n",
       "    <tr>\n",
       "      <th>2025-01-04</th>\n",
       "      <td>False</td>\n",
       "      <td>False</td>\n",
       "      <td>False</td>\n",
       "      <td>False</td>\n",
       "      <td>True</td>\n",
       "    </tr>\n",
       "  </tbody>\n",
       "</table>\n",
       "</div>"
      ],
      "text/plain": [
       "                A      B      C      D      E\n",
       "2025-01-01  False  False  False  False  False\n",
       "2025-01-02  False  False  False  False  False\n",
       "2025-01-03  False  False  False  False   True\n",
       "2025-01-04  False  False  False  False   True"
      ]
     },
     "execution_count": 39,
     "metadata": {},
     "output_type": "execute_result"
    }
   ],
   "source": [
    "pd.isna(df1) # returns the same shape with boolean values"
   ]
  },
  {
   "cell_type": "markdown",
   "id": "e299f030",
   "metadata": {},
   "source": [
    "# Operations"
   ]
  },
  {
   "cell_type": "code",
   "execution_count": 40,
   "id": "a8d9b2d3",
   "metadata": {},
   "outputs": [
    {
     "data": {
      "application/vnd.microsoft.datawrangler.viewer.v0+json": {
       "columns": [
        {
         "name": "index",
         "rawType": "object",
         "type": "string"
        },
        {
         "name": "0",
         "rawType": "float64",
         "type": "float"
        }
       ],
       "ref": "29f84837-13c1-40c3-873b-eb81abfe8d0c",
       "rows": [
        [
         "A",
         "0.39423970566071537"
        ],
        [
         "B",
         "0.30028498140006943"
        ],
        [
         "C",
         "0.2415877072887517"
        ],
        [
         "D",
         "5.0"
        ]
       ],
       "shape": {
        "columns": 1,
        "rows": 4
       }
      },
      "text/plain": [
       "A    0.394240\n",
       "B    0.300285\n",
       "C    0.241588\n",
       "D    5.000000\n",
       "dtype: float64"
      ]
     },
     "execution_count": 40,
     "metadata": {},
     "output_type": "execute_result"
    }
   ],
   "source": [
    "df.mean()"
   ]
  },
  {
   "cell_type": "code",
   "execution_count": null,
   "id": "22cc910a",
   "metadata": {},
   "outputs": [
    {
     "data": {
      "application/vnd.microsoft.datawrangler.viewer.v0+json": {
       "columns": [
        {
         "name": "index",
         "rawType": "datetime64[ns]",
         "type": "datetime"
        },
        {
         "name": "0",
         "rawType": "float64",
         "type": "float"
        }
       ],
       "ref": "e753d8ff-845e-47d3-b015-7ed5281d8ae8",
       "rows": [
        [
         "2025-01-01 00:00:00",
         "1.224826632381475"
        ],
        [
         "2025-01-02 00:00:00",
         "1.1408161757952853"
        ],
        [
         "2025-01-03 00:00:00",
         "1.9355311712565448"
        ],
        [
         "2025-01-04 00:00:00",
         "1.3999220337337717"
        ],
        [
         "2025-01-05 00:00:00",
         "2.1914293100277913"
        ],
        [
         "2025-01-06 00:00:00",
         "1.011643268329437"
        ]
       ],
       "shape": {
        "columns": 1,
        "rows": 6
       }
      },
      "text/plain": [
       "2025-01-01    1.224827\n",
       "2025-01-02    1.140816\n",
       "2025-01-03    1.935531\n",
       "2025-01-04    1.399922\n",
       "2025-01-05    2.191429\n",
       "2025-01-06    1.011643\n",
       "Freq: D, dtype: float64"
      ]
     },
     "execution_count": 41,
     "metadata": {},
     "output_type": "execute_result"
    }
   ],
   "source": [
    "df.mean(axis=1) # calculate the mean for each column, rarely used, unless change to pivot table"
   ]
  },
  {
   "cell_type": "code",
   "execution_count": 42,
   "id": "2f9c6bcb",
   "metadata": {},
   "outputs": [
    {
     "data": {
      "application/vnd.microsoft.datawrangler.viewer.v0+json": {
       "columns": [
        {
         "name": "index",
         "rawType": "datetime64[ns]",
         "type": "datetime"
        },
        {
         "name": "0",
         "rawType": "float64",
         "type": "float"
        }
       ],
       "ref": "fe4e3362-0005-4c5b-8e4a-482d88e0ab5c",
       "rows": [
        [
         "2025-01-01 00:00:00",
         null
        ],
        [
         "2025-01-02 00:00:00",
         null
        ],
        [
         "2025-01-03 00:00:00",
         "1.0"
        ],
        [
         "2025-01-04 00:00:00",
         "3.0"
        ],
        [
         "2025-01-05 00:00:00",
         "5.0"
        ],
        [
         "2025-01-06 00:00:00",
         null
        ]
       ],
       "shape": {
        "columns": 1,
        "rows": 6
       }
      },
      "text/plain": [
       "2025-01-01    NaN\n",
       "2025-01-02    NaN\n",
       "2025-01-03    1.0\n",
       "2025-01-04    3.0\n",
       "2025-01-05    5.0\n",
       "2025-01-06    NaN\n",
       "Freq: D, dtype: float64"
      ]
     },
     "execution_count": 42,
     "metadata": {},
     "output_type": "execute_result"
    }
   ],
   "source": [
    "s = pd.Series([1, 3, 5, np.nan, 6, 8], index=dates).shift(2)\n",
    "s"
   ]
  },
  {
   "cell_type": "code",
   "execution_count": 44,
   "id": "1d5de855",
   "metadata": {},
   "outputs": [
    {
     "data": {
      "application/vnd.microsoft.datawrangler.viewer.v0+json": {
       "columns": [
        {
         "name": "index",
         "rawType": "datetime64[ns]",
         "type": "datetime"
        },
        {
         "name": "A",
         "rawType": "float64",
         "type": "float"
        },
        {
         "name": "B",
         "rawType": "float64",
         "type": "float"
        },
        {
         "name": "C",
         "rawType": "float64",
         "type": "float"
        },
        {
         "name": "D",
         "rawType": "float64",
         "type": "float"
        }
       ],
       "ref": "7ef944c6-6353-4627-b9cf-25024931ce9b",
       "rows": [
        [
         "2025-01-01 00:00:00",
         null,
         null,
         null,
         null
        ],
        [
         "2025-01-02 00:00:00",
         null,
         null,
         null,
         null
        ],
        [
         "2025-01-03 00:00:00",
         "-0.5039461509468883",
         "1.2392721286302022",
         "-0.9932012926571344",
         "4.0"
        ],
        [
         "2025-01-04 00:00:00",
         "-3.5234344763106247",
         "-2.4005628956135574",
         "-2.4763144931407317",
         "2.0"
        ],
        [
         "2025-01-05 00:00:00",
         "-3.9339938815993585",
         "-4.506065930505611",
         "-2.7942229477838656",
         "0.0"
        ],
        [
         "2025-01-06 00:00:00",
         null,
         null,
         null,
         null
        ]
       ],
       "shape": {
        "columns": 4,
        "rows": 6
       }
      },
      "text/html": [
       "<div>\n",
       "<style scoped>\n",
       "    .dataframe tbody tr th:only-of-type {\n",
       "        vertical-align: middle;\n",
       "    }\n",
       "\n",
       "    .dataframe tbody tr th {\n",
       "        vertical-align: top;\n",
       "    }\n",
       "\n",
       "    .dataframe thead th {\n",
       "        text-align: right;\n",
       "    }\n",
       "</style>\n",
       "<table border=\"1\" class=\"dataframe\">\n",
       "  <thead>\n",
       "    <tr style=\"text-align: right;\">\n",
       "      <th></th>\n",
       "      <th>A</th>\n",
       "      <th>B</th>\n",
       "      <th>C</th>\n",
       "      <th>D</th>\n",
       "    </tr>\n",
       "  </thead>\n",
       "  <tbody>\n",
       "    <tr>\n",
       "      <th>2025-01-01</th>\n",
       "      <td>NaN</td>\n",
       "      <td>NaN</td>\n",
       "      <td>NaN</td>\n",
       "      <td>NaN</td>\n",
       "    </tr>\n",
       "    <tr>\n",
       "      <th>2025-01-02</th>\n",
       "      <td>NaN</td>\n",
       "      <td>NaN</td>\n",
       "      <td>NaN</td>\n",
       "      <td>NaN</td>\n",
       "    </tr>\n",
       "    <tr>\n",
       "      <th>2025-01-03</th>\n",
       "      <td>-0.503946</td>\n",
       "      <td>1.239272</td>\n",
       "      <td>-0.993201</td>\n",
       "      <td>4.0</td>\n",
       "    </tr>\n",
       "    <tr>\n",
       "      <th>2025-01-04</th>\n",
       "      <td>-3.523434</td>\n",
       "      <td>-2.400563</td>\n",
       "      <td>-2.476314</td>\n",
       "      <td>2.0</td>\n",
       "    </tr>\n",
       "    <tr>\n",
       "      <th>2025-01-05</th>\n",
       "      <td>-3.933994</td>\n",
       "      <td>-4.506066</td>\n",
       "      <td>-2.794223</td>\n",
       "      <td>0.0</td>\n",
       "    </tr>\n",
       "    <tr>\n",
       "      <th>2025-01-06</th>\n",
       "      <td>NaN</td>\n",
       "      <td>NaN</td>\n",
       "      <td>NaN</td>\n",
       "      <td>NaN</td>\n",
       "    </tr>\n",
       "  </tbody>\n",
       "</table>\n",
       "</div>"
      ],
      "text/plain": [
       "                   A         B         C    D\n",
       "2025-01-01       NaN       NaN       NaN  NaN\n",
       "2025-01-02       NaN       NaN       NaN  NaN\n",
       "2025-01-03 -0.503946  1.239272 -0.993201  4.0\n",
       "2025-01-04 -3.523434 -2.400563 -2.476314  2.0\n",
       "2025-01-05 -3.933994 -4.506066 -2.794223  0.0\n",
       "2025-01-06       NaN       NaN       NaN  NaN"
      ]
     },
     "execution_count": 44,
     "metadata": {},
     "output_type": "execute_result"
    }
   ],
   "source": [
    "df.sub(s, axis=\"index\")"
   ]
  },
  {
   "cell_type": "code",
   "execution_count": 48,
   "id": "3b79c86b",
   "metadata": {},
   "outputs": [
    {
     "data": {
      "application/vnd.microsoft.datawrangler.viewer.v0+json": {
       "columns": [
        {
         "name": "index",
         "rawType": "datetime64[ns]",
         "type": "datetime"
        },
        {
         "name": "A",
         "rawType": "float64",
         "type": "float"
        },
        {
         "name": "B",
         "rawType": "float64",
         "type": "float"
        },
        {
         "name": "C",
         "rawType": "float64",
         "type": "float"
        },
        {
         "name": "D",
         "rawType": "float64",
         "type": "float"
        }
       ],
       "ref": "5ca3d3ab-95a9-48d1-a4c8-0ac4f5be518e",
       "rows": [
        [
         "2025-01-01 00:00:00",
         "0.0",
         "0.0",
         "-0.10069347047410071",
         "5.0"
        ],
        [
         "2025-01-02 00:00:00",
         "1.4225982851989984",
         "-0.1197455642160526",
         "-1.7395880178018048",
         "5.0"
        ],
        [
         "2025-01-03 00:00:00",
         "0.49605384905311173",
         "2.239272128630202",
         "0.0067987073428655955",
         "5.0"
        ],
        [
         "2025-01-04 00:00:00",
         "-0.5234344763106245",
         "0.5994371043864426",
         "0.5236855068592682",
         "5.0"
        ],
        [
         "2025-01-05 00:00:00",
         "1.0660061184006415",
         "0.4939340694943893",
         "2.2057770522161344",
         "5.0"
        ],
        [
         "2025-01-06 00:00:00",
         "-0.09578554237783489",
         "-1.411187849894565",
         "0.5535464655901476",
         "5.0"
        ]
       ],
       "shape": {
        "columns": 4,
        "rows": 6
       }
      },
      "text/html": [
       "<div>\n",
       "<style scoped>\n",
       "    .dataframe tbody tr th:only-of-type {\n",
       "        vertical-align: middle;\n",
       "    }\n",
       "\n",
       "    .dataframe tbody tr th {\n",
       "        vertical-align: top;\n",
       "    }\n",
       "\n",
       "    .dataframe thead th {\n",
       "        text-align: right;\n",
       "    }\n",
       "</style>\n",
       "<table border=\"1\" class=\"dataframe\">\n",
       "  <thead>\n",
       "    <tr style=\"text-align: right;\">\n",
       "      <th></th>\n",
       "      <th>A</th>\n",
       "      <th>B</th>\n",
       "      <th>C</th>\n",
       "      <th>D</th>\n",
       "    </tr>\n",
       "  </thead>\n",
       "  <tbody>\n",
       "    <tr>\n",
       "      <th>2025-01-01</th>\n",
       "      <td>0.000000</td>\n",
       "      <td>0.000000</td>\n",
       "      <td>-0.100693</td>\n",
       "      <td>5.0</td>\n",
       "    </tr>\n",
       "    <tr>\n",
       "      <th>2025-01-02</th>\n",
       "      <td>1.422598</td>\n",
       "      <td>-0.119746</td>\n",
       "      <td>-1.739588</td>\n",
       "      <td>5.0</td>\n",
       "    </tr>\n",
       "    <tr>\n",
       "      <th>2025-01-03</th>\n",
       "      <td>0.496054</td>\n",
       "      <td>2.239272</td>\n",
       "      <td>0.006799</td>\n",
       "      <td>5.0</td>\n",
       "    </tr>\n",
       "    <tr>\n",
       "      <th>2025-01-04</th>\n",
       "      <td>-0.523434</td>\n",
       "      <td>0.599437</td>\n",
       "      <td>0.523686</td>\n",
       "      <td>5.0</td>\n",
       "    </tr>\n",
       "    <tr>\n",
       "      <th>2025-01-05</th>\n",
       "      <td>1.066006</td>\n",
       "      <td>0.493934</td>\n",
       "      <td>2.205777</td>\n",
       "      <td>5.0</td>\n",
       "    </tr>\n",
       "    <tr>\n",
       "      <th>2025-01-06</th>\n",
       "      <td>-0.095786</td>\n",
       "      <td>-1.411188</td>\n",
       "      <td>0.553546</td>\n",
       "      <td>5.0</td>\n",
       "    </tr>\n",
       "  </tbody>\n",
       "</table>\n",
       "</div>"
      ],
      "text/plain": [
       "                   A         B         C    D\n",
       "2025-01-01  0.000000  0.000000 -0.100693  5.0\n",
       "2025-01-02  1.422598 -0.119746 -1.739588  5.0\n",
       "2025-01-03  0.496054  2.239272  0.006799  5.0\n",
       "2025-01-04 -0.523434  0.599437  0.523686  5.0\n",
       "2025-01-05  1.066006  0.493934  2.205777  5.0\n",
       "2025-01-06 -0.095786 -1.411188  0.553546  5.0"
      ]
     },
     "execution_count": 48,
     "metadata": {},
     "output_type": "execute_result"
    }
   ],
   "source": [
    "df"
   ]
  },
  {
   "cell_type": "markdown",
   "id": "18c5b153",
   "metadata": {},
   "source": [
    "# agg vs transform vs apply\n",
    "- agg - returns a **reduced** version of the data - one result per group.\n",
    "- transform - returns a **full-sized** version of the data, with the same shape and index as the original\n",
    "- apply - most flexible and can return a reduced, full-sized, or entirely different version"
   ]
  },
  {
   "cell_type": "code",
   "execution_count": 52,
   "id": "d4342a35",
   "metadata": {},
   "outputs": [
    {
     "data": {
      "application/vnd.microsoft.datawrangler.viewer.v0+json": {
       "columns": [
        {
         "name": "index",
         "rawType": "int64",
         "type": "integer"
        },
        {
         "name": "Team",
         "rawType": "object",
         "type": "string"
        },
        {
         "name": "Score",
         "rawType": "int64",
         "type": "integer"
        },
        {
         "name": "Assists",
         "rawType": "int64",
         "type": "integer"
        }
       ],
       "ref": "95352102-a1d1-447e-8857-318944cab4ae",
       "rows": [
        [
         "0",
         "A",
         "10",
         "2"
        ],
        [
         "1",
         "A",
         "15",
         "5"
        ],
        [
         "2",
         "B",
         "20",
         "8"
        ],
        [
         "3",
         "B",
         "22",
         "6"
        ],
        [
         "4",
         "B",
         "18",
         "7"
        ],
        [
         "5",
         "C",
         "5",
         "1"
        ]
       ],
       "shape": {
        "columns": 3,
        "rows": 6
       }
      },
      "text/html": [
       "<div>\n",
       "<style scoped>\n",
       "    .dataframe tbody tr th:only-of-type {\n",
       "        vertical-align: middle;\n",
       "    }\n",
       "\n",
       "    .dataframe tbody tr th {\n",
       "        vertical-align: top;\n",
       "    }\n",
       "\n",
       "    .dataframe thead th {\n",
       "        text-align: right;\n",
       "    }\n",
       "</style>\n",
       "<table border=\"1\" class=\"dataframe\">\n",
       "  <thead>\n",
       "    <tr style=\"text-align: right;\">\n",
       "      <th></th>\n",
       "      <th>Team</th>\n",
       "      <th>Score</th>\n",
       "      <th>Assists</th>\n",
       "    </tr>\n",
       "  </thead>\n",
       "  <tbody>\n",
       "    <tr>\n",
       "      <th>0</th>\n",
       "      <td>A</td>\n",
       "      <td>10</td>\n",
       "      <td>2</td>\n",
       "    </tr>\n",
       "    <tr>\n",
       "      <th>1</th>\n",
       "      <td>A</td>\n",
       "      <td>15</td>\n",
       "      <td>5</td>\n",
       "    </tr>\n",
       "    <tr>\n",
       "      <th>2</th>\n",
       "      <td>B</td>\n",
       "      <td>20</td>\n",
       "      <td>8</td>\n",
       "    </tr>\n",
       "    <tr>\n",
       "      <th>3</th>\n",
       "      <td>B</td>\n",
       "      <td>22</td>\n",
       "      <td>6</td>\n",
       "    </tr>\n",
       "    <tr>\n",
       "      <th>4</th>\n",
       "      <td>B</td>\n",
       "      <td>18</td>\n",
       "      <td>7</td>\n",
       "    </tr>\n",
       "    <tr>\n",
       "      <th>5</th>\n",
       "      <td>C</td>\n",
       "      <td>5</td>\n",
       "      <td>1</td>\n",
       "    </tr>\n",
       "  </tbody>\n",
       "</table>\n",
       "</div>"
      ],
      "text/plain": [
       "  Team  Score  Assists\n",
       "0    A     10        2\n",
       "1    A     15        5\n",
       "2    B     20        8\n",
       "3    B     22        6\n",
       "4    B     18        7\n",
       "5    C      5        1"
      ]
     },
     "execution_count": 52,
     "metadata": {},
     "output_type": "execute_result"
    }
   ],
   "source": [
    "df_x = pd.DataFrame({\n",
    "    \"Team\": [\"A\", \"A\", \"B\", \"B\", \"B\", \"C\"],\n",
    "    \"Score\": [10, 15, 20, 22, 18, 5],\n",
    "    \"Assists\": [2, 5, 8, 6, 7, 1]\n",
    "})\n",
    "df_x"
   ]
  },
  {
   "cell_type": "markdown",
   "id": "c62fe28e",
   "metadata": {},
   "source": [
    "#### agg() (or aggregation())\n",
    "- The agg() method is used to perform one or more aggregation functions on grouped data. It reduces the data by computing a summary statistic for each group.\n",
    "- What it does: summarizes each group into a single value (or one value per function).\n",
    "- Output Shape: A new DataFrame or Series with an index based on the group names. The size is equal to the number of groups.\n",
    "- Best for: Calculating summary statistics like sum(), mean(), count(), min(), max(), etc., for each group."
   ]
  },
  {
   "cell_type": "code",
   "execution_count": null,
   "id": "621ec261",
   "metadata": {},
   "outputs": [
    {
     "data": {
      "application/vnd.microsoft.datawrangler.viewer.v0+json": {
       "columns": [
        {
         "name": "Team",
         "rawType": "object",
         "type": "string"
        },
        {
         "name": "Score",
         "rawType": "int64",
         "type": "integer"
        }
       ],
       "ref": "08dffbc1-a945-4827-a2b2-28cc3fd872fb",
       "rows": [
        [
         "A",
         "25"
        ],
        [
         "B",
         "60"
        ],
        [
         "C",
         "5"
        ]
       ],
       "shape": {
        "columns": 1,
        "rows": 3
       }
      },
      "text/plain": [
       "Team\n",
       "A    25\n",
       "B    60\n",
       "C     5\n",
       "Name: Score, dtype: int64"
      ]
     },
     "execution_count": 53,
     "metadata": {},
     "output_type": "execute_result"
    }
   ],
   "source": [
    "# total score for each team\n",
    "team_sum = df_x.groupby(\"Team\")[\"Score\"].agg(\"sum\")\n",
    "team_sum"
   ]
  },
  {
   "cell_type": "markdown",
   "id": "0ab9e1e0",
   "metadata": {},
   "source": [
    "#### transform()\n",
    "- The transform() method performs a group-specific computation and then broadcasts the result back to each row of the original DataFrame. It transforms each value in the context of its group.\n",
    "- What it does: Returns a Series or DataFrame with the same index and shape as the original. Each row's value is the result of the group-wise calculation.\n",
    "- Output Shape: Exactly the same shape and index as the object it was called on.\n",
    "- Best For: Feature engineering, such as calculating a group-wise Z score, or filling missing values with the group's mean"
   ]
  },
  {
   "cell_type": "code",
   "execution_count": null,
   "id": "8ef6dced",
   "metadata": {},
   "outputs": [
    {
     "data": {
      "application/vnd.microsoft.datawrangler.viewer.v0+json": {
       "columns": [
        {
         "name": "index",
         "rawType": "int64",
         "type": "integer"
        },
        {
         "name": "Team",
         "rawType": "object",
         "type": "string"
        },
        {
         "name": "Score",
         "rawType": "int64",
         "type": "integer"
        },
        {
         "name": "Assists",
         "rawType": "int64",
         "type": "integer"
        },
        {
         "name": "Team_Avg_Score",
         "rawType": "float64",
         "type": "float"
        }
       ],
       "ref": "0e8e4f8b-6bc4-4e7a-9b30-2a16df3a5720",
       "rows": [
        [
         "0",
         "A",
         "10",
         "2",
         "12.5"
        ],
        [
         "1",
         "A",
         "15",
         "5",
         "12.5"
        ],
        [
         "2",
         "B",
         "20",
         "8",
         "20.0"
        ],
        [
         "3",
         "B",
         "22",
         "6",
         "20.0"
        ],
        [
         "4",
         "B",
         "18",
         "7",
         "20.0"
        ],
        [
         "5",
         "C",
         "5",
         "1",
         "5.0"
        ]
       ],
       "shape": {
        "columns": 4,
        "rows": 6
       }
      },
      "text/html": [
       "<div>\n",
       "<style scoped>\n",
       "    .dataframe tbody tr th:only-of-type {\n",
       "        vertical-align: middle;\n",
       "    }\n",
       "\n",
       "    .dataframe tbody tr th {\n",
       "        vertical-align: top;\n",
       "    }\n",
       "\n",
       "    .dataframe thead th {\n",
       "        text-align: right;\n",
       "    }\n",
       "</style>\n",
       "<table border=\"1\" class=\"dataframe\">\n",
       "  <thead>\n",
       "    <tr style=\"text-align: right;\">\n",
       "      <th></th>\n",
       "      <th>Team</th>\n",
       "      <th>Score</th>\n",
       "      <th>Assists</th>\n",
       "      <th>Team_Avg_Score</th>\n",
       "    </tr>\n",
       "  </thead>\n",
       "  <tbody>\n",
       "    <tr>\n",
       "      <th>0</th>\n",
       "      <td>A</td>\n",
       "      <td>10</td>\n",
       "      <td>2</td>\n",
       "      <td>12.5</td>\n",
       "    </tr>\n",
       "    <tr>\n",
       "      <th>1</th>\n",
       "      <td>A</td>\n",
       "      <td>15</td>\n",
       "      <td>5</td>\n",
       "      <td>12.5</td>\n",
       "    </tr>\n",
       "    <tr>\n",
       "      <th>2</th>\n",
       "      <td>B</td>\n",
       "      <td>20</td>\n",
       "      <td>8</td>\n",
       "      <td>20.0</td>\n",
       "    </tr>\n",
       "    <tr>\n",
       "      <th>3</th>\n",
       "      <td>B</td>\n",
       "      <td>22</td>\n",
       "      <td>6</td>\n",
       "      <td>20.0</td>\n",
       "    </tr>\n",
       "    <tr>\n",
       "      <th>4</th>\n",
       "      <td>B</td>\n",
       "      <td>18</td>\n",
       "      <td>7</td>\n",
       "      <td>20.0</td>\n",
       "    </tr>\n",
       "    <tr>\n",
       "      <th>5</th>\n",
       "      <td>C</td>\n",
       "      <td>5</td>\n",
       "      <td>1</td>\n",
       "      <td>5.0</td>\n",
       "    </tr>\n",
       "  </tbody>\n",
       "</table>\n",
       "</div>"
      ],
      "text/plain": [
       "  Team  Score  Assists  Team_Avg_Score\n",
       "0    A     10        2            12.5\n",
       "1    A     15        5            12.5\n",
       "2    B     20        8            20.0\n",
       "3    B     22        6            20.0\n",
       "4    B     18        7            20.0\n",
       "5    C      5        1             5.0"
      ]
     },
     "execution_count": 54,
     "metadata": {},
     "output_type": "execute_result"
    }
   ],
   "source": [
    "# Get the mean score for each team and display it new column for that corresponding teacm\n",
    "df_x[\"Team_Avg_Score\"] = df_x.groupby(\"Team\")[\"Score\"].transform(\"mean\") \n",
    "df_x\n",
    "# Notice how transform() returned a Series with 6 items, perfectly aligning with the original DataFrame's index.\n",
    "# This makes it ideal for creating new columns based on group properties."
   ]
  },
  {
   "cell_type": "markdown",
   "id": "219c1eba",
   "metadata": {},
   "source": [
    "#### apply()\n",
    "- The apply() method is the most flexible and general-purpose of the three. It applies a function to each group as a whole (as a DataFrame or Series) and then peices the results back together.\n",
    "- What it does: can behave like agg() or transform(), or perform much more complex operations that don't fit into the other two categories.\n",
    "- Output Shape: Flexible. The shape of the output depends entirely on what the applied function returns. It can be a scalar, a Series, or a DataFrame.\n",
    "- Best for: Complex, custom functions that need to operate on the entire group's data at once. It's powerful but offen slower than agg() or transform()."
   ]
  },
  {
   "cell_type": "code",
   "execution_count": 55,
   "id": "8ec3fc89",
   "metadata": {},
   "outputs": [
    {
     "data": {
      "application/vnd.microsoft.datawrangler.viewer.v0+json": {
       "columns": [
        {
         "name": "Team",
         "rawType": "object",
         "type": "string"
        },
        {
         "name": "Score",
         "rawType": "int64",
         "type": "integer"
        }
       ],
       "ref": "183433d9-faff-42d0-8cf7-c1b1b33068df",
       "rows": [
        [
         "A",
         "5"
        ],
        [
         "B",
         "4"
        ],
        [
         "C",
         "0"
        ]
       ],
       "shape": {
        "columns": 1,
        "rows": 3
       }
      },
      "text/plain": [
       "Team\n",
       "A    5\n",
       "B    4\n",
       "C    0\n",
       "Name: Score, dtype: int64"
      ]
     },
     "execution_count": 55,
     "metadata": {},
     "output_type": "execute_result"
    }
   ],
   "source": [
    "# Find the range (max- min) of scores for each team.\n",
    "score_range = df_x.groupby(\"Team\")[\"Score\"].apply(lambda x: x.max() - x.min())\n",
    "score_range"
   ]
  },
  {
   "cell_type": "code",
   "execution_count": 56,
   "id": "703498a6",
   "metadata": {},
   "outputs": [
    {
     "name": "stderr",
     "output_type": "stream",
     "text": [
      "C:\\Users\\thotc\\AppData\\Local\\Temp\\ipykernel_61588\\1905186215.py:2: DeprecationWarning: DataFrameGroupBy.apply operated on the grouping columns. This behavior is deprecated, and in a future version of pandas the grouping columns will be excluded from the operation. Either pass `include_groups=False` to exclude the groupings or explicitly select the grouping columns after groupby to silence this warning.\n",
      "  df_x[\"Team_Rank\"] = df_x.groupby(\"Team\").apply(\n"
     ]
    },
    {
     "data": {
      "application/vnd.microsoft.datawrangler.viewer.v0+json": {
       "columns": [
        {
         "name": "index",
         "rawType": "int64",
         "type": "integer"
        },
        {
         "name": "Team",
         "rawType": "object",
         "type": "string"
        },
        {
         "name": "Score",
         "rawType": "int64",
         "type": "integer"
        },
        {
         "name": "Assists",
         "rawType": "int64",
         "type": "integer"
        },
        {
         "name": "Team_Avg_Score",
         "rawType": "float64",
         "type": "float"
        },
        {
         "name": "Team_Rank",
         "rawType": "float64",
         "type": "float"
        }
       ],
       "ref": "150a232c-2fc1-4df0-9796-185480869228",
       "rows": [
        [
         "0",
         "A",
         "10",
         "2",
         "12.5",
         "2.0"
        ],
        [
         "1",
         "A",
         "15",
         "5",
         "12.5",
         "1.0"
        ],
        [
         "2",
         "B",
         "20",
         "8",
         "20.0",
         "2.0"
        ],
        [
         "3",
         "B",
         "22",
         "6",
         "20.0",
         "1.0"
        ],
        [
         "4",
         "B",
         "18",
         "7",
         "20.0",
         "3.0"
        ],
        [
         "5",
         "C",
         "5",
         "1",
         "5.0",
         "1.0"
        ]
       ],
       "shape": {
        "columns": 5,
        "rows": 6
       }
      },
      "text/html": [
       "<div>\n",
       "<style scoped>\n",
       "    .dataframe tbody tr th:only-of-type {\n",
       "        vertical-align: middle;\n",
       "    }\n",
       "\n",
       "    .dataframe tbody tr th {\n",
       "        vertical-align: top;\n",
       "    }\n",
       "\n",
       "    .dataframe thead th {\n",
       "        text-align: right;\n",
       "    }\n",
       "</style>\n",
       "<table border=\"1\" class=\"dataframe\">\n",
       "  <thead>\n",
       "    <tr style=\"text-align: right;\">\n",
       "      <th></th>\n",
       "      <th>Team</th>\n",
       "      <th>Score</th>\n",
       "      <th>Assists</th>\n",
       "      <th>Team_Avg_Score</th>\n",
       "      <th>Team_Rank</th>\n",
       "    </tr>\n",
       "  </thead>\n",
       "  <tbody>\n",
       "    <tr>\n",
       "      <th>0</th>\n",
       "      <td>A</td>\n",
       "      <td>10</td>\n",
       "      <td>2</td>\n",
       "      <td>12.5</td>\n",
       "      <td>2.0</td>\n",
       "    </tr>\n",
       "    <tr>\n",
       "      <th>1</th>\n",
       "      <td>A</td>\n",
       "      <td>15</td>\n",
       "      <td>5</td>\n",
       "      <td>12.5</td>\n",
       "      <td>1.0</td>\n",
       "    </tr>\n",
       "    <tr>\n",
       "      <th>2</th>\n",
       "      <td>B</td>\n",
       "      <td>20</td>\n",
       "      <td>8</td>\n",
       "      <td>20.0</td>\n",
       "      <td>2.0</td>\n",
       "    </tr>\n",
       "    <tr>\n",
       "      <th>3</th>\n",
       "      <td>B</td>\n",
       "      <td>22</td>\n",
       "      <td>6</td>\n",
       "      <td>20.0</td>\n",
       "      <td>1.0</td>\n",
       "    </tr>\n",
       "    <tr>\n",
       "      <th>4</th>\n",
       "      <td>B</td>\n",
       "      <td>18</td>\n",
       "      <td>7</td>\n",
       "      <td>20.0</td>\n",
       "      <td>3.0</td>\n",
       "    </tr>\n",
       "    <tr>\n",
       "      <th>5</th>\n",
       "      <td>C</td>\n",
       "      <td>5</td>\n",
       "      <td>1</td>\n",
       "      <td>5.0</td>\n",
       "      <td>1.0</td>\n",
       "    </tr>\n",
       "  </tbody>\n",
       "</table>\n",
       "</div>"
      ],
      "text/plain": [
       "  Team  Score  Assists  Team_Avg_Score  Team_Rank\n",
       "0    A     10        2            12.5        2.0\n",
       "1    A     15        5            12.5        1.0\n",
       "2    B     20        8            20.0        2.0\n",
       "3    B     22        6            20.0        1.0\n",
       "4    B     18        7            20.0        3.0\n",
       "5    C      5        1             5.0        1.0"
      ]
     },
     "execution_count": 56,
     "metadata": {},
     "output_type": "execute_result"
    }
   ],
   "source": [
    "# Create a new column that ranks players by score, but the ranking is within their team. (difficult with agg() or transform())\n",
    "df_x[\"Team_Rank\"] = df_x.groupby(\"Team\").apply(\n",
    "    lambda x: x[\"Score\"].rank(ascending=False)\n",
    ").reset_index(level=0, drop=True) # Dropping multi-index for clean assignment\n",
    "df_x"
   ]
  },
  {
   "cell_type": "code",
   "execution_count": null,
   "id": "ab048e1e",
   "metadata": {},
   "outputs": [
    {
     "data": {
      "application/vnd.microsoft.datawrangler.viewer.v0+json": {
       "columns": [
        {
         "name": "index",
         "rawType": "object",
         "type": "string"
        },
        {
         "name": "0",
         "rawType": "float64",
         "type": "float"
        }
       ],
       "ref": "8cce746b-51a1-4aa8-a8cf-b855b7cc29de",
       "rows": [
        [
         "A",
         "2.207742351700006"
        ],
        [
         "B",
         "1.6815958958403887"
        ],
        [
         "C",
         "1.3528911608170096"
        ],
        [
         "D",
         "28.0"
        ]
       ],
       "shape": {
        "columns": 1,
        "rows": 4
       }
      },
      "text/plain": [
       "A     2.207742\n",
       "B     1.681596\n",
       "C     1.352891\n",
       "D    28.000000\n",
       "dtype: float64"
      ]
     },
     "execution_count": 49,
     "metadata": {},
     "output_type": "execute_result"
    }
   ],
   "source": [
    "df.agg(lambda x: np.mean(x) * 5.6) # default axis = 0"
   ]
  },
  {
   "cell_type": "code",
   "execution_count": 46,
   "id": "d8355bc2",
   "metadata": {},
   "outputs": [
    {
     "data": {
      "application/vnd.microsoft.datawrangler.viewer.v0+json": {
       "columns": [
        {
         "name": "index",
         "rawType": "datetime64[ns]",
         "type": "datetime"
        },
        {
         "name": "A",
         "rawType": "float64",
         "type": "float"
        },
        {
         "name": "B",
         "rawType": "float64",
         "type": "float"
        },
        {
         "name": "C",
         "rawType": "float64",
         "type": "float"
        },
        {
         "name": "D",
         "rawType": "float64",
         "type": "float"
        }
       ],
       "ref": "bde4c16d-f864-4c8d-98f7-933040510de0",
       "rows": [
        [
         "2025-01-01 00:00:00",
         "0.0",
         "0.0",
         "-10.190179211978991",
         "506.0"
        ],
        [
         "2025-01-02 00:00:00",
         "143.96694646213865",
         "-12.118251098664524",
         "-176.04630740154266",
         "506.0"
        ],
        [
         "2025-01-03 00:00:00",
         "50.200649524174906",
         "226.61433941737647",
         "0.6880291830979983",
         "506.0"
        ],
        [
         "2025-01-04 00:00:00",
         "-52.9715690026352",
         "60.66303496390799",
         "52.99697329415794",
         "506.0"
        ],
        [
         "2025-01-05 00:00:00",
         "107.87981918214493",
         "49.986127832832196",
         "223.2246376842728",
         "506.0"
        ],
        [
         "2025-01-06 00:00:00",
         "-9.693496888636892",
         "-142.81221040932996",
         "56.01890231772294",
         "506.0"
        ]
       ],
       "shape": {
        "columns": 4,
        "rows": 6
       }
      },
      "text/html": [
       "<div>\n",
       "<style scoped>\n",
       "    .dataframe tbody tr th:only-of-type {\n",
       "        vertical-align: middle;\n",
       "    }\n",
       "\n",
       "    .dataframe tbody tr th {\n",
       "        vertical-align: top;\n",
       "    }\n",
       "\n",
       "    .dataframe thead th {\n",
       "        text-align: right;\n",
       "    }\n",
       "</style>\n",
       "<table border=\"1\" class=\"dataframe\">\n",
       "  <thead>\n",
       "    <tr style=\"text-align: right;\">\n",
       "      <th></th>\n",
       "      <th>A</th>\n",
       "      <th>B</th>\n",
       "      <th>C</th>\n",
       "      <th>D</th>\n",
       "    </tr>\n",
       "  </thead>\n",
       "  <tbody>\n",
       "    <tr>\n",
       "      <th>2025-01-01</th>\n",
       "      <td>0.000000</td>\n",
       "      <td>0.000000</td>\n",
       "      <td>-10.190179</td>\n",
       "      <td>506.0</td>\n",
       "    </tr>\n",
       "    <tr>\n",
       "      <th>2025-01-02</th>\n",
       "      <td>143.966946</td>\n",
       "      <td>-12.118251</td>\n",
       "      <td>-176.046307</td>\n",
       "      <td>506.0</td>\n",
       "    </tr>\n",
       "    <tr>\n",
       "      <th>2025-01-03</th>\n",
       "      <td>50.200650</td>\n",
       "      <td>226.614339</td>\n",
       "      <td>0.688029</td>\n",
       "      <td>506.0</td>\n",
       "    </tr>\n",
       "    <tr>\n",
       "      <th>2025-01-04</th>\n",
       "      <td>-52.971569</td>\n",
       "      <td>60.663035</td>\n",
       "      <td>52.996973</td>\n",
       "      <td>506.0</td>\n",
       "    </tr>\n",
       "    <tr>\n",
       "      <th>2025-01-05</th>\n",
       "      <td>107.879819</td>\n",
       "      <td>49.986128</td>\n",
       "      <td>223.224638</td>\n",
       "      <td>506.0</td>\n",
       "    </tr>\n",
       "    <tr>\n",
       "      <th>2025-01-06</th>\n",
       "      <td>-9.693497</td>\n",
       "      <td>-142.812210</td>\n",
       "      <td>56.018902</td>\n",
       "      <td>506.0</td>\n",
       "    </tr>\n",
       "  </tbody>\n",
       "</table>\n",
       "</div>"
      ],
      "text/plain": [
       "                     A           B           C      D\n",
       "2025-01-01    0.000000    0.000000  -10.190179  506.0\n",
       "2025-01-02  143.966946  -12.118251 -176.046307  506.0\n",
       "2025-01-03   50.200650  226.614339    0.688029  506.0\n",
       "2025-01-04  -52.971569   60.663035   52.996973  506.0\n",
       "2025-01-05  107.879819   49.986128  223.224638  506.0\n",
       "2025-01-06   -9.693497 -142.812210   56.018902  506.0"
      ]
     },
     "execution_count": 46,
     "metadata": {},
     "output_type": "execute_result"
    }
   ],
   "source": [
    "df.transform(lambda x: x * 101.2)"
   ]
  },
  {
   "cell_type": "code",
   "execution_count": 58,
   "id": "d4cfa9c8",
   "metadata": {},
   "outputs": [
    {
     "data": {
      "application/vnd.microsoft.datawrangler.viewer.v0+json": {
       "columns": [
        {
         "name": "index",
         "rawType": "int64",
         "type": "integer"
        },
        {
         "name": "0",
         "rawType": "int32",
         "type": "integer"
        }
       ],
       "ref": "3463206c-7b7b-4bd5-b818-596308b2658b",
       "rows": [
        [
         "0",
         "0"
        ],
        [
         "1",
         "2"
        ],
        [
         "2",
         "3"
        ],
        [
         "3",
         "2"
        ],
        [
         "4",
         "2"
        ],
        [
         "5",
         "1"
        ],
        [
         "6",
         "1"
        ],
        [
         "7",
         "2"
        ],
        [
         "8",
         "0"
        ],
        [
         "9",
         "2"
        ]
       ],
       "shape": {
        "columns": 1,
        "rows": 10
       }
      },
      "text/plain": [
       "0    0\n",
       "1    2\n",
       "2    3\n",
       "3    2\n",
       "4    2\n",
       "5    1\n",
       "6    1\n",
       "7    2\n",
       "8    0\n",
       "9    2\n",
       "dtype: int32"
      ]
     },
     "execution_count": 58,
     "metadata": {},
     "output_type": "execute_result"
    }
   ],
   "source": [
    "s = pd.Series(np.random.randint(0, 7, size=10))\n",
    "s"
   ]
  },
  {
   "cell_type": "code",
   "execution_count": null,
   "id": "628742f1",
   "metadata": {},
   "outputs": [
    {
     "data": {
      "application/vnd.microsoft.datawrangler.viewer.v0+json": {
       "columns": [
        {
         "name": "index",
         "rawType": "int32",
         "type": "integer"
        },
        {
         "name": "count",
         "rawType": "int64",
         "type": "integer"
        }
       ],
       "ref": "d945d86e-7066-4ecc-ae18-ae545a1caf13",
       "rows": [
        [
         "2",
         "5"
        ],
        [
         "0",
         "2"
        ],
        [
         "1",
         "2"
        ],
        [
         "3",
         "1"
        ]
       ],
       "shape": {
        "columns": 1,
        "rows": 4
       }
      },
      "text/plain": [
       "2    5\n",
       "0    2\n",
       "1    2\n",
       "3    1\n",
       "Name: count, dtype: int64"
      ]
     },
     "execution_count": 60,
     "metadata": {},
     "output_type": "execute_result"
    }
   ],
   "source": [
    "s.value_counts() # Count frequency of unique values - good for distribuation of categorial or discrete data"
   ]
  },
  {
   "cell_type": "code",
   "execution_count": null,
   "id": "757d08d0",
   "metadata": {},
   "outputs": [
    {
     "data": {
      "text/plain": [
       "np.int64(10)"
      ]
     },
     "execution_count": 61,
     "metadata": {},
     "output_type": "execute_result"
    }
   ],
   "source": [
    "s.count() # Counts each non-null (non-missing) values"
   ]
  },
  {
   "cell_type": "code",
   "execution_count": 62,
   "id": "29eaf736",
   "metadata": {},
   "outputs": [
    {
     "data": {
      "application/vnd.microsoft.datawrangler.viewer.v0+json": {
       "columns": [
        {
         "name": "index",
         "rawType": "int64",
         "type": "integer"
        },
        {
         "name": "0",
         "rawType": "object",
         "type": "unknown"
        }
       ],
       "ref": "2bab878f-d87d-4da6-80c4-9344abb908b6",
       "rows": [
        [
         "0",
         "a"
        ],
        [
         "1",
         "b"
        ],
        [
         "2",
         "c"
        ],
        [
         "3",
         "aaba"
        ],
        [
         "4",
         "baca"
        ],
        [
         "5",
         null
        ],
        [
         "6",
         "caba"
        ],
        [
         "7",
         "dog"
        ],
        [
         "8",
         "cat"
        ]
       ],
       "shape": {
        "columns": 1,
        "rows": 9
       }
      },
      "text/plain": [
       "0       a\n",
       "1       b\n",
       "2       c\n",
       "3    aaba\n",
       "4    baca\n",
       "5     NaN\n",
       "6    caba\n",
       "7     dog\n",
       "8     cat\n",
       "dtype: object"
      ]
     },
     "execution_count": 62,
     "metadata": {},
     "output_type": "execute_result"
    }
   ],
   "source": [
    "s = pd.Series([\"A\", \"B\", \"C\", \"Aaba\", \"Baca\", np.nan, \"CABA\", \"dog\", \"cat\"])\n",
    "s.str.lower()"
   ]
  },
  {
   "cell_type": "markdown",
   "id": "e83b05d9",
   "metadata": {},
   "source": [
    "# Merge\n",
    "- Concat - Combine pandas object together row-wise\n",
    "- Join - enable SQL-style join along specific columns."
   ]
  },
  {
   "cell_type": "code",
   "execution_count": 64,
   "id": "3cc1cb6c",
   "metadata": {},
   "outputs": [
    {
     "data": {
      "application/vnd.microsoft.datawrangler.viewer.v0+json": {
       "columns": [
        {
         "name": "index",
         "rawType": "int64",
         "type": "integer"
        },
        {
         "name": "0",
         "rawType": "float64",
         "type": "float"
        },
        {
         "name": "1",
         "rawType": "float64",
         "type": "float"
        },
        {
         "name": "2",
         "rawType": "float64",
         "type": "float"
        },
        {
         "name": "3",
         "rawType": "float64",
         "type": "float"
        }
       ],
       "ref": "7852da48-0eb7-4a5b-8e8f-c174e2a50611",
       "rows": [
        [
         "0",
         "-0.0064675836341027545",
         "1.4208913246913562",
         "1.0837686608929746",
         "-0.367257947375766"
        ],
        [
         "1",
         "-0.2511454553070179",
         "-1.60353021149588",
         "-0.06858156339039138",
         "0.14580307446447294"
        ],
        [
         "2",
         "-0.19245643307560809",
         "-0.016922396146215414",
         "0.36212965575391237",
         "-1.2370968174603303"
        ],
        [
         "3",
         "1.1570424742378402",
         "0.005366484348325179",
         "1.5875618452921634",
         "0.5959793182752137"
        ],
        [
         "4",
         "-0.5400097675985118",
         "0.899394204767448",
         "1.8684484357382087",
         "-0.21170226439455472"
        ],
        [
         "5",
         "-0.09289214899218189",
         "1.0394048207532607",
         "-0.006586120715186049",
         "-1.6695038650095084"
        ],
        [
         "6",
         "2.5582191638283205",
         "0.10391020853259972",
         "0.7787543793394525",
         "-0.21148406290205898"
        ],
        [
         "7",
         "0.8417219632689205",
         "0.2124947155979636",
         "-0.5545548306805671",
         "-0.8014266810638794"
        ],
        [
         "8",
         "0.6995449761192698",
         "1.2283632962509943",
         "-0.5567968845070582",
         "0.5935764633514736"
        ],
        [
         "9",
         "-1.5329127334721167",
         "-0.4759597883973183",
         "-0.9985104249597496",
         "-0.6453964288440246"
        ]
       ],
       "shape": {
        "columns": 4,
        "rows": 10
       }
      },
      "text/html": [
       "<div>\n",
       "<style scoped>\n",
       "    .dataframe tbody tr th:only-of-type {\n",
       "        vertical-align: middle;\n",
       "    }\n",
       "\n",
       "    .dataframe tbody tr th {\n",
       "        vertical-align: top;\n",
       "    }\n",
       "\n",
       "    .dataframe thead th {\n",
       "        text-align: right;\n",
       "    }\n",
       "</style>\n",
       "<table border=\"1\" class=\"dataframe\">\n",
       "  <thead>\n",
       "    <tr style=\"text-align: right;\">\n",
       "      <th></th>\n",
       "      <th>0</th>\n",
       "      <th>1</th>\n",
       "      <th>2</th>\n",
       "      <th>3</th>\n",
       "    </tr>\n",
       "  </thead>\n",
       "  <tbody>\n",
       "    <tr>\n",
       "      <th>0</th>\n",
       "      <td>-0.006468</td>\n",
       "      <td>1.420891</td>\n",
       "      <td>1.083769</td>\n",
       "      <td>-0.367258</td>\n",
       "    </tr>\n",
       "    <tr>\n",
       "      <th>1</th>\n",
       "      <td>-0.251145</td>\n",
       "      <td>-1.603530</td>\n",
       "      <td>-0.068582</td>\n",
       "      <td>0.145803</td>\n",
       "    </tr>\n",
       "    <tr>\n",
       "      <th>2</th>\n",
       "      <td>-0.192456</td>\n",
       "      <td>-0.016922</td>\n",
       "      <td>0.362130</td>\n",
       "      <td>-1.237097</td>\n",
       "    </tr>\n",
       "    <tr>\n",
       "      <th>3</th>\n",
       "      <td>1.157042</td>\n",
       "      <td>0.005366</td>\n",
       "      <td>1.587562</td>\n",
       "      <td>0.595979</td>\n",
       "    </tr>\n",
       "    <tr>\n",
       "      <th>4</th>\n",
       "      <td>-0.540010</td>\n",
       "      <td>0.899394</td>\n",
       "      <td>1.868448</td>\n",
       "      <td>-0.211702</td>\n",
       "    </tr>\n",
       "    <tr>\n",
       "      <th>5</th>\n",
       "      <td>-0.092892</td>\n",
       "      <td>1.039405</td>\n",
       "      <td>-0.006586</td>\n",
       "      <td>-1.669504</td>\n",
       "    </tr>\n",
       "    <tr>\n",
       "      <th>6</th>\n",
       "      <td>2.558219</td>\n",
       "      <td>0.103910</td>\n",
       "      <td>0.778754</td>\n",
       "      <td>-0.211484</td>\n",
       "    </tr>\n",
       "    <tr>\n",
       "      <th>7</th>\n",
       "      <td>0.841722</td>\n",
       "      <td>0.212495</td>\n",
       "      <td>-0.554555</td>\n",
       "      <td>-0.801427</td>\n",
       "    </tr>\n",
       "    <tr>\n",
       "      <th>8</th>\n",
       "      <td>0.699545</td>\n",
       "      <td>1.228363</td>\n",
       "      <td>-0.556797</td>\n",
       "      <td>0.593576</td>\n",
       "    </tr>\n",
       "    <tr>\n",
       "      <th>9</th>\n",
       "      <td>-1.532913</td>\n",
       "      <td>-0.475960</td>\n",
       "      <td>-0.998510</td>\n",
       "      <td>-0.645396</td>\n",
       "    </tr>\n",
       "  </tbody>\n",
       "</table>\n",
       "</div>"
      ],
      "text/plain": [
       "          0         1         2         3\n",
       "0 -0.006468  1.420891  1.083769 -0.367258\n",
       "1 -0.251145 -1.603530 -0.068582  0.145803\n",
       "2 -0.192456 -0.016922  0.362130 -1.237097\n",
       "3  1.157042  0.005366  1.587562  0.595979\n",
       "4 -0.540010  0.899394  1.868448 -0.211702\n",
       "5 -0.092892  1.039405 -0.006586 -1.669504\n",
       "6  2.558219  0.103910  0.778754 -0.211484\n",
       "7  0.841722  0.212495 -0.554555 -0.801427\n",
       "8  0.699545  1.228363 -0.556797  0.593576\n",
       "9 -1.532913 -0.475960 -0.998510 -0.645396"
      ]
     },
     "execution_count": 64,
     "metadata": {},
     "output_type": "execute_result"
    }
   ],
   "source": [
    "df = pd.DataFrame(np.random.randn(10, 4))\n",
    "df"
   ]
  },
  {
   "cell_type": "code",
   "execution_count": 67,
   "id": "0be977fa",
   "metadata": {},
   "outputs": [
    {
     "data": {
      "application/vnd.microsoft.datawrangler.viewer.v0+json": {
       "columns": [
        {
         "name": "index",
         "rawType": "int64",
         "type": "integer"
        },
        {
         "name": "0",
         "rawType": "float64",
         "type": "float"
        },
        {
         "name": "1",
         "rawType": "float64",
         "type": "float"
        },
        {
         "name": "2",
         "rawType": "float64",
         "type": "float"
        },
        {
         "name": "3",
         "rawType": "float64",
         "type": "float"
        }
       ],
       "ref": "54414be2-2323-4c79-968b-56e27cbd7b2c",
       "rows": [
        [
         "0",
         "-0.0064675836341027545",
         "1.4208913246913562",
         "1.0837686608929746",
         "-0.367257947375766"
        ],
        [
         "1",
         "-0.2511454553070179",
         "-1.60353021149588",
         "-0.06858156339039138",
         "0.14580307446447294"
        ],
        [
         "2",
         "-0.19245643307560809",
         "-0.016922396146215414",
         "0.36212965575391237",
         "-1.2370968174603303"
        ],
        [
         "3",
         "1.1570424742378402",
         "0.005366484348325179",
         "1.5875618452921634",
         "0.5959793182752137"
        ],
        [
         "4",
         "-0.5400097675985118",
         "0.899394204767448",
         "1.8684484357382087",
         "-0.21170226439455472"
        ],
        [
         "5",
         "-0.09289214899218189",
         "1.0394048207532607",
         "-0.006586120715186049",
         "-1.6695038650095084"
        ],
        [
         "6",
         "2.5582191638283205",
         "0.10391020853259972",
         "0.7787543793394525",
         "-0.21148406290205898"
        ],
        [
         "7",
         "0.8417219632689205",
         "0.2124947155979636",
         "-0.5545548306805671",
         "-0.8014266810638794"
        ],
        [
         "8",
         "0.6995449761192698",
         "1.2283632962509943",
         "-0.5567968845070582",
         "0.5935764633514736"
        ],
        [
         "9",
         "-1.5329127334721167",
         "-0.4759597883973183",
         "-0.9985104249597496",
         "-0.6453964288440246"
        ]
       ],
       "shape": {
        "columns": 4,
        "rows": 10
       }
      },
      "text/html": [
       "<div>\n",
       "<style scoped>\n",
       "    .dataframe tbody tr th:only-of-type {\n",
       "        vertical-align: middle;\n",
       "    }\n",
       "\n",
       "    .dataframe tbody tr th {\n",
       "        vertical-align: top;\n",
       "    }\n",
       "\n",
       "    .dataframe thead th {\n",
       "        text-align: right;\n",
       "    }\n",
       "</style>\n",
       "<table border=\"1\" class=\"dataframe\">\n",
       "  <thead>\n",
       "    <tr style=\"text-align: right;\">\n",
       "      <th></th>\n",
       "      <th>0</th>\n",
       "      <th>1</th>\n",
       "      <th>2</th>\n",
       "      <th>3</th>\n",
       "    </tr>\n",
       "  </thead>\n",
       "  <tbody>\n",
       "    <tr>\n",
       "      <th>0</th>\n",
       "      <td>-0.006468</td>\n",
       "      <td>1.420891</td>\n",
       "      <td>1.083769</td>\n",
       "      <td>-0.367258</td>\n",
       "    </tr>\n",
       "    <tr>\n",
       "      <th>1</th>\n",
       "      <td>-0.251145</td>\n",
       "      <td>-1.603530</td>\n",
       "      <td>-0.068582</td>\n",
       "      <td>0.145803</td>\n",
       "    </tr>\n",
       "    <tr>\n",
       "      <th>2</th>\n",
       "      <td>-0.192456</td>\n",
       "      <td>-0.016922</td>\n",
       "      <td>0.362130</td>\n",
       "      <td>-1.237097</td>\n",
       "    </tr>\n",
       "    <tr>\n",
       "      <th>3</th>\n",
       "      <td>1.157042</td>\n",
       "      <td>0.005366</td>\n",
       "      <td>1.587562</td>\n",
       "      <td>0.595979</td>\n",
       "    </tr>\n",
       "    <tr>\n",
       "      <th>4</th>\n",
       "      <td>-0.540010</td>\n",
       "      <td>0.899394</td>\n",
       "      <td>1.868448</td>\n",
       "      <td>-0.211702</td>\n",
       "    </tr>\n",
       "    <tr>\n",
       "      <th>5</th>\n",
       "      <td>-0.092892</td>\n",
       "      <td>1.039405</td>\n",
       "      <td>-0.006586</td>\n",
       "      <td>-1.669504</td>\n",
       "    </tr>\n",
       "    <tr>\n",
       "      <th>6</th>\n",
       "      <td>2.558219</td>\n",
       "      <td>0.103910</td>\n",
       "      <td>0.778754</td>\n",
       "      <td>-0.211484</td>\n",
       "    </tr>\n",
       "    <tr>\n",
       "      <th>7</th>\n",
       "      <td>0.841722</td>\n",
       "      <td>0.212495</td>\n",
       "      <td>-0.554555</td>\n",
       "      <td>-0.801427</td>\n",
       "    </tr>\n",
       "    <tr>\n",
       "      <th>8</th>\n",
       "      <td>0.699545</td>\n",
       "      <td>1.228363</td>\n",
       "      <td>-0.556797</td>\n",
       "      <td>0.593576</td>\n",
       "    </tr>\n",
       "    <tr>\n",
       "      <th>9</th>\n",
       "      <td>-1.532913</td>\n",
       "      <td>-0.475960</td>\n",
       "      <td>-0.998510</td>\n",
       "      <td>-0.645396</td>\n",
       "    </tr>\n",
       "  </tbody>\n",
       "</table>\n",
       "</div>"
      ],
      "text/plain": [
       "          0         1         2         3\n",
       "0 -0.006468  1.420891  1.083769 -0.367258\n",
       "1 -0.251145 -1.603530 -0.068582  0.145803\n",
       "2 -0.192456 -0.016922  0.362130 -1.237097\n",
       "3  1.157042  0.005366  1.587562  0.595979\n",
       "4 -0.540010  0.899394  1.868448 -0.211702\n",
       "5 -0.092892  1.039405 -0.006586 -1.669504\n",
       "6  2.558219  0.103910  0.778754 -0.211484\n",
       "7  0.841722  0.212495 -0.554555 -0.801427\n",
       "8  0.699545  1.228363 -0.556797  0.593576\n",
       "9 -1.532913 -0.475960 -0.998510 -0.645396"
      ]
     },
     "execution_count": 67,
     "metadata": {},
     "output_type": "execute_result"
    }
   ],
   "source": [
    "pieces = [df[:3], df[3:7], df[7:]]\n",
    "pd.concat(pieces)"
   ]
  },
  {
   "cell_type": "code",
   "execution_count": 69,
   "id": "cae69f8d",
   "metadata": {},
   "outputs": [
    {
     "data": {
      "application/vnd.microsoft.datawrangler.viewer.v0+json": {
       "columns": [
        {
         "name": "index",
         "rawType": "int64",
         "type": "integer"
        },
        {
         "name": "key",
         "rawType": "object",
         "type": "string"
        },
        {
         "name": "lval",
         "rawType": "int64",
         "type": "integer"
        }
       ],
       "ref": "bb934f23-c56d-480a-a1d1-61caa6fc622e",
       "rows": [
        [
         "0",
         "foo",
         "1"
        ],
        [
         "1",
         "foo",
         "2"
        ]
       ],
       "shape": {
        "columns": 2,
        "rows": 2
       }
      },
      "text/html": [
       "<div>\n",
       "<style scoped>\n",
       "    .dataframe tbody tr th:only-of-type {\n",
       "        vertical-align: middle;\n",
       "    }\n",
       "\n",
       "    .dataframe tbody tr th {\n",
       "        vertical-align: top;\n",
       "    }\n",
       "\n",
       "    .dataframe thead th {\n",
       "        text-align: right;\n",
       "    }\n",
       "</style>\n",
       "<table border=\"1\" class=\"dataframe\">\n",
       "  <thead>\n",
       "    <tr style=\"text-align: right;\">\n",
       "      <th></th>\n",
       "      <th>key</th>\n",
       "      <th>lval</th>\n",
       "    </tr>\n",
       "  </thead>\n",
       "  <tbody>\n",
       "    <tr>\n",
       "      <th>0</th>\n",
       "      <td>foo</td>\n",
       "      <td>1</td>\n",
       "    </tr>\n",
       "    <tr>\n",
       "      <th>1</th>\n",
       "      <td>foo</td>\n",
       "      <td>2</td>\n",
       "    </tr>\n",
       "  </tbody>\n",
       "</table>\n",
       "</div>"
      ],
      "text/plain": [
       "   key  lval\n",
       "0  foo     1\n",
       "1  foo     2"
      ]
     },
     "execution_count": 69,
     "metadata": {},
     "output_type": "execute_result"
    }
   ],
   "source": [
    "left = pd.DataFrame({\"key\": [\"foo\", \"foo\"], \"lval\": [1, 2]})\n",
    "right = pd.DataFrame({\"key\": [\"foo\", \"foo\"], \"rval\": [4, 5]})\n",
    "left"
   ]
  },
  {
   "cell_type": "code",
   "execution_count": 70,
   "id": "eee8b0ca",
   "metadata": {},
   "outputs": [
    {
     "data": {
      "application/vnd.microsoft.datawrangler.viewer.v0+json": {
       "columns": [
        {
         "name": "index",
         "rawType": "int64",
         "type": "integer"
        },
        {
         "name": "key",
         "rawType": "object",
         "type": "string"
        },
        {
         "name": "rval",
         "rawType": "int64",
         "type": "integer"
        }
       ],
       "ref": "fd1bbf2b-bc46-42a5-8dec-0a77fe808505",
       "rows": [
        [
         "0",
         "foo",
         "4"
        ],
        [
         "1",
         "foo",
         "5"
        ]
       ],
       "shape": {
        "columns": 2,
        "rows": 2
       }
      },
      "text/html": [
       "<div>\n",
       "<style scoped>\n",
       "    .dataframe tbody tr th:only-of-type {\n",
       "        vertical-align: middle;\n",
       "    }\n",
       "\n",
       "    .dataframe tbody tr th {\n",
       "        vertical-align: top;\n",
       "    }\n",
       "\n",
       "    .dataframe thead th {\n",
       "        text-align: right;\n",
       "    }\n",
       "</style>\n",
       "<table border=\"1\" class=\"dataframe\">\n",
       "  <thead>\n",
       "    <tr style=\"text-align: right;\">\n",
       "      <th></th>\n",
       "      <th>key</th>\n",
       "      <th>rval</th>\n",
       "    </tr>\n",
       "  </thead>\n",
       "  <tbody>\n",
       "    <tr>\n",
       "      <th>0</th>\n",
       "      <td>foo</td>\n",
       "      <td>4</td>\n",
       "    </tr>\n",
       "    <tr>\n",
       "      <th>1</th>\n",
       "      <td>foo</td>\n",
       "      <td>5</td>\n",
       "    </tr>\n",
       "  </tbody>\n",
       "</table>\n",
       "</div>"
      ],
      "text/plain": [
       "   key  rval\n",
       "0  foo     4\n",
       "1  foo     5"
      ]
     },
     "execution_count": 70,
     "metadata": {},
     "output_type": "execute_result"
    }
   ],
   "source": [
    "right"
   ]
  },
  {
   "cell_type": "code",
   "execution_count": null,
   "id": "adb22739",
   "metadata": {},
   "outputs": [
    {
     "data": {
      "application/vnd.microsoft.datawrangler.viewer.v0+json": {
       "columns": [
        {
         "name": "index",
         "rawType": "int64",
         "type": "integer"
        },
        {
         "name": "key",
         "rawType": "object",
         "type": "string"
        },
        {
         "name": "lval",
         "rawType": "int64",
         "type": "integer"
        },
        {
         "name": "rval",
         "rawType": "int64",
         "type": "integer"
        }
       ],
       "ref": "da3e371c-238a-406f-b966-8c2a88c2646c",
       "rows": [
        [
         "0",
         "foo",
         "1",
         "4"
        ],
        [
         "1",
         "foo",
         "1",
         "5"
        ],
        [
         "2",
         "foo",
         "2",
         "4"
        ],
        [
         "3",
         "foo",
         "2",
         "5"
        ]
       ],
       "shape": {
        "columns": 3,
        "rows": 4
       }
      },
      "text/html": [
       "<div>\n",
       "<style scoped>\n",
       "    .dataframe tbody tr th:only-of-type {\n",
       "        vertical-align: middle;\n",
       "    }\n",
       "\n",
       "    .dataframe tbody tr th {\n",
       "        vertical-align: top;\n",
       "    }\n",
       "\n",
       "    .dataframe thead th {\n",
       "        text-align: right;\n",
       "    }\n",
       "</style>\n",
       "<table border=\"1\" class=\"dataframe\">\n",
       "  <thead>\n",
       "    <tr style=\"text-align: right;\">\n",
       "      <th></th>\n",
       "      <th>key</th>\n",
       "      <th>lval</th>\n",
       "      <th>rval</th>\n",
       "    </tr>\n",
       "  </thead>\n",
       "  <tbody>\n",
       "    <tr>\n",
       "      <th>0</th>\n",
       "      <td>foo</td>\n",
       "      <td>1</td>\n",
       "      <td>4</td>\n",
       "    </tr>\n",
       "    <tr>\n",
       "      <th>1</th>\n",
       "      <td>foo</td>\n",
       "      <td>1</td>\n",
       "      <td>5</td>\n",
       "    </tr>\n",
       "    <tr>\n",
       "      <th>2</th>\n",
       "      <td>foo</td>\n",
       "      <td>2</td>\n",
       "      <td>4</td>\n",
       "    </tr>\n",
       "    <tr>\n",
       "      <th>3</th>\n",
       "      <td>foo</td>\n",
       "      <td>2</td>\n",
       "      <td>5</td>\n",
       "    </tr>\n",
       "  </tbody>\n",
       "</table>\n",
       "</div>"
      ],
      "text/plain": [
       "   key  lval  rval\n",
       "0  foo     1     4\n",
       "1  foo     1     5\n",
       "2  foo     2     4\n",
       "3  foo     2     5"
      ]
     },
     "execution_count": 71,
     "metadata": {},
     "output_type": "execute_result"
    }
   ],
   "source": [
    "pd.merge(left, right, on=\"key\") # key are not unique,"
   ]
  },
  {
   "cell_type": "code",
   "execution_count": 72,
   "id": "c574f6b4",
   "metadata": {},
   "outputs": [
    {
     "data": {
      "application/vnd.microsoft.datawrangler.viewer.v0+json": {
       "columns": [
        {
         "name": "index",
         "rawType": "int64",
         "type": "integer"
        },
        {
         "name": "key",
         "rawType": "object",
         "type": "string"
        },
        {
         "name": "lval",
         "rawType": "int64",
         "type": "integer"
        }
       ],
       "ref": "963f15e6-90bc-4fbb-ab6a-cdbf000cc602",
       "rows": [
        [
         "0",
         "foo",
         "1"
        ],
        [
         "1",
         "bar",
         "2"
        ]
       ],
       "shape": {
        "columns": 2,
        "rows": 2
       }
      },
      "text/html": [
       "<div>\n",
       "<style scoped>\n",
       "    .dataframe tbody tr th:only-of-type {\n",
       "        vertical-align: middle;\n",
       "    }\n",
       "\n",
       "    .dataframe tbody tr th {\n",
       "        vertical-align: top;\n",
       "    }\n",
       "\n",
       "    .dataframe thead th {\n",
       "        text-align: right;\n",
       "    }\n",
       "</style>\n",
       "<table border=\"1\" class=\"dataframe\">\n",
       "  <thead>\n",
       "    <tr style=\"text-align: right;\">\n",
       "      <th></th>\n",
       "      <th>key</th>\n",
       "      <th>lval</th>\n",
       "    </tr>\n",
       "  </thead>\n",
       "  <tbody>\n",
       "    <tr>\n",
       "      <th>0</th>\n",
       "      <td>foo</td>\n",
       "      <td>1</td>\n",
       "    </tr>\n",
       "    <tr>\n",
       "      <th>1</th>\n",
       "      <td>bar</td>\n",
       "      <td>2</td>\n",
       "    </tr>\n",
       "  </tbody>\n",
       "</table>\n",
       "</div>"
      ],
      "text/plain": [
       "   key  lval\n",
       "0  foo     1\n",
       "1  bar     2"
      ]
     },
     "execution_count": 72,
     "metadata": {},
     "output_type": "execute_result"
    }
   ],
   "source": [
    "left = pd.DataFrame({\"key\": [\"foo\", \"bar\"], \"lval\": [1, 2]})\n",
    "right = pd.DataFrame({\"key\": [\"foo\", \"bar\"], \"rval\": [4, 5]})\n",
    "left"
   ]
  },
  {
   "cell_type": "code",
   "execution_count": 73,
   "id": "1d0503b6",
   "metadata": {},
   "outputs": [
    {
     "data": {
      "application/vnd.microsoft.datawrangler.viewer.v0+json": {
       "columns": [
        {
         "name": "index",
         "rawType": "int64",
         "type": "integer"
        },
        {
         "name": "key",
         "rawType": "object",
         "type": "string"
        },
        {
         "name": "rval",
         "rawType": "int64",
         "type": "integer"
        }
       ],
       "ref": "ebd1eef8-9b6f-469d-95fa-7053f8deb5b4",
       "rows": [
        [
         "0",
         "foo",
         "4"
        ],
        [
         "1",
         "bar",
         "5"
        ]
       ],
       "shape": {
        "columns": 2,
        "rows": 2
       }
      },
      "text/html": [
       "<div>\n",
       "<style scoped>\n",
       "    .dataframe tbody tr th:only-of-type {\n",
       "        vertical-align: middle;\n",
       "    }\n",
       "\n",
       "    .dataframe tbody tr th {\n",
       "        vertical-align: top;\n",
       "    }\n",
       "\n",
       "    .dataframe thead th {\n",
       "        text-align: right;\n",
       "    }\n",
       "</style>\n",
       "<table border=\"1\" class=\"dataframe\">\n",
       "  <thead>\n",
       "    <tr style=\"text-align: right;\">\n",
       "      <th></th>\n",
       "      <th>key</th>\n",
       "      <th>rval</th>\n",
       "    </tr>\n",
       "  </thead>\n",
       "  <tbody>\n",
       "    <tr>\n",
       "      <th>0</th>\n",
       "      <td>foo</td>\n",
       "      <td>4</td>\n",
       "    </tr>\n",
       "    <tr>\n",
       "      <th>1</th>\n",
       "      <td>bar</td>\n",
       "      <td>5</td>\n",
       "    </tr>\n",
       "  </tbody>\n",
       "</table>\n",
       "</div>"
      ],
      "text/plain": [
       "   key  rval\n",
       "0  foo     4\n",
       "1  bar     5"
      ]
     },
     "execution_count": 73,
     "metadata": {},
     "output_type": "execute_result"
    }
   ],
   "source": [
    "right"
   ]
  },
  {
   "cell_type": "code",
   "execution_count": 74,
   "id": "a45e4c70",
   "metadata": {},
   "outputs": [
    {
     "data": {
      "application/vnd.microsoft.datawrangler.viewer.v0+json": {
       "columns": [
        {
         "name": "index",
         "rawType": "int64",
         "type": "integer"
        },
        {
         "name": "key",
         "rawType": "object",
         "type": "string"
        },
        {
         "name": "lval",
         "rawType": "int64",
         "type": "integer"
        },
        {
         "name": "rval",
         "rawType": "int64",
         "type": "integer"
        }
       ],
       "ref": "158c3bfc-7169-4cf8-b6eb-2dfa45904970",
       "rows": [
        [
         "0",
         "foo",
         "1",
         "4"
        ],
        [
         "1",
         "bar",
         "2",
         "5"
        ]
       ],
       "shape": {
        "columns": 3,
        "rows": 2
       }
      },
      "text/html": [
       "<div>\n",
       "<style scoped>\n",
       "    .dataframe tbody tr th:only-of-type {\n",
       "        vertical-align: middle;\n",
       "    }\n",
       "\n",
       "    .dataframe tbody tr th {\n",
       "        vertical-align: top;\n",
       "    }\n",
       "\n",
       "    .dataframe thead th {\n",
       "        text-align: right;\n",
       "    }\n",
       "</style>\n",
       "<table border=\"1\" class=\"dataframe\">\n",
       "  <thead>\n",
       "    <tr style=\"text-align: right;\">\n",
       "      <th></th>\n",
       "      <th>key</th>\n",
       "      <th>lval</th>\n",
       "      <th>rval</th>\n",
       "    </tr>\n",
       "  </thead>\n",
       "  <tbody>\n",
       "    <tr>\n",
       "      <th>0</th>\n",
       "      <td>foo</td>\n",
       "      <td>1</td>\n",
       "      <td>4</td>\n",
       "    </tr>\n",
       "    <tr>\n",
       "      <th>1</th>\n",
       "      <td>bar</td>\n",
       "      <td>2</td>\n",
       "      <td>5</td>\n",
       "    </tr>\n",
       "  </tbody>\n",
       "</table>\n",
       "</div>"
      ],
      "text/plain": [
       "   key  lval  rval\n",
       "0  foo     1     4\n",
       "1  bar     2     5"
      ]
     },
     "execution_count": 74,
     "metadata": {},
     "output_type": "execute_result"
    }
   ],
   "source": [
    "pd.merge(left, right, on=\"key\")"
   ]
  },
  {
   "cell_type": "markdown",
   "id": "12aef1f4",
   "metadata": {},
   "source": [
    "# Grouping\n",
    "- By \"group by\" we are referring to a process involving one or more of the following steps:\n",
    "- Splitting the data into groups based on some criteria\n",
    "- Applying: a function to each group independently\n",
    "- Combining: the results into a data structure "
   ]
  },
  {
   "cell_type": "code",
   "execution_count": 75,
   "id": "9b3c9490",
   "metadata": {},
   "outputs": [
    {
     "data": {
      "application/vnd.microsoft.datawrangler.viewer.v0+json": {
       "columns": [
        {
         "name": "index",
         "rawType": "int64",
         "type": "integer"
        },
        {
         "name": "A",
         "rawType": "object",
         "type": "string"
        },
        {
         "name": "B",
         "rawType": "object",
         "type": "string"
        },
        {
         "name": "C",
         "rawType": "float64",
         "type": "float"
        },
        {
         "name": "D",
         "rawType": "float64",
         "type": "float"
        }
       ],
       "ref": "f98b82fb-1c05-4b57-88dc-3fa23459afd1",
       "rows": [
        [
         "0",
         "foo",
         "one",
         "-0.36260305668557324",
         "0.7520536712284466"
        ],
        [
         "1",
         "bar",
         "one",
         "-1.0667731447198312",
         "1.060574386769522"
        ],
        [
         "2",
         "foo",
         "two",
         "0.8365051101561067",
         "-1.1343168063479787"
        ],
        [
         "3",
         "bar",
         "three",
         "-0.03802978531381537",
         "-1.1311401819486018"
        ],
        [
         "4",
         "foo",
         "two",
         "0.7405317409234506",
         "0.1828953959217066"
        ],
        [
         "5",
         "bar",
         "two",
         "1.2175267865336379",
         "-0.38717205168532604"
        ],
        [
         "6",
         "foo",
         "one",
         "-0.6383452851898243",
         "1.9111638043855323"
        ],
        [
         "7",
         "foo",
         "three",
         "1.202100981688527",
         "0.43510678817804704"
        ]
       ],
       "shape": {
        "columns": 4,
        "rows": 8
       }
      },
      "text/html": [
       "<div>\n",
       "<style scoped>\n",
       "    .dataframe tbody tr th:only-of-type {\n",
       "        vertical-align: middle;\n",
       "    }\n",
       "\n",
       "    .dataframe tbody tr th {\n",
       "        vertical-align: top;\n",
       "    }\n",
       "\n",
       "    .dataframe thead th {\n",
       "        text-align: right;\n",
       "    }\n",
       "</style>\n",
       "<table border=\"1\" class=\"dataframe\">\n",
       "  <thead>\n",
       "    <tr style=\"text-align: right;\">\n",
       "      <th></th>\n",
       "      <th>A</th>\n",
       "      <th>B</th>\n",
       "      <th>C</th>\n",
       "      <th>D</th>\n",
       "    </tr>\n",
       "  </thead>\n",
       "  <tbody>\n",
       "    <tr>\n",
       "      <th>0</th>\n",
       "      <td>foo</td>\n",
       "      <td>one</td>\n",
       "      <td>-0.362603</td>\n",
       "      <td>0.752054</td>\n",
       "    </tr>\n",
       "    <tr>\n",
       "      <th>1</th>\n",
       "      <td>bar</td>\n",
       "      <td>one</td>\n",
       "      <td>-1.066773</td>\n",
       "      <td>1.060574</td>\n",
       "    </tr>\n",
       "    <tr>\n",
       "      <th>2</th>\n",
       "      <td>foo</td>\n",
       "      <td>two</td>\n",
       "      <td>0.836505</td>\n",
       "      <td>-1.134317</td>\n",
       "    </tr>\n",
       "    <tr>\n",
       "      <th>3</th>\n",
       "      <td>bar</td>\n",
       "      <td>three</td>\n",
       "      <td>-0.038030</td>\n",
       "      <td>-1.131140</td>\n",
       "    </tr>\n",
       "    <tr>\n",
       "      <th>4</th>\n",
       "      <td>foo</td>\n",
       "      <td>two</td>\n",
       "      <td>0.740532</td>\n",
       "      <td>0.182895</td>\n",
       "    </tr>\n",
       "    <tr>\n",
       "      <th>5</th>\n",
       "      <td>bar</td>\n",
       "      <td>two</td>\n",
       "      <td>1.217527</td>\n",
       "      <td>-0.387172</td>\n",
       "    </tr>\n",
       "    <tr>\n",
       "      <th>6</th>\n",
       "      <td>foo</td>\n",
       "      <td>one</td>\n",
       "      <td>-0.638345</td>\n",
       "      <td>1.911164</td>\n",
       "    </tr>\n",
       "    <tr>\n",
       "      <th>7</th>\n",
       "      <td>foo</td>\n",
       "      <td>three</td>\n",
       "      <td>1.202101</td>\n",
       "      <td>0.435107</td>\n",
       "    </tr>\n",
       "  </tbody>\n",
       "</table>\n",
       "</div>"
      ],
      "text/plain": [
       "     A      B         C         D\n",
       "0  foo    one -0.362603  0.752054\n",
       "1  bar    one -1.066773  1.060574\n",
       "2  foo    two  0.836505 -1.134317\n",
       "3  bar  three -0.038030 -1.131140\n",
       "4  foo    two  0.740532  0.182895\n",
       "5  bar    two  1.217527 -0.387172\n",
       "6  foo    one -0.638345  1.911164\n",
       "7  foo  three  1.202101  0.435107"
      ]
     },
     "execution_count": 75,
     "metadata": {},
     "output_type": "execute_result"
    }
   ],
   "source": [
    "df = pd.DataFrame(\n",
    "    {\n",
    "        \"A\": [\"foo\", \"bar\", \"foo\", \"bar\", \"foo\", \"bar\", \"foo\", \"foo\"],\n",
    "        \"B\": [\"one\", \"one\", \"two\", \"three\", \"two\", \"two\", \"one\", \"three\"],\n",
    "        \"C\": np.random.randn(8),\n",
    "        \"D\": np.random.randn(8),\n",
    "    }\n",
    ")\n",
    "df"
   ]
  },
  {
   "cell_type": "code",
   "execution_count": 76,
   "id": "1ce1ff28",
   "metadata": {},
   "outputs": [
    {
     "data": {
      "application/vnd.microsoft.datawrangler.viewer.v0+json": {
       "columns": [
        {
         "name": "A",
         "rawType": "object",
         "type": "string"
        },
        {
         "name": "C",
         "rawType": "float64",
         "type": "float"
        },
        {
         "name": "D",
         "rawType": "float64",
         "type": "float"
        }
       ],
       "ref": "60c84be8-6729-4682-a7e7-a1700251538f",
       "rows": [
        [
         "bar",
         "0.11272385649999128",
         "-0.4577378468644057"
        ],
        [
         "foo",
         "1.778189490892687",
         "2.146902853365754"
        ]
       ],
       "shape": {
        "columns": 2,
        "rows": 2
       }
      },
      "text/html": [
       "<div>\n",
       "<style scoped>\n",
       "    .dataframe tbody tr th:only-of-type {\n",
       "        vertical-align: middle;\n",
       "    }\n",
       "\n",
       "    .dataframe tbody tr th {\n",
       "        vertical-align: top;\n",
       "    }\n",
       "\n",
       "    .dataframe thead th {\n",
       "        text-align: right;\n",
       "    }\n",
       "</style>\n",
       "<table border=\"1\" class=\"dataframe\">\n",
       "  <thead>\n",
       "    <tr style=\"text-align: right;\">\n",
       "      <th></th>\n",
       "      <th>C</th>\n",
       "      <th>D</th>\n",
       "    </tr>\n",
       "    <tr>\n",
       "      <th>A</th>\n",
       "      <th></th>\n",
       "      <th></th>\n",
       "    </tr>\n",
       "  </thead>\n",
       "  <tbody>\n",
       "    <tr>\n",
       "      <th>bar</th>\n",
       "      <td>0.112724</td>\n",
       "      <td>-0.457738</td>\n",
       "    </tr>\n",
       "    <tr>\n",
       "      <th>foo</th>\n",
       "      <td>1.778189</td>\n",
       "      <td>2.146903</td>\n",
       "    </tr>\n",
       "  </tbody>\n",
       "</table>\n",
       "</div>"
      ],
      "text/plain": [
       "            C         D\n",
       "A                      \n",
       "bar  0.112724 -0.457738\n",
       "foo  1.778189  2.146903"
      ]
     },
     "execution_count": 76,
     "metadata": {},
     "output_type": "execute_result"
    }
   ],
   "source": [
    "df.groupby(\"A\")[[\"C\", \"D\"]].sum()"
   ]
  },
  {
   "cell_type": "code",
   "execution_count": null,
   "id": "7f640404",
   "metadata": {},
   "outputs": [
    {
     "data": {
      "application/vnd.microsoft.datawrangler.viewer.v0+json": {
       "columns": [
        {
         "name": "('A', 'B')",
         "rawType": "object",
         "type": "unknown"
        },
        {
         "name": "C",
         "rawType": "float64",
         "type": "float"
        },
        {
         "name": "D",
         "rawType": "float64",
         "type": "float"
        }
       ],
       "ref": "32ff369d-52e1-449f-a764-da562b902e81",
       "rows": [
        [
         "('bar', 'one')",
         "-1.0667731447198312",
         "1.060574386769522"
        ],
        [
         "('bar', 'three')",
         "-0.03802978531381537",
         "-1.1311401819486018"
        ],
        [
         "('bar', 'two')",
         "1.2175267865336379",
         "-0.38717205168532604"
        ],
        [
         "('foo', 'one')",
         "-1.0009483418753975",
         "2.663217475613979"
        ],
        [
         "('foo', 'three')",
         "1.202100981688527",
         "0.43510678817804704"
        ],
        [
         "('foo', 'two')",
         "1.5770368510795574",
         "-0.9514214104262722"
        ]
       ],
       "shape": {
        "columns": 2,
        "rows": 6
       }
      },
      "text/html": [
       "<div>\n",
       "<style scoped>\n",
       "    .dataframe tbody tr th:only-of-type {\n",
       "        vertical-align: middle;\n",
       "    }\n",
       "\n",
       "    .dataframe tbody tr th {\n",
       "        vertical-align: top;\n",
       "    }\n",
       "\n",
       "    .dataframe thead th {\n",
       "        text-align: right;\n",
       "    }\n",
       "</style>\n",
       "<table border=\"1\" class=\"dataframe\">\n",
       "  <thead>\n",
       "    <tr style=\"text-align: right;\">\n",
       "      <th></th>\n",
       "      <th></th>\n",
       "      <th>C</th>\n",
       "      <th>D</th>\n",
       "    </tr>\n",
       "    <tr>\n",
       "      <th>A</th>\n",
       "      <th>B</th>\n",
       "      <th></th>\n",
       "      <th></th>\n",
       "    </tr>\n",
       "  </thead>\n",
       "  <tbody>\n",
       "    <tr>\n",
       "      <th rowspan=\"3\" valign=\"top\">bar</th>\n",
       "      <th>one</th>\n",
       "      <td>-1.066773</td>\n",
       "      <td>1.060574</td>\n",
       "    </tr>\n",
       "    <tr>\n",
       "      <th>three</th>\n",
       "      <td>-0.038030</td>\n",
       "      <td>-1.131140</td>\n",
       "    </tr>\n",
       "    <tr>\n",
       "      <th>two</th>\n",
       "      <td>1.217527</td>\n",
       "      <td>-0.387172</td>\n",
       "    </tr>\n",
       "    <tr>\n",
       "      <th rowspan=\"3\" valign=\"top\">foo</th>\n",
       "      <th>one</th>\n",
       "      <td>-1.000948</td>\n",
       "      <td>2.663217</td>\n",
       "    </tr>\n",
       "    <tr>\n",
       "      <th>three</th>\n",
       "      <td>1.202101</td>\n",
       "      <td>0.435107</td>\n",
       "    </tr>\n",
       "    <tr>\n",
       "      <th>two</th>\n",
       "      <td>1.577037</td>\n",
       "      <td>-0.951421</td>\n",
       "    </tr>\n",
       "  </tbody>\n",
       "</table>\n",
       "</div>"
      ],
      "text/plain": [
       "                  C         D\n",
       "A   B                        \n",
       "bar one   -1.066773  1.060574\n",
       "    three -0.038030 -1.131140\n",
       "    two    1.217527 -0.387172\n",
       "foo one   -1.000948  2.663217\n",
       "    three  1.202101  0.435107\n",
       "    two    1.577037 -0.951421"
      ]
     },
     "execution_count": 77,
     "metadata": {},
     "output_type": "execute_result"
    }
   ],
   "source": [
    "df.groupby([\"A\", \"B\"]).sum() # multiple index"
   ]
  },
  {
   "cell_type": "markdown",
   "id": "d3c2a8c9",
   "metadata": {},
   "source": [
    "# Reshaping\n",
    "- using Stack and Pivot table\n",
    "\n",
    "## Stack\n",
    "- compresses a level in the DataFrame's columns\n",
    "- inverse is unstack: unstack the last level\n",
    "\n",
    "## Pivot Table (pivot_table())\n",
    "- create a new table with rows from columns"
   ]
  },
  {
   "cell_type": "code",
   "execution_count": 79,
   "id": "095d9613",
   "metadata": {},
   "outputs": [],
   "source": [
    "arrays = [\n",
    "    [\"bar\", \"bar\", \"baz\", \"baz\", \"foo\", \"foo\", \"qux\", \"qux\"],\n",
    "    [\"one\", \"two\", \"one\", \"two\", \"one\", \"two\", \"one\", \"two\"]\n",
    "]"
   ]
  },
  {
   "cell_type": "code",
   "execution_count": 80,
   "id": "d5cc5c56",
   "metadata": {},
   "outputs": [
    {
     "data": {
      "application/vnd.microsoft.datawrangler.viewer.v0+json": {
       "columns": [
        {
         "name": "('first', 'second')",
         "rawType": "object",
         "type": "unknown"
        },
        {
         "name": "A",
         "rawType": "float64",
         "type": "float"
        },
        {
         "name": "B",
         "rawType": "float64",
         "type": "float"
        }
       ],
       "ref": "6c4c3b51-6cb5-4884-9782-2f0912170c41",
       "rows": [
        [
         "('bar', 'one')",
         "-0.6434490022087108",
         "-2.2419261021825516"
        ],
        [
         "('bar', 'two')",
         "1.3990508437550246",
         "0.1569160824822853"
        ],
        [
         "('baz', 'one')",
         "0.5358962116540902",
         "1.2239725159327859"
        ],
        [
         "('baz', 'two')",
         "-0.6687971641996471",
         "-1.0526748061029174"
        ]
       ],
       "shape": {
        "columns": 2,
        "rows": 4
       }
      },
      "text/html": [
       "<div>\n",
       "<style scoped>\n",
       "    .dataframe tbody tr th:only-of-type {\n",
       "        vertical-align: middle;\n",
       "    }\n",
       "\n",
       "    .dataframe tbody tr th {\n",
       "        vertical-align: top;\n",
       "    }\n",
       "\n",
       "    .dataframe thead th {\n",
       "        text-align: right;\n",
       "    }\n",
       "</style>\n",
       "<table border=\"1\" class=\"dataframe\">\n",
       "  <thead>\n",
       "    <tr style=\"text-align: right;\">\n",
       "      <th></th>\n",
       "      <th></th>\n",
       "      <th>A</th>\n",
       "      <th>B</th>\n",
       "    </tr>\n",
       "    <tr>\n",
       "      <th>first</th>\n",
       "      <th>second</th>\n",
       "      <th></th>\n",
       "      <th></th>\n",
       "    </tr>\n",
       "  </thead>\n",
       "  <tbody>\n",
       "    <tr>\n",
       "      <th rowspan=\"2\" valign=\"top\">bar</th>\n",
       "      <th>one</th>\n",
       "      <td>-0.643449</td>\n",
       "      <td>-2.241926</td>\n",
       "    </tr>\n",
       "    <tr>\n",
       "      <th>two</th>\n",
       "      <td>1.399051</td>\n",
       "      <td>0.156916</td>\n",
       "    </tr>\n",
       "    <tr>\n",
       "      <th rowspan=\"2\" valign=\"top\">baz</th>\n",
       "      <th>one</th>\n",
       "      <td>0.535896</td>\n",
       "      <td>1.223973</td>\n",
       "    </tr>\n",
       "    <tr>\n",
       "      <th>two</th>\n",
       "      <td>-0.668797</td>\n",
       "      <td>-1.052675</td>\n",
       "    </tr>\n",
       "  </tbody>\n",
       "</table>\n",
       "</div>"
      ],
      "text/plain": [
       "                     A         B\n",
       "first second                    \n",
       "bar   one    -0.643449 -2.241926\n",
       "      two     1.399051  0.156916\n",
       "baz   one     0.535896  1.223973\n",
       "      two    -0.668797 -1.052675"
      ]
     },
     "execution_count": 80,
     "metadata": {},
     "output_type": "execute_result"
    }
   ],
   "source": [
    "index = pd.MultiIndex.from_arrays(arrays, names=[\"first\", \"second\"])\n",
    "df = pd.DataFrame(np.random.randn(8, 2), index=index, columns=[\"A\", \"B\"])\n",
    "df2 = df[:4]\n",
    "df2"
   ]
  },
  {
   "cell_type": "code",
   "execution_count": 81,
   "id": "d9ef5654",
   "metadata": {},
   "outputs": [
    {
     "data": {
      "application/vnd.microsoft.datawrangler.viewer.v0+json": {
       "columns": [
        {
         "name": "('first', 'second', None)",
         "rawType": "object",
         "type": "unknown"
        },
        {
         "name": "0",
         "rawType": "float64",
         "type": "float"
        }
       ],
       "ref": "54822c79-23ff-42ac-9c5c-cd7d902d20d2",
       "rows": [
        [
         "('bar', 'one', 'A')",
         "-0.6434490022087108"
        ],
        [
         "('bar', 'one', 'B')",
         "-2.2419261021825516"
        ],
        [
         "('bar', 'two', 'A')",
         "1.3990508437550246"
        ],
        [
         "('bar', 'two', 'B')",
         "0.1569160824822853"
        ],
        [
         "('baz', 'one', 'A')",
         "0.5358962116540902"
        ],
        [
         "('baz', 'one', 'B')",
         "1.2239725159327859"
        ],
        [
         "('baz', 'two', 'A')",
         "-0.6687971641996471"
        ],
        [
         "('baz', 'two', 'B')",
         "-1.0526748061029174"
        ]
       ],
       "shape": {
        "columns": 1,
        "rows": 8
       }
      },
      "text/plain": [
       "first  second   \n",
       "bar    one     A   -0.643449\n",
       "               B   -2.241926\n",
       "       two     A    1.399051\n",
       "               B    0.156916\n",
       "baz    one     A    0.535896\n",
       "               B    1.223973\n",
       "       two     A   -0.668797\n",
       "               B   -1.052675\n",
       "dtype: float64"
      ]
     },
     "execution_count": 81,
     "metadata": {},
     "output_type": "execute_result"
    }
   ],
   "source": [
    "stacked = df2.stack(future_stack=True)\n",
    "stacked"
   ]
  },
  {
   "cell_type": "code",
   "execution_count": 83,
   "id": "a15b46d3",
   "metadata": {},
   "outputs": [
    {
     "data": {
      "application/vnd.microsoft.datawrangler.viewer.v0+json": {
       "columns": [
        {
         "name": "('first', 'second')",
         "rawType": "object",
         "type": "unknown"
        },
        {
         "name": "A",
         "rawType": "float64",
         "type": "float"
        },
        {
         "name": "B",
         "rawType": "float64",
         "type": "float"
        }
       ],
       "ref": "cf307f3b-3d47-4fd8-8f1f-55ce6f972a71",
       "rows": [
        [
         "('bar', 'one')",
         "-0.6434490022087108",
         "-2.2419261021825516"
        ],
        [
         "('bar', 'two')",
         "1.3990508437550246",
         "0.1569160824822853"
        ],
        [
         "('baz', 'one')",
         "0.5358962116540902",
         "1.2239725159327859"
        ],
        [
         "('baz', 'two')",
         "-0.6687971641996471",
         "-1.0526748061029174"
        ]
       ],
       "shape": {
        "columns": 2,
        "rows": 4
       }
      },
      "text/html": [
       "<div>\n",
       "<style scoped>\n",
       "    .dataframe tbody tr th:only-of-type {\n",
       "        vertical-align: middle;\n",
       "    }\n",
       "\n",
       "    .dataframe tbody tr th {\n",
       "        vertical-align: top;\n",
       "    }\n",
       "\n",
       "    .dataframe thead th {\n",
       "        text-align: right;\n",
       "    }\n",
       "</style>\n",
       "<table border=\"1\" class=\"dataframe\">\n",
       "  <thead>\n",
       "    <tr style=\"text-align: right;\">\n",
       "      <th></th>\n",
       "      <th></th>\n",
       "      <th>A</th>\n",
       "      <th>B</th>\n",
       "    </tr>\n",
       "    <tr>\n",
       "      <th>first</th>\n",
       "      <th>second</th>\n",
       "      <th></th>\n",
       "      <th></th>\n",
       "    </tr>\n",
       "  </thead>\n",
       "  <tbody>\n",
       "    <tr>\n",
       "      <th rowspan=\"2\" valign=\"top\">bar</th>\n",
       "      <th>one</th>\n",
       "      <td>-0.643449</td>\n",
       "      <td>-2.241926</td>\n",
       "    </tr>\n",
       "    <tr>\n",
       "      <th>two</th>\n",
       "      <td>1.399051</td>\n",
       "      <td>0.156916</td>\n",
       "    </tr>\n",
       "    <tr>\n",
       "      <th rowspan=\"2\" valign=\"top\">baz</th>\n",
       "      <th>one</th>\n",
       "      <td>0.535896</td>\n",
       "      <td>1.223973</td>\n",
       "    </tr>\n",
       "    <tr>\n",
       "      <th>two</th>\n",
       "      <td>-0.668797</td>\n",
       "      <td>-1.052675</td>\n",
       "    </tr>\n",
       "  </tbody>\n",
       "</table>\n",
       "</div>"
      ],
      "text/plain": [
       "                     A         B\n",
       "first second                    \n",
       "bar   one    -0.643449 -2.241926\n",
       "      two     1.399051  0.156916\n",
       "baz   one     0.535896  1.223973\n",
       "      two    -0.668797 -1.052675"
      ]
     },
     "execution_count": 83,
     "metadata": {},
     "output_type": "execute_result"
    }
   ],
   "source": [
    "stacked.unstack()"
   ]
  },
  {
   "cell_type": "code",
   "execution_count": 84,
   "id": "11f51eca",
   "metadata": {},
   "outputs": [
    {
     "data": {
      "application/vnd.microsoft.datawrangler.viewer.v0+json": {
       "columns": [
        {
         "name": "('first', None)",
         "rawType": "object",
         "type": "unknown"
        },
        {
         "name": "one",
         "rawType": "float64",
         "type": "float"
        },
        {
         "name": "two",
         "rawType": "float64",
         "type": "float"
        }
       ],
       "ref": "75e362e9-68fa-4e89-bd5d-4d5c97e207fa",
       "rows": [
        [
         "('bar', 'A')",
         "-0.6434490022087108",
         "1.3990508437550246"
        ],
        [
         "('bar', 'B')",
         "-2.2419261021825516",
         "0.1569160824822853"
        ],
        [
         "('baz', 'A')",
         "0.5358962116540902",
         "-0.6687971641996471"
        ],
        [
         "('baz', 'B')",
         "1.2239725159327859",
         "-1.0526748061029174"
        ]
       ],
       "shape": {
        "columns": 2,
        "rows": 4
       }
      },
      "text/html": [
       "<div>\n",
       "<style scoped>\n",
       "    .dataframe tbody tr th:only-of-type {\n",
       "        vertical-align: middle;\n",
       "    }\n",
       "\n",
       "    .dataframe tbody tr th {\n",
       "        vertical-align: top;\n",
       "    }\n",
       "\n",
       "    .dataframe thead th {\n",
       "        text-align: right;\n",
       "    }\n",
       "</style>\n",
       "<table border=\"1\" class=\"dataframe\">\n",
       "  <thead>\n",
       "    <tr style=\"text-align: right;\">\n",
       "      <th></th>\n",
       "      <th>second</th>\n",
       "      <th>one</th>\n",
       "      <th>two</th>\n",
       "    </tr>\n",
       "    <tr>\n",
       "      <th>first</th>\n",
       "      <th></th>\n",
       "      <th></th>\n",
       "      <th></th>\n",
       "    </tr>\n",
       "  </thead>\n",
       "  <tbody>\n",
       "    <tr>\n",
       "      <th rowspan=\"2\" valign=\"top\">bar</th>\n",
       "      <th>A</th>\n",
       "      <td>-0.643449</td>\n",
       "      <td>1.399051</td>\n",
       "    </tr>\n",
       "    <tr>\n",
       "      <th>B</th>\n",
       "      <td>-2.241926</td>\n",
       "      <td>0.156916</td>\n",
       "    </tr>\n",
       "    <tr>\n",
       "      <th rowspan=\"2\" valign=\"top\">baz</th>\n",
       "      <th>A</th>\n",
       "      <td>0.535896</td>\n",
       "      <td>-0.668797</td>\n",
       "    </tr>\n",
       "    <tr>\n",
       "      <th>B</th>\n",
       "      <td>1.223973</td>\n",
       "      <td>-1.052675</td>\n",
       "    </tr>\n",
       "  </tbody>\n",
       "</table>\n",
       "</div>"
      ],
      "text/plain": [
       "second        one       two\n",
       "first                      \n",
       "bar   A -0.643449  1.399051\n",
       "      B -2.241926  0.156916\n",
       "baz   A  0.535896 -0.668797\n",
       "      B  1.223973 -1.052675"
      ]
     },
     "execution_count": 84,
     "metadata": {},
     "output_type": "execute_result"
    }
   ],
   "source": [
    "stacked.unstack(1)"
   ]
  },
  {
   "cell_type": "code",
   "execution_count": 85,
   "id": "6662bb54",
   "metadata": {},
   "outputs": [
    {
     "data": {
      "application/vnd.microsoft.datawrangler.viewer.v0+json": {
       "columns": [
        {
         "name": "('second', None)",
         "rawType": "object",
         "type": "unknown"
        },
        {
         "name": "bar",
         "rawType": "float64",
         "type": "float"
        },
        {
         "name": "baz",
         "rawType": "float64",
         "type": "float"
        }
       ],
       "ref": "8c447c2d-42a9-4e28-a561-e52fd5b6ffc8",
       "rows": [
        [
         "('one', 'A')",
         "-0.6434490022087108",
         "0.5358962116540902"
        ],
        [
         "('one', 'B')",
         "-2.2419261021825516",
         "1.2239725159327859"
        ],
        [
         "('two', 'A')",
         "1.3990508437550246",
         "-0.6687971641996471"
        ],
        [
         "('two', 'B')",
         "0.1569160824822853",
         "-1.0526748061029174"
        ]
       ],
       "shape": {
        "columns": 2,
        "rows": 4
       }
      },
      "text/html": [
       "<div>\n",
       "<style scoped>\n",
       "    .dataframe tbody tr th:only-of-type {\n",
       "        vertical-align: middle;\n",
       "    }\n",
       "\n",
       "    .dataframe tbody tr th {\n",
       "        vertical-align: top;\n",
       "    }\n",
       "\n",
       "    .dataframe thead th {\n",
       "        text-align: right;\n",
       "    }\n",
       "</style>\n",
       "<table border=\"1\" class=\"dataframe\">\n",
       "  <thead>\n",
       "    <tr style=\"text-align: right;\">\n",
       "      <th></th>\n",
       "      <th>first</th>\n",
       "      <th>bar</th>\n",
       "      <th>baz</th>\n",
       "    </tr>\n",
       "    <tr>\n",
       "      <th>second</th>\n",
       "      <th></th>\n",
       "      <th></th>\n",
       "      <th></th>\n",
       "    </tr>\n",
       "  </thead>\n",
       "  <tbody>\n",
       "    <tr>\n",
       "      <th rowspan=\"2\" valign=\"top\">one</th>\n",
       "      <th>A</th>\n",
       "      <td>-0.643449</td>\n",
       "      <td>0.535896</td>\n",
       "    </tr>\n",
       "    <tr>\n",
       "      <th>B</th>\n",
       "      <td>-2.241926</td>\n",
       "      <td>1.223973</td>\n",
       "    </tr>\n",
       "    <tr>\n",
       "      <th rowspan=\"2\" valign=\"top\">two</th>\n",
       "      <th>A</th>\n",
       "      <td>1.399051</td>\n",
       "      <td>-0.668797</td>\n",
       "    </tr>\n",
       "    <tr>\n",
       "      <th>B</th>\n",
       "      <td>0.156916</td>\n",
       "      <td>-1.052675</td>\n",
       "    </tr>\n",
       "  </tbody>\n",
       "</table>\n",
       "</div>"
      ],
      "text/plain": [
       "first          bar       baz\n",
       "second                      \n",
       "one    A -0.643449  0.535896\n",
       "       B -2.241926  1.223973\n",
       "two    A  1.399051 -0.668797\n",
       "       B  0.156916 -1.052675"
      ]
     },
     "execution_count": 85,
     "metadata": {},
     "output_type": "execute_result"
    }
   ],
   "source": [
    "stacked.unstack(0)"
   ]
  },
  {
   "cell_type": "markdown",
   "id": "dcd71286",
   "metadata": {},
   "source": [
    "# Pivot Tables"
   ]
  },
  {
   "cell_type": "code",
   "execution_count": 86,
   "id": "4777e604",
   "metadata": {},
   "outputs": [
    {
     "data": {
      "application/vnd.microsoft.datawrangler.viewer.v0+json": {
       "columns": [
        {
         "name": "index",
         "rawType": "int64",
         "type": "integer"
        },
        {
         "name": "A",
         "rawType": "object",
         "type": "string"
        },
        {
         "name": "B",
         "rawType": "object",
         "type": "string"
        },
        {
         "name": "C",
         "rawType": "object",
         "type": "string"
        },
        {
         "name": "D",
         "rawType": "float64",
         "type": "float"
        },
        {
         "name": "E",
         "rawType": "float64",
         "type": "float"
        }
       ],
       "ref": "b3a4017d-4539-46d3-8676-493dece7e2a0",
       "rows": [
        [
         "0",
         "one",
         "A",
         "foo",
         "0.6064383443326817",
         "-0.7175076471407023"
        ],
        [
         "1",
         "one",
         "B",
         "foo",
         "-1.5950460984814274",
         "0.7887581027240396"
        ],
        [
         "2",
         "two",
         "C",
         "foo",
         "0.23723873637798826",
         "0.5940127826708661"
        ],
        [
         "3",
         "three",
         "A",
         "bar",
         "-0.9456812573170973",
         "0.16850710549397765"
        ],
        [
         "4",
         "one",
         "B",
         "bar",
         "-1.0180661754276898",
         "0.23360292365074037"
        ],
        [
         "5",
         "one",
         "C",
         "bar",
         "-0.7270902649651386",
         "-1.0865266185867406"
        ],
        [
         "6",
         "two",
         "A",
         "foo",
         "0.55898584472415",
         "-0.31833550594110793"
        ],
        [
         "7",
         "three",
         "B",
         "foo",
         "-0.9238114724741205",
         "0.07071064446423522"
        ],
        [
         "8",
         "one",
         "C",
         "foo",
         "1.1535618487249175",
         "1.8387252933681795"
        ],
        [
         "9",
         "one",
         "A",
         "bar",
         "-0.05915561949769312",
         "0.9040921087024532"
        ],
        [
         "10",
         "two",
         "B",
         "bar",
         "-0.2646608387140972",
         "1.1648436466445995"
        ],
        [
         "11",
         "three",
         "C",
         "bar",
         "-0.7677057139311408",
         "1.4851284704427528"
        ]
       ],
       "shape": {
        "columns": 5,
        "rows": 12
       }
      },
      "text/html": [
       "<div>\n",
       "<style scoped>\n",
       "    .dataframe tbody tr th:only-of-type {\n",
       "        vertical-align: middle;\n",
       "    }\n",
       "\n",
       "    .dataframe tbody tr th {\n",
       "        vertical-align: top;\n",
       "    }\n",
       "\n",
       "    .dataframe thead th {\n",
       "        text-align: right;\n",
       "    }\n",
       "</style>\n",
       "<table border=\"1\" class=\"dataframe\">\n",
       "  <thead>\n",
       "    <tr style=\"text-align: right;\">\n",
       "      <th></th>\n",
       "      <th>A</th>\n",
       "      <th>B</th>\n",
       "      <th>C</th>\n",
       "      <th>D</th>\n",
       "      <th>E</th>\n",
       "    </tr>\n",
       "  </thead>\n",
       "  <tbody>\n",
       "    <tr>\n",
       "      <th>0</th>\n",
       "      <td>one</td>\n",
       "      <td>A</td>\n",
       "      <td>foo</td>\n",
       "      <td>0.606438</td>\n",
       "      <td>-0.717508</td>\n",
       "    </tr>\n",
       "    <tr>\n",
       "      <th>1</th>\n",
       "      <td>one</td>\n",
       "      <td>B</td>\n",
       "      <td>foo</td>\n",
       "      <td>-1.595046</td>\n",
       "      <td>0.788758</td>\n",
       "    </tr>\n",
       "    <tr>\n",
       "      <th>2</th>\n",
       "      <td>two</td>\n",
       "      <td>C</td>\n",
       "      <td>foo</td>\n",
       "      <td>0.237239</td>\n",
       "      <td>0.594013</td>\n",
       "    </tr>\n",
       "    <tr>\n",
       "      <th>3</th>\n",
       "      <td>three</td>\n",
       "      <td>A</td>\n",
       "      <td>bar</td>\n",
       "      <td>-0.945681</td>\n",
       "      <td>0.168507</td>\n",
       "    </tr>\n",
       "    <tr>\n",
       "      <th>4</th>\n",
       "      <td>one</td>\n",
       "      <td>B</td>\n",
       "      <td>bar</td>\n",
       "      <td>-1.018066</td>\n",
       "      <td>0.233603</td>\n",
       "    </tr>\n",
       "    <tr>\n",
       "      <th>5</th>\n",
       "      <td>one</td>\n",
       "      <td>C</td>\n",
       "      <td>bar</td>\n",
       "      <td>-0.727090</td>\n",
       "      <td>-1.086527</td>\n",
       "    </tr>\n",
       "    <tr>\n",
       "      <th>6</th>\n",
       "      <td>two</td>\n",
       "      <td>A</td>\n",
       "      <td>foo</td>\n",
       "      <td>0.558986</td>\n",
       "      <td>-0.318336</td>\n",
       "    </tr>\n",
       "    <tr>\n",
       "      <th>7</th>\n",
       "      <td>three</td>\n",
       "      <td>B</td>\n",
       "      <td>foo</td>\n",
       "      <td>-0.923811</td>\n",
       "      <td>0.070711</td>\n",
       "    </tr>\n",
       "    <tr>\n",
       "      <th>8</th>\n",
       "      <td>one</td>\n",
       "      <td>C</td>\n",
       "      <td>foo</td>\n",
       "      <td>1.153562</td>\n",
       "      <td>1.838725</td>\n",
       "    </tr>\n",
       "    <tr>\n",
       "      <th>9</th>\n",
       "      <td>one</td>\n",
       "      <td>A</td>\n",
       "      <td>bar</td>\n",
       "      <td>-0.059156</td>\n",
       "      <td>0.904092</td>\n",
       "    </tr>\n",
       "    <tr>\n",
       "      <th>10</th>\n",
       "      <td>two</td>\n",
       "      <td>B</td>\n",
       "      <td>bar</td>\n",
       "      <td>-0.264661</td>\n",
       "      <td>1.164844</td>\n",
       "    </tr>\n",
       "    <tr>\n",
       "      <th>11</th>\n",
       "      <td>three</td>\n",
       "      <td>C</td>\n",
       "      <td>bar</td>\n",
       "      <td>-0.767706</td>\n",
       "      <td>1.485128</td>\n",
       "    </tr>\n",
       "  </tbody>\n",
       "</table>\n",
       "</div>"
      ],
      "text/plain": [
       "        A  B    C         D         E\n",
       "0     one  A  foo  0.606438 -0.717508\n",
       "1     one  B  foo -1.595046  0.788758\n",
       "2     two  C  foo  0.237239  0.594013\n",
       "3   three  A  bar -0.945681  0.168507\n",
       "4     one  B  bar -1.018066  0.233603\n",
       "5     one  C  bar -0.727090 -1.086527\n",
       "6     two  A  foo  0.558986 -0.318336\n",
       "7   three  B  foo -0.923811  0.070711\n",
       "8     one  C  foo  1.153562  1.838725\n",
       "9     one  A  bar -0.059156  0.904092\n",
       "10    two  B  bar -0.264661  1.164844\n",
       "11  three  C  bar -0.767706  1.485128"
      ]
     },
     "execution_count": 86,
     "metadata": {},
     "output_type": "execute_result"
    }
   ],
   "source": [
    "df = pd.DataFrame({\n",
    "    \"A\": [\"one\", \"one\", \"two\", \"three\"] * 3,\n",
    "    \"B\": [\"A\", \"B\", \"C\"] * 4,\n",
    "    \"C\": [\"foo\", \"foo\", \"foo\", \"bar\", \"bar\", \"bar\"] * 2,\n",
    "    \"D\": np.random.randn(12),\n",
    "    \"E\": np.random.randn(12),\n",
    "})\n",
    "df"
   ]
  },
  {
   "cell_type": "code",
   "execution_count": 88,
   "id": "e1194cdb",
   "metadata": {},
   "outputs": [
    {
     "data": {
      "application/vnd.microsoft.datawrangler.viewer.v0+json": {
       "columns": [
        {
         "name": "('A', 'B')",
         "rawType": "object",
         "type": "unknown"
        },
        {
         "name": "bar",
         "rawType": "float64",
         "type": "float"
        },
        {
         "name": "foo",
         "rawType": "float64",
         "type": "float"
        }
       ],
       "ref": "58ccff3b-6588-47a0-8999-19ff835c5c81",
       "rows": [
        [
         "('one', 'A')",
         "-0.05915561949769312",
         "0.6064383443326817"
        ],
        [
         "('one', 'B')",
         "-1.0180661754276898",
         "-1.5950460984814274"
        ],
        [
         "('one', 'C')",
         "-0.7270902649651386",
         "1.1535618487249175"
        ],
        [
         "('three', 'A')",
         "-0.9456812573170973",
         null
        ],
        [
         "('three', 'B')",
         null,
         "-0.9238114724741205"
        ],
        [
         "('three', 'C')",
         "-0.7677057139311408",
         null
        ],
        [
         "('two', 'A')",
         null,
         "0.55898584472415"
        ],
        [
         "('two', 'B')",
         "-0.2646608387140972",
         null
        ],
        [
         "('two', 'C')",
         null,
         "0.23723873637798826"
        ]
       ],
       "shape": {
        "columns": 2,
        "rows": 9
       }
      },
      "text/html": [
       "<div>\n",
       "<style scoped>\n",
       "    .dataframe tbody tr th:only-of-type {\n",
       "        vertical-align: middle;\n",
       "    }\n",
       "\n",
       "    .dataframe tbody tr th {\n",
       "        vertical-align: top;\n",
       "    }\n",
       "\n",
       "    .dataframe thead th {\n",
       "        text-align: right;\n",
       "    }\n",
       "</style>\n",
       "<table border=\"1\" class=\"dataframe\">\n",
       "  <thead>\n",
       "    <tr style=\"text-align: right;\">\n",
       "      <th></th>\n",
       "      <th>C</th>\n",
       "      <th>bar</th>\n",
       "      <th>foo</th>\n",
       "    </tr>\n",
       "    <tr>\n",
       "      <th>A</th>\n",
       "      <th>B</th>\n",
       "      <th></th>\n",
       "      <th></th>\n",
       "    </tr>\n",
       "  </thead>\n",
       "  <tbody>\n",
       "    <tr>\n",
       "      <th rowspan=\"3\" valign=\"top\">one</th>\n",
       "      <th>A</th>\n",
       "      <td>-0.059156</td>\n",
       "      <td>0.606438</td>\n",
       "    </tr>\n",
       "    <tr>\n",
       "      <th>B</th>\n",
       "      <td>-1.018066</td>\n",
       "      <td>-1.595046</td>\n",
       "    </tr>\n",
       "    <tr>\n",
       "      <th>C</th>\n",
       "      <td>-0.727090</td>\n",
       "      <td>1.153562</td>\n",
       "    </tr>\n",
       "    <tr>\n",
       "      <th rowspan=\"3\" valign=\"top\">three</th>\n",
       "      <th>A</th>\n",
       "      <td>-0.945681</td>\n",
       "      <td>NaN</td>\n",
       "    </tr>\n",
       "    <tr>\n",
       "      <th>B</th>\n",
       "      <td>NaN</td>\n",
       "      <td>-0.923811</td>\n",
       "    </tr>\n",
       "    <tr>\n",
       "      <th>C</th>\n",
       "      <td>-0.767706</td>\n",
       "      <td>NaN</td>\n",
       "    </tr>\n",
       "    <tr>\n",
       "      <th rowspan=\"3\" valign=\"top\">two</th>\n",
       "      <th>A</th>\n",
       "      <td>NaN</td>\n",
       "      <td>0.558986</td>\n",
       "    </tr>\n",
       "    <tr>\n",
       "      <th>B</th>\n",
       "      <td>-0.264661</td>\n",
       "      <td>NaN</td>\n",
       "    </tr>\n",
       "    <tr>\n",
       "      <th>C</th>\n",
       "      <td>NaN</td>\n",
       "      <td>0.237239</td>\n",
       "    </tr>\n",
       "  </tbody>\n",
       "</table>\n",
       "</div>"
      ],
      "text/plain": [
       "C             bar       foo\n",
       "A     B                    \n",
       "one   A -0.059156  0.606438\n",
       "      B -1.018066 -1.595046\n",
       "      C -0.727090  1.153562\n",
       "three A -0.945681       NaN\n",
       "      B       NaN -0.923811\n",
       "      C -0.767706       NaN\n",
       "two   A       NaN  0.558986\n",
       "      B -0.264661       NaN\n",
       "      C       NaN  0.237239"
      ]
     },
     "execution_count": 88,
     "metadata": {},
     "output_type": "execute_result"
    }
   ],
   "source": [
    "pd.pivot_table(df, values=\"D\", index=[\"A\", \"B\"], columns=[\"C\"])"
   ]
  },
  {
   "cell_type": "markdown",
   "id": "35f9f19e",
   "metadata": {},
   "source": [
    "# Time Series\n",
    "- date_range: create a DatetimeIndex\n",
    "- "
   ]
  },
  {
   "cell_type": "code",
   "execution_count": 90,
   "id": "0b8f6475",
   "metadata": {},
   "outputs": [
    {
     "data": {
      "application/vnd.microsoft.datawrangler.viewer.v0+json": {
       "columns": [
        {
         "name": "index",
         "rawType": "datetime64[ns]",
         "type": "datetime"
        },
        {
         "name": "0",
         "rawType": "int32",
         "type": "integer"
        }
       ],
       "ref": "ad934034-a56b-41cb-bce0-f4013e29c632",
       "rows": [
        [
         "2025-01-01 00:00:00",
         "24643"
        ]
       ],
       "shape": {
        "columns": 1,
        "rows": 1
       }
      },
      "text/plain": [
       "2025-01-01    24643\n",
       "Freq: 5min, dtype: int32"
      ]
     },
     "execution_count": 90,
     "metadata": {},
     "output_type": "execute_result"
    }
   ],
   "source": [
    "rng = pd.date_range(\"1/1/2025\", periods=100, freq=\"s\")\n",
    "ts = pd.Series(np.random.randint(0, 500, len(rng)), index=rng)\n",
    "ts.resample(\"5Min\").sum()"
   ]
  },
  {
   "cell_type": "code",
   "execution_count": 98,
   "id": "4f9eb875",
   "metadata": {},
   "outputs": [
    {
     "data": {
      "text/plain": [
       "pandas.core.indexes.datetimes.DatetimeIndex"
      ]
     },
     "execution_count": 98,
     "metadata": {},
     "output_type": "execute_result"
    }
   ],
   "source": [
    "type(pd.date_range(\"1/1/2025\", periods=10, freq=\"ME\"))"
   ]
  },
  {
   "cell_type": "code",
   "execution_count": 92,
   "id": "e92e67e3",
   "metadata": {},
   "outputs": [
    {
     "data": {
      "application/vnd.microsoft.datawrangler.viewer.v0+json": {
       "columns": [
        {
         "name": "index",
         "rawType": "datetime64[ns]",
         "type": "datetime"
        },
        {
         "name": "0",
         "rawType": "float64",
         "type": "float"
        }
       ],
       "ref": "72c4d8ad-6f16-4815-bf4e-0e4341d5cdae",
       "rows": [
        [
         "2025-03-16 00:00:00",
         "0.19367859456881717"
        ],
        [
         "2025-03-17 00:00:00",
         "2.486498348143045"
        ],
        [
         "2025-03-18 00:00:00",
         "-1.9625122872180036"
        ],
        [
         "2025-03-19 00:00:00",
         "0.1964221553338205"
        ],
        [
         "2025-03-20 00:00:00",
         "0.5138177724171245"
        ]
       ],
       "shape": {
        "columns": 1,
        "rows": 5
       }
      },
      "text/plain": [
       "2025-03-16    0.193679\n",
       "2025-03-17    2.486498\n",
       "2025-03-18   -1.962512\n",
       "2025-03-19    0.196422\n",
       "2025-03-20    0.513818\n",
       "Freq: D, dtype: float64"
      ]
     },
     "execution_count": 92,
     "metadata": {},
     "output_type": "execute_result"
    }
   ],
   "source": [
    "rng = pd.date_range(\"3/16/2025 00:00\", periods=5, freq=\"D\")\n",
    "ts = pd.Series(np.random.randn(len(rng)), rng)\n",
    "ts"
   ]
  },
  {
   "cell_type": "code",
   "execution_count": 93,
   "id": "442df18c",
   "metadata": {},
   "outputs": [
    {
     "data": {
      "application/vnd.microsoft.datawrangler.viewer.v0+json": {
       "columns": [
        {
         "name": "index",
         "rawType": "datetime64[ns, UTC]",
         "type": "unknown"
        },
        {
         "name": "0",
         "rawType": "float64",
         "type": "float"
        }
       ],
       "ref": "059e73bd-5753-41fd-a65a-1f0d90707a40",
       "rows": [
        [
         "2025-03-16 00:00:00+00:00",
         "0.19367859456881717"
        ],
        [
         "2025-03-17 00:00:00+00:00",
         "2.486498348143045"
        ],
        [
         "2025-03-18 00:00:00+00:00",
         "-1.9625122872180036"
        ],
        [
         "2025-03-19 00:00:00+00:00",
         "0.1964221553338205"
        ],
        [
         "2025-03-20 00:00:00+00:00",
         "0.5138177724171245"
        ]
       ],
       "shape": {
        "columns": 1,
        "rows": 5
       }
      },
      "text/plain": [
       "2025-03-16 00:00:00+00:00    0.193679\n",
       "2025-03-17 00:00:00+00:00    2.486498\n",
       "2025-03-18 00:00:00+00:00   -1.962512\n",
       "2025-03-19 00:00:00+00:00    0.196422\n",
       "2025-03-20 00:00:00+00:00    0.513818\n",
       "Freq: D, dtype: float64"
      ]
     },
     "execution_count": 93,
     "metadata": {},
     "output_type": "execute_result"
    }
   ],
   "source": [
    "ts_utc = ts.tz_localize(\"UTC\")\n",
    "ts_utc"
   ]
  },
  {
   "cell_type": "code",
   "execution_count": 94,
   "id": "d5ca66db",
   "metadata": {},
   "outputs": [
    {
     "data": {
      "application/vnd.microsoft.datawrangler.viewer.v0+json": {
       "columns": [
        {
         "name": "index",
         "rawType": "datetime64[ns, US/Eastern]",
         "type": "unknown"
        },
        {
         "name": "0",
         "rawType": "float64",
         "type": "float"
        }
       ],
       "ref": "28ed28e2-bf5b-4aa0-886e-958d70a76296",
       "rows": [
        [
         "2025-03-15 20:00:00-04:00",
         "0.19367859456881717"
        ],
        [
         "2025-03-16 20:00:00-04:00",
         "2.486498348143045"
        ],
        [
         "2025-03-17 20:00:00-04:00",
         "-1.9625122872180036"
        ],
        [
         "2025-03-18 20:00:00-04:00",
         "0.1964221553338205"
        ],
        [
         "2025-03-19 20:00:00-04:00",
         "0.5138177724171245"
        ]
       ],
       "shape": {
        "columns": 1,
        "rows": 5
       }
      },
      "text/plain": [
       "2025-03-15 20:00:00-04:00    0.193679\n",
       "2025-03-16 20:00:00-04:00    2.486498\n",
       "2025-03-17 20:00:00-04:00   -1.962512\n",
       "2025-03-18 20:00:00-04:00    0.196422\n",
       "2025-03-19 20:00:00-04:00    0.513818\n",
       "Freq: D, dtype: float64"
      ]
     },
     "execution_count": 94,
     "metadata": {},
     "output_type": "execute_result"
    }
   ],
   "source": [
    "ts_utc.tz_convert(\"US/Eastern\")"
   ]
  },
  {
   "cell_type": "code",
   "execution_count": 95,
   "id": "3b7f4604",
   "metadata": {},
   "outputs": [
    {
     "data": {
      "text/plain": [
       "DatetimeIndex(['2025-03-16', '2025-03-17', '2025-03-18', '2025-03-19',\n",
       "               '2025-03-20'],\n",
       "              dtype='datetime64[ns]', freq='D')"
      ]
     },
     "execution_count": 95,
     "metadata": {},
     "output_type": "execute_result"
    }
   ],
   "source": [
    "rng"
   ]
  },
  {
   "cell_type": "code",
   "execution_count": 96,
   "id": "5e51b6f9",
   "metadata": {},
   "outputs": [
    {
     "data": {
      "text/plain": [
       "DatetimeIndex(['2025-03-21', '2025-03-24', '2025-03-25', '2025-03-26',\n",
       "               '2025-03-27'],\n",
       "              dtype='datetime64[ns]', freq=None)"
      ]
     },
     "execution_count": 96,
     "metadata": {},
     "output_type": "execute_result"
    }
   ],
   "source": [
    "rng + pd.offsets.BusinessDay(5)"
   ]
  },
  {
   "cell_type": "markdown",
   "id": "0e541df8",
   "metadata": {},
   "source": [
    "# Categoricals"
   ]
  },
  {
   "cell_type": "code",
   "execution_count": 102,
   "id": "d24393e4",
   "metadata": {},
   "outputs": [
    {
     "data": {
      "application/vnd.microsoft.datawrangler.viewer.v0+json": {
       "columns": [
        {
         "name": "index",
         "rawType": "int64",
         "type": "integer"
        },
        {
         "name": "grade",
         "rawType": "category",
         "type": "unknown"
        }
       ],
       "ref": "d8bfc795-e133-446b-ae81-5bed11bcfdbf",
       "rows": [
        [
         "0",
         "a"
        ],
        [
         "1",
         "b"
        ],
        [
         "2",
         "b"
        ],
        [
         "3",
         "a"
        ],
        [
         "4",
         "a"
        ],
        [
         "5",
         "e"
        ]
       ],
       "shape": {
        "columns": 1,
        "rows": 6
       }
      },
      "text/plain": [
       "0    a\n",
       "1    b\n",
       "2    b\n",
       "3    a\n",
       "4    a\n",
       "5    e\n",
       "Name: grade, dtype: category\n",
       "Categories (3, object): ['a', 'b', 'e']"
      ]
     },
     "execution_count": 102,
     "metadata": {},
     "output_type": "execute_result"
    }
   ],
   "source": [
    "df = pd.DataFrame({\n",
    "    \"id\": [1, 2, 3, 4, 5, 6],\n",
    "    \"raw_grade\": [\"a\", \"b\", \"b\", \"a\", \"a\", \"e\"]})\n",
    "df[\"grade\"] = df[\"raw_grade\"].astype(\"category\")\n",
    "df[\"grade\"]"
   ]
  },
  {
   "cell_type": "code",
   "execution_count": 103,
   "id": "39d80e9e",
   "metadata": {},
   "outputs": [
    {
     "data": {
      "application/vnd.microsoft.datawrangler.viewer.v0+json": {
       "columns": [
        {
         "name": "index",
         "rawType": "int64",
         "type": "integer"
        },
        {
         "name": "grade",
         "rawType": "category",
         "type": "unknown"
        }
       ],
       "ref": "2f10050f-3161-47e9-b0af-af1743eae7de",
       "rows": [
        [
         "0",
         "very good"
        ],
        [
         "1",
         "good"
        ],
        [
         "2",
         "good"
        ],
        [
         "3",
         "very good"
        ],
        [
         "4",
         "very good"
        ],
        [
         "5",
         "very bad"
        ]
       ],
       "shape": {
        "columns": 1,
        "rows": 6
       }
      },
      "text/plain": [
       "0    very good\n",
       "1         good\n",
       "2         good\n",
       "3    very good\n",
       "4    very good\n",
       "5     very bad\n",
       "Name: grade, dtype: category\n",
       "Categories (3, object): ['very good', 'good', 'very bad']"
      ]
     },
     "execution_count": 103,
     "metadata": {},
     "output_type": "execute_result"
    }
   ],
   "source": [
    "new_categories = [\"very good\", \"good\", \"very bad\"]\n",
    "df[\"grade\"] = df[\"grade\"].cat.rename_categories(new_categories)\n",
    "df[\"grade\"]"
   ]
  },
  {
   "cell_type": "code",
   "execution_count": 104,
   "id": "bb4c27c4",
   "metadata": {},
   "outputs": [
    {
     "data": {
      "application/vnd.microsoft.datawrangler.viewer.v0+json": {
       "columns": [
        {
         "name": "index",
         "rawType": "int64",
         "type": "integer"
        },
        {
         "name": "grade",
         "rawType": "category",
         "type": "unknown"
        }
       ],
       "ref": "9c2241b7-aed2-4296-a433-4634fe4cf24f",
       "rows": [
        [
         "0",
         "very good"
        ],
        [
         "1",
         "good"
        ],
        [
         "2",
         "good"
        ],
        [
         "3",
         "very good"
        ],
        [
         "4",
         "very good"
        ],
        [
         "5",
         "very bad"
        ]
       ],
       "shape": {
        "columns": 1,
        "rows": 6
       }
      },
      "text/plain": [
       "0    very good\n",
       "1         good\n",
       "2         good\n",
       "3    very good\n",
       "4    very good\n",
       "5     very bad\n",
       "Name: grade, dtype: category\n",
       "Categories (5, object): ['very bad', 'bad', 'medium', 'good', 'very good']"
      ]
     },
     "execution_count": 104,
     "metadata": {},
     "output_type": "execute_result"
    }
   ],
   "source": [
    "\n",
    "df[\"grade\"] = df[\"grade\"].cat.set_categories(\n",
    "    [\"very bad\", \"bad\", \"medium\", \"good\", \"very good\"]\n",
    ")\n",
    "df[\"grade\"]"
   ]
  },
  {
   "cell_type": "code",
   "execution_count": 105,
   "id": "5b396364",
   "metadata": {},
   "outputs": [
    {
     "data": {
      "application/vnd.microsoft.datawrangler.viewer.v0+json": {
       "columns": [
        {
         "name": "index",
         "rawType": "int64",
         "type": "integer"
        },
        {
         "name": "id",
         "rawType": "int64",
         "type": "integer"
        },
        {
         "name": "raw_grade",
         "rawType": "object",
         "type": "string"
        },
        {
         "name": "grade",
         "rawType": "category",
         "type": "unknown"
        }
       ],
       "ref": "b10c9f86-2328-487c-97e5-74118bb5d714",
       "rows": [
        [
         "5",
         "6",
         "e",
         "very bad"
        ],
        [
         "1",
         "2",
         "b",
         "good"
        ],
        [
         "2",
         "3",
         "b",
         "good"
        ],
        [
         "0",
         "1",
         "a",
         "very good"
        ],
        [
         "3",
         "4",
         "a",
         "very good"
        ],
        [
         "4",
         "5",
         "a",
         "very good"
        ]
       ],
       "shape": {
        "columns": 3,
        "rows": 6
       }
      },
      "text/html": [
       "<div>\n",
       "<style scoped>\n",
       "    .dataframe tbody tr th:only-of-type {\n",
       "        vertical-align: middle;\n",
       "    }\n",
       "\n",
       "    .dataframe tbody tr th {\n",
       "        vertical-align: top;\n",
       "    }\n",
       "\n",
       "    .dataframe thead th {\n",
       "        text-align: right;\n",
       "    }\n",
       "</style>\n",
       "<table border=\"1\" class=\"dataframe\">\n",
       "  <thead>\n",
       "    <tr style=\"text-align: right;\">\n",
       "      <th></th>\n",
       "      <th>id</th>\n",
       "      <th>raw_grade</th>\n",
       "      <th>grade</th>\n",
       "    </tr>\n",
       "  </thead>\n",
       "  <tbody>\n",
       "    <tr>\n",
       "      <th>5</th>\n",
       "      <td>6</td>\n",
       "      <td>e</td>\n",
       "      <td>very bad</td>\n",
       "    </tr>\n",
       "    <tr>\n",
       "      <th>1</th>\n",
       "      <td>2</td>\n",
       "      <td>b</td>\n",
       "      <td>good</td>\n",
       "    </tr>\n",
       "    <tr>\n",
       "      <th>2</th>\n",
       "      <td>3</td>\n",
       "      <td>b</td>\n",
       "      <td>good</td>\n",
       "    </tr>\n",
       "    <tr>\n",
       "      <th>0</th>\n",
       "      <td>1</td>\n",
       "      <td>a</td>\n",
       "      <td>very good</td>\n",
       "    </tr>\n",
       "    <tr>\n",
       "      <th>3</th>\n",
       "      <td>4</td>\n",
       "      <td>a</td>\n",
       "      <td>very good</td>\n",
       "    </tr>\n",
       "    <tr>\n",
       "      <th>4</th>\n",
       "      <td>5</td>\n",
       "      <td>a</td>\n",
       "      <td>very good</td>\n",
       "    </tr>\n",
       "  </tbody>\n",
       "</table>\n",
       "</div>"
      ],
      "text/plain": [
       "   id raw_grade      grade\n",
       "5   6         e   very bad\n",
       "1   2         b       good\n",
       "2   3         b       good\n",
       "0   1         a  very good\n",
       "3   4         a  very good\n",
       "4   5         a  very good"
      ]
     },
     "execution_count": 105,
     "metadata": {},
     "output_type": "execute_result"
    }
   ],
   "source": [
    "df.sort_values(by=\"grade\")"
   ]
  },
  {
   "cell_type": "code",
   "execution_count": 106,
   "id": "ea5cbcb6",
   "metadata": {},
   "outputs": [
    {
     "data": {
      "application/vnd.microsoft.datawrangler.viewer.v0+json": {
       "columns": [
        {
         "name": "grade",
         "rawType": "category",
         "type": "unknown"
        },
        {
         "name": "0",
         "rawType": "int64",
         "type": "integer"
        }
       ],
       "ref": "ca1039c3-a999-4b74-a911-c29d040c9371",
       "rows": [
        [
         "very bad",
         "1"
        ],
        [
         "bad",
         "0"
        ],
        [
         "medium",
         "0"
        ],
        [
         "good",
         "2"
        ],
        [
         "very good",
         "3"
        ]
       ],
       "shape": {
        "columns": 1,
        "rows": 5
       }
      },
      "text/plain": [
       "grade\n",
       "very bad     1\n",
       "bad          0\n",
       "medium       0\n",
       "good         2\n",
       "very good    3\n",
       "dtype: int64"
      ]
     },
     "execution_count": 106,
     "metadata": {},
     "output_type": "execute_result"
    }
   ],
   "source": [
    "df.groupby(\"grade\", observed=False).size()"
   ]
  },
  {
   "cell_type": "markdown",
   "id": "77bf7e72",
   "metadata": {},
   "source": [
    "# Plotting"
   ]
  },
  {
   "cell_type": "code",
   "execution_count": 107,
   "id": "4daa11ee",
   "metadata": {},
   "outputs": [],
   "source": [
    "import matplotlib.pyplot as plt\n",
    "\n",
    "plt.close(\"all\")"
   ]
  },
  {
   "cell_type": "code",
   "execution_count": 109,
   "id": "d0ff3157",
   "metadata": {},
   "outputs": [
    {
     "data": {
      "text/plain": [
       "<Axes: >"
      ]
     },
     "execution_count": 109,
     "metadata": {},
     "output_type": "execute_result"
    },
    {
     "data": {
      "image/png": "[encoded data removed]",
      "text/plain": [
       "<Figure size 640x480 with 1 Axes>"
      ]
     },
     "metadata": {},
     "output_type": "display_data"
    }
   ],
   "source": [
    "ts = pd.Series(np.random.randn(1000), index=pd.date_range(\"1/1/2025\", periods=1000))\n",
    "ts = ts.cumsum()\n",
    "ts.plot()"
   ]
  },
  {
   "cell_type": "code",
   "execution_count": 112,
   "id": "37b682d0",
   "metadata": {},
   "outputs": [
    {
     "data": {
      "image/png": "[encoded data removed]",
      "text/plain": [
       "<Figure size 640x480 with 1 Axes>"
      ]
     },
     "metadata": {},
     "output_type": "display_data"
    }
   ],
   "source": [
    "df = pd.DataFrame(\n",
    "    np.random.randn(1000, 4), index=ts.index, columns=[\"A\", \"B\", \"C\", \"D\"]\n",
    ")\n",
    "\n",
    "df = df.cumsum()\n",
    "df.plot()\n",
    "plt.legend(loc=\"best\")\n",
    "plt.show()"
   ]
  },
  {
   "cell_type": "markdown",
   "id": "51eb63f4",
   "metadata": {},
   "source": [
    "# Data Structure\n",
    "- Data alignment is intrinsic. The link between labels and data will not be broken unless done so explicitly by you.\n",
    "## Series\n",
    "- one-dimensional labeld array capable of holding any data type (integers, strings, floating point numbers, Python objects, etc.). The axis labels are collectively reffered to as the index.\n",
    "- acts very similarly to a ndarray and is valid argument to most Numpy functions. However, operions such as slicing will also slice the index.\n",
    "- Like numpy ndarray, all types must be the same. However, pandas extends Numpy type system and add in categorical data and Nullable integer data type."
   ]
  },
  {
   "cell_type": "code",
   "execution_count": 113,
   "id": "49b17e89",
   "metadata": {},
   "outputs": [
    {
     "data": {
      "application/vnd.microsoft.datawrangler.viewer.v0+json": {
       "columns": [
        {
         "name": "index",
         "rawType": "object",
         "type": "string"
        },
        {
         "name": "0",
         "rawType": "float64",
         "type": "float"
        }
       ],
       "ref": "99bf7434-c4bf-4888-b67c-12391c4dfaaa",
       "rows": [
        [
         "a",
         "-0.1505632385709974"
        ],
        [
         "b",
         "0.7452624906326603"
        ],
        [
         "c",
         "-0.023991467680471397"
        ],
        [
         "d",
         "1.489407006937053"
        ],
        [
         "e",
         "1.3442373535325582"
        ]
       ],
       "shape": {
        "columns": 1,
        "rows": 5
       }
      },
      "text/plain": [
       "a   -0.150563\n",
       "b    0.745262\n",
       "c   -0.023991\n",
       "d    1.489407\n",
       "e    1.344237\n",
       "dtype: float64"
      ]
     },
     "execution_count": 113,
     "metadata": {},
     "output_type": "execute_result"
    }
   ],
   "source": [
    "# from ndarray - index must be same length as data. \n",
    "# If no index is passed, one will be created have values [0, ..., len(data) -1]\n",
    "s = pd.Series(np.random.randn(5), index=[\"a\", \"b\", \"c\", \"d\", \"e\"])\n",
    "s"
   ]
  },
  {
   "cell_type": "code",
   "execution_count": 115,
   "id": "0afc3fd2",
   "metadata": {},
   "outputs": [
    {
     "data": {
      "application/vnd.microsoft.datawrangler.viewer.v0+json": {
       "columns": [
        {
         "name": "index",
         "rawType": "object",
         "type": "string"
        },
        {
         "name": "0",
         "rawType": "int64",
         "type": "integer"
        }
       ],
       "ref": "47029cd9-8453-40cf-88e2-519cfc594644",
       "rows": [
        [
         "b",
         "1"
        ],
        [
         "a",
         "0"
        ],
        [
         "c",
         "2"
        ]
       ],
       "shape": {
        "columns": 1,
        "rows": 3
       }
      },
      "text/plain": [
       "b    1\n",
       "a    0\n",
       "c    2\n",
       "dtype: int64"
      ]
     },
     "execution_count": 115,
     "metadata": {},
     "output_type": "execute_result"
    }
   ],
   "source": [
    "# use dict to instantiate\n",
    "d = {\"b\": 1, \"a\": 0, \"c\": 2}\n",
    "pd.Series(d)"
   ]
  },
  {
   "cell_type": "code",
   "execution_count": null,
   "id": "728105f4",
   "metadata": {},
   "outputs": [
    {
     "name": "stdout",
     "output_type": "stream",
     "text": [
      "a    0.0\n",
      "b    1.0\n",
      "c    2.0\n",
      "dtype: float64\n",
      "b    1.0\n",
      "c    2.0\n",
      "d    NaN\n",
      "a    0.0\n",
      "dtype: float64\n"
     ]
    }
   ],
   "source": [
    "# if an index is passed, the values in data corresponding to the labels in the index will be pulled out\n",
    "d = {\"a\": 0.0, \"b\": 1.0, \"c\": 2.0}\n",
    "print(pd.Series(d))\n",
    "print(pd.Series(d, index=[\"b\", \"c\", \"d\", \"a\"]))"
   ]
  },
  {
   "cell_type": "code",
   "execution_count": 118,
   "id": "aa410ad8",
   "metadata": {},
   "outputs": [
    {
     "data": {
      "application/vnd.microsoft.datawrangler.viewer.v0+json": {
       "columns": [
        {
         "name": "index",
         "rawType": "object",
         "type": "string"
        },
        {
         "name": "0",
         "rawType": "float64",
         "type": "float"
        }
       ],
       "ref": "4967207d-48a9-4f16-9f87-82d41f1c7380",
       "rows": [
        [
         "a",
         "5.0"
        ],
        [
         "b",
         "5.0"
        ],
        [
         "d",
         "5.0"
        ],
        [
         "d",
         "5.0"
        ],
        [
         "e",
         "5.0"
        ]
       ],
       "shape": {
        "columns": 1,
        "rows": 5
       }
      },
      "text/plain": [
       "a    5.0\n",
       "b    5.0\n",
       "d    5.0\n",
       "d    5.0\n",
       "e    5.0\n",
       "dtype: float64"
      ]
     },
     "execution_count": 118,
     "metadata": {},
     "output_type": "execute_result"
    }
   ],
   "source": [
    "# creation from scalar value\n",
    "pd.Series(5.0, index=[\"a\", \"b\", \"d\", \"d\", \"e\"])"
   ]
  },
  {
   "cell_type": "code",
   "execution_count": 119,
   "id": "f0845b4b",
   "metadata": {},
   "outputs": [
    {
     "data": {
      "text/plain": [
       "np.float64(-0.1505632385709974)"
      ]
     },
     "execution_count": 119,
     "metadata": {},
     "output_type": "execute_result"
    }
   ],
   "source": [
    "s.iloc[0]"
   ]
  },
  {
   "cell_type": "code",
   "execution_count": 120,
   "id": "d5cd0834",
   "metadata": {},
   "outputs": [
    {
     "data": {
      "application/vnd.microsoft.datawrangler.viewer.v0+json": {
       "columns": [
        {
         "name": "index",
         "rawType": "object",
         "type": "string"
        },
        {
         "name": "0",
         "rawType": "float64",
         "type": "float"
        }
       ],
       "ref": "87cc845e-7a5e-43cf-9303-861cd7040f7c",
       "rows": [
        [
         "a",
         "-0.1505632385709974"
        ],
        [
         "b",
         "0.7452624906326603"
        ],
        [
         "c",
         "-0.023991467680471397"
        ]
       ],
       "shape": {
        "columns": 1,
        "rows": 3
       }
      },
      "text/plain": [
       "a   -0.150563\n",
       "b    0.745262\n",
       "c   -0.023991\n",
       "dtype: float64"
      ]
     },
     "execution_count": 120,
     "metadata": {},
     "output_type": "execute_result"
    }
   ],
   "source": [
    "s.iloc[:3]"
   ]
  },
  {
   "cell_type": "code",
   "execution_count": 121,
   "id": "42314bbf",
   "metadata": {},
   "outputs": [
    {
     "data": {
      "application/vnd.microsoft.datawrangler.viewer.v0+json": {
       "columns": [
        {
         "name": "index",
         "rawType": "object",
         "type": "string"
        },
        {
         "name": "0",
         "rawType": "float64",
         "type": "float"
        }
       ],
       "ref": "2f5c068f-4e0b-4a83-846b-e7cd87c32338",
       "rows": [
        [
         "d",
         "1.489407006937053"
        ],
        [
         "e",
         "1.3442373535325582"
        ]
       ],
       "shape": {
        "columns": 1,
        "rows": 2
       }
      },
      "text/plain": [
       "d    1.489407\n",
       "e    1.344237\n",
       "dtype: float64"
      ]
     },
     "execution_count": 121,
     "metadata": {},
     "output_type": "execute_result"
    }
   ],
   "source": [
    "s[s > s.median()]"
   ]
  },
  {
   "cell_type": "code",
   "execution_count": null,
   "id": "dacef0cd",
   "metadata": {},
   "outputs": [
    {
     "data": {
      "application/vnd.microsoft.datawrangler.viewer.v0+json": {
       "columns": [
        {
         "name": "index",
         "rawType": "object",
         "type": "string"
        },
        {
         "name": "0",
         "rawType": "float64",
         "type": "float"
        }
       ],
       "ref": "a5ef0b8f-42ab-4e5d-9b96-45986a0e7f56",
       "rows": [
        [
         "e",
         "1.3442373535325582"
        ],
        [
         "d",
         "1.489407006937053"
        ],
        [
         "b",
         "0.7452624906326603"
        ]
       ],
       "shape": {
        "columns": 1,
        "rows": 3
       }
      },
      "text/plain": [
       "e    1.344237\n",
       "d    1.489407\n",
       "b    0.745262\n",
       "dtype: float64"
      ]
     },
     "execution_count": 123,
     "metadata": {},
     "output_type": "execute_result"
    }
   ],
   "source": [
    "s.iloc[[4, 3, 1]] # return the index that has 4, 3, 1"
   ]
  },
  {
   "cell_type": "code",
   "execution_count": 124,
   "id": "0ee0349f",
   "metadata": {},
   "outputs": [
    {
     "data": {
      "application/vnd.microsoft.datawrangler.viewer.v0+json": {
       "columns": [
        {
         "name": "index",
         "rawType": "object",
         "type": "string"
        },
        {
         "name": "0",
         "rawType": "float64",
         "type": "float"
        }
       ],
       "ref": "53fefb11-3610-48c8-b99d-c0598978a5a4",
       "rows": [
        [
         "a",
         "0.8602233289932459"
        ],
        [
         "b",
         "2.1069944287003173"
        ],
        [
         "c",
         "0.9762940397750733"
        ],
        [
         "d",
         "4.4344651321189295"
        ],
        [
         "e",
         "3.835260477111189"
        ]
       ],
       "shape": {
        "columns": 1,
        "rows": 5
       }
      },
      "text/plain": [
       "a    0.860223\n",
       "b    2.106994\n",
       "c    0.976294\n",
       "d    4.434465\n",
       "e    3.835260\n",
       "dtype: float64"
      ]
     },
     "execution_count": 124,
     "metadata": {},
     "output_type": "execute_result"
    }
   ],
   "source": [
    "np.exp(s) # opertions on all elements of s"
   ]
  },
  {
   "cell_type": "code",
   "execution_count": 125,
   "id": "27bca9fa",
   "metadata": {},
   "outputs": [
    {
     "data": {
      "text/plain": [
       "dtype('float64')"
      ]
     },
     "execution_count": 125,
     "metadata": {},
     "output_type": "execute_result"
    }
   ],
   "source": [
    "s.dtype"
   ]
  },
  {
   "cell_type": "code",
   "execution_count": null,
   "id": "c18c02b7",
   "metadata": {},
   "outputs": [
    {
     "data": {
      "text/plain": [
       "<NumpyExtensionArray>\n",
       "[  np.float64(-0.1505632385709974),    np.float64(0.7452624906326603),\n",
       " np.float64(-0.023991467680471397),     np.float64(1.489407006937053),\n",
       "    np.float64(1.3442373535325582)]\n",
       "Length: 5, dtype: float64"
      ]
     },
     "execution_count": 126,
     "metadata": {},
     "output_type": "execute_result"
    }
   ],
   "source": [
    "s.array # could get the array from a series\n",
    "# useful for operations without the index"
   ]
  },
  {
   "cell_type": "code",
   "execution_count": 127,
   "id": "cdc5558b",
   "metadata": {},
   "outputs": [
    {
     "data": {
      "text/plain": [
       "array([-0.15056324,  0.74526249, -0.02399147,  1.48940701,  1.34423735])"
      ]
     },
     "execution_count": 127,
     "metadata": {},
     "output_type": "execute_result"
    }
   ],
   "source": [
    "s.to_numpy() # to return a numpy ndarray"
   ]
  },
  {
   "cell_type": "code",
   "execution_count": null,
   "id": "358aff36",
   "metadata": {},
   "outputs": [
    {
     "data": {
      "text/plain": [
       "np.float64(-0.1505632385709974)"
      ]
     },
     "execution_count": 128,
     "metadata": {},
     "output_type": "execute_result"
    }
   ],
   "source": [
    "s[\"a\"] # series is dict-like, could access with their index\n",
    "# if label is not in the index, then an exception will be raised."
   ]
  },
  {
   "cell_type": "code",
   "execution_count": 130,
   "id": "70600681",
   "metadata": {},
   "outputs": [
    {
     "data": {
      "application/vnd.microsoft.datawrangler.viewer.v0+json": {
       "columns": [
        {
         "name": "index",
         "rawType": "object",
         "type": "string"
        },
        {
         "name": "0",
         "rawType": "float64",
         "type": "float"
        }
       ],
       "ref": "49297b98-e034-4bab-b707-43efdb3091a0",
       "rows": [
        [
         "a",
         "-0.1505632385709974"
        ],
        [
         "b",
         "0.7452624906326603"
        ],
        [
         "c",
         "-0.023991467680471397"
        ],
        [
         "d",
         "1.489407006937053"
        ],
        [
         "e",
         "12.0"
        ]
       ],
       "shape": {
        "columns": 1,
        "rows": 5
       }
      },
      "text/plain": [
       "a    -0.150563\n",
       "b     0.745262\n",
       "c    -0.023991\n",
       "d     1.489407\n",
       "e    12.000000\n",
       "dtype: float64"
      ]
     },
     "execution_count": 130,
     "metadata": {},
     "output_type": "execute_result"
    }
   ],
   "source": [
    "s[\"e\"] = 12.0\n",
    "s"
   ]
  },
  {
   "cell_type": "code",
   "execution_count": 131,
   "id": "ac4e7c42",
   "metadata": {},
   "outputs": [
    {
     "data": {
      "text/plain": [
       "True"
      ]
     },
     "execution_count": 131,
     "metadata": {},
     "output_type": "execute_result"
    }
   ],
   "source": [
    "\"e\" in s"
   ]
  },
  {
   "cell_type": "code",
   "execution_count": 132,
   "id": "0d198bb8",
   "metadata": {},
   "outputs": [
    {
     "data": {
      "text/plain": [
       "False"
      ]
     },
     "execution_count": 132,
     "metadata": {},
     "output_type": "execute_result"
    }
   ],
   "source": [
    "\"f\" in s"
   ]
  },
  {
   "cell_type": "code",
   "execution_count": 133,
   "id": "75cdd948",
   "metadata": {},
   "outputs": [],
   "source": [
    "s.get(\"f\") # avoid an exception if \"f\" doesn't not exist"
   ]
  },
  {
   "cell_type": "code",
   "execution_count": 134,
   "id": "c99af5be",
   "metadata": {},
   "outputs": [
    {
     "data": {
      "text/plain": [
       "nan"
      ]
     },
     "execution_count": 134,
     "metadata": {},
     "output_type": "execute_result"
    }
   ],
   "source": [
    "s.get(\"f\", np.nan)"
   ]
  },
  {
   "cell_type": "markdown",
   "id": "ccc55df0",
   "metadata": {},
   "source": [
    "# Vectorized operations and labels alignment with Series\n",
    "- When working with raw numpy arrays, looping through value-by-value is usually not necessary. The same is true when workign with Series in pandas. Series can also be passed into most Numpy methods expecting an ndarray."
   ]
  },
  {
   "cell_type": "code",
   "execution_count": 135,
   "id": "ccaa3629",
   "metadata": {},
   "outputs": [
    {
     "data": {
      "application/vnd.microsoft.datawrangler.viewer.v0+json": {
       "columns": [
        {
         "name": "index",
         "rawType": "object",
         "type": "string"
        },
        {
         "name": "0",
         "rawType": "float64",
         "type": "float"
        }
       ],
       "ref": "8929ec3d-adf3-42e0-9c3a-5954fa1961a3",
       "rows": [
        [
         "a",
         "-0.3011264771419948"
        ],
        [
         "b",
         "1.4905249812653205"
        ],
        [
         "c",
         "-0.047982935360942794"
        ],
        [
         "d",
         "2.978814013874106"
        ],
        [
         "e",
         "24.0"
        ]
       ],
       "shape": {
        "columns": 1,
        "rows": 5
       }
      },
      "text/plain": [
       "a    -0.301126\n",
       "b     1.490525\n",
       "c    -0.047983\n",
       "d     2.978814\n",
       "e    24.000000\n",
       "dtype: float64"
      ]
     },
     "execution_count": 135,
     "metadata": {},
     "output_type": "execute_result"
    }
   ],
   "source": [
    "s + s"
   ]
  },
  {
   "cell_type": "code",
   "execution_count": 136,
   "id": "bbb323d0",
   "metadata": {},
   "outputs": [
    {
     "data": {
      "application/vnd.microsoft.datawrangler.viewer.v0+json": {
       "columns": [
        {
         "name": "index",
         "rawType": "object",
         "type": "string"
        },
        {
         "name": "0",
         "rawType": "float64",
         "type": "float"
        }
       ],
       "ref": "c711630c-6fa8-4b7b-bdc3-3120bd2a3807",
       "rows": [
        [
         "a",
         "-0.3011264771419948"
        ],
        [
         "b",
         "1.4905249812653205"
        ],
        [
         "c",
         "-0.047982935360942794"
        ],
        [
         "d",
         "2.978814013874106"
        ],
        [
         "e",
         "24.0"
        ]
       ],
       "shape": {
        "columns": 1,
        "rows": 5
       }
      },
      "text/plain": [
       "a    -0.301126\n",
       "b     1.490525\n",
       "c    -0.047983\n",
       "d     2.978814\n",
       "e    24.000000\n",
       "dtype: float64"
      ]
     },
     "execution_count": 136,
     "metadata": {},
     "output_type": "execute_result"
    }
   ],
   "source": [
    "s * 2"
   ]
  },
  {
   "cell_type": "code",
   "execution_count": 137,
   "id": "a6083ef4",
   "metadata": {},
   "outputs": [
    {
     "data": {
      "application/vnd.microsoft.datawrangler.viewer.v0+json": {
       "columns": [
        {
         "name": "index",
         "rawType": "object",
         "type": "string"
        },
        {
         "name": "0",
         "rawType": "float64",
         "type": "float"
        }
       ],
       "ref": "315b1bd3-0d66-494b-968c-3ddf5abeca4b",
       "rows": [
        [
         "a",
         "0.8602233289932459"
        ],
        [
         "b",
         "2.1069944287003173"
        ],
        [
         "c",
         "0.9762940397750733"
        ],
        [
         "d",
         "4.4344651321189295"
        ],
        [
         "e",
         "162754.79141900392"
        ]
       ],
       "shape": {
        "columns": 1,
        "rows": 5
       }
      },
      "text/plain": [
       "a         0.860223\n",
       "b         2.106994\n",
       "c         0.976294\n",
       "d         4.434465\n",
       "e    162754.791419\n",
       "dtype: float64"
      ]
     },
     "execution_count": 137,
     "metadata": {},
     "output_type": "execute_result"
    }
   ],
   "source": [
    "np.exp(s)"
   ]
  },
  {
   "cell_type": "markdown",
   "id": "46eea205",
   "metadata": {},
   "source": [
    "#### A key difference between Series and ndarray is that operations between Series automatically align the data based on labels. Thus, you can write computations without giving condiseration to whether the Series involved have the same labels."
   ]
  },
  {
   "cell_type": "code",
   "execution_count": 139,
   "id": "12b73f51",
   "metadata": {},
   "outputs": [
    {
     "data": {
      "application/vnd.microsoft.datawrangler.viewer.v0+json": {
       "columns": [
        {
         "name": "index",
         "rawType": "object",
         "type": "string"
        },
        {
         "name": "0",
         "rawType": "float64",
         "type": "float"
        }
       ],
       "ref": "fe30ef9a-f6d3-489c-9514-849c5f096b76",
       "rows": [
        [
         "b",
         "0.7452624906326603"
        ],
        [
         "c",
         "-0.023991467680471397"
        ],
        [
         "d",
         "1.489407006937053"
        ],
        [
         "e",
         "12.0"
        ]
       ],
       "shape": {
        "columns": 1,
        "rows": 4
       }
      },
      "text/plain": [
       "b     0.745262\n",
       "c    -0.023991\n",
       "d     1.489407\n",
       "e    12.000000\n",
       "dtype: float64"
      ]
     },
     "execution_count": 139,
     "metadata": {},
     "output_type": "execute_result"
    }
   ],
   "source": [
    "s.iloc[1:]"
   ]
  },
  {
   "cell_type": "code",
   "execution_count": 140,
   "id": "44bef844",
   "metadata": {},
   "outputs": [
    {
     "data": {
      "application/vnd.microsoft.datawrangler.viewer.v0+json": {
       "columns": [
        {
         "name": "index",
         "rawType": "object",
         "type": "string"
        },
        {
         "name": "0",
         "rawType": "float64",
         "type": "float"
        }
       ],
       "ref": "0fdf39cf-1ede-49fc-83cc-28482060de80",
       "rows": [
        [
         "a",
         "-0.1505632385709974"
        ],
        [
         "b",
         "0.7452624906326603"
        ],
        [
         "c",
         "-0.023991467680471397"
        ],
        [
         "d",
         "1.489407006937053"
        ]
       ],
       "shape": {
        "columns": 1,
        "rows": 4
       }
      },
      "text/plain": [
       "a   -0.150563\n",
       "b    0.745262\n",
       "c   -0.023991\n",
       "d    1.489407\n",
       "dtype: float64"
      ]
     },
     "execution_count": 140,
     "metadata": {},
     "output_type": "execute_result"
    }
   ],
   "source": [
    "s.iloc[:-1]"
   ]
  },
  {
   "cell_type": "code",
   "execution_count": null,
   "id": "c22cb5cf",
   "metadata": {},
   "outputs": [
    {
     "data": {
      "application/vnd.microsoft.datawrangler.viewer.v0+json": {
       "columns": [
        {
         "name": "index",
         "rawType": "object",
         "type": "string"
        },
        {
         "name": "0",
         "rawType": "float64",
         "type": "float"
        }
       ],
       "ref": "0d437929-de0d-4fde-b7e5-dd2e94a6ddef",
       "rows": [
        [
         "a",
         null
        ],
        [
         "b",
         "1.4905249812653205"
        ],
        [
         "c",
         "-0.047982935360942794"
        ],
        [
         "d",
         "2.978814013874106"
        ],
        [
         "e",
         null
        ]
       ],
       "shape": {
        "columns": 1,
        "rows": 5
       }
      },
      "text/plain": [
       "a         NaN\n",
       "b    1.490525\n",
       "c   -0.047983\n",
       "d    2.978814\n",
       "e         NaN\n",
       "dtype: float64"
      ]
     },
     "execution_count": 138,
     "metadata": {},
     "output_type": "execute_result"
    }
   ],
   "source": [
    "s.iloc[1:] + s.iloc[:-1] # same shape but different labels"
   ]
  },
  {
   "cell_type": "code",
   "execution_count": null,
   "id": "d7063c05",
   "metadata": {},
   "outputs": [
    {
     "data": {
      "application/vnd.microsoft.datawrangler.viewer.v0+json": {
       "columns": [
        {
         "name": "index",
         "rawType": "object",
         "type": "string"
        },
        {
         "name": "0",
         "rawType": "float64",
         "type": "float"
        }
       ],
       "ref": "cba67bef-ce4d-4ce1-b45a-6db168487032",
       "rows": [
        [
         "a",
         null
        ],
        [
         "b",
         "1.4905249812653205"
        ],
        [
         "c",
         "-0.047982935360942794"
        ],
        [
         "d",
         null
        ],
        [
         "e",
         null
        ]
       ],
       "shape": {
        "columns": 1,
        "rows": 5
       }
      },
      "text/plain": [
       "a         NaN\n",
       "b    1.490525\n",
       "c   -0.047983\n",
       "d         NaN\n",
       "e         NaN\n",
       "dtype: float64"
      ]
     },
     "execution_count": 141,
     "metadata": {},
     "output_type": "execute_result"
    }
   ],
   "source": [
    "s.iloc[1:] + s.iloc[:-2] # the labels will align automatically"
   ]
  },
  {
   "cell_type": "markdown",
   "id": "5cbc484d",
   "metadata": {},
   "source": [
    "#### The result of an operation between unaligned Series will have the union of the indexes involved. If a label is not found in one Series or the other, the result will be marked as missing Nan. Being able to write code without doing any explicit data alignment grants immerse freedom and flexibility in interactive data analysis and research. The integerated data alignment features of the pands data structures set pandas apart from the majority of related tools for working with labeled data."
   ]
  },
  {
   "cell_type": "markdown",
   "id": "b9d9f498",
   "metadata": {},
   "source": [
    "# Name attribute\n",
    "- Series has name attribute\n",
    "- can be change with the rename() function"
   ]
  },
  {
   "cell_type": "code",
   "execution_count": 142,
   "id": "5aa2edbf",
   "metadata": {},
   "outputs": [
    {
     "data": {
      "text/plain": [
       "'something'"
      ]
     },
     "execution_count": 142,
     "metadata": {},
     "output_type": "execute_result"
    }
   ],
   "source": [
    "s = pd.Series(np.random.randn(5), name=\"something\")\n",
    "s.name"
   ]
  },
  {
   "cell_type": "code",
   "execution_count": 144,
   "id": "3a28c53d",
   "metadata": {},
   "outputs": [
    {
     "data": {
      "text/plain": [
       "'different'"
      ]
     },
     "execution_count": 144,
     "metadata": {},
     "output_type": "execute_result"
    }
   ],
   "source": [
    "s = s.rename(\"different\")\n",
    "s.name"
   ]
  },
  {
   "cell_type": "markdown",
   "id": "b99dbb66",
   "metadata": {},
   "source": [
    "# DataFrame\n",
    "- 2-dimensional labled data structure with columns of potentially different types. Think like a spreadsheet or SQL table, or a dict of Series objects. It is generally the most commmonly used pandas object. Like Series, DataFrame accepts many different kinds of input:\n",
    "    - Dict of 1D ndarrays, lists, dicts, or Series\n",
    "    - 2-D numpy.ndarray\n",
    "    - A Series\n",
    "    - Another DataFrame\n",
    "- Along the data you can optionally pass **index** (row labels) and **columns** (column labels) arguments. If you pass an index and / or columns, you are guaranteeing the index and / or columns of the resulting DataFrame. Thus, a dict of Series plus a specific index will discard all data not matching up to the passed index. If the axis labels are not passed, they wil be constructed from the input data based on common sense rules."
   ]
  },
  {
   "cell_type": "code",
   "execution_count": 145,
   "id": "cbe8e468",
   "metadata": {},
   "outputs": [
    {
     "data": {
      "application/vnd.microsoft.datawrangler.viewer.v0+json": {
       "columns": [
        {
         "name": "index",
         "rawType": "object",
         "type": "string"
        },
        {
         "name": "one",
         "rawType": "float64",
         "type": "float"
        },
        {
         "name": "two",
         "rawType": "float64",
         "type": "float"
        }
       ],
       "ref": "9422d0b9-9055-49f7-af64-dca337663944",
       "rows": [
        [
         "a",
         "1.0",
         "1.0"
        ],
        [
         "b",
         "2.0",
         "2.0"
        ],
        [
         "c",
         "3.0",
         "3.0"
        ],
        [
         "d",
         null,
         "4.0"
        ]
       ],
       "shape": {
        "columns": 2,
        "rows": 4
       }
      },
      "text/html": [
       "<div>\n",
       "<style scoped>\n",
       "    .dataframe tbody tr th:only-of-type {\n",
       "        vertical-align: middle;\n",
       "    }\n",
       "\n",
       "    .dataframe tbody tr th {\n",
       "        vertical-align: top;\n",
       "    }\n",
       "\n",
       "    .dataframe thead th {\n",
       "        text-align: right;\n",
       "    }\n",
       "</style>\n",
       "<table border=\"1\" class=\"dataframe\">\n",
       "  <thead>\n",
       "    <tr style=\"text-align: right;\">\n",
       "      <th></th>\n",
       "      <th>one</th>\n",
       "      <th>two</th>\n",
       "    </tr>\n",
       "  </thead>\n",
       "  <tbody>\n",
       "    <tr>\n",
       "      <th>a</th>\n",
       "      <td>1.0</td>\n",
       "      <td>1.0</td>\n",
       "    </tr>\n",
       "    <tr>\n",
       "      <th>b</th>\n",
       "      <td>2.0</td>\n",
       "      <td>2.0</td>\n",
       "    </tr>\n",
       "    <tr>\n",
       "      <th>c</th>\n",
       "      <td>3.0</td>\n",
       "      <td>3.0</td>\n",
       "    </tr>\n",
       "    <tr>\n",
       "      <th>d</th>\n",
       "      <td>NaN</td>\n",
       "      <td>4.0</td>\n",
       "    </tr>\n",
       "  </tbody>\n",
       "</table>\n",
       "</div>"
      ],
      "text/plain": [
       "   one  two\n",
       "a  1.0  1.0\n",
       "b  2.0  2.0\n",
       "c  3.0  3.0\n",
       "d  NaN  4.0"
      ]
     },
     "execution_count": 145,
     "metadata": {},
     "output_type": "execute_result"
    }
   ],
   "source": [
    "# From dict of Series or dicts\n",
    "d = {\n",
    "    \"one\": pd.Series([1.0, 2.0, 3.0], index=[\"a\", \"b\", \"c\"]),\n",
    "    \"two\": pd.Series([1.0, 2.0, 3.0, 4.0], index=[\"a\", \"b\", \"c\", \"d\"])\n",
    "}\n",
    "df = pd.DataFrame(d)\n",
    "df"
   ]
  },
  {
   "cell_type": "code",
   "execution_count": 146,
   "id": "e2f20d27",
   "metadata": {},
   "outputs": [
    {
     "data": {
      "application/vnd.microsoft.datawrangler.viewer.v0+json": {
       "columns": [
        {
         "name": "index",
         "rawType": "object",
         "type": "string"
        },
        {
         "name": "one",
         "rawType": "float64",
         "type": "float"
        },
        {
         "name": "two",
         "rawType": "float64",
         "type": "float"
        }
       ],
       "ref": "31cde0ae-5e88-4b86-9f38-ff6fcd71f7d4",
       "rows": [
        [
         "d",
         null,
         "4.0"
        ],
        [
         "b",
         "2.0",
         "2.0"
        ],
        [
         "a",
         "1.0",
         "1.0"
        ]
       ],
       "shape": {
        "columns": 2,
        "rows": 3
       }
      },
      "text/html": [
       "<div>\n",
       "<style scoped>\n",
       "    .dataframe tbody tr th:only-of-type {\n",
       "        vertical-align: middle;\n",
       "    }\n",
       "\n",
       "    .dataframe tbody tr th {\n",
       "        vertical-align: top;\n",
       "    }\n",
       "\n",
       "    .dataframe thead th {\n",
       "        text-align: right;\n",
       "    }\n",
       "</style>\n",
       "<table border=\"1\" class=\"dataframe\">\n",
       "  <thead>\n",
       "    <tr style=\"text-align: right;\">\n",
       "      <th></th>\n",
       "      <th>one</th>\n",
       "      <th>two</th>\n",
       "    </tr>\n",
       "  </thead>\n",
       "  <tbody>\n",
       "    <tr>\n",
       "      <th>d</th>\n",
       "      <td>NaN</td>\n",
       "      <td>4.0</td>\n",
       "    </tr>\n",
       "    <tr>\n",
       "      <th>b</th>\n",
       "      <td>2.0</td>\n",
       "      <td>2.0</td>\n",
       "    </tr>\n",
       "    <tr>\n",
       "      <th>a</th>\n",
       "      <td>1.0</td>\n",
       "      <td>1.0</td>\n",
       "    </tr>\n",
       "  </tbody>\n",
       "</table>\n",
       "</div>"
      ],
      "text/plain": [
       "   one  two\n",
       "d  NaN  4.0\n",
       "b  2.0  2.0\n",
       "a  1.0  1.0"
      ]
     },
     "execution_count": 146,
     "metadata": {},
     "output_type": "execute_result"
    }
   ],
   "source": [
    "pd.DataFrame(d, index=[\"d\", \"b\", \"a\"])\n"
   ]
  },
  {
   "cell_type": "code",
   "execution_count": 149,
   "id": "81384036",
   "metadata": {},
   "outputs": [
    {
     "data": {
      "application/vnd.microsoft.datawrangler.viewer.v0+json": {
       "columns": [
        {
         "name": "index",
         "rawType": "object",
         "type": "string"
        },
        {
         "name": "two",
         "rawType": "float64",
         "type": "float"
        },
        {
         "name": "three",
         "rawType": "object",
         "type": "unknown"
        }
       ],
       "ref": "d2c87ef1-dfa6-4b56-becd-9e4a87a8f7c2",
       "rows": [
        [
         "d",
         "4.0",
         null
        ],
        [
         "b",
         "2.0",
         null
        ],
        [
         "a",
         "1.0",
         null
        ]
       ],
       "shape": {
        "columns": 2,
        "rows": 3
       }
      },
      "text/html": [
       "<div>\n",
       "<style scoped>\n",
       "    .dataframe tbody tr th:only-of-type {\n",
       "        vertical-align: middle;\n",
       "    }\n",
       "\n",
       "    .dataframe tbody tr th {\n",
       "        vertical-align: top;\n",
       "    }\n",
       "\n",
       "    .dataframe thead th {\n",
       "        text-align: right;\n",
       "    }\n",
       "</style>\n",
       "<table border=\"1\" class=\"dataframe\">\n",
       "  <thead>\n",
       "    <tr style=\"text-align: right;\">\n",
       "      <th></th>\n",
       "      <th>two</th>\n",
       "      <th>three</th>\n",
       "    </tr>\n",
       "  </thead>\n",
       "  <tbody>\n",
       "    <tr>\n",
       "      <th>d</th>\n",
       "      <td>4.0</td>\n",
       "      <td>NaN</td>\n",
       "    </tr>\n",
       "    <tr>\n",
       "      <th>b</th>\n",
       "      <td>2.0</td>\n",
       "      <td>NaN</td>\n",
       "    </tr>\n",
       "    <tr>\n",
       "      <th>a</th>\n",
       "      <td>1.0</td>\n",
       "      <td>NaN</td>\n",
       "    </tr>\n",
       "  </tbody>\n",
       "</table>\n",
       "</div>"
      ],
      "text/plain": [
       "   two three\n",
       "d  4.0   NaN\n",
       "b  2.0   NaN\n",
       "a  1.0   NaN"
      ]
     },
     "execution_count": 149,
     "metadata": {},
     "output_type": "execute_result"
    }
   ],
   "source": [
    "pd.DataFrame(d, index=[\"d\", \"b\", \"a\"], columns=[\"two\", \"three\"])"
   ]
  },
  {
   "cell_type": "code",
   "execution_count": 150,
   "id": "ff305e0f",
   "metadata": {},
   "outputs": [
    {
     "data": {
      "text/plain": [
       "Index(['a', 'b', 'c', 'd'], dtype='object')"
      ]
     },
     "execution_count": 150,
     "metadata": {},
     "output_type": "execute_result"
    }
   ],
   "source": [
    "df.index"
   ]
  },
  {
   "cell_type": "code",
   "execution_count": 151,
   "id": "5a966818",
   "metadata": {},
   "outputs": [
    {
     "data": {
      "text/plain": [
       "Index(['one', 'two'], dtype='object')"
      ]
     },
     "execution_count": 151,
     "metadata": {},
     "output_type": "execute_result"
    }
   ],
   "source": [
    "df.columns"
   ]
  },
  {
   "cell_type": "markdown",
   "id": "88318722",
   "metadata": {},
   "source": [
    "#### From dict of ndarrays / lists\n",
    "- all ndarrays must share the same length. If an index is passed, it must also be the same length as the arrays. If no index is passed, the result will be range(n), where n is the array length"
   ]
  },
  {
   "cell_type": "code",
   "execution_count": 152,
   "id": "1eb0a1ca",
   "metadata": {},
   "outputs": [
    {
     "data": {
      "application/vnd.microsoft.datawrangler.viewer.v0+json": {
       "columns": [
        {
         "name": "index",
         "rawType": "int64",
         "type": "integer"
        },
        {
         "name": "one",
         "rawType": "float64",
         "type": "float"
        },
        {
         "name": "two",
         "rawType": "float64",
         "type": "float"
        }
       ],
       "ref": "41b09c12-67f7-491a-9450-c6d9388c8be2",
       "rows": [
        [
         "0",
         "1.0",
         "4.0"
        ],
        [
         "1",
         "2.0",
         "3.0"
        ],
        [
         "2",
         "3.0",
         "2.0"
        ],
        [
         "3",
         "4.0",
         "1.0"
        ]
       ],
       "shape": {
        "columns": 2,
        "rows": 4
       }
      },
      "text/html": [
       "<div>\n",
       "<style scoped>\n",
       "    .dataframe tbody tr th:only-of-type {\n",
       "        vertical-align: middle;\n",
       "    }\n",
       "\n",
       "    .dataframe tbody tr th {\n",
       "        vertical-align: top;\n",
       "    }\n",
       "\n",
       "    .dataframe thead th {\n",
       "        text-align: right;\n",
       "    }\n",
       "</style>\n",
       "<table border=\"1\" class=\"dataframe\">\n",
       "  <thead>\n",
       "    <tr style=\"text-align: right;\">\n",
       "      <th></th>\n",
       "      <th>one</th>\n",
       "      <th>two</th>\n",
       "    </tr>\n",
       "  </thead>\n",
       "  <tbody>\n",
       "    <tr>\n",
       "      <th>0</th>\n",
       "      <td>1.0</td>\n",
       "      <td>4.0</td>\n",
       "    </tr>\n",
       "    <tr>\n",
       "      <th>1</th>\n",
       "      <td>2.0</td>\n",
       "      <td>3.0</td>\n",
       "    </tr>\n",
       "    <tr>\n",
       "      <th>2</th>\n",
       "      <td>3.0</td>\n",
       "      <td>2.0</td>\n",
       "    </tr>\n",
       "    <tr>\n",
       "      <th>3</th>\n",
       "      <td>4.0</td>\n",
       "      <td>1.0</td>\n",
       "    </tr>\n",
       "  </tbody>\n",
       "</table>\n",
       "</div>"
      ],
      "text/plain": [
       "   one  two\n",
       "0  1.0  4.0\n",
       "1  2.0  3.0\n",
       "2  3.0  2.0\n",
       "3  4.0  1.0"
      ]
     },
     "execution_count": 152,
     "metadata": {},
     "output_type": "execute_result"
    }
   ],
   "source": [
    "d = { \"one\": [1.0, 2.0, 3.0, 4.0], \"two\": [4.0, 3.0, 2.0, 1.0]}\n",
    "pd.DataFrame(d)"
   ]
  },
  {
   "cell_type": "markdown",
   "id": "44b2be18",
   "metadata": {},
   "source": [
    "#### From structured or record array\n",
    "- this case is hanlded identically to a dict of arrays."
   ]
  },
  {
   "cell_type": "code",
   "execution_count": null,
   "id": "c0c57f68",
   "metadata": {},
   "outputs": [],
   "source": [
    "data = np.zeros((2,), dtype=[(\"A\", \"i4\"), (\"B\", \"f4\"), (\"C\", \"a10\")])"
   ]
  }
 ],
 "metadata": {
  "kernelspec": {
   "display_name": "Python 3",
   "language": "python",
   "name": "python3"
  },
  "language_info": {
   "codemirror_mode": {
    "name": "ipython",
    "version": 3
   },
   "file_extension": ".py",
   "mimetype": "text/x-python",
   "name": "python",
   "nbconvert_exporter": "python",
   "pygments_lexer": "ipython3",
   "version": "3.13.5"
  }
 },
 "nbformat": 4,
 "nbformat_minor": 5
}
