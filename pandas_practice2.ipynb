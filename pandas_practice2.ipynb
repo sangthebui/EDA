{
 "cells": [
  {
   "cell_type": "code",
   "execution_count": 1,
   "id": "40bb576c",
   "metadata": {},
   "outputs": [],
   "source": [
    "import pandas as pd\n",
    "import numpy as np"
   ]
  },
  {
   "cell_type": "markdown",
   "id": "c45c6c7d",
   "metadata": {},
   "source": [
    "# Creation"
   ]
  },
  {
   "cell_type": "code",
   "execution_count": 2,
   "id": "858325eb",
   "metadata": {},
   "outputs": [
    {
     "data": {
      "application/vnd.microsoft.datawrangler.viewer.v0+json": {
       "columns": [
        {
         "name": "index",
         "rawType": "int64",
         "type": "integer"
        },
        {
         "name": "A",
         "rawType": "float64",
         "type": "float"
        },
        {
         "name": "B",
         "rawType": "datetime64[s]",
         "type": "unknown"
        },
        {
         "name": "C",
         "rawType": "float32",
         "type": "float"
        },
        {
         "name": "D",
         "rawType": "int32",
         "type": "integer"
        },
        {
         "name": "E",
         "rawType": "category",
         "type": "unknown"
        },
        {
         "name": "F",
         "rawType": "object",
         "type": "string"
        }
       ],
       "ref": "0974090b-e008-4ab9-91f6-406c4960dac8",
       "rows": [
        [
         "0",
         "1.0",
         "2025-01-01 00:00:00",
         "1.0",
         "3",
         "test",
         "foo"
        ],
        [
         "1",
         "1.0",
         "2025-01-01 00:00:00",
         "1.0",
         "3",
         "train",
         "foo"
        ],
        [
         "2",
         "1.0",
         "2025-01-01 00:00:00",
         "1.0",
         "3",
         "test",
         "foo"
        ],
        [
         "3",
         "1.0",
         "2025-01-01 00:00:00",
         "1.0",
         "3",
         "train",
         "foo"
        ]
       ],
       "shape": {
        "columns": 6,
        "rows": 4
       }
      },
      "text/html": [
       "<div>\n",
       "<style scoped>\n",
       "    .dataframe tbody tr th:only-of-type {\n",
       "        vertical-align: middle;\n",
       "    }\n",
       "\n",
       "    .dataframe tbody tr th {\n",
       "        vertical-align: top;\n",
       "    }\n",
       "\n",
       "    .dataframe thead th {\n",
       "        text-align: right;\n",
       "    }\n",
       "</style>\n",
       "<table border=\"1\" class=\"dataframe\">\n",
       "  <thead>\n",
       "    <tr style=\"text-align: right;\">\n",
       "      <th></th>\n",
       "      <th>A</th>\n",
       "      <th>B</th>\n",
       "      <th>C</th>\n",
       "      <th>D</th>\n",
       "      <th>E</th>\n",
       "      <th>F</th>\n",
       "    </tr>\n",
       "  </thead>\n",
       "  <tbody>\n",
       "    <tr>\n",
       "      <th>0</th>\n",
       "      <td>1.0</td>\n",
       "      <td>2025-01-01</td>\n",
       "      <td>1.0</td>\n",
       "      <td>3</td>\n",
       "      <td>test</td>\n",
       "      <td>foo</td>\n",
       "    </tr>\n",
       "    <tr>\n",
       "      <th>1</th>\n",
       "      <td>1.0</td>\n",
       "      <td>2025-01-01</td>\n",
       "      <td>1.0</td>\n",
       "      <td>3</td>\n",
       "      <td>train</td>\n",
       "      <td>foo</td>\n",
       "    </tr>\n",
       "    <tr>\n",
       "      <th>2</th>\n",
       "      <td>1.0</td>\n",
       "      <td>2025-01-01</td>\n",
       "      <td>1.0</td>\n",
       "      <td>3</td>\n",
       "      <td>test</td>\n",
       "      <td>foo</td>\n",
       "    </tr>\n",
       "    <tr>\n",
       "      <th>3</th>\n",
       "      <td>1.0</td>\n",
       "      <td>2025-01-01</td>\n",
       "      <td>1.0</td>\n",
       "      <td>3</td>\n",
       "      <td>train</td>\n",
       "      <td>foo</td>\n",
       "    </tr>\n",
       "  </tbody>\n",
       "</table>\n",
       "</div>"
      ],
      "text/plain": [
       "     A          B    C  D      E    F\n",
       "0  1.0 2025-01-01  1.0  3   test  foo\n",
       "1  1.0 2025-01-01  1.0  3  train  foo\n",
       "2  1.0 2025-01-01  1.0  3   test  foo\n",
       "3  1.0 2025-01-01  1.0  3  train  foo"
      ]
     },
     "execution_count": 2,
     "metadata": {},
     "output_type": "execute_result"
    }
   ],
   "source": [
    "df = pd.DataFrame({\n",
    "    \"A\": 1.0,\n",
    "    \"B\": pd.Timestamp(\"20250101\"),\n",
    "    \"C\": pd.Series(1, index=list(range(4)), dtype=\"float32\"),\n",
    "    \"D\": np.array([3] * 4, dtype=\"int32\"),\n",
    "    \"E\": pd.Categorical([\"test\", \"train\", \"test\", \"train\"]),\n",
    "    \"F\": \"foo\"\n",
    "})\n",
    "df"
   ]
  },
  {
   "cell_type": "code",
   "execution_count": 3,
   "id": "b03459f1",
   "metadata": {},
   "outputs": [
    {
     "data": {
      "application/vnd.microsoft.datawrangler.viewer.v0+json": {
       "columns": [
        {
         "name": "index",
         "rawType": "datetime64[ns]",
         "type": "datetime"
        },
        {
         "name": "A",
         "rawType": "float64",
         "type": "float"
        },
        {
         "name": "B",
         "rawType": "float64",
         "type": "float"
        },
        {
         "name": "C",
         "rawType": "float64",
         "type": "float"
        },
        {
         "name": "D",
         "rawType": "float64",
         "type": "float"
        }
       ],
       "ref": "ef3d477d-b5f0-4220-a6be-21977cc5da74",
       "rows": [
        [
         "2025-01-01 00:00:00",
         "-1.8694095971280638",
         "-1.1072867046206318",
         "-0.44362396613680466",
         "2.3605335329121946"
        ],
        [
         "2025-01-02 00:00:00",
         "-1.4552331074761238",
         "-1.708931694713861",
         "0.8409478579662595",
         "0.8198491190948686"
        ],
        [
         "2025-01-03 00:00:00",
         "-1.7025903466758974",
         "2.292330089468291",
         "1.296625187893266",
         "-0.3962499599298923"
        ],
        [
         "2025-01-04 00:00:00",
         "-1.1167228318823532",
         "0.5836044516058234",
         "-0.7012199642546756",
         "1.5775374305577607"
        ],
        [
         "2025-01-05 00:00:00",
         "0.16021408516172897",
         "-0.6463755050781327",
         "-0.7183531349717471",
         "1.271022944117425"
        ],
        [
         "2025-01-06 00:00:00",
         "0.7666226315906892",
         "-1.543628292634097",
         "0.24303723847807696",
         "0.042216359352902244"
        ]
       ],
       "shape": {
        "columns": 4,
        "rows": 6
       }
      },
      "text/html": [
       "<div>\n",
       "<style scoped>\n",
       "    .dataframe tbody tr th:only-of-type {\n",
       "        vertical-align: middle;\n",
       "    }\n",
       "\n",
       "    .dataframe tbody tr th {\n",
       "        vertical-align: top;\n",
       "    }\n",
       "\n",
       "    .dataframe thead th {\n",
       "        text-align: right;\n",
       "    }\n",
       "</style>\n",
       "<table border=\"1\" class=\"dataframe\">\n",
       "  <thead>\n",
       "    <tr style=\"text-align: right;\">\n",
       "      <th></th>\n",
       "      <th>A</th>\n",
       "      <th>B</th>\n",
       "      <th>C</th>\n",
       "      <th>D</th>\n",
       "    </tr>\n",
       "  </thead>\n",
       "  <tbody>\n",
       "    <tr>\n",
       "      <th>2025-01-01</th>\n",
       "      <td>-1.869410</td>\n",
       "      <td>-1.107287</td>\n",
       "      <td>-0.443624</td>\n",
       "      <td>2.360534</td>\n",
       "    </tr>\n",
       "    <tr>\n",
       "      <th>2025-01-02</th>\n",
       "      <td>-1.455233</td>\n",
       "      <td>-1.708932</td>\n",
       "      <td>0.840948</td>\n",
       "      <td>0.819849</td>\n",
       "    </tr>\n",
       "    <tr>\n",
       "      <th>2025-01-03</th>\n",
       "      <td>-1.702590</td>\n",
       "      <td>2.292330</td>\n",
       "      <td>1.296625</td>\n",
       "      <td>-0.396250</td>\n",
       "    </tr>\n",
       "    <tr>\n",
       "      <th>2025-01-04</th>\n",
       "      <td>-1.116723</td>\n",
       "      <td>0.583604</td>\n",
       "      <td>-0.701220</td>\n",
       "      <td>1.577537</td>\n",
       "    </tr>\n",
       "    <tr>\n",
       "      <th>2025-01-05</th>\n",
       "      <td>0.160214</td>\n",
       "      <td>-0.646376</td>\n",
       "      <td>-0.718353</td>\n",
       "      <td>1.271023</td>\n",
       "    </tr>\n",
       "    <tr>\n",
       "      <th>2025-01-06</th>\n",
       "      <td>0.766623</td>\n",
       "      <td>-1.543628</td>\n",
       "      <td>0.243037</td>\n",
       "      <td>0.042216</td>\n",
       "    </tr>\n",
       "  </tbody>\n",
       "</table>\n",
       "</div>"
      ],
      "text/plain": [
       "                   A         B         C         D\n",
       "2025-01-01 -1.869410 -1.107287 -0.443624  2.360534\n",
       "2025-01-02 -1.455233 -1.708932  0.840948  0.819849\n",
       "2025-01-03 -1.702590  2.292330  1.296625 -0.396250\n",
       "2025-01-04 -1.116723  0.583604 -0.701220  1.577537\n",
       "2025-01-05  0.160214 -0.646376 -0.718353  1.271023\n",
       "2025-01-06  0.766623 -1.543628  0.243037  0.042216"
      ]
     },
     "execution_count": 3,
     "metadata": {},
     "output_type": "execute_result"
    }
   ],
   "source": [
    "dates = pd.date_range(\"20250101\", periods=6)\n",
    "df = pd.DataFrame(np.random.randn(6, 4), index=dates, columns=list(\"ABCD\"))\n",
    "df"
   ]
  },
  {
   "cell_type": "code",
   "execution_count": 4,
   "id": "18a8f19f",
   "metadata": {},
   "outputs": [
    {
     "data": {
      "application/vnd.microsoft.datawrangler.viewer.v0+json": {
       "columns": [
        {
         "name": "index",
         "rawType": "datetime64[ns]",
         "type": "datetime"
        },
        {
         "name": "A",
         "rawType": "float64",
         "type": "float"
        },
        {
         "name": "B",
         "rawType": "float64",
         "type": "float"
        },
        {
         "name": "C",
         "rawType": "float64",
         "type": "float"
        },
        {
         "name": "D",
         "rawType": "float64",
         "type": "float"
        }
       ],
       "ref": "f224d6bf-4131-468f-8efd-7eee98c36402",
       "rows": [
        [
         "2025-01-02 00:00:00",
         "-1.4552331074761238",
         "-1.708931694713861",
         "0.8409478579662595",
         "0.8198491190948686"
        ],
        [
         "2025-01-06 00:00:00",
         "0.7666226315906892",
         "-1.543628292634097",
         "0.24303723847807696",
         "0.042216359352902244"
        ],
        [
         "2025-01-01 00:00:00",
         "-1.8694095971280638",
         "-1.1072867046206318",
         "-0.44362396613680466",
         "2.3605335329121946"
        ],
        [
         "2025-01-05 00:00:00",
         "0.16021408516172897",
         "-0.6463755050781327",
         "-0.7183531349717471",
         "1.271022944117425"
        ],
        [
         "2025-01-04 00:00:00",
         "-1.1167228318823532",
         "0.5836044516058234",
         "-0.7012199642546756",
         "1.5775374305577607"
        ],
        [
         "2025-01-03 00:00:00",
         "-1.7025903466758974",
         "2.292330089468291",
         "1.296625187893266",
         "-0.3962499599298923"
        ]
       ],
       "shape": {
        "columns": 4,
        "rows": 6
       }
      },
      "text/html": [
       "<div>\n",
       "<style scoped>\n",
       "    .dataframe tbody tr th:only-of-type {\n",
       "        vertical-align: middle;\n",
       "    }\n",
       "\n",
       "    .dataframe tbody tr th {\n",
       "        vertical-align: top;\n",
       "    }\n",
       "\n",
       "    .dataframe thead th {\n",
       "        text-align: right;\n",
       "    }\n",
       "</style>\n",
       "<table border=\"1\" class=\"dataframe\">\n",
       "  <thead>\n",
       "    <tr style=\"text-align: right;\">\n",
       "      <th></th>\n",
       "      <th>A</th>\n",
       "      <th>B</th>\n",
       "      <th>C</th>\n",
       "      <th>D</th>\n",
       "    </tr>\n",
       "  </thead>\n",
       "  <tbody>\n",
       "    <tr>\n",
       "      <th>2025-01-02</th>\n",
       "      <td>-1.455233</td>\n",
       "      <td>-1.708932</td>\n",
       "      <td>0.840948</td>\n",
       "      <td>0.819849</td>\n",
       "    </tr>\n",
       "    <tr>\n",
       "      <th>2025-01-06</th>\n",
       "      <td>0.766623</td>\n",
       "      <td>-1.543628</td>\n",
       "      <td>0.243037</td>\n",
       "      <td>0.042216</td>\n",
       "    </tr>\n",
       "    <tr>\n",
       "      <th>2025-01-01</th>\n",
       "      <td>-1.869410</td>\n",
       "      <td>-1.107287</td>\n",
       "      <td>-0.443624</td>\n",
       "      <td>2.360534</td>\n",
       "    </tr>\n",
       "    <tr>\n",
       "      <th>2025-01-05</th>\n",
       "      <td>0.160214</td>\n",
       "      <td>-0.646376</td>\n",
       "      <td>-0.718353</td>\n",
       "      <td>1.271023</td>\n",
       "    </tr>\n",
       "    <tr>\n",
       "      <th>2025-01-04</th>\n",
       "      <td>-1.116723</td>\n",
       "      <td>0.583604</td>\n",
       "      <td>-0.701220</td>\n",
       "      <td>1.577537</td>\n",
       "    </tr>\n",
       "    <tr>\n",
       "      <th>2025-01-03</th>\n",
       "      <td>-1.702590</td>\n",
       "      <td>2.292330</td>\n",
       "      <td>1.296625</td>\n",
       "      <td>-0.396250</td>\n",
       "    </tr>\n",
       "  </tbody>\n",
       "</table>\n",
       "</div>"
      ],
      "text/plain": [
       "                   A         B         C         D\n",
       "2025-01-02 -1.455233 -1.708932  0.840948  0.819849\n",
       "2025-01-06  0.766623 -1.543628  0.243037  0.042216\n",
       "2025-01-01 -1.869410 -1.107287 -0.443624  2.360534\n",
       "2025-01-05  0.160214 -0.646376 -0.718353  1.271023\n",
       "2025-01-04 -1.116723  0.583604 -0.701220  1.577537\n",
       "2025-01-03 -1.702590  2.292330  1.296625 -0.396250"
      ]
     },
     "execution_count": 4,
     "metadata": {},
     "output_type": "execute_result"
    }
   ],
   "source": [
    "df.sort_values(by=\"B\") # all rows are sorted by B"
   ]
  },
  {
   "cell_type": "code",
   "execution_count": 5,
   "id": "8c734373",
   "metadata": {},
   "outputs": [
    {
     "data": {
      "application/vnd.microsoft.datawrangler.viewer.v0+json": {
       "columns": [
        {
         "name": "index",
         "rawType": "datetime64[ns]",
         "type": "datetime"
        },
        {
         "name": "A",
         "rawType": "float64",
         "type": "float"
        }
       ],
       "ref": "763d78cd-cd0d-4b2e-95d6-1cf047555180",
       "rows": [
        [
         "2025-01-01 00:00:00",
         "-1.8694095971280638"
        ],
        [
         "2025-01-02 00:00:00",
         "-1.4552331074761238"
        ],
        [
         "2025-01-03 00:00:00",
         "-1.7025903466758974"
        ],
        [
         "2025-01-04 00:00:00",
         "-1.1167228318823532"
        ],
        [
         "2025-01-05 00:00:00",
         "0.16021408516172897"
        ],
        [
         "2025-01-06 00:00:00",
         "0.7666226315906892"
        ]
       ],
       "shape": {
        "columns": 1,
        "rows": 6
       }
      },
      "text/plain": [
       "2025-01-01   -1.869410\n",
       "2025-01-02   -1.455233\n",
       "2025-01-03   -1.702590\n",
       "2025-01-04   -1.116723\n",
       "2025-01-05    0.160214\n",
       "2025-01-06    0.766623\n",
       "Freq: D, Name: A, dtype: float64"
      ]
     },
     "execution_count": 5,
     "metadata": {},
     "output_type": "execute_result"
    }
   ],
   "source": [
    "df[\"A\"]"
   ]
  },
  {
   "cell_type": "code",
   "execution_count": 6,
   "id": "cc9c0921",
   "metadata": {},
   "outputs": [
    {
     "data": {
      "application/vnd.microsoft.datawrangler.viewer.v0+json": {
       "columns": [
        {
         "name": "index",
         "rawType": "datetime64[ns]",
         "type": "datetime"
        },
        {
         "name": "A",
         "rawType": "float64",
         "type": "float"
        },
        {
         "name": "B",
         "rawType": "float64",
         "type": "float"
        },
        {
         "name": "C",
         "rawType": "float64",
         "type": "float"
        },
        {
         "name": "D",
         "rawType": "float64",
         "type": "float"
        }
       ],
       "ref": "f94b8507-54d3-48c9-8282-9edabbfd54bc",
       "rows": [
        [
         "2025-01-01 00:00:00",
         "-1.8694095971280638",
         "-1.1072867046206318",
         "-0.44362396613680466",
         "2.3605335329121946"
        ],
        [
         "2025-01-02 00:00:00",
         "-1.4552331074761238",
         "-1.708931694713861",
         "0.8409478579662595",
         "0.8198491190948686"
        ],
        [
         "2025-01-03 00:00:00",
         "-1.7025903466758974",
         "2.292330089468291",
         "1.296625187893266",
         "-0.3962499599298923"
        ]
       ],
       "shape": {
        "columns": 4,
        "rows": 3
       }
      },
      "text/html": [
       "<div>\n",
       "<style scoped>\n",
       "    .dataframe tbody tr th:only-of-type {\n",
       "        vertical-align: middle;\n",
       "    }\n",
       "\n",
       "    .dataframe tbody tr th {\n",
       "        vertical-align: top;\n",
       "    }\n",
       "\n",
       "    .dataframe thead th {\n",
       "        text-align: right;\n",
       "    }\n",
       "</style>\n",
       "<table border=\"1\" class=\"dataframe\">\n",
       "  <thead>\n",
       "    <tr style=\"text-align: right;\">\n",
       "      <th></th>\n",
       "      <th>A</th>\n",
       "      <th>B</th>\n",
       "      <th>C</th>\n",
       "      <th>D</th>\n",
       "    </tr>\n",
       "  </thead>\n",
       "  <tbody>\n",
       "    <tr>\n",
       "      <th>2025-01-01</th>\n",
       "      <td>-1.869410</td>\n",
       "      <td>-1.107287</td>\n",
       "      <td>-0.443624</td>\n",
       "      <td>2.360534</td>\n",
       "    </tr>\n",
       "    <tr>\n",
       "      <th>2025-01-02</th>\n",
       "      <td>-1.455233</td>\n",
       "      <td>-1.708932</td>\n",
       "      <td>0.840948</td>\n",
       "      <td>0.819849</td>\n",
       "    </tr>\n",
       "    <tr>\n",
       "      <th>2025-01-03</th>\n",
       "      <td>-1.702590</td>\n",
       "      <td>2.292330</td>\n",
       "      <td>1.296625</td>\n",
       "      <td>-0.396250</td>\n",
       "    </tr>\n",
       "  </tbody>\n",
       "</table>\n",
       "</div>"
      ],
      "text/plain": [
       "                   A         B         C         D\n",
       "2025-01-01 -1.869410 -1.107287 -0.443624  2.360534\n",
       "2025-01-02 -1.455233 -1.708932  0.840948  0.819849\n",
       "2025-01-03 -1.702590  2.292330  1.296625 -0.396250"
      ]
     },
     "execution_count": 6,
     "metadata": {},
     "output_type": "execute_result"
    }
   ],
   "source": [
    "df[0:3]"
   ]
  },
  {
   "cell_type": "code",
   "execution_count": 7,
   "id": "6b38276b",
   "metadata": {},
   "outputs": [
    {
     "data": {
      "application/vnd.microsoft.datawrangler.viewer.v0+json": {
       "columns": [
        {
         "name": "index",
         "rawType": "datetime64[ns]",
         "type": "datetime"
        },
        {
         "name": "A",
         "rawType": "float64",
         "type": "float"
        },
        {
         "name": "B",
         "rawType": "float64",
         "type": "float"
        },
        {
         "name": "C",
         "rawType": "float64",
         "type": "float"
        },
        {
         "name": "D",
         "rawType": "float64",
         "type": "float"
        }
       ],
       "ref": "9fb4897e-a4be-4af2-aa29-76feed76eb80",
       "rows": [
        [
         "2025-01-01 00:00:00",
         "-1.8694095971280638",
         "-1.1072867046206318",
         "-0.44362396613680466",
         "2.3605335329121946"
        ],
        [
         "2025-01-02 00:00:00",
         "-1.4552331074761238",
         "-1.708931694713861",
         "0.8409478579662595",
         "0.8198491190948686"
        ],
        [
         "2025-01-03 00:00:00",
         "-1.7025903466758974",
         "2.292330089468291",
         "1.296625187893266",
         "-0.3962499599298923"
        ],
        [
         "2025-01-04 00:00:00",
         "-1.1167228318823532",
         "0.5836044516058234",
         "-0.7012199642546756",
         "1.5775374305577607"
        ]
       ],
       "shape": {
        "columns": 4,
        "rows": 4
       }
      },
      "text/html": [
       "<div>\n",
       "<style scoped>\n",
       "    .dataframe tbody tr th:only-of-type {\n",
       "        vertical-align: middle;\n",
       "    }\n",
       "\n",
       "    .dataframe tbody tr th {\n",
       "        vertical-align: top;\n",
       "    }\n",
       "\n",
       "    .dataframe thead th {\n",
       "        text-align: right;\n",
       "    }\n",
       "</style>\n",
       "<table border=\"1\" class=\"dataframe\">\n",
       "  <thead>\n",
       "    <tr style=\"text-align: right;\">\n",
       "      <th></th>\n",
       "      <th>A</th>\n",
       "      <th>B</th>\n",
       "      <th>C</th>\n",
       "      <th>D</th>\n",
       "    </tr>\n",
       "  </thead>\n",
       "  <tbody>\n",
       "    <tr>\n",
       "      <th>2025-01-01</th>\n",
       "      <td>-1.869410</td>\n",
       "      <td>-1.107287</td>\n",
       "      <td>-0.443624</td>\n",
       "      <td>2.360534</td>\n",
       "    </tr>\n",
       "    <tr>\n",
       "      <th>2025-01-02</th>\n",
       "      <td>-1.455233</td>\n",
       "      <td>-1.708932</td>\n",
       "      <td>0.840948</td>\n",
       "      <td>0.819849</td>\n",
       "    </tr>\n",
       "    <tr>\n",
       "      <th>2025-01-03</th>\n",
       "      <td>-1.702590</td>\n",
       "      <td>2.292330</td>\n",
       "      <td>1.296625</td>\n",
       "      <td>-0.396250</td>\n",
       "    </tr>\n",
       "    <tr>\n",
       "      <th>2025-01-04</th>\n",
       "      <td>-1.116723</td>\n",
       "      <td>0.583604</td>\n",
       "      <td>-0.701220</td>\n",
       "      <td>1.577537</td>\n",
       "    </tr>\n",
       "  </tbody>\n",
       "</table>\n",
       "</div>"
      ],
      "text/plain": [
       "                   A         B         C         D\n",
       "2025-01-01 -1.869410 -1.107287 -0.443624  2.360534\n",
       "2025-01-02 -1.455233 -1.708932  0.840948  0.819849\n",
       "2025-01-03 -1.702590  2.292330  1.296625 -0.396250\n",
       "2025-01-04 -1.116723  0.583604 -0.701220  1.577537"
      ]
     },
     "execution_count": 7,
     "metadata": {},
     "output_type": "execute_result"
    }
   ],
   "source": [
    "df[\"20250101\":\"20250104\"]"
   ]
  },
  {
   "cell_type": "code",
   "execution_count": 8,
   "id": "e86a3c66",
   "metadata": {},
   "outputs": [
    {
     "data": {
      "application/vnd.microsoft.datawrangler.viewer.v0+json": {
       "columns": [
        {
         "name": "index",
         "rawType": "object",
         "type": "string"
        },
        {
         "name": "2025-01-01 00:00:00",
         "rawType": "float64",
         "type": "float"
        }
       ],
       "ref": "6fd2bfd7-2329-4d86-baf1-7f927c6d6850",
       "rows": [
        [
         "A",
         "-1.8694095971280638"
        ],
        [
         "B",
         "-1.1072867046206318"
        ],
        [
         "C",
         "-0.44362396613680466"
        ],
        [
         "D",
         "2.3605335329121946"
        ]
       ],
       "shape": {
        "columns": 1,
        "rows": 4
       }
      },
      "text/plain": [
       "A   -1.869410\n",
       "B   -1.107287\n",
       "C   -0.443624\n",
       "D    2.360534\n",
       "Name: 2025-01-01 00:00:00, dtype: float64"
      ]
     },
     "execution_count": 8,
     "metadata": {},
     "output_type": "execute_result"
    }
   ],
   "source": [
    "df.loc[dates[0]]"
   ]
  },
  {
   "cell_type": "code",
   "execution_count": 9,
   "id": "b91990f0",
   "metadata": {},
   "outputs": [
    {
     "data": {
      "application/vnd.microsoft.datawrangler.viewer.v0+json": {
       "columns": [
        {
         "name": "index",
         "rawType": "datetime64[ns]",
         "type": "datetime"
        },
        {
         "name": "A",
         "rawType": "float64",
         "type": "float"
        },
        {
         "name": "B",
         "rawType": "float64",
         "type": "float"
        }
       ],
       "ref": "cea8fce8-e3dd-405b-9a76-6c015368a5aa",
       "rows": [
        [
         "2025-01-01 00:00:00",
         "-1.8694095971280638",
         "-1.1072867046206318"
        ],
        [
         "2025-01-02 00:00:00",
         "-1.4552331074761238",
         "-1.708931694713861"
        ],
        [
         "2025-01-03 00:00:00",
         "-1.7025903466758974",
         "2.292330089468291"
        ],
        [
         "2025-01-04 00:00:00",
         "-1.1167228318823532",
         "0.5836044516058234"
        ],
        [
         "2025-01-05 00:00:00",
         "0.16021408516172897",
         "-0.6463755050781327"
        ],
        [
         "2025-01-06 00:00:00",
         "0.7666226315906892",
         "-1.543628292634097"
        ]
       ],
       "shape": {
        "columns": 2,
        "rows": 6
       }
      },
      "text/html": [
       "<div>\n",
       "<style scoped>\n",
       "    .dataframe tbody tr th:only-of-type {\n",
       "        vertical-align: middle;\n",
       "    }\n",
       "\n",
       "    .dataframe tbody tr th {\n",
       "        vertical-align: top;\n",
       "    }\n",
       "\n",
       "    .dataframe thead th {\n",
       "        text-align: right;\n",
       "    }\n",
       "</style>\n",
       "<table border=\"1\" class=\"dataframe\">\n",
       "  <thead>\n",
       "    <tr style=\"text-align: right;\">\n",
       "      <th></th>\n",
       "      <th>A</th>\n",
       "      <th>B</th>\n",
       "    </tr>\n",
       "  </thead>\n",
       "  <tbody>\n",
       "    <tr>\n",
       "      <th>2025-01-01</th>\n",
       "      <td>-1.869410</td>\n",
       "      <td>-1.107287</td>\n",
       "    </tr>\n",
       "    <tr>\n",
       "      <th>2025-01-02</th>\n",
       "      <td>-1.455233</td>\n",
       "      <td>-1.708932</td>\n",
       "    </tr>\n",
       "    <tr>\n",
       "      <th>2025-01-03</th>\n",
       "      <td>-1.702590</td>\n",
       "      <td>2.292330</td>\n",
       "    </tr>\n",
       "    <tr>\n",
       "      <th>2025-01-04</th>\n",
       "      <td>-1.116723</td>\n",
       "      <td>0.583604</td>\n",
       "    </tr>\n",
       "    <tr>\n",
       "      <th>2025-01-05</th>\n",
       "      <td>0.160214</td>\n",
       "      <td>-0.646376</td>\n",
       "    </tr>\n",
       "    <tr>\n",
       "      <th>2025-01-06</th>\n",
       "      <td>0.766623</td>\n",
       "      <td>-1.543628</td>\n",
       "    </tr>\n",
       "  </tbody>\n",
       "</table>\n",
       "</div>"
      ],
      "text/plain": [
       "                   A         B\n",
       "2025-01-01 -1.869410 -1.107287\n",
       "2025-01-02 -1.455233 -1.708932\n",
       "2025-01-03 -1.702590  2.292330\n",
       "2025-01-04 -1.116723  0.583604\n",
       "2025-01-05  0.160214 -0.646376\n",
       "2025-01-06  0.766623 -1.543628"
      ]
     },
     "execution_count": 9,
     "metadata": {},
     "output_type": "execute_result"
    }
   ],
   "source": [
    "df.loc[:, [\"A\", \"B\"]]"
   ]
  },
  {
   "cell_type": "code",
   "execution_count": 10,
   "id": "d262ad0b",
   "metadata": {},
   "outputs": [
    {
     "data": {
      "application/vnd.microsoft.datawrangler.viewer.v0+json": {
       "columns": [
        {
         "name": "index",
         "rawType": "datetime64[ns]",
         "type": "datetime"
        },
        {
         "name": "A",
         "rawType": "float64",
         "type": "float"
        },
        {
         "name": "B",
         "rawType": "float64",
         "type": "float"
        }
       ],
       "ref": "71fed8a4-d93b-4291-ad03-57e5c6a696c1",
       "rows": [
        [
         "2025-01-02 00:00:00",
         "-1.4552331074761238",
         "-1.708931694713861"
        ],
        [
         "2025-01-03 00:00:00",
         "-1.7025903466758974",
         "2.292330089468291"
        ],
        [
         "2025-01-04 00:00:00",
         "-1.1167228318823532",
         "0.5836044516058234"
        ]
       ],
       "shape": {
        "columns": 2,
        "rows": 3
       }
      },
      "text/html": [
       "<div>\n",
       "<style scoped>\n",
       "    .dataframe tbody tr th:only-of-type {\n",
       "        vertical-align: middle;\n",
       "    }\n",
       "\n",
       "    .dataframe tbody tr th {\n",
       "        vertical-align: top;\n",
       "    }\n",
       "\n",
       "    .dataframe thead th {\n",
       "        text-align: right;\n",
       "    }\n",
       "</style>\n",
       "<table border=\"1\" class=\"dataframe\">\n",
       "  <thead>\n",
       "    <tr style=\"text-align: right;\">\n",
       "      <th></th>\n",
       "      <th>A</th>\n",
       "      <th>B</th>\n",
       "    </tr>\n",
       "  </thead>\n",
       "  <tbody>\n",
       "    <tr>\n",
       "      <th>2025-01-02</th>\n",
       "      <td>-1.455233</td>\n",
       "      <td>-1.708932</td>\n",
       "    </tr>\n",
       "    <tr>\n",
       "      <th>2025-01-03</th>\n",
       "      <td>-1.702590</td>\n",
       "      <td>2.292330</td>\n",
       "    </tr>\n",
       "    <tr>\n",
       "      <th>2025-01-04</th>\n",
       "      <td>-1.116723</td>\n",
       "      <td>0.583604</td>\n",
       "    </tr>\n",
       "  </tbody>\n",
       "</table>\n",
       "</div>"
      ],
      "text/plain": [
       "                   A         B\n",
       "2025-01-02 -1.455233 -1.708932\n",
       "2025-01-03 -1.702590  2.292330\n",
       "2025-01-04 -1.116723  0.583604"
      ]
     },
     "execution_count": 10,
     "metadata": {},
     "output_type": "execute_result"
    }
   ],
   "source": [
    "df.loc[\"20250102\":\"20250104\", [\"A\", \"B\"]]"
   ]
  },
  {
   "cell_type": "code",
   "execution_count": 11,
   "id": "fe8b8e02",
   "metadata": {},
   "outputs": [
    {
     "data": {
      "text/plain": [
       "np.float64(-1.8694095971280638)"
      ]
     },
     "execution_count": 11,
     "metadata": {},
     "output_type": "execute_result"
    }
   ],
   "source": [
    "df.loc[dates[0], \"A\"]"
   ]
  },
  {
   "cell_type": "code",
   "execution_count": 12,
   "id": "aacb1e34",
   "metadata": {},
   "outputs": [
    {
     "data": {
      "text/plain": [
       "np.float64(-1.8694095971280638)"
      ]
     },
     "execution_count": 12,
     "metadata": {},
     "output_type": "execute_result"
    }
   ],
   "source": [
    "# if scaler, should use at\n",
    "df.at[dates[0], \"A\"]"
   ]
  },
  {
   "cell_type": "markdown",
   "id": "e24b9db8",
   "metadata": {},
   "source": [
    "# use iloc to select by position"
   ]
  },
  {
   "cell_type": "code",
   "execution_count": 13,
   "id": "0bf3c371",
   "metadata": {},
   "outputs": [
    {
     "data": {
      "application/vnd.microsoft.datawrangler.viewer.v0+json": {
       "columns": [
        {
         "name": "index",
         "rawType": "object",
         "type": "string"
        },
        {
         "name": "2025-01-04 00:00:00",
         "rawType": "float64",
         "type": "float"
        }
       ],
       "ref": "b49c8441-8dc6-40c9-8154-1652ce10bd8e",
       "rows": [
        [
         "A",
         "-1.1167228318823532"
        ],
        [
         "B",
         "0.5836044516058234"
        ],
        [
         "C",
         "-0.7012199642546756"
        ],
        [
         "D",
         "1.5775374305577607"
        ]
       ],
       "shape": {
        "columns": 1,
        "rows": 4
       }
      },
      "text/plain": [
       "A   -1.116723\n",
       "B    0.583604\n",
       "C   -0.701220\n",
       "D    1.577537\n",
       "Name: 2025-01-04 00:00:00, dtype: float64"
      ]
     },
     "execution_count": 13,
     "metadata": {},
     "output_type": "execute_result"
    }
   ],
   "source": [
    "df.iloc[3]"
   ]
  },
  {
   "cell_type": "code",
   "execution_count": 14,
   "id": "132127d3",
   "metadata": {},
   "outputs": [
    {
     "data": {
      "application/vnd.microsoft.datawrangler.viewer.v0+json": {
       "columns": [
        {
         "name": "index",
         "rawType": "datetime64[ns]",
         "type": "datetime"
        },
        {
         "name": "A",
         "rawType": "float64",
         "type": "float"
        },
        {
         "name": "B",
         "rawType": "float64",
         "type": "float"
        }
       ],
       "ref": "e5da641d-702a-4dbb-8887-b21bb2ee13c9",
       "rows": [
        [
         "2025-01-04 00:00:00",
         "-1.1167228318823532",
         "0.5836044516058234"
        ],
        [
         "2025-01-05 00:00:00",
         "0.16021408516172897",
         "-0.6463755050781327"
        ]
       ],
       "shape": {
        "columns": 2,
        "rows": 2
       }
      },
      "text/html": [
       "<div>\n",
       "<style scoped>\n",
       "    .dataframe tbody tr th:only-of-type {\n",
       "        vertical-align: middle;\n",
       "    }\n",
       "\n",
       "    .dataframe tbody tr th {\n",
       "        vertical-align: top;\n",
       "    }\n",
       "\n",
       "    .dataframe thead th {\n",
       "        text-align: right;\n",
       "    }\n",
       "</style>\n",
       "<table border=\"1\" class=\"dataframe\">\n",
       "  <thead>\n",
       "    <tr style=\"text-align: right;\">\n",
       "      <th></th>\n",
       "      <th>A</th>\n",
       "      <th>B</th>\n",
       "    </tr>\n",
       "  </thead>\n",
       "  <tbody>\n",
       "    <tr>\n",
       "      <th>2025-01-04</th>\n",
       "      <td>-1.116723</td>\n",
       "      <td>0.583604</td>\n",
       "    </tr>\n",
       "    <tr>\n",
       "      <th>2025-01-05</th>\n",
       "      <td>0.160214</td>\n",
       "      <td>-0.646376</td>\n",
       "    </tr>\n",
       "  </tbody>\n",
       "</table>\n",
       "</div>"
      ],
      "text/plain": [
       "                   A         B\n",
       "2025-01-04 -1.116723  0.583604\n",
       "2025-01-05  0.160214 -0.646376"
      ]
     },
     "execution_count": 14,
     "metadata": {},
     "output_type": "execute_result"
    }
   ],
   "source": [
    "df.iloc[3:5, 0:2]"
   ]
  },
  {
   "cell_type": "code",
   "execution_count": 15,
   "id": "2ef1ec0a",
   "metadata": {},
   "outputs": [
    {
     "data": {
      "application/vnd.microsoft.datawrangler.viewer.v0+json": {
       "columns": [
        {
         "name": "index",
         "rawType": "datetime64[ns]",
         "type": "datetime"
        },
        {
         "name": "A",
         "rawType": "float64",
         "type": "float"
        },
        {
         "name": "C",
         "rawType": "float64",
         "type": "float"
        }
       ],
       "ref": "1f47ca7b-0aab-4e7d-b96c-b76f79619fbb",
       "rows": [
        [
         "2025-01-02 00:00:00",
         "-1.4552331074761238",
         "0.8409478579662595"
        ],
        [
         "2025-01-03 00:00:00",
         "-1.7025903466758974",
         "1.296625187893266"
        ],
        [
         "2025-01-05 00:00:00",
         "0.16021408516172897",
         "-0.7183531349717471"
        ]
       ],
       "shape": {
        "columns": 2,
        "rows": 3
       }
      },
      "text/html": [
       "<div>\n",
       "<style scoped>\n",
       "    .dataframe tbody tr th:only-of-type {\n",
       "        vertical-align: middle;\n",
       "    }\n",
       "\n",
       "    .dataframe tbody tr th {\n",
       "        vertical-align: top;\n",
       "    }\n",
       "\n",
       "    .dataframe thead th {\n",
       "        text-align: right;\n",
       "    }\n",
       "</style>\n",
       "<table border=\"1\" class=\"dataframe\">\n",
       "  <thead>\n",
       "    <tr style=\"text-align: right;\">\n",
       "      <th></th>\n",
       "      <th>A</th>\n",
       "      <th>C</th>\n",
       "    </tr>\n",
       "  </thead>\n",
       "  <tbody>\n",
       "    <tr>\n",
       "      <th>2025-01-02</th>\n",
       "      <td>-1.455233</td>\n",
       "      <td>0.840948</td>\n",
       "    </tr>\n",
       "    <tr>\n",
       "      <th>2025-01-03</th>\n",
       "      <td>-1.702590</td>\n",
       "      <td>1.296625</td>\n",
       "    </tr>\n",
       "    <tr>\n",
       "      <th>2025-01-05</th>\n",
       "      <td>0.160214</td>\n",
       "      <td>-0.718353</td>\n",
       "    </tr>\n",
       "  </tbody>\n",
       "</table>\n",
       "</div>"
      ],
      "text/plain": [
       "                   A         C\n",
       "2025-01-02 -1.455233  0.840948\n",
       "2025-01-03 -1.702590  1.296625\n",
       "2025-01-05  0.160214 -0.718353"
      ]
     },
     "execution_count": 15,
     "metadata": {},
     "output_type": "execute_result"
    }
   ],
   "source": [
    "df.iloc[[1, 2, 4], [0, 2]]"
   ]
  },
  {
   "cell_type": "code",
   "execution_count": 16,
   "id": "5907fd7c",
   "metadata": {},
   "outputs": [
    {
     "data": {
      "application/vnd.microsoft.datawrangler.viewer.v0+json": {
       "columns": [
        {
         "name": "index",
         "rawType": "datetime64[ns]",
         "type": "datetime"
        },
        {
         "name": "A",
         "rawType": "float64",
         "type": "float"
        },
        {
         "name": "B",
         "rawType": "float64",
         "type": "float"
        },
        {
         "name": "C",
         "rawType": "float64",
         "type": "float"
        },
        {
         "name": "D",
         "rawType": "float64",
         "type": "float"
        }
       ],
       "ref": "c90d8993-dfb0-4f07-a280-ca6f2dbd0581",
       "rows": [
        [
         "2025-01-02 00:00:00",
         "-1.4552331074761238",
         "-1.708931694713861",
         "0.8409478579662595",
         "0.8198491190948686"
        ],
        [
         "2025-01-03 00:00:00",
         "-1.7025903466758974",
         "2.292330089468291",
         "1.296625187893266",
         "-0.3962499599298923"
        ]
       ],
       "shape": {
        "columns": 4,
        "rows": 2
       }
      },
      "text/html": [
       "<div>\n",
       "<style scoped>\n",
       "    .dataframe tbody tr th:only-of-type {\n",
       "        vertical-align: middle;\n",
       "    }\n",
       "\n",
       "    .dataframe tbody tr th {\n",
       "        vertical-align: top;\n",
       "    }\n",
       "\n",
       "    .dataframe thead th {\n",
       "        text-align: right;\n",
       "    }\n",
       "</style>\n",
       "<table border=\"1\" class=\"dataframe\">\n",
       "  <thead>\n",
       "    <tr style=\"text-align: right;\">\n",
       "      <th></th>\n",
       "      <th>A</th>\n",
       "      <th>B</th>\n",
       "      <th>C</th>\n",
       "      <th>D</th>\n",
       "    </tr>\n",
       "  </thead>\n",
       "  <tbody>\n",
       "    <tr>\n",
       "      <th>2025-01-02</th>\n",
       "      <td>-1.455233</td>\n",
       "      <td>-1.708932</td>\n",
       "      <td>0.840948</td>\n",
       "      <td>0.819849</td>\n",
       "    </tr>\n",
       "    <tr>\n",
       "      <th>2025-01-03</th>\n",
       "      <td>-1.702590</td>\n",
       "      <td>2.292330</td>\n",
       "      <td>1.296625</td>\n",
       "      <td>-0.396250</td>\n",
       "    </tr>\n",
       "  </tbody>\n",
       "</table>\n",
       "</div>"
      ],
      "text/plain": [
       "                   A         B         C         D\n",
       "2025-01-02 -1.455233 -1.708932  0.840948  0.819849\n",
       "2025-01-03 -1.702590  2.292330  1.296625 -0.396250"
      ]
     },
     "execution_count": 16,
     "metadata": {},
     "output_type": "execute_result"
    }
   ],
   "source": [
    "df.iloc[1:3]"
   ]
  },
  {
   "cell_type": "code",
   "execution_count": 17,
   "id": "61eac2fb",
   "metadata": {},
   "outputs": [
    {
     "data": {
      "application/vnd.microsoft.datawrangler.viewer.v0+json": {
       "columns": [
        {
         "name": "index",
         "rawType": "datetime64[ns]",
         "type": "datetime"
        },
        {
         "name": "B",
         "rawType": "float64",
         "type": "float"
        },
        {
         "name": "C",
         "rawType": "float64",
         "type": "float"
        }
       ],
       "ref": "ac1b44a9-85dd-47c1-8800-dc41829d7dda",
       "rows": [
        [
         "2025-01-01 00:00:00",
         "-1.1072867046206318",
         "-0.44362396613680466"
        ],
        [
         "2025-01-02 00:00:00",
         "-1.708931694713861",
         "0.8409478579662595"
        ],
        [
         "2025-01-03 00:00:00",
         "2.292330089468291",
         "1.296625187893266"
        ],
        [
         "2025-01-04 00:00:00",
         "0.5836044516058234",
         "-0.7012199642546756"
        ],
        [
         "2025-01-05 00:00:00",
         "-0.6463755050781327",
         "-0.7183531349717471"
        ],
        [
         "2025-01-06 00:00:00",
         "-1.543628292634097",
         "0.24303723847807696"
        ]
       ],
       "shape": {
        "columns": 2,
        "rows": 6
       }
      },
      "text/html": [
       "<div>\n",
       "<style scoped>\n",
       "    .dataframe tbody tr th:only-of-type {\n",
       "        vertical-align: middle;\n",
       "    }\n",
       "\n",
       "    .dataframe tbody tr th {\n",
       "        vertical-align: top;\n",
       "    }\n",
       "\n",
       "    .dataframe thead th {\n",
       "        text-align: right;\n",
       "    }\n",
       "</style>\n",
       "<table border=\"1\" class=\"dataframe\">\n",
       "  <thead>\n",
       "    <tr style=\"text-align: right;\">\n",
       "      <th></th>\n",
       "      <th>B</th>\n",
       "      <th>C</th>\n",
       "    </tr>\n",
       "  </thead>\n",
       "  <tbody>\n",
       "    <tr>\n",
       "      <th>2025-01-01</th>\n",
       "      <td>-1.107287</td>\n",
       "      <td>-0.443624</td>\n",
       "    </tr>\n",
       "    <tr>\n",
       "      <th>2025-01-02</th>\n",
       "      <td>-1.708932</td>\n",
       "      <td>0.840948</td>\n",
       "    </tr>\n",
       "    <tr>\n",
       "      <th>2025-01-03</th>\n",
       "      <td>2.292330</td>\n",
       "      <td>1.296625</td>\n",
       "    </tr>\n",
       "    <tr>\n",
       "      <th>2025-01-04</th>\n",
       "      <td>0.583604</td>\n",
       "      <td>-0.701220</td>\n",
       "    </tr>\n",
       "    <tr>\n",
       "      <th>2025-01-05</th>\n",
       "      <td>-0.646376</td>\n",
       "      <td>-0.718353</td>\n",
       "    </tr>\n",
       "    <tr>\n",
       "      <th>2025-01-06</th>\n",
       "      <td>-1.543628</td>\n",
       "      <td>0.243037</td>\n",
       "    </tr>\n",
       "  </tbody>\n",
       "</table>\n",
       "</div>"
      ],
      "text/plain": [
       "                   B         C\n",
       "2025-01-01 -1.107287 -0.443624\n",
       "2025-01-02 -1.708932  0.840948\n",
       "2025-01-03  2.292330  1.296625\n",
       "2025-01-04  0.583604 -0.701220\n",
       "2025-01-05 -0.646376 -0.718353\n",
       "2025-01-06 -1.543628  0.243037"
      ]
     },
     "execution_count": 17,
     "metadata": {},
     "output_type": "execute_result"
    }
   ],
   "source": [
    "df.iloc[:, 1:3]"
   ]
  },
  {
   "cell_type": "code",
   "execution_count": 18,
   "id": "ea2e16f8",
   "metadata": {},
   "outputs": [
    {
     "data": {
      "text/plain": [
       "np.float64(-1.708931694713861)"
      ]
     },
     "execution_count": 18,
     "metadata": {},
     "output_type": "execute_result"
    }
   ],
   "source": [
    "df.iloc[1, 1]"
   ]
  },
  {
   "cell_type": "markdown",
   "id": "f9dfbd0c",
   "metadata": {},
   "source": [
    "# Use iat for fater scalar"
   ]
  },
  {
   "cell_type": "code",
   "execution_count": 19,
   "id": "f17202a2",
   "metadata": {},
   "outputs": [
    {
     "data": {
      "text/plain": [
       "np.float64(-1.708931694713861)"
      ]
     },
     "execution_count": 19,
     "metadata": {},
     "output_type": "execute_result"
    }
   ],
   "source": [
    "df.iat[1, 1]"
   ]
  },
  {
   "cell_type": "markdown",
   "id": "497cbea5",
   "metadata": {},
   "source": [
    "# Boolean indexing"
   ]
  },
  {
   "cell_type": "code",
   "execution_count": 20,
   "id": "17019208",
   "metadata": {},
   "outputs": [
    {
     "data": {
      "application/vnd.microsoft.datawrangler.viewer.v0+json": {
       "columns": [
        {
         "name": "index",
         "rawType": "datetime64[ns]",
         "type": "datetime"
        },
        {
         "name": "A",
         "rawType": "float64",
         "type": "float"
        },
        {
         "name": "B",
         "rawType": "float64",
         "type": "float"
        },
        {
         "name": "C",
         "rawType": "float64",
         "type": "float"
        },
        {
         "name": "D",
         "rawType": "float64",
         "type": "float"
        }
       ],
       "ref": "b3939f5f-0a55-42db-832d-72a3274b3df1",
       "rows": [
        [
         "2025-01-05 00:00:00",
         "0.16021408516172897",
         "-0.6463755050781327",
         "-0.7183531349717471",
         "1.271022944117425"
        ],
        [
         "2025-01-06 00:00:00",
         "0.7666226315906892",
         "-1.543628292634097",
         "0.24303723847807696",
         "0.042216359352902244"
        ]
       ],
       "shape": {
        "columns": 4,
        "rows": 2
       }
      },
      "text/html": [
       "<div>\n",
       "<style scoped>\n",
       "    .dataframe tbody tr th:only-of-type {\n",
       "        vertical-align: middle;\n",
       "    }\n",
       "\n",
       "    .dataframe tbody tr th {\n",
       "        vertical-align: top;\n",
       "    }\n",
       "\n",
       "    .dataframe thead th {\n",
       "        text-align: right;\n",
       "    }\n",
       "</style>\n",
       "<table border=\"1\" class=\"dataframe\">\n",
       "  <thead>\n",
       "    <tr style=\"text-align: right;\">\n",
       "      <th></th>\n",
       "      <th>A</th>\n",
       "      <th>B</th>\n",
       "      <th>C</th>\n",
       "      <th>D</th>\n",
       "    </tr>\n",
       "  </thead>\n",
       "  <tbody>\n",
       "    <tr>\n",
       "      <th>2025-01-05</th>\n",
       "      <td>0.160214</td>\n",
       "      <td>-0.646376</td>\n",
       "      <td>-0.718353</td>\n",
       "      <td>1.271023</td>\n",
       "    </tr>\n",
       "    <tr>\n",
       "      <th>2025-01-06</th>\n",
       "      <td>0.766623</td>\n",
       "      <td>-1.543628</td>\n",
       "      <td>0.243037</td>\n",
       "      <td>0.042216</td>\n",
       "    </tr>\n",
       "  </tbody>\n",
       "</table>\n",
       "</div>"
      ],
      "text/plain": [
       "                   A         B         C         D\n",
       "2025-01-05  0.160214 -0.646376 -0.718353  1.271023\n",
       "2025-01-06  0.766623 -1.543628  0.243037  0.042216"
      ]
     },
     "execution_count": 20,
     "metadata": {},
     "output_type": "execute_result"
    }
   ],
   "source": [
    "df[df[\"A\"] > 0] # Select all row where df.A is greater than 0"
   ]
  },
  {
   "cell_type": "code",
   "execution_count": 21,
   "id": "b34a9117",
   "metadata": {},
   "outputs": [
    {
     "data": {
      "application/vnd.microsoft.datawrangler.viewer.v0+json": {
       "columns": [
        {
         "name": "index",
         "rawType": "datetime64[ns]",
         "type": "datetime"
        },
        {
         "name": "A",
         "rawType": "float64",
         "type": "float"
        },
        {
         "name": "B",
         "rawType": "float64",
         "type": "float"
        },
        {
         "name": "C",
         "rawType": "float64",
         "type": "float"
        },
        {
         "name": "D",
         "rawType": "float64",
         "type": "float"
        }
       ],
       "ref": "9856a53f-9ed8-4192-82b8-c5a19236d961",
       "rows": [
        [
         "2025-01-01 00:00:00",
         null,
         null,
         null,
         "2.3605335329121946"
        ],
        [
         "2025-01-02 00:00:00",
         null,
         null,
         "0.8409478579662595",
         "0.8198491190948686"
        ],
        [
         "2025-01-03 00:00:00",
         null,
         "2.292330089468291",
         "1.296625187893266",
         null
        ],
        [
         "2025-01-04 00:00:00",
         null,
         "0.5836044516058234",
         null,
         "1.5775374305577607"
        ],
        [
         "2025-01-05 00:00:00",
         "0.16021408516172897",
         null,
         null,
         "1.271022944117425"
        ],
        [
         "2025-01-06 00:00:00",
         "0.7666226315906892",
         null,
         "0.24303723847807696",
         "0.042216359352902244"
        ]
       ],
       "shape": {
        "columns": 4,
        "rows": 6
       }
      },
      "text/html": [
       "<div>\n",
       "<style scoped>\n",
       "    .dataframe tbody tr th:only-of-type {\n",
       "        vertical-align: middle;\n",
       "    }\n",
       "\n",
       "    .dataframe tbody tr th {\n",
       "        vertical-align: top;\n",
       "    }\n",
       "\n",
       "    .dataframe thead th {\n",
       "        text-align: right;\n",
       "    }\n",
       "</style>\n",
       "<table border=\"1\" class=\"dataframe\">\n",
       "  <thead>\n",
       "    <tr style=\"text-align: right;\">\n",
       "      <th></th>\n",
       "      <th>A</th>\n",
       "      <th>B</th>\n",
       "      <th>C</th>\n",
       "      <th>D</th>\n",
       "    </tr>\n",
       "  </thead>\n",
       "  <tbody>\n",
       "    <tr>\n",
       "      <th>2025-01-01</th>\n",
       "      <td>NaN</td>\n",
       "      <td>NaN</td>\n",
       "      <td>NaN</td>\n",
       "      <td>2.360534</td>\n",
       "    </tr>\n",
       "    <tr>\n",
       "      <th>2025-01-02</th>\n",
       "      <td>NaN</td>\n",
       "      <td>NaN</td>\n",
       "      <td>0.840948</td>\n",
       "      <td>0.819849</td>\n",
       "    </tr>\n",
       "    <tr>\n",
       "      <th>2025-01-03</th>\n",
       "      <td>NaN</td>\n",
       "      <td>2.292330</td>\n",
       "      <td>1.296625</td>\n",
       "      <td>NaN</td>\n",
       "    </tr>\n",
       "    <tr>\n",
       "      <th>2025-01-04</th>\n",
       "      <td>NaN</td>\n",
       "      <td>0.583604</td>\n",
       "      <td>NaN</td>\n",
       "      <td>1.577537</td>\n",
       "    </tr>\n",
       "    <tr>\n",
       "      <th>2025-01-05</th>\n",
       "      <td>0.160214</td>\n",
       "      <td>NaN</td>\n",
       "      <td>NaN</td>\n",
       "      <td>1.271023</td>\n",
       "    </tr>\n",
       "    <tr>\n",
       "      <th>2025-01-06</th>\n",
       "      <td>0.766623</td>\n",
       "      <td>NaN</td>\n",
       "      <td>0.243037</td>\n",
       "      <td>0.042216</td>\n",
       "    </tr>\n",
       "  </tbody>\n",
       "</table>\n",
       "</div>"
      ],
      "text/plain": [
       "                   A         B         C         D\n",
       "2025-01-01       NaN       NaN       NaN  2.360534\n",
       "2025-01-02       NaN       NaN  0.840948  0.819849\n",
       "2025-01-03       NaN  2.292330  1.296625       NaN\n",
       "2025-01-04       NaN  0.583604       NaN  1.577537\n",
       "2025-01-05  0.160214       NaN       NaN  1.271023\n",
       "2025-01-06  0.766623       NaN  0.243037  0.042216"
      ]
     },
     "execution_count": 21,
     "metadata": {},
     "output_type": "execute_result"
    }
   ],
   "source": [
    "df[ df > 0]"
   ]
  },
  {
   "cell_type": "code",
   "execution_count": 22,
   "id": "f9389dcd",
   "metadata": {},
   "outputs": [
    {
     "data": {
      "application/vnd.microsoft.datawrangler.viewer.v0+json": {
       "columns": [
        {
         "name": "index",
         "rawType": "datetime64[ns]",
         "type": "datetime"
        },
        {
         "name": "A",
         "rawType": "float64",
         "type": "float"
        },
        {
         "name": "B",
         "rawType": "float64",
         "type": "float"
        },
        {
         "name": "C",
         "rawType": "float64",
         "type": "float"
        },
        {
         "name": "D",
         "rawType": "float64",
         "type": "float"
        },
        {
         "name": "E",
         "rawType": "object",
         "type": "string"
        }
       ],
       "ref": "8b42ae1b-9db9-4c26-91f0-93fa56c5c673",
       "rows": [
        [
         "2025-01-01 00:00:00",
         "-1.8694095971280638",
         "-1.1072867046206318",
         "-0.44362396613680466",
         "2.3605335329121946",
         "one"
        ],
        [
         "2025-01-02 00:00:00",
         "-1.4552331074761238",
         "-1.708931694713861",
         "0.8409478579662595",
         "0.8198491190948686",
         "one"
        ],
        [
         "2025-01-03 00:00:00",
         "-1.7025903466758974",
         "2.292330089468291",
         "1.296625187893266",
         "-0.3962499599298923",
         "two"
        ],
        [
         "2025-01-04 00:00:00",
         "-1.1167228318823532",
         "0.5836044516058234",
         "-0.7012199642546756",
         "1.5775374305577607",
         "three"
        ],
        [
         "2025-01-05 00:00:00",
         "0.16021408516172897",
         "-0.6463755050781327",
         "-0.7183531349717471",
         "1.271022944117425",
         "four"
        ],
        [
         "2025-01-06 00:00:00",
         "0.7666226315906892",
         "-1.543628292634097",
         "0.24303723847807696",
         "0.042216359352902244",
         "three"
        ]
       ],
       "shape": {
        "columns": 5,
        "rows": 6
       }
      },
      "text/html": [
       "<div>\n",
       "<style scoped>\n",
       "    .dataframe tbody tr th:only-of-type {\n",
       "        vertical-align: middle;\n",
       "    }\n",
       "\n",
       "    .dataframe tbody tr th {\n",
       "        vertical-align: top;\n",
       "    }\n",
       "\n",
       "    .dataframe thead th {\n",
       "        text-align: right;\n",
       "    }\n",
       "</style>\n",
       "<table border=\"1\" class=\"dataframe\">\n",
       "  <thead>\n",
       "    <tr style=\"text-align: right;\">\n",
       "      <th></th>\n",
       "      <th>A</th>\n",
       "      <th>B</th>\n",
       "      <th>C</th>\n",
       "      <th>D</th>\n",
       "      <th>E</th>\n",
       "    </tr>\n",
       "  </thead>\n",
       "  <tbody>\n",
       "    <tr>\n",
       "      <th>2025-01-01</th>\n",
       "      <td>-1.869410</td>\n",
       "      <td>-1.107287</td>\n",
       "      <td>-0.443624</td>\n",
       "      <td>2.360534</td>\n",
       "      <td>one</td>\n",
       "    </tr>\n",
       "    <tr>\n",
       "      <th>2025-01-02</th>\n",
       "      <td>-1.455233</td>\n",
       "      <td>-1.708932</td>\n",
       "      <td>0.840948</td>\n",
       "      <td>0.819849</td>\n",
       "      <td>one</td>\n",
       "    </tr>\n",
       "    <tr>\n",
       "      <th>2025-01-03</th>\n",
       "      <td>-1.702590</td>\n",
       "      <td>2.292330</td>\n",
       "      <td>1.296625</td>\n",
       "      <td>-0.396250</td>\n",
       "      <td>two</td>\n",
       "    </tr>\n",
       "    <tr>\n",
       "      <th>2025-01-04</th>\n",
       "      <td>-1.116723</td>\n",
       "      <td>0.583604</td>\n",
       "      <td>-0.701220</td>\n",
       "      <td>1.577537</td>\n",
       "      <td>three</td>\n",
       "    </tr>\n",
       "    <tr>\n",
       "      <th>2025-01-05</th>\n",
       "      <td>0.160214</td>\n",
       "      <td>-0.646376</td>\n",
       "      <td>-0.718353</td>\n",
       "      <td>1.271023</td>\n",
       "      <td>four</td>\n",
       "    </tr>\n",
       "    <tr>\n",
       "      <th>2025-01-06</th>\n",
       "      <td>0.766623</td>\n",
       "      <td>-1.543628</td>\n",
       "      <td>0.243037</td>\n",
       "      <td>0.042216</td>\n",
       "      <td>three</td>\n",
       "    </tr>\n",
       "  </tbody>\n",
       "</table>\n",
       "</div>"
      ],
      "text/plain": [
       "                   A         B         C         D      E\n",
       "2025-01-01 -1.869410 -1.107287 -0.443624  2.360534    one\n",
       "2025-01-02 -1.455233 -1.708932  0.840948  0.819849    one\n",
       "2025-01-03 -1.702590  2.292330  1.296625 -0.396250    two\n",
       "2025-01-04 -1.116723  0.583604 -0.701220  1.577537  three\n",
       "2025-01-05  0.160214 -0.646376 -0.718353  1.271023   four\n",
       "2025-01-06  0.766623 -1.543628  0.243037  0.042216  three"
      ]
     },
     "execution_count": 22,
     "metadata": {},
     "output_type": "execute_result"
    }
   ],
   "source": [
    "df2 = df.copy()\n",
    "\n",
    "df2[\"E\"] = [\"one\", \"one\", \"two\", \"three\", \"four\", \"three\"]\n",
    "df2"
   ]
  },
  {
   "cell_type": "code",
   "execution_count": 23,
   "id": "0d11b2ed",
   "metadata": {},
   "outputs": [
    {
     "data": {
      "application/vnd.microsoft.datawrangler.viewer.v0+json": {
       "columns": [
        {
         "name": "index",
         "rawType": "datetime64[ns]",
         "type": "datetime"
        },
        {
         "name": "A",
         "rawType": "float64",
         "type": "float"
        },
        {
         "name": "B",
         "rawType": "float64",
         "type": "float"
        },
        {
         "name": "C",
         "rawType": "float64",
         "type": "float"
        },
        {
         "name": "D",
         "rawType": "float64",
         "type": "float"
        },
        {
         "name": "E",
         "rawType": "object",
         "type": "string"
        }
       ],
       "ref": "93601d36-c9af-47d8-a0b9-2ea63661880f",
       "rows": [
        [
         "2025-01-03 00:00:00",
         "-1.7025903466758974",
         "2.292330089468291",
         "1.296625187893266",
         "-0.3962499599298923",
         "two"
        ],
        [
         "2025-01-05 00:00:00",
         "0.16021408516172897",
         "-0.6463755050781327",
         "-0.7183531349717471",
         "1.271022944117425",
         "four"
        ]
       ],
       "shape": {
        "columns": 5,
        "rows": 2
       }
      },
      "text/html": [
       "<div>\n",
       "<style scoped>\n",
       "    .dataframe tbody tr th:only-of-type {\n",
       "        vertical-align: middle;\n",
       "    }\n",
       "\n",
       "    .dataframe tbody tr th {\n",
       "        vertical-align: top;\n",
       "    }\n",
       "\n",
       "    .dataframe thead th {\n",
       "        text-align: right;\n",
       "    }\n",
       "</style>\n",
       "<table border=\"1\" class=\"dataframe\">\n",
       "  <thead>\n",
       "    <tr style=\"text-align: right;\">\n",
       "      <th></th>\n",
       "      <th>A</th>\n",
       "      <th>B</th>\n",
       "      <th>C</th>\n",
       "      <th>D</th>\n",
       "      <th>E</th>\n",
       "    </tr>\n",
       "  </thead>\n",
       "  <tbody>\n",
       "    <tr>\n",
       "      <th>2025-01-03</th>\n",
       "      <td>-1.702590</td>\n",
       "      <td>2.292330</td>\n",
       "      <td>1.296625</td>\n",
       "      <td>-0.396250</td>\n",
       "      <td>two</td>\n",
       "    </tr>\n",
       "    <tr>\n",
       "      <th>2025-01-05</th>\n",
       "      <td>0.160214</td>\n",
       "      <td>-0.646376</td>\n",
       "      <td>-0.718353</td>\n",
       "      <td>1.271023</td>\n",
       "      <td>four</td>\n",
       "    </tr>\n",
       "  </tbody>\n",
       "</table>\n",
       "</div>"
      ],
      "text/plain": [
       "                   A         B         C         D     E\n",
       "2025-01-03 -1.702590  2.292330  1.296625 -0.396250   two\n",
       "2025-01-05  0.160214 -0.646376 -0.718353  1.271023  four"
      ]
     },
     "execution_count": 23,
     "metadata": {},
     "output_type": "execute_result"
    }
   ],
   "source": [
    "df2[df2[\"E\"].isin([\"two\", \"four\"])] # Select column E where rows have \"two\" and \"four\""
   ]
  },
  {
   "cell_type": "markdown",
   "id": "9b1ac6fc",
   "metadata": {},
   "source": [
    "# Setting"
   ]
  },
  {
   "cell_type": "code",
   "execution_count": 24,
   "id": "63337655",
   "metadata": {},
   "outputs": [
    {
     "data": {
      "application/vnd.microsoft.datawrangler.viewer.v0+json": {
       "columns": [
        {
         "name": "index",
         "rawType": "datetime64[ns]",
         "type": "datetime"
        },
        {
         "name": "0",
         "rawType": "int64",
         "type": "integer"
        }
       ],
       "ref": "707cbdaf-bb3d-4d5f-a24a-4c10746e9c8d",
       "rows": [
        [
         "2025-01-02 00:00:00",
         "1"
        ],
        [
         "2025-01-03 00:00:00",
         "2"
        ],
        [
         "2025-01-04 00:00:00",
         "3"
        ],
        [
         "2025-01-05 00:00:00",
         "4"
        ],
        [
         "2025-01-06 00:00:00",
         "5"
        ],
        [
         "2025-01-07 00:00:00",
         "6"
        ]
       ],
       "shape": {
        "columns": 1,
        "rows": 6
       }
      },
      "text/plain": [
       "2025-01-02    1\n",
       "2025-01-03    2\n",
       "2025-01-04    3\n",
       "2025-01-05    4\n",
       "2025-01-06    5\n",
       "2025-01-07    6\n",
       "Freq: D, dtype: int64"
      ]
     },
     "execution_count": 24,
     "metadata": {},
     "output_type": "execute_result"
    }
   ],
   "source": [
    "s1 = pd.Series([1, 2, 3, 4, 5, 6], index=pd.date_range(\"20250102\", periods=6))\n",
    "s1"
   ]
  },
  {
   "cell_type": "code",
   "execution_count": 25,
   "id": "bf68be4f",
   "metadata": {},
   "outputs": [],
   "source": [
    "df.at[dates[0], \"A\"] = 0"
   ]
  },
  {
   "cell_type": "code",
   "execution_count": 26,
   "id": "7ae00637",
   "metadata": {},
   "outputs": [],
   "source": [
    "df.iat[0, 1] = 0"
   ]
  },
  {
   "cell_type": "code",
   "execution_count": 27,
   "id": "8bd1c3e9",
   "metadata": {},
   "outputs": [],
   "source": [
    "df.loc[:, \"D\"] = np.array([5] * len(df))"
   ]
  },
  {
   "cell_type": "code",
   "execution_count": 28,
   "id": "cd6e895a",
   "metadata": {},
   "outputs": [
    {
     "data": {
      "application/vnd.microsoft.datawrangler.viewer.v0+json": {
       "columns": [
        {
         "name": "index",
         "rawType": "datetime64[ns]",
         "type": "datetime"
        },
        {
         "name": "A",
         "rawType": "float64",
         "type": "float"
        },
        {
         "name": "B",
         "rawType": "float64",
         "type": "float"
        },
        {
         "name": "C",
         "rawType": "float64",
         "type": "float"
        },
        {
         "name": "D",
         "rawType": "float64",
         "type": "float"
        }
       ],
       "ref": "98810d61-0c25-4256-ad4e-a4fd48610ab7",
       "rows": [
        [
         "2025-01-01 00:00:00",
         "0.0",
         "0.0",
         "-0.44362396613680466",
         "5.0"
        ],
        [
         "2025-01-02 00:00:00",
         "-1.4552331074761238",
         "-1.708931694713861",
         "0.8409478579662595",
         "5.0"
        ],
        [
         "2025-01-03 00:00:00",
         "-1.7025903466758974",
         "2.292330089468291",
         "1.296625187893266",
         "5.0"
        ],
        [
         "2025-01-04 00:00:00",
         "-1.1167228318823532",
         "0.5836044516058234",
         "-0.7012199642546756",
         "5.0"
        ],
        [
         "2025-01-05 00:00:00",
         "0.16021408516172897",
         "-0.6463755050781327",
         "-0.7183531349717471",
         "5.0"
        ],
        [
         "2025-01-06 00:00:00",
         "0.7666226315906892",
         "-1.543628292634097",
         "0.24303723847807696",
         "5.0"
        ]
       ],
       "shape": {
        "columns": 4,
        "rows": 6
       }
      },
      "text/html": [
       "<div>\n",
       "<style scoped>\n",
       "    .dataframe tbody tr th:only-of-type {\n",
       "        vertical-align: middle;\n",
       "    }\n",
       "\n",
       "    .dataframe tbody tr th {\n",
       "        vertical-align: top;\n",
       "    }\n",
       "\n",
       "    .dataframe thead th {\n",
       "        text-align: right;\n",
       "    }\n",
       "</style>\n",
       "<table border=\"1\" class=\"dataframe\">\n",
       "  <thead>\n",
       "    <tr style=\"text-align: right;\">\n",
       "      <th></th>\n",
       "      <th>A</th>\n",
       "      <th>B</th>\n",
       "      <th>C</th>\n",
       "      <th>D</th>\n",
       "    </tr>\n",
       "  </thead>\n",
       "  <tbody>\n",
       "    <tr>\n",
       "      <th>2025-01-01</th>\n",
       "      <td>0.000000</td>\n",
       "      <td>0.000000</td>\n",
       "      <td>-0.443624</td>\n",
       "      <td>5.0</td>\n",
       "    </tr>\n",
       "    <tr>\n",
       "      <th>2025-01-02</th>\n",
       "      <td>-1.455233</td>\n",
       "      <td>-1.708932</td>\n",
       "      <td>0.840948</td>\n",
       "      <td>5.0</td>\n",
       "    </tr>\n",
       "    <tr>\n",
       "      <th>2025-01-03</th>\n",
       "      <td>-1.702590</td>\n",
       "      <td>2.292330</td>\n",
       "      <td>1.296625</td>\n",
       "      <td>5.0</td>\n",
       "    </tr>\n",
       "    <tr>\n",
       "      <th>2025-01-04</th>\n",
       "      <td>-1.116723</td>\n",
       "      <td>0.583604</td>\n",
       "      <td>-0.701220</td>\n",
       "      <td>5.0</td>\n",
       "    </tr>\n",
       "    <tr>\n",
       "      <th>2025-01-05</th>\n",
       "      <td>0.160214</td>\n",
       "      <td>-0.646376</td>\n",
       "      <td>-0.718353</td>\n",
       "      <td>5.0</td>\n",
       "    </tr>\n",
       "    <tr>\n",
       "      <th>2025-01-06</th>\n",
       "      <td>0.766623</td>\n",
       "      <td>-1.543628</td>\n",
       "      <td>0.243037</td>\n",
       "      <td>5.0</td>\n",
       "    </tr>\n",
       "  </tbody>\n",
       "</table>\n",
       "</div>"
      ],
      "text/plain": [
       "                   A         B         C    D\n",
       "2025-01-01  0.000000  0.000000 -0.443624  5.0\n",
       "2025-01-02 -1.455233 -1.708932  0.840948  5.0\n",
       "2025-01-03 -1.702590  2.292330  1.296625  5.0\n",
       "2025-01-04 -1.116723  0.583604 -0.701220  5.0\n",
       "2025-01-05  0.160214 -0.646376 -0.718353  5.0\n",
       "2025-01-06  0.766623 -1.543628  0.243037  5.0"
      ]
     },
     "execution_count": 28,
     "metadata": {},
     "output_type": "execute_result"
    }
   ],
   "source": [
    "df"
   ]
  },
  {
   "cell_type": "code",
   "execution_count": 29,
   "id": "da0948e5",
   "metadata": {},
   "outputs": [
    {
     "data": {
      "application/vnd.microsoft.datawrangler.viewer.v0+json": {
       "columns": [
        {
         "name": "index",
         "rawType": "datetime64[ns]",
         "type": "datetime"
        },
        {
         "name": "A",
         "rawType": "float64",
         "type": "float"
        },
        {
         "name": "B",
         "rawType": "float64",
         "type": "float"
        },
        {
         "name": "C",
         "rawType": "float64",
         "type": "float"
        },
        {
         "name": "D",
         "rawType": "float64",
         "type": "float"
        }
       ],
       "ref": "c9aedfe3-67c7-48d3-8a32-7cb14057cc49",
       "rows": [
        [
         "2025-01-01 00:00:00",
         "0.0",
         "0.0",
         "-0.44362396613680466",
         "-5.0"
        ],
        [
         "2025-01-02 00:00:00",
         "-1.4552331074761238",
         "-1.708931694713861",
         "-0.8409478579662595",
         "-5.0"
        ],
        [
         "2025-01-03 00:00:00",
         "-1.7025903466758974",
         "-2.292330089468291",
         "-1.296625187893266",
         "-5.0"
        ],
        [
         "2025-01-04 00:00:00",
         "-1.1167228318823532",
         "-0.5836044516058234",
         "-0.7012199642546756",
         "-5.0"
        ],
        [
         "2025-01-05 00:00:00",
         "-0.16021408516172897",
         "-0.6463755050781327",
         "-0.7183531349717471",
         "-5.0"
        ],
        [
         "2025-01-06 00:00:00",
         "-0.7666226315906892",
         "-1.543628292634097",
         "-0.24303723847807696",
         "-5.0"
        ]
       ],
       "shape": {
        "columns": 4,
        "rows": 6
       }
      },
      "text/html": [
       "<div>\n",
       "<style scoped>\n",
       "    .dataframe tbody tr th:only-of-type {\n",
       "        vertical-align: middle;\n",
       "    }\n",
       "\n",
       "    .dataframe tbody tr th {\n",
       "        vertical-align: top;\n",
       "    }\n",
       "\n",
       "    .dataframe thead th {\n",
       "        text-align: right;\n",
       "    }\n",
       "</style>\n",
       "<table border=\"1\" class=\"dataframe\">\n",
       "  <thead>\n",
       "    <tr style=\"text-align: right;\">\n",
       "      <th></th>\n",
       "      <th>A</th>\n",
       "      <th>B</th>\n",
       "      <th>C</th>\n",
       "      <th>D</th>\n",
       "    </tr>\n",
       "  </thead>\n",
       "  <tbody>\n",
       "    <tr>\n",
       "      <th>2025-01-01</th>\n",
       "      <td>0.000000</td>\n",
       "      <td>0.000000</td>\n",
       "      <td>-0.443624</td>\n",
       "      <td>-5.0</td>\n",
       "    </tr>\n",
       "    <tr>\n",
       "      <th>2025-01-02</th>\n",
       "      <td>-1.455233</td>\n",
       "      <td>-1.708932</td>\n",
       "      <td>-0.840948</td>\n",
       "      <td>-5.0</td>\n",
       "    </tr>\n",
       "    <tr>\n",
       "      <th>2025-01-03</th>\n",
       "      <td>-1.702590</td>\n",
       "      <td>-2.292330</td>\n",
       "      <td>-1.296625</td>\n",
       "      <td>-5.0</td>\n",
       "    </tr>\n",
       "    <tr>\n",
       "      <th>2025-01-04</th>\n",
       "      <td>-1.116723</td>\n",
       "      <td>-0.583604</td>\n",
       "      <td>-0.701220</td>\n",
       "      <td>-5.0</td>\n",
       "    </tr>\n",
       "    <tr>\n",
       "      <th>2025-01-05</th>\n",
       "      <td>-0.160214</td>\n",
       "      <td>-0.646376</td>\n",
       "      <td>-0.718353</td>\n",
       "      <td>-5.0</td>\n",
       "    </tr>\n",
       "    <tr>\n",
       "      <th>2025-01-06</th>\n",
       "      <td>-0.766623</td>\n",
       "      <td>-1.543628</td>\n",
       "      <td>-0.243037</td>\n",
       "      <td>-5.0</td>\n",
       "    </tr>\n",
       "  </tbody>\n",
       "</table>\n",
       "</div>"
      ],
      "text/plain": [
       "                   A         B         C    D\n",
       "2025-01-01  0.000000  0.000000 -0.443624 -5.0\n",
       "2025-01-02 -1.455233 -1.708932 -0.840948 -5.0\n",
       "2025-01-03 -1.702590 -2.292330 -1.296625 -5.0\n",
       "2025-01-04 -1.116723 -0.583604 -0.701220 -5.0\n",
       "2025-01-05 -0.160214 -0.646376 -0.718353 -5.0\n",
       "2025-01-06 -0.766623 -1.543628 -0.243037 -5.0"
      ]
     },
     "execution_count": 29,
     "metadata": {},
     "output_type": "execute_result"
    }
   ],
   "source": [
    "df2 = df.copy()\n",
    "df2[df2 > 0] = -df2 # turn all values negative\n",
    "df2"
   ]
  },
  {
   "cell_type": "code",
   "execution_count": 30,
   "id": "0accab36",
   "metadata": {},
   "outputs": [
    {
     "data": {
      "application/vnd.microsoft.datawrangler.viewer.v0+json": {
       "columns": [
        {
         "name": "index",
         "rawType": "datetime64[ns]",
         "type": "datetime"
        },
        {
         "name": "A",
         "rawType": "float64",
         "type": "float"
        },
        {
         "name": "B",
         "rawType": "float64",
         "type": "float"
        },
        {
         "name": "C",
         "rawType": "float64",
         "type": "float"
        },
        {
         "name": "D",
         "rawType": "float64",
         "type": "float"
        },
        {
         "name": "E",
         "rawType": "float64",
         "type": "float"
        }
       ],
       "ref": "700fe910-eff8-4887-9146-0cd4cb9a7c90",
       "rows": [
        [
         "2025-01-01 00:00:00",
         "0.0",
         "0.0",
         "-0.44362396613680466",
         "5.0",
         "1.0"
        ],
        [
         "2025-01-02 00:00:00",
         "-1.4552331074761238",
         "-1.708931694713861",
         "0.8409478579662595",
         "5.0",
         "1.0"
        ],
        [
         "2025-01-03 00:00:00",
         "-1.7025903466758974",
         "2.292330089468291",
         "1.296625187893266",
         "5.0",
         null
        ],
        [
         "2025-01-04 00:00:00",
         "-1.1167228318823532",
         "0.5836044516058234",
         "-0.7012199642546756",
         "5.0",
         null
        ]
       ],
       "shape": {
        "columns": 5,
        "rows": 4
       }
      },
      "text/html": [
       "<div>\n",
       "<style scoped>\n",
       "    .dataframe tbody tr th:only-of-type {\n",
       "        vertical-align: middle;\n",
       "    }\n",
       "\n",
       "    .dataframe tbody tr th {\n",
       "        vertical-align: top;\n",
       "    }\n",
       "\n",
       "    .dataframe thead th {\n",
       "        text-align: right;\n",
       "    }\n",
       "</style>\n",
       "<table border=\"1\" class=\"dataframe\">\n",
       "  <thead>\n",
       "    <tr style=\"text-align: right;\">\n",
       "      <th></th>\n",
       "      <th>A</th>\n",
       "      <th>B</th>\n",
       "      <th>C</th>\n",
       "      <th>D</th>\n",
       "      <th>E</th>\n",
       "    </tr>\n",
       "  </thead>\n",
       "  <tbody>\n",
       "    <tr>\n",
       "      <th>2025-01-01</th>\n",
       "      <td>0.000000</td>\n",
       "      <td>0.000000</td>\n",
       "      <td>-0.443624</td>\n",
       "      <td>5.0</td>\n",
       "      <td>1.0</td>\n",
       "    </tr>\n",
       "    <tr>\n",
       "      <th>2025-01-02</th>\n",
       "      <td>-1.455233</td>\n",
       "      <td>-1.708932</td>\n",
       "      <td>0.840948</td>\n",
       "      <td>5.0</td>\n",
       "      <td>1.0</td>\n",
       "    </tr>\n",
       "    <tr>\n",
       "      <th>2025-01-03</th>\n",
       "      <td>-1.702590</td>\n",
       "      <td>2.292330</td>\n",
       "      <td>1.296625</td>\n",
       "      <td>5.0</td>\n",
       "      <td>NaN</td>\n",
       "    </tr>\n",
       "    <tr>\n",
       "      <th>2025-01-04</th>\n",
       "      <td>-1.116723</td>\n",
       "      <td>0.583604</td>\n",
       "      <td>-0.701220</td>\n",
       "      <td>5.0</td>\n",
       "      <td>NaN</td>\n",
       "    </tr>\n",
       "  </tbody>\n",
       "</table>\n",
       "</div>"
      ],
      "text/plain": [
       "                   A         B         C    D    E\n",
       "2025-01-01  0.000000  0.000000 -0.443624  5.0  1.0\n",
       "2025-01-02 -1.455233 -1.708932  0.840948  5.0  1.0\n",
       "2025-01-03 -1.702590  2.292330  1.296625  5.0  NaN\n",
       "2025-01-04 -1.116723  0.583604 -0.701220  5.0  NaN"
      ]
     },
     "execution_count": 30,
     "metadata": {},
     "output_type": "execute_result"
    }
   ],
   "source": [
    "df1 = df.reindex(index=dates[0:4], columns=list(df.columns) + [\"E\"])\n",
    "df1.loc[dates[0] : dates[1], \"E\"] = 1 # select the first 2 rows on column \"E\"\n",
    "df1"
   ]
  },
  {
   "cell_type": "code",
   "execution_count": 31,
   "id": "d77103e5",
   "metadata": {},
   "outputs": [
    {
     "data": {
      "application/vnd.microsoft.datawrangler.viewer.v0+json": {
       "columns": [
        {
         "name": "index",
         "rawType": "datetime64[ns]",
         "type": "datetime"
        },
        {
         "name": "A",
         "rawType": "float64",
         "type": "float"
        },
        {
         "name": "B",
         "rawType": "float64",
         "type": "float"
        },
        {
         "name": "C",
         "rawType": "float64",
         "type": "float"
        },
        {
         "name": "D",
         "rawType": "float64",
         "type": "float"
        },
        {
         "name": "E",
         "rawType": "float64",
         "type": "float"
        }
       ],
       "ref": "06d5ab22-dc76-43ba-b821-57f089892cb5",
       "rows": [
        [
         "2025-01-01 00:00:00",
         "0.0",
         "0.0",
         "-0.44362396613680466",
         "5.0",
         "1.0"
        ],
        [
         "2025-01-02 00:00:00",
         "-1.4552331074761238",
         "-1.708931694713861",
         "0.8409478579662595",
         "5.0",
         "1.0"
        ]
       ],
       "shape": {
        "columns": 5,
        "rows": 2
       }
      },
      "text/html": [
       "<div>\n",
       "<style scoped>\n",
       "    .dataframe tbody tr th:only-of-type {\n",
       "        vertical-align: middle;\n",
       "    }\n",
       "\n",
       "    .dataframe tbody tr th {\n",
       "        vertical-align: top;\n",
       "    }\n",
       "\n",
       "    .dataframe thead th {\n",
       "        text-align: right;\n",
       "    }\n",
       "</style>\n",
       "<table border=\"1\" class=\"dataframe\">\n",
       "  <thead>\n",
       "    <tr style=\"text-align: right;\">\n",
       "      <th></th>\n",
       "      <th>A</th>\n",
       "      <th>B</th>\n",
       "      <th>C</th>\n",
       "      <th>D</th>\n",
       "      <th>E</th>\n",
       "    </tr>\n",
       "  </thead>\n",
       "  <tbody>\n",
       "    <tr>\n",
       "      <th>2025-01-01</th>\n",
       "      <td>0.000000</td>\n",
       "      <td>0.000000</td>\n",
       "      <td>-0.443624</td>\n",
       "      <td>5.0</td>\n",
       "      <td>1.0</td>\n",
       "    </tr>\n",
       "    <tr>\n",
       "      <th>2025-01-02</th>\n",
       "      <td>-1.455233</td>\n",
       "      <td>-1.708932</td>\n",
       "      <td>0.840948</td>\n",
       "      <td>5.0</td>\n",
       "      <td>1.0</td>\n",
       "    </tr>\n",
       "  </tbody>\n",
       "</table>\n",
       "</div>"
      ],
      "text/plain": [
       "                   A         B         C    D    E\n",
       "2025-01-01  0.000000  0.000000 -0.443624  5.0  1.0\n",
       "2025-01-02 -1.455233 -1.708932  0.840948  5.0  1.0"
      ]
     },
     "execution_count": 31,
     "metadata": {},
     "output_type": "execute_result"
    }
   ],
   "source": [
    "df1.dropna(how=\"any\") # not inplace"
   ]
  },
  {
   "cell_type": "code",
   "execution_count": 32,
   "id": "32b39d66",
   "metadata": {},
   "outputs": [
    {
     "data": {
      "application/vnd.microsoft.datawrangler.viewer.v0+json": {
       "columns": [
        {
         "name": "index",
         "rawType": "datetime64[ns]",
         "type": "datetime"
        },
        {
         "name": "A",
         "rawType": "float64",
         "type": "float"
        },
        {
         "name": "B",
         "rawType": "float64",
         "type": "float"
        },
        {
         "name": "C",
         "rawType": "float64",
         "type": "float"
        },
        {
         "name": "D",
         "rawType": "float64",
         "type": "float"
        },
        {
         "name": "E",
         "rawType": "float64",
         "type": "float"
        }
       ],
       "ref": "fbc178be-70b3-453e-b610-1875d592c414",
       "rows": [
        [
         "2025-01-01 00:00:00",
         "0.0",
         "0.0",
         "-0.44362396613680466",
         "5.0",
         "1.0"
        ],
        [
         "2025-01-02 00:00:00",
         "-1.4552331074761238",
         "-1.708931694713861",
         "0.8409478579662595",
         "5.0",
         "1.0"
        ],
        [
         "2025-01-03 00:00:00",
         "-1.7025903466758974",
         "2.292330089468291",
         "1.296625187893266",
         "5.0",
         "5.0"
        ],
        [
         "2025-01-04 00:00:00",
         "-1.1167228318823532",
         "0.5836044516058234",
         "-0.7012199642546756",
         "5.0",
         "5.0"
        ]
       ],
       "shape": {
        "columns": 5,
        "rows": 4
       }
      },
      "text/html": [
       "<div>\n",
       "<style scoped>\n",
       "    .dataframe tbody tr th:only-of-type {\n",
       "        vertical-align: middle;\n",
       "    }\n",
       "\n",
       "    .dataframe tbody tr th {\n",
       "        vertical-align: top;\n",
       "    }\n",
       "\n",
       "    .dataframe thead th {\n",
       "        text-align: right;\n",
       "    }\n",
       "</style>\n",
       "<table border=\"1\" class=\"dataframe\">\n",
       "  <thead>\n",
       "    <tr style=\"text-align: right;\">\n",
       "      <th></th>\n",
       "      <th>A</th>\n",
       "      <th>B</th>\n",
       "      <th>C</th>\n",
       "      <th>D</th>\n",
       "      <th>E</th>\n",
       "    </tr>\n",
       "  </thead>\n",
       "  <tbody>\n",
       "    <tr>\n",
       "      <th>2025-01-01</th>\n",
       "      <td>0.000000</td>\n",
       "      <td>0.000000</td>\n",
       "      <td>-0.443624</td>\n",
       "      <td>5.0</td>\n",
       "      <td>1.0</td>\n",
       "    </tr>\n",
       "    <tr>\n",
       "      <th>2025-01-02</th>\n",
       "      <td>-1.455233</td>\n",
       "      <td>-1.708932</td>\n",
       "      <td>0.840948</td>\n",
       "      <td>5.0</td>\n",
       "      <td>1.0</td>\n",
       "    </tr>\n",
       "    <tr>\n",
       "      <th>2025-01-03</th>\n",
       "      <td>-1.702590</td>\n",
       "      <td>2.292330</td>\n",
       "      <td>1.296625</td>\n",
       "      <td>5.0</td>\n",
       "      <td>5.0</td>\n",
       "    </tr>\n",
       "    <tr>\n",
       "      <th>2025-01-04</th>\n",
       "      <td>-1.116723</td>\n",
       "      <td>0.583604</td>\n",
       "      <td>-0.701220</td>\n",
       "      <td>5.0</td>\n",
       "      <td>5.0</td>\n",
       "    </tr>\n",
       "  </tbody>\n",
       "</table>\n",
       "</div>"
      ],
      "text/plain": [
       "                   A         B         C    D    E\n",
       "2025-01-01  0.000000  0.000000 -0.443624  5.0  1.0\n",
       "2025-01-02 -1.455233 -1.708932  0.840948  5.0  1.0\n",
       "2025-01-03 -1.702590  2.292330  1.296625  5.0  5.0\n",
       "2025-01-04 -1.116723  0.583604 -0.701220  5.0  5.0"
      ]
     },
     "execution_count": 32,
     "metadata": {},
     "output_type": "execute_result"
    }
   ],
   "source": [
    "df1.fillna(value=5)"
   ]
  },
  {
   "cell_type": "code",
   "execution_count": 33,
   "id": "c8240646",
   "metadata": {},
   "outputs": [
    {
     "data": {
      "application/vnd.microsoft.datawrangler.viewer.v0+json": {
       "columns": [
        {
         "name": "index",
         "rawType": "datetime64[ns]",
         "type": "datetime"
        },
        {
         "name": "A",
         "rawType": "bool",
         "type": "boolean"
        },
        {
         "name": "B",
         "rawType": "bool",
         "type": "boolean"
        },
        {
         "name": "C",
         "rawType": "bool",
         "type": "boolean"
        },
        {
         "name": "D",
         "rawType": "bool",
         "type": "boolean"
        },
        {
         "name": "E",
         "rawType": "bool",
         "type": "boolean"
        }
       ],
       "ref": "f802ce0b-bbf9-42c3-b4fd-7fce32fe6def",
       "rows": [
        [
         "2025-01-01 00:00:00",
         "False",
         "False",
         "False",
         "False",
         "False"
        ],
        [
         "2025-01-02 00:00:00",
         "False",
         "False",
         "False",
         "False",
         "False"
        ],
        [
         "2025-01-03 00:00:00",
         "False",
         "False",
         "False",
         "False",
         "True"
        ],
        [
         "2025-01-04 00:00:00",
         "False",
         "False",
         "False",
         "False",
         "True"
        ]
       ],
       "shape": {
        "columns": 5,
        "rows": 4
       }
      },
      "text/html": [
       "<div>\n",
       "<style scoped>\n",
       "    .dataframe tbody tr th:only-of-type {\n",
       "        vertical-align: middle;\n",
       "    }\n",
       "\n",
       "    .dataframe tbody tr th {\n",
       "        vertical-align: top;\n",
       "    }\n",
       "\n",
       "    .dataframe thead th {\n",
       "        text-align: right;\n",
       "    }\n",
       "</style>\n",
       "<table border=\"1\" class=\"dataframe\">\n",
       "  <thead>\n",
       "    <tr style=\"text-align: right;\">\n",
       "      <th></th>\n",
       "      <th>A</th>\n",
       "      <th>B</th>\n",
       "      <th>C</th>\n",
       "      <th>D</th>\n",
       "      <th>E</th>\n",
       "    </tr>\n",
       "  </thead>\n",
       "  <tbody>\n",
       "    <tr>\n",
       "      <th>2025-01-01</th>\n",
       "      <td>False</td>\n",
       "      <td>False</td>\n",
       "      <td>False</td>\n",
       "      <td>False</td>\n",
       "      <td>False</td>\n",
       "    </tr>\n",
       "    <tr>\n",
       "      <th>2025-01-02</th>\n",
       "      <td>False</td>\n",
       "      <td>False</td>\n",
       "      <td>False</td>\n",
       "      <td>False</td>\n",
       "      <td>False</td>\n",
       "    </tr>\n",
       "    <tr>\n",
       "      <th>2025-01-03</th>\n",
       "      <td>False</td>\n",
       "      <td>False</td>\n",
       "      <td>False</td>\n",
       "      <td>False</td>\n",
       "      <td>True</td>\n",
       "    </tr>\n",
       "    <tr>\n",
       "      <th>2025-01-04</th>\n",
       "      <td>False</td>\n",
       "      <td>False</td>\n",
       "      <td>False</td>\n",
       "      <td>False</td>\n",
       "      <td>True</td>\n",
       "    </tr>\n",
       "  </tbody>\n",
       "</table>\n",
       "</div>"
      ],
      "text/plain": [
       "                A      B      C      D      E\n",
       "2025-01-01  False  False  False  False  False\n",
       "2025-01-02  False  False  False  False  False\n",
       "2025-01-03  False  False  False  False   True\n",
       "2025-01-04  False  False  False  False   True"
      ]
     },
     "execution_count": 33,
     "metadata": {},
     "output_type": "execute_result"
    }
   ],
   "source": [
    "pd.isna(df1) # returns the same shape with boolean values"
   ]
  },
  {
   "cell_type": "markdown",
   "id": "e299f030",
   "metadata": {},
   "source": [
    "# Operations"
   ]
  },
  {
   "cell_type": "code",
   "execution_count": 34,
   "id": "a8d9b2d3",
   "metadata": {},
   "outputs": [
    {
     "data": {
      "application/vnd.microsoft.datawrangler.viewer.v0+json": {
       "columns": [
        {
         "name": "index",
         "rawType": "object",
         "type": "string"
        },
        {
         "name": "0",
         "rawType": "float64",
         "type": "float"
        }
       ],
       "ref": "35d36396-09df-4443-9eb8-1b6e62dd6e36",
       "rows": [
        [
         "A",
         "-0.5579515948803261"
        ],
        [
         "B",
         "-0.17050015855866266"
        ],
        [
         "C",
         "0.08623553649572917"
        ],
        [
         "D",
         "5.0"
        ]
       ],
       "shape": {
        "columns": 1,
        "rows": 4
       }
      },
      "text/plain": [
       "A   -0.557952\n",
       "B   -0.170500\n",
       "C    0.086236\n",
       "D    5.000000\n",
       "dtype: float64"
      ]
     },
     "execution_count": 34,
     "metadata": {},
     "output_type": "execute_result"
    }
   ],
   "source": [
    "df.mean()"
   ]
  },
  {
   "cell_type": "code",
   "execution_count": 35,
   "id": "22cc910a",
   "metadata": {},
   "outputs": [
    {
     "data": {
      "application/vnd.microsoft.datawrangler.viewer.v0+json": {
       "columns": [
        {
         "name": "index",
         "rawType": "datetime64[ns]",
         "type": "datetime"
        },
        {
         "name": "0",
         "rawType": "float64",
         "type": "float"
        }
       ],
       "ref": "8004fd83-cb0d-4f47-872b-cbc6ce119825",
       "rows": [
        [
         "2025-01-01 00:00:00",
         "1.1390940084657988"
        ],
        [
         "2025-01-02 00:00:00",
         "0.6691957639440687"
        ],
        [
         "2025-01-03 00:00:00",
         "1.721591232671415"
        ],
        [
         "2025-01-04 00:00:00",
         "0.9414154138671986"
        ],
        [
         "2025-01-05 00:00:00",
         "0.9488713612779622"
        ],
        [
         "2025-01-06 00:00:00",
         "1.1165078943586673"
        ]
       ],
       "shape": {
        "columns": 1,
        "rows": 6
       }
      },
      "text/plain": [
       "2025-01-01    1.139094\n",
       "2025-01-02    0.669196\n",
       "2025-01-03    1.721591\n",
       "2025-01-04    0.941415\n",
       "2025-01-05    0.948871\n",
       "2025-01-06    1.116508\n",
       "Freq: D, dtype: float64"
      ]
     },
     "execution_count": 35,
     "metadata": {},
     "output_type": "execute_result"
    }
   ],
   "source": [
    "df.mean(axis=1) # calculate the mean for each column, rarely used, unless change to pivot table"
   ]
  },
  {
   "cell_type": "code",
   "execution_count": 36,
   "id": "2f9c6bcb",
   "metadata": {},
   "outputs": [
    {
     "data": {
      "application/vnd.microsoft.datawrangler.viewer.v0+json": {
       "columns": [
        {
         "name": "index",
         "rawType": "datetime64[ns]",
         "type": "datetime"
        },
        {
         "name": "0",
         "rawType": "float64",
         "type": "float"
        }
       ],
       "ref": "71da460f-11a1-41be-85f8-47a351b886f8",
       "rows": [
        [
         "2025-01-01 00:00:00",
         null
        ],
        [
         "2025-01-02 00:00:00",
         null
        ],
        [
         "2025-01-03 00:00:00",
         "1.0"
        ],
        [
         "2025-01-04 00:00:00",
         "3.0"
        ],
        [
         "2025-01-05 00:00:00",
         "5.0"
        ],
        [
         "2025-01-06 00:00:00",
         null
        ]
       ],
       "shape": {
        "columns": 1,
        "rows": 6
       }
      },
      "text/plain": [
       "2025-01-01    NaN\n",
       "2025-01-02    NaN\n",
       "2025-01-03    1.0\n",
       "2025-01-04    3.0\n",
       "2025-01-05    5.0\n",
       "2025-01-06    NaN\n",
       "Freq: D, dtype: float64"
      ]
     },
     "execution_count": 36,
     "metadata": {},
     "output_type": "execute_result"
    }
   ],
   "source": [
    "s = pd.Series([1, 3, 5, np.nan, 6, 8], index=dates).shift(2)\n",
    "s"
   ]
  },
  {
   "cell_type": "code",
   "execution_count": 37,
   "id": "1d5de855",
   "metadata": {},
   "outputs": [
    {
     "data": {
      "application/vnd.microsoft.datawrangler.viewer.v0+json": {
       "columns": [
        {
         "name": "index",
         "rawType": "datetime64[ns]",
         "type": "datetime"
        },
        {
         "name": "A",
         "rawType": "float64",
         "type": "float"
        },
        {
         "name": "B",
         "rawType": "float64",
         "type": "float"
        },
        {
         "name": "C",
         "rawType": "float64",
         "type": "float"
        },
        {
         "name": "D",
         "rawType": "float64",
         "type": "float"
        }
       ],
       "ref": "5779b6f7-9526-4f3f-9b06-eaec44d7b6cb",
       "rows": [
        [
         "2025-01-01 00:00:00",
         null,
         null,
         null,
         null
        ],
        [
         "2025-01-02 00:00:00",
         null,
         null,
         null,
         null
        ],
        [
         "2025-01-03 00:00:00",
         "-2.7025903466758976",
         "1.2923300894682912",
         "0.296625187893266",
         "4.0"
        ],
        [
         "2025-01-04 00:00:00",
         "-4.116722831882353",
         "-2.416395548394177",
         "-3.7012199642546757",
         "2.0"
        ],
        [
         "2025-01-05 00:00:00",
         "-4.839785914838271",
         "-5.646375505078133",
         "-5.718353134971747",
         "0.0"
        ],
        [
         "2025-01-06 00:00:00",
         null,
         null,
         null,
         null
        ]
       ],
       "shape": {
        "columns": 4,
        "rows": 6
       }
      },
      "text/html": [
       "<div>\n",
       "<style scoped>\n",
       "    .dataframe tbody tr th:only-of-type {\n",
       "        vertical-align: middle;\n",
       "    }\n",
       "\n",
       "    .dataframe tbody tr th {\n",
       "        vertical-align: top;\n",
       "    }\n",
       "\n",
       "    .dataframe thead th {\n",
       "        text-align: right;\n",
       "    }\n",
       "</style>\n",
       "<table border=\"1\" class=\"dataframe\">\n",
       "  <thead>\n",
       "    <tr style=\"text-align: right;\">\n",
       "      <th></th>\n",
       "      <th>A</th>\n",
       "      <th>B</th>\n",
       "      <th>C</th>\n",
       "      <th>D</th>\n",
       "    </tr>\n",
       "  </thead>\n",
       "  <tbody>\n",
       "    <tr>\n",
       "      <th>2025-01-01</th>\n",
       "      <td>NaN</td>\n",
       "      <td>NaN</td>\n",
       "      <td>NaN</td>\n",
       "      <td>NaN</td>\n",
       "    </tr>\n",
       "    <tr>\n",
       "      <th>2025-01-02</th>\n",
       "      <td>NaN</td>\n",
       "      <td>NaN</td>\n",
       "      <td>NaN</td>\n",
       "      <td>NaN</td>\n",
       "    </tr>\n",
       "    <tr>\n",
       "      <th>2025-01-03</th>\n",
       "      <td>-2.702590</td>\n",
       "      <td>1.292330</td>\n",
       "      <td>0.296625</td>\n",
       "      <td>4.0</td>\n",
       "    </tr>\n",
       "    <tr>\n",
       "      <th>2025-01-04</th>\n",
       "      <td>-4.116723</td>\n",
       "      <td>-2.416396</td>\n",
       "      <td>-3.701220</td>\n",
       "      <td>2.0</td>\n",
       "    </tr>\n",
       "    <tr>\n",
       "      <th>2025-01-05</th>\n",
       "      <td>-4.839786</td>\n",
       "      <td>-5.646376</td>\n",
       "      <td>-5.718353</td>\n",
       "      <td>0.0</td>\n",
       "    </tr>\n",
       "    <tr>\n",
       "      <th>2025-01-06</th>\n",
       "      <td>NaN</td>\n",
       "      <td>NaN</td>\n",
       "      <td>NaN</td>\n",
       "      <td>NaN</td>\n",
       "    </tr>\n",
       "  </tbody>\n",
       "</table>\n",
       "</div>"
      ],
      "text/plain": [
       "                   A         B         C    D\n",
       "2025-01-01       NaN       NaN       NaN  NaN\n",
       "2025-01-02       NaN       NaN       NaN  NaN\n",
       "2025-01-03 -2.702590  1.292330  0.296625  4.0\n",
       "2025-01-04 -4.116723 -2.416396 -3.701220  2.0\n",
       "2025-01-05 -4.839786 -5.646376 -5.718353  0.0\n",
       "2025-01-06       NaN       NaN       NaN  NaN"
      ]
     },
     "execution_count": 37,
     "metadata": {},
     "output_type": "execute_result"
    }
   ],
   "source": [
    "df.sub(s, axis=\"index\")"
   ]
  },
  {
   "cell_type": "code",
   "execution_count": 38,
   "id": "3b79c86b",
   "metadata": {},
   "outputs": [
    {
     "data": {
      "application/vnd.microsoft.datawrangler.viewer.v0+json": {
       "columns": [
        {
         "name": "index",
         "rawType": "datetime64[ns]",
         "type": "datetime"
        },
        {
         "name": "A",
         "rawType": "float64",
         "type": "float"
        },
        {
         "name": "B",
         "rawType": "float64",
         "type": "float"
        },
        {
         "name": "C",
         "rawType": "float64",
         "type": "float"
        },
        {
         "name": "D",
         "rawType": "float64",
         "type": "float"
        }
       ],
       "ref": "bae03444-3f27-4d30-ab4a-fffeed13fe1f",
       "rows": [
        [
         "2025-01-01 00:00:00",
         "0.0",
         "0.0",
         "-0.44362396613680466",
         "5.0"
        ],
        [
         "2025-01-02 00:00:00",
         "-1.4552331074761238",
         "-1.708931694713861",
         "0.8409478579662595",
         "5.0"
        ],
        [
         "2025-01-03 00:00:00",
         "-1.7025903466758974",
         "2.292330089468291",
         "1.296625187893266",
         "5.0"
        ],
        [
         "2025-01-04 00:00:00",
         "-1.1167228318823532",
         "0.5836044516058234",
         "-0.7012199642546756",
         "5.0"
        ],
        [
         "2025-01-05 00:00:00",
         "0.16021408516172897",
         "-0.6463755050781327",
         "-0.7183531349717471",
         "5.0"
        ],
        [
         "2025-01-06 00:00:00",
         "0.7666226315906892",
         "-1.543628292634097",
         "0.24303723847807696",
         "5.0"
        ]
       ],
       "shape": {
        "columns": 4,
        "rows": 6
       }
      },
      "text/html": [
       "<div>\n",
       "<style scoped>\n",
       "    .dataframe tbody tr th:only-of-type {\n",
       "        vertical-align: middle;\n",
       "    }\n",
       "\n",
       "    .dataframe tbody tr th {\n",
       "        vertical-align: top;\n",
       "    }\n",
       "\n",
       "    .dataframe thead th {\n",
       "        text-align: right;\n",
       "    }\n",
       "</style>\n",
       "<table border=\"1\" class=\"dataframe\">\n",
       "  <thead>\n",
       "    <tr style=\"text-align: right;\">\n",
       "      <th></th>\n",
       "      <th>A</th>\n",
       "      <th>B</th>\n",
       "      <th>C</th>\n",
       "      <th>D</th>\n",
       "    </tr>\n",
       "  </thead>\n",
       "  <tbody>\n",
       "    <tr>\n",
       "      <th>2025-01-01</th>\n",
       "      <td>0.000000</td>\n",
       "      <td>0.000000</td>\n",
       "      <td>-0.443624</td>\n",
       "      <td>5.0</td>\n",
       "    </tr>\n",
       "    <tr>\n",
       "      <th>2025-01-02</th>\n",
       "      <td>-1.455233</td>\n",
       "      <td>-1.708932</td>\n",
       "      <td>0.840948</td>\n",
       "      <td>5.0</td>\n",
       "    </tr>\n",
       "    <tr>\n",
       "      <th>2025-01-03</th>\n",
       "      <td>-1.702590</td>\n",
       "      <td>2.292330</td>\n",
       "      <td>1.296625</td>\n",
       "      <td>5.0</td>\n",
       "    </tr>\n",
       "    <tr>\n",
       "      <th>2025-01-04</th>\n",
       "      <td>-1.116723</td>\n",
       "      <td>0.583604</td>\n",
       "      <td>-0.701220</td>\n",
       "      <td>5.0</td>\n",
       "    </tr>\n",
       "    <tr>\n",
       "      <th>2025-01-05</th>\n",
       "      <td>0.160214</td>\n",
       "      <td>-0.646376</td>\n",
       "      <td>-0.718353</td>\n",
       "      <td>5.0</td>\n",
       "    </tr>\n",
       "    <tr>\n",
       "      <th>2025-01-06</th>\n",
       "      <td>0.766623</td>\n",
       "      <td>-1.543628</td>\n",
       "      <td>0.243037</td>\n",
       "      <td>5.0</td>\n",
       "    </tr>\n",
       "  </tbody>\n",
       "</table>\n",
       "</div>"
      ],
      "text/plain": [
       "                   A         B         C    D\n",
       "2025-01-01  0.000000  0.000000 -0.443624  5.0\n",
       "2025-01-02 -1.455233 -1.708932  0.840948  5.0\n",
       "2025-01-03 -1.702590  2.292330  1.296625  5.0\n",
       "2025-01-04 -1.116723  0.583604 -0.701220  5.0\n",
       "2025-01-05  0.160214 -0.646376 -0.718353  5.0\n",
       "2025-01-06  0.766623 -1.543628  0.243037  5.0"
      ]
     },
     "execution_count": 38,
     "metadata": {},
     "output_type": "execute_result"
    }
   ],
   "source": [
    "df"
   ]
  },
  {
   "cell_type": "markdown",
   "id": "18c5b153",
   "metadata": {},
   "source": [
    "# agg vs transform vs apply\n",
    "- agg - returns a **reduced** version of the data - one result per group.\n",
    "- transform - returns a **full-sized** version of the data, with the same shape and index as the original\n",
    "- apply - most flexible and can return a reduced, full-sized, or entirely different version"
   ]
  },
  {
   "cell_type": "code",
   "execution_count": 39,
   "id": "d4342a35",
   "metadata": {},
   "outputs": [
    {
     "data": {
      "application/vnd.microsoft.datawrangler.viewer.v0+json": {
       "columns": [
        {
         "name": "index",
         "rawType": "int64",
         "type": "integer"
        },
        {
         "name": "Team",
         "rawType": "object",
         "type": "string"
        },
        {
         "name": "Score",
         "rawType": "int64",
         "type": "integer"
        },
        {
         "name": "Assists",
         "rawType": "int64",
         "type": "integer"
        }
       ],
       "ref": "8923b5eb-618e-4cc9-81d2-421dd8d4eeeb",
       "rows": [
        [
         "0",
         "A",
         "10",
         "2"
        ],
        [
         "1",
         "A",
         "15",
         "5"
        ],
        [
         "2",
         "B",
         "20",
         "8"
        ],
        [
         "3",
         "B",
         "22",
         "6"
        ],
        [
         "4",
         "B",
         "18",
         "7"
        ],
        [
         "5",
         "C",
         "5",
         "1"
        ]
       ],
       "shape": {
        "columns": 3,
        "rows": 6
       }
      },
      "text/html": [
       "<div>\n",
       "<style scoped>\n",
       "    .dataframe tbody tr th:only-of-type {\n",
       "        vertical-align: middle;\n",
       "    }\n",
       "\n",
       "    .dataframe tbody tr th {\n",
       "        vertical-align: top;\n",
       "    }\n",
       "\n",
       "    .dataframe thead th {\n",
       "        text-align: right;\n",
       "    }\n",
       "</style>\n",
       "<table border=\"1\" class=\"dataframe\">\n",
       "  <thead>\n",
       "    <tr style=\"text-align: right;\">\n",
       "      <th></th>\n",
       "      <th>Team</th>\n",
       "      <th>Score</th>\n",
       "      <th>Assists</th>\n",
       "    </tr>\n",
       "  </thead>\n",
       "  <tbody>\n",
       "    <tr>\n",
       "      <th>0</th>\n",
       "      <td>A</td>\n",
       "      <td>10</td>\n",
       "      <td>2</td>\n",
       "    </tr>\n",
       "    <tr>\n",
       "      <th>1</th>\n",
       "      <td>A</td>\n",
       "      <td>15</td>\n",
       "      <td>5</td>\n",
       "    </tr>\n",
       "    <tr>\n",
       "      <th>2</th>\n",
       "      <td>B</td>\n",
       "      <td>20</td>\n",
       "      <td>8</td>\n",
       "    </tr>\n",
       "    <tr>\n",
       "      <th>3</th>\n",
       "      <td>B</td>\n",
       "      <td>22</td>\n",
       "      <td>6</td>\n",
       "    </tr>\n",
       "    <tr>\n",
       "      <th>4</th>\n",
       "      <td>B</td>\n",
       "      <td>18</td>\n",
       "      <td>7</td>\n",
       "    </tr>\n",
       "    <tr>\n",
       "      <th>5</th>\n",
       "      <td>C</td>\n",
       "      <td>5</td>\n",
       "      <td>1</td>\n",
       "    </tr>\n",
       "  </tbody>\n",
       "</table>\n",
       "</div>"
      ],
      "text/plain": [
       "  Team  Score  Assists\n",
       "0    A     10        2\n",
       "1    A     15        5\n",
       "2    B     20        8\n",
       "3    B     22        6\n",
       "4    B     18        7\n",
       "5    C      5        1"
      ]
     },
     "execution_count": 39,
     "metadata": {},
     "output_type": "execute_result"
    }
   ],
   "source": [
    "df_x = pd.DataFrame({\n",
    "    \"Team\": [\"A\", \"A\", \"B\", \"B\", \"B\", \"C\"],\n",
    "    \"Score\": [10, 15, 20, 22, 18, 5],\n",
    "    \"Assists\": [2, 5, 8, 6, 7, 1]\n",
    "})\n",
    "df_x"
   ]
  },
  {
   "cell_type": "markdown",
   "id": "c62fe28e",
   "metadata": {},
   "source": [
    "#### agg() (or aggregation())\n",
    "- The agg() method is used to perform one or more aggregation functions on grouped data. It reduces the data by computing a summary statistic for each group.\n",
    "- What it does: summarizes each group into a single value (or one value per function).\n",
    "- Output Shape: A new DataFrame or Series with an index based on the group names. The size is equal to the number of groups.\n",
    "- Best for: Calculating summary statistics like sum(), mean(), count(), min(), max(), etc., for each group."
   ]
  },
  {
   "cell_type": "code",
   "execution_count": 40,
   "id": "621ec261",
   "metadata": {},
   "outputs": [
    {
     "data": {
      "application/vnd.microsoft.datawrangler.viewer.v0+json": {
       "columns": [
        {
         "name": "Team",
         "rawType": "object",
         "type": "string"
        },
        {
         "name": "Score",
         "rawType": "int64",
         "type": "integer"
        }
       ],
       "ref": "528eeaac-117b-4b0b-859d-b8d964972209",
       "rows": [
        [
         "A",
         "25"
        ],
        [
         "B",
         "60"
        ],
        [
         "C",
         "5"
        ]
       ],
       "shape": {
        "columns": 1,
        "rows": 3
       }
      },
      "text/plain": [
       "Team\n",
       "A    25\n",
       "B    60\n",
       "C     5\n",
       "Name: Score, dtype: int64"
      ]
     },
     "execution_count": 40,
     "metadata": {},
     "output_type": "execute_result"
    }
   ],
   "source": [
    "# total score for each team\n",
    "team_sum = df_x.groupby(\"Team\")[\"Score\"].agg(\"sum\")\n",
    "team_sum"
   ]
  },
  {
   "cell_type": "markdown",
   "id": "0ab9e1e0",
   "metadata": {},
   "source": [
    "#### transform()\n",
    "- The transform() method performs a group-specific computation and then broadcasts the result back to each row of the original DataFrame. It transforms each value in the context of its group.\n",
    "- What it does: Returns a Series or DataFrame with the same index and shape as the original. Each row's value is the result of the group-wise calculation.\n",
    "- Output Shape: Exactly the same shape and index as the object it was called on.\n",
    "- Best For: Feature engineering, such as calculating a group-wise Z score, or filling missing values with the group's mean"
   ]
  },
  {
   "cell_type": "code",
   "execution_count": 41,
   "id": "8ef6dced",
   "metadata": {},
   "outputs": [
    {
     "data": {
      "application/vnd.microsoft.datawrangler.viewer.v0+json": {
       "columns": [
        {
         "name": "index",
         "rawType": "int64",
         "type": "integer"
        },
        {
         "name": "Team",
         "rawType": "object",
         "type": "string"
        },
        {
         "name": "Score",
         "rawType": "int64",
         "type": "integer"
        },
        {
         "name": "Assists",
         "rawType": "int64",
         "type": "integer"
        },
        {
         "name": "Team_Avg_Score",
         "rawType": "float64",
         "type": "float"
        }
       ],
       "ref": "3dc21da7-5caa-4ab2-828c-8ffe4fc6f111",
       "rows": [
        [
         "0",
         "A",
         "10",
         "2",
         "12.5"
        ],
        [
         "1",
         "A",
         "15",
         "5",
         "12.5"
        ],
        [
         "2",
         "B",
         "20",
         "8",
         "20.0"
        ],
        [
         "3",
         "B",
         "22",
         "6",
         "20.0"
        ],
        [
         "4",
         "B",
         "18",
         "7",
         "20.0"
        ],
        [
         "5",
         "C",
         "5",
         "1",
         "5.0"
        ]
       ],
       "shape": {
        "columns": 4,
        "rows": 6
       }
      },
      "text/html": [
       "<div>\n",
       "<style scoped>\n",
       "    .dataframe tbody tr th:only-of-type {\n",
       "        vertical-align: middle;\n",
       "    }\n",
       "\n",
       "    .dataframe tbody tr th {\n",
       "        vertical-align: top;\n",
       "    }\n",
       "\n",
       "    .dataframe thead th {\n",
       "        text-align: right;\n",
       "    }\n",
       "</style>\n",
       "<table border=\"1\" class=\"dataframe\">\n",
       "  <thead>\n",
       "    <tr style=\"text-align: right;\">\n",
       "      <th></th>\n",
       "      <th>Team</th>\n",
       "      <th>Score</th>\n",
       "      <th>Assists</th>\n",
       "      <th>Team_Avg_Score</th>\n",
       "    </tr>\n",
       "  </thead>\n",
       "  <tbody>\n",
       "    <tr>\n",
       "      <th>0</th>\n",
       "      <td>A</td>\n",
       "      <td>10</td>\n",
       "      <td>2</td>\n",
       "      <td>12.5</td>\n",
       "    </tr>\n",
       "    <tr>\n",
       "      <th>1</th>\n",
       "      <td>A</td>\n",
       "      <td>15</td>\n",
       "      <td>5</td>\n",
       "      <td>12.5</td>\n",
       "    </tr>\n",
       "    <tr>\n",
       "      <th>2</th>\n",
       "      <td>B</td>\n",
       "      <td>20</td>\n",
       "      <td>8</td>\n",
       "      <td>20.0</td>\n",
       "    </tr>\n",
       "    <tr>\n",
       "      <th>3</th>\n",
       "      <td>B</td>\n",
       "      <td>22</td>\n",
       "      <td>6</td>\n",
       "      <td>20.0</td>\n",
       "    </tr>\n",
       "    <tr>\n",
       "      <th>4</th>\n",
       "      <td>B</td>\n",
       "      <td>18</td>\n",
       "      <td>7</td>\n",
       "      <td>20.0</td>\n",
       "    </tr>\n",
       "    <tr>\n",
       "      <th>5</th>\n",
       "      <td>C</td>\n",
       "      <td>5</td>\n",
       "      <td>1</td>\n",
       "      <td>5.0</td>\n",
       "    </tr>\n",
       "  </tbody>\n",
       "</table>\n",
       "</div>"
      ],
      "text/plain": [
       "  Team  Score  Assists  Team_Avg_Score\n",
       "0    A     10        2            12.5\n",
       "1    A     15        5            12.5\n",
       "2    B     20        8            20.0\n",
       "3    B     22        6            20.0\n",
       "4    B     18        7            20.0\n",
       "5    C      5        1             5.0"
      ]
     },
     "execution_count": 41,
     "metadata": {},
     "output_type": "execute_result"
    }
   ],
   "source": [
    "# Get the mean score for each team and display it new column for that corresponding teacm\n",
    "df_x[\"Team_Avg_Score\"] = df_x.groupby(\"Team\")[\"Score\"].transform(\"mean\") \n",
    "df_x\n",
    "# Notice how transform() returned a Series with 6 items, perfectly aligning with the original DataFrame's index.\n",
    "# This makes it ideal for creating new columns based on group properties."
   ]
  },
  {
   "cell_type": "markdown",
   "id": "219c1eba",
   "metadata": {},
   "source": [
    "#### apply()\n",
    "- The apply() method is the most flexible and general-purpose of the three. It applies a function to each group as a whole (as a DataFrame or Series) and then peices the results back together.\n",
    "- What it does: can behave like agg() or transform(), or perform much more complex operations that don't fit into the other two categories.\n",
    "- Output Shape: Flexible. The shape of the output depends entirely on what the applied function returns. It can be a scalar, a Series, or a DataFrame.\n",
    "- Best for: Complex, custom functions that need to operate on the entire group's data at once. It's powerful but offen slower than agg() or transform()."
   ]
  },
  {
   "cell_type": "code",
   "execution_count": 42,
   "id": "8ec3fc89",
   "metadata": {},
   "outputs": [
    {
     "data": {
      "application/vnd.microsoft.datawrangler.viewer.v0+json": {
       "columns": [
        {
         "name": "Team",
         "rawType": "object",
         "type": "string"
        },
        {
         "name": "Score",
         "rawType": "int64",
         "type": "integer"
        }
       ],
       "ref": "4db7e9d6-0a6f-4ea7-918d-7896fa940d8f",
       "rows": [
        [
         "A",
         "5"
        ],
        [
         "B",
         "4"
        ],
        [
         "C",
         "0"
        ]
       ],
       "shape": {
        "columns": 1,
        "rows": 3
       }
      },
      "text/plain": [
       "Team\n",
       "A    5\n",
       "B    4\n",
       "C    0\n",
       "Name: Score, dtype: int64"
      ]
     },
     "execution_count": 42,
     "metadata": {},
     "output_type": "execute_result"
    }
   ],
   "source": [
    "# Find the range (max- min) of scores for each team.\n",
    "score_range = df_x.groupby(\"Team\")[\"Score\"].apply(lambda x: x.max() - x.min())\n",
    "score_range"
   ]
  },
  {
   "cell_type": "code",
   "execution_count": 43,
   "id": "703498a6",
   "metadata": {},
   "outputs": [
    {
     "name": "stderr",
     "output_type": "stream",
     "text": [
      "C:\\Users\\thotc\\AppData\\Local\\Temp\\ipykernel_44908\\1905186215.py:2: DeprecationWarning: DataFrameGroupBy.apply operated on the grouping columns. This behavior is deprecated, and in a future version of pandas the grouping columns will be excluded from the operation. Either pass `include_groups=False` to exclude the groupings or explicitly select the grouping columns after groupby to silence this warning.\n",
      "  df_x[\"Team_Rank\"] = df_x.groupby(\"Team\").apply(\n"
     ]
    },
    {
     "data": {
      "application/vnd.microsoft.datawrangler.viewer.v0+json": {
       "columns": [
        {
         "name": "index",
         "rawType": "int64",
         "type": "integer"
        },
        {
         "name": "Team",
         "rawType": "object",
         "type": "string"
        },
        {
         "name": "Score",
         "rawType": "int64",
         "type": "integer"
        },
        {
         "name": "Assists",
         "rawType": "int64",
         "type": "integer"
        },
        {
         "name": "Team_Avg_Score",
         "rawType": "float64",
         "type": "float"
        },
        {
         "name": "Team_Rank",
         "rawType": "float64",
         "type": "float"
        }
       ],
       "ref": "94c28051-aae5-434f-87c9-88b9783cbf19",
       "rows": [
        [
         "0",
         "A",
         "10",
         "2",
         "12.5",
         "2.0"
        ],
        [
         "1",
         "A",
         "15",
         "5",
         "12.5",
         "1.0"
        ],
        [
         "2",
         "B",
         "20",
         "8",
         "20.0",
         "2.0"
        ],
        [
         "3",
         "B",
         "22",
         "6",
         "20.0",
         "1.0"
        ],
        [
         "4",
         "B",
         "18",
         "7",
         "20.0",
         "3.0"
        ],
        [
         "5",
         "C",
         "5",
         "1",
         "5.0",
         "1.0"
        ]
       ],
       "shape": {
        "columns": 5,
        "rows": 6
       }
      },
      "text/html": [
       "<div>\n",
       "<style scoped>\n",
       "    .dataframe tbody tr th:only-of-type {\n",
       "        vertical-align: middle;\n",
       "    }\n",
       "\n",
       "    .dataframe tbody tr th {\n",
       "        vertical-align: top;\n",
       "    }\n",
       "\n",
       "    .dataframe thead th {\n",
       "        text-align: right;\n",
       "    }\n",
       "</style>\n",
       "<table border=\"1\" class=\"dataframe\">\n",
       "  <thead>\n",
       "    <tr style=\"text-align: right;\">\n",
       "      <th></th>\n",
       "      <th>Team</th>\n",
       "      <th>Score</th>\n",
       "      <th>Assists</th>\n",
       "      <th>Team_Avg_Score</th>\n",
       "      <th>Team_Rank</th>\n",
       "    </tr>\n",
       "  </thead>\n",
       "  <tbody>\n",
       "    <tr>\n",
       "      <th>0</th>\n",
       "      <td>A</td>\n",
       "      <td>10</td>\n",
       "      <td>2</td>\n",
       "      <td>12.5</td>\n",
       "      <td>2.0</td>\n",
       "    </tr>\n",
       "    <tr>\n",
       "      <th>1</th>\n",
       "      <td>A</td>\n",
       "      <td>15</td>\n",
       "      <td>5</td>\n",
       "      <td>12.5</td>\n",
       "      <td>1.0</td>\n",
       "    </tr>\n",
       "    <tr>\n",
       "      <th>2</th>\n",
       "      <td>B</td>\n",
       "      <td>20</td>\n",
       "      <td>8</td>\n",
       "      <td>20.0</td>\n",
       "      <td>2.0</td>\n",
       "    </tr>\n",
       "    <tr>\n",
       "      <th>3</th>\n",
       "      <td>B</td>\n",
       "      <td>22</td>\n",
       "      <td>6</td>\n",
       "      <td>20.0</td>\n",
       "      <td>1.0</td>\n",
       "    </tr>\n",
       "    <tr>\n",
       "      <th>4</th>\n",
       "      <td>B</td>\n",
       "      <td>18</td>\n",
       "      <td>7</td>\n",
       "      <td>20.0</td>\n",
       "      <td>3.0</td>\n",
       "    </tr>\n",
       "    <tr>\n",
       "      <th>5</th>\n",
       "      <td>C</td>\n",
       "      <td>5</td>\n",
       "      <td>1</td>\n",
       "      <td>5.0</td>\n",
       "      <td>1.0</td>\n",
       "    </tr>\n",
       "  </tbody>\n",
       "</table>\n",
       "</div>"
      ],
      "text/plain": [
       "  Team  Score  Assists  Team_Avg_Score  Team_Rank\n",
       "0    A     10        2            12.5        2.0\n",
       "1    A     15        5            12.5        1.0\n",
       "2    B     20        8            20.0        2.0\n",
       "3    B     22        6            20.0        1.0\n",
       "4    B     18        7            20.0        3.0\n",
       "5    C      5        1             5.0        1.0"
      ]
     },
     "execution_count": 43,
     "metadata": {},
     "output_type": "execute_result"
    }
   ],
   "source": [
    "# Create a new column that ranks players by score, but the ranking is within their team. (difficult with agg() or transform())\n",
    "df_x[\"Team_Rank\"] = df_x.groupby(\"Team\").apply(\n",
    "    lambda x: x[\"Score\"].rank(ascending=False)\n",
    ").reset_index(level=0, drop=True) # Dropping multi-index for clean assignment\n",
    "df_x"
   ]
  },
  {
   "cell_type": "code",
   "execution_count": 44,
   "id": "ab048e1e",
   "metadata": {},
   "outputs": [
    {
     "data": {
      "application/vnd.microsoft.datawrangler.viewer.v0+json": {
       "columns": [
        {
         "name": "index",
         "rawType": "object",
         "type": "string"
        },
        {
         "name": "0",
         "rawType": "float64",
         "type": "float"
        }
       ],
       "ref": "adfac1de-8ab4-4fcc-9d68-071dd4533c85",
       "rows": [
        [
         "A",
         "-3.124528931329826"
        ],
        [
         "B",
         "-0.9548008879285108"
        ],
        [
         "C",
         "0.4829190043760833"
        ],
        [
         "D",
         "28.0"
        ]
       ],
       "shape": {
        "columns": 1,
        "rows": 4
       }
      },
      "text/plain": [
       "A    -3.124529\n",
       "B    -0.954801\n",
       "C     0.482919\n",
       "D    28.000000\n",
       "dtype: float64"
      ]
     },
     "execution_count": 44,
     "metadata": {},
     "output_type": "execute_result"
    }
   ],
   "source": [
    "df.agg(lambda x: np.mean(x) * 5.6) # default axis = 0"
   ]
  },
  {
   "cell_type": "code",
   "execution_count": 45,
   "id": "d8355bc2",
   "metadata": {},
   "outputs": [
    {
     "data": {
      "application/vnd.microsoft.datawrangler.viewer.v0+json": {
       "columns": [
        {
         "name": "index",
         "rawType": "datetime64[ns]",
         "type": "datetime"
        },
        {
         "name": "A",
         "rawType": "float64",
         "type": "float"
        },
        {
         "name": "B",
         "rawType": "float64",
         "type": "float"
        },
        {
         "name": "C",
         "rawType": "float64",
         "type": "float"
        },
        {
         "name": "D",
         "rawType": "float64",
         "type": "float"
        }
       ],
       "ref": "6d6a8ab6-514a-4e1d-aa0e-b7860b829e9a",
       "rows": [
        [
         "2025-01-01 00:00:00",
         "0.0",
         "0.0",
         "-44.894745373044636",
         "506.0"
        ],
        [
         "2025-01-02 00:00:00",
         "-147.26959047658374",
         "-172.94388750504274",
         "85.10392322618546",
         "506.0"
        ],
        [
         "2025-01-03 00:00:00",
         "-172.3021430836008",
         "231.98380505419107",
         "131.21846901479853",
         "506.0"
        ],
        [
         "2025-01-04 00:00:00",
         "-113.01235058649415",
         "59.06077050250933",
         "-70.96346038257317",
         "506.0"
        ],
        [
         "2025-01-05 00:00:00",
         "16.213665418366972",
         "-65.41320111390704",
         "-72.69733725914081",
         "506.0"
        ],
        [
         "2025-01-06 00:00:00",
         "77.58221031697775",
         "-156.21518321457063",
         "24.59536853398139",
         "506.0"
        ]
       ],
       "shape": {
        "columns": 4,
        "rows": 6
       }
      },
      "text/html": [
       "<div>\n",
       "<style scoped>\n",
       "    .dataframe tbody tr th:only-of-type {\n",
       "        vertical-align: middle;\n",
       "    }\n",
       "\n",
       "    .dataframe tbody tr th {\n",
       "        vertical-align: top;\n",
       "    }\n",
       "\n",
       "    .dataframe thead th {\n",
       "        text-align: right;\n",
       "    }\n",
       "</style>\n",
       "<table border=\"1\" class=\"dataframe\">\n",
       "  <thead>\n",
       "    <tr style=\"text-align: right;\">\n",
       "      <th></th>\n",
       "      <th>A</th>\n",
       "      <th>B</th>\n",
       "      <th>C</th>\n",
       "      <th>D</th>\n",
       "    </tr>\n",
       "  </thead>\n",
       "  <tbody>\n",
       "    <tr>\n",
       "      <th>2025-01-01</th>\n",
       "      <td>0.000000</td>\n",
       "      <td>0.000000</td>\n",
       "      <td>-44.894745</td>\n",
       "      <td>506.0</td>\n",
       "    </tr>\n",
       "    <tr>\n",
       "      <th>2025-01-02</th>\n",
       "      <td>-147.269590</td>\n",
       "      <td>-172.943888</td>\n",
       "      <td>85.103923</td>\n",
       "      <td>506.0</td>\n",
       "    </tr>\n",
       "    <tr>\n",
       "      <th>2025-01-03</th>\n",
       "      <td>-172.302143</td>\n",
       "      <td>231.983805</td>\n",
       "      <td>131.218469</td>\n",
       "      <td>506.0</td>\n",
       "    </tr>\n",
       "    <tr>\n",
       "      <th>2025-01-04</th>\n",
       "      <td>-113.012351</td>\n",
       "      <td>59.060771</td>\n",
       "      <td>-70.963460</td>\n",
       "      <td>506.0</td>\n",
       "    </tr>\n",
       "    <tr>\n",
       "      <th>2025-01-05</th>\n",
       "      <td>16.213665</td>\n",
       "      <td>-65.413201</td>\n",
       "      <td>-72.697337</td>\n",
       "      <td>506.0</td>\n",
       "    </tr>\n",
       "    <tr>\n",
       "      <th>2025-01-06</th>\n",
       "      <td>77.582210</td>\n",
       "      <td>-156.215183</td>\n",
       "      <td>24.595369</td>\n",
       "      <td>506.0</td>\n",
       "    </tr>\n",
       "  </tbody>\n",
       "</table>\n",
       "</div>"
      ],
      "text/plain": [
       "                     A           B           C      D\n",
       "2025-01-01    0.000000    0.000000  -44.894745  506.0\n",
       "2025-01-02 -147.269590 -172.943888   85.103923  506.0\n",
       "2025-01-03 -172.302143  231.983805  131.218469  506.0\n",
       "2025-01-04 -113.012351   59.060771  -70.963460  506.0\n",
       "2025-01-05   16.213665  -65.413201  -72.697337  506.0\n",
       "2025-01-06   77.582210 -156.215183   24.595369  506.0"
      ]
     },
     "execution_count": 45,
     "metadata": {},
     "output_type": "execute_result"
    }
   ],
   "source": [
    "df.transform(lambda x: x * 101.2)"
   ]
  },
  {
   "cell_type": "code",
   "execution_count": 46,
   "id": "d4cfa9c8",
   "metadata": {},
   "outputs": [
    {
     "data": {
      "application/vnd.microsoft.datawrangler.viewer.v0+json": {
       "columns": [
        {
         "name": "index",
         "rawType": "int64",
         "type": "integer"
        },
        {
         "name": "0",
         "rawType": "int32",
         "type": "integer"
        }
       ],
       "ref": "7891545c-dc94-4959-a1cf-59d0c062acdb",
       "rows": [
        [
         "0",
         "4"
        ],
        [
         "1",
         "0"
        ],
        [
         "2",
         "2"
        ],
        [
         "3",
         "2"
        ],
        [
         "4",
         "2"
        ],
        [
         "5",
         "1"
        ],
        [
         "6",
         "0"
        ],
        [
         "7",
         "6"
        ],
        [
         "8",
         "4"
        ],
        [
         "9",
         "6"
        ]
       ],
       "shape": {
        "columns": 1,
        "rows": 10
       }
      },
      "text/plain": [
       "0    4\n",
       "1    0\n",
       "2    2\n",
       "3    2\n",
       "4    2\n",
       "5    1\n",
       "6    0\n",
       "7    6\n",
       "8    4\n",
       "9    6\n",
       "dtype: int32"
      ]
     },
     "execution_count": 46,
     "metadata": {},
     "output_type": "execute_result"
    }
   ],
   "source": [
    "s = pd.Series(np.random.randint(0, 7, size=10))\n",
    "s"
   ]
  },
  {
   "cell_type": "code",
   "execution_count": 47,
   "id": "628742f1",
   "metadata": {},
   "outputs": [
    {
     "data": {
      "application/vnd.microsoft.datawrangler.viewer.v0+json": {
       "columns": [
        {
         "name": "index",
         "rawType": "int32",
         "type": "integer"
        },
        {
         "name": "count",
         "rawType": "int64",
         "type": "integer"
        }
       ],
       "ref": "38950fe9-bf50-461e-b2f6-7656634641e1",
       "rows": [
        [
         "2",
         "3"
        ],
        [
         "4",
         "2"
        ],
        [
         "0",
         "2"
        ],
        [
         "6",
         "2"
        ],
        [
         "1",
         "1"
        ]
       ],
       "shape": {
        "columns": 1,
        "rows": 5
       }
      },
      "text/plain": [
       "2    3\n",
       "4    2\n",
       "0    2\n",
       "6    2\n",
       "1    1\n",
       "Name: count, dtype: int64"
      ]
     },
     "execution_count": 47,
     "metadata": {},
     "output_type": "execute_result"
    }
   ],
   "source": [
    "s.value_counts() # Count frequency of unique values - good for distribuation of categorial or discrete data"
   ]
  },
  {
   "cell_type": "code",
   "execution_count": 48,
   "id": "757d08d0",
   "metadata": {},
   "outputs": [
    {
     "data": {
      "text/plain": [
       "np.int64(10)"
      ]
     },
     "execution_count": 48,
     "metadata": {},
     "output_type": "execute_result"
    }
   ],
   "source": [
    "s.count() # Counts each non-null (non-missing) values"
   ]
  },
  {
   "cell_type": "code",
   "execution_count": 49,
   "id": "29eaf736",
   "metadata": {},
   "outputs": [
    {
     "data": {
      "application/vnd.microsoft.datawrangler.viewer.v0+json": {
       "columns": [
        {
         "name": "index",
         "rawType": "int64",
         "type": "integer"
        },
        {
         "name": "0",
         "rawType": "object",
         "type": "unknown"
        }
       ],
       "ref": "6514ad70-10bf-48df-971d-cdef25155d9b",
       "rows": [
        [
         "0",
         "a"
        ],
        [
         "1",
         "b"
        ],
        [
         "2",
         "c"
        ],
        [
         "3",
         "aaba"
        ],
        [
         "4",
         "baca"
        ],
        [
         "5",
         null
        ],
        [
         "6",
         "caba"
        ],
        [
         "7",
         "dog"
        ],
        [
         "8",
         "cat"
        ]
       ],
       "shape": {
        "columns": 1,
        "rows": 9
       }
      },
      "text/plain": [
       "0       a\n",
       "1       b\n",
       "2       c\n",
       "3    aaba\n",
       "4    baca\n",
       "5     NaN\n",
       "6    caba\n",
       "7     dog\n",
       "8     cat\n",
       "dtype: object"
      ]
     },
     "execution_count": 49,
     "metadata": {},
     "output_type": "execute_result"
    }
   ],
   "source": [
    "s = pd.Series([\"A\", \"B\", \"C\", \"Aaba\", \"Baca\", np.nan, \"CABA\", \"dog\", \"cat\"])\n",
    "s.str.lower()"
   ]
  },
  {
   "cell_type": "markdown",
   "id": "e83b05d9",
   "metadata": {},
   "source": [
    "# Merge\n",
    "- Concat - Combine pandas object together row-wise\n",
    "- Join - enable SQL-style join along specific columns."
   ]
  },
  {
   "cell_type": "code",
   "execution_count": 50,
   "id": "3cc1cb6c",
   "metadata": {},
   "outputs": [
    {
     "data": {
      "application/vnd.microsoft.datawrangler.viewer.v0+json": {
       "columns": [
        {
         "name": "index",
         "rawType": "int64",
         "type": "integer"
        },
        {
         "name": "0",
         "rawType": "float64",
         "type": "float"
        },
        {
         "name": "1",
         "rawType": "float64",
         "type": "float"
        },
        {
         "name": "2",
         "rawType": "float64",
         "type": "float"
        },
        {
         "name": "3",
         "rawType": "float64",
         "type": "float"
        }
       ],
       "ref": "ed9042d6-32f2-420c-8ff3-a96b309e9c4e",
       "rows": [
        [
         "0",
         "-0.6625009804413965",
         "-0.6550575586504787",
         "0.6961297846858965",
         "1.7832741821408238"
        ],
        [
         "1",
         "-0.9175705321570138",
         "-0.8223286456238711",
         "0.744680665933106",
         "0.6493007979536135"
        ],
        [
         "2",
         "0.16347336303322055",
         "1.4654807520843656",
         "-2.1734475170287593",
         "1.073313323750039"
        ],
        [
         "3",
         "0.5094929394967137",
         "-1.372175755467614",
         "0.48985942212756894",
         "-0.713356630580446"
        ],
        [
         "4",
         "-0.9549606384272435",
         "2.7298791499979265",
         "-0.6914848270385191",
         "-0.8184108414085783"
        ],
        [
         "5",
         "-0.35139438892967056",
         "-1.5433975438277225",
         "2.8943990160876827",
         "-1.6630435433447608"
        ],
        [
         "6",
         "-1.2101060657954525",
         "-0.04922165681950882",
         "-1.8257739814730096",
         "-0.0060444751058051594"
        ],
        [
         "7",
         "-0.15121484120947706",
         "-0.9688489509801997",
         "-0.5864764969149089",
         "-0.4437694208409822"
        ],
        [
         "8",
         "-0.7380227386579701",
         "0.5639895168122409",
         "2.1088703749852877",
         "2.367078676349561"
        ],
        [
         "9",
         "1.9457989433043517",
         "-0.974138679135585",
         "-0.8751876158934881",
         "0.28942784363398677"
        ]
       ],
       "shape": {
        "columns": 4,
        "rows": 10
       }
      },
      "text/html": [
       "<div>\n",
       "<style scoped>\n",
       "    .dataframe tbody tr th:only-of-type {\n",
       "        vertical-align: middle;\n",
       "    }\n",
       "\n",
       "    .dataframe tbody tr th {\n",
       "        vertical-align: top;\n",
       "    }\n",
       "\n",
       "    .dataframe thead th {\n",
       "        text-align: right;\n",
       "    }\n",
       "</style>\n",
       "<table border=\"1\" class=\"dataframe\">\n",
       "  <thead>\n",
       "    <tr style=\"text-align: right;\">\n",
       "      <th></th>\n",
       "      <th>0</th>\n",
       "      <th>1</th>\n",
       "      <th>2</th>\n",
       "      <th>3</th>\n",
       "    </tr>\n",
       "  </thead>\n",
       "  <tbody>\n",
       "    <tr>\n",
       "      <th>0</th>\n",
       "      <td>-0.662501</td>\n",
       "      <td>-0.655058</td>\n",
       "      <td>0.696130</td>\n",
       "      <td>1.783274</td>\n",
       "    </tr>\n",
       "    <tr>\n",
       "      <th>1</th>\n",
       "      <td>-0.917571</td>\n",
       "      <td>-0.822329</td>\n",
       "      <td>0.744681</td>\n",
       "      <td>0.649301</td>\n",
       "    </tr>\n",
       "    <tr>\n",
       "      <th>2</th>\n",
       "      <td>0.163473</td>\n",
       "      <td>1.465481</td>\n",
       "      <td>-2.173448</td>\n",
       "      <td>1.073313</td>\n",
       "    </tr>\n",
       "    <tr>\n",
       "      <th>3</th>\n",
       "      <td>0.509493</td>\n",
       "      <td>-1.372176</td>\n",
       "      <td>0.489859</td>\n",
       "      <td>-0.713357</td>\n",
       "    </tr>\n",
       "    <tr>\n",
       "      <th>4</th>\n",
       "      <td>-0.954961</td>\n",
       "      <td>2.729879</td>\n",
       "      <td>-0.691485</td>\n",
       "      <td>-0.818411</td>\n",
       "    </tr>\n",
       "    <tr>\n",
       "      <th>5</th>\n",
       "      <td>-0.351394</td>\n",
       "      <td>-1.543398</td>\n",
       "      <td>2.894399</td>\n",
       "      <td>-1.663044</td>\n",
       "    </tr>\n",
       "    <tr>\n",
       "      <th>6</th>\n",
       "      <td>-1.210106</td>\n",
       "      <td>-0.049222</td>\n",
       "      <td>-1.825774</td>\n",
       "      <td>-0.006044</td>\n",
       "    </tr>\n",
       "    <tr>\n",
       "      <th>7</th>\n",
       "      <td>-0.151215</td>\n",
       "      <td>-0.968849</td>\n",
       "      <td>-0.586476</td>\n",
       "      <td>-0.443769</td>\n",
       "    </tr>\n",
       "    <tr>\n",
       "      <th>8</th>\n",
       "      <td>-0.738023</td>\n",
       "      <td>0.563990</td>\n",
       "      <td>2.108870</td>\n",
       "      <td>2.367079</td>\n",
       "    </tr>\n",
       "    <tr>\n",
       "      <th>9</th>\n",
       "      <td>1.945799</td>\n",
       "      <td>-0.974139</td>\n",
       "      <td>-0.875188</td>\n",
       "      <td>0.289428</td>\n",
       "    </tr>\n",
       "  </tbody>\n",
       "</table>\n",
       "</div>"
      ],
      "text/plain": [
       "          0         1         2         3\n",
       "0 -0.662501 -0.655058  0.696130  1.783274\n",
       "1 -0.917571 -0.822329  0.744681  0.649301\n",
       "2  0.163473  1.465481 -2.173448  1.073313\n",
       "3  0.509493 -1.372176  0.489859 -0.713357\n",
       "4 -0.954961  2.729879 -0.691485 -0.818411\n",
       "5 -0.351394 -1.543398  2.894399 -1.663044\n",
       "6 -1.210106 -0.049222 -1.825774 -0.006044\n",
       "7 -0.151215 -0.968849 -0.586476 -0.443769\n",
       "8 -0.738023  0.563990  2.108870  2.367079\n",
       "9  1.945799 -0.974139 -0.875188  0.289428"
      ]
     },
     "execution_count": 50,
     "metadata": {},
     "output_type": "execute_result"
    }
   ],
   "source": [
    "df = pd.DataFrame(np.random.randn(10, 4))\n",
    "df"
   ]
  },
  {
   "cell_type": "code",
   "execution_count": 51,
   "id": "0be977fa",
   "metadata": {},
   "outputs": [
    {
     "data": {
      "application/vnd.microsoft.datawrangler.viewer.v0+json": {
       "columns": [
        {
         "name": "index",
         "rawType": "int64",
         "type": "integer"
        },
        {
         "name": "0",
         "rawType": "float64",
         "type": "float"
        },
        {
         "name": "1",
         "rawType": "float64",
         "type": "float"
        },
        {
         "name": "2",
         "rawType": "float64",
         "type": "float"
        },
        {
         "name": "3",
         "rawType": "float64",
         "type": "float"
        }
       ],
       "ref": "9e417944-8750-4a68-b6c6-e17c9369519f",
       "rows": [
        [
         "0",
         "-0.6625009804413965",
         "-0.6550575586504787",
         "0.6961297846858965",
         "1.7832741821408238"
        ],
        [
         "1",
         "-0.9175705321570138",
         "-0.8223286456238711",
         "0.744680665933106",
         "0.6493007979536135"
        ],
        [
         "2",
         "0.16347336303322055",
         "1.4654807520843656",
         "-2.1734475170287593",
         "1.073313323750039"
        ],
        [
         "3",
         "0.5094929394967137",
         "-1.372175755467614",
         "0.48985942212756894",
         "-0.713356630580446"
        ],
        [
         "4",
         "-0.9549606384272435",
         "2.7298791499979265",
         "-0.6914848270385191",
         "-0.8184108414085783"
        ],
        [
         "5",
         "-0.35139438892967056",
         "-1.5433975438277225",
         "2.8943990160876827",
         "-1.6630435433447608"
        ],
        [
         "6",
         "-1.2101060657954525",
         "-0.04922165681950882",
         "-1.8257739814730096",
         "-0.0060444751058051594"
        ],
        [
         "7",
         "-0.15121484120947706",
         "-0.9688489509801997",
         "-0.5864764969149089",
         "-0.4437694208409822"
        ],
        [
         "8",
         "-0.7380227386579701",
         "0.5639895168122409",
         "2.1088703749852877",
         "2.367078676349561"
        ],
        [
         "9",
         "1.9457989433043517",
         "-0.974138679135585",
         "-0.8751876158934881",
         "0.28942784363398677"
        ]
       ],
       "shape": {
        "columns": 4,
        "rows": 10
       }
      },
      "text/html": [
       "<div>\n",
       "<style scoped>\n",
       "    .dataframe tbody tr th:only-of-type {\n",
       "        vertical-align: middle;\n",
       "    }\n",
       "\n",
       "    .dataframe tbody tr th {\n",
       "        vertical-align: top;\n",
       "    }\n",
       "\n",
       "    .dataframe thead th {\n",
       "        text-align: right;\n",
       "    }\n",
       "</style>\n",
       "<table border=\"1\" class=\"dataframe\">\n",
       "  <thead>\n",
       "    <tr style=\"text-align: right;\">\n",
       "      <th></th>\n",
       "      <th>0</th>\n",
       "      <th>1</th>\n",
       "      <th>2</th>\n",
       "      <th>3</th>\n",
       "    </tr>\n",
       "  </thead>\n",
       "  <tbody>\n",
       "    <tr>\n",
       "      <th>0</th>\n",
       "      <td>-0.662501</td>\n",
       "      <td>-0.655058</td>\n",
       "      <td>0.696130</td>\n",
       "      <td>1.783274</td>\n",
       "    </tr>\n",
       "    <tr>\n",
       "      <th>1</th>\n",
       "      <td>-0.917571</td>\n",
       "      <td>-0.822329</td>\n",
       "      <td>0.744681</td>\n",
       "      <td>0.649301</td>\n",
       "    </tr>\n",
       "    <tr>\n",
       "      <th>2</th>\n",
       "      <td>0.163473</td>\n",
       "      <td>1.465481</td>\n",
       "      <td>-2.173448</td>\n",
       "      <td>1.073313</td>\n",
       "    </tr>\n",
       "    <tr>\n",
       "      <th>3</th>\n",
       "      <td>0.509493</td>\n",
       "      <td>-1.372176</td>\n",
       "      <td>0.489859</td>\n",
       "      <td>-0.713357</td>\n",
       "    </tr>\n",
       "    <tr>\n",
       "      <th>4</th>\n",
       "      <td>-0.954961</td>\n",
       "      <td>2.729879</td>\n",
       "      <td>-0.691485</td>\n",
       "      <td>-0.818411</td>\n",
       "    </tr>\n",
       "    <tr>\n",
       "      <th>5</th>\n",
       "      <td>-0.351394</td>\n",
       "      <td>-1.543398</td>\n",
       "      <td>2.894399</td>\n",
       "      <td>-1.663044</td>\n",
       "    </tr>\n",
       "    <tr>\n",
       "      <th>6</th>\n",
       "      <td>-1.210106</td>\n",
       "      <td>-0.049222</td>\n",
       "      <td>-1.825774</td>\n",
       "      <td>-0.006044</td>\n",
       "    </tr>\n",
       "    <tr>\n",
       "      <th>7</th>\n",
       "      <td>-0.151215</td>\n",
       "      <td>-0.968849</td>\n",
       "      <td>-0.586476</td>\n",
       "      <td>-0.443769</td>\n",
       "    </tr>\n",
       "    <tr>\n",
       "      <th>8</th>\n",
       "      <td>-0.738023</td>\n",
       "      <td>0.563990</td>\n",
       "      <td>2.108870</td>\n",
       "      <td>2.367079</td>\n",
       "    </tr>\n",
       "    <tr>\n",
       "      <th>9</th>\n",
       "      <td>1.945799</td>\n",
       "      <td>-0.974139</td>\n",
       "      <td>-0.875188</td>\n",
       "      <td>0.289428</td>\n",
       "    </tr>\n",
       "  </tbody>\n",
       "</table>\n",
       "</div>"
      ],
      "text/plain": [
       "          0         1         2         3\n",
       "0 -0.662501 -0.655058  0.696130  1.783274\n",
       "1 -0.917571 -0.822329  0.744681  0.649301\n",
       "2  0.163473  1.465481 -2.173448  1.073313\n",
       "3  0.509493 -1.372176  0.489859 -0.713357\n",
       "4 -0.954961  2.729879 -0.691485 -0.818411\n",
       "5 -0.351394 -1.543398  2.894399 -1.663044\n",
       "6 -1.210106 -0.049222 -1.825774 -0.006044\n",
       "7 -0.151215 -0.968849 -0.586476 -0.443769\n",
       "8 -0.738023  0.563990  2.108870  2.367079\n",
       "9  1.945799 -0.974139 -0.875188  0.289428"
      ]
     },
     "execution_count": 51,
     "metadata": {},
     "output_type": "execute_result"
    }
   ],
   "source": [
    "pieces = [df[:3], df[3:7], df[7:]]\n",
    "pd.concat(pieces)"
   ]
  },
  {
   "cell_type": "code",
   "execution_count": 52,
   "id": "cae69f8d",
   "metadata": {},
   "outputs": [
    {
     "data": {
      "application/vnd.microsoft.datawrangler.viewer.v0+json": {
       "columns": [
        {
         "name": "index",
         "rawType": "int64",
         "type": "integer"
        },
        {
         "name": "key",
         "rawType": "object",
         "type": "string"
        },
        {
         "name": "lval",
         "rawType": "int64",
         "type": "integer"
        }
       ],
       "ref": "57339b0c-1b08-42fb-8611-7253052012dd",
       "rows": [
        [
         "0",
         "foo",
         "1"
        ],
        [
         "1",
         "foo",
         "2"
        ]
       ],
       "shape": {
        "columns": 2,
        "rows": 2
       }
      },
      "text/html": [
       "<div>\n",
       "<style scoped>\n",
       "    .dataframe tbody tr th:only-of-type {\n",
       "        vertical-align: middle;\n",
       "    }\n",
       "\n",
       "    .dataframe tbody tr th {\n",
       "        vertical-align: top;\n",
       "    }\n",
       "\n",
       "    .dataframe thead th {\n",
       "        text-align: right;\n",
       "    }\n",
       "</style>\n",
       "<table border=\"1\" class=\"dataframe\">\n",
       "  <thead>\n",
       "    <tr style=\"text-align: right;\">\n",
       "      <th></th>\n",
       "      <th>key</th>\n",
       "      <th>lval</th>\n",
       "    </tr>\n",
       "  </thead>\n",
       "  <tbody>\n",
       "    <tr>\n",
       "      <th>0</th>\n",
       "      <td>foo</td>\n",
       "      <td>1</td>\n",
       "    </tr>\n",
       "    <tr>\n",
       "      <th>1</th>\n",
       "      <td>foo</td>\n",
       "      <td>2</td>\n",
       "    </tr>\n",
       "  </tbody>\n",
       "</table>\n",
       "</div>"
      ],
      "text/plain": [
       "   key  lval\n",
       "0  foo     1\n",
       "1  foo     2"
      ]
     },
     "execution_count": 52,
     "metadata": {},
     "output_type": "execute_result"
    }
   ],
   "source": [
    "left = pd.DataFrame({\"key\": [\"foo\", \"foo\"], \"lval\": [1, 2]})\n",
    "right = pd.DataFrame({\"key\": [\"foo\", \"foo\"], \"rval\": [4, 5]})\n",
    "left"
   ]
  },
  {
   "cell_type": "code",
   "execution_count": 53,
   "id": "eee8b0ca",
   "metadata": {},
   "outputs": [
    {
     "data": {
      "application/vnd.microsoft.datawrangler.viewer.v0+json": {
       "columns": [
        {
         "name": "index",
         "rawType": "int64",
         "type": "integer"
        },
        {
         "name": "key",
         "rawType": "object",
         "type": "string"
        },
        {
         "name": "rval",
         "rawType": "int64",
         "type": "integer"
        }
       ],
       "ref": "9919e8db-db7f-41f6-9f0f-3a6d1e01775e",
       "rows": [
        [
         "0",
         "foo",
         "4"
        ],
        [
         "1",
         "foo",
         "5"
        ]
       ],
       "shape": {
        "columns": 2,
        "rows": 2
       }
      },
      "text/html": [
       "<div>\n",
       "<style scoped>\n",
       "    .dataframe tbody tr th:only-of-type {\n",
       "        vertical-align: middle;\n",
       "    }\n",
       "\n",
       "    .dataframe tbody tr th {\n",
       "        vertical-align: top;\n",
       "    }\n",
       "\n",
       "    .dataframe thead th {\n",
       "        text-align: right;\n",
       "    }\n",
       "</style>\n",
       "<table border=\"1\" class=\"dataframe\">\n",
       "  <thead>\n",
       "    <tr style=\"text-align: right;\">\n",
       "      <th></th>\n",
       "      <th>key</th>\n",
       "      <th>rval</th>\n",
       "    </tr>\n",
       "  </thead>\n",
       "  <tbody>\n",
       "    <tr>\n",
       "      <th>0</th>\n",
       "      <td>foo</td>\n",
       "      <td>4</td>\n",
       "    </tr>\n",
       "    <tr>\n",
       "      <th>1</th>\n",
       "      <td>foo</td>\n",
       "      <td>5</td>\n",
       "    </tr>\n",
       "  </tbody>\n",
       "</table>\n",
       "</div>"
      ],
      "text/plain": [
       "   key  rval\n",
       "0  foo     4\n",
       "1  foo     5"
      ]
     },
     "execution_count": 53,
     "metadata": {},
     "output_type": "execute_result"
    }
   ],
   "source": [
    "right"
   ]
  },
  {
   "cell_type": "code",
   "execution_count": 54,
   "id": "adb22739",
   "metadata": {},
   "outputs": [
    {
     "data": {
      "application/vnd.microsoft.datawrangler.viewer.v0+json": {
       "columns": [
        {
         "name": "index",
         "rawType": "int64",
         "type": "integer"
        },
        {
         "name": "key",
         "rawType": "object",
         "type": "string"
        },
        {
         "name": "lval",
         "rawType": "int64",
         "type": "integer"
        },
        {
         "name": "rval",
         "rawType": "int64",
         "type": "integer"
        }
       ],
       "ref": "2a4828e4-8bd6-41d6-8b66-1efb34376042",
       "rows": [
        [
         "0",
         "foo",
         "1",
         "4"
        ],
        [
         "1",
         "foo",
         "1",
         "5"
        ],
        [
         "2",
         "foo",
         "2",
         "4"
        ],
        [
         "3",
         "foo",
         "2",
         "5"
        ]
       ],
       "shape": {
        "columns": 3,
        "rows": 4
       }
      },
      "text/html": [
       "<div>\n",
       "<style scoped>\n",
       "    .dataframe tbody tr th:only-of-type {\n",
       "        vertical-align: middle;\n",
       "    }\n",
       "\n",
       "    .dataframe tbody tr th {\n",
       "        vertical-align: top;\n",
       "    }\n",
       "\n",
       "    .dataframe thead th {\n",
       "        text-align: right;\n",
       "    }\n",
       "</style>\n",
       "<table border=\"1\" class=\"dataframe\">\n",
       "  <thead>\n",
       "    <tr style=\"text-align: right;\">\n",
       "      <th></th>\n",
       "      <th>key</th>\n",
       "      <th>lval</th>\n",
       "      <th>rval</th>\n",
       "    </tr>\n",
       "  </thead>\n",
       "  <tbody>\n",
       "    <tr>\n",
       "      <th>0</th>\n",
       "      <td>foo</td>\n",
       "      <td>1</td>\n",
       "      <td>4</td>\n",
       "    </tr>\n",
       "    <tr>\n",
       "      <th>1</th>\n",
       "      <td>foo</td>\n",
       "      <td>1</td>\n",
       "      <td>5</td>\n",
       "    </tr>\n",
       "    <tr>\n",
       "      <th>2</th>\n",
       "      <td>foo</td>\n",
       "      <td>2</td>\n",
       "      <td>4</td>\n",
       "    </tr>\n",
       "    <tr>\n",
       "      <th>3</th>\n",
       "      <td>foo</td>\n",
       "      <td>2</td>\n",
       "      <td>5</td>\n",
       "    </tr>\n",
       "  </tbody>\n",
       "</table>\n",
       "</div>"
      ],
      "text/plain": [
       "   key  lval  rval\n",
       "0  foo     1     4\n",
       "1  foo     1     5\n",
       "2  foo     2     4\n",
       "3  foo     2     5"
      ]
     },
     "execution_count": 54,
     "metadata": {},
     "output_type": "execute_result"
    }
   ],
   "source": [
    "pd.merge(left, right, on=\"key\") # key are not unique,"
   ]
  },
  {
   "cell_type": "code",
   "execution_count": 55,
   "id": "c574f6b4",
   "metadata": {},
   "outputs": [
    {
     "data": {
      "application/vnd.microsoft.datawrangler.viewer.v0+json": {
       "columns": [
        {
         "name": "index",
         "rawType": "int64",
         "type": "integer"
        },
        {
         "name": "key",
         "rawType": "object",
         "type": "string"
        },
        {
         "name": "lval",
         "rawType": "int64",
         "type": "integer"
        }
       ],
       "ref": "444b3233-62fb-45c6-9e61-6aed2c972c1c",
       "rows": [
        [
         "0",
         "foo",
         "1"
        ],
        [
         "1",
         "bar",
         "2"
        ]
       ],
       "shape": {
        "columns": 2,
        "rows": 2
       }
      },
      "text/html": [
       "<div>\n",
       "<style scoped>\n",
       "    .dataframe tbody tr th:only-of-type {\n",
       "        vertical-align: middle;\n",
       "    }\n",
       "\n",
       "    .dataframe tbody tr th {\n",
       "        vertical-align: top;\n",
       "    }\n",
       "\n",
       "    .dataframe thead th {\n",
       "        text-align: right;\n",
       "    }\n",
       "</style>\n",
       "<table border=\"1\" class=\"dataframe\">\n",
       "  <thead>\n",
       "    <tr style=\"text-align: right;\">\n",
       "      <th></th>\n",
       "      <th>key</th>\n",
       "      <th>lval</th>\n",
       "    </tr>\n",
       "  </thead>\n",
       "  <tbody>\n",
       "    <tr>\n",
       "      <th>0</th>\n",
       "      <td>foo</td>\n",
       "      <td>1</td>\n",
       "    </tr>\n",
       "    <tr>\n",
       "      <th>1</th>\n",
       "      <td>bar</td>\n",
       "      <td>2</td>\n",
       "    </tr>\n",
       "  </tbody>\n",
       "</table>\n",
       "</div>"
      ],
      "text/plain": [
       "   key  lval\n",
       "0  foo     1\n",
       "1  bar     2"
      ]
     },
     "execution_count": 55,
     "metadata": {},
     "output_type": "execute_result"
    }
   ],
   "source": [
    "left = pd.DataFrame({\"key\": [\"foo\", \"bar\"], \"lval\": [1, 2]})\n",
    "right = pd.DataFrame({\"key\": [\"foo\", \"bar\"], \"rval\": [4, 5]})\n",
    "left"
   ]
  },
  {
   "cell_type": "code",
   "execution_count": 56,
   "id": "1d0503b6",
   "metadata": {},
   "outputs": [
    {
     "data": {
      "application/vnd.microsoft.datawrangler.viewer.v0+json": {
       "columns": [
        {
         "name": "index",
         "rawType": "int64",
         "type": "integer"
        },
        {
         "name": "key",
         "rawType": "object",
         "type": "string"
        },
        {
         "name": "rval",
         "rawType": "int64",
         "type": "integer"
        }
       ],
       "ref": "e626f39e-52e2-4842-90a2-3c02d66ba419",
       "rows": [
        [
         "0",
         "foo",
         "4"
        ],
        [
         "1",
         "bar",
         "5"
        ]
       ],
       "shape": {
        "columns": 2,
        "rows": 2
       }
      },
      "text/html": [
       "<div>\n",
       "<style scoped>\n",
       "    .dataframe tbody tr th:only-of-type {\n",
       "        vertical-align: middle;\n",
       "    }\n",
       "\n",
       "    .dataframe tbody tr th {\n",
       "        vertical-align: top;\n",
       "    }\n",
       "\n",
       "    .dataframe thead th {\n",
       "        text-align: right;\n",
       "    }\n",
       "</style>\n",
       "<table border=\"1\" class=\"dataframe\">\n",
       "  <thead>\n",
       "    <tr style=\"text-align: right;\">\n",
       "      <th></th>\n",
       "      <th>key</th>\n",
       "      <th>rval</th>\n",
       "    </tr>\n",
       "  </thead>\n",
       "  <tbody>\n",
       "    <tr>\n",
       "      <th>0</th>\n",
       "      <td>foo</td>\n",
       "      <td>4</td>\n",
       "    </tr>\n",
       "    <tr>\n",
       "      <th>1</th>\n",
       "      <td>bar</td>\n",
       "      <td>5</td>\n",
       "    </tr>\n",
       "  </tbody>\n",
       "</table>\n",
       "</div>"
      ],
      "text/plain": [
       "   key  rval\n",
       "0  foo     4\n",
       "1  bar     5"
      ]
     },
     "execution_count": 56,
     "metadata": {},
     "output_type": "execute_result"
    }
   ],
   "source": [
    "right"
   ]
  },
  {
   "cell_type": "code",
   "execution_count": 57,
   "id": "a45e4c70",
   "metadata": {},
   "outputs": [
    {
     "data": {
      "application/vnd.microsoft.datawrangler.viewer.v0+json": {
       "columns": [
        {
         "name": "index",
         "rawType": "int64",
         "type": "integer"
        },
        {
         "name": "key",
         "rawType": "object",
         "type": "string"
        },
        {
         "name": "lval",
         "rawType": "int64",
         "type": "integer"
        },
        {
         "name": "rval",
         "rawType": "int64",
         "type": "integer"
        }
       ],
       "ref": "f76460c8-4a50-4a6c-85fa-50a455d22326",
       "rows": [
        [
         "0",
         "foo",
         "1",
         "4"
        ],
        [
         "1",
         "bar",
         "2",
         "5"
        ]
       ],
       "shape": {
        "columns": 3,
        "rows": 2
       }
      },
      "text/html": [
       "<div>\n",
       "<style scoped>\n",
       "    .dataframe tbody tr th:only-of-type {\n",
       "        vertical-align: middle;\n",
       "    }\n",
       "\n",
       "    .dataframe tbody tr th {\n",
       "        vertical-align: top;\n",
       "    }\n",
       "\n",
       "    .dataframe thead th {\n",
       "        text-align: right;\n",
       "    }\n",
       "</style>\n",
       "<table border=\"1\" class=\"dataframe\">\n",
       "  <thead>\n",
       "    <tr style=\"text-align: right;\">\n",
       "      <th></th>\n",
       "      <th>key</th>\n",
       "      <th>lval</th>\n",
       "      <th>rval</th>\n",
       "    </tr>\n",
       "  </thead>\n",
       "  <tbody>\n",
       "    <tr>\n",
       "      <th>0</th>\n",
       "      <td>foo</td>\n",
       "      <td>1</td>\n",
       "      <td>4</td>\n",
       "    </tr>\n",
       "    <tr>\n",
       "      <th>1</th>\n",
       "      <td>bar</td>\n",
       "      <td>2</td>\n",
       "      <td>5</td>\n",
       "    </tr>\n",
       "  </tbody>\n",
       "</table>\n",
       "</div>"
      ],
      "text/plain": [
       "   key  lval  rval\n",
       "0  foo     1     4\n",
       "1  bar     2     5"
      ]
     },
     "execution_count": 57,
     "metadata": {},
     "output_type": "execute_result"
    }
   ],
   "source": [
    "pd.merge(left, right, on=\"key\")"
   ]
  },
  {
   "cell_type": "markdown",
   "id": "12aef1f4",
   "metadata": {},
   "source": [
    "# Grouping\n",
    "- By \"group by\" we are referring to a process involving one or more of the following steps:\n",
    "- Splitting the data into groups based on some criteria\n",
    "- Applying: a function to each group independently\n",
    "- Combining: the results into a data structure "
   ]
  },
  {
   "cell_type": "code",
   "execution_count": 58,
   "id": "9b3c9490",
   "metadata": {},
   "outputs": [
    {
     "data": {
      "application/vnd.microsoft.datawrangler.viewer.v0+json": {
       "columns": [
        {
         "name": "index",
         "rawType": "int64",
         "type": "integer"
        },
        {
         "name": "A",
         "rawType": "object",
         "type": "string"
        },
        {
         "name": "B",
         "rawType": "object",
         "type": "string"
        },
        {
         "name": "C",
         "rawType": "float64",
         "type": "float"
        },
        {
         "name": "D",
         "rawType": "float64",
         "type": "float"
        }
       ],
       "ref": "71b854a6-f162-46b3-b06e-6e11b9713e99",
       "rows": [
        [
         "0",
         "foo",
         "one",
         "1.4851402840912933",
         "-0.8906936923897056"
        ],
        [
         "1",
         "bar",
         "one",
         "0.6958540012174106",
         "0.20945154021737927"
        ],
        [
         "2",
         "foo",
         "two",
         "0.9126547843292",
         "-0.4695550335519433"
        ],
        [
         "3",
         "bar",
         "three",
         "1.0496692843116073",
         "-0.7198711112312566"
        ],
        [
         "4",
         "foo",
         "two",
         "-0.4019049620159539",
         "-2.139783943099336"
        ],
        [
         "5",
         "bar",
         "two",
         "0.024316008437284667",
         "-0.052321117194436696"
        ],
        [
         "6",
         "foo",
         "one",
         "-0.43083262484593754",
         "0.09093690715186442"
        ],
        [
         "7",
         "foo",
         "three",
         "0.7085378811891296",
         "0.31738031142440715"
        ]
       ],
       "shape": {
        "columns": 4,
        "rows": 8
       }
      },
      "text/html": [
       "<div>\n",
       "<style scoped>\n",
       "    .dataframe tbody tr th:only-of-type {\n",
       "        vertical-align: middle;\n",
       "    }\n",
       "\n",
       "    .dataframe tbody tr th {\n",
       "        vertical-align: top;\n",
       "    }\n",
       "\n",
       "    .dataframe thead th {\n",
       "        text-align: right;\n",
       "    }\n",
       "</style>\n",
       "<table border=\"1\" class=\"dataframe\">\n",
       "  <thead>\n",
       "    <tr style=\"text-align: right;\">\n",
       "      <th></th>\n",
       "      <th>A</th>\n",
       "      <th>B</th>\n",
       "      <th>C</th>\n",
       "      <th>D</th>\n",
       "    </tr>\n",
       "  </thead>\n",
       "  <tbody>\n",
       "    <tr>\n",
       "      <th>0</th>\n",
       "      <td>foo</td>\n",
       "      <td>one</td>\n",
       "      <td>1.485140</td>\n",
       "      <td>-0.890694</td>\n",
       "    </tr>\n",
       "    <tr>\n",
       "      <th>1</th>\n",
       "      <td>bar</td>\n",
       "      <td>one</td>\n",
       "      <td>0.695854</td>\n",
       "      <td>0.209452</td>\n",
       "    </tr>\n",
       "    <tr>\n",
       "      <th>2</th>\n",
       "      <td>foo</td>\n",
       "      <td>two</td>\n",
       "      <td>0.912655</td>\n",
       "      <td>-0.469555</td>\n",
       "    </tr>\n",
       "    <tr>\n",
       "      <th>3</th>\n",
       "      <td>bar</td>\n",
       "      <td>three</td>\n",
       "      <td>1.049669</td>\n",
       "      <td>-0.719871</td>\n",
       "    </tr>\n",
       "    <tr>\n",
       "      <th>4</th>\n",
       "      <td>foo</td>\n",
       "      <td>two</td>\n",
       "      <td>-0.401905</td>\n",
       "      <td>-2.139784</td>\n",
       "    </tr>\n",
       "    <tr>\n",
       "      <th>5</th>\n",
       "      <td>bar</td>\n",
       "      <td>two</td>\n",
       "      <td>0.024316</td>\n",
       "      <td>-0.052321</td>\n",
       "    </tr>\n",
       "    <tr>\n",
       "      <th>6</th>\n",
       "      <td>foo</td>\n",
       "      <td>one</td>\n",
       "      <td>-0.430833</td>\n",
       "      <td>0.090937</td>\n",
       "    </tr>\n",
       "    <tr>\n",
       "      <th>7</th>\n",
       "      <td>foo</td>\n",
       "      <td>three</td>\n",
       "      <td>0.708538</td>\n",
       "      <td>0.317380</td>\n",
       "    </tr>\n",
       "  </tbody>\n",
       "</table>\n",
       "</div>"
      ],
      "text/plain": [
       "     A      B         C         D\n",
       "0  foo    one  1.485140 -0.890694\n",
       "1  bar    one  0.695854  0.209452\n",
       "2  foo    two  0.912655 -0.469555\n",
       "3  bar  three  1.049669 -0.719871\n",
       "4  foo    two -0.401905 -2.139784\n",
       "5  bar    two  0.024316 -0.052321\n",
       "6  foo    one -0.430833  0.090937\n",
       "7  foo  three  0.708538  0.317380"
      ]
     },
     "execution_count": 58,
     "metadata": {},
     "output_type": "execute_result"
    }
   ],
   "source": [
    "df = pd.DataFrame(\n",
    "    {\n",
    "        \"A\": [\"foo\", \"bar\", \"foo\", \"bar\", \"foo\", \"bar\", \"foo\", \"foo\"],\n",
    "        \"B\": [\"one\", \"one\", \"two\", \"three\", \"two\", \"two\", \"one\", \"three\"],\n",
    "        \"C\": np.random.randn(8),\n",
    "        \"D\": np.random.randn(8),\n",
    "    }\n",
    ")\n",
    "df"
   ]
  },
  {
   "cell_type": "code",
   "execution_count": 59,
   "id": "1ce1ff28",
   "metadata": {},
   "outputs": [
    {
     "data": {
      "application/vnd.microsoft.datawrangler.viewer.v0+json": {
       "columns": [
        {
         "name": "A",
         "rawType": "object",
         "type": "string"
        },
        {
         "name": "C",
         "rawType": "float64",
         "type": "float"
        },
        {
         "name": "D",
         "rawType": "float64",
         "type": "float"
        }
       ],
       "ref": "cda6a22d-04a4-4064-b979-f826e92506ee",
       "rows": [
        [
         "bar",
         "1.7698392939663026",
         "-0.5627406882083139"
        ],
        [
         "foo",
         "2.2735953627477317",
         "-3.0917154504647133"
        ]
       ],
       "shape": {
        "columns": 2,
        "rows": 2
       }
      },
      "text/html": [
       "<div>\n",
       "<style scoped>\n",
       "    .dataframe tbody tr th:only-of-type {\n",
       "        vertical-align: middle;\n",
       "    }\n",
       "\n",
       "    .dataframe tbody tr th {\n",
       "        vertical-align: top;\n",
       "    }\n",
       "\n",
       "    .dataframe thead th {\n",
       "        text-align: right;\n",
       "    }\n",
       "</style>\n",
       "<table border=\"1\" class=\"dataframe\">\n",
       "  <thead>\n",
       "    <tr style=\"text-align: right;\">\n",
       "      <th></th>\n",
       "      <th>C</th>\n",
       "      <th>D</th>\n",
       "    </tr>\n",
       "    <tr>\n",
       "      <th>A</th>\n",
       "      <th></th>\n",
       "      <th></th>\n",
       "    </tr>\n",
       "  </thead>\n",
       "  <tbody>\n",
       "    <tr>\n",
       "      <th>bar</th>\n",
       "      <td>1.769839</td>\n",
       "      <td>-0.562741</td>\n",
       "    </tr>\n",
       "    <tr>\n",
       "      <th>foo</th>\n",
       "      <td>2.273595</td>\n",
       "      <td>-3.091715</td>\n",
       "    </tr>\n",
       "  </tbody>\n",
       "</table>\n",
       "</div>"
      ],
      "text/plain": [
       "            C         D\n",
       "A                      \n",
       "bar  1.769839 -0.562741\n",
       "foo  2.273595 -3.091715"
      ]
     },
     "execution_count": 59,
     "metadata": {},
     "output_type": "execute_result"
    }
   ],
   "source": [
    "df.groupby(\"A\")[[\"C\", \"D\"]].sum()"
   ]
  },
  {
   "cell_type": "code",
   "execution_count": 60,
   "id": "7f640404",
   "metadata": {},
   "outputs": [
    {
     "data": {
      "application/vnd.microsoft.datawrangler.viewer.v0+json": {
       "columns": [
        {
         "name": "('A', 'B')",
         "rawType": "object",
         "type": "unknown"
        },
        {
         "name": "C",
         "rawType": "float64",
         "type": "float"
        },
        {
         "name": "D",
         "rawType": "float64",
         "type": "float"
        }
       ],
       "ref": "ef84c689-8f7d-4fc2-98fc-aea7f942a201",
       "rows": [
        [
         "('bar', 'one')",
         "0.6958540012174106",
         "0.20945154021737927"
        ],
        [
         "('bar', 'three')",
         "1.0496692843116073",
         "-0.7198711112312566"
        ],
        [
         "('bar', 'two')",
         "0.024316008437284667",
         "-0.052321117194436696"
        ],
        [
         "('foo', 'one')",
         "1.0543076592453557",
         "-0.7997567852378412"
        ],
        [
         "('foo', 'three')",
         "0.7085378811891296",
         "0.31738031142440715"
        ],
        [
         "('foo', 'two')",
         "0.5107498223132461",
         "-2.609338976651279"
        ]
       ],
       "shape": {
        "columns": 2,
        "rows": 6
       }
      },
      "text/html": [
       "<div>\n",
       "<style scoped>\n",
       "    .dataframe tbody tr th:only-of-type {\n",
       "        vertical-align: middle;\n",
       "    }\n",
       "\n",
       "    .dataframe tbody tr th {\n",
       "        vertical-align: top;\n",
       "    }\n",
       "\n",
       "    .dataframe thead th {\n",
       "        text-align: right;\n",
       "    }\n",
       "</style>\n",
       "<table border=\"1\" class=\"dataframe\">\n",
       "  <thead>\n",
       "    <tr style=\"text-align: right;\">\n",
       "      <th></th>\n",
       "      <th></th>\n",
       "      <th>C</th>\n",
       "      <th>D</th>\n",
       "    </tr>\n",
       "    <tr>\n",
       "      <th>A</th>\n",
       "      <th>B</th>\n",
       "      <th></th>\n",
       "      <th></th>\n",
       "    </tr>\n",
       "  </thead>\n",
       "  <tbody>\n",
       "    <tr>\n",
       "      <th rowspan=\"3\" valign=\"top\">bar</th>\n",
       "      <th>one</th>\n",
       "      <td>0.695854</td>\n",
       "      <td>0.209452</td>\n",
       "    </tr>\n",
       "    <tr>\n",
       "      <th>three</th>\n",
       "      <td>1.049669</td>\n",
       "      <td>-0.719871</td>\n",
       "    </tr>\n",
       "    <tr>\n",
       "      <th>two</th>\n",
       "      <td>0.024316</td>\n",
       "      <td>-0.052321</td>\n",
       "    </tr>\n",
       "    <tr>\n",
       "      <th rowspan=\"3\" valign=\"top\">foo</th>\n",
       "      <th>one</th>\n",
       "      <td>1.054308</td>\n",
       "      <td>-0.799757</td>\n",
       "    </tr>\n",
       "    <tr>\n",
       "      <th>three</th>\n",
       "      <td>0.708538</td>\n",
       "      <td>0.317380</td>\n",
       "    </tr>\n",
       "    <tr>\n",
       "      <th>two</th>\n",
       "      <td>0.510750</td>\n",
       "      <td>-2.609339</td>\n",
       "    </tr>\n",
       "  </tbody>\n",
       "</table>\n",
       "</div>"
      ],
      "text/plain": [
       "                  C         D\n",
       "A   B                        \n",
       "bar one    0.695854  0.209452\n",
       "    three  1.049669 -0.719871\n",
       "    two    0.024316 -0.052321\n",
       "foo one    1.054308 -0.799757\n",
       "    three  0.708538  0.317380\n",
       "    two    0.510750 -2.609339"
      ]
     },
     "execution_count": 60,
     "metadata": {},
     "output_type": "execute_result"
    }
   ],
   "source": [
    "df.groupby([\"A\", \"B\"]).sum() # multiple index"
   ]
  },
  {
   "cell_type": "markdown",
   "id": "d3c2a8c9",
   "metadata": {},
   "source": [
    "# Reshaping\n",
    "- using Stack and Pivot table\n",
    "\n",
    "## Stack\n",
    "- compresses a level in the DataFrame's columns\n",
    "- inverse is unstack: unstack the last level\n",
    "\n",
    "## Pivot Table (pivot_table())\n",
    "- create a new table with rows from columns"
   ]
  },
  {
   "cell_type": "code",
   "execution_count": 61,
   "id": "095d9613",
   "metadata": {},
   "outputs": [],
   "source": [
    "arrays = [\n",
    "    [\"bar\", \"bar\", \"baz\", \"baz\", \"foo\", \"foo\", \"qux\", \"qux\"],\n",
    "    [\"one\", \"two\", \"one\", \"two\", \"one\", \"two\", \"one\", \"two\"]\n",
    "]"
   ]
  },
  {
   "cell_type": "code",
   "execution_count": 62,
   "id": "d5cc5c56",
   "metadata": {},
   "outputs": [
    {
     "data": {
      "application/vnd.microsoft.datawrangler.viewer.v0+json": {
       "columns": [
        {
         "name": "('first', 'second')",
         "rawType": "object",
         "type": "unknown"
        },
        {
         "name": "A",
         "rawType": "float64",
         "type": "float"
        },
        {
         "name": "B",
         "rawType": "float64",
         "type": "float"
        }
       ],
       "ref": "3850e160-c9b7-4b9f-8b90-527834cf3221",
       "rows": [
        [
         "('bar', 'one')",
         "-0.8427778353393679",
         "-1.518088817217279"
        ],
        [
         "('bar', 'two')",
         "-0.40315399794437734",
         "-2.110347582139112"
        ],
        [
         "('baz', 'one')",
         "-0.7539838441655417",
         "0.4860460856048071"
        ],
        [
         "('baz', 'two')",
         "-0.7631729487792032",
         "0.46897718965591967"
        ]
       ],
       "shape": {
        "columns": 2,
        "rows": 4
       }
      },
      "text/html": [
       "<div>\n",
       "<style scoped>\n",
       "    .dataframe tbody tr th:only-of-type {\n",
       "        vertical-align: middle;\n",
       "    }\n",
       "\n",
       "    .dataframe tbody tr th {\n",
       "        vertical-align: top;\n",
       "    }\n",
       "\n",
       "    .dataframe thead th {\n",
       "        text-align: right;\n",
       "    }\n",
       "</style>\n",
       "<table border=\"1\" class=\"dataframe\">\n",
       "  <thead>\n",
       "    <tr style=\"text-align: right;\">\n",
       "      <th></th>\n",
       "      <th></th>\n",
       "      <th>A</th>\n",
       "      <th>B</th>\n",
       "    </tr>\n",
       "    <tr>\n",
       "      <th>first</th>\n",
       "      <th>second</th>\n",
       "      <th></th>\n",
       "      <th></th>\n",
       "    </tr>\n",
       "  </thead>\n",
       "  <tbody>\n",
       "    <tr>\n",
       "      <th rowspan=\"2\" valign=\"top\">bar</th>\n",
       "      <th>one</th>\n",
       "      <td>-0.842778</td>\n",
       "      <td>-1.518089</td>\n",
       "    </tr>\n",
       "    <tr>\n",
       "      <th>two</th>\n",
       "      <td>-0.403154</td>\n",
       "      <td>-2.110348</td>\n",
       "    </tr>\n",
       "    <tr>\n",
       "      <th rowspan=\"2\" valign=\"top\">baz</th>\n",
       "      <th>one</th>\n",
       "      <td>-0.753984</td>\n",
       "      <td>0.486046</td>\n",
       "    </tr>\n",
       "    <tr>\n",
       "      <th>two</th>\n",
       "      <td>-0.763173</td>\n",
       "      <td>0.468977</td>\n",
       "    </tr>\n",
       "  </tbody>\n",
       "</table>\n",
       "</div>"
      ],
      "text/plain": [
       "                     A         B\n",
       "first second                    \n",
       "bar   one    -0.842778 -1.518089\n",
       "      two    -0.403154 -2.110348\n",
       "baz   one    -0.753984  0.486046\n",
       "      two    -0.763173  0.468977"
      ]
     },
     "execution_count": 62,
     "metadata": {},
     "output_type": "execute_result"
    }
   ],
   "source": [
    "index = pd.MultiIndex.from_arrays(arrays, names=[\"first\", \"second\"])\n",
    "df = pd.DataFrame(np.random.randn(8, 2), index=index, columns=[\"A\", \"B\"])\n",
    "df2 = df[:4]\n",
    "df2"
   ]
  },
  {
   "cell_type": "code",
   "execution_count": 63,
   "id": "d9ef5654",
   "metadata": {},
   "outputs": [
    {
     "data": {
      "application/vnd.microsoft.datawrangler.viewer.v0+json": {
       "columns": [
        {
         "name": "('first', 'second', None)",
         "rawType": "object",
         "type": "unknown"
        },
        {
         "name": "0",
         "rawType": "float64",
         "type": "float"
        }
       ],
       "ref": "ba3c4f5e-c1cb-4af2-80de-71f24cd485ae",
       "rows": [
        [
         "('bar', 'one', 'A')",
         "-0.8427778353393679"
        ],
        [
         "('bar', 'one', 'B')",
         "-1.518088817217279"
        ],
        [
         "('bar', 'two', 'A')",
         "-0.40315399794437734"
        ],
        [
         "('bar', 'two', 'B')",
         "-2.110347582139112"
        ],
        [
         "('baz', 'one', 'A')",
         "-0.7539838441655417"
        ],
        [
         "('baz', 'one', 'B')",
         "0.4860460856048071"
        ],
        [
         "('baz', 'two', 'A')",
         "-0.7631729487792032"
        ],
        [
         "('baz', 'two', 'B')",
         "0.46897718965591967"
        ]
       ],
       "shape": {
        "columns": 1,
        "rows": 8
       }
      },
      "text/plain": [
       "first  second   \n",
       "bar    one     A   -0.842778\n",
       "               B   -1.518089\n",
       "       two     A   -0.403154\n",
       "               B   -2.110348\n",
       "baz    one     A   -0.753984\n",
       "               B    0.486046\n",
       "       two     A   -0.763173\n",
       "               B    0.468977\n",
       "dtype: float64"
      ]
     },
     "execution_count": 63,
     "metadata": {},
     "output_type": "execute_result"
    }
   ],
   "source": [
    "stacked = df2.stack(future_stack=True)\n",
    "stacked"
   ]
  },
  {
   "cell_type": "code",
   "execution_count": 64,
   "id": "a15b46d3",
   "metadata": {},
   "outputs": [
    {
     "data": {
      "application/vnd.microsoft.datawrangler.viewer.v0+json": {
       "columns": [
        {
         "name": "('first', 'second')",
         "rawType": "object",
         "type": "unknown"
        },
        {
         "name": "A",
         "rawType": "float64",
         "type": "float"
        },
        {
         "name": "B",
         "rawType": "float64",
         "type": "float"
        }
       ],
       "ref": "9782f603-96a0-49fe-8005-c1dcfd265e54",
       "rows": [
        [
         "('bar', 'one')",
         "-0.8427778353393679",
         "-1.518088817217279"
        ],
        [
         "('bar', 'two')",
         "-0.40315399794437734",
         "-2.110347582139112"
        ],
        [
         "('baz', 'one')",
         "-0.7539838441655417",
         "0.4860460856048071"
        ],
        [
         "('baz', 'two')",
         "-0.7631729487792032",
         "0.46897718965591967"
        ]
       ],
       "shape": {
        "columns": 2,
        "rows": 4
       }
      },
      "text/html": [
       "<div>\n",
       "<style scoped>\n",
       "    .dataframe tbody tr th:only-of-type {\n",
       "        vertical-align: middle;\n",
       "    }\n",
       "\n",
       "    .dataframe tbody tr th {\n",
       "        vertical-align: top;\n",
       "    }\n",
       "\n",
       "    .dataframe thead th {\n",
       "        text-align: right;\n",
       "    }\n",
       "</style>\n",
       "<table border=\"1\" class=\"dataframe\">\n",
       "  <thead>\n",
       "    <tr style=\"text-align: right;\">\n",
       "      <th></th>\n",
       "      <th></th>\n",
       "      <th>A</th>\n",
       "      <th>B</th>\n",
       "    </tr>\n",
       "    <tr>\n",
       "      <th>first</th>\n",
       "      <th>second</th>\n",
       "      <th></th>\n",
       "      <th></th>\n",
       "    </tr>\n",
       "  </thead>\n",
       "  <tbody>\n",
       "    <tr>\n",
       "      <th rowspan=\"2\" valign=\"top\">bar</th>\n",
       "      <th>one</th>\n",
       "      <td>-0.842778</td>\n",
       "      <td>-1.518089</td>\n",
       "    </tr>\n",
       "    <tr>\n",
       "      <th>two</th>\n",
       "      <td>-0.403154</td>\n",
       "      <td>-2.110348</td>\n",
       "    </tr>\n",
       "    <tr>\n",
       "      <th rowspan=\"2\" valign=\"top\">baz</th>\n",
       "      <th>one</th>\n",
       "      <td>-0.753984</td>\n",
       "      <td>0.486046</td>\n",
       "    </tr>\n",
       "    <tr>\n",
       "      <th>two</th>\n",
       "      <td>-0.763173</td>\n",
       "      <td>0.468977</td>\n",
       "    </tr>\n",
       "  </tbody>\n",
       "</table>\n",
       "</div>"
      ],
      "text/plain": [
       "                     A         B\n",
       "first second                    \n",
       "bar   one    -0.842778 -1.518089\n",
       "      two    -0.403154 -2.110348\n",
       "baz   one    -0.753984  0.486046\n",
       "      two    -0.763173  0.468977"
      ]
     },
     "execution_count": 64,
     "metadata": {},
     "output_type": "execute_result"
    }
   ],
   "source": [
    "stacked.unstack()"
   ]
  },
  {
   "cell_type": "code",
   "execution_count": 65,
   "id": "11f51eca",
   "metadata": {},
   "outputs": [
    {
     "data": {
      "application/vnd.microsoft.datawrangler.viewer.v0+json": {
       "columns": [
        {
         "name": "('first', None)",
         "rawType": "object",
         "type": "unknown"
        },
        {
         "name": "one",
         "rawType": "float64",
         "type": "float"
        },
        {
         "name": "two",
         "rawType": "float64",
         "type": "float"
        }
       ],
       "ref": "44377c1e-0245-41e3-958e-4d5d813eb359",
       "rows": [
        [
         "('bar', 'A')",
         "-0.8427778353393679",
         "-0.40315399794437734"
        ],
        [
         "('bar', 'B')",
         "-1.518088817217279",
         "-2.110347582139112"
        ],
        [
         "('baz', 'A')",
         "-0.7539838441655417",
         "-0.7631729487792032"
        ],
        [
         "('baz', 'B')",
         "0.4860460856048071",
         "0.46897718965591967"
        ]
       ],
       "shape": {
        "columns": 2,
        "rows": 4
       }
      },
      "text/html": [
       "<div>\n",
       "<style scoped>\n",
       "    .dataframe tbody tr th:only-of-type {\n",
       "        vertical-align: middle;\n",
       "    }\n",
       "\n",
       "    .dataframe tbody tr th {\n",
       "        vertical-align: top;\n",
       "    }\n",
       "\n",
       "    .dataframe thead th {\n",
       "        text-align: right;\n",
       "    }\n",
       "</style>\n",
       "<table border=\"1\" class=\"dataframe\">\n",
       "  <thead>\n",
       "    <tr style=\"text-align: right;\">\n",
       "      <th></th>\n",
       "      <th>second</th>\n",
       "      <th>one</th>\n",
       "      <th>two</th>\n",
       "    </tr>\n",
       "    <tr>\n",
       "      <th>first</th>\n",
       "      <th></th>\n",
       "      <th></th>\n",
       "      <th></th>\n",
       "    </tr>\n",
       "  </thead>\n",
       "  <tbody>\n",
       "    <tr>\n",
       "      <th rowspan=\"2\" valign=\"top\">bar</th>\n",
       "      <th>A</th>\n",
       "      <td>-0.842778</td>\n",
       "      <td>-0.403154</td>\n",
       "    </tr>\n",
       "    <tr>\n",
       "      <th>B</th>\n",
       "      <td>-1.518089</td>\n",
       "      <td>-2.110348</td>\n",
       "    </tr>\n",
       "    <tr>\n",
       "      <th rowspan=\"2\" valign=\"top\">baz</th>\n",
       "      <th>A</th>\n",
       "      <td>-0.753984</td>\n",
       "      <td>-0.763173</td>\n",
       "    </tr>\n",
       "    <tr>\n",
       "      <th>B</th>\n",
       "      <td>0.486046</td>\n",
       "      <td>0.468977</td>\n",
       "    </tr>\n",
       "  </tbody>\n",
       "</table>\n",
       "</div>"
      ],
      "text/plain": [
       "second        one       two\n",
       "first                      \n",
       "bar   A -0.842778 -0.403154\n",
       "      B -1.518089 -2.110348\n",
       "baz   A -0.753984 -0.763173\n",
       "      B  0.486046  0.468977"
      ]
     },
     "execution_count": 65,
     "metadata": {},
     "output_type": "execute_result"
    }
   ],
   "source": [
    "stacked.unstack(1)"
   ]
  },
  {
   "cell_type": "code",
   "execution_count": 66,
   "id": "6662bb54",
   "metadata": {},
   "outputs": [
    {
     "data": {
      "application/vnd.microsoft.datawrangler.viewer.v0+json": {
       "columns": [
        {
         "name": "('second', None)",
         "rawType": "object",
         "type": "unknown"
        },
        {
         "name": "bar",
         "rawType": "float64",
         "type": "float"
        },
        {
         "name": "baz",
         "rawType": "float64",
         "type": "float"
        }
       ],
       "ref": "38b9ffe5-d6e5-43b3-bd20-47602555a582",
       "rows": [
        [
         "('one', 'A')",
         "-0.8427778353393679",
         "-0.7539838441655417"
        ],
        [
         "('one', 'B')",
         "-1.518088817217279",
         "0.4860460856048071"
        ],
        [
         "('two', 'A')",
         "-0.40315399794437734",
         "-0.7631729487792032"
        ],
        [
         "('two', 'B')",
         "-2.110347582139112",
         "0.46897718965591967"
        ]
       ],
       "shape": {
        "columns": 2,
        "rows": 4
       }
      },
      "text/html": [
       "<div>\n",
       "<style scoped>\n",
       "    .dataframe tbody tr th:only-of-type {\n",
       "        vertical-align: middle;\n",
       "    }\n",
       "\n",
       "    .dataframe tbody tr th {\n",
       "        vertical-align: top;\n",
       "    }\n",
       "\n",
       "    .dataframe thead th {\n",
       "        text-align: right;\n",
       "    }\n",
       "</style>\n",
       "<table border=\"1\" class=\"dataframe\">\n",
       "  <thead>\n",
       "    <tr style=\"text-align: right;\">\n",
       "      <th></th>\n",
       "      <th>first</th>\n",
       "      <th>bar</th>\n",
       "      <th>baz</th>\n",
       "    </tr>\n",
       "    <tr>\n",
       "      <th>second</th>\n",
       "      <th></th>\n",
       "      <th></th>\n",
       "      <th></th>\n",
       "    </tr>\n",
       "  </thead>\n",
       "  <tbody>\n",
       "    <tr>\n",
       "      <th rowspan=\"2\" valign=\"top\">one</th>\n",
       "      <th>A</th>\n",
       "      <td>-0.842778</td>\n",
       "      <td>-0.753984</td>\n",
       "    </tr>\n",
       "    <tr>\n",
       "      <th>B</th>\n",
       "      <td>-1.518089</td>\n",
       "      <td>0.486046</td>\n",
       "    </tr>\n",
       "    <tr>\n",
       "      <th rowspan=\"2\" valign=\"top\">two</th>\n",
       "      <th>A</th>\n",
       "      <td>-0.403154</td>\n",
       "      <td>-0.763173</td>\n",
       "    </tr>\n",
       "    <tr>\n",
       "      <th>B</th>\n",
       "      <td>-2.110348</td>\n",
       "      <td>0.468977</td>\n",
       "    </tr>\n",
       "  </tbody>\n",
       "</table>\n",
       "</div>"
      ],
      "text/plain": [
       "first          bar       baz\n",
       "second                      \n",
       "one    A -0.842778 -0.753984\n",
       "       B -1.518089  0.486046\n",
       "two    A -0.403154 -0.763173\n",
       "       B -2.110348  0.468977"
      ]
     },
     "execution_count": 66,
     "metadata": {},
     "output_type": "execute_result"
    }
   ],
   "source": [
    "stacked.unstack(0)"
   ]
  },
  {
   "cell_type": "markdown",
   "id": "dcd71286",
   "metadata": {},
   "source": [
    "# Pivot Tables"
   ]
  },
  {
   "cell_type": "code",
   "execution_count": 67,
   "id": "4777e604",
   "metadata": {},
   "outputs": [
    {
     "data": {
      "application/vnd.microsoft.datawrangler.viewer.v0+json": {
       "columns": [
        {
         "name": "index",
         "rawType": "int64",
         "type": "integer"
        },
        {
         "name": "A",
         "rawType": "object",
         "type": "string"
        },
        {
         "name": "B",
         "rawType": "object",
         "type": "string"
        },
        {
         "name": "C",
         "rawType": "object",
         "type": "string"
        },
        {
         "name": "D",
         "rawType": "float64",
         "type": "float"
        },
        {
         "name": "E",
         "rawType": "float64",
         "type": "float"
        }
       ],
       "ref": "e6e1b85e-4892-462d-94d4-9b64ca2349f0",
       "rows": [
        [
         "0",
         "one",
         "A",
         "foo",
         "-0.41995684057806515",
         "0.8095318182577084"
        ],
        [
         "1",
         "one",
         "B",
         "foo",
         "-0.7230271682622951",
         "0.3636131685066944"
        ],
        [
         "2",
         "two",
         "C",
         "foo",
         "-0.5147549317584684",
         "1.8649257598887006"
        ],
        [
         "3",
         "three",
         "A",
         "bar",
         "0.31107148547320135",
         "1.3744527309235037"
        ],
        [
         "4",
         "one",
         "B",
         "bar",
         "-1.5827091335477161",
         "-1.1119526089280283"
        ],
        [
         "5",
         "one",
         "C",
         "bar",
         "-0.4992965150814567",
         "-1.1053373191500266"
        ],
        [
         "6",
         "two",
         "A",
         "foo",
         "-1.3858050555912904",
         "-0.8033461114013964"
        ],
        [
         "7",
         "three",
         "B",
         "foo",
         "-1.3139195595994027",
         "-2.162602488554606"
        ],
        [
         "8",
         "one",
         "C",
         "foo",
         "-1.014855887238745",
         "0.09009197693555902"
        ],
        [
         "9",
         "one",
         "A",
         "bar",
         "0.8561379236712698",
         "-0.7854788822749794"
        ],
        [
         "10",
         "two",
         "B",
         "bar",
         "0.19267385179935442",
         "-0.32202922832399283"
        ],
        [
         "11",
         "three",
         "C",
         "bar",
         "1.1450452839503307",
         "0.499301952173403"
        ]
       ],
       "shape": {
        "columns": 5,
        "rows": 12
       }
      },
      "text/html": [
       "<div>\n",
       "<style scoped>\n",
       "    .dataframe tbody tr th:only-of-type {\n",
       "        vertical-align: middle;\n",
       "    }\n",
       "\n",
       "    .dataframe tbody tr th {\n",
       "        vertical-align: top;\n",
       "    }\n",
       "\n",
       "    .dataframe thead th {\n",
       "        text-align: right;\n",
       "    }\n",
       "</style>\n",
       "<table border=\"1\" class=\"dataframe\">\n",
       "  <thead>\n",
       "    <tr style=\"text-align: right;\">\n",
       "      <th></th>\n",
       "      <th>A</th>\n",
       "      <th>B</th>\n",
       "      <th>C</th>\n",
       "      <th>D</th>\n",
       "      <th>E</th>\n",
       "    </tr>\n",
       "  </thead>\n",
       "  <tbody>\n",
       "    <tr>\n",
       "      <th>0</th>\n",
       "      <td>one</td>\n",
       "      <td>A</td>\n",
       "      <td>foo</td>\n",
       "      <td>-0.419957</td>\n",
       "      <td>0.809532</td>\n",
       "    </tr>\n",
       "    <tr>\n",
       "      <th>1</th>\n",
       "      <td>one</td>\n",
       "      <td>B</td>\n",
       "      <td>foo</td>\n",
       "      <td>-0.723027</td>\n",
       "      <td>0.363613</td>\n",
       "    </tr>\n",
       "    <tr>\n",
       "      <th>2</th>\n",
       "      <td>two</td>\n",
       "      <td>C</td>\n",
       "      <td>foo</td>\n",
       "      <td>-0.514755</td>\n",
       "      <td>1.864926</td>\n",
       "    </tr>\n",
       "    <tr>\n",
       "      <th>3</th>\n",
       "      <td>three</td>\n",
       "      <td>A</td>\n",
       "      <td>bar</td>\n",
       "      <td>0.311071</td>\n",
       "      <td>1.374453</td>\n",
       "    </tr>\n",
       "    <tr>\n",
       "      <th>4</th>\n",
       "      <td>one</td>\n",
       "      <td>B</td>\n",
       "      <td>bar</td>\n",
       "      <td>-1.582709</td>\n",
       "      <td>-1.111953</td>\n",
       "    </tr>\n",
       "    <tr>\n",
       "      <th>5</th>\n",
       "      <td>one</td>\n",
       "      <td>C</td>\n",
       "      <td>bar</td>\n",
       "      <td>-0.499297</td>\n",
       "      <td>-1.105337</td>\n",
       "    </tr>\n",
       "    <tr>\n",
       "      <th>6</th>\n",
       "      <td>two</td>\n",
       "      <td>A</td>\n",
       "      <td>foo</td>\n",
       "      <td>-1.385805</td>\n",
       "      <td>-0.803346</td>\n",
       "    </tr>\n",
       "    <tr>\n",
       "      <th>7</th>\n",
       "      <td>three</td>\n",
       "      <td>B</td>\n",
       "      <td>foo</td>\n",
       "      <td>-1.313920</td>\n",
       "      <td>-2.162602</td>\n",
       "    </tr>\n",
       "    <tr>\n",
       "      <th>8</th>\n",
       "      <td>one</td>\n",
       "      <td>C</td>\n",
       "      <td>foo</td>\n",
       "      <td>-1.014856</td>\n",
       "      <td>0.090092</td>\n",
       "    </tr>\n",
       "    <tr>\n",
       "      <th>9</th>\n",
       "      <td>one</td>\n",
       "      <td>A</td>\n",
       "      <td>bar</td>\n",
       "      <td>0.856138</td>\n",
       "      <td>-0.785479</td>\n",
       "    </tr>\n",
       "    <tr>\n",
       "      <th>10</th>\n",
       "      <td>two</td>\n",
       "      <td>B</td>\n",
       "      <td>bar</td>\n",
       "      <td>0.192674</td>\n",
       "      <td>-0.322029</td>\n",
       "    </tr>\n",
       "    <tr>\n",
       "      <th>11</th>\n",
       "      <td>three</td>\n",
       "      <td>C</td>\n",
       "      <td>bar</td>\n",
       "      <td>1.145045</td>\n",
       "      <td>0.499302</td>\n",
       "    </tr>\n",
       "  </tbody>\n",
       "</table>\n",
       "</div>"
      ],
      "text/plain": [
       "        A  B    C         D         E\n",
       "0     one  A  foo -0.419957  0.809532\n",
       "1     one  B  foo -0.723027  0.363613\n",
       "2     two  C  foo -0.514755  1.864926\n",
       "3   three  A  bar  0.311071  1.374453\n",
       "4     one  B  bar -1.582709 -1.111953\n",
       "5     one  C  bar -0.499297 -1.105337\n",
       "6     two  A  foo -1.385805 -0.803346\n",
       "7   three  B  foo -1.313920 -2.162602\n",
       "8     one  C  foo -1.014856  0.090092\n",
       "9     one  A  bar  0.856138 -0.785479\n",
       "10    two  B  bar  0.192674 -0.322029\n",
       "11  three  C  bar  1.145045  0.499302"
      ]
     },
     "execution_count": 67,
     "metadata": {},
     "output_type": "execute_result"
    }
   ],
   "source": [
    "df = pd.DataFrame({\n",
    "    \"A\": [\"one\", \"one\", \"two\", \"three\"] * 3,\n",
    "    \"B\": [\"A\", \"B\", \"C\"] * 4,\n",
    "    \"C\": [\"foo\", \"foo\", \"foo\", \"bar\", \"bar\", \"bar\"] * 2,\n",
    "    \"D\": np.random.randn(12),\n",
    "    \"E\": np.random.randn(12),\n",
    "})\n",
    "df"
   ]
  },
  {
   "cell_type": "code",
   "execution_count": 68,
   "id": "e1194cdb",
   "metadata": {},
   "outputs": [
    {
     "data": {
      "application/vnd.microsoft.datawrangler.viewer.v0+json": {
       "columns": [
        {
         "name": "('A', 'B')",
         "rawType": "object",
         "type": "unknown"
        },
        {
         "name": "bar",
         "rawType": "float64",
         "type": "float"
        },
        {
         "name": "foo",
         "rawType": "float64",
         "type": "float"
        }
       ],
       "ref": "46dfde30-ba08-4c42-9880-1bfa8b74b4b9",
       "rows": [
        [
         "('one', 'A')",
         "0.8561379236712698",
         "-0.41995684057806515"
        ],
        [
         "('one', 'B')",
         "-1.5827091335477161",
         "-0.7230271682622951"
        ],
        [
         "('one', 'C')",
         "-0.4992965150814567",
         "-1.014855887238745"
        ],
        [
         "('three', 'A')",
         "0.31107148547320135",
         null
        ],
        [
         "('three', 'B')",
         null,
         "-1.3139195595994027"
        ],
        [
         "('three', 'C')",
         "1.1450452839503307",
         null
        ],
        [
         "('two', 'A')",
         null,
         "-1.3858050555912904"
        ],
        [
         "('two', 'B')",
         "0.19267385179935442",
         null
        ],
        [
         "('two', 'C')",
         null,
         "-0.5147549317584684"
        ]
       ],
       "shape": {
        "columns": 2,
        "rows": 9
       }
      },
      "text/html": [
       "<div>\n",
       "<style scoped>\n",
       "    .dataframe tbody tr th:only-of-type {\n",
       "        vertical-align: middle;\n",
       "    }\n",
       "\n",
       "    .dataframe tbody tr th {\n",
       "        vertical-align: top;\n",
       "    }\n",
       "\n",
       "    .dataframe thead th {\n",
       "        text-align: right;\n",
       "    }\n",
       "</style>\n",
       "<table border=\"1\" class=\"dataframe\">\n",
       "  <thead>\n",
       "    <tr style=\"text-align: right;\">\n",
       "      <th></th>\n",
       "      <th>C</th>\n",
       "      <th>bar</th>\n",
       "      <th>foo</th>\n",
       "    </tr>\n",
       "    <tr>\n",
       "      <th>A</th>\n",
       "      <th>B</th>\n",
       "      <th></th>\n",
       "      <th></th>\n",
       "    </tr>\n",
       "  </thead>\n",
       "  <tbody>\n",
       "    <tr>\n",
       "      <th rowspan=\"3\" valign=\"top\">one</th>\n",
       "      <th>A</th>\n",
       "      <td>0.856138</td>\n",
       "      <td>-0.419957</td>\n",
       "    </tr>\n",
       "    <tr>\n",
       "      <th>B</th>\n",
       "      <td>-1.582709</td>\n",
       "      <td>-0.723027</td>\n",
       "    </tr>\n",
       "    <tr>\n",
       "      <th>C</th>\n",
       "      <td>-0.499297</td>\n",
       "      <td>-1.014856</td>\n",
       "    </tr>\n",
       "    <tr>\n",
       "      <th rowspan=\"3\" valign=\"top\">three</th>\n",
       "      <th>A</th>\n",
       "      <td>0.311071</td>\n",
       "      <td>NaN</td>\n",
       "    </tr>\n",
       "    <tr>\n",
       "      <th>B</th>\n",
       "      <td>NaN</td>\n",
       "      <td>-1.313920</td>\n",
       "    </tr>\n",
       "    <tr>\n",
       "      <th>C</th>\n",
       "      <td>1.145045</td>\n",
       "      <td>NaN</td>\n",
       "    </tr>\n",
       "    <tr>\n",
       "      <th rowspan=\"3\" valign=\"top\">two</th>\n",
       "      <th>A</th>\n",
       "      <td>NaN</td>\n",
       "      <td>-1.385805</td>\n",
       "    </tr>\n",
       "    <tr>\n",
       "      <th>B</th>\n",
       "      <td>0.192674</td>\n",
       "      <td>NaN</td>\n",
       "    </tr>\n",
       "    <tr>\n",
       "      <th>C</th>\n",
       "      <td>NaN</td>\n",
       "      <td>-0.514755</td>\n",
       "    </tr>\n",
       "  </tbody>\n",
       "</table>\n",
       "</div>"
      ],
      "text/plain": [
       "C             bar       foo\n",
       "A     B                    \n",
       "one   A  0.856138 -0.419957\n",
       "      B -1.582709 -0.723027\n",
       "      C -0.499297 -1.014856\n",
       "three A  0.311071       NaN\n",
       "      B       NaN -1.313920\n",
       "      C  1.145045       NaN\n",
       "two   A       NaN -1.385805\n",
       "      B  0.192674       NaN\n",
       "      C       NaN -0.514755"
      ]
     },
     "execution_count": 68,
     "metadata": {},
     "output_type": "execute_result"
    }
   ],
   "source": [
    "pd.pivot_table(df, values=\"D\", index=[\"A\", \"B\"], columns=[\"C\"])"
   ]
  },
  {
   "cell_type": "markdown",
   "id": "35f9f19e",
   "metadata": {},
   "source": [
    "# Time Series\n",
    "- date_range: create a DatetimeIndex\n",
    "- "
   ]
  },
  {
   "cell_type": "code",
   "execution_count": 69,
   "id": "0b8f6475",
   "metadata": {},
   "outputs": [
    {
     "data": {
      "application/vnd.microsoft.datawrangler.viewer.v0+json": {
       "columns": [
        {
         "name": "index",
         "rawType": "datetime64[ns]",
         "type": "datetime"
        },
        {
         "name": "0",
         "rawType": "int32",
         "type": "integer"
        }
       ],
       "ref": "b517c976-87fa-41f7-ad31-33940f948863",
       "rows": [
        [
         "2025-01-01 00:00:00",
         "24840"
        ]
       ],
       "shape": {
        "columns": 1,
        "rows": 1
       }
      },
      "text/plain": [
       "2025-01-01    24840\n",
       "Freq: 5min, dtype: int32"
      ]
     },
     "execution_count": 69,
     "metadata": {},
     "output_type": "execute_result"
    }
   ],
   "source": [
    "rng = pd.date_range(\"1/1/2025\", periods=100, freq=\"s\")\n",
    "ts = pd.Series(np.random.randint(0, 500, len(rng)), index=rng)\n",
    "ts.resample(\"5Min\").sum()"
   ]
  },
  {
   "cell_type": "code",
   "execution_count": 70,
   "id": "4f9eb875",
   "metadata": {},
   "outputs": [
    {
     "data": {
      "text/plain": [
       "pandas.core.indexes.datetimes.DatetimeIndex"
      ]
     },
     "execution_count": 70,
     "metadata": {},
     "output_type": "execute_result"
    }
   ],
   "source": [
    "type(pd.date_range(\"1/1/2025\", periods=10, freq=\"ME\"))"
   ]
  },
  {
   "cell_type": "code",
   "execution_count": 71,
   "id": "e92e67e3",
   "metadata": {},
   "outputs": [
    {
     "data": {
      "application/vnd.microsoft.datawrangler.viewer.v0+json": {
       "columns": [
        {
         "name": "index",
         "rawType": "datetime64[ns]",
         "type": "datetime"
        },
        {
         "name": "0",
         "rawType": "float64",
         "type": "float"
        }
       ],
       "ref": "f3664253-9fa9-4268-8550-a1123ab47213",
       "rows": [
        [
         "2025-03-16 00:00:00",
         "1.2602467457495827"
        ],
        [
         "2025-03-17 00:00:00",
         "-1.1544468042111715"
        ],
        [
         "2025-03-18 00:00:00",
         "0.6880107466736984"
        ],
        [
         "2025-03-19 00:00:00",
         "0.3214501597909063"
        ],
        [
         "2025-03-20 00:00:00",
         "-1.2565878899871827"
        ]
       ],
       "shape": {
        "columns": 1,
        "rows": 5
       }
      },
      "text/plain": [
       "2025-03-16    1.260247\n",
       "2025-03-17   -1.154447\n",
       "2025-03-18    0.688011\n",
       "2025-03-19    0.321450\n",
       "2025-03-20   -1.256588\n",
       "Freq: D, dtype: float64"
      ]
     },
     "execution_count": 71,
     "metadata": {},
     "output_type": "execute_result"
    }
   ],
   "source": [
    "rng = pd.date_range(\"3/16/2025 00:00\", periods=5, freq=\"D\")\n",
    "ts = pd.Series(np.random.randn(len(rng)), rng)\n",
    "ts"
   ]
  },
  {
   "cell_type": "code",
   "execution_count": 72,
   "id": "442df18c",
   "metadata": {},
   "outputs": [
    {
     "data": {
      "application/vnd.microsoft.datawrangler.viewer.v0+json": {
       "columns": [
        {
         "name": "index",
         "rawType": "datetime64[ns, UTC]",
         "type": "unknown"
        },
        {
         "name": "0",
         "rawType": "float64",
         "type": "float"
        }
       ],
       "ref": "13f84a3d-b393-4fc9-81c5-d1f54d7c6a3a",
       "rows": [
        [
         "2025-03-16 00:00:00+00:00",
         "1.2602467457495827"
        ],
        [
         "2025-03-17 00:00:00+00:00",
         "-1.1544468042111715"
        ],
        [
         "2025-03-18 00:00:00+00:00",
         "0.6880107466736984"
        ],
        [
         "2025-03-19 00:00:00+00:00",
         "0.3214501597909063"
        ],
        [
         "2025-03-20 00:00:00+00:00",
         "-1.2565878899871827"
        ]
       ],
       "shape": {
        "columns": 1,
        "rows": 5
       }
      },
      "text/plain": [
       "2025-03-16 00:00:00+00:00    1.260247\n",
       "2025-03-17 00:00:00+00:00   -1.154447\n",
       "2025-03-18 00:00:00+00:00    0.688011\n",
       "2025-03-19 00:00:00+00:00    0.321450\n",
       "2025-03-20 00:00:00+00:00   -1.256588\n",
       "Freq: D, dtype: float64"
      ]
     },
     "execution_count": 72,
     "metadata": {},
     "output_type": "execute_result"
    }
   ],
   "source": [
    "ts_utc = ts.tz_localize(\"UTC\")\n",
    "ts_utc"
   ]
  },
  {
   "cell_type": "code",
   "execution_count": 73,
   "id": "d5ca66db",
   "metadata": {},
   "outputs": [
    {
     "data": {
      "application/vnd.microsoft.datawrangler.viewer.v0+json": {
       "columns": [
        {
         "name": "index",
         "rawType": "datetime64[ns, US/Eastern]",
         "type": "unknown"
        },
        {
         "name": "0",
         "rawType": "float64",
         "type": "float"
        }
       ],
       "ref": "0186626a-16d7-4c25-8acf-d6828128e630",
       "rows": [
        [
         "2025-03-15 20:00:00-04:00",
         "1.2602467457495827"
        ],
        [
         "2025-03-16 20:00:00-04:00",
         "-1.1544468042111715"
        ],
        [
         "2025-03-17 20:00:00-04:00",
         "0.6880107466736984"
        ],
        [
         "2025-03-18 20:00:00-04:00",
         "0.3214501597909063"
        ],
        [
         "2025-03-19 20:00:00-04:00",
         "-1.2565878899871827"
        ]
       ],
       "shape": {
        "columns": 1,
        "rows": 5
       }
      },
      "text/plain": [
       "2025-03-15 20:00:00-04:00    1.260247\n",
       "2025-03-16 20:00:00-04:00   -1.154447\n",
       "2025-03-17 20:00:00-04:00    0.688011\n",
       "2025-03-18 20:00:00-04:00    0.321450\n",
       "2025-03-19 20:00:00-04:00   -1.256588\n",
       "Freq: D, dtype: float64"
      ]
     },
     "execution_count": 73,
     "metadata": {},
     "output_type": "execute_result"
    }
   ],
   "source": [
    "ts_utc.tz_convert(\"US/Eastern\")"
   ]
  },
  {
   "cell_type": "code",
   "execution_count": 74,
   "id": "3b7f4604",
   "metadata": {},
   "outputs": [
    {
     "data": {
      "text/plain": [
       "DatetimeIndex(['2025-03-16', '2025-03-17', '2025-03-18', '2025-03-19',\n",
       "               '2025-03-20'],\n",
       "              dtype='datetime64[ns]', freq='D')"
      ]
     },
     "execution_count": 74,
     "metadata": {},
     "output_type": "execute_result"
    }
   ],
   "source": [
    "rng"
   ]
  },
  {
   "cell_type": "code",
   "execution_count": 75,
   "id": "5e51b6f9",
   "metadata": {},
   "outputs": [
    {
     "data": {
      "text/plain": [
       "DatetimeIndex(['2025-03-21', '2025-03-24', '2025-03-25', '2025-03-26',\n",
       "               '2025-03-27'],\n",
       "              dtype='datetime64[ns]', freq=None)"
      ]
     },
     "execution_count": 75,
     "metadata": {},
     "output_type": "execute_result"
    }
   ],
   "source": [
    "rng + pd.offsets.BusinessDay(5)"
   ]
  },
  {
   "cell_type": "markdown",
   "id": "0e541df8",
   "metadata": {},
   "source": [
    "# Categoricals"
   ]
  },
  {
   "cell_type": "code",
   "execution_count": 76,
   "id": "d24393e4",
   "metadata": {},
   "outputs": [
    {
     "data": {
      "application/vnd.microsoft.datawrangler.viewer.v0+json": {
       "columns": [
        {
         "name": "index",
         "rawType": "int64",
         "type": "integer"
        },
        {
         "name": "grade",
         "rawType": "category",
         "type": "unknown"
        }
       ],
       "ref": "5e62f028-f513-448b-98eb-46b00ddee748",
       "rows": [
        [
         "0",
         "a"
        ],
        [
         "1",
         "b"
        ],
        [
         "2",
         "b"
        ],
        [
         "3",
         "a"
        ],
        [
         "4",
         "a"
        ],
        [
         "5",
         "e"
        ]
       ],
       "shape": {
        "columns": 1,
        "rows": 6
       }
      },
      "text/plain": [
       "0    a\n",
       "1    b\n",
       "2    b\n",
       "3    a\n",
       "4    a\n",
       "5    e\n",
       "Name: grade, dtype: category\n",
       "Categories (3, object): ['a', 'b', 'e']"
      ]
     },
     "execution_count": 76,
     "metadata": {},
     "output_type": "execute_result"
    }
   ],
   "source": [
    "df = pd.DataFrame({\n",
    "    \"id\": [1, 2, 3, 4, 5, 6],\n",
    "    \"raw_grade\": [\"a\", \"b\", \"b\", \"a\", \"a\", \"e\"]})\n",
    "df[\"grade\"] = df[\"raw_grade\"].astype(\"category\")\n",
    "df[\"grade\"]"
   ]
  },
  {
   "cell_type": "code",
   "execution_count": 77,
   "id": "39d80e9e",
   "metadata": {},
   "outputs": [
    {
     "data": {
      "application/vnd.microsoft.datawrangler.viewer.v0+json": {
       "columns": [
        {
         "name": "index",
         "rawType": "int64",
         "type": "integer"
        },
        {
         "name": "grade",
         "rawType": "category",
         "type": "unknown"
        }
       ],
       "ref": "d05ddfc0-c357-40bc-ab3d-d4419ce386e9",
       "rows": [
        [
         "0",
         "very good"
        ],
        [
         "1",
         "good"
        ],
        [
         "2",
         "good"
        ],
        [
         "3",
         "very good"
        ],
        [
         "4",
         "very good"
        ],
        [
         "5",
         "very bad"
        ]
       ],
       "shape": {
        "columns": 1,
        "rows": 6
       }
      },
      "text/plain": [
       "0    very good\n",
       "1         good\n",
       "2         good\n",
       "3    very good\n",
       "4    very good\n",
       "5     very bad\n",
       "Name: grade, dtype: category\n",
       "Categories (3, object): ['very good', 'good', 'very bad']"
      ]
     },
     "execution_count": 77,
     "metadata": {},
     "output_type": "execute_result"
    }
   ],
   "source": [
    "new_categories = [\"very good\", \"good\", \"very bad\"]\n",
    "df[\"grade\"] = df[\"grade\"].cat.rename_categories(new_categories)\n",
    "df[\"grade\"]"
   ]
  },
  {
   "cell_type": "code",
   "execution_count": 78,
   "id": "bb4c27c4",
   "metadata": {},
   "outputs": [
    {
     "data": {
      "application/vnd.microsoft.datawrangler.viewer.v0+json": {
       "columns": [
        {
         "name": "index",
         "rawType": "int64",
         "type": "integer"
        },
        {
         "name": "grade",
         "rawType": "category",
         "type": "unknown"
        }
       ],
       "ref": "be109a5e-c92d-402d-9c99-9de3d02e3ca6",
       "rows": [
        [
         "0",
         "very good"
        ],
        [
         "1",
         "good"
        ],
        [
         "2",
         "good"
        ],
        [
         "3",
         "very good"
        ],
        [
         "4",
         "very good"
        ],
        [
         "5",
         "very bad"
        ]
       ],
       "shape": {
        "columns": 1,
        "rows": 6
       }
      },
      "text/plain": [
       "0    very good\n",
       "1         good\n",
       "2         good\n",
       "3    very good\n",
       "4    very good\n",
       "5     very bad\n",
       "Name: grade, dtype: category\n",
       "Categories (5, object): ['very bad', 'bad', 'medium', 'good', 'very good']"
      ]
     },
     "execution_count": 78,
     "metadata": {},
     "output_type": "execute_result"
    }
   ],
   "source": [
    "\n",
    "df[\"grade\"] = df[\"grade\"].cat.set_categories(\n",
    "    [\"very bad\", \"bad\", \"medium\", \"good\", \"very good\"]\n",
    ")\n",
    "df[\"grade\"]"
   ]
  },
  {
   "cell_type": "code",
   "execution_count": 79,
   "id": "5b396364",
   "metadata": {},
   "outputs": [
    {
     "data": {
      "application/vnd.microsoft.datawrangler.viewer.v0+json": {
       "columns": [
        {
         "name": "index",
         "rawType": "int64",
         "type": "integer"
        },
        {
         "name": "id",
         "rawType": "int64",
         "type": "integer"
        },
        {
         "name": "raw_grade",
         "rawType": "object",
         "type": "string"
        },
        {
         "name": "grade",
         "rawType": "category",
         "type": "unknown"
        }
       ],
       "ref": "039441e5-1f35-4f0a-9213-785290745bd4",
       "rows": [
        [
         "5",
         "6",
         "e",
         "very bad"
        ],
        [
         "1",
         "2",
         "b",
         "good"
        ],
        [
         "2",
         "3",
         "b",
         "good"
        ],
        [
         "0",
         "1",
         "a",
         "very good"
        ],
        [
         "3",
         "4",
         "a",
         "very good"
        ],
        [
         "4",
         "5",
         "a",
         "very good"
        ]
       ],
       "shape": {
        "columns": 3,
        "rows": 6
       }
      },
      "text/html": [
       "<div>\n",
       "<style scoped>\n",
       "    .dataframe tbody tr th:only-of-type {\n",
       "        vertical-align: middle;\n",
       "    }\n",
       "\n",
       "    .dataframe tbody tr th {\n",
       "        vertical-align: top;\n",
       "    }\n",
       "\n",
       "    .dataframe thead th {\n",
       "        text-align: right;\n",
       "    }\n",
       "</style>\n",
       "<table border=\"1\" class=\"dataframe\">\n",
       "  <thead>\n",
       "    <tr style=\"text-align: right;\">\n",
       "      <th></th>\n",
       "      <th>id</th>\n",
       "      <th>raw_grade</th>\n",
       "      <th>grade</th>\n",
       "    </tr>\n",
       "  </thead>\n",
       "  <tbody>\n",
       "    <tr>\n",
       "      <th>5</th>\n",
       "      <td>6</td>\n",
       "      <td>e</td>\n",
       "      <td>very bad</td>\n",
       "    </tr>\n",
       "    <tr>\n",
       "      <th>1</th>\n",
       "      <td>2</td>\n",
       "      <td>b</td>\n",
       "      <td>good</td>\n",
       "    </tr>\n",
       "    <tr>\n",
       "      <th>2</th>\n",
       "      <td>3</td>\n",
       "      <td>b</td>\n",
       "      <td>good</td>\n",
       "    </tr>\n",
       "    <tr>\n",
       "      <th>0</th>\n",
       "      <td>1</td>\n",
       "      <td>a</td>\n",
       "      <td>very good</td>\n",
       "    </tr>\n",
       "    <tr>\n",
       "      <th>3</th>\n",
       "      <td>4</td>\n",
       "      <td>a</td>\n",
       "      <td>very good</td>\n",
       "    </tr>\n",
       "    <tr>\n",
       "      <th>4</th>\n",
       "      <td>5</td>\n",
       "      <td>a</td>\n",
       "      <td>very good</td>\n",
       "    </tr>\n",
       "  </tbody>\n",
       "</table>\n",
       "</div>"
      ],
      "text/plain": [
       "   id raw_grade      grade\n",
       "5   6         e   very bad\n",
       "1   2         b       good\n",
       "2   3         b       good\n",
       "0   1         a  very good\n",
       "3   4         a  very good\n",
       "4   5         a  very good"
      ]
     },
     "execution_count": 79,
     "metadata": {},
     "output_type": "execute_result"
    }
   ],
   "source": [
    "df.sort_values(by=\"grade\")"
   ]
  },
  {
   "cell_type": "code",
   "execution_count": 80,
   "id": "ea5cbcb6",
   "metadata": {},
   "outputs": [
    {
     "data": {
      "application/vnd.microsoft.datawrangler.viewer.v0+json": {
       "columns": [
        {
         "name": "grade",
         "rawType": "category",
         "type": "unknown"
        },
        {
         "name": "0",
         "rawType": "int64",
         "type": "integer"
        }
       ],
       "ref": "02348bec-1041-45ce-8bcb-13d8f522bcf7",
       "rows": [
        [
         "very bad",
         "1"
        ],
        [
         "bad",
         "0"
        ],
        [
         "medium",
         "0"
        ],
        [
         "good",
         "2"
        ],
        [
         "very good",
         "3"
        ]
       ],
       "shape": {
        "columns": 1,
        "rows": 5
       }
      },
      "text/plain": [
       "grade\n",
       "very bad     1\n",
       "bad          0\n",
       "medium       0\n",
       "good         2\n",
       "very good    3\n",
       "dtype: int64"
      ]
     },
     "execution_count": 80,
     "metadata": {},
     "output_type": "execute_result"
    }
   ],
   "source": [
    "df.groupby(\"grade\", observed=False).size()"
   ]
  },
  {
   "cell_type": "markdown",
   "id": "77bf7e72",
   "metadata": {},
   "source": [
    "# Plotting"
   ]
  },
  {
   "cell_type": "code",
   "execution_count": 81,
   "id": "4daa11ee",
   "metadata": {},
   "outputs": [],
   "source": [
    "import matplotlib.pyplot as plt\n",
    "\n",
    "plt.close(\"all\")"
   ]
  },
  {
   "cell_type": "code",
   "execution_count": 82,
   "id": "d0ff3157",
   "metadata": {},
   "outputs": [
    {
     "data": {
      "text/plain": [
       "<Axes: >"
      ]
     },
     "execution_count": 82,
     "metadata": {},
     "output_type": "execute_result"
    },
    {
     "data": {
      "image/png": "[encoded data removed]",
      "text/plain": [
       "<Figure size 640x480 with 1 Axes>"
      ]
     },
     "metadata": {},
     "output_type": "display_data"
    }
   ],
   "source": [
    "ts = pd.Series(np.random.randn(1000), index=pd.date_range(\"1/1/2025\", periods=1000))\n",
    "ts = ts.cumsum()\n",
    "ts.plot()"
   ]
  },
  {
   "cell_type": "code",
   "execution_count": 83,
   "id": "37b682d0",
   "metadata": {},
   "outputs": [
    {
     "data": {
      "image/png": "[encoded data removed]",
      "text/plain": [
       "<Figure size 640x480 with 1 Axes>"
      ]
     },
     "metadata": {},
     "output_type": "display_data"
    }
   ],
   "source": [
    "df = pd.DataFrame(\n",
    "    np.random.randn(1000, 4), index=ts.index, columns=[\"A\", \"B\", \"C\", \"D\"]\n",
    ")\n",
    "\n",
    "df = df.cumsum()\n",
    "df.plot()\n",
    "plt.legend(loc=\"best\")\n",
    "plt.show()"
   ]
  },
  {
   "cell_type": "markdown",
   "id": "51eb63f4",
   "metadata": {},
   "source": [
    "# Data Structure\n",
    "- Data alignment is intrinsic. The link between labels and data will not be broken unless done so explicitly by you.\n",
    "## Series\n",
    "- one-dimensional labeld array capable of holding any data type (integers, strings, floating point numbers, Python objects, etc.). The axis labels are collectively reffered to as the index.\n",
    "- acts very similarly to a ndarray and is valid argument to most Numpy functions. However, operions such as slicing will also slice the index.\n",
    "- Like numpy ndarray, all types must be the same. However, pandas extends Numpy type system and add in categorical data and Nullable integer data type."
   ]
  },
  {
   "cell_type": "code",
   "execution_count": 84,
   "id": "49b17e89",
   "metadata": {},
   "outputs": [
    {
     "data": {
      "application/vnd.microsoft.datawrangler.viewer.v0+json": {
       "columns": [
        {
         "name": "index",
         "rawType": "object",
         "type": "string"
        },
        {
         "name": "0",
         "rawType": "float64",
         "type": "float"
        }
       ],
       "ref": "18aca7ad-fe6b-44a3-83c8-94c91eb91d0b",
       "rows": [
        [
         "a",
         "-0.7508351191957721"
        ],
        [
         "b",
         "1.0071432111942888"
        ],
        [
         "c",
         "-0.9357322670715271"
        ],
        [
         "d",
         "1.3953641239410899"
        ],
        [
         "e",
         "-1.2542626432992492"
        ]
       ],
       "shape": {
        "columns": 1,
        "rows": 5
       }
      },
      "text/plain": [
       "a   -0.750835\n",
       "b    1.007143\n",
       "c   -0.935732\n",
       "d    1.395364\n",
       "e   -1.254263\n",
       "dtype: float64"
      ]
     },
     "execution_count": 84,
     "metadata": {},
     "output_type": "execute_result"
    }
   ],
   "source": [
    "# from ndarray - index must be same length as data. \n",
    "# If no index is passed, one will be created have values [0, ..., len(data) -1]\n",
    "s = pd.Series(np.random.randn(5), index=[\"a\", \"b\", \"c\", \"d\", \"e\"])\n",
    "s"
   ]
  },
  {
   "cell_type": "code",
   "execution_count": 85,
   "id": "0afc3fd2",
   "metadata": {},
   "outputs": [
    {
     "data": {
      "application/vnd.microsoft.datawrangler.viewer.v0+json": {
       "columns": [
        {
         "name": "index",
         "rawType": "object",
         "type": "string"
        },
        {
         "name": "0",
         "rawType": "int64",
         "type": "integer"
        }
       ],
       "ref": "ab9b77ff-1910-4b3f-bd0f-21153eea307a",
       "rows": [
        [
         "b",
         "1"
        ],
        [
         "a",
         "0"
        ],
        [
         "c",
         "2"
        ]
       ],
       "shape": {
        "columns": 1,
        "rows": 3
       }
      },
      "text/plain": [
       "b    1\n",
       "a    0\n",
       "c    2\n",
       "dtype: int64"
      ]
     },
     "execution_count": 85,
     "metadata": {},
     "output_type": "execute_result"
    }
   ],
   "source": [
    "# use dict to instantiate\n",
    "d = {\"b\": 1, \"a\": 0, \"c\": 2}\n",
    "pd.Series(d)"
   ]
  },
  {
   "cell_type": "code",
   "execution_count": 86,
   "id": "728105f4",
   "metadata": {},
   "outputs": [
    {
     "name": "stdout",
     "output_type": "stream",
     "text": [
      "a    0.0\n",
      "b    1.0\n",
      "c    2.0\n",
      "dtype: float64\n",
      "b    1.0\n",
      "c    2.0\n",
      "d    NaN\n",
      "a    0.0\n",
      "dtype: float64\n"
     ]
    }
   ],
   "source": [
    "# if an index is passed, the values in data corresponding to the labels in the index will be pulled out\n",
    "d = {\"a\": 0.0, \"b\": 1.0, \"c\": 2.0}\n",
    "print(pd.Series(d))\n",
    "print(pd.Series(d, index=[\"b\", \"c\", \"d\", \"a\"]))"
   ]
  },
  {
   "cell_type": "code",
   "execution_count": 87,
   "id": "aa410ad8",
   "metadata": {},
   "outputs": [
    {
     "data": {
      "application/vnd.microsoft.datawrangler.viewer.v0+json": {
       "columns": [
        {
         "name": "index",
         "rawType": "object",
         "type": "string"
        },
        {
         "name": "0",
         "rawType": "float64",
         "type": "float"
        }
       ],
       "ref": "24a5d1e4-6aa2-44b1-90af-9ce48446aa97",
       "rows": [
        [
         "a",
         "5.0"
        ],
        [
         "b",
         "5.0"
        ],
        [
         "d",
         "5.0"
        ],
        [
         "d",
         "5.0"
        ],
        [
         "e",
         "5.0"
        ]
       ],
       "shape": {
        "columns": 1,
        "rows": 5
       }
      },
      "text/plain": [
       "a    5.0\n",
       "b    5.0\n",
       "d    5.0\n",
       "d    5.0\n",
       "e    5.0\n",
       "dtype: float64"
      ]
     },
     "execution_count": 87,
     "metadata": {},
     "output_type": "execute_result"
    }
   ],
   "source": [
    "# creation from scalar value\n",
    "pd.Series(5.0, index=[\"a\", \"b\", \"d\", \"d\", \"e\"])"
   ]
  },
  {
   "cell_type": "code",
   "execution_count": 88,
   "id": "f0845b4b",
   "metadata": {},
   "outputs": [
    {
     "data": {
      "text/plain": [
       "np.float64(-0.7508351191957721)"
      ]
     },
     "execution_count": 88,
     "metadata": {},
     "output_type": "execute_result"
    }
   ],
   "source": [
    "s.iloc[0]"
   ]
  },
  {
   "cell_type": "code",
   "execution_count": 89,
   "id": "d5cd0834",
   "metadata": {},
   "outputs": [
    {
     "data": {
      "application/vnd.microsoft.datawrangler.viewer.v0+json": {
       "columns": [
        {
         "name": "index",
         "rawType": "object",
         "type": "string"
        },
        {
         "name": "0",
         "rawType": "float64",
         "type": "float"
        }
       ],
       "ref": "46d34d09-c673-4478-88c2-89a7b78d48a6",
       "rows": [
        [
         "a",
         "-0.7508351191957721"
        ],
        [
         "b",
         "1.0071432111942888"
        ],
        [
         "c",
         "-0.9357322670715271"
        ]
       ],
       "shape": {
        "columns": 1,
        "rows": 3
       }
      },
      "text/plain": [
       "a   -0.750835\n",
       "b    1.007143\n",
       "c   -0.935732\n",
       "dtype: float64"
      ]
     },
     "execution_count": 89,
     "metadata": {},
     "output_type": "execute_result"
    }
   ],
   "source": [
    "s.iloc[:3]"
   ]
  },
  {
   "cell_type": "code",
   "execution_count": 90,
   "id": "42314bbf",
   "metadata": {},
   "outputs": [
    {
     "data": {
      "application/vnd.microsoft.datawrangler.viewer.v0+json": {
       "columns": [
        {
         "name": "index",
         "rawType": "object",
         "type": "string"
        },
        {
         "name": "0",
         "rawType": "float64",
         "type": "float"
        }
       ],
       "ref": "71e99779-9061-40bb-8dc8-b4eec349b40a",
       "rows": [
        [
         "b",
         "1.0071432111942888"
        ],
        [
         "d",
         "1.3953641239410899"
        ]
       ],
       "shape": {
        "columns": 1,
        "rows": 2
       }
      },
      "text/plain": [
       "b    1.007143\n",
       "d    1.395364\n",
       "dtype: float64"
      ]
     },
     "execution_count": 90,
     "metadata": {},
     "output_type": "execute_result"
    }
   ],
   "source": [
    "s[s > s.median()]"
   ]
  },
  {
   "cell_type": "code",
   "execution_count": 91,
   "id": "dacef0cd",
   "metadata": {},
   "outputs": [
    {
     "data": {
      "application/vnd.microsoft.datawrangler.viewer.v0+json": {
       "columns": [
        {
         "name": "index",
         "rawType": "object",
         "type": "string"
        },
        {
         "name": "0",
         "rawType": "float64",
         "type": "float"
        }
       ],
       "ref": "ba19a41f-5412-4ed3-b9e0-8b323b1718db",
       "rows": [
        [
         "e",
         "-1.2542626432992492"
        ],
        [
         "d",
         "1.3953641239410899"
        ],
        [
         "b",
         "1.0071432111942888"
        ]
       ],
       "shape": {
        "columns": 1,
        "rows": 3
       }
      },
      "text/plain": [
       "e   -1.254263\n",
       "d    1.395364\n",
       "b    1.007143\n",
       "dtype: float64"
      ]
     },
     "execution_count": 91,
     "metadata": {},
     "output_type": "execute_result"
    }
   ],
   "source": [
    "s.iloc[[4, 3, 1]] # return the index that has 4, 3, 1"
   ]
  },
  {
   "cell_type": "code",
   "execution_count": 92,
   "id": "0ee0349f",
   "metadata": {},
   "outputs": [
    {
     "data": {
      "application/vnd.microsoft.datawrangler.viewer.v0+json": {
       "columns": [
        {
         "name": "index",
         "rawType": "object",
         "type": "string"
        },
        {
         "name": "0",
         "rawType": "float64",
         "type": "float"
        }
       ],
       "ref": "46a5bbd6-5b43-4d98-937c-1914ba379444",
       "rows": [
        [
         "a",
         "0.47197223503943814"
        ],
        [
         "b",
         "2.737768605868504"
        ],
        [
         "c",
         "0.39229849305898323"
        ],
        [
         "d",
         "4.03644407099932"
        ],
        [
         "e",
         "0.2852861283275583"
        ]
       ],
       "shape": {
        "columns": 1,
        "rows": 5
       }
      },
      "text/plain": [
       "a    0.471972\n",
       "b    2.737769\n",
       "c    0.392298\n",
       "d    4.036444\n",
       "e    0.285286\n",
       "dtype: float64"
      ]
     },
     "execution_count": 92,
     "metadata": {},
     "output_type": "execute_result"
    }
   ],
   "source": [
    "np.exp(s) # opertions on all elements of s"
   ]
  },
  {
   "cell_type": "code",
   "execution_count": 93,
   "id": "27bca9fa",
   "metadata": {},
   "outputs": [
    {
     "data": {
      "text/plain": [
       "dtype('float64')"
      ]
     },
     "execution_count": 93,
     "metadata": {},
     "output_type": "execute_result"
    }
   ],
   "source": [
    "s.dtype"
   ]
  },
  {
   "cell_type": "code",
   "execution_count": 94,
   "id": "c18c02b7",
   "metadata": {},
   "outputs": [
    {
     "data": {
      "text/plain": [
       "<NumpyExtensionArray>\n",
       "[np.float64(-0.7508351191957721),  np.float64(1.0071432111942888),\n",
       " np.float64(-0.9357322670715271),  np.float64(1.3953641239410899),\n",
       " np.float64(-1.2542626432992492)]\n",
       "Length: 5, dtype: float64"
      ]
     },
     "execution_count": 94,
     "metadata": {},
     "output_type": "execute_result"
    }
   ],
   "source": [
    "s.array # could get the array from a series\n",
    "# useful for operations without the index"
   ]
  },
  {
   "cell_type": "code",
   "execution_count": 95,
   "id": "cdc5558b",
   "metadata": {},
   "outputs": [
    {
     "data": {
      "text/plain": [
       "array([-0.75083512,  1.00714321, -0.93573227,  1.39536412, -1.25426264])"
      ]
     },
     "execution_count": 95,
     "metadata": {},
     "output_type": "execute_result"
    }
   ],
   "source": [
    "s.to_numpy() # to return a numpy ndarray"
   ]
  },
  {
   "cell_type": "code",
   "execution_count": 96,
   "id": "358aff36",
   "metadata": {},
   "outputs": [
    {
     "data": {
      "text/plain": [
       "np.float64(-0.7508351191957721)"
      ]
     },
     "execution_count": 96,
     "metadata": {},
     "output_type": "execute_result"
    }
   ],
   "source": [
    "s[\"a\"] # series is dict-like, could access with their index\n",
    "# if label is not in the index, then an exception will be raised."
   ]
  },
  {
   "cell_type": "code",
   "execution_count": 97,
   "id": "70600681",
   "metadata": {},
   "outputs": [
    {
     "data": {
      "application/vnd.microsoft.datawrangler.viewer.v0+json": {
       "columns": [
        {
         "name": "index",
         "rawType": "object",
         "type": "string"
        },
        {
         "name": "0",
         "rawType": "float64",
         "type": "float"
        }
       ],
       "ref": "64d8551c-f19e-4374-bd16-70b3c9112302",
       "rows": [
        [
         "a",
         "-0.7508351191957721"
        ],
        [
         "b",
         "1.0071432111942888"
        ],
        [
         "c",
         "-0.9357322670715271"
        ],
        [
         "d",
         "1.3953641239410899"
        ],
        [
         "e",
         "12.0"
        ]
       ],
       "shape": {
        "columns": 1,
        "rows": 5
       }
      },
      "text/plain": [
       "a    -0.750835\n",
       "b     1.007143\n",
       "c    -0.935732\n",
       "d     1.395364\n",
       "e    12.000000\n",
       "dtype: float64"
      ]
     },
     "execution_count": 97,
     "metadata": {},
     "output_type": "execute_result"
    }
   ],
   "source": [
    "s[\"e\"] = 12.0\n",
    "s"
   ]
  },
  {
   "cell_type": "code",
   "execution_count": 98,
   "id": "ac4e7c42",
   "metadata": {},
   "outputs": [
    {
     "data": {
      "text/plain": [
       "True"
      ]
     },
     "execution_count": 98,
     "metadata": {},
     "output_type": "execute_result"
    }
   ],
   "source": [
    "\"e\" in s"
   ]
  },
  {
   "cell_type": "code",
   "execution_count": 99,
   "id": "0d198bb8",
   "metadata": {},
   "outputs": [
    {
     "data": {
      "text/plain": [
       "False"
      ]
     },
     "execution_count": 99,
     "metadata": {},
     "output_type": "execute_result"
    }
   ],
   "source": [
    "\"f\" in s"
   ]
  },
  {
   "cell_type": "code",
   "execution_count": 100,
   "id": "75cdd948",
   "metadata": {},
   "outputs": [],
   "source": [
    "s.get(\"f\") # avoid an exception if \"f\" doesn't not exist"
   ]
  },
  {
   "cell_type": "code",
   "execution_count": 101,
   "id": "c99af5be",
   "metadata": {},
   "outputs": [
    {
     "data": {
      "text/plain": [
       "nan"
      ]
     },
     "execution_count": 101,
     "metadata": {},
     "output_type": "execute_result"
    }
   ],
   "source": [
    "s.get(\"f\", np.nan)"
   ]
  },
  {
   "cell_type": "markdown",
   "id": "ccc55df0",
   "metadata": {},
   "source": [
    "# Vectorized operations and labels alignment with Series\n",
    "- When working with raw numpy arrays, looping through value-by-value is usually not necessary. The same is true when workign with Series in pandas. Series can also be passed into most Numpy methods expecting an ndarray."
   ]
  },
  {
   "cell_type": "code",
   "execution_count": 102,
   "id": "ccaa3629",
   "metadata": {},
   "outputs": [
    {
     "data": {
      "application/vnd.microsoft.datawrangler.viewer.v0+json": {
       "columns": [
        {
         "name": "index",
         "rawType": "object",
         "type": "string"
        },
        {
         "name": "0",
         "rawType": "float64",
         "type": "float"
        }
       ],
       "ref": "85331d98-d00c-4a13-87c2-e4983f0f7060",
       "rows": [
        [
         "a",
         "-1.5016702383915441"
        ],
        [
         "b",
         "2.0142864223885777"
        ],
        [
         "c",
         "-1.8714645341430542"
        ],
        [
         "d",
         "2.7907282478821798"
        ],
        [
         "e",
         "24.0"
        ]
       ],
       "shape": {
        "columns": 1,
        "rows": 5
       }
      },
      "text/plain": [
       "a    -1.501670\n",
       "b     2.014286\n",
       "c    -1.871465\n",
       "d     2.790728\n",
       "e    24.000000\n",
       "dtype: float64"
      ]
     },
     "execution_count": 102,
     "metadata": {},
     "output_type": "execute_result"
    }
   ],
   "source": [
    "s + s"
   ]
  },
  {
   "cell_type": "code",
   "execution_count": 103,
   "id": "bbb323d0",
   "metadata": {},
   "outputs": [
    {
     "data": {
      "application/vnd.microsoft.datawrangler.viewer.v0+json": {
       "columns": [
        {
         "name": "index",
         "rawType": "object",
         "type": "string"
        },
        {
         "name": "0",
         "rawType": "float64",
         "type": "float"
        }
       ],
       "ref": "d64af7c3-425e-412b-967f-bd7c62152acc",
       "rows": [
        [
         "a",
         "-1.5016702383915441"
        ],
        [
         "b",
         "2.0142864223885777"
        ],
        [
         "c",
         "-1.8714645341430542"
        ],
        [
         "d",
         "2.7907282478821798"
        ],
        [
         "e",
         "24.0"
        ]
       ],
       "shape": {
        "columns": 1,
        "rows": 5
       }
      },
      "text/plain": [
       "a    -1.501670\n",
       "b     2.014286\n",
       "c    -1.871465\n",
       "d     2.790728\n",
       "e    24.000000\n",
       "dtype: float64"
      ]
     },
     "execution_count": 103,
     "metadata": {},
     "output_type": "execute_result"
    }
   ],
   "source": [
    "s * 2"
   ]
  },
  {
   "cell_type": "code",
   "execution_count": 104,
   "id": "a6083ef4",
   "metadata": {},
   "outputs": [
    {
     "data": {
      "application/vnd.microsoft.datawrangler.viewer.v0+json": {
       "columns": [
        {
         "name": "index",
         "rawType": "object",
         "type": "string"
        },
        {
         "name": "0",
         "rawType": "float64",
         "type": "float"
        }
       ],
       "ref": "4712f3a1-fba4-411c-bec9-087cd691f909",
       "rows": [
        [
         "a",
         "0.47197223503943814"
        ],
        [
         "b",
         "2.737768605868504"
        ],
        [
         "c",
         "0.39229849305898323"
        ],
        [
         "d",
         "4.03644407099932"
        ],
        [
         "e",
         "162754.79141900392"
        ]
       ],
       "shape": {
        "columns": 1,
        "rows": 5
       }
      },
      "text/plain": [
       "a         0.471972\n",
       "b         2.737769\n",
       "c         0.392298\n",
       "d         4.036444\n",
       "e    162754.791419\n",
       "dtype: float64"
      ]
     },
     "execution_count": 104,
     "metadata": {},
     "output_type": "execute_result"
    }
   ],
   "source": [
    "np.exp(s)"
   ]
  },
  {
   "cell_type": "markdown",
   "id": "46eea205",
   "metadata": {},
   "source": [
    "#### A key difference between Series and ndarray is that operations between Series automatically align the data based on labels. Thus, you can write computations without giving condiseration to whether the Series involved have the same labels."
   ]
  },
  {
   "cell_type": "code",
   "execution_count": 105,
   "id": "12b73f51",
   "metadata": {},
   "outputs": [
    {
     "data": {
      "application/vnd.microsoft.datawrangler.viewer.v0+json": {
       "columns": [
        {
         "name": "index",
         "rawType": "object",
         "type": "string"
        },
        {
         "name": "0",
         "rawType": "float64",
         "type": "float"
        }
       ],
       "ref": "753072cc-6962-4248-a069-db533bcfd0a3",
       "rows": [
        [
         "b",
         "1.0071432111942888"
        ],
        [
         "c",
         "-0.9357322670715271"
        ],
        [
         "d",
         "1.3953641239410899"
        ],
        [
         "e",
         "12.0"
        ]
       ],
       "shape": {
        "columns": 1,
        "rows": 4
       }
      },
      "text/plain": [
       "b     1.007143\n",
       "c    -0.935732\n",
       "d     1.395364\n",
       "e    12.000000\n",
       "dtype: float64"
      ]
     },
     "execution_count": 105,
     "metadata": {},
     "output_type": "execute_result"
    }
   ],
   "source": [
    "s.iloc[1:]"
   ]
  },
  {
   "cell_type": "code",
   "execution_count": 106,
   "id": "44bef844",
   "metadata": {},
   "outputs": [
    {
     "data": {
      "application/vnd.microsoft.datawrangler.viewer.v0+json": {
       "columns": [
        {
         "name": "index",
         "rawType": "object",
         "type": "string"
        },
        {
         "name": "0",
         "rawType": "float64",
         "type": "float"
        }
       ],
       "ref": "87acf2a7-2c7c-4b85-b37c-a1ce19611d4c",
       "rows": [
        [
         "a",
         "-0.7508351191957721"
        ],
        [
         "b",
         "1.0071432111942888"
        ],
        [
         "c",
         "-0.9357322670715271"
        ],
        [
         "d",
         "1.3953641239410899"
        ]
       ],
       "shape": {
        "columns": 1,
        "rows": 4
       }
      },
      "text/plain": [
       "a   -0.750835\n",
       "b    1.007143\n",
       "c   -0.935732\n",
       "d    1.395364\n",
       "dtype: float64"
      ]
     },
     "execution_count": 106,
     "metadata": {},
     "output_type": "execute_result"
    }
   ],
   "source": [
    "s.iloc[:-1]"
   ]
  },
  {
   "cell_type": "code",
   "execution_count": 107,
   "id": "c22cb5cf",
   "metadata": {},
   "outputs": [
    {
     "data": {
      "application/vnd.microsoft.datawrangler.viewer.v0+json": {
       "columns": [
        {
         "name": "index",
         "rawType": "object",
         "type": "string"
        },
        {
         "name": "0",
         "rawType": "float64",
         "type": "float"
        }
       ],
       "ref": "7d3234e0-9617-4202-9857-7c07894e0548",
       "rows": [
        [
         "a",
         null
        ],
        [
         "b",
         "2.0142864223885777"
        ],
        [
         "c",
         "-1.8714645341430542"
        ],
        [
         "d",
         "2.7907282478821798"
        ],
        [
         "e",
         null
        ]
       ],
       "shape": {
        "columns": 1,
        "rows": 5
       }
      },
      "text/plain": [
       "a         NaN\n",
       "b    2.014286\n",
       "c   -1.871465\n",
       "d    2.790728\n",
       "e         NaN\n",
       "dtype: float64"
      ]
     },
     "execution_count": 107,
     "metadata": {},
     "output_type": "execute_result"
    }
   ],
   "source": [
    "s.iloc[1:] + s.iloc[:-1] # same shape but different labels"
   ]
  },
  {
   "cell_type": "code",
   "execution_count": 108,
   "id": "d7063c05",
   "metadata": {},
   "outputs": [
    {
     "data": {
      "application/vnd.microsoft.datawrangler.viewer.v0+json": {
       "columns": [
        {
         "name": "index",
         "rawType": "object",
         "type": "string"
        },
        {
         "name": "0",
         "rawType": "float64",
         "type": "float"
        }
       ],
       "ref": "4df28d64-ddc2-4c5b-9ab0-f495ffd760bb",
       "rows": [
        [
         "a",
         null
        ],
        [
         "b",
         "2.0142864223885777"
        ],
        [
         "c",
         "-1.8714645341430542"
        ],
        [
         "d",
         null
        ],
        [
         "e",
         null
        ]
       ],
       "shape": {
        "columns": 1,
        "rows": 5
       }
      },
      "text/plain": [
       "a         NaN\n",
       "b    2.014286\n",
       "c   -1.871465\n",
       "d         NaN\n",
       "e         NaN\n",
       "dtype: float64"
      ]
     },
     "execution_count": 108,
     "metadata": {},
     "output_type": "execute_result"
    }
   ],
   "source": [
    "s.iloc[1:] + s.iloc[:-2] # the labels will align automatically"
   ]
  },
  {
   "cell_type": "markdown",
   "id": "5cbc484d",
   "metadata": {},
   "source": [
    "#### The result of an operation between unaligned Series will have the union of the indexes involved. If a label is not found in one Series or the other, the result will be marked as missing Nan. Being able to write code without doing any explicit data alignment grants immerse freedom and flexibility in interactive data analysis and research. The integerated data alignment features of the pands data structures set pandas apart from the majority of related tools for working with labeled data."
   ]
  },
  {
   "cell_type": "markdown",
   "id": "b9d9f498",
   "metadata": {},
   "source": [
    "# Name attribute\n",
    "- Series has name attribute\n",
    "- can be change with the rename() function"
   ]
  },
  {
   "cell_type": "code",
   "execution_count": 109,
   "id": "5aa2edbf",
   "metadata": {},
   "outputs": [
    {
     "data": {
      "text/plain": [
       "'something'"
      ]
     },
     "execution_count": 109,
     "metadata": {},
     "output_type": "execute_result"
    }
   ],
   "source": [
    "s = pd.Series(np.random.randn(5), name=\"something\")\n",
    "s.name"
   ]
  },
  {
   "cell_type": "code",
   "execution_count": 110,
   "id": "3a28c53d",
   "metadata": {},
   "outputs": [
    {
     "data": {
      "text/plain": [
       "'different'"
      ]
     },
     "execution_count": 110,
     "metadata": {},
     "output_type": "execute_result"
    }
   ],
   "source": [
    "s = s.rename(\"different\")\n",
    "s.name"
   ]
  },
  {
   "cell_type": "markdown",
   "id": "b99dbb66",
   "metadata": {},
   "source": [
    "# DataFrame\n",
    "- 2-dimensional labled data structure with columns of potentially different types. Think like a spreadsheet or SQL table, or a dict of Series objects. It is generally the most commmonly used pandas object. Like Series, DataFrame accepts many different kinds of input:\n",
    "    - Dict of 1D ndarrays, lists, dicts, or Series\n",
    "    - 2-D numpy.ndarray\n",
    "    - A Series\n",
    "    - Another DataFrame\n",
    "- Along the data you can optionally pass **index** (row labels) and **columns** (column labels) arguments. If you pass an index and / or columns, you are guaranteeing the index and / or columns of the resulting DataFrame. Thus, a dict of Series plus a specific index will discard all data not matching up to the passed index. If the axis labels are not passed, they wil be constructed from the input data based on common sense rules."
   ]
  },
  {
   "cell_type": "code",
   "execution_count": 111,
   "id": "cbe8e468",
   "metadata": {},
   "outputs": [
    {
     "data": {
      "application/vnd.microsoft.datawrangler.viewer.v0+json": {
       "columns": [
        {
         "name": "index",
         "rawType": "object",
         "type": "string"
        },
        {
         "name": "one",
         "rawType": "float64",
         "type": "float"
        },
        {
         "name": "two",
         "rawType": "float64",
         "type": "float"
        }
       ],
       "ref": "4fc68ad1-fed0-43ba-bd46-dc91232ae5b2",
       "rows": [
        [
         "a",
         "1.0",
         "1.0"
        ],
        [
         "b",
         "2.0",
         "2.0"
        ],
        [
         "c",
         "3.0",
         "3.0"
        ],
        [
         "d",
         null,
         "4.0"
        ]
       ],
       "shape": {
        "columns": 2,
        "rows": 4
       }
      },
      "text/html": [
       "<div>\n",
       "<style scoped>\n",
       "    .dataframe tbody tr th:only-of-type {\n",
       "        vertical-align: middle;\n",
       "    }\n",
       "\n",
       "    .dataframe tbody tr th {\n",
       "        vertical-align: top;\n",
       "    }\n",
       "\n",
       "    .dataframe thead th {\n",
       "        text-align: right;\n",
       "    }\n",
       "</style>\n",
       "<table border=\"1\" class=\"dataframe\">\n",
       "  <thead>\n",
       "    <tr style=\"text-align: right;\">\n",
       "      <th></th>\n",
       "      <th>one</th>\n",
       "      <th>two</th>\n",
       "    </tr>\n",
       "  </thead>\n",
       "  <tbody>\n",
       "    <tr>\n",
       "      <th>a</th>\n",
       "      <td>1.0</td>\n",
       "      <td>1.0</td>\n",
       "    </tr>\n",
       "    <tr>\n",
       "      <th>b</th>\n",
       "      <td>2.0</td>\n",
       "      <td>2.0</td>\n",
       "    </tr>\n",
       "    <tr>\n",
       "      <th>c</th>\n",
       "      <td>3.0</td>\n",
       "      <td>3.0</td>\n",
       "    </tr>\n",
       "    <tr>\n",
       "      <th>d</th>\n",
       "      <td>NaN</td>\n",
       "      <td>4.0</td>\n",
       "    </tr>\n",
       "  </tbody>\n",
       "</table>\n",
       "</div>"
      ],
      "text/plain": [
       "   one  two\n",
       "a  1.0  1.0\n",
       "b  2.0  2.0\n",
       "c  3.0  3.0\n",
       "d  NaN  4.0"
      ]
     },
     "execution_count": 111,
     "metadata": {},
     "output_type": "execute_result"
    }
   ],
   "source": [
    "# From dict of Series or dicts\n",
    "d = {\n",
    "    \"one\": pd.Series([1.0, 2.0, 3.0], index=[\"a\", \"b\", \"c\"]),\n",
    "    \"two\": pd.Series([1.0, 2.0, 3.0, 4.0], index=[\"a\", \"b\", \"c\", \"d\"])\n",
    "}\n",
    "df = pd.DataFrame(d)\n",
    "df"
   ]
  },
  {
   "cell_type": "code",
   "execution_count": 112,
   "id": "e2f20d27",
   "metadata": {},
   "outputs": [
    {
     "data": {
      "application/vnd.microsoft.datawrangler.viewer.v0+json": {
       "columns": [
        {
         "name": "index",
         "rawType": "object",
         "type": "string"
        },
        {
         "name": "one",
         "rawType": "float64",
         "type": "float"
        },
        {
         "name": "two",
         "rawType": "float64",
         "type": "float"
        }
       ],
       "ref": "e82add4c-daf0-4d54-ba4b-69a34ebe2226",
       "rows": [
        [
         "d",
         null,
         "4.0"
        ],
        [
         "b",
         "2.0",
         "2.0"
        ],
        [
         "a",
         "1.0",
         "1.0"
        ]
       ],
       "shape": {
        "columns": 2,
        "rows": 3
       }
      },
      "text/html": [
       "<div>\n",
       "<style scoped>\n",
       "    .dataframe tbody tr th:only-of-type {\n",
       "        vertical-align: middle;\n",
       "    }\n",
       "\n",
       "    .dataframe tbody tr th {\n",
       "        vertical-align: top;\n",
       "    }\n",
       "\n",
       "    .dataframe thead th {\n",
       "        text-align: right;\n",
       "    }\n",
       "</style>\n",
       "<table border=\"1\" class=\"dataframe\">\n",
       "  <thead>\n",
       "    <tr style=\"text-align: right;\">\n",
       "      <th></th>\n",
       "      <th>one</th>\n",
       "      <th>two</th>\n",
       "    </tr>\n",
       "  </thead>\n",
       "  <tbody>\n",
       "    <tr>\n",
       "      <th>d</th>\n",
       "      <td>NaN</td>\n",
       "      <td>4.0</td>\n",
       "    </tr>\n",
       "    <tr>\n",
       "      <th>b</th>\n",
       "      <td>2.0</td>\n",
       "      <td>2.0</td>\n",
       "    </tr>\n",
       "    <tr>\n",
       "      <th>a</th>\n",
       "      <td>1.0</td>\n",
       "      <td>1.0</td>\n",
       "    </tr>\n",
       "  </tbody>\n",
       "</table>\n",
       "</div>"
      ],
      "text/plain": [
       "   one  two\n",
       "d  NaN  4.0\n",
       "b  2.0  2.0\n",
       "a  1.0  1.0"
      ]
     },
     "execution_count": 112,
     "metadata": {},
     "output_type": "execute_result"
    }
   ],
   "source": [
    "pd.DataFrame(d, index=[\"d\", \"b\", \"a\"])\n"
   ]
  },
  {
   "cell_type": "code",
   "execution_count": 113,
   "id": "81384036",
   "metadata": {},
   "outputs": [
    {
     "data": {
      "application/vnd.microsoft.datawrangler.viewer.v0+json": {
       "columns": [
        {
         "name": "index",
         "rawType": "object",
         "type": "string"
        },
        {
         "name": "two",
         "rawType": "float64",
         "type": "float"
        },
        {
         "name": "three",
         "rawType": "object",
         "type": "unknown"
        }
       ],
       "ref": "be358fd9-08f9-4579-b7cc-7f9366f20bac",
       "rows": [
        [
         "d",
         "4.0",
         null
        ],
        [
         "b",
         "2.0",
         null
        ],
        [
         "a",
         "1.0",
         null
        ]
       ],
       "shape": {
        "columns": 2,
        "rows": 3
       }
      },
      "text/html": [
       "<div>\n",
       "<style scoped>\n",
       "    .dataframe tbody tr th:only-of-type {\n",
       "        vertical-align: middle;\n",
       "    }\n",
       "\n",
       "    .dataframe tbody tr th {\n",
       "        vertical-align: top;\n",
       "    }\n",
       "\n",
       "    .dataframe thead th {\n",
       "        text-align: right;\n",
       "    }\n",
       "</style>\n",
       "<table border=\"1\" class=\"dataframe\">\n",
       "  <thead>\n",
       "    <tr style=\"text-align: right;\">\n",
       "      <th></th>\n",
       "      <th>two</th>\n",
       "      <th>three</th>\n",
       "    </tr>\n",
       "  </thead>\n",
       "  <tbody>\n",
       "    <tr>\n",
       "      <th>d</th>\n",
       "      <td>4.0</td>\n",
       "      <td>NaN</td>\n",
       "    </tr>\n",
       "    <tr>\n",
       "      <th>b</th>\n",
       "      <td>2.0</td>\n",
       "      <td>NaN</td>\n",
       "    </tr>\n",
       "    <tr>\n",
       "      <th>a</th>\n",
       "      <td>1.0</td>\n",
       "      <td>NaN</td>\n",
       "    </tr>\n",
       "  </tbody>\n",
       "</table>\n",
       "</div>"
      ],
      "text/plain": [
       "   two three\n",
       "d  4.0   NaN\n",
       "b  2.0   NaN\n",
       "a  1.0   NaN"
      ]
     },
     "execution_count": 113,
     "metadata": {},
     "output_type": "execute_result"
    }
   ],
   "source": [
    "pd.DataFrame(d, index=[\"d\", \"b\", \"a\"], columns=[\"two\", \"three\"])"
   ]
  },
  {
   "cell_type": "code",
   "execution_count": 114,
   "id": "ff305e0f",
   "metadata": {},
   "outputs": [
    {
     "data": {
      "text/plain": [
       "Index(['a', 'b', 'c', 'd'], dtype='object')"
      ]
     },
     "execution_count": 114,
     "metadata": {},
     "output_type": "execute_result"
    }
   ],
   "source": [
    "df.index"
   ]
  },
  {
   "cell_type": "code",
   "execution_count": 115,
   "id": "5a966818",
   "metadata": {},
   "outputs": [
    {
     "data": {
      "text/plain": [
       "Index(['one', 'two'], dtype='object')"
      ]
     },
     "execution_count": 115,
     "metadata": {},
     "output_type": "execute_result"
    }
   ],
   "source": [
    "df.columns"
   ]
  },
  {
   "cell_type": "markdown",
   "id": "88318722",
   "metadata": {},
   "source": [
    "#### From dict of ndarrays / lists\n",
    "- all ndarrays must share the same length. If an index is passed, it must also be the same length as the arrays. If no index is passed, the result will be range(n), where n is the array length"
   ]
  },
  {
   "cell_type": "code",
   "execution_count": 116,
   "id": "1eb0a1ca",
   "metadata": {},
   "outputs": [
    {
     "data": {
      "application/vnd.microsoft.datawrangler.viewer.v0+json": {
       "columns": [
        {
         "name": "index",
         "rawType": "int64",
         "type": "integer"
        },
        {
         "name": "one",
         "rawType": "float64",
         "type": "float"
        },
        {
         "name": "two",
         "rawType": "float64",
         "type": "float"
        }
       ],
       "ref": "cd1ac328-b2ff-456c-b1b4-c23b2f2b37a1",
       "rows": [
        [
         "0",
         "1.0",
         "4.0"
        ],
        [
         "1",
         "2.0",
         "3.0"
        ],
        [
         "2",
         "3.0",
         "2.0"
        ],
        [
         "3",
         "4.0",
         "1.0"
        ]
       ],
       "shape": {
        "columns": 2,
        "rows": 4
       }
      },
      "text/html": [
       "<div>\n",
       "<style scoped>\n",
       "    .dataframe tbody tr th:only-of-type {\n",
       "        vertical-align: middle;\n",
       "    }\n",
       "\n",
       "    .dataframe tbody tr th {\n",
       "        vertical-align: top;\n",
       "    }\n",
       "\n",
       "    .dataframe thead th {\n",
       "        text-align: right;\n",
       "    }\n",
       "</style>\n",
       "<table border=\"1\" class=\"dataframe\">\n",
       "  <thead>\n",
       "    <tr style=\"text-align: right;\">\n",
       "      <th></th>\n",
       "      <th>one</th>\n",
       "      <th>two</th>\n",
       "    </tr>\n",
       "  </thead>\n",
       "  <tbody>\n",
       "    <tr>\n",
       "      <th>0</th>\n",
       "      <td>1.0</td>\n",
       "      <td>4.0</td>\n",
       "    </tr>\n",
       "    <tr>\n",
       "      <th>1</th>\n",
       "      <td>2.0</td>\n",
       "      <td>3.0</td>\n",
       "    </tr>\n",
       "    <tr>\n",
       "      <th>2</th>\n",
       "      <td>3.0</td>\n",
       "      <td>2.0</td>\n",
       "    </tr>\n",
       "    <tr>\n",
       "      <th>3</th>\n",
       "      <td>4.0</td>\n",
       "      <td>1.0</td>\n",
       "    </tr>\n",
       "  </tbody>\n",
       "</table>\n",
       "</div>"
      ],
      "text/plain": [
       "   one  two\n",
       "0  1.0  4.0\n",
       "1  2.0  3.0\n",
       "2  3.0  2.0\n",
       "3  4.0  1.0"
      ]
     },
     "execution_count": 116,
     "metadata": {},
     "output_type": "execute_result"
    }
   ],
   "source": [
    "d = { \"one\": [1.0, 2.0, 3.0, 4.0], \"two\": [4.0, 3.0, 2.0, 1.0]}\n",
    "pd.DataFrame(d)"
   ]
  },
  {
   "cell_type": "markdown",
   "id": "44b2be18",
   "metadata": {},
   "source": [
    "#### From structured or record array\n",
    "- this case is hanlded identically to a dict of arrays.\n",
    "\n",
    "#### Note: DataFrame is not intended to work exactly like a 2-dimensional NumPy ndarray."
   ]
  },
  {
   "cell_type": "code",
   "execution_count": 117,
   "id": "c0c57f68",
   "metadata": {},
   "outputs": [
    {
     "data": {
      "application/vnd.microsoft.datawrangler.viewer.v0+json": {
       "columns": [
        {
         "name": "index",
         "rawType": "int64",
         "type": "integer"
        },
        {
         "name": "A",
         "rawType": "int32",
         "type": "integer"
        },
        {
         "name": "B",
         "rawType": "float32",
         "type": "float"
        },
        {
         "name": "C",
         "rawType": "object",
         "type": "unknown"
        }
       ],
       "ref": "ac82ab4e-614b-484f-b654-62b825e9f0f1",
       "rows": [
        [
         "0",
         "1",
         "2.0",
         "b'Hello'"
        ],
        [
         "1",
         "2",
         "3.0",
         "b'World'"
        ]
       ],
       "shape": {
        "columns": 3,
        "rows": 2
       }
      },
      "text/html": [
       "<div>\n",
       "<style scoped>\n",
       "    .dataframe tbody tr th:only-of-type {\n",
       "        vertical-align: middle;\n",
       "    }\n",
       "\n",
       "    .dataframe tbody tr th {\n",
       "        vertical-align: top;\n",
       "    }\n",
       "\n",
       "    .dataframe thead th {\n",
       "        text-align: right;\n",
       "    }\n",
       "</style>\n",
       "<table border=\"1\" class=\"dataframe\">\n",
       "  <thead>\n",
       "    <tr style=\"text-align: right;\">\n",
       "      <th></th>\n",
       "      <th>A</th>\n",
       "      <th>B</th>\n",
       "      <th>C</th>\n",
       "    </tr>\n",
       "  </thead>\n",
       "  <tbody>\n",
       "    <tr>\n",
       "      <th>0</th>\n",
       "      <td>1</td>\n",
       "      <td>2.0</td>\n",
       "      <td>b'Hello'</td>\n",
       "    </tr>\n",
       "    <tr>\n",
       "      <th>1</th>\n",
       "      <td>2</td>\n",
       "      <td>3.0</td>\n",
       "      <td>b'World'</td>\n",
       "    </tr>\n",
       "  </tbody>\n",
       "</table>\n",
       "</div>"
      ],
      "text/plain": [
       "   A    B         C\n",
       "0  1  2.0  b'Hello'\n",
       "1  2  3.0  b'World'"
      ]
     },
     "execution_count": 117,
     "metadata": {},
     "output_type": "execute_result"
    }
   ],
   "source": [
    "data = np.zeros((2,), dtype=[(\"A\", \"i4\"), (\"B\", \"f4\"), (\"C\", \"S10\")]) # dtype alias \"a\" is deprecated use \"S\" instead\n",
    "data[:] = [(1, 2.0, \"Hello\"), (2, 3.0, \"World\")]\n",
    "pd.DataFrame(data)"
   ]
  },
  {
   "cell_type": "code",
   "execution_count": 118,
   "id": "e88d7614",
   "metadata": {},
   "outputs": [
    {
     "data": {
      "application/vnd.microsoft.datawrangler.viewer.v0+json": {
       "columns": [
        {
         "name": "index",
         "rawType": "object",
         "type": "string"
        },
        {
         "name": "A",
         "rawType": "int32",
         "type": "integer"
        },
        {
         "name": "B",
         "rawType": "float32",
         "type": "float"
        },
        {
         "name": "C",
         "rawType": "object",
         "type": "unknown"
        }
       ],
       "ref": "106e92f4-b0f4-42c5-b431-1ae0aa999011",
       "rows": [
        [
         "first",
         "1",
         "2.0",
         "b'Hello'"
        ],
        [
         "second",
         "2",
         "3.0",
         "b'World'"
        ]
       ],
       "shape": {
        "columns": 3,
        "rows": 2
       }
      },
      "text/html": [
       "<div>\n",
       "<style scoped>\n",
       "    .dataframe tbody tr th:only-of-type {\n",
       "        vertical-align: middle;\n",
       "    }\n",
       "\n",
       "    .dataframe tbody tr th {\n",
       "        vertical-align: top;\n",
       "    }\n",
       "\n",
       "    .dataframe thead th {\n",
       "        text-align: right;\n",
       "    }\n",
       "</style>\n",
       "<table border=\"1\" class=\"dataframe\">\n",
       "  <thead>\n",
       "    <tr style=\"text-align: right;\">\n",
       "      <th></th>\n",
       "      <th>A</th>\n",
       "      <th>B</th>\n",
       "      <th>C</th>\n",
       "    </tr>\n",
       "  </thead>\n",
       "  <tbody>\n",
       "    <tr>\n",
       "      <th>first</th>\n",
       "      <td>1</td>\n",
       "      <td>2.0</td>\n",
       "      <td>b'Hello'</td>\n",
       "    </tr>\n",
       "    <tr>\n",
       "      <th>second</th>\n",
       "      <td>2</td>\n",
       "      <td>3.0</td>\n",
       "      <td>b'World'</td>\n",
       "    </tr>\n",
       "  </tbody>\n",
       "</table>\n",
       "</div>"
      ],
      "text/plain": [
       "        A    B         C\n",
       "first   1  2.0  b'Hello'\n",
       "second  2  3.0  b'World'"
      ]
     },
     "execution_count": 118,
     "metadata": {},
     "output_type": "execute_result"
    }
   ],
   "source": [
    "pd.DataFrame(data, index=[\"first\", \"second\"])"
   ]
  },
  {
   "cell_type": "code",
   "execution_count": 119,
   "id": "d2200d09",
   "metadata": {},
   "outputs": [
    {
     "data": {
      "application/vnd.microsoft.datawrangler.viewer.v0+json": {
       "columns": [
        {
         "name": "index",
         "rawType": "int64",
         "type": "integer"
        },
        {
         "name": "C",
         "rawType": "object",
         "type": "unknown"
        },
        {
         "name": "A",
         "rawType": "int32",
         "type": "integer"
        },
        {
         "name": "B",
         "rawType": "float32",
         "type": "float"
        }
       ],
       "ref": "0a7340a5-946c-4870-b3d5-9c1be4c21954",
       "rows": [
        [
         "0",
         "b'Hello'",
         "1",
         "2.0"
        ],
        [
         "1",
         "b'World'",
         "2",
         "3.0"
        ]
       ],
       "shape": {
        "columns": 3,
        "rows": 2
       }
      },
      "text/html": [
       "<div>\n",
       "<style scoped>\n",
       "    .dataframe tbody tr th:only-of-type {\n",
       "        vertical-align: middle;\n",
       "    }\n",
       "\n",
       "    .dataframe tbody tr th {\n",
       "        vertical-align: top;\n",
       "    }\n",
       "\n",
       "    .dataframe thead th {\n",
       "        text-align: right;\n",
       "    }\n",
       "</style>\n",
       "<table border=\"1\" class=\"dataframe\">\n",
       "  <thead>\n",
       "    <tr style=\"text-align: right;\">\n",
       "      <th></th>\n",
       "      <th>C</th>\n",
       "      <th>A</th>\n",
       "      <th>B</th>\n",
       "    </tr>\n",
       "  </thead>\n",
       "  <tbody>\n",
       "    <tr>\n",
       "      <th>0</th>\n",
       "      <td>b'Hello'</td>\n",
       "      <td>1</td>\n",
       "      <td>2.0</td>\n",
       "    </tr>\n",
       "    <tr>\n",
       "      <th>1</th>\n",
       "      <td>b'World'</td>\n",
       "      <td>2</td>\n",
       "      <td>3.0</td>\n",
       "    </tr>\n",
       "  </tbody>\n",
       "</table>\n",
       "</div>"
      ],
      "text/plain": [
       "          C  A    B\n",
       "0  b'Hello'  1  2.0\n",
       "1  b'World'  2  3.0"
      ]
     },
     "execution_count": 119,
     "metadata": {},
     "output_type": "execute_result"
    }
   ],
   "source": [
    "pd.DataFrame(data, columns=[\"C\", \"A\", \"B\"])"
   ]
  },
  {
   "cell_type": "markdown",
   "id": "17fe82fb",
   "metadata": {},
   "source": [
    "#### From a list of dicts"
   ]
  },
  {
   "cell_type": "code",
   "execution_count": 120,
   "id": "ed757d0e",
   "metadata": {},
   "outputs": [
    {
     "data": {
      "application/vnd.microsoft.datawrangler.viewer.v0+json": {
       "columns": [
        {
         "name": "index",
         "rawType": "int64",
         "type": "integer"
        },
        {
         "name": "a",
         "rawType": "int64",
         "type": "integer"
        },
        {
         "name": "b",
         "rawType": "int64",
         "type": "integer"
        },
        {
         "name": "c",
         "rawType": "float64",
         "type": "float"
        }
       ],
       "ref": "13429d60-b697-4d59-a88d-78ffe3eeec56",
       "rows": [
        [
         "0",
         "1",
         "2",
         null
        ],
        [
         "1",
         "5",
         "10",
         "20.0"
        ]
       ],
       "shape": {
        "columns": 3,
        "rows": 2
       }
      },
      "text/html": [
       "<div>\n",
       "<style scoped>\n",
       "    .dataframe tbody tr th:only-of-type {\n",
       "        vertical-align: middle;\n",
       "    }\n",
       "\n",
       "    .dataframe tbody tr th {\n",
       "        vertical-align: top;\n",
       "    }\n",
       "\n",
       "    .dataframe thead th {\n",
       "        text-align: right;\n",
       "    }\n",
       "</style>\n",
       "<table border=\"1\" class=\"dataframe\">\n",
       "  <thead>\n",
       "    <tr style=\"text-align: right;\">\n",
       "      <th></th>\n",
       "      <th>a</th>\n",
       "      <th>b</th>\n",
       "      <th>c</th>\n",
       "    </tr>\n",
       "  </thead>\n",
       "  <tbody>\n",
       "    <tr>\n",
       "      <th>0</th>\n",
       "      <td>1</td>\n",
       "      <td>2</td>\n",
       "      <td>NaN</td>\n",
       "    </tr>\n",
       "    <tr>\n",
       "      <th>1</th>\n",
       "      <td>5</td>\n",
       "      <td>10</td>\n",
       "      <td>20.0</td>\n",
       "    </tr>\n",
       "  </tbody>\n",
       "</table>\n",
       "</div>"
      ],
      "text/plain": [
       "   a   b     c\n",
       "0  1   2   NaN\n",
       "1  5  10  20.0"
      ]
     },
     "execution_count": 120,
     "metadata": {},
     "output_type": "execute_result"
    }
   ],
   "source": [
    "data2 = [{\"a\": 1, \"b\": 2}, {\"a\": 5, \"b\": 10, \"c\": 20}] # keys become columns name and values become entry as row\n",
    "pd.DataFrame(data2)"
   ]
  },
  {
   "cell_type": "code",
   "execution_count": 121,
   "id": "b0b82e7d",
   "metadata": {},
   "outputs": [
    {
     "data": {
      "application/vnd.microsoft.datawrangler.viewer.v0+json": {
       "columns": [
        {
         "name": "index",
         "rawType": "object",
         "type": "string"
        },
        {
         "name": "a",
         "rawType": "int64",
         "type": "integer"
        },
        {
         "name": "b",
         "rawType": "int64",
         "type": "integer"
        },
        {
         "name": "c",
         "rawType": "float64",
         "type": "float"
        }
       ],
       "ref": "fc1e51db-d6b5-41dc-a4a0-bb9753754f9e",
       "rows": [
        [
         "first",
         "1",
         "2",
         null
        ],
        [
         "second",
         "5",
         "10",
         "20.0"
        ]
       ],
       "shape": {
        "columns": 3,
        "rows": 2
       }
      },
      "text/html": [
       "<div>\n",
       "<style scoped>\n",
       "    .dataframe tbody tr th:only-of-type {\n",
       "        vertical-align: middle;\n",
       "    }\n",
       "\n",
       "    .dataframe tbody tr th {\n",
       "        vertical-align: top;\n",
       "    }\n",
       "\n",
       "    .dataframe thead th {\n",
       "        text-align: right;\n",
       "    }\n",
       "</style>\n",
       "<table border=\"1\" class=\"dataframe\">\n",
       "  <thead>\n",
       "    <tr style=\"text-align: right;\">\n",
       "      <th></th>\n",
       "      <th>a</th>\n",
       "      <th>b</th>\n",
       "      <th>c</th>\n",
       "    </tr>\n",
       "  </thead>\n",
       "  <tbody>\n",
       "    <tr>\n",
       "      <th>first</th>\n",
       "      <td>1</td>\n",
       "      <td>2</td>\n",
       "      <td>NaN</td>\n",
       "    </tr>\n",
       "    <tr>\n",
       "      <th>second</th>\n",
       "      <td>5</td>\n",
       "      <td>10</td>\n",
       "      <td>20.0</td>\n",
       "    </tr>\n",
       "  </tbody>\n",
       "</table>\n",
       "</div>"
      ],
      "text/plain": [
       "        a   b     c\n",
       "first   1   2   NaN\n",
       "second  5  10  20.0"
      ]
     },
     "execution_count": 121,
     "metadata": {},
     "output_type": "execute_result"
    }
   ],
   "source": [
    "pd.DataFrame(data2, index=[\"first\", \"second\"]) # passing the index will create an index"
   ]
  },
  {
   "cell_type": "code",
   "execution_count": 122,
   "id": "40c3849f",
   "metadata": {},
   "outputs": [
    {
     "data": {
      "application/vnd.microsoft.datawrangler.viewer.v0+json": {
       "columns": [
        {
         "name": "index",
         "rawType": "int64",
         "type": "integer"
        },
        {
         "name": "a",
         "rawType": "int64",
         "type": "integer"
        },
        {
         "name": "b",
         "rawType": "int64",
         "type": "integer"
        }
       ],
       "ref": "d7b9d190-cf72-43d1-bb93-3f508d09bad9",
       "rows": [
        [
         "0",
         "1",
         "2"
        ],
        [
         "1",
         "5",
         "10"
        ]
       ],
       "shape": {
        "columns": 2,
        "rows": 2
       }
      },
      "text/html": [
       "<div>\n",
       "<style scoped>\n",
       "    .dataframe tbody tr th:only-of-type {\n",
       "        vertical-align: middle;\n",
       "    }\n",
       "\n",
       "    .dataframe tbody tr th {\n",
       "        vertical-align: top;\n",
       "    }\n",
       "\n",
       "    .dataframe thead th {\n",
       "        text-align: right;\n",
       "    }\n",
       "</style>\n",
       "<table border=\"1\" class=\"dataframe\">\n",
       "  <thead>\n",
       "    <tr style=\"text-align: right;\">\n",
       "      <th></th>\n",
       "      <th>a</th>\n",
       "      <th>b</th>\n",
       "    </tr>\n",
       "  </thead>\n",
       "  <tbody>\n",
       "    <tr>\n",
       "      <th>0</th>\n",
       "      <td>1</td>\n",
       "      <td>2</td>\n",
       "    </tr>\n",
       "    <tr>\n",
       "      <th>1</th>\n",
       "      <td>5</td>\n",
       "      <td>10</td>\n",
       "    </tr>\n",
       "  </tbody>\n",
       "</table>\n",
       "</div>"
      ],
      "text/plain": [
       "   a   b\n",
       "0  1   2\n",
       "1  5  10"
      ]
     },
     "execution_count": 122,
     "metadata": {},
     "output_type": "execute_result"
    }
   ],
   "source": [
    "pd.DataFrame(data2, columns=[\"a\", \"b\"]) # padding the columns will only create those columns"
   ]
  },
  {
   "cell_type": "markdown",
   "id": "03b82456",
   "metadata": {},
   "source": [
    "#### From a dict of tuples\n",
    "- can automatically create a MultiIndexed frame by passing a tuples dictionary"
   ]
  },
  {
   "cell_type": "code",
   "execution_count": 123,
   "id": "2c02a34b",
   "metadata": {},
   "outputs": [
    {
     "data": {
      "application/vnd.microsoft.datawrangler.viewer.v0+json": {
       "columns": [
        {
         "name": "(None, None)",
         "rawType": "object",
         "type": "unknown"
        },
        {
         "name": "('a', 'b')",
         "rawType": "float64",
         "type": "float"
        },
        {
         "name": "('a', 'a')",
         "rawType": "float64",
         "type": "float"
        },
        {
         "name": "('a', 'c')",
         "rawType": "float64",
         "type": "float"
        },
        {
         "name": "('b', 'a')",
         "rawType": "float64",
         "type": "float"
        },
        {
         "name": "('b', 'b')",
         "rawType": "float64",
         "type": "float"
        }
       ],
       "ref": "2804f95c-3d58-4f25-8ffa-e46011466c33",
       "rows": [
        [
         "('A', 'B')",
         "1.0",
         "4.0",
         "5.0",
         "8.0",
         "10.0"
        ],
        [
         "('A', 'C')",
         "2.0",
         "3.0",
         "6.0",
         "7.0",
         null
        ],
        [
         "('A', 'D')",
         null,
         null,
         null,
         null,
         "9.0"
        ]
       ],
       "shape": {
        "columns": 5,
        "rows": 3
       }
      },
      "text/html": [
       "<div>\n",
       "<style scoped>\n",
       "    .dataframe tbody tr th:only-of-type {\n",
       "        vertical-align: middle;\n",
       "    }\n",
       "\n",
       "    .dataframe tbody tr th {\n",
       "        vertical-align: top;\n",
       "    }\n",
       "\n",
       "    .dataframe thead tr th {\n",
       "        text-align: left;\n",
       "    }\n",
       "</style>\n",
       "<table border=\"1\" class=\"dataframe\">\n",
       "  <thead>\n",
       "    <tr>\n",
       "      <th></th>\n",
       "      <th></th>\n",
       "      <th colspan=\"3\" halign=\"left\">a</th>\n",
       "      <th colspan=\"2\" halign=\"left\">b</th>\n",
       "    </tr>\n",
       "    <tr>\n",
       "      <th></th>\n",
       "      <th></th>\n",
       "      <th>b</th>\n",
       "      <th>a</th>\n",
       "      <th>c</th>\n",
       "      <th>a</th>\n",
       "      <th>b</th>\n",
       "    </tr>\n",
       "  </thead>\n",
       "  <tbody>\n",
       "    <tr>\n",
       "      <th rowspan=\"3\" valign=\"top\">A</th>\n",
       "      <th>B</th>\n",
       "      <td>1.0</td>\n",
       "      <td>4.0</td>\n",
       "      <td>5.0</td>\n",
       "      <td>8.0</td>\n",
       "      <td>10.0</td>\n",
       "    </tr>\n",
       "    <tr>\n",
       "      <th>C</th>\n",
       "      <td>2.0</td>\n",
       "      <td>3.0</td>\n",
       "      <td>6.0</td>\n",
       "      <td>7.0</td>\n",
       "      <td>NaN</td>\n",
       "    </tr>\n",
       "    <tr>\n",
       "      <th>D</th>\n",
       "      <td>NaN</td>\n",
       "      <td>NaN</td>\n",
       "      <td>NaN</td>\n",
       "      <td>NaN</td>\n",
       "      <td>9.0</td>\n",
       "    </tr>\n",
       "  </tbody>\n",
       "</table>\n",
       "</div>"
      ],
      "text/plain": [
       "       a              b      \n",
       "       b    a    c    a     b\n",
       "A B  1.0  4.0  5.0  8.0  10.0\n",
       "  C  2.0  3.0  6.0  7.0   NaN\n",
       "  D  NaN  NaN  NaN  NaN   9.0"
      ]
     },
     "execution_count": 123,
     "metadata": {},
     "output_type": "execute_result"
    }
   ],
   "source": [
    "pd.DataFrame(\n",
    "    {\n",
    "        (\"a\", \"b\"): {(\"A\", \"B\"): 1, (\"A\", \"C\"): 2},\n",
    "        (\"a\", \"a\"): {(\"A\", \"C\"): 3, (\"A\", \"B\"): 4},\n",
    "        (\"a\", \"c\"): {(\"A\", \"B\"): 5, (\"A\", \"C\"): 6},\n",
    "        (\"b\", \"a\"): {(\"A\", \"C\"): 7, (\"A\", \"B\"): 8},\n",
    "        (\"b\", \"b\"): {(\"A\", \"D\"): 9, (\"A\", \"B\"): 10}\n",
    "    }\n",
    ")"
   ]
  },
  {
   "cell_type": "markdown",
   "id": "6ffcae45",
   "metadata": {},
   "source": [
    "#### From a Series\n",
    "- the result will be a DataFrame with the same index as the input Series, and with one column whose name is the original name of the Series (only if no other column name provided)."
   ]
  },
  {
   "cell_type": "code",
   "execution_count": 124,
   "id": "4cf9aab6",
   "metadata": {},
   "outputs": [
    {
     "data": {
      "application/vnd.microsoft.datawrangler.viewer.v0+json": {
       "columns": [
        {
         "name": "index",
         "rawType": "object",
         "type": "string"
        },
        {
         "name": "ser",
         "rawType": "int64",
         "type": "integer"
        }
       ],
       "ref": "f547ed14-b3ff-48ba-8a41-293a95d000fe",
       "rows": [
        [
         "a",
         "0"
        ],
        [
         "b",
         "1"
        ],
        [
         "c",
         "2"
        ]
       ],
       "shape": {
        "columns": 1,
        "rows": 3
       }
      },
      "text/html": [
       "<div>\n",
       "<style scoped>\n",
       "    .dataframe tbody tr th:only-of-type {\n",
       "        vertical-align: middle;\n",
       "    }\n",
       "\n",
       "    .dataframe tbody tr th {\n",
       "        vertical-align: top;\n",
       "    }\n",
       "\n",
       "    .dataframe thead th {\n",
       "        text-align: right;\n",
       "    }\n",
       "</style>\n",
       "<table border=\"1\" class=\"dataframe\">\n",
       "  <thead>\n",
       "    <tr style=\"text-align: right;\">\n",
       "      <th></th>\n",
       "      <th>ser</th>\n",
       "    </tr>\n",
       "  </thead>\n",
       "  <tbody>\n",
       "    <tr>\n",
       "      <th>a</th>\n",
       "      <td>0</td>\n",
       "    </tr>\n",
       "    <tr>\n",
       "      <th>b</th>\n",
       "      <td>1</td>\n",
       "    </tr>\n",
       "    <tr>\n",
       "      <th>c</th>\n",
       "      <td>2</td>\n",
       "    </tr>\n",
       "  </tbody>\n",
       "</table>\n",
       "</div>"
      ],
      "text/plain": [
       "   ser\n",
       "a    0\n",
       "b    1\n",
       "c    2"
      ]
     },
     "execution_count": 124,
     "metadata": {},
     "output_type": "execute_result"
    }
   ],
   "source": [
    "ser = pd.Series(range(3), index=list(\"abc\"), name=\"ser\")\n",
    "pd.DataFrame(ser)"
   ]
  },
  {
   "cell_type": "markdown",
   "id": "6a35972d",
   "metadata": {},
   "source": [
    "#### From a list of namedtuples\n",
    "- the field names of the first namedtuples in the list determine the columns of the DataFrame. THe remaining namedtuples (or tuples) are simply unpacked and their values are fed into the rows of the DataFrame. If any of those tuples is shorter than the first namedtuples then the later columns in the corresponding row are marked as missing values. If any are longer than the first namedtuple, a ValueError is raised."
   ]
  },
  {
   "cell_type": "code",
   "execution_count": 125,
   "id": "a31fba99",
   "metadata": {},
   "outputs": [
    {
     "data": {
      "application/vnd.microsoft.datawrangler.viewer.v0+json": {
       "columns": [
        {
         "name": "index",
         "rawType": "int64",
         "type": "integer"
        },
        {
         "name": "x",
         "rawType": "int64",
         "type": "integer"
        },
        {
         "name": "y",
         "rawType": "int64",
         "type": "integer"
        }
       ],
       "ref": "d8e0fa8b-6258-48b3-88cd-c62130b03cb0",
       "rows": [
        [
         "0",
         "0",
         "0"
        ],
        [
         "1",
         "0",
         "3"
        ],
        [
         "2",
         "2",
         "3"
        ]
       ],
       "shape": {
        "columns": 2,
        "rows": 3
       }
      },
      "text/html": [
       "<div>\n",
       "<style scoped>\n",
       "    .dataframe tbody tr th:only-of-type {\n",
       "        vertical-align: middle;\n",
       "    }\n",
       "\n",
       "    .dataframe tbody tr th {\n",
       "        vertical-align: top;\n",
       "    }\n",
       "\n",
       "    .dataframe thead th {\n",
       "        text-align: right;\n",
       "    }\n",
       "</style>\n",
       "<table border=\"1\" class=\"dataframe\">\n",
       "  <thead>\n",
       "    <tr style=\"text-align: right;\">\n",
       "      <th></th>\n",
       "      <th>x</th>\n",
       "      <th>y</th>\n",
       "    </tr>\n",
       "  </thead>\n",
       "  <tbody>\n",
       "    <tr>\n",
       "      <th>0</th>\n",
       "      <td>0</td>\n",
       "      <td>0</td>\n",
       "    </tr>\n",
       "    <tr>\n",
       "      <th>1</th>\n",
       "      <td>0</td>\n",
       "      <td>3</td>\n",
       "    </tr>\n",
       "    <tr>\n",
       "      <th>2</th>\n",
       "      <td>2</td>\n",
       "      <td>3</td>\n",
       "    </tr>\n",
       "  </tbody>\n",
       "</table>\n",
       "</div>"
      ],
      "text/plain": [
       "   x  y\n",
       "0  0  0\n",
       "1  0  3\n",
       "2  2  3"
      ]
     },
     "execution_count": 125,
     "metadata": {},
     "output_type": "execute_result"
    }
   ],
   "source": [
    "from collections import namedtuple\n",
    "\n",
    "Point = namedtuple(\"Point\", \"x y\")\n",
    "pd.DataFrame([Point(0, 0), Point(0, 3), (2, 3)])"
   ]
  },
  {
   "cell_type": "code",
   "execution_count": 126,
   "id": "7bde20c2",
   "metadata": {},
   "outputs": [
    {
     "data": {
      "application/vnd.microsoft.datawrangler.viewer.v0+json": {
       "columns": [
        {
         "name": "index",
         "rawType": "int64",
         "type": "integer"
        },
        {
         "name": "x",
         "rawType": "int64",
         "type": "integer"
        },
        {
         "name": "y",
         "rawType": "int64",
         "type": "integer"
        },
        {
         "name": "z",
         "rawType": "float64",
         "type": "float"
        }
       ],
       "ref": "d83a4845-4ddd-48af-b600-3a8f639a7d04",
       "rows": [
        [
         "0",
         "0",
         "0",
         "0.0"
        ],
        [
         "1",
         "0",
         "3",
         "5.0"
        ],
        [
         "2",
         "2",
         "3",
         null
        ]
       ],
       "shape": {
        "columns": 3,
        "rows": 3
       }
      },
      "text/html": [
       "<div>\n",
       "<style scoped>\n",
       "    .dataframe tbody tr th:only-of-type {\n",
       "        vertical-align: middle;\n",
       "    }\n",
       "\n",
       "    .dataframe tbody tr th {\n",
       "        vertical-align: top;\n",
       "    }\n",
       "\n",
       "    .dataframe thead th {\n",
       "        text-align: right;\n",
       "    }\n",
       "</style>\n",
       "<table border=\"1\" class=\"dataframe\">\n",
       "  <thead>\n",
       "    <tr style=\"text-align: right;\">\n",
       "      <th></th>\n",
       "      <th>x</th>\n",
       "      <th>y</th>\n",
       "      <th>z</th>\n",
       "    </tr>\n",
       "  </thead>\n",
       "  <tbody>\n",
       "    <tr>\n",
       "      <th>0</th>\n",
       "      <td>0</td>\n",
       "      <td>0</td>\n",
       "      <td>0.0</td>\n",
       "    </tr>\n",
       "    <tr>\n",
       "      <th>1</th>\n",
       "      <td>0</td>\n",
       "      <td>3</td>\n",
       "      <td>5.0</td>\n",
       "    </tr>\n",
       "    <tr>\n",
       "      <th>2</th>\n",
       "      <td>2</td>\n",
       "      <td>3</td>\n",
       "      <td>NaN</td>\n",
       "    </tr>\n",
       "  </tbody>\n",
       "</table>\n",
       "</div>"
      ],
      "text/plain": [
       "   x  y    z\n",
       "0  0  0  0.0\n",
       "1  0  3  5.0\n",
       "2  2  3  NaN"
      ]
     },
     "execution_count": 126,
     "metadata": {},
     "output_type": "execute_result"
    }
   ],
   "source": [
    "Point3D = namedtuple(\"Point3D\", \"x y z\")\n",
    "pd.DataFrame([Point3D(0, 0, 0), Point3D(0, 3, 5), Point(2, 3)]) # will expand to Point3D and leave z empty for the Point namedtuple"
   ]
  },
  {
   "cell_type": "markdown",
   "id": "1df15f74",
   "metadata": {},
   "source": [
    "#### From a list of dataclasses\n",
    "- Data classes as instroduced in PEP557, can be passed into the DataFrame constructor. Passing a list of dataclasses is equivalent to passing a list of dictionaries\n",
    "- Please be aware, that all values in teh list should be dataclasses, mixing types in the list would result in a TypeError."
   ]
  },
  {
   "cell_type": "code",
   "execution_count": 127,
   "id": "0bf01766",
   "metadata": {},
   "outputs": [
    {
     "data": {
      "application/vnd.microsoft.datawrangler.viewer.v0+json": {
       "columns": [
        {
         "name": "index",
         "rawType": "int64",
         "type": "integer"
        },
        {
         "name": "x",
         "rawType": "int64",
         "type": "integer"
        },
        {
         "name": "y",
         "rawType": "int64",
         "type": "integer"
        }
       ],
       "ref": "d0d94209-a347-4589-b085-3243955ad7c9",
       "rows": [
        [
         "0",
         "0",
         "0"
        ],
        [
         "1",
         "0",
         "3"
        ],
        [
         "2",
         "2",
         "3"
        ]
       ],
       "shape": {
        "columns": 2,
        "rows": 3
       }
      },
      "text/html": [
       "<div>\n",
       "<style scoped>\n",
       "    .dataframe tbody tr th:only-of-type {\n",
       "        vertical-align: middle;\n",
       "    }\n",
       "\n",
       "    .dataframe tbody tr th {\n",
       "        vertical-align: top;\n",
       "    }\n",
       "\n",
       "    .dataframe thead th {\n",
       "        text-align: right;\n",
       "    }\n",
       "</style>\n",
       "<table border=\"1\" class=\"dataframe\">\n",
       "  <thead>\n",
       "    <tr style=\"text-align: right;\">\n",
       "      <th></th>\n",
       "      <th>x</th>\n",
       "      <th>y</th>\n",
       "    </tr>\n",
       "  </thead>\n",
       "  <tbody>\n",
       "    <tr>\n",
       "      <th>0</th>\n",
       "      <td>0</td>\n",
       "      <td>0</td>\n",
       "    </tr>\n",
       "    <tr>\n",
       "      <th>1</th>\n",
       "      <td>0</td>\n",
       "      <td>3</td>\n",
       "    </tr>\n",
       "    <tr>\n",
       "      <th>2</th>\n",
       "      <td>2</td>\n",
       "      <td>3</td>\n",
       "    </tr>\n",
       "  </tbody>\n",
       "</table>\n",
       "</div>"
      ],
      "text/plain": [
       "   x  y\n",
       "0  0  0\n",
       "1  0  3\n",
       "2  2  3"
      ]
     },
     "execution_count": 127,
     "metadata": {},
     "output_type": "execute_result"
    }
   ],
   "source": [
    "from dataclasses import make_dataclass\n",
    "Point = make_dataclass(\"Point\", [(\"x\", int), (\"y\", int)])\n",
    "pd.DataFrame([Point(0, 0), Point(0, 3), Point(2, 3)])"
   ]
  },
  {
   "cell_type": "markdown",
   "id": "b3edd88a",
   "metadata": {},
   "source": [
    "#### Missing data\n",
    "- To construct a DataFrame with missing data, we use np.nan to represent missing values. Alternatively, you may pass a numpy.MaskedArray as the data argument to the DataFrame constructor, and its masked entries will be considered missing"
   ]
  },
  {
   "cell_type": "markdown",
   "id": "189d2400",
   "metadata": {},
   "source": [
    "#### Alternative constructors\n",
    "- DataFrame.from_dict() takes a dict of dicts or a dict of array-like sequences and return a DataFrame. It operates like the DataFrame constructor except for the orient parameter which is \"columns\" by default, but which can be set to \"index\" in order to use the dict keys as row labels."
   ]
  },
  {
   "cell_type": "code",
   "execution_count": 128,
   "id": "fe8ba054",
   "metadata": {},
   "outputs": [
    {
     "data": {
      "application/vnd.microsoft.datawrangler.viewer.v0+json": {
       "columns": [
        {
         "name": "index",
         "rawType": "int64",
         "type": "integer"
        },
        {
         "name": "A",
         "rawType": "int64",
         "type": "integer"
        },
        {
         "name": "B",
         "rawType": "int64",
         "type": "integer"
        }
       ],
       "ref": "8f7d6630-eb4b-4f3e-bb97-9a88e3e8ff7d",
       "rows": [
        [
         "0",
         "1",
         "4"
        ],
        [
         "1",
         "2",
         "5"
        ],
        [
         "2",
         "3",
         "6"
        ]
       ],
       "shape": {
        "columns": 2,
        "rows": 3
       }
      },
      "text/html": [
       "<div>\n",
       "<style scoped>\n",
       "    .dataframe tbody tr th:only-of-type {\n",
       "        vertical-align: middle;\n",
       "    }\n",
       "\n",
       "    .dataframe tbody tr th {\n",
       "        vertical-align: top;\n",
       "    }\n",
       "\n",
       "    .dataframe thead th {\n",
       "        text-align: right;\n",
       "    }\n",
       "</style>\n",
       "<table border=\"1\" class=\"dataframe\">\n",
       "  <thead>\n",
       "    <tr style=\"text-align: right;\">\n",
       "      <th></th>\n",
       "      <th>A</th>\n",
       "      <th>B</th>\n",
       "    </tr>\n",
       "  </thead>\n",
       "  <tbody>\n",
       "    <tr>\n",
       "      <th>0</th>\n",
       "      <td>1</td>\n",
       "      <td>4</td>\n",
       "    </tr>\n",
       "    <tr>\n",
       "      <th>1</th>\n",
       "      <td>2</td>\n",
       "      <td>5</td>\n",
       "    </tr>\n",
       "    <tr>\n",
       "      <th>2</th>\n",
       "      <td>3</td>\n",
       "      <td>6</td>\n",
       "    </tr>\n",
       "  </tbody>\n",
       "</table>\n",
       "</div>"
      ],
      "text/plain": [
       "   A  B\n",
       "0  1  4\n",
       "1  2  5\n",
       "2  3  6"
      ]
     },
     "execution_count": 128,
     "metadata": {},
     "output_type": "execute_result"
    }
   ],
   "source": [
    "pd.DataFrame.from_dict(dict([(\"A\", [1, 2, 3]), (\"B\", [4, 5, 6])]))"
   ]
  },
  {
   "cell_type": "code",
   "execution_count": 129,
   "id": "adf75ed7",
   "metadata": {},
   "outputs": [
    {
     "data": {
      "application/vnd.microsoft.datawrangler.viewer.v0+json": {
       "columns": [
        {
         "name": "index",
         "rawType": "int64",
         "type": "integer"
        },
        {
         "name": "A",
         "rawType": "int64",
         "type": "integer"
        },
        {
         "name": "B",
         "rawType": "int64",
         "type": "integer"
        }
       ],
       "ref": "22256c11-1ab8-4ea1-b3db-a9d5e7242dc3",
       "rows": [
        [
         "0",
         "1",
         "4"
        ],
        [
         "1",
         "2",
         "5"
        ],
        [
         "2",
         "3",
         "6"
        ]
       ],
       "shape": {
        "columns": 2,
        "rows": 3
       }
      },
      "text/html": [
       "<div>\n",
       "<style scoped>\n",
       "    .dataframe tbody tr th:only-of-type {\n",
       "        vertical-align: middle;\n",
       "    }\n",
       "\n",
       "    .dataframe tbody tr th {\n",
       "        vertical-align: top;\n",
       "    }\n",
       "\n",
       "    .dataframe thead th {\n",
       "        text-align: right;\n",
       "    }\n",
       "</style>\n",
       "<table border=\"1\" class=\"dataframe\">\n",
       "  <thead>\n",
       "    <tr style=\"text-align: right;\">\n",
       "      <th></th>\n",
       "      <th>A</th>\n",
       "      <th>B</th>\n",
       "    </tr>\n",
       "  </thead>\n",
       "  <tbody>\n",
       "    <tr>\n",
       "      <th>0</th>\n",
       "      <td>1</td>\n",
       "      <td>4</td>\n",
       "    </tr>\n",
       "    <tr>\n",
       "      <th>1</th>\n",
       "      <td>2</td>\n",
       "      <td>5</td>\n",
       "    </tr>\n",
       "    <tr>\n",
       "      <th>2</th>\n",
       "      <td>3</td>\n",
       "      <td>6</td>\n",
       "    </tr>\n",
       "  </tbody>\n",
       "</table>\n",
       "</div>"
      ],
      "text/plain": [
       "   A  B\n",
       "0  1  4\n",
       "1  2  5\n",
       "2  3  6"
      ]
     },
     "execution_count": 129,
     "metadata": {},
     "output_type": "execute_result"
    }
   ],
   "source": [
    "pd.DataFrame(dict([(\"A\", [1, 2, 3]), (\"B\", [4, 5, 6])])) # don't really needed the from_dict function"
   ]
  },
  {
   "cell_type": "code",
   "execution_count": 130,
   "id": "44f9a6fe",
   "metadata": {},
   "outputs": [
    {
     "data": {
      "application/vnd.microsoft.datawrangler.viewer.v0+json": {
       "columns": [
        {
         "name": "index",
         "rawType": "object",
         "type": "string"
        },
        {
         "name": "one",
         "rawType": "int64",
         "type": "integer"
        },
        {
         "name": "two",
         "rawType": "int64",
         "type": "integer"
        },
        {
         "name": "three",
         "rawType": "int64",
         "type": "integer"
        }
       ],
       "ref": "9d64cc17-63bf-4561-b4b8-64a0f8cfe186",
       "rows": [
        [
         "A",
         "1",
         "2",
         "3"
        ],
        [
         "B",
         "4",
         "5",
         "6"
        ]
       ],
       "shape": {
        "columns": 3,
        "rows": 2
       }
      },
      "text/html": [
       "<div>\n",
       "<style scoped>\n",
       "    .dataframe tbody tr th:only-of-type {\n",
       "        vertical-align: middle;\n",
       "    }\n",
       "\n",
       "    .dataframe tbody tr th {\n",
       "        vertical-align: top;\n",
       "    }\n",
       "\n",
       "    .dataframe thead th {\n",
       "        text-align: right;\n",
       "    }\n",
       "</style>\n",
       "<table border=\"1\" class=\"dataframe\">\n",
       "  <thead>\n",
       "    <tr style=\"text-align: right;\">\n",
       "      <th></th>\n",
       "      <th>one</th>\n",
       "      <th>two</th>\n",
       "      <th>three</th>\n",
       "    </tr>\n",
       "  </thead>\n",
       "  <tbody>\n",
       "    <tr>\n",
       "      <th>A</th>\n",
       "      <td>1</td>\n",
       "      <td>2</td>\n",
       "      <td>3</td>\n",
       "    </tr>\n",
       "    <tr>\n",
       "      <th>B</th>\n",
       "      <td>4</td>\n",
       "      <td>5</td>\n",
       "      <td>6</td>\n",
       "    </tr>\n",
       "  </tbody>\n",
       "</table>\n",
       "</div>"
      ],
      "text/plain": [
       "   one  two  three\n",
       "A    1    2      3\n",
       "B    4    5      6"
      ]
     },
     "execution_count": 130,
     "metadata": {},
     "output_type": "execute_result"
    }
   ],
   "source": [
    "# If you pass orient='index', the keys will be the row labels. In this case, you can also pass the desired column names:\n",
    "pd.DataFrame.from_dict(\n",
    "    dict([(\"A\", [1,2,3]), (\"B\", [4, 5, 6])]),\n",
    "    orient=\"index\",\n",
    "    columns=[\"one\", \"two\", \"three\"]\n",
    ")"
   ]
  },
  {
   "cell_type": "markdown",
   "id": "f94c1e33",
   "metadata": {},
   "source": [
    "# Column selection, addition, deletion\n",
    "- You can treat a DataFrame semantically like a dict of like-indexed Series objects, Getting, setting, and deleting columns works with the same syntax as the analogous dict operations:"
   ]
  },
  {
   "cell_type": "code",
   "execution_count": 131,
   "id": "bcbea7a7",
   "metadata": {},
   "outputs": [
    {
     "data": {
      "application/vnd.microsoft.datawrangler.viewer.v0+json": {
       "columns": [
        {
         "name": "index",
         "rawType": "object",
         "type": "string"
        },
        {
         "name": "one",
         "rawType": "float64",
         "type": "float"
        }
       ],
       "ref": "fee6d0d4-3594-458b-8f92-3ade08a9de0f",
       "rows": [
        [
         "a",
         "1.0"
        ],
        [
         "b",
         "2.0"
        ],
        [
         "c",
         "3.0"
        ],
        [
         "d",
         null
        ]
       ],
       "shape": {
        "columns": 1,
        "rows": 4
       }
      },
      "text/plain": [
       "a    1.0\n",
       "b    2.0\n",
       "c    3.0\n",
       "d    NaN\n",
       "Name: one, dtype: float64"
      ]
     },
     "execution_count": 131,
     "metadata": {},
     "output_type": "execute_result"
    }
   ],
   "source": [
    "df[\"one\"]"
   ]
  },
  {
   "cell_type": "code",
   "execution_count": 132,
   "id": "43692443",
   "metadata": {},
   "outputs": [
    {
     "data": {
      "application/vnd.microsoft.datawrangler.viewer.v0+json": {
       "columns": [
        {
         "name": "index",
         "rawType": "object",
         "type": "string"
        },
        {
         "name": "one",
         "rawType": "float64",
         "type": "float"
        },
        {
         "name": "two",
         "rawType": "float64",
         "type": "float"
        },
        {
         "name": "three",
         "rawType": "float64",
         "type": "float"
        },
        {
         "name": "flag",
         "rawType": "bool",
         "type": "boolean"
        }
       ],
       "ref": "d74ac45d-cb87-4b73-8551-c91c35fb76c3",
       "rows": [
        [
         "a",
         "1.0",
         "1.0",
         "1.0",
         "False"
        ],
        [
         "b",
         "2.0",
         "2.0",
         "4.0",
         "False"
        ],
        [
         "c",
         "3.0",
         "3.0",
         "9.0",
         "True"
        ],
        [
         "d",
         null,
         "4.0",
         null,
         "False"
        ]
       ],
       "shape": {
        "columns": 4,
        "rows": 4
       }
      },
      "text/html": [
       "<div>\n",
       "<style scoped>\n",
       "    .dataframe tbody tr th:only-of-type {\n",
       "        vertical-align: middle;\n",
       "    }\n",
       "\n",
       "    .dataframe tbody tr th {\n",
       "        vertical-align: top;\n",
       "    }\n",
       "\n",
       "    .dataframe thead th {\n",
       "        text-align: right;\n",
       "    }\n",
       "</style>\n",
       "<table border=\"1\" class=\"dataframe\">\n",
       "  <thead>\n",
       "    <tr style=\"text-align: right;\">\n",
       "      <th></th>\n",
       "      <th>one</th>\n",
       "      <th>two</th>\n",
       "      <th>three</th>\n",
       "      <th>flag</th>\n",
       "    </tr>\n",
       "  </thead>\n",
       "  <tbody>\n",
       "    <tr>\n",
       "      <th>a</th>\n",
       "      <td>1.0</td>\n",
       "      <td>1.0</td>\n",
       "      <td>1.0</td>\n",
       "      <td>False</td>\n",
       "    </tr>\n",
       "    <tr>\n",
       "      <th>b</th>\n",
       "      <td>2.0</td>\n",
       "      <td>2.0</td>\n",
       "      <td>4.0</td>\n",
       "      <td>False</td>\n",
       "    </tr>\n",
       "    <tr>\n",
       "      <th>c</th>\n",
       "      <td>3.0</td>\n",
       "      <td>3.0</td>\n",
       "      <td>9.0</td>\n",
       "      <td>True</td>\n",
       "    </tr>\n",
       "    <tr>\n",
       "      <th>d</th>\n",
       "      <td>NaN</td>\n",
       "      <td>4.0</td>\n",
       "      <td>NaN</td>\n",
       "      <td>False</td>\n",
       "    </tr>\n",
       "  </tbody>\n",
       "</table>\n",
       "</div>"
      ],
      "text/plain": [
       "   one  two  three   flag\n",
       "a  1.0  1.0    1.0  False\n",
       "b  2.0  2.0    4.0  False\n",
       "c  3.0  3.0    9.0   True\n",
       "d  NaN  4.0    NaN  False"
      ]
     },
     "execution_count": 132,
     "metadata": {},
     "output_type": "execute_result"
    }
   ],
   "source": [
    "df[\"three\"] = df[\"one\"] * df[\"two\"]\n",
    "df[\"flag\"] = df[\"one\"] > 2\n",
    "df"
   ]
  },
  {
   "cell_type": "code",
   "execution_count": 133,
   "id": "b41e75d0",
   "metadata": {},
   "outputs": [
    {
     "data": {
      "application/vnd.microsoft.datawrangler.viewer.v0+json": {
       "columns": [
        {
         "name": "index",
         "rawType": "object",
         "type": "string"
        },
        {
         "name": "one",
         "rawType": "float64",
         "type": "float"
        },
        {
         "name": "flag",
         "rawType": "bool",
         "type": "boolean"
        }
       ],
       "ref": "65c64312-c0e6-4101-b881-bb2a53937a40",
       "rows": [
        [
         "a",
         "1.0",
         "False"
        ],
        [
         "b",
         "2.0",
         "False"
        ],
        [
         "c",
         "3.0",
         "True"
        ],
        [
         "d",
         null,
         "False"
        ]
       ],
       "shape": {
        "columns": 2,
        "rows": 4
       }
      },
      "text/html": [
       "<div>\n",
       "<style scoped>\n",
       "    .dataframe tbody tr th:only-of-type {\n",
       "        vertical-align: middle;\n",
       "    }\n",
       "\n",
       "    .dataframe tbody tr th {\n",
       "        vertical-align: top;\n",
       "    }\n",
       "\n",
       "    .dataframe thead th {\n",
       "        text-align: right;\n",
       "    }\n",
       "</style>\n",
       "<table border=\"1\" class=\"dataframe\">\n",
       "  <thead>\n",
       "    <tr style=\"text-align: right;\">\n",
       "      <th></th>\n",
       "      <th>one</th>\n",
       "      <th>flag</th>\n",
       "    </tr>\n",
       "  </thead>\n",
       "  <tbody>\n",
       "    <tr>\n",
       "      <th>a</th>\n",
       "      <td>1.0</td>\n",
       "      <td>False</td>\n",
       "    </tr>\n",
       "    <tr>\n",
       "      <th>b</th>\n",
       "      <td>2.0</td>\n",
       "      <td>False</td>\n",
       "    </tr>\n",
       "    <tr>\n",
       "      <th>c</th>\n",
       "      <td>3.0</td>\n",
       "      <td>True</td>\n",
       "    </tr>\n",
       "    <tr>\n",
       "      <th>d</th>\n",
       "      <td>NaN</td>\n",
       "      <td>False</td>\n",
       "    </tr>\n",
       "  </tbody>\n",
       "</table>\n",
       "</div>"
      ],
      "text/plain": [
       "   one   flag\n",
       "a  1.0  False\n",
       "b  2.0  False\n",
       "c  3.0   True\n",
       "d  NaN  False"
      ]
     },
     "execution_count": 133,
     "metadata": {},
     "output_type": "execute_result"
    }
   ],
   "source": [
    "# columns can be deleted or popped like with a dict:\n",
    "del df[\"two\"]\n",
    "three = df.pop(\"three\")\n",
    "df"
   ]
  },
  {
   "cell_type": "markdown",
   "id": "6bfffae5",
   "metadata": {},
   "source": [
    "#### When inserting a scalar value, it will naturally be propagated to fill the column:              \n"
   ]
  },
  {
   "cell_type": "code",
   "execution_count": 134,
   "id": "07ffba0f",
   "metadata": {},
   "outputs": [
    {
     "data": {
      "application/vnd.microsoft.datawrangler.viewer.v0+json": {
       "columns": [
        {
         "name": "index",
         "rawType": "object",
         "type": "string"
        },
        {
         "name": "one",
         "rawType": "float64",
         "type": "float"
        },
        {
         "name": "flag",
         "rawType": "bool",
         "type": "boolean"
        },
        {
         "name": "foo",
         "rawType": "object",
         "type": "string"
        }
       ],
       "ref": "66382c4a-0a45-455e-809d-54cadf130e60",
       "rows": [
        [
         "a",
         "1.0",
         "False",
         "bar"
        ],
        [
         "b",
         "2.0",
         "False",
         "bar"
        ],
        [
         "c",
         "3.0",
         "True",
         "bar"
        ],
        [
         "d",
         null,
         "False",
         "bar"
        ]
       ],
       "shape": {
        "columns": 3,
        "rows": 4
       }
      },
      "text/html": [
       "<div>\n",
       "<style scoped>\n",
       "    .dataframe tbody tr th:only-of-type {\n",
       "        vertical-align: middle;\n",
       "    }\n",
       "\n",
       "    .dataframe tbody tr th {\n",
       "        vertical-align: top;\n",
       "    }\n",
       "\n",
       "    .dataframe thead th {\n",
       "        text-align: right;\n",
       "    }\n",
       "</style>\n",
       "<table border=\"1\" class=\"dataframe\">\n",
       "  <thead>\n",
       "    <tr style=\"text-align: right;\">\n",
       "      <th></th>\n",
       "      <th>one</th>\n",
       "      <th>flag</th>\n",
       "      <th>foo</th>\n",
       "    </tr>\n",
       "  </thead>\n",
       "  <tbody>\n",
       "    <tr>\n",
       "      <th>a</th>\n",
       "      <td>1.0</td>\n",
       "      <td>False</td>\n",
       "      <td>bar</td>\n",
       "    </tr>\n",
       "    <tr>\n",
       "      <th>b</th>\n",
       "      <td>2.0</td>\n",
       "      <td>False</td>\n",
       "      <td>bar</td>\n",
       "    </tr>\n",
       "    <tr>\n",
       "      <th>c</th>\n",
       "      <td>3.0</td>\n",
       "      <td>True</td>\n",
       "      <td>bar</td>\n",
       "    </tr>\n",
       "    <tr>\n",
       "      <th>d</th>\n",
       "      <td>NaN</td>\n",
       "      <td>False</td>\n",
       "      <td>bar</td>\n",
       "    </tr>\n",
       "  </tbody>\n",
       "</table>\n",
       "</div>"
      ],
      "text/plain": [
       "   one   flag  foo\n",
       "a  1.0  False  bar\n",
       "b  2.0  False  bar\n",
       "c  3.0   True  bar\n",
       "d  NaN  False  bar"
      ]
     },
     "execution_count": 134,
     "metadata": {},
     "output_type": "execute_result"
    }
   ],
   "source": [
    "df[\"foo\"] = \"bar\"\n",
    "df"
   ]
  },
  {
   "cell_type": "markdown",
   "id": "c13bc392",
   "metadata": {},
   "source": [
    "#### When inserting a Series that does not have the same index as the DataFrame, it will be conformed to the DataFrame's index:"
   ]
  },
  {
   "cell_type": "code",
   "execution_count": 135,
   "id": "f2a756d0",
   "metadata": {},
   "outputs": [
    {
     "data": {
      "application/vnd.microsoft.datawrangler.viewer.v0+json": {
       "columns": [
        {
         "name": "index",
         "rawType": "object",
         "type": "string"
        },
        {
         "name": "one",
         "rawType": "float64",
         "type": "float"
        },
        {
         "name": "flag",
         "rawType": "bool",
         "type": "boolean"
        },
        {
         "name": "foo",
         "rawType": "object",
         "type": "string"
        },
        {
         "name": "one_trunc",
         "rawType": "float64",
         "type": "float"
        }
       ],
       "ref": "b560c83f-60b6-4df9-bc58-e8d7014f2d2f",
       "rows": [
        [
         "a",
         "1.0",
         "False",
         "bar",
         "1.0"
        ],
        [
         "b",
         "2.0",
         "False",
         "bar",
         "2.0"
        ],
        [
         "c",
         "3.0",
         "True",
         "bar",
         null
        ],
        [
         "d",
         null,
         "False",
         "bar",
         null
        ]
       ],
       "shape": {
        "columns": 4,
        "rows": 4
       }
      },
      "text/html": [
       "<div>\n",
       "<style scoped>\n",
       "    .dataframe tbody tr th:only-of-type {\n",
       "        vertical-align: middle;\n",
       "    }\n",
       "\n",
       "    .dataframe tbody tr th {\n",
       "        vertical-align: top;\n",
       "    }\n",
       "\n",
       "    .dataframe thead th {\n",
       "        text-align: right;\n",
       "    }\n",
       "</style>\n",
       "<table border=\"1\" class=\"dataframe\">\n",
       "  <thead>\n",
       "    <tr style=\"text-align: right;\">\n",
       "      <th></th>\n",
       "      <th>one</th>\n",
       "      <th>flag</th>\n",
       "      <th>foo</th>\n",
       "      <th>one_trunc</th>\n",
       "    </tr>\n",
       "  </thead>\n",
       "  <tbody>\n",
       "    <tr>\n",
       "      <th>a</th>\n",
       "      <td>1.0</td>\n",
       "      <td>False</td>\n",
       "      <td>bar</td>\n",
       "      <td>1.0</td>\n",
       "    </tr>\n",
       "    <tr>\n",
       "      <th>b</th>\n",
       "      <td>2.0</td>\n",
       "      <td>False</td>\n",
       "      <td>bar</td>\n",
       "      <td>2.0</td>\n",
       "    </tr>\n",
       "    <tr>\n",
       "      <th>c</th>\n",
       "      <td>3.0</td>\n",
       "      <td>True</td>\n",
       "      <td>bar</td>\n",
       "      <td>NaN</td>\n",
       "    </tr>\n",
       "    <tr>\n",
       "      <th>d</th>\n",
       "      <td>NaN</td>\n",
       "      <td>False</td>\n",
       "      <td>bar</td>\n",
       "      <td>NaN</td>\n",
       "    </tr>\n",
       "  </tbody>\n",
       "</table>\n",
       "</div>"
      ],
      "text/plain": [
       "   one   flag  foo  one_trunc\n",
       "a  1.0  False  bar        1.0\n",
       "b  2.0  False  bar        2.0\n",
       "c  3.0   True  bar        NaN\n",
       "d  NaN  False  bar        NaN"
      ]
     },
     "execution_count": 135,
     "metadata": {},
     "output_type": "execute_result"
    }
   ],
   "source": [
    "df[\"one_trunc\"] = df[\"one\"][:2]\n",
    "df"
   ]
  },
  {
   "cell_type": "markdown",
   "id": "be4187fa",
   "metadata": {},
   "source": [
    "#### You can insert raw ndarrays but their length must match the length of the DataFrame's index.\n",
    "#### By default, columns get inserted at the end. DataFrame.insert() inserts at a particular location in the columns:"
   ]
  },
  {
   "cell_type": "code",
   "execution_count": 136,
   "id": "abcb1abe",
   "metadata": {},
   "outputs": [
    {
     "data": {
      "application/vnd.microsoft.datawrangler.viewer.v0+json": {
       "columns": [
        {
         "name": "index",
         "rawType": "object",
         "type": "string"
        },
        {
         "name": "one",
         "rawType": "float64",
         "type": "float"
        },
        {
         "name": "bar",
         "rawType": "float64",
         "type": "float"
        },
        {
         "name": "flag",
         "rawType": "bool",
         "type": "boolean"
        },
        {
         "name": "foo",
         "rawType": "object",
         "type": "string"
        },
        {
         "name": "one_trunc",
         "rawType": "float64",
         "type": "float"
        }
       ],
       "ref": "74e2c557-4131-44e5-be67-8ddc8a9b4b0f",
       "rows": [
        [
         "a",
         "1.0",
         "1.0",
         "False",
         "bar",
         "1.0"
        ],
        [
         "b",
         "2.0",
         "2.0",
         "False",
         "bar",
         "2.0"
        ],
        [
         "c",
         "3.0",
         "3.0",
         "True",
         "bar",
         null
        ],
        [
         "d",
         null,
         null,
         "False",
         "bar",
         null
        ]
       ],
       "shape": {
        "columns": 5,
        "rows": 4
       }
      },
      "text/html": [
       "<div>\n",
       "<style scoped>\n",
       "    .dataframe tbody tr th:only-of-type {\n",
       "        vertical-align: middle;\n",
       "    }\n",
       "\n",
       "    .dataframe tbody tr th {\n",
       "        vertical-align: top;\n",
       "    }\n",
       "\n",
       "    .dataframe thead th {\n",
       "        text-align: right;\n",
       "    }\n",
       "</style>\n",
       "<table border=\"1\" class=\"dataframe\">\n",
       "  <thead>\n",
       "    <tr style=\"text-align: right;\">\n",
       "      <th></th>\n",
       "      <th>one</th>\n",
       "      <th>bar</th>\n",
       "      <th>flag</th>\n",
       "      <th>foo</th>\n",
       "      <th>one_trunc</th>\n",
       "    </tr>\n",
       "  </thead>\n",
       "  <tbody>\n",
       "    <tr>\n",
       "      <th>a</th>\n",
       "      <td>1.0</td>\n",
       "      <td>1.0</td>\n",
       "      <td>False</td>\n",
       "      <td>bar</td>\n",
       "      <td>1.0</td>\n",
       "    </tr>\n",
       "    <tr>\n",
       "      <th>b</th>\n",
       "      <td>2.0</td>\n",
       "      <td>2.0</td>\n",
       "      <td>False</td>\n",
       "      <td>bar</td>\n",
       "      <td>2.0</td>\n",
       "    </tr>\n",
       "    <tr>\n",
       "      <th>c</th>\n",
       "      <td>3.0</td>\n",
       "      <td>3.0</td>\n",
       "      <td>True</td>\n",
       "      <td>bar</td>\n",
       "      <td>NaN</td>\n",
       "    </tr>\n",
       "    <tr>\n",
       "      <th>d</th>\n",
       "      <td>NaN</td>\n",
       "      <td>NaN</td>\n",
       "      <td>False</td>\n",
       "      <td>bar</td>\n",
       "      <td>NaN</td>\n",
       "    </tr>\n",
       "  </tbody>\n",
       "</table>\n",
       "</div>"
      ],
      "text/plain": [
       "   one  bar   flag  foo  one_trunc\n",
       "a  1.0  1.0  False  bar        1.0\n",
       "b  2.0  2.0  False  bar        2.0\n",
       "c  3.0  3.0   True  bar        NaN\n",
       "d  NaN  NaN  False  bar        NaN"
      ]
     },
     "execution_count": 136,
     "metadata": {},
     "output_type": "execute_result"
    }
   ],
   "source": [
    "df.insert(1, \"bar\", df[\"one\"])\n",
    "df"
   ]
  },
  {
   "cell_type": "markdown",
   "id": "955ac0e1",
   "metadata": {},
   "source": [
    "#### Assigning new columns in method chains\n",
    "- Inspired by dplyr's mutate verb, DataFrame has an assign() method that allows you to easily create new columns that are potentially derived from existing columns"
   ]
  },
  {
   "cell_type": "code",
   "execution_count": 137,
   "id": "e2c63c20",
   "metadata": {},
   "outputs": [
    {
     "data": {
      "application/vnd.microsoft.datawrangler.viewer.v0+json": {
       "columns": [
        {
         "name": "index",
         "rawType": "int64",
         "type": "integer"
        },
        {
         "name": "Unnamed: 0",
         "rawType": "int64",
         "type": "integer"
        },
        {
         "name": "SepalLength",
         "rawType": "float64",
         "type": "float"
        },
        {
         "name": "SepalWidth",
         "rawType": "float64",
         "type": "float"
        },
        {
         "name": "PetalLength",
         "rawType": "float64",
         "type": "float"
        },
        {
         "name": "PetalWidth",
         "rawType": "float64",
         "type": "float"
        },
        {
         "name": "Name",
         "rawType": "object",
         "type": "string"
        }
       ],
       "ref": "c4ce3f82-3a46-4144-be02-7f6bde01e44e",
       "rows": [
        [
         "0",
         "0",
         "5.1",
         "3.5",
         "1.4",
         "0.2",
         "Iris-setosa"
        ],
        [
         "1",
         "1",
         "4.9",
         "3.0",
         "1.4",
         "0.2",
         "Iris-setosa"
        ],
        [
         "2",
         "2",
         "4.7",
         "3.2",
         "1.3",
         "0.2",
         "Iris-setosa"
        ],
        [
         "3",
         "3",
         "4.6",
         "3.1",
         "1.5",
         "0.2",
         "Iris-setosa"
        ],
        [
         "4",
         "4",
         "5.0",
         "3.6",
         "1.4",
         "0.2",
         "Iris-setosa"
        ]
       ],
       "shape": {
        "columns": 6,
        "rows": 5
       }
      },
      "text/html": [
       "<div>\n",
       "<style scoped>\n",
       "    .dataframe tbody tr th:only-of-type {\n",
       "        vertical-align: middle;\n",
       "    }\n",
       "\n",
       "    .dataframe tbody tr th {\n",
       "        vertical-align: top;\n",
       "    }\n",
       "\n",
       "    .dataframe thead th {\n",
       "        text-align: right;\n",
       "    }\n",
       "</style>\n",
       "<table border=\"1\" class=\"dataframe\">\n",
       "  <thead>\n",
       "    <tr style=\"text-align: right;\">\n",
       "      <th></th>\n",
       "      <th>Unnamed: 0</th>\n",
       "      <th>SepalLength</th>\n",
       "      <th>SepalWidth</th>\n",
       "      <th>PetalLength</th>\n",
       "      <th>PetalWidth</th>\n",
       "      <th>Name</th>\n",
       "    </tr>\n",
       "  </thead>\n",
       "  <tbody>\n",
       "    <tr>\n",
       "      <th>0</th>\n",
       "      <td>0</td>\n",
       "      <td>5.1</td>\n",
       "      <td>3.5</td>\n",
       "      <td>1.4</td>\n",
       "      <td>0.2</td>\n",
       "      <td>Iris-setosa</td>\n",
       "    </tr>\n",
       "    <tr>\n",
       "      <th>1</th>\n",
       "      <td>1</td>\n",
       "      <td>4.9</td>\n",
       "      <td>3.0</td>\n",
       "      <td>1.4</td>\n",
       "      <td>0.2</td>\n",
       "      <td>Iris-setosa</td>\n",
       "    </tr>\n",
       "    <tr>\n",
       "      <th>2</th>\n",
       "      <td>2</td>\n",
       "      <td>4.7</td>\n",
       "      <td>3.2</td>\n",
       "      <td>1.3</td>\n",
       "      <td>0.2</td>\n",
       "      <td>Iris-setosa</td>\n",
       "    </tr>\n",
       "    <tr>\n",
       "      <th>3</th>\n",
       "      <td>3</td>\n",
       "      <td>4.6</td>\n",
       "      <td>3.1</td>\n",
       "      <td>1.5</td>\n",
       "      <td>0.2</td>\n",
       "      <td>Iris-setosa</td>\n",
       "    </tr>\n",
       "    <tr>\n",
       "      <th>4</th>\n",
       "      <td>4</td>\n",
       "      <td>5.0</td>\n",
       "      <td>3.6</td>\n",
       "      <td>1.4</td>\n",
       "      <td>0.2</td>\n",
       "      <td>Iris-setosa</td>\n",
       "    </tr>\n",
       "  </tbody>\n",
       "</table>\n",
       "</div>"
      ],
      "text/plain": [
       "   Unnamed: 0  SepalLength  SepalWidth  PetalLength  PetalWidth         Name\n",
       "0           0          5.1         3.5          1.4         0.2  Iris-setosa\n",
       "1           1          4.9         3.0          1.4         0.2  Iris-setosa\n",
       "2           2          4.7         3.2          1.3         0.2  Iris-setosa\n",
       "3           3          4.6         3.1          1.5         0.2  Iris-setosa\n",
       "4           4          5.0         3.6          1.4         0.2  Iris-setosa"
      ]
     },
     "execution_count": 137,
     "metadata": {},
     "output_type": "execute_result"
    }
   ],
   "source": [
    "iris = pd.read_csv(\"data/iris.csv\")\n",
    "iris.head()"
   ]
  },
  {
   "cell_type": "code",
   "execution_count": null,
   "id": "bd4c3f83",
   "metadata": {},
   "outputs": [
    {
     "data": {
      "application/vnd.microsoft.datawrangler.viewer.v0+json": {
       "columns": [
        {
         "name": "index",
         "rawType": "int64",
         "type": "integer"
        },
        {
         "name": "Unnamed: 0",
         "rawType": "int64",
         "type": "integer"
        },
        {
         "name": "SepalLength",
         "rawType": "float64",
         "type": "float"
        },
        {
         "name": "SepalWidth",
         "rawType": "float64",
         "type": "float"
        },
        {
         "name": "PetalLength",
         "rawType": "float64",
         "type": "float"
        },
        {
         "name": "PetalWidth",
         "rawType": "float64",
         "type": "float"
        },
        {
         "name": "Name",
         "rawType": "object",
         "type": "string"
        },
        {
         "name": "sepal_ratio",
         "rawType": "float64",
         "type": "float"
        }
       ],
       "ref": "bcf6340d-3ac5-4745-ac36-5d99c2a0735b",
       "rows": [
        [
         "0",
         "0",
         "5.1",
         "3.5",
         "1.4",
         "0.2",
         "Iris-setosa",
         "0.6862745098039216"
        ],
        [
         "1",
         "1",
         "4.9",
         "3.0",
         "1.4",
         "0.2",
         "Iris-setosa",
         "0.6122448979591836"
        ],
        [
         "2",
         "2",
         "4.7",
         "3.2",
         "1.3",
         "0.2",
         "Iris-setosa",
         "0.6808510638297872"
        ],
        [
         "3",
         "3",
         "4.6",
         "3.1",
         "1.5",
         "0.2",
         "Iris-setosa",
         "0.673913043478261"
        ],
        [
         "4",
         "4",
         "5.0",
         "3.6",
         "1.4",
         "0.2",
         "Iris-setosa",
         "0.72"
        ]
       ],
       "shape": {
        "columns": 7,
        "rows": 5
       }
      },
      "text/html": [
       "<div>\n",
       "<style scoped>\n",
       "    .dataframe tbody tr th:only-of-type {\n",
       "        vertical-align: middle;\n",
       "    }\n",
       "\n",
       "    .dataframe tbody tr th {\n",
       "        vertical-align: top;\n",
       "    }\n",
       "\n",
       "    .dataframe thead th {\n",
       "        text-align: right;\n",
       "    }\n",
       "</style>\n",
       "<table border=\"1\" class=\"dataframe\">\n",
       "  <thead>\n",
       "    <tr style=\"text-align: right;\">\n",
       "      <th></th>\n",
       "      <th>Unnamed: 0</th>\n",
       "      <th>SepalLength</th>\n",
       "      <th>SepalWidth</th>\n",
       "      <th>PetalLength</th>\n",
       "      <th>PetalWidth</th>\n",
       "      <th>Name</th>\n",
       "      <th>sepal_ratio</th>\n",
       "    </tr>\n",
       "  </thead>\n",
       "  <tbody>\n",
       "    <tr>\n",
       "      <th>0</th>\n",
       "      <td>0</td>\n",
       "      <td>5.1</td>\n",
       "      <td>3.5</td>\n",
       "      <td>1.4</td>\n",
       "      <td>0.2</td>\n",
       "      <td>Iris-setosa</td>\n",
       "      <td>0.686275</td>\n",
       "    </tr>\n",
       "    <tr>\n",
       "      <th>1</th>\n",
       "      <td>1</td>\n",
       "      <td>4.9</td>\n",
       "      <td>3.0</td>\n",
       "      <td>1.4</td>\n",
       "      <td>0.2</td>\n",
       "      <td>Iris-setosa</td>\n",
       "      <td>0.612245</td>\n",
       "    </tr>\n",
       "    <tr>\n",
       "      <th>2</th>\n",
       "      <td>2</td>\n",
       "      <td>4.7</td>\n",
       "      <td>3.2</td>\n",
       "      <td>1.3</td>\n",
       "      <td>0.2</td>\n",
       "      <td>Iris-setosa</td>\n",
       "      <td>0.680851</td>\n",
       "    </tr>\n",
       "    <tr>\n",
       "      <th>3</th>\n",
       "      <td>3</td>\n",
       "      <td>4.6</td>\n",
       "      <td>3.1</td>\n",
       "      <td>1.5</td>\n",
       "      <td>0.2</td>\n",
       "      <td>Iris-setosa</td>\n",
       "      <td>0.673913</td>\n",
       "    </tr>\n",
       "    <tr>\n",
       "      <th>4</th>\n",
       "      <td>4</td>\n",
       "      <td>5.0</td>\n",
       "      <td>3.6</td>\n",
       "      <td>1.4</td>\n",
       "      <td>0.2</td>\n",
       "      <td>Iris-setosa</td>\n",
       "      <td>0.720000</td>\n",
       "    </tr>\n",
       "  </tbody>\n",
       "</table>\n",
       "</div>"
      ],
      "text/plain": [
       "   Unnamed: 0  SepalLength  SepalWidth  PetalLength  PetalWidth         Name  \\\n",
       "0           0          5.1         3.5          1.4         0.2  Iris-setosa   \n",
       "1           1          4.9         3.0          1.4         0.2  Iris-setosa   \n",
       "2           2          4.7         3.2          1.3         0.2  Iris-setosa   \n",
       "3           3          4.6         3.1          1.5         0.2  Iris-setosa   \n",
       "4           4          5.0         3.6          1.4         0.2  Iris-setosa   \n",
       "\n",
       "   sepal_ratio  \n",
       "0     0.686275  \n",
       "1     0.612245  \n",
       "2     0.680851  \n",
       "3     0.673913  \n",
       "4     0.720000  "
      ]
     },
     "execution_count": 138,
     "metadata": {},
     "output_type": "execute_result"
    }
   ],
   "source": [
    "iris.assign(sepal_ratio=iris[\"SepalWidth\"] / iris[\"SepalLength\"]).head()\n",
    "# We inserted a precomputed value. We can also pass in a function of one argument to be evaluated on the DataFrame being assigned to."
   ]
  },
  {
   "cell_type": "code",
   "execution_count": null,
   "id": "fe4bfa6d",
   "metadata": {},
   "outputs": [
    {
     "data": {
      "application/vnd.microsoft.datawrangler.viewer.v0+json": {
       "columns": [
        {
         "name": "index",
         "rawType": "int64",
         "type": "integer"
        },
        {
         "name": "Unnamed: 0",
         "rawType": "int64",
         "type": "integer"
        },
        {
         "name": "SepalLength",
         "rawType": "float64",
         "type": "float"
        },
        {
         "name": "SepalWidth",
         "rawType": "float64",
         "type": "float"
        },
        {
         "name": "PetalLength",
         "rawType": "float64",
         "type": "float"
        },
        {
         "name": "PetalWidth",
         "rawType": "float64",
         "type": "float"
        },
        {
         "name": "Name",
         "rawType": "object",
         "type": "string"
        },
        {
         "name": "sepal_ratio",
         "rawType": "float64",
         "type": "float"
        }
       ],
       "ref": "cb23bf1c-dccd-4381-8d65-7b09583db6a6",
       "rows": [
        [
         "0",
         "0",
         "5.1",
         "3.5",
         "1.4",
         "0.2",
         "Iris-setosa",
         "0.6862745098039216"
        ],
        [
         "1",
         "1",
         "4.9",
         "3.0",
         "1.4",
         "0.2",
         "Iris-setosa",
         "0.6122448979591836"
        ],
        [
         "2",
         "2",
         "4.7",
         "3.2",
         "1.3",
         "0.2",
         "Iris-setosa",
         "0.6808510638297872"
        ],
        [
         "3",
         "3",
         "4.6",
         "3.1",
         "1.5",
         "0.2",
         "Iris-setosa",
         "0.673913043478261"
        ],
        [
         "4",
         "4",
         "5.0",
         "3.6",
         "1.4",
         "0.2",
         "Iris-setosa",
         "0.72"
        ]
       ],
       "shape": {
        "columns": 7,
        "rows": 5
       }
      },
      "text/html": [
       "<div>\n",
       "<style scoped>\n",
       "    .dataframe tbody tr th:only-of-type {\n",
       "        vertical-align: middle;\n",
       "    }\n",
       "\n",
       "    .dataframe tbody tr th {\n",
       "        vertical-align: top;\n",
       "    }\n",
       "\n",
       "    .dataframe thead th {\n",
       "        text-align: right;\n",
       "    }\n",
       "</style>\n",
       "<table border=\"1\" class=\"dataframe\">\n",
       "  <thead>\n",
       "    <tr style=\"text-align: right;\">\n",
       "      <th></th>\n",
       "      <th>Unnamed: 0</th>\n",
       "      <th>SepalLength</th>\n",
       "      <th>SepalWidth</th>\n",
       "      <th>PetalLength</th>\n",
       "      <th>PetalWidth</th>\n",
       "      <th>Name</th>\n",
       "      <th>sepal_ratio</th>\n",
       "    </tr>\n",
       "  </thead>\n",
       "  <tbody>\n",
       "    <tr>\n",
       "      <th>0</th>\n",
       "      <td>0</td>\n",
       "      <td>5.1</td>\n",
       "      <td>3.5</td>\n",
       "      <td>1.4</td>\n",
       "      <td>0.2</td>\n",
       "      <td>Iris-setosa</td>\n",
       "      <td>0.686275</td>\n",
       "    </tr>\n",
       "    <tr>\n",
       "      <th>1</th>\n",
       "      <td>1</td>\n",
       "      <td>4.9</td>\n",
       "      <td>3.0</td>\n",
       "      <td>1.4</td>\n",
       "      <td>0.2</td>\n",
       "      <td>Iris-setosa</td>\n",
       "      <td>0.612245</td>\n",
       "    </tr>\n",
       "    <tr>\n",
       "      <th>2</th>\n",
       "      <td>2</td>\n",
       "      <td>4.7</td>\n",
       "      <td>3.2</td>\n",
       "      <td>1.3</td>\n",
       "      <td>0.2</td>\n",
       "      <td>Iris-setosa</td>\n",
       "      <td>0.680851</td>\n",
       "    </tr>\n",
       "    <tr>\n",
       "      <th>3</th>\n",
       "      <td>3</td>\n",
       "      <td>4.6</td>\n",
       "      <td>3.1</td>\n",
       "      <td>1.5</td>\n",
       "      <td>0.2</td>\n",
       "      <td>Iris-setosa</td>\n",
       "      <td>0.673913</td>\n",
       "    </tr>\n",
       "    <tr>\n",
       "      <th>4</th>\n",
       "      <td>4</td>\n",
       "      <td>5.0</td>\n",
       "      <td>3.6</td>\n",
       "      <td>1.4</td>\n",
       "      <td>0.2</td>\n",
       "      <td>Iris-setosa</td>\n",
       "      <td>0.720000</td>\n",
       "    </tr>\n",
       "  </tbody>\n",
       "</table>\n",
       "</div>"
      ],
      "text/plain": [
       "   Unnamed: 0  SepalLength  SepalWidth  PetalLength  PetalWidth         Name  \\\n",
       "0           0          5.1         3.5          1.4         0.2  Iris-setosa   \n",
       "1           1          4.9         3.0          1.4         0.2  Iris-setosa   \n",
       "2           2          4.7         3.2          1.3         0.2  Iris-setosa   \n",
       "3           3          4.6         3.1          1.5         0.2  Iris-setosa   \n",
       "4           4          5.0         3.6          1.4         0.2  Iris-setosa   \n",
       "\n",
       "   sepal_ratio  \n",
       "0     0.686275  \n",
       "1     0.612245  \n",
       "2     0.680851  \n",
       "3     0.673913  \n",
       "4     0.720000  "
      ]
     },
     "execution_count": 139,
     "metadata": {},
     "output_type": "execute_result"
    }
   ],
   "source": [
    "iris.assign(sepal_ratio=lambda x: (x[\"SepalWidth\"] / x[\"SepalLength\"])).head()\n",
    "# assign() always returns a copy of the data, leaving the original DataFrame untouched."
   ]
  },
  {
   "cell_type": "markdown",
   "id": "bf477856",
   "metadata": {},
   "source": [
    "- Passing a callable, as opposed to an actual value to be inserted, is useful when you don't have a reference to the DataFrame at hand. This is common when using assign() in a chain of operations. \n",
    "- For example, whe can limit the DataFrame to just those observations with a Sepal Length greater than 5, calculate the ratio, and plot:"
   ]
  },
  {
   "cell_type": "code",
   "execution_count": 140,
   "id": "05d3f16e",
   "metadata": {},
   "outputs": [
    {
     "data": {
      "image/png": "[encoded data removed]",
      "text/plain": [
       "<Figure size 640x480 with 1 Axes>"
      ]
     },
     "metadata": {},
     "output_type": "display_data"
    }
   ],
   "source": [
    "(\n",
    "    iris.query(\"SepalLength > 5\")\n",
    "    .assign(\n",
    "        SepalRatio=lambda x: x.SepalWidth / x.SepalLength,\n",
    "        PetalRatio=lambda x: x.PetalWidth / x.PetalLength,\n",
    "    )\n",
    "    .plot(kind=\"scatter\", x=\"SepalRatio\", y=\"PetalRatio\")\n",
    ")\n",
    "\n",
    "plt.show()"
   ]
  },
  {
   "cell_type": "markdown",
   "id": "bd1c4313",
   "metadata": {},
   "source": [
    "- Since a function is passed in, the function is computed on the DataFrame being assigned to. Importantly, this is the DataFrame that's been filtered to those rows with sepal length greater than 5. The filtering happens first, then ratio calculations. This is an example where we didn't have a reference tot he filtered DataFrame available.\n",
    "- The function signature for assign() is simple **kwargs. The keys are the column names for the new fields, and the values are either a value to be inserted (for example, a Series or Numpy array), or a function of one argument to be called on the DataFrame. A copy of the original DataFrame is returned, with the new values inserted.\n",
    "- The order of **kwargs is preserved. This allows for dependent assignment, where an expression later in **kwargs can refer to a column created earlier in the same assign()."
   ]
  },
  {
   "cell_type": "code",
   "execution_count": null,
   "id": "4bc81c60",
   "metadata": {},
   "outputs": [
    {
     "data": {
      "application/vnd.microsoft.datawrangler.viewer.v0+json": {
       "columns": [
        {
         "name": "index",
         "rawType": "int64",
         "type": "integer"
        },
        {
         "name": "A",
         "rawType": "int64",
         "type": "integer"
        },
        {
         "name": "B",
         "rawType": "int64",
         "type": "integer"
        },
        {
         "name": "C",
         "rawType": "int64",
         "type": "integer"
        },
        {
         "name": "D",
         "rawType": "int64",
         "type": "integer"
        }
       ],
       "ref": "f35ebc6b-0afd-4f5b-bf06-0a1c9378b762",
       "rows": [
        [
         "0",
         "1",
         "4",
         "5",
         "6"
        ],
        [
         "1",
         "2",
         "5",
         "7",
         "9"
        ],
        [
         "2",
         "3",
         "6",
         "9",
         "12"
        ]
       ],
       "shape": {
        "columns": 4,
        "rows": 3
       }
      },
      "text/html": [
       "<div>\n",
       "<style scoped>\n",
       "    .dataframe tbody tr th:only-of-type {\n",
       "        vertical-align: middle;\n",
       "    }\n",
       "\n",
       "    .dataframe tbody tr th {\n",
       "        vertical-align: top;\n",
       "    }\n",
       "\n",
       "    .dataframe thead th {\n",
       "        text-align: right;\n",
       "    }\n",
       "</style>\n",
       "<table border=\"1\" class=\"dataframe\">\n",
       "  <thead>\n",
       "    <tr style=\"text-align: right;\">\n",
       "      <th></th>\n",
       "      <th>A</th>\n",
       "      <th>B</th>\n",
       "      <th>C</th>\n",
       "      <th>D</th>\n",
       "    </tr>\n",
       "  </thead>\n",
       "  <tbody>\n",
       "    <tr>\n",
       "      <th>0</th>\n",
       "      <td>1</td>\n",
       "      <td>4</td>\n",
       "      <td>5</td>\n",
       "      <td>6</td>\n",
       "    </tr>\n",
       "    <tr>\n",
       "      <th>1</th>\n",
       "      <td>2</td>\n",
       "      <td>5</td>\n",
       "      <td>7</td>\n",
       "      <td>9</td>\n",
       "    </tr>\n",
       "    <tr>\n",
       "      <th>2</th>\n",
       "      <td>3</td>\n",
       "      <td>6</td>\n",
       "      <td>9</td>\n",
       "      <td>12</td>\n",
       "    </tr>\n",
       "  </tbody>\n",
       "</table>\n",
       "</div>"
      ],
      "text/plain": [
       "   A  B  C   D\n",
       "0  1  4  5   6\n",
       "1  2  5  7   9\n",
       "2  3  6  9  12"
      ]
     },
     "execution_count": 142,
     "metadata": {},
     "output_type": "execute_result"
    }
   ],
   "source": [
    "dfa = pd.DataFrame({\"A\": [1, 2, 3], \"B\": [4, 5, 6]})\n",
    "# in the second expression, x[\"C\"] will refer to the newly created column, that's equal to dfa[\"A\"] + dfa[\"B\"]\n",
    "dfa.assign(C=lambda x: x[\"A\"] + x[\"B\"], D=lambda x: x[\"A\"] + x[\"C\"])\n"
   ]
  },
  {
   "cell_type": "markdown",
   "id": "75dcc811",
   "metadata": {},
   "source": [
    "#### Indexing / selection\n",
    "- The basic of indexing are as follow:\n",
    "\n",
    "| Operation                         | Syntax              | Result       |\n",
    "|----------                         | -------             | -----        |\n",
    "| Select column                     | df[col]             | Series       |\n",
    "| Select row by label               | df.loc[label]       | Series       |\n",
    "| Select row by integer location    | df.iloc[loc]        | Series       |\n",
    "| Slice rows                        | df[1:10]            | DataFrame    |\n",
    "| Select rows by boolean vector     | df[bool_vec]        | DataFrame    |\n"
   ]
  },
  {
   "cell_type": "code",
   "execution_count": 143,
   "id": "12ca1e85",
   "metadata": {},
   "outputs": [
    {
     "data": {
      "application/vnd.microsoft.datawrangler.viewer.v0+json": {
       "columns": [
        {
         "name": "index",
         "rawType": "object",
         "type": "string"
        },
        {
         "name": "b",
         "rawType": "object",
         "type": "unknown"
        }
       ],
       "ref": "99ed0f7b-d274-410c-8184-ee48dcc4f0c5",
       "rows": [
        [
         "one",
         "2.0"
        ],
        [
         "bar",
         "2.0"
        ],
        [
         "flag",
         "False"
        ],
        [
         "foo",
         "bar"
        ],
        [
         "one_trunc",
         "2.0"
        ]
       ],
       "shape": {
        "columns": 1,
        "rows": 5
       }
      },
      "text/plain": [
       "one            2.0\n",
       "bar            2.0\n",
       "flag         False\n",
       "foo            bar\n",
       "one_trunc      2.0\n",
       "Name: b, dtype: object"
      ]
     },
     "execution_count": 143,
     "metadata": {},
     "output_type": "execute_result"
    }
   ],
   "source": [
    "df.loc[\"b\"]"
   ]
  },
  {
   "cell_type": "code",
   "execution_count": 144,
   "id": "6c34928c",
   "metadata": {},
   "outputs": [
    {
     "data": {
      "application/vnd.microsoft.datawrangler.viewer.v0+json": {
       "columns": [
        {
         "name": "index",
         "rawType": "object",
         "type": "string"
        },
        {
         "name": "c",
         "rawType": "object",
         "type": "unknown"
        }
       ],
       "ref": "379a5fd6-3bd2-4493-9994-c5fbb71ed7db",
       "rows": [
        [
         "one",
         "3.0"
        ],
        [
         "bar",
         "3.0"
        ],
        [
         "flag",
         "True"
        ],
        [
         "foo",
         "bar"
        ],
        [
         "one_trunc",
         null
        ]
       ],
       "shape": {
        "columns": 1,
        "rows": 5
       }
      },
      "text/plain": [
       "one           3.0\n",
       "bar           3.0\n",
       "flag         True\n",
       "foo           bar\n",
       "one_trunc     NaN\n",
       "Name: c, dtype: object"
      ]
     },
     "execution_count": 144,
     "metadata": {},
     "output_type": "execute_result"
    }
   ],
   "source": [
    "df.iloc[2]"
   ]
  },
  {
   "cell_type": "markdown",
   "id": "35e46aa9",
   "metadata": {},
   "source": [
    "#### Data alignment and arithmetic\n",
    "- Data alignment between DataFrame objects automatically align on both the columns and the index (row labels). Again, the resulting object will have the union of the column and row labels."
   ]
  },
  {
   "cell_type": "code",
   "execution_count": 145,
   "id": "ae304504",
   "metadata": {},
   "outputs": [
    {
     "data": {
      "application/vnd.microsoft.datawrangler.viewer.v0+json": {
       "columns": [
        {
         "name": "index",
         "rawType": "int64",
         "type": "integer"
        },
        {
         "name": "A",
         "rawType": "float64",
         "type": "float"
        },
        {
         "name": "B",
         "rawType": "float64",
         "type": "float"
        },
        {
         "name": "C",
         "rawType": "float64",
         "type": "float"
        },
        {
         "name": "D",
         "rawType": "float64",
         "type": "float"
        }
       ],
       "ref": "55480617-3ea6-4fdc-8bd9-1c67abe4af96",
       "rows": [
        [
         "0",
         "0.513833126373831",
         "-2.225734487018482",
         "1.9743800409439345",
         null
        ],
        [
         "1",
         "-0.19923302789231112",
         "-1.664608559197096",
         "-0.3222518563002119",
         null
        ],
        [
         "2",
         "1.2986284913772377",
         "-0.1386280556940524",
         "3.6827802442973585",
         null
        ],
        [
         "3",
         "-0.48532563656588373",
         "-1.4392601657427417",
         "-1.9544313381317138",
         null
        ],
        [
         "4",
         "0.8404955486351592",
         "-0.027245457560454156",
         "-0.6565865969082844",
         null
        ],
        [
         "5",
         "0.29296477117464853",
         "0.4245810017696975",
         "1.5694097572172532",
         null
        ],
        [
         "6",
         "2.3223541997224615",
         "1.9543639992346147",
         "-1.0186063604127316",
         null
        ],
        [
         "7",
         null,
         null,
         null,
         null
        ],
        [
         "8",
         null,
         null,
         null,
         null
        ],
        [
         "9",
         null,
         null,
         null,
         null
        ]
       ],
       "shape": {
        "columns": 4,
        "rows": 10
       }
      },
      "text/html": [
       "<div>\n",
       "<style scoped>\n",
       "    .dataframe tbody tr th:only-of-type {\n",
       "        vertical-align: middle;\n",
       "    }\n",
       "\n",
       "    .dataframe tbody tr th {\n",
       "        vertical-align: top;\n",
       "    }\n",
       "\n",
       "    .dataframe thead th {\n",
       "        text-align: right;\n",
       "    }\n",
       "</style>\n",
       "<table border=\"1\" class=\"dataframe\">\n",
       "  <thead>\n",
       "    <tr style=\"text-align: right;\">\n",
       "      <th></th>\n",
       "      <th>A</th>\n",
       "      <th>B</th>\n",
       "      <th>C</th>\n",
       "      <th>D</th>\n",
       "    </tr>\n",
       "  </thead>\n",
       "  <tbody>\n",
       "    <tr>\n",
       "      <th>0</th>\n",
       "      <td>0.513833</td>\n",
       "      <td>-2.225734</td>\n",
       "      <td>1.974380</td>\n",
       "      <td>NaN</td>\n",
       "    </tr>\n",
       "    <tr>\n",
       "      <th>1</th>\n",
       "      <td>-0.199233</td>\n",
       "      <td>-1.664609</td>\n",
       "      <td>-0.322252</td>\n",
       "      <td>NaN</td>\n",
       "    </tr>\n",
       "    <tr>\n",
       "      <th>2</th>\n",
       "      <td>1.298628</td>\n",
       "      <td>-0.138628</td>\n",
       "      <td>3.682780</td>\n",
       "      <td>NaN</td>\n",
       "    </tr>\n",
       "    <tr>\n",
       "      <th>3</th>\n",
       "      <td>-0.485326</td>\n",
       "      <td>-1.439260</td>\n",
       "      <td>-1.954431</td>\n",
       "      <td>NaN</td>\n",
       "    </tr>\n",
       "    <tr>\n",
       "      <th>4</th>\n",
       "      <td>0.840496</td>\n",
       "      <td>-0.027245</td>\n",
       "      <td>-0.656587</td>\n",
       "      <td>NaN</td>\n",
       "    </tr>\n",
       "    <tr>\n",
       "      <th>5</th>\n",
       "      <td>0.292965</td>\n",
       "      <td>0.424581</td>\n",
       "      <td>1.569410</td>\n",
       "      <td>NaN</td>\n",
       "    </tr>\n",
       "    <tr>\n",
       "      <th>6</th>\n",
       "      <td>2.322354</td>\n",
       "      <td>1.954364</td>\n",
       "      <td>-1.018606</td>\n",
       "      <td>NaN</td>\n",
       "    </tr>\n",
       "    <tr>\n",
       "      <th>7</th>\n",
       "      <td>NaN</td>\n",
       "      <td>NaN</td>\n",
       "      <td>NaN</td>\n",
       "      <td>NaN</td>\n",
       "    </tr>\n",
       "    <tr>\n",
       "      <th>8</th>\n",
       "      <td>NaN</td>\n",
       "      <td>NaN</td>\n",
       "      <td>NaN</td>\n",
       "      <td>NaN</td>\n",
       "    </tr>\n",
       "    <tr>\n",
       "      <th>9</th>\n",
       "      <td>NaN</td>\n",
       "      <td>NaN</td>\n",
       "      <td>NaN</td>\n",
       "      <td>NaN</td>\n",
       "    </tr>\n",
       "  </tbody>\n",
       "</table>\n",
       "</div>"
      ],
      "text/plain": [
       "          A         B         C   D\n",
       "0  0.513833 -2.225734  1.974380 NaN\n",
       "1 -0.199233 -1.664609 -0.322252 NaN\n",
       "2  1.298628 -0.138628  3.682780 NaN\n",
       "3 -0.485326 -1.439260 -1.954431 NaN\n",
       "4  0.840496 -0.027245 -0.656587 NaN\n",
       "5  0.292965  0.424581  1.569410 NaN\n",
       "6  2.322354  1.954364 -1.018606 NaN\n",
       "7       NaN       NaN       NaN NaN\n",
       "8       NaN       NaN       NaN NaN\n",
       "9       NaN       NaN       NaN NaN"
      ]
     },
     "execution_count": 145,
     "metadata": {},
     "output_type": "execute_result"
    }
   ],
   "source": [
    "df = pd.DataFrame(np.random.randn(10, 4), columns=[\"A\", \"B\", \"C\", \"D\"])\n",
    "df2 = pd.DataFrame(np.random.randn(7, 3), columns=[\"A\", \"B\", \"C\"])\n",
    "df + df2"
   ]
  },
  {
   "cell_type": "markdown",
   "id": "81c91d0b",
   "metadata": {},
   "source": [
    "- When doing an operation between DataFrame and Series, the default behavior is to align the Series index on the DataFrame columns, thus broadcasting row-wise. For Example:"
   ]
  },
  {
   "cell_type": "code",
   "execution_count": 146,
   "id": "3dfd8996",
   "metadata": {},
   "outputs": [
    {
     "data": {
      "application/vnd.microsoft.datawrangler.viewer.v0+json": {
       "columns": [
        {
         "name": "index",
         "rawType": "int64",
         "type": "integer"
        },
        {
         "name": "A",
         "rawType": "float64",
         "type": "float"
        },
        {
         "name": "B",
         "rawType": "float64",
         "type": "float"
        },
        {
         "name": "C",
         "rawType": "float64",
         "type": "float"
        },
        {
         "name": "D",
         "rawType": "float64",
         "type": "float"
        }
       ],
       "ref": "78a8f0a1-ae1b-4909-8a2b-4f0484337157",
       "rows": [
        [
         "0",
         "0.0",
         "0.0",
         "0.0",
         "0.0"
        ],
        [
         "1",
         "1.0155635365427031",
         "-1.588484220787545",
         "-0.15359893523879564",
         "0.6941205437086138"
        ],
        [
         "2",
         "1.2408946522531406",
         "0.5509603907165974",
         "0.1502369782756119",
         "-0.9504051809802873"
        ],
        [
         "3",
         "0.338099902686197",
         "0.4514627468924781",
         "-0.717464552426628",
         "-2.6438803347656803"
        ],
        [
         "4",
         "-0.5169747017998783",
         "-0.16656882987519828",
         "-0.5658952713041213",
         "-0.05908346539661302"
        ],
        [
         "5",
         "0.429397025568763",
         "0.8639237003063093",
         "-0.17032031843943152",
         "-3.5589282344232753"
        ],
        [
         "6",
         "0.5624966670362764",
         "0.7686388083593271",
         "-1.5559204108546325",
         "-1.240594961743769"
        ],
        [
         "7",
         "0.7891737828318178",
         "1.062798351582885",
         "-0.5013106392543367",
         "-1.8590723403319884"
        ],
        [
         "8",
         "-0.05476649551677562",
         "-0.13168464225715126",
         "-1.7506280754265446",
         "0.803925147411104"
        ],
        [
         "9",
         "0.37882750717176344",
         "0.3564038948253701",
         "-0.3759652782894002",
         "1.628322088333061"
        ]
       ],
       "shape": {
        "columns": 4,
        "rows": 10
       }
      },
      "text/html": [
       "<div>\n",
       "<style scoped>\n",
       "    .dataframe tbody tr th:only-of-type {\n",
       "        vertical-align: middle;\n",
       "    }\n",
       "\n",
       "    .dataframe tbody tr th {\n",
       "        vertical-align: top;\n",
       "    }\n",
       "\n",
       "    .dataframe thead th {\n",
       "        text-align: right;\n",
       "    }\n",
       "</style>\n",
       "<table border=\"1\" class=\"dataframe\">\n",
       "  <thead>\n",
       "    <tr style=\"text-align: right;\">\n",
       "      <th></th>\n",
       "      <th>A</th>\n",
       "      <th>B</th>\n",
       "      <th>C</th>\n",
       "      <th>D</th>\n",
       "    </tr>\n",
       "  </thead>\n",
       "  <tbody>\n",
       "    <tr>\n",
       "      <th>0</th>\n",
       "      <td>0.000000</td>\n",
       "      <td>0.000000</td>\n",
       "      <td>0.000000</td>\n",
       "      <td>0.000000</td>\n",
       "    </tr>\n",
       "    <tr>\n",
       "      <th>1</th>\n",
       "      <td>1.015564</td>\n",
       "      <td>-1.588484</td>\n",
       "      <td>-0.153599</td>\n",
       "      <td>0.694121</td>\n",
       "    </tr>\n",
       "    <tr>\n",
       "      <th>2</th>\n",
       "      <td>1.240895</td>\n",
       "      <td>0.550960</td>\n",
       "      <td>0.150237</td>\n",
       "      <td>-0.950405</td>\n",
       "    </tr>\n",
       "    <tr>\n",
       "      <th>3</th>\n",
       "      <td>0.338100</td>\n",
       "      <td>0.451463</td>\n",
       "      <td>-0.717465</td>\n",
       "      <td>-2.643880</td>\n",
       "    </tr>\n",
       "    <tr>\n",
       "      <th>4</th>\n",
       "      <td>-0.516975</td>\n",
       "      <td>-0.166569</td>\n",
       "      <td>-0.565895</td>\n",
       "      <td>-0.059083</td>\n",
       "    </tr>\n",
       "    <tr>\n",
       "      <th>5</th>\n",
       "      <td>0.429397</td>\n",
       "      <td>0.863924</td>\n",
       "      <td>-0.170320</td>\n",
       "      <td>-3.558928</td>\n",
       "    </tr>\n",
       "    <tr>\n",
       "      <th>6</th>\n",
       "      <td>0.562497</td>\n",
       "      <td>0.768639</td>\n",
       "      <td>-1.555920</td>\n",
       "      <td>-1.240595</td>\n",
       "    </tr>\n",
       "    <tr>\n",
       "      <th>7</th>\n",
       "      <td>0.789174</td>\n",
       "      <td>1.062798</td>\n",
       "      <td>-0.501311</td>\n",
       "      <td>-1.859072</td>\n",
       "    </tr>\n",
       "    <tr>\n",
       "      <th>8</th>\n",
       "      <td>-0.054766</td>\n",
       "      <td>-0.131685</td>\n",
       "      <td>-1.750628</td>\n",
       "      <td>0.803925</td>\n",
       "    </tr>\n",
       "    <tr>\n",
       "      <th>9</th>\n",
       "      <td>0.378828</td>\n",
       "      <td>0.356404</td>\n",
       "      <td>-0.375965</td>\n",
       "      <td>1.628322</td>\n",
       "    </tr>\n",
       "  </tbody>\n",
       "</table>\n",
       "</div>"
      ],
      "text/plain": [
       "          A         B         C         D\n",
       "0  0.000000  0.000000  0.000000  0.000000\n",
       "1  1.015564 -1.588484 -0.153599  0.694121\n",
       "2  1.240895  0.550960  0.150237 -0.950405\n",
       "3  0.338100  0.451463 -0.717465 -2.643880\n",
       "4 -0.516975 -0.166569 -0.565895 -0.059083\n",
       "5  0.429397  0.863924 -0.170320 -3.558928\n",
       "6  0.562497  0.768639 -1.555920 -1.240595\n",
       "7  0.789174  1.062798 -0.501311 -1.859072\n",
       "8 -0.054766 -0.131685 -1.750628  0.803925\n",
       "9  0.378828  0.356404 -0.375965  1.628322"
      ]
     },
     "execution_count": 146,
     "metadata": {},
     "output_type": "execute_result"
    }
   ],
   "source": [
    "df - df.iloc[0]"
   ]
  },
  {
   "cell_type": "markdown",
   "id": "8a07e2ff",
   "metadata": {},
   "source": [
    "- Arithmetic operations with scalars operate element-wise:"
   ]
  },
  {
   "cell_type": "code",
   "execution_count": 147,
   "id": "6a9d6e9d",
   "metadata": {},
   "outputs": [
    {
     "data": {
      "application/vnd.microsoft.datawrangler.viewer.v0+json": {
       "columns": [
        {
         "name": "index",
         "rawType": "int64",
         "type": "integer"
        },
        {
         "name": "A",
         "rawType": "float64",
         "type": "float"
        },
        {
         "name": "B",
         "rawType": "float64",
         "type": "float"
        },
        {
         "name": "C",
         "rawType": "float64",
         "type": "float"
        },
        {
         "name": "D",
         "rawType": "float64",
         "type": "float"
        }
       ],
       "ref": "7ddc64db-fcd4-4fc0-bbe5-f693c1ed5f80",
       "rows": [
        [
         "0",
         "2.0902764891432177",
         "0.06700918864154914",
         "8.028137987996947",
         "6.846427560895884"
        ],
        [
         "1",
         "7.168094171856734",
         "-7.875411915296175",
         "7.2601433118029695",
         "10.317030279438953"
        ],
        [
         "2",
         "8.294749750408922",
         "2.821811142224536",
         "8.779322879375007",
         "2.094401655994448"
        ],
        [
         "3",
         "3.7807760025742025",
         "2.3243229231039395",
         "4.440815225863808",
         "-6.372974112932516"
        ],
        [
         "4",
         "-0.4945970198561733",
         "-0.7658349607344421",
         "5.198661631476341",
         "6.551010233912819"
        ],
        [
         "5",
         "4.237261616987033",
         "4.386627690173095",
         "7.17653639579979",
         "-10.948213611220494"
        ],
        [
         "6",
         "4.9027598243246",
         "3.910203230438184",
         "0.24853593372378535",
         "0.643452752177039"
        ],
        [
         "7",
         "6.0361454033023065",
         "5.381000946555973",
         "5.521584791725264",
         "-2.4489341407640577"
        ],
        [
         "8",
         "1.8164440115593399",
         "-0.5914140226442073",
         "-0.7250023891357755",
         "10.866053297951403"
        ],
        [
         "9",
         "3.9844140250020352",
         "1.8490286627683994",
         "6.148311596549947",
         "14.988038002561188"
        ]
       ],
       "shape": {
        "columns": 4,
        "rows": 10
       }
      },
      "text/html": [
       "<div>\n",
       "<style scoped>\n",
       "    .dataframe tbody tr th:only-of-type {\n",
       "        vertical-align: middle;\n",
       "    }\n",
       "\n",
       "    .dataframe tbody tr th {\n",
       "        vertical-align: top;\n",
       "    }\n",
       "\n",
       "    .dataframe thead th {\n",
       "        text-align: right;\n",
       "    }\n",
       "</style>\n",
       "<table border=\"1\" class=\"dataframe\">\n",
       "  <thead>\n",
       "    <tr style=\"text-align: right;\">\n",
       "      <th></th>\n",
       "      <th>A</th>\n",
       "      <th>B</th>\n",
       "      <th>C</th>\n",
       "      <th>D</th>\n",
       "    </tr>\n",
       "  </thead>\n",
       "  <tbody>\n",
       "    <tr>\n",
       "      <th>0</th>\n",
       "      <td>2.090276</td>\n",
       "      <td>0.067009</td>\n",
       "      <td>8.028138</td>\n",
       "      <td>6.846428</td>\n",
       "    </tr>\n",
       "    <tr>\n",
       "      <th>1</th>\n",
       "      <td>7.168094</td>\n",
       "      <td>-7.875412</td>\n",
       "      <td>7.260143</td>\n",
       "      <td>10.317030</td>\n",
       "    </tr>\n",
       "    <tr>\n",
       "      <th>2</th>\n",
       "      <td>8.294750</td>\n",
       "      <td>2.821811</td>\n",
       "      <td>8.779323</td>\n",
       "      <td>2.094402</td>\n",
       "    </tr>\n",
       "    <tr>\n",
       "      <th>3</th>\n",
       "      <td>3.780776</td>\n",
       "      <td>2.324323</td>\n",
       "      <td>4.440815</td>\n",
       "      <td>-6.372974</td>\n",
       "    </tr>\n",
       "    <tr>\n",
       "      <th>4</th>\n",
       "      <td>-0.494597</td>\n",
       "      <td>-0.765835</td>\n",
       "      <td>5.198662</td>\n",
       "      <td>6.551010</td>\n",
       "    </tr>\n",
       "    <tr>\n",
       "      <th>5</th>\n",
       "      <td>4.237262</td>\n",
       "      <td>4.386628</td>\n",
       "      <td>7.176536</td>\n",
       "      <td>-10.948214</td>\n",
       "    </tr>\n",
       "    <tr>\n",
       "      <th>6</th>\n",
       "      <td>4.902760</td>\n",
       "      <td>3.910203</td>\n",
       "      <td>0.248536</td>\n",
       "      <td>0.643453</td>\n",
       "    </tr>\n",
       "    <tr>\n",
       "      <th>7</th>\n",
       "      <td>6.036145</td>\n",
       "      <td>5.381001</td>\n",
       "      <td>5.521585</td>\n",
       "      <td>-2.448934</td>\n",
       "    </tr>\n",
       "    <tr>\n",
       "      <th>8</th>\n",
       "      <td>1.816444</td>\n",
       "      <td>-0.591414</td>\n",
       "      <td>-0.725002</td>\n",
       "      <td>10.866053</td>\n",
       "    </tr>\n",
       "    <tr>\n",
       "      <th>9</th>\n",
       "      <td>3.984414</td>\n",
       "      <td>1.849029</td>\n",
       "      <td>6.148312</td>\n",
       "      <td>14.988038</td>\n",
       "    </tr>\n",
       "  </tbody>\n",
       "</table>\n",
       "</div>"
      ],
      "text/plain": [
       "          A         B         C          D\n",
       "0  2.090276  0.067009  8.028138   6.846428\n",
       "1  7.168094 -7.875412  7.260143  10.317030\n",
       "2  8.294750  2.821811  8.779323   2.094402\n",
       "3  3.780776  2.324323  4.440815  -6.372974\n",
       "4 -0.494597 -0.765835  5.198662   6.551010\n",
       "5  4.237262  4.386628  7.176536 -10.948214\n",
       "6  4.902760  3.910203  0.248536   0.643453\n",
       "7  6.036145  5.381001  5.521585  -2.448934\n",
       "8  1.816444 -0.591414 -0.725002  10.866053\n",
       "9  3.984414  1.849029  6.148312  14.988038"
      ]
     },
     "execution_count": 147,
     "metadata": {},
     "output_type": "execute_result"
    }
   ],
   "source": [
    "df * 5 + 2"
   ]
  },
  {
   "cell_type": "code",
   "execution_count": 148,
   "id": "8d7b84d2",
   "metadata": {},
   "outputs": [
    {
     "data": {
      "application/vnd.microsoft.datawrangler.viewer.v0+json": {
       "columns": [
        {
         "name": "index",
         "rawType": "int64",
         "type": "integer"
        },
        {
         "name": "A",
         "rawType": "float64",
         "type": "float"
        },
        {
         "name": "B",
         "rawType": "float64",
         "type": "float"
        },
        {
         "name": "C",
         "rawType": "float64",
         "type": "float"
        },
        {
         "name": "D",
         "rawType": "float64",
         "type": "float"
        }
       ],
       "ref": "0242a476-da2d-4bfd-840c-94120c9d400f",
       "rows": [
        [
         "0",
         "55.38540596176505",
         "-2.5866651670662324",
         "0.8294435213586441",
         "1.0316877611755177"
        ],
        [
         "1",
         "0.9674746306342279",
         "-0.5063079943283606",
         "0.9505444440612013",
         "0.6011761208036973"
        ],
        [
         "2",
         "0.7943127524132614",
         "6.084122912310058",
         "0.7375367848626433",
         "52.96517256322352"
        ],
        [
         "3",
         "2.8077647007665445",
         "15.416733273576193",
         "2.0484959070306084",
         "-0.5971593764128837"
        ],
        [
         "4",
         "-2.004331745849787",
         "-1.8077723620473347",
         "1.563153773690108",
         "1.0986571646755348"
        ],
        [
         "5",
         "2.234874974851446",
         "2.0950062804464338",
         "0.9658968116319957",
         "-0.38615365409689917"
        ],
        [
         "6",
         "1.7224986917969956",
         "2.6175225338997268",
         "-2.854754542941034",
         "-3.685828125798192"
        ],
        [
         "7",
         "1.238805716937027",
         "1.4788519965051192",
         "1.4198153092177694",
         "-1.1238646924859406"
        ],
        [
         "8",
         "-27.23964520294796",
         "-1.929448539025091",
         "-1.8348607766122846",
         "0.5639487866777547"
        ],
        [
         "9",
         "2.519635487858877",
         "-33.11886939392775",
         "1.2053096503547087",
         "0.384969615812182"
        ]
       ],
       "shape": {
        "columns": 4,
        "rows": 10
       }
      },
      "text/html": [
       "<div>\n",
       "<style scoped>\n",
       "    .dataframe tbody tr th:only-of-type {\n",
       "        vertical-align: middle;\n",
       "    }\n",
       "\n",
       "    .dataframe tbody tr th {\n",
       "        vertical-align: top;\n",
       "    }\n",
       "\n",
       "    .dataframe thead th {\n",
       "        text-align: right;\n",
       "    }\n",
       "</style>\n",
       "<table border=\"1\" class=\"dataframe\">\n",
       "  <thead>\n",
       "    <tr style=\"text-align: right;\">\n",
       "      <th></th>\n",
       "      <th>A</th>\n",
       "      <th>B</th>\n",
       "      <th>C</th>\n",
       "      <th>D</th>\n",
       "    </tr>\n",
       "  </thead>\n",
       "  <tbody>\n",
       "    <tr>\n",
       "      <th>0</th>\n",
       "      <td>55.385406</td>\n",
       "      <td>-2.586665</td>\n",
       "      <td>0.829444</td>\n",
       "      <td>1.031688</td>\n",
       "    </tr>\n",
       "    <tr>\n",
       "      <th>1</th>\n",
       "      <td>0.967475</td>\n",
       "      <td>-0.506308</td>\n",
       "      <td>0.950544</td>\n",
       "      <td>0.601176</td>\n",
       "    </tr>\n",
       "    <tr>\n",
       "      <th>2</th>\n",
       "      <td>0.794313</td>\n",
       "      <td>6.084123</td>\n",
       "      <td>0.737537</td>\n",
       "      <td>52.965173</td>\n",
       "    </tr>\n",
       "    <tr>\n",
       "      <th>3</th>\n",
       "      <td>2.807765</td>\n",
       "      <td>15.416733</td>\n",
       "      <td>2.048496</td>\n",
       "      <td>-0.597159</td>\n",
       "    </tr>\n",
       "    <tr>\n",
       "      <th>4</th>\n",
       "      <td>-2.004332</td>\n",
       "      <td>-1.807772</td>\n",
       "      <td>1.563154</td>\n",
       "      <td>1.098657</td>\n",
       "    </tr>\n",
       "    <tr>\n",
       "      <th>5</th>\n",
       "      <td>2.234875</td>\n",
       "      <td>2.095006</td>\n",
       "      <td>0.965897</td>\n",
       "      <td>-0.386154</td>\n",
       "    </tr>\n",
       "    <tr>\n",
       "      <th>6</th>\n",
       "      <td>1.722499</td>\n",
       "      <td>2.617523</td>\n",
       "      <td>-2.854755</td>\n",
       "      <td>-3.685828</td>\n",
       "    </tr>\n",
       "    <tr>\n",
       "      <th>7</th>\n",
       "      <td>1.238806</td>\n",
       "      <td>1.478852</td>\n",
       "      <td>1.419815</td>\n",
       "      <td>-1.123865</td>\n",
       "    </tr>\n",
       "    <tr>\n",
       "      <th>8</th>\n",
       "      <td>-27.239645</td>\n",
       "      <td>-1.929449</td>\n",
       "      <td>-1.834861</td>\n",
       "      <td>0.563949</td>\n",
       "    </tr>\n",
       "    <tr>\n",
       "      <th>9</th>\n",
       "      <td>2.519635</td>\n",
       "      <td>-33.118869</td>\n",
       "      <td>1.205310</td>\n",
       "      <td>0.384970</td>\n",
       "    </tr>\n",
       "  </tbody>\n",
       "</table>\n",
       "</div>"
      ],
      "text/plain": [
       "           A          B         C          D\n",
       "0  55.385406  -2.586665  0.829444   1.031688\n",
       "1   0.967475  -0.506308  0.950544   0.601176\n",
       "2   0.794313   6.084123  0.737537  52.965173\n",
       "3   2.807765  15.416733  2.048496  -0.597159\n",
       "4  -2.004332  -1.807772  1.563154   1.098657\n",
       "5   2.234875   2.095006  0.965897  -0.386154\n",
       "6   1.722499   2.617523 -2.854755  -3.685828\n",
       "7   1.238806   1.478852  1.419815  -1.123865\n",
       "8 -27.239645  -1.929449 -1.834861   0.563949\n",
       "9   2.519635 -33.118869  1.205310   0.384970"
      ]
     },
     "execution_count": 148,
     "metadata": {},
     "output_type": "execute_result"
    }
   ],
   "source": [
    "1 /df"
   ]
  },
  {
   "cell_type": "code",
   "execution_count": 149,
   "id": "3a0c6597",
   "metadata": {},
   "outputs": [
    {
     "data": {
      "application/vnd.microsoft.datawrangler.viewer.v0+json": {
       "columns": [
        {
         "name": "index",
         "rawType": "int64",
         "type": "integer"
        },
        {
         "name": "A",
         "rawType": "float64",
         "type": "float"
        },
        {
         "name": "B",
         "rawType": "float64",
         "type": "float"
        },
        {
         "name": "C",
         "rawType": "float64",
         "type": "float"
        },
        {
         "name": "D",
         "rawType": "float64",
         "type": "float"
        }
       ],
       "ref": "75883795-dd07-499a-900b-60fd3478d0f2",
       "rows": [
        [
         "0",
         "1.0627194439071857e-07",
         "0.022337735334819888",
         "2.112772438635872",
         "0.8826873155498025"
        ],
        [
         "1",
         "1.1414099585692599",
         "15.217414178291316",
         "1.2249272299835399",
         "7.65584466367995"
        ],
        [
         "2",
         "2.512082278517726",
         "0.000729807098793826",
         "3.3795996540374467",
         "1.2706865520137248e-07"
        ],
        [
         "3",
         "0.01609004137486325",
         "1.77023354118382e-05",
         "0.056788395433216184",
         "7.863918005353857"
        ],
        [
         "4",
         "0.061961450995049364",
         "0.09363215741433481",
         "0.16749165981339897",
         "0.686358839246631"
        ],
        [
         "5",
         "0.040085478302643376",
         "0.05191091488852377",
         "1.1488863512076521",
         "44.973781402243695"
        ],
        [
         "6",
         "0.11359635520139565",
         "0.021302878156842613",
         "0.015056530527037279",
         "0.005418258002418731"
        ],
        [
         "7",
         "0.42460704573985225",
         "0.2090745410253175",
         "0.24607788268091893",
         "0.6268215077585271"
        ],
        [
         "8",
         "1.8163277311628514e-06",
         "0.07215512786186538",
         "0.08822416002541832",
         "9.88647183637345"
        ],
        [
         "9",
         "0.024811277939822685",
         "8.311855605613429e-07",
         "0.4738113554817414",
         "45.52963675225163"
        ]
       ],
       "shape": {
        "columns": 4,
        "rows": 10
       }
      },
      "text/html": [
       "<div>\n",
       "<style scoped>\n",
       "    .dataframe tbody tr th:only-of-type {\n",
       "        vertical-align: middle;\n",
       "    }\n",
       "\n",
       "    .dataframe tbody tr th {\n",
       "        vertical-align: top;\n",
       "    }\n",
       "\n",
       "    .dataframe thead th {\n",
       "        text-align: right;\n",
       "    }\n",
       "</style>\n",
       "<table border=\"1\" class=\"dataframe\">\n",
       "  <thead>\n",
       "    <tr style=\"text-align: right;\">\n",
       "      <th></th>\n",
       "      <th>A</th>\n",
       "      <th>B</th>\n",
       "      <th>C</th>\n",
       "      <th>D</th>\n",
       "    </tr>\n",
       "  </thead>\n",
       "  <tbody>\n",
       "    <tr>\n",
       "      <th>0</th>\n",
       "      <td>1.062719e-07</td>\n",
       "      <td>2.233774e-02</td>\n",
       "      <td>2.112772</td>\n",
       "      <td>8.826873e-01</td>\n",
       "    </tr>\n",
       "    <tr>\n",
       "      <th>1</th>\n",
       "      <td>1.141410e+00</td>\n",
       "      <td>1.521741e+01</td>\n",
       "      <td>1.224927</td>\n",
       "      <td>7.655845e+00</td>\n",
       "    </tr>\n",
       "    <tr>\n",
       "      <th>2</th>\n",
       "      <td>2.512082e+00</td>\n",
       "      <td>7.298071e-04</td>\n",
       "      <td>3.379600</td>\n",
       "      <td>1.270687e-07</td>\n",
       "    </tr>\n",
       "    <tr>\n",
       "      <th>3</th>\n",
       "      <td>1.609004e-02</td>\n",
       "      <td>1.770234e-05</td>\n",
       "      <td>0.056788</td>\n",
       "      <td>7.863918e+00</td>\n",
       "    </tr>\n",
       "    <tr>\n",
       "      <th>4</th>\n",
       "      <td>6.196145e-02</td>\n",
       "      <td>9.363216e-02</td>\n",
       "      <td>0.167492</td>\n",
       "      <td>6.863588e-01</td>\n",
       "    </tr>\n",
       "    <tr>\n",
       "      <th>5</th>\n",
       "      <td>4.008548e-02</td>\n",
       "      <td>5.191091e-02</td>\n",
       "      <td>1.148886</td>\n",
       "      <td>4.497378e+01</td>\n",
       "    </tr>\n",
       "    <tr>\n",
       "      <th>6</th>\n",
       "      <td>1.135964e-01</td>\n",
       "      <td>2.130288e-02</td>\n",
       "      <td>0.015057</td>\n",
       "      <td>5.418258e-03</td>\n",
       "    </tr>\n",
       "    <tr>\n",
       "      <th>7</th>\n",
       "      <td>4.246070e-01</td>\n",
       "      <td>2.090745e-01</td>\n",
       "      <td>0.246078</td>\n",
       "      <td>6.268215e-01</td>\n",
       "    </tr>\n",
       "    <tr>\n",
       "      <th>8</th>\n",
       "      <td>1.816328e-06</td>\n",
       "      <td>7.215513e-02</td>\n",
       "      <td>0.088224</td>\n",
       "      <td>9.886472e+00</td>\n",
       "    </tr>\n",
       "    <tr>\n",
       "      <th>9</th>\n",
       "      <td>2.481128e-02</td>\n",
       "      <td>8.311856e-07</td>\n",
       "      <td>0.473811</td>\n",
       "      <td>4.552964e+01</td>\n",
       "    </tr>\n",
       "  </tbody>\n",
       "</table>\n",
       "</div>"
      ],
      "text/plain": [
       "              A             B         C             D\n",
       "0  1.062719e-07  2.233774e-02  2.112772  8.826873e-01\n",
       "1  1.141410e+00  1.521741e+01  1.224927  7.655845e+00\n",
       "2  2.512082e+00  7.298071e-04  3.379600  1.270687e-07\n",
       "3  1.609004e-02  1.770234e-05  0.056788  7.863918e+00\n",
       "4  6.196145e-02  9.363216e-02  0.167492  6.863588e-01\n",
       "5  4.008548e-02  5.191091e-02  1.148886  4.497378e+01\n",
       "6  1.135964e-01  2.130288e-02  0.015057  5.418258e-03\n",
       "7  4.246070e-01  2.090745e-01  0.246078  6.268215e-01\n",
       "8  1.816328e-06  7.215513e-02  0.088224  9.886472e+00\n",
       "9  2.481128e-02  8.311856e-07  0.473811  4.552964e+01"
      ]
     },
     "execution_count": 149,
     "metadata": {},
     "output_type": "execute_result"
    }
   ],
   "source": [
    "df ** 4"
   ]
  },
  {
   "cell_type": "markdown",
   "id": "691d378c",
   "metadata": {},
   "source": [
    "- Boolean operators operate element-wise as well:"
   ]
  },
  {
   "cell_type": "code",
   "execution_count": 150,
   "id": "08027ef4",
   "metadata": {},
   "outputs": [
    {
     "data": {
      "application/vnd.microsoft.datawrangler.viewer.v0+json": {
       "columns": [
        {
         "name": "index",
         "rawType": "int64",
         "type": "integer"
        },
        {
         "name": "a",
         "rawType": "bool",
         "type": "boolean"
        },
        {
         "name": "b",
         "rawType": "bool",
         "type": "boolean"
        }
       ],
       "ref": "abe0f54f-8135-404c-99da-37e1b5309b91",
       "rows": [
        [
         "0",
         "False",
         "False"
        ],
        [
         "1",
         "False",
         "True"
        ],
        [
         "2",
         "True",
         "False"
        ]
       ],
       "shape": {
        "columns": 2,
        "rows": 3
       }
      },
      "text/html": [
       "<div>\n",
       "<style scoped>\n",
       "    .dataframe tbody tr th:only-of-type {\n",
       "        vertical-align: middle;\n",
       "    }\n",
       "\n",
       "    .dataframe tbody tr th {\n",
       "        vertical-align: top;\n",
       "    }\n",
       "\n",
       "    .dataframe thead th {\n",
       "        text-align: right;\n",
       "    }\n",
       "</style>\n",
       "<table border=\"1\" class=\"dataframe\">\n",
       "  <thead>\n",
       "    <tr style=\"text-align: right;\">\n",
       "      <th></th>\n",
       "      <th>a</th>\n",
       "      <th>b</th>\n",
       "    </tr>\n",
       "  </thead>\n",
       "  <tbody>\n",
       "    <tr>\n",
       "      <th>0</th>\n",
       "      <td>False</td>\n",
       "      <td>False</td>\n",
       "    </tr>\n",
       "    <tr>\n",
       "      <th>1</th>\n",
       "      <td>False</td>\n",
       "      <td>True</td>\n",
       "    </tr>\n",
       "    <tr>\n",
       "      <th>2</th>\n",
       "      <td>True</td>\n",
       "      <td>False</td>\n",
       "    </tr>\n",
       "  </tbody>\n",
       "</table>\n",
       "</div>"
      ],
      "text/plain": [
       "       a      b\n",
       "0  False  False\n",
       "1  False   True\n",
       "2   True  False"
      ]
     },
     "execution_count": 150,
     "metadata": {},
     "output_type": "execute_result"
    }
   ],
   "source": [
    "df1 = pd.DataFrame({\"a\": [1, 0, 1], \"b\": [0, 1, 1]}, dtype=bool)\n",
    "df2 = pd.DataFrame({\"a\": [0, 1, 1], \"b\": [1, 1, 0]}, dtype=bool)\n",
    "df1 & df2"
   ]
  },
  {
   "cell_type": "code",
   "execution_count": 151,
   "id": "79e4298a",
   "metadata": {},
   "outputs": [
    {
     "data": {
      "application/vnd.microsoft.datawrangler.viewer.v0+json": {
       "columns": [
        {
         "name": "index",
         "rawType": "int64",
         "type": "integer"
        },
        {
         "name": "a",
         "rawType": "bool",
         "type": "boolean"
        },
        {
         "name": "b",
         "rawType": "bool",
         "type": "boolean"
        }
       ],
       "ref": "5bade134-c2bb-44cd-9a9b-7ef0ddb8e931",
       "rows": [
        [
         "0",
         "True",
         "True"
        ],
        [
         "1",
         "True",
         "True"
        ],
        [
         "2",
         "True",
         "True"
        ]
       ],
       "shape": {
        "columns": 2,
        "rows": 3
       }
      },
      "text/html": [
       "<div>\n",
       "<style scoped>\n",
       "    .dataframe tbody tr th:only-of-type {\n",
       "        vertical-align: middle;\n",
       "    }\n",
       "\n",
       "    .dataframe tbody tr th {\n",
       "        vertical-align: top;\n",
       "    }\n",
       "\n",
       "    .dataframe thead th {\n",
       "        text-align: right;\n",
       "    }\n",
       "</style>\n",
       "<table border=\"1\" class=\"dataframe\">\n",
       "  <thead>\n",
       "    <tr style=\"text-align: right;\">\n",
       "      <th></th>\n",
       "      <th>a</th>\n",
       "      <th>b</th>\n",
       "    </tr>\n",
       "  </thead>\n",
       "  <tbody>\n",
       "    <tr>\n",
       "      <th>0</th>\n",
       "      <td>True</td>\n",
       "      <td>True</td>\n",
       "    </tr>\n",
       "    <tr>\n",
       "      <th>1</th>\n",
       "      <td>True</td>\n",
       "      <td>True</td>\n",
       "    </tr>\n",
       "    <tr>\n",
       "      <th>2</th>\n",
       "      <td>True</td>\n",
       "      <td>True</td>\n",
       "    </tr>\n",
       "  </tbody>\n",
       "</table>\n",
       "</div>"
      ],
      "text/plain": [
       "      a     b\n",
       "0  True  True\n",
       "1  True  True\n",
       "2  True  True"
      ]
     },
     "execution_count": 151,
     "metadata": {},
     "output_type": "execute_result"
    }
   ],
   "source": [
    "df1 | df2"
   ]
  },
  {
   "cell_type": "code",
   "execution_count": null,
   "id": "467645b9",
   "metadata": {},
   "outputs": [
    {
     "data": {
      "application/vnd.microsoft.datawrangler.viewer.v0+json": {
       "columns": [
        {
         "name": "index",
         "rawType": "int64",
         "type": "integer"
        },
        {
         "name": "a",
         "rawType": "bool",
         "type": "boolean"
        },
        {
         "name": "b",
         "rawType": "bool",
         "type": "boolean"
        }
       ],
       "ref": "2001ffcd-6f17-4a11-b910-68e7ed317380",
       "rows": [
        [
         "0",
         "True",
         "True"
        ],
        [
         "1",
         "True",
         "False"
        ],
        [
         "2",
         "False",
         "True"
        ]
       ],
       "shape": {
        "columns": 2,
        "rows": 3
       }
      },
      "text/html": [
       "<div>\n",
       "<style scoped>\n",
       "    .dataframe tbody tr th:only-of-type {\n",
       "        vertical-align: middle;\n",
       "    }\n",
       "\n",
       "    .dataframe tbody tr th {\n",
       "        vertical-align: top;\n",
       "    }\n",
       "\n",
       "    .dataframe thead th {\n",
       "        text-align: right;\n",
       "    }\n",
       "</style>\n",
       "<table border=\"1\" class=\"dataframe\">\n",
       "  <thead>\n",
       "    <tr style=\"text-align: right;\">\n",
       "      <th></th>\n",
       "      <th>a</th>\n",
       "      <th>b</th>\n",
       "    </tr>\n",
       "  </thead>\n",
       "  <tbody>\n",
       "    <tr>\n",
       "      <th>0</th>\n",
       "      <td>True</td>\n",
       "      <td>True</td>\n",
       "    </tr>\n",
       "    <tr>\n",
       "      <th>1</th>\n",
       "      <td>True</td>\n",
       "      <td>False</td>\n",
       "    </tr>\n",
       "    <tr>\n",
       "      <th>2</th>\n",
       "      <td>False</td>\n",
       "      <td>True</td>\n",
       "    </tr>\n",
       "  </tbody>\n",
       "</table>\n",
       "</div>"
      ],
      "text/plain": [
       "       a      b\n",
       "0   True   True\n",
       "1   True  False\n",
       "2  False   True"
      ]
     },
     "execution_count": 152,
     "metadata": {},
     "output_type": "execute_result"
    }
   ],
   "source": [
    "df1 ^ df2 # xor operation"
   ]
  },
  {
   "cell_type": "code",
   "execution_count": 153,
   "id": "3a945974",
   "metadata": {},
   "outputs": [
    {
     "data": {
      "application/vnd.microsoft.datawrangler.viewer.v0+json": {
       "columns": [
        {
         "name": "index",
         "rawType": "int64",
         "type": "integer"
        },
        {
         "name": "a",
         "rawType": "bool",
         "type": "boolean"
        },
        {
         "name": "b",
         "rawType": "bool",
         "type": "boolean"
        }
       ],
       "ref": "446b678b-95f8-4dec-b0a3-f549a6c32cfc",
       "rows": [
        [
         "0",
         "False",
         "True"
        ],
        [
         "1",
         "True",
         "False"
        ],
        [
         "2",
         "False",
         "False"
        ]
       ],
       "shape": {
        "columns": 2,
        "rows": 3
       }
      },
      "text/html": [
       "<div>\n",
       "<style scoped>\n",
       "    .dataframe tbody tr th:only-of-type {\n",
       "        vertical-align: middle;\n",
       "    }\n",
       "\n",
       "    .dataframe tbody tr th {\n",
       "        vertical-align: top;\n",
       "    }\n",
       "\n",
       "    .dataframe thead th {\n",
       "        text-align: right;\n",
       "    }\n",
       "</style>\n",
       "<table border=\"1\" class=\"dataframe\">\n",
       "  <thead>\n",
       "    <tr style=\"text-align: right;\">\n",
       "      <th></th>\n",
       "      <th>a</th>\n",
       "      <th>b</th>\n",
       "    </tr>\n",
       "  </thead>\n",
       "  <tbody>\n",
       "    <tr>\n",
       "      <th>0</th>\n",
       "      <td>False</td>\n",
       "      <td>True</td>\n",
       "    </tr>\n",
       "    <tr>\n",
       "      <th>1</th>\n",
       "      <td>True</td>\n",
       "      <td>False</td>\n",
       "    </tr>\n",
       "    <tr>\n",
       "      <th>2</th>\n",
       "      <td>False</td>\n",
       "      <td>False</td>\n",
       "    </tr>\n",
       "  </tbody>\n",
       "</table>\n",
       "</div>"
      ],
      "text/plain": [
       "       a      b\n",
       "0  False   True\n",
       "1   True  False\n",
       "2  False  False"
      ]
     },
     "execution_count": 153,
     "metadata": {},
     "output_type": "execute_result"
    }
   ],
   "source": [
    "-df1"
   ]
  },
  {
   "cell_type": "markdown",
   "id": "d9844cc3",
   "metadata": {},
   "source": [
    "#### Transposing\n",
    "- To transpose, access the \"T\" attribute or DataFrame.transpose(), similar to an ndarray:"
   ]
  },
  {
   "cell_type": "code",
   "execution_count": 154,
   "id": "e99f3efe",
   "metadata": {},
   "outputs": [
    {
     "data": {
      "application/vnd.microsoft.datawrangler.viewer.v0+json": {
       "columns": [
        {
         "name": "index",
         "rawType": "object",
         "type": "string"
        },
        {
         "name": "0",
         "rawType": "float64",
         "type": "float"
        },
        {
         "name": "1",
         "rawType": "float64",
         "type": "float"
        },
        {
         "name": "2",
         "rawType": "float64",
         "type": "float"
        },
        {
         "name": "3",
         "rawType": "float64",
         "type": "float"
        },
        {
         "name": "4",
         "rawType": "float64",
         "type": "float"
        }
       ],
       "ref": "1cb5666a-5ed5-48ec-abb1-681ced4f720e",
       "rows": [
        [
         "A",
         "0.018055297828643586",
         "1.0336188343713468",
         "1.2589499500817842",
         "0.35615520051484056",
         "-0.4989194039712347"
        ],
        [
         "B",
         "-0.3865981622716902",
         "-1.975082383059235",
         "0.16436222844490722",
         "0.06486458462078794",
         "-0.5531669921468885"
        ],
        [
         "C",
         "1.2056275975993895",
         "1.052028662360594",
         "1.3558645758750014",
         "0.48816304517276154",
         "0.6397323262952682"
        ],
        [
         "D",
         "0.9692855121791768",
         "1.6634060558877906",
         "0.018880331198889592",
         "-1.6745948225865033",
         "0.9102020467825638"
        ]
       ],
       "shape": {
        "columns": 5,
        "rows": 4
       }
      },
      "text/html": [
       "<div>\n",
       "<style scoped>\n",
       "    .dataframe tbody tr th:only-of-type {\n",
       "        vertical-align: middle;\n",
       "    }\n",
       "\n",
       "    .dataframe tbody tr th {\n",
       "        vertical-align: top;\n",
       "    }\n",
       "\n",
       "    .dataframe thead th {\n",
       "        text-align: right;\n",
       "    }\n",
       "</style>\n",
       "<table border=\"1\" class=\"dataframe\">\n",
       "  <thead>\n",
       "    <tr style=\"text-align: right;\">\n",
       "      <th></th>\n",
       "      <th>0</th>\n",
       "      <th>1</th>\n",
       "      <th>2</th>\n",
       "      <th>3</th>\n",
       "      <th>4</th>\n",
       "    </tr>\n",
       "  </thead>\n",
       "  <tbody>\n",
       "    <tr>\n",
       "      <th>A</th>\n",
       "      <td>0.018055</td>\n",
       "      <td>1.033619</td>\n",
       "      <td>1.258950</td>\n",
       "      <td>0.356155</td>\n",
       "      <td>-0.498919</td>\n",
       "    </tr>\n",
       "    <tr>\n",
       "      <th>B</th>\n",
       "      <td>-0.386598</td>\n",
       "      <td>-1.975082</td>\n",
       "      <td>0.164362</td>\n",
       "      <td>0.064865</td>\n",
       "      <td>-0.553167</td>\n",
       "    </tr>\n",
       "    <tr>\n",
       "      <th>C</th>\n",
       "      <td>1.205628</td>\n",
       "      <td>1.052029</td>\n",
       "      <td>1.355865</td>\n",
       "      <td>0.488163</td>\n",
       "      <td>0.639732</td>\n",
       "    </tr>\n",
       "    <tr>\n",
       "      <th>D</th>\n",
       "      <td>0.969286</td>\n",
       "      <td>1.663406</td>\n",
       "      <td>0.018880</td>\n",
       "      <td>-1.674595</td>\n",
       "      <td>0.910202</td>\n",
       "    </tr>\n",
       "  </tbody>\n",
       "</table>\n",
       "</div>"
      ],
      "text/plain": [
       "          0         1         2         3         4\n",
       "A  0.018055  1.033619  1.258950  0.356155 -0.498919\n",
       "B -0.386598 -1.975082  0.164362  0.064865 -0.553167\n",
       "C  1.205628  1.052029  1.355865  0.488163  0.639732\n",
       "D  0.969286  1.663406  0.018880 -1.674595  0.910202"
      ]
     },
     "execution_count": 154,
     "metadata": {},
     "output_type": "execute_result"
    }
   ],
   "source": [
    "# only show the first 5 rows\n",
    "df[:5].T"
   ]
  },
  {
   "cell_type": "markdown",
   "id": "0bca807a",
   "metadata": {},
   "source": [
    "#### DataFrame interoperability with Numpy functions\n",
    "- Most numpy functions can be called directly on Series and DataFrame"
   ]
  },
  {
   "cell_type": "code",
   "execution_count": 155,
   "id": "6ca3f79b",
   "metadata": {},
   "outputs": [
    {
     "data": {
      "application/vnd.microsoft.datawrangler.viewer.v0+json": {
       "columns": [
        {
         "name": "index",
         "rawType": "int64",
         "type": "integer"
        },
        {
         "name": "A",
         "rawType": "float64",
         "type": "float"
        },
        {
         "name": "B",
         "rawType": "float64",
         "type": "float"
        },
        {
         "name": "C",
         "rawType": "float64",
         "type": "float"
        },
        {
         "name": "D",
         "rawType": "float64",
         "type": "float"
        }
       ],
       "ref": "7c238a0d-5914-44be-89ec-c3397732cf84",
       "rows": [
        [
         "0",
         "1.0182192801483168",
         "0.6793640341845105",
         "3.338853877331288",
         "2.636060353331491"
        ],
        [
         "1",
         "2.8112207914890206",
         "0.13874988113242062",
         "2.863454211594594",
         "5.277254892982701"
        ],
        [
         "2",
         "3.5217215617141746",
         "1.1786411751376034",
         "3.880114159969912",
         "1.0190596916687706"
        ],
        [
         "3",
         "1.4278291308847493",
         "1.0670145244242053",
         "1.6293204811563788",
         "0.18738408790279662"
        ],
        [
         "4",
         "0.6071864285816501",
         "0.575125505166796",
         "1.8959733091766537",
         "2.4848245334715813"
        ],
        [
         "5",
         "1.5643217185975966",
         "1.6117580472074375",
         "2.8159713920187968",
         "0.07504684786552288"
        ],
        [
         "6",
         "1.787024533333198",
         "1.465271641482137",
         "0.704481777912122",
         "0.7623805415722451"
        ],
        [
         "7",
         "2.241687836709461",
         "1.9663916024704733",
         "2.0224647853345363",
         "0.4107433023289392"
        ],
        [
         "8",
         "0.9639544874372629",
         "0.595542333013921",
         "0.5798415062757628",
         "5.889732964802243"
        ],
        [
         "9",
         "1.4871816295874605",
         "0.9702570258839571",
         "2.2925444615463992",
         "13.431565894674378"
        ]
       ],
       "shape": {
        "columns": 4,
        "rows": 10
       }
      },
      "text/html": [
       "<div>\n",
       "<style scoped>\n",
       "    .dataframe tbody tr th:only-of-type {\n",
       "        vertical-align: middle;\n",
       "    }\n",
       "\n",
       "    .dataframe tbody tr th {\n",
       "        vertical-align: top;\n",
       "    }\n",
       "\n",
       "    .dataframe thead th {\n",
       "        text-align: right;\n",
       "    }\n",
       "</style>\n",
       "<table border=\"1\" class=\"dataframe\">\n",
       "  <thead>\n",
       "    <tr style=\"text-align: right;\">\n",
       "      <th></th>\n",
       "      <th>A</th>\n",
       "      <th>B</th>\n",
       "      <th>C</th>\n",
       "      <th>D</th>\n",
       "    </tr>\n",
       "  </thead>\n",
       "  <tbody>\n",
       "    <tr>\n",
       "      <th>0</th>\n",
       "      <td>1.018219</td>\n",
       "      <td>0.679364</td>\n",
       "      <td>3.338854</td>\n",
       "      <td>2.636060</td>\n",
       "    </tr>\n",
       "    <tr>\n",
       "      <th>1</th>\n",
       "      <td>2.811221</td>\n",
       "      <td>0.138750</td>\n",
       "      <td>2.863454</td>\n",
       "      <td>5.277255</td>\n",
       "    </tr>\n",
       "    <tr>\n",
       "      <th>2</th>\n",
       "      <td>3.521722</td>\n",
       "      <td>1.178641</td>\n",
       "      <td>3.880114</td>\n",
       "      <td>1.019060</td>\n",
       "    </tr>\n",
       "    <tr>\n",
       "      <th>3</th>\n",
       "      <td>1.427829</td>\n",
       "      <td>1.067015</td>\n",
       "      <td>1.629320</td>\n",
       "      <td>0.187384</td>\n",
       "    </tr>\n",
       "    <tr>\n",
       "      <th>4</th>\n",
       "      <td>0.607186</td>\n",
       "      <td>0.575126</td>\n",
       "      <td>1.895973</td>\n",
       "      <td>2.484825</td>\n",
       "    </tr>\n",
       "    <tr>\n",
       "      <th>5</th>\n",
       "      <td>1.564322</td>\n",
       "      <td>1.611758</td>\n",
       "      <td>2.815971</td>\n",
       "      <td>0.075047</td>\n",
       "    </tr>\n",
       "    <tr>\n",
       "      <th>6</th>\n",
       "      <td>1.787025</td>\n",
       "      <td>1.465272</td>\n",
       "      <td>0.704482</td>\n",
       "      <td>0.762381</td>\n",
       "    </tr>\n",
       "    <tr>\n",
       "      <th>7</th>\n",
       "      <td>2.241688</td>\n",
       "      <td>1.966392</td>\n",
       "      <td>2.022465</td>\n",
       "      <td>0.410743</td>\n",
       "    </tr>\n",
       "    <tr>\n",
       "      <th>8</th>\n",
       "      <td>0.963954</td>\n",
       "      <td>0.595542</td>\n",
       "      <td>0.579842</td>\n",
       "      <td>5.889733</td>\n",
       "    </tr>\n",
       "    <tr>\n",
       "      <th>9</th>\n",
       "      <td>1.487182</td>\n",
       "      <td>0.970257</td>\n",
       "      <td>2.292544</td>\n",
       "      <td>13.431566</td>\n",
       "    </tr>\n",
       "  </tbody>\n",
       "</table>\n",
       "</div>"
      ],
      "text/plain": [
       "          A         B         C          D\n",
       "0  1.018219  0.679364  3.338854   2.636060\n",
       "1  2.811221  0.138750  2.863454   5.277255\n",
       "2  3.521722  1.178641  3.880114   1.019060\n",
       "3  1.427829  1.067015  1.629320   0.187384\n",
       "4  0.607186  0.575126  1.895973   2.484825\n",
       "5  1.564322  1.611758  2.815971   0.075047\n",
       "6  1.787025  1.465272  0.704482   0.762381\n",
       "7  2.241688  1.966392  2.022465   0.410743\n",
       "8  0.963954  0.595542  0.579842   5.889733\n",
       "9  1.487182  0.970257  2.292544  13.431566"
      ]
     },
     "execution_count": 155,
     "metadata": {},
     "output_type": "execute_result"
    }
   ],
   "source": [
    "np.exp(df)"
   ]
  },
  {
   "cell_type": "code",
   "execution_count": 156,
   "id": "16b5baa7",
   "metadata": {},
   "outputs": [
    {
     "data": {
      "text/plain": [
       "array([[ 0.0180553 , -0.38659816,  1.2056276 ,  0.96928551],\n",
       "       [ 1.03361883, -1.97508238,  1.05202866,  1.66340606],\n",
       "       [ 1.25894995,  0.16436223,  1.35586458,  0.01888033],\n",
       "       [ 0.3561552 ,  0.06486458,  0.48816305, -1.67459482],\n",
       "       [-0.4989194 , -0.55316699,  0.63973233,  0.91020205],\n",
       "       [ 0.44745232,  0.47732554,  1.03530728, -2.58964272],\n",
       "       [ 0.58055196,  0.38204065, -0.35029281, -0.27130945],\n",
       "       [ 0.80722908,  0.67620019,  0.70431696, -0.88978683],\n",
       "       [-0.0367112 , -0.5182828 , -0.54500048,  1.77321066],\n",
       "       [ 0.39688281, -0.03019427,  0.82966232,  2.5976076 ]])"
      ]
     },
     "execution_count": 156,
     "metadata": {},
     "output_type": "execute_result"
    }
   ],
   "source": [
    "np.asarray(df)"
   ]
  },
  {
   "cell_type": "markdown",
   "id": "5a035ea3",
   "metadata": {},
   "source": [
    "- DataFrame is not intended to be a drop-in replacement for ndarray as its indexing semantics and data model are quite different in places from an n-dimensional array.\n",
    "- Series implements __array_ufunc__(), which allows it to work with Numpy's universal functions.\n",
    "- The ufunc is applied to the underlying array in a Series."
   ]
  },
  {
   "cell_type": "code",
   "execution_count": 157,
   "id": "44353af0",
   "metadata": {},
   "outputs": [
    {
     "data": {
      "application/vnd.microsoft.datawrangler.viewer.v0+json": {
       "columns": [
        {
         "name": "index",
         "rawType": "int64",
         "type": "integer"
        },
        {
         "name": "0",
         "rawType": "float64",
         "type": "float"
        }
       ],
       "ref": "ed5b1429-c449-4f34-973d-00d50dd2f482",
       "rows": [
        [
         "0",
         "2.718281828459045"
        ],
        [
         "1",
         "7.38905609893065"
        ],
        [
         "2",
         "20.085536923187668"
        ],
        [
         "3",
         "54.598150033144236"
        ]
       ],
       "shape": {
        "columns": 1,
        "rows": 4
       }
      },
      "text/plain": [
       "0     2.718282\n",
       "1     7.389056\n",
       "2    20.085537\n",
       "3    54.598150\n",
       "dtype: float64"
      ]
     },
     "execution_count": 157,
     "metadata": {},
     "output_type": "execute_result"
    }
   ],
   "source": [
    "ser = pd.Series([1, 2, 3, 4])\n",
    "np.exp(ser)"
   ]
  },
  {
   "cell_type": "markdown",
   "id": "2c8eae29",
   "metadata": {},
   "source": [
    "- When multiple Series are passed to a ufunc, they are aligned before performing the operation.\n",
    "- Like other parts of the library, pandas will automatically align labeled inputs as part of the ufunc with multiple inputs. For example, using numpy.remainder() on two pandas.Series with differently ordered labels will align before the operations."
   ]
  },
  {
   "cell_type": "code",
   "execution_count": null,
   "id": "4e7051d0",
   "metadata": {},
   "outputs": [
    {
     "data": {
      "application/vnd.microsoft.datawrangler.viewer.v0+json": {
       "columns": [
        {
         "name": "index",
         "rawType": "object",
         "type": "string"
        },
        {
         "name": "0",
         "rawType": "int64",
         "type": "integer"
        }
       ],
       "ref": "a6a553ca-6f0c-4af9-8149-8f2e8fd7b811",
       "rows": [
        [
         "a",
         "1"
        ],
        [
         "b",
         "0"
        ],
        [
         "c",
         "3"
        ]
       ],
       "shape": {
        "columns": 1,
        "rows": 3
       }
      },
      "text/plain": [
       "a    1\n",
       "b    0\n",
       "c    3\n",
       "dtype: int64"
      ]
     },
     "execution_count": 158,
     "metadata": {},
     "output_type": "execute_result"
    }
   ],
   "source": [
    "ser1 = pd.Series([1, 2, 3], index=[\"a\", \"b\", \"c\"])\n",
    "ser2 = pd.Series([1, 3, 5], index=[\"b\", \"a\", \"c\"])\n",
    "np.remainder(ser1, ser2)\n"
   ]
  },
  {
   "cell_type": "code",
   "execution_count": 159,
   "id": "8d7c3d43",
   "metadata": {},
   "outputs": [
    {
     "data": {
      "application/vnd.microsoft.datawrangler.viewer.v0+json": {
       "columns": [
        {
         "name": "index",
         "rawType": "object",
         "type": "string"
        },
        {
         "name": "0",
         "rawType": "float64",
         "type": "float"
        }
       ],
       "ref": "d592a231-9953-41f1-bf9a-ddd792d5d646",
       "rows": [
        [
         "a",
         null
        ],
        [
         "b",
         "0.0"
        ],
        [
         "c",
         "3.0"
        ],
        [
         "d",
         null
        ]
       ],
       "shape": {
        "columns": 1,
        "rows": 4
       }
      },
      "text/plain": [
       "a    NaN\n",
       "b    0.0\n",
       "c    3.0\n",
       "d    NaN\n",
       "dtype: float64"
      ]
     },
     "execution_count": 159,
     "metadata": {},
     "output_type": "execute_result"
    }
   ],
   "source": [
    "# As usual, the union of the two indices is taken, and non-overlapping values are filled with missing values.\n",
    "ser3 = pd.Series([2, 4, 6], index=[\"b\", \"c\", \"d\"])\n",
    "np.remainder(ser1, ser3)"
   ]
  },
  {
   "cell_type": "markdown",
   "id": "2fce4e6e",
   "metadata": {},
   "source": [
    "- When a binary ufunc is applied to a Series and Index, the Series implementation takes precedence and a Series is returned."
   ]
  },
  {
   "cell_type": "code",
   "execution_count": 160,
   "id": "4af4b0e7",
   "metadata": {},
   "outputs": [
    {
     "data": {
      "application/vnd.microsoft.datawrangler.viewer.v0+json": {
       "columns": [
        {
         "name": "index",
         "rawType": "int64",
         "type": "integer"
        },
        {
         "name": "0",
         "rawType": "int64",
         "type": "integer"
        }
       ],
       "ref": "a05af5d4-64c3-481c-8ed4-a4cf419ddfd1",
       "rows": [
        [
         "0",
         "4"
        ],
        [
         "1",
         "5"
        ],
        [
         "2",
         "6"
        ]
       ],
       "shape": {
        "columns": 1,
        "rows": 3
       }
      },
      "text/plain": [
       "0    4\n",
       "1    5\n",
       "2    6\n",
       "dtype: int64"
      ]
     },
     "execution_count": 160,
     "metadata": {},
     "output_type": "execute_result"
    }
   ],
   "source": [
    "ser = pd.Series([1, 2, 3])\n",
    "idx = pd.Index([4, 5, 6])\n",
    "np.maximum(ser, idx)"
   ]
  },
  {
   "cell_type": "markdown",
   "id": "8f2f2cc4",
   "metadata": {},
   "source": [
    "- Numpy ufuncs are safe to apply to Series backed by non-ndarray arrays, for example arrays.SpareArray. If possible, the ufunc is applied without converting the underlying data to an ndarray."
   ]
  },
  {
   "cell_type": "markdown",
   "id": "50654d9e",
   "metadata": {},
   "source": [
    "#### Console display\n",
    "- A very large DataFrame will be truncated to display them in the consle. You can also get a summary using info()."
   ]
  },
  {
   "cell_type": "code",
   "execution_count": 161,
   "id": "1974145c",
   "metadata": {},
   "outputs": [
    {
     "name": "stdout",
     "output_type": "stream",
     "text": [
      "          A         B         C         D\n",
      "0  0.018055 -0.386598  1.205628  0.969286\n",
      "1  1.033619 -1.975082  1.052029  1.663406\n",
      "2  1.258950  0.164362  1.355865  0.018880\n",
      "3  0.356155  0.064865  0.488163 -1.674595\n",
      "4 -0.498919 -0.553167  0.639732  0.910202\n",
      "5  0.447452  0.477326  1.035307 -2.589643\n",
      "6  0.580552  0.382041 -0.350293 -0.271309\n",
      "7  0.807229  0.676200  0.704317 -0.889787\n",
      "8 -0.036711 -0.518283 -0.545000  1.773211\n",
      "9  0.396883 -0.030194  0.829662  2.597608\n"
     ]
    }
   ],
   "source": [
    "print(df)"
   ]
  },
  {
   "cell_type": "code",
   "execution_count": 162,
   "id": "f64082e1",
   "metadata": {},
   "outputs": [
    {
     "name": "stdout",
     "output_type": "stream",
     "text": [
      "<class 'pandas.core.frame.DataFrame'>\n",
      "RangeIndex: 10 entries, 0 to 9\n",
      "Data columns (total 4 columns):\n",
      " #   Column  Non-Null Count  Dtype  \n",
      "---  ------  --------------  -----  \n",
      " 0   A       10 non-null     float64\n",
      " 1   B       10 non-null     float64\n",
      " 2   C       10 non-null     float64\n",
      " 3   D       10 non-null     float64\n",
      "dtypes: float64(4)\n",
      "memory usage: 452.0 bytes\n"
     ]
    }
   ],
   "source": [
    "df.info()"
   ]
  },
  {
   "cell_type": "markdown",
   "id": "c0fa96a5",
   "metadata": {},
   "source": [
    "- However, using DataFrame.to_string() will return a string representation of the DataFrame in tabular form, though it won't always fit the console width:"
   ]
  },
  {
   "cell_type": "code",
   "execution_count": 163,
   "id": "eb747f56",
   "metadata": {},
   "outputs": [
    {
     "name": "stdout",
     "output_type": "stream",
     "text": [
      "          A         B         C         D\n",
      "0  0.018055 -0.386598  1.205628  0.969286\n",
      "1  1.033619 -1.975082  1.052029  1.663406\n",
      "2  1.258950  0.164362  1.355865  0.018880\n",
      "3  0.356155  0.064865  0.488163 -1.674595\n",
      "4 -0.498919 -0.553167  0.639732  0.910202\n",
      "5  0.447452  0.477326  1.035307 -2.589643\n",
      "6  0.580552  0.382041 -0.350293 -0.271309\n",
      "7  0.807229  0.676200  0.704317 -0.889787\n",
      "8 -0.036711 -0.518283 -0.545000  1.773211\n",
      "9  0.396883 -0.030194  0.829662  2.597608\n"
     ]
    }
   ],
   "source": [
    "print(df.to_string())"
   ]
  },
  {
   "cell_type": "markdown",
   "id": "e0d78d05",
   "metadata": {},
   "source": [
    "- Wide DataFrames will be printed across multiple rows by default:"
   ]
  },
  {
   "cell_type": "code",
   "execution_count": 164,
   "id": "038267ab",
   "metadata": {},
   "outputs": [
    {
     "data": {
      "application/vnd.microsoft.datawrangler.viewer.v0+json": {
       "columns": [
        {
         "name": "index",
         "rawType": "int64",
         "type": "integer"
        },
        {
         "name": "0",
         "rawType": "float64",
         "type": "float"
        },
        {
         "name": "1",
         "rawType": "float64",
         "type": "float"
        },
        {
         "name": "2",
         "rawType": "float64",
         "type": "float"
        },
        {
         "name": "3",
         "rawType": "float64",
         "type": "float"
        },
        {
         "name": "4",
         "rawType": "float64",
         "type": "float"
        },
        {
         "name": "5",
         "rawType": "float64",
         "type": "float"
        },
        {
         "name": "6",
         "rawType": "float64",
         "type": "float"
        },
        {
         "name": "7",
         "rawType": "float64",
         "type": "float"
        },
        {
         "name": "8",
         "rawType": "float64",
         "type": "float"
        },
        {
         "name": "9",
         "rawType": "float64",
         "type": "float"
        },
        {
         "name": "10",
         "rawType": "float64",
         "type": "float"
        },
        {
         "name": "11",
         "rawType": "float64",
         "type": "float"
        }
       ],
       "ref": "85d7b520-0d50-4d60-bc1e-5afcfae779be",
       "rows": [
        [
         "0",
         "-0.6157054973587467",
         "1.5394157929306507",
         "-2.0701891001157517",
         "-0.29726036498315894",
         "0.2543092904861023",
         "-0.060147837889751476",
         "0.784718411607576",
         "-0.3859988143050554",
         "1.025438273652039",
         "-0.1220816389375677",
         "-0.9919260690965549",
         "-2.1126076231932447"
        ],
        [
         "1",
         "0.7020448883976602",
         "0.9325790694656716",
         "-0.8687367374133103",
         "0.0321526394326829",
         "0.3928960765132265",
         "-1.227749424237794",
         "0.9517818172951688",
         "-1.4339933059169017",
         "1.0779444714799669",
         "-0.243190777337191",
         "-0.722119812340113",
         "-0.6379244327803638"
        ],
        [
         "2",
         "-0.1891252600525547",
         "1.2079232326411984",
         "2.219423098950344",
         "-0.5873931096286928",
         "-0.6349265941232566",
         "-0.36661439775436244",
         "-0.6125457403542287",
         "0.3480705415570134",
         "0.7737104373754567",
         "1.3411006315403005",
         "-0.39734717428697064",
         "0.8738452369749615"
        ]
       ],
       "shape": {
        "columns": 12,
        "rows": 3
       }
      },
      "text/html": [
       "<div>\n",
       "<style scoped>\n",
       "    .dataframe tbody tr th:only-of-type {\n",
       "        vertical-align: middle;\n",
       "    }\n",
       "\n",
       "    .dataframe tbody tr th {\n",
       "        vertical-align: top;\n",
       "    }\n",
       "\n",
       "    .dataframe thead th {\n",
       "        text-align: right;\n",
       "    }\n",
       "</style>\n",
       "<table border=\"1\" class=\"dataframe\">\n",
       "  <thead>\n",
       "    <tr style=\"text-align: right;\">\n",
       "      <th></th>\n",
       "      <th>0</th>\n",
       "      <th>1</th>\n",
       "      <th>2</th>\n",
       "      <th>3</th>\n",
       "      <th>4</th>\n",
       "      <th>5</th>\n",
       "      <th>6</th>\n",
       "      <th>7</th>\n",
       "      <th>8</th>\n",
       "      <th>9</th>\n",
       "      <th>10</th>\n",
       "      <th>11</th>\n",
       "    </tr>\n",
       "  </thead>\n",
       "  <tbody>\n",
       "    <tr>\n",
       "      <th>0</th>\n",
       "      <td>-0.615705</td>\n",
       "      <td>1.539416</td>\n",
       "      <td>-2.070189</td>\n",
       "      <td>-0.297260</td>\n",
       "      <td>0.254309</td>\n",
       "      <td>-0.060148</td>\n",
       "      <td>0.784718</td>\n",
       "      <td>-0.385999</td>\n",
       "      <td>1.025438</td>\n",
       "      <td>-0.122082</td>\n",
       "      <td>-0.991926</td>\n",
       "      <td>-2.112608</td>\n",
       "    </tr>\n",
       "    <tr>\n",
       "      <th>1</th>\n",
       "      <td>0.702045</td>\n",
       "      <td>0.932579</td>\n",
       "      <td>-0.868737</td>\n",
       "      <td>0.032153</td>\n",
       "      <td>0.392896</td>\n",
       "      <td>-1.227749</td>\n",
       "      <td>0.951782</td>\n",
       "      <td>-1.433993</td>\n",
       "      <td>1.077944</td>\n",
       "      <td>-0.243191</td>\n",
       "      <td>-0.722120</td>\n",
       "      <td>-0.637924</td>\n",
       "    </tr>\n",
       "    <tr>\n",
       "      <th>2</th>\n",
       "      <td>-0.189125</td>\n",
       "      <td>1.207923</td>\n",
       "      <td>2.219423</td>\n",
       "      <td>-0.587393</td>\n",
       "      <td>-0.634927</td>\n",
       "      <td>-0.366614</td>\n",
       "      <td>-0.612546</td>\n",
       "      <td>0.348071</td>\n",
       "      <td>0.773710</td>\n",
       "      <td>1.341101</td>\n",
       "      <td>-0.397347</td>\n",
       "      <td>0.873845</td>\n",
       "    </tr>\n",
       "  </tbody>\n",
       "</table>\n",
       "</div>"
      ],
      "text/plain": [
       "         0         1         2         3         4         5         6   \\\n",
       "0 -0.615705  1.539416 -2.070189 -0.297260  0.254309 -0.060148  0.784718   \n",
       "1  0.702045  0.932579 -0.868737  0.032153  0.392896 -1.227749  0.951782   \n",
       "2 -0.189125  1.207923  2.219423 -0.587393 -0.634927 -0.366614 -0.612546   \n",
       "\n",
       "         7         8         9         10        11  \n",
       "0 -0.385999  1.025438 -0.122082 -0.991926 -2.112608  \n",
       "1 -1.433993  1.077944 -0.243191 -0.722120 -0.637924  \n",
       "2  0.348071  0.773710  1.341101 -0.397347  0.873845  "
      ]
     },
     "execution_count": 164,
     "metadata": {},
     "output_type": "execute_result"
    }
   ],
   "source": [
    "pd.DataFrame(np.random.randn(3, 12))"
   ]
  },
  {
   "cell_type": "code",
   "execution_count": 165,
   "id": "f6ccde6a",
   "metadata": {},
   "outputs": [
    {
     "data": {
      "application/vnd.microsoft.datawrangler.viewer.v0+json": {
       "columns": [
        {
         "name": "index",
         "rawType": "int64",
         "type": "integer"
        },
        {
         "name": "0",
         "rawType": "float64",
         "type": "float"
        },
        {
         "name": "1",
         "rawType": "float64",
         "type": "float"
        },
        {
         "name": "2",
         "rawType": "float64",
         "type": "float"
        },
        {
         "name": "3",
         "rawType": "float64",
         "type": "float"
        },
        {
         "name": "4",
         "rawType": "float64",
         "type": "float"
        },
        {
         "name": "5",
         "rawType": "float64",
         "type": "float"
        },
        {
         "name": "6",
         "rawType": "float64",
         "type": "float"
        },
        {
         "name": "7",
         "rawType": "float64",
         "type": "float"
        },
        {
         "name": "8",
         "rawType": "float64",
         "type": "float"
        },
        {
         "name": "9",
         "rawType": "float64",
         "type": "float"
        },
        {
         "name": "10",
         "rawType": "float64",
         "type": "float"
        },
        {
         "name": "11",
         "rawType": "float64",
         "type": "float"
        }
       ],
       "ref": "4035d331-f84f-4b97-b4f6-3742f2bb80fd",
       "rows": [
        [
         "0",
         "0.004971206334270028",
         "0.3483341117571609",
         "-0.9847796525022654",
         "-0.6568480356102281",
         "-0.15875372000032623",
         "-0.19249349116502484",
         "-2.4985215935108607",
         "0.3773163468861819",
         "0.20753148697188276",
         "-1.2910387389749105",
         "-1.0794333339907798",
         "-0.3078551688459645"
        ],
        [
         "1",
         "0.8925363993998021",
         "0.582921866317286",
         "-2.1702418373928007",
         "-0.8385551241208009",
         "0.40350603453561346",
         "-0.8090102321655971",
         "0.880195504575685",
         "1.2181082247719992",
         "1.9133796429505168",
         "-0.5009690881868138",
         "-1.319900806892632",
         "-1.5781174916695095"
        ],
        [
         "2",
         "1.462347557385153",
         "-2.4478384168160043",
         "-1.5961510483818928",
         "1.0151783970821728",
         "0.9478417436636695",
         "-0.35065330318951576",
         "1.4553205785958607",
         "-1.0960818544270277",
         "-0.6800777065498056",
         "0.0563797109668852",
         "-0.6032723152945221",
         "-1.2687341231951135"
        ]
       ],
       "shape": {
        "columns": 12,
        "rows": 3
       }
      },
      "text/html": [
       "<div>\n",
       "<style scoped>\n",
       "    .dataframe tbody tr th:only-of-type {\n",
       "        vertical-align: middle;\n",
       "    }\n",
       "\n",
       "    .dataframe tbody tr th {\n",
       "        vertical-align: top;\n",
       "    }\n",
       "\n",
       "    .dataframe thead th {\n",
       "        text-align: right;\n",
       "    }\n",
       "</style>\n",
       "<table border=\"1\" class=\"dataframe\">\n",
       "  <thead>\n",
       "    <tr style=\"text-align: right;\">\n",
       "      <th></th>\n",
       "      <th>0</th>\n",
       "      <th>1</th>\n",
       "      <th>2</th>\n",
       "      <th>3</th>\n",
       "      <th>4</th>\n",
       "      <th>5</th>\n",
       "      <th>6</th>\n",
       "      <th>7</th>\n",
       "      <th>8</th>\n",
       "      <th>9</th>\n",
       "      <th>10</th>\n",
       "      <th>11</th>\n",
       "    </tr>\n",
       "  </thead>\n",
       "  <tbody>\n",
       "    <tr>\n",
       "      <th>0</th>\n",
       "      <td>0.004971</td>\n",
       "      <td>0.348334</td>\n",
       "      <td>-0.984780</td>\n",
       "      <td>-0.656848</td>\n",
       "      <td>-0.158754</td>\n",
       "      <td>-0.192493</td>\n",
       "      <td>-2.498522</td>\n",
       "      <td>0.377316</td>\n",
       "      <td>0.207531</td>\n",
       "      <td>-1.291039</td>\n",
       "      <td>-1.079433</td>\n",
       "      <td>-0.307855</td>\n",
       "    </tr>\n",
       "    <tr>\n",
       "      <th>1</th>\n",
       "      <td>0.892536</td>\n",
       "      <td>0.582922</td>\n",
       "      <td>-2.170242</td>\n",
       "      <td>-0.838555</td>\n",
       "      <td>0.403506</td>\n",
       "      <td>-0.809010</td>\n",
       "      <td>0.880196</td>\n",
       "      <td>1.218108</td>\n",
       "      <td>1.913380</td>\n",
       "      <td>-0.500969</td>\n",
       "      <td>-1.319901</td>\n",
       "      <td>-1.578117</td>\n",
       "    </tr>\n",
       "    <tr>\n",
       "      <th>2</th>\n",
       "      <td>1.462348</td>\n",
       "      <td>-2.447838</td>\n",
       "      <td>-1.596151</td>\n",
       "      <td>1.015178</td>\n",
       "      <td>0.947842</td>\n",
       "      <td>-0.350653</td>\n",
       "      <td>1.455321</td>\n",
       "      <td>-1.096082</td>\n",
       "      <td>-0.680078</td>\n",
       "      <td>0.056380</td>\n",
       "      <td>-0.603272</td>\n",
       "      <td>-1.268734</td>\n",
       "    </tr>\n",
       "  </tbody>\n",
       "</table>\n",
       "</div>"
      ],
      "text/plain": [
       "         0         1         2   \\\n",
       "0  0.004971  0.348334 -0.984780   \n",
       "1  0.892536  0.582922 -2.170242   \n",
       "2  1.462348 -2.447838 -1.596151   \n",
       "\n",
       "         3         4         5   \\\n",
       "0 -0.656848 -0.158754 -0.192493   \n",
       "1 -0.838555  0.403506 -0.809010   \n",
       "2  1.015178  0.947842 -0.350653   \n",
       "\n",
       "         6         7         8   \\\n",
       "0 -2.498522  0.377316  0.207531   \n",
       "1  0.880196  1.218108  1.913380   \n",
       "2  1.455321 -1.096082 -0.680078   \n",
       "\n",
       "         9         10        11  \n",
       "0 -1.291039 -1.079433 -0.307855  \n",
       "1 -0.500969 -1.319901 -1.578117  \n",
       "2  0.056380 -0.603272 -1.268734  "
      ]
     },
     "execution_count": 165,
     "metadata": {},
     "output_type": "execute_result"
    }
   ],
   "source": [
    "pd.set_option(\"display.width\", 40) # default is 80\n",
    "pd.DataFrame(np.random.randn(3, 12))"
   ]
  },
  {
   "cell_type": "markdown",
   "id": "50b945a0",
   "metadata": {},
   "source": [
    "- You can adjust the max width of the individual columns by setting display.max_colwidth"
   ]
  },
  {
   "cell_type": "code",
   "execution_count": 168,
   "id": "bdab4ae2",
   "metadata": {},
   "outputs": [
    {
     "data": {
      "application/vnd.microsoft.datawrangler.viewer.v0+json": {
       "columns": [
        {
         "name": "index",
         "rawType": "int64",
         "type": "integer"
        },
        {
         "name": "filename",
         "rawType": "object",
         "type": "string"
        },
        {
         "name": "path",
         "rawType": "object",
         "type": "string"
        }
       ],
       "ref": "5691a66e-9c50-4237-868a-5275f5f13d46",
       "rows": [
        [
         "0",
         "filename_01",
         "media/user_name/storage/folder_01/filename_01"
        ],
        [
         "1",
         "filename_02",
         "media/user_name/storage/folder_02/filename_02"
        ]
       ],
       "shape": {
        "columns": 2,
        "rows": 2
       }
      },
      "text/html": [
       "<div>\n",
       "<style scoped>\n",
       "    .dataframe tbody tr th:only-of-type {\n",
       "        vertical-align: middle;\n",
       "    }\n",
       "\n",
       "    .dataframe tbody tr th {\n",
       "        vertical-align: top;\n",
       "    }\n",
       "\n",
       "    .dataframe thead th {\n",
       "        text-align: right;\n",
       "    }\n",
       "</style>\n",
       "<table border=\"1\" class=\"dataframe\">\n",
       "  <thead>\n",
       "    <tr style=\"text-align: right;\">\n",
       "      <th></th>\n",
       "      <th>filename</th>\n",
       "      <th>path</th>\n",
       "    </tr>\n",
       "  </thead>\n",
       "  <tbody>\n",
       "    <tr>\n",
       "      <th>0</th>\n",
       "      <td>filename_01</td>\n",
       "      <td>media/user_name/storage/fo...</td>\n",
       "    </tr>\n",
       "    <tr>\n",
       "      <th>1</th>\n",
       "      <td>filename_02</td>\n",
       "      <td>media/user_name/storage/fo...</td>\n",
       "    </tr>\n",
       "  </tbody>\n",
       "</table>\n",
       "</div>"
      ],
      "text/plain": [
       "      filename  \\\n",
       "0  filename_01   \n",
       "1  filename_02   \n",
       "\n",
       "                            path  \n",
       "0  media/user_name/storage/fo...  \n",
       "1  media/user_name/storage/fo...  "
      ]
     },
     "execution_count": 168,
     "metadata": {},
     "output_type": "execute_result"
    }
   ],
   "source": [
    "datafile = {\n",
    "    \"filename\": [\"filename_01\", \"filename_02\"],\n",
    "    \"path\": [\n",
    "        \"media/user_name/storage/folder_01/filename_01\",\n",
    "        \"media/user_name/storage/folder_02/filename_02\"\n",
    "    ],\n",
    "}\n",
    "pd.set_option(\"display.max_colwidth\", 30)\n",
    "pd.DataFrame(datafile)"
   ]
  },
  {
   "cell_type": "code",
   "execution_count": 169,
   "id": "0fe8268b",
   "metadata": {},
   "outputs": [
    {
     "data": {
      "application/vnd.microsoft.datawrangler.viewer.v0+json": {
       "columns": [
        {
         "name": "index",
         "rawType": "int64",
         "type": "integer"
        },
        {
         "name": "filename",
         "rawType": "object",
         "type": "string"
        },
        {
         "name": "path",
         "rawType": "object",
         "type": "string"
        }
       ],
       "ref": "3365ac7b-ce4e-4116-8fd1-abaa940c247b",
       "rows": [
        [
         "0",
         "filename_01",
         "media/user_name/storage/folder_01/filename_01"
        ],
        [
         "1",
         "filename_02",
         "media/user_name/storage/folder_02/filename_02"
        ]
       ],
       "shape": {
        "columns": 2,
        "rows": 2
       }
      },
      "text/html": [
       "<div>\n",
       "<style scoped>\n",
       "    .dataframe tbody tr th:only-of-type {\n",
       "        vertical-align: middle;\n",
       "    }\n",
       "\n",
       "    .dataframe tbody tr th {\n",
       "        vertical-align: top;\n",
       "    }\n",
       "\n",
       "    .dataframe thead th {\n",
       "        text-align: right;\n",
       "    }\n",
       "</style>\n",
       "<table border=\"1\" class=\"dataframe\">\n",
       "  <thead>\n",
       "    <tr style=\"text-align: right;\">\n",
       "      <th></th>\n",
       "      <th>filename</th>\n",
       "      <th>path</th>\n",
       "    </tr>\n",
       "  </thead>\n",
       "  <tbody>\n",
       "    <tr>\n",
       "      <th>0</th>\n",
       "      <td>filename_01</td>\n",
       "      <td>media/user_name/storage/folder_01/filename_01</td>\n",
       "    </tr>\n",
       "    <tr>\n",
       "      <th>1</th>\n",
       "      <td>filename_02</td>\n",
       "      <td>media/user_name/storage/folder_02/filename_02</td>\n",
       "    </tr>\n",
       "  </tbody>\n",
       "</table>\n",
       "</div>"
      ],
      "text/plain": [
       "      filename  \\\n",
       "0  filename_01   \n",
       "1  filename_02   \n",
       "\n",
       "                                            path  \n",
       "0  media/user_name/storage/folder_01/filename_01  \n",
       "1  media/user_name/storage/folder_02/filename_02  "
      ]
     },
     "execution_count": 169,
     "metadata": {},
     "output_type": "execute_result"
    }
   ],
   "source": [
    "pd.set_option(\"display.max_colwidth\", 100)\n",
    "pd.DataFrame(datafile)"
   ]
  },
  {
   "cell_type": "markdown",
   "id": "b5443058",
   "metadata": {},
   "source": [
    "#### DataFrame column attribute access and IPython completion\n",
    "- If a DataFrame column label is valid Python variable name, the column can be accessed like an attribute:"
   ]
  },
  {
   "cell_type": "code",
   "execution_count": 170,
   "id": "37e8ebe2",
   "metadata": {},
   "outputs": [
    {
     "data": {
      "application/vnd.microsoft.datawrangler.viewer.v0+json": {
       "columns": [
        {
         "name": "index",
         "rawType": "int64",
         "type": "integer"
        },
        {
         "name": "foo1",
         "rawType": "float64",
         "type": "float"
        },
        {
         "name": "foo2",
         "rawType": "float64",
         "type": "float"
        }
       ],
       "ref": "d22b6258-a31d-4fdb-9f9b-4d6bee02d3ed",
       "rows": [
        [
         "0",
         "0.2359878308135365",
         "-0.8394114789436238"
        ],
        [
         "1",
         "-1.2519262566731981",
         "-0.698264926060374"
        ],
        [
         "2",
         "-1.5426144684237295",
         "-0.7593735956569546"
        ],
        [
         "3",
         "0.1641506098248992",
         "0.3419149463581364"
        ],
        [
         "4",
         "0.26875146627642255",
         "-0.16868364659617593"
        ]
       ],
       "shape": {
        "columns": 2,
        "rows": 5
       }
      },
      "text/html": [
       "<div>\n",
       "<style scoped>\n",
       "    .dataframe tbody tr th:only-of-type {\n",
       "        vertical-align: middle;\n",
       "    }\n",
       "\n",
       "    .dataframe tbody tr th {\n",
       "        vertical-align: top;\n",
       "    }\n",
       "\n",
       "    .dataframe thead th {\n",
       "        text-align: right;\n",
       "    }\n",
       "</style>\n",
       "<table border=\"1\" class=\"dataframe\">\n",
       "  <thead>\n",
       "    <tr style=\"text-align: right;\">\n",
       "      <th></th>\n",
       "      <th>foo1</th>\n",
       "      <th>foo2</th>\n",
       "    </tr>\n",
       "  </thead>\n",
       "  <tbody>\n",
       "    <tr>\n",
       "      <th>0</th>\n",
       "      <td>0.235988</td>\n",
       "      <td>-0.839411</td>\n",
       "    </tr>\n",
       "    <tr>\n",
       "      <th>1</th>\n",
       "      <td>-1.251926</td>\n",
       "      <td>-0.698265</td>\n",
       "    </tr>\n",
       "    <tr>\n",
       "      <th>2</th>\n",
       "      <td>-1.542614</td>\n",
       "      <td>-0.759374</td>\n",
       "    </tr>\n",
       "    <tr>\n",
       "      <th>3</th>\n",
       "      <td>0.164151</td>\n",
       "      <td>0.341915</td>\n",
       "    </tr>\n",
       "    <tr>\n",
       "      <th>4</th>\n",
       "      <td>0.268751</td>\n",
       "      <td>-0.168684</td>\n",
       "    </tr>\n",
       "  </tbody>\n",
       "</table>\n",
       "</div>"
      ],
      "text/plain": [
       "       foo1      foo2\n",
       "0  0.235988 -0.839411\n",
       "1 -1.251926 -0.698265\n",
       "2 -1.542614 -0.759374\n",
       "3  0.164151  0.341915\n",
       "4  0.268751 -0.168684"
      ]
     },
     "execution_count": 170,
     "metadata": {},
     "output_type": "execute_result"
    }
   ],
   "source": [
    "df = pd.DataFrame({\"foo1\": np.random.randn(5), \"foo2\": np.random.randn(5)})\n",
    "df"
   ]
  },
  {
   "cell_type": "code",
   "execution_count": 171,
   "id": "8478e6db",
   "metadata": {},
   "outputs": [
    {
     "data": {
      "application/vnd.microsoft.datawrangler.viewer.v0+json": {
       "columns": [
        {
         "name": "index",
         "rawType": "int64",
         "type": "integer"
        },
        {
         "name": "foo1",
         "rawType": "float64",
         "type": "float"
        }
       ],
       "ref": "ea167789-0aa9-48ce-8b7d-acf5259caf3a",
       "rows": [
        [
         "0",
         "0.2359878308135365"
        ],
        [
         "1",
         "-1.2519262566731981"
        ],
        [
         "2",
         "-1.5426144684237295"
        ],
        [
         "3",
         "0.1641506098248992"
        ],
        [
         "4",
         "0.26875146627642255"
        ]
       ],
       "shape": {
        "columns": 1,
        "rows": 5
       }
      },
      "text/plain": [
       "0    0.235988\n",
       "1   -1.251926\n",
       "2   -1.542614\n",
       "3    0.164151\n",
       "4    0.268751\n",
       "Name: foo1, dtype: float64"
      ]
     },
     "execution_count": 171,
     "metadata": {},
     "output_type": "execute_result"
    }
   ],
   "source": [
    "df.foo1"
   ]
  }
 ],
 "metadata": {
  "kernelspec": {
   "display_name": "Python 3",
   "language": "python",
   "name": "python3"
  },
  "language_info": {
   "codemirror_mode": {
    "name": "ipython",
    "version": 3
   },
   "file_extension": ".py",
   "mimetype": "text/x-python",
   "name": "python",
   "nbconvert_exporter": "python",
   "pygments_lexer": "ipython3",
   "version": "3.13.5"
  }
 },
 "nbformat": 4,
 "nbformat_minor": 5
}
