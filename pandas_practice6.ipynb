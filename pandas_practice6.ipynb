{
 "cells": [
  {
   "cell_type": "markdown",
   "id": "67028077",
   "metadata": {},
   "source": [
    "### Windowing operations\n",
    "- From https://pandas.pydata.org/docs/user_guide/window.html\n",
    "- pandas contains a compact set of APIs for performing windowing operations - an operation that performs an aggregation over a sliding partition of values. The API functions similarly to the groupby API in that Series and DataFrame call the windowing method with necessary parameters and then subsequently call the aggregation function."
   ]
  },
  {
   "cell_type": "code",
   "execution_count": 2,
   "id": "e0b11b29",
   "metadata": {},
   "outputs": [],
   "source": [
    "import pandas as pd\n",
    "import numpy as np"
   ]
  },
  {
   "cell_type": "code",
   "execution_count": 3,
   "id": "254f7ff2",
   "metadata": {},
   "outputs": [
    {
     "data": {
      "text/plain": [
       "0    NaN\n",
       "1    1.0\n",
       "2    3.0\n",
       "3    5.0\n",
       "4    7.0\n",
       "dtype: float64"
      ]
     },
     "execution_count": 3,
     "metadata": {},
     "output_type": "execute_result"
    }
   ],
   "source": [
    "s = pd.Series(range(5))\n",
    "s.rolling(window=2).sum()"
   ]
  },
  {
   "cell_type": "markdown",
   "id": "18b7270e",
   "metadata": {},
   "source": [
    "- The windows are comprised by looking back the length of the window from the current observation. The result above can be derived by taking the sum of the following windowed partitions of data:"
   ]
  },
  {
   "cell_type": "code",
   "execution_count": 4,
   "id": "88b617ce",
   "metadata": {},
   "outputs": [
    {
     "name": "stdout",
     "output_type": "stream",
     "text": [
      "0    0\n",
      "dtype: int64\n",
      "0    0\n",
      "1    1\n",
      "dtype: int64\n",
      "1    1\n",
      "2    2\n",
      "dtype: int64\n",
      "2    2\n",
      "3    3\n",
      "dtype: int64\n",
      "3    3\n",
      "4    4\n",
      "dtype: int64\n"
     ]
    }
   ],
   "source": [
    "for window in s.rolling(window=2):\n",
    "    print(window)"
   ]
  },
  {
   "cell_type": "markdown",
   "id": "7901f852",
   "metadata": {},
   "source": [
    "#### Overview\n",
    "- pandas supports 4 types of windowing operations:\n",
    "    - Rolling window: Generic fixed or variable sliding window over the values.\n",
    "    - Weighted window: Weighted, non-rectangular window supplied by the scipy.signal library.\n",
    "    - Expanding window: Accumulating window over the values.\n",
    "    - Exponentially Weighted window: Accumulating and exponentially weighted window over the values.\n",
    "\n",
    "|  Concept |  Method | Returned Object | Supports time-based windows | Supports chained groupby | Supports table method | Supports online operations |\n",
    "| --- | --- | --- | --- | --- | --- | --- |\n",
    "| Rolling window | rolling | pandas.typing.api.Rolling | Yes | Yes | Yes (as of version 1.3) |  No |\n",
    "| Weighted window | rolling | pandas.typing.api.Window | No | No | No | No |\n",
    "| Expanding window | expanding | pandas.typing.api.Expanding | No | Yes | Yes (as of version 1.3) | No |\n",
    "| Exponentially Weighted window | ewm | pandas.typing.api.ExponentialMovingWindow |No | Yes (as of version 1.2) | No  | Yes (as of version 1.3) |\n",
    "\n",
    "- As noted above, some operations support specifying a window based on a time offset:"
   ]
  },
  {
   "cell_type": "code",
   "execution_count": 6,
   "id": "412ac0c3",
   "metadata": {},
   "outputs": [
    {
     "data": {
      "text/plain": [
       "2020-01-01    0.0\n",
       "2020-01-02    1.0\n",
       "2020-01-03    3.0\n",
       "2020-01-04    5.0\n",
       "2020-01-05    7.0\n",
       "Freq: D, dtype: float64"
      ]
     },
     "execution_count": 6,
     "metadata": {},
     "output_type": "execute_result"
    }
   ],
   "source": [
    "s = pd.Series(range(5), index=pd.date_range('2020-01-01', periods=5, freq='1D'))\n",
    "\n",
    "s.rolling(window=\"2d\").sum()"
   ]
  },
  {
   "cell_type": "markdown",
   "id": "0a838e8f",
   "metadata": {},
   "source": [
    "- Additionally, some methods support chaining a groupby operation with a windowing operation which will first group the data by the specified keys and then perform a windowing operation per group."
   ]
  },
  {
   "cell_type": "code",
   "execution_count": 7,
   "id": "7a2604f7",
   "metadata": {},
   "outputs": [
    {
     "data": {
      "text/html": [
       "<div>\n",
       "<style scoped>\n",
       "    .dataframe tbody tr th:only-of-type {\n",
       "        vertical-align: middle;\n",
       "    }\n",
       "\n",
       "    .dataframe tbody tr th {\n",
       "        vertical-align: top;\n",
       "    }\n",
       "\n",
       "    .dataframe thead th {\n",
       "        text-align: right;\n",
       "    }\n",
       "</style>\n",
       "<table border=\"1\" class=\"dataframe\">\n",
       "  <thead>\n",
       "    <tr style=\"text-align: right;\">\n",
       "      <th></th>\n",
       "      <th></th>\n",
       "      <th>B</th>\n",
       "    </tr>\n",
       "    <tr>\n",
       "      <th>A</th>\n",
       "      <th></th>\n",
       "      <th></th>\n",
       "    </tr>\n",
       "  </thead>\n",
       "  <tbody>\n",
       "    <tr>\n",
       "      <th rowspan=\"3\" valign=\"top\">a</th>\n",
       "      <th>0</th>\n",
       "      <td>0.0</td>\n",
       "    </tr>\n",
       "    <tr>\n",
       "      <th>2</th>\n",
       "      <td>2.0</td>\n",
       "    </tr>\n",
       "    <tr>\n",
       "      <th>4</th>\n",
       "      <td>6.0</td>\n",
       "    </tr>\n",
       "    <tr>\n",
       "      <th rowspan=\"2\" valign=\"top\">b</th>\n",
       "      <th>1</th>\n",
       "      <td>1.0</td>\n",
       "    </tr>\n",
       "    <tr>\n",
       "      <th>3</th>\n",
       "      <td>4.0</td>\n",
       "    </tr>\n",
       "  </tbody>\n",
       "</table>\n",
       "</div>"
      ],
      "text/plain": [
       "       B\n",
       "A       \n",
       "a 0  0.0\n",
       "  2  2.0\n",
       "  4  6.0\n",
       "b 1  1.0\n",
       "  3  4.0"
      ]
     },
     "execution_count": 7,
     "metadata": {},
     "output_type": "execute_result"
    }
   ],
   "source": [
    "df = pd.DataFrame({'A': ['a', 'b', 'a', 'b', 'a'], 'B': range(5)})\n",
    "df.groupby(\"A\").expanding().sum()"
   ]
  },
  {
   "cell_type": "markdown",
   "id": "8faf18f6",
   "metadata": {},
   "source": [
    "- **Note**: Windowing operations currently only support numeric data (integer and float) and will always return float64 values.\n",
    "\n",
    "- **Warning**: Some windowing aggregation, mean, sum, var and std methods may suffer from numerical imprecision due to the underlying windowing algorithms accumulating sums. When values differ with magnitude \n",
    " this results in truncation. It must be noted, that large values may have an impact on windows, which do not include these values. Kahan summation is used to compute the rolling sums to preserve accuracy as much as possible.\n",
    "\n",
    "- Some windowing operations also support the method='table' option in the constructor which performs the windowing operation over an entire DataFrame instead of a single column or row at a time. This can provide a useful performance benefit for a DataFrame with many columns or rows (with the corresponding axis argument) or the ability to utilize other columns during the windowing operation. The method='table' option can only be used if engine='numba' is specified in the corresponding method call.\n",
    "\n",
    "- For example, a weighted mean calculation can be calculated with apply() by specifying a separate column of weights."
   ]
  },
  {
   "cell_type": "code",
   "execution_count": 8,
   "id": "76c27eae",
   "metadata": {},
   "outputs": [
    {
     "data": {
      "text/html": [
       "<div>\n",
       "<style scoped>\n",
       "    .dataframe tbody tr th:only-of-type {\n",
       "        vertical-align: middle;\n",
       "    }\n",
       "\n",
       "    .dataframe tbody tr th {\n",
       "        vertical-align: top;\n",
       "    }\n",
       "\n",
       "    .dataframe thead th {\n",
       "        text-align: right;\n",
       "    }\n",
       "</style>\n",
       "<table border=\"1\" class=\"dataframe\">\n",
       "  <thead>\n",
       "    <tr style=\"text-align: right;\">\n",
       "      <th></th>\n",
       "      <th>0</th>\n",
       "      <th>1</th>\n",
       "      <th>2</th>\n",
       "    </tr>\n",
       "  </thead>\n",
       "  <tbody>\n",
       "    <tr>\n",
       "      <th>0</th>\n",
       "      <td>1.000000</td>\n",
       "      <td>2.000000</td>\n",
       "      <td>1.0</td>\n",
       "    </tr>\n",
       "    <tr>\n",
       "      <th>1</th>\n",
       "      <td>1.800000</td>\n",
       "      <td>2.000000</td>\n",
       "      <td>1.0</td>\n",
       "    </tr>\n",
       "    <tr>\n",
       "      <th>2</th>\n",
       "      <td>3.333333</td>\n",
       "      <td>2.333333</td>\n",
       "      <td>1.0</td>\n",
       "    </tr>\n",
       "    <tr>\n",
       "      <th>3</th>\n",
       "      <td>1.555556</td>\n",
       "      <td>7.000000</td>\n",
       "      <td>1.0</td>\n",
       "    </tr>\n",
       "  </tbody>\n",
       "</table>\n",
       "</div>"
      ],
      "text/plain": [
       "          0         1    2\n",
       "0  1.000000  2.000000  1.0\n",
       "1  1.800000  2.000000  1.0\n",
       "2  3.333333  2.333333  1.0\n",
       "3  1.555556  7.000000  1.0"
      ]
     },
     "execution_count": 8,
     "metadata": {},
     "output_type": "execute_result"
    }
   ],
   "source": [
    "def weighted_mean(x):\n",
    "    arr = np.ones((1, x.shape[1]))\n",
    "    arr[:, :2] = (x[:, :2] * x[:, 2]).sum(axis=0) / x[:, 2].sum()\n",
    "    return arr\n",
    "\n",
    "df = pd.DataFrame([[1, 2, 0.6], [2, 3, 0.4], [3, 4, 0.2], [4, 5, 0.7]])\n",
    "\n",
    "df.rolling(2, method=\"table\", min_periods=0).apply(weighted_mean, raw=True, engine=\"numba\")  # noqa: E501\n"
   ]
  },
  {
   "cell_type": "markdown",
   "id": "9b236629",
   "metadata": {},
   "source": [
    "- Some windowing operations also support an online method after constructing a windowing object which returns a new object that supports passing in new DataFrame or Series objects to continue the windowing calculation with the new values (i.e. online calculations).\n",
    "\n",
    "- The methods on this new windowing objects must call the aggregation method first to “prime” the initial state of the online calculation. Then, new DataFrame or Series objects can be passed in the update argument to continue the windowing calculation."
   ]
  },
  {
   "cell_type": "code",
   "execution_count": 10,
   "id": "e7de2378",
   "metadata": {},
   "outputs": [
    {
     "data": {
      "text/html": [
       "<div>\n",
       "<style scoped>\n",
       "    .dataframe tbody tr th:only-of-type {\n",
       "        vertical-align: middle;\n",
       "    }\n",
       "\n",
       "    .dataframe tbody tr th {\n",
       "        vertical-align: top;\n",
       "    }\n",
       "\n",
       "    .dataframe thead th {\n",
       "        text-align: right;\n",
       "    }\n",
       "</style>\n",
       "<table border=\"1\" class=\"dataframe\">\n",
       "  <thead>\n",
       "    <tr style=\"text-align: right;\">\n",
       "      <th></th>\n",
       "      <th>0</th>\n",
       "      <th>1</th>\n",
       "      <th>2</th>\n",
       "    </tr>\n",
       "  </thead>\n",
       "  <tbody>\n",
       "    <tr>\n",
       "      <th>0</th>\n",
       "      <td>1.000000</td>\n",
       "      <td>2.000000</td>\n",
       "      <td>0.600000</td>\n",
       "    </tr>\n",
       "    <tr>\n",
       "      <th>1</th>\n",
       "      <td>1.750000</td>\n",
       "      <td>2.750000</td>\n",
       "      <td>0.450000</td>\n",
       "    </tr>\n",
       "    <tr>\n",
       "      <th>2</th>\n",
       "      <td>2.615385</td>\n",
       "      <td>3.615385</td>\n",
       "      <td>0.276923</td>\n",
       "    </tr>\n",
       "    <tr>\n",
       "      <th>3</th>\n",
       "      <td>3.550000</td>\n",
       "      <td>4.550000</td>\n",
       "      <td>0.562500</td>\n",
       "    </tr>\n",
       "  </tbody>\n",
       "</table>\n",
       "</div>"
      ],
      "text/plain": [
       "          0         1         2\n",
       "0  1.000000  2.000000  0.600000\n",
       "1  1.750000  2.750000  0.450000\n",
       "2  2.615385  3.615385  0.276923\n",
       "3  3.550000  4.550000  0.562500"
      ]
     },
     "execution_count": 10,
     "metadata": {},
     "output_type": "execute_result"
    }
   ],
   "source": [
    "df = pd.DataFrame([[1, 2, 0.6], [2, 3, 0.4], [3, 4, 0.2], [4, 5, 0.7]])\n",
    "\n",
    "df.ewm(0.5).mean()"
   ]
  },
  {
   "cell_type": "code",
   "execution_count": 11,
   "id": "044eafe8",
   "metadata": {},
   "outputs": [
    {
     "data": {
      "text/html": [
       "<div>\n",
       "<style scoped>\n",
       "    .dataframe tbody tr th:only-of-type {\n",
       "        vertical-align: middle;\n",
       "    }\n",
       "\n",
       "    .dataframe tbody tr th {\n",
       "        vertical-align: top;\n",
       "    }\n",
       "\n",
       "    .dataframe thead th {\n",
       "        text-align: right;\n",
       "    }\n",
       "</style>\n",
       "<table border=\"1\" class=\"dataframe\">\n",
       "  <thead>\n",
       "    <tr style=\"text-align: right;\">\n",
       "      <th></th>\n",
       "      <th>0</th>\n",
       "      <th>1</th>\n",
       "      <th>2</th>\n",
       "    </tr>\n",
       "  </thead>\n",
       "  <tbody>\n",
       "    <tr>\n",
       "      <th>0</th>\n",
       "      <td>1.00</td>\n",
       "      <td>2.00</td>\n",
       "      <td>0.60</td>\n",
       "    </tr>\n",
       "    <tr>\n",
       "      <th>1</th>\n",
       "      <td>1.75</td>\n",
       "      <td>2.75</td>\n",
       "      <td>0.45</td>\n",
       "    </tr>\n",
       "  </tbody>\n",
       "</table>\n",
       "</div>"
      ],
      "text/plain": [
       "      0     1     2\n",
       "0  1.00  2.00  0.60\n",
       "1  1.75  2.75  0.45"
      ]
     },
     "execution_count": 11,
     "metadata": {},
     "output_type": "execute_result"
    }
   ],
   "source": [
    "online_ewm = df.head(2).ewm(0.5).online()\n",
    "online_ewm.mean()"
   ]
  },
  {
   "cell_type": "code",
   "execution_count": 12,
   "id": "9d69fd79",
   "metadata": {},
   "outputs": [
    {
     "data": {
      "text/html": [
       "<div>\n",
       "<style scoped>\n",
       "    .dataframe tbody tr th:only-of-type {\n",
       "        vertical-align: middle;\n",
       "    }\n",
       "\n",
       "    .dataframe tbody tr th {\n",
       "        vertical-align: top;\n",
       "    }\n",
       "\n",
       "    .dataframe thead th {\n",
       "        text-align: right;\n",
       "    }\n",
       "</style>\n",
       "<table border=\"1\" class=\"dataframe\">\n",
       "  <thead>\n",
       "    <tr style=\"text-align: right;\">\n",
       "      <th></th>\n",
       "      <th>0</th>\n",
       "      <th>1</th>\n",
       "      <th>2</th>\n",
       "    </tr>\n",
       "  </thead>\n",
       "  <tbody>\n",
       "    <tr>\n",
       "      <th>3</th>\n",
       "      <td>3.307692</td>\n",
       "      <td>4.307692</td>\n",
       "      <td>0.623077</td>\n",
       "    </tr>\n",
       "  </tbody>\n",
       "</table>\n",
       "</div>"
      ],
      "text/plain": [
       "          0         1         2\n",
       "3  3.307692  4.307692  0.623077"
      ]
     },
     "execution_count": 12,
     "metadata": {},
     "output_type": "execute_result"
    }
   ],
   "source": [
    "online_ewm.mean(update=df.tail(1))"
   ]
  },
  {
   "cell_type": "markdown",
   "id": "49fd1489",
   "metadata": {},
   "source": [
    "- All windowing operations support a min_periods argument that dictates the minimum amount of non-np.nan values a window must have; otherwise, the resulting value is np.nan. min_periods defaults to 1 for time-based windows and window for fixed windows"
   ]
  },
  {
   "cell_type": "code",
   "execution_count": 13,
   "id": "69e261a1",
   "metadata": {},
   "outputs": [
    {
     "data": {
      "text/plain": [
       "0    NaN\n",
       "1    1.0\n",
       "2    3.0\n",
       "3    3.0\n",
       "4    2.0\n",
       "5    3.0\n",
       "dtype: float64"
      ]
     },
     "execution_count": 13,
     "metadata": {},
     "output_type": "execute_result"
    }
   ],
   "source": [
    "s = pd.Series([np.nan, 1, 2, np.nan, np.nan, 3])\n",
    "s.rolling(window=3, min_periods=1).sum()"
   ]
  },
  {
   "cell_type": "code",
   "execution_count": 14,
   "id": "598b9c48",
   "metadata": {},
   "outputs": [
    {
     "data": {
      "text/plain": [
       "0    NaN\n",
       "1    NaN\n",
       "2    3.0\n",
       "3    3.0\n",
       "4    NaN\n",
       "5    NaN\n",
       "dtype: float64"
      ]
     },
     "execution_count": 14,
     "metadata": {},
     "output_type": "execute_result"
    }
   ],
   "source": [
    "s.rolling(window=3, min_periods=2).sum()"
   ]
  },
  {
   "cell_type": "code",
   "execution_count": 15,
   "id": "f0cbe3d9",
   "metadata": {},
   "outputs": [
    {
     "data": {
      "text/plain": [
       "0   NaN\n",
       "1   NaN\n",
       "2   NaN\n",
       "3   NaN\n",
       "4   NaN\n",
       "5   NaN\n",
       "dtype: float64"
      ]
     },
     "execution_count": 15,
     "metadata": {},
     "output_type": "execute_result"
    }
   ],
   "source": [
    "# Equivalent to min_periods=3\n",
    "s.rolling(window=3, min_periods=None).sum()"
   ]
  },
  {
   "cell_type": "markdown",
   "id": "f76c9317",
   "metadata": {},
   "source": [
    "- Additionally, all windowing operations supports the aggregate method for returning a result of multiple aggregations applied to a window."
   ]
  },
  {
   "cell_type": "code",
   "execution_count": 16,
   "id": "113159f4",
   "metadata": {},
   "outputs": [
    {
     "data": {
      "text/html": [
       "<div>\n",
       "<style scoped>\n",
       "    .dataframe tbody tr th:only-of-type {\n",
       "        vertical-align: middle;\n",
       "    }\n",
       "\n",
       "    .dataframe tbody tr th {\n",
       "        vertical-align: top;\n",
       "    }\n",
       "\n",
       "    .dataframe thead tr th {\n",
       "        text-align: left;\n",
       "    }\n",
       "</style>\n",
       "<table border=\"1\" class=\"dataframe\">\n",
       "  <thead>\n",
       "    <tr>\n",
       "      <th></th>\n",
       "      <th colspan=\"3\" halign=\"left\">A</th>\n",
       "      <th colspan=\"3\" halign=\"left\">B</th>\n",
       "    </tr>\n",
       "    <tr>\n",
       "      <th></th>\n",
       "      <th>sum</th>\n",
       "      <th>mean</th>\n",
       "      <th>std</th>\n",
       "      <th>sum</th>\n",
       "      <th>mean</th>\n",
       "      <th>std</th>\n",
       "    </tr>\n",
       "  </thead>\n",
       "  <tbody>\n",
       "    <tr>\n",
       "      <th>0</th>\n",
       "      <td>0.0</td>\n",
       "      <td>0.0</td>\n",
       "      <td>NaN</td>\n",
       "      <td>10.0</td>\n",
       "      <td>10.0</td>\n",
       "      <td>NaN</td>\n",
       "    </tr>\n",
       "    <tr>\n",
       "      <th>1</th>\n",
       "      <td>1.0</td>\n",
       "      <td>0.5</td>\n",
       "      <td>0.707107</td>\n",
       "      <td>21.0</td>\n",
       "      <td>10.5</td>\n",
       "      <td>0.707107</td>\n",
       "    </tr>\n",
       "    <tr>\n",
       "      <th>2</th>\n",
       "      <td>3.0</td>\n",
       "      <td>1.0</td>\n",
       "      <td>1.000000</td>\n",
       "      <td>33.0</td>\n",
       "      <td>11.0</td>\n",
       "      <td>1.000000</td>\n",
       "    </tr>\n",
       "    <tr>\n",
       "      <th>3</th>\n",
       "      <td>6.0</td>\n",
       "      <td>1.5</td>\n",
       "      <td>1.290994</td>\n",
       "      <td>46.0</td>\n",
       "      <td>11.5</td>\n",
       "      <td>1.290994</td>\n",
       "    </tr>\n",
       "    <tr>\n",
       "      <th>4</th>\n",
       "      <td>10.0</td>\n",
       "      <td>2.0</td>\n",
       "      <td>1.581139</td>\n",
       "      <td>60.0</td>\n",
       "      <td>12.0</td>\n",
       "      <td>1.581139</td>\n",
       "    </tr>\n",
       "  </tbody>\n",
       "</table>\n",
       "</div>"
      ],
      "text/plain": [
       "      A                    B                \n",
       "    sum mean       std   sum  mean       std\n",
       "0   0.0  0.0       NaN  10.0  10.0       NaN\n",
       "1   1.0  0.5  0.707107  21.0  10.5  0.707107\n",
       "2   3.0  1.0  1.000000  33.0  11.0  1.000000\n",
       "3   6.0  1.5  1.290994  46.0  11.5  1.290994\n",
       "4  10.0  2.0  1.581139  60.0  12.0  1.581139"
      ]
     },
     "execution_count": 16,
     "metadata": {},
     "output_type": "execute_result"
    }
   ],
   "source": [
    "df = pd.DataFrame({\"A\": range(5), \"B\": range(10, 15)})\n",
    "df.expanding().agg([\"sum\", \"mean\", \"std\"])"
   ]
  },
  {
   "cell_type": "markdown",
   "id": "a8d9252f",
   "metadata": {},
   "source": [
    "#### Rolling window\n",
    "- Generic rolling windows support specifying windows as a fixed number of observations or variable number of observations based on an offset. If a time based offset is provided, the corresponding time based index must be monotonic."
   ]
  },
  {
   "cell_type": "code",
   "execution_count": 17,
   "id": "fd833fa8",
   "metadata": {},
   "outputs": [
    {
     "data": {
      "text/plain": [
       "2020-01-01    0\n",
       "2020-01-03    1\n",
       "2020-01-04    2\n",
       "2020-01-05    3\n",
       "2020-01-29    4\n",
       "dtype: int64"
      ]
     },
     "execution_count": 17,
     "metadata": {},
     "output_type": "execute_result"
    }
   ],
   "source": [
    "times = ['2020-01-01', '2020-01-03', '2020-01-04', '2020-01-05', '2020-01-29']\n",
    "s = pd.Series(range(5), index=pd.DatetimeIndex(times))\n",
    "s"
   ]
  },
  {
   "cell_type": "code",
   "execution_count": 18,
   "id": "50e38af3",
   "metadata": {},
   "outputs": [
    {
     "data": {
      "text/plain": [
       "2020-01-01    NaN\n",
       "2020-01-03    1.0\n",
       "2020-01-04    3.0\n",
       "2020-01-05    5.0\n",
       "2020-01-29    7.0\n",
       "dtype: float64"
      ]
     },
     "execution_count": 18,
     "metadata": {},
     "output_type": "execute_result"
    }
   ],
   "source": [
    "# Window with 2 observations\n",
    "s.rolling(window=2).sum()"
   ]
  },
  {
   "cell_type": "code",
   "execution_count": 19,
   "id": "d2580fc1",
   "metadata": {},
   "outputs": [
    {
     "data": {
      "text/plain": [
       "2020-01-01    0.0\n",
       "2020-01-03    1.0\n",
       "2020-01-04    3.0\n",
       "2020-01-05    5.0\n",
       "2020-01-29    4.0\n",
       "dtype: float64"
      ]
     },
     "execution_count": 19,
     "metadata": {},
     "output_type": "execute_result"
    }
   ],
   "source": [
    "# Window with 2 days worth of observations\n",
    "s.rolling(window='2D').sum()"
   ]
  },
  {
   "cell_type": "markdown",
   "id": "cb462f88",
   "metadata": {},
   "source": [
    "#### Centering windows\n",
    "- By default the labels are set to the right edge of the window, but a center keyword is available so the labels can be set at the center."
   ]
  },
  {
   "cell_type": "code",
   "execution_count": 20,
   "id": "10e9c7c0",
   "metadata": {},
   "outputs": [
    {
     "data": {
      "text/plain": [
       "0    NaN\n",
       "1    NaN\n",
       "2    NaN\n",
       "3    NaN\n",
       "4    2.0\n",
       "5    3.0\n",
       "6    4.0\n",
       "7    5.0\n",
       "8    6.0\n",
       "9    7.0\n",
       "dtype: float64"
      ]
     },
     "execution_count": 20,
     "metadata": {},
     "output_type": "execute_result"
    }
   ],
   "source": [
    "s = pd.Series(range(10))\n",
    "s.rolling(window=5).mean()"
   ]
  },
  {
   "cell_type": "code",
   "execution_count": 21,
   "id": "2008345d",
   "metadata": {},
   "outputs": [
    {
     "data": {
      "text/plain": [
       "0    NaN\n",
       "1    NaN\n",
       "2    2.0\n",
       "3    3.0\n",
       "4    4.0\n",
       "5    5.0\n",
       "6    6.0\n",
       "7    7.0\n",
       "8    NaN\n",
       "9    NaN\n",
       "dtype: float64"
      ]
     },
     "execution_count": 21,
     "metadata": {},
     "output_type": "execute_result"
    }
   ],
   "source": [
    "s.rolling(window=5, center=True).mean()"
   ]
  },
  {
   "cell_type": "markdown",
   "id": "ceef1f3c",
   "metadata": {},
   "source": [
    "- This can also be applied to datetime-like indices."
   ]
  },
  {
   "cell_type": "code",
   "execution_count": 22,
   "id": "fe5ed573",
   "metadata": {},
   "outputs": [
    {
     "data": {
      "text/html": [
       "<div>\n",
       "<style scoped>\n",
       "    .dataframe tbody tr th:only-of-type {\n",
       "        vertical-align: middle;\n",
       "    }\n",
       "\n",
       "    .dataframe tbody tr th {\n",
       "        vertical-align: top;\n",
       "    }\n",
       "\n",
       "    .dataframe thead th {\n",
       "        text-align: right;\n",
       "    }\n",
       "</style>\n",
       "<table border=\"1\" class=\"dataframe\">\n",
       "  <thead>\n",
       "    <tr style=\"text-align: right;\">\n",
       "      <th></th>\n",
       "      <th>A</th>\n",
       "    </tr>\n",
       "  </thead>\n",
       "  <tbody>\n",
       "    <tr>\n",
       "      <th>2020-01-01</th>\n",
       "      <td>0</td>\n",
       "    </tr>\n",
       "    <tr>\n",
       "      <th>2020-01-02</th>\n",
       "      <td>1</td>\n",
       "    </tr>\n",
       "    <tr>\n",
       "      <th>2020-01-03</th>\n",
       "      <td>2</td>\n",
       "    </tr>\n",
       "    <tr>\n",
       "      <th>2020-01-04</th>\n",
       "      <td>3</td>\n",
       "    </tr>\n",
       "    <tr>\n",
       "      <th>2020-01-05</th>\n",
       "      <td>4</td>\n",
       "    </tr>\n",
       "  </tbody>\n",
       "</table>\n",
       "</div>"
      ],
      "text/plain": [
       "            A\n",
       "2020-01-01  0\n",
       "2020-01-02  1\n",
       "2020-01-03  2\n",
       "2020-01-04  3\n",
       "2020-01-05  4"
      ]
     },
     "execution_count": 22,
     "metadata": {},
     "output_type": "execute_result"
    }
   ],
   "source": [
    "df = pd.DataFrame(\n",
    "    {\"A\": [0, 1, 2, 3, 4]}, index=pd.date_range(\"2020\", periods=5, freq=\"1D\")\n",
    ")\n",
    "df"
   ]
  },
  {
   "cell_type": "code",
   "execution_count": 23,
   "id": "074babef",
   "metadata": {},
   "outputs": [
    {
     "data": {
      "text/html": [
       "<div>\n",
       "<style scoped>\n",
       "    .dataframe tbody tr th:only-of-type {\n",
       "        vertical-align: middle;\n",
       "    }\n",
       "\n",
       "    .dataframe tbody tr th {\n",
       "        vertical-align: top;\n",
       "    }\n",
       "\n",
       "    .dataframe thead th {\n",
       "        text-align: right;\n",
       "    }\n",
       "</style>\n",
       "<table border=\"1\" class=\"dataframe\">\n",
       "  <thead>\n",
       "    <tr style=\"text-align: right;\">\n",
       "      <th></th>\n",
       "      <th>A</th>\n",
       "    </tr>\n",
       "  </thead>\n",
       "  <tbody>\n",
       "    <tr>\n",
       "      <th>2020-01-01</th>\n",
       "      <td>0.0</td>\n",
       "    </tr>\n",
       "    <tr>\n",
       "      <th>2020-01-02</th>\n",
       "      <td>0.5</td>\n",
       "    </tr>\n",
       "    <tr>\n",
       "      <th>2020-01-03</th>\n",
       "      <td>1.5</td>\n",
       "    </tr>\n",
       "    <tr>\n",
       "      <th>2020-01-04</th>\n",
       "      <td>2.5</td>\n",
       "    </tr>\n",
       "    <tr>\n",
       "      <th>2020-01-05</th>\n",
       "      <td>3.5</td>\n",
       "    </tr>\n",
       "  </tbody>\n",
       "</table>\n",
       "</div>"
      ],
      "text/plain": [
       "              A\n",
       "2020-01-01  0.0\n",
       "2020-01-02  0.5\n",
       "2020-01-03  1.5\n",
       "2020-01-04  2.5\n",
       "2020-01-05  3.5"
      ]
     },
     "execution_count": 23,
     "metadata": {},
     "output_type": "execute_result"
    }
   ],
   "source": [
    "df.rolling(\"2D\", center=False).mean()"
   ]
  },
  {
   "cell_type": "code",
   "execution_count": 24,
   "id": "1c3a29e3",
   "metadata": {},
   "outputs": [
    {
     "data": {
      "text/html": [
       "<div>\n",
       "<style scoped>\n",
       "    .dataframe tbody tr th:only-of-type {\n",
       "        vertical-align: middle;\n",
       "    }\n",
       "\n",
       "    .dataframe tbody tr th {\n",
       "        vertical-align: top;\n",
       "    }\n",
       "\n",
       "    .dataframe thead th {\n",
       "        text-align: right;\n",
       "    }\n",
       "</style>\n",
       "<table border=\"1\" class=\"dataframe\">\n",
       "  <thead>\n",
       "    <tr style=\"text-align: right;\">\n",
       "      <th></th>\n",
       "      <th>A</th>\n",
       "    </tr>\n",
       "  </thead>\n",
       "  <tbody>\n",
       "    <tr>\n",
       "      <th>2020-01-01</th>\n",
       "      <td>0.5</td>\n",
       "    </tr>\n",
       "    <tr>\n",
       "      <th>2020-01-02</th>\n",
       "      <td>1.5</td>\n",
       "    </tr>\n",
       "    <tr>\n",
       "      <th>2020-01-03</th>\n",
       "      <td>2.5</td>\n",
       "    </tr>\n",
       "    <tr>\n",
       "      <th>2020-01-04</th>\n",
       "      <td>3.5</td>\n",
       "    </tr>\n",
       "    <tr>\n",
       "      <th>2020-01-05</th>\n",
       "      <td>4.0</td>\n",
       "    </tr>\n",
       "  </tbody>\n",
       "</table>\n",
       "</div>"
      ],
      "text/plain": [
       "              A\n",
       "2020-01-01  0.5\n",
       "2020-01-02  1.5\n",
       "2020-01-03  2.5\n",
       "2020-01-04  3.5\n",
       "2020-01-05  4.0"
      ]
     },
     "execution_count": 24,
     "metadata": {},
     "output_type": "execute_result"
    }
   ],
   "source": [
    "df.rolling(\"2D\", center=True).mean()"
   ]
  },
  {
   "cell_type": "markdown",
   "id": "e898216c",
   "metadata": {},
   "source": [
    "#### Rolling window endpoints\n",
    "- The inclusion of the interval endpoints in rolling window calculations can be specified with the closed parameter:\n",
    "\n",
    "| Value | Behavior |\n",
    "| --- | ---- |\n",
    "| 'right' | close right endpoint |\n",
    "| 'left' | close left endpoint |\n",
    "| 'both' | close both endpoints |\n",
    "| 'neither' | open endpoints |\n",
    "\n",
    "- For example, having the right endpoint open is useful in many problems that require that there is no contamination from present information back to past information. This allows the rolling window to compute statistics “up to that point in time”, but not including that point in time."
   ]
  },
  {
   "cell_type": "code",
   "execution_count": 25,
   "id": "444d6fdb",
   "metadata": {},
   "outputs": [
    {
     "data": {
      "text/html": [
       "<div>\n",
       "<style scoped>\n",
       "    .dataframe tbody tr th:only-of-type {\n",
       "        vertical-align: middle;\n",
       "    }\n",
       "\n",
       "    .dataframe tbody tr th {\n",
       "        vertical-align: top;\n",
       "    }\n",
       "\n",
       "    .dataframe thead th {\n",
       "        text-align: right;\n",
       "    }\n",
       "</style>\n",
       "<table border=\"1\" class=\"dataframe\">\n",
       "  <thead>\n",
       "    <tr style=\"text-align: right;\">\n",
       "      <th></th>\n",
       "      <th>x</th>\n",
       "      <th>right</th>\n",
       "      <th>both</th>\n",
       "      <th>left</th>\n",
       "      <th>neither</th>\n",
       "    </tr>\n",
       "  </thead>\n",
       "  <tbody>\n",
       "    <tr>\n",
       "      <th>2013-01-01 09:00:01</th>\n",
       "      <td>1</td>\n",
       "      <td>1.0</td>\n",
       "      <td>1.0</td>\n",
       "      <td>NaN</td>\n",
       "      <td>NaN</td>\n",
       "    </tr>\n",
       "    <tr>\n",
       "      <th>2013-01-01 09:00:02</th>\n",
       "      <td>1</td>\n",
       "      <td>2.0</td>\n",
       "      <td>2.0</td>\n",
       "      <td>1.0</td>\n",
       "      <td>1.0</td>\n",
       "    </tr>\n",
       "    <tr>\n",
       "      <th>2013-01-01 09:00:03</th>\n",
       "      <td>1</td>\n",
       "      <td>2.0</td>\n",
       "      <td>3.0</td>\n",
       "      <td>2.0</td>\n",
       "      <td>1.0</td>\n",
       "    </tr>\n",
       "    <tr>\n",
       "      <th>2013-01-01 09:00:04</th>\n",
       "      <td>1</td>\n",
       "      <td>2.0</td>\n",
       "      <td>3.0</td>\n",
       "      <td>2.0</td>\n",
       "      <td>1.0</td>\n",
       "    </tr>\n",
       "    <tr>\n",
       "      <th>2013-01-01 09:00:06</th>\n",
       "      <td>1</td>\n",
       "      <td>1.0</td>\n",
       "      <td>2.0</td>\n",
       "      <td>1.0</td>\n",
       "      <td>NaN</td>\n",
       "    </tr>\n",
       "  </tbody>\n",
       "</table>\n",
       "</div>"
      ],
      "text/plain": [
       "                     x  right  both  left  neither\n",
       "2013-01-01 09:00:01  1    1.0   1.0   NaN      NaN\n",
       "2013-01-01 09:00:02  1    2.0   2.0   1.0      1.0\n",
       "2013-01-01 09:00:03  1    2.0   3.0   2.0      1.0\n",
       "2013-01-01 09:00:04  1    2.0   3.0   2.0      1.0\n",
       "2013-01-01 09:00:06  1    1.0   2.0   1.0      NaN"
      ]
     },
     "execution_count": 25,
     "metadata": {},
     "output_type": "execute_result"
    }
   ],
   "source": [
    "df = pd.DataFrame(\n",
    "    {\"x\": 1},\n",
    "    index=[\n",
    "        pd.Timestamp(\"20130101 09:00:01\"),\n",
    "        pd.Timestamp(\"20130101 09:00:02\"),\n",
    "        pd.Timestamp(\"20130101 09:00:03\"),\n",
    "        pd.Timestamp(\"20130101 09:00:04\"),\n",
    "        pd.Timestamp(\"20130101 09:00:06\"),\n",
    "    ],\n",
    ")\n",
    "df[\"right\"] = df.rolling(\"2s\", closed=\"right\").x.sum()  # default\n",
    "df[\"both\"] = df.rolling(\"2s\", closed=\"both\").x.sum()\n",
    "df[\"left\"] = df.rolling(\"2s\", closed=\"left\").x.sum()\n",
    "df[\"neither\"] = df.rolling(\"2s\", closed=\"neither\").x.sum()\n",
    "df"
   ]
  },
  {
   "cell_type": "markdown",
   "id": "805c73ce",
   "metadata": {},
   "source": [
    "#### Custom window rolling\n",
    "- In addition to accepting an integer or offset as a window argument, rolling also accepts a BaseIndexer subclass that allows a user to define a custom method for calculating window bounds. The BaseIndexer subclass will need to define a get_window_bounds method that returns a tuple of two arrays, the first being the starting indices of the windows and second being the ending indices of the windows. Additionally, num_values, min_periods, center, closed and step will automatically be passed to get_window_bounds and the defined method must always accept these arguments.\n",
    "\n",
    "- For example, if we have the following DataFrame"
   ]
  },
  {
   "cell_type": "code",
   "execution_count": 26,
   "id": "5e2c1433",
   "metadata": {},
   "outputs": [
    {
     "data": {
      "text/plain": [
       "[True, False, True, False, True]"
      ]
     },
     "execution_count": 26,
     "metadata": {},
     "output_type": "execute_result"
    }
   ],
   "source": [
    "use_expanding = [True, False, True, False, True]\n",
    "use_expanding"
   ]
  },
  {
   "cell_type": "code",
   "execution_count": 27,
   "id": "3b842dde",
   "metadata": {},
   "outputs": [
    {
     "data": {
      "text/html": [
       "<div>\n",
       "<style scoped>\n",
       "    .dataframe tbody tr th:only-of-type {\n",
       "        vertical-align: middle;\n",
       "    }\n",
       "\n",
       "    .dataframe tbody tr th {\n",
       "        vertical-align: top;\n",
       "    }\n",
       "\n",
       "    .dataframe thead th {\n",
       "        text-align: right;\n",
       "    }\n",
       "</style>\n",
       "<table border=\"1\" class=\"dataframe\">\n",
       "  <thead>\n",
       "    <tr style=\"text-align: right;\">\n",
       "      <th></th>\n",
       "      <th>values</th>\n",
       "    </tr>\n",
       "  </thead>\n",
       "  <tbody>\n",
       "    <tr>\n",
       "      <th>0</th>\n",
       "      <td>0</td>\n",
       "    </tr>\n",
       "    <tr>\n",
       "      <th>1</th>\n",
       "      <td>1</td>\n",
       "    </tr>\n",
       "    <tr>\n",
       "      <th>2</th>\n",
       "      <td>2</td>\n",
       "    </tr>\n",
       "    <tr>\n",
       "      <th>3</th>\n",
       "      <td>3</td>\n",
       "    </tr>\n",
       "    <tr>\n",
       "      <th>4</th>\n",
       "      <td>4</td>\n",
       "    </tr>\n",
       "  </tbody>\n",
       "</table>\n",
       "</div>"
      ],
      "text/plain": [
       "   values\n",
       "0       0\n",
       "1       1\n",
       "2       2\n",
       "3       3\n",
       "4       4"
      ]
     },
     "execution_count": 27,
     "metadata": {},
     "output_type": "execute_result"
    }
   ],
   "source": [
    "df = pd.DataFrame({\"values\": range(5)})\n",
    "df"
   ]
  },
  {
   "cell_type": "markdown",
   "id": "5946e524",
   "metadata": {},
   "source": [
    "- and we want to use an expanding window where use_expanding is True otherwise a window of size 1, we can create the following BaseIndexer subclass:"
   ]
  },
  {
   "cell_type": "code",
   "execution_count": 28,
   "id": "96d0441c",
   "metadata": {},
   "outputs": [
    {
     "data": {
      "text/html": [
       "<div>\n",
       "<style scoped>\n",
       "    .dataframe tbody tr th:only-of-type {\n",
       "        vertical-align: middle;\n",
       "    }\n",
       "\n",
       "    .dataframe tbody tr th {\n",
       "        vertical-align: top;\n",
       "    }\n",
       "\n",
       "    .dataframe thead th {\n",
       "        text-align: right;\n",
       "    }\n",
       "</style>\n",
       "<table border=\"1\" class=\"dataframe\">\n",
       "  <thead>\n",
       "    <tr style=\"text-align: right;\">\n",
       "      <th></th>\n",
       "      <th>values</th>\n",
       "    </tr>\n",
       "  </thead>\n",
       "  <tbody>\n",
       "    <tr>\n",
       "      <th>0</th>\n",
       "      <td>0.0</td>\n",
       "    </tr>\n",
       "    <tr>\n",
       "      <th>1</th>\n",
       "      <td>1.0</td>\n",
       "    </tr>\n",
       "    <tr>\n",
       "      <th>2</th>\n",
       "      <td>3.0</td>\n",
       "    </tr>\n",
       "    <tr>\n",
       "      <th>3</th>\n",
       "      <td>3.0</td>\n",
       "    </tr>\n",
       "    <tr>\n",
       "      <th>4</th>\n",
       "      <td>10.0</td>\n",
       "    </tr>\n",
       "  </tbody>\n",
       "</table>\n",
       "</div>"
      ],
      "text/plain": [
       "   values\n",
       "0     0.0\n",
       "1     1.0\n",
       "2     3.0\n",
       "3     3.0\n",
       "4    10.0"
      ]
     },
     "execution_count": 28,
     "metadata": {},
     "output_type": "execute_result"
    }
   ],
   "source": [
    "from pandas.api.indexers import BaseIndexer\n",
    "\n",
    "class CustomIndexer(BaseIndexer):\n",
    "     def get_window_bounds(self, num_values, min_periods, center, closed, step):\n",
    "         start = np.empty(num_values, dtype=np.int64)\n",
    "         end = np.empty(num_values, dtype=np.int64)\n",
    "         for i in range(num_values):\n",
    "             if self.use_expanding[i]:\n",
    "                 start[i] = 0\n",
    "                 end[i] = i + 1\n",
    "             else:\n",
    "                 start[i] = i\n",
    "                 end[i] = i + self.window_size\n",
    "         return start, end\n",
    "\n",
    "indexer = CustomIndexer(window_size=1, use_expanding=use_expanding)\n",
    "df.rolling(indexer).sum()\n"
   ]
  },
  {
   "cell_type": "markdown",
   "id": "9d3917c6",
   "metadata": {},
   "source": [
    "- You can view other examples of BaseIndexer subclasses here\n",
    "\n",
    "- One subclass of note within those examples is the VariableOffsetWindowIndexer that allows rolling operations over a non-fixed offset like a BusinessDay."
   ]
  },
  {
   "cell_type": "code",
   "execution_count": 29,
   "id": "c10cd50b",
   "metadata": {},
   "outputs": [
    {
     "data": {
      "text/html": [
       "<div>\n",
       "<style scoped>\n",
       "    .dataframe tbody tr th:only-of-type {\n",
       "        vertical-align: middle;\n",
       "    }\n",
       "\n",
       "    .dataframe tbody tr th {\n",
       "        vertical-align: top;\n",
       "    }\n",
       "\n",
       "    .dataframe thead th {\n",
       "        text-align: right;\n",
       "    }\n",
       "</style>\n",
       "<table border=\"1\" class=\"dataframe\">\n",
       "  <thead>\n",
       "    <tr style=\"text-align: right;\">\n",
       "      <th></th>\n",
       "      <th>0</th>\n",
       "    </tr>\n",
       "  </thead>\n",
       "  <tbody>\n",
       "    <tr>\n",
       "      <th>2020-01-01</th>\n",
       "      <td>0</td>\n",
       "    </tr>\n",
       "    <tr>\n",
       "      <th>2020-01-02</th>\n",
       "      <td>1</td>\n",
       "    </tr>\n",
       "    <tr>\n",
       "      <th>2020-01-03</th>\n",
       "      <td>2</td>\n",
       "    </tr>\n",
       "    <tr>\n",
       "      <th>2020-01-04</th>\n",
       "      <td>3</td>\n",
       "    </tr>\n",
       "    <tr>\n",
       "      <th>2020-01-05</th>\n",
       "      <td>4</td>\n",
       "    </tr>\n",
       "    <tr>\n",
       "      <th>2020-01-06</th>\n",
       "      <td>5</td>\n",
       "    </tr>\n",
       "    <tr>\n",
       "      <th>2020-01-07</th>\n",
       "      <td>6</td>\n",
       "    </tr>\n",
       "    <tr>\n",
       "      <th>2020-01-08</th>\n",
       "      <td>7</td>\n",
       "    </tr>\n",
       "    <tr>\n",
       "      <th>2020-01-09</th>\n",
       "      <td>8</td>\n",
       "    </tr>\n",
       "    <tr>\n",
       "      <th>2020-01-10</th>\n",
       "      <td>9</td>\n",
       "    </tr>\n",
       "  </tbody>\n",
       "</table>\n",
       "</div>"
      ],
      "text/plain": [
       "            0\n",
       "2020-01-01  0\n",
       "2020-01-02  1\n",
       "2020-01-03  2\n",
       "2020-01-04  3\n",
       "2020-01-05  4\n",
       "2020-01-06  5\n",
       "2020-01-07  6\n",
       "2020-01-08  7\n",
       "2020-01-09  8\n",
       "2020-01-10  9"
      ]
     },
     "execution_count": 29,
     "metadata": {},
     "output_type": "execute_result"
    }
   ],
   "source": [
    "from pandas.api.indexers import VariableOffsetWindowIndexer\n",
    "df = pd.DataFrame(range(10), index=pd.date_range(\"2020\", periods=10))\n",
    "\n",
    "offset = pd.offsets.BDay(1)\n",
    "indexer = VariableOffsetWindowIndexer(index=df.index, offset=offset)\n",
    "df"
   ]
  },
  {
   "cell_type": "code",
   "execution_count": 30,
   "id": "3559bd4b",
   "metadata": {},
   "outputs": [
    {
     "data": {
      "text/html": [
       "<div>\n",
       "<style scoped>\n",
       "    .dataframe tbody tr th:only-of-type {\n",
       "        vertical-align: middle;\n",
       "    }\n",
       "\n",
       "    .dataframe tbody tr th {\n",
       "        vertical-align: top;\n",
       "    }\n",
       "\n",
       "    .dataframe thead th {\n",
       "        text-align: right;\n",
       "    }\n",
       "</style>\n",
       "<table border=\"1\" class=\"dataframe\">\n",
       "  <thead>\n",
       "    <tr style=\"text-align: right;\">\n",
       "      <th></th>\n",
       "      <th>0</th>\n",
       "    </tr>\n",
       "  </thead>\n",
       "  <tbody>\n",
       "    <tr>\n",
       "      <th>2020-01-01</th>\n",
       "      <td>0.0</td>\n",
       "    </tr>\n",
       "    <tr>\n",
       "      <th>2020-01-02</th>\n",
       "      <td>1.0</td>\n",
       "    </tr>\n",
       "    <tr>\n",
       "      <th>2020-01-03</th>\n",
       "      <td>2.0</td>\n",
       "    </tr>\n",
       "    <tr>\n",
       "      <th>2020-01-04</th>\n",
       "      <td>3.0</td>\n",
       "    </tr>\n",
       "    <tr>\n",
       "      <th>2020-01-05</th>\n",
       "      <td>7.0</td>\n",
       "    </tr>\n",
       "    <tr>\n",
       "      <th>2020-01-06</th>\n",
       "      <td>12.0</td>\n",
       "    </tr>\n",
       "    <tr>\n",
       "      <th>2020-01-07</th>\n",
       "      <td>6.0</td>\n",
       "    </tr>\n",
       "    <tr>\n",
       "      <th>2020-01-08</th>\n",
       "      <td>7.0</td>\n",
       "    </tr>\n",
       "    <tr>\n",
       "      <th>2020-01-09</th>\n",
       "      <td>8.0</td>\n",
       "    </tr>\n",
       "    <tr>\n",
       "      <th>2020-01-10</th>\n",
       "      <td>9.0</td>\n",
       "    </tr>\n",
       "  </tbody>\n",
       "</table>\n",
       "</div>"
      ],
      "text/plain": [
       "               0\n",
       "2020-01-01   0.0\n",
       "2020-01-02   1.0\n",
       "2020-01-03   2.0\n",
       "2020-01-04   3.0\n",
       "2020-01-05   7.0\n",
       "2020-01-06  12.0\n",
       "2020-01-07   6.0\n",
       "2020-01-08   7.0\n",
       "2020-01-09   8.0\n",
       "2020-01-10   9.0"
      ]
     },
     "execution_count": 30,
     "metadata": {},
     "output_type": "execute_result"
    }
   ],
   "source": [
    "df.rolling(indexer).sum()"
   ]
  },
  {
   "cell_type": "markdown",
   "id": "3cd9bb49",
   "metadata": {},
   "source": [
    "- For some problems knowledge of the future is available for analysis. For example, this occurs when each data point is a full time series read from an experiment, and the task is to extract underlying conditions. In these cases it can be useful to perform forward-looking rolling window computations. FixedForwardWindowIndexer class is available for this purpose. This BaseIndexer subclass implements a closed fixed-width forward-looking rolling window, and we can use it as follows:"
   ]
  },
  {
   "cell_type": "code",
   "execution_count": 31,
   "id": "f96f8ab4",
   "metadata": {},
   "outputs": [
    {
     "data": {
      "text/html": [
       "<div>\n",
       "<style scoped>\n",
       "    .dataframe tbody tr th:only-of-type {\n",
       "        vertical-align: middle;\n",
       "    }\n",
       "\n",
       "    .dataframe tbody tr th {\n",
       "        vertical-align: top;\n",
       "    }\n",
       "\n",
       "    .dataframe thead th {\n",
       "        text-align: right;\n",
       "    }\n",
       "</style>\n",
       "<table border=\"1\" class=\"dataframe\">\n",
       "  <thead>\n",
       "    <tr style=\"text-align: right;\">\n",
       "      <th></th>\n",
       "      <th>0</th>\n",
       "    </tr>\n",
       "  </thead>\n",
       "  <tbody>\n",
       "    <tr>\n",
       "      <th>2020-01-01</th>\n",
       "      <td>1.0</td>\n",
       "    </tr>\n",
       "    <tr>\n",
       "      <th>2020-01-02</th>\n",
       "      <td>3.0</td>\n",
       "    </tr>\n",
       "    <tr>\n",
       "      <th>2020-01-03</th>\n",
       "      <td>5.0</td>\n",
       "    </tr>\n",
       "    <tr>\n",
       "      <th>2020-01-04</th>\n",
       "      <td>7.0</td>\n",
       "    </tr>\n",
       "    <tr>\n",
       "      <th>2020-01-05</th>\n",
       "      <td>9.0</td>\n",
       "    </tr>\n",
       "    <tr>\n",
       "      <th>2020-01-06</th>\n",
       "      <td>11.0</td>\n",
       "    </tr>\n",
       "    <tr>\n",
       "      <th>2020-01-07</th>\n",
       "      <td>13.0</td>\n",
       "    </tr>\n",
       "    <tr>\n",
       "      <th>2020-01-08</th>\n",
       "      <td>15.0</td>\n",
       "    </tr>\n",
       "    <tr>\n",
       "      <th>2020-01-09</th>\n",
       "      <td>17.0</td>\n",
       "    </tr>\n",
       "    <tr>\n",
       "      <th>2020-01-10</th>\n",
       "      <td>9.0</td>\n",
       "    </tr>\n",
       "  </tbody>\n",
       "</table>\n",
       "</div>"
      ],
      "text/plain": [
       "               0\n",
       "2020-01-01   1.0\n",
       "2020-01-02   3.0\n",
       "2020-01-03   5.0\n",
       "2020-01-04   7.0\n",
       "2020-01-05   9.0\n",
       "2020-01-06  11.0\n",
       "2020-01-07  13.0\n",
       "2020-01-08  15.0\n",
       "2020-01-09  17.0\n",
       "2020-01-10   9.0"
      ]
     },
     "execution_count": 31,
     "metadata": {},
     "output_type": "execute_result"
    }
   ],
   "source": [
    "from pandas.api.indexers import FixedForwardWindowIndexer\n",
    "indexer = FixedForwardWindowIndexer(window_size=2)\n",
    "df.rolling(indexer, min_periods=1).sum()"
   ]
  },
  {
   "cell_type": "markdown",
   "id": "567d27cc",
   "metadata": {},
   "source": [
    "- We can also achieve this by using slicing, applying rolling aggregation, and then flipping the result as shown in example below:"
   ]
  },
  {
   "cell_type": "code",
   "execution_count": 32,
   "id": "22a1a417",
   "metadata": {},
   "outputs": [
    {
     "data": {
      "text/html": [
       "<div>\n",
       "<style scoped>\n",
       "    .dataframe tbody tr th:only-of-type {\n",
       "        vertical-align: middle;\n",
       "    }\n",
       "\n",
       "    .dataframe tbody tr th {\n",
       "        vertical-align: top;\n",
       "    }\n",
       "\n",
       "    .dataframe thead th {\n",
       "        text-align: right;\n",
       "    }\n",
       "</style>\n",
       "<table border=\"1\" class=\"dataframe\">\n",
       "  <thead>\n",
       "    <tr style=\"text-align: right;\">\n",
       "      <th></th>\n",
       "      <th>value</th>\n",
       "    </tr>\n",
       "    <tr>\n",
       "      <th>time</th>\n",
       "      <th></th>\n",
       "    </tr>\n",
       "  </thead>\n",
       "  <tbody>\n",
       "    <tr>\n",
       "      <th>2018-01-01 00:00:00</th>\n",
       "      <td>100</td>\n",
       "    </tr>\n",
       "    <tr>\n",
       "      <th>2018-01-01 00:00:01</th>\n",
       "      <td>101</td>\n",
       "    </tr>\n",
       "    <tr>\n",
       "      <th>2018-01-01 00:00:03</th>\n",
       "      <td>103</td>\n",
       "    </tr>\n",
       "    <tr>\n",
       "      <th>2018-01-01 00:00:04</th>\n",
       "      <td>111</td>\n",
       "    </tr>\n",
       "  </tbody>\n",
       "</table>\n",
       "</div>"
      ],
      "text/plain": [
       "                     value\n",
       "time                      \n",
       "2018-01-01 00:00:00    100\n",
       "2018-01-01 00:00:01    101\n",
       "2018-01-01 00:00:03    103\n",
       "2018-01-01 00:00:04    111"
      ]
     },
     "execution_count": 32,
     "metadata": {},
     "output_type": "execute_result"
    }
   ],
   "source": [
    "df = pd.DataFrame(\n",
    "    data=[\n",
    "        [pd.Timestamp(\"2018-01-01 00:00:00\"), 100],\n",
    "        [pd.Timestamp(\"2018-01-01 00:00:01\"), 101],\n",
    "        [pd.Timestamp(\"2018-01-01 00:00:03\"), 103],\n",
    "        [pd.Timestamp(\"2018-01-01 00:00:04\"), 111],\n",
    "    ],\n",
    "    columns=[\"time\", \"value\"],\n",
    ").set_index(\"time\")\n",
    "df"
   ]
  },
  {
   "cell_type": "code",
   "execution_count": 33,
   "id": "fec22799",
   "metadata": {},
   "outputs": [
    {
     "data": {
      "text/html": [
       "<div>\n",
       "<style scoped>\n",
       "    .dataframe tbody tr th:only-of-type {\n",
       "        vertical-align: middle;\n",
       "    }\n",
       "\n",
       "    .dataframe tbody tr th {\n",
       "        vertical-align: top;\n",
       "    }\n",
       "\n",
       "    .dataframe thead th {\n",
       "        text-align: right;\n",
       "    }\n",
       "</style>\n",
       "<table border=\"1\" class=\"dataframe\">\n",
       "  <thead>\n",
       "    <tr style=\"text-align: right;\">\n",
       "      <th></th>\n",
       "      <th>value</th>\n",
       "    </tr>\n",
       "    <tr>\n",
       "      <th>time</th>\n",
       "      <th></th>\n",
       "    </tr>\n",
       "  </thead>\n",
       "  <tbody>\n",
       "    <tr>\n",
       "      <th>2018-01-01 00:00:00</th>\n",
       "      <td>201.0</td>\n",
       "    </tr>\n",
       "    <tr>\n",
       "      <th>2018-01-01 00:00:01</th>\n",
       "      <td>101.0</td>\n",
       "    </tr>\n",
       "    <tr>\n",
       "      <th>2018-01-01 00:00:03</th>\n",
       "      <td>214.0</td>\n",
       "    </tr>\n",
       "    <tr>\n",
       "      <th>2018-01-01 00:00:04</th>\n",
       "      <td>111.0</td>\n",
       "    </tr>\n",
       "  </tbody>\n",
       "</table>\n",
       "</div>"
      ],
      "text/plain": [
       "                     value\n",
       "time                      \n",
       "2018-01-01 00:00:00  201.0\n",
       "2018-01-01 00:00:01  101.0\n",
       "2018-01-01 00:00:03  214.0\n",
       "2018-01-01 00:00:04  111.0"
      ]
     },
     "execution_count": 33,
     "metadata": {},
     "output_type": "execute_result"
    }
   ],
   "source": [
    "reversed_df = df[::-1].rolling(\"2s\").sum()[::-1]\n",
    "reversed_df"
   ]
  },
  {
   "cell_type": "markdown",
   "id": "4fea23fb",
   "metadata": {},
   "source": [
    "#### Rolling apply\n",
    "- The apply() function takes an extra func argument and performs generic rolling computations. The func argument should be a single function that produces a single value from an ndarray input. raw specifies whether the windows are cast as Series objects (raw=False) or ndarray objects (raw=True)."
   ]
  },
  {
   "cell_type": "code",
   "execution_count": 34,
   "id": "30e4e418",
   "metadata": {},
   "outputs": [
    {
     "data": {
      "text/plain": [
       "0    NaN\n",
       "1    NaN\n",
       "2    NaN\n",
       "3    1.0\n",
       "4    1.0\n",
       "5    1.0\n",
       "6    1.0\n",
       "7    1.0\n",
       "8    1.0\n",
       "9    1.0\n",
       "dtype: float64"
      ]
     },
     "execution_count": 34,
     "metadata": {},
     "output_type": "execute_result"
    }
   ],
   "source": [
    "def mad(x):\n",
    "    return np.fabs(x - x.mean()).mean()\n",
    "\n",
    "s = pd.Series(range(10))\n",
    "s.rolling(window=4).apply(mad, raw=True)"
   ]
  },
  {
   "cell_type": "markdown",
   "id": "22a92667",
   "metadata": {},
   "source": [
    "#### Numba engine\n",
    "- Additionally, apply() can leverage Numba if installed as an optional dependency. The apply aggregation can be executed using Numba by specifying engine='numba' and engine_kwargs arguments (raw must also be set to True). See enhancing performance with Numba for general usage of the arguments and performance considerations.\n",
    "\n",
    "- Numba will be applied in potentially two routines:\n",
    "    - If func is a standard Python function, the engine will JIT the passed function. func can also be a JITed function in which case the engine will not JIT the function again.\n",
    "    - The engine will JIT the for loop where the apply function is applied to each window.\n",
    "\n",
    "- The engine_kwargs argument is a dictionary of keyword arguments that will be passed into the numba.jit decorator. These keyword arguments will be applied to both the passed function (if a standard Python function) and the apply for loop over each window.\n",
    "\n",
    "- mean, median, max, min, and sum also support the engine and engine_kwargs arguments.\n",
    "\n",
    "#### Binary window functions\n",
    "- cov() and corr() can compute moving window statistics about two Series or any combination of DataFrame/Series or DataFrame/DataFrame. Here is the behavior in each case:\n",
    "    - two Series: compute the statistic for the pairing.\n",
    "    - DataFrame/Series: compute the statistics for each column of the DataFrame with the passed Series, thus returning a DataFrame.\n",
    "    - DataFrame/DataFrame: by default compute the statistic for matching column names, returning a DataFrame. If the keyword argument pairwise=True is passed then computes the statistic for each pair of columns, returning a DataFrame with a MultiIndex whose values are the dates in question (see the next section).\n",
    "\n",
    "- For example:"
   ]
  },
  {
   "cell_type": "code",
   "execution_count": 35,
   "id": "9155505a",
   "metadata": {},
   "outputs": [
    {
     "data": {
      "text/html": [
       "<div>\n",
       "<style scoped>\n",
       "    .dataframe tbody tr th:only-of-type {\n",
       "        vertical-align: middle;\n",
       "    }\n",
       "\n",
       "    .dataframe tbody tr th {\n",
       "        vertical-align: top;\n",
       "    }\n",
       "\n",
       "    .dataframe thead th {\n",
       "        text-align: right;\n",
       "    }\n",
       "</style>\n",
       "<table border=\"1\" class=\"dataframe\">\n",
       "  <thead>\n",
       "    <tr style=\"text-align: right;\">\n",
       "      <th></th>\n",
       "      <th>A</th>\n",
       "      <th>B</th>\n",
       "      <th>C</th>\n",
       "      <th>D</th>\n",
       "    </tr>\n",
       "  </thead>\n",
       "  <tbody>\n",
       "    <tr>\n",
       "      <th>2020-01-01</th>\n",
       "      <td>NaN</td>\n",
       "      <td>NaN</td>\n",
       "      <td>NaN</td>\n",
       "      <td>NaN</td>\n",
       "    </tr>\n",
       "    <tr>\n",
       "      <th>2020-01-02</th>\n",
       "      <td>1.0</td>\n",
       "      <td>1.0</td>\n",
       "      <td>1.0</td>\n",
       "      <td>-1.0</td>\n",
       "    </tr>\n",
       "    <tr>\n",
       "      <th>2020-01-03</th>\n",
       "      <td>1.0</td>\n",
       "      <td>1.0</td>\n",
       "      <td>1.0</td>\n",
       "      <td>-1.0</td>\n",
       "    </tr>\n",
       "    <tr>\n",
       "      <th>2020-01-04</th>\n",
       "      <td>-1.0</td>\n",
       "      <td>1.0</td>\n",
       "      <td>-1.0</td>\n",
       "      <td>-1.0</td>\n",
       "    </tr>\n",
       "  </tbody>\n",
       "</table>\n",
       "</div>"
      ],
      "text/plain": [
       "              A    B    C    D\n",
       "2020-01-01  NaN  NaN  NaN  NaN\n",
       "2020-01-02  1.0  1.0  1.0 -1.0\n",
       "2020-01-03  1.0  1.0  1.0 -1.0\n",
       "2020-01-04 -1.0  1.0 -1.0 -1.0"
      ]
     },
     "execution_count": 35,
     "metadata": {},
     "output_type": "execute_result"
    }
   ],
   "source": [
    "df = pd.DataFrame(\n",
    "    np.random.randn(10, 4),\n",
    "    index=pd.date_range(\"2020-01-01\", periods=10),\n",
    "    columns=[\"A\", \"B\", \"C\", \"D\"],\n",
    ")\n",
    "df = df.cumsum()\n",
    "df2 = df[:4]\n",
    "df2.rolling(window=2).corr(df2[\"B\"])"
   ]
  },
  {
   "cell_type": "markdown",
   "id": "85917d6d",
   "metadata": {},
   "source": [
    "#### Computing rolling pairwise covariances and correlations\n",
    "- In financial data analysis and other fields it’s common to compute covariance and correlation matrices for a collection of time series. Often one is also interested in moving-window covariance and correlation matrices. This can be done by passing the pairwise keyword argument, which in the case of DataFrame inputs will yield a MultiIndexed DataFrame whose index are the dates in question. In the case of a single DataFrame argument the pairwise argument can even be omitted:\n",
    "\n",
    "- **Note**:\n",
    "- Missing values are ignored and each entry is computed using the pairwise complete observations.\n",
    "\n",
    "- Assuming the missing data are missing at random this results in an estimate for the covariance matrix which is unbiased. However, for many applications this estimate may not be acceptable because the estimated covariance matrix is not guaranteed to be positive semi-definite. This could lead to estimated correlations having absolute values which are greater than one, and/or a non-invertible covariance matrix. See Estimation of covariance matrices for more details."
   ]
  },
  {
   "cell_type": "code",
   "execution_count": 36,
   "id": "d77f8cd6",
   "metadata": {},
   "outputs": [
    {
     "data": {
      "text/html": [
       "<div>\n",
       "<style scoped>\n",
       "    .dataframe tbody tr th:only-of-type {\n",
       "        vertical-align: middle;\n",
       "    }\n",
       "\n",
       "    .dataframe tbody tr th {\n",
       "        vertical-align: top;\n",
       "    }\n",
       "\n",
       "    .dataframe thead th {\n",
       "        text-align: right;\n",
       "    }\n",
       "</style>\n",
       "<table border=\"1\" class=\"dataframe\">\n",
       "  <thead>\n",
       "    <tr style=\"text-align: right;\">\n",
       "      <th></th>\n",
       "      <th></th>\n",
       "      <th>B</th>\n",
       "      <th>C</th>\n",
       "      <th>D</th>\n",
       "    </tr>\n",
       "  </thead>\n",
       "  <tbody>\n",
       "    <tr>\n",
       "      <th rowspan=\"3\" valign=\"top\">2020-01-01</th>\n",
       "      <th>A</th>\n",
       "      <td>NaN</td>\n",
       "      <td>NaN</td>\n",
       "      <td>NaN</td>\n",
       "    </tr>\n",
       "    <tr>\n",
       "      <th>B</th>\n",
       "      <td>NaN</td>\n",
       "      <td>NaN</td>\n",
       "      <td>NaN</td>\n",
       "    </tr>\n",
       "    <tr>\n",
       "      <th>C</th>\n",
       "      <td>NaN</td>\n",
       "      <td>NaN</td>\n",
       "      <td>NaN</td>\n",
       "    </tr>\n",
       "    <tr>\n",
       "      <th rowspan=\"3\" valign=\"top\">2020-01-02</th>\n",
       "      <th>A</th>\n",
       "      <td>NaN</td>\n",
       "      <td>NaN</td>\n",
       "      <td>NaN</td>\n",
       "    </tr>\n",
       "    <tr>\n",
       "      <th>B</th>\n",
       "      <td>NaN</td>\n",
       "      <td>NaN</td>\n",
       "      <td>NaN</td>\n",
       "    </tr>\n",
       "    <tr>\n",
       "      <th>C</th>\n",
       "      <td>NaN</td>\n",
       "      <td>NaN</td>\n",
       "      <td>NaN</td>\n",
       "    </tr>\n",
       "    <tr>\n",
       "      <th rowspan=\"3\" valign=\"top\">2020-01-03</th>\n",
       "      <th>A</th>\n",
       "      <td>NaN</td>\n",
       "      <td>NaN</td>\n",
       "      <td>NaN</td>\n",
       "    </tr>\n",
       "    <tr>\n",
       "      <th>B</th>\n",
       "      <td>NaN</td>\n",
       "      <td>NaN</td>\n",
       "      <td>NaN</td>\n",
       "    </tr>\n",
       "    <tr>\n",
       "      <th>C</th>\n",
       "      <td>NaN</td>\n",
       "      <td>NaN</td>\n",
       "      <td>NaN</td>\n",
       "    </tr>\n",
       "    <tr>\n",
       "      <th rowspan=\"3\" valign=\"top\">2020-01-04</th>\n",
       "      <th>A</th>\n",
       "      <td>0.008265</td>\n",
       "      <td>0.844142</td>\n",
       "      <td>-0.246741</td>\n",
       "    </tr>\n",
       "    <tr>\n",
       "      <th>B</th>\n",
       "      <td>0.227966</td>\n",
       "      <td>0.121286</td>\n",
       "      <td>-0.268651</td>\n",
       "    </tr>\n",
       "    <tr>\n",
       "      <th>C</th>\n",
       "      <td>0.121286</td>\n",
       "      <td>2.110627</td>\n",
       "      <td>-0.190263</td>\n",
       "    </tr>\n",
       "    <tr>\n",
       "      <th rowspan=\"3\" valign=\"top\">2020-01-05</th>\n",
       "      <th>A</th>\n",
       "      <td>-0.240157</td>\n",
       "      <td>1.564655</td>\n",
       "      <td>-0.717099</td>\n",
       "    </tr>\n",
       "    <tr>\n",
       "      <th>B</th>\n",
       "      <td>0.671121</td>\n",
       "      <td>-0.855186</td>\n",
       "      <td>0.453196</td>\n",
       "    </tr>\n",
       "    <tr>\n",
       "      <th>C</th>\n",
       "      <td>-0.855186</td>\n",
       "      <td>3.008593</td>\n",
       "      <td>-1.305012</td>\n",
       "    </tr>\n",
       "    <tr>\n",
       "      <th rowspan=\"3\" valign=\"top\">2020-01-06</th>\n",
       "      <th>A</th>\n",
       "      <td>-1.065921</td>\n",
       "      <td>1.159806</td>\n",
       "      <td>-0.579214</td>\n",
       "    </tr>\n",
       "    <tr>\n",
       "      <th>B</th>\n",
       "      <td>1.771164</td>\n",
       "      <td>-1.856435</td>\n",
       "      <td>1.204398</td>\n",
       "    </tr>\n",
       "    <tr>\n",
       "      <th>C</th>\n",
       "      <td>-1.856435</td>\n",
       "      <td>2.198318</td>\n",
       "      <td>-0.944005</td>\n",
       "    </tr>\n",
       "    <tr>\n",
       "      <th rowspan=\"3\" valign=\"top\">2020-01-07</th>\n",
       "      <th>A</th>\n",
       "      <td>-2.003297</td>\n",
       "      <td>0.064349</td>\n",
       "      <td>-1.197044</td>\n",
       "    </tr>\n",
       "    <tr>\n",
       "      <th>B</th>\n",
       "      <td>3.277875</td>\n",
       "      <td>-0.083180</td>\n",
       "      <td>2.199326</td>\n",
       "    </tr>\n",
       "    <tr>\n",
       "      <th>C</th>\n",
       "      <td>-0.083180</td>\n",
       "      <td>0.438349</td>\n",
       "      <td>-0.343330</td>\n",
       "    </tr>\n",
       "    <tr>\n",
       "      <th rowspan=\"3\" valign=\"top\">2020-01-08</th>\n",
       "      <th>A</th>\n",
       "      <td>-2.874049</td>\n",
       "      <td>-1.037109</td>\n",
       "      <td>0.748213</td>\n",
       "    </tr>\n",
       "    <tr>\n",
       "      <th>B</th>\n",
       "      <td>2.791650</td>\n",
       "      <td>0.983037</td>\n",
       "      <td>-0.259602</td>\n",
       "    </tr>\n",
       "    <tr>\n",
       "      <th>C</th>\n",
       "      <td>0.983037</td>\n",
       "      <td>0.640702</td>\n",
       "      <td>-0.308023</td>\n",
       "    </tr>\n",
       "    <tr>\n",
       "      <th rowspan=\"3\" valign=\"top\">2020-01-09</th>\n",
       "      <th>A</th>\n",
       "      <td>-1.608907</td>\n",
       "      <td>-1.386361</td>\n",
       "      <td>1.268514</td>\n",
       "    </tr>\n",
       "    <tr>\n",
       "      <th>B</th>\n",
       "      <td>1.511788</td>\n",
       "      <td>1.219597</td>\n",
       "      <td>-0.665467</td>\n",
       "    </tr>\n",
       "    <tr>\n",
       "      <th>C</th>\n",
       "      <td>1.219597</td>\n",
       "      <td>1.023215</td>\n",
       "      <td>-0.672874</td>\n",
       "    </tr>\n",
       "    <tr>\n",
       "      <th rowspan=\"3\" valign=\"top\">2020-01-10</th>\n",
       "      <th>A</th>\n",
       "      <td>-0.222339</td>\n",
       "      <td>-0.315117</td>\n",
       "      <td>0.860012</td>\n",
       "    </tr>\n",
       "    <tr>\n",
       "      <th>B</th>\n",
       "      <td>0.157861</td>\n",
       "      <td>0.213175</td>\n",
       "      <td>-0.210837</td>\n",
       "    </tr>\n",
       "    <tr>\n",
       "      <th>C</th>\n",
       "      <td>0.213175</td>\n",
       "      <td>0.294630</td>\n",
       "      <td>-0.307451</td>\n",
       "    </tr>\n",
       "  </tbody>\n",
       "</table>\n",
       "</div>"
      ],
      "text/plain": [
       "                     B         C         D\n",
       "2020-01-01 A       NaN       NaN       NaN\n",
       "           B       NaN       NaN       NaN\n",
       "           C       NaN       NaN       NaN\n",
       "2020-01-02 A       NaN       NaN       NaN\n",
       "           B       NaN       NaN       NaN\n",
       "           C       NaN       NaN       NaN\n",
       "2020-01-03 A       NaN       NaN       NaN\n",
       "           B       NaN       NaN       NaN\n",
       "           C       NaN       NaN       NaN\n",
       "2020-01-04 A  0.008265  0.844142 -0.246741\n",
       "           B  0.227966  0.121286 -0.268651\n",
       "           C  0.121286  2.110627 -0.190263\n",
       "2020-01-05 A -0.240157  1.564655 -0.717099\n",
       "           B  0.671121 -0.855186  0.453196\n",
       "           C -0.855186  3.008593 -1.305012\n",
       "2020-01-06 A -1.065921  1.159806 -0.579214\n",
       "           B  1.771164 -1.856435  1.204398\n",
       "           C -1.856435  2.198318 -0.944005\n",
       "2020-01-07 A -2.003297  0.064349 -1.197044\n",
       "           B  3.277875 -0.083180  2.199326\n",
       "           C -0.083180  0.438349 -0.343330\n",
       "2020-01-08 A -2.874049 -1.037109  0.748213\n",
       "           B  2.791650  0.983037 -0.259602\n",
       "           C  0.983037  0.640702 -0.308023\n",
       "2020-01-09 A -1.608907 -1.386361  1.268514\n",
       "           B  1.511788  1.219597 -0.665467\n",
       "           C  1.219597  1.023215 -0.672874\n",
       "2020-01-10 A -0.222339 -0.315117  0.860012\n",
       "           B  0.157861  0.213175 -0.210837\n",
       "           C  0.213175  0.294630 -0.307451"
      ]
     },
     "execution_count": 36,
     "metadata": {},
     "output_type": "execute_result"
    }
   ],
   "source": [
    "covs = (\n",
    "    df[[\"B\", \"C\", \"D\"]]\n",
    "    .rolling(window=4)\n",
    "    .cov(df[[\"A\", \"B\", \"C\"]], pairwise=True)\n",
    ")\n",
    "\n",
    "covs"
   ]
  },
  {
   "cell_type": "markdown",
   "id": "17d61a8f",
   "metadata": {},
   "source": [
    "#### Weighted window\n",
    "- The win_type argument in .rolling generates a weighted windows that are commonly used in filtering and spectral estimation. win_type must be string that corresponds to a scipy.signal window function. Scipy must be installed in order to use these windows, and supplementary arguments that the Scipy window methods take must be specified in the aggregation function.\n",
    "\n"
   ]
  },
  {
   "cell_type": "code",
   "execution_count": 37,
   "id": "4714ca19",
   "metadata": {},
   "outputs": [
    {
     "data": {
      "text/plain": [
       "0    NaN\n",
       "1    NaN\n",
       "2    NaN\n",
       "3    NaN\n",
       "4    2.0\n",
       "5    3.0\n",
       "6    4.0\n",
       "7    5.0\n",
       "8    6.0\n",
       "9    7.0\n",
       "dtype: float64"
      ]
     },
     "execution_count": 37,
     "metadata": {},
     "output_type": "execute_result"
    }
   ],
   "source": [
    "s = pd.Series(range(10))\n",
    "s.rolling(window=5).mean()"
   ]
  },
  {
   "cell_type": "code",
   "execution_count": 38,
   "id": "024e5725",
   "metadata": {},
   "outputs": [
    {
     "data": {
      "text/plain": [
       "0    NaN\n",
       "1    NaN\n",
       "2    NaN\n",
       "3    NaN\n",
       "4    2.0\n",
       "5    3.0\n",
       "6    4.0\n",
       "7    5.0\n",
       "8    6.0\n",
       "9    7.0\n",
       "dtype: float64"
      ]
     },
     "execution_count": 38,
     "metadata": {},
     "output_type": "execute_result"
    }
   ],
   "source": [
    "s.rolling(window=5, win_type=\"triang\").mean()"
   ]
  },
  {
   "cell_type": "code",
   "execution_count": 39,
   "id": "a597f92f",
   "metadata": {},
   "outputs": [
    {
     "data": {
      "text/plain": [
       "0    NaN\n",
       "1    NaN\n",
       "2    NaN\n",
       "3    NaN\n",
       "4    2.0\n",
       "5    3.0\n",
       "6    4.0\n",
       "7    5.0\n",
       "8    6.0\n",
       "9    7.0\n",
       "dtype: float64"
      ]
     },
     "execution_count": 39,
     "metadata": {},
     "output_type": "execute_result"
    }
   ],
   "source": [
    "# Supplementary Scipy arguments passed in the aggregation function\n",
    "s.rolling(window=5, win_type=\"gaussian\").mean(std=0.1)"
   ]
  },
  {
   "cell_type": "markdown",
   "id": "05912a7b",
   "metadata": {},
   "source": [
    "#### Expanding window\n",
    "- An expanding window yields the value of an aggregation statistic with all the data available up to that point in time. Since these calculations are a special case of rolling statistics, they are implemented in pandas such that the following two calls are equivalent:"
   ]
  },
  {
   "cell_type": "code",
   "execution_count": 40,
   "id": "812207b5",
   "metadata": {},
   "outputs": [
    {
     "data": {
      "text/html": [
       "<div>\n",
       "<style scoped>\n",
       "    .dataframe tbody tr th:only-of-type {\n",
       "        vertical-align: middle;\n",
       "    }\n",
       "\n",
       "    .dataframe tbody tr th {\n",
       "        vertical-align: top;\n",
       "    }\n",
       "\n",
       "    .dataframe thead th {\n",
       "        text-align: right;\n",
       "    }\n",
       "</style>\n",
       "<table border=\"1\" class=\"dataframe\">\n",
       "  <thead>\n",
       "    <tr style=\"text-align: right;\">\n",
       "      <th></th>\n",
       "      <th>0</th>\n",
       "    </tr>\n",
       "  </thead>\n",
       "  <tbody>\n",
       "    <tr>\n",
       "      <th>0</th>\n",
       "      <td>0.0</td>\n",
       "    </tr>\n",
       "    <tr>\n",
       "      <th>1</th>\n",
       "      <td>0.5</td>\n",
       "    </tr>\n",
       "    <tr>\n",
       "      <th>2</th>\n",
       "      <td>1.0</td>\n",
       "    </tr>\n",
       "    <tr>\n",
       "      <th>3</th>\n",
       "      <td>1.5</td>\n",
       "    </tr>\n",
       "    <tr>\n",
       "      <th>4</th>\n",
       "      <td>2.0</td>\n",
       "    </tr>\n",
       "  </tbody>\n",
       "</table>\n",
       "</div>"
      ],
      "text/plain": [
       "     0\n",
       "0  0.0\n",
       "1  0.5\n",
       "2  1.0\n",
       "3  1.5\n",
       "4  2.0"
      ]
     },
     "execution_count": 40,
     "metadata": {},
     "output_type": "execute_result"
    }
   ],
   "source": [
    "df = pd.DataFrame(range(5))\n",
    "df.rolling(window=len(df), min_periods=1).mean()"
   ]
  },
  {
   "cell_type": "code",
   "execution_count": 41,
   "id": "9c4eda6e",
   "metadata": {},
   "outputs": [
    {
     "data": {
      "text/html": [
       "<div>\n",
       "<style scoped>\n",
       "    .dataframe tbody tr th:only-of-type {\n",
       "        vertical-align: middle;\n",
       "    }\n",
       "\n",
       "    .dataframe tbody tr th {\n",
       "        vertical-align: top;\n",
       "    }\n",
       "\n",
       "    .dataframe thead th {\n",
       "        text-align: right;\n",
       "    }\n",
       "</style>\n",
       "<table border=\"1\" class=\"dataframe\">\n",
       "  <thead>\n",
       "    <tr style=\"text-align: right;\">\n",
       "      <th></th>\n",
       "      <th>0</th>\n",
       "    </tr>\n",
       "  </thead>\n",
       "  <tbody>\n",
       "    <tr>\n",
       "      <th>0</th>\n",
       "      <td>0.0</td>\n",
       "    </tr>\n",
       "    <tr>\n",
       "      <th>1</th>\n",
       "      <td>0.5</td>\n",
       "    </tr>\n",
       "    <tr>\n",
       "      <th>2</th>\n",
       "      <td>1.0</td>\n",
       "    </tr>\n",
       "    <tr>\n",
       "      <th>3</th>\n",
       "      <td>1.5</td>\n",
       "    </tr>\n",
       "    <tr>\n",
       "      <th>4</th>\n",
       "      <td>2.0</td>\n",
       "    </tr>\n",
       "  </tbody>\n",
       "</table>\n",
       "</div>"
      ],
      "text/plain": [
       "     0\n",
       "0  0.0\n",
       "1  0.5\n",
       "2  1.0\n",
       "3  1.5\n",
       "4  2.0"
      ]
     },
     "execution_count": 41,
     "metadata": {},
     "output_type": "execute_result"
    }
   ],
   "source": [
    "df.expanding(min_periods=1).mean()"
   ]
  },
  {
   "cell_type": "markdown",
   "id": "48d68834",
   "metadata": {},
   "source": [
    "- Skip: Exponentially weighted window"
   ]
  },
  {
   "cell_type": "markdown",
   "id": "fd189820",
   "metadata": {},
   "source": [
    "#### Time series / date functionality\n",
    "- From https://pandas.pydata.org/docs/user_guide/timeseries.html\n",
    "- pandas contains extensive capabilities and features for working with time series data for all domains. Using the NumPy datetime64 and timedelta64 dtypes, pandas has consolidated a large number of features from other Python libraries like scikits.timeseries as well as created a tremendous amount of new functionality for manipulating time series data.\n",
    "\n",
    "- For example, pandas supports:\n",
    "\n",
    "- Parsing time series information from various sources and formats"
   ]
  },
  {
   "cell_type": "code",
   "execution_count": 42,
   "id": "6394e5f2",
   "metadata": {},
   "outputs": [
    {
     "data": {
      "text/plain": [
       "DatetimeIndex(['2018-01-01', '2018-01-01', '2018-01-01'], dtype='datetime64[ns]', freq=None)"
      ]
     },
     "execution_count": 42,
     "metadata": {},
     "output_type": "execute_result"
    }
   ],
   "source": [
    "import datetime\n",
    "\n",
    "dti = pd.to_datetime(\n",
    "    [\"1/1/2018\", np.datetime64(\"2018-01-01\"), datetime.datetime(2018, 1, 1)]\n",
    ")\n",
    "\n",
    "dti"
   ]
  },
  {
   "cell_type": "markdown",
   "id": "05b29254",
   "metadata": {},
   "source": [
    "- Generate sequences of fixed-frequency dates and time spans"
   ]
  },
  {
   "cell_type": "code",
   "execution_count": 43,
   "id": "14d83ce1",
   "metadata": {},
   "outputs": [
    {
     "data": {
      "text/plain": [
       "DatetimeIndex(['2018-01-01 00:00:00', '2018-01-01 01:00:00',\n",
       "               '2018-01-01 02:00:00'],\n",
       "              dtype='datetime64[ns]', freq='h')"
      ]
     },
     "execution_count": 43,
     "metadata": {},
     "output_type": "execute_result"
    }
   ],
   "source": [
    "dti = pd.date_range(\"2018-01-01\", periods=3, freq=\"h\")\n",
    "dti"
   ]
  },
  {
   "cell_type": "markdown",
   "id": "5ccea19d",
   "metadata": {},
   "source": [
    "- Manipulating and converting date times with timezone information"
   ]
  },
  {
   "cell_type": "code",
   "execution_count": 44,
   "id": "566dc2e9",
   "metadata": {},
   "outputs": [
    {
     "data": {
      "text/plain": [
       "DatetimeIndex(['2018-01-01 00:00:00+00:00', '2018-01-01 01:00:00+00:00',\n",
       "               '2018-01-01 02:00:00+00:00'],\n",
       "              dtype='datetime64[ns, UTC]', freq='h')"
      ]
     },
     "execution_count": 44,
     "metadata": {},
     "output_type": "execute_result"
    }
   ],
   "source": [
    "dti = dti.tz_localize(\"UTC\")\n",
    "dti"
   ]
  },
  {
   "cell_type": "code",
   "execution_count": 45,
   "id": "2d154094",
   "metadata": {},
   "outputs": [
    {
     "data": {
      "text/plain": [
       "DatetimeIndex(['2017-12-31 16:00:00-08:00', '2017-12-31 17:00:00-08:00',\n",
       "               '2017-12-31 18:00:00-08:00'],\n",
       "              dtype='datetime64[ns, US/Pacific]', freq='h')"
      ]
     },
     "execution_count": 45,
     "metadata": {},
     "output_type": "execute_result"
    }
   ],
   "source": [
    "dti.tz_convert(\"US/Pacific\")"
   ]
  },
  {
   "cell_type": "markdown",
   "id": "6b64f737",
   "metadata": {},
   "source": [
    "- Resampling or converting a time series to a particular frequency"
   ]
  },
  {
   "cell_type": "code",
   "execution_count": 46,
   "id": "25752c78",
   "metadata": {},
   "outputs": [
    {
     "data": {
      "text/plain": [
       "2018-01-01 00:00:00    0\n",
       "2018-01-01 01:00:00    1\n",
       "2018-01-01 02:00:00    2\n",
       "2018-01-01 03:00:00    3\n",
       "2018-01-01 04:00:00    4\n",
       "Freq: h, dtype: int64"
      ]
     },
     "execution_count": 46,
     "metadata": {},
     "output_type": "execute_result"
    }
   ],
   "source": [
    "idx = pd.date_range(\"2018-01-01\", periods=5, freq=\"h\")\n",
    "ts = pd.Series(range(len(idx)), index=idx)\n",
    "ts"
   ]
  },
  {
   "cell_type": "code",
   "execution_count": 47,
   "id": "5123113f",
   "metadata": {},
   "outputs": [
    {
     "data": {
      "text/plain": [
       "2018-01-01 00:00:00    0.5\n",
       "2018-01-01 02:00:00    2.5\n",
       "2018-01-01 04:00:00    4.0\n",
       "Freq: 2h, dtype: float64"
      ]
     },
     "execution_count": 47,
     "metadata": {},
     "output_type": "execute_result"
    }
   ],
   "source": [
    "ts.resample(\"2h\").mean()"
   ]
  },
  {
   "cell_type": "markdown",
   "id": "7fb30fe3",
   "metadata": {},
   "source": [
    "- Performing date and time arithmetic with absolute or relative time increments"
   ]
  },
  {
   "cell_type": "code",
   "execution_count": 48,
   "id": "9986115c",
   "metadata": {},
   "outputs": [
    {
     "data": {
      "text/plain": [
       "'Friday'"
      ]
     },
     "execution_count": 48,
     "metadata": {},
     "output_type": "execute_result"
    }
   ],
   "source": [
    "friday = pd.Timestamp(\"2018-01-05\")\n",
    "friday.day_name()"
   ]
  },
  {
   "cell_type": "code",
   "execution_count": 49,
   "id": "e5d13b12",
   "metadata": {},
   "outputs": [
    {
     "data": {
      "text/plain": [
       "'Saturday'"
      ]
     },
     "execution_count": 49,
     "metadata": {},
     "output_type": "execute_result"
    }
   ],
   "source": [
    "# Add 1 day\n",
    "saturday = friday + pd.Timedelta(\"1 day\")\n",
    "saturday.day_name()"
   ]
  },
  {
   "cell_type": "code",
   "execution_count": 50,
   "id": "0d4b02d9",
   "metadata": {},
   "outputs": [
    {
     "data": {
      "text/plain": [
       "'Monday'"
      ]
     },
     "execution_count": 50,
     "metadata": {},
     "output_type": "execute_result"
    }
   ],
   "source": [
    "# Add 1 business day (Friday --> Monday)\n",
    "monday = friday + pd.offsets.BDay()\n",
    "monday.day_name()"
   ]
  },
  {
   "cell_type": "markdown",
   "id": "1fa7dadb",
   "metadata": {},
   "source": [
    "- pandas provides a relatively compact and self-contained set of tools for performing the above tasks and more.\n",
    "\n",
    "#### Overview\n",
    "- pandas captures 4 general time related concepts:\n",
    "    - Date times: A specific date and time with timezone support. Similar to datetime.datetime from the standard library.\n",
    "    - Time deltas: An absolute time duration. Similar to datetime.timedelta from the standard library.\n",
    "    - Time spans: A span of time defined by a point in time and its associated frequency.\n",
    "    - Date offsets: A relative time duration that respects calendar arithmetic. Similar to dateutil.relativedelta.relativedelta from the dateutil package.\n",
    "\n",
    "| Concept |  Scalar Class | Array Class | pandas Data Type | Primary Creation Method |\n",
    "| --- | --- | --- | ---- | ---- |\n",
    "| Date times | Timestamp | DatetimeIndex | datetime64[ns] or datetime64[ns, tz] |to_datetime or date_range |\n",
    "| Time deltas | Timedelta | TimedeltaIndex | timedelta64[ns] | to_timedelta or timedelta_range |\n",
    "| Time spans | Period | PeriodIndex | period[freq] | Period or period_range |\n",
    "| Date offsets | DateOffset | None | None | DateOffset|\n",
    "\n",
    "- For time series data, it’s conventional to represent the time component in the index of a Series or DataFrame so manipulations can be performed with respect to the time element."
   ]
  },
  {
   "cell_type": "code",
   "execution_count": 51,
   "id": "89e3298d",
   "metadata": {},
   "outputs": [
    {
     "data": {
      "text/plain": [
       "2000-01-01    0\n",
       "2000-01-02    1\n",
       "2000-01-03    2\n",
       "Freq: D, dtype: int64"
      ]
     },
     "execution_count": 51,
     "metadata": {},
     "output_type": "execute_result"
    }
   ],
   "source": [
    "pd.Series(range(3), index=pd.date_range(\"2000\", freq=\"D\", periods=3))"
   ]
  },
  {
   "cell_type": "markdown",
   "id": "af02011d",
   "metadata": {},
   "source": [
    "- However, Series and DataFrame can directly also support the time component as data itself."
   ]
  },
  {
   "cell_type": "code",
   "execution_count": 52,
   "id": "227c3673",
   "metadata": {},
   "outputs": [
    {
     "data": {
      "text/plain": [
       "0   2000-01-01\n",
       "1   2000-01-02\n",
       "2   2000-01-03\n",
       "dtype: datetime64[ns]"
      ]
     },
     "execution_count": 52,
     "metadata": {},
     "output_type": "execute_result"
    }
   ],
   "source": [
    "pd.Series(pd.date_range(\"2000\", freq=\"D\", periods=3))"
   ]
  },
  {
   "cell_type": "markdown",
   "id": "8f620dac",
   "metadata": {},
   "source": [
    "- Series and DataFrame have extended data type support and functionality for datetime, timedelta and Period data when passed into those constructors. DateOffset data however will be stored as object data."
   ]
  },
  {
   "cell_type": "code",
   "execution_count": 53,
   "id": "81325eb6",
   "metadata": {},
   "outputs": [
    {
     "data": {
      "text/plain": [
       "0    2011-01\n",
       "1    2011-02\n",
       "2    2011-03\n",
       "dtype: period[M]"
      ]
     },
     "execution_count": 53,
     "metadata": {},
     "output_type": "execute_result"
    }
   ],
   "source": [
    "pd.Series(pd.period_range(\"1/1/2011\", freq=\"M\", periods=3))"
   ]
  },
  {
   "cell_type": "code",
   "execution_count": 54,
   "id": "0365ded0",
   "metadata": {},
   "outputs": [
    {
     "data": {
      "text/plain": [
       "0         <DateOffset>\n",
       "1    <2 * DateOffsets>\n",
       "dtype: object"
      ]
     },
     "execution_count": 54,
     "metadata": {},
     "output_type": "execute_result"
    }
   ],
   "source": [
    "pd.Series([pd.DateOffset(1), pd.DateOffset(2)])"
   ]
  },
  {
   "cell_type": "code",
   "execution_count": 55,
   "id": "d494e5b3",
   "metadata": {},
   "outputs": [
    {
     "data": {
      "text/plain": [
       "0   2011-01-31\n",
       "1   2011-02-28\n",
       "2   2011-03-31\n",
       "dtype: datetime64[ns]"
      ]
     },
     "execution_count": 55,
     "metadata": {},
     "output_type": "execute_result"
    }
   ],
   "source": [
    "pd.Series(pd.date_range(\"1/1/2011\", freq=\"ME\", periods=3))"
   ]
  },
  {
   "cell_type": "markdown",
   "id": "4f7c8115",
   "metadata": {},
   "source": [
    "- Lastly, pandas represents null date times, time deltas, and time spans as NaT which is useful for representing missing or null date like values and behaves similar as np.nan does for float data."
   ]
  },
  {
   "cell_type": "code",
   "execution_count": 56,
   "id": "bf20ec3c",
   "metadata": {},
   "outputs": [
    {
     "data": {
      "text/plain": [
       "NaT"
      ]
     },
     "execution_count": 56,
     "metadata": {},
     "output_type": "execute_result"
    }
   ],
   "source": [
    "pd.Timestamp(pd.NaT)"
   ]
  },
  {
   "cell_type": "code",
   "execution_count": 57,
   "id": "3b661649",
   "metadata": {},
   "outputs": [
    {
     "data": {
      "text/plain": [
       "NaT"
      ]
     },
     "execution_count": 57,
     "metadata": {},
     "output_type": "execute_result"
    }
   ],
   "source": [
    "pd.Timedelta(pd.NaT)"
   ]
  },
  {
   "cell_type": "code",
   "execution_count": 58,
   "id": "ba7791f9",
   "metadata": {},
   "outputs": [
    {
     "data": {
      "text/plain": [
       "NaT"
      ]
     },
     "execution_count": 58,
     "metadata": {},
     "output_type": "execute_result"
    }
   ],
   "source": [
    "pd.Period(pd.NaT)"
   ]
  },
  {
   "cell_type": "code",
   "execution_count": 59,
   "id": "85e9d307",
   "metadata": {},
   "outputs": [
    {
     "data": {
      "text/plain": [
       "False"
      ]
     },
     "execution_count": 59,
     "metadata": {},
     "output_type": "execute_result"
    }
   ],
   "source": [
    "# Equality acts as np.nan would\n",
    "pd.NaT == pd.NaT"
   ]
  },
  {
   "cell_type": "markdown",
   "id": "6cbca355",
   "metadata": {},
   "source": [
    "#### Timestamps vs. time spans\n",
    "- Timestamped data is the most basic type of time series data that associates values with points in time. For pandas objects it means using the points in time."
   ]
  },
  {
   "cell_type": "code",
   "execution_count": 60,
   "id": "d19eb99d",
   "metadata": {},
   "outputs": [
    {
     "data": {
      "text/plain": [
       "Timestamp('2012-05-01 00:00:00')"
      ]
     },
     "execution_count": 60,
     "metadata": {},
     "output_type": "execute_result"
    }
   ],
   "source": [
    "import datetime\n",
    "\n",
    "pd.Timestamp(datetime.datetime(2012, 5, 1))\n",
    "\n"
   ]
  },
  {
   "cell_type": "code",
   "execution_count": 61,
   "id": "5b5cf330",
   "metadata": {},
   "outputs": [
    {
     "data": {
      "text/plain": [
       "Timestamp('2012-05-01 00:00:00')"
      ]
     },
     "execution_count": 61,
     "metadata": {},
     "output_type": "execute_result"
    }
   ],
   "source": [
    "pd.Timestamp(\"2012-05-01\")"
   ]
  },
  {
   "cell_type": "code",
   "execution_count": 62,
   "id": "123eade9",
   "metadata": {},
   "outputs": [
    {
     "data": {
      "text/plain": [
       "Timestamp('2012-05-01 00:00:00')"
      ]
     },
     "execution_count": 62,
     "metadata": {},
     "output_type": "execute_result"
    }
   ],
   "source": [
    "pd.Timestamp(2012, 5, 1)"
   ]
  },
  {
   "cell_type": "markdown",
   "id": "563c2164",
   "metadata": {},
   "source": [
    "- However, in many cases it is more natural to associate things like change variables with a time span instead. The span represented by Period can be specified explicitly, or inferred from datetime string format.\n",
    "\n",
    "- For example:"
   ]
  },
  {
   "cell_type": "code",
   "execution_count": 63,
   "id": "781ef4e6",
   "metadata": {},
   "outputs": [
    {
     "data": {
      "text/plain": [
       "Period('2011-01', 'M')"
      ]
     },
     "execution_count": 63,
     "metadata": {},
     "output_type": "execute_result"
    }
   ],
   "source": [
    "pd.Period(\"2011-01\")"
   ]
  },
  {
   "cell_type": "code",
   "execution_count": 64,
   "id": "a793dd7f",
   "metadata": {},
   "outputs": [
    {
     "data": {
      "text/plain": [
       "Period('2012-05-01', 'D')"
      ]
     },
     "execution_count": 64,
     "metadata": {},
     "output_type": "execute_result"
    }
   ],
   "source": [
    "pd.Period(\"2012-05\", freq=\"D\")"
   ]
  },
  {
   "cell_type": "markdown",
   "id": "674caf48",
   "metadata": {},
   "source": [
    "- Timestamp and Period can serve as an index. Lists of Timestamp and Period are automatically coerced to DatetimeIndex and PeriodIndex respectively."
   ]
  },
  {
   "cell_type": "code",
   "execution_count": 65,
   "id": "9c9389c4",
   "metadata": {},
   "outputs": [
    {
     "data": {
      "text/plain": [
       "pandas.core.indexes.datetimes.DatetimeIndex"
      ]
     },
     "execution_count": 65,
     "metadata": {},
     "output_type": "execute_result"
    }
   ],
   "source": [
    "dates = [\n",
    "    pd.Timestamp(\"2012-05-01\"),\n",
    "    pd.Timestamp(\"2012-05-02\"),\n",
    "    pd.Timestamp(\"2012-05-03\"),\n",
    "]\n",
    "\n",
    "ts = pd.Series(np.random.randn(3), dates)\n",
    "type(ts.index)\n"
   ]
  },
  {
   "cell_type": "code",
   "execution_count": 66,
   "id": "dbbc4ac9",
   "metadata": {},
   "outputs": [
    {
     "data": {
      "text/plain": [
       "DatetimeIndex(['2012-05-01', '2012-05-02', '2012-05-03'], dtype='datetime64[ns]', freq=None)"
      ]
     },
     "execution_count": 66,
     "metadata": {},
     "output_type": "execute_result"
    }
   ],
   "source": [
    "ts.index\n"
   ]
  },
  {
   "cell_type": "code",
   "execution_count": 67,
   "id": "a30f267a",
   "metadata": {},
   "outputs": [
    {
     "data": {
      "text/plain": [
       "2012-05-01   -1.374929\n",
       "2012-05-02    0.714788\n",
       "2012-05-03    0.503807\n",
       "dtype: float64"
      ]
     },
     "execution_count": 67,
     "metadata": {},
     "output_type": "execute_result"
    }
   ],
   "source": [
    "ts"
   ]
  },
  {
   "cell_type": "code",
   "execution_count": 68,
   "id": "3ebb9ebf",
   "metadata": {},
   "outputs": [
    {
     "data": {
      "text/plain": [
       "pandas.core.indexes.period.PeriodIndex"
      ]
     },
     "execution_count": 68,
     "metadata": {},
     "output_type": "execute_result"
    }
   ],
   "source": [
    "periods = [pd.Period(\"2012-01\"), pd.Period(\"2012-02\"), pd.Period(\"2012-03\")]\n",
    "\n",
    "ts = pd.Series(np.random.randn(3), periods)\n",
    "\n",
    "type(ts.index)"
   ]
  },
  {
   "cell_type": "code",
   "execution_count": 69,
   "id": "004e571f",
   "metadata": {},
   "outputs": [
    {
     "data": {
      "text/plain": [
       "PeriodIndex(['2012-01', '2012-02', '2012-03'], dtype='period[M]')"
      ]
     },
     "execution_count": 69,
     "metadata": {},
     "output_type": "execute_result"
    }
   ],
   "source": [
    "ts.index"
   ]
  },
  {
   "cell_type": "code",
   "execution_count": 70,
   "id": "3a1342f7",
   "metadata": {},
   "outputs": [
    {
     "data": {
      "text/plain": [
       "2012-01   -1.717055\n",
       "2012-02   -1.561730\n",
       "2012-03    0.307990\n",
       "Freq: M, dtype: float64"
      ]
     },
     "execution_count": 70,
     "metadata": {},
     "output_type": "execute_result"
    }
   ],
   "source": [
    "ts"
   ]
  },
  {
   "cell_type": "markdown",
   "id": "a710f36e",
   "metadata": {},
   "source": [
    "- pandas allows you to capture both representations and convert between them. Under the hood, pandas represents timestamps using instances of Timestamp and sequences of timestamps using instances of DatetimeIndex. For regular time spans, pandas uses Period objects for scalar values and PeriodIndex for sequences of spans. Better support for irregular intervals with arbitrary start and end points are forth-coming in future releases.\n",
    "\n",
    "#### Converting to timestamps\n",
    "- To convert a Series or list-like object of date-like objects e.g. strings, epochs, or a mixture, you can use the to_datetime function. When passed a Series, this returns a Series (with the same index), while a list-like is converted to a DatetimeIndex:"
   ]
  },
  {
   "cell_type": "code",
   "execution_count": 71,
   "id": "5ca3a1ee",
   "metadata": {},
   "outputs": [
    {
     "data": {
      "text/plain": [
       "0   2009-07-31\n",
       "1   2010-01-10\n",
       "2          NaT\n",
       "dtype: datetime64[ns]"
      ]
     },
     "execution_count": 71,
     "metadata": {},
     "output_type": "execute_result"
    }
   ],
   "source": [
    "pd.to_datetime(pd.Series([\"Jul 31, 2009\", \"Jan 10, 2010\", None]))"
   ]
  },
  {
   "cell_type": "code",
   "execution_count": 72,
   "id": "22631184",
   "metadata": {},
   "outputs": [
    {
     "data": {
      "text/plain": [
       "DatetimeIndex(['2005-11-23', '2010-12-31'], dtype='datetime64[ns]', freq=None)"
      ]
     },
     "execution_count": 72,
     "metadata": {},
     "output_type": "execute_result"
    }
   ],
   "source": [
    "pd.to_datetime([\"2005/11/23\", \"2010/12/31\"])"
   ]
  },
  {
   "cell_type": "markdown",
   "id": "ecb6d7fe",
   "metadata": {},
   "source": [
    "- If you use dates which start with the day first (i.e. European style), you can pass the dayfirst flag:"
   ]
  },
  {
   "cell_type": "code",
   "execution_count": 73,
   "id": "520e251f",
   "metadata": {},
   "outputs": [
    {
     "data": {
      "text/plain": [
       "DatetimeIndex(['2012-01-04 10:00:00'], dtype='datetime64[ns]', freq=None)"
      ]
     },
     "execution_count": 73,
     "metadata": {},
     "output_type": "execute_result"
    }
   ],
   "source": [
    "pd.to_datetime([\"04-01-2012 10:00\"], dayfirst=True)"
   ]
  },
  {
   "cell_type": "code",
   "execution_count": 74,
   "id": "79c341f9",
   "metadata": {},
   "outputs": [
    {
     "name": "stderr",
     "output_type": "stream",
     "text": [
      "C:\\Users\\thotc\\AppData\\Local\\Temp\\ipykernel_49048\\2353669186.py:1: UserWarning: Parsing dates in %m-%d-%Y %H:%M format when dayfirst=True was specified. Pass `dayfirst=False` or specify a format to silence this warning.\n",
      "  pd.to_datetime([\"04-14-2012 10:00\"], dayfirst=True)\n"
     ]
    },
    {
     "data": {
      "text/plain": [
       "DatetimeIndex(['2012-04-14 10:00:00'], dtype='datetime64[ns]', freq=None)"
      ]
     },
     "execution_count": 74,
     "metadata": {},
     "output_type": "execute_result"
    }
   ],
   "source": [
    "pd.to_datetime([\"04-14-2012 10:00\"], dayfirst=True)"
   ]
  },
  {
   "cell_type": "markdown",
   "id": "b92d63f8",
   "metadata": {},
   "source": [
    "- **Warning**: You see in the above example that dayfirst isn’t strict. If a date can’t be parsed with the day being first it will be parsed as if dayfirst were False and a warning will also be raised.\n",
    "\n",
    "- If you pass a single string to to_datetime, it returns a single Timestamp. Timestamp can also accept string input, but it doesn’t accept string parsing options like dayfirst or format, so use to_datetime if these are required."
   ]
  },
  {
   "cell_type": "code",
   "execution_count": 75,
   "id": "f0cfa1cd",
   "metadata": {},
   "outputs": [
    {
     "data": {
      "text/plain": [
       "Timestamp('2010-11-12 00:00:00')"
      ]
     },
     "execution_count": 75,
     "metadata": {},
     "output_type": "execute_result"
    }
   ],
   "source": [
    "pd.to_datetime(\"2010/11/12\")"
   ]
  },
  {
   "cell_type": "code",
   "execution_count": 76,
   "id": "05217c8b",
   "metadata": {},
   "outputs": [
    {
     "data": {
      "text/plain": [
       "Timestamp('2010-11-12 00:00:00')"
      ]
     },
     "execution_count": 76,
     "metadata": {},
     "output_type": "execute_result"
    }
   ],
   "source": [
    "pd.Timestamp(\"2010/11/12\")"
   ]
  },
  {
   "cell_type": "markdown",
   "id": "9ffc5a97",
   "metadata": {},
   "source": [
    "- You can also use the DatetimeIndex constructor directly:"
   ]
  },
  {
   "cell_type": "code",
   "execution_count": 77,
   "id": "faa7ab50",
   "metadata": {},
   "outputs": [
    {
     "data": {
      "text/plain": [
       "DatetimeIndex(['2018-01-01', '2018-01-03', '2018-01-05'], dtype='datetime64[ns]', freq=None)"
      ]
     },
     "execution_count": 77,
     "metadata": {},
     "output_type": "execute_result"
    }
   ],
   "source": [
    "pd.DatetimeIndex([\"2018-01-01\", \"2018-01-03\", \"2018-01-05\"])"
   ]
  },
  {
   "cell_type": "markdown",
   "id": "7a6f021d",
   "metadata": {},
   "source": [
    "- The string ‘infer’ can be passed in order to set the frequency of the index as the inferred frequency upon creation:"
   ]
  },
  {
   "cell_type": "code",
   "execution_count": 78,
   "id": "c430ddea",
   "metadata": {},
   "outputs": [
    {
     "data": {
      "text/plain": [
       "DatetimeIndex(['2018-01-01', '2018-01-03', '2018-01-05'], dtype='datetime64[ns]', freq='2D')"
      ]
     },
     "execution_count": 78,
     "metadata": {},
     "output_type": "execute_result"
    }
   ],
   "source": [
    "pd.DatetimeIndex([\"2018-01-01\", \"2018-01-03\", \"2018-01-05\"], freq=\"infer\")\n"
   ]
  },
  {
   "cell_type": "markdown",
   "id": "f5e22d12",
   "metadata": {},
   "source": [
    "#### Providing a format argument\n",
    "- In addition to the required datetime string, a format argument can be passed to ensure specific parsing. This could also potentially speed up the conversion considerably."
   ]
  },
  {
   "cell_type": "code",
   "execution_count": 79,
   "id": "d2058170",
   "metadata": {},
   "outputs": [
    {
     "data": {
      "text/plain": [
       "Timestamp('2010-11-12 00:00:00')"
      ]
     },
     "execution_count": 79,
     "metadata": {},
     "output_type": "execute_result"
    }
   ],
   "source": [
    "pd.to_datetime(\"2010/11/12\", format=\"%Y/%m/%d\")"
   ]
  },
  {
   "cell_type": "code",
   "execution_count": 80,
   "id": "b28c9b52",
   "metadata": {},
   "outputs": [
    {
     "data": {
      "text/plain": [
       "Timestamp('2010-11-12 00:00:00')"
      ]
     },
     "execution_count": 80,
     "metadata": {},
     "output_type": "execute_result"
    }
   ],
   "source": [
    "pd.to_datetime(\"12-11-2010 00:00\", format=\"%d-%m-%Y %H:%M\")"
   ]
  },
  {
   "cell_type": "markdown",
   "id": "13dd362d",
   "metadata": {},
   "source": [
    "#### Assembling datetime from multiple DataFrame columns\n",
    "- You can also pass a DataFrame of integer or string columns to assemble into a Series of Timestamps."
   ]
  },
  {
   "cell_type": "code",
   "execution_count": 81,
   "id": "111028c0",
   "metadata": {},
   "outputs": [
    {
     "data": {
      "text/plain": [
       "0   2015-02-04 02:00:00\n",
       "1   2016-03-05 03:00:00\n",
       "dtype: datetime64[ns]"
      ]
     },
     "execution_count": 81,
     "metadata": {},
     "output_type": "execute_result"
    }
   ],
   "source": [
    "df = pd.DataFrame(\n",
    "    {\"year\": [2015, 2016], \"month\": [2, 3], \"day\": [4, 5], \"hour\": [2, 3]}\n",
    ")\n",
    "pd.to_datetime(df)"
   ]
  },
  {
   "cell_type": "markdown",
   "id": "4b5d8091",
   "metadata": {},
   "source": [
    "- You can pass only the columns that you need to assemble."
   ]
  },
  {
   "cell_type": "code",
   "execution_count": 82,
   "id": "d33d9bbb",
   "metadata": {},
   "outputs": [
    {
     "data": {
      "text/plain": [
       "0   2015-02-04\n",
       "1   2016-03-05\n",
       "dtype: datetime64[ns]"
      ]
     },
     "execution_count": 82,
     "metadata": {},
     "output_type": "execute_result"
    }
   ],
   "source": [
    "pd.to_datetime(df[[\"year\", \"month\", \"day\"]])"
   ]
  },
  {
   "cell_type": "markdown",
   "id": "74a613e0",
   "metadata": {},
   "source": [
    "- pd.to_datetime looks for standard designations of the datetime component in the column names, including:\n",
    "    - required: year, month, day\n",
    "    - optional: hour, minute, second, millisecond, microsecond, nanosecond\n",
    "\n",
    "#### Invalid data\n",
    "- The default behavior, errors='raise', is to raise when unparsable:"
   ]
  },
  {
   "cell_type": "code",
   "execution_count": 83,
   "id": "67321ea2",
   "metadata": {},
   "outputs": [
    {
     "name": "stdout",
     "output_type": "stream",
     "text": [
      "time data \"asd\" doesn't match format \"%Y/%m/%d\", at position 1. You might want to try:\n",
      "    - passing `format` if your strings have a consistent format;\n",
      "    - passing `format='ISO8601'` if your strings are all ISO8601 but not necessarily in exactly the same format;\n",
      "    - passing `format='mixed'`, and the format will be inferred for each element individually. You might want to use `dayfirst` alongside this.\n"
     ]
    }
   ],
   "source": [
    "try:\n",
    "    pd.to_datetime(['2009/07/31', 'asd'], errors='raise')\n",
    "except ValueError as e:\n",
    "    print(e)"
   ]
  },
  {
   "cell_type": "markdown",
   "id": "184892b5",
   "metadata": {},
   "source": [
    "- Pass errors='coerce' to convert unparsable data to NaT (not a time):"
   ]
  },
  {
   "cell_type": "code",
   "execution_count": 84,
   "id": "f4b4ded3",
   "metadata": {},
   "outputs": [
    {
     "data": {
      "text/plain": [
       "DatetimeIndex(['2009-07-31', 'NaT'], dtype='datetime64[ns]', freq=None)"
      ]
     },
     "execution_count": 84,
     "metadata": {},
     "output_type": "execute_result"
    }
   ],
   "source": [
    "pd.to_datetime([\"2009/07/31\", \"asd\"], errors=\"coerce\")"
   ]
  },
  {
   "cell_type": "markdown",
   "id": "d7befae6",
   "metadata": {},
   "source": [
    "#### Epoch timestamps\n",
    "- pandas supports converting integer or float epoch times to Timestamp and DatetimeIndex. The default unit is nanoseconds, since that is how Timestamp objects are stored internally. However, epochs are often stored in another unit which can be specified. These are computed from the starting point specified by the origin parameter."
   ]
  },
  {
   "cell_type": "code",
   "execution_count": 85,
   "id": "f22552e7",
   "metadata": {},
   "outputs": [
    {
     "data": {
      "text/plain": [
       "DatetimeIndex(['2012-10-08 18:15:05', '2012-10-09 18:15:05',\n",
       "               '2012-10-10 18:15:05', '2012-10-11 18:15:05',\n",
       "               '2012-10-12 18:15:05'],\n",
       "              dtype='datetime64[ns]', freq=None)"
      ]
     },
     "execution_count": 85,
     "metadata": {},
     "output_type": "execute_result"
    }
   ],
   "source": [
    "pd.to_datetime(\n",
    "    [1349720105, 1349806505, 1349892905, 1349979305, 1350065705], unit=\"s\"\n",
    ")"
   ]
  },
  {
   "cell_type": "code",
   "execution_count": 86,
   "id": "ac4a0aa0",
   "metadata": {},
   "outputs": [
    {
     "data": {
      "text/plain": [
       "DatetimeIndex(['2012-10-08 18:15:05.100000', '2012-10-08 18:15:05.200000',\n",
       "               '2012-10-08 18:15:05.300000', '2012-10-08 18:15:05.400000',\n",
       "               '2012-10-08 18:15:05.500000'],\n",
       "              dtype='datetime64[ns]', freq=None)"
      ]
     },
     "execution_count": 86,
     "metadata": {},
     "output_type": "execute_result"
    }
   ],
   "source": [
    "pd.to_datetime(\n",
    "    [1349720105100, 1349720105200, 1349720105300, 1349720105400, 1349720105500],\n",
    "    unit=\"ms\",\n",
    ")"
   ]
  },
  {
   "cell_type": "markdown",
   "id": "0afc6184",
   "metadata": {},
   "source": [
    "- **Note**: The unit parameter does not use the same strings as the format parameter that was discussed above. The available units are listed on the documentation for pandas.to_datetime().\n",
    "\n",
    "- Constructing a Timestamp or DatetimeIndex with an epoch timestamp with the tz argument specified will raise a ValueError. If you have epochs in wall time in another timezone, you can read the epochs as timezone-naive timestamps and then localize to the appropriate timezone:"
   ]
  },
  {
   "cell_type": "code",
   "execution_count": 87,
   "id": "30e914a1",
   "metadata": {},
   "outputs": [
    {
     "data": {
      "text/plain": [
       "Timestamp('2010-01-01 12:00:00-0800', tz='US/Pacific')"
      ]
     },
     "execution_count": 87,
     "metadata": {},
     "output_type": "execute_result"
    }
   ],
   "source": [
    "pd.Timestamp(1262347200000000000).tz_localize(\"US/Pacific\")"
   ]
  },
  {
   "cell_type": "code",
   "execution_count": 88,
   "id": "7673c94e",
   "metadata": {},
   "outputs": [
    {
     "data": {
      "text/plain": [
       "DatetimeIndex(['2010-01-01 12:00:00-08:00'], dtype='datetime64[ns, US/Pacific]', freq=None)"
      ]
     },
     "execution_count": 88,
     "metadata": {},
     "output_type": "execute_result"
    }
   ],
   "source": [
    "pd.DatetimeIndex([1262347200000000000]).tz_localize(\"US/Pacific\")"
   ]
  },
  {
   "cell_type": "markdown",
   "id": "5eeac2d3",
   "metadata": {},
   "source": [
    "- **Note**: Epoch times will be rounded to the nearest nanosecond.\n",
    "- **Warning**: Conversion of float epoch times can lead to inaccurate and unexpected results. Python floats have about 15 digits precision in decimal. Rounding during conversion from float to high precision Timestamp is unavoidable. The only way to achieve exact precision is to use a fixed-width types (e.g. an int64)."
   ]
  },
  {
   "cell_type": "code",
   "execution_count": 89,
   "id": "1461a8ca",
   "metadata": {},
   "outputs": [
    {
     "data": {
      "text/plain": [
       "DatetimeIndex(['2017-03-22 15:16:45.433000088', '2017-03-22 15:16:45.433502913'], dtype='datetime64[ns]', freq=None)"
      ]
     },
     "execution_count": 89,
     "metadata": {},
     "output_type": "execute_result"
    }
   ],
   "source": [
    "pd.to_datetime([1490195805.433, 1490195805.433502912], unit=\"s\")\n"
   ]
  },
  {
   "cell_type": "code",
   "execution_count": 90,
   "id": "f21e4069",
   "metadata": {},
   "outputs": [
    {
     "data": {
      "text/plain": [
       "Timestamp('2017-03-22 15:16:45.433502912')"
      ]
     },
     "execution_count": 90,
     "metadata": {},
     "output_type": "execute_result"
    }
   ],
   "source": [
    "pd.to_datetime(1490195805433502912, unit=\"ns\")\n"
   ]
  },
  {
   "cell_type": "markdown",
   "id": "313437f9",
   "metadata": {},
   "source": [
    "#### From timestamps to epoch\n",
    "- To invert the operation from above, namely, to convert from a Timestamp to a ‘unix’ epoch:"
   ]
  },
  {
   "cell_type": "code",
   "execution_count": 91,
   "id": "8a02628b",
   "metadata": {},
   "outputs": [
    {
     "data": {
      "text/plain": [
       "DatetimeIndex(['2012-10-08 18:15:05', '2012-10-09 18:15:05',\n",
       "               '2012-10-10 18:15:05', '2012-10-11 18:15:05'],\n",
       "              dtype='datetime64[ns]', freq='D')"
      ]
     },
     "execution_count": 91,
     "metadata": {},
     "output_type": "execute_result"
    }
   ],
   "source": [
    "stamps = pd.date_range(\"2012-10-08 18:15:05\", periods=4, freq=\"D\")\n",
    "stamps"
   ]
  },
  {
   "cell_type": "markdown",
   "id": "e273942a",
   "metadata": {},
   "source": [
    "- We subtract the epoch (midnight at January 1, 1970 UTC) and then floor divide by the “unit” (1 second)."
   ]
  },
  {
   "cell_type": "code",
   "execution_count": 92,
   "id": "469c0bb3",
   "metadata": {},
   "outputs": [
    {
     "data": {
      "text/plain": [
       "Index([1349720105, 1349806505, 1349892905, 1349979305], dtype='int64')"
      ]
     },
     "execution_count": 92,
     "metadata": {},
     "output_type": "execute_result"
    }
   ],
   "source": [
    "(stamps - pd.Timestamp(\"1970-01-01\")) // pd.Timedelta(\"1s\")"
   ]
  },
  {
   "cell_type": "markdown",
   "id": "8c49bc6a",
   "metadata": {},
   "source": [
    "#### Using the origin parameter\n",
    "- Using the origin parameter, one can specify an alternative starting point for creation of a DatetimeIndex. For example, to use 1960-01-01 as the starting date:"
   ]
  },
  {
   "cell_type": "code",
   "execution_count": 93,
   "id": "fb73c151",
   "metadata": {},
   "outputs": [
    {
     "data": {
      "text/plain": [
       "DatetimeIndex(['1960-01-02', '1960-01-03', '1960-01-04'], dtype='datetime64[ns]', freq=None)"
      ]
     },
     "execution_count": 93,
     "metadata": {},
     "output_type": "execute_result"
    }
   ],
   "source": [
    "pd.to_datetime([1, 2, 3], unit=\"D\", origin=pd.Timestamp(\"1960-01-01\"))"
   ]
  },
  {
   "cell_type": "markdown",
   "id": "3498186e",
   "metadata": {},
   "source": [
    "- The default is set at origin='unix', which defaults to 1970-01-01 00:00:00. Commonly called ‘unix epoch’ or POSIX time."
   ]
  },
  {
   "cell_type": "code",
   "execution_count": 94,
   "id": "3332cc19",
   "metadata": {},
   "outputs": [
    {
     "data": {
      "text/plain": [
       "DatetimeIndex(['1970-01-02', '1970-01-03', '1970-01-04'], dtype='datetime64[ns]', freq=None)"
      ]
     },
     "execution_count": 94,
     "metadata": {},
     "output_type": "execute_result"
    }
   ],
   "source": [
    "pd.to_datetime([1, 2, 3], unit=\"D\")\n"
   ]
  },
  {
   "cell_type": "markdown",
   "id": "e8c4e6ac",
   "metadata": {},
   "source": [
    "#### Generating ranges of timestamps\n",
    "- To generate an index with timestamps, you can use either the DatetimeIndex or Index constructor and pass in a list of datetime objects:"
   ]
  },
  {
   "cell_type": "code",
   "execution_count": 95,
   "id": "bbdd9777",
   "metadata": {},
   "outputs": [
    {
     "data": {
      "text/plain": [
       "DatetimeIndex(['2012-05-01', '2012-05-02', '2012-05-03'], dtype='datetime64[ns]', freq=None)"
      ]
     },
     "execution_count": 95,
     "metadata": {},
     "output_type": "execute_result"
    }
   ],
   "source": [
    "dates = [\n",
    "    datetime.datetime(2012, 5, 1),\n",
    "    datetime.datetime(2012, 5, 2),\n",
    "    datetime.datetime(2012, 5, 3),\n",
    "]\n",
    "# Note the frequency information\n",
    "index = pd.DatetimeIndex(dates)\n",
    "index\n"
   ]
  },
  {
   "cell_type": "code",
   "execution_count": 96,
   "id": "92b824e1",
   "metadata": {},
   "outputs": [
    {
     "data": {
      "text/plain": [
       "DatetimeIndex(['2012-05-01', '2012-05-02', '2012-05-03'], dtype='datetime64[ns]', freq=None)"
      ]
     },
     "execution_count": 96,
     "metadata": {},
     "output_type": "execute_result"
    }
   ],
   "source": [
    "\n",
    "# Automatically converted to DatetimeIndex\n",
    "index = pd.Index(dates)\n",
    "index"
   ]
  },
  {
   "cell_type": "markdown",
   "id": "36554f8e",
   "metadata": {},
   "source": [
    "- In practice this becomes very cumbersome because we often need a very long index with a large number of timestamps. If we need timestamps on a regular frequency, we can use the date_range() and bdate_range() functions to create a DatetimeIndex. The default frequency for date_range is a calendar day while the default for bdate_range is a business day:\n"
   ]
  },
  {
   "cell_type": "code",
   "execution_count": 97,
   "id": "0484bb4a",
   "metadata": {},
   "outputs": [
    {
     "data": {
      "text/plain": [
       "DatetimeIndex(['2011-01-01', '2011-01-02', '2011-01-03', '2011-01-04',\n",
       "               '2011-01-05', '2011-01-06', '2011-01-07', '2011-01-08',\n",
       "               '2011-01-09', '2011-01-10',\n",
       "               ...\n",
       "               '2011-12-23', '2011-12-24', '2011-12-25', '2011-12-26',\n",
       "               '2011-12-27', '2011-12-28', '2011-12-29', '2011-12-30',\n",
       "               '2011-12-31', '2012-01-01'],\n",
       "              dtype='datetime64[ns]', length=366, freq='D')"
      ]
     },
     "execution_count": 97,
     "metadata": {},
     "output_type": "execute_result"
    }
   ],
   "source": [
    "start = datetime.datetime(2011, 1, 1)\n",
    "end = datetime.datetime(2012, 1, 1)\n",
    "index = pd.date_range(start, end)\n",
    "index"
   ]
  },
  {
   "cell_type": "code",
   "execution_count": 98,
   "id": "e747f57f",
   "metadata": {},
   "outputs": [
    {
     "data": {
      "text/plain": [
       "DatetimeIndex(['2011-01-03', '2011-01-04', '2011-01-05', '2011-01-06',\n",
       "               '2011-01-07', '2011-01-10', '2011-01-11', '2011-01-12',\n",
       "               '2011-01-13', '2011-01-14',\n",
       "               ...\n",
       "               '2011-12-19', '2011-12-20', '2011-12-21', '2011-12-22',\n",
       "               '2011-12-23', '2011-12-26', '2011-12-27', '2011-12-28',\n",
       "               '2011-12-29', '2011-12-30'],\n",
       "              dtype='datetime64[ns]', length=260, freq='B')"
      ]
     },
     "execution_count": 98,
     "metadata": {},
     "output_type": "execute_result"
    }
   ],
   "source": [
    "index = pd.bdate_range(start, end)\n",
    "index"
   ]
  },
  {
   "cell_type": "markdown",
   "id": "32fb8d45",
   "metadata": {},
   "source": [
    "- Convenience functions like date_range and bdate_range can utilize a variety of frequency aliases:"
   ]
  },
  {
   "cell_type": "code",
   "execution_count": 99,
   "id": "02182f76",
   "metadata": {},
   "outputs": [
    {
     "data": {
      "text/plain": [
       "DatetimeIndex(['2011-01-31', '2011-02-28', '2011-03-31', '2011-04-30',\n",
       "               '2011-05-31', '2011-06-30', '2011-07-31', '2011-08-31',\n",
       "               '2011-09-30', '2011-10-31',\n",
       "               ...\n",
       "               '2093-07-31', '2093-08-31', '2093-09-30', '2093-10-31',\n",
       "               '2093-11-30', '2093-12-31', '2094-01-31', '2094-02-28',\n",
       "               '2094-03-31', '2094-04-30'],\n",
       "              dtype='datetime64[ns]', length=1000, freq='ME')"
      ]
     },
     "execution_count": 99,
     "metadata": {},
     "output_type": "execute_result"
    }
   ],
   "source": [
    "pd.date_range(start, periods=1000, freq=\"ME\")"
   ]
  },
  {
   "cell_type": "code",
   "execution_count": 100,
   "id": "9b780ca2",
   "metadata": {},
   "outputs": [
    {
     "data": {
      "text/plain": [
       "DatetimeIndex(['2011-01-03', '2011-04-01', '2011-07-01', '2011-10-03',\n",
       "               '2012-01-02', '2012-04-02', '2012-07-02', '2012-10-01',\n",
       "               '2013-01-01', '2013-04-01',\n",
       "               ...\n",
       "               '2071-01-01', '2071-04-01', '2071-07-01', '2071-10-01',\n",
       "               '2072-01-01', '2072-04-01', '2072-07-01', '2072-10-03',\n",
       "               '2073-01-02', '2073-04-03'],\n",
       "              dtype='datetime64[ns]', length=250, freq='BQS-JAN')"
      ]
     },
     "execution_count": 100,
     "metadata": {},
     "output_type": "execute_result"
    }
   ],
   "source": [
    "pd.bdate_range(start, periods=250, freq=\"BQS\")"
   ]
  },
  {
   "cell_type": "markdown",
   "id": "04bc78ad",
   "metadata": {},
   "source": [
    "- date_range and bdate_range make it easy to generate a range of dates using various combinations of parameters like start, end, periods, and freq. The start and end dates are strictly inclusive, so dates outside of those specified will not be generated:"
   ]
  },
  {
   "cell_type": "code",
   "execution_count": 101,
   "id": "5139c3fb",
   "metadata": {},
   "outputs": [
    {
     "data": {
      "text/plain": [
       "DatetimeIndex(['2011-01-31', '2011-02-28', '2011-03-31', '2011-04-29',\n",
       "               '2011-05-31', '2011-06-30', '2011-07-29', '2011-08-31',\n",
       "               '2011-09-30', '2011-10-31', '2011-11-30', '2011-12-30'],\n",
       "              dtype='datetime64[ns]', freq='BME')"
      ]
     },
     "execution_count": 101,
     "metadata": {},
     "output_type": "execute_result"
    }
   ],
   "source": [
    "pd.date_range(start, end, freq=\"BME\")"
   ]
  },
  {
   "cell_type": "code",
   "execution_count": 102,
   "id": "99595d07",
   "metadata": {},
   "outputs": [
    {
     "data": {
      "text/plain": [
       "DatetimeIndex(['2011-01-02', '2011-01-09', '2011-01-16', '2011-01-23',\n",
       "               '2011-01-30', '2011-02-06', '2011-02-13', '2011-02-20',\n",
       "               '2011-02-27', '2011-03-06', '2011-03-13', '2011-03-20',\n",
       "               '2011-03-27', '2011-04-03', '2011-04-10', '2011-04-17',\n",
       "               '2011-04-24', '2011-05-01', '2011-05-08', '2011-05-15',\n",
       "               '2011-05-22', '2011-05-29', '2011-06-05', '2011-06-12',\n",
       "               '2011-06-19', '2011-06-26', '2011-07-03', '2011-07-10',\n",
       "               '2011-07-17', '2011-07-24', '2011-07-31', '2011-08-07',\n",
       "               '2011-08-14', '2011-08-21', '2011-08-28', '2011-09-04',\n",
       "               '2011-09-11', '2011-09-18', '2011-09-25', '2011-10-02',\n",
       "               '2011-10-09', '2011-10-16', '2011-10-23', '2011-10-30',\n",
       "               '2011-11-06', '2011-11-13', '2011-11-20', '2011-11-27',\n",
       "               '2011-12-04', '2011-12-11', '2011-12-18', '2011-12-25',\n",
       "               '2012-01-01'],\n",
       "              dtype='datetime64[ns]', freq='W-SUN')"
      ]
     },
     "execution_count": 102,
     "metadata": {},
     "output_type": "execute_result"
    }
   ],
   "source": [
    "pd.date_range(start, end, freq=\"W\")"
   ]
  },
  {
   "cell_type": "code",
   "execution_count": 103,
   "id": "54495bca",
   "metadata": {},
   "outputs": [
    {
     "data": {
      "text/plain": [
       "DatetimeIndex(['2011-12-05', '2011-12-06', '2011-12-07', '2011-12-08',\n",
       "               '2011-12-09', '2011-12-12', '2011-12-13', '2011-12-14',\n",
       "               '2011-12-15', '2011-12-16', '2011-12-19', '2011-12-20',\n",
       "               '2011-12-21', '2011-12-22', '2011-12-23', '2011-12-26',\n",
       "               '2011-12-27', '2011-12-28', '2011-12-29', '2011-12-30'],\n",
       "              dtype='datetime64[ns]', freq='B')"
      ]
     },
     "execution_count": 103,
     "metadata": {},
     "output_type": "execute_result"
    }
   ],
   "source": [
    "pd.bdate_range(end=end, periods=20)"
   ]
  },
  {
   "cell_type": "code",
   "execution_count": 104,
   "id": "3cb4bf18",
   "metadata": {},
   "outputs": [
    {
     "data": {
      "text/plain": [
       "DatetimeIndex(['2011-01-03', '2011-01-04', '2011-01-05', '2011-01-06',\n",
       "               '2011-01-07', '2011-01-10', '2011-01-11', '2011-01-12',\n",
       "               '2011-01-13', '2011-01-14', '2011-01-17', '2011-01-18',\n",
       "               '2011-01-19', '2011-01-20', '2011-01-21', '2011-01-24',\n",
       "               '2011-01-25', '2011-01-26', '2011-01-27', '2011-01-28'],\n",
       "              dtype='datetime64[ns]', freq='B')"
      ]
     },
     "execution_count": 104,
     "metadata": {},
     "output_type": "execute_result"
    }
   ],
   "source": [
    "pd.bdate_range(start=start, periods=20)"
   ]
  },
  {
   "cell_type": "markdown",
   "id": "817cbce7",
   "metadata": {},
   "source": [
    "- Specifying start, end, and periods will generate a range of evenly spaced dates from start to end inclusively, with periods number of elements in the resulting DatetimeIndex:"
   ]
  },
  {
   "cell_type": "code",
   "execution_count": 105,
   "id": "0c398dda",
   "metadata": {},
   "outputs": [
    {
     "data": {
      "text/plain": [
       "DatetimeIndex(['2018-01-01', '2018-01-02', '2018-01-03', '2018-01-04',\n",
       "               '2018-01-05'],\n",
       "              dtype='datetime64[ns]', freq=None)"
      ]
     },
     "execution_count": 105,
     "metadata": {},
     "output_type": "execute_result"
    }
   ],
   "source": [
    "pd.date_range(\"2018-01-01\", \"2018-01-05\", periods=5)"
   ]
  },
  {
   "cell_type": "code",
   "execution_count": 106,
   "id": "68d55c1f",
   "metadata": {},
   "outputs": [
    {
     "data": {
      "text/plain": [
       "DatetimeIndex(['2018-01-01 00:00:00', '2018-01-01 10:40:00',\n",
       "               '2018-01-01 21:20:00', '2018-01-02 08:00:00',\n",
       "               '2018-01-02 18:40:00', '2018-01-03 05:20:00',\n",
       "               '2018-01-03 16:00:00', '2018-01-04 02:40:00',\n",
       "               '2018-01-04 13:20:00', '2018-01-05 00:00:00'],\n",
       "              dtype='datetime64[ns]', freq=None)"
      ]
     },
     "execution_count": 106,
     "metadata": {},
     "output_type": "execute_result"
    }
   ],
   "source": [
    "pd.date_range(\"2018-01-01\", \"2018-01-05\", periods=10)"
   ]
  },
  {
   "cell_type": "markdown",
   "id": "45b10e15",
   "metadata": {},
   "source": [
    "#### Custom frequency ranges\n",
    "- bdate_range can also generate a range of custom frequency dates by using the weekmask and holidays parameters. These parameters will only be used if a custom frequency string is passed."
   ]
  },
  {
   "cell_type": "code",
   "execution_count": 107,
   "id": "b58c1565",
   "metadata": {},
   "outputs": [
    {
     "data": {
      "text/plain": [
       "DatetimeIndex(['2011-01-03', '2011-01-07', '2011-01-10', '2011-01-12',\n",
       "               '2011-01-14', '2011-01-17', '2011-01-19', '2011-01-21',\n",
       "               '2011-01-24', '2011-01-26',\n",
       "               ...\n",
       "               '2011-12-09', '2011-12-12', '2011-12-14', '2011-12-16',\n",
       "               '2011-12-19', '2011-12-21', '2011-12-23', '2011-12-26',\n",
       "               '2011-12-28', '2011-12-30'],\n",
       "              dtype='datetime64[ns]', length=154, freq='C')"
      ]
     },
     "execution_count": 107,
     "metadata": {},
     "output_type": "execute_result"
    }
   ],
   "source": [
    "weekmask = \"Mon Wed Fri\"\n",
    "holidays = [datetime.datetime(2011, 1, 5), datetime.datetime(2011, 3, 14)]\n",
    "pd.bdate_range(start, end, freq=\"C\", weekmask=weekmask, holidays=holidays)\n",
    "\n"
   ]
  },
  {
   "cell_type": "code",
   "execution_count": 108,
   "id": "d4d2d65a",
   "metadata": {},
   "outputs": [
    {
     "data": {
      "text/plain": [
       "DatetimeIndex(['2011-01-03', '2011-02-02', '2011-03-02', '2011-04-01',\n",
       "               '2011-05-02', '2011-06-01', '2011-07-01', '2011-08-01',\n",
       "               '2011-09-02', '2011-10-03', '2011-11-02', '2011-12-02'],\n",
       "              dtype='datetime64[ns]', freq='CBMS')"
      ]
     },
     "execution_count": 108,
     "metadata": {},
     "output_type": "execute_result"
    }
   ],
   "source": [
    "pd.bdate_range(start, end, freq=\"CBMS\", weekmask=weekmask)\n"
   ]
  },
  {
   "cell_type": "markdown",
   "id": "8dc04a74",
   "metadata": {},
   "source": [
    "#### Timestamp limitations\n",
    "- The limits of timestamp representation depend on the chosen resolution. For nanosecond resolution, the time span that can be represented using a 64-bit integer is limited to approximately 584 years:"
   ]
  },
  {
   "cell_type": "code",
   "execution_count": 109,
   "id": "67c6769b",
   "metadata": {},
   "outputs": [
    {
     "data": {
      "text/plain": [
       "Timestamp('1677-09-21 00:12:43.145224193')"
      ]
     },
     "execution_count": 109,
     "metadata": {},
     "output_type": "execute_result"
    }
   ],
   "source": [
    "pd.Timestamp.min"
   ]
  },
  {
   "cell_type": "code",
   "execution_count": 110,
   "id": "9435edb1",
   "metadata": {},
   "outputs": [
    {
     "data": {
      "text/plain": [
       "Timestamp('2262-04-11 23:47:16.854775807')"
      ]
     },
     "execution_count": 110,
     "metadata": {},
     "output_type": "execute_result"
    }
   ],
   "source": [
    "pd.Timestamp.max"
   ]
  },
  {
   "cell_type": "markdown",
   "id": "0d32cca6",
   "metadata": {},
   "source": [
    "- When choosing second-resolution, the available range grows to +/- 2.9e11 years. Different resolutions can be converted to each other through as_unit.\n",
    "\n",
    "#### Indexing\n",
    "- One of the main uses for DatetimeIndex is as an index for pandas objects. The DatetimeIndex class contains many time series related optimizations:\n",
    "    - A large range of dates for various offsets are pre-computed and cached under the hood in order to make generating subsequent date ranges very fast (just have to grab a slice).\n",
    "    - Fast shifting using the shift method on pandas objects.\n",
    "    - Unioning of overlapping DatetimeIndex objects with the same frequency is very fast (important for fast data alignment).\n",
    "    - Quick access to date fields via properties such as year, month, etc.\n",
    "    - Regularization functions like snap and very fast asof logic.\n",
    "\n",
    "- DatetimeIndex objects have all the basic functionality of regular Index objects, and a smorgasbord of advanced time series specific methods for easy frequency processing.\n",
    "\n",
    "- **Note**: While pandas does not force you to have a sorted date index, some of these methods may have unexpected or incorrect behavior if the dates are unsorted.\n",
    "- DatetimeIndex can be used like a regular index and offers all of its intelligent functionality like selection, slicing, etc."
   ]
  },
  {
   "cell_type": "code",
   "execution_count": 111,
   "id": "1b6a9b11",
   "metadata": {},
   "outputs": [
    {
     "data": {
      "text/plain": [
       "DatetimeIndex(['2011-01-31', '2011-02-28', '2011-03-31', '2011-04-29',\n",
       "               '2011-05-31', '2011-06-30', '2011-07-29', '2011-08-31',\n",
       "               '2011-09-30', '2011-10-31', '2011-11-30', '2011-12-30'],\n",
       "              dtype='datetime64[ns]', freq='BME')"
      ]
     },
     "execution_count": 111,
     "metadata": {},
     "output_type": "execute_result"
    }
   ],
   "source": [
    "rng = pd.date_range(start, end, freq=\"BME\")\n",
    "ts = pd.Series(np.random.randn(len(rng)), index=rng)\n",
    "ts.index"
   ]
  },
  {
   "cell_type": "code",
   "execution_count": 112,
   "id": "5c04d1d4",
   "metadata": {},
   "outputs": [
    {
     "data": {
      "text/plain": [
       "DatetimeIndex(['2011-01-31', '2011-02-28', '2011-03-31', '2011-04-29',\n",
       "               '2011-05-31'],\n",
       "              dtype='datetime64[ns]', freq='BME')"
      ]
     },
     "execution_count": 112,
     "metadata": {},
     "output_type": "execute_result"
    }
   ],
   "source": [
    "ts[:5].index"
   ]
  },
  {
   "cell_type": "code",
   "execution_count": 113,
   "id": "deb337f0",
   "metadata": {},
   "outputs": [
    {
     "data": {
      "text/plain": [
       "DatetimeIndex(['2011-01-31', '2011-03-31', '2011-05-31', '2011-07-29',\n",
       "               '2011-09-30', '2011-11-30'],\n",
       "              dtype='datetime64[ns]', freq='2BME')"
      ]
     },
     "execution_count": 113,
     "metadata": {},
     "output_type": "execute_result"
    }
   ],
   "source": [
    "ts[::2].index"
   ]
  },
  {
   "cell_type": "markdown",
   "id": "faa69344",
   "metadata": {},
   "source": [
    "#### Partial string indexing\n",
    "- Dates and strings that parse to timestamps can be passed as indexing parameters:"
   ]
  },
  {
   "cell_type": "code",
   "execution_count": 114,
   "id": "01b3c480",
   "metadata": {},
   "outputs": [
    {
     "data": {
      "text/plain": [
       "np.float64(-0.23876248159358382)"
      ]
     },
     "execution_count": 114,
     "metadata": {},
     "output_type": "execute_result"
    }
   ],
   "source": [
    "ts[\"1/31/2011\"]"
   ]
  },
  {
   "cell_type": "code",
   "execution_count": 115,
   "id": "531e1b65",
   "metadata": {},
   "outputs": [
    {
     "data": {
      "text/plain": [
       "2011-12-30   -1.161605\n",
       "Freq: BME, dtype: float64"
      ]
     },
     "execution_count": 115,
     "metadata": {},
     "output_type": "execute_result"
    }
   ],
   "source": [
    "ts[datetime.datetime(2011, 12, 25):]"
   ]
  },
  {
   "cell_type": "code",
   "execution_count": 116,
   "id": "3395d750",
   "metadata": {},
   "outputs": [
    {
     "data": {
      "text/plain": [
       "2011-10-31   -0.226832\n",
       "2011-11-30    1.827478\n",
       "2011-12-30   -1.161605\n",
       "Freq: BME, dtype: float64"
      ]
     },
     "execution_count": 116,
     "metadata": {},
     "output_type": "execute_result"
    }
   ],
   "source": [
    "ts[\"10/31/2011\":\"12/31/2011\"]"
   ]
  },
  {
   "cell_type": "markdown",
   "id": "0f6b3c94",
   "metadata": {},
   "source": [
    "- To provide convenience for accessing longer time series, you can also pass in the year or year and month as strings:"
   ]
  },
  {
   "cell_type": "code",
   "execution_count": 117,
   "id": "3a154d83",
   "metadata": {},
   "outputs": [
    {
     "data": {
      "text/plain": [
       "2011-01-31   -0.238762\n",
       "2011-02-28   -0.261816\n",
       "2011-03-31    0.100672\n",
       "2011-04-29    0.354914\n",
       "2011-05-31    1.787761\n",
       "2011-06-30    1.762841\n",
       "2011-07-29   -1.273535\n",
       "2011-08-31    1.840718\n",
       "2011-09-30    2.608156\n",
       "2011-10-31   -0.226832\n",
       "2011-11-30    1.827478\n",
       "2011-12-30   -1.161605\n",
       "Freq: BME, dtype: float64"
      ]
     },
     "execution_count": 117,
     "metadata": {},
     "output_type": "execute_result"
    }
   ],
   "source": [
    "ts[\"2011\"]"
   ]
  },
  {
   "cell_type": "code",
   "execution_count": 118,
   "id": "b78aec33",
   "metadata": {},
   "outputs": [
    {
     "data": {
      "text/plain": [
       "2011-06-30    1.762841\n",
       "Freq: BME, dtype: float64"
      ]
     },
     "execution_count": 118,
     "metadata": {},
     "output_type": "execute_result"
    }
   ],
   "source": [
    "ts[\"2011-6\"]"
   ]
  },
  {
   "cell_type": "markdown",
   "id": "92017047",
   "metadata": {},
   "source": [
    "- This type of slicing will work on a DataFrame with a DatetimeIndex as well. Since the partial string selection is a form of label slicing, the endpoints will be included. This would include matching times on an included date:\n",
    "- **Warning**: Indexing DataFrame rows with a single string with getitem (e.g. frame[dtstring]) is deprecated starting with pandas 1.2.0 (given the ambiguity whether it is indexing the rows or selecting a column) and will be removed in a future version. The equivalent with .loc (e.g. frame.loc[dtstring]) is still supported."
   ]
  },
  {
   "cell_type": "code",
   "execution_count": 119,
   "id": "ffe50c57",
   "metadata": {},
   "outputs": [
    {
     "data": {
      "text/html": [
       "<div>\n",
       "<style scoped>\n",
       "    .dataframe tbody tr th:only-of-type {\n",
       "        vertical-align: middle;\n",
       "    }\n",
       "\n",
       "    .dataframe tbody tr th {\n",
       "        vertical-align: top;\n",
       "    }\n",
       "\n",
       "    .dataframe thead th {\n",
       "        text-align: right;\n",
       "    }\n",
       "</style>\n",
       "<table border=\"1\" class=\"dataframe\">\n",
       "  <thead>\n",
       "    <tr style=\"text-align: right;\">\n",
       "      <th></th>\n",
       "      <th>A</th>\n",
       "    </tr>\n",
       "  </thead>\n",
       "  <tbody>\n",
       "    <tr>\n",
       "      <th>2013-01-01 00:00:00</th>\n",
       "      <td>0.396624</td>\n",
       "    </tr>\n",
       "    <tr>\n",
       "      <th>2013-01-01 00:01:00</th>\n",
       "      <td>-1.259759</td>\n",
       "    </tr>\n",
       "    <tr>\n",
       "      <th>2013-01-01 00:02:00</th>\n",
       "      <td>-0.512173</td>\n",
       "    </tr>\n",
       "    <tr>\n",
       "      <th>2013-01-01 00:03:00</th>\n",
       "      <td>-0.189025</td>\n",
       "    </tr>\n",
       "    <tr>\n",
       "      <th>2013-01-01 00:04:00</th>\n",
       "      <td>3.341915</td>\n",
       "    </tr>\n",
       "    <tr>\n",
       "      <th>...</th>\n",
       "      <td>...</td>\n",
       "    </tr>\n",
       "    <tr>\n",
       "      <th>2013-03-11 10:35:00</th>\n",
       "      <td>-1.484396</td>\n",
       "    </tr>\n",
       "    <tr>\n",
       "      <th>2013-03-11 10:36:00</th>\n",
       "      <td>1.126302</td>\n",
       "    </tr>\n",
       "    <tr>\n",
       "      <th>2013-03-11 10:37:00</th>\n",
       "      <td>-0.295338</td>\n",
       "    </tr>\n",
       "    <tr>\n",
       "      <th>2013-03-11 10:38:00</th>\n",
       "      <td>0.152058</td>\n",
       "    </tr>\n",
       "    <tr>\n",
       "      <th>2013-03-11 10:39:00</th>\n",
       "      <td>0.522729</td>\n",
       "    </tr>\n",
       "  </tbody>\n",
       "</table>\n",
       "<p>100000 rows × 1 columns</p>\n",
       "</div>"
      ],
      "text/plain": [
       "                            A\n",
       "2013-01-01 00:00:00  0.396624\n",
       "2013-01-01 00:01:00 -1.259759\n",
       "2013-01-01 00:02:00 -0.512173\n",
       "2013-01-01 00:03:00 -0.189025\n",
       "2013-01-01 00:04:00  3.341915\n",
       "...                       ...\n",
       "2013-03-11 10:35:00 -1.484396\n",
       "2013-03-11 10:36:00  1.126302\n",
       "2013-03-11 10:37:00 -0.295338\n",
       "2013-03-11 10:38:00  0.152058\n",
       "2013-03-11 10:39:00  0.522729\n",
       "\n",
       "[100000 rows x 1 columns]"
      ]
     },
     "execution_count": 119,
     "metadata": {},
     "output_type": "execute_result"
    }
   ],
   "source": [
    "dft = pd.DataFrame(\n",
    "    np.random.randn(100000, 1),\n",
    "    columns=[\"A\"],\n",
    "    index=pd.date_range(\"20130101\", periods=100000, freq=\"min\"),\n",
    ")\n",
    "dft"
   ]
  },
  {
   "cell_type": "code",
   "execution_count": 120,
   "id": "0bbaec1e",
   "metadata": {},
   "outputs": [
    {
     "data": {
      "text/html": [
       "<div>\n",
       "<style scoped>\n",
       "    .dataframe tbody tr th:only-of-type {\n",
       "        vertical-align: middle;\n",
       "    }\n",
       "\n",
       "    .dataframe tbody tr th {\n",
       "        vertical-align: top;\n",
       "    }\n",
       "\n",
       "    .dataframe thead th {\n",
       "        text-align: right;\n",
       "    }\n",
       "</style>\n",
       "<table border=\"1\" class=\"dataframe\">\n",
       "  <thead>\n",
       "    <tr style=\"text-align: right;\">\n",
       "      <th></th>\n",
       "      <th>A</th>\n",
       "    </tr>\n",
       "  </thead>\n",
       "  <tbody>\n",
       "    <tr>\n",
       "      <th>2013-01-01 00:00:00</th>\n",
       "      <td>0.396624</td>\n",
       "    </tr>\n",
       "    <tr>\n",
       "      <th>2013-01-01 00:01:00</th>\n",
       "      <td>-1.259759</td>\n",
       "    </tr>\n",
       "    <tr>\n",
       "      <th>2013-01-01 00:02:00</th>\n",
       "      <td>-0.512173</td>\n",
       "    </tr>\n",
       "    <tr>\n",
       "      <th>2013-01-01 00:03:00</th>\n",
       "      <td>-0.189025</td>\n",
       "    </tr>\n",
       "    <tr>\n",
       "      <th>2013-01-01 00:04:00</th>\n",
       "      <td>3.341915</td>\n",
       "    </tr>\n",
       "    <tr>\n",
       "      <th>...</th>\n",
       "      <td>...</td>\n",
       "    </tr>\n",
       "    <tr>\n",
       "      <th>2013-03-11 10:35:00</th>\n",
       "      <td>-1.484396</td>\n",
       "    </tr>\n",
       "    <tr>\n",
       "      <th>2013-03-11 10:36:00</th>\n",
       "      <td>1.126302</td>\n",
       "    </tr>\n",
       "    <tr>\n",
       "      <th>2013-03-11 10:37:00</th>\n",
       "      <td>-0.295338</td>\n",
       "    </tr>\n",
       "    <tr>\n",
       "      <th>2013-03-11 10:38:00</th>\n",
       "      <td>0.152058</td>\n",
       "    </tr>\n",
       "    <tr>\n",
       "      <th>2013-03-11 10:39:00</th>\n",
       "      <td>0.522729</td>\n",
       "    </tr>\n",
       "  </tbody>\n",
       "</table>\n",
       "<p>100000 rows × 1 columns</p>\n",
       "</div>"
      ],
      "text/plain": [
       "                            A\n",
       "2013-01-01 00:00:00  0.396624\n",
       "2013-01-01 00:01:00 -1.259759\n",
       "2013-01-01 00:02:00 -0.512173\n",
       "2013-01-01 00:03:00 -0.189025\n",
       "2013-01-01 00:04:00  3.341915\n",
       "...                       ...\n",
       "2013-03-11 10:35:00 -1.484396\n",
       "2013-03-11 10:36:00  1.126302\n",
       "2013-03-11 10:37:00 -0.295338\n",
       "2013-03-11 10:38:00  0.152058\n",
       "2013-03-11 10:39:00  0.522729\n",
       "\n",
       "[100000 rows x 1 columns]"
      ]
     },
     "execution_count": 120,
     "metadata": {},
     "output_type": "execute_result"
    }
   ],
   "source": [
    "dft.loc[\"2013\"]"
   ]
  },
  {
   "cell_type": "markdown",
   "id": "2f914644",
   "metadata": {},
   "source": [
    "- This starts on the very first time in the month, and includes the last date and time for the month:"
   ]
  },
  {
   "cell_type": "code",
   "execution_count": 121,
   "id": "bf775f5f",
   "metadata": {},
   "outputs": [
    {
     "data": {
      "text/html": [
       "<div>\n",
       "<style scoped>\n",
       "    .dataframe tbody tr th:only-of-type {\n",
       "        vertical-align: middle;\n",
       "    }\n",
       "\n",
       "    .dataframe tbody tr th {\n",
       "        vertical-align: top;\n",
       "    }\n",
       "\n",
       "    .dataframe thead th {\n",
       "        text-align: right;\n",
       "    }\n",
       "</style>\n",
       "<table border=\"1\" class=\"dataframe\">\n",
       "  <thead>\n",
       "    <tr style=\"text-align: right;\">\n",
       "      <th></th>\n",
       "      <th>A</th>\n",
       "    </tr>\n",
       "  </thead>\n",
       "  <tbody>\n",
       "    <tr>\n",
       "      <th>2013-01-01 00:00:00</th>\n",
       "      <td>0.396624</td>\n",
       "    </tr>\n",
       "    <tr>\n",
       "      <th>2013-01-01 00:01:00</th>\n",
       "      <td>-1.259759</td>\n",
       "    </tr>\n",
       "    <tr>\n",
       "      <th>2013-01-01 00:02:00</th>\n",
       "      <td>-0.512173</td>\n",
       "    </tr>\n",
       "    <tr>\n",
       "      <th>2013-01-01 00:03:00</th>\n",
       "      <td>-0.189025</td>\n",
       "    </tr>\n",
       "    <tr>\n",
       "      <th>2013-01-01 00:04:00</th>\n",
       "      <td>3.341915</td>\n",
       "    </tr>\n",
       "    <tr>\n",
       "      <th>...</th>\n",
       "      <td>...</td>\n",
       "    </tr>\n",
       "    <tr>\n",
       "      <th>2013-02-28 23:55:00</th>\n",
       "      <td>0.683056</td>\n",
       "    </tr>\n",
       "    <tr>\n",
       "      <th>2013-02-28 23:56:00</th>\n",
       "      <td>-1.330087</td>\n",
       "    </tr>\n",
       "    <tr>\n",
       "      <th>2013-02-28 23:57:00</th>\n",
       "      <td>-0.461849</td>\n",
       "    </tr>\n",
       "    <tr>\n",
       "      <th>2013-02-28 23:58:00</th>\n",
       "      <td>1.065314</td>\n",
       "    </tr>\n",
       "    <tr>\n",
       "      <th>2013-02-28 23:59:00</th>\n",
       "      <td>0.166071</td>\n",
       "    </tr>\n",
       "  </tbody>\n",
       "</table>\n",
       "<p>84960 rows × 1 columns</p>\n",
       "</div>"
      ],
      "text/plain": [
       "                            A\n",
       "2013-01-01 00:00:00  0.396624\n",
       "2013-01-01 00:01:00 -1.259759\n",
       "2013-01-01 00:02:00 -0.512173\n",
       "2013-01-01 00:03:00 -0.189025\n",
       "2013-01-01 00:04:00  3.341915\n",
       "...                       ...\n",
       "2013-02-28 23:55:00  0.683056\n",
       "2013-02-28 23:56:00 -1.330087\n",
       "2013-02-28 23:57:00 -0.461849\n",
       "2013-02-28 23:58:00  1.065314\n",
       "2013-02-28 23:59:00  0.166071\n",
       "\n",
       "[84960 rows x 1 columns]"
      ]
     },
     "execution_count": 121,
     "metadata": {},
     "output_type": "execute_result"
    }
   ],
   "source": [
    "dft[\"2013-1\":\"2013-2\"]"
   ]
  },
  {
   "cell_type": "markdown",
   "id": "4360b69c",
   "metadata": {},
   "source": [
    "- This specifies a stop time that includes all of the times on the last day:"
   ]
  },
  {
   "cell_type": "code",
   "execution_count": 122,
   "id": "a1436935",
   "metadata": {},
   "outputs": [
    {
     "data": {
      "text/html": [
       "<div>\n",
       "<style scoped>\n",
       "    .dataframe tbody tr th:only-of-type {\n",
       "        vertical-align: middle;\n",
       "    }\n",
       "\n",
       "    .dataframe tbody tr th {\n",
       "        vertical-align: top;\n",
       "    }\n",
       "\n",
       "    .dataframe thead th {\n",
       "        text-align: right;\n",
       "    }\n",
       "</style>\n",
       "<table border=\"1\" class=\"dataframe\">\n",
       "  <thead>\n",
       "    <tr style=\"text-align: right;\">\n",
       "      <th></th>\n",
       "      <th>A</th>\n",
       "    </tr>\n",
       "  </thead>\n",
       "  <tbody>\n",
       "    <tr>\n",
       "      <th>2013-01-01 00:00:00</th>\n",
       "      <td>0.396624</td>\n",
       "    </tr>\n",
       "    <tr>\n",
       "      <th>2013-01-01 00:01:00</th>\n",
       "      <td>-1.259759</td>\n",
       "    </tr>\n",
       "    <tr>\n",
       "      <th>2013-01-01 00:02:00</th>\n",
       "      <td>-0.512173</td>\n",
       "    </tr>\n",
       "    <tr>\n",
       "      <th>2013-01-01 00:03:00</th>\n",
       "      <td>-0.189025</td>\n",
       "    </tr>\n",
       "    <tr>\n",
       "      <th>2013-01-01 00:04:00</th>\n",
       "      <td>3.341915</td>\n",
       "    </tr>\n",
       "    <tr>\n",
       "      <th>...</th>\n",
       "      <td>...</td>\n",
       "    </tr>\n",
       "    <tr>\n",
       "      <th>2013-02-28 23:55:00</th>\n",
       "      <td>0.683056</td>\n",
       "    </tr>\n",
       "    <tr>\n",
       "      <th>2013-02-28 23:56:00</th>\n",
       "      <td>-1.330087</td>\n",
       "    </tr>\n",
       "    <tr>\n",
       "      <th>2013-02-28 23:57:00</th>\n",
       "      <td>-0.461849</td>\n",
       "    </tr>\n",
       "    <tr>\n",
       "      <th>2013-02-28 23:58:00</th>\n",
       "      <td>1.065314</td>\n",
       "    </tr>\n",
       "    <tr>\n",
       "      <th>2013-02-28 23:59:00</th>\n",
       "      <td>0.166071</td>\n",
       "    </tr>\n",
       "  </tbody>\n",
       "</table>\n",
       "<p>84960 rows × 1 columns</p>\n",
       "</div>"
      ],
      "text/plain": [
       "                            A\n",
       "2013-01-01 00:00:00  0.396624\n",
       "2013-01-01 00:01:00 -1.259759\n",
       "2013-01-01 00:02:00 -0.512173\n",
       "2013-01-01 00:03:00 -0.189025\n",
       "2013-01-01 00:04:00  3.341915\n",
       "...                       ...\n",
       "2013-02-28 23:55:00  0.683056\n",
       "2013-02-28 23:56:00 -1.330087\n",
       "2013-02-28 23:57:00 -0.461849\n",
       "2013-02-28 23:58:00  1.065314\n",
       "2013-02-28 23:59:00  0.166071\n",
       "\n",
       "[84960 rows x 1 columns]"
      ]
     },
     "execution_count": 122,
     "metadata": {},
     "output_type": "execute_result"
    }
   ],
   "source": [
    "dft[\"2013-1\":\"2013-2-28\"]"
   ]
  },
  {
   "cell_type": "markdown",
   "id": "ab77701a",
   "metadata": {},
   "source": [
    "- This specifies an exact stop time (and is not the same as the above):"
   ]
  },
  {
   "cell_type": "code",
   "execution_count": 123,
   "id": "70fff445",
   "metadata": {},
   "outputs": [
    {
     "data": {
      "text/html": [
       "<div>\n",
       "<style scoped>\n",
       "    .dataframe tbody tr th:only-of-type {\n",
       "        vertical-align: middle;\n",
       "    }\n",
       "\n",
       "    .dataframe tbody tr th {\n",
       "        vertical-align: top;\n",
       "    }\n",
       "\n",
       "    .dataframe thead th {\n",
       "        text-align: right;\n",
       "    }\n",
       "</style>\n",
       "<table border=\"1\" class=\"dataframe\">\n",
       "  <thead>\n",
       "    <tr style=\"text-align: right;\">\n",
       "      <th></th>\n",
       "      <th>A</th>\n",
       "    </tr>\n",
       "  </thead>\n",
       "  <tbody>\n",
       "    <tr>\n",
       "      <th>2013-01-01 00:00:00</th>\n",
       "      <td>0.396624</td>\n",
       "    </tr>\n",
       "    <tr>\n",
       "      <th>2013-01-01 00:01:00</th>\n",
       "      <td>-1.259759</td>\n",
       "    </tr>\n",
       "    <tr>\n",
       "      <th>2013-01-01 00:02:00</th>\n",
       "      <td>-0.512173</td>\n",
       "    </tr>\n",
       "    <tr>\n",
       "      <th>2013-01-01 00:03:00</th>\n",
       "      <td>-0.189025</td>\n",
       "    </tr>\n",
       "    <tr>\n",
       "      <th>2013-01-01 00:04:00</th>\n",
       "      <td>3.341915</td>\n",
       "    </tr>\n",
       "    <tr>\n",
       "      <th>...</th>\n",
       "      <td>...</td>\n",
       "    </tr>\n",
       "    <tr>\n",
       "      <th>2013-02-27 23:56:00</th>\n",
       "      <td>-0.787321</td>\n",
       "    </tr>\n",
       "    <tr>\n",
       "      <th>2013-02-27 23:57:00</th>\n",
       "      <td>1.484370</td>\n",
       "    </tr>\n",
       "    <tr>\n",
       "      <th>2013-02-27 23:58:00</th>\n",
       "      <td>0.460217</td>\n",
       "    </tr>\n",
       "    <tr>\n",
       "      <th>2013-02-27 23:59:00</th>\n",
       "      <td>0.679188</td>\n",
       "    </tr>\n",
       "    <tr>\n",
       "      <th>2013-02-28 00:00:00</th>\n",
       "      <td>1.791128</td>\n",
       "    </tr>\n",
       "  </tbody>\n",
       "</table>\n",
       "<p>83521 rows × 1 columns</p>\n",
       "</div>"
      ],
      "text/plain": [
       "                            A\n",
       "2013-01-01 00:00:00  0.396624\n",
       "2013-01-01 00:01:00 -1.259759\n",
       "2013-01-01 00:02:00 -0.512173\n",
       "2013-01-01 00:03:00 -0.189025\n",
       "2013-01-01 00:04:00  3.341915\n",
       "...                       ...\n",
       "2013-02-27 23:56:00 -0.787321\n",
       "2013-02-27 23:57:00  1.484370\n",
       "2013-02-27 23:58:00  0.460217\n",
       "2013-02-27 23:59:00  0.679188\n",
       "2013-02-28 00:00:00  1.791128\n",
       "\n",
       "[83521 rows x 1 columns]"
      ]
     },
     "execution_count": 123,
     "metadata": {},
     "output_type": "execute_result"
    }
   ],
   "source": [
    "dft[\"2013-1\":\"2013-2-28 00:00:00\"]"
   ]
  },
  {
   "cell_type": "markdown",
   "id": "a3609b0d",
   "metadata": {},
   "source": [
    "- We are stopping on the included end-point as it is part of the index:"
   ]
  },
  {
   "cell_type": "code",
   "execution_count": 124,
   "id": "bb9f87eb",
   "metadata": {},
   "outputs": [
    {
     "data": {
      "text/html": [
       "<div>\n",
       "<style scoped>\n",
       "    .dataframe tbody tr th:only-of-type {\n",
       "        vertical-align: middle;\n",
       "    }\n",
       "\n",
       "    .dataframe tbody tr th {\n",
       "        vertical-align: top;\n",
       "    }\n",
       "\n",
       "    .dataframe thead th {\n",
       "        text-align: right;\n",
       "    }\n",
       "</style>\n",
       "<table border=\"1\" class=\"dataframe\">\n",
       "  <thead>\n",
       "    <tr style=\"text-align: right;\">\n",
       "      <th></th>\n",
       "      <th>A</th>\n",
       "    </tr>\n",
       "  </thead>\n",
       "  <tbody>\n",
       "    <tr>\n",
       "      <th>2013-01-15 00:00:00</th>\n",
       "      <td>-1.005468</td>\n",
       "    </tr>\n",
       "    <tr>\n",
       "      <th>2013-01-15 00:01:00</th>\n",
       "      <td>0.187553</td>\n",
       "    </tr>\n",
       "    <tr>\n",
       "      <th>2013-01-15 00:02:00</th>\n",
       "      <td>-0.459082</td>\n",
       "    </tr>\n",
       "    <tr>\n",
       "      <th>2013-01-15 00:03:00</th>\n",
       "      <td>0.210014</td>\n",
       "    </tr>\n",
       "    <tr>\n",
       "      <th>2013-01-15 00:04:00</th>\n",
       "      <td>0.423664</td>\n",
       "    </tr>\n",
       "    <tr>\n",
       "      <th>...</th>\n",
       "      <td>...</td>\n",
       "    </tr>\n",
       "    <tr>\n",
       "      <th>2013-01-15 12:26:00</th>\n",
       "      <td>0.127786</td>\n",
       "    </tr>\n",
       "    <tr>\n",
       "      <th>2013-01-15 12:27:00</th>\n",
       "      <td>-1.407641</td>\n",
       "    </tr>\n",
       "    <tr>\n",
       "      <th>2013-01-15 12:28:00</th>\n",
       "      <td>-2.646477</td>\n",
       "    </tr>\n",
       "    <tr>\n",
       "      <th>2013-01-15 12:29:00</th>\n",
       "      <td>0.710905</td>\n",
       "    </tr>\n",
       "    <tr>\n",
       "      <th>2013-01-15 12:30:00</th>\n",
       "      <td>0.571864</td>\n",
       "    </tr>\n",
       "  </tbody>\n",
       "</table>\n",
       "<p>751 rows × 1 columns</p>\n",
       "</div>"
      ],
      "text/plain": [
       "                            A\n",
       "2013-01-15 00:00:00 -1.005468\n",
       "2013-01-15 00:01:00  0.187553\n",
       "2013-01-15 00:02:00 -0.459082\n",
       "2013-01-15 00:03:00  0.210014\n",
       "2013-01-15 00:04:00  0.423664\n",
       "...                       ...\n",
       "2013-01-15 12:26:00  0.127786\n",
       "2013-01-15 12:27:00 -1.407641\n",
       "2013-01-15 12:28:00 -2.646477\n",
       "2013-01-15 12:29:00  0.710905\n",
       "2013-01-15 12:30:00  0.571864\n",
       "\n",
       "[751 rows x 1 columns]"
      ]
     },
     "execution_count": 124,
     "metadata": {},
     "output_type": "execute_result"
    }
   ],
   "source": [
    "dft[\"2013-1-15\":\"2013-1-15 12:30:00\"]"
   ]
  },
  {
   "cell_type": "markdown",
   "id": "ece648b6",
   "metadata": {},
   "source": [
    "- DatetimeIndex partial string indexing also works on a DataFrame with a MultiIndex:"
   ]
  },
  {
   "cell_type": "code",
   "execution_count": 126,
   "id": "99ecc6a8",
   "metadata": {},
   "outputs": [
    {
     "data": {
      "text/html": [
       "<div>\n",
       "<style scoped>\n",
       "    .dataframe tbody tr th:only-of-type {\n",
       "        vertical-align: middle;\n",
       "    }\n",
       "\n",
       "    .dataframe tbody tr th {\n",
       "        vertical-align: top;\n",
       "    }\n",
       "\n",
       "    .dataframe thead th {\n",
       "        text-align: right;\n",
       "    }\n",
       "</style>\n",
       "<table border=\"1\" class=\"dataframe\">\n",
       "  <thead>\n",
       "    <tr style=\"text-align: right;\">\n",
       "      <th></th>\n",
       "      <th></th>\n",
       "      <th>A</th>\n",
       "    </tr>\n",
       "  </thead>\n",
       "  <tbody>\n",
       "    <tr>\n",
       "      <th rowspan=\"2\" valign=\"top\">2013-01-01 00:00:00</th>\n",
       "      <th>a</th>\n",
       "      <td>1.413401</td>\n",
       "    </tr>\n",
       "    <tr>\n",
       "      <th>b</th>\n",
       "      <td>1.255994</td>\n",
       "    </tr>\n",
       "    <tr>\n",
       "      <th rowspan=\"2\" valign=\"top\">2013-01-01 12:00:00</th>\n",
       "      <th>a</th>\n",
       "      <td>-0.772604</td>\n",
       "    </tr>\n",
       "    <tr>\n",
       "      <th>b</th>\n",
       "      <td>0.223255</td>\n",
       "    </tr>\n",
       "    <tr>\n",
       "      <th rowspan=\"2\" valign=\"top\">2013-01-02 00:00:00</th>\n",
       "      <th>a</th>\n",
       "      <td>0.600653</td>\n",
       "    </tr>\n",
       "    <tr>\n",
       "      <th>b</th>\n",
       "      <td>-0.260394</td>\n",
       "    </tr>\n",
       "    <tr>\n",
       "      <th rowspan=\"2\" valign=\"top\">2013-01-02 12:00:00</th>\n",
       "      <th>a</th>\n",
       "      <td>1.227651</td>\n",
       "    </tr>\n",
       "    <tr>\n",
       "      <th>b</th>\n",
       "      <td>0.128300</td>\n",
       "    </tr>\n",
       "    <tr>\n",
       "      <th rowspan=\"2\" valign=\"top\">2013-01-03 00:00:00</th>\n",
       "      <th>a</th>\n",
       "      <td>-0.372551</td>\n",
       "    </tr>\n",
       "    <tr>\n",
       "      <th>b</th>\n",
       "      <td>0.647517</td>\n",
       "    </tr>\n",
       "    <tr>\n",
       "      <th rowspan=\"2\" valign=\"top\">2013-01-03 12:00:00</th>\n",
       "      <th>a</th>\n",
       "      <td>-0.294958</td>\n",
       "    </tr>\n",
       "    <tr>\n",
       "      <th>b</th>\n",
       "      <td>0.282980</td>\n",
       "    </tr>\n",
       "    <tr>\n",
       "      <th rowspan=\"2\" valign=\"top\">2013-01-04 00:00:00</th>\n",
       "      <th>a</th>\n",
       "      <td>-0.204583</td>\n",
       "    </tr>\n",
       "    <tr>\n",
       "      <th>b</th>\n",
       "      <td>0.538820</td>\n",
       "    </tr>\n",
       "    <tr>\n",
       "      <th rowspan=\"2\" valign=\"top\">2013-01-04 12:00:00</th>\n",
       "      <th>a</th>\n",
       "      <td>-1.117346</td>\n",
       "    </tr>\n",
       "    <tr>\n",
       "      <th>b</th>\n",
       "      <td>-0.107478</td>\n",
       "    </tr>\n",
       "    <tr>\n",
       "      <th rowspan=\"2\" valign=\"top\">2013-01-05 00:00:00</th>\n",
       "      <th>a</th>\n",
       "      <td>-0.519826</td>\n",
       "    </tr>\n",
       "    <tr>\n",
       "      <th>b</th>\n",
       "      <td>-0.854881</td>\n",
       "    </tr>\n",
       "    <tr>\n",
       "      <th rowspan=\"2\" valign=\"top\">2013-01-05 12:00:00</th>\n",
       "      <th>a</th>\n",
       "      <td>-0.677986</td>\n",
       "    </tr>\n",
       "    <tr>\n",
       "      <th>b</th>\n",
       "      <td>3.273020</td>\n",
       "    </tr>\n",
       "  </tbody>\n",
       "</table>\n",
       "</div>"
      ],
      "text/plain": [
       "                              A\n",
       "2013-01-01 00:00:00 a  1.413401\n",
       "                    b  1.255994\n",
       "2013-01-01 12:00:00 a -0.772604\n",
       "                    b  0.223255\n",
       "2013-01-02 00:00:00 a  0.600653\n",
       "                    b -0.260394\n",
       "2013-01-02 12:00:00 a  1.227651\n",
       "                    b  0.128300\n",
       "2013-01-03 00:00:00 a -0.372551\n",
       "                    b  0.647517\n",
       "2013-01-03 12:00:00 a -0.294958\n",
       "                    b  0.282980\n",
       "2013-01-04 00:00:00 a -0.204583\n",
       "                    b  0.538820\n",
       "2013-01-04 12:00:00 a -1.117346\n",
       "                    b -0.107478\n",
       "2013-01-05 00:00:00 a -0.519826\n",
       "                    b -0.854881\n",
       "2013-01-05 12:00:00 a -0.677986\n",
       "                    b  3.273020"
      ]
     },
     "execution_count": 126,
     "metadata": {},
     "output_type": "execute_result"
    }
   ],
   "source": [
    "dft2 = pd.DataFrame(\n",
    "    np.random.randn(20, 1),\n",
    "    columns=[\"A\"],\n",
    "    index=pd.MultiIndex.from_product(\n",
    "        [pd.date_range(\"20130101\", periods=10, freq=\"12h\"), [\"a\", \"b\"]]\n",
    "    ),\n",
    ")\n",
    "\n",
    "dft2"
   ]
  },
  {
   "cell_type": "code",
   "execution_count": 127,
   "id": "7b4ab548",
   "metadata": {},
   "outputs": [
    {
     "data": {
      "text/html": [
       "<div>\n",
       "<style scoped>\n",
       "    .dataframe tbody tr th:only-of-type {\n",
       "        vertical-align: middle;\n",
       "    }\n",
       "\n",
       "    .dataframe tbody tr th {\n",
       "        vertical-align: top;\n",
       "    }\n",
       "\n",
       "    .dataframe thead th {\n",
       "        text-align: right;\n",
       "    }\n",
       "</style>\n",
       "<table border=\"1\" class=\"dataframe\">\n",
       "  <thead>\n",
       "    <tr style=\"text-align: right;\">\n",
       "      <th></th>\n",
       "      <th></th>\n",
       "      <th>A</th>\n",
       "    </tr>\n",
       "  </thead>\n",
       "  <tbody>\n",
       "    <tr>\n",
       "      <th rowspan=\"2\" valign=\"top\">2013-01-05 00:00:00</th>\n",
       "      <th>a</th>\n",
       "      <td>-0.519826</td>\n",
       "    </tr>\n",
       "    <tr>\n",
       "      <th>b</th>\n",
       "      <td>-0.854881</td>\n",
       "    </tr>\n",
       "    <tr>\n",
       "      <th rowspan=\"2\" valign=\"top\">2013-01-05 12:00:00</th>\n",
       "      <th>a</th>\n",
       "      <td>-0.677986</td>\n",
       "    </tr>\n",
       "    <tr>\n",
       "      <th>b</th>\n",
       "      <td>3.273020</td>\n",
       "    </tr>\n",
       "  </tbody>\n",
       "</table>\n",
       "</div>"
      ],
      "text/plain": [
       "                              A\n",
       "2013-01-05 00:00:00 a -0.519826\n",
       "                    b -0.854881\n",
       "2013-01-05 12:00:00 a -0.677986\n",
       "                    b  3.273020"
      ]
     },
     "execution_count": 127,
     "metadata": {},
     "output_type": "execute_result"
    }
   ],
   "source": [
    "dft2.loc[\"2013-01-05\"]"
   ]
  },
  {
   "cell_type": "code",
   "execution_count": 128,
   "id": "33b64b41",
   "metadata": {},
   "outputs": [
    {
     "data": {
      "text/html": [
       "<div>\n",
       "<style scoped>\n",
       "    .dataframe tbody tr th:only-of-type {\n",
       "        vertical-align: middle;\n",
       "    }\n",
       "\n",
       "    .dataframe tbody tr th {\n",
       "        vertical-align: top;\n",
       "    }\n",
       "\n",
       "    .dataframe thead th {\n",
       "        text-align: right;\n",
       "    }\n",
       "</style>\n",
       "<table border=\"1\" class=\"dataframe\">\n",
       "  <thead>\n",
       "    <tr style=\"text-align: right;\">\n",
       "      <th></th>\n",
       "      <th></th>\n",
       "      <th>A</th>\n",
       "    </tr>\n",
       "  </thead>\n",
       "  <tbody>\n",
       "    <tr>\n",
       "      <th rowspan=\"2\" valign=\"top\">a</th>\n",
       "      <th>2013-01-05 00:00:00</th>\n",
       "      <td>-0.519826</td>\n",
       "    </tr>\n",
       "    <tr>\n",
       "      <th>2013-01-05 12:00:00</th>\n",
       "      <td>-0.677986</td>\n",
       "    </tr>\n",
       "    <tr>\n",
       "      <th rowspan=\"2\" valign=\"top\">b</th>\n",
       "      <th>2013-01-05 00:00:00</th>\n",
       "      <td>-0.854881</td>\n",
       "    </tr>\n",
       "    <tr>\n",
       "      <th>2013-01-05 12:00:00</th>\n",
       "      <td>3.273020</td>\n",
       "    </tr>\n",
       "  </tbody>\n",
       "</table>\n",
       "</div>"
      ],
      "text/plain": [
       "                              A\n",
       "a 2013-01-05 00:00:00 -0.519826\n",
       "  2013-01-05 12:00:00 -0.677986\n",
       "b 2013-01-05 00:00:00 -0.854881\n",
       "  2013-01-05 12:00:00  3.273020"
      ]
     },
     "execution_count": 128,
     "metadata": {},
     "output_type": "execute_result"
    }
   ],
   "source": [
    "idx = pd.IndexSlice\n",
    "dft2 = dft2.swaplevel(0, 1).sort_index()\n",
    "dft2.loc[idx[:, \"2013-01-05\"], :]"
   ]
  },
  {
   "cell_type": "markdown",
   "id": "3424dacc",
   "metadata": {},
   "source": [
    "- Slicing with string indexing also honors UTC offset."
   ]
  },
  {
   "cell_type": "code",
   "execution_count": 129,
   "id": "54f7421d",
   "metadata": {},
   "outputs": [
    {
     "data": {
      "text/html": [
       "<div>\n",
       "<style scoped>\n",
       "    .dataframe tbody tr th:only-of-type {\n",
       "        vertical-align: middle;\n",
       "    }\n",
       "\n",
       "    .dataframe tbody tr th {\n",
       "        vertical-align: top;\n",
       "    }\n",
       "\n",
       "    .dataframe thead th {\n",
       "        text-align: right;\n",
       "    }\n",
       "</style>\n",
       "<table border=\"1\" class=\"dataframe\">\n",
       "  <thead>\n",
       "    <tr style=\"text-align: right;\">\n",
       "      <th></th>\n",
       "      <th>0</th>\n",
       "    </tr>\n",
       "  </thead>\n",
       "  <tbody>\n",
       "    <tr>\n",
       "      <th>2019-01-01 00:00:00-08:00</th>\n",
       "      <td>0</td>\n",
       "    </tr>\n",
       "  </tbody>\n",
       "</table>\n",
       "</div>"
      ],
      "text/plain": [
       "                           0\n",
       "2019-01-01 00:00:00-08:00  0"
      ]
     },
     "execution_count": 129,
     "metadata": {},
     "output_type": "execute_result"
    }
   ],
   "source": [
    "df = pd.DataFrame([0], index=pd.DatetimeIndex([\"2019-01-01\"], tz=\"US/Pacific\"))\n",
    "df"
   ]
  },
  {
   "cell_type": "code",
   "execution_count": 130,
   "id": "35dc9f67",
   "metadata": {},
   "outputs": [
    {
     "data": {
      "text/html": [
       "<div>\n",
       "<style scoped>\n",
       "    .dataframe tbody tr th:only-of-type {\n",
       "        vertical-align: middle;\n",
       "    }\n",
       "\n",
       "    .dataframe tbody tr th {\n",
       "        vertical-align: top;\n",
       "    }\n",
       "\n",
       "    .dataframe thead th {\n",
       "        text-align: right;\n",
       "    }\n",
       "</style>\n",
       "<table border=\"1\" class=\"dataframe\">\n",
       "  <thead>\n",
       "    <tr style=\"text-align: right;\">\n",
       "      <th></th>\n",
       "      <th>0</th>\n",
       "    </tr>\n",
       "  </thead>\n",
       "  <tbody>\n",
       "    <tr>\n",
       "      <th>2019-01-01 00:00:00-08:00</th>\n",
       "      <td>0</td>\n",
       "    </tr>\n",
       "  </tbody>\n",
       "</table>\n",
       "</div>"
      ],
      "text/plain": [
       "                           0\n",
       "2019-01-01 00:00:00-08:00  0"
      ]
     },
     "execution_count": 130,
     "metadata": {},
     "output_type": "execute_result"
    }
   ],
   "source": [
    "df[\"2019-01-01 12:00:00+04:00\":\"2019-01-01 13:00:00+04:00\"]"
   ]
  },
  {
   "cell_type": "markdown",
   "id": "18c3341f",
   "metadata": {},
   "source": [
    "#### Slice vs. exact match\n",
    "- The same string used as an indexing parameter can be treated either as a slice or as an exact match depending on the resolution of the index. If the string is less accurate than the index, it will be treated as a slice, otherwise as an exact match.\n",
    "\n",
    "- Consider a Series object with a minute resolution index:"
   ]
  },
  {
   "cell_type": "code",
   "execution_count": 131,
   "id": "7ecc8082",
   "metadata": {},
   "outputs": [
    {
     "data": {
      "text/plain": [
       "'minute'"
      ]
     },
     "execution_count": 131,
     "metadata": {},
     "output_type": "execute_result"
    }
   ],
   "source": [
    "series_minute = pd.Series(\n",
    "    [1, 2, 3],\n",
    "    pd.DatetimeIndex(\n",
    "        [\"2011-12-31 23:59:00\", \"2012-01-01 00:00:00\", \"2012-01-01 00:02:00\"]\n",
    "    ),\n",
    ")\n",
    "series_minute.index.resolution"
   ]
  },
  {
   "cell_type": "markdown",
   "id": "35836872",
   "metadata": {},
   "source": [
    "- A timestamp string less accurate than a minute gives a Series object."
   ]
  },
  {
   "cell_type": "code",
   "execution_count": 132,
   "id": "ce8bcbd8",
   "metadata": {},
   "outputs": [
    {
     "data": {
      "text/plain": [
       "2011-12-31 23:59:00    1\n",
       "dtype: int64"
      ]
     },
     "execution_count": 132,
     "metadata": {},
     "output_type": "execute_result"
    }
   ],
   "source": [
    "series_minute[\"2011-12-31 23\"]"
   ]
  },
  {
   "cell_type": "markdown",
   "id": "285562da",
   "metadata": {},
   "source": [
    "- A timestamp string with minute resolution (or more accurate), gives a scalar instead, i.e. it is not casted to a slice."
   ]
  },
  {
   "cell_type": "code",
   "execution_count": 133,
   "id": "89484b9b",
   "metadata": {},
   "outputs": [
    {
     "data": {
      "text/plain": [
       "np.int64(1)"
      ]
     },
     "execution_count": 133,
     "metadata": {},
     "output_type": "execute_result"
    }
   ],
   "source": [
    "series_minute[\"2011-12-31 23:59\"]"
   ]
  },
  {
   "cell_type": "code",
   "execution_count": 134,
   "id": "da8e2d36",
   "metadata": {},
   "outputs": [
    {
     "data": {
      "text/plain": [
       "np.int64(1)"
      ]
     },
     "execution_count": 134,
     "metadata": {},
     "output_type": "execute_result"
    }
   ],
   "source": [
    "series_minute[\"2011-12-31 23:59:00\"]"
   ]
  },
  {
   "cell_type": "markdown",
   "id": "167c6fbc",
   "metadata": {},
   "source": [
    "- If index resolution is second, then the minute-accurate timestamp gives a Series."
   ]
  },
  {
   "cell_type": "code",
   "execution_count": 135,
   "id": "c4c9ec4c",
   "metadata": {},
   "outputs": [
    {
     "data": {
      "text/plain": [
       "'second'"
      ]
     },
     "execution_count": 135,
     "metadata": {},
     "output_type": "execute_result"
    }
   ],
   "source": [
    "series_second = pd.Series(\n",
    "    [1, 2, 3],\n",
    "    pd.DatetimeIndex(\n",
    "        [\"2011-12-31 23:59:59\", \"2012-01-01 00:00:00\", \"2012-01-01 00:00:01\"]\n",
    "    ),\n",
    ")\n",
    "series_second.index.resolution"
   ]
  },
  {
   "cell_type": "code",
   "execution_count": 136,
   "id": "7f4a69d3",
   "metadata": {},
   "outputs": [
    {
     "data": {
      "text/plain": [
       "2011-12-31 23:59:59    1\n",
       "dtype: int64"
      ]
     },
     "execution_count": 136,
     "metadata": {},
     "output_type": "execute_result"
    }
   ],
   "source": [
    "series_second[\"2011-12-31 23:59\"]"
   ]
  },
  {
   "cell_type": "markdown",
   "id": "c2cdf252",
   "metadata": {},
   "source": [
    "- If the timestamp string is treated as a slice, it can be used to index DataFrame with .loc[] as well."
   ]
  },
  {
   "cell_type": "code",
   "execution_count": 137,
   "id": "7027bdef",
   "metadata": {},
   "outputs": [
    {
     "data": {
      "text/html": [
       "<div>\n",
       "<style scoped>\n",
       "    .dataframe tbody tr th:only-of-type {\n",
       "        vertical-align: middle;\n",
       "    }\n",
       "\n",
       "    .dataframe tbody tr th {\n",
       "        vertical-align: top;\n",
       "    }\n",
       "\n",
       "    .dataframe thead th {\n",
       "        text-align: right;\n",
       "    }\n",
       "</style>\n",
       "<table border=\"1\" class=\"dataframe\">\n",
       "  <thead>\n",
       "    <tr style=\"text-align: right;\">\n",
       "      <th></th>\n",
       "      <th>a</th>\n",
       "      <th>b</th>\n",
       "    </tr>\n",
       "  </thead>\n",
       "  <tbody>\n",
       "    <tr>\n",
       "      <th>2011-12-31 23:59:00</th>\n",
       "      <td>1</td>\n",
       "      <td>4</td>\n",
       "    </tr>\n",
       "  </tbody>\n",
       "</table>\n",
       "</div>"
      ],
      "text/plain": [
       "                     a  b\n",
       "2011-12-31 23:59:00  1  4"
      ]
     },
     "execution_count": 137,
     "metadata": {},
     "output_type": "execute_result"
    }
   ],
   "source": [
    "dft_minute = pd.DataFrame(\n",
    "    {\"a\": [1, 2, 3], \"b\": [4, 5, 6]}, index=series_minute.index\n",
    ")\n",
    "dft_minute.loc[\"2011-12-31 23\"]"
   ]
  },
  {
   "cell_type": "markdown",
   "id": "bc0f3f4a",
   "metadata": {},
   "source": [
    "- **Warning**: However, if the string is treated as an exact match, the selection in DataFrame’s [] will be column-wise and not row-wise, see Indexing Basics. For example dft_minute['2011-12-31 23:59'] will raise KeyError as '2012-12-31 23:59' has the same resolution as the index and there is no column with such name:\n",
    "\n",
    "- To always have unambiguous selection, whether the row is treated as a slice or a single selection, use .loc."
   ]
  },
  {
   "cell_type": "code",
   "execution_count": 138,
   "id": "18f98339",
   "metadata": {},
   "outputs": [
    {
     "data": {
      "text/plain": [
       "a    1\n",
       "b    4\n",
       "Name: 2011-12-31 23:59:00, dtype: int64"
      ]
     },
     "execution_count": 138,
     "metadata": {},
     "output_type": "execute_result"
    }
   ],
   "source": [
    "dft_minute.loc[\"2011-12-31 23:59\"]"
   ]
  },
  {
   "cell_type": "markdown",
   "id": "847e5d71",
   "metadata": {},
   "source": [
    "- **Note** also that DatetimeIndex resolution cannot be less precise than day."
   ]
  },
  {
   "cell_type": "code",
   "execution_count": 139,
   "id": "5500f689",
   "metadata": {},
   "outputs": [
    {
     "data": {
      "text/plain": [
       "'day'"
      ]
     },
     "execution_count": 139,
     "metadata": {},
     "output_type": "execute_result"
    }
   ],
   "source": [
    "series_monthly = pd.Series(\n",
    "    [1, 2, 3], pd.DatetimeIndex([\"2011-12\", \"2012-01\", \"2012-02\"])\n",
    ")\n",
    "series_monthly.index.resolution\n"
   ]
  },
  {
   "cell_type": "code",
   "execution_count": 140,
   "id": "f8dc2773",
   "metadata": {},
   "outputs": [
    {
     "data": {
      "text/plain": [
       "2011-12-01    1\n",
       "dtype: int64"
      ]
     },
     "execution_count": 140,
     "metadata": {},
     "output_type": "execute_result"
    }
   ],
   "source": [
    "series_monthly[\"2011-12\"]  # returns Series"
   ]
  },
  {
   "cell_type": "markdown",
   "id": "5afaee99",
   "metadata": {},
   "source": [
    "#### Exact indexing\n",
    "- As discussed in previous section, indexing a DatetimeIndex with a partial string depends on the “accuracy” of the period, in other words how specific the interval is in relation to the resolution of the index. In contrast, indexing with Timestamp or datetime objects is exact, because the objects have exact meaning. These also follow the semantics of including both endpoints.\n",
    "\n",
    "- These Timestamp and datetime objects have exact hours, minutes, and seconds, even though they were not explicitly specified (they are 0)."
   ]
  },
  {
   "cell_type": "code",
   "execution_count": 141,
   "id": "82942b18",
   "metadata": {},
   "outputs": [
    {
     "data": {
      "text/html": [
       "<div>\n",
       "<style scoped>\n",
       "    .dataframe tbody tr th:only-of-type {\n",
       "        vertical-align: middle;\n",
       "    }\n",
       "\n",
       "    .dataframe tbody tr th {\n",
       "        vertical-align: top;\n",
       "    }\n",
       "\n",
       "    .dataframe thead th {\n",
       "        text-align: right;\n",
       "    }\n",
       "</style>\n",
       "<table border=\"1\" class=\"dataframe\">\n",
       "  <thead>\n",
       "    <tr style=\"text-align: right;\">\n",
       "      <th></th>\n",
       "      <th>A</th>\n",
       "    </tr>\n",
       "  </thead>\n",
       "  <tbody>\n",
       "    <tr>\n",
       "      <th>2013-01-01 00:00:00</th>\n",
       "      <td>0.396624</td>\n",
       "    </tr>\n",
       "    <tr>\n",
       "      <th>2013-01-01 00:01:00</th>\n",
       "      <td>-1.259759</td>\n",
       "    </tr>\n",
       "    <tr>\n",
       "      <th>2013-01-01 00:02:00</th>\n",
       "      <td>-0.512173</td>\n",
       "    </tr>\n",
       "    <tr>\n",
       "      <th>2013-01-01 00:03:00</th>\n",
       "      <td>-0.189025</td>\n",
       "    </tr>\n",
       "    <tr>\n",
       "      <th>2013-01-01 00:04:00</th>\n",
       "      <td>3.341915</td>\n",
       "    </tr>\n",
       "    <tr>\n",
       "      <th>...</th>\n",
       "      <td>...</td>\n",
       "    </tr>\n",
       "    <tr>\n",
       "      <th>2013-02-27 23:56:00</th>\n",
       "      <td>-0.787321</td>\n",
       "    </tr>\n",
       "    <tr>\n",
       "      <th>2013-02-27 23:57:00</th>\n",
       "      <td>1.484370</td>\n",
       "    </tr>\n",
       "    <tr>\n",
       "      <th>2013-02-27 23:58:00</th>\n",
       "      <td>0.460217</td>\n",
       "    </tr>\n",
       "    <tr>\n",
       "      <th>2013-02-27 23:59:00</th>\n",
       "      <td>0.679188</td>\n",
       "    </tr>\n",
       "    <tr>\n",
       "      <th>2013-02-28 00:00:00</th>\n",
       "      <td>1.791128</td>\n",
       "    </tr>\n",
       "  </tbody>\n",
       "</table>\n",
       "<p>83521 rows × 1 columns</p>\n",
       "</div>"
      ],
      "text/plain": [
       "                            A\n",
       "2013-01-01 00:00:00  0.396624\n",
       "2013-01-01 00:01:00 -1.259759\n",
       "2013-01-01 00:02:00 -0.512173\n",
       "2013-01-01 00:03:00 -0.189025\n",
       "2013-01-01 00:04:00  3.341915\n",
       "...                       ...\n",
       "2013-02-27 23:56:00 -0.787321\n",
       "2013-02-27 23:57:00  1.484370\n",
       "2013-02-27 23:58:00  0.460217\n",
       "2013-02-27 23:59:00  0.679188\n",
       "2013-02-28 00:00:00  1.791128\n",
       "\n",
       "[83521 rows x 1 columns]"
      ]
     },
     "execution_count": 141,
     "metadata": {},
     "output_type": "execute_result"
    }
   ],
   "source": [
    "dft[datetime.datetime(2013, 1, 1): datetime.datetime(2013, 2, 28)]"
   ]
  },
  {
   "cell_type": "markdown",
   "id": "b000e139",
   "metadata": {},
   "source": [
    "- With no defaults."
   ]
  },
  {
   "cell_type": "code",
   "execution_count": 142,
   "id": "423ef5fb",
   "metadata": {},
   "outputs": [
    {
     "data": {
      "text/html": [
       "<div>\n",
       "<style scoped>\n",
       "    .dataframe tbody tr th:only-of-type {\n",
       "        vertical-align: middle;\n",
       "    }\n",
       "\n",
       "    .dataframe tbody tr th {\n",
       "        vertical-align: top;\n",
       "    }\n",
       "\n",
       "    .dataframe thead th {\n",
       "        text-align: right;\n",
       "    }\n",
       "</style>\n",
       "<table border=\"1\" class=\"dataframe\">\n",
       "  <thead>\n",
       "    <tr style=\"text-align: right;\">\n",
       "      <th></th>\n",
       "      <th>A</th>\n",
       "    </tr>\n",
       "  </thead>\n",
       "  <tbody>\n",
       "    <tr>\n",
       "      <th>2013-01-01 10:12:00</th>\n",
       "      <td>0.798171</td>\n",
       "    </tr>\n",
       "    <tr>\n",
       "      <th>2013-01-01 10:13:00</th>\n",
       "      <td>-0.198203</td>\n",
       "    </tr>\n",
       "    <tr>\n",
       "      <th>2013-01-01 10:14:00</th>\n",
       "      <td>-0.294018</td>\n",
       "    </tr>\n",
       "    <tr>\n",
       "      <th>2013-01-01 10:15:00</th>\n",
       "      <td>-0.512489</td>\n",
       "    </tr>\n",
       "    <tr>\n",
       "      <th>2013-01-01 10:16:00</th>\n",
       "      <td>-0.870823</td>\n",
       "    </tr>\n",
       "    <tr>\n",
       "      <th>...</th>\n",
       "      <td>...</td>\n",
       "    </tr>\n",
       "    <tr>\n",
       "      <th>2013-02-28 10:08:00</th>\n",
       "      <td>-0.477992</td>\n",
       "    </tr>\n",
       "    <tr>\n",
       "      <th>2013-02-28 10:09:00</th>\n",
       "      <td>1.033900</td>\n",
       "    </tr>\n",
       "    <tr>\n",
       "      <th>2013-02-28 10:10:00</th>\n",
       "      <td>0.944742</td>\n",
       "    </tr>\n",
       "    <tr>\n",
       "      <th>2013-02-28 10:11:00</th>\n",
       "      <td>-1.110249</td>\n",
       "    </tr>\n",
       "    <tr>\n",
       "      <th>2013-02-28 10:12:00</th>\n",
       "      <td>0.299595</td>\n",
       "    </tr>\n",
       "  </tbody>\n",
       "</table>\n",
       "<p>83521 rows × 1 columns</p>\n",
       "</div>"
      ],
      "text/plain": [
       "                            A\n",
       "2013-01-01 10:12:00  0.798171\n",
       "2013-01-01 10:13:00 -0.198203\n",
       "2013-01-01 10:14:00 -0.294018\n",
       "2013-01-01 10:15:00 -0.512489\n",
       "2013-01-01 10:16:00 -0.870823\n",
       "...                       ...\n",
       "2013-02-28 10:08:00 -0.477992\n",
       "2013-02-28 10:09:00  1.033900\n",
       "2013-02-28 10:10:00  0.944742\n",
       "2013-02-28 10:11:00 -1.110249\n",
       "2013-02-28 10:12:00  0.299595\n",
       "\n",
       "[83521 rows x 1 columns]"
      ]
     },
     "execution_count": 142,
     "metadata": {},
     "output_type": "execute_result"
    }
   ],
   "source": [
    "dft[\n",
    "    datetime.datetime(2013, 1, 1, 10, 12, 0): datetime.datetime(\n",
    "        2013, 2, 28, 10, 12, 0\n",
    "    )\n",
    "]"
   ]
  },
  {
   "cell_type": "markdown",
   "id": "772fbc28",
   "metadata": {},
   "source": [
    "#### Truncating & fancy indexing\n",
    "- A truncate() convenience function is provided that is similar to slicing. Note that truncate assumes a 0 value for any unspecified date component in a DatetimeIndex in contrast to slicing which returns any partially matching dates:"
   ]
  },
  {
   "cell_type": "code",
   "execution_count": 143,
   "id": "87a62476",
   "metadata": {},
   "outputs": [
    {
     "data": {
      "text/plain": [
       "2011-11-06    0.510362\n",
       "2011-11-13    0.177046\n",
       "2011-11-20    1.071384\n",
       "2011-11-27   -1.679727\n",
       "Freq: W-SUN, dtype: float64"
      ]
     },
     "execution_count": 143,
     "metadata": {},
     "output_type": "execute_result"
    }
   ],
   "source": [
    "rng2 = pd.date_range(\"2011-01-01\", \"2012-01-01\", freq=\"W\")\n",
    "ts2 = pd.Series(np.random.randn(len(rng2)), index=rng2)\n",
    "ts2.truncate(before=\"2011-11\", after=\"2011-12\")"
   ]
  },
  {
   "cell_type": "code",
   "execution_count": 144,
   "id": "d2a40d86",
   "metadata": {},
   "outputs": [
    {
     "data": {
      "text/plain": [
       "2011-11-06    0.510362\n",
       "2011-11-13    0.177046\n",
       "2011-11-20    1.071384\n",
       "2011-11-27   -1.679727\n",
       "2011-12-04    0.114637\n",
       "2011-12-11    0.327276\n",
       "2011-12-18   -0.187411\n",
       "2011-12-25    0.515678\n",
       "Freq: W-SUN, dtype: float64"
      ]
     },
     "execution_count": 144,
     "metadata": {},
     "output_type": "execute_result"
    }
   ],
   "source": [
    "ts2[\"2011-11\":\"2011-12\"]"
   ]
  },
  {
   "cell_type": "markdown",
   "id": "61180f9e",
   "metadata": {},
   "source": [
    "- Even complicated fancy indexing that breaks the DatetimeIndex frequency regularity will result in a DatetimeIndex, although frequency is lost:"
   ]
  },
  {
   "cell_type": "code",
   "execution_count": 145,
   "id": "16b65e29",
   "metadata": {},
   "outputs": [
    {
     "data": {
      "text/plain": [
       "DatetimeIndex(['2011-01-02', '2011-01-16', '2011-02-13'], dtype='datetime64[ns]', freq=None)"
      ]
     },
     "execution_count": 145,
     "metadata": {},
     "output_type": "execute_result"
    }
   ],
   "source": [
    "ts2.iloc[[0, 2, 6]].index"
   ]
  },
  {
   "cell_type": "markdown",
   "id": "c428de80",
   "metadata": {},
   "source": [
    "#### Time/date components\n",
    "- There are several time/date properties that one can access from Timestamp or a collection of timestamps like a DatetimeIndex.\n",
    "\n",
    "| Property | Description |\n",
    "| -------- | ---------- |\n",
    "| year | The year of the datetime |\n",
    "| month | The month of the datetime |\n",
    "| day | The days of the datetime |\n",
    "| hour | The hour of the datetime |\n",
    "| minute | The minutes of the datetime |\n",
    "| second | The seconds of the datetime |\n",
    "| microsecond | The microseconds of the datetime |\n",
    "| nanosecond | The nanoseconds of the datetime |\n",
    "| date | Returns datetime.date (does not contain timezone information) |\n",
    "| time | Returns datetime.time (does not contain timezone information) |\n",
    "| timetz | Returns datetime.time as local time with timezone information |\n",
    "| dayofyear | The ordinal day of year |\n",
    "| day_of_year | The ordinal day of year |\n",
    "| weekofyear | The week ordinal of the year |\n",
    "| week | The week ordinal of the year |\n",
    "| dayofweek | The number of the day of the week with Monday=0, Sunday=6 |\n",
    "| day_of_week | The number of the day of the week with Monday=0, Sunday=6 |\n",
    "| weekday | The number of the day of the week with Monday=0, Sunday=6 |\n",
    "| quarter | Quarter of the date: Jan-Mar = 1, Apr-Jun = 2, etc.|\n",
    "| days_in_month | The number of days in the month of the datetime |\n",
    "| is_month_start | Logical indicating if first day of month (defined by frequency) |\n",
    "| is_month_end | Logical indicating if last day of month (defined by frequency) |\n",
    "| is_quarter_start | Logical indicating if first day of quarter (defined by frequency) |\n",
    "| is_quarter_end | Logical indicating if last day of quarter (defined by frequency) |\n",
    "| is_year_start | Logical indicating if first day of year (defined by frequency) |\n",
    "| is_year_end | Logical indicating if last day of year (defined by frequency) |\n",
    "| is_leap_year | Logical indicating if the date belongs to a leap year |\n",
    "\n",
    "- Furthermore, if you have a Series with datetimelike values, then you can access these properties via the .dt accessor, as detailed in the section on .dt accessors.\n",
    "\n",
    "- You may obtain the year, week and day components of the ISO year from the ISO 8601 standard:"
   ]
  },
  {
   "cell_type": "code",
   "execution_count": 146,
   "id": "9a440548",
   "metadata": {},
   "outputs": [
    {
     "data": {
      "text/html": [
       "<div>\n",
       "<style scoped>\n",
       "    .dataframe tbody tr th:only-of-type {\n",
       "        vertical-align: middle;\n",
       "    }\n",
       "\n",
       "    .dataframe tbody tr th {\n",
       "        vertical-align: top;\n",
       "    }\n",
       "\n",
       "    .dataframe thead th {\n",
       "        text-align: right;\n",
       "    }\n",
       "</style>\n",
       "<table border=\"1\" class=\"dataframe\">\n",
       "  <thead>\n",
       "    <tr style=\"text-align: right;\">\n",
       "      <th></th>\n",
       "      <th>year</th>\n",
       "      <th>week</th>\n",
       "      <th>day</th>\n",
       "    </tr>\n",
       "  </thead>\n",
       "  <tbody>\n",
       "    <tr>\n",
       "      <th>2019-12-29</th>\n",
       "      <td>2019</td>\n",
       "      <td>52</td>\n",
       "      <td>7</td>\n",
       "    </tr>\n",
       "    <tr>\n",
       "      <th>2019-12-30</th>\n",
       "      <td>2020</td>\n",
       "      <td>1</td>\n",
       "      <td>1</td>\n",
       "    </tr>\n",
       "    <tr>\n",
       "      <th>2019-12-31</th>\n",
       "      <td>2020</td>\n",
       "      <td>1</td>\n",
       "      <td>2</td>\n",
       "    </tr>\n",
       "    <tr>\n",
       "      <th>2020-01-01</th>\n",
       "      <td>2020</td>\n",
       "      <td>1</td>\n",
       "      <td>3</td>\n",
       "    </tr>\n",
       "  </tbody>\n",
       "</table>\n",
       "</div>"
      ],
      "text/plain": [
       "            year  week  day\n",
       "2019-12-29  2019    52    7\n",
       "2019-12-30  2020     1    1\n",
       "2019-12-31  2020     1    2\n",
       "2020-01-01  2020     1    3"
      ]
     },
     "execution_count": 146,
     "metadata": {},
     "output_type": "execute_result"
    }
   ],
   "source": [
    "idx = pd.date_range(start=\"2019-12-29\", freq=\"D\", periods=4)\n",
    "idx.isocalendar()"
   ]
  },
  {
   "cell_type": "code",
   "execution_count": 147,
   "id": "b9dc2c26",
   "metadata": {},
   "outputs": [
    {
     "data": {
      "text/html": [
       "<div>\n",
       "<style scoped>\n",
       "    .dataframe tbody tr th:only-of-type {\n",
       "        vertical-align: middle;\n",
       "    }\n",
       "\n",
       "    .dataframe tbody tr th {\n",
       "        vertical-align: top;\n",
       "    }\n",
       "\n",
       "    .dataframe thead th {\n",
       "        text-align: right;\n",
       "    }\n",
       "</style>\n",
       "<table border=\"1\" class=\"dataframe\">\n",
       "  <thead>\n",
       "    <tr style=\"text-align: right;\">\n",
       "      <th></th>\n",
       "      <th>year</th>\n",
       "      <th>week</th>\n",
       "      <th>day</th>\n",
       "    </tr>\n",
       "  </thead>\n",
       "  <tbody>\n",
       "    <tr>\n",
       "      <th>2019-12-29</th>\n",
       "      <td>2019</td>\n",
       "      <td>52</td>\n",
       "      <td>7</td>\n",
       "    </tr>\n",
       "    <tr>\n",
       "      <th>2019-12-30</th>\n",
       "      <td>2020</td>\n",
       "      <td>1</td>\n",
       "      <td>1</td>\n",
       "    </tr>\n",
       "    <tr>\n",
       "      <th>2019-12-31</th>\n",
       "      <td>2020</td>\n",
       "      <td>1</td>\n",
       "      <td>2</td>\n",
       "    </tr>\n",
       "    <tr>\n",
       "      <th>2020-01-01</th>\n",
       "      <td>2020</td>\n",
       "      <td>1</td>\n",
       "      <td>3</td>\n",
       "    </tr>\n",
       "  </tbody>\n",
       "</table>\n",
       "</div>"
      ],
      "text/plain": [
       "            year  week  day\n",
       "2019-12-29  2019    52    7\n",
       "2019-12-30  2020     1    1\n",
       "2019-12-31  2020     1    2\n",
       "2020-01-01  2020     1    3"
      ]
     },
     "execution_count": 147,
     "metadata": {},
     "output_type": "execute_result"
    }
   ],
   "source": [
    "idx.to_series().dt.isocalendar()"
   ]
  },
  {
   "cell_type": "markdown",
   "id": "c10d9962",
   "metadata": {},
   "source": [
    "#### DateOffset objects\n",
    "- In the preceding examples, frequency strings (e.g. 'D') were used to specify a frequency that defined:\n",
    "    - how the date times in DatetimeIndex were spaced when using date_range()\n",
    "    - the frequency of a Period or PeriodIndex\n",
    "\n",
    "- These frequency strings map to a DateOffset object and its subclasses. A DateOffset is similar to a Timedelta that represents a duration of time but follows specific calendar duration rules. For example, a Timedelta day will always increment datetimes by 24 hours, while a DateOffset day will increment datetimes to the same time the next day whether a day represents 23, 24 or 25 hours due to daylight savings time. However, all DateOffset subclasses that are an hour or smaller (Hour, Minute, Second, Milli, Micro, Nano) behave like Timedelta and respect absolute time.\n",
    "\n",
    "- The basic DateOffset acts similar to dateutil.relativedelta (relativedelta documentation) that shifts a date time by the corresponding calendar duration specified. The arithmetic operator (+) can be used to perform the shift."
   ]
  },
  {
   "cell_type": "code",
   "execution_count": 149,
   "id": "4a93d541",
   "metadata": {},
   "outputs": [
    {
     "data": {
      "text/plain": [
       "Timestamp('2016-10-30 23:00:00+0200', tz='Europe/Helsinki')"
      ]
     },
     "execution_count": 149,
     "metadata": {},
     "output_type": "execute_result"
    }
   ],
   "source": [
    "# This particular day contains a day light savings time transition\n",
    "ts = pd.Timestamp(\"2016-10-30 00:00:00\", tz=\"Europe/Helsinki\")\n",
    "# Respects absolute time\n",
    "ts + pd.Timedelta(days=1)\n"
   ]
  },
  {
   "cell_type": "code",
   "execution_count": 150,
   "id": "5443f884",
   "metadata": {},
   "outputs": [
    {
     "data": {
      "text/plain": [
       "Timestamp('2016-10-31 00:00:00+0200', tz='Europe/Helsinki')"
      ]
     },
     "execution_count": 150,
     "metadata": {},
     "output_type": "execute_result"
    }
   ],
   "source": [
    "# Respects calendar time\n",
    "ts + pd.DateOffset(days=1)\n"
   ]
  },
  {
   "cell_type": "code",
   "execution_count": 151,
   "id": "babbb639",
   "metadata": {},
   "outputs": [
    {
     "data": {
      "text/plain": [
       "'Friday'"
      ]
     },
     "execution_count": 151,
     "metadata": {},
     "output_type": "execute_result"
    }
   ],
   "source": [
    "friday = pd.Timestamp(\"2018-01-05\")\n",
    "friday.day_name()"
   ]
  },
  {
   "cell_type": "code",
   "execution_count": 152,
   "id": "5b147416",
   "metadata": {},
   "outputs": [
    {
     "data": {
      "text/plain": [
       "Timestamp('2018-01-09 00:00:00')"
      ]
     },
     "execution_count": 152,
     "metadata": {},
     "output_type": "execute_result"
    }
   ],
   "source": [
    "# Add 2 business days (Friday --> Tuesday)\n",
    "two_business_days = 2 * pd.offsets.BDay()\n",
    "friday + two_business_days"
   ]
  },
  {
   "cell_type": "code",
   "execution_count": 153,
   "id": "3a33eab5",
   "metadata": {},
   "outputs": [
    {
     "data": {
      "text/plain": [
       "'Tuesday'"
      ]
     },
     "execution_count": 153,
     "metadata": {},
     "output_type": "execute_result"
    }
   ],
   "source": [
    "(friday + two_business_days).day_name()"
   ]
  },
  {
   "cell_type": "markdown",
   "id": "f42f0237",
   "metadata": {},
   "source": [
    "- Most DateOffsets have associated frequencies strings, or offset aliases, that can be passed into freq keyword arguments. The available date offsets and associated frequency strings can be found below:\n",
    "\n",
    "| Date Offset | Frequency String | Description |\n",
    "| ------ | ------ | ------ |\n",
    "| DateOffset | None | Generic offset class, defaults to absolute 24 hours |\n",
    "| BDay or BusinessDay | 'B' | business day (weekday) |\n",
    "| CDay or CustomBusinessDay | 'C' | custom business day |\n",
    "| Week | 'W' | one week, optionally anchored on a day of the week |\n",
    "| WeekOfMonth | 'WOM' | the x-th day of the y-th week of each month |\n",
    "| LastWeekOfMonth | 'LWOM' | the x-th day of the last week of each month |\n",
    "| MonthEnd | 'ME' | calendar month end |\n",
    "| MonthBegin | 'MS' |  calendar month begin |\n",
    "| BMonthEnd or BusinessMonthEnd | 'BME' | business month end |\n",
    "| BMonthBegin or BusinessMonthBegin | 'BMS' | business month begin |\n",
    "| CBMonthEnd or CustomBusinessMonthEnd | 'CBME' | custom business month end |\n",
    "| CBMonthBegin or CustomBusinessMonthBegin | 'CBMS' | custom business month begin |\n",
    "| SemiMonthEnd | 'SME' | 15th (or other day_of_month) and calendar month end |\n",
    "| SemiMonthBegin | 'SMS' | 15th (or other day_of_month) and calendar month begin |\n",
    "| QuarterEnd | 'QE' | calendar quarter end |\n",
    "| QuarterBegin | 'QS' | calendar quarter begin |\n",
    "| BQuarterEnd | 'BQE | business quarter end |\n",
    "| BQuarterBegin | 'BQS' | business quarter begin |\n",
    "| FY5253Quarter | 'REQ' | retail (aka 52-53 week) quarter |\n",
    "| YearEnd | 'YE' | calendar year end |\n",
    "| YearBegin | 'YS' or 'BYS' | calendar year begin |\n",
    "| BYearEnd | 'BYE' | business year end |\n",
    "| BYearBegin | 'BYS' | business year begin |\n",
    "| FY5253 | 'RE' | retail (aka 52-53 week) year |\n",
    "| Easter | None | Easter holiday |\n",
    "| BusinessHour | 'bh' | business hour |\n",
    "| CustomBusinessHour | 'cbh' | custom business hour |\n",
    "| Day | 'D' | one absolute day |\n",
    "| Hour | 'h' | one hour |\n",
    "| Minute | 'min' | one minute |\n",
    "| Second | 's' | one second |\n",
    "| Milli | 'ms' | one millisecond |\n",
    "| Micro | 'us' | one microsecond |\n",
    "| Nano | 'ns' | one nanosecond |\n",
    "\n",
    "- DateOffsets additionally have rollforward() and rollback() methods for moving a date forward or backward respectively to a valid offset date relative to the offset. For example, business offsets will roll dates that land on the weekends (Saturday and Sunday) forward to Monday since business offsets operate on the weekdays."
   ]
  },
  {
   "cell_type": "code",
   "execution_count": 154,
   "id": "d68f56d0",
   "metadata": {},
   "outputs": [
    {
     "data": {
      "text/plain": [
       "'Saturday'"
      ]
     },
     "execution_count": 154,
     "metadata": {},
     "output_type": "execute_result"
    }
   ],
   "source": [
    "ts = pd.Timestamp(\"2018-01-06 00:00:00\")\n",
    "ts.day_name()"
   ]
  },
  {
   "cell_type": "code",
   "execution_count": 155,
   "id": "02f91446",
   "metadata": {},
   "outputs": [
    {
     "data": {
      "text/plain": [
       "Timestamp('2018-01-08 09:00:00')"
      ]
     },
     "execution_count": 155,
     "metadata": {},
     "output_type": "execute_result"
    }
   ],
   "source": [
    "# BusinessHour's valid offset dates are Monday through Friday\n",
    "offset = pd.offsets.BusinessHour(start=\"09:00\")\n",
    "# Bring the date to the closest offset date (Monday)\n",
    "offset.rollforward(ts)"
   ]
  },
  {
   "cell_type": "code",
   "execution_count": 156,
   "id": "c7f41698",
   "metadata": {},
   "outputs": [
    {
     "data": {
      "text/plain": [
       "Timestamp('2018-01-08 10:00:00')"
      ]
     },
     "execution_count": 156,
     "metadata": {},
     "output_type": "execute_result"
    }
   ],
   "source": [
    "# Date is brought to the closest offset date first and then the hour is added\n",
    "ts + offset"
   ]
  },
  {
   "cell_type": "markdown",
   "id": "66369c35",
   "metadata": {},
   "source": [
    "- These operations preserve time (hour, minute, etc) information by default. To reset time to midnight, use normalize() before or after applying the operation (depending on whether you want the time information included in the operation)."
   ]
  },
  {
   "cell_type": "code",
   "execution_count": 157,
   "id": "9b29d1be",
   "metadata": {},
   "outputs": [
    {
     "data": {
      "text/plain": [
       "Timestamp('2014-01-02 09:00:00')"
      ]
     },
     "execution_count": 157,
     "metadata": {},
     "output_type": "execute_result"
    }
   ],
   "source": [
    "ts = pd.Timestamp(\"2014-01-01 09:00\")\n",
    "day = pd.offsets.Day()\n",
    "day + ts"
   ]
  },
  {
   "cell_type": "code",
   "execution_count": 158,
   "id": "fbd5f443",
   "metadata": {},
   "outputs": [
    {
     "data": {
      "text/plain": [
       "Timestamp('2014-01-02 00:00:00')"
      ]
     },
     "execution_count": 158,
     "metadata": {},
     "output_type": "execute_result"
    }
   ],
   "source": [
    "(day + ts).normalize()"
   ]
  },
  {
   "cell_type": "code",
   "execution_count": 159,
   "id": "2cf0a1aa",
   "metadata": {},
   "outputs": [
    {
     "data": {
      "text/plain": [
       "Timestamp('2014-01-01 23:00:00')"
      ]
     },
     "execution_count": 159,
     "metadata": {},
     "output_type": "execute_result"
    }
   ],
   "source": [
    "ts = pd.Timestamp(\"2014-01-01 22:00\")\n",
    "hour = pd.offsets.Hour()\n",
    "hour + ts\n"
   ]
  },
  {
   "cell_type": "code",
   "execution_count": 160,
   "id": "26549e98",
   "metadata": {},
   "outputs": [
    {
     "data": {
      "text/plain": [
       "Timestamp('2014-01-01 00:00:00')"
      ]
     },
     "execution_count": 160,
     "metadata": {},
     "output_type": "execute_result"
    }
   ],
   "source": [
    "(hour + ts).normalize()"
   ]
  },
  {
   "cell_type": "code",
   "execution_count": 161,
   "id": "575e523a",
   "metadata": {},
   "outputs": [
    {
     "data": {
      "text/plain": [
       "Timestamp('2014-01-02 00:00:00')"
      ]
     },
     "execution_count": 161,
     "metadata": {},
     "output_type": "execute_result"
    }
   ],
   "source": [
    "(hour + pd.Timestamp(\"2014-01-01 23:30\")).normalize()"
   ]
  },
  {
   "cell_type": "markdown",
   "id": "e747f925",
   "metadata": {},
   "source": [
    "#### Parametric offsets\n",
    "- Some of the offsets can be “parameterized” when created to result in different behaviors. For example, the Week offset for generating weekly data accepts a weekday parameter which results in the generated dates always lying on a particular day of the week:"
   ]
  },
  {
   "cell_type": "code",
   "execution_count": 162,
   "id": "e8f91db2",
   "metadata": {},
   "outputs": [
    {
     "data": {
      "text/plain": [
       "datetime.datetime(2008, 8, 18, 9, 0)"
      ]
     },
     "execution_count": 162,
     "metadata": {},
     "output_type": "execute_result"
    }
   ],
   "source": [
    "d = datetime.datetime(2008, 8, 18, 9, 0)\n",
    "d"
   ]
  },
  {
   "cell_type": "code",
   "execution_count": 163,
   "id": "e9a49cbf",
   "metadata": {},
   "outputs": [
    {
     "data": {
      "text/plain": [
       "Timestamp('2008-08-25 09:00:00')"
      ]
     },
     "execution_count": 163,
     "metadata": {},
     "output_type": "execute_result"
    }
   ],
   "source": [
    "d + pd.offsets.Week()"
   ]
  },
  {
   "cell_type": "code",
   "execution_count": 164,
   "id": "0e807e3f",
   "metadata": {},
   "outputs": [
    {
     "data": {
      "text/plain": [
       "Timestamp('2008-08-22 09:00:00')"
      ]
     },
     "execution_count": 164,
     "metadata": {},
     "output_type": "execute_result"
    }
   ],
   "source": [
    "d + pd.offsets.Week(weekday=4)"
   ]
  },
  {
   "cell_type": "code",
   "execution_count": 165,
   "id": "fe035cbe",
   "metadata": {},
   "outputs": [
    {
     "data": {
      "text/plain": [
       "4"
      ]
     },
     "execution_count": 165,
     "metadata": {},
     "output_type": "execute_result"
    }
   ],
   "source": [
    "(d + pd.offsets.Week(weekday=4)).weekday()"
   ]
  },
  {
   "cell_type": "code",
   "execution_count": 166,
   "id": "5fb0516f",
   "metadata": {},
   "outputs": [
    {
     "data": {
      "text/plain": [
       "Timestamp('2008-08-11 09:00:00')"
      ]
     },
     "execution_count": 166,
     "metadata": {},
     "output_type": "execute_result"
    }
   ],
   "source": [
    "d - pd.offsets.Week()"
   ]
  },
  {
   "cell_type": "markdown",
   "id": "0361d38f",
   "metadata": {},
   "source": [
    "- The normalize option will be effective for addition and subtraction."
   ]
  },
  {
   "cell_type": "code",
   "execution_count": 167,
   "id": "2eb82bc6",
   "metadata": {},
   "outputs": [
    {
     "data": {
      "text/plain": [
       "Timestamp('2008-08-25 00:00:00')"
      ]
     },
     "execution_count": 167,
     "metadata": {},
     "output_type": "execute_result"
    }
   ],
   "source": [
    "d + pd.offsets.Week(normalize=True)"
   ]
  },
  {
   "cell_type": "code",
   "execution_count": 168,
   "id": "576cbc3b",
   "metadata": {},
   "outputs": [
    {
     "data": {
      "text/plain": [
       "Timestamp('2008-08-11 00:00:00')"
      ]
     },
     "execution_count": 168,
     "metadata": {},
     "output_type": "execute_result"
    }
   ],
   "source": [
    "d - pd.offsets.Week(normalize=True)"
   ]
  },
  {
   "cell_type": "markdown",
   "id": "089374bc",
   "metadata": {},
   "source": [
    "- Another example is parameterizing YearEnd with the specific ending month:"
   ]
  },
  {
   "cell_type": "code",
   "execution_count": 169,
   "id": "ccd3af19",
   "metadata": {},
   "outputs": [
    {
     "data": {
      "text/plain": [
       "Timestamp('2008-12-31 09:00:00')"
      ]
     },
     "execution_count": 169,
     "metadata": {},
     "output_type": "execute_result"
    }
   ],
   "source": [
    "d + pd.offsets.YearEnd()"
   ]
  },
  {
   "cell_type": "code",
   "execution_count": 170,
   "id": "486b3bd6",
   "metadata": {},
   "outputs": [
    {
     "data": {
      "text/plain": [
       "Timestamp('2009-06-30 09:00:00')"
      ]
     },
     "execution_count": 170,
     "metadata": {},
     "output_type": "execute_result"
    }
   ],
   "source": [
    "d + pd.offsets.YearEnd(month=6)"
   ]
  },
  {
   "cell_type": "markdown",
   "id": "158c0396",
   "metadata": {},
   "source": [
    "#### Using offsets with Series / DatetimeIndex\n",
    "- Offsets can be used with either a Series or DatetimeIndex to apply the offset to each element."
   ]
  },
  {
   "cell_type": "code",
   "execution_count": 171,
   "id": "3d4505aa",
   "metadata": {},
   "outputs": [
    {
     "data": {
      "text/plain": [
       "DatetimeIndex(['2012-01-01', '2012-01-02', '2012-01-03'], dtype='datetime64[ns]', freq='D')"
      ]
     },
     "execution_count": 171,
     "metadata": {},
     "output_type": "execute_result"
    }
   ],
   "source": [
    "rng = pd.date_range(\"2012-01-01\", \"2012-01-03\")\n",
    "s = pd.Series(rng)\n",
    "rng"
   ]
  },
  {
   "cell_type": "code",
   "execution_count": 173,
   "id": "3a0b9c74",
   "metadata": {},
   "outputs": [
    {
     "data": {
      "text/plain": [
       "DatetimeIndex(['2012-03-01', '2012-03-02', '2012-03-03'], dtype='datetime64[ns]', freq=None)"
      ]
     },
     "execution_count": 173,
     "metadata": {},
     "output_type": "execute_result"
    }
   ],
   "source": [
    "rng + pd.DateOffset(months=2)"
   ]
  },
  {
   "cell_type": "code",
   "execution_count": 174,
   "id": "024ca790",
   "metadata": {},
   "outputs": [
    {
     "data": {
      "text/plain": [
       "0   2012-03-01\n",
       "1   2012-03-02\n",
       "2   2012-03-03\n",
       "dtype: datetime64[ns]"
      ]
     },
     "execution_count": 174,
     "metadata": {},
     "output_type": "execute_result"
    }
   ],
   "source": [
    "s + pd.DateOffset(months=2)"
   ]
  },
  {
   "cell_type": "code",
   "execution_count": 175,
   "id": "d8eae71f",
   "metadata": {},
   "outputs": [
    {
     "data": {
      "text/plain": [
       "0   2011-11-01\n",
       "1   2011-11-02\n",
       "2   2011-11-03\n",
       "dtype: datetime64[ns]"
      ]
     },
     "execution_count": 175,
     "metadata": {},
     "output_type": "execute_result"
    }
   ],
   "source": [
    "s - pd.DateOffset(months=2)"
   ]
  },
  {
   "cell_type": "markdown",
   "id": "09dcf03d",
   "metadata": {},
   "source": [
    "- If the offset class maps directly to a Timedelta (Day, Hour, Minute, Second, Micro, Milli, Nano) it can be used exactly like a Timedelta - see the Timedelta section for more examples."
   ]
  },
  {
   "cell_type": "code",
   "execution_count": 176,
   "id": "2d942c1d",
   "metadata": {},
   "outputs": [
    {
     "data": {
      "text/plain": [
       "0   2011-12-30\n",
       "1   2011-12-31\n",
       "2   2012-01-01\n",
       "dtype: datetime64[ns]"
      ]
     },
     "execution_count": 176,
     "metadata": {},
     "output_type": "execute_result"
    }
   ],
   "source": [
    "s - pd.offsets.Day(2)"
   ]
  },
  {
   "cell_type": "code",
   "execution_count": 177,
   "id": "435abf79",
   "metadata": {},
   "outputs": [
    {
     "data": {
      "text/plain": [
       "0   3 days\n",
       "1   3 days\n",
       "2   3 days\n",
       "dtype: timedelta64[ns]"
      ]
     },
     "execution_count": 177,
     "metadata": {},
     "output_type": "execute_result"
    }
   ],
   "source": [
    "td = s - pd.Series(pd.date_range(\"2011-12-29\", \"2011-12-31\"))\n",
    "\n",
    "td"
   ]
  },
  {
   "cell_type": "code",
   "execution_count": 178,
   "id": "2adb7ed5",
   "metadata": {},
   "outputs": [
    {
     "data": {
      "text/plain": [
       "0   3 days 00:15:00\n",
       "1   3 days 00:15:00\n",
       "2   3 days 00:15:00\n",
       "dtype: timedelta64[ns]"
      ]
     },
     "execution_count": 178,
     "metadata": {},
     "output_type": "execute_result"
    }
   ],
   "source": [
    "td + pd.offsets.Minute(15)\n"
   ]
  },
  {
   "cell_type": "markdown",
   "id": "63e772a0",
   "metadata": {},
   "source": [
    "- Note that some offsets (such as BQuarterEnd) do not have a vectorized implementation. They can still be used but may calculate significantly slower and will show a PerformanceWarning"
   ]
  },
  {
   "cell_type": "code",
   "execution_count": 179,
   "id": "3d12159f",
   "metadata": {},
   "outputs": [
    {
     "data": {
      "text/plain": [
       "DatetimeIndex(['2012-03-30', '2012-03-30', '2012-03-30'], dtype='datetime64[ns]', freq=None)"
      ]
     },
     "execution_count": 179,
     "metadata": {},
     "output_type": "execute_result"
    }
   ],
   "source": [
    "rng + pd.offsets.BQuarterEnd()"
   ]
  },
  {
   "cell_type": "markdown",
   "id": "3a4d8bb2",
   "metadata": {},
   "source": [
    "#### Custom business days\n",
    "- The CDay or CustomBusinessDay class provides a parametric BusinessDay class which can be used to create customized business day calendars which account for local holidays and local weekend conventions.\n",
    "\n",
    "- As an interesting example, let’s look at Egypt where a Friday-Saturday weekend is observed."
   ]
  },
  {
   "cell_type": "code",
   "execution_count": 184,
   "id": "1b649a51",
   "metadata": {},
   "outputs": [
    {
     "data": {
      "text/plain": [
       "Timestamp('2013-05-05 00:00:00')"
      ]
     },
     "execution_count": 184,
     "metadata": {},
     "output_type": "execute_result"
    }
   ],
   "source": [
    "weekmask_egypt = \"Sun Mon Tue Wed Thu\"\n",
    "\n",
    "\n",
    "# They also observe International Workers' Day so let's\n",
    "# add that for a couple of years\n",
    "holidays = [\n",
    "    \"2012-05-01\",\n",
    "    datetime.datetime(2013, 5, 1),\n",
    "    np.datetime64(\"2014-05-01\"),\n",
    "]\n",
    "\n",
    "bday_egypt = pd.offsets.CustomBusinessDay(\n",
    "    holidays=holidays,\n",
    "    weekmask=weekmask_egypt,\n",
    ")\n",
    "\n",
    "dt = datetime.datetime(2013, 4, 30)\n",
    "dt + 2 * bday_egypt\n"
   ]
  },
  {
   "cell_type": "markdown",
   "id": "869d92a0",
   "metadata": {},
   "source": [
    "- Let’s map to the weekday names:"
   ]
  },
  {
   "cell_type": "code",
   "execution_count": 185,
   "id": "be5cde72",
   "metadata": {},
   "outputs": [
    {
     "data": {
      "text/plain": [
       "2013-04-30    Tue\n",
       "2013-05-02    Thu\n",
       "2013-05-05    Sun\n",
       "2013-05-06    Mon\n",
       "2013-05-07    Tue\n",
       "Freq: C, dtype: object"
      ]
     },
     "execution_count": 185,
     "metadata": {},
     "output_type": "execute_result"
    }
   ],
   "source": [
    "dts = pd.date_range(dt, periods=5, freq=bday_egypt)\n",
    "pd.Series(dts.weekday, dts).map(pd.Series(\"Mon Tue Wed Thu Fri Sat Sun\".split()))\n"
   ]
  },
  {
   "cell_type": "markdown",
   "id": "a2969324",
   "metadata": {},
   "source": [
    "- Holiday calendars can be used to provide the list of holidays. See the holiday calendar section for more information."
   ]
  },
  {
   "cell_type": "code",
   "execution_count": 186,
   "id": "147bde39",
   "metadata": {},
   "outputs": [
    {
     "data": {
      "text/plain": [
       "Timestamp('2014-01-21 00:00:00')"
      ]
     },
     "execution_count": 186,
     "metadata": {},
     "output_type": "execute_result"
    }
   ],
   "source": [
    "from pandas.tseries.holiday import USFederalHolidayCalendar\n",
    "bday_us = pd.offsets.CustomBusinessDay(calendar=USFederalHolidayCalendar())\n",
    "# Friday before MLK Day\n",
    "dt = datetime.datetime(2014, 1, 17)\n",
    "# Tuesday after MLK Day (Monday is skipped because it's a holiday)\n",
    "dt + bday_us"
   ]
  },
  {
   "cell_type": "markdown",
   "id": "0419a5f4",
   "metadata": {},
   "source": [
    "- Monthly offsets that respect a certain holiday calendar can be defined in the usual way."
   ]
  },
  {
   "cell_type": "code",
   "execution_count": 187,
   "id": "f91f5a10",
   "metadata": {},
   "outputs": [
    {
     "data": {
      "text/plain": [
       "DatetimeIndex(['2010-01-04', '2010-02-01', '2010-03-01', '2010-04-01',\n",
       "               '2010-05-03', '2010-06-01', '2010-07-01', '2010-08-02',\n",
       "               '2010-09-01', '2010-10-01', '2010-11-01', '2010-12-01',\n",
       "               '2011-01-03', '2011-02-01', '2011-03-01', '2011-04-01',\n",
       "               '2011-05-02', '2011-06-01', '2011-07-01', '2011-08-01',\n",
       "               '2011-09-01', '2011-10-03', '2011-11-01', '2011-12-01'],\n",
       "              dtype='datetime64[ns]', freq='CBMS')"
      ]
     },
     "execution_count": 187,
     "metadata": {},
     "output_type": "execute_result"
    }
   ],
   "source": [
    "bmth_us = pd.offsets.CustomBusinessMonthBegin(calendar=USFederalHolidayCalendar())\n",
    "# Skip new years\n",
    "dt = datetime.datetime(2013, 12, 17)\n",
    "dt + bmth_us\n",
    "# Define date index with custom offset\n",
    "pd.date_range(start=\"20100101\", end=\"20120101\", freq=bmth_us)\n"
   ]
  },
  {
   "cell_type": "markdown",
   "id": "3c49eafd",
   "metadata": {},
   "source": [
    "- **Note**: The frequency string ‘C’ is used to indicate that a CustomBusinessDay DateOffset is used, it is important to note that since CustomBusinessDay is a parameterised type, instances of CustomBusinessDay may differ and this is not detectable from the ‘C’ frequency string. The user therefore needs to ensure that the ‘C’ frequency string is used consistently within the user’s application.\n",
    "\n",
    "#### Business hour\n",
    "- The BusinessHour class provides a business hour representation on BusinessDay, allowing to use specific start and end times.\n",
    "\n",
    "- By default, BusinessHour uses 9:00 - 17:00 as business hours. Adding BusinessHour will increment Timestamp by hourly frequency. If target Timestamp is out of business hours, move to the next business hour then increment it. If the result exceeds the business hours end, the remaining hours are added to the next business day."
   ]
  },
  {
   "cell_type": "code",
   "execution_count": 188,
   "id": "310e7f93",
   "metadata": {},
   "outputs": [
    {
     "data": {
      "text/plain": [
       "<BusinessHour: bh=09:00-17:00>"
      ]
     },
     "execution_count": 188,
     "metadata": {},
     "output_type": "execute_result"
    }
   ],
   "source": [
    "bh = pd.offsets.BusinessHour()\n",
    "bh"
   ]
  },
  {
   "cell_type": "code",
   "execution_count": 189,
   "id": "f222192d",
   "metadata": {},
   "outputs": [
    {
     "data": {
      "text/plain": [
       "4"
      ]
     },
     "execution_count": 189,
     "metadata": {},
     "output_type": "execute_result"
    }
   ],
   "source": [
    "# 2014-08-01 is Friday\n",
    "pd.Timestamp(\"2014-08-01 10:00\").weekday()"
   ]
  },
  {
   "cell_type": "code",
   "execution_count": 190,
   "id": "3fd9f1e3",
   "metadata": {},
   "outputs": [
    {
     "data": {
      "text/plain": [
       "Timestamp('2014-08-01 11:00:00')"
      ]
     },
     "execution_count": 190,
     "metadata": {},
     "output_type": "execute_result"
    }
   ],
   "source": [
    "pd.Timestamp(\"2014-08-01 10:00\") + bh"
   ]
  },
  {
   "cell_type": "code",
   "execution_count": 191,
   "id": "255dcfb1",
   "metadata": {},
   "outputs": [
    {
     "data": {
      "text/plain": [
       "Timestamp('2014-08-01 10:00:00')"
      ]
     },
     "execution_count": 191,
     "metadata": {},
     "output_type": "execute_result"
    }
   ],
   "source": [
    "# Below example is the same as: pd.Timestamp('2014-08-01 09:00') + bh\n",
    "pd.Timestamp(\"2014-08-01 08:00\") + bh"
   ]
  },
  {
   "cell_type": "code",
   "execution_count": 192,
   "id": "aee20716",
   "metadata": {},
   "outputs": [
    {
     "data": {
      "text/plain": [
       "Timestamp('2014-08-04 09:00:00')"
      ]
     },
     "execution_count": 192,
     "metadata": {},
     "output_type": "execute_result"
    }
   ],
   "source": [
    "# If the results is on the end time, move to the next business day\n",
    "pd.Timestamp(\"2014-08-01 16:00\") + bh"
   ]
  },
  {
   "cell_type": "code",
   "execution_count": 193,
   "id": "572bbb35",
   "metadata": {},
   "outputs": [
    {
     "data": {
      "text/plain": [
       "Timestamp('2014-08-04 09:30:00')"
      ]
     },
     "execution_count": 193,
     "metadata": {},
     "output_type": "execute_result"
    }
   ],
   "source": [
    "# Remainings are added to the next day\n",
    "pd.Timestamp(\"2014-08-01 16:30\") + bh"
   ]
  },
  {
   "cell_type": "code",
   "execution_count": 194,
   "id": "175c1d65",
   "metadata": {},
   "outputs": [
    {
     "data": {
      "text/plain": [
       "Timestamp('2014-08-01 12:00:00')"
      ]
     },
     "execution_count": 194,
     "metadata": {},
     "output_type": "execute_result"
    }
   ],
   "source": [
    "# Adding 2 business hours\n",
    "pd.Timestamp(\"2014-08-01 10:00\") + pd.offsets.BusinessHour(2)"
   ]
  },
  {
   "cell_type": "code",
   "execution_count": 195,
   "id": "b354c234",
   "metadata": {},
   "outputs": [
    {
     "data": {
      "text/plain": [
       "Timestamp('2014-07-31 15:00:00')"
      ]
     },
     "execution_count": 195,
     "metadata": {},
     "output_type": "execute_result"
    }
   ],
   "source": [
    "# Subtracting 3 business hours\n",
    "pd.Timestamp(\"2014-08-01 10:00\") + pd.offsets.BusinessHour(-3)"
   ]
  },
  {
   "cell_type": "markdown",
   "id": "9762872a",
   "metadata": {},
   "source": [
    "- You can also specify start and end time by keywords. The argument must be a str with an hour:minute representation or a datetime.time instance. Specifying seconds, microseconds and nanoseconds as business hour results in ValueError."
   ]
  },
  {
   "cell_type": "code",
   "execution_count": 196,
   "id": "86ba9708",
   "metadata": {},
   "outputs": [
    {
     "data": {
      "text/plain": [
       "<BusinessHour: bh=11:00-20:00>"
      ]
     },
     "execution_count": 196,
     "metadata": {},
     "output_type": "execute_result"
    }
   ],
   "source": [
    "bh = pd.offsets.BusinessHour(start=\"11:00\", end=datetime.time(20, 0))\n",
    "bh"
   ]
  },
  {
   "cell_type": "code",
   "execution_count": 197,
   "id": "5cae71c3",
   "metadata": {},
   "outputs": [
    {
     "data": {
      "text/plain": [
       "Timestamp('2014-08-01 14:00:00')"
      ]
     },
     "execution_count": 197,
     "metadata": {},
     "output_type": "execute_result"
    }
   ],
   "source": [
    "pd.Timestamp(\"2014-08-01 13:00\") + bh"
   ]
  },
  {
   "cell_type": "code",
   "execution_count": 198,
   "id": "800f0cc6",
   "metadata": {},
   "outputs": [
    {
     "data": {
      "text/plain": [
       "Timestamp('2014-08-01 12:00:00')"
      ]
     },
     "execution_count": 198,
     "metadata": {},
     "output_type": "execute_result"
    }
   ],
   "source": [
    "pd.Timestamp(\"2014-08-01 09:00\") + bh"
   ]
  },
  {
   "cell_type": "code",
   "execution_count": 199,
   "id": "7eccd97d",
   "metadata": {},
   "outputs": [
    {
     "data": {
      "text/plain": [
       "Timestamp('2014-08-01 19:00:00')"
      ]
     },
     "execution_count": 199,
     "metadata": {},
     "output_type": "execute_result"
    }
   ],
   "source": [
    "pd.Timestamp(\"2014-08-01 18:00\") + bh"
   ]
  },
  {
   "cell_type": "markdown",
   "id": "38b71dbb",
   "metadata": {},
   "source": [
    "- Passing start time later than end represents midnight business hour. In this case, business hour exceeds midnight and overlap to the next day. Valid business hours are distinguished by whether it started from valid BusinessDay."
   ]
  },
  {
   "cell_type": "code",
   "execution_count": 200,
   "id": "73a8b178",
   "metadata": {},
   "outputs": [
    {
     "data": {
      "text/plain": [
       "<BusinessHour: bh=17:00-09:00>"
      ]
     },
     "execution_count": 200,
     "metadata": {},
     "output_type": "execute_result"
    }
   ],
   "source": [
    "bh = pd.offsets.BusinessHour(start=\"17:00\", end=\"09:00\")\n",
    "bh"
   ]
  },
  {
   "cell_type": "code",
   "execution_count": 201,
   "id": "b02f77c5",
   "metadata": {},
   "outputs": [
    {
     "data": {
      "text/plain": [
       "Timestamp('2014-08-01 18:00:00')"
      ]
     },
     "execution_count": 201,
     "metadata": {},
     "output_type": "execute_result"
    }
   ],
   "source": [
    "pd.Timestamp(\"2014-08-01 17:00\") + bh"
   ]
  },
  {
   "cell_type": "code",
   "execution_count": 202,
   "id": "49bdefb5",
   "metadata": {},
   "outputs": [
    {
     "data": {
      "text/plain": [
       "Timestamp('2014-08-02 00:00:00')"
      ]
     },
     "execution_count": 202,
     "metadata": {},
     "output_type": "execute_result"
    }
   ],
   "source": [
    "pd.Timestamp(\"2014-08-01 23:00\") + bh"
   ]
  },
  {
   "cell_type": "code",
   "execution_count": 203,
   "id": "5cb780b6",
   "metadata": {},
   "outputs": [
    {
     "data": {
      "text/plain": [
       "Timestamp('2014-08-02 05:00:00')"
      ]
     },
     "execution_count": 203,
     "metadata": {},
     "output_type": "execute_result"
    }
   ],
   "source": [
    "# Although 2014-08-02 is Saturday,\n",
    "# it is valid because it starts from 08-01 (Friday).\n",
    "pd.Timestamp(\"2014-08-02 04:00\") + bh"
   ]
  },
  {
   "cell_type": "code",
   "execution_count": 204,
   "id": "940ad405",
   "metadata": {},
   "outputs": [
    {
     "data": {
      "text/plain": [
       "Timestamp('2014-08-04 18:00:00')"
      ]
     },
     "execution_count": 204,
     "metadata": {},
     "output_type": "execute_result"
    }
   ],
   "source": [
    "# Although 2014-08-04 is Monday,\n",
    "# it is out of business hours because it starts from 08-03 (Sunday).\n",
    "pd.Timestamp(\"2014-08-04 04:00\") + bh"
   ]
  },
  {
   "cell_type": "markdown",
   "id": "c4ab255b",
   "metadata": {},
   "source": [
    "- Applying BusinessHour.rollforward and rollback to out of business hours results in the next business hour start or previous day’s end. Different from other offsets, BusinessHour.rollforward may output different results from apply by definition.\n",
    "\n",
    "- This is because one day’s business hour end is equal to next day’s business hour start. For example, under the default business hours (9:00 - 17:00), there is no gap (0 minutes) between 2014-08-01 17:00 and 2014-08-04 09:00."
   ]
  },
  {
   "cell_type": "code",
   "execution_count": 205,
   "id": "7fac1357",
   "metadata": {},
   "outputs": [
    {
     "data": {
      "text/plain": [
       "Timestamp('2014-08-01 17:00:00')"
      ]
     },
     "execution_count": 205,
     "metadata": {},
     "output_type": "execute_result"
    }
   ],
   "source": [
    "# This adjusts a Timestamp to business hour edge\n",
    "pd.offsets.BusinessHour().rollback(pd.Timestamp(\"2014-08-02 15:00\"))"
   ]
  },
  {
   "cell_type": "code",
   "execution_count": 206,
   "id": "1370f776",
   "metadata": {},
   "outputs": [
    {
     "data": {
      "text/plain": [
       "Timestamp('2014-08-04 09:00:00')"
      ]
     },
     "execution_count": 206,
     "metadata": {},
     "output_type": "execute_result"
    }
   ],
   "source": [
    "pd.offsets.BusinessHour().rollforward(pd.Timestamp(\"2014-08-02 15:00\"))"
   ]
  },
  {
   "cell_type": "code",
   "execution_count": 207,
   "id": "c82636dc",
   "metadata": {},
   "outputs": [
    {
     "data": {
      "text/plain": [
       "Timestamp('2014-08-04 10:00:00')"
      ]
     },
     "execution_count": 207,
     "metadata": {},
     "output_type": "execute_result"
    }
   ],
   "source": [
    "# It is the same as BusinessHour() + pd.Timestamp('2014-08-01 17:00').\n",
    "# And it is the same as BusinessHour() + pd.Timestamp('2014-08-04 09:00')\n",
    "pd.offsets.BusinessHour() + pd.Timestamp(\"2014-08-02 15:00\")"
   ]
  },
  {
   "cell_type": "code",
   "execution_count": 208,
   "id": "41239b1b",
   "metadata": {},
   "outputs": [
    {
     "data": {
      "text/plain": [
       "Timestamp('2014-08-04 09:00:00')"
      ]
     },
     "execution_count": 208,
     "metadata": {},
     "output_type": "execute_result"
    }
   ],
   "source": [
    "# BusinessDay results (for reference)\n",
    "pd.offsets.BusinessHour().rollforward(pd.Timestamp(\"2014-08-02\"))"
   ]
  },
  {
   "cell_type": "code",
   "execution_count": 209,
   "id": "59f22119",
   "metadata": {},
   "outputs": [
    {
     "data": {
      "text/plain": [
       "Timestamp('2014-08-04 10:00:00')"
      ]
     },
     "execution_count": 209,
     "metadata": {},
     "output_type": "execute_result"
    }
   ],
   "source": [
    "# It is the same as BusinessDay() + pd.Timestamp('2014-08-01')\n",
    "# The result is the same as rollworward because BusinessDay never overlap.\n",
    "pd.offsets.BusinessHour() + pd.Timestamp(\"2014-08-02\")"
   ]
  },
  {
   "cell_type": "markdown",
   "id": "7abc0c64",
   "metadata": {},
   "source": [
    "- BusinessHour regards Saturday and Sunday as holidays. To use arbitrary holidays, you can use CustomBusinessHour offset, as explained in the following subsection.\n",
    "\n",
    "#### Custom business hour\n",
    "- The CustomBusinessHour is a mixture of BusinessHour and CustomBusinessDay which allows you to specify arbitrary holidays. CustomBusinessHour works as the same as BusinessHour except that it skips specified custom holidays."
   ]
  },
  {
   "cell_type": "code",
   "execution_count": 210,
   "id": "85f96e1d",
   "metadata": {},
   "outputs": [
    {
     "data": {
      "text/plain": [
       "Timestamp('2014-01-17 16:00:00')"
      ]
     },
     "execution_count": 210,
     "metadata": {},
     "output_type": "execute_result"
    }
   ],
   "source": [
    "from pandas.tseries.holiday import USFederalHolidayCalendar\n",
    "\n",
    "bhour_us = pd.offsets.CustomBusinessHour(calendar=USFederalHolidayCalendar())\n",
    "# Friday before MLK Day\n",
    "dt = datetime.datetime(2014, 1, 17, 15)\n",
    "dt + bhour_us\n",
    "\n"
   ]
  },
  {
   "cell_type": "code",
   "execution_count": 211,
   "id": "f76fc035",
   "metadata": {},
   "outputs": [
    {
     "data": {
      "text/plain": [
       "Timestamp('2014-01-21 09:00:00')"
      ]
     },
     "execution_count": 211,
     "metadata": {},
     "output_type": "execute_result"
    }
   ],
   "source": [
    "# Tuesday after MLK Day (Monday is skipped because it's a holiday)\n",
    "dt + bhour_us * 2"
   ]
  },
  {
   "cell_type": "markdown",
   "id": "57869c7e",
   "metadata": {},
   "source": [
    "- You can use keyword arguments supported by either BusinessHour and CustomBusinessDay."
   ]
  },
  {
   "cell_type": "code",
   "execution_count": 212,
   "id": "441d0725",
   "metadata": {},
   "outputs": [
    {
     "data": {
      "text/plain": [
       "Timestamp('2014-01-21 10:00:00')"
      ]
     },
     "execution_count": 212,
     "metadata": {},
     "output_type": "execute_result"
    }
   ],
   "source": [
    "bhour_mon = pd.offsets.CustomBusinessHour(start=\"10:00\", weekmask=\"Tue Wed Thu Fri\")\n",
    "# Monday is skipped because it's a holiday, business hour starts from 10:00\n",
    "dt + bhour_mon * 2\n"
   ]
  },
  {
   "cell_type": "markdown",
   "id": "90798e9c",
   "metadata": {},
   "source": [
    "#### Offset aliases\n",
    "- A number of string aliases are given to useful common time series frequencies. We will refer to these aliases as offset aliases.\n",
    "\n",
    "| Alias | Description |\n",
    "| ---- | ----- |\n",
    "| B | business day frequency |\n",
    "| C | custom business day frequency |\n",
    "| D | calendar day frequency |\n",
    "| W | weekly frequency |\n",
    "| ME | month end frequency |\n",
    "| SME | semi-month end frequency (15th and end of month) |\n",
    "| BME | business month end frequency |\n",
    "| CBME | custom business month end frequency |\n",
    "| MS | month start frequency |\n",
    "| SMS | semi-month start frequency (1st and 15th) |\n",
    "| BMS | business month start frequency |\n",
    "| CBMS | custom business month start frequency |\n",
    "| QE | quarter end frequency |\n",
    "| BQE | business quarter end frequency |\n",
    "| QS | quarter start frequency |\n",
    "| BQS | business quarter start frequency |\n",
    "| YE | year end frequency |\n",
    "| BYE | business year end frequency |\n",
    "| YS | year start frequency |\n",
    "| BYS | business year start frequency |\n",
    "| h | hourly frequency |\n",
    "| bh | business hour frequency |\n",
    "| cbh | custom business hour frequency |\n",
    "| min | minutely frequency |\n",
    "| s | secondly frequency  |\n",
    "| ms | milliseconds |\n",
    "| us | microseconds |\n",
    "| ns | nanoseconds |\n",
    "\n",
    "- **Note**: When using the offset aliases above, it should be noted that functions such as date_range(), bdate_range(), will only return timestamps that are in the interval defined by start_date and end_date. If the start_date does not correspond to the frequency, the returned timestamps will start at the next valid timestamp, same for end_date, the returned timestamps will stop at the previous valid timestamp.\n",
    "- For example, for the offset MS, if the start_date is not the first of the month, the returned timestamps will start with the first day of the next month. If end_date is not the first day of a month, the last returned timestamp will be the first day of the corresponding month."
   ]
  },
  {
   "cell_type": "code",
   "execution_count": 213,
   "id": "f8f5bdb2",
   "metadata": {},
   "outputs": [
    {
     "data": {
      "text/plain": [
       "DatetimeIndex(['2020-02-01', '2020-03-01', '2020-04-01'], dtype='datetime64[ns]', freq='MS')"
      ]
     },
     "execution_count": 213,
     "metadata": {},
     "output_type": "execute_result"
    }
   ],
   "source": [
    "dates_lst_1 = pd.date_range(\"2020-01-06\", \"2020-04-03\", freq=\"MS\")\n",
    "dates_lst_1"
   ]
  },
  {
   "cell_type": "code",
   "execution_count": 214,
   "id": "1a8b1741",
   "metadata": {},
   "outputs": [
    {
     "data": {
      "text/plain": [
       "DatetimeIndex(['2020-01-01', '2020-02-01', '2020-03-01', '2020-04-01'], dtype='datetime64[ns]', freq='MS')"
      ]
     },
     "execution_count": 214,
     "metadata": {},
     "output_type": "execute_result"
    }
   ],
   "source": [
    "dates_lst_2 = pd.date_range(\"2020-01-01\", \"2020-04-01\", freq=\"MS\")\n",
    "dates_lst_2"
   ]
  },
  {
   "cell_type": "markdown",
   "id": "3e9b877f",
   "metadata": {},
   "source": [
    "- We can see in the above example date_range() and bdate_range() will only return the valid timestamps between the start_date and end_date. If these are not valid timestamps for the given frequency it will roll to the next value for start_date (respectively previous for the end_date)\n",
    "\n",
    "#### Period aliases\n",
    "- A number of string aliases are given to useful common time series frequencies. We will refer to these aliases as period aliases.\n",
    "\n",
    "| Alias | Description |\n",
    "| ----- | ------ |\n",
    "| B | business day frequency |\n",
    "| D | calendar day frequency |\n",
    "| W | weekly frequency |\n",
    "| M | monthly frequency |\n",
    "| Q | quarterly frequency |\n",
    "| Y | yearly frequency |\n",
    "| h | hourly frequency |\n",
    "| min | minutely frequency |\n",
    "| s | secondly frequency |\n",
    "| ms | milliseconds |\n",
    "| us |  microseconds |\n",
    "| ns | nanoseconds |\n",
    "\n",
    "#### Combining aliases\n",
    "- As we have seen previously, the alias and the offset instance are fungible in most functions:"
   ]
  },
  {
   "cell_type": "code",
   "execution_count": 215,
   "id": "10e1924d",
   "metadata": {},
   "outputs": [
    {
     "data": {
      "text/plain": [
       "DatetimeIndex(['2011-01-03', '2011-01-04', '2011-01-05', '2011-01-06',\n",
       "               '2011-01-07'],\n",
       "              dtype='datetime64[ns]', freq='B')"
      ]
     },
     "execution_count": 215,
     "metadata": {},
     "output_type": "execute_result"
    }
   ],
   "source": [
    "pd.date_range(start, periods=5, freq=\"B\")"
   ]
  },
  {
   "cell_type": "code",
   "execution_count": 216,
   "id": "450794fb",
   "metadata": {},
   "outputs": [
    {
     "data": {
      "text/plain": [
       "DatetimeIndex(['2011-01-03', '2011-01-04', '2011-01-05', '2011-01-06',\n",
       "               '2011-01-07'],\n",
       "              dtype='datetime64[ns]', freq='B')"
      ]
     },
     "execution_count": 216,
     "metadata": {},
     "output_type": "execute_result"
    }
   ],
   "source": [
    "pd.date_range(start, periods=5, freq=pd.offsets.BDay())"
   ]
  },
  {
   "cell_type": "markdown",
   "id": "6ffe106d",
   "metadata": {},
   "source": [
    "- You can combine together day and intraday offsets:"
   ]
  },
  {
   "cell_type": "code",
   "execution_count": 217,
   "id": "edbb2bfd",
   "metadata": {},
   "outputs": [
    {
     "data": {
      "text/plain": [
       "DatetimeIndex(['2011-01-01 00:00:00', '2011-01-01 02:20:00',\n",
       "               '2011-01-01 04:40:00', '2011-01-01 07:00:00',\n",
       "               '2011-01-01 09:20:00', '2011-01-01 11:40:00',\n",
       "               '2011-01-01 14:00:00', '2011-01-01 16:20:00',\n",
       "               '2011-01-01 18:40:00', '2011-01-01 21:00:00'],\n",
       "              dtype='datetime64[ns]', freq='140min')"
      ]
     },
     "execution_count": 217,
     "metadata": {},
     "output_type": "execute_result"
    }
   ],
   "source": [
    "pd.date_range(start, periods=10, freq=\"2h20min\")"
   ]
  },
  {
   "cell_type": "code",
   "execution_count": 218,
   "id": "6ebf27e9",
   "metadata": {},
   "outputs": [
    {
     "data": {
      "text/plain": [
       "DatetimeIndex([       '2011-01-01 00:00:00', '2011-01-02 00:00:00.000010',\n",
       "               '2011-01-03 00:00:00.000020', '2011-01-04 00:00:00.000030',\n",
       "               '2011-01-05 00:00:00.000040', '2011-01-06 00:00:00.000050',\n",
       "               '2011-01-07 00:00:00.000060', '2011-01-08 00:00:00.000070',\n",
       "               '2011-01-09 00:00:00.000080', '2011-01-10 00:00:00.000090'],\n",
       "              dtype='datetime64[ns]', freq='86400000010us')"
      ]
     },
     "execution_count": 218,
     "metadata": {},
     "output_type": "execute_result"
    }
   ],
   "source": [
    "pd.date_range(start, periods=10, freq=\"1D10us\")"
   ]
  },
  {
   "cell_type": "markdown",
   "id": "d1e78eb5",
   "metadata": {},
   "source": [
    "#### Anchored offsets\n",
    "- For some frequencies you can specify an anchoring suffix:\n",
    "\n",
    "| Alias | Description |\n",
    "| ----- | ----------- |\n",
    "| W-SUN | weekly frequency (Sundays). Same as ‘W’ |\n",
    "| W-MON | weekly frequency (Mondays) |\n",
    "| W-TUE | weekly frequency (Tuesdays) |\n",
    "| W-WED | weekly frequency (Wednesdays) |\n",
    "| W-THU | weekly frequency (Thursdays) |\n",
    "| W-FRI | weekly frequency (Fridays) |\n",
    "| W-SAT | weekly frequency (Saturdays) |\n",
    "| (B)Q(E)(S)-DEC | quarterly frequency, year ends in December. Same as ‘QE’ |\n",
    "| (B)Q(E)(S)-JAN | quarterly frequency, year ends in January |\n",
    "| (B)Q(E)(S)-FEB | quarterly frequency, year ends in February |\n",
    "| (B)Q(E)(S)-MAR | quarterly frequency, year ends in March |\n",
    "| (B)Q(E)(S)-APR | quarterly frequency, year ends in April |\n",
    "| (B)Q(E)(S)-MAY | quarterly frequency, year ends in May |\n",
    "| (B)Q(E)(S)-JUN | quarterly frequency, year ends in June |\n",
    "| (B)Q(E)(S)-JUL | quarterly frequency, year ends in July |\n",
    "| (B)Q(E)(S)-AUG | quarterly frequency, year ends in August |\n",
    "| (B)Q(E)(S)-SEP | quarterly frequency, year ends in September |\n",
    "| (B)Q(E)(S)-OCT | quarterly frequency, year ends in October |\n",
    "| (B)Q(E)(S)-NOV | quarterly frequency, year ends in November |\n",
    "| (B)Y(E)(S)-DEC | annual frequency, anchored end of December. Same as ‘YE’ |\n",
    "| (B)Y(E)(S)-JAN | annual frequency, anchored end of January |\n",
    "| (B)Y(E)(S)-FEB | annual frequency, anchored end of February |\n",
    "| (B)Y(E)(S)-MAR | annual frequency, anchored end of March |\n",
    "| (B)Y(E)(S)-APR | annual frequency, anchored end of April |\n",
    "| (B)Y(E)(S)-MAY | annual frequency, anchored end of May |\n",
    "| (B)Y(E)(S)-JUN | annual frequency, anchored end of June |\n",
    "| (B)Y(E)(S)-JUL | annual frequency, anchored end of July |\n",
    "| (B)Y(E)(S)-AUG | annual frequency, anchored end of August |\n",
    "| (B)Y(E)(S)-SEP | annual frequency, anchored end of September |\n",
    "| (B)Y(E)(S)-OCT | annual frequency, anchored end of October |\n",
    "| (B)Y(E)(S)-NOV | annual frequency, anchored end of November |\n",
    "\n",
    "- These can be used as arguments to date_range, bdate_range, constructors for DatetimeIndex, as well as various other timeseries-related functions in pandas.\n",
    "\n",
    "#### Anchored offset semantics\n",
    "- For those offsets that are anchored to the start or end of specific frequency (MonthEnd, MonthBegin, WeekEnd, etc), the following rules apply to rolling forward and backwards.\n",
    "\n",
    "- When n is not 0, if the given date is not on an anchor point, it snapped to the next(previous) anchor point, and moved |n|-1 additional steps forwards or backwards."
   ]
  },
  {
   "cell_type": "code",
   "execution_count": 219,
   "id": "af8c5093",
   "metadata": {},
   "outputs": [
    {
     "data": {
      "text/plain": [
       "Timestamp('2014-02-01 00:00:00')"
      ]
     },
     "execution_count": 219,
     "metadata": {},
     "output_type": "execute_result"
    }
   ],
   "source": [
    "pd.Timestamp(\"2014-01-02\") + pd.offsets.MonthBegin(n=1)"
   ]
  },
  {
   "cell_type": "code",
   "execution_count": 220,
   "id": "b25b7021",
   "metadata": {},
   "outputs": [
    {
     "data": {
      "text/plain": [
       "Timestamp('2014-01-31 00:00:00')"
      ]
     },
     "execution_count": 220,
     "metadata": {},
     "output_type": "execute_result"
    }
   ],
   "source": [
    "pd.Timestamp(\"2014-01-02\") + pd.offsets.MonthEnd(n=1)"
   ]
  },
  {
   "cell_type": "code",
   "execution_count": 221,
   "id": "73f41472",
   "metadata": {},
   "outputs": [
    {
     "data": {
      "text/plain": [
       "Timestamp('2014-01-01 00:00:00')"
      ]
     },
     "execution_count": 221,
     "metadata": {},
     "output_type": "execute_result"
    }
   ],
   "source": [
    "pd.Timestamp(\"2014-01-02\") - pd.offsets.MonthBegin(n=1)"
   ]
  },
  {
   "cell_type": "code",
   "execution_count": 222,
   "id": "faa1a4eb",
   "metadata": {},
   "outputs": [
    {
     "data": {
      "text/plain": [
       "Timestamp('2013-12-31 00:00:00')"
      ]
     },
     "execution_count": 222,
     "metadata": {},
     "output_type": "execute_result"
    }
   ],
   "source": [
    "pd.Timestamp(\"2014-01-02\") - pd.offsets.MonthEnd(n=1)"
   ]
  },
  {
   "cell_type": "code",
   "execution_count": 223,
   "id": "6fb6f0a3",
   "metadata": {},
   "outputs": [
    {
     "data": {
      "text/plain": [
       "Timestamp('2014-05-01 00:00:00')"
      ]
     },
     "execution_count": 223,
     "metadata": {},
     "output_type": "execute_result"
    }
   ],
   "source": [
    "pd.Timestamp(\"2014-01-02\") + pd.offsets.MonthBegin(n=4)"
   ]
  },
  {
   "cell_type": "code",
   "execution_count": 224,
   "id": "bfed95c1",
   "metadata": {},
   "outputs": [
    {
     "data": {
      "text/plain": [
       "Timestamp('2013-10-01 00:00:00')"
      ]
     },
     "execution_count": 224,
     "metadata": {},
     "output_type": "execute_result"
    }
   ],
   "source": [
    "pd.Timestamp(\"2014-01-02\") - pd.offsets.MonthBegin(n=4)"
   ]
  },
  {
   "cell_type": "markdown",
   "id": "a089d88a",
   "metadata": {},
   "source": [
    "- If the given date is on an anchor point, it is moved |n| points forwards or backwards."
   ]
  },
  {
   "cell_type": "code",
   "execution_count": 225,
   "id": "a4802b77",
   "metadata": {},
   "outputs": [
    {
     "data": {
      "text/plain": [
       "Timestamp('2014-02-01 00:00:00')"
      ]
     },
     "execution_count": 225,
     "metadata": {},
     "output_type": "execute_result"
    }
   ],
   "source": [
    "pd.Timestamp(\"2014-01-01\") + pd.offsets.MonthBegin(n=1)"
   ]
  },
  {
   "cell_type": "code",
   "execution_count": 226,
   "id": "3895effb",
   "metadata": {},
   "outputs": [
    {
     "data": {
      "text/plain": [
       "Timestamp('2014-02-28 00:00:00')"
      ]
     },
     "execution_count": 226,
     "metadata": {},
     "output_type": "execute_result"
    }
   ],
   "source": [
    "pd.Timestamp(\"2014-01-31\") + pd.offsets.MonthEnd(n=1)"
   ]
  },
  {
   "cell_type": "code",
   "execution_count": 227,
   "id": "cd3cfcfa",
   "metadata": {},
   "outputs": [
    {
     "data": {
      "text/plain": [
       "Timestamp('2013-12-01 00:00:00')"
      ]
     },
     "execution_count": 227,
     "metadata": {},
     "output_type": "execute_result"
    }
   ],
   "source": [
    "pd.Timestamp(\"2014-01-01\") - pd.offsets.MonthBegin(n=1)"
   ]
  },
  {
   "cell_type": "code",
   "execution_count": 228,
   "id": "5bfbc821",
   "metadata": {},
   "outputs": [
    {
     "data": {
      "text/plain": [
       "Timestamp('2013-12-31 00:00:00')"
      ]
     },
     "execution_count": 228,
     "metadata": {},
     "output_type": "execute_result"
    }
   ],
   "source": [
    "pd.Timestamp(\"2014-01-31\") - pd.offsets.MonthEnd(n=1)"
   ]
  },
  {
   "cell_type": "code",
   "execution_count": 229,
   "id": "bb97b1bf",
   "metadata": {},
   "outputs": [
    {
     "data": {
      "text/plain": [
       "Timestamp('2014-05-01 00:00:00')"
      ]
     },
     "execution_count": 229,
     "metadata": {},
     "output_type": "execute_result"
    }
   ],
   "source": [
    "pd.Timestamp(\"2014-01-01\") + pd.offsets.MonthBegin(n=4)"
   ]
  },
  {
   "cell_type": "code",
   "execution_count": 230,
   "id": "75c4e806",
   "metadata": {},
   "outputs": [
    {
     "data": {
      "text/plain": [
       "Timestamp('2013-10-01 00:00:00')"
      ]
     },
     "execution_count": 230,
     "metadata": {},
     "output_type": "execute_result"
    }
   ],
   "source": [
    "pd.Timestamp(\"2014-01-31\") - pd.offsets.MonthBegin(n=4)"
   ]
  },
  {
   "cell_type": "markdown",
   "id": "cf32e4f2",
   "metadata": {},
   "source": [
    "- For the case when n=0, the date is not moved if on an anchor point, otherwise it is rolled forward to the next anchor point."
   ]
  },
  {
   "cell_type": "code",
   "execution_count": 231,
   "id": "f01250c2",
   "metadata": {},
   "outputs": [
    {
     "data": {
      "text/plain": [
       "Timestamp('2014-02-01 00:00:00')"
      ]
     },
     "execution_count": 231,
     "metadata": {},
     "output_type": "execute_result"
    }
   ],
   "source": [
    "pd.Timestamp(\"2014-01-02\") + pd.offsets.MonthBegin(n=0)"
   ]
  },
  {
   "cell_type": "code",
   "execution_count": 232,
   "id": "aceee610",
   "metadata": {},
   "outputs": [
    {
     "data": {
      "text/plain": [
       "Timestamp('2014-01-31 00:00:00')"
      ]
     },
     "execution_count": 232,
     "metadata": {},
     "output_type": "execute_result"
    }
   ],
   "source": [
    "pd.Timestamp(\"2014-01-02\") + pd.offsets.MonthEnd(n=0)"
   ]
  },
  {
   "cell_type": "code",
   "execution_count": 233,
   "id": "73c37ba2",
   "metadata": {},
   "outputs": [
    {
     "data": {
      "text/plain": [
       "Timestamp('2014-01-01 00:00:00')"
      ]
     },
     "execution_count": 233,
     "metadata": {},
     "output_type": "execute_result"
    }
   ],
   "source": [
    "pd.Timestamp(\"2014-01-01\") + pd.offsets.MonthBegin(n=0)"
   ]
  },
  {
   "cell_type": "code",
   "execution_count": 234,
   "id": "7392de6d",
   "metadata": {},
   "outputs": [
    {
     "data": {
      "text/plain": [
       "Timestamp('2014-01-31 00:00:00')"
      ]
     },
     "execution_count": 234,
     "metadata": {},
     "output_type": "execute_result"
    }
   ],
   "source": [
    "pd.Timestamp(\"2014-01-31\") + pd.offsets.MonthEnd(n=0)"
   ]
  },
  {
   "cell_type": "markdown",
   "id": "3c65eec7",
   "metadata": {},
   "source": [
    "#### Holidays / holiday calendars\n",
    "- Holidays and calendars provide a simple way to define holiday rules to be used with CustomBusinessDay or in other analysis that requires a predefined set of holidays. The AbstractHolidayCalendar class provides all the necessary methods to return a list of holidays and only rules need to be defined in a specific holiday calendar class. Furthermore, the start_date and end_date class attributes determine over what date range holidays are generated. These should be overwritten on the AbstractHolidayCalendar class to have the range apply to all calendar subclasses. USFederalHolidayCalendar is the only calendar that exists and primarily serves as an example for developing other calendars.\n",
    "\n",
    "- For holidays that occur on fixed dates (e.g., US Memorial Day or July 4th) an observance rule determines when that holiday is observed if it falls on a weekend or some other non-observed day. Defined observance rules are:\n",
    "\n",
    "| Rule | Description |\n",
    "| ----- | -------- |\n",
    "| nearest_workday | move Saturday to Friday and Sunday to Monday |\n",
    "| sunday_to_monday | move Sunday to following Monday |\n",
    "| next_monday_or_tuesday | move Saturday to Monday and Sunday/Monday to Tuesday |\n",
    "| previous_friday | move Saturday and Sunday to previous Friday” |\n",
    "| next_monday | move Saturday and Sunday to following Monday |\n",
    "\n",
    "- An example of how holidays and holiday calendars are defined:"
   ]
  },
  {
   "cell_type": "code",
   "execution_count": 235,
   "id": "88226157",
   "metadata": {},
   "outputs": [
    {
     "data": {
      "text/plain": [
       "DatetimeIndex(['2012-05-28', '2012-07-04', '2012-10-08'], dtype='datetime64[ns]', freq=None)"
      ]
     },
     "execution_count": 235,
     "metadata": {},
     "output_type": "execute_result"
    }
   ],
   "source": [
    "from pandas.tseries.holiday import (\n",
    "    Holiday,\n",
    "    USMemorialDay,\n",
    "    AbstractHolidayCalendar,\n",
    "    nearest_workday,\n",
    "    MO,\n",
    ")\n",
    "\n",
    "class ExampleCalendar(AbstractHolidayCalendar):\n",
    "    rules = [\n",
    "        USMemorialDay,\n",
    "        Holiday(\"July 4th\", month=7, day=4, observance=nearest_workday),\n",
    "        Holiday(\n",
    "            \"Columbus Day\",\n",
    "            month=10,\n",
    "            day=1,\n",
    "            offset=pd.DateOffset(weekday=MO(2)),\n",
    "        ),\n",
    "    ]\n",
    "\n",
    "cal = ExampleCalendar()\n",
    "\n",
    "cal.holidays(datetime.datetime(2012, 1, 1), datetime.datetime(2012, 12, 31))\n"
   ]
  },
  {
   "cell_type": "markdown",
   "id": "8bfa9694",
   "metadata": {},
   "source": [
    "- **hint**: weekday=MO(2) is same as 2 * Week(weekday=2)\n",
    "\n",
    "- Using this calendar, creating an index or doing offset arithmetic skips weekends and holidays (i.e., Memorial Day/July 4th). For example, the below defines a custom business day offset using the ExampleCalendar. Like any other offset, it can be used to create a DatetimeIndex or added to datetime or Timestamp objects."
   ]
  },
  {
   "cell_type": "code",
   "execution_count": 236,
   "id": "215c0c79",
   "metadata": {},
   "outputs": [
    {
     "data": {
      "text/plain": [
       "array([datetime.datetime(2012, 7, 2, 0, 0),\n",
       "       datetime.datetime(2012, 7, 3, 0, 0),\n",
       "       datetime.datetime(2012, 7, 5, 0, 0),\n",
       "       datetime.datetime(2012, 7, 6, 0, 0),\n",
       "       datetime.datetime(2012, 7, 9, 0, 0),\n",
       "       datetime.datetime(2012, 7, 10, 0, 0)], dtype=object)"
      ]
     },
     "execution_count": 236,
     "metadata": {},
     "output_type": "execute_result"
    }
   ],
   "source": [
    "pd.date_range(\n",
    "    start=\"7/1/2012\", end=\"7/10/2012\", freq=pd.offsets.CDay(calendar=cal)\n",
    ").to_pydatetime()"
   ]
  },
  {
   "cell_type": "code",
   "execution_count": 237,
   "id": "a9690450",
   "metadata": {},
   "outputs": [
    {
     "data": {
      "text/plain": [
       "Timestamp('2012-05-29 00:00:00')"
      ]
     },
     "execution_count": 237,
     "metadata": {},
     "output_type": "execute_result"
    }
   ],
   "source": [
    "offset = pd.offsets.CustomBusinessDay(calendar=cal)\n",
    "datetime.datetime(2012, 5, 25) + offset\n"
   ]
  },
  {
   "cell_type": "code",
   "execution_count": 238,
   "id": "765e25b7",
   "metadata": {},
   "outputs": [
    {
     "data": {
      "text/plain": [
       "Timestamp('2012-07-05 00:00:00')"
      ]
     },
     "execution_count": 238,
     "metadata": {},
     "output_type": "execute_result"
    }
   ],
   "source": [
    "datetime.datetime(2012, 7, 3) + offset"
   ]
  },
  {
   "cell_type": "code",
   "execution_count": 239,
   "id": "4508a83b",
   "metadata": {},
   "outputs": [
    {
     "data": {
      "text/plain": [
       "Timestamp('2012-07-06 00:00:00')"
      ]
     },
     "execution_count": 239,
     "metadata": {},
     "output_type": "execute_result"
    }
   ],
   "source": [
    "datetime.datetime(2012, 7, 3) + 2 * offset"
   ]
  },
  {
   "cell_type": "code",
   "execution_count": 240,
   "id": "94897186",
   "metadata": {},
   "outputs": [
    {
     "data": {
      "text/plain": [
       "Timestamp('2012-07-09 00:00:00')"
      ]
     },
     "execution_count": 240,
     "metadata": {},
     "output_type": "execute_result"
    }
   ],
   "source": [
    "datetime.datetime(2012, 7, 6) + offset"
   ]
  },
  {
   "cell_type": "markdown",
   "id": "48e6c98a",
   "metadata": {},
   "source": [
    "- Ranges are defined by the start_date and end_date class attributes of AbstractHolidayCalendar. The defaults are shown below."
   ]
  },
  {
   "cell_type": "code",
   "execution_count": 241,
   "id": "81e7fa3f",
   "metadata": {},
   "outputs": [
    {
     "data": {
      "text/plain": [
       "Timestamp('1970-01-01 00:00:00')"
      ]
     },
     "execution_count": 241,
     "metadata": {},
     "output_type": "execute_result"
    }
   ],
   "source": [
    "AbstractHolidayCalendar.start_date"
   ]
  },
  {
   "cell_type": "code",
   "execution_count": 242,
   "id": "47a9d381",
   "metadata": {},
   "outputs": [
    {
     "data": {
      "text/plain": [
       "Timestamp('2200-12-31 00:00:00')"
      ]
     },
     "execution_count": 242,
     "metadata": {},
     "output_type": "execute_result"
    }
   ],
   "source": [
    "AbstractHolidayCalendar.end_date"
   ]
  },
  {
   "cell_type": "markdown",
   "id": "d47df0b2",
   "metadata": {},
   "source": [
    "- These dates can be overwritten by setting the attributes as datetime/Timestamp/string."
   ]
  },
  {
   "cell_type": "code",
   "execution_count": 243,
   "id": "cf228632",
   "metadata": {},
   "outputs": [
    {
     "data": {
      "text/plain": [
       "DatetimeIndex(['2012-05-28', '2012-07-04', '2012-10-08'], dtype='datetime64[ns]', freq=None)"
      ]
     },
     "execution_count": 243,
     "metadata": {},
     "output_type": "execute_result"
    }
   ],
   "source": [
    "AbstractHolidayCalendar.start_date = datetime.datetime(2012, 1, 1)\n",
    "AbstractHolidayCalendar.end_date = datetime.datetime(2012, 12, 31)\n",
    "cal.holidays()"
   ]
  },
  {
   "cell_type": "markdown",
   "id": "bd89b6cd",
   "metadata": {},
   "source": [
    "- Every calendar class is accessible by name using the get_calendar function which returns a holiday class instance. Any imported calendar class will automatically be available by this function. Also, HolidayCalendarFactory provides an easy interface to create calendars that are combinations of calendars or calendars with additional rules."
   ]
  },
  {
   "cell_type": "code",
   "execution_count": 244,
   "id": "06ecee6b",
   "metadata": {},
   "outputs": [
    {
     "data": {
      "text/plain": [
       "[Holiday: Memorial Day (month=5, day=31, offset=<DateOffset: weekday=MO(-1)>),\n",
       " Holiday: July 4th (month=7, day=4, observance=<function nearest_workday at 0x000001DBF1FA3600>),\n",
       " Holiday: Columbus Day (month=10, day=1, offset=<DateOffset: weekday=MO(+2)>)]"
      ]
     },
     "execution_count": 244,
     "metadata": {},
     "output_type": "execute_result"
    }
   ],
   "source": [
    "from pandas.tseries.holiday import get_calendar, HolidayCalendarFactory, USLaborDay\n",
    "\n",
    "cal = get_calendar(\"ExampleCalendar\")\n",
    "cal.rules"
   ]
  },
  {
   "cell_type": "code",
   "execution_count": 245,
   "id": "2aa5fe04",
   "metadata": {},
   "outputs": [
    {
     "data": {
      "text/plain": [
       "[Holiday: Labor Day (month=9, day=1, offset=<DateOffset: weekday=MO(+1)>),\n",
       " Holiday: Memorial Day (month=5, day=31, offset=<DateOffset: weekday=MO(-1)>),\n",
       " Holiday: July 4th (month=7, day=4, observance=<function nearest_workday at 0x000001DBF1FA3600>),\n",
       " Holiday: Columbus Day (month=10, day=1, offset=<DateOffset: weekday=MO(+2)>)]"
      ]
     },
     "execution_count": 245,
     "metadata": {},
     "output_type": "execute_result"
    }
   ],
   "source": [
    "new_cal = HolidayCalendarFactory(\"NewExampleCalendar\", cal, USLaborDay)\n",
    "new_cal.rules"
   ]
  },
  {
   "cell_type": "markdown",
   "id": "879ddb17",
   "metadata": {},
   "source": [
    "#### Time Series-related instance methods\n",
    "#### Shifting / lagging\n",
    "- One may want to shift or lag the values in a time series back and forward in time. The method for this is shift(), which is available on all of the pandas objects."
   ]
  },
  {
   "cell_type": "code",
   "execution_count": 246,
   "id": "d837c9aa",
   "metadata": {},
   "outputs": [
    {
     "data": {
      "text/plain": [
       "2012-01-01    NaN\n",
       "2012-01-02    0.0\n",
       "2012-01-03    1.0\n",
       "Freq: D, dtype: float64"
      ]
     },
     "execution_count": 246,
     "metadata": {},
     "output_type": "execute_result"
    }
   ],
   "source": [
    "ts = pd.Series(range(len(rng)), index=rng)\n",
    "ts = ts[:5]\n",
    "ts.shift(1)"
   ]
  },
  {
   "cell_type": "markdown",
   "id": "f6f0b430",
   "metadata": {},
   "source": [
    "- The shift method accepts an freq argument which can accept a DateOffset class or other timedelta-like object or also an offset alias.\n",
    "\n",
    "- When freq is specified, shift method changes all the dates in the index rather than changing the alignment of the data and the index:"
   ]
  },
  {
   "cell_type": "code",
   "execution_count": 247,
   "id": "49891a5e",
   "metadata": {},
   "outputs": [
    {
     "data": {
      "text/plain": [
       "2012-01-06    0\n",
       "2012-01-07    1\n",
       "2012-01-08    2\n",
       "Freq: D, dtype: int64"
      ]
     },
     "execution_count": 247,
     "metadata": {},
     "output_type": "execute_result"
    }
   ],
   "source": [
    "ts.shift(5, freq=\"D\")"
   ]
  },
  {
   "cell_type": "code",
   "execution_count": 248,
   "id": "8e7a94d8",
   "metadata": {},
   "outputs": [
    {
     "data": {
      "text/plain": [
       "2012-01-06    0\n",
       "2012-01-09    1\n",
       "2012-01-10    2\n",
       "dtype: int64"
      ]
     },
     "execution_count": 248,
     "metadata": {},
     "output_type": "execute_result"
    }
   ],
   "source": [
    "ts.shift(5, freq=pd.offsets.BDay())"
   ]
  },
  {
   "cell_type": "code",
   "execution_count": 249,
   "id": "a4108424",
   "metadata": {},
   "outputs": [
    {
     "data": {
      "text/plain": [
       "2012-05-31    0\n",
       "2012-05-31    1\n",
       "2012-05-31    2\n",
       "dtype: int64"
      ]
     },
     "execution_count": 249,
     "metadata": {},
     "output_type": "execute_result"
    }
   ],
   "source": [
    "ts.shift(5, freq=\"BME\")"
   ]
  },
  {
   "cell_type": "markdown",
   "id": "544f38d0",
   "metadata": {},
   "source": [
    "- **Note** that with when freq is specified, the leading entry is no longer NaN because the data is not being realigned.\n",
    "\n",
    "#### Frequency conversion\n",
    "- The primary function for changing frequencies is the asfreq() method. For a DatetimeIndex, this is basically just a thin, but convenient wrapper around reindex() which generates a date_range and calls reindex."
   ]
  },
  {
   "cell_type": "code",
   "execution_count": 250,
   "id": "b586f0b5",
   "metadata": {},
   "outputs": [
    {
     "data": {
      "text/plain": [
       "2010-01-01   -1.344358\n",
       "2010-01-06    0.117293\n",
       "2010-01-11    1.168115\n",
       "Freq: 3B, dtype: float64"
      ]
     },
     "execution_count": 250,
     "metadata": {},
     "output_type": "execute_result"
    }
   ],
   "source": [
    "dr = pd.date_range(\"1/1/2010\", periods=3, freq=3 * pd.offsets.BDay())\n",
    "ts = pd.Series(np.random.randn(3), index=dr)\n",
    "ts"
   ]
  },
  {
   "cell_type": "code",
   "execution_count": 251,
   "id": "fb2e719f",
   "metadata": {},
   "outputs": [
    {
     "data": {
      "text/plain": [
       "2010-01-01   -1.344358\n",
       "2010-01-04         NaN\n",
       "2010-01-05         NaN\n",
       "2010-01-06    0.117293\n",
       "2010-01-07         NaN\n",
       "2010-01-08         NaN\n",
       "2010-01-11    1.168115\n",
       "Freq: B, dtype: float64"
      ]
     },
     "execution_count": 251,
     "metadata": {},
     "output_type": "execute_result"
    }
   ],
   "source": [
    "ts.asfreq(pd.offsets.BDay())"
   ]
  },
  {
   "cell_type": "markdown",
   "id": "3c0175b1",
   "metadata": {},
   "source": [
    "- asfreq provides a further convenience so you can specify an interpolation method for any gaps that may appear after the frequency conversion."
   ]
  },
  {
   "cell_type": "code",
   "execution_count": 252,
   "id": "b7ca1310",
   "metadata": {},
   "outputs": [
    {
     "data": {
      "text/plain": [
       "2010-01-01   -1.344358\n",
       "2010-01-04   -1.344358\n",
       "2010-01-05   -1.344358\n",
       "2010-01-06    0.117293\n",
       "2010-01-07    0.117293\n",
       "2010-01-08    0.117293\n",
       "2010-01-11    1.168115\n",
       "Freq: B, dtype: float64"
      ]
     },
     "execution_count": 252,
     "metadata": {},
     "output_type": "execute_result"
    }
   ],
   "source": [
    "ts.asfreq(pd.offsets.BDay(), method=\"pad\")"
   ]
  },
  {
   "cell_type": "markdown",
   "id": "f143f2f6",
   "metadata": {},
   "source": [
    "#### Filling forward / backward\n",
    "- Related to asfreq and reindex is fillna(), which is documented in the missing data section.\n",
    "\n",
    "#### Converting to Python datetimes\n",
    "- DatetimeIndex can be converted to an array of Python native datetime.datetime objects using the to_pydatetime method.\n",
    "\n",
    "#### Resampling\n",
    "- pandas has a simple, powerful, and efficient functionality for performing resampling operations during frequency conversion (e.g., converting secondly data into 5-minutely data). This is extremely common in, but not limited to, financial applications.\n",
    "\n",
    "- resample() is a time-based groupby, followed by a reduction method on each of its groups. See some cookbook examples for some advanced strategies.\n",
    "\n",
    "- The resample() method can be used directly from DataFrameGroupBy objects, see the groupby docs.\n",
    "\n",
    "#### Basics"
   ]
  },
  {
   "cell_type": "code",
   "execution_count": 253,
   "id": "ea29cc60",
   "metadata": {},
   "outputs": [
    {
     "data": {
      "text/plain": [
       "2012-01-01    24492\n",
       "Freq: 5min, dtype: int32"
      ]
     },
     "execution_count": 253,
     "metadata": {},
     "output_type": "execute_result"
    }
   ],
   "source": [
    "rng = pd.date_range(\"1/1/2012\", periods=100, freq=\"s\")\n",
    "ts = pd.Series(np.random.randint(0, 500, len(rng)), index=rng)\n",
    "ts.resample(\"5Min\").sum()"
   ]
  },
  {
   "cell_type": "markdown",
   "id": "ee941e1e",
   "metadata": {},
   "source": [
    "- The resample function is very flexible and allows you to specify many different parameters to control the frequency conversion and resampling operation.\n",
    "\n",
    "- Any built-in method available via GroupBy is available as a method of the returned object, including sum, mean, std, sem, max, min, median, first, last, ohlc:"
   ]
  },
  {
   "cell_type": "code",
   "execution_count": 254,
   "id": "41abf380",
   "metadata": {},
   "outputs": [
    {
     "data": {
      "text/plain": [
       "2012-01-01    244.92\n",
       "Freq: 5min, dtype: float64"
      ]
     },
     "execution_count": 254,
     "metadata": {},
     "output_type": "execute_result"
    }
   ],
   "source": [
    "ts.resample(\"5Min\").mean()\n"
   ]
  },
  {
   "cell_type": "code",
   "execution_count": 255,
   "id": "5d51a233",
   "metadata": {},
   "outputs": [
    {
     "data": {
      "text/html": [
       "<div>\n",
       "<style scoped>\n",
       "    .dataframe tbody tr th:only-of-type {\n",
       "        vertical-align: middle;\n",
       "    }\n",
       "\n",
       "    .dataframe tbody tr th {\n",
       "        vertical-align: top;\n",
       "    }\n",
       "\n",
       "    .dataframe thead th {\n",
       "        text-align: right;\n",
       "    }\n",
       "</style>\n",
       "<table border=\"1\" class=\"dataframe\">\n",
       "  <thead>\n",
       "    <tr style=\"text-align: right;\">\n",
       "      <th></th>\n",
       "      <th>open</th>\n",
       "      <th>high</th>\n",
       "      <th>low</th>\n",
       "      <th>close</th>\n",
       "    </tr>\n",
       "  </thead>\n",
       "  <tbody>\n",
       "    <tr>\n",
       "      <th>2012-01-01</th>\n",
       "      <td>102</td>\n",
       "      <td>493</td>\n",
       "      <td>0</td>\n",
       "      <td>314</td>\n",
       "    </tr>\n",
       "  </tbody>\n",
       "</table>\n",
       "</div>"
      ],
      "text/plain": [
       "            open  high  low  close\n",
       "2012-01-01   102   493    0    314"
      ]
     },
     "execution_count": 255,
     "metadata": {},
     "output_type": "execute_result"
    }
   ],
   "source": [
    "ts.resample(\"5Min\").ohlc()"
   ]
  },
  {
   "cell_type": "code",
   "execution_count": 256,
   "id": "7ecbd416",
   "metadata": {},
   "outputs": [
    {
     "data": {
      "text/plain": [
       "2012-01-01    493\n",
       "Freq: 5min, dtype: int32"
      ]
     },
     "execution_count": 256,
     "metadata": {},
     "output_type": "execute_result"
    }
   ],
   "source": [
    "ts.resample(\"5Min\").max()"
   ]
  },
  {
   "cell_type": "markdown",
   "id": "76db4842",
   "metadata": {},
   "source": [
    "- For downsampling, closed can be set to ‘left’ or ‘right’ to specify which end of the interval is closed:"
   ]
  },
  {
   "cell_type": "code",
   "execution_count": 257,
   "id": "1bcfa593",
   "metadata": {},
   "outputs": [
    {
     "data": {
      "text/plain": [
       "2011-12-31 23:55:00    102.000000\n",
       "2012-01-01 00:00:00    246.363636\n",
       "Freq: 5min, dtype: float64"
      ]
     },
     "execution_count": 257,
     "metadata": {},
     "output_type": "execute_result"
    }
   ],
   "source": [
    "ts.resample(\"5Min\", closed=\"right\").mean()"
   ]
  },
  {
   "cell_type": "code",
   "execution_count": 258,
   "id": "68c4e91e",
   "metadata": {},
   "outputs": [
    {
     "data": {
      "text/plain": [
       "2012-01-01    244.92\n",
       "Freq: 5min, dtype: float64"
      ]
     },
     "execution_count": 258,
     "metadata": {},
     "output_type": "execute_result"
    }
   ],
   "source": [
    "ts.resample(\"5Min\", closed=\"left\").mean()"
   ]
  },
  {
   "cell_type": "markdown",
   "id": "aaaf3a23",
   "metadata": {},
   "source": [
    "- Parameters like label are used to manipulate the resulting labels. label specifies whether the result is labeled with the beginning or the end of the interval."
   ]
  },
  {
   "cell_type": "code",
   "execution_count": 259,
   "id": "76256b6f",
   "metadata": {},
   "outputs": [
    {
     "data": {
      "text/plain": [
       "2012-01-01    244.92\n",
       "Freq: 5min, dtype: float64"
      ]
     },
     "execution_count": 259,
     "metadata": {},
     "output_type": "execute_result"
    }
   ],
   "source": [
    "ts.resample(\"5Min\").mean()  # by default label='left'"
   ]
  },
  {
   "cell_type": "code",
   "execution_count": 260,
   "id": "b55f1af5",
   "metadata": {},
   "outputs": [
    {
     "data": {
      "text/plain": [
       "2012-01-01    244.92\n",
       "Freq: 5min, dtype: float64"
      ]
     },
     "execution_count": 260,
     "metadata": {},
     "output_type": "execute_result"
    }
   ],
   "source": [
    "ts.resample(\"5Min\", label=\"left\").mean()"
   ]
  },
  {
   "cell_type": "markdown",
   "id": "6cffa70b",
   "metadata": {},
   "source": [
    "- **Warning**: The default values for label and closed is ‘left’ for all frequency offsets except for ‘ME’, ‘YE’, ‘QE’, ‘BME’, ‘BYE’, ‘BQE’, and ‘W’ which all have a default of ‘right’.\n",
    "\n",
    "- This might unintendedly lead to looking ahead, where the value for a later time is pulled back to a previous time as in the following example with the BusinessDay frequency:"
   ]
  },
  {
   "cell_type": "code",
   "execution_count": 261,
   "id": "5f2151f4",
   "metadata": {},
   "outputs": [
    {
     "data": {
      "text/plain": [
       "2000-01-01     Saturday\n",
       "2000-01-02       Sunday\n",
       "2000-01-03          NaN\n",
       "2000-01-04      Tuesday\n",
       "2000-01-05    Wednesday\n",
       "Freq: D, dtype: object"
      ]
     },
     "execution_count": 261,
     "metadata": {},
     "output_type": "execute_result"
    }
   ],
   "source": [
    "s = pd.date_range(\"2000-01-01\", \"2000-01-05\").to_series()\n",
    "s.iloc[2] = pd.NaT\n",
    "s.dt.day_name()"
   ]
  },
  {
   "cell_type": "code",
   "execution_count": 262,
   "id": "bcf7f9b5",
   "metadata": {},
   "outputs": [
    {
     "data": {
      "text/plain": [
       "1999-12-31       Sunday\n",
       "2000-01-03          NaN\n",
       "2000-01-04      Tuesday\n",
       "2000-01-05    Wednesday\n",
       "Freq: B, dtype: object"
      ]
     },
     "execution_count": 262,
     "metadata": {},
     "output_type": "execute_result"
    }
   ],
   "source": [
    "# default: label='left', closed='left'\n",
    "s.resample(\"B\").last().dt.day_name()"
   ]
  },
  {
   "cell_type": "markdown",
   "id": "30249f56",
   "metadata": {},
   "source": [
    "- Notice how the value for Sunday got pulled back to the previous Friday. To get the behavior where the value for Sunday is pushed to Monday, use instead"
   ]
  },
  {
   "cell_type": "code",
   "execution_count": 263,
   "id": "4cfaa3b2",
   "metadata": {},
   "outputs": [
    {
     "data": {
      "text/plain": [
       "2000-01-03       Sunday\n",
       "2000-01-04      Tuesday\n",
       "2000-01-05    Wednesday\n",
       "2000-01-06          NaN\n",
       "Freq: B, dtype: object"
      ]
     },
     "execution_count": 263,
     "metadata": {},
     "output_type": "execute_result"
    }
   ],
   "source": [
    "s.resample(\"B\", label=\"right\", closed=\"right\").last().dt.day_name()\n"
   ]
  },
  {
   "cell_type": "markdown",
   "id": "1b6db3e5",
   "metadata": {},
   "source": [
    "- The axis parameter can be set to 0 or 1 and allows you to resample the specified axis for a DataFrame.\n",
    "\n",
    "- kind can be set to ‘timestamp’ or ‘period’ to convert the resulting index to/from timestamp and time span representations. By default resample retains the input representation.\n",
    "\n",
    "- convention can be set to ‘start’ or ‘end’ when resampling period data (detail below). It specifies how low frequency periods are converted to higher frequency periods.\n",
    "\n",
    "#### Upsampling\n",
    "- For upsampling, you can specify a way to upsample and the limit parameter to interpolate over the gaps that are created:"
   ]
  },
  {
   "cell_type": "code",
   "execution_count": 264,
   "id": "563b2560",
   "metadata": {},
   "outputs": [
    {
     "data": {
      "text/plain": [
       "2012-01-01 00:00:00.000    102.0\n",
       "2012-01-01 00:00:00.250      NaN\n",
       "2012-01-01 00:00:00.500      NaN\n",
       "2012-01-01 00:00:00.750      NaN\n",
       "2012-01-01 00:00:01.000    127.0\n",
       "Freq: 250ms, dtype: float64"
      ]
     },
     "execution_count": 264,
     "metadata": {},
     "output_type": "execute_result"
    }
   ],
   "source": [
    "# from secondly to every 250 milliseconds\n",
    "ts[:2].resample(\"250ms\").asfreq()"
   ]
  },
  {
   "cell_type": "code",
   "execution_count": 265,
   "id": "934e73c6",
   "metadata": {},
   "outputs": [
    {
     "data": {
      "text/plain": [
       "2012-01-01 00:00:00.000    102\n",
       "2012-01-01 00:00:00.250    102\n",
       "2012-01-01 00:00:00.500    102\n",
       "2012-01-01 00:00:00.750    102\n",
       "2012-01-01 00:00:01.000    127\n",
       "Freq: 250ms, dtype: int32"
      ]
     },
     "execution_count": 265,
     "metadata": {},
     "output_type": "execute_result"
    }
   ],
   "source": [
    "ts[:2].resample(\"250ms\").ffill()"
   ]
  },
  {
   "cell_type": "code",
   "execution_count": 266,
   "id": "70c979cb",
   "metadata": {},
   "outputs": [
    {
     "data": {
      "text/plain": [
       "2012-01-01 00:00:00.000    102.0\n",
       "2012-01-01 00:00:00.250    102.0\n",
       "2012-01-01 00:00:00.500    102.0\n",
       "2012-01-01 00:00:00.750      NaN\n",
       "2012-01-01 00:00:01.000    127.0\n",
       "Freq: 250ms, dtype: float64"
      ]
     },
     "execution_count": 266,
     "metadata": {},
     "output_type": "execute_result"
    }
   ],
   "source": [
    "ts[:2].resample(\"250ms\").ffill(limit=2)"
   ]
  },
  {
   "cell_type": "markdown",
   "id": "19d0c0b1",
   "metadata": {},
   "source": [
    "#### Sparse resampling\n",
    "- Sparse timeseries are the ones where you have a lot fewer points relative to the amount of time you are looking to resample. Naively upsampling a sparse series can potentially generate lots of intermediate values. When you don’t want to use a method to fill these values, e.g. fill_method is None, then intermediate values will be filled with NaN.\n",
    "\n",
    "- Since resample is a time-based groupby, the following is a method to efficiently resample only the groups that are not all NaN."
   ]
  },
  {
   "cell_type": "code",
   "execution_count": 267,
   "id": "fd389cdc",
   "metadata": {},
   "outputs": [],
   "source": [
    "rng = pd.date_range(\"2014-1-1\", periods=100, freq=\"D\") + pd.Timedelta(\"1s\")\n",
    "ts = pd.Series(range(100), index=rng)"
   ]
  },
  {
   "cell_type": "markdown",
   "id": "c634bd91",
   "metadata": {},
   "source": [
    "- If we want to resample to the full range of the series:"
   ]
  },
  {
   "cell_type": "code",
   "execution_count": 268,
   "id": "de53e040",
   "metadata": {},
   "outputs": [
    {
     "data": {
      "text/plain": [
       "2014-01-01 00:00:00     0\n",
       "2014-01-01 00:03:00     0\n",
       "2014-01-01 00:06:00     0\n",
       "2014-01-01 00:09:00     0\n",
       "2014-01-01 00:12:00     0\n",
       "                       ..\n",
       "2014-04-09 23:48:00     0\n",
       "2014-04-09 23:51:00     0\n",
       "2014-04-09 23:54:00     0\n",
       "2014-04-09 23:57:00     0\n",
       "2014-04-10 00:00:00    99\n",
       "Freq: 3min, Length: 47521, dtype: int64"
      ]
     },
     "execution_count": 268,
     "metadata": {},
     "output_type": "execute_result"
    }
   ],
   "source": [
    "ts.resample(\"3min\").sum()"
   ]
  },
  {
   "cell_type": "markdown",
   "id": "d78ae8a6",
   "metadata": {},
   "source": [
    "- We can instead only resample those groups where we have points as follows:"
   ]
  },
  {
   "cell_type": "code",
   "execution_count": 269,
   "id": "0506c912",
   "metadata": {},
   "outputs": [
    {
     "data": {
      "text/plain": [
       "2014-01-01     0\n",
       "2014-01-02     1\n",
       "2014-01-03     2\n",
       "2014-01-04     3\n",
       "2014-01-05     4\n",
       "              ..\n",
       "2014-04-06    95\n",
       "2014-04-07    96\n",
       "2014-04-08    97\n",
       "2014-04-09    98\n",
       "2014-04-10    99\n",
       "Length: 100, dtype: int64"
      ]
     },
     "execution_count": 269,
     "metadata": {},
     "output_type": "execute_result"
    }
   ],
   "source": [
    "from functools import partial\n",
    "from pandas.tseries.frequencies import to_offset\n",
    "\n",
    "def round(t, freq):\n",
    "    freq = to_offset(freq)\n",
    "    td = pd.Timedelta(freq)\n",
    "    return pd.Timestamp((t.value // td.value) * td.value)\n",
    "\n",
    "ts.groupby(partial(round, freq=\"3min\")).sum()"
   ]
  },
  {
   "cell_type": "markdown",
   "id": "7694512c",
   "metadata": {},
   "source": [
    "#### Aggregation\n",
    "- The resample() method returns a pandas.api.typing.Resampler instance. Similar to the aggregating API, groupby API, and the window API, a Resampler can be selectively resampled.\n",
    "\n",
    "- Resampling a DataFrame, the default will be to act on all columns with the same function."
   ]
  },
  {
   "cell_type": "code",
   "execution_count": 270,
   "id": "ce2bfc4f",
   "metadata": {},
   "outputs": [
    {
     "data": {
      "text/html": [
       "<div>\n",
       "<style scoped>\n",
       "    .dataframe tbody tr th:only-of-type {\n",
       "        vertical-align: middle;\n",
       "    }\n",
       "\n",
       "    .dataframe tbody tr th {\n",
       "        vertical-align: top;\n",
       "    }\n",
       "\n",
       "    .dataframe thead th {\n",
       "        text-align: right;\n",
       "    }\n",
       "</style>\n",
       "<table border=\"1\" class=\"dataframe\">\n",
       "  <thead>\n",
       "    <tr style=\"text-align: right;\">\n",
       "      <th></th>\n",
       "      <th>A</th>\n",
       "      <th>B</th>\n",
       "      <th>C</th>\n",
       "    </tr>\n",
       "  </thead>\n",
       "  <tbody>\n",
       "    <tr>\n",
       "      <th>2012-01-01 00:00:00</th>\n",
       "      <td>-0.064299</td>\n",
       "      <td>-0.086650</td>\n",
       "      <td>0.035856</td>\n",
       "    </tr>\n",
       "    <tr>\n",
       "      <th>2012-01-01 00:03:00</th>\n",
       "      <td>0.034916</td>\n",
       "      <td>0.031799</td>\n",
       "      <td>0.040840</td>\n",
       "    </tr>\n",
       "    <tr>\n",
       "      <th>2012-01-01 00:06:00</th>\n",
       "      <td>0.006057</td>\n",
       "      <td>-0.146410</td>\n",
       "      <td>0.056525</td>\n",
       "    </tr>\n",
       "    <tr>\n",
       "      <th>2012-01-01 00:09:00</th>\n",
       "      <td>-0.064865</td>\n",
       "      <td>0.069545</td>\n",
       "      <td>0.105333</td>\n",
       "    </tr>\n",
       "    <tr>\n",
       "      <th>2012-01-01 00:12:00</th>\n",
       "      <td>-0.101904</td>\n",
       "      <td>-0.092844</td>\n",
       "      <td>0.013785</td>\n",
       "    </tr>\n",
       "    <tr>\n",
       "      <th>2012-01-01 00:15:00</th>\n",
       "      <td>0.037054</td>\n",
       "      <td>0.012322</td>\n",
       "      <td>-0.057477</td>\n",
       "    </tr>\n",
       "  </tbody>\n",
       "</table>\n",
       "</div>"
      ],
      "text/plain": [
       "                            A         B         C\n",
       "2012-01-01 00:00:00 -0.064299 -0.086650  0.035856\n",
       "2012-01-01 00:03:00  0.034916  0.031799  0.040840\n",
       "2012-01-01 00:06:00  0.006057 -0.146410  0.056525\n",
       "2012-01-01 00:09:00 -0.064865  0.069545  0.105333\n",
       "2012-01-01 00:12:00 -0.101904 -0.092844  0.013785\n",
       "2012-01-01 00:15:00  0.037054  0.012322 -0.057477"
      ]
     },
     "execution_count": 270,
     "metadata": {},
     "output_type": "execute_result"
    }
   ],
   "source": [
    "df = pd.DataFrame(\n",
    "    np.random.randn(1000, 3),\n",
    "    index=pd.date_range(\"1/1/2012\", freq=\"s\", periods=1000),\n",
    "    columns=[\"A\", \"B\", \"C\"],\n",
    ")\n",
    "r = df.resample(\"3min\")\n",
    "r.mean()"
   ]
  },
  {
   "cell_type": "markdown",
   "id": "e8fb5fdf",
   "metadata": {},
   "source": [
    "- We can select a specific column or columns using standard getitem."
   ]
  },
  {
   "cell_type": "code",
   "execution_count": 271,
   "id": "72ff179d",
   "metadata": {},
   "outputs": [
    {
     "data": {
      "text/plain": [
       "2012-01-01 00:00:00   -0.064299\n",
       "2012-01-01 00:03:00    0.034916\n",
       "2012-01-01 00:06:00    0.006057\n",
       "2012-01-01 00:09:00   -0.064865\n",
       "2012-01-01 00:12:00   -0.101904\n",
       "2012-01-01 00:15:00    0.037054\n",
       "Freq: 3min, Name: A, dtype: float64"
      ]
     },
     "execution_count": 271,
     "metadata": {},
     "output_type": "execute_result"
    }
   ],
   "source": [
    "r[\"A\"].mean()"
   ]
  },
  {
   "cell_type": "code",
   "execution_count": 272,
   "id": "66e9f29f",
   "metadata": {},
   "outputs": [
    {
     "data": {
      "text/html": [
       "<div>\n",
       "<style scoped>\n",
       "    .dataframe tbody tr th:only-of-type {\n",
       "        vertical-align: middle;\n",
       "    }\n",
       "\n",
       "    .dataframe tbody tr th {\n",
       "        vertical-align: top;\n",
       "    }\n",
       "\n",
       "    .dataframe thead th {\n",
       "        text-align: right;\n",
       "    }\n",
       "</style>\n",
       "<table border=\"1\" class=\"dataframe\">\n",
       "  <thead>\n",
       "    <tr style=\"text-align: right;\">\n",
       "      <th></th>\n",
       "      <th>A</th>\n",
       "      <th>B</th>\n",
       "    </tr>\n",
       "  </thead>\n",
       "  <tbody>\n",
       "    <tr>\n",
       "      <th>2012-01-01 00:00:00</th>\n",
       "      <td>-0.064299</td>\n",
       "      <td>-0.086650</td>\n",
       "    </tr>\n",
       "    <tr>\n",
       "      <th>2012-01-01 00:03:00</th>\n",
       "      <td>0.034916</td>\n",
       "      <td>0.031799</td>\n",
       "    </tr>\n",
       "    <tr>\n",
       "      <th>2012-01-01 00:06:00</th>\n",
       "      <td>0.006057</td>\n",
       "      <td>-0.146410</td>\n",
       "    </tr>\n",
       "    <tr>\n",
       "      <th>2012-01-01 00:09:00</th>\n",
       "      <td>-0.064865</td>\n",
       "      <td>0.069545</td>\n",
       "    </tr>\n",
       "    <tr>\n",
       "      <th>2012-01-01 00:12:00</th>\n",
       "      <td>-0.101904</td>\n",
       "      <td>-0.092844</td>\n",
       "    </tr>\n",
       "    <tr>\n",
       "      <th>2012-01-01 00:15:00</th>\n",
       "      <td>0.037054</td>\n",
       "      <td>0.012322</td>\n",
       "    </tr>\n",
       "  </tbody>\n",
       "</table>\n",
       "</div>"
      ],
      "text/plain": [
       "                            A         B\n",
       "2012-01-01 00:00:00 -0.064299 -0.086650\n",
       "2012-01-01 00:03:00  0.034916  0.031799\n",
       "2012-01-01 00:06:00  0.006057 -0.146410\n",
       "2012-01-01 00:09:00 -0.064865  0.069545\n",
       "2012-01-01 00:12:00 -0.101904 -0.092844\n",
       "2012-01-01 00:15:00  0.037054  0.012322"
      ]
     },
     "execution_count": 272,
     "metadata": {},
     "output_type": "execute_result"
    }
   ],
   "source": [
    "r[[\"A\", \"B\"]].mean()"
   ]
  },
  {
   "cell_type": "markdown",
   "id": "341d2c95",
   "metadata": {},
   "source": [
    "- You can pass a list or dict of functions to do aggregation with, outputting a DataFrame:"
   ]
  },
  {
   "cell_type": "code",
   "execution_count": 273,
   "id": "6bd0d83e",
   "metadata": {},
   "outputs": [
    {
     "data": {
      "text/html": [
       "<div>\n",
       "<style scoped>\n",
       "    .dataframe tbody tr th:only-of-type {\n",
       "        vertical-align: middle;\n",
       "    }\n",
       "\n",
       "    .dataframe tbody tr th {\n",
       "        vertical-align: top;\n",
       "    }\n",
       "\n",
       "    .dataframe thead th {\n",
       "        text-align: right;\n",
       "    }\n",
       "</style>\n",
       "<table border=\"1\" class=\"dataframe\">\n",
       "  <thead>\n",
       "    <tr style=\"text-align: right;\">\n",
       "      <th></th>\n",
       "      <th>sum</th>\n",
       "      <th>mean</th>\n",
       "      <th>std</th>\n",
       "    </tr>\n",
       "  </thead>\n",
       "  <tbody>\n",
       "    <tr>\n",
       "      <th>2012-01-01 00:00:00</th>\n",
       "      <td>-11.573823</td>\n",
       "      <td>-0.064299</td>\n",
       "      <td>0.939240</td>\n",
       "    </tr>\n",
       "    <tr>\n",
       "      <th>2012-01-01 00:03:00</th>\n",
       "      <td>6.284858</td>\n",
       "      <td>0.034916</td>\n",
       "      <td>0.946683</td>\n",
       "    </tr>\n",
       "    <tr>\n",
       "      <th>2012-01-01 00:06:00</th>\n",
       "      <td>1.090172</td>\n",
       "      <td>0.006057</td>\n",
       "      <td>0.966708</td>\n",
       "    </tr>\n",
       "    <tr>\n",
       "      <th>2012-01-01 00:09:00</th>\n",
       "      <td>-11.675672</td>\n",
       "      <td>-0.064865</td>\n",
       "      <td>0.955326</td>\n",
       "    </tr>\n",
       "    <tr>\n",
       "      <th>2012-01-01 00:12:00</th>\n",
       "      <td>-18.342684</td>\n",
       "      <td>-0.101904</td>\n",
       "      <td>0.885761</td>\n",
       "    </tr>\n",
       "    <tr>\n",
       "      <th>2012-01-01 00:15:00</th>\n",
       "      <td>3.705426</td>\n",
       "      <td>0.037054</td>\n",
       "      <td>0.877545</td>\n",
       "    </tr>\n",
       "  </tbody>\n",
       "</table>\n",
       "</div>"
      ],
      "text/plain": [
       "                           sum      mean       std\n",
       "2012-01-01 00:00:00 -11.573823 -0.064299  0.939240\n",
       "2012-01-01 00:03:00   6.284858  0.034916  0.946683\n",
       "2012-01-01 00:06:00   1.090172  0.006057  0.966708\n",
       "2012-01-01 00:09:00 -11.675672 -0.064865  0.955326\n",
       "2012-01-01 00:12:00 -18.342684 -0.101904  0.885761\n",
       "2012-01-01 00:15:00   3.705426  0.037054  0.877545"
      ]
     },
     "execution_count": 273,
     "metadata": {},
     "output_type": "execute_result"
    }
   ],
   "source": [
    "r[\"A\"].agg([\"sum\", \"mean\", \"std\"])"
   ]
  },
  {
   "cell_type": "markdown",
   "id": "b80ac549",
   "metadata": {},
   "source": [
    "- On a resampled DataFrame, you can pass a list of functions to apply to each column, which produces an aggregated result with a hierarchical index:"
   ]
  },
  {
   "cell_type": "code",
   "execution_count": 274,
   "id": "d05d8f3c",
   "metadata": {},
   "outputs": [
    {
     "data": {
      "text/html": [
       "<div>\n",
       "<style scoped>\n",
       "    .dataframe tbody tr th:only-of-type {\n",
       "        vertical-align: middle;\n",
       "    }\n",
       "\n",
       "    .dataframe tbody tr th {\n",
       "        vertical-align: top;\n",
       "    }\n",
       "\n",
       "    .dataframe thead tr th {\n",
       "        text-align: left;\n",
       "    }\n",
       "</style>\n",
       "<table border=\"1\" class=\"dataframe\">\n",
       "  <thead>\n",
       "    <tr>\n",
       "      <th></th>\n",
       "      <th colspan=\"2\" halign=\"left\">A</th>\n",
       "      <th colspan=\"2\" halign=\"left\">B</th>\n",
       "      <th colspan=\"2\" halign=\"left\">C</th>\n",
       "    </tr>\n",
       "    <tr>\n",
       "      <th></th>\n",
       "      <th>sum</th>\n",
       "      <th>mean</th>\n",
       "      <th>sum</th>\n",
       "      <th>mean</th>\n",
       "      <th>sum</th>\n",
       "      <th>mean</th>\n",
       "    </tr>\n",
       "  </thead>\n",
       "  <tbody>\n",
       "    <tr>\n",
       "      <th>2012-01-01 00:00:00</th>\n",
       "      <td>-11.573823</td>\n",
       "      <td>-0.064299</td>\n",
       "      <td>-15.596999</td>\n",
       "      <td>-0.086650</td>\n",
       "      <td>6.454038</td>\n",
       "      <td>0.035856</td>\n",
       "    </tr>\n",
       "    <tr>\n",
       "      <th>2012-01-01 00:03:00</th>\n",
       "      <td>6.284858</td>\n",
       "      <td>0.034916</td>\n",
       "      <td>5.723804</td>\n",
       "      <td>0.031799</td>\n",
       "      <td>7.351267</td>\n",
       "      <td>0.040840</td>\n",
       "    </tr>\n",
       "    <tr>\n",
       "      <th>2012-01-01 00:06:00</th>\n",
       "      <td>1.090172</td>\n",
       "      <td>0.006057</td>\n",
       "      <td>-26.353875</td>\n",
       "      <td>-0.146410</td>\n",
       "      <td>10.174469</td>\n",
       "      <td>0.056525</td>\n",
       "    </tr>\n",
       "    <tr>\n",
       "      <th>2012-01-01 00:09:00</th>\n",
       "      <td>-11.675672</td>\n",
       "      <td>-0.064865</td>\n",
       "      <td>12.518029</td>\n",
       "      <td>0.069545</td>\n",
       "      <td>18.959997</td>\n",
       "      <td>0.105333</td>\n",
       "    </tr>\n",
       "    <tr>\n",
       "      <th>2012-01-01 00:12:00</th>\n",
       "      <td>-18.342684</td>\n",
       "      <td>-0.101904</td>\n",
       "      <td>-16.711850</td>\n",
       "      <td>-0.092844</td>\n",
       "      <td>2.481241</td>\n",
       "      <td>0.013785</td>\n",
       "    </tr>\n",
       "    <tr>\n",
       "      <th>2012-01-01 00:15:00</th>\n",
       "      <td>3.705426</td>\n",
       "      <td>0.037054</td>\n",
       "      <td>1.232212</td>\n",
       "      <td>0.012322</td>\n",
       "      <td>-5.747717</td>\n",
       "      <td>-0.057477</td>\n",
       "    </tr>\n",
       "  </tbody>\n",
       "</table>\n",
       "</div>"
      ],
      "text/plain": [
       "                             A                    B                    C  \\\n",
       "                           sum      mean        sum      mean        sum   \n",
       "2012-01-01 00:00:00 -11.573823 -0.064299 -15.596999 -0.086650   6.454038   \n",
       "2012-01-01 00:03:00   6.284858  0.034916   5.723804  0.031799   7.351267   \n",
       "2012-01-01 00:06:00   1.090172  0.006057 -26.353875 -0.146410  10.174469   \n",
       "2012-01-01 00:09:00 -11.675672 -0.064865  12.518029  0.069545  18.959997   \n",
       "2012-01-01 00:12:00 -18.342684 -0.101904 -16.711850 -0.092844   2.481241   \n",
       "2012-01-01 00:15:00   3.705426  0.037054   1.232212  0.012322  -5.747717   \n",
       "\n",
       "                               \n",
       "                         mean  \n",
       "2012-01-01 00:00:00  0.035856  \n",
       "2012-01-01 00:03:00  0.040840  \n",
       "2012-01-01 00:06:00  0.056525  \n",
       "2012-01-01 00:09:00  0.105333  \n",
       "2012-01-01 00:12:00  0.013785  \n",
       "2012-01-01 00:15:00 -0.057477  "
      ]
     },
     "execution_count": 274,
     "metadata": {},
     "output_type": "execute_result"
    }
   ],
   "source": [
    "r.agg([\"sum\", \"mean\"])"
   ]
  },
  {
   "cell_type": "markdown",
   "id": "7d2f19e3",
   "metadata": {},
   "source": [
    "- By passing a dict to aggregate you can apply a different aggregation to the columns of a DataFrame:"
   ]
  },
  {
   "cell_type": "code",
   "execution_count": 275,
   "id": "23f4a0c1",
   "metadata": {},
   "outputs": [
    {
     "data": {
      "text/html": [
       "<div>\n",
       "<style scoped>\n",
       "    .dataframe tbody tr th:only-of-type {\n",
       "        vertical-align: middle;\n",
       "    }\n",
       "\n",
       "    .dataframe tbody tr th {\n",
       "        vertical-align: top;\n",
       "    }\n",
       "\n",
       "    .dataframe thead th {\n",
       "        text-align: right;\n",
       "    }\n",
       "</style>\n",
       "<table border=\"1\" class=\"dataframe\">\n",
       "  <thead>\n",
       "    <tr style=\"text-align: right;\">\n",
       "      <th></th>\n",
       "      <th>A</th>\n",
       "      <th>B</th>\n",
       "    </tr>\n",
       "  </thead>\n",
       "  <tbody>\n",
       "    <tr>\n",
       "      <th>2012-01-01 00:00:00</th>\n",
       "      <td>-11.573823</td>\n",
       "      <td>1.028164</td>\n",
       "    </tr>\n",
       "    <tr>\n",
       "      <th>2012-01-01 00:03:00</th>\n",
       "      <td>6.284858</td>\n",
       "      <td>1.013792</td>\n",
       "    </tr>\n",
       "    <tr>\n",
       "      <th>2012-01-01 00:06:00</th>\n",
       "      <td>1.090172</td>\n",
       "      <td>0.951346</td>\n",
       "    </tr>\n",
       "    <tr>\n",
       "      <th>2012-01-01 00:09:00</th>\n",
       "      <td>-11.675672</td>\n",
       "      <td>0.996675</td>\n",
       "    </tr>\n",
       "    <tr>\n",
       "      <th>2012-01-01 00:12:00</th>\n",
       "      <td>-18.342684</td>\n",
       "      <td>1.042891</td>\n",
       "    </tr>\n",
       "    <tr>\n",
       "      <th>2012-01-01 00:15:00</th>\n",
       "      <td>3.705426</td>\n",
       "      <td>0.963981</td>\n",
       "    </tr>\n",
       "  </tbody>\n",
       "</table>\n",
       "</div>"
      ],
      "text/plain": [
       "                             A         B\n",
       "2012-01-01 00:00:00 -11.573823  1.028164\n",
       "2012-01-01 00:03:00   6.284858  1.013792\n",
       "2012-01-01 00:06:00   1.090172  0.951346\n",
       "2012-01-01 00:09:00 -11.675672  0.996675\n",
       "2012-01-01 00:12:00 -18.342684  1.042891\n",
       "2012-01-01 00:15:00   3.705426  0.963981"
      ]
     },
     "execution_count": 275,
     "metadata": {},
     "output_type": "execute_result"
    }
   ],
   "source": [
    "r.agg({\"A\": \"sum\", \"B\": lambda x: np.std(x, ddof=1)})\n"
   ]
  },
  {
   "cell_type": "markdown",
   "id": "71324bfa",
   "metadata": {},
   "source": [
    "- The function names can also be strings. In order for a string to be valid it must be implemented on the resampled object:"
   ]
  },
  {
   "cell_type": "code",
   "execution_count": 276,
   "id": "7756e5be",
   "metadata": {},
   "outputs": [
    {
     "data": {
      "text/html": [
       "<div>\n",
       "<style scoped>\n",
       "    .dataframe tbody tr th:only-of-type {\n",
       "        vertical-align: middle;\n",
       "    }\n",
       "\n",
       "    .dataframe tbody tr th {\n",
       "        vertical-align: top;\n",
       "    }\n",
       "\n",
       "    .dataframe thead th {\n",
       "        text-align: right;\n",
       "    }\n",
       "</style>\n",
       "<table border=\"1\" class=\"dataframe\">\n",
       "  <thead>\n",
       "    <tr style=\"text-align: right;\">\n",
       "      <th></th>\n",
       "      <th>A</th>\n",
       "      <th>B</th>\n",
       "    </tr>\n",
       "  </thead>\n",
       "  <tbody>\n",
       "    <tr>\n",
       "      <th>2012-01-01 00:00:00</th>\n",
       "      <td>-11.573823</td>\n",
       "      <td>1.028164</td>\n",
       "    </tr>\n",
       "    <tr>\n",
       "      <th>2012-01-01 00:03:00</th>\n",
       "      <td>6.284858</td>\n",
       "      <td>1.013792</td>\n",
       "    </tr>\n",
       "    <tr>\n",
       "      <th>2012-01-01 00:06:00</th>\n",
       "      <td>1.090172</td>\n",
       "      <td>0.951346</td>\n",
       "    </tr>\n",
       "    <tr>\n",
       "      <th>2012-01-01 00:09:00</th>\n",
       "      <td>-11.675672</td>\n",
       "      <td>0.996675</td>\n",
       "    </tr>\n",
       "    <tr>\n",
       "      <th>2012-01-01 00:12:00</th>\n",
       "      <td>-18.342684</td>\n",
       "      <td>1.042891</td>\n",
       "    </tr>\n",
       "    <tr>\n",
       "      <th>2012-01-01 00:15:00</th>\n",
       "      <td>3.705426</td>\n",
       "      <td>0.963981</td>\n",
       "    </tr>\n",
       "  </tbody>\n",
       "</table>\n",
       "</div>"
      ],
      "text/plain": [
       "                             A         B\n",
       "2012-01-01 00:00:00 -11.573823  1.028164\n",
       "2012-01-01 00:03:00   6.284858  1.013792\n",
       "2012-01-01 00:06:00   1.090172  0.951346\n",
       "2012-01-01 00:09:00 -11.675672  0.996675\n",
       "2012-01-01 00:12:00 -18.342684  1.042891\n",
       "2012-01-01 00:15:00   3.705426  0.963981"
      ]
     },
     "execution_count": 276,
     "metadata": {},
     "output_type": "execute_result"
    }
   ],
   "source": [
    "r.agg({\"A\": \"sum\", \"B\": \"std\"})"
   ]
  },
  {
   "cell_type": "markdown",
   "id": "6a797a8c",
   "metadata": {},
   "source": [
    "- Furthermore, you can also specify multiple aggregation functions for each column separately."
   ]
  },
  {
   "cell_type": "code",
   "execution_count": 277,
   "id": "a41a4058",
   "metadata": {},
   "outputs": [
    {
     "data": {
      "text/html": [
       "<div>\n",
       "<style scoped>\n",
       "    .dataframe tbody tr th:only-of-type {\n",
       "        vertical-align: middle;\n",
       "    }\n",
       "\n",
       "    .dataframe tbody tr th {\n",
       "        vertical-align: top;\n",
       "    }\n",
       "\n",
       "    .dataframe thead tr th {\n",
       "        text-align: left;\n",
       "    }\n",
       "</style>\n",
       "<table border=\"1\" class=\"dataframe\">\n",
       "  <thead>\n",
       "    <tr>\n",
       "      <th></th>\n",
       "      <th colspan=\"2\" halign=\"left\">A</th>\n",
       "      <th colspan=\"2\" halign=\"left\">B</th>\n",
       "    </tr>\n",
       "    <tr>\n",
       "      <th></th>\n",
       "      <th>sum</th>\n",
       "      <th>std</th>\n",
       "      <th>mean</th>\n",
       "      <th>std</th>\n",
       "    </tr>\n",
       "  </thead>\n",
       "  <tbody>\n",
       "    <tr>\n",
       "      <th>2012-01-01 00:00:00</th>\n",
       "      <td>-11.573823</td>\n",
       "      <td>0.939240</td>\n",
       "      <td>-0.086650</td>\n",
       "      <td>1.028164</td>\n",
       "    </tr>\n",
       "    <tr>\n",
       "      <th>2012-01-01 00:03:00</th>\n",
       "      <td>6.284858</td>\n",
       "      <td>0.946683</td>\n",
       "      <td>0.031799</td>\n",
       "      <td>1.013792</td>\n",
       "    </tr>\n",
       "    <tr>\n",
       "      <th>2012-01-01 00:06:00</th>\n",
       "      <td>1.090172</td>\n",
       "      <td>0.966708</td>\n",
       "      <td>-0.146410</td>\n",
       "      <td>0.951346</td>\n",
       "    </tr>\n",
       "    <tr>\n",
       "      <th>2012-01-01 00:09:00</th>\n",
       "      <td>-11.675672</td>\n",
       "      <td>0.955326</td>\n",
       "      <td>0.069545</td>\n",
       "      <td>0.996675</td>\n",
       "    </tr>\n",
       "    <tr>\n",
       "      <th>2012-01-01 00:12:00</th>\n",
       "      <td>-18.342684</td>\n",
       "      <td>0.885761</td>\n",
       "      <td>-0.092844</td>\n",
       "      <td>1.042891</td>\n",
       "    </tr>\n",
       "    <tr>\n",
       "      <th>2012-01-01 00:15:00</th>\n",
       "      <td>3.705426</td>\n",
       "      <td>0.877545</td>\n",
       "      <td>0.012322</td>\n",
       "      <td>0.963981</td>\n",
       "    </tr>\n",
       "  </tbody>\n",
       "</table>\n",
       "</div>"
      ],
      "text/plain": [
       "                             A                   B          \n",
       "                           sum       std      mean       std\n",
       "2012-01-01 00:00:00 -11.573823  0.939240 -0.086650  1.028164\n",
       "2012-01-01 00:03:00   6.284858  0.946683  0.031799  1.013792\n",
       "2012-01-01 00:06:00   1.090172  0.966708 -0.146410  0.951346\n",
       "2012-01-01 00:09:00 -11.675672  0.955326  0.069545  0.996675\n",
       "2012-01-01 00:12:00 -18.342684  0.885761 -0.092844  1.042891\n",
       "2012-01-01 00:15:00   3.705426  0.877545  0.012322  0.963981"
      ]
     },
     "execution_count": 277,
     "metadata": {},
     "output_type": "execute_result"
    }
   ],
   "source": [
    "r.agg({\"A\": [\"sum\", \"std\"], \"B\": [\"mean\", \"std\"]})"
   ]
  },
  {
   "cell_type": "markdown",
   "id": "e2a7c641",
   "metadata": {},
   "source": [
    "- If a DataFrame does not have a datetimelike index, but instead you want to resample based on datetimelike column in the frame, it can passed to the on keyword."
   ]
  },
  {
   "cell_type": "code",
   "execution_count": 278,
   "id": "81a55b7b",
   "metadata": {},
   "outputs": [
    {
     "data": {
      "text/html": [
       "<div>\n",
       "<style scoped>\n",
       "    .dataframe tbody tr th:only-of-type {\n",
       "        vertical-align: middle;\n",
       "    }\n",
       "\n",
       "    .dataframe tbody tr th {\n",
       "        vertical-align: top;\n",
       "    }\n",
       "\n",
       "    .dataframe thead th {\n",
       "        text-align: right;\n",
       "    }\n",
       "</style>\n",
       "<table border=\"1\" class=\"dataframe\">\n",
       "  <thead>\n",
       "    <tr style=\"text-align: right;\">\n",
       "      <th></th>\n",
       "      <th></th>\n",
       "      <th>date</th>\n",
       "      <th>a</th>\n",
       "    </tr>\n",
       "    <tr>\n",
       "      <th>v</th>\n",
       "      <th>d</th>\n",
       "      <th></th>\n",
       "      <th></th>\n",
       "    </tr>\n",
       "  </thead>\n",
       "  <tbody>\n",
       "    <tr>\n",
       "      <th>1</th>\n",
       "      <th>2015-01-04</th>\n",
       "      <td>2015-01-04</td>\n",
       "      <td>0</td>\n",
       "    </tr>\n",
       "    <tr>\n",
       "      <th>2</th>\n",
       "      <th>2015-01-11</th>\n",
       "      <td>2015-01-11</td>\n",
       "      <td>1</td>\n",
       "    </tr>\n",
       "    <tr>\n",
       "      <th>3</th>\n",
       "      <th>2015-01-18</th>\n",
       "      <td>2015-01-18</td>\n",
       "      <td>2</td>\n",
       "    </tr>\n",
       "    <tr>\n",
       "      <th>4</th>\n",
       "      <th>2015-01-25</th>\n",
       "      <td>2015-01-25</td>\n",
       "      <td>3</td>\n",
       "    </tr>\n",
       "    <tr>\n",
       "      <th>5</th>\n",
       "      <th>2015-02-01</th>\n",
       "      <td>2015-02-01</td>\n",
       "      <td>4</td>\n",
       "    </tr>\n",
       "  </tbody>\n",
       "</table>\n",
       "</div>"
      ],
      "text/plain": [
       "                   date  a\n",
       "v d                       \n",
       "1 2015-01-04 2015-01-04  0\n",
       "2 2015-01-11 2015-01-11  1\n",
       "3 2015-01-18 2015-01-18  2\n",
       "4 2015-01-25 2015-01-25  3\n",
       "5 2015-02-01 2015-02-01  4"
      ]
     },
     "execution_count": 278,
     "metadata": {},
     "output_type": "execute_result"
    }
   ],
   "source": [
    "df = pd.DataFrame(\n",
    "    {\"date\": pd.date_range(\"2015-01-01\", freq=\"W\", periods=5), \"a\": np.arange(5)},\n",
    "    index=pd.MultiIndex.from_arrays(\n",
    "        [[1, 2, 3, 4, 5], pd.date_range(\"2015-01-01\", freq=\"W\", periods=5)],\n",
    "        names=[\"v\", \"d\"],\n",
    "    ),\n",
    ")\n",
    "df"
   ]
  },
  {
   "cell_type": "code",
   "execution_count": 279,
   "id": "738ac5a2",
   "metadata": {},
   "outputs": [
    {
     "data": {
      "text/html": [
       "<div>\n",
       "<style scoped>\n",
       "    .dataframe tbody tr th:only-of-type {\n",
       "        vertical-align: middle;\n",
       "    }\n",
       "\n",
       "    .dataframe tbody tr th {\n",
       "        vertical-align: top;\n",
       "    }\n",
       "\n",
       "    .dataframe thead th {\n",
       "        text-align: right;\n",
       "    }\n",
       "</style>\n",
       "<table border=\"1\" class=\"dataframe\">\n",
       "  <thead>\n",
       "    <tr style=\"text-align: right;\">\n",
       "      <th></th>\n",
       "      <th>a</th>\n",
       "    </tr>\n",
       "    <tr>\n",
       "      <th>date</th>\n",
       "      <th></th>\n",
       "    </tr>\n",
       "  </thead>\n",
       "  <tbody>\n",
       "    <tr>\n",
       "      <th>2015-01-31</th>\n",
       "      <td>6</td>\n",
       "    </tr>\n",
       "    <tr>\n",
       "      <th>2015-02-28</th>\n",
       "      <td>4</td>\n",
       "    </tr>\n",
       "  </tbody>\n",
       "</table>\n",
       "</div>"
      ],
      "text/plain": [
       "            a\n",
       "date         \n",
       "2015-01-31  6\n",
       "2015-02-28  4"
      ]
     },
     "execution_count": 279,
     "metadata": {},
     "output_type": "execute_result"
    }
   ],
   "source": [
    "df.resample(\"ME\", on=\"date\")[[\"a\"]].sum()"
   ]
  },
  {
   "cell_type": "markdown",
   "id": "f197882a",
   "metadata": {},
   "source": [
    "- Similarly, if you instead want to resample by a datetimelike level of MultiIndex, its name or location can be passed to the level keyword."
   ]
  },
  {
   "cell_type": "code",
   "execution_count": 280,
   "id": "3d37414b",
   "metadata": {},
   "outputs": [
    {
     "data": {
      "text/html": [
       "<div>\n",
       "<style scoped>\n",
       "    .dataframe tbody tr th:only-of-type {\n",
       "        vertical-align: middle;\n",
       "    }\n",
       "\n",
       "    .dataframe tbody tr th {\n",
       "        vertical-align: top;\n",
       "    }\n",
       "\n",
       "    .dataframe thead th {\n",
       "        text-align: right;\n",
       "    }\n",
       "</style>\n",
       "<table border=\"1\" class=\"dataframe\">\n",
       "  <thead>\n",
       "    <tr style=\"text-align: right;\">\n",
       "      <th></th>\n",
       "      <th>a</th>\n",
       "    </tr>\n",
       "    <tr>\n",
       "      <th>d</th>\n",
       "      <th></th>\n",
       "    </tr>\n",
       "  </thead>\n",
       "  <tbody>\n",
       "    <tr>\n",
       "      <th>2015-01-31</th>\n",
       "      <td>6</td>\n",
       "    </tr>\n",
       "    <tr>\n",
       "      <th>2015-02-28</th>\n",
       "      <td>4</td>\n",
       "    </tr>\n",
       "  </tbody>\n",
       "</table>\n",
       "</div>"
      ],
      "text/plain": [
       "            a\n",
       "d            \n",
       "2015-01-31  6\n",
       "2015-02-28  4"
      ]
     },
     "execution_count": 280,
     "metadata": {},
     "output_type": "execute_result"
    }
   ],
   "source": [
    "df.resample(\"ME\", level=\"d\")[[\"a\"]].sum()"
   ]
  },
  {
   "cell_type": "markdown",
   "id": "7d1df6c7",
   "metadata": {},
   "source": [
    "#### Iterating through groups\n",
    "- With the Resampler object in hand, iterating through the grouped data is very natural and functions similarly to itertools.groupby():"
   ]
  },
  {
   "cell_type": "code",
   "execution_count": 281,
   "id": "0f5a92dc",
   "metadata": {},
   "outputs": [
    {
     "name": "stdout",
     "output_type": "stream",
     "text": [
      "Group:  2017-01-01 00:00:00\n",
      "---------------------------\n",
      "2017-01-01 00:00:00    0\n",
      "2017-01-01 00:30:00    1\n",
      "2017-01-01 00:31:00    2\n",
      "dtype: int64\n",
      "\n",
      "Group:  2017-01-01 01:00:00\n",
      "---------------------------\n",
      "2017-01-01 01:00:00    3\n",
      "dtype: int64\n",
      "\n",
      "Group:  2017-01-01 02:00:00\n",
      "---------------------------\n",
      "Series([], dtype: int64)\n",
      "\n",
      "Group:  2017-01-01 03:00:00\n",
      "---------------------------\n",
      "2017-01-01 03:00:00    4\n",
      "2017-01-01 03:05:00    5\n",
      "dtype: int64\n",
      "\n"
     ]
    }
   ],
   "source": [
    "small = pd.Series(\n",
    "    range(6),\n",
    "    index=pd.to_datetime(\n",
    "        [\n",
    "            \"2017-01-01T00:00:00\",\n",
    "            \"2017-01-01T00:30:00\",\n",
    "            \"2017-01-01T00:31:00\",\n",
    "            \"2017-01-01T01:00:00\",\n",
    "            \"2017-01-01T03:00:00\",\n",
    "            \"2017-01-01T03:05:00\",\n",
    "        ]\n",
    "    ),\n",
    ")\n",
    "resampled = small.resample(\"h\")\n",
    "for name, group in resampled:\n",
    "    print(\"Group: \", name)\n",
    "    print(\"-\" * 27)\n",
    "    print(group, end=\"\\n\\n\")"
   ]
  },
  {
   "cell_type": "markdown",
   "id": "8771279c",
   "metadata": {},
   "source": [
    "#### Use origin or offset to adjust the start of the bins\n",
    "- The bins of the grouping are adjusted based on the beginning of the day of the time series starting point. This works well with frequencies that are multiples of a day (like 30D) or that divide a day evenly (like 90s or 1min). This can create inconsistencies with some frequencies that do not meet this criteria. To change this behavior you can specify a fixed Timestamp with the argument origin.\n",
    "\n",
    "- For example:"
   ]
  },
  {
   "cell_type": "code",
   "execution_count": 282,
   "id": "c404c36e",
   "metadata": {},
   "outputs": [
    {
     "data": {
      "text/plain": [
       "2000-10-01 23:30:00     0\n",
       "2000-10-01 23:37:00     3\n",
       "2000-10-01 23:44:00     6\n",
       "2000-10-01 23:51:00     9\n",
       "2000-10-01 23:58:00    12\n",
       "2000-10-02 00:05:00    15\n",
       "2000-10-02 00:12:00    18\n",
       "2000-10-02 00:19:00    21\n",
       "2000-10-02 00:26:00    24\n",
       "Freq: 7min, dtype: int64"
      ]
     },
     "execution_count": 282,
     "metadata": {},
     "output_type": "execute_result"
    }
   ],
   "source": [
    "start, end = \"2000-10-01 23:30:00\", \"2000-10-02 00:30:00\"\n",
    "middle = \"2000-10-02 00:00:00\"\n",
    "rng = pd.date_range(start, end, freq=\"7min\")\n",
    "ts = pd.Series(np.arange(len(rng)) * 3, index=rng)\n",
    "ts"
   ]
  },
  {
   "cell_type": "markdown",
   "id": "648200cb",
   "metadata": {},
   "source": [
    "- Here we can see that, when using origin with its default value ('start_day'), the result after '2000-10-02 00:00:00' are not identical depending on the start of time series:"
   ]
  },
  {
   "cell_type": "code",
   "execution_count": 283,
   "id": "9005634d",
   "metadata": {},
   "outputs": [
    {
     "data": {
      "text/plain": [
       "2000-10-01 23:14:00     0\n",
       "2000-10-01 23:31:00     9\n",
       "2000-10-01 23:48:00    21\n",
       "2000-10-02 00:05:00    54\n",
       "2000-10-02 00:22:00    24\n",
       "Freq: 17min, dtype: int64"
      ]
     },
     "execution_count": 283,
     "metadata": {},
     "output_type": "execute_result"
    }
   ],
   "source": [
    "ts.resample(\"17min\", origin=\"start_day\").sum()"
   ]
  },
  {
   "cell_type": "code",
   "execution_count": 284,
   "id": "2529ba6f",
   "metadata": {},
   "outputs": [
    {
     "data": {
      "text/plain": [
       "2000-10-02 00:00:00    33\n",
       "2000-10-02 00:17:00    45\n",
       "Freq: 17min, dtype: int64"
      ]
     },
     "execution_count": 284,
     "metadata": {},
     "output_type": "execute_result"
    }
   ],
   "source": [
    "ts[middle:end].resample(\"17min\", origin=\"start_day\").sum()"
   ]
  },
  {
   "cell_type": "markdown",
   "id": "2a56c7c6",
   "metadata": {},
   "source": [
    "- Here we can see that, when setting origin to 'epoch', the result after '2000-10-02 00:00:00' are identical depending on the start of time series:"
   ]
  },
  {
   "cell_type": "code",
   "execution_count": 285,
   "id": "e32f2c92",
   "metadata": {},
   "outputs": [
    {
     "data": {
      "text/plain": [
       "2000-10-01 23:18:00     0\n",
       "2000-10-01 23:35:00    18\n",
       "2000-10-01 23:52:00    27\n",
       "2000-10-02 00:09:00    39\n",
       "2000-10-02 00:26:00    24\n",
       "Freq: 17min, dtype: int64"
      ]
     },
     "execution_count": 285,
     "metadata": {},
     "output_type": "execute_result"
    }
   ],
   "source": [
    "ts.resample(\"17min\", origin=\"epoch\").sum()"
   ]
  },
  {
   "cell_type": "code",
   "execution_count": 286,
   "id": "2493b9b4",
   "metadata": {},
   "outputs": [
    {
     "data": {
      "text/plain": [
       "2000-10-01 23:52:00    15\n",
       "2000-10-02 00:09:00    39\n",
       "2000-10-02 00:26:00    24\n",
       "Freq: 17min, dtype: int64"
      ]
     },
     "execution_count": 286,
     "metadata": {},
     "output_type": "execute_result"
    }
   ],
   "source": [
    "ts[middle:end].resample(\"17min\", origin=\"epoch\").sum()"
   ]
  },
  {
   "cell_type": "markdown",
   "id": "0d19a891",
   "metadata": {},
   "source": [
    "- If needed you can use a custom timestamp for origin:"
   ]
  },
  {
   "cell_type": "code",
   "execution_count": 287,
   "id": "ad46edea",
   "metadata": {},
   "outputs": [
    {
     "data": {
      "text/plain": [
       "2000-10-01 23:30:00     9\n",
       "2000-10-01 23:47:00    21\n",
       "2000-10-02 00:04:00    54\n",
       "2000-10-02 00:21:00    24\n",
       "Freq: 17min, dtype: int64"
      ]
     },
     "execution_count": 287,
     "metadata": {},
     "output_type": "execute_result"
    }
   ],
   "source": [
    "ts.resample(\"17min\", origin=\"2001-01-01\").sum()"
   ]
  },
  {
   "cell_type": "code",
   "execution_count": 288,
   "id": "735f5e51",
   "metadata": {},
   "outputs": [
    {
     "data": {
      "text/plain": [
       "2000-10-02 00:04:00    54\n",
       "2000-10-02 00:21:00    24\n",
       "Freq: 17min, dtype: int64"
      ]
     },
     "execution_count": 288,
     "metadata": {},
     "output_type": "execute_result"
    }
   ],
   "source": [
    "ts[middle:end].resample(\"17min\", origin=pd.Timestamp(\"2001-01-01\")).sum()\n"
   ]
  },
  {
   "cell_type": "markdown",
   "id": "7fdbab5a",
   "metadata": {},
   "source": [
    "- If needed you can just adjust the bins with an offset Timedelta that would be added to the default origin. Those two examples are equivalent for this time series:"
   ]
  },
  {
   "cell_type": "code",
   "execution_count": 289,
   "id": "35539fac",
   "metadata": {},
   "outputs": [
    {
     "data": {
      "text/plain": [
       "2000-10-01 23:30:00     9\n",
       "2000-10-01 23:47:00    21\n",
       "2000-10-02 00:04:00    54\n",
       "2000-10-02 00:21:00    24\n",
       "Freq: 17min, dtype: int64"
      ]
     },
     "execution_count": 289,
     "metadata": {},
     "output_type": "execute_result"
    }
   ],
   "source": [
    "ts.resample(\"17min\", origin=\"start\").sum()"
   ]
  },
  {
   "cell_type": "code",
   "execution_count": 290,
   "id": "9a5c9997",
   "metadata": {},
   "outputs": [
    {
     "data": {
      "text/plain": [
       "2000-10-01 23:30:00     9\n",
       "2000-10-01 23:47:00    21\n",
       "2000-10-02 00:04:00    54\n",
       "2000-10-02 00:21:00    24\n",
       "Freq: 17min, dtype: int64"
      ]
     },
     "execution_count": 290,
     "metadata": {},
     "output_type": "execute_result"
    }
   ],
   "source": [
    "ts.resample(\"17min\", offset=\"23h30min\").sum()"
   ]
  },
  {
   "cell_type": "markdown",
   "id": "605a8a1c",
   "metadata": {},
   "source": [
    "- Note the use of 'start' for origin on the last example. In that case, origin will be set to the first value of the timeseries.\n",
    "\n",
    "#### Backward resample\n",
    "- Instead of adjusting the beginning of bins, sometimes we need to fix the end of the bins to make a backward resample with a given freq. The backward resample sets closed to 'right' by default since the last value should be considered as the edge point for the last bin.\n",
    "\n",
    "- We can set origin to 'end'. The value for a specific Timestamp index stands for the resample result from the current Timestamp minus freq to the current Timestamp with a right close."
   ]
  },
  {
   "cell_type": "code",
   "execution_count": 291,
   "id": "20948569",
   "metadata": {},
   "outputs": [
    {
     "data": {
      "text/plain": [
       "2000-10-01 23:35:00     0\n",
       "2000-10-01 23:52:00    18\n",
       "2000-10-02 00:09:00    27\n",
       "2000-10-02 00:26:00    63\n",
       "Freq: 17min, dtype: int64"
      ]
     },
     "execution_count": 291,
     "metadata": {},
     "output_type": "execute_result"
    }
   ],
   "source": [
    "ts.resample('17min', origin='end').sum()"
   ]
  },
  {
   "cell_type": "markdown",
   "id": "deaf4eaa",
   "metadata": {},
   "source": [
    "- Besides, in contrast with the 'start_day' option, end_day is supported. This will set the origin as the ceiling midnight of the largest Timestamp."
   ]
  },
  {
   "cell_type": "code",
   "execution_count": 292,
   "id": "2da68387",
   "metadata": {},
   "outputs": [
    {
     "data": {
      "text/plain": [
       "2000-10-01 23:38:00     3\n",
       "2000-10-01 23:55:00    15\n",
       "2000-10-02 00:12:00    45\n",
       "2000-10-02 00:29:00    45\n",
       "Freq: 17min, dtype: int64"
      ]
     },
     "execution_count": 292,
     "metadata": {},
     "output_type": "execute_result"
    }
   ],
   "source": [
    "ts.resample('17min', origin='end_day').sum()"
   ]
  },
  {
   "cell_type": "markdown",
   "id": "71b9eac7",
   "metadata": {},
   "source": [
    "- The above result uses 2000-10-02 00:29:00 as the last bin’s right edge since the following computation."
   ]
  },
  {
   "cell_type": "code",
   "execution_count": 293,
   "id": "ff641ce6",
   "metadata": {},
   "outputs": [
    {
     "data": {
      "text/plain": [
       "Timestamp('2000-10-02 00:29:00')"
      ]
     },
     "execution_count": 293,
     "metadata": {},
     "output_type": "execute_result"
    }
   ],
   "source": [
    "ceil_mid = rng.max().ceil('D')\n",
    "freq = pd.offsets.Minute(17)\n",
    "bin_res = ceil_mid - freq * ((ceil_mid - rng.max()) // freq)\n",
    "bin_res\n"
   ]
  },
  {
   "cell_type": "markdown",
   "id": "1531430d",
   "metadata": {},
   "source": [
    "#### Time span representation\n",
    "- Regular intervals of time are represented by Period objects in pandas while sequences of Period objects are collected in a PeriodIndex, which can be created with the convenience function period_range.\n",
    "\n",
    "#### Period\n",
    "- A Period represents a span of time (e.g., a day, a month, a quarter, etc). You can specify the span via freq keyword using a frequency alias like below. Because freq represents a span of Period, it cannot be negative like “-3D”."
   ]
  },
  {
   "cell_type": "code",
   "execution_count": 294,
   "id": "0fbd3810",
   "metadata": {},
   "outputs": [
    {
     "data": {
      "text/plain": [
       "Period('2012', 'Y-DEC')"
      ]
     },
     "execution_count": 294,
     "metadata": {},
     "output_type": "execute_result"
    }
   ],
   "source": [
    "pd.Period(\"2012\", freq=\"Y-DEC\")"
   ]
  },
  {
   "cell_type": "code",
   "execution_count": 295,
   "id": "9b7bf34e",
   "metadata": {},
   "outputs": [
    {
     "data": {
      "text/plain": [
       "Period('2012-01-01', 'D')"
      ]
     },
     "execution_count": 295,
     "metadata": {},
     "output_type": "execute_result"
    }
   ],
   "source": [
    "pd.Period(\"2012-1-1\", freq=\"D\")"
   ]
  },
  {
   "cell_type": "code",
   "execution_count": 296,
   "id": "e5d904b1",
   "metadata": {},
   "outputs": [
    {
     "data": {
      "text/plain": [
       "Period('2012-01-01 19:00', 'h')"
      ]
     },
     "execution_count": 296,
     "metadata": {},
     "output_type": "execute_result"
    }
   ],
   "source": [
    "pd.Period(\"2012-1-1 19:00\", freq=\"h\")"
   ]
  },
  {
   "cell_type": "code",
   "execution_count": 297,
   "id": "21617750",
   "metadata": {},
   "outputs": [
    {
     "data": {
      "text/plain": [
       "Period('2012-01-01 19:00', '5h')"
      ]
     },
     "execution_count": 297,
     "metadata": {},
     "output_type": "execute_result"
    }
   ],
   "source": [
    "pd.Period(\"2012-1-1 19:00\", freq=\"5h\")"
   ]
  },
  {
   "cell_type": "markdown",
   "id": "f8726c94",
   "metadata": {},
   "source": [
    "- Adding and subtracting integers from periods shifts the period by its own frequency. Arithmetic is not allowed between Period with different freq (span)."
   ]
  },
  {
   "cell_type": "code",
   "execution_count": 298,
   "id": "705ad57c",
   "metadata": {},
   "outputs": [
    {
     "data": {
      "text/plain": [
       "Period('2013', 'Y-DEC')"
      ]
     },
     "execution_count": 298,
     "metadata": {},
     "output_type": "execute_result"
    }
   ],
   "source": [
    "p = pd.Period(\"2012\", freq=\"Y-DEC\")\n",
    "p + 1"
   ]
  },
  {
   "cell_type": "code",
   "execution_count": 299,
   "id": "a064f5e6",
   "metadata": {},
   "outputs": [
    {
     "data": {
      "text/plain": [
       "Period('2009', 'Y-DEC')"
      ]
     },
     "execution_count": 299,
     "metadata": {},
     "output_type": "execute_result"
    }
   ],
   "source": [
    "p - 3"
   ]
  },
  {
   "cell_type": "code",
   "execution_count": 300,
   "id": "af369cf9",
   "metadata": {},
   "outputs": [
    {
     "data": {
      "text/plain": [
       "Period('2012-05', '2M')"
      ]
     },
     "execution_count": 300,
     "metadata": {},
     "output_type": "execute_result"
    }
   ],
   "source": [
    "p = pd.Period(\"2012-01\", freq=\"2M\")\n",
    "p + 2"
   ]
  },
  {
   "cell_type": "code",
   "execution_count": 301,
   "id": "2a833ad6",
   "metadata": {},
   "outputs": [
    {
     "data": {
      "text/plain": [
       "Period('2011-11', '2M')"
      ]
     },
     "execution_count": 301,
     "metadata": {},
     "output_type": "execute_result"
    }
   ],
   "source": [
    "p - 1"
   ]
  },
  {
   "cell_type": "code",
   "execution_count": 302,
   "id": "35ab25ce",
   "metadata": {},
   "outputs": [
    {
     "data": {
      "text/plain": [
       "False"
      ]
     },
     "execution_count": 302,
     "metadata": {},
     "output_type": "execute_result"
    }
   ],
   "source": [
    "p == pd.Period(\"2012-01\", freq=\"3M\")"
   ]
  },
  {
   "cell_type": "markdown",
   "id": "c8a4fa05",
   "metadata": {},
   "source": [
    "- If Period freq is daily or higher (D, h, min, s, ms, us, and ns), offsets and timedelta-like can be added if the result can have the same freq. Otherwise, ValueError will be raised."
   ]
  },
  {
   "cell_type": "code",
   "execution_count": 303,
   "id": "3c0bfec1",
   "metadata": {},
   "outputs": [
    {
     "data": {
      "text/plain": [
       "Period('2014-07-01 11:00', 'h')"
      ]
     },
     "execution_count": 303,
     "metadata": {},
     "output_type": "execute_result"
    }
   ],
   "source": [
    "p = pd.Period(\"2014-07-01 09:00\", freq=\"h\")\n",
    "p + pd.offsets.Hour(2)"
   ]
  },
  {
   "cell_type": "code",
   "execution_count": 304,
   "id": "2051d50a",
   "metadata": {},
   "outputs": [
    {
     "data": {
      "text/plain": [
       "Period('2014-07-01 11:00', 'h')"
      ]
     },
     "execution_count": 304,
     "metadata": {},
     "output_type": "execute_result"
    }
   ],
   "source": [
    "p + datetime.timedelta(minutes=120)"
   ]
  },
  {
   "cell_type": "code",
   "execution_count": 305,
   "id": "0f9e08b9",
   "metadata": {},
   "outputs": [
    {
     "data": {
      "text/plain": [
       "Period('2014-07-01 11:00', 'h')"
      ]
     },
     "execution_count": 305,
     "metadata": {},
     "output_type": "execute_result"
    }
   ],
   "source": [
    "p + np.timedelta64(7200, \"s\")"
   ]
  },
  {
   "cell_type": "code",
   "execution_count": 306,
   "id": "a82ffabb",
   "metadata": {},
   "outputs": [
    {
     "name": "stdout",
     "output_type": "stream",
     "text": [
      "Input cannot be converted to Period(freq=h)\n"
     ]
    }
   ],
   "source": [
    "try:\n",
    "    p + pd.offsets.Minute(5)\n",
    "except ValueError as e:\n",
    "    print(e)"
   ]
  },
  {
   "cell_type": "markdown",
   "id": "3def66d5",
   "metadata": {},
   "source": [
    "- If Period has other frequencies, only the same offsets can be added. Otherwise, ValueError will be raised."
   ]
  },
  {
   "cell_type": "code",
   "execution_count": 307,
   "id": "ecf339df",
   "metadata": {},
   "outputs": [
    {
     "data": {
      "text/plain": [
       "Period('2014-10', 'M')"
      ]
     },
     "execution_count": 307,
     "metadata": {},
     "output_type": "execute_result"
    }
   ],
   "source": [
    "p = pd.Period(\"2014-07\", freq=\"M\")\n",
    "p + pd.offsets.MonthEnd(3)"
   ]
  },
  {
   "cell_type": "code",
   "execution_count": 308,
   "id": "64cd1a50",
   "metadata": {},
   "outputs": [
    {
     "name": "stdout",
     "output_type": "stream",
     "text": [
      "Input has different freq=3M from Period(freq=M)\n"
     ]
    }
   ],
   "source": [
    "try:\n",
    "    p + pd.offsets.MonthBegin(3)\n",
    "except Exception as e:\n",
    "    print(e)"
   ]
  },
  {
   "cell_type": "markdown",
   "id": "cadb3c05",
   "metadata": {},
   "source": [
    "- Taking the difference of Period instances with the same frequency will return the number of frequency units between them:"
   ]
  },
  {
   "cell_type": "code",
   "execution_count": 309,
   "id": "4fd99d3c",
   "metadata": {},
   "outputs": [
    {
     "data": {
      "text/plain": [
       "<10 * YearEnds: month=12>"
      ]
     },
     "execution_count": 309,
     "metadata": {},
     "output_type": "execute_result"
    }
   ],
   "source": [
    "pd.Period(\"2012\", freq=\"Y-DEC\") - pd.Period(\"2002\", freq=\"Y-DEC\")"
   ]
  },
  {
   "cell_type": "markdown",
   "id": "e2ac5d7d",
   "metadata": {},
   "source": [
    "#### PeriodIndex and period_range\n",
    "- Regular sequences of Period objects can be collected in a PeriodIndex, which can be constructed using the period_range convenience function:"
   ]
  },
  {
   "cell_type": "code",
   "execution_count": 310,
   "id": "1cf756ca",
   "metadata": {},
   "outputs": [
    {
     "data": {
      "text/plain": [
       "PeriodIndex(['2011-01', '2011-02', '2011-03', '2011-04', '2011-05', '2011-06',\n",
       "             '2011-07', '2011-08', '2011-09', '2011-10', '2011-11', '2011-12',\n",
       "             '2012-01'],\n",
       "            dtype='period[M]')"
      ]
     },
     "execution_count": 310,
     "metadata": {},
     "output_type": "execute_result"
    }
   ],
   "source": [
    "prng = pd.period_range(\"1/1/2011\", \"1/1/2012\", freq=\"M\")\n",
    "prng"
   ]
  },
  {
   "cell_type": "markdown",
   "id": "c755f579",
   "metadata": {},
   "source": [
    "- The PeriodIndex constructor can also be used directly:"
   ]
  },
  {
   "cell_type": "code",
   "execution_count": 311,
   "id": "e42c7b68",
   "metadata": {},
   "outputs": [
    {
     "data": {
      "text/plain": [
       "PeriodIndex(['2011-01', '2011-02', '2011-03'], dtype='period[M]')"
      ]
     },
     "execution_count": 311,
     "metadata": {},
     "output_type": "execute_result"
    }
   ],
   "source": [
    "pd.PeriodIndex([\"2011-1\", \"2011-2\", \"2011-3\"], freq=\"M\")"
   ]
  },
  {
   "cell_type": "markdown",
   "id": "57e66578",
   "metadata": {},
   "source": [
    "- Passing multiplied frequency outputs a sequence of Period which has multiplied span."
   ]
  },
  {
   "cell_type": "code",
   "execution_count": 312,
   "id": "759dec63",
   "metadata": {},
   "outputs": [
    {
     "data": {
      "text/plain": [
       "PeriodIndex(['2014-01', '2014-04', '2014-07', '2014-10'], dtype='period[3M]')"
      ]
     },
     "execution_count": 312,
     "metadata": {},
     "output_type": "execute_result"
    }
   ],
   "source": [
    "pd.period_range(start=\"2014-01\", freq=\"3M\", periods=4)"
   ]
  },
  {
   "cell_type": "markdown",
   "id": "4c228ce6",
   "metadata": {},
   "source": [
    "- If start or end are Period objects, they will be used as anchor endpoints for a PeriodIndex with frequency matching that of the PeriodIndex constructor."
   ]
  },
  {
   "cell_type": "code",
   "execution_count": 313,
   "id": "18811d7d",
   "metadata": {},
   "outputs": [
    {
     "data": {
      "text/plain": [
       "PeriodIndex(['2017-03', '2017-04', '2017-05', '2017-06'], dtype='period[M]')"
      ]
     },
     "execution_count": 313,
     "metadata": {},
     "output_type": "execute_result"
    }
   ],
   "source": [
    "pd.period_range(\n",
    "    start=pd.Period(\"2017Q1\", freq=\"Q\"), end=pd.Period(\"2017Q2\", freq=\"Q\"), freq=\"M\"\n",
    ")"
   ]
  },
  {
   "cell_type": "markdown",
   "id": "b7fa470c",
   "metadata": {},
   "source": [
    "- Just like DatetimeIndex, a PeriodIndex can also be used to index pandas objects:"
   ]
  },
  {
   "cell_type": "code",
   "execution_count": 314,
   "id": "1b8161b1",
   "metadata": {},
   "outputs": [
    {
     "data": {
      "text/plain": [
       "2011-01    0.802178\n",
       "2011-02    1.037438\n",
       "2011-03    0.032244\n",
       "2011-04    0.136508\n",
       "2011-05   -0.833892\n",
       "2011-06    1.204212\n",
       "2011-07   -1.083029\n",
       "2011-08   -0.156050\n",
       "2011-09   -0.447367\n",
       "2011-10    0.477741\n",
       "2011-11    1.711656\n",
       "2011-12   -0.911262\n",
       "2012-01    0.784511\n",
       "Freq: M, dtype: float64"
      ]
     },
     "execution_count": 314,
     "metadata": {},
     "output_type": "execute_result"
    }
   ],
   "source": [
    "ps = pd.Series(np.random.randn(len(prng)), prng)\n",
    "ps"
   ]
  },
  {
   "cell_type": "markdown",
   "id": "d9f7da14",
   "metadata": {},
   "source": [
    "- PeriodIndex supports addition and subtraction with the same rule as Period."
   ]
  },
  {
   "cell_type": "code",
   "execution_count": 315,
   "id": "a21da059",
   "metadata": {},
   "outputs": [
    {
     "data": {
      "text/plain": [
       "PeriodIndex(['2014-07-01 09:00', '2014-07-01 10:00', '2014-07-01 11:00',\n",
       "             '2014-07-01 12:00', '2014-07-01 13:00'],\n",
       "            dtype='period[h]')"
      ]
     },
     "execution_count": 315,
     "metadata": {},
     "output_type": "execute_result"
    }
   ],
   "source": [
    "idx = pd.period_range(\"2014-07-01 09:00\", periods=5, freq=\"h\")\n",
    "idx"
   ]
  },
  {
   "cell_type": "code",
   "execution_count": 316,
   "id": "2b58dc1c",
   "metadata": {},
   "outputs": [
    {
     "data": {
      "text/plain": [
       "PeriodIndex(['2014-07-01 11:00', '2014-07-01 12:00', '2014-07-01 13:00',\n",
       "             '2014-07-01 14:00', '2014-07-01 15:00'],\n",
       "            dtype='period[h]')"
      ]
     },
     "execution_count": 316,
     "metadata": {},
     "output_type": "execute_result"
    }
   ],
   "source": [
    "idx + pd.offsets.Hour(2)"
   ]
  },
  {
   "cell_type": "code",
   "execution_count": 317,
   "id": "cc012e95",
   "metadata": {},
   "outputs": [
    {
     "data": {
      "text/plain": [
       "PeriodIndex(['2014-07', '2014-08', '2014-09', '2014-10', '2014-11'], dtype='period[M]')"
      ]
     },
     "execution_count": 317,
     "metadata": {},
     "output_type": "execute_result"
    }
   ],
   "source": [
    "idx = pd.period_range(\"2014-07\", periods=5, freq=\"M\")\n",
    "idx"
   ]
  },
  {
   "cell_type": "code",
   "execution_count": 318,
   "id": "ee4c942d",
   "metadata": {},
   "outputs": [
    {
     "data": {
      "text/plain": [
       "PeriodIndex(['2014-10', '2014-11', '2014-12', '2015-01', '2015-02'], dtype='period[M]')"
      ]
     },
     "execution_count": 318,
     "metadata": {},
     "output_type": "execute_result"
    }
   ],
   "source": [
    "idx + pd.offsets.MonthEnd(3)"
   ]
  },
  {
   "cell_type": "markdown",
   "id": "0751b190",
   "metadata": {},
   "source": [
    "- PeriodIndex has its own dtype named period, refer to Period Dtypes.\n",
    "\n",
    "#### Period dtypes\n",
    "- PeriodIndex has a custom period dtype. This is a pandas extension dtype similar to the timezone aware dtype (datetime64[ns, tz]).\n",
    "\n",
    "- The period dtype holds the freq attribute and is represented with period[freq] like period[D] or period[M], using frequency strings."
   ]
  },
  {
   "cell_type": "code",
   "execution_count": 319,
   "id": "6d14a2ea",
   "metadata": {},
   "outputs": [
    {
     "data": {
      "text/plain": [
       "PeriodIndex(['2016-01', '2016-02', '2016-03'], dtype='period[M]')"
      ]
     },
     "execution_count": 319,
     "metadata": {},
     "output_type": "execute_result"
    }
   ],
   "source": [
    "pi = pd.period_range(\"2016-01-01\", periods=3, freq=\"M\")\n",
    "pi"
   ]
  },
  {
   "cell_type": "code",
   "execution_count": 320,
   "id": "2da216dc",
   "metadata": {},
   "outputs": [
    {
     "data": {
      "text/plain": [
       "period[M]"
      ]
     },
     "execution_count": 320,
     "metadata": {},
     "output_type": "execute_result"
    }
   ],
   "source": [
    "pi.dtype"
   ]
  },
  {
   "cell_type": "markdown",
   "id": "80eb8f3f",
   "metadata": {},
   "source": [
    "- The period dtype can be used in .astype(...). It allows one to change the freq of a PeriodIndex like .asfreq() and convert a DatetimeIndex to PeriodIndex like to_period():"
   ]
  },
  {
   "cell_type": "code",
   "execution_count": 321,
   "id": "bfb90857",
   "metadata": {},
   "outputs": [
    {
     "data": {
      "text/plain": [
       "PeriodIndex(['2016-01-31', '2016-02-29', '2016-03-31'], dtype='period[D]')"
      ]
     },
     "execution_count": 321,
     "metadata": {},
     "output_type": "execute_result"
    }
   ],
   "source": [
    "# change monthly freq to daily freq\n",
    "pi.astype(\"period[D]\")"
   ]
  },
  {
   "cell_type": "code",
   "execution_count": 322,
   "id": "c4757b14",
   "metadata": {},
   "outputs": [
    {
     "data": {
      "text/plain": [
       "DatetimeIndex(['2016-01-01', '2016-02-01', '2016-03-01'], dtype='datetime64[ns]', freq='MS')"
      ]
     },
     "execution_count": 322,
     "metadata": {},
     "output_type": "execute_result"
    }
   ],
   "source": [
    "# convert to DatetimeIndex\n",
    "pi.astype(\"datetime64[ns]\")"
   ]
  },
  {
   "cell_type": "code",
   "execution_count": 324,
   "id": "61c1d24c",
   "metadata": {},
   "outputs": [
    {
     "data": {
      "text/plain": [
       "DatetimeIndex(['2011-01-31', '2011-02-28', '2011-03-31'], dtype='datetime64[ns]', freq='ME')"
      ]
     },
     "execution_count": 324,
     "metadata": {},
     "output_type": "execute_result"
    }
   ],
   "source": [
    "# convert to PeriodIndex\n",
    "dti = pd.date_range(\"2011-01-01\", freq=\"ME\", periods=3)\n",
    "dti"
   ]
  },
  {
   "cell_type": "code",
   "execution_count": 325,
   "id": "21e2b505",
   "metadata": {},
   "outputs": [
    {
     "data": {
      "text/plain": [
       "PeriodIndex(['2011-01', '2011-02', '2011-03'], dtype='period[M]')"
      ]
     },
     "execution_count": 325,
     "metadata": {},
     "output_type": "execute_result"
    }
   ],
   "source": [
    "dti.astype(\"period[M]\")"
   ]
  },
  {
   "cell_type": "markdown",
   "id": "83f05614",
   "metadata": {},
   "source": [
    "#### PeriodIndex partial string indexing\n",
    "- PeriodIndex now supports partial string slicing with non-monotonic indexes.\n",
    "\n",
    "- You can pass in dates and strings to Series and DataFrame with PeriodIndex, in the same manner as DatetimeIndex. For details, refer to DatetimeIndex Partial String Indexing."
   ]
  },
  {
   "cell_type": "code",
   "execution_count": 326,
   "id": "0414cbec",
   "metadata": {},
   "outputs": [
    {
     "data": {
      "text/plain": [
       "np.float64(0.8021782484192926)"
      ]
     },
     "execution_count": 326,
     "metadata": {},
     "output_type": "execute_result"
    }
   ],
   "source": [
    "ps[\"2011-01\"]"
   ]
  },
  {
   "cell_type": "code",
   "execution_count": 327,
   "id": "36daf313",
   "metadata": {},
   "outputs": [
    {
     "data": {
      "text/plain": [
       "2011-12   -0.911262\n",
       "2012-01    0.784511\n",
       "Freq: M, dtype: float64"
      ]
     },
     "execution_count": 327,
     "metadata": {},
     "output_type": "execute_result"
    }
   ],
   "source": [
    "ps[datetime.datetime(2011, 12, 25):]"
   ]
  },
  {
   "cell_type": "code",
   "execution_count": 328,
   "id": "e7a8f900",
   "metadata": {},
   "outputs": [
    {
     "data": {
      "text/plain": [
       "2011-10    0.477741\n",
       "2011-11    1.711656\n",
       "2011-12   -0.911262\n",
       "Freq: M, dtype: float64"
      ]
     },
     "execution_count": 328,
     "metadata": {},
     "output_type": "execute_result"
    }
   ],
   "source": [
    "ps[\"10/31/2011\":\"12/31/2011\"]"
   ]
  },
  {
   "cell_type": "markdown",
   "id": "bc6ead0b",
   "metadata": {},
   "source": [
    "- Passing a string representing a lower frequency than PeriodIndex returns partial sliced data."
   ]
  },
  {
   "cell_type": "code",
   "execution_count": 329,
   "id": "4c017dc4",
   "metadata": {},
   "outputs": [
    {
     "data": {
      "text/plain": [
       "2011-01    0.802178\n",
       "2011-02    1.037438\n",
       "2011-03    0.032244\n",
       "2011-04    0.136508\n",
       "2011-05   -0.833892\n",
       "2011-06    1.204212\n",
       "2011-07   -1.083029\n",
       "2011-08   -0.156050\n",
       "2011-09   -0.447367\n",
       "2011-10    0.477741\n",
       "2011-11    1.711656\n",
       "2011-12   -0.911262\n",
       "Freq: M, dtype: float64"
      ]
     },
     "execution_count": 329,
     "metadata": {},
     "output_type": "execute_result"
    }
   ],
   "source": [
    "ps[\"2011\"]"
   ]
  },
  {
   "cell_type": "code",
   "execution_count": 330,
   "id": "147eb6d1",
   "metadata": {},
   "outputs": [
    {
     "data": {
      "text/html": [
       "<div>\n",
       "<style scoped>\n",
       "    .dataframe tbody tr th:only-of-type {\n",
       "        vertical-align: middle;\n",
       "    }\n",
       "\n",
       "    .dataframe tbody tr th {\n",
       "        vertical-align: top;\n",
       "    }\n",
       "\n",
       "    .dataframe thead th {\n",
       "        text-align: right;\n",
       "    }\n",
       "</style>\n",
       "<table border=\"1\" class=\"dataframe\">\n",
       "  <thead>\n",
       "    <tr style=\"text-align: right;\">\n",
       "      <th></th>\n",
       "      <th>A</th>\n",
       "    </tr>\n",
       "  </thead>\n",
       "  <tbody>\n",
       "    <tr>\n",
       "      <th>2013-01-01 09:00</th>\n",
       "      <td>0.045779</td>\n",
       "    </tr>\n",
       "    <tr>\n",
       "      <th>2013-01-01 09:01</th>\n",
       "      <td>0.267938</td>\n",
       "    </tr>\n",
       "    <tr>\n",
       "      <th>2013-01-01 09:02</th>\n",
       "      <td>-1.158871</td>\n",
       "    </tr>\n",
       "    <tr>\n",
       "      <th>2013-01-01 09:03</th>\n",
       "      <td>2.057727</td>\n",
       "    </tr>\n",
       "    <tr>\n",
       "      <th>2013-01-01 09:04</th>\n",
       "      <td>-0.595679</td>\n",
       "    </tr>\n",
       "    <tr>\n",
       "      <th>...</th>\n",
       "      <td>...</td>\n",
       "    </tr>\n",
       "    <tr>\n",
       "      <th>2013-01-01 18:55</th>\n",
       "      <td>0.226862</td>\n",
       "    </tr>\n",
       "    <tr>\n",
       "      <th>2013-01-01 18:56</th>\n",
       "      <td>-1.656342</td>\n",
       "    </tr>\n",
       "    <tr>\n",
       "      <th>2013-01-01 18:57</th>\n",
       "      <td>-0.546780</td>\n",
       "    </tr>\n",
       "    <tr>\n",
       "      <th>2013-01-01 18:58</th>\n",
       "      <td>-1.773293</td>\n",
       "    </tr>\n",
       "    <tr>\n",
       "      <th>2013-01-01 18:59</th>\n",
       "      <td>-0.121893</td>\n",
       "    </tr>\n",
       "  </tbody>\n",
       "</table>\n",
       "<p>600 rows × 1 columns</p>\n",
       "</div>"
      ],
      "text/plain": [
       "                         A\n",
       "2013-01-01 09:00  0.045779\n",
       "2013-01-01 09:01  0.267938\n",
       "2013-01-01 09:02 -1.158871\n",
       "2013-01-01 09:03  2.057727\n",
       "2013-01-01 09:04 -0.595679\n",
       "...                    ...\n",
       "2013-01-01 18:55  0.226862\n",
       "2013-01-01 18:56 -1.656342\n",
       "2013-01-01 18:57 -0.546780\n",
       "2013-01-01 18:58 -1.773293\n",
       "2013-01-01 18:59 -0.121893\n",
       "\n",
       "[600 rows x 1 columns]"
      ]
     },
     "execution_count": 330,
     "metadata": {},
     "output_type": "execute_result"
    }
   ],
   "source": [
    "dfp = pd.DataFrame(\n",
    "    np.random.randn(600, 1),\n",
    "    columns=[\"A\"],\n",
    "    index=pd.period_range(\"2013-01-01 9:00\", periods=600, freq=\"min\"),\n",
    ")\n",
    "dfp"
   ]
  },
  {
   "cell_type": "code",
   "execution_count": 331,
   "id": "82e0b6b9",
   "metadata": {},
   "outputs": [
    {
     "data": {
      "text/html": [
       "<div>\n",
       "<style scoped>\n",
       "    .dataframe tbody tr th:only-of-type {\n",
       "        vertical-align: middle;\n",
       "    }\n",
       "\n",
       "    .dataframe tbody tr th {\n",
       "        vertical-align: top;\n",
       "    }\n",
       "\n",
       "    .dataframe thead th {\n",
       "        text-align: right;\n",
       "    }\n",
       "</style>\n",
       "<table border=\"1\" class=\"dataframe\">\n",
       "  <thead>\n",
       "    <tr style=\"text-align: right;\">\n",
       "      <th></th>\n",
       "      <th>A</th>\n",
       "    </tr>\n",
       "  </thead>\n",
       "  <tbody>\n",
       "    <tr>\n",
       "      <th>2013-01-01 10:00</th>\n",
       "      <td>0.019183</td>\n",
       "    </tr>\n",
       "    <tr>\n",
       "      <th>2013-01-01 10:01</th>\n",
       "      <td>2.679683</td>\n",
       "    </tr>\n",
       "    <tr>\n",
       "      <th>2013-01-01 10:02</th>\n",
       "      <td>-0.723785</td>\n",
       "    </tr>\n",
       "    <tr>\n",
       "      <th>2013-01-01 10:03</th>\n",
       "      <td>0.326775</td>\n",
       "    </tr>\n",
       "    <tr>\n",
       "      <th>2013-01-01 10:04</th>\n",
       "      <td>-1.206009</td>\n",
       "    </tr>\n",
       "    <tr>\n",
       "      <th>2013-01-01 10:05</th>\n",
       "      <td>0.369217</td>\n",
       "    </tr>\n",
       "    <tr>\n",
       "      <th>2013-01-01 10:06</th>\n",
       "      <td>1.908229</td>\n",
       "    </tr>\n",
       "    <tr>\n",
       "      <th>2013-01-01 10:07</th>\n",
       "      <td>1.239513</td>\n",
       "    </tr>\n",
       "    <tr>\n",
       "      <th>2013-01-01 10:08</th>\n",
       "      <td>1.332314</td>\n",
       "    </tr>\n",
       "    <tr>\n",
       "      <th>2013-01-01 10:09</th>\n",
       "      <td>-0.548558</td>\n",
       "    </tr>\n",
       "    <tr>\n",
       "      <th>2013-01-01 10:10</th>\n",
       "      <td>-1.342475</td>\n",
       "    </tr>\n",
       "    <tr>\n",
       "      <th>2013-01-01 10:11</th>\n",
       "      <td>-1.141030</td>\n",
       "    </tr>\n",
       "    <tr>\n",
       "      <th>2013-01-01 10:12</th>\n",
       "      <td>0.815827</td>\n",
       "    </tr>\n",
       "    <tr>\n",
       "      <th>2013-01-01 10:13</th>\n",
       "      <td>-0.559392</td>\n",
       "    </tr>\n",
       "    <tr>\n",
       "      <th>2013-01-01 10:14</th>\n",
       "      <td>-0.076339</td>\n",
       "    </tr>\n",
       "    <tr>\n",
       "      <th>2013-01-01 10:15</th>\n",
       "      <td>-2.073676</td>\n",
       "    </tr>\n",
       "    <tr>\n",
       "      <th>2013-01-01 10:16</th>\n",
       "      <td>-0.130913</td>\n",
       "    </tr>\n",
       "    <tr>\n",
       "      <th>2013-01-01 10:17</th>\n",
       "      <td>-0.614937</td>\n",
       "    </tr>\n",
       "    <tr>\n",
       "      <th>2013-01-01 10:18</th>\n",
       "      <td>0.420885</td>\n",
       "    </tr>\n",
       "    <tr>\n",
       "      <th>2013-01-01 10:19</th>\n",
       "      <td>0.443833</td>\n",
       "    </tr>\n",
       "    <tr>\n",
       "      <th>2013-01-01 10:20</th>\n",
       "      <td>-1.147481</td>\n",
       "    </tr>\n",
       "    <tr>\n",
       "      <th>2013-01-01 10:21</th>\n",
       "      <td>-1.174021</td>\n",
       "    </tr>\n",
       "    <tr>\n",
       "      <th>2013-01-01 10:22</th>\n",
       "      <td>-0.448134</td>\n",
       "    </tr>\n",
       "    <tr>\n",
       "      <th>2013-01-01 10:23</th>\n",
       "      <td>1.636977</td>\n",
       "    </tr>\n",
       "    <tr>\n",
       "      <th>2013-01-01 10:24</th>\n",
       "      <td>-0.546145</td>\n",
       "    </tr>\n",
       "    <tr>\n",
       "      <th>2013-01-01 10:25</th>\n",
       "      <td>-0.346791</td>\n",
       "    </tr>\n",
       "    <tr>\n",
       "      <th>2013-01-01 10:26</th>\n",
       "      <td>-0.051898</td>\n",
       "    </tr>\n",
       "    <tr>\n",
       "      <th>2013-01-01 10:27</th>\n",
       "      <td>-0.082164</td>\n",
       "    </tr>\n",
       "    <tr>\n",
       "      <th>2013-01-01 10:28</th>\n",
       "      <td>0.110012</td>\n",
       "    </tr>\n",
       "    <tr>\n",
       "      <th>2013-01-01 10:29</th>\n",
       "      <td>1.463884</td>\n",
       "    </tr>\n",
       "    <tr>\n",
       "      <th>2013-01-01 10:30</th>\n",
       "      <td>1.120046</td>\n",
       "    </tr>\n",
       "    <tr>\n",
       "      <th>2013-01-01 10:31</th>\n",
       "      <td>0.144991</td>\n",
       "    </tr>\n",
       "    <tr>\n",
       "      <th>2013-01-01 10:32</th>\n",
       "      <td>1.261648</td>\n",
       "    </tr>\n",
       "    <tr>\n",
       "      <th>2013-01-01 10:33</th>\n",
       "      <td>0.867008</td>\n",
       "    </tr>\n",
       "    <tr>\n",
       "      <th>2013-01-01 10:34</th>\n",
       "      <td>0.253163</td>\n",
       "    </tr>\n",
       "    <tr>\n",
       "      <th>2013-01-01 10:35</th>\n",
       "      <td>-0.856039</td>\n",
       "    </tr>\n",
       "    <tr>\n",
       "      <th>2013-01-01 10:36</th>\n",
       "      <td>1.085826</td>\n",
       "    </tr>\n",
       "    <tr>\n",
       "      <th>2013-01-01 10:37</th>\n",
       "      <td>-1.076269</td>\n",
       "    </tr>\n",
       "    <tr>\n",
       "      <th>2013-01-01 10:38</th>\n",
       "      <td>0.646090</td>\n",
       "    </tr>\n",
       "    <tr>\n",
       "      <th>2013-01-01 10:39</th>\n",
       "      <td>-0.214624</td>\n",
       "    </tr>\n",
       "    <tr>\n",
       "      <th>2013-01-01 10:40</th>\n",
       "      <td>-0.648183</td>\n",
       "    </tr>\n",
       "    <tr>\n",
       "      <th>2013-01-01 10:41</th>\n",
       "      <td>1.290489</td>\n",
       "    </tr>\n",
       "    <tr>\n",
       "      <th>2013-01-01 10:42</th>\n",
       "      <td>-0.334664</td>\n",
       "    </tr>\n",
       "    <tr>\n",
       "      <th>2013-01-01 10:43</th>\n",
       "      <td>-0.716666</td>\n",
       "    </tr>\n",
       "    <tr>\n",
       "      <th>2013-01-01 10:44</th>\n",
       "      <td>-0.525110</td>\n",
       "    </tr>\n",
       "    <tr>\n",
       "      <th>2013-01-01 10:45</th>\n",
       "      <td>1.410217</td>\n",
       "    </tr>\n",
       "    <tr>\n",
       "      <th>2013-01-01 10:46</th>\n",
       "      <td>-0.722378</td>\n",
       "    </tr>\n",
       "    <tr>\n",
       "      <th>2013-01-01 10:47</th>\n",
       "      <td>-1.053092</td>\n",
       "    </tr>\n",
       "    <tr>\n",
       "      <th>2013-01-01 10:48</th>\n",
       "      <td>-0.768241</td>\n",
       "    </tr>\n",
       "    <tr>\n",
       "      <th>2013-01-01 10:49</th>\n",
       "      <td>-0.819788</td>\n",
       "    </tr>\n",
       "    <tr>\n",
       "      <th>2013-01-01 10:50</th>\n",
       "      <td>-1.501286</td>\n",
       "    </tr>\n",
       "    <tr>\n",
       "      <th>2013-01-01 10:51</th>\n",
       "      <td>-1.111435</td>\n",
       "    </tr>\n",
       "    <tr>\n",
       "      <th>2013-01-01 10:52</th>\n",
       "      <td>-0.723253</td>\n",
       "    </tr>\n",
       "    <tr>\n",
       "      <th>2013-01-01 10:53</th>\n",
       "      <td>0.496680</td>\n",
       "    </tr>\n",
       "    <tr>\n",
       "      <th>2013-01-01 10:54</th>\n",
       "      <td>-0.369910</td>\n",
       "    </tr>\n",
       "    <tr>\n",
       "      <th>2013-01-01 10:55</th>\n",
       "      <td>-1.346345</td>\n",
       "    </tr>\n",
       "    <tr>\n",
       "      <th>2013-01-01 10:56</th>\n",
       "      <td>0.702769</td>\n",
       "    </tr>\n",
       "    <tr>\n",
       "      <th>2013-01-01 10:57</th>\n",
       "      <td>-0.913574</td>\n",
       "    </tr>\n",
       "    <tr>\n",
       "      <th>2013-01-01 10:58</th>\n",
       "      <td>0.431042</td>\n",
       "    </tr>\n",
       "    <tr>\n",
       "      <th>2013-01-01 10:59</th>\n",
       "      <td>-0.468369</td>\n",
       "    </tr>\n",
       "  </tbody>\n",
       "</table>\n",
       "</div>"
      ],
      "text/plain": [
       "                         A\n",
       "2013-01-01 10:00  0.019183\n",
       "2013-01-01 10:01  2.679683\n",
       "2013-01-01 10:02 -0.723785\n",
       "2013-01-01 10:03  0.326775\n",
       "2013-01-01 10:04 -1.206009\n",
       "2013-01-01 10:05  0.369217\n",
       "2013-01-01 10:06  1.908229\n",
       "2013-01-01 10:07  1.239513\n",
       "2013-01-01 10:08  1.332314\n",
       "2013-01-01 10:09 -0.548558\n",
       "2013-01-01 10:10 -1.342475\n",
       "2013-01-01 10:11 -1.141030\n",
       "2013-01-01 10:12  0.815827\n",
       "2013-01-01 10:13 -0.559392\n",
       "2013-01-01 10:14 -0.076339\n",
       "2013-01-01 10:15 -2.073676\n",
       "2013-01-01 10:16 -0.130913\n",
       "2013-01-01 10:17 -0.614937\n",
       "2013-01-01 10:18  0.420885\n",
       "2013-01-01 10:19  0.443833\n",
       "2013-01-01 10:20 -1.147481\n",
       "2013-01-01 10:21 -1.174021\n",
       "2013-01-01 10:22 -0.448134\n",
       "2013-01-01 10:23  1.636977\n",
       "2013-01-01 10:24 -0.546145\n",
       "2013-01-01 10:25 -0.346791\n",
       "2013-01-01 10:26 -0.051898\n",
       "2013-01-01 10:27 -0.082164\n",
       "2013-01-01 10:28  0.110012\n",
       "2013-01-01 10:29  1.463884\n",
       "2013-01-01 10:30  1.120046\n",
       "2013-01-01 10:31  0.144991\n",
       "2013-01-01 10:32  1.261648\n",
       "2013-01-01 10:33  0.867008\n",
       "2013-01-01 10:34  0.253163\n",
       "2013-01-01 10:35 -0.856039\n",
       "2013-01-01 10:36  1.085826\n",
       "2013-01-01 10:37 -1.076269\n",
       "2013-01-01 10:38  0.646090\n",
       "2013-01-01 10:39 -0.214624\n",
       "2013-01-01 10:40 -0.648183\n",
       "2013-01-01 10:41  1.290489\n",
       "2013-01-01 10:42 -0.334664\n",
       "2013-01-01 10:43 -0.716666\n",
       "2013-01-01 10:44 -0.525110\n",
       "2013-01-01 10:45  1.410217\n",
       "2013-01-01 10:46 -0.722378\n",
       "2013-01-01 10:47 -1.053092\n",
       "2013-01-01 10:48 -0.768241\n",
       "2013-01-01 10:49 -0.819788\n",
       "2013-01-01 10:50 -1.501286\n",
       "2013-01-01 10:51 -1.111435\n",
       "2013-01-01 10:52 -0.723253\n",
       "2013-01-01 10:53  0.496680\n",
       "2013-01-01 10:54 -0.369910\n",
       "2013-01-01 10:55 -1.346345\n",
       "2013-01-01 10:56  0.702769\n",
       "2013-01-01 10:57 -0.913574\n",
       "2013-01-01 10:58  0.431042\n",
       "2013-01-01 10:59 -0.468369"
      ]
     },
     "execution_count": 331,
     "metadata": {},
     "output_type": "execute_result"
    }
   ],
   "source": [
    "dfp.loc[\"2013-01-01 10h\"]"
   ]
  },
  {
   "cell_type": "markdown",
   "id": "f3455c1f",
   "metadata": {},
   "source": [
    "- As with DatetimeIndex, the endpoints will be included in the result. The example below slices data starting from 10:00 to 11:59."
   ]
  },
  {
   "cell_type": "code",
   "execution_count": 332,
   "id": "ce77674b",
   "metadata": {},
   "outputs": [
    {
     "data": {
      "text/html": [
       "<div>\n",
       "<style scoped>\n",
       "    .dataframe tbody tr th:only-of-type {\n",
       "        vertical-align: middle;\n",
       "    }\n",
       "\n",
       "    .dataframe tbody tr th {\n",
       "        vertical-align: top;\n",
       "    }\n",
       "\n",
       "    .dataframe thead th {\n",
       "        text-align: right;\n",
       "    }\n",
       "</style>\n",
       "<table border=\"1\" class=\"dataframe\">\n",
       "  <thead>\n",
       "    <tr style=\"text-align: right;\">\n",
       "      <th></th>\n",
       "      <th>A</th>\n",
       "    </tr>\n",
       "  </thead>\n",
       "  <tbody>\n",
       "    <tr>\n",
       "      <th>2013-01-01 10:00</th>\n",
       "      <td>0.019183</td>\n",
       "    </tr>\n",
       "    <tr>\n",
       "      <th>2013-01-01 10:01</th>\n",
       "      <td>2.679683</td>\n",
       "    </tr>\n",
       "    <tr>\n",
       "      <th>2013-01-01 10:02</th>\n",
       "      <td>-0.723785</td>\n",
       "    </tr>\n",
       "    <tr>\n",
       "      <th>2013-01-01 10:03</th>\n",
       "      <td>0.326775</td>\n",
       "    </tr>\n",
       "    <tr>\n",
       "      <th>2013-01-01 10:04</th>\n",
       "      <td>-1.206009</td>\n",
       "    </tr>\n",
       "    <tr>\n",
       "      <th>...</th>\n",
       "      <td>...</td>\n",
       "    </tr>\n",
       "    <tr>\n",
       "      <th>2013-01-01 11:55</th>\n",
       "      <td>-0.326448</td>\n",
       "    </tr>\n",
       "    <tr>\n",
       "      <th>2013-01-01 11:56</th>\n",
       "      <td>1.128193</td>\n",
       "    </tr>\n",
       "    <tr>\n",
       "      <th>2013-01-01 11:57</th>\n",
       "      <td>-0.772802</td>\n",
       "    </tr>\n",
       "    <tr>\n",
       "      <th>2013-01-01 11:58</th>\n",
       "      <td>-1.530819</td>\n",
       "    </tr>\n",
       "    <tr>\n",
       "      <th>2013-01-01 11:59</th>\n",
       "      <td>-0.287261</td>\n",
       "    </tr>\n",
       "  </tbody>\n",
       "</table>\n",
       "<p>120 rows × 1 columns</p>\n",
       "</div>"
      ],
      "text/plain": [
       "                         A\n",
       "2013-01-01 10:00  0.019183\n",
       "2013-01-01 10:01  2.679683\n",
       "2013-01-01 10:02 -0.723785\n",
       "2013-01-01 10:03  0.326775\n",
       "2013-01-01 10:04 -1.206009\n",
       "...                    ...\n",
       "2013-01-01 11:55 -0.326448\n",
       "2013-01-01 11:56  1.128193\n",
       "2013-01-01 11:57 -0.772802\n",
       "2013-01-01 11:58 -1.530819\n",
       "2013-01-01 11:59 -0.287261\n",
       "\n",
       "[120 rows x 1 columns]"
      ]
     },
     "execution_count": 332,
     "metadata": {},
     "output_type": "execute_result"
    }
   ],
   "source": [
    "dfp[\"2013-01-01 10h\":\"2013-01-01 11h\"]"
   ]
  },
  {
   "cell_type": "markdown",
   "id": "f5917c31",
   "metadata": {},
   "source": [
    "#### Frequency conversion and resampling with PeriodIndex\n",
    "- The frequency of Period and PeriodIndex can be converted via the asfreq method. Let’s start with the fiscal year 2011, ending in December:"
   ]
  },
  {
   "cell_type": "code",
   "execution_count": 333,
   "id": "25d17e94",
   "metadata": {},
   "outputs": [
    {
     "data": {
      "text/plain": [
       "Period('2011', 'Y-DEC')"
      ]
     },
     "execution_count": 333,
     "metadata": {},
     "output_type": "execute_result"
    }
   ],
   "source": [
    "p = pd.Period(\"2011\", freq=\"Y-DEC\")\n",
    "p "
   ]
  },
  {
   "cell_type": "markdown",
   "id": "3e0b665a",
   "metadata": {},
   "source": [
    "- We can convert it to a monthly frequency. Using the how parameter, we can specify whether to return the starting or ending month:"
   ]
  },
  {
   "cell_type": "code",
   "execution_count": 334,
   "id": "a79dec6f",
   "metadata": {},
   "outputs": [
    {
     "data": {
      "text/plain": [
       "Period('2011-01', 'M')"
      ]
     },
     "execution_count": 334,
     "metadata": {},
     "output_type": "execute_result"
    }
   ],
   "source": [
    "p.asfreq(\"M\", how=\"start\")"
   ]
  },
  {
   "cell_type": "code",
   "execution_count": 335,
   "id": "ad559706",
   "metadata": {},
   "outputs": [
    {
     "data": {
      "text/plain": [
       "Period('2011-12', 'M')"
      ]
     },
     "execution_count": 335,
     "metadata": {},
     "output_type": "execute_result"
    }
   ],
   "source": [
    "p.asfreq(\"M\", how=\"end\")"
   ]
  },
  {
   "cell_type": "markdown",
   "id": "98ab3102",
   "metadata": {},
   "source": [
    "- The shorthands ‘s’ and ‘e’ are provided for convenience:"
   ]
  },
  {
   "cell_type": "code",
   "execution_count": 336,
   "id": "20a06f8b",
   "metadata": {},
   "outputs": [
    {
     "data": {
      "text/plain": [
       "Period('2011-01', 'M')"
      ]
     },
     "execution_count": 336,
     "metadata": {},
     "output_type": "execute_result"
    }
   ],
   "source": [
    "p.asfreq(\"M\", \"s\")"
   ]
  },
  {
   "cell_type": "code",
   "execution_count": 337,
   "id": "a428b633",
   "metadata": {},
   "outputs": [
    {
     "data": {
      "text/plain": [
       "Period('2011-12', 'M')"
      ]
     },
     "execution_count": 337,
     "metadata": {},
     "output_type": "execute_result"
    }
   ],
   "source": [
    "p.asfreq(\"M\", \"e\")"
   ]
  },
  {
   "cell_type": "markdown",
   "id": "df50252c",
   "metadata": {},
   "source": [
    "- Converting to a “super-period” (e.g., annual frequency is a super-period of quarterly frequency) automatically returns the super-period that includes the input period:"
   ]
  },
  {
   "cell_type": "code",
   "execution_count": 338,
   "id": "6283f111",
   "metadata": {},
   "outputs": [
    {
     "data": {
      "text/plain": [
       "Period('2012', 'Y-NOV')"
      ]
     },
     "execution_count": 338,
     "metadata": {},
     "output_type": "execute_result"
    }
   ],
   "source": [
    "p = pd.Period(\"2011-12\", freq=\"M\")\n",
    "p.asfreq(\"Y-NOV\")"
   ]
  },
  {
   "cell_type": "markdown",
   "id": "1dc4b0bc",
   "metadata": {},
   "source": [
    "- **Note** that since we converted to an annual frequency that ends the year in November, the monthly period of December 2011 is actually in the 2012 Y-NOV period.\n",
    "\n",
    "- Period conversions with anchored frequencies are particularly useful for working with various quarterly data common to economics, business, and other fields. Many organizations define quarters relative to the month in which their fiscal year starts and ends. Thus, first quarter of 2011 could start in 2010 or a few months into 2011. Via anchored frequencies, pandas works for all quarterly frequencies Q-JAN through Q-DEC.\n",
    "\n",
    "- Q-DEC define regular calendar quarters:"
   ]
  },
  {
   "cell_type": "code",
   "execution_count": 339,
   "id": "a7c3236d",
   "metadata": {},
   "outputs": [
    {
     "data": {
      "text/plain": [
       "Period('2012-01-01', 'D')"
      ]
     },
     "execution_count": 339,
     "metadata": {},
     "output_type": "execute_result"
    }
   ],
   "source": [
    "p = pd.Period(\"2012Q1\", freq=\"Q-DEC\")\n",
    "p.asfreq(\"D\", \"s\")\n"
   ]
  },
  {
   "cell_type": "code",
   "execution_count": 340,
   "id": "874bd15c",
   "metadata": {},
   "outputs": [
    {
     "data": {
      "text/plain": [
       "Period('2012-03-31', 'D')"
      ]
     },
     "execution_count": 340,
     "metadata": {},
     "output_type": "execute_result"
    }
   ],
   "source": [
    "p.asfreq(\"D\", \"e\")"
   ]
  },
  {
   "cell_type": "markdown",
   "id": "28ee5d07",
   "metadata": {},
   "source": [
    "- Q-MAR defines fiscal year end in March:"
   ]
  },
  {
   "cell_type": "code",
   "execution_count": 341,
   "id": "349715fa",
   "metadata": {},
   "outputs": [
    {
     "data": {
      "text/plain": [
       "Period('2011-01-01', 'D')"
      ]
     },
     "execution_count": 341,
     "metadata": {},
     "output_type": "execute_result"
    }
   ],
   "source": [
    "p = pd.Period(\"2011Q4\", freq=\"Q-MAR\")\n",
    "p.asfreq(\"D\", \"s\")"
   ]
  },
  {
   "cell_type": "code",
   "execution_count": 342,
   "id": "d8f961cc",
   "metadata": {},
   "outputs": [
    {
     "data": {
      "text/plain": [
       "Period('2011-03-31', 'D')"
      ]
     },
     "execution_count": 342,
     "metadata": {},
     "output_type": "execute_result"
    }
   ],
   "source": [
    "p.asfreq(\"D\", \"e\")"
   ]
  },
  {
   "cell_type": "markdown",
   "id": "df46886e",
   "metadata": {},
   "source": [
    "#### Converting between representations\n",
    "- Timestamped data can be converted to PeriodIndex-ed data using to_period and vice-versa using to_timestamp:"
   ]
  },
  {
   "cell_type": "code",
   "execution_count": 343,
   "id": "4b118c26",
   "metadata": {},
   "outputs": [
    {
     "data": {
      "text/plain": [
       "2012-01-31   -0.032520\n",
       "2012-02-29    0.448457\n",
       "2012-03-31   -1.392803\n",
       "2012-04-30    0.679323\n",
       "2012-05-31   -0.405056\n",
       "Freq: ME, dtype: float64"
      ]
     },
     "execution_count": 343,
     "metadata": {},
     "output_type": "execute_result"
    }
   ],
   "source": [
    "rng = pd.date_range(\"1/1/2012\", periods=5, freq=\"ME\")\n",
    "ts = pd.Series(np.random.randn(len(rng)), index=rng)\n",
    "ts"
   ]
  },
  {
   "cell_type": "code",
   "execution_count": 344,
   "id": "34cc94ea",
   "metadata": {},
   "outputs": [
    {
     "data": {
      "text/plain": [
       "2012-01   -0.032520\n",
       "2012-02    0.448457\n",
       "2012-03   -1.392803\n",
       "2012-04    0.679323\n",
       "2012-05   -0.405056\n",
       "Freq: M, dtype: float64"
      ]
     },
     "execution_count": 344,
     "metadata": {},
     "output_type": "execute_result"
    }
   ],
   "source": [
    "ps = ts.to_period()\n",
    "ps"
   ]
  },
  {
   "cell_type": "code",
   "execution_count": 345,
   "id": "0b6186d3",
   "metadata": {},
   "outputs": [
    {
     "data": {
      "text/plain": [
       "2012-01-01   -0.032520\n",
       "2012-02-01    0.448457\n",
       "2012-03-01   -1.392803\n",
       "2012-04-01    0.679323\n",
       "2012-05-01   -0.405056\n",
       "Freq: MS, dtype: float64"
      ]
     },
     "execution_count": 345,
     "metadata": {},
     "output_type": "execute_result"
    }
   ],
   "source": [
    "ps.to_timestamp()"
   ]
  },
  {
   "cell_type": "markdown",
   "id": "f7a031a3",
   "metadata": {},
   "source": [
    "- Remember that ‘s’ and ‘e’ can be used to return the timestamps at the start or end of the period:"
   ]
  },
  {
   "cell_type": "code",
   "execution_count": 346,
   "id": "c45655d6",
   "metadata": {},
   "outputs": [
    {
     "data": {
      "text/plain": [
       "2012-01-01   -0.032520\n",
       "2012-02-01    0.448457\n",
       "2012-03-01   -1.392803\n",
       "2012-04-01    0.679323\n",
       "2012-05-01   -0.405056\n",
       "Freq: MS, dtype: float64"
      ]
     },
     "execution_count": 346,
     "metadata": {},
     "output_type": "execute_result"
    }
   ],
   "source": [
    "ps.to_timestamp(\"D\", how=\"s\")"
   ]
  },
  {
   "cell_type": "markdown",
   "id": "ca936858",
   "metadata": {},
   "source": [
    "- Converting between period and timestamp enables some convenient arithmetic functions to be used. In the following example, we convert a quarterly frequency with year ending in November to 9am of the end of the month following the quarter end:"
   ]
  },
  {
   "cell_type": "code",
   "execution_count": 347,
   "id": "91154b77",
   "metadata": {},
   "outputs": [
    {
     "data": {
      "text/plain": [
       "1990-03-01 09:00   -1.916962\n",
       "1990-06-01 09:00    0.466212\n",
       "1990-09-01 09:00   -0.628176\n",
       "1990-12-01 09:00   -0.637134\n",
       "1991-03-01 09:00    0.681354\n",
       "Freq: h, dtype: float64"
      ]
     },
     "execution_count": 347,
     "metadata": {},
     "output_type": "execute_result"
    }
   ],
   "source": [
    "prng = pd.period_range(\"1990Q1\", \"2000Q4\", freq=\"Q-NOV\")\n",
    "ts = pd.Series(np.random.randn(len(prng)), prng)\n",
    "ts.index = (prng.asfreq(\"M\", \"e\") + 1).asfreq(\"h\", \"s\") + 9\n",
    "ts.head()\n"
   ]
  },
  {
   "cell_type": "markdown",
   "id": "1af36025",
   "metadata": {},
   "source": [
    "#### Representing out-of-bounds spans\n",
    "- If you have data that is outside of the Timestamp bounds, see Timestamp limitations, then you can use a PeriodIndex and/or Series of Periods to do computations."
   ]
  },
  {
   "cell_type": "code",
   "execution_count": 348,
   "id": "f48a0288",
   "metadata": {},
   "outputs": [
    {
     "data": {
      "text/plain": [
       "PeriodIndex(['1215-01-01', '1215-01-02', '1215-01-03', '1215-01-04',\n",
       "             '1215-01-05', '1215-01-06', '1215-01-07', '1215-01-08',\n",
       "             '1215-01-09', '1215-01-10',\n",
       "             ...\n",
       "             '1380-12-23', '1380-12-24', '1380-12-25', '1380-12-26',\n",
       "             '1380-12-27', '1380-12-28', '1380-12-29', '1380-12-30',\n",
       "             '1380-12-31', '1381-01-01'],\n",
       "            dtype='period[D]', length=60632)"
      ]
     },
     "execution_count": 348,
     "metadata": {},
     "output_type": "execute_result"
    }
   ],
   "source": [
    "span = pd.period_range(\"1215-01-01\", \"1381-01-01\", freq=\"D\")\n",
    "span"
   ]
  },
  {
   "cell_type": "markdown",
   "id": "27483d21",
   "metadata": {},
   "source": [
    "- To convert from an int64 based YYYYMMDD representation."
   ]
  },
  {
   "cell_type": "code",
   "execution_count": 349,
   "id": "6b283b2a",
   "metadata": {},
   "outputs": [
    {
     "data": {
      "text/plain": [
       "0    20121231\n",
       "1    20141130\n",
       "2    99991231\n",
       "dtype: int64"
      ]
     },
     "execution_count": 349,
     "metadata": {},
     "output_type": "execute_result"
    }
   ],
   "source": [
    "s = pd.Series([20121231, 20141130, 99991231])\n",
    "s"
   ]
  },
  {
   "cell_type": "code",
   "execution_count": 350,
   "id": "741a77b4",
   "metadata": {},
   "outputs": [
    {
     "data": {
      "text/plain": [
       "0    2012-12-31\n",
       "1    2014-11-30\n",
       "2    9999-12-31\n",
       "dtype: period[D]"
      ]
     },
     "execution_count": 350,
     "metadata": {},
     "output_type": "execute_result"
    }
   ],
   "source": [
    "def conv(x):\n",
    "    return pd.Period(year=x // 10000, month=x // 100 % 100, day=x % 100, freq=\"D\")\n",
    "\n",
    "s.apply(conv)"
   ]
  },
  {
   "cell_type": "code",
   "execution_count": 351,
   "id": "6b8cd0e2",
   "metadata": {},
   "outputs": [
    {
     "data": {
      "text/plain": [
       "Period('9999-12-31', 'D')"
      ]
     },
     "execution_count": 351,
     "metadata": {},
     "output_type": "execute_result"
    }
   ],
   "source": [
    "s.apply(conv)[2]"
   ]
  },
  {
   "cell_type": "markdown",
   "id": "493baaca",
   "metadata": {},
   "source": [
    "- These can easily be converted to a PeriodIndex:"
   ]
  },
  {
   "cell_type": "code",
   "execution_count": 352,
   "id": "e4ce4103",
   "metadata": {},
   "outputs": [
    {
     "data": {
      "text/plain": [
       "PeriodIndex(['2012-12-31', '2014-11-30', '9999-12-31'], dtype='period[D]')"
      ]
     },
     "execution_count": 352,
     "metadata": {},
     "output_type": "execute_result"
    }
   ],
   "source": [
    "span = pd.PeriodIndex(s.apply(conv))\n",
    "span"
   ]
  },
  {
   "cell_type": "markdown",
   "id": "41d5bbed",
   "metadata": {},
   "source": [
    "#### Time zone handling\n",
    "- pandas provides rich support for working with timestamps in different time zones using the pytz and dateutil libraries or datetime.timezone objects from the standard library.\n",
    "\n",
    "#### Working with time zones\n",
    "- By default, pandas objects are time zone unaware:"
   ]
  },
  {
   "cell_type": "code",
   "execution_count": 353,
   "id": "37f95075",
   "metadata": {},
   "outputs": [
    {
     "data": {
      "text/plain": [
       "True"
      ]
     },
     "execution_count": 353,
     "metadata": {},
     "output_type": "execute_result"
    }
   ],
   "source": [
    "rng = pd.date_range(\"3/6/2012 00:00\", periods=15, freq=\"D\")\n",
    "rng.tz is None"
   ]
  },
  {
   "cell_type": "markdown",
   "id": "f979f137",
   "metadata": {},
   "source": [
    "- To localize these dates to a time zone (assign a particular time zone to a naive date), you can use the tz_localize method or the tz keyword argument in date_range(), Timestamp, or DatetimeIndex. You can either pass pytz or dateutil time zone objects or Olson time zone database strings. Olson time zone strings will return pytz time zone objects by default. To return dateutil time zone objects, append dateutil/ before the string.\n",
    "    - In pytz you can find a list of common (and less common) time zones using from pytz import common_timezones, all_timezones.\n",
    "    - dateutil uses the OS time zones so there isn’t a fixed list available. For common zones, the names are the same as pytz."
   ]
  },
  {
   "cell_type": "code",
   "execution_count": 354,
   "id": "683f72ed",
   "metadata": {},
   "outputs": [
    {
     "data": {
      "text/plain": [
       "<DstTzInfo 'Europe/London' LMT-1 day, 23:59:00 STD>"
      ]
     },
     "execution_count": 354,
     "metadata": {},
     "output_type": "execute_result"
    }
   ],
   "source": [
    "import dateutil\n",
    "\n",
    "rng_pytz = pd.date_range(\"3/6/2012 00:00\", periods=3, freq=\"D\", tz=\"Europe/London\")\n",
    "\n",
    "rng_pytz.tz"
   ]
  },
  {
   "cell_type": "code",
   "execution_count": 355,
   "id": "8ca87947",
   "metadata": {},
   "outputs": [
    {
     "data": {
      "text/plain": [
       "tzfile('GB-Eire')"
      ]
     },
     "execution_count": 355,
     "metadata": {},
     "output_type": "execute_result"
    }
   ],
   "source": [
    "rng_dateutil = pd.date_range(\"3/6/2012 00:00\", periods=3, freq=\"D\")\n",
    "rng_dateutil = rng_dateutil.tz_localize(\"dateutil/Europe/London\")\n",
    "rng_dateutil.tz"
   ]
  },
  {
   "cell_type": "code",
   "execution_count": 357,
   "id": "ad8ebbf5",
   "metadata": {},
   "outputs": [
    {
     "data": {
      "text/plain": [
       "tzutc()"
      ]
     },
     "execution_count": 357,
     "metadata": {},
     "output_type": "execute_result"
    }
   ],
   "source": [
    "# dateutil - utc special case\n",
    "rng_utc = pd.date_range(\n",
    "    \"3/6/2012 00:00\",\n",
    "    periods=3,\n",
    "    freq=\"D\",\n",
    "    tz=dateutil.tz.tzutc(),\n",
    ")\n",
    "rng_utc.tz"
   ]
  },
  {
   "cell_type": "code",
   "execution_count": 358,
   "id": "8cf4fa34",
   "metadata": {},
   "outputs": [
    {
     "data": {
      "text/plain": [
       "datetime.timezone.utc"
      ]
     },
     "execution_count": 358,
     "metadata": {},
     "output_type": "execute_result"
    }
   ],
   "source": [
    "# datetime.timezone\n",
    "rng_utc = pd.date_range(\n",
    "    \"3/6/2012 00:00\",\n",
    "    periods=3,\n",
    "    freq=\"D\",\n",
    "    tz=datetime.timezone.utc,\n",
    ")\n",
    "rng_utc.tz"
   ]
  },
  {
   "cell_type": "markdown",
   "id": "07c77c34",
   "metadata": {},
   "source": [
    "- Note that the UTC time zone is a special case in dateutil and should be constructed explicitly as an instance of dateutil.tz.tzutc. You can also construct other time zones objects explicitly first."
   ]
  },
  {
   "cell_type": "code",
   "execution_count": 359,
   "id": "c0511d55",
   "metadata": {},
   "outputs": [
    {
     "data": {
      "text/plain": [
       "True"
      ]
     },
     "execution_count": 359,
     "metadata": {},
     "output_type": "execute_result"
    }
   ],
   "source": [
    "import pytz\n",
    "\n",
    "tz_pytz = pytz.timezone(\"Europe/London\")\n",
    "rng_pytz = pd.date_range(\"3/6/2012 00:00\", periods=3, freq=\"D\")\n",
    "rng_pytz = rng_pytz.tz_localize(tz_pytz)\n",
    "rng_pytz.tz == tz_pytz\n"
   ]
  },
  {
   "cell_type": "code",
   "execution_count": 360,
   "id": "89b68cff",
   "metadata": {},
   "outputs": [
    {
     "data": {
      "text/plain": [
       "True"
      ]
     },
     "execution_count": 360,
     "metadata": {},
     "output_type": "execute_result"
    }
   ],
   "source": [
    "tz_dateutil = dateutil.tz.gettz(\"Europe/London\")\n",
    "rng_dateutil = pd.date_range(\"3/6/2012 00:00\", periods=3, freq=\"D\", tz=tz_dateutil)\n",
    "rng_dateutil.tz == tz_dateutil\n",
    "\n"
   ]
  },
  {
   "cell_type": "markdown",
   "id": "4ea92ed2",
   "metadata": {},
   "source": [
    "- To convert a time zone aware pandas object from one time zone to another, you can use the tz_convert method."
   ]
  },
  {
   "cell_type": "code",
   "execution_count": 361,
   "id": "cec46b27",
   "metadata": {},
   "outputs": [
    {
     "data": {
      "text/plain": [
       "DatetimeIndex(['2012-03-05 19:00:00-05:00', '2012-03-06 19:00:00-05:00',\n",
       "               '2012-03-07 19:00:00-05:00'],\n",
       "              dtype='datetime64[ns, US/Eastern]', freq=None)"
      ]
     },
     "execution_count": 361,
     "metadata": {},
     "output_type": "execute_result"
    }
   ],
   "source": [
    "rng_pytz.tz_convert(\"US/Eastern\")"
   ]
  },
  {
   "cell_type": "markdown",
   "id": "0d9a7620",
   "metadata": {},
   "source": [
    "- **Note**:  When using pytz time zones, DatetimeIndex will construct a different time zone object than a Timestamp for the same time zone input. A DatetimeIndex can hold a collection of Timestamp objects that may have different UTC offsets and cannot be succinctly represented by one pytz time zone instance while one Timestamp represents one point in time with a specific UTC offset."
   ]
  },
  {
   "cell_type": "code",
   "execution_count": 362,
   "id": "df54f188",
   "metadata": {},
   "outputs": [
    {
     "data": {
      "text/plain": [
       "<DstTzInfo 'US/Pacific' LMT-1 day, 16:07:00 STD>"
      ]
     },
     "execution_count": 362,
     "metadata": {},
     "output_type": "execute_result"
    }
   ],
   "source": [
    "dti = pd.date_range(\"2019-01-01\", periods=3, freq=\"D\", tz=\"US/Pacific\")\n",
    "dti.tz"
   ]
  },
  {
   "cell_type": "code",
   "execution_count": 363,
   "id": "6e56809b",
   "metadata": {},
   "outputs": [
    {
     "data": {
      "text/plain": [
       "<DstTzInfo 'US/Pacific' PST-1 day, 16:00:00 STD>"
      ]
     },
     "execution_count": 363,
     "metadata": {},
     "output_type": "execute_result"
    }
   ],
   "source": [
    "ts = pd.Timestamp(\"2019-01-01\", tz=\"US/Pacific\")\n",
    "ts.tz"
   ]
  },
  {
   "cell_type": "markdown",
   "id": "7eaa8be6",
   "metadata": {},
   "source": [
    "- **Warning**: Be wary of conversions between libraries. For some time zones, pytz and dateutil have different definitions of the zone. This is more of a problem for unusual time zones than for ‘standard’ zones like US/Eastern.\n",
    "- **Warning**: Be aware that a time zone definition across versions of time zone libraries may not be considered equal. This may cause problems when working with stored data that is localized using one version and operated on with a different version. See here for how to handle such a situation.\n",
    "- **Warning**: For pytz time zones, it is incorrect to pass a time zone object directly into the datetime.datetime constructor (e.g., datetime.datetime(2011, 1, 1), tzinfo=pytz.timezone('US/Eastern')). Instead, the datetime needs to be localized using the localize method on the pytz time zone object.\n",
    "- **Warning**: Be aware that for times in the future, correct conversion between time zones (and UTC) cannot be guaranteed by any time zone library because a timezone’s offset from UTC may be changed by the respective government.\n",
    "- **Warning**: If you are using dates beyond 2038-01-18, due to current deficiencies in the underlying libraries caused by the year 2038 problem, daylight saving time (DST) adjustments to timezone aware dates will not be applied. If and when the underlying libraries are fixed, the DST transitions will be applied.\n",
    "\n",
    "- For example, for two dates that are in British Summer Time (and so would normally be GMT+1), both the following asserts evaluate as true:"
   ]
  },
  {
   "cell_type": "code",
   "execution_count": 364,
   "id": "3f79971f",
   "metadata": {},
   "outputs": [],
   "source": [
    "d_2037 = \"2037-03-31T010101\"\n",
    "d_2038 = \"2038-03-31T010101\"\n",
    "DST = \"Europe/London\"\n",
    "assert pd.Timestamp(d_2037, tz=DST) != pd.Timestamp(d_2037, tz=\"GMT\")\n",
    "assert pd.Timestamp(d_2038, tz=DST) == pd.Timestamp(d_2038, tz=\"GMT\")\n"
   ]
  },
  {
   "cell_type": "markdown",
   "id": "21833c71",
   "metadata": {},
   "source": [
    "- Under the hood, all timestamps are stored in UTC. Values from a time zone aware DatetimeIndex or Timestamp will have their fields (day, hour, minute, etc.) localized to the time zone. However, timestamps with the same UTC value are still considered to be equal even if they are in different time zones:"
   ]
  },
  {
   "cell_type": "code",
   "execution_count": 365,
   "id": "287558f9",
   "metadata": {},
   "outputs": [
    {
     "data": {
      "text/plain": [
       "Timestamp('2012-03-07 19:00:00-0500', tz='US/Eastern')"
      ]
     },
     "execution_count": 365,
     "metadata": {},
     "output_type": "execute_result"
    }
   ],
   "source": [
    "rng_eastern = rng_utc.tz_convert(\"US/Eastern\")\n",
    "rng_berlin = rng_utc.tz_convert(\"Europe/Berlin\")\n",
    "rng_eastern[2]\n"
   ]
  },
  {
   "cell_type": "code",
   "execution_count": 366,
   "id": "0a0f1b09",
   "metadata": {},
   "outputs": [
    {
     "data": {
      "text/plain": [
       "Timestamp('2012-03-08 01:00:00+0100', tz='Europe/Berlin')"
      ]
     },
     "execution_count": 366,
     "metadata": {},
     "output_type": "execute_result"
    }
   ],
   "source": [
    "rng_berlin[2]\n"
   ]
  },
  {
   "cell_type": "code",
   "execution_count": 367,
   "id": "9c7edab1",
   "metadata": {},
   "outputs": [
    {
     "data": {
      "text/plain": [
       "True"
      ]
     },
     "execution_count": 367,
     "metadata": {},
     "output_type": "execute_result"
    }
   ],
   "source": [
    "rng_eastern[2] == rng_berlin[2]"
   ]
  },
  {
   "cell_type": "markdown",
   "id": "64eaa4c5",
   "metadata": {},
   "source": [
    "- Operations between Series in different time zones will yield UTC Series, aligning the data on the UTC timestamps:"
   ]
  },
  {
   "cell_type": "code",
   "execution_count": 368,
   "id": "5739d471",
   "metadata": {},
   "outputs": [
    {
     "data": {
      "text/plain": [
       "2013-01-01 00:00:00+00:00    0\n",
       "2013-01-02 00:00:00+00:00    2\n",
       "2013-01-03 00:00:00+00:00    4\n",
       "Freq: D, dtype: int64"
      ]
     },
     "execution_count": 368,
     "metadata": {},
     "output_type": "execute_result"
    }
   ],
   "source": [
    "ts_utc = pd.Series(range(3), pd.date_range(\"20130101\", periods=3, tz=\"UTC\"))\n",
    "eastern = ts_utc.tz_convert(\"US/Eastern\")\n",
    "berlin = ts_utc.tz_convert(\"Europe/Berlin\")\n",
    "result = eastern + berlin\n",
    "result"
   ]
  },
  {
   "cell_type": "code",
   "execution_count": 369,
   "id": "db70dd53",
   "metadata": {},
   "outputs": [
    {
     "data": {
      "text/plain": [
       "DatetimeIndex(['2013-01-01 00:00:00+00:00', '2013-01-02 00:00:00+00:00',\n",
       "               '2013-01-03 00:00:00+00:00'],\n",
       "              dtype='datetime64[ns, UTC]', freq='D')"
      ]
     },
     "execution_count": 369,
     "metadata": {},
     "output_type": "execute_result"
    }
   ],
   "source": [
    "result.index"
   ]
  },
  {
   "cell_type": "markdown",
   "id": "267ada27",
   "metadata": {},
   "source": [
    "- To remove time zone information, use tz_localize(None) or tz_convert(None). tz_localize(None) will remove the time zone yielding the local time representation. tz_convert(None) will remove the time zone after converting to UTC time."
   ]
  },
  {
   "cell_type": "code",
   "execution_count": 370,
   "id": "6779c237",
   "metadata": {},
   "outputs": [
    {
     "data": {
      "text/plain": [
       "DatetimeIndex(['2014-08-01 09:00:00-04:00', '2014-08-01 10:00:00-04:00',\n",
       "               '2014-08-01 11:00:00-04:00'],\n",
       "              dtype='datetime64[ns, US/Eastern]', freq='h')"
      ]
     },
     "execution_count": 370,
     "metadata": {},
     "output_type": "execute_result"
    }
   ],
   "source": [
    "didx = pd.date_range(start=\"2014-08-01 09:00\", freq=\"h\", periods=3, tz=\"US/Eastern\")\n",
    "didx"
   ]
  },
  {
   "cell_type": "code",
   "execution_count": 371,
   "id": "ce7093fa",
   "metadata": {},
   "outputs": [
    {
     "data": {
      "text/plain": [
       "DatetimeIndex(['2014-08-01 09:00:00', '2014-08-01 10:00:00',\n",
       "               '2014-08-01 11:00:00'],\n",
       "              dtype='datetime64[ns]', freq=None)"
      ]
     },
     "execution_count": 371,
     "metadata": {},
     "output_type": "execute_result"
    }
   ],
   "source": [
    "didx.tz_localize(None)"
   ]
  },
  {
   "cell_type": "code",
   "execution_count": 372,
   "id": "9cf5246d",
   "metadata": {},
   "outputs": [
    {
     "data": {
      "text/plain": [
       "DatetimeIndex(['2014-08-01 13:00:00', '2014-08-01 14:00:00',\n",
       "               '2014-08-01 15:00:00'],\n",
       "              dtype='datetime64[ns]', freq='h')"
      ]
     },
     "execution_count": 372,
     "metadata": {},
     "output_type": "execute_result"
    }
   ],
   "source": [
    "didx.tz_convert(None)"
   ]
  },
  {
   "cell_type": "code",
   "execution_count": 373,
   "id": "62dc1178",
   "metadata": {},
   "outputs": [
    {
     "data": {
      "text/plain": [
       "DatetimeIndex(['2014-08-01 13:00:00', '2014-08-01 14:00:00',\n",
       "               '2014-08-01 15:00:00'],\n",
       "              dtype='datetime64[ns]', freq=None)"
      ]
     },
     "execution_count": 373,
     "metadata": {},
     "output_type": "execute_result"
    }
   ],
   "source": [
    "# tz_convert(None) is identical to tz_convert('UTC').tz_localize(None)\n",
    "didx.tz_convert(\"UTC\").tz_localize(None)"
   ]
  },
  {
   "cell_type": "markdown",
   "id": "9fa478ca",
   "metadata": {},
   "source": [
    "#### Fold\n",
    "- For ambiguous times, pandas supports explicitly specifying the keyword-only fold argument. Due to daylight saving time, one wall clock time can occur twice when shifting from summer to winter time; fold describes whether the datetime-like corresponds to the first (0) or the second time (1) the wall clock hits the ambiguous time. Fold is supported only for constructing from naive datetime.datetime (see datetime documentation for details) or from Timestamp or for constructing from components (see below). Only dateutil timezones are supported (see dateutil documentation for dateutil methods that deal with ambiguous datetimes) as pytz timezones do not support fold (see pytz documentation for details on how pytz deals with ambiguous datetimes). To localize an ambiguous datetime with pytz, please use Timestamp.tz_localize(). In general, we recommend to rely on Timestamp.tz_localize() when localizing ambiguous datetimes if you need direct control over how they are handled."
   ]
  },
  {
   "cell_type": "code",
   "execution_count": 374,
   "id": "9200ff3d",
   "metadata": {},
   "outputs": [
    {
     "data": {
      "text/plain": [
       "Timestamp('2019-10-27 01:30:00+0100', tz='dateutil/GB-Eire')"
      ]
     },
     "execution_count": 374,
     "metadata": {},
     "output_type": "execute_result"
    }
   ],
   "source": [
    "pd.Timestamp(\n",
    "    datetime.datetime(2019, 10, 27, 1, 30, 0, 0),\n",
    "    tz=\"dateutil/Europe/London\",\n",
    "    fold=0,\n",
    ")"
   ]
  },
  {
   "cell_type": "code",
   "execution_count": 375,
   "id": "4319a6a3",
   "metadata": {},
   "outputs": [
    {
     "data": {
      "text/plain": [
       "Timestamp('2019-10-27 01:30:00+0000', tz='dateutil/GB-Eire')"
      ]
     },
     "execution_count": 375,
     "metadata": {},
     "output_type": "execute_result"
    }
   ],
   "source": [
    "pd.Timestamp(\n",
    "    year=2019,\n",
    "    month=10,\n",
    "    day=27,\n",
    "    hour=1,\n",
    "    minute=30,\n",
    "    tz=\"dateutil/Europe/London\",\n",
    "    fold=1,\n",
    ")"
   ]
  },
  {
   "cell_type": "markdown",
   "id": "ab1f6c00",
   "metadata": {},
   "source": [
    "#### Ambiguous times when localizing\n",
    "- tz_localize may not be able to determine the UTC offset of a timestamp because daylight savings time (DST) in a local time zone causes some times to occur twice within one day (“clocks fall back”). The following options are available:\n",
    "    - 'raise': Raises a pytz.AmbiguousTimeError (the default behavior)\n",
    "    - 'infer': Attempt to determine the correct offset base on the monotonicity of the timestamps\n",
    "    - 'NaT': Replaces ambiguous times with NaT\n",
    "    - bool: True represents a DST time, False represents non-DST time. An array-like of bool values is supported for a sequence of times."
   ]
  },
  {
   "cell_type": "code",
   "execution_count": 376,
   "id": "e7105cca",
   "metadata": {},
   "outputs": [],
   "source": [
    "rng_hourly = pd.DatetimeIndex(\n",
    "    [\"11/06/2011 00:00\", \"11/06/2011 01:00\", \"11/06/2011 01:00\", \"11/06/2011 02:00\"]\n",
    ")"
   ]
  },
  {
   "cell_type": "markdown",
   "id": "4b970ed5",
   "metadata": {},
   "source": [
    "- This will fail as there are ambiguous times ('11/06/2011 01:00')"
   ]
  },
  {
   "cell_type": "code",
   "execution_count": 378,
   "id": "d6604d69",
   "metadata": {},
   "outputs": [
    {
     "name": "stdout",
     "output_type": "stream",
     "text": [
      "Cannot infer dst time from 2011-11-06 01:00:00, try using the 'ambiguous' argument\n"
     ]
    }
   ],
   "source": [
    "try:\n",
    "    rng_hourly.tz_localize('US/Eastern')\n",
    "except Exception as e:\n",
    "    print(e)"
   ]
  },
  {
   "cell_type": "markdown",
   "id": "b3751402",
   "metadata": {},
   "source": [
    "- Handle these ambiguous times by specifying the following."
   ]
  },
  {
   "cell_type": "code",
   "execution_count": 379,
   "id": "fd311f80",
   "metadata": {},
   "outputs": [
    {
     "data": {
      "text/plain": [
       "DatetimeIndex(['2011-11-06 00:00:00-04:00', '2011-11-06 01:00:00-04:00',\n",
       "               '2011-11-06 01:00:00-05:00', '2011-11-06 02:00:00-05:00'],\n",
       "              dtype='datetime64[ns, US/Eastern]', freq=None)"
      ]
     },
     "execution_count": 379,
     "metadata": {},
     "output_type": "execute_result"
    }
   ],
   "source": [
    "rng_hourly.tz_localize(\"US/Eastern\", ambiguous=\"infer\")"
   ]
  },
  {
   "cell_type": "code",
   "execution_count": 380,
   "id": "d20085f0",
   "metadata": {},
   "outputs": [
    {
     "data": {
      "text/plain": [
       "DatetimeIndex(['2011-11-06 00:00:00-04:00', 'NaT', 'NaT',\n",
       "               '2011-11-06 02:00:00-05:00'],\n",
       "              dtype='datetime64[ns, US/Eastern]', freq=None)"
      ]
     },
     "execution_count": 380,
     "metadata": {},
     "output_type": "execute_result"
    }
   ],
   "source": [
    "rng_hourly.tz_localize(\"US/Eastern\", ambiguous=\"NaT\")"
   ]
  },
  {
   "cell_type": "code",
   "execution_count": 381,
   "id": "8def072d",
   "metadata": {},
   "outputs": [
    {
     "data": {
      "text/plain": [
       "DatetimeIndex(['2011-11-06 00:00:00-04:00', '2011-11-06 01:00:00-04:00',\n",
       "               '2011-11-06 01:00:00-05:00', '2011-11-06 02:00:00-05:00'],\n",
       "              dtype='datetime64[ns, US/Eastern]', freq=None)"
      ]
     },
     "execution_count": 381,
     "metadata": {},
     "output_type": "execute_result"
    }
   ],
   "source": [
    "rng_hourly.tz_localize(\"US/Eastern\", ambiguous=[True, True, False, False])\n"
   ]
  },
  {
   "cell_type": "markdown",
   "id": "2cdd1a47",
   "metadata": {},
   "source": [
    "#### Nonexistent times when localizing\n",
    "- A DST transition may also shift the local time ahead by 1 hour creating nonexistent local times (“clocks spring forward”). The behavior of localizing a timeseries with nonexistent times can be controlled by the nonexistent argument. The following options are available:\n",
    "    - 'raise': Raises a pytz.NonExistentTimeError (the default behavior)\n",
    "    - 'NaT': Replaces nonexistent times with NaT\n",
    "    - 'shift_forward': Shifts nonexistent times forward to the closest real time\n",
    "    - 'shift_backward': Shifts nonexistent times backward to the closest real time\n",
    "    - timedelta object: Shifts nonexistent times by the timedelta duration"
   ]
  },
  {
   "cell_type": "code",
   "execution_count": 382,
   "id": "5c27220f",
   "metadata": {},
   "outputs": [],
   "source": [
    "dti = pd.date_range(start=\"2015-03-29 02:30:00\", periods=3, freq=\"h\")\n"
   ]
  },
  {
   "cell_type": "markdown",
   "id": "37b4d216",
   "metadata": {},
   "source": [
    "- Localization of nonexistent times will raise an error by default."
   ]
  },
  {
   "cell_type": "code",
   "execution_count": 383,
   "id": "eb13e364",
   "metadata": {},
   "outputs": [
    {
     "name": "stdout",
     "output_type": "stream",
     "text": [
      "2015-03-29 02:30:00\n"
     ]
    }
   ],
   "source": [
    "try:\n",
    "    dti.tz_localize('Europe/Warsaw')\n",
    "except Exception as e:\n",
    "    print(e)"
   ]
  },
  {
   "cell_type": "markdown",
   "id": "00448f36",
   "metadata": {},
   "source": [
    "- Transform nonexistent times to NaT or shift the times."
   ]
  },
  {
   "cell_type": "code",
   "execution_count": 384,
   "id": "554f9b18",
   "metadata": {},
   "outputs": [
    {
     "data": {
      "text/plain": [
       "DatetimeIndex(['2015-03-29 02:30:00', '2015-03-29 03:30:00',\n",
       "               '2015-03-29 04:30:00'],\n",
       "              dtype='datetime64[ns]', freq='h')"
      ]
     },
     "execution_count": 384,
     "metadata": {},
     "output_type": "execute_result"
    }
   ],
   "source": [
    "dti"
   ]
  },
  {
   "cell_type": "code",
   "execution_count": 385,
   "id": "ec0b33b5",
   "metadata": {},
   "outputs": [
    {
     "data": {
      "text/plain": [
       "DatetimeIndex(['2015-03-29 03:00:00+02:00', '2015-03-29 03:30:00+02:00',\n",
       "               '2015-03-29 04:30:00+02:00'],\n",
       "              dtype='datetime64[ns, Europe/Warsaw]', freq=None)"
      ]
     },
     "execution_count": 385,
     "metadata": {},
     "output_type": "execute_result"
    }
   ],
   "source": [
    "dti.tz_localize(\"Europe/Warsaw\", nonexistent=\"shift_forward\")\n"
   ]
  },
  {
   "cell_type": "code",
   "execution_count": 386,
   "id": "fe544cf2",
   "metadata": {},
   "outputs": [
    {
     "data": {
      "text/plain": [
       "DatetimeIndex(['2015-03-29 01:59:59.999999999+01:00',\n",
       "                         '2015-03-29 03:30:00+02:00',\n",
       "                         '2015-03-29 04:30:00+02:00'],\n",
       "              dtype='datetime64[ns, Europe/Warsaw]', freq=None)"
      ]
     },
     "execution_count": 386,
     "metadata": {},
     "output_type": "execute_result"
    }
   ],
   "source": [
    "dti.tz_localize(\"Europe/Warsaw\", nonexistent=\"shift_backward\")\n"
   ]
  },
  {
   "cell_type": "code",
   "execution_count": 387,
   "id": "d95f81a8",
   "metadata": {},
   "outputs": [
    {
     "data": {
      "text/plain": [
       "DatetimeIndex(['2015-03-29 03:30:00+02:00', '2015-03-29 03:30:00+02:00',\n",
       "               '2015-03-29 04:30:00+02:00'],\n",
       "              dtype='datetime64[ns, Europe/Warsaw]', freq=None)"
      ]
     },
     "execution_count": 387,
     "metadata": {},
     "output_type": "execute_result"
    }
   ],
   "source": [
    "dti.tz_localize(\"Europe/Warsaw\", nonexistent=pd.Timedelta(1, unit=\"h\"))\n"
   ]
  },
  {
   "cell_type": "code",
   "execution_count": 388,
   "id": "0eb0b664",
   "metadata": {},
   "outputs": [
    {
     "data": {
      "text/plain": [
       "DatetimeIndex(['NaT', '2015-03-29 03:30:00+02:00',\n",
       "               '2015-03-29 04:30:00+02:00'],\n",
       "              dtype='datetime64[ns, Europe/Warsaw]', freq=None)"
      ]
     },
     "execution_count": 388,
     "metadata": {},
     "output_type": "execute_result"
    }
   ],
   "source": [
    "dti.tz_localize(\"Europe/Warsaw\", nonexistent=\"NaT\")\n"
   ]
  },
  {
   "cell_type": "markdown",
   "id": "baec663e",
   "metadata": {},
   "source": [
    "#### Time zone Series operations\n",
    "- A Series with time zone naive values is represented with a dtype of datetime64[ns]."
   ]
  },
  {
   "cell_type": "code",
   "execution_count": 389,
   "id": "2617fab4",
   "metadata": {},
   "outputs": [
    {
     "data": {
      "text/plain": [
       "0   2013-01-01\n",
       "1   2013-01-02\n",
       "2   2013-01-03\n",
       "dtype: datetime64[ns]"
      ]
     },
     "execution_count": 389,
     "metadata": {},
     "output_type": "execute_result"
    }
   ],
   "source": [
    "s_naive = pd.Series(pd.date_range(\"20130101\", periods=3))\n",
    "s_naive"
   ]
  },
  {
   "cell_type": "markdown",
   "id": "44f18863",
   "metadata": {},
   "source": [
    "- A Series with a time zone aware values is represented with a dtype of datetime64[ns, tz] where tz is the time zone"
   ]
  },
  {
   "cell_type": "code",
   "execution_count": 390,
   "id": "48b83639",
   "metadata": {},
   "outputs": [
    {
     "data": {
      "text/plain": [
       "0   2013-01-01 00:00:00-05:00\n",
       "1   2013-01-02 00:00:00-05:00\n",
       "2   2013-01-03 00:00:00-05:00\n",
       "dtype: datetime64[ns, US/Eastern]"
      ]
     },
     "execution_count": 390,
     "metadata": {},
     "output_type": "execute_result"
    }
   ],
   "source": [
    "s_aware = pd.Series(pd.date_range(\"20130101\", periods=3, tz=\"US/Eastern\"))\n",
    "s_aware"
   ]
  },
  {
   "cell_type": "markdown",
   "id": "7685d857",
   "metadata": {},
   "source": [
    "- Both of these Series time zone information can be manipulated via the .dt accessor, see the dt accessor section.\n",
    "\n",
    "- For example, to localize and convert a naive stamp to time zone aware."
   ]
  },
  {
   "cell_type": "code",
   "execution_count": 391,
   "id": "902cd806",
   "metadata": {},
   "outputs": [
    {
     "data": {
      "text/plain": [
       "0   2012-12-31 19:00:00-05:00\n",
       "1   2013-01-01 19:00:00-05:00\n",
       "2   2013-01-02 19:00:00-05:00\n",
       "dtype: datetime64[ns, US/Eastern]"
      ]
     },
     "execution_count": 391,
     "metadata": {},
     "output_type": "execute_result"
    }
   ],
   "source": [
    "s_naive.dt.tz_localize(\"UTC\").dt.tz_convert(\"US/Eastern\")\n"
   ]
  },
  {
   "cell_type": "markdown",
   "id": "653a7fde",
   "metadata": {},
   "source": [
    "- Time zone information can also be manipulated using the astype method. This method can convert between different timezone-aware dtypes."
   ]
  },
  {
   "cell_type": "code",
   "execution_count": 392,
   "id": "45d93d87",
   "metadata": {},
   "outputs": [
    {
     "data": {
      "text/plain": [
       "0   2013-01-01 06:00:00+01:00\n",
       "1   2013-01-02 06:00:00+01:00\n",
       "2   2013-01-03 06:00:00+01:00\n",
       "dtype: datetime64[ns, CET]"
      ]
     },
     "execution_count": 392,
     "metadata": {},
     "output_type": "execute_result"
    }
   ],
   "source": [
    "# convert to a new time zone\n",
    "s_aware.astype(\"datetime64[ns, CET]\")"
   ]
  },
  {
   "cell_type": "markdown",
   "id": "1c4b9a4a",
   "metadata": {},
   "source": [
    "- **Note**: Using Series.to_numpy() on a Series, returns a NumPy array of the data. NumPy does not currently support time zones (even though it is printing in the local time zone!), therefore an object array of Timestamps is returned for time zone aware data:"
   ]
  },
  {
   "cell_type": "code",
   "execution_count": 393,
   "id": "a403c985",
   "metadata": {},
   "outputs": [
    {
     "data": {
      "text/plain": [
       "array(['2013-01-01T00:00:00.000000000', '2013-01-02T00:00:00.000000000',\n",
       "       '2013-01-03T00:00:00.000000000'], dtype='datetime64[ns]')"
      ]
     },
     "execution_count": 393,
     "metadata": {},
     "output_type": "execute_result"
    }
   ],
   "source": [
    "s_naive.to_numpy()"
   ]
  },
  {
   "cell_type": "code",
   "execution_count": 394,
   "id": "ff91c92d",
   "metadata": {},
   "outputs": [
    {
     "data": {
      "text/plain": [
       "array([Timestamp('2013-01-01 00:00:00-0500', tz='US/Eastern'),\n",
       "       Timestamp('2013-01-02 00:00:00-0500', tz='US/Eastern'),\n",
       "       Timestamp('2013-01-03 00:00:00-0500', tz='US/Eastern')],\n",
       "      dtype=object)"
      ]
     },
     "execution_count": 394,
     "metadata": {},
     "output_type": "execute_result"
    }
   ],
   "source": [
    "s_aware.to_numpy()"
   ]
  },
  {
   "cell_type": "markdown",
   "id": "e9aa3583",
   "metadata": {},
   "source": [
    "- By converting to an object array of Timestamps, it preserves the time zone information. For example, when converting back to a Series:"
   ]
  },
  {
   "cell_type": "code",
   "execution_count": 395,
   "id": "61533449",
   "metadata": {},
   "outputs": [
    {
     "data": {
      "text/plain": [
       "0   2013-01-01 00:00:00-05:00\n",
       "1   2013-01-02 00:00:00-05:00\n",
       "2   2013-01-03 00:00:00-05:00\n",
       "dtype: datetime64[ns, US/Eastern]"
      ]
     },
     "execution_count": 395,
     "metadata": {},
     "output_type": "execute_result"
    }
   ],
   "source": [
    "pd.Series(s_aware.to_numpy())"
   ]
  },
  {
   "cell_type": "markdown",
   "id": "53f2334b",
   "metadata": {},
   "source": [
    "- However, if you want an actual NumPy datetime64[ns] array (with the values converted to UTC) instead of an array of objects, you can specify the dtype argument:"
   ]
  },
  {
   "cell_type": "code",
   "execution_count": 396,
   "id": "ac82d84e",
   "metadata": {},
   "outputs": [
    {
     "data": {
      "text/plain": [
       "array(['2013-01-01T05:00:00.000000000', '2013-01-02T05:00:00.000000000',\n",
       "       '2013-01-03T05:00:00.000000000'], dtype='datetime64[ns]')"
      ]
     },
     "execution_count": 396,
     "metadata": {},
     "output_type": "execute_result"
    }
   ],
   "source": [
    "s_aware.to_numpy(dtype=\"datetime64[ns]\")"
   ]
  },
  {
   "cell_type": "markdown",
   "id": "e61bb5ce",
   "metadata": {},
   "source": [
    "#### Time deltas\n",
    "- From https://pandas.pydata.org/docs/user_guide/timedeltas.html\n",
    "- Timedeltas are differences in times, expressed in difference units, e.g. days, hours, minutes, seconds. They can be both positive and negative.\n",
    "\n",
    "- Timedelta is a subclass of datetime.timedelta, and behaves in a similar manner, but allows compatibility with np.timedelta64 types as well as a host of custom representation, parsing, and attributes.\n",
    "\n",
    "#### Parsing\n",
    "- You can construct a Timedelta scalar through various arguments, including ISO 8601 Duration strings."
   ]
  },
  {
   "cell_type": "code",
   "execution_count": 397,
   "id": "72af060b",
   "metadata": {},
   "outputs": [
    {
     "data": {
      "text/plain": [
       "Timedelta('1 days 00:00:00')"
      ]
     },
     "execution_count": 397,
     "metadata": {},
     "output_type": "execute_result"
    }
   ],
   "source": [
    "import datetime\n",
    "\n",
    "# strings\n",
    "pd.Timedelta(\"1 days\")"
   ]
  },
  {
   "cell_type": "code",
   "execution_count": 398,
   "id": "8c45ac2f",
   "metadata": {},
   "outputs": [
    {
     "data": {
      "text/plain": [
       "Timedelta('1 days 00:00:00')"
      ]
     },
     "execution_count": 398,
     "metadata": {},
     "output_type": "execute_result"
    }
   ],
   "source": [
    "pd.Timedelta(\"1 days 00:00:00\")"
   ]
  },
  {
   "cell_type": "code",
   "execution_count": 399,
   "id": "3180e727",
   "metadata": {},
   "outputs": [
    {
     "data": {
      "text/plain": [
       "Timedelta('1 days 02:00:00')"
      ]
     },
     "execution_count": 399,
     "metadata": {},
     "output_type": "execute_result"
    }
   ],
   "source": [
    "pd.Timedelta(\"1 days 2 hours\")"
   ]
  },
  {
   "cell_type": "code",
   "execution_count": 400,
   "id": "f4498b25",
   "metadata": {},
   "outputs": [
    {
     "data": {
      "text/plain": [
       "Timedelta('-2 days +23:57:59.999997')"
      ]
     },
     "execution_count": 400,
     "metadata": {},
     "output_type": "execute_result"
    }
   ],
   "source": [
    "pd.Timedelta(\"-1 days 2 min 3us\")\n"
   ]
  },
  {
   "cell_type": "code",
   "execution_count": 401,
   "id": "f9e7cff2",
   "metadata": {},
   "outputs": [
    {
     "data": {
      "text/plain": [
       "Timedelta('1 days 00:00:01')"
      ]
     },
     "execution_count": 401,
     "metadata": {},
     "output_type": "execute_result"
    }
   ],
   "source": [
    "# like datetime.timedelta\n",
    "# note: these MUST be specified as keyword arguments\n",
    "pd.Timedelta(days=1, seconds=1)"
   ]
  },
  {
   "cell_type": "code",
   "execution_count": 402,
   "id": "61f519bc",
   "metadata": {},
   "outputs": [
    {
     "data": {
      "text/plain": [
       "Timedelta('1 days 00:00:00')"
      ]
     },
     "execution_count": 402,
     "metadata": {},
     "output_type": "execute_result"
    }
   ],
   "source": [
    "# integers with a unit\n",
    "pd.Timedelta(1, unit=\"d\")"
   ]
  },
  {
   "cell_type": "code",
   "execution_count": 403,
   "id": "6dadd90b",
   "metadata": {},
   "outputs": [
    {
     "data": {
      "text/plain": [
       "Timedelta('1 days 00:00:01')"
      ]
     },
     "execution_count": 403,
     "metadata": {},
     "output_type": "execute_result"
    }
   ],
   "source": [
    "# from a datetime.timedelta/np.timedelta64\n",
    "pd.Timedelta(datetime.timedelta(days=1, seconds=1))"
   ]
  },
  {
   "cell_type": "code",
   "execution_count": 404,
   "id": "62e75d0c",
   "metadata": {},
   "outputs": [
    {
     "data": {
      "text/plain": [
       "Timedelta('0 days 00:00:00.001000')"
      ]
     },
     "execution_count": 404,
     "metadata": {},
     "output_type": "execute_result"
    }
   ],
   "source": [
    "pd.Timedelta(np.timedelta64(1, \"ms\"))"
   ]
  },
  {
   "cell_type": "code",
   "execution_count": 405,
   "id": "11c4c19f",
   "metadata": {},
   "outputs": [
    {
     "data": {
      "text/plain": [
       "Timedelta('-1 days +23:59:59.999999')"
      ]
     },
     "execution_count": 405,
     "metadata": {},
     "output_type": "execute_result"
    }
   ],
   "source": [
    "# negative Timedeltas have this string repr\n",
    "# to be more consistent with datetime.timedelta conventions\n",
    "pd.Timedelta(\"-1us\")"
   ]
  },
  {
   "cell_type": "code",
   "execution_count": 406,
   "id": "f6239995",
   "metadata": {},
   "outputs": [
    {
     "data": {
      "text/plain": [
       "NaT"
      ]
     },
     "execution_count": 406,
     "metadata": {},
     "output_type": "execute_result"
    }
   ],
   "source": [
    "# a NaT\n",
    "pd.Timedelta(\"nan\")"
   ]
  },
  {
   "cell_type": "code",
   "execution_count": 407,
   "id": "0a8547b8",
   "metadata": {},
   "outputs": [
    {
     "data": {
      "text/plain": [
       "NaT"
      ]
     },
     "execution_count": 407,
     "metadata": {},
     "output_type": "execute_result"
    }
   ],
   "source": [
    "pd.Timedelta(\"nat\")"
   ]
  },
  {
   "cell_type": "code",
   "execution_count": 408,
   "id": "f4e89024",
   "metadata": {},
   "outputs": [
    {
     "data": {
      "text/plain": [
       "Timedelta('0 days 00:01:00')"
      ]
     },
     "execution_count": 408,
     "metadata": {},
     "output_type": "execute_result"
    }
   ],
   "source": [
    "# ISO 8601 Duration strings\n",
    "pd.Timedelta(\"P0DT0H1M0S\")"
   ]
  },
  {
   "cell_type": "code",
   "execution_count": 409,
   "id": "f517344e",
   "metadata": {},
   "outputs": [
    {
     "data": {
      "text/plain": [
       "Timedelta('0 days 00:00:00.000000123')"
      ]
     },
     "execution_count": 409,
     "metadata": {},
     "output_type": "execute_result"
    }
   ],
   "source": [
    "pd.Timedelta(\"P0DT0H0M0.000000123S\")"
   ]
  },
  {
   "cell_type": "markdown",
   "id": "30ada0c8",
   "metadata": {},
   "source": [
    "- DateOffsets (Day, Hour, Minute, Second, Milli, Micro, Nano) can also be used in construction."
   ]
  },
  {
   "cell_type": "code",
   "execution_count": 410,
   "id": "5f8719f7",
   "metadata": {},
   "outputs": [
    {
     "data": {
      "text/plain": [
       "Timedelta('0 days 00:00:02')"
      ]
     },
     "execution_count": 410,
     "metadata": {},
     "output_type": "execute_result"
    }
   ],
   "source": [
    "pd.Timedelta(pd.offsets.Second(2))"
   ]
  },
  {
   "cell_type": "markdown",
   "id": "9656c5c3",
   "metadata": {},
   "source": [
    "- Further, operations among the scalars yield another scalar Timedelta."
   ]
  },
  {
   "cell_type": "code",
   "execution_count": 411,
   "id": "6b4db587",
   "metadata": {},
   "outputs": [
    {
     "data": {
      "text/plain": [
       "Timedelta('2 days 00:00:02.000123')"
      ]
     },
     "execution_count": 411,
     "metadata": {},
     "output_type": "execute_result"
    }
   ],
   "source": [
    "pd.Timedelta(pd.offsets.Day(2)) + pd.Timedelta(pd.offsets.Second(2)) + pd.Timedelta(\n",
    "    \"00:00:00.000123\"\n",
    ")"
   ]
  },
  {
   "cell_type": "markdown",
   "id": "cc285417",
   "metadata": {},
   "source": [
    "#### to_timedelta\n",
    "- Using the top-level pd.to_timedelta, you can convert a scalar, array, list, or Series from a recognized timedelta format / value into a Timedelta type. It will construct Series if the input is a Series, a scalar if the input is scalar-like, otherwise it will output a TimedeltaIndex.\n",
    "\n",
    "- You can parse a single string to a Timedelta:"
   ]
  },
  {
   "cell_type": "code",
   "execution_count": 412,
   "id": "b97344a4",
   "metadata": {},
   "outputs": [
    {
     "data": {
      "text/plain": [
       "Timedelta('1 days 06:05:01.000030')"
      ]
     },
     "execution_count": 412,
     "metadata": {},
     "output_type": "execute_result"
    }
   ],
   "source": [
    "pd.to_timedelta(\"1 days 06:05:01.00003\")"
   ]
  },
  {
   "cell_type": "code",
   "execution_count": 413,
   "id": "aafc4d0b",
   "metadata": {},
   "outputs": [
    {
     "data": {
      "text/plain": [
       "Timedelta('0 days 00:00:00.000015500')"
      ]
     },
     "execution_count": 413,
     "metadata": {},
     "output_type": "execute_result"
    }
   ],
   "source": [
    "pd.to_timedelta(\"15.5us\")"
   ]
  },
  {
   "cell_type": "markdown",
   "id": "1b90dc2b",
   "metadata": {},
   "source": [
    "- or a list/array of strings:"
   ]
  },
  {
   "cell_type": "code",
   "execution_count": 414,
   "id": "72c3210e",
   "metadata": {},
   "outputs": [
    {
     "data": {
      "text/plain": [
       "TimedeltaIndex(['1 days 06:05:01.000030', '0 days 00:00:00.000015500', NaT], dtype='timedelta64[ns]', freq=None)"
      ]
     },
     "execution_count": 414,
     "metadata": {},
     "output_type": "execute_result"
    }
   ],
   "source": [
    "pd.to_timedelta([\"1 days 06:05:01.00003\", \"15.5us\", \"nan\"])"
   ]
  },
  {
   "cell_type": "markdown",
   "id": "08f24614",
   "metadata": {},
   "source": [
    "- The unit keyword argument specifies the unit of the Timedelta if the input is numeric:"
   ]
  },
  {
   "cell_type": "code",
   "execution_count": 415,
   "id": "9e27ef93",
   "metadata": {},
   "outputs": [
    {
     "data": {
      "text/plain": [
       "TimedeltaIndex(['0 days 00:00:00', '0 days 00:00:01', '0 days 00:00:02',\n",
       "                '0 days 00:00:03', '0 days 00:00:04'],\n",
       "               dtype='timedelta64[ns]', freq=None)"
      ]
     },
     "execution_count": 415,
     "metadata": {},
     "output_type": "execute_result"
    }
   ],
   "source": [
    "pd.to_timedelta(np.arange(5), unit=\"s\")"
   ]
  },
  {
   "cell_type": "code",
   "execution_count": 416,
   "id": "b2b3855d",
   "metadata": {},
   "outputs": [
    {
     "data": {
      "text/plain": [
       "TimedeltaIndex(['0 days', '1 days', '2 days', '3 days', '4 days'], dtype='timedelta64[ns]', freq=None)"
      ]
     },
     "execution_count": 416,
     "metadata": {},
     "output_type": "execute_result"
    }
   ],
   "source": [
    "pd.to_timedelta(np.arange(5), unit=\"d\")"
   ]
  },
  {
   "cell_type": "markdown",
   "id": "05c9e1fb",
   "metadata": {},
   "source": [
    "- **Warning**: If a string or array of strings is passed as an input then the unit keyword argument will be ignored. If a string without units is passed then the default unit of nanoseconds is assumed.\n",
    "\n",
    "#### Timedelta limitations\n",
    "- pandas represents Timedeltas in nanosecond resolution using 64 bit integers. As such, the 64 bit integer limits determine the Timedelta limits."
   ]
  },
  {
   "cell_type": "code",
   "execution_count": 417,
   "id": "9b608a85",
   "metadata": {},
   "outputs": [
    {
     "data": {
      "text/plain": [
       "Timedelta('-106752 days +00:12:43.145224193')"
      ]
     },
     "execution_count": 417,
     "metadata": {},
     "output_type": "execute_result"
    }
   ],
   "source": [
    "pd.Timedelta.min"
   ]
  },
  {
   "cell_type": "code",
   "execution_count": 418,
   "id": "388455cc",
   "metadata": {},
   "outputs": [
    {
     "data": {
      "text/plain": [
       "Timedelta('106751 days 23:47:16.854775807')"
      ]
     },
     "execution_count": 418,
     "metadata": {},
     "output_type": "execute_result"
    }
   ],
   "source": [
    "pd.Timedelta.max"
   ]
  },
  {
   "cell_type": "markdown",
   "id": "90d98cdf",
   "metadata": {},
   "source": [
    "#### Operations\n",
    "- You can operate on Series/DataFrames and construct timedelta64[ns] Series through subtraction operations on datetime64[ns] Series, or Timestamps."
   ]
  },
  {
   "cell_type": "code",
   "execution_count": 419,
   "id": "d4757795",
   "metadata": {},
   "outputs": [
    {
     "data": {
      "text/html": [
       "<div>\n",
       "<style scoped>\n",
       "    .dataframe tbody tr th:only-of-type {\n",
       "        vertical-align: middle;\n",
       "    }\n",
       "\n",
       "    .dataframe tbody tr th {\n",
       "        vertical-align: top;\n",
       "    }\n",
       "\n",
       "    .dataframe thead th {\n",
       "        text-align: right;\n",
       "    }\n",
       "</style>\n",
       "<table border=\"1\" class=\"dataframe\">\n",
       "  <thead>\n",
       "    <tr style=\"text-align: right;\">\n",
       "      <th></th>\n",
       "      <th>A</th>\n",
       "      <th>B</th>\n",
       "    </tr>\n",
       "  </thead>\n",
       "  <tbody>\n",
       "    <tr>\n",
       "      <th>0</th>\n",
       "      <td>2012-01-01</td>\n",
       "      <td>0 days</td>\n",
       "    </tr>\n",
       "    <tr>\n",
       "      <th>1</th>\n",
       "      <td>2012-01-02</td>\n",
       "      <td>1 days</td>\n",
       "    </tr>\n",
       "    <tr>\n",
       "      <th>2</th>\n",
       "      <td>2012-01-03</td>\n",
       "      <td>2 days</td>\n",
       "    </tr>\n",
       "  </tbody>\n",
       "</table>\n",
       "</div>"
      ],
      "text/plain": [
       "           A      B\n",
       "0 2012-01-01 0 days\n",
       "1 2012-01-02 1 days\n",
       "2 2012-01-03 2 days"
      ]
     },
     "execution_count": 419,
     "metadata": {},
     "output_type": "execute_result"
    }
   ],
   "source": [
    "s = pd.Series(pd.date_range(\"2012-1-1\", periods=3, freq=\"D\"))\n",
    "td = pd.Series([pd.Timedelta(days=i) for i in range(3)])\n",
    "df = pd.DataFrame({\"A\": s, \"B\": td})\n",
    "df"
   ]
  },
  {
   "cell_type": "code",
   "execution_count": 420,
   "id": "56313bea",
   "metadata": {},
   "outputs": [
    {
     "data": {
      "text/html": [
       "<div>\n",
       "<style scoped>\n",
       "    .dataframe tbody tr th:only-of-type {\n",
       "        vertical-align: middle;\n",
       "    }\n",
       "\n",
       "    .dataframe tbody tr th {\n",
       "        vertical-align: top;\n",
       "    }\n",
       "\n",
       "    .dataframe thead th {\n",
       "        text-align: right;\n",
       "    }\n",
       "</style>\n",
       "<table border=\"1\" class=\"dataframe\">\n",
       "  <thead>\n",
       "    <tr style=\"text-align: right;\">\n",
       "      <th></th>\n",
       "      <th>A</th>\n",
       "      <th>B</th>\n",
       "      <th>C</th>\n",
       "    </tr>\n",
       "  </thead>\n",
       "  <tbody>\n",
       "    <tr>\n",
       "      <th>0</th>\n",
       "      <td>2012-01-01</td>\n",
       "      <td>0 days</td>\n",
       "      <td>2012-01-01</td>\n",
       "    </tr>\n",
       "    <tr>\n",
       "      <th>1</th>\n",
       "      <td>2012-01-02</td>\n",
       "      <td>1 days</td>\n",
       "      <td>2012-01-03</td>\n",
       "    </tr>\n",
       "    <tr>\n",
       "      <th>2</th>\n",
       "      <td>2012-01-03</td>\n",
       "      <td>2 days</td>\n",
       "      <td>2012-01-05</td>\n",
       "    </tr>\n",
       "  </tbody>\n",
       "</table>\n",
       "</div>"
      ],
      "text/plain": [
       "           A      B          C\n",
       "0 2012-01-01 0 days 2012-01-01\n",
       "1 2012-01-02 1 days 2012-01-03\n",
       "2 2012-01-03 2 days 2012-01-05"
      ]
     },
     "execution_count": 420,
     "metadata": {},
     "output_type": "execute_result"
    }
   ],
   "source": [
    "df[\"C\"] = df[\"A\"] + df[\"B\"]\n",
    "df"
   ]
  },
  {
   "cell_type": "code",
   "execution_count": 421,
   "id": "90ce2be2",
   "metadata": {},
   "outputs": [
    {
     "data": {
      "text/plain": [
       "A     datetime64[ns]\n",
       "B    timedelta64[ns]\n",
       "C     datetime64[ns]\n",
       "dtype: object"
      ]
     },
     "execution_count": 421,
     "metadata": {},
     "output_type": "execute_result"
    }
   ],
   "source": [
    "df.dtypes"
   ]
  },
  {
   "cell_type": "code",
   "execution_count": 422,
   "id": "8d4de2bd",
   "metadata": {},
   "outputs": [
    {
     "data": {
      "text/plain": [
       "0   -2 days\n",
       "1   -1 days\n",
       "2    0 days\n",
       "dtype: timedelta64[ns]"
      ]
     },
     "execution_count": 422,
     "metadata": {},
     "output_type": "execute_result"
    }
   ],
   "source": [
    "s - s.max()"
   ]
  },
  {
   "cell_type": "code",
   "execution_count": 423,
   "id": "baff5fb3",
   "metadata": {},
   "outputs": [
    {
     "data": {
      "text/plain": [
       "0   364 days 20:55:00\n",
       "1   365 days 20:55:00\n",
       "2   366 days 20:55:00\n",
       "dtype: timedelta64[ns]"
      ]
     },
     "execution_count": 423,
     "metadata": {},
     "output_type": "execute_result"
    }
   ],
   "source": [
    "s - datetime.datetime(2011, 1, 1, 3, 5)"
   ]
  },
  {
   "cell_type": "code",
   "execution_count": 424,
   "id": "257008ff",
   "metadata": {},
   "outputs": [
    {
     "data": {
      "text/plain": [
       "0   2012-01-01 00:05:00\n",
       "1   2012-01-02 00:05:00\n",
       "2   2012-01-03 00:05:00\n",
       "dtype: datetime64[ns]"
      ]
     },
     "execution_count": 424,
     "metadata": {},
     "output_type": "execute_result"
    }
   ],
   "source": [
    "s + datetime.timedelta(minutes=5)"
   ]
  },
  {
   "cell_type": "code",
   "execution_count": 425,
   "id": "65e1901e",
   "metadata": {},
   "outputs": [
    {
     "data": {
      "text/plain": [
       "0   2012-01-01 00:05:00\n",
       "1   2012-01-02 00:05:00\n",
       "2   2012-01-03 00:05:00\n",
       "dtype: datetime64[ns]"
      ]
     },
     "execution_count": 425,
     "metadata": {},
     "output_type": "execute_result"
    }
   ],
   "source": [
    "s + pd.offsets.Minute(5)"
   ]
  },
  {
   "cell_type": "code",
   "execution_count": 426,
   "id": "1678d05a",
   "metadata": {},
   "outputs": [
    {
     "data": {
      "text/plain": [
       "0   2012-01-01 00:05:00.005\n",
       "1   2012-01-02 00:05:00.005\n",
       "2   2012-01-03 00:05:00.005\n",
       "dtype: datetime64[ns]"
      ]
     },
     "execution_count": 426,
     "metadata": {},
     "output_type": "execute_result"
    }
   ],
   "source": [
    "s + pd.offsets.Minute(5) + pd.offsets.Milli(5)"
   ]
  },
  {
   "cell_type": "markdown",
   "id": "92038296",
   "metadata": {},
   "source": [
    "- Operations with scalars from a timedelta64[ns] series:"
   ]
  },
  {
   "cell_type": "code",
   "execution_count": 427,
   "id": "8cceda3d",
   "metadata": {},
   "outputs": [
    {
     "data": {
      "text/plain": [
       "0   0 days\n",
       "1   1 days\n",
       "2   2 days\n",
       "dtype: timedelta64[ns]"
      ]
     },
     "execution_count": 427,
     "metadata": {},
     "output_type": "execute_result"
    }
   ],
   "source": [
    "y = s - s[0]\n",
    "y"
   ]
  },
  {
   "cell_type": "markdown",
   "id": "0f4031f1",
   "metadata": {},
   "source": [
    "- Series of timedeltas with NaT values are supported:"
   ]
  },
  {
   "cell_type": "code",
   "execution_count": 428,
   "id": "96584ff7",
   "metadata": {},
   "outputs": [
    {
     "data": {
      "text/plain": [
       "0      NaT\n",
       "1   1 days\n",
       "2   1 days\n",
       "dtype: timedelta64[ns]"
      ]
     },
     "execution_count": 428,
     "metadata": {},
     "output_type": "execute_result"
    }
   ],
   "source": [
    "y = s - s.shift()\n",
    "y"
   ]
  },
  {
   "cell_type": "markdown",
   "id": "7c0d80ba",
   "metadata": {},
   "source": [
    "- Elements can be set to NaT using np.nan analogously to datetimes:"
   ]
  },
  {
   "cell_type": "code",
   "execution_count": 429,
   "id": "560fef3d",
   "metadata": {},
   "outputs": [
    {
     "data": {
      "text/plain": [
       "0      NaT\n",
       "1      NaT\n",
       "2   1 days\n",
       "dtype: timedelta64[ns]"
      ]
     },
     "execution_count": 429,
     "metadata": {},
     "output_type": "execute_result"
    }
   ],
   "source": [
    "y[1] = np.nan\n",
    "y"
   ]
  },
  {
   "cell_type": "markdown",
   "id": "adfef4d0",
   "metadata": {},
   "source": [
    "- Operands can also appear in a reversed order (a singular object operated with a Series):"
   ]
  },
  {
   "cell_type": "code",
   "execution_count": 430,
   "id": "7477fdab",
   "metadata": {},
   "outputs": [
    {
     "data": {
      "text/plain": [
       "0   2 days\n",
       "1   1 days\n",
       "2   0 days\n",
       "dtype: timedelta64[ns]"
      ]
     },
     "execution_count": 430,
     "metadata": {},
     "output_type": "execute_result"
    }
   ],
   "source": [
    "s.max() - s"
   ]
  },
  {
   "cell_type": "code",
   "execution_count": 431,
   "id": "acf1694b",
   "metadata": {},
   "outputs": [
    {
     "data": {
      "text/plain": [
       "0   -365 days +03:05:00\n",
       "1   -366 days +03:05:00\n",
       "2   -367 days +03:05:00\n",
       "dtype: timedelta64[ns]"
      ]
     },
     "execution_count": 431,
     "metadata": {},
     "output_type": "execute_result"
    }
   ],
   "source": [
    "datetime.datetime(2011, 1, 1, 3, 5) - s"
   ]
  },
  {
   "cell_type": "code",
   "execution_count": 432,
   "id": "20e19419",
   "metadata": {},
   "outputs": [
    {
     "data": {
      "text/plain": [
       "0   2012-01-01 00:05:00\n",
       "1   2012-01-02 00:05:00\n",
       "2   2012-01-03 00:05:00\n",
       "dtype: datetime64[ns]"
      ]
     },
     "execution_count": 432,
     "metadata": {},
     "output_type": "execute_result"
    }
   ],
   "source": [
    "datetime.timedelta(minutes=5) + s"
   ]
  },
  {
   "cell_type": "markdown",
   "id": "fa62fc17",
   "metadata": {},
   "source": [
    "- min, max and the corresponding idxmin, idxmax operations are supported on frames:"
   ]
  },
  {
   "cell_type": "code",
   "execution_count": 433,
   "id": "c70e9a3b",
   "metadata": {},
   "outputs": [
    {
     "data": {
      "text/html": [
       "<div>\n",
       "<style scoped>\n",
       "    .dataframe tbody tr th:only-of-type {\n",
       "        vertical-align: middle;\n",
       "    }\n",
       "\n",
       "    .dataframe tbody tr th {\n",
       "        vertical-align: top;\n",
       "    }\n",
       "\n",
       "    .dataframe thead th {\n",
       "        text-align: right;\n",
       "    }\n",
       "</style>\n",
       "<table border=\"1\" class=\"dataframe\">\n",
       "  <thead>\n",
       "    <tr style=\"text-align: right;\">\n",
       "      <th></th>\n",
       "      <th>A</th>\n",
       "      <th>B</th>\n",
       "    </tr>\n",
       "  </thead>\n",
       "  <tbody>\n",
       "    <tr>\n",
       "      <th>0</th>\n",
       "      <td>-1 days +23:54:55</td>\n",
       "      <td>-1 days</td>\n",
       "    </tr>\n",
       "    <tr>\n",
       "      <th>1</th>\n",
       "      <td>0 days 23:54:55</td>\n",
       "      <td>-1 days</td>\n",
       "    </tr>\n",
       "    <tr>\n",
       "      <th>2</th>\n",
       "      <td>1 days 23:54:55</td>\n",
       "      <td>-1 days</td>\n",
       "    </tr>\n",
       "  </tbody>\n",
       "</table>\n",
       "</div>"
      ],
      "text/plain": [
       "                  A       B\n",
       "0 -1 days +23:54:55 -1 days\n",
       "1   0 days 23:54:55 -1 days\n",
       "2   1 days 23:54:55 -1 days"
      ]
     },
     "execution_count": 433,
     "metadata": {},
     "output_type": "execute_result"
    }
   ],
   "source": [
    "A = s - pd.Timestamp(\"20120101\") - pd.Timedelta(\"00:05:05\")\n",
    "B = s - pd.Series(pd.date_range(\"2012-1-2\", periods=3, freq=\"D\"))\n",
    "df = pd.DataFrame({\"A\": A, \"B\": B})\n",
    "df"
   ]
  },
  {
   "cell_type": "code",
   "execution_count": 434,
   "id": "7accb646",
   "metadata": {},
   "outputs": [
    {
     "data": {
      "text/plain": [
       "A   -1 days +23:54:55\n",
       "B   -1 days +00:00:00\n",
       "dtype: timedelta64[ns]"
      ]
     },
     "execution_count": 434,
     "metadata": {},
     "output_type": "execute_result"
    }
   ],
   "source": [
    "df.min()"
   ]
  },
  {
   "cell_type": "code",
   "execution_count": 435,
   "id": "967fcd76",
   "metadata": {},
   "outputs": [
    {
     "data": {
      "text/plain": [
       "0   -1 days\n",
       "1   -1 days\n",
       "2   -1 days\n",
       "dtype: timedelta64[ns]"
      ]
     },
     "execution_count": 435,
     "metadata": {},
     "output_type": "execute_result"
    }
   ],
   "source": [
    "df.min(axis=1)"
   ]
  },
  {
   "cell_type": "code",
   "execution_count": 436,
   "id": "4991d5c9",
   "metadata": {},
   "outputs": [
    {
     "data": {
      "text/plain": [
       "A    0\n",
       "B    0\n",
       "dtype: int64"
      ]
     },
     "execution_count": 436,
     "metadata": {},
     "output_type": "execute_result"
    }
   ],
   "source": [
    "df.idxmin()"
   ]
  },
  {
   "cell_type": "code",
   "execution_count": 437,
   "id": "4357b600",
   "metadata": {},
   "outputs": [
    {
     "data": {
      "text/plain": [
       "A    2\n",
       "B    0\n",
       "dtype: int64"
      ]
     },
     "execution_count": 437,
     "metadata": {},
     "output_type": "execute_result"
    }
   ],
   "source": [
    "df.idxmax()"
   ]
  },
  {
   "cell_type": "markdown",
   "id": "6e70942e",
   "metadata": {},
   "source": [
    "- min, max, idxmin, idxmax operations are supported on Series as well. A scalar result will be a Timedelta."
   ]
  },
  {
   "cell_type": "code",
   "execution_count": 438,
   "id": "fb7a2aa8",
   "metadata": {},
   "outputs": [
    {
     "data": {
      "text/plain": [
       "Timedelta('-1 days +23:54:55')"
      ]
     },
     "execution_count": 438,
     "metadata": {},
     "output_type": "execute_result"
    }
   ],
   "source": [
    "df.min().max()"
   ]
  },
  {
   "cell_type": "code",
   "execution_count": 439,
   "id": "cc11e34b",
   "metadata": {},
   "outputs": [
    {
     "data": {
      "text/plain": [
       "Timedelta('-1 days +00:00:00')"
      ]
     },
     "execution_count": 439,
     "metadata": {},
     "output_type": "execute_result"
    }
   ],
   "source": [
    "df.min(axis=1).min()"
   ]
  },
  {
   "cell_type": "code",
   "execution_count": 440,
   "id": "73677f44",
   "metadata": {},
   "outputs": [
    {
     "data": {
      "text/plain": [
       "'A'"
      ]
     },
     "execution_count": 440,
     "metadata": {},
     "output_type": "execute_result"
    }
   ],
   "source": [
    "df.min().idxmax()"
   ]
  },
  {
   "cell_type": "code",
   "execution_count": 441,
   "id": "0bed43aa",
   "metadata": {},
   "outputs": [
    {
     "data": {
      "text/plain": [
       "0"
      ]
     },
     "execution_count": 441,
     "metadata": {},
     "output_type": "execute_result"
    }
   ],
   "source": [
    "df.min(axis=1).idxmin()"
   ]
  },
  {
   "cell_type": "markdown",
   "id": "3e2fca5c",
   "metadata": {},
   "source": [
    "- You can fillna on timedeltas, passing a timedelta to get a particular value."
   ]
  },
  {
   "cell_type": "code",
   "execution_count": 442,
   "id": "465c4364",
   "metadata": {},
   "outputs": [
    {
     "data": {
      "text/plain": [
       "0   0 days\n",
       "1   0 days\n",
       "2   1 days\n",
       "dtype: timedelta64[ns]"
      ]
     },
     "execution_count": 442,
     "metadata": {},
     "output_type": "execute_result"
    }
   ],
   "source": [
    "y.fillna(pd.Timedelta(0))"
   ]
  },
  {
   "cell_type": "code",
   "execution_count": 443,
   "id": "317dacaf",
   "metadata": {},
   "outputs": [
    {
     "data": {
      "text/plain": [
       "0   0 days 00:00:10\n",
       "1   0 days 00:00:10\n",
       "2   1 days 00:00:00\n",
       "dtype: timedelta64[ns]"
      ]
     },
     "execution_count": 443,
     "metadata": {},
     "output_type": "execute_result"
    }
   ],
   "source": [
    "y.fillna(pd.Timedelta(10, unit=\"s\"))"
   ]
  },
  {
   "cell_type": "code",
   "execution_count": 444,
   "id": "6a161d48",
   "metadata": {},
   "outputs": [
    {
     "data": {
      "text/plain": [
       "0   -1 days +00:00:05\n",
       "1   -1 days +00:00:05\n",
       "2     1 days 00:00:00\n",
       "dtype: timedelta64[ns]"
      ]
     },
     "execution_count": 444,
     "metadata": {},
     "output_type": "execute_result"
    }
   ],
   "source": [
    "y.fillna(pd.Timedelta(\"-1 days, 00:00:05\"))"
   ]
  },
  {
   "cell_type": "markdown",
   "id": "91fd87d8",
   "metadata": {},
   "source": [
    "- You can also negate, multiply and use abs on Timedeltas:"
   ]
  },
  {
   "cell_type": "code",
   "execution_count": 445,
   "id": "bc137f14",
   "metadata": {},
   "outputs": [
    {
     "data": {
      "text/plain": [
       "Timedelta('-2 days +21:59:57')"
      ]
     },
     "execution_count": 445,
     "metadata": {},
     "output_type": "execute_result"
    }
   ],
   "source": [
    "td1 = pd.Timedelta(\"-1 days 2 hours 3 seconds\")\n",
    "td1"
   ]
  },
  {
   "cell_type": "code",
   "execution_count": 446,
   "id": "74733a3b",
   "metadata": {},
   "outputs": [
    {
     "data": {
      "text/plain": [
       "Timedelta('1 days 02:00:03')"
      ]
     },
     "execution_count": 446,
     "metadata": {},
     "output_type": "execute_result"
    }
   ],
   "source": [
    "-1 * td1"
   ]
  },
  {
   "cell_type": "code",
   "execution_count": 447,
   "id": "bf316bdb",
   "metadata": {},
   "outputs": [
    {
     "data": {
      "text/plain": [
       "Timedelta('1 days 02:00:03')"
      ]
     },
     "execution_count": 447,
     "metadata": {},
     "output_type": "execute_result"
    }
   ],
   "source": [
    "-td1"
   ]
  },
  {
   "cell_type": "code",
   "execution_count": 448,
   "id": "1674b440",
   "metadata": {},
   "outputs": [
    {
     "data": {
      "text/plain": [
       "Timedelta('1 days 02:00:03')"
      ]
     },
     "execution_count": 448,
     "metadata": {},
     "output_type": "execute_result"
    }
   ],
   "source": [
    "abs(td1)"
   ]
  },
  {
   "cell_type": "markdown",
   "id": "45b83d1f",
   "metadata": {},
   "source": [
    "#### Reductions\n",
    "- Numeric reduction operation for timedelta64[ns] will return Timedelta objects. As usual NaT are skipped during evaluation."
   ]
  },
  {
   "cell_type": "code",
   "execution_count": 449,
   "id": "24e88464",
   "metadata": {},
   "outputs": [
    {
     "data": {
      "text/plain": [
       "0   -1 days +00:00:05\n",
       "1                 NaT\n",
       "2   -1 days +00:00:05\n",
       "3     1 days 00:00:00\n",
       "dtype: timedelta64[ns]"
      ]
     },
     "execution_count": 449,
     "metadata": {},
     "output_type": "execute_result"
    }
   ],
   "source": [
    "y2 = pd.Series(\n",
    "    pd.to_timedelta([\"-1 days +00:00:05\", \"nat\", \"-1 days +00:00:05\", \"1 days\"])\n",
    ")\n",
    "y2"
   ]
  },
  {
   "cell_type": "code",
   "execution_count": 450,
   "id": "d0d398ab",
   "metadata": {},
   "outputs": [
    {
     "data": {
      "text/plain": [
       "Timedelta('-1 days +16:00:03.333333334')"
      ]
     },
     "execution_count": 450,
     "metadata": {},
     "output_type": "execute_result"
    }
   ],
   "source": [
    "y2.mean()"
   ]
  },
  {
   "cell_type": "code",
   "execution_count": 451,
   "id": "09fa241a",
   "metadata": {},
   "outputs": [
    {
     "data": {
      "text/plain": [
       "Timedelta('-1 days +00:00:05')"
      ]
     },
     "execution_count": 451,
     "metadata": {},
     "output_type": "execute_result"
    }
   ],
   "source": [
    "y2.median()"
   ]
  },
  {
   "cell_type": "code",
   "execution_count": 452,
   "id": "4bb30ea5",
   "metadata": {},
   "outputs": [
    {
     "data": {
      "text/plain": [
       "Timedelta('-1 days +00:00:05')"
      ]
     },
     "execution_count": 452,
     "metadata": {},
     "output_type": "execute_result"
    }
   ],
   "source": [
    "y2.quantile(0.1)"
   ]
  },
  {
   "cell_type": "code",
   "execution_count": 453,
   "id": "2f7bfab3",
   "metadata": {},
   "outputs": [
    {
     "data": {
      "text/plain": [
       "Timedelta('-1 days +00:00:10')"
      ]
     },
     "execution_count": 453,
     "metadata": {},
     "output_type": "execute_result"
    }
   ],
   "source": [
    "y2.sum()"
   ]
  },
  {
   "cell_type": "markdown",
   "id": "2cd363c3",
   "metadata": {},
   "source": [
    "#### Frequency conversion\n",
    "- Timedelta Series and TimedeltaIndex, and Timedelta can be converted to other frequencies by astyping to a specific timedelta dtype."
   ]
  },
  {
   "cell_type": "code",
   "execution_count": 454,
   "id": "353ffae7",
   "metadata": {},
   "outputs": [
    {
     "data": {
      "text/plain": [
       "0   31 days 00:00:00\n",
       "1   31 days 00:00:00\n",
       "2   31 days 00:05:03\n",
       "3                NaT\n",
       "dtype: timedelta64[ns]"
      ]
     },
     "execution_count": 454,
     "metadata": {},
     "output_type": "execute_result"
    }
   ],
   "source": [
    "december = pd.Series(pd.date_range(\"20121201\", periods=4))\n",
    "january = pd.Series(pd.date_range(\"20130101\", periods=4))\n",
    "td = january - december\n",
    "td[2] += datetime.timedelta(minutes=5, seconds=3)\n",
    "td[3] = np.nan\n",
    "td"
   ]
  },
  {
   "cell_type": "code",
   "execution_count": 455,
   "id": "51a50753",
   "metadata": {},
   "outputs": [
    {
     "data": {
      "text/plain": [
       "0   31 days 00:00:00\n",
       "1   31 days 00:00:00\n",
       "2   31 days 00:05:03\n",
       "3                NaT\n",
       "dtype: timedelta64[s]"
      ]
     },
     "execution_count": 455,
     "metadata": {},
     "output_type": "execute_result"
    }
   ],
   "source": [
    "td.astype(\"timedelta64[s]\")"
   ]
  },
  {
   "cell_type": "markdown",
   "id": "bb068b07",
   "metadata": {},
   "source": [
    "- For timedelta64 resolutions other than the supported “s”, “ms”, “us”, “ns”, an alternative is to divide by another timedelta object. Note that division by the NumPy scalar is true division, while astyping is equivalent of floor division."
   ]
  },
  {
   "cell_type": "code",
   "execution_count": 456,
   "id": "1d3a02ba",
   "metadata": {},
   "outputs": [
    {
     "data": {
      "text/plain": [
       "0    31.000000\n",
       "1    31.000000\n",
       "2    31.003507\n",
       "3          NaN\n",
       "dtype: float64"
      ]
     },
     "execution_count": 456,
     "metadata": {},
     "output_type": "execute_result"
    }
   ],
   "source": [
    "# to days\n",
    "td / np.timedelta64(1, \"D\")"
   ]
  },
  {
   "cell_type": "markdown",
   "id": "7e45bcac",
   "metadata": {},
   "source": [
    "- Dividing or multiplying a timedelta64[ns] Series by an integer or integer Series yields another timedelta64[ns] dtypes Series."
   ]
  },
  {
   "cell_type": "code",
   "execution_count": 457,
   "id": "59198653",
   "metadata": {},
   "outputs": [
    {
     "data": {
      "text/plain": [
       "0   -31 days +00:00:00\n",
       "1   -31 days +00:00:00\n",
       "2   -32 days +23:54:57\n",
       "3                  NaT\n",
       "dtype: timedelta64[ns]"
      ]
     },
     "execution_count": 457,
     "metadata": {},
     "output_type": "execute_result"
    }
   ],
   "source": [
    "td * -1"
   ]
  },
  {
   "cell_type": "code",
   "execution_count": 458,
   "id": "8a4d28b2",
   "metadata": {},
   "outputs": [
    {
     "data": {
      "text/plain": [
       "0   31 days 00:00:00\n",
       "1   62 days 00:00:00\n",
       "2   93 days 00:15:09\n",
       "3                NaT\n",
       "dtype: timedelta64[ns]"
      ]
     },
     "execution_count": 458,
     "metadata": {},
     "output_type": "execute_result"
    }
   ],
   "source": [
    "td * pd.Series([1, 2, 3, 4])"
   ]
  },
  {
   "cell_type": "markdown",
   "id": "71ff84c5",
   "metadata": {},
   "source": [
    "- Rounded division (floor-division) of a timedelta64[ns] Series by a scalar Timedelta gives a series of integers."
   ]
  },
  {
   "cell_type": "code",
   "execution_count": 459,
   "id": "867da1a1",
   "metadata": {},
   "outputs": [
    {
     "data": {
      "text/plain": [
       "0    9.0\n",
       "1    9.0\n",
       "2    9.0\n",
       "3    NaN\n",
       "dtype: float64"
      ]
     },
     "execution_count": 459,
     "metadata": {},
     "output_type": "execute_result"
    }
   ],
   "source": [
    "td // pd.Timedelta(days=3, hours=4)"
   ]
  },
  {
   "cell_type": "code",
   "execution_count": 460,
   "id": "851ded4b",
   "metadata": {},
   "outputs": [
    {
     "data": {
      "text/plain": [
       "0    0.0\n",
       "1    0.0\n",
       "2    0.0\n",
       "3    NaN\n",
       "dtype: float64"
      ]
     },
     "execution_count": 460,
     "metadata": {},
     "output_type": "execute_result"
    }
   ],
   "source": [
    "pd.Timedelta(days=3, hours=4) // td"
   ]
  },
  {
   "cell_type": "markdown",
   "id": "37411007",
   "metadata": {},
   "source": [
    "- The mod (%) and divmod operations are defined for Timedelta when operating with another timedelta-like or with a numeric argument."
   ]
  },
  {
   "cell_type": "code",
   "execution_count": 461,
   "id": "1cde8820",
   "metadata": {},
   "outputs": [
    {
     "data": {
      "text/plain": [
       "Timedelta('0 days 01:00:00')"
      ]
     },
     "execution_count": 461,
     "metadata": {},
     "output_type": "execute_result"
    }
   ],
   "source": [
    "pd.Timedelta(hours=37) % datetime.timedelta(hours=2)"
   ]
  },
  {
   "cell_type": "code",
   "execution_count": 462,
   "id": "fda294c3",
   "metadata": {},
   "outputs": [
    {
     "data": {
      "text/plain": [
       "(10, Timedelta('0 days 00:10:00'))"
      ]
     },
     "execution_count": 462,
     "metadata": {},
     "output_type": "execute_result"
    }
   ],
   "source": [
    "# divmod against a timedelta-like returns a pair (int, Timedelta)\n",
    "divmod(datetime.timedelta(hours=2), pd.Timedelta(minutes=11))"
   ]
  },
  {
   "cell_type": "code",
   "execution_count": 463,
   "id": "e109dc8e",
   "metadata": {},
   "outputs": [
    {
     "data": {
      "text/plain": [
       "(Timedelta('0 days 00:00:00.000000001'), Timedelta('0 days 01:00:00'))"
      ]
     },
     "execution_count": 463,
     "metadata": {},
     "output_type": "execute_result"
    }
   ],
   "source": [
    "# divmod against a numeric returns a pair (Timedelta, Timedelta)\n",
    "divmod(pd.Timedelta(hours=25), 86400000000000)"
   ]
  },
  {
   "cell_type": "markdown",
   "id": "feb9c90e",
   "metadata": {},
   "source": [
    "#### Attributes\n",
    "- You can access various components of the Timedelta or TimedeltaIndex directly using the attributes days,seconds,microseconds,nanoseconds. These are identical to the values returned by datetime.timedelta, in that, for example, the .seconds attribute represents the number of seconds >= 0 and < 1 day. These are signed according to whether the Timedelta is signed.\n",
    "\n",
    "- These operations can also be directly accessed via the .dt property of the Series as well.\n",
    "\n",
    "- **Note**: Note that the attributes are NOT the displayed values of the Timedelta. Use .components to retrieve the displayed values.\n",
    "\n",
    "- For a Series:"
   ]
  },
  {
   "cell_type": "code",
   "execution_count": 464,
   "id": "34c34494",
   "metadata": {},
   "outputs": [
    {
     "data": {
      "text/plain": [
       "0    31.0\n",
       "1    31.0\n",
       "2    31.0\n",
       "3     NaN\n",
       "dtype: float64"
      ]
     },
     "execution_count": 464,
     "metadata": {},
     "output_type": "execute_result"
    }
   ],
   "source": [
    "td.dt.days"
   ]
  },
  {
   "cell_type": "code",
   "execution_count": 465,
   "id": "a45e9c19",
   "metadata": {},
   "outputs": [
    {
     "data": {
      "text/plain": [
       "0      0.0\n",
       "1      0.0\n",
       "2    303.0\n",
       "3      NaN\n",
       "dtype: float64"
      ]
     },
     "execution_count": 465,
     "metadata": {},
     "output_type": "execute_result"
    }
   ],
   "source": [
    "td.dt.seconds"
   ]
  },
  {
   "cell_type": "markdown",
   "id": "1b18ca13",
   "metadata": {},
   "source": [
    "- You can access the value of the fields for a scalar Timedelta directly."
   ]
  },
  {
   "cell_type": "code",
   "execution_count": 467,
   "id": "b4ab91f1",
   "metadata": {},
   "outputs": [
    {
     "data": {
      "text/plain": [
       "31"
      ]
     },
     "execution_count": 467,
     "metadata": {},
     "output_type": "execute_result"
    }
   ],
   "source": [
    "tds = pd.Timedelta(\"31 days 5 min 3 sec\")\n",
    "tds.days"
   ]
  },
  {
   "cell_type": "code",
   "execution_count": 468,
   "id": "69b32d94",
   "metadata": {},
   "outputs": [
    {
     "data": {
      "text/plain": [
       "303"
      ]
     },
     "execution_count": 468,
     "metadata": {},
     "output_type": "execute_result"
    }
   ],
   "source": [
    "tds.seconds"
   ]
  },
  {
   "cell_type": "code",
   "execution_count": 469,
   "id": "37887989",
   "metadata": {},
   "outputs": [
    {
     "data": {
      "text/plain": [
       "86097"
      ]
     },
     "execution_count": 469,
     "metadata": {},
     "output_type": "execute_result"
    }
   ],
   "source": [
    "(-tds).seconds"
   ]
  },
  {
   "cell_type": "markdown",
   "id": "1ec3fe1e",
   "metadata": {},
   "source": [
    "- You can use the .components property to access a reduced form of the timedelta. This returns a DataFrame indexed similarly to the Series. These are the displayed values of the Timedelta."
   ]
  },
  {
   "cell_type": "code",
   "execution_count": 470,
   "id": "6457d550",
   "metadata": {},
   "outputs": [
    {
     "data": {
      "text/html": [
       "<div>\n",
       "<style scoped>\n",
       "    .dataframe tbody tr th:only-of-type {\n",
       "        vertical-align: middle;\n",
       "    }\n",
       "\n",
       "    .dataframe tbody tr th {\n",
       "        vertical-align: top;\n",
       "    }\n",
       "\n",
       "    .dataframe thead th {\n",
       "        text-align: right;\n",
       "    }\n",
       "</style>\n",
       "<table border=\"1\" class=\"dataframe\">\n",
       "  <thead>\n",
       "    <tr style=\"text-align: right;\">\n",
       "      <th></th>\n",
       "      <th>days</th>\n",
       "      <th>hours</th>\n",
       "      <th>minutes</th>\n",
       "      <th>seconds</th>\n",
       "      <th>milliseconds</th>\n",
       "      <th>microseconds</th>\n",
       "      <th>nanoseconds</th>\n",
       "    </tr>\n",
       "  </thead>\n",
       "  <tbody>\n",
       "    <tr>\n",
       "      <th>0</th>\n",
       "      <td>31.0</td>\n",
       "      <td>0.0</td>\n",
       "      <td>0.0</td>\n",
       "      <td>0.0</td>\n",
       "      <td>0.0</td>\n",
       "      <td>0.0</td>\n",
       "      <td>0.0</td>\n",
       "    </tr>\n",
       "    <tr>\n",
       "      <th>1</th>\n",
       "      <td>31.0</td>\n",
       "      <td>0.0</td>\n",
       "      <td>0.0</td>\n",
       "      <td>0.0</td>\n",
       "      <td>0.0</td>\n",
       "      <td>0.0</td>\n",
       "      <td>0.0</td>\n",
       "    </tr>\n",
       "    <tr>\n",
       "      <th>2</th>\n",
       "      <td>31.0</td>\n",
       "      <td>0.0</td>\n",
       "      <td>5.0</td>\n",
       "      <td>3.0</td>\n",
       "      <td>0.0</td>\n",
       "      <td>0.0</td>\n",
       "      <td>0.0</td>\n",
       "    </tr>\n",
       "    <tr>\n",
       "      <th>3</th>\n",
       "      <td>NaN</td>\n",
       "      <td>NaN</td>\n",
       "      <td>NaN</td>\n",
       "      <td>NaN</td>\n",
       "      <td>NaN</td>\n",
       "      <td>NaN</td>\n",
       "      <td>NaN</td>\n",
       "    </tr>\n",
       "  </tbody>\n",
       "</table>\n",
       "</div>"
      ],
      "text/plain": [
       "   days  hours  minutes  seconds  milliseconds  microseconds  nanoseconds\n",
       "0  31.0    0.0      0.0      0.0           0.0           0.0          0.0\n",
       "1  31.0    0.0      0.0      0.0           0.0           0.0          0.0\n",
       "2  31.0    0.0      5.0      3.0           0.0           0.0          0.0\n",
       "3   NaN    NaN      NaN      NaN           NaN           NaN          NaN"
      ]
     },
     "execution_count": 470,
     "metadata": {},
     "output_type": "execute_result"
    }
   ],
   "source": [
    "td.dt.components"
   ]
  },
  {
   "cell_type": "code",
   "execution_count": 471,
   "id": "60843378",
   "metadata": {},
   "outputs": [
    {
     "data": {
      "text/plain": [
       "0    0.0\n",
       "1    0.0\n",
       "2    3.0\n",
       "3    NaN\n",
       "Name: seconds, dtype: float64"
      ]
     },
     "execution_count": 471,
     "metadata": {},
     "output_type": "execute_result"
    }
   ],
   "source": [
    "td.dt.components.seconds"
   ]
  },
  {
   "cell_type": "markdown",
   "id": "de2851f6",
   "metadata": {},
   "source": [
    "- You can convert a Timedelta to an ISO 8601 Duration string with the .isoformat method"
   ]
  },
  {
   "cell_type": "code",
   "execution_count": 472,
   "id": "ca6739b5",
   "metadata": {},
   "outputs": [
    {
     "data": {
      "text/plain": [
       "'P6DT0H50M3.010010012S'"
      ]
     },
     "execution_count": 472,
     "metadata": {},
     "output_type": "execute_result"
    }
   ],
   "source": [
    "pd.Timedelta(\n",
    "    days=6, minutes=50, seconds=3, milliseconds=10, microseconds=10, nanoseconds=12\n",
    ").isoformat()"
   ]
  },
  {
   "cell_type": "markdown",
   "id": "51ebdac6",
   "metadata": {},
   "source": [
    "#### TimedeltaIndex\n",
    "- To generate an index with time delta, you can use either the TimedeltaIndex or the timedelta_range() constructor.\n",
    "\n",
    "- Using TimedeltaIndex you can pass string-like, Timedelta, timedelta, or np.timedelta64 objects. Passing np.nan/pd.NaT/nat will represent missing values."
   ]
  },
  {
   "cell_type": "code",
   "execution_count": 473,
   "id": "4e5435d5",
   "metadata": {},
   "outputs": [
    {
     "data": {
      "text/plain": [
       "TimedeltaIndex(['1 days 00:00:00', '1 days 00:00:05', '2 days 00:00:00',\n",
       "                '2 days 00:00:02'],\n",
       "               dtype='timedelta64[ns]', freq=None)"
      ]
     },
     "execution_count": 473,
     "metadata": {},
     "output_type": "execute_result"
    }
   ],
   "source": [
    "pd.TimedeltaIndex(\n",
    "    [\n",
    "        \"1 days\",\n",
    "        \"1 days, 00:00:05\",\n",
    "        np.timedelta64(2, \"D\"),\n",
    "        datetime.timedelta(days=2, seconds=2),\n",
    "    ]\n",
    ")"
   ]
  },
  {
   "cell_type": "markdown",
   "id": "1a34c09c",
   "metadata": {},
   "source": [
    "- The string ‘infer’ can be passed in order to set the frequency of the index as the inferred frequency upon creation:"
   ]
  },
  {
   "cell_type": "code",
   "execution_count": 474,
   "id": "9423fbd2",
   "metadata": {},
   "outputs": [
    {
     "data": {
      "text/plain": [
       "TimedeltaIndex(['0 days', '10 days', '20 days'], dtype='timedelta64[ns]', freq='10D')"
      ]
     },
     "execution_count": 474,
     "metadata": {},
     "output_type": "execute_result"
    }
   ],
   "source": [
    "pd.TimedeltaIndex([\"0 days\", \"10 days\", \"20 days\"], freq=\"infer\")\n"
   ]
  },
  {
   "cell_type": "markdown",
   "id": "1c9320a5",
   "metadata": {},
   "source": [
    "#### Generating ranges of time deltas\n",
    "- Similar to date_range(), you can construct regular ranges of a TimedeltaIndex using timedelta_range(). The default frequency for timedelta_range is calendar day:"
   ]
  },
  {
   "cell_type": "code",
   "execution_count": 475,
   "id": "95325201",
   "metadata": {},
   "outputs": [
    {
     "data": {
      "text/plain": [
       "TimedeltaIndex(['1 days', '2 days', '3 days', '4 days', '5 days'], dtype='timedelta64[ns]', freq='D')"
      ]
     },
     "execution_count": 475,
     "metadata": {},
     "output_type": "execute_result"
    }
   ],
   "source": [
    "pd.timedelta_range(start=\"1 days\", periods=5)"
   ]
  },
  {
   "cell_type": "markdown",
   "id": "52641972",
   "metadata": {},
   "source": [
    "- Various combinations of start, end, and periods can be used with timedelta_range:"
   ]
  },
  {
   "cell_type": "code",
   "execution_count": 476,
   "id": "3ff0479c",
   "metadata": {},
   "outputs": [
    {
     "data": {
      "text/plain": [
       "TimedeltaIndex(['1 days', '2 days', '3 days', '4 days', '5 days'], dtype='timedelta64[ns]', freq='D')"
      ]
     },
     "execution_count": 476,
     "metadata": {},
     "output_type": "execute_result"
    }
   ],
   "source": [
    "pd.timedelta_range(start=\"1 days\", end=\"5 days\")"
   ]
  },
  {
   "cell_type": "code",
   "execution_count": 477,
   "id": "32493056",
   "metadata": {},
   "outputs": [
    {
     "data": {
      "text/plain": [
       "TimedeltaIndex(['7 days', '8 days', '9 days', '10 days'], dtype='timedelta64[ns]', freq='D')"
      ]
     },
     "execution_count": 477,
     "metadata": {},
     "output_type": "execute_result"
    }
   ],
   "source": [
    "pd.timedelta_range(end=\"10 days\", periods=4)"
   ]
  },
  {
   "cell_type": "markdown",
   "id": "03311077",
   "metadata": {},
   "source": [
    "- The freq parameter can passed a variety of frequency aliases:"
   ]
  },
  {
   "cell_type": "code",
   "execution_count": 478,
   "id": "d12ff99d",
   "metadata": {},
   "outputs": [
    {
     "data": {
      "text/plain": [
       "TimedeltaIndex(['1 days 00:00:00', '1 days 00:30:00', '1 days 01:00:00',\n",
       "                '1 days 01:30:00', '1 days 02:00:00', '1 days 02:30:00',\n",
       "                '1 days 03:00:00', '1 days 03:30:00', '1 days 04:00:00',\n",
       "                '1 days 04:30:00', '1 days 05:00:00', '1 days 05:30:00',\n",
       "                '1 days 06:00:00', '1 days 06:30:00', '1 days 07:00:00',\n",
       "                '1 days 07:30:00', '1 days 08:00:00', '1 days 08:30:00',\n",
       "                '1 days 09:00:00', '1 days 09:30:00', '1 days 10:00:00',\n",
       "                '1 days 10:30:00', '1 days 11:00:00', '1 days 11:30:00',\n",
       "                '1 days 12:00:00', '1 days 12:30:00', '1 days 13:00:00',\n",
       "                '1 days 13:30:00', '1 days 14:00:00', '1 days 14:30:00',\n",
       "                '1 days 15:00:00', '1 days 15:30:00', '1 days 16:00:00',\n",
       "                '1 days 16:30:00', '1 days 17:00:00', '1 days 17:30:00',\n",
       "                '1 days 18:00:00', '1 days 18:30:00', '1 days 19:00:00',\n",
       "                '1 days 19:30:00', '1 days 20:00:00', '1 days 20:30:00',\n",
       "                '1 days 21:00:00', '1 days 21:30:00', '1 days 22:00:00',\n",
       "                '1 days 22:30:00', '1 days 23:00:00', '1 days 23:30:00',\n",
       "                '2 days 00:00:00'],\n",
       "               dtype='timedelta64[ns]', freq='30min')"
      ]
     },
     "execution_count": 478,
     "metadata": {},
     "output_type": "execute_result"
    }
   ],
   "source": [
    "pd.timedelta_range(start=\"1 days\", end=\"2 days\", freq=\"30min\")"
   ]
  },
  {
   "cell_type": "code",
   "execution_count": 479,
   "id": "0ef58f8c",
   "metadata": {},
   "outputs": [
    {
     "data": {
      "text/plain": [
       "TimedeltaIndex(['1 days 00:00:00', '3 days 05:00:00', '5 days 10:00:00',\n",
       "                '7 days 15:00:00', '9 days 20:00:00'],\n",
       "               dtype='timedelta64[ns]', freq='53h')"
      ]
     },
     "execution_count": 479,
     "metadata": {},
     "output_type": "execute_result"
    }
   ],
   "source": [
    "pd.timedelta_range(start=\"1 days\", periods=5, freq=\"2D5h\")"
   ]
  },
  {
   "cell_type": "markdown",
   "id": "628231dc",
   "metadata": {},
   "source": [
    "- Specifying start, end, and periods will generate a range of evenly spaced timedeltas from start to end inclusively, with periods number of elements in the resulting TimedeltaIndex:"
   ]
  },
  {
   "cell_type": "code",
   "execution_count": 480,
   "id": "273b43de",
   "metadata": {},
   "outputs": [
    {
     "data": {
      "text/plain": [
       "TimedeltaIndex(['0 days', '1 days', '2 days', '3 days', '4 days'], dtype='timedelta64[ns]', freq=None)"
      ]
     },
     "execution_count": 480,
     "metadata": {},
     "output_type": "execute_result"
    }
   ],
   "source": [
    "pd.timedelta_range(\"0 days\", \"4 days\", periods=5)"
   ]
  },
  {
   "cell_type": "code",
   "execution_count": 481,
   "id": "19b8c9f1",
   "metadata": {},
   "outputs": [
    {
     "data": {
      "text/plain": [
       "TimedeltaIndex(['0 days 00:00:00', '0 days 10:40:00', '0 days 21:20:00',\n",
       "                '1 days 08:00:00', '1 days 18:40:00', '2 days 05:20:00',\n",
       "                '2 days 16:00:00', '3 days 02:40:00', '3 days 13:20:00',\n",
       "                '4 days 00:00:00'],\n",
       "               dtype='timedelta64[ns]', freq=None)"
      ]
     },
     "execution_count": 481,
     "metadata": {},
     "output_type": "execute_result"
    }
   ],
   "source": [
    "pd.timedelta_range(\"0 days\", \"4 days\", periods=10)"
   ]
  },
  {
   "cell_type": "markdown",
   "id": "d5331b4a",
   "metadata": {},
   "source": [
    "#### Using the TimedeltaIndex\n",
    "- Similarly to other of the datetime-like indices, DatetimeIndex and PeriodIndex, you can use TimedeltaIndex as the index of pandas objects."
   ]
  },
  {
   "cell_type": "code",
   "execution_count": 482,
   "id": "32afe9d9",
   "metadata": {},
   "outputs": [
    {
     "data": {
      "text/plain": [
       "1 days 00:00:00     0\n",
       "1 days 01:00:00     1\n",
       "1 days 02:00:00     2\n",
       "1 days 03:00:00     3\n",
       "1 days 04:00:00     4\n",
       "                   ..\n",
       "4 days 23:00:00    95\n",
       "5 days 00:00:00    96\n",
       "5 days 01:00:00    97\n",
       "5 days 02:00:00    98\n",
       "5 days 03:00:00    99\n",
       "Freq: h, Length: 100, dtype: int64"
      ]
     },
     "execution_count": 482,
     "metadata": {},
     "output_type": "execute_result"
    }
   ],
   "source": [
    "s = pd.Series(\n",
    "    np.arange(100),\n",
    "    index=pd.timedelta_range(\"1 days\", periods=100, freq=\"h\"),\n",
    ")\n",
    "s"
   ]
  },
  {
   "cell_type": "markdown",
   "id": "101f9ecb",
   "metadata": {},
   "source": [
    "- Selections work similarly, with coercion on string-likes and slices:"
   ]
  },
  {
   "cell_type": "code",
   "execution_count": 483,
   "id": "da291080",
   "metadata": {},
   "outputs": [
    {
     "data": {
      "text/plain": [
       "1 days 00:00:00     0\n",
       "1 days 01:00:00     1\n",
       "1 days 02:00:00     2\n",
       "1 days 03:00:00     3\n",
       "1 days 04:00:00     4\n",
       "1 days 05:00:00     5\n",
       "1 days 06:00:00     6\n",
       "1 days 07:00:00     7\n",
       "1 days 08:00:00     8\n",
       "1 days 09:00:00     9\n",
       "1 days 10:00:00    10\n",
       "1 days 11:00:00    11\n",
       "1 days 12:00:00    12\n",
       "1 days 13:00:00    13\n",
       "1 days 14:00:00    14\n",
       "1 days 15:00:00    15\n",
       "1 days 16:00:00    16\n",
       "1 days 17:00:00    17\n",
       "1 days 18:00:00    18\n",
       "1 days 19:00:00    19\n",
       "1 days 20:00:00    20\n",
       "1 days 21:00:00    21\n",
       "1 days 22:00:00    22\n",
       "1 days 23:00:00    23\n",
       "2 days 00:00:00    24\n",
       "2 days 01:00:00    25\n",
       "2 days 02:00:00    26\n",
       "2 days 03:00:00    27\n",
       "2 days 04:00:00    28\n",
       "2 days 05:00:00    29\n",
       "2 days 06:00:00    30\n",
       "2 days 07:00:00    31\n",
       "2 days 08:00:00    32\n",
       "2 days 09:00:00    33\n",
       "2 days 10:00:00    34\n",
       "2 days 11:00:00    35\n",
       "2 days 12:00:00    36\n",
       "2 days 13:00:00    37\n",
       "2 days 14:00:00    38\n",
       "2 days 15:00:00    39\n",
       "2 days 16:00:00    40\n",
       "2 days 17:00:00    41\n",
       "2 days 18:00:00    42\n",
       "2 days 19:00:00    43\n",
       "2 days 20:00:00    44\n",
       "2 days 21:00:00    45\n",
       "2 days 22:00:00    46\n",
       "2 days 23:00:00    47\n",
       "Freq: h, dtype: int64"
      ]
     },
     "execution_count": 483,
     "metadata": {},
     "output_type": "execute_result"
    }
   ],
   "source": [
    "s[\"1 day\":\"2 day\"]"
   ]
  },
  {
   "cell_type": "code",
   "execution_count": 484,
   "id": "7102c597",
   "metadata": {},
   "outputs": [
    {
     "data": {
      "text/plain": [
       "np.int64(1)"
      ]
     },
     "execution_count": 484,
     "metadata": {},
     "output_type": "execute_result"
    }
   ],
   "source": [
    "s[\"1 day 01:00:00\"]"
   ]
  },
  {
   "cell_type": "code",
   "execution_count": 485,
   "id": "e6fec33f",
   "metadata": {},
   "outputs": [
    {
     "data": {
      "text/plain": [
       "np.int64(1)"
      ]
     },
     "execution_count": 485,
     "metadata": {},
     "output_type": "execute_result"
    }
   ],
   "source": [
    "s[pd.Timedelta(\"1 day 1h\")]"
   ]
  },
  {
   "cell_type": "markdown",
   "id": "f47c0b1b",
   "metadata": {},
   "source": [
    "- Furthermore you can use partial string selection and the range will be inferred:"
   ]
  },
  {
   "cell_type": "code",
   "execution_count": 486,
   "id": "f48aacbd",
   "metadata": {},
   "outputs": [
    {
     "data": {
      "text/plain": [
       "1 days 00:00:00    0\n",
       "1 days 01:00:00    1\n",
       "1 days 02:00:00    2\n",
       "1 days 03:00:00    3\n",
       "1 days 04:00:00    4\n",
       "1 days 05:00:00    5\n",
       "Freq: h, dtype: int64"
      ]
     },
     "execution_count": 486,
     "metadata": {},
     "output_type": "execute_result"
    }
   ],
   "source": [
    "s[\"1 day\":\"1 day 5 hours\"]"
   ]
  },
  {
   "cell_type": "markdown",
   "id": "1439c216",
   "metadata": {},
   "source": [
    "#### Operations\n",
    "- Finally, the combination of TimedeltaIndex with DatetimeIndex allow certain combination operations that are NaT preserving:"
   ]
  },
  {
   "cell_type": "code",
   "execution_count": 487,
   "id": "1f049b76",
   "metadata": {},
   "outputs": [
    {
     "data": {
      "text/plain": [
       "[Timedelta('1 days 00:00:00'), NaT, Timedelta('2 days 00:00:00')]"
      ]
     },
     "execution_count": 487,
     "metadata": {},
     "output_type": "execute_result"
    }
   ],
   "source": [
    "tdi = pd.TimedeltaIndex([\"1 days\", pd.NaT, \"2 days\"])\n",
    "tdi.to_list()"
   ]
  },
  {
   "cell_type": "code",
   "execution_count": 488,
   "id": "ded25610",
   "metadata": {},
   "outputs": [
    {
     "data": {
      "text/plain": [
       "[Timestamp('2013-01-01 00:00:00'),\n",
       " Timestamp('2013-01-02 00:00:00'),\n",
       " Timestamp('2013-01-03 00:00:00')]"
      ]
     },
     "execution_count": 488,
     "metadata": {},
     "output_type": "execute_result"
    }
   ],
   "source": [
    "dti = pd.date_range(\"20130101\", periods=3)\n",
    "dti.to_list()"
   ]
  },
  {
   "cell_type": "code",
   "execution_count": 489,
   "id": "94c18023",
   "metadata": {},
   "outputs": [
    {
     "data": {
      "text/plain": [
       "[Timestamp('2013-01-02 00:00:00'), NaT, Timestamp('2013-01-05 00:00:00')]"
      ]
     },
     "execution_count": 489,
     "metadata": {},
     "output_type": "execute_result"
    }
   ],
   "source": [
    "(dti + tdi).to_list()"
   ]
  },
  {
   "cell_type": "code",
   "execution_count": 490,
   "id": "908216d1",
   "metadata": {},
   "outputs": [
    {
     "data": {
      "text/plain": [
       "[Timestamp('2012-12-31 00:00:00'), NaT, Timestamp('2013-01-01 00:00:00')]"
      ]
     },
     "execution_count": 490,
     "metadata": {},
     "output_type": "execute_result"
    }
   ],
   "source": [
    "(dti - tdi).to_list()"
   ]
  },
  {
   "cell_type": "markdown",
   "id": "c5255957",
   "metadata": {},
   "source": [
    "#### Conversions\n",
    "- Similarly to frequency conversion on a Series above, you can convert these indices to yield another Index."
   ]
  },
  {
   "cell_type": "code",
   "execution_count": 491,
   "id": "d65d64c7",
   "metadata": {},
   "outputs": [
    {
     "data": {
      "text/plain": [
       "Index([86400.0, nan, 172800.0], dtype='float64')"
      ]
     },
     "execution_count": 491,
     "metadata": {},
     "output_type": "execute_result"
    }
   ],
   "source": [
    "tdi / np.timedelta64(1, \"s\")"
   ]
  },
  {
   "cell_type": "code",
   "execution_count": 492,
   "id": "fd5647bc",
   "metadata": {},
   "outputs": [
    {
     "data": {
      "text/plain": [
       "TimedeltaIndex(['1 days', NaT, '2 days'], dtype='timedelta64[s]', freq=None)"
      ]
     },
     "execution_count": 492,
     "metadata": {},
     "output_type": "execute_result"
    }
   ],
   "source": [
    "tdi.astype(\"timedelta64[s]\")"
   ]
  },
  {
   "cell_type": "markdown",
   "id": "dab2a0c9",
   "metadata": {},
   "source": [
    "- Scalars type ops work as well. These can potentially return a different type of index."
   ]
  },
  {
   "cell_type": "code",
   "execution_count": 493,
   "id": "624acaf9",
   "metadata": {},
   "outputs": [
    {
     "data": {
      "text/plain": [
       "DatetimeIndex(['2013-01-02', 'NaT', '2013-01-03'], dtype='datetime64[ns]', freq=None)"
      ]
     },
     "execution_count": 493,
     "metadata": {},
     "output_type": "execute_result"
    }
   ],
   "source": [
    "# adding or timedelta and date -> datelike\n",
    "tdi + pd.Timestamp(\"20130101\")"
   ]
  },
  {
   "cell_type": "code",
   "execution_count": 494,
   "id": "d658c25a",
   "metadata": {},
   "outputs": [
    {
     "data": {
      "text/plain": [
       "[Timestamp('2012-12-31 00:00:00'), NaT, Timestamp('2012-12-30 00:00:00')]"
      ]
     },
     "execution_count": 494,
     "metadata": {},
     "output_type": "execute_result"
    }
   ],
   "source": [
    "# subtraction of a date and a timedelta -> datelike\n",
    "# note that trying to subtract a date from a Timedelta will raise an exception\n",
    "(pd.Timestamp(\"20130101\") - tdi).to_list()"
   ]
  },
  {
   "cell_type": "code",
   "execution_count": 495,
   "id": "b4c0233e",
   "metadata": {},
   "outputs": [
    {
     "data": {
      "text/plain": [
       "TimedeltaIndex(['11 days', NaT, '12 days'], dtype='timedelta64[ns]', freq=None)"
      ]
     },
     "execution_count": 495,
     "metadata": {},
     "output_type": "execute_result"
    }
   ],
   "source": [
    "# timedelta + timedelta -> timedelta\n",
    "tdi + pd.Timedelta(\"10 days\")"
   ]
  },
  {
   "cell_type": "code",
   "execution_count": 496,
   "id": "7854554e",
   "metadata": {},
   "outputs": [
    {
     "data": {
      "text/plain": [
       "TimedeltaIndex(['0 days 12:00:00', NaT, '1 days 00:00:00'], dtype='timedelta64[ns]', freq=None)"
      ]
     },
     "execution_count": 496,
     "metadata": {},
     "output_type": "execute_result"
    }
   ],
   "source": [
    "# division can result in a Timedelta if the divisor is an integer\n",
    "tdi / 2"
   ]
  },
  {
   "cell_type": "code",
   "execution_count": 497,
   "id": "537ec1b8",
   "metadata": {},
   "outputs": [
    {
     "data": {
      "text/plain": [
       "Index([1.0, nan, 2.0], dtype='float64')"
      ]
     },
     "execution_count": 497,
     "metadata": {},
     "output_type": "execute_result"
    }
   ],
   "source": [
    "# or a float64 Index if the divisor is a Timedelta\n",
    "tdi / tdi[0]"
   ]
  },
  {
   "cell_type": "markdown",
   "id": "c861ee28",
   "metadata": {},
   "source": [
    "#### Resampling\n",
    "- Similar to timeseries resampling, we can resample with a TimedeltaIndex."
   ]
  },
  {
   "cell_type": "code",
   "execution_count": 498,
   "id": "01b48b0c",
   "metadata": {},
   "outputs": [
    {
     "data": {
      "text/plain": [
       "1 days    11.5\n",
       "2 days    35.5\n",
       "3 days    59.5\n",
       "4 days    83.5\n",
       "5 days    97.5\n",
       "Freq: D, dtype: float64"
      ]
     },
     "execution_count": 498,
     "metadata": {},
     "output_type": "execute_result"
    }
   ],
   "source": [
    "s.resample(\"D\").mean()"
   ]
  },
  {
   "cell_type": "code",
   "execution_count": null,
   "id": "30a6bcd5",
   "metadata": {},
   "outputs": [],
   "source": []
  }
 ],
 "metadata": {
  "kernelspec": {
   "display_name": "Python 3",
   "language": "python",
   "name": "python3"
  },
  "language_info": {
   "codemirror_mode": {
    "name": "ipython",
    "version": 3
   },
   "file_extension": ".py",
   "mimetype": "text/x-python",
   "name": "python",
   "nbconvert_exporter": "python",
   "pygments_lexer": "ipython3",
   "version": "3.13.5"
  }
 },
 "nbformat": 4,
 "nbformat_minor": 5
}
