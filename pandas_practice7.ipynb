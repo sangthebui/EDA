{
 "cells": [
  {
   "cell_type": "markdown",
   "id": "521a8822",
   "metadata": {},
   "source": [
    "## Options and settings\n",
    "- From https://pandas.pydata.org/docs/user_guide/options.html\n",
    "#### Overview\n",
    "- pandas has an options API configure and customize global behavior related to DataFrame display, data behavior and more.\n",
    "\n",
    "- Options have a full “dotted-style”, case-insensitive name (e.g. display.max_rows). You can get/set options directly as attributes of the top-level options attribute:"
   ]
  },
  {
   "cell_type": "code",
   "execution_count": 23,
   "id": "1a4f864d",
   "metadata": {},
   "outputs": [],
   "source": [
    "import pandas as pd\n",
    "import numpy as np"
   ]
  },
  {
   "cell_type": "code",
   "execution_count": 2,
   "id": "004db73d",
   "metadata": {},
   "outputs": [
    {
     "data": {
      "text/plain": [
       "60"
      ]
     },
     "execution_count": 2,
     "metadata": {},
     "output_type": "execute_result"
    }
   ],
   "source": [
    "pd.options.display.max_rows"
   ]
  },
  {
   "cell_type": "code",
   "execution_count": 3,
   "id": "08c86db0",
   "metadata": {},
   "outputs": [
    {
     "data": {
      "text/plain": [
       "999"
      ]
     },
     "execution_count": 3,
     "metadata": {},
     "output_type": "execute_result"
    }
   ],
   "source": [
    "pd.options.display.max_rows = 999\n",
    "pd.options.display.max_rows"
   ]
  },
  {
   "cell_type": "markdown",
   "id": "3d0ecb39",
   "metadata": {},
   "source": [
    "- The API is composed of 5 relevant functions, available directly from the pandas namespace:\n",
    "    - get_option() / set_option() - get/set the value of a single option.\n",
    "    - reset_option() - reset one or more options to their default value.\n",
    "    - describe_option() - print the descriptions of one or more options.\n",
    "    - option_context() - execute a codeblock with a set of options that revert to prior settings after execution.\n",
    "\n",
    "- **Note**: Developers can check out pandas/core/config_init.py for more information.\n",
    "\n",
    "- All of the functions above accept a regexp pattern (re.search style) as an argument, to match an unambiguous substring:"
   ]
  },
  {
   "cell_type": "code",
   "execution_count": 4,
   "id": "6855c8c6",
   "metadata": {},
   "outputs": [],
   "source": [
    "pd.get_option(\"display.chop_threshold\")"
   ]
  },
  {
   "cell_type": "code",
   "execution_count": 5,
   "id": "b92d5f8d",
   "metadata": {},
   "outputs": [
    {
     "data": {
      "text/plain": [
       "2"
      ]
     },
     "execution_count": 5,
     "metadata": {},
     "output_type": "execute_result"
    }
   ],
   "source": [
    "pd.set_option(\"display.chop_threshold\", 2)\n",
    "pd.get_option(\"display.chop_threshold\")"
   ]
  },
  {
   "cell_type": "code",
   "execution_count": 6,
   "id": "f57af7e5",
   "metadata": {},
   "outputs": [
    {
     "data": {
      "text/plain": [
       "4"
      ]
     },
     "execution_count": 6,
     "metadata": {},
     "output_type": "execute_result"
    }
   ],
   "source": [
    "pd.set_option(\"chop\", 4)\n",
    "pd.get_option(\"display.chop_threshold\")"
   ]
  },
  {
   "cell_type": "markdown",
   "id": "9fc126ed",
   "metadata": {},
   "source": [
    "- The following will not work because it matches multiple option names, e.g. display.max_colwidth, display.max_rows, display.max_columns:"
   ]
  },
  {
   "cell_type": "code",
   "execution_count": 7,
   "id": "07ad19a9",
   "metadata": {},
   "outputs": [
    {
     "name": "stdout",
     "output_type": "stream",
     "text": [
      "Pattern matched multiple keys\n"
     ]
    }
   ],
   "source": [
    "try:\n",
    "    pd.get_option(\"max\")\n",
    "except Exception as e:\n",
    "    print(e)"
   ]
  },
  {
   "cell_type": "markdown",
   "id": "fc04e3ba",
   "metadata": {},
   "source": [
    "- **Warning**: Using this form of shorthand may cause your code to break if new options with similar names are added in future versions.\n",
    "\n",
    "#### Available options\n",
    "- You can get a list of available options and their descriptions with describe_option(). When called with no argument describe_option() will print out the descriptions for all available options."
   ]
  },
  {
   "cell_type": "code",
   "execution_count": 8,
   "id": "10fef938",
   "metadata": {},
   "outputs": [
    {
     "name": "stdout",
     "output_type": "stream",
     "text": [
      "compute.use_bottleneck : bool\n",
      "    Use the bottleneck library to accelerate if it is installed,\n",
      "    the default is True\n",
      "    Valid values: False,True\n",
      "    [default: True] [currently: True]\n",
      "compute.use_numba : bool\n",
      "    Use the numba engine option for select operations if it is installed,\n",
      "    the default is False\n",
      "    Valid values: False,True\n",
      "    [default: False] [currently: False]\n",
      "compute.use_numexpr : bool\n",
      "    Use the numexpr library to accelerate computation if it is installed,\n",
      "    the default is True\n",
      "    Valid values: False,True\n",
      "    [default: True] [currently: True]\n",
      "display.chop_threshold : float or None\n",
      "    if set to a float value, all float values smaller than the given threshold\n",
      "    will be displayed as exactly 0 by repr and friends.\n",
      "    [default: None] [currently: 4]\n",
      "display.colheader_justify : 'left'/'right'\n",
      "    Controls the justification of column headers. used by DataFrameFormatter.\n",
      "    [default: right] [currently: right]\n",
      "display.date_dayfirst : boolean\n",
      "    When True, prints and parses dates with the day first, eg 20/01/2005\n",
      "    [default: False] [currently: False]\n",
      "display.date_yearfirst : boolean\n",
      "    When True, prints and parses dates with the year first, eg 2005/01/20\n",
      "    [default: False] [currently: False]\n",
      "display.encoding : str/unicode\n",
      "    Defaults to the detected encoding of the console.\n",
      "    Specifies the encoding to be used for strings returned by to_string,\n",
      "    these are generally strings meant to be displayed on the console.\n",
      "    [default: UTF-8] [currently: UTF-8]\n",
      "display.expand_frame_repr : boolean\n",
      "    Whether to print out the full DataFrame repr for wide DataFrames across\n",
      "    multiple lines, `max_columns` is still respected, but the output will\n",
      "    wrap-around across multiple \"pages\" if its width exceeds `display.width`.\n",
      "    [default: True] [currently: True]\n",
      "display.float_format : callable\n",
      "    The callable should accept a floating point number and return\n",
      "    a string with the desired format of the number. This is used\n",
      "    in some places like SeriesFormatter.\n",
      "    See formats.format.EngFormatter for an example.\n",
      "    [default: None] [currently: None]\n",
      "display.html.border : int\n",
      "    A ``border=value`` attribute is inserted in the ``<table>`` tag\n",
      "    for the DataFrame HTML repr.\n",
      "    [default: 1] [currently: 1]\n",
      "display.html.table_schema : boolean\n",
      "    Whether to publish a Table Schema representation for frontends\n",
      "    that support it.\n",
      "    (default: False)\n",
      "    [default: False] [currently: False]\n",
      "display.html.use_mathjax : boolean\n",
      "    When True, Jupyter notebook will process table contents using MathJax,\n",
      "    rendering mathematical expressions enclosed by the dollar symbol.\n",
      "    (default: True)\n",
      "    [default: True] [currently: True]\n",
      "display.large_repr : 'truncate'/'info'\n",
      "    For DataFrames exceeding max_rows/max_cols, the repr (and HTML repr) can\n",
      "    show a truncated table, or switch to the view from\n",
      "    df.info() (the behaviour in earlier versions of pandas).\n",
      "    [default: truncate] [currently: truncate]\n",
      "display.max_categories : int\n",
      "    This sets the maximum number of categories pandas should output when\n",
      "    printing out a `Categorical` or a Series of dtype \"category\".\n",
      "    [default: 8] [currently: 8]\n",
      "display.max_columns : int\n",
      "    If max_cols is exceeded, switch to truncate view. Depending on\n",
      "    `large_repr`, objects are either centrally truncated or printed as\n",
      "    a summary view. 'None' value means unlimited.\n",
      "\n",
      "    In case python/IPython is running in a terminal and `large_repr`\n",
      "    equals 'truncate' this can be set to 0 or None and pandas will auto-detect\n",
      "    the width of the terminal and print a truncated object which fits\n",
      "    the screen width. The IPython notebook, IPython qtconsole, or IDLE\n",
      "    do not run in a terminal and hence it is not possible to do\n",
      "    correct auto-detection and defaults to 20.\n",
      "    [default: 20] [currently: 20]\n",
      "display.max_colwidth : int or None\n",
      "    The maximum width in characters of a column in the repr of\n",
      "    a pandas data structure. When the column overflows, a \"...\"\n",
      "    placeholder is embedded in the output. A 'None' value means unlimited.\n",
      "    [default: 50] [currently: 50]\n",
      "display.max_dir_items : int\n",
      "    The number of items that will be added to `dir(...)`. 'None' value means\n",
      "    unlimited. Because dir is cached, changing this option will not immediately\n",
      "    affect already existing dataframes until a column is deleted or added.\n",
      "\n",
      "    This is for instance used to suggest columns from a dataframe to tab\n",
      "    completion.\n",
      "    [default: 100] [currently: 100]\n",
      "display.max_info_columns : int\n",
      "    max_info_columns is used in DataFrame.info method to decide if\n",
      "    per column information will be printed.\n",
      "    [default: 100] [currently: 100]\n",
      "display.max_info_rows : int\n",
      "    df.info() will usually show null-counts for each column.\n",
      "    For large frames this can be quite slow. max_info_rows and max_info_cols\n",
      "    limit this null check only to frames with smaller dimensions than\n",
      "    specified.\n",
      "    [default: 1690785] [currently: 1690785]\n",
      "display.max_rows : int\n",
      "    If max_rows is exceeded, switch to truncate view. Depending on\n",
      "    `large_repr`, objects are either centrally truncated or printed as\n",
      "    a summary view. 'None' value means unlimited.\n",
      "\n",
      "    In case python/IPython is running in a terminal and `large_repr`\n",
      "    equals 'truncate' this can be set to 0 and pandas will auto-detect\n",
      "    the height of the terminal and print a truncated object which fits\n",
      "    the screen height. The IPython notebook, IPython qtconsole, or\n",
      "    IDLE do not run in a terminal and hence it is not possible to do\n",
      "    correct auto-detection.\n",
      "    [default: 60] [currently: 999]\n",
      "display.max_seq_items : int or None\n",
      "    When pretty-printing a long sequence, no more then `max_seq_items`\n",
      "    will be printed. If items are omitted, they will be denoted by the\n",
      "    addition of \"...\" to the resulting string.\n",
      "\n",
      "    If set to None, the number of items to be printed is unlimited.\n",
      "    [default: 100] [currently: 100]\n",
      "display.memory_usage : bool, string or None\n",
      "    This specifies if the memory usage of a DataFrame should be displayed when\n",
      "    df.info() is called. Valid values True,False,'deep'\n",
      "    [default: True] [currently: True]\n",
      "display.min_rows : int\n",
      "    The numbers of rows to show in a truncated view (when `max_rows` is\n",
      "    exceeded). Ignored when `max_rows` is set to None or 0. When set to\n",
      "    None, follows the value of `max_rows`.\n",
      "    [default: 10] [currently: 10]\n",
      "display.multi_sparse : boolean\n",
      "    \"sparsify\" MultiIndex display (don't display repeated\n",
      "    elements in outer levels within groups)\n",
      "    [default: True] [currently: True]\n",
      "display.notebook_repr_html : boolean\n",
      "    When True, IPython notebook will use html representation for\n",
      "    pandas objects (if it is available).\n",
      "    [default: True] [currently: True]\n",
      "display.pprint_nest_depth : int\n",
      "    Controls the number of nested levels to process when pretty-printing\n",
      "    [default: 3] [currently: 3]\n",
      "display.precision : int\n",
      "    Floating point output precision in terms of number of places after the\n",
      "    decimal, for regular formatting as well as scientific notation. Similar\n",
      "    to ``precision`` in :meth:`numpy.set_printoptions`.\n",
      "    [default: 6] [currently: 6]\n",
      "display.show_dimensions : boolean or 'truncate'\n",
      "    Whether to print out dimensions at the end of DataFrame repr.\n",
      "    If 'truncate' is specified, only print out the dimensions if the\n",
      "    frame is truncated (e.g. not display all rows and/or columns)\n",
      "    [default: truncate] [currently: truncate]\n",
      "display.unicode.ambiguous_as_wide : boolean\n",
      "    Whether to use the Unicode East Asian Width to calculate the display text\n",
      "    width.\n",
      "    Enabling this may affect to the performance (default: False)\n",
      "    [default: False] [currently: False]\n",
      "display.unicode.east_asian_width : boolean\n",
      "    Whether to use the Unicode East Asian Width to calculate the display text\n",
      "    width.\n",
      "    Enabling this may affect to the performance (default: False)\n",
      "    [default: False] [currently: False]\n",
      "display.width : int\n",
      "    Width of the display in characters. In case python/IPython is running in\n",
      "    a terminal this can be set to None and pandas will correctly auto-detect\n",
      "    the width.\n",
      "    Note that the IPython notebook, IPython qtconsole, or IDLE do not run in a\n",
      "    terminal and hence it is not possible to correctly detect the width.\n",
      "    [default: 80] [currently: 80]\n",
      "future.infer_string Whether to infer sequence of str objects as pyarrow string dtype, which will be the default in pandas 3.0 (at which point this option will be deprecated).\n",
      "    [default: False] [currently: False]\n",
      "future.no_silent_downcasting Whether to opt-in to the future behavior which will *not* silently downcast results from Series and DataFrame `where`, `mask`, and `clip` methods. Silent downcasting will be removed in pandas 3.0 (at which point this option will be deprecated).\n",
      "    [default: False] [currently: False]\n",
      "io.excel.ods.reader : string\n",
      "    The default Excel reader engine for 'ods' files. Available options:\n",
      "    auto, odf, calamine.\n",
      "    [default: auto] [currently: auto]\n",
      "io.excel.ods.writer : string\n",
      "    The default Excel writer engine for 'ods' files. Available options:\n",
      "    auto, odf.\n",
      "    [default: auto] [currently: auto]\n",
      "io.excel.xls.reader : string\n",
      "    The default Excel reader engine for 'xls' files. Available options:\n",
      "    auto, xlrd, calamine.\n",
      "    [default: auto] [currently: auto]\n",
      "io.excel.xlsb.reader : string\n",
      "    The default Excel reader engine for 'xlsb' files. Available options:\n",
      "    auto, pyxlsb, calamine.\n",
      "    [default: auto] [currently: auto]\n",
      "io.excel.xlsm.reader : string\n",
      "    The default Excel reader engine for 'xlsm' files. Available options:\n",
      "    auto, xlrd, openpyxl, calamine.\n",
      "    [default: auto] [currently: auto]\n",
      "io.excel.xlsm.writer : string\n",
      "    The default Excel writer engine for 'xlsm' files. Available options:\n",
      "    auto, openpyxl.\n",
      "    [default: auto] [currently: auto]\n",
      "io.excel.xlsx.reader : string\n",
      "    The default Excel reader engine for 'xlsx' files. Available options:\n",
      "    auto, xlrd, openpyxl, calamine.\n",
      "    [default: auto] [currently: auto]\n",
      "io.excel.xlsx.writer : string\n",
      "    The default Excel writer engine for 'xlsx' files. Available options:\n",
      "    auto, openpyxl, xlsxwriter.\n",
      "    [default: auto] [currently: auto]\n",
      "io.hdf.default_format : format\n",
      "    default format writing format, if None, then\n",
      "    put will default to 'fixed' and append will default to 'table'\n",
      "    [default: None] [currently: None]\n",
      "io.hdf.dropna_table : boolean\n",
      "    drop ALL nan rows when appending to a table\n",
      "    [default: False] [currently: False]\n",
      "io.parquet.engine : string\n",
      "    The default parquet reader/writer engine. Available options:\n",
      "    'auto', 'pyarrow', 'fastparquet', the default is 'auto'\n",
      "    [default: auto] [currently: auto]\n",
      "io.sql.engine : string\n",
      "    The default sql reader/writer engine. Available options:\n",
      "    'auto', 'sqlalchemy', the default is 'auto'\n",
      "    [default: auto] [currently: auto]\n",
      "mode.chained_assignment : string\n",
      "    Raise an exception, warn, or no action if trying to use chained assignment,\n",
      "    The default is warn\n",
      "    [default: warn] [currently: warn]\n",
      "mode.copy_on_write : bool\n",
      "    Use new copy-view behaviour using Copy-on-Write. Defaults to False,\n",
      "    unless overridden by the 'PANDAS_COPY_ON_WRITE' environment variable\n",
      "    (if set to \"1\" for True, needs to be set before pandas is imported).\n",
      "    [default: False] [currently: False]\n",
      "mode.data_manager : string\n",
      "    Internal data manager type; can be \"block\" or \"array\". Defaults to \"block\",\n",
      "    unless overridden by the 'PANDAS_DATA_MANAGER' environment variable (needs\n",
      "    to be set before pandas is imported).\n",
      "    [default: block] [currently: block]\n",
      "    (Deprecated, use `` instead.)\n",
      "mode.sim_interactive : boolean\n",
      "    Whether to simulate interactive mode for purposes of testing\n",
      "    [default: False] [currently: False]\n",
      "mode.string_storage : string\n",
      "    The default storage for StringDtype. This option is ignored if\n",
      "    ``future.infer_string`` is set to True.\n",
      "    [default: python] [currently: python]\n",
      "mode.use_inf_as_na : boolean\n",
      "    True means treat None, NaN, INF, -INF as NA (old way),\n",
      "    False means None and NaN are null, but INF, -INF are not NA\n",
      "    (new way).\n",
      "\n",
      "    This option is deprecated in pandas 2.1.0 and will be removed in 3.0.\n",
      "    [default: False] [currently: False]\n",
      "    (Deprecated, use `` instead.)\n",
      "plotting.backend : str\n",
      "    The plotting backend to use. The default value is \"matplotlib\", the\n",
      "    backend provided with pandas. Other backends can be specified by\n",
      "    providing the name of the module that implements the backend.\n",
      "    [default: matplotlib] [currently: matplotlib]\n",
      "plotting.matplotlib.register_converters : bool or 'auto'.\n",
      "    Whether to register converters with matplotlib's units registry for\n",
      "    dates, times, datetimes, and Periods. Toggling to False will remove\n",
      "    the converters, restoring any converters that pandas overwrote.\n",
      "    [default: auto] [currently: auto]\n",
      "styler.format.decimal : str\n",
      "    The character representation for the decimal separator for floats and complex.\n",
      "    [default: .] [currently: .]\n",
      "styler.format.escape : str, optional\n",
      "    Whether to escape certain characters according to the given context; html or latex.\n",
      "    [default: None] [currently: None]\n",
      "styler.format.formatter : str, callable, dict, optional\n",
      "    A formatter object to be used as default within ``Styler.format``.\n",
      "    [default: None] [currently: None]\n",
      "styler.format.na_rep : str, optional\n",
      "    The string representation for values identified as missing.\n",
      "    [default: None] [currently: None]\n",
      "styler.format.precision : int\n",
      "    The precision for floats and complex numbers.\n",
      "    [default: 6] [currently: 6]\n",
      "styler.format.thousands : str, optional\n",
      "    The character representation for thousands separator for floats, int and complex.\n",
      "    [default: None] [currently: None]\n",
      "styler.html.mathjax : bool\n",
      "    If False will render special CSS classes to table attributes that indicate Mathjax\n",
      "    will not be used in Jupyter Notebook.\n",
      "    [default: True] [currently: True]\n",
      "styler.latex.environment : str\n",
      "    The environment to replace ``\\begin{table}``. If \"longtable\" is used results\n",
      "    in a specific longtable environment format.\n",
      "    [default: None] [currently: None]\n",
      "styler.latex.hrules : bool\n",
      "    Whether to add horizontal rules on top and bottom and below the headers.\n",
      "    [default: False] [currently: False]\n",
      "styler.latex.multicol_align : {\"r\", \"c\", \"l\", \"naive-l\", \"naive-r\"}\n",
      "    The specifier for horizontal alignment of sparsified LaTeX multicolumns. Pipe\n",
      "    decorators can also be added to non-naive values to draw vertical\n",
      "    rules, e.g. \"\\|r\" will draw a rule on the left side of right aligned merged cells.\n",
      "    [default: r] [currently: r]\n",
      "styler.latex.multirow_align : {\"c\", \"t\", \"b\"}\n",
      "    The specifier for vertical alignment of sparsified LaTeX multirows.\n",
      "    [default: c] [currently: c]\n",
      "styler.render.encoding : str\n",
      "    The encoding used for output HTML and LaTeX files.\n",
      "    [default: utf-8] [currently: utf-8]\n",
      "styler.render.max_columns : int, optional\n",
      "    The maximum number of columns that will be rendered. May still be reduced to\n",
      "    satisfy ``max_elements``, which takes precedence.\n",
      "    [default: None] [currently: None]\n",
      "styler.render.max_elements : int\n",
      "    The maximum number of data-cell (<td>) elements that will be rendered before\n",
      "    trimming will occur over columns, rows or both if needed.\n",
      "    [default: 262144] [currently: 262144]\n",
      "styler.render.max_rows : int, optional\n",
      "    The maximum number of rows that will be rendered. May still be reduced to\n",
      "    satisfy ``max_elements``, which takes precedence.\n",
      "    [default: None] [currently: None]\n",
      "styler.render.repr : str\n",
      "    Determine which output to use in Jupyter Notebook in {\"html\", \"latex\"}.\n",
      "    [default: html] [currently: html]\n",
      "styler.sparse.columns : bool\n",
      "    Whether to sparsify the display of hierarchical columns. Setting to False will\n",
      "    display each explicit level element in a hierarchical key for each column.\n",
      "    [default: True] [currently: True]\n",
      "styler.sparse.index : bool\n",
      "    Whether to sparsify the display of a hierarchical index. Setting to False will\n",
      "    display each explicit level element in a hierarchical key for each row.\n",
      "    [default: True] [currently: True]\n"
     ]
    }
   ],
   "source": [
    "pd.describe_option()"
   ]
  },
  {
   "cell_type": "markdown",
   "id": "3e20aac0",
   "metadata": {},
   "source": [
    "#### Getting and setting options\n",
    "- As described above, get_option() and set_option() are available from the pandas namespace. To change an option, call set_option('option regex', new_value)."
   ]
  },
  {
   "cell_type": "code",
   "execution_count": 9,
   "id": "6a87cd2a",
   "metadata": {},
   "outputs": [
    {
     "data": {
      "text/plain": [
       "False"
      ]
     },
     "execution_count": 9,
     "metadata": {},
     "output_type": "execute_result"
    }
   ],
   "source": [
    "pd.get_option(\"mode.sim_interactive\")"
   ]
  },
  {
   "cell_type": "code",
   "execution_count": 11,
   "id": "c9e8beef",
   "metadata": {},
   "outputs": [
    {
     "data": {
      "text/plain": [
       "True"
      ]
     },
     "execution_count": 11,
     "metadata": {},
     "output_type": "execute_result"
    }
   ],
   "source": [
    "pd.set_option(\"mode.sim_interactive\", True)\n",
    "pd.get_option(\"mode.sim_interactive\")"
   ]
  },
  {
   "cell_type": "markdown",
   "id": "bd7fe0b5",
   "metadata": {},
   "source": [
    "- **Note**: The option 'mode.sim_interactive' is mostly used for debugging purposes.\n",
    "\n",
    "- You can use reset_option() to revert to a setting’s default value"
   ]
  },
  {
   "cell_type": "code",
   "execution_count": 13,
   "id": "ca8eed2f",
   "metadata": {},
   "outputs": [
    {
     "data": {
      "text/plain": [
       "60"
      ]
     },
     "execution_count": 13,
     "metadata": {},
     "output_type": "execute_result"
    }
   ],
   "source": [
    "pd.reset_option(\"display.max_rows\")\n",
    "pd.get_option(\"display.max_rows\")"
   ]
  },
  {
   "cell_type": "code",
   "execution_count": 15,
   "id": "473fa6e2",
   "metadata": {},
   "outputs": [
    {
     "data": {
      "text/plain": [
       "999"
      ]
     },
     "execution_count": 15,
     "metadata": {},
     "output_type": "execute_result"
    }
   ],
   "source": [
    "pd.set_option(\"display.max_rows\", 999)\n",
    "pd.get_option(\"display.max_rows\")\n"
   ]
  },
  {
   "cell_type": "code",
   "execution_count": 16,
   "id": "8e8876a6",
   "metadata": {},
   "outputs": [
    {
     "data": {
      "text/plain": [
       "60"
      ]
     },
     "execution_count": 16,
     "metadata": {},
     "output_type": "execute_result"
    }
   ],
   "source": [
    "pd.reset_option(\"display.max_rows\")\n",
    "pd.get_option(\"display.max_rows\")"
   ]
  },
  {
   "cell_type": "markdown",
   "id": "bad4ab94",
   "metadata": {},
   "source": [
    "- It’s also possible to reset multiple options at once (using a regex):"
   ]
  },
  {
   "cell_type": "code",
   "execution_count": 17,
   "id": "31e1ca79",
   "metadata": {},
   "outputs": [],
   "source": [
    "pd.reset_option(\"^display\")"
   ]
  },
  {
   "cell_type": "markdown",
   "id": "cd1e7804",
   "metadata": {},
   "source": [
    "- option_context() context manager has been exposed through the top-level API, allowing you to execute code with given option values. Option values are restored automatically when you exit the with block:"
   ]
  },
  {
   "cell_type": "code",
   "execution_count": 18,
   "id": "6fbef01c",
   "metadata": {},
   "outputs": [
    {
     "name": "stdout",
     "output_type": "stream",
     "text": [
      "10\n",
      "5\n"
     ]
    }
   ],
   "source": [
    "with pd.option_context(\"display.max_rows\", 10, \"display.max_columns\", 5):\n",
    "    print(pd.get_option(\"display.max_rows\"))\n",
    "    print(pd.get_option(\"display.max_columns\"))"
   ]
  },
  {
   "cell_type": "code",
   "execution_count": 19,
   "id": "998830d2",
   "metadata": {},
   "outputs": [
    {
     "name": "stdout",
     "output_type": "stream",
     "text": [
      "60\n"
     ]
    }
   ],
   "source": [
    "print(pd.get_option(\"display.max_rows\"))"
   ]
  },
  {
   "cell_type": "code",
   "execution_count": 20,
   "id": "7154d724",
   "metadata": {},
   "outputs": [
    {
     "name": "stdout",
     "output_type": "stream",
     "text": [
      "20\n"
     ]
    }
   ],
   "source": [
    "print(pd.get_option(\"display.max_columns\"))"
   ]
  },
  {
   "cell_type": "markdown",
   "id": "35bbc16b",
   "metadata": {},
   "source": [
    "#### Setting startup options in Python/IPython environment\n",
    "- Using startup scripts for the Python/IPython environment to import pandas and set options makes working with pandas more efficient. To do this, create a .py or .ipy script in the startup directory of the desired profile. An example where the startup folder is in a default IPython profile can be found at:\n",
    "\n",
    "`$IPYTHONDIR/profile_default/startup`\n",
    "- More information can be found in the IPython documentation. An example startup script for pandas is displayed below:\n",
    "```\n",
    "pd.set_option(\"display.max_rows\", 999)\n",
    "pd.set_option(\"display.precision\", 5)\n",
    "```\n",
    "\n",
    "#### Frequently used options\n",
    "- The following is a demonstrates the more frequently used display options.\n",
    "\n",
    "- display.max_rows and display.max_columns sets the maximum number of rows and columns displayed when a frame is pretty-printed. Truncated lines are replaced by an ellipsis."
   ]
  },
  {
   "cell_type": "code",
   "execution_count": 24,
   "id": "e20e4a94",
   "metadata": {},
   "outputs": [
    {
     "data": {
      "text/html": [
       "<div>\n",
       "<style scoped>\n",
       "    .dataframe tbody tr th:only-of-type {\n",
       "        vertical-align: middle;\n",
       "    }\n",
       "\n",
       "    .dataframe tbody tr th {\n",
       "        vertical-align: top;\n",
       "    }\n",
       "\n",
       "    .dataframe thead th {\n",
       "        text-align: right;\n",
       "    }\n",
       "</style>\n",
       "<table border=\"1\" class=\"dataframe\">\n",
       "  <thead>\n",
       "    <tr style=\"text-align: right;\">\n",
       "      <th></th>\n",
       "      <th>0</th>\n",
       "      <th>1</th>\n",
       "    </tr>\n",
       "  </thead>\n",
       "  <tbody>\n",
       "    <tr>\n",
       "      <th>0</th>\n",
       "      <td>-1.418810</td>\n",
       "      <td>0.219813</td>\n",
       "    </tr>\n",
       "    <tr>\n",
       "      <th>1</th>\n",
       "      <td>0.894406</td>\n",
       "      <td>2.235602</td>\n",
       "    </tr>\n",
       "    <tr>\n",
       "      <th>2</th>\n",
       "      <td>-0.086260</td>\n",
       "      <td>-0.659120</td>\n",
       "    </tr>\n",
       "    <tr>\n",
       "      <th>3</th>\n",
       "      <td>-0.457991</td>\n",
       "      <td>1.079203</td>\n",
       "    </tr>\n",
       "    <tr>\n",
       "      <th>4</th>\n",
       "      <td>0.733295</td>\n",
       "      <td>-0.866521</td>\n",
       "    </tr>\n",
       "    <tr>\n",
       "      <th>5</th>\n",
       "      <td>-0.818501</td>\n",
       "      <td>0.129374</td>\n",
       "    </tr>\n",
       "    <tr>\n",
       "      <th>6</th>\n",
       "      <td>-1.920624</td>\n",
       "      <td>0.489486</td>\n",
       "    </tr>\n",
       "  </tbody>\n",
       "</table>\n",
       "</div>"
      ],
      "text/plain": [
       "          0         1\n",
       "0 -1.418810  0.219813\n",
       "1  0.894406  2.235602\n",
       "2 -0.086260 -0.659120\n",
       "3 -0.457991  1.079203\n",
       "4  0.733295 -0.866521\n",
       "5 -0.818501  0.129374\n",
       "6 -1.920624  0.489486"
      ]
     },
     "execution_count": 24,
     "metadata": {},
     "output_type": "execute_result"
    }
   ],
   "source": [
    "df = pd.DataFrame(np.random.randn(7, 2))\n",
    "pd.set_option(\"display.max_rows\", 7)\n",
    "df"
   ]
  },
  {
   "cell_type": "code",
   "execution_count": 25,
   "id": "d6ac2441",
   "metadata": {},
   "outputs": [
    {
     "data": {
      "text/html": [
       "<div>\n",
       "<style scoped>\n",
       "    .dataframe tbody tr th:only-of-type {\n",
       "        vertical-align: middle;\n",
       "    }\n",
       "\n",
       "    .dataframe tbody tr th {\n",
       "        vertical-align: top;\n",
       "    }\n",
       "\n",
       "    .dataframe thead th {\n",
       "        text-align: right;\n",
       "    }\n",
       "</style>\n",
       "<table border=\"1\" class=\"dataframe\">\n",
       "  <thead>\n",
       "    <tr style=\"text-align: right;\">\n",
       "      <th></th>\n",
       "      <th>0</th>\n",
       "      <th>1</th>\n",
       "    </tr>\n",
       "  </thead>\n",
       "  <tbody>\n",
       "    <tr>\n",
       "      <th>0</th>\n",
       "      <td>-1.418810</td>\n",
       "      <td>0.219813</td>\n",
       "    </tr>\n",
       "    <tr>\n",
       "      <th>1</th>\n",
       "      <td>0.894406</td>\n",
       "      <td>2.235602</td>\n",
       "    </tr>\n",
       "    <tr>\n",
       "      <th>...</th>\n",
       "      <td>...</td>\n",
       "      <td>...</td>\n",
       "    </tr>\n",
       "    <tr>\n",
       "      <th>5</th>\n",
       "      <td>-0.818501</td>\n",
       "      <td>0.129374</td>\n",
       "    </tr>\n",
       "    <tr>\n",
       "      <th>6</th>\n",
       "      <td>-1.920624</td>\n",
       "      <td>0.489486</td>\n",
       "    </tr>\n",
       "  </tbody>\n",
       "</table>\n",
       "<p>7 rows × 2 columns</p>\n",
       "</div>"
      ],
      "text/plain": [
       "           0         1\n",
       "0  -1.418810  0.219813\n",
       "1   0.894406  2.235602\n",
       "..       ...       ...\n",
       "5  -0.818501  0.129374\n",
       "6  -1.920624  0.489486\n",
       "\n",
       "[7 rows x 2 columns]"
      ]
     },
     "execution_count": 25,
     "metadata": {},
     "output_type": "execute_result"
    }
   ],
   "source": [
    "pd.set_option(\"display.max_rows\", 5)\n",
    "df"
   ]
  },
  {
   "cell_type": "code",
   "execution_count": 26,
   "id": "e932027b",
   "metadata": {},
   "outputs": [],
   "source": [
    "pd.reset_option(\"display.max_rows\")"
   ]
  },
  {
   "cell_type": "markdown",
   "id": "3a1bd119",
   "metadata": {},
   "source": [
    "- Once the display.max_rows is exceeded, the display.min_rows options determines how many rows are shown in the truncated repr."
   ]
  },
  {
   "cell_type": "code",
   "execution_count": 27,
   "id": "456c6e63",
   "metadata": {},
   "outputs": [],
   "source": [
    "pd.set_option(\"display.max_rows\", 8)"
   ]
  },
  {
   "cell_type": "code",
   "execution_count": 28,
   "id": "4df2c7fc",
   "metadata": {},
   "outputs": [],
   "source": [
    "pd.set_option(\"display.min_rows\", 4)"
   ]
  },
  {
   "cell_type": "code",
   "execution_count": 29,
   "id": "25aeab37",
   "metadata": {},
   "outputs": [
    {
     "data": {
      "text/html": [
       "<div>\n",
       "<style scoped>\n",
       "    .dataframe tbody tr th:only-of-type {\n",
       "        vertical-align: middle;\n",
       "    }\n",
       "\n",
       "    .dataframe tbody tr th {\n",
       "        vertical-align: top;\n",
       "    }\n",
       "\n",
       "    .dataframe thead th {\n",
       "        text-align: right;\n",
       "    }\n",
       "</style>\n",
       "<table border=\"1\" class=\"dataframe\">\n",
       "  <thead>\n",
       "    <tr style=\"text-align: right;\">\n",
       "      <th></th>\n",
       "      <th>0</th>\n",
       "      <th>1</th>\n",
       "    </tr>\n",
       "  </thead>\n",
       "  <tbody>\n",
       "    <tr>\n",
       "      <th>0</th>\n",
       "      <td>-0.892951</td>\n",
       "      <td>-0.942119</td>\n",
       "    </tr>\n",
       "    <tr>\n",
       "      <th>1</th>\n",
       "      <td>0.883813</td>\n",
       "      <td>-0.516302</td>\n",
       "    </tr>\n",
       "    <tr>\n",
       "      <th>2</th>\n",
       "      <td>0.100339</td>\n",
       "      <td>1.049957</td>\n",
       "    </tr>\n",
       "    <tr>\n",
       "      <th>3</th>\n",
       "      <td>1.019165</td>\n",
       "      <td>0.474998</td>\n",
       "    </tr>\n",
       "    <tr>\n",
       "      <th>4</th>\n",
       "      <td>-0.545581</td>\n",
       "      <td>0.298873</td>\n",
       "    </tr>\n",
       "    <tr>\n",
       "      <th>5</th>\n",
       "      <td>1.454220</td>\n",
       "      <td>1.568611</td>\n",
       "    </tr>\n",
       "    <tr>\n",
       "      <th>6</th>\n",
       "      <td>0.911065</td>\n",
       "      <td>-0.076305</td>\n",
       "    </tr>\n",
       "  </tbody>\n",
       "</table>\n",
       "</div>"
      ],
      "text/plain": [
       "          0         1\n",
       "0 -0.892951 -0.942119\n",
       "1  0.883813 -0.516302\n",
       "2  0.100339  1.049957\n",
       "3  1.019165  0.474998\n",
       "4 -0.545581  0.298873\n",
       "5  1.454220  1.568611\n",
       "6  0.911065 -0.076305"
      ]
     },
     "execution_count": 29,
     "metadata": {},
     "output_type": "execute_result"
    }
   ],
   "source": [
    "# below max_rows -> all rows shown\n",
    "df = pd.DataFrame(np.random.randn(7, 2))\n",
    "df"
   ]
  },
  {
   "cell_type": "code",
   "execution_count": 30,
   "id": "12dafb6f",
   "metadata": {},
   "outputs": [
    {
     "data": {
      "text/html": [
       "<div>\n",
       "<style scoped>\n",
       "    .dataframe tbody tr th:only-of-type {\n",
       "        vertical-align: middle;\n",
       "    }\n",
       "\n",
       "    .dataframe tbody tr th {\n",
       "        vertical-align: top;\n",
       "    }\n",
       "\n",
       "    .dataframe thead th {\n",
       "        text-align: right;\n",
       "    }\n",
       "</style>\n",
       "<table border=\"1\" class=\"dataframe\">\n",
       "  <thead>\n",
       "    <tr style=\"text-align: right;\">\n",
       "      <th></th>\n",
       "      <th>0</th>\n",
       "      <th>1</th>\n",
       "    </tr>\n",
       "  </thead>\n",
       "  <tbody>\n",
       "    <tr>\n",
       "      <th>0</th>\n",
       "      <td>0.083025</td>\n",
       "      <td>0.345263</td>\n",
       "    </tr>\n",
       "    <tr>\n",
       "      <th>1</th>\n",
       "      <td>-0.716125</td>\n",
       "      <td>0.432014</td>\n",
       "    </tr>\n",
       "    <tr>\n",
       "      <th>...</th>\n",
       "      <td>...</td>\n",
       "      <td>...</td>\n",
       "    </tr>\n",
       "    <tr>\n",
       "      <th>7</th>\n",
       "      <td>0.078505</td>\n",
       "      <td>-0.863045</td>\n",
       "    </tr>\n",
       "    <tr>\n",
       "      <th>8</th>\n",
       "      <td>-1.410607</td>\n",
       "      <td>0.373723</td>\n",
       "    </tr>\n",
       "  </tbody>\n",
       "</table>\n",
       "<p>9 rows × 2 columns</p>\n",
       "</div>"
      ],
      "text/plain": [
       "           0         1\n",
       "0   0.083025  0.345263\n",
       "1  -0.716125  0.432014\n",
       "..       ...       ...\n",
       "7   0.078505 -0.863045\n",
       "8  -1.410607  0.373723\n",
       "\n",
       "[9 rows x 2 columns]"
      ]
     },
     "execution_count": 30,
     "metadata": {},
     "output_type": "execute_result"
    }
   ],
   "source": [
    "# above max_rows -> only min_rows (4) rows shown\n",
    "df = pd.DataFrame(np.random.randn(9, 2))\n",
    "df"
   ]
  },
  {
   "cell_type": "code",
   "execution_count": 31,
   "id": "1eefa69a",
   "metadata": {},
   "outputs": [],
   "source": [
    "pd.reset_option(\"display.max_rows\")"
   ]
  },
  {
   "cell_type": "code",
   "execution_count": 32,
   "id": "338dac26",
   "metadata": {},
   "outputs": [],
   "source": [
    "pd.reset_option(\"display.min_rows\")"
   ]
  },
  {
   "cell_type": "markdown",
   "id": "b848140c",
   "metadata": {},
   "source": [
    "- display.expand_frame_repr allows for the representation of a DataFrame to stretch across pages, wrapped over the all the columns."
   ]
  },
  {
   "cell_type": "code",
   "execution_count": 33,
   "id": "1437a708",
   "metadata": {},
   "outputs": [
    {
     "data": {
      "text/html": [
       "<div>\n",
       "<style scoped>\n",
       "    .dataframe tbody tr th:only-of-type {\n",
       "        vertical-align: middle;\n",
       "    }\n",
       "\n",
       "    .dataframe tbody tr th {\n",
       "        vertical-align: top;\n",
       "    }\n",
       "\n",
       "    .dataframe thead th {\n",
       "        text-align: right;\n",
       "    }\n",
       "</style>\n",
       "<table border=\"1\" class=\"dataframe\">\n",
       "  <thead>\n",
       "    <tr style=\"text-align: right;\">\n",
       "      <th></th>\n",
       "      <th>0</th>\n",
       "      <th>1</th>\n",
       "      <th>2</th>\n",
       "      <th>3</th>\n",
       "      <th>4</th>\n",
       "      <th>5</th>\n",
       "      <th>6</th>\n",
       "      <th>7</th>\n",
       "      <th>8</th>\n",
       "      <th>9</th>\n",
       "    </tr>\n",
       "  </thead>\n",
       "  <tbody>\n",
       "    <tr>\n",
       "      <th>0</th>\n",
       "      <td>-1.165463</td>\n",
       "      <td>2.405511</td>\n",
       "      <td>1.440528</td>\n",
       "      <td>-1.058880</td>\n",
       "      <td>-0.972618</td>\n",
       "      <td>-0.311289</td>\n",
       "      <td>0.414952</td>\n",
       "      <td>0.461477</td>\n",
       "      <td>0.954443</td>\n",
       "      <td>-0.046303</td>\n",
       "    </tr>\n",
       "    <tr>\n",
       "      <th>1</th>\n",
       "      <td>0.560000</td>\n",
       "      <td>-0.525217</td>\n",
       "      <td>-1.689576</td>\n",
       "      <td>0.258014</td>\n",
       "      <td>0.591623</td>\n",
       "      <td>0.321571</td>\n",
       "      <td>0.120592</td>\n",
       "      <td>-0.284380</td>\n",
       "      <td>1.083424</td>\n",
       "      <td>-0.630289</td>\n",
       "    </tr>\n",
       "    <tr>\n",
       "      <th>2</th>\n",
       "      <td>-0.068990</td>\n",
       "      <td>0.185447</td>\n",
       "      <td>1.420214</td>\n",
       "      <td>-1.096215</td>\n",
       "      <td>-0.456867</td>\n",
       "      <td>1.252336</td>\n",
       "      <td>-1.204527</td>\n",
       "      <td>0.845049</td>\n",
       "      <td>-0.218032</td>\n",
       "      <td>1.050561</td>\n",
       "    </tr>\n",
       "    <tr>\n",
       "      <th>3</th>\n",
       "      <td>1.666696</td>\n",
       "      <td>0.124911</td>\n",
       "      <td>-0.418924</td>\n",
       "      <td>-0.194222</td>\n",
       "      <td>1.877330</td>\n",
       "      <td>0.814498</td>\n",
       "      <td>0.370914</td>\n",
       "      <td>-0.200904</td>\n",
       "      <td>-0.868371</td>\n",
       "      <td>1.172553</td>\n",
       "    </tr>\n",
       "    <tr>\n",
       "      <th>4</th>\n",
       "      <td>0.450305</td>\n",
       "      <td>-0.017505</td>\n",
       "      <td>1.044100</td>\n",
       "      <td>-0.887876</td>\n",
       "      <td>-1.345452</td>\n",
       "      <td>0.211718</td>\n",
       "      <td>0.657650</td>\n",
       "      <td>0.850819</td>\n",
       "      <td>0.389997</td>\n",
       "      <td>2.097916</td>\n",
       "    </tr>\n",
       "  </tbody>\n",
       "</table>\n",
       "</div>"
      ],
      "text/plain": [
       "          0         1         2         3         4         5         6  \\\n",
       "0 -1.165463  2.405511  1.440528 -1.058880 -0.972618 -0.311289  0.414952   \n",
       "1  0.560000 -0.525217 -1.689576  0.258014  0.591623  0.321571  0.120592   \n",
       "2 -0.068990  0.185447  1.420214 -1.096215 -0.456867  1.252336 -1.204527   \n",
       "3  1.666696  0.124911 -0.418924 -0.194222  1.877330  0.814498  0.370914   \n",
       "4  0.450305 -0.017505  1.044100 -0.887876 -1.345452  0.211718  0.657650   \n",
       "\n",
       "          7         8         9  \n",
       "0  0.461477  0.954443 -0.046303  \n",
       "1 -0.284380  1.083424 -0.630289  \n",
       "2  0.845049 -0.218032  1.050561  \n",
       "3 -0.200904 -0.868371  1.172553  \n",
       "4  0.850819  0.389997  2.097916  "
      ]
     },
     "execution_count": 33,
     "metadata": {},
     "output_type": "execute_result"
    }
   ],
   "source": [
    "df = pd.DataFrame(np.random.randn(5, 10))\n",
    "pd.set_option(\"expand_frame_repr\", True)\n",
    "df"
   ]
  },
  {
   "cell_type": "code",
   "execution_count": 34,
   "id": "527d0365",
   "metadata": {},
   "outputs": [
    {
     "data": {
      "text/html": [
       "<div>\n",
       "<style scoped>\n",
       "    .dataframe tbody tr th:only-of-type {\n",
       "        vertical-align: middle;\n",
       "    }\n",
       "\n",
       "    .dataframe tbody tr th {\n",
       "        vertical-align: top;\n",
       "    }\n",
       "\n",
       "    .dataframe thead th {\n",
       "        text-align: right;\n",
       "    }\n",
       "</style>\n",
       "<table border=\"1\" class=\"dataframe\">\n",
       "  <thead>\n",
       "    <tr style=\"text-align: right;\">\n",
       "      <th></th>\n",
       "      <th>0</th>\n",
       "      <th>1</th>\n",
       "      <th>2</th>\n",
       "      <th>3</th>\n",
       "      <th>4</th>\n",
       "      <th>5</th>\n",
       "      <th>6</th>\n",
       "      <th>7</th>\n",
       "      <th>8</th>\n",
       "      <th>9</th>\n",
       "    </tr>\n",
       "  </thead>\n",
       "  <tbody>\n",
       "    <tr>\n",
       "      <th>0</th>\n",
       "      <td>-1.165463</td>\n",
       "      <td>2.405511</td>\n",
       "      <td>1.440528</td>\n",
       "      <td>-1.058880</td>\n",
       "      <td>-0.972618</td>\n",
       "      <td>-0.311289</td>\n",
       "      <td>0.414952</td>\n",
       "      <td>0.461477</td>\n",
       "      <td>0.954443</td>\n",
       "      <td>-0.046303</td>\n",
       "    </tr>\n",
       "    <tr>\n",
       "      <th>1</th>\n",
       "      <td>0.560000</td>\n",
       "      <td>-0.525217</td>\n",
       "      <td>-1.689576</td>\n",
       "      <td>0.258014</td>\n",
       "      <td>0.591623</td>\n",
       "      <td>0.321571</td>\n",
       "      <td>0.120592</td>\n",
       "      <td>-0.284380</td>\n",
       "      <td>1.083424</td>\n",
       "      <td>-0.630289</td>\n",
       "    </tr>\n",
       "    <tr>\n",
       "      <th>2</th>\n",
       "      <td>-0.068990</td>\n",
       "      <td>0.185447</td>\n",
       "      <td>1.420214</td>\n",
       "      <td>-1.096215</td>\n",
       "      <td>-0.456867</td>\n",
       "      <td>1.252336</td>\n",
       "      <td>-1.204527</td>\n",
       "      <td>0.845049</td>\n",
       "      <td>-0.218032</td>\n",
       "      <td>1.050561</td>\n",
       "    </tr>\n",
       "    <tr>\n",
       "      <th>3</th>\n",
       "      <td>1.666696</td>\n",
       "      <td>0.124911</td>\n",
       "      <td>-0.418924</td>\n",
       "      <td>-0.194222</td>\n",
       "      <td>1.877330</td>\n",
       "      <td>0.814498</td>\n",
       "      <td>0.370914</td>\n",
       "      <td>-0.200904</td>\n",
       "      <td>-0.868371</td>\n",
       "      <td>1.172553</td>\n",
       "    </tr>\n",
       "    <tr>\n",
       "      <th>4</th>\n",
       "      <td>0.450305</td>\n",
       "      <td>-0.017505</td>\n",
       "      <td>1.044100</td>\n",
       "      <td>-0.887876</td>\n",
       "      <td>-1.345452</td>\n",
       "      <td>0.211718</td>\n",
       "      <td>0.657650</td>\n",
       "      <td>0.850819</td>\n",
       "      <td>0.389997</td>\n",
       "      <td>2.097916</td>\n",
       "    </tr>\n",
       "  </tbody>\n",
       "</table>\n",
       "</div>"
      ],
      "text/plain": [
       "          0         1         2         3         4         5         6         7         8         9\n",
       "0 -1.165463  2.405511  1.440528 -1.058880 -0.972618 -0.311289  0.414952  0.461477  0.954443 -0.046303\n",
       "1  0.560000 -0.525217 -1.689576  0.258014  0.591623  0.321571  0.120592 -0.284380  1.083424 -0.630289\n",
       "2 -0.068990  0.185447  1.420214 -1.096215 -0.456867  1.252336 -1.204527  0.845049 -0.218032  1.050561\n",
       "3  1.666696  0.124911 -0.418924 -0.194222  1.877330  0.814498  0.370914 -0.200904 -0.868371  1.172553\n",
       "4  0.450305 -0.017505  1.044100 -0.887876 -1.345452  0.211718  0.657650  0.850819  0.389997  2.097916"
      ]
     },
     "execution_count": 34,
     "metadata": {},
     "output_type": "execute_result"
    }
   ],
   "source": [
    "pd.set_option(\"expand_frame_repr\", False)\n",
    "df"
   ]
  },
  {
   "cell_type": "code",
   "execution_count": 35,
   "id": "7ae4a5c7",
   "metadata": {},
   "outputs": [],
   "source": [
    "pd.reset_option(\"expand_frame_repr\")"
   ]
  },
  {
   "cell_type": "markdown",
   "id": "5b5bcb37",
   "metadata": {},
   "source": [
    "- display.large_repr displays a DataFrame that exceed max_columns or max_rows as a truncated frame or summary."
   ]
  },
  {
   "cell_type": "code",
   "execution_count": 36,
   "id": "c102882a",
   "metadata": {},
   "outputs": [
    {
     "data": {
      "text/html": [
       "<div>\n",
       "<style scoped>\n",
       "    .dataframe tbody tr th:only-of-type {\n",
       "        vertical-align: middle;\n",
       "    }\n",
       "\n",
       "    .dataframe tbody tr th {\n",
       "        vertical-align: top;\n",
       "    }\n",
       "\n",
       "    .dataframe thead th {\n",
       "        text-align: right;\n",
       "    }\n",
       "</style>\n",
       "<table border=\"1\" class=\"dataframe\">\n",
       "  <thead>\n",
       "    <tr style=\"text-align: right;\">\n",
       "      <th></th>\n",
       "      <th>0</th>\n",
       "      <th>1</th>\n",
       "      <th>2</th>\n",
       "      <th>3</th>\n",
       "      <th>4</th>\n",
       "      <th>5</th>\n",
       "      <th>6</th>\n",
       "      <th>7</th>\n",
       "      <th>8</th>\n",
       "      <th>9</th>\n",
       "    </tr>\n",
       "  </thead>\n",
       "  <tbody>\n",
       "    <tr>\n",
       "      <th>0</th>\n",
       "      <td>1.956541</td>\n",
       "      <td>-1.421720</td>\n",
       "      <td>-1.846848</td>\n",
       "      <td>0.049126</td>\n",
       "      <td>1.108337</td>\n",
       "      <td>0.594252</td>\n",
       "      <td>-0.797085</td>\n",
       "      <td>0.144054</td>\n",
       "      <td>0.543875</td>\n",
       "      <td>0.811759</td>\n",
       "    </tr>\n",
       "    <tr>\n",
       "      <th>1</th>\n",
       "      <td>-1.449604</td>\n",
       "      <td>0.032663</td>\n",
       "      <td>0.126410</td>\n",
       "      <td>0.843034</td>\n",
       "      <td>-0.198385</td>\n",
       "      <td>-0.582485</td>\n",
       "      <td>-0.707214</td>\n",
       "      <td>-0.458690</td>\n",
       "      <td>-0.158021</td>\n",
       "      <td>-0.846513</td>\n",
       "    </tr>\n",
       "    <tr>\n",
       "      <th>...</th>\n",
       "      <td>...</td>\n",
       "      <td>...</td>\n",
       "      <td>...</td>\n",
       "      <td>...</td>\n",
       "      <td>...</td>\n",
       "      <td>...</td>\n",
       "      <td>...</td>\n",
       "      <td>...</td>\n",
       "      <td>...</td>\n",
       "      <td>...</td>\n",
       "    </tr>\n",
       "    <tr>\n",
       "      <th>8</th>\n",
       "      <td>0.452494</td>\n",
       "      <td>0.767900</td>\n",
       "      <td>-0.556128</td>\n",
       "      <td>-0.102928</td>\n",
       "      <td>-1.992757</td>\n",
       "      <td>-0.351006</td>\n",
       "      <td>0.425198</td>\n",
       "      <td>0.230334</td>\n",
       "      <td>-0.556987</td>\n",
       "      <td>-1.007726</td>\n",
       "    </tr>\n",
       "    <tr>\n",
       "      <th>9</th>\n",
       "      <td>0.301072</td>\n",
       "      <td>-0.910749</td>\n",
       "      <td>-1.006256</td>\n",
       "      <td>-0.430117</td>\n",
       "      <td>2.719589</td>\n",
       "      <td>-1.192059</td>\n",
       "      <td>0.627744</td>\n",
       "      <td>-0.321896</td>\n",
       "      <td>-1.054234</td>\n",
       "      <td>1.846205</td>\n",
       "    </tr>\n",
       "  </tbody>\n",
       "</table>\n",
       "<p>10 rows × 10 columns</p>\n",
       "</div>"
      ],
      "text/plain": [
       "           0         1         2         3         4         5         6  \\\n",
       "0   1.956541 -1.421720 -1.846848  0.049126  1.108337  0.594252 -0.797085   \n",
       "1  -1.449604  0.032663  0.126410  0.843034 -0.198385 -0.582485 -0.707214   \n",
       "..       ...       ...       ...       ...       ...       ...       ...   \n",
       "8   0.452494  0.767900 -0.556128 -0.102928 -1.992757 -0.351006  0.425198   \n",
       "9   0.301072 -0.910749 -1.006256 -0.430117  2.719589 -1.192059  0.627744   \n",
       "\n",
       "           7         8         9  \n",
       "0   0.144054  0.543875  0.811759  \n",
       "1  -0.458690 -0.158021 -0.846513  \n",
       "..       ...       ...       ...  \n",
       "8   0.230334 -0.556987 -1.007726  \n",
       "9  -0.321896 -1.054234  1.846205  \n",
       "\n",
       "[10 rows x 10 columns]"
      ]
     },
     "execution_count": 36,
     "metadata": {},
     "output_type": "execute_result"
    }
   ],
   "source": [
    "df = pd.DataFrame(np.random.randn(10, 10))\n",
    "pd.set_option(\"display.max_rows\", 5)\n",
    "pd.set_option(\"large_repr\", \"truncate\")\n",
    "df"
   ]
  },
  {
   "cell_type": "code",
   "execution_count": 37,
   "id": "40eb581d",
   "metadata": {},
   "outputs": [
    {
     "data": {
      "text/html": [
       "<pre>&lt;class 'pandas.core.frame.DataFrame'&gt;\n",
       "RangeIndex: 10 entries, 0 to 9\n",
       "Data columns (total 10 columns):\n",
       " #   Column  Non-Null Count  Dtype  \n",
       "---  ------  --------------  -----  \n",
       " 0   0       10 non-null     float64\n",
       " 1   1       10 non-null     float64\n",
       " 2   2       10 non-null     float64\n",
       " 3   3       10 non-null     float64\n",
       " 4   4       10 non-null     float64\n",
       " 5   5       10 non-null     float64\n",
       " 6   6       10 non-null     float64\n",
       " 7   7       10 non-null     float64\n",
       " 8   8       10 non-null     float64\n",
       " 9   9       10 non-null     float64\n",
       "dtypes: float64(10)\n",
       "memory usage: 932.0 bytes\n",
       "</pre>"
      ],
      "text/plain": [
       "<class 'pandas.core.frame.DataFrame'>\n",
       "RangeIndex: 10 entries, 0 to 9\n",
       "Data columns (total 10 columns):\n",
       " #   Column  Non-Null Count  Dtype  \n",
       "---  ------  --------------  -----  \n",
       " 0   0       10 non-null     float64\n",
       " 1   1       10 non-null     float64\n",
       " 2   2       10 non-null     float64\n",
       " 3   3       10 non-null     float64\n",
       " 4   4       10 non-null     float64\n",
       " 5   5       10 non-null     float64\n",
       " 6   6       10 non-null     float64\n",
       " 7   7       10 non-null     float64\n",
       " 8   8       10 non-null     float64\n",
       " 9   9       10 non-null     float64\n",
       "dtypes: float64(10)\n",
       "memory usage: 932.0 bytes"
      ]
     },
     "execution_count": 37,
     "metadata": {},
     "output_type": "execute_result"
    }
   ],
   "source": [
    "pd.set_option(\"large_repr\", \"info\")\n",
    "df"
   ]
  },
  {
   "cell_type": "code",
   "execution_count": 38,
   "id": "6b16531e",
   "metadata": {},
   "outputs": [],
   "source": [
    "pd.reset_option(\"large_repr\")"
   ]
  },
  {
   "cell_type": "code",
   "execution_count": 39,
   "id": "525fac94",
   "metadata": {},
   "outputs": [],
   "source": [
    "pd.reset_option(\"display.max_rows\")"
   ]
  },
  {
   "cell_type": "markdown",
   "id": "13cef2af",
   "metadata": {},
   "source": [
    "- display.max_colwidth sets the maximum width of columns. Cells of this length or longer will be truncated with an ellipsis."
   ]
  },
  {
   "cell_type": "code",
   "execution_count": 40,
   "id": "b56e3d02",
   "metadata": {},
   "outputs": [
    {
     "data": {
      "text/html": [
       "<div>\n",
       "<style scoped>\n",
       "    .dataframe tbody tr th:only-of-type {\n",
       "        vertical-align: middle;\n",
       "    }\n",
       "\n",
       "    .dataframe tbody tr th {\n",
       "        vertical-align: top;\n",
       "    }\n",
       "\n",
       "    .dataframe thead th {\n",
       "        text-align: right;\n",
       "    }\n",
       "</style>\n",
       "<table border=\"1\" class=\"dataframe\">\n",
       "  <thead>\n",
       "    <tr style=\"text-align: right;\">\n",
       "      <th></th>\n",
       "      <th>0</th>\n",
       "      <th>1</th>\n",
       "      <th>2</th>\n",
       "      <th>3</th>\n",
       "    </tr>\n",
       "  </thead>\n",
       "  <tbody>\n",
       "    <tr>\n",
       "      <th>0</th>\n",
       "      <td>foo</td>\n",
       "      <td>bar</td>\n",
       "      <td>bim</td>\n",
       "      <td>uncomfortably long string</td>\n",
       "    </tr>\n",
       "    <tr>\n",
       "      <th>1</th>\n",
       "      <td>horse</td>\n",
       "      <td>cow</td>\n",
       "      <td>banana</td>\n",
       "      <td>apple</td>\n",
       "    </tr>\n",
       "  </tbody>\n",
       "</table>\n",
       "</div>"
      ],
      "text/plain": [
       "       0    1       2                          3\n",
       "0    foo  bar     bim  uncomfortably long string\n",
       "1  horse  cow  banana                      apple"
      ]
     },
     "execution_count": 40,
     "metadata": {},
     "output_type": "execute_result"
    }
   ],
   "source": [
    "df = pd.DataFrame(\n",
    "    np.array(\n",
    "        [\n",
    "            [\"foo\", \"bar\", \"bim\", \"uncomfortably long string\"],\n",
    "            [\"horse\", \"cow\", \"banana\", \"apple\"],\n",
    "        ]\n",
    "    )\n",
    ")\n",
    "pd.set_option(\"max_colwidth\", 40)\n",
    "df\n"
   ]
  },
  {
   "cell_type": "code",
   "execution_count": 41,
   "id": "1fc2b096",
   "metadata": {},
   "outputs": [
    {
     "data": {
      "text/html": [
       "<div>\n",
       "<style scoped>\n",
       "    .dataframe tbody tr th:only-of-type {\n",
       "        vertical-align: middle;\n",
       "    }\n",
       "\n",
       "    .dataframe tbody tr th {\n",
       "        vertical-align: top;\n",
       "    }\n",
       "\n",
       "    .dataframe thead th {\n",
       "        text-align: right;\n",
       "    }\n",
       "</style>\n",
       "<table border=\"1\" class=\"dataframe\">\n",
       "  <thead>\n",
       "    <tr style=\"text-align: right;\">\n",
       "      <th></th>\n",
       "      <th>0</th>\n",
       "      <th>1</th>\n",
       "      <th>2</th>\n",
       "      <th>3</th>\n",
       "    </tr>\n",
       "  </thead>\n",
       "  <tbody>\n",
       "    <tr>\n",
       "      <th>0</th>\n",
       "      <td>foo</td>\n",
       "      <td>bar</td>\n",
       "      <td>bim</td>\n",
       "      <td>un...</td>\n",
       "    </tr>\n",
       "    <tr>\n",
       "      <th>1</th>\n",
       "      <td>horse</td>\n",
       "      <td>cow</td>\n",
       "      <td>ba...</td>\n",
       "      <td>apple</td>\n",
       "    </tr>\n",
       "  </tbody>\n",
       "</table>\n",
       "</div>"
      ],
      "text/plain": [
       "       0    1      2      3\n",
       "0    foo  bar    bim  un...\n",
       "1  horse  cow  ba...  apple"
      ]
     },
     "execution_count": 41,
     "metadata": {},
     "output_type": "execute_result"
    }
   ],
   "source": [
    "pd.set_option(\"max_colwidth\", 6)\n",
    "df"
   ]
  },
  {
   "cell_type": "code",
   "execution_count": 42,
   "id": "a38291d2",
   "metadata": {},
   "outputs": [],
   "source": [
    "pd.reset_option(\"max_colwidth\")"
   ]
  },
  {
   "cell_type": "markdown",
   "id": "483cd08c",
   "metadata": {},
   "source": [
    "- display.max_info_columns sets a threshold for the number of columns displayed when calling info()."
   ]
  },
  {
   "cell_type": "code",
   "execution_count": 43,
   "id": "254217cd",
   "metadata": {},
   "outputs": [
    {
     "name": "stdout",
     "output_type": "stream",
     "text": [
      "<class 'pandas.core.frame.DataFrame'>\n",
      "RangeIndex: 10 entries, 0 to 9\n",
      "Data columns (total 10 columns):\n",
      " #   Column  Non-Null Count  Dtype  \n",
      "---  ------  --------------  -----  \n",
      " 0   0       10 non-null     float64\n",
      " 1   1       10 non-null     float64\n",
      " 2   2       10 non-null     float64\n",
      " 3   3       10 non-null     float64\n",
      " 4   4       10 non-null     float64\n",
      " 5   5       10 non-null     float64\n",
      " 6   6       10 non-null     float64\n",
      " 7   7       10 non-null     float64\n",
      " 8   8       10 non-null     float64\n",
      " 9   9       10 non-null     float64\n",
      "dtypes: float64(10)\n",
      "memory usage: 932.0 bytes\n"
     ]
    }
   ],
   "source": [
    "df = pd.DataFrame(np.random.randn(10, 10))\n",
    "pd.set_option(\"max_info_columns\", 11)\n",
    "df.info()"
   ]
  },
  {
   "cell_type": "code",
   "execution_count": 44,
   "id": "b155d284",
   "metadata": {},
   "outputs": [
    {
     "name": "stdout",
     "output_type": "stream",
     "text": [
      "<class 'pandas.core.frame.DataFrame'>\n",
      "RangeIndex: 10 entries, 0 to 9\n",
      "Columns: 10 entries, 0 to 9\n",
      "dtypes: float64(10)\n",
      "memory usage: 932.0 bytes\n"
     ]
    }
   ],
   "source": [
    "pd.set_option(\"max_info_columns\", 5)\n",
    "df.info()"
   ]
  },
  {
   "cell_type": "code",
   "execution_count": 45,
   "id": "73bf0f04",
   "metadata": {},
   "outputs": [],
   "source": [
    "pd.reset_option(\"max_info_columns\")"
   ]
  },
  {
   "cell_type": "markdown",
   "id": "fc52cb65",
   "metadata": {},
   "source": [
    "- display.max_info_rows: info() will usually show null-counts for each column. For a large DataFrame, this can be quite slow. max_info_rows and max_info_cols limit this null check to the specified rows and columns respectively. The info() keyword argument show_counts=True will override this."
   ]
  },
  {
   "cell_type": "code",
   "execution_count": 46,
   "id": "07f79561",
   "metadata": {},
   "outputs": [
    {
     "data": {
      "text/html": [
       "<div>\n",
       "<style scoped>\n",
       "    .dataframe tbody tr th:only-of-type {\n",
       "        vertical-align: middle;\n",
       "    }\n",
       "\n",
       "    .dataframe tbody tr th {\n",
       "        vertical-align: top;\n",
       "    }\n",
       "\n",
       "    .dataframe thead th {\n",
       "        text-align: right;\n",
       "    }\n",
       "</style>\n",
       "<table border=\"1\" class=\"dataframe\">\n",
       "  <thead>\n",
       "    <tr style=\"text-align: right;\">\n",
       "      <th></th>\n",
       "      <th>0</th>\n",
       "      <th>1</th>\n",
       "      <th>2</th>\n",
       "      <th>3</th>\n",
       "      <th>4</th>\n",
       "      <th>5</th>\n",
       "      <th>6</th>\n",
       "      <th>7</th>\n",
       "      <th>8</th>\n",
       "      <th>9</th>\n",
       "    </tr>\n",
       "  </thead>\n",
       "  <tbody>\n",
       "    <tr>\n",
       "      <th>0</th>\n",
       "      <td>1.0</td>\n",
       "      <td>NaN</td>\n",
       "      <td>1.0</td>\n",
       "      <td>0.0</td>\n",
       "      <td>0.0</td>\n",
       "      <td>0.0</td>\n",
       "      <td>NaN</td>\n",
       "      <td>0.0</td>\n",
       "      <td>NaN</td>\n",
       "      <td>NaN</td>\n",
       "    </tr>\n",
       "    <tr>\n",
       "      <th>1</th>\n",
       "      <td>0.0</td>\n",
       "      <td>0.0</td>\n",
       "      <td>0.0</td>\n",
       "      <td>0.0</td>\n",
       "      <td>NaN</td>\n",
       "      <td>1.0</td>\n",
       "      <td>0.0</td>\n",
       "      <td>0.0</td>\n",
       "      <td>NaN</td>\n",
       "      <td>1.0</td>\n",
       "    </tr>\n",
       "    <tr>\n",
       "      <th>2</th>\n",
       "      <td>NaN</td>\n",
       "      <td>0.0</td>\n",
       "      <td>0.0</td>\n",
       "      <td>NaN</td>\n",
       "      <td>1.0</td>\n",
       "      <td>0.0</td>\n",
       "      <td>NaN</td>\n",
       "      <td>0.0</td>\n",
       "      <td>0.0</td>\n",
       "      <td>NaN</td>\n",
       "    </tr>\n",
       "    <tr>\n",
       "      <th>3</th>\n",
       "      <td>0.0</td>\n",
       "      <td>0.0</td>\n",
       "      <td>0.0</td>\n",
       "      <td>NaN</td>\n",
       "      <td>NaN</td>\n",
       "      <td>1.0</td>\n",
       "      <td>0.0</td>\n",
       "      <td>0.0</td>\n",
       "      <td>0.0</td>\n",
       "      <td>NaN</td>\n",
       "    </tr>\n",
       "    <tr>\n",
       "      <th>4</th>\n",
       "      <td>NaN</td>\n",
       "      <td>0.0</td>\n",
       "      <td>NaN</td>\n",
       "      <td>NaN</td>\n",
       "      <td>0.0</td>\n",
       "      <td>1.0</td>\n",
       "      <td>NaN</td>\n",
       "      <td>0.0</td>\n",
       "      <td>1.0</td>\n",
       "      <td>NaN</td>\n",
       "    </tr>\n",
       "    <tr>\n",
       "      <th>5</th>\n",
       "      <td>NaN</td>\n",
       "      <td>1.0</td>\n",
       "      <td>0.0</td>\n",
       "      <td>0.0</td>\n",
       "      <td>1.0</td>\n",
       "      <td>0.0</td>\n",
       "      <td>NaN</td>\n",
       "      <td>NaN</td>\n",
       "      <td>1.0</td>\n",
       "      <td>NaN</td>\n",
       "    </tr>\n",
       "    <tr>\n",
       "      <th>6</th>\n",
       "      <td>1.0</td>\n",
       "      <td>0.0</td>\n",
       "      <td>0.0</td>\n",
       "      <td>NaN</td>\n",
       "      <td>0.0</td>\n",
       "      <td>NaN</td>\n",
       "      <td>1.0</td>\n",
       "      <td>0.0</td>\n",
       "      <td>0.0</td>\n",
       "      <td>NaN</td>\n",
       "    </tr>\n",
       "    <tr>\n",
       "      <th>7</th>\n",
       "      <td>1.0</td>\n",
       "      <td>0.0</td>\n",
       "      <td>1.0</td>\n",
       "      <td>NaN</td>\n",
       "      <td>1.0</td>\n",
       "      <td>0.0</td>\n",
       "      <td>NaN</td>\n",
       "      <td>0.0</td>\n",
       "      <td>0.0</td>\n",
       "      <td>NaN</td>\n",
       "    </tr>\n",
       "    <tr>\n",
       "      <th>8</th>\n",
       "      <td>1.0</td>\n",
       "      <td>0.0</td>\n",
       "      <td>NaN</td>\n",
       "      <td>1.0</td>\n",
       "      <td>1.0</td>\n",
       "      <td>NaN</td>\n",
       "      <td>NaN</td>\n",
       "      <td>NaN</td>\n",
       "      <td>NaN</td>\n",
       "      <td>1.0</td>\n",
       "    </tr>\n",
       "    <tr>\n",
       "      <th>9</th>\n",
       "      <td>NaN</td>\n",
       "      <td>0.0</td>\n",
       "      <td>0.0</td>\n",
       "      <td>0.0</td>\n",
       "      <td>0.0</td>\n",
       "      <td>NaN</td>\n",
       "      <td>1.0</td>\n",
       "      <td>NaN</td>\n",
       "      <td>NaN</td>\n",
       "      <td>0.0</td>\n",
       "    </tr>\n",
       "  </tbody>\n",
       "</table>\n",
       "</div>"
      ],
      "text/plain": [
       "     0    1    2    3    4    5    6    7    8    9\n",
       "0  1.0  NaN  1.0  0.0  0.0  0.0  NaN  0.0  NaN  NaN\n",
       "1  0.0  0.0  0.0  0.0  NaN  1.0  0.0  0.0  NaN  1.0\n",
       "2  NaN  0.0  0.0  NaN  1.0  0.0  NaN  0.0  0.0  NaN\n",
       "3  0.0  0.0  0.0  NaN  NaN  1.0  0.0  0.0  0.0  NaN\n",
       "4  NaN  0.0  NaN  NaN  0.0  1.0  NaN  0.0  1.0  NaN\n",
       "5  NaN  1.0  0.0  0.0  1.0  0.0  NaN  NaN  1.0  NaN\n",
       "6  1.0  0.0  0.0  NaN  0.0  NaN  1.0  0.0  0.0  NaN\n",
       "7  1.0  0.0  1.0  NaN  1.0  0.0  NaN  0.0  0.0  NaN\n",
       "8  1.0  0.0  NaN  1.0  1.0  NaN  NaN  NaN  NaN  1.0\n",
       "9  NaN  0.0  0.0  0.0  0.0  NaN  1.0  NaN  NaN  0.0"
      ]
     },
     "execution_count": 46,
     "metadata": {},
     "output_type": "execute_result"
    }
   ],
   "source": [
    "df = pd.DataFrame(np.random.choice([0, 1, np.nan], size=(10, 10)))\n",
    "df"
   ]
  },
  {
   "cell_type": "code",
   "execution_count": 47,
   "id": "e3a5d3cb",
   "metadata": {},
   "outputs": [
    {
     "name": "stdout",
     "output_type": "stream",
     "text": [
      "<class 'pandas.core.frame.DataFrame'>\n",
      "RangeIndex: 10 entries, 0 to 9\n",
      "Data columns (total 10 columns):\n",
      " #   Column  Non-Null Count  Dtype  \n",
      "---  ------  --------------  -----  \n",
      " 0   0       6 non-null      float64\n",
      " 1   1       9 non-null      float64\n",
      " 2   2       8 non-null      float64\n",
      " 3   3       5 non-null      float64\n",
      " 4   4       8 non-null      float64\n",
      " 5   5       7 non-null      float64\n",
      " 6   6       4 non-null      float64\n",
      " 7   7       7 non-null      float64\n",
      " 8   8       6 non-null      float64\n",
      " 9   9       3 non-null      float64\n",
      "dtypes: float64(10)\n",
      "memory usage: 932.0 bytes\n"
     ]
    }
   ],
   "source": [
    "pd.set_option(\"max_info_rows\", 11)\n",
    "df.info()"
   ]
  },
  {
   "cell_type": "code",
   "execution_count": 48,
   "id": "98501aaa",
   "metadata": {},
   "outputs": [
    {
     "name": "stdout",
     "output_type": "stream",
     "text": [
      "<class 'pandas.core.frame.DataFrame'>\n",
      "RangeIndex: 10 entries, 0 to 9\n",
      "Data columns (total 10 columns):\n",
      " #   Column  Dtype  \n",
      "---  ------  -----  \n",
      " 0   0       float64\n",
      " 1   1       float64\n",
      " 2   2       float64\n",
      " 3   3       float64\n",
      " 4   4       float64\n",
      " 5   5       float64\n",
      " 6   6       float64\n",
      " 7   7       float64\n",
      " 8   8       float64\n",
      " 9   9       float64\n",
      "dtypes: float64(10)\n",
      "memory usage: 932.0 bytes\n"
     ]
    }
   ],
   "source": [
    "pd.set_option(\"max_info_rows\", 5)\n",
    "df.info()"
   ]
  },
  {
   "cell_type": "code",
   "execution_count": 49,
   "id": "93d8b929",
   "metadata": {},
   "outputs": [],
   "source": [
    "pd.reset_option(\"max_info_rows\")"
   ]
  },
  {
   "cell_type": "markdown",
   "id": "ebaaca53",
   "metadata": {},
   "source": [
    "- display.precision sets the output display precision in terms of decimal places."
   ]
  },
  {
   "cell_type": "code",
   "execution_count": 50,
   "id": "b9dee6cd",
   "metadata": {},
   "outputs": [
    {
     "data": {
      "text/html": [
       "<div>\n",
       "<style scoped>\n",
       "    .dataframe tbody tr th:only-of-type {\n",
       "        vertical-align: middle;\n",
       "    }\n",
       "\n",
       "    .dataframe tbody tr th {\n",
       "        vertical-align: top;\n",
       "    }\n",
       "\n",
       "    .dataframe thead th {\n",
       "        text-align: right;\n",
       "    }\n",
       "</style>\n",
       "<table border=\"1\" class=\"dataframe\">\n",
       "  <thead>\n",
       "    <tr style=\"text-align: right;\">\n",
       "      <th></th>\n",
       "      <th>0</th>\n",
       "      <th>1</th>\n",
       "      <th>2</th>\n",
       "      <th>3</th>\n",
       "      <th>4</th>\n",
       "    </tr>\n",
       "  </thead>\n",
       "  <tbody>\n",
       "    <tr>\n",
       "      <th>0</th>\n",
       "      <td>0.4918806</td>\n",
       "      <td>0.9787373</td>\n",
       "      <td>-0.1019045</td>\n",
       "      <td>-0.3706899</td>\n",
       "      <td>-0.5364794</td>\n",
       "    </tr>\n",
       "    <tr>\n",
       "      <th>1</th>\n",
       "      <td>1.6367906</td>\n",
       "      <td>-0.9271002</td>\n",
       "      <td>-0.3449427</td>\n",
       "      <td>0.2701770</td>\n",
       "      <td>0.6623656</td>\n",
       "    </tr>\n",
       "    <tr>\n",
       "      <th>2</th>\n",
       "      <td>0.2386898</td>\n",
       "      <td>0.4044930</td>\n",
       "      <td>0.5760232</td>\n",
       "      <td>-0.1726571</td>\n",
       "      <td>-2.1650113</td>\n",
       "    </tr>\n",
       "    <tr>\n",
       "      <th>3</th>\n",
       "      <td>-0.3888557</td>\n",
       "      <td>-2.6312682</td>\n",
       "      <td>0.3140012</td>\n",
       "      <td>-0.0792154</td>\n",
       "      <td>0.1011701</td>\n",
       "    </tr>\n",
       "    <tr>\n",
       "      <th>4</th>\n",
       "      <td>-0.9750703</td>\n",
       "      <td>1.0332090</td>\n",
       "      <td>-0.5068128</td>\n",
       "      <td>-0.2229840</td>\n",
       "      <td>-2.4617529</td>\n",
       "    </tr>\n",
       "  </tbody>\n",
       "</table>\n",
       "</div>"
      ],
      "text/plain": [
       "           0          1          2          3          4\n",
       "0  0.4918806  0.9787373 -0.1019045 -0.3706899 -0.5364794\n",
       "1  1.6367906 -0.9271002 -0.3449427  0.2701770  0.6623656\n",
       "2  0.2386898  0.4044930  0.5760232 -0.1726571 -2.1650113\n",
       "3 -0.3888557 -2.6312682  0.3140012 -0.0792154  0.1011701\n",
       "4 -0.9750703  1.0332090 -0.5068128 -0.2229840 -2.4617529"
      ]
     },
     "execution_count": 50,
     "metadata": {},
     "output_type": "execute_result"
    }
   ],
   "source": [
    "df = pd.DataFrame(np.random.randn(5, 5))\n",
    "pd.set_option(\"display.precision\", 7)\n",
    "df"
   ]
  },
  {
   "cell_type": "code",
   "execution_count": 51,
   "id": "300e6748",
   "metadata": {},
   "outputs": [
    {
     "data": {
      "text/html": [
       "<div>\n",
       "<style scoped>\n",
       "    .dataframe tbody tr th:only-of-type {\n",
       "        vertical-align: middle;\n",
       "    }\n",
       "\n",
       "    .dataframe tbody tr th {\n",
       "        vertical-align: top;\n",
       "    }\n",
       "\n",
       "    .dataframe thead th {\n",
       "        text-align: right;\n",
       "    }\n",
       "</style>\n",
       "<table border=\"1\" class=\"dataframe\">\n",
       "  <thead>\n",
       "    <tr style=\"text-align: right;\">\n",
       "      <th></th>\n",
       "      <th>0</th>\n",
       "      <th>1</th>\n",
       "      <th>2</th>\n",
       "      <th>3</th>\n",
       "      <th>4</th>\n",
       "    </tr>\n",
       "  </thead>\n",
       "  <tbody>\n",
       "    <tr>\n",
       "      <th>0</th>\n",
       "      <td>0.4919</td>\n",
       "      <td>0.9787</td>\n",
       "      <td>-0.1019</td>\n",
       "      <td>-0.3707</td>\n",
       "      <td>-0.5365</td>\n",
       "    </tr>\n",
       "    <tr>\n",
       "      <th>1</th>\n",
       "      <td>1.6368</td>\n",
       "      <td>-0.9271</td>\n",
       "      <td>-0.3449</td>\n",
       "      <td>0.2702</td>\n",
       "      <td>0.6624</td>\n",
       "    </tr>\n",
       "    <tr>\n",
       "      <th>2</th>\n",
       "      <td>0.2387</td>\n",
       "      <td>0.4045</td>\n",
       "      <td>0.5760</td>\n",
       "      <td>-0.1727</td>\n",
       "      <td>-2.1650</td>\n",
       "    </tr>\n",
       "    <tr>\n",
       "      <th>3</th>\n",
       "      <td>-0.3889</td>\n",
       "      <td>-2.6313</td>\n",
       "      <td>0.3140</td>\n",
       "      <td>-0.0792</td>\n",
       "      <td>0.1012</td>\n",
       "    </tr>\n",
       "    <tr>\n",
       "      <th>4</th>\n",
       "      <td>-0.9751</td>\n",
       "      <td>1.0332</td>\n",
       "      <td>-0.5068</td>\n",
       "      <td>-0.2230</td>\n",
       "      <td>-2.4618</td>\n",
       "    </tr>\n",
       "  </tbody>\n",
       "</table>\n",
       "</div>"
      ],
      "text/plain": [
       "        0       1       2       3       4\n",
       "0  0.4919  0.9787 -0.1019 -0.3707 -0.5365\n",
       "1  1.6368 -0.9271 -0.3449  0.2702  0.6624\n",
       "2  0.2387  0.4045  0.5760 -0.1727 -2.1650\n",
       "3 -0.3889 -2.6313  0.3140 -0.0792  0.1012\n",
       "4 -0.9751  1.0332 -0.5068 -0.2230 -2.4618"
      ]
     },
     "execution_count": 51,
     "metadata": {},
     "output_type": "execute_result"
    }
   ],
   "source": [
    "pd.set_option(\"display.precision\", 4)\n",
    "df"
   ]
  },
  {
   "cell_type": "markdown",
   "id": "8aa28ac3",
   "metadata": {},
   "source": [
    "- display.chop_threshold sets the rounding threshold to zero when displaying a Series or DataFrame. This setting does not change the precision at which the number is stored."
   ]
  },
  {
   "cell_type": "code",
   "execution_count": 52,
   "id": "65f5d332",
   "metadata": {},
   "outputs": [
    {
     "data": {
      "text/html": [
       "<div>\n",
       "<style scoped>\n",
       "    .dataframe tbody tr th:only-of-type {\n",
       "        vertical-align: middle;\n",
       "    }\n",
       "\n",
       "    .dataframe tbody tr th {\n",
       "        vertical-align: top;\n",
       "    }\n",
       "\n",
       "    .dataframe thead th {\n",
       "        text-align: right;\n",
       "    }\n",
       "</style>\n",
       "<table border=\"1\" class=\"dataframe\">\n",
       "  <thead>\n",
       "    <tr style=\"text-align: right;\">\n",
       "      <th></th>\n",
       "      <th>0</th>\n",
       "      <th>1</th>\n",
       "      <th>2</th>\n",
       "      <th>3</th>\n",
       "      <th>4</th>\n",
       "      <th>5</th>\n",
       "    </tr>\n",
       "  </thead>\n",
       "  <tbody>\n",
       "    <tr>\n",
       "      <th>0</th>\n",
       "      <td>-1.0821</td>\n",
       "      <td>0.9194</td>\n",
       "      <td>-0.6762</td>\n",
       "      <td>1.1658</td>\n",
       "      <td>0.9404</td>\n",
       "      <td>-0.0962</td>\n",
       "    </tr>\n",
       "    <tr>\n",
       "      <th>1</th>\n",
       "      <td>0.4862</td>\n",
       "      <td>0.8577</td>\n",
       "      <td>-1.3034</td>\n",
       "      <td>1.4159</td>\n",
       "      <td>2.3017</td>\n",
       "      <td>-0.2921</td>\n",
       "    </tr>\n",
       "    <tr>\n",
       "      <th>2</th>\n",
       "      <td>1.8785</td>\n",
       "      <td>0.0211</td>\n",
       "      <td>0.1108</td>\n",
       "      <td>0.0648</td>\n",
       "      <td>1.2811</td>\n",
       "      <td>-0.1875</td>\n",
       "    </tr>\n",
       "    <tr>\n",
       "      <th>3</th>\n",
       "      <td>-2.0213</td>\n",
       "      <td>0.4576</td>\n",
       "      <td>0.9917</td>\n",
       "      <td>0.0077</td>\n",
       "      <td>0.1266</td>\n",
       "      <td>-1.6913</td>\n",
       "    </tr>\n",
       "    <tr>\n",
       "      <th>4</th>\n",
       "      <td>0.7665</td>\n",
       "      <td>-0.7889</td>\n",
       "      <td>1.3337</td>\n",
       "      <td>0.0981</td>\n",
       "      <td>-0.1050</td>\n",
       "      <td>-0.1647</td>\n",
       "    </tr>\n",
       "    <tr>\n",
       "      <th>5</th>\n",
       "      <td>-0.1225</td>\n",
       "      <td>-0.6952</td>\n",
       "      <td>1.1362</td>\n",
       "      <td>0.3446</td>\n",
       "      <td>0.5566</td>\n",
       "      <td>0.0465</td>\n",
       "    </tr>\n",
       "  </tbody>\n",
       "</table>\n",
       "</div>"
      ],
      "text/plain": [
       "        0       1       2       3       4       5\n",
       "0 -1.0821  0.9194 -0.6762  1.1658  0.9404 -0.0962\n",
       "1  0.4862  0.8577 -1.3034  1.4159  2.3017 -0.2921\n",
       "2  1.8785  0.0211  0.1108  0.0648  1.2811 -0.1875\n",
       "3 -2.0213  0.4576  0.9917  0.0077  0.1266 -1.6913\n",
       "4  0.7665 -0.7889  1.3337  0.0981 -0.1050 -0.1647\n",
       "5 -0.1225 -0.6952  1.1362  0.3446  0.5566  0.0465"
      ]
     },
     "execution_count": 52,
     "metadata": {},
     "output_type": "execute_result"
    }
   ],
   "source": [
    "df = pd.DataFrame(np.random.randn(6, 6))\n",
    "pd.set_option(\"chop_threshold\", 0)\n",
    "df"
   ]
  },
  {
   "cell_type": "code",
   "execution_count": 53,
   "id": "e7c17b01",
   "metadata": {},
   "outputs": [
    {
     "data": {
      "text/html": [
       "<div>\n",
       "<style scoped>\n",
       "    .dataframe tbody tr th:only-of-type {\n",
       "        vertical-align: middle;\n",
       "    }\n",
       "\n",
       "    .dataframe tbody tr th {\n",
       "        vertical-align: top;\n",
       "    }\n",
       "\n",
       "    .dataframe thead th {\n",
       "        text-align: right;\n",
       "    }\n",
       "</style>\n",
       "<table border=\"1\" class=\"dataframe\">\n",
       "  <thead>\n",
       "    <tr style=\"text-align: right;\">\n",
       "      <th></th>\n",
       "      <th>0</th>\n",
       "      <th>1</th>\n",
       "      <th>2</th>\n",
       "      <th>3</th>\n",
       "      <th>4</th>\n",
       "      <th>5</th>\n",
       "    </tr>\n",
       "  </thead>\n",
       "  <tbody>\n",
       "    <tr>\n",
       "      <th>0</th>\n",
       "      <td>-1.0821</td>\n",
       "      <td>0.9194</td>\n",
       "      <td>-0.6762</td>\n",
       "      <td>1.1658</td>\n",
       "      <td>0.9404</td>\n",
       "      <td>0.0000</td>\n",
       "    </tr>\n",
       "    <tr>\n",
       "      <th>1</th>\n",
       "      <td>0.0000</td>\n",
       "      <td>0.8577</td>\n",
       "      <td>-1.3034</td>\n",
       "      <td>1.4159</td>\n",
       "      <td>2.3017</td>\n",
       "      <td>0.0000</td>\n",
       "    </tr>\n",
       "    <tr>\n",
       "      <th>2</th>\n",
       "      <td>1.8785</td>\n",
       "      <td>0.0000</td>\n",
       "      <td>0.0000</td>\n",
       "      <td>0.0000</td>\n",
       "      <td>1.2811</td>\n",
       "      <td>0.0000</td>\n",
       "    </tr>\n",
       "    <tr>\n",
       "      <th>3</th>\n",
       "      <td>-2.0213</td>\n",
       "      <td>0.0000</td>\n",
       "      <td>0.9917</td>\n",
       "      <td>0.0000</td>\n",
       "      <td>0.0000</td>\n",
       "      <td>-1.6913</td>\n",
       "    </tr>\n",
       "    <tr>\n",
       "      <th>4</th>\n",
       "      <td>0.7665</td>\n",
       "      <td>-0.7889</td>\n",
       "      <td>1.3337</td>\n",
       "      <td>0.0000</td>\n",
       "      <td>0.0000</td>\n",
       "      <td>0.0000</td>\n",
       "    </tr>\n",
       "    <tr>\n",
       "      <th>5</th>\n",
       "      <td>0.0000</td>\n",
       "      <td>-0.6952</td>\n",
       "      <td>1.1362</td>\n",
       "      <td>0.0000</td>\n",
       "      <td>0.5566</td>\n",
       "      <td>0.0000</td>\n",
       "    </tr>\n",
       "  </tbody>\n",
       "</table>\n",
       "</div>"
      ],
      "text/plain": [
       "        0       1       2       3       4       5\n",
       "0 -1.0821  0.9194 -0.6762  1.1658  0.9404  0.0000\n",
       "1  0.0000  0.8577 -1.3034  1.4159  2.3017  0.0000\n",
       "2  1.8785  0.0000  0.0000  0.0000  1.2811  0.0000\n",
       "3 -2.0213  0.0000  0.9917  0.0000  0.0000 -1.6913\n",
       "4  0.7665 -0.7889  1.3337  0.0000  0.0000  0.0000\n",
       "5  0.0000 -0.6952  1.1362  0.0000  0.5566  0.0000"
      ]
     },
     "execution_count": 53,
     "metadata": {},
     "output_type": "execute_result"
    }
   ],
   "source": [
    "pd.set_option(\"chop_threshold\", 0.5)\n",
    "df"
   ]
  },
  {
   "cell_type": "code",
   "execution_count": 54,
   "id": "24125c08",
   "metadata": {},
   "outputs": [],
   "source": [
    "pd.reset_option(\"chop_threshold\")"
   ]
  },
  {
   "cell_type": "markdown",
   "id": "7715c541",
   "metadata": {},
   "source": [
    "- display.colheader_justify controls the justification of the headers. The options are 'right', and 'left'."
   ]
  },
  {
   "cell_type": "code",
   "execution_count": 55,
   "id": "db306af4",
   "metadata": {},
   "outputs": [
    {
     "data": {
      "text/html": [
       "<div>\n",
       "<style scoped>\n",
       "    .dataframe tbody tr th:only-of-type {\n",
       "        vertical-align: middle;\n",
       "    }\n",
       "\n",
       "    .dataframe tbody tr th {\n",
       "        vertical-align: top;\n",
       "    }\n",
       "\n",
       "    .dataframe thead th {\n",
       "        text-align: right;\n",
       "    }\n",
       "</style>\n",
       "<table border=\"1\" class=\"dataframe\">\n",
       "  <thead>\n",
       "    <tr style=\"text-align: right;\">\n",
       "      <th></th>\n",
       "      <th>A</th>\n",
       "      <th>B</th>\n",
       "      <th>C</th>\n",
       "    </tr>\n",
       "  </thead>\n",
       "  <tbody>\n",
       "    <tr>\n",
       "      <th>0</th>\n",
       "      <td>0.4858</td>\n",
       "      <td>0.8</td>\n",
       "      <td>0.0</td>\n",
       "    </tr>\n",
       "    <tr>\n",
       "      <th>1</th>\n",
       "      <td>0.5151</td>\n",
       "      <td>0.5</td>\n",
       "      <td>0.0</td>\n",
       "    </tr>\n",
       "    <tr>\n",
       "      <th>2</th>\n",
       "      <td>-0.6092</td>\n",
       "      <td>0.6</td>\n",
       "      <td>0.0</td>\n",
       "    </tr>\n",
       "    <tr>\n",
       "      <th>3</th>\n",
       "      <td>0.3047</td>\n",
       "      <td>0.8</td>\n",
       "      <td>0.0</td>\n",
       "    </tr>\n",
       "    <tr>\n",
       "      <th>4</th>\n",
       "      <td>-0.6208</td>\n",
       "      <td>0.1</td>\n",
       "      <td>0.0</td>\n",
       "    </tr>\n",
       "    <tr>\n",
       "      <th>5</th>\n",
       "      <td>-0.6921</td>\n",
       "      <td>0.2</td>\n",
       "      <td>0.0</td>\n",
       "    </tr>\n",
       "  </tbody>\n",
       "</table>\n",
       "</div>"
      ],
      "text/plain": [
       "        A    B    C\n",
       "0  0.4858  0.8  0.0\n",
       "1  0.5151  0.5  0.0\n",
       "2 -0.6092  0.6  0.0\n",
       "3  0.3047  0.8  0.0\n",
       "4 -0.6208  0.1  0.0\n",
       "5 -0.6921  0.2  0.0"
      ]
     },
     "execution_count": 55,
     "metadata": {},
     "output_type": "execute_result"
    }
   ],
   "source": [
    "df = pd.DataFrame(\n",
    "    np.array([np.random.randn(6), np.random.randint(1, 9, 6) * 0.1, np.zeros(6)]).T,\n",
    "    columns=[\"A\", \"B\", \"C\"],\n",
    "    dtype=\"float\",\n",
    ")\n",
    "pd.set_option(\"colheader_justify\", \"right\")\n",
    "df"
   ]
  },
  {
   "cell_type": "code",
   "execution_count": 56,
   "id": "cc4556b4",
   "metadata": {},
   "outputs": [
    {
     "data": {
      "text/html": [
       "<div>\n",
       "<style scoped>\n",
       "    .dataframe tbody tr th:only-of-type {\n",
       "        vertical-align: middle;\n",
       "    }\n",
       "\n",
       "    .dataframe tbody tr th {\n",
       "        vertical-align: top;\n",
       "    }\n",
       "\n",
       "    .dataframe thead th {\n",
       "        text-align: right;\n",
       "    }\n",
       "</style>\n",
       "<table border=\"1\" class=\"dataframe\">\n",
       "  <thead>\n",
       "    <tr style=\"text-align: left;\">\n",
       "      <th></th>\n",
       "      <th>A</th>\n",
       "      <th>B</th>\n",
       "      <th>C</th>\n",
       "    </tr>\n",
       "  </thead>\n",
       "  <tbody>\n",
       "    <tr>\n",
       "      <th>0</th>\n",
       "      <td>0.4858</td>\n",
       "      <td>0.8</td>\n",
       "      <td>0.0</td>\n",
       "    </tr>\n",
       "    <tr>\n",
       "      <th>1</th>\n",
       "      <td>0.5151</td>\n",
       "      <td>0.5</td>\n",
       "      <td>0.0</td>\n",
       "    </tr>\n",
       "    <tr>\n",
       "      <th>2</th>\n",
       "      <td>-0.6092</td>\n",
       "      <td>0.6</td>\n",
       "      <td>0.0</td>\n",
       "    </tr>\n",
       "    <tr>\n",
       "      <th>3</th>\n",
       "      <td>0.3047</td>\n",
       "      <td>0.8</td>\n",
       "      <td>0.0</td>\n",
       "    </tr>\n",
       "    <tr>\n",
       "      <th>4</th>\n",
       "      <td>-0.6208</td>\n",
       "      <td>0.1</td>\n",
       "      <td>0.0</td>\n",
       "    </tr>\n",
       "    <tr>\n",
       "      <th>5</th>\n",
       "      <td>-0.6921</td>\n",
       "      <td>0.2</td>\n",
       "      <td>0.0</td>\n",
       "    </tr>\n",
       "  </tbody>\n",
       "</table>\n",
       "</div>"
      ],
      "text/plain": [
       "   A       B    C  \n",
       "0  0.4858  0.8  0.0\n",
       "1  0.5151  0.5  0.0\n",
       "2 -0.6092  0.6  0.0\n",
       "3  0.3047  0.8  0.0\n",
       "4 -0.6208  0.1  0.0\n",
       "5 -0.6921  0.2  0.0"
      ]
     },
     "execution_count": 56,
     "metadata": {},
     "output_type": "execute_result"
    }
   ],
   "source": [
    "pd.set_option(\"colheader_justify\", \"left\")\n",
    "df"
   ]
  },
  {
   "cell_type": "code",
   "execution_count": 57,
   "id": "3a0a20c0",
   "metadata": {},
   "outputs": [],
   "source": [
    "pd.reset_option(\"colheader_justify\")"
   ]
  },
  {
   "cell_type": "markdown",
   "id": "ec5c88a2",
   "metadata": {},
   "source": [
    "#### Number formatting\n",
    "- pandas also allows you to set how numbers are displayed in the console. This option is not set through the set_options API.\n",
    "\n",
    "- Use the set_eng_float_format function to alter the floating-point formatting of pandas objects to produce a particular format."
   ]
  },
  {
   "cell_type": "code",
   "execution_count": 58,
   "id": "09bf5165",
   "metadata": {},
   "outputs": [
    {
     "data": {
      "text/plain": [
       "a     -1.206m\n",
       "b   -719.562u\n",
       "c    202.092u\n",
       "d     -1.134m\n",
       "e     -1.351m\n",
       "dtype: float64"
      ]
     },
     "execution_count": 58,
     "metadata": {},
     "output_type": "execute_result"
    }
   ],
   "source": [
    "pd.set_eng_float_format(accuracy=3, use_eng_prefix=True)\n",
    "s = pd.Series(np.random.randn(5), index=[\"a\", \"b\", \"c\", \"d\", \"e\"])\n",
    "s / 1.0e3"
   ]
  },
  {
   "cell_type": "code",
   "execution_count": 59,
   "id": "b7e7b54f",
   "metadata": {},
   "outputs": [
    {
     "data": {
      "text/plain": [
       "a     -1.206u\n",
       "b   -719.562n\n",
       "c    202.092n\n",
       "d     -1.134u\n",
       "e     -1.351u\n",
       "dtype: float64"
      ]
     },
     "execution_count": 59,
     "metadata": {},
     "output_type": "execute_result"
    }
   ],
   "source": [
    "s / 1.0e6"
   ]
  },
  {
   "cell_type": "markdown",
   "id": "b5b3fd9c",
   "metadata": {},
   "source": [
    "- Use round() to specifically control rounding of an individual DataFrame\n",
    "- **Warning**: Enabling this option will affect the performance for printing of DataFrame and Series (about 2 times slower). Use only when it is actually required.\n",
    "- Some East Asian countries use Unicode characters whose width corresponds to two Latin characters. If a DataFrame or Series contains these characters, the default output mode may not align them properly."
   ]
  },
  {
   "cell_type": "code",
   "execution_count": 60,
   "id": "5f426cd8",
   "metadata": {},
   "outputs": [
    {
     "data": {
      "text/html": [
       "<div>\n",
       "<style scoped>\n",
       "    .dataframe tbody tr th:only-of-type {\n",
       "        vertical-align: middle;\n",
       "    }\n",
       "\n",
       "    .dataframe tbody tr th {\n",
       "        vertical-align: top;\n",
       "    }\n",
       "\n",
       "    .dataframe thead th {\n",
       "        text-align: right;\n",
       "    }\n",
       "</style>\n",
       "<table border=\"1\" class=\"dataframe\">\n",
       "  <thead>\n",
       "    <tr style=\"text-align: right;\">\n",
       "      <th></th>\n",
       "      <th>国籍</th>\n",
       "      <th>名前</th>\n",
       "    </tr>\n",
       "  </thead>\n",
       "  <tbody>\n",
       "    <tr>\n",
       "      <th>0</th>\n",
       "      <td>UK</td>\n",
       "      <td>Alice</td>\n",
       "    </tr>\n",
       "    <tr>\n",
       "      <th>1</th>\n",
       "      <td>日本</td>\n",
       "      <td>しのぶ</td>\n",
       "    </tr>\n",
       "  </tbody>\n",
       "</table>\n",
       "</div>"
      ],
      "text/plain": [
       "   国籍     名前\n",
       "0  UK  Alice\n",
       "1  日本    しのぶ"
      ]
     },
     "execution_count": 60,
     "metadata": {},
     "output_type": "execute_result"
    }
   ],
   "source": [
    "df = pd.DataFrame({\"国籍\": [\"UK\", \"日本\"], \"名前\": [\"Alice\", \"しのぶ\"]})\n",
    "df"
   ]
  },
  {
   "cell_type": "markdown",
   "id": "3486f5be",
   "metadata": {},
   "source": [
    "- Enabling display.unicode.east_asian_width allows pandas to check each character’s “East Asian Width” property. These characters can be aligned properly by setting this option to True. However, this will result in longer render times than the standard len function."
   ]
  },
  {
   "cell_type": "code",
   "execution_count": 61,
   "id": "9bc0d1c3",
   "metadata": {},
   "outputs": [
    {
     "data": {
      "text/html": [
       "<div>\n",
       "<style scoped>\n",
       "    .dataframe tbody tr th:only-of-type {\n",
       "        vertical-align: middle;\n",
       "    }\n",
       "\n",
       "    .dataframe tbody tr th {\n",
       "        vertical-align: top;\n",
       "    }\n",
       "\n",
       "    .dataframe thead th {\n",
       "        text-align: right;\n",
       "    }\n",
       "</style>\n",
       "<table border=\"1\" class=\"dataframe\">\n",
       "  <thead>\n",
       "    <tr style=\"text-align: right;\">\n",
       "      <th></th>\n",
       "      <th>国籍</th>\n",
       "      <th>名前</th>\n",
       "    </tr>\n",
       "  </thead>\n",
       "  <tbody>\n",
       "    <tr>\n",
       "      <th>0</th>\n",
       "      <td>UK</td>\n",
       "      <td>Alice</td>\n",
       "    </tr>\n",
       "    <tr>\n",
       "      <th>1</th>\n",
       "      <td>日本</td>\n",
       "      <td>しのぶ</td>\n",
       "    </tr>\n",
       "  </tbody>\n",
       "</table>\n",
       "</div>"
      ],
      "text/plain": [
       "   国籍    名前\n",
       "0    UK   Alice\n",
       "1  日本  しのぶ"
      ]
     },
     "execution_count": 61,
     "metadata": {},
     "output_type": "execute_result"
    }
   ],
   "source": [
    "pd.set_option(\"display.unicode.east_asian_width\", True)\n",
    "df"
   ]
  },
  {
   "cell_type": "markdown",
   "id": "23ddef0c",
   "metadata": {},
   "source": [
    "- In addition, Unicode characters whose width is “ambiguous” can either be 1 or 2 characters wide depending on the terminal setting or encoding. The option display.unicode.ambiguous_as_wide can be used to handle the ambiguity.\n",
    "\n",
    "- By default, an “ambiguous” character’s width, such as “¡” (inverted exclamation) in the example below, is taken to be 1."
   ]
  },
  {
   "cell_type": "code",
   "execution_count": 62,
   "id": "9d20294d",
   "metadata": {},
   "outputs": [
    {
     "data": {
      "text/html": [
       "<div>\n",
       "<style scoped>\n",
       "    .dataframe tbody tr th:only-of-type {\n",
       "        vertical-align: middle;\n",
       "    }\n",
       "\n",
       "    .dataframe tbody tr th {\n",
       "        vertical-align: top;\n",
       "    }\n",
       "\n",
       "    .dataframe thead th {\n",
       "        text-align: right;\n",
       "    }\n",
       "</style>\n",
       "<table border=\"1\" class=\"dataframe\">\n",
       "  <thead>\n",
       "    <tr style=\"text-align: right;\">\n",
       "      <th></th>\n",
       "      <th>a</th>\n",
       "      <th>b</th>\n",
       "    </tr>\n",
       "  </thead>\n",
       "  <tbody>\n",
       "    <tr>\n",
       "      <th>0</th>\n",
       "      <td>xxx</td>\n",
       "      <td>yyy</td>\n",
       "    </tr>\n",
       "    <tr>\n",
       "      <th>1</th>\n",
       "      <td>¡¡</td>\n",
       "      <td>¡¡</td>\n",
       "    </tr>\n",
       "  </tbody>\n",
       "</table>\n",
       "</div>"
      ],
      "text/plain": [
       "     a    b\n",
       "0  xxx  yyy\n",
       "1   ¡¡   ¡¡"
      ]
     },
     "execution_count": 62,
     "metadata": {},
     "output_type": "execute_result"
    }
   ],
   "source": [
    "df = pd.DataFrame({\"a\": [\"xxx\", \"¡¡\"], \"b\": [\"yyy\", \"¡¡\"]})\n",
    "df"
   ]
  },
  {
   "cell_type": "markdown",
   "id": "0aa7e49c",
   "metadata": {},
   "source": [
    "- Enabling display.unicode.ambiguous_as_wide makes pandas interpret these characters’ widths to be 2. (Note that this option will only be effective when display.unicode.east_asian_width is enabled.)\n",
    "\n",
    "- However, setting this option incorrectly for your terminal will cause these characters to be aligned incorrectly:"
   ]
  },
  {
   "cell_type": "code",
   "execution_count": 63,
   "id": "d302c769",
   "metadata": {},
   "outputs": [
    {
     "data": {
      "text/html": [
       "<div>\n",
       "<style scoped>\n",
       "    .dataframe tbody tr th:only-of-type {\n",
       "        vertical-align: middle;\n",
       "    }\n",
       "\n",
       "    .dataframe tbody tr th {\n",
       "        vertical-align: top;\n",
       "    }\n",
       "\n",
       "    .dataframe thead th {\n",
       "        text-align: right;\n",
       "    }\n",
       "</style>\n",
       "<table border=\"1\" class=\"dataframe\">\n",
       "  <thead>\n",
       "    <tr style=\"text-align: right;\">\n",
       "      <th></th>\n",
       "      <th>a</th>\n",
       "      <th>b</th>\n",
       "    </tr>\n",
       "  </thead>\n",
       "  <tbody>\n",
       "    <tr>\n",
       "      <th>0</th>\n",
       "      <td>xxx</td>\n",
       "      <td>yyy</td>\n",
       "    </tr>\n",
       "    <tr>\n",
       "      <th>1</th>\n",
       "      <td>¡¡</td>\n",
       "      <td>¡¡</td>\n",
       "    </tr>\n",
       "  </tbody>\n",
       "</table>\n",
       "</div>"
      ],
      "text/plain": [
       "      a     b\n",
       "0   xxx   yyy\n",
       "1  ¡¡  ¡¡"
      ]
     },
     "execution_count": 63,
     "metadata": {},
     "output_type": "execute_result"
    }
   ],
   "source": [
    "pd.set_option(\"display.unicode.ambiguous_as_wide\", True)\n",
    "df"
   ]
  },
  {
   "cell_type": "markdown",
   "id": "517f72f0",
   "metadata": {},
   "source": [
    "#### Table schema display\n",
    "- DataFrame and Series will publish a Table Schema representation by default. This can be enabled globally with the display.html.table_schema option:\n",
    "`pd.set_option(\"display.html.table_schema\", True)`\n",
    "- Only 'display.max_rows' are serialized and published."
   ]
  },
  {
   "cell_type": "markdown",
   "id": "2343c908",
   "metadata": {},
   "source": [
    "### Enhancing performance\n",
    "- From https://pandas.pydata.org/docs/user_guide/enhancingperf.html\n",
    "- In this part of the tutorial, we will investigate how to speed up certain functions operating on pandas DataFrame using Cython, Numba and pandas.eval(). Generally, using Cython and Numba can offer a larger speedup than using pandas.eval() but will require a lot more code.\n",
    "- **Note**: In addition to following the steps in this tutorial, users interested in enhancing performance are highly encouraged to install the recommended dependencies for pandas. These dependencies are often not installed by default, but will offer speed improvements if present.\n",
    "#### Cython (writing C extensions for pandas)\n",
    "- For many use cases writing pandas in pure Python and NumPy is sufficient. In some computationally heavy applications however, it can be possible to achieve sizable speed-ups by offloading work to cython.\n",
    "\n",
    "- This tutorial assumes you have refactored as much as possible in Python, for example by trying to remove for-loops and making use of NumPy vectorization. It’s always worth optimising in Python first.\n",
    "\n",
    "- This tutorial walks through a “typical” process of cythonizing a slow computation. We use an example from the Cython documentation but in the context of pandas. Our final cythonized solution is around 100 times faster than the pure Python solution.\n",
    "\n",
    "#### Pure Python\n",
    "- We have a DataFrame to which we want to apply a function row-wise."
   ]
  },
  {
   "cell_type": "code",
   "execution_count": 64,
   "id": "e384c002",
   "metadata": {},
   "outputs": [
    {
     "data": {
      "text/html": [
       "<div>\n",
       "<style scoped>\n",
       "    .dataframe tbody tr th:only-of-type {\n",
       "        vertical-align: middle;\n",
       "    }\n",
       "\n",
       "    .dataframe tbody tr th {\n",
       "        vertical-align: top;\n",
       "    }\n",
       "\n",
       "    .dataframe thead th {\n",
       "        text-align: right;\n",
       "    }\n",
       "</style>\n",
       "<table border=\"1\" class=\"dataframe\">\n",
       "  <thead>\n",
       "    <tr style=\"text-align: right;\">\n",
       "      <th></th>\n",
       "      <th>a</th>\n",
       "      <th>b</th>\n",
       "      <th>N</th>\n",
       "      <th>x</th>\n",
       "    </tr>\n",
       "  </thead>\n",
       "  <tbody>\n",
       "    <tr>\n",
       "      <th>0</th>\n",
       "      <td>22.699m</td>\n",
       "      <td>-125.598m</td>\n",
       "      <td>137</td>\n",
       "      <td>x</td>\n",
       "    </tr>\n",
       "    <tr>\n",
       "      <th>1</th>\n",
       "      <td>1.573</td>\n",
       "      <td>360.089m</td>\n",
       "      <td>980</td>\n",
       "      <td>x</td>\n",
       "    </tr>\n",
       "    <tr>\n",
       "      <th>2</th>\n",
       "      <td>1.446</td>\n",
       "      <td>47.228m</td>\n",
       "      <td>715</td>\n",
       "      <td>x</td>\n",
       "    </tr>\n",
       "    <tr>\n",
       "      <th>3</th>\n",
       "      <td>-90.639m</td>\n",
       "      <td>213.699m</td>\n",
       "      <td>574</td>\n",
       "      <td>x</td>\n",
       "    </tr>\n",
       "    <tr>\n",
       "      <th>4</th>\n",
       "      <td>1.315</td>\n",
       "      <td>256.140m</td>\n",
       "      <td>759</td>\n",
       "      <td>x</td>\n",
       "    </tr>\n",
       "    <tr>\n",
       "      <th>...</th>\n",
       "      <td>...</td>\n",
       "      <td>...</td>\n",
       "      <td>...</td>\n",
       "      <td>...</td>\n",
       "    </tr>\n",
       "    <tr>\n",
       "      <th>995</th>\n",
       "      <td>232.979m</td>\n",
       "      <td>72.869m</td>\n",
       "      <td>102</td>\n",
       "      <td>x</td>\n",
       "    </tr>\n",
       "    <tr>\n",
       "      <th>996</th>\n",
       "      <td>-299.586m</td>\n",
       "      <td>408.607m</td>\n",
       "      <td>440</td>\n",
       "      <td>x</td>\n",
       "    </tr>\n",
       "    <tr>\n",
       "      <th>997</th>\n",
       "      <td>-36.579m</td>\n",
       "      <td>751.297m</td>\n",
       "      <td>809</td>\n",
       "      <td>x</td>\n",
       "    </tr>\n",
       "    <tr>\n",
       "      <th>998</th>\n",
       "      <td>-1.523</td>\n",
       "      <td>325.623m</td>\n",
       "      <td>894</td>\n",
       "      <td>x</td>\n",
       "    </tr>\n",
       "    <tr>\n",
       "      <th>999</th>\n",
       "      <td>-593.145m</td>\n",
       "      <td>-325.194m</td>\n",
       "      <td>552</td>\n",
       "      <td>x</td>\n",
       "    </tr>\n",
       "  </tbody>\n",
       "</table>\n",
       "<p>1000 rows × 4 columns</p>\n",
       "</div>"
      ],
      "text/plain": [
       "            a         b    N  x\n",
       "0     22.699m -125.598m  137  x\n",
       "1       1.573  360.089m  980  x\n",
       "2       1.446   47.228m  715  x\n",
       "3    -90.639m  213.699m  574  x\n",
       "4       1.315  256.140m  759  x\n",
       "..        ...       ...  ... ..\n",
       "995  232.979m   72.869m  102  x\n",
       "996 -299.586m  408.607m  440  x\n",
       "997  -36.579m  751.297m  809  x\n",
       "998    -1.523  325.623m  894  x\n",
       "999 -593.145m -325.194m  552  x\n",
       "\n",
       "[1000 rows x 4 columns]"
      ]
     },
     "execution_count": 64,
     "metadata": {},
     "output_type": "execute_result"
    }
   ],
   "source": [
    "df = pd.DataFrame(\n",
    "    {\n",
    "        \"a\": np.random.randn(1000),\n",
    "        \"b\": np.random.randn(1000),\n",
    "        \"N\": np.random.randint(100, 1000, (1000)),\n",
    "        \"x\": \"x\",\n",
    "    }\n",
    ")\n",
    "df"
   ]
  },
  {
   "cell_type": "markdown",
   "id": "aa981c91",
   "metadata": {},
   "source": [
    "- Here’s the function in pure Python:"
   ]
  },
  {
   "cell_type": "code",
   "execution_count": 65,
   "id": "9ca31609",
   "metadata": {},
   "outputs": [],
   "source": [
    "def f(x):\n",
    "    return x * (x - 1)\n",
    "\n",
    "def integrate_f(a, b, N):\n",
    "    s = 0\n",
    "    dx = (b - a) / N\n",
    "    for i in range(N):\n",
    "        s += f(a + i * dx)\n",
    "    return s * dx\n"
   ]
  },
  {
   "cell_type": "markdown",
   "id": "38047ee7",
   "metadata": {},
   "source": [
    "- We achieve our result by using DataFrame.apply() (row-wise):"
   ]
  },
  {
   "cell_type": "code",
   "execution_count": 66,
   "id": "739f9d90",
   "metadata": {},
   "outputs": [
    {
     "name": "stdout",
     "output_type": "stream",
     "text": [
      "60.1 ms ± 5.12 ms per loop (mean ± std. dev. of 7 runs, 10 loops each)\n"
     ]
    }
   ],
   "source": [
    "%timeit df.apply(lambda x: integrate_f(x[\"a\"], x[\"b\"], x[\"N\"]), axis=1)"
   ]
  },
  {
   "cell_type": "markdown",
   "id": "33028ba7",
   "metadata": {},
   "source": [
    "- Let’s take a look and see where the time is spent during this operation using the prun ipython magic function:"
   ]
  },
  {
   "cell_type": "code",
   "execution_count": 68,
   "id": "6752f274",
   "metadata": {},
   "outputs": [],
   "source": [
    "# most time consuming 4 calls\n",
    "# %prun -l 4 df.apply(lambda x: integrate_f(x[\"a\"], x[\"b\"], x[\"N\"]), axis=1)  # noqa E999\n"
   ]
  },
  {
   "cell_type": "markdown",
   "id": "cf382847",
   "metadata": {},
   "source": [
    "- By far the majority of time is spend inside either integrate_f or f, hence we’ll concentrate our efforts cythonizing these two functions.\n",
    "\n",
    "#### Plain Cython\n",
    "- First we're going to need to import the Cython magic function to IPython:"
   ]
  },
  {
   "cell_type": "code",
   "execution_count": 70,
   "id": "f112f396",
   "metadata": {},
   "outputs": [],
   "source": [
    "%load_ext Cython"
   ]
  },
  {
   "cell_type": "markdown",
   "id": "d8f08085",
   "metadata": {},
   "source": [
    "- Now, let’s simply copy our functions over to Cython:"
   ]
  },
  {
   "cell_type": "code",
   "execution_count": 71,
   "id": "cd5ed43d",
   "metadata": {},
   "outputs": [
    {
     "name": "stdout",
     "output_type": "stream",
     "text": [
      "Content of stdout:\n",
      "_cython_magic_5eb720acfe6df9fd279f2348ccd85f2b9f4b4a61627a547fed4b863a821c739d.c\n",
      "   Creating library C:\\Users\\thotc\\.ipython\\cython\\Users\\thotc\\.ipython\\cython\\_cython_magic_5eb720acfe6df9fd279f2348ccd85f2b9f4b4a61627a547fed4b863a821c739d.cp313-win_amd64.lib and object C:\\Users\\thotc\\.ipython\\cython\\Users\\thotc\\.ipython\\cython\\_cython_magic_5eb720acfe6df9fd279f2348ccd85f2b9f4b4a61627a547fed4b863a821c739d.cp313-win_amd64.exp\n",
      "Generating code\n",
      "Finished generating code"
     ]
    }
   ],
   "source": [
    "%%cython\n",
    "def f_plain(x):\n",
    "    return x * (x - 1)\n",
    "def integrate_f_plain(a, b, N):\n",
    "    s = 0\n",
    "    dx = (b - a) / N\n",
    "    for i in range(N):\n",
    "        s += f_plain(a + i * dx)\n",
    "    return s * dx"
   ]
  },
  {
   "cell_type": "code",
   "execution_count": 72,
   "id": "15cd6d06",
   "metadata": {},
   "outputs": [
    {
     "name": "stdout",
     "output_type": "stream",
     "text": [
      "57.7 ms ± 8.56 ms per loop (mean ± std. dev. of 7 runs, 10 loops each)\n"
     ]
    }
   ],
   "source": [
    "%timeit df.apply(lambda x: integrate_f_plain(x[\"a\"], x[\"b\"], x[\"N\"]), axis=1)\n"
   ]
  },
  {
   "cell_type": "markdown",
   "id": "bca1454b",
   "metadata": {},
   "source": [
    "- This has improved the performance compared to the pure Python approach by one-third. (supposely....)\n",
    "\n",
    "#### Declaring C types\n",
    "- We can annotate the function variables and return types as well as use cdef and cpdef to improve performance:"
   ]
  },
  {
   "cell_type": "code",
   "execution_count": 73,
   "id": "1eb2669f",
   "metadata": {},
   "outputs": [
    {
     "name": "stdout",
     "output_type": "stream",
     "text": [
      "Content of stdout:\n",
      "_cython_magic_a8c2fd7c142b810f8c051d87c4b407266b9a8cd305dbc688bbb844bd2a1ffc4f.c\n",
      "   Creating library C:\\Users\\thotc\\.ipython\\cython\\Users\\thotc\\.ipython\\cython\\_cython_magic_a8c2fd7c142b810f8c051d87c4b407266b9a8cd305dbc688bbb844bd2a1ffc4f.cp313-win_amd64.lib and object C:\\Users\\thotc\\.ipython\\cython\\Users\\thotc\\.ipython\\cython\\_cython_magic_a8c2fd7c142b810f8c051d87c4b407266b9a8cd305dbc688bbb844bd2a1ffc4f.cp313-win_amd64.exp\n",
      "Generating code\n",
      "Finished generating code"
     ]
    }
   ],
   "source": [
    "%%cython\n",
    "cdef double f_typed(double x) except? -2:\n",
    "    return x * (x - 1)\n",
    "cpdef double integrate_f_typed(double a, double b, int N):\n",
    "    cdef int i\n",
    "    cdef double s, dx\n",
    "    s = 0\n",
    "    dx = (b - a) / N\n",
    "    for i in range(N):\n",
    "        s += f_typed(a + i * dx)\n",
    "    return s * dx"
   ]
  },
  {
   "cell_type": "code",
   "execution_count": 74,
   "id": "f4498954",
   "metadata": {},
   "outputs": [
    {
     "name": "stdout",
     "output_type": "stream",
     "text": [
      "7.29 ms ± 974 μs per loop (mean ± std. dev. of 7 runs, 100 loops each)\n"
     ]
    }
   ],
   "source": [
    "%timeit df.apply(lambda x: integrate_f_typed(x[\"a\"], x[\"b\"], x[\"N\"]), axis=1)\n"
   ]
  },
  {
   "cell_type": "markdown",
   "id": "7068a203",
   "metadata": {},
   "source": [
    "- Annotating the functions with C types yields an over ten times performance improvement compared to the original Python implementation.\n",
    "\n",
    "#### Using ndarray\n",
    "- When re-profiling, time is spent creating a Series from each row, and calling __getitem__ from both the index and the series (three times for each row). These Python function calls are expensive and can be improved by passing an np.ndarray."
   ]
  },
  {
   "cell_type": "code",
   "execution_count": 75,
   "id": "f509f734",
   "metadata": {},
   "outputs": [
    {
     "name": "stdout",
     "output_type": "stream",
     "text": [
      "Content of stdout:\n",
      "_cython_magic_a935f04eeda5bca0757809b01d89a37ada8d50e6f855b26665f957ddf4c304a6.c\n",
      "c:\\Users\\thotc\\AppData\\Local\\Programs\\Python\\Python313\\Lib\\site-packages\\numpy\\_core\\include\\numpy\\npy_1_7_deprecated_api.h(14) : Warning Msg: Using deprecated NumPy API, disable it with #define NPY_NO_DEPRECATED_API NPY_1_7_API_VERSION\n",
      "   Creating library C:\\Users\\thotc\\.ipython\\cython\\Users\\thotc\\.ipython\\cython\\_cython_magic_a935f04eeda5bca0757809b01d89a37ada8d50e6f855b26665f957ddf4c304a6.cp313-win_amd64.lib and object C:\\Users\\thotc\\.ipython\\cython\\Users\\thotc\\.ipython\\cython\\_cython_magic_a935f04eeda5bca0757809b01d89a37ada8d50e6f855b26665f957ddf4c304a6.cp313-win_amd64.exp\n",
      "Generating code\n",
      "Finished generating code"
     ]
    }
   ],
   "source": [
    "%%cython\n",
    "cimport numpy as np\n",
    "import numpy as np\n",
    "cdef double f_typed(double x) except? -2:\n",
    "    return x * (x - 1)\n",
    "cpdef double integrate_f_typed(double a, double b, int N):\n",
    "    cdef int i\n",
    "    cdef double s, dx\n",
    "    s = 0\n",
    "    dx = (b - a) / N\n",
    "    for i in range(N):\n",
    "        s += f_typed(a + i * dx)\n",
    "    return s * dx\n",
    "cpdef np.ndarray[double] apply_integrate_f(np.ndarray col_a, np.ndarray col_b,\n",
    "                                           np.ndarray col_N):\n",
    "    assert (col_a.dtype == np.float64\n",
    "            and col_b.dtype == np.float64 and col_N.dtype == np.dtype(int))\n",
    "    cdef Py_ssize_t i, n = len(col_N)\n",
    "    assert (len(col_a) == len(col_b) == n)\n",
    "    cdef np.ndarray[double] res = np.empty(n)\n",
    "    for i in range(len(col_a)):\n",
    "        res[i] = integrate_f_typed(col_a[i], col_b[i], col_N[i])\n",
    "    return res"
   ]
  },
  {
   "cell_type": "markdown",
   "id": "8d3cf6b7",
   "metadata": {},
   "source": [
    "- This implementation creates an array of zeros and inserts the result of integrate_f_typed applied over each row. Looping over an ndarray is faster in Cython than looping over a Series object.\n",
    "\n",
    "- Since apply_integrate_f is typed to accept an np.ndarray, Series.to_numpy() calls are needed to utilize this function."
   ]
  },
  {
   "cell_type": "code",
   "execution_count": 79,
   "id": "faf0403f",
   "metadata": {},
   "outputs": [],
   "source": [
    "# %timeit apply_integrate_f(df[\"a\"].to_numpy(), df[\"b\"].to_numpy(), df[\"N\"].to_numpy())\n"
   ]
  },
  {
   "cell_type": "markdown",
   "id": "b5676fee",
   "metadata": {},
   "source": [
    "- Performance has improved from the prior implementation by almost ten times.\n",
    "\n",
    "#### Disabling compiler directives\n",
    "- The majority of the time is now spent in apply_integrate_f. Disabling Cython’s boundscheck and wraparound checks can yield more performance."
   ]
  },
  {
   "cell_type": "code",
   "execution_count": 80,
   "id": "b05072a7",
   "metadata": {},
   "outputs": [],
   "source": [
    "# %prun -l 4 apply_integrate_f(df[\"a\"].to_numpy(), df[\"b\"].to_numpy(), df[\"N\"].to_numpy())\n"
   ]
  },
  {
   "cell_type": "code",
   "execution_count": 81,
   "id": "68fb0afc",
   "metadata": {},
   "outputs": [
    {
     "name": "stdout",
     "output_type": "stream",
     "text": [
      "Content of stdout:\n",
      "_cython_magic_5467937f7aa6ea7a116f5f2767d3035779423f023df9710bfbe656483ecd6471.c\n",
      "c:\\Users\\thotc\\AppData\\Local\\Programs\\Python\\Python313\\Lib\\site-packages\\numpy\\_core\\include\\numpy\\npy_1_7_deprecated_api.h(14) : Warning Msg: Using deprecated NumPy API, disable it with #define NPY_NO_DEPRECATED_API NPY_1_7_API_VERSION\n",
      "   Creating library C:\\Users\\thotc\\.ipython\\cython\\Users\\thotc\\.ipython\\cython\\_cython_magic_5467937f7aa6ea7a116f5f2767d3035779423f023df9710bfbe656483ecd6471.cp313-win_amd64.lib and object C:\\Users\\thotc\\.ipython\\cython\\Users\\thotc\\.ipython\\cython\\_cython_magic_5467937f7aa6ea7a116f5f2767d3035779423f023df9710bfbe656483ecd6471.cp313-win_amd64.exp\n",
      "Generating code\n",
      "Finished generating code"
     ]
    }
   ],
   "source": [
    "%%cython\n",
    "cimport cython\n",
    "cimport numpy as np\n",
    "import numpy as np\n",
    "cdef np.float64_t f_typed(np.float64_t x) except? -2:\n",
    "    return x * (x - 1)\n",
    "cpdef np.float64_t integrate_f_typed(np.float64_t a, np.float64_t b, np.int64_t N):\n",
    "    cdef np.int64_t i\n",
    "    cdef np.float64_t s = 0.0, dx\n",
    "    dx = (b - a) / N\n",
    "    for i in range(N):\n",
    "        s += f_typed(a + i * dx)\n",
    "    return s * dx\n",
    "@cython.boundscheck(False)\n",
    "@cython.wraparound(False)\n",
    "cpdef np.ndarray[np.float64_t] apply_integrate_f_wrap(\n",
    "    np.ndarray[np.float64_t] col_a,\n",
    "    np.ndarray[np.float64_t] col_b,\n",
    "    np.ndarray[np.int64_t] col_N\n",
    "):\n",
    "    cdef np.int64_t i, n = len(col_N)\n",
    "    assert len(col_a) == len(col_b) == n\n",
    "    cdef np.ndarray[np.float64_t] res = np.empty(n, dtype=np.float64)\n",
    "    for i in range(n):\n",
    "        res[i] = integrate_f_typed(col_a[i], col_b[i], col_N[i])\n",
    "    return res"
   ]
  },
  {
   "cell_type": "code",
   "execution_count": 83,
   "id": "1b9d0aab",
   "metadata": {},
   "outputs": [],
   "source": [
    "# %timeit apply_integrate_f_wrap(df[\"a\"].to_numpy(), df[\"b\"].to_numpy(), df[\"N\"].to_numpy())\n"
   ]
  },
  {
   "cell_type": "markdown",
   "id": "495fe69c",
   "metadata": {},
   "source": [
    "#### Numba (JIT compilation)\n",
    "- An alternative to statically compiling Cython code is to use a dynamic just-in-time (JIT) compiler with Numba.\n",
    "\n",
    "- Numba allows you to write a pure Python function which can be JIT compiled to native machine instructions, similar in performance to C, C++ and Fortran, by decorating your function with @jit.\n",
    "\n",
    "- Numba works by generating optimized machine code using the LLVM compiler infrastructure at import time, runtime, or statically (using the included pycc tool). Numba supports compilation of Python to run on either CPU or GPU hardware and is designed to integrate with the Python scientific software stack.\n",
    "\n",
    "- **Note**: The @jit compilation will add overhead to the runtime of the function, so performance benefits may not be realized especially when using small data sets. Consider caching your function to avoid compilation overhead each time your function is run.\n",
    "\n",
    "- Numba can be used in 2 ways with pandas:\n",
    "    - Specify the engine=\"numba\" keyword in select pandas methods\n",
    "    - Define your own Python function decorated with @jit and pass the underlying NumPy array of Series or DataFrame (using Series.to_numpy()) into the function\n",
    "\n",
    "#### pandas Numba Engine\n",
    "- If Numba is installed, one can specify engine=\"numba\" in select pandas methods to execute the method using Numba. Methods that support engine=\"numba\" will also have an engine_kwargs keyword that accepts a dictionary that allows one to specify \"nogil\", \"nopython\" and \"parallel\" keys with boolean values to pass into the @jit decorator. If engine_kwargs is not specified, it defaults to {\"nogil\": False, \"nopython\": True, \"parallel\": False} unless otherwise specified.\n",
    "\n",
    "- **Note**: In terms of performance, the first time a function is run using the Numba engine will be slow as Numba will have some function compilation overhead. However, the JIT compiled functions are cached, and subsequent calls will be fast. In general, the Numba engine is performant with a larger amount of data points (e.g. 1+ million)."
   ]
  },
  {
   "cell_type": "code",
   "execution_count": 84,
   "id": "70edd1bb",
   "metadata": {},
   "outputs": [
    {
     "name": "stdout",
     "output_type": "stream",
     "text": [
      "4.76 s ± 0 ns per loop (mean ± std. dev. of 1 run, 1 loop each)\n"
     ]
    }
   ],
   "source": [
    "data = pd.Series(range(1_000_000))  # noqa: E225\n",
    "roll = data.rolling(10)\n",
    "def f(x):\n",
    "    return np.sum(x) + 5\n",
    "\n",
    "# Run the first time, compilation time will affect performance\n",
    "%timeit -r 1 -n 1 roll.apply(f, engine='numba', raw=True)"
   ]
  },
  {
   "cell_type": "code",
   "execution_count": 85,
   "id": "cc605e20",
   "metadata": {},
   "outputs": [
    {
     "name": "stdout",
     "output_type": "stream",
     "text": [
      "109 ms ± 11.9 ms per loop (mean ± std. dev. of 7 runs, 10 loops each)\n"
     ]
    }
   ],
   "source": [
    "# Function is cached and performance will improve\n",
    "%timeit roll.apply(f, engine='numba', raw=True)"
   ]
  },
  {
   "cell_type": "code",
   "execution_count": 86,
   "id": "5b307184",
   "metadata": {},
   "outputs": [
    {
     "name": "stdout",
     "output_type": "stream",
     "text": [
      "2.59 s ± 72.2 ms per loop (mean ± std. dev. of 7 runs, 1 loop each)\n"
     ]
    }
   ],
   "source": [
    "%timeit roll.apply(f, engine='cython', raw=True)"
   ]
  },
  {
   "cell_type": "markdown",
   "id": "107fbe1f",
   "metadata": {},
   "source": [
    "- If your compute hardware contains multiple CPUs, the largest performance gain can be realized by setting parallel to True to leverage more than 1 CPU. Internally, pandas leverages numba to parallelize computations over the columns of a DataFrame; therefore, this performance benefit is only beneficial for a DataFrame with a large number of columns."
   ]
  },
  {
   "cell_type": "code",
   "execution_count": 87,
   "id": "19a181cc",
   "metadata": {},
   "outputs": [],
   "source": [
    "import numba"
   ]
  },
  {
   "cell_type": "code",
   "execution_count": 88,
   "id": "cb01a8b3",
   "metadata": {},
   "outputs": [
    {
     "name": "stderr",
     "output_type": "stream",
     "text": [
      "c:\\Users\\thotc\\AppData\\Local\\Programs\\Python\\Python313\\Lib\\site-packages\\pandas\\core\\_numba\\executor.py:103: NumbaTypeSafetyWarning: \u001b[1m\u001b[1m\u001b[1munsafe cast from uint64 to int64. Precision may be lost.\u001b[0m\u001b[0m\u001b[0m\n",
      "  na_positions[i] = np.array(na_pos)\n"
     ]
    },
    {
     "name": "stdout",
     "output_type": "stream",
     "text": [
      "18.7 ms ± 814 μs per loop (mean ± std. dev. of 7 runs, 1 loop each)\n"
     ]
    }
   ],
   "source": [
    "numba.set_num_threads(1)\n",
    "df = pd.DataFrame(np.random.randn(10_000, 100))\n",
    "roll = df.rolling(100)\n",
    "%timeit roll.mean(engine=\"numba\", engine_kwargs={\"parallel\": True})\n"
   ]
  },
  {
   "cell_type": "code",
   "execution_count": 89,
   "id": "1440c97a",
   "metadata": {},
   "outputs": [
    {
     "name": "stdout",
     "output_type": "stream",
     "text": [
      "9.96 ms ± 332 μs per loop (mean ± std. dev. of 7 runs, 100 loops each)\n"
     ]
    }
   ],
   "source": [
    "numba.set_num_threads(2)\n",
    "%timeit roll.mean(engine=\"numba\", engine_kwargs={\"parallel\": True})\n"
   ]
  },
  {
   "cell_type": "markdown",
   "id": "abce105a",
   "metadata": {},
   "source": [
    "#### Custom Function Examples\n",
    "- A custom Python function decorated with @jit can be used with pandas objects by passing their NumPy array representations with Series.to_numpy()."
   ]
  },
  {
   "cell_type": "code",
   "execution_count": 90,
   "id": "27f0769a",
   "metadata": {},
   "outputs": [],
   "source": [
    "\n",
    "@numba.jit\n",
    "def f_plain(x):\n",
    "    return x * (x - 1)\n",
    "\n",
    "\n",
    "@numba.jit\n",
    "def integrate_f_numba(a, b, N):\n",
    "    s = 0\n",
    "    dx = (b - a) / N\n",
    "    for i in range(N):\n",
    "        s += f_plain(a + i * dx)\n",
    "    return s * dx\n",
    "\n",
    "\n",
    "@numba.jit\n",
    "def apply_integrate_f_numba(col_a, col_b, col_N):\n",
    "    n = len(col_N)\n",
    "    result = np.empty(n, dtype=\"float64\")\n",
    "    assert len(col_a) == len(col_b) == n\n",
    "    for i in range(n):\n",
    "        result[i] = integrate_f_numba(col_a[i], col_b[i], col_N[i])\n",
    "    return result\n",
    "\n",
    "\n",
    "def compute_numba(df):\n",
    "    result = apply_integrate_f_numba(\n",
    "        df[\"a\"].to_numpy(), df[\"b\"].to_numpy(), df[\"N\"].to_numpy()\n",
    "    )\n",
    "    return pd.Series(result, index=df.index, name=\"result\")"
   ]
  },
  {
   "cell_type": "code",
   "execution_count": 93,
   "id": "c979f861",
   "metadata": {},
   "outputs": [],
   "source": [
    "# %timeit compute_numba(df)\n"
   ]
  },
  {
   "cell_type": "markdown",
   "id": "646540c2",
   "metadata": {},
   "source": [
    "- In this example, using Numba was faster than Cython.\n",
    "\n",
    "- Numba can also be used to write vectorized functions that do not require the user to explicitly loop over the observations of a vector; a vectorized function will be applied to each row automatically. Consider the following example of doubling each observation:"
   ]
  },
  {
   "cell_type": "code",
   "execution_count": 94,
   "id": "1335e727",
   "metadata": {},
   "outputs": [],
   "source": [
    "def double_every_value_nonumba(x):\n",
    "    return x * 2\n",
    "\n",
    "\n",
    "@numba.vectorize\n",
    "def double_every_value_withnumba(x):  # noqa E501\n",
    "    return x * 2"
   ]
  },
  {
   "cell_type": "code",
   "execution_count": 96,
   "id": "0316c604",
   "metadata": {},
   "outputs": [],
   "source": [
    "# Custom function without numba\n",
    "# %timeit df[\"col1_doubled\"] = df[\"a\"].apply(double_every_value_nonumba)  # noqa E501\n",
    "\n",
    "# Standard implementation (faster than a custom function)\n",
    "# %timeit df[\"col1_doubled\"] = df[\"a\"] * 2\n",
    "\n",
    "# Custom function with numba\n",
    "# %timeit df[\"col1_doubled\"] = double_every_value_withnumba(df[\"a\"].to_numpy())\n"
   ]
  },
  {
   "cell_type": "markdown",
   "id": "f31d381b",
   "metadata": {},
   "source": [
    "#### Caveats\n",
    "- Numba is best at accelerating functions that apply numerical functions to NumPy arrays. If you try to @jit a function that contains unsupported Python or NumPy code, compilation will revert object mode which will mostly likely not speed up your function. If you would prefer that Numba throw an error if it cannot compile a function in a way that speeds up your code, pass Numba the argument nopython=True (e.g. @jit(nopython=True)). For more on troubleshooting Numba modes, see the Numba troubleshooting page.\n",
    "\n",
    "- Using parallel=True (e.g. @jit(parallel=True)) may result in a SIGABRT if the threading layer leads to unsafe behavior. You can first specify a safe threading layer before running a JIT function with parallel=True.\n",
    "\n",
    "- Generally if the you encounter a segfault (SIGSEGV) while using Numba, please report the issue to the Numba issue tracker.\n",
    "\n",
    "#### Expression evaluation via eval()\n",
    "- The top-level function pandas.eval() implements performant expression evaluation of Series and DataFrame. Expression evaluation allows operations to be expressed as strings and can potentially provide a performance improvement by evaluate arithmetic and boolean expression all at once for large DataFrame.\n",
    "\n",
    "- **Note**: You should not use eval() for simple expressions or for expressions involving small DataFrames. In fact, eval() is many orders of magnitude slower for smaller expressions or objects than plain Python. A good rule of thumb is to only use eval() when you have a DataFrame with more than 10,000 rows.\n",
    "\n",
    "#### Supported syntax\n",
    "- These operations are supported by pandas.eval():\n",
    "    - Arithmetic operations except for the left shift (<<) and right shift (>>) operators, e.g., df + 2 * pi / s ** 4 % 42 - the_golden_ratio\n",
    "    - Comparison operations, including chained comparisons, e.g., 2 < df < df2\n",
    "    - Boolean operations, e.g., df < df2 and df3 < df4 or not df_bool\n",
    "    - list and tuple literals, e.g., [1, 2] or (1, 2)\n",
    "    - Attribute access, e.g., df.a\n",
    "    - Subscript expressions, e.g., df[0]\n",
    "    - Simple variable evaluation, e.g., pd.eval(\"df\") (this is not very useful)\n",
    "    - Math functions: sin, cos, exp, log, expm1, log1p, sqrt, sinh, cosh, tanh, arcsin, arccos, arctan, arccosh, arcsinh, arctanh, abs, arctan2 and log10.\n",
    "- The following Python syntax is not allowed:\n",
    "- Expressions\n",
    "    - Function calls other than math functions.\n",
    "    - is/is not operations\n",
    "    - if expressions\n",
    "    - lambda expressions\n",
    "    - list/set/dict comprehensions\n",
    "    - Literal dict and set expressions\n",
    "    - yield expressions\n",
    "    - Generator expressions\n",
    "    - Boolean expressions consisting of only scalar values\n",
    "- Statements\n",
    "    - Neither simple or compound statements are allowed. This includes for, while, and if.\n",
    "#### Local variables\n",
    "- You must explicitly reference any local variable that you want to use in an expression by placing the @ character in front of the name. This mechanism is the same for both DataFrame.query() and DataFrame.eval(). For example,"
   ]
  },
  {
   "cell_type": "code",
   "execution_count": 97,
   "id": "ba86afcf",
   "metadata": {},
   "outputs": [
    {
     "data": {
      "text/plain": [
       "0      -1.018\n",
       "1       1.775\n",
       "2      -3.568\n",
       "3   -816.830m\n",
       "4      -1.410\n",
       "dtype: float64"
      ]
     },
     "execution_count": 97,
     "metadata": {},
     "output_type": "execute_result"
    }
   ],
   "source": [
    "df = pd.DataFrame(np.random.randn(5, 2), columns=list(\"ab\"))\n",
    "newcol = np.random.randn(len(df))\n",
    "df.eval(\"b + @newcol\")"
   ]
  },
  {
   "cell_type": "code",
   "execution_count": 98,
   "id": "5e590fa1",
   "metadata": {},
   "outputs": [
    {
     "data": {
      "text/html": [
       "<div>\n",
       "<style scoped>\n",
       "    .dataframe tbody tr th:only-of-type {\n",
       "        vertical-align: middle;\n",
       "    }\n",
       "\n",
       "    .dataframe tbody tr th {\n",
       "        vertical-align: top;\n",
       "    }\n",
       "\n",
       "    .dataframe thead th {\n",
       "        text-align: right;\n",
       "    }\n",
       "</style>\n",
       "<table border=\"1\" class=\"dataframe\">\n",
       "  <thead>\n",
       "    <tr style=\"text-align: right;\">\n",
       "      <th></th>\n",
       "      <th>a</th>\n",
       "      <th>b</th>\n",
       "    </tr>\n",
       "  </thead>\n",
       "  <tbody>\n",
       "    <tr>\n",
       "      <th>2</th>\n",
       "      <td>-2.550</td>\n",
       "      <td>-2.434</td>\n",
       "    </tr>\n",
       "    <tr>\n",
       "      <th>4</th>\n",
       "      <td>-1.547</td>\n",
       "      <td>-721.786m</td>\n",
       "    </tr>\n",
       "  </tbody>\n",
       "</table>\n",
       "</div>"
      ],
      "text/plain": [
       "       a         b\n",
       "2 -2.550    -2.434\n",
       "4 -1.547 -721.786m"
      ]
     },
     "execution_count": 98,
     "metadata": {},
     "output_type": "execute_result"
    }
   ],
   "source": [
    "df.query(\"b < @newcol\")"
   ]
  },
  {
   "cell_type": "markdown",
   "id": "5b6004d0",
   "metadata": {},
   "source": [
    "- If you don’t prefix the local variable with @, pandas will raise an exception telling you the variable is undefined.\n",
    "\n",
    "- When using DataFrame.eval() and DataFrame.query(), this allows you to have a local variable and a DataFrame column with the same name in an expression."
   ]
  },
  {
   "cell_type": "code",
   "execution_count": 99,
   "id": "642b3d17",
   "metadata": {},
   "outputs": [
    {
     "data": {
      "text/html": [
       "<div>\n",
       "<style scoped>\n",
       "    .dataframe tbody tr th:only-of-type {\n",
       "        vertical-align: middle;\n",
       "    }\n",
       "\n",
       "    .dataframe tbody tr th {\n",
       "        vertical-align: top;\n",
       "    }\n",
       "\n",
       "    .dataframe thead th {\n",
       "        text-align: right;\n",
       "    }\n",
       "</style>\n",
       "<table border=\"1\" class=\"dataframe\">\n",
       "  <thead>\n",
       "    <tr style=\"text-align: right;\">\n",
       "      <th></th>\n",
       "      <th>a</th>\n",
       "      <th>b</th>\n",
       "    </tr>\n",
       "  </thead>\n",
       "  <tbody>\n",
       "    <tr>\n",
       "      <th>1</th>\n",
       "      <td>1.300</td>\n",
       "      <td>1.233</td>\n",
       "    </tr>\n",
       "    <tr>\n",
       "      <th>3</th>\n",
       "      <td>816.659m</td>\n",
       "      <td>-336.873m</td>\n",
       "    </tr>\n",
       "  </tbody>\n",
       "</table>\n",
       "</div>"
      ],
      "text/plain": [
       "          a         b\n",
       "1     1.300     1.233\n",
       "3  816.659m -336.873m"
      ]
     },
     "execution_count": 99,
     "metadata": {},
     "output_type": "execute_result"
    }
   ],
   "source": [
    "a = np.random.randn()\n",
    "df.query(\"@a < a\")"
   ]
  },
  {
   "cell_type": "code",
   "execution_count": 100,
   "id": "5d09ea25",
   "metadata": {},
   "outputs": [
    {
     "data": {
      "text/html": [
       "<div>\n",
       "<style scoped>\n",
       "    .dataframe tbody tr th:only-of-type {\n",
       "        vertical-align: middle;\n",
       "    }\n",
       "\n",
       "    .dataframe tbody tr th {\n",
       "        vertical-align: top;\n",
       "    }\n",
       "\n",
       "    .dataframe thead th {\n",
       "        text-align: right;\n",
       "    }\n",
       "</style>\n",
       "<table border=\"1\" class=\"dataframe\">\n",
       "  <thead>\n",
       "    <tr style=\"text-align: right;\">\n",
       "      <th></th>\n",
       "      <th>a</th>\n",
       "      <th>b</th>\n",
       "    </tr>\n",
       "  </thead>\n",
       "  <tbody>\n",
       "    <tr>\n",
       "      <th>1</th>\n",
       "      <td>1.300</td>\n",
       "      <td>1.233</td>\n",
       "    </tr>\n",
       "    <tr>\n",
       "      <th>3</th>\n",
       "      <td>816.659m</td>\n",
       "      <td>-336.873m</td>\n",
       "    </tr>\n",
       "  </tbody>\n",
       "</table>\n",
       "</div>"
      ],
      "text/plain": [
       "          a         b\n",
       "1     1.300     1.233\n",
       "3  816.659m -336.873m"
      ]
     },
     "execution_count": 100,
     "metadata": {},
     "output_type": "execute_result"
    }
   ],
   "source": [
    "df.loc[a < df[\"a\"]]  # same as the previous expression"
   ]
  },
  {
   "cell_type": "markdown",
   "id": "cfd84933",
   "metadata": {},
   "source": [
    "- **Warning**: pandas.eval() will raise an exception if you cannot use the @ prefix because it isn’t defined in that context."
   ]
  },
  {
   "cell_type": "code",
   "execution_count": 102,
   "id": "68fb9a46",
   "metadata": {},
   "outputs": [
    {
     "name": "stdout",
     "output_type": "stream",
     "text": [
      "The '@' prefix is not allowed in top-level eval calls.\n",
      "please refer to your variables by name without the '@' prefix.\n"
     ]
    }
   ],
   "source": [
    "a, b = 1, 2\n",
    "try:\n",
    "    pd.eval(\"@a + b\")\n",
    "except Exception as e:\n",
    "    print(e)"
   ]
  },
  {
   "cell_type": "code",
   "execution_count": 103,
   "id": "e805e17c",
   "metadata": {},
   "outputs": [
    {
     "data": {
      "text/plain": [
       "np.int64(3)"
      ]
     },
     "execution_count": 103,
     "metadata": {},
     "output_type": "execute_result"
    }
   ],
   "source": [
    "pd.eval(\"a + b\")"
   ]
  },
  {
   "cell_type": "markdown",
   "id": "a54d22bd",
   "metadata": {},
   "source": [
    "#### pandas.eval() parsers\n",
    "- There are two different expression syntax parsers.\n",
    "\n",
    "- The default 'pandas' parser allows a more intuitive syntax for expressing query-like operations (comparisons, conjunctions and disjunctions). In particular, the precedence of the & and | operators is made equal to the precedence of the corresponding boolean operations and and or.\n",
    "\n",
    "- For example, the above conjunction can be written without parentheses. Alternatively, you can use the 'python' parser to enforce strict Python semantics."
   ]
  },
  {
   "cell_type": "code",
   "execution_count": 104,
   "id": "f7b53ffd",
   "metadata": {},
   "outputs": [
    {
     "data": {
      "text/plain": [
       "np.True_"
      ]
     },
     "execution_count": 104,
     "metadata": {},
     "output_type": "execute_result"
    }
   ],
   "source": [
    "nrows, ncols = 20000, 100\n",
    "df1, df2, df3, df4 = [pd.DataFrame(np.random.randn(nrows, ncols)) for _ in range(4)]\n",
    "expr = \"(df1 > 0) & (df2 > 0) & (df3 > 0) & (df4 > 0)\"\n",
    "x = pd.eval(expr, parser=\"python\")\n",
    "expr_no_parens = \"df1 > 0 & df2 > 0 & df3 > 0 & df4 > 0\"\n",
    "y = pd.eval(expr_no_parens, parser=\"pandas\")\n",
    "\n",
    "np.all(x == y)\n"
   ]
  },
  {
   "cell_type": "markdown",
   "id": "9935a74d",
   "metadata": {},
   "source": [
    "- The same expression can be “anded” together with the word and as well:"
   ]
  },
  {
   "cell_type": "code",
   "execution_count": 105,
   "id": "1fff4622",
   "metadata": {},
   "outputs": [
    {
     "data": {
      "text/plain": [
       "np.True_"
      ]
     },
     "execution_count": 105,
     "metadata": {},
     "output_type": "execute_result"
    }
   ],
   "source": [
    "expr = \"(df1 > 0) & (df2 > 0) & (df3 > 0) & (df4 > 0)\"\n",
    "x = pd.eval(expr, parser=\"python\")\n",
    "expr_with_ands = \"df1 > 0 and df2 > 0 and df3 > 0 and df4 > 0\"\n",
    "y = pd.eval(expr_with_ands, parser=\"pandas\")\n",
    "np.all(x == y)"
   ]
  },
  {
   "cell_type": "markdown",
   "id": "66617f6b",
   "metadata": {},
   "source": [
    "- The and and or operators here have the same precedence that they would in Python.\n",
    "#### pandas.eval() engines\n",
    "- There are two different expression engines.\n",
    "\n",
    "- The 'numexpr' engine is the more performant engine that can yield performance improvements compared to standard Python syntax for large DataFrame. This engine requires the optional dependency numexpr to be installed.\n",
    "\n",
    "- The 'python' engine is generally not useful except for testing other evaluation engines against it. You will achieve no performance benefits using eval() with engine='python' and may incur a performance hit."
   ]
  },
  {
   "cell_type": "code",
   "execution_count": 106,
   "id": "c43c82ee",
   "metadata": {},
   "outputs": [
    {
     "name": "stdout",
     "output_type": "stream",
     "text": [
      "20.9 ms ± 1.05 ms per loop (mean ± std. dev. of 7 runs, 100 loops each)\n"
     ]
    }
   ],
   "source": [
    "%timeit df1 + df2 + df3 + df4"
   ]
  },
  {
   "cell_type": "code",
   "execution_count": 107,
   "id": "03140abb",
   "metadata": {},
   "outputs": [
    {
     "name": "stdout",
     "output_type": "stream",
     "text": [
      "20.7 ms ± 244 μs per loop (mean ± std. dev. of 7 runs, 10 loops each)\n"
     ]
    }
   ],
   "source": [
    "%timeit pd.eval(\"df1 + df2 + df3 + df4\", engine=\"python\")"
   ]
  },
  {
   "cell_type": "markdown",
   "id": "e960c434",
   "metadata": {},
   "source": [
    "#### The DataFrame.eval() method\n",
    "- In addition to the top level pandas.eval() function you can also evaluate an expression in the “context” of a DataFrame."
   ]
  },
  {
   "cell_type": "code",
   "execution_count": 108,
   "id": "88e443e3",
   "metadata": {},
   "outputs": [
    {
     "data": {
      "text/plain": [
       "0    275.278m\n",
       "1      -3.251\n",
       "2    761.283m\n",
       "3      -1.816\n",
       "4      -1.635\n",
       "dtype: float64"
      ]
     },
     "execution_count": 108,
     "metadata": {},
     "output_type": "execute_result"
    }
   ],
   "source": [
    "df = pd.DataFrame(np.random.randn(5, 2), columns=[\"a\", \"b\"])\n",
    "df.eval(\"a + b\")"
   ]
  },
  {
   "cell_type": "markdown",
   "id": "644da6f0",
   "metadata": {},
   "source": [
    "- Any expression that is a valid pandas.eval() expression is also a valid DataFrame.eval() expression, with the added benefit that you don’t have to prefix the name of the DataFrame to the column(s) you’re interested in evaluating.\n",
    "\n",
    "- In addition, you can perform assignment of columns within an expression. This allows for formulaic evaluation. The assignment target can be a new column name or an existing column name, and it must be a valid Python identifier."
   ]
  },
  {
   "cell_type": "code",
   "execution_count": 109,
   "id": "658dce7e",
   "metadata": {},
   "outputs": [
    {
     "data": {
      "text/html": [
       "<div>\n",
       "<style scoped>\n",
       "    .dataframe tbody tr th:only-of-type {\n",
       "        vertical-align: middle;\n",
       "    }\n",
       "\n",
       "    .dataframe tbody tr th {\n",
       "        vertical-align: top;\n",
       "    }\n",
       "\n",
       "    .dataframe thead th {\n",
       "        text-align: right;\n",
       "    }\n",
       "</style>\n",
       "<table border=\"1\" class=\"dataframe\">\n",
       "  <thead>\n",
       "    <tr style=\"text-align: right;\">\n",
       "      <th></th>\n",
       "      <th>a</th>\n",
       "      <th>b</th>\n",
       "      <th>c</th>\n",
       "      <th>d</th>\n",
       "    </tr>\n",
       "  </thead>\n",
       "  <tbody>\n",
       "    <tr>\n",
       "      <th>0</th>\n",
       "      <td>1</td>\n",
       "      <td>5</td>\n",
       "      <td>5</td>\n",
       "      <td>10</td>\n",
       "    </tr>\n",
       "    <tr>\n",
       "      <th>1</th>\n",
       "      <td>1</td>\n",
       "      <td>6</td>\n",
       "      <td>7</td>\n",
       "      <td>14</td>\n",
       "    </tr>\n",
       "    <tr>\n",
       "      <th>2</th>\n",
       "      <td>1</td>\n",
       "      <td>7</td>\n",
       "      <td>9</td>\n",
       "      <td>18</td>\n",
       "    </tr>\n",
       "    <tr>\n",
       "      <th>3</th>\n",
       "      <td>1</td>\n",
       "      <td>8</td>\n",
       "      <td>11</td>\n",
       "      <td>22</td>\n",
       "    </tr>\n",
       "    <tr>\n",
       "      <th>4</th>\n",
       "      <td>1</td>\n",
       "      <td>9</td>\n",
       "      <td>13</td>\n",
       "      <td>26</td>\n",
       "    </tr>\n",
       "  </tbody>\n",
       "</table>\n",
       "</div>"
      ],
      "text/plain": [
       "   a  b   c   d\n",
       "0  1  5   5  10\n",
       "1  1  6   7  14\n",
       "2  1  7   9  18\n",
       "3  1  8  11  22\n",
       "4  1  9  13  26"
      ]
     },
     "execution_count": 109,
     "metadata": {},
     "output_type": "execute_result"
    }
   ],
   "source": [
    "df = pd.DataFrame(dict(a=range(5), b=range(5, 10)))\n",
    "df = df.eval(\"c = a + b\")\n",
    "df = df.eval(\"d = a + b + c\")\n",
    "df = df.eval(\"a = 1\")\n",
    "df"
   ]
  },
  {
   "cell_type": "markdown",
   "id": "5cb61bc0",
   "metadata": {},
   "source": [
    "- A copy of the DataFrame with the new or modified columns is returned, and the original frame is unchanged."
   ]
  },
  {
   "cell_type": "code",
   "execution_count": 110,
   "id": "caa4bbcd",
   "metadata": {},
   "outputs": [
    {
     "data": {
      "text/html": [
       "<div>\n",
       "<style scoped>\n",
       "    .dataframe tbody tr th:only-of-type {\n",
       "        vertical-align: middle;\n",
       "    }\n",
       "\n",
       "    .dataframe tbody tr th {\n",
       "        vertical-align: top;\n",
       "    }\n",
       "\n",
       "    .dataframe thead th {\n",
       "        text-align: right;\n",
       "    }\n",
       "</style>\n",
       "<table border=\"1\" class=\"dataframe\">\n",
       "  <thead>\n",
       "    <tr style=\"text-align: right;\">\n",
       "      <th></th>\n",
       "      <th>a</th>\n",
       "      <th>b</th>\n",
       "      <th>c</th>\n",
       "      <th>d</th>\n",
       "    </tr>\n",
       "  </thead>\n",
       "  <tbody>\n",
       "    <tr>\n",
       "      <th>0</th>\n",
       "      <td>1</td>\n",
       "      <td>5</td>\n",
       "      <td>5</td>\n",
       "      <td>10</td>\n",
       "    </tr>\n",
       "    <tr>\n",
       "      <th>1</th>\n",
       "      <td>1</td>\n",
       "      <td>6</td>\n",
       "      <td>7</td>\n",
       "      <td>14</td>\n",
       "    </tr>\n",
       "    <tr>\n",
       "      <th>2</th>\n",
       "      <td>1</td>\n",
       "      <td>7</td>\n",
       "      <td>9</td>\n",
       "      <td>18</td>\n",
       "    </tr>\n",
       "    <tr>\n",
       "      <th>3</th>\n",
       "      <td>1</td>\n",
       "      <td>8</td>\n",
       "      <td>11</td>\n",
       "      <td>22</td>\n",
       "    </tr>\n",
       "    <tr>\n",
       "      <th>4</th>\n",
       "      <td>1</td>\n",
       "      <td>9</td>\n",
       "      <td>13</td>\n",
       "      <td>26</td>\n",
       "    </tr>\n",
       "  </tbody>\n",
       "</table>\n",
       "</div>"
      ],
      "text/plain": [
       "   a  b   c   d\n",
       "0  1  5   5  10\n",
       "1  1  6   7  14\n",
       "2  1  7   9  18\n",
       "3  1  8  11  22\n",
       "4  1  9  13  26"
      ]
     },
     "execution_count": 110,
     "metadata": {},
     "output_type": "execute_result"
    }
   ],
   "source": [
    "df"
   ]
  },
  {
   "cell_type": "code",
   "execution_count": 111,
   "id": "08267440",
   "metadata": {},
   "outputs": [
    {
     "data": {
      "text/html": [
       "<div>\n",
       "<style scoped>\n",
       "    .dataframe tbody tr th:only-of-type {\n",
       "        vertical-align: middle;\n",
       "    }\n",
       "\n",
       "    .dataframe tbody tr th {\n",
       "        vertical-align: top;\n",
       "    }\n",
       "\n",
       "    .dataframe thead th {\n",
       "        text-align: right;\n",
       "    }\n",
       "</style>\n",
       "<table border=\"1\" class=\"dataframe\">\n",
       "  <thead>\n",
       "    <tr style=\"text-align: right;\">\n",
       "      <th></th>\n",
       "      <th>a</th>\n",
       "      <th>b</th>\n",
       "      <th>c</th>\n",
       "      <th>d</th>\n",
       "      <th>e</th>\n",
       "    </tr>\n",
       "  </thead>\n",
       "  <tbody>\n",
       "    <tr>\n",
       "      <th>0</th>\n",
       "      <td>1</td>\n",
       "      <td>5</td>\n",
       "      <td>5</td>\n",
       "      <td>10</td>\n",
       "      <td>-4</td>\n",
       "    </tr>\n",
       "    <tr>\n",
       "      <th>1</th>\n",
       "      <td>1</td>\n",
       "      <td>6</td>\n",
       "      <td>7</td>\n",
       "      <td>14</td>\n",
       "      <td>-6</td>\n",
       "    </tr>\n",
       "    <tr>\n",
       "      <th>2</th>\n",
       "      <td>1</td>\n",
       "      <td>7</td>\n",
       "      <td>9</td>\n",
       "      <td>18</td>\n",
       "      <td>-8</td>\n",
       "    </tr>\n",
       "    <tr>\n",
       "      <th>3</th>\n",
       "      <td>1</td>\n",
       "      <td>8</td>\n",
       "      <td>11</td>\n",
       "      <td>22</td>\n",
       "      <td>-10</td>\n",
       "    </tr>\n",
       "    <tr>\n",
       "      <th>4</th>\n",
       "      <td>1</td>\n",
       "      <td>9</td>\n",
       "      <td>13</td>\n",
       "      <td>26</td>\n",
       "      <td>-12</td>\n",
       "    </tr>\n",
       "  </tbody>\n",
       "</table>\n",
       "</div>"
      ],
      "text/plain": [
       "   a  b   c   d   e\n",
       "0  1  5   5  10  -4\n",
       "1  1  6   7  14  -6\n",
       "2  1  7   9  18  -8\n",
       "3  1  8  11  22 -10\n",
       "4  1  9  13  26 -12"
      ]
     },
     "execution_count": 111,
     "metadata": {},
     "output_type": "execute_result"
    }
   ],
   "source": [
    "df.eval(\"e = a - c\")"
   ]
  },
  {
   "cell_type": "code",
   "execution_count": 112,
   "id": "bafed4da",
   "metadata": {},
   "outputs": [
    {
     "data": {
      "text/html": [
       "<div>\n",
       "<style scoped>\n",
       "    .dataframe tbody tr th:only-of-type {\n",
       "        vertical-align: middle;\n",
       "    }\n",
       "\n",
       "    .dataframe tbody tr th {\n",
       "        vertical-align: top;\n",
       "    }\n",
       "\n",
       "    .dataframe thead th {\n",
       "        text-align: right;\n",
       "    }\n",
       "</style>\n",
       "<table border=\"1\" class=\"dataframe\">\n",
       "  <thead>\n",
       "    <tr style=\"text-align: right;\">\n",
       "      <th></th>\n",
       "      <th>a</th>\n",
       "      <th>b</th>\n",
       "      <th>c</th>\n",
       "      <th>d</th>\n",
       "    </tr>\n",
       "  </thead>\n",
       "  <tbody>\n",
       "    <tr>\n",
       "      <th>0</th>\n",
       "      <td>1</td>\n",
       "      <td>5</td>\n",
       "      <td>5</td>\n",
       "      <td>10</td>\n",
       "    </tr>\n",
       "    <tr>\n",
       "      <th>1</th>\n",
       "      <td>1</td>\n",
       "      <td>6</td>\n",
       "      <td>7</td>\n",
       "      <td>14</td>\n",
       "    </tr>\n",
       "    <tr>\n",
       "      <th>2</th>\n",
       "      <td>1</td>\n",
       "      <td>7</td>\n",
       "      <td>9</td>\n",
       "      <td>18</td>\n",
       "    </tr>\n",
       "    <tr>\n",
       "      <th>3</th>\n",
       "      <td>1</td>\n",
       "      <td>8</td>\n",
       "      <td>11</td>\n",
       "      <td>22</td>\n",
       "    </tr>\n",
       "    <tr>\n",
       "      <th>4</th>\n",
       "      <td>1</td>\n",
       "      <td>9</td>\n",
       "      <td>13</td>\n",
       "      <td>26</td>\n",
       "    </tr>\n",
       "  </tbody>\n",
       "</table>\n",
       "</div>"
      ],
      "text/plain": [
       "   a  b   c   d\n",
       "0  1  5   5  10\n",
       "1  1  6   7  14\n",
       "2  1  7   9  18\n",
       "3  1  8  11  22\n",
       "4  1  9  13  26"
      ]
     },
     "execution_count": 112,
     "metadata": {},
     "output_type": "execute_result"
    }
   ],
   "source": [
    "df"
   ]
  },
  {
   "cell_type": "markdown",
   "id": "35051870",
   "metadata": {},
   "source": [
    "- Multiple column assignments can be performed by using a multi-line string."
   ]
  },
  {
   "cell_type": "code",
   "execution_count": 113,
   "id": "0d20fbe8",
   "metadata": {},
   "outputs": [
    {
     "data": {
      "text/html": [
       "<div>\n",
       "<style scoped>\n",
       "    .dataframe tbody tr th:only-of-type {\n",
       "        vertical-align: middle;\n",
       "    }\n",
       "\n",
       "    .dataframe tbody tr th {\n",
       "        vertical-align: top;\n",
       "    }\n",
       "\n",
       "    .dataframe thead th {\n",
       "        text-align: right;\n",
       "    }\n",
       "</style>\n",
       "<table border=\"1\" class=\"dataframe\">\n",
       "  <thead>\n",
       "    <tr style=\"text-align: right;\">\n",
       "      <th></th>\n",
       "      <th>a</th>\n",
       "      <th>b</th>\n",
       "      <th>c</th>\n",
       "      <th>d</th>\n",
       "    </tr>\n",
       "  </thead>\n",
       "  <tbody>\n",
       "    <tr>\n",
       "      <th>0</th>\n",
       "      <td>1</td>\n",
       "      <td>5</td>\n",
       "      <td>6</td>\n",
       "      <td>12</td>\n",
       "    </tr>\n",
       "    <tr>\n",
       "      <th>1</th>\n",
       "      <td>1</td>\n",
       "      <td>6</td>\n",
       "      <td>7</td>\n",
       "      <td>14</td>\n",
       "    </tr>\n",
       "    <tr>\n",
       "      <th>2</th>\n",
       "      <td>1</td>\n",
       "      <td>7</td>\n",
       "      <td>8</td>\n",
       "      <td>16</td>\n",
       "    </tr>\n",
       "    <tr>\n",
       "      <th>3</th>\n",
       "      <td>1</td>\n",
       "      <td>8</td>\n",
       "      <td>9</td>\n",
       "      <td>18</td>\n",
       "    </tr>\n",
       "    <tr>\n",
       "      <th>4</th>\n",
       "      <td>1</td>\n",
       "      <td>9</td>\n",
       "      <td>10</td>\n",
       "      <td>20</td>\n",
       "    </tr>\n",
       "  </tbody>\n",
       "</table>\n",
       "</div>"
      ],
      "text/plain": [
       "   a  b   c   d\n",
       "0  1  5   6  12\n",
       "1  1  6   7  14\n",
       "2  1  7   8  16\n",
       "3  1  8   9  18\n",
       "4  1  9  10  20"
      ]
     },
     "execution_count": 113,
     "metadata": {},
     "output_type": "execute_result"
    }
   ],
   "source": [
    "df.eval(\n",
    "    \"\"\"\n",
    "c = a + b\n",
    "d = a + b + c\n",
    "a = 1\"\"\",\n",
    ")"
   ]
  },
  {
   "cell_type": "markdown",
   "id": "3fa503b9",
   "metadata": {},
   "source": [
    "- The equivalent in standard Python would be"
   ]
  },
  {
   "cell_type": "code",
   "execution_count": 114,
   "id": "1572ebf0",
   "metadata": {},
   "outputs": [
    {
     "data": {
      "text/html": [
       "<div>\n",
       "<style scoped>\n",
       "    .dataframe tbody tr th:only-of-type {\n",
       "        vertical-align: middle;\n",
       "    }\n",
       "\n",
       "    .dataframe tbody tr th {\n",
       "        vertical-align: top;\n",
       "    }\n",
       "\n",
       "    .dataframe thead th {\n",
       "        text-align: right;\n",
       "    }\n",
       "</style>\n",
       "<table border=\"1\" class=\"dataframe\">\n",
       "  <thead>\n",
       "    <tr style=\"text-align: right;\">\n",
       "      <th></th>\n",
       "      <th>a</th>\n",
       "      <th>b</th>\n",
       "      <th>c</th>\n",
       "      <th>d</th>\n",
       "    </tr>\n",
       "  </thead>\n",
       "  <tbody>\n",
       "    <tr>\n",
       "      <th>0</th>\n",
       "      <td>1</td>\n",
       "      <td>5</td>\n",
       "      <td>5</td>\n",
       "      <td>10</td>\n",
       "    </tr>\n",
       "    <tr>\n",
       "      <th>1</th>\n",
       "      <td>1</td>\n",
       "      <td>6</td>\n",
       "      <td>7</td>\n",
       "      <td>14</td>\n",
       "    </tr>\n",
       "    <tr>\n",
       "      <th>2</th>\n",
       "      <td>1</td>\n",
       "      <td>7</td>\n",
       "      <td>9</td>\n",
       "      <td>18</td>\n",
       "    </tr>\n",
       "    <tr>\n",
       "      <th>3</th>\n",
       "      <td>1</td>\n",
       "      <td>8</td>\n",
       "      <td>11</td>\n",
       "      <td>22</td>\n",
       "    </tr>\n",
       "    <tr>\n",
       "      <th>4</th>\n",
       "      <td>1</td>\n",
       "      <td>9</td>\n",
       "      <td>13</td>\n",
       "      <td>26</td>\n",
       "    </tr>\n",
       "  </tbody>\n",
       "</table>\n",
       "</div>"
      ],
      "text/plain": [
       "   a  b   c   d\n",
       "0  1  5   5  10\n",
       "1  1  6   7  14\n",
       "2  1  7   9  18\n",
       "3  1  8  11  22\n",
       "4  1  9  13  26"
      ]
     },
     "execution_count": 114,
     "metadata": {},
     "output_type": "execute_result"
    }
   ],
   "source": [
    "df = pd.DataFrame(dict(a=range(5), b=range(5, 10)))\n",
    "df[\"c\"] = df[\"a\"] + df[\"b\"]\n",
    "df[\"d\"] = df[\"a\"] + df[\"b\"] + df[\"c\"]\n",
    "df[\"a\"] = 1\n",
    "df\n"
   ]
  },
  {
   "cell_type": "markdown",
   "id": "6220c40a",
   "metadata": {},
   "source": [
    "#### eval() performance comparison\n",
    "- pandas.eval() works well with expressions containing large arrays."
   ]
  },
  {
   "cell_type": "code",
   "execution_count": 115,
   "id": "4097b2fe",
   "metadata": {},
   "outputs": [],
   "source": [
    "nrows, ncols = 20000, 100\n",
    "df1, df2, df3, df4 = [pd.DataFrame(np.random.randn(nrows, ncols)) for _ in range(4)]\n"
   ]
  },
  {
   "cell_type": "markdown",
   "id": "ba9e3ecb",
   "metadata": {},
   "source": [
    "- DataFrame arithmetic:"
   ]
  },
  {
   "cell_type": "code",
   "execution_count": 116,
   "id": "4674f3b6",
   "metadata": {},
   "outputs": [
    {
     "name": "stdout",
     "output_type": "stream",
     "text": [
      "20.9 ms ± 534 μs per loop (mean ± std. dev. of 7 runs, 10 loops each)\n"
     ]
    }
   ],
   "source": [
    "%timeit df1 + df2 + df3 + df4"
   ]
  },
  {
   "cell_type": "code",
   "execution_count": 117,
   "id": "e45c65bf",
   "metadata": {},
   "outputs": [
    {
     "name": "stdout",
     "output_type": "stream",
     "text": [
      "8.25 ms ± 649 μs per loop (mean ± std. dev. of 7 runs, 100 loops each)\n"
     ]
    }
   ],
   "source": [
    "%timeit pd.eval(\"df1 + df2 + df3 + df4\")"
   ]
  },
  {
   "cell_type": "markdown",
   "id": "7d05a5b6",
   "metadata": {},
   "source": [
    "- DataFrame comparison:"
   ]
  },
  {
   "cell_type": "code",
   "execution_count": 118,
   "id": "6b28b0a4",
   "metadata": {},
   "outputs": [
    {
     "name": "stdout",
     "output_type": "stream",
     "text": [
      "15.8 ms ± 1.71 ms per loop (mean ± std. dev. of 7 runs, 100 loops each)\n"
     ]
    }
   ],
   "source": [
    "%timeit (df1 > 0) & (df2 > 0) & (df3 > 0) & (df4 > 0)\n"
   ]
  },
  {
   "cell_type": "code",
   "execution_count": 119,
   "id": "45a65ece",
   "metadata": {},
   "outputs": [
    {
     "name": "stdout",
     "output_type": "stream",
     "text": [
      "6.85 ms ± 535 μs per loop (mean ± std. dev. of 7 runs, 100 loops each)\n"
     ]
    }
   ],
   "source": [
    "%timeit pd.eval(\"(df1 > 0) & (df2 > 0) & (df3 > 0) & (df4 > 0)\")\n"
   ]
  },
  {
   "cell_type": "markdown",
   "id": "4aade2fb",
   "metadata": {},
   "source": [
    "- DataFrame arithmetic with unaligned axes."
   ]
  },
  {
   "cell_type": "code",
   "execution_count": 120,
   "id": "d197b9ce",
   "metadata": {},
   "outputs": [
    {
     "name": "stdout",
     "output_type": "stream",
     "text": [
      "32.1 ms ± 577 μs per loop (mean ± std. dev. of 7 runs, 10 loops each)\n"
     ]
    }
   ],
   "source": [
    "s = pd.Series(np.random.randn(50))\n",
    "%timeit df1 + df2 + df3 + df4 + s"
   ]
  },
  {
   "cell_type": "code",
   "execution_count": 121,
   "id": "e8c4e697",
   "metadata": {},
   "outputs": [
    {
     "name": "stdout",
     "output_type": "stream",
     "text": [
      "8.56 ms ± 539 μs per loop (mean ± std. dev. of 7 runs, 100 loops each)\n"
     ]
    }
   ],
   "source": [
    "%timeit pd.eval(\"df1 + df2 + df3 + df4 + s\")"
   ]
  },
  {
   "cell_type": "markdown",
   "id": "fcb29a8f",
   "metadata": {},
   "source": [
    "- **Note**: Operations such as\n",
    "```\n",
    "1 and 2  # would parse to 1 & 2, but should evaluate to 2\n",
    "3 or 4  # would parse to 3 | 4, but should evaluate to 3\n",
    "~1  # this is okay, but slower when using eval\n",
    "```\n",
    "- should be performed in Python. An exception will be raised if you try to perform any boolean/bitwise operations with scalar operands that are not of type bool or np.bool_.\n",
    "\n",
    "- Here is a plot showing the running time of pandas.eval() as function of the size of the frame involved in the computation. The two lines are two different engines.\n",
    "\n",
    "- You will only see the performance benefits of using the numexpr engine with pandas.eval() if your DataFrame has more than approximately 100,000 rows.\n",
    "\n",
    "- This plot was created using a DataFrame with 3 columns each containing floating point values generated using numpy.random.randn().\n",
    "\n",
    "- Expression evaluation limitations with numexpr\n",
    "Expressions that would result in an object dtype or involve datetime operations because of NaT must be evaluated in Python space, but part of an expression can still be evaluated with numexpr. For example:"
   ]
  },
  {
   "cell_type": "code",
   "execution_count": 122,
   "id": "38772c5e",
   "metadata": {},
   "outputs": [
    {
     "data": {
      "text/html": [
       "<div>\n",
       "<style scoped>\n",
       "    .dataframe tbody tr th:only-of-type {\n",
       "        vertical-align: middle;\n",
       "    }\n",
       "\n",
       "    .dataframe tbody tr th {\n",
       "        vertical-align: top;\n",
       "    }\n",
       "\n",
       "    .dataframe thead th {\n",
       "        text-align: right;\n",
       "    }\n",
       "</style>\n",
       "<table border=\"1\" class=\"dataframe\">\n",
       "  <thead>\n",
       "    <tr style=\"text-align: right;\">\n",
       "      <th></th>\n",
       "      <th>strings</th>\n",
       "      <th>nums</th>\n",
       "    </tr>\n",
       "  </thead>\n",
       "  <tbody>\n",
       "    <tr>\n",
       "      <th>0</th>\n",
       "      <td>c</td>\n",
       "      <td>0</td>\n",
       "    </tr>\n",
       "    <tr>\n",
       "      <th>1</th>\n",
       "      <td>c</td>\n",
       "      <td>0</td>\n",
       "    </tr>\n",
       "    <tr>\n",
       "      <th>2</th>\n",
       "      <td>c</td>\n",
       "      <td>0</td>\n",
       "    </tr>\n",
       "    <tr>\n",
       "      <th>3</th>\n",
       "      <td>b</td>\n",
       "      <td>1</td>\n",
       "    </tr>\n",
       "    <tr>\n",
       "      <th>4</th>\n",
       "      <td>b</td>\n",
       "      <td>1</td>\n",
       "    </tr>\n",
       "    <tr>\n",
       "      <th>5</th>\n",
       "      <td>b</td>\n",
       "      <td>1</td>\n",
       "    </tr>\n",
       "    <tr>\n",
       "      <th>6</th>\n",
       "      <td>a</td>\n",
       "      <td>2</td>\n",
       "    </tr>\n",
       "    <tr>\n",
       "      <th>7</th>\n",
       "      <td>a</td>\n",
       "      <td>2</td>\n",
       "    </tr>\n",
       "    <tr>\n",
       "      <th>8</th>\n",
       "      <td>a</td>\n",
       "      <td>2</td>\n",
       "    </tr>\n",
       "  </tbody>\n",
       "</table>\n",
       "</div>"
      ],
      "text/plain": [
       "  strings  nums\n",
       "0       c     0\n",
       "1       c     0\n",
       "2       c     0\n",
       "3       b     1\n",
       "4       b     1\n",
       "5       b     1\n",
       "6       a     2\n",
       "7       a     2\n",
       "8       a     2"
      ]
     },
     "execution_count": 122,
     "metadata": {},
     "output_type": "execute_result"
    }
   ],
   "source": [
    "df = pd.DataFrame(\n",
    "    {\"strings\": np.repeat(list(\"cba\"), 3), \"nums\": np.repeat(range(3), 3)}\n",
    ")\n",
    "df"
   ]
  },
  {
   "cell_type": "code",
   "execution_count": 123,
   "id": "f14b5f7a",
   "metadata": {},
   "outputs": [
    {
     "data": {
      "text/html": [
       "<div>\n",
       "<style scoped>\n",
       "    .dataframe tbody tr th:only-of-type {\n",
       "        vertical-align: middle;\n",
       "    }\n",
       "\n",
       "    .dataframe tbody tr th {\n",
       "        vertical-align: top;\n",
       "    }\n",
       "\n",
       "    .dataframe thead th {\n",
       "        text-align: right;\n",
       "    }\n",
       "</style>\n",
       "<table border=\"1\" class=\"dataframe\">\n",
       "  <thead>\n",
       "    <tr style=\"text-align: right;\">\n",
       "      <th></th>\n",
       "      <th>strings</th>\n",
       "      <th>nums</th>\n",
       "    </tr>\n",
       "  </thead>\n",
       "  <tbody>\n",
       "  </tbody>\n",
       "</table>\n",
       "</div>"
      ],
      "text/plain": [
       "Empty DataFrame\n",
       "Columns: [strings, nums]\n",
       "Index: []"
      ]
     },
     "execution_count": 123,
     "metadata": {},
     "output_type": "execute_result"
    }
   ],
   "source": [
    "df.query(\"strings == 'a' and nums == 1\")"
   ]
  },
  {
   "cell_type": "markdown",
   "id": "7c9c8b37",
   "metadata": {},
   "source": [
    "- The numeric part of the comparison (nums == 1) will be evaluated by numexpr and the object part of the comparison (\"strings == 'a') will be evaluated by Python."
   ]
  },
  {
   "cell_type": "markdown",
   "id": "5b41b300",
   "metadata": {},
   "source": [
    "### Scaling to large datasets\n",
    "- From https://pandas.pydata.org/docs/user_guide/scale.html\n",
    "- pandas provides data structures for in-memory analytics, which makes using pandas to analyze datasets that are larger than memory datasets somewhat tricky. Even datasets that are a sizable fraction of memory become unwieldy, as some pandas operations need to make intermediate copies.\n",
    "\n",
    "- This document provides a few recommendations for scaling your analysis to larger datasets. It’s a complement to Enhancing performance, which focuses on speeding up analysis for datasets that fit in memory.\n",
    "\n",
    "#### Load less data\n",
    "- Suppose our raw dataset on disk has many columns."
   ]
  },
  {
   "cell_type": "code",
   "execution_count": 124,
   "id": "d588194d",
   "metadata": {},
   "outputs": [
    {
     "data": {
      "text/html": [
       "<div>\n",
       "<style scoped>\n",
       "    .dataframe tbody tr th:only-of-type {\n",
       "        vertical-align: middle;\n",
       "    }\n",
       "\n",
       "    .dataframe tbody tr th {\n",
       "        vertical-align: top;\n",
       "    }\n",
       "\n",
       "    .dataframe thead th {\n",
       "        text-align: right;\n",
       "    }\n",
       "</style>\n",
       "<table border=\"1\" class=\"dataframe\">\n",
       "  <thead>\n",
       "    <tr style=\"text-align: right;\">\n",
       "      <th></th>\n",
       "      <th>id_0</th>\n",
       "      <th>name_0</th>\n",
       "      <th>x_0</th>\n",
       "      <th>y_0</th>\n",
       "      <th>id_1</th>\n",
       "      <th>name_1</th>\n",
       "      <th>x_1</th>\n",
       "      <th>y_1</th>\n",
       "      <th>id_2</th>\n",
       "      <th>name_2</th>\n",
       "      <th>...</th>\n",
       "      <th>x_7</th>\n",
       "      <th>y_7</th>\n",
       "      <th>id_8</th>\n",
       "      <th>name_8</th>\n",
       "      <th>x_8</th>\n",
       "      <th>y_8</th>\n",
       "      <th>id_9</th>\n",
       "      <th>name_9</th>\n",
       "      <th>x_9</th>\n",
       "      <th>y_9</th>\n",
       "    </tr>\n",
       "    <tr>\n",
       "      <th>timestamp</th>\n",
       "      <th></th>\n",
       "      <th></th>\n",
       "      <th></th>\n",
       "      <th></th>\n",
       "      <th></th>\n",
       "      <th></th>\n",
       "      <th></th>\n",
       "      <th></th>\n",
       "      <th></th>\n",
       "      <th></th>\n",
       "      <th></th>\n",
       "      <th></th>\n",
       "      <th></th>\n",
       "      <th></th>\n",
       "      <th></th>\n",
       "      <th></th>\n",
       "      <th></th>\n",
       "      <th></th>\n",
       "      <th></th>\n",
       "      <th></th>\n",
       "      <th></th>\n",
       "    </tr>\n",
       "  </thead>\n",
       "  <tbody>\n",
       "    <tr>\n",
       "      <th>2000-01-01 00:00:00</th>\n",
       "      <td>977</td>\n",
       "      <td>Alice</td>\n",
       "      <td>-821.225m</td>\n",
       "      <td>906.222m</td>\n",
       "      <td>975</td>\n",
       "      <td>Bob</td>\n",
       "      <td>-288.451m</td>\n",
       "      <td>-215.082m</td>\n",
       "      <td>1047</td>\n",
       "      <td>Alice</td>\n",
       "      <td>...</td>\n",
       "      <td>-371.775m</td>\n",
       "      <td>697.468m</td>\n",
       "      <td>1048</td>\n",
       "      <td>Alice</td>\n",
       "      <td>403.201m</td>\n",
       "      <td>-756.503m</td>\n",
       "      <td>1025</td>\n",
       "      <td>Charlie</td>\n",
       "      <td>-957.208m</td>\n",
       "      <td>-757.508m</td>\n",
       "    </tr>\n",
       "    <tr>\n",
       "      <th>2000-01-01 00:01:00</th>\n",
       "      <td>1018</td>\n",
       "      <td>Bob</td>\n",
       "      <td>-219.182m</td>\n",
       "      <td>350.855m</td>\n",
       "      <td>1032</td>\n",
       "      <td>Alice</td>\n",
       "      <td>919.521m</td>\n",
       "      <td>-338.915m</td>\n",
       "      <td>1043</td>\n",
       "      <td>Bob</td>\n",
       "      <td>...</td>\n",
       "      <td>-570.205m</td>\n",
       "      <td>-473.155m</td>\n",
       "      <td>1037</td>\n",
       "      <td>Bob</td>\n",
       "      <td>-690.994m</td>\n",
       "      <td>-623.366m</td>\n",
       "      <td>981</td>\n",
       "      <td>Alice</td>\n",
       "      <td>-414.445m</td>\n",
       "      <td>-100.298m</td>\n",
       "    </tr>\n",
       "    <tr>\n",
       "      <th>2000-01-01 00:02:00</th>\n",
       "      <td>927</td>\n",
       "      <td>Alice</td>\n",
       "      <td>660.908m</td>\n",
       "      <td>-798.511m</td>\n",
       "      <td>967</td>\n",
       "      <td>Alice</td>\n",
       "      <td>628.664m</td>\n",
       "      <td>763.875m</td>\n",
       "      <td>963</td>\n",
       "      <td>Alice</td>\n",
       "      <td>...</td>\n",
       "      <td>-690.044m</td>\n",
       "      <td>-912.261m</td>\n",
       "      <td>987</td>\n",
       "      <td>Bob</td>\n",
       "      <td>656.727m</td>\n",
       "      <td>579.849m</td>\n",
       "      <td>923</td>\n",
       "      <td>Charlie</td>\n",
       "      <td>-325.838m</td>\n",
       "      <td>581.859m</td>\n",
       "    </tr>\n",
       "    <tr>\n",
       "      <th>2000-01-01 00:03:00</th>\n",
       "      <td>997</td>\n",
       "      <td>Bob</td>\n",
       "      <td>-852.458m</td>\n",
       "      <td>735.260m</td>\n",
       "      <td>1021</td>\n",
       "      <td>Bob</td>\n",
       "      <td>995.494m</td>\n",
       "      <td>514.133m</td>\n",
       "      <td>952</td>\n",
       "      <td>Charlie</td>\n",
       "      <td>...</td>\n",
       "      <td>-397.596m</td>\n",
       "      <td>248.303m</td>\n",
       "      <td>1013</td>\n",
       "      <td>Bob</td>\n",
       "      <td>-132.701m</td>\n",
       "      <td>-173.416m</td>\n",
       "      <td>1042</td>\n",
       "      <td>Bob</td>\n",
       "      <td>992.033m</td>\n",
       "      <td>-686.692m</td>\n",
       "    </tr>\n",
       "    <tr>\n",
       "      <th>2000-01-01 00:04:00</th>\n",
       "      <td>965</td>\n",
       "      <td>Bob</td>\n",
       "      <td>717.283m</td>\n",
       "      <td>393.391m</td>\n",
       "      <td>1011</td>\n",
       "      <td>Bob</td>\n",
       "      <td>-143.403m</td>\n",
       "      <td>-282.985m</td>\n",
       "      <td>973</td>\n",
       "      <td>Charlie</td>\n",
       "      <td>...</td>\n",
       "      <td>574.683m</td>\n",
       "      <td>-764.567m</td>\n",
       "      <td>1010</td>\n",
       "      <td>Charlie</td>\n",
       "      <td>-741.446m</td>\n",
       "      <td>-886.785m</td>\n",
       "      <td>964</td>\n",
       "      <td>Charlie</td>\n",
       "      <td>-924.556m</td>\n",
       "      <td>-184.161m</td>\n",
       "    </tr>\n",
       "  </tbody>\n",
       "</table>\n",
       "<p>5 rows × 40 columns</p>\n",
       "</div>"
      ],
      "text/plain": [
       "                     id_0 name_0       x_0       y_0  id_1 name_1       x_1  \\\n",
       "timestamp                                                                     \n",
       "2000-01-01 00:00:00   977  Alice -821.225m  906.222m   975    Bob -288.451m   \n",
       "2000-01-01 00:01:00  1018    Bob -219.182m  350.855m  1032  Alice  919.521m   \n",
       "2000-01-01 00:02:00   927  Alice  660.908m -798.511m   967  Alice  628.664m   \n",
       "2000-01-01 00:03:00   997    Bob -852.458m  735.260m  1021    Bob  995.494m   \n",
       "2000-01-01 00:04:00   965    Bob  717.283m  393.391m  1011    Bob -143.403m   \n",
       "\n",
       "                          y_1  id_2   name_2  ...       x_7       y_7  id_8  \\\n",
       "timestamp                                     ...                             \n",
       "2000-01-01 00:00:00 -215.082m  1047    Alice  ... -371.775m  697.468m  1048   \n",
       "2000-01-01 00:01:00 -338.915m  1043      Bob  ... -570.205m -473.155m  1037   \n",
       "2000-01-01 00:02:00  763.875m   963    Alice  ... -690.044m -912.261m   987   \n",
       "2000-01-01 00:03:00  514.133m   952  Charlie  ... -397.596m  248.303m  1013   \n",
       "2000-01-01 00:04:00 -282.985m   973  Charlie  ...  574.683m -764.567m  1010   \n",
       "\n",
       "                      name_8       x_8       y_8  id_9   name_9       x_9  \\\n",
       "timestamp                                                                   \n",
       "2000-01-01 00:00:00    Alice  403.201m -756.503m  1025  Charlie -957.208m   \n",
       "2000-01-01 00:01:00      Bob -690.994m -623.366m   981    Alice -414.445m   \n",
       "2000-01-01 00:02:00      Bob  656.727m  579.849m   923  Charlie -325.838m   \n",
       "2000-01-01 00:03:00      Bob -132.701m -173.416m  1042      Bob  992.033m   \n",
       "2000-01-01 00:04:00  Charlie -741.446m -886.785m   964  Charlie -924.556m   \n",
       "\n",
       "                          y_9  \n",
       "timestamp                      \n",
       "2000-01-01 00:00:00 -757.508m  \n",
       "2000-01-01 00:01:00 -100.298m  \n",
       "2000-01-01 00:02:00  581.859m  \n",
       "2000-01-01 00:03:00 -686.692m  \n",
       "2000-01-01 00:04:00 -184.161m  \n",
       "\n",
       "[5 rows x 40 columns]"
      ]
     },
     "execution_count": 124,
     "metadata": {},
     "output_type": "execute_result"
    }
   ],
   "source": [
    "def make_timeseries(start=\"2000-01-01\", end=\"2000-12-31\", freq=\"1D\", seed=None):\n",
    "    index = pd.date_range(start=start, end=end, freq=freq, name=\"timestamp\")\n",
    "    n = len(index)\n",
    "    state = np.random.RandomState(seed)\n",
    "    columns = {\n",
    "        \"name\": state.choice([\"Alice\", \"Bob\", \"Charlie\"], size=n),\n",
    "        \"id\": state.poisson(1000, size=n),\n",
    "        \"x\": state.rand(n) * 2 - 1,\n",
    "        \"y\": state.rand(n) * 2 - 1,\n",
    "    }\n",
    "    df = pd.DataFrame(columns, index=index, columns=sorted(columns))\n",
    "    if df.index[-1] == end:\n",
    "        df = df.iloc[:-1]\n",
    "    return df\n",
    "\n",
    "timeseries = [\n",
    "    make_timeseries(freq=\"1min\", seed=i).rename(columns=lambda x: f\"{x}_{i}\")\n",
    "    for i in range(10)\n",
    "]\n",
    "\n",
    "ts_wide = pd.concat(timeseries, axis=1)\n",
    "\n",
    "ts_wide.head()"
   ]
  },
  {
   "cell_type": "code",
   "execution_count": null,
   "id": "873f45f5",
   "metadata": {},
   "outputs": [],
   "source": [
    "ts_wide.to_parquet(\"data/timeseries_wide.parquet\")"
   ]
  },
  {
   "cell_type": "markdown",
   "id": "084bed61",
   "metadata": {},
   "source": [
    "- To load the columns we want, we have two options. Option 1 loads in all the data and then filters to what we need."
   ]
  },
  {
   "cell_type": "code",
   "execution_count": 126,
   "id": "3e90da13",
   "metadata": {},
   "outputs": [
    {
     "data": {
      "text/html": [
       "<div>\n",
       "<style scoped>\n",
       "    .dataframe tbody tr th:only-of-type {\n",
       "        vertical-align: middle;\n",
       "    }\n",
       "\n",
       "    .dataframe tbody tr th {\n",
       "        vertical-align: top;\n",
       "    }\n",
       "\n",
       "    .dataframe thead th {\n",
       "        text-align: right;\n",
       "    }\n",
       "</style>\n",
       "<table border=\"1\" class=\"dataframe\">\n",
       "  <thead>\n",
       "    <tr style=\"text-align: right;\">\n",
       "      <th></th>\n",
       "      <th>id_0</th>\n",
       "      <th>name_0</th>\n",
       "      <th>x_0</th>\n",
       "      <th>y_0</th>\n",
       "    </tr>\n",
       "    <tr>\n",
       "      <th>timestamp</th>\n",
       "      <th></th>\n",
       "      <th></th>\n",
       "      <th></th>\n",
       "      <th></th>\n",
       "    </tr>\n",
       "  </thead>\n",
       "  <tbody>\n",
       "    <tr>\n",
       "      <th>2000-01-01 00:00:00</th>\n",
       "      <td>977</td>\n",
       "      <td>Alice</td>\n",
       "      <td>-821.225m</td>\n",
       "      <td>906.222m</td>\n",
       "    </tr>\n",
       "    <tr>\n",
       "      <th>2000-01-01 00:01:00</th>\n",
       "      <td>1018</td>\n",
       "      <td>Bob</td>\n",
       "      <td>-219.182m</td>\n",
       "      <td>350.855m</td>\n",
       "    </tr>\n",
       "    <tr>\n",
       "      <th>2000-01-01 00:02:00</th>\n",
       "      <td>927</td>\n",
       "      <td>Alice</td>\n",
       "      <td>660.908m</td>\n",
       "      <td>-798.511m</td>\n",
       "    </tr>\n",
       "    <tr>\n",
       "      <th>2000-01-01 00:03:00</th>\n",
       "      <td>997</td>\n",
       "      <td>Bob</td>\n",
       "      <td>-852.458m</td>\n",
       "      <td>735.260m</td>\n",
       "    </tr>\n",
       "    <tr>\n",
       "      <th>2000-01-01 00:04:00</th>\n",
       "      <td>965</td>\n",
       "      <td>Bob</td>\n",
       "      <td>717.283m</td>\n",
       "      <td>393.391m</td>\n",
       "    </tr>\n",
       "    <tr>\n",
       "      <th>...</th>\n",
       "      <td>...</td>\n",
       "      <td>...</td>\n",
       "      <td>...</td>\n",
       "      <td>...</td>\n",
       "    </tr>\n",
       "    <tr>\n",
       "      <th>2000-12-30 23:56:00</th>\n",
       "      <td>1037</td>\n",
       "      <td>Bob</td>\n",
       "      <td>-814.321m</td>\n",
       "      <td>612.836m</td>\n",
       "    </tr>\n",
       "    <tr>\n",
       "      <th>2000-12-30 23:57:00</th>\n",
       "      <td>980</td>\n",
       "      <td>Bob</td>\n",
       "      <td>232.195m</td>\n",
       "      <td>-618.828m</td>\n",
       "    </tr>\n",
       "    <tr>\n",
       "      <th>2000-12-30 23:58:00</th>\n",
       "      <td>965</td>\n",
       "      <td>Alice</td>\n",
       "      <td>-231.131m</td>\n",
       "      <td>26.310m</td>\n",
       "    </tr>\n",
       "    <tr>\n",
       "      <th>2000-12-30 23:59:00</th>\n",
       "      <td>984</td>\n",
       "      <td>Alice</td>\n",
       "      <td>942.819m</td>\n",
       "      <td>853.128m</td>\n",
       "    </tr>\n",
       "    <tr>\n",
       "      <th>2000-12-31 00:00:00</th>\n",
       "      <td>1003</td>\n",
       "      <td>Alice</td>\n",
       "      <td>201.125m</td>\n",
       "      <td>-136.655m</td>\n",
       "    </tr>\n",
       "  </tbody>\n",
       "</table>\n",
       "<p>525601 rows × 4 columns</p>\n",
       "</div>"
      ],
      "text/plain": [
       "                     id_0 name_0       x_0       y_0\n",
       "timestamp                                           \n",
       "2000-01-01 00:00:00   977  Alice -821.225m  906.222m\n",
       "2000-01-01 00:01:00  1018    Bob -219.182m  350.855m\n",
       "2000-01-01 00:02:00   927  Alice  660.908m -798.511m\n",
       "2000-01-01 00:03:00   997    Bob -852.458m  735.260m\n",
       "2000-01-01 00:04:00   965    Bob  717.283m  393.391m\n",
       "...                   ...    ...       ...       ...\n",
       "2000-12-30 23:56:00  1037    Bob -814.321m  612.836m\n",
       "2000-12-30 23:57:00   980    Bob  232.195m -618.828m\n",
       "2000-12-30 23:58:00   965  Alice -231.131m   26.310m\n",
       "2000-12-30 23:59:00   984  Alice  942.819m  853.128m\n",
       "2000-12-31 00:00:00  1003  Alice  201.125m -136.655m\n",
       "\n",
       "[525601 rows x 4 columns]"
      ]
     },
     "execution_count": 126,
     "metadata": {},
     "output_type": "execute_result"
    }
   ],
   "source": [
    "columns = [\"id_0\", \"name_0\", \"x_0\", \"y_0\"]\n",
    "pd.read_parquet(\"data/timeseries_wide.parquet\")[columns]"
   ]
  },
  {
   "cell_type": "markdown",
   "id": "3640f662",
   "metadata": {},
   "source": [
    "- Option 2 only loads the columns we request."
   ]
  },
  {
   "cell_type": "code",
   "execution_count": 128,
   "id": "57131c4e",
   "metadata": {},
   "outputs": [
    {
     "data": {
      "text/html": [
       "<div>\n",
       "<style scoped>\n",
       "    .dataframe tbody tr th:only-of-type {\n",
       "        vertical-align: middle;\n",
       "    }\n",
       "\n",
       "    .dataframe tbody tr th {\n",
       "        vertical-align: top;\n",
       "    }\n",
       "\n",
       "    .dataframe thead th {\n",
       "        text-align: right;\n",
       "    }\n",
       "</style>\n",
       "<table border=\"1\" class=\"dataframe\">\n",
       "  <thead>\n",
       "    <tr style=\"text-align: right;\">\n",
       "      <th></th>\n",
       "      <th>id_0</th>\n",
       "      <th>name_0</th>\n",
       "      <th>x_0</th>\n",
       "      <th>y_0</th>\n",
       "    </tr>\n",
       "    <tr>\n",
       "      <th>timestamp</th>\n",
       "      <th></th>\n",
       "      <th></th>\n",
       "      <th></th>\n",
       "      <th></th>\n",
       "    </tr>\n",
       "  </thead>\n",
       "  <tbody>\n",
       "    <tr>\n",
       "      <th>2000-01-01 00:00:00</th>\n",
       "      <td>977</td>\n",
       "      <td>Alice</td>\n",
       "      <td>-821.225m</td>\n",
       "      <td>906.222m</td>\n",
       "    </tr>\n",
       "    <tr>\n",
       "      <th>2000-01-01 00:01:00</th>\n",
       "      <td>1018</td>\n",
       "      <td>Bob</td>\n",
       "      <td>-219.182m</td>\n",
       "      <td>350.855m</td>\n",
       "    </tr>\n",
       "    <tr>\n",
       "      <th>2000-01-01 00:02:00</th>\n",
       "      <td>927</td>\n",
       "      <td>Alice</td>\n",
       "      <td>660.908m</td>\n",
       "      <td>-798.511m</td>\n",
       "    </tr>\n",
       "    <tr>\n",
       "      <th>2000-01-01 00:03:00</th>\n",
       "      <td>997</td>\n",
       "      <td>Bob</td>\n",
       "      <td>-852.458m</td>\n",
       "      <td>735.260m</td>\n",
       "    </tr>\n",
       "    <tr>\n",
       "      <th>2000-01-01 00:04:00</th>\n",
       "      <td>965</td>\n",
       "      <td>Bob</td>\n",
       "      <td>717.283m</td>\n",
       "      <td>393.391m</td>\n",
       "    </tr>\n",
       "    <tr>\n",
       "      <th>...</th>\n",
       "      <td>...</td>\n",
       "      <td>...</td>\n",
       "      <td>...</td>\n",
       "      <td>...</td>\n",
       "    </tr>\n",
       "    <tr>\n",
       "      <th>2000-12-30 23:56:00</th>\n",
       "      <td>1037</td>\n",
       "      <td>Bob</td>\n",
       "      <td>-814.321m</td>\n",
       "      <td>612.836m</td>\n",
       "    </tr>\n",
       "    <tr>\n",
       "      <th>2000-12-30 23:57:00</th>\n",
       "      <td>980</td>\n",
       "      <td>Bob</td>\n",
       "      <td>232.195m</td>\n",
       "      <td>-618.828m</td>\n",
       "    </tr>\n",
       "    <tr>\n",
       "      <th>2000-12-30 23:58:00</th>\n",
       "      <td>965</td>\n",
       "      <td>Alice</td>\n",
       "      <td>-231.131m</td>\n",
       "      <td>26.310m</td>\n",
       "    </tr>\n",
       "    <tr>\n",
       "      <th>2000-12-30 23:59:00</th>\n",
       "      <td>984</td>\n",
       "      <td>Alice</td>\n",
       "      <td>942.819m</td>\n",
       "      <td>853.128m</td>\n",
       "    </tr>\n",
       "    <tr>\n",
       "      <th>2000-12-31 00:00:00</th>\n",
       "      <td>1003</td>\n",
       "      <td>Alice</td>\n",
       "      <td>201.125m</td>\n",
       "      <td>-136.655m</td>\n",
       "    </tr>\n",
       "  </tbody>\n",
       "</table>\n",
       "<p>525601 rows × 4 columns</p>\n",
       "</div>"
      ],
      "text/plain": [
       "                     id_0 name_0       x_0       y_0\n",
       "timestamp                                           \n",
       "2000-01-01 00:00:00   977  Alice -821.225m  906.222m\n",
       "2000-01-01 00:01:00  1018    Bob -219.182m  350.855m\n",
       "2000-01-01 00:02:00   927  Alice  660.908m -798.511m\n",
       "2000-01-01 00:03:00   997    Bob -852.458m  735.260m\n",
       "2000-01-01 00:04:00   965    Bob  717.283m  393.391m\n",
       "...                   ...    ...       ...       ...\n",
       "2000-12-30 23:56:00  1037    Bob -814.321m  612.836m\n",
       "2000-12-30 23:57:00   980    Bob  232.195m -618.828m\n",
       "2000-12-30 23:58:00   965  Alice -231.131m   26.310m\n",
       "2000-12-30 23:59:00   984  Alice  942.819m  853.128m\n",
       "2000-12-31 00:00:00  1003  Alice  201.125m -136.655m\n",
       "\n",
       "[525601 rows x 4 columns]"
      ]
     },
     "execution_count": 128,
     "metadata": {},
     "output_type": "execute_result"
    }
   ],
   "source": [
    "pd.read_parquet(\"data/timeseries_wide.parquet\", columns=columns)\n"
   ]
  },
  {
   "cell_type": "markdown",
   "id": "3b0ce855",
   "metadata": {},
   "source": [
    "- If we were to measure the memory usage of the two calls, we’d see that specifying columns uses about 1/10th the memory in this case.\n",
    "\n",
    "- With pandas.read_csv(), you can specify usecols to limit the columns read into memory. Not all file formats that can be read by pandas provide an option to read a subset of columns.\n",
    "\n",
    "#### Use efficient datatypes\n",
    "- The default pandas data types are not the most memory efficient. This is especially true for text data columns with relatively few unique values (commonly referred to as “low-cardinality” data). By using more efficient data types, you can store larger datasets in memory."
   ]
  },
  {
   "cell_type": "code",
   "execution_count": 129,
   "id": "bccafb86",
   "metadata": {},
   "outputs": [
    {
     "data": {
      "text/html": [
       "<div>\n",
       "<style scoped>\n",
       "    .dataframe tbody tr th:only-of-type {\n",
       "        vertical-align: middle;\n",
       "    }\n",
       "\n",
       "    .dataframe tbody tr th {\n",
       "        vertical-align: top;\n",
       "    }\n",
       "\n",
       "    .dataframe thead th {\n",
       "        text-align: right;\n",
       "    }\n",
       "</style>\n",
       "<table border=\"1\" class=\"dataframe\">\n",
       "  <thead>\n",
       "    <tr style=\"text-align: right;\">\n",
       "      <th></th>\n",
       "      <th>id</th>\n",
       "      <th>name</th>\n",
       "      <th>x</th>\n",
       "      <th>y</th>\n",
       "    </tr>\n",
       "    <tr>\n",
       "      <th>timestamp</th>\n",
       "      <th></th>\n",
       "      <th></th>\n",
       "      <th></th>\n",
       "      <th></th>\n",
       "    </tr>\n",
       "  </thead>\n",
       "  <tbody>\n",
       "    <tr>\n",
       "      <th>2000-01-01 00:00:00</th>\n",
       "      <td>1041</td>\n",
       "      <td>Alice</td>\n",
       "      <td>889.987m</td>\n",
       "      <td>281.011m</td>\n",
       "    </tr>\n",
       "    <tr>\n",
       "      <th>2000-01-01 00:00:30</th>\n",
       "      <td>988</td>\n",
       "      <td>Bob</td>\n",
       "      <td>-455.299m</td>\n",
       "      <td>488.153m</td>\n",
       "    </tr>\n",
       "    <tr>\n",
       "      <th>2000-01-01 00:01:00</th>\n",
       "      <td>1018</td>\n",
       "      <td>Alice</td>\n",
       "      <td>96.061m</td>\n",
       "      <td>580.473m</td>\n",
       "    </tr>\n",
       "    <tr>\n",
       "      <th>2000-01-01 00:01:30</th>\n",
       "      <td>992</td>\n",
       "      <td>Bob</td>\n",
       "      <td>142.482m</td>\n",
       "      <td>41.665m</td>\n",
       "    </tr>\n",
       "    <tr>\n",
       "      <th>2000-01-01 00:02:00</th>\n",
       "      <td>960</td>\n",
       "      <td>Bob</td>\n",
       "      <td>-36.235m</td>\n",
       "      <td>802.159m</td>\n",
       "    </tr>\n",
       "    <tr>\n",
       "      <th>...</th>\n",
       "      <td>...</td>\n",
       "      <td>...</td>\n",
       "      <td>...</td>\n",
       "      <td>...</td>\n",
       "    </tr>\n",
       "    <tr>\n",
       "      <th>2000-12-30 23:58:00</th>\n",
       "      <td>1022</td>\n",
       "      <td>Alice</td>\n",
       "      <td>266.191m</td>\n",
       "      <td>875.579m</td>\n",
       "    </tr>\n",
       "    <tr>\n",
       "      <th>2000-12-30 23:58:30</th>\n",
       "      <td>974</td>\n",
       "      <td>Alice</td>\n",
       "      <td>-9.826m</td>\n",
       "      <td>413.686m</td>\n",
       "    </tr>\n",
       "    <tr>\n",
       "      <th>2000-12-30 23:59:00</th>\n",
       "      <td>1028</td>\n",
       "      <td>Charlie</td>\n",
       "      <td>307.108m</td>\n",
       "      <td>-656.789m</td>\n",
       "    </tr>\n",
       "    <tr>\n",
       "      <th>2000-12-30 23:59:30</th>\n",
       "      <td>1002</td>\n",
       "      <td>Alice</td>\n",
       "      <td>202.602m</td>\n",
       "      <td>541.335m</td>\n",
       "    </tr>\n",
       "    <tr>\n",
       "      <th>2000-12-31 00:00:00</th>\n",
       "      <td>987</td>\n",
       "      <td>Alice</td>\n",
       "      <td>200.832m</td>\n",
       "      <td>615.972m</td>\n",
       "    </tr>\n",
       "  </tbody>\n",
       "</table>\n",
       "<p>1051201 rows × 4 columns</p>\n",
       "</div>"
      ],
      "text/plain": [
       "                       id     name         x         y\n",
       "timestamp                                             \n",
       "2000-01-01 00:00:00  1041    Alice  889.987m  281.011m\n",
       "2000-01-01 00:00:30   988      Bob -455.299m  488.153m\n",
       "2000-01-01 00:01:00  1018    Alice   96.061m  580.473m\n",
       "2000-01-01 00:01:30   992      Bob  142.482m   41.665m\n",
       "2000-01-01 00:02:00   960      Bob  -36.235m  802.159m\n",
       "...                   ...      ...       ...       ...\n",
       "2000-12-30 23:58:00  1022    Alice  266.191m  875.579m\n",
       "2000-12-30 23:58:30   974    Alice   -9.826m  413.686m\n",
       "2000-12-30 23:59:00  1028  Charlie  307.108m -656.789m\n",
       "2000-12-30 23:59:30  1002    Alice  202.602m  541.335m\n",
       "2000-12-31 00:00:00   987    Alice  200.832m  615.972m\n",
       "\n",
       "[1051201 rows x 4 columns]"
      ]
     },
     "execution_count": 129,
     "metadata": {},
     "output_type": "execute_result"
    }
   ],
   "source": [
    "ts = make_timeseries(freq=\"30s\", seed=0)\n",
    "ts.to_parquet(\"data/timeseries.parquet\")\n",
    "ts = pd.read_parquet(\"data/timeseries.parquet\")\n",
    "ts"
   ]
  },
  {
   "cell_type": "markdown",
   "id": "cbdccaa0",
   "metadata": {},
   "source": [
    "- Now, let’s inspect the data types and memory usage to see where we should focus our attention."
   ]
  },
  {
   "cell_type": "code",
   "execution_count": 130,
   "id": "8690f97b",
   "metadata": {},
   "outputs": [
    {
     "data": {
      "text/plain": [
       "id        int32\n",
       "name     object\n",
       "x       float64\n",
       "y       float64\n",
       "dtype: object"
      ]
     },
     "execution_count": 130,
     "metadata": {},
     "output_type": "execute_result"
    }
   ],
   "source": [
    "ts.dtypes"
   ]
  },
  {
   "cell_type": "code",
   "execution_count": 131,
   "id": "e690a6bd",
   "metadata": {},
   "outputs": [
    {
     "data": {
      "text/plain": [
       "Index     8409608\n",
       "id        4204804\n",
       "name     56766826\n",
       "x         8409608\n",
       "y         8409608\n",
       "dtype: int64"
      ]
     },
     "execution_count": 131,
     "metadata": {},
     "output_type": "execute_result"
    }
   ],
   "source": [
    "ts.memory_usage(deep=True)  # memory usage in bytes"
   ]
  },
  {
   "cell_type": "markdown",
   "id": "c8ccb867",
   "metadata": {},
   "source": [
    "- The name column is taking up much more memory than any other. It has just a few unique values, so it’s a good candidate for converting to a pandas.Categorical. With a pandas.Categorical, we store each unique name once and use space-efficient integers to know which specific name is used in each row."
   ]
  },
  {
   "cell_type": "code",
   "execution_count": 132,
   "id": "0231c8c9",
   "metadata": {},
   "outputs": [
    {
     "data": {
      "text/plain": [
       "Index    8409608\n",
       "id       4204804\n",
       "name     1051471\n",
       "x        8409608\n",
       "y        8409608\n",
       "dtype: int64"
      ]
     },
     "execution_count": 132,
     "metadata": {},
     "output_type": "execute_result"
    }
   ],
   "source": [
    "ts2 = ts.copy()\n",
    "ts2[\"name\"] = ts2[\"name\"].astype(\"category\")\n",
    "ts2.memory_usage(deep=True)\n"
   ]
  },
  {
   "cell_type": "markdown",
   "id": "32d2aa16",
   "metadata": {},
   "source": [
    "- We can go a bit further and downcast the numeric columns to their smallest types using pandas.to_numeric()."
   ]
  },
  {
   "cell_type": "code",
   "execution_count": 133,
   "id": "b9f377f6",
   "metadata": {},
   "outputs": [
    {
     "data": {
      "text/plain": [
       "id        uint16\n",
       "name    category\n",
       "x        float32\n",
       "y        float32\n",
       "dtype: object"
      ]
     },
     "execution_count": 133,
     "metadata": {},
     "output_type": "execute_result"
    }
   ],
   "source": [
    "ts2[\"id\"] = pd.to_numeric(ts2[\"id\"], downcast=\"unsigned\")\n",
    "ts2[[\"x\", \"y\"]] = ts2[[\"x\", \"y\"]].apply(pd.to_numeric, downcast=\"float\")\n",
    "ts2.dtypes"
   ]
  },
  {
   "cell_type": "code",
   "execution_count": 134,
   "id": "dd49eb3e",
   "metadata": {},
   "outputs": [
    {
     "data": {
      "text/plain": [
       "Index    8409608\n",
       "id       2102402\n",
       "name     1051471\n",
       "x        4204804\n",
       "y        4204804\n",
       "dtype: int64"
      ]
     },
     "execution_count": 134,
     "metadata": {},
     "output_type": "execute_result"
    }
   ],
   "source": [
    "ts2.memory_usage(deep=True)"
   ]
  },
  {
   "cell_type": "code",
   "execution_count": 135,
   "id": "3ca49831",
   "metadata": {},
   "outputs": [
    {
     "name": "stdout",
     "output_type": "stream",
     "text": [
      "0.23\n"
     ]
    }
   ],
   "source": [
    "reduction = ts2.memory_usage(deep=True).sum() / ts.memory_usage(deep=True).sum()\n",
    "print(f\"{reduction:0.2f}\")\n"
   ]
  },
  {
   "cell_type": "markdown",
   "id": "6bae5f18",
   "metadata": {},
   "source": [
    "- In all, we’ve reduced the in-memory footprint of this dataset to 1/5 of its original size.\n",
    "\n",
    "#### Use chunking\n",
    "- Some workloads can be achieved with chunking by splitting a large problem into a bunch of small problems. For example, converting an individual CSV file into a Parquet file and repeating that for each file in a directory. As long as each chunk fits in memory, you can work with datasets that are much larger than memory.\n",
    "\n",
    "- **Note**: Chunking works well when the operation you’re performing requires zero or minimal coordination between chunks. For more complicated workflows, you’re better off using other libraries.\n",
    "\n",
    "- Suppose we have an even larger “logical dataset” on disk that’s a directory of parquet files. Each file in the directory represents a different year of the entire dataset."
   ]
  },
  {
   "cell_type": "code",
   "execution_count": 136,
   "id": "6af49c09",
   "metadata": {},
   "outputs": [],
   "source": [
    "import pathlib\n",
    "N = 12\n",
    "starts = [f\"20{i:>02d}-01-01\" for i in range(N)]\n",
    "ends = [f\"20{i:>02d}-12-13\" for i in range(N)]\n",
    "pathlib.Path(\"data/timeseries\").mkdir(exist_ok=True)\n",
    "for i, (start, end) in enumerate(zip(starts, ends)):\n",
    "    ts = make_timeseries(start=start, end=end, freq=\"1min\", seed=i)\n",
    "    ts.to_parquet(f\"data/timeseries/ts-{i:0>2d}.parquet\")"
   ]
  },
  {
   "cell_type": "markdown",
   "id": "094e081e",
   "metadata": {},
   "source": [
    "- Now we’ll implement an out-of-core pandas.Series.value_counts(). The peak memory usage of this workflow is the single largest chunk, plus a small series storing the unique value counts up to this point. As long as each individual file fits in memory, this will work for arbitrary-sized datasets."
   ]
  },
  {
   "cell_type": "code",
   "execution_count": 137,
   "id": "56d4e5ab",
   "metadata": {},
   "outputs": [
    {
     "name": "stdout",
     "output_type": "stream",
     "text": [
      "CPU times: total: 1 s\n",
      "Wall time: 1.07 s\n"
     ]
    },
    {
     "data": {
      "text/plain": [
       "name\n",
       "Alice      1994645\n",
       "Bob        1993692\n",
       "Charlie    1994875\n",
       "dtype: int64"
      ]
     },
     "execution_count": 137,
     "metadata": {},
     "output_type": "execute_result"
    }
   ],
   "source": [
    "%%time\n",
    "files = pathlib.Path(\"data/timeseries/\").glob(\"ts*.parquet\")\n",
    "counts = pd.Series(dtype=int)\n",
    "for path in files:\n",
    "    df = pd.read_parquet(path)\n",
    "    counts = counts.add(df[\"name\"].value_counts(), fill_value=0)\n",
    "counts.astype(int)"
   ]
  },
  {
   "cell_type": "markdown",
   "id": "4850f9b2",
   "metadata": {},
   "source": [
    "- Some readers, like pandas.read_csv(), offer parameters to control the chunksize when reading a single file.\n",
    "\n",
    "- Manually chunking is an OK option for workflows that don’t require too sophisticated of operations. Some operations, like pandas.DataFrame.groupby(), are much harder to do chunkwise. In these cases, you may be better switching to a different library that implements these out-of-core algorithms for you.\n",
    "\n",
    "#### Use Other Libraries\n",
    "- There are other libraries which provide similar APIs to pandas and work nicely with pandas DataFrame, and can give you the ability to scale your large dataset processing and analytics by parallel runtime, distributed memory, clustering, etc. You can find more information in the ecosystem page."
   ]
  },
  {
   "cell_type": "markdown",
   "id": "123ab789",
   "metadata": {},
   "source": [
    "### Sparse data structures\n",
    "- From https://pandas.pydata.org/docs/user_guide/sparse.html\n",
    "- pandas provides data structures for efficiently storing sparse data. These are not necessarily sparse in the typical “mostly 0”. Rather, you can view these objects as being “compressed” where any data matching a specific value (NaN / missing value, though any value can be chosen, including 0) is omitted. The compressed values are not actually stored in the array."
   ]
  },
  {
   "cell_type": "code",
   "execution_count": 138,
   "id": "43559299",
   "metadata": {},
   "outputs": [
    {
     "data": {
      "text/plain": [
       "0    696.890m\n",
       "1      -1.397\n",
       "2         NaN\n",
       "3         NaN\n",
       "4         NaN\n",
       "5         NaN\n",
       "6         NaN\n",
       "7         NaN\n",
       "8     55.749m\n",
       "9    993.277m\n",
       "dtype: Sparse[float64, nan]"
      ]
     },
     "execution_count": 138,
     "metadata": {},
     "output_type": "execute_result"
    }
   ],
   "source": [
    "arr = np.random.randn(10)\n",
    "arr[2:-2] = np.nan\n",
    "ts = pd.Series(pd.arrays.SparseArray(arr))\n",
    "ts"
   ]
  },
  {
   "cell_type": "markdown",
   "id": "8d3b0671",
   "metadata": {},
   "source": [
    "- Notice the dtype, Sparse[float64, nan]. The nan means that elements in the array that are nan aren’t actually stored, only the non-nan elements are. Those non-nan elements have a float64 dtype.\n",
    "\n",
    "- The sparse objects exist for memory efficiency reasons. Suppose you had a large, mostly NA DataFrame:"
   ]
  },
  {
   "cell_type": "code",
   "execution_count": 139,
   "id": "35693817",
   "metadata": {},
   "outputs": [
    {
     "data": {
      "text/html": [
       "<div>\n",
       "<style scoped>\n",
       "    .dataframe tbody tr th:only-of-type {\n",
       "        vertical-align: middle;\n",
       "    }\n",
       "\n",
       "    .dataframe tbody tr th {\n",
       "        vertical-align: top;\n",
       "    }\n",
       "\n",
       "    .dataframe thead th {\n",
       "        text-align: right;\n",
       "    }\n",
       "</style>\n",
       "<table border=\"1\" class=\"dataframe\">\n",
       "  <thead>\n",
       "    <tr style=\"text-align: right;\">\n",
       "      <th></th>\n",
       "      <th>0</th>\n",
       "      <th>1</th>\n",
       "      <th>2</th>\n",
       "      <th>3</th>\n",
       "    </tr>\n",
       "  </thead>\n",
       "  <tbody>\n",
       "    <tr>\n",
       "      <th>0</th>\n",
       "      <td>NaN</td>\n",
       "      <td>NaN</td>\n",
       "      <td>NaN</td>\n",
       "      <td>NaN</td>\n",
       "    </tr>\n",
       "    <tr>\n",
       "      <th>1</th>\n",
       "      <td>NaN</td>\n",
       "      <td>NaN</td>\n",
       "      <td>NaN</td>\n",
       "      <td>NaN</td>\n",
       "    </tr>\n",
       "    <tr>\n",
       "      <th>2</th>\n",
       "      <td>NaN</td>\n",
       "      <td>NaN</td>\n",
       "      <td>NaN</td>\n",
       "      <td>NaN</td>\n",
       "    </tr>\n",
       "    <tr>\n",
       "      <th>3</th>\n",
       "      <td>NaN</td>\n",
       "      <td>NaN</td>\n",
       "      <td>NaN</td>\n",
       "      <td>NaN</td>\n",
       "    </tr>\n",
       "    <tr>\n",
       "      <th>4</th>\n",
       "      <td>NaN</td>\n",
       "      <td>NaN</td>\n",
       "      <td>NaN</td>\n",
       "      <td>NaN</td>\n",
       "    </tr>\n",
       "  </tbody>\n",
       "</table>\n",
       "</div>"
      ],
      "text/plain": [
       "     0    1    2    3\n",
       "0  NaN  NaN  NaN  NaN\n",
       "1  NaN  NaN  NaN  NaN\n",
       "2  NaN  NaN  NaN  NaN\n",
       "3  NaN  NaN  NaN  NaN\n",
       "4  NaN  NaN  NaN  NaN"
      ]
     },
     "execution_count": 139,
     "metadata": {},
     "output_type": "execute_result"
    }
   ],
   "source": [
    "df = pd.DataFrame(np.random.randn(10000, 4))\n",
    "df.iloc[:9998] = np.nan\n",
    "sdf = df.astype(pd.SparseDtype(\"float\", np.nan))\n",
    "sdf.head()"
   ]
  },
  {
   "cell_type": "code",
   "execution_count": 140,
   "id": "68876415",
   "metadata": {},
   "outputs": [
    {
     "data": {
      "text/plain": [
       "0    Sparse[float64, nan]\n",
       "1    Sparse[float64, nan]\n",
       "2    Sparse[float64, nan]\n",
       "3    Sparse[float64, nan]\n",
       "dtype: object"
      ]
     },
     "execution_count": 140,
     "metadata": {},
     "output_type": "execute_result"
    }
   ],
   "source": [
    "sdf.dtypes"
   ]
  },
  {
   "cell_type": "code",
   "execution_count": 141,
   "id": "e511635f",
   "metadata": {},
   "outputs": [
    {
     "data": {
      "text/plain": [
       "np.float64(0.0002)"
      ]
     },
     "execution_count": 141,
     "metadata": {},
     "output_type": "execute_result"
    }
   ],
   "source": [
    "sdf.sparse.density"
   ]
  },
  {
   "cell_type": "markdown",
   "id": "c007057b",
   "metadata": {},
   "source": [
    "- As you can see, the density (% of values that have not been “compressed”) is extremely low. This sparse object takes up much less memory on disk (pickled) and in the Python interpreter."
   ]
  },
  {
   "cell_type": "code",
   "execution_count": 142,
   "id": "bdc03053",
   "metadata": {},
   "outputs": [
    {
     "data": {
      "text/plain": [
       "'dense : 320.13 bytes'"
      ]
     },
     "execution_count": 142,
     "metadata": {},
     "output_type": "execute_result"
    }
   ],
   "source": [
    "'dense : {:0.2f} bytes'.format(df.memory_usage().sum() / 1e3)"
   ]
  },
  {
   "cell_type": "code",
   "execution_count": 143,
   "id": "ab48cb7a",
   "metadata": {},
   "outputs": [
    {
     "data": {
      "text/plain": [
       "'sparse: 0.23 bytes'"
      ]
     },
     "execution_count": 143,
     "metadata": {},
     "output_type": "execute_result"
    }
   ],
   "source": [
    "\n",
    "'sparse: {:0.2f} bytes'.format(sdf.memory_usage().sum() / 1e3)"
   ]
  },
  {
   "cell_type": "markdown",
   "id": "aea49a61",
   "metadata": {},
   "source": [
    "- Functionally, their behavior should be nearly identical to their dense counterparts.\n",
    "#### SparseArray\n",
    "- arrays.SparseArray is a ExtensionArray for storing an array of sparse values (see dtypes for more on extension arrays). It is a 1-dimensional ndarray-like object storing only values distinct from the fill_value:"
   ]
  },
  {
   "cell_type": "code",
   "execution_count": 144,
   "id": "beb77e49",
   "metadata": {},
   "outputs": [
    {
     "data": {
      "text/plain": [
       "[0.2950153851526463, 0.19492931235777924, nan, nan, nan, 0.16794675839328033, -0.7857965624047829, nan, 0.48435540288516066, -0.5822005610498053]\n",
       "Fill: nan\n",
       "IntIndex\n",
       "Indices: array([0, 1, 5, 6, 8, 9], dtype=int32)"
      ]
     },
     "execution_count": 144,
     "metadata": {},
     "output_type": "execute_result"
    }
   ],
   "source": [
    "arr = np.random.randn(10)\n",
    "arr[2:5] = np.nan\n",
    "arr[7:8] = np.nan\n",
    "sparr = pd.arrays.SparseArray(arr)\n",
    "sparr"
   ]
  },
  {
   "cell_type": "markdown",
   "id": "cf19aded",
   "metadata": {},
   "source": [
    "- A sparse array can be converted to a regular (dense) ndarray with numpy.asarray()"
   ]
  },
  {
   "cell_type": "code",
   "execution_count": 145,
   "id": "9901b0cd",
   "metadata": {},
   "outputs": [
    {
     "data": {
      "text/plain": [
       "array([ 0.29501539,  0.19492931,         nan,         nan,         nan,\n",
       "        0.16794676, -0.78579656,         nan,  0.4843554 , -0.58220056])"
      ]
     },
     "execution_count": 145,
     "metadata": {},
     "output_type": "execute_result"
    }
   ],
   "source": [
    "np.asarray(sparr)"
   ]
  },
  {
   "cell_type": "markdown",
   "id": "5795a51e",
   "metadata": {},
   "source": [
    "#### SparseDtype\n",
    "- The SparseArray.dtype property stores two pieces of information\n",
    "    - The dtype of the non-sparse values\n",
    "    - The scalar fill value"
   ]
  },
  {
   "cell_type": "code",
   "execution_count": 146,
   "id": "f704832e",
   "metadata": {},
   "outputs": [
    {
     "data": {
      "text/plain": [
       "Sparse[float64, nan]"
      ]
     },
     "execution_count": 146,
     "metadata": {},
     "output_type": "execute_result"
    }
   ],
   "source": [
    "sparr.dtype"
   ]
  },
  {
   "cell_type": "markdown",
   "id": "ce2e41f7",
   "metadata": {},
   "source": [
    "- A SparseDtype may be constructed by passing only a dtype"
   ]
  },
  {
   "cell_type": "code",
   "execution_count": 147,
   "id": "e717435e",
   "metadata": {},
   "outputs": [
    {
     "data": {
      "text/plain": [
       "Sparse[datetime64[ns], np.datetime64('NaT')]"
      ]
     },
     "execution_count": 147,
     "metadata": {},
     "output_type": "execute_result"
    }
   ],
   "source": [
    "pd.SparseDtype(np.dtype('datetime64[ns]'))"
   ]
  },
  {
   "cell_type": "markdown",
   "id": "888ca995",
   "metadata": {},
   "source": [
    "- in which case a default fill value will be used (for NumPy dtypes this is often the “missing” value for that dtype). To override this default an explicit fill value may be passed instead"
   ]
  },
  {
   "cell_type": "code",
   "execution_count": 148,
   "id": "2c21f2f6",
   "metadata": {},
   "outputs": [
    {
     "data": {
      "text/plain": [
       "Sparse[datetime64[ns], Timestamp('2017-01-01 00:00:00')]"
      ]
     },
     "execution_count": 148,
     "metadata": {},
     "output_type": "execute_result"
    }
   ],
   "source": [
    "pd.SparseDtype(np.dtype('datetime64[ns]'),\n",
    "               fill_value=pd.Timestamp('2017-01-01'))"
   ]
  },
  {
   "cell_type": "markdown",
   "id": "d19c9ab7",
   "metadata": {},
   "source": [
    "- Finally, the string alias 'Sparse[dtype]' may be used to specify a sparse dtype in many places"
   ]
  },
  {
   "cell_type": "code",
   "execution_count": 149,
   "id": "c9eaaf7a",
   "metadata": {},
   "outputs": [
    {
     "data": {
      "text/plain": [
       "[1, 0, 0, 2]\n",
       "Fill: 0\n",
       "IntIndex\n",
       "Indices: array([0, 3], dtype=int32)"
      ]
     },
     "execution_count": 149,
     "metadata": {},
     "output_type": "execute_result"
    }
   ],
   "source": [
    "pd.array([1, 0, 0, 2], dtype='Sparse[int]')"
   ]
  },
  {
   "cell_type": "markdown",
   "id": "25553362",
   "metadata": {},
   "source": [
    "#### Sparse accessor\n",
    "- pandas provides a .sparse accessor, similar to .str for string data, .cat for categorical data, and .dt for datetime-like data. This namespace provides attributes and methods that are specific to sparse data."
   ]
  },
  {
   "cell_type": "code",
   "execution_count": 150,
   "id": "055cf99c",
   "metadata": {},
   "outputs": [
    {
     "data": {
      "text/plain": [
       "0.5"
      ]
     },
     "execution_count": 150,
     "metadata": {},
     "output_type": "execute_result"
    }
   ],
   "source": [
    "s = pd.Series([0, 0, 1, 2], dtype=\"Sparse[int]\")\n",
    "s.sparse.density"
   ]
  },
  {
   "cell_type": "code",
   "execution_count": 151,
   "id": "5f7bd725",
   "metadata": {},
   "outputs": [
    {
     "data": {
      "text/plain": [
       "0"
      ]
     },
     "execution_count": 151,
     "metadata": {},
     "output_type": "execute_result"
    }
   ],
   "source": [
    "s.sparse.fill_value"
   ]
  },
  {
   "cell_type": "markdown",
   "id": "12eac5ed",
   "metadata": {},
   "source": [
    "- This accessor is available only on data with SparseDtype, and on the Series class itself for creating a Series with sparse data from a scipy COO matrix with.\n",
    "\n",
    "- A .sparse accessor has been added for DataFrame as well. See Sparse accessor for more.\n",
    "\n",
    "#### Sparse calculation\n",
    "- You can apply NumPy ufuncs to arrays.SparseArray and get a arrays.SparseArray as a result."
   ]
  },
  {
   "cell_type": "code",
   "execution_count": 152,
   "id": "fe07c479",
   "metadata": {},
   "outputs": [
    {
     "data": {
      "text/plain": [
       "[1.0, nan, nan, 2.0, nan]\n",
       "Fill: nan\n",
       "IntIndex\n",
       "Indices: array([0, 3], dtype=int32)"
      ]
     },
     "execution_count": 152,
     "metadata": {},
     "output_type": "execute_result"
    }
   ],
   "source": [
    "arr = pd.arrays.SparseArray([1., np.nan, np.nan, -2., np.nan])\n",
    "np.abs(arr)"
   ]
  },
  {
   "cell_type": "markdown",
   "id": "87ac3344",
   "metadata": {},
   "source": [
    "- The ufunc is also applied to fill_value. This is needed to get the correct dense result."
   ]
  },
  {
   "cell_type": "code",
   "execution_count": 153,
   "id": "4c9b0d9e",
   "metadata": {},
   "outputs": [
    {
     "data": {
      "text/plain": [
       "[1, 1, 1, 2.0, 1]\n",
       "Fill: 1\n",
       "IntIndex\n",
       "Indices: array([3], dtype=int32)"
      ]
     },
     "execution_count": 153,
     "metadata": {},
     "output_type": "execute_result"
    }
   ],
   "source": [
    "arr = pd.arrays.SparseArray([1., -1, -1, -2., -1], fill_value=-1)\n",
    "np.abs(arr)"
   ]
  },
  {
   "cell_type": "code",
   "execution_count": 154,
   "id": "72e75a95",
   "metadata": {},
   "outputs": [
    {
     "data": {
      "text/plain": [
       "array([1., 1., 1., 2., 1.])"
      ]
     },
     "execution_count": 154,
     "metadata": {},
     "output_type": "execute_result"
    }
   ],
   "source": [
    "np.abs(arr).to_dense()"
   ]
  },
  {
   "cell_type": "markdown",
   "id": "92feacdf",
   "metadata": {},
   "source": [
    "#### Conversion\n",
    "- To convert data from sparse to dense, use the .sparse accessors"
   ]
  },
  {
   "cell_type": "code",
   "execution_count": 155,
   "id": "938d4043",
   "metadata": {},
   "outputs": [
    {
     "data": {
      "text/html": [
       "<div>\n",
       "<style scoped>\n",
       "    .dataframe tbody tr th:only-of-type {\n",
       "        vertical-align: middle;\n",
       "    }\n",
       "\n",
       "    .dataframe tbody tr th {\n",
       "        vertical-align: top;\n",
       "    }\n",
       "\n",
       "    .dataframe thead th {\n",
       "        text-align: right;\n",
       "    }\n",
       "</style>\n",
       "<table border=\"1\" class=\"dataframe\">\n",
       "  <thead>\n",
       "    <tr style=\"text-align: right;\">\n",
       "      <th></th>\n",
       "      <th>0</th>\n",
       "      <th>1</th>\n",
       "      <th>2</th>\n",
       "      <th>3</th>\n",
       "    </tr>\n",
       "  </thead>\n",
       "  <tbody>\n",
       "    <tr>\n",
       "      <th>0</th>\n",
       "      <td>NaN</td>\n",
       "      <td>NaN</td>\n",
       "      <td>NaN</td>\n",
       "      <td>NaN</td>\n",
       "    </tr>\n",
       "    <tr>\n",
       "      <th>1</th>\n",
       "      <td>NaN</td>\n",
       "      <td>NaN</td>\n",
       "      <td>NaN</td>\n",
       "      <td>NaN</td>\n",
       "    </tr>\n",
       "    <tr>\n",
       "      <th>2</th>\n",
       "      <td>NaN</td>\n",
       "      <td>NaN</td>\n",
       "      <td>NaN</td>\n",
       "      <td>NaN</td>\n",
       "    </tr>\n",
       "    <tr>\n",
       "      <th>3</th>\n",
       "      <td>NaN</td>\n",
       "      <td>NaN</td>\n",
       "      <td>NaN</td>\n",
       "      <td>NaN</td>\n",
       "    </tr>\n",
       "    <tr>\n",
       "      <th>4</th>\n",
       "      <td>NaN</td>\n",
       "      <td>NaN</td>\n",
       "      <td>NaN</td>\n",
       "      <td>NaN</td>\n",
       "    </tr>\n",
       "    <tr>\n",
       "      <th>...</th>\n",
       "      <td>...</td>\n",
       "      <td>...</td>\n",
       "      <td>...</td>\n",
       "      <td>...</td>\n",
       "    </tr>\n",
       "    <tr>\n",
       "      <th>9995</th>\n",
       "      <td>NaN</td>\n",
       "      <td>NaN</td>\n",
       "      <td>NaN</td>\n",
       "      <td>NaN</td>\n",
       "    </tr>\n",
       "    <tr>\n",
       "      <th>9996</th>\n",
       "      <td>NaN</td>\n",
       "      <td>NaN</td>\n",
       "      <td>NaN</td>\n",
       "      <td>NaN</td>\n",
       "    </tr>\n",
       "    <tr>\n",
       "      <th>9997</th>\n",
       "      <td>NaN</td>\n",
       "      <td>NaN</td>\n",
       "      <td>NaN</td>\n",
       "      <td>NaN</td>\n",
       "    </tr>\n",
       "    <tr>\n",
       "      <th>9998</th>\n",
       "      <td>-938.899m</td>\n",
       "      <td>995.457m</td>\n",
       "      <td>845.394m</td>\n",
       "      <td>584.624m</td>\n",
       "    </tr>\n",
       "    <tr>\n",
       "      <th>9999</th>\n",
       "      <td>249.110m</td>\n",
       "      <td>543.608m</td>\n",
       "      <td>-45.819m</td>\n",
       "      <td>-4.422m</td>\n",
       "    </tr>\n",
       "  </tbody>\n",
       "</table>\n",
       "<p>10000 rows × 4 columns</p>\n",
       "</div>"
      ],
      "text/plain": [
       "             0         1         2         3\n",
       "0          NaN       NaN       NaN       NaN\n",
       "1          NaN       NaN       NaN       NaN\n",
       "2          NaN       NaN       NaN       NaN\n",
       "3          NaN       NaN       NaN       NaN\n",
       "4          NaN       NaN       NaN       NaN\n",
       "...        ...       ...       ...       ...\n",
       "9995       NaN       NaN       NaN       NaN\n",
       "9996       NaN       NaN       NaN       NaN\n",
       "9997       NaN       NaN       NaN       NaN\n",
       "9998 -938.899m  995.457m  845.394m  584.624m\n",
       "9999  249.110m  543.608m  -45.819m   -4.422m\n",
       "\n",
       "[10000 rows x 4 columns]"
      ]
     },
     "execution_count": 155,
     "metadata": {},
     "output_type": "execute_result"
    }
   ],
   "source": [
    "sdf.sparse.to_dense()"
   ]
  },
  {
   "cell_type": "markdown",
   "id": "0a4aa063",
   "metadata": {},
   "source": [
    "- From dense to sparse, use DataFrame.astype() with a SparseDtype."
   ]
  },
  {
   "cell_type": "code",
   "execution_count": 156,
   "id": "7d6b8399",
   "metadata": {},
   "outputs": [
    {
     "data": {
      "text/html": [
       "<div>\n",
       "<style scoped>\n",
       "    .dataframe tbody tr th:only-of-type {\n",
       "        vertical-align: middle;\n",
       "    }\n",
       "\n",
       "    .dataframe tbody tr th {\n",
       "        vertical-align: top;\n",
       "    }\n",
       "\n",
       "    .dataframe thead th {\n",
       "        text-align: right;\n",
       "    }\n",
       "</style>\n",
       "<table border=\"1\" class=\"dataframe\">\n",
       "  <thead>\n",
       "    <tr style=\"text-align: right;\">\n",
       "      <th></th>\n",
       "      <th>A</th>\n",
       "    </tr>\n",
       "  </thead>\n",
       "  <tbody>\n",
       "    <tr>\n",
       "      <th>0</th>\n",
       "      <td>1</td>\n",
       "    </tr>\n",
       "    <tr>\n",
       "      <th>1</th>\n",
       "      <td>0</td>\n",
       "    </tr>\n",
       "    <tr>\n",
       "      <th>2</th>\n",
       "      <td>0</td>\n",
       "    </tr>\n",
       "    <tr>\n",
       "      <th>3</th>\n",
       "      <td>1</td>\n",
       "    </tr>\n",
       "  </tbody>\n",
       "</table>\n",
       "</div>"
      ],
      "text/plain": [
       "   A\n",
       "0  1\n",
       "1  0\n",
       "2  0\n",
       "3  1"
      ]
     },
     "execution_count": 156,
     "metadata": {},
     "output_type": "execute_result"
    }
   ],
   "source": [
    "dense = pd.DataFrame({\"A\": [1, 0, 0, 1]})\n",
    "dtype = pd.SparseDtype(int, fill_value=0)\n",
    "dense.astype(dtype)"
   ]
  },
  {
   "cell_type": "markdown",
   "id": "6d515f90",
   "metadata": {},
   "source": [
    "#### Interaction with scipy.sparse\n",
    "- Use DataFrame.sparse.from_spmatrix() to create a DataFrame with sparse values from a sparse matrix."
   ]
  },
  {
   "cell_type": "code",
   "execution_count": 157,
   "id": "980eb315",
   "metadata": {},
   "outputs": [],
   "source": [
    "from scipy.sparse import csr_matrix"
   ]
  },
  {
   "cell_type": "code",
   "execution_count": 158,
   "id": "2870a74d",
   "metadata": {},
   "outputs": [
    {
     "data": {
      "text/plain": [
       "<Compressed Sparse Row sparse matrix of dtype 'float64'\n",
       "\twith 495 stored elements and shape (1000, 5)>"
      ]
     },
     "execution_count": 158,
     "metadata": {},
     "output_type": "execute_result"
    }
   ],
   "source": [
    "arr = np.random.random(size=(1000, 5))\n",
    "arr[arr < .9] = 0\n",
    "sp_arr = csr_matrix(arr)\n",
    "sp_arr"
   ]
  },
  {
   "cell_type": "code",
   "execution_count": 159,
   "id": "f139e9bb",
   "metadata": {},
   "outputs": [
    {
     "data": {
      "text/html": [
       "<div>\n",
       "<style scoped>\n",
       "    .dataframe tbody tr th:only-of-type {\n",
       "        vertical-align: middle;\n",
       "    }\n",
       "\n",
       "    .dataframe tbody tr th {\n",
       "        vertical-align: top;\n",
       "    }\n",
       "\n",
       "    .dataframe thead th {\n",
       "        text-align: right;\n",
       "    }\n",
       "</style>\n",
       "<table border=\"1\" class=\"dataframe\">\n",
       "  <thead>\n",
       "    <tr style=\"text-align: right;\">\n",
       "      <th></th>\n",
       "      <th>0</th>\n",
       "      <th>1</th>\n",
       "      <th>2</th>\n",
       "      <th>3</th>\n",
       "      <th>4</th>\n",
       "    </tr>\n",
       "  </thead>\n",
       "  <tbody>\n",
       "    <tr>\n",
       "      <th>0</th>\n",
       "      <td>0</td>\n",
       "      <td>0</td>\n",
       "      <td>0</td>\n",
       "      <td>983.490m</td>\n",
       "      <td>0</td>\n",
       "    </tr>\n",
       "    <tr>\n",
       "      <th>1</th>\n",
       "      <td>0</td>\n",
       "      <td>0</td>\n",
       "      <td>0</td>\n",
       "      <td>0</td>\n",
       "      <td>0</td>\n",
       "    </tr>\n",
       "    <tr>\n",
       "      <th>2</th>\n",
       "      <td>0</td>\n",
       "      <td>0</td>\n",
       "      <td>0</td>\n",
       "      <td>0</td>\n",
       "      <td>0</td>\n",
       "    </tr>\n",
       "    <tr>\n",
       "      <th>3</th>\n",
       "      <td>0</td>\n",
       "      <td>0</td>\n",
       "      <td>0</td>\n",
       "      <td>0</td>\n",
       "      <td>990.420m</td>\n",
       "    </tr>\n",
       "    <tr>\n",
       "      <th>4</th>\n",
       "      <td>0</td>\n",
       "      <td>0</td>\n",
       "      <td>0</td>\n",
       "      <td>0</td>\n",
       "      <td>0</td>\n",
       "    </tr>\n",
       "  </tbody>\n",
       "</table>\n",
       "</div>"
      ],
      "text/plain": [
       "   0  1  2         3         4\n",
       "0  0  0  0  983.490m         0\n",
       "1  0  0  0         0         0\n",
       "2  0  0  0         0         0\n",
       "3  0  0  0         0  990.420m\n",
       "4  0  0  0         0         0"
      ]
     },
     "execution_count": 159,
     "metadata": {},
     "output_type": "execute_result"
    }
   ],
   "source": [
    "sdf = pd.DataFrame.sparse.from_spmatrix(sp_arr)\n",
    "sdf.head()"
   ]
  },
  {
   "cell_type": "code",
   "execution_count": 160,
   "id": "75e0c2bd",
   "metadata": {},
   "outputs": [
    {
     "data": {
      "text/plain": [
       "0    Sparse[float64, 0]\n",
       "1    Sparse[float64, 0]\n",
       "2    Sparse[float64, 0]\n",
       "3    Sparse[float64, 0]\n",
       "4    Sparse[float64, 0]\n",
       "dtype: object"
      ]
     },
     "execution_count": 160,
     "metadata": {},
     "output_type": "execute_result"
    }
   ],
   "source": [
    "sdf.dtypes"
   ]
  },
  {
   "cell_type": "markdown",
   "id": "47d2be52",
   "metadata": {},
   "source": [
    "- All sparse formats are supported, but matrices that are not in COOrdinate format will be converted, copying data as needed. To convert back to sparse SciPy matrix in COO format, you can use the DataFrame.sparse.to_coo() method:"
   ]
  },
  {
   "cell_type": "code",
   "execution_count": 161,
   "id": "c46d87f5",
   "metadata": {},
   "outputs": [
    {
     "data": {
      "text/plain": [
       "<COOrdinate sparse matrix of dtype 'float64'\n",
       "\twith 495 stored elements and shape (1000, 5)>"
      ]
     },
     "execution_count": 161,
     "metadata": {},
     "output_type": "execute_result"
    }
   ],
   "source": [
    "sdf.sparse.to_coo()"
   ]
  },
  {
   "cell_type": "markdown",
   "id": "e910e8ed",
   "metadata": {},
   "source": [
    "- Series.sparse.to_coo() is implemented for transforming a Series with sparse values indexed by a MultiIndex to a scipy.sparse.coo_matrix.\n",
    "\n",
    "- The method requires a MultiIndex with two or more levels."
   ]
  },
  {
   "cell_type": "code",
   "execution_count": 162,
   "id": "2a051de4",
   "metadata": {},
   "outputs": [
    {
     "data": {
      "text/plain": [
       "A  B  C  D\n",
       "1  2  a  0    3.000\n",
       "         1      NaN\n",
       "   1  b  0    1.000\n",
       "         1    3.000\n",
       "2  1  b  0      NaN\n",
       "         1      NaN\n",
       "dtype: Sparse[float64, nan]"
      ]
     },
     "execution_count": 162,
     "metadata": {},
     "output_type": "execute_result"
    }
   ],
   "source": [
    "s = pd.Series([3.0, np.nan, 1.0, 3.0, np.nan, np.nan])\n",
    "s.index = pd.MultiIndex.from_tuples(\n",
    "    [\n",
    "        (1, 2, \"a\", 0),\n",
    "        (1, 2, \"a\", 1),\n",
    "        (1, 1, \"b\", 0),\n",
    "        (1, 1, \"b\", 1),\n",
    "        (2, 1, \"b\", 0),\n",
    "        (2, 1, \"b\", 1),\n",
    "    ],\n",
    "    names=[\"A\", \"B\", \"C\", \"D\"],\n",
    ")\n",
    "ss = s.astype('Sparse')\n",
    "ss"
   ]
  },
  {
   "cell_type": "markdown",
   "id": "46539d3d",
   "metadata": {},
   "source": [
    "- In the example below, we transform the Series to a sparse representation of a 2-d array by specifying that the first and second MultiIndex levels define labels for the rows and the third and fourth levels define labels for the columns. We also specify that the column and row labels should be sorted in the final sparse representation."
   ]
  },
  {
   "cell_type": "code",
   "execution_count": 163,
   "id": "5b3334ca",
   "metadata": {},
   "outputs": [
    {
     "data": {
      "text/plain": [
       "<COOrdinate sparse matrix of dtype 'float64'\n",
       "\twith 3 stored elements and shape (3, 4)>"
      ]
     },
     "execution_count": 163,
     "metadata": {},
     "output_type": "execute_result"
    }
   ],
   "source": [
    "A, rows, columns = ss.sparse.to_coo(\n",
    "    row_levels=[\"A\", \"B\"], column_levels=[\"C\", \"D\"], sort_labels=True\n",
    ")\n",
    "A"
   ]
  },
  {
   "cell_type": "code",
   "execution_count": 164,
   "id": "44a68fa8",
   "metadata": {},
   "outputs": [
    {
     "data": {
      "text/plain": [
       "matrix([[0., 0., 1., 3.],\n",
       "        [3., 0., 0., 0.],\n",
       "        [0., 0., 0., 0.]])"
      ]
     },
     "execution_count": 164,
     "metadata": {},
     "output_type": "execute_result"
    }
   ],
   "source": [
    "A.todense()"
   ]
  },
  {
   "cell_type": "code",
   "execution_count": 165,
   "id": "c784c9b2",
   "metadata": {},
   "outputs": [
    {
     "data": {
      "text/plain": [
       "[(1, 1), (1, 2), (2, 1)]"
      ]
     },
     "execution_count": 165,
     "metadata": {},
     "output_type": "execute_result"
    }
   ],
   "source": [
    "rows"
   ]
  },
  {
   "cell_type": "code",
   "execution_count": 166,
   "id": "e97f02f3",
   "metadata": {},
   "outputs": [
    {
     "data": {
      "text/plain": [
       "[('a', 0), ('a', 1), ('b', 0), ('b', 1)]"
      ]
     },
     "execution_count": 166,
     "metadata": {},
     "output_type": "execute_result"
    }
   ],
   "source": [
    "columns"
   ]
  },
  {
   "cell_type": "markdown",
   "id": "f7f7ecf5",
   "metadata": {},
   "source": [
    "- Specifying different row and column labels (and not sorting them) yields a different sparse matrix:"
   ]
  },
  {
   "cell_type": "code",
   "execution_count": 167,
   "id": "196d47f9",
   "metadata": {},
   "outputs": [
    {
     "data": {
      "text/plain": [
       "<COOrdinate sparse matrix of dtype 'float64'\n",
       "\twith 3 stored elements and shape (3, 2)>"
      ]
     },
     "execution_count": 167,
     "metadata": {},
     "output_type": "execute_result"
    }
   ],
   "source": [
    "A, rows, columns = ss.sparse.to_coo(\n",
    "    row_levels=[\"A\", \"B\", \"C\"], column_levels=[\"D\"], sort_labels=False\n",
    ")\n",
    "A"
   ]
  },
  {
   "cell_type": "code",
   "execution_count": 168,
   "id": "362074e7",
   "metadata": {},
   "outputs": [
    {
     "data": {
      "text/plain": [
       "matrix([[3., 0.],\n",
       "        [1., 3.],\n",
       "        [0., 0.]])"
      ]
     },
     "execution_count": 168,
     "metadata": {},
     "output_type": "execute_result"
    }
   ],
   "source": [
    "A.todense()"
   ]
  },
  {
   "cell_type": "code",
   "execution_count": 169,
   "id": "cf192828",
   "metadata": {},
   "outputs": [
    {
     "data": {
      "text/plain": [
       "[(1, 2, 'a'), (1, 1, 'b'), (2, 1, 'b')]"
      ]
     },
     "execution_count": 169,
     "metadata": {},
     "output_type": "execute_result"
    }
   ],
   "source": [
    "rows"
   ]
  },
  {
   "cell_type": "code",
   "execution_count": 170,
   "id": "4fe9445f",
   "metadata": {},
   "outputs": [
    {
     "data": {
      "text/plain": [
       "[(0,), (1,)]"
      ]
     },
     "execution_count": 170,
     "metadata": {},
     "output_type": "execute_result"
    }
   ],
   "source": [
    "columns"
   ]
  },
  {
   "cell_type": "markdown",
   "id": "ca2fb796",
   "metadata": {},
   "source": [
    "- A convenience method Series.sparse.from_coo() is implemented for creating a Series with sparse values from a scipy.sparse.coo_matrix."
   ]
  },
  {
   "cell_type": "code",
   "execution_count": 171,
   "id": "f3b79b1f",
   "metadata": {},
   "outputs": [
    {
     "data": {
      "text/plain": [
       "<COOrdinate sparse matrix of dtype 'float64'\n",
       "\twith 3 stored elements and shape (3, 4)>"
      ]
     },
     "execution_count": 171,
     "metadata": {},
     "output_type": "execute_result"
    }
   ],
   "source": [
    "from scipy import sparse\n",
    "\n",
    "A = sparse.coo_matrix(([3.0, 1.0, 2.0], ([1, 0, 0], [0, 2, 3])), shape=(3, 4))\n",
    "A"
   ]
  },
  {
   "cell_type": "code",
   "execution_count": 172,
   "id": "933544fc",
   "metadata": {},
   "outputs": [
    {
     "data": {
      "text/plain": [
       "matrix([[0., 0., 1., 2.],\n",
       "        [3., 0., 0., 0.],\n",
       "        [0., 0., 0., 0.]])"
      ]
     },
     "execution_count": 172,
     "metadata": {},
     "output_type": "execute_result"
    }
   ],
   "source": [
    "A.todense()"
   ]
  },
  {
   "cell_type": "markdown",
   "id": "df0bd653",
   "metadata": {},
   "source": [
    "- The default behaviour (with dense_index=False) simply returns a Series containing only the non-null entries."
   ]
  },
  {
   "cell_type": "code",
   "execution_count": 173,
   "id": "44f7f207",
   "metadata": {},
   "outputs": [
    {
     "data": {
      "text/plain": [
       "0  2    1.000\n",
       "   3    2.000\n",
       "1  0    3.000\n",
       "dtype: Sparse[float64, nan]"
      ]
     },
     "execution_count": 173,
     "metadata": {},
     "output_type": "execute_result"
    }
   ],
   "source": [
    "ss = pd.Series.sparse.from_coo(A)\n",
    "ss"
   ]
  },
  {
   "cell_type": "markdown",
   "id": "1c3a071e",
   "metadata": {},
   "source": [
    "- Specifying dense_index=True will result in an index that is the Cartesian product of the row and columns coordinates of the matrix. Note that this will consume a significant amount of memory (relative to dense_index=False) if the sparse matrix is large (and sparse) enough."
   ]
  },
  {
   "cell_type": "code",
   "execution_count": 174,
   "id": "344deb49",
   "metadata": {},
   "outputs": [
    {
     "data": {
      "text/plain": [
       "1  0    3.000\n",
       "   2      NaN\n",
       "   3      NaN\n",
       "0  0      NaN\n",
       "   2    1.000\n",
       "   3    2.000\n",
       "   0      NaN\n",
       "   2    1.000\n",
       "   3    2.000\n",
       "dtype: Sparse[float64, nan]"
      ]
     },
     "execution_count": 174,
     "metadata": {},
     "output_type": "execute_result"
    }
   ],
   "source": [
    "ss_dense = pd.Series.sparse.from_coo(A, dense_index=True)\n",
    "ss_dense"
   ]
  },
  {
   "cell_type": "markdown",
   "id": "7959c9c9",
   "metadata": {},
   "source": [
    "### Frequently Asked Questions (FAQ)\n",
    "- From https://pandas.pydata.org/docs/user_guide/gotchas.html\n",
    "#### DataFrame memory usage\n",
    "- The memory usage of a DataFrame (including the index) is shown when calling the info(). A configuration option, display.memory_usage (see the list of options), specifies if the DataFrame memory usage will be displayed when invoking the info() method.\n",
    "\n",
    "- For example, the memory usage of the DataFrame below is shown when calling info():"
   ]
  },
  {
   "cell_type": "code",
   "execution_count": 175,
   "id": "39dd2a5b",
   "metadata": {},
   "outputs": [
    {
     "name": "stdout",
     "output_type": "stream",
     "text": [
      "<class 'pandas.core.frame.DataFrame'>\n",
      "RangeIndex: 5000 entries, 0 to 4999\n",
      "Data columns (total 8 columns):\n",
      " #   Column           Non-Null Count  Dtype          \n",
      "---  ------           --------------  -----          \n",
      " 0   int64            5000 non-null   int64          \n",
      " 1   float64          5000 non-null   float64        \n",
      " 2   datetime64[ns]   5000 non-null   datetime64[ns] \n",
      " 3   timedelta64[ns]  5000 non-null   timedelta64[ns]\n",
      " 4   complex128       5000 non-null   complex128     \n",
      " 5   object           5000 non-null   object         \n",
      " 6   bool             5000 non-null   bool           \n",
      " 7   categorical      5000 non-null   category       \n",
      "dtypes: bool(1), category(1), complex128(1), datetime64[ns](1), float64(1), int64(1), object(1), timedelta64[ns](1)\n",
      "memory usage: 288.2+ KB\n"
     ]
    }
   ],
   "source": [
    "dtypes = [\n",
    "    \"int64\",\n",
    "    \"float64\",\n",
    "    \"datetime64[ns]\",\n",
    "    \"timedelta64[ns]\",\n",
    "    \"complex128\",\n",
    "    \"object\",\n",
    "    \"bool\",\n",
    "]\n",
    "n = 5000\n",
    "data = {t: np.random.randint(100, size=n).astype(t) for t in dtypes}\n",
    "df = pd.DataFrame(data)\n",
    "df[\"categorical\"] = df[\"object\"].astype(\"category\")\n",
    "df.info()"
   ]
  },
  {
   "cell_type": "markdown",
   "id": "3ba7ca1d",
   "metadata": {},
   "source": [
    "- The + symbol indicates that the true memory usage could be higher, because pandas does not count the memory used by values in columns with dtype=object.\n",
    "\n",
    "- Passing memory_usage='deep' will enable a more accurate memory usage report, accounting for the full usage of the contained objects. This is optional as it can be expensive to do this deeper introspection."
   ]
  },
  {
   "cell_type": "code",
   "execution_count": 176,
   "id": "529a5a00",
   "metadata": {},
   "outputs": [
    {
     "name": "stdout",
     "output_type": "stream",
     "text": [
      "<class 'pandas.core.frame.DataFrame'>\n",
      "RangeIndex: 5000 entries, 0 to 4999\n",
      "Data columns (total 8 columns):\n",
      " #   Column           Non-Null Count  Dtype          \n",
      "---  ------           --------------  -----          \n",
      " 0   int64            5000 non-null   int64          \n",
      " 1   float64          5000 non-null   float64        \n",
      " 2   datetime64[ns]   5000 non-null   datetime64[ns] \n",
      " 3   timedelta64[ns]  5000 non-null   timedelta64[ns]\n",
      " 4   complex128       5000 non-null   complex128     \n",
      " 5   object           5000 non-null   object         \n",
      " 6   bool             5000 non-null   bool           \n",
      " 7   categorical      5000 non-null   category       \n",
      "dtypes: bool(1), category(1), complex128(1), datetime64[ns](1), float64(1), int64(1), object(1), timedelta64[ns](1)\n",
      "memory usage: 424.9 KB\n"
     ]
    }
   ],
   "source": [
    "df.info(memory_usage=\"deep\")"
   ]
  },
  {
   "cell_type": "markdown",
   "id": "0457b591",
   "metadata": {},
   "source": [
    "- By default the display option is set to True but can be explicitly overridden by passing the memory_usage argument when invoking info().\n",
    "\n",
    "- The memory usage of each column can be found by calling the memory_usage() method. This returns a Series with an index represented by column names and memory usage of each column shown in bytes. For the DataFrame above, the memory usage of each column and the total memory usage can be found with the memory_usage() method:"
   ]
  },
  {
   "cell_type": "code",
   "execution_count": 177,
   "id": "dbfcd7d7",
   "metadata": {},
   "outputs": [
    {
     "data": {
      "text/plain": [
       "Index                132\n",
       "int64              40000\n",
       "float64            40000\n",
       "datetime64[ns]     40000\n",
       "timedelta64[ns]    40000\n",
       "complex128         80000\n",
       "object             40000\n",
       "bool                5000\n",
       "categorical         9968\n",
       "dtype: int64"
      ]
     },
     "execution_count": 177,
     "metadata": {},
     "output_type": "execute_result"
    }
   ],
   "source": [
    "df.memory_usage()"
   ]
  },
  {
   "cell_type": "code",
   "execution_count": 178,
   "id": "d869abaf",
   "metadata": {},
   "outputs": [
    {
     "data": {
      "text/plain": [
       "np.int64(295100)"
      ]
     },
     "execution_count": 178,
     "metadata": {},
     "output_type": "execute_result"
    }
   ],
   "source": [
    "# total memory usage of dataframe\n",
    "df.memory_usage().sum()"
   ]
  },
  {
   "cell_type": "markdown",
   "id": "a03925c6",
   "metadata": {},
   "source": [
    "- By default the memory usage of the DataFrame index is shown in the returned Series, the memory usage of the index can be suppressed by passing the index=False argument:"
   ]
  },
  {
   "cell_type": "code",
   "execution_count": 179,
   "id": "693bc25a",
   "metadata": {},
   "outputs": [
    {
     "data": {
      "text/plain": [
       "int64              40000\n",
       "float64            40000\n",
       "datetime64[ns]     40000\n",
       "timedelta64[ns]    40000\n",
       "complex128         80000\n",
       "object             40000\n",
       "bool                5000\n",
       "categorical         9968\n",
       "dtype: int64"
      ]
     },
     "execution_count": 179,
     "metadata": {},
     "output_type": "execute_result"
    }
   ],
   "source": [
    "df.memory_usage(index=False)"
   ]
  },
  {
   "cell_type": "markdown",
   "id": "bc0dfc7c",
   "metadata": {},
   "source": [
    "- The memory usage displayed by the info() method utilizes the memory_usage() method to determine the memory usage of a DataFrame while also formatting the output in human-readable units (base-2 representation; i.e. 1KB = 1024 bytes).\n",
    "\n",
    "- See also Categorical Memory Usage.\n",
    "\n",
    "#### Using if/truth statements with pandas\n",
    "- pandas follows the NumPy convention of raising an error when you try to convert something to a bool. This happens in an if-statement or when using the boolean operations: and, or, and not. It is not clear what the result of the following code should be:"
   ]
  },
  {
   "cell_type": "code",
   "execution_count": 181,
   "id": "d4001271",
   "metadata": {},
   "outputs": [],
   "source": [
    "# if pd.Series([False, True, False]):\n",
    "#     pass"
   ]
  },
  {
   "cell_type": "markdown",
   "id": "b5381ed6",
   "metadata": {},
   "source": [
    "- Should it be True because it’s not zero-length, or False because there are False values? It is unclear, so instead, pandas raises a ValueError:\n",
    "- You need to explicitly choose what you want to do with the DataFrame, e.g. use any(), all() or empty(). Alternatively, you might want to compare if the pandas object is None:"
   ]
  },
  {
   "cell_type": "code",
   "execution_count": 182,
   "id": "9a1e70cd",
   "metadata": {},
   "outputs": [
    {
     "name": "stdout",
     "output_type": "stream",
     "text": [
      "I was not None\n"
     ]
    }
   ],
   "source": [
    "if pd.Series([False, True, False]) is not None:\n",
    "    print(\"I was not None\")\n"
   ]
  },
  {
   "cell_type": "markdown",
   "id": "d2aad3b0",
   "metadata": {},
   "source": [
    "- Below is how to check if any of the values are True:"
   ]
  },
  {
   "cell_type": "code",
   "execution_count": 183,
   "id": "f447eda1",
   "metadata": {},
   "outputs": [
    {
     "name": "stdout",
     "output_type": "stream",
     "text": [
      "I am any\n"
     ]
    }
   ],
   "source": [
    "if pd.Series([False, True, False]).any():\n",
    "    print(\"I am any\")"
   ]
  },
  {
   "cell_type": "markdown",
   "id": "615c37b9",
   "metadata": {},
   "source": [
    "#### Bitwise boolean\n",
    "- Bitwise boolean operators like == and != return a boolean Series which performs an element-wise comparison when compared to a scalar."
   ]
  },
  {
   "cell_type": "code",
   "execution_count": 184,
   "id": "4e7221f6",
   "metadata": {},
   "outputs": [
    {
     "data": {
      "text/plain": [
       "0    False\n",
       "1    False\n",
       "2    False\n",
       "3    False\n",
       "4     True\n",
       "dtype: bool"
      ]
     },
     "execution_count": 184,
     "metadata": {},
     "output_type": "execute_result"
    }
   ],
   "source": [
    "s = pd.Series(range(5))\n",
    "s == 4"
   ]
  },
  {
   "cell_type": "markdown",
   "id": "243e990e",
   "metadata": {},
   "source": [
    "#### Using the in operator\n",
    "- Using the Python in operator on a Series tests for membership in the index, not membership among the values."
   ]
  },
  {
   "cell_type": "code",
   "execution_count": 185,
   "id": "1a082c01",
   "metadata": {},
   "outputs": [
    {
     "data": {
      "text/plain": [
       "False"
      ]
     },
     "execution_count": 185,
     "metadata": {},
     "output_type": "execute_result"
    }
   ],
   "source": [
    "s = pd.Series(range(5), index=list(\"abcde\"))\n",
    "2 in s"
   ]
  },
  {
   "cell_type": "code",
   "execution_count": 186,
   "id": "02766b2a",
   "metadata": {},
   "outputs": [
    {
     "data": {
      "text/plain": [
       "True"
      ]
     },
     "execution_count": 186,
     "metadata": {},
     "output_type": "execute_result"
    }
   ],
   "source": [
    "'b' in s"
   ]
  },
  {
   "cell_type": "markdown",
   "id": "105d3046",
   "metadata": {},
   "source": [
    "- If this behavior is surprising, keep in mind that using in on a Python dictionary tests keys, not values, and Series are dict-like. To test for membership in the values, use the method isin():"
   ]
  },
  {
   "cell_type": "code",
   "execution_count": 187,
   "id": "48bf986f",
   "metadata": {},
   "outputs": [
    {
     "data": {
      "text/plain": [
       "a    False\n",
       "b    False\n",
       "c     True\n",
       "d    False\n",
       "e    False\n",
       "dtype: bool"
      ]
     },
     "execution_count": 187,
     "metadata": {},
     "output_type": "execute_result"
    }
   ],
   "source": [
    "s.isin([2])"
   ]
  },
  {
   "cell_type": "code",
   "execution_count": 188,
   "id": "933c76eb",
   "metadata": {},
   "outputs": [
    {
     "data": {
      "text/plain": [
       "np.True_"
      ]
     },
     "execution_count": 188,
     "metadata": {},
     "output_type": "execute_result"
    }
   ],
   "source": [
    "s.isin([2]).any()"
   ]
  },
  {
   "cell_type": "markdown",
   "id": "1125fbf0",
   "metadata": {},
   "source": [
    "- For DataFrame, likewise, in applies to the column axis, testing for membership in the list of column names.\n",
    "\n",
    "#### Mutating with User Defined Function (UDF) methods\n",
    "- This section applies to pandas methods that take a UDF. In particular, the methods DataFrame.apply(), DataFrame.aggregate(), DataFrame.transform(), and DataFrame.filter().\n",
    "\n",
    "- It is a general rule in programming that one should not mutate a container while it is being iterated over. Mutation will invalidate the iterator, causing unexpected behavior. Consider the example:"
   ]
  },
  {
   "cell_type": "code",
   "execution_count": 189,
   "id": "95c99520",
   "metadata": {},
   "outputs": [
    {
     "data": {
      "text/plain": [
       "[1, 4, 5]"
      ]
     },
     "execution_count": 189,
     "metadata": {},
     "output_type": "execute_result"
    }
   ],
   "source": [
    "values = [0, 1, 2, 3, 4, 5]\n",
    "n_removed = 0\n",
    "for k, value in enumerate(values):\n",
    "    idx = k - n_removed\n",
    "    if value % 2 == 1:\n",
    "        del values[idx]\n",
    "        n_removed += 1\n",
    "    else:\n",
    "        values[idx] = value + 1\n",
    "values"
   ]
  },
  {
   "cell_type": "markdown",
   "id": "5e9dcd46",
   "metadata": {},
   "source": [
    "- One probably would have expected that the result would be [1, 3, 5]. When using a pandas method that takes a UDF, internally pandas is often iterating over the DataFrame or other pandas object. Therefore, if the UDF mutates (changes) the DataFrame, unexpected behavior can arise.\n",
    "\n",
    "- Here is a similar example with DataFrame.apply():"
   ]
  },
  {
   "cell_type": "code",
   "execution_count": 192,
   "id": "66af577e",
   "metadata": {},
   "outputs": [
    {
     "name": "stdout",
     "output_type": "stream",
     "text": [
      "KeyError\n"
     ]
    }
   ],
   "source": [
    "def f(s):\n",
    "    s.pop(\"a\")\n",
    "    return s\n",
    "\n",
    "\n",
    "df = pd.DataFrame({\"a\": [1, 2, 3], \"b\": [4, 5, 6]})\n",
    "\n",
    "try:\n",
    "    df.apply(f, axis=\"columns\")\n",
    "except Exception as e:\n",
    "    print(\"KeyError\")"
   ]
  },
  {
   "cell_type": "markdown",
   "id": "9fd4431b",
   "metadata": {},
   "source": [
    "- To resolve this issue, one can make a copy so that the mutation does not apply to the container being iterated over."
   ]
  },
  {
   "cell_type": "code",
   "execution_count": 193,
   "id": "a15c0d86",
   "metadata": {},
   "outputs": [
    {
     "data": {
      "text/plain": [
       "[1, 3, 5]"
      ]
     },
     "execution_count": 193,
     "metadata": {},
     "output_type": "execute_result"
    }
   ],
   "source": [
    "values = [0, 1, 2, 3, 4, 5]\n",
    "n_removed = 0\n",
    "for k, value in enumerate(values.copy()):\n",
    "    idx = k - n_removed\n",
    "    if value % 2 == 1:\n",
    "        del values[idx]\n",
    "        n_removed += 1\n",
    "    else:\n",
    "        values[idx] = value + 1\n",
    "values"
   ]
  },
  {
   "cell_type": "code",
   "execution_count": 194,
   "id": "42ea033b",
   "metadata": {},
   "outputs": [
    {
     "data": {
      "text/html": [
       "<div>\n",
       "<style scoped>\n",
       "    .dataframe tbody tr th:only-of-type {\n",
       "        vertical-align: middle;\n",
       "    }\n",
       "\n",
       "    .dataframe tbody tr th {\n",
       "        vertical-align: top;\n",
       "    }\n",
       "\n",
       "    .dataframe thead th {\n",
       "        text-align: right;\n",
       "    }\n",
       "</style>\n",
       "<table border=\"1\" class=\"dataframe\">\n",
       "  <thead>\n",
       "    <tr style=\"text-align: right;\">\n",
       "      <th></th>\n",
       "      <th>b</th>\n",
       "    </tr>\n",
       "  </thead>\n",
       "  <tbody>\n",
       "    <tr>\n",
       "      <th>0</th>\n",
       "      <td>4</td>\n",
       "    </tr>\n",
       "    <tr>\n",
       "      <th>1</th>\n",
       "      <td>5</td>\n",
       "    </tr>\n",
       "    <tr>\n",
       "      <th>2</th>\n",
       "      <td>6</td>\n",
       "    </tr>\n",
       "  </tbody>\n",
       "</table>\n",
       "</div>"
      ],
      "text/plain": [
       "   b\n",
       "0  4\n",
       "1  5\n",
       "2  6"
      ]
     },
     "execution_count": 194,
     "metadata": {},
     "output_type": "execute_result"
    }
   ],
   "source": [
    "def f(s):\n",
    "    s = s.copy()\n",
    "    s.pop(\"a\")\n",
    "    return s\n",
    "\n",
    "df = pd.DataFrame({\"a\": [1, 2, 3], 'b': [4, 5, 6]})\n",
    "df.apply(f, axis=\"columns\")\n"
   ]
  },
  {
   "cell_type": "markdown",
   "id": "68ddde78",
   "metadata": {},
   "source": [
    "#### Missing value representation for NumPy types\n",
    "- np.nan as the NA representation for NumPy types\n",
    "For lack of NA (missing) support from the ground up in NumPy and Python in general, NA could have been represented with:\n",
    "    - A masked array solution: an array of data and an array of boolean values indicating whether a value is there or is missing.\n",
    "    - Using a special sentinel value, bit pattern, or set of sentinel values to denote NA across the dtypes.\n",
    "\n",
    "- The special value np.nan (Not-A-Number) was chosen as the NA value for NumPy types, and there are API functions like DataFrame.isna() and DataFrame.notna() which can be used across the dtypes to detect NA values. However, this choice has a downside of coercing missing integer data as float types as shown in Support for integer NA.\n",
    "\n",
    "#### NA type promotions for NumPy types\n",
    "- When introducing NAs into an existing Series or DataFrame via reindex() or some other means, boolean and integer types will be promoted to a different dtype in order to store the NAs. The promotions are summarized in this table:\n",
    "\n",
    "| ypeclass | Promotion dtype for storing NAs |\n",
    "| ------ | ------- |\n",
    "| floating | no change |\n",
    "| object | no change |\n",
    "| integer | cast to float64 |\n",
    "| boolean | cast to object |\n",
    "\n",
    "#### Support for integer NA\n",
    "- In the absence of high performance NA support being built into NumPy from the ground up, the primary casualty is the ability to represent NAs in integer arrays. For example:"
   ]
  },
  {
   "cell_type": "code",
   "execution_count": 195,
   "id": "db686115",
   "metadata": {},
   "outputs": [
    {
     "data": {
      "text/plain": [
       "a    1\n",
       "b    2\n",
       "c    3\n",
       "d    4\n",
       "e    5\n",
       "dtype: int64"
      ]
     },
     "execution_count": 195,
     "metadata": {},
     "output_type": "execute_result"
    }
   ],
   "source": [
    "s = pd.Series([1, 2, 3, 4, 5], index=list(\"abcde\"))\n",
    "s"
   ]
  },
  {
   "cell_type": "code",
   "execution_count": 196,
   "id": "57f4b765",
   "metadata": {},
   "outputs": [
    {
     "data": {
      "text/plain": [
       "dtype('int64')"
      ]
     },
     "execution_count": 196,
     "metadata": {},
     "output_type": "execute_result"
    }
   ],
   "source": [
    "s.dtype"
   ]
  },
  {
   "cell_type": "code",
   "execution_count": 197,
   "id": "acee7788",
   "metadata": {},
   "outputs": [
    {
     "data": {
      "text/plain": [
       "a    1.000\n",
       "b    2.000\n",
       "c    3.000\n",
       "f      NaN\n",
       "u      NaN\n",
       "dtype: float64"
      ]
     },
     "execution_count": 197,
     "metadata": {},
     "output_type": "execute_result"
    }
   ],
   "source": [
    "s2 = s.reindex([\"a\", \"b\", \"c\", \"f\", \"u\"])\n",
    "s2"
   ]
  },
  {
   "cell_type": "code",
   "execution_count": 198,
   "id": "c27075aa",
   "metadata": {},
   "outputs": [
    {
     "data": {
      "text/plain": [
       "dtype('float64')"
      ]
     },
     "execution_count": 198,
     "metadata": {},
     "output_type": "execute_result"
    }
   ],
   "source": [
    "s2.dtype"
   ]
  },
  {
   "cell_type": "markdown",
   "id": "76aa6787",
   "metadata": {},
   "source": [
    "- This trade-off is made largely for memory and performance reasons, and also so that the resulting Series continues to be “numeric”.\n",
    "\n",
    "- If you need to represent integers with possibly missing values, use one of the nullable-integer extension dtypes provided by pandas or pyarrow\n",
    "    - Int8Dtype\n",
    "    - Int16Dtype\n",
    "    - Int32Dtype\n",
    "    - Int64Dtype\n",
    "    - ArrowDtype"
   ]
  },
  {
   "cell_type": "code",
   "execution_count": 199,
   "id": "1acb7e17",
   "metadata": {},
   "outputs": [
    {
     "data": {
      "text/plain": [
       "a    1\n",
       "b    2\n",
       "c    3\n",
       "d    4\n",
       "e    5\n",
       "dtype: Int64"
      ]
     },
     "execution_count": 199,
     "metadata": {},
     "output_type": "execute_result"
    }
   ],
   "source": [
    "s_int = pd.Series([1, 2, 3, 4, 5], index=list(\"abcde\"), dtype=pd.Int64Dtype())\n",
    "s_int"
   ]
  },
  {
   "cell_type": "code",
   "execution_count": 200,
   "id": "fc3658cb",
   "metadata": {},
   "outputs": [
    {
     "data": {
      "text/plain": [
       "Int64Dtype()"
      ]
     },
     "execution_count": 200,
     "metadata": {},
     "output_type": "execute_result"
    }
   ],
   "source": [
    "s_int.dtype"
   ]
  },
  {
   "cell_type": "code",
   "execution_count": 201,
   "id": "aee897bd",
   "metadata": {},
   "outputs": [
    {
     "data": {
      "text/plain": [
       "a       1\n",
       "b       2\n",
       "c       3\n",
       "f    <NA>\n",
       "u    <NA>\n",
       "dtype: Int64"
      ]
     },
     "execution_count": 201,
     "metadata": {},
     "output_type": "execute_result"
    }
   ],
   "source": [
    "s2_int = s_int.reindex([\"a\", \"b\", \"c\", \"f\", \"u\"])\n",
    "s2_int"
   ]
  },
  {
   "cell_type": "code",
   "execution_count": 202,
   "id": "e379c688",
   "metadata": {},
   "outputs": [
    {
     "data": {
      "text/plain": [
       "Int64Dtype()"
      ]
     },
     "execution_count": 202,
     "metadata": {},
     "output_type": "execute_result"
    }
   ],
   "source": [
    "s2_int.dtype"
   ]
  },
  {
   "cell_type": "code",
   "execution_count": 203,
   "id": "156ad095",
   "metadata": {},
   "outputs": [
    {
     "data": {
      "text/plain": [
       "0       1\n",
       "1       2\n",
       "2    <NA>\n",
       "dtype: int64[pyarrow]"
      ]
     },
     "execution_count": 203,
     "metadata": {},
     "output_type": "execute_result"
    }
   ],
   "source": [
    "s_int_pa = pd.Series([1, 2, None], dtype=\"int64[pyarrow]\")\n",
    "s_int_pa"
   ]
  },
  {
   "cell_type": "markdown",
   "id": "6024c656",
   "metadata": {},
   "source": [
    "#### Why not make NumPy like R?\n",
    "- Many people have suggested that NumPy should simply emulate the NA support present in the more domain-specific statistical programming language R. Part of the reason is the NumPy type hierarchy.\n",
    "\n",
    "- The R language, by contrast, only has a handful of built-in data types: integer, numeric (floating-point), character, and boolean. NA types are implemented by reserving special bit patterns for each type to be used as the missing value. While doing this with the full NumPy type hierarchy would be possible, it would be a more substantial trade-off (especially for the 8- and 16-bit data types) and implementation undertaking.\n",
    "\n",
    "- However, R NA semantics are now available by using masked NumPy types such as Int64Dtype or PyArrow types (ArrowDtype).\n",
    "\n",
    "#### Differences with NumPy\n",
    "- For Series and DataFrame objects, var() normalizes by N-1 to produce unbiased estimates of the population variance, while NumPy’s numpy.var() normalizes by N, which measures the variance of the sample. Note that cov() normalizes by N-1 in both pandas and NumPy.\n",
    "\n",
    "#### Thread-safety\n",
    "- pandas is not 100% thread safe. The known issues relate to the copy() method. If you are doing a lot of copying of DataFrame objects shared among threads, we recommend holding locks inside the threads where the data copying occurs.\n",
    "\n",
    "- See this link for more information.\n",
    "\n",
    "#### Byte-ordering issues\n",
    "- Occasionally you may have to deal with data that were created on a machine with a different byte order than the one on which you are running Python. A common symptom of this issue is an error like:\n",
    "`Traceback\n",
    "    ...\n",
    "ValueError: Big-endian buffer not supported on little-endian compiler`\n",
    "- To deal with this issue you should convert the underlying NumPy array to the native system byte order before passing it to Series or DataFrame constructors using something similar to the following:"
   ]
  },
  {
   "cell_type": "code",
   "execution_count": 204,
   "id": "f31673f9",
   "metadata": {},
   "outputs": [],
   "source": [
    "x = np.array(list(range(10)), \">i4\")  # big endian\n",
    "\n",
    "newx = x.byteswap().view(x.dtype.newbyteorder())  # force native byteorder\n",
    "\n",
    "s = pd.Series(newx)"
   ]
  },
  {
   "cell_type": "code",
   "execution_count": null,
   "id": "f8b9dc4a",
   "metadata": {},
   "outputs": [],
   "source": []
  }
 ],
 "metadata": {
  "kernelspec": {
   "display_name": "Python 3",
   "language": "python",
   "name": "python3"
  },
  "language_info": {
   "codemirror_mode": {
    "name": "ipython",
    "version": 3
   },
   "file_extension": ".py",
   "mimetype": "text/x-python",
   "name": "python",
   "nbconvert_exporter": "python",
   "pygments_lexer": "ipython3",
   "version": "3.13.5"
  }
 },
 "nbformat": 4,
 "nbformat_minor": 5
}
