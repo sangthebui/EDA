{
 "cells": [
  {
   "cell_type": "code",
   "execution_count": 191,
   "id": "f27171dc",
   "metadata": {},
   "outputs": [],
   "source": [
    "import pandas as pd\n",
    "import numpy as np\n",
    "import pyarrow.feather as feather\n",
    "import matplotlib.pyplot as plt"
   ]
  },
  {
   "cell_type": "code",
   "execution_count": 2,
   "id": "a2d90b24",
   "metadata": {},
   "outputs": [
    {
     "name": "stdout",
     "output_type": "stream",
     "text": [
      "pandas version: $2.2.3\n",
      "numpy version: $2.1.2\n"
     ]
    }
   ],
   "source": [
    "print(f\"pandas version: ${pd.__version__}\")\n",
    "print(f\"numpy version: ${np.__version__}\")"
   ]
  },
  {
   "cell_type": "markdown",
   "id": "3913b309",
   "metadata": {},
   "source": [
    "# array\n",
    "- Create an array."
   ]
  },
  {
   "cell_type": "code",
   "execution_count": null,
   "id": "fb712e26",
   "metadata": {},
   "outputs": [],
   "source": [
    "pd.array([10, 20], dtype=\"Int64\")"
   ]
  },
  {
   "cell_type": "markdown",
   "id": "0e136b2d",
   "metadata": {},
   "source": [
    "# bdate_range\n",
    "- Return a fixed frequency DatetimeIndex with business day as the default."
   ]
  },
  {
   "cell_type": "code",
   "execution_count": null,
   "id": "dc2c47a5",
   "metadata": {},
   "outputs": [],
   "source": [
    "pd.bdate_range(start='10/1/2025', end='10/08/2025')"
   ]
  },
  {
   "cell_type": "markdown",
   "id": "55ad54b6",
   "metadata": {},
   "source": [
    "# concat\n",
    "- Concatenate pandas objects along a particular axis.\n",
    "- Allows optional set logic along the other axes.\n",
    "- Can also add a layer of hierarchical indexing on the concatenation axis, which may be useful if the labels are the same (or overlapping) on the passed axis number."
   ]
  },
  {
   "cell_type": "code",
   "execution_count": null,
   "id": "19509fb4",
   "metadata": {},
   "outputs": [],
   "source": [
    "s1 = pd.Series(['a', 'b'])\n",
    "s2 = pd.Series(['c', 'd'])\n",
    "pd.concat([s1, s2])\n"
   ]
  },
  {
   "cell_type": "markdown",
   "id": "9a24816f",
   "metadata": {},
   "source": [
    "# crosstab\n",
    "- Compute a simple cross tabulation of two (or more) factors.\n",
    "- By default, computes a frequency table of the factors unless an array of values and an aggregation function are passed."
   ]
  },
  {
   "cell_type": "code",
   "execution_count": null,
   "id": "086a77e1",
   "metadata": {},
   "outputs": [],
   "source": [
    "a = np.array([\"foo\", \"foo\", \"foo\", \"foo\", \"bar\", \"bar\",\n",
    "               \"bar\", \"bar\", \"foo\", \"foo\", \"foo\"], dtype=object)\n",
    "b = np.array([\"one\", \"one\", \"one\", \"two\", \"one\", \"one\",\n",
    "              \"one\", \"two\", \"two\", \"two\", \"one\"], dtype=object)\n",
    "c = np.array([\"dull\", \"dull\", \"shiny\", \"dull\", \"dull\", \"shiny\",\n",
    "              \"shiny\", \"dull\", \"shiny\", \"shiny\", \"shiny\"],\n",
    "             dtype=object)\n",
    "pd.crosstab(a, [b, c], rownames=['a'], colnames=['b', 'c'])\n"
   ]
  },
  {
   "cell_type": "markdown",
   "id": "8f71cbb4",
   "metadata": {},
   "source": [
    "# cut\n",
    "- Bin values into discrete intervals.\n",
    "- Use cut when you need to segment and sort data values into bins. This function is also useful for going from a continuous variable to a categorical variable. For example, cut could convert ages to groups of age ranges. Supports binning into an equal number of bins, or a pre-specified array of bins."
   ]
  },
  {
   "cell_type": "code",
   "execution_count": null,
   "id": "176b7939",
   "metadata": {},
   "outputs": [],
   "source": [
    "pd.cut(np.array([1, 7, 5, 4, 6, 3, 10, 30, 50]), 3)"
   ]
  },
  {
   "cell_type": "markdown",
   "id": "ea5e7383",
   "metadata": {},
   "source": [
    "# date_range\n",
    "- Return a fixed frequency DatetimeIndex.\n",
    "- Returns the range of equally spaced time points (where the difference between any two adjacent points is specified by the given frequency) such that they all satisfy start <[=] x <[=] end, where the first one and the last one are, resp., the first and last time points in that range that fall on the boundary of freq (if given as a frequency string) or that are valid for freq (if given as a pandas.tseries.offsets.DateOffset). (If exactly one of start, end, or freq is not specified, this missing parameter can be computed given periods, the number of timesteps in the range. See the note below.)"
   ]
  },
  {
   "cell_type": "code",
   "execution_count": null,
   "id": "d907949b",
   "metadata": {},
   "outputs": [],
   "source": [
    "pd.date_range(start='10/1/2025', end='10/08/2025')"
   ]
  },
  {
   "cell_type": "markdown",
   "id": "786d330d",
   "metadata": {},
   "source": [
    "# describe_option\n",
    "- Prints the description for one or more registered options.\n",
    "- Call with no arguments to get a listing for all registered options."
   ]
  },
  {
   "cell_type": "code",
   "execution_count": null,
   "id": "5cc6b62c",
   "metadata": {},
   "outputs": [],
   "source": [
    "pd.describe_option()"
   ]
  },
  {
   "cell_type": "markdown",
   "id": "f71bf793",
   "metadata": {},
   "source": [
    "# eval\n",
    "- Evaluate a Python expression as a string using various backends.\n",
    "- The following arithmetic operations are supported: +, -, *, /, **, %, // (python engine only) along with the following boolean operations: | (or), & (and), and ~ (not). Additionally, the 'pandas' parser allows the use of and, or, and not with the same semantics as the corresponding bitwise operators. Series and DataFrame objects are supported and behave as they would with plain ol’ Python evaluation."
   ]
  },
  {
   "cell_type": "code",
   "execution_count": null,
   "id": "e59d0948",
   "metadata": {},
   "outputs": [],
   "source": [
    "df = pd.DataFrame({\"animal\": [\"dog\", \"pig\"], \"age\": [10, 20]})\n",
    "pd.eval(\"double_age = df.age * 2\", target=df)"
   ]
  },
  {
   "cell_type": "markdown",
   "id": "abc84d7f",
   "metadata": {},
   "source": [
    "# factorize\n",
    "- Encode the object as an enumerated type or categorical variable.\n",
    "- This method is useful for obtaining a numeric representation of an array when all that matters is identifying distinct values. factorize is available as both a top-level function pandas.factorize(), and as a method Series.factorize() and Index.factorize()."
   ]
  },
  {
   "cell_type": "code",
   "execution_count": null,
   "id": "2a2d3c43",
   "metadata": {},
   "outputs": [],
   "source": [
    "codes, uniques = pd.factorize(np.array(['b', 'b', 'a', 'c', 'b'], dtype=\"O\"))\n",
    "print(codes)\n",
    "print(uniques)\n",
    "code2, uniques2 = pd.factorize(np.array([1, 2, 1, 4]))\n",
    "print(code2)\n",
    "print(uniques2)"
   ]
  },
  {
   "cell_type": "markdown",
   "id": "611aab1d",
   "metadata": {},
   "source": [
    "# from_dummies\n",
    "- Create a categorical DataFrame from a DataFrame of dummy variables."
   ]
  },
  {
   "cell_type": "code",
   "execution_count": null,
   "id": "c9de62d9",
   "metadata": {},
   "outputs": [],
   "source": [
    "pd.from_dummies(pd.DataFrame({\"a\": [1, 0, 0, 1], \"b\": [0, 1, 0, 0],\n",
    "                   \"c\": [0, 0, 1, 0]}))"
   ]
  },
  {
   "cell_type": "markdown",
   "id": "51f6d041",
   "metadata": {},
   "source": [
    "# get_dummies\n",
    "- Convert categorical variable into dummy/indicator variables.\n",
    "- Each variable is converted in as many 0/1 variables as there are different values. Columns in the output are each named after a value; if the input is a DataFrame, the name of the original variable is prepended to the value."
   ]
  },
  {
   "cell_type": "code",
   "execution_count": null,
   "id": "a9d593b1",
   "metadata": {},
   "outputs": [],
   "source": [
    "display(pd.get_dummies(pd.Series(list('abcd'))))\n",
    "pd.get_dummies(pd.Series(list('zyx')))\n"
   ]
  },
  {
   "cell_type": "markdown",
   "id": "c0c1c468",
   "metadata": {},
   "source": [
    "# get_option\n",
    "- Retrieves the value of the specified option."
   ]
  },
  {
   "cell_type": "code",
   "execution_count": null,
   "id": "89d5a754",
   "metadata": {},
   "outputs": [],
   "source": [
    "pd.get_option(\"display.max_columns\")"
   ]
  },
  {
   "cell_type": "markdown",
   "id": "991ccbff",
   "metadata": {},
   "source": [
    "# infer_freq\n",
    "- Infer the most likely frequency given the input index."
   ]
  },
  {
   "cell_type": "code",
   "execution_count": null,
   "id": "c585842c",
   "metadata": {},
   "outputs": [],
   "source": [
    "display(pd.infer_freq(pd.date_range(start='2020/12/01', end='2020/12/30', periods=30)))\n"
   ]
  },
  {
   "cell_type": "markdown",
   "id": "42f06a72",
   "metadata": {},
   "source": [
    "# interval_range\n",
    "- Return a fixed frequency IntervalIndex."
   ]
  },
  {
   "cell_type": "code",
   "execution_count": null,
   "id": "c904fd09",
   "metadata": {},
   "outputs": [],
   "source": [
    "print(pd.interval_range(start=0, end=5))\n",
    "print(pd.interval_range(start=pd.Timestamp('2026-01-01'),\n",
    "                  end=pd.Timestamp('2026-01-04')))"
   ]
  },
  {
   "cell_type": "markdown",
   "id": "38314379",
   "metadata": {},
   "source": [
    "# isna\n",
    "- Detect missing values for an array-like object.\n",
    "- This function takes a scalar or array-like object and indicates whether values are missing (NaN in numeric arrays, None or NaN in object arrays, NaT in datetimelike)."
   ]
  },
  {
   "cell_type": "code",
   "execution_count": null,
   "id": "8e041ae2",
   "metadata": {},
   "outputs": [],
   "source": [
    "print(pd.isna('dog'))\n",
    "print(pd.isna(pd.NA))"
   ]
  },
  {
   "cell_type": "markdown",
   "id": "aa9596b0",
   "metadata": {},
   "source": [
    "# isnull\n",
    "- Detect missing values for an array-like object.\n",
    "- This function takes a scalar or array-like object and indicates whether values are missing (NaN in numeric arrays, None or NaN in object arrays, NaT in datetimelike)."
   ]
  },
  {
   "cell_type": "code",
   "execution_count": null,
   "id": "138a4b90",
   "metadata": {},
   "outputs": [],
   "source": [
    "print(pd.isnull('dog'))\n",
    "print(pd.isnull(pd.NA))\n",
    "print(pd.isnull(None))"
   ]
  },
  {
   "cell_type": "markdown",
   "id": "b051ff0a",
   "metadata": {},
   "source": [
    "# json_normalize\n",
    "- Normalize semi-structured JSON data into a flat table."
   ]
  },
  {
   "cell_type": "code",
   "execution_count": null,
   "id": "c2a87fa9",
   "metadata": {},
   "outputs": [],
   "source": [
    "print(pd.json_normalize([\n",
    "    {\"id\": 1, \"name\": {\"first\": \"Coleen\", \"last\": \"Volk\"}},\n",
    "    {\"name\": {\"given\": \"Mark\", \"family\": \"Regner\"}},\n",
    "    {\"id\": 2, \"name\": \"Faye Raker\"},\n",
    "]))"
   ]
  },
  {
   "cell_type": "markdown",
   "id": "70af0c31",
   "metadata": {},
   "source": [
    "# lreshape\n",
    "- Reshape wide-format data to long. Generalized inverse of DataFrame.pivot.\n",
    "- Accepts a dictionary, groups, in which each key is a new column name and each value is a list of old column names that will be “melted” under the new column name as part of the reshape."
   ]
  },
  {
   "cell_type": "code",
   "execution_count": null,
   "id": "2bb8fbc9",
   "metadata": {},
   "outputs": [],
   "source": [
    "data = pd.DataFrame({'hr1': [514, 573], 'hr2': [545, 526],\n",
    "                     'team': ['Red Sox', 'Yankees'],\n",
    "                     'year1': [2007, 2007], 'year2': [2008, 2008]})\n",
    "display(data)\n",
    "display(pd.lreshape(data, {'year': ['year1', 'year2'], 'hr': ['hr1', 'hr2']}))"
   ]
  },
  {
   "cell_type": "markdown",
   "id": "5e4237b3",
   "metadata": {},
   "source": [
    "# melt\n",
    "- Unpivot a DataFrame from wide to long format, optionally leaving identifiers set.\n",
    "- This function is useful to massage a DataFrame into a format where one or more columns are identifier variables (id_vars), while all other columns, considered measured variables (value_vars), are “unpivoted” to the row axis, leaving just two non-identifier columns, ‘variable’ and ‘value’."
   ]
  },
  {
   "cell_type": "code",
   "execution_count": null,
   "id": "40342b97",
   "metadata": {},
   "outputs": [],
   "source": [
    "df = pd.DataFrame({'A': {0: 'a', 1: 'b', 2: 'c'},\n",
    "                   'B': {0: 1, 1: 3, 2: 5},\n",
    "                   'C': {0: 2, 1: 4, 2: 6}})\n",
    "display(df)\n",
    "display(pd.melt(df, id_vars=['A'], value_vars=['B']))"
   ]
  },
  {
   "cell_type": "markdown",
   "id": "65f3303f",
   "metadata": {},
   "source": [
    "# merge\n",
    "- Merge DataFrame or named Series objects with a database-style join.\n",
    "- A named Series object is treated as a DataFrame with a single named column.\n",
    "- The join is done on columns or indexes. If joining columns on columns, the DataFrame indexes will be ignored. Otherwise if joining indexes on indexes or indexes on a column or columns, the index will be passed on. When performing a cross merge, no column specifications to merge on are allowed."
   ]
  },
  {
   "cell_type": "code",
   "execution_count": null,
   "id": "d091f020",
   "metadata": {},
   "outputs": [],
   "source": [
    "df1 = pd.DataFrame({'lkey': ['foo', 'bar', 'baz', 'foo'],\n",
    "                    'value': [1, 2, 3, 5]})\n",
    "df2 = pd.DataFrame({'rkey': ['foo', 'bar', 'baz', 'foo'],\n",
    "                    'value': [5, 6, 7, 8]})\n",
    "display(df1)\n",
    "display(df2)\n",
    "display(df1.merge(df2, left_on='lkey', right_on='rkey'))"
   ]
  },
  {
   "cell_type": "markdown",
   "id": "0c46522b",
   "metadata": {},
   "source": [
    "# merge_asof\n",
    "- Perform a merge by key distance.\n",
    "- This is similar to a left-join except that we match on nearest key rather than equal keys. Both DataFrames must be sorted by the key.\n",
    "- For each row in the left DataFrame:"
   ]
  },
  {
   "cell_type": "code",
   "execution_count": null,
   "id": "51dd487c",
   "metadata": {},
   "outputs": [],
   "source": [
    "left = pd.DataFrame({\"a\": [1, 5, 10], \"left_val\": [\"a\", \"b\", \"c\"]})\n",
    "display(left)\n",
    "right = pd.DataFrame({\"a\": [1, 2, 3, 6, 7], \"right_val\": [1, 2, 3, 6, 7]})\n",
    "display(right)\n",
    "display(pd.merge_asof(left, right, on=\"a\"))"
   ]
  },
  {
   "cell_type": "markdown",
   "id": "5c1aa641",
   "metadata": {},
   "source": [
    "# merge_ordered\n",
    "- Perform a merge for ordered data with optional filling/interpolation.\n",
    "- Designed for ordered data like time series data. Optionally perform group-wise merge (see examples)."
   ]
  },
  {
   "cell_type": "code",
   "execution_count": null,
   "id": "dc6cc18d",
   "metadata": {},
   "outputs": [],
   "source": [
    "df1 = pd.DataFrame(\n",
    "    {\n",
    "        \"key\": [\"a\", \"c\", \"e\", \"a\", \"c\", \"e\"],\n",
    "        \"lvalue\": [1, 2, 3, 1, 2, 3],\n",
    "        \"group\": [\"a\", \"a\", \"a\", \"b\", \"b\", \"b\"]\n",
    "    }\n",
    ")\n",
    "display(df1)\n",
    "df2 = pd.DataFrame({\"key\": [\"b\", \"c\", \"d\"], \"rvalue\": [1, 2, 3]})\n",
    "display(df2)\n",
    "pd.merge_ordered(df1, df2, fill_method=\"ffill\", left_by=\"group\")"
   ]
  },
  {
   "cell_type": "markdown",
   "id": "a7dd2ec8",
   "metadata": {},
   "source": [
    "# notna\n",
    "- Detect non-missing values for an array-like object.\n",
    "- This function takes a scalar or array-like object and indicates whether values are valid (not missing, which is NaN in numeric arrays, None or NaN in object arrays, NaT in datetimelike)."
   ]
  },
  {
   "cell_type": "code",
   "execution_count": null,
   "id": "fb20c5b6",
   "metadata": {},
   "outputs": [],
   "source": [
    "print(pd.notna('dog'))\n",
    "print(pd.notna(pd.NA))\n",
    "print(pd.notna(np.nan))"
   ]
  },
  {
   "cell_type": "markdown",
   "id": "56164619",
   "metadata": {},
   "source": [
    "# notnull\n",
    "- Detect non-missing values for an array-like object.\n",
    "- This function takes a scalar or array-like object and indicates whether values are valid (not missing, which is NaN in numeric arrays, None or NaN in object arrays, NaT in datetimelike).\n",
    "# Note: equivalent with notna"
   ]
  },
  {
   "cell_type": "code",
   "execution_count": null,
   "id": "02111e60",
   "metadata": {},
   "outputs": [],
   "source": [
    "print(pd.notna is pd.notnull)"
   ]
  },
  {
   "cell_type": "markdown",
   "id": "b3e71c99",
   "metadata": {},
   "source": [
    "# option_context\n",
    "\n",
    "- Context manager to temporarily set options in the with statement context.\n",
    "- You need to invoke as option_context(pat, val, [(pat, val), ...])."
   ]
  },
  {
   "cell_type": "code",
   "execution_count": null,
   "id": "b5e258e8",
   "metadata": {},
   "outputs": [],
   "source": [
    "with pd.option_context('display.max_rows', 10, 'display.max_columns', 5):\n",
    "    print(pd.get_option('display.max_rows'))"
   ]
  },
  {
   "cell_type": "markdown",
   "id": "8c49ff3d",
   "metadata": {},
   "source": [
    "# period_range\n",
    "- Return a fixed frequency PeriodIndex.\n",
    "- The day (calendar) is the default frequency."
   ]
  },
  {
   "cell_type": "code",
   "execution_count": null,
   "id": "9d485a1e",
   "metadata": {},
   "outputs": [],
   "source": [
    "pd.period_range(start='2026-01-01', end='2026-10-01', freq='M')"
   ]
  },
  {
   "cell_type": "markdown",
   "id": "cb47e8d7",
   "metadata": {},
   "source": [
    "# pivot\n",
    "- Return reshaped DataFrame organized by given index / column values.\n",
    "- Reshape data (produce a “pivot” table) based on column values. Uses unique values from specified index / columns to form axes of the resulting DataFrame. This function does not support data aggregation, multiple values will result in a MultiIndex in the columns. See the User Guide for more on reshaping."
   ]
  },
  {
   "cell_type": "code",
   "execution_count": null,
   "id": "73882eb0",
   "metadata": {},
   "outputs": [],
   "source": [
    "df = pd.DataFrame({'foo': ['one', 'one', 'one', 'two', 'two',\n",
    "                           'two'],\n",
    "                   'bar': ['A', 'B', 'C', 'A', 'B', 'C'],\n",
    "                   'baz': [1, 2, 3, 4, 5, 6],\n",
    "                   'zoo': ['x', 'y', 'z', 'q', 'w', 't']})\n",
    "display(df)\n",
    "display(df.pivot(index='foo', columns='bar', values='baz'))"
   ]
  },
  {
   "cell_type": "markdown",
   "id": "84f06320",
   "metadata": {},
   "source": [
    "# pivot_table\n",
    "- Create a spreadsheet-style pivot table as a DataFrame.\n",
    "- The levels in the pivot table will be stored in MultiIndex objects (hierarchical indexes) on the index and columns of the result DataFrame."
   ]
  },
  {
   "cell_type": "code",
   "execution_count": null,
   "id": "161e8146",
   "metadata": {},
   "outputs": [],
   "source": [
    "df = pd.DataFrame({\"A\": [\"foo\", \"foo\", \"foo\", \"foo\", \"foo\",\n",
    "                         \"bar\", \"bar\", \"bar\", \"bar\"],\n",
    "                   \"B\": [\"one\", \"one\", \"one\", \"two\", \"two\",\n",
    "                         \"one\", \"one\", \"two\", \"two\"],\n",
    "                   \"C\": [\"small\", \"large\", \"large\", \"small\",\n",
    "                         \"small\", \"large\", \"small\", \"small\",\n",
    "                         \"large\"],\n",
    "                   \"D\": [1, 2, 2, 3, 3, 4, 5, 6, 7],\n",
    "                   \"E\": [2, 4, 5, 5, 6, 6, 8, 9, 9]})\n",
    "display(df)\n",
    "display( pd.pivot_table(df, values='D', index=['A', 'B'],\n",
    "                       columns=['C'], aggfunc=\"sum\"))\n",
    "display(pd.pivot_table(df, values='D', index=['A', 'B'],\n",
    "                       columns=['C'], aggfunc=\"sum\", fill_value=0))"
   ]
  },
  {
   "cell_type": "markdown",
   "id": "5252f82e",
   "metadata": {},
   "source": [
    "# qcut\n",
    "- Quantile-based discretization function.\n",
    "- Discretize variable into equal-sized buckets based on rank or based on sample quantiles. For example 1000 values for 10 quantiles would produce a Categorical object indicating quantile membership for each data point."
   ]
  },
  {
   "cell_type": "code",
   "execution_count": null,
   "id": "9ecfc03c",
   "metadata": {},
   "outputs": [],
   "source": [
    "print(pd.qcut(range(20), 4))\n",
    "print(pd.qcut(range(5), 3, labels=[\"good\", \"medium\", \"bad\"]))\n",
    "print(pd.qcut(range(5), 4, labels=False))"
   ]
  },
  {
   "cell_type": "markdown",
   "id": "38d227e0",
   "metadata": {},
   "source": [
    "# read_clipboard\n",
    "- Read text from clipboard and pass to read_csv().\n",
    "- Parses clipboard contents similar to how CSV files are parsed using read_csv()."
   ]
  },
  {
   "cell_type": "code",
   "execution_count": null,
   "id": "25fcb4c4",
   "metadata": {},
   "outputs": [],
   "source": [
    "df = pd.DataFrame([[1, 2, 3], [4, 5, 6]], columns=['A', 'B', 'C'])\n",
    "df.to_clipboard()  \n",
    "display(pd.read_clipboard())"
   ]
  },
  {
   "cell_type": "markdown",
   "id": "90a9896b",
   "metadata": {},
   "source": [
    "# read_csv\n",
    "- Read a comma-separated values (csv) file into DataFrame.\n",
    "- Also supports optionally iterating or breaking of the file into chunks."
   ]
  },
  {
   "cell_type": "code",
   "execution_count": null,
   "id": "40a5549b",
   "metadata": {},
   "outputs": [],
   "source": [
    "df = pd.read_csv(\n",
    "    'https://raw.githubusercontent.com/pandas-dev/'\n",
    "    'pandas/main/pandas/tests/io/data/csv/iris.csv'\n",
    ")\n",
    "display(df.head())"
   ]
  },
  {
   "cell_type": "markdown",
   "id": "a7285af6",
   "metadata": {},
   "source": [
    "# read_excel\n",
    "- Read an Excel file into a pandas DataFrame.\n",
    "- Supports xls, xlsx, xlsm, xlsb, odf, ods and odt file extensions read from a local filesystem or URL. Supports an option to read a single sheet or a list of sheets.\n",
    "\n",
    "# Need openpyxl install"
   ]
  },
  {
   "cell_type": "code",
   "execution_count": null,
   "id": "fc28df12",
   "metadata": {},
   "outputs": [],
   "source": [
    "df = pd.read_excel(\"./data/temp.xlsx\", index_col=0)\n",
    "display(df)"
   ]
  },
  {
   "cell_type": "markdown",
   "id": "7dd211a4",
   "metadata": {},
   "source": [
    "# read_feather\n",
    "- Load a feather-format object from the file path."
   ]
  },
  {
   "cell_type": "code",
   "execution_count": null,
   "id": "51d69693",
   "metadata": {},
   "outputs": [],
   "source": [
    "data = {\n",
    "    'col1': np.random.rand(10),\n",
    "    'col2': np.random.randint(0, 100, 10),\n",
    "    'col3': ['apple', 'banana', 'orange', 'grape', 'kiwi', \n",
    "             'melon', 'peach', 'plum', 'berry', 'cherry']\n",
    "}\n",
    "df = pd.DataFrame(data)\n",
    "\n",
    "file_path = './data/example.feather'\n",
    "feather.write_feather(df, file_path)\n",
    "\n",
    "read_df = pd.read_feather(file_path)\n",
    "display(read_df)"
   ]
  },
  {
   "cell_type": "markdown",
   "id": "a40c42ec",
   "metadata": {},
   "source": [
    "# read_fwf\n",
    "- Read a table of fixed-width formatted lines into DataFrame.\n",
    "- Also supports optionally iterating or breaking of the file into chunks."
   ]
  },
  {
   "cell_type": "code",
   "execution_count": null,
   "id": "73510b9d",
   "metadata": {},
   "outputs": [],
   "source": [
    "pd.read_fwf('data/output.csv')  "
   ]
  },
  {
   "cell_type": "markdown",
   "id": "2607160a",
   "metadata": {},
   "source": [
    "# read_gbq\n",
    "- Load data from Google BigQuery."
   ]
  },
  {
   "cell_type": "code",
   "execution_count": null,
   "id": "5e50b9db",
   "metadata": {},
   "outputs": [],
   "source": [
    "# Need a BigQuery data to run\n",
    "# sql = \"\"\"\n",
    "#     SELECT name\n",
    "#     FROM `bigquery-public-data.usa_names.usa_1910_current`\n",
    "#     WHERE state = 'TX'\n",
    "#     LIMIT 100\n",
    "# \"\"\"\n",
    "\n",
    "# # Run a Standard SQL query using the environment's default project\n",
    "# df = pandas.read_gbq(sql, dialect=\"standard\")\n",
    "\n",
    "# # Run a Standard SQL query with the project set explicitly\n",
    "# project_id = \"your-project-id\"\n",
    "# df = pandas.read_gbq(sql, project_id=project_id, dialect=\"standard\")"
   ]
  },
  {
   "cell_type": "markdown",
   "id": "1caf7596",
   "metadata": {},
   "source": [
    "# read_hdf\n",
    "- Read from the store, close it if we opened it.\n",
    "- Retrieve pandas object stored in file, optionally based on where criteria.\n",
    "## H5 files\n",
    "## Need tables and h5py install"
   ]
  },
  {
   "cell_type": "code",
   "execution_count": null,
   "id": "e6827093",
   "metadata": {},
   "outputs": [],
   "source": [
    "df = pd.DataFrame([[1, 1.0, 'a']], columns=['x', 'y', 'z'])  \n",
    "filename = './data/example.h5'\n",
    "df.to_hdf(filename, 'data') \n",
    "read_df = pd.read_hdf(filename)\n",
    "display(read_df)"
   ]
  },
  {
   "cell_type": "markdown",
   "id": "f920f79b",
   "metadata": {},
   "source": [
    "# read_html\n",
    "- Read HTML tables into a list of DataFrame objects."
   ]
  },
  {
   "cell_type": "code",
   "execution_count": null,
   "id": "681c184f",
   "metadata": {},
   "outputs": [],
   "source": [
    "url = \"https://www.fdic.gov/resources/resolutions/bank-failures/failed-bank-list\"\n",
    "df = pd.read_html(url)\n",
    "df"
   ]
  },
  {
   "cell_type": "markdown",
   "id": "ea431fff",
   "metadata": {},
   "source": [
    "# read_json\n",
    "- Convert a JSON string to pandas object."
   ]
  },
  {
   "cell_type": "code",
   "execution_count": null,
   "id": "2d3bac95",
   "metadata": {},
   "outputs": [],
   "source": [
    "df = pd.read_json(\"data/example.json\", orient='split')\n",
    "display(df)"
   ]
  },
  {
   "cell_type": "markdown",
   "id": "caf0f31f",
   "metadata": {},
   "source": [
    "# read_orc\n",
    "- Load an ORC object from the file path, returning a DataFrame.\n",
    "# Note: pyarrow orc file format\n",
    "# Note: read_orc() is not compatible with Windows OS."
   ]
  },
  {
   "cell_type": "code",
   "execution_count": null,
   "id": "85b4c5cf",
   "metadata": {},
   "outputs": [],
   "source": [
    "df = pd.DataFrame({\n",
    "    'id': [1, 2, 3],\n",
    "    'fruit': ['apple', 'banana', 'orange']\n",
    "})\n",
    "\n",
    "# Write to an ORC file\n",
    "df.to_orc('data/example_pandas.orc')"
   ]
  },
  {
   "cell_type": "markdown",
   "id": "b3447ace",
   "metadata": {},
   "source": [
    "# read_parquet\n",
    "- Load a parquet object from the file path, returning a DataFrame."
   ]
  },
  {
   "cell_type": "code",
   "execution_count": null,
   "id": "700df8a4",
   "metadata": {},
   "outputs": [],
   "source": [
    "from io import BytesIO\n",
    "original_df = pd.DataFrame(\n",
    "    {\"foo\": range(5), \"bar\": range(5, 10)}\n",
    "   )\n",
    "df_parquet_bytes = original_df.to_parquet()\n",
    "restored_df = pd.read_parquet(BytesIO(df_parquet_bytes))\n",
    "display(restored_df)"
   ]
  },
  {
   "cell_type": "markdown",
   "id": "344a1d9f",
   "metadata": {},
   "source": [
    "# read_pickle\n",
    "- Load pickled pandas object (or any object) from file."
   ]
  },
  {
   "cell_type": "code",
   "execution_count": null,
   "id": "a9d91382",
   "metadata": {},
   "outputs": [],
   "source": [
    "original_df = pd.DataFrame(\n",
    "    {\"foo\": range(5), \"bar\": range(5, 10)}\n",
    "   ) \n",
    "original_df.to_pickle(\"data/example.pkl\")\n",
    "unpickled_df = pd.read_pickle(\"data/example.pkl\")\n",
    "display(unpickled_df)"
   ]
  },
  {
   "cell_type": "markdown",
   "id": "33008ccd",
   "metadata": {},
   "source": [
    "# read_sas\n",
    "- Read SAS files stored as either XPORT or SAS7BDAT format files."
   ]
  },
  {
   "cell_type": "code",
   "execution_count": null,
   "id": "2b6c22b4",
   "metadata": {},
   "outputs": [],
   "source": [
    "df = pd.read_sas(\"data/dates.sas7bdat\")\n",
    "display(df.head())"
   ]
  },
  {
   "cell_type": "markdown",
   "id": "779a2b90",
   "metadata": {},
   "source": [
    "# read_spss\n",
    "- Load an SPSS file from the file path, returning a DataFrame."
   ]
  },
  {
   "cell_type": "code",
   "execution_count": 4,
   "id": "5ee63d7e",
   "metadata": {},
   "outputs": [
    {
     "data": {
      "text/html": [
       "<div>\n",
       "<style scoped>\n",
       "    .dataframe tbody tr th:only-of-type {\n",
       "        vertical-align: middle;\n",
       "    }\n",
       "\n",
       "    .dataframe tbody tr th {\n",
       "        vertical-align: top;\n",
       "    }\n",
       "\n",
       "    .dataframe thead th {\n",
       "        text-align: right;\n",
       "    }\n",
       "</style>\n",
       "<table border=\"1\" class=\"dataframe\">\n",
       "  <thead>\n",
       "    <tr style=\"text-align: right;\">\n",
       "      <th></th>\n",
       "      <th>MESSAGE</th>\n",
       "      <th>NOMESSAG</th>\n",
       "    </tr>\n",
       "  </thead>\n",
       "  <tbody>\n",
       "    <tr>\n",
       "      <th>0</th>\n",
       "      <td>11.0</td>\n",
       "      <td>9.0</td>\n",
       "    </tr>\n",
       "    <tr>\n",
       "      <th>1</th>\n",
       "      <td>8.0</td>\n",
       "      <td>8.0</td>\n",
       "    </tr>\n",
       "    <tr>\n",
       "      <th>2</th>\n",
       "      <td>7.0</td>\n",
       "      <td>6.0</td>\n",
       "    </tr>\n",
       "    <tr>\n",
       "      <th>3</th>\n",
       "      <td>4.0</td>\n",
       "      <td>5.0</td>\n",
       "    </tr>\n",
       "    <tr>\n",
       "      <th>4</th>\n",
       "      <td>10.0</td>\n",
       "      <td>19.0</td>\n",
       "    </tr>\n",
       "  </tbody>\n",
       "</table>\n",
       "</div>"
      ],
      "text/plain": [
       "   MESSAGE  NOMESSAG\n",
       "0     11.0       9.0\n",
       "1      8.0       8.0\n",
       "2      7.0       6.0\n",
       "3      4.0       5.0\n",
       "4     10.0      19.0"
      ]
     },
     "metadata": {},
     "output_type": "display_data"
    }
   ],
   "source": [
    "df = pd.read_spss(\"data/DarkLord.sav\")\n",
    "display(df.head())"
   ]
  },
  {
   "cell_type": "markdown",
   "id": "cbf30b1c",
   "metadata": {},
   "source": [
    "# read_sql\n",
    "- Read SQL query or database table into a DataFrame.\n",
    "- This function is a convenience wrapper around read_sql_table and read_sql_query (for backward compatibility). It will delegate to the specific function depending on the provided input. A SQL query will be routed to read_sql_query, while a database table name will be routed to read_sql_table. Note that the delegated function might have more specific notes about their functionality not listed here."
   ]
  },
  {
   "cell_type": "code",
   "execution_count": 5,
   "id": "3ef6850f",
   "metadata": {},
   "outputs": [
    {
     "data": {
      "text/plain": [
       "2"
      ]
     },
     "execution_count": 5,
     "metadata": {},
     "output_type": "execute_result"
    }
   ],
   "source": [
    "from sqlite3 import connect\n",
    "conn = connect(':memory:')\n",
    "df = pd.DataFrame(data=[[0, '10/11/12'], [1, '12/11/10']],\n",
    "                  columns=['int_column', 'date_column'])\n",
    "df.to_sql(name='test_data', con=conn)"
   ]
  },
  {
   "cell_type": "code",
   "execution_count": 6,
   "id": "6e3da990",
   "metadata": {},
   "outputs": [
    {
     "data": {
      "text/html": [
       "<div>\n",
       "<style scoped>\n",
       "    .dataframe tbody tr th:only-of-type {\n",
       "        vertical-align: middle;\n",
       "    }\n",
       "\n",
       "    .dataframe tbody tr th {\n",
       "        vertical-align: top;\n",
       "    }\n",
       "\n",
       "    .dataframe thead th {\n",
       "        text-align: right;\n",
       "    }\n",
       "</style>\n",
       "<table border=\"1\" class=\"dataframe\">\n",
       "  <thead>\n",
       "    <tr style=\"text-align: right;\">\n",
       "      <th></th>\n",
       "      <th>int_column</th>\n",
       "      <th>date_column</th>\n",
       "    </tr>\n",
       "  </thead>\n",
       "  <tbody>\n",
       "    <tr>\n",
       "      <th>0</th>\n",
       "      <td>0</td>\n",
       "      <td>10/11/12</td>\n",
       "    </tr>\n",
       "    <tr>\n",
       "      <th>1</th>\n",
       "      <td>1</td>\n",
       "      <td>12/11/10</td>\n",
       "    </tr>\n",
       "  </tbody>\n",
       "</table>\n",
       "</div>"
      ],
      "text/plain": [
       "   int_column date_column\n",
       "0           0    10/11/12\n",
       "1           1    12/11/10"
      ]
     },
     "execution_count": 6,
     "metadata": {},
     "output_type": "execute_result"
    }
   ],
   "source": [
    "pd.read_sql('SELECT int_column, date_column FROM test_data', conn)"
   ]
  },
  {
   "cell_type": "markdown",
   "id": "f0203ef5",
   "metadata": {},
   "source": [
    "# read_sql_query\n",
    "- Read SQL query into a DataFrame.\n",
    "- Returns a DataFrame corresponding to the result set of the query string. Optionally provide an index_col parameter to use one of the columns as the index, otherwise default integer index will be used."
   ]
  },
  {
   "cell_type": "code",
   "execution_count": 14,
   "id": "69f5ee7d",
   "metadata": {},
   "outputs": [
    {
     "data": {
      "text/html": [
       "<div>\n",
       "<style scoped>\n",
       "    .dataframe tbody tr th:only-of-type {\n",
       "        vertical-align: middle;\n",
       "    }\n",
       "\n",
       "    .dataframe tbody tr th {\n",
       "        vertical-align: top;\n",
       "    }\n",
       "\n",
       "    .dataframe thead th {\n",
       "        text-align: right;\n",
       "    }\n",
       "</style>\n",
       "<table border=\"1\" class=\"dataframe\">\n",
       "  <thead>\n",
       "    <tr style=\"text-align: right;\">\n",
       "      <th></th>\n",
       "      <th>name</th>\n",
       "    </tr>\n",
       "  </thead>\n",
       "  <tbody>\n",
       "    <tr>\n",
       "      <th>0</th>\n",
       "      <td>Alice</td>\n",
       "    </tr>\n",
       "    <tr>\n",
       "      <th>1</th>\n",
       "      <td>Bob</td>\n",
       "    </tr>\n",
       "  </tbody>\n",
       "</table>\n",
       "</div>"
      ],
      "text/plain": [
       "    name\n",
       "0  Alice\n",
       "1    Bob"
      ]
     },
     "metadata": {},
     "output_type": "display_data"
    }
   ],
   "source": [
    "from sqlalchemy import create_engine  \n",
    "engine = create_engine('sqlite:///my_database.db')\n",
    "data = pd.read_sql_query(\"SELECT name FROM users\", engine)\n",
    "display(data)"
   ]
  },
  {
   "cell_type": "markdown",
   "id": "85507dc2",
   "metadata": {},
   "source": [
    "# read_sql_table\n",
    "- Read SQL database table into a DataFrame.\n",
    "- Given a table name and a SQLAlchemy connectable, returns a DataFrame. This function does not support DBAPI connections."
   ]
  },
  {
   "cell_type": "code",
   "execution_count": 11,
   "id": "75d825d6",
   "metadata": {},
   "outputs": [
    {
     "data": {
      "text/html": [
       "<div>\n",
       "<style scoped>\n",
       "    .dataframe tbody tr th:only-of-type {\n",
       "        vertical-align: middle;\n",
       "    }\n",
       "\n",
       "    .dataframe tbody tr th {\n",
       "        vertical-align: top;\n",
       "    }\n",
       "\n",
       "    .dataframe thead th {\n",
       "        text-align: right;\n",
       "    }\n",
       "</style>\n",
       "<table border=\"1\" class=\"dataframe\">\n",
       "  <thead>\n",
       "    <tr style=\"text-align: right;\">\n",
       "      <th></th>\n",
       "      <th>id</th>\n",
       "      <th>name</th>\n",
       "      <th>email</th>\n",
       "    </tr>\n",
       "  </thead>\n",
       "  <tbody>\n",
       "    <tr>\n",
       "      <th>0</th>\n",
       "      <td>1</td>\n",
       "      <td>Alice</td>\n",
       "      <td>alice@example.com</td>\n",
       "    </tr>\n",
       "    <tr>\n",
       "      <th>1</th>\n",
       "      <td>2</td>\n",
       "      <td>Bob</td>\n",
       "      <td>bob@example.com</td>\n",
       "    </tr>\n",
       "  </tbody>\n",
       "</table>\n",
       "</div>"
      ],
      "text/plain": [
       "   id   name              email\n",
       "0   1  Alice  alice@example.com\n",
       "1   2    Bob    bob@example.com"
      ]
     },
     "metadata": {},
     "output_type": "display_data"
    }
   ],
   "source": [
    "from sqlalchemy import create_engine  \n",
    "engine = create_engine('sqlite:///my_database.db')\n",
    "with engine.connect() as conn, conn.begin():\n",
    "    data = pd.read_sql_table(\"users\", conn)\n",
    "display(data)"
   ]
  },
  {
   "cell_type": "markdown",
   "id": "83e3e6aa",
   "metadata": {},
   "source": [
    "# read_stata\n",
    "- Read Stata file into DataFrame."
   ]
  },
  {
   "cell_type": "code",
   "execution_count": 16,
   "id": "2c045978",
   "metadata": {},
   "outputs": [
    {
     "data": {
      "text/html": [
       "<div>\n",
       "<style scoped>\n",
       "    .dataframe tbody tr th:only-of-type {\n",
       "        vertical-align: middle;\n",
       "    }\n",
       "\n",
       "    .dataframe tbody tr th {\n",
       "        vertical-align: top;\n",
       "    }\n",
       "\n",
       "    .dataframe thead th {\n",
       "        text-align: right;\n",
       "    }\n",
       "</style>\n",
       "<table border=\"1\" class=\"dataframe\">\n",
       "  <thead>\n",
       "    <tr style=\"text-align: right;\">\n",
       "      <th></th>\n",
       "      <th>index</th>\n",
       "      <th>animal</th>\n",
       "      <th>speed</th>\n",
       "    </tr>\n",
       "  </thead>\n",
       "  <tbody>\n",
       "    <tr>\n",
       "      <th>0</th>\n",
       "      <td>0</td>\n",
       "      <td>falcon</td>\n",
       "      <td>350</td>\n",
       "    </tr>\n",
       "    <tr>\n",
       "      <th>1</th>\n",
       "      <td>1</td>\n",
       "      <td>parrot</td>\n",
       "      <td>18</td>\n",
       "    </tr>\n",
       "    <tr>\n",
       "      <th>2</th>\n",
       "      <td>2</td>\n",
       "      <td>falcon</td>\n",
       "      <td>361</td>\n",
       "    </tr>\n",
       "    <tr>\n",
       "      <th>3</th>\n",
       "      <td>3</td>\n",
       "      <td>parrot</td>\n",
       "      <td>15</td>\n",
       "    </tr>\n",
       "  </tbody>\n",
       "</table>\n",
       "</div>"
      ],
      "text/plain": [
       "   index  animal  speed\n",
       "0      0  falcon    350\n",
       "1      1  parrot     18\n",
       "2      2  falcon    361\n",
       "3      3  parrot     15"
      ]
     },
     "metadata": {},
     "output_type": "display_data"
    }
   ],
   "source": [
    "stata_df = pd.read_stata('data/animals.dta') \n",
    "display(stata_df)"
   ]
  },
  {
   "cell_type": "markdown",
   "id": "eb67fa53",
   "metadata": {},
   "source": [
    "# read_table\n",
    "- Read general delimited file into DataFrame.\n",
    "- Also supports optionally iterating or breaking of the file into chunks.\n",
    "- Additional help can be found in the online docs for IO Tools."
   ]
  },
  {
   "cell_type": "code",
   "execution_count": 18,
   "id": "7e19db9f",
   "metadata": {},
   "outputs": [
    {
     "data": {
      "text/html": [
       "<div>\n",
       "<style scoped>\n",
       "    .dataframe tbody tr th:only-of-type {\n",
       "        vertical-align: middle;\n",
       "    }\n",
       "\n",
       "    .dataframe tbody tr th {\n",
       "        vertical-align: top;\n",
       "    }\n",
       "\n",
       "    .dataframe thead th {\n",
       "        text-align: right;\n",
       "    }\n",
       "</style>\n",
       "<table border=\"1\" class=\"dataframe\">\n",
       "  <thead>\n",
       "    <tr style=\"text-align: right;\">\n",
       "      <th></th>\n",
       "      <th>name,birthdate,weight,height</th>\n",
       "    </tr>\n",
       "  </thead>\n",
       "  <tbody>\n",
       "    <tr>\n",
       "      <th>0</th>\n",
       "      <td>Alice Archer,1997-01-10,57.9,1.56</td>\n",
       "    </tr>\n",
       "    <tr>\n",
       "      <th>1</th>\n",
       "      <td>Ben Brown,1985-02-15,72.5,1.77</td>\n",
       "    </tr>\n",
       "    <tr>\n",
       "      <th>2</th>\n",
       "      <td>Chloe Cooper,1983-03-22,53.6,1.65</td>\n",
       "    </tr>\n",
       "    <tr>\n",
       "      <th>3</th>\n",
       "      <td>Daniel Donovan,1981-04-30,83.1,1.75</td>\n",
       "    </tr>\n",
       "  </tbody>\n",
       "</table>\n",
       "</div>"
      ],
      "text/plain": [
       "          name,birthdate,weight,height\n",
       "0    Alice Archer,1997-01-10,57.9,1.56\n",
       "1       Ben Brown,1985-02-15,72.5,1.77\n",
       "2    Chloe Cooper,1983-03-22,53.6,1.65\n",
       "3  Daniel Donovan,1981-04-30,83.1,1.75"
      ]
     },
     "metadata": {},
     "output_type": "display_data"
    }
   ],
   "source": [
    "df = pd.read_table('data/output.csv')\n",
    "display(df)"
   ]
  },
  {
   "cell_type": "markdown",
   "id": "dcf53c0a",
   "metadata": {},
   "source": [
    "# read_xml\n",
    "- Read XML document into a DataFrame object."
   ]
  },
  {
   "cell_type": "code",
   "execution_count": 19,
   "id": "ce823d1c",
   "metadata": {},
   "outputs": [
    {
     "data": {
      "text/html": [
       "<div>\n",
       "<style scoped>\n",
       "    .dataframe tbody tr th:only-of-type {\n",
       "        vertical-align: middle;\n",
       "    }\n",
       "\n",
       "    .dataframe tbody tr th {\n",
       "        vertical-align: top;\n",
       "    }\n",
       "\n",
       "    .dataframe thead th {\n",
       "        text-align: right;\n",
       "    }\n",
       "</style>\n",
       "<table border=\"1\" class=\"dataframe\">\n",
       "  <thead>\n",
       "    <tr style=\"text-align: right;\">\n",
       "      <th></th>\n",
       "      <th>shape</th>\n",
       "      <th>degrees</th>\n",
       "      <th>sides</th>\n",
       "    </tr>\n",
       "  </thead>\n",
       "  <tbody>\n",
       "    <tr>\n",
       "      <th>0</th>\n",
       "      <td>square</td>\n",
       "      <td>360</td>\n",
       "      <td>4.0</td>\n",
       "    </tr>\n",
       "    <tr>\n",
       "      <th>1</th>\n",
       "      <td>circle</td>\n",
       "      <td>360</td>\n",
       "      <td>NaN</td>\n",
       "    </tr>\n",
       "    <tr>\n",
       "      <th>2</th>\n",
       "      <td>triangle</td>\n",
       "      <td>180</td>\n",
       "      <td>3.0</td>\n",
       "    </tr>\n",
       "  </tbody>\n",
       "</table>\n",
       "</div>"
      ],
      "text/plain": [
       "      shape  degrees  sides\n",
       "0    square      360    4.0\n",
       "1    circle      360    NaN\n",
       "2  triangle      180    3.0"
      ]
     },
     "metadata": {},
     "output_type": "display_data"
    }
   ],
   "source": [
    "xml_df = pd.read_xml(\"data/sample.xml\")\n",
    "display(xml_df)"
   ]
  },
  {
   "cell_type": "markdown",
   "id": "9fd76870",
   "metadata": {},
   "source": [
    "# reset_option\n",
    "- Reset one or more options to their default value.\n",
    "- Pass “all” as argument to reset all options."
   ]
  },
  {
   "cell_type": "code",
   "execution_count": 20,
   "id": "62cb09fa",
   "metadata": {},
   "outputs": [
    {
     "name": "stderr",
     "output_type": "stream",
     "text": [
      "C:\\Users\\thotc\\AppData\\Local\\Temp\\ipykernel_59744\\3365680546.py:1: FutureWarning: data_manager option is deprecated and will be removed in a future version. Only the BlockManager will be available.\n",
      "  pd.reset_option(\"all\")\n",
      "C:\\Users\\thotc\\AppData\\Local\\Temp\\ipykernel_59744\\3365680546.py:1: FutureWarning: use_inf_as_na option is deprecated and will be removed in a future version. Convert inf values to NaN before operating instead.\n",
      "  pd.reset_option(\"all\")\n"
     ]
    }
   ],
   "source": [
    "pd.reset_option(\"all\")"
   ]
  },
  {
   "cell_type": "markdown",
   "id": "24b8cef1",
   "metadata": {},
   "source": [
    "# set_eng_float_format\n",
    "- Format float representation in DataFrame with SI notation."
   ]
  },
  {
   "cell_type": "code",
   "execution_count": 21,
   "id": "35298a0f",
   "metadata": {},
   "outputs": [
    {
     "data": {
      "text/html": [
       "<div>\n",
       "<style scoped>\n",
       "    .dataframe tbody tr th:only-of-type {\n",
       "        vertical-align: middle;\n",
       "    }\n",
       "\n",
       "    .dataframe tbody tr th {\n",
       "        vertical-align: top;\n",
       "    }\n",
       "\n",
       "    .dataframe thead th {\n",
       "        text-align: right;\n",
       "    }\n",
       "</style>\n",
       "<table border=\"1\" class=\"dataframe\">\n",
       "  <thead>\n",
       "    <tr style=\"text-align: right;\">\n",
       "      <th></th>\n",
       "      <th>0</th>\n",
       "    </tr>\n",
       "  </thead>\n",
       "  <tbody>\n",
       "    <tr>\n",
       "      <th>0</th>\n",
       "      <td>1.000000e-09</td>\n",
       "    </tr>\n",
       "    <tr>\n",
       "      <th>1</th>\n",
       "      <td>1.000000e-03</td>\n",
       "    </tr>\n",
       "    <tr>\n",
       "      <th>2</th>\n",
       "      <td>1.000000e+00</td>\n",
       "    </tr>\n",
       "    <tr>\n",
       "      <th>3</th>\n",
       "      <td>1.000000e+03</td>\n",
       "    </tr>\n",
       "    <tr>\n",
       "      <th>4</th>\n",
       "      <td>1.000000e+06</td>\n",
       "    </tr>\n",
       "  </tbody>\n",
       "</table>\n",
       "</div>"
      ],
      "text/plain": [
       "              0\n",
       "0  1.000000e-09\n",
       "1  1.000000e-03\n",
       "2  1.000000e+00\n",
       "3  1.000000e+03\n",
       "4  1.000000e+06"
      ]
     },
     "metadata": {},
     "output_type": "display_data"
    },
    {
     "data": {
      "text/html": [
       "<div>\n",
       "<style scoped>\n",
       "    .dataframe tbody tr th:only-of-type {\n",
       "        vertical-align: middle;\n",
       "    }\n",
       "\n",
       "    .dataframe tbody tr th {\n",
       "        vertical-align: top;\n",
       "    }\n",
       "\n",
       "    .dataframe thead th {\n",
       "        text-align: right;\n",
       "    }\n",
       "</style>\n",
       "<table border=\"1\" class=\"dataframe\">\n",
       "  <thead>\n",
       "    <tr style=\"text-align: right;\">\n",
       "      <th></th>\n",
       "      <th>0</th>\n",
       "    </tr>\n",
       "  </thead>\n",
       "  <tbody>\n",
       "    <tr>\n",
       "      <th>0</th>\n",
       "      <td>1.0E-09</td>\n",
       "    </tr>\n",
       "    <tr>\n",
       "      <th>1</th>\n",
       "      <td>1.0E-03</td>\n",
       "    </tr>\n",
       "    <tr>\n",
       "      <th>2</th>\n",
       "      <td>1.0E+00</td>\n",
       "    </tr>\n",
       "    <tr>\n",
       "      <th>3</th>\n",
       "      <td>1.0E+03</td>\n",
       "    </tr>\n",
       "    <tr>\n",
       "      <th>4</th>\n",
       "      <td>1.0E+06</td>\n",
       "    </tr>\n",
       "  </tbody>\n",
       "</table>\n",
       "</div>"
      ],
      "text/plain": [
       "         0\n",
       "0  1.0E-09\n",
       "1  1.0E-03\n",
       "2  1.0E+00\n",
       "3  1.0E+03\n",
       "4  1.0E+06"
      ]
     },
     "metadata": {},
     "output_type": "display_data"
    }
   ],
   "source": [
    "df = pd.DataFrame([1e-9, 1e-3, 1, 1e3, 1e6])\n",
    "display(df)\n",
    "pd.set_eng_float_format(accuracy=1)\n",
    "display(df)"
   ]
  },
  {
   "cell_type": "markdown",
   "id": "2a7b0fc3",
   "metadata": {},
   "source": [
    "# set_option\n",
    "- Sets the value of the specified option."
   ]
  },
  {
   "cell_type": "code",
   "execution_count": 23,
   "id": "d38db5e9",
   "metadata": {},
   "outputs": [
    {
     "data": {
      "text/html": [
       "<div>\n",
       "<style scoped>\n",
       "    .dataframe tbody tr th:only-of-type {\n",
       "        vertical-align: middle;\n",
       "    }\n",
       "\n",
       "    .dataframe tbody tr th {\n",
       "        vertical-align: top;\n",
       "    }\n",
       "\n",
       "    .dataframe thead th {\n",
       "        text-align: right;\n",
       "    }\n",
       "</style>\n",
       "<table border=\"1\" class=\"dataframe\">\n",
       "  <thead>\n",
       "    <tr style=\"text-align: right;\">\n",
       "      <th></th>\n",
       "      <th>0</th>\n",
       "      <th>1</th>\n",
       "      <th>...</th>\n",
       "      <th>3</th>\n",
       "      <th>4</th>\n",
       "    </tr>\n",
       "  </thead>\n",
       "  <tbody>\n",
       "    <tr>\n",
       "      <th>0</th>\n",
       "      <td>1</td>\n",
       "      <td>2</td>\n",
       "      <td>...</td>\n",
       "      <td>4</td>\n",
       "      <td>5</td>\n",
       "    </tr>\n",
       "    <tr>\n",
       "      <th>1</th>\n",
       "      <td>6</td>\n",
       "      <td>7</td>\n",
       "      <td>...</td>\n",
       "      <td>9</td>\n",
       "      <td>10</td>\n",
       "    </tr>\n",
       "  </tbody>\n",
       "</table>\n",
       "<p>2 rows × 5 columns</p>\n",
       "</div>"
      ],
      "text/plain": [
       "   0  1  ...  3   4\n",
       "0  1  2  ...  4   5\n",
       "1  6  7  ...  9  10\n",
       "\n",
       "[2 rows x 5 columns]"
      ]
     },
     "metadata": {},
     "output_type": "display_data"
    }
   ],
   "source": [
    "pd.set_option('display.max_columns', 4)\n",
    "df = pd.DataFrame([[1, 2, 3, 4, 5], [6, 7, 8, 9, 10]])\n",
    "display(df)\n",
    "pd.reset_option('display.max_columns')"
   ]
  },
  {
   "cell_type": "markdown",
   "id": "e9fff4e4",
   "metadata": {},
   "source": [
    "# show_versions\n",
    "- Provide useful information, important for bug reports.\n",
    "- It comprises info about hosting operation system, pandas version, and versions of other installed relative packages."
   ]
  },
  {
   "cell_type": "code",
   "execution_count": 24,
   "id": "2f796834",
   "metadata": {},
   "outputs": [
    {
     "name": "stdout",
     "output_type": "stream",
     "text": [
      "\n",
      "INSTALLED VERSIONS\n",
      "------------------\n",
      "commit                : 0691c5cf90477d3503834d983f69350f250a6ff7\n",
      "python                : 3.13.5\n",
      "python-bits           : 64\n",
      "OS                    : Windows\n",
      "OS-release            : 11\n",
      "Version               : 10.0.26100\n",
      "machine               : AMD64\n",
      "processor             : Intel64 Family 6 Model 154 Stepping 3, GenuineIntel\n",
      "byteorder             : little\n",
      "LC_ALL                : None\n",
      "LANG                  : None\n",
      "LOCALE                : English_United States.1252\n",
      "\n",
      "pandas                : 2.2.3\n",
      "numpy                 : 2.1.2\n",
      "pytz                  : 2024.2\n",
      "dateutil              : 2.9.0.post0\n",
      "pip                   : 25.1.1\n",
      "Cython                : None\n",
      "sphinx                : None\n",
      "IPython               : 9.3.0\n",
      "adbc-driver-postgresql: None\n",
      "adbc-driver-sqlite    : None\n",
      "bs4                   : 4.13.4\n",
      "blosc                 : None\n",
      "bottleneck            : None\n",
      "dataframe-api-compat  : None\n",
      "fastparquet           : 2024.11.0\n",
      "fsspec                : 2024.6.1\n",
      "html5lib              : None\n",
      "hypothesis            : None\n",
      "gcsfs                 : None\n",
      "jinja2                : 3.1.4\n",
      "lxml.etree            : 5.4.0\n",
      "matplotlib            : 3.10.3\n",
      "numba                 : 0.61.2\n",
      "numexpr               : 2.13.0\n",
      "odfpy                 : None\n",
      "openpyxl              : 3.1.5\n",
      "pandas_gbq            : None\n",
      "psycopg2              : None\n",
      "pymysql               : None\n",
      "pyarrow               : 20.0.0\n",
      "pyreadstat            : 1.3.1\n",
      "pytest                : None\n",
      "python-calamine       : None\n",
      "pyxlsb                : None\n",
      "s3fs                  : None\n",
      "scipy                 : 1.16.0\n",
      "sqlalchemy            : 2.0.41\n",
      "tables                : 3.10.2\n",
      "tabulate              : 0.9.0\n",
      "xarray                : None\n",
      "xlrd                  : None\n",
      "xlsxwriter            : None\n",
      "zstandard             : None\n",
      "tzdata                : 2025.2\n",
      "qtpy                  : None\n",
      "pyqt5                 : None\n"
     ]
    }
   ],
   "source": [
    "pd.show_versions()"
   ]
  },
  {
   "cell_type": "markdown",
   "id": "fadb1125",
   "metadata": {},
   "source": [
    "# timedelta_range\n",
    "- Return a fixed frequency TimedeltaIndex with day as the default."
   ]
  },
  {
   "cell_type": "code",
   "execution_count": 26,
   "id": "95604ec6",
   "metadata": {},
   "outputs": [
    {
     "name": "stdout",
     "output_type": "stream",
     "text": [
      "TimedeltaIndex(['1 days', '2 days', '3 days', '4 days'], dtype='timedelta64[ns]', freq='D')\n",
      "TimedeltaIndex(['2 days', '3 days', '4 days'], dtype='timedelta64[ns]', freq='D')\n",
      "TimedeltaIndex(['1 days 00:00:00', '1 days 06:00:00', '1 days 12:00:00',\n",
      "                '1 days 18:00:00', '2 days 00:00:00'],\n",
      "               dtype='timedelta64[ns]', freq='6h')\n",
      "TimedeltaIndex(['1 days 00:00:00', '2 days 08:00:00', '3 days 16:00:00',\n",
      "                '5 days 00:00:00'],\n",
      "               dtype='timedelta64[ns]', freq=None)\n",
      "TimedeltaIndex(['1 days', '100001 days', '200001 days'], dtype='timedelta64[s]', freq='100000D')\n"
     ]
    }
   ],
   "source": [
    "print(pd.timedelta_range(start='1 day', periods=4))\n",
    "print(pd.timedelta_range(start='1 day', periods=4, closed='right'))\n",
    "print(pd.timedelta_range(start='1 day', end='2 days', freq='6h'))\n",
    "print(pd.timedelta_range(start='1 day', end='5 days', periods=4))\n",
    "print(pd.timedelta_range(\"1 Day\", periods=3, freq=\"100000D\", unit=\"s\"))"
   ]
  },
  {
   "cell_type": "markdown",
   "id": "4cecbc0c",
   "metadata": {},
   "source": [
    "# to_datetime\n",
    "- Convert argument to datetime.\n",
    "- This function converts a scalar, array-like, Series or DataFrame/dict-like to a pandas datetime object."
   ]
  },
  {
   "cell_type": "code",
   "execution_count": 28,
   "id": "e6c0552e",
   "metadata": {},
   "outputs": [
    {
     "data": {
      "text/html": [
       "<div>\n",
       "<style scoped>\n",
       "    .dataframe tbody tr th:only-of-type {\n",
       "        vertical-align: middle;\n",
       "    }\n",
       "\n",
       "    .dataframe tbody tr th {\n",
       "        vertical-align: top;\n",
       "    }\n",
       "\n",
       "    .dataframe thead th {\n",
       "        text-align: right;\n",
       "    }\n",
       "</style>\n",
       "<table border=\"1\" class=\"dataframe\">\n",
       "  <thead>\n",
       "    <tr style=\"text-align: right;\">\n",
       "      <th></th>\n",
       "      <th>year</th>\n",
       "      <th>month</th>\n",
       "      <th>day</th>\n",
       "    </tr>\n",
       "  </thead>\n",
       "  <tbody>\n",
       "    <tr>\n",
       "      <th>0</th>\n",
       "      <td>2015</td>\n",
       "      <td>2</td>\n",
       "      <td>4</td>\n",
       "    </tr>\n",
       "    <tr>\n",
       "      <th>1</th>\n",
       "      <td>2016</td>\n",
       "      <td>3</td>\n",
       "      <td>5</td>\n",
       "    </tr>\n",
       "  </tbody>\n",
       "</table>\n",
       "</div>"
      ],
      "text/plain": [
       "   year  month  day\n",
       "0  2015      2    4\n",
       "1  2016      3    5"
      ]
     },
     "metadata": {},
     "output_type": "display_data"
    },
    {
     "data": {
      "text/plain": [
       "0   2015-02-04\n",
       "1   2016-03-05\n",
       "dtype: datetime64[ns]"
      ]
     },
     "metadata": {},
     "output_type": "display_data"
    }
   ],
   "source": [
    "df = pd.DataFrame({'year': [2015, 2016],\n",
    "                   'month': [2, 3],\n",
    "                   'day': [4, 5]})\n",
    "display(df)\n",
    "display(pd.to_datetime(df))"
   ]
  },
  {
   "cell_type": "markdown",
   "id": "994e02e7",
   "metadata": {},
   "source": [
    "# to_numeric\n",
    "- Convert argument to a numeric type.\n",
    "- The default return dtype is float64 or int64 depending on the data supplied. Use the downcast parameter to obtain other dtypes.\n",
    "- Please note that precision loss may occur if really large numbers are passed in. Due to the internal limitations of ndarray, if numbers smaller than -9223372036854775808 (np.iinfo(np.int64).min) or larger than 18446744073709551615 (np.iinfo(np.uint64).max) are passed in, it is very likely they will be converted to float so that they can be stored in an ndarray. These warnings apply similarly to Series since it internally leverages ndarray."
   ]
  },
  {
   "cell_type": "code",
   "execution_count": 30,
   "id": "1316b2e6",
   "metadata": {},
   "outputs": [
    {
     "name": "stdout",
     "output_type": "stream",
     "text": [
      "0    1.0E+00\n",
      "1    2.0E+00\n",
      "2   -3.0E+00\n",
      "dtype: float64\n",
      "0    1.0E+00\n",
      "1    2.0E+00\n",
      "2   -3.0E+00\n",
      "dtype: float32\n",
      "0    1\n",
      "1    2\n",
      "2   -3\n",
      "dtype: int8\n"
     ]
    }
   ],
   "source": [
    "s = pd.Series(['1.0', '2', -3])\n",
    "print(pd.to_numeric(s))\n",
    "print(pd.to_numeric(s, downcast=\"float\"))\n",
    "print(pd.to_numeric(s, downcast=\"signed\"))"
   ]
  },
  {
   "cell_type": "markdown",
   "id": "a8cc73ea",
   "metadata": {},
   "source": [
    "# to_timedelta\n",
    "- Convert argument to timedelta.\n",
    "- Timedeltas are absolute differences in times, expressed in difference units (e.g. days, hours, minutes, seconds). This method converts an argument from a recognized timedelta format / value into a Timedelta type."
   ]
  },
  {
   "cell_type": "code",
   "execution_count": 34,
   "id": "c2e48563",
   "metadata": {},
   "outputs": [
    {
     "name": "stdout",
     "output_type": "stream",
     "text": [
      "1 days 06:05:01.000030\n",
      "0 days 00:00:00.000015500\n",
      "TimedeltaIndex(['1 days 06:05:01.000030', '0 days 00:00:00.000015500', NaT], dtype='timedelta64[ns]', freq=None)\n",
      "TimedeltaIndex(['0 days 00:00:00', '0 days 00:00:01', '0 days 00:00:02',\n",
      "                '0 days 00:00:03', '0 days 00:00:04'],\n",
      "               dtype='timedelta64[ns]', freq=None)\n",
      "TimedeltaIndex(['0 days', '1 days', '2 days', '3 days', '4 days'], dtype='timedelta64[ns]', freq=None)\n"
     ]
    }
   ],
   "source": [
    "print(pd.to_timedelta('1 days 06:05:01.00003'))\n",
    "print(pd.to_timedelta('15.5us'))\n",
    "print(pd.to_timedelta(['1 days 06:05:01.00003', '15.5us', 'nan']))\n",
    "print(pd.to_timedelta(np.arange(5), unit='s'))\n",
    "print(pd.to_timedelta(np.arange(5), unit='d'))"
   ]
  },
  {
   "cell_type": "markdown",
   "id": "ed77b562",
   "metadata": {},
   "source": [
    "# unique\n",
    "- Return unique values based on a hash table.\n",
    "- Uniques are returned in order of appearance. This does NOT sort.\n",
    "- Significantly faster than numpy.unique for long enough sequences. Includes NA values."
   ]
  },
  {
   "cell_type": "code",
   "execution_count": 35,
   "id": "e215729b",
   "metadata": {},
   "outputs": [
    {
     "data": {
      "text/plain": [
       "array([2, 1, 3])"
      ]
     },
     "execution_count": 35,
     "metadata": {},
     "output_type": "execute_result"
    }
   ],
   "source": [
    "pd.unique(pd.Series([2, 1, 3, 3]))"
   ]
  },
  {
   "cell_type": "markdown",
   "id": "1a897720",
   "metadata": {},
   "source": [
    "# wide_to_long\n",
    "- Unpivot a DataFrame from wide to long format.\n",
    "- Less flexible but more user-friendly than melt.\n",
    "- With stubnames [‘A’, ‘B’], this function expects to find one or more group of columns with format A-suffix1, A-suffix2,…, B-suffix1, B-suffix2,… You specify what you want to call this suffix in the resulting long format with j (for example j=’year’)\n",
    "- Each row of these wide variables are assumed to be uniquely identified by i (can be a single column name or a list of column names)\n",
    "- All remaining variables in the data frame are left intact."
   ]
  },
  {
   "cell_type": "code",
   "execution_count": 38,
   "id": "0fe96386",
   "metadata": {},
   "outputs": [
    {
     "data": {
      "text/html": [
       "<div>\n",
       "<style scoped>\n",
       "    .dataframe tbody tr th:only-of-type {\n",
       "        vertical-align: middle;\n",
       "    }\n",
       "\n",
       "    .dataframe tbody tr th {\n",
       "        vertical-align: top;\n",
       "    }\n",
       "\n",
       "    .dataframe thead th {\n",
       "        text-align: right;\n",
       "    }\n",
       "</style>\n",
       "<table border=\"1\" class=\"dataframe\">\n",
       "  <thead>\n",
       "    <tr style=\"text-align: right;\">\n",
       "      <th></th>\n",
       "      <th>A1970</th>\n",
       "      <th>A1980</th>\n",
       "      <th>B1970</th>\n",
       "      <th>B1980</th>\n",
       "      <th>X</th>\n",
       "      <th>id</th>\n",
       "    </tr>\n",
       "  </thead>\n",
       "  <tbody>\n",
       "    <tr>\n",
       "      <th>0</th>\n",
       "      <td>a</td>\n",
       "      <td>d</td>\n",
       "      <td>2.5E+00</td>\n",
       "      <td>3.2E+00</td>\n",
       "      <td>-1.1E+00</td>\n",
       "      <td>0</td>\n",
       "    </tr>\n",
       "    <tr>\n",
       "      <th>1</th>\n",
       "      <td>b</td>\n",
       "      <td>e</td>\n",
       "      <td>1.2E+00</td>\n",
       "      <td>1.3E+00</td>\n",
       "      <td>997.3E-03</td>\n",
       "      <td>1</td>\n",
       "    </tr>\n",
       "    <tr>\n",
       "      <th>2</th>\n",
       "      <td>c</td>\n",
       "      <td>f</td>\n",
       "      <td>700.0E-03</td>\n",
       "      <td>100.0E-03</td>\n",
       "      <td>283.0E-03</td>\n",
       "      <td>2</td>\n",
       "    </tr>\n",
       "  </tbody>\n",
       "</table>\n",
       "</div>"
      ],
      "text/plain": [
       "  A1970 A1980      B1970      B1980          X  id\n",
       "0     a     d    2.5E+00    3.2E+00   -1.1E+00   0\n",
       "1     b     e    1.2E+00    1.3E+00  997.3E-03   1\n",
       "2     c     f  700.0E-03  100.0E-03  283.0E-03   2"
      ]
     },
     "metadata": {},
     "output_type": "display_data"
    },
    {
     "data": {
      "text/html": [
       "<div>\n",
       "<style scoped>\n",
       "    .dataframe tbody tr th:only-of-type {\n",
       "        vertical-align: middle;\n",
       "    }\n",
       "\n",
       "    .dataframe tbody tr th {\n",
       "        vertical-align: top;\n",
       "    }\n",
       "\n",
       "    .dataframe thead th {\n",
       "        text-align: right;\n",
       "    }\n",
       "</style>\n",
       "<table border=\"1\" class=\"dataframe\">\n",
       "  <thead>\n",
       "    <tr style=\"text-align: right;\">\n",
       "      <th></th>\n",
       "      <th></th>\n",
       "      <th>X</th>\n",
       "      <th>A</th>\n",
       "      <th>B</th>\n",
       "    </tr>\n",
       "    <tr>\n",
       "      <th>id</th>\n",
       "      <th>year</th>\n",
       "      <th></th>\n",
       "      <th></th>\n",
       "      <th></th>\n",
       "    </tr>\n",
       "  </thead>\n",
       "  <tbody>\n",
       "    <tr>\n",
       "      <th>0</th>\n",
       "      <th>1970</th>\n",
       "      <td>-1.1E+00</td>\n",
       "      <td>a</td>\n",
       "      <td>2.5E+00</td>\n",
       "    </tr>\n",
       "    <tr>\n",
       "      <th>1</th>\n",
       "      <th>1970</th>\n",
       "      <td>997.3E-03</td>\n",
       "      <td>b</td>\n",
       "      <td>1.2E+00</td>\n",
       "    </tr>\n",
       "    <tr>\n",
       "      <th>2</th>\n",
       "      <th>1970</th>\n",
       "      <td>283.0E-03</td>\n",
       "      <td>c</td>\n",
       "      <td>700.0E-03</td>\n",
       "    </tr>\n",
       "    <tr>\n",
       "      <th>0</th>\n",
       "      <th>1980</th>\n",
       "      <td>-1.1E+00</td>\n",
       "      <td>d</td>\n",
       "      <td>3.2E+00</td>\n",
       "    </tr>\n",
       "    <tr>\n",
       "      <th>1</th>\n",
       "      <th>1980</th>\n",
       "      <td>997.3E-03</td>\n",
       "      <td>e</td>\n",
       "      <td>1.3E+00</td>\n",
       "    </tr>\n",
       "    <tr>\n",
       "      <th>2</th>\n",
       "      <th>1980</th>\n",
       "      <td>283.0E-03</td>\n",
       "      <td>f</td>\n",
       "      <td>100.0E-03</td>\n",
       "    </tr>\n",
       "  </tbody>\n",
       "</table>\n",
       "</div>"
      ],
      "text/plain": [
       "                 X  A          B\n",
       "id year                         \n",
       "0  1970   -1.1E+00  a    2.5E+00\n",
       "1  1970  997.3E-03  b    1.2E+00\n",
       "2  1970  283.0E-03  c  700.0E-03\n",
       "0  1980   -1.1E+00  d    3.2E+00\n",
       "1  1980  997.3E-03  e    1.3E+00\n",
       "2  1980  283.0E-03  f  100.0E-03"
      ]
     },
     "metadata": {},
     "output_type": "display_data"
    }
   ],
   "source": [
    "np.random.seed(123)\n",
    "df = pd.DataFrame({\"A1970\" : {0 : \"a\", 1 : \"b\", 2 : \"c\"},\n",
    "                   \"A1980\" : {0 : \"d\", 1 : \"e\", 2 : \"f\"},\n",
    "                   \"B1970\" : {0 : 2.5, 1 : 1.2, 2 : .7},\n",
    "                   \"B1980\" : {0 : 3.2, 1 : 1.3, 2 : .1},\n",
    "                   \"X\"     : dict(zip(range(3), np.random.randn(3)))\n",
    "                  })\n",
    "df[\"id\"] = df.index\n",
    "display(df)\n",
    "display(pd.wide_to_long(df, [\"A\", \"B\"], i=\"id\", j=\"year\"))\n"
   ]
  },
  {
   "cell_type": "markdown",
   "id": "f48595ce",
   "metadata": {},
   "source": [
    "# => Dataframe/Series (class)"
   ]
  },
  {
   "cell_type": "markdown",
   "id": "9d168144",
   "metadata": {},
   "source": [
    "# abs\n",
    "- Return a Series/DataFrame with absolute numeric value of each element.\n",
    "- This function only applies to elements that are all numeric."
   ]
  },
  {
   "cell_type": "code",
   "execution_count": 40,
   "id": "3cb813f6",
   "metadata": {},
   "outputs": [
    {
     "name": "stdout",
     "output_type": "stream",
     "text": [
      "0    1.1E+00\n",
      "1    2.0E+00\n",
      "2    3.3E+00\n",
      "3    4.0E+00\n",
      "dtype: float64\n"
     ]
    },
    {
     "data": {
      "text/html": [
       "<div>\n",
       "<style scoped>\n",
       "    .dataframe tbody tr th:only-of-type {\n",
       "        vertical-align: middle;\n",
       "    }\n",
       "\n",
       "    .dataframe tbody tr th {\n",
       "        vertical-align: top;\n",
       "    }\n",
       "\n",
       "    .dataframe thead th {\n",
       "        text-align: right;\n",
       "    }\n",
       "</style>\n",
       "<table border=\"1\" class=\"dataframe\">\n",
       "  <thead>\n",
       "    <tr style=\"text-align: right;\">\n",
       "      <th></th>\n",
       "      <th>a</th>\n",
       "      <th>b</th>\n",
       "      <th>c</th>\n",
       "    </tr>\n",
       "  </thead>\n",
       "  <tbody>\n",
       "    <tr>\n",
       "      <th>1</th>\n",
       "      <td>5</td>\n",
       "      <td>20</td>\n",
       "      <td>50</td>\n",
       "    </tr>\n",
       "    <tr>\n",
       "      <th>0</th>\n",
       "      <td>4</td>\n",
       "      <td>10</td>\n",
       "      <td>100</td>\n",
       "    </tr>\n",
       "    <tr>\n",
       "      <th>2</th>\n",
       "      <td>6</td>\n",
       "      <td>30</td>\n",
       "      <td>-30</td>\n",
       "    </tr>\n",
       "    <tr>\n",
       "      <th>3</th>\n",
       "      <td>7</td>\n",
       "      <td>40</td>\n",
       "      <td>-50</td>\n",
       "    </tr>\n",
       "  </tbody>\n",
       "</table>\n",
       "</div>"
      ],
      "text/plain": [
       "   a   b    c\n",
       "1  5  20   50\n",
       "0  4  10  100\n",
       "2  6  30  -30\n",
       "3  7  40  -50"
      ]
     },
     "metadata": {},
     "output_type": "display_data"
    }
   ],
   "source": [
    "s = pd.Series([-1.10, 2, -3.33, 4])\n",
    "print(s.abs())\n",
    "df = pd.DataFrame({\n",
    "    'a': [4, 5, 6, 7],\n",
    "    'b': [10, 20, 30, 40],\n",
    "    'c': [100, 50, -30, -50]\n",
    "})\n",
    "display(df.loc[(df.c - 43).abs().argsort()])"
   ]
  },
  {
   "cell_type": "markdown",
   "id": "af65fd59",
   "metadata": {},
   "source": [
    "# add \n",
    "- Get Addition of dataframe and other, element-wise (binary operator add).\n",
    "- Equivalent to dataframe + other, but with support to substitute a fill_value for missing data in one of the inputs. With reverse version, radd.\n",
    "- Among flexible wrappers (add, sub, mul, div, floordiv, mod, pow) to arithmetic operators: +, -, *, /, //, %, **."
   ]
  },
  {
   "cell_type": "code",
   "execution_count": 43,
   "id": "ae2cc626",
   "metadata": {},
   "outputs": [
    {
     "data": {
      "text/html": [
       "<div>\n",
       "<style scoped>\n",
       "    .dataframe tbody tr th:only-of-type {\n",
       "        vertical-align: middle;\n",
       "    }\n",
       "\n",
       "    .dataframe tbody tr th {\n",
       "        vertical-align: top;\n",
       "    }\n",
       "\n",
       "    .dataframe thead th {\n",
       "        text-align: right;\n",
       "    }\n",
       "</style>\n",
       "<table border=\"1\" class=\"dataframe\">\n",
       "  <thead>\n",
       "    <tr style=\"text-align: right;\">\n",
       "      <th></th>\n",
       "      <th>angles</th>\n",
       "      <th>degrees</th>\n",
       "    </tr>\n",
       "  </thead>\n",
       "  <tbody>\n",
       "    <tr>\n",
       "      <th>circle</th>\n",
       "      <td>0</td>\n",
       "      <td>360</td>\n",
       "    </tr>\n",
       "    <tr>\n",
       "      <th>triangle</th>\n",
       "      <td>3</td>\n",
       "      <td>180</td>\n",
       "    </tr>\n",
       "    <tr>\n",
       "      <th>rectangle</th>\n",
       "      <td>4</td>\n",
       "      <td>360</td>\n",
       "    </tr>\n",
       "  </tbody>\n",
       "</table>\n",
       "</div>"
      ],
      "text/plain": [
       "           angles  degrees\n",
       "circle          0      360\n",
       "triangle        3      180\n",
       "rectangle       4      360"
      ]
     },
     "metadata": {},
     "output_type": "display_data"
    },
    {
     "data": {
      "text/html": [
       "<div>\n",
       "<style scoped>\n",
       "    .dataframe tbody tr th:only-of-type {\n",
       "        vertical-align: middle;\n",
       "    }\n",
       "\n",
       "    .dataframe tbody tr th {\n",
       "        vertical-align: top;\n",
       "    }\n",
       "\n",
       "    .dataframe thead th {\n",
       "        text-align: right;\n",
       "    }\n",
       "</style>\n",
       "<table border=\"1\" class=\"dataframe\">\n",
       "  <thead>\n",
       "    <tr style=\"text-align: right;\">\n",
       "      <th></th>\n",
       "      <th>angles</th>\n",
       "      <th>degrees</th>\n",
       "    </tr>\n",
       "  </thead>\n",
       "  <tbody>\n",
       "    <tr>\n",
       "      <th>circle</th>\n",
       "      <td>1</td>\n",
       "      <td>361</td>\n",
       "    </tr>\n",
       "    <tr>\n",
       "      <th>triangle</th>\n",
       "      <td>4</td>\n",
       "      <td>181</td>\n",
       "    </tr>\n",
       "    <tr>\n",
       "      <th>rectangle</th>\n",
       "      <td>5</td>\n",
       "      <td>361</td>\n",
       "    </tr>\n",
       "  </tbody>\n",
       "</table>\n",
       "</div>"
      ],
      "text/plain": [
       "           angles  degrees\n",
       "circle          1      361\n",
       "triangle        4      181\n",
       "rectangle       5      361"
      ]
     },
     "metadata": {},
     "output_type": "display_data"
    },
    {
     "data": {
      "text/html": [
       "<div>\n",
       "<style scoped>\n",
       "    .dataframe tbody tr th:only-of-type {\n",
       "        vertical-align: middle;\n",
       "    }\n",
       "\n",
       "    .dataframe tbody tr th {\n",
       "        vertical-align: top;\n",
       "    }\n",
       "\n",
       "    .dataframe thead th {\n",
       "        text-align: right;\n",
       "    }\n",
       "</style>\n",
       "<table border=\"1\" class=\"dataframe\">\n",
       "  <thead>\n",
       "    <tr style=\"text-align: right;\">\n",
       "      <th></th>\n",
       "      <th>angles</th>\n",
       "      <th>degrees</th>\n",
       "    </tr>\n",
       "  </thead>\n",
       "  <tbody>\n",
       "    <tr>\n",
       "      <th>circle</th>\n",
       "      <td>300</td>\n",
       "      <td>660</td>\n",
       "    </tr>\n",
       "    <tr>\n",
       "      <th>triangle</th>\n",
       "      <td>303</td>\n",
       "      <td>480</td>\n",
       "    </tr>\n",
       "    <tr>\n",
       "      <th>rectangle</th>\n",
       "      <td>304</td>\n",
       "      <td>660</td>\n",
       "    </tr>\n",
       "  </tbody>\n",
       "</table>\n",
       "</div>"
      ],
      "text/plain": [
       "           angles  degrees\n",
       "circle        300      660\n",
       "triangle      303      480\n",
       "rectangle     304      660"
      ]
     },
     "metadata": {},
     "output_type": "display_data"
    }
   ],
   "source": [
    "df = pd.DataFrame({'angles': [0, 3, 4],\n",
    "                   'degrees': [360, 180, 360]},\n",
    "                  index=['circle', 'triangle', 'rectangle'])\n",
    "display(df)\n",
    "display(df + 1 )\n",
    "display(df.add(300) )"
   ]
  },
  {
   "cell_type": "markdown",
   "id": "6f1146c7",
   "metadata": {},
   "source": [
    "# add_prefix\n",
    "- Prefix labels with string prefix.\n",
    "- For Series, the row labels are prefixed. For DataFrame, the column labels are prefixed."
   ]
  },
  {
   "cell_type": "code",
   "execution_count": 44,
   "id": "fb28308c",
   "metadata": {},
   "outputs": [
    {
     "data": {
      "text/plain": [
       "item_0    1\n",
       "item_1    2\n",
       "item_2    3\n",
       "item_3    4\n",
       "dtype: int64"
      ]
     },
     "metadata": {},
     "output_type": "display_data"
    },
    {
     "data": {
      "text/html": [
       "<div>\n",
       "<style scoped>\n",
       "    .dataframe tbody tr th:only-of-type {\n",
       "        vertical-align: middle;\n",
       "    }\n",
       "\n",
       "    .dataframe tbody tr th {\n",
       "        vertical-align: top;\n",
       "    }\n",
       "\n",
       "    .dataframe thead th {\n",
       "        text-align: right;\n",
       "    }\n",
       "</style>\n",
       "<table border=\"1\" class=\"dataframe\">\n",
       "  <thead>\n",
       "    <tr style=\"text-align: right;\">\n",
       "      <th></th>\n",
       "      <th>col_A</th>\n",
       "      <th>col_B</th>\n",
       "    </tr>\n",
       "  </thead>\n",
       "  <tbody>\n",
       "    <tr>\n",
       "      <th>0</th>\n",
       "      <td>1</td>\n",
       "      <td>3</td>\n",
       "    </tr>\n",
       "    <tr>\n",
       "      <th>1</th>\n",
       "      <td>2</td>\n",
       "      <td>4</td>\n",
       "    </tr>\n",
       "    <tr>\n",
       "      <th>2</th>\n",
       "      <td>3</td>\n",
       "      <td>5</td>\n",
       "    </tr>\n",
       "    <tr>\n",
       "      <th>3</th>\n",
       "      <td>4</td>\n",
       "      <td>6</td>\n",
       "    </tr>\n",
       "  </tbody>\n",
       "</table>\n",
       "</div>"
      ],
      "text/plain": [
       "   col_A  col_B\n",
       "0      1      3\n",
       "1      2      4\n",
       "2      3      5\n",
       "3      4      6"
      ]
     },
     "execution_count": 44,
     "metadata": {},
     "output_type": "execute_result"
    }
   ],
   "source": [
    "s = pd.Series([1, 2, 3, 4])\n",
    "display(s.add_prefix('item_'))\n",
    "df = pd.DataFrame({'A': [1, 2, 3, 4], 'B': [3, 4, 5, 6]})\n",
    "df.add_prefix('col_')"
   ]
  },
  {
   "cell_type": "markdown",
   "id": "fd775716",
   "metadata": {},
   "source": [
    "# add_suffix\n",
    "- Suffix labels with string suffix.\n",
    "- For Series, the row labels are suffixed. For DataFrame, the column labels are suffixed."
   ]
  },
  {
   "cell_type": "code",
   "execution_count": 46,
   "id": "faa2d74e",
   "metadata": {},
   "outputs": [
    {
     "data": {
      "text/plain": [
       "0_item    1\n",
       "1_item    2\n",
       "2_item    3\n",
       "3_item    4\n",
       "dtype: int64"
      ]
     },
     "metadata": {},
     "output_type": "display_data"
    },
    {
     "data": {
      "text/html": [
       "<div>\n",
       "<style scoped>\n",
       "    .dataframe tbody tr th:only-of-type {\n",
       "        vertical-align: middle;\n",
       "    }\n",
       "\n",
       "    .dataframe tbody tr th {\n",
       "        vertical-align: top;\n",
       "    }\n",
       "\n",
       "    .dataframe thead th {\n",
       "        text-align: right;\n",
       "    }\n",
       "</style>\n",
       "<table border=\"1\" class=\"dataframe\">\n",
       "  <thead>\n",
       "    <tr style=\"text-align: right;\">\n",
       "      <th></th>\n",
       "      <th>A_col</th>\n",
       "      <th>B_col</th>\n",
       "    </tr>\n",
       "  </thead>\n",
       "  <tbody>\n",
       "    <tr>\n",
       "      <th>0</th>\n",
       "      <td>1</td>\n",
       "      <td>3</td>\n",
       "    </tr>\n",
       "    <tr>\n",
       "      <th>1</th>\n",
       "      <td>2</td>\n",
       "      <td>4</td>\n",
       "    </tr>\n",
       "    <tr>\n",
       "      <th>2</th>\n",
       "      <td>3</td>\n",
       "      <td>5</td>\n",
       "    </tr>\n",
       "    <tr>\n",
       "      <th>3</th>\n",
       "      <td>4</td>\n",
       "      <td>6</td>\n",
       "    </tr>\n",
       "  </tbody>\n",
       "</table>\n",
       "</div>"
      ],
      "text/plain": [
       "   A_col  B_col\n",
       "0      1      3\n",
       "1      2      4\n",
       "2      3      5\n",
       "3      4      6"
      ]
     },
     "execution_count": 46,
     "metadata": {},
     "output_type": "execute_result"
    }
   ],
   "source": [
    "s = pd.Series([1, 2, 3, 4])\n",
    "display(s.add_suffix('_item'))\n",
    "df = pd.DataFrame({'A': [1, 2, 3, 4], 'B': [3, 4, 5, 6]})\n",
    "df.add_suffix('_col')"
   ]
  },
  {
   "cell_type": "markdown",
   "id": "dd270ee8",
   "metadata": {},
   "source": [
    "# agg\n",
    "- Aggregate a function () using one or more operations over the specified axis.\n",
    "- All the functions are in the DataFrameGroupBy\n",
    "- Mathematical:\n",
    "    - 'sum': Calculates the sum of values.\n",
    "    - 'mean': Calculates the mean of values.\n",
    "    - 'median': Calculates the median of values.\n",
    "    - 'min': Finds the minimum value.\n",
    "    - 'max': Finds the maximum value.\n",
    "    - 'std': Calculates the standard deviation.\n",
    "    - 'var': Calculates the variance.\n",
    "    - 'prod': Calculates the product of values.\n",
    "    - 'mad': Calculates the mean absolute deviation.\n",
    "    - 'sem': Calculates the standard error of the mean.\n",
    "    - 'quantile': Calculates a specified quantile.\n",
    "- Counting:\n",
    "    - 'count': Counts non-null observations.\n",
    "    - 'size': Counts the total number of observations (including nulls).\n",
    "    - 'nunique': Counts the number of unique values.\n",
    "- Other:\n",
    "    - 'first': Returns the first value in the group.\n",
    "    - 'last': Returns the last value in the group.\n",
    "    - 'ohlc': Returns Open, High, Low, Close values (useful for time series).\n",
    "    - 'describe': Generates descriptive statistics for each group."
   ]
  },
  {
   "cell_type": "code",
   "execution_count": 48,
   "id": "30f19ecc",
   "metadata": {},
   "outputs": [
    {
     "data": {
      "text/html": [
       "<div>\n",
       "<style scoped>\n",
       "    .dataframe tbody tr th:only-of-type {\n",
       "        vertical-align: middle;\n",
       "    }\n",
       "\n",
       "    .dataframe tbody tr th {\n",
       "        vertical-align: top;\n",
       "    }\n",
       "\n",
       "    .dataframe thead th {\n",
       "        text-align: right;\n",
       "    }\n",
       "</style>\n",
       "<table border=\"1\" class=\"dataframe\">\n",
       "  <thead>\n",
       "    <tr style=\"text-align: right;\">\n",
       "      <th></th>\n",
       "      <th>A</th>\n",
       "      <th>B</th>\n",
       "      <th>C</th>\n",
       "    </tr>\n",
       "  </thead>\n",
       "  <tbody>\n",
       "    <tr>\n",
       "      <th>0</th>\n",
       "      <td>1.0E+00</td>\n",
       "      <td>2.0E+00</td>\n",
       "      <td>3.0E+00</td>\n",
       "    </tr>\n",
       "    <tr>\n",
       "      <th>1</th>\n",
       "      <td>4.0E+00</td>\n",
       "      <td>5.0E+00</td>\n",
       "      <td>6.0E+00</td>\n",
       "    </tr>\n",
       "    <tr>\n",
       "      <th>2</th>\n",
       "      <td>7.0E+00</td>\n",
       "      <td>8.0E+00</td>\n",
       "      <td>9.0E+00</td>\n",
       "    </tr>\n",
       "    <tr>\n",
       "      <th>3</th>\n",
       "      <td>NaN</td>\n",
       "      <td>NaN</td>\n",
       "      <td>NaN</td>\n",
       "    </tr>\n",
       "  </tbody>\n",
       "</table>\n",
       "</div>"
      ],
      "text/plain": [
       "         A        B        C\n",
       "0  1.0E+00  2.0E+00  3.0E+00\n",
       "1  4.0E+00  5.0E+00  6.0E+00\n",
       "2  7.0E+00  8.0E+00  9.0E+00\n",
       "3      NaN      NaN      NaN"
      ]
     },
     "metadata": {},
     "output_type": "display_data"
    },
    {
     "data": {
      "text/html": [
       "<div>\n",
       "<style scoped>\n",
       "    .dataframe tbody tr th:only-of-type {\n",
       "        vertical-align: middle;\n",
       "    }\n",
       "\n",
       "    .dataframe tbody tr th {\n",
       "        vertical-align: top;\n",
       "    }\n",
       "\n",
       "    .dataframe thead th {\n",
       "        text-align: right;\n",
       "    }\n",
       "</style>\n",
       "<table border=\"1\" class=\"dataframe\">\n",
       "  <thead>\n",
       "    <tr style=\"text-align: right;\">\n",
       "      <th></th>\n",
       "      <th>A</th>\n",
       "      <th>B</th>\n",
       "      <th>C</th>\n",
       "    </tr>\n",
       "  </thead>\n",
       "  <tbody>\n",
       "    <tr>\n",
       "      <th>sum</th>\n",
       "      <td>12.0E+00</td>\n",
       "      <td>15.0E+00</td>\n",
       "      <td>18.0E+00</td>\n",
       "    </tr>\n",
       "    <tr>\n",
       "      <th>min</th>\n",
       "      <td>1.0E+00</td>\n",
       "      <td>2.0E+00</td>\n",
       "      <td>3.0E+00</td>\n",
       "    </tr>\n",
       "  </tbody>\n",
       "</table>\n",
       "</div>"
      ],
      "text/plain": [
       "            A         B         C\n",
       "sum  12.0E+00  15.0E+00  18.0E+00\n",
       "min   1.0E+00   2.0E+00   3.0E+00"
      ]
     },
     "metadata": {},
     "output_type": "display_data"
    },
    {
     "data": {
      "text/html": [
       "<div>\n",
       "<style scoped>\n",
       "    .dataframe tbody tr th:only-of-type {\n",
       "        vertical-align: middle;\n",
       "    }\n",
       "\n",
       "    .dataframe tbody tr th {\n",
       "        vertical-align: top;\n",
       "    }\n",
       "\n",
       "    .dataframe thead th {\n",
       "        text-align: right;\n",
       "    }\n",
       "</style>\n",
       "<table border=\"1\" class=\"dataframe\">\n",
       "  <thead>\n",
       "    <tr style=\"text-align: right;\">\n",
       "      <th></th>\n",
       "      <th>A</th>\n",
       "      <th>B</th>\n",
       "    </tr>\n",
       "  </thead>\n",
       "  <tbody>\n",
       "    <tr>\n",
       "      <th>sum</th>\n",
       "      <td>12.0E+00</td>\n",
       "      <td>NaN</td>\n",
       "    </tr>\n",
       "    <tr>\n",
       "      <th>min</th>\n",
       "      <td>1.0E+00</td>\n",
       "      <td>2.0E+00</td>\n",
       "    </tr>\n",
       "    <tr>\n",
       "      <th>max</th>\n",
       "      <td>NaN</td>\n",
       "      <td>8.0E+00</td>\n",
       "    </tr>\n",
       "  </tbody>\n",
       "</table>\n",
       "</div>"
      ],
      "text/plain": [
       "            A        B\n",
       "sum  12.0E+00      NaN\n",
       "min   1.0E+00  2.0E+00\n",
       "max       NaN  8.0E+00"
      ]
     },
     "metadata": {},
     "output_type": "display_data"
    }
   ],
   "source": [
    "df = pd.DataFrame([[1, 2, 3],\n",
    "                   [4, 5, 6],\n",
    "                   [7, 8, 9],\n",
    "                   [np.nan, np.nan, np.nan]],\n",
    "                  columns=['A', 'B', 'C'])\n",
    "display(df)\n",
    "display(df.agg(['sum', 'min']))\n",
    "display(df.agg({'A' : ['sum', 'min'], 'B': ['min', 'max']}))"
   ]
  },
  {
   "cell_type": "markdown",
   "id": "2756f404",
   "metadata": {},
   "source": [
    "# aggregate\n",
    "- Aggregate using one or more operations over the specified axis.\n",
    "# Same as agg"
   ]
  },
  {
   "cell_type": "code",
   "execution_count": 50,
   "id": "af07a50d",
   "metadata": {},
   "outputs": [
    {
     "name": "stdout",
     "output_type": "stream",
     "text": [
      "True\n"
     ]
    }
   ],
   "source": [
    "print(pd.DataFrame.agg is pd.DataFrame.aggregate)"
   ]
  },
  {
   "cell_type": "markdown",
   "id": "24c26760",
   "metadata": {},
   "source": [
    "# align\n",
    "- Align two objects on their axes with the specified join method.\n",
    "- Join method is specified for each axis Index.\n",
    "- To align two pandas objects (Series or DataFrames) based on their axes (index and/or columns) using a specified join method. It returns new objects (the aligned versions of the original DataFrames) that can then be used in element-wise operations or further analysis.\n",
    "- Operation: It reindexes both DataFrames to have the same labels on the specified axis/axes, filling in NaN for missing labels according to the join method (inner, outer, left, right)."
   ]
  },
  {
   "cell_type": "code",
   "execution_count": 51,
   "id": "1eb43056",
   "metadata": {},
   "outputs": [
    {
     "data": {
      "text/html": [
       "<div>\n",
       "<style scoped>\n",
       "    .dataframe tbody tr th:only-of-type {\n",
       "        vertical-align: middle;\n",
       "    }\n",
       "\n",
       "    .dataframe tbody tr th {\n",
       "        vertical-align: top;\n",
       "    }\n",
       "\n",
       "    .dataframe thead th {\n",
       "        text-align: right;\n",
       "    }\n",
       "</style>\n",
       "<table border=\"1\" class=\"dataframe\">\n",
       "  <thead>\n",
       "    <tr style=\"text-align: right;\">\n",
       "      <th></th>\n",
       "      <th>D</th>\n",
       "      <th>B</th>\n",
       "      <th>E</th>\n",
       "      <th>A</th>\n",
       "    </tr>\n",
       "  </thead>\n",
       "  <tbody>\n",
       "    <tr>\n",
       "      <th>1</th>\n",
       "      <td>1</td>\n",
       "      <td>2</td>\n",
       "      <td>3</td>\n",
       "      <td>4</td>\n",
       "    </tr>\n",
       "    <tr>\n",
       "      <th>2</th>\n",
       "      <td>6</td>\n",
       "      <td>7</td>\n",
       "      <td>8</td>\n",
       "      <td>9</td>\n",
       "    </tr>\n",
       "  </tbody>\n",
       "</table>\n",
       "</div>"
      ],
      "text/plain": [
       "   D  B  E  A\n",
       "1  1  2  3  4\n",
       "2  6  7  8  9"
      ]
     },
     "metadata": {},
     "output_type": "display_data"
    },
    {
     "data": {
      "text/html": [
       "<div>\n",
       "<style scoped>\n",
       "    .dataframe tbody tr th:only-of-type {\n",
       "        vertical-align: middle;\n",
       "    }\n",
       "\n",
       "    .dataframe tbody tr th {\n",
       "        vertical-align: top;\n",
       "    }\n",
       "\n",
       "    .dataframe thead th {\n",
       "        text-align: right;\n",
       "    }\n",
       "</style>\n",
       "<table border=\"1\" class=\"dataframe\">\n",
       "  <thead>\n",
       "    <tr style=\"text-align: right;\">\n",
       "      <th></th>\n",
       "      <th>A</th>\n",
       "      <th>B</th>\n",
       "      <th>C</th>\n",
       "      <th>D</th>\n",
       "    </tr>\n",
       "  </thead>\n",
       "  <tbody>\n",
       "    <tr>\n",
       "      <th>2</th>\n",
       "      <td>10</td>\n",
       "      <td>20</td>\n",
       "      <td>30</td>\n",
       "      <td>40</td>\n",
       "    </tr>\n",
       "    <tr>\n",
       "      <th>3</th>\n",
       "      <td>60</td>\n",
       "      <td>70</td>\n",
       "      <td>80</td>\n",
       "      <td>90</td>\n",
       "    </tr>\n",
       "    <tr>\n",
       "      <th>4</th>\n",
       "      <td>600</td>\n",
       "      <td>700</td>\n",
       "      <td>800</td>\n",
       "      <td>900</td>\n",
       "    </tr>\n",
       "  </tbody>\n",
       "</table>\n",
       "</div>"
      ],
      "text/plain": [
       "     A    B    C    D\n",
       "2   10   20   30   40\n",
       "3   60   70   80   90\n",
       "4  600  700  800  900"
      ]
     },
     "metadata": {},
     "output_type": "display_data"
    },
    {
     "data": {
      "text/html": [
       "<div>\n",
       "<style scoped>\n",
       "    .dataframe tbody tr th:only-of-type {\n",
       "        vertical-align: middle;\n",
       "    }\n",
       "\n",
       "    .dataframe tbody tr th {\n",
       "        vertical-align: top;\n",
       "    }\n",
       "\n",
       "    .dataframe thead th {\n",
       "        text-align: right;\n",
       "    }\n",
       "</style>\n",
       "<table border=\"1\" class=\"dataframe\">\n",
       "  <thead>\n",
       "    <tr style=\"text-align: right;\">\n",
       "      <th></th>\n",
       "      <th>A</th>\n",
       "      <th>B</th>\n",
       "      <th>C</th>\n",
       "      <th>D</th>\n",
       "      <th>E</th>\n",
       "    </tr>\n",
       "  </thead>\n",
       "  <tbody>\n",
       "    <tr>\n",
       "      <th>1</th>\n",
       "      <td>4</td>\n",
       "      <td>2</td>\n",
       "      <td>NaN</td>\n",
       "      <td>1</td>\n",
       "      <td>3</td>\n",
       "    </tr>\n",
       "    <tr>\n",
       "      <th>2</th>\n",
       "      <td>9</td>\n",
       "      <td>7</td>\n",
       "      <td>NaN</td>\n",
       "      <td>6</td>\n",
       "      <td>8</td>\n",
       "    </tr>\n",
       "  </tbody>\n",
       "</table>\n",
       "</div>"
      ],
      "text/plain": [
       "   A  B   C  D  E\n",
       "1  4  2 NaN  1  3\n",
       "2  9  7 NaN  6  8"
      ]
     },
     "metadata": {},
     "output_type": "display_data"
    },
    {
     "data": {
      "text/html": [
       "<div>\n",
       "<style scoped>\n",
       "    .dataframe tbody tr th:only-of-type {\n",
       "        vertical-align: middle;\n",
       "    }\n",
       "\n",
       "    .dataframe tbody tr th {\n",
       "        vertical-align: top;\n",
       "    }\n",
       "\n",
       "    .dataframe thead th {\n",
       "        text-align: right;\n",
       "    }\n",
       "</style>\n",
       "<table border=\"1\" class=\"dataframe\">\n",
       "  <thead>\n",
       "    <tr style=\"text-align: right;\">\n",
       "      <th></th>\n",
       "      <th>A</th>\n",
       "      <th>B</th>\n",
       "      <th>C</th>\n",
       "      <th>D</th>\n",
       "      <th>E</th>\n",
       "    </tr>\n",
       "  </thead>\n",
       "  <tbody>\n",
       "    <tr>\n",
       "      <th>2</th>\n",
       "      <td>10</td>\n",
       "      <td>20</td>\n",
       "      <td>30</td>\n",
       "      <td>40</td>\n",
       "      <td>NaN</td>\n",
       "    </tr>\n",
       "    <tr>\n",
       "      <th>3</th>\n",
       "      <td>60</td>\n",
       "      <td>70</td>\n",
       "      <td>80</td>\n",
       "      <td>90</td>\n",
       "      <td>NaN</td>\n",
       "    </tr>\n",
       "    <tr>\n",
       "      <th>4</th>\n",
       "      <td>600</td>\n",
       "      <td>700</td>\n",
       "      <td>800</td>\n",
       "      <td>900</td>\n",
       "      <td>NaN</td>\n",
       "    </tr>\n",
       "  </tbody>\n",
       "</table>\n",
       "</div>"
      ],
      "text/plain": [
       "     A    B    C    D   E\n",
       "2   10   20   30   40 NaN\n",
       "3   60   70   80   90 NaN\n",
       "4  600  700  800  900 NaN"
      ]
     },
     "metadata": {},
     "output_type": "display_data"
    }
   ],
   "source": [
    "df = pd.DataFrame(\n",
    "    [[1, 2, 3, 4], [6, 7, 8, 9]], columns=[\"D\", \"B\", \"E\", \"A\"], index=[1, 2]\n",
    ")\n",
    "other = pd.DataFrame(\n",
    "    [[10, 20, 30, 40], [60, 70, 80, 90], [600, 700, 800, 900]],\n",
    "    columns=[\"A\", \"B\", \"C\", \"D\"],\n",
    "    index=[2, 3, 4],\n",
    ")\n",
    "display(df)\n",
    "display(other)\n",
    "left, right = df.align(other, join=\"outer\", axis=1)\n",
    "display(left)\n",
    "display(right)"
   ]
  },
  {
   "cell_type": "markdown",
   "id": "09afa276",
   "metadata": {},
   "source": [
    "# all\n",
    "- Return whether all elements are True, potentially over an axis.\n",
    "- Returns True unless there at least one element within a series or along a Dataframe axis that is False or equivalent (e.g. zero or empty)."
   ]
  },
  {
   "cell_type": "code",
   "execution_count": 56,
   "id": "db1e83f9",
   "metadata": {},
   "outputs": [
    {
     "data": {
      "text/plain": [
       "np.True_"
      ]
     },
     "metadata": {},
     "output_type": "display_data"
    },
    {
     "data": {
      "text/html": [
       "<div>\n",
       "<style scoped>\n",
       "    .dataframe tbody tr th:only-of-type {\n",
       "        vertical-align: middle;\n",
       "    }\n",
       "\n",
       "    .dataframe tbody tr th {\n",
       "        vertical-align: top;\n",
       "    }\n",
       "\n",
       "    .dataframe thead th {\n",
       "        text-align: right;\n",
       "    }\n",
       "</style>\n",
       "<table border=\"1\" class=\"dataframe\">\n",
       "  <thead>\n",
       "    <tr style=\"text-align: right;\">\n",
       "      <th></th>\n",
       "      <th>col1</th>\n",
       "      <th>col2</th>\n",
       "    </tr>\n",
       "  </thead>\n",
       "  <tbody>\n",
       "    <tr>\n",
       "      <th>0</th>\n",
       "      <td>True</td>\n",
       "      <td>True</td>\n",
       "    </tr>\n",
       "    <tr>\n",
       "      <th>1</th>\n",
       "      <td>True</td>\n",
       "      <td>False</td>\n",
       "    </tr>\n",
       "    <tr>\n",
       "      <th>2</th>\n",
       "      <td>True</td>\n",
       "      <td>False</td>\n",
       "    </tr>\n",
       "  </tbody>\n",
       "</table>\n",
       "</div>"
      ],
      "text/plain": [
       "   col1   col2\n",
       "0  True   True\n",
       "1  True  False\n",
       "2  True  False"
      ]
     },
     "metadata": {},
     "output_type": "display_data"
    },
    {
     "data": {
      "text/plain": [
       "col1     True\n",
       "col2    False\n",
       "dtype: bool"
      ]
     },
     "metadata": {},
     "output_type": "display_data"
    },
    {
     "data": {
      "text/plain": [
       "col1     True\n",
       "col2    False\n",
       "dtype: bool"
      ]
     },
     "metadata": {},
     "output_type": "display_data"
    },
    {
     "data": {
      "text/plain": [
       "0     True\n",
       "1    False\n",
       "2    False\n",
       "dtype: bool"
      ]
     },
     "metadata": {},
     "output_type": "display_data"
    }
   ],
   "source": [
    "display(pd.Series([True, True]).all())\n",
    "df = pd.DataFrame({'col1': [True, True, True], 'col2': [True, False, False]})\n",
    "display(df)\n",
    "display(df.all())\n",
    "display(df.all(axis=0))\n",
    "display(df.all(axis='columns'))"
   ]
  },
  {
   "cell_type": "markdown",
   "id": "beb3aac4",
   "metadata": {},
   "source": [
    "# any\n",
    "- Return whether any element is True, potentially over an axis.\n",
    "\n",
    "Returns False unless there is at least one element within a series or along a Dataframe axis that is True or equivalent (e.g. non-zero or non-empty)."
   ]
  },
  {
   "cell_type": "code",
   "execution_count": 58,
   "id": "5d380d98",
   "metadata": {},
   "outputs": [
    {
     "data": {
      "text/plain": [
       "np.True_"
      ]
     },
     "metadata": {},
     "output_type": "display_data"
    },
    {
     "data": {
      "text/html": [
       "<div>\n",
       "<style scoped>\n",
       "    .dataframe tbody tr th:only-of-type {\n",
       "        vertical-align: middle;\n",
       "    }\n",
       "\n",
       "    .dataframe tbody tr th {\n",
       "        vertical-align: top;\n",
       "    }\n",
       "\n",
       "    .dataframe thead th {\n",
       "        text-align: right;\n",
       "    }\n",
       "</style>\n",
       "<table border=\"1\" class=\"dataframe\">\n",
       "  <thead>\n",
       "    <tr style=\"text-align: right;\">\n",
       "      <th></th>\n",
       "      <th>col1</th>\n",
       "      <th>col2</th>\n",
       "    </tr>\n",
       "  </thead>\n",
       "  <tbody>\n",
       "    <tr>\n",
       "      <th>0</th>\n",
       "      <td>True</td>\n",
       "      <td>True</td>\n",
       "    </tr>\n",
       "    <tr>\n",
       "      <th>1</th>\n",
       "      <td>True</td>\n",
       "      <td>False</td>\n",
       "    </tr>\n",
       "    <tr>\n",
       "      <th>2</th>\n",
       "      <td>True</td>\n",
       "      <td>False</td>\n",
       "    </tr>\n",
       "  </tbody>\n",
       "</table>\n",
       "</div>"
      ],
      "text/plain": [
       "   col1   col2\n",
       "0  True   True\n",
       "1  True  False\n",
       "2  True  False"
      ]
     },
     "metadata": {},
     "output_type": "display_data"
    },
    {
     "data": {
      "text/plain": [
       "col1    True\n",
       "col2    True\n",
       "dtype: bool"
      ]
     },
     "metadata": {},
     "output_type": "display_data"
    },
    {
     "data": {
      "text/plain": [
       "col1    True\n",
       "col2    True\n",
       "dtype: bool"
      ]
     },
     "metadata": {},
     "output_type": "display_data"
    },
    {
     "data": {
      "text/plain": [
       "0    True\n",
       "1    True\n",
       "2    True\n",
       "dtype: bool"
      ]
     },
     "metadata": {},
     "output_type": "display_data"
    }
   ],
   "source": [
    "display(pd.Series([True, True]).any())\n",
    "df = pd.DataFrame({'col1': [True, True, True], 'col2': [True, False, False]})\n",
    "display(df)\n",
    "display(df.any())\n",
    "display(df.any(axis=0))\n",
    "display(df.any(axis='columns'))"
   ]
  },
  {
   "cell_type": "markdown",
   "id": "109b6088",
   "metadata": {},
   "source": [
    "# apply\n",
    "- Apply a function along an axis of the DataFrame.\n",
    "- Objects passed to the function are Series objects whose index is either the DataFrame’s index (axis=0) or the DataFrame’s columns (axis=1). By default (result_type=None), the final return type is inferred from the return type of the applied function. Otherwise, it depends on the result_type argument."
   ]
  },
  {
   "cell_type": "code",
   "execution_count": 61,
   "id": "19bdcfdf",
   "metadata": {},
   "outputs": [
    {
     "data": {
      "text/html": [
       "<div>\n",
       "<style scoped>\n",
       "    .dataframe tbody tr th:only-of-type {\n",
       "        vertical-align: middle;\n",
       "    }\n",
       "\n",
       "    .dataframe tbody tr th {\n",
       "        vertical-align: top;\n",
       "    }\n",
       "\n",
       "    .dataframe thead th {\n",
       "        text-align: right;\n",
       "    }\n",
       "</style>\n",
       "<table border=\"1\" class=\"dataframe\">\n",
       "  <thead>\n",
       "    <tr style=\"text-align: right;\">\n",
       "      <th></th>\n",
       "      <th>A</th>\n",
       "      <th>B</th>\n",
       "    </tr>\n",
       "  </thead>\n",
       "  <tbody>\n",
       "    <tr>\n",
       "      <th>0</th>\n",
       "      <td>4</td>\n",
       "      <td>9</td>\n",
       "    </tr>\n",
       "    <tr>\n",
       "      <th>1</th>\n",
       "      <td>4</td>\n",
       "      <td>9</td>\n",
       "    </tr>\n",
       "    <tr>\n",
       "      <th>2</th>\n",
       "      <td>4</td>\n",
       "      <td>9</td>\n",
       "    </tr>\n",
       "  </tbody>\n",
       "</table>\n",
       "</div>"
      ],
      "text/plain": [
       "   A  B\n",
       "0  4  9\n",
       "1  4  9\n",
       "2  4  9"
      ]
     },
     "metadata": {},
     "output_type": "display_data"
    },
    {
     "data": {
      "text/html": [
       "<div>\n",
       "<style scoped>\n",
       "    .dataframe tbody tr th:only-of-type {\n",
       "        vertical-align: middle;\n",
       "    }\n",
       "\n",
       "    .dataframe tbody tr th {\n",
       "        vertical-align: top;\n",
       "    }\n",
       "\n",
       "    .dataframe thead th {\n",
       "        text-align: right;\n",
       "    }\n",
       "</style>\n",
       "<table border=\"1\" class=\"dataframe\">\n",
       "  <thead>\n",
       "    <tr style=\"text-align: right;\">\n",
       "      <th></th>\n",
       "      <th>A</th>\n",
       "      <th>B</th>\n",
       "    </tr>\n",
       "  </thead>\n",
       "  <tbody>\n",
       "    <tr>\n",
       "      <th>0</th>\n",
       "      <td>2.0E+00</td>\n",
       "      <td>3.0E+00</td>\n",
       "    </tr>\n",
       "    <tr>\n",
       "      <th>1</th>\n",
       "      <td>2.0E+00</td>\n",
       "      <td>3.0E+00</td>\n",
       "    </tr>\n",
       "    <tr>\n",
       "      <th>2</th>\n",
       "      <td>2.0E+00</td>\n",
       "      <td>3.0E+00</td>\n",
       "    </tr>\n",
       "  </tbody>\n",
       "</table>\n",
       "</div>"
      ],
      "text/plain": [
       "         A        B\n",
       "0  2.0E+00  3.0E+00\n",
       "1  2.0E+00  3.0E+00\n",
       "2  2.0E+00  3.0E+00"
      ]
     },
     "metadata": {},
     "output_type": "display_data"
    },
    {
     "data": {
      "text/plain": [
       "A    12\n",
       "B    27\n",
       "dtype: int64"
      ]
     },
     "metadata": {},
     "output_type": "display_data"
    },
    {
     "data": {
      "text/plain": [
       "0    13\n",
       "1    13\n",
       "2    13\n",
       "dtype: int64"
      ]
     },
     "metadata": {},
     "output_type": "display_data"
    }
   ],
   "source": [
    "df = pd.DataFrame([[4, 9]] * 3, columns=['A', 'B'])\n",
    "display(df)\n",
    "display(df.apply(np.sqrt))\n",
    "display(df.apply(np.sum, axis=0))\n",
    "display(df.apply(np.sum, axis=1))"
   ]
  },
  {
   "cell_type": "markdown",
   "id": "f1ffe938",
   "metadata": {},
   "source": [
    "# asfreq\n",
    "- Convert time series to specified frequency.\n",
    "- Returns the original data conformed to a new index with the specified frequency.\n",
    "- If the index of this Series/DataFrame is a PeriodIndex, the new index is the result of transforming the original index with PeriodIndex.asfreq (so the original index will map one-to-one to the new index).\n",
    "- Otherwise, the new index will be equivalent to pd.date_range(start, end, freq=freq) where start and end are, respectively, the first and last entries in the original index (see pandas.date_range()). The values corresponding to any timesteps in the new index which were not present in the original index will be null (NaN), unless a method for filling such unknowns is provided (see the method parameter below).\n",
    "- The resample() method is more appropriate if an operation on each group of timesteps (such as an aggregate) is necessary to represent the data at the new frequency."
   ]
  },
  {
   "cell_type": "code",
   "execution_count": 64,
   "id": "d88ca046",
   "metadata": {},
   "outputs": [
    {
     "data": {
      "text/html": [
       "<div>\n",
       "<style scoped>\n",
       "    .dataframe tbody tr th:only-of-type {\n",
       "        vertical-align: middle;\n",
       "    }\n",
       "\n",
       "    .dataframe tbody tr th {\n",
       "        vertical-align: top;\n",
       "    }\n",
       "\n",
       "    .dataframe thead th {\n",
       "        text-align: right;\n",
       "    }\n",
       "</style>\n",
       "<table border=\"1\" class=\"dataframe\">\n",
       "  <thead>\n",
       "    <tr style=\"text-align: right;\">\n",
       "      <th></th>\n",
       "      <th>s</th>\n",
       "    </tr>\n",
       "  </thead>\n",
       "  <tbody>\n",
       "    <tr>\n",
       "      <th>2026-01-01 00:00:00</th>\n",
       "      <td>0.0E+00</td>\n",
       "    </tr>\n",
       "    <tr>\n",
       "      <th>2026-01-01 00:01:00</th>\n",
       "      <td>NaN</td>\n",
       "    </tr>\n",
       "    <tr>\n",
       "      <th>2026-01-01 00:02:00</th>\n",
       "      <td>2.0E+00</td>\n",
       "    </tr>\n",
       "    <tr>\n",
       "      <th>2026-01-01 00:03:00</th>\n",
       "      <td>3.0E+00</td>\n",
       "    </tr>\n",
       "  </tbody>\n",
       "</table>\n",
       "</div>"
      ],
      "text/plain": [
       "                           s\n",
       "2026-01-01 00:00:00  0.0E+00\n",
       "2026-01-01 00:01:00      NaN\n",
       "2026-01-01 00:02:00  2.0E+00\n",
       "2026-01-01 00:03:00  3.0E+00"
      ]
     },
     "metadata": {},
     "output_type": "display_data"
    },
    {
     "data": {
      "text/html": [
       "<div>\n",
       "<style scoped>\n",
       "    .dataframe tbody tr th:only-of-type {\n",
       "        vertical-align: middle;\n",
       "    }\n",
       "\n",
       "    .dataframe tbody tr th {\n",
       "        vertical-align: top;\n",
       "    }\n",
       "\n",
       "    .dataframe thead th {\n",
       "        text-align: right;\n",
       "    }\n",
       "</style>\n",
       "<table border=\"1\" class=\"dataframe\">\n",
       "  <thead>\n",
       "    <tr style=\"text-align: right;\">\n",
       "      <th></th>\n",
       "      <th>s</th>\n",
       "    </tr>\n",
       "  </thead>\n",
       "  <tbody>\n",
       "    <tr>\n",
       "      <th>2026-01-01 00:00:00</th>\n",
       "      <td>0.0E+00</td>\n",
       "    </tr>\n",
       "    <tr>\n",
       "      <th>2026-01-01 00:00:30</th>\n",
       "      <td>NaN</td>\n",
       "    </tr>\n",
       "    <tr>\n",
       "      <th>2026-01-01 00:01:00</th>\n",
       "      <td>NaN</td>\n",
       "    </tr>\n",
       "    <tr>\n",
       "      <th>2026-01-01 00:01:30</th>\n",
       "      <td>NaN</td>\n",
       "    </tr>\n",
       "    <tr>\n",
       "      <th>2026-01-01 00:02:00</th>\n",
       "      <td>2.0E+00</td>\n",
       "    </tr>\n",
       "    <tr>\n",
       "      <th>2026-01-01 00:02:30</th>\n",
       "      <td>NaN</td>\n",
       "    </tr>\n",
       "    <tr>\n",
       "      <th>2026-01-01 00:03:00</th>\n",
       "      <td>3.0E+00</td>\n",
       "    </tr>\n",
       "  </tbody>\n",
       "</table>\n",
       "</div>"
      ],
      "text/plain": [
       "                           s\n",
       "2026-01-01 00:00:00  0.0E+00\n",
       "2026-01-01 00:00:30      NaN\n",
       "2026-01-01 00:01:00      NaN\n",
       "2026-01-01 00:01:30      NaN\n",
       "2026-01-01 00:02:00  2.0E+00\n",
       "2026-01-01 00:02:30      NaN\n",
       "2026-01-01 00:03:00  3.0E+00"
      ]
     },
     "metadata": {},
     "output_type": "display_data"
    }
   ],
   "source": [
    "index = pd.date_range('1/1/2026', periods=4, freq='min')\n",
    "series = pd.Series([0.0, None, 2.0, 3.0], index=index)\n",
    "df = pd.DataFrame({'s': series})\n",
    "display(df)\n",
    "display(df.asfreq(freq='30s'))"
   ]
  },
  {
   "cell_type": "markdown",
   "id": "0b9bbaa9",
   "metadata": {},
   "source": [
    "# asof\n",
    "- Return the last row(s) without any NaNs before where.\n",
    "- The last row (for each element in where, if list) without any NaN is taken. In case of a DataFrame, the last row without NaN considering only the subset of columns (if not None)\n",
    "- If there is no good value, NaN is returned for a Series or a Series of NaN values for a DataFrame"
   ]
  },
  {
   "cell_type": "code",
   "execution_count": 70,
   "id": "738cdd03",
   "metadata": {},
   "outputs": [
    {
     "name": "stdout",
     "output_type": "stream",
     "text": [
      "4.0\n",
      "1.0\n"
     ]
    },
    {
     "data": {
      "text/html": [
       "<div>\n",
       "<style scoped>\n",
       "    .dataframe tbody tr th:only-of-type {\n",
       "        vertical-align: middle;\n",
       "    }\n",
       "\n",
       "    .dataframe tbody tr th {\n",
       "        vertical-align: top;\n",
       "    }\n",
       "\n",
       "    .dataframe thead th {\n",
       "        text-align: right;\n",
       "    }\n",
       "</style>\n",
       "<table border=\"1\" class=\"dataframe\">\n",
       "  <thead>\n",
       "    <tr style=\"text-align: right;\">\n",
       "      <th></th>\n",
       "      <th>a</th>\n",
       "      <th>b</th>\n",
       "    </tr>\n",
       "  </thead>\n",
       "  <tbody>\n",
       "    <tr>\n",
       "      <th>2025-02-27 09:01:00</th>\n",
       "      <td>10.0E+00</td>\n",
       "      <td>NaN</td>\n",
       "    </tr>\n",
       "    <tr>\n",
       "      <th>2025-02-27 09:02:00</th>\n",
       "      <td>20.0E+00</td>\n",
       "      <td>NaN</td>\n",
       "    </tr>\n",
       "    <tr>\n",
       "      <th>2025-02-27 09:03:00</th>\n",
       "      <td>30.0E+00</td>\n",
       "      <td>NaN</td>\n",
       "    </tr>\n",
       "    <tr>\n",
       "      <th>2025-02-27 09:04:00</th>\n",
       "      <td>40.0E+00</td>\n",
       "      <td>NaN</td>\n",
       "    </tr>\n",
       "    <tr>\n",
       "      <th>2025-02-27 09:05:00</th>\n",
       "      <td>50.0E+00</td>\n",
       "      <td>500.0E+00</td>\n",
       "    </tr>\n",
       "  </tbody>\n",
       "</table>\n",
       "</div>"
      ],
      "text/plain": [
       "                            a          b\n",
       "2025-02-27 09:01:00  10.0E+00        NaN\n",
       "2025-02-27 09:02:00  20.0E+00        NaN\n",
       "2025-02-27 09:03:00  30.0E+00        NaN\n",
       "2025-02-27 09:04:00  40.0E+00        NaN\n",
       "2025-02-27 09:05:00  50.0E+00  500.0E+00"
      ]
     },
     "metadata": {},
     "output_type": "display_data"
    },
    {
     "data": {
      "text/html": [
       "<div>\n",
       "<style scoped>\n",
       "    .dataframe tbody tr th:only-of-type {\n",
       "        vertical-align: middle;\n",
       "    }\n",
       "\n",
       "    .dataframe tbody tr th {\n",
       "        vertical-align: top;\n",
       "    }\n",
       "\n",
       "    .dataframe thead th {\n",
       "        text-align: right;\n",
       "    }\n",
       "</style>\n",
       "<table border=\"1\" class=\"dataframe\">\n",
       "  <thead>\n",
       "    <tr style=\"text-align: right;\">\n",
       "      <th></th>\n",
       "      <th>a</th>\n",
       "      <th>b</th>\n",
       "    </tr>\n",
       "  </thead>\n",
       "  <tbody>\n",
       "    <tr>\n",
       "      <th>2025-02-27 09:03:30</th>\n",
       "      <td>NaN</td>\n",
       "      <td>NaN</td>\n",
       "    </tr>\n",
       "    <tr>\n",
       "      <th>2025-02-27 09:04:30</th>\n",
       "      <td>NaN</td>\n",
       "      <td>NaN</td>\n",
       "    </tr>\n",
       "  </tbody>\n",
       "</table>\n",
       "</div>"
      ],
      "text/plain": [
       "                      a   b\n",
       "2025-02-27 09:03:30 NaN NaN\n",
       "2025-02-27 09:04:30 NaN NaN"
      ]
     },
     "metadata": {},
     "output_type": "display_data"
    }
   ],
   "source": [
    "s = pd.Series([1, 2, np.nan, 4], index=[10, 20, 30, 40])\n",
    "print(s.asof(40))\n",
    "print(s.asof(10))\n",
    "df = pd.DataFrame({'a': [10., 20., 30., 40., 50.],\n",
    "                   'b': [None, None, None, None, 500]},\n",
    "                  index=pd.DatetimeIndex(['2025-02-27 09:01:00',\n",
    "                                          '2025-02-27 09:02:00',\n",
    "                                          '2025-02-27 09:03:00',\n",
    "                                          '2025-02-27 09:04:00',\n",
    "                                          '2025-02-27 09:05:00']))\n",
    "display(df)\n",
    "display(df.asof(pd.DatetimeIndex(['2025-02-27 09:03:30', '2025-02-27 09:04:30'])))"
   ]
  },
  {
   "cell_type": "markdown",
   "id": "87eecb46",
   "metadata": {},
   "source": [
    "# assign (Only exist in DataFrame)\n",
    "- Assign new columns to a DataFrame.\n",
    "- Returns a new object with all original columns in addition to new ones. Existing columns that are re-assigned will be overwritten."
   ]
  },
  {
   "cell_type": "code",
   "execution_count": 72,
   "id": "d21c500b",
   "metadata": {},
   "outputs": [
    {
     "data": {
      "text/html": [
       "<div>\n",
       "<style scoped>\n",
       "    .dataframe tbody tr th:only-of-type {\n",
       "        vertical-align: middle;\n",
       "    }\n",
       "\n",
       "    .dataframe tbody tr th {\n",
       "        vertical-align: top;\n",
       "    }\n",
       "\n",
       "    .dataframe thead th {\n",
       "        text-align: right;\n",
       "    }\n",
       "</style>\n",
       "<table border=\"1\" class=\"dataframe\">\n",
       "  <thead>\n",
       "    <tr style=\"text-align: right;\">\n",
       "      <th></th>\n",
       "      <th>temp_c</th>\n",
       "    </tr>\n",
       "  </thead>\n",
       "  <tbody>\n",
       "    <tr>\n",
       "      <th>Portland</th>\n",
       "      <td>17.0E+00</td>\n",
       "    </tr>\n",
       "    <tr>\n",
       "      <th>Berkeley</th>\n",
       "      <td>25.0E+00</td>\n",
       "    </tr>\n",
       "  </tbody>\n",
       "</table>\n",
       "</div>"
      ],
      "text/plain": [
       "            temp_c\n",
       "Portland  17.0E+00\n",
       "Berkeley  25.0E+00"
      ]
     },
     "metadata": {},
     "output_type": "display_data"
    },
    {
     "data": {
      "text/html": [
       "<div>\n",
       "<style scoped>\n",
       "    .dataframe tbody tr th:only-of-type {\n",
       "        vertical-align: middle;\n",
       "    }\n",
       "\n",
       "    .dataframe tbody tr th {\n",
       "        vertical-align: top;\n",
       "    }\n",
       "\n",
       "    .dataframe thead th {\n",
       "        text-align: right;\n",
       "    }\n",
       "</style>\n",
       "<table border=\"1\" class=\"dataframe\">\n",
       "  <thead>\n",
       "    <tr style=\"text-align: right;\">\n",
       "      <th></th>\n",
       "      <th>temp_c</th>\n",
       "      <th>temp_f</th>\n",
       "    </tr>\n",
       "  </thead>\n",
       "  <tbody>\n",
       "    <tr>\n",
       "      <th>Portland</th>\n",
       "      <td>17.0E+00</td>\n",
       "      <td>62.6E+00</td>\n",
       "    </tr>\n",
       "    <tr>\n",
       "      <th>Berkeley</th>\n",
       "      <td>25.0E+00</td>\n",
       "      <td>77.0E+00</td>\n",
       "    </tr>\n",
       "  </tbody>\n",
       "</table>\n",
       "</div>"
      ],
      "text/plain": [
       "            temp_c    temp_f\n",
       "Portland  17.0E+00  62.6E+00\n",
       "Berkeley  25.0E+00  77.0E+00"
      ]
     },
     "metadata": {},
     "output_type": "display_data"
    }
   ],
   "source": [
    "df = pd.DataFrame({'temp_c': [17.0, 25.0]},\n",
    "                  index=['Portland', 'Berkeley'])\n",
    "display(df)\n",
    "display(df.assign(temp_f=lambda x: x.temp_c * 9 / 5 + 32))"
   ]
  },
  {
   "cell_type": "markdown",
   "id": "bfe1c258",
   "metadata": {},
   "source": [
    "# astype\n",
    "- Cast a pandas object to a specified dtype dtype."
   ]
  },
  {
   "cell_type": "code",
   "execution_count": 76,
   "id": "34ba5f91",
   "metadata": {},
   "outputs": [
    {
     "data": {
      "text/plain": [
       "col1    int64\n",
       "col2    int64\n",
       "dtype: object"
      ]
     },
     "metadata": {},
     "output_type": "display_data"
    },
    {
     "data": {
      "text/plain": [
       "col1    int32\n",
       "col2    int32\n",
       "dtype: object"
      ]
     },
     "metadata": {},
     "output_type": "display_data"
    }
   ],
   "source": [
    "d = {'col1': [1, 2], 'col2': [3, 4]}\n",
    "df = pd.DataFrame(data=d)\n",
    "display(df.dtypes)\n",
    "display(df.astype('int32').dtypes)"
   ]
  },
  {
   "cell_type": "markdown",
   "id": "7d20325c",
   "metadata": {},
   "source": [
    "# at\n",
    "- Access a single value for a row/column label pair.\n",
    "- Similar to loc, in that both provide label-based lookups. Use at if you only need to get or set a single value in a DataFrame or Series."
   ]
  },
  {
   "cell_type": "code",
   "execution_count": 78,
   "id": "dbb17f21",
   "metadata": {},
   "outputs": [
    {
     "data": {
      "text/html": [
       "<div>\n",
       "<style scoped>\n",
       "    .dataframe tbody tr th:only-of-type {\n",
       "        vertical-align: middle;\n",
       "    }\n",
       "\n",
       "    .dataframe tbody tr th {\n",
       "        vertical-align: top;\n",
       "    }\n",
       "\n",
       "    .dataframe thead th {\n",
       "        text-align: right;\n",
       "    }\n",
       "</style>\n",
       "<table border=\"1\" class=\"dataframe\">\n",
       "  <thead>\n",
       "    <tr style=\"text-align: right;\">\n",
       "      <th></th>\n",
       "      <th>A</th>\n",
       "      <th>B</th>\n",
       "      <th>C</th>\n",
       "    </tr>\n",
       "  </thead>\n",
       "  <tbody>\n",
       "    <tr>\n",
       "      <th>4</th>\n",
       "      <td>0</td>\n",
       "      <td>2</td>\n",
       "      <td>3</td>\n",
       "    </tr>\n",
       "    <tr>\n",
       "      <th>5</th>\n",
       "      <td>0</td>\n",
       "      <td>4</td>\n",
       "      <td>1</td>\n",
       "    </tr>\n",
       "    <tr>\n",
       "      <th>6</th>\n",
       "      <td>10</td>\n",
       "      <td>20</td>\n",
       "      <td>30</td>\n",
       "    </tr>\n",
       "  </tbody>\n",
       "</table>\n",
       "</div>"
      ],
      "text/plain": [
       "    A   B   C\n",
       "4   0   2   3\n",
       "5   0   4   1\n",
       "6  10  20  30"
      ]
     },
     "metadata": {},
     "output_type": "display_data"
    },
    {
     "name": "stdout",
     "output_type": "stream",
     "text": [
      "2\n"
     ]
    }
   ],
   "source": [
    "df = pd.DataFrame([[0, 2, 3], [0, 4, 1], [10, 20, 30]],\n",
    "                  index=[4, 5, 6], columns=['A', 'B', 'C'])\n",
    "display(df)\n",
    "print(df.at[4, 'B']) # row first, then column name"
   ]
  },
  {
   "cell_type": "markdown",
   "id": "18d57b58",
   "metadata": {},
   "source": [
    "# at_time\n",
    "- Select values at particular time of day (e.g., 9:30AM)."
   ]
  },
  {
   "cell_type": "code",
   "execution_count": 80,
   "id": "f0c72541",
   "metadata": {},
   "outputs": [
    {
     "data": {
      "text/html": [
       "<div>\n",
       "<style scoped>\n",
       "    .dataframe tbody tr th:only-of-type {\n",
       "        vertical-align: middle;\n",
       "    }\n",
       "\n",
       "    .dataframe tbody tr th {\n",
       "        vertical-align: top;\n",
       "    }\n",
       "\n",
       "    .dataframe thead th {\n",
       "        text-align: right;\n",
       "    }\n",
       "</style>\n",
       "<table border=\"1\" class=\"dataframe\">\n",
       "  <thead>\n",
       "    <tr style=\"text-align: right;\">\n",
       "      <th></th>\n",
       "      <th>A</th>\n",
       "    </tr>\n",
       "  </thead>\n",
       "  <tbody>\n",
       "    <tr>\n",
       "      <th>2018-04-09 00:00:00</th>\n",
       "      <td>1</td>\n",
       "    </tr>\n",
       "    <tr>\n",
       "      <th>2018-04-09 12:00:00</th>\n",
       "      <td>2</td>\n",
       "    </tr>\n",
       "    <tr>\n",
       "      <th>2018-04-10 00:00:00</th>\n",
       "      <td>3</td>\n",
       "    </tr>\n",
       "    <tr>\n",
       "      <th>2018-04-10 12:00:00</th>\n",
       "      <td>4</td>\n",
       "    </tr>\n",
       "  </tbody>\n",
       "</table>\n",
       "</div>"
      ],
      "text/plain": [
       "                     A\n",
       "2018-04-09 00:00:00  1\n",
       "2018-04-09 12:00:00  2\n",
       "2018-04-10 00:00:00  3\n",
       "2018-04-10 12:00:00  4"
      ]
     },
     "metadata": {},
     "output_type": "display_data"
    },
    {
     "data": {
      "text/html": [
       "<div>\n",
       "<style scoped>\n",
       "    .dataframe tbody tr th:only-of-type {\n",
       "        vertical-align: middle;\n",
       "    }\n",
       "\n",
       "    .dataframe tbody tr th {\n",
       "        vertical-align: top;\n",
       "    }\n",
       "\n",
       "    .dataframe thead th {\n",
       "        text-align: right;\n",
       "    }\n",
       "</style>\n",
       "<table border=\"1\" class=\"dataframe\">\n",
       "  <thead>\n",
       "    <tr style=\"text-align: right;\">\n",
       "      <th></th>\n",
       "      <th>A</th>\n",
       "    </tr>\n",
       "  </thead>\n",
       "  <tbody>\n",
       "    <tr>\n",
       "      <th>2018-04-09 12:00:00</th>\n",
       "      <td>2</td>\n",
       "    </tr>\n",
       "    <tr>\n",
       "      <th>2018-04-10 12:00:00</th>\n",
       "      <td>4</td>\n",
       "    </tr>\n",
       "  </tbody>\n",
       "</table>\n",
       "</div>"
      ],
      "text/plain": [
       "                     A\n",
       "2018-04-09 12:00:00  2\n",
       "2018-04-10 12:00:00  4"
      ]
     },
     "metadata": {},
     "output_type": "display_data"
    }
   ],
   "source": [
    "i = pd.date_range('2018-04-09', periods=4, freq='12h')\n",
    "ts = pd.DataFrame({'A': [1, 2, 3, 4]}, index=i)\n",
    "display(ts)\n",
    "display(ts.at_time('12:00'))"
   ]
  },
  {
   "cell_type": "markdown",
   "id": "895caff4",
   "metadata": {},
   "source": [
    "# attrs\n",
    "- Dictionary of global attributes of this dataset.\n",
    "# Doesn't really affect the Series or DataFrame's data"
   ]
  },
  {
   "cell_type": "code",
   "execution_count": 84,
   "id": "c0f11c5f",
   "metadata": {},
   "outputs": [
    {
     "name": "stdout",
     "output_type": "stream",
     "text": [
      "{'A': [10, 20, 30]}\n"
     ]
    },
    {
     "data": {
      "text/plain": [
       "0    1\n",
       "1    2\n",
       "2    3\n",
       "dtype: int64"
      ]
     },
     "metadata": {},
     "output_type": "display_data"
    },
    {
     "name": "stdout",
     "output_type": "stream",
     "text": [
      "{'A': [10, 20, 30]}\n"
     ]
    },
    {
     "data": {
      "text/html": [
       "<div>\n",
       "<style scoped>\n",
       "    .dataframe tbody tr th:only-of-type {\n",
       "        vertical-align: middle;\n",
       "    }\n",
       "\n",
       "    .dataframe tbody tr th {\n",
       "        vertical-align: top;\n",
       "    }\n",
       "\n",
       "    .dataframe thead th {\n",
       "        text-align: right;\n",
       "    }\n",
       "</style>\n",
       "<table border=\"1\" class=\"dataframe\">\n",
       "  <thead>\n",
       "    <tr style=\"text-align: right;\">\n",
       "      <th></th>\n",
       "      <th>A</th>\n",
       "      <th>B</th>\n",
       "    </tr>\n",
       "  </thead>\n",
       "  <tbody>\n",
       "    <tr>\n",
       "      <th>0</th>\n",
       "      <td>1</td>\n",
       "      <td>3</td>\n",
       "    </tr>\n",
       "    <tr>\n",
       "      <th>1</th>\n",
       "      <td>2</td>\n",
       "      <td>4</td>\n",
       "    </tr>\n",
       "  </tbody>\n",
       "</table>\n",
       "</div>"
      ],
      "text/plain": [
       "   A  B\n",
       "0  1  3\n",
       "1  2  4"
      ]
     },
     "metadata": {},
     "output_type": "display_data"
    }
   ],
   "source": [
    "ser = pd.Series([1, 2, 3])\n",
    "ser.attrs = {\"A\": [10, 20, 30]}\n",
    "print(ser.attrs)\n",
    "display(ser)\n",
    "df = pd.DataFrame({'A': [1, 2], 'B': [3, 4]})\n",
    "df.attrs = {\"A\": [10, 20, 30]}\n",
    "print(df.attrs)\n",
    "display(df)"
   ]
  },
  {
   "cell_type": "markdown",
   "id": "9764811d",
   "metadata": {},
   "source": [
    "# axes\n",
    "- Return a list representing the axes of the DataFrame.\n",
    "- It has the row axis labels and column axis labels as the only members. They are returned in that order."
   ]
  },
  {
   "cell_type": "code",
   "execution_count": 85,
   "id": "4f2e6fbe",
   "metadata": {},
   "outputs": [
    {
     "data": {
      "text/plain": [
       "[RangeIndex(start=0, stop=2, step=1), Index(['col1', 'col2'], dtype='object')]"
      ]
     },
     "execution_count": 85,
     "metadata": {},
     "output_type": "execute_result"
    }
   ],
   "source": [
    "df = pd.DataFrame({'col1': [1, 2], 'col2': [3, 4]})\n",
    "df.axes"
   ]
  },
  {
   "cell_type": "markdown",
   "id": "03ccbde1",
   "metadata": {},
   "source": [
    "# betwen_time\n",
    "- Select values between particular times of the day (e.g., 9:00-9:30 AM).\n",
    "- By setting start_time to be later than end_time, you can get the times that are not between the two times."
   ]
  },
  {
   "cell_type": "code",
   "execution_count": 88,
   "id": "653a95f8",
   "metadata": {},
   "outputs": [
    {
     "data": {
      "text/html": [
       "<div>\n",
       "<style scoped>\n",
       "    .dataframe tbody tr th:only-of-type {\n",
       "        vertical-align: middle;\n",
       "    }\n",
       "\n",
       "    .dataframe tbody tr th {\n",
       "        vertical-align: top;\n",
       "    }\n",
       "\n",
       "    .dataframe thead th {\n",
       "        text-align: right;\n",
       "    }\n",
       "</style>\n",
       "<table border=\"1\" class=\"dataframe\">\n",
       "  <thead>\n",
       "    <tr style=\"text-align: right;\">\n",
       "      <th></th>\n",
       "      <th>A</th>\n",
       "    </tr>\n",
       "  </thead>\n",
       "  <tbody>\n",
       "    <tr>\n",
       "      <th>2018-04-09 00:00:00</th>\n",
       "      <td>1</td>\n",
       "    </tr>\n",
       "    <tr>\n",
       "      <th>2018-04-10 00:20:00</th>\n",
       "      <td>2</td>\n",
       "    </tr>\n",
       "    <tr>\n",
       "      <th>2018-04-11 00:40:00</th>\n",
       "      <td>3</td>\n",
       "    </tr>\n",
       "    <tr>\n",
       "      <th>2018-04-12 01:00:00</th>\n",
       "      <td>4</td>\n",
       "    </tr>\n",
       "  </tbody>\n",
       "</table>\n",
       "</div>"
      ],
      "text/plain": [
       "                     A\n",
       "2018-04-09 00:00:00  1\n",
       "2018-04-10 00:20:00  2\n",
       "2018-04-11 00:40:00  3\n",
       "2018-04-12 01:00:00  4"
      ]
     },
     "metadata": {},
     "output_type": "display_data"
    },
    {
     "data": {
      "text/html": [
       "<div>\n",
       "<style scoped>\n",
       "    .dataframe tbody tr th:only-of-type {\n",
       "        vertical-align: middle;\n",
       "    }\n",
       "\n",
       "    .dataframe tbody tr th {\n",
       "        vertical-align: top;\n",
       "    }\n",
       "\n",
       "    .dataframe thead th {\n",
       "        text-align: right;\n",
       "    }\n",
       "</style>\n",
       "<table border=\"1\" class=\"dataframe\">\n",
       "  <thead>\n",
       "    <tr style=\"text-align: right;\">\n",
       "      <th></th>\n",
       "      <th>A</th>\n",
       "    </tr>\n",
       "  </thead>\n",
       "  <tbody>\n",
       "    <tr>\n",
       "      <th>2018-04-10 00:20:00</th>\n",
       "      <td>2</td>\n",
       "    </tr>\n",
       "    <tr>\n",
       "      <th>2018-04-11 00:40:00</th>\n",
       "      <td>3</td>\n",
       "    </tr>\n",
       "  </tbody>\n",
       "</table>\n",
       "</div>"
      ],
      "text/plain": [
       "                     A\n",
       "2018-04-10 00:20:00  2\n",
       "2018-04-11 00:40:00  3"
      ]
     },
     "metadata": {},
     "output_type": "display_data"
    },
    {
     "data": {
      "text/html": [
       "<div>\n",
       "<style scoped>\n",
       "    .dataframe tbody tr th:only-of-type {\n",
       "        vertical-align: middle;\n",
       "    }\n",
       "\n",
       "    .dataframe tbody tr th {\n",
       "        vertical-align: top;\n",
       "    }\n",
       "\n",
       "    .dataframe thead th {\n",
       "        text-align: right;\n",
       "    }\n",
       "</style>\n",
       "<table border=\"1\" class=\"dataframe\">\n",
       "  <thead>\n",
       "    <tr style=\"text-align: right;\">\n",
       "      <th></th>\n",
       "      <th>A</th>\n",
       "    </tr>\n",
       "  </thead>\n",
       "  <tbody>\n",
       "    <tr>\n",
       "      <th>2018-04-09 00:00:00</th>\n",
       "      <td>1</td>\n",
       "    </tr>\n",
       "    <tr>\n",
       "      <th>2018-04-12 01:00:00</th>\n",
       "      <td>4</td>\n",
       "    </tr>\n",
       "  </tbody>\n",
       "</table>\n",
       "</div>"
      ],
      "text/plain": [
       "                     A\n",
       "2018-04-09 00:00:00  1\n",
       "2018-04-12 01:00:00  4"
      ]
     },
     "metadata": {},
     "output_type": "display_data"
    }
   ],
   "source": [
    "i = pd.date_range('2018-04-09', periods=4, freq='1D20min')\n",
    "ts = pd.DataFrame({'A': [1, 2, 3, 4]}, index=i)\n",
    "display(ts)\n",
    "display(ts.between_time('0:15', '0:45'))\n",
    "display(ts.between_time('0:45', '0:15'))"
   ]
  },
  {
   "cell_type": "markdown",
   "id": "d9e620eb",
   "metadata": {},
   "source": [
    "# bfill\n",
    "- Fill NA/NaN values by using the next valid observation to fill the gap."
   ]
  },
  {
   "cell_type": "code",
   "execution_count": 87,
   "id": "47129592",
   "metadata": {},
   "outputs": [
    {
     "data": {
      "text/plain": [
       "0    1.0E+00\n",
       "1        NaN\n",
       "2        NaN\n",
       "3    2.0E+00\n",
       "dtype: float64"
      ]
     },
     "metadata": {},
     "output_type": "display_data"
    },
    {
     "data": {
      "text/plain": [
       "0    1.0E+00\n",
       "1    2.0E+00\n",
       "2    2.0E+00\n",
       "3    2.0E+00\n",
       "dtype: float64"
      ]
     },
     "metadata": {},
     "output_type": "display_data"
    },
    {
     "data": {
      "text/html": [
       "<div>\n",
       "<style scoped>\n",
       "    .dataframe tbody tr th:only-of-type {\n",
       "        vertical-align: middle;\n",
       "    }\n",
       "\n",
       "    .dataframe tbody tr th {\n",
       "        vertical-align: top;\n",
       "    }\n",
       "\n",
       "    .dataframe thead th {\n",
       "        text-align: right;\n",
       "    }\n",
       "</style>\n",
       "<table border=\"1\" class=\"dataframe\">\n",
       "  <thead>\n",
       "    <tr style=\"text-align: right;\">\n",
       "      <th></th>\n",
       "      <th>A</th>\n",
       "      <th>B</th>\n",
       "    </tr>\n",
       "  </thead>\n",
       "  <tbody>\n",
       "    <tr>\n",
       "      <th>0</th>\n",
       "      <td>1.0E+00</td>\n",
       "      <td>NaN</td>\n",
       "    </tr>\n",
       "    <tr>\n",
       "      <th>1</th>\n",
       "      <td>NaN</td>\n",
       "      <td>5.0E+00</td>\n",
       "    </tr>\n",
       "    <tr>\n",
       "      <th>2</th>\n",
       "      <td>NaN</td>\n",
       "      <td>NaN</td>\n",
       "    </tr>\n",
       "    <tr>\n",
       "      <th>3</th>\n",
       "      <td>4.0E+00</td>\n",
       "      <td>7.0E+00</td>\n",
       "    </tr>\n",
       "  </tbody>\n",
       "</table>\n",
       "</div>"
      ],
      "text/plain": [
       "         A        B\n",
       "0  1.0E+00      NaN\n",
       "1      NaN  5.0E+00\n",
       "2      NaN      NaN\n",
       "3  4.0E+00  7.0E+00"
      ]
     },
     "metadata": {},
     "output_type": "display_data"
    },
    {
     "data": {
      "text/html": [
       "<div>\n",
       "<style scoped>\n",
       "    .dataframe tbody tr th:only-of-type {\n",
       "        vertical-align: middle;\n",
       "    }\n",
       "\n",
       "    .dataframe tbody tr th {\n",
       "        vertical-align: top;\n",
       "    }\n",
       "\n",
       "    .dataframe thead th {\n",
       "        text-align: right;\n",
       "    }\n",
       "</style>\n",
       "<table border=\"1\" class=\"dataframe\">\n",
       "  <thead>\n",
       "    <tr style=\"text-align: right;\">\n",
       "      <th></th>\n",
       "      <th>A</th>\n",
       "      <th>B</th>\n",
       "    </tr>\n",
       "  </thead>\n",
       "  <tbody>\n",
       "    <tr>\n",
       "      <th>0</th>\n",
       "      <td>1.0E+00</td>\n",
       "      <td>5.0E+00</td>\n",
       "    </tr>\n",
       "    <tr>\n",
       "      <th>1</th>\n",
       "      <td>4.0E+00</td>\n",
       "      <td>5.0E+00</td>\n",
       "    </tr>\n",
       "    <tr>\n",
       "      <th>2</th>\n",
       "      <td>4.0E+00</td>\n",
       "      <td>7.0E+00</td>\n",
       "    </tr>\n",
       "    <tr>\n",
       "      <th>3</th>\n",
       "      <td>4.0E+00</td>\n",
       "      <td>7.0E+00</td>\n",
       "    </tr>\n",
       "  </tbody>\n",
       "</table>\n",
       "</div>"
      ],
      "text/plain": [
       "         A        B\n",
       "0  1.0E+00  5.0E+00\n",
       "1  4.0E+00  5.0E+00\n",
       "2  4.0E+00  7.0E+00\n",
       "3  4.0E+00  7.0E+00"
      ]
     },
     "metadata": {},
     "output_type": "display_data"
    }
   ],
   "source": [
    "s = pd.Series([1, None, None, 2])\n",
    "display(s)\n",
    "display(s.bfill())\n",
    "df = pd.DataFrame({'A': [1, None, None, 4], 'B': [None, 5, None, 7]})\n",
    "display(df)\n",
    "display(df.bfill())"
   ]
  },
  {
   "cell_type": "markdown",
   "id": "2fbd9ba9",
   "metadata": {},
   "source": [
    "# boxplot\n",
    "- Make a box plot from DataFrame columns.\n",
    "- Make a box-and-whisker plot from DataFrame columns, optionally grouped by some other columns. A box plot is a method for graphically depicting groups of numerical data through their quartiles. The box extends from the Q1 to Q3 quartile values of the data, with a line at the median (Q2). The whiskers extend from the edges of box to show the range of the data. By default, they extend no more than 1.5 * IQR (IQR = Q3 - Q1) from the edges of the box, ending at the farthest data point within that interval. Outliers are plotted as separate dots.\n",
    "\n"
   ]
  },
  {
   "cell_type": "code",
   "execution_count": 196,
   "id": "34e47db8",
   "metadata": {},
   "outputs": [
    {
     "data": {
      "image/png": "[encoded data removed]",
      "text/plain": [
       "<Figure size 640x480 with 2 Axes>"
      ]
     },
     "metadata": {},
     "output_type": "display_data"
    }
   ],
   "source": [
    "np.random.seed(1234)\n",
    "df = pd.DataFrame(np.random.randn(10, 4),\n",
    "                  columns=['Col1', 'Col2', 'Col3', 'Col4'])\n",
    "boxplot = df.boxplot(column=['Col1', 'Col2', 'Col3'])  \n",
    "plt.show()"
   ]
  },
  {
   "cell_type": "markdown",
   "id": "357db634",
   "metadata": {},
   "source": [
    "# clip\n",
    "- Trim values at input threshold(s).\n",
    "- Assigns values outside boundary to boundary values. Thresholds can be singular values or array like, and in the latter case the clipping is performed element-wise in the specified axis."
   ]
  },
  {
   "cell_type": "code",
   "execution_count": 92,
   "id": "70b20649",
   "metadata": {},
   "outputs": [
    {
     "data": {
      "text/html": [
       "<div>\n",
       "<style scoped>\n",
       "    .dataframe tbody tr th:only-of-type {\n",
       "        vertical-align: middle;\n",
       "    }\n",
       "\n",
       "    .dataframe tbody tr th {\n",
       "        vertical-align: top;\n",
       "    }\n",
       "\n",
       "    .dataframe thead th {\n",
       "        text-align: right;\n",
       "    }\n",
       "</style>\n",
       "<table border=\"1\" class=\"dataframe\">\n",
       "  <thead>\n",
       "    <tr style=\"text-align: right;\">\n",
       "      <th></th>\n",
       "      <th>col_0</th>\n",
       "      <th>col_1</th>\n",
       "    </tr>\n",
       "  </thead>\n",
       "  <tbody>\n",
       "    <tr>\n",
       "      <th>0</th>\n",
       "      <td>9</td>\n",
       "      <td>-2</td>\n",
       "    </tr>\n",
       "    <tr>\n",
       "      <th>1</th>\n",
       "      <td>-3</td>\n",
       "      <td>-7</td>\n",
       "    </tr>\n",
       "    <tr>\n",
       "      <th>2</th>\n",
       "      <td>0</td>\n",
       "      <td>6</td>\n",
       "    </tr>\n",
       "    <tr>\n",
       "      <th>3</th>\n",
       "      <td>-1</td>\n",
       "      <td>8</td>\n",
       "    </tr>\n",
       "    <tr>\n",
       "      <th>4</th>\n",
       "      <td>5</td>\n",
       "      <td>-5</td>\n",
       "    </tr>\n",
       "  </tbody>\n",
       "</table>\n",
       "</div>"
      ],
      "text/plain": [
       "   col_0  col_1\n",
       "0      9     -2\n",
       "1     -3     -7\n",
       "2      0      6\n",
       "3     -1      8\n",
       "4      5     -5"
      ]
     },
     "metadata": {},
     "output_type": "display_data"
    },
    {
     "data": {
      "text/html": [
       "<div>\n",
       "<style scoped>\n",
       "    .dataframe tbody tr th:only-of-type {\n",
       "        vertical-align: middle;\n",
       "    }\n",
       "\n",
       "    .dataframe tbody tr th {\n",
       "        vertical-align: top;\n",
       "    }\n",
       "\n",
       "    .dataframe thead th {\n",
       "        text-align: right;\n",
       "    }\n",
       "</style>\n",
       "<table border=\"1\" class=\"dataframe\">\n",
       "  <thead>\n",
       "    <tr style=\"text-align: right;\">\n",
       "      <th></th>\n",
       "      <th>col_0</th>\n",
       "      <th>col_1</th>\n",
       "    </tr>\n",
       "  </thead>\n",
       "  <tbody>\n",
       "    <tr>\n",
       "      <th>0</th>\n",
       "      <td>6</td>\n",
       "      <td>-2</td>\n",
       "    </tr>\n",
       "    <tr>\n",
       "      <th>1</th>\n",
       "      <td>-3</td>\n",
       "      <td>-4</td>\n",
       "    </tr>\n",
       "    <tr>\n",
       "      <th>2</th>\n",
       "      <td>0</td>\n",
       "      <td>6</td>\n",
       "    </tr>\n",
       "    <tr>\n",
       "      <th>3</th>\n",
       "      <td>-1</td>\n",
       "      <td>6</td>\n",
       "    </tr>\n",
       "    <tr>\n",
       "      <th>4</th>\n",
       "      <td>5</td>\n",
       "      <td>-4</td>\n",
       "    </tr>\n",
       "  </tbody>\n",
       "</table>\n",
       "</div>"
      ],
      "text/plain": [
       "   col_0  col_1\n",
       "0      6     -2\n",
       "1     -3     -4\n",
       "2      0      6\n",
       "3     -1      6\n",
       "4      5     -4"
      ]
     },
     "metadata": {},
     "output_type": "display_data"
    },
    {
     "data": {
      "text/html": [
       "<div>\n",
       "<style scoped>\n",
       "    .dataframe tbody tr th:only-of-type {\n",
       "        vertical-align: middle;\n",
       "    }\n",
       "\n",
       "    .dataframe tbody tr th {\n",
       "        vertical-align: top;\n",
       "    }\n",
       "\n",
       "    .dataframe thead th {\n",
       "        text-align: right;\n",
       "    }\n",
       "</style>\n",
       "<table border=\"1\" class=\"dataframe\">\n",
       "  <thead>\n",
       "    <tr style=\"text-align: right;\">\n",
       "      <th></th>\n",
       "      <th>col_0</th>\n",
       "      <th>col_1</th>\n",
       "    </tr>\n",
       "  </thead>\n",
       "  <tbody>\n",
       "    <tr>\n",
       "      <th>0</th>\n",
       "      <td>4</td>\n",
       "      <td>-1</td>\n",
       "    </tr>\n",
       "    <tr>\n",
       "      <th>1</th>\n",
       "      <td>-2</td>\n",
       "      <td>-1</td>\n",
       "    </tr>\n",
       "    <tr>\n",
       "      <th>2</th>\n",
       "      <td>0</td>\n",
       "      <td>5</td>\n",
       "    </tr>\n",
       "    <tr>\n",
       "      <th>3</th>\n",
       "      <td>-1</td>\n",
       "      <td>5</td>\n",
       "    </tr>\n",
       "    <tr>\n",
       "      <th>4</th>\n",
       "      <td>4</td>\n",
       "      <td>-1</td>\n",
       "    </tr>\n",
       "  </tbody>\n",
       "</table>\n",
       "</div>"
      ],
      "text/plain": [
       "   col_0  col_1\n",
       "0      4     -1\n",
       "1     -2     -1\n",
       "2      0      5\n",
       "3     -1      5\n",
       "4      4     -1"
      ]
     },
     "metadata": {},
     "output_type": "display_data"
    }
   ],
   "source": [
    "data = {'col_0': [9, -3, 0, -1, 5], 'col_1': [-2, -7, 6, 8, -5]}\n",
    "df = pd.DataFrame(data)\n",
    "display(df)\n",
    "display(df.clip(-4, 6))\n",
    "display(df.clip([-2, -1], [4, 5]))"
   ]
  },
  {
   "cell_type": "markdown",
   "id": "1c805604",
   "metadata": {},
   "source": [
    "# columns (Only for DataFrame)\n",
    "- The column labels of the DataFrame."
   ]
  },
  {
   "cell_type": "code",
   "execution_count": 93,
   "id": "7c0ad758",
   "metadata": {},
   "outputs": [
    {
     "data": {
      "text/html": [
       "<div>\n",
       "<style scoped>\n",
       "    .dataframe tbody tr th:only-of-type {\n",
       "        vertical-align: middle;\n",
       "    }\n",
       "\n",
       "    .dataframe tbody tr th {\n",
       "        vertical-align: top;\n",
       "    }\n",
       "\n",
       "    .dataframe thead th {\n",
       "        text-align: right;\n",
       "    }\n",
       "</style>\n",
       "<table border=\"1\" class=\"dataframe\">\n",
       "  <thead>\n",
       "    <tr style=\"text-align: right;\">\n",
       "      <th></th>\n",
       "      <th>A</th>\n",
       "      <th>B</th>\n",
       "    </tr>\n",
       "  </thead>\n",
       "  <tbody>\n",
       "    <tr>\n",
       "      <th>0</th>\n",
       "      <td>1</td>\n",
       "      <td>3</td>\n",
       "    </tr>\n",
       "    <tr>\n",
       "      <th>1</th>\n",
       "      <td>2</td>\n",
       "      <td>4</td>\n",
       "    </tr>\n",
       "  </tbody>\n",
       "</table>\n",
       "</div>"
      ],
      "text/plain": [
       "   A  B\n",
       "0  1  3\n",
       "1  2  4"
      ]
     },
     "metadata": {},
     "output_type": "display_data"
    },
    {
     "name": "stdout",
     "output_type": "stream",
     "text": [
      "Index(['A', 'B'], dtype='object')\n"
     ]
    }
   ],
   "source": [
    "df = pd.DataFrame({'A': [1, 2], 'B': [3, 4]})\n",
    "display(df)\n",
    "print(df.columns)"
   ]
  },
  {
   "cell_type": "markdown",
   "id": "e024bcb9",
   "metadata": {},
   "source": [
    "# combine\n",
    "- Perform column-wise combine with another DataFrame.\n",
    "- Combines a DataFrame with other DataFrame using func to element-wise combine columns. The row and column indexes of the resulting DataFrame will be the union of the two."
   ]
  },
  {
   "cell_type": "code",
   "execution_count": 94,
   "id": "b346b7ac",
   "metadata": {},
   "outputs": [
    {
     "data": {
      "text/html": [
       "<div>\n",
       "<style scoped>\n",
       "    .dataframe tbody tr th:only-of-type {\n",
       "        vertical-align: middle;\n",
       "    }\n",
       "\n",
       "    .dataframe tbody tr th {\n",
       "        vertical-align: top;\n",
       "    }\n",
       "\n",
       "    .dataframe thead th {\n",
       "        text-align: right;\n",
       "    }\n",
       "</style>\n",
       "<table border=\"1\" class=\"dataframe\">\n",
       "  <thead>\n",
       "    <tr style=\"text-align: right;\">\n",
       "      <th></th>\n",
       "      <th>A</th>\n",
       "      <th>B</th>\n",
       "    </tr>\n",
       "  </thead>\n",
       "  <tbody>\n",
       "    <tr>\n",
       "      <th>0</th>\n",
       "      <td>0</td>\n",
       "      <td>3</td>\n",
       "    </tr>\n",
       "    <tr>\n",
       "      <th>1</th>\n",
       "      <td>0</td>\n",
       "      <td>3</td>\n",
       "    </tr>\n",
       "  </tbody>\n",
       "</table>\n",
       "</div>"
      ],
      "text/plain": [
       "   A  B\n",
       "0  0  3\n",
       "1  0  3"
      ]
     },
     "metadata": {},
     "output_type": "display_data"
    }
   ],
   "source": [
    "df1 = pd.DataFrame({'A': [0, 0], 'B': [4, 4]})\n",
    "df2 = pd.DataFrame({'A': [1, 1], 'B': [3, 3]})\n",
    "take_smaller = lambda s1, s2: s1 if s1.sum() < s2.sum() else s2\n",
    "display(df1.combine(df2, take_smaller))"
   ]
  },
  {
   "cell_type": "markdown",
   "id": "b28a3cb8",
   "metadata": {},
   "source": [
    "# combine_first\n",
    "- Update null elements with value in the same location in other.\n",
    "- Combine two DataFrame objects by filling null values in one DataFrame with non-null values from other DataFrame. The row and column indexes of the resulting DataFrame will be the union of the two. The resulting dataframe contains the ‘first’ dataframe values and overrides the second one values where both first.loc[index, col] and second.loc[index, col] are not missing values, upon calling first.combine_first(second)."
   ]
  },
  {
   "cell_type": "code",
   "execution_count": 96,
   "id": "e34ded16",
   "metadata": {},
   "outputs": [
    {
     "data": {
      "text/html": [
       "<div>\n",
       "<style scoped>\n",
       "    .dataframe tbody tr th:only-of-type {\n",
       "        vertical-align: middle;\n",
       "    }\n",
       "\n",
       "    .dataframe tbody tr th {\n",
       "        vertical-align: top;\n",
       "    }\n",
       "\n",
       "    .dataframe thead th {\n",
       "        text-align: right;\n",
       "    }\n",
       "</style>\n",
       "<table border=\"1\" class=\"dataframe\">\n",
       "  <thead>\n",
       "    <tr style=\"text-align: right;\">\n",
       "      <th></th>\n",
       "      <th>A</th>\n",
       "      <th>B</th>\n",
       "    </tr>\n",
       "  </thead>\n",
       "  <tbody>\n",
       "    <tr>\n",
       "      <th>0</th>\n",
       "      <td>NaN</td>\n",
       "      <td>NaN</td>\n",
       "    </tr>\n",
       "    <tr>\n",
       "      <th>1</th>\n",
       "      <td>0.0E+00</td>\n",
       "      <td>4.0E+00</td>\n",
       "    </tr>\n",
       "  </tbody>\n",
       "</table>\n",
       "</div>"
      ],
      "text/plain": [
       "         A        B\n",
       "0      NaN      NaN\n",
       "1  0.0E+00  4.0E+00"
      ]
     },
     "metadata": {},
     "output_type": "display_data"
    },
    {
     "data": {
      "text/html": [
       "<div>\n",
       "<style scoped>\n",
       "    .dataframe tbody tr th:only-of-type {\n",
       "        vertical-align: middle;\n",
       "    }\n",
       "\n",
       "    .dataframe tbody tr th {\n",
       "        vertical-align: top;\n",
       "    }\n",
       "\n",
       "    .dataframe thead th {\n",
       "        text-align: right;\n",
       "    }\n",
       "</style>\n",
       "<table border=\"1\" class=\"dataframe\">\n",
       "  <thead>\n",
       "    <tr style=\"text-align: right;\">\n",
       "      <th></th>\n",
       "      <th>A</th>\n",
       "      <th>B</th>\n",
       "    </tr>\n",
       "  </thead>\n",
       "  <tbody>\n",
       "    <tr>\n",
       "      <th>0</th>\n",
       "      <td>1</td>\n",
       "      <td>3</td>\n",
       "    </tr>\n",
       "    <tr>\n",
       "      <th>1</th>\n",
       "      <td>1</td>\n",
       "      <td>3</td>\n",
       "    </tr>\n",
       "  </tbody>\n",
       "</table>\n",
       "</div>"
      ],
      "text/plain": [
       "   A  B\n",
       "0  1  3\n",
       "1  1  3"
      ]
     },
     "metadata": {},
     "output_type": "display_data"
    },
    {
     "data": {
      "text/html": [
       "<div>\n",
       "<style scoped>\n",
       "    .dataframe tbody tr th:only-of-type {\n",
       "        vertical-align: middle;\n",
       "    }\n",
       "\n",
       "    .dataframe tbody tr th {\n",
       "        vertical-align: top;\n",
       "    }\n",
       "\n",
       "    .dataframe thead th {\n",
       "        text-align: right;\n",
       "    }\n",
       "</style>\n",
       "<table border=\"1\" class=\"dataframe\">\n",
       "  <thead>\n",
       "    <tr style=\"text-align: right;\">\n",
       "      <th></th>\n",
       "      <th>A</th>\n",
       "      <th>B</th>\n",
       "    </tr>\n",
       "  </thead>\n",
       "  <tbody>\n",
       "    <tr>\n",
       "      <th>0</th>\n",
       "      <td>1.0E+00</td>\n",
       "      <td>3.0E+00</td>\n",
       "    </tr>\n",
       "    <tr>\n",
       "      <th>1</th>\n",
       "      <td>0.0E+00</td>\n",
       "      <td>4.0E+00</td>\n",
       "    </tr>\n",
       "  </tbody>\n",
       "</table>\n",
       "</div>"
      ],
      "text/plain": [
       "         A        B\n",
       "0  1.0E+00  3.0E+00\n",
       "1  0.0E+00  4.0E+00"
      ]
     },
     "metadata": {},
     "output_type": "display_data"
    },
    {
     "data": {
      "text/html": [
       "<div>\n",
       "<style scoped>\n",
       "    .dataframe tbody tr th:only-of-type {\n",
       "        vertical-align: middle;\n",
       "    }\n",
       "\n",
       "    .dataframe tbody tr th {\n",
       "        vertical-align: top;\n",
       "    }\n",
       "\n",
       "    .dataframe thead th {\n",
       "        text-align: right;\n",
       "    }\n",
       "</style>\n",
       "<table border=\"1\" class=\"dataframe\">\n",
       "  <thead>\n",
       "    <tr style=\"text-align: right;\">\n",
       "      <th></th>\n",
       "      <th>A</th>\n",
       "      <th>B</th>\n",
       "    </tr>\n",
       "  </thead>\n",
       "  <tbody>\n",
       "    <tr>\n",
       "      <th>0</th>\n",
       "      <td>1.0E+00</td>\n",
       "      <td>3.0E+00</td>\n",
       "    </tr>\n",
       "    <tr>\n",
       "      <th>1</th>\n",
       "      <td>1.0E+00</td>\n",
       "      <td>3.0E+00</td>\n",
       "    </tr>\n",
       "  </tbody>\n",
       "</table>\n",
       "</div>"
      ],
      "text/plain": [
       "         A        B\n",
       "0  1.0E+00  3.0E+00\n",
       "1  1.0E+00  3.0E+00"
      ]
     },
     "metadata": {},
     "output_type": "display_data"
    }
   ],
   "source": [
    "df1 = pd.DataFrame({'A': [None, 0], 'B': [None, 4]})\n",
    "display(df1)\n",
    "df2 = pd.DataFrame({'A': [1, 1], 'B': [3, 3]})\n",
    "display(df2)\n",
    "display(df1.combine_first(df2))\n",
    "display(df2.combine_first(df1))"
   ]
  },
  {
   "cell_type": "markdown",
   "id": "ce697fa6",
   "metadata": {},
   "source": [
    "# compare\n",
    "- Compare to another DataFrame and show the differences."
   ]
  },
  {
   "cell_type": "code",
   "execution_count": 123,
   "id": "fc2a640f",
   "metadata": {},
   "outputs": [
    {
     "data": {
      "text/html": [
       "<div>\n",
       "<style scoped>\n",
       "    .dataframe tbody tr th:only-of-type {\n",
       "        vertical-align: middle;\n",
       "    }\n",
       "\n",
       "    .dataframe tbody tr th {\n",
       "        vertical-align: top;\n",
       "    }\n",
       "\n",
       "    .dataframe thead th {\n",
       "        text-align: right;\n",
       "    }\n",
       "</style>\n",
       "<table border=\"1\" class=\"dataframe\">\n",
       "  <thead>\n",
       "    <tr style=\"text-align: right;\">\n",
       "      <th></th>\n",
       "      <th>col1</th>\n",
       "      <th>col2</th>\n",
       "      <th>col3</th>\n",
       "    </tr>\n",
       "  </thead>\n",
       "  <tbody>\n",
       "    <tr>\n",
       "      <th>0</th>\n",
       "      <td>a</td>\n",
       "      <td>1.0E+00</td>\n",
       "      <td>1.0E+00</td>\n",
       "    </tr>\n",
       "    <tr>\n",
       "      <th>1</th>\n",
       "      <td>a</td>\n",
       "      <td>2.0E+00</td>\n",
       "      <td>2.0E+00</td>\n",
       "    </tr>\n",
       "    <tr>\n",
       "      <th>2</th>\n",
       "      <td>b</td>\n",
       "      <td>3.0E+00</td>\n",
       "      <td>3.0E+00</td>\n",
       "    </tr>\n",
       "    <tr>\n",
       "      <th>3</th>\n",
       "      <td>b</td>\n",
       "      <td>NaN</td>\n",
       "      <td>4.0E+00</td>\n",
       "    </tr>\n",
       "    <tr>\n",
       "      <th>4</th>\n",
       "      <td>a</td>\n",
       "      <td>5.0E+00</td>\n",
       "      <td>5.0E+00</td>\n",
       "    </tr>\n",
       "  </tbody>\n",
       "</table>\n",
       "</div>"
      ],
      "text/plain": [
       "  col1     col2     col3\n",
       "0    a  1.0E+00  1.0E+00\n",
       "1    a  2.0E+00  2.0E+00\n",
       "2    b  3.0E+00  3.0E+00\n",
       "3    b      NaN  4.0E+00\n",
       "4    a  5.0E+00  5.0E+00"
      ]
     },
     "metadata": {},
     "output_type": "display_data"
    },
    {
     "data": {
      "text/html": [
       "<div>\n",
       "<style scoped>\n",
       "    .dataframe tbody tr th:only-of-type {\n",
       "        vertical-align: middle;\n",
       "    }\n",
       "\n",
       "    .dataframe tbody tr th {\n",
       "        vertical-align: top;\n",
       "    }\n",
       "\n",
       "    .dataframe thead th {\n",
       "        text-align: right;\n",
       "    }\n",
       "</style>\n",
       "<table border=\"1\" class=\"dataframe\">\n",
       "  <thead>\n",
       "    <tr style=\"text-align: right;\">\n",
       "      <th></th>\n",
       "      <th>col1</th>\n",
       "      <th>col2</th>\n",
       "      <th>col3</th>\n",
       "    </tr>\n",
       "  </thead>\n",
       "  <tbody>\n",
       "    <tr>\n",
       "      <th>0</th>\n",
       "      <td>c</td>\n",
       "      <td>1.0E+00</td>\n",
       "      <td>1.0E+00</td>\n",
       "    </tr>\n",
       "    <tr>\n",
       "      <th>1</th>\n",
       "      <td>a</td>\n",
       "      <td>2.0E+00</td>\n",
       "      <td>2.0E+00</td>\n",
       "    </tr>\n",
       "    <tr>\n",
       "      <th>2</th>\n",
       "      <td>b</td>\n",
       "      <td>3.0E+00</td>\n",
       "      <td>4.0E+00</td>\n",
       "    </tr>\n",
       "    <tr>\n",
       "      <th>3</th>\n",
       "      <td>b</td>\n",
       "      <td>NaN</td>\n",
       "      <td>4.0E+00</td>\n",
       "    </tr>\n",
       "    <tr>\n",
       "      <th>4</th>\n",
       "      <td>a</td>\n",
       "      <td>5.0E+00</td>\n",
       "      <td>5.0E+00</td>\n",
       "    </tr>\n",
       "  </tbody>\n",
       "</table>\n",
       "</div>"
      ],
      "text/plain": [
       "  col1     col2     col3\n",
       "0    c  1.0E+00  1.0E+00\n",
       "1    a  2.0E+00  2.0E+00\n",
       "2    b  3.0E+00  4.0E+00\n",
       "3    b      NaN  4.0E+00\n",
       "4    a  5.0E+00  5.0E+00"
      ]
     },
     "metadata": {},
     "output_type": "display_data"
    },
    {
     "data": {
      "text/html": [
       "<div>\n",
       "<style scoped>\n",
       "    .dataframe tbody tr th:only-of-type {\n",
       "        vertical-align: middle;\n",
       "    }\n",
       "\n",
       "    .dataframe tbody tr th {\n",
       "        vertical-align: top;\n",
       "    }\n",
       "\n",
       "    .dataframe thead tr th {\n",
       "        text-align: left;\n",
       "    }\n",
       "</style>\n",
       "<table border=\"1\" class=\"dataframe\">\n",
       "  <thead>\n",
       "    <tr>\n",
       "      <th></th>\n",
       "      <th colspan=\"2\" halign=\"left\">col1</th>\n",
       "      <th colspan=\"2\" halign=\"left\">col3</th>\n",
       "    </tr>\n",
       "    <tr>\n",
       "      <th></th>\n",
       "      <th>self</th>\n",
       "      <th>other</th>\n",
       "      <th>self</th>\n",
       "      <th>other</th>\n",
       "    </tr>\n",
       "  </thead>\n",
       "  <tbody>\n",
       "    <tr>\n",
       "      <th>0</th>\n",
       "      <td>a</td>\n",
       "      <td>c</td>\n",
       "      <td>NaN</td>\n",
       "      <td>NaN</td>\n",
       "    </tr>\n",
       "    <tr>\n",
       "      <th>2</th>\n",
       "      <td>NaN</td>\n",
       "      <td>NaN</td>\n",
       "      <td>3.0E+00</td>\n",
       "      <td>4.0E+00</td>\n",
       "    </tr>\n",
       "  </tbody>\n",
       "</table>\n",
       "</div>"
      ],
      "text/plain": [
       "  col1           col3         \n",
       "  self other     self    other\n",
       "0    a     c      NaN      NaN\n",
       "2  NaN   NaN  3.0E+00  4.0E+00"
      ]
     },
     "metadata": {},
     "output_type": "display_data"
    }
   ],
   "source": [
    "df = pd.DataFrame(\n",
    "    {\n",
    "        \"col1\": [\"a\", \"a\", \"b\", \"b\", \"a\"],\n",
    "        \"col2\": [1.0, 2.0, 3.0, np.nan, 5.0],\n",
    "        \"col3\": [1.0, 2.0, 3.0, 4.0, 5.0]\n",
    "    },\n",
    "    columns=[\"col1\", \"col2\", \"col3\"],\n",
    ")\n",
    "df2 = df.copy()\n",
    "df2.loc[0, 'col1'] = 'c'\n",
    "df2.loc[2, 'col3'] = 4.0\n",
    "display(df)\n",
    "display(df2)\n",
    "display(df.compare(df2))"
   ]
  },
  {
   "cell_type": "markdown",
   "id": "348549e4",
   "metadata": {},
   "source": [
    "# convert_dtypes\n",
    "- Convert columns to the best possible dtypes using dtypes supporting pd.NA."
   ]
  },
  {
   "cell_type": "code",
   "execution_count": 125,
   "id": "00c5e58b",
   "metadata": {},
   "outputs": [
    {
     "data": {
      "text/plain": [
       "a      int32\n",
       "b     object\n",
       "c     object\n",
       "d     object\n",
       "e    float64\n",
       "f    float64\n",
       "dtype: object"
      ]
     },
     "metadata": {},
     "output_type": "display_data"
    },
    {
     "data": {
      "text/plain": [
       "a             Int32\n",
       "b    string[python]\n",
       "c           boolean\n",
       "d    string[python]\n",
       "e             Int64\n",
       "f           Float64\n",
       "dtype: object"
      ]
     },
     "metadata": {},
     "output_type": "display_data"
    }
   ],
   "source": [
    "df = pd.DataFrame(\n",
    "    {\n",
    "        \"a\": pd.Series([1, 2, 3], dtype=np.dtype(\"int32\")),\n",
    "        \"b\": pd.Series([\"x\", \"y\", \"z\"], dtype=np.dtype(\"O\")),\n",
    "        \"c\": pd.Series([True, False, np.nan], dtype=np.dtype(\"O\")),\n",
    "        \"d\": pd.Series([\"h\", \"i\", np.nan], dtype=np.dtype(\"O\")),\n",
    "        \"e\": pd.Series([10, np.nan, 20], dtype=np.dtype(\"float\")),\n",
    "        \"f\": pd.Series([np.nan, 100.5, 200], dtype=np.dtype(\"float\")),\n",
    "    }\n",
    ")\n",
    "display(df.dtypes)\n",
    "dfn = df.convert_dtypes()\n",
    "display(dfn.dtypes)"
   ]
  },
  {
   "cell_type": "markdown",
   "id": "7896a460",
   "metadata": {},
   "source": [
    "# copy\n",
    "- Make a copy of this object’s indices and data.\n",
    "- When deep=True (default), a new object will be created with a copy of the calling object’s data and indices. Modifications to the data or indices of the copy will not be reflected in the original object (see notes below).\n",
    "- When deep=False, a new object will be created without copying the calling object’s data or index (only references to the data and index are copied). Any changes to the data of the original will be reflected in the shallow copy (and vice versa)."
   ]
  },
  {
   "cell_type": "code",
   "execution_count": 130,
   "id": "572c718a",
   "metadata": {},
   "outputs": [
    {
     "data": {
      "text/plain": [
       "a    1\n",
       "b    2\n",
       "dtype: int64"
      ]
     },
     "metadata": {},
     "output_type": "display_data"
    },
    {
     "data": {
      "text/plain": [
       "a    1\n",
       "b    2\n",
       "dtype: int64"
      ]
     },
     "metadata": {},
     "output_type": "display_data"
    },
    {
     "name": "stdout",
     "output_type": "stream",
     "text": [
      "False\n",
      "[1 2]\n",
      "[ True  True]\n"
     ]
    }
   ],
   "source": [
    "s = pd.Series([1, 2], index=[\"a\", \"b\"])\n",
    "s_copy = s.copy()\n",
    "display(s)\n",
    "display(s_copy)\n",
    "print(s is s_copy)\n",
    "print(s.values == s_copy.values)"
   ]
  },
  {
   "cell_type": "markdown",
   "id": "59da4764",
   "metadata": {},
   "source": [
    "# corr\n",
    "- Compute pairwise correlation of columns, excluding NA/null values."
   ]
  },
  {
   "cell_type": "code",
   "execution_count": 133,
   "id": "e6ef740f",
   "metadata": {},
   "outputs": [
    {
     "data": {
      "text/html": [
       "<div>\n",
       "<style scoped>\n",
       "    .dataframe tbody tr th:only-of-type {\n",
       "        vertical-align: middle;\n",
       "    }\n",
       "\n",
       "    .dataframe tbody tr th {\n",
       "        vertical-align: top;\n",
       "    }\n",
       "\n",
       "    .dataframe thead th {\n",
       "        text-align: right;\n",
       "    }\n",
       "</style>\n",
       "<table border=\"1\" class=\"dataframe\">\n",
       "  <thead>\n",
       "    <tr style=\"text-align: right;\">\n",
       "      <th></th>\n",
       "      <th>dogs</th>\n",
       "      <th>cats</th>\n",
       "    </tr>\n",
       "  </thead>\n",
       "  <tbody>\n",
       "    <tr>\n",
       "      <th>0</th>\n",
       "      <td>200.0E-03</td>\n",
       "      <td>300.0E-03</td>\n",
       "    </tr>\n",
       "    <tr>\n",
       "      <th>1</th>\n",
       "      <td>0.0E+00</td>\n",
       "      <td>600.0E-03</td>\n",
       "    </tr>\n",
       "    <tr>\n",
       "      <th>2</th>\n",
       "      <td>600.0E-03</td>\n",
       "      <td>0.0E+00</td>\n",
       "    </tr>\n",
       "    <tr>\n",
       "      <th>3</th>\n",
       "      <td>200.0E-03</td>\n",
       "      <td>100.0E-03</td>\n",
       "    </tr>\n",
       "  </tbody>\n",
       "</table>\n",
       "</div>"
      ],
      "text/plain": [
       "        dogs       cats\n",
       "0  200.0E-03  300.0E-03\n",
       "1    0.0E+00  600.0E-03\n",
       "2  600.0E-03    0.0E+00\n",
       "3  200.0E-03  100.0E-03"
      ]
     },
     "metadata": {},
     "output_type": "display_data"
    },
    {
     "data": {
      "text/html": [
       "<div>\n",
       "<style scoped>\n",
       "    .dataframe tbody tr th:only-of-type {\n",
       "        vertical-align: middle;\n",
       "    }\n",
       "\n",
       "    .dataframe tbody tr th {\n",
       "        vertical-align: top;\n",
       "    }\n",
       "\n",
       "    .dataframe thead th {\n",
       "        text-align: right;\n",
       "    }\n",
       "</style>\n",
       "<table border=\"1\" class=\"dataframe\">\n",
       "  <thead>\n",
       "    <tr style=\"text-align: right;\">\n",
       "      <th></th>\n",
       "      <th>dogs</th>\n",
       "      <th>cats</th>\n",
       "    </tr>\n",
       "  </thead>\n",
       "  <tbody>\n",
       "    <tr>\n",
       "      <th>dogs</th>\n",
       "      <td>1.0E+00</td>\n",
       "      <td>300.0E-03</td>\n",
       "    </tr>\n",
       "    <tr>\n",
       "      <th>cats</th>\n",
       "      <td>300.0E-03</td>\n",
       "      <td>1.0E+00</td>\n",
       "    </tr>\n",
       "  </tbody>\n",
       "</table>\n",
       "</div>"
      ],
      "text/plain": [
       "           dogs       cats\n",
       "dogs    1.0E+00  300.0E-03\n",
       "cats  300.0E-03    1.0E+00"
      ]
     },
     "metadata": {},
     "output_type": "display_data"
    },
    {
     "data": {
      "text/html": [
       "<div>\n",
       "<style scoped>\n",
       "    .dataframe tbody tr th:only-of-type {\n",
       "        vertical-align: middle;\n",
       "    }\n",
       "\n",
       "    .dataframe tbody tr th {\n",
       "        vertical-align: top;\n",
       "    }\n",
       "\n",
       "    .dataframe thead th {\n",
       "        text-align: right;\n",
       "    }\n",
       "</style>\n",
       "<table border=\"1\" class=\"dataframe\">\n",
       "  <thead>\n",
       "    <tr style=\"text-align: right;\">\n",
       "      <th></th>\n",
       "      <th>dogs</th>\n",
       "      <th>cats</th>\n",
       "    </tr>\n",
       "  </thead>\n",
       "  <tbody>\n",
       "    <tr>\n",
       "      <th>dogs</th>\n",
       "      <td>1.0E+00</td>\n",
       "      <td>NaN</td>\n",
       "    </tr>\n",
       "    <tr>\n",
       "      <th>cats</th>\n",
       "      <td>NaN</td>\n",
       "      <td>1.0E+00</td>\n",
       "    </tr>\n",
       "  </tbody>\n",
       "</table>\n",
       "</div>"
      ],
      "text/plain": [
       "         dogs     cats\n",
       "dogs  1.0E+00      NaN\n",
       "cats      NaN  1.0E+00"
      ]
     },
     "metadata": {},
     "output_type": "display_data"
    }
   ],
   "source": [
    "def histogram_intersection(a, b):\n",
    "    v = np.minimum(a, b).sum().round(decimals=1)\n",
    "    return v\n",
    "df = pd.DataFrame([(.2, .3), (.0, .6), (.6, .0), (.2, .1)],\n",
    "                  columns=['dogs', 'cats'])\n",
    "display(df)\n",
    "display(df.corr(method=histogram_intersection))\n",
    "df = pd.DataFrame([(1, 1), (2, np.nan), (np.nan, 3), (4, 4)],\n",
    "                  columns=['dogs', 'cats'])\n",
    "display(df.corr(method='pearson', min_periods=3))"
   ]
  },
  {
   "cell_type": "markdown",
   "id": "1c4cbb25",
   "metadata": {},
   "source": [
    "# corrwith\n",
    "- Compute pairwise correlation.\n",
    "- Pairwise correlation is computed between rows or columns of DataFrame with rows or columns of Series or DataFrame. DataFrames are first aligned along both axes before computing the correlations."
   ]
  },
  {
   "cell_type": "code",
   "execution_count": 134,
   "id": "580dd27a",
   "metadata": {},
   "outputs": [
    {
     "data": {
      "text/html": [
       "<div>\n",
       "<style scoped>\n",
       "    .dataframe tbody tr th:only-of-type {\n",
       "        vertical-align: middle;\n",
       "    }\n",
       "\n",
       "    .dataframe tbody tr th {\n",
       "        vertical-align: top;\n",
       "    }\n",
       "\n",
       "    .dataframe thead th {\n",
       "        text-align: right;\n",
       "    }\n",
       "</style>\n",
       "<table border=\"1\" class=\"dataframe\">\n",
       "  <thead>\n",
       "    <tr style=\"text-align: right;\">\n",
       "      <th></th>\n",
       "      <th>one</th>\n",
       "      <th>two</th>\n",
       "      <th>three</th>\n",
       "      <th>four</th>\n",
       "    </tr>\n",
       "  </thead>\n",
       "  <tbody>\n",
       "    <tr>\n",
       "      <th>a</th>\n",
       "      <td>0</td>\n",
       "      <td>1</td>\n",
       "      <td>2</td>\n",
       "      <td>3</td>\n",
       "    </tr>\n",
       "    <tr>\n",
       "      <th>b</th>\n",
       "      <td>4</td>\n",
       "      <td>5</td>\n",
       "      <td>6</td>\n",
       "      <td>7</td>\n",
       "    </tr>\n",
       "    <tr>\n",
       "      <th>c</th>\n",
       "      <td>8</td>\n",
       "      <td>9</td>\n",
       "      <td>10</td>\n",
       "      <td>11</td>\n",
       "    </tr>\n",
       "    <tr>\n",
       "      <th>d</th>\n",
       "      <td>12</td>\n",
       "      <td>13</td>\n",
       "      <td>14</td>\n",
       "      <td>15</td>\n",
       "    </tr>\n",
       "    <tr>\n",
       "      <th>e</th>\n",
       "      <td>16</td>\n",
       "      <td>17</td>\n",
       "      <td>18</td>\n",
       "      <td>19</td>\n",
       "    </tr>\n",
       "  </tbody>\n",
       "</table>\n",
       "</div>"
      ],
      "text/plain": [
       "   one  two  three  four\n",
       "a    0    1      2     3\n",
       "b    4    5      6     7\n",
       "c    8    9     10    11\n",
       "d   12   13     14    15\n",
       "e   16   17     18    19"
      ]
     },
     "metadata": {},
     "output_type": "display_data"
    },
    {
     "data": {
      "text/html": [
       "<div>\n",
       "<style scoped>\n",
       "    .dataframe tbody tr th:only-of-type {\n",
       "        vertical-align: middle;\n",
       "    }\n",
       "\n",
       "    .dataframe tbody tr th {\n",
       "        vertical-align: top;\n",
       "    }\n",
       "\n",
       "    .dataframe thead th {\n",
       "        text-align: right;\n",
       "    }\n",
       "</style>\n",
       "<table border=\"1\" class=\"dataframe\">\n",
       "  <thead>\n",
       "    <tr style=\"text-align: right;\">\n",
       "      <th></th>\n",
       "      <th>one</th>\n",
       "      <th>two</th>\n",
       "      <th>three</th>\n",
       "      <th>four</th>\n",
       "    </tr>\n",
       "  </thead>\n",
       "  <tbody>\n",
       "    <tr>\n",
       "      <th>a</th>\n",
       "      <td>0</td>\n",
       "      <td>1</td>\n",
       "      <td>2</td>\n",
       "      <td>3</td>\n",
       "    </tr>\n",
       "    <tr>\n",
       "      <th>b</th>\n",
       "      <td>4</td>\n",
       "      <td>5</td>\n",
       "      <td>6</td>\n",
       "      <td>7</td>\n",
       "    </tr>\n",
       "    <tr>\n",
       "      <th>c</th>\n",
       "      <td>8</td>\n",
       "      <td>9</td>\n",
       "      <td>10</td>\n",
       "      <td>11</td>\n",
       "    </tr>\n",
       "    <tr>\n",
       "      <th>d</th>\n",
       "      <td>12</td>\n",
       "      <td>13</td>\n",
       "      <td>14</td>\n",
       "      <td>15</td>\n",
       "    </tr>\n",
       "  </tbody>\n",
       "</table>\n",
       "</div>"
      ],
      "text/plain": [
       "   one  two  three  four\n",
       "a    0    1      2     3\n",
       "b    4    5      6     7\n",
       "c    8    9     10    11\n",
       "d   12   13     14    15"
      ]
     },
     "metadata": {},
     "output_type": "display_data"
    },
    {
     "data": {
      "text/plain": [
       "one      1.0E+00\n",
       "two      1.0E+00\n",
       "three    1.0E+00\n",
       "four     1.0E+00\n",
       "dtype: float64"
      ]
     },
     "metadata": {},
     "output_type": "display_data"
    }
   ],
   "source": [
    "index = [\"a\", \"b\", \"c\", \"d\", \"e\"]\n",
    "columns = [\"one\", \"two\", \"three\", \"four\"]\n",
    "df1 = pd.DataFrame(np.arange(20).reshape(5, 4), index=index, columns=columns)\n",
    "df2 = pd.DataFrame(np.arange(16).reshape(4, 4), index=index[:4], columns=columns)\n",
    "display(df1)\n",
    "display(df2)\n",
    "display(df1.corrwith(df2))"
   ]
  },
  {
   "cell_type": "markdown",
   "id": "e0a1b163",
   "metadata": {},
   "source": [
    "# count\n",
    "- Count non-NA cells for each column or row.\n",
    "- The values None, NaN, NaT, pandas.NA are considered NA."
   ]
  },
  {
   "cell_type": "code",
   "execution_count": 136,
   "id": "e0ea248a",
   "metadata": {},
   "outputs": [
    {
     "data": {
      "text/html": [
       "<div>\n",
       "<style scoped>\n",
       "    .dataframe tbody tr th:only-of-type {\n",
       "        vertical-align: middle;\n",
       "    }\n",
       "\n",
       "    .dataframe tbody tr th {\n",
       "        vertical-align: top;\n",
       "    }\n",
       "\n",
       "    .dataframe thead th {\n",
       "        text-align: right;\n",
       "    }\n",
       "</style>\n",
       "<table border=\"1\" class=\"dataframe\">\n",
       "  <thead>\n",
       "    <tr style=\"text-align: right;\">\n",
       "      <th></th>\n",
       "      <th>Person</th>\n",
       "      <th>Age</th>\n",
       "      <th>Single</th>\n",
       "    </tr>\n",
       "  </thead>\n",
       "  <tbody>\n",
       "    <tr>\n",
       "      <th>0</th>\n",
       "      <td>John</td>\n",
       "      <td>24.0E+00</td>\n",
       "      <td>False</td>\n",
       "    </tr>\n",
       "    <tr>\n",
       "      <th>1</th>\n",
       "      <td>Myla</td>\n",
       "      <td>NaN</td>\n",
       "      <td>True</td>\n",
       "    </tr>\n",
       "    <tr>\n",
       "      <th>2</th>\n",
       "      <td>Lewis</td>\n",
       "      <td>21.0E+00</td>\n",
       "      <td>True</td>\n",
       "    </tr>\n",
       "    <tr>\n",
       "      <th>3</th>\n",
       "      <td>John</td>\n",
       "      <td>33.0E+00</td>\n",
       "      <td>True</td>\n",
       "    </tr>\n",
       "    <tr>\n",
       "      <th>4</th>\n",
       "      <td>Myla</td>\n",
       "      <td>26.0E+00</td>\n",
       "      <td>False</td>\n",
       "    </tr>\n",
       "  </tbody>\n",
       "</table>\n",
       "</div>"
      ],
      "text/plain": [
       "  Person       Age  Single\n",
       "0   John  24.0E+00   False\n",
       "1   Myla       NaN    True\n",
       "2  Lewis  21.0E+00    True\n",
       "3   John  33.0E+00    True\n",
       "4   Myla  26.0E+00   False"
      ]
     },
     "metadata": {},
     "output_type": "display_data"
    },
    {
     "data": {
      "text/plain": [
       "Person    5\n",
       "Age       4\n",
       "Single    5\n",
       "dtype: int64"
      ]
     },
     "metadata": {},
     "output_type": "display_data"
    },
    {
     "data": {
      "text/plain": [
       "0    3\n",
       "1    2\n",
       "2    3\n",
       "3    3\n",
       "4    3\n",
       "dtype: int64"
      ]
     },
     "metadata": {},
     "output_type": "display_data"
    }
   ],
   "source": [
    "df = pd.DataFrame({\"Person\":\n",
    "                   [\"John\", \"Myla\", \"Lewis\", \"John\", \"Myla\"],\n",
    "                   \"Age\": [24., np.nan, 21., 33, 26],\n",
    "                   \"Single\": [False, True, True, True, False]})\n",
    "display(df)\n",
    "display(df.count())\n",
    "display(df.count(axis='columns'))"
   ]
  },
  {
   "cell_type": "markdown",
   "id": "030898a2",
   "metadata": {},
   "source": [
    "# cov\n",
    "- Compute pairwise covariance of columns, excluding NA/null values.\n",
    "- Compute the pairwise covariance among the series of a DataFrame. The returned data frame is the covariance matrix of the columns of the DataFrame.\n",
    "- Both NA and null values are automatically excluded from the calculation. (See the note below about bias from missing values.) A threshold can be set for the minimum number of observations for each value created. Comparisons with observations below this threshold will be returned as NaN.\n",
    "- This method is generally used for the analysis of time series data to understand the relationship between different measures across time."
   ]
  },
  {
   "cell_type": "code",
   "execution_count": 138,
   "id": "f5f56ed8",
   "metadata": {},
   "outputs": [
    {
     "data": {
      "text/html": [
       "<div>\n",
       "<style scoped>\n",
       "    .dataframe tbody tr th:only-of-type {\n",
       "        vertical-align: middle;\n",
       "    }\n",
       "\n",
       "    .dataframe tbody tr th {\n",
       "        vertical-align: top;\n",
       "    }\n",
       "\n",
       "    .dataframe thead th {\n",
       "        text-align: right;\n",
       "    }\n",
       "</style>\n",
       "<table border=\"1\" class=\"dataframe\">\n",
       "  <thead>\n",
       "    <tr style=\"text-align: right;\">\n",
       "      <th></th>\n",
       "      <th>dogs</th>\n",
       "      <th>cats</th>\n",
       "    </tr>\n",
       "  </thead>\n",
       "  <tbody>\n",
       "    <tr>\n",
       "      <th>0</th>\n",
       "      <td>1</td>\n",
       "      <td>2</td>\n",
       "    </tr>\n",
       "    <tr>\n",
       "      <th>1</th>\n",
       "      <td>0</td>\n",
       "      <td>3</td>\n",
       "    </tr>\n",
       "    <tr>\n",
       "      <th>2</th>\n",
       "      <td>2</td>\n",
       "      <td>0</td>\n",
       "    </tr>\n",
       "    <tr>\n",
       "      <th>3</th>\n",
       "      <td>1</td>\n",
       "      <td>1</td>\n",
       "    </tr>\n",
       "  </tbody>\n",
       "</table>\n",
       "</div>"
      ],
      "text/plain": [
       "   dogs  cats\n",
       "0     1     2\n",
       "1     0     3\n",
       "2     2     0\n",
       "3     1     1"
      ]
     },
     "metadata": {},
     "output_type": "display_data"
    },
    {
     "data": {
      "text/html": [
       "<div>\n",
       "<style scoped>\n",
       "    .dataframe tbody tr th:only-of-type {\n",
       "        vertical-align: middle;\n",
       "    }\n",
       "\n",
       "    .dataframe tbody tr th {\n",
       "        vertical-align: top;\n",
       "    }\n",
       "\n",
       "    .dataframe thead th {\n",
       "        text-align: right;\n",
       "    }\n",
       "</style>\n",
       "<table border=\"1\" class=\"dataframe\">\n",
       "  <thead>\n",
       "    <tr style=\"text-align: right;\">\n",
       "      <th></th>\n",
       "      <th>dogs</th>\n",
       "      <th>cats</th>\n",
       "    </tr>\n",
       "  </thead>\n",
       "  <tbody>\n",
       "    <tr>\n",
       "      <th>dogs</th>\n",
       "      <td>666.7E-03</td>\n",
       "      <td>-1.0E+00</td>\n",
       "    </tr>\n",
       "    <tr>\n",
       "      <th>cats</th>\n",
       "      <td>-1.0E+00</td>\n",
       "      <td>1.7E+00</td>\n",
       "    </tr>\n",
       "  </tbody>\n",
       "</table>\n",
       "</div>"
      ],
      "text/plain": [
       "           dogs     cats\n",
       "dogs  666.7E-03 -1.0E+00\n",
       "cats   -1.0E+00  1.7E+00"
      ]
     },
     "execution_count": 138,
     "metadata": {},
     "output_type": "execute_result"
    }
   ],
   "source": [
    "df = pd.DataFrame([(1, 2), (0, 3), (2, 0), (1, 1)],\n",
    "                  columns=['dogs', 'cats'])\n",
    "display(df)\n",
    "df.cov()"
   ]
  },
  {
   "cell_type": "markdown",
   "id": "db15b8cd",
   "metadata": {},
   "source": [
    "# cummax\n",
    "- Return cumulative maximum over a DataFrame or Series axis.\n",
    "- Returns a DataFrame or Series of the same size containing the cumulative maximum."
   ]
  },
  {
   "cell_type": "code",
   "execution_count": 139,
   "id": "ac2d04d6",
   "metadata": {},
   "outputs": [
    {
     "data": {
      "text/plain": [
       "0    2.0E+00\n",
       "1        NaN\n",
       "2    5.0E+00\n",
       "3   -1.0E+00\n",
       "4    0.0E+00\n",
       "dtype: float64"
      ]
     },
     "metadata": {},
     "output_type": "display_data"
    },
    {
     "data": {
      "text/plain": [
       "0    2.0E+00\n",
       "1        NaN\n",
       "2    5.0E+00\n",
       "3    5.0E+00\n",
       "4    5.0E+00\n",
       "dtype: float64"
      ]
     },
     "metadata": {},
     "output_type": "display_data"
    }
   ],
   "source": [
    "s = pd.Series([2, np.nan, 5, -1, 0])\n",
    "display(s)\n",
    "display(s.cummax())"
   ]
  },
  {
   "cell_type": "markdown",
   "id": "4ab9bddb",
   "metadata": {},
   "source": [
    "# cummin\n",
    "- Return cumulative minimum over a DataFrame or Series axis.\n",
    "- Returns a DataFrame or Series of the same size containing the cumulative minimum."
   ]
  },
  {
   "cell_type": "code",
   "execution_count": 140,
   "id": "4924a8f9",
   "metadata": {},
   "outputs": [
    {
     "data": {
      "text/plain": [
       "0    2.0E+00\n",
       "1        NaN\n",
       "2    5.0E+00\n",
       "3   -1.0E+00\n",
       "4    0.0E+00\n",
       "dtype: float64"
      ]
     },
     "metadata": {},
     "output_type": "display_data"
    },
    {
     "data": {
      "text/plain": [
       "0    2.0E+00\n",
       "1        NaN\n",
       "2    2.0E+00\n",
       "3   -1.0E+00\n",
       "4   -1.0E+00\n",
       "dtype: float64"
      ]
     },
     "metadata": {},
     "output_type": "display_data"
    }
   ],
   "source": [
    "s = pd.Series([2, np.nan, 5, -1, 0])\n",
    "display(s)\n",
    "display(s.cummin())"
   ]
  },
  {
   "cell_type": "markdown",
   "id": "02f51dd8",
   "metadata": {},
   "source": [
    "# cumprod\n",
    "- Return cumulative product over a DataFrame or Series axis.\n",
    "- Returns a DataFrame or Series of the same size containing the cumulative product."
   ]
  },
  {
   "cell_type": "code",
   "execution_count": 141,
   "id": "f3e818cd",
   "metadata": {},
   "outputs": [
    {
     "data": {
      "text/plain": [
       "0    2.0E+00\n",
       "1        NaN\n",
       "2    5.0E+00\n",
       "3   -1.0E+00\n",
       "4    0.0E+00\n",
       "dtype: float64"
      ]
     },
     "metadata": {},
     "output_type": "display_data"
    },
    {
     "data": {
      "text/plain": [
       "0     2.0E+00\n",
       "1         NaN\n",
       "2    10.0E+00\n",
       "3   -10.0E+00\n",
       "4    -0.0E+00\n",
       "dtype: float64"
      ]
     },
     "metadata": {},
     "output_type": "display_data"
    }
   ],
   "source": [
    "s = pd.Series([2, np.nan, 5, -1, 0])\n",
    "display(s)\n",
    "display(s.cumprod())"
   ]
  },
  {
   "cell_type": "markdown",
   "id": "ef735d9e",
   "metadata": {},
   "source": [
    "# cumsum\n",
    "- Return cumulative sum over a DataFrame or Series axis.\n",
    "- Returns a DataFrame or Series of the same size containing the cumulative sum."
   ]
  },
  {
   "cell_type": "code",
   "execution_count": 142,
   "id": "a122eeed",
   "metadata": {},
   "outputs": [
    {
     "data": {
      "text/plain": [
       "0    2.0E+00\n",
       "1        NaN\n",
       "2    5.0E+00\n",
       "3   -1.0E+00\n",
       "4    0.0E+00\n",
       "dtype: float64"
      ]
     },
     "metadata": {},
     "output_type": "display_data"
    },
    {
     "data": {
      "text/plain": [
       "0    2.0E+00\n",
       "1        NaN\n",
       "2    7.0E+00\n",
       "3    6.0E+00\n",
       "4    6.0E+00\n",
       "dtype: float64"
      ]
     },
     "metadata": {},
     "output_type": "display_data"
    }
   ],
   "source": [
    "s = pd.Series([2, np.nan, 5, -1, 0])\n",
    "display(s)\n",
    "display(s.cumsum())"
   ]
  },
  {
   "cell_type": "markdown",
   "id": "517faeb9",
   "metadata": {},
   "source": [
    "# describe\n",
    "- Generate descriptive statistics.\n",
    "- Descriptive statistics include those that summarize the central tendency, dispersion and shape of a dataset’s distribution, excluding NaN values.\n",
    "- Analyzes both numeric and object series, as well as DataFrame column sets of mixed data types. The output will vary depending on what is provided. Refer to the notes below for more detail."
   ]
  },
  {
   "cell_type": "code",
   "execution_count": 143,
   "id": "20900902",
   "metadata": {},
   "outputs": [
    {
     "data": {
      "text/plain": [
       "count    3.0E+00\n",
       "mean     2.0E+00\n",
       "std      1.0E+00\n",
       "min      1.0E+00\n",
       "25%      1.5E+00\n",
       "50%      2.0E+00\n",
       "75%      2.5E+00\n",
       "max      3.0E+00\n",
       "dtype: float64"
      ]
     },
     "metadata": {},
     "output_type": "display_data"
    },
    {
     "data": {
      "text/plain": [
       "count                      3\n",
       "mean     2006-09-01 08:00:00\n",
       "min      2000-01-01 00:00:00\n",
       "25%      2004-12-31 12:00:00\n",
       "50%      2010-01-01 00:00:00\n",
       "75%      2010-01-01 00:00:00\n",
       "max      2010-01-01 00:00:00\n",
       "dtype: object"
      ]
     },
     "metadata": {},
     "output_type": "display_data"
    }
   ],
   "source": [
    "s = pd.Series([1, 2, 3])\n",
    "display(s.describe())\n",
    "s = pd.Series([\n",
    "    np.datetime64(\"2000-01-01\"),\n",
    "    np.datetime64(\"2010-01-01\"),\n",
    "    np.datetime64(\"2010-01-01\")\n",
    "])\n",
    "display(s.describe())"
   ]
  },
  {
   "cell_type": "markdown",
   "id": "3646f4c1",
   "metadata": {},
   "source": [
    "# diff\n",
    "- First discrete difference of element.\n",
    "- Calculates the difference of a DataFrame element compared with another element in the DataFrame (default is element in previous row)."
   ]
  },
  {
   "cell_type": "code",
   "execution_count": 144,
   "id": "894da0a2",
   "metadata": {},
   "outputs": [
    {
     "data": {
      "text/html": [
       "<div>\n",
       "<style scoped>\n",
       "    .dataframe tbody tr th:only-of-type {\n",
       "        vertical-align: middle;\n",
       "    }\n",
       "\n",
       "    .dataframe tbody tr th {\n",
       "        vertical-align: top;\n",
       "    }\n",
       "\n",
       "    .dataframe thead th {\n",
       "        text-align: right;\n",
       "    }\n",
       "</style>\n",
       "<table border=\"1\" class=\"dataframe\">\n",
       "  <thead>\n",
       "    <tr style=\"text-align: right;\">\n",
       "      <th></th>\n",
       "      <th>a</th>\n",
       "      <th>b</th>\n",
       "      <th>c</th>\n",
       "    </tr>\n",
       "  </thead>\n",
       "  <tbody>\n",
       "    <tr>\n",
       "      <th>0</th>\n",
       "      <td>1</td>\n",
       "      <td>1</td>\n",
       "      <td>1</td>\n",
       "    </tr>\n",
       "    <tr>\n",
       "      <th>1</th>\n",
       "      <td>2</td>\n",
       "      <td>1</td>\n",
       "      <td>4</td>\n",
       "    </tr>\n",
       "    <tr>\n",
       "      <th>2</th>\n",
       "      <td>3</td>\n",
       "      <td>2</td>\n",
       "      <td>9</td>\n",
       "    </tr>\n",
       "    <tr>\n",
       "      <th>3</th>\n",
       "      <td>4</td>\n",
       "      <td>3</td>\n",
       "      <td>16</td>\n",
       "    </tr>\n",
       "    <tr>\n",
       "      <th>4</th>\n",
       "      <td>5</td>\n",
       "      <td>5</td>\n",
       "      <td>25</td>\n",
       "    </tr>\n",
       "    <tr>\n",
       "      <th>5</th>\n",
       "      <td>6</td>\n",
       "      <td>8</td>\n",
       "      <td>36</td>\n",
       "    </tr>\n",
       "  </tbody>\n",
       "</table>\n",
       "</div>"
      ],
      "text/plain": [
       "   a  b   c\n",
       "0  1  1   1\n",
       "1  2  1   4\n",
       "2  3  2   9\n",
       "3  4  3  16\n",
       "4  5  5  25\n",
       "5  6  8  36"
      ]
     },
     "metadata": {},
     "output_type": "display_data"
    },
    {
     "data": {
      "text/html": [
       "<div>\n",
       "<style scoped>\n",
       "    .dataframe tbody tr th:only-of-type {\n",
       "        vertical-align: middle;\n",
       "    }\n",
       "\n",
       "    .dataframe tbody tr th {\n",
       "        vertical-align: top;\n",
       "    }\n",
       "\n",
       "    .dataframe thead th {\n",
       "        text-align: right;\n",
       "    }\n",
       "</style>\n",
       "<table border=\"1\" class=\"dataframe\">\n",
       "  <thead>\n",
       "    <tr style=\"text-align: right;\">\n",
       "      <th></th>\n",
       "      <th>a</th>\n",
       "      <th>b</th>\n",
       "      <th>c</th>\n",
       "    </tr>\n",
       "  </thead>\n",
       "  <tbody>\n",
       "    <tr>\n",
       "      <th>0</th>\n",
       "      <td>NaN</td>\n",
       "      <td>NaN</td>\n",
       "      <td>NaN</td>\n",
       "    </tr>\n",
       "    <tr>\n",
       "      <th>1</th>\n",
       "      <td>1.0E+00</td>\n",
       "      <td>0.0E+00</td>\n",
       "      <td>3.0E+00</td>\n",
       "    </tr>\n",
       "    <tr>\n",
       "      <th>2</th>\n",
       "      <td>1.0E+00</td>\n",
       "      <td>1.0E+00</td>\n",
       "      <td>5.0E+00</td>\n",
       "    </tr>\n",
       "    <tr>\n",
       "      <th>3</th>\n",
       "      <td>1.0E+00</td>\n",
       "      <td>1.0E+00</td>\n",
       "      <td>7.0E+00</td>\n",
       "    </tr>\n",
       "    <tr>\n",
       "      <th>4</th>\n",
       "      <td>1.0E+00</td>\n",
       "      <td>2.0E+00</td>\n",
       "      <td>9.0E+00</td>\n",
       "    </tr>\n",
       "    <tr>\n",
       "      <th>5</th>\n",
       "      <td>1.0E+00</td>\n",
       "      <td>3.0E+00</td>\n",
       "      <td>11.0E+00</td>\n",
       "    </tr>\n",
       "  </tbody>\n",
       "</table>\n",
       "</div>"
      ],
      "text/plain": [
       "         a        b         c\n",
       "0      NaN      NaN       NaN\n",
       "1  1.0E+00  0.0E+00   3.0E+00\n",
       "2  1.0E+00  1.0E+00   5.0E+00\n",
       "3  1.0E+00  1.0E+00   7.0E+00\n",
       "4  1.0E+00  2.0E+00   9.0E+00\n",
       "5  1.0E+00  3.0E+00  11.0E+00"
      ]
     },
     "metadata": {},
     "output_type": "display_data"
    }
   ],
   "source": [
    "df = pd.DataFrame({'a': [1, 2, 3, 4, 5, 6],\n",
    "                   'b': [1, 1, 2, 3, 5, 8],\n",
    "                   'c': [1, 4, 9, 16, 25, 36]})\n",
    "display(df)\n",
    "display(df.diff())"
   ]
  },
  {
   "cell_type": "markdown",
   "id": "5dccc4ba",
   "metadata": {},
   "source": [
    "# div\n",
    "- Get Floating division of dataframe and other, element-wise (binary operator truediv).\n",
    "- Equivalent to dataframe / other, but with support to substitute a fill_value for missing data in one of the inputs. With reverse version, rtruediv.\n",
    "- Among flexible wrappers (add, sub, mul, div, floordiv, mod, pow) to arithmetic operators: +, -, *, /, //, %, **."
   ]
  },
  {
   "cell_type": "code",
   "execution_count": 147,
   "id": "ef834892",
   "metadata": {},
   "outputs": [
    {
     "data": {
      "text/html": [
       "<div>\n",
       "<style scoped>\n",
       "    .dataframe tbody tr th:only-of-type {\n",
       "        vertical-align: middle;\n",
       "    }\n",
       "\n",
       "    .dataframe tbody tr th {\n",
       "        vertical-align: top;\n",
       "    }\n",
       "\n",
       "    .dataframe thead th {\n",
       "        text-align: right;\n",
       "    }\n",
       "</style>\n",
       "<table border=\"1\" class=\"dataframe\">\n",
       "  <thead>\n",
       "    <tr style=\"text-align: right;\">\n",
       "      <th></th>\n",
       "      <th>angles</th>\n",
       "      <th>degrees</th>\n",
       "    </tr>\n",
       "  </thead>\n",
       "  <tbody>\n",
       "    <tr>\n",
       "      <th>circle</th>\n",
       "      <td>0</td>\n",
       "      <td>360</td>\n",
       "    </tr>\n",
       "    <tr>\n",
       "      <th>triangle</th>\n",
       "      <td>3</td>\n",
       "      <td>180</td>\n",
       "    </tr>\n",
       "    <tr>\n",
       "      <th>rectangle</th>\n",
       "      <td>4</td>\n",
       "      <td>360</td>\n",
       "    </tr>\n",
       "  </tbody>\n",
       "</table>\n",
       "</div>"
      ],
      "text/plain": [
       "           angles  degrees\n",
       "circle          0      360\n",
       "triangle        3      180\n",
       "rectangle       4      360"
      ]
     },
     "metadata": {},
     "output_type": "display_data"
    },
    {
     "data": {
      "text/html": [
       "<div>\n",
       "<style scoped>\n",
       "    .dataframe tbody tr th:only-of-type {\n",
       "        vertical-align: middle;\n",
       "    }\n",
       "\n",
       "    .dataframe tbody tr th {\n",
       "        vertical-align: top;\n",
       "    }\n",
       "\n",
       "    .dataframe thead th {\n",
       "        text-align: right;\n",
       "    }\n",
       "</style>\n",
       "<table border=\"1\" class=\"dataframe\">\n",
       "  <thead>\n",
       "    <tr style=\"text-align: right;\">\n",
       "      <th></th>\n",
       "      <th>angles</th>\n",
       "      <th>degrees</th>\n",
       "    </tr>\n",
       "  </thead>\n",
       "  <tbody>\n",
       "    <tr>\n",
       "      <th>circle</th>\n",
       "      <td>0.0E+00</td>\n",
       "      <td>36.0E+00</td>\n",
       "    </tr>\n",
       "    <tr>\n",
       "      <th>triangle</th>\n",
       "      <td>300.0E-03</td>\n",
       "      <td>18.0E+00</td>\n",
       "    </tr>\n",
       "    <tr>\n",
       "      <th>rectangle</th>\n",
       "      <td>400.0E-03</td>\n",
       "      <td>36.0E+00</td>\n",
       "    </tr>\n",
       "  </tbody>\n",
       "</table>\n",
       "</div>"
      ],
      "text/plain": [
       "              angles   degrees\n",
       "circle       0.0E+00  36.0E+00\n",
       "triangle   300.0E-03  18.0E+00\n",
       "rectangle  400.0E-03  36.0E+00"
      ]
     },
     "metadata": {},
     "output_type": "display_data"
    }
   ],
   "source": [
    "df = pd.DataFrame({'angles': [0, 3, 4],\n",
    "                   'degrees': [360, 180, 360]},\n",
    "                  index=['circle', 'triangle', 'rectangle'])\n",
    "display(df)\n",
    "display(df.div(10))"
   ]
  },
  {
   "cell_type": "markdown",
   "id": "fe0feae2",
   "metadata": {},
   "source": [
    "# divide == div"
   ]
  },
  {
   "cell_type": "code",
   "execution_count": 148,
   "id": "6cc99056",
   "metadata": {},
   "outputs": [
    {
     "data": {
      "text/html": [
       "<div>\n",
       "<style scoped>\n",
       "    .dataframe tbody tr th:only-of-type {\n",
       "        vertical-align: middle;\n",
       "    }\n",
       "\n",
       "    .dataframe tbody tr th {\n",
       "        vertical-align: top;\n",
       "    }\n",
       "\n",
       "    .dataframe thead th {\n",
       "        text-align: right;\n",
       "    }\n",
       "</style>\n",
       "<table border=\"1\" class=\"dataframe\">\n",
       "  <thead>\n",
       "    <tr style=\"text-align: right;\">\n",
       "      <th></th>\n",
       "      <th>angles</th>\n",
       "      <th>degrees</th>\n",
       "    </tr>\n",
       "  </thead>\n",
       "  <tbody>\n",
       "    <tr>\n",
       "      <th>circle</th>\n",
       "      <td>0</td>\n",
       "      <td>360</td>\n",
       "    </tr>\n",
       "    <tr>\n",
       "      <th>triangle</th>\n",
       "      <td>3</td>\n",
       "      <td>180</td>\n",
       "    </tr>\n",
       "    <tr>\n",
       "      <th>rectangle</th>\n",
       "      <td>4</td>\n",
       "      <td>360</td>\n",
       "    </tr>\n",
       "  </tbody>\n",
       "</table>\n",
       "</div>"
      ],
      "text/plain": [
       "           angles  degrees\n",
       "circle          0      360\n",
       "triangle        3      180\n",
       "rectangle       4      360"
      ]
     },
     "metadata": {},
     "output_type": "display_data"
    },
    {
     "data": {
      "text/html": [
       "<div>\n",
       "<style scoped>\n",
       "    .dataframe tbody tr th:only-of-type {\n",
       "        vertical-align: middle;\n",
       "    }\n",
       "\n",
       "    .dataframe tbody tr th {\n",
       "        vertical-align: top;\n",
       "    }\n",
       "\n",
       "    .dataframe thead th {\n",
       "        text-align: right;\n",
       "    }\n",
       "</style>\n",
       "<table border=\"1\" class=\"dataframe\">\n",
       "  <thead>\n",
       "    <tr style=\"text-align: right;\">\n",
       "      <th></th>\n",
       "      <th>angles</th>\n",
       "      <th>degrees</th>\n",
       "    </tr>\n",
       "  </thead>\n",
       "  <tbody>\n",
       "    <tr>\n",
       "      <th>circle</th>\n",
       "      <td>0.0E+00</td>\n",
       "      <td>36.0E+00</td>\n",
       "    </tr>\n",
       "    <tr>\n",
       "      <th>triangle</th>\n",
       "      <td>300.0E-03</td>\n",
       "      <td>18.0E+00</td>\n",
       "    </tr>\n",
       "    <tr>\n",
       "      <th>rectangle</th>\n",
       "      <td>400.0E-03</td>\n",
       "      <td>36.0E+00</td>\n",
       "    </tr>\n",
       "  </tbody>\n",
       "</table>\n",
       "</div>"
      ],
      "text/plain": [
       "              angles   degrees\n",
       "circle       0.0E+00  36.0E+00\n",
       "triangle   300.0E-03  18.0E+00\n",
       "rectangle  400.0E-03  36.0E+00"
      ]
     },
     "metadata": {},
     "output_type": "display_data"
    }
   ],
   "source": [
    "df = pd.DataFrame({'angles': [0, 3, 4],\n",
    "                   'degrees': [360, 180, 360]},\n",
    "                  index=['circle', 'triangle', 'rectangle'])\n",
    "display(df)\n",
    "display(df.divide(10))"
   ]
  },
  {
   "cell_type": "markdown",
   "id": "6d3da8de",
   "metadata": {},
   "source": [
    "# dot\n",
    "- Compute the matrix multiplication between the DataFrame and other.\n",
    "- This method computes the matrix product between the DataFrame and the values of an other Series, DataFrame or a numpy array.\n",
    "- It can also be called using self @ other."
   ]
  },
  {
   "cell_type": "code",
   "execution_count": 149,
   "id": "157d49ce",
   "metadata": {},
   "outputs": [
    {
     "data": {
      "text/plain": [
       "0   -4\n",
       "1    5\n",
       "dtype: int64"
      ]
     },
     "metadata": {},
     "output_type": "display_data"
    },
    {
     "data": {
      "text/plain": [
       "0   -4\n",
       "1    5\n",
       "dtype: int64"
      ]
     },
     "metadata": {},
     "output_type": "display_data"
    }
   ],
   "source": [
    "df = pd.DataFrame([[0, 1, -2, -1], [1, 1, 1, 1]])\n",
    "s = pd.Series([1, 1, 2, 1])\n",
    "display(df.dot(s))\n",
    "display(df @ s) # same as dot"
   ]
  },
  {
   "cell_type": "markdown",
   "id": "cbfa2609",
   "metadata": {},
   "source": [
    "# drop\n",
    "- Drop specified labels from rows or columns.\n",
    "- Remove rows or columns by specifying label names and corresponding axis, or by directly specifying index or column names. When using a multi-index, labels on different levels can be removed by specifying the level. See the user guide for more information about the now unused levels."
   ]
  },
  {
   "cell_type": "code",
   "execution_count": 150,
   "id": "62715b32",
   "metadata": {},
   "outputs": [
    {
     "data": {
      "text/html": [
       "<div>\n",
       "<style scoped>\n",
       "    .dataframe tbody tr th:only-of-type {\n",
       "        vertical-align: middle;\n",
       "    }\n",
       "\n",
       "    .dataframe tbody tr th {\n",
       "        vertical-align: top;\n",
       "    }\n",
       "\n",
       "    .dataframe thead th {\n",
       "        text-align: right;\n",
       "    }\n",
       "</style>\n",
       "<table border=\"1\" class=\"dataframe\">\n",
       "  <thead>\n",
       "    <tr style=\"text-align: right;\">\n",
       "      <th></th>\n",
       "      <th>A</th>\n",
       "      <th>B</th>\n",
       "      <th>C</th>\n",
       "      <th>D</th>\n",
       "    </tr>\n",
       "  </thead>\n",
       "  <tbody>\n",
       "    <tr>\n",
       "      <th>0</th>\n",
       "      <td>0</td>\n",
       "      <td>1</td>\n",
       "      <td>2</td>\n",
       "      <td>3</td>\n",
       "    </tr>\n",
       "    <tr>\n",
       "      <th>1</th>\n",
       "      <td>4</td>\n",
       "      <td>5</td>\n",
       "      <td>6</td>\n",
       "      <td>7</td>\n",
       "    </tr>\n",
       "    <tr>\n",
       "      <th>2</th>\n",
       "      <td>8</td>\n",
       "      <td>9</td>\n",
       "      <td>10</td>\n",
       "      <td>11</td>\n",
       "    </tr>\n",
       "  </tbody>\n",
       "</table>\n",
       "</div>"
      ],
      "text/plain": [
       "   A  B   C   D\n",
       "0  0  1   2   3\n",
       "1  4  5   6   7\n",
       "2  8  9  10  11"
      ]
     },
     "metadata": {},
     "output_type": "display_data"
    },
    {
     "data": {
      "text/html": [
       "<div>\n",
       "<style scoped>\n",
       "    .dataframe tbody tr th:only-of-type {\n",
       "        vertical-align: middle;\n",
       "    }\n",
       "\n",
       "    .dataframe tbody tr th {\n",
       "        vertical-align: top;\n",
       "    }\n",
       "\n",
       "    .dataframe thead th {\n",
       "        text-align: right;\n",
       "    }\n",
       "</style>\n",
       "<table border=\"1\" class=\"dataframe\">\n",
       "  <thead>\n",
       "    <tr style=\"text-align: right;\">\n",
       "      <th></th>\n",
       "      <th>A</th>\n",
       "      <th>D</th>\n",
       "    </tr>\n",
       "  </thead>\n",
       "  <tbody>\n",
       "    <tr>\n",
       "      <th>0</th>\n",
       "      <td>0</td>\n",
       "      <td>3</td>\n",
       "    </tr>\n",
       "    <tr>\n",
       "      <th>1</th>\n",
       "      <td>4</td>\n",
       "      <td>7</td>\n",
       "    </tr>\n",
       "    <tr>\n",
       "      <th>2</th>\n",
       "      <td>8</td>\n",
       "      <td>11</td>\n",
       "    </tr>\n",
       "  </tbody>\n",
       "</table>\n",
       "</div>"
      ],
      "text/plain": [
       "   A   D\n",
       "0  0   3\n",
       "1  4   7\n",
       "2  8  11"
      ]
     },
     "metadata": {},
     "output_type": "display_data"
    }
   ],
   "source": [
    "df = pd.DataFrame(np.arange(12).reshape(3, 4),\n",
    "                  columns=['A', 'B', 'C', 'D'])\n",
    "display(df)\n",
    "display(df.drop(['B', 'C'], axis=1))"
   ]
  },
  {
   "cell_type": "markdown",
   "id": "b4dfcbd5",
   "metadata": {},
   "source": [
    "# drop_duplicates\n",
    "- Return DataFrame with duplicate rows removed.\n",
    "- Considering certain columns is optional. Indexes, including time indexes are ignored."
   ]
  },
  {
   "cell_type": "code",
   "execution_count": 155,
   "id": "8a2eb8ea",
   "metadata": {},
   "outputs": [
    {
     "data": {
      "text/html": [
       "<div>\n",
       "<style scoped>\n",
       "    .dataframe tbody tr th:only-of-type {\n",
       "        vertical-align: middle;\n",
       "    }\n",
       "\n",
       "    .dataframe tbody tr th {\n",
       "        vertical-align: top;\n",
       "    }\n",
       "\n",
       "    .dataframe thead th {\n",
       "        text-align: right;\n",
       "    }\n",
       "</style>\n",
       "<table border=\"1\" class=\"dataframe\">\n",
       "  <thead>\n",
       "    <tr style=\"text-align: right;\">\n",
       "      <th></th>\n",
       "      <th>brand</th>\n",
       "      <th>style</th>\n",
       "      <th>rating</th>\n",
       "    </tr>\n",
       "  </thead>\n",
       "  <tbody>\n",
       "    <tr>\n",
       "      <th>0</th>\n",
       "      <td>Yum Yum</td>\n",
       "      <td>cup</td>\n",
       "      <td>4.0E+00</td>\n",
       "    </tr>\n",
       "    <tr>\n",
       "      <th>1</th>\n",
       "      <td>Yum Yum</td>\n",
       "      <td>cup</td>\n",
       "      <td>4.0E+00</td>\n",
       "    </tr>\n",
       "    <tr>\n",
       "      <th>2</th>\n",
       "      <td>Indomie</td>\n",
       "      <td>cup</td>\n",
       "      <td>3.5E+00</td>\n",
       "    </tr>\n",
       "    <tr>\n",
       "      <th>3</th>\n",
       "      <td>Indomie</td>\n",
       "      <td>pack</td>\n",
       "      <td>15.0E+00</td>\n",
       "    </tr>\n",
       "    <tr>\n",
       "      <th>4</th>\n",
       "      <td>Indomie</td>\n",
       "      <td>pack</td>\n",
       "      <td>5.0E+00</td>\n",
       "    </tr>\n",
       "  </tbody>\n",
       "</table>\n",
       "</div>"
      ],
      "text/plain": [
       "     brand style    rating\n",
       "0  Yum Yum   cup   4.0E+00\n",
       "1  Yum Yum   cup   4.0E+00\n",
       "2  Indomie   cup   3.5E+00\n",
       "3  Indomie  pack  15.0E+00\n",
       "4  Indomie  pack   5.0E+00"
      ]
     },
     "metadata": {},
     "output_type": "display_data"
    },
    {
     "data": {
      "text/html": [
       "<div>\n",
       "<style scoped>\n",
       "    .dataframe tbody tr th:only-of-type {\n",
       "        vertical-align: middle;\n",
       "    }\n",
       "\n",
       "    .dataframe tbody tr th {\n",
       "        vertical-align: top;\n",
       "    }\n",
       "\n",
       "    .dataframe thead th {\n",
       "        text-align: right;\n",
       "    }\n",
       "</style>\n",
       "<table border=\"1\" class=\"dataframe\">\n",
       "  <thead>\n",
       "    <tr style=\"text-align: right;\">\n",
       "      <th></th>\n",
       "      <th>brand</th>\n",
       "      <th>style</th>\n",
       "      <th>rating</th>\n",
       "    </tr>\n",
       "  </thead>\n",
       "  <tbody>\n",
       "    <tr>\n",
       "      <th>0</th>\n",
       "      <td>Yum Yum</td>\n",
       "      <td>cup</td>\n",
       "      <td>4.0E+00</td>\n",
       "    </tr>\n",
       "    <tr>\n",
       "      <th>2</th>\n",
       "      <td>Indomie</td>\n",
       "      <td>cup</td>\n",
       "      <td>3.5E+00</td>\n",
       "    </tr>\n",
       "    <tr>\n",
       "      <th>3</th>\n",
       "      <td>Indomie</td>\n",
       "      <td>pack</td>\n",
       "      <td>15.0E+00</td>\n",
       "    </tr>\n",
       "    <tr>\n",
       "      <th>4</th>\n",
       "      <td>Indomie</td>\n",
       "      <td>pack</td>\n",
       "      <td>5.0E+00</td>\n",
       "    </tr>\n",
       "  </tbody>\n",
       "</table>\n",
       "</div>"
      ],
      "text/plain": [
       "     brand style    rating\n",
       "0  Yum Yum   cup   4.0E+00\n",
       "2  Indomie   cup   3.5E+00\n",
       "3  Indomie  pack  15.0E+00\n",
       "4  Indomie  pack   5.0E+00"
      ]
     },
     "metadata": {},
     "output_type": "display_data"
    }
   ],
   "source": [
    "df = pd.DataFrame({\n",
    "    'brand': ['Yum Yum', 'Yum Yum', 'Indomie', 'Indomie', 'Indomie'],\n",
    "    'style': ['cup', 'cup', 'cup', 'pack', 'pack'],\n",
    "    'rating': [4, 4, 3.5, 15, 5]\n",
    "})\n",
    "display(df)\n",
    "\n",
    "display(df.drop_duplicates())"
   ]
  },
  {
   "cell_type": "markdown",
   "id": "6665aed8",
   "metadata": {},
   "source": [
    "# droplevel\n",
    "- Return Series/DataFrame with requested index / column level(s) removed."
   ]
  },
  {
   "cell_type": "code",
   "execution_count": 156,
   "id": "0cb4700d",
   "metadata": {},
   "outputs": [
    {
     "data": {
      "text/html": [
       "<div>\n",
       "<style scoped>\n",
       "    .dataframe tbody tr th:only-of-type {\n",
       "        vertical-align: middle;\n",
       "    }\n",
       "\n",
       "    .dataframe tbody tr th {\n",
       "        vertical-align: top;\n",
       "    }\n",
       "\n",
       "    .dataframe thead th {\n",
       "        text-align: right;\n",
       "    }\n",
       "</style>\n",
       "<table border=\"1\" class=\"dataframe\">\n",
       "  <thead>\n",
       "    <tr style=\"text-align: right;\">\n",
       "      <th></th>\n",
       "      <th></th>\n",
       "      <th>2</th>\n",
       "      <th>3</th>\n",
       "    </tr>\n",
       "    <tr>\n",
       "      <th>a</th>\n",
       "      <th>b</th>\n",
       "      <th></th>\n",
       "      <th></th>\n",
       "    </tr>\n",
       "  </thead>\n",
       "  <tbody>\n",
       "    <tr>\n",
       "      <th>1</th>\n",
       "      <th>2</th>\n",
       "      <td>3</td>\n",
       "      <td>4</td>\n",
       "    </tr>\n",
       "    <tr>\n",
       "      <th>5</th>\n",
       "      <th>6</th>\n",
       "      <td>7</td>\n",
       "      <td>8</td>\n",
       "    </tr>\n",
       "    <tr>\n",
       "      <th>9</th>\n",
       "      <th>10</th>\n",
       "      <td>11</td>\n",
       "      <td>12</td>\n",
       "    </tr>\n",
       "  </tbody>\n",
       "</table>\n",
       "</div>"
      ],
      "text/plain": [
       "       2   3\n",
       "a b         \n",
       "1 2    3   4\n",
       "5 6    7   8\n",
       "9 10  11  12"
      ]
     },
     "metadata": {},
     "output_type": "display_data"
    },
    {
     "data": {
      "text/html": [
       "<div>\n",
       "<style scoped>\n",
       "    .dataframe tbody tr th:only-of-type {\n",
       "        vertical-align: middle;\n",
       "    }\n",
       "\n",
       "    .dataframe tbody tr th {\n",
       "        vertical-align: top;\n",
       "    }\n",
       "\n",
       "    .dataframe thead th {\n",
       "        text-align: right;\n",
       "    }\n",
       "</style>\n",
       "<table border=\"1\" class=\"dataframe\">\n",
       "  <thead>\n",
       "    <tr style=\"text-align: right;\">\n",
       "      <th></th>\n",
       "      <th>2</th>\n",
       "      <th>3</th>\n",
       "    </tr>\n",
       "    <tr>\n",
       "      <th>b</th>\n",
       "      <th></th>\n",
       "      <th></th>\n",
       "    </tr>\n",
       "  </thead>\n",
       "  <tbody>\n",
       "    <tr>\n",
       "      <th>2</th>\n",
       "      <td>3</td>\n",
       "      <td>4</td>\n",
       "    </tr>\n",
       "    <tr>\n",
       "      <th>6</th>\n",
       "      <td>7</td>\n",
       "      <td>8</td>\n",
       "    </tr>\n",
       "    <tr>\n",
       "      <th>10</th>\n",
       "      <td>11</td>\n",
       "      <td>12</td>\n",
       "    </tr>\n",
       "  </tbody>\n",
       "</table>\n",
       "</div>"
      ],
      "text/plain": [
       "     2   3\n",
       "b         \n",
       "2    3   4\n",
       "6    7   8\n",
       "10  11  12"
      ]
     },
     "metadata": {},
     "output_type": "display_data"
    }
   ],
   "source": [
    "df = pd.DataFrame([\n",
    "    [1, 2, 3, 4],\n",
    "    [5, 6, 7, 8],\n",
    "    [9, 10, 11, 12]\n",
    "]).set_index([0, 1]).rename_axis(['a', 'b'])\n",
    "display(df)\n",
    "display(df.droplevel('a'))"
   ]
  },
  {
   "cell_type": "markdown",
   "id": "2848172e",
   "metadata": {},
   "source": [
    "# dropna\n",
    "- Remove missing values."
   ]
  },
  {
   "cell_type": "code",
   "execution_count": 157,
   "id": "21262e2d",
   "metadata": {},
   "outputs": [
    {
     "data": {
      "text/html": [
       "<div>\n",
       "<style scoped>\n",
       "    .dataframe tbody tr th:only-of-type {\n",
       "        vertical-align: middle;\n",
       "    }\n",
       "\n",
       "    .dataframe tbody tr th {\n",
       "        vertical-align: top;\n",
       "    }\n",
       "\n",
       "    .dataframe thead th {\n",
       "        text-align: right;\n",
       "    }\n",
       "</style>\n",
       "<table border=\"1\" class=\"dataframe\">\n",
       "  <thead>\n",
       "    <tr style=\"text-align: right;\">\n",
       "      <th></th>\n",
       "      <th>name</th>\n",
       "      <th>toy</th>\n",
       "      <th>born</th>\n",
       "    </tr>\n",
       "  </thead>\n",
       "  <tbody>\n",
       "    <tr>\n",
       "      <th>0</th>\n",
       "      <td>Alfred</td>\n",
       "      <td>NaN</td>\n",
       "      <td>NaT</td>\n",
       "    </tr>\n",
       "    <tr>\n",
       "      <th>1</th>\n",
       "      <td>Batman</td>\n",
       "      <td>Batmobile</td>\n",
       "      <td>1940-04-25</td>\n",
       "    </tr>\n",
       "    <tr>\n",
       "      <th>2</th>\n",
       "      <td>Catwoman</td>\n",
       "      <td>Bullwhip</td>\n",
       "      <td>NaT</td>\n",
       "    </tr>\n",
       "  </tbody>\n",
       "</table>\n",
       "</div>"
      ],
      "text/plain": [
       "       name        toy       born\n",
       "0    Alfred        NaN        NaT\n",
       "1    Batman  Batmobile 1940-04-25\n",
       "2  Catwoman   Bullwhip        NaT"
      ]
     },
     "metadata": {},
     "output_type": "display_data"
    },
    {
     "data": {
      "text/html": [
       "<div>\n",
       "<style scoped>\n",
       "    .dataframe tbody tr th:only-of-type {\n",
       "        vertical-align: middle;\n",
       "    }\n",
       "\n",
       "    .dataframe tbody tr th {\n",
       "        vertical-align: top;\n",
       "    }\n",
       "\n",
       "    .dataframe thead th {\n",
       "        text-align: right;\n",
       "    }\n",
       "</style>\n",
       "<table border=\"1\" class=\"dataframe\">\n",
       "  <thead>\n",
       "    <tr style=\"text-align: right;\">\n",
       "      <th></th>\n",
       "      <th>name</th>\n",
       "      <th>toy</th>\n",
       "      <th>born</th>\n",
       "    </tr>\n",
       "  </thead>\n",
       "  <tbody>\n",
       "    <tr>\n",
       "      <th>1</th>\n",
       "      <td>Batman</td>\n",
       "      <td>Batmobile</td>\n",
       "      <td>1940-04-25</td>\n",
       "    </tr>\n",
       "  </tbody>\n",
       "</table>\n",
       "</div>"
      ],
      "text/plain": [
       "     name        toy       born\n",
       "1  Batman  Batmobile 1940-04-25"
      ]
     },
     "metadata": {},
     "output_type": "display_data"
    }
   ],
   "source": [
    "df = pd.DataFrame({\"name\": ['Alfred', 'Batman', 'Catwoman'],\n",
    "                   \"toy\": [np.nan, 'Batmobile', 'Bullwhip'],\n",
    "                   \"born\": [pd.NaT, pd.Timestamp(\"1940-04-25\"),\n",
    "                            pd.NaT]})\n",
    "display(df)\n",
    "display(df.dropna())"
   ]
  },
  {
   "cell_type": "markdown",
   "id": "770a6031",
   "metadata": {},
   "source": [
    "# dtypes\n",
    "- Return the dtypes in the DataFrame."
   ]
  },
  {
   "cell_type": "code",
   "execution_count": 158,
   "id": "19b81f88",
   "metadata": {},
   "outputs": [
    {
     "data": {
      "text/plain": [
       "float              float64\n",
       "int                  int64\n",
       "datetime    datetime64[ns]\n",
       "string              object\n",
       "dtype: object"
      ]
     },
     "execution_count": 158,
     "metadata": {},
     "output_type": "execute_result"
    }
   ],
   "source": [
    "df = pd.DataFrame({'float': [1.0],\n",
    "                   'int': [1],\n",
    "                   'datetime': [pd.Timestamp('20180310')],\n",
    "                   'string': ['foo']})\n",
    "df.dtypes"
   ]
  },
  {
   "cell_type": "markdown",
   "id": "1496fd53",
   "metadata": {},
   "source": [
    "# duplicated\n",
    "- Return boolean Series denoting duplicate rows.\n",
    "- Considering certain columns is optional."
   ]
  },
  {
   "cell_type": "code",
   "execution_count": 159,
   "id": "ce2d37f1",
   "metadata": {},
   "outputs": [
    {
     "data": {
      "text/html": [
       "<div>\n",
       "<style scoped>\n",
       "    .dataframe tbody tr th:only-of-type {\n",
       "        vertical-align: middle;\n",
       "    }\n",
       "\n",
       "    .dataframe tbody tr th {\n",
       "        vertical-align: top;\n",
       "    }\n",
       "\n",
       "    .dataframe thead th {\n",
       "        text-align: right;\n",
       "    }\n",
       "</style>\n",
       "<table border=\"1\" class=\"dataframe\">\n",
       "  <thead>\n",
       "    <tr style=\"text-align: right;\">\n",
       "      <th></th>\n",
       "      <th>brand</th>\n",
       "      <th>style</th>\n",
       "      <th>rating</th>\n",
       "    </tr>\n",
       "  </thead>\n",
       "  <tbody>\n",
       "    <tr>\n",
       "      <th>0</th>\n",
       "      <td>Yum Yum</td>\n",
       "      <td>cup</td>\n",
       "      <td>4.0E+00</td>\n",
       "    </tr>\n",
       "    <tr>\n",
       "      <th>1</th>\n",
       "      <td>Yum Yum</td>\n",
       "      <td>cup</td>\n",
       "      <td>4.0E+00</td>\n",
       "    </tr>\n",
       "    <tr>\n",
       "      <th>2</th>\n",
       "      <td>Indomie</td>\n",
       "      <td>cup</td>\n",
       "      <td>3.5E+00</td>\n",
       "    </tr>\n",
       "    <tr>\n",
       "      <th>3</th>\n",
       "      <td>Indomie</td>\n",
       "      <td>pack</td>\n",
       "      <td>15.0E+00</td>\n",
       "    </tr>\n",
       "    <tr>\n",
       "      <th>4</th>\n",
       "      <td>Indomie</td>\n",
       "      <td>pack</td>\n",
       "      <td>5.0E+00</td>\n",
       "    </tr>\n",
       "  </tbody>\n",
       "</table>\n",
       "</div>"
      ],
      "text/plain": [
       "     brand style    rating\n",
       "0  Yum Yum   cup   4.0E+00\n",
       "1  Yum Yum   cup   4.0E+00\n",
       "2  Indomie   cup   3.5E+00\n",
       "3  Indomie  pack  15.0E+00\n",
       "4  Indomie  pack   5.0E+00"
      ]
     },
     "metadata": {},
     "output_type": "display_data"
    },
    {
     "data": {
      "text/plain": [
       "0    False\n",
       "1     True\n",
       "2    False\n",
       "3    False\n",
       "4    False\n",
       "dtype: bool"
      ]
     },
     "metadata": {},
     "output_type": "display_data"
    }
   ],
   "source": [
    "df = pd.DataFrame({\n",
    "    'brand': ['Yum Yum', 'Yum Yum', 'Indomie', 'Indomie', 'Indomie'],\n",
    "    'style': ['cup', 'cup', 'cup', 'pack', 'pack'],\n",
    "    'rating': [4, 4, 3.5, 15, 5]\n",
    "})\n",
    "display(df)\n",
    "display(df.duplicated())"
   ]
  },
  {
   "cell_type": "markdown",
   "id": "038bde34",
   "metadata": {},
   "source": [
    "# empty\n",
    "- Indicator whether Series/DataFrame is empty."
   ]
  },
  {
   "cell_type": "code",
   "execution_count": 162,
   "id": "293665c1",
   "metadata": {},
   "outputs": [
    {
     "data": {
      "text/html": [
       "<div>\n",
       "<style scoped>\n",
       "    .dataframe tbody tr th:only-of-type {\n",
       "        vertical-align: middle;\n",
       "    }\n",
       "\n",
       "    .dataframe tbody tr th {\n",
       "        vertical-align: top;\n",
       "    }\n",
       "\n",
       "    .dataframe thead th {\n",
       "        text-align: right;\n",
       "    }\n",
       "</style>\n",
       "<table border=\"1\" class=\"dataframe\">\n",
       "  <thead>\n",
       "    <tr style=\"text-align: right;\">\n",
       "      <th></th>\n",
       "      <th>A</th>\n",
       "    </tr>\n",
       "  </thead>\n",
       "  <tbody>\n",
       "  </tbody>\n",
       "</table>\n",
       "</div>"
      ],
      "text/plain": [
       "Empty DataFrame\n",
       "Columns: [A]\n",
       "Index: []"
      ]
     },
     "metadata": {},
     "output_type": "display_data"
    },
    {
     "name": "stdout",
     "output_type": "stream",
     "text": [
      "True\n"
     ]
    }
   ],
   "source": [
    "df_empty = pd.DataFrame({'A' : []})\n",
    "display(df_empty)\n",
    "print(df_empty.empty)"
   ]
  },
  {
   "cell_type": "markdown",
   "id": "5fd51602",
   "metadata": {},
   "source": [
    "# eq\n",
    "- Get Equal to of dataframe and other, element-wise (binary operator eq).\n",
    "- Among flexible wrappers (eq, ne, le, lt, ge, gt) to comparison operators.\n",
    "- Equivalent to ==, !=, <=, <, >=, > with support to choose axis (rows or columns) and level for comparison.\n",
    "## Notes: same as the operator =="
   ]
  },
  {
   "cell_type": "code",
   "execution_count": 163,
   "id": "b2f26d04",
   "metadata": {},
   "outputs": [
    {
     "data": {
      "text/html": [
       "<div>\n",
       "<style scoped>\n",
       "    .dataframe tbody tr th:only-of-type {\n",
       "        vertical-align: middle;\n",
       "    }\n",
       "\n",
       "    .dataframe tbody tr th {\n",
       "        vertical-align: top;\n",
       "    }\n",
       "\n",
       "    .dataframe thead th {\n",
       "        text-align: right;\n",
       "    }\n",
       "</style>\n",
       "<table border=\"1\" class=\"dataframe\">\n",
       "  <thead>\n",
       "    <tr style=\"text-align: right;\">\n",
       "      <th></th>\n",
       "      <th>cost</th>\n",
       "      <th>revenue</th>\n",
       "    </tr>\n",
       "  </thead>\n",
       "  <tbody>\n",
       "    <tr>\n",
       "      <th>A</th>\n",
       "      <td>250</td>\n",
       "      <td>100</td>\n",
       "    </tr>\n",
       "    <tr>\n",
       "      <th>B</th>\n",
       "      <td>150</td>\n",
       "      <td>250</td>\n",
       "    </tr>\n",
       "    <tr>\n",
       "      <th>C</th>\n",
       "      <td>100</td>\n",
       "      <td>300</td>\n",
       "    </tr>\n",
       "  </tbody>\n",
       "</table>\n",
       "</div>"
      ],
      "text/plain": [
       "   cost  revenue\n",
       "A   250      100\n",
       "B   150      250\n",
       "C   100      300"
      ]
     },
     "metadata": {},
     "output_type": "display_data"
    },
    {
     "data": {
      "text/html": [
       "<div>\n",
       "<style scoped>\n",
       "    .dataframe tbody tr th:only-of-type {\n",
       "        vertical-align: middle;\n",
       "    }\n",
       "\n",
       "    .dataframe tbody tr th {\n",
       "        vertical-align: top;\n",
       "    }\n",
       "\n",
       "    .dataframe thead th {\n",
       "        text-align: right;\n",
       "    }\n",
       "</style>\n",
       "<table border=\"1\" class=\"dataframe\">\n",
       "  <thead>\n",
       "    <tr style=\"text-align: right;\">\n",
       "      <th></th>\n",
       "      <th>cost</th>\n",
       "      <th>revenue</th>\n",
       "    </tr>\n",
       "  </thead>\n",
       "  <tbody>\n",
       "    <tr>\n",
       "      <th>A</th>\n",
       "      <td>False</td>\n",
       "      <td>True</td>\n",
       "    </tr>\n",
       "    <tr>\n",
       "      <th>B</th>\n",
       "      <td>False</td>\n",
       "      <td>False</td>\n",
       "    </tr>\n",
       "    <tr>\n",
       "      <th>C</th>\n",
       "      <td>True</td>\n",
       "      <td>False</td>\n",
       "    </tr>\n",
       "  </tbody>\n",
       "</table>\n",
       "</div>"
      ],
      "text/plain": [
       "    cost  revenue\n",
       "A  False     True\n",
       "B  False    False\n",
       "C   True    False"
      ]
     },
     "metadata": {},
     "output_type": "display_data"
    },
    {
     "data": {
      "text/html": [
       "<div>\n",
       "<style scoped>\n",
       "    .dataframe tbody tr th:only-of-type {\n",
       "        vertical-align: middle;\n",
       "    }\n",
       "\n",
       "    .dataframe tbody tr th {\n",
       "        vertical-align: top;\n",
       "    }\n",
       "\n",
       "    .dataframe thead th {\n",
       "        text-align: right;\n",
       "    }\n",
       "</style>\n",
       "<table border=\"1\" class=\"dataframe\">\n",
       "  <thead>\n",
       "    <tr style=\"text-align: right;\">\n",
       "      <th></th>\n",
       "      <th>cost</th>\n",
       "      <th>revenue</th>\n",
       "    </tr>\n",
       "  </thead>\n",
       "  <tbody>\n",
       "    <tr>\n",
       "      <th>A</th>\n",
       "      <td>False</td>\n",
       "      <td>True</td>\n",
       "    </tr>\n",
       "    <tr>\n",
       "      <th>B</th>\n",
       "      <td>False</td>\n",
       "      <td>False</td>\n",
       "    </tr>\n",
       "    <tr>\n",
       "      <th>C</th>\n",
       "      <td>True</td>\n",
       "      <td>False</td>\n",
       "    </tr>\n",
       "  </tbody>\n",
       "</table>\n",
       "</div>"
      ],
      "text/plain": [
       "    cost  revenue\n",
       "A  False     True\n",
       "B  False    False\n",
       "C   True    False"
      ]
     },
     "metadata": {},
     "output_type": "display_data"
    }
   ],
   "source": [
    "df = pd.DataFrame({'cost': [250, 150, 100],\n",
    "                   'revenue': [100, 250, 300]},\n",
    "                  index=['A', 'B', 'C'])\n",
    "display(df)\n",
    "display(df == 100)\n",
    "display(df.eq(100))"
   ]
  },
  {
   "cell_type": "markdown",
   "id": "bdadf5ca",
   "metadata": {},
   "source": [
    "# equals == eq"
   ]
  },
  {
   "cell_type": "code",
   "execution_count": 164,
   "id": "a4d4da18",
   "metadata": {},
   "outputs": [
    {
     "data": {
      "text/html": [
       "<div>\n",
       "<style scoped>\n",
       "    .dataframe tbody tr th:only-of-type {\n",
       "        vertical-align: middle;\n",
       "    }\n",
       "\n",
       "    .dataframe tbody tr th {\n",
       "        vertical-align: top;\n",
       "    }\n",
       "\n",
       "    .dataframe thead th {\n",
       "        text-align: right;\n",
       "    }\n",
       "</style>\n",
       "<table border=\"1\" class=\"dataframe\">\n",
       "  <thead>\n",
       "    <tr style=\"text-align: right;\">\n",
       "      <th></th>\n",
       "      <th>cost</th>\n",
       "      <th>revenue</th>\n",
       "    </tr>\n",
       "  </thead>\n",
       "  <tbody>\n",
       "    <tr>\n",
       "      <th>A</th>\n",
       "      <td>250</td>\n",
       "      <td>100</td>\n",
       "    </tr>\n",
       "    <tr>\n",
       "      <th>B</th>\n",
       "      <td>150</td>\n",
       "      <td>250</td>\n",
       "    </tr>\n",
       "    <tr>\n",
       "      <th>C</th>\n",
       "      <td>100</td>\n",
       "      <td>300</td>\n",
       "    </tr>\n",
       "  </tbody>\n",
       "</table>\n",
       "</div>"
      ],
      "text/plain": [
       "   cost  revenue\n",
       "A   250      100\n",
       "B   150      250\n",
       "C   100      300"
      ]
     },
     "metadata": {},
     "output_type": "display_data"
    },
    {
     "data": {
      "text/html": [
       "<div>\n",
       "<style scoped>\n",
       "    .dataframe tbody tr th:only-of-type {\n",
       "        vertical-align: middle;\n",
       "    }\n",
       "\n",
       "    .dataframe tbody tr th {\n",
       "        vertical-align: top;\n",
       "    }\n",
       "\n",
       "    .dataframe thead th {\n",
       "        text-align: right;\n",
       "    }\n",
       "</style>\n",
       "<table border=\"1\" class=\"dataframe\">\n",
       "  <thead>\n",
       "    <tr style=\"text-align: right;\">\n",
       "      <th></th>\n",
       "      <th>cost</th>\n",
       "      <th>revenue</th>\n",
       "    </tr>\n",
       "  </thead>\n",
       "  <tbody>\n",
       "    <tr>\n",
       "      <th>A</th>\n",
       "      <td>False</td>\n",
       "      <td>True</td>\n",
       "    </tr>\n",
       "    <tr>\n",
       "      <th>B</th>\n",
       "      <td>False</td>\n",
       "      <td>False</td>\n",
       "    </tr>\n",
       "    <tr>\n",
       "      <th>C</th>\n",
       "      <td>True</td>\n",
       "      <td>False</td>\n",
       "    </tr>\n",
       "  </tbody>\n",
       "</table>\n",
       "</div>"
      ],
      "text/plain": [
       "    cost  revenue\n",
       "A  False     True\n",
       "B  False    False\n",
       "C   True    False"
      ]
     },
     "metadata": {},
     "output_type": "display_data"
    },
    {
     "data": {
      "text/plain": [
       "False"
      ]
     },
     "metadata": {},
     "output_type": "display_data"
    }
   ],
   "source": [
    "df = pd.DataFrame({'cost': [250, 150, 100],\n",
    "                   'revenue': [100, 250, 300]},\n",
    "                  index=['A', 'B', 'C'])\n",
    "display(df)\n",
    "display(df == 100)\n",
    "display(df.equals(100))"
   ]
  },
  {
   "cell_type": "markdown",
   "id": "a396c05d",
   "metadata": {},
   "source": [
    "# eval\n",
    "- Evaluate a string describing operations on DataFrame columns.\n",
    "- Operates on columns only, not specific rows or elements. This allows eval to run arbitrary code, which can make you vulnerable to code injection if you pass user input to this function."
   ]
  },
  {
   "cell_type": "code",
   "execution_count": 167,
   "id": "6613b3cd",
   "metadata": {},
   "outputs": [
    {
     "data": {
      "text/html": [
       "<div>\n",
       "<style scoped>\n",
       "    .dataframe tbody tr th:only-of-type {\n",
       "        vertical-align: middle;\n",
       "    }\n",
       "\n",
       "    .dataframe tbody tr th {\n",
       "        vertical-align: top;\n",
       "    }\n",
       "\n",
       "    .dataframe thead th {\n",
       "        text-align: right;\n",
       "    }\n",
       "</style>\n",
       "<table border=\"1\" class=\"dataframe\">\n",
       "  <thead>\n",
       "    <tr style=\"text-align: right;\">\n",
       "      <th></th>\n",
       "      <th>A</th>\n",
       "      <th>B</th>\n",
       "    </tr>\n",
       "  </thead>\n",
       "  <tbody>\n",
       "    <tr>\n",
       "      <th>0</th>\n",
       "      <td>1</td>\n",
       "      <td>10</td>\n",
       "    </tr>\n",
       "    <tr>\n",
       "      <th>1</th>\n",
       "      <td>2</td>\n",
       "      <td>8</td>\n",
       "    </tr>\n",
       "    <tr>\n",
       "      <th>2</th>\n",
       "      <td>3</td>\n",
       "      <td>6</td>\n",
       "    </tr>\n",
       "    <tr>\n",
       "      <th>3</th>\n",
       "      <td>4</td>\n",
       "      <td>4</td>\n",
       "    </tr>\n",
       "    <tr>\n",
       "      <th>4</th>\n",
       "      <td>5</td>\n",
       "      <td>2</td>\n",
       "    </tr>\n",
       "  </tbody>\n",
       "</table>\n",
       "</div>"
      ],
      "text/plain": [
       "   A   B\n",
       "0  1  10\n",
       "1  2   8\n",
       "2  3   6\n",
       "3  4   4\n",
       "4  5   2"
      ]
     },
     "metadata": {},
     "output_type": "display_data"
    },
    {
     "data": {
      "text/plain": [
       "0    11\n",
       "1    10\n",
       "2     9\n",
       "3     8\n",
       "4     7\n",
       "dtype: int64"
      ]
     },
     "metadata": {},
     "output_type": "display_data"
    },
    {
     "data": {
      "text/html": [
       "<div>\n",
       "<style scoped>\n",
       "    .dataframe tbody tr th:only-of-type {\n",
       "        vertical-align: middle;\n",
       "    }\n",
       "\n",
       "    .dataframe tbody tr th {\n",
       "        vertical-align: top;\n",
       "    }\n",
       "\n",
       "    .dataframe thead th {\n",
       "        text-align: right;\n",
       "    }\n",
       "</style>\n",
       "<table border=\"1\" class=\"dataframe\">\n",
       "  <thead>\n",
       "    <tr style=\"text-align: right;\">\n",
       "      <th></th>\n",
       "      <th>A</th>\n",
       "      <th>B</th>\n",
       "      <th>C</th>\n",
       "    </tr>\n",
       "  </thead>\n",
       "  <tbody>\n",
       "    <tr>\n",
       "      <th>0</th>\n",
       "      <td>1</td>\n",
       "      <td>10</td>\n",
       "      <td>11</td>\n",
       "    </tr>\n",
       "    <tr>\n",
       "      <th>1</th>\n",
       "      <td>2</td>\n",
       "      <td>8</td>\n",
       "      <td>10</td>\n",
       "    </tr>\n",
       "    <tr>\n",
       "      <th>2</th>\n",
       "      <td>3</td>\n",
       "      <td>6</td>\n",
       "      <td>9</td>\n",
       "    </tr>\n",
       "    <tr>\n",
       "      <th>3</th>\n",
       "      <td>4</td>\n",
       "      <td>4</td>\n",
       "      <td>8</td>\n",
       "    </tr>\n",
       "    <tr>\n",
       "      <th>4</th>\n",
       "      <td>5</td>\n",
       "      <td>2</td>\n",
       "      <td>7</td>\n",
       "    </tr>\n",
       "  </tbody>\n",
       "</table>\n",
       "</div>"
      ],
      "text/plain": [
       "   A   B   C\n",
       "0  1  10  11\n",
       "1  2   8  10\n",
       "2  3   6   9\n",
       "3  4   4   8\n",
       "4  5   2   7"
      ]
     },
     "metadata": {},
     "output_type": "display_data"
    }
   ],
   "source": [
    "df = pd.DataFrame({'A': range(1, 6), 'B': range(10, 0, -2)})\n",
    "display(df)\n",
    "display(df.eval('A + B'))\n",
    "display(df.eval('C = A + B')) # original DataFrame is not modified"
   ]
  },
  {
   "cell_type": "markdown",
   "id": "496b8978",
   "metadata": {},
   "source": [
    "# ewm\n",
    "- Provide exponentially weighted (EW) calculations.\n",
    "- Exactly one of com, span, halflife, or alpha must be provided if times is not provided. If times is provided, halflife and one of com, span or alpha may be provided."
   ]
  },
  {
   "cell_type": "code",
   "execution_count": 168,
   "id": "3cb2b339",
   "metadata": {},
   "outputs": [
    {
     "data": {
      "text/html": [
       "<div>\n",
       "<style scoped>\n",
       "    .dataframe tbody tr th:only-of-type {\n",
       "        vertical-align: middle;\n",
       "    }\n",
       "\n",
       "    .dataframe tbody tr th {\n",
       "        vertical-align: top;\n",
       "    }\n",
       "\n",
       "    .dataframe thead th {\n",
       "        text-align: right;\n",
       "    }\n",
       "</style>\n",
       "<table border=\"1\" class=\"dataframe\">\n",
       "  <thead>\n",
       "    <tr style=\"text-align: right;\">\n",
       "      <th></th>\n",
       "      <th>B</th>\n",
       "    </tr>\n",
       "  </thead>\n",
       "  <tbody>\n",
       "    <tr>\n",
       "      <th>0</th>\n",
       "      <td>0.0E+00</td>\n",
       "    </tr>\n",
       "    <tr>\n",
       "      <th>1</th>\n",
       "      <td>1.0E+00</td>\n",
       "    </tr>\n",
       "    <tr>\n",
       "      <th>2</th>\n",
       "      <td>2.0E+00</td>\n",
       "    </tr>\n",
       "    <tr>\n",
       "      <th>3</th>\n",
       "      <td>NaN</td>\n",
       "    </tr>\n",
       "    <tr>\n",
       "      <th>4</th>\n",
       "      <td>4.0E+00</td>\n",
       "    </tr>\n",
       "  </tbody>\n",
       "</table>\n",
       "</div>"
      ],
      "text/plain": [
       "         B\n",
       "0  0.0E+00\n",
       "1  1.0E+00\n",
       "2  2.0E+00\n",
       "3      NaN\n",
       "4  4.0E+00"
      ]
     },
     "metadata": {},
     "output_type": "display_data"
    },
    {
     "data": {
      "text/html": [
       "<div>\n",
       "<style scoped>\n",
       "    .dataframe tbody tr th:only-of-type {\n",
       "        vertical-align: middle;\n",
       "    }\n",
       "\n",
       "    .dataframe tbody tr th {\n",
       "        vertical-align: top;\n",
       "    }\n",
       "\n",
       "    .dataframe thead th {\n",
       "        text-align: right;\n",
       "    }\n",
       "</style>\n",
       "<table border=\"1\" class=\"dataframe\">\n",
       "  <thead>\n",
       "    <tr style=\"text-align: right;\">\n",
       "      <th></th>\n",
       "      <th>B</th>\n",
       "    </tr>\n",
       "  </thead>\n",
       "  <tbody>\n",
       "    <tr>\n",
       "      <th>0</th>\n",
       "      <td>0.0E+00</td>\n",
       "    </tr>\n",
       "    <tr>\n",
       "      <th>1</th>\n",
       "      <td>750.0E-03</td>\n",
       "    </tr>\n",
       "    <tr>\n",
       "      <th>2</th>\n",
       "      <td>1.6E+00</td>\n",
       "    </tr>\n",
       "    <tr>\n",
       "      <th>3</th>\n",
       "      <td>1.6E+00</td>\n",
       "    </tr>\n",
       "    <tr>\n",
       "      <th>4</th>\n",
       "      <td>3.7E+00</td>\n",
       "    </tr>\n",
       "  </tbody>\n",
       "</table>\n",
       "</div>"
      ],
      "text/plain": [
       "           B\n",
       "0    0.0E+00\n",
       "1  750.0E-03\n",
       "2    1.6E+00\n",
       "3    1.6E+00\n",
       "4    3.7E+00"
      ]
     },
     "metadata": {},
     "output_type": "display_data"
    }
   ],
   "source": [
    "df = pd.DataFrame({'B': [0, 1, 2, np.nan, 4]})\n",
    "display(df)\n",
    "display(df.ewm(com=0.5).mean())"
   ]
  },
  {
   "cell_type": "markdown",
   "id": "24d396fa",
   "metadata": {},
   "source": [
    "# expanding\n",
    "- Provide expanding window calculations."
   ]
  },
  {
   "cell_type": "code",
   "execution_count": 172,
   "id": "4143e71a",
   "metadata": {},
   "outputs": [
    {
     "data": {
      "text/html": [
       "<div>\n",
       "<style scoped>\n",
       "    .dataframe tbody tr th:only-of-type {\n",
       "        vertical-align: middle;\n",
       "    }\n",
       "\n",
       "    .dataframe tbody tr th {\n",
       "        vertical-align: top;\n",
       "    }\n",
       "\n",
       "    .dataframe thead th {\n",
       "        text-align: right;\n",
       "    }\n",
       "</style>\n",
       "<table border=\"1\" class=\"dataframe\">\n",
       "  <thead>\n",
       "    <tr style=\"text-align: right;\">\n",
       "      <th></th>\n",
       "      <th>B</th>\n",
       "    </tr>\n",
       "  </thead>\n",
       "  <tbody>\n",
       "    <tr>\n",
       "      <th>0</th>\n",
       "      <td>0.0E+00</td>\n",
       "    </tr>\n",
       "    <tr>\n",
       "      <th>1</th>\n",
       "      <td>1.0E+00</td>\n",
       "    </tr>\n",
       "    <tr>\n",
       "      <th>2</th>\n",
       "      <td>2.0E+00</td>\n",
       "    </tr>\n",
       "    <tr>\n",
       "      <th>3</th>\n",
       "      <td>NaN</td>\n",
       "    </tr>\n",
       "    <tr>\n",
       "      <th>4</th>\n",
       "      <td>4.0E+00</td>\n",
       "    </tr>\n",
       "  </tbody>\n",
       "</table>\n",
       "</div>"
      ],
      "text/plain": [
       "         B\n",
       "0  0.0E+00\n",
       "1  1.0E+00\n",
       "2  2.0E+00\n",
       "3      NaN\n",
       "4  4.0E+00"
      ]
     },
     "metadata": {},
     "output_type": "display_data"
    },
    {
     "data": {
      "text/html": [
       "<div>\n",
       "<style scoped>\n",
       "    .dataframe tbody tr th:only-of-type {\n",
       "        vertical-align: middle;\n",
       "    }\n",
       "\n",
       "    .dataframe tbody tr th {\n",
       "        vertical-align: top;\n",
       "    }\n",
       "\n",
       "    .dataframe thead th {\n",
       "        text-align: right;\n",
       "    }\n",
       "</style>\n",
       "<table border=\"1\" class=\"dataframe\">\n",
       "  <thead>\n",
       "    <tr style=\"text-align: right;\">\n",
       "      <th></th>\n",
       "      <th>B</th>\n",
       "    </tr>\n",
       "  </thead>\n",
       "  <tbody>\n",
       "    <tr>\n",
       "      <th>0</th>\n",
       "      <td>0.0E+00</td>\n",
       "    </tr>\n",
       "    <tr>\n",
       "      <th>1</th>\n",
       "      <td>1.0E+00</td>\n",
       "    </tr>\n",
       "    <tr>\n",
       "      <th>2</th>\n",
       "      <td>3.0E+00</td>\n",
       "    </tr>\n",
       "    <tr>\n",
       "      <th>3</th>\n",
       "      <td>3.0E+00</td>\n",
       "    </tr>\n",
       "    <tr>\n",
       "      <th>4</th>\n",
       "      <td>7.0E+00</td>\n",
       "    </tr>\n",
       "  </tbody>\n",
       "</table>\n",
       "</div>"
      ],
      "text/plain": [
       "         B\n",
       "0  0.0E+00\n",
       "1  1.0E+00\n",
       "2  3.0E+00\n",
       "3  3.0E+00\n",
       "4  7.0E+00"
      ]
     },
     "metadata": {},
     "output_type": "display_data"
    }
   ],
   "source": [
    "df = pd.DataFrame({\"B\": [0, 1, 2, np.nan, 4]})\n",
    "display(df)\n",
    "display(df.expanding(1).sum())"
   ]
  },
  {
   "cell_type": "markdown",
   "id": "e478a569",
   "metadata": {},
   "source": [
    "# explode\n",
    "- Transform each element of a list-like to a row, replicating index values.\n",
    "- For usage if a value has a list, then that list will expand down into each row"
   ]
  },
  {
   "cell_type": "code",
   "execution_count": 173,
   "id": "7cef7c57",
   "metadata": {},
   "outputs": [
    {
     "data": {
      "text/html": [
       "<div>\n",
       "<style scoped>\n",
       "    .dataframe tbody tr th:only-of-type {\n",
       "        vertical-align: middle;\n",
       "    }\n",
       "\n",
       "    .dataframe tbody tr th {\n",
       "        vertical-align: top;\n",
       "    }\n",
       "\n",
       "    .dataframe thead th {\n",
       "        text-align: right;\n",
       "    }\n",
       "</style>\n",
       "<table border=\"1\" class=\"dataframe\">\n",
       "  <thead>\n",
       "    <tr style=\"text-align: right;\">\n",
       "      <th></th>\n",
       "      <th>A</th>\n",
       "      <th>B</th>\n",
       "      <th>C</th>\n",
       "    </tr>\n",
       "  </thead>\n",
       "  <tbody>\n",
       "    <tr>\n",
       "      <th>0</th>\n",
       "      <td>[0, 1, 2]</td>\n",
       "      <td>1</td>\n",
       "      <td>[a, b, c]</td>\n",
       "    </tr>\n",
       "    <tr>\n",
       "      <th>1</th>\n",
       "      <td>foo</td>\n",
       "      <td>1</td>\n",
       "      <td>NaN</td>\n",
       "    </tr>\n",
       "    <tr>\n",
       "      <th>2</th>\n",
       "      <td>[]</td>\n",
       "      <td>1</td>\n",
       "      <td>[]</td>\n",
       "    </tr>\n",
       "    <tr>\n",
       "      <th>3</th>\n",
       "      <td>[3, 4]</td>\n",
       "      <td>1</td>\n",
       "      <td>[d, e]</td>\n",
       "    </tr>\n",
       "  </tbody>\n",
       "</table>\n",
       "</div>"
      ],
      "text/plain": [
       "           A  B          C\n",
       "0  [0, 1, 2]  1  [a, b, c]\n",
       "1        foo  1        NaN\n",
       "2         []  1         []\n",
       "3     [3, 4]  1     [d, e]"
      ]
     },
     "metadata": {},
     "output_type": "display_data"
    },
    {
     "data": {
      "text/html": [
       "<div>\n",
       "<style scoped>\n",
       "    .dataframe tbody tr th:only-of-type {\n",
       "        vertical-align: middle;\n",
       "    }\n",
       "\n",
       "    .dataframe tbody tr th {\n",
       "        vertical-align: top;\n",
       "    }\n",
       "\n",
       "    .dataframe thead th {\n",
       "        text-align: right;\n",
       "    }\n",
       "</style>\n",
       "<table border=\"1\" class=\"dataframe\">\n",
       "  <thead>\n",
       "    <tr style=\"text-align: right;\">\n",
       "      <th></th>\n",
       "      <th>A</th>\n",
       "      <th>B</th>\n",
       "      <th>C</th>\n",
       "    </tr>\n",
       "  </thead>\n",
       "  <tbody>\n",
       "    <tr>\n",
       "      <th>0</th>\n",
       "      <td>0</td>\n",
       "      <td>1</td>\n",
       "      <td>[a, b, c]</td>\n",
       "    </tr>\n",
       "    <tr>\n",
       "      <th>0</th>\n",
       "      <td>1</td>\n",
       "      <td>1</td>\n",
       "      <td>[a, b, c]</td>\n",
       "    </tr>\n",
       "    <tr>\n",
       "      <th>0</th>\n",
       "      <td>2</td>\n",
       "      <td>1</td>\n",
       "      <td>[a, b, c]</td>\n",
       "    </tr>\n",
       "    <tr>\n",
       "      <th>1</th>\n",
       "      <td>foo</td>\n",
       "      <td>1</td>\n",
       "      <td>NaN</td>\n",
       "    </tr>\n",
       "    <tr>\n",
       "      <th>2</th>\n",
       "      <td>NaN</td>\n",
       "      <td>1</td>\n",
       "      <td>[]</td>\n",
       "    </tr>\n",
       "    <tr>\n",
       "      <th>3</th>\n",
       "      <td>3</td>\n",
       "      <td>1</td>\n",
       "      <td>[d, e]</td>\n",
       "    </tr>\n",
       "    <tr>\n",
       "      <th>3</th>\n",
       "      <td>4</td>\n",
       "      <td>1</td>\n",
       "      <td>[d, e]</td>\n",
       "    </tr>\n",
       "  </tbody>\n",
       "</table>\n",
       "</div>"
      ],
      "text/plain": [
       "     A  B          C\n",
       "0    0  1  [a, b, c]\n",
       "0    1  1  [a, b, c]\n",
       "0    2  1  [a, b, c]\n",
       "1  foo  1        NaN\n",
       "2  NaN  1         []\n",
       "3    3  1     [d, e]\n",
       "3    4  1     [d, e]"
      ]
     },
     "metadata": {},
     "output_type": "display_data"
    }
   ],
   "source": [
    "df = pd.DataFrame({'A': [[0, 1, 2], 'foo', [], [3, 4]],\n",
    "                   'B': 1,\n",
    "                   'C': [['a', 'b', 'c'], np.nan, [], ['d', 'e']]})\n",
    "display(df)\n",
    "display(df.explode('A'))"
   ]
  },
  {
   "cell_type": "markdown",
   "id": "1a27c1ef",
   "metadata": {},
   "source": [
    "# ffill\n",
    "- Fill NA/NaN values by propagating the last valid observation to next valid."
   ]
  },
  {
   "cell_type": "code",
   "execution_count": 174,
   "id": "a53abae4",
   "metadata": {},
   "outputs": [
    {
     "data": {
      "text/html": [
       "<div>\n",
       "<style scoped>\n",
       "    .dataframe tbody tr th:only-of-type {\n",
       "        vertical-align: middle;\n",
       "    }\n",
       "\n",
       "    .dataframe tbody tr th {\n",
       "        vertical-align: top;\n",
       "    }\n",
       "\n",
       "    .dataframe thead th {\n",
       "        text-align: right;\n",
       "    }\n",
       "</style>\n",
       "<table border=\"1\" class=\"dataframe\">\n",
       "  <thead>\n",
       "    <tr style=\"text-align: right;\">\n",
       "      <th></th>\n",
       "      <th>A</th>\n",
       "      <th>B</th>\n",
       "      <th>C</th>\n",
       "      <th>D</th>\n",
       "    </tr>\n",
       "  </thead>\n",
       "  <tbody>\n",
       "    <tr>\n",
       "      <th>0</th>\n",
       "      <td>NaN</td>\n",
       "      <td>2.0E+00</td>\n",
       "      <td>NaN</td>\n",
       "      <td>0.0E+00</td>\n",
       "    </tr>\n",
       "    <tr>\n",
       "      <th>1</th>\n",
       "      <td>3.0E+00</td>\n",
       "      <td>4.0E+00</td>\n",
       "      <td>NaN</td>\n",
       "      <td>1.0E+00</td>\n",
       "    </tr>\n",
       "    <tr>\n",
       "      <th>2</th>\n",
       "      <td>NaN</td>\n",
       "      <td>NaN</td>\n",
       "      <td>NaN</td>\n",
       "      <td>NaN</td>\n",
       "    </tr>\n",
       "    <tr>\n",
       "      <th>3</th>\n",
       "      <td>NaN</td>\n",
       "      <td>3.0E+00</td>\n",
       "      <td>NaN</td>\n",
       "      <td>4.0E+00</td>\n",
       "    </tr>\n",
       "  </tbody>\n",
       "</table>\n",
       "</div>"
      ],
      "text/plain": [
       "         A        B   C        D\n",
       "0      NaN  2.0E+00 NaN  0.0E+00\n",
       "1  3.0E+00  4.0E+00 NaN  1.0E+00\n",
       "2      NaN      NaN NaN      NaN\n",
       "3      NaN  3.0E+00 NaN  4.0E+00"
      ]
     },
     "metadata": {},
     "output_type": "display_data"
    },
    {
     "data": {
      "text/html": [
       "<div>\n",
       "<style scoped>\n",
       "    .dataframe tbody tr th:only-of-type {\n",
       "        vertical-align: middle;\n",
       "    }\n",
       "\n",
       "    .dataframe tbody tr th {\n",
       "        vertical-align: top;\n",
       "    }\n",
       "\n",
       "    .dataframe thead th {\n",
       "        text-align: right;\n",
       "    }\n",
       "</style>\n",
       "<table border=\"1\" class=\"dataframe\">\n",
       "  <thead>\n",
       "    <tr style=\"text-align: right;\">\n",
       "      <th></th>\n",
       "      <th>A</th>\n",
       "      <th>B</th>\n",
       "      <th>C</th>\n",
       "      <th>D</th>\n",
       "    </tr>\n",
       "  </thead>\n",
       "  <tbody>\n",
       "    <tr>\n",
       "      <th>0</th>\n",
       "      <td>NaN</td>\n",
       "      <td>2.0E+00</td>\n",
       "      <td>NaN</td>\n",
       "      <td>0.0E+00</td>\n",
       "    </tr>\n",
       "    <tr>\n",
       "      <th>1</th>\n",
       "      <td>3.0E+00</td>\n",
       "      <td>4.0E+00</td>\n",
       "      <td>NaN</td>\n",
       "      <td>1.0E+00</td>\n",
       "    </tr>\n",
       "    <tr>\n",
       "      <th>2</th>\n",
       "      <td>3.0E+00</td>\n",
       "      <td>4.0E+00</td>\n",
       "      <td>NaN</td>\n",
       "      <td>1.0E+00</td>\n",
       "    </tr>\n",
       "    <tr>\n",
       "      <th>3</th>\n",
       "      <td>3.0E+00</td>\n",
       "      <td>3.0E+00</td>\n",
       "      <td>NaN</td>\n",
       "      <td>4.0E+00</td>\n",
       "    </tr>\n",
       "  </tbody>\n",
       "</table>\n",
       "</div>"
      ],
      "text/plain": [
       "         A        B   C        D\n",
       "0      NaN  2.0E+00 NaN  0.0E+00\n",
       "1  3.0E+00  4.0E+00 NaN  1.0E+00\n",
       "2  3.0E+00  4.0E+00 NaN  1.0E+00\n",
       "3  3.0E+00  3.0E+00 NaN  4.0E+00"
      ]
     },
     "metadata": {},
     "output_type": "display_data"
    }
   ],
   "source": [
    "df = pd.DataFrame([[np.nan, 2, np.nan, 0],\n",
    "                   [3, 4, np.nan, 1],\n",
    "                   [np.nan, np.nan, np.nan, np.nan],\n",
    "                   [np.nan, 3, np.nan, 4]],\n",
    "                  columns=list(\"ABCD\"))\n",
    "display(df)\n",
    "display(df.ffill())"
   ]
  },
  {
   "cell_type": "markdown",
   "id": "b482200b",
   "metadata": {},
   "source": [
    "# fillna\n",
    "- Fill NA/NaN values using the specified method."
   ]
  },
  {
   "cell_type": "code",
   "execution_count": 175,
   "id": "85c12ea5",
   "metadata": {},
   "outputs": [
    {
     "data": {
      "text/html": [
       "<div>\n",
       "<style scoped>\n",
       "    .dataframe tbody tr th:only-of-type {\n",
       "        vertical-align: middle;\n",
       "    }\n",
       "\n",
       "    .dataframe tbody tr th {\n",
       "        vertical-align: top;\n",
       "    }\n",
       "\n",
       "    .dataframe thead th {\n",
       "        text-align: right;\n",
       "    }\n",
       "</style>\n",
       "<table border=\"1\" class=\"dataframe\">\n",
       "  <thead>\n",
       "    <tr style=\"text-align: right;\">\n",
       "      <th></th>\n",
       "      <th>A</th>\n",
       "      <th>B</th>\n",
       "      <th>C</th>\n",
       "      <th>D</th>\n",
       "    </tr>\n",
       "  </thead>\n",
       "  <tbody>\n",
       "    <tr>\n",
       "      <th>0</th>\n",
       "      <td>NaN</td>\n",
       "      <td>2.0E+00</td>\n",
       "      <td>NaN</td>\n",
       "      <td>0.0E+00</td>\n",
       "    </tr>\n",
       "    <tr>\n",
       "      <th>1</th>\n",
       "      <td>3.0E+00</td>\n",
       "      <td>4.0E+00</td>\n",
       "      <td>NaN</td>\n",
       "      <td>1.0E+00</td>\n",
       "    </tr>\n",
       "    <tr>\n",
       "      <th>2</th>\n",
       "      <td>NaN</td>\n",
       "      <td>NaN</td>\n",
       "      <td>NaN</td>\n",
       "      <td>NaN</td>\n",
       "    </tr>\n",
       "    <tr>\n",
       "      <th>3</th>\n",
       "      <td>NaN</td>\n",
       "      <td>3.0E+00</td>\n",
       "      <td>NaN</td>\n",
       "      <td>4.0E+00</td>\n",
       "    </tr>\n",
       "  </tbody>\n",
       "</table>\n",
       "</div>"
      ],
      "text/plain": [
       "         A        B   C        D\n",
       "0      NaN  2.0E+00 NaN  0.0E+00\n",
       "1  3.0E+00  4.0E+00 NaN  1.0E+00\n",
       "2      NaN      NaN NaN      NaN\n",
       "3      NaN  3.0E+00 NaN  4.0E+00"
      ]
     },
     "metadata": {},
     "output_type": "display_data"
    },
    {
     "data": {
      "text/html": [
       "<div>\n",
       "<style scoped>\n",
       "    .dataframe tbody tr th:only-of-type {\n",
       "        vertical-align: middle;\n",
       "    }\n",
       "\n",
       "    .dataframe tbody tr th {\n",
       "        vertical-align: top;\n",
       "    }\n",
       "\n",
       "    .dataframe thead th {\n",
       "        text-align: right;\n",
       "    }\n",
       "</style>\n",
       "<table border=\"1\" class=\"dataframe\">\n",
       "  <thead>\n",
       "    <tr style=\"text-align: right;\">\n",
       "      <th></th>\n",
       "      <th>A</th>\n",
       "      <th>B</th>\n",
       "      <th>C</th>\n",
       "      <th>D</th>\n",
       "    </tr>\n",
       "  </thead>\n",
       "  <tbody>\n",
       "    <tr>\n",
       "      <th>0</th>\n",
       "      <td>3.0E+00</td>\n",
       "      <td>2.0E+00</td>\n",
       "      <td>3.0E+00</td>\n",
       "      <td>0.0E+00</td>\n",
       "    </tr>\n",
       "    <tr>\n",
       "      <th>1</th>\n",
       "      <td>3.0E+00</td>\n",
       "      <td>4.0E+00</td>\n",
       "      <td>3.0E+00</td>\n",
       "      <td>1.0E+00</td>\n",
       "    </tr>\n",
       "    <tr>\n",
       "      <th>2</th>\n",
       "      <td>3.0E+00</td>\n",
       "      <td>3.0E+00</td>\n",
       "      <td>3.0E+00</td>\n",
       "      <td>3.0E+00</td>\n",
       "    </tr>\n",
       "    <tr>\n",
       "      <th>3</th>\n",
       "      <td>3.0E+00</td>\n",
       "      <td>3.0E+00</td>\n",
       "      <td>3.0E+00</td>\n",
       "      <td>4.0E+00</td>\n",
       "    </tr>\n",
       "  </tbody>\n",
       "</table>\n",
       "</div>"
      ],
      "text/plain": [
       "         A        B        C        D\n",
       "0  3.0E+00  2.0E+00  3.0E+00  0.0E+00\n",
       "1  3.0E+00  4.0E+00  3.0E+00  1.0E+00\n",
       "2  3.0E+00  3.0E+00  3.0E+00  3.0E+00\n",
       "3  3.0E+00  3.0E+00  3.0E+00  4.0E+00"
      ]
     },
     "metadata": {},
     "output_type": "display_data"
    }
   ],
   "source": [
    "df = pd.DataFrame([[np.nan, 2, np.nan, 0],\n",
    "                   [3, 4, np.nan, 1],\n",
    "                   [np.nan, np.nan, np.nan, np.nan],\n",
    "                   [np.nan, 3, np.nan, 4]],\n",
    "                  columns=list(\"ABCD\"))\n",
    "display(df)\n",
    "display(df.fillna(3))"
   ]
  },
  {
   "cell_type": "markdown",
   "id": "5a25076b",
   "metadata": {},
   "source": [
    "# filter\n",
    "- Subset the dataframe rows or columns according to the specified index labels.\n",
    "- Note that this routine does not filter a dataframe on its contents. The filter is applied to the labels of the index."
   ]
  },
  {
   "cell_type": "code",
   "execution_count": 177,
   "id": "d950cf2b",
   "metadata": {},
   "outputs": [
    {
     "data": {
      "text/html": [
       "<div>\n",
       "<style scoped>\n",
       "    .dataframe tbody tr th:only-of-type {\n",
       "        vertical-align: middle;\n",
       "    }\n",
       "\n",
       "    .dataframe tbody tr th {\n",
       "        vertical-align: top;\n",
       "    }\n",
       "\n",
       "    .dataframe thead th {\n",
       "        text-align: right;\n",
       "    }\n",
       "</style>\n",
       "<table border=\"1\" class=\"dataframe\">\n",
       "  <thead>\n",
       "    <tr style=\"text-align: right;\">\n",
       "      <th></th>\n",
       "      <th>one</th>\n",
       "      <th>two</th>\n",
       "      <th>three</th>\n",
       "    </tr>\n",
       "  </thead>\n",
       "  <tbody>\n",
       "    <tr>\n",
       "      <th>mouse</th>\n",
       "      <td>1</td>\n",
       "      <td>2</td>\n",
       "      <td>3</td>\n",
       "    </tr>\n",
       "    <tr>\n",
       "      <th>rabbit</th>\n",
       "      <td>4</td>\n",
       "      <td>5</td>\n",
       "      <td>6</td>\n",
       "    </tr>\n",
       "  </tbody>\n",
       "</table>\n",
       "</div>"
      ],
      "text/plain": [
       "        one  two  three\n",
       "mouse     1    2      3\n",
       "rabbit    4    5      6"
      ]
     },
     "metadata": {},
     "output_type": "display_data"
    },
    {
     "data": {
      "text/html": [
       "<div>\n",
       "<style scoped>\n",
       "    .dataframe tbody tr th:only-of-type {\n",
       "        vertical-align: middle;\n",
       "    }\n",
       "\n",
       "    .dataframe tbody tr th {\n",
       "        vertical-align: top;\n",
       "    }\n",
       "\n",
       "    .dataframe thead th {\n",
       "        text-align: right;\n",
       "    }\n",
       "</style>\n",
       "<table border=\"1\" class=\"dataframe\">\n",
       "  <thead>\n",
       "    <tr style=\"text-align: right;\">\n",
       "      <th></th>\n",
       "      <th>one</th>\n",
       "      <th>three</th>\n",
       "    </tr>\n",
       "  </thead>\n",
       "  <tbody>\n",
       "    <tr>\n",
       "      <th>mouse</th>\n",
       "      <td>1</td>\n",
       "      <td>3</td>\n",
       "    </tr>\n",
       "    <tr>\n",
       "      <th>rabbit</th>\n",
       "      <td>4</td>\n",
       "      <td>6</td>\n",
       "    </tr>\n",
       "  </tbody>\n",
       "</table>\n",
       "</div>"
      ],
      "text/plain": [
       "        one  three\n",
       "mouse     1      3\n",
       "rabbit    4      6"
      ]
     },
     "metadata": {},
     "output_type": "display_data"
    }
   ],
   "source": [
    "df = pd.DataFrame(np.array(([1, 2, 3], [4, 5, 6])),\n",
    "                  index=['mouse', 'rabbit'],\n",
    "                  columns=['one', 'two', 'three'])\n",
    "display(df)\n",
    "display(df.filter(items=['one', 'three']))"
   ]
  },
  {
   "cell_type": "markdown",
   "id": "ab93f231",
   "metadata": {},
   "source": [
    "# first_valid_index\n",
    "- Return index for first non-NA value or None, if no non-NA value is found."
   ]
  },
  {
   "cell_type": "code",
   "execution_count": 179,
   "id": "850f7349",
   "metadata": {},
   "outputs": [
    {
     "data": {
      "text/plain": [
       "1"
      ]
     },
     "metadata": {},
     "output_type": "display_data"
    },
    {
     "data": {
      "text/html": [
       "<div>\n",
       "<style scoped>\n",
       "    .dataframe tbody tr th:only-of-type {\n",
       "        vertical-align: middle;\n",
       "    }\n",
       "\n",
       "    .dataframe tbody tr th {\n",
       "        vertical-align: top;\n",
       "    }\n",
       "\n",
       "    .dataframe thead th {\n",
       "        text-align: right;\n",
       "    }\n",
       "</style>\n",
       "<table border=\"1\" class=\"dataframe\">\n",
       "  <thead>\n",
       "    <tr style=\"text-align: right;\">\n",
       "      <th></th>\n",
       "      <th>A</th>\n",
       "      <th>B</th>\n",
       "    </tr>\n",
       "  </thead>\n",
       "  <tbody>\n",
       "    <tr>\n",
       "      <th>0</th>\n",
       "      <td>NaN</td>\n",
       "      <td>NaN</td>\n",
       "    </tr>\n",
       "    <tr>\n",
       "      <th>1</th>\n",
       "      <td>NaN</td>\n",
       "      <td>3.0E+00</td>\n",
       "    </tr>\n",
       "    <tr>\n",
       "      <th>2</th>\n",
       "      <td>2.0E+00</td>\n",
       "      <td>4.0E+00</td>\n",
       "    </tr>\n",
       "  </tbody>\n",
       "</table>\n",
       "</div>"
      ],
      "text/plain": [
       "         A        B\n",
       "0      NaN      NaN\n",
       "1      NaN  3.0E+00\n",
       "2  2.0E+00  4.0E+00"
      ]
     },
     "metadata": {},
     "output_type": "display_data"
    }
   ],
   "source": [
    "s = pd.Series([None, 3, 4])\n",
    "display(s.first_valid_index())\n",
    "df = pd.DataFrame({'A': [None, None, 2], 'B': [None, 3, 4]})\n",
    "display(df)"
   ]
  },
  {
   "cell_type": "markdown",
   "id": "a1d021c6",
   "metadata": {},
   "source": [
    "# flags\n",
    "- Get the properties associated with this pandas object.\n",
    "- The available flags are: Flags.allows_duplicate_labels"
   ]
  },
  {
   "cell_type": "code",
   "execution_count": 180,
   "id": "62554482",
   "metadata": {},
   "outputs": [
    {
     "data": {
      "text/plain": [
       "<Flags(allows_duplicate_labels=True)>"
      ]
     },
     "execution_count": 180,
     "metadata": {},
     "output_type": "execute_result"
    }
   ],
   "source": [
    "df = pd.DataFrame({\"A\": [1, 2]})\n",
    "df.flags"
   ]
  },
  {
   "cell_type": "markdown",
   "id": "41604377",
   "metadata": {},
   "source": [
    "# floordiv\n",
    "- Get Integer division of dataframe and other, element-wise (binary operator floordiv).\n",
    "- Equivalent to dataframe // other, but with support to substitute a fill_value for missing data in one of the inputs. With reverse version, rfloordiv.\n",
    "- Among flexible wrappers (add, sub, mul, div, floordiv, mod, pow) to arithmetic operators: +, -, *, /, //, %, **."
   ]
  },
  {
   "cell_type": "code",
   "execution_count": 181,
   "id": "57b45102",
   "metadata": {},
   "outputs": [
    {
     "data": {
      "text/html": [
       "<div>\n",
       "<style scoped>\n",
       "    .dataframe tbody tr th:only-of-type {\n",
       "        vertical-align: middle;\n",
       "    }\n",
       "\n",
       "    .dataframe tbody tr th {\n",
       "        vertical-align: top;\n",
       "    }\n",
       "\n",
       "    .dataframe thead th {\n",
       "        text-align: right;\n",
       "    }\n",
       "</style>\n",
       "<table border=\"1\" class=\"dataframe\">\n",
       "  <thead>\n",
       "    <tr style=\"text-align: right;\">\n",
       "      <th></th>\n",
       "      <th>angles</th>\n",
       "      <th>degrees</th>\n",
       "    </tr>\n",
       "  </thead>\n",
       "  <tbody>\n",
       "    <tr>\n",
       "      <th>circle</th>\n",
       "      <td>0</td>\n",
       "      <td>360</td>\n",
       "    </tr>\n",
       "    <tr>\n",
       "      <th>triangle</th>\n",
       "      <td>3</td>\n",
       "      <td>180</td>\n",
       "    </tr>\n",
       "    <tr>\n",
       "      <th>rectangle</th>\n",
       "      <td>4</td>\n",
       "      <td>360</td>\n",
       "    </tr>\n",
       "  </tbody>\n",
       "</table>\n",
       "</div>"
      ],
      "text/plain": [
       "           angles  degrees\n",
       "circle          0      360\n",
       "triangle        3      180\n",
       "rectangle       4      360"
      ]
     },
     "metadata": {},
     "output_type": "display_data"
    },
    {
     "data": {
      "text/html": [
       "<div>\n",
       "<style scoped>\n",
       "    .dataframe tbody tr th:only-of-type {\n",
       "        vertical-align: middle;\n",
       "    }\n",
       "\n",
       "    .dataframe tbody tr th {\n",
       "        vertical-align: top;\n",
       "    }\n",
       "\n",
       "    .dataframe thead th {\n",
       "        text-align: right;\n",
       "    }\n",
       "</style>\n",
       "<table border=\"1\" class=\"dataframe\">\n",
       "  <thead>\n",
       "    <tr style=\"text-align: right;\">\n",
       "      <th></th>\n",
       "      <th>angles</th>\n",
       "      <th>degrees</th>\n",
       "    </tr>\n",
       "  </thead>\n",
       "  <tbody>\n",
       "    <tr>\n",
       "      <th>circle</th>\n",
       "      <td>0</td>\n",
       "      <td>36</td>\n",
       "    </tr>\n",
       "    <tr>\n",
       "      <th>triangle</th>\n",
       "      <td>0</td>\n",
       "      <td>18</td>\n",
       "    </tr>\n",
       "    <tr>\n",
       "      <th>rectangle</th>\n",
       "      <td>0</td>\n",
       "      <td>36</td>\n",
       "    </tr>\n",
       "  </tbody>\n",
       "</table>\n",
       "</div>"
      ],
      "text/plain": [
       "           angles  degrees\n",
       "circle          0       36\n",
       "triangle        0       18\n",
       "rectangle       0       36"
      ]
     },
     "metadata": {},
     "output_type": "display_data"
    }
   ],
   "source": [
    "df = pd.DataFrame({'angles': [0, 3, 4],\n",
    "                   'degrees': [360, 180, 360]},\n",
    "                  index=['circle', 'triangle', 'rectangle'])\n",
    "display(df)\n",
    "display(df.floordiv(10))"
   ]
  },
  {
   "cell_type": "markdown",
   "id": "73bf4436",
   "metadata": {},
   "source": [
    "# from_dict\n",
    "- Construct DataFrame from dict of array-like or dicts.\n",
    "- Creates DataFrame object from dictionary by columns or by index allowing dtype specification."
   ]
  },
  {
   "cell_type": "code",
   "execution_count": 183,
   "id": "d62a4e98",
   "metadata": {},
   "outputs": [
    {
     "data": {
      "text/html": [
       "<div>\n",
       "<style scoped>\n",
       "    .dataframe tbody tr th:only-of-type {\n",
       "        vertical-align: middle;\n",
       "    }\n",
       "\n",
       "    .dataframe tbody tr th {\n",
       "        vertical-align: top;\n",
       "    }\n",
       "\n",
       "    .dataframe thead th {\n",
       "        text-align: right;\n",
       "    }\n",
       "</style>\n",
       "<table border=\"1\" class=\"dataframe\">\n",
       "  <thead>\n",
       "    <tr style=\"text-align: right;\">\n",
       "      <th></th>\n",
       "      <th>col_1</th>\n",
       "      <th>col_2</th>\n",
       "    </tr>\n",
       "  </thead>\n",
       "  <tbody>\n",
       "    <tr>\n",
       "      <th>0</th>\n",
       "      <td>3</td>\n",
       "      <td>a</td>\n",
       "    </tr>\n",
       "    <tr>\n",
       "      <th>1</th>\n",
       "      <td>2</td>\n",
       "      <td>b</td>\n",
       "    </tr>\n",
       "    <tr>\n",
       "      <th>2</th>\n",
       "      <td>1</td>\n",
       "      <td>c</td>\n",
       "    </tr>\n",
       "    <tr>\n",
       "      <th>3</th>\n",
       "      <td>0</td>\n",
       "      <td>d</td>\n",
       "    </tr>\n",
       "  </tbody>\n",
       "</table>\n",
       "</div>"
      ],
      "text/plain": [
       "   col_1 col_2\n",
       "0      3     a\n",
       "1      2     b\n",
       "2      1     c\n",
       "3      0     d"
      ]
     },
     "metadata": {},
     "output_type": "display_data"
    },
    {
     "data": {
      "text/html": [
       "<div>\n",
       "<style scoped>\n",
       "    .dataframe tbody tr th:only-of-type {\n",
       "        vertical-align: middle;\n",
       "    }\n",
       "\n",
       "    .dataframe tbody tr th {\n",
       "        vertical-align: top;\n",
       "    }\n",
       "\n",
       "    .dataframe thead th {\n",
       "        text-align: right;\n",
       "    }\n",
       "</style>\n",
       "<table border=\"1\" class=\"dataframe\">\n",
       "  <thead>\n",
       "    <tr style=\"text-align: right;\">\n",
       "      <th></th>\n",
       "      <th>col_1</th>\n",
       "      <th>col_2</th>\n",
       "    </tr>\n",
       "  </thead>\n",
       "  <tbody>\n",
       "    <tr>\n",
       "      <th>0</th>\n",
       "      <td>3</td>\n",
       "      <td>a</td>\n",
       "    </tr>\n",
       "    <tr>\n",
       "      <th>1</th>\n",
       "      <td>2</td>\n",
       "      <td>b</td>\n",
       "    </tr>\n",
       "    <tr>\n",
       "      <th>2</th>\n",
       "      <td>1</td>\n",
       "      <td>c</td>\n",
       "    </tr>\n",
       "    <tr>\n",
       "      <th>3</th>\n",
       "      <td>0</td>\n",
       "      <td>d</td>\n",
       "    </tr>\n",
       "  </tbody>\n",
       "</table>\n",
       "</div>"
      ],
      "text/plain": [
       "   col_1 col_2\n",
       "0      3     a\n",
       "1      2     b\n",
       "2      1     c\n",
       "3      0     d"
      ]
     },
     "metadata": {},
     "output_type": "display_data"
    }
   ],
   "source": [
    "data = {'col_1': [3, 2, 1, 0], 'col_2': ['a', 'b', 'c', 'd']}\n",
    "display(pd.DataFrame.from_dict(data))\n",
    "display(pd.DataFrame(data))"
   ]
  },
  {
   "cell_type": "markdown",
   "id": "64ca58a9",
   "metadata": {},
   "source": [
    "# from_records\n",
    "- Convert structured or record ndarray to DataFrame.\n",
    "- Creates a DataFrame object from a structured ndarray, sequence of tuples or dicts, or DataFrame."
   ]
  },
  {
   "cell_type": "code",
   "execution_count": 184,
   "id": "d1599880",
   "metadata": {},
   "outputs": [
    {
     "data": {
      "text/html": [
       "<div>\n",
       "<style scoped>\n",
       "    .dataframe tbody tr th:only-of-type {\n",
       "        vertical-align: middle;\n",
       "    }\n",
       "\n",
       "    .dataframe tbody tr th {\n",
       "        vertical-align: top;\n",
       "    }\n",
       "\n",
       "    .dataframe thead th {\n",
       "        text-align: right;\n",
       "    }\n",
       "</style>\n",
       "<table border=\"1\" class=\"dataframe\">\n",
       "  <thead>\n",
       "    <tr style=\"text-align: right;\">\n",
       "      <th></th>\n",
       "      <th>col_1</th>\n",
       "      <th>col_2</th>\n",
       "    </tr>\n",
       "  </thead>\n",
       "  <tbody>\n",
       "    <tr>\n",
       "      <th>0</th>\n",
       "      <td>3</td>\n",
       "      <td>a</td>\n",
       "    </tr>\n",
       "    <tr>\n",
       "      <th>1</th>\n",
       "      <td>2</td>\n",
       "      <td>b</td>\n",
       "    </tr>\n",
       "    <tr>\n",
       "      <th>2</th>\n",
       "      <td>1</td>\n",
       "      <td>c</td>\n",
       "    </tr>\n",
       "    <tr>\n",
       "      <th>3</th>\n",
       "      <td>0</td>\n",
       "      <td>d</td>\n",
       "    </tr>\n",
       "  </tbody>\n",
       "</table>\n",
       "</div>"
      ],
      "text/plain": [
       "   col_1 col_2\n",
       "0      3     a\n",
       "1      2     b\n",
       "2      1     c\n",
       "3      0     d"
      ]
     },
     "execution_count": 184,
     "metadata": {},
     "output_type": "execute_result"
    }
   ],
   "source": [
    "data = np.array([(3, 'a'), (2, 'b'), (1, 'c'), (0, 'd')],\n",
    "                dtype=[('col_1', 'i4'), ('col_2', 'U1')])\n",
    "pd.DataFrame.from_records(data)"
   ]
  },
  {
   "cell_type": "markdown",
   "id": "99a06cb3",
   "metadata": {},
   "source": [
    "# ge\n",
    "- Get Greater than or equal to of dataframe and other, element-wise (binary operator ge).\n",
    "- Among flexible wrappers (eq, ne, le, lt, ge, gt) to comparison operators.\n",
    "- Equivalent to ==, !=, <=, <, >=, > with support to choose axis (rows or columns) and level for comparison."
   ]
  },
  {
   "cell_type": "code",
   "execution_count": 185,
   "id": "b0b55729",
   "metadata": {},
   "outputs": [
    {
     "data": {
      "text/html": [
       "<div>\n",
       "<style scoped>\n",
       "    .dataframe tbody tr th:only-of-type {\n",
       "        vertical-align: middle;\n",
       "    }\n",
       "\n",
       "    .dataframe tbody tr th {\n",
       "        vertical-align: top;\n",
       "    }\n",
       "\n",
       "    .dataframe thead th {\n",
       "        text-align: right;\n",
       "    }\n",
       "</style>\n",
       "<table border=\"1\" class=\"dataframe\">\n",
       "  <thead>\n",
       "    <tr style=\"text-align: right;\">\n",
       "      <th></th>\n",
       "      <th>cost</th>\n",
       "      <th>revenue</th>\n",
       "    </tr>\n",
       "  </thead>\n",
       "  <tbody>\n",
       "    <tr>\n",
       "      <th>A</th>\n",
       "      <td>250</td>\n",
       "      <td>100</td>\n",
       "    </tr>\n",
       "    <tr>\n",
       "      <th>B</th>\n",
       "      <td>150</td>\n",
       "      <td>250</td>\n",
       "    </tr>\n",
       "    <tr>\n",
       "      <th>C</th>\n",
       "      <td>100</td>\n",
       "      <td>300</td>\n",
       "    </tr>\n",
       "  </tbody>\n",
       "</table>\n",
       "</div>"
      ],
      "text/plain": [
       "   cost  revenue\n",
       "A   250      100\n",
       "B   150      250\n",
       "C   100      300"
      ]
     },
     "metadata": {},
     "output_type": "display_data"
    },
    {
     "data": {
      "text/html": [
       "<div>\n",
       "<style scoped>\n",
       "    .dataframe tbody tr th:only-of-type {\n",
       "        vertical-align: middle;\n",
       "    }\n",
       "\n",
       "    .dataframe tbody tr th {\n",
       "        vertical-align: top;\n",
       "    }\n",
       "\n",
       "    .dataframe thead th {\n",
       "        text-align: right;\n",
       "    }\n",
       "</style>\n",
       "<table border=\"1\" class=\"dataframe\">\n",
       "  <thead>\n",
       "    <tr style=\"text-align: right;\">\n",
       "      <th></th>\n",
       "      <th>cost</th>\n",
       "      <th>revenue</th>\n",
       "    </tr>\n",
       "  </thead>\n",
       "  <tbody>\n",
       "    <tr>\n",
       "      <th>A</th>\n",
       "      <td>True</td>\n",
       "      <td>True</td>\n",
       "    </tr>\n",
       "    <tr>\n",
       "      <th>B</th>\n",
       "      <td>True</td>\n",
       "      <td>True</td>\n",
       "    </tr>\n",
       "    <tr>\n",
       "      <th>C</th>\n",
       "      <td>True</td>\n",
       "      <td>True</td>\n",
       "    </tr>\n",
       "  </tbody>\n",
       "</table>\n",
       "</div>"
      ],
      "text/plain": [
       "   cost  revenue\n",
       "A  True     True\n",
       "B  True     True\n",
       "C  True     True"
      ]
     },
     "metadata": {},
     "output_type": "display_data"
    },
    {
     "data": {
      "text/html": [
       "<div>\n",
       "<style scoped>\n",
       "    .dataframe tbody tr th:only-of-type {\n",
       "        vertical-align: middle;\n",
       "    }\n",
       "\n",
       "    .dataframe tbody tr th {\n",
       "        vertical-align: top;\n",
       "    }\n",
       "\n",
       "    .dataframe thead th {\n",
       "        text-align: right;\n",
       "    }\n",
       "</style>\n",
       "<table border=\"1\" class=\"dataframe\">\n",
       "  <thead>\n",
       "    <tr style=\"text-align: right;\">\n",
       "      <th></th>\n",
       "      <th>cost</th>\n",
       "      <th>revenue</th>\n",
       "    </tr>\n",
       "  </thead>\n",
       "  <tbody>\n",
       "    <tr>\n",
       "      <th>A</th>\n",
       "      <td>True</td>\n",
       "      <td>False</td>\n",
       "    </tr>\n",
       "    <tr>\n",
       "      <th>B</th>\n",
       "      <td>False</td>\n",
       "      <td>True</td>\n",
       "    </tr>\n",
       "    <tr>\n",
       "      <th>C</th>\n",
       "      <td>False</td>\n",
       "      <td>True</td>\n",
       "    </tr>\n",
       "  </tbody>\n",
       "</table>\n",
       "</div>"
      ],
      "text/plain": [
       "    cost  revenue\n",
       "A   True    False\n",
       "B  False     True\n",
       "C  False     True"
      ]
     },
     "metadata": {},
     "output_type": "display_data"
    }
   ],
   "source": [
    "df = pd.DataFrame({'cost': [250, 150, 100],\n",
    "                   'revenue': [100, 250, 300]},\n",
    "                  index=['A', 'B', 'C'])\n",
    "display(df)\n",
    "display(df.ge(100))\n",
    "display(df > 200)"
   ]
  },
  {
   "cell_type": "markdown",
   "id": "fed4461c",
   "metadata": {},
   "source": [
    "# get\n",
    "- Get item from object for given key (ex: DataFrame column).\n",
    "- Returns default value if not found."
   ]
  },
  {
   "cell_type": "code",
   "execution_count": 186,
   "id": "fd0e928c",
   "metadata": {},
   "outputs": [
    {
     "data": {
      "text/html": [
       "<div>\n",
       "<style scoped>\n",
       "    .dataframe tbody tr th:only-of-type {\n",
       "        vertical-align: middle;\n",
       "    }\n",
       "\n",
       "    .dataframe tbody tr th {\n",
       "        vertical-align: top;\n",
       "    }\n",
       "\n",
       "    .dataframe thead th {\n",
       "        text-align: right;\n",
       "    }\n",
       "</style>\n",
       "<table border=\"1\" class=\"dataframe\">\n",
       "  <thead>\n",
       "    <tr style=\"text-align: right;\">\n",
       "      <th></th>\n",
       "      <th>temp_celsius</th>\n",
       "      <th>temp_fahrenheit</th>\n",
       "      <th>windspeed</th>\n",
       "    </tr>\n",
       "  </thead>\n",
       "  <tbody>\n",
       "    <tr>\n",
       "      <th>2014-02-12</th>\n",
       "      <td>24.3E+00</td>\n",
       "      <td>75.7E+00</td>\n",
       "      <td>high</td>\n",
       "    </tr>\n",
       "    <tr>\n",
       "      <th>2014-02-13</th>\n",
       "      <td>31.0E+00</td>\n",
       "      <td>87.8E+00</td>\n",
       "      <td>high</td>\n",
       "    </tr>\n",
       "    <tr>\n",
       "      <th>2014-02-14</th>\n",
       "      <td>22.0E+00</td>\n",
       "      <td>71.6E+00</td>\n",
       "      <td>medium</td>\n",
       "    </tr>\n",
       "    <tr>\n",
       "      <th>2014-02-15</th>\n",
       "      <td>35.0E+00</td>\n",
       "      <td>95.0E+00</td>\n",
       "      <td>medium</td>\n",
       "    </tr>\n",
       "  </tbody>\n",
       "</table>\n",
       "</div>"
      ],
      "text/plain": [
       "            temp_celsius  temp_fahrenheit windspeed\n",
       "2014-02-12      24.3E+00         75.7E+00      high\n",
       "2014-02-13      31.0E+00         87.8E+00      high\n",
       "2014-02-14      22.0E+00         71.6E+00    medium\n",
       "2014-02-15      35.0E+00         95.0E+00    medium"
      ]
     },
     "metadata": {},
     "output_type": "display_data"
    },
    {
     "data": {
      "text/html": [
       "<div>\n",
       "<style scoped>\n",
       "    .dataframe tbody tr th:only-of-type {\n",
       "        vertical-align: middle;\n",
       "    }\n",
       "\n",
       "    .dataframe tbody tr th {\n",
       "        vertical-align: top;\n",
       "    }\n",
       "\n",
       "    .dataframe thead th {\n",
       "        text-align: right;\n",
       "    }\n",
       "</style>\n",
       "<table border=\"1\" class=\"dataframe\">\n",
       "  <thead>\n",
       "    <tr style=\"text-align: right;\">\n",
       "      <th></th>\n",
       "      <th>temp_celsius</th>\n",
       "      <th>temp_fahrenheit</th>\n",
       "    </tr>\n",
       "  </thead>\n",
       "  <tbody>\n",
       "    <tr>\n",
       "      <th>2014-02-12</th>\n",
       "      <td>24.3E+00</td>\n",
       "      <td>75.7E+00</td>\n",
       "    </tr>\n",
       "    <tr>\n",
       "      <th>2014-02-13</th>\n",
       "      <td>31.0E+00</td>\n",
       "      <td>87.8E+00</td>\n",
       "    </tr>\n",
       "    <tr>\n",
       "      <th>2014-02-14</th>\n",
       "      <td>22.0E+00</td>\n",
       "      <td>71.6E+00</td>\n",
       "    </tr>\n",
       "    <tr>\n",
       "      <th>2014-02-15</th>\n",
       "      <td>35.0E+00</td>\n",
       "      <td>95.0E+00</td>\n",
       "    </tr>\n",
       "  </tbody>\n",
       "</table>\n",
       "</div>"
      ],
      "text/plain": [
       "            temp_celsius  temp_fahrenheit\n",
       "2014-02-12      24.3E+00         75.7E+00\n",
       "2014-02-13      31.0E+00         87.8E+00\n",
       "2014-02-14      22.0E+00         71.6E+00\n",
       "2014-02-15      35.0E+00         95.0E+00"
      ]
     },
     "metadata": {},
     "output_type": "display_data"
    }
   ],
   "source": [
    "df = pd.DataFrame(\n",
    "    [\n",
    "        [24.3, 75.7, \"high\"],\n",
    "        [31, 87.8, \"high\"],\n",
    "        [22, 71.6, \"medium\"],\n",
    "        [35, 95, \"medium\"],\n",
    "    ],\n",
    "    columns=[\"temp_celsius\", \"temp_fahrenheit\", \"windspeed\"],\n",
    "    index=pd.date_range(start=\"2014-02-12\", end=\"2014-02-15\", freq=\"D\"),\n",
    ")\n",
    "display(df)\n",
    "display(df.get([\"temp_celsius\", \"temp_fahrenheit\"]))"
   ]
  },
  {
   "cell_type": "markdown",
   "id": "3521661a",
   "metadata": {},
   "source": [
    "# head\n",
    "- Return the first n rows.\n",
    "- This function returns the first n rows for the object based on position. It is useful for quickly testing if your object has the right type of data in it.\n",
    "- For negative values of n, this function returns all rows except the last |n| rows, equivalent to df[:n].\n",
    "- If n is larger than the number of rows, this function returns all rows."
   ]
  },
  {
   "cell_type": "code",
   "execution_count": 187,
   "id": "08d724ad",
   "metadata": {},
   "outputs": [
    {
     "data": {
      "text/html": [
       "<div>\n",
       "<style scoped>\n",
       "    .dataframe tbody tr th:only-of-type {\n",
       "        vertical-align: middle;\n",
       "    }\n",
       "\n",
       "    .dataframe tbody tr th {\n",
       "        vertical-align: top;\n",
       "    }\n",
       "\n",
       "    .dataframe thead th {\n",
       "        text-align: right;\n",
       "    }\n",
       "</style>\n",
       "<table border=\"1\" class=\"dataframe\">\n",
       "  <thead>\n",
       "    <tr style=\"text-align: right;\">\n",
       "      <th></th>\n",
       "      <th>temp_celsius</th>\n",
       "      <th>temp_fahrenheit</th>\n",
       "      <th>windspeed</th>\n",
       "    </tr>\n",
       "  </thead>\n",
       "  <tbody>\n",
       "    <tr>\n",
       "      <th>2014-02-12</th>\n",
       "      <td>24.3E+00</td>\n",
       "      <td>75.7E+00</td>\n",
       "      <td>high</td>\n",
       "    </tr>\n",
       "    <tr>\n",
       "      <th>2014-02-13</th>\n",
       "      <td>31.0E+00</td>\n",
       "      <td>87.8E+00</td>\n",
       "      <td>high</td>\n",
       "    </tr>\n",
       "    <tr>\n",
       "      <th>2014-02-14</th>\n",
       "      <td>22.0E+00</td>\n",
       "      <td>71.6E+00</td>\n",
       "      <td>medium</td>\n",
       "    </tr>\n",
       "    <tr>\n",
       "      <th>2014-02-15</th>\n",
       "      <td>35.0E+00</td>\n",
       "      <td>95.0E+00</td>\n",
       "      <td>medium</td>\n",
       "    </tr>\n",
       "  </tbody>\n",
       "</table>\n",
       "</div>"
      ],
      "text/plain": [
       "            temp_celsius  temp_fahrenheit windspeed\n",
       "2014-02-12      24.3E+00         75.7E+00      high\n",
       "2014-02-13      31.0E+00         87.8E+00      high\n",
       "2014-02-14      22.0E+00         71.6E+00    medium\n",
       "2014-02-15      35.0E+00         95.0E+00    medium"
      ]
     },
     "execution_count": 187,
     "metadata": {},
     "output_type": "execute_result"
    }
   ],
   "source": [
    "df.head()"
   ]
  },
  {
   "cell_type": "markdown",
   "id": "f88cf181",
   "metadata": {},
   "source": [
    "# hist\n",
    "- Make a histogram of the DataFrame’s columns.\n",
    "- A histogram is a representation of the distribution of data. This function calls matplotlib.pyplot.hist(), on each series in the DataFrame, resulting in one histogram per column."
   ]
  },
  {
   "cell_type": "code",
   "execution_count": 199,
   "id": "d4ad086f",
   "metadata": {},
   "outputs": [
    {
     "data": {
      "text/plain": [
       "<Figure size 640x480 with 0 Axes>"
      ]
     },
     "metadata": {},
     "output_type": "display_data"
    },
    {
     "data": {
      "image/png": "[encoded data removed]",
      "text/plain": [
       "<Figure size 640x480 with 2 Axes>"
      ]
     },
     "metadata": {},
     "output_type": "display_data"
    }
   ],
   "source": [
    "plt.clf() # Clears the figure\n",
    "data = {'length': [1.5, 0.5, 1.2, 0.9, 3],\n",
    "        'width': [0.7, 0.2, 0.15, 0.2, 1.1]}\n",
    "index = ['pig', 'rabbit', 'duck', 'chicken', 'horse']\n",
    "df = pd.DataFrame(data, index=index)\n",
    "hist = df.hist(bins=3)\n",
    "plt.show()"
   ]
  },
  {
   "cell_type": "markdown",
   "id": "3267b231",
   "metadata": {},
   "source": [
    "# iat\n",
    "- Access a single value for a row/column pair by integer position.\n",
    "- Similar to iloc, in that both provide integer-based lookups. Use iat if you only need to get or set a single value in a DataFrame or Series."
   ]
  },
  {
   "cell_type": "code",
   "execution_count": 200,
   "id": "9253cf17",
   "metadata": {},
   "outputs": [
    {
     "data": {
      "text/html": [
       "<div>\n",
       "<style scoped>\n",
       "    .dataframe tbody tr th:only-of-type {\n",
       "        vertical-align: middle;\n",
       "    }\n",
       "\n",
       "    .dataframe tbody tr th {\n",
       "        vertical-align: top;\n",
       "    }\n",
       "\n",
       "    .dataframe thead th {\n",
       "        text-align: right;\n",
       "    }\n",
       "</style>\n",
       "<table border=\"1\" class=\"dataframe\">\n",
       "  <thead>\n",
       "    <tr style=\"text-align: right;\">\n",
       "      <th></th>\n",
       "      <th>A</th>\n",
       "      <th>B</th>\n",
       "      <th>C</th>\n",
       "    </tr>\n",
       "  </thead>\n",
       "  <tbody>\n",
       "    <tr>\n",
       "      <th>0</th>\n",
       "      <td>0</td>\n",
       "      <td>2</td>\n",
       "      <td>3</td>\n",
       "    </tr>\n",
       "    <tr>\n",
       "      <th>1</th>\n",
       "      <td>0</td>\n",
       "      <td>4</td>\n",
       "      <td>1</td>\n",
       "    </tr>\n",
       "    <tr>\n",
       "      <th>2</th>\n",
       "      <td>10</td>\n",
       "      <td>20</td>\n",
       "      <td>30</td>\n",
       "    </tr>\n",
       "  </tbody>\n",
       "</table>\n",
       "</div>"
      ],
      "text/plain": [
       "    A   B   C\n",
       "0   0   2   3\n",
       "1   0   4   1\n",
       "2  10  20  30"
      ]
     },
     "metadata": {},
     "output_type": "display_data"
    },
    {
     "data": {
      "text/plain": [
       "np.int64(1)"
      ]
     },
     "execution_count": 200,
     "metadata": {},
     "output_type": "execute_result"
    }
   ],
   "source": [
    "df = pd.DataFrame([[0, 2, 3], [0, 4, 1], [10, 20, 30]],\n",
    "                  columns=['A', 'B', 'C'])\n",
    "display(df)\n",
    "df.iat[1, 2]\n"
   ]
  },
  {
   "cell_type": "markdown",
   "id": "fca05730",
   "metadata": {},
   "source": [
    "# idxmax\n",
    "- Return index of first occurrence of maximum over requested axis.\n",
    "- NA/null values are excluded."
   ]
  },
  {
   "cell_type": "code",
   "execution_count": 201,
   "id": "5bc5104c",
   "metadata": {},
   "outputs": [
    {
     "data": {
      "text/html": [
       "<div>\n",
       "<style scoped>\n",
       "    .dataframe tbody tr th:only-of-type {\n",
       "        vertical-align: middle;\n",
       "    }\n",
       "\n",
       "    .dataframe tbody tr th {\n",
       "        vertical-align: top;\n",
       "    }\n",
       "\n",
       "    .dataframe thead th {\n",
       "        text-align: right;\n",
       "    }\n",
       "</style>\n",
       "<table border=\"1\" class=\"dataframe\">\n",
       "  <thead>\n",
       "    <tr style=\"text-align: right;\">\n",
       "      <th></th>\n",
       "      <th>consumption</th>\n",
       "      <th>co2_emissions</th>\n",
       "    </tr>\n",
       "  </thead>\n",
       "  <tbody>\n",
       "    <tr>\n",
       "      <th>Pork</th>\n",
       "      <td>10.5E+00</td>\n",
       "      <td>37.2E+00</td>\n",
       "    </tr>\n",
       "    <tr>\n",
       "      <th>Wheat Products</th>\n",
       "      <td>103.1E+00</td>\n",
       "      <td>19.7E+00</td>\n",
       "    </tr>\n",
       "    <tr>\n",
       "      <th>Beef</th>\n",
       "      <td>55.5E+00</td>\n",
       "      <td>1.7E+03</td>\n",
       "    </tr>\n",
       "  </tbody>\n",
       "</table>\n",
       "</div>"
      ],
      "text/plain": [
       "                consumption  co2_emissions\n",
       "Pork               10.5E+00       37.2E+00\n",
       "Wheat Products    103.1E+00       19.7E+00\n",
       "Beef               55.5E+00        1.7E+03"
      ]
     },
     "metadata": {},
     "output_type": "display_data"
    },
    {
     "data": {
      "text/plain": [
       "consumption      Wheat Products\n",
       "co2_emissions              Beef\n",
       "dtype: object"
      ]
     },
     "metadata": {},
     "output_type": "display_data"
    }
   ],
   "source": [
    "df = pd.DataFrame({'consumption': [10.51, 103.11, 55.48],\n",
    "                    'co2_emissions': [37.2, 19.66, 1712]},\n",
    "                  index=['Pork', 'Wheat Products', 'Beef'])\n",
    "display(df)\n",
    "display(df.idxmax())"
   ]
  },
  {
   "cell_type": "markdown",
   "id": "1dd3def3",
   "metadata": {},
   "source": [
    "# idxmin\n",
    "- Return index of first occurrence of minimum over requested axis.\n",
    "- NA/null values are excluded."
   ]
  },
  {
   "cell_type": "code",
   "execution_count": 202,
   "id": "0df825d8",
   "metadata": {},
   "outputs": [
    {
     "data": {
      "text/html": [
       "<div>\n",
       "<style scoped>\n",
       "    .dataframe tbody tr th:only-of-type {\n",
       "        vertical-align: middle;\n",
       "    }\n",
       "\n",
       "    .dataframe tbody tr th {\n",
       "        vertical-align: top;\n",
       "    }\n",
       "\n",
       "    .dataframe thead th {\n",
       "        text-align: right;\n",
       "    }\n",
       "</style>\n",
       "<table border=\"1\" class=\"dataframe\">\n",
       "  <thead>\n",
       "    <tr style=\"text-align: right;\">\n",
       "      <th></th>\n",
       "      <th>consumption</th>\n",
       "      <th>co2_emissions</th>\n",
       "    </tr>\n",
       "  </thead>\n",
       "  <tbody>\n",
       "    <tr>\n",
       "      <th>Pork</th>\n",
       "      <td>10.5E+00</td>\n",
       "      <td>37.2E+00</td>\n",
       "    </tr>\n",
       "    <tr>\n",
       "      <th>Wheat Products</th>\n",
       "      <td>103.1E+00</td>\n",
       "      <td>19.7E+00</td>\n",
       "    </tr>\n",
       "    <tr>\n",
       "      <th>Beef</th>\n",
       "      <td>55.5E+00</td>\n",
       "      <td>1.7E+03</td>\n",
       "    </tr>\n",
       "  </tbody>\n",
       "</table>\n",
       "</div>"
      ],
      "text/plain": [
       "                consumption  co2_emissions\n",
       "Pork               10.5E+00       37.2E+00\n",
       "Wheat Products    103.1E+00       19.7E+00\n",
       "Beef               55.5E+00        1.7E+03"
      ]
     },
     "metadata": {},
     "output_type": "display_data"
    },
    {
     "data": {
      "text/plain": [
       "consumption                Pork\n",
       "co2_emissions    Wheat Products\n",
       "dtype: object"
      ]
     },
     "metadata": {},
     "output_type": "display_data"
    }
   ],
   "source": [
    "display(df)\n",
    "display(df.idxmin())"
   ]
  },
  {
   "cell_type": "markdown",
   "id": "7d0f01f6",
   "metadata": {},
   "source": [
    "# iloc\n",
    "- Purely integer-location based indexing for selection by position."
   ]
  },
  {
   "cell_type": "code",
   "execution_count": 203,
   "id": "617271cd",
   "metadata": {},
   "outputs": [
    {
     "data": {
      "text/html": [
       "<div>\n",
       "<style scoped>\n",
       "    .dataframe tbody tr th:only-of-type {\n",
       "        vertical-align: middle;\n",
       "    }\n",
       "\n",
       "    .dataframe tbody tr th {\n",
       "        vertical-align: top;\n",
       "    }\n",
       "\n",
       "    .dataframe thead th {\n",
       "        text-align: right;\n",
       "    }\n",
       "</style>\n",
       "<table border=\"1\" class=\"dataframe\">\n",
       "  <thead>\n",
       "    <tr style=\"text-align: right;\">\n",
       "      <th></th>\n",
       "      <th>a</th>\n",
       "      <th>b</th>\n",
       "      <th>c</th>\n",
       "      <th>d</th>\n",
       "    </tr>\n",
       "  </thead>\n",
       "  <tbody>\n",
       "    <tr>\n",
       "      <th>0</th>\n",
       "      <td>1</td>\n",
       "      <td>2</td>\n",
       "      <td>3</td>\n",
       "      <td>4</td>\n",
       "    </tr>\n",
       "    <tr>\n",
       "      <th>1</th>\n",
       "      <td>100</td>\n",
       "      <td>200</td>\n",
       "      <td>300</td>\n",
       "      <td>400</td>\n",
       "    </tr>\n",
       "    <tr>\n",
       "      <th>2</th>\n",
       "      <td>1000</td>\n",
       "      <td>2000</td>\n",
       "      <td>3000</td>\n",
       "      <td>4000</td>\n",
       "    </tr>\n",
       "  </tbody>\n",
       "</table>\n",
       "</div>"
      ],
      "text/plain": [
       "      a     b     c     d\n",
       "0     1     2     3     4\n",
       "1   100   200   300   400\n",
       "2  1000  2000  3000  4000"
      ]
     },
     "metadata": {},
     "output_type": "display_data"
    },
    {
     "name": "stdout",
     "output_type": "stream",
     "text": [
      "<class 'pandas.core.series.Series'>\n"
     ]
    },
    {
     "data": {
      "text/plain": [
       "a    1\n",
       "b    2\n",
       "c    3\n",
       "d    4\n",
       "Name: 0, dtype: int64"
      ]
     },
     "metadata": {},
     "output_type": "display_data"
    },
    {
     "data": {
      "text/html": [
       "<div>\n",
       "<style scoped>\n",
       "    .dataframe tbody tr th:only-of-type {\n",
       "        vertical-align: middle;\n",
       "    }\n",
       "\n",
       "    .dataframe tbody tr th {\n",
       "        vertical-align: top;\n",
       "    }\n",
       "\n",
       "    .dataframe thead th {\n",
       "        text-align: right;\n",
       "    }\n",
       "</style>\n",
       "<table border=\"1\" class=\"dataframe\">\n",
       "  <thead>\n",
       "    <tr style=\"text-align: right;\">\n",
       "      <th></th>\n",
       "      <th>a</th>\n",
       "      <th>b</th>\n",
       "      <th>c</th>\n",
       "      <th>d</th>\n",
       "    </tr>\n",
       "  </thead>\n",
       "  <tbody>\n",
       "    <tr>\n",
       "      <th>0</th>\n",
       "      <td>1</td>\n",
       "      <td>2</td>\n",
       "      <td>3</td>\n",
       "      <td>4</td>\n",
       "    </tr>\n",
       "    <tr>\n",
       "      <th>1</th>\n",
       "      <td>100</td>\n",
       "      <td>200</td>\n",
       "      <td>300</td>\n",
       "      <td>400</td>\n",
       "    </tr>\n",
       "  </tbody>\n",
       "</table>\n",
       "</div>"
      ],
      "text/plain": [
       "     a    b    c    d\n",
       "0    1    2    3    4\n",
       "1  100  200  300  400"
      ]
     },
     "metadata": {},
     "output_type": "display_data"
    },
    {
     "data": {
      "text/html": [
       "<div>\n",
       "<style scoped>\n",
       "    .dataframe tbody tr th:only-of-type {\n",
       "        vertical-align: middle;\n",
       "    }\n",
       "\n",
       "    .dataframe tbody tr th {\n",
       "        vertical-align: top;\n",
       "    }\n",
       "\n",
       "    .dataframe thead th {\n",
       "        text-align: right;\n",
       "    }\n",
       "</style>\n",
       "<table border=\"1\" class=\"dataframe\">\n",
       "  <thead>\n",
       "    <tr style=\"text-align: right;\">\n",
       "      <th></th>\n",
       "      <th>a</th>\n",
       "      <th>b</th>\n",
       "      <th>c</th>\n",
       "      <th>d</th>\n",
       "    </tr>\n",
       "  </thead>\n",
       "  <tbody>\n",
       "    <tr>\n",
       "      <th>0</th>\n",
       "      <td>1</td>\n",
       "      <td>2</td>\n",
       "      <td>3</td>\n",
       "      <td>4</td>\n",
       "    </tr>\n",
       "    <tr>\n",
       "      <th>1</th>\n",
       "      <td>100</td>\n",
       "      <td>200</td>\n",
       "      <td>300</td>\n",
       "      <td>400</td>\n",
       "    </tr>\n",
       "    <tr>\n",
       "      <th>2</th>\n",
       "      <td>1000</td>\n",
       "      <td>2000</td>\n",
       "      <td>3000</td>\n",
       "      <td>4000</td>\n",
       "    </tr>\n",
       "  </tbody>\n",
       "</table>\n",
       "</div>"
      ],
      "text/plain": [
       "      a     b     c     d\n",
       "0     1     2     3     4\n",
       "1   100   200   300   400\n",
       "2  1000  2000  3000  4000"
      ]
     },
     "metadata": {},
     "output_type": "display_data"
    },
    {
     "data": {
      "text/html": [
       "<div>\n",
       "<style scoped>\n",
       "    .dataframe tbody tr th:only-of-type {\n",
       "        vertical-align: middle;\n",
       "    }\n",
       "\n",
       "    .dataframe tbody tr th {\n",
       "        vertical-align: top;\n",
       "    }\n",
       "\n",
       "    .dataframe thead th {\n",
       "        text-align: right;\n",
       "    }\n",
       "</style>\n",
       "<table border=\"1\" class=\"dataframe\">\n",
       "  <thead>\n",
       "    <tr style=\"text-align: right;\">\n",
       "      <th></th>\n",
       "      <th>a</th>\n",
       "      <th>b</th>\n",
       "      <th>c</th>\n",
       "      <th>d</th>\n",
       "    </tr>\n",
       "  </thead>\n",
       "  <tbody>\n",
       "    <tr>\n",
       "      <th>0</th>\n",
       "      <td>1</td>\n",
       "      <td>2</td>\n",
       "      <td>3</td>\n",
       "      <td>4</td>\n",
       "    </tr>\n",
       "    <tr>\n",
       "      <th>2</th>\n",
       "      <td>1000</td>\n",
       "      <td>2000</td>\n",
       "      <td>3000</td>\n",
       "      <td>4000</td>\n",
       "    </tr>\n",
       "  </tbody>\n",
       "</table>\n",
       "</div>"
      ],
      "text/plain": [
       "      a     b     c     d\n",
       "0     1     2     3     4\n",
       "2  1000  2000  3000  4000"
      ]
     },
     "metadata": {},
     "output_type": "display_data"
    },
    {
     "data": {
      "text/html": [
       "<div>\n",
       "<style scoped>\n",
       "    .dataframe tbody tr th:only-of-type {\n",
       "        vertical-align: middle;\n",
       "    }\n",
       "\n",
       "    .dataframe tbody tr th {\n",
       "        vertical-align: top;\n",
       "    }\n",
       "\n",
       "    .dataframe thead th {\n",
       "        text-align: right;\n",
       "    }\n",
       "</style>\n",
       "<table border=\"1\" class=\"dataframe\">\n",
       "  <thead>\n",
       "    <tr style=\"text-align: right;\">\n",
       "      <th></th>\n",
       "      <th>a</th>\n",
       "      <th>b</th>\n",
       "      <th>c</th>\n",
       "      <th>d</th>\n",
       "    </tr>\n",
       "  </thead>\n",
       "  <tbody>\n",
       "    <tr>\n",
       "      <th>0</th>\n",
       "      <td>1</td>\n",
       "      <td>2</td>\n",
       "      <td>3</td>\n",
       "      <td>4</td>\n",
       "    </tr>\n",
       "    <tr>\n",
       "      <th>2</th>\n",
       "      <td>1000</td>\n",
       "      <td>2000</td>\n",
       "      <td>3000</td>\n",
       "      <td>4000</td>\n",
       "    </tr>\n",
       "  </tbody>\n",
       "</table>\n",
       "</div>"
      ],
      "text/plain": [
       "      a     b     c     d\n",
       "0     1     2     3     4\n",
       "2  1000  2000  3000  4000"
      ]
     },
     "metadata": {},
     "output_type": "display_data"
    }
   ],
   "source": [
    "mydict = [{'a': 1, 'b': 2, 'c': 3, 'd': 4},\n",
    "          {'a': 100, 'b': 200, 'c': 300, 'd': 400},\n",
    "          {'a': 1000, 'b': 2000, 'c': 3000, 'd': 4000}]\n",
    "df = pd.DataFrame(mydict)\n",
    "display(df)\n",
    "print(type(df.iloc[0])) # scalar\n",
    "display(df.iloc[0])\n",
    "display(df.iloc[[0, 1]]) # w/ list of integers\n",
    "display(df.iloc[:3]) # w/ a slice object\n",
    "display(df.iloc[[True, False, True]]) # w/ boolean mask\n",
    "display(df.iloc[lambda x: x.index % 2 == 0]) # w/ lambda"
   ]
  },
  {
   "cell_type": "markdown",
   "id": "f3657ac7",
   "metadata": {},
   "source": [
    "# index\n",
    "- The index (row labels) of the DataFrame.\n",
    "- The index of a DataFrame is a series of labels that identify each row. The labels can be integers, strings, or any other hashable type. The index is used for label-based access and alignment, and can be accessed or modified using this attribute."
   ]
  },
  {
   "cell_type": "code",
   "execution_count": 204,
   "id": "6d9bae74",
   "metadata": {},
   "outputs": [
    {
     "data": {
      "text/plain": [
       "Index([10, 20, 30], dtype='int64')"
      ]
     },
     "execution_count": 204,
     "metadata": {},
     "output_type": "execute_result"
    }
   ],
   "source": [
    "df = pd.DataFrame({'Name': ['Alice', 'Bob', 'Aritra'],\n",
    "                   'Age': [25, 30, 35],\n",
    "                   'Location': ['Seattle', 'New York', 'Kona']},\n",
    "                  index=([10, 20, 30]))\n",
    "df.index"
   ]
  },
  {
   "cell_type": "markdown",
   "id": "28705e2d",
   "metadata": {},
   "source": [
    "# infer_objects\n",
    "- Attempt to infer better dtypes for object columns.\n",
    "- Attempts soft conversion of object-dtyped columns, leaving non-object and unconvertible columns unchanged. The inference rules are the same as during normal Series/DataFrame construction."
   ]
  },
  {
   "cell_type": "code",
   "execution_count": 206,
   "id": "f2903a3f",
   "metadata": {},
   "outputs": [
    {
     "name": "stdout",
     "output_type": "stream",
     "text": [
      "A    object\n",
      "dtype: object\n",
      "A    int64\n",
      "dtype: object\n"
     ]
    }
   ],
   "source": [
    "df = pd.DataFrame({\"A\": [\"a\", 1, 2, 3]})\n",
    "df = df.iloc[1:] # change the df after initialization\n",
    "print(df.dtypes)\n",
    "print(df.infer_objects().dtypes)"
   ]
  },
  {
   "cell_type": "markdown",
   "id": "fc8a60b1",
   "metadata": {},
   "source": [
    "# info\n",
    "- Print a concise summary of a DataFrame.\n",
    "- This method prints information about a DataFrame including the index dtype and columns, non-null values and memory usage."
   ]
  },
  {
   "cell_type": "code",
   "execution_count": 208,
   "id": "7ea0cb58",
   "metadata": {},
   "outputs": [
    {
     "data": {
      "text/html": [
       "<div>\n",
       "<style scoped>\n",
       "    .dataframe tbody tr th:only-of-type {\n",
       "        vertical-align: middle;\n",
       "    }\n",
       "\n",
       "    .dataframe tbody tr th {\n",
       "        vertical-align: top;\n",
       "    }\n",
       "\n",
       "    .dataframe thead th {\n",
       "        text-align: right;\n",
       "    }\n",
       "</style>\n",
       "<table border=\"1\" class=\"dataframe\">\n",
       "  <thead>\n",
       "    <tr style=\"text-align: right;\">\n",
       "      <th></th>\n",
       "      <th>int_col</th>\n",
       "      <th>text_col</th>\n",
       "      <th>float_col</th>\n",
       "    </tr>\n",
       "  </thead>\n",
       "  <tbody>\n",
       "    <tr>\n",
       "      <th>0</th>\n",
       "      <td>1</td>\n",
       "      <td>alpha</td>\n",
       "      <td>0.0E+00</td>\n",
       "    </tr>\n",
       "    <tr>\n",
       "      <th>1</th>\n",
       "      <td>2</td>\n",
       "      <td>beta</td>\n",
       "      <td>250.0E-03</td>\n",
       "    </tr>\n",
       "    <tr>\n",
       "      <th>2</th>\n",
       "      <td>3</td>\n",
       "      <td>gamma</td>\n",
       "      <td>500.0E-03</td>\n",
       "    </tr>\n",
       "    <tr>\n",
       "      <th>3</th>\n",
       "      <td>4</td>\n",
       "      <td>delta</td>\n",
       "      <td>750.0E-03</td>\n",
       "    </tr>\n",
       "    <tr>\n",
       "      <th>4</th>\n",
       "      <td>5</td>\n",
       "      <td>epsilon</td>\n",
       "      <td>1.0E+00</td>\n",
       "    </tr>\n",
       "  </tbody>\n",
       "</table>\n",
       "</div>"
      ],
      "text/plain": [
       "   int_col text_col  float_col\n",
       "0        1    alpha    0.0E+00\n",
       "1        2     beta  250.0E-03\n",
       "2        3    gamma  500.0E-03\n",
       "3        4    delta  750.0E-03\n",
       "4        5  epsilon    1.0E+00"
      ]
     },
     "metadata": {},
     "output_type": "display_data"
    },
    {
     "name": "stdout",
     "output_type": "stream",
     "text": [
      "<class 'pandas.core.frame.DataFrame'>\n",
      "RangeIndex: 5 entries, 0 to 4\n",
      "Data columns (total 3 columns):\n",
      " #   Column     Non-Null Count  Dtype  \n",
      "---  ------     --------------  -----  \n",
      " 0   int_col    5 non-null      int64  \n",
      " 1   text_col   5 non-null      object \n",
      " 2   float_col  5 non-null      float64\n",
      "dtypes: float64(1), int64(1), object(1)\n",
      "memory usage: 252.0+ bytes\n",
      "None\n"
     ]
    }
   ],
   "source": [
    "int_values = [1, 2, 3, 4, 5]\n",
    "text_values = ['alpha', 'beta', 'gamma', 'delta', 'epsilon']\n",
    "float_values = [0.0, 0.25, 0.5, 0.75, 1.0]\n",
    "df = pd.DataFrame({\"int_col\": int_values, \"text_col\": text_values,\n",
    "                  \"float_col\": float_values})\n",
    "display(df)\n",
    "print(df.info())"
   ]
  },
  {
   "cell_type": "markdown",
   "id": "a750854d",
   "metadata": {},
   "source": [
    "# insert\n",
    "- Insert column into DataFrame at specified location.\n",
    "- Raises a ValueError if column is already contained in the DataFrame, unless allow_duplicates is set to True."
   ]
  },
  {
   "cell_type": "code",
   "execution_count": 209,
   "id": "f181668b",
   "metadata": {},
   "outputs": [
    {
     "data": {
      "text/html": [
       "<div>\n",
       "<style scoped>\n",
       "    .dataframe tbody tr th:only-of-type {\n",
       "        vertical-align: middle;\n",
       "    }\n",
       "\n",
       "    .dataframe tbody tr th {\n",
       "        vertical-align: top;\n",
       "    }\n",
       "\n",
       "    .dataframe thead th {\n",
       "        text-align: right;\n",
       "    }\n",
       "</style>\n",
       "<table border=\"1\" class=\"dataframe\">\n",
       "  <thead>\n",
       "    <tr style=\"text-align: right;\">\n",
       "      <th></th>\n",
       "      <th>col1</th>\n",
       "      <th>col2</th>\n",
       "    </tr>\n",
       "  </thead>\n",
       "  <tbody>\n",
       "    <tr>\n",
       "      <th>0</th>\n",
       "      <td>1</td>\n",
       "      <td>3</td>\n",
       "    </tr>\n",
       "    <tr>\n",
       "      <th>1</th>\n",
       "      <td>2</td>\n",
       "      <td>4</td>\n",
       "    </tr>\n",
       "  </tbody>\n",
       "</table>\n",
       "</div>"
      ],
      "text/plain": [
       "   col1  col2\n",
       "0     1     3\n",
       "1     2     4"
      ]
     },
     "metadata": {},
     "output_type": "display_data"
    },
    {
     "data": {
      "text/html": [
       "<div>\n",
       "<style scoped>\n",
       "    .dataframe tbody tr th:only-of-type {\n",
       "        vertical-align: middle;\n",
       "    }\n",
       "\n",
       "    .dataframe tbody tr th {\n",
       "        vertical-align: top;\n",
       "    }\n",
       "\n",
       "    .dataframe thead th {\n",
       "        text-align: right;\n",
       "    }\n",
       "</style>\n",
       "<table border=\"1\" class=\"dataframe\">\n",
       "  <thead>\n",
       "    <tr style=\"text-align: right;\">\n",
       "      <th></th>\n",
       "      <th>col1</th>\n",
       "      <th>newcol</th>\n",
       "      <th>col2</th>\n",
       "    </tr>\n",
       "  </thead>\n",
       "  <tbody>\n",
       "    <tr>\n",
       "      <th>0</th>\n",
       "      <td>1</td>\n",
       "      <td>99</td>\n",
       "      <td>3</td>\n",
       "    </tr>\n",
       "    <tr>\n",
       "      <th>1</th>\n",
       "      <td>2</td>\n",
       "      <td>99</td>\n",
       "      <td>4</td>\n",
       "    </tr>\n",
       "  </tbody>\n",
       "</table>\n",
       "</div>"
      ],
      "text/plain": [
       "   col1  newcol  col2\n",
       "0     1      99     3\n",
       "1     2      99     4"
      ]
     },
     "metadata": {},
     "output_type": "display_data"
    }
   ],
   "source": [
    "df = pd.DataFrame({'col1': [1, 2], 'col2': [3, 4]})\n",
    "display(df)\n",
    "df.insert(1, 'newcol', [99, 99])\n",
    "display(df)"
   ]
  },
  {
   "cell_type": "markdown",
   "id": "16faee02",
   "metadata": {},
   "source": [
    "# interpolate\n",
    "- Fill NaN values using an interpolation method.\n",
    "- Please note that only method='linear' is supported for DataFrame/Series with a MultiIndex."
   ]
  },
  {
   "cell_type": "code",
   "execution_count": 215,
   "id": "3aaa198b",
   "metadata": {},
   "outputs": [
    {
     "data": {
      "text/plain": [
       "0    0.0E+00\n",
       "1    1.0E+00\n",
       "2        NaN\n",
       "3    3.0E+00\n",
       "dtype: float64"
      ]
     },
     "metadata": {},
     "output_type": "display_data"
    },
    {
     "data": {
      "text/plain": [
       "0    0.0E+00\n",
       "1    1.0E+00\n",
       "2    2.0E+00\n",
       "3    3.0E+00\n",
       "dtype: float64"
      ]
     },
     "metadata": {},
     "output_type": "display_data"
    },
    {
     "data": {
      "text/html": [
       "<div>\n",
       "<style scoped>\n",
       "    .dataframe tbody tr th:only-of-type {\n",
       "        vertical-align: middle;\n",
       "    }\n",
       "\n",
       "    .dataframe tbody tr th {\n",
       "        vertical-align: top;\n",
       "    }\n",
       "\n",
       "    .dataframe thead th {\n",
       "        text-align: right;\n",
       "    }\n",
       "</style>\n",
       "<table border=\"1\" class=\"dataframe\">\n",
       "  <thead>\n",
       "    <tr style=\"text-align: right;\">\n",
       "      <th></th>\n",
       "      <th>a</th>\n",
       "      <th>b</th>\n",
       "      <th>c</th>\n",
       "      <th>d</th>\n",
       "    </tr>\n",
       "  </thead>\n",
       "  <tbody>\n",
       "    <tr>\n",
       "      <th>0</th>\n",
       "      <td>0.0E+00</td>\n",
       "      <td>NaN</td>\n",
       "      <td>-1.0E+00</td>\n",
       "      <td>1.0E+00</td>\n",
       "    </tr>\n",
       "    <tr>\n",
       "      <th>1</th>\n",
       "      <td>NaN</td>\n",
       "      <td>2.0E+00</td>\n",
       "      <td>NaN</td>\n",
       "      <td>NaN</td>\n",
       "    </tr>\n",
       "    <tr>\n",
       "      <th>2</th>\n",
       "      <td>2.0E+00</td>\n",
       "      <td>3.0E+00</td>\n",
       "      <td>NaN</td>\n",
       "      <td>9.0E+00</td>\n",
       "    </tr>\n",
       "    <tr>\n",
       "      <th>3</th>\n",
       "      <td>NaN</td>\n",
       "      <td>4.0E+00</td>\n",
       "      <td>-4.0E+00</td>\n",
       "      <td>16.0E+00</td>\n",
       "    </tr>\n",
       "  </tbody>\n",
       "</table>\n",
       "</div>"
      ],
      "text/plain": [
       "         a        b        c         d\n",
       "0  0.0E+00      NaN -1.0E+00   1.0E+00\n",
       "1      NaN  2.0E+00      NaN       NaN\n",
       "2  2.0E+00  3.0E+00      NaN   9.0E+00\n",
       "3      NaN  4.0E+00 -4.0E+00  16.0E+00"
      ]
     },
     "metadata": {},
     "output_type": "display_data"
    },
    {
     "data": {
      "text/html": [
       "<div>\n",
       "<style scoped>\n",
       "    .dataframe tbody tr th:only-of-type {\n",
       "        vertical-align: middle;\n",
       "    }\n",
       "\n",
       "    .dataframe tbody tr th {\n",
       "        vertical-align: top;\n",
       "    }\n",
       "\n",
       "    .dataframe thead th {\n",
       "        text-align: right;\n",
       "    }\n",
       "</style>\n",
       "<table border=\"1\" class=\"dataframe\">\n",
       "  <thead>\n",
       "    <tr style=\"text-align: right;\">\n",
       "      <th></th>\n",
       "      <th>a</th>\n",
       "      <th>b</th>\n",
       "      <th>c</th>\n",
       "      <th>d</th>\n",
       "    </tr>\n",
       "  </thead>\n",
       "  <tbody>\n",
       "    <tr>\n",
       "      <th>0</th>\n",
       "      <td>0.0E+00</td>\n",
       "      <td>NaN</td>\n",
       "      <td>-1.0E+00</td>\n",
       "      <td>1.0E+00</td>\n",
       "    </tr>\n",
       "    <tr>\n",
       "      <th>1</th>\n",
       "      <td>1.0E+00</td>\n",
       "      <td>2.0E+00</td>\n",
       "      <td>-2.0E+00</td>\n",
       "      <td>5.0E+00</td>\n",
       "    </tr>\n",
       "    <tr>\n",
       "      <th>2</th>\n",
       "      <td>2.0E+00</td>\n",
       "      <td>3.0E+00</td>\n",
       "      <td>-3.0E+00</td>\n",
       "      <td>9.0E+00</td>\n",
       "    </tr>\n",
       "    <tr>\n",
       "      <th>3</th>\n",
       "      <td>2.0E+00</td>\n",
       "      <td>4.0E+00</td>\n",
       "      <td>-4.0E+00</td>\n",
       "      <td>16.0E+00</td>\n",
       "    </tr>\n",
       "  </tbody>\n",
       "</table>\n",
       "</div>"
      ],
      "text/plain": [
       "         a        b        c         d\n",
       "0  0.0E+00      NaN -1.0E+00   1.0E+00\n",
       "1  1.0E+00  2.0E+00 -2.0E+00   5.0E+00\n",
       "2  2.0E+00  3.0E+00 -3.0E+00   9.0E+00\n",
       "3  2.0E+00  4.0E+00 -4.0E+00  16.0E+00"
      ]
     },
     "metadata": {},
     "output_type": "display_data"
    }
   ],
   "source": [
    "s = pd.Series([0, 1, np.nan, 3])\n",
    "display(s)\n",
    "display(s.interpolate())\n",
    "df = pd.DataFrame([(0.0, np.nan, -1.0, 1.0),\n",
    "                   (np.nan, 2.0, np.nan, np.nan),\n",
    "                   (2.0, 3.0, np.nan, 9.0),\n",
    "                   (np.nan, 4.0, -4.0, 16.0)],\n",
    "                  columns=list('abcd'))\n",
    "display(df)\n",
    "display(df.interpolate())"
   ]
  },
  {
   "cell_type": "markdown",
   "id": "a447d58d",
   "metadata": {},
   "source": [
    "# isin\n",
    "- Whether each element in the DataFrame is contained in values."
   ]
  },
  {
   "cell_type": "code",
   "execution_count": 216,
   "id": "42e6b33c",
   "metadata": {},
   "outputs": [
    {
     "data": {
      "text/html": [
       "<div>\n",
       "<style scoped>\n",
       "    .dataframe tbody tr th:only-of-type {\n",
       "        vertical-align: middle;\n",
       "    }\n",
       "\n",
       "    .dataframe tbody tr th {\n",
       "        vertical-align: top;\n",
       "    }\n",
       "\n",
       "    .dataframe thead th {\n",
       "        text-align: right;\n",
       "    }\n",
       "</style>\n",
       "<table border=\"1\" class=\"dataframe\">\n",
       "  <thead>\n",
       "    <tr style=\"text-align: right;\">\n",
       "      <th></th>\n",
       "      <th>num_legs</th>\n",
       "      <th>num_wings</th>\n",
       "    </tr>\n",
       "  </thead>\n",
       "  <tbody>\n",
       "    <tr>\n",
       "      <th>falcon</th>\n",
       "      <td>2</td>\n",
       "      <td>2</td>\n",
       "    </tr>\n",
       "    <tr>\n",
       "      <th>dog</th>\n",
       "      <td>4</td>\n",
       "      <td>0</td>\n",
       "    </tr>\n",
       "  </tbody>\n",
       "</table>\n",
       "</div>"
      ],
      "text/plain": [
       "        num_legs  num_wings\n",
       "falcon         2          2\n",
       "dog            4          0"
      ]
     },
     "metadata": {},
     "output_type": "display_data"
    },
    {
     "data": {
      "text/html": [
       "<div>\n",
       "<style scoped>\n",
       "    .dataframe tbody tr th:only-of-type {\n",
       "        vertical-align: middle;\n",
       "    }\n",
       "\n",
       "    .dataframe tbody tr th {\n",
       "        vertical-align: top;\n",
       "    }\n",
       "\n",
       "    .dataframe thead th {\n",
       "        text-align: right;\n",
       "    }\n",
       "</style>\n",
       "<table border=\"1\" class=\"dataframe\">\n",
       "  <thead>\n",
       "    <tr style=\"text-align: right;\">\n",
       "      <th></th>\n",
       "      <th>num_legs</th>\n",
       "      <th>num_wings</th>\n",
       "    </tr>\n",
       "  </thead>\n",
       "  <tbody>\n",
       "    <tr>\n",
       "      <th>falcon</th>\n",
       "      <td>True</td>\n",
       "      <td>True</td>\n",
       "    </tr>\n",
       "    <tr>\n",
       "      <th>dog</th>\n",
       "      <td>False</td>\n",
       "      <td>True</td>\n",
       "    </tr>\n",
       "  </tbody>\n",
       "</table>\n",
       "</div>"
      ],
      "text/plain": [
       "        num_legs  num_wings\n",
       "falcon      True       True\n",
       "dog        False       True"
      ]
     },
     "metadata": {},
     "output_type": "display_data"
    }
   ],
   "source": [
    "df = pd.DataFrame({'num_legs': [2, 4], 'num_wings': [2, 0]},\n",
    "                  index=['falcon', 'dog'])\n",
    "display(df)\n",
    "display(df.isin([0, 2]))"
   ]
  },
  {
   "cell_type": "markdown",
   "id": "1a388c3a",
   "metadata": {},
   "source": [
    "# isna\n",
    "- Detect missing values.\n",
    "- Return a boolean same-sized object indicating if the values are NA. NA values, such as None or numpy.NaN, gets mapped to True values. Everything else gets mapped to False values. Characters such as empty strings '' or numpy.inf are not considered NA values (unless you set pandas.options.mode.use_inf_as_na = True)."
   ]
  },
  {
   "cell_type": "code",
   "execution_count": 217,
   "id": "ef7bb003",
   "metadata": {},
   "outputs": [
    {
     "data": {
      "text/html": [
       "<div>\n",
       "<style scoped>\n",
       "    .dataframe tbody tr th:only-of-type {\n",
       "        vertical-align: middle;\n",
       "    }\n",
       "\n",
       "    .dataframe tbody tr th {\n",
       "        vertical-align: top;\n",
       "    }\n",
       "\n",
       "    .dataframe thead th {\n",
       "        text-align: right;\n",
       "    }\n",
       "</style>\n",
       "<table border=\"1\" class=\"dataframe\">\n",
       "  <thead>\n",
       "    <tr style=\"text-align: right;\">\n",
       "      <th></th>\n",
       "      <th>age</th>\n",
       "      <th>born</th>\n",
       "      <th>name</th>\n",
       "      <th>toy</th>\n",
       "    </tr>\n",
       "  </thead>\n",
       "  <tbody>\n",
       "    <tr>\n",
       "      <th>0</th>\n",
       "      <td>5.0E+00</td>\n",
       "      <td>NaT</td>\n",
       "      <td>Alfred</td>\n",
       "      <td>None</td>\n",
       "    </tr>\n",
       "    <tr>\n",
       "      <th>1</th>\n",
       "      <td>6.0E+00</td>\n",
       "      <td>1939-05-27</td>\n",
       "      <td>Batman</td>\n",
       "      <td>Batmobile</td>\n",
       "    </tr>\n",
       "    <tr>\n",
       "      <th>2</th>\n",
       "      <td>NaN</td>\n",
       "      <td>1940-04-25</td>\n",
       "      <td></td>\n",
       "      <td>Joker</td>\n",
       "    </tr>\n",
       "  </tbody>\n",
       "</table>\n",
       "</div>"
      ],
      "text/plain": [
       "       age       born    name        toy\n",
       "0  5.0E+00        NaT  Alfred       None\n",
       "1  6.0E+00 1939-05-27  Batman  Batmobile\n",
       "2      NaN 1940-04-25              Joker"
      ]
     },
     "metadata": {},
     "output_type": "display_data"
    },
    {
     "data": {
      "text/html": [
       "<div>\n",
       "<style scoped>\n",
       "    .dataframe tbody tr th:only-of-type {\n",
       "        vertical-align: middle;\n",
       "    }\n",
       "\n",
       "    .dataframe tbody tr th {\n",
       "        vertical-align: top;\n",
       "    }\n",
       "\n",
       "    .dataframe thead th {\n",
       "        text-align: right;\n",
       "    }\n",
       "</style>\n",
       "<table border=\"1\" class=\"dataframe\">\n",
       "  <thead>\n",
       "    <tr style=\"text-align: right;\">\n",
       "      <th></th>\n",
       "      <th>age</th>\n",
       "      <th>born</th>\n",
       "      <th>name</th>\n",
       "      <th>toy</th>\n",
       "    </tr>\n",
       "  </thead>\n",
       "  <tbody>\n",
       "    <tr>\n",
       "      <th>0</th>\n",
       "      <td>False</td>\n",
       "      <td>True</td>\n",
       "      <td>False</td>\n",
       "      <td>True</td>\n",
       "    </tr>\n",
       "    <tr>\n",
       "      <th>1</th>\n",
       "      <td>False</td>\n",
       "      <td>False</td>\n",
       "      <td>False</td>\n",
       "      <td>False</td>\n",
       "    </tr>\n",
       "    <tr>\n",
       "      <th>2</th>\n",
       "      <td>True</td>\n",
       "      <td>False</td>\n",
       "      <td>False</td>\n",
       "      <td>False</td>\n",
       "    </tr>\n",
       "  </tbody>\n",
       "</table>\n",
       "</div>"
      ],
      "text/plain": [
       "     age   born   name    toy\n",
       "0  False   True  False   True\n",
       "1  False  False  False  False\n",
       "2   True  False  False  False"
      ]
     },
     "metadata": {},
     "output_type": "display_data"
    }
   ],
   "source": [
    "df = pd.DataFrame(dict(age=[5, 6, np.nan],\n",
    "                       born=[pd.NaT, pd.Timestamp('1939-05-27'),\n",
    "                             pd.Timestamp('1940-04-25')],\n",
    "                       name=['Alfred', 'Batman', ''],\n",
    "                       toy=[None, 'Batmobile', 'Joker']))\n",
    "display(df)\n",
    "display(df.isna())"
   ]
  },
  {
   "cell_type": "markdown",
   "id": "c8a776a0",
   "metadata": {},
   "source": [
    "# isnull\n",
    "- DataFrame.isnull is an alias for DataFrame.isna.\n",
    "- Detect missing values.\n",
    "- Return a boolean same-sized object indicating if the values are NA. NA values, such as None or numpy.NaN, gets mapped to True values. Everything else gets mapped to False values. Characters such as empty strings '' or numpy.inf are not considered NA values (unless you set pandas.options.mode.use_inf_as_na = True)."
   ]
  },
  {
   "cell_type": "code",
   "execution_count": 218,
   "id": "0947afdb",
   "metadata": {},
   "outputs": [
    {
     "data": {
      "text/html": [
       "<div>\n",
       "<style scoped>\n",
       "    .dataframe tbody tr th:only-of-type {\n",
       "        vertical-align: middle;\n",
       "    }\n",
       "\n",
       "    .dataframe tbody tr th {\n",
       "        vertical-align: top;\n",
       "    }\n",
       "\n",
       "    .dataframe thead th {\n",
       "        text-align: right;\n",
       "    }\n",
       "</style>\n",
       "<table border=\"1\" class=\"dataframe\">\n",
       "  <thead>\n",
       "    <tr style=\"text-align: right;\">\n",
       "      <th></th>\n",
       "      <th>age</th>\n",
       "      <th>born</th>\n",
       "      <th>name</th>\n",
       "      <th>toy</th>\n",
       "    </tr>\n",
       "  </thead>\n",
       "  <tbody>\n",
       "    <tr>\n",
       "      <th>0</th>\n",
       "      <td>5.0E+00</td>\n",
       "      <td>NaT</td>\n",
       "      <td>Alfred</td>\n",
       "      <td>None</td>\n",
       "    </tr>\n",
       "    <tr>\n",
       "      <th>1</th>\n",
       "      <td>6.0E+00</td>\n",
       "      <td>1939-05-27</td>\n",
       "      <td>Batman</td>\n",
       "      <td>Batmobile</td>\n",
       "    </tr>\n",
       "    <tr>\n",
       "      <th>2</th>\n",
       "      <td>NaN</td>\n",
       "      <td>1940-04-25</td>\n",
       "      <td></td>\n",
       "      <td>Joker</td>\n",
       "    </tr>\n",
       "  </tbody>\n",
       "</table>\n",
       "</div>"
      ],
      "text/plain": [
       "       age       born    name        toy\n",
       "0  5.0E+00        NaT  Alfred       None\n",
       "1  6.0E+00 1939-05-27  Batman  Batmobile\n",
       "2      NaN 1940-04-25              Joker"
      ]
     },
     "metadata": {},
     "output_type": "display_data"
    },
    {
     "data": {
      "text/html": [
       "<div>\n",
       "<style scoped>\n",
       "    .dataframe tbody tr th:only-of-type {\n",
       "        vertical-align: middle;\n",
       "    }\n",
       "\n",
       "    .dataframe tbody tr th {\n",
       "        vertical-align: top;\n",
       "    }\n",
       "\n",
       "    .dataframe thead th {\n",
       "        text-align: right;\n",
       "    }\n",
       "</style>\n",
       "<table border=\"1\" class=\"dataframe\">\n",
       "  <thead>\n",
       "    <tr style=\"text-align: right;\">\n",
       "      <th></th>\n",
       "      <th>age</th>\n",
       "      <th>born</th>\n",
       "      <th>name</th>\n",
       "      <th>toy</th>\n",
       "    </tr>\n",
       "  </thead>\n",
       "  <tbody>\n",
       "    <tr>\n",
       "      <th>0</th>\n",
       "      <td>False</td>\n",
       "      <td>True</td>\n",
       "      <td>False</td>\n",
       "      <td>True</td>\n",
       "    </tr>\n",
       "    <tr>\n",
       "      <th>1</th>\n",
       "      <td>False</td>\n",
       "      <td>False</td>\n",
       "      <td>False</td>\n",
       "      <td>False</td>\n",
       "    </tr>\n",
       "    <tr>\n",
       "      <th>2</th>\n",
       "      <td>True</td>\n",
       "      <td>False</td>\n",
       "      <td>False</td>\n",
       "      <td>False</td>\n",
       "    </tr>\n",
       "  </tbody>\n",
       "</table>\n",
       "</div>"
      ],
      "text/plain": [
       "     age   born   name    toy\n",
       "0  False   True  False   True\n",
       "1  False  False  False  False\n",
       "2   True  False  False  False"
      ]
     },
     "metadata": {},
     "output_type": "display_data"
    }
   ],
   "source": [
    "df = pd.DataFrame(dict(age=[5, 6, np.nan],\n",
    "                       born=[pd.NaT, pd.Timestamp('1939-05-27'),\n",
    "                             pd.Timestamp('1940-04-25')],\n",
    "                       name=['Alfred', 'Batman', ''],\n",
    "                       toy=[None, 'Batmobile', 'Joker']))\n",
    "display(df)\n",
    "display(df.isna())"
   ]
  },
  {
   "cell_type": "markdown",
   "id": "7302f6d2",
   "metadata": {},
   "source": [
    "# items\n",
    "- Iterate over (column name, Series) pairs.\n",
    "- Iterates over the DataFrame columns, returning a tuple with the column name and the content as a Series."
   ]
  },
  {
   "cell_type": "code",
   "execution_count": 219,
   "id": "08fa3fda",
   "metadata": {},
   "outputs": [
    {
     "data": {
      "text/html": [
       "<div>\n",
       "<style scoped>\n",
       "    .dataframe tbody tr th:only-of-type {\n",
       "        vertical-align: middle;\n",
       "    }\n",
       "\n",
       "    .dataframe tbody tr th {\n",
       "        vertical-align: top;\n",
       "    }\n",
       "\n",
       "    .dataframe thead th {\n",
       "        text-align: right;\n",
       "    }\n",
       "</style>\n",
       "<table border=\"1\" class=\"dataframe\">\n",
       "  <thead>\n",
       "    <tr style=\"text-align: right;\">\n",
       "      <th></th>\n",
       "      <th>species</th>\n",
       "      <th>population</th>\n",
       "    </tr>\n",
       "  </thead>\n",
       "  <tbody>\n",
       "    <tr>\n",
       "      <th>panda</th>\n",
       "      <td>bear</td>\n",
       "      <td>1864</td>\n",
       "    </tr>\n",
       "    <tr>\n",
       "      <th>polar</th>\n",
       "      <td>bear</td>\n",
       "      <td>22000</td>\n",
       "    </tr>\n",
       "    <tr>\n",
       "      <th>koala</th>\n",
       "      <td>marsupial</td>\n",
       "      <td>80000</td>\n",
       "    </tr>\n",
       "  </tbody>\n",
       "</table>\n",
       "</div>"
      ],
      "text/plain": [
       "         species  population\n",
       "panda       bear        1864\n",
       "polar       bear       22000\n",
       "koala  marsupial       80000"
      ]
     },
     "metadata": {},
     "output_type": "display_data"
    },
    {
     "name": "stdout",
     "output_type": "stream",
     "text": [
      "label: species\n",
      "content: panda         bear\n",
      "polar         bear\n",
      "koala    marsupial\n",
      "Name: species, dtype: object\n",
      "label: population\n",
      "content: panda     1864\n",
      "polar    22000\n",
      "koala    80000\n",
      "Name: population, dtype: int64\n"
     ]
    }
   ],
   "source": [
    "df = pd.DataFrame({'species': ['bear', 'bear', 'marsupial'],\n",
    "                  'population': [1864, 22000, 80000]},\n",
    "                  index=['panda', 'polar', 'koala'])\n",
    "display(df)\n",
    "for label, content in df.items():\n",
    "    print(f\"label: {label}\")\n",
    "    print(f\"content: {content}\")"
   ]
  },
  {
   "cell_type": "markdown",
   "id": "8fac39dc",
   "metadata": {},
   "source": [
    "# iterrows\n",
    "- Iterate over DataFrame rows as (index, Series) pairs."
   ]
  },
  {
   "cell_type": "code",
   "execution_count": 222,
   "id": "f7f7a098",
   "metadata": {},
   "outputs": [
    {
     "data": {
      "text/html": [
       "<div>\n",
       "<style scoped>\n",
       "    .dataframe tbody tr th:only-of-type {\n",
       "        vertical-align: middle;\n",
       "    }\n",
       "\n",
       "    .dataframe tbody tr th {\n",
       "        vertical-align: top;\n",
       "    }\n",
       "\n",
       "    .dataframe thead th {\n",
       "        text-align: right;\n",
       "    }\n",
       "</style>\n",
       "<table border=\"1\" class=\"dataframe\">\n",
       "  <thead>\n",
       "    <tr style=\"text-align: right;\">\n",
       "      <th></th>\n",
       "      <th>int</th>\n",
       "      <th>float</th>\n",
       "    </tr>\n",
       "  </thead>\n",
       "  <tbody>\n",
       "    <tr>\n",
       "      <th>0</th>\n",
       "      <td>1</td>\n",
       "      <td>1.5E+00</td>\n",
       "    </tr>\n",
       "  </tbody>\n",
       "</table>\n",
       "</div>"
      ],
      "text/plain": [
       "   int    float\n",
       "0    1  1.5E+00"
      ]
     },
     "metadata": {},
     "output_type": "display_data"
    },
    {
     "name": "stdout",
     "output_type": "stream",
     "text": [
      "int      1.0E+00\n",
      "float    1.5E+00\n",
      "Name: 0, dtype: float64\n"
     ]
    }
   ],
   "source": [
    "df = pd.DataFrame([[1, 1.5]], columns=['int', 'float'])\n",
    "display(df)\n",
    "for _, each in df.iterrows():\n",
    "    print(each)"
   ]
  },
  {
   "cell_type": "markdown",
   "id": "b9ab434f",
   "metadata": {},
   "source": [
    "# itertuples\n",
    "- Iterate over DataFrame rows as namedtuples."
   ]
  },
  {
   "cell_type": "code",
   "execution_count": 226,
   "id": "1cd5e602",
   "metadata": {},
   "outputs": [
    {
     "data": {
      "text/html": [
       "<div>\n",
       "<style scoped>\n",
       "    .dataframe tbody tr th:only-of-type {\n",
       "        vertical-align: middle;\n",
       "    }\n",
       "\n",
       "    .dataframe tbody tr th {\n",
       "        vertical-align: top;\n",
       "    }\n",
       "\n",
       "    .dataframe thead th {\n",
       "        text-align: right;\n",
       "    }\n",
       "</style>\n",
       "<table border=\"1\" class=\"dataframe\">\n",
       "  <thead>\n",
       "    <tr style=\"text-align: right;\">\n",
       "      <th></th>\n",
       "      <th>num_legs</th>\n",
       "      <th>num_wings</th>\n",
       "    </tr>\n",
       "  </thead>\n",
       "  <tbody>\n",
       "    <tr>\n",
       "      <th>dog</th>\n",
       "      <td>4</td>\n",
       "      <td>0</td>\n",
       "    </tr>\n",
       "    <tr>\n",
       "      <th>hawk</th>\n",
       "      <td>2</td>\n",
       "      <td>2</td>\n",
       "    </tr>\n",
       "  </tbody>\n",
       "</table>\n",
       "</div>"
      ],
      "text/plain": [
       "      num_legs  num_wings\n",
       "dog          4          0\n",
       "hawk         2          2"
      ]
     },
     "metadata": {},
     "output_type": "display_data"
    },
    {
     "name": "stdout",
     "output_type": "stream",
     "text": [
      "Pandas(num_legs=4, num_wings=0)\n",
      "Pandas(num_legs=2, num_wings=2)\n"
     ]
    }
   ],
   "source": [
    "df = pd.DataFrame({'num_legs': [4, 2], 'num_wings': [0, 2]},\n",
    "                  index=['dog', 'hawk'])\n",
    "display(df)\n",
    "for row in df.itertuples(index=False):\n",
    "    print(row)"
   ]
  },
  {
   "cell_type": "markdown",
   "id": "687ee758",
   "metadata": {},
   "source": [
    "# join\n",
    "- Join columns of another DataFrame.\n",
    "- Join columns with other DataFrame either on index or on a key column. Efficiently join multiple DataFrame objects by index at once by passing a list."
   ]
  },
  {
   "cell_type": "code",
   "execution_count": 227,
   "id": "bccd1d96",
   "metadata": {},
   "outputs": [
    {
     "data": {
      "text/html": [
       "<div>\n",
       "<style scoped>\n",
       "    .dataframe tbody tr th:only-of-type {\n",
       "        vertical-align: middle;\n",
       "    }\n",
       "\n",
       "    .dataframe tbody tr th {\n",
       "        vertical-align: top;\n",
       "    }\n",
       "\n",
       "    .dataframe thead th {\n",
       "        text-align: right;\n",
       "    }\n",
       "</style>\n",
       "<table border=\"1\" class=\"dataframe\">\n",
       "  <thead>\n",
       "    <tr style=\"text-align: right;\">\n",
       "      <th></th>\n",
       "      <th>key</th>\n",
       "      <th>A</th>\n",
       "    </tr>\n",
       "  </thead>\n",
       "  <tbody>\n",
       "    <tr>\n",
       "      <th>0</th>\n",
       "      <td>K0</td>\n",
       "      <td>A0</td>\n",
       "    </tr>\n",
       "    <tr>\n",
       "      <th>1</th>\n",
       "      <td>K1</td>\n",
       "      <td>A1</td>\n",
       "    </tr>\n",
       "    <tr>\n",
       "      <th>2</th>\n",
       "      <td>K2</td>\n",
       "      <td>A2</td>\n",
       "    </tr>\n",
       "    <tr>\n",
       "      <th>3</th>\n",
       "      <td>K3</td>\n",
       "      <td>A3</td>\n",
       "    </tr>\n",
       "    <tr>\n",
       "      <th>4</th>\n",
       "      <td>K4</td>\n",
       "      <td>A4</td>\n",
       "    </tr>\n",
       "    <tr>\n",
       "      <th>5</th>\n",
       "      <td>K5</td>\n",
       "      <td>A5</td>\n",
       "    </tr>\n",
       "  </tbody>\n",
       "</table>\n",
       "</div>"
      ],
      "text/plain": [
       "  key   A\n",
       "0  K0  A0\n",
       "1  K1  A1\n",
       "2  K2  A2\n",
       "3  K3  A3\n",
       "4  K4  A4\n",
       "5  K5  A5"
      ]
     },
     "metadata": {},
     "output_type": "display_data"
    },
    {
     "data": {
      "text/html": [
       "<div>\n",
       "<style scoped>\n",
       "    .dataframe tbody tr th:only-of-type {\n",
       "        vertical-align: middle;\n",
       "    }\n",
       "\n",
       "    .dataframe tbody tr th {\n",
       "        vertical-align: top;\n",
       "    }\n",
       "\n",
       "    .dataframe thead th {\n",
       "        text-align: right;\n",
       "    }\n",
       "</style>\n",
       "<table border=\"1\" class=\"dataframe\">\n",
       "  <thead>\n",
       "    <tr style=\"text-align: right;\">\n",
       "      <th></th>\n",
       "      <th>key</th>\n",
       "      <th>B</th>\n",
       "    </tr>\n",
       "  </thead>\n",
       "  <tbody>\n",
       "    <tr>\n",
       "      <th>0</th>\n",
       "      <td>K0</td>\n",
       "      <td>B0</td>\n",
       "    </tr>\n",
       "    <tr>\n",
       "      <th>1</th>\n",
       "      <td>K1</td>\n",
       "      <td>B1</td>\n",
       "    </tr>\n",
       "    <tr>\n",
       "      <th>2</th>\n",
       "      <td>K2</td>\n",
       "      <td>B2</td>\n",
       "    </tr>\n",
       "  </tbody>\n",
       "</table>\n",
       "</div>"
      ],
      "text/plain": [
       "  key   B\n",
       "0  K0  B0\n",
       "1  K1  B1\n",
       "2  K2  B2"
      ]
     },
     "metadata": {},
     "output_type": "display_data"
    },
    {
     "data": {
      "text/html": [
       "<div>\n",
       "<style scoped>\n",
       "    .dataframe tbody tr th:only-of-type {\n",
       "        vertical-align: middle;\n",
       "    }\n",
       "\n",
       "    .dataframe tbody tr th {\n",
       "        vertical-align: top;\n",
       "    }\n",
       "\n",
       "    .dataframe thead th {\n",
       "        text-align: right;\n",
       "    }\n",
       "</style>\n",
       "<table border=\"1\" class=\"dataframe\">\n",
       "  <thead>\n",
       "    <tr style=\"text-align: right;\">\n",
       "      <th></th>\n",
       "      <th>key_caliber</th>\n",
       "      <th>A</th>\n",
       "      <th>key_other</th>\n",
       "      <th>B</th>\n",
       "    </tr>\n",
       "  </thead>\n",
       "  <tbody>\n",
       "    <tr>\n",
       "      <th>0</th>\n",
       "      <td>K0</td>\n",
       "      <td>A0</td>\n",
       "      <td>K0</td>\n",
       "      <td>B0</td>\n",
       "    </tr>\n",
       "    <tr>\n",
       "      <th>1</th>\n",
       "      <td>K1</td>\n",
       "      <td>A1</td>\n",
       "      <td>K1</td>\n",
       "      <td>B1</td>\n",
       "    </tr>\n",
       "    <tr>\n",
       "      <th>2</th>\n",
       "      <td>K2</td>\n",
       "      <td>A2</td>\n",
       "      <td>K2</td>\n",
       "      <td>B2</td>\n",
       "    </tr>\n",
       "    <tr>\n",
       "      <th>3</th>\n",
       "      <td>K3</td>\n",
       "      <td>A3</td>\n",
       "      <td>NaN</td>\n",
       "      <td>NaN</td>\n",
       "    </tr>\n",
       "    <tr>\n",
       "      <th>4</th>\n",
       "      <td>K4</td>\n",
       "      <td>A4</td>\n",
       "      <td>NaN</td>\n",
       "      <td>NaN</td>\n",
       "    </tr>\n",
       "    <tr>\n",
       "      <th>5</th>\n",
       "      <td>K5</td>\n",
       "      <td>A5</td>\n",
       "      <td>NaN</td>\n",
       "      <td>NaN</td>\n",
       "    </tr>\n",
       "  </tbody>\n",
       "</table>\n",
       "</div>"
      ],
      "text/plain": [
       "  key_caliber   A key_other    B\n",
       "0          K0  A0        K0   B0\n",
       "1          K1  A1        K1   B1\n",
       "2          K2  A2        K2   B2\n",
       "3          K3  A3       NaN  NaN\n",
       "4          K4  A4       NaN  NaN\n",
       "5          K5  A5       NaN  NaN"
      ]
     },
     "execution_count": 227,
     "metadata": {},
     "output_type": "execute_result"
    }
   ],
   "source": [
    "df = pd.DataFrame({'key': ['K0', 'K1', 'K2', 'K3', 'K4', 'K5'],\n",
    "                   'A': ['A0', 'A1', 'A2', 'A3', 'A4', 'A5']})\n",
    "display(df)\n",
    "other = pd.DataFrame({'key': ['K0', 'K1', 'K2'],\n",
    "                      'B': ['B0', 'B1', 'B2']})\n",
    "display(other)\n",
    "df.join(other, lsuffix='_caliber', rsuffix='_other')"
   ]
  },
  {
   "cell_type": "markdown",
   "id": "42c9e408",
   "metadata": {},
   "source": [
    "# keys\n",
    "- Get the ‘info axis’ (see Indexing for more).\n",
    "- This is index for Series, columns for DataFrame."
   ]
  },
  {
   "cell_type": "code",
   "execution_count": 228,
   "id": "f197b834",
   "metadata": {},
   "outputs": [
    {
     "data": {
      "text/html": [
       "<div>\n",
       "<style scoped>\n",
       "    .dataframe tbody tr th:only-of-type {\n",
       "        vertical-align: middle;\n",
       "    }\n",
       "\n",
       "    .dataframe tbody tr th {\n",
       "        vertical-align: top;\n",
       "    }\n",
       "\n",
       "    .dataframe thead th {\n",
       "        text-align: right;\n",
       "    }\n",
       "</style>\n",
       "<table border=\"1\" class=\"dataframe\">\n",
       "  <thead>\n",
       "    <tr style=\"text-align: right;\">\n",
       "      <th></th>\n",
       "      <th>A</th>\n",
       "      <th>B</th>\n",
       "    </tr>\n",
       "  </thead>\n",
       "  <tbody>\n",
       "    <tr>\n",
       "      <th>a</th>\n",
       "      <td>1</td>\n",
       "      <td>0</td>\n",
       "    </tr>\n",
       "    <tr>\n",
       "      <th>b</th>\n",
       "      <td>2</td>\n",
       "      <td>4</td>\n",
       "    </tr>\n",
       "    <tr>\n",
       "      <th>c</th>\n",
       "      <td>3</td>\n",
       "      <td>8</td>\n",
       "    </tr>\n",
       "  </tbody>\n",
       "</table>\n",
       "</div>"
      ],
      "text/plain": [
       "   A  B\n",
       "a  1  0\n",
       "b  2  4\n",
       "c  3  8"
      ]
     },
     "metadata": {},
     "output_type": "display_data"
    },
    {
     "name": "stdout",
     "output_type": "stream",
     "text": [
      "Index(['A', 'B'], dtype='object')\n"
     ]
    }
   ],
   "source": [
    "d = pd.DataFrame(data={'A': [1, 2, 3], 'B': [0, 4, 8]},\n",
    "                 index=['a', 'b', 'c'])\n",
    "display(d)\n",
    "print(d.keys())"
   ]
  },
  {
   "cell_type": "markdown",
   "id": "193c95b3",
   "metadata": {},
   "source": [
    "# kurt\n",
    "- Return unbiased kurtosis over requested axis.\n",
    "- Kurtosis obtained using Fisher’s definition of kurtosis (kurtosis of normal == 0.0). Normalized by N-1."
   ]
  },
  {
   "cell_type": "code",
   "execution_count": 232,
   "id": "9058b4f1",
   "metadata": {},
   "outputs": [
    {
     "data": {
      "text/plain": [
       "cat      1\n",
       "dog      2\n",
       "dog      2\n",
       "mouse    3\n",
       "dtype: int64"
      ]
     },
     "metadata": {},
     "output_type": "display_data"
    },
    {
     "data": {
      "text/plain": [
       "np.float64(1.5)"
      ]
     },
     "execution_count": 232,
     "metadata": {},
     "output_type": "execute_result"
    }
   ],
   "source": [
    "s = pd.Series([1, 2, 2, 3], index=['cat', 'dog', 'dog', 'mouse'])\n",
    "display(s)\n",
    "s.kurt()\n"
   ]
  },
  {
   "cell_type": "markdown",
   "id": "ff974e7c",
   "metadata": {},
   "source": [
    "# kurtosis same as kurt"
   ]
  },
  {
   "cell_type": "code",
   "execution_count": 231,
   "id": "817fd942",
   "metadata": {},
   "outputs": [
    {
     "data": {
      "text/plain": [
       "np.float64(1.5)"
      ]
     },
     "execution_count": 231,
     "metadata": {},
     "output_type": "execute_result"
    }
   ],
   "source": [
    "s.kurtosis()"
   ]
  },
  {
   "cell_type": "markdown",
   "id": "bf064184",
   "metadata": {},
   "source": [
    "# last_valid_index\n",
    "- Return index for last non-NA value or None, if no non-NA value is found."
   ]
  },
  {
   "cell_type": "code",
   "execution_count": 233,
   "id": "0550fce9",
   "metadata": {},
   "outputs": [
    {
     "data": {
      "text/plain": [
       "1"
      ]
     },
     "execution_count": 233,
     "metadata": {},
     "output_type": "execute_result"
    }
   ],
   "source": [
    "s = pd.Series([None, 3, 4])\n",
    "s.first_valid_index()"
   ]
  },
  {
   "cell_type": "markdown",
   "id": "33682581",
   "metadata": {},
   "source": [
    "# le\n",
    "- Get Less than or equal to of dataframe and other, element-wise (binary operator le).\n",
    "- Among flexible wrappers (eq, ne, le, lt, ge, gt) to comparison operators.\n",
    "- Equivalent to ==, !=, <=, <, >=, > with support to choose axis (rows or columns) and level for comparison."
   ]
  },
  {
   "cell_type": "code",
   "execution_count": 235,
   "id": "4cf10464",
   "metadata": {},
   "outputs": [
    {
     "data": {
      "text/html": [
       "<div>\n",
       "<style scoped>\n",
       "    .dataframe tbody tr th:only-of-type {\n",
       "        vertical-align: middle;\n",
       "    }\n",
       "\n",
       "    .dataframe tbody tr th {\n",
       "        vertical-align: top;\n",
       "    }\n",
       "\n",
       "    .dataframe thead th {\n",
       "        text-align: right;\n",
       "    }\n",
       "</style>\n",
       "<table border=\"1\" class=\"dataframe\">\n",
       "  <thead>\n",
       "    <tr style=\"text-align: right;\">\n",
       "      <th></th>\n",
       "      <th>cost</th>\n",
       "      <th>revenue</th>\n",
       "    </tr>\n",
       "  </thead>\n",
       "  <tbody>\n",
       "    <tr>\n",
       "      <th>A</th>\n",
       "      <td>250</td>\n",
       "      <td>100</td>\n",
       "    </tr>\n",
       "    <tr>\n",
       "      <th>B</th>\n",
       "      <td>150</td>\n",
       "      <td>250</td>\n",
       "    </tr>\n",
       "    <tr>\n",
       "      <th>C</th>\n",
       "      <td>100</td>\n",
       "      <td>300</td>\n",
       "    </tr>\n",
       "  </tbody>\n",
       "</table>\n",
       "</div>"
      ],
      "text/plain": [
       "   cost  revenue\n",
       "A   250      100\n",
       "B   150      250\n",
       "C   100      300"
      ]
     },
     "metadata": {},
     "output_type": "display_data"
    },
    {
     "data": {
      "text/html": [
       "<div>\n",
       "<style scoped>\n",
       "    .dataframe tbody tr th:only-of-type {\n",
       "        vertical-align: middle;\n",
       "    }\n",
       "\n",
       "    .dataframe tbody tr th {\n",
       "        vertical-align: top;\n",
       "    }\n",
       "\n",
       "    .dataframe thead th {\n",
       "        text-align: right;\n",
       "    }\n",
       "</style>\n",
       "<table border=\"1\" class=\"dataframe\">\n",
       "  <thead>\n",
       "    <tr style=\"text-align: right;\">\n",
       "      <th></th>\n",
       "      <th>cost</th>\n",
       "      <th>revenue</th>\n",
       "    </tr>\n",
       "  </thead>\n",
       "  <tbody>\n",
       "    <tr>\n",
       "      <th>A</th>\n",
       "      <td>False</td>\n",
       "      <td>True</td>\n",
       "    </tr>\n",
       "    <tr>\n",
       "      <th>B</th>\n",
       "      <td>True</td>\n",
       "      <td>False</td>\n",
       "    </tr>\n",
       "    <tr>\n",
       "      <th>C</th>\n",
       "      <td>True</td>\n",
       "      <td>False</td>\n",
       "    </tr>\n",
       "  </tbody>\n",
       "</table>\n",
       "</div>"
      ],
      "text/plain": [
       "    cost  revenue\n",
       "A  False     True\n",
       "B   True    False\n",
       "C   True    False"
      ]
     },
     "metadata": {},
     "output_type": "display_data"
    }
   ],
   "source": [
    "df = pd.DataFrame({'cost': [250, 150, 100],\n",
    "                   'revenue': [100, 250, 300]},\n",
    "                  index=['A', 'B', 'C'])\n",
    "display(df)\n",
    "display(df.le(150))"
   ]
  },
  {
   "cell_type": "markdown",
   "id": "bc91371b",
   "metadata": {},
   "source": [
    "# loc\n",
    "- Access a group of rows and columns by label(s) or a boolean array.\n",
    "- .loc[] is primarily label based, but may also be used with a boolean array.\n",
    "- Allowed inputs are:\n",
    "- A single label, e.g. 5 or 'a', (note that 5 is interpreted as a label of the index, and - never as an integer position along the index).\n",
    "- A list or array of labels, e.g. ['a', 'b', 'c'].\n",
    "- A slice object with labels, e.g. 'a':'f'.\n",
    "- A boolean array of the same length as the axis being sliced, e.g. [True, False, True].\n",
    "- An alignable boolean Series. The index of the key will be aligned before masking.\n",
    "- An alignable Index. The Index of the returned selection will be the input.\n",
    "- A callable function with one argument (the calling Series or DataFrame) and that returns valid output for indexing (one of the above)"
   ]
  },
  {
   "cell_type": "code",
   "execution_count": 236,
   "id": "d9ba9539",
   "metadata": {},
   "outputs": [
    {
     "data": {
      "text/html": [
       "<div>\n",
       "<style scoped>\n",
       "    .dataframe tbody tr th:only-of-type {\n",
       "        vertical-align: middle;\n",
       "    }\n",
       "\n",
       "    .dataframe tbody tr th {\n",
       "        vertical-align: top;\n",
       "    }\n",
       "\n",
       "    .dataframe thead th {\n",
       "        text-align: right;\n",
       "    }\n",
       "</style>\n",
       "<table border=\"1\" class=\"dataframe\">\n",
       "  <thead>\n",
       "    <tr style=\"text-align: right;\">\n",
       "      <th></th>\n",
       "      <th>max_speed</th>\n",
       "      <th>shield</th>\n",
       "    </tr>\n",
       "  </thead>\n",
       "  <tbody>\n",
       "    <tr>\n",
       "      <th>cobra</th>\n",
       "      <td>1</td>\n",
       "      <td>2</td>\n",
       "    </tr>\n",
       "    <tr>\n",
       "      <th>viper</th>\n",
       "      <td>4</td>\n",
       "      <td>5</td>\n",
       "    </tr>\n",
       "    <tr>\n",
       "      <th>sidewinder</th>\n",
       "      <td>7</td>\n",
       "      <td>8</td>\n",
       "    </tr>\n",
       "  </tbody>\n",
       "</table>\n",
       "</div>"
      ],
      "text/plain": [
       "            max_speed  shield\n",
       "cobra               1       2\n",
       "viper               4       5\n",
       "sidewinder          7       8"
      ]
     },
     "metadata": {},
     "output_type": "display_data"
    },
    {
     "name": "stdout",
     "output_type": "stream",
     "text": [
      "max_speed    4\n",
      "shield       5\n",
      "Name: viper, dtype: int64\n",
      "            max_speed  shield\n",
      "viper               4       5\n",
      "sidewinder          7       8\n",
      "2\n",
      "cobra    1\n",
      "viper    4\n",
      "Name: max_speed, dtype: int64\n",
      "            max_speed  shield\n",
      "sidewinder          7       8\n"
     ]
    }
   ],
   "source": [
    "df = pd.DataFrame([[1, 2], [4, 5], [7, 8]],\n",
    "                  index=['cobra', 'viper', 'sidewinder'],\n",
    "                  columns=['max_speed', 'shield'])\n",
    "display(df)\n",
    "print(df.loc['viper'])\n",
    "print(df.loc[['viper', 'sidewinder']])\n",
    "print(df.loc['cobra', 'shield'])\n",
    "print(df.loc['cobra':'viper', 'max_speed'])\n",
    "print(df.loc[[False, False, True]])"
   ]
  },
  {
   "cell_type": "markdown",
   "id": "668ee87f",
   "metadata": {},
   "source": [
    "# lt\n",
    "- Get Less than of dataframe and other, element-wise (binary operator lt).\n",
    "- Among flexible wrappers (eq, ne, le, lt, ge, gt) to comparison operators.\n",
    "- Equivalent to ==, !=, <=, <, >=, > with support to choose axis (rows or columns) and level for comparison."
   ]
  },
  {
   "cell_type": "code",
   "execution_count": 238,
   "id": "802c113f",
   "metadata": {},
   "outputs": [
    {
     "data": {
      "text/html": [
       "<div>\n",
       "<style scoped>\n",
       "    .dataframe tbody tr th:only-of-type {\n",
       "        vertical-align: middle;\n",
       "    }\n",
       "\n",
       "    .dataframe tbody tr th {\n",
       "        vertical-align: top;\n",
       "    }\n",
       "\n",
       "    .dataframe thead th {\n",
       "        text-align: right;\n",
       "    }\n",
       "</style>\n",
       "<table border=\"1\" class=\"dataframe\">\n",
       "  <thead>\n",
       "    <tr style=\"text-align: right;\">\n",
       "      <th></th>\n",
       "      <th>cost</th>\n",
       "      <th>revenue</th>\n",
       "    </tr>\n",
       "  </thead>\n",
       "  <tbody>\n",
       "    <tr>\n",
       "      <th>A</th>\n",
       "      <td>250</td>\n",
       "      <td>100</td>\n",
       "    </tr>\n",
       "    <tr>\n",
       "      <th>B</th>\n",
       "      <td>150</td>\n",
       "      <td>250</td>\n",
       "    </tr>\n",
       "    <tr>\n",
       "      <th>C</th>\n",
       "      <td>100</td>\n",
       "      <td>300</td>\n",
       "    </tr>\n",
       "  </tbody>\n",
       "</table>\n",
       "</div>"
      ],
      "text/plain": [
       "   cost  revenue\n",
       "A   250      100\n",
       "B   150      250\n",
       "C   100      300"
      ]
     },
     "metadata": {},
     "output_type": "display_data"
    },
    {
     "data": {
      "text/html": [
       "<div>\n",
       "<style scoped>\n",
       "    .dataframe tbody tr th:only-of-type {\n",
       "        vertical-align: middle;\n",
       "    }\n",
       "\n",
       "    .dataframe tbody tr th {\n",
       "        vertical-align: top;\n",
       "    }\n",
       "\n",
       "    .dataframe thead th {\n",
       "        text-align: right;\n",
       "    }\n",
       "</style>\n",
       "<table border=\"1\" class=\"dataframe\">\n",
       "  <thead>\n",
       "    <tr style=\"text-align: right;\">\n",
       "      <th></th>\n",
       "      <th>cost</th>\n",
       "      <th>revenue</th>\n",
       "    </tr>\n",
       "  </thead>\n",
       "  <tbody>\n",
       "    <tr>\n",
       "      <th>A</th>\n",
       "      <td>False</td>\n",
       "      <td>True</td>\n",
       "    </tr>\n",
       "    <tr>\n",
       "      <th>B</th>\n",
       "      <td>True</td>\n",
       "      <td>False</td>\n",
       "    </tr>\n",
       "    <tr>\n",
       "      <th>C</th>\n",
       "      <td>True</td>\n",
       "      <td>False</td>\n",
       "    </tr>\n",
       "  </tbody>\n",
       "</table>\n",
       "</div>"
      ],
      "text/plain": [
       "    cost  revenue\n",
       "A  False     True\n",
       "B   True    False\n",
       "C   True    False"
      ]
     },
     "metadata": {},
     "output_type": "display_data"
    }
   ],
   "source": [
    "df = pd.DataFrame({'cost': [250, 150, 100],\n",
    "                   'revenue': [100, 250, 300]},\n",
    "                  index=['A', 'B', 'C'])\n",
    "display(df)\n",
    "display(df.lt(200))"
   ]
  },
  {
   "cell_type": "markdown",
   "id": "eaebda6b",
   "metadata": {},
   "source": [
    "# map\n",
    "- Apply a function to a Dataframe elementwise."
   ]
  },
  {
   "cell_type": "code",
   "execution_count": 239,
   "id": "42cc1e02",
   "metadata": {},
   "outputs": [
    {
     "data": {
      "text/html": [
       "<div>\n",
       "<style scoped>\n",
       "    .dataframe tbody tr th:only-of-type {\n",
       "        vertical-align: middle;\n",
       "    }\n",
       "\n",
       "    .dataframe tbody tr th {\n",
       "        vertical-align: top;\n",
       "    }\n",
       "\n",
       "    .dataframe thead th {\n",
       "        text-align: right;\n",
       "    }\n",
       "</style>\n",
       "<table border=\"1\" class=\"dataframe\">\n",
       "  <thead>\n",
       "    <tr style=\"text-align: right;\">\n",
       "      <th></th>\n",
       "      <th>0</th>\n",
       "      <th>1</th>\n",
       "    </tr>\n",
       "  </thead>\n",
       "  <tbody>\n",
       "    <tr>\n",
       "      <th>0</th>\n",
       "      <td>1.0E+00</td>\n",
       "      <td>2.1E+00</td>\n",
       "    </tr>\n",
       "    <tr>\n",
       "      <th>1</th>\n",
       "      <td>3.4E+00</td>\n",
       "      <td>4.6E+00</td>\n",
       "    </tr>\n",
       "  </tbody>\n",
       "</table>\n",
       "</div>"
      ],
      "text/plain": [
       "         0        1\n",
       "0  1.0E+00  2.1E+00\n",
       "1  3.4E+00  4.6E+00"
      ]
     },
     "metadata": {},
     "output_type": "display_data"
    },
    {
     "data": {
      "text/html": [
       "<div>\n",
       "<style scoped>\n",
       "    .dataframe tbody tr th:only-of-type {\n",
       "        vertical-align: middle;\n",
       "    }\n",
       "\n",
       "    .dataframe tbody tr th {\n",
       "        vertical-align: top;\n",
       "    }\n",
       "\n",
       "    .dataframe thead th {\n",
       "        text-align: right;\n",
       "    }\n",
       "</style>\n",
       "<table border=\"1\" class=\"dataframe\">\n",
       "  <thead>\n",
       "    <tr style=\"text-align: right;\">\n",
       "      <th></th>\n",
       "      <th>0</th>\n",
       "      <th>1</th>\n",
       "    </tr>\n",
       "  </thead>\n",
       "  <tbody>\n",
       "    <tr>\n",
       "      <th>0</th>\n",
       "      <td>3</td>\n",
       "      <td>4</td>\n",
       "    </tr>\n",
       "    <tr>\n",
       "      <th>1</th>\n",
       "      <td>5</td>\n",
       "      <td>5</td>\n",
       "    </tr>\n",
       "  </tbody>\n",
       "</table>\n",
       "</div>"
      ],
      "text/plain": [
       "   0  1\n",
       "0  3  4\n",
       "1  5  5"
      ]
     },
     "metadata": {},
     "output_type": "display_data"
    }
   ],
   "source": [
    "df = pd.DataFrame([[1, 2.12], [3.356, 4.567]])\n",
    "display(df)\n",
    "display(df.map(lambda x: len(str(x))))"
   ]
  },
  {
   "cell_type": "markdown",
   "id": "6ab199f1",
   "metadata": {},
   "source": [
    "# mask\n",
    "- Replace values where the condition is True.\n",
    "### opposite of where"
   ]
  },
  {
   "cell_type": "code",
   "execution_count": 241,
   "id": "ba46bd75",
   "metadata": {},
   "outputs": [
    {
     "data": {
      "text/plain": [
       "0        NaN\n",
       "1    1.0E+00\n",
       "2    2.0E+00\n",
       "3    3.0E+00\n",
       "4    4.0E+00\n",
       "dtype: float64"
      ]
     },
     "metadata": {},
     "output_type": "display_data"
    },
    {
     "data": {
      "text/plain": [
       "0     0\n",
       "1    20\n",
       "2    20\n",
       "3    20\n",
       "4    20\n",
       "dtype: int64"
      ]
     },
     "metadata": {},
     "output_type": "display_data"
    }
   ],
   "source": [
    "s = pd.Series(range(5))\n",
    "display(s.where(s > 0))\n",
    "display(s.mask(s > 0, 20))"
   ]
  },
  {
   "cell_type": "markdown",
   "id": "dbbbc0ed",
   "metadata": {},
   "source": [
    "# max\n",
    "- Return the maximum of the values over the requested axis.\n",
    "- If you want the index of the maximum, use idxmax. This is the equivalent of the numpy.ndarray method argmax."
   ]
  },
  {
   "cell_type": "code",
   "execution_count": 242,
   "id": "54dc0d13",
   "metadata": {},
   "outputs": [
    {
     "data": {
      "text/plain": [
       "blooded  animal\n",
       "warm     dog       4\n",
       "         falcon    2\n",
       "cold     fish      0\n",
       "         spider    8\n",
       "Name: legs, dtype: int64"
      ]
     },
     "metadata": {},
     "output_type": "display_data"
    },
    {
     "name": "stdout",
     "output_type": "stream",
     "text": [
      "8\n"
     ]
    }
   ],
   "source": [
    "idx = pd.MultiIndex.from_arrays([\n",
    "    ['warm', 'warm', 'cold', 'cold'],\n",
    "    ['dog', 'falcon', 'fish', 'spider']],\n",
    "    names=['blooded', 'animal'])\n",
    "s = pd.Series([4, 2, 0, 8], name='legs', index=idx)\n",
    "display(s)\n",
    "print(s.max())"
   ]
  },
  {
   "cell_type": "markdown",
   "id": "54c2f185",
   "metadata": {},
   "source": [
    "# mean\n",
    "- Return the mean of the values over the requested axis."
   ]
  },
  {
   "cell_type": "code",
   "execution_count": 244,
   "id": "19d5e401",
   "metadata": {},
   "outputs": [
    {
     "data": {
      "text/plain": [
       "np.float64(4.166666666666667)"
      ]
     },
     "metadata": {},
     "output_type": "display_data"
    },
    {
     "data": {
      "text/html": [
       "<div>\n",
       "<style scoped>\n",
       "    .dataframe tbody tr th:only-of-type {\n",
       "        vertical-align: middle;\n",
       "    }\n",
       "\n",
       "    .dataframe tbody tr th {\n",
       "        vertical-align: top;\n",
       "    }\n",
       "\n",
       "    .dataframe thead th {\n",
       "        text-align: right;\n",
       "    }\n",
       "</style>\n",
       "<table border=\"1\" class=\"dataframe\">\n",
       "  <thead>\n",
       "    <tr style=\"text-align: right;\">\n",
       "      <th></th>\n",
       "      <th>a</th>\n",
       "      <th>b</th>\n",
       "    </tr>\n",
       "  </thead>\n",
       "  <tbody>\n",
       "    <tr>\n",
       "      <th>tiger</th>\n",
       "      <td>1</td>\n",
       "      <td>2</td>\n",
       "    </tr>\n",
       "    <tr>\n",
       "      <th>zebra</th>\n",
       "      <td>2</td>\n",
       "      <td>3</td>\n",
       "    </tr>\n",
       "  </tbody>\n",
       "</table>\n",
       "</div>"
      ],
      "text/plain": [
       "       a  b\n",
       "tiger  1  2\n",
       "zebra  2  3"
      ]
     },
     "metadata": {},
     "output_type": "display_data"
    },
    {
     "data": {
      "text/plain": [
       "a    1.5E+00\n",
       "b    2.5E+00\n",
       "dtype: float64"
      ]
     },
     "metadata": {},
     "output_type": "display_data"
    }
   ],
   "source": [
    "s = pd.Series([1, 2, 3, 4, 5, 10])\n",
    "display(s.mean())\n",
    "df = pd.DataFrame({'a': [1, 2], 'b': [2, 3]}, index=['tiger', 'zebra'])\n",
    "display(df)\n",
    "display(df.mean())"
   ]
  },
  {
   "cell_type": "markdown",
   "id": "13a62b6f",
   "metadata": {},
   "source": [
    "# median\n",
    "- Return the median of the values over the requested axis."
   ]
  },
  {
   "cell_type": "code",
   "execution_count": 245,
   "id": "ebbba26a",
   "metadata": {},
   "outputs": [
    {
     "data": {
      "text/plain": [
       "np.float64(3.5)"
      ]
     },
     "metadata": {},
     "output_type": "display_data"
    },
    {
     "data": {
      "text/html": [
       "<div>\n",
       "<style scoped>\n",
       "    .dataframe tbody tr th:only-of-type {\n",
       "        vertical-align: middle;\n",
       "    }\n",
       "\n",
       "    .dataframe tbody tr th {\n",
       "        vertical-align: top;\n",
       "    }\n",
       "\n",
       "    .dataframe thead th {\n",
       "        text-align: right;\n",
       "    }\n",
       "</style>\n",
       "<table border=\"1\" class=\"dataframe\">\n",
       "  <thead>\n",
       "    <tr style=\"text-align: right;\">\n",
       "      <th></th>\n",
       "      <th>a</th>\n",
       "      <th>b</th>\n",
       "    </tr>\n",
       "  </thead>\n",
       "  <tbody>\n",
       "    <tr>\n",
       "      <th>tiger</th>\n",
       "      <td>1</td>\n",
       "      <td>2</td>\n",
       "    </tr>\n",
       "    <tr>\n",
       "      <th>zebra</th>\n",
       "      <td>2</td>\n",
       "      <td>3</td>\n",
       "    </tr>\n",
       "  </tbody>\n",
       "</table>\n",
       "</div>"
      ],
      "text/plain": [
       "       a  b\n",
       "tiger  1  2\n",
       "zebra  2  3"
      ]
     },
     "metadata": {},
     "output_type": "display_data"
    },
    {
     "data": {
      "text/plain": [
       "a    1.5E+00\n",
       "b    2.5E+00\n",
       "dtype: float64"
      ]
     },
     "metadata": {},
     "output_type": "display_data"
    }
   ],
   "source": [
    "s = pd.Series([1, 2, 3, 4, 5, 10])\n",
    "display(s.median())\n",
    "df = pd.DataFrame({'a': [1, 2], 'b': [2, 3]}, index=['tiger', 'zebra'])\n",
    "display(df)\n",
    "display(df.median())"
   ]
  },
  {
   "cell_type": "markdown",
   "id": "b637f17a",
   "metadata": {},
   "source": [
    "# melt\n",
    "- Unpivot a DataFrame from wide to long format, optionally leaving identifiers set.\n",
    "- This function is useful to massage a DataFrame into a format where one or more columns are identifier variables (id_vars), while all other columns, considered measured variables (value_vars), are “unpivoted” to the row axis, leaving just two non-identifier columns, ‘variable’ and ‘value’."
   ]
  },
  {
   "cell_type": "code",
   "execution_count": 246,
   "id": "d2c193d2",
   "metadata": {},
   "outputs": [
    {
     "data": {
      "text/html": [
       "<div>\n",
       "<style scoped>\n",
       "    .dataframe tbody tr th:only-of-type {\n",
       "        vertical-align: middle;\n",
       "    }\n",
       "\n",
       "    .dataframe tbody tr th {\n",
       "        vertical-align: top;\n",
       "    }\n",
       "\n",
       "    .dataframe thead th {\n",
       "        text-align: right;\n",
       "    }\n",
       "</style>\n",
       "<table border=\"1\" class=\"dataframe\">\n",
       "  <thead>\n",
       "    <tr style=\"text-align: right;\">\n",
       "      <th></th>\n",
       "      <th>A</th>\n",
       "      <th>B</th>\n",
       "      <th>C</th>\n",
       "    </tr>\n",
       "  </thead>\n",
       "  <tbody>\n",
       "    <tr>\n",
       "      <th>0</th>\n",
       "      <td>a</td>\n",
       "      <td>1</td>\n",
       "      <td>2</td>\n",
       "    </tr>\n",
       "    <tr>\n",
       "      <th>1</th>\n",
       "      <td>b</td>\n",
       "      <td>3</td>\n",
       "      <td>4</td>\n",
       "    </tr>\n",
       "    <tr>\n",
       "      <th>2</th>\n",
       "      <td>c</td>\n",
       "      <td>5</td>\n",
       "      <td>6</td>\n",
       "    </tr>\n",
       "  </tbody>\n",
       "</table>\n",
       "</div>"
      ],
      "text/plain": [
       "   A  B  C\n",
       "0  a  1  2\n",
       "1  b  3  4\n",
       "2  c  5  6"
      ]
     },
     "metadata": {},
     "output_type": "display_data"
    },
    {
     "data": {
      "text/html": [
       "<div>\n",
       "<style scoped>\n",
       "    .dataframe tbody tr th:only-of-type {\n",
       "        vertical-align: middle;\n",
       "    }\n",
       "\n",
       "    .dataframe tbody tr th {\n",
       "        vertical-align: top;\n",
       "    }\n",
       "\n",
       "    .dataframe thead th {\n",
       "        text-align: right;\n",
       "    }\n",
       "</style>\n",
       "<table border=\"1\" class=\"dataframe\">\n",
       "  <thead>\n",
       "    <tr style=\"text-align: right;\">\n",
       "      <th></th>\n",
       "      <th>A</th>\n",
       "      <th>variable</th>\n",
       "      <th>value</th>\n",
       "    </tr>\n",
       "  </thead>\n",
       "  <tbody>\n",
       "    <tr>\n",
       "      <th>0</th>\n",
       "      <td>a</td>\n",
       "      <td>B</td>\n",
       "      <td>1</td>\n",
       "    </tr>\n",
       "    <tr>\n",
       "      <th>1</th>\n",
       "      <td>b</td>\n",
       "      <td>B</td>\n",
       "      <td>3</td>\n",
       "    </tr>\n",
       "    <tr>\n",
       "      <th>2</th>\n",
       "      <td>c</td>\n",
       "      <td>B</td>\n",
       "      <td>5</td>\n",
       "    </tr>\n",
       "  </tbody>\n",
       "</table>\n",
       "</div>"
      ],
      "text/plain": [
       "   A variable  value\n",
       "0  a        B      1\n",
       "1  b        B      3\n",
       "2  c        B      5"
      ]
     },
     "metadata": {},
     "output_type": "display_data"
    }
   ],
   "source": [
    "df = pd.DataFrame({'A': {0: 'a', 1: 'b', 2: 'c'},\n",
    "                   'B': {0: 1, 1: 3, 2: 5},\n",
    "                   'C': {0: 2, 1: 4, 2: 6}})\n",
    "display(df)\n",
    "display(df.melt(id_vars=['A'], value_vars=['B']))"
   ]
  },
  {
   "cell_type": "markdown",
   "id": "64021a5b",
   "metadata": {},
   "source": [
    "# memory_usage\n",
    "- Return the memory usage of each column in bytes.\n",
    "- The memory usage can optionally include the contribution of the index and elements of object dtype.\n",
    "- This value is displayed in DataFrame.info by default. This can be suppressed by setting pandas.options.display.memory_usage to False."
   ]
  },
  {
   "cell_type": "code",
   "execution_count": null,
   "id": "ea19af56",
   "metadata": {},
   "outputs": [],
   "source": []
  },
  {
   "cell_type": "markdown",
   "id": "4d660535",
   "metadata": {},
   "source": [
    "# merge"
   ]
  },
  {
   "cell_type": "code",
   "execution_count": 255,
   "id": "a838b10c",
   "metadata": {},
   "outputs": [
    {
     "data": {
      "text/html": [
       "<div>\n",
       "<style scoped>\n",
       "    .dataframe tbody tr th:only-of-type {\n",
       "        vertical-align: middle;\n",
       "    }\n",
       "\n",
       "    .dataframe tbody tr th {\n",
       "        vertical-align: top;\n",
       "    }\n",
       "\n",
       "    .dataframe thead th {\n",
       "        text-align: right;\n",
       "    }\n",
       "</style>\n",
       "<table border=\"1\" class=\"dataframe\">\n",
       "  <thead>\n",
       "    <tr style=\"text-align: right;\">\n",
       "      <th></th>\n",
       "      <th>int64</th>\n",
       "      <th>float64</th>\n",
       "      <th>bool</th>\n",
       "    </tr>\n",
       "  </thead>\n",
       "  <tbody>\n",
       "    <tr>\n",
       "      <th>0</th>\n",
       "      <td>1</td>\n",
       "      <td>1.0E+00</td>\n",
       "      <td>True</td>\n",
       "    </tr>\n",
       "    <tr>\n",
       "      <th>1</th>\n",
       "      <td>1</td>\n",
       "      <td>1.0E+00</td>\n",
       "      <td>True</td>\n",
       "    </tr>\n",
       "    <tr>\n",
       "      <th>2</th>\n",
       "      <td>1</td>\n",
       "      <td>1.0E+00</td>\n",
       "      <td>True</td>\n",
       "    </tr>\n",
       "    <tr>\n",
       "      <th>3</th>\n",
       "      <td>1</td>\n",
       "      <td>1.0E+00</td>\n",
       "      <td>True</td>\n",
       "    </tr>\n",
       "    <tr>\n",
       "      <th>4</th>\n",
       "      <td>1</td>\n",
       "      <td>1.0E+00</td>\n",
       "      <td>True</td>\n",
       "    </tr>\n",
       "  </tbody>\n",
       "</table>\n",
       "</div>"
      ],
      "text/plain": [
       "   int64  float64  bool\n",
       "0      1  1.0E+00  True\n",
       "1      1  1.0E+00  True\n",
       "2      1  1.0E+00  True\n",
       "3      1  1.0E+00  True\n",
       "4      1  1.0E+00  True"
      ]
     },
     "metadata": {},
     "output_type": "display_data"
    },
    {
     "data": {
      "text/plain": [
       "Index      132\n",
       "int64      400\n",
       "float64    400\n",
       "bool        50\n",
       "dtype: int64"
      ]
     },
     "metadata": {},
     "output_type": "display_data"
    }
   ],
   "source": [
    "dtypes = ['int64', 'float64', 'bool']\n",
    "data = dict([(t, np.ones(shape=50, dtype=int).astype(t))\n",
    "             for t in dtypes])\n",
    "df = pd.DataFrame(data)\n",
    "display(df.head())\n",
    "display(df.memory_usage())"
   ]
  },
  {
   "cell_type": "markdown",
   "id": "0c39b172",
   "metadata": {},
   "source": [
    "# min\n",
    "- Return the minimum of the values over the requested axis.\n",
    "- If you want the index of the minimum, use idxmin. This is the equivalent of the numpy.ndarray method argmin."
   ]
  },
  {
   "cell_type": "code",
   "execution_count": 256,
   "id": "6d00b8cb",
   "metadata": {},
   "outputs": [
    {
     "data": {
      "text/plain": [
       "blooded  animal\n",
       "warm     dog       4\n",
       "         falcon    2\n",
       "cold     fish      0\n",
       "         spider    8\n",
       "Name: legs, dtype: int64"
      ]
     },
     "metadata": {},
     "output_type": "display_data"
    },
    {
     "name": "stdout",
     "output_type": "stream",
     "text": [
      "0\n"
     ]
    }
   ],
   "source": [
    "idx = pd.MultiIndex.from_arrays([\n",
    "    ['warm', 'warm', 'cold', 'cold'],\n",
    "    ['dog', 'falcon', 'fish', 'spider']],\n",
    "    names=['blooded', 'animal'])\n",
    "s = pd.Series([4, 2, 0, 8], name='legs', index=idx)\n",
    "display(s)\n",
    "print(s.min())"
   ]
  },
  {
   "cell_type": "markdown",
   "id": "54d087af",
   "metadata": {},
   "source": [
    "# mod\n",
    "- Get Modulo of dataframe and other, element-wise (binary operator mod).\n",
    "- Equivalent to dataframe % other, but with support to substitute a fill_value for missing data in one of the inputs. With reverse version, rmod.\n",
    "- Among flexible wrappers (add, sub, mul, div, floordiv, mod, pow) to arithmetic operators: +, -, *, /, //, %, **."
   ]
  },
  {
   "cell_type": "code",
   "execution_count": 259,
   "id": "f78d9929",
   "metadata": {},
   "outputs": [
    {
     "data": {
      "text/html": [
       "<div>\n",
       "<style scoped>\n",
       "    .dataframe tbody tr th:only-of-type {\n",
       "        vertical-align: middle;\n",
       "    }\n",
       "\n",
       "    .dataframe tbody tr th {\n",
       "        vertical-align: top;\n",
       "    }\n",
       "\n",
       "    .dataframe thead th {\n",
       "        text-align: right;\n",
       "    }\n",
       "</style>\n",
       "<table border=\"1\" class=\"dataframe\">\n",
       "  <thead>\n",
       "    <tr style=\"text-align: right;\">\n",
       "      <th></th>\n",
       "      <th>angles</th>\n",
       "      <th>degrees</th>\n",
       "    </tr>\n",
       "  </thead>\n",
       "  <tbody>\n",
       "    <tr>\n",
       "      <th>circle</th>\n",
       "      <td>0</td>\n",
       "      <td>360</td>\n",
       "    </tr>\n",
       "    <tr>\n",
       "      <th>triangle</th>\n",
       "      <td>3</td>\n",
       "      <td>180</td>\n",
       "    </tr>\n",
       "    <tr>\n",
       "      <th>rectangle</th>\n",
       "      <td>4</td>\n",
       "      <td>360</td>\n",
       "    </tr>\n",
       "  </tbody>\n",
       "</table>\n",
       "</div>"
      ],
      "text/plain": [
       "           angles  degrees\n",
       "circle          0      360\n",
       "triangle        3      180\n",
       "rectangle       4      360"
      ]
     },
     "metadata": {},
     "output_type": "display_data"
    },
    {
     "data": {
      "text/html": [
       "<div>\n",
       "<style scoped>\n",
       "    .dataframe tbody tr th:only-of-type {\n",
       "        vertical-align: middle;\n",
       "    }\n",
       "\n",
       "    .dataframe tbody tr th {\n",
       "        vertical-align: top;\n",
       "    }\n",
       "\n",
       "    .dataframe thead th {\n",
       "        text-align: right;\n",
       "    }\n",
       "</style>\n",
       "<table border=\"1\" class=\"dataframe\">\n",
       "  <thead>\n",
       "    <tr style=\"text-align: right;\">\n",
       "      <th></th>\n",
       "      <th>angles</th>\n",
       "      <th>degrees</th>\n",
       "    </tr>\n",
       "  </thead>\n",
       "  <tbody>\n",
       "    <tr>\n",
       "      <th>circle</th>\n",
       "      <td>0</td>\n",
       "      <td>9</td>\n",
       "    </tr>\n",
       "    <tr>\n",
       "      <th>triangle</th>\n",
       "      <td>3</td>\n",
       "      <td>18</td>\n",
       "    </tr>\n",
       "    <tr>\n",
       "      <th>rectangle</th>\n",
       "      <td>4</td>\n",
       "      <td>9</td>\n",
       "    </tr>\n",
       "  </tbody>\n",
       "</table>\n",
       "</div>"
      ],
      "text/plain": [
       "           angles  degrees\n",
       "circle          0        9\n",
       "triangle        3       18\n",
       "rectangle       4        9"
      ]
     },
     "metadata": {},
     "output_type": "display_data"
    }
   ],
   "source": [
    "df = pd.DataFrame({'angles': [0, 3, 4],\n",
    "                   'degrees': [360, 180, 360]},\n",
    "                  index=['circle', 'triangle', 'rectangle'])\n",
    "display(df)\n",
    "display(df.mod(27))"
   ]
  },
  {
   "cell_type": "markdown",
   "id": "84aed292",
   "metadata": {},
   "source": [
    "# mode\n",
    "- Get the mode(s) of each element along the selected axis.\n",
    "- The mode of a set of values is the value that appears most often. It can be multiple values."
   ]
  },
  {
   "cell_type": "code",
   "execution_count": 262,
   "id": "db5b187f",
   "metadata": {},
   "outputs": [
    {
     "data": {
      "text/html": [
       "<div>\n",
       "<style scoped>\n",
       "    .dataframe tbody tr th:only-of-type {\n",
       "        vertical-align: middle;\n",
       "    }\n",
       "\n",
       "    .dataframe tbody tr th {\n",
       "        vertical-align: top;\n",
       "    }\n",
       "\n",
       "    .dataframe thead th {\n",
       "        text-align: right;\n",
       "    }\n",
       "</style>\n",
       "<table border=\"1\" class=\"dataframe\">\n",
       "  <thead>\n",
       "    <tr style=\"text-align: right;\">\n",
       "      <th></th>\n",
       "      <th>species</th>\n",
       "      <th>legs</th>\n",
       "      <th>wings</th>\n",
       "    </tr>\n",
       "  </thead>\n",
       "  <tbody>\n",
       "    <tr>\n",
       "      <th>falcon</th>\n",
       "      <td>bird</td>\n",
       "      <td>2</td>\n",
       "      <td>2.0E+00</td>\n",
       "    </tr>\n",
       "    <tr>\n",
       "      <th>horse</th>\n",
       "      <td>mammal</td>\n",
       "      <td>4</td>\n",
       "      <td>NaN</td>\n",
       "    </tr>\n",
       "    <tr>\n",
       "      <th>spider</th>\n",
       "      <td>arthropod</td>\n",
       "      <td>8</td>\n",
       "      <td>0.0E+00</td>\n",
       "    </tr>\n",
       "    <tr>\n",
       "      <th>ostrich</th>\n",
       "      <td>bird</td>\n",
       "      <td>2</td>\n",
       "      <td>NaN</td>\n",
       "    </tr>\n",
       "  </tbody>\n",
       "</table>\n",
       "</div>"
      ],
      "text/plain": [
       "           species  legs    wings\n",
       "falcon        bird     2  2.0E+00\n",
       "horse       mammal     4      NaN\n",
       "spider   arthropod     8  0.0E+00\n",
       "ostrich       bird     2      NaN"
      ]
     },
     "metadata": {},
     "output_type": "display_data"
    },
    {
     "data": {
      "text/html": [
       "<div>\n",
       "<style scoped>\n",
       "    .dataframe tbody tr th:only-of-type {\n",
       "        vertical-align: middle;\n",
       "    }\n",
       "\n",
       "    .dataframe tbody tr th {\n",
       "        vertical-align: top;\n",
       "    }\n",
       "\n",
       "    .dataframe thead th {\n",
       "        text-align: right;\n",
       "    }\n",
       "</style>\n",
       "<table border=\"1\" class=\"dataframe\">\n",
       "  <thead>\n",
       "    <tr style=\"text-align: right;\">\n",
       "      <th></th>\n",
       "      <th>species</th>\n",
       "      <th>legs</th>\n",
       "      <th>wings</th>\n",
       "    </tr>\n",
       "  </thead>\n",
       "  <tbody>\n",
       "    <tr>\n",
       "      <th>0</th>\n",
       "      <td>bird</td>\n",
       "      <td>2.0E+00</td>\n",
       "      <td>0.0E+00</td>\n",
       "    </tr>\n",
       "    <tr>\n",
       "      <th>1</th>\n",
       "      <td>NaN</td>\n",
       "      <td>NaN</td>\n",
       "      <td>2.0E+00</td>\n",
       "    </tr>\n",
       "  </tbody>\n",
       "</table>\n",
       "</div>"
      ],
      "text/plain": [
       "  species     legs    wings\n",
       "0    bird  2.0E+00  0.0E+00\n",
       "1     NaN      NaN  2.0E+00"
      ]
     },
     "metadata": {},
     "output_type": "display_data"
    }
   ],
   "source": [
    "df = pd.DataFrame([('bird', 2, 2),\n",
    "                   ('mammal', 4, np.nan),\n",
    "                   ('arthropod', 8, 0),\n",
    "                   ('bird', 2, np.nan)],\n",
    "                  index=('falcon', 'horse', 'spider', 'ostrich'),\n",
    "                  columns=('species', 'legs', 'wings'))\n",
    "display(df)\n",
    "display(df.mode())"
   ]
  },
  {
   "cell_type": "markdown",
   "id": "c5080d92",
   "metadata": {},
   "source": [
    "# mul\n",
    "- Get Multiplication of dataframe and other, element-wise (binary operator mul).\n",
    "- Equivalent to dataframe * other, but with support to substitute a fill_value for missing data in one of the inputs. With reverse version, rmul.\n",
    "- Among flexible wrappers (add, sub, mul, div, floordiv, mod, pow) to arithmetic operators: +, -, *, /, //, %, **."
   ]
  },
  {
   "cell_type": "code",
   "execution_count": 263,
   "id": "6bcaef5a",
   "metadata": {},
   "outputs": [
    {
     "data": {
      "text/html": [
       "<div>\n",
       "<style scoped>\n",
       "    .dataframe tbody tr th:only-of-type {\n",
       "        vertical-align: middle;\n",
       "    }\n",
       "\n",
       "    .dataframe tbody tr th {\n",
       "        vertical-align: top;\n",
       "    }\n",
       "\n",
       "    .dataframe thead th {\n",
       "        text-align: right;\n",
       "    }\n",
       "</style>\n",
       "<table border=\"1\" class=\"dataframe\">\n",
       "  <thead>\n",
       "    <tr style=\"text-align: right;\">\n",
       "      <th></th>\n",
       "      <th>angles</th>\n",
       "      <th>degrees</th>\n",
       "    </tr>\n",
       "  </thead>\n",
       "  <tbody>\n",
       "    <tr>\n",
       "      <th>circle</th>\n",
       "      <td>0</td>\n",
       "      <td>360</td>\n",
       "    </tr>\n",
       "    <tr>\n",
       "      <th>triangle</th>\n",
       "      <td>3</td>\n",
       "      <td>180</td>\n",
       "    </tr>\n",
       "    <tr>\n",
       "      <th>rectangle</th>\n",
       "      <td>4</td>\n",
       "      <td>360</td>\n",
       "    </tr>\n",
       "  </tbody>\n",
       "</table>\n",
       "</div>"
      ],
      "text/plain": [
       "           angles  degrees\n",
       "circle          0      360\n",
       "triangle        3      180\n",
       "rectangle       4      360"
      ]
     },
     "metadata": {},
     "output_type": "display_data"
    },
    {
     "data": {
      "text/html": [
       "<div>\n",
       "<style scoped>\n",
       "    .dataframe tbody tr th:only-of-type {\n",
       "        vertical-align: middle;\n",
       "    }\n",
       "\n",
       "    .dataframe tbody tr th {\n",
       "        vertical-align: top;\n",
       "    }\n",
       "\n",
       "    .dataframe thead th {\n",
       "        text-align: right;\n",
       "    }\n",
       "</style>\n",
       "<table border=\"1\" class=\"dataframe\">\n",
       "  <thead>\n",
       "    <tr style=\"text-align: right;\">\n",
       "      <th></th>\n",
       "      <th>angles</th>\n",
       "      <th>degrees</th>\n",
       "    </tr>\n",
       "  </thead>\n",
       "  <tbody>\n",
       "    <tr>\n",
       "      <th>circle</th>\n",
       "      <td>0</td>\n",
       "      <td>1080</td>\n",
       "    </tr>\n",
       "    <tr>\n",
       "      <th>triangle</th>\n",
       "      <td>9</td>\n",
       "      <td>540</td>\n",
       "    </tr>\n",
       "    <tr>\n",
       "      <th>rectangle</th>\n",
       "      <td>12</td>\n",
       "      <td>1080</td>\n",
       "    </tr>\n",
       "  </tbody>\n",
       "</table>\n",
       "</div>"
      ],
      "text/plain": [
       "           angles  degrees\n",
       "circle          0     1080\n",
       "triangle        9      540\n",
       "rectangle      12     1080"
      ]
     },
     "metadata": {},
     "output_type": "display_data"
    }
   ],
   "source": [
    "df = pd.DataFrame({'angles': [0, 3, 4],\n",
    "                   'degrees': [360, 180, 360]},\n",
    "                  index=['circle', 'triangle', 'rectangle'])\n",
    "display(df)\n",
    "display(df.mul(3))"
   ]
  },
  {
   "cell_type": "markdown",
   "id": "1529bfaf",
   "metadata": {},
   "source": [
    "# multiply == mul"
   ]
  },
  {
   "cell_type": "code",
   "execution_count": 264,
   "id": "4557a197",
   "metadata": {},
   "outputs": [
    {
     "data": {
      "text/html": [
       "<div>\n",
       "<style scoped>\n",
       "    .dataframe tbody tr th:only-of-type {\n",
       "        vertical-align: middle;\n",
       "    }\n",
       "\n",
       "    .dataframe tbody tr th {\n",
       "        vertical-align: top;\n",
       "    }\n",
       "\n",
       "    .dataframe thead th {\n",
       "        text-align: right;\n",
       "    }\n",
       "</style>\n",
       "<table border=\"1\" class=\"dataframe\">\n",
       "  <thead>\n",
       "    <tr style=\"text-align: right;\">\n",
       "      <th></th>\n",
       "      <th>angles</th>\n",
       "      <th>degrees</th>\n",
       "    </tr>\n",
       "  </thead>\n",
       "  <tbody>\n",
       "    <tr>\n",
       "      <th>circle</th>\n",
       "      <td>0</td>\n",
       "      <td>1080</td>\n",
       "    </tr>\n",
       "    <tr>\n",
       "      <th>triangle</th>\n",
       "      <td>9</td>\n",
       "      <td>540</td>\n",
       "    </tr>\n",
       "    <tr>\n",
       "      <th>rectangle</th>\n",
       "      <td>12</td>\n",
       "      <td>1080</td>\n",
       "    </tr>\n",
       "  </tbody>\n",
       "</table>\n",
       "</div>"
      ],
      "text/plain": [
       "           angles  degrees\n",
       "circle          0     1080\n",
       "triangle        9      540\n",
       "rectangle      12     1080"
      ]
     },
     "metadata": {},
     "output_type": "display_data"
    }
   ],
   "source": [
    "display(df.multiply(3))"
   ]
  },
  {
   "cell_type": "markdown",
   "id": "06fd0047",
   "metadata": {},
   "source": [
    "# ndim\n",
    "- Return an int representing the number of axes / array dimensions.\n",
    "- Return 1 if Series. Otherwise return 2 if DataFrame."
   ]
  },
  {
   "cell_type": "code",
   "execution_count": 265,
   "id": "39c0d2d9",
   "metadata": {},
   "outputs": [
    {
     "data": {
      "text/plain": [
       "1"
      ]
     },
     "metadata": {},
     "output_type": "display_data"
    },
    {
     "data": {
      "text/plain": [
       "2"
      ]
     },
     "metadata": {},
     "output_type": "display_data"
    }
   ],
   "source": [
    "s = pd.Series({'a': 1, 'b': 2, 'c': 3})\n",
    "display(s.ndim)\n",
    "df = pd.DataFrame({'col1': [1, 2], 'col2': [3, 4]})\n",
    "display(df.ndim)"
   ]
  },
  {
   "cell_type": "markdown",
   "id": "93bd1cfd",
   "metadata": {},
   "source": [
    "# ne\n",
    "- Get Not equal to of dataframe and other, element-wise (binary operator ne).\n",
    "- Among flexible wrappers (eq, ne, le, lt, ge, gt) to comparison operators.\n",
    "- Equivalent to ==, !=, <=, <, >=, > with support to choose axis (rows or columns) and level for comparison."
   ]
  },
  {
   "cell_type": "code",
   "execution_count": 266,
   "id": "8245ab7f",
   "metadata": {},
   "outputs": [
    {
     "data": {
      "text/html": [
       "<div>\n",
       "<style scoped>\n",
       "    .dataframe tbody tr th:only-of-type {\n",
       "        vertical-align: middle;\n",
       "    }\n",
       "\n",
       "    .dataframe tbody tr th {\n",
       "        vertical-align: top;\n",
       "    }\n",
       "\n",
       "    .dataframe thead th {\n",
       "        text-align: right;\n",
       "    }\n",
       "</style>\n",
       "<table border=\"1\" class=\"dataframe\">\n",
       "  <thead>\n",
       "    <tr style=\"text-align: right;\">\n",
       "      <th></th>\n",
       "      <th>cost</th>\n",
       "      <th>revenue</th>\n",
       "    </tr>\n",
       "  </thead>\n",
       "  <tbody>\n",
       "    <tr>\n",
       "      <th>A</th>\n",
       "      <td>250</td>\n",
       "      <td>100</td>\n",
       "    </tr>\n",
       "    <tr>\n",
       "      <th>B</th>\n",
       "      <td>150</td>\n",
       "      <td>250</td>\n",
       "    </tr>\n",
       "    <tr>\n",
       "      <th>C</th>\n",
       "      <td>100</td>\n",
       "      <td>300</td>\n",
       "    </tr>\n",
       "  </tbody>\n",
       "</table>\n",
       "</div>"
      ],
      "text/plain": [
       "   cost  revenue\n",
       "A   250      100\n",
       "B   150      250\n",
       "C   100      300"
      ]
     },
     "metadata": {},
     "output_type": "display_data"
    },
    {
     "data": {
      "text/html": [
       "<div>\n",
       "<style scoped>\n",
       "    .dataframe tbody tr th:only-of-type {\n",
       "        vertical-align: middle;\n",
       "    }\n",
       "\n",
       "    .dataframe tbody tr th {\n",
       "        vertical-align: top;\n",
       "    }\n",
       "\n",
       "    .dataframe thead th {\n",
       "        text-align: right;\n",
       "    }\n",
       "</style>\n",
       "<table border=\"1\" class=\"dataframe\">\n",
       "  <thead>\n",
       "    <tr style=\"text-align: right;\">\n",
       "      <th></th>\n",
       "      <th>cost</th>\n",
       "      <th>revenue</th>\n",
       "    </tr>\n",
       "  </thead>\n",
       "  <tbody>\n",
       "    <tr>\n",
       "      <th>A</th>\n",
       "      <td>True</td>\n",
       "      <td>False</td>\n",
       "    </tr>\n",
       "    <tr>\n",
       "      <th>B</th>\n",
       "      <td>True</td>\n",
       "      <td>True</td>\n",
       "    </tr>\n",
       "    <tr>\n",
       "      <th>C</th>\n",
       "      <td>False</td>\n",
       "      <td>True</td>\n",
       "    </tr>\n",
       "  </tbody>\n",
       "</table>\n",
       "</div>"
      ],
      "text/plain": [
       "    cost  revenue\n",
       "A   True    False\n",
       "B   True     True\n",
       "C  False     True"
      ]
     },
     "metadata": {},
     "output_type": "display_data"
    }
   ],
   "source": [
    "df = pd.DataFrame({'cost': [250, 150, 100],\n",
    "                   'revenue': [100, 250, 300]},\n",
    "                  index=['A', 'B', 'C'])\n",
    "display(df)\n",
    "display(df.ne(100))"
   ]
  },
  {
   "cell_type": "markdown",
   "id": "c58159e5",
   "metadata": {},
   "source": [
    "# nlargest\n",
    "- Return the first n rows ordered by columns in descending order.\n",
    "- Return the first n rows with the largest values in columns, in descending order. The columns that are not specified are returned as well, but not used for ordering.\n",
    "- This method is equivalent to df.sort_values(columns, ascending=False).head(n), but more performant."
   ]
  },
  {
   "cell_type": "code",
   "execution_count": 269,
   "id": "c5a82108",
   "metadata": {},
   "outputs": [
    {
     "data": {
      "text/html": [
       "<div>\n",
       "<style scoped>\n",
       "    .dataframe tbody tr th:only-of-type {\n",
       "        vertical-align: middle;\n",
       "    }\n",
       "\n",
       "    .dataframe tbody tr th {\n",
       "        vertical-align: top;\n",
       "    }\n",
       "\n",
       "    .dataframe thead th {\n",
       "        text-align: right;\n",
       "    }\n",
       "</style>\n",
       "<table border=\"1\" class=\"dataframe\">\n",
       "  <thead>\n",
       "    <tr style=\"text-align: right;\">\n",
       "      <th></th>\n",
       "      <th>population</th>\n",
       "      <th>GDP</th>\n",
       "      <th>alpha-2</th>\n",
       "    </tr>\n",
       "  </thead>\n",
       "  <tbody>\n",
       "    <tr>\n",
       "      <th>Italy</th>\n",
       "      <td>59000000</td>\n",
       "      <td>1937894</td>\n",
       "      <td>IT</td>\n",
       "    </tr>\n",
       "    <tr>\n",
       "      <th>France</th>\n",
       "      <td>65000000</td>\n",
       "      <td>2583560</td>\n",
       "      <td>FR</td>\n",
       "    </tr>\n",
       "    <tr>\n",
       "      <th>Malta</th>\n",
       "      <td>434000</td>\n",
       "      <td>12011</td>\n",
       "      <td>MT</td>\n",
       "    </tr>\n",
       "    <tr>\n",
       "      <th>Maldives</th>\n",
       "      <td>434000</td>\n",
       "      <td>4520</td>\n",
       "      <td>MV</td>\n",
       "    </tr>\n",
       "    <tr>\n",
       "      <th>Brunei</th>\n",
       "      <td>434000</td>\n",
       "      <td>12128</td>\n",
       "      <td>BN</td>\n",
       "    </tr>\n",
       "    <tr>\n",
       "      <th>Iceland</th>\n",
       "      <td>337000</td>\n",
       "      <td>17036</td>\n",
       "      <td>IS</td>\n",
       "    </tr>\n",
       "    <tr>\n",
       "      <th>Nauru</th>\n",
       "      <td>11300</td>\n",
       "      <td>182</td>\n",
       "      <td>NR</td>\n",
       "    </tr>\n",
       "    <tr>\n",
       "      <th>Tuvalu</th>\n",
       "      <td>11300</td>\n",
       "      <td>38</td>\n",
       "      <td>TV</td>\n",
       "    </tr>\n",
       "    <tr>\n",
       "      <th>Anguilla</th>\n",
       "      <td>11300</td>\n",
       "      <td>311</td>\n",
       "      <td>AI</td>\n",
       "    </tr>\n",
       "  </tbody>\n",
       "</table>\n",
       "</div>"
      ],
      "text/plain": [
       "          population      GDP alpha-2\n",
       "Italy       59000000  1937894      IT\n",
       "France      65000000  2583560      FR\n",
       "Malta         434000    12011      MT\n",
       "Maldives      434000     4520      MV\n",
       "Brunei        434000    12128      BN\n",
       "Iceland       337000    17036      IS\n",
       "Nauru          11300      182      NR\n",
       "Tuvalu         11300       38      TV\n",
       "Anguilla       11300      311      AI"
      ]
     },
     "metadata": {},
     "output_type": "display_data"
    },
    {
     "data": {
      "text/html": [
       "<div>\n",
       "<style scoped>\n",
       "    .dataframe tbody tr th:only-of-type {\n",
       "        vertical-align: middle;\n",
       "    }\n",
       "\n",
       "    .dataframe tbody tr th {\n",
       "        vertical-align: top;\n",
       "    }\n",
       "\n",
       "    .dataframe thead th {\n",
       "        text-align: right;\n",
       "    }\n",
       "</style>\n",
       "<table border=\"1\" class=\"dataframe\">\n",
       "  <thead>\n",
       "    <tr style=\"text-align: right;\">\n",
       "      <th></th>\n",
       "      <th>population</th>\n",
       "      <th>GDP</th>\n",
       "      <th>alpha-2</th>\n",
       "    </tr>\n",
       "  </thead>\n",
       "  <tbody>\n",
       "    <tr>\n",
       "      <th>France</th>\n",
       "      <td>65000000</td>\n",
       "      <td>2583560</td>\n",
       "      <td>FR</td>\n",
       "    </tr>\n",
       "    <tr>\n",
       "      <th>Italy</th>\n",
       "      <td>59000000</td>\n",
       "      <td>1937894</td>\n",
       "      <td>IT</td>\n",
       "    </tr>\n",
       "    <tr>\n",
       "      <th>Malta</th>\n",
       "      <td>434000</td>\n",
       "      <td>12011</td>\n",
       "      <td>MT</td>\n",
       "    </tr>\n",
       "  </tbody>\n",
       "</table>\n",
       "</div>"
      ],
      "text/plain": [
       "        population      GDP alpha-2\n",
       "France    65000000  2583560      FR\n",
       "Italy     59000000  1937894      IT\n",
       "Malta       434000    12011      MT"
      ]
     },
     "metadata": {},
     "output_type": "display_data"
    }
   ],
   "source": [
    "df = pd.DataFrame({'population': [59000000, 65000000, 434000,\n",
    "                                  434000, 434000, 337000, 11300,\n",
    "                                  11300, 11300],\n",
    "                   'GDP': [1937894, 2583560 , 12011, 4520, 12128,\n",
    "                           17036, 182, 38, 311],\n",
    "                   'alpha-2': [\"IT\", \"FR\", \"MT\", \"MV\", \"BN\",\n",
    "                               \"IS\", \"NR\", \"TV\", \"AI\"]},\n",
    "                  index=[\"Italy\", \"France\", \"Malta\",\n",
    "                         \"Maldives\", \"Brunei\", \"Iceland\",\n",
    "                         \"Nauru\", \"Tuvalu\", \"Anguilla\"])\n",
    "display(df)\n",
    "display(df.nlargest(3, 'population'))"
   ]
  },
  {
   "cell_type": "markdown",
   "id": "ef802476",
   "metadata": {},
   "source": [
    "# notna\n",
    "- Detect existing (non-missing) values.\n",
    "- Return a boolean same-sized object indicating if the values are not NA. Non-missing values get mapped to True. Characters such as empty strings '' or numpy.inf are not considered NA values (unless you set pandas.options.mode.use_inf_as_na = True). NA values, such as None or numpy.NaN, get mapped to False values."
   ]
  },
  {
   "cell_type": "code",
   "execution_count": 270,
   "id": "6bce2e16",
   "metadata": {},
   "outputs": [
    {
     "data": {
      "text/html": [
       "<div>\n",
       "<style scoped>\n",
       "    .dataframe tbody tr th:only-of-type {\n",
       "        vertical-align: middle;\n",
       "    }\n",
       "\n",
       "    .dataframe tbody tr th {\n",
       "        vertical-align: top;\n",
       "    }\n",
       "\n",
       "    .dataframe thead th {\n",
       "        text-align: right;\n",
       "    }\n",
       "</style>\n",
       "<table border=\"1\" class=\"dataframe\">\n",
       "  <thead>\n",
       "    <tr style=\"text-align: right;\">\n",
       "      <th></th>\n",
       "      <th>age</th>\n",
       "      <th>born</th>\n",
       "      <th>name</th>\n",
       "      <th>toy</th>\n",
       "    </tr>\n",
       "  </thead>\n",
       "  <tbody>\n",
       "    <tr>\n",
       "      <th>0</th>\n",
       "      <td>5.0E+00</td>\n",
       "      <td>NaT</td>\n",
       "      <td>Alfred</td>\n",
       "      <td>None</td>\n",
       "    </tr>\n",
       "    <tr>\n",
       "      <th>1</th>\n",
       "      <td>6.0E+00</td>\n",
       "      <td>1939-05-27</td>\n",
       "      <td>Batman</td>\n",
       "      <td>Batmobile</td>\n",
       "    </tr>\n",
       "    <tr>\n",
       "      <th>2</th>\n",
       "      <td>NaN</td>\n",
       "      <td>1940-04-25</td>\n",
       "      <td></td>\n",
       "      <td>Joker</td>\n",
       "    </tr>\n",
       "  </tbody>\n",
       "</table>\n",
       "</div>"
      ],
      "text/plain": [
       "       age       born    name        toy\n",
       "0  5.0E+00        NaT  Alfred       None\n",
       "1  6.0E+00 1939-05-27  Batman  Batmobile\n",
       "2      NaN 1940-04-25              Joker"
      ]
     },
     "metadata": {},
     "output_type": "display_data"
    },
    {
     "data": {
      "text/html": [
       "<div>\n",
       "<style scoped>\n",
       "    .dataframe tbody tr th:only-of-type {\n",
       "        vertical-align: middle;\n",
       "    }\n",
       "\n",
       "    .dataframe tbody tr th {\n",
       "        vertical-align: top;\n",
       "    }\n",
       "\n",
       "    .dataframe thead th {\n",
       "        text-align: right;\n",
       "    }\n",
       "</style>\n",
       "<table border=\"1\" class=\"dataframe\">\n",
       "  <thead>\n",
       "    <tr style=\"text-align: right;\">\n",
       "      <th></th>\n",
       "      <th>age</th>\n",
       "      <th>born</th>\n",
       "      <th>name</th>\n",
       "      <th>toy</th>\n",
       "    </tr>\n",
       "  </thead>\n",
       "  <tbody>\n",
       "    <tr>\n",
       "      <th>0</th>\n",
       "      <td>True</td>\n",
       "      <td>False</td>\n",
       "      <td>True</td>\n",
       "      <td>False</td>\n",
       "    </tr>\n",
       "    <tr>\n",
       "      <th>1</th>\n",
       "      <td>True</td>\n",
       "      <td>True</td>\n",
       "      <td>True</td>\n",
       "      <td>True</td>\n",
       "    </tr>\n",
       "    <tr>\n",
       "      <th>2</th>\n",
       "      <td>False</td>\n",
       "      <td>True</td>\n",
       "      <td>True</td>\n",
       "      <td>True</td>\n",
       "    </tr>\n",
       "  </tbody>\n",
       "</table>\n",
       "</div>"
      ],
      "text/plain": [
       "     age   born  name    toy\n",
       "0   True  False  True  False\n",
       "1   True   True  True   True\n",
       "2  False   True  True   True"
      ]
     },
     "metadata": {},
     "output_type": "display_data"
    }
   ],
   "source": [
    "df = pd.DataFrame(dict(age=[5, 6, np.nan],\n",
    "                       born=[pd.NaT, pd.Timestamp('1939-05-27'),\n",
    "                             pd.Timestamp('1940-04-25')],\n",
    "                       name=['Alfred', 'Batman', ''],\n",
    "                       toy=[None, 'Batmobile', 'Joker']))\n",
    "display(df)\n",
    "display(df.notna())"
   ]
  },
  {
   "cell_type": "markdown",
   "id": "12fd82cc",
   "metadata": {},
   "source": [
    "# notnull\n",
    "- DataFrame.notnull is an alias for DataFrame.notna.\n",
    "- Detect existing (non-missing) values.\n",
    "- Return a boolean same-sized object indicating if the values are not NA. Non-missing values get mapped to True. Characters such as empty strings '' or numpy.inf are not considered NA values (unless you set pandas.options.mode.use_inf_as_na = True). NA values, such as None or numpy.NaN, get mapped to False values."
   ]
  },
  {
   "cell_type": "code",
   "execution_count": 271,
   "id": "e62b7477",
   "metadata": {},
   "outputs": [
    {
     "data": {
      "text/html": [
       "<div>\n",
       "<style scoped>\n",
       "    .dataframe tbody tr th:only-of-type {\n",
       "        vertical-align: middle;\n",
       "    }\n",
       "\n",
       "    .dataframe tbody tr th {\n",
       "        vertical-align: top;\n",
       "    }\n",
       "\n",
       "    .dataframe thead th {\n",
       "        text-align: right;\n",
       "    }\n",
       "</style>\n",
       "<table border=\"1\" class=\"dataframe\">\n",
       "  <thead>\n",
       "    <tr style=\"text-align: right;\">\n",
       "      <th></th>\n",
       "      <th>age</th>\n",
       "      <th>born</th>\n",
       "      <th>name</th>\n",
       "      <th>toy</th>\n",
       "    </tr>\n",
       "  </thead>\n",
       "  <tbody>\n",
       "    <tr>\n",
       "      <th>0</th>\n",
       "      <td>True</td>\n",
       "      <td>False</td>\n",
       "      <td>True</td>\n",
       "      <td>False</td>\n",
       "    </tr>\n",
       "    <tr>\n",
       "      <th>1</th>\n",
       "      <td>True</td>\n",
       "      <td>True</td>\n",
       "      <td>True</td>\n",
       "      <td>True</td>\n",
       "    </tr>\n",
       "    <tr>\n",
       "      <th>2</th>\n",
       "      <td>False</td>\n",
       "      <td>True</td>\n",
       "      <td>True</td>\n",
       "      <td>True</td>\n",
       "    </tr>\n",
       "  </tbody>\n",
       "</table>\n",
       "</div>"
      ],
      "text/plain": [
       "     age   born  name    toy\n",
       "0   True  False  True  False\n",
       "1   True   True  True   True\n",
       "2  False   True  True   True"
      ]
     },
     "metadata": {},
     "output_type": "display_data"
    }
   ],
   "source": [
    "display(df.notnull())"
   ]
  },
  {
   "cell_type": "markdown",
   "id": "3a622a10",
   "metadata": {},
   "source": [
    "# nsmallest\n",
    "- Return the first n rows ordered by columns in ascending order.\n",
    "- Return the first n rows with the smallest values in columns, in ascending order. The columns that are not specified are returned as well, but not used for ordering.\n",
    "- This method is equivalent to df.sort_values(columns, ascending=True).head(n), but more performant."
   ]
  },
  {
   "cell_type": "code",
   "execution_count": 272,
   "id": "9848eb0c",
   "metadata": {},
   "outputs": [
    {
     "data": {
      "text/html": [
       "<div>\n",
       "<style scoped>\n",
       "    .dataframe tbody tr th:only-of-type {\n",
       "        vertical-align: middle;\n",
       "    }\n",
       "\n",
       "    .dataframe tbody tr th {\n",
       "        vertical-align: top;\n",
       "    }\n",
       "\n",
       "    .dataframe thead th {\n",
       "        text-align: right;\n",
       "    }\n",
       "</style>\n",
       "<table border=\"1\" class=\"dataframe\">\n",
       "  <thead>\n",
       "    <tr style=\"text-align: right;\">\n",
       "      <th></th>\n",
       "      <th>population</th>\n",
       "      <th>GDP</th>\n",
       "      <th>alpha-2</th>\n",
       "    </tr>\n",
       "  </thead>\n",
       "  <tbody>\n",
       "    <tr>\n",
       "      <th>Italy</th>\n",
       "      <td>59000000</td>\n",
       "      <td>1937894</td>\n",
       "      <td>IT</td>\n",
       "    </tr>\n",
       "    <tr>\n",
       "      <th>France</th>\n",
       "      <td>65000000</td>\n",
       "      <td>2583560</td>\n",
       "      <td>FR</td>\n",
       "    </tr>\n",
       "    <tr>\n",
       "      <th>Malta</th>\n",
       "      <td>434000</td>\n",
       "      <td>12011</td>\n",
       "      <td>MT</td>\n",
       "    </tr>\n",
       "    <tr>\n",
       "      <th>Maldives</th>\n",
       "      <td>434000</td>\n",
       "      <td>4520</td>\n",
       "      <td>MV</td>\n",
       "    </tr>\n",
       "    <tr>\n",
       "      <th>Brunei</th>\n",
       "      <td>434000</td>\n",
       "      <td>12128</td>\n",
       "      <td>BN</td>\n",
       "    </tr>\n",
       "    <tr>\n",
       "      <th>Iceland</th>\n",
       "      <td>337000</td>\n",
       "      <td>17036</td>\n",
       "      <td>IS</td>\n",
       "    </tr>\n",
       "    <tr>\n",
       "      <th>Nauru</th>\n",
       "      <td>337000</td>\n",
       "      <td>182</td>\n",
       "      <td>NR</td>\n",
       "    </tr>\n",
       "    <tr>\n",
       "      <th>Tuvalu</th>\n",
       "      <td>11300</td>\n",
       "      <td>38</td>\n",
       "      <td>TV</td>\n",
       "    </tr>\n",
       "    <tr>\n",
       "      <th>Anguilla</th>\n",
       "      <td>11300</td>\n",
       "      <td>311</td>\n",
       "      <td>AI</td>\n",
       "    </tr>\n",
       "  </tbody>\n",
       "</table>\n",
       "</div>"
      ],
      "text/plain": [
       "          population      GDP alpha-2\n",
       "Italy       59000000  1937894      IT\n",
       "France      65000000  2583560      FR\n",
       "Malta         434000    12011      MT\n",
       "Maldives      434000     4520      MV\n",
       "Brunei        434000    12128      BN\n",
       "Iceland       337000    17036      IS\n",
       "Nauru         337000      182      NR\n",
       "Tuvalu         11300       38      TV\n",
       "Anguilla       11300      311      AI"
      ]
     },
     "metadata": {},
     "output_type": "display_data"
    },
    {
     "data": {
      "text/html": [
       "<div>\n",
       "<style scoped>\n",
       "    .dataframe tbody tr th:only-of-type {\n",
       "        vertical-align: middle;\n",
       "    }\n",
       "\n",
       "    .dataframe tbody tr th {\n",
       "        vertical-align: top;\n",
       "    }\n",
       "\n",
       "    .dataframe thead th {\n",
       "        text-align: right;\n",
       "    }\n",
       "</style>\n",
       "<table border=\"1\" class=\"dataframe\">\n",
       "  <thead>\n",
       "    <tr style=\"text-align: right;\">\n",
       "      <th></th>\n",
       "      <th>population</th>\n",
       "      <th>GDP</th>\n",
       "      <th>alpha-2</th>\n",
       "    </tr>\n",
       "  </thead>\n",
       "  <tbody>\n",
       "    <tr>\n",
       "      <th>Tuvalu</th>\n",
       "      <td>11300</td>\n",
       "      <td>38</td>\n",
       "      <td>TV</td>\n",
       "    </tr>\n",
       "    <tr>\n",
       "      <th>Anguilla</th>\n",
       "      <td>11300</td>\n",
       "      <td>311</td>\n",
       "      <td>AI</td>\n",
       "    </tr>\n",
       "    <tr>\n",
       "      <th>Iceland</th>\n",
       "      <td>337000</td>\n",
       "      <td>17036</td>\n",
       "      <td>IS</td>\n",
       "    </tr>\n",
       "  </tbody>\n",
       "</table>\n",
       "</div>"
      ],
      "text/plain": [
       "          population    GDP alpha-2\n",
       "Tuvalu         11300     38      TV\n",
       "Anguilla       11300    311      AI\n",
       "Iceland       337000  17036      IS"
      ]
     },
     "metadata": {},
     "output_type": "display_data"
    }
   ],
   "source": [
    "df = pd.DataFrame({'population': [59000000, 65000000, 434000,\n",
    "                                  434000, 434000, 337000, 337000,\n",
    "                                  11300, 11300],\n",
    "                   'GDP': [1937894, 2583560 , 12011, 4520, 12128,\n",
    "                           17036, 182, 38, 311],\n",
    "                   'alpha-2': [\"IT\", \"FR\", \"MT\", \"MV\", \"BN\",\n",
    "                               \"IS\", \"NR\", \"TV\", \"AI\"]},\n",
    "                  index=[\"Italy\", \"France\", \"Malta\",\n",
    "                         \"Maldives\", \"Brunei\", \"Iceland\",\n",
    "                         \"Nauru\", \"Tuvalu\", \"Anguilla\"])\n",
    "display(df)\n",
    "display(df.nsmallest(3, 'population'))"
   ]
  },
  {
   "cell_type": "markdown",
   "id": "6c8f9bc2",
   "metadata": {},
   "source": [
    "# nunique\n",
    "- Count number of distinct elements in specified axis.\n",
    "- Return Series with number of distinct elements. Can ignore NaN values."
   ]
  },
  {
   "cell_type": "code",
   "execution_count": 273,
   "id": "6d0ed094",
   "metadata": {},
   "outputs": [
    {
     "data": {
      "text/plain": [
       "A    3\n",
       "B    2\n",
       "dtype: int64"
      ]
     },
     "metadata": {},
     "output_type": "display_data"
    }
   ],
   "source": [
    "df = pd.DataFrame({'A': [4, 5, 6], 'B': [4, 1, 1]})\n",
    "display(df.nunique())"
   ]
  },
  {
   "cell_type": "markdown",
   "id": "ee3221e7",
   "metadata": {},
   "source": [
    "# pct_change\n",
    "- Fractional change between the current and a prior element.\n",
    "- Computes the fractional change from the immediately previous row by default. This is useful in comparing the fraction of change in a time series of elements."
   ]
  },
  {
   "cell_type": "code",
   "execution_count": 274,
   "id": "1da77e9e",
   "metadata": {},
   "outputs": [
    {
     "data": {
      "text/plain": [
       "0    90\n",
       "1    91\n",
       "2    85\n",
       "dtype: int64"
      ]
     },
     "metadata": {},
     "output_type": "display_data"
    },
    {
     "data": {
      "text/plain": [
       "0         NaN\n",
       "1    11.1E-03\n",
       "2   -65.9E-03\n",
       "dtype: float64"
      ]
     },
     "metadata": {},
     "output_type": "display_data"
    }
   ],
   "source": [
    "s = pd.Series([90, 91, 85])\n",
    "display(s)\n",
    "display(s.pct_change())"
   ]
  },
  {
   "cell_type": "markdown",
   "id": "547f0597",
   "metadata": {},
   "source": [
    "# pipe\n",
    "- Apply chainable functions that expect Series or DataFrames."
   ]
  },
  {
   "cell_type": "code",
   "execution_count": 275,
   "id": "17a3f148",
   "metadata": {},
   "outputs": [
    {
     "data": {
      "text/html": [
       "<div>\n",
       "<style scoped>\n",
       "    .dataframe tbody tr th:only-of-type {\n",
       "        vertical-align: middle;\n",
       "    }\n",
       "\n",
       "    .dataframe tbody tr th {\n",
       "        vertical-align: top;\n",
       "    }\n",
       "\n",
       "    .dataframe thead th {\n",
       "        text-align: right;\n",
       "    }\n",
       "</style>\n",
       "<table border=\"1\" class=\"dataframe\">\n",
       "  <thead>\n",
       "    <tr style=\"text-align: right;\">\n",
       "      <th></th>\n",
       "      <th>Salary</th>\n",
       "      <th>Others</th>\n",
       "    </tr>\n",
       "  </thead>\n",
       "  <tbody>\n",
       "    <tr>\n",
       "      <th>0</th>\n",
       "      <td>8000</td>\n",
       "      <td>1.0E+03</td>\n",
       "    </tr>\n",
       "    <tr>\n",
       "      <th>1</th>\n",
       "      <td>9500</td>\n",
       "      <td>NaN</td>\n",
       "    </tr>\n",
       "    <tr>\n",
       "      <th>2</th>\n",
       "      <td>5000</td>\n",
       "      <td>2.0E+03</td>\n",
       "    </tr>\n",
       "  </tbody>\n",
       "</table>\n",
       "</div>"
      ],
      "text/plain": [
       "   Salary   Others\n",
       "0    8000  1.0E+03\n",
       "1    9500      NaN\n",
       "2    5000  2.0E+03"
      ]
     },
     "metadata": {},
     "output_type": "display_data"
    },
    {
     "data": {
      "text/html": [
       "<div>\n",
       "<style scoped>\n",
       "    .dataframe tbody tr th:only-of-type {\n",
       "        vertical-align: middle;\n",
       "    }\n",
       "\n",
       "    .dataframe tbody tr th {\n",
       "        vertical-align: top;\n",
       "    }\n",
       "\n",
       "    .dataframe thead th {\n",
       "        text-align: right;\n",
       "    }\n",
       "</style>\n",
       "<table border=\"1\" class=\"dataframe\">\n",
       "  <thead>\n",
       "    <tr style=\"text-align: right;\">\n",
       "      <th></th>\n",
       "      <th>Salary</th>\n",
       "      <th>Others</th>\n",
       "    </tr>\n",
       "  </thead>\n",
       "  <tbody>\n",
       "    <tr>\n",
       "      <th>0</th>\n",
       "      <td>5.9E+03</td>\n",
       "      <td>736.6E+00</td>\n",
       "    </tr>\n",
       "    <tr>\n",
       "      <th>1</th>\n",
       "      <td>7.0E+03</td>\n",
       "      <td>NaN</td>\n",
       "    </tr>\n",
       "    <tr>\n",
       "      <th>2</th>\n",
       "      <td>3.7E+03</td>\n",
       "      <td>1.5E+03</td>\n",
       "    </tr>\n",
       "  </tbody>\n",
       "</table>\n",
       "</div>"
      ],
      "text/plain": [
       "    Salary     Others\n",
       "0  5.9E+03  736.6E+00\n",
       "1  7.0E+03        NaN\n",
       "2  3.7E+03    1.5E+03"
      ]
     },
     "metadata": {},
     "output_type": "display_data"
    }
   ],
   "source": [
    "data = [[8000, 1000], [9500, np.nan], [5000, 2000]]\n",
    "df = pd.DataFrame(data, columns=['Salary', 'Others'])\n",
    "display(df)\n",
    "def subtract_federal_tax(df):\n",
    "    return df * 0.9\n",
    "def subtract_state_tax(df, rate):\n",
    "    return df * (1 - rate)\n",
    "def subtract_national_insurance(df, rate, rate_increase):\n",
    "    new_rate = rate + rate_increase\n",
    "    return df * (1 - new_rate)\n",
    "display(\n",
    "    df.pipe(subtract_federal_tax)\n",
    "    .pipe(subtract_state_tax, rate=0.12)\n",
    "    .pipe(subtract_national_insurance, rate=0.05, rate_increase=0.02)\n",
    ")"
   ]
  },
  {
   "cell_type": "markdown",
   "id": "ad7c6542",
   "metadata": {},
   "source": [
    "# pivot\n",
    "- Return reshaped DataFrame organized by given index / column values.\n",
    "- Reshape data (produce a “pivot” table) based on column values. Uses unique values from specified index / columns to form axes of the resulting DataFrame. This function does not support data aggregation, multiple values will result in a MultiIndex in the columns. See the User Guide for more on reshaping."
   ]
  },
  {
   "cell_type": "code",
   "execution_count": 276,
   "id": "832e111b",
   "metadata": {},
   "outputs": [
    {
     "data": {
      "text/html": [
       "<div>\n",
       "<style scoped>\n",
       "    .dataframe tbody tr th:only-of-type {\n",
       "        vertical-align: middle;\n",
       "    }\n",
       "\n",
       "    .dataframe tbody tr th {\n",
       "        vertical-align: top;\n",
       "    }\n",
       "\n",
       "    .dataframe thead th {\n",
       "        text-align: right;\n",
       "    }\n",
       "</style>\n",
       "<table border=\"1\" class=\"dataframe\">\n",
       "  <thead>\n",
       "    <tr style=\"text-align: right;\">\n",
       "      <th></th>\n",
       "      <th>foo</th>\n",
       "      <th>bar</th>\n",
       "      <th>baz</th>\n",
       "      <th>zoo</th>\n",
       "    </tr>\n",
       "  </thead>\n",
       "  <tbody>\n",
       "    <tr>\n",
       "      <th>0</th>\n",
       "      <td>one</td>\n",
       "      <td>A</td>\n",
       "      <td>1</td>\n",
       "      <td>x</td>\n",
       "    </tr>\n",
       "    <tr>\n",
       "      <th>1</th>\n",
       "      <td>one</td>\n",
       "      <td>B</td>\n",
       "      <td>2</td>\n",
       "      <td>y</td>\n",
       "    </tr>\n",
       "    <tr>\n",
       "      <th>2</th>\n",
       "      <td>one</td>\n",
       "      <td>C</td>\n",
       "      <td>3</td>\n",
       "      <td>z</td>\n",
       "    </tr>\n",
       "    <tr>\n",
       "      <th>3</th>\n",
       "      <td>two</td>\n",
       "      <td>A</td>\n",
       "      <td>4</td>\n",
       "      <td>q</td>\n",
       "    </tr>\n",
       "    <tr>\n",
       "      <th>4</th>\n",
       "      <td>two</td>\n",
       "      <td>B</td>\n",
       "      <td>5</td>\n",
       "      <td>w</td>\n",
       "    </tr>\n",
       "    <tr>\n",
       "      <th>5</th>\n",
       "      <td>two</td>\n",
       "      <td>C</td>\n",
       "      <td>6</td>\n",
       "      <td>t</td>\n",
       "    </tr>\n",
       "  </tbody>\n",
       "</table>\n",
       "</div>"
      ],
      "text/plain": [
       "   foo bar  baz zoo\n",
       "0  one   A    1   x\n",
       "1  one   B    2   y\n",
       "2  one   C    3   z\n",
       "3  two   A    4   q\n",
       "4  two   B    5   w\n",
       "5  two   C    6   t"
      ]
     },
     "metadata": {},
     "output_type": "display_data"
    },
    {
     "data": {
      "text/html": [
       "<div>\n",
       "<style scoped>\n",
       "    .dataframe tbody tr th:only-of-type {\n",
       "        vertical-align: middle;\n",
       "    }\n",
       "\n",
       "    .dataframe tbody tr th {\n",
       "        vertical-align: top;\n",
       "    }\n",
       "\n",
       "    .dataframe thead th {\n",
       "        text-align: right;\n",
       "    }\n",
       "</style>\n",
       "<table border=\"1\" class=\"dataframe\">\n",
       "  <thead>\n",
       "    <tr style=\"text-align: right;\">\n",
       "      <th>bar</th>\n",
       "      <th>A</th>\n",
       "      <th>B</th>\n",
       "      <th>C</th>\n",
       "    </tr>\n",
       "    <tr>\n",
       "      <th>foo</th>\n",
       "      <th></th>\n",
       "      <th></th>\n",
       "      <th></th>\n",
       "    </tr>\n",
       "  </thead>\n",
       "  <tbody>\n",
       "    <tr>\n",
       "      <th>one</th>\n",
       "      <td>1</td>\n",
       "      <td>2</td>\n",
       "      <td>3</td>\n",
       "    </tr>\n",
       "    <tr>\n",
       "      <th>two</th>\n",
       "      <td>4</td>\n",
       "      <td>5</td>\n",
       "      <td>6</td>\n",
       "    </tr>\n",
       "  </tbody>\n",
       "</table>\n",
       "</div>"
      ],
      "text/plain": [
       "bar  A  B  C\n",
       "foo         \n",
       "one  1  2  3\n",
       "two  4  5  6"
      ]
     },
     "metadata": {},
     "output_type": "display_data"
    }
   ],
   "source": [
    "df = pd.DataFrame({'foo': ['one', 'one', 'one', 'two', 'two',\n",
    "                           'two'],\n",
    "                   'bar': ['A', 'B', 'C', 'A', 'B', 'C'],\n",
    "                   'baz': [1, 2, 3, 4, 5, 6],\n",
    "                   'zoo': ['x', 'y', 'z', 'q', 'w', 't']})\n",
    "display(df)\n",
    "display(df.pivot(index='foo', columns='bar', values='baz'))"
   ]
  },
  {
   "cell_type": "markdown",
   "id": "bf8193cf",
   "metadata": {},
   "source": [
    "# pivot_table\n",
    "- Create a spreadsheet-style pivot table as a DataFrame.\n",
    "- The levels in the pivot table will be stored in MultiIndex objects (hierarchical indexes) on the index and columns of the result DataFrame."
   ]
  },
  {
   "cell_type": "code",
   "execution_count": 278,
   "id": "ace00ce3",
   "metadata": {},
   "outputs": [
    {
     "data": {
      "text/html": [
       "<div>\n",
       "<style scoped>\n",
       "    .dataframe tbody tr th:only-of-type {\n",
       "        vertical-align: middle;\n",
       "    }\n",
       "\n",
       "    .dataframe tbody tr th {\n",
       "        vertical-align: top;\n",
       "    }\n",
       "\n",
       "    .dataframe thead th {\n",
       "        text-align: right;\n",
       "    }\n",
       "</style>\n",
       "<table border=\"1\" class=\"dataframe\">\n",
       "  <thead>\n",
       "    <tr style=\"text-align: right;\">\n",
       "      <th></th>\n",
       "      <th>A</th>\n",
       "      <th>B</th>\n",
       "      <th>C</th>\n",
       "      <th>D</th>\n",
       "      <th>E</th>\n",
       "    </tr>\n",
       "  </thead>\n",
       "  <tbody>\n",
       "    <tr>\n",
       "      <th>0</th>\n",
       "      <td>foo</td>\n",
       "      <td>one</td>\n",
       "      <td>small</td>\n",
       "      <td>1</td>\n",
       "      <td>2</td>\n",
       "    </tr>\n",
       "    <tr>\n",
       "      <th>1</th>\n",
       "      <td>foo</td>\n",
       "      <td>one</td>\n",
       "      <td>large</td>\n",
       "      <td>2</td>\n",
       "      <td>4</td>\n",
       "    </tr>\n",
       "    <tr>\n",
       "      <th>2</th>\n",
       "      <td>foo</td>\n",
       "      <td>one</td>\n",
       "      <td>large</td>\n",
       "      <td>2</td>\n",
       "      <td>5</td>\n",
       "    </tr>\n",
       "    <tr>\n",
       "      <th>3</th>\n",
       "      <td>foo</td>\n",
       "      <td>two</td>\n",
       "      <td>small</td>\n",
       "      <td>3</td>\n",
       "      <td>5</td>\n",
       "    </tr>\n",
       "    <tr>\n",
       "      <th>4</th>\n",
       "      <td>foo</td>\n",
       "      <td>two</td>\n",
       "      <td>small</td>\n",
       "      <td>3</td>\n",
       "      <td>6</td>\n",
       "    </tr>\n",
       "    <tr>\n",
       "      <th>5</th>\n",
       "      <td>bar</td>\n",
       "      <td>one</td>\n",
       "      <td>large</td>\n",
       "      <td>4</td>\n",
       "      <td>6</td>\n",
       "    </tr>\n",
       "    <tr>\n",
       "      <th>6</th>\n",
       "      <td>bar</td>\n",
       "      <td>one</td>\n",
       "      <td>small</td>\n",
       "      <td>5</td>\n",
       "      <td>8</td>\n",
       "    </tr>\n",
       "    <tr>\n",
       "      <th>7</th>\n",
       "      <td>bar</td>\n",
       "      <td>two</td>\n",
       "      <td>small</td>\n",
       "      <td>6</td>\n",
       "      <td>9</td>\n",
       "    </tr>\n",
       "    <tr>\n",
       "      <th>8</th>\n",
       "      <td>bar</td>\n",
       "      <td>two</td>\n",
       "      <td>large</td>\n",
       "      <td>7</td>\n",
       "      <td>9</td>\n",
       "    </tr>\n",
       "  </tbody>\n",
       "</table>\n",
       "</div>"
      ],
      "text/plain": [
       "     A    B      C  D  E\n",
       "0  foo  one  small  1  2\n",
       "1  foo  one  large  2  4\n",
       "2  foo  one  large  2  5\n",
       "3  foo  two  small  3  5\n",
       "4  foo  two  small  3  6\n",
       "5  bar  one  large  4  6\n",
       "6  bar  one  small  5  8\n",
       "7  bar  two  small  6  9\n",
       "8  bar  two  large  7  9"
      ]
     },
     "metadata": {},
     "output_type": "display_data"
    },
    {
     "data": {
      "text/html": [
       "<div>\n",
       "<style scoped>\n",
       "    .dataframe tbody tr th:only-of-type {\n",
       "        vertical-align: middle;\n",
       "    }\n",
       "\n",
       "    .dataframe tbody tr th {\n",
       "        vertical-align: top;\n",
       "    }\n",
       "\n",
       "    .dataframe thead th {\n",
       "        text-align: right;\n",
       "    }\n",
       "</style>\n",
       "<table border=\"1\" class=\"dataframe\">\n",
       "  <thead>\n",
       "    <tr style=\"text-align: right;\">\n",
       "      <th></th>\n",
       "      <th>C</th>\n",
       "      <th>large</th>\n",
       "      <th>small</th>\n",
       "    </tr>\n",
       "    <tr>\n",
       "      <th>A</th>\n",
       "      <th>B</th>\n",
       "      <th></th>\n",
       "      <th></th>\n",
       "    </tr>\n",
       "  </thead>\n",
       "  <tbody>\n",
       "    <tr>\n",
       "      <th rowspan=\"2\" valign=\"top\">bar</th>\n",
       "      <th>one</th>\n",
       "      <td>4.0E+00</td>\n",
       "      <td>5.0E+00</td>\n",
       "    </tr>\n",
       "    <tr>\n",
       "      <th>two</th>\n",
       "      <td>7.0E+00</td>\n",
       "      <td>6.0E+00</td>\n",
       "    </tr>\n",
       "    <tr>\n",
       "      <th rowspan=\"2\" valign=\"top\">foo</th>\n",
       "      <th>one</th>\n",
       "      <td>4.0E+00</td>\n",
       "      <td>1.0E+00</td>\n",
       "    </tr>\n",
       "    <tr>\n",
       "      <th>two</th>\n",
       "      <td>NaN</td>\n",
       "      <td>6.0E+00</td>\n",
       "    </tr>\n",
       "  </tbody>\n",
       "</table>\n",
       "</div>"
      ],
      "text/plain": [
       "C          large    small\n",
       "A   B                    \n",
       "bar one  4.0E+00  5.0E+00\n",
       "    two  7.0E+00  6.0E+00\n",
       "foo one  4.0E+00  1.0E+00\n",
       "    two      NaN  6.0E+00"
      ]
     },
     "metadata": {},
     "output_type": "display_data"
    }
   ],
   "source": [
    "df = pd.DataFrame({\"A\": [\"foo\", \"foo\", \"foo\", \"foo\", \"foo\",\n",
    "                         \"bar\", \"bar\", \"bar\", \"bar\"],\n",
    "                   \"B\": [\"one\", \"one\", \"one\", \"two\", \"two\",\n",
    "                         \"one\", \"one\", \"two\", \"two\"],\n",
    "                   \"C\": [\"small\", \"large\", \"large\", \"small\",\n",
    "                         \"small\", \"large\", \"small\", \"small\",\n",
    "                         \"large\"],\n",
    "                   \"D\": [1, 2, 2, 3, 3, 4, 5, 6, 7],\n",
    "                   \"E\": [2, 4, 5, 5, 6, 6, 8, 9, 9]})\n",
    "display(df)\n",
    "display(df.pivot_table(values='D', index=['A', 'B'],\n",
    "                       columns=['C'], aggfunc=\"sum\"))"
   ]
  },
  {
   "cell_type": "markdown",
   "id": "8d4b775c",
   "metadata": {},
   "source": [
    "# plot\n",
    "- Make plots of Series or DataFrame.\n",
    "- Uses the backend specified by the option plotting.backend. By default, matplotlib is used."
   ]
  },
  {
   "cell_type": "code",
   "execution_count": 279,
   "id": "eb511ba2",
   "metadata": {},
   "outputs": [
    {
     "data": {
      "text/plain": [
       "'matplotlib'"
      ]
     },
     "execution_count": 279,
     "metadata": {},
     "output_type": "execute_result"
    }
   ],
   "source": [
    "pd.get_option('plotting.backend')"
   ]
  },
  {
   "cell_type": "code",
   "execution_count": 280,
   "id": "bd138b89",
   "metadata": {},
   "outputs": [
    {
     "data": {
      "image/png": "[encoded data removed]",
      "text/plain": [
       "<Figure size 640x480 with 1 Axes>"
      ]
     },
     "metadata": {},
     "output_type": "display_data"
    }
   ],
   "source": [
    "ser = pd.Series([1, 2, 3, 3])\n",
    "plot = ser.plot(kind='hist', title=\"My plot\")\n",
    "plt.show()"
   ]
  },
  {
   "cell_type": "markdown",
   "id": "ebeba0d9",
   "metadata": {},
   "source": [
    "# pop\n",
    "- Return item and drop from frame. Raise KeyError if not found."
   ]
  },
  {
   "cell_type": "code",
   "execution_count": 282,
   "id": "12b6eca9",
   "metadata": {},
   "outputs": [
    {
     "data": {
      "text/html": [
       "<div>\n",
       "<style scoped>\n",
       "    .dataframe tbody tr th:only-of-type {\n",
       "        vertical-align: middle;\n",
       "    }\n",
       "\n",
       "    .dataframe tbody tr th {\n",
       "        vertical-align: top;\n",
       "    }\n",
       "\n",
       "    .dataframe thead th {\n",
       "        text-align: right;\n",
       "    }\n",
       "</style>\n",
       "<table border=\"1\" class=\"dataframe\">\n",
       "  <thead>\n",
       "    <tr style=\"text-align: right;\">\n",
       "      <th></th>\n",
       "      <th>name</th>\n",
       "      <th>class</th>\n",
       "      <th>max_speed</th>\n",
       "    </tr>\n",
       "  </thead>\n",
       "  <tbody>\n",
       "    <tr>\n",
       "      <th>0</th>\n",
       "      <td>falcon</td>\n",
       "      <td>bird</td>\n",
       "      <td>389.0E+00</td>\n",
       "    </tr>\n",
       "    <tr>\n",
       "      <th>1</th>\n",
       "      <td>parrot</td>\n",
       "      <td>bird</td>\n",
       "      <td>24.0E+00</td>\n",
       "    </tr>\n",
       "    <tr>\n",
       "      <th>2</th>\n",
       "      <td>lion</td>\n",
       "      <td>mammal</td>\n",
       "      <td>80.5E+00</td>\n",
       "    </tr>\n",
       "    <tr>\n",
       "      <th>3</th>\n",
       "      <td>monkey</td>\n",
       "      <td>mammal</td>\n",
       "      <td>NaN</td>\n",
       "    </tr>\n",
       "  </tbody>\n",
       "</table>\n",
       "</div>"
      ],
      "text/plain": [
       "     name   class  max_speed\n",
       "0  falcon    bird  389.0E+00\n",
       "1  parrot    bird   24.0E+00\n",
       "2    lion  mammal   80.5E+00\n",
       "3  monkey  mammal        NaN"
      ]
     },
     "metadata": {},
     "output_type": "display_data"
    },
    {
     "data": {
      "text/plain": [
       "0      bird\n",
       "1      bird\n",
       "2    mammal\n",
       "3    mammal\n",
       "Name: class, dtype: object"
      ]
     },
     "metadata": {},
     "output_type": "display_data"
    },
    {
     "data": {
      "text/html": [
       "<div>\n",
       "<style scoped>\n",
       "    .dataframe tbody tr th:only-of-type {\n",
       "        vertical-align: middle;\n",
       "    }\n",
       "\n",
       "    .dataframe tbody tr th {\n",
       "        vertical-align: top;\n",
       "    }\n",
       "\n",
       "    .dataframe thead th {\n",
       "        text-align: right;\n",
       "    }\n",
       "</style>\n",
       "<table border=\"1\" class=\"dataframe\">\n",
       "  <thead>\n",
       "    <tr style=\"text-align: right;\">\n",
       "      <th></th>\n",
       "      <th>name</th>\n",
       "      <th>max_speed</th>\n",
       "    </tr>\n",
       "  </thead>\n",
       "  <tbody>\n",
       "    <tr>\n",
       "      <th>0</th>\n",
       "      <td>falcon</td>\n",
       "      <td>389.0E+00</td>\n",
       "    </tr>\n",
       "    <tr>\n",
       "      <th>1</th>\n",
       "      <td>parrot</td>\n",
       "      <td>24.0E+00</td>\n",
       "    </tr>\n",
       "    <tr>\n",
       "      <th>2</th>\n",
       "      <td>lion</td>\n",
       "      <td>80.5E+00</td>\n",
       "    </tr>\n",
       "    <tr>\n",
       "      <th>3</th>\n",
       "      <td>monkey</td>\n",
       "      <td>NaN</td>\n",
       "    </tr>\n",
       "  </tbody>\n",
       "</table>\n",
       "</div>"
      ],
      "text/plain": [
       "     name  max_speed\n",
       "0  falcon  389.0E+00\n",
       "1  parrot   24.0E+00\n",
       "2    lion   80.5E+00\n",
       "3  monkey        NaN"
      ]
     },
     "metadata": {},
     "output_type": "display_data"
    }
   ],
   "source": [
    "df = pd.DataFrame([('falcon', 'bird', 389.0),\n",
    "                   ('parrot', 'bird', 24.0),\n",
    "                   ('lion', 'mammal', 80.5),\n",
    "                   ('monkey', 'mammal', np.nan)],\n",
    "                  columns=('name', 'class', 'max_speed'))\n",
    "display(df)\n",
    "display(df.pop('class'))\n",
    "display(df)"
   ]
  },
  {
   "cell_type": "markdown",
   "id": "1da594fc",
   "metadata": {},
   "source": [
    "# pow\n",
    "- Get Exponential power of dataframe and other, element-wise (binary operator pow).\n",
    "- Equivalent to dataframe ** other, but with support to substitute a fill_value for missing data in one of the inputs. With reverse version, rpow.\n",
    "- Among flexible wrappers (add, sub, mul, div, floordiv, mod, pow) to arithmetic operators: +, -, *, /, //, %, **."
   ]
  },
  {
   "cell_type": "code",
   "execution_count": 283,
   "id": "bbaed9dc",
   "metadata": {},
   "outputs": [
    {
     "data": {
      "text/html": [
       "<div>\n",
       "<style scoped>\n",
       "    .dataframe tbody tr th:only-of-type {\n",
       "        vertical-align: middle;\n",
       "    }\n",
       "\n",
       "    .dataframe tbody tr th {\n",
       "        vertical-align: top;\n",
       "    }\n",
       "\n",
       "    .dataframe thead th {\n",
       "        text-align: right;\n",
       "    }\n",
       "</style>\n",
       "<table border=\"1\" class=\"dataframe\">\n",
       "  <thead>\n",
       "    <tr style=\"text-align: right;\">\n",
       "      <th></th>\n",
       "      <th>angles</th>\n",
       "      <th>degrees</th>\n",
       "    </tr>\n",
       "  </thead>\n",
       "  <tbody>\n",
       "    <tr>\n",
       "      <th>circle</th>\n",
       "      <td>0</td>\n",
       "      <td>360</td>\n",
       "    </tr>\n",
       "    <tr>\n",
       "      <th>triangle</th>\n",
       "      <td>3</td>\n",
       "      <td>180</td>\n",
       "    </tr>\n",
       "    <tr>\n",
       "      <th>rectangle</th>\n",
       "      <td>4</td>\n",
       "      <td>360</td>\n",
       "    </tr>\n",
       "  </tbody>\n",
       "</table>\n",
       "</div>"
      ],
      "text/plain": [
       "           angles  degrees\n",
       "circle          0      360\n",
       "triangle        3      180\n",
       "rectangle       4      360"
      ]
     },
     "metadata": {},
     "output_type": "display_data"
    },
    {
     "data": {
      "text/html": [
       "<div>\n",
       "<style scoped>\n",
       "    .dataframe tbody tr th:only-of-type {\n",
       "        vertical-align: middle;\n",
       "    }\n",
       "\n",
       "    .dataframe tbody tr th {\n",
       "        vertical-align: top;\n",
       "    }\n",
       "\n",
       "    .dataframe thead th {\n",
       "        text-align: right;\n",
       "    }\n",
       "</style>\n",
       "<table border=\"1\" class=\"dataframe\">\n",
       "  <thead>\n",
       "    <tr style=\"text-align: right;\">\n",
       "      <th></th>\n",
       "      <th>angles</th>\n",
       "      <th>degrees</th>\n",
       "    </tr>\n",
       "  </thead>\n",
       "  <tbody>\n",
       "    <tr>\n",
       "      <th>circle</th>\n",
       "      <td>0</td>\n",
       "      <td>129600</td>\n",
       "    </tr>\n",
       "    <tr>\n",
       "      <th>triangle</th>\n",
       "      <td>9</td>\n",
       "      <td>32400</td>\n",
       "    </tr>\n",
       "    <tr>\n",
       "      <th>rectangle</th>\n",
       "      <td>16</td>\n",
       "      <td>129600</td>\n",
       "    </tr>\n",
       "  </tbody>\n",
       "</table>\n",
       "</div>"
      ],
      "text/plain": [
       "           angles  degrees\n",
       "circle          0   129600\n",
       "triangle        9    32400\n",
       "rectangle      16   129600"
      ]
     },
     "metadata": {},
     "output_type": "display_data"
    }
   ],
   "source": [
    "df = pd.DataFrame({'angles': [0, 3, 4],\n",
    "                   'degrees': [360, 180, 360]},\n",
    "                  index=['circle', 'triangle', 'rectangle'])\n",
    "display(df)\n",
    "display(df.pow(2))"
   ]
  },
  {
   "cell_type": "markdown",
   "id": "17cb3128",
   "metadata": {},
   "source": [
    "# prod\n",
    "- Return the product of the values over the requested axis."
   ]
  },
  {
   "cell_type": "code",
   "execution_count": 286,
   "id": "ec7046c9",
   "metadata": {},
   "outputs": [
    {
     "data": {
      "text/html": [
       "<div>\n",
       "<style scoped>\n",
       "    .dataframe tbody tr th:only-of-type {\n",
       "        vertical-align: middle;\n",
       "    }\n",
       "\n",
       "    .dataframe tbody tr th {\n",
       "        vertical-align: top;\n",
       "    }\n",
       "\n",
       "    .dataframe thead th {\n",
       "        text-align: right;\n",
       "    }\n",
       "</style>\n",
       "<table border=\"1\" class=\"dataframe\">\n",
       "  <thead>\n",
       "    <tr style=\"text-align: right;\">\n",
       "      <th></th>\n",
       "      <th>angles</th>\n",
       "      <th>degrees</th>\n",
       "    </tr>\n",
       "  </thead>\n",
       "  <tbody>\n",
       "    <tr>\n",
       "      <th>circle</th>\n",
       "      <td>0</td>\n",
       "      <td>360</td>\n",
       "    </tr>\n",
       "    <tr>\n",
       "      <th>triangle</th>\n",
       "      <td>3</td>\n",
       "      <td>180</td>\n",
       "    </tr>\n",
       "    <tr>\n",
       "      <th>rectangle</th>\n",
       "      <td>4</td>\n",
       "      <td>360</td>\n",
       "    </tr>\n",
       "  </tbody>\n",
       "</table>\n",
       "</div>"
      ],
      "text/plain": [
       "           angles  degrees\n",
       "circle          0      360\n",
       "triangle        3      180\n",
       "rectangle       4      360"
      ]
     },
     "metadata": {},
     "output_type": "display_data"
    },
    {
     "data": {
      "text/plain": [
       "angles            0\n",
       "degrees    23328000\n",
       "dtype: int64"
      ]
     },
     "metadata": {},
     "output_type": "display_data"
    }
   ],
   "source": [
    "df = pd.DataFrame({'angles': [0, 3, 4],\n",
    "                   'degrees': [360, 180, 360]},\n",
    "                  index=['circle', 'triangle', 'rectangle'])\n",
    "display(df)\n",
    "display(df.prod())"
   ]
  },
  {
   "cell_type": "markdown",
   "id": "149f1c2c",
   "metadata": {},
   "source": [
    "# product == prod"
   ]
  },
  {
   "cell_type": "code",
   "execution_count": 287,
   "id": "80d91ed8",
   "metadata": {},
   "outputs": [
    {
     "data": {
      "text/plain": [
       "angles            0\n",
       "degrees    23328000\n",
       "dtype: int64"
      ]
     },
     "metadata": {},
     "output_type": "display_data"
    }
   ],
   "source": [
    "display(df.product())"
   ]
  },
  {
   "cell_type": "markdown",
   "id": "6af9c9a7",
   "metadata": {},
   "source": [
    "# quantile\n",
    "- Return values at the given quantile over requested axis."
   ]
  },
  {
   "cell_type": "code",
   "execution_count": 289,
   "id": "0a33e9bb",
   "metadata": {},
   "outputs": [
    {
     "data": {
      "text/plain": [
       "a    1.3E+00\n",
       "b    3.7E+00\n",
       "Name: 0.1, dtype: float64"
      ]
     },
     "metadata": {},
     "output_type": "display_data"
    },
    {
     "data": {
      "text/plain": [
       "a    1\n",
       "b    1\n",
       "Name: 0.1, dtype: int64"
      ]
     },
     "metadata": {},
     "output_type": "display_data"
    },
    {
     "data": {
      "text/html": [
       "<div>\n",
       "<style scoped>\n",
       "    .dataframe tbody tr th:only-of-type {\n",
       "        vertical-align: middle;\n",
       "    }\n",
       "\n",
       "    .dataframe tbody tr th {\n",
       "        vertical-align: top;\n",
       "    }\n",
       "\n",
       "    .dataframe thead th {\n",
       "        text-align: right;\n",
       "    }\n",
       "</style>\n",
       "<table border=\"1\" class=\"dataframe\">\n",
       "  <thead>\n",
       "    <tr style=\"text-align: right;\">\n",
       "      <th></th>\n",
       "      <th>a</th>\n",
       "      <th>b</th>\n",
       "    </tr>\n",
       "  </thead>\n",
       "  <tbody>\n",
       "    <tr>\n",
       "      <th>100.0E-03</th>\n",
       "      <td>1</td>\n",
       "      <td>1</td>\n",
       "    </tr>\n",
       "    <tr>\n",
       "      <th>500.0E-03</th>\n",
       "      <td>3</td>\n",
       "      <td>100</td>\n",
       "    </tr>\n",
       "  </tbody>\n",
       "</table>\n",
       "</div>"
      ],
      "text/plain": [
       "           a    b\n",
       "100.0E-03  1    1\n",
       "500.0E-03  3  100"
      ]
     },
     "metadata": {},
     "output_type": "display_data"
    }
   ],
   "source": [
    "df = pd.DataFrame(np.array([[1, 1], [2, 10], [3, 100], [4, 100]]),\n",
    "                  columns=['a', 'b'])\n",
    "display(df.quantile(.1))\n",
    "display(df.quantile(.1, method=\"table\", interpolation=\"nearest\"))\n",
    "display(df.quantile([.1, .5], method=\"table\", interpolation=\"nearest\"))"
   ]
  },
  {
   "cell_type": "markdown",
   "id": "6bc889b8",
   "metadata": {},
   "source": [
    "# query\n",
    "- Query the columns of a DataFrame with a boolean expression."
   ]
  },
  {
   "cell_type": "code",
   "execution_count": 290,
   "id": "9ccb3917",
   "metadata": {},
   "outputs": [
    {
     "data": {
      "text/html": [
       "<div>\n",
       "<style scoped>\n",
       "    .dataframe tbody tr th:only-of-type {\n",
       "        vertical-align: middle;\n",
       "    }\n",
       "\n",
       "    .dataframe tbody tr th {\n",
       "        vertical-align: top;\n",
       "    }\n",
       "\n",
       "    .dataframe thead th {\n",
       "        text-align: right;\n",
       "    }\n",
       "</style>\n",
       "<table border=\"1\" class=\"dataframe\">\n",
       "  <thead>\n",
       "    <tr style=\"text-align: right;\">\n",
       "      <th></th>\n",
       "      <th>A</th>\n",
       "      <th>B</th>\n",
       "      <th>C C</th>\n",
       "    </tr>\n",
       "  </thead>\n",
       "  <tbody>\n",
       "    <tr>\n",
       "      <th>0</th>\n",
       "      <td>1</td>\n",
       "      <td>10</td>\n",
       "      <td>10</td>\n",
       "    </tr>\n",
       "    <tr>\n",
       "      <th>1</th>\n",
       "      <td>2</td>\n",
       "      <td>8</td>\n",
       "      <td>9</td>\n",
       "    </tr>\n",
       "    <tr>\n",
       "      <th>2</th>\n",
       "      <td>3</td>\n",
       "      <td>6</td>\n",
       "      <td>8</td>\n",
       "    </tr>\n",
       "    <tr>\n",
       "      <th>3</th>\n",
       "      <td>4</td>\n",
       "      <td>4</td>\n",
       "      <td>7</td>\n",
       "    </tr>\n",
       "    <tr>\n",
       "      <th>4</th>\n",
       "      <td>5</td>\n",
       "      <td>2</td>\n",
       "      <td>6</td>\n",
       "    </tr>\n",
       "  </tbody>\n",
       "</table>\n",
       "</div>"
      ],
      "text/plain": [
       "   A   B  C C\n",
       "0  1  10   10\n",
       "1  2   8    9\n",
       "2  3   6    8\n",
       "3  4   4    7\n",
       "4  5   2    6"
      ]
     },
     "metadata": {},
     "output_type": "display_data"
    },
    {
     "data": {
      "text/html": [
       "<div>\n",
       "<style scoped>\n",
       "    .dataframe tbody tr th:only-of-type {\n",
       "        vertical-align: middle;\n",
       "    }\n",
       "\n",
       "    .dataframe tbody tr th {\n",
       "        vertical-align: top;\n",
       "    }\n",
       "\n",
       "    .dataframe thead th {\n",
       "        text-align: right;\n",
       "    }\n",
       "</style>\n",
       "<table border=\"1\" class=\"dataframe\">\n",
       "  <thead>\n",
       "    <tr style=\"text-align: right;\">\n",
       "      <th></th>\n",
       "      <th>A</th>\n",
       "      <th>B</th>\n",
       "      <th>C C</th>\n",
       "    </tr>\n",
       "  </thead>\n",
       "  <tbody>\n",
       "    <tr>\n",
       "      <th>0</th>\n",
       "      <td>1</td>\n",
       "      <td>10</td>\n",
       "      <td>10</td>\n",
       "    </tr>\n",
       "  </tbody>\n",
       "</table>\n",
       "</div>"
      ],
      "text/plain": [
       "   A   B  C C\n",
       "0  1  10   10"
      ]
     },
     "metadata": {},
     "output_type": "display_data"
    }
   ],
   "source": [
    "df = pd.DataFrame({'A': range(1, 6),\n",
    "                   'B': range(10, 0, -2),\n",
    "                   'C C': range(10, 5, -1)})\n",
    "display(df)\n",
    "display(df.query('B == `C C`'))"
   ]
  },
  {
   "cell_type": "markdown",
   "id": "e5f04267",
   "metadata": {},
   "source": [
    "# radd\n",
    "- Get Addition of dataframe and other, element-wise (binary operator radd).\n",
    "- Equivalent to other + dataframe, but with support to substitute a fill_value for missing data in one of the inputs. With reverse version, add.\n",
    "- Among flexible wrappers (add, sub, mul, div, floordiv, mod, pow) to arithmetic operators: +, -, *, /, //, %, **."
   ]
  },
  {
   "cell_type": "code",
   "execution_count": 291,
   "id": "ad1cf57a",
   "metadata": {},
   "outputs": [
    {
     "data": {
      "text/html": [
       "<div>\n",
       "<style scoped>\n",
       "    .dataframe tbody tr th:only-of-type {\n",
       "        vertical-align: middle;\n",
       "    }\n",
       "\n",
       "    .dataframe tbody tr th {\n",
       "        vertical-align: top;\n",
       "    }\n",
       "\n",
       "    .dataframe thead th {\n",
       "        text-align: right;\n",
       "    }\n",
       "</style>\n",
       "<table border=\"1\" class=\"dataframe\">\n",
       "  <thead>\n",
       "    <tr style=\"text-align: right;\">\n",
       "      <th></th>\n",
       "      <th>angles</th>\n",
       "      <th>degrees</th>\n",
       "    </tr>\n",
       "  </thead>\n",
       "  <tbody>\n",
       "    <tr>\n",
       "      <th>circle</th>\n",
       "      <td>0</td>\n",
       "      <td>360</td>\n",
       "    </tr>\n",
       "    <tr>\n",
       "      <th>triangle</th>\n",
       "      <td>3</td>\n",
       "      <td>180</td>\n",
       "    </tr>\n",
       "    <tr>\n",
       "      <th>rectangle</th>\n",
       "      <td>4</td>\n",
       "      <td>360</td>\n",
       "    </tr>\n",
       "  </tbody>\n",
       "</table>\n",
       "</div>"
      ],
      "text/plain": [
       "           angles  degrees\n",
       "circle          0      360\n",
       "triangle        3      180\n",
       "rectangle       4      360"
      ]
     },
     "metadata": {},
     "output_type": "display_data"
    },
    {
     "data": {
      "text/html": [
       "<div>\n",
       "<style scoped>\n",
       "    .dataframe tbody tr th:only-of-type {\n",
       "        vertical-align: middle;\n",
       "    }\n",
       "\n",
       "    .dataframe tbody tr th {\n",
       "        vertical-align: top;\n",
       "    }\n",
       "\n",
       "    .dataframe thead th {\n",
       "        text-align: right;\n",
       "    }\n",
       "</style>\n",
       "<table border=\"1\" class=\"dataframe\">\n",
       "  <thead>\n",
       "    <tr style=\"text-align: right;\">\n",
       "      <th></th>\n",
       "      <th>angles</th>\n",
       "      <th>degrees</th>\n",
       "    </tr>\n",
       "  </thead>\n",
       "  <tbody>\n",
       "    <tr>\n",
       "      <th>circle</th>\n",
       "      <td>10</td>\n",
       "      <td>370</td>\n",
       "    </tr>\n",
       "    <tr>\n",
       "      <th>triangle</th>\n",
       "      <td>13</td>\n",
       "      <td>190</td>\n",
       "    </tr>\n",
       "    <tr>\n",
       "      <th>rectangle</th>\n",
       "      <td>14</td>\n",
       "      <td>370</td>\n",
       "    </tr>\n",
       "  </tbody>\n",
       "</table>\n",
       "</div>"
      ],
      "text/plain": [
       "           angles  degrees\n",
       "circle         10      370\n",
       "triangle       13      190\n",
       "rectangle      14      370"
      ]
     },
     "metadata": {},
     "output_type": "display_data"
    }
   ],
   "source": [
    "df = pd.DataFrame({'angles': [0, 3, 4],\n",
    "                   'degrees': [360, 180, 360]},\n",
    "                  index=['circle', 'triangle', 'rectangle'])\n",
    "display(df)\n",
    "display(df.radd(10))"
   ]
  },
  {
   "cell_type": "markdown",
   "id": "dcfc5eed",
   "metadata": {},
   "source": [
    "# rank\n",
    "- Compute numerical data ranks (1 through n) along axis.\n",
    "- By default, equal values are assigned a rank that is the average of the ranks of those values."
   ]
  },
  {
   "cell_type": "code",
   "execution_count": 296,
   "id": "c920aa19",
   "metadata": {},
   "outputs": [
    {
     "data": {
      "text/plain": [
       "a    1.0E+00\n",
       "b    2.5E+00\n",
       "c    4.0E+00\n",
       "d    2.5E+00\n",
       "e    5.0E+00\n",
       "dtype: float64"
      ]
     },
     "metadata": {},
     "output_type": "display_data"
    },
    {
     "data": {
      "text/html": [
       "<div>\n",
       "<style scoped>\n",
       "    .dataframe tbody tr th:only-of-type {\n",
       "        vertical-align: middle;\n",
       "    }\n",
       "\n",
       "    .dataframe tbody tr th {\n",
       "        vertical-align: top;\n",
       "    }\n",
       "\n",
       "    .dataframe thead th {\n",
       "        text-align: right;\n",
       "    }\n",
       "</style>\n",
       "<table border=\"1\" class=\"dataframe\">\n",
       "  <thead>\n",
       "    <tr style=\"text-align: right;\">\n",
       "      <th></th>\n",
       "      <th>Animal</th>\n",
       "      <th>Number_legs</th>\n",
       "    </tr>\n",
       "  </thead>\n",
       "  <tbody>\n",
       "    <tr>\n",
       "      <th>0</th>\n",
       "      <td>cat</td>\n",
       "      <td>4.0E+00</td>\n",
       "    </tr>\n",
       "    <tr>\n",
       "      <th>1</th>\n",
       "      <td>penguin</td>\n",
       "      <td>2.0E+00</td>\n",
       "    </tr>\n",
       "    <tr>\n",
       "      <th>2</th>\n",
       "      <td>dog</td>\n",
       "      <td>4.0E+00</td>\n",
       "    </tr>\n",
       "    <tr>\n",
       "      <th>3</th>\n",
       "      <td>spider</td>\n",
       "      <td>8.0E+00</td>\n",
       "    </tr>\n",
       "    <tr>\n",
       "      <th>4</th>\n",
       "      <td>snake</td>\n",
       "      <td>NaN</td>\n",
       "    </tr>\n",
       "  </tbody>\n",
       "</table>\n",
       "</div>"
      ],
      "text/plain": [
       "    Animal  Number_legs\n",
       "0      cat      4.0E+00\n",
       "1  penguin      2.0E+00\n",
       "2      dog      4.0E+00\n",
       "3   spider      8.0E+00\n",
       "4    snake          NaN"
      ]
     },
     "metadata": {},
     "output_type": "display_data"
    },
    {
     "data": {
      "text/plain": [
       "0    2.0E+00\n",
       "1    1.0E+00\n",
       "2    2.0E+00\n",
       "3    4.0E+00\n",
       "4        NaN\n",
       "Name: Number_legs, dtype: float64"
      ]
     },
     "metadata": {},
     "output_type": "display_data"
    }
   ],
   "source": [
    "s = pd.Series(range(5), index=list(\"abcde\"))\n",
    "s[\"d\"] = s[\"b\"]\n",
    "display(s.rank())\n",
    "df = pd.DataFrame(data={'Animal': ['cat', 'penguin', 'dog',\n",
    "                                   'spider', 'snake'],\n",
    "                        'Number_legs': [4, 2, 4, 8, np.nan]})\n",
    "display(df)\n",
    "display(df['Number_legs'].rank(method='min'))"
   ]
  },
  {
   "cell_type": "markdown",
   "id": "e4d0ce2c",
   "metadata": {},
   "source": [
    "# rdiv\n",
    "- Get Floating division of dataframe and other, element-wise (binary operator rtruediv).\n",
    "- Equivalent to other / dataframe, but with support to substitute a fill_value for missing data in one of the inputs. With reverse version, truediv.\n",
    "- Among flexible wrappers (add, sub, mul, div, floordiv, mod, pow) to arithmetic operators: +, -, *, /, //, %, **."
   ]
  },
  {
   "cell_type": "code",
   "execution_count": 298,
   "id": "406f85ac",
   "metadata": {},
   "outputs": [
    {
     "data": {
      "text/html": [
       "<div>\n",
       "<style scoped>\n",
       "    .dataframe tbody tr th:only-of-type {\n",
       "        vertical-align: middle;\n",
       "    }\n",
       "\n",
       "    .dataframe tbody tr th {\n",
       "        vertical-align: top;\n",
       "    }\n",
       "\n",
       "    .dataframe thead th {\n",
       "        text-align: right;\n",
       "    }\n",
       "</style>\n",
       "<table border=\"1\" class=\"dataframe\">\n",
       "  <thead>\n",
       "    <tr style=\"text-align: right;\">\n",
       "      <th></th>\n",
       "      <th>angles</th>\n",
       "      <th>degrees</th>\n",
       "    </tr>\n",
       "  </thead>\n",
       "  <tbody>\n",
       "    <tr>\n",
       "      <th>circle</th>\n",
       "      <td>22</td>\n",
       "      <td>360</td>\n",
       "    </tr>\n",
       "    <tr>\n",
       "      <th>triangle</th>\n",
       "      <td>3</td>\n",
       "      <td>180</td>\n",
       "    </tr>\n",
       "    <tr>\n",
       "      <th>rectangle</th>\n",
       "      <td>4</td>\n",
       "      <td>360</td>\n",
       "    </tr>\n",
       "  </tbody>\n",
       "</table>\n",
       "</div>"
      ],
      "text/plain": [
       "           angles  degrees\n",
       "circle         22      360\n",
       "triangle        3      180\n",
       "rectangle       4      360"
      ]
     },
     "metadata": {},
     "output_type": "display_data"
    },
    {
     "data": {
      "text/html": [
       "<div>\n",
       "<style scoped>\n",
       "    .dataframe tbody tr th:only-of-type {\n",
       "        vertical-align: middle;\n",
       "    }\n",
       "\n",
       "    .dataframe tbody tr th {\n",
       "        vertical-align: top;\n",
       "    }\n",
       "\n",
       "    .dataframe thead th {\n",
       "        text-align: right;\n",
       "    }\n",
       "</style>\n",
       "<table border=\"1\" class=\"dataframe\">\n",
       "  <thead>\n",
       "    <tr style=\"text-align: right;\">\n",
       "      <th></th>\n",
       "      <th>angles</th>\n",
       "      <th>degrees</th>\n",
       "    </tr>\n",
       "  </thead>\n",
       "  <tbody>\n",
       "    <tr>\n",
       "      <th>circle</th>\n",
       "      <td>454.5E-03</td>\n",
       "      <td>27.8E-03</td>\n",
       "    </tr>\n",
       "    <tr>\n",
       "      <th>triangle</th>\n",
       "      <td>3.3E+00</td>\n",
       "      <td>55.6E-03</td>\n",
       "    </tr>\n",
       "    <tr>\n",
       "      <th>rectangle</th>\n",
       "      <td>2.5E+00</td>\n",
       "      <td>27.8E-03</td>\n",
       "    </tr>\n",
       "  </tbody>\n",
       "</table>\n",
       "</div>"
      ],
      "text/plain": [
       "              angles   degrees\n",
       "circle     454.5E-03  27.8E-03\n",
       "triangle     3.3E+00  55.6E-03\n",
       "rectangle    2.5E+00  27.8E-03"
      ]
     },
     "metadata": {},
     "output_type": "display_data"
    }
   ],
   "source": [
    "df = pd.DataFrame({'angles': [22, 3, 4],\n",
    "                   'degrees': [360, 180, 360]},\n",
    "                  index=['circle', 'triangle', 'rectangle'])\n",
    "display(df)\n",
    "display(df.rdiv(10))"
   ]
  },
  {
   "cell_type": "markdown",
   "id": "18fd33b9",
   "metadata": {},
   "source": [
    "# reindex\n",
    "- Conform DataFrame to new index with optional filling logic.\n",
    "- Places NA/NaN in locations having no value in the previous index. A new object is produced unless the new index is equivalent to the current one and copy=False."
   ]
  },
  {
   "cell_type": "code",
   "execution_count": 299,
   "id": "c1271915",
   "metadata": {},
   "outputs": [
    {
     "data": {
      "text/html": [
       "<div>\n",
       "<style scoped>\n",
       "    .dataframe tbody tr th:only-of-type {\n",
       "        vertical-align: middle;\n",
       "    }\n",
       "\n",
       "    .dataframe tbody tr th {\n",
       "        vertical-align: top;\n",
       "    }\n",
       "\n",
       "    .dataframe thead th {\n",
       "        text-align: right;\n",
       "    }\n",
       "</style>\n",
       "<table border=\"1\" class=\"dataframe\">\n",
       "  <thead>\n",
       "    <tr style=\"text-align: right;\">\n",
       "      <th></th>\n",
       "      <th>http_status</th>\n",
       "      <th>response_time</th>\n",
       "    </tr>\n",
       "  </thead>\n",
       "  <tbody>\n",
       "    <tr>\n",
       "      <th>Firefox</th>\n",
       "      <td>200</td>\n",
       "      <td>40.0E-03</td>\n",
       "    </tr>\n",
       "    <tr>\n",
       "      <th>Chrome</th>\n",
       "      <td>200</td>\n",
       "      <td>20.0E-03</td>\n",
       "    </tr>\n",
       "    <tr>\n",
       "      <th>Safari</th>\n",
       "      <td>404</td>\n",
       "      <td>70.0E-03</td>\n",
       "    </tr>\n",
       "    <tr>\n",
       "      <th>IE10</th>\n",
       "      <td>404</td>\n",
       "      <td>80.0E-03</td>\n",
       "    </tr>\n",
       "    <tr>\n",
       "      <th>Konqueror</th>\n",
       "      <td>301</td>\n",
       "      <td>1.0E+00</td>\n",
       "    </tr>\n",
       "  </tbody>\n",
       "</table>\n",
       "</div>"
      ],
      "text/plain": [
       "           http_status  response_time\n",
       "Firefox            200       40.0E-03\n",
       "Chrome             200       20.0E-03\n",
       "Safari             404       70.0E-03\n",
       "IE10               404       80.0E-03\n",
       "Konqueror          301        1.0E+00"
      ]
     },
     "metadata": {},
     "output_type": "display_data"
    },
    {
     "data": {
      "text/html": [
       "<div>\n",
       "<style scoped>\n",
       "    .dataframe tbody tr th:only-of-type {\n",
       "        vertical-align: middle;\n",
       "    }\n",
       "\n",
       "    .dataframe tbody tr th {\n",
       "        vertical-align: top;\n",
       "    }\n",
       "\n",
       "    .dataframe thead th {\n",
       "        text-align: right;\n",
       "    }\n",
       "</style>\n",
       "<table border=\"1\" class=\"dataframe\">\n",
       "  <thead>\n",
       "    <tr style=\"text-align: right;\">\n",
       "      <th></th>\n",
       "      <th>http_status</th>\n",
       "      <th>response_time</th>\n",
       "    </tr>\n",
       "  </thead>\n",
       "  <tbody>\n",
       "    <tr>\n",
       "      <th>Safari</th>\n",
       "      <td>404.0E+00</td>\n",
       "      <td>70.0E-03</td>\n",
       "    </tr>\n",
       "    <tr>\n",
       "      <th>Iceweasel</th>\n",
       "      <td>NaN</td>\n",
       "      <td>NaN</td>\n",
       "    </tr>\n",
       "    <tr>\n",
       "      <th>Comodo Dragon</th>\n",
       "      <td>NaN</td>\n",
       "      <td>NaN</td>\n",
       "    </tr>\n",
       "    <tr>\n",
       "      <th>IE10</th>\n",
       "      <td>404.0E+00</td>\n",
       "      <td>80.0E-03</td>\n",
       "    </tr>\n",
       "    <tr>\n",
       "      <th>Chrome</th>\n",
       "      <td>200.0E+00</td>\n",
       "      <td>20.0E-03</td>\n",
       "    </tr>\n",
       "  </tbody>\n",
       "</table>\n",
       "</div>"
      ],
      "text/plain": [
       "               http_status  response_time\n",
       "Safari           404.0E+00       70.0E-03\n",
       "Iceweasel              NaN            NaN\n",
       "Comodo Dragon          NaN            NaN\n",
       "IE10             404.0E+00       80.0E-03\n",
       "Chrome           200.0E+00       20.0E-03"
      ]
     },
     "metadata": {},
     "output_type": "display_data"
    }
   ],
   "source": [
    "index = ['Firefox', 'Chrome', 'Safari', 'IE10', 'Konqueror']\n",
    "df = pd.DataFrame({'http_status': [200, 200, 404, 404, 301],\n",
    "                  'response_time': [0.04, 0.02, 0.07, 0.08, 1.0]},\n",
    "                  index=index)\n",
    "display(df)\n",
    "new_index = ['Safari', 'Iceweasel', 'Comodo Dragon', 'IE10',\n",
    "             'Chrome']\n",
    "display(df.reindex(new_index))"
   ]
  },
  {
   "cell_type": "markdown",
   "id": "295c7df4",
   "metadata": {},
   "source": [
    "# reindex_like\n",
    "- Return an object with matching indices as other object.\n",
    "- Conform the object to the same index on all axes. Optional filling logic, placing NaN in locations having no value in the previous index. A new object is produced unless the new index is equivalent to the current one and copy=False."
   ]
  },
  {
   "cell_type": "code",
   "execution_count": 300,
   "id": "dc1ae37e",
   "metadata": {},
   "outputs": [
    {
     "data": {
      "text/html": [
       "<div>\n",
       "<style scoped>\n",
       "    .dataframe tbody tr th:only-of-type {\n",
       "        vertical-align: middle;\n",
       "    }\n",
       "\n",
       "    .dataframe tbody tr th {\n",
       "        vertical-align: top;\n",
       "    }\n",
       "\n",
       "    .dataframe thead th {\n",
       "        text-align: right;\n",
       "    }\n",
       "</style>\n",
       "<table border=\"1\" class=\"dataframe\">\n",
       "  <thead>\n",
       "    <tr style=\"text-align: right;\">\n",
       "      <th></th>\n",
       "      <th>temp_celsius</th>\n",
       "      <th>temp_fahrenheit</th>\n",
       "      <th>windspeed</th>\n",
       "    </tr>\n",
       "  </thead>\n",
       "  <tbody>\n",
       "    <tr>\n",
       "      <th>2014-02-12</th>\n",
       "      <td>24.3E+00</td>\n",
       "      <td>75.7E+00</td>\n",
       "      <td>high</td>\n",
       "    </tr>\n",
       "    <tr>\n",
       "      <th>2014-02-13</th>\n",
       "      <td>31.0E+00</td>\n",
       "      <td>87.8E+00</td>\n",
       "      <td>high</td>\n",
       "    </tr>\n",
       "    <tr>\n",
       "      <th>2014-02-14</th>\n",
       "      <td>22.0E+00</td>\n",
       "      <td>71.6E+00</td>\n",
       "      <td>medium</td>\n",
       "    </tr>\n",
       "    <tr>\n",
       "      <th>2014-02-15</th>\n",
       "      <td>35.0E+00</td>\n",
       "      <td>95.0E+00</td>\n",
       "      <td>medium</td>\n",
       "    </tr>\n",
       "  </tbody>\n",
       "</table>\n",
       "</div>"
      ],
      "text/plain": [
       "            temp_celsius  temp_fahrenheit windspeed\n",
       "2014-02-12      24.3E+00         75.7E+00      high\n",
       "2014-02-13      31.0E+00         87.8E+00      high\n",
       "2014-02-14      22.0E+00         71.6E+00    medium\n",
       "2014-02-15      35.0E+00         95.0E+00    medium"
      ]
     },
     "metadata": {},
     "output_type": "display_data"
    },
    {
     "data": {
      "text/html": [
       "<div>\n",
       "<style scoped>\n",
       "    .dataframe tbody tr th:only-of-type {\n",
       "        vertical-align: middle;\n",
       "    }\n",
       "\n",
       "    .dataframe tbody tr th {\n",
       "        vertical-align: top;\n",
       "    }\n",
       "\n",
       "    .dataframe thead th {\n",
       "        text-align: right;\n",
       "    }\n",
       "</style>\n",
       "<table border=\"1\" class=\"dataframe\">\n",
       "  <thead>\n",
       "    <tr style=\"text-align: right;\">\n",
       "      <th></th>\n",
       "      <th>temp_celsius</th>\n",
       "      <th>windspeed</th>\n",
       "    </tr>\n",
       "  </thead>\n",
       "  <tbody>\n",
       "    <tr>\n",
       "      <th>2014-02-12</th>\n",
       "      <td>28.0E+00</td>\n",
       "      <td>low</td>\n",
       "    </tr>\n",
       "    <tr>\n",
       "      <th>2014-02-13</th>\n",
       "      <td>30.0E+00</td>\n",
       "      <td>low</td>\n",
       "    </tr>\n",
       "    <tr>\n",
       "      <th>2014-02-15</th>\n",
       "      <td>35.1E+00</td>\n",
       "      <td>medium</td>\n",
       "    </tr>\n",
       "  </tbody>\n",
       "</table>\n",
       "</div>"
      ],
      "text/plain": [
       "            temp_celsius windspeed\n",
       "2014-02-12      28.0E+00       low\n",
       "2014-02-13      30.0E+00       low\n",
       "2014-02-15      35.1E+00    medium"
      ]
     },
     "metadata": {},
     "output_type": "display_data"
    },
    {
     "data": {
      "text/html": [
       "<div>\n",
       "<style scoped>\n",
       "    .dataframe tbody tr th:only-of-type {\n",
       "        vertical-align: middle;\n",
       "    }\n",
       "\n",
       "    .dataframe tbody tr th {\n",
       "        vertical-align: top;\n",
       "    }\n",
       "\n",
       "    .dataframe thead th {\n",
       "        text-align: right;\n",
       "    }\n",
       "</style>\n",
       "<table border=\"1\" class=\"dataframe\">\n",
       "  <thead>\n",
       "    <tr style=\"text-align: right;\">\n",
       "      <th></th>\n",
       "      <th>temp_celsius</th>\n",
       "      <th>temp_fahrenheit</th>\n",
       "      <th>windspeed</th>\n",
       "    </tr>\n",
       "  </thead>\n",
       "  <tbody>\n",
       "    <tr>\n",
       "      <th>2014-02-12</th>\n",
       "      <td>28.0E+00</td>\n",
       "      <td>NaN</td>\n",
       "      <td>low</td>\n",
       "    </tr>\n",
       "    <tr>\n",
       "      <th>2014-02-13</th>\n",
       "      <td>30.0E+00</td>\n",
       "      <td>NaN</td>\n",
       "      <td>low</td>\n",
       "    </tr>\n",
       "    <tr>\n",
       "      <th>2014-02-14</th>\n",
       "      <td>NaN</td>\n",
       "      <td>NaN</td>\n",
       "      <td>NaN</td>\n",
       "    </tr>\n",
       "    <tr>\n",
       "      <th>2014-02-15</th>\n",
       "      <td>35.1E+00</td>\n",
       "      <td>NaN</td>\n",
       "      <td>medium</td>\n",
       "    </tr>\n",
       "  </tbody>\n",
       "</table>\n",
       "</div>"
      ],
      "text/plain": [
       "            temp_celsius  temp_fahrenheit windspeed\n",
       "2014-02-12      28.0E+00              NaN       low\n",
       "2014-02-13      30.0E+00              NaN       low\n",
       "2014-02-14           NaN              NaN       NaN\n",
       "2014-02-15      35.1E+00              NaN    medium"
      ]
     },
     "metadata": {},
     "output_type": "display_data"
    }
   ],
   "source": [
    "df1 = pd.DataFrame([[24.3, 75.7, 'high'],\n",
    "                    [31, 87.8, 'high'],\n",
    "                    [22, 71.6, 'medium'],\n",
    "                    [35, 95, 'medium']],\n",
    "                   columns=['temp_celsius', 'temp_fahrenheit',\n",
    "                            'windspeed'],\n",
    "                   index=pd.date_range(start='2014-02-12',\n",
    "                                       end='2014-02-15', freq='D'))\n",
    "display(df1)\n",
    "df2 = pd.DataFrame([[28, 'low'],\n",
    "                    [30, 'low'],\n",
    "                    [35.1, 'medium']],\n",
    "                   columns=['temp_celsius', 'windspeed'],\n",
    "                   index=pd.DatetimeIndex(['2014-02-12', '2014-02-13',\n",
    "                                           '2014-02-15']))\n",
    "display(df2)\n",
    "display(df2.reindex_like(df1))"
   ]
  },
  {
   "cell_type": "markdown",
   "id": "b3e0e019",
   "metadata": {},
   "source": [
    "# rename\n",
    "- Rename columns or index labels.\n",
    "- Function / dict values must be unique (1-to-1). Labels not contained in a dict / Series will be left as-is. Extra labels listed don’t throw an error.\n"
   ]
  },
  {
   "cell_type": "code",
   "execution_count": 302,
   "id": "2168ea5e",
   "metadata": {},
   "outputs": [
    {
     "data": {
      "text/html": [
       "<div>\n",
       "<style scoped>\n",
       "    .dataframe tbody tr th:only-of-type {\n",
       "        vertical-align: middle;\n",
       "    }\n",
       "\n",
       "    .dataframe tbody tr th {\n",
       "        vertical-align: top;\n",
       "    }\n",
       "\n",
       "    .dataframe thead th {\n",
       "        text-align: right;\n",
       "    }\n",
       "</style>\n",
       "<table border=\"1\" class=\"dataframe\">\n",
       "  <thead>\n",
       "    <tr style=\"text-align: right;\">\n",
       "      <th></th>\n",
       "      <th>A</th>\n",
       "      <th>B</th>\n",
       "    </tr>\n",
       "  </thead>\n",
       "  <tbody>\n",
       "    <tr>\n",
       "      <th>0</th>\n",
       "      <td>1</td>\n",
       "      <td>4</td>\n",
       "    </tr>\n",
       "    <tr>\n",
       "      <th>1</th>\n",
       "      <td>2</td>\n",
       "      <td>5</td>\n",
       "    </tr>\n",
       "    <tr>\n",
       "      <th>2</th>\n",
       "      <td>3</td>\n",
       "      <td>6</td>\n",
       "    </tr>\n",
       "  </tbody>\n",
       "</table>\n",
       "</div>"
      ],
      "text/plain": [
       "   A  B\n",
       "0  1  4\n",
       "1  2  5\n",
       "2  3  6"
      ]
     },
     "metadata": {},
     "output_type": "display_data"
    },
    {
     "data": {
      "text/html": [
       "<div>\n",
       "<style scoped>\n",
       "    .dataframe tbody tr th:only-of-type {\n",
       "        vertical-align: middle;\n",
       "    }\n",
       "\n",
       "    .dataframe tbody tr th {\n",
       "        vertical-align: top;\n",
       "    }\n",
       "\n",
       "    .dataframe thead th {\n",
       "        text-align: right;\n",
       "    }\n",
       "</style>\n",
       "<table border=\"1\" class=\"dataframe\">\n",
       "  <thead>\n",
       "    <tr style=\"text-align: right;\">\n",
       "      <th></th>\n",
       "      <th>a</th>\n",
       "      <th>c</th>\n",
       "    </tr>\n",
       "  </thead>\n",
       "  <tbody>\n",
       "    <tr>\n",
       "      <th>0</th>\n",
       "      <td>1</td>\n",
       "      <td>4</td>\n",
       "    </tr>\n",
       "    <tr>\n",
       "      <th>1</th>\n",
       "      <td>2</td>\n",
       "      <td>5</td>\n",
       "    </tr>\n",
       "    <tr>\n",
       "      <th>2</th>\n",
       "      <td>3</td>\n",
       "      <td>6</td>\n",
       "    </tr>\n",
       "  </tbody>\n",
       "</table>\n",
       "</div>"
      ],
      "text/plain": [
       "   a  c\n",
       "0  1  4\n",
       "1  2  5\n",
       "2  3  6"
      ]
     },
     "metadata": {},
     "output_type": "display_data"
    }
   ],
   "source": [
    "df = pd.DataFrame({\"A\": [1, 2, 3], \"B\": [4, 5, 6]})\n",
    "display(df)\n",
    "display(df.rename(columns={\"A\": \"a\", \"B\": \"c\"}))"
   ]
  },
  {
   "cell_type": "markdown",
   "id": "65603158",
   "metadata": {},
   "source": [
    "# rename_axis\n",
    "- Set the name of the axis for the index or columns."
   ]
  },
  {
   "cell_type": "code",
   "execution_count": 303,
   "id": "b41b3df9",
   "metadata": {},
   "outputs": [
    {
     "data": {
      "text/plain": [
       "0       dog\n",
       "1       cat\n",
       "2    monkey\n",
       "dtype: object"
      ]
     },
     "metadata": {},
     "output_type": "display_data"
    },
    {
     "data": {
      "text/plain": [
       "animal\n",
       "0       dog\n",
       "1       cat\n",
       "2    monkey\n",
       "dtype: object"
      ]
     },
     "metadata": {},
     "output_type": "display_data"
    }
   ],
   "source": [
    "s = pd.Series([\"dog\", \"cat\", \"monkey\"])\n",
    "display(s)\n",
    "display(s.rename_axis('animal'))"
   ]
  },
  {
   "cell_type": "markdown",
   "id": "490edc6c",
   "metadata": {},
   "source": [
    "# reorder_levels\n",
    "- Rearrange index levels using input order. May not drop or duplicate levels."
   ]
  },
  {
   "cell_type": "code",
   "execution_count": 304,
   "id": "20ff25d8",
   "metadata": {},
   "outputs": [
    {
     "data": {
      "text/html": [
       "<div>\n",
       "<style scoped>\n",
       "    .dataframe tbody tr th:only-of-type {\n",
       "        vertical-align: middle;\n",
       "    }\n",
       "\n",
       "    .dataframe tbody tr th {\n",
       "        vertical-align: top;\n",
       "    }\n",
       "\n",
       "    .dataframe thead th {\n",
       "        text-align: right;\n",
       "    }\n",
       "</style>\n",
       "<table border=\"1\" class=\"dataframe\">\n",
       "  <thead>\n",
       "    <tr style=\"text-align: right;\">\n",
       "      <th></th>\n",
       "      <th></th>\n",
       "      <th>species</th>\n",
       "    </tr>\n",
       "    <tr>\n",
       "      <th>class</th>\n",
       "      <th>diet</th>\n",
       "      <th></th>\n",
       "    </tr>\n",
       "  </thead>\n",
       "  <tbody>\n",
       "    <tr>\n",
       "      <th rowspan=\"2\" valign=\"top\">Mammals</th>\n",
       "      <th>Omnivore</th>\n",
       "      <td>Humans</td>\n",
       "    </tr>\n",
       "    <tr>\n",
       "      <th>Carnivore</th>\n",
       "      <td>Dogs</td>\n",
       "    </tr>\n",
       "    <tr>\n",
       "      <th>Reptiles</th>\n",
       "      <th>Carnivore</th>\n",
       "      <td>Snakes</td>\n",
       "    </tr>\n",
       "  </tbody>\n",
       "</table>\n",
       "</div>"
      ],
      "text/plain": [
       "                   species\n",
       "class    diet             \n",
       "Mammals  Omnivore   Humans\n",
       "         Carnivore    Dogs\n",
       "Reptiles Carnivore  Snakes"
      ]
     },
     "metadata": {},
     "output_type": "display_data"
    },
    {
     "data": {
      "text/html": [
       "<div>\n",
       "<style scoped>\n",
       "    .dataframe tbody tr th:only-of-type {\n",
       "        vertical-align: middle;\n",
       "    }\n",
       "\n",
       "    .dataframe tbody tr th {\n",
       "        vertical-align: top;\n",
       "    }\n",
       "\n",
       "    .dataframe thead th {\n",
       "        text-align: right;\n",
       "    }\n",
       "</style>\n",
       "<table border=\"1\" class=\"dataframe\">\n",
       "  <thead>\n",
       "    <tr style=\"text-align: right;\">\n",
       "      <th></th>\n",
       "      <th></th>\n",
       "      <th>species</th>\n",
       "    </tr>\n",
       "    <tr>\n",
       "      <th>diet</th>\n",
       "      <th>class</th>\n",
       "      <th></th>\n",
       "    </tr>\n",
       "  </thead>\n",
       "  <tbody>\n",
       "    <tr>\n",
       "      <th>Omnivore</th>\n",
       "      <th>Mammals</th>\n",
       "      <td>Humans</td>\n",
       "    </tr>\n",
       "    <tr>\n",
       "      <th rowspan=\"2\" valign=\"top\">Carnivore</th>\n",
       "      <th>Mammals</th>\n",
       "      <td>Dogs</td>\n",
       "    </tr>\n",
       "    <tr>\n",
       "      <th>Reptiles</th>\n",
       "      <td>Snakes</td>\n",
       "    </tr>\n",
       "  </tbody>\n",
       "</table>\n",
       "</div>"
      ],
      "text/plain": [
       "                   species\n",
       "diet      class           \n",
       "Omnivore  Mammals   Humans\n",
       "Carnivore Mammals     Dogs\n",
       "          Reptiles  Snakes"
      ]
     },
     "metadata": {},
     "output_type": "display_data"
    }
   ],
   "source": [
    "data = {\n",
    "    \"class\": [\"Mammals\", \"Mammals\", \"Reptiles\"],\n",
    "    \"diet\": [\"Omnivore\", \"Carnivore\", \"Carnivore\"],\n",
    "    \"species\": [\"Humans\", \"Dogs\", \"Snakes\"],\n",
    "}\n",
    "df = pd.DataFrame(data, columns=[\"class\", \"diet\", \"species\"])\n",
    "df = df.set_index([\"class\", \"diet\"])\n",
    "display(df)\n",
    "display(df.reorder_levels(['diet', 'class']))"
   ]
  },
  {
   "cell_type": "markdown",
   "id": "c999de8a",
   "metadata": {},
   "source": [
    "# replace\n",
    "- Replace values given in to_replace with value.\n",
    "- Values of the Series/DataFrame are replaced with other values dynamically. This differs from updating with .loc or .iloc, which require you to specify a location to update with some value."
   ]
  },
  {
   "cell_type": "code",
   "execution_count": 305,
   "id": "2b3274d7",
   "metadata": {},
   "outputs": [
    {
     "data": {
      "text/plain": [
       "0    1\n",
       "1    2\n",
       "2    3\n",
       "3    4\n",
       "4    5\n",
       "dtype: int64"
      ]
     },
     "metadata": {},
     "output_type": "display_data"
    },
    {
     "data": {
      "text/plain": [
       "0    5\n",
       "1    2\n",
       "2    3\n",
       "3    4\n",
       "4    5\n",
       "dtype: int64"
      ]
     },
     "metadata": {},
     "output_type": "display_data"
    }
   ],
   "source": [
    "s = pd.Series([1, 2, 3, 4, 5])\n",
    "display(s)\n",
    "display(s.replace(1, 5))"
   ]
  },
  {
   "cell_type": "markdown",
   "id": "34b332c5",
   "metadata": {},
   "source": [
    "# resample\n",
    "- Resample time-series data.\n",
    "- Convenience method for frequency conversion and resampling of time series. The object must have a datetime-like index (DatetimeIndex, PeriodIndex, or TimedeltaIndex), or the caller must pass the label of a datetime-like series/index to the on/level keyword parameter."
   ]
  },
  {
   "cell_type": "code",
   "execution_count": 306,
   "id": "63e99f77",
   "metadata": {},
   "outputs": [
    {
     "data": {
      "text/plain": [
       "2000-01-01 00:00:00    0\n",
       "2000-01-01 00:01:00    1\n",
       "2000-01-01 00:02:00    2\n",
       "2000-01-01 00:03:00    3\n",
       "2000-01-01 00:04:00    4\n",
       "2000-01-01 00:05:00    5\n",
       "2000-01-01 00:06:00    6\n",
       "2000-01-01 00:07:00    7\n",
       "2000-01-01 00:08:00    8\n",
       "Freq: min, dtype: int64"
      ]
     },
     "metadata": {},
     "output_type": "display_data"
    },
    {
     "data": {
      "text/plain": [
       "2000-01-01 00:00:00     3\n",
       "2000-01-01 00:03:00    12\n",
       "2000-01-01 00:06:00    21\n",
       "Freq: 3min, dtype: int64"
      ]
     },
     "metadata": {},
     "output_type": "display_data"
    }
   ],
   "source": [
    "index = pd.date_range('1/1/2000', periods=9, freq='min')\n",
    "series = pd.Series(range(9), index=index)\n",
    "display(series)\n",
    "display(series.resample('3min').sum())"
   ]
  },
  {
   "cell_type": "markdown",
   "id": "79a214ea",
   "metadata": {},
   "source": [
    "# reset_index\n",
    "- Reset the index, or a level of it.\n",
    "- Reset the index of the DataFrame, and use the default one instead. If the DataFrame has a MultiIndex, this method can remove one or more levels."
   ]
  },
  {
   "cell_type": "code",
   "execution_count": 307,
   "id": "0777f2cf",
   "metadata": {},
   "outputs": [
    {
     "data": {
      "text/html": [
       "<div>\n",
       "<style scoped>\n",
       "    .dataframe tbody tr th:only-of-type {\n",
       "        vertical-align: middle;\n",
       "    }\n",
       "\n",
       "    .dataframe tbody tr th {\n",
       "        vertical-align: top;\n",
       "    }\n",
       "\n",
       "    .dataframe thead th {\n",
       "        text-align: right;\n",
       "    }\n",
       "</style>\n",
       "<table border=\"1\" class=\"dataframe\">\n",
       "  <thead>\n",
       "    <tr style=\"text-align: right;\">\n",
       "      <th></th>\n",
       "      <th>class</th>\n",
       "      <th>max_speed</th>\n",
       "    </tr>\n",
       "  </thead>\n",
       "  <tbody>\n",
       "    <tr>\n",
       "      <th>falcon</th>\n",
       "      <td>bird</td>\n",
       "      <td>389.0E+00</td>\n",
       "    </tr>\n",
       "    <tr>\n",
       "      <th>parrot</th>\n",
       "      <td>bird</td>\n",
       "      <td>24.0E+00</td>\n",
       "    </tr>\n",
       "    <tr>\n",
       "      <th>lion</th>\n",
       "      <td>mammal</td>\n",
       "      <td>80.5E+00</td>\n",
       "    </tr>\n",
       "    <tr>\n",
       "      <th>monkey</th>\n",
       "      <td>mammal</td>\n",
       "      <td>NaN</td>\n",
       "    </tr>\n",
       "  </tbody>\n",
       "</table>\n",
       "</div>"
      ],
      "text/plain": [
       "         class  max_speed\n",
       "falcon    bird  389.0E+00\n",
       "parrot    bird   24.0E+00\n",
       "lion    mammal   80.5E+00\n",
       "monkey  mammal        NaN"
      ]
     },
     "metadata": {},
     "output_type": "display_data"
    },
    {
     "data": {
      "text/html": [
       "<div>\n",
       "<style scoped>\n",
       "    .dataframe tbody tr th:only-of-type {\n",
       "        vertical-align: middle;\n",
       "    }\n",
       "\n",
       "    .dataframe tbody tr th {\n",
       "        vertical-align: top;\n",
       "    }\n",
       "\n",
       "    .dataframe thead th {\n",
       "        text-align: right;\n",
       "    }\n",
       "</style>\n",
       "<table border=\"1\" class=\"dataframe\">\n",
       "  <thead>\n",
       "    <tr style=\"text-align: right;\">\n",
       "      <th></th>\n",
       "      <th>index</th>\n",
       "      <th>class</th>\n",
       "      <th>max_speed</th>\n",
       "    </tr>\n",
       "  </thead>\n",
       "  <tbody>\n",
       "    <tr>\n",
       "      <th>0</th>\n",
       "      <td>falcon</td>\n",
       "      <td>bird</td>\n",
       "      <td>389.0E+00</td>\n",
       "    </tr>\n",
       "    <tr>\n",
       "      <th>1</th>\n",
       "      <td>parrot</td>\n",
       "      <td>bird</td>\n",
       "      <td>24.0E+00</td>\n",
       "    </tr>\n",
       "    <tr>\n",
       "      <th>2</th>\n",
       "      <td>lion</td>\n",
       "      <td>mammal</td>\n",
       "      <td>80.5E+00</td>\n",
       "    </tr>\n",
       "    <tr>\n",
       "      <th>3</th>\n",
       "      <td>monkey</td>\n",
       "      <td>mammal</td>\n",
       "      <td>NaN</td>\n",
       "    </tr>\n",
       "  </tbody>\n",
       "</table>\n",
       "</div>"
      ],
      "text/plain": [
       "    index   class  max_speed\n",
       "0  falcon    bird  389.0E+00\n",
       "1  parrot    bird   24.0E+00\n",
       "2    lion  mammal   80.5E+00\n",
       "3  monkey  mammal        NaN"
      ]
     },
     "metadata": {},
     "output_type": "display_data"
    }
   ],
   "source": [
    "df = pd.DataFrame([('bird', 389.0),\n",
    "                   ('bird', 24.0),\n",
    "                   ('mammal', 80.5),\n",
    "                   ('mammal', np.nan)],\n",
    "                  index=['falcon', 'parrot', 'lion', 'monkey'],\n",
    "                  columns=('class', 'max_speed'))\n",
    "display(df)\n",
    "display(df.reset_index())"
   ]
  },
  {
   "cell_type": "markdown",
   "id": "71ee528e",
   "metadata": {},
   "source": [
    "# rfloordiv\n",
    "- Get Integer division of dataframe and other, element-wise (binary operator rfloordiv).\n",
    "- Equivalent to other // dataframe, but with support to substitute a fill_value for missing data in one of the inputs. With reverse version, floordiv.\n",
    "- Among flexible wrappers (add, sub, mul, div, floordiv, mod, pow) to arithmetic operators: +, -, *, /, //, %, **."
   ]
  },
  {
   "cell_type": "code",
   "execution_count": 317,
   "id": "8ec785cb",
   "metadata": {},
   "outputs": [
    {
     "data": {
      "text/html": [
       "<div>\n",
       "<style scoped>\n",
       "    .dataframe tbody tr th:only-of-type {\n",
       "        vertical-align: middle;\n",
       "    }\n",
       "\n",
       "    .dataframe tbody tr th {\n",
       "        vertical-align: top;\n",
       "    }\n",
       "\n",
       "    .dataframe thead th {\n",
       "        text-align: right;\n",
       "    }\n",
       "</style>\n",
       "<table border=\"1\" class=\"dataframe\">\n",
       "  <thead>\n",
       "    <tr style=\"text-align: right;\">\n",
       "      <th></th>\n",
       "      <th>angles</th>\n",
       "      <th>degrees</th>\n",
       "    </tr>\n",
       "  </thead>\n",
       "  <tbody>\n",
       "    <tr>\n",
       "      <th>0</th>\n",
       "      <td>52</td>\n",
       "      <td>360</td>\n",
       "    </tr>\n",
       "    <tr>\n",
       "      <th>1</th>\n",
       "      <td>16</td>\n",
       "      <td>180</td>\n",
       "    </tr>\n",
       "    <tr>\n",
       "      <th>2</th>\n",
       "      <td>4</td>\n",
       "      <td>360</td>\n",
       "    </tr>\n",
       "  </tbody>\n",
       "</table>\n",
       "</div>"
      ],
      "text/plain": [
       "   angles  degrees\n",
       "0      52      360\n",
       "1      16      180\n",
       "2       4      360"
      ]
     },
     "metadata": {},
     "output_type": "display_data"
    },
    {
     "data": {
      "text/html": [
       "<div>\n",
       "<style scoped>\n",
       "    .dataframe tbody tr th:only-of-type {\n",
       "        vertical-align: middle;\n",
       "    }\n",
       "\n",
       "    .dataframe tbody tr th {\n",
       "        vertical-align: top;\n",
       "    }\n",
       "\n",
       "    .dataframe thead th {\n",
       "        text-align: right;\n",
       "    }\n",
       "</style>\n",
       "<table border=\"1\" class=\"dataframe\">\n",
       "  <thead>\n",
       "    <tr style=\"text-align: right;\">\n",
       "      <th></th>\n",
       "      <th>angles</th>\n",
       "      <th>degrees</th>\n",
       "    </tr>\n",
       "  </thead>\n",
       "  <tbody>\n",
       "    <tr>\n",
       "      <th>0</th>\n",
       "      <td>0</td>\n",
       "      <td>0</td>\n",
       "    </tr>\n",
       "    <tr>\n",
       "      <th>1</th>\n",
       "      <td>0</td>\n",
       "      <td>0</td>\n",
       "    </tr>\n",
       "    <tr>\n",
       "      <th>2</th>\n",
       "      <td>0</td>\n",
       "      <td>0</td>\n",
       "    </tr>\n",
       "  </tbody>\n",
       "</table>\n",
       "</div>"
      ],
      "text/plain": [
       "   angles  degrees\n",
       "0       0        0\n",
       "1       0        0\n",
       "2       0        0"
      ]
     },
     "metadata": {},
     "output_type": "display_data"
    }
   ],
   "source": [
    "df = pd.DataFrame({'angles': [52, 16, 4],\n",
    "                   'degrees': [360, 180, 360]})\n",
    "s = pd.Series([2, 2],\n",
    "                  index=['angles', 'degrees'])\n",
    "display(df)\n",
    "display(df.rfloordiv(s, axis=1))\n"
   ]
  },
  {
   "cell_type": "markdown",
   "id": "56e954fa",
   "metadata": {},
   "source": [
    "# rmod\n",
    "- Get Modulo of dataframe and other, element-wise (binary operator rmod).\n",
    "- Equivalent to other % dataframe, but with support to substitute a fill_value for missing data in one of the inputs. With reverse version, mod.\n",
    "- Among flexible wrappers (add, sub, mul, div, floordiv, mod, pow) to arithmetic operators: +, -, *, /, //, %, **."
   ]
  },
  {
   "cell_type": "code",
   "execution_count": 321,
   "id": "ee96c4d7",
   "metadata": {},
   "outputs": [
    {
     "data": {
      "text/html": [
       "<div>\n",
       "<style scoped>\n",
       "    .dataframe tbody tr th:only-of-type {\n",
       "        vertical-align: middle;\n",
       "    }\n",
       "\n",
       "    .dataframe tbody tr th {\n",
       "        vertical-align: top;\n",
       "    }\n",
       "\n",
       "    .dataframe thead th {\n",
       "        text-align: right;\n",
       "    }\n",
       "</style>\n",
       "<table border=\"1\" class=\"dataframe\">\n",
       "  <thead>\n",
       "    <tr style=\"text-align: right;\">\n",
       "      <th></th>\n",
       "      <th>angles</th>\n",
       "      <th>degrees</th>\n",
       "    </tr>\n",
       "  </thead>\n",
       "  <tbody>\n",
       "    <tr>\n",
       "      <th>0</th>\n",
       "      <td>52</td>\n",
       "      <td>360</td>\n",
       "    </tr>\n",
       "    <tr>\n",
       "      <th>1</th>\n",
       "      <td>16</td>\n",
       "      <td>180</td>\n",
       "    </tr>\n",
       "    <tr>\n",
       "      <th>2</th>\n",
       "      <td>4</td>\n",
       "      <td>360</td>\n",
       "    </tr>\n",
       "  </tbody>\n",
       "</table>\n",
       "</div>"
      ],
      "text/plain": [
       "   angles  degrees\n",
       "0      52      360\n",
       "1      16      180\n",
       "2       4      360"
      ]
     },
     "metadata": {},
     "output_type": "display_data"
    },
    {
     "data": {
      "text/html": [
       "<div>\n",
       "<style scoped>\n",
       "    .dataframe tbody tr th:only-of-type {\n",
       "        vertical-align: middle;\n",
       "    }\n",
       "\n",
       "    .dataframe tbody tr th {\n",
       "        vertical-align: top;\n",
       "    }\n",
       "\n",
       "    .dataframe thead th {\n",
       "        text-align: right;\n",
       "    }\n",
       "</style>\n",
       "<table border=\"1\" class=\"dataframe\">\n",
       "  <thead>\n",
       "    <tr style=\"text-align: right;\">\n",
       "      <th></th>\n",
       "      <th>angles</th>\n",
       "      <th>degrees</th>\n",
       "    </tr>\n",
       "  </thead>\n",
       "  <tbody>\n",
       "    <tr>\n",
       "      <th>0</th>\n",
       "      <td>1</td>\n",
       "      <td>180</td>\n",
       "    </tr>\n",
       "    <tr>\n",
       "      <th>1</th>\n",
       "      <td>9</td>\n",
       "      <td>0</td>\n",
       "    </tr>\n",
       "    <tr>\n",
       "      <th>2</th>\n",
       "      <td>1</td>\n",
       "      <td>180</td>\n",
       "    </tr>\n",
       "  </tbody>\n",
       "</table>\n",
       "</div>"
      ],
      "text/plain": [
       "   angles  degrees\n",
       "0       1      180\n",
       "1       9        0\n",
       "2       1      180"
      ]
     },
     "metadata": {},
     "output_type": "display_data"
    }
   ],
   "source": [
    "df = pd.DataFrame({'angles': [52, 16, 4],\n",
    "                   'degrees': [360, 180, 360]})\n",
    "s = pd.Series([105, 540],\n",
    "                  index=['angles', 'degrees'])\n",
    "display(df)\n",
    "display(df.rmod(s, axis=1))"
   ]
  },
  {
   "cell_type": "markdown",
   "id": "f6f0ddd2",
   "metadata": {},
   "source": [
    "# rmul\n",
    "- Get Multiplication of dataframe and other, element-wise (binary operator rmul).\n",
    "- Equivalent to other * dataframe, but with support to substitute a fill_value for missing data in one of the inputs. With reverse version, mul.\n",
    "- Among flexible wrappers (add, sub, mul, div, floordiv, mod, pow) to arithmetic operators: +, -, *, /, //, %, **."
   ]
  },
  {
   "cell_type": "code",
   "execution_count": 322,
   "id": "147c2f3f",
   "metadata": {},
   "outputs": [
    {
     "data": {
      "text/html": [
       "<div>\n",
       "<style scoped>\n",
       "    .dataframe tbody tr th:only-of-type {\n",
       "        vertical-align: middle;\n",
       "    }\n",
       "\n",
       "    .dataframe tbody tr th {\n",
       "        vertical-align: top;\n",
       "    }\n",
       "\n",
       "    .dataframe thead th {\n",
       "        text-align: right;\n",
       "    }\n",
       "</style>\n",
       "<table border=\"1\" class=\"dataframe\">\n",
       "  <thead>\n",
       "    <tr style=\"text-align: right;\">\n",
       "      <th></th>\n",
       "      <th>angles</th>\n",
       "      <th>degrees</th>\n",
       "    </tr>\n",
       "  </thead>\n",
       "  <tbody>\n",
       "    <tr>\n",
       "      <th>0</th>\n",
       "      <td>52</td>\n",
       "      <td>360</td>\n",
       "    </tr>\n",
       "    <tr>\n",
       "      <th>1</th>\n",
       "      <td>16</td>\n",
       "      <td>180</td>\n",
       "    </tr>\n",
       "    <tr>\n",
       "      <th>2</th>\n",
       "      <td>4</td>\n",
       "      <td>360</td>\n",
       "    </tr>\n",
       "  </tbody>\n",
       "</table>\n",
       "</div>"
      ],
      "text/plain": [
       "   angles  degrees\n",
       "0      52      360\n",
       "1      16      180\n",
       "2       4      360"
      ]
     },
     "metadata": {},
     "output_type": "display_data"
    },
    {
     "data": {
      "text/html": [
       "<div>\n",
       "<style scoped>\n",
       "    .dataframe tbody tr th:only-of-type {\n",
       "        vertical-align: middle;\n",
       "    }\n",
       "\n",
       "    .dataframe tbody tr th {\n",
       "        vertical-align: top;\n",
       "    }\n",
       "\n",
       "    .dataframe thead th {\n",
       "        text-align: right;\n",
       "    }\n",
       "</style>\n",
       "<table border=\"1\" class=\"dataframe\">\n",
       "  <thead>\n",
       "    <tr style=\"text-align: right;\">\n",
       "      <th></th>\n",
       "      <th>angles</th>\n",
       "      <th>degrees</th>\n",
       "    </tr>\n",
       "  </thead>\n",
       "  <tbody>\n",
       "    <tr>\n",
       "      <th>0</th>\n",
       "      <td>156</td>\n",
       "      <td>720</td>\n",
       "    </tr>\n",
       "    <tr>\n",
       "      <th>1</th>\n",
       "      <td>48</td>\n",
       "      <td>360</td>\n",
       "    </tr>\n",
       "    <tr>\n",
       "      <th>2</th>\n",
       "      <td>12</td>\n",
       "      <td>720</td>\n",
       "    </tr>\n",
       "  </tbody>\n",
       "</table>\n",
       "</div>"
      ],
      "text/plain": [
       "   angles  degrees\n",
       "0     156      720\n",
       "1      48      360\n",
       "2      12      720"
      ]
     },
     "metadata": {},
     "output_type": "display_data"
    }
   ],
   "source": [
    "df = pd.DataFrame({'angles': [52, 16, 4],\n",
    "                   'degrees': [360, 180, 360]})\n",
    "s = pd.Series([3, 2],\n",
    "                  index=['angles', 'degrees'])\n",
    "display(df)\n",
    "display(df.rmul(s, axis=1))"
   ]
  },
  {
   "cell_type": "markdown",
   "id": "dce2a110",
   "metadata": {},
   "source": [
    "# rolling\n",
    "- Provide rolling window calculations."
   ]
  },
  {
   "cell_type": "code",
   "execution_count": 325,
   "id": "3ee8e3cf",
   "metadata": {},
   "outputs": [
    {
     "data": {
      "text/html": [
       "<div>\n",
       "<style scoped>\n",
       "    .dataframe tbody tr th:only-of-type {\n",
       "        vertical-align: middle;\n",
       "    }\n",
       "\n",
       "    .dataframe tbody tr th {\n",
       "        vertical-align: top;\n",
       "    }\n",
       "\n",
       "    .dataframe thead th {\n",
       "        text-align: right;\n",
       "    }\n",
       "</style>\n",
       "<table border=\"1\" class=\"dataframe\">\n",
       "  <thead>\n",
       "    <tr style=\"text-align: right;\">\n",
       "      <th></th>\n",
       "      <th>B</th>\n",
       "    </tr>\n",
       "  </thead>\n",
       "  <tbody>\n",
       "    <tr>\n",
       "      <th>0</th>\n",
       "      <td>0.0E+00</td>\n",
       "    </tr>\n",
       "    <tr>\n",
       "      <th>1</th>\n",
       "      <td>1.0E+00</td>\n",
       "    </tr>\n",
       "    <tr>\n",
       "      <th>2</th>\n",
       "      <td>2.0E+00</td>\n",
       "    </tr>\n",
       "    <tr>\n",
       "      <th>3</th>\n",
       "      <td>NaN</td>\n",
       "    </tr>\n",
       "    <tr>\n",
       "      <th>4</th>\n",
       "      <td>4.0E+00</td>\n",
       "    </tr>\n",
       "  </tbody>\n",
       "</table>\n",
       "</div>"
      ],
      "text/plain": [
       "         B\n",
       "0  0.0E+00\n",
       "1  1.0E+00\n",
       "2  2.0E+00\n",
       "3      NaN\n",
       "4  4.0E+00"
      ]
     },
     "metadata": {},
     "output_type": "display_data"
    },
    {
     "data": {
      "text/html": [
       "<div>\n",
       "<style scoped>\n",
       "    .dataframe tbody tr th:only-of-type {\n",
       "        vertical-align: middle;\n",
       "    }\n",
       "\n",
       "    .dataframe tbody tr th {\n",
       "        vertical-align: top;\n",
       "    }\n",
       "\n",
       "    .dataframe thead th {\n",
       "        text-align: right;\n",
       "    }\n",
       "</style>\n",
       "<table border=\"1\" class=\"dataframe\">\n",
       "  <thead>\n",
       "    <tr style=\"text-align: right;\">\n",
       "      <th></th>\n",
       "      <th>B</th>\n",
       "    </tr>\n",
       "  </thead>\n",
       "  <tbody>\n",
       "    <tr>\n",
       "      <th>0</th>\n",
       "      <td>NaN</td>\n",
       "    </tr>\n",
       "    <tr>\n",
       "      <th>1</th>\n",
       "      <td>1.0E+00</td>\n",
       "    </tr>\n",
       "    <tr>\n",
       "      <th>2</th>\n",
       "      <td>3.0E+00</td>\n",
       "    </tr>\n",
       "    <tr>\n",
       "      <th>3</th>\n",
       "      <td>NaN</td>\n",
       "    </tr>\n",
       "    <tr>\n",
       "      <th>4</th>\n",
       "      <td>NaN</td>\n",
       "    </tr>\n",
       "  </tbody>\n",
       "</table>\n",
       "</div>"
      ],
      "text/plain": [
       "         B\n",
       "0      NaN\n",
       "1  1.0E+00\n",
       "2  3.0E+00\n",
       "3      NaN\n",
       "4      NaN"
      ]
     },
     "metadata": {},
     "output_type": "display_data"
    }
   ],
   "source": [
    "df = pd.DataFrame({'B': [0, 1, 2, np.nan, 4]})\n",
    "display(df)\n",
    "display(df.rolling(2).sum())"
   ]
  },
  {
   "cell_type": "markdown",
   "id": "b08981bd",
   "metadata": {},
   "source": [
    "# round\n",
    "- Round a DataFrame to a variable number of decimal places."
   ]
  },
  {
   "cell_type": "code",
   "execution_count": 331,
   "id": "33439271",
   "metadata": {},
   "outputs": [
    {
     "data": {
      "text/html": [
       "<div>\n",
       "<style scoped>\n",
       "    .dataframe tbody tr th:only-of-type {\n",
       "        vertical-align: middle;\n",
       "    }\n",
       "\n",
       "    .dataframe tbody tr th {\n",
       "        vertical-align: top;\n",
       "    }\n",
       "\n",
       "    .dataframe thead th {\n",
       "        text-align: right;\n",
       "    }\n",
       "</style>\n",
       "<table border=\"1\" class=\"dataframe\">\n",
       "  <thead>\n",
       "    <tr style=\"text-align: right;\">\n",
       "      <th></th>\n",
       "      <th>dogs</th>\n",
       "      <th>cats</th>\n",
       "    </tr>\n",
       "  </thead>\n",
       "  <tbody>\n",
       "    <tr>\n",
       "      <th>0</th>\n",
       "      <td>210.0E-03</td>\n",
       "      <td>320.0E-03</td>\n",
       "    </tr>\n",
       "    <tr>\n",
       "      <th>1</th>\n",
       "      <td>10.0E-03</td>\n",
       "      <td>670.0E-03</td>\n",
       "    </tr>\n",
       "    <tr>\n",
       "      <th>2</th>\n",
       "      <td>660.0E-03</td>\n",
       "      <td>30.0E-03</td>\n",
       "    </tr>\n",
       "    <tr>\n",
       "      <th>3</th>\n",
       "      <td>210.0E-03</td>\n",
       "      <td>180.0E-03</td>\n",
       "    </tr>\n",
       "  </tbody>\n",
       "</table>\n",
       "</div>"
      ],
      "text/plain": [
       "        dogs       cats\n",
       "0  210.0E-03  320.0E-03\n",
       "1   10.0E-03  670.0E-03\n",
       "2  660.0E-03   30.0E-03\n",
       "3  210.0E-03  180.0E-03"
      ]
     },
     "metadata": {},
     "output_type": "display_data"
    },
    {
     "data": {
      "text/html": [
       "<div>\n",
       "<style scoped>\n",
       "    .dataframe tbody tr th:only-of-type {\n",
       "        vertical-align: middle;\n",
       "    }\n",
       "\n",
       "    .dataframe tbody tr th {\n",
       "        vertical-align: top;\n",
       "    }\n",
       "\n",
       "    .dataframe thead th {\n",
       "        text-align: right;\n",
       "    }\n",
       "</style>\n",
       "<table border=\"1\" class=\"dataframe\">\n",
       "  <thead>\n",
       "    <tr style=\"text-align: right;\">\n",
       "      <th></th>\n",
       "      <th>dogs</th>\n",
       "      <th>cats</th>\n",
       "    </tr>\n",
       "  </thead>\n",
       "  <tbody>\n",
       "    <tr>\n",
       "      <th>0</th>\n",
       "      <td>210.0E-03</td>\n",
       "      <td>320.0E-03</td>\n",
       "    </tr>\n",
       "    <tr>\n",
       "      <th>1</th>\n",
       "      <td>10.0E-03</td>\n",
       "      <td>670.0E-03</td>\n",
       "    </tr>\n",
       "    <tr>\n",
       "      <th>2</th>\n",
       "      <td>660.0E-03</td>\n",
       "      <td>30.0E-03</td>\n",
       "    </tr>\n",
       "    <tr>\n",
       "      <th>3</th>\n",
       "      <td>210.0E-03</td>\n",
       "      <td>180.0E-03</td>\n",
       "    </tr>\n",
       "  </tbody>\n",
       "</table>\n",
       "</div>"
      ],
      "text/plain": [
       "        dogs       cats\n",
       "0  210.0E-03  320.0E-03\n",
       "1   10.0E-03  670.0E-03\n",
       "2  660.0E-03   30.0E-03\n",
       "3  210.0E-03  180.0E-03"
      ]
     },
     "metadata": {},
     "output_type": "display_data"
    }
   ],
   "source": [
    "df = pd.DataFrame([(.21, .32), (.01, .67), (.66, .03), (.21, .18)],\n",
    "                  columns=['dogs', 'cats'])\n",
    "display(df)\n",
    "display(df.round(2))"
   ]
  },
  {
   "cell_type": "markdown",
   "id": "e66d40ba",
   "metadata": {},
   "source": [
    "# rpow\n",
    "- Get Exponential power of dataframe and other, element-wise (binary operator rpow).\n",
    "- Equivalent to other ** dataframe, but with support to substitute a fill_value for missing data in one of the inputs. With reverse version, pow.\n",
    "- Among flexible wrappers (add, sub, mul, div, floordiv, mod, pow) to arithmetic operators: +, -, *, /, //, %, **.\n",
    "### Reverse power"
   ]
  },
  {
   "cell_type": "code",
   "execution_count": 337,
   "id": "88ec1c44",
   "metadata": {},
   "outputs": [
    {
     "data": {
      "text/html": [
       "<div>\n",
       "<style scoped>\n",
       "    .dataframe tbody tr th:only-of-type {\n",
       "        vertical-align: middle;\n",
       "    }\n",
       "\n",
       "    .dataframe tbody tr th {\n",
       "        vertical-align: top;\n",
       "    }\n",
       "\n",
       "    .dataframe thead th {\n",
       "        text-align: right;\n",
       "    }\n",
       "</style>\n",
       "<table border=\"1\" class=\"dataframe\">\n",
       "  <thead>\n",
       "    <tr style=\"text-align: right;\">\n",
       "      <th></th>\n",
       "      <th>angles</th>\n",
       "      <th>degrees</th>\n",
       "    </tr>\n",
       "  </thead>\n",
       "  <tbody>\n",
       "    <tr>\n",
       "      <th>0</th>\n",
       "      <td>9</td>\n",
       "      <td>15</td>\n",
       "    </tr>\n",
       "    <tr>\n",
       "      <th>1</th>\n",
       "      <td>16</td>\n",
       "      <td>14</td>\n",
       "    </tr>\n",
       "    <tr>\n",
       "      <th>2</th>\n",
       "      <td>4</td>\n",
       "      <td>13</td>\n",
       "    </tr>\n",
       "  </tbody>\n",
       "</table>\n",
       "</div>"
      ],
      "text/plain": [
       "   angles  degrees\n",
       "0       9       15\n",
       "1      16       14\n",
       "2       4       13"
      ]
     },
     "metadata": {},
     "output_type": "display_data"
    },
    {
     "data": {
      "text/html": [
       "<div>\n",
       "<style scoped>\n",
       "    .dataframe tbody tr th:only-of-type {\n",
       "        vertical-align: middle;\n",
       "    }\n",
       "\n",
       "    .dataframe tbody tr th {\n",
       "        vertical-align: top;\n",
       "    }\n",
       "\n",
       "    .dataframe thead th {\n",
       "        text-align: right;\n",
       "    }\n",
       "</style>\n",
       "<table border=\"1\" class=\"dataframe\">\n",
       "  <thead>\n",
       "    <tr style=\"text-align: right;\">\n",
       "      <th></th>\n",
       "      <th>angles</th>\n",
       "      <th>degrees</th>\n",
       "    </tr>\n",
       "  </thead>\n",
       "  <tbody>\n",
       "    <tr>\n",
       "      <th>0</th>\n",
       "      <td>512</td>\n",
       "      <td>32768</td>\n",
       "    </tr>\n",
       "    <tr>\n",
       "      <th>1</th>\n",
       "      <td>65536</td>\n",
       "      <td>16384</td>\n",
       "    </tr>\n",
       "    <tr>\n",
       "      <th>2</th>\n",
       "      <td>16</td>\n",
       "      <td>8192</td>\n",
       "    </tr>\n",
       "  </tbody>\n",
       "</table>\n",
       "</div>"
      ],
      "text/plain": [
       "   angles  degrees\n",
       "0     512    32768\n",
       "1   65536    16384\n",
       "2      16     8192"
      ]
     },
     "metadata": {},
     "output_type": "display_data"
    }
   ],
   "source": [
    "df = pd.DataFrame({'angles': [9, 16, 4],\n",
    "                   'degrees': [15, 14, 13]})\n",
    "s = pd.Series([2, 2],\n",
    "                  index=['angles', 'degrees'])\n",
    "display(df)\n",
    "display(df.rpow(s))"
   ]
  },
  {
   "cell_type": "markdown",
   "id": "d2d6cd2b",
   "metadata": {},
   "source": [
    "# rsub\n",
    "- Get Subtraction of dataframe and other, element-wise (binary operator rsub).\n",
    "- Equivalent to other - dataframe, but with support to substitute a fill_value for missing data in one of the inputs. With reverse version, sub.\n",
    "- Among flexible wrappers (add, sub, mul, div, floordiv, mod, pow) to arithmetic operators: +, -, *, /, //, %, **.\n",
    "#### reverse subtraction"
   ]
  },
  {
   "cell_type": "code",
   "execution_count": 338,
   "id": "15113743",
   "metadata": {},
   "outputs": [
    {
     "name": "stdout",
     "output_type": "stream",
     "text": [
      "Result of rsub:\n",
      "    A   B\n",
      "0  40  20\n",
      "1  30  10\n",
      "\n",
      "Equivalent using operator:\n",
      "    A   B\n",
      "0  40  20\n",
      "1  30  10\n"
     ]
    }
   ],
   "source": [
    "df = pd.DataFrame({'A': [10, 20], 'B': [30, 40]})\n",
    "scalar_value = 50\n",
    "\n",
    "# Using rsub\n",
    "result_rsub = df.rsub(scalar_value)\n",
    "print(\"Result of rsub:\")\n",
    "print(result_rsub)\n",
    "\n",
    "# Equivalent using standard subtraction operator\n",
    "result_operator = scalar_value - df\n",
    "print(\"\\nEquivalent using operator:\")\n",
    "print(result_operator)"
   ]
  },
  {
   "cell_type": "markdown",
   "id": "3c00029a",
   "metadata": {},
   "source": [
    "# rtruediv\n",
    "- Get Floating division of dataframe and other, element-wise (binary operator rtruediv).\n",
    "- Equivalent to other / dataframe, but with support to substitute a fill_value for missing data in one of the inputs. With reverse version, truediv.\n",
    "- Among flexible wrappers (add, sub, mul, div, floordiv, mod, pow) to arithmetic operators: +, -, *, /, //, %, **.\n",
    "### represent the reverse true division"
   ]
  },
  {
   "cell_type": "code",
   "execution_count": 339,
   "id": "8f497da3",
   "metadata": {},
   "outputs": [
    {
     "name": "stdout",
     "output_type": "stream",
     "text": [
      "0    10.0E+00\n",
      "1     5.0E+00\n",
      "2     3.3E+00\n",
      "3     2.5E+00\n",
      "dtype: float64\n",
      "          A        B\n",
      "0  10.0E+00  3.3E+00\n",
      "1   5.0E+00  2.5E+00\n"
     ]
    }
   ],
   "source": [
    "s = pd.Series([1, 2, 3, 4])\n",
    "result = s.rtruediv(10)\n",
    "print(result)\n",
    "\n",
    "df = pd.DataFrame({'A': [1, 2], 'B': [3, 4]})\n",
    "result_df = df.rtruediv(10)\n",
    "print(result_df)"
   ]
  },
  {
   "cell_type": "markdown",
   "id": "f268c847",
   "metadata": {},
   "source": [
    "# sample\n",
    "- Return a random sample of items from an axis of object.\n",
    "- You can use random_state for reproducibility."
   ]
  },
  {
   "cell_type": "code",
   "execution_count": 340,
   "id": "b1ad2d4c",
   "metadata": {},
   "outputs": [
    {
     "data": {
      "text/html": [
       "<div>\n",
       "<style scoped>\n",
       "    .dataframe tbody tr th:only-of-type {\n",
       "        vertical-align: middle;\n",
       "    }\n",
       "\n",
       "    .dataframe tbody tr th {\n",
       "        vertical-align: top;\n",
       "    }\n",
       "\n",
       "    .dataframe thead th {\n",
       "        text-align: right;\n",
       "    }\n",
       "</style>\n",
       "<table border=\"1\" class=\"dataframe\">\n",
       "  <thead>\n",
       "    <tr style=\"text-align: right;\">\n",
       "      <th></th>\n",
       "      <th>num_legs</th>\n",
       "      <th>num_wings</th>\n",
       "      <th>num_specimen_seen</th>\n",
       "    </tr>\n",
       "  </thead>\n",
       "  <tbody>\n",
       "    <tr>\n",
       "      <th>falcon</th>\n",
       "      <td>2</td>\n",
       "      <td>2</td>\n",
       "      <td>10</td>\n",
       "    </tr>\n",
       "    <tr>\n",
       "      <th>dog</th>\n",
       "      <td>4</td>\n",
       "      <td>0</td>\n",
       "      <td>2</td>\n",
       "    </tr>\n",
       "    <tr>\n",
       "      <th>spider</th>\n",
       "      <td>8</td>\n",
       "      <td>0</td>\n",
       "      <td>1</td>\n",
       "    </tr>\n",
       "    <tr>\n",
       "      <th>fish</th>\n",
       "      <td>0</td>\n",
       "      <td>0</td>\n",
       "      <td>8</td>\n",
       "    </tr>\n",
       "  </tbody>\n",
       "</table>\n",
       "</div>"
      ],
      "text/plain": [
       "        num_legs  num_wings  num_specimen_seen\n",
       "falcon         2          2                 10\n",
       "dog            4          0                  2\n",
       "spider         8          0                  1\n",
       "fish           0          0                  8"
      ]
     },
     "metadata": {},
     "output_type": "display_data"
    },
    {
     "data": {
      "text/plain": [
       "fish      0\n",
       "spider    8\n",
       "falcon    2\n",
       "Name: num_legs, dtype: int64"
      ]
     },
     "metadata": {},
     "output_type": "display_data"
    }
   ],
   "source": [
    "df = pd.DataFrame({'num_legs': [2, 4, 8, 0],\n",
    "                   'num_wings': [2, 0, 0, 0],\n",
    "                   'num_specimen_seen': [10, 2, 1, 8]},\n",
    "                  index=['falcon', 'dog', 'spider', 'fish'])\n",
    "display(df)\n",
    "display(df['num_legs'].sample(n=3, random_state=1))"
   ]
  },
  {
   "cell_type": "markdown",
   "id": "7772d998",
   "metadata": {},
   "source": [
    "# select_dtypes\n",
    "- Return a subset of the DataFrame’s columns based on the column dtypes."
   ]
  },
  {
   "cell_type": "code",
   "execution_count": 341,
   "id": "051bf785",
   "metadata": {},
   "outputs": [
    {
     "data": {
      "text/html": [
       "<div>\n",
       "<style scoped>\n",
       "    .dataframe tbody tr th:only-of-type {\n",
       "        vertical-align: middle;\n",
       "    }\n",
       "\n",
       "    .dataframe tbody tr th {\n",
       "        vertical-align: top;\n",
       "    }\n",
       "\n",
       "    .dataframe thead th {\n",
       "        text-align: right;\n",
       "    }\n",
       "</style>\n",
       "<table border=\"1\" class=\"dataframe\">\n",
       "  <thead>\n",
       "    <tr style=\"text-align: right;\">\n",
       "      <th></th>\n",
       "      <th>a</th>\n",
       "      <th>b</th>\n",
       "      <th>c</th>\n",
       "    </tr>\n",
       "  </thead>\n",
       "  <tbody>\n",
       "    <tr>\n",
       "      <th>0</th>\n",
       "      <td>1</td>\n",
       "      <td>True</td>\n",
       "      <td>1.0E+00</td>\n",
       "    </tr>\n",
       "    <tr>\n",
       "      <th>1</th>\n",
       "      <td>2</td>\n",
       "      <td>False</td>\n",
       "      <td>2.0E+00</td>\n",
       "    </tr>\n",
       "    <tr>\n",
       "      <th>2</th>\n",
       "      <td>1</td>\n",
       "      <td>True</td>\n",
       "      <td>1.0E+00</td>\n",
       "    </tr>\n",
       "    <tr>\n",
       "      <th>3</th>\n",
       "      <td>2</td>\n",
       "      <td>False</td>\n",
       "      <td>2.0E+00</td>\n",
       "    </tr>\n",
       "    <tr>\n",
       "      <th>4</th>\n",
       "      <td>1</td>\n",
       "      <td>True</td>\n",
       "      <td>1.0E+00</td>\n",
       "    </tr>\n",
       "    <tr>\n",
       "      <th>5</th>\n",
       "      <td>2</td>\n",
       "      <td>False</td>\n",
       "      <td>2.0E+00</td>\n",
       "    </tr>\n",
       "  </tbody>\n",
       "</table>\n",
       "</div>"
      ],
      "text/plain": [
       "   a      b        c\n",
       "0  1   True  1.0E+00\n",
       "1  2  False  2.0E+00\n",
       "2  1   True  1.0E+00\n",
       "3  2  False  2.0E+00\n",
       "4  1   True  1.0E+00\n",
       "5  2  False  2.0E+00"
      ]
     },
     "metadata": {},
     "output_type": "display_data"
    },
    {
     "data": {
      "text/html": [
       "<div>\n",
       "<style scoped>\n",
       "    .dataframe tbody tr th:only-of-type {\n",
       "        vertical-align: middle;\n",
       "    }\n",
       "\n",
       "    .dataframe tbody tr th {\n",
       "        vertical-align: top;\n",
       "    }\n",
       "\n",
       "    .dataframe thead th {\n",
       "        text-align: right;\n",
       "    }\n",
       "</style>\n",
       "<table border=\"1\" class=\"dataframe\">\n",
       "  <thead>\n",
       "    <tr style=\"text-align: right;\">\n",
       "      <th></th>\n",
       "      <th>b</th>\n",
       "    </tr>\n",
       "  </thead>\n",
       "  <tbody>\n",
       "    <tr>\n",
       "      <th>0</th>\n",
       "      <td>True</td>\n",
       "    </tr>\n",
       "    <tr>\n",
       "      <th>1</th>\n",
       "      <td>False</td>\n",
       "    </tr>\n",
       "    <tr>\n",
       "      <th>2</th>\n",
       "      <td>True</td>\n",
       "    </tr>\n",
       "    <tr>\n",
       "      <th>3</th>\n",
       "      <td>False</td>\n",
       "    </tr>\n",
       "    <tr>\n",
       "      <th>4</th>\n",
       "      <td>True</td>\n",
       "    </tr>\n",
       "    <tr>\n",
       "      <th>5</th>\n",
       "      <td>False</td>\n",
       "    </tr>\n",
       "  </tbody>\n",
       "</table>\n",
       "</div>"
      ],
      "text/plain": [
       "       b\n",
       "0   True\n",
       "1  False\n",
       "2   True\n",
       "3  False\n",
       "4   True\n",
       "5  False"
      ]
     },
     "metadata": {},
     "output_type": "display_data"
    }
   ],
   "source": [
    "df = pd.DataFrame({'a': [1, 2] * 3,\n",
    "                   'b': [True, False] * 3,\n",
    "                   'c': [1.0, 2.0] * 3})\n",
    "display(df)\n",
    "display(df.select_dtypes(include='bool'))"
   ]
  },
  {
   "cell_type": "markdown",
   "id": "e9f188d5",
   "metadata": {},
   "source": [
    "# sem\n",
    "- Return unbiased standard error of the mean over requested axis.\n",
    "- Normalized by N-1 by default. This can be changed using the ddof argument"
   ]
  },
  {
   "cell_type": "code",
   "execution_count": 343,
   "id": "44c3bda4",
   "metadata": {},
   "outputs": [
    {
     "name": "stdout",
     "output_type": "stream",
     "text": [
      "0    1\n",
      "1    2\n",
      "2    3\n",
      "dtype: int64\n",
      "0.5774\n"
     ]
    }
   ],
   "source": [
    "s = pd.Series([1, 2, 3])\n",
    "print(s)\n",
    "print(s.sem().round(4))"
   ]
  },
  {
   "cell_type": "markdown",
   "id": "1deb2f88",
   "metadata": {},
   "source": [
    "# set_axis\n",
    "- Assign desired index to given axis.\n",
    "- Indexes for column or row labels can be changed by assigning a list-like or Index."
   ]
  },
  {
   "cell_type": "code",
   "execution_count": 344,
   "id": "4eb68323",
   "metadata": {},
   "outputs": [
    {
     "data": {
      "text/html": [
       "<div>\n",
       "<style scoped>\n",
       "    .dataframe tbody tr th:only-of-type {\n",
       "        vertical-align: middle;\n",
       "    }\n",
       "\n",
       "    .dataframe tbody tr th {\n",
       "        vertical-align: top;\n",
       "    }\n",
       "\n",
       "    .dataframe thead th {\n",
       "        text-align: right;\n",
       "    }\n",
       "</style>\n",
       "<table border=\"1\" class=\"dataframe\">\n",
       "  <thead>\n",
       "    <tr style=\"text-align: right;\">\n",
       "      <th></th>\n",
       "      <th>A</th>\n",
       "      <th>B</th>\n",
       "    </tr>\n",
       "  </thead>\n",
       "  <tbody>\n",
       "    <tr>\n",
       "      <th>0</th>\n",
       "      <td>1</td>\n",
       "      <td>4</td>\n",
       "    </tr>\n",
       "    <tr>\n",
       "      <th>1</th>\n",
       "      <td>2</td>\n",
       "      <td>5</td>\n",
       "    </tr>\n",
       "    <tr>\n",
       "      <th>2</th>\n",
       "      <td>3</td>\n",
       "      <td>6</td>\n",
       "    </tr>\n",
       "  </tbody>\n",
       "</table>\n",
       "</div>"
      ],
      "text/plain": [
       "   A  B\n",
       "0  1  4\n",
       "1  2  5\n",
       "2  3  6"
      ]
     },
     "metadata": {},
     "output_type": "display_data"
    },
    {
     "data": {
      "text/html": [
       "<div>\n",
       "<style scoped>\n",
       "    .dataframe tbody tr th:only-of-type {\n",
       "        vertical-align: middle;\n",
       "    }\n",
       "\n",
       "    .dataframe tbody tr th {\n",
       "        vertical-align: top;\n",
       "    }\n",
       "\n",
       "    .dataframe thead th {\n",
       "        text-align: right;\n",
       "    }\n",
       "</style>\n",
       "<table border=\"1\" class=\"dataframe\">\n",
       "  <thead>\n",
       "    <tr style=\"text-align: right;\">\n",
       "      <th></th>\n",
       "      <th>A</th>\n",
       "      <th>B</th>\n",
       "    </tr>\n",
       "  </thead>\n",
       "  <tbody>\n",
       "    <tr>\n",
       "      <th>a</th>\n",
       "      <td>1</td>\n",
       "      <td>4</td>\n",
       "    </tr>\n",
       "    <tr>\n",
       "      <th>b</th>\n",
       "      <td>2</td>\n",
       "      <td>5</td>\n",
       "    </tr>\n",
       "    <tr>\n",
       "      <th>c</th>\n",
       "      <td>3</td>\n",
       "      <td>6</td>\n",
       "    </tr>\n",
       "  </tbody>\n",
       "</table>\n",
       "</div>"
      ],
      "text/plain": [
       "   A  B\n",
       "a  1  4\n",
       "b  2  5\n",
       "c  3  6"
      ]
     },
     "metadata": {},
     "output_type": "display_data"
    }
   ],
   "source": [
    "df = pd.DataFrame({\"A\": [1, 2, 3], \"B\": [4, 5, 6]})\n",
    "display(df)\n",
    "display(df.set_axis(['a', 'b', 'c'], axis='index'))"
   ]
  },
  {
   "cell_type": "markdown",
   "id": "7a3f1e86",
   "metadata": {},
   "source": [
    "# set_flags\n",
    "- Return a new object with updated flags."
   ]
  },
  {
   "cell_type": "code",
   "execution_count": 347,
   "id": "48e79c7c",
   "metadata": {},
   "outputs": [
    {
     "data": {
      "text/html": [
       "<div>\n",
       "<style scoped>\n",
       "    .dataframe tbody tr th:only-of-type {\n",
       "        vertical-align: middle;\n",
       "    }\n",
       "\n",
       "    .dataframe tbody tr th {\n",
       "        vertical-align: top;\n",
       "    }\n",
       "\n",
       "    .dataframe thead th {\n",
       "        text-align: right;\n",
       "    }\n",
       "</style>\n",
       "<table border=\"1\" class=\"dataframe\">\n",
       "  <thead>\n",
       "    <tr style=\"text-align: right;\">\n",
       "      <th></th>\n",
       "      <th>A</th>\n",
       "    </tr>\n",
       "  </thead>\n",
       "  <tbody>\n",
       "    <tr>\n",
       "      <th>0</th>\n",
       "      <td>1</td>\n",
       "    </tr>\n",
       "    <tr>\n",
       "      <th>1</th>\n",
       "      <td>2</td>\n",
       "    </tr>\n",
       "  </tbody>\n",
       "</table>\n",
       "</div>"
      ],
      "text/plain": [
       "   A\n",
       "0  1\n",
       "1  2"
      ]
     },
     "metadata": {},
     "output_type": "display_data"
    },
    {
     "name": "stdout",
     "output_type": "stream",
     "text": [
      "True\n",
      "True\n"
     ]
    }
   ],
   "source": [
    "df = pd.DataFrame({\"A\": [1, 2]})\n",
    "display(df)\n",
    "print(df.flags.allows_duplicate_labels)\n",
    "df = df.set_flags(allows_duplicate_labels=False)\n",
    "print(df2.flags.allows_duplicate_labels)"
   ]
  },
  {
   "cell_type": "markdown",
   "id": "e17ea45f",
   "metadata": {},
   "source": [
    "# set_index\n",
    "- Set the DataFrame index using existing columns.\n",
    "- Set the DataFrame index (row labels) using one or more existing columns or arrays (of the correct length). The index can replace the existing index or expand on it."
   ]
  },
  {
   "cell_type": "code",
   "execution_count": 348,
   "id": "45dee46f",
   "metadata": {},
   "outputs": [
    {
     "data": {
      "text/html": [
       "<div>\n",
       "<style scoped>\n",
       "    .dataframe tbody tr th:only-of-type {\n",
       "        vertical-align: middle;\n",
       "    }\n",
       "\n",
       "    .dataframe tbody tr th {\n",
       "        vertical-align: top;\n",
       "    }\n",
       "\n",
       "    .dataframe thead th {\n",
       "        text-align: right;\n",
       "    }\n",
       "</style>\n",
       "<table border=\"1\" class=\"dataframe\">\n",
       "  <thead>\n",
       "    <tr style=\"text-align: right;\">\n",
       "      <th></th>\n",
       "      <th>month</th>\n",
       "      <th>year</th>\n",
       "      <th>sale</th>\n",
       "    </tr>\n",
       "  </thead>\n",
       "  <tbody>\n",
       "    <tr>\n",
       "      <th>0</th>\n",
       "      <td>1</td>\n",
       "      <td>2012</td>\n",
       "      <td>55</td>\n",
       "    </tr>\n",
       "    <tr>\n",
       "      <th>1</th>\n",
       "      <td>4</td>\n",
       "      <td>2014</td>\n",
       "      <td>40</td>\n",
       "    </tr>\n",
       "    <tr>\n",
       "      <th>2</th>\n",
       "      <td>7</td>\n",
       "      <td>2013</td>\n",
       "      <td>84</td>\n",
       "    </tr>\n",
       "    <tr>\n",
       "      <th>3</th>\n",
       "      <td>10</td>\n",
       "      <td>2014</td>\n",
       "      <td>31</td>\n",
       "    </tr>\n",
       "  </tbody>\n",
       "</table>\n",
       "</div>"
      ],
      "text/plain": [
       "   month  year  sale\n",
       "0      1  2012    55\n",
       "1      4  2014    40\n",
       "2      7  2013    84\n",
       "3     10  2014    31"
      ]
     },
     "metadata": {},
     "output_type": "display_data"
    },
    {
     "data": {
      "text/html": [
       "<div>\n",
       "<style scoped>\n",
       "    .dataframe tbody tr th:only-of-type {\n",
       "        vertical-align: middle;\n",
       "    }\n",
       "\n",
       "    .dataframe tbody tr th {\n",
       "        vertical-align: top;\n",
       "    }\n",
       "\n",
       "    .dataframe thead th {\n",
       "        text-align: right;\n",
       "    }\n",
       "</style>\n",
       "<table border=\"1\" class=\"dataframe\">\n",
       "  <thead>\n",
       "    <tr style=\"text-align: right;\">\n",
       "      <th></th>\n",
       "      <th>year</th>\n",
       "      <th>sale</th>\n",
       "    </tr>\n",
       "    <tr>\n",
       "      <th>month</th>\n",
       "      <th></th>\n",
       "      <th></th>\n",
       "    </tr>\n",
       "  </thead>\n",
       "  <tbody>\n",
       "    <tr>\n",
       "      <th>1</th>\n",
       "      <td>2012</td>\n",
       "      <td>55</td>\n",
       "    </tr>\n",
       "    <tr>\n",
       "      <th>4</th>\n",
       "      <td>2014</td>\n",
       "      <td>40</td>\n",
       "    </tr>\n",
       "    <tr>\n",
       "      <th>7</th>\n",
       "      <td>2013</td>\n",
       "      <td>84</td>\n",
       "    </tr>\n",
       "    <tr>\n",
       "      <th>10</th>\n",
       "      <td>2014</td>\n",
       "      <td>31</td>\n",
       "    </tr>\n",
       "  </tbody>\n",
       "</table>\n",
       "</div>"
      ],
      "text/plain": [
       "       year  sale\n",
       "month            \n",
       "1      2012    55\n",
       "4      2014    40\n",
       "7      2013    84\n",
       "10     2014    31"
      ]
     },
     "metadata": {},
     "output_type": "display_data"
    }
   ],
   "source": [
    "df = pd.DataFrame({'month': [1, 4, 7, 10],\n",
    "                   'year': [2012, 2014, 2013, 2014],\n",
    "                   'sale': [55, 40, 84, 31]})\n",
    "display(df)\n",
    "display(df.set_index('month'))"
   ]
  },
  {
   "cell_type": "markdown",
   "id": "718904a2",
   "metadata": {},
   "source": [
    "# shape"
   ]
  },
  {
   "cell_type": "code",
   "execution_count": 349,
   "id": "8938442a",
   "metadata": {},
   "outputs": [
    {
     "data": {
      "text/plain": [
       "(2, 2)"
      ]
     },
     "metadata": {},
     "output_type": "display_data"
    }
   ],
   "source": [
    "df = pd.DataFrame({'col1': [1, 2], 'col2': [3, 4]})\n",
    "display(df.shape)"
   ]
  },
  {
   "cell_type": "markdown",
   "id": "5e9c2d89",
   "metadata": {},
   "source": [
    "# shift\n",
    "- Shift index by desired number of periods with an optional time freq.\n",
    "- When freq is not passed, shift the index without realigning the data. If freq is passed (in this case, the index must be date or datetime, or it will raise a NotImplementedError), the index will be increased using the periods and the freq. freq can be inferred when specified as “infer” as long as either freq or inferred_freq attribute is set in the index."
   ]
  },
  {
   "cell_type": "code",
   "execution_count": null,
   "id": "0e39ac46",
   "metadata": {},
   "outputs": [
    {
     "data": {
      "text/html": [
       "<div>\n",
       "<style scoped>\n",
       "    .dataframe tbody tr th:only-of-type {\n",
       "        vertical-align: middle;\n",
       "    }\n",
       "\n",
       "    .dataframe tbody tr th {\n",
       "        vertical-align: top;\n",
       "    }\n",
       "\n",
       "    .dataframe thead th {\n",
       "        text-align: right;\n",
       "    }\n",
       "</style>\n",
       "<table border=\"1\" class=\"dataframe\">\n",
       "  <thead>\n",
       "    <tr style=\"text-align: right;\">\n",
       "      <th></th>\n",
       "      <th>Col1</th>\n",
       "      <th>Col2</th>\n",
       "      <th>Col3</th>\n",
       "    </tr>\n",
       "  </thead>\n",
       "  <tbody>\n",
       "    <tr>\n",
       "      <th>2020-01-01</th>\n",
       "      <td>10</td>\n",
       "      <td>13</td>\n",
       "      <td>17</td>\n",
       "    </tr>\n",
       "    <tr>\n",
       "      <th>2020-01-02</th>\n",
       "      <td>20</td>\n",
       "      <td>23</td>\n",
       "      <td>27</td>\n",
       "    </tr>\n",
       "    <tr>\n",
       "      <th>2020-01-03</th>\n",
       "      <td>15</td>\n",
       "      <td>18</td>\n",
       "      <td>22</td>\n",
       "    </tr>\n",
       "    <tr>\n",
       "      <th>2020-01-04</th>\n",
       "      <td>30</td>\n",
       "      <td>33</td>\n",
       "      <td>37</td>\n",
       "    </tr>\n",
       "    <tr>\n",
       "      <th>2020-01-05</th>\n",
       "      <td>45</td>\n",
       "      <td>48</td>\n",
       "      <td>52</td>\n",
       "    </tr>\n",
       "  </tbody>\n",
       "</table>\n",
       "</div>"
      ],
      "text/plain": [
       "            Col1  Col2  Col3\n",
       "2020-01-01    10    13    17\n",
       "2020-01-02    20    23    27\n",
       "2020-01-03    15    18    22\n",
       "2020-01-04    30    33    37\n",
       "2020-01-05    45    48    52"
      ]
     },
     "metadata": {},
     "output_type": "display_data"
    },
    {
     "data": {
      "text/html": [
       "<div>\n",
       "<style scoped>\n",
       "    .dataframe tbody tr th:only-of-type {\n",
       "        vertical-align: middle;\n",
       "    }\n",
       "\n",
       "    .dataframe tbody tr th {\n",
       "        vertical-align: top;\n",
       "    }\n",
       "\n",
       "    .dataframe thead th {\n",
       "        text-align: right;\n",
       "    }\n",
       "</style>\n",
       "<table border=\"1\" class=\"dataframe\">\n",
       "  <thead>\n",
       "    <tr style=\"text-align: right;\">\n",
       "      <th></th>\n",
       "      <th>Col1</th>\n",
       "      <th>Col2</th>\n",
       "      <th>Col3</th>\n",
       "    </tr>\n",
       "  </thead>\n",
       "  <tbody>\n",
       "    <tr>\n",
       "      <th>2020-01-01</th>\n",
       "      <td>NaN</td>\n",
       "      <td>NaN</td>\n",
       "      <td>NaN</td>\n",
       "    </tr>\n",
       "    <tr>\n",
       "      <th>2020-01-02</th>\n",
       "      <td>NaN</td>\n",
       "      <td>NaN</td>\n",
       "      <td>NaN</td>\n",
       "    </tr>\n",
       "    <tr>\n",
       "      <th>2020-01-03</th>\n",
       "      <td>NaN</td>\n",
       "      <td>NaN</td>\n",
       "      <td>NaN</td>\n",
       "    </tr>\n",
       "    <tr>\n",
       "      <th>2020-01-04</th>\n",
       "      <td>10.0E+00</td>\n",
       "      <td>13.0E+00</td>\n",
       "      <td>17.0E+00</td>\n",
       "    </tr>\n",
       "    <tr>\n",
       "      <th>2020-01-05</th>\n",
       "      <td>20.0E+00</td>\n",
       "      <td>23.0E+00</td>\n",
       "      <td>27.0E+00</td>\n",
       "    </tr>\n",
       "  </tbody>\n",
       "</table>\n",
       "</div>"
      ],
      "text/plain": [
       "                Col1      Col2      Col3\n",
       "2020-01-01       NaN       NaN       NaN\n",
       "2020-01-02       NaN       NaN       NaN\n",
       "2020-01-03       NaN       NaN       NaN\n",
       "2020-01-04  10.0E+00  13.0E+00  17.0E+00\n",
       "2020-01-05  20.0E+00  23.0E+00  27.0E+00"
      ]
     },
     "metadata": {},
     "output_type": "display_data"
    }
   ],
   "source": [
    "df = pd.DataFrame({\"Col1\": [10, 20, 15, 30, 45],\n",
    "                   \"Col2\": [13, 23, 18, 33, 48],\n",
    "                   \"Col3\": [17, 27, 22, 37, 52]},\n",
    "                  index=pd.date_range(\"2020-01-01\", \"2020-01-05\"))\n",
    "display(df)\n",
    "display(df.shift(periods=3).bfill())"
   ]
  },
  {
   "cell_type": "markdown",
   "id": "a62a1242",
   "metadata": {},
   "source": [
    "# size\n",
    "- Return an int representing the number of elements in this object.\n",
    "- Return the number of rows if Series. Otherwise return the number of rows times number of columns if DataFrame."
   ]
  },
  {
   "cell_type": "code",
   "execution_count": 351,
   "id": "5ce1bb2c",
   "metadata": {},
   "outputs": [
    {
     "name": "stdout",
     "output_type": "stream",
     "text": [
      "3\n"
     ]
    }
   ],
   "source": [
    "s = pd.Series({'a': 1, 'b': 2, 'c': 3})\n",
    "print(s.size)"
   ]
  },
  {
   "cell_type": "markdown",
   "id": "c94dc0ed",
   "metadata": {},
   "source": [
    "# skew\n",
    "- Return unbiased skew over requested axis.\n",
    "- Normalized by N-1.\n",
    "#### 3 * (Mean - Median) / Standard Deviation (pearson)"
   ]
  },
  {
   "cell_type": "code",
   "execution_count": 353,
   "id": "4913eaba",
   "metadata": {},
   "outputs": [
    {
     "data": {
      "text/plain": [
       "np.float64(0.0)"
      ]
     },
     "metadata": {},
     "output_type": "display_data"
    },
    {
     "data": {
      "text/html": [
       "<div>\n",
       "<style scoped>\n",
       "    .dataframe tbody tr th:only-of-type {\n",
       "        vertical-align: middle;\n",
       "    }\n",
       "\n",
       "    .dataframe tbody tr th {\n",
       "        vertical-align: top;\n",
       "    }\n",
       "\n",
       "    .dataframe thead th {\n",
       "        text-align: right;\n",
       "    }\n",
       "</style>\n",
       "<table border=\"1\" class=\"dataframe\">\n",
       "  <thead>\n",
       "    <tr style=\"text-align: right;\">\n",
       "      <th></th>\n",
       "      <th>a</th>\n",
       "      <th>b</th>\n",
       "      <th>c</th>\n",
       "    </tr>\n",
       "  </thead>\n",
       "  <tbody>\n",
       "    <tr>\n",
       "      <th>tiger</th>\n",
       "      <td>1</td>\n",
       "      <td>2</td>\n",
       "      <td>1</td>\n",
       "    </tr>\n",
       "    <tr>\n",
       "      <th>zebra</th>\n",
       "      <td>2</td>\n",
       "      <td>3</td>\n",
       "      <td>3</td>\n",
       "    </tr>\n",
       "    <tr>\n",
       "      <th>cow</th>\n",
       "      <td>3</td>\n",
       "      <td>4</td>\n",
       "      <td>5</td>\n",
       "    </tr>\n",
       "  </tbody>\n",
       "</table>\n",
       "</div>"
      ],
      "text/plain": [
       "       a  b  c\n",
       "tiger  1  2  1\n",
       "zebra  2  3  3\n",
       "cow    3  4  5"
      ]
     },
     "metadata": {},
     "output_type": "display_data"
    },
    {
     "data": {
      "text/plain": [
       "tiger    1.7E+00\n",
       "zebra   -1.7E+00\n",
       "cow      0.0E+00\n",
       "dtype: float64"
      ]
     },
     "metadata": {},
     "output_type": "display_data"
    }
   ],
   "source": [
    "s = pd.Series([1, 2, 3])\n",
    "display(s.skew())\n",
    "df = pd.DataFrame({'a': [1, 2, 3], 'b': [2, 3, 4], 'c': [1, 3, 5]},\n",
    "                  index=['tiger', 'zebra', 'cow'])\n",
    "display(df)\n",
    "display(df.skew(axis=1))"
   ]
  },
  {
   "cell_type": "markdown",
   "id": "9cc5e86f",
   "metadata": {},
   "source": [
    "# sort_index\n",
    "- Sort object by labels (along an axis).\n",
    "- Returns a new DataFrame sorted by label if inplace argument is False, otherwise updates the original DataFrame and returns None."
   ]
  },
  {
   "cell_type": "code",
   "execution_count": 355,
   "id": "bfd6587e",
   "metadata": {},
   "outputs": [
    {
     "data": {
      "text/html": [
       "<div>\n",
       "<style scoped>\n",
       "    .dataframe tbody tr th:only-of-type {\n",
       "        vertical-align: middle;\n",
       "    }\n",
       "\n",
       "    .dataframe tbody tr th {\n",
       "        vertical-align: top;\n",
       "    }\n",
       "\n",
       "    .dataframe thead th {\n",
       "        text-align: right;\n",
       "    }\n",
       "</style>\n",
       "<table border=\"1\" class=\"dataframe\">\n",
       "  <thead>\n",
       "    <tr style=\"text-align: right;\">\n",
       "      <th></th>\n",
       "      <th>A</th>\n",
       "    </tr>\n",
       "  </thead>\n",
       "  <tbody>\n",
       "    <tr>\n",
       "      <th>100</th>\n",
       "      <td>1</td>\n",
       "    </tr>\n",
       "    <tr>\n",
       "      <th>29</th>\n",
       "      <td>2</td>\n",
       "    </tr>\n",
       "    <tr>\n",
       "      <th>234</th>\n",
       "      <td>3</td>\n",
       "    </tr>\n",
       "    <tr>\n",
       "      <th>1</th>\n",
       "      <td>4</td>\n",
       "    </tr>\n",
       "    <tr>\n",
       "      <th>150</th>\n",
       "      <td>5</td>\n",
       "    </tr>\n",
       "  </tbody>\n",
       "</table>\n",
       "</div>"
      ],
      "text/plain": [
       "     A\n",
       "100  1\n",
       "29   2\n",
       "234  3\n",
       "1    4\n",
       "150  5"
      ]
     },
     "metadata": {},
     "output_type": "display_data"
    },
    {
     "data": {
      "text/html": [
       "<div>\n",
       "<style scoped>\n",
       "    .dataframe tbody tr th:only-of-type {\n",
       "        vertical-align: middle;\n",
       "    }\n",
       "\n",
       "    .dataframe tbody tr th {\n",
       "        vertical-align: top;\n",
       "    }\n",
       "\n",
       "    .dataframe thead th {\n",
       "        text-align: right;\n",
       "    }\n",
       "</style>\n",
       "<table border=\"1\" class=\"dataframe\">\n",
       "  <thead>\n",
       "    <tr style=\"text-align: right;\">\n",
       "      <th></th>\n",
       "      <th>A</th>\n",
       "    </tr>\n",
       "  </thead>\n",
       "  <tbody>\n",
       "    <tr>\n",
       "      <th>1</th>\n",
       "      <td>4</td>\n",
       "    </tr>\n",
       "    <tr>\n",
       "      <th>29</th>\n",
       "      <td>2</td>\n",
       "    </tr>\n",
       "    <tr>\n",
       "      <th>100</th>\n",
       "      <td>1</td>\n",
       "    </tr>\n",
       "    <tr>\n",
       "      <th>150</th>\n",
       "      <td>5</td>\n",
       "    </tr>\n",
       "    <tr>\n",
       "      <th>234</th>\n",
       "      <td>3</td>\n",
       "    </tr>\n",
       "  </tbody>\n",
       "</table>\n",
       "</div>"
      ],
      "text/plain": [
       "     A\n",
       "1    4\n",
       "29   2\n",
       "100  1\n",
       "150  5\n",
       "234  3"
      ]
     },
     "metadata": {},
     "output_type": "display_data"
    }
   ],
   "source": [
    "df = pd.DataFrame([1, 2, 3, 4, 5], index=[100, 29, 234, 1, 150],\n",
    "                  columns=['A'])\n",
    "display(df)\n",
    "display(df.sort_index())"
   ]
  },
  {
   "cell_type": "markdown",
   "id": "6fec74b8",
   "metadata": {},
   "source": [
    "# sort_values\n",
    "- Sort by the values along either axis."
   ]
  },
  {
   "cell_type": "code",
   "execution_count": 356,
   "id": "ab627b66",
   "metadata": {},
   "outputs": [
    {
     "data": {
      "text/html": [
       "<div>\n",
       "<style scoped>\n",
       "    .dataframe tbody tr th:only-of-type {\n",
       "        vertical-align: middle;\n",
       "    }\n",
       "\n",
       "    .dataframe tbody tr th {\n",
       "        vertical-align: top;\n",
       "    }\n",
       "\n",
       "    .dataframe thead th {\n",
       "        text-align: right;\n",
       "    }\n",
       "</style>\n",
       "<table border=\"1\" class=\"dataframe\">\n",
       "  <thead>\n",
       "    <tr style=\"text-align: right;\">\n",
       "      <th></th>\n",
       "      <th>col1</th>\n",
       "      <th>col2</th>\n",
       "      <th>col3</th>\n",
       "      <th>col4</th>\n",
       "    </tr>\n",
       "  </thead>\n",
       "  <tbody>\n",
       "    <tr>\n",
       "      <th>0</th>\n",
       "      <td>A</td>\n",
       "      <td>2</td>\n",
       "      <td>0</td>\n",
       "      <td>a</td>\n",
       "    </tr>\n",
       "    <tr>\n",
       "      <th>1</th>\n",
       "      <td>A</td>\n",
       "      <td>1</td>\n",
       "      <td>1</td>\n",
       "      <td>B</td>\n",
       "    </tr>\n",
       "    <tr>\n",
       "      <th>2</th>\n",
       "      <td>B</td>\n",
       "      <td>9</td>\n",
       "      <td>9</td>\n",
       "      <td>c</td>\n",
       "    </tr>\n",
       "    <tr>\n",
       "      <th>3</th>\n",
       "      <td>NaN</td>\n",
       "      <td>8</td>\n",
       "      <td>4</td>\n",
       "      <td>D</td>\n",
       "    </tr>\n",
       "    <tr>\n",
       "      <th>4</th>\n",
       "      <td>D</td>\n",
       "      <td>7</td>\n",
       "      <td>2</td>\n",
       "      <td>e</td>\n",
       "    </tr>\n",
       "    <tr>\n",
       "      <th>5</th>\n",
       "      <td>C</td>\n",
       "      <td>4</td>\n",
       "      <td>3</td>\n",
       "      <td>F</td>\n",
       "    </tr>\n",
       "  </tbody>\n",
       "</table>\n",
       "</div>"
      ],
      "text/plain": [
       "  col1  col2  col3 col4\n",
       "0    A     2     0    a\n",
       "1    A     1     1    B\n",
       "2    B     9     9    c\n",
       "3  NaN     8     4    D\n",
       "4    D     7     2    e\n",
       "5    C     4     3    F"
      ]
     },
     "metadata": {},
     "output_type": "display_data"
    },
    {
     "data": {
      "text/html": [
       "<div>\n",
       "<style scoped>\n",
       "    .dataframe tbody tr th:only-of-type {\n",
       "        vertical-align: middle;\n",
       "    }\n",
       "\n",
       "    .dataframe tbody tr th {\n",
       "        vertical-align: top;\n",
       "    }\n",
       "\n",
       "    .dataframe thead th {\n",
       "        text-align: right;\n",
       "    }\n",
       "</style>\n",
       "<table border=\"1\" class=\"dataframe\">\n",
       "  <thead>\n",
       "    <tr style=\"text-align: right;\">\n",
       "      <th></th>\n",
       "      <th>col1</th>\n",
       "      <th>col2</th>\n",
       "      <th>col3</th>\n",
       "      <th>col4</th>\n",
       "    </tr>\n",
       "  </thead>\n",
       "  <tbody>\n",
       "    <tr>\n",
       "      <th>0</th>\n",
       "      <td>A</td>\n",
       "      <td>2</td>\n",
       "      <td>0</td>\n",
       "      <td>a</td>\n",
       "    </tr>\n",
       "    <tr>\n",
       "      <th>1</th>\n",
       "      <td>A</td>\n",
       "      <td>1</td>\n",
       "      <td>1</td>\n",
       "      <td>B</td>\n",
       "    </tr>\n",
       "    <tr>\n",
       "      <th>2</th>\n",
       "      <td>B</td>\n",
       "      <td>9</td>\n",
       "      <td>9</td>\n",
       "      <td>c</td>\n",
       "    </tr>\n",
       "    <tr>\n",
       "      <th>5</th>\n",
       "      <td>C</td>\n",
       "      <td>4</td>\n",
       "      <td>3</td>\n",
       "      <td>F</td>\n",
       "    </tr>\n",
       "    <tr>\n",
       "      <th>4</th>\n",
       "      <td>D</td>\n",
       "      <td>7</td>\n",
       "      <td>2</td>\n",
       "      <td>e</td>\n",
       "    </tr>\n",
       "    <tr>\n",
       "      <th>3</th>\n",
       "      <td>NaN</td>\n",
       "      <td>8</td>\n",
       "      <td>4</td>\n",
       "      <td>D</td>\n",
       "    </tr>\n",
       "  </tbody>\n",
       "</table>\n",
       "</div>"
      ],
      "text/plain": [
       "  col1  col2  col3 col4\n",
       "0    A     2     0    a\n",
       "1    A     1     1    B\n",
       "2    B     9     9    c\n",
       "5    C     4     3    F\n",
       "4    D     7     2    e\n",
       "3  NaN     8     4    D"
      ]
     },
     "metadata": {},
     "output_type": "display_data"
    }
   ],
   "source": [
    "df = pd.DataFrame({\n",
    "    'col1': ['A', 'A', 'B', np.nan, 'D', 'C'],\n",
    "    'col2': [2, 1, 9, 8, 7, 4],\n",
    "    'col3': [0, 1, 9, 4, 2, 3],\n",
    "    'col4': ['a', 'B', 'c', 'D', 'e', 'F']\n",
    "})\n",
    "display(df)\n",
    "display(df.sort_values(by=['col1']))"
   ]
  },
  {
   "cell_type": "markdown",
   "id": "00135a54",
   "metadata": {},
   "source": [
    "# sparse\n",
    "- DataFrame accessor for sparse data."
   ]
  },
  {
   "cell_type": "code",
   "execution_count": 357,
   "id": "317f944f",
   "metadata": {},
   "outputs": [
    {
     "data": {
      "text/html": [
       "<div>\n",
       "<style scoped>\n",
       "    .dataframe tbody tr th:only-of-type {\n",
       "        vertical-align: middle;\n",
       "    }\n",
       "\n",
       "    .dataframe tbody tr th {\n",
       "        vertical-align: top;\n",
       "    }\n",
       "\n",
       "    .dataframe thead th {\n",
       "        text-align: right;\n",
       "    }\n",
       "</style>\n",
       "<table border=\"1\" class=\"dataframe\">\n",
       "  <thead>\n",
       "    <tr style=\"text-align: right;\">\n",
       "      <th></th>\n",
       "      <th>a</th>\n",
       "      <th>b</th>\n",
       "    </tr>\n",
       "  </thead>\n",
       "  <tbody>\n",
       "    <tr>\n",
       "      <th>0</th>\n",
       "      <td>1</td>\n",
       "      <td>3</td>\n",
       "    </tr>\n",
       "    <tr>\n",
       "      <th>1</th>\n",
       "      <td>2</td>\n",
       "      <td>0</td>\n",
       "    </tr>\n",
       "    <tr>\n",
       "      <th>2</th>\n",
       "      <td>0</td>\n",
       "      <td>0</td>\n",
       "    </tr>\n",
       "    <tr>\n",
       "      <th>3</th>\n",
       "      <td>0</td>\n",
       "      <td>4</td>\n",
       "    </tr>\n",
       "  </tbody>\n",
       "</table>\n",
       "</div>"
      ],
      "text/plain": [
       "   a  b\n",
       "0  1  3\n",
       "1  2  0\n",
       "2  0  0\n",
       "3  0  4"
      ]
     },
     "metadata": {},
     "output_type": "display_data"
    },
    {
     "data": {
      "text/plain": [
       "np.float64(0.5)"
      ]
     },
     "metadata": {},
     "output_type": "display_data"
    }
   ],
   "source": [
    "df = pd.DataFrame({\"a\": [1, 2, 0, 0],\n",
    "                  \"b\": [3, 0, 0, 4]}, dtype=\"Sparse[int]\")\n",
    "display(df)\n",
    "display(df.sparse.density)"
   ]
  },
  {
   "cell_type": "markdown",
   "id": "2eb399a4",
   "metadata": {},
   "source": [
    "# squeeze\n",
    "- Squeeze 1 dimensional axis objects into scalars.\n",
    "- Series or DataFrames with a single element are squeezed to a scalar. DataFrames with a single column or a single row are squeezed to a Series. Otherwise the object is unchanged.\n",
    "- This method is most useful when you don’t know if your object is a Series or DataFrame, but you do know it has just a single column. In that case you can safely call squeeze to ensure you have a Series."
   ]
  },
  {
   "cell_type": "code",
   "execution_count": null,
   "id": "f50db310",
   "metadata": {},
   "outputs": [
    {
     "name": "stdout",
     "output_type": "stream",
     "text": [
      "0    2\n",
      "dtype: int64\n",
      "2\n"
     ]
    },
    {
     "data": {
      "text/html": [
       "<div>\n",
       "<style scoped>\n",
       "    .dataframe tbody tr th:only-of-type {\n",
       "        vertical-align: middle;\n",
       "    }\n",
       "\n",
       "    .dataframe tbody tr th {\n",
       "        vertical-align: top;\n",
       "    }\n",
       "\n",
       "    .dataframe thead th {\n",
       "        text-align: right;\n",
       "    }\n",
       "</style>\n",
       "<table border=\"1\" class=\"dataframe\">\n",
       "  <thead>\n",
       "    <tr style=\"text-align: right;\">\n",
       "      <th></th>\n",
       "      <th>a</th>\n",
       "    </tr>\n",
       "  </thead>\n",
       "  <tbody>\n",
       "    <tr>\n",
       "      <th>0</th>\n",
       "      <td>1</td>\n",
       "    </tr>\n",
       "    <tr>\n",
       "      <th>1</th>\n",
       "      <td>2</td>\n",
       "    </tr>\n",
       "  </tbody>\n",
       "</table>\n",
       "</div>"
      ],
      "text/plain": [
       "   a\n",
       "0  1\n",
       "1  2"
      ]
     },
     "metadata": {},
     "output_type": "display_data"
    },
    {
     "data": {
      "text/plain": [
       "pandas.core.series.Series"
      ]
     },
     "metadata": {},
     "output_type": "display_data"
    }
   ],
   "source": [
    "primes = pd.Series([2])\n",
    "print(primes)\n",
    "print(primes.squeeze())\n",
    "df = pd.DataFrame([[1], [2]], columns=['a'])\n",
    "display(df)\n",
    "display(type(df.squeeze('columns'))) # squeezing a 1 column DataFrame, the df becomes a Series"
   ]
  },
  {
   "cell_type": "markdown",
   "id": "835fe0f0",
   "metadata": {},
   "source": [
    "# stack\n",
    "- Stack the prescribed level(s) from columns to index.\n",
    "- Return a reshaped DataFrame or Series having a multi-level index with one or more new inner-most levels compared to the current DataFrame. The new inner-most levels are created by pivoting the columns of the current dataframe:\n",
    "    - if the columns have a single level, the output is a Series;\n",
    "\n",
    "    - if the columns have multiple levels, the new index level(s) is (are) taken from the prescribed level(s) and the output is a DataFrame."
   ]
  },
  {
   "cell_type": "code",
   "execution_count": 366,
   "id": "3e77eb23",
   "metadata": {},
   "outputs": [
    {
     "data": {
      "text/html": [
       "<div>\n",
       "<style scoped>\n",
       "    .dataframe tbody tr th:only-of-type {\n",
       "        vertical-align: middle;\n",
       "    }\n",
       "\n",
       "    .dataframe tbody tr th {\n",
       "        vertical-align: top;\n",
       "    }\n",
       "\n",
       "    .dataframe thead th {\n",
       "        text-align: right;\n",
       "    }\n",
       "</style>\n",
       "<table border=\"1\" class=\"dataframe\">\n",
       "  <thead>\n",
       "    <tr style=\"text-align: right;\">\n",
       "      <th></th>\n",
       "      <th>weight</th>\n",
       "      <th>height</th>\n",
       "    </tr>\n",
       "  </thead>\n",
       "  <tbody>\n",
       "    <tr>\n",
       "      <th>cat</th>\n",
       "      <td>0</td>\n",
       "      <td>1</td>\n",
       "    </tr>\n",
       "    <tr>\n",
       "      <th>dog</th>\n",
       "      <td>2</td>\n",
       "      <td>3</td>\n",
       "    </tr>\n",
       "  </tbody>\n",
       "</table>\n",
       "</div>"
      ],
      "text/plain": [
       "     weight  height\n",
       "cat       0       1\n",
       "dog       2       3"
      ]
     },
     "metadata": {},
     "output_type": "display_data"
    },
    {
     "data": {
      "text/plain": [
       "cat  weight    0\n",
       "     height    1\n",
       "dog  weight    2\n",
       "     height    3\n",
       "dtype: int64"
      ]
     },
     "metadata": {},
     "output_type": "display_data"
    }
   ],
   "source": [
    "df_single_level_cols = pd.DataFrame([[0, 1], [2, 3]],\n",
    "                                    index=['cat', 'dog'],\n",
    "                                    columns=['weight', 'height'])\n",
    "display(df_single_level_cols)\n",
    "display(df_single_level_cols.stack(future_stack=True))"
   ]
  },
  {
   "cell_type": "markdown",
   "id": "f2c05499",
   "metadata": {},
   "source": [
    "# std\n",
    "- Return sample standard deviation over requested axis.\n",
    "- Normalized by N-1 by default. This can be changed using the ddof argument."
   ]
  },
  {
   "cell_type": "code",
   "execution_count": 367,
   "id": "f2a42ee8",
   "metadata": {},
   "outputs": [
    {
     "data": {
      "text/html": [
       "<div>\n",
       "<style scoped>\n",
       "    .dataframe tbody tr th:only-of-type {\n",
       "        vertical-align: middle;\n",
       "    }\n",
       "\n",
       "    .dataframe tbody tr th {\n",
       "        vertical-align: top;\n",
       "    }\n",
       "\n",
       "    .dataframe thead th {\n",
       "        text-align: right;\n",
       "    }\n",
       "</style>\n",
       "<table border=\"1\" class=\"dataframe\">\n",
       "  <thead>\n",
       "    <tr style=\"text-align: right;\">\n",
       "      <th></th>\n",
       "      <th>age</th>\n",
       "      <th>height</th>\n",
       "    </tr>\n",
       "    <tr>\n",
       "      <th>person_id</th>\n",
       "      <th></th>\n",
       "      <th></th>\n",
       "    </tr>\n",
       "  </thead>\n",
       "  <tbody>\n",
       "    <tr>\n",
       "      <th>0</th>\n",
       "      <td>21</td>\n",
       "      <td>1.6E+00</td>\n",
       "    </tr>\n",
       "    <tr>\n",
       "      <th>1</th>\n",
       "      <td>25</td>\n",
       "      <td>1.9E+00</td>\n",
       "    </tr>\n",
       "    <tr>\n",
       "      <th>2</th>\n",
       "      <td>62</td>\n",
       "      <td>1.5E+00</td>\n",
       "    </tr>\n",
       "    <tr>\n",
       "      <th>3</th>\n",
       "      <td>43</td>\n",
       "      <td>2.0E+00</td>\n",
       "    </tr>\n",
       "  </tbody>\n",
       "</table>\n",
       "</div>"
      ],
      "text/plain": [
       "           age   height\n",
       "person_id              \n",
       "0           21  1.6E+00\n",
       "1           25  1.9E+00\n",
       "2           62  1.5E+00\n",
       "3           43  2.0E+00"
      ]
     },
     "metadata": {},
     "output_type": "display_data"
    },
    {
     "data": {
      "text/plain": [
       "age        18.8E+00\n",
       "height    237.4E-03\n",
       "dtype: float64"
      ]
     },
     "metadata": {},
     "output_type": "display_data"
    }
   ],
   "source": [
    "df = pd.DataFrame({'person_id': [0, 1, 2, 3],\n",
    "                   'age': [21, 25, 62, 43],\n",
    "                   'height': [1.61, 1.87, 1.49, 2.01]}\n",
    "                  ).set_index('person_id')\n",
    "display(df)\n",
    "display(df.std())"
   ]
  },
  {
   "cell_type": "markdown",
   "id": "2ce53d77",
   "metadata": {},
   "source": [
    "# style\n",
    "- Returns a Styler object.\n",
    "- Contains methods for building a styled HTML representation of the DataFrame."
   ]
  },
  {
   "cell_type": "code",
   "execution_count": 368,
   "id": "46cf995a",
   "metadata": {},
   "outputs": [
    {
     "data": {
      "text/html": [
       "<style type=\"text/css\">\n",
       "</style>\n",
       "<table id=\"T_54042\">\n",
       "  <thead>\n",
       "    <tr>\n",
       "      <th class=\"blank level0\" >&nbsp;</th>\n",
       "      <th id=\"T_54042_level0_col0\" class=\"col_heading level0 col0\" >A</th>\n",
       "    </tr>\n",
       "  </thead>\n",
       "  <tbody>\n",
       "    <tr>\n",
       "      <th id=\"T_54042_level0_row0\" class=\"row_heading level0 row0\" >0</th>\n",
       "      <td id=\"T_54042_row0_col0\" class=\"data row0 col0\" >1</td>\n",
       "    </tr>\n",
       "    <tr>\n",
       "      <th id=\"T_54042_level0_row1\" class=\"row_heading level0 row1\" >1</th>\n",
       "      <td id=\"T_54042_row1_col0\" class=\"data row1 col0\" >2</td>\n",
       "    </tr>\n",
       "    <tr>\n",
       "      <th id=\"T_54042_level0_row2\" class=\"row_heading level0 row2\" >2</th>\n",
       "      <td id=\"T_54042_row2_col0\" class=\"data row2 col0\" >3</td>\n",
       "    </tr>\n",
       "  </tbody>\n",
       "</table>\n"
      ],
      "text/plain": [
       "<pandas.io.formats.style.Styler at 0x20abc6ae7b0>"
      ]
     },
     "metadata": {},
     "output_type": "display_data"
    }
   ],
   "source": [
    "df = pd.DataFrame({'A': [1, 2, 3]})\n",
    "display(df.style)"
   ]
  },
  {
   "cell_type": "markdown",
   "id": "2feeeda1",
   "metadata": {},
   "source": [
    "# sub\n",
    "- Get Subtraction of dataframe and other, element-wise (binary operator sub).\n",
    "- Equivalent to dataframe - other, but with support to substitute a fill_value for missing data in one of the inputs. With reverse version, rsub.\n",
    "- Among flexible wrappers (add, sub, mul, div, floordiv, mod, pow) to arithmetic operators: +, -, *, /, //, %, **."
   ]
  },
  {
   "cell_type": "code",
   "execution_count": 369,
   "id": "3a92502b",
   "metadata": {},
   "outputs": [
    {
     "data": {
      "text/html": [
       "<div>\n",
       "<style scoped>\n",
       "    .dataframe tbody tr th:only-of-type {\n",
       "        vertical-align: middle;\n",
       "    }\n",
       "\n",
       "    .dataframe tbody tr th {\n",
       "        vertical-align: top;\n",
       "    }\n",
       "\n",
       "    .dataframe thead th {\n",
       "        text-align: right;\n",
       "    }\n",
       "</style>\n",
       "<table border=\"1\" class=\"dataframe\">\n",
       "  <thead>\n",
       "    <tr style=\"text-align: right;\">\n",
       "      <th></th>\n",
       "      <th>angles</th>\n",
       "      <th>degrees</th>\n",
       "    </tr>\n",
       "  </thead>\n",
       "  <tbody>\n",
       "    <tr>\n",
       "      <th>circle</th>\n",
       "      <td>0</td>\n",
       "      <td>360</td>\n",
       "    </tr>\n",
       "    <tr>\n",
       "      <th>triangle</th>\n",
       "      <td>3</td>\n",
       "      <td>180</td>\n",
       "    </tr>\n",
       "    <tr>\n",
       "      <th>rectangle</th>\n",
       "      <td>4</td>\n",
       "      <td>360</td>\n",
       "    </tr>\n",
       "  </tbody>\n",
       "</table>\n",
       "</div>"
      ],
      "text/plain": [
       "           angles  degrees\n",
       "circle          0      360\n",
       "triangle        3      180\n",
       "rectangle       4      360"
      ]
     },
     "metadata": {},
     "output_type": "display_data"
    },
    {
     "data": {
      "text/html": [
       "<div>\n",
       "<style scoped>\n",
       "    .dataframe tbody tr th:only-of-type {\n",
       "        vertical-align: middle;\n",
       "    }\n",
       "\n",
       "    .dataframe tbody tr th {\n",
       "        vertical-align: top;\n",
       "    }\n",
       "\n",
       "    .dataframe thead th {\n",
       "        text-align: right;\n",
       "    }\n",
       "</style>\n",
       "<table border=\"1\" class=\"dataframe\">\n",
       "  <thead>\n",
       "    <tr style=\"text-align: right;\">\n",
       "      <th></th>\n",
       "      <th>angles</th>\n",
       "      <th>degrees</th>\n",
       "    </tr>\n",
       "  </thead>\n",
       "  <tbody>\n",
       "    <tr>\n",
       "      <th>circle</th>\n",
       "      <td>-10</td>\n",
       "      <td>350</td>\n",
       "    </tr>\n",
       "    <tr>\n",
       "      <th>triangle</th>\n",
       "      <td>-7</td>\n",
       "      <td>170</td>\n",
       "    </tr>\n",
       "    <tr>\n",
       "      <th>rectangle</th>\n",
       "      <td>-6</td>\n",
       "      <td>350</td>\n",
       "    </tr>\n",
       "  </tbody>\n",
       "</table>\n",
       "</div>"
      ],
      "text/plain": [
       "           angles  degrees\n",
       "circle        -10      350\n",
       "triangle       -7      170\n",
       "rectangle      -6      350"
      ]
     },
     "metadata": {},
     "output_type": "display_data"
    }
   ],
   "source": [
    "df = pd.DataFrame({'angles': [0, 3, 4],\n",
    "                   'degrees': [360, 180, 360]},\n",
    "                  index=['circle', 'triangle', 'rectangle'])\n",
    "display(df)\n",
    "display(df.sub(10))"
   ]
  },
  {
   "cell_type": "markdown",
   "id": "c23ed0c8",
   "metadata": {},
   "source": [
    "# subtract == sub"
   ]
  },
  {
   "cell_type": "code",
   "execution_count": 370,
   "id": "b8d60f19",
   "metadata": {},
   "outputs": [
    {
     "data": {
      "text/html": [
       "<div>\n",
       "<style scoped>\n",
       "    .dataframe tbody tr th:only-of-type {\n",
       "        vertical-align: middle;\n",
       "    }\n",
       "\n",
       "    .dataframe tbody tr th {\n",
       "        vertical-align: top;\n",
       "    }\n",
       "\n",
       "    .dataframe thead th {\n",
       "        text-align: right;\n",
       "    }\n",
       "</style>\n",
       "<table border=\"1\" class=\"dataframe\">\n",
       "  <thead>\n",
       "    <tr style=\"text-align: right;\">\n",
       "      <th></th>\n",
       "      <th>angles</th>\n",
       "      <th>degrees</th>\n",
       "    </tr>\n",
       "  </thead>\n",
       "  <tbody>\n",
       "    <tr>\n",
       "      <th>circle</th>\n",
       "      <td>0</td>\n",
       "      <td>360</td>\n",
       "    </tr>\n",
       "    <tr>\n",
       "      <th>triangle</th>\n",
       "      <td>3</td>\n",
       "      <td>180</td>\n",
       "    </tr>\n",
       "    <tr>\n",
       "      <th>rectangle</th>\n",
       "      <td>4</td>\n",
       "      <td>360</td>\n",
       "    </tr>\n",
       "  </tbody>\n",
       "</table>\n",
       "</div>"
      ],
      "text/plain": [
       "           angles  degrees\n",
       "circle          0      360\n",
       "triangle        3      180\n",
       "rectangle       4      360"
      ]
     },
     "metadata": {},
     "output_type": "display_data"
    },
    {
     "data": {
      "text/html": [
       "<div>\n",
       "<style scoped>\n",
       "    .dataframe tbody tr th:only-of-type {\n",
       "        vertical-align: middle;\n",
       "    }\n",
       "\n",
       "    .dataframe tbody tr th {\n",
       "        vertical-align: top;\n",
       "    }\n",
       "\n",
       "    .dataframe thead th {\n",
       "        text-align: right;\n",
       "    }\n",
       "</style>\n",
       "<table border=\"1\" class=\"dataframe\">\n",
       "  <thead>\n",
       "    <tr style=\"text-align: right;\">\n",
       "      <th></th>\n",
       "      <th>angles</th>\n",
       "      <th>degrees</th>\n",
       "    </tr>\n",
       "  </thead>\n",
       "  <tbody>\n",
       "    <tr>\n",
       "      <th>circle</th>\n",
       "      <td>-10</td>\n",
       "      <td>350</td>\n",
       "    </tr>\n",
       "    <tr>\n",
       "      <th>triangle</th>\n",
       "      <td>-7</td>\n",
       "      <td>170</td>\n",
       "    </tr>\n",
       "    <tr>\n",
       "      <th>rectangle</th>\n",
       "      <td>-6</td>\n",
       "      <td>350</td>\n",
       "    </tr>\n",
       "  </tbody>\n",
       "</table>\n",
       "</div>"
      ],
      "text/plain": [
       "           angles  degrees\n",
       "circle        -10      350\n",
       "triangle       -7      170\n",
       "rectangle      -6      350"
      ]
     },
     "metadata": {},
     "output_type": "display_data"
    }
   ],
   "source": [
    "df = pd.DataFrame({'angles': [0, 3, 4],\n",
    "                   'degrees': [360, 180, 360]},\n",
    "                  index=['circle', 'triangle', 'rectangle'])\n",
    "display(df)\n",
    "display(df.subtract(10))"
   ]
  },
  {
   "cell_type": "markdown",
   "id": "81d15512",
   "metadata": {},
   "source": [
    "# sum\n",
    "- Return the sum of the values over the requested axis.\n",
    "- This is equivalent to the method numpy.sum."
   ]
  },
  {
   "cell_type": "code",
   "execution_count": 371,
   "id": "8ea13bfa",
   "metadata": {},
   "outputs": [
    {
     "data": {
      "text/plain": [
       "blooded  animal\n",
       "warm     dog       4\n",
       "         falcon    2\n",
       "cold     fish      0\n",
       "         spider    8\n",
       "Name: legs, dtype: int64"
      ]
     },
     "metadata": {},
     "output_type": "display_data"
    },
    {
     "name": "stdout",
     "output_type": "stream",
     "text": [
      "14\n"
     ]
    }
   ],
   "source": [
    "idx = pd.MultiIndex.from_arrays([\n",
    "    ['warm', 'warm', 'cold', 'cold'],\n",
    "    ['dog', 'falcon', 'fish', 'spider']],\n",
    "    names=['blooded', 'animal'])\n",
    "s = pd.Series([4, 2, 0, 8], name='legs', index=idx)\n",
    "display(s)\n",
    "print(s.sum())"
   ]
  },
  {
   "cell_type": "markdown",
   "id": "80ba5d77",
   "metadata": {},
   "source": [
    "# swaplevel\n",
    "- Swap levels i and j in a MultiIndex.\n",
    "- Default is to swap the two innermost levels of the index."
   ]
  },
  {
   "cell_type": "code",
   "execution_count": 373,
   "id": "fec9ac6d",
   "metadata": {},
   "outputs": [
    {
     "data": {
      "text/html": [
       "<div>\n",
       "<style scoped>\n",
       "    .dataframe tbody tr th:only-of-type {\n",
       "        vertical-align: middle;\n",
       "    }\n",
       "\n",
       "    .dataframe tbody tr th {\n",
       "        vertical-align: top;\n",
       "    }\n",
       "\n",
       "    .dataframe thead th {\n",
       "        text-align: right;\n",
       "    }\n",
       "</style>\n",
       "<table border=\"1\" class=\"dataframe\">\n",
       "  <thead>\n",
       "    <tr style=\"text-align: right;\">\n",
       "      <th></th>\n",
       "      <th></th>\n",
       "      <th></th>\n",
       "      <th>Grade</th>\n",
       "    </tr>\n",
       "  </thead>\n",
       "  <tbody>\n",
       "    <tr>\n",
       "      <th rowspan=\"2\" valign=\"top\">Final exam</th>\n",
       "      <th>History</th>\n",
       "      <th>January</th>\n",
       "      <td>A</td>\n",
       "    </tr>\n",
       "    <tr>\n",
       "      <th>Geography</th>\n",
       "      <th>February</th>\n",
       "      <td>B</td>\n",
       "    </tr>\n",
       "    <tr>\n",
       "      <th rowspan=\"2\" valign=\"top\">Coursework</th>\n",
       "      <th>History</th>\n",
       "      <th>March</th>\n",
       "      <td>A</td>\n",
       "    </tr>\n",
       "    <tr>\n",
       "      <th>Geography</th>\n",
       "      <th>April</th>\n",
       "      <td>C</td>\n",
       "    </tr>\n",
       "  </tbody>\n",
       "</table>\n",
       "</div>"
      ],
      "text/plain": [
       "                              Grade\n",
       "Final exam History   January      A\n",
       "           Geography February     B\n",
       "Coursework History   March        A\n",
       "           Geography April        C"
      ]
     },
     "metadata": {},
     "output_type": "display_data"
    },
    {
     "data": {
      "text/html": [
       "<div>\n",
       "<style scoped>\n",
       "    .dataframe tbody tr th:only-of-type {\n",
       "        vertical-align: middle;\n",
       "    }\n",
       "\n",
       "    .dataframe tbody tr th {\n",
       "        vertical-align: top;\n",
       "    }\n",
       "\n",
       "    .dataframe thead th {\n",
       "        text-align: right;\n",
       "    }\n",
       "</style>\n",
       "<table border=\"1\" class=\"dataframe\">\n",
       "  <thead>\n",
       "    <tr style=\"text-align: right;\">\n",
       "      <th></th>\n",
       "      <th></th>\n",
       "      <th></th>\n",
       "      <th>Grade</th>\n",
       "    </tr>\n",
       "  </thead>\n",
       "  <tbody>\n",
       "    <tr>\n",
       "      <th rowspan=\"2\" valign=\"top\">Final exam</th>\n",
       "      <th>January</th>\n",
       "      <th>History</th>\n",
       "      <td>A</td>\n",
       "    </tr>\n",
       "    <tr>\n",
       "      <th>February</th>\n",
       "      <th>Geography</th>\n",
       "      <td>B</td>\n",
       "    </tr>\n",
       "    <tr>\n",
       "      <th rowspan=\"2\" valign=\"top\">Coursework</th>\n",
       "      <th>March</th>\n",
       "      <th>History</th>\n",
       "      <td>A</td>\n",
       "    </tr>\n",
       "    <tr>\n",
       "      <th>April</th>\n",
       "      <th>Geography</th>\n",
       "      <td>C</td>\n",
       "    </tr>\n",
       "  </tbody>\n",
       "</table>\n",
       "</div>"
      ],
      "text/plain": [
       "                              Grade\n",
       "Final exam January  History       A\n",
       "           February Geography     B\n",
       "Coursework March    History       A\n",
       "           April    Geography     C"
      ]
     },
     "metadata": {},
     "output_type": "display_data"
    },
    {
     "data": {
      "text/html": [
       "<div>\n",
       "<style scoped>\n",
       "    .dataframe tbody tr th:only-of-type {\n",
       "        vertical-align: middle;\n",
       "    }\n",
       "\n",
       "    .dataframe tbody tr th {\n",
       "        vertical-align: top;\n",
       "    }\n",
       "\n",
       "    .dataframe thead th {\n",
       "        text-align: right;\n",
       "    }\n",
       "</style>\n",
       "<table border=\"1\" class=\"dataframe\">\n",
       "  <thead>\n",
       "    <tr style=\"text-align: right;\">\n",
       "      <th></th>\n",
       "      <th></th>\n",
       "      <th></th>\n",
       "      <th>Grade</th>\n",
       "    </tr>\n",
       "  </thead>\n",
       "  <tbody>\n",
       "    <tr>\n",
       "      <th>January</th>\n",
       "      <th>History</th>\n",
       "      <th>Final exam</th>\n",
       "      <td>A</td>\n",
       "    </tr>\n",
       "    <tr>\n",
       "      <th>February</th>\n",
       "      <th>Geography</th>\n",
       "      <th>Final exam</th>\n",
       "      <td>B</td>\n",
       "    </tr>\n",
       "    <tr>\n",
       "      <th>March</th>\n",
       "      <th>History</th>\n",
       "      <th>Coursework</th>\n",
       "      <td>A</td>\n",
       "    </tr>\n",
       "    <tr>\n",
       "      <th>April</th>\n",
       "      <th>Geography</th>\n",
       "      <th>Coursework</th>\n",
       "      <td>C</td>\n",
       "    </tr>\n",
       "  </tbody>\n",
       "</table>\n",
       "</div>"
      ],
      "text/plain": [
       "                              Grade\n",
       "January  History   Final exam     A\n",
       "February Geography Final exam     B\n",
       "March    History   Coursework     A\n",
       "April    Geography Coursework     C"
      ]
     },
     "metadata": {},
     "output_type": "display_data"
    },
    {
     "data": {
      "text/html": [
       "<div>\n",
       "<style scoped>\n",
       "    .dataframe tbody tr th:only-of-type {\n",
       "        vertical-align: middle;\n",
       "    }\n",
       "\n",
       "    .dataframe tbody tr th {\n",
       "        vertical-align: top;\n",
       "    }\n",
       "\n",
       "    .dataframe thead th {\n",
       "        text-align: right;\n",
       "    }\n",
       "</style>\n",
       "<table border=\"1\" class=\"dataframe\">\n",
       "  <thead>\n",
       "    <tr style=\"text-align: right;\">\n",
       "      <th></th>\n",
       "      <th></th>\n",
       "      <th></th>\n",
       "      <th>Grade</th>\n",
       "    </tr>\n",
       "  </thead>\n",
       "  <tbody>\n",
       "    <tr>\n",
       "      <th>History</th>\n",
       "      <th>Final exam</th>\n",
       "      <th>January</th>\n",
       "      <td>A</td>\n",
       "    </tr>\n",
       "    <tr>\n",
       "      <th>Geography</th>\n",
       "      <th>Final exam</th>\n",
       "      <th>February</th>\n",
       "      <td>B</td>\n",
       "    </tr>\n",
       "    <tr>\n",
       "      <th>History</th>\n",
       "      <th>Coursework</th>\n",
       "      <th>March</th>\n",
       "      <td>A</td>\n",
       "    </tr>\n",
       "    <tr>\n",
       "      <th>Geography</th>\n",
       "      <th>Coursework</th>\n",
       "      <th>April</th>\n",
       "      <td>C</td>\n",
       "    </tr>\n",
       "  </tbody>\n",
       "</table>\n",
       "</div>"
      ],
      "text/plain": [
       "                              Grade\n",
       "History   Final exam January      A\n",
       "Geography Final exam February     B\n",
       "History   Coursework March        A\n",
       "Geography Coursework April        C"
      ]
     },
     "metadata": {},
     "output_type": "display_data"
    }
   ],
   "source": [
    "df = pd.DataFrame(\n",
    "    {\"Grade\": [\"A\", \"B\", \"A\", \"C\"]},\n",
    "    index=[\n",
    "        [\"Final exam\", \"Final exam\", \"Coursework\", \"Coursework\"],\n",
    "        [\"History\", \"Geography\", \"History\", \"Geography\"],\n",
    "        [\"January\", \"February\", \"March\", \"April\"],\n",
    "    ],\n",
    ")\n",
    "display(df)\n",
    "display(df.swaplevel())\n",
    "display(df.swaplevel(0))\n",
    "display(df.swaplevel(0, 1))"
   ]
  },
  {
   "cell_type": "markdown",
   "id": "b7bb753a",
   "metadata": {},
   "source": [
    "# tail\n",
    "- Return the last n rows. N default = 5.\n",
    "- This function returns last n rows from the object based on position. It is useful for quickly verifying data, for example, after sorting or appending rows.\n",
    "- For negative values of n, this function returns all rows except the first |n| rows, equivalent to df[|n|:].\n",
    "- If n is larger than the number of rows, this function returns all rows."
   ]
  },
  {
   "cell_type": "code",
   "execution_count": 374,
   "id": "c60cb04d",
   "metadata": {},
   "outputs": [
    {
     "data": {
      "text/html": [
       "<div>\n",
       "<style scoped>\n",
       "    .dataframe tbody tr th:only-of-type {\n",
       "        vertical-align: middle;\n",
       "    }\n",
       "\n",
       "    .dataframe tbody tr th {\n",
       "        vertical-align: top;\n",
       "    }\n",
       "\n",
       "    .dataframe thead th {\n",
       "        text-align: right;\n",
       "    }\n",
       "</style>\n",
       "<table border=\"1\" class=\"dataframe\">\n",
       "  <thead>\n",
       "    <tr style=\"text-align: right;\">\n",
       "      <th></th>\n",
       "      <th>animal</th>\n",
       "    </tr>\n",
       "  </thead>\n",
       "  <tbody>\n",
       "    <tr>\n",
       "      <th>0</th>\n",
       "      <td>alligator</td>\n",
       "    </tr>\n",
       "    <tr>\n",
       "      <th>1</th>\n",
       "      <td>bee</td>\n",
       "    </tr>\n",
       "    <tr>\n",
       "      <th>2</th>\n",
       "      <td>falcon</td>\n",
       "    </tr>\n",
       "    <tr>\n",
       "      <th>3</th>\n",
       "      <td>lion</td>\n",
       "    </tr>\n",
       "    <tr>\n",
       "      <th>4</th>\n",
       "      <td>monkey</td>\n",
       "    </tr>\n",
       "    <tr>\n",
       "      <th>5</th>\n",
       "      <td>parrot</td>\n",
       "    </tr>\n",
       "    <tr>\n",
       "      <th>6</th>\n",
       "      <td>shark</td>\n",
       "    </tr>\n",
       "    <tr>\n",
       "      <th>7</th>\n",
       "      <td>whale</td>\n",
       "    </tr>\n",
       "    <tr>\n",
       "      <th>8</th>\n",
       "      <td>zebra</td>\n",
       "    </tr>\n",
       "  </tbody>\n",
       "</table>\n",
       "</div>"
      ],
      "text/plain": [
       "      animal\n",
       "0  alligator\n",
       "1        bee\n",
       "2     falcon\n",
       "3       lion\n",
       "4     monkey\n",
       "5     parrot\n",
       "6      shark\n",
       "7      whale\n",
       "8      zebra"
      ]
     },
     "metadata": {},
     "output_type": "display_data"
    },
    {
     "data": {
      "text/html": [
       "<div>\n",
       "<style scoped>\n",
       "    .dataframe tbody tr th:only-of-type {\n",
       "        vertical-align: middle;\n",
       "    }\n",
       "\n",
       "    .dataframe tbody tr th {\n",
       "        vertical-align: top;\n",
       "    }\n",
       "\n",
       "    .dataframe thead th {\n",
       "        text-align: right;\n",
       "    }\n",
       "</style>\n",
       "<table border=\"1\" class=\"dataframe\">\n",
       "  <thead>\n",
       "    <tr style=\"text-align: right;\">\n",
       "      <th></th>\n",
       "      <th>animal</th>\n",
       "    </tr>\n",
       "  </thead>\n",
       "  <tbody>\n",
       "    <tr>\n",
       "      <th>4</th>\n",
       "      <td>monkey</td>\n",
       "    </tr>\n",
       "    <tr>\n",
       "      <th>5</th>\n",
       "      <td>parrot</td>\n",
       "    </tr>\n",
       "    <tr>\n",
       "      <th>6</th>\n",
       "      <td>shark</td>\n",
       "    </tr>\n",
       "    <tr>\n",
       "      <th>7</th>\n",
       "      <td>whale</td>\n",
       "    </tr>\n",
       "    <tr>\n",
       "      <th>8</th>\n",
       "      <td>zebra</td>\n",
       "    </tr>\n",
       "  </tbody>\n",
       "</table>\n",
       "</div>"
      ],
      "text/plain": [
       "   animal\n",
       "4  monkey\n",
       "5  parrot\n",
       "6   shark\n",
       "7   whale\n",
       "8   zebra"
      ]
     },
     "metadata": {},
     "output_type": "display_data"
    }
   ],
   "source": [
    "df = pd.DataFrame({'animal': ['alligator', 'bee', 'falcon', 'lion',\n",
    "                   'monkey', 'parrot', 'shark', 'whale', 'zebra']})\n",
    "display(df)\n",
    "display(df.tail())"
   ]
  },
  {
   "cell_type": "markdown",
   "id": "21370f16",
   "metadata": {},
   "source": [
    "# take\n",
    "- Return the elements in the given positional indices along an axis.\n",
    "- This means that we are not indexing according to actual values in the index attribute of the object. We are indexing according to the actual position of the element in the object."
   ]
  },
  {
   "cell_type": "code",
   "execution_count": 375,
   "id": "9e1f7be2",
   "metadata": {},
   "outputs": [
    {
     "data": {
      "text/html": [
       "<div>\n",
       "<style scoped>\n",
       "    .dataframe tbody tr th:only-of-type {\n",
       "        vertical-align: middle;\n",
       "    }\n",
       "\n",
       "    .dataframe tbody tr th {\n",
       "        vertical-align: top;\n",
       "    }\n",
       "\n",
       "    .dataframe thead th {\n",
       "        text-align: right;\n",
       "    }\n",
       "</style>\n",
       "<table border=\"1\" class=\"dataframe\">\n",
       "  <thead>\n",
       "    <tr style=\"text-align: right;\">\n",
       "      <th></th>\n",
       "      <th>name</th>\n",
       "      <th>class</th>\n",
       "      <th>max_speed</th>\n",
       "    </tr>\n",
       "  </thead>\n",
       "  <tbody>\n",
       "    <tr>\n",
       "      <th>0</th>\n",
       "      <td>falcon</td>\n",
       "      <td>bird</td>\n",
       "      <td>389.0E+00</td>\n",
       "    </tr>\n",
       "    <tr>\n",
       "      <th>2</th>\n",
       "      <td>parrot</td>\n",
       "      <td>bird</td>\n",
       "      <td>24.0E+00</td>\n",
       "    </tr>\n",
       "    <tr>\n",
       "      <th>3</th>\n",
       "      <td>lion</td>\n",
       "      <td>mammal</td>\n",
       "      <td>80.5E+00</td>\n",
       "    </tr>\n",
       "    <tr>\n",
       "      <th>1</th>\n",
       "      <td>monkey</td>\n",
       "      <td>mammal</td>\n",
       "      <td>NaN</td>\n",
       "    </tr>\n",
       "  </tbody>\n",
       "</table>\n",
       "</div>"
      ],
      "text/plain": [
       "     name   class  max_speed\n",
       "0  falcon    bird  389.0E+00\n",
       "2  parrot    bird   24.0E+00\n",
       "3    lion  mammal   80.5E+00\n",
       "1  monkey  mammal        NaN"
      ]
     },
     "metadata": {},
     "output_type": "display_data"
    },
    {
     "data": {
      "text/html": [
       "<div>\n",
       "<style scoped>\n",
       "    .dataframe tbody tr th:only-of-type {\n",
       "        vertical-align: middle;\n",
       "    }\n",
       "\n",
       "    .dataframe tbody tr th {\n",
       "        vertical-align: top;\n",
       "    }\n",
       "\n",
       "    .dataframe thead th {\n",
       "        text-align: right;\n",
       "    }\n",
       "</style>\n",
       "<table border=\"1\" class=\"dataframe\">\n",
       "  <thead>\n",
       "    <tr style=\"text-align: right;\">\n",
       "      <th></th>\n",
       "      <th>name</th>\n",
       "      <th>class</th>\n",
       "      <th>max_speed</th>\n",
       "    </tr>\n",
       "  </thead>\n",
       "  <tbody>\n",
       "    <tr>\n",
       "      <th>0</th>\n",
       "      <td>falcon</td>\n",
       "      <td>bird</td>\n",
       "      <td>389.0E+00</td>\n",
       "    </tr>\n",
       "    <tr>\n",
       "      <th>1</th>\n",
       "      <td>monkey</td>\n",
       "      <td>mammal</td>\n",
       "      <td>NaN</td>\n",
       "    </tr>\n",
       "  </tbody>\n",
       "</table>\n",
       "</div>"
      ],
      "text/plain": [
       "     name   class  max_speed\n",
       "0  falcon    bird  389.0E+00\n",
       "1  monkey  mammal        NaN"
      ]
     },
     "metadata": {},
     "output_type": "display_data"
    }
   ],
   "source": [
    "df = pd.DataFrame([('falcon', 'bird', 389.0),\n",
    "                   ('parrot', 'bird', 24.0),\n",
    "                   ('lion', 'mammal', 80.5),\n",
    "                   ('monkey', 'mammal', np.nan)],\n",
    "                  columns=['name', 'class', 'max_speed'],\n",
    "                  index=[0, 2, 3, 1])\n",
    "display(df)\n",
    "display(df.take([0, 3]))"
   ]
  },
  {
   "cell_type": "markdown",
   "id": "36f9dc22",
   "metadata": {},
   "source": [
    "# to_clipboard\n",
    "- Copy object to the system clipboard.\n",
    "- Write a text representation of object to the system clipboard. This can be pasted into Excel, for example."
   ]
  },
  {
   "cell_type": "code",
   "execution_count": null,
   "id": "3b89e632",
   "metadata": {},
   "outputs": [
    {
     "data": {
      "text/plain": [
       "None"
      ]
     },
     "metadata": {},
     "output_type": "display_data"
    }
   ],
   "source": [
    "df = pd.DataFrame([[1, 2, 3], [4, 5, 6]], columns=['A', 'B', 'C'])\n",
    "display(df.to_clipboard())\n",
    "# Wrote the following to the system clipboard:\n",
    "# ,A,B,C\n",
    "# 0,1,2,3\n",
    "# 1,4,5,6"
   ]
  },
  {
   "cell_type": "markdown",
   "id": "f47efdbc",
   "metadata": {},
   "source": [
    "# to_csv\n",
    "- Write object to a comma-separated values (csv) file."
   ]
  },
  {
   "cell_type": "code",
   "execution_count": 377,
   "id": "a365cad6",
   "metadata": {},
   "outputs": [],
   "source": [
    "df = pd.DataFrame({'name': ['Raphael', 'Donatello'],\n",
    "                   'mask': ['red', 'purple'],\n",
    "                   'weapon': ['sai', 'bo staff']})\n",
    "df.to_csv('data/out.csv', index=False)  "
   ]
  },
  {
   "cell_type": "markdown",
   "id": "cb0d7c5d",
   "metadata": {},
   "source": [
    "# to_dict\n",
    "- Convert the DataFrame to a dictionary.\n",
    "- The type of the key-value pairs can be customized with the parameters."
   ]
  },
  {
   "cell_type": "code",
   "execution_count": 378,
   "id": "0510ba46",
   "metadata": {},
   "outputs": [
    {
     "data": {
      "text/html": [
       "<div>\n",
       "<style scoped>\n",
       "    .dataframe tbody tr th:only-of-type {\n",
       "        vertical-align: middle;\n",
       "    }\n",
       "\n",
       "    .dataframe tbody tr th {\n",
       "        vertical-align: top;\n",
       "    }\n",
       "\n",
       "    .dataframe thead th {\n",
       "        text-align: right;\n",
       "    }\n",
       "</style>\n",
       "<table border=\"1\" class=\"dataframe\">\n",
       "  <thead>\n",
       "    <tr style=\"text-align: right;\">\n",
       "      <th></th>\n",
       "      <th>col1</th>\n",
       "      <th>col2</th>\n",
       "    </tr>\n",
       "  </thead>\n",
       "  <tbody>\n",
       "    <tr>\n",
       "      <th>row1</th>\n",
       "      <td>1</td>\n",
       "      <td>500.0E-03</td>\n",
       "    </tr>\n",
       "    <tr>\n",
       "      <th>row2</th>\n",
       "      <td>2</td>\n",
       "      <td>750.0E-03</td>\n",
       "    </tr>\n",
       "  </tbody>\n",
       "</table>\n",
       "</div>"
      ],
      "text/plain": [
       "      col1       col2\n",
       "row1     1  500.0E-03\n",
       "row2     2  750.0E-03"
      ]
     },
     "metadata": {},
     "output_type": "display_data"
    },
    {
     "name": "stdout",
     "output_type": "stream",
     "text": [
      "{'col1': {'row1': 1, 'row2': 2}, 'col2': {'row1': 0.5, 'row2': 0.75}}\n"
     ]
    }
   ],
   "source": [
    "df = pd.DataFrame({'col1': [1, 2],\n",
    "                   'col2': [0.5, 0.75]},\n",
    "                  index=['row1', 'row2'])\n",
    "display(df)\n",
    "print(df.to_dict())"
   ]
  },
  {
   "cell_type": "markdown",
   "id": "f5e2b7f9",
   "metadata": {},
   "source": [
    "# to_feather\n",
    "- Write a DataFrame to the binary Feather format."
   ]
  },
  {
   "cell_type": "code",
   "execution_count": 380,
   "id": "1b7b44d1",
   "metadata": {},
   "outputs": [],
   "source": [
    "df = pd.DataFrame([[1, 2, 3], [4, 5, 6]])\n",
    "df.to_feather(\"data/out.feather\")  "
   ]
  },
  {
   "cell_type": "markdown",
   "id": "3a989c7f",
   "metadata": {},
   "source": [
    "# to_hdf\n",
    "- Write the contained data to an HDF5 file using HDFStore.\n",
    "- Hierarchical Data Format (HDF) is self-describing, allowing an application to interpret the structure and contents of a file with no outside information. One HDF file can hold a mix of related objects which can be accessed as a group or as individual objects.\n",
    "- In order to add another DataFrame or Series to an existing HDF file please use append mode and a different a key."
   ]
  },
  {
   "cell_type": "code",
   "execution_count": 381,
   "id": "75c65832",
   "metadata": {},
   "outputs": [],
   "source": [
    "df = pd.DataFrame({'A': [1, 2, 3], 'B': [4, 5, 6]},\n",
    "                  index=['a', 'b', 'c'])  \n",
    "df.to_hdf('data/out.h5', key='df', mode='w')  "
   ]
  },
  {
   "cell_type": "markdown",
   "id": "d41622c0",
   "metadata": {},
   "source": [
    "# to_html\n",
    "- Render a DataFrame as an HTML table."
   ]
  },
  {
   "cell_type": "code",
   "execution_count": 382,
   "id": "c2201003",
   "metadata": {},
   "outputs": [
    {
     "name": "stdout",
     "output_type": "stream",
     "text": [
      "<table border=\"1\" class=\"dataframe\">\n",
      "  <thead>\n",
      "    <tr style=\"text-align: right;\">\n",
      "      <th></th>\n",
      "      <th>col1</th>\n",
      "      <th>col2</th>\n",
      "    </tr>\n",
      "  </thead>\n",
      "  <tbody>\n",
      "    <tr>\n",
      "      <th>0</th>\n",
      "      <td>1</td>\n",
      "      <td>4</td>\n",
      "    </tr>\n",
      "    <tr>\n",
      "      <th>1</th>\n",
      "      <td>2</td>\n",
      "      <td>3</td>\n",
      "    </tr>\n",
      "  </tbody>\n",
      "</table>\n"
     ]
    }
   ],
   "source": [
    "df = pd.DataFrame(data={'col1': [1, 2], 'col2': [4, 3]})\n",
    "print(df.to_html())"
   ]
  },
  {
   "cell_type": "markdown",
   "id": "aecf6a14",
   "metadata": {},
   "source": [
    "# to_json\n",
    "- Convert the object to a JSON string.\n",
    "- Note NaN’s and None will be converted to null and datetime objects will be converted to UNIX timestamps."
   ]
  },
  {
   "cell_type": "code",
   "execution_count": 383,
   "id": "27b9331d",
   "metadata": {},
   "outputs": [
    {
     "name": "stdout",
     "output_type": "stream",
     "text": [
      "{\"col 1\":{\"row 1\":\"a\",\"row 2\":\"c\"},\"col 2\":{\"row 1\":\"b\",\"row 2\":\"d\"}}\n"
     ]
    }
   ],
   "source": [
    "df = pd.DataFrame(\n",
    "    [[\"a\", \"b\"], [\"c\", \"d\"]],\n",
    "    index=[\"row 1\", \"row 2\"],\n",
    "    columns=[\"col 1\", \"col 2\"],\n",
    ")\n",
    "print(df.to_json())"
   ]
  },
  {
   "cell_type": "markdown",
   "id": "88eb8233",
   "metadata": {},
   "source": [
    "# to_latex\n",
    "- Render object to a LaTeX tabular, longtable, or nested table.\n",
    "- Requires \\usepackage{{booktabs}}. The output can be copy/pasted into a main LaTeX document or read from an external file with \\input{{table.tex}}."
   ]
  },
  {
   "cell_type": "code",
   "execution_count": 384,
   "id": "59001ab9",
   "metadata": {},
   "outputs": [
    {
     "name": "stdout",
     "output_type": "stream",
     "text": [
      "\\begin{tabular}{lrr}\n",
      "\\toprule\n",
      "name & age & height \\\\\n",
      "\\midrule\n",
      "RAPHAEL & 26 & 181.2 \\\\\n",
      "DONATELLO & 45 & 177.7 \\\\\n",
      "\\bottomrule\n",
      "\\end{tabular}\n",
      "\n"
     ]
    }
   ],
   "source": [
    "df = pd.DataFrame(dict(name=['Raphael', 'Donatello'],\n",
    "                       age=[26, 45],\n",
    "                       height=[181.23, 177.65]))\n",
    "print(df.to_latex(index=False,\n",
    "                  formatters={\"name\": str.upper},\n",
    "                  float_format=\"{:.1f}\".format,\n",
    ")) "
   ]
  },
  {
   "cell_type": "markdown",
   "id": "ede70ca1",
   "metadata": {},
   "source": [
    "# to_markdown\n",
    "- Print DataFrame in Markdown-friendly format."
   ]
  },
  {
   "cell_type": "code",
   "execution_count": 386,
   "id": "e59c68c3",
   "metadata": {},
   "outputs": [
    {
     "name": "stdout",
     "output_type": "stream",
     "text": [
      "|    | animal_1   | animal_2   |\n",
      "|---:|:-----------|:-----------|\n",
      "|  0 | elk        | dog        |\n",
      "|  1 | pig        | quetzal    |\n"
     ]
    }
   ],
   "source": [
    "df = pd.DataFrame(\n",
    "    data={\"animal_1\": [\"elk\", \"pig\"], \"animal_2\": [\"dog\", \"quetzal\"]}\n",
    ")\n",
    "print(df.to_markdown())"
   ]
  },
  {
   "cell_type": "markdown",
   "id": "4ccfd789",
   "metadata": {},
   "source": [
    "# to_numpy\n",
    "- Convert the DataFrame to a NumPy array.\n",
    "- By default, the dtype of the returned array will be the common NumPy dtype of all types in the DataFrame. For example, if the dtypes are float16 and float32, the results dtype will be float32. This may require copying data and coercing values, which may be expensive."
   ]
  },
  {
   "cell_type": "code",
   "execution_count": 387,
   "id": "1a63e8b6",
   "metadata": {},
   "outputs": [
    {
     "name": "stdout",
     "output_type": "stream",
     "text": [
      "[[1.  3. ]\n",
      " [2.  4.5]]\n"
     ]
    }
   ],
   "source": [
    "df = pd.DataFrame({\"A\": [1, 2], \"B\": [3.0, 4.5]})\n",
    "print(df.to_numpy())"
   ]
  },
  {
   "cell_type": "markdown",
   "id": "9a8c4ac4",
   "metadata": {},
   "source": [
    "# to_orc\n",
    "- Write a DataFrame to the ORC format."
   ]
  },
  {
   "cell_type": "code",
   "execution_count": 388,
   "id": "7e5b640a",
   "metadata": {},
   "outputs": [],
   "source": [
    "df = pd.DataFrame(data={'col1': [1, 2], 'col2': [4, 3]})\n",
    "df.to_orc('data/out.orc')  "
   ]
  },
  {
   "cell_type": "markdown",
   "id": "01add76b",
   "metadata": {},
   "source": [
    "# to_parquet\n",
    "- Write a DataFrame to the binary parquet format.\n",
    "- This function writes the dataframe as a parquet file. You can choose different parquet backends, and have the option of compression. See the user guide for more details."
   ]
  },
  {
   "cell_type": "code",
   "execution_count": 389,
   "id": "05827956",
   "metadata": {},
   "outputs": [],
   "source": [
    "df = pd.DataFrame(data={'col1': [1, 2], 'col2': [3, 4]})\n",
    "df.to_parquet('data/out.parquet')  "
   ]
  },
  {
   "cell_type": "markdown",
   "id": "0b333e66",
   "metadata": {},
   "source": [
    "# to_period\n",
    "- Convert DataFrame from DatetimeIndex to PeriodIndex.\n",
    "- Convert DataFrame from DatetimeIndex to PeriodIndex with desired frequency (inferred from index if not passed)."
   ]
  },
  {
   "cell_type": "code",
   "execution_count": 390,
   "id": "48d9d1b3",
   "metadata": {},
   "outputs": [
    {
     "name": "stdout",
     "output_type": "stream",
     "text": [
      "DatetimeIndex(['2001-03-31', '2002-05-31', '2003-08-31'], dtype='datetime64[ns]', freq=None)\n",
      "PeriodIndex(['2001-03', '2002-05', '2003-08'], dtype='period[M]')\n"
     ]
    }
   ],
   "source": [
    "idx = pd.to_datetime(\n",
    "    [\n",
    "        \"2001-03-31 00:00:00\",\n",
    "        \"2002-05-31 00:00:00\",\n",
    "        \"2003-08-31 00:00:00\",\n",
    "    ]\n",
    ")\n",
    "print(idx)\n",
    "print(idx.to_period(\"M\"))"
   ]
  },
  {
   "cell_type": "markdown",
   "id": "34b800f5",
   "metadata": {},
   "source": [
    "# to_pickle\n",
    "- Pickle (serialize) object to file."
   ]
  },
  {
   "cell_type": "code",
   "execution_count": 391,
   "id": "1825986e",
   "metadata": {},
   "outputs": [],
   "source": [
    "original_df = pd.DataFrame({\"foo\": range(5), \"bar\": range(5, 10)})  \n",
    "original_df.to_pickle(\"./data/out.pkl\")  "
   ]
  },
  {
   "cell_type": "markdown",
   "id": "196b6495",
   "metadata": {},
   "source": [
    "# to_records\n",
    "- Convert DataFrame to a NumPy record array.\n",
    "- Index will be included as the first field of the record array if requested."
   ]
  },
  {
   "cell_type": "code",
   "execution_count": 392,
   "id": "3d17ab55",
   "metadata": {},
   "outputs": [
    {
     "name": "stdout",
     "output_type": "stream",
     "text": [
      "[('a', 1, 0.5 ) ('b', 2, 0.75)]\n"
     ]
    }
   ],
   "source": [
    "df = pd.DataFrame({'A': [1, 2], 'B': [0.5, 0.75]},\n",
    "                  index=['a', 'b'])\n",
    "print(df.to_records())"
   ]
  },
  {
   "cell_type": "markdown",
   "id": "0e4e1360",
   "metadata": {},
   "source": [
    "# to_sql\n",
    "- Write records stored in a DataFrame to a SQL database.\n",
    "- Databases supported by SQLAlchemy [1] are supported. Tables can be newly created, appended to, or overwritten."
   ]
  },
  {
   "cell_type": "code",
   "execution_count": null,
   "id": "32f106db",
   "metadata": {},
   "outputs": [],
   "source": [
    "# from sqlalchemy import create_engine\n",
    "# engine = create_engine('sqlite://memeory', echo=False)\n",
    "# df = pd.DataFrame({'name' : ['User 1', 'User 2', 'User 3']})\n",
    "# df.to_sql(name='users', con=engine)"
   ]
  },
  {
   "cell_type": "markdown",
   "id": "e095da0d",
   "metadata": {},
   "source": [
    "# to_stata\n",
    "- Export DataFrame object to Stata dta format.\n",
    "- Writes the DataFrame to a Stata dataset file. “dta” files contain a Stata dataset."
   ]
  },
  {
   "cell_type": "code",
   "execution_count": 393,
   "id": "11cabc64",
   "metadata": {},
   "outputs": [],
   "source": [
    "df = pd.DataFrame({'animal': ['falcon', 'parrot', 'falcon',\n",
    "                              'parrot'],\n",
    "                   'speed': [350, 18, 361, 15]})\n",
    "df.to_stata('data/out.dta')  "
   ]
  },
  {
   "cell_type": "markdown",
   "id": "fd19e97b",
   "metadata": {},
   "source": [
    "# to_string\n",
    "- Render a DataFrame to a console-friendly tabular output."
   ]
  },
  {
   "cell_type": "code",
   "execution_count": 394,
   "id": "40e12094",
   "metadata": {},
   "outputs": [
    {
     "name": "stdout",
     "output_type": "stream",
     "text": [
      "   col1  col2\n",
      "0     1     4\n",
      "1     2     5\n",
      "2     3     6\n"
     ]
    }
   ],
   "source": [
    "d = {'col1': [1, 2, 3], 'col2': [4, 5, 6]}\n",
    "df = pd.DataFrame(d)\n",
    "print(df.to_string())"
   ]
  },
  {
   "cell_type": "markdown",
   "id": "98095208",
   "metadata": {},
   "source": [
    "# to_timestamp\n",
    "- Cast to DatetimeIndex of timestamps, at beginning of period."
   ]
  },
  {
   "cell_type": "code",
   "execution_count": 395,
   "id": "c5aceed8",
   "metadata": {},
   "outputs": [
    {
     "data": {
      "text/html": [
       "<div>\n",
       "<style scoped>\n",
       "    .dataframe tbody tr th:only-of-type {\n",
       "        vertical-align: middle;\n",
       "    }\n",
       "\n",
       "    .dataframe tbody tr th {\n",
       "        vertical-align: top;\n",
       "    }\n",
       "\n",
       "    .dataframe thead th {\n",
       "        text-align: right;\n",
       "    }\n",
       "</style>\n",
       "<table border=\"1\" class=\"dataframe\">\n",
       "  <thead>\n",
       "    <tr style=\"text-align: right;\">\n",
       "      <th></th>\n",
       "      <th>col1</th>\n",
       "      <th>col2</th>\n",
       "    </tr>\n",
       "  </thead>\n",
       "  <tbody>\n",
       "    <tr>\n",
       "      <th>2023</th>\n",
       "      <td>1</td>\n",
       "      <td>3</td>\n",
       "    </tr>\n",
       "    <tr>\n",
       "      <th>2024</th>\n",
       "      <td>2</td>\n",
       "      <td>4</td>\n",
       "    </tr>\n",
       "  </tbody>\n",
       "</table>\n",
       "</div>"
      ],
      "text/plain": [
       "      col1  col2\n",
       "2023     1     3\n",
       "2024     2     4"
      ]
     },
     "metadata": {},
     "output_type": "display_data"
    },
    {
     "data": {
      "text/html": [
       "<div>\n",
       "<style scoped>\n",
       "    .dataframe tbody tr th:only-of-type {\n",
       "        vertical-align: middle;\n",
       "    }\n",
       "\n",
       "    .dataframe tbody tr th {\n",
       "        vertical-align: top;\n",
       "    }\n",
       "\n",
       "    .dataframe thead th {\n",
       "        text-align: right;\n",
       "    }\n",
       "</style>\n",
       "<table border=\"1\" class=\"dataframe\">\n",
       "  <thead>\n",
       "    <tr style=\"text-align: right;\">\n",
       "      <th></th>\n",
       "      <th>col1</th>\n",
       "      <th>col2</th>\n",
       "    </tr>\n",
       "  </thead>\n",
       "  <tbody>\n",
       "    <tr>\n",
       "      <th>2023-01-01</th>\n",
       "      <td>1</td>\n",
       "      <td>3</td>\n",
       "    </tr>\n",
       "    <tr>\n",
       "      <th>2024-01-01</th>\n",
       "      <td>2</td>\n",
       "      <td>4</td>\n",
       "    </tr>\n",
       "  </tbody>\n",
       "</table>\n",
       "</div>"
      ],
      "text/plain": [
       "            col1  col2\n",
       "2023-01-01     1     3\n",
       "2024-01-01     2     4"
      ]
     },
     "metadata": {},
     "output_type": "display_data"
    }
   ],
   "source": [
    "idx = pd.PeriodIndex(['2023', '2024'], freq='Y')\n",
    "d = {'col1': [1, 2], 'col2': [3, 4]}\n",
    "df1 = pd.DataFrame(data=d, index=idx)\n",
    "display(df1)\n",
    "display(df1.to_timestamp())"
   ]
  },
  {
   "cell_type": "markdown",
   "id": "33636d88",
   "metadata": {},
   "source": [
    "# to_xarray\n",
    "- Return an xarray object from the pandas object.\n",
    "### Need to install xarray lib (obviously)"
   ]
  },
  {
   "cell_type": "code",
   "execution_count": 397,
   "id": "f422bd53",
   "metadata": {},
   "outputs": [
    {
     "data": {
      "text/html": [
       "<div>\n",
       "<style scoped>\n",
       "    .dataframe tbody tr th:only-of-type {\n",
       "        vertical-align: middle;\n",
       "    }\n",
       "\n",
       "    .dataframe tbody tr th {\n",
       "        vertical-align: top;\n",
       "    }\n",
       "\n",
       "    .dataframe thead th {\n",
       "        text-align: right;\n",
       "    }\n",
       "</style>\n",
       "<table border=\"1\" class=\"dataframe\">\n",
       "  <thead>\n",
       "    <tr style=\"text-align: right;\">\n",
       "      <th></th>\n",
       "      <th>name</th>\n",
       "      <th>class</th>\n",
       "      <th>max_speed</th>\n",
       "      <th>num_legs</th>\n",
       "    </tr>\n",
       "  </thead>\n",
       "  <tbody>\n",
       "    <tr>\n",
       "      <th>0</th>\n",
       "      <td>falcon</td>\n",
       "      <td>bird</td>\n",
       "      <td>389.0E+00</td>\n",
       "      <td>2</td>\n",
       "    </tr>\n",
       "    <tr>\n",
       "      <th>1</th>\n",
       "      <td>parrot</td>\n",
       "      <td>bird</td>\n",
       "      <td>24.0E+00</td>\n",
       "      <td>2</td>\n",
       "    </tr>\n",
       "    <tr>\n",
       "      <th>2</th>\n",
       "      <td>lion</td>\n",
       "      <td>mammal</td>\n",
       "      <td>80.5E+00</td>\n",
       "      <td>4</td>\n",
       "    </tr>\n",
       "    <tr>\n",
       "      <th>3</th>\n",
       "      <td>monkey</td>\n",
       "      <td>mammal</td>\n",
       "      <td>NaN</td>\n",
       "      <td>4</td>\n",
       "    </tr>\n",
       "  </tbody>\n",
       "</table>\n",
       "</div>"
      ],
      "text/plain": [
       "     name   class  max_speed  num_legs\n",
       "0  falcon    bird  389.0E+00         2\n",
       "1  parrot    bird   24.0E+00         2\n",
       "2    lion  mammal   80.5E+00         4\n",
       "3  monkey  mammal        NaN         4"
      ]
     },
     "metadata": {},
     "output_type": "display_data"
    },
    {
     "name": "stdout",
     "output_type": "stream",
     "text": [
      "<xarray.Dataset> Size: 160B\n",
      "Dimensions:    (index: 4)\n",
      "Coordinates:\n",
      "  * index      (index) int64 32B 0 1 2 3\n",
      "Data variables:\n",
      "    name       (index) object 32B 'falcon' 'parrot' 'lion' 'monkey'\n",
      "    class      (index) object 32B 'bird' 'bird' 'mammal' 'mammal'\n",
      "    max_speed  (index) float64 32B 389.0 24.0 80.5 nan\n",
      "    num_legs   (index) int64 32B 2 2 4 4\n"
     ]
    }
   ],
   "source": [
    "df = pd.DataFrame([('falcon', 'bird', 389.0, 2),\n",
    "                   ('parrot', 'bird', 24.0, 2),\n",
    "                   ('lion', 'mammal', 80.5, 4),\n",
    "                   ('monkey', 'mammal', np.nan, 4)],\n",
    "                  columns=['name', 'class', 'max_speed',\n",
    "                           'num_legs'])\n",
    "display(df)\n",
    "print(df.to_xarray())"
   ]
  },
  {
   "cell_type": "markdown",
   "id": "22167c9d",
   "metadata": {},
   "source": [
    "# to_xml\n",
    "- Render a DataFrame to an XML document."
   ]
  },
  {
   "cell_type": "code",
   "execution_count": 400,
   "id": "95463908",
   "metadata": {},
   "outputs": [
    {
     "name": "stdout",
     "output_type": "stream",
     "text": [
      "<?xml version='1.0' encoding='utf-8'?>\n",
      "<data>\n",
      "  <row>\n",
      "    <index>0</index>\n",
      "    <shape>square</shape>\n",
      "    <degrees>360</degrees>\n",
      "    <sides>4.0</sides>\n",
      "  </row>\n",
      "  <row>\n",
      "    <index>1</index>\n",
      "    <shape>circle</shape>\n",
      "    <degrees>360</degrees>\n",
      "    <sides/>\n",
      "  </row>\n",
      "  <row>\n",
      "    <index>2</index>\n",
      "    <shape>triangle</shape>\n",
      "    <degrees>180</degrees>\n",
      "    <sides>3.0</sides>\n",
      "  </row>\n",
      "</data>\n"
     ]
    }
   ],
   "source": [
    "df = pd.DataFrame({'shape': ['square', 'circle', 'triangle'],\n",
    "                   'degrees': [360, 360, 180],\n",
    "                   'sides': [4, np.nan, 3]})\n",
    "print(df.to_xml())  "
   ]
  },
  {
   "cell_type": "markdown",
   "id": "65d8e3e6",
   "metadata": {},
   "source": [
    "# transform\n",
    "- Call func on self producing a DataFrame with the same axis shape as self."
   ]
  },
  {
   "cell_type": "code",
   "execution_count": 401,
   "id": "eb7baeb4",
   "metadata": {},
   "outputs": [
    {
     "data": {
      "text/html": [
       "<div>\n",
       "<style scoped>\n",
       "    .dataframe tbody tr th:only-of-type {\n",
       "        vertical-align: middle;\n",
       "    }\n",
       "\n",
       "    .dataframe tbody tr th {\n",
       "        vertical-align: top;\n",
       "    }\n",
       "\n",
       "    .dataframe thead th {\n",
       "        text-align: right;\n",
       "    }\n",
       "</style>\n",
       "<table border=\"1\" class=\"dataframe\">\n",
       "  <thead>\n",
       "    <tr style=\"text-align: right;\">\n",
       "      <th></th>\n",
       "      <th>A</th>\n",
       "      <th>B</th>\n",
       "    </tr>\n",
       "  </thead>\n",
       "  <tbody>\n",
       "    <tr>\n",
       "      <th>0</th>\n",
       "      <td>1</td>\n",
       "      <td>2</td>\n",
       "    </tr>\n",
       "    <tr>\n",
       "      <th>1</th>\n",
       "      <td>2</td>\n",
       "      <td>3</td>\n",
       "    </tr>\n",
       "    <tr>\n",
       "      <th>2</th>\n",
       "      <td>3</td>\n",
       "      <td>4</td>\n",
       "    </tr>\n",
       "  </tbody>\n",
       "</table>\n",
       "</div>"
      ],
      "text/plain": [
       "   A  B\n",
       "0  1  2\n",
       "1  2  3\n",
       "2  3  4"
      ]
     },
     "metadata": {},
     "output_type": "display_data"
    }
   ],
   "source": [
    "df = pd.DataFrame({'A': range(3), 'B': range(1, 4)})\n",
    "display(df.transform(lambda x: x + 1))"
   ]
  },
  {
   "cell_type": "markdown",
   "id": "b70642c3",
   "metadata": {},
   "source": [
    "# transpose\n",
    "- Transpose index and columns.\n",
    "- Reflect the DataFrame over its main diagonal by writing rows as columns and vice-versa. The property T is an accessor to the method transpose()."
   ]
  },
  {
   "cell_type": "code",
   "execution_count": 402,
   "id": "9a6da681",
   "metadata": {},
   "outputs": [
    {
     "data": {
      "text/html": [
       "<div>\n",
       "<style scoped>\n",
       "    .dataframe tbody tr th:only-of-type {\n",
       "        vertical-align: middle;\n",
       "    }\n",
       "\n",
       "    .dataframe tbody tr th {\n",
       "        vertical-align: top;\n",
       "    }\n",
       "\n",
       "    .dataframe thead th {\n",
       "        text-align: right;\n",
       "    }\n",
       "</style>\n",
       "<table border=\"1\" class=\"dataframe\">\n",
       "  <thead>\n",
       "    <tr style=\"text-align: right;\">\n",
       "      <th></th>\n",
       "      <th>col1</th>\n",
       "      <th>col2</th>\n",
       "    </tr>\n",
       "  </thead>\n",
       "  <tbody>\n",
       "    <tr>\n",
       "      <th>0</th>\n",
       "      <td>1</td>\n",
       "      <td>3</td>\n",
       "    </tr>\n",
       "    <tr>\n",
       "      <th>1</th>\n",
       "      <td>2</td>\n",
       "      <td>4</td>\n",
       "    </tr>\n",
       "  </tbody>\n",
       "</table>\n",
       "</div>"
      ],
      "text/plain": [
       "   col1  col2\n",
       "0     1     3\n",
       "1     2     4"
      ]
     },
     "metadata": {},
     "output_type": "display_data"
    },
    {
     "data": {
      "text/html": [
       "<div>\n",
       "<style scoped>\n",
       "    .dataframe tbody tr th:only-of-type {\n",
       "        vertical-align: middle;\n",
       "    }\n",
       "\n",
       "    .dataframe tbody tr th {\n",
       "        vertical-align: top;\n",
       "    }\n",
       "\n",
       "    .dataframe thead th {\n",
       "        text-align: right;\n",
       "    }\n",
       "</style>\n",
       "<table border=\"1\" class=\"dataframe\">\n",
       "  <thead>\n",
       "    <tr style=\"text-align: right;\">\n",
       "      <th></th>\n",
       "      <th>0</th>\n",
       "      <th>1</th>\n",
       "    </tr>\n",
       "  </thead>\n",
       "  <tbody>\n",
       "    <tr>\n",
       "      <th>col1</th>\n",
       "      <td>1</td>\n",
       "      <td>2</td>\n",
       "    </tr>\n",
       "    <tr>\n",
       "      <th>col2</th>\n",
       "      <td>3</td>\n",
       "      <td>4</td>\n",
       "    </tr>\n",
       "  </tbody>\n",
       "</table>\n",
       "</div>"
      ],
      "text/plain": [
       "      0  1\n",
       "col1  1  2\n",
       "col2  3  4"
      ]
     },
     "metadata": {},
     "output_type": "display_data"
    }
   ],
   "source": [
    "d1 = {'col1': [1, 2], 'col2': [3, 4]}\n",
    "df1 = pd.DataFrame(data=d1)\n",
    "display(df1)\n",
    "display(df1.transpose())"
   ]
  },
  {
   "cell_type": "markdown",
   "id": "41cd413a",
   "metadata": {},
   "source": [
    "# truediv\n",
    "- Get Floating division of dataframe and other, element-wise (binary operator truediv).\n",
    "- Equivalent to dataframe / other, but with support to substitute a fill_value for missing data in one of the inputs. With reverse version, rtruediv.\n",
    "- Among flexible wrappers (add, sub, mul, div, floordiv, mod, pow) to arithmetic operators: +, -, *, /, //, %, **."
   ]
  },
  {
   "cell_type": "code",
   "execution_count": 403,
   "id": "bf58487e",
   "metadata": {},
   "outputs": [
    {
     "data": {
      "text/html": [
       "<div>\n",
       "<style scoped>\n",
       "    .dataframe tbody tr th:only-of-type {\n",
       "        vertical-align: middle;\n",
       "    }\n",
       "\n",
       "    .dataframe tbody tr th {\n",
       "        vertical-align: top;\n",
       "    }\n",
       "\n",
       "    .dataframe thead th {\n",
       "        text-align: right;\n",
       "    }\n",
       "</style>\n",
       "<table border=\"1\" class=\"dataframe\">\n",
       "  <thead>\n",
       "    <tr style=\"text-align: right;\">\n",
       "      <th></th>\n",
       "      <th>angles</th>\n",
       "      <th>degrees</th>\n",
       "    </tr>\n",
       "  </thead>\n",
       "  <tbody>\n",
       "    <tr>\n",
       "      <th>circle</th>\n",
       "      <td>0</td>\n",
       "      <td>360</td>\n",
       "    </tr>\n",
       "    <tr>\n",
       "      <th>triangle</th>\n",
       "      <td>3</td>\n",
       "      <td>180</td>\n",
       "    </tr>\n",
       "    <tr>\n",
       "      <th>rectangle</th>\n",
       "      <td>4</td>\n",
       "      <td>360</td>\n",
       "    </tr>\n",
       "  </tbody>\n",
       "</table>\n",
       "</div>"
      ],
      "text/plain": [
       "           angles  degrees\n",
       "circle          0      360\n",
       "triangle        3      180\n",
       "rectangle       4      360"
      ]
     },
     "metadata": {},
     "output_type": "display_data"
    },
    {
     "data": {
      "text/html": [
       "<div>\n",
       "<style scoped>\n",
       "    .dataframe tbody tr th:only-of-type {\n",
       "        vertical-align: middle;\n",
       "    }\n",
       "\n",
       "    .dataframe tbody tr th {\n",
       "        vertical-align: top;\n",
       "    }\n",
       "\n",
       "    .dataframe thead th {\n",
       "        text-align: right;\n",
       "    }\n",
       "</style>\n",
       "<table border=\"1\" class=\"dataframe\">\n",
       "  <thead>\n",
       "    <tr style=\"text-align: right;\">\n",
       "      <th></th>\n",
       "      <th>angles</th>\n",
       "      <th>degrees</th>\n",
       "    </tr>\n",
       "  </thead>\n",
       "  <tbody>\n",
       "    <tr>\n",
       "      <th>circle</th>\n",
       "      <td>0.0E+00</td>\n",
       "      <td>36.0E+00</td>\n",
       "    </tr>\n",
       "    <tr>\n",
       "      <th>triangle</th>\n",
       "      <td>300.0E-03</td>\n",
       "      <td>18.0E+00</td>\n",
       "    </tr>\n",
       "    <tr>\n",
       "      <th>rectangle</th>\n",
       "      <td>400.0E-03</td>\n",
       "      <td>36.0E+00</td>\n",
       "    </tr>\n",
       "  </tbody>\n",
       "</table>\n",
       "</div>"
      ],
      "text/plain": [
       "              angles   degrees\n",
       "circle       0.0E+00  36.0E+00\n",
       "triangle   300.0E-03  18.0E+00\n",
       "rectangle  400.0E-03  36.0E+00"
      ]
     },
     "metadata": {},
     "output_type": "display_data"
    }
   ],
   "source": [
    "df = pd.DataFrame({'angles': [0, 3, 4],\n",
    "                   'degrees': [360, 180, 360]},\n",
    "                  index=['circle', 'triangle', 'rectangle'])\n",
    "display(df)\n",
    "display(df.truediv(10))"
   ]
  },
  {
   "cell_type": "markdown",
   "id": "e4362353",
   "metadata": {},
   "source": [
    "# truncate\n",
    "- Truncate a Series or DataFrame before and after some index value.\n",
    "- This is a useful shorthand for boolean indexing based on index values above or below certain thresholds."
   ]
  },
  {
   "cell_type": "code",
   "execution_count": 404,
   "id": "f744eee5",
   "metadata": {},
   "outputs": [
    {
     "data": {
      "text/html": [
       "<div>\n",
       "<style scoped>\n",
       "    .dataframe tbody tr th:only-of-type {\n",
       "        vertical-align: middle;\n",
       "    }\n",
       "\n",
       "    .dataframe tbody tr th {\n",
       "        vertical-align: top;\n",
       "    }\n",
       "\n",
       "    .dataframe thead th {\n",
       "        text-align: right;\n",
       "    }\n",
       "</style>\n",
       "<table border=\"1\" class=\"dataframe\">\n",
       "  <thead>\n",
       "    <tr style=\"text-align: right;\">\n",
       "      <th></th>\n",
       "      <th>A</th>\n",
       "      <th>B</th>\n",
       "      <th>C</th>\n",
       "    </tr>\n",
       "  </thead>\n",
       "  <tbody>\n",
       "    <tr>\n",
       "      <th>1</th>\n",
       "      <td>a</td>\n",
       "      <td>f</td>\n",
       "      <td>k</td>\n",
       "    </tr>\n",
       "    <tr>\n",
       "      <th>2</th>\n",
       "      <td>b</td>\n",
       "      <td>g</td>\n",
       "      <td>l</td>\n",
       "    </tr>\n",
       "    <tr>\n",
       "      <th>3</th>\n",
       "      <td>c</td>\n",
       "      <td>h</td>\n",
       "      <td>m</td>\n",
       "    </tr>\n",
       "    <tr>\n",
       "      <th>4</th>\n",
       "      <td>d</td>\n",
       "      <td>i</td>\n",
       "      <td>n</td>\n",
       "    </tr>\n",
       "    <tr>\n",
       "      <th>5</th>\n",
       "      <td>e</td>\n",
       "      <td>j</td>\n",
       "      <td>o</td>\n",
       "    </tr>\n",
       "  </tbody>\n",
       "</table>\n",
       "</div>"
      ],
      "text/plain": [
       "   A  B  C\n",
       "1  a  f  k\n",
       "2  b  g  l\n",
       "3  c  h  m\n",
       "4  d  i  n\n",
       "5  e  j  o"
      ]
     },
     "metadata": {},
     "output_type": "display_data"
    },
    {
     "data": {
      "text/html": [
       "<div>\n",
       "<style scoped>\n",
       "    .dataframe tbody tr th:only-of-type {\n",
       "        vertical-align: middle;\n",
       "    }\n",
       "\n",
       "    .dataframe tbody tr th {\n",
       "        vertical-align: top;\n",
       "    }\n",
       "\n",
       "    .dataframe thead th {\n",
       "        text-align: right;\n",
       "    }\n",
       "</style>\n",
       "<table border=\"1\" class=\"dataframe\">\n",
       "  <thead>\n",
       "    <tr style=\"text-align: right;\">\n",
       "      <th></th>\n",
       "      <th>A</th>\n",
       "      <th>B</th>\n",
       "      <th>C</th>\n",
       "    </tr>\n",
       "  </thead>\n",
       "  <tbody>\n",
       "    <tr>\n",
       "      <th>2</th>\n",
       "      <td>b</td>\n",
       "      <td>g</td>\n",
       "      <td>l</td>\n",
       "    </tr>\n",
       "    <tr>\n",
       "      <th>3</th>\n",
       "      <td>c</td>\n",
       "      <td>h</td>\n",
       "      <td>m</td>\n",
       "    </tr>\n",
       "    <tr>\n",
       "      <th>4</th>\n",
       "      <td>d</td>\n",
       "      <td>i</td>\n",
       "      <td>n</td>\n",
       "    </tr>\n",
       "  </tbody>\n",
       "</table>\n",
       "</div>"
      ],
      "text/plain": [
       "   A  B  C\n",
       "2  b  g  l\n",
       "3  c  h  m\n",
       "4  d  i  n"
      ]
     },
     "metadata": {},
     "output_type": "display_data"
    }
   ],
   "source": [
    "df = pd.DataFrame({'A': ['a', 'b', 'c', 'd', 'e'],\n",
    "                   'B': ['f', 'g', 'h', 'i', 'j'],\n",
    "                   'C': ['k', 'l', 'm', 'n', 'o']},\n",
    "                  index=[1, 2, 3, 4, 5])\n",
    "display(df)\n",
    "display(df.truncate(before=2, after=4))"
   ]
  },
  {
   "cell_type": "markdown",
   "id": "8074b7cc",
   "metadata": {},
   "source": [
    "# tz_convert\n",
    "- Convert tz-aware axis to target time zone."
   ]
  },
  {
   "cell_type": "code",
   "execution_count": 405,
   "id": "67154cd9",
   "metadata": {},
   "outputs": [
    {
     "name": "stdout",
     "output_type": "stream",
     "text": [
      "2018-09-15 07:30:00+08:00    1\n",
      "dtype: int64\n"
     ]
    }
   ],
   "source": [
    "s = pd.Series(\n",
    "    [1],\n",
    "    index=pd.DatetimeIndex(['2018-09-15 01:30:00+02:00']),\n",
    ")\n",
    "print(s.tz_convert('Asia/Shanghai'))"
   ]
  },
  {
   "cell_type": "markdown",
   "id": "c7a31dff",
   "metadata": {},
   "source": [
    "# tz_localize\n",
    "- Localize tz-naive index of a Series or DataFrame to target time zone."
   ]
  },
  {
   "cell_type": "code",
   "execution_count": 122,
   "id": "2afa2705",
   "metadata": {},
   "outputs": [
    {
     "data": {
      "text/plain": [
       "2025-09-30 01:30:00+02:00    1\n",
       "dtype: int64"
      ]
     },
     "execution_count": 122,
     "metadata": {},
     "output_type": "execute_result"
    }
   ],
   "source": [
    "s = pd.Series(\n",
    "    [1],\n",
    "    index=pd.DatetimeIndex(['2025-09-30 01:30:00']),\n",
    ")\n",
    "s.tz_localize('CET')"
   ]
  },
  {
   "cell_type": "markdown",
   "id": "19f5c778",
   "metadata": {},
   "source": [
    "# unstack\n",
    "- Pivot a level of the (necessarily hierarchical) index labels.\n",
    "- Returns a DataFrame having a new level of column labels whose inner-most level consists of the pivoted index labels.\n",
    "- If the index is not a MultiIndex, the output will be a Series (the analogue of stack when the columns are not a MultiIndex).\n"
   ]
  },
  {
   "cell_type": "code",
   "execution_count": 120,
   "id": "2116592e",
   "metadata": {},
   "outputs": [
    {
     "data": {
      "text/plain": [
       "one  a    1.0E+00\n",
       "     b    2.0E+00\n",
       "two  a    3.0E+00\n",
       "     b    4.0E+00\n",
       "dtype: float64"
      ]
     },
     "metadata": {},
     "output_type": "display_data"
    },
    {
     "data": {
      "text/html": [
       "<div>\n",
       "<style scoped>\n",
       "    .dataframe tbody tr th:only-of-type {\n",
       "        vertical-align: middle;\n",
       "    }\n",
       "\n",
       "    .dataframe tbody tr th {\n",
       "        vertical-align: top;\n",
       "    }\n",
       "\n",
       "    .dataframe thead th {\n",
       "        text-align: right;\n",
       "    }\n",
       "</style>\n",
       "<table border=\"1\" class=\"dataframe\">\n",
       "  <thead>\n",
       "    <tr style=\"text-align: right;\">\n",
       "      <th></th>\n",
       "      <th>a</th>\n",
       "      <th>b</th>\n",
       "    </tr>\n",
       "  </thead>\n",
       "  <tbody>\n",
       "    <tr>\n",
       "      <th>one</th>\n",
       "      <td>1.0E+00</td>\n",
       "      <td>2.0E+00</td>\n",
       "    </tr>\n",
       "    <tr>\n",
       "      <th>two</th>\n",
       "      <td>3.0E+00</td>\n",
       "      <td>4.0E+00</td>\n",
       "    </tr>\n",
       "  </tbody>\n",
       "</table>\n",
       "</div>"
      ],
      "text/plain": [
       "           a        b\n",
       "one  1.0E+00  2.0E+00\n",
       "two  3.0E+00  4.0E+00"
      ]
     },
     "metadata": {},
     "output_type": "display_data"
    },
    {
     "data": {
      "text/html": [
       "<div>\n",
       "<style scoped>\n",
       "    .dataframe tbody tr th:only-of-type {\n",
       "        vertical-align: middle;\n",
       "    }\n",
       "\n",
       "    .dataframe tbody tr th {\n",
       "        vertical-align: top;\n",
       "    }\n",
       "\n",
       "    .dataframe thead th {\n",
       "        text-align: right;\n",
       "    }\n",
       "</style>\n",
       "<table border=\"1\" class=\"dataframe\">\n",
       "  <thead>\n",
       "    <tr style=\"text-align: right;\">\n",
       "      <th></th>\n",
       "      <th>one</th>\n",
       "      <th>two</th>\n",
       "    </tr>\n",
       "  </thead>\n",
       "  <tbody>\n",
       "    <tr>\n",
       "      <th>a</th>\n",
       "      <td>1.0E+00</td>\n",
       "      <td>3.0E+00</td>\n",
       "    </tr>\n",
       "    <tr>\n",
       "      <th>b</th>\n",
       "      <td>2.0E+00</td>\n",
       "      <td>4.0E+00</td>\n",
       "    </tr>\n",
       "  </tbody>\n",
       "</table>\n",
       "</div>"
      ],
      "text/plain": [
       "       one      two\n",
       "a  1.0E+00  3.0E+00\n",
       "b  2.0E+00  4.0E+00"
      ]
     },
     "metadata": {},
     "output_type": "display_data"
    }
   ],
   "source": [
    "index = pd.MultiIndex.from_tuples([('one', 'a'), ('one', 'b'),\n",
    "                                   ('two', 'a'), ('two', 'b')])\n",
    "s = pd.Series(np.arange(1.0, 5.0), index=index)\n",
    "display(s)\n",
    "display(s.unstack(level=-1))\n",
    "display(s.unstack(level=0))"
   ]
  },
  {
   "cell_type": "markdown",
   "id": "03d02648",
   "metadata": {},
   "source": [
    "# update\n",
    "- Modify in place using non-NA values from another DataFrame.\n",
    "- Aligns on indices. There is no return value."
   ]
  },
  {
   "cell_type": "code",
   "execution_count": 119,
   "id": "9ad04fda",
   "metadata": {},
   "outputs": [
    {
     "data": {
      "text/html": [
       "<div>\n",
       "<style scoped>\n",
       "    .dataframe tbody tr th:only-of-type {\n",
       "        vertical-align: middle;\n",
       "    }\n",
       "\n",
       "    .dataframe tbody tr th {\n",
       "        vertical-align: top;\n",
       "    }\n",
       "\n",
       "    .dataframe thead th {\n",
       "        text-align: right;\n",
       "    }\n",
       "</style>\n",
       "<table border=\"1\" class=\"dataframe\">\n",
       "  <thead>\n",
       "    <tr style=\"text-align: right;\">\n",
       "      <th></th>\n",
       "      <th>A</th>\n",
       "      <th>B</th>\n",
       "    </tr>\n",
       "  </thead>\n",
       "  <tbody>\n",
       "    <tr>\n",
       "      <th>0</th>\n",
       "      <td>1</td>\n",
       "      <td>400</td>\n",
       "    </tr>\n",
       "    <tr>\n",
       "      <th>1</th>\n",
       "      <td>2</td>\n",
       "      <td>500</td>\n",
       "    </tr>\n",
       "    <tr>\n",
       "      <th>2</th>\n",
       "      <td>3</td>\n",
       "      <td>600</td>\n",
       "    </tr>\n",
       "  </tbody>\n",
       "</table>\n",
       "</div>"
      ],
      "text/plain": [
       "   A    B\n",
       "0  1  400\n",
       "1  2  500\n",
       "2  3  600"
      ]
     },
     "metadata": {},
     "output_type": "display_data"
    },
    {
     "data": {
      "text/html": [
       "<div>\n",
       "<style scoped>\n",
       "    .dataframe tbody tr th:only-of-type {\n",
       "        vertical-align: middle;\n",
       "    }\n",
       "\n",
       "    .dataframe tbody tr th {\n",
       "        vertical-align: top;\n",
       "    }\n",
       "\n",
       "    .dataframe thead th {\n",
       "        text-align: right;\n",
       "    }\n",
       "</style>\n",
       "<table border=\"1\" class=\"dataframe\">\n",
       "  <thead>\n",
       "    <tr style=\"text-align: right;\">\n",
       "      <th></th>\n",
       "      <th>B</th>\n",
       "      <th>C</th>\n",
       "    </tr>\n",
       "  </thead>\n",
       "  <tbody>\n",
       "    <tr>\n",
       "      <th>0</th>\n",
       "      <td>4</td>\n",
       "      <td>7</td>\n",
       "    </tr>\n",
       "    <tr>\n",
       "      <th>1</th>\n",
       "      <td>5</td>\n",
       "      <td>8</td>\n",
       "    </tr>\n",
       "    <tr>\n",
       "      <th>2</th>\n",
       "      <td>6</td>\n",
       "      <td>9</td>\n",
       "    </tr>\n",
       "  </tbody>\n",
       "</table>\n",
       "</div>"
      ],
      "text/plain": [
       "   B  C\n",
       "0  4  7\n",
       "1  5  8\n",
       "2  6  9"
      ]
     },
     "metadata": {},
     "output_type": "display_data"
    },
    {
     "data": {
      "text/html": [
       "<div>\n",
       "<style scoped>\n",
       "    .dataframe tbody tr th:only-of-type {\n",
       "        vertical-align: middle;\n",
       "    }\n",
       "\n",
       "    .dataframe tbody tr th {\n",
       "        vertical-align: top;\n",
       "    }\n",
       "\n",
       "    .dataframe thead th {\n",
       "        text-align: right;\n",
       "    }\n",
       "</style>\n",
       "<table border=\"1\" class=\"dataframe\">\n",
       "  <thead>\n",
       "    <tr style=\"text-align: right;\">\n",
       "      <th></th>\n",
       "      <th>A</th>\n",
       "      <th>B</th>\n",
       "    </tr>\n",
       "  </thead>\n",
       "  <tbody>\n",
       "    <tr>\n",
       "      <th>0</th>\n",
       "      <td>1</td>\n",
       "      <td>4</td>\n",
       "    </tr>\n",
       "    <tr>\n",
       "      <th>1</th>\n",
       "      <td>2</td>\n",
       "      <td>5</td>\n",
       "    </tr>\n",
       "    <tr>\n",
       "      <th>2</th>\n",
       "      <td>3</td>\n",
       "      <td>6</td>\n",
       "    </tr>\n",
       "  </tbody>\n",
       "</table>\n",
       "</div>"
      ],
      "text/plain": [
       "   A  B\n",
       "0  1  4\n",
       "1  2  5\n",
       "2  3  6"
      ]
     },
     "metadata": {},
     "output_type": "display_data"
    }
   ],
   "source": [
    "df = pd.DataFrame({'A': [1, 2, 3],\n",
    "                   'B': [400, 500, 600]})\n",
    "new_df = pd.DataFrame({'B': [4, 5, 6],\n",
    "                       'C': [7, 8, 9]})\n",
    "display(df)\n",
    "display(new_df)\n",
    "df.update(new_df)\n",
    "display(df)"
   ]
  },
  {
   "cell_type": "markdown",
   "id": "b11096f3",
   "metadata": {},
   "source": [
    "# value_counts\n",
    "- Return a Series containing the frequency of each distinct row in the Dataframe."
   ]
  },
  {
   "cell_type": "code",
   "execution_count": 117,
   "id": "5ac9c6d3",
   "metadata": {},
   "outputs": [
    {
     "data": {
      "text/html": [
       "<div>\n",
       "<style scoped>\n",
       "    .dataframe tbody tr th:only-of-type {\n",
       "        vertical-align: middle;\n",
       "    }\n",
       "\n",
       "    .dataframe tbody tr th {\n",
       "        vertical-align: top;\n",
       "    }\n",
       "\n",
       "    .dataframe thead th {\n",
       "        text-align: right;\n",
       "    }\n",
       "</style>\n",
       "<table border=\"1\" class=\"dataframe\">\n",
       "  <thead>\n",
       "    <tr style=\"text-align: right;\">\n",
       "      <th></th>\n",
       "      <th>num_legs</th>\n",
       "      <th>num_wings</th>\n",
       "    </tr>\n",
       "  </thead>\n",
       "  <tbody>\n",
       "    <tr>\n",
       "      <th>falcon</th>\n",
       "      <td>2</td>\n",
       "      <td>2</td>\n",
       "    </tr>\n",
       "    <tr>\n",
       "      <th>dog</th>\n",
       "      <td>4</td>\n",
       "      <td>0</td>\n",
       "    </tr>\n",
       "    <tr>\n",
       "      <th>cat</th>\n",
       "      <td>4</td>\n",
       "      <td>0</td>\n",
       "    </tr>\n",
       "    <tr>\n",
       "      <th>ant</th>\n",
       "      <td>6</td>\n",
       "      <td>0</td>\n",
       "    </tr>\n",
       "  </tbody>\n",
       "</table>\n",
       "</div>"
      ],
      "text/plain": [
       "        num_legs  num_wings\n",
       "falcon         2          2\n",
       "dog            4          0\n",
       "cat            4          0\n",
       "ant            6          0"
      ]
     },
     "metadata": {},
     "output_type": "display_data"
    },
    {
     "data": {
      "text/plain": [
       "num_legs  num_wings\n",
       "4         0            2\n",
       "2         2            1\n",
       "6         0            1\n",
       "Name: count, dtype: int64"
      ]
     },
     "metadata": {},
     "output_type": "display_data"
    }
   ],
   "source": [
    "df = pd.DataFrame({'num_legs': [2, 4, 4, 6],\n",
    "                   'num_wings': [2, 0, 0, 0]},\n",
    "                  index=['falcon', 'dog', 'cat', 'ant'])\n",
    "display(df)\n",
    "display(df.value_counts())"
   ]
  },
  {
   "cell_type": "markdown",
   "id": "b7591d47",
   "metadata": {},
   "source": [
    "# values\n",
    "- Return a Numpy representation of the DataFrame.\n",
    "# Note: should use DataFrame.to_numpy() instead"
   ]
  },
  {
   "cell_type": "code",
   "execution_count": 116,
   "id": "da6ef972",
   "metadata": {},
   "outputs": [
    {
     "data": {
      "text/html": [
       "<div>\n",
       "<style scoped>\n",
       "    .dataframe tbody tr th:only-of-type {\n",
       "        vertical-align: middle;\n",
       "    }\n",
       "\n",
       "    .dataframe tbody tr th {\n",
       "        vertical-align: top;\n",
       "    }\n",
       "\n",
       "    .dataframe thead th {\n",
       "        text-align: right;\n",
       "    }\n",
       "</style>\n",
       "<table border=\"1\" class=\"dataframe\">\n",
       "  <thead>\n",
       "    <tr style=\"text-align: right;\">\n",
       "      <th></th>\n",
       "      <th>age</th>\n",
       "      <th>height</th>\n",
       "      <th>weight</th>\n",
       "    </tr>\n",
       "  </thead>\n",
       "  <tbody>\n",
       "    <tr>\n",
       "      <th>0</th>\n",
       "      <td>3</td>\n",
       "      <td>94</td>\n",
       "      <td>31</td>\n",
       "    </tr>\n",
       "    <tr>\n",
       "      <th>1</th>\n",
       "      <td>29</td>\n",
       "      <td>170</td>\n",
       "      <td>115</td>\n",
       "    </tr>\n",
       "  </tbody>\n",
       "</table>\n",
       "</div>"
      ],
      "text/plain": [
       "   age  height  weight\n",
       "0    3      94      31\n",
       "1   29     170     115"
      ]
     },
     "metadata": {},
     "output_type": "display_data"
    },
    {
     "name": "stdout",
     "output_type": "stream",
     "text": [
      "[[  3  94  31]\n",
      " [ 29 170 115]]\n"
     ]
    }
   ],
   "source": [
    "df = pd.DataFrame({'age':    [ 3,  29],\n",
    "                   'height': [94, 170],\n",
    "                   'weight': [31, 115]})\n",
    "display(df)\n",
    "print(df.to_numpy())"
   ]
  },
  {
   "cell_type": "markdown",
   "id": "eef305e3",
   "metadata": {},
   "source": [
    "# var\n",
    "- Return unbiased variance over requested axis.\n",
    "- Normalized by N-1 by default. This can be changed using the ddof argument."
   ]
  },
  {
   "cell_type": "code",
   "execution_count": 109,
   "id": "535168ea",
   "metadata": {},
   "outputs": [
    {
     "data": {
      "text/html": [
       "<div>\n",
       "<style scoped>\n",
       "    .dataframe tbody tr th:only-of-type {\n",
       "        vertical-align: middle;\n",
       "    }\n",
       "\n",
       "    .dataframe tbody tr th {\n",
       "        vertical-align: top;\n",
       "    }\n",
       "\n",
       "    .dataframe thead th {\n",
       "        text-align: right;\n",
       "    }\n",
       "</style>\n",
       "<table border=\"1\" class=\"dataframe\">\n",
       "  <thead>\n",
       "    <tr style=\"text-align: right;\">\n",
       "      <th></th>\n",
       "      <th>age</th>\n",
       "      <th>height</th>\n",
       "    </tr>\n",
       "    <tr>\n",
       "      <th>person_id</th>\n",
       "      <th></th>\n",
       "      <th></th>\n",
       "    </tr>\n",
       "  </thead>\n",
       "  <tbody>\n",
       "    <tr>\n",
       "      <th>0</th>\n",
       "      <td>21</td>\n",
       "      <td>1.6E+00</td>\n",
       "    </tr>\n",
       "    <tr>\n",
       "      <th>1</th>\n",
       "      <td>25</td>\n",
       "      <td>1.9E+00</td>\n",
       "    </tr>\n",
       "    <tr>\n",
       "      <th>2</th>\n",
       "      <td>62</td>\n",
       "      <td>1.5E+00</td>\n",
       "    </tr>\n",
       "    <tr>\n",
       "      <th>3</th>\n",
       "      <td>43</td>\n",
       "      <td>2.0E+00</td>\n",
       "    </tr>\n",
       "  </tbody>\n",
       "</table>\n",
       "</div>"
      ],
      "text/plain": [
       "           age   height\n",
       "person_id              \n",
       "0           21  1.6E+00\n",
       "1           25  1.9E+00\n",
       "2           62  1.5E+00\n",
       "3           43  2.0E+00"
      ]
     },
     "metadata": {},
     "output_type": "display_data"
    },
    {
     "data": {
      "text/plain": [
       "age       352.9E+00\n",
       "height     56.4E-03\n",
       "dtype: float64"
      ]
     },
     "metadata": {},
     "output_type": "display_data"
    }
   ],
   "source": [
    "df = pd.DataFrame({'person_id': [0, 1, 2, 3],\n",
    "                   'age': [21, 25, 62, 43],\n",
    "                   'height': [1.61, 1.87, 1.49, 2.01]}\n",
    "                  ).set_index('person_id')\n",
    "display(df)\n",
    "display(df.var())"
   ]
  },
  {
   "cell_type": "markdown",
   "id": "4754b78b",
   "metadata": {},
   "source": [
    "# where\n",
    "- Replace values where the condition is False."
   ]
  },
  {
   "cell_type": "code",
   "execution_count": 101,
   "id": "5e938997",
   "metadata": {},
   "outputs": [
    {
     "name": "stdout",
     "output_type": "stream",
     "text": [
      "0    10\n",
      "1    10\n",
      "2    10\n",
      "3     3\n",
      "4     4\n",
      "dtype: int64\n"
     ]
    }
   ],
   "source": [
    "s = pd.Series(range(5))\n",
    "print(s.where(s > 2, 10))"
   ]
  },
  {
   "cell_type": "markdown",
   "id": "9d686c7b",
   "metadata": {},
   "source": [
    "# xs\n",
    "- Return cross-section from the Series/DataFrame.\n",
    "- This method takes a key argument to select data at a particular level of a MultiIndex."
   ]
  },
  {
   "cell_type": "code",
   "execution_count": 98,
   "id": "8268d851",
   "metadata": {},
   "outputs": [
    {
     "data": {
      "text/html": [
       "<div>\n",
       "<style scoped>\n",
       "    .dataframe tbody tr th:only-of-type {\n",
       "        vertical-align: middle;\n",
       "    }\n",
       "\n",
       "    .dataframe tbody tr th {\n",
       "        vertical-align: top;\n",
       "    }\n",
       "\n",
       "    .dataframe thead th {\n",
       "        text-align: right;\n",
       "    }\n",
       "</style>\n",
       "<table border=\"1\" class=\"dataframe\">\n",
       "  <thead>\n",
       "    <tr style=\"text-align: right;\">\n",
       "      <th></th>\n",
       "      <th></th>\n",
       "      <th></th>\n",
       "      <th>num_legs</th>\n",
       "      <th>num_wings</th>\n",
       "    </tr>\n",
       "    <tr>\n",
       "      <th>class</th>\n",
       "      <th>animal</th>\n",
       "      <th>locomotion</th>\n",
       "      <th></th>\n",
       "      <th></th>\n",
       "    </tr>\n",
       "  </thead>\n",
       "  <tbody>\n",
       "    <tr>\n",
       "      <th rowspan=\"3\" valign=\"top\">mammal</th>\n",
       "      <th>cat</th>\n",
       "      <th>walks</th>\n",
       "      <td>4</td>\n",
       "      <td>0</td>\n",
       "    </tr>\n",
       "    <tr>\n",
       "      <th>dog</th>\n",
       "      <th>walks</th>\n",
       "      <td>4</td>\n",
       "      <td>0</td>\n",
       "    </tr>\n",
       "    <tr>\n",
       "      <th>bat</th>\n",
       "      <th>flies</th>\n",
       "      <td>2</td>\n",
       "      <td>2</td>\n",
       "    </tr>\n",
       "    <tr>\n",
       "      <th>bird</th>\n",
       "      <th>penguin</th>\n",
       "      <th>walks</th>\n",
       "      <td>2</td>\n",
       "      <td>2</td>\n",
       "    </tr>\n",
       "  </tbody>\n",
       "</table>\n",
       "</div>"
      ],
      "text/plain": [
       "                           num_legs  num_wings\n",
       "class  animal  locomotion                     \n",
       "mammal cat     walks              4          0\n",
       "       dog     walks              4          0\n",
       "       bat     flies              2          2\n",
       "bird   penguin walks              2          2"
      ]
     },
     "metadata": {},
     "output_type": "display_data"
    },
    {
     "data": {
      "text/html": [
       "<div>\n",
       "<style scoped>\n",
       "    .dataframe tbody tr th:only-of-type {\n",
       "        vertical-align: middle;\n",
       "    }\n",
       "\n",
       "    .dataframe tbody tr th {\n",
       "        vertical-align: top;\n",
       "    }\n",
       "\n",
       "    .dataframe thead th {\n",
       "        text-align: right;\n",
       "    }\n",
       "</style>\n",
       "<table border=\"1\" class=\"dataframe\">\n",
       "  <thead>\n",
       "    <tr style=\"text-align: right;\">\n",
       "      <th></th>\n",
       "      <th></th>\n",
       "      <th>num_legs</th>\n",
       "      <th>num_wings</th>\n",
       "    </tr>\n",
       "    <tr>\n",
       "      <th>animal</th>\n",
       "      <th>locomotion</th>\n",
       "      <th></th>\n",
       "      <th></th>\n",
       "    </tr>\n",
       "  </thead>\n",
       "  <tbody>\n",
       "    <tr>\n",
       "      <th>cat</th>\n",
       "      <th>walks</th>\n",
       "      <td>4</td>\n",
       "      <td>0</td>\n",
       "    </tr>\n",
       "    <tr>\n",
       "      <th>dog</th>\n",
       "      <th>walks</th>\n",
       "      <td>4</td>\n",
       "      <td>0</td>\n",
       "    </tr>\n",
       "    <tr>\n",
       "      <th>bat</th>\n",
       "      <th>flies</th>\n",
       "      <td>2</td>\n",
       "      <td>2</td>\n",
       "    </tr>\n",
       "  </tbody>\n",
       "</table>\n",
       "</div>"
      ],
      "text/plain": [
       "                   num_legs  num_wings\n",
       "animal locomotion                     \n",
       "cat    walks              4          0\n",
       "dog    walks              4          0\n",
       "bat    flies              2          2"
      ]
     },
     "metadata": {},
     "output_type": "display_data"
    },
    {
     "data": {
      "text/html": [
       "<div>\n",
       "<style scoped>\n",
       "    .dataframe tbody tr th:only-of-type {\n",
       "        vertical-align: middle;\n",
       "    }\n",
       "\n",
       "    .dataframe tbody tr th {\n",
       "        vertical-align: top;\n",
       "    }\n",
       "\n",
       "    .dataframe thead th {\n",
       "        text-align: right;\n",
       "    }\n",
       "</style>\n",
       "<table border=\"1\" class=\"dataframe\">\n",
       "  <thead>\n",
       "    <tr style=\"text-align: right;\">\n",
       "      <th></th>\n",
       "      <th></th>\n",
       "      <th>num_legs</th>\n",
       "      <th>num_wings</th>\n",
       "    </tr>\n",
       "    <tr>\n",
       "      <th>animal</th>\n",
       "      <th>locomotion</th>\n",
       "      <th></th>\n",
       "      <th></th>\n",
       "    </tr>\n",
       "  </thead>\n",
       "  <tbody>\n",
       "    <tr>\n",
       "      <th>penguin</th>\n",
       "      <th>walks</th>\n",
       "      <td>2</td>\n",
       "      <td>2</td>\n",
       "    </tr>\n",
       "  </tbody>\n",
       "</table>\n",
       "</div>"
      ],
      "text/plain": [
       "                    num_legs  num_wings\n",
       "animal  locomotion                     \n",
       "penguin walks              2          2"
      ]
     },
     "metadata": {},
     "output_type": "display_data"
    }
   ],
   "source": [
    "d = {'num_legs': [4, 4, 2, 2],\n",
    "     'num_wings': [0, 0, 2, 2],\n",
    "     'class': ['mammal', 'mammal', 'mammal', 'bird'],\n",
    "     'animal': ['cat', 'dog', 'bat', 'penguin'],\n",
    "     'locomotion': ['walks', 'walks', 'flies', 'walks']}\n",
    "df = pd.DataFrame(data=d)\n",
    "df = df.set_index(['class', 'animal', 'locomotion'])\n",
    "display(df)\n",
    "display(df.xs('mammal'))\n",
    "display(df.xs('bird'))"
   ]
  },
  {
   "cell_type": "markdown",
   "id": "1e7f16a0",
   "metadata": {},
   "source": [
    "# plotting (lib)"
   ]
  },
  {
   "cell_type": "markdown",
   "id": "ae3aa8c9",
   "metadata": {},
   "source": [
    "# andrews_curves"
   ]
  },
  {
   "cell_type": "code",
   "execution_count": null,
   "id": "664a98fe",
   "metadata": {},
   "outputs": [],
   "source": []
  },
  {
   "cell_type": "markdown",
   "id": "766e9a99",
   "metadata": {},
   "source": [
    "# autocorrelation_plot"
   ]
  },
  {
   "cell_type": "code",
   "execution_count": null,
   "id": "07f13899",
   "metadata": {},
   "outputs": [],
   "source": []
  },
  {
   "cell_type": "markdown",
   "id": "50253ff7",
   "metadata": {},
   "source": [
    "# bootstrap_plot"
   ]
  },
  {
   "cell_type": "code",
   "execution_count": null,
   "id": "91f8dd95",
   "metadata": {},
   "outputs": [],
   "source": []
  },
  {
   "cell_type": "markdown",
   "id": "3cfc40b7",
   "metadata": {},
   "source": [
    "# boxplot"
   ]
  },
  {
   "cell_type": "code",
   "execution_count": null,
   "id": "d734046c",
   "metadata": {},
   "outputs": [],
   "source": []
  },
  {
   "cell_type": "markdown",
   "id": "bb81eaf2",
   "metadata": {},
   "source": [
    "# boxplot_frame"
   ]
  },
  {
   "cell_type": "code",
   "execution_count": null,
   "id": "36226a36",
   "metadata": {},
   "outputs": [],
   "source": []
  },
  {
   "cell_type": "markdown",
   "id": "2638074b",
   "metadata": {},
   "source": [
    "# boxplot_frame_groupby"
   ]
  },
  {
   "cell_type": "code",
   "execution_count": null,
   "id": "24f57e67",
   "metadata": {},
   "outputs": [],
   "source": []
  },
  {
   "cell_type": "markdown",
   "id": "80ff9044",
   "metadata": {},
   "source": [
    "# deregister_matplotlib_converters"
   ]
  },
  {
   "cell_type": "code",
   "execution_count": null,
   "id": "5b246edd",
   "metadata": {},
   "outputs": [],
   "source": []
  },
  {
   "cell_type": "markdown",
   "id": "d0a05827",
   "metadata": {},
   "source": [
    "# hist_frame"
   ]
  },
  {
   "cell_type": "code",
   "execution_count": null,
   "id": "1eb34151",
   "metadata": {},
   "outputs": [],
   "source": []
  },
  {
   "cell_type": "markdown",
   "id": "84f8acac",
   "metadata": {},
   "source": [
    "# hist_series"
   ]
  },
  {
   "cell_type": "code",
   "execution_count": null,
   "id": "0da9af61",
   "metadata": {},
   "outputs": [],
   "source": []
  },
  {
   "cell_type": "markdown",
   "id": "be660eda",
   "metadata": {},
   "source": [
    "# lag_plot"
   ]
  },
  {
   "cell_type": "code",
   "execution_count": null,
   "id": "dbdfe0be",
   "metadata": {},
   "outputs": [],
   "source": []
  },
  {
   "cell_type": "markdown",
   "id": "ab820c65",
   "metadata": {},
   "source": [
    "# parallel_coordinates"
   ]
  },
  {
   "cell_type": "code",
   "execution_count": null,
   "id": "4b64b1dd",
   "metadata": {},
   "outputs": [],
   "source": []
  },
  {
   "cell_type": "markdown",
   "id": "fbbecccc",
   "metadata": {},
   "source": [
    "# plot_params"
   ]
  },
  {
   "cell_type": "code",
   "execution_count": null,
   "id": "9e9c24ce",
   "metadata": {},
   "outputs": [],
   "source": []
  },
  {
   "cell_type": "markdown",
   "id": "31f76120",
   "metadata": {},
   "source": [
    "# radviz"
   ]
  },
  {
   "cell_type": "code",
   "execution_count": null,
   "id": "06a5ca39",
   "metadata": {},
   "outputs": [],
   "source": []
  },
  {
   "cell_type": "markdown",
   "id": "65b6a5fc",
   "metadata": {},
   "source": [
    "# register_matplotlib_converters"
   ]
  },
  {
   "cell_type": "code",
   "execution_count": null,
   "id": "b9795a70",
   "metadata": {},
   "outputs": [],
   "source": []
  },
  {
   "cell_type": "markdown",
   "id": "9607675e",
   "metadata": {},
   "source": [
    "# scatter_matrix"
   ]
  },
  {
   "cell_type": "code",
   "execution_count": null,
   "id": "30a039ec",
   "metadata": {},
   "outputs": [],
   "source": []
  },
  {
   "cell_type": "markdown",
   "id": "033617a5",
   "metadata": {},
   "source": [
    "# table"
   ]
  },
  {
   "cell_type": "code",
   "execution_count": null,
   "id": "afd312e5",
   "metadata": {},
   "outputs": [],
   "source": []
  }
 ],
 "metadata": {
  "kernelspec": {
   "display_name": "Python 3",
   "language": "python",
   "name": "python3"
  },
  "language_info": {
   "codemirror_mode": {
    "name": "ipython",
    "version": 3
   },
   "file_extension": ".py",
   "mimetype": "text/x-python",
   "name": "python",
   "nbconvert_exporter": "python",
   "pygments_lexer": "ipython3",
   "version": "3.13.5"
  }
 },
 "nbformat": 4,
 "nbformat_minor": 5
}
