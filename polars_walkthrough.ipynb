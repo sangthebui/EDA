{
 "cells": [
  {
   "cell_type": "code",
   "execution_count": 1,
   "id": "f975f308",
   "metadata": {},
   "outputs": [],
   "source": [
    "import polars as pl\n",
    "import numpy as np"
   ]
  },
  {
   "cell_type": "code",
   "execution_count": 2,
   "id": "1766e662",
   "metadata": {},
   "outputs": [
    {
     "data": {
      "text/plain": [
       "'1.33.1'"
      ]
     },
     "execution_count": 2,
     "metadata": {},
     "output_type": "execute_result"
    }
   ],
   "source": [
    "pl.__version__\n"
   ]
  },
  {
   "cell_type": "markdown",
   "id": "0c756571",
   "metadata": {},
   "source": [
    "# Loading Data"
   ]
  },
  {
   "cell_type": "code",
   "execution_count": 3,
   "id": "37193e86",
   "metadata": {},
   "outputs": [],
   "source": [
    "file = \"train_and_test2.csv\"\n",
    "df = pl.read_csv(file) #, parse_dates=True"
   ]
  },
  {
   "cell_type": "code",
   "execution_count": 4,
   "id": "2edd8f14",
   "metadata": {},
   "outputs": [
    {
     "data": {
      "text/html": [
       "<div><style>\n",
       ".dataframe > thead > tr,\n",
       ".dataframe > tbody > tr {\n",
       "  text-align: right;\n",
       "  white-space: pre-wrap;\n",
       "}\n",
       "</style>\n",
       "<small>shape: (1_309, 28)</small><table border=\"1\" class=\"dataframe\"><thead><tr><th>Passengerid</th><th>Age</th><th>Fare</th><th>Sex</th><th>sibsp</th><th>zero</th><th>zero_duplicated_0</th><th>zero_duplicated_1</th><th>zero_duplicated_2</th><th>zero_duplicated_3</th><th>zero_duplicated_4</th><th>zero_duplicated_5</th><th>Parch</th><th>zero_duplicated_6</th><th>zero_duplicated_7</th><th>zero_duplicated_8</th><th>zero_duplicated_9</th><th>zero_duplicated_10</th><th>zero_duplicated_11</th><th>zero_duplicated_12</th><th>zero_duplicated_13</th><th>Pclass</th><th>zero_duplicated_14</th><th>zero_duplicated_15</th><th>Embarked</th><th>zero_duplicated_16</th><th>zero_duplicated_17</th><th>2urvived</th></tr><tr><td>i64</td><td>f64</td><td>f64</td><td>i64</td><td>i64</td><td>i64</td><td>i64</td><td>i64</td><td>i64</td><td>i64</td><td>i64</td><td>i64</td><td>i64</td><td>i64</td><td>i64</td><td>i64</td><td>i64</td><td>i64</td><td>i64</td><td>i64</td><td>i64</td><td>i64</td><td>i64</td><td>i64</td><td>i64</td><td>i64</td><td>i64</td><td>i64</td></tr></thead><tbody><tr><td>1</td><td>22.0</td><td>7.25</td><td>0</td><td>1</td><td>0</td><td>0</td><td>0</td><td>0</td><td>0</td><td>0</td><td>0</td><td>0</td><td>0</td><td>0</td><td>0</td><td>0</td><td>0</td><td>0</td><td>0</td><td>0</td><td>3</td><td>0</td><td>0</td><td>2</td><td>0</td><td>0</td><td>0</td></tr><tr><td>2</td><td>38.0</td><td>71.2833</td><td>1</td><td>1</td><td>0</td><td>0</td><td>0</td><td>0</td><td>0</td><td>0</td><td>0</td><td>0</td><td>0</td><td>0</td><td>0</td><td>0</td><td>0</td><td>0</td><td>0</td><td>0</td><td>1</td><td>0</td><td>0</td><td>0</td><td>0</td><td>0</td><td>1</td></tr><tr><td>3</td><td>26.0</td><td>7.925</td><td>1</td><td>0</td><td>0</td><td>0</td><td>0</td><td>0</td><td>0</td><td>0</td><td>0</td><td>0</td><td>0</td><td>0</td><td>0</td><td>0</td><td>0</td><td>0</td><td>0</td><td>0</td><td>3</td><td>0</td><td>0</td><td>2</td><td>0</td><td>0</td><td>1</td></tr><tr><td>4</td><td>35.0</td><td>53.1</td><td>1</td><td>1</td><td>0</td><td>0</td><td>0</td><td>0</td><td>0</td><td>0</td><td>0</td><td>0</td><td>0</td><td>0</td><td>0</td><td>0</td><td>0</td><td>0</td><td>0</td><td>0</td><td>1</td><td>0</td><td>0</td><td>2</td><td>0</td><td>0</td><td>1</td></tr><tr><td>5</td><td>35.0</td><td>8.05</td><td>0</td><td>0</td><td>0</td><td>0</td><td>0</td><td>0</td><td>0</td><td>0</td><td>0</td><td>0</td><td>0</td><td>0</td><td>0</td><td>0</td><td>0</td><td>0</td><td>0</td><td>0</td><td>3</td><td>0</td><td>0</td><td>2</td><td>0</td><td>0</td><td>0</td></tr><tr><td>&hellip;</td><td>&hellip;</td><td>&hellip;</td><td>&hellip;</td><td>&hellip;</td><td>&hellip;</td><td>&hellip;</td><td>&hellip;</td><td>&hellip;</td><td>&hellip;</td><td>&hellip;</td><td>&hellip;</td><td>&hellip;</td><td>&hellip;</td><td>&hellip;</td><td>&hellip;</td><td>&hellip;</td><td>&hellip;</td><td>&hellip;</td><td>&hellip;</td><td>&hellip;</td><td>&hellip;</td><td>&hellip;</td><td>&hellip;</td><td>&hellip;</td><td>&hellip;</td><td>&hellip;</td><td>&hellip;</td></tr><tr><td>1305</td><td>28.0</td><td>8.05</td><td>0</td><td>0</td><td>0</td><td>0</td><td>0</td><td>0</td><td>0</td><td>0</td><td>0</td><td>0</td><td>0</td><td>0</td><td>0</td><td>0</td><td>0</td><td>0</td><td>0</td><td>0</td><td>3</td><td>0</td><td>0</td><td>2</td><td>0</td><td>0</td><td>0</td></tr><tr><td>1306</td><td>39.0</td><td>108.9</td><td>1</td><td>0</td><td>0</td><td>0</td><td>0</td><td>0</td><td>0</td><td>0</td><td>0</td><td>0</td><td>0</td><td>0</td><td>0</td><td>0</td><td>0</td><td>0</td><td>0</td><td>0</td><td>1</td><td>0</td><td>0</td><td>0</td><td>0</td><td>0</td><td>0</td></tr><tr><td>1307</td><td>38.5</td><td>7.25</td><td>0</td><td>0</td><td>0</td><td>0</td><td>0</td><td>0</td><td>0</td><td>0</td><td>0</td><td>0</td><td>0</td><td>0</td><td>0</td><td>0</td><td>0</td><td>0</td><td>0</td><td>0</td><td>3</td><td>0</td><td>0</td><td>2</td><td>0</td><td>0</td><td>0</td></tr><tr><td>1308</td><td>28.0</td><td>8.05</td><td>0</td><td>0</td><td>0</td><td>0</td><td>0</td><td>0</td><td>0</td><td>0</td><td>0</td><td>0</td><td>0</td><td>0</td><td>0</td><td>0</td><td>0</td><td>0</td><td>0</td><td>0</td><td>3</td><td>0</td><td>0</td><td>2</td><td>0</td><td>0</td><td>0</td></tr><tr><td>1309</td><td>28.0</td><td>22.3583</td><td>0</td><td>1</td><td>0</td><td>0</td><td>0</td><td>0</td><td>0</td><td>0</td><td>0</td><td>1</td><td>0</td><td>0</td><td>0</td><td>0</td><td>0</td><td>0</td><td>0</td><td>0</td><td>3</td><td>0</td><td>0</td><td>0</td><td>0</td><td>0</td><td>0</td></tr></tbody></table></div>"
      ],
      "text/plain": [
       "shape: (1_309, 28)\n",
       "┌─────────────┬──────┬─────────┬─────┬───┬──────────┬─────────────────┬─────────────────┬──────────┐\n",
       "│ Passengerid ┆ Age  ┆ Fare    ┆ Sex ┆ … ┆ Embarked ┆ zero_duplicated ┆ zero_duplicated ┆ 2urvived │\n",
       "│ ---         ┆ ---  ┆ ---     ┆ --- ┆   ┆ ---      ┆ _16             ┆ _17             ┆ ---      │\n",
       "│ i64         ┆ f64  ┆ f64     ┆ i64 ┆   ┆ i64      ┆ ---             ┆ ---             ┆ i64      │\n",
       "│             ┆      ┆         ┆     ┆   ┆          ┆ i64             ┆ i64             ┆          │\n",
       "╞═════════════╪══════╪═════════╪═════╪═══╪══════════╪═════════════════╪═════════════════╪══════════╡\n",
       "│ 1           ┆ 22.0 ┆ 7.25    ┆ 0   ┆ … ┆ 2        ┆ 0               ┆ 0               ┆ 0        │\n",
       "│ 2           ┆ 38.0 ┆ 71.2833 ┆ 1   ┆ … ┆ 0        ┆ 0               ┆ 0               ┆ 1        │\n",
       "│ 3           ┆ 26.0 ┆ 7.925   ┆ 1   ┆ … ┆ 2        ┆ 0               ┆ 0               ┆ 1        │\n",
       "│ 4           ┆ 35.0 ┆ 53.1    ┆ 1   ┆ … ┆ 2        ┆ 0               ┆ 0               ┆ 1        │\n",
       "│ 5           ┆ 35.0 ┆ 8.05    ┆ 0   ┆ … ┆ 2        ┆ 0               ┆ 0               ┆ 0        │\n",
       "│ …           ┆ …    ┆ …       ┆ …   ┆ … ┆ …        ┆ …               ┆ …               ┆ …        │\n",
       "│ 1305        ┆ 28.0 ┆ 8.05    ┆ 0   ┆ … ┆ 2        ┆ 0               ┆ 0               ┆ 0        │\n",
       "│ 1306        ┆ 39.0 ┆ 108.9   ┆ 1   ┆ … ┆ 0        ┆ 0               ┆ 0               ┆ 0        │\n",
       "│ 1307        ┆ 38.5 ┆ 7.25    ┆ 0   ┆ … ┆ 2        ┆ 0               ┆ 0               ┆ 0        │\n",
       "│ 1308        ┆ 28.0 ┆ 8.05    ┆ 0   ┆ … ┆ 2        ┆ 0               ┆ 0               ┆ 0        │\n",
       "│ 1309        ┆ 28.0 ┆ 22.3583 ┆ 0   ┆ … ┆ 0        ┆ 0               ┆ 0               ┆ 0        │\n",
       "└─────────────┴──────┴─────────┴─────┴───┴──────────┴─────────────────┴─────────────────┴──────────┘"
      ]
     },
     "execution_count": 4,
     "metadata": {},
     "output_type": "execute_result"
    }
   ],
   "source": [
    "df"
   ]
  },
  {
   "cell_type": "code",
   "execution_count": 5,
   "id": "d992b0f6",
   "metadata": {},
   "outputs": [
    {
     "name": "stdout",
     "output_type": "stream",
     "text": [
      "['Any', 'Array', 'BasePartitionContext', 'Binary', 'Boolean', 'Catalog', 'Categorical', 'Categories', 'CompatLevel', 'Config', 'CredentialProvider', 'CredentialProviderAWS', 'CredentialProviderAzure', 'CredentialProviderFunction', 'CredentialProviderFunctionReturn', 'CredentialProviderGCP', 'DataFrame', 'DataType', 'DataTypeExpr', 'Date', 'Datetime', 'Decimal', 'Duration', 'Enum', 'Expr', 'Field', 'Float32', 'Float64', 'GPUEngine', 'Int128', 'Int16', 'Int32', 'Int64', 'Int8', 'KeyedPartition', 'KeyedPartitionContext', 'LazyFrame', 'List', 'Null', 'Object', 'PartitionByKey', 'PartitionMaxSize', 'PartitionParted', 'QueryOptFlags', 'SQLContext', 'ScanCastOptions', 'Schema', 'Series', 'String', 'StringCache', 'Struct', 'TYPE_CHECKING', 'Time', 'UInt16', 'UInt32', 'UInt64', 'UInt8', 'Unknown', 'Utf8', '__all__', '__annotations__', '__builtins__', '__cached__', '__doc__', '__file__', '__getattr__', '__loader__', '__name__', '__package__', '__path__', '__register_startup_deps', '__spec__', '__version__', '_cpu_check', '_plr', '_reexport', '_typing', '_utils', 'align_frames', 'all', 'all_horizontal', 'any', 'any_horizontal', 'api', 'approx_n_unique', 'arange', 'arctan2', 'arctan2d', 'arg_sort_by', 'arg_where', 'build_info', 'business_day_count', 'catalog', 'coalesce', 'col', 'collect_all', 'collect_all_async', 'concat', 'concat_arr', 'concat_list', 'concat_str', 'config', 'contextlib', 'convert', 'corr', 'count', 'cov', 'cum_count', 'cum_fold', 'cum_reduce', 'cum_sum', 'cum_sum_horizontal', 'dataframe', 'datatype_expr', 'datatypes', 'date', 'date_range', 'date_ranges', 'datetime', 'datetime_range', 'datetime_ranges', 'defer', 'dependencies', 'disable_string_cache', 'dtype_of', 'duration', 'element', 'enable_string_cache', 'escape_regex', 'exceptions', 'exclude', 'explain_all', 'expr', 'field', 'first', 'fold', 'format', 'from_arrow', 'from_dataframe', 'from_dict', 'from_dicts', 'from_epoch', 'from_numpy', 'from_pandas', 'from_records', 'from_repr', 'from_torch', 'functions', 'get_index_type', 'groups', 'head', 'implode', 'int_range', 'int_ranges', 'interchange', 'io', 'jemalloc_conf', 'json_normalize', 'last', 'lazyframe', 'len', 'linear_space', 'linear_spaces', 'lit', 'map_batches', 'map_groups', 'max', 'max_horizontal', 'mean', 'mean_horizontal', 'median', 'meta', 'min', 'min_horizontal', 'n_unique', 'nth', 'ones', 'os', 'override', 'plugins', 'polars', 'quantile', 'read_avro', 'read_clipboard', 'read_csv', 'read_csv_batched', 'read_database', 'read_database_uri', 'read_delta', 'read_excel', 'read_ipc', 'read_ipc_schema', 'read_ipc_stream', 'read_json', 'read_ndjson', 'read_ods', 'read_parquet', 'read_parquet_metadata', 'read_parquet_schema', 'reduce', 'repeat', 'rolling_corr', 'rolling_cov', 'row_index', 'scan_csv', 'scan_delta', 'scan_iceberg', 'scan_ipc', 'scan_ndjson', 'scan_parquet', 'scan_pyarrow_dataset', 'schema', 'select', 'selectors', 'self_dtype', 'series', 'set_random_seed', 'show_versions', 'sql', 'sql_expr', 'std', 'string_cache', 'struct', 'struct_with_fields', 'sum', 'sum_horizontal', 'tail', 'thread_pool_size', 'threadpool_size', 'time', 'time_range', 'time_ranges', 'using_string_cache', 'var', 'when', 'wrap_df', 'wrap_s', 'zeros']\n"
     ]
    }
   ],
   "source": [
    "print(dir(pl))"
   ]
  },
  {
   "cell_type": "code",
   "execution_count": 6,
   "id": "7bc4461f",
   "metadata": {},
   "outputs": [
    {
     "name": "stdout",
     "output_type": "stream",
     "text": [
      "238\n"
     ]
    }
   ],
   "source": [
    "print(len(dir(pl)))"
   ]
  },
  {
   "cell_type": "code",
   "execution_count": 7,
   "id": "df621a25",
   "metadata": {},
   "outputs": [
    {
     "name": "stdout",
     "output_type": "stream",
     "text": [
      "['__abs__', '__add__', '__and__', '__annotations__', '__array_ufunc__', '__bool__', '__class__', '__delattr__', '__dict__', '__dir__', '__doc__', '__eq__', '__firstlineno__', '__floordiv__', '__format__', '__ge__', '__getattribute__', '__getstate__', '__gt__', '__hash__', '__init__', '__init_subclass__', '__invert__', '__le__', '__lt__', '__mod__', '__module__', '__mul__', '__ne__', '__neg__', '__new__', '__or__', '__pos__', '__pow__', '__radd__', '__rand__', '__reduce__', '__reduce_ex__', '__repr__', '__rfloordiv__', '__rmod__', '__rmul__', '__ror__', '__rpow__', '__rsub__', '__rtruediv__', '__rxor__', '__setattr__', '__setstate__', '__sizeof__', '__static_attributes__', '__str__', '__sub__', '__subclasshook__', '__truediv__', '__weakref__', '__xor__', '_accessors', '_from_pyexpr', '_pyexpr', '_repr_html_', '_row_decode', '_row_encode', '_skip_batch_predicate', 'abs', 'add', 'agg_groups', 'alias', 'all', 'and_', 'any', 'append', 'approx_n_unique', 'arccos', 'arccosh', 'arcsin', 'arcsinh', 'arctan', 'arctanh', 'arg_max', 'arg_min', 'arg_sort', 'arg_true', 'arg_unique', 'arr', 'backward_fill', 'bin', 'bitwise_and', 'bitwise_count_ones', 'bitwise_count_zeros', 'bitwise_leading_ones', 'bitwise_leading_zeros', 'bitwise_or', 'bitwise_trailing_ones', 'bitwise_trailing_zeros', 'bitwise_xor', 'bottom_k', 'bottom_k_by', 'cast', 'cat', 'cbrt', 'ceil', 'clip', 'cos', 'cosh', 'cot', 'count', 'cum_count', 'cum_max', 'cum_min', 'cum_prod', 'cum_sum', 'cumulative_eval', 'cut', 'degrees', 'deserialize', 'diff', 'dot', 'drop_nans', 'drop_nulls', 'dt', 'entropy', 'eq', 'eq_missing', 'ewm_mean', 'ewm_mean_by', 'ewm_std', 'ewm_var', 'exclude', 'exp', 'explode', 'extend_constant', 'fill_nan', 'fill_null', 'filter', 'first', 'flatten', 'floor', 'floordiv', 'forward_fill', 'from_json', 'gather', 'gather_every', 'ge', 'get', 'gt', 'has_nulls', 'hash', 'head', 'hist', 'implode', 'index_of', 'inspect', 'interpolate', 'interpolate_by', 'is_between', 'is_close', 'is_duplicated', 'is_finite', 'is_first_distinct', 'is_in', 'is_infinite', 'is_last_distinct', 'is_nan', 'is_not_nan', 'is_not_null', 'is_null', 'is_unique', 'kurtosis', 'last', 'le', 'len', 'limit', 'list', 'log', 'log10', 'log1p', 'lower_bound', 'lt', 'map_batches', 'map_elements', 'max', 'mean', 'median', 'meta', 'min', 'mod', 'mode', 'mul', 'n_unique', 'name', 'nan_max', 'nan_min', 'ne', 'ne_missing', 'neg', 'not_', 'null_count', 'or_', 'over', 'pct_change', 'peak_max', 'peak_min', 'pipe', 'pow', 'product', 'qcut', 'quantile', 'radians', 'rank', 'rechunk', 'register_plugin', 'reinterpret', 'repeat_by', 'replace', 'replace_strict', 'reshape', 'reverse', 'rle', 'rle_id', 'rolling', 'rolling_kurtosis', 'rolling_map', 'rolling_max', 'rolling_max_by', 'rolling_mean', 'rolling_mean_by', 'rolling_median', 'rolling_median_by', 'rolling_min', 'rolling_min_by', 'rolling_quantile', 'rolling_quantile_by', 'rolling_skew', 'rolling_std', 'rolling_std_by', 'rolling_sum', 'rolling_sum_by', 'rolling_var', 'rolling_var_by', 'round', 'round_sig_figs', 'sample', 'search_sorted', 'set_sorted', 'shift', 'shrink_dtype', 'shuffle', 'sign', 'sin', 'sinh', 'skew', 'slice', 'sort', 'sort_by', 'sqrt', 'std', 'str', 'struct', 'sub', 'sum', 'tail', 'tan', 'tanh', 'to_physical', 'top_k', 'top_k_by', 'truediv', 'unique', 'unique_counts', 'upper_bound', 'value_counts', 'var', 'where', 'xor']\n"
     ]
    }
   ],
   "source": [
    "print(dir(pl.col('foo')))"
   ]
  },
  {
   "cell_type": "code",
   "execution_count": 8,
   "id": "62d060db",
   "metadata": {},
   "outputs": [
    {
     "data": {
      "text/plain": [
       "['Passengerid',\n",
       " 'Age',\n",
       " 'Fare',\n",
       " 'Sex',\n",
       " 'sibsp',\n",
       " 'zero',\n",
       " 'zero_duplicated_0',\n",
       " 'zero_duplicated_1',\n",
       " 'zero_duplicated_2',\n",
       " 'zero_duplicated_3',\n",
       " 'zero_duplicated_4',\n",
       " 'zero_duplicated_5',\n",
       " 'Parch',\n",
       " 'zero_duplicated_6',\n",
       " 'zero_duplicated_7',\n",
       " 'zero_duplicated_8',\n",
       " 'zero_duplicated_9',\n",
       " 'zero_duplicated_10',\n",
       " 'zero_duplicated_11',\n",
       " 'zero_duplicated_12',\n",
       " 'zero_duplicated_13',\n",
       " 'Pclass',\n",
       " 'zero_duplicated_14',\n",
       " 'zero_duplicated_15',\n",
       " 'Embarked',\n",
       " 'zero_duplicated_16',\n",
       " 'zero_duplicated_17',\n",
       " '2urvived']"
      ]
     },
     "execution_count": 8,
     "metadata": {},
     "output_type": "execute_result"
    }
   ],
   "source": [
    "df.columns"
   ]
  },
  {
   "cell_type": "code",
   "execution_count": 9,
   "id": "c0ebe565",
   "metadata": {},
   "outputs": [
    {
     "data": {
      "text/html": [
       "<div><style>\n",
       ".dataframe > thead > tr,\n",
       ".dataframe > tbody > tr {\n",
       "  text-align: right;\n",
       "  white-space: pre-wrap;\n",
       "}\n",
       "</style>\n",
       "<small>shape: (28, 28)</small><table border=\"1\" class=\"dataframe\"><thead><tr><th>column_0</th><th>column_1</th><th>column_2</th><th>column_3</th><th>column_4</th><th>column_5</th><th>column_6</th><th>column_7</th><th>column_8</th><th>column_9</th><th>column_10</th><th>column_11</th><th>column_12</th><th>column_13</th><th>column_14</th><th>column_15</th><th>column_16</th><th>column_17</th><th>column_18</th><th>column_19</th><th>column_20</th><th>column_21</th><th>column_22</th><th>column_23</th><th>column_24</th><th>column_25</th><th>column_26</th><th>column_27</th></tr><tr><td>f64</td><td>f64</td><td>f64</td><td>f64</td><td>f64</td><td>f64</td><td>f64</td><td>f64</td><td>f64</td><td>f64</td><td>f64</td><td>f64</td><td>f64</td><td>f64</td><td>f64</td><td>f64</td><td>f64</td><td>f64</td><td>f64</td><td>f64</td><td>f64</td><td>f64</td><td>f64</td><td>f64</td><td>f64</td><td>f64</td><td>f64</td><td>f64</td></tr></thead><tbody><tr><td>1110.0</td><td>421.0</td><td>542.0</td><td>95.0</td><td>1125.0</td><td>1230.0</td><td>708.0</td><td>1189.0</td><td>238.0</td><td>992.0</td><td>831.0</td><td>835.0</td><td>632.0</td><td>797.0</td><td>744.0</td><td>367.0</td><td>514.0</td><td>595.0</td><td>1094.0</td><td>264.0</td><td>335.0</td><td>1036.0</td><td>734.0</td><td>388.0</td><td>979.0</td><td>156.0</td><td>325.0</td><td>401.0</td></tr><tr><td>50.0</td><td>28.0</td><td>9.0</td><td>59.0</td><td>28.0</td><td>25.0</td><td>42.0</td><td>28.0</td><td>8.0</td><td>43.0</td><td>15.0</td><td>18.0</td><td>51.0</td><td>49.0</td><td>24.0</td><td>60.0</td><td>54.0</td><td>37.0</td><td>47.0</td><td>40.0</td><td>28.0</td><td>42.0</td><td>23.0</td><td>36.0</td><td>18.0</td><td>51.0</td><td>28.0</td><td>39.0</td></tr><tr><td>211.5</td><td>7.8958</td><td>31.275</td><td>7.25</td><td>7.8792</td><td>31.5</td><td>26.2875</td><td>21.6792</td><td>26.25</td><td>55.4417</td><td>14.4542</td><td>8.3</td><td>7.0542</td><td>25.9292</td><td>16.1</td><td>75.25</td><td>59.4</td><td>26.0</td><td>227.525</td><td>0.0</td><td>133.65</td><td>26.55</td><td>13.0</td><td>13.0</td><td>8.05</td><td>61.3792</td><td>69.55</td><td>7.925</td></tr><tr><td>1.0</td><td>0.0</td><td>1.0</td><td>0.0</td><td>0.0</td><td>0.0</td><td>0.0</td><td>0.0</td><td>1.0</td><td>1.0</td><td>1.0</td><td>0.0</td><td>0.0</td><td>1.0</td><td>0.0</td><td>1.0</td><td>1.0</td><td>0.0</td><td>0.0</td><td>0.0</td><td>1.0</td><td>0.0</td><td>0.0</td><td>1.0</td><td>1.0</td><td>0.0</td><td>0.0</td><td>0.0</td></tr><tr><td>1.0</td><td>0.0</td><td>4.0</td><td>0.0</td><td>0.0</td><td>0.0</td><td>0.0</td><td>2.0</td><td>0.0</td><td>1.0</td><td>1.0</td><td>0.0</td><td>0.0</td><td>0.0</td><td>1.0</td><td>1.0</td><td>1.0</td><td>1.0</td><td>1.0</td><td>0.0</td><td>1.0</td><td>0.0</td><td>0.0</td><td>0.0</td><td>0.0</td><td>0.0</td><td>8.0</td><td>0.0</td></tr><tr><td>&hellip;</td><td>&hellip;</td><td>&hellip;</td><td>&hellip;</td><td>&hellip;</td><td>&hellip;</td><td>&hellip;</td><td>&hellip;</td><td>&hellip;</td><td>&hellip;</td><td>&hellip;</td><td>&hellip;</td><td>&hellip;</td><td>&hellip;</td><td>&hellip;</td><td>&hellip;</td><td>&hellip;</td><td>&hellip;</td><td>&hellip;</td><td>&hellip;</td><td>&hellip;</td><td>&hellip;</td><td>&hellip;</td><td>&hellip;</td><td>&hellip;</td><td>&hellip;</td><td>&hellip;</td><td>&hellip;</td></tr><tr><td>0.0</td><td>0.0</td><td>0.0</td><td>0.0</td><td>0.0</td><td>0.0</td><td>0.0</td><td>0.0</td><td>0.0</td><td>0.0</td><td>0.0</td><td>0.0</td><td>0.0</td><td>0.0</td><td>0.0</td><td>0.0</td><td>0.0</td><td>0.0</td><td>0.0</td><td>0.0</td><td>0.0</td><td>0.0</td><td>0.0</td><td>0.0</td><td>0.0</td><td>0.0</td><td>0.0</td><td>0.0</td></tr><tr><td>0.0</td><td>0.0</td><td>2.0</td><td>2.0</td><td>1.0</td><td>2.0</td><td>2.0</td><td>0.0</td><td>2.0</td><td>0.0</td><td>0.0</td><td>2.0</td><td>2.0</td><td>2.0</td><td>2.0</td><td>0.0</td><td>0.0</td><td>2.0</td><td>0.0</td><td>2.0</td><td>2.0</td><td>2.0</td><td>2.0</td><td>2.0</td><td>2.0</td><td>0.0</td><td>2.0</td><td>2.0</td></tr><tr><td>0.0</td><td>0.0</td><td>0.0</td><td>0.0</td><td>0.0</td><td>0.0</td><td>0.0</td><td>0.0</td><td>0.0</td><td>0.0</td><td>0.0</td><td>0.0</td><td>0.0</td><td>0.0</td><td>0.0</td><td>0.0</td><td>0.0</td><td>0.0</td><td>0.0</td><td>0.0</td><td>0.0</td><td>0.0</td><td>0.0</td><td>0.0</td><td>0.0</td><td>0.0</td><td>0.0</td><td>0.0</td></tr><tr><td>0.0</td><td>0.0</td><td>0.0</td><td>0.0</td><td>0.0</td><td>0.0</td><td>0.0</td><td>0.0</td><td>0.0</td><td>0.0</td><td>0.0</td><td>0.0</td><td>0.0</td><td>0.0</td><td>0.0</td><td>0.0</td><td>0.0</td><td>0.0</td><td>0.0</td><td>0.0</td><td>0.0</td><td>0.0</td><td>0.0</td><td>0.0</td><td>0.0</td><td>0.0</td><td>0.0</td><td>0.0</td></tr><tr><td>0.0</td><td>0.0</td><td>0.0</td><td>0.0</td><td>0.0</td><td>0.0</td><td>1.0</td><td>0.0</td><td>1.0</td><td>0.0</td><td>1.0</td><td>0.0</td><td>0.0</td><td>1.0</td><td>0.0</td><td>1.0</td><td>1.0</td><td>0.0</td><td>0.0</td><td>0.0</td><td>1.0</td><td>0.0</td><td>0.0</td><td>1.0</td><td>0.0</td><td>0.0</td><td>0.0</td><td>1.0</td></tr></tbody></table></div>"
      ],
      "text/plain": [
       "shape: (28, 28)\n",
       "┌──────────┬──────────┬──────────┬──────────┬───┬───────────┬───────────┬───────────┬───────────┐\n",
       "│ column_0 ┆ column_1 ┆ column_2 ┆ column_3 ┆ … ┆ column_24 ┆ column_25 ┆ column_26 ┆ column_27 │\n",
       "│ ---      ┆ ---      ┆ ---      ┆ ---      ┆   ┆ ---       ┆ ---       ┆ ---       ┆ ---       │\n",
       "│ f64      ┆ f64      ┆ f64      ┆ f64      ┆   ┆ f64       ┆ f64       ┆ f64       ┆ f64       │\n",
       "╞══════════╪══════════╪══════════╪══════════╪═══╪═══════════╪═══════════╪═══════════╪═══════════╡\n",
       "│ 1110.0   ┆ 421.0    ┆ 542.0    ┆ 95.0     ┆ … ┆ 979.0     ┆ 156.0     ┆ 325.0     ┆ 401.0     │\n",
       "│ 50.0     ┆ 28.0     ┆ 9.0      ┆ 59.0     ┆ … ┆ 18.0      ┆ 51.0      ┆ 28.0      ┆ 39.0      │\n",
       "│ 211.5    ┆ 7.8958   ┆ 31.275   ┆ 7.25     ┆ … ┆ 8.05      ┆ 61.3792   ┆ 69.55     ┆ 7.925     │\n",
       "│ 1.0      ┆ 0.0      ┆ 1.0      ┆ 0.0      ┆ … ┆ 1.0       ┆ 0.0       ┆ 0.0       ┆ 0.0       │\n",
       "│ 1.0      ┆ 0.0      ┆ 4.0      ┆ 0.0      ┆ … ┆ 0.0       ┆ 0.0       ┆ 8.0       ┆ 0.0       │\n",
       "│ …        ┆ …        ┆ …        ┆ …        ┆ … ┆ …         ┆ …         ┆ …         ┆ …         │\n",
       "│ 0.0      ┆ 0.0      ┆ 0.0      ┆ 0.0      ┆ … ┆ 0.0       ┆ 0.0       ┆ 0.0       ┆ 0.0       │\n",
       "│ 0.0      ┆ 0.0      ┆ 2.0      ┆ 2.0      ┆ … ┆ 2.0       ┆ 0.0       ┆ 2.0       ┆ 2.0       │\n",
       "│ 0.0      ┆ 0.0      ┆ 0.0      ┆ 0.0      ┆ … ┆ 0.0       ┆ 0.0       ┆ 0.0       ┆ 0.0       │\n",
       "│ 0.0      ┆ 0.0      ┆ 0.0      ┆ 0.0      ┆ … ┆ 0.0       ┆ 0.0       ┆ 0.0       ┆ 0.0       │\n",
       "│ 0.0      ┆ 0.0      ┆ 0.0      ┆ 0.0      ┆ … ┆ 0.0       ┆ 0.0       ┆ 0.0       ┆ 1.0       │\n",
       "└──────────┴──────────┴──────────┴──────────┴───┴───────────┴───────────┴───────────┴───────────┘"
      ]
     },
     "execution_count": 9,
     "metadata": {},
     "output_type": "execute_result"
    }
   ],
   "source": [
    "df.sample(28).transpose()"
   ]
  },
  {
   "cell_type": "code",
   "execution_count": 10,
   "id": "ffc5424b",
   "metadata": {},
   "outputs": [
    {
     "data": {
      "text/plain": [
       "(1309, 28)"
      ]
     },
     "execution_count": 10,
     "metadata": {},
     "output_type": "execute_result"
    }
   ],
   "source": [
    "df.shape"
   ]
  },
  {
   "cell_type": "code",
   "execution_count": 11,
   "id": "a72e10af",
   "metadata": {},
   "outputs": [
    {
     "data": {
      "text/plain": [
       "[Int64,\n",
       " Float64,\n",
       " Float64,\n",
       " Int64,\n",
       " Int64,\n",
       " Int64,\n",
       " Int64,\n",
       " Int64,\n",
       " Int64,\n",
       " Int64,\n",
       " Int64,\n",
       " Int64,\n",
       " Int64,\n",
       " Int64,\n",
       " Int64,\n",
       " Int64,\n",
       " Int64,\n",
       " Int64,\n",
       " Int64,\n",
       " Int64,\n",
       " Int64,\n",
       " Int64,\n",
       " Int64,\n",
       " Int64,\n",
       " Int64,\n",
       " Int64,\n",
       " Int64,\n",
       " Int64]"
      ]
     },
     "execution_count": 11,
     "metadata": {},
     "output_type": "execute_result"
    }
   ],
   "source": [
    "df.dtypes # pyarrow types"
   ]
  },
  {
   "cell_type": "code",
   "execution_count": 12,
   "id": "6137d18e",
   "metadata": {},
   "outputs": [
    {
     "data": {
      "text/plain": [
       "293233"
      ]
     },
     "execution_count": 12,
     "metadata": {},
     "output_type": "execute_result"
    }
   ],
   "source": [
    "df.estimated_size()"
   ]
  },
  {
   "cell_type": "code",
   "execution_count": 13,
   "id": "ad7dac00",
   "metadata": {},
   "outputs": [
    {
     "data": {
      "text/html": [
       "<div><style>\n",
       ".dataframe > thead > tr,\n",
       ".dataframe > tbody > tr {\n",
       "  text-align: right;\n",
       "  white-space: pre-wrap;\n",
       "}\n",
       "</style>\n",
       "<small>shape: (9, 29)</small><table border=\"1\" class=\"dataframe\"><thead><tr><th>statistic</th><th>Passengerid</th><th>Age</th><th>Fare</th><th>Sex</th><th>sibsp</th><th>zero</th><th>zero_duplicated_0</th><th>zero_duplicated_1</th><th>zero_duplicated_2</th><th>zero_duplicated_3</th><th>zero_duplicated_4</th><th>zero_duplicated_5</th><th>Parch</th><th>zero_duplicated_6</th><th>zero_duplicated_7</th><th>zero_duplicated_8</th><th>zero_duplicated_9</th><th>zero_duplicated_10</th><th>zero_duplicated_11</th><th>zero_duplicated_12</th><th>zero_duplicated_13</th><th>Pclass</th><th>zero_duplicated_14</th><th>zero_duplicated_15</th><th>Embarked</th><th>zero_duplicated_16</th><th>zero_duplicated_17</th><th>2urvived</th></tr><tr><td>str</td><td>f64</td><td>f64</td><td>f64</td><td>f64</td><td>f64</td><td>f64</td><td>f64</td><td>f64</td><td>f64</td><td>f64</td><td>f64</td><td>f64</td><td>f64</td><td>f64</td><td>f64</td><td>f64</td><td>f64</td><td>f64</td><td>f64</td><td>f64</td><td>f64</td><td>f64</td><td>f64</td><td>f64</td><td>f64</td><td>f64</td><td>f64</td><td>f64</td></tr></thead><tbody><tr><td>&quot;count&quot;</td><td>1309.0</td><td>1309.0</td><td>1309.0</td><td>1309.0</td><td>1309.0</td><td>1309.0</td><td>1309.0</td><td>1309.0</td><td>1309.0</td><td>1309.0</td><td>1309.0</td><td>1309.0</td><td>1309.0</td><td>1309.0</td><td>1309.0</td><td>1309.0</td><td>1309.0</td><td>1309.0</td><td>1309.0</td><td>1309.0</td><td>1309.0</td><td>1309.0</td><td>1309.0</td><td>1309.0</td><td>1307.0</td><td>1309.0</td><td>1309.0</td><td>1309.0</td></tr><tr><td>&quot;null_count&quot;</td><td>0.0</td><td>0.0</td><td>0.0</td><td>0.0</td><td>0.0</td><td>0.0</td><td>0.0</td><td>0.0</td><td>0.0</td><td>0.0</td><td>0.0</td><td>0.0</td><td>0.0</td><td>0.0</td><td>0.0</td><td>0.0</td><td>0.0</td><td>0.0</td><td>0.0</td><td>0.0</td><td>0.0</td><td>0.0</td><td>0.0</td><td>0.0</td><td>2.0</td><td>0.0</td><td>0.0</td><td>0.0</td></tr><tr><td>&quot;mean&quot;</td><td>655.0</td><td>29.503186</td><td>33.281086</td><td>0.355997</td><td>0.498854</td><td>0.0</td><td>0.0</td><td>0.0</td><td>0.0</td><td>0.0</td><td>0.0</td><td>0.0</td><td>0.385027</td><td>0.0</td><td>0.0</td><td>0.0</td><td>0.0</td><td>0.0</td><td>0.0</td><td>0.0</td><td>0.0</td><td>2.294882</td><td>0.0</td><td>0.0</td><td>1.492731</td><td>0.0</td><td>0.0</td><td>0.261268</td></tr><tr><td>&quot;std&quot;</td><td>378.020061</td><td>12.905241</td><td>51.7415</td><td>0.478997</td><td>1.041658</td><td>0.0</td><td>0.0</td><td>0.0</td><td>0.0</td><td>0.0</td><td>0.0</td><td>0.0</td><td>0.86556</td><td>0.0</td><td>0.0</td><td>0.0</td><td>0.0</td><td>0.0</td><td>0.0</td><td>0.0</td><td>0.0</td><td>0.837836</td><td>0.0</td><td>0.0</td><td>0.814626</td><td>0.0</td><td>0.0</td><td>0.439494</td></tr><tr><td>&quot;min&quot;</td><td>1.0</td><td>0.17</td><td>0.0</td><td>0.0</td><td>0.0</td><td>0.0</td><td>0.0</td><td>0.0</td><td>0.0</td><td>0.0</td><td>0.0</td><td>0.0</td><td>0.0</td><td>0.0</td><td>0.0</td><td>0.0</td><td>0.0</td><td>0.0</td><td>0.0</td><td>0.0</td><td>0.0</td><td>1.0</td><td>0.0</td><td>0.0</td><td>0.0</td><td>0.0</td><td>0.0</td><td>0.0</td></tr><tr><td>&quot;25%&quot;</td><td>328.0</td><td>22.0</td><td>7.8958</td><td>0.0</td><td>0.0</td><td>0.0</td><td>0.0</td><td>0.0</td><td>0.0</td><td>0.0</td><td>0.0</td><td>0.0</td><td>0.0</td><td>0.0</td><td>0.0</td><td>0.0</td><td>0.0</td><td>0.0</td><td>0.0</td><td>0.0</td><td>0.0</td><td>2.0</td><td>0.0</td><td>0.0</td><td>1.0</td><td>0.0</td><td>0.0</td><td>0.0</td></tr><tr><td>&quot;50%&quot;</td><td>655.0</td><td>28.0</td><td>14.4542</td><td>0.0</td><td>0.0</td><td>0.0</td><td>0.0</td><td>0.0</td><td>0.0</td><td>0.0</td><td>0.0</td><td>0.0</td><td>0.0</td><td>0.0</td><td>0.0</td><td>0.0</td><td>0.0</td><td>0.0</td><td>0.0</td><td>0.0</td><td>0.0</td><td>3.0</td><td>0.0</td><td>0.0</td><td>2.0</td><td>0.0</td><td>0.0</td><td>0.0</td></tr><tr><td>&quot;75%&quot;</td><td>982.0</td><td>35.0</td><td>31.275</td><td>1.0</td><td>1.0</td><td>0.0</td><td>0.0</td><td>0.0</td><td>0.0</td><td>0.0</td><td>0.0</td><td>0.0</td><td>0.0</td><td>0.0</td><td>0.0</td><td>0.0</td><td>0.0</td><td>0.0</td><td>0.0</td><td>0.0</td><td>0.0</td><td>3.0</td><td>0.0</td><td>0.0</td><td>2.0</td><td>0.0</td><td>0.0</td><td>1.0</td></tr><tr><td>&quot;max&quot;</td><td>1309.0</td><td>80.0</td><td>512.3292</td><td>1.0</td><td>8.0</td><td>0.0</td><td>0.0</td><td>0.0</td><td>0.0</td><td>0.0</td><td>0.0</td><td>0.0</td><td>9.0</td><td>0.0</td><td>0.0</td><td>0.0</td><td>0.0</td><td>0.0</td><td>0.0</td><td>0.0</td><td>0.0</td><td>3.0</td><td>0.0</td><td>0.0</td><td>2.0</td><td>0.0</td><td>0.0</td><td>1.0</td></tr></tbody></table></div>"
      ],
      "text/plain": [
       "shape: (9, 29)\n",
       "┌────────────┬───────────┬───────────┬───────────┬───┬──────────┬───────────┬───────────┬──────────┐\n",
       "│ statistic  ┆ Passenger ┆ Age       ┆ Fare      ┆ … ┆ Embarked ┆ zero_dupl ┆ zero_dupl ┆ 2urvived │\n",
       "│ ---        ┆ id        ┆ ---       ┆ ---       ┆   ┆ ---      ┆ icated_16 ┆ icated_17 ┆ ---      │\n",
       "│ str        ┆ ---       ┆ f64       ┆ f64       ┆   ┆ f64      ┆ ---       ┆ ---       ┆ f64      │\n",
       "│            ┆ f64       ┆           ┆           ┆   ┆          ┆ f64       ┆ f64       ┆          │\n",
       "╞════════════╪═══════════╪═══════════╪═══════════╪═══╪══════════╪═══════════╪═══════════╪══════════╡\n",
       "│ count      ┆ 1309.0    ┆ 1309.0    ┆ 1309.0    ┆ … ┆ 1307.0   ┆ 1309.0    ┆ 1309.0    ┆ 1309.0   │\n",
       "│ null_count ┆ 0.0       ┆ 0.0       ┆ 0.0       ┆ … ┆ 2.0      ┆ 0.0       ┆ 0.0       ┆ 0.0      │\n",
       "│ mean       ┆ 655.0     ┆ 29.503186 ┆ 33.281086 ┆ … ┆ 1.492731 ┆ 0.0       ┆ 0.0       ┆ 0.261268 │\n",
       "│ std        ┆ 378.02006 ┆ 12.905241 ┆ 51.7415   ┆ … ┆ 0.814626 ┆ 0.0       ┆ 0.0       ┆ 0.439494 │\n",
       "│            ┆ 1         ┆           ┆           ┆   ┆          ┆           ┆           ┆          │\n",
       "│ min        ┆ 1.0       ┆ 0.17      ┆ 0.0       ┆ … ┆ 0.0      ┆ 0.0       ┆ 0.0       ┆ 0.0      │\n",
       "│ 25%        ┆ 328.0     ┆ 22.0      ┆ 7.8958    ┆ … ┆ 1.0      ┆ 0.0       ┆ 0.0       ┆ 0.0      │\n",
       "│ 50%        ┆ 655.0     ┆ 28.0      ┆ 14.4542   ┆ … ┆ 2.0      ┆ 0.0       ┆ 0.0       ┆ 0.0      │\n",
       "│ 75%        ┆ 982.0     ┆ 35.0      ┆ 31.275    ┆ … ┆ 2.0      ┆ 0.0       ┆ 0.0       ┆ 1.0      │\n",
       "│ max        ┆ 1309.0    ┆ 80.0      ┆ 512.3292  ┆ … ┆ 2.0      ┆ 0.0       ┆ 0.0       ┆ 1.0      │\n",
       "└────────────┴───────────┴───────────┴───────────┴───┴──────────┴───────────┴───────────┴──────────┘"
      ]
     },
     "execution_count": 13,
     "metadata": {},
     "output_type": "execute_result"
    }
   ],
   "source": [
    "df.describe()"
   ]
  },
  {
   "cell_type": "code",
   "execution_count": 14,
   "id": "e423b43f",
   "metadata": {},
   "outputs": [
    {
     "data": {
      "text/html": [
       "<div><style>\n",
       ".dataframe > thead > tr,\n",
       ".dataframe > tbody > tr {\n",
       "  text-align: right;\n",
       "  white-space: pre-wrap;\n",
       "}\n",
       "</style>\n",
       "<small>shape: (1, 28)</small><table border=\"1\" class=\"dataframe\"><thead><tr><th>Passengerid</th><th>Age</th><th>Fare</th><th>Sex</th><th>sibsp</th><th>zero</th><th>zero_duplicated_0</th><th>zero_duplicated_1</th><th>zero_duplicated_2</th><th>zero_duplicated_3</th><th>zero_duplicated_4</th><th>zero_duplicated_5</th><th>Parch</th><th>zero_duplicated_6</th><th>zero_duplicated_7</th><th>zero_duplicated_8</th><th>zero_duplicated_9</th><th>zero_duplicated_10</th><th>zero_duplicated_11</th><th>zero_duplicated_12</th><th>zero_duplicated_13</th><th>Pclass</th><th>zero_duplicated_14</th><th>zero_duplicated_15</th><th>Embarked</th><th>zero_duplicated_16</th><th>zero_duplicated_17</th><th>2urvived</th></tr><tr><td>f64</td><td>f64</td><td>f64</td><td>f64</td><td>f64</td><td>f64</td><td>f64</td><td>f64</td><td>f64</td><td>f64</td><td>f64</td><td>f64</td><td>f64</td><td>f64</td><td>f64</td><td>f64</td><td>f64</td><td>f64</td><td>f64</td><td>f64</td><td>f64</td><td>f64</td><td>f64</td><td>f64</td><td>f64</td><td>f64</td><td>f64</td><td>f64</td></tr></thead><tbody><tr><td>328.0</td><td>22.0</td><td>7.8958</td><td>0.0</td><td>0.0</td><td>0.0</td><td>0.0</td><td>0.0</td><td>0.0</td><td>0.0</td><td>0.0</td><td>0.0</td><td>0.0</td><td>0.0</td><td>0.0</td><td>0.0</td><td>0.0</td><td>0.0</td><td>0.0</td><td>0.0</td><td>0.0</td><td>2.0</td><td>0.0</td><td>0.0</td><td>1.0</td><td>0.0</td><td>0.0</td><td>0.0</td></tr></tbody></table></div>"
      ],
      "text/plain": [
       "shape: (1, 28)\n",
       "┌─────────────┬──────┬────────┬─────┬───┬──────────┬──────────────────┬─────────────────┬──────────┐\n",
       "│ Passengerid ┆ Age  ┆ Fare   ┆ Sex ┆ … ┆ Embarked ┆ zero_duplicated_ ┆ zero_duplicated ┆ 2urvived │\n",
       "│ ---         ┆ ---  ┆ ---    ┆ --- ┆   ┆ ---      ┆ 16               ┆ _17             ┆ ---      │\n",
       "│ f64         ┆ f64  ┆ f64    ┆ f64 ┆   ┆ f64      ┆ ---              ┆ ---             ┆ f64      │\n",
       "│             ┆      ┆        ┆     ┆   ┆          ┆ f64              ┆ f64             ┆          │\n",
       "╞═════════════╪══════╪════════╪═════╪═══╪══════════╪══════════════════╪═════════════════╪══════════╡\n",
       "│ 328.0       ┆ 22.0 ┆ 7.8958 ┆ 0.0 ┆ … ┆ 1.0      ┆ 0.0              ┆ 0.0             ┆ 0.0      │\n",
       "└─────────────┴──────┴────────┴─────┴───┴──────────┴──────────────────┴─────────────────┴──────────┘"
      ]
     },
     "execution_count": 14,
     "metadata": {},
     "output_type": "execute_result"
    }
   ],
   "source": [
    "df.quantile(.25)"
   ]
  },
  {
   "cell_type": "code",
   "execution_count": 15,
   "id": "3630f6d1",
   "metadata": {},
   "outputs": [
    {
     "data": {
      "text/html": [
       "<div><style>\n",
       ".dataframe > thead > tr,\n",
       ".dataframe > tbody > tr {\n",
       "  text-align: right;\n",
       "  white-space: pre-wrap;\n",
       "}\n",
       "</style>\n",
       "<small>shape: (1_309, 28)</small><table border=\"1\" class=\"dataframe\"><thead><tr><th>Passengerid</th><th>Age</th><th>Fare</th><th>Sex</th><th>sibsp</th><th>zero</th><th>zero_duplicated_0</th><th>zero_duplicated_1</th><th>zero_duplicated_2</th><th>zero_duplicated_3</th><th>zero_duplicated_4</th><th>zero_duplicated_5</th><th>Parch</th><th>zero_duplicated_6</th><th>zero_duplicated_7</th><th>zero_duplicated_8</th><th>zero_duplicated_9</th><th>zero_duplicated_10</th><th>zero_duplicated_11</th><th>zero_duplicated_12</th><th>zero_duplicated_13</th><th>Pclass</th><th>zero_duplicated_14</th><th>zero_duplicated_15</th><th>Embarked</th><th>zero_duplicated_16</th><th>zero_duplicated_17</th><th>2urvived</th></tr><tr><td>i64</td><td>f64</td><td>f64</td><td>i64</td><td>i64</td><td>i64</td><td>i64</td><td>i64</td><td>i64</td><td>i64</td><td>i64</td><td>i64</td><td>i64</td><td>i64</td><td>i64</td><td>i64</td><td>i64</td><td>i64</td><td>i64</td><td>i64</td><td>i64</td><td>i64</td><td>i64</td><td>i64</td><td>i64</td><td>i64</td><td>i64</td><td>i64</td></tr></thead><tbody><tr><td>1</td><td>22.0</td><td>7.25</td><td>0</td><td>1</td><td>0</td><td>0</td><td>0</td><td>0</td><td>0</td><td>0</td><td>0</td><td>0</td><td>0</td><td>0</td><td>0</td><td>0</td><td>0</td><td>0</td><td>0</td><td>0</td><td>3</td><td>0</td><td>0</td><td>2</td><td>0</td><td>0</td><td>0</td></tr><tr><td>2</td><td>38.0</td><td>71.2833</td><td>1</td><td>1</td><td>0</td><td>0</td><td>0</td><td>0</td><td>0</td><td>0</td><td>0</td><td>0</td><td>0</td><td>0</td><td>0</td><td>0</td><td>0</td><td>0</td><td>0</td><td>0</td><td>1</td><td>0</td><td>0</td><td>0</td><td>0</td><td>0</td><td>1</td></tr><tr><td>3</td><td>26.0</td><td>7.925</td><td>1</td><td>0</td><td>0</td><td>0</td><td>0</td><td>0</td><td>0</td><td>0</td><td>0</td><td>0</td><td>0</td><td>0</td><td>0</td><td>0</td><td>0</td><td>0</td><td>0</td><td>0</td><td>3</td><td>0</td><td>0</td><td>2</td><td>0</td><td>0</td><td>1</td></tr><tr><td>4</td><td>35.0</td><td>53.1</td><td>1</td><td>1</td><td>0</td><td>0</td><td>0</td><td>0</td><td>0</td><td>0</td><td>0</td><td>0</td><td>0</td><td>0</td><td>0</td><td>0</td><td>0</td><td>0</td><td>0</td><td>0</td><td>1</td><td>0</td><td>0</td><td>2</td><td>0</td><td>0</td><td>1</td></tr><tr><td>5</td><td>35.0</td><td>8.05</td><td>0</td><td>0</td><td>0</td><td>0</td><td>0</td><td>0</td><td>0</td><td>0</td><td>0</td><td>0</td><td>0</td><td>0</td><td>0</td><td>0</td><td>0</td><td>0</td><td>0</td><td>0</td><td>3</td><td>0</td><td>0</td><td>2</td><td>0</td><td>0</td><td>0</td></tr><tr><td>&hellip;</td><td>&hellip;</td><td>&hellip;</td><td>&hellip;</td><td>&hellip;</td><td>&hellip;</td><td>&hellip;</td><td>&hellip;</td><td>&hellip;</td><td>&hellip;</td><td>&hellip;</td><td>&hellip;</td><td>&hellip;</td><td>&hellip;</td><td>&hellip;</td><td>&hellip;</td><td>&hellip;</td><td>&hellip;</td><td>&hellip;</td><td>&hellip;</td><td>&hellip;</td><td>&hellip;</td><td>&hellip;</td><td>&hellip;</td><td>&hellip;</td><td>&hellip;</td><td>&hellip;</td><td>&hellip;</td></tr><tr><td>1305</td><td>28.0</td><td>8.05</td><td>0</td><td>0</td><td>0</td><td>0</td><td>0</td><td>0</td><td>0</td><td>0</td><td>0</td><td>0</td><td>0</td><td>0</td><td>0</td><td>0</td><td>0</td><td>0</td><td>0</td><td>0</td><td>3</td><td>0</td><td>0</td><td>2</td><td>0</td><td>0</td><td>0</td></tr><tr><td>1306</td><td>39.0</td><td>108.9</td><td>1</td><td>0</td><td>0</td><td>0</td><td>0</td><td>0</td><td>0</td><td>0</td><td>0</td><td>0</td><td>0</td><td>0</td><td>0</td><td>0</td><td>0</td><td>0</td><td>0</td><td>0</td><td>1</td><td>0</td><td>0</td><td>0</td><td>0</td><td>0</td><td>0</td></tr><tr><td>1307</td><td>38.5</td><td>7.25</td><td>0</td><td>0</td><td>0</td><td>0</td><td>0</td><td>0</td><td>0</td><td>0</td><td>0</td><td>0</td><td>0</td><td>0</td><td>0</td><td>0</td><td>0</td><td>0</td><td>0</td><td>0</td><td>3</td><td>0</td><td>0</td><td>2</td><td>0</td><td>0</td><td>0</td></tr><tr><td>1308</td><td>28.0</td><td>8.05</td><td>0</td><td>0</td><td>0</td><td>0</td><td>0</td><td>0</td><td>0</td><td>0</td><td>0</td><td>0</td><td>0</td><td>0</td><td>0</td><td>0</td><td>0</td><td>0</td><td>0</td><td>0</td><td>3</td><td>0</td><td>0</td><td>2</td><td>0</td><td>0</td><td>0</td></tr><tr><td>1309</td><td>28.0</td><td>22.3583</td><td>0</td><td>1</td><td>0</td><td>0</td><td>0</td><td>0</td><td>0</td><td>0</td><td>0</td><td>1</td><td>0</td><td>0</td><td>0</td><td>0</td><td>0</td><td>0</td><td>0</td><td>0</td><td>3</td><td>0</td><td>0</td><td>0</td><td>0</td><td>0</td><td>0</td></tr></tbody></table></div>"
      ],
      "text/plain": [
       "shape: (1_309, 28)\n",
       "┌─────────────┬──────┬─────────┬─────┬───┬──────────┬─────────────────┬─────────────────┬──────────┐\n",
       "│ Passengerid ┆ Age  ┆ Fare    ┆ Sex ┆ … ┆ Embarked ┆ zero_duplicated ┆ zero_duplicated ┆ 2urvived │\n",
       "│ ---         ┆ ---  ┆ ---     ┆ --- ┆   ┆ ---      ┆ _16             ┆ _17             ┆ ---      │\n",
       "│ i64         ┆ f64  ┆ f64     ┆ i64 ┆   ┆ i64      ┆ ---             ┆ ---             ┆ i64      │\n",
       "│             ┆      ┆         ┆     ┆   ┆          ┆ i64             ┆ i64             ┆          │\n",
       "╞═════════════╪══════╪═════════╪═════╪═══╪══════════╪═════════════════╪═════════════════╪══════════╡\n",
       "│ 1           ┆ 22.0 ┆ 7.25    ┆ 0   ┆ … ┆ 2        ┆ 0               ┆ 0               ┆ 0        │\n",
       "│ 2           ┆ 38.0 ┆ 71.2833 ┆ 1   ┆ … ┆ 0        ┆ 0               ┆ 0               ┆ 1        │\n",
       "│ 3           ┆ 26.0 ┆ 7.925   ┆ 1   ┆ … ┆ 2        ┆ 0               ┆ 0               ┆ 1        │\n",
       "│ 4           ┆ 35.0 ┆ 53.1    ┆ 1   ┆ … ┆ 2        ┆ 0               ┆ 0               ┆ 1        │\n",
       "│ 5           ┆ 35.0 ┆ 8.05    ┆ 0   ┆ … ┆ 2        ┆ 0               ┆ 0               ┆ 0        │\n",
       "│ …           ┆ …    ┆ …       ┆ …   ┆ … ┆ …        ┆ …               ┆ …               ┆ …        │\n",
       "│ 1305        ┆ 28.0 ┆ 8.05    ┆ 0   ┆ … ┆ 2        ┆ 0               ┆ 0               ┆ 0        │\n",
       "│ 1306        ┆ 39.0 ┆ 108.9   ┆ 1   ┆ … ┆ 0        ┆ 0               ┆ 0               ┆ 0        │\n",
       "│ 1307        ┆ 38.5 ┆ 7.25    ┆ 0   ┆ … ┆ 2        ┆ 0               ┆ 0               ┆ 0        │\n",
       "│ 1308        ┆ 28.0 ┆ 8.05    ┆ 0   ┆ … ┆ 2        ┆ 0               ┆ 0               ┆ 0        │\n",
       "│ 1309        ┆ 28.0 ┆ 22.3583 ┆ 0   ┆ … ┆ 0        ┆ 0               ┆ 0               ┆ 0        │\n",
       "└─────────────┴──────┴─────────┴─────┴───┴──────────┴─────────────────┴─────────────────┴──────────┘"
      ]
     },
     "execution_count": 15,
     "metadata": {},
     "output_type": "execute_result"
    }
   ],
   "source": [
    "# Generally want to use *Expressions* instead of working directly on dataframe\n",
    "# use pl.all() instead of pl.col('*')\n",
    "# Expressions works in the Rust layer, speeding up code\n",
    "(df.select(pl.all()))"
   ]
  },
  {
   "cell_type": "code",
   "execution_count": 16,
   "id": "dcaffc84",
   "metadata": {},
   "outputs": [
    {
     "data": {
      "text/html": [
       "<div><style>\n",
       ".dataframe > thead > tr,\n",
       ".dataframe > tbody > tr {\n",
       "  text-align: right;\n",
       "  white-space: pre-wrap;\n",
       "}\n",
       "</style>\n",
       "<small>shape: (1_309, 2)</small><table border=\"1\" class=\"dataframe\"><thead><tr><th>Age</th><th>Fare</th></tr><tr><td>f64</td><td>f64</td></tr></thead><tbody><tr><td>22.0</td><td>7.25</td></tr><tr><td>38.0</td><td>71.2833</td></tr><tr><td>26.0</td><td>7.925</td></tr><tr><td>35.0</td><td>53.1</td></tr><tr><td>35.0</td><td>8.05</td></tr><tr><td>&hellip;</td><td>&hellip;</td></tr><tr><td>28.0</td><td>8.05</td></tr><tr><td>39.0</td><td>108.9</td></tr><tr><td>38.5</td><td>7.25</td></tr><tr><td>28.0</td><td>8.05</td></tr><tr><td>28.0</td><td>22.3583</td></tr></tbody></table></div>"
      ],
      "text/plain": [
       "shape: (1_309, 2)\n",
       "┌──────┬─────────┐\n",
       "│ Age  ┆ Fare    │\n",
       "│ ---  ┆ ---     │\n",
       "│ f64  ┆ f64     │\n",
       "╞══════╪═════════╡\n",
       "│ 22.0 ┆ 7.25    │\n",
       "│ 38.0 ┆ 71.2833 │\n",
       "│ 26.0 ┆ 7.925   │\n",
       "│ 35.0 ┆ 53.1    │\n",
       "│ 35.0 ┆ 8.05    │\n",
       "│ …    ┆ …       │\n",
       "│ 28.0 ┆ 8.05    │\n",
       "│ 39.0 ┆ 108.9   │\n",
       "│ 38.5 ┆ 7.25    │\n",
       "│ 28.0 ┆ 8.05    │\n",
       "│ 28.0 ┆ 22.3583 │\n",
       "└──────┴─────────┘"
      ]
     },
     "execution_count": 16,
     "metadata": {},
     "output_type": "execute_result"
    }
   ],
   "source": [
    "# pl.col can also select datatypes\n",
    "# pl.col can also exclude (using .exclude method)\n",
    "# pl.col can use regex\n",
    "\n",
    "(df\n",
    ".select(pl.col(pl.Float64)))"
   ]
  },
  {
   "cell_type": "code",
   "execution_count": 17,
   "id": "e670f6c3",
   "metadata": {},
   "outputs": [
    {
     "data": {
      "text/html": [
       "<div><style>\n",
       ".dataframe > thead > tr,\n",
       ".dataframe > tbody > tr {\n",
       "  text-align: right;\n",
       "  white-space: pre-wrap;\n",
       "}\n",
       "</style>\n",
       "<small>shape: (1_309, 2)</small><table border=\"1\" class=\"dataframe\"><thead><tr><th>Age</th><th>Age_2</th></tr><tr><td>f64</td><td>f64</td></tr></thead><tbody><tr><td>22.0</td><td>22.0</td></tr><tr><td>38.0</td><td>38.0</td></tr><tr><td>26.0</td><td>26.0</td></tr><tr><td>35.0</td><td>35.0</td></tr><tr><td>35.0</td><td>35.0</td></tr><tr><td>&hellip;</td><td>&hellip;</td></tr><tr><td>28.0</td><td>28.0</td></tr><tr><td>39.0</td><td>39.0</td></tr><tr><td>38.5</td><td>38.5</td></tr><tr><td>28.0</td><td>28.0</td></tr><tr><td>28.0</td><td>28.0</td></tr></tbody></table></div>"
      ],
      "text/plain": [
       "shape: (1_309, 2)\n",
       "┌──────┬───────┐\n",
       "│ Age  ┆ Age_2 │\n",
       "│ ---  ┆ ---   │\n",
       "│ f64  ┆ f64   │\n",
       "╞══════╪═══════╡\n",
       "│ 22.0 ┆ 22.0  │\n",
       "│ 38.0 ┆ 38.0  │\n",
       "│ 26.0 ┆ 26.0  │\n",
       "│ 35.0 ┆ 35.0  │\n",
       "│ 35.0 ┆ 35.0  │\n",
       "│ …    ┆ …     │\n",
       "│ 28.0 ┆ 28.0  │\n",
       "│ 39.0 ┆ 39.0  │\n",
       "│ 38.5 ┆ 38.5  │\n",
       "│ 28.0 ┆ 28.0  │\n",
       "│ 28.0 ┆ 28.0  │\n",
       "└──────┴───────┘"
      ]
     },
     "execution_count": 17,
     "metadata": {},
     "output_type": "execute_result"
    }
   ],
   "source": [
    "# use .suffix .prefix or .alias to remove duplicate names\n",
    "(df\n",
    ".select(['Age', \n",
    "    pl.col('Age').name.suffix('_2')\n",
    "    ])\n",
    ")"
   ]
  },
  {
   "cell_type": "code",
   "execution_count": null,
   "id": "03561ce2",
   "metadata": {},
   "outputs": [],
   "source": []
  }
 ],
 "metadata": {
  "kernelspec": {
   "display_name": "Python 3",
   "language": "python",
   "name": "python3"
  },
  "language_info": {
   "codemirror_mode": {
    "name": "ipython",
    "version": 3
   },
   "file_extension": ".py",
   "mimetype": "text/x-python",
   "name": "python",
   "nbconvert_exporter": "python",
   "pygments_lexer": "ipython3",
   "version": "3.13.5"
  }
 },
 "nbformat": 4,
 "nbformat_minor": 5
}
