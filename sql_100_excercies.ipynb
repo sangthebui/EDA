{
 "cells": [
  {
   "cell_type": "markdown",
   "id": "8653ff36",
   "metadata": {},
   "source": [
    "# SQL 100 questions \n",
    "- From https://www.sql-practice.com/"
   ]
  },
  {
   "cell_type": "markdown",
   "id": "044c6dc1",
   "metadata": {},
   "source": [
    "## prerequiste\n",
    "- load sql extension"
   ]
  },
  {
   "cell_type": "code",
   "execution_count": 2,
   "id": "c392514e",
   "metadata": {},
   "outputs": [],
   "source": [
    "  %load_ext sql"
   ]
  },
  {
   "cell_type": "code",
   "execution_count": 3,
   "id": "224f7b05",
   "metadata": {},
   "outputs": [
    {
     "data": {
      "text/html": [
       "<span style=\"None\">Connecting to &#x27;sqlite:///data/hospitaldatabase.db&#x27;</span>"
      ],
      "text/plain": [
       "Connecting to 'sqlite:///data/hospitaldatabase.db'"
      ]
     },
     "metadata": {},
     "output_type": "display_data"
    }
   ],
   "source": [
    "%sql sqlite:///data/hospitaldatabase.db"
   ]
  },
  {
   "cell_type": "markdown",
   "id": "d6eb6a9e",
   "metadata": {},
   "source": [
    "- create the sqlite database"
   ]
  },
  {
   "cell_type": "markdown",
   "id": "49e72530",
   "metadata": {},
   "source": [
    "## SQL Datatypes\n",
    "\n",
    "### Numeric Data Types\n",
    "- INT, SMALLINT, BIGINT ( Used whole numbers without decimals points)\n",
    "- DECIMAL, NUMERIC ( Used for numbers with a fixed precision and scale, suitable for financial data)\n",
    "- FLOAT, DOUBLE ( Used for floating-point numbers, offering a wider range but with potential precision issues)\n",
    "\n",
    "### String/Character Data Types\n",
    "- CHAR, VARCHAR ( Store text data, typically in a single-byte encoding)\n",
    "- NCHAR, NVARCHAR ( Store text data using **Unicode** encoding)\n",
    "\n",
    "### Date and Time Date Types\n",
    "- DATE, TIME, DATETIME, TIMESTAMP ( Used to store date and time information)\n",
    "\n",
    "### Binary Data Types\n",
    "- VARBINARY ( Used to store binary data such as images or other files.)\n",
    "\n",
    "### Other Data Types\n",
    "- Boolean ( Stores TRUE or FALSE values)\n",
    "- Enum ( Allows a column to have a value chosen from a predefined list of allowed values.)\n",
    "- Set ( Similar to Enum but allows multiple values from a predefined list)\n",
    "- Spatial Data Types ( Used for geographical and geometric data)"
   ]
  },
  {
   "cell_type": "markdown",
   "id": "213ab8d3",
   "metadata": {},
   "source": [
    "## load all the data"
   ]
  },
  {
   "cell_type": "markdown",
   "id": "e494c7d1",
   "metadata": {},
   "source": [
    "### **patients** schema\n",
    "\n",
    "| name | type |\n",
    "| ----- | ----- |\n",
    "| patient_id (primary key) | INT |\n",
    "| first_name | TEXT |\n",
    "| last_name | TEXT |\n",
    "| gender | CHAR(1) |\n",
    "| birth_date | DATE |\n",
    "| city | TEXT |\n",
    "| province_id (foreign key) | CHAR(2) |\n",
    "| allergies | TEXT |\n",
    "| height | INT |\n",
    "| weight | INT |"
   ]
  },
  {
   "cell_type": "code",
   "execution_count": 59,
   "id": "603461d6",
   "metadata": {},
   "outputs": [
    {
     "data": {
      "text/html": [
       "<span style=\"None\">Running query in &#x27;sqlite:///data/hospitaldatabase.db&#x27;</span>"
      ],
      "text/plain": [
       "Running query in 'sqlite:///data/hospitaldatabase.db'"
      ]
     },
     "metadata": {},
     "output_type": "display_data"
    },
    {
     "data": {
      "text/html": [
       "<table>\n",
       "    <thead>\n",
       "        <tr>\n",
       "        </tr>\n",
       "    </thead>\n",
       "    <tbody>\n",
       "    </tbody>\n",
       "</table>"
      ],
      "text/plain": [
       "++\n",
       "||\n",
       "++\n",
       "++"
      ]
     },
     "execution_count": 59,
     "metadata": {},
     "output_type": "execute_result"
    }
   ],
   "source": [
    "%%sql\n",
    "DROP TABLE patients\n"
   ]
  },
  {
   "cell_type": "code",
   "execution_count": 60,
   "id": "95fc8421",
   "metadata": {},
   "outputs": [
    {
     "data": {
      "text/html": [
       "<span style=\"None\">Running query in &#x27;sqlite:///data/hospitaldatabase.db&#x27;</span>"
      ],
      "text/plain": [
       "Running query in 'sqlite:///data/hospitaldatabase.db'"
      ]
     },
     "metadata": {},
     "output_type": "display_data"
    },
    {
     "data": {
      "text/html": [
       "<table>\n",
       "    <thead>\n",
       "        <tr>\n",
       "        </tr>\n",
       "    </thead>\n",
       "    <tbody>\n",
       "    </tbody>\n",
       "</table>"
      ],
      "text/plain": [
       "++\n",
       "||\n",
       "++\n",
       "++"
      ]
     },
     "execution_count": 60,
     "metadata": {},
     "output_type": "execute_result"
    }
   ],
   "source": [
    "\n",
    "%%sql\n",
    "CREATE TABLE patients (\n",
    "    patient_id INT NOT NULL PRIMARY KEY,\n",
    "    first_name TEXT,\n",
    "    last_name TEXT,\n",
    "    gender CHAR(1),\n",
    "    birth_date DATE,\n",
    "    city TEXT,\n",
    "    province_id CHAR(2),\n",
    "    allergies TEXT,\n",
    "    height INT,\n",
    "    weight INT\n",
    ");"
   ]
  },
  {
   "cell_type": "code",
   "execution_count": 62,
   "id": "1639936f",
   "metadata": {},
   "outputs": [
    {
     "data": {
      "text/html": [
       "<span style=\"None\">Running query in &#x27;sqlite:///data/hospitaldatabase.db&#x27;</span>"
      ],
      "text/plain": [
       "Running query in 'sqlite:///data/hospitaldatabase.db'"
      ]
     },
     "metadata": {},
     "output_type": "display_data"
    },
    {
     "data": {
      "text/html": [
       "<span style=\"color: green\">1 rows affected.</span>"
      ],
      "text/plain": [
       "1 rows affected."
      ]
     },
     "metadata": {},
     "output_type": "display_data"
    },
    {
     "data": {
      "text/html": [
       "<span style=\"color: green\">1 rows affected.</span>"
      ],
      "text/plain": [
       "1 rows affected."
      ]
     },
     "metadata": {},
     "output_type": "display_data"
    },
    {
     "data": {
      "text/html": [
       "<span style=\"color: green\">1 rows affected.</span>"
      ],
      "text/plain": [
       "1 rows affected."
      ]
     },
     "metadata": {},
     "output_type": "display_data"
    },
    {
     "data": {
      "text/html": [
       "<span style=\"color: green\">1 rows affected.</span>"
      ],
      "text/plain": [
       "1 rows affected."
      ]
     },
     "metadata": {},
     "output_type": "display_data"
    },
    {
     "data": {
      "text/html": [
       "<span style=\"color: green\">1 rows affected.</span>"
      ],
      "text/plain": [
       "1 rows affected."
      ]
     },
     "metadata": {},
     "output_type": "display_data"
    },
    {
     "data": {
      "text/html": [
       "<span style=\"color: green\">1 rows affected.</span>"
      ],
      "text/plain": [
       "1 rows affected."
      ]
     },
     "metadata": {},
     "output_type": "display_data"
    },
    {
     "data": {
      "text/html": [
       "<span style=\"color: green\">1 rows affected.</span>"
      ],
      "text/plain": [
       "1 rows affected."
      ]
     },
     "metadata": {},
     "output_type": "display_data"
    },
    {
     "data": {
      "text/html": [
       "<span style=\"color: green\">1 rows affected.</span>"
      ],
      "text/plain": [
       "1 rows affected."
      ]
     },
     "metadata": {},
     "output_type": "display_data"
    },
    {
     "data": {
      "text/html": [
       "<span style=\"color: green\">1 rows affected.</span>"
      ],
      "text/plain": [
       "1 rows affected."
      ]
     },
     "metadata": {},
     "output_type": "display_data"
    },
    {
     "data": {
      "text/html": [
       "<span style=\"color: green\">1 rows affected.</span>"
      ],
      "text/plain": [
       "1 rows affected."
      ]
     },
     "metadata": {},
     "output_type": "display_data"
    },
    {
     "data": {
      "text/html": [
       "<span style=\"color: green\">1 rows affected.</span>"
      ],
      "text/plain": [
       "1 rows affected."
      ]
     },
     "metadata": {},
     "output_type": "display_data"
    },
    {
     "data": {
      "text/html": [
       "<span style=\"color: green\">1 rows affected.</span>"
      ],
      "text/plain": [
       "1 rows affected."
      ]
     },
     "metadata": {},
     "output_type": "display_data"
    },
    {
     "data": {
      "text/html": [
       "<span style=\"color: green\">1 rows affected.</span>"
      ],
      "text/plain": [
       "1 rows affected."
      ]
     },
     "metadata": {},
     "output_type": "display_data"
    },
    {
     "data": {
      "text/html": [
       "<span style=\"color: green\">1 rows affected.</span>"
      ],
      "text/plain": [
       "1 rows affected."
      ]
     },
     "metadata": {},
     "output_type": "display_data"
    },
    {
     "data": {
      "text/html": [
       "<span style=\"color: green\">1 rows affected.</span>"
      ],
      "text/plain": [
       "1 rows affected."
      ]
     },
     "metadata": {},
     "output_type": "display_data"
    },
    {
     "data": {
      "text/html": [
       "<span style=\"color: green\">1 rows affected.</span>"
      ],
      "text/plain": [
       "1 rows affected."
      ]
     },
     "metadata": {},
     "output_type": "display_data"
    },
    {
     "data": {
      "text/html": [
       "<span style=\"color: green\">1 rows affected.</span>"
      ],
      "text/plain": [
       "1 rows affected."
      ]
     },
     "metadata": {},
     "output_type": "display_data"
    },
    {
     "data": {
      "text/html": [
       "<span style=\"color: green\">1 rows affected.</span>"
      ],
      "text/plain": [
       "1 rows affected."
      ]
     },
     "metadata": {},
     "output_type": "display_data"
    },
    {
     "data": {
      "text/html": [
       "<span style=\"color: green\">1 rows affected.</span>"
      ],
      "text/plain": [
       "1 rows affected."
      ]
     },
     "metadata": {},
     "output_type": "display_data"
    },
    {
     "data": {
      "text/html": [
       "<span style=\"color: green\">1 rows affected.</span>"
      ],
      "text/plain": [
       "1 rows affected."
      ]
     },
     "metadata": {},
     "output_type": "display_data"
    },
    {
     "data": {
      "text/html": [
       "<span style=\"color: green\">1 rows affected.</span>"
      ],
      "text/plain": [
       "1 rows affected."
      ]
     },
     "metadata": {},
     "output_type": "display_data"
    },
    {
     "data": {
      "text/html": [
       "<span style=\"color: green\">1 rows affected.</span>"
      ],
      "text/plain": [
       "1 rows affected."
      ]
     },
     "metadata": {},
     "output_type": "display_data"
    },
    {
     "data": {
      "text/html": [
       "<span style=\"color: green\">1 rows affected.</span>"
      ],
      "text/plain": [
       "1 rows affected."
      ]
     },
     "metadata": {},
     "output_type": "display_data"
    },
    {
     "data": {
      "text/html": [
       "<span style=\"color: green\">1 rows affected.</span>"
      ],
      "text/plain": [
       "1 rows affected."
      ]
     },
     "metadata": {},
     "output_type": "display_data"
    },
    {
     "data": {
      "text/html": [
       "<span style=\"color: green\">1 rows affected.</span>"
      ],
      "text/plain": [
       "1 rows affected."
      ]
     },
     "metadata": {},
     "output_type": "display_data"
    },
    {
     "data": {
      "text/html": [
       "<span style=\"color: green\">1 rows affected.</span>"
      ],
      "text/plain": [
       "1 rows affected."
      ]
     },
     "metadata": {},
     "output_type": "display_data"
    },
    {
     "data": {
      "text/html": [
       "<span style=\"color: green\">1 rows affected.</span>"
      ],
      "text/plain": [
       "1 rows affected."
      ]
     },
     "metadata": {},
     "output_type": "display_data"
    },
    {
     "data": {
      "text/html": [
       "<span style=\"color: green\">1 rows affected.</span>"
      ],
      "text/plain": [
       "1 rows affected."
      ]
     },
     "metadata": {},
     "output_type": "display_data"
    },
    {
     "data": {
      "text/html": [
       "<span style=\"color: green\">1 rows affected.</span>"
      ],
      "text/plain": [
       "1 rows affected."
      ]
     },
     "metadata": {},
     "output_type": "display_data"
    },
    {
     "data": {
      "text/html": [
       "<span style=\"color: green\">1 rows affected.</span>"
      ],
      "text/plain": [
       "1 rows affected."
      ]
     },
     "metadata": {},
     "output_type": "display_data"
    },
    {
     "data": {
      "text/html": [
       "<span style=\"color: green\">1 rows affected.</span>"
      ],
      "text/plain": [
       "1 rows affected."
      ]
     },
     "metadata": {},
     "output_type": "display_data"
    },
    {
     "data": {
      "text/html": [
       "<span style=\"color: green\">1 rows affected.</span>"
      ],
      "text/plain": [
       "1 rows affected."
      ]
     },
     "metadata": {},
     "output_type": "display_data"
    },
    {
     "data": {
      "text/html": [
       "<span style=\"color: green\">1 rows affected.</span>"
      ],
      "text/plain": [
       "1 rows affected."
      ]
     },
     "metadata": {},
     "output_type": "display_data"
    },
    {
     "data": {
      "text/html": [
       "<span style=\"color: green\">1 rows affected.</span>"
      ],
      "text/plain": [
       "1 rows affected."
      ]
     },
     "metadata": {},
     "output_type": "display_data"
    },
    {
     "data": {
      "text/html": [
       "<span style=\"color: green\">1 rows affected.</span>"
      ],
      "text/plain": [
       "1 rows affected."
      ]
     },
     "metadata": {},
     "output_type": "display_data"
    },
    {
     "data": {
      "text/html": [
       "<span style=\"color: green\">1 rows affected.</span>"
      ],
      "text/plain": [
       "1 rows affected."
      ]
     },
     "metadata": {},
     "output_type": "display_data"
    },
    {
     "data": {
      "text/html": [
       "<span style=\"color: green\">1 rows affected.</span>"
      ],
      "text/plain": [
       "1 rows affected."
      ]
     },
     "metadata": {},
     "output_type": "display_data"
    },
    {
     "data": {
      "text/html": [
       "<span style=\"color: green\">1 rows affected.</span>"
      ],
      "text/plain": [
       "1 rows affected."
      ]
     },
     "metadata": {},
     "output_type": "display_data"
    },
    {
     "data": {
      "text/html": [
       "<span style=\"color: green\">1 rows affected.</span>"
      ],
      "text/plain": [
       "1 rows affected."
      ]
     },
     "metadata": {},
     "output_type": "display_data"
    },
    {
     "data": {
      "text/html": [
       "<span style=\"color: green\">1 rows affected.</span>"
      ],
      "text/plain": [
       "1 rows affected."
      ]
     },
     "metadata": {},
     "output_type": "display_data"
    },
    {
     "data": {
      "text/html": [
       "<span style=\"color: green\">1 rows affected.</span>"
      ],
      "text/plain": [
       "1 rows affected."
      ]
     },
     "metadata": {},
     "output_type": "display_data"
    },
    {
     "data": {
      "text/html": [
       "<span style=\"color: green\">1 rows affected.</span>"
      ],
      "text/plain": [
       "1 rows affected."
      ]
     },
     "metadata": {},
     "output_type": "display_data"
    },
    {
     "data": {
      "text/html": [
       "<span style=\"color: green\">1 rows affected.</span>"
      ],
      "text/plain": [
       "1 rows affected."
      ]
     },
     "metadata": {},
     "output_type": "display_data"
    },
    {
     "data": {
      "text/html": [
       "<span style=\"color: green\">1 rows affected.</span>"
      ],
      "text/plain": [
       "1 rows affected."
      ]
     },
     "metadata": {},
     "output_type": "display_data"
    },
    {
     "data": {
      "text/html": [
       "<span style=\"color: green\">1 rows affected.</span>"
      ],
      "text/plain": [
       "1 rows affected."
      ]
     },
     "metadata": {},
     "output_type": "display_data"
    },
    {
     "data": {
      "text/html": [
       "<span style=\"color: green\">1 rows affected.</span>"
      ],
      "text/plain": [
       "1 rows affected."
      ]
     },
     "metadata": {},
     "output_type": "display_data"
    },
    {
     "data": {
      "text/html": [
       "<span style=\"color: green\">1 rows affected.</span>"
      ],
      "text/plain": [
       "1 rows affected."
      ]
     },
     "metadata": {},
     "output_type": "display_data"
    },
    {
     "data": {
      "text/html": [
       "<span style=\"color: green\">1 rows affected.</span>"
      ],
      "text/plain": [
       "1 rows affected."
      ]
     },
     "metadata": {},
     "output_type": "display_data"
    },
    {
     "data": {
      "text/html": [
       "<span style=\"color: green\">1 rows affected.</span>"
      ],
      "text/plain": [
       "1 rows affected."
      ]
     },
     "metadata": {},
     "output_type": "display_data"
    },
    {
     "data": {
      "text/html": [
       "<span style=\"color: green\">1 rows affected.</span>"
      ],
      "text/plain": [
       "1 rows affected."
      ]
     },
     "metadata": {},
     "output_type": "display_data"
    },
    {
     "data": {
      "text/html": [
       "<span style=\"color: green\">1 rows affected.</span>"
      ],
      "text/plain": [
       "1 rows affected."
      ]
     },
     "metadata": {},
     "output_type": "display_data"
    },
    {
     "data": {
      "text/html": [
       "<span style=\"color: green\">1 rows affected.</span>"
      ],
      "text/plain": [
       "1 rows affected."
      ]
     },
     "metadata": {},
     "output_type": "display_data"
    },
    {
     "data": {
      "text/html": [
       "<span style=\"color: green\">1 rows affected.</span>"
      ],
      "text/plain": [
       "1 rows affected."
      ]
     },
     "metadata": {},
     "output_type": "display_data"
    },
    {
     "data": {
      "text/html": [
       "<span style=\"color: green\">1 rows affected.</span>"
      ],
      "text/plain": [
       "1 rows affected."
      ]
     },
     "metadata": {},
     "output_type": "display_data"
    },
    {
     "data": {
      "text/html": [
       "<span style=\"color: green\">1 rows affected.</span>"
      ],
      "text/plain": [
       "1 rows affected."
      ]
     },
     "metadata": {},
     "output_type": "display_data"
    },
    {
     "data": {
      "text/html": [
       "<span style=\"color: green\">1 rows affected.</span>"
      ],
      "text/plain": [
       "1 rows affected."
      ]
     },
     "metadata": {},
     "output_type": "display_data"
    },
    {
     "data": {
      "text/html": [
       "<span style=\"color: green\">1 rows affected.</span>"
      ],
      "text/plain": [
       "1 rows affected."
      ]
     },
     "metadata": {},
     "output_type": "display_data"
    },
    {
     "data": {
      "text/html": [
       "<span style=\"color: green\">1 rows affected.</span>"
      ],
      "text/plain": [
       "1 rows affected."
      ]
     },
     "metadata": {},
     "output_type": "display_data"
    },
    {
     "data": {
      "text/html": [
       "<span style=\"color: green\">1 rows affected.</span>"
      ],
      "text/plain": [
       "1 rows affected."
      ]
     },
     "metadata": {},
     "output_type": "display_data"
    },
    {
     "data": {
      "text/html": [
       "<span style=\"color: green\">1 rows affected.</span>"
      ],
      "text/plain": [
       "1 rows affected."
      ]
     },
     "metadata": {},
     "output_type": "display_data"
    },
    {
     "data": {
      "text/html": [
       "<span style=\"color: green\">1 rows affected.</span>"
      ],
      "text/plain": [
       "1 rows affected."
      ]
     },
     "metadata": {},
     "output_type": "display_data"
    },
    {
     "data": {
      "text/html": [
       "<span style=\"color: green\">1 rows affected.</span>"
      ],
      "text/plain": [
       "1 rows affected."
      ]
     },
     "metadata": {},
     "output_type": "display_data"
    },
    {
     "data": {
      "text/html": [
       "<span style=\"color: green\">1 rows affected.</span>"
      ],
      "text/plain": [
       "1 rows affected."
      ]
     },
     "metadata": {},
     "output_type": "display_data"
    },
    {
     "data": {
      "text/html": [
       "<span style=\"color: green\">1 rows affected.</span>"
      ],
      "text/plain": [
       "1 rows affected."
      ]
     },
     "metadata": {},
     "output_type": "display_data"
    },
    {
     "data": {
      "text/html": [
       "<span style=\"color: green\">1 rows affected.</span>"
      ],
      "text/plain": [
       "1 rows affected."
      ]
     },
     "metadata": {},
     "output_type": "display_data"
    },
    {
     "data": {
      "text/html": [
       "<span style=\"color: green\">1 rows affected.</span>"
      ],
      "text/plain": [
       "1 rows affected."
      ]
     },
     "metadata": {},
     "output_type": "display_data"
    },
    {
     "data": {
      "text/html": [
       "<span style=\"color: green\">1 rows affected.</span>"
      ],
      "text/plain": [
       "1 rows affected."
      ]
     },
     "metadata": {},
     "output_type": "display_data"
    },
    {
     "data": {
      "text/html": [
       "<span style=\"color: green\">1 rows affected.</span>"
      ],
      "text/plain": [
       "1 rows affected."
      ]
     },
     "metadata": {},
     "output_type": "display_data"
    },
    {
     "data": {
      "text/html": [
       "<span style=\"color: green\">1 rows affected.</span>"
      ],
      "text/plain": [
       "1 rows affected."
      ]
     },
     "metadata": {},
     "output_type": "display_data"
    },
    {
     "data": {
      "text/html": [
       "<span style=\"color: green\">1 rows affected.</span>"
      ],
      "text/plain": [
       "1 rows affected."
      ]
     },
     "metadata": {},
     "output_type": "display_data"
    },
    {
     "data": {
      "text/html": [
       "<span style=\"color: green\">1 rows affected.</span>"
      ],
      "text/plain": [
       "1 rows affected."
      ]
     },
     "metadata": {},
     "output_type": "display_data"
    },
    {
     "data": {
      "text/html": [
       "<span style=\"color: green\">1 rows affected.</span>"
      ],
      "text/plain": [
       "1 rows affected."
      ]
     },
     "metadata": {},
     "output_type": "display_data"
    },
    {
     "data": {
      "text/html": [
       "<span style=\"color: green\">1 rows affected.</span>"
      ],
      "text/plain": [
       "1 rows affected."
      ]
     },
     "metadata": {},
     "output_type": "display_data"
    },
    {
     "data": {
      "text/html": [
       "<span style=\"color: green\">1 rows affected.</span>"
      ],
      "text/plain": [
       "1 rows affected."
      ]
     },
     "metadata": {},
     "output_type": "display_data"
    },
    {
     "data": {
      "text/html": [
       "<span style=\"color: green\">1 rows affected.</span>"
      ],
      "text/plain": [
       "1 rows affected."
      ]
     },
     "metadata": {},
     "output_type": "display_data"
    },
    {
     "data": {
      "text/html": [
       "<span style=\"color: green\">1 rows affected.</span>"
      ],
      "text/plain": [
       "1 rows affected."
      ]
     },
     "metadata": {},
     "output_type": "display_data"
    },
    {
     "data": {
      "text/html": [
       "<span style=\"color: green\">1 rows affected.</span>"
      ],
      "text/plain": [
       "1 rows affected."
      ]
     },
     "metadata": {},
     "output_type": "display_data"
    },
    {
     "data": {
      "text/html": [
       "<span style=\"color: green\">1 rows affected.</span>"
      ],
      "text/plain": [
       "1 rows affected."
      ]
     },
     "metadata": {},
     "output_type": "display_data"
    },
    {
     "data": {
      "text/html": [
       "<span style=\"color: green\">1 rows affected.</span>"
      ],
      "text/plain": [
       "1 rows affected."
      ]
     },
     "metadata": {},
     "output_type": "display_data"
    },
    {
     "data": {
      "text/html": [
       "<span style=\"color: green\">1 rows affected.</span>"
      ],
      "text/plain": [
       "1 rows affected."
      ]
     },
     "metadata": {},
     "output_type": "display_data"
    },
    {
     "data": {
      "text/html": [
       "<span style=\"color: green\">1 rows affected.</span>"
      ],
      "text/plain": [
       "1 rows affected."
      ]
     },
     "metadata": {},
     "output_type": "display_data"
    },
    {
     "data": {
      "text/html": [
       "<span style=\"color: green\">1 rows affected.</span>"
      ],
      "text/plain": [
       "1 rows affected."
      ]
     },
     "metadata": {},
     "output_type": "display_data"
    },
    {
     "data": {
      "text/html": [
       "<span style=\"color: green\">1 rows affected.</span>"
      ],
      "text/plain": [
       "1 rows affected."
      ]
     },
     "metadata": {},
     "output_type": "display_data"
    },
    {
     "data": {
      "text/html": [
       "<span style=\"color: green\">1 rows affected.</span>"
      ],
      "text/plain": [
       "1 rows affected."
      ]
     },
     "metadata": {},
     "output_type": "display_data"
    },
    {
     "data": {
      "text/html": [
       "<span style=\"color: green\">1 rows affected.</span>"
      ],
      "text/plain": [
       "1 rows affected."
      ]
     },
     "metadata": {},
     "output_type": "display_data"
    },
    {
     "data": {
      "text/html": [
       "<span style=\"color: green\">1 rows affected.</span>"
      ],
      "text/plain": [
       "1 rows affected."
      ]
     },
     "metadata": {},
     "output_type": "display_data"
    },
    {
     "data": {
      "text/html": [
       "<span style=\"color: green\">1 rows affected.</span>"
      ],
      "text/plain": [
       "1 rows affected."
      ]
     },
     "metadata": {},
     "output_type": "display_data"
    },
    {
     "data": {
      "text/html": [
       "<span style=\"color: green\">1 rows affected.</span>"
      ],
      "text/plain": [
       "1 rows affected."
      ]
     },
     "metadata": {},
     "output_type": "display_data"
    },
    {
     "data": {
      "text/html": [
       "<span style=\"color: green\">1 rows affected.</span>"
      ],
      "text/plain": [
       "1 rows affected."
      ]
     },
     "metadata": {},
     "output_type": "display_data"
    },
    {
     "data": {
      "text/html": [
       "<span style=\"color: green\">1 rows affected.</span>"
      ],
      "text/plain": [
       "1 rows affected."
      ]
     },
     "metadata": {},
     "output_type": "display_data"
    },
    {
     "data": {
      "text/html": [
       "<span style=\"color: green\">1 rows affected.</span>"
      ],
      "text/plain": [
       "1 rows affected."
      ]
     },
     "metadata": {},
     "output_type": "display_data"
    },
    {
     "data": {
      "text/html": [
       "<span style=\"color: green\">1 rows affected.</span>"
      ],
      "text/plain": [
       "1 rows affected."
      ]
     },
     "metadata": {},
     "output_type": "display_data"
    },
    {
     "data": {
      "text/html": [
       "<span style=\"color: green\">1 rows affected.</span>"
      ],
      "text/plain": [
       "1 rows affected."
      ]
     },
     "metadata": {},
     "output_type": "display_data"
    },
    {
     "data": {
      "text/html": [
       "<span style=\"color: green\">1 rows affected.</span>"
      ],
      "text/plain": [
       "1 rows affected."
      ]
     },
     "metadata": {},
     "output_type": "display_data"
    },
    {
     "data": {
      "text/html": [
       "<span style=\"color: green\">1 rows affected.</span>"
      ],
      "text/plain": [
       "1 rows affected."
      ]
     },
     "metadata": {},
     "output_type": "display_data"
    },
    {
     "data": {
      "text/html": [
       "<span style=\"color: green\">1 rows affected.</span>"
      ],
      "text/plain": [
       "1 rows affected."
      ]
     },
     "metadata": {},
     "output_type": "display_data"
    },
    {
     "data": {
      "text/html": [
       "<span style=\"color: green\">1 rows affected.</span>"
      ],
      "text/plain": [
       "1 rows affected."
      ]
     },
     "metadata": {},
     "output_type": "display_data"
    },
    {
     "data": {
      "text/html": [
       "<span style=\"color: green\">1 rows affected.</span>"
      ],
      "text/plain": [
       "1 rows affected."
      ]
     },
     "metadata": {},
     "output_type": "display_data"
    },
    {
     "data": {
      "text/html": [
       "<span style=\"color: green\">1 rows affected.</span>"
      ],
      "text/plain": [
       "1 rows affected."
      ]
     },
     "metadata": {},
     "output_type": "display_data"
    },
    {
     "data": {
      "text/html": [
       "<table>\n",
       "    <thead>\n",
       "        <tr>\n",
       "        </tr>\n",
       "    </thead>\n",
       "    <tbody>\n",
       "    </tbody>\n",
       "</table>"
      ],
      "text/plain": [
       "++\n",
       "||\n",
       "++\n",
       "++"
      ]
     },
     "execution_count": 62,
     "metadata": {},
     "output_type": "execute_result"
    }
   ],
   "source": [
    "%%sql\n",
    "insert into patients (patient_id, first_name, last_name, gender, birth_date, city, province_id, allergies, height, weight) values (1, 'Arleen', 'Geall', 'F', '5/28/2025', 'Providence', 'RI', 'Bypass L Brach Vein to Up Vein w Nonaut Sub, Open', 31, 215);\n",
    "insert into patients (patient_id, first_name, last_name, gender, birth_date, city, province_id, allergies, height, weight) values (2, 'Opalina', 'Allam', 'F', '2/14/2025', 'San Mateo', 'CA', 'Dilation of L Hypogast Vein with Intralum Dev, Perc Approach', 75, 244);\n",
    "insert into patients (patient_id, first_name, last_name, gender, birth_date, city, province_id, allergies, height, weight) values (3, 'Clare', 'Staresmeare', 'M', '4/19/2025', 'Richmond', 'VA', 'Dilation of 3 Cor Art with 3 Intralum Dev, Perc Approach', 40, 285);\n",
    "insert into patients (patient_id, first_name, last_name, gender, birth_date, city, province_id, allergies, height, weight) values (4, 'Wilbur', 'Boydon', 'M', '9/6/2025', 'Birmingham', 'AL', 'Replacement of Upper Lip with Autol Sub, Open Approach', 82, 280);\n",
    "insert into patients (patient_id, first_name, last_name, gender, birth_date, city, province_id, allergies, height, weight) values (5, 'Ernest', 'Branscomb', 'M', '6/8/2025', 'Columbia', 'SC', 'Occlusion R Great Saphenous w Intralum Dev, Open', 45, 125);\n",
    "insert into patients (patient_id, first_name, last_name, gender, birth_date, city, province_id, allergies, height, weight) values (6, 'Aurel', 'Frane', 'F', '10/9/2025', 'Philadelphia', 'PA', 'Fragmentation in Pericardium, Percutaneous Approach', 181, 182);\n",
    "insert into patients (patient_id, first_name, last_name, gender, birth_date, city, province_id, allergies, height, weight) values (7, 'Troy', 'Owbridge', 'M', '7/22/2025', 'Fort Myers', 'FL', 'Repair Left Superior Parathyroid Gland, Open Approach', 85, 139);\n",
    "insert into patients (patient_id, first_name, last_name, gender, birth_date, city, province_id, allergies, height, weight) values (8, 'Kristien', 'Plumbridge', 'F', '9/29/2025', 'Washington', 'DC', 'Change Other Device in Pancreatic Duct, External Approach', 81, 211);\n",
    "insert into patients (patient_id, first_name, last_name, gender, birth_date, city, province_id, allergies, height, weight) values (9, 'Adler', 'Jeannet', 'M', '2/16/2025', 'Prescott', 'AZ', 'Planar Nucl Med Imag Bi Salivary Gland w Oth Radionuclide', 120, 70);\n",
    "insert into patients (patient_id, first_name, last_name, gender, birth_date, city, province_id, allergies, height, weight) values (10, 'Nanine', 'Gatecliff', 'F', '7/14/2025', 'Dallas', 'TX', 'Heart and Great Vessels, Map', 162, 45);\n",
    "insert into patients (patient_id, first_name, last_name, gender, birth_date, city, province_id, allergies, height, weight) values (11, 'Petra', 'Gibbin', 'F', '4/16/2025', 'Portland', 'OR', 'Dilate L Ant Tib Art, Bifurc, w 3 Intralum Dev, Perc', 109, 92);\n",
    "insert into patients (patient_id, first_name, last_name, gender, birth_date, city, province_id, allergies, height, weight) values (12, 'Sylas', 'Nacci', 'M', '2/1/2025', 'Charleston', 'SC', 'Removal of Nonaut Sub from R Extraoc Muscle, Open Approach', 151, 228);\n",
    "insert into patients (patient_id, first_name, last_name, gender, birth_date, city, province_id, allergies, height, weight) values (13, 'Greta', 'Bann', 'Non-binary', '12/5/2024', 'Asheville', 'NC', 'Release Right Femoral Vein, Percutaneous Approach', 51, 249);\n",
    "insert into patients (patient_id, first_name, last_name, gender, birth_date, city, province_id, allergies, height, weight) values (14, 'Harriot', 'Olenov', 'F', '10/31/2024', 'Baton Rouge', 'LA', 'Restriction of Esophagus, Open Approach', 128, 253);\n",
    "insert into patients (patient_id, first_name, last_name, gender, birth_date, city, province_id, allergies, height, weight) values (15, 'Carrie', 'Bohike', 'F', '5/18/2025', 'Trenton', 'NJ', 'Bypass R Kidney Pelvis to Ileum w Autol Sub, Open', 180, 166);\n",
    "insert into patients (patient_id, first_name, last_name, gender, birth_date, city, province_id, allergies, height, weight) values (16, 'Caty', 'Eates', 'F', '7/3/2025', 'Tallahassee', 'FL', 'Excision of Pulmonary Trunk, Open Approach, Diagnostic', 188, 32);\n",
    "insert into patients (patient_id, first_name, last_name, gender, birth_date, city, province_id, allergies, height, weight) values (17, 'Jemima', 'Jakoub', 'F', '3/6/2025', 'Evansville', 'IN', 'Bypass Bi Ureter to L Ureter with Synth Sub, Open Approach', 186, 126);\n",
    "insert into patients (patient_id, first_name, last_name, gender, birth_date, city, province_id, allergies, height, weight) values (18, 'Malachi', 'Phalip', 'Genderfluid', '4/4/2025', 'Kansas City', 'KS', 'Removal of Splint on Face', 160, 266);\n",
    "insert into patients (patient_id, first_name, last_name, gender, birth_date, city, province_id, allergies, height, weight) values (19, 'Georgie', 'Giotto', 'F', '1/27/2025', 'Wichita', 'KS', 'Repair Pancreatic Duct, Percutaneous Approach', 141, 126);\n",
    "insert into patients (patient_id, first_name, last_name, gender, birth_date, city, province_id, allergies, height, weight) values (20, 'Idette', 'Corton', 'F', '8/12/2025', 'Washington', 'DC', 'Drainage of Cul-de-sac, Via Natural or Artificial Opening', 41, 217);\n",
    "insert into patients (patient_id, first_name, last_name, gender, birth_date, city, province_id, allergies, height, weight) values (21, 'Darda', 'Bresson', 'F', '4/3/2025', 'Harrisburg', 'PA', 'Eye, Dilation', 40, 83);\n",
    "insert into patients (patient_id, first_name, last_name, gender, birth_date, city, province_id, allergies, height, weight) values (22, 'Filmer', 'Robben', 'M', '12/15/2024', 'Minneapolis', 'MN', 'Revision of Other Device in GI Tract, Open Approach', 185, 170);\n",
    "insert into patients (patient_id, first_name, last_name, gender, birth_date, city, province_id, allergies, height, weight) values (23, 'Lethia', 'Shovell', 'F', '1/5/2025', 'Appleton', 'WI', 'Dilate 4+ Cor Art, Bifurc, w 4+ Intralum Dev, Perc Endo', 50, 275);\n",
    "insert into patients (patient_id, first_name, last_name, gender, birth_date, city, province_id, allergies, height, weight) values (24, 'Camel', 'Le Barr', 'F', '5/15/2025', 'Orlando', 'FL', 'Reposition R Metatarsophal Jt with Int Fix, Open Approach', 37, 27);\n",
    "insert into patients (patient_id, first_name, last_name, gender, birth_date, city, province_id, allergies, height, weight) values (25, 'Martelle', 'Paquet', 'F', '3/24/2025', 'Oakland', 'CA', 'Drainage of Pineal Body, Percutaneous Approach', 48, 157);\n",
    "insert into patients (patient_id, first_name, last_name, gender, birth_date, city, province_id, allergies, height, weight) values (26, 'Aili', 'Kolak', 'F', '6/2/2025', 'Hartford', 'CT', 'Revision of Int Fix in R Femur Shaft, Perc Endo Approach', 43, 260);\n",
    "insert into patients (patient_id, first_name, last_name, gender, birth_date, city, province_id, allergies, height, weight) values (27, 'Enrika', 'Dankersley', 'F', '1/7/2025', 'Kansas City', 'MO', 'Restrict R Com Iliac Art w Fenestr Dev 3+, Perc Endo', 102, 194);\n",
    "insert into patients (patient_id, first_name, last_name, gender, birth_date, city, province_id, allergies, height, weight) values (28, 'Percival', 'Chretien', 'M', '9/25/2025', 'Lexington', 'KY', 'MRI of Nasophar/Orophar using Oth Contrast', 95, 108);\n",
    "insert into patients (patient_id, first_name, last_name, gender, birth_date, city, province_id, allergies, height, weight) values (29, 'Dannie', 'Breche', 'M', '11/3/2024', 'Montgomery', 'AL', 'Removal of Ext Fix from L Femur Shaft, Extern Approach', 137, 30);\n",
    "insert into patients (patient_id, first_name, last_name, gender, birth_date, city, province_id, allergies, height, weight) values (30, 'Aggy', 'Grzegorczyk', 'Bigender', '11/2/2024', 'Denver', 'CO', 'Replacement of L Fem Art with Synth Sub, Perc Endo Approach', 199, 274);\n",
    "insert into patients (patient_id, first_name, last_name, gender, birth_date, city, province_id, allergies, height, weight) values (31, 'Priscella', 'Tims', 'F', '6/26/2025', 'Sarasota', 'FL', 'Restriction of Face Artery with Intralum Dev, Open Approach', 160, 185);\n",
    "insert into patients (patient_id, first_name, last_name, gender, birth_date, city, province_id, allergies, height, weight) values (32, 'Fidelio', 'Alan', 'M', '4/23/2025', 'Carlsbad', 'CA', 'Introduction of Liquid Brachy into GU Tract, Perc Approach', 200, 104);\n",
    "insert into patients (patient_id, first_name, last_name, gender, birth_date, city, province_id, allergies, height, weight) values (33, 'Karola', 'Binnie', 'F', '1/1/2025', 'Huntington', 'WV', 'Coord/Dexterity Trmt Integu Low Back/LE w Assist Equip', 48, 127);\n",
    "insert into patients (patient_id, first_name, last_name, gender, birth_date, city, province_id, allergies, height, weight) values (34, 'Marcia', 'Di Boldi', 'F', '6/8/2025', 'Southfield', 'MI', 'Release Left Lung, Percutaneous Approach', 179, 79);\n",
    "insert into patients (patient_id, first_name, last_name, gender, birth_date, city, province_id, allergies, height, weight) values (35, 'Jakob', 'Sivyer', 'M', '12/9/2024', 'Phoenix', 'AZ', 'Reposition Left Clavicle, Open Approach', 94, 248);\n",
    "insert into patients (patient_id, first_name, last_name, gender, birth_date, city, province_id, allergies, height, weight) values (36, 'Felita', 'Rheaume', 'F', '8/29/2025', 'Fresno', 'CA', 'Replacement of R Hand Skin with Synth Sub, Extern Approach', 46, 238);\n",
    "insert into patients (patient_id, first_name, last_name, gender, birth_date, city, province_id, allergies, height, weight) values (37, 'Florinda', 'Leonards', 'F', '10/15/2025', 'Saint Petersburg', 'FL', 'Supplement Right Cornea with Nonaut Sub, Extern Approach', 106, 113);\n",
    "insert into patients (patient_id, first_name, last_name, gender, birth_date, city, province_id, allergies, height, weight) values (38, 'Corbie', 'Demschke', 'M', '6/10/2025', 'Columbus', 'OH', 'Replacement of R Pulm Art with Zooplastic, Open Approach', 194, 267);\n",
    "insert into patients (patient_id, first_name, last_name, gender, birth_date, city, province_id, allergies, height, weight) values (39, 'Yvon', 'Hordle', 'M', '7/10/2025', 'San Mateo', 'CA', 'Destruction of Left Vas Deferens, Percutaneous Approach', 79, 240);\n",
    "insert into patients (patient_id, first_name, last_name, gender, birth_date, city, province_id, allergies, height, weight) values (40, 'Dollie', 'Barkess', 'F', '10/23/2025', 'Baltimore', 'MD', 'Occlusion of Left Upper Lobe Bronchus, Percutaneous Approach', 96, 151);\n",
    "insert into patients (patient_id, first_name, last_name, gender, birth_date, city, province_id, allergies, height, weight) values (41, 'Meryl', 'Roskam', 'M', '5/12/2025', 'Cincinnati', 'OH', 'Revision of Synth Sub in L Metatarsal, Extern Approach', 54, 244);\n",
    "insert into patients (patient_id, first_name, last_name, gender, birth_date, city, province_id, allergies, height, weight) values (42, 'Harbert', 'Chater', 'M', '5/18/2025', 'Bellevue', 'WA', 'Release Right Lower Eyelid, External Approach', 127, 176);\n",
    "insert into patients (patient_id, first_name, last_name, gender, birth_date, city, province_id, allergies, height, weight) values (43, 'Krystalle', 'Artingstall', 'F', '1/4/2025', 'New Orleans', 'LA', 'Revision of Extralum Dev in Uterus & Cervix, Via Opening', 118, 209);\n",
    "insert into patients (patient_id, first_name, last_name, gender, birth_date, city, province_id, allergies, height, weight) values (44, 'Chere', 'Bulleyn', 'Agender', '8/29/2025', 'Daytona Beach', 'FL', 'Caregiver Train in Applic/Use/Care Prosthesis w Assist Equip', 200, 101);\n",
    "insert into patients (patient_id, first_name, last_name, gender, birth_date, city, province_id, allergies, height, weight) values (45, 'Linnet', 'Gwilym', 'F', '2/12/2025', 'Henderson', 'NV', 'Drainage of Stomach, Percutaneous Approach, Diagnostic', 138, 245);\n",
    "insert into patients (patient_id, first_name, last_name, gender, birth_date, city, province_id, allergies, height, weight) values (46, 'Bambi', 'Francais', 'F', '5/30/2025', 'Houston', 'TX', 'Supplement Left Radius with Synth Sub, Perc Approach', 145, 131);\n",
    "insert into patients (patient_id, first_name, last_name, gender, birth_date, city, province_id, allergies, height, weight) values (47, 'Sander', 'Hargate', 'M', '4/16/2025', 'Orlando', 'FL', 'Supplement Left Palatine Bone with Synth Sub, Open Approach', 88, 46);\n",
    "insert into patients (patient_id, first_name, last_name, gender, birth_date, city, province_id, allergies, height, weight) values (48, 'Natal', 'Kornilyev', 'M', '6/20/2025', 'El Paso', 'TX', 'Removal of Drain Dev from R Acromioclav Jt, Perc Approach', 35, 298);\n",
    "insert into patients (patient_id, first_name, last_name, gender, birth_date, city, province_id, allergies, height, weight) values (49, 'Leonora', 'Petcher', 'F', '5/8/2025', 'Jacksonville', 'FL', 'Restriction of R Renal Art with Extralum Dev, Open Approach', 79, 218);\n",
    "insert into patients (patient_id, first_name, last_name, gender, birth_date, city, province_id, allergies, height, weight) values (50, 'Chase', 'Charker', 'Polygender', '10/14/2025', 'Colorado Springs', 'CO', 'Remove Autol Sub from Low Extrem Subcu/Fascia, Open', 104, 94);\n",
    "insert into patients (patient_id, first_name, last_name, gender, birth_date, city, province_id, allergies, height, weight) values (51, 'Sindee', 'Philott', 'F', '2/4/2025', 'Bakersfield', 'CA', 'Bypass Spinal Canal to Periton Cav w Synth Sub, Open', 38, 147);\n",
    "insert into patients (patient_id, first_name, last_name, gender, birth_date, city, province_id, allergies, height, weight) values (52, 'Patience', 'Dagg', 'F', '7/13/2025', 'Cincinnati', 'OH', 'Extraction of Nasal Turbinate, Perc Endo Approach', 49, 210);\n",
    "insert into patients (patient_id, first_name, last_name, gender, birth_date, city, province_id, allergies, height, weight) values (53, 'Nyssa', 'Tipping', 'F', '5/31/2025', 'Dallas', 'TX', 'Excision of Right Finger Phalanx, Perc Endo Approach', 57, 207);\n",
    "insert into patients (patient_id, first_name, last_name, gender, birth_date, city, province_id, allergies, height, weight) values (54, 'Margy', 'Cradick', 'F', '12/28/2024', 'Inglewood', 'CA', 'Extraction of Head Neck Symp Nrv, Perc Endo Approach', 53, 151);\n",
    "insert into patients (patient_id, first_name, last_name, gender, birth_date, city, province_id, allergies, height, weight) values (55, 'Dwayne', 'Tippett', 'Non-binary', '11/22/2024', 'Visalia', 'CA', 'Alteration of R Up Eyelid with Synth Sub, Perc Approach', 200, 58);\n",
    "insert into patients (patient_id, first_name, last_name, gender, birth_date, city, province_id, allergies, height, weight) values (56, 'Arlana', 'Heinreich', 'F', '5/8/2025', 'Dallas', 'TX', 'Bypass L Atrium to R Pulm Art w Nonaut Sub, Perc Endo', 124, 30);\n",
    "insert into patients (patient_id, first_name, last_name, gender, birth_date, city, province_id, allergies, height, weight) values (57, 'Sydney', 'Spenton', 'M', '1/26/2025', 'Tacoma', 'WA', 'Computerized Tomography (CT Scan) of Mandible', 112, 161);\n",
    "insert into patients (patient_id, first_name, last_name, gender, birth_date, city, province_id, allergies, height, weight) values (58, 'Josepha', 'Boas', 'F', '10/24/2025', 'Honolulu', 'HI', 'Restriction of Left Ureter with Intralum Dev, Open Approach', 147, 287);\n",
    "insert into patients (patient_id, first_name, last_name, gender, birth_date, city, province_id, allergies, height, weight) values (59, 'Lorette', 'Schinetti', 'F', '9/14/2025', 'Denver', 'CO', 'Insertion of Defib Lead into R Atrium, Perc Endo Approach', 178, 298);\n",
    "insert into patients (patient_id, first_name, last_name, gender, birth_date, city, province_id, allergies, height, weight) values (60, 'Nariko', 'Winser', 'F', '8/27/2025', 'Denver', 'CO', 'Supplement L Low Lobe Bronc with Nonaut Sub, Open Approach', 80, 44);\n",
    "insert into patients (patient_id, first_name, last_name, gender, birth_date, city, province_id, allergies, height, weight) values (61, 'Farlay', 'Snary', 'M', '5/25/2025', 'Seattle', 'WA', 'Insertion of Intralum Dev into L Peroneal Art, Perc Approach', 150, 185);\n",
    "insert into patients (patient_id, first_name, last_name, gender, birth_date, city, province_id, allergies, height, weight) values (62, 'Leora', 'Oldcote', 'F', '2/24/2025', 'Stamford', 'CT', 'Revision of Int Fix in R Sternoclav Jt, Open Approach', 134, 144);\n",
    "insert into patients (patient_id, first_name, last_name, gender, birth_date, city, province_id, allergies, height, weight) values (63, 'Jonas', 'Czajkowski', 'M', '5/22/2025', 'Buffalo', 'NY', 'Plain Radiography of R Pulm Art using L Osm Contrast', 107, 29);\n",
    "insert into patients (patient_id, first_name, last_name, gender, birth_date, city, province_id, allergies, height, weight) values (64, 'Darsey', 'Wrinch', 'Non-binary', '7/11/2025', 'Florence', 'SC', 'Reposition Left Humeral Head, Perc Endo Approach', 126, 192);\n",
    "insert into patients (patient_id, first_name, last_name, gender, birth_date, city, province_id, allergies, height, weight) values (65, 'Ermengarde', 'Tambling', 'F', '1/3/2025', 'New York City', 'NY', 'Supplement Thoracic Vertebra with Synth Sub, Perc Approach', 120, 10);\n",
    "insert into patients (patient_id, first_name, last_name, gender, birth_date, city, province_id, allergies, height, weight) values (66, 'Aurelia', 'Jakubczyk', 'F', '4/20/2025', 'New York City', 'NY', 'Bypass R Subclav Art to L Low Leg Art w Autol Art, Open', 45, 97);\n",
    "insert into patients (patient_id, first_name, last_name, gender, birth_date, city, province_id, allergies, height, weight) values (67, 'Fabian', 'Biasioni', 'M', '11/23/2024', 'Baton Rouge', 'LA', 'Drainage of Thalamus with Drain Dev, Perc Endo Approach', 105, 234);\n",
    "insert into patients (patient_id, first_name, last_name, gender, birth_date, city, province_id, allergies, height, weight) values (68, 'Colet', 'Carcas', 'M', '8/27/2025', 'Denver', 'CO', 'Occlusion of R Axilla Lymph with Intralum Dev, Open Approach', 164, 101);\n",
    "insert into patients (patient_id, first_name, last_name, gender, birth_date, city, province_id, allergies, height, weight) values (69, 'Karola', 'McQuarter', 'F', '8/8/2025', 'Duluth', 'MN', 'HDR Brachytherapy of Ileum using Californium 252', 39, 223);\n",
    "insert into patients (patient_id, first_name, last_name, gender, birth_date, city, province_id, allergies, height, weight) values (70, 'Andee', 'Dyka', 'F', '9/19/2025', 'Durham', 'NC', 'Excision of Left Metacarpal, Open Approach, Diagnostic', 156, 290);\n",
    "insert into patients (patient_id, first_name, last_name, gender, birth_date, city, province_id, allergies, height, weight) values (71, 'Cathe', 'Pegrum', 'F', '5/31/2025', 'Marietta', 'GA', 'Revision of Nonaut Sub in Nose, Perc Approach', 88, 25);\n",
    "insert into patients (patient_id, first_name, last_name, gender, birth_date, city, province_id, allergies, height, weight) values (72, 'Nikki', 'Kollatsch', 'F', '2/11/2025', 'Henderson', 'NV', 'Restrict L Neck Lymph w Intralum Dev, Perc Endo', 127, 136);\n",
    "insert into patients (patient_id, first_name, last_name, gender, birth_date, city, province_id, allergies, height, weight) values (73, 'Sara-ann', 'Tohill', 'F', '1/5/2025', 'Houston', 'TX', 'Replacement of Bladder Neck with Autol Sub, Open Approach', 104, 206);\n",
    "insert into patients (patient_id, first_name, last_name, gender, birth_date, city, province_id, allergies, height, weight) values (74, 'Kimmy', 'Livingston', 'F', '8/1/2025', 'Minneapolis', 'MN', 'Extirpation of Matter from Left Tibia, Open Approach', 31, 227);\n",
    "insert into patients (patient_id, first_name, last_name, gender, birth_date, city, province_id, allergies, height, weight) values (75, 'Lizzie', 'Adess', 'F', '7/23/2025', 'Memphis', 'TN', 'Dilation of R Renal Art with 2 Intralum Dev, Open Approach', 79, 68);\n",
    "insert into patients (patient_id, first_name, last_name, gender, birth_date, city, province_id, allergies, height, weight) values (76, 'Charlton', 'Hubbock', 'M', '11/7/2024', 'Pasadena', 'CA', 'Planar Nucl Med Imag L Up Extrem Vein w Technetium 99m', 43, 221);\n",
    "insert into patients (patient_id, first_name, last_name, gender, birth_date, city, province_id, allergies, height, weight) values (77, 'Meggy', 'Hutchinson', 'F', '2/26/2025', 'Fullerton', 'CA', 'Replacement of Buccal Mucosa with Synth Sub, Open Approach', 113, 160);\n",
    "insert into patients (patient_id, first_name, last_name, gender, birth_date, city, province_id, allergies, height, weight) values (78, 'Dulsea', 'Book', 'F', '2/9/2025', 'New York City', 'NY', 'Bypass Bi Ureter to Colon with Synth Sub, Perc Endo Approach', 142, 153);\n",
    "insert into patients (patient_id, first_name, last_name, gender, birth_date, city, province_id, allergies, height, weight) values (79, 'Brinn', 'Van Der Vlies', 'F', '3/15/2025', 'Lexington', 'KY', 'Excision of Right Subclavian Artery, Open Approach', 103, 116);\n",
    "insert into patients (patient_id, first_name, last_name, gender, birth_date, city, province_id, allergies, height, weight) values (80, 'Isak', 'Backshaw', 'M', '2/8/2025', 'Washington', 'DC', 'Bypass Inf Vena Cava to Low Vein w Nonaut Sub, Open', 76, 19);\n",
    "insert into patients (patient_id, first_name, last_name, gender, birth_date, city, province_id, allergies, height, weight) values (81, 'Pebrook', 'Kreber', 'M', '1/22/2025', 'Evansville', 'IN', 'Excision of Left Inguinal Region, Perc Endo Approach', 101, 257);\n",
    "insert into patients (patient_id, first_name, last_name, gender, birth_date, city, province_id, allergies, height, weight) values (82, 'Lezlie', 'Golling', 'F', '2/28/2025', 'Sarasota', 'FL', 'Detachment at Right Hand, Complete, Open Approach', 96, 98);\n",
    "insert into patients (patient_id, first_name, last_name, gender, birth_date, city, province_id, allergies, height, weight) values (83, 'Janek', 'Kinchley', 'M', '4/22/2025', 'Phoenix', 'AZ', 'Repair Mouth and Throat in POC with Oth Dev, Via Opening', 128, 17);\n",
    "insert into patients (patient_id, first_name, last_name, gender, birth_date, city, province_id, allergies, height, weight) values (84, 'Laure', 'Brookwood', 'F', '10/5/2025', 'Memphis', 'TN', 'Insertion of Infusion Device into Abd Wall, Perc Approach', 132, 280);\n",
    "insert into patients (patient_id, first_name, last_name, gender, birth_date, city, province_id, allergies, height, weight) values (85, 'Ira', 'Common', 'F', '3/13/2025', 'Colorado Springs', 'CO', 'Drainage of Left External Ear with Drain Dev, Open Approach', 107, 281);\n",
    "insert into patients (patient_id, first_name, last_name, gender, birth_date, city, province_id, allergies, height, weight) values (86, 'Hyman', 'Lenard', 'Polygender', '7/7/2025', 'Huntington', 'WV', 'Imaging, Fetus and Obstetrical, Ultrasonography', 175, 57);\n",
    "insert into patients (patient_id, first_name, last_name, gender, birth_date, city, province_id, allergies, height, weight) values (87, 'Osgood', 'Mish', 'M', '10/28/2025', 'Pomona', 'CA', 'Bypass Gastric Vein to Low Vein with Autol Vn, Open Approach', 184, 270);\n",
    "insert into patients (patient_id, first_name, last_name, gender, birth_date, city, province_id, allergies, height, weight) values (88, 'Archer', 'Yannikov', 'M', '9/1/2025', 'Long Beach', 'CA', 'Reattachment of R Foot Bursa/Lig, Perc Endo Approach', 162, 51);\n",
    "insert into patients (patient_id, first_name, last_name, gender, birth_date, city, province_id, allergies, height, weight) values (89, 'Garrett', 'Fendley', 'M', '10/9/2025', 'Santa Cruz', 'CA', 'Revision of Intraluminal Device in Trachea, Open Approach', 154, 164);\n",
    "insert into patients (patient_id, first_name, last_name, gender, birth_date, city, province_id, allergies, height, weight) values (90, 'Chic', 'Simner', 'M', '10/5/2025', 'Temple', 'TX', 'Fusion of Right Elbow Joint with Ext Fix, Open Approach', 47, 11);\n",
    "insert into patients (patient_id, first_name, last_name, gender, birth_date, city, province_id, allergies, height, weight) values (91, 'Laverna', 'Bridgewater', 'Bigender', '12/11/2024', 'Sacramento', 'CA', 'Drainage of Buttock Subcu/Fascia, Perc Approach', 52, 86);\n",
    "insert into patients (patient_id, first_name, last_name, gender, birth_date, city, province_id, allergies, height, weight) values (92, 'Morgun', 'Jimes', 'Genderfluid', '3/24/2025', 'Raleigh', 'NC', 'Revision of Infusion Device in Lower Vein, Perc Approach', 103, 106);\n",
    "insert into patients (patient_id, first_name, last_name, gender, birth_date, city, province_id, allergies, height, weight) values (93, 'Levon', 'Pawley', 'M', '6/30/2025', 'Sacramento', 'CA', 'Replacement of R Shoulder Jt with Synth Sub, Open Approach', 105, 91);\n",
    "insert into patients (patient_id, first_name, last_name, gender, birth_date, city, province_id, allergies, height, weight) values (94, 'Bartlett', 'Liddicoat', 'M', '10/30/2024', 'San Bernardino', 'CA', 'Replacement of L Low Femur with Nonaut Sub, Open Approach', 162, 30);\n",
    "insert into patients (patient_id, first_name, last_name, gender, birth_date, city, province_id, allergies, height, weight) values (95, 'Abbey', 'Boribal', 'M', '9/3/2025', 'El Paso', 'TX', 'Removal of Drainage Device from Kidney, Perc Approach', 99, 85);\n",
    "insert into patients (patient_id, first_name, last_name, gender, birth_date, city, province_id, allergies, height, weight) values (96, 'Zak', 'Eagar', 'M', '5/12/2025', 'Panama City', 'FL', 'Drainage of Right Hand Skin with Drain Dev, Extern Approach', 157, 79);\n",
    "insert into patients (patient_id, first_name, last_name, gender, birth_date, city, province_id, allergies, height, weight) values (97, 'Coral', 'Greenman', 'F', '7/29/2025', 'Topeka', 'KS', 'Remove Synth Sub from R Hip Jt, Femoral, Perc Endo', 89, 131);\n",
    "insert into patients (patient_id, first_name, last_name, gender, birth_date, city, province_id, allergies, height, weight) values (98, 'Waylon', 'Blackey', 'M', '11/8/2024', 'Cincinnati', 'OH', 'Drainage of Thoracic Sympathetic Nerve, Perc Approach', 182, 190);\n",
    "insert into patients (patient_id, first_name, last_name, gender, birth_date, city, province_id, allergies, height, weight) values (99, 'Herc', 'Deniseau', 'Non-binary', '6/20/2025', 'Birmingham', 'AL', 'Dilation of L Temporal Art with Intralum Dev, Perc Approach', 53, 53);\n"
   ]
  },
  {
   "cell_type": "code",
   "execution_count": 63,
   "id": "c515a4c5",
   "metadata": {},
   "outputs": [
    {
     "data": {
      "text/html": [
       "<span style=\"None\">Running query in &#x27;sqlite:///data/hospitaldatabase.db&#x27;</span>"
      ],
      "text/plain": [
       "Running query in 'sqlite:///data/hospitaldatabase.db'"
      ]
     },
     "metadata": {},
     "output_type": "display_data"
    },
    {
     "data": {
      "text/html": [
       "<table>\n",
       "    <thead>\n",
       "        <tr>\n",
       "            <th>patient_id</th>\n",
       "            <th>first_name</th>\n",
       "            <th>last_name</th>\n",
       "            <th>gender</th>\n",
       "            <th>birth_date</th>\n",
       "            <th>city</th>\n",
       "            <th>province_id</th>\n",
       "            <th>allergies</th>\n",
       "            <th>height</th>\n",
       "            <th>weight</th>\n",
       "        </tr>\n",
       "    </thead>\n",
       "    <tbody>\n",
       "        <tr>\n",
       "            <td>1</td>\n",
       "            <td>Arleen</td>\n",
       "            <td>Geall</td>\n",
       "            <td>F</td>\n",
       "            <td>5/28/2025</td>\n",
       "            <td>Providence</td>\n",
       "            <td>RI</td>\n",
       "            <td>Bypass L Brach Vein to Up Vein w Nonaut Sub, Open</td>\n",
       "            <td>31</td>\n",
       "            <td>215</td>\n",
       "        </tr>\n",
       "        <tr>\n",
       "            <td>2</td>\n",
       "            <td>Opalina</td>\n",
       "            <td>Allam</td>\n",
       "            <td>F</td>\n",
       "            <td>2/14/2025</td>\n",
       "            <td>San Mateo</td>\n",
       "            <td>CA</td>\n",
       "            <td>Dilation of L Hypogast Vein with Intralum Dev, Perc Approach</td>\n",
       "            <td>75</td>\n",
       "            <td>244</td>\n",
       "        </tr>\n",
       "        <tr>\n",
       "            <td>3</td>\n",
       "            <td>Clare</td>\n",
       "            <td>Staresmeare</td>\n",
       "            <td>M</td>\n",
       "            <td>4/19/2025</td>\n",
       "            <td>Richmond</td>\n",
       "            <td>VA</td>\n",
       "            <td>Dilation of 3 Cor Art with 3 Intralum Dev, Perc Approach</td>\n",
       "            <td>40</td>\n",
       "            <td>285</td>\n",
       "        </tr>\n",
       "        <tr>\n",
       "            <td>4</td>\n",
       "            <td>Wilbur</td>\n",
       "            <td>Boydon</td>\n",
       "            <td>M</td>\n",
       "            <td>9/6/2025</td>\n",
       "            <td>Birmingham</td>\n",
       "            <td>AL</td>\n",
       "            <td>Replacement of Upper Lip with Autol Sub, Open Approach</td>\n",
       "            <td>82</td>\n",
       "            <td>280</td>\n",
       "        </tr>\n",
       "        <tr>\n",
       "            <td>5</td>\n",
       "            <td>Ernest</td>\n",
       "            <td>Branscomb</td>\n",
       "            <td>M</td>\n",
       "            <td>6/8/2025</td>\n",
       "            <td>Columbia</td>\n",
       "            <td>SC</td>\n",
       "            <td>Occlusion R Great Saphenous w Intralum Dev, Open</td>\n",
       "            <td>45</td>\n",
       "            <td>125</td>\n",
       "        </tr>\n",
       "        <tr>\n",
       "            <td>6</td>\n",
       "            <td>Aurel</td>\n",
       "            <td>Frane</td>\n",
       "            <td>F</td>\n",
       "            <td>10/9/2025</td>\n",
       "            <td>Philadelphia</td>\n",
       "            <td>PA</td>\n",
       "            <td>Fragmentation in Pericardium, Percutaneous Approach</td>\n",
       "            <td>181</td>\n",
       "            <td>182</td>\n",
       "        </tr>\n",
       "        <tr>\n",
       "            <td>7</td>\n",
       "            <td>Troy</td>\n",
       "            <td>Owbridge</td>\n",
       "            <td>M</td>\n",
       "            <td>7/22/2025</td>\n",
       "            <td>Fort Myers</td>\n",
       "            <td>FL</td>\n",
       "            <td>Repair Left Superior Parathyroid Gland, Open Approach</td>\n",
       "            <td>85</td>\n",
       "            <td>139</td>\n",
       "        </tr>\n",
       "        <tr>\n",
       "            <td>8</td>\n",
       "            <td>Kristien</td>\n",
       "            <td>Plumbridge</td>\n",
       "            <td>F</td>\n",
       "            <td>9/29/2025</td>\n",
       "            <td>Washington</td>\n",
       "            <td>DC</td>\n",
       "            <td>Change Other Device in Pancreatic Duct, External Approach</td>\n",
       "            <td>81</td>\n",
       "            <td>211</td>\n",
       "        </tr>\n",
       "        <tr>\n",
       "            <td>9</td>\n",
       "            <td>Adler</td>\n",
       "            <td>Jeannet</td>\n",
       "            <td>M</td>\n",
       "            <td>2/16/2025</td>\n",
       "            <td>Prescott</td>\n",
       "            <td>AZ</td>\n",
       "            <td>Planar Nucl Med Imag Bi Salivary Gland w Oth Radionuclide</td>\n",
       "            <td>120</td>\n",
       "            <td>70</td>\n",
       "        </tr>\n",
       "        <tr>\n",
       "            <td>10</td>\n",
       "            <td>Nanine</td>\n",
       "            <td>Gatecliff</td>\n",
       "            <td>F</td>\n",
       "            <td>7/14/2025</td>\n",
       "            <td>Dallas</td>\n",
       "            <td>TX</td>\n",
       "            <td>Heart and Great Vessels, Map</td>\n",
       "            <td>162</td>\n",
       "            <td>45</td>\n",
       "        </tr>\n",
       "    </tbody>\n",
       "</table>\n",
       "<span style=\"font-style:italic;text-align:center;\">Truncated to <a href=\"https://jupysql.ploomber.io/en/latest/api/configuration.html#displaylimit\">displaylimit</a> of 10.</span>"
      ],
      "text/plain": [
       "+------------+------------+-------------+--------+------------+--------------+-------------+--------------------------------------------------------------+--------+--------+\n",
       "| patient_id | first_name |  last_name  | gender | birth_date |     city     | province_id |                          allergies                           | height | weight |\n",
       "+------------+------------+-------------+--------+------------+--------------+-------------+--------------------------------------------------------------+--------+--------+\n",
       "|     1      |   Arleen   |    Geall    |   F    | 5/28/2025  |  Providence  |      RI     |      Bypass L Brach Vein to Up Vein w Nonaut Sub, Open       |   31   |  215   |\n",
       "|     2      |  Opalina   |    Allam    |   F    | 2/14/2025  |  San Mateo   |      CA     | Dilation of L Hypogast Vein with Intralum Dev, Perc Approach |   75   |  244   |\n",
       "|     3      |   Clare    | Staresmeare |   M    | 4/19/2025  |   Richmond   |      VA     |   Dilation of 3 Cor Art with 3 Intralum Dev, Perc Approach   |   40   |  285   |\n",
       "|     4      |   Wilbur   |    Boydon   |   M    |  9/6/2025  |  Birmingham  |      AL     |    Replacement of Upper Lip with Autol Sub, Open Approach    |   82   |  280   |\n",
       "|     5      |   Ernest   |  Branscomb  |   M    |  6/8/2025  |   Columbia   |      SC     |       Occlusion R Great Saphenous w Intralum Dev, Open       |   45   |  125   |\n",
       "|     6      |   Aurel    |    Frane    |   F    | 10/9/2025  | Philadelphia |      PA     |     Fragmentation in Pericardium, Percutaneous Approach      |  181   |  182   |\n",
       "|     7      |    Troy    |   Owbridge  |   M    | 7/22/2025  |  Fort Myers  |      FL     |    Repair Left Superior Parathyroid Gland, Open Approach     |   85   |  139   |\n",
       "|     8      |  Kristien  |  Plumbridge |   F    | 9/29/2025  |  Washington  |      DC     |  Change Other Device in Pancreatic Duct, External Approach   |   81   |  211   |\n",
       "|     9      |   Adler    |   Jeannet   |   M    | 2/16/2025  |   Prescott   |      AZ     |  Planar Nucl Med Imag Bi Salivary Gland w Oth Radionuclide   |  120   |   70   |\n",
       "|     10     |   Nanine   |  Gatecliff  |   F    | 7/14/2025  |    Dallas    |      TX     |                 Heart and Great Vessels, Map                 |  162   |   45   |\n",
       "+------------+------------+-------------+--------+------------+--------------+-------------+--------------------------------------------------------------+--------+--------+\n",
       "Truncated to displaylimit of 10."
      ]
     },
     "execution_count": 63,
     "metadata": {},
     "output_type": "execute_result"
    }
   ],
   "source": [
    "%%sql\n",
    "SELECT * FROM patients LIMIT 10"
   ]
  },
  {
   "cell_type": "markdown",
   "id": "fa3934a0",
   "metadata": {},
   "source": [
    "### **admissions** schema\n",
    "\n",
    "| name | type |\n",
    "| ---- | ----- |\n",
    "| patient_id (foreign key) | INT |\n",
    "| admission_date | DATE |\n",
    "| discharge_date | DATE |\n",
    "| diagnosis | TEXT |\n",
    "| attending_doctor_id (foreign key) | INT |"
   ]
  },
  {
   "cell_type": "code",
   "execution_count": 23,
   "id": "3d2e3256",
   "metadata": {},
   "outputs": [
    {
     "data": {
      "text/html": [
       "<span style=\"None\">Running query in &#x27;sqlite:///data/hospitaldatabase.db&#x27;</span>"
      ],
      "text/plain": [
       "Running query in 'sqlite:///data/hospitaldatabase.db'"
      ]
     },
     "metadata": {},
     "output_type": "display_data"
    },
    {
     "data": {
      "text/html": [
       "<table>\n",
       "    <thead>\n",
       "        <tr>\n",
       "        </tr>\n",
       "    </thead>\n",
       "    <tbody>\n",
       "    </tbody>\n",
       "</table>"
      ],
      "text/plain": [
       "++\n",
       "||\n",
       "++\n",
       "++"
      ]
     },
     "execution_count": 23,
     "metadata": {},
     "output_type": "execute_result"
    }
   ],
   "source": [
    "%%sql\n",
    "CREATE TABLE admissions (\n",
    "    patient_id INT,\n",
    "    admision_date DATE,\n",
    "    discharge_date DATE,\n",
    "    diagnosis TEXT,\n",
    "    attending_doctor_id INT\n",
    ")"
   ]
  },
  {
   "cell_type": "code",
   "execution_count": 25,
   "id": "8e98abc2",
   "metadata": {},
   "outputs": [
    {
     "data": {
      "text/html": [
       "<span style=\"None\">Running query in &#x27;sqlite:///data/hospitaldatabase.db&#x27;</span>"
      ],
      "text/plain": [
       "Running query in 'sqlite:///data/hospitaldatabase.db'"
      ]
     },
     "metadata": {},
     "output_type": "display_data"
    },
    {
     "data": {
      "text/html": [
       "<table>\n",
       "    <thead>\n",
       "        <tr>\n",
       "            <th>patient_id</th>\n",
       "            <th>admision_date</th>\n",
       "            <th>discharge_date</th>\n",
       "            <th>diagnosis</th>\n",
       "            <th>attending_doctor_id</th>\n",
       "        </tr>\n",
       "    </thead>\n",
       "    <tbody>\n",
       "    </tbody>\n",
       "</table>"
      ],
      "text/plain": [
       "+------------+---------------+----------------+-----------+---------------------+\n",
       "| patient_id | admision_date | discharge_date | diagnosis | attending_doctor_id |\n",
       "+------------+---------------+----------------+-----------+---------------------+\n",
       "+------------+---------------+----------------+-----------+---------------------+"
      ]
     },
     "execution_count": 25,
     "metadata": {},
     "output_type": "execute_result"
    }
   ],
   "source": [
    "%%sql\n",
    "SELECT * FROM admissions"
   ]
  },
  {
   "cell_type": "code",
   "execution_count": null,
   "id": "1f761b99",
   "metadata": {},
   "outputs": [],
   "source": [
    "%%sql\n"
   ]
  },
  {
   "cell_type": "markdown",
   "id": "b84bd1af",
   "metadata": {},
   "source": [
    "### **doctors** schema\n",
    "| name | type |\n",
    "| ---- | ---- |\n",
    "| doctor_id (foreign key) | INT |\n",
    "| first_name | TEXT |\n",
    "| last_name | TEXT |\n",
    "| specialty | TEXT |\n",
    "\n"
   ]
  },
  {
   "cell_type": "code",
   "execution_count": 30,
   "id": "a1ea571a",
   "metadata": {},
   "outputs": [
    {
     "data": {
      "text/html": [
       "<span style=\"None\">Running query in &#x27;sqlite:///data/hospitaldatabase.db&#x27;</span>"
      ],
      "text/plain": [
       "Running query in 'sqlite:///data/hospitaldatabase.db'"
      ]
     },
     "metadata": {},
     "output_type": "display_data"
    },
    {
     "data": {
      "text/html": [
       "<table>\n",
       "    <thead>\n",
       "        <tr>\n",
       "        </tr>\n",
       "    </thead>\n",
       "    <tbody>\n",
       "    </tbody>\n",
       "</table>"
      ],
      "text/plain": [
       "++\n",
       "||\n",
       "++\n",
       "++"
      ]
     },
     "execution_count": 30,
     "metadata": {},
     "output_type": "execute_result"
    }
   ],
   "source": [
    "%%sql\n",
    "CREATE TABLE doctors (\n",
    "    doctor_id INT NOT NULL PRIMARY KEY,\n",
    "    first_name TEXT,\n",
    "    last_name TEXT,\n",
    "    specialty TEXT\n",
    ")"
   ]
  },
  {
   "cell_type": "code",
   "execution_count": null,
   "id": "109419eb",
   "metadata": {},
   "outputs": [],
   "source": []
  },
  {
   "cell_type": "code",
   "execution_count": null,
   "id": "85d1cd63",
   "metadata": {},
   "outputs": [
    {
     "data": {
      "text/html": [
       "<span style=\"None\">Running query in &#x27;sqlite:///data/hospitaldatabase.db&#x27;</span>"
      ],
      "text/plain": [
       "Running query in 'sqlite:///data/hospitaldatabase.db'"
      ]
     },
     "metadata": {},
     "output_type": "display_data"
    },
    {
     "data": {
      "text/html": [
       "<table>\n",
       "    <thead>\n",
       "        <tr>\n",
       "            <th>doctor_id</th>\n",
       "            <th>first_name</th>\n",
       "            <th>last_name</th>\n",
       "            <th>specialty</th>\n",
       "        </tr>\n",
       "    </thead>\n",
       "    <tbody>\n",
       "    </tbody>\n",
       "</table>"
      ],
      "text/plain": [
       "+-----------+------------+-----------+-----------+\n",
       "| doctor_id | first_name | last_name | specialty |\n",
       "+-----------+------------+-----------+-----------+\n",
       "+-----------+------------+-----------+-----------+"
      ]
     },
     "execution_count": 31,
     "metadata": {},
     "output_type": "execute_result"
    }
   ],
   "source": [
    "%%sql\n",
    "SELECT * FROM doctors\n",
    "LIMIT 10"
   ]
  },
  {
   "cell_type": "markdown",
   "id": "d25c3a0d",
   "metadata": {},
   "source": [
    "### **province_names** schema\n",
    "| name | type |\n",
    "| ---- | ---- |\n",
    "| province_id (foriegn key) | CHAR(2) |\n",
    "| province_name | TEXT |"
   ]
  },
  {
   "cell_type": "code",
   "execution_count": 33,
   "id": "4521d2e7",
   "metadata": {},
   "outputs": [
    {
     "data": {
      "text/html": [
       "<span style=\"None\">Running query in &#x27;sqlite:///data/hospitaldatabase.db&#x27;</span>"
      ],
      "text/plain": [
       "Running query in 'sqlite:///data/hospitaldatabase.db'"
      ]
     },
     "metadata": {},
     "output_type": "display_data"
    },
    {
     "data": {
      "text/html": [
       "<table>\n",
       "    <thead>\n",
       "        <tr>\n",
       "        </tr>\n",
       "    </thead>\n",
       "    <tbody>\n",
       "    </tbody>\n",
       "</table>"
      ],
      "text/plain": [
       "++\n",
       "||\n",
       "++\n",
       "++"
      ]
     },
     "execution_count": 33,
     "metadata": {},
     "output_type": "execute_result"
    }
   ],
   "source": [
    "%%sql\n",
    "CREATE TABLE province_names (\n",
    "    province_id CHAR(2) PRIMARY KEY,\n",
    "    province_name TEXT\n",
    ")"
   ]
  },
  {
   "cell_type": "code",
   "execution_count": null,
   "id": "2910b16b",
   "metadata": {},
   "outputs": [
    {
     "data": {
      "text/html": [
       "<span style=\"None\">Running query in &#x27;sqlite:///data/hospitaldatabase.db&#x27;</span>"
      ],
      "text/plain": [
       "Running query in 'sqlite:///data/hospitaldatabase.db'"
      ]
     },
     "metadata": {},
     "output_type": "display_data"
    },
    {
     "data": {
      "text/html": [
       "<table>\n",
       "    <thead>\n",
       "        <tr>\n",
       "            <th>province_id</th>\n",
       "            <th>province_name</th>\n",
       "        </tr>\n",
       "    </thead>\n",
       "    <tbody>\n",
       "    </tbody>\n",
       "</table>"
      ],
      "text/plain": [
       "+-------------+---------------+\n",
       "| province_id | province_name |\n",
       "+-------------+---------------+\n",
       "+-------------+---------------+"
      ]
     },
     "execution_count": 35,
     "metadata": {},
     "output_type": "execute_result"
    }
   ],
   "source": [
    "%%sql\n",
    "SELECT * FROM province_names\n",
    "LIMIT 10"
   ]
  },
  {
   "cell_type": "markdown",
   "id": "df3285d1",
   "metadata": {},
   "source": [
    "# Easy Questions (1-16)"
   ]
  },
  {
   "cell_type": "markdown",
   "id": "b2a57945",
   "metadata": {},
   "source": [
    "## 1.  Show first name, last name, and gender of patients whose gender is 'M'"
   ]
  },
  {
   "cell_type": "code",
   "execution_count": 64,
   "id": "a1b0e39a",
   "metadata": {},
   "outputs": [
    {
     "data": {
      "text/html": [
       "<span style=\"None\">Running query in &#x27;sqlite:///data/hospitaldatabase.db&#x27;</span>"
      ],
      "text/plain": [
       "Running query in 'sqlite:///data/hospitaldatabase.db'"
      ]
     },
     "metadata": {},
     "output_type": "display_data"
    },
    {
     "data": {
      "text/html": [
       "<table>\n",
       "    <thead>\n",
       "        <tr>\n",
       "            <th>first_name</th>\n",
       "            <th>last_name</th>\n",
       "            <th>gender</th>\n",
       "        </tr>\n",
       "    </thead>\n",
       "    <tbody>\n",
       "        <tr>\n",
       "            <td>Clare</td>\n",
       "            <td>Staresmeare</td>\n",
       "            <td>M</td>\n",
       "        </tr>\n",
       "        <tr>\n",
       "            <td>Wilbur</td>\n",
       "            <td>Boydon</td>\n",
       "            <td>M</td>\n",
       "        </tr>\n",
       "        <tr>\n",
       "            <td>Ernest</td>\n",
       "            <td>Branscomb</td>\n",
       "            <td>M</td>\n",
       "        </tr>\n",
       "        <tr>\n",
       "            <td>Troy</td>\n",
       "            <td>Owbridge</td>\n",
       "            <td>M</td>\n",
       "        </tr>\n",
       "        <tr>\n",
       "            <td>Adler</td>\n",
       "            <td>Jeannet</td>\n",
       "            <td>M</td>\n",
       "        </tr>\n",
       "        <tr>\n",
       "            <td>Sylas</td>\n",
       "            <td>Nacci</td>\n",
       "            <td>M</td>\n",
       "        </tr>\n",
       "        <tr>\n",
       "            <td>Filmer</td>\n",
       "            <td>Robben</td>\n",
       "            <td>M</td>\n",
       "        </tr>\n",
       "        <tr>\n",
       "            <td>Percival</td>\n",
       "            <td>Chretien</td>\n",
       "            <td>M</td>\n",
       "        </tr>\n",
       "        <tr>\n",
       "            <td>Dannie</td>\n",
       "            <td>Breche</td>\n",
       "            <td>M</td>\n",
       "        </tr>\n",
       "        <tr>\n",
       "            <td>Fidelio</td>\n",
       "            <td>Alan</td>\n",
       "            <td>M</td>\n",
       "        </tr>\n",
       "    </tbody>\n",
       "</table>\n",
       "<span style=\"font-style:italic;text-align:center;\">Truncated to <a href=\"https://jupysql.ploomber.io/en/latest/api/configuration.html#displaylimit\">displaylimit</a> of 10.</span>"
      ],
      "text/plain": [
       "+------------+-------------+--------+\n",
       "| first_name |  last_name  | gender |\n",
       "+------------+-------------+--------+\n",
       "|   Clare    | Staresmeare |   M    |\n",
       "|   Wilbur   |    Boydon   |   M    |\n",
       "|   Ernest   |  Branscomb  |   M    |\n",
       "|    Troy    |   Owbridge  |   M    |\n",
       "|   Adler    |   Jeannet   |   M    |\n",
       "|   Sylas    |    Nacci    |   M    |\n",
       "|   Filmer   |    Robben   |   M    |\n",
       "|  Percival  |   Chretien  |   M    |\n",
       "|   Dannie   |    Breche   |   M    |\n",
       "|  Fidelio   |     Alan    |   M    |\n",
       "+------------+-------------+--------+\n",
       "Truncated to displaylimit of 10."
      ]
     },
     "execution_count": 64,
     "metadata": {},
     "output_type": "execute_result"
    }
   ],
   "source": [
    "%%sql\n",
    "SELECT\n",
    "  first_name,\n",
    "  last_name,\n",
    "  gender\n",
    "FROM patients\n",
    "WHERE gender = 'M';"
   ]
  },
  {
   "cell_type": "markdown",
   "id": "0ff2965c",
   "metadata": {},
   "source": [
    "## 2. Show first name and last name of patients who does not have allergies. (null)"
   ]
  },
  {
   "cell_type": "code",
   "execution_count": 65,
   "id": "3a56bd09",
   "metadata": {},
   "outputs": [
    {
     "data": {
      "text/html": [
       "<span style=\"None\">Running query in &#x27;sqlite:///data/hospitaldatabase.db&#x27;</span>"
      ],
      "text/plain": [
       "Running query in 'sqlite:///data/hospitaldatabase.db'"
      ]
     },
     "metadata": {},
     "output_type": "display_data"
    },
    {
     "data": {
      "text/html": [
       "<table>\n",
       "    <thead>\n",
       "        <tr>\n",
       "            <th>first_name</th>\n",
       "            <th>last_name</th>\n",
       "        </tr>\n",
       "    </thead>\n",
       "    <tbody>\n",
       "    </tbody>\n",
       "</table>"
      ],
      "text/plain": [
       "+------------+-----------+\n",
       "| first_name | last_name |\n",
       "+------------+-----------+\n",
       "+------------+-----------+"
      ]
     },
     "execution_count": 65,
     "metadata": {},
     "output_type": "execute_result"
    }
   ],
   "source": [
    "%%sql\n",
    "SELECT first_name, last_name \n",
    "FROM patients\n",
    "WHERE allergies iS NULL;"
   ]
  },
  {
   "cell_type": "markdown",
   "id": "e2abf3bd",
   "metadata": {},
   "source": [
    "## 3. Show first name of patients that start with the letter 'C'"
   ]
  },
  {
   "cell_type": "code",
   "execution_count": 66,
   "id": "6c5a4cef",
   "metadata": {},
   "outputs": [
    {
     "data": {
      "text/html": [
       "<span style=\"None\">Running query in &#x27;sqlite:///data/hospitaldatabase.db&#x27;</span>"
      ],
      "text/plain": [
       "Running query in 'sqlite:///data/hospitaldatabase.db'"
      ]
     },
     "metadata": {},
     "output_type": "display_data"
    },
    {
     "data": {
      "text/html": [
       "<table>\n",
       "    <thead>\n",
       "        <tr>\n",
       "            <th>first_name</th>\n",
       "        </tr>\n",
       "    </thead>\n",
       "    <tbody>\n",
       "        <tr>\n",
       "            <td>Clare</td>\n",
       "        </tr>\n",
       "        <tr>\n",
       "            <td>Carrie</td>\n",
       "        </tr>\n",
       "        <tr>\n",
       "            <td>Caty</td>\n",
       "        </tr>\n",
       "        <tr>\n",
       "            <td>Camel</td>\n",
       "        </tr>\n",
       "        <tr>\n",
       "            <td>Corbie</td>\n",
       "        </tr>\n",
       "        <tr>\n",
       "            <td>Chere</td>\n",
       "        </tr>\n",
       "        <tr>\n",
       "            <td>Chase</td>\n",
       "        </tr>\n",
       "        <tr>\n",
       "            <td>Colet</td>\n",
       "        </tr>\n",
       "        <tr>\n",
       "            <td>Cathe</td>\n",
       "        </tr>\n",
       "        <tr>\n",
       "            <td>Charlton</td>\n",
       "        </tr>\n",
       "    </tbody>\n",
       "</table>\n",
       "<span style=\"font-style:italic;text-align:center;\">Truncated to <a href=\"https://jupysql.ploomber.io/en/latest/api/configuration.html#displaylimit\">displaylimit</a> of 10.</span>"
      ],
      "text/plain": [
       "+------------+\n",
       "| first_name |\n",
       "+------------+\n",
       "|   Clare    |\n",
       "|   Carrie   |\n",
       "|    Caty    |\n",
       "|   Camel    |\n",
       "|   Corbie   |\n",
       "|   Chere    |\n",
       "|   Chase    |\n",
       "|   Colet    |\n",
       "|   Cathe    |\n",
       "|  Charlton  |\n",
       "+------------+\n",
       "Truncated to displaylimit of 10."
      ]
     },
     "execution_count": 66,
     "metadata": {},
     "output_type": "execute_result"
    }
   ],
   "source": [
    "%%sql\n",
    "SELECT first_name \n",
    "FROM patients\n",
    "WHERE first_name LIKE 'C%';"
   ]
  },
  {
   "cell_type": "markdown",
   "id": "4ce725ba",
   "metadata": {},
   "source": [
    "## 4. Show first name and last name of patients that weight within the range of 100 to 120 (inclusive)"
   ]
  },
  {
   "cell_type": "code",
   "execution_count": 67,
   "id": "4bcca035",
   "metadata": {},
   "outputs": [
    {
     "data": {
      "text/html": [
       "<span style=\"None\">Running query in &#x27;sqlite:///data/hospitaldatabase.db&#x27;</span>"
      ],
      "text/plain": [
       "Running query in 'sqlite:///data/hospitaldatabase.db'"
      ]
     },
     "metadata": {},
     "output_type": "display_data"
    },
    {
     "data": {
      "text/html": [
       "<table>\n",
       "    <thead>\n",
       "        <tr>\n",
       "            <th>first_name</th>\n",
       "            <th>last_name</th>\n",
       "        </tr>\n",
       "    </thead>\n",
       "    <tbody>\n",
       "        <tr>\n",
       "            <td>Percival</td>\n",
       "            <td>Chretien</td>\n",
       "        </tr>\n",
       "        <tr>\n",
       "            <td>Fidelio</td>\n",
       "            <td>Alan</td>\n",
       "        </tr>\n",
       "        <tr>\n",
       "            <td>Florinda</td>\n",
       "            <td>Leonards</td>\n",
       "        </tr>\n",
       "        <tr>\n",
       "            <td>Chere</td>\n",
       "            <td>Bulleyn</td>\n",
       "        </tr>\n",
       "        <tr>\n",
       "            <td>Colet</td>\n",
       "            <td>Carcas</td>\n",
       "        </tr>\n",
       "        <tr>\n",
       "            <td>Brinn</td>\n",
       "            <td>Van Der Vlies</td>\n",
       "        </tr>\n",
       "        <tr>\n",
       "            <td>Morgun</td>\n",
       "            <td>Jimes</td>\n",
       "        </tr>\n",
       "    </tbody>\n",
       "</table>"
      ],
      "text/plain": [
       "+------------+---------------+\n",
       "| first_name |   last_name   |\n",
       "+------------+---------------+\n",
       "|  Percival  |    Chretien   |\n",
       "|  Fidelio   |      Alan     |\n",
       "|  Florinda  |    Leonards   |\n",
       "|   Chere    |    Bulleyn    |\n",
       "|   Colet    |     Carcas    |\n",
       "|   Brinn    | Van Der Vlies |\n",
       "|   Morgun   |     Jimes     |\n",
       "+------------+---------------+"
      ]
     },
     "execution_count": 67,
     "metadata": {},
     "output_type": "execute_result"
    }
   ],
   "source": [
    "%%sql\n",
    "SELECT first_name, last_name \n",
    "FROM patients\n",
    "WHERE weight >= 100 and weight <= 120;"
   ]
  },
  {
   "cell_type": "markdown",
   "id": "9ebf2531",
   "metadata": {},
   "source": [
    "## 5. Update the patients table for the allergies column. If the patient's allergies is null then replace it with 'NKA'"
   ]
  },
  {
   "cell_type": "code",
   "execution_count": 68,
   "id": "29b10c52",
   "metadata": {},
   "outputs": [
    {
     "data": {
      "text/html": [
       "<span style=\"None\">Running query in &#x27;sqlite:///data/hospitaldatabase.db&#x27;</span>"
      ],
      "text/plain": [
       "Running query in 'sqlite:///data/hospitaldatabase.db'"
      ]
     },
     "metadata": {},
     "output_type": "display_data"
    },
    {
     "data": {
      "text/html": [
       "<table>\n",
       "    <thead>\n",
       "        <tr>\n",
       "        </tr>\n",
       "    </thead>\n",
       "    <tbody>\n",
       "    </tbody>\n",
       "</table>"
      ],
      "text/plain": [
       "++\n",
       "||\n",
       "++\n",
       "++"
      ]
     },
     "execution_count": 68,
     "metadata": {},
     "output_type": "execute_result"
    }
   ],
   "source": [
    "%%sql\n",
    "update patients\n",
    "SET allergies = 'NKA'\n",
    "WHERE allergies iS NULL;"
   ]
  },
  {
   "cell_type": "markdown",
   "id": "a17847c7",
   "metadata": {},
   "source": [
    "## 6. Show first name and last name concatinated into one column to show their full name."
   ]
  },
  {
   "cell_type": "code",
   "execution_count": 69,
   "id": "a6ebf2b8",
   "metadata": {},
   "outputs": [
    {
     "data": {
      "text/html": [
       "<span style=\"None\">Running query in &#x27;sqlite:///data/hospitaldatabase.db&#x27;</span>"
      ],
      "text/plain": [
       "Running query in 'sqlite:///data/hospitaldatabase.db'"
      ]
     },
     "metadata": {},
     "output_type": "display_data"
    },
    {
     "data": {
      "text/html": [
       "<table>\n",
       "    <thead>\n",
       "        <tr>\n",
       "            <th>concat(first_name, ' ', last_name)</th>\n",
       "        </tr>\n",
       "    </thead>\n",
       "    <tbody>\n",
       "        <tr>\n",
       "            <td>Arleen Geall</td>\n",
       "        </tr>\n",
       "        <tr>\n",
       "            <td>Opalina Allam</td>\n",
       "        </tr>\n",
       "        <tr>\n",
       "            <td>Clare Staresmeare</td>\n",
       "        </tr>\n",
       "        <tr>\n",
       "            <td>Wilbur Boydon</td>\n",
       "        </tr>\n",
       "        <tr>\n",
       "            <td>Ernest Branscomb</td>\n",
       "        </tr>\n",
       "        <tr>\n",
       "            <td>Aurel Frane</td>\n",
       "        </tr>\n",
       "        <tr>\n",
       "            <td>Troy Owbridge</td>\n",
       "        </tr>\n",
       "        <tr>\n",
       "            <td>Kristien Plumbridge</td>\n",
       "        </tr>\n",
       "        <tr>\n",
       "            <td>Adler Jeannet</td>\n",
       "        </tr>\n",
       "        <tr>\n",
       "            <td>Nanine Gatecliff</td>\n",
       "        </tr>\n",
       "    </tbody>\n",
       "</table>\n",
       "<span style=\"font-style:italic;text-align:center;\">Truncated to <a href=\"https://jupysql.ploomber.io/en/latest/api/configuration.html#displaylimit\">displaylimit</a> of 10.</span>"
      ],
      "text/plain": [
       "+------------------------------------+\n",
       "| concat(first_name, ' ', last_name) |\n",
       "+------------------------------------+\n",
       "|            Arleen Geall            |\n",
       "|           Opalina Allam            |\n",
       "|         Clare Staresmeare          |\n",
       "|           Wilbur Boydon            |\n",
       "|          Ernest Branscomb          |\n",
       "|            Aurel Frane             |\n",
       "|           Troy Owbridge            |\n",
       "|        Kristien Plumbridge         |\n",
       "|           Adler Jeannet            |\n",
       "|          Nanine Gatecliff          |\n",
       "+------------------------------------+\n",
       "Truncated to displaylimit of 10."
      ]
     },
     "execution_count": 69,
     "metadata": {},
     "output_type": "execute_result"
    }
   ],
   "source": [
    "%%sql\n",
    "SELECT concat(first_name, ' ', last_name)\n",
    "FROM patients;"
   ]
  },
  {
   "cell_type": "markdown",
   "id": "3e72bf64",
   "metadata": {},
   "source": [
    "## 7. Show first name, last name, and the full province name of each patient."
   ]
  },
  {
   "cell_type": "code",
   "execution_count": 70,
   "id": "13d5ca81",
   "metadata": {},
   "outputs": [],
   "source": [
    "# %%sql\n",
    "# SELECT first_name, last_name, province_name\n",
    "# FROM patients\n",
    "# JOIN province_names ON patients.province_id = province_names.province_id;\n"
   ]
  },
  {
   "cell_type": "markdown",
   "id": "b420d2a7",
   "metadata": {},
   "source": [
    "## 8. Show how many patients have a birth_date with 2010 as the birth year."
   ]
  },
  {
   "cell_type": "code",
   "execution_count": 73,
   "id": "52685bfe",
   "metadata": {},
   "outputs": [],
   "source": [
    "# %%sql\n",
    "# SELECT COUNT(birth_date)\n",
    "# FROM patients\n",
    "# WHERE YEAR(birth_date) = 2010;"
   ]
  },
  {
   "cell_type": "markdown",
   "id": "cb14cb19",
   "metadata": {},
   "source": [
    "## 9. Show the first_name, last_name, and height of the patient with the greatest height."
   ]
  },
  {
   "cell_type": "code",
   "execution_count": null,
   "id": "2998e4fb",
   "metadata": {},
   "outputs": [
    {
     "data": {
      "text/html": [
       "<span style=\"None\">Running query in &#x27;sqlite:///data/hospitaldatabase.db&#x27;</span>"
      ],
      "text/plain": [
       "Running query in 'sqlite:///data/hospitaldatabase.db'"
      ]
     },
     "metadata": {},
     "output_type": "display_data"
    },
    {
     "data": {
      "text/html": [
       "<table>\n",
       "    <thead>\n",
       "        <tr>\n",
       "            <th>first_name</th>\n",
       "            <th>last_name</th>\n",
       "            <th>height</th>\n",
       "        </tr>\n",
       "    </thead>\n",
       "    <tbody>\n",
       "        <tr>\n",
       "            <td>Fidelio</td>\n",
       "            <td>Alan</td>\n",
       "            <td>200</td>\n",
       "        </tr>\n",
       "        <tr>\n",
       "            <td>Chere</td>\n",
       "            <td>Bulleyn</td>\n",
       "            <td>200</td>\n",
       "        </tr>\n",
       "        <tr>\n",
       "            <td>Dwayne</td>\n",
       "            <td>Tippett</td>\n",
       "            <td>200</td>\n",
       "        </tr>\n",
       "    </tbody>\n",
       "</table>"
      ],
      "text/plain": [
       "+------------+-----------+--------+\n",
       "| first_name | last_name | height |\n",
       "+------------+-----------+--------+\n",
       "|  Fidelio   |    Alan   |  200   |\n",
       "|   Chere    |  Bulleyn  |  200   |\n",
       "|   Dwayne   |  Tippett  |  200   |\n",
       "+------------+-----------+--------+"
      ]
     },
     "execution_count": 74,
     "metadata": {},
     "output_type": "execute_result"
    }
   ],
   "source": [
    "%%sql\n",
    "SELECT first_name, last_name, height\n",
    "FROM patients\n",
    "WHERE height = (SELECT MAX(height) FROM patients);"
   ]
  },
  {
   "cell_type": "markdown",
   "id": "0a713f54",
   "metadata": {},
   "source": [
    "## 10. Show all columns for patients who have one of the following patient_ids: 1,45,534,879,1000"
   ]
  },
  {
   "cell_type": "code",
   "execution_count": 75,
   "id": "36b74dd4",
   "metadata": {},
   "outputs": [
    {
     "data": {
      "text/html": [
       "<span style=\"None\">Running query in &#x27;sqlite:///data/hospitaldatabase.db&#x27;</span>"
      ],
      "text/plain": [
       "Running query in 'sqlite:///data/hospitaldatabase.db'"
      ]
     },
     "metadata": {},
     "output_type": "display_data"
    },
    {
     "data": {
      "text/html": [
       "<table>\n",
       "    <thead>\n",
       "        <tr>\n",
       "            <th>patient_id</th>\n",
       "            <th>first_name</th>\n",
       "            <th>last_name</th>\n",
       "            <th>gender</th>\n",
       "            <th>birth_date</th>\n",
       "            <th>city</th>\n",
       "            <th>province_id</th>\n",
       "            <th>allergies</th>\n",
       "            <th>height</th>\n",
       "            <th>weight</th>\n",
       "        </tr>\n",
       "    </thead>\n",
       "    <tbody>\n",
       "        <tr>\n",
       "            <td>1</td>\n",
       "            <td>Arleen</td>\n",
       "            <td>Geall</td>\n",
       "            <td>F</td>\n",
       "            <td>5/28/2025</td>\n",
       "            <td>Providence</td>\n",
       "            <td>RI</td>\n",
       "            <td>Bypass L Brach Vein to Up Vein w Nonaut Sub, Open</td>\n",
       "            <td>31</td>\n",
       "            <td>215</td>\n",
       "        </tr>\n",
       "        <tr>\n",
       "            <td>45</td>\n",
       "            <td>Linnet</td>\n",
       "            <td>Gwilym</td>\n",
       "            <td>F</td>\n",
       "            <td>2/12/2025</td>\n",
       "            <td>Henderson</td>\n",
       "            <td>NV</td>\n",
       "            <td>Drainage of Stomach, Percutaneous Approach, Diagnostic</td>\n",
       "            <td>138</td>\n",
       "            <td>245</td>\n",
       "        </tr>\n",
       "    </tbody>\n",
       "</table>"
      ],
      "text/plain": [
       "+------------+------------+-----------+--------+------------+------------+-------------+--------------------------------------------------------+--------+--------+\n",
       "| patient_id | first_name | last_name | gender | birth_date |    city    | province_id |                       allergies                        | height | weight |\n",
       "+------------+------------+-----------+--------+------------+------------+-------------+--------------------------------------------------------+--------+--------+\n",
       "|     1      |   Arleen   |   Geall   |   F    | 5/28/2025  | Providence |      RI     |   Bypass L Brach Vein to Up Vein w Nonaut Sub, Open    |   31   |  215   |\n",
       "|     45     |   Linnet   |   Gwilym  |   F    | 2/12/2025  | Henderson  |      NV     | Drainage of Stomach, Percutaneous Approach, Diagnostic |  138   |  245   |\n",
       "+------------+------------+-----------+--------+------------+------------+-------------+--------------------------------------------------------+--------+--------+"
      ]
     },
     "execution_count": 75,
     "metadata": {},
     "output_type": "execute_result"
    }
   ],
   "source": [
    "%%sql\n",
    "SELECT *\n",
    "FROM patients\n",
    "WHERE patient_id IN (1, 45, 534, 879, 1000);"
   ]
  },
  {
   "cell_type": "markdown",
   "id": "d3cda5cf",
   "metadata": {},
   "source": [
    "## 11. Show the total number of admissions"
   ]
  },
  {
   "cell_type": "code",
   "execution_count": null,
   "id": "9f21968c",
   "metadata": {},
   "outputs": [],
   "source": [
    "%%sql\n",
    "SELECT COUNT(*)\n",
    "FROM admissions;"
   ]
  },
  {
   "cell_type": "markdown",
   "id": "e58df544",
   "metadata": {},
   "source": [
    "## 12. Show all the columns from admissions where the patient was admitted and discharged on the same day."
   ]
  },
  {
   "cell_type": "code",
   "execution_count": null,
   "id": "5d6e21d7",
   "metadata": {},
   "outputs": [],
   "source": [
    "%%sql\n",
    "SELECT *\n",
    "FROM admissions\n",
    "WHERE admission_date = discharge_date;"
   ]
  },
  {
   "cell_type": "markdown",
   "id": "f2243bf5",
   "metadata": {},
   "source": [
    "## 13. Show the patient id and the total number of admissions for patient_id 579."
   ]
  },
  {
   "cell_type": "code",
   "execution_count": null,
   "id": "5c9ab321",
   "metadata": {},
   "outputs": [],
   "source": [
    "%%sql\n",
    "SELECT patient_id, COUNT(*) as total_admission\n",
    "FROM admissions\n",
    "WHERE patient_id = 579\n",
    "group by patient_id;"
   ]
  },
  {
   "cell_type": "markdown",
   "id": "30552f51",
   "metadata": {},
   "source": [
    "## 14. Based on the cities that our patients live in, show unique cities that are in province_id 'NS'."
   ]
  },
  {
   "cell_type": "code",
   "execution_count": null,
   "id": "a91bbf96",
   "metadata": {},
   "outputs": [],
   "source": [
    "%%sql\n",
    "SELECT distinct(city)\n",
    "FROM patients\n",
    "JOIN province_names ON patients.province_id = province_names.province_id\n",
    "WHERE province_names.province_id = 'NS';"
   ]
  },
  {
   "cell_type": "markdown",
   "id": "482b20be",
   "metadata": {},
   "source": [
    "## 15. Write a query to find the first_name, last name and birth date of patients who has height greater than 160 and weight greater than 70"
   ]
  },
  {
   "cell_type": "code",
   "execution_count": null,
   "id": "57174a7e",
   "metadata": {},
   "outputs": [],
   "source": [
    "%%sql\n",
    "SELECT first_name, last_name, birth_date\n",
    "FROM patients\n",
    "WHERE height > 160 and weight > 70;"
   ]
  },
  {
   "cell_type": "markdown",
   "id": "facee791",
   "metadata": {},
   "source": [
    "## 16. Write a query to find list of patients first_name, last_name, and allergies where allergies are not null and are from the city of 'Hamilton'"
   ]
  },
  {
   "cell_type": "code",
   "execution_count": null,
   "id": "1f153c77",
   "metadata": {},
   "outputs": [],
   "source": [
    "%%sql\n",
    "SELECT first_name, last_name, allergies\n",
    "FROM patients\n",
    "WHERE allergies IS NOT NULL and city = 'Hamilton';"
   ]
  },
  {
   "cell_type": "markdown",
   "id": "5c3bfca0",
   "metadata": {},
   "source": [
    "# Medium Questions (17-43)"
   ]
  },
  {
   "cell_type": "markdown",
   "id": "6c4e8345",
   "metadata": {},
   "source": [
    "## 17. Show unique birth years from patients and order them by ascending."
   ]
  },
  {
   "cell_type": "code",
   "execution_count": null,
   "id": "1e94972c",
   "metadata": {},
   "outputs": [],
   "source": [
    "%%sql\n",
    "SELECT distinct year(birth_date)\n",
    "FROM patients\n",
    "order by birth_date asc;"
   ]
  },
  {
   "cell_type": "markdown",
   "id": "0d1b55c3",
   "metadata": {},
   "source": [
    "## 18. Show unique first names from the patients table which only occurs once in the list.\n",
    "\n",
    "- For example, if two or more people are named 'John' in the first_name column then don't include their name in the output list. If only 1 person is named 'Leo' then include them in the output."
   ]
  },
  {
   "cell_type": "code",
   "execution_count": null,
   "id": "cb10f43b",
   "metadata": {},
   "outputs": [],
   "source": [
    "%%sql\n",
    "SELECT first_name\n",
    "FROM patients\n",
    "GROUP BY first_name\n",
    "HAVING COUNT(first_name) = 1;"
   ]
  },
  {
   "cell_type": "markdown",
   "id": "1a2ea447",
   "metadata": {},
   "source": [
    "## 19. Show patient_id and first_name from patients where their first_name start and ends with 's' and is at least 6 characters long."
   ]
  },
  {
   "cell_type": "code",
   "execution_count": null,
   "id": "da972132",
   "metadata": {},
   "outputs": [],
   "source": [
    "%%sql\n",
    "SELECT patient_id, first_name\n",
    "FROM patients\n",
    "WHERE first_name LIKE 's%s' AND len(first_name) > 5;"
   ]
  },
  {
   "cell_type": "markdown",
   "id": "1f1593dd",
   "metadata": {},
   "source": [
    "## 20. Show patient_id, first_name, last_name from patients whos diagnosis is 'Dementia'. \n",
    "- Primary diagnosis is stored in the admissions table."
   ]
  },
  {
   "cell_type": "code",
   "execution_count": null,
   "id": "786fc737",
   "metadata": {},
   "outputs": [],
   "source": [
    "%%sql\n",
    "SELECT patients.patient_id, first_name, last_name\n",
    "FROM patients\n",
    "JOIN admissions ON patients.patient_id = admissions.patient_id\n",
    "WHERE admissions.diagnosis = 'Dementia';"
   ]
  },
  {
   "cell_type": "markdown",
   "id": "7aade38b",
   "metadata": {},
   "source": [
    "## 21. Display every patient's first_name.\n",
    "- Order the list by the length of each name and then by alphabetically."
   ]
  },
  {
   "cell_type": "code",
   "execution_count": null,
   "id": "ec7ede8f",
   "metadata": {},
   "outputs": [],
   "source": [
    "%%sql\n",
    "SELECT  first_name\n",
    "FROM patients\n",
    "order by len(first_name), first_name ASC;"
   ]
  },
  {
   "cell_type": "markdown",
   "id": "88e17f96",
   "metadata": {},
   "source": [
    "## 22. Show the total amount of male patients and the total amount of female patients in the patients table.\n",
    "- Display the two results in the same row."
   ]
  },
  {
   "cell_type": "code",
   "execution_count": null,
   "id": "10172d38",
   "metadata": {},
   "outputs": [],
   "source": [
    "%%sql\n",
    "SELECT  SUM(gender = 'M') AS male_count, \n",
    "SUM(gender = 'F') as female_count\n",
    "FROM patients;\n"
   ]
  },
  {
   "cell_type": "markdown",
   "id": "4458aec3",
   "metadata": {},
   "source": [
    "## 23. Show first and last name, allergies from patients which have allergies to either 'Penicillin' or 'Morphine'. Show results ordered ascending by allergies then by first_name then by last_name."
   ]
  },
  {
   "cell_type": "code",
   "execution_count": null,
   "id": "71c0d2b2",
   "metadata": {},
   "outputs": [],
   "source": [
    "%%sql\n",
    "SELECT\n",
    "  first_name,\n",
    "  last_name,\n",
    "  allergies\n",
    "FROM patients\n",
    "WHERE\n",
    "  allergies IN ('Penicillin', 'Morphine')\n",
    "ORDER BY\n",
    "  allergies,\n",
    "  first_name,\n",
    "  last_name;"
   ]
  },
  {
   "cell_type": "markdown",
   "id": "3da0535c",
   "metadata": {},
   "source": [
    "## 24. Show patient_id, diagnosis from admissions. Find patients admitted multiple times for the same diagnosis."
   ]
  },
  {
   "cell_type": "code",
   "execution_count": null,
   "id": "4c6d2305",
   "metadata": {},
   "outputs": [],
   "source": [
    "%%sql\n",
    "SELECT patient_id, diagnosis\n",
    "FROM admissions\n",
    "group by patient_id, diagnosis\n",
    "having COUNT(diagnosis) > 1;"
   ]
  },
  {
   "cell_type": "markdown",
   "id": "c0ac4def",
   "metadata": {},
   "source": [
    "## 25. Show the city and the total number of patients in the city. Order from most to least patients and then by city name ascending."
   ]
  },
  {
   "cell_type": "code",
   "execution_count": null,
   "id": "27d520a8",
   "metadata": {},
   "outputs": [],
   "source": [
    "%%sql\n",
    "SELECT city, COUNT(*) as patients\n",
    "FROM patients\n",
    "group by city\n",
    "order by patients DESC, city ASC;"
   ]
  },
  {
   "cell_type": "markdown",
   "id": "ab069aeb",
   "metadata": {},
   "source": [
    "## 26. Show first name, last name and role of every person that is either patient or doctor. The roles are either \"Patient\" or \"Doctor\""
   ]
  },
  {
   "cell_type": "code",
   "execution_count": null,
   "id": "a33a4b27",
   "metadata": {},
   "outputs": [],
   "source": [
    "%%sql\n",
    "SELECT first_name, last_name, 'Patient' as roles\n",
    "FROM patients\n",
    "\n",
    "UNION ALL\n",
    "SELECT first_name, last_name, 'Doctor' as roles\n",
    "FROM doctors;\n"
   ]
  },
  {
   "cell_type": "markdown",
   "id": "ad04fe12",
   "metadata": {},
   "source": [
    "## 27. Show all allergies ordered by popularity. Remove 'NKA' and NULL values from query."
   ]
  },
  {
   "cell_type": "code",
   "execution_count": null,
   "id": "283a7eda",
   "metadata": {},
   "outputs": [],
   "source": []
  },
  {
   "cell_type": "markdown",
   "id": "ed100954",
   "metadata": {},
   "source": [
    "## 28. Show all patient's first_name, last_name, and birth_date who were born in the 1970s decade. Sort the list starting from the earliest birth_date."
   ]
  },
  {
   "cell_type": "code",
   "execution_count": null,
   "id": "057e0f93",
   "metadata": {},
   "outputs": [],
   "source": []
  },
  {
   "cell_type": "markdown",
   "id": "21a3e35c",
   "metadata": {},
   "source": [
    "## 29. We want to display each patient's full name in a single column. Their last_name in all upper letters must appear first, then first_name in all lower case letters. Separate the last_name and first_name with a comma. Order the list by the first_name in descending order. \n",
    "- EX.SMITH, jane"
   ]
  },
  {
   "cell_type": "code",
   "execution_count": null,
   "id": "6bde6f4f",
   "metadata": {},
   "outputs": [],
   "source": []
  },
  {
   "cell_type": "markdown",
   "id": "899a2fb4",
   "metadata": {},
   "source": [
    "## 30. Show the province_id(s), sum of height; where the total sum of its patient's height is greater than or equal to 7,000."
   ]
  },
  {
   "cell_type": "code",
   "execution_count": null,
   "id": "6a2efa15",
   "metadata": {},
   "outputs": [],
   "source": []
  },
  {
   "cell_type": "markdown",
   "id": "217f1f40",
   "metadata": {},
   "source": [
    "## 31. Show the difference between the largest weight and smallest weight for patients with the last name 'Maroni'"
   ]
  },
  {
   "cell_type": "code",
   "execution_count": null,
   "id": "38b73985",
   "metadata": {},
   "outputs": [],
   "source": []
  },
  {
   "cell_type": "markdown",
   "id": "7bfaf3ac",
   "metadata": {},
   "source": [
    "## 32. Show all the days of the month (1-31) and how many admission_dates occurred on that day. Sort the day with the most admissions to least admissions."
   ]
  },
  {
   "cell_type": "code",
   "execution_count": null,
   "id": "58c3deaa",
   "metadata": {},
   "outputs": [],
   "source": []
  },
  {
   "cell_type": "markdown",
   "id": "05fa4894",
   "metadata": {},
   "source": [
    "## 33. Show all columns for patient_id 542's most recent admission_date."
   ]
  },
  {
   "cell_type": "code",
   "execution_count": null,
   "id": "ae1e0f3d",
   "metadata": {},
   "outputs": [],
   "source": []
  },
  {
   "cell_type": "markdown",
   "id": "7a8b61af",
   "metadata": {},
   "source": [
    "## 34. Show patient_id, attending_doctor_id, and diagnosis for admissions that match one of the two criteria:\n",
    "1. patient_id is an odd number and attending_doctor_id is either 1, 5, or 19.\n",
    "2. attending_doctor_id contains a 2 and the length of patient_id is 3 characters."
   ]
  },
  {
   "cell_type": "code",
   "execution_count": null,
   "id": "aac3ee59",
   "metadata": {},
   "outputs": [],
   "source": []
  },
  {
   "cell_type": "markdown",
   "id": "101a9fdb",
   "metadata": {},
   "source": [
    "## 35. Show first_name, last_name, and the total number of admissions attended for each doctor. \n",
    "Every admission has been attended by a doctor."
   ]
  },
  {
   "cell_type": "code",
   "execution_count": null,
   "id": "6164a5cd",
   "metadata": {},
   "outputs": [],
   "source": []
  },
  {
   "cell_type": "markdown",
   "id": "d25f0bab",
   "metadata": {},
   "source": [
    "## 36. For each doctor, display their id, full name, and the first and last admission date they attended."
   ]
  },
  {
   "cell_type": "code",
   "execution_count": null,
   "id": "a63082a1",
   "metadata": {},
   "outputs": [],
   "source": []
  },
  {
   "cell_type": "markdown",
   "id": "0c33b85c",
   "metadata": {},
   "source": [
    "## 37. Display the total amount of patients for each province. Order by descending."
   ]
  },
  {
   "cell_type": "code",
   "execution_count": null,
   "id": "a37b331d",
   "metadata": {},
   "outputs": [],
   "source": []
  },
  {
   "cell_type": "markdown",
   "id": "df6199c3",
   "metadata": {},
   "source": [
    "## 38. For every admission, display the patients' full name, their admission diagnosis, and their doctor's full name who diagnosed their problem."
   ]
  },
  {
   "cell_type": "code",
   "execution_count": null,
   "id": "b8ce0581",
   "metadata": {},
   "outputs": [],
   "source": []
  },
  {
   "cell_type": "markdown",
   "id": "100cc294",
   "metadata": {},
   "source": [
    "## 39. Display the first name, last name and number of duplicate patients based on their first name and last name."
   ]
  },
  {
   "cell_type": "code",
   "execution_count": null,
   "id": "e936e197",
   "metadata": {},
   "outputs": [],
   "source": []
  },
  {
   "cell_type": "markdown",
   "id": "0bca1986",
   "metadata": {},
   "source": [
    "## 40. Display patient's full name, height in the unit feet rounded to 1 decimal, weight in the unit pounds rounded to 0 decimals, birth_date, gender non abbreviated.\n",
    "- Convert CM to feet by dividing by 30.48.\n",
    "- Convert KG to pounds by multiplying by 2.205."
   ]
  },
  {
   "cell_type": "code",
   "execution_count": null,
   "id": "118d2d89",
   "metadata": {},
   "outputs": [],
   "source": []
  },
  {
   "cell_type": "markdown",
   "id": "8e007032",
   "metadata": {},
   "source": [
    "## 41. Show patient_id, first_name, last_name from patients whose does not have any records in the admissions table. (Their patient_id does not exist in any admissions.patient_id rows.)"
   ]
  },
  {
   "cell_type": "code",
   "execution_count": null,
   "id": "a597c904",
   "metadata": {},
   "outputs": [],
   "source": []
  },
  {
   "cell_type": "markdown",
   "id": "8984e752",
   "metadata": {},
   "source": [
    "## 42. Display a single row with max_visits, min_visits, average_visits where the maximum, minimum and average number of admissions per day is calculated .\n",
    "- Average is rounded to 2 decimal places."
   ]
  },
  {
   "cell_type": "code",
   "execution_count": null,
   "id": "b97232c0",
   "metadata": {},
   "outputs": [],
   "source": []
  },
  {
   "cell_type": "markdown",
   "id": "991c0fa2",
   "metadata": {},
   "source": [
    "## 43. Display every patient that has at least one admission and show their most recent admission along with the patient and doctor's full name."
   ]
  },
  {
   "cell_type": "code",
   "execution_count": null,
   "id": "231d6aee",
   "metadata": {},
   "outputs": [],
   "source": []
  },
  {
   "cell_type": "markdown",
   "id": "e1365d06",
   "metadata": {},
   "source": [
    "# Hard Question (44-54)"
   ]
  },
  {
   "cell_type": "markdown",
   "id": "bfc0de7a",
   "metadata": {},
   "source": [
    "## 44. Show all of the patients grouped into weight groups.\n",
    "- Show the total amount of patients in each weight group. Order the list by weight group decending. \n",
    "- For example, if they weight 100 to 109 they are placed in the 100 weight group, 110-119 weight group, etc."
   ]
  },
  {
   "cell_type": "code",
   "execution_count": null,
   "id": "60abd654",
   "metadata": {},
   "outputs": [],
   "source": []
  },
  {
   "cell_type": "markdown",
   "id": "fa74474e",
   "metadata": {},
   "source": [
    "## 45. Show patient_id, weight, height, isObese from the patients table.\n",
    "- Display isObese as a boolean 0 or 1.\n",
    "- Obese is defined as weight(kg)/(height(m)^2) >= 30\n",
    "- weight is in unit kg.\n",
    "- height is in unit cm."
   ]
  },
  {
   "cell_type": "code",
   "execution_count": null,
   "id": "0365a8ec",
   "metadata": {},
   "outputs": [],
   "source": []
  },
  {
   "cell_type": "markdown",
   "id": "51e59ffd",
   "metadata": {},
   "source": [
    "## 46. Show patient_id, first_name, last_name, and attending doctor's specialty. \n",
    "- Show only the patients who has a diagnosis as 'Dementia' and the doctor's first name is 'Lisa'\n",
    "- Check patients, admissions, and doctors tables for required information."
   ]
  },
  {
   "cell_type": "code",
   "execution_count": null,
   "id": "e24d57d6",
   "metadata": {},
   "outputs": [],
   "source": []
  },
  {
   "cell_type": "markdown",
   "id": "d62cdc5d",
   "metadata": {},
   "source": [
    "## 47. All patients who have gone through admissions, can see their medical documents on our site. Those patients are given a temporary password after their first admission. Show the patient_id and temp_password.\n",
    "- The password must be the following, in order:\n",
    "    1. patient_id\n",
    "    2. the numerical length of patient's last_name\n",
    "    3. year of patient's birth_date"
   ]
  },
  {
   "cell_type": "code",
   "execution_count": null,
   "id": "8028418c",
   "metadata": {},
   "outputs": [],
   "source": []
  },
  {
   "cell_type": "markdown",
   "id": "214d6080",
   "metadata": {},
   "source": [
    "## 48. Each admision costs $50 for patients without insurance, and $10 for patients with insurance. All patients with an even patient_id have insurance.\n",
    "- Give each patient a 'Yes' if they have insurance, and a 'No' if they don't have insurance. Add up the admission_total cost for each has_insurance group."
   ]
  },
  {
   "cell_type": "code",
   "execution_count": null,
   "id": "c0e9a40a",
   "metadata": {},
   "outputs": [],
   "source": []
  },
  {
   "cell_type": "markdown",
   "id": "a07a2c7d",
   "metadata": {},
   "source": [
    "## 49. Show the provinces that has more patients identified as 'M' than 'F'. Must only show full province_name."
   ]
  },
  {
   "cell_type": "code",
   "execution_count": null,
   "id": "d9eb1f49",
   "metadata": {},
   "outputs": [],
   "source": [
    "        "
   ]
  },
  {
   "cell_type": "markdown",
   "id": "55cc80dc",
   "metadata": {},
   "source": [
    "## 50. We are looking for a specific patient. Pull all columns for the patient who matches the following criteria:\n",
    "- First_name contains an 'r' after the first two letters.\n",
    "- Identifies their gender as 'F'\n",
    "- Born in February, May, or December\n",
    "- Their weight would be between 60kg and 80kg\n",
    "- Their patient_id is an odd number\n",
    "- They are from the city 'Kingston'"
   ]
  },
  {
   "cell_type": "code",
   "execution_count": null,
   "id": "cdc88e08",
   "metadata": {},
   "outputs": [],
   "source": []
  },
  {
   "cell_type": "markdown",
   "id": "51771cc6",
   "metadata": {},
   "source": [
    "## 51."
   ]
  },
  {
   "cell_type": "code",
   "execution_count": null,
   "id": "870f61da",
   "metadata": {},
   "outputs": [],
   "source": []
  },
  {
   "cell_type": "markdown",
   "id": "f6b7cf19",
   "metadata": {},
   "source": [
    "## 52."
   ]
  },
  {
   "cell_type": "code",
   "execution_count": null,
   "id": "a229655c",
   "metadata": {},
   "outputs": [],
   "source": []
  },
  {
   "cell_type": "markdown",
   "id": "836de178",
   "metadata": {},
   "source": [
    "## 53."
   ]
  },
  {
   "cell_type": "code",
   "execution_count": null,
   "id": "7e10bc3e",
   "metadata": {},
   "outputs": [],
   "source": []
  },
  {
   "cell_type": "markdown",
   "id": "2d3b6f87",
   "metadata": {},
   "source": [
    "## 54."
   ]
  },
  {
   "cell_type": "code",
   "execution_count": null,
   "id": "f38f2e5f",
   "metadata": {},
   "outputs": [],
   "source": []
  },
  {
   "cell_type": "markdown",
   "id": "760e1112",
   "metadata": {},
   "source": [
    "## 55."
   ]
  },
  {
   "cell_type": "code",
   "execution_count": null,
   "id": "f4d3761d",
   "metadata": {},
   "outputs": [],
   "source": []
  },
  {
   "cell_type": "markdown",
   "id": "97c3486c",
   "metadata": {},
   "source": [
    "## 56."
   ]
  },
  {
   "cell_type": "code",
   "execution_count": null,
   "id": "847dca76",
   "metadata": {},
   "outputs": [],
   "source": []
  },
  {
   "cell_type": "markdown",
   "id": "36cc9166",
   "metadata": {},
   "source": [
    "## 57."
   ]
  },
  {
   "cell_type": "code",
   "execution_count": null,
   "id": "cb4b7eb5",
   "metadata": {},
   "outputs": [],
   "source": []
  },
  {
   "cell_type": "markdown",
   "id": "1696ce45",
   "metadata": {},
   "source": [
    "## 58."
   ]
  },
  {
   "cell_type": "code",
   "execution_count": null,
   "id": "3d104fee",
   "metadata": {},
   "outputs": [],
   "source": []
  },
  {
   "cell_type": "markdown",
   "id": "ac54e575",
   "metadata": {},
   "source": [
    "## 59."
   ]
  },
  {
   "cell_type": "code",
   "execution_count": null,
   "id": "b4fd9243",
   "metadata": {},
   "outputs": [],
   "source": []
  },
  {
   "cell_type": "markdown",
   "id": "10e267a1",
   "metadata": {},
   "source": [
    "## 60."
   ]
  },
  {
   "cell_type": "code",
   "execution_count": null,
   "id": "a6727742",
   "metadata": {},
   "outputs": [],
   "source": []
  },
  {
   "cell_type": "markdown",
   "id": "93b5d4db",
   "metadata": {},
   "source": [
    "## 61."
   ]
  },
  {
   "cell_type": "code",
   "execution_count": null,
   "id": "1773a1c3",
   "metadata": {},
   "outputs": [],
   "source": []
  },
  {
   "cell_type": "markdown",
   "id": "ca36ccc7",
   "metadata": {},
   "source": [
    "## 62."
   ]
  },
  {
   "cell_type": "code",
   "execution_count": null,
   "id": "ed7b53a2",
   "metadata": {},
   "outputs": [],
   "source": []
  },
  {
   "cell_type": "markdown",
   "id": "f68dde7a",
   "metadata": {},
   "source": [
    "## 63."
   ]
  },
  {
   "cell_type": "code",
   "execution_count": null,
   "id": "3bd3130f",
   "metadata": {},
   "outputs": [],
   "source": []
  },
  {
   "cell_type": "markdown",
   "id": "65c55ab0",
   "metadata": {},
   "source": [
    "## 64."
   ]
  },
  {
   "cell_type": "code",
   "execution_count": null,
   "id": "72c764e9",
   "metadata": {},
   "outputs": [],
   "source": []
  },
  {
   "cell_type": "markdown",
   "id": "3d09cae3",
   "metadata": {},
   "source": [
    "## 65."
   ]
  },
  {
   "cell_type": "code",
   "execution_count": null,
   "id": "cf1155aa",
   "metadata": {},
   "outputs": [],
   "source": []
  },
  {
   "cell_type": "markdown",
   "id": "dcdbe19e",
   "metadata": {},
   "source": [
    "## 66."
   ]
  },
  {
   "cell_type": "code",
   "execution_count": null,
   "id": "d41588cd",
   "metadata": {},
   "outputs": [],
   "source": []
  },
  {
   "cell_type": "markdown",
   "id": "56ab7e05",
   "metadata": {},
   "source": [
    "## 67."
   ]
  },
  {
   "cell_type": "code",
   "execution_count": null,
   "id": "6def2ecb",
   "metadata": {},
   "outputs": [],
   "source": []
  },
  {
   "cell_type": "markdown",
   "id": "0dac1dad",
   "metadata": {},
   "source": [
    "## 68."
   ]
  },
  {
   "cell_type": "code",
   "execution_count": null,
   "id": "9786ee0d",
   "metadata": {},
   "outputs": [],
   "source": []
  },
  {
   "cell_type": "markdown",
   "id": "84b92acb",
   "metadata": {},
   "source": [
    "## 69."
   ]
  },
  {
   "cell_type": "code",
   "execution_count": null,
   "id": "b9529ca2",
   "metadata": {},
   "outputs": [],
   "source": []
  },
  {
   "cell_type": "markdown",
   "id": "71546096",
   "metadata": {},
   "source": [
    "## 70."
   ]
  },
  {
   "cell_type": "code",
   "execution_count": null,
   "id": "263faef6",
   "metadata": {},
   "outputs": [],
   "source": []
  },
  {
   "cell_type": "markdown",
   "id": "6fecb29e",
   "metadata": {},
   "source": [
    "## 71."
   ]
  },
  {
   "cell_type": "code",
   "execution_count": null,
   "id": "e104d2df",
   "metadata": {},
   "outputs": [],
   "source": []
  },
  {
   "cell_type": "markdown",
   "id": "3d5d8a83",
   "metadata": {},
   "source": [
    "## 72."
   ]
  },
  {
   "cell_type": "code",
   "execution_count": null,
   "id": "76054e5f",
   "metadata": {},
   "outputs": [],
   "source": []
  },
  {
   "cell_type": "markdown",
   "id": "14c3ee12",
   "metadata": {},
   "source": [
    "## 73."
   ]
  },
  {
   "cell_type": "code",
   "execution_count": null,
   "id": "ac445039",
   "metadata": {},
   "outputs": [],
   "source": []
  },
  {
   "cell_type": "markdown",
   "id": "17e34dc4",
   "metadata": {},
   "source": [
    "## 74."
   ]
  },
  {
   "cell_type": "code",
   "execution_count": null,
   "id": "c0df7e6a",
   "metadata": {},
   "outputs": [],
   "source": []
  },
  {
   "cell_type": "markdown",
   "id": "936baff6",
   "metadata": {},
   "source": [
    "## 75."
   ]
  },
  {
   "cell_type": "code",
   "execution_count": null,
   "id": "4e2a1791",
   "metadata": {},
   "outputs": [],
   "source": []
  },
  {
   "cell_type": "markdown",
   "id": "46b2dffe",
   "metadata": {},
   "source": [
    "## 76."
   ]
  },
  {
   "cell_type": "code",
   "execution_count": null,
   "id": "8b5443fa",
   "metadata": {},
   "outputs": [],
   "source": []
  },
  {
   "cell_type": "markdown",
   "id": "ee67e2a1",
   "metadata": {},
   "source": [
    "## 77."
   ]
  },
  {
   "cell_type": "code",
   "execution_count": null,
   "id": "158310f2",
   "metadata": {},
   "outputs": [],
   "source": []
  },
  {
   "cell_type": "markdown",
   "id": "81c377d7",
   "metadata": {},
   "source": [
    "## 78."
   ]
  },
  {
   "cell_type": "code",
   "execution_count": null,
   "id": "0f8b6ffc",
   "metadata": {},
   "outputs": [],
   "source": []
  },
  {
   "cell_type": "markdown",
   "id": "fab54ceb",
   "metadata": {},
   "source": [
    "## 79."
   ]
  },
  {
   "cell_type": "code",
   "execution_count": null,
   "id": "f3373a3c",
   "metadata": {},
   "outputs": [],
   "source": []
  },
  {
   "cell_type": "markdown",
   "id": "53205650",
   "metadata": {},
   "source": [
    "## 80."
   ]
  },
  {
   "cell_type": "code",
   "execution_count": null,
   "id": "f94f4775",
   "metadata": {},
   "outputs": [],
   "source": []
  },
  {
   "cell_type": "markdown",
   "id": "3a40075c",
   "metadata": {},
   "source": [
    "## 81."
   ]
  },
  {
   "cell_type": "code",
   "execution_count": null,
   "id": "8051d013",
   "metadata": {},
   "outputs": [],
   "source": []
  },
  {
   "cell_type": "markdown",
   "id": "3d298fe7",
   "metadata": {},
   "source": [
    "## 82."
   ]
  },
  {
   "cell_type": "code",
   "execution_count": null,
   "id": "74d6791e",
   "metadata": {},
   "outputs": [],
   "source": []
  },
  {
   "cell_type": "markdown",
   "id": "e1517063",
   "metadata": {},
   "source": [
    "## 83."
   ]
  },
  {
   "cell_type": "code",
   "execution_count": null,
   "id": "08a635be",
   "metadata": {},
   "outputs": [],
   "source": []
  },
  {
   "cell_type": "markdown",
   "id": "f6ca45e6",
   "metadata": {},
   "source": [
    "## 84."
   ]
  },
  {
   "cell_type": "code",
   "execution_count": null,
   "id": "8864cdd1",
   "metadata": {},
   "outputs": [],
   "source": []
  },
  {
   "cell_type": "markdown",
   "id": "47a5ecdf",
   "metadata": {},
   "source": [
    "## 85."
   ]
  },
  {
   "cell_type": "code",
   "execution_count": null,
   "id": "bb211849",
   "metadata": {},
   "outputs": [],
   "source": []
  },
  {
   "cell_type": "markdown",
   "id": "f98d5d94",
   "metadata": {},
   "source": [
    "## 86."
   ]
  },
  {
   "cell_type": "code",
   "execution_count": null,
   "id": "77705901",
   "metadata": {},
   "outputs": [],
   "source": []
  },
  {
   "cell_type": "markdown",
   "id": "a2e45d4d",
   "metadata": {},
   "source": [
    "## 87."
   ]
  },
  {
   "cell_type": "code",
   "execution_count": null,
   "id": "2aa9f342",
   "metadata": {},
   "outputs": [],
   "source": []
  },
  {
   "cell_type": "markdown",
   "id": "1e042483",
   "metadata": {},
   "source": [
    "## 88."
   ]
  },
  {
   "cell_type": "code",
   "execution_count": null,
   "id": "e5dbbd8f",
   "metadata": {},
   "outputs": [],
   "source": []
  },
  {
   "cell_type": "markdown",
   "id": "e5953bf6",
   "metadata": {},
   "source": [
    "## 89."
   ]
  },
  {
   "cell_type": "code",
   "execution_count": null,
   "id": "44038689",
   "metadata": {},
   "outputs": [],
   "source": []
  },
  {
   "cell_type": "markdown",
   "id": "98a5799c",
   "metadata": {},
   "source": [
    "## 90."
   ]
  },
  {
   "cell_type": "code",
   "execution_count": null,
   "id": "53a6a524",
   "metadata": {},
   "outputs": [],
   "source": []
  },
  {
   "cell_type": "markdown",
   "id": "fc43183e",
   "metadata": {},
   "source": [
    "## 91."
   ]
  },
  {
   "cell_type": "code",
   "execution_count": null,
   "id": "bcc7784d",
   "metadata": {},
   "outputs": [],
   "source": []
  },
  {
   "cell_type": "markdown",
   "id": "ed670144",
   "metadata": {},
   "source": [
    "## 92."
   ]
  },
  {
   "cell_type": "code",
   "execution_count": null,
   "id": "74ecce36",
   "metadata": {},
   "outputs": [],
   "source": []
  },
  {
   "cell_type": "markdown",
   "id": "39b53613",
   "metadata": {},
   "source": [
    "## 93."
   ]
  },
  {
   "cell_type": "code",
   "execution_count": null,
   "id": "c44ddc45",
   "metadata": {},
   "outputs": [],
   "source": []
  },
  {
   "cell_type": "markdown",
   "id": "fb9a2434",
   "metadata": {},
   "source": [
    "## 94."
   ]
  },
  {
   "cell_type": "code",
   "execution_count": null,
   "id": "0cdb333c",
   "metadata": {},
   "outputs": [],
   "source": []
  },
  {
   "cell_type": "markdown",
   "id": "7cdd24ee",
   "metadata": {},
   "source": [
    "## 95."
   ]
  },
  {
   "cell_type": "code",
   "execution_count": null,
   "id": "996e26eb",
   "metadata": {},
   "outputs": [],
   "source": []
  },
  {
   "cell_type": "markdown",
   "id": "22d925fe",
   "metadata": {},
   "source": [
    "## 96."
   ]
  },
  {
   "cell_type": "code",
   "execution_count": null,
   "id": "d34ccc33",
   "metadata": {},
   "outputs": [],
   "source": []
  },
  {
   "cell_type": "markdown",
   "id": "aa21f817",
   "metadata": {},
   "source": [
    "## 97."
   ]
  },
  {
   "cell_type": "code",
   "execution_count": null,
   "id": "691ec7ae",
   "metadata": {},
   "outputs": [],
   "source": []
  },
  {
   "cell_type": "markdown",
   "id": "c5908d22",
   "metadata": {},
   "source": [
    "## 98."
   ]
  },
  {
   "cell_type": "code",
   "execution_count": null,
   "id": "7abb1fba",
   "metadata": {},
   "outputs": [],
   "source": []
  },
  {
   "cell_type": "markdown",
   "id": "33bb14ca",
   "metadata": {},
   "source": [
    "## 99."
   ]
  },
  {
   "cell_type": "code",
   "execution_count": null,
   "id": "9e08d79a",
   "metadata": {},
   "outputs": [],
   "source": []
  },
  {
   "cell_type": "markdown",
   "id": "41879158",
   "metadata": {},
   "source": [
    "## 100."
   ]
  },
  {
   "cell_type": "code",
   "execution_count": null,
   "id": "47b87ba7",
   "metadata": {},
   "outputs": [],
   "source": []
  }
 ],
 "metadata": {
  "kernelspec": {
   "display_name": "Python 3",
   "language": "python",
   "name": "python3"
  },
  "language_info": {
   "codemirror_mode": {
    "name": "ipython",
    "version": 3
   },
   "file_extension": ".py",
   "mimetype": "text/x-python",
   "name": "python",
   "nbconvert_exporter": "python",
   "pygments_lexer": "ipython3",
   "version": "3.13.5"
  }
 },
 "nbformat": 4,
 "nbformat_minor": 5
}
